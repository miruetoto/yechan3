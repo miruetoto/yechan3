{
 "cells": [
  {
   "cell_type": "raw",
   "metadata": {
    "vscode": {
     "languageId": "raw"
    }
   },
   "source": [
    "---\n",
    "title: \"(연구&서연) GODE -- 환경설정\"\n",
    "author: \"최규빈\"\n",
    "date: \"08/12/2024\"\n",
    "---"
   ]
  },
  {
   "cell_type": "markdown",
   "metadata": {
    "vscode": {
     "languageId": "raw"
    }
   },
   "source": [
    "```bash\n",
    "conda create -n gode python=3.10 \n",
    "conda install -c conda-forge r-essentials\n",
    "conda install r::rpy2\n",
    "conda install conda-forge::scikit-learn\n",
    "conda install conda-forge::pygsp\n",
    "conda install -c conda-forge notebook\n",
    "```"
   ]
  }
 ],
 "metadata": {
  "kernelspec": {
   "display_name": "Python 3",
   "language": "python",
   "name": "python3"
  },
  "language_info": {
   "codemirror_mode": {
    "name": "ipython",
    "version": 3
   },
   "file_extension": ".py",
   "mimetype": "text/x-python",
   "name": "python",
   "nbconvert_exporter": "python",
   "pygments_lexer": "ipython3",
   "version": "3.9.6"
  }
 },
 "nbformat": 4,
 "nbformat_minor": 2
}
