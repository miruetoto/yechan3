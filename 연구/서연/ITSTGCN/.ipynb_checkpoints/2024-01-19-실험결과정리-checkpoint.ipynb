{
 "cells": [
  {
   "cell_type": "raw",
   "id": "bafc5b20-e03f-46b7-b285-878eeac2fa5d",
   "metadata": {
    "id": "cac470df-29e7-4148-9bbd-d8b9a32fa570",
    "tags": []
   },
   "source": [
    "---\n",
    "title: \"(연구&서연) IT-STGCN -- 실험결과시각화\"\n",
    "author: \"SEOYEON CHOI\"\n",
    "date: \"2024-01-08\"\n",
    "execute: \n",
    "  enabled: true\n",
    "  cache: false\n",
    "  freeze: false\n",
    "  error: true\n",
    "---"
   ]
  },
  {
   "cell_type": "markdown",
   "id": "4d321343-315c-453f-a6ab-e52b6667ea26",
   "metadata": {},
   "source": [
    "# Imports "
   ]
  },
  {
   "cell_type": "markdown",
   "id": "57520240-6516-4457-978d-06c0daae5700",
   "metadata": {},
   "source": [
    "# Conditions"
   ]
  },
  {
   "cell_type": "markdown",
   "id": "8ffc7372-53e0-4094-a413-4702dc47fc5a",
   "metadata": {},
   "source": [
    "| Model               | FiveVTS | Chickenpox | Pedalme | Wikimath | Windmillsmall | MontevideoBus |\n",
    "|---------------------|---------|------------|---------|----------|---------------|---------------|\n",
    "| Max iter.           | 30      | 30         | 30      | 30       | 30            | 30            |\n",
    "| Epochs              | 50      | 50         | 50      | 50       | 50            | 50            |\n",
    "| Lags                | 2       | 4          | 4       | 8        | 8             | 4             |\n",
    "| Interpolation       | linear  | linear     | nearest | linear   | linear        | nearest       |\n",
    "| Filters             |         |            |         |          |               |               |\n",
    "| GConvGRU            | 12      | 16         | 12      | 12       | 12            | 12            |\n",
    "| GConvLSTM           | 12      | 32         | 2       | 64       | 16            | 12            |\n",
    "| GCLSTM              | 4       | 16         | 4       | 64       | 16            | 12            |\n",
    "| LRGCN               | 4       | 8          | 8       | 32       | 12            | 2             |\n",
    "| DyGrEncoder         | 12      | 12         | 12      | 12       | 12            | 12            |\n",
    "| EvolveGCNH          | No need | No need    | No need | No need  | No need       | No need       |\n",
    "| EvolveGCNO          | No need | No need    | No need | No need  | No need       | No need       |\n",
    "| TGCN                | 12      | 12         | 12      | 12       | 12            | 8             |\n",
    "| DCRNN               | 2       | 16         | 8       | 12       | 4             | 12            |\n"
   ]
  },
  {
   "cell_type": "markdown",
   "id": "d64e5aa7-981a-473e-86e4-788bc20c0776",
   "metadata": {},
   "source": [
    "# Import"
   ]
  },
  {
   "cell_type": "code",
   "execution_count": 1,
   "id": "c533477a-7e40-48ec-afd2-8ae980a5b378",
   "metadata": {},
   "outputs": [],
   "source": [
    "import pandas as pd\n",
    "import numpy as np\n",
    "\n",
    "import plotly.express as px\n",
    "import plotly.graph_objects as go\n",
    "import pickle\n",
    "\n",
    "import plotly.io as pio"
   ]
  },
  {
   "cell_type": "code",
   "execution_count": 2,
   "id": "a74da524-127e-4724-b222-88d65b059aed",
   "metadata": {},
   "outputs": [],
   "source": [
    "pd.options.plotting.backend = \"plotly\"\n",
    "pio.templates.default = \"plotly_white\""
   ]
  },
  {
   "cell_type": "markdown",
   "id": "93d5d61e-292e-46d6-a583-0f6e6c8c598c",
   "metadata": {},
   "source": [
    "# Data & 사용자정의함수"
   ]
  },
  {
   "cell_type": "code",
   "execution_count": 3,
   "id": "0029d80d-2795-480c-9753-0075f29de94c",
   "metadata": {},
   "outputs": [],
   "source": [
    "df_dataset = pd.DataFrame({\n",
    "    'dataset':['fivenodes','chickenpox','pedalme','wikimath','windmillsmall','monte'],\n",
    "    'node':[5,20,15,1068,11,675],\n",
    "    'time':[200,522,36,731,17472,744]\n",
    "})\n",
    "df = pd.read_csv('./Body_Results.csv').iloc[:,1:]\\\n",
    ".merge(df_dataset)\\\n",
    ".assign(method = lambda df: df['method'].map({'STGCN':'STGNN','IT-STGCN':'IT-STGNN'}))"
   ]
  },
  {
   "cell_type": "code",
   "execution_count": 4,
   "id": "05c74686-5fe7-40e9-b22c-6e2cbe2946ac",
   "metadata": {},
   "outputs": [
    {
     "data": {
      "text/html": [
       "<div>\n",
       "<style scoped>\n",
       "    .dataframe tbody tr th:only-of-type {\n",
       "        vertical-align: middle;\n",
       "    }\n",
       "\n",
       "    .dataframe tbody tr th {\n",
       "        vertical-align: top;\n",
       "    }\n",
       "\n",
       "    .dataframe thead th {\n",
       "        text-align: right;\n",
       "    }\n",
       "</style>\n",
       "<table border=\"1\" class=\"dataframe\">\n",
       "  <thead>\n",
       "    <tr style=\"text-align: right;\">\n",
       "      <th></th>\n",
       "      <th>dataset</th>\n",
       "      <th>method</th>\n",
       "      <th>mrate</th>\n",
       "      <th>mtype</th>\n",
       "      <th>lags</th>\n",
       "      <th>nof_filters</th>\n",
       "      <th>inter_method</th>\n",
       "      <th>epoch</th>\n",
       "      <th>mse</th>\n",
       "      <th>calculation_time</th>\n",
       "      <th>model</th>\n",
       "      <th>node</th>\n",
       "      <th>time</th>\n",
       "    </tr>\n",
       "  </thead>\n",
       "  <tbody>\n",
       "    <tr>\n",
       "      <th>0</th>\n",
       "      <td>fivenodes</td>\n",
       "      <td>STGNN</td>\n",
       "      <td>0.0</td>\n",
       "      <td>NaN</td>\n",
       "      <td>2</td>\n",
       "      <td>12.0</td>\n",
       "      <td>NaN</td>\n",
       "      <td>50.0</td>\n",
       "      <td>0.729374</td>\n",
       "      <td>80.985221</td>\n",
       "      <td>GConvGRU</td>\n",
       "      <td>5</td>\n",
       "      <td>200</td>\n",
       "    </tr>\n",
       "    <tr>\n",
       "      <th>1</th>\n",
       "      <td>fivenodes</td>\n",
       "      <td>STGNN</td>\n",
       "      <td>0.0</td>\n",
       "      <td>NaN</td>\n",
       "      <td>2</td>\n",
       "      <td>12.0</td>\n",
       "      <td>NaN</td>\n",
       "      <td>50.0</td>\n",
       "      <td>0.729082</td>\n",
       "      <td>80.891788</td>\n",
       "      <td>GConvGRU</td>\n",
       "      <td>5</td>\n",
       "      <td>200</td>\n",
       "    </tr>\n",
       "    <tr>\n",
       "      <th>2</th>\n",
       "      <td>fivenodes</td>\n",
       "      <td>IT-STGNN</td>\n",
       "      <td>0.0</td>\n",
       "      <td>NaN</td>\n",
       "      <td>2</td>\n",
       "      <td>12.0</td>\n",
       "      <td>NaN</td>\n",
       "      <td>50.0</td>\n",
       "      <td>0.731600</td>\n",
       "      <td>114.492592</td>\n",
       "      <td>GConvGRU</td>\n",
       "      <td>5</td>\n",
       "      <td>200</td>\n",
       "    </tr>\n",
       "    <tr>\n",
       "      <th>3</th>\n",
       "      <td>fivenodes</td>\n",
       "      <td>IT-STGNN</td>\n",
       "      <td>0.0</td>\n",
       "      <td>NaN</td>\n",
       "      <td>2</td>\n",
       "      <td>12.0</td>\n",
       "      <td>NaN</td>\n",
       "      <td>50.0</td>\n",
       "      <td>0.735026</td>\n",
       "      <td>115.544274</td>\n",
       "      <td>GConvGRU</td>\n",
       "      <td>5</td>\n",
       "      <td>200</td>\n",
       "    </tr>\n",
       "    <tr>\n",
       "      <th>4</th>\n",
       "      <td>fivenodes</td>\n",
       "      <td>STGNN</td>\n",
       "      <td>0.0</td>\n",
       "      <td>NaN</td>\n",
       "      <td>2</td>\n",
       "      <td>12.0</td>\n",
       "      <td>NaN</td>\n",
       "      <td>50.0</td>\n",
       "      <td>0.727182</td>\n",
       "      <td>102.783140</td>\n",
       "      <td>GConvGRU</td>\n",
       "      <td>5</td>\n",
       "      <td>200</td>\n",
       "    </tr>\n",
       "  </tbody>\n",
       "</table>\n",
       "</div>"
      ],
      "text/plain": [
       "     dataset    method  mrate mtype  lags  nof_filters inter_method  epoch  \\\n",
       "0  fivenodes     STGNN    0.0   NaN     2         12.0          NaN   50.0   \n",
       "1  fivenodes     STGNN    0.0   NaN     2         12.0          NaN   50.0   \n",
       "2  fivenodes  IT-STGNN    0.0   NaN     2         12.0          NaN   50.0   \n",
       "3  fivenodes  IT-STGNN    0.0   NaN     2         12.0          NaN   50.0   \n",
       "4  fivenodes     STGNN    0.0   NaN     2         12.0          NaN   50.0   \n",
       "\n",
       "        mse  calculation_time     model  node  time  \n",
       "0  0.729374         80.985221  GConvGRU     5   200  \n",
       "1  0.729082         80.891788  GConvGRU     5   200  \n",
       "2  0.731600        114.492592  GConvGRU     5   200  \n",
       "3  0.735026        115.544274  GConvGRU     5   200  \n",
       "4  0.727182        102.783140  GConvGRU     5   200  "
      ]
     },
     "execution_count": 4,
     "metadata": {},
     "output_type": "execute_result"
    }
   ],
   "source": [
    "df.head()"
   ]
  },
  {
   "cell_type": "code",
   "execution_count": 5,
   "id": "217d71bc-a7a2-41cd-b0e3-33bce521b95e",
   "metadata": {},
   "outputs": [
    {
     "data": {
      "text/html": [
       "<div>\n",
       "<style scoped>\n",
       "    .dataframe tbody tr th:only-of-type {\n",
       "        vertical-align: middle;\n",
       "    }\n",
       "\n",
       "    .dataframe tbody tr th {\n",
       "        vertical-align: top;\n",
       "    }\n",
       "\n",
       "    .dataframe thead th {\n",
       "        text-align: right;\n",
       "    }\n",
       "</style>\n",
       "<table border=\"1\" class=\"dataframe\">\n",
       "  <thead>\n",
       "    <tr style=\"text-align: right;\">\n",
       "      <th></th>\n",
       "      <th>dataset</th>\n",
       "      <th>method</th>\n",
       "      <th>mrate</th>\n",
       "      <th>mtype</th>\n",
       "      <th>lags</th>\n",
       "      <th>nof_filters</th>\n",
       "      <th>inter_method</th>\n",
       "      <th>epoch</th>\n",
       "      <th>mse</th>\n",
       "      <th>calculation_time</th>\n",
       "      <th>model</th>\n",
       "      <th>node</th>\n",
       "      <th>time</th>\n",
       "    </tr>\n",
       "  </thead>\n",
       "  <tbody>\n",
       "    <tr>\n",
       "      <th>0</th>\n",
       "      <td>fivenodes</td>\n",
       "      <td>STGNN</td>\n",
       "      <td>0.0</td>\n",
       "      <td>NaN</td>\n",
       "      <td>2</td>\n",
       "      <td>12.0</td>\n",
       "      <td>NaN</td>\n",
       "      <td>50.0</td>\n",
       "      <td>0.729374</td>\n",
       "      <td>80.985221</td>\n",
       "      <td>GConvGRU</td>\n",
       "      <td>5</td>\n",
       "      <td>200</td>\n",
       "    </tr>\n",
       "    <tr>\n",
       "      <th>1</th>\n",
       "      <td>fivenodes</td>\n",
       "      <td>STGNN</td>\n",
       "      <td>0.0</td>\n",
       "      <td>NaN</td>\n",
       "      <td>2</td>\n",
       "      <td>12.0</td>\n",
       "      <td>NaN</td>\n",
       "      <td>50.0</td>\n",
       "      <td>0.729082</td>\n",
       "      <td>80.891788</td>\n",
       "      <td>GConvGRU</td>\n",
       "      <td>5</td>\n",
       "      <td>200</td>\n",
       "    </tr>\n",
       "    <tr>\n",
       "      <th>2</th>\n",
       "      <td>fivenodes</td>\n",
       "      <td>IT-STGNN</td>\n",
       "      <td>0.0</td>\n",
       "      <td>NaN</td>\n",
       "      <td>2</td>\n",
       "      <td>12.0</td>\n",
       "      <td>NaN</td>\n",
       "      <td>50.0</td>\n",
       "      <td>0.731600</td>\n",
       "      <td>114.492592</td>\n",
       "      <td>IT-GConvGRU</td>\n",
       "      <td>5</td>\n",
       "      <td>200</td>\n",
       "    </tr>\n",
       "    <tr>\n",
       "      <th>3</th>\n",
       "      <td>fivenodes</td>\n",
       "      <td>IT-STGNN</td>\n",
       "      <td>0.0</td>\n",
       "      <td>NaN</td>\n",
       "      <td>2</td>\n",
       "      <td>12.0</td>\n",
       "      <td>NaN</td>\n",
       "      <td>50.0</td>\n",
       "      <td>0.735026</td>\n",
       "      <td>115.544274</td>\n",
       "      <td>IT-GConvGRU</td>\n",
       "      <td>5</td>\n",
       "      <td>200</td>\n",
       "    </tr>\n",
       "    <tr>\n",
       "      <th>4</th>\n",
       "      <td>fivenodes</td>\n",
       "      <td>STGNN</td>\n",
       "      <td>0.0</td>\n",
       "      <td>NaN</td>\n",
       "      <td>2</td>\n",
       "      <td>12.0</td>\n",
       "      <td>NaN</td>\n",
       "      <td>50.0</td>\n",
       "      <td>0.727182</td>\n",
       "      <td>102.783140</td>\n",
       "      <td>GConvGRU</td>\n",
       "      <td>5</td>\n",
       "      <td>200</td>\n",
       "    </tr>\n",
       "  </tbody>\n",
       "</table>\n",
       "</div>"
      ],
      "text/plain": [
       "     dataset    method  mrate mtype  lags  nof_filters inter_method  epoch  \\\n",
       "0  fivenodes     STGNN    0.0   NaN     2         12.0          NaN   50.0   \n",
       "1  fivenodes     STGNN    0.0   NaN     2         12.0          NaN   50.0   \n",
       "2  fivenodes  IT-STGNN    0.0   NaN     2         12.0          NaN   50.0   \n",
       "3  fivenodes  IT-STGNN    0.0   NaN     2         12.0          NaN   50.0   \n",
       "4  fivenodes     STGNN    0.0   NaN     2         12.0          NaN   50.0   \n",
       "\n",
       "        mse  calculation_time        model  node  time  \n",
       "0  0.729374         80.985221     GConvGRU     5   200  \n",
       "1  0.729082         80.891788     GConvGRU     5   200  \n",
       "2  0.731600        114.492592  IT-GConvGRU     5   200  \n",
       "3  0.735026        115.544274  IT-GConvGRU     5   200  \n",
       "4  0.727182        102.783140     GConvGRU     5   200  "
      ]
     },
     "execution_count": 5,
     "metadata": {},
     "output_type": "execute_result"
    }
   ],
   "source": [
    "df2 = df.assign(model = lambda df: df.model.apply(lambda x: '' if x == \"GNAR\" else x))\\\n",
    ".eval('model = method+model')\\\n",
    ".assign(model = lambda df: df.model.str.replace(\"STGNN\",\"\"))\n",
    "df2.head()"
   ]
  },
  {
   "cell_type": "code",
   "execution_count": 6,
   "id": "0e608b3c-f4f9-49e8-bcc3-b348c07aff46",
   "metadata": {},
   "outputs": [],
   "source": [
    "def show_experiment_spec(df):\n",
    "    df_cols = ['method','mrate','mtype','lags','nof_filters','inter_method','epoch','model']\n",
    "    for dataset in df.dataset.unique():\n",
    "        print(f'dataset: {dataset}')\n",
    "        for col in df_cols: \n",
    "            df_query = df[df['dataset'] == dataset]\n",
    "            print(f'{col}: {df_query[col].unique().tolist()}')\n",
    "        print('---')"
   ]
  },
  {
   "cell_type": "markdown",
   "id": "32804be5-fea9-435f-ac51-86f74001f755",
   "metadata": {},
   "source": [
    "`-` 데이터세트별 실험셋팅 "
   ]
  },
  {
   "cell_type": "code",
   "execution_count": 7,
   "id": "d4494dec-dabe-4a2d-a2f2-bd263f0b785a",
   "metadata": {},
   "outputs": [
    {
     "name": "stdout",
     "output_type": "stream",
     "text": [
      "dataset: fivenodes\n",
      "method: ['STGNN', 'IT-STGNN', nan]\n",
      "mrate: [0.0, 0.7, 0.8, 0.3, 0.5, 0.6, 0.125]\n",
      "mtype: [nan, 'rand', 'block']\n",
      "lags: [2]\n",
      "nof_filters: [12.0, 4.0, 2.0, nan]\n",
      "inter_method: [nan, 'linear']\n",
      "epoch: [50.0, nan]\n",
      "model: ['GConvGRU', 'GConvLSTM', 'GCLSTM', 'DCRNN', 'LRGCN', 'TGCN', 'EvolveGCNO', 'DyGrEncoder', 'EvolveGCNH', 'GNAR']\n",
      "---\n",
      "dataset: chickenpox\n",
      "method: ['STGNN', 'IT-STGNN', nan]\n",
      "mrate: [0.0, 0.3, 0.8, 0.5, 0.6, 0.2877697841726618]\n",
      "mtype: [nan, 'rand', 'block']\n",
      "lags: [4]\n",
      "nof_filters: [16.0, 32.0, 8.0, 12.0, nan]\n",
      "inter_method: [nan, 'linear']\n",
      "epoch: [50.0, nan]\n",
      "model: ['GConvGRU', 'GConvLSTM', 'GCLSTM', 'DCRNN', 'LRGCN', 'TGCN', 'EvolveGCNO', 'DyGrEncoder', 'EvolveGCNH', 'GNAR']\n",
      "---\n",
      "dataset: pedalme\n",
      "method: ['STGNN', 'IT-STGNN', nan]\n",
      "mrate: [0.0, 0.3, 0.6, 0.5, 0.8, 0.2857142857142857]\n",
      "mtype: [nan, 'rand', 'block']\n",
      "lags: [4]\n",
      "nof_filters: [12.0, 2.0, 4.0, 8.0, nan]\n",
      "inter_method: [nan, 'nearest', 'linear']\n",
      "epoch: [50.0, nan]\n",
      "model: ['GConvGRU', 'GConvLSTM', 'GCLSTM', 'DCRNN', 'LRGCN', 'TGCN', 'EvolveGCNO', 'DyGrEncoder', 'EvolveGCNH', 'GNAR']\n",
      "---\n",
      "dataset: wikimath\n",
      "method: ['STGNN', 'IT-STGNN', nan]\n",
      "mrate: [0.3, 0.8, 0.0, 0.0958699236875407, 0.0038347969475016, 0.5, 0.1198374046094259, 0.6]\n",
      "mtype: ['rand', nan, 'block']\n",
      "lags: [8]\n",
      "nof_filters: [12.0, 64.0, 32.0, nan]\n",
      "inter_method: ['linear', nan]\n",
      "epoch: [50.0, nan]\n",
      "model: ['GConvGRU', 'GConvLSTM', 'GCLSTM', 'DCRNN', 'LRGCN', 'TGCN', 'EvolveGCNO', 'DyGrEncoder', 'EvolveGCNH', 'GNAR']\n",
      "---\n",
      "dataset: windmillsmall\n",
      "method: ['STGNN', 'IT-STGNN']\n",
      "mrate: [0.0, 0.7, 0.0812907673198108]\n",
      "mtype: [nan, 'rand', 'block']\n",
      "lags: [8]\n",
      "nof_filters: [12.0, 16.0, 4.0]\n",
      "inter_method: [nan, 'linear']\n",
      "epoch: [50.0]\n",
      "model: ['GConvGRU', 'GConvLSTM', 'GCLSTM', 'DCRNN', 'LRGCN', 'TGCN', 'EvolveGCNO', 'DyGrEncoder', 'EvolveGCNH']\n",
      "---\n",
      "dataset: monte\n",
      "method: ['STGNN', 'IT-STGNN', nan]\n",
      "mrate: [0.8, 0.0, 0.1491424310216256, 0.3, 0.5, 0.7]\n",
      "mtype: ['rand', nan, 'block']\n",
      "lags: [4]\n",
      "nof_filters: [12.0, 2.0, 8.0, nan]\n",
      "inter_method: ['nearest', nan, 'cubic', 'linear']\n",
      "epoch: [50.0, nan]\n",
      "model: ['GConvGRU', 'GConvLSTM', 'GCLSTM', 'DCRNN', 'LRGCN', 'TGCN', 'EvolveGCNO', 'DyGrEncoder', 'EvolveGCNH', 'GNAR']\n",
      "---\n"
     ]
    }
   ],
   "source": [
    "show_experiment_spec(df)"
   ]
  },
  {
   "cell_type": "markdown",
   "id": "241494f6-771b-4cdd-97aa-a854123ee22e",
   "metadata": {},
   "source": [
    "`-` 요약 "
   ]
  },
  {
   "cell_type": "code",
   "execution_count": 8,
   "id": "aedbe830-ef9a-41b7-b138-9a96960c4624",
   "metadata": {},
   "outputs": [
    {
     "data": {
      "text/html": [
       "<div>\n",
       "<style scoped>\n",
       "    .dataframe tbody tr th:only-of-type {\n",
       "        vertical-align: middle;\n",
       "    }\n",
       "\n",
       "    .dataframe tbody tr th {\n",
       "        vertical-align: top;\n",
       "    }\n",
       "\n",
       "    .dataframe thead th {\n",
       "        text-align: right;\n",
       "    }\n",
       "</style>\n",
       "<table border=\"1\" class=\"dataframe\">\n",
       "  <thead>\n",
       "    <tr style=\"text-align: right;\">\n",
       "      <th>dataset</th>\n",
       "      <th>chickenpox</th>\n",
       "      <th>fivenodes</th>\n",
       "      <th>monte</th>\n",
       "      <th>pedalme</th>\n",
       "      <th>wikimath</th>\n",
       "      <th>windmillsmall</th>\n",
       "    </tr>\n",
       "    <tr>\n",
       "      <th>model</th>\n",
       "      <th></th>\n",
       "      <th></th>\n",
       "      <th></th>\n",
       "      <th></th>\n",
       "      <th></th>\n",
       "      <th></th>\n",
       "    </tr>\n",
       "  </thead>\n",
       "  <tbody>\n",
       "    <tr>\n",
       "      <th>DCRNN</th>\n",
       "      <td>1.363376</td>\n",
       "      <td>1.253446</td>\n",
       "      <td>1.076230</td>\n",
       "      <td>1.380833</td>\n",
       "      <td>0.657926</td>\n",
       "      <td>1.109669</td>\n",
       "    </tr>\n",
       "    <tr>\n",
       "      <th>DyGrEncoder</th>\n",
       "      <td>1.394786</td>\n",
       "      <td>1.344759</td>\n",
       "      <td>1.216260</td>\n",
       "      <td>1.382424</td>\n",
       "      <td>0.615986</td>\n",
       "      <td>1.226737</td>\n",
       "    </tr>\n",
       "    <tr>\n",
       "      <th>EvolveGCNH</th>\n",
       "      <td>1.095934</td>\n",
       "      <td>1.195548</td>\n",
       "      <td>1.698181</td>\n",
       "      <td>1.262356</td>\n",
       "      <td>0.815505</td>\n",
       "      <td>1.102934</td>\n",
       "    </tr>\n",
       "    <tr>\n",
       "      <th>EvolveGCNO</th>\n",
       "      <td>1.108809</td>\n",
       "      <td>1.186119</td>\n",
       "      <td>1.899377</td>\n",
       "      <td>1.274168</td>\n",
       "      <td>0.768218</td>\n",
       "      <td>1.155712</td>\n",
       "    </tr>\n",
       "    <tr>\n",
       "      <th>GCLSTM</th>\n",
       "      <td>1.387697</td>\n",
       "      <td>1.239241</td>\n",
       "      <td>1.041865</td>\n",
       "      <td>1.298337</td>\n",
       "      <td>0.855066</td>\n",
       "      <td>1.183466</td>\n",
       "    </tr>\n",
       "    <tr>\n",
       "      <th>GConvGRU</th>\n",
       "      <td>1.413279</td>\n",
       "      <td>1.427002</td>\n",
       "      <td>1.156958</td>\n",
       "      <td>1.570961</td>\n",
       "      <td>0.627924</td>\n",
       "      <td>1.224359</td>\n",
       "    </tr>\n",
       "    <tr>\n",
       "      <th>GConvLSTM</th>\n",
       "      <td>1.463041</td>\n",
       "      <td>1.307044</td>\n",
       "      <td>1.033401</td>\n",
       "      <td>1.273160</td>\n",
       "      <td>0.926050</td>\n",
       "      <td>1.203743</td>\n",
       "    </tr>\n",
       "    <tr>\n",
       "      <th>IT-DCRNN</th>\n",
       "      <td>0.928737</td>\n",
       "      <td>1.237063</td>\n",
       "      <td>0.983930</td>\n",
       "      <td>1.253734</td>\n",
       "      <td>0.601082</td>\n",
       "      <td>1.029309</td>\n",
       "    </tr>\n",
       "    <tr>\n",
       "      <th>IT-DyGrEncoder</th>\n",
       "      <td>1.000579</td>\n",
       "      <td>1.192339</td>\n",
       "      <td>1.088884</td>\n",
       "      <td>1.260758</td>\n",
       "      <td>0.573470</td>\n",
       "      <td>1.033515</td>\n",
       "    </tr>\n",
       "    <tr>\n",
       "      <th>IT-EvolveGCNH</th>\n",
       "      <td>1.039267</td>\n",
       "      <td>1.188203</td>\n",
       "      <td>1.522470</td>\n",
       "      <td>1.247553</td>\n",
       "      <td>0.799767</td>\n",
       "      <td>1.033621</td>\n",
       "    </tr>\n",
       "    <tr>\n",
       "      <th>IT-EvolveGCNO</th>\n",
       "      <td>1.036015</td>\n",
       "      <td>1.176323</td>\n",
       "      <td>1.625742</td>\n",
       "      <td>1.256876</td>\n",
       "      <td>0.745595</td>\n",
       "      <td>1.038590</td>\n",
       "    </tr>\n",
       "    <tr>\n",
       "      <th>IT-GCLSTM</th>\n",
       "      <td>0.980609</td>\n",
       "      <td>1.219957</td>\n",
       "      <td>0.981082</td>\n",
       "      <td>1.234683</td>\n",
       "      <td>0.667062</td>\n",
       "      <td>1.031214</td>\n",
       "    </tr>\n",
       "    <tr>\n",
       "      <th>IT-GConvGRU</th>\n",
       "      <td>1.012213</td>\n",
       "      <td>1.161540</td>\n",
       "      <td>0.979518</td>\n",
       "      <td>1.441209</td>\n",
       "      <td>0.547157</td>\n",
       "      <td>1.068051</td>\n",
       "    </tr>\n",
       "    <tr>\n",
       "      <th>IT-GConvLSTM</th>\n",
       "      <td>1.016799</td>\n",
       "      <td>1.197745</td>\n",
       "      <td>0.993305</td>\n",
       "      <td>1.237896</td>\n",
       "      <td>0.700808</td>\n",
       "      <td>1.051024</td>\n",
       "    </tr>\n",
       "    <tr>\n",
       "      <th>IT-LRGCN</th>\n",
       "      <td>0.984170</td>\n",
       "      <td>1.224613</td>\n",
       "      <td>0.979295</td>\n",
       "      <td>1.256735</td>\n",
       "      <td>0.645970</td>\n",
       "      <td>1.027201</td>\n",
       "    </tr>\n",
       "    <tr>\n",
       "      <th>IT-TGCN</th>\n",
       "      <td>1.078204</td>\n",
       "      <td>1.105367</td>\n",
       "      <td>1.007876</td>\n",
       "      <td>1.271275</td>\n",
       "      <td>0.747570</td>\n",
       "      <td>1.018442</td>\n",
       "    </tr>\n",
       "    <tr>\n",
       "      <th>LRGCN</th>\n",
       "      <td>1.262286</td>\n",
       "      <td>1.238219</td>\n",
       "      <td>0.983010</td>\n",
       "      <td>1.351574</td>\n",
       "      <td>0.796974</td>\n",
       "      <td>1.154771</td>\n",
       "    </tr>\n",
       "    <tr>\n",
       "      <th>TGCN</th>\n",
       "      <td>1.183128</td>\n",
       "      <td>1.134089</td>\n",
       "      <td>1.083858</td>\n",
       "      <td>1.277063</td>\n",
       "      <td>0.761045</td>\n",
       "      <td>1.097982</td>\n",
       "    </tr>\n",
       "  </tbody>\n",
       "</table>\n",
       "</div>"
      ],
      "text/plain": [
       "dataset         chickenpox  fivenodes     monte   pedalme  wikimath  \\\n",
       "model                                                                 \n",
       "DCRNN             1.363376   1.253446  1.076230  1.380833  0.657926   \n",
       "DyGrEncoder       1.394786   1.344759  1.216260  1.382424  0.615986   \n",
       "EvolveGCNH        1.095934   1.195548  1.698181  1.262356  0.815505   \n",
       "EvolveGCNO        1.108809   1.186119  1.899377  1.274168  0.768218   \n",
       "GCLSTM            1.387697   1.239241  1.041865  1.298337  0.855066   \n",
       "GConvGRU          1.413279   1.427002  1.156958  1.570961  0.627924   \n",
       "GConvLSTM         1.463041   1.307044  1.033401  1.273160  0.926050   \n",
       "IT-DCRNN          0.928737   1.237063  0.983930  1.253734  0.601082   \n",
       "IT-DyGrEncoder    1.000579   1.192339  1.088884  1.260758  0.573470   \n",
       "IT-EvolveGCNH     1.039267   1.188203  1.522470  1.247553  0.799767   \n",
       "IT-EvolveGCNO     1.036015   1.176323  1.625742  1.256876  0.745595   \n",
       "IT-GCLSTM         0.980609   1.219957  0.981082  1.234683  0.667062   \n",
       "IT-GConvGRU       1.012213   1.161540  0.979518  1.441209  0.547157   \n",
       "IT-GConvLSTM      1.016799   1.197745  0.993305  1.237896  0.700808   \n",
       "IT-LRGCN          0.984170   1.224613  0.979295  1.256735  0.645970   \n",
       "IT-TGCN           1.078204   1.105367  1.007876  1.271275  0.747570   \n",
       "LRGCN             1.262286   1.238219  0.983010  1.351574  0.796974   \n",
       "TGCN              1.183128   1.134089  1.083858  1.277063  0.761045   \n",
       "\n",
       "dataset         windmillsmall  \n",
       "model                          \n",
       "DCRNN                1.109669  \n",
       "DyGrEncoder          1.226737  \n",
       "EvolveGCNH           1.102934  \n",
       "EvolveGCNO           1.155712  \n",
       "GCLSTM               1.183466  \n",
       "GConvGRU             1.224359  \n",
       "GConvLSTM            1.203743  \n",
       "IT-DCRNN             1.029309  \n",
       "IT-DyGrEncoder       1.033515  \n",
       "IT-EvolveGCNH        1.033621  \n",
       "IT-EvolveGCNO        1.038590  \n",
       "IT-GCLSTM            1.031214  \n",
       "IT-GConvGRU          1.068051  \n",
       "IT-GConvLSTM         1.051024  \n",
       "IT-LRGCN             1.027201  \n",
       "IT-TGCN              1.018442  \n",
       "LRGCN                1.154771  \n",
       "TGCN                 1.097982  "
      ]
     },
     "execution_count": 8,
     "metadata": {},
     "output_type": "execute_result"
    }
   ],
   "source": [
    "df_summary = df2.groupby([\"method\",\"dataset\",\"mrate\",\"model\"]).agg({'mse':'mean'}).reset_index()\\\n",
    ".pivot_table(index=['model'],columns=['dataset'],values='mse')\n",
    "df_summary"
   ]
  },
  {
   "cell_type": "markdown",
   "id": "cb9ebbf2-5feb-483e-afbb-94592a28fd9d",
   "metadata": {},
   "source": [
    "# 시각화1: MissingRate (본문)"
   ]
  },
  {
   "cell_type": "code",
   "execution_count": 9,
   "id": "dde27dd1-f3a7-4ff5-9830-809c74d0d561",
   "metadata": {},
   "outputs": [
    {
     "data": {
      "text/html": [
       "        <script type=\"text/javascript\">\n",
       "        window.PlotlyConfig = {MathJaxConfig: 'local'};\n",
       "        if (window.MathJax && window.MathJax.Hub && window.MathJax.Hub.Config) {window.MathJax.Hub.Config({SVG: {font: \"STIX-Web\"}});}\n",
       "        if (typeof require !== 'undefined') {\n",
       "        require.undef(\"plotly\");\n",
       "        requirejs.config({\n",
       "            paths: {\n",
       "                'plotly': ['https://cdn.plot.ly/plotly-2.27.0.min']\n",
       "            }\n",
       "        });\n",
       "        require(['plotly'], function(Plotly) {\n",
       "            window._Plotly = Plotly;\n",
       "        });\n",
       "        }\n",
       "        </script>\n",
       "        "
      ]
     },
     "metadata": {},
     "output_type": "display_data"
    },
    {
     "data": {
      "text/html": [
       "<div>                            <div id=\"7bde9d42-fd24-4afd-92a7-2b2db82bc34f\" class=\"plotly-graph-div\" style=\"height:500px; width:850px;\"></div>            <script type=\"text/javascript\">                require([\"plotly\"], function(Plotly) {                    window.PLOTLYENV=window.PLOTLYENV || {};                                    if (document.getElementById(\"7bde9d42-fd24-4afd-92a7-2b2db82bc34f\")) {                    Plotly.newPlot(                        \"7bde9d42-fd24-4afd-92a7-2b2db82bc34f\",                        [{\"customdata\":[[0.0],[0.0],[0.0],[0.0],[0.0],[0.0],[0.0],[0.0],[0.0],[0.0],[0.0],[0.0],[0.0],[0.0],[0.0],[0.0],[0.0],[0.0],[0.0],[0.0],[0.0],[0.0],[0.0],[0.0],[0.0],[0.0],[0.0],[0.0],[0.0],[0.0],[0.3],[0.3],[0.3],[0.3],[0.3],[0.3],[0.3],[0.3],[0.3],[0.3],[0.3],[0.3],[0.3],[0.3],[0.3],[0.3],[0.3],[0.3],[0.3],[0.3],[0.3],[0.3],[0.3],[0.3],[0.3],[0.3],[0.3],[0.3],[0.3],[0.3],[0.5],[0.5],[0.5],[0.5],[0.5],[0.5],[0.5],[0.5],[0.5],[0.5],[0.5],[0.5],[0.5],[0.5],[0.5],[0.5],[0.5],[0.5],[0.5],[0.5],[0.5],[0.5],[0.5],[0.5],[0.5],[0.5],[0.5],[0.5],[0.5],[0.5],[0.6],[0.6],[0.6],[0.6],[0.6],[0.6],[0.6],[0.6],[0.6],[0.6],[0.6],[0.6],[0.6],[0.6],[0.6],[0.6],[0.6],[0.6],[0.6],[0.6],[0.6],[0.6],[0.6],[0.6],[0.6],[0.6],[0.6],[0.6],[0.6],[0.6],[0.8],[0.8],[0.8],[0.8],[0.8],[0.8],[0.8],[0.8],[0.8],[0.8],[0.8],[0.8],[0.8],[0.8],[0.8],[0.8],[0.8],[0.8],[0.8],[0.8],[0.8],[0.8],[0.8],[0.8],[0.8],[0.8],[0.8],[0.8],[0.8],[0.8]],\"hovertemplate\":\"method=STGNN\\u003cbr\\u003emrate_jittered=%{x}\\u003cbr\\u003emse=%{y}\\u003cbr\\u003emrate=%{customdata[0]}\\u003cextra\\u003e\\u003c\\u002fextra\\u003e\",\"legendgroup\":\"STGNN\",\"marker\":{\"color\":\"#636efa\",\"opacity\":0.0,\"symbol\":\"circle\"},\"mode\":\"markers\",\"name\":\"STGNN\",\"orientation\":\"v\",\"showlegend\":false,\"x\":[0.007442076712359445,0.0099712247895839,-0.0008166919640137332,0.009167572713926157,-0.0007113921901459746,0.001046780613921706,-0.01240293129174895,0.003996520770687953,0.0200964856877016,-0.007223167057773825,0.0007910544089086499,0.0026742822850933713,0.0019429096005846617,0.007365119373348177,0.003145801769068197,0.007567613736101312,-0.0027932977320359377,-0.0023877380205452785,0.014187310297146809,0.010855488118002323,-0.002053188502601004,0.004402728676636693,-0.011449007672116223,0.005213230073141943,-0.011865350039768782,-0.01657634322908033,0.0016972116186544184,0.00631238744814212,0.007678239708116945,0.002889456883115405,0.2899981503259091,0.29561518564197,0.2884578929270301,0.3099682089123161,0.3008008302515803,0.3119801188439052,0.29359283147595416,0.3168733260703235,0.2922942729785588,0.2940955716595066,0.31208883130481757,0.3053238500791664,0.30090635909511715,0.30113065825647933,0.2958835923468771,0.30651884017616576,0.3094110183562573,0.2942853655051179,0.29633448767427917,0.3132323410891353,0.30601869190335806,0.30756310852580204,0.2990732150707454,0.305083799653451,0.30696945105804835,0.29160089401308975,0.3150779400533865,0.2919342301494275,0.31314610800928205,0.3040959493730987,0.4988441152774618,0.5108359165642273,0.49179597772080413,0.5088352370918271,0.4939558727228814,0.5028358581656507,0.5113551864679716,0.4949722851554036,0.4978131656850523,0.5030612139854662,0.515176467699029,0.49853404645212634,0.49872026930607044,0.48975987504201113,0.5010462163453231,0.5108135979704482,0.5040238642997611,0.5027976378181824,0.48649385193694783,0.5129191633627412,0.49726667141690406,0.5041123831043393,0.4869944455725291,0.5098972868582994,0.4834434009905323,0.4972662932577762,0.4981897746585121,0.4954519039753011,0.5228888349871832,0.4898488014182995,0.6054057014975608,0.586720899168857,0.5923929255028176,0.5995431781892706,0.5933742905743273,0.5941608268292953,0.6049876756540463,0.609420058506137,0.5990454975843391,0.6007225755956775,0.5921919444189393,0.5841553993962194,0.5892889777951026,0.5870266169906636,0.6039599047331857,0.6004134577689418,0.6256280377424641,0.6052049207200872,0.5845354776701551,0.5932481921555414,0.59173932098621,0.5968112987424657,0.5956494930635591,0.5969870467003022,0.5960651254552559,0.5913155972810799,0.5944557700313826,0.598056913739591,0.5956737331701796,0.5770870056065245,0.7944121753547656,0.7903317718831087,0.8054123471897909,0.8132467809556424,0.7999674163624065,0.7966964636616665,0.7861841010657676,0.7947702339387253,0.7961067966525759,0.7955847745547425,0.7860518658223816,0.7876183722911191,0.8151513432612051,0.8044923496056045,0.7986824738299739,0.8199092752047906,0.7958085118920769,0.8107674496860372,0.8068947048270968,0.8100641192710389,0.7900959715912677,0.8017550649478519,0.806567794505931,0.8097213672052795,0.7976962572636064,0.7900068303537477,0.8026968448309523,0.7987951599539791,0.8154563653929532,0.8026072177782427],\"xaxis\":\"x\",\"y\":[0.878224790096283,0.9400696754455566,0.8051757216453552,0.7869590520858765,0.9584046602249146,0.9470146894454956,0.9959319829940796,0.7961194515228271,0.8894031047821045,0.9410082697868348,1.1162763833999634,0.984142243862152,0.9500049352645874,0.8508350849151611,1.065972924232483,0.9306325316429138,0.9315527081489564,0.8821834921836853,0.9825312495231628,1.0329943895339966,0.796339750289917,0.9800927639007568,0.9518452882766724,0.9608127474784852,1.0024265050888062,0.9519636034965516,0.9514760971069336,0.9099218249320984,0.907282054424286,1.027765870094299,1.1040196418762207,1.048393726348877,1.0911216735839844,1.1759403944015503,1.2294284105300903,1.0384750366210938,1.1775016784667969,1.0910959243774414,1.089476466178894,1.1442815065383911,1.1310657262802124,1.0817877054214478,1.1307646036148071,1.138793706893921,1.107380986213684,1.008258581161499,1.1832122802734375,1.133663296699524,1.209850788116455,1.124642252922058,1.1611595153808594,1.0309064388275146,1.1629021167755127,1.029935359954834,1.134744644165039,1.175586819648743,1.0674182176589966,1.041639804840088,1.0733338594436646,1.099887132644653,1.452234983444214,1.5829685926437378,1.4493675231933594,1.5160924196243286,1.6205365657806396,1.6116863489151,1.526062250137329,1.4503629207611084,1.5242124795913696,1.4920539855957031,1.558376431465149,1.3707953691482544,1.4182831048965454,1.4934680461883545,1.6083065271377563,1.52112078666687,1.5657531023025513,1.539101243019104,1.563511610031128,1.5651832818984983,1.5251295566558838,1.5101028680801392,1.5565121173858645,1.4920322895050049,1.5470616817474363,1.5607208013534546,1.5333003997802734,1.4930981397628784,1.5355478525161743,1.3677170276641846,1.762623906135559,1.8392342329025269,1.8135911226272583,1.7555392980575562,1.778372287750244,1.8270808458328247,1.823231816291809,1.692979335784912,1.8257144689559937,1.6744208335876465,1.7964571714401243,1.9019455909729004,1.786439299583435,1.759521245956421,1.737854242324829,1.7372492551803589,1.8520978689193728,1.858214974403381,1.7585164308547974,1.69110107421875,1.7725926637649536,1.793165922164917,1.8530081510543823,1.826484203338623,1.7932943105697632,1.8144985437393188,1.7674332857131958,1.706994891166687,1.841535925865173,1.7604258060455322,2.605711936950684,2.5726168155670166,2.46928334236145,2.447866916656494,2.4108774662017822,2.578709363937378,2.3492677211761475,2.56313157081604,2.505772590637207,2.578941583633423,2.600013256072998,2.384645700454712,2.630146741867065,2.5444018840789795,2.64227294921875,2.342793703079224,2.384052038192749,2.53678822517395,2.505067825317383,2.5665907859802246,2.760765552520752,2.5901615619659424,2.324040174484253,2.5092198848724365,2.579792261123657,2.7349729537963867,2.425903558731079,2.6245834827423096,2.4923458099365234,2.3974146842956543],\"yaxis\":\"y\",\"type\":\"scatter\"},{\"customdata\":[[0.0],[0.0],[0.0],[0.0],[0.0],[0.0],[0.0],[0.0],[0.0],[0.0],[0.0],[0.0],[0.0],[0.0],[0.0],[0.0],[0.0],[0.0],[0.0],[0.0],[0.0],[0.0],[0.0],[0.0],[0.0],[0.0],[0.0],[0.0],[0.0],[0.0],[0.3],[0.3],[0.3],[0.3],[0.3],[0.3],[0.3],[0.3],[0.3],[0.3],[0.3],[0.3],[0.3],[0.3],[0.3],[0.3],[0.3],[0.3],[0.3],[0.3],[0.3],[0.3],[0.3],[0.3],[0.3],[0.3],[0.3],[0.3],[0.3],[0.3],[0.5],[0.5],[0.5],[0.5],[0.5],[0.5],[0.5],[0.5],[0.5],[0.5],[0.5],[0.5],[0.5],[0.5],[0.5],[0.5],[0.5],[0.5],[0.5],[0.5],[0.5],[0.5],[0.5],[0.5],[0.5],[0.5],[0.5],[0.5],[0.5],[0.5],[0.6],[0.6],[0.6],[0.6],[0.6],[0.6],[0.6],[0.6],[0.6],[0.6],[0.6],[0.6],[0.6],[0.6],[0.6],[0.6],[0.6],[0.6],[0.6],[0.6],[0.6],[0.6],[0.6],[0.6],[0.6],[0.6],[0.6],[0.6],[0.6],[0.6],[0.8],[0.8],[0.8],[0.8],[0.8],[0.8],[0.8],[0.8],[0.8],[0.8],[0.8],[0.8],[0.8],[0.8],[0.8],[0.8],[0.8],[0.8],[0.8],[0.8],[0.8],[0.8],[0.8],[0.8],[0.8],[0.8],[0.8],[0.8],[0.8],[0.8]],\"hovertemplate\":\"method=IT-STGNN\\u003cbr\\u003emrate_jittered=%{x}\\u003cbr\\u003emse=%{y}\\u003cbr\\u003emrate=%{customdata[0]}\\u003cextra\\u003e\\u003c\\u002fextra\\u003e\",\"legendgroup\":\"IT-STGNN\",\"marker\":{\"color\":\"#EF553B\",\"opacity\":0.0,\"symbol\":\"circle\"},\"mode\":\"markers\",\"name\":\"IT-STGNN\",\"orientation\":\"v\",\"showlegend\":false,\"x\":[-0.011607182766636753,-0.004140246351862397,-0.005436016895184014,0.004749119650058066,-0.004244301950915859,0.007356233334961725,0.020378337138431245,0.024740329764168796,0.005156088032073754,-0.007228854818433649,-0.0037630120772672022,0.02607915548098127,0.014081776837683496,0.008833353816938474,-0.0018132423798363493,-0.0021972030653215624,-0.016850927390693313,-0.002035699734354163,-0.004581102484547658,0.012629803353592428,0.007847651403128219,-0.012556898189011503,0.009693972223723485,0.019132601829570696,-0.0025882182053614685,0.01035495862858395,0.0016483678050647499,0.028918278093534738,0.0004484058335535275,-0.012478650083009421,0.300434120562166,0.3134921978749551,0.29242682266767334,0.2816490442798155,0.2897285140021632,0.2972055838875438,0.2886602700466906,0.29462635223632017,0.298142527281138,0.2957531581524537,0.29228917732948445,0.30126284413850596,0.2990776555699461,0.2966066294215573,0.2935088067737192,0.30479144577090944,0.30379352400601173,0.32064892233521813,0.3048877686750031,0.2923214291795685,0.3087068103795454,0.299027176867473,0.31534210287672015,0.31553221653086766,0.29788281067902644,0.304274204022745,0.3119534229852303,0.29408080794681196,0.30964154210451555,0.2962881985895334,0.5039759880896711,0.5002702932313605,0.5026896625795853,0.5193864857728597,0.49584906338399626,0.5144185724586169,0.49294127636707474,0.498055178936405,0.5081458619959898,0.5099482453149515,0.5072684611804565,0.5100896736078634,0.5157355159007676,0.49055581058962516,0.5037978337693906,0.5004985886623268,0.4862482662129895,0.49386372625493263,0.4929965213983296,0.4930852006232368,0.4998667118587957,0.5036537916000126,0.5106959989361851,0.4867687607451603,0.4987793271071012,0.5103289095682717,0.4985855498820068,0.5007102081457341,0.5166540992731831,0.5123665654506938,0.5953900842816967,0.5911399273575082,0.612045274661834,0.5996216210321299,0.5893386511042906,0.60953515821887,0.6082637042902804,0.6015068048652552,0.5832800534861056,0.5928117676313203,0.5972972289996542,0.5914189114254076,0.5865177214936096,0.5993166455525496,0.6059664467271761,0.5883384644624866,0.6080322542191332,0.5854217850426578,0.5894328675909641,0.6030562502339403,0.6060451890559454,0.6099768423365883,0.5983179780973252,0.6005941945049035,0.5849072312071664,0.5940182089721597,0.607752163645286,0.6020307311989501,0.5809277341042514,0.6070971523727652,0.7924738727984586,0.8023202022253045,0.8016128592677954,0.7931107240470747,0.7785623834130793,0.8185637037132557,0.8012207365911544,0.8000439494440439,0.7936592422189068,0.7921710906751246,0.7932307759660049,0.7997268229194854,0.8013681748642675,0.8060782784556615,0.7927921767397119,0.7921806532770846,0.7780908580601467,0.8037179473452851,0.8044653776322914,0.8120766599448709,0.7987617257374119,0.8060002877362247,0.8027992240987943,0.7983577963130485,0.7982971480020441,0.7977281652552155,0.8162600990447181,0.8008493880944231,0.7793494081474194,0.8166176869794738],\"xaxis\":\"x\",\"y\":[1.0028198957443235,1.0093005895614624,0.9421307444572448,1.005632400512695,0.9958528876304626,1.2612193822860718,0.8485183715820312,1.030606389045715,0.8305052518844604,0.9671956300735474,0.950186550617218,0.8598496913909912,0.9631581902503968,1.0277780294418335,0.930810570716858,1.090095281600952,0.9997382760047911,0.9650077223777772,0.971306324005127,0.9694689512252808,0.9968351125717164,0.9506178498268129,0.9200228452682496,0.9058720469474792,1.1813548803329468,1.130162239074707,0.9765868186950684,0.9272892475128174,0.9340044856071472,0.8837889432907104,0.8754433393478394,0.8610203862190247,0.8645129799842834,0.9043009281158448,0.9009425044059752,0.9135943055152892,0.8809950351715088,0.8422359824180603,0.8395102620124817,0.8699935674667358,0.9190791845321656,0.8486875891685486,0.8896583914756775,0.8661194443702698,0.8759350776672363,0.872726321220398,0.8421153426170349,0.862273633480072,0.9824572801589966,0.8455267548561096,0.9222312569618224,0.8692970871925354,0.8449809551239014,0.8133566379547119,0.8737065196037292,0.8675554990768433,0.8229553699493408,0.8808164000511169,0.8140660524368286,0.8815234899520874,0.9183335900306702,0.9038130640983582,0.8968054056167603,0.8990706205368042,0.9075524806976318,0.9470889568328856,0.9344570636749268,0.8673438429832458,0.9001876711845398,0.8923256397247314,0.9457527995109558,0.905635416507721,0.876510739326477,0.8840386867523193,0.9195002317428588,0.8958805203437805,0.9034718871116638,0.8833195567131042,0.8785080313682556,0.8376575708389282,0.8845660090446472,0.8739476799964905,0.9247159957885742,0.902157425880432,0.901475191116333,0.927612602710724,0.884499192237854,0.9365820288658142,0.9128010869026184,0.88218092918396,0.9797062873840332,0.9700883030891418,1.0640170574188232,1.0194745063781738,1.020256280899048,0.9511775970458984,1.0672961473464966,0.9999009370803832,0.998916745185852,1.000610589981079,0.9578129053115844,0.9813449382781982,1.0748164653778076,1.0466738939285278,1.0326180458068848,0.978420078754425,0.9680507183074952,0.9821112155914308,1.0314358472824097,0.9535425305366516,1.0817526578903198,1.037876844406128,0.9653294682502748,1.0177408456802368,0.9468722343444824,1.0134422779083252,0.974738836288452,0.998589038848877,1.0058627128601074,0.997322678565979,1.5820887088775637,1.4317841529846191,1.469737887382507,1.3550244569778442,1.4899485111236572,1.5695351362228394,1.4029542207717896,1.3905322551727295,1.4836331605911257,1.4006143808364868,1.412209153175354,1.6073064804077148,1.408270001411438,1.449971079826355,1.4179517030715942,1.4925079345703125,1.389999270439148,1.313412308692932,1.392616868019104,1.4214444160461426,1.4221419095993042,1.3846514225006104,1.4507932662963867,1.293109655380249,1.5978103876113892,1.3707334995269775,1.3250055313110352,1.4312130212783811,1.3456062078475952,1.4833415746688845],\"yaxis\":\"y\",\"type\":\"scatter\"},{\"hovertemplate\":\"method=STGNN\\u003cbr\\u003emrate=%{x}\\u003cbr\\u003emse_mean=%{y}\\u003cextra\\u003e\\u003c\\u002fextra\\u003e\",\"legendgroup\":\"STGNN\",\"line\":{\"dash\":\"dashdot\",\"width\":3},\"marker\":{\"color\":\"#636efa\",\"size\":10,\"symbol\":\"circle\"},\"mode\":\"markers+lines\",\"name\":\"STGNN\",\"orientation\":\"v\",\"showlegend\":true,\"x\":[0.0,0.0,0.0,0.0,0.0,0.0,0.0,0.0,0.0,0.0,0.0,0.0,0.0,0.0,0.0,0.0,0.0,0.0,0.0,0.0,0.0,0.0,0.0,0.0,0.0,0.0,0.0,0.0,0.0,0.0,0.3,0.3,0.3,0.3,0.3,0.3,0.3,0.3,0.3,0.3,0.3,0.3,0.3,0.3,0.3,0.3,0.3,0.3,0.3,0.3,0.3,0.3,0.3,0.3,0.3,0.3,0.3,0.3,0.3,0.3,0.5,0.5,0.5,0.5,0.5,0.5,0.5,0.5,0.5,0.5,0.5,0.5,0.5,0.5,0.5,0.5,0.5,0.5,0.5,0.5,0.5,0.5,0.5,0.5,0.5,0.5,0.5,0.5,0.5,0.5,0.6,0.6,0.6,0.6,0.6,0.6,0.6,0.6,0.6,0.6,0.6,0.6,0.6,0.6,0.6,0.6,0.6,0.6,0.6,0.6,0.6,0.6,0.6,0.6,0.6,0.6,0.6,0.6,0.6,0.6,0.8,0.8,0.8,0.8,0.8,0.8,0.8,0.8,0.8,0.8,0.8,0.8,0.8,0.8,0.8,0.8,0.8,0.8,0.8,0.8,0.8,0.8,0.8,0.8,0.8,0.8,0.8,0.8,0.8,0.8],\"xaxis\":\"x\",\"y\":[0.9368454615275065,0.9368454615275065,0.9368454615275065,0.9368454615275065,0.9368454615275065,0.9368454615275065,0.9368454615275065,0.9368454615275065,0.9368454615275065,0.9368454615275065,0.9368454615275065,0.9368454615275065,0.9368454615275065,0.9368454615275065,0.9368454615275065,0.9368454615275065,0.9368454615275065,0.9368454615275065,0.9368454615275065,0.9368454615275065,0.9368454615275065,0.9368454615275065,0.9368454615275065,0.9368454615275065,0.9368454615275065,0.9368454615275065,0.9368454615275065,0.9368454615275065,0.9368454615275065,0.9368454615275065,1.113888943195343,1.113888943195343,1.113888943195343,1.113888943195343,1.113888943195343,1.113888943195343,1.113888943195343,1.113888943195343,1.113888943195343,1.113888943195343,1.113888943195343,1.113888943195343,1.113888943195343,1.113888943195343,1.113888943195343,1.113888943195343,1.113888943195343,1.113888943195343,1.113888943195343,1.113888943195343,1.113888943195343,1.113888943195343,1.113888943195343,1.113888943195343,1.113888943195343,1.113888943195343,1.113888943195343,1.113888943195343,1.113888943195343,1.113888943195343,1.5183566768964132,1.5183566768964132,1.5183566768964132,1.5183566768964132,1.5183566768964132,1.5183566768964132,1.5183566768964132,1.5183566768964132,1.5183566768964132,1.5183566768964132,1.5183566768964132,1.5183566768964132,1.5183566768964132,1.5183566768964132,1.5183566768964132,1.5183566768964132,1.5183566768964132,1.5183566768964132,1.5183566768964132,1.5183566768964132,1.5183566768964132,1.5183566768964132,1.5183566768964132,1.5183566768964132,1.5183566768964132,1.5183566768964132,1.5183566768964132,1.5183566768964132,1.5183566768964132,1.5183566768964132,1.786720633506775,1.786720633506775,1.786720633506775,1.786720633506775,1.786720633506775,1.786720633506775,1.786720633506775,1.786720633506775,1.786720633506775,1.786720633506775,1.786720633506775,1.786720633506775,1.786720633506775,1.786720633506775,1.786720633506775,1.786720633506775,1.786720633506775,1.786720633506775,1.786720633506775,1.786720633506775,1.786720633506775,1.786720633506775,1.786720633506775,1.786720633506775,1.786720633506775,1.786720633506775,1.786720633506775,1.786720633506775,1.786720633506775,1.786720633506775,2.521938411394755,2.521938411394755,2.521938411394755,2.521938411394755,2.521938411394755,2.521938411394755,2.521938411394755,2.521938411394755,2.521938411394755,2.521938411394755,2.521938411394755,2.521938411394755,2.521938411394755,2.521938411394755,2.521938411394755,2.521938411394755,2.521938411394755,2.521938411394755,2.521938411394755,2.521938411394755,2.521938411394755,2.521938411394755,2.521938411394755,2.521938411394755,2.521938411394755,2.521938411394755,2.521938411394755,2.521938411394755,2.521938411394755,2.521938411394755],\"yaxis\":\"y\",\"type\":\"scatter\"},{\"hovertemplate\":\"method=IT-STGNN\\u003cbr\\u003emrate=%{x}\\u003cbr\\u003emse_mean=%{y}\\u003cextra\\u003e\\u003c\\u002fextra\\u003e\",\"legendgroup\":\"IT-STGNN\",\"line\":{\"dash\":\"dashdot\",\"width\":3},\"marker\":{\"color\":\"#EF553B\",\"size\":10,\"symbol\":\"circle\"},\"mode\":\"markers+lines\",\"name\":\"IT-STGNN\",\"orientation\":\"v\",\"showlegend\":true,\"x\":[0.0,0.0,0.0,0.0,0.0,0.0,0.0,0.0,0.0,0.0,0.0,0.0,0.0,0.0,0.0,0.0,0.0,0.0,0.0,0.0,0.0,0.0,0.0,0.0,0.0,0.0,0.0,0.0,0.0,0.0,0.3,0.3,0.3,0.3,0.3,0.3,0.3,0.3,0.3,0.3,0.3,0.3,0.3,0.3,0.3,0.3,0.3,0.3,0.3,0.3,0.3,0.3,0.3,0.3,0.3,0.3,0.3,0.3,0.3,0.3,0.5,0.5,0.5,0.5,0.5,0.5,0.5,0.5,0.5,0.5,0.5,0.5,0.5,0.5,0.5,0.5,0.5,0.5,0.5,0.5,0.5,0.5,0.5,0.5,0.5,0.5,0.5,0.5,0.5,0.5,0.6,0.6,0.6,0.6,0.6,0.6,0.6,0.6,0.6,0.6,0.6,0.6,0.6,0.6,0.6,0.6,0.6,0.6,0.6,0.6,0.6,0.6,0.6,0.6,0.6,0.6,0.6,0.6,0.6,0.6,0.8,0.8,0.8,0.8,0.8,0.8,0.8,0.8,0.8,0.8,0.8,0.8,0.8,0.8,0.8,0.8,0.8,0.8,0.8,0.8,0.8,0.8,0.8,0.8,0.8,0.8,0.8,0.8,0.8,0.8],\"xaxis\":\"x\",\"y\":[0.9809238533178966,0.9809238533178966,0.9809238533178966,0.9809238533178966,0.9809238533178966,0.9809238533178966,0.9809238533178966,0.9809238533178966,0.9809238533178966,0.9809238533178966,0.9809238533178966,0.9809238533178966,0.9809238533178966,0.9809238533178966,0.9809238533178966,0.9809238533178966,0.9809238533178966,0.9809238533178966,0.9809238533178966,0.9809238533178966,0.9809238533178966,0.9809238533178966,0.9809238533178966,0.9809238533178966,0.9809238533178966,0.9809238533178966,0.9809238533178966,0.9809238533178966,0.9809238533178966,0.9809238533178966,0.8715872526168823,0.8715872526168823,0.8715872526168823,0.8715872526168823,0.8715872526168823,0.8715872526168823,0.8715872526168823,0.8715872526168823,0.8715872526168823,0.8715872526168823,0.8715872526168823,0.8715872526168823,0.8715872526168823,0.8715872526168823,0.8715872526168823,0.8715872526168823,0.8715872526168823,0.8715872526168823,0.8715872526168823,0.8715872526168823,0.8715872526168823,0.8715872526168823,0.8715872526168823,0.8715872526168823,0.8715872526168823,0.8715872526168823,0.8715872526168823,0.8715872526168823,0.8715872526168823,0.8715872526168823,0.9009263972441356,0.9009263972441356,0.9009263972441356,0.9009263972441356,0.9009263972441356,0.9009263972441356,0.9009263972441356,0.9009263972441356,0.9009263972441356,0.9009263972441356,0.9009263972441356,0.9009263972441356,0.9009263972441356,0.9009263972441356,0.9009263972441356,0.9009263972441356,0.9009263972441356,0.9009263972441356,0.9009263972441356,0.9009263972441356,0.9009263972441356,0.9009263972441356,0.9009263972441356,0.9009263972441356,0.9009263972441356,0.9009263972441356,0.9009263972441356,0.9009263972441356,0.9009263972441356,0.9009263972441356,1.0039266228675843,1.0039266228675843,1.0039266228675843,1.0039266228675843,1.0039266228675843,1.0039266228675843,1.0039266228675843,1.0039266228675843,1.0039266228675843,1.0039266228675843,1.0039266228675843,1.0039266228675843,1.0039266228675843,1.0039266228675843,1.0039266228675843,1.0039266228675843,1.0039266228675843,1.0039266228675843,1.0039266228675843,1.0039266228675843,1.0039266228675843,1.0039266228675843,1.0039266228675843,1.0039266228675843,1.0039266228675843,1.0039266228675843,1.0039266228675843,1.0039266228675843,1.0039266228675843,1.0039266228675843,1.4328649520874024,1.4328649520874024,1.4328649520874024,1.4328649520874024,1.4328649520874024,1.4328649520874024,1.4328649520874024,1.4328649520874024,1.4328649520874024,1.4328649520874024,1.4328649520874024,1.4328649520874024,1.4328649520874024,1.4328649520874024,1.4328649520874024,1.4328649520874024,1.4328649520874024,1.4328649520874024,1.4328649520874024,1.4328649520874024,1.4328649520874024,1.4328649520874024,1.4328649520874024,1.4328649520874024,1.4328649520874024,1.4328649520874024,1.4328649520874024,1.4328649520874024,1.4328649520874024,1.4328649520874024],\"yaxis\":\"y\",\"type\":\"scatter\"},{\"alignmentgroup\":\"True\",\"hovertemplate\":\"mrate=%{x}\\u003cbr\\u003emse=%{y}\\u003cextra\\u003e\\u003c\\u002fextra\\u003e\",\"legendgroup\":\"\",\"marker\":{\"color\":\"#636efa\"},\"name\":\"\",\"notched\":false,\"offsetgroup\":\"\",\"opacity\":0.9,\"orientation\":\"v\",\"showlegend\":false,\"x\":[],\"x0\":\" \",\"xaxis\":\"x\",\"y\":[],\"y0\":\" \",\"yaxis\":\"y\",\"type\":\"box\"},{\"alignmentgroup\":\"True\",\"hovertemplate\":\"mrate=%{x}\\u003cbr\\u003emse=%{y}\\u003cextra\\u003e\\u003c\\u002fextra\\u003e\",\"legendgroup\":\"\",\"marker\":{\"color\":\"#EF553B\"},\"name\":\"\",\"notched\":false,\"offsetgroup\":\"\",\"opacity\":0.9,\"orientation\":\"v\",\"showlegend\":false,\"x\":[],\"x0\":\" \",\"xaxis\":\"x\",\"y\":[],\"y0\":\" \",\"yaxis\":\"y\",\"type\":\"box\"}],                        {\"template\":{\"data\":{\"histogram2dcontour\":[{\"type\":\"histogram2dcontour\",\"colorbar\":{\"outlinewidth\":0,\"ticks\":\"\"},\"colorscale\":[[0.0,\"#0d0887\"],[0.1111111111111111,\"#46039f\"],[0.2222222222222222,\"#7201a8\"],[0.3333333333333333,\"#9c179e\"],[0.4444444444444444,\"#bd3786\"],[0.5555555555555556,\"#d8576b\"],[0.6666666666666666,\"#ed7953\"],[0.7777777777777778,\"#fb9f3a\"],[0.8888888888888888,\"#fdca26\"],[1.0,\"#f0f921\"]]}],\"choropleth\":[{\"type\":\"choropleth\",\"colorbar\":{\"outlinewidth\":0,\"ticks\":\"\"}}],\"histogram2d\":[{\"type\":\"histogram2d\",\"colorbar\":{\"outlinewidth\":0,\"ticks\":\"\"},\"colorscale\":[[0.0,\"#0d0887\"],[0.1111111111111111,\"#46039f\"],[0.2222222222222222,\"#7201a8\"],[0.3333333333333333,\"#9c179e\"],[0.4444444444444444,\"#bd3786\"],[0.5555555555555556,\"#d8576b\"],[0.6666666666666666,\"#ed7953\"],[0.7777777777777778,\"#fb9f3a\"],[0.8888888888888888,\"#fdca26\"],[1.0,\"#f0f921\"]]}],\"heatmap\":[{\"type\":\"heatmap\",\"colorbar\":{\"outlinewidth\":0,\"ticks\":\"\"},\"colorscale\":[[0.0,\"#0d0887\"],[0.1111111111111111,\"#46039f\"],[0.2222222222222222,\"#7201a8\"],[0.3333333333333333,\"#9c179e\"],[0.4444444444444444,\"#bd3786\"],[0.5555555555555556,\"#d8576b\"],[0.6666666666666666,\"#ed7953\"],[0.7777777777777778,\"#fb9f3a\"],[0.8888888888888888,\"#fdca26\"],[1.0,\"#f0f921\"]]}],\"heatmapgl\":[{\"type\":\"heatmapgl\",\"colorbar\":{\"outlinewidth\":0,\"ticks\":\"\"},\"colorscale\":[[0.0,\"#0d0887\"],[0.1111111111111111,\"#46039f\"],[0.2222222222222222,\"#7201a8\"],[0.3333333333333333,\"#9c179e\"],[0.4444444444444444,\"#bd3786\"],[0.5555555555555556,\"#d8576b\"],[0.6666666666666666,\"#ed7953\"],[0.7777777777777778,\"#fb9f3a\"],[0.8888888888888888,\"#fdca26\"],[1.0,\"#f0f921\"]]}],\"contourcarpet\":[{\"type\":\"contourcarpet\",\"colorbar\":{\"outlinewidth\":0,\"ticks\":\"\"}}],\"contour\":[{\"type\":\"contour\",\"colorbar\":{\"outlinewidth\":0,\"ticks\":\"\"},\"colorscale\":[[0.0,\"#0d0887\"],[0.1111111111111111,\"#46039f\"],[0.2222222222222222,\"#7201a8\"],[0.3333333333333333,\"#9c179e\"],[0.4444444444444444,\"#bd3786\"],[0.5555555555555556,\"#d8576b\"],[0.6666666666666666,\"#ed7953\"],[0.7777777777777778,\"#fb9f3a\"],[0.8888888888888888,\"#fdca26\"],[1.0,\"#f0f921\"]]}],\"surface\":[{\"type\":\"surface\",\"colorbar\":{\"outlinewidth\":0,\"ticks\":\"\"},\"colorscale\":[[0.0,\"#0d0887\"],[0.1111111111111111,\"#46039f\"],[0.2222222222222222,\"#7201a8\"],[0.3333333333333333,\"#9c179e\"],[0.4444444444444444,\"#bd3786\"],[0.5555555555555556,\"#d8576b\"],[0.6666666666666666,\"#ed7953\"],[0.7777777777777778,\"#fb9f3a\"],[0.8888888888888888,\"#fdca26\"],[1.0,\"#f0f921\"]]}],\"mesh3d\":[{\"type\":\"mesh3d\",\"colorbar\":{\"outlinewidth\":0,\"ticks\":\"\"}}],\"scatter\":[{\"fillpattern\":{\"fillmode\":\"overlay\",\"size\":10,\"solidity\":0.2},\"type\":\"scatter\"}],\"parcoords\":[{\"type\":\"parcoords\",\"line\":{\"colorbar\":{\"outlinewidth\":0,\"ticks\":\"\"}}}],\"scatterpolargl\":[{\"type\":\"scatterpolargl\",\"marker\":{\"colorbar\":{\"outlinewidth\":0,\"ticks\":\"\"}}}],\"bar\":[{\"error_x\":{\"color\":\"#2a3f5f\"},\"error_y\":{\"color\":\"#2a3f5f\"},\"marker\":{\"line\":{\"color\":\"white\",\"width\":0.5},\"pattern\":{\"fillmode\":\"overlay\",\"size\":10,\"solidity\":0.2}},\"type\":\"bar\"}],\"scattergeo\":[{\"type\":\"scattergeo\",\"marker\":{\"colorbar\":{\"outlinewidth\":0,\"ticks\":\"\"}}}],\"scatterpolar\":[{\"type\":\"scatterpolar\",\"marker\":{\"colorbar\":{\"outlinewidth\":0,\"ticks\":\"\"}}}],\"histogram\":[{\"marker\":{\"pattern\":{\"fillmode\":\"overlay\",\"size\":10,\"solidity\":0.2}},\"type\":\"histogram\"}],\"scattergl\":[{\"type\":\"scattergl\",\"marker\":{\"colorbar\":{\"outlinewidth\":0,\"ticks\":\"\"}}}],\"scatter3d\":[{\"type\":\"scatter3d\",\"line\":{\"colorbar\":{\"outlinewidth\":0,\"ticks\":\"\"}},\"marker\":{\"colorbar\":{\"outlinewidth\":0,\"ticks\":\"\"}}}],\"scattermapbox\":[{\"type\":\"scattermapbox\",\"marker\":{\"colorbar\":{\"outlinewidth\":0,\"ticks\":\"\"}}}],\"scatterternary\":[{\"type\":\"scatterternary\",\"marker\":{\"colorbar\":{\"outlinewidth\":0,\"ticks\":\"\"}}}],\"scattercarpet\":[{\"type\":\"scattercarpet\",\"marker\":{\"colorbar\":{\"outlinewidth\":0,\"ticks\":\"\"}}}],\"carpet\":[{\"aaxis\":{\"endlinecolor\":\"#2a3f5f\",\"gridcolor\":\"#C8D4E3\",\"linecolor\":\"#C8D4E3\",\"minorgridcolor\":\"#C8D4E3\",\"startlinecolor\":\"#2a3f5f\"},\"baxis\":{\"endlinecolor\":\"#2a3f5f\",\"gridcolor\":\"#C8D4E3\",\"linecolor\":\"#C8D4E3\",\"minorgridcolor\":\"#C8D4E3\",\"startlinecolor\":\"#2a3f5f\"},\"type\":\"carpet\"}],\"table\":[{\"cells\":{\"fill\":{\"color\":\"#EBF0F8\"},\"line\":{\"color\":\"white\"}},\"header\":{\"fill\":{\"color\":\"#C8D4E3\"},\"line\":{\"color\":\"white\"}},\"type\":\"table\"}],\"barpolar\":[{\"marker\":{\"line\":{\"color\":\"white\",\"width\":0.5},\"pattern\":{\"fillmode\":\"overlay\",\"size\":10,\"solidity\":0.2}},\"type\":\"barpolar\"}],\"pie\":[{\"automargin\":true,\"type\":\"pie\"}]},\"layout\":{\"autotypenumbers\":\"strict\",\"colorway\":[\"#636efa\",\"#EF553B\",\"#00cc96\",\"#ab63fa\",\"#FFA15A\",\"#19d3f3\",\"#FF6692\",\"#B6E880\",\"#FF97FF\",\"#FECB52\"],\"font\":{\"color\":\"#2a3f5f\"},\"hovermode\":\"closest\",\"hoverlabel\":{\"align\":\"left\"},\"paper_bgcolor\":\"white\",\"plot_bgcolor\":\"white\",\"polar\":{\"bgcolor\":\"white\",\"angularaxis\":{\"gridcolor\":\"#EBF0F8\",\"linecolor\":\"#EBF0F8\",\"ticks\":\"\"},\"radialaxis\":{\"gridcolor\":\"#EBF0F8\",\"linecolor\":\"#EBF0F8\",\"ticks\":\"\"}},\"ternary\":{\"bgcolor\":\"white\",\"aaxis\":{\"gridcolor\":\"#DFE8F3\",\"linecolor\":\"#A2B1C6\",\"ticks\":\"\"},\"baxis\":{\"gridcolor\":\"#DFE8F3\",\"linecolor\":\"#A2B1C6\",\"ticks\":\"\"},\"caxis\":{\"gridcolor\":\"#DFE8F3\",\"linecolor\":\"#A2B1C6\",\"ticks\":\"\"}},\"coloraxis\":{\"colorbar\":{\"outlinewidth\":0,\"ticks\":\"\"}},\"colorscale\":{\"sequential\":[[0.0,\"#0d0887\"],[0.1111111111111111,\"#46039f\"],[0.2222222222222222,\"#7201a8\"],[0.3333333333333333,\"#9c179e\"],[0.4444444444444444,\"#bd3786\"],[0.5555555555555556,\"#d8576b\"],[0.6666666666666666,\"#ed7953\"],[0.7777777777777778,\"#fb9f3a\"],[0.8888888888888888,\"#fdca26\"],[1.0,\"#f0f921\"]],\"sequentialminus\":[[0.0,\"#0d0887\"],[0.1111111111111111,\"#46039f\"],[0.2222222222222222,\"#7201a8\"],[0.3333333333333333,\"#9c179e\"],[0.4444444444444444,\"#bd3786\"],[0.5555555555555556,\"#d8576b\"],[0.6666666666666666,\"#ed7953\"],[0.7777777777777778,\"#fb9f3a\"],[0.8888888888888888,\"#fdca26\"],[1.0,\"#f0f921\"]],\"diverging\":[[0,\"#8e0152\"],[0.1,\"#c51b7d\"],[0.2,\"#de77ae\"],[0.3,\"#f1b6da\"],[0.4,\"#fde0ef\"],[0.5,\"#f7f7f7\"],[0.6,\"#e6f5d0\"],[0.7,\"#b8e186\"],[0.8,\"#7fbc41\"],[0.9,\"#4d9221\"],[1,\"#276419\"]]},\"xaxis\":{\"gridcolor\":\"#EBF0F8\",\"linecolor\":\"#EBF0F8\",\"ticks\":\"\",\"title\":{\"standoff\":15},\"zerolinecolor\":\"#EBF0F8\",\"automargin\":true,\"zerolinewidth\":2},\"yaxis\":{\"gridcolor\":\"#EBF0F8\",\"linecolor\":\"#EBF0F8\",\"ticks\":\"\",\"title\":{\"standoff\":15},\"zerolinecolor\":\"#EBF0F8\",\"automargin\":true,\"zerolinewidth\":2},\"scene\":{\"xaxis\":{\"backgroundcolor\":\"white\",\"gridcolor\":\"#DFE8F3\",\"linecolor\":\"#EBF0F8\",\"showbackground\":true,\"ticks\":\"\",\"zerolinecolor\":\"#EBF0F8\",\"gridwidth\":2},\"yaxis\":{\"backgroundcolor\":\"white\",\"gridcolor\":\"#DFE8F3\",\"linecolor\":\"#EBF0F8\",\"showbackground\":true,\"ticks\":\"\",\"zerolinecolor\":\"#EBF0F8\",\"gridwidth\":2},\"zaxis\":{\"backgroundcolor\":\"white\",\"gridcolor\":\"#DFE8F3\",\"linecolor\":\"#EBF0F8\",\"showbackground\":true,\"ticks\":\"\",\"zerolinecolor\":\"#EBF0F8\",\"gridwidth\":2}},\"shapedefaults\":{\"line\":{\"color\":\"#2a3f5f\"}},\"annotationdefaults\":{\"arrowcolor\":\"#2a3f5f\",\"arrowhead\":0,\"arrowwidth\":1},\"geo\":{\"bgcolor\":\"white\",\"landcolor\":\"white\",\"subunitcolor\":\"#C8D4E3\",\"showland\":true,\"showlakes\":true,\"lakecolor\":\"white\"},\"title\":{\"x\":0.05},\"mapbox\":{\"style\":\"light\"},\"margin\":{\"b\":0,\"l\":0,\"r\":0,\"t\":30}}},\"xaxis\":{\"anchor\":\"y\",\"domain\":[0.0,1.0],\"title\":{\"text\":\"Missign Rate\"}},\"yaxis\":{\"anchor\":\"x\",\"domain\":[0.0,1.0],\"title\":{\"text\":\"MSE\"}},\"legend\":{\"title\":{\"text\":\"\"},\"tracegroupgap\":0},\"height\":500,\"width\":850,\"title\":{\"text\":\"Chickenpox\\u002fGConvLSTM\"}},                        {\"responsive\": true}                    ).then(function(){\n",
       "                            \n",
       "var gd = document.getElementById('7bde9d42-fd24-4afd-92a7-2b2db82bc34f');\n",
       "var x = new MutationObserver(function (mutations, observer) {{\n",
       "        var display = window.getComputedStyle(gd).display;\n",
       "        if (!display || display === 'none') {{\n",
       "            console.log([gd, 'removed!']);\n",
       "            Plotly.purge(gd);\n",
       "            observer.disconnect();\n",
       "        }}\n",
       "}});\n",
       "\n",
       "// Listen for the removal of the full notebook cells\n",
       "var notebookContainer = gd.closest('#notebook-container');\n",
       "if (notebookContainer) {{\n",
       "    x.observe(notebookContainer, {childList: true});\n",
       "}}\n",
       "\n",
       "// Listen for the clearing of the current output cell\n",
       "var outputEl = gd.closest('.output');\n",
       "if (outputEl) {{\n",
       "    x.observe(outputEl, {childList: true});\n",
       "}}\n",
       "\n",
       "                        })                };                });            </script>        </div>"
      ]
     },
     "metadata": {},
     "output_type": "display_data"
    }
   ],
   "source": [
    "big = df.query(\"mtype=='rand' or mtype.isna()\").query(\"dataset == 'chickenpox'\").query(\"model == 'GConvLSTM'\")\\\n",
    ".sort_values(by='mrate')\\\n",
    ".assign(mrate_jittered = lambda df: np.array(df['mrate'])+np.random.randn(len(df['mrate']))*0.01)\n",
    "small = big.groupby([\"dataset\",\"mrate\",\"method\"]).agg({'mse':'mean'}).reset_index().rename({'mse':'mse_mean'},axis=1)\n",
    "tidydata = big.merge(small)\n",
    "#---#\n",
    "fig = px.scatter(\n",
    "    tidydata,\n",
    "    y='mse',\n",
    "    x='mrate_jittered',\n",
    "    opacity=0.0,\n",
    "    color='method',\n",
    "    width=850,\n",
    "    height=500,\n",
    "    hover_data='mrate'\n",
    ")\n",
    "_fig1 = px.scatter(\n",
    "    tidydata,\n",
    "    y='mse_mean',\n",
    "    x='mrate',\n",
    "    color='method',\n",
    ")\n",
    "_fig1.data[0]['mode']='markers+lines'\n",
    "_fig1.data[0]['marker']['size'] = 10\n",
    "_fig1.data[0]['line']['width'] = 3\n",
    "_fig1.data[0]['line']['dash'] = 'dashdot'\n",
    "_fig1.data[1]['mode']='markers+lines'\n",
    "_fig1.data[1]['marker']['size'] = 10\n",
    "_fig1.data[1]['line']['width'] = 3\n",
    "_fig1.data[1]['line']['dash'] = 'dashdot'\n",
    "_fig2 = px.box(\n",
    "    tidydata.query(\"method=='STGCN'\"),\n",
    "    y='mse',\n",
    "    x='mrate',\n",
    ")\n",
    "_fig2.data[0]['opacity']=0.9\n",
    "_fig2.data[0]['marker']['color']='#636efa'\n",
    "_fig3 = px.box(\n",
    "    tidydata.query(\"method=='IT-STGCN'\"),\n",
    "    y='mse',\n",
    "    x='mrate',\n",
    ")\n",
    "_fig3.data[0]['opacity']=0.9\n",
    "_fig3.data[0]['marker']['color']='#EF553B'\n",
    "_fig3\n",
    "for g in _fig1.data:\n",
    "    fig.add_trace(g)\n",
    "for g in _fig2.data:\n",
    "    fig.add_trace(g)\n",
    "for g in _fig3.data:\n",
    "    fig.add_trace(g)\n",
    "fig.data[0]['showlegend'] =False\n",
    "fig.data[1]['showlegend'] =False\n",
    "fig.layout['xaxis']['title']['text']='Missign Rate'\n",
    "fig.layout['yaxis']['title']['text']='MSE'\n",
    "fig.layout['legend']['title']['text']=\"\"\n",
    "fig.layout['title']['text']='Chickenpox/GConvLSTM'\n",
    "fig"
   ]
  },
  {
   "cell_type": "markdown",
   "id": "2373a999-9e7d-4175-a52b-b8c6d7447c76",
   "metadata": {},
   "source": [
    "# 시각화2: MissingRate (부록)"
   ]
  },
  {
   "cell_type": "code",
   "execution_count": 612,
   "id": "18fa97a0-f497-464b-8333-5011055a9849",
   "metadata": {
    "tags": []
   },
   "outputs": [
    {
     "data": {
      "application/vnd.plotly.v1+json": {
       "config": {
        "plotlyServerURL": "https://plot.ly"
       },
       "data": [
        {
         "hovertemplate": "method=IT-STGNN<br>model=DCRNN<br>dataset=chickenpox<br>mrate=%{x}<br>mse=%{y}<extra></extra>",
         "legendgroup": "IT-STGNN",
         "line": {
          "color": "#636efa",
          "dash": "dashdot"
         },
         "marker": {
          "symbol": "circle"
         },
         "mode": "lines+markers",
         "name": "IT-STGNN",
         "orientation": "v",
         "showlegend": true,
         "type": "scatter",
         "x": [
          0,
          0.3,
          0.5,
          0.6,
          0.8
         ],
         "xaxis": "x41",
         "y": [
          0.7262935300668081,
          0.7974194288253784,
          0.8688039183616638,
          0.9730672180652619,
          1.467026937007904
         ],
         "yaxis": "y41"
        },
        {
         "hovertemplate": "method=IT-STGNN<br>model=DCRNN<br>dataset=monte<br>mrate=%{x}<br>mse=%{y}<extra></extra>",
         "legendgroup": "IT-STGNN",
         "line": {
          "color": "#636efa",
          "dash": "dashdot"
         },
         "marker": {
          "symbol": "circle"
         },
         "mode": "lines+markers",
         "name": "IT-STGNN",
         "orientation": "v",
         "showlegend": false,
         "type": "scatter",
         "x": [
          0,
          0.3,
          0.5,
          0.7,
          0.8
         ],
         "xaxis": "x42",
         "y": [
          0.9356310884157817,
          0.9378675083319347,
          0.9477345029513041,
          1.0309433698654176,
          1.1110597742928399
         ],
         "yaxis": "y42"
        },
        {
         "hovertemplate": "method=IT-STGNN<br>model=DCRNN<br>dataset=pedalme<br>mrate=%{x}<br>mse=%{y}<extra></extra>",
         "legendgroup": "IT-STGNN",
         "line": {
          "color": "#636efa",
          "dash": "dashdot"
         },
         "marker": {
          "symbol": "circle"
         },
         "mode": "lines+markers",
         "name": "IT-STGNN",
         "orientation": "v",
         "showlegend": false,
         "type": "scatter",
         "x": [
          0,
          0.3,
          0.5,
          0.6,
          0.8
         ],
         "xaxis": "x43",
         "y": [
          1.131112144390742,
          1.1794777870178224,
          1.2317544301350911,
          1.3031940857569377,
          1.5270500183105469
         ],
         "yaxis": "y43"
        },
        {
         "hovertemplate": "method=IT-STGNN<br>model=DCRNN<br>dataset=wikimath<br>mrate=%{x}<br>mse=%{y}<extra></extra>",
         "legendgroup": "IT-STGNN",
         "line": {
          "color": "#636efa",
          "dash": "dashdot"
         },
         "marker": {
          "symbol": "circle"
         },
         "mode": "lines+markers",
         "name": "IT-STGNN",
         "orientation": "v",
         "showlegend": false,
         "type": "scatter",
         "x": [
          0,
          0.3,
          0.5,
          0.6,
          0.8
         ],
         "xaxis": "x44",
         "y": [
          0.5821457962195079,
          0.5876641611258189,
          0.5897436062494914,
          0.5919398883978526,
          0.6724015136559804
         ],
         "yaxis": "y44"
        },
        {
         "hovertemplate": "method=IT-STGNN<br>model=DCRNN<br>dataset=windmillsmall<br>mrate=%{x}<br>mse=%{y}<extra></extra>",
         "legendgroup": "IT-STGNN",
         "line": {
          "color": "#636efa",
          "dash": "dashdot"
         },
         "marker": {
          "symbol": "circle"
         },
         "mode": "lines+markers",
         "name": "IT-STGNN",
         "orientation": "v",
         "showlegend": false,
         "type": "scatter",
         "x": [
          0,
          0.7
         ],
         "xaxis": "x45",
         "y": [
          0.9879489362239837,
          1.116618851820628
         ],
         "yaxis": "y45"
        },
        {
         "hovertemplate": "method=IT-STGNN<br>model=DyGrEncoder<br>dataset=chickenpox<br>mrate=%{x}<br>mse=%{y}<extra></extra>",
         "legendgroup": "IT-STGNN",
         "line": {
          "color": "#636efa",
          "dash": "dashdot"
         },
         "marker": {
          "symbol": "circle"
         },
         "mode": "lines+markers",
         "name": "IT-STGNN",
         "orientation": "v",
         "showlegend": false,
         "type": "scatter",
         "x": [
          0,
          0.3,
          0.5,
          0.6,
          0.8
         ],
         "xaxis": "x36",
         "y": [
          0.9102867841720581,
          0.8682008723417918,
          0.9145062724749248,
          1.0129274507363637,
          1.398728601137797
         ],
         "yaxis": "y36"
        },
        {
         "hovertemplate": "method=IT-STGNN<br>model=DyGrEncoder<br>dataset=monte<br>mrate=%{x}<br>mse=%{y}<extra></extra>",
         "legendgroup": "IT-STGNN",
         "line": {
          "color": "#636efa",
          "dash": "dashdot"
         },
         "marker": {
          "symbol": "circle"
         },
         "mode": "lines+markers",
         "name": "IT-STGNN",
         "orientation": "v",
         "showlegend": false,
         "type": "scatter",
         "x": [
          0,
          0.3,
          0.5,
          0.7,
          0.8
         ],
         "xaxis": "x37",
         "y": [
          1.0075618505477906,
          1.0268222192923229,
          1.0800105273723601,
          1.1977290987968445,
          1.215691574414571
         ],
         "yaxis": "y37"
        },
        {
         "hovertemplate": "method=IT-STGNN<br>model=DyGrEncoder<br>dataset=pedalme<br>mrate=%{x}<br>mse=%{y}<extra></extra>",
         "legendgroup": "IT-STGNN",
         "line": {
          "color": "#636efa",
          "dash": "dashdot"
         },
         "marker": {
          "symbol": "circle"
         },
         "mode": "lines+markers",
         "name": "IT-STGNN",
         "orientation": "v",
         "showlegend": false,
         "type": "scatter",
         "x": [
          0,
          0.3,
          0.5,
          0.6,
          0.8
         ],
         "xaxis": "x38",
         "y": [
          1.1974692463874816,
          1.2052757660547893,
          1.236144204934438,
          1.2850633223851522,
          1.4758521556854247
         ],
         "yaxis": "y38"
        },
        {
         "hovertemplate": "method=IT-STGNN<br>model=DyGrEncoder<br>dataset=wikimath<br>mrate=%{x}<br>mse=%{y}<extra></extra>",
         "legendgroup": "IT-STGNN",
         "line": {
          "color": "#636efa",
          "dash": "dashdot"
         },
         "marker": {
          "symbol": "circle"
         },
         "mode": "lines+markers",
         "name": "IT-STGNN",
         "orientation": "v",
         "showlegend": false,
         "type": "scatter",
         "x": [
          0,
          0.3,
          0.5,
          0.6,
          0.8
         ],
         "xaxis": "x39",
         "y": [
          0.5625448822975159,
          0.5782144705454508,
          0.5646102329095205,
          0.5660300393899281,
          0.6059201280275981
         ],
         "yaxis": "y39"
        },
        {
         "hovertemplate": "method=IT-STGNN<br>model=DyGrEncoder<br>dataset=windmillsmall<br>mrate=%{x}<br>mse=%{y}<extra></extra>",
         "legendgroup": "IT-STGNN",
         "line": {
          "color": "#636efa",
          "dash": "dashdot"
         },
         "marker": {
          "symbol": "circle"
         },
         "mode": "lines+markers",
         "name": "IT-STGNN",
         "orientation": "v",
         "showlegend": false,
         "type": "scatter",
         "x": [
          0,
          0.7
         ],
         "xaxis": "x40",
         "y": [
          0.988743931055069,
          1.126743221282959
         ],
         "yaxis": "y40"
        },
        {
         "hovertemplate": "method=IT-STGNN<br>model=EvolveGCNH<br>dataset=chickenpox<br>mrate=%{x}<br>mse=%{y}<extra></extra>",
         "legendgroup": "IT-STGNN",
         "line": {
          "color": "#636efa",
          "dash": "dashdot"
         },
         "marker": {
          "symbol": "circle"
         },
         "mode": "lines+markers",
         "name": "IT-STGNN",
         "orientation": "v",
         "showlegend": false,
         "type": "scatter",
         "x": [
          0,
          0.3,
          0.5,
          0.6,
          0.8
         ],
         "xaxis": "x31",
         "y": [
          0.9961331367492676,
          1.0113655090332032,
          1.0263081113497416,
          1.0543007373809814,
          1.1400945703188579
         ],
         "yaxis": "y31"
        },
        {
         "hovertemplate": "method=IT-STGNN<br>model=EvolveGCNH<br>dataset=monte<br>mrate=%{x}<br>mse=%{y}<extra></extra>",
         "legendgroup": "IT-STGNN",
         "line": {
          "color": "#636efa",
          "dash": "dashdot"
         },
         "marker": {
          "symbol": "circle"
         },
         "mode": "lines+markers",
         "name": "IT-STGNN",
         "orientation": "v",
         "showlegend": false,
         "type": "scatter",
         "x": [
          0,
          0.3,
          0.5,
          0.7,
          0.8
         ],
         "xaxis": "x32",
         "y": [
          1.3576573431491852,
          1.3985042929649354,
          1.4411377509435017,
          1.7002901554107666,
          1.845348604520162
         ],
         "yaxis": "y32"
        },
        {
         "hovertemplate": "method=IT-STGNN<br>model=EvolveGCNH<br>dataset=pedalme<br>mrate=%{x}<br>mse=%{y}<extra></extra>",
         "legendgroup": "IT-STGNN",
         "line": {
          "color": "#636efa",
          "dash": "dashdot"
         },
         "marker": {
          "symbol": "circle"
         },
         "mode": "lines+markers",
         "name": "IT-STGNN",
         "orientation": "v",
         "showlegend": false,
         "type": "scatter",
         "x": [
          0,
          0.3,
          0.5,
          0.6,
          0.8
         ],
         "xaxis": "x33",
         "y": [
          1.2231735050678254,
          1.2376745263735454,
          1.2415592352549234,
          1.2620373964309692,
          1.2989180445671082
         ],
         "yaxis": "y33"
        },
        {
         "hovertemplate": "method=IT-STGNN<br>model=EvolveGCNH<br>dataset=wikimath<br>mrate=%{x}<br>mse=%{y}<extra></extra>",
         "legendgroup": "IT-STGNN",
         "line": {
          "color": "#636efa",
          "dash": "dashdot"
         },
         "marker": {
          "symbol": "circle"
         },
         "mode": "lines+markers",
         "name": "IT-STGNN",
         "orientation": "v",
         "showlegend": false,
         "type": "scatter",
         "x": [
          0,
          0.3,
          0.5,
          0.6,
          0.8
         ],
         "xaxis": "x34",
         "y": [
          0.7842468957106272,
          0.775075908501943,
          0.7911452790101369,
          0.7950286130110423,
          0.8772536794344584
         ],
         "yaxis": "y34"
        },
        {
         "hovertemplate": "method=IT-STGNN<br>model=EvolveGCNH<br>dataset=windmillsmall<br>mrate=%{x}<br>mse=%{y}<extra></extra>",
         "legendgroup": "IT-STGNN",
         "line": {
          "color": "#636efa",
          "dash": "dashdot"
         },
         "marker": {
          "symbol": "circle"
         },
         "mode": "lines+markers",
         "name": "IT-STGNN",
         "orientation": "v",
         "showlegend": false,
         "type": "scatter",
         "x": [
          0,
          0.7
         ],
         "xaxis": "x35",
         "y": [
          0.9856936732927958,
          1.1291911323865256
         ],
         "yaxis": "y35"
        },
        {
         "hovertemplate": "method=IT-STGNN<br>model=EvolveGCNO<br>dataset=chickenpox<br>mrate=%{x}<br>mse=%{y}<extra></extra>",
         "legendgroup": "IT-STGNN",
         "line": {
          "color": "#636efa",
          "dash": "dashdot"
         },
         "marker": {
          "symbol": "circle"
         },
         "mode": "lines+markers",
         "name": "IT-STGNN",
         "orientation": "v",
         "showlegend": false,
         "type": "scatter",
         "x": [
          0,
          0.3,
          0.5,
          0.6,
          0.8
         ],
         "xaxis": "x26",
         "y": [
          0.9837769170602163,
          0.9984626730283102,
          1.0199275851249694,
          1.0501808325449626,
          1.1613912542661031
         ],
         "yaxis": "y26"
        },
        {
         "hovertemplate": "method=IT-STGNN<br>model=EvolveGCNO<br>dataset=monte<br>mrate=%{x}<br>mse=%{y}<extra></extra>",
         "legendgroup": "IT-STGNN",
         "line": {
          "color": "#636efa",
          "dash": "dashdot"
         },
         "marker": {
          "symbol": "circle"
         },
         "mode": "lines+markers",
         "name": "IT-STGNN",
         "orientation": "v",
         "showlegend": false,
         "type": "scatter",
         "x": [
          0,
          0.3,
          0.5,
          0.7,
          0.8
         ],
         "xaxis": "x27",
         "y": [
          1.3174769202868144,
          1.4016060034434001,
          1.4579403877258301,
          1.9687416632970174,
          2.2633707324663797
         ],
         "yaxis": "y27"
        },
        {
         "hovertemplate": "method=IT-STGNN<br>model=EvolveGCNO<br>dataset=pedalme<br>mrate=%{x}<br>mse=%{y}<extra></extra>",
         "legendgroup": "IT-STGNN",
         "line": {
          "color": "#636efa",
          "dash": "dashdot"
         },
         "marker": {
          "symbol": "circle"
         },
         "mode": "lines+markers",
         "name": "IT-STGNN",
         "orientation": "v",
         "showlegend": false,
         "type": "scatter",
         "x": [
          0,
          0.3,
          0.5,
          0.6,
          0.8
         ],
         "xaxis": "x28",
         "y": [
          1.2126883725325266,
          1.2506618698438008,
          1.2540172457695007,
          1.2672008156776429,
          1.3115479787190756
         ],
         "yaxis": "y28"
        },
        {
         "hovertemplate": "method=IT-STGNN<br>model=EvolveGCNO<br>dataset=wikimath<br>mrate=%{x}<br>mse=%{y}<extra></extra>",
         "legendgroup": "IT-STGNN",
         "line": {
          "color": "#636efa",
          "dash": "dashdot"
         },
         "marker": {
          "symbol": "circle"
         },
         "mode": "lines+markers",
         "name": "IT-STGNN",
         "orientation": "v",
         "showlegend": false,
         "type": "scatter",
         "x": [
          0,
          0.3,
          0.5,
          0.6,
          0.8
         ],
         "xaxis": "x29",
         "y": [
          0.7345361292362214,
          0.7379984100659688,
          0.7436200221379597,
          0.7447938958803813,
          0.7801654100418091
         ],
         "yaxis": "y29"
        },
        {
         "hovertemplate": "method=IT-STGNN<br>model=EvolveGCNO<br>dataset=windmillsmall<br>mrate=%{x}<br>mse=%{y}<extra></extra>",
         "legendgroup": "IT-STGNN",
         "line": {
          "color": "#636efa",
          "dash": "dashdot"
         },
         "marker": {
          "symbol": "circle"
         },
         "mode": "lines+markers",
         "name": "IT-STGNN",
         "orientation": "v",
         "showlegend": false,
         "type": "scatter",
         "x": [
          0,
          0.7
         ],
         "xaxis": "x30",
         "y": [
          0.9836756110191345,
          1.149026878674825
         ],
         "yaxis": "y30"
        },
        {
         "hovertemplate": "method=IT-STGNN<br>model=GCLSTM<br>dataset=chickenpox<br>mrate=%{x}<br>mse=%{y}<extra></extra>",
         "legendgroup": "IT-STGNN",
         "line": {
          "color": "#636efa",
          "dash": "dashdot"
         },
         "marker": {
          "symbol": "circle"
         },
         "mode": "lines+markers",
         "name": "IT-STGNN",
         "orientation": "v",
         "showlegend": false,
         "type": "scatter",
         "x": [
          0,
          0.3,
          0.5,
          0.6,
          0.8
         ],
         "xaxis": "x21",
         "y": [
          0.877674525976181,
          0.8501742561658223,
          0.8993159830570221,
          1.0025737524032592,
          1.3705498377482097
         ],
         "yaxis": "y21"
        },
        {
         "hovertemplate": "method=IT-STGNN<br>model=GCLSTM<br>dataset=monte<br>mrate=%{x}<br>mse=%{y}<extra></extra>",
         "legendgroup": "IT-STGNN",
         "line": {
          "color": "#636efa",
          "dash": "dashdot"
         },
         "marker": {
          "symbol": "circle"
         },
         "mode": "lines+markers",
         "name": "IT-STGNN",
         "orientation": "v",
         "showlegend": false,
         "type": "scatter",
         "x": [
          0,
          0.3,
          0.5,
          0.7,
          0.8
         ],
         "xaxis": "x22",
         "y": [
          0.9690772255261739,
          0.9678724467754364,
          0.9571961462497711,
          1.0021958708763123,
          1.0315322279930115
         ],
         "yaxis": "y22"
        },
        {
         "hovertemplate": "method=IT-STGNN<br>model=GCLSTM<br>dataset=pedalme<br>mrate=%{x}<br>mse=%{y}<extra></extra>",
         "legendgroup": "IT-STGNN",
         "line": {
          "color": "#636efa",
          "dash": "dashdot"
         },
         "marker": {
          "symbol": "circle"
         },
         "mode": "lines+markers",
         "name": "IT-STGNN",
         "orientation": "v",
         "showlegend": false,
         "type": "scatter",
         "x": [
          0,
          0.3,
          0.5,
          0.6,
          0.8
         ],
         "xaxis": "x23",
         "y": [
          1.1700525979201,
          1.2106436093648274,
          1.2210132797559103,
          1.2591463605562845,
          1.3518047014872232
         ],
         "yaxis": "y23"
        },
        {
         "hovertemplate": "method=IT-STGNN<br>model=GCLSTM<br>dataset=wikimath<br>mrate=%{x}<br>mse=%{y}<extra></extra>",
         "legendgroup": "IT-STGNN",
         "line": {
          "color": "#636efa",
          "dash": "dashdot"
         },
         "marker": {
          "symbol": "circle"
         },
         "mode": "lines+markers",
         "name": "IT-STGNN",
         "orientation": "v",
         "showlegend": false,
         "type": "scatter",
         "x": [
          0,
          0.3,
          0.5,
          0.6,
          0.8
         ],
         "xaxis": "x24",
         "y": [
          0.6428504089514414,
          0.6282905658086141,
          0.6255914509296417,
          0.6502514521280924,
          0.8149297118186951
         ],
         "yaxis": "y24"
        },
        {
         "hovertemplate": "method=IT-STGNN<br>model=GCLSTM<br>dataset=windmillsmall<br>mrate=%{x}<br>mse=%{y}<extra></extra>",
         "legendgroup": "IT-STGNN",
         "line": {
          "color": "#636efa",
          "dash": "dashdot"
         },
         "marker": {
          "symbol": "circle"
         },
         "mode": "lines+markers",
         "name": "IT-STGNN",
         "orientation": "v",
         "showlegend": false,
         "type": "scatter",
         "x": [
          0,
          0.7
         ],
         "xaxis": "x25",
         "y": [
          0.9921382089455922,
          1.1164294712005123
         ],
         "yaxis": "y25"
        },
        {
         "hovertemplate": "method=IT-STGNN<br>model=GConvGRU<br>dataset=chickenpox<br>mrate=%{x}<br>mse=%{y}<extra></extra>",
         "legendgroup": "IT-STGNN",
         "line": {
          "color": "#636efa",
          "dash": "dashdot"
         },
         "marker": {
          "symbol": "circle"
         },
         "mode": "lines+markers",
         "name": "IT-STGNN",
         "orientation": "v",
         "showlegend": false,
         "type": "scatter",
         "x": [
          0,
          0.3,
          0.5,
          0.6,
          0.8
         ],
         "xaxis": "x16",
         "y": [
          0.7519446770350139,
          0.8508427083492279,
          0.9575517396132152,
          1.1203747113545737,
          1.585524276892344
         ],
         "yaxis": "y16"
        },
        {
         "hovertemplate": "method=IT-STGNN<br>model=GConvGRU<br>dataset=monte<br>mrate=%{x}<br>mse=%{y}<extra></extra>",
         "legendgroup": "IT-STGNN",
         "line": {
          "color": "#636efa",
          "dash": "dashdot"
         },
         "marker": {
          "symbol": "circle"
         },
         "mode": "lines+markers",
         "name": "IT-STGNN",
         "orientation": "v",
         "showlegend": false,
         "type": "scatter",
         "x": [
          0,
          0.3,
          0.5,
          0.7,
          0.8
         ],
         "xaxis": "x17",
         "y": [
          0.930523885289828,
          0.9361848731835684,
          0.9420447409152984,
          1.0152205049991607,
          1.0955596665541332
         ],
         "yaxis": "y17"
        },
        {
         "hovertemplate": "method=IT-STGNN<br>model=GConvGRU<br>dataset=pedalme<br>mrate=%{x}<br>mse=%{y}<extra></extra>",
         "legendgroup": "IT-STGNN",
         "line": {
          "color": "#636efa",
          "dash": "dashdot"
         },
         "marker": {
          "symbol": "circle"
         },
         "mode": "lines+markers",
         "name": "IT-STGNN",
         "orientation": "v",
         "showlegend": false,
         "type": "scatter",
         "x": [
          0,
          0.3,
          0.5,
          0.6,
          0.8
         ],
         "xaxis": "x18",
         "y": [
          1.2334487199783326,
          1.3847919205824535,
          1.5072240670522055,
          1.6249991416931153,
          1.607869521776835
         ],
         "yaxis": "y18"
        },
        {
         "hovertemplate": "method=IT-STGNN<br>model=GConvGRU<br>dataset=wikimath<br>mrate=%{x}<br>mse=%{y}<extra></extra>",
         "legendgroup": "IT-STGNN",
         "line": {
          "color": "#636efa",
          "dash": "dashdot"
         },
         "marker": {
          "symbol": "circle"
         },
         "mode": "lines+markers",
         "name": "IT-STGNN",
         "orientation": "v",
         "showlegend": false,
         "type": "scatter",
         "x": [
          0,
          0.3,
          0.5,
          0.6,
          0.8
         ],
         "xaxis": "x19",
         "y": [
          0.5286022325356802,
          0.5180512388547261,
          0.5239666879177094,
          0.5388371666272481,
          0.6867994070053101
         ],
         "yaxis": "y19"
        },
        {
         "hovertemplate": "method=IT-STGNN<br>model=GConvGRU<br>dataset=windmillsmall<br>mrate=%{x}<br>mse=%{y}<extra></extra>",
         "legendgroup": "IT-STGNN",
         "line": {
          "color": "#636efa",
          "dash": "dashdot"
         },
         "marker": {
          "symbol": "circle"
         },
         "mode": "lines+markers",
         "name": "IT-STGNN",
         "orientation": "v",
         "showlegend": false,
         "type": "scatter",
         "x": [
          0,
          0.7
         ],
         "xaxis": "x20",
         "y": [
          1.0036083248353773,
          1.1938863454326507
         ],
         "yaxis": "y20"
        },
        {
         "hovertemplate": "method=IT-STGNN<br>model=GConvLSTM<br>dataset=chickenpox<br>mrate=%{x}<br>mse=%{y}<extra></extra>",
         "legendgroup": "IT-STGNN",
         "line": {
          "color": "#636efa",
          "dash": "dashdot"
         },
         "marker": {
          "symbol": "circle"
         },
         "mode": "lines+markers",
         "name": "IT-STGNN",
         "orientation": "v",
         "showlegend": false,
         "type": "scatter",
         "x": [
          0,
          0.3,
          0.5,
          0.6,
          0.8
         ],
         "xaxis": "x11",
         "y": [
          0.9809238533178966,
          0.8715872526168823,
          0.9009263972441356,
          1.0039266228675843,
          1.4328649520874024
         ],
         "yaxis": "y11"
        },
        {
         "hovertemplate": "method=IT-STGNN<br>model=GConvLSTM<br>dataset=monte<br>mrate=%{x}<br>mse=%{y}<extra></extra>",
         "legendgroup": "IT-STGNN",
         "line": {
          "color": "#636efa",
          "dash": "dashdot"
         },
         "marker": {
          "symbol": "circle"
         },
         "mode": "lines+markers",
         "name": "IT-STGNN",
         "orientation": "v",
         "showlegend": false,
         "type": "scatter",
         "x": [
          0,
          0.3,
          0.5,
          0.7,
          0.8
         ],
         "xaxis": "x12",
         "y": [
          0.9592961370944977,
          0.9512110630671183,
          0.946907784541448,
          0.9967374463876089,
          1.1563993533452352
         ],
         "yaxis": "y12"
        },
        {
         "hovertemplate": "method=IT-STGNN<br>model=GConvLSTM<br>dataset=pedalme<br>mrate=%{x}<br>mse=%{y}<extra></extra>",
         "legendgroup": "IT-STGNN",
         "line": {
          "color": "#636efa",
          "dash": "dashdot"
         },
         "marker": {
          "symbol": "circle"
         },
         "mode": "lines+markers",
         "name": "IT-STGNN",
         "orientation": "v",
         "showlegend": false,
         "type": "scatter",
         "x": [
          0,
          0.3,
          0.5,
          0.6,
          0.8
         ],
         "xaxis": "x13",
         "y": [
          1.2129065116246542,
          1.2236289739608766,
          1.2351340810457865,
          1.2476208249727885,
          1.2865618507067362
         ],
         "yaxis": "y13"
        },
        {
         "hovertemplate": "method=IT-STGNN<br>model=GConvLSTM<br>dataset=wikimath<br>mrate=%{x}<br>mse=%{y}<extra></extra>",
         "legendgroup": "IT-STGNN",
         "line": {
          "color": "#636efa",
          "dash": "dashdot"
         },
         "marker": {
          "symbol": "circle"
         },
         "mode": "lines+markers",
         "name": "IT-STGNN",
         "orientation": "v",
         "showlegend": false,
         "type": "scatter",
         "x": [
          0,
          0.3,
          0.5,
          0.6,
          0.8
         ],
         "xaxis": "x14",
         "y": [
          0.6263718565305074,
          0.6308103601137797,
          0.6686412215232849,
          0.7313987930615743,
          0.9203040659427643
         ],
         "yaxis": "y14"
        },
        {
         "hovertemplate": "method=IT-STGNN<br>model=GConvLSTM<br>dataset=windmillsmall<br>mrate=%{x}<br>mse=%{y}<extra></extra>",
         "legendgroup": "IT-STGNN",
         "line": {
          "color": "#636efa",
          "dash": "dashdot"
         },
         "marker": {
          "symbol": "circle"
         },
         "mode": "lines+markers",
         "name": "IT-STGNN",
         "orientation": "v",
         "showlegend": false,
         "type": "scatter",
         "x": [
          0,
          0.7
         ],
         "xaxis": "x15",
         "y": [
          1.0143079911508868,
          1.1418147087097168
         ],
         "yaxis": "y15"
        },
        {
         "hovertemplate": "method=IT-STGNN<br>model=LRGCN<br>dataset=chickenpox<br>mrate=%{x}<br>mse=%{y}<extra></extra>",
         "legendgroup": "IT-STGNN",
         "line": {
          "color": "#636efa",
          "dash": "dashdot"
         },
         "marker": {
          "symbol": "circle"
         },
         "mode": "lines+markers",
         "name": "IT-STGNN",
         "orientation": "v",
         "showlegend": false,
         "type": "scatter",
         "x": [
          0,
          0.3,
          0.5,
          0.6,
          0.8
         ],
         "xaxis": "x6",
         "y": [
          0.8650834282239278,
          0.8700646877288818,
          0.9307576994101207,
          1.017380851507187,
          1.3335242430369059
         ],
         "yaxis": "y6"
        },
        {
         "hovertemplate": "method=IT-STGNN<br>model=LRGCN<br>dataset=monte<br>mrate=%{x}<br>mse=%{y}<extra></extra>",
         "legendgroup": "IT-STGNN",
         "line": {
          "color": "#636efa",
          "dash": "dashdot"
         },
         "marker": {
          "symbol": "circle"
         },
         "mode": "lines+markers",
         "name": "IT-STGNN",
         "orientation": "v",
         "showlegend": false,
         "type": "scatter",
         "x": [
          0,
          0.3,
          0.5,
          0.7,
          0.8
         ],
         "xaxis": "x7",
         "y": [
          0.9765360315640768,
          0.9737622857093811,
          0.9842411478360494,
          0.9808458685874939,
          0.9820055365562439
         ],
         "yaxis": "y7"
        },
        {
         "hovertemplate": "method=IT-STGNN<br>model=LRGCN<br>dataset=pedalme<br>mrate=%{x}<br>mse=%{y}<extra></extra>",
         "legendgroup": "IT-STGNN",
         "line": {
          "color": "#636efa",
          "dash": "dashdot"
         },
         "marker": {
          "symbol": "circle"
         },
         "mode": "lines+markers",
         "name": "IT-STGNN",
         "orientation": "v",
         "showlegend": false,
         "type": "scatter",
         "x": [
          0,
          0.3,
          0.5,
          0.6,
          0.8
         ],
         "xaxis": "x8",
         "y": [
          1.1926894664764405,
          1.2204942584037781,
          1.2401428818702698,
          1.2862426002820333,
          1.4362062215805054
         ],
         "yaxis": "y8"
        },
        {
         "hovertemplate": "method=IT-STGNN<br>model=LRGCN<br>dataset=wikimath<br>mrate=%{x}<br>mse=%{y}<extra></extra>",
         "legendgroup": "IT-STGNN",
         "line": {
          "color": "#636efa",
          "dash": "dashdot"
         },
         "marker": {
          "symbol": "circle"
         },
         "mode": "lines+markers",
         "name": "IT-STGNN",
         "orientation": "v",
         "showlegend": false,
         "type": "scatter",
         "x": [
          0,
          0.3,
          0.5,
          0.6,
          0.8
         ],
         "xaxis": "x9",
         "y": [
          0.6102288663387299,
          0.6194596389929453,
          0.6211064040660859,
          0.6475779275099437,
          0.7690745731194814
         ],
         "yaxis": "y9"
        },
        {
         "hovertemplate": "method=IT-STGNN<br>model=LRGCN<br>dataset=windmillsmall<br>mrate=%{x}<br>mse=%{y}<extra></extra>",
         "legendgroup": "IT-STGNN",
         "line": {
          "color": "#636efa",
          "dash": "dashdot"
         },
         "marker": {
          "symbol": "circle"
         },
         "mode": "lines+markers",
         "name": "IT-STGNN",
         "orientation": "v",
         "showlegend": false,
         "type": "scatter",
         "x": [
          0,
          0.7
         ],
         "xaxis": "x10",
         "y": [
          0.9868966420491536,
          1.1100961804389953
         ],
         "yaxis": "y10"
        },
        {
         "hovertemplate": "method=IT-STGNN<br>model=TGCN<br>dataset=chickenpox<br>mrate=%{x}<br>mse=%{y}<extra></extra>",
         "legendgroup": "IT-STGNN",
         "line": {
          "color": "#636efa",
          "dash": "dashdot"
         },
         "marker": {
          "symbol": "circle"
         },
         "mode": "lines+markers",
         "name": "IT-STGNN",
         "orientation": "v",
         "showlegend": false,
         "type": "scatter",
         "x": [
          0,
          0.3,
          0.5,
          0.6,
          0.8
         ],
         "xaxis": "x",
         "y": [
          1.0929674585660298,
          1.0423652052879333,
          1.031901470820109,
          1.0539491613705954,
          1.1833927472432455
         ],
         "yaxis": "y"
        },
        {
         "hovertemplate": "method=IT-STGNN<br>model=TGCN<br>dataset=monte<br>mrate=%{x}<br>mse=%{y}<extra></extra>",
         "legendgroup": "IT-STGNN",
         "line": {
          "color": "#636efa",
          "dash": "dashdot"
         },
         "marker": {
          "symbol": "circle"
         },
         "mode": "lines+markers",
         "name": "IT-STGNN",
         "orientation": "v",
         "showlegend": false,
         "type": "scatter",
         "x": [
          0,
          0.3,
          0.5,
          0.7,
          0.8
         ],
         "xaxis": "x2",
         "y": [
          0.9838025073210398,
          0.9874406675497691,
          0.9900509893894196,
          1.0295270085334778,
          1.072794528802236
         ],
         "yaxis": "y2"
        },
        {
         "hovertemplate": "method=IT-STGNN<br>model=TGCN<br>dataset=pedalme<br>mrate=%{x}<br>mse=%{y}<extra></extra>",
         "legendgroup": "IT-STGNN",
         "line": {
          "color": "#636efa",
          "dash": "dashdot"
         },
         "marker": {
          "symbol": "circle"
         },
         "mode": "lines+markers",
         "name": "IT-STGNN",
         "orientation": "v",
         "showlegend": false,
         "type": "scatter",
         "x": [
          0,
          0.3,
          0.5,
          0.6,
          0.8
         ],
         "xaxis": "x3",
         "y": [
          1.3408915936946868,
          1.2484689990679423,
          1.2585145950317382,
          1.260074253877004,
          1.257752207914988
         ],
         "yaxis": "y3"
        },
        {
         "hovertemplate": "method=IT-STGNN<br>model=TGCN<br>dataset=wikimath<br>mrate=%{x}<br>mse=%{y}<extra></extra>",
         "legendgroup": "IT-STGNN",
         "line": {
          "color": "#636efa",
          "dash": "dashdot"
         },
         "marker": {
          "symbol": "circle"
         },
         "mode": "lines+markers",
         "name": "IT-STGNN",
         "orientation": "v",
         "showlegend": false,
         "type": "scatter",
         "x": [
          0,
          0.3,
          0.5,
          0.6,
          0.8
         ],
         "xaxis": "x4",
         "y": [
          0.7295065224170685,
          0.7392048398653667,
          0.7566385646661122,
          0.7416430433591207,
          0.7708451449871063
         ],
         "yaxis": "y4"
        },
        {
         "hovertemplate": "method=IT-STGNN<br>model=TGCN<br>dataset=windmillsmall<br>mrate=%{x}<br>mse=%{y}<extra></extra>",
         "legendgroup": "IT-STGNN",
         "line": {
          "color": "#636efa",
          "dash": "dashdot"
         },
         "marker": {
          "symbol": "circle"
         },
         "mode": "lines+markers",
         "name": "IT-STGNN",
         "orientation": "v",
         "showlegend": false,
         "type": "scatter",
         "x": [
          0,
          0.7
         ],
         "xaxis": "x5",
         "y": [
          0.9917504866917928,
          1.0714038173357645
         ],
         "yaxis": "y5"
        },
        {
         "hovertemplate": "method=STGNN<br>model=DCRNN<br>dataset=chickenpox<br>mrate=%{x}<br>mse=%{y}<extra></extra>",
         "legendgroup": "STGNN",
         "line": {
          "color": "#EF553B",
          "dash": "dashdot"
         },
         "marker": {
          "symbol": "circle"
         },
         "mode": "lines+markers",
         "name": "STGNN",
         "orientation": "v",
         "showlegend": true,
         "type": "scatter",
         "x": [
          0,
          0.3,
          0.5,
          0.6,
          0.8
         ],
         "xaxis": "x41",
         "y": [
          0.7273993372917176,
          1.0321223318576813,
          1.4730505307515462,
          1.8480618437131247,
          2.2874269167582195
         ],
         "yaxis": "y41"
        },
        {
         "hovertemplate": "method=STGNN<br>model=DCRNN<br>dataset=monte<br>mrate=%{x}<br>mse=%{y}<extra></extra>",
         "legendgroup": "STGNN",
         "line": {
          "color": "#EF553B",
          "dash": "dashdot"
         },
         "marker": {
          "symbol": "circle"
         },
         "mode": "lines+markers",
         "name": "STGNN",
         "orientation": "v",
         "showlegend": false,
         "type": "scatter",
         "x": [
          0,
          0.3,
          0.5,
          0.7,
          0.8
         ],
         "xaxis": "x42",
         "y": [
          0.9356155276298523,
          1.007505710919698,
          1.1192256689071656,
          1.2140121857325237,
          1.2250772264268663
         ],
         "yaxis": "y42"
        },
        {
         "hovertemplate": "method=STGNN<br>model=DCRNN<br>dataset=pedalme<br>mrate=%{x}<br>mse=%{y}<extra></extra>",
         "legendgroup": "STGNN",
         "line": {
          "color": "#EF553B",
          "dash": "dashdot"
         },
         "marker": {
          "symbol": "circle"
         },
         "mode": "lines+markers",
         "name": "STGNN",
         "orientation": "v",
         "showlegend": false,
         "type": "scatter",
         "x": [
          0,
          0.3,
          0.5,
          0.6,
          0.8
         ],
         "xaxis": "x43",
         "y": [
          1.1311116794745126,
          1.277958885828654,
          1.4467737197875976,
          1.5089642922083537,
          1.6157149871190388
         ],
         "yaxis": "y43"
        },
        {
         "hovertemplate": "method=STGNN<br>model=DCRNN<br>dataset=wikimath<br>mrate=%{x}<br>mse=%{y}<extra></extra>",
         "legendgroup": "STGNN",
         "line": {
          "color": "#EF553B",
          "dash": "dashdot"
         },
         "marker": {
          "symbol": "circle"
         },
         "mode": "lines+markers",
         "name": "STGNN",
         "orientation": "v",
         "showlegend": false,
         "type": "scatter",
         "x": [
          0,
          0.3,
          0.5,
          0.6,
          0.8
         ],
         "xaxis": "x44",
         "y": [
          0.579703829685847,
          0.6030041297276815,
          0.6518642942110697,
          0.6880961994330088,
          0.8464834769566854
         ],
         "yaxis": "y44"
        },
        {
         "hovertemplate": "method=STGNN<br>model=DCRNN<br>dataset=windmillsmall<br>mrate=%{x}<br>mse=%{y}<extra></extra>",
         "legendgroup": "STGNN",
         "line": {
          "color": "#EF553B",
          "dash": "dashdot"
         },
         "marker": {
          "symbol": "circle"
         },
         "mode": "lines+markers",
         "name": "STGNN",
         "orientation": "v",
         "showlegend": false,
         "type": "scatter",
         "x": [
          0,
          0.7
         ],
         "xaxis": "x45",
         "y": [
          0.98705299894015,
          1.3477184931437174
         ],
         "yaxis": "y45"
        },
        {
         "hovertemplate": "method=STGNN<br>model=DyGrEncoder<br>dataset=chickenpox<br>mrate=%{x}<br>mse=%{y}<extra></extra>",
         "legendgroup": "STGNN",
         "line": {
          "color": "#EF553B",
          "dash": "dashdot"
         },
         "marker": {
          "symbol": "circle"
         },
         "mode": "lines+markers",
         "name": "STGNN",
         "orientation": "v",
         "showlegend": false,
         "type": "scatter",
         "x": [
          0,
          0.3,
          0.5,
          0.6,
          0.8
         ],
         "xaxis": "x36",
         "y": [
          0.9017379403114318,
          1.0801025032997131,
          1.5404859145482381,
          1.8070445855458577,
          2.126992173989614
         ],
         "yaxis": "y36"
        },
        {
         "hovertemplate": "method=STGNN<br>model=DyGrEncoder<br>dataset=monte<br>mrate=%{x}<br>mse=%{y}<extra></extra>",
         "legendgroup": "STGNN",
         "line": {
          "color": "#EF553B",
          "dash": "dashdot"
         },
         "marker": {
          "symbol": "circle"
         },
         "mode": "lines+markers",
         "name": "STGNN",
         "orientation": "v",
         "showlegend": false,
         "type": "scatter",
         "x": [
          0,
          0.3,
          0.5,
          0.7,
          0.8
         ],
         "xaxis": "x37",
         "y": [
          0.9827527443567912,
          1.1732897241910298,
          1.2858712315559386,
          1.46742049853007,
          1.3578972260157267
         ],
         "yaxis": "y37"
        },
        {
         "hovertemplate": "method=STGNN<br>model=DyGrEncoder<br>dataset=pedalme<br>mrate=%{x}<br>mse=%{y}<extra></extra>",
         "legendgroup": "STGNN",
         "line": {
          "color": "#EF553B",
          "dash": "dashdot"
         },
         "marker": {
          "symbol": "circle"
         },
         "mode": "lines+markers",
         "name": "STGNN",
         "orientation": "v",
         "showlegend": false,
         "type": "scatter",
         "x": [
          0,
          0.3,
          0.5,
          0.6,
          0.8
         ],
         "xaxis": "x38",
         "y": [
          1.1823768317699432,
          1.289089326063792,
          1.4271970629692077,
          1.5134739398956298,
          1.6135557055473329
         ],
         "yaxis": "y38"
        },
        {
         "hovertemplate": "method=STGNN<br>model=DyGrEncoder<br>dataset=wikimath<br>mrate=%{x}<br>mse=%{y}<extra></extra>",
         "legendgroup": "STGNN",
         "line": {
          "color": "#EF553B",
          "dash": "dashdot"
         },
         "marker": {
          "symbol": "circle"
         },
         "mode": "lines+markers",
         "name": "STGNN",
         "orientation": "v",
         "showlegend": false,
         "type": "scatter",
         "x": [
          0,
          0.3,
          0.5,
          0.6,
          0.8
         ],
         "xaxis": "x39",
         "y": [
          0.5600802143414815,
          0.5617958088715871,
          0.6135105192661285,
          0.6438442011674245,
          0.770462958017985
         ],
         "yaxis": "y39"
        },
        {
         "hovertemplate": "method=STGNN<br>model=DyGrEncoder<br>dataset=windmillsmall<br>mrate=%{x}<br>mse=%{y}<extra></extra>",
         "legendgroup": "STGNN",
         "line": {
          "color": "#EF553B",
          "dash": "dashdot"
         },
         "marker": {
          "symbol": "circle"
         },
         "mode": "lines+markers",
         "name": "STGNN",
         "orientation": "v",
         "showlegend": false,
         "type": "scatter",
         "x": [
          0,
          0.7
         ],
         "xaxis": "x40",
         "y": [
          0.9866737067699433,
          1.7088625272115072
         ],
         "yaxis": "y40"
        },
        {
         "hovertemplate": "method=STGNN<br>model=EvolveGCNH<br>dataset=chickenpox<br>mrate=%{x}<br>mse=%{y}<extra></extra>",
         "legendgroup": "STGNN",
         "line": {
          "color": "#EF553B",
          "dash": "dashdot"
         },
         "marker": {
          "symbol": "circle"
         },
         "mode": "lines+markers",
         "name": "STGNN",
         "orientation": "v",
         "showlegend": false,
         "type": "scatter",
         "x": [
          0,
          0.3,
          0.5,
          0.6,
          0.8
         ],
         "xaxis": "x31",
         "y": [
          1.0039118786652883,
          1.057721447944641,
          1.1216460744539896,
          1.1620551586151122,
          1.2029269218444825
         ],
         "yaxis": "y31"
        },
        {
         "hovertemplate": "method=STGNN<br>model=EvolveGCNH<br>dataset=monte<br>mrate=%{x}<br>mse=%{y}<extra></extra>",
         "legendgroup": "STGNN",
         "line": {
          "color": "#EF553B",
          "dash": "dashdot"
         },
         "marker": {
          "symbol": "circle"
         },
         "mode": "lines+markers",
         "name": "STGNN",
         "orientation": "v",
         "showlegend": false,
         "type": "scatter",
         "x": [
          0,
          0.3,
          0.5,
          0.7,
          0.8
         ],
         "xaxis": "x32",
         "y": [
          1.005818854769071,
          1.5634609619776407,
          1.7305912057558694,
          2.118390409151713,
          2.1583567361036935
         ],
         "yaxis": "y32"
        },
        {
         "hovertemplate": "method=STGNN<br>model=EvolveGCNH<br>dataset=pedalme<br>mrate=%{x}<br>mse=%{y}<extra></extra>",
         "legendgroup": "STGNN",
         "line": {
          "color": "#EF553B",
          "dash": "dashdot"
         },
         "marker": {
          "symbol": "circle"
         },
         "mode": "lines+markers",
         "name": "STGNN",
         "orientation": "v",
         "showlegend": false,
         "type": "scatter",
         "x": [
          0,
          0.3,
          0.5,
          0.6,
          0.8
         ],
         "xaxis": "x33",
         "y": [
          1.2035951415697734,
          1.2440934300422668,
          1.2852562506993612,
          1.2835334221522012,
          1.292329696814219
         ],
         "yaxis": "y33"
        },
        {
         "hovertemplate": "method=STGNN<br>model=EvolveGCNH<br>dataset=wikimath<br>mrate=%{x}<br>mse=%{y}<extra></extra>",
         "legendgroup": "STGNN",
         "line": {
          "color": "#EF553B",
          "dash": "dashdot"
         },
         "marker": {
          "symbol": "circle"
         },
         "mode": "lines+markers",
         "name": "STGNN",
         "orientation": "v",
         "showlegend": false,
         "type": "scatter",
         "x": [
          0,
          0.3,
          0.5,
          0.6,
          0.8
         ],
         "xaxis": "x34",
         "y": [
          0.770507158835729,
          0.7869792938232422,
          0.8044674317042033,
          0.8427968084812164,
          0.914908234278361
         ],
         "yaxis": "y34"
        },
        {
         "hovertemplate": "method=STGNN<br>model=EvolveGCNH<br>dataset=windmillsmall<br>mrate=%{x}<br>mse=%{y}<extra></extra>",
         "legendgroup": "STGNN",
         "line": {
          "color": "#EF553B",
          "dash": "dashdot"
         },
         "marker": {
          "symbol": "circle"
         },
         "mode": "lines+markers",
         "name": "STGNN",
         "orientation": "v",
         "showlegend": false,
         "type": "scatter",
         "x": [
          0,
          0.7
         ],
         "xaxis": "x35",
         "y": [
          0.9856338123480479,
          1.3301299333572387
         ],
         "yaxis": "y35"
        },
        {
         "hovertemplate": "method=STGNN<br>model=EvolveGCNO<br>dataset=chickenpox<br>mrate=%{x}<br>mse=%{y}<extra></extra>",
         "legendgroup": "STGNN",
         "line": {
          "color": "#EF553B",
          "dash": "dashdot"
         },
         "marker": {
          "symbol": "circle"
         },
         "mode": "lines+markers",
         "name": "STGNN",
         "orientation": "v",
         "showlegend": false,
         "type": "scatter",
         "x": [
          0,
          0.3,
          0.5,
          0.6,
          0.8
         ],
         "xaxis": "x26",
         "y": [
          0.9880264123280843,
          1.053731127580007,
          1.1448416352272033,
          1.2049764434496562,
          1.2336700876553854
         ],
         "yaxis": "y26"
        },
        {
         "hovertemplate": "method=STGNN<br>model=EvolveGCNO<br>dataset=monte<br>mrate=%{x}<br>mse=%{y}<extra></extra>",
         "legendgroup": "STGNN",
         "line": {
          "color": "#EF553B",
          "dash": "dashdot"
         },
         "marker": {
          "symbol": "circle"
         },
         "mode": "lines+markers",
         "name": "STGNN",
         "orientation": "v",
         "showlegend": false,
         "type": "scatter",
         "x": [
          0,
          0.3,
          0.5,
          0.7,
          0.8
         ],
         "xaxis": "x27",
         "y": [
          0.9970530728499095,
          1.63446706533432,
          1.9281354228655496,
          2.4474778691927592,
          2.622997566064199
         ],
         "yaxis": "y27"
        },
        {
         "hovertemplate": "method=STGNN<br>model=EvolveGCNO<br>dataset=pedalme<br>mrate=%{x}<br>mse=%{y}<extra></extra>",
         "legendgroup": "STGNN",
         "line": {
          "color": "#EF553B",
          "dash": "dashdot"
         },
         "marker": {
          "symbol": "circle"
         },
         "mode": "lines+markers",
         "name": "STGNN",
         "orientation": "v",
         "showlegend": false,
         "type": "scatter",
         "x": [
          0,
          0.3,
          0.5,
          0.6,
          0.8
         ],
         "xaxis": "x28",
         "y": [
          1.2342682222525279,
          1.2646779497464498,
          1.2738133351008096,
          1.292480997244517,
          1.3336350997289022
         ],
         "yaxis": "y28"
        },
        {
         "hovertemplate": "method=STGNN<br>model=EvolveGCNO<br>dataset=wikimath<br>mrate=%{x}<br>mse=%{y}<extra></extra>",
         "legendgroup": "STGNN",
         "line": {
          "color": "#EF553B",
          "dash": "dashdot"
         },
         "marker": {
          "symbol": "circle"
         },
         "mode": "lines+markers",
         "name": "STGNN",
         "orientation": "v",
         "showlegend": false,
         "type": "scatter",
         "x": [
          0,
          0.3,
          0.5,
          0.6,
          0.8
         ],
         "xaxis": "x29",
         "y": [
          0.7337246815363566,
          0.7430313646793365,
          0.7589549700419108,
          0.7754075646400451,
          0.86331374446551
         ],
         "yaxis": "y29"
        },
        {
         "hovertemplate": "method=STGNN<br>model=EvolveGCNO<br>dataset=windmillsmall<br>mrate=%{x}<br>mse=%{y}<extra></extra>",
         "legendgroup": "STGNN",
         "line": {
          "color": "#EF553B",
          "dash": "dashdot"
         },
         "marker": {
          "symbol": "circle"
         },
         "mode": "lines+markers",
         "name": "STGNN",
         "orientation": "v",
         "showlegend": false,
         "type": "scatter",
         "x": [
          0,
          0.7
         ],
         "xaxis": "x30",
         "y": [
          0.9828523218631744,
          1.494529922803243
         ],
         "yaxis": "y30"
        },
        {
         "hovertemplate": "method=STGNN<br>model=GCLSTM<br>dataset=chickenpox<br>mrate=%{x}<br>mse=%{y}<extra></extra>",
         "legendgroup": "STGNN",
         "line": {
          "color": "#EF553B",
          "dash": "dashdot"
         },
         "marker": {
          "symbol": "circle"
         },
         "mode": "lines+markers",
         "name": "STGNN",
         "orientation": "v",
         "showlegend": false,
         "type": "scatter",
         "x": [
          0,
          0.3,
          0.5,
          0.6,
          0.8
         ],
         "xaxis": "x21",
         "y": [
          0.8917715013027191,
          1.0497510651747386,
          1.5143744508425394,
          1.808076790968577,
          2.1722838799158732
         ],
         "yaxis": "y21"
        },
        {
         "hovertemplate": "method=STGNN<br>model=GCLSTM<br>dataset=monte<br>mrate=%{x}<br>mse=%{y}<extra></extra>",
         "legendgroup": "STGNN",
         "line": {
          "color": "#EF553B",
          "dash": "dashdot"
         },
         "marker": {
          "symbol": "circle"
         },
         "mode": "lines+markers",
         "name": "STGNN",
         "orientation": "v",
         "showlegend": false,
         "type": "scatter",
         "x": [
          0,
          0.3,
          0.5,
          0.7,
          0.8
         ],
         "xaxis": "x22",
         "y": [
          0.9700358351071675,
          1.0032080670197805,
          1.0735238075256348,
          1.1084674934546153,
          1.1401932901806302
         ],
         "yaxis": "y22"
        },
        {
         "hovertemplate": "method=STGNN<br>model=GCLSTM<br>dataset=pedalme<br>mrate=%{x}<br>mse=%{y}<extra></extra>",
         "legendgroup": "STGNN",
         "line": {
          "color": "#EF553B",
          "dash": "dashdot"
         },
         "marker": {
          "symbol": "circle"
         },
         "mode": "lines+markers",
         "name": "STGNN",
         "orientation": "v",
         "showlegend": false,
         "type": "scatter",
         "x": [
          0,
          0.3,
          0.5,
          0.6,
          0.8
         ],
         "xaxis": "x23",
         "y": [
          1.1911604285240174,
          1.2563624501228332,
          1.33319034576416,
          1.3652743140856425,
          1.3963794827461242
         ],
         "yaxis": "y23"
        },
        {
         "hovertemplate": "method=STGNN<br>model=GCLSTM<br>dataset=wikimath<br>mrate=%{x}<br>mse=%{y}<extra></extra>",
         "legendgroup": "STGNN",
         "line": {
          "color": "#EF553B",
          "dash": "dashdot"
         },
         "marker": {
          "symbol": "circle"
         },
         "mode": "lines+markers",
         "name": "STGNN",
         "orientation": "v",
         "showlegend": false,
         "type": "scatter",
         "x": [
          0,
          0.3,
          0.5,
          0.6,
          0.8
         ],
         "xaxis": "x24",
         "y": [
          0.644963405529658,
          0.6736441890398661,
          0.824881660938263,
          0.9423624296983083,
          1.406770400206248
         ],
         "yaxis": "y24"
        },
        {
         "hovertemplate": "method=STGNN<br>model=GCLSTM<br>dataset=windmillsmall<br>mrate=%{x}<br>mse=%{y}<extra></extra>",
         "legendgroup": "STGNN",
         "line": {
          "color": "#EF553B",
          "dash": "dashdot"
         },
         "marker": {
          "symbol": "circle"
         },
         "mode": "lines+markers",
         "name": "STGNN",
         "orientation": "v",
         "showlegend": false,
         "type": "scatter",
         "x": [
          0,
          0.7
         ],
         "xaxis": "x25",
         "y": [
          0.9923375864823659,
          1.5732998040414625
         ],
         "yaxis": "y25"
        },
        {
         "hovertemplate": "method=STGNN<br>model=GConvGRU<br>dataset=chickenpox<br>mrate=%{x}<br>mse=%{y}<extra></extra>",
         "legendgroup": "STGNN",
         "line": {
          "color": "#EF553B",
          "dash": "dashdot"
         },
         "marker": {
          "symbol": "circle"
         },
         "mode": "lines+markers",
         "name": "STGNN",
         "orientation": "v",
         "showlegend": false,
         "type": "scatter",
         "x": [
          0,
          0.3,
          0.5,
          0.6,
          0.8
         ],
         "xaxis": "x16",
         "y": [
          0.752304365237554,
          1.0873496949672699,
          1.5300888339678447,
          1.7527565677960715,
          2.528949332237244
         ],
         "yaxis": "y16"
        },
        {
         "hovertemplate": "method=STGNN<br>model=GConvGRU<br>dataset=monte<br>mrate=%{x}<br>mse=%{y}<extra></extra>",
         "legendgroup": "STGNN",
         "line": {
          "color": "#EF553B",
          "dash": "dashdot"
         },
         "marker": {
          "symbol": "circle"
         },
         "mode": "lines+markers",
         "name": "STGNN",
         "orientation": "v",
         "showlegend": false,
         "type": "scatter",
         "x": [
          0,
          0.3,
          0.5,
          0.7,
          0.8
         ],
         "xaxis": "x17",
         "y": [
          0.9306245803833008,
          0.9913904249668122,
          1.1492207447687786,
          1.393107537428538,
          1.5159995198249816
         ],
         "yaxis": "y17"
        },
        {
         "hovertemplate": "method=STGNN<br>model=GConvGRU<br>dataset=pedalme<br>mrate=%{x}<br>mse=%{y}<extra></extra>",
         "legendgroup": "STGNN",
         "line": {
          "color": "#EF553B",
          "dash": "dashdot"
         },
         "marker": {
          "symbol": "circle"
         },
         "mode": "lines+markers",
         "name": "STGNN",
         "orientation": "v",
         "showlegend": false,
         "type": "scatter",
         "x": [
          0,
          0.3,
          0.5,
          0.6,
          0.8
         ],
         "xaxis": "x18",
         "y": [
          1.2326060970624289,
          1.5271926323572795,
          1.6732519626617433,
          1.8514511068662007,
          1.8711834271748862
         ],
         "yaxis": "y18"
        },
        {
         "hovertemplate": "method=STGNN<br>model=GConvGRU<br>dataset=wikimath<br>mrate=%{x}<br>mse=%{y}<extra></extra>",
         "legendgroup": "STGNN",
         "line": {
          "color": "#EF553B",
          "dash": "dashdot"
         },
         "marker": {
          "symbol": "circle"
         },
         "mode": "lines+markers",
         "name": "STGNN",
         "orientation": "v",
         "showlegend": false,
         "type": "scatter",
         "x": [
          0,
          0.3,
          0.5,
          0.6,
          0.8
         ],
         "xaxis": "x19",
         "y": [
          0.527652645111084,
          0.5703602870305379,
          0.6584665417671204,
          0.7313244203726451,
          0.9323520263036092
         ],
         "yaxis": "y19"
        },
        {
         "hovertemplate": "method=STGNN<br>model=GConvGRU<br>dataset=windmillsmall<br>mrate=%{x}<br>mse=%{y}<extra></extra>",
         "legendgroup": "STGNN",
         "line": {
          "color": "#EF553B",
          "dash": "dashdot"
         },
         "marker": {
          "symbol": "circle"
         },
         "mode": "lines+markers",
         "name": "STGNN",
         "orientation": "v",
         "showlegend": false,
         "type": "scatter",
         "x": [
          0,
          0.7
         ],
         "xaxis": "x20",
         "y": [
          1.0029826087336386,
          1.6618889608690817
         ],
         "yaxis": "y20"
        },
        {
         "hovertemplate": "method=STGNN<br>model=GConvLSTM<br>dataset=chickenpox<br>mrate=%{x}<br>mse=%{y}<extra></extra>",
         "legendgroup": "STGNN",
         "line": {
          "color": "#EF553B",
          "dash": "dashdot"
         },
         "marker": {
          "symbol": "circle"
         },
         "mode": "lines+markers",
         "name": "STGNN",
         "orientation": "v",
         "showlegend": false,
         "type": "scatter",
         "x": [
          0,
          0.3,
          0.5,
          0.6,
          0.8
         ],
         "xaxis": "x11",
         "y": [
          0.9368454615275065,
          1.113888943195343,
          1.5183566768964132,
          1.786720633506775,
          2.521938411394755
         ],
         "yaxis": "y11"
        },
        {
         "hovertemplate": "method=STGNN<br>model=GConvLSTM<br>dataset=monte<br>mrate=%{x}<br>mse=%{y}<extra></extra>",
         "legendgroup": "STGNN",
         "line": {
          "color": "#EF553B",
          "dash": "dashdot"
         },
         "marker": {
          "symbol": "circle"
         },
         "mode": "lines+markers",
         "name": "STGNN",
         "orientation": "v",
         "showlegend": false,
         "type": "scatter",
         "x": [
          0,
          0.3,
          0.5,
          0.7,
          0.8
         ],
         "xaxis": "x12",
         "y": [
          0.9604162633419037,
          0.9812286913394928,
          1.0547321081161498,
          1.120662506421407,
          1.1336923937002819
         ],
         "yaxis": "y12"
        },
        {
         "hovertemplate": "method=STGNN<br>model=GConvLSTM<br>dataset=pedalme<br>mrate=%{x}<br>mse=%{y}<extra></extra>",
         "legendgroup": "STGNN",
         "line": {
          "color": "#EF553B",
          "dash": "dashdot"
         },
         "marker": {
          "symbol": "circle"
         },
         "mode": "lines+markers",
         "name": "STGNN",
         "orientation": "v",
         "showlegend": false,
         "type": "scatter",
         "x": [
          0,
          0.3,
          0.5,
          0.6,
          0.8
         ],
         "xaxis": "x13",
         "y": [
          1.215217145284017,
          1.265794285138448,
          1.2832311471303304,
          1.2739146629969278,
          1.3637308041254679
         ],
         "yaxis": "y13"
        },
        {
         "hovertemplate": "method=STGNN<br>model=GConvLSTM<br>dataset=wikimath<br>mrate=%{x}<br>mse=%{y}<extra></extra>",
         "legendgroup": "STGNN",
         "line": {
          "color": "#EF553B",
          "dash": "dashdot"
         },
         "marker": {
          "symbol": "circle"
         },
         "mode": "lines+markers",
         "name": "STGNN",
         "orientation": "v",
         "showlegend": false,
         "type": "scatter",
         "x": [
          0,
          0.3,
          0.5,
          0.6,
          0.8
         ],
         "xaxis": "x14",
         "y": [
          0.6397915740807851,
          0.7642852425575256,
          0.9651655813058218,
          1.1036300559838612,
          1.4230417132377624
         ],
         "yaxis": "y14"
        },
        {
         "hovertemplate": "method=STGNN<br>model=GConvLSTM<br>dataset=windmillsmall<br>mrate=%{x}<br>mse=%{y}<extra></extra>",
         "legendgroup": "STGNN",
         "line": {
          "color": "#EF553B",
          "dash": "dashdot"
         },
         "marker": {
          "symbol": "circle"
         },
         "mode": "lines+markers",
         "name": "STGNN",
         "orientation": "v",
         "showlegend": false,
         "type": "scatter",
         "x": [
          0,
          0.7
         ],
         "xaxis": "x15",
         "y": [
          1.0233653860707437,
          1.5990776399086262
         ],
         "yaxis": "y15"
        },
        {
         "hovertemplate": "method=STGNN<br>model=LRGCN<br>dataset=chickenpox<br>mrate=%{x}<br>mse=%{y}<extra></extra>",
         "legendgroup": "STGNN",
         "line": {
          "color": "#EF553B",
          "dash": "dashdot"
         },
         "marker": {
          "symbol": "circle"
         },
         "mode": "lines+markers",
         "name": "STGNN",
         "orientation": "v",
         "showlegend": false,
         "type": "scatter",
         "x": [
          0,
          0.3,
          0.5,
          0.6,
          0.8
         ],
         "xaxis": "x6",
         "y": [
          0.8718462765216828,
          1.085606614748637,
          1.458146858215332,
          1.6153934677441915,
          1.6320517897605895
         ],
         "yaxis": "y6"
        },
        {
         "hovertemplate": "method=STGNN<br>model=LRGCN<br>dataset=monte<br>mrate=%{x}<br>mse=%{y}<extra></extra>",
         "legendgroup": "STGNN",
         "line": {
          "color": "#EF553B",
          "dash": "dashdot"
         },
         "marker": {
          "symbol": "circle"
         },
         "mode": "lines+markers",
         "name": "STGNN",
         "orientation": "v",
         "showlegend": false,
         "type": "scatter",
         "x": [
          0,
          0.3,
          0.5,
          0.7,
          0.8
         ],
         "xaxis": "x7",
         "y": [
          0.9831988374392192,
          0.9821819285551707,
          0.9777047276496887,
          0.9887572149435679,
          0.989219464858373
         ],
         "yaxis": "y7"
        },
        {
         "hovertemplate": "method=STGNN<br>model=LRGCN<br>dataset=pedalme<br>mrate=%{x}<br>mse=%{y}<extra></extra>",
         "legendgroup": "STGNN",
         "line": {
          "color": "#EF553B",
          "dash": "dashdot"
         },
         "marker": {
          "symbol": "circle"
         },
         "mode": "lines+markers",
         "name": "STGNN",
         "orientation": "v",
         "showlegend": false,
         "type": "scatter",
         "x": [
          0,
          0.3,
          0.5,
          0.6,
          0.8
         ],
         "xaxis": "x8",
         "y": [
          1.1884834090868632,
          1.287462544441223,
          1.3794140140215556,
          1.462139332294464,
          1.5292036334673564
         ],
         "yaxis": "y8"
        },
        {
         "hovertemplate": "method=STGNN<br>model=LRGCN<br>dataset=wikimath<br>mrate=%{x}<br>mse=%{y}<extra></extra>",
         "legendgroup": "STGNN",
         "line": {
          "color": "#EF553B",
          "dash": "dashdot"
         },
         "marker": {
          "symbol": "circle"
         },
         "mode": "lines+markers",
         "name": "STGNN",
         "orientation": "v",
         "showlegend": false,
         "type": "scatter",
         "x": [
          0,
          0.3,
          0.5,
          0.6,
          0.8
         ],
         "xaxis": "x9",
         "y": [
          0.6080588142077128,
          0.6893625636895497,
          0.8375950992107392,
          0.9172505060831706,
          1.1053302109241485
         ],
         "yaxis": "y9"
        },
        {
         "hovertemplate": "method=STGNN<br>model=LRGCN<br>dataset=windmillsmall<br>mrate=%{x}<br>mse=%{y}<extra></extra>",
         "legendgroup": "STGNN",
         "line": {
          "color": "#EF553B",
          "dash": "dashdot"
         },
         "marker": {
          "symbol": "circle"
         },
         "mode": "lines+markers",
         "name": "STGNN",
         "orientation": "v",
         "showlegend": false,
         "type": "scatter",
         "x": [
          0,
          0.7
         ],
         "xaxis": "x10",
         "y": [
          0.9879741052786509,
          1.4917972604433696
         ],
         "yaxis": "y10"
        },
        {
         "hovertemplate": "method=STGNN<br>model=TGCN<br>dataset=chickenpox<br>mrate=%{x}<br>mse=%{y}<extra></extra>",
         "legendgroup": "STGNN",
         "line": {
          "color": "#EF553B",
          "dash": "dashdot"
         },
         "marker": {
          "symbol": "circle"
         },
         "mode": "lines+markers",
         "name": "STGNN",
         "orientation": "v",
         "showlegend": false,
         "type": "scatter",
         "x": [
          0,
          0.3,
          0.5,
          0.6,
          0.8
         ],
         "xaxis": "x",
         "y": [
          1.0880127906799317,
          1.0536463975906372,
          1.1673845052719116,
          1.2415316065152486,
          1.465696108341217
         ],
         "yaxis": "y"
        },
        {
         "hovertemplate": "method=STGNN<br>model=TGCN<br>dataset=monte<br>mrate=%{x}<br>mse=%{y}<extra></extra>",
         "legendgroup": "STGNN",
         "line": {
          "color": "#EF553B",
          "dash": "dashdot"
         },
         "marker": {
          "symbol": "circle"
         },
         "mode": "lines+markers",
         "name": "STGNN",
         "orientation": "v",
         "showlegend": false,
         "type": "scatter",
         "x": [
          0,
          0.3,
          0.5,
          0.7,
          0.8
         ],
         "xaxis": "x2",
         "y": [
          0.9824497163295746,
          1.0345946947733562,
          1.0998533566792805,
          1.1828110456466674,
          1.2179521719614665
         ],
         "yaxis": "y2"
        },
        {
         "hovertemplate": "method=STGNN<br>model=TGCN<br>dataset=pedalme<br>mrate=%{x}<br>mse=%{y}<extra></extra>",
         "legendgroup": "STGNN",
         "line": {
          "color": "#EF553B",
          "dash": "dashdot"
         },
         "marker": {
          "symbol": "circle"
         },
         "mode": "lines+markers",
         "name": "STGNN",
         "orientation": "v",
         "showlegend": false,
         "type": "scatter",
         "x": [
          0,
          0.3,
          0.5,
          0.6,
          0.8
         ],
         "xaxis": "x3",
         "y": [
          1.2740009208520253,
          1.291389779249827,
          1.2870418469111125,
          1.3007892648379007,
          1.277076776822408
         ],
         "yaxis": "y3"
        },
        {
         "hovertemplate": "method=STGNN<br>model=TGCN<br>dataset=wikimath<br>mrate=%{x}<br>mse=%{y}<extra></extra>",
         "legendgroup": "STGNN",
         "line": {
          "color": "#EF553B",
          "dash": "dashdot"
         },
         "marker": {
          "symbol": "circle"
         },
         "mode": "lines+markers",
         "name": "STGNN",
         "orientation": "v",
         "showlegend": false,
         "type": "scatter",
         "x": [
          0,
          0.3,
          0.5,
          0.6,
          0.8
         ],
         "xaxis": "x4",
         "y": [
          0.7324025352795919,
          0.7344819446404774,
          0.7573648432890574,
          0.7742546598116556,
          0.8266303598880768
         ],
         "yaxis": "y4"
        },
        {
         "hovertemplate": "method=STGNN<br>model=TGCN<br>dataset=windmillsmall<br>mrate=%{x}<br>mse=%{y}<extra></extra>",
         "legendgroup": "STGNN",
         "line": {
          "color": "#EF553B",
          "dash": "dashdot"
         },
         "marker": {
          "symbol": "circle"
         },
         "mode": "lines+markers",
         "name": "STGNN",
         "orientation": "v",
         "showlegend": false,
         "type": "scatter",
         "x": [
          0,
          0.7
         ],
         "xaxis": "x5",
         "y": [
          0.9899344603220622,
          1.3049984494845073
         ],
         "yaxis": "y5"
        }
       ],
       "layout": {
        "annotations": [
         {
          "font": {},
          "showarrow": false,
          "text": "chickenpox",
          "x": 0.09000000000000001,
          "xanchor": "center",
          "xref": "paper",
          "y": 1,
          "yanchor": "bottom",
          "yref": "paper"
         },
         {
          "font": {},
          "showarrow": false,
          "text": "monte",
          "x": 0.29000000000000004,
          "xanchor": "center",
          "xref": "paper",
          "y": 1,
          "yanchor": "bottom",
          "yref": "paper"
         },
         {
          "font": {},
          "showarrow": false,
          "text": "pedalme",
          "x": 0.49000000000000005,
          "xanchor": "center",
          "xref": "paper",
          "y": 1,
          "yanchor": "bottom",
          "yref": "paper"
         },
         {
          "font": {},
          "showarrow": false,
          "text": "wikimath",
          "x": 0.6900000000000002,
          "xanchor": "center",
          "xref": "paper",
          "y": 1,
          "yanchor": "bottom",
          "yref": "paper"
         },
         {
          "font": {},
          "showarrow": false,
          "text": "windmillsmall",
          "x": 0.8900000000000001,
          "xanchor": "center",
          "xref": "paper",
          "y": 1,
          "yanchor": "bottom",
          "yref": "paper"
         },
         {
          "font": {},
          "showarrow": false,
          "text": "TGCN",
          "textangle": 90,
          "x": 0.9800000000000001,
          "xanchor": "left",
          "xref": "paper",
          "y": 0.042222222222222223,
          "yanchor": "middle",
          "yref": "paper"
         },
         {
          "font": {},
          "showarrow": false,
          "text": "LRGCN",
          "textangle": 90,
          "x": 0.9800000000000001,
          "xanchor": "left",
          "xref": "paper",
          "y": 0.15666666666666668,
          "yanchor": "middle",
          "yref": "paper"
         },
         {
          "font": {},
          "showarrow": false,
          "text": "GConvLSTM",
          "textangle": 90,
          "x": 0.9800000000000001,
          "xanchor": "left",
          "xref": "paper",
          "y": 0.27111111111111114,
          "yanchor": "middle",
          "yref": "paper"
         },
         {
          "font": {},
          "showarrow": false,
          "text": "GConvGRU",
          "textangle": 90,
          "x": 0.9800000000000001,
          "xanchor": "left",
          "xref": "paper",
          "y": 0.3855555555555556,
          "yanchor": "middle",
          "yref": "paper"
         },
         {
          "font": {},
          "showarrow": false,
          "text": "GCLSTM",
          "textangle": 90,
          "x": 0.9800000000000001,
          "xanchor": "left",
          "xref": "paper",
          "y": 0.5,
          "yanchor": "middle",
          "yref": "paper"
         },
         {
          "font": {},
          "showarrow": false,
          "text": "EvolveGCNO",
          "textangle": 90,
          "x": 0.9800000000000001,
          "xanchor": "left",
          "xref": "paper",
          "y": 0.6144444444444443,
          "yanchor": "middle",
          "yref": "paper"
         },
         {
          "font": {},
          "showarrow": false,
          "text": "EvolveGCNH",
          "textangle": 90,
          "x": 0.9800000000000001,
          "xanchor": "left",
          "xref": "paper",
          "y": 0.7288888888888889,
          "yanchor": "middle",
          "yref": "paper"
         },
         {
          "font": {},
          "showarrow": false,
          "text": "DyGrEncoder",
          "textangle": 90,
          "x": 0.9800000000000001,
          "xanchor": "left",
          "xref": "paper",
          "y": 0.8433333333333333,
          "yanchor": "middle",
          "yref": "paper"
         },
         {
          "font": {},
          "showarrow": false,
          "text": "DCRNN",
          "textangle": 90,
          "x": 0.9800000000000001,
          "xanchor": "left",
          "xref": "paper",
          "y": 0.9577777777777778,
          "yanchor": "middle",
          "yref": "paper"
         }
        ],
        "height": 1000,
        "legend": {
         "title": {
          "text": "method"
         },
         "tracegroupgap": 0
        },
        "margin": {
         "t": 60
        },
        "template": {
         "data": {
          "bar": [
           {
            "error_x": {
             "color": "#2a3f5f"
            },
            "error_y": {
             "color": "#2a3f5f"
            },
            "marker": {
             "line": {
              "color": "white",
              "width": 0.5
             },
             "pattern": {
              "fillmode": "overlay",
              "size": 10,
              "solidity": 0.2
             }
            },
            "type": "bar"
           }
          ],
          "barpolar": [
           {
            "marker": {
             "line": {
              "color": "white",
              "width": 0.5
             },
             "pattern": {
              "fillmode": "overlay",
              "size": 10,
              "solidity": 0.2
             }
            },
            "type": "barpolar"
           }
          ],
          "carpet": [
           {
            "aaxis": {
             "endlinecolor": "#2a3f5f",
             "gridcolor": "#C8D4E3",
             "linecolor": "#C8D4E3",
             "minorgridcolor": "#C8D4E3",
             "startlinecolor": "#2a3f5f"
            },
            "baxis": {
             "endlinecolor": "#2a3f5f",
             "gridcolor": "#C8D4E3",
             "linecolor": "#C8D4E3",
             "minorgridcolor": "#C8D4E3",
             "startlinecolor": "#2a3f5f"
            },
            "type": "carpet"
           }
          ],
          "choropleth": [
           {
            "colorbar": {
             "outlinewidth": 0,
             "ticks": ""
            },
            "type": "choropleth"
           }
          ],
          "contour": [
           {
            "colorbar": {
             "outlinewidth": 0,
             "ticks": ""
            },
            "colorscale": [
             [
              0,
              "#0d0887"
             ],
             [
              0.1111111111111111,
              "#46039f"
             ],
             [
              0.2222222222222222,
              "#7201a8"
             ],
             [
              0.3333333333333333,
              "#9c179e"
             ],
             [
              0.4444444444444444,
              "#bd3786"
             ],
             [
              0.5555555555555556,
              "#d8576b"
             ],
             [
              0.6666666666666666,
              "#ed7953"
             ],
             [
              0.7777777777777778,
              "#fb9f3a"
             ],
             [
              0.8888888888888888,
              "#fdca26"
             ],
             [
              1,
              "#f0f921"
             ]
            ],
            "type": "contour"
           }
          ],
          "contourcarpet": [
           {
            "colorbar": {
             "outlinewidth": 0,
             "ticks": ""
            },
            "type": "contourcarpet"
           }
          ],
          "heatmap": [
           {
            "colorbar": {
             "outlinewidth": 0,
             "ticks": ""
            },
            "colorscale": [
             [
              0,
              "#0d0887"
             ],
             [
              0.1111111111111111,
              "#46039f"
             ],
             [
              0.2222222222222222,
              "#7201a8"
             ],
             [
              0.3333333333333333,
              "#9c179e"
             ],
             [
              0.4444444444444444,
              "#bd3786"
             ],
             [
              0.5555555555555556,
              "#d8576b"
             ],
             [
              0.6666666666666666,
              "#ed7953"
             ],
             [
              0.7777777777777778,
              "#fb9f3a"
             ],
             [
              0.8888888888888888,
              "#fdca26"
             ],
             [
              1,
              "#f0f921"
             ]
            ],
            "type": "heatmap"
           }
          ],
          "heatmapgl": [
           {
            "colorbar": {
             "outlinewidth": 0,
             "ticks": ""
            },
            "colorscale": [
             [
              0,
              "#0d0887"
             ],
             [
              0.1111111111111111,
              "#46039f"
             ],
             [
              0.2222222222222222,
              "#7201a8"
             ],
             [
              0.3333333333333333,
              "#9c179e"
             ],
             [
              0.4444444444444444,
              "#bd3786"
             ],
             [
              0.5555555555555556,
              "#d8576b"
             ],
             [
              0.6666666666666666,
              "#ed7953"
             ],
             [
              0.7777777777777778,
              "#fb9f3a"
             ],
             [
              0.8888888888888888,
              "#fdca26"
             ],
             [
              1,
              "#f0f921"
             ]
            ],
            "type": "heatmapgl"
           }
          ],
          "histogram": [
           {
            "marker": {
             "pattern": {
              "fillmode": "overlay",
              "size": 10,
              "solidity": 0.2
             }
            },
            "type": "histogram"
           }
          ],
          "histogram2d": [
           {
            "colorbar": {
             "outlinewidth": 0,
             "ticks": ""
            },
            "colorscale": [
             [
              0,
              "#0d0887"
             ],
             [
              0.1111111111111111,
              "#46039f"
             ],
             [
              0.2222222222222222,
              "#7201a8"
             ],
             [
              0.3333333333333333,
              "#9c179e"
             ],
             [
              0.4444444444444444,
              "#bd3786"
             ],
             [
              0.5555555555555556,
              "#d8576b"
             ],
             [
              0.6666666666666666,
              "#ed7953"
             ],
             [
              0.7777777777777778,
              "#fb9f3a"
             ],
             [
              0.8888888888888888,
              "#fdca26"
             ],
             [
              1,
              "#f0f921"
             ]
            ],
            "type": "histogram2d"
           }
          ],
          "histogram2dcontour": [
           {
            "colorbar": {
             "outlinewidth": 0,
             "ticks": ""
            },
            "colorscale": [
             [
              0,
              "#0d0887"
             ],
             [
              0.1111111111111111,
              "#46039f"
             ],
             [
              0.2222222222222222,
              "#7201a8"
             ],
             [
              0.3333333333333333,
              "#9c179e"
             ],
             [
              0.4444444444444444,
              "#bd3786"
             ],
             [
              0.5555555555555556,
              "#d8576b"
             ],
             [
              0.6666666666666666,
              "#ed7953"
             ],
             [
              0.7777777777777778,
              "#fb9f3a"
             ],
             [
              0.8888888888888888,
              "#fdca26"
             ],
             [
              1,
              "#f0f921"
             ]
            ],
            "type": "histogram2dcontour"
           }
          ],
          "mesh3d": [
           {
            "colorbar": {
             "outlinewidth": 0,
             "ticks": ""
            },
            "type": "mesh3d"
           }
          ],
          "parcoords": [
           {
            "line": {
             "colorbar": {
              "outlinewidth": 0,
              "ticks": ""
             }
            },
            "type": "parcoords"
           }
          ],
          "pie": [
           {
            "automargin": true,
            "type": "pie"
           }
          ],
          "scatter": [
           {
            "fillpattern": {
             "fillmode": "overlay",
             "size": 10,
             "solidity": 0.2
            },
            "type": "scatter"
           }
          ],
          "scatter3d": [
           {
            "line": {
             "colorbar": {
              "outlinewidth": 0,
              "ticks": ""
             }
            },
            "marker": {
             "colorbar": {
              "outlinewidth": 0,
              "ticks": ""
             }
            },
            "type": "scatter3d"
           }
          ],
          "scattercarpet": [
           {
            "marker": {
             "colorbar": {
              "outlinewidth": 0,
              "ticks": ""
             }
            },
            "type": "scattercarpet"
           }
          ],
          "scattergeo": [
           {
            "marker": {
             "colorbar": {
              "outlinewidth": 0,
              "ticks": ""
             }
            },
            "type": "scattergeo"
           }
          ],
          "scattergl": [
           {
            "marker": {
             "colorbar": {
              "outlinewidth": 0,
              "ticks": ""
             }
            },
            "type": "scattergl"
           }
          ],
          "scattermapbox": [
           {
            "marker": {
             "colorbar": {
              "outlinewidth": 0,
              "ticks": ""
             }
            },
            "type": "scattermapbox"
           }
          ],
          "scatterpolar": [
           {
            "marker": {
             "colorbar": {
              "outlinewidth": 0,
              "ticks": ""
             }
            },
            "type": "scatterpolar"
           }
          ],
          "scatterpolargl": [
           {
            "marker": {
             "colorbar": {
              "outlinewidth": 0,
              "ticks": ""
             }
            },
            "type": "scatterpolargl"
           }
          ],
          "scatterternary": [
           {
            "marker": {
             "colorbar": {
              "outlinewidth": 0,
              "ticks": ""
             }
            },
            "type": "scatterternary"
           }
          ],
          "surface": [
           {
            "colorbar": {
             "outlinewidth": 0,
             "ticks": ""
            },
            "colorscale": [
             [
              0,
              "#0d0887"
             ],
             [
              0.1111111111111111,
              "#46039f"
             ],
             [
              0.2222222222222222,
              "#7201a8"
             ],
             [
              0.3333333333333333,
              "#9c179e"
             ],
             [
              0.4444444444444444,
              "#bd3786"
             ],
             [
              0.5555555555555556,
              "#d8576b"
             ],
             [
              0.6666666666666666,
              "#ed7953"
             ],
             [
              0.7777777777777778,
              "#fb9f3a"
             ],
             [
              0.8888888888888888,
              "#fdca26"
             ],
             [
              1,
              "#f0f921"
             ]
            ],
            "type": "surface"
           }
          ],
          "table": [
           {
            "cells": {
             "fill": {
              "color": "#EBF0F8"
             },
             "line": {
              "color": "white"
             }
            },
            "header": {
             "fill": {
              "color": "#C8D4E3"
             },
             "line": {
              "color": "white"
             }
            },
            "type": "table"
           }
          ]
         },
         "layout": {
          "annotationdefaults": {
           "arrowcolor": "#2a3f5f",
           "arrowhead": 0,
           "arrowwidth": 1
          },
          "autotypenumbers": "strict",
          "coloraxis": {
           "colorbar": {
            "outlinewidth": 0,
            "ticks": ""
           }
          },
          "colorscale": {
           "diverging": [
            [
             0,
             "#8e0152"
            ],
            [
             0.1,
             "#c51b7d"
            ],
            [
             0.2,
             "#de77ae"
            ],
            [
             0.3,
             "#f1b6da"
            ],
            [
             0.4,
             "#fde0ef"
            ],
            [
             0.5,
             "#f7f7f7"
            ],
            [
             0.6,
             "#e6f5d0"
            ],
            [
             0.7,
             "#b8e186"
            ],
            [
             0.8,
             "#7fbc41"
            ],
            [
             0.9,
             "#4d9221"
            ],
            [
             1,
             "#276419"
            ]
           ],
           "sequential": [
            [
             0,
             "#0d0887"
            ],
            [
             0.1111111111111111,
             "#46039f"
            ],
            [
             0.2222222222222222,
             "#7201a8"
            ],
            [
             0.3333333333333333,
             "#9c179e"
            ],
            [
             0.4444444444444444,
             "#bd3786"
            ],
            [
             0.5555555555555556,
             "#d8576b"
            ],
            [
             0.6666666666666666,
             "#ed7953"
            ],
            [
             0.7777777777777778,
             "#fb9f3a"
            ],
            [
             0.8888888888888888,
             "#fdca26"
            ],
            [
             1,
             "#f0f921"
            ]
           ],
           "sequentialminus": [
            [
             0,
             "#0d0887"
            ],
            [
             0.1111111111111111,
             "#46039f"
            ],
            [
             0.2222222222222222,
             "#7201a8"
            ],
            [
             0.3333333333333333,
             "#9c179e"
            ],
            [
             0.4444444444444444,
             "#bd3786"
            ],
            [
             0.5555555555555556,
             "#d8576b"
            ],
            [
             0.6666666666666666,
             "#ed7953"
            ],
            [
             0.7777777777777778,
             "#fb9f3a"
            ],
            [
             0.8888888888888888,
             "#fdca26"
            ],
            [
             1,
             "#f0f921"
            ]
           ]
          },
          "colorway": [
           "#636efa",
           "#EF553B",
           "#00cc96",
           "#ab63fa",
           "#FFA15A",
           "#19d3f3",
           "#FF6692",
           "#B6E880",
           "#FF97FF",
           "#FECB52"
          ],
          "font": {
           "color": "#2a3f5f"
          },
          "geo": {
           "bgcolor": "white",
           "lakecolor": "white",
           "landcolor": "white",
           "showlakes": true,
           "showland": true,
           "subunitcolor": "#C8D4E3"
          },
          "hoverlabel": {
           "align": "left"
          },
          "hovermode": "closest",
          "mapbox": {
           "style": "light"
          },
          "paper_bgcolor": "white",
          "plot_bgcolor": "white",
          "polar": {
           "angularaxis": {
            "gridcolor": "#EBF0F8",
            "linecolor": "#EBF0F8",
            "ticks": ""
           },
           "bgcolor": "white",
           "radialaxis": {
            "gridcolor": "#EBF0F8",
            "linecolor": "#EBF0F8",
            "ticks": ""
           }
          },
          "scene": {
           "xaxis": {
            "backgroundcolor": "white",
            "gridcolor": "#DFE8F3",
            "gridwidth": 2,
            "linecolor": "#EBF0F8",
            "showbackground": true,
            "ticks": "",
            "zerolinecolor": "#EBF0F8"
           },
           "yaxis": {
            "backgroundcolor": "white",
            "gridcolor": "#DFE8F3",
            "gridwidth": 2,
            "linecolor": "#EBF0F8",
            "showbackground": true,
            "ticks": "",
            "zerolinecolor": "#EBF0F8"
           },
           "zaxis": {
            "backgroundcolor": "white",
            "gridcolor": "#DFE8F3",
            "gridwidth": 2,
            "linecolor": "#EBF0F8",
            "showbackground": true,
            "ticks": "",
            "zerolinecolor": "#EBF0F8"
           }
          },
          "shapedefaults": {
           "line": {
            "color": "#2a3f5f"
           }
          },
          "ternary": {
           "aaxis": {
            "gridcolor": "#DFE8F3",
            "linecolor": "#A2B1C6",
            "ticks": ""
           },
           "baxis": {
            "gridcolor": "#DFE8F3",
            "linecolor": "#A2B1C6",
            "ticks": ""
           },
           "bgcolor": "white",
           "caxis": {
            "gridcolor": "#DFE8F3",
            "linecolor": "#A2B1C6",
            "ticks": ""
           }
          },
          "title": {
           "x": 0.05
          },
          "xaxis": {
           "automargin": true,
           "gridcolor": "#EBF0F8",
           "linecolor": "#EBF0F8",
           "ticks": "",
           "title": {
            "standoff": 15
           },
           "zerolinecolor": "#EBF0F8",
           "zerolinewidth": 2
          },
          "yaxis": {
           "automargin": true,
           "gridcolor": "#EBF0F8",
           "linecolor": "#EBF0F8",
           "ticks": "",
           "title": {
            "standoff": 15
           },
           "zerolinecolor": "#EBF0F8",
           "zerolinewidth": 2
          }
         }
        },
        "width": 850,
        "xaxis": {
         "anchor": "y",
         "autorange": true,
         "domain": [
          0,
          0.18000000000000002
         ],
         "range": [
          -0.07910168434185902,
          0.8791016843418591
         ],
         "showticklabels": true,
         "title": {},
         "type": "linear"
        },
        "xaxis10": {
         "anchor": "y10",
         "autorange": true,
         "domain": [
          0.8,
          0.9800000000000001
         ],
         "range": [
          -0.06921397379912664,
          0.7692139737991266
         ],
         "showticklabels": true,
         "type": "linear"
        },
        "xaxis11": {
         "anchor": "y11",
         "autorange": true,
         "domain": [
          0,
          0.18000000000000002
         ],
         "range": [
          -0.07910168434185902,
          0.8791016843418591
         ],
         "showticklabels": true,
         "type": "linear"
        },
        "xaxis12": {
         "anchor": "y12",
         "autorange": true,
         "domain": [
          0.2,
          0.38
         ],
         "range": [
          -0.07910168434185905,
          0.8791016843418591
         ],
         "showticklabels": true,
         "type": "linear"
        },
        "xaxis13": {
         "anchor": "y13",
         "autorange": true,
         "domain": [
          0.4,
          0.5800000000000001
         ],
         "range": [
          -0.07910168434185902,
          0.8791016843418591
         ],
         "showticklabels": true,
         "type": "linear"
        },
        "xaxis14": {
         "anchor": "y14",
         "autorange": true,
         "domain": [
          0.6000000000000001,
          0.7800000000000001
         ],
         "range": [
          -0.07910168434185902,
          0.8791016843418591
         ],
         "showticklabels": true,
         "type": "linear"
        },
        "xaxis15": {
         "anchor": "y15",
         "autorange": true,
         "domain": [
          0.8,
          0.9800000000000001
         ],
         "range": [
          -0.06921397379912664,
          0.7692139737991266
         ],
         "showticklabels": true,
         "type": "linear"
        },
        "xaxis16": {
         "anchor": "y16",
         "autorange": true,
         "domain": [
          0,
          0.18000000000000002
         ],
         "range": [
          -0.07910168434185902,
          0.8791016843418591
         ],
         "showticklabels": true,
         "type": "linear"
        },
        "xaxis17": {
         "anchor": "y17",
         "autorange": true,
         "domain": [
          0.2,
          0.38
         ],
         "range": [
          -0.07910168434185905,
          0.8791016843418591
         ],
         "showticklabels": true,
         "type": "linear"
        },
        "xaxis18": {
         "anchor": "y18",
         "autorange": true,
         "domain": [
          0.4,
          0.5800000000000001
         ],
         "range": [
          -0.07910168434185902,
          0.8791016843418591
         ],
         "showticklabels": true,
         "type": "linear"
        },
        "xaxis19": {
         "anchor": "y19",
         "autorange": true,
         "domain": [
          0.6000000000000001,
          0.7800000000000001
         ],
         "range": [
          -0.07910168434185902,
          0.8791016843418591
         ],
         "showticklabels": true,
         "type": "linear"
        },
        "xaxis2": {
         "anchor": "y2",
         "autorange": true,
         "domain": [
          0.2,
          0.38
         ],
         "range": [
          -0.07910168434185905,
          0.8791016843418591
         ],
         "showticklabels": true,
         "title": {},
         "type": "linear"
        },
        "xaxis20": {
         "anchor": "y20",
         "autorange": true,
         "domain": [
          0.8,
          0.9800000000000001
         ],
         "range": [
          -0.06921397379912664,
          0.7692139737991266
         ],
         "showticklabels": true,
         "type": "linear"
        },
        "xaxis21": {
         "anchor": "y21",
         "autorange": true,
         "domain": [
          0,
          0.18000000000000002
         ],
         "range": [
          -0.07910168434185902,
          0.8791016843418591
         ],
         "showticklabels": true,
         "type": "linear"
        },
        "xaxis22": {
         "anchor": "y22",
         "autorange": true,
         "domain": [
          0.2,
          0.38
         ],
         "range": [
          -0.07910168434185905,
          0.8791016843418591
         ],
         "showticklabels": true,
         "type": "linear"
        },
        "xaxis23": {
         "anchor": "y23",
         "autorange": true,
         "domain": [
          0.4,
          0.5800000000000001
         ],
         "range": [
          -0.07910168434185902,
          0.8791016843418591
         ],
         "showticklabels": true,
         "type": "linear"
        },
        "xaxis24": {
         "anchor": "y24",
         "autorange": true,
         "domain": [
          0.6000000000000001,
          0.7800000000000001
         ],
         "range": [
          -0.07910168434185902,
          0.8791016843418591
         ],
         "showticklabels": true,
         "type": "linear"
        },
        "xaxis25": {
         "anchor": "y25",
         "autorange": true,
         "domain": [
          0.8,
          0.9800000000000001
         ],
         "range": [
          -0.06921397379912664,
          0.7692139737991266
         ],
         "showticklabels": true,
         "type": "linear"
        },
        "xaxis26": {
         "anchor": "y26",
         "autorange": true,
         "domain": [
          0,
          0.18000000000000002
         ],
         "range": [
          -0.07910168434185902,
          0.8791016843418591
         ],
         "showticklabels": true,
         "type": "linear"
        },
        "xaxis27": {
         "anchor": "y27",
         "autorange": true,
         "domain": [
          0.2,
          0.38
         ],
         "range": [
          -0.07910168434185905,
          0.8791016843418591
         ],
         "showticklabels": true,
         "type": "linear"
        },
        "xaxis28": {
         "anchor": "y28",
         "autorange": true,
         "domain": [
          0.4,
          0.5800000000000001
         ],
         "range": [
          -0.07910168434185902,
          0.8791016843418591
         ],
         "showticklabels": true,
         "type": "linear"
        },
        "xaxis29": {
         "anchor": "y29",
         "autorange": true,
         "domain": [
          0.6000000000000001,
          0.7800000000000001
         ],
         "range": [
          -0.07910168434185902,
          0.8791016843418591
         ],
         "showticklabels": true,
         "type": "linear"
        },
        "xaxis3": {
         "anchor": "y3",
         "autorange": true,
         "domain": [
          0.4,
          0.5800000000000001
         ],
         "range": [
          -0.07910168434185902,
          0.8791016843418591
         ],
         "showticklabels": true,
         "title": {},
         "type": "linear"
        },
        "xaxis30": {
         "anchor": "y30",
         "autorange": true,
         "domain": [
          0.8,
          0.9800000000000001
         ],
         "range": [
          -0.06921397379912664,
          0.7692139737991266
         ],
         "showticklabels": true,
         "type": "linear"
        },
        "xaxis31": {
         "anchor": "y31",
         "autorange": true,
         "domain": [
          0,
          0.18000000000000002
         ],
         "range": [
          -0.07910168434185902,
          0.8791016843418591
         ],
         "showticklabels": true,
         "type": "linear"
        },
        "xaxis32": {
         "anchor": "y32",
         "autorange": true,
         "domain": [
          0.2,
          0.38
         ],
         "range": [
          -0.07910168434185905,
          0.8791016843418591
         ],
         "showticklabels": true,
         "type": "linear"
        },
        "xaxis33": {
         "anchor": "y33",
         "autorange": true,
         "domain": [
          0.4,
          0.5800000000000001
         ],
         "range": [
          -0.07910168434185902,
          0.8791016843418591
         ],
         "showticklabels": true,
         "type": "linear"
        },
        "xaxis34": {
         "anchor": "y34",
         "autorange": true,
         "domain": [
          0.6000000000000001,
          0.7800000000000001
         ],
         "range": [
          -0.07910168434185902,
          0.8791016843418591
         ],
         "showticklabels": true,
         "type": "linear"
        },
        "xaxis35": {
         "anchor": "y35",
         "autorange": true,
         "domain": [
          0.8,
          0.9800000000000001
         ],
         "range": [
          -0.06921397379912664,
          0.7692139737991266
         ],
         "showticklabels": true,
         "type": "linear"
        },
        "xaxis36": {
         "anchor": "y36",
         "autorange": true,
         "domain": [
          0,
          0.18000000000000002
         ],
         "range": [
          -0.07910168434185902,
          0.8791016843418591
         ],
         "showticklabels": true,
         "type": "linear"
        },
        "xaxis37": {
         "anchor": "y37",
         "autorange": true,
         "domain": [
          0.2,
          0.38
         ],
         "range": [
          -0.07910168434185905,
          0.8791016843418591
         ],
         "showticklabels": true,
         "type": "linear"
        },
        "xaxis38": {
         "anchor": "y38",
         "autorange": true,
         "domain": [
          0.4,
          0.5800000000000001
         ],
         "range": [
          -0.07910168434185902,
          0.8791016843418591
         ],
         "showticklabels": true,
         "type": "linear"
        },
        "xaxis39": {
         "anchor": "y39",
         "autorange": true,
         "domain": [
          0.6000000000000001,
          0.7800000000000001
         ],
         "range": [
          -0.07910168434185902,
          0.8791016843418591
         ],
         "showticklabels": true,
         "type": "linear"
        },
        "xaxis4": {
         "anchor": "y4",
         "autorange": true,
         "domain": [
          0.6000000000000001,
          0.7800000000000001
         ],
         "range": [
          -0.07910168434185902,
          0.8791016843418591
         ],
         "showticklabels": true,
         "title": {},
         "type": "linear"
        },
        "xaxis40": {
         "anchor": "y40",
         "autorange": true,
         "domain": [
          0.8,
          0.9800000000000001
         ],
         "range": [
          -0.06921397379912664,
          0.7692139737991266
         ],
         "showticklabels": true,
         "type": "linear"
        },
        "xaxis41": {
         "anchor": "y41",
         "autorange": true,
         "domain": [
          0,
          0.18000000000000002
         ],
         "range": [
          -0.07910168434185902,
          0.8791016843418591
         ],
         "showticklabels": true,
         "type": "linear"
        },
        "xaxis42": {
         "anchor": "y42",
         "autorange": true,
         "domain": [
          0.2,
          0.38
         ],
         "range": [
          -0.07910168434185905,
          0.8791016843418591
         ],
         "showticklabels": true,
         "type": "linear"
        },
        "xaxis43": {
         "anchor": "y43",
         "autorange": true,
         "domain": [
          0.4,
          0.5800000000000001
         ],
         "range": [
          -0.07910168434185902,
          0.8791016843418591
         ],
         "showticklabels": true,
         "type": "linear"
        },
        "xaxis44": {
         "anchor": "y44",
         "autorange": true,
         "domain": [
          0.6000000000000001,
          0.7800000000000001
         ],
         "range": [
          -0.07910168434185902,
          0.8791016843418591
         ],
         "showticklabels": true,
         "type": "linear"
        },
        "xaxis45": {
         "anchor": "y45",
         "autorange": true,
         "domain": [
          0.8,
          0.9800000000000001
         ],
         "range": [
          -0.06921397379912664,
          0.7692139737991266
         ],
         "showticklabels": true,
         "type": "linear"
        },
        "xaxis5": {
         "anchor": "y5",
         "autorange": true,
         "domain": [
          0.8,
          0.9800000000000001
         ],
         "range": [
          -0.06921397379912664,
          0.7692139737991266
         ],
         "showticklabels": true,
         "title": {},
         "type": "linear"
        },
        "xaxis6": {
         "anchor": "y6",
         "autorange": true,
         "domain": [
          0,
          0.18000000000000002
         ],
         "range": [
          -0.07910168434185902,
          0.8791016843418591
         ],
         "showticklabels": true,
         "type": "linear"
        },
        "xaxis7": {
         "anchor": "y7",
         "autorange": true,
         "domain": [
          0.2,
          0.38
         ],
         "range": [
          -0.07910168434185905,
          0.8791016843418591
         ],
         "showticklabels": true,
         "type": "linear"
        },
        "xaxis8": {
         "anchor": "y8",
         "autorange": true,
         "domain": [
          0.4,
          0.5800000000000001
         ],
         "range": [
          -0.07910168434185902,
          0.8791016843418591
         ],
         "showticklabels": true,
         "type": "linear"
        },
        "xaxis9": {
         "anchor": "y9",
         "autorange": true,
         "domain": [
          0.6000000000000001,
          0.7800000000000001
         ],
         "range": [
          -0.07910168434185902,
          0.8791016843418591
         ],
         "showticklabels": true,
         "type": "linear"
        },
        "yaxis": {
         "anchor": "x",
         "autorange": true,
         "domain": [
          0,
          0.08444444444444445
         ],
         "range": [
          0.9765629568389914,
          1.5210346223223346
         ],
         "showticklabels": true,
         "title": {},
         "type": "linear"
        },
        "yaxis10": {
         "anchor": "x10",
         "autorange": true,
         "domain": [
          0.11444444444444445,
          0.1988888888888889
         ],
         "range": [
          0.922487247572202,
          1.556206654920321
         ],
         "showticklabels": true,
         "type": "linear"
        },
        "yaxis11": {
         "anchor": "x11",
         "autorange": true,
         "domain": [
          0.2288888888888889,
          0.31333333333333335
         ],
         "range": [
          0.6610544963899474,
          2.73247116762169
         ],
         "showticklabels": true,
         "title": {},
         "type": "linear"
        },
        "yaxis12": {
         "anchor": "x12",
         "autorange": true,
         "domain": [
          0.2288888888888889,
          0.31333333333333335
         ],
         "range": [
          0.9201832676700042,
          1.1831238702166789
         ],
         "showticklabels": true,
         "type": "linear"
        },
        "yaxis13": {
         "anchor": "x13",
         "autorange": true,
         "domain": [
          0.2288888888888889,
          0.31333333333333335
         ],
         "range": [
          1.193666088859303,
          1.3829712268908192
         ],
         "showticklabels": true,
         "type": "linear"
        },
        "yaxis14": {
         "anchor": "x14",
         "autorange": true,
         "domain": [
          0.2288888888888889,
          0.31333333333333335
         ],
         "range": [
          0.524741909568371,
          1.5246716601998989
         ],
         "showticklabels": true,
         "type": "linear"
        },
        "yaxis15": {
         "anchor": "x15",
         "autorange": true,
         "domain": [
          0.2288888888888889,
          0.31333333333333335
         ],
         "range": [
          0.939709827447356,
          1.673675803612157
         ],
         "showticklabels": true,
         "type": "linear"
        },
        "yaxis16": {
         "anchor": "x16",
         "autorange": true,
         "domain": [
          0.3433333333333334,
          0.4277777777777778
         ],
         "range": [
          0.5252549292816548,
          2.755639079990603
         ],
         "showticklabels": true,
         "title": {},
         "type": "linear"
        },
        "yaxis17": {
         "anchor": "x17",
         "autorange": true,
         "domain": [
          0.3433333333333334,
          0.4277777777777778
         ],
         "range": [
          0.8558356600677013,
          1.5906877450471084
         ],
         "showticklabels": true,
         "type": "linear"
        },
        "yaxis18": {
         "anchor": "x18",
         "autorange": true,
         "domain": [
          0.3433333333333334,
          0.4277777777777778
         ],
         "range": [
          1.1511437702978813,
          1.9526457539394337
         ],
         "showticklabels": true,
         "type": "linear"
        },
        "yaxis19": {
         "anchor": "x19",
         "autorange": true,
         "domain": [
          0.3433333333333334,
          0.4277777777777778
         ],
         "range": [
          0.465199525312019,
          0.9852037398463164
         ],
         "showticklabels": true,
         "type": "linear"
        },
        "yaxis2": {
         "anchor": "x2",
         "autorange": true,
         "domain": [
          0,
          0.08444444444444445
         ],
         "range": [
          0.9524070306752622,
          1.2479948576157789
         ],
         "showticklabels": true,
         "type": "linear"
        },
        "yaxis20": {
         "anchor": "x20",
         "autorange": true,
         "domain": [
          0.3433333333333334,
          0.4277777777777778
         ],
         "range": [
          0.9189269399308628,
          1.7459446296718575
         ],
         "showticklabels": true,
         "type": "linear"
        },
        "yaxis21": {
         "anchor": "x21",
         "autorange": true,
         "domain": [
          0.4577777777777778,
          0.5422222222222223
         ],
         "range": [
          0.6815147671584177,
          2.340943368923278
         ],
         "showticklabels": true,
         "title": {},
         "type": "linear"
        },
        "yaxis22": {
         "anchor": "x22",
         "autorange": true,
         "domain": [
          0.4577777777777778,
          0.5422222222222223
         ],
         "range": [
          0.9338514823650552,
          1.163537954065346
         ],
         "showticklabels": true,
         "type": "linear"
        },
        "yaxis23": {
         "anchor": "x23",
         "autorange": true,
         "domain": [
          0.4577777777777778,
          0.5422222222222223
         ],
         "range": [
          1.1411804257055729,
          1.4252516549606513
         ],
         "showticklabels": true,
         "type": "linear"
        },
        "yaxis24": {
         "anchor": "x24",
         "autorange": true,
         "domain": [
          0.4577777777777778,
          0.5422222222222223
         ],
         "range": [
          0.5259376551765885,
          1.5064241959593012
         ],
         "showticklabels": true,
         "type": "linear"
        },
        "yaxis25": {
         "anchor": "x25",
         "autorange": true,
         "domain": [
          0.4577777777777778,
          0.5422222222222223
         ],
         "range": [
          0.9180003190922708,
          1.6474376938947841
         ],
         "showticklabels": true,
         "type": "linear"
        },
        "yaxis26": {
         "anchor": "x26",
         "autorange": true,
         "domain": [
          0.5722222222222222,
          0.6566666666666666
         ],
         "range": [
          0.9518984300558819,
          1.26554857465972
         ],
         "showticklabels": true,
         "title": {},
         "type": "linear"
        },
        "yaxis27": {
         "anchor": "x27",
         "autorange": true,
         "domain": [
          0.5722222222222222,
          0.6566666666666666
         ],
         "range": [
          0.7896338373691989,
          2.8304168015449096
         ],
         "showticklabels": true,
         "type": "linear"
        },
        "yaxis28": {
         "anchor": "x28",
         "autorange": true,
         "domain": [
          0.5722222222222222,
          0.6566666666666666
         ],
         "range": [
          1.1972593847696213,
          1.3490640874918074
         ],
         "showticklabels": true,
         "type": "linear"
        },
        "yaxis29": {
         "anchor": "x29",
         "autorange": true,
         "domain": [
          0.5722222222222222,
          0.6566666666666666
         ],
         "range": [
          0.7171932043109012,
          0.8798452216909655
         ],
         "showticklabels": true,
         "type": "linear"
        },
        "yaxis3": {
         "anchor": "x3",
         "autorange": true,
         "domain": [
          0,
          0.08444444444444445
         ],
         "range": [
          1.2366787909774275,
          1.3526818017852016
         ],
         "showticklabels": true,
         "type": "linear"
        },
        "yaxis30": {
         "anchor": "x30",
         "autorange": true,
         "domain": [
          0.5722222222222222,
          0.6566666666666666
         ],
         "range": [
          0.9175783981575847,
          1.5598038465088326
         ],
         "showticklabels": true,
         "type": "linear"
        },
        "yaxis31": {
         "anchor": "x31",
         "autorange": true,
         "domain": [
          0.6866666666666668,
          0.7711111111111112
         ],
         "range": [
          0.9697527719916628,
          1.2293072866020873
         ],
         "showticklabels": true,
         "title": {},
         "type": "linear"
        },
        "yaxis32": {
         "anchor": "x32",
         "autorange": true,
         "domain": [
          0.6866666666666668,
          0.7711111111111112
         ],
         "range": [
          0.858791371846578,
          2.3053842190261866
         ],
         "showticklabels": true,
         "type": "linear"
        },
        "yaxis33": {
         "anchor": "x33",
         "autorange": true,
         "domain": [
          0.6866666666666668,
          0.7711111111111112
         ],
         "range": [
          1.19143494560612,
          1.3110782405307617
         ],
         "showticklabels": true,
         "type": "linear"
        },
        "yaxis34": {
         "anchor": "x34",
         "autorange": true,
         "domain": [
          0.6866666666666668,
          0.7711111111111112
         ],
         "range": [
          0.7520861359804575,
          0.9333292571336325
         ],
         "showticklabels": true,
         "type": "linear"
        },
        "yaxis35": {
         "anchor": "x35",
         "autorange": true,
         "domain": [
          0.6866666666666668,
          0.7711111111111112
         ],
         "range": [
          0.9416869726225793,
          1.3740767730827075
         ],
         "showticklabels": true,
         "type": "linear"
        },
        "yaxis36": {
         "anchor": "x36",
         "autorange": true,
         "domain": [
          0.8011111111111111,
          0.8855555555555555
         ],
         "range": [
          0.7076188041917268,
          2.2875742421396787
         ],
         "showticklabels": true,
         "title": {},
         "type": "linear"
        },
        "yaxis37": {
         "anchor": "x37",
         "autorange": true,
         "domain": [
          0.8011111111111111,
          0.8855555555555555
         ],
         "range": [
          0.9209244252153177,
          1.5292488176715435
         ],
         "showticklabels": true,
         "type": "linear"
        },
        "yaxis38": {
         "anchor": "x38",
         "autorange": true,
         "domain": [
          0.8011111111111111,
          0.8855555555555555
         ],
         "range": [
          1.1273720067420367,
          1.6685605305752393
         ],
         "showticklabels": true,
         "type": "linear"
        },
        "yaxis39": {
         "anchor": "x39",
         "autorange": true,
         "domain": [
          0.8011111111111111,
          0.8855555555555555
         ],
         "range": [
          0.5332420116636958,
          0.7973011606957707
         ],
         "showticklabels": true,
         "type": "linear"
        },
        "yaxis4": {
         "anchor": "x4",
         "autorange": true,
         "domain": [
          0,
          0.08444444444444445
         ],
         "range": [
          0.7171165840155647,
          0.8390202982895806
         ],
         "showticklabels": true,
         "type": "linear"
        },
        "yaxis40": {
         "anchor": "x40",
         "autorange": true,
         "domain": [
          0.8011111111111111,
          0.8855555555555555
         ],
         "range": [
          0.894545190923392,
          1.8009910430580585
         ],
         "showticklabels": true,
         "type": "linear"
        },
        "yaxis41": {
         "anchor": "x41",
         "autorange": true,
         "domain": [
          0.9155555555555556,
          1
         ],
         "range": [
          0.5271421476534914,
          2.486578299171536
         ],
         "showticklabels": true,
         "title": {},
         "type": "linear"
        },
        "yaxis42": {
         "anchor": "x42",
         "autorange": true,
         "domain": [
          0.9155555555555556,
          1
         ],
         "range": [
          0.8986893444077345,
          1.2620034096489843
         ],
         "showticklabels": true,
         "type": "linear"
        },
        "yaxis43": {
         "anchor": "x43",
         "autorange": true,
         "domain": [
          0.9155555555555556,
          1
         ],
         "range": [
          1.0692915816774817,
          1.6775350849160697
         ],
         "showticklabels": true,
         "type": "linear"
        },
        "yaxis44": {
         "anchor": "x44",
         "autorange": true,
         "domain": [
          0.9155555555555556,
          1
         ],
         "range": [
          0.5456711608526447,
          0.8805161457898877
         ],
         "showticklabels": true,
         "type": "linear"
        },
        "yaxis45": {
         "anchor": "x45",
         "autorange": true,
         "domain": [
          0.9155555555555556,
          1
         ],
         "range": [
          0.9410434571727747,
          1.3937280349110925
         ],
         "showticklabels": true,
         "type": "linear"
        },
        "yaxis5": {
         "anchor": "x5",
         "autorange": true,
         "domain": [
          0,
          0.08444444444444445
         ],
         "range": [
          0.94974223233869,
          1.3451906774678795
         ],
         "showticklabels": true,
         "type": "linear"
        },
        "yaxis6": {
         "anchor": "x6",
         "autorange": true,
         "domain": [
          0.11444444444444445,
          0.1988888888888889
         ],
         "range": [
          0.7672424552683638,
          1.7298927627161536
         ],
         "showticklabels": true,
         "title": {},
         "type": "linear"
        },
        "yaxis7": {
         "anchor": "x7",
         "autorange": true,
         "domain": [
          0.11444444444444445,
          0.1988888888888889
         ],
         "range": [
          0.9717904371652563,
          0.9911913134024978
         ],
         "showticklabels": true,
         "type": "linear"
        },
        "yaxis8": {
         "anchor": "x8",
         "autorange": true,
         "domain": [
          0.11444444444444445,
          0.1988888888888889
         ],
         "range": [
          1.145018254680449,
          1.5726687878737706
         ],
         "showticklabels": true,
         "type": "linear"
        },
        "yaxis9": {
         "anchor": "x9",
         "autorange": true,
         "domain": [
          0.11444444444444445,
          0.1988888888888889
         ],
         "range": [
          0.5446226677932395,
          1.1687663573386218
         ],
         "showticklabels": true,
         "type": "linear"
        }
       }
      },
      "image/png": "[encoded data removed]",
      "text/html": [
       "<div>                            <div id=\"ec87b8fc-a13a-4608-9ffa-a36cf3199dbc\" class=\"plotly-graph-div\" style=\"height:1000px; width:850px;\"></div>            <script type=\"text/javascript\">                require([\"plotly\"], function(Plotly) {                    window.PLOTLYENV=window.PLOTLYENV || {};                                    if (document.getElementById(\"ec87b8fc-a13a-4608-9ffa-a36cf3199dbc\")) {                    Plotly.newPlot(                        \"ec87b8fc-a13a-4608-9ffa-a36cf3199dbc\",                        [{\"hovertemplate\":\"method=IT-STGNN\\u003cbr\\u003emodel=DCRNN\\u003cbr\\u003edataset=chickenpox\\u003cbr\\u003emrate=%{x}\\u003cbr\\u003emse=%{y}\\u003cextra\\u003e\\u003c\\u002fextra\\u003e\",\"legendgroup\":\"IT-STGNN\",\"line\":{\"color\":\"#636efa\",\"dash\":\"dashdot\"},\"marker\":{\"symbol\":\"circle\"},\"mode\":\"lines+markers\",\"name\":\"IT-STGNN\",\"orientation\":\"v\",\"showlegend\":true,\"x\":[0.0,0.3,0.5,0.6,0.8],\"xaxis\":\"x41\",\"y\":[0.7262935300668081,0.7974194288253784,0.8688039183616638,0.9730672180652619,1.467026937007904],\"yaxis\":\"y41\",\"type\":\"scatter\"},{\"hovertemplate\":\"method=IT-STGNN\\u003cbr\\u003emodel=DCRNN\\u003cbr\\u003edataset=monte\\u003cbr\\u003emrate=%{x}\\u003cbr\\u003emse=%{y}\\u003cextra\\u003e\\u003c\\u002fextra\\u003e\",\"legendgroup\":\"IT-STGNN\",\"line\":{\"color\":\"#636efa\",\"dash\":\"dashdot\"},\"marker\":{\"symbol\":\"circle\"},\"mode\":\"lines+markers\",\"name\":\"IT-STGNN\",\"orientation\":\"v\",\"showlegend\":false,\"x\":[0.0,0.3,0.5,0.7,0.8],\"xaxis\":\"x42\",\"y\":[0.9356310884157817,0.9378675083319347,0.9477345029513041,1.0309433698654176,1.1110597742928399],\"yaxis\":\"y42\",\"type\":\"scatter\"},{\"hovertemplate\":\"method=IT-STGNN\\u003cbr\\u003emodel=DCRNN\\u003cbr\\u003edataset=pedalme\\u003cbr\\u003emrate=%{x}\\u003cbr\\u003emse=%{y}\\u003cextra\\u003e\\u003c\\u002fextra\\u003e\",\"legendgroup\":\"IT-STGNN\",\"line\":{\"color\":\"#636efa\",\"dash\":\"dashdot\"},\"marker\":{\"symbol\":\"circle\"},\"mode\":\"lines+markers\",\"name\":\"IT-STGNN\",\"orientation\":\"v\",\"showlegend\":false,\"x\":[0.0,0.3,0.5,0.6,0.8],\"xaxis\":\"x43\",\"y\":[1.131112144390742,1.1794777870178224,1.2317544301350911,1.3031940857569377,1.5270500183105469],\"yaxis\":\"y43\",\"type\":\"scatter\"},{\"hovertemplate\":\"method=IT-STGNN\\u003cbr\\u003emodel=DCRNN\\u003cbr\\u003edataset=wikimath\\u003cbr\\u003emrate=%{x}\\u003cbr\\u003emse=%{y}\\u003cextra\\u003e\\u003c\\u002fextra\\u003e\",\"legendgroup\":\"IT-STGNN\",\"line\":{\"color\":\"#636efa\",\"dash\":\"dashdot\"},\"marker\":{\"symbol\":\"circle\"},\"mode\":\"lines+markers\",\"name\":\"IT-STGNN\",\"orientation\":\"v\",\"showlegend\":false,\"x\":[0.0,0.3,0.5,0.6,0.8],\"xaxis\":\"x44\",\"y\":[0.5821457962195079,0.5876641611258189,0.5897436062494914,0.5919398883978526,0.6724015136559804],\"yaxis\":\"y44\",\"type\":\"scatter\"},{\"hovertemplate\":\"method=IT-STGNN\\u003cbr\\u003emodel=DCRNN\\u003cbr\\u003edataset=windmillsmall\\u003cbr\\u003emrate=%{x}\\u003cbr\\u003emse=%{y}\\u003cextra\\u003e\\u003c\\u002fextra\\u003e\",\"legendgroup\":\"IT-STGNN\",\"line\":{\"color\":\"#636efa\",\"dash\":\"dashdot\"},\"marker\":{\"symbol\":\"circle\"},\"mode\":\"lines+markers\",\"name\":\"IT-STGNN\",\"orientation\":\"v\",\"showlegend\":false,\"x\":[0.0,0.7],\"xaxis\":\"x45\",\"y\":[0.9879489362239837,1.116618851820628],\"yaxis\":\"y45\",\"type\":\"scatter\"},{\"hovertemplate\":\"method=IT-STGNN\\u003cbr\\u003emodel=DyGrEncoder\\u003cbr\\u003edataset=chickenpox\\u003cbr\\u003emrate=%{x}\\u003cbr\\u003emse=%{y}\\u003cextra\\u003e\\u003c\\u002fextra\\u003e\",\"legendgroup\":\"IT-STGNN\",\"line\":{\"color\":\"#636efa\",\"dash\":\"dashdot\"},\"marker\":{\"symbol\":\"circle\"},\"mode\":\"lines+markers\",\"name\":\"IT-STGNN\",\"orientation\":\"v\",\"showlegend\":false,\"x\":[0.0,0.3,0.5,0.6,0.8],\"xaxis\":\"x36\",\"y\":[0.9102867841720581,0.8682008723417918,0.9145062724749248,1.0129274507363637,1.398728601137797],\"yaxis\":\"y36\",\"type\":\"scatter\"},{\"hovertemplate\":\"method=IT-STGNN\\u003cbr\\u003emodel=DyGrEncoder\\u003cbr\\u003edataset=monte\\u003cbr\\u003emrate=%{x}\\u003cbr\\u003emse=%{y}\\u003cextra\\u003e\\u003c\\u002fextra\\u003e\",\"legendgroup\":\"IT-STGNN\",\"line\":{\"color\":\"#636efa\",\"dash\":\"dashdot\"},\"marker\":{\"symbol\":\"circle\"},\"mode\":\"lines+markers\",\"name\":\"IT-STGNN\",\"orientation\":\"v\",\"showlegend\":false,\"x\":[0.0,0.3,0.5,0.7,0.8],\"xaxis\":\"x37\",\"y\":[1.0075618505477906,1.0268222192923229,1.0800105273723601,1.1977290987968445,1.215691574414571],\"yaxis\":\"y37\",\"type\":\"scatter\"},{\"hovertemplate\":\"method=IT-STGNN\\u003cbr\\u003emodel=DyGrEncoder\\u003cbr\\u003edataset=pedalme\\u003cbr\\u003emrate=%{x}\\u003cbr\\u003emse=%{y}\\u003cextra\\u003e\\u003c\\u002fextra\\u003e\",\"legendgroup\":\"IT-STGNN\",\"line\":{\"color\":\"#636efa\",\"dash\":\"dashdot\"},\"marker\":{\"symbol\":\"circle\"},\"mode\":\"lines+markers\",\"name\":\"IT-STGNN\",\"orientation\":\"v\",\"showlegend\":false,\"x\":[0.0,0.3,0.5,0.6,0.8],\"xaxis\":\"x38\",\"y\":[1.1974692463874816,1.2052757660547893,1.236144204934438,1.2850633223851522,1.4758521556854247],\"yaxis\":\"y38\",\"type\":\"scatter\"},{\"hovertemplate\":\"method=IT-STGNN\\u003cbr\\u003emodel=DyGrEncoder\\u003cbr\\u003edataset=wikimath\\u003cbr\\u003emrate=%{x}\\u003cbr\\u003emse=%{y}\\u003cextra\\u003e\\u003c\\u002fextra\\u003e\",\"legendgroup\":\"IT-STGNN\",\"line\":{\"color\":\"#636efa\",\"dash\":\"dashdot\"},\"marker\":{\"symbol\":\"circle\"},\"mode\":\"lines+markers\",\"name\":\"IT-STGNN\",\"orientation\":\"v\",\"showlegend\":false,\"x\":[0.0,0.3,0.5,0.6,0.8],\"xaxis\":\"x39\",\"y\":[0.5625448822975159,0.5782144705454508,0.5646102329095205,0.5660300393899281,0.6059201280275981],\"yaxis\":\"y39\",\"type\":\"scatter\"},{\"hovertemplate\":\"method=IT-STGNN\\u003cbr\\u003emodel=DyGrEncoder\\u003cbr\\u003edataset=windmillsmall\\u003cbr\\u003emrate=%{x}\\u003cbr\\u003emse=%{y}\\u003cextra\\u003e\\u003c\\u002fextra\\u003e\",\"legendgroup\":\"IT-STGNN\",\"line\":{\"color\":\"#636efa\",\"dash\":\"dashdot\"},\"marker\":{\"symbol\":\"circle\"},\"mode\":\"lines+markers\",\"name\":\"IT-STGNN\",\"orientation\":\"v\",\"showlegend\":false,\"x\":[0.0,0.7],\"xaxis\":\"x40\",\"y\":[0.988743931055069,1.126743221282959],\"yaxis\":\"y40\",\"type\":\"scatter\"},{\"hovertemplate\":\"method=IT-STGNN\\u003cbr\\u003emodel=EvolveGCNH\\u003cbr\\u003edataset=chickenpox\\u003cbr\\u003emrate=%{x}\\u003cbr\\u003emse=%{y}\\u003cextra\\u003e\\u003c\\u002fextra\\u003e\",\"legendgroup\":\"IT-STGNN\",\"line\":{\"color\":\"#636efa\",\"dash\":\"dashdot\"},\"marker\":{\"symbol\":\"circle\"},\"mode\":\"lines+markers\",\"name\":\"IT-STGNN\",\"orientation\":\"v\",\"showlegend\":false,\"x\":[0.0,0.3,0.5,0.6,0.8],\"xaxis\":\"x31\",\"y\":[0.9961331367492676,1.0113655090332032,1.0263081113497416,1.0543007373809814,1.1400945703188579],\"yaxis\":\"y31\",\"type\":\"scatter\"},{\"hovertemplate\":\"method=IT-STGNN\\u003cbr\\u003emodel=EvolveGCNH\\u003cbr\\u003edataset=monte\\u003cbr\\u003emrate=%{x}\\u003cbr\\u003emse=%{y}\\u003cextra\\u003e\\u003c\\u002fextra\\u003e\",\"legendgroup\":\"IT-STGNN\",\"line\":{\"color\":\"#636efa\",\"dash\":\"dashdot\"},\"marker\":{\"symbol\":\"circle\"},\"mode\":\"lines+markers\",\"name\":\"IT-STGNN\",\"orientation\":\"v\",\"showlegend\":false,\"x\":[0.0,0.3,0.5,0.7,0.8],\"xaxis\":\"x32\",\"y\":[1.3576573431491852,1.3985042929649354,1.4411377509435017,1.7002901554107666,1.845348604520162],\"yaxis\":\"y32\",\"type\":\"scatter\"},{\"hovertemplate\":\"method=IT-STGNN\\u003cbr\\u003emodel=EvolveGCNH\\u003cbr\\u003edataset=pedalme\\u003cbr\\u003emrate=%{x}\\u003cbr\\u003emse=%{y}\\u003cextra\\u003e\\u003c\\u002fextra\\u003e\",\"legendgroup\":\"IT-STGNN\",\"line\":{\"color\":\"#636efa\",\"dash\":\"dashdot\"},\"marker\":{\"symbol\":\"circle\"},\"mode\":\"lines+markers\",\"name\":\"IT-STGNN\",\"orientation\":\"v\",\"showlegend\":false,\"x\":[0.0,0.3,0.5,0.6,0.8],\"xaxis\":\"x33\",\"y\":[1.2231735050678254,1.2376745263735454,1.2415592352549234,1.2620373964309692,1.2989180445671082],\"yaxis\":\"y33\",\"type\":\"scatter\"},{\"hovertemplate\":\"method=IT-STGNN\\u003cbr\\u003emodel=EvolveGCNH\\u003cbr\\u003edataset=wikimath\\u003cbr\\u003emrate=%{x}\\u003cbr\\u003emse=%{y}\\u003cextra\\u003e\\u003c\\u002fextra\\u003e\",\"legendgroup\":\"IT-STGNN\",\"line\":{\"color\":\"#636efa\",\"dash\":\"dashdot\"},\"marker\":{\"symbol\":\"circle\"},\"mode\":\"lines+markers\",\"name\":\"IT-STGNN\",\"orientation\":\"v\",\"showlegend\":false,\"x\":[0.0,0.3,0.5,0.6,0.8],\"xaxis\":\"x34\",\"y\":[0.7842468957106272,0.775075908501943,0.7911452790101369,0.7950286130110423,0.8772536794344584],\"yaxis\":\"y34\",\"type\":\"scatter\"},{\"hovertemplate\":\"method=IT-STGNN\\u003cbr\\u003emodel=EvolveGCNH\\u003cbr\\u003edataset=windmillsmall\\u003cbr\\u003emrate=%{x}\\u003cbr\\u003emse=%{y}\\u003cextra\\u003e\\u003c\\u002fextra\\u003e\",\"legendgroup\":\"IT-STGNN\",\"line\":{\"color\":\"#636efa\",\"dash\":\"dashdot\"},\"marker\":{\"symbol\":\"circle\"},\"mode\":\"lines+markers\",\"name\":\"IT-STGNN\",\"orientation\":\"v\",\"showlegend\":false,\"x\":[0.0,0.7],\"xaxis\":\"x35\",\"y\":[0.9856936732927958,1.1291911323865256],\"yaxis\":\"y35\",\"type\":\"scatter\"},{\"hovertemplate\":\"method=IT-STGNN\\u003cbr\\u003emodel=EvolveGCNO\\u003cbr\\u003edataset=chickenpox\\u003cbr\\u003emrate=%{x}\\u003cbr\\u003emse=%{y}\\u003cextra\\u003e\\u003c\\u002fextra\\u003e\",\"legendgroup\":\"IT-STGNN\",\"line\":{\"color\":\"#636efa\",\"dash\":\"dashdot\"},\"marker\":{\"symbol\":\"circle\"},\"mode\":\"lines+markers\",\"name\":\"IT-STGNN\",\"orientation\":\"v\",\"showlegend\":false,\"x\":[0.0,0.3,0.5,0.6,0.8],\"xaxis\":\"x26\",\"y\":[0.9837769170602163,0.9984626730283102,1.0199275851249694,1.0501808325449626,1.1613912542661031],\"yaxis\":\"y26\",\"type\":\"scatter\"},{\"hovertemplate\":\"method=IT-STGNN\\u003cbr\\u003emodel=EvolveGCNO\\u003cbr\\u003edataset=monte\\u003cbr\\u003emrate=%{x}\\u003cbr\\u003emse=%{y}\\u003cextra\\u003e\\u003c\\u002fextra\\u003e\",\"legendgroup\":\"IT-STGNN\",\"line\":{\"color\":\"#636efa\",\"dash\":\"dashdot\"},\"marker\":{\"symbol\":\"circle\"},\"mode\":\"lines+markers\",\"name\":\"IT-STGNN\",\"orientation\":\"v\",\"showlegend\":false,\"x\":[0.0,0.3,0.5,0.7,0.8],\"xaxis\":\"x27\",\"y\":[1.3174769202868144,1.4016060034434001,1.4579403877258301,1.9687416632970174,2.2633707324663797],\"yaxis\":\"y27\",\"type\":\"scatter\"},{\"hovertemplate\":\"method=IT-STGNN\\u003cbr\\u003emodel=EvolveGCNO\\u003cbr\\u003edataset=pedalme\\u003cbr\\u003emrate=%{x}\\u003cbr\\u003emse=%{y}\\u003cextra\\u003e\\u003c\\u002fextra\\u003e\",\"legendgroup\":\"IT-STGNN\",\"line\":{\"color\":\"#636efa\",\"dash\":\"dashdot\"},\"marker\":{\"symbol\":\"circle\"},\"mode\":\"lines+markers\",\"name\":\"IT-STGNN\",\"orientation\":\"v\",\"showlegend\":false,\"x\":[0.0,0.3,0.5,0.6,0.8],\"xaxis\":\"x28\",\"y\":[1.2126883725325266,1.2506618698438008,1.2540172457695007,1.2672008156776429,1.3115479787190756],\"yaxis\":\"y28\",\"type\":\"scatter\"},{\"hovertemplate\":\"method=IT-STGNN\\u003cbr\\u003emodel=EvolveGCNO\\u003cbr\\u003edataset=wikimath\\u003cbr\\u003emrate=%{x}\\u003cbr\\u003emse=%{y}\\u003cextra\\u003e\\u003c\\u002fextra\\u003e\",\"legendgroup\":\"IT-STGNN\",\"line\":{\"color\":\"#636efa\",\"dash\":\"dashdot\"},\"marker\":{\"symbol\":\"circle\"},\"mode\":\"lines+markers\",\"name\":\"IT-STGNN\",\"orientation\":\"v\",\"showlegend\":false,\"x\":[0.0,0.3,0.5,0.6,0.8],\"xaxis\":\"x29\",\"y\":[0.7345361292362214,0.7379984100659688,0.7436200221379597,0.7447938958803813,0.7801654100418091],\"yaxis\":\"y29\",\"type\":\"scatter\"},{\"hovertemplate\":\"method=IT-STGNN\\u003cbr\\u003emodel=EvolveGCNO\\u003cbr\\u003edataset=windmillsmall\\u003cbr\\u003emrate=%{x}\\u003cbr\\u003emse=%{y}\\u003cextra\\u003e\\u003c\\u002fextra\\u003e\",\"legendgroup\":\"IT-STGNN\",\"line\":{\"color\":\"#636efa\",\"dash\":\"dashdot\"},\"marker\":{\"symbol\":\"circle\"},\"mode\":\"lines+markers\",\"name\":\"IT-STGNN\",\"orientation\":\"v\",\"showlegend\":false,\"x\":[0.0,0.7],\"xaxis\":\"x30\",\"y\":[0.9836756110191345,1.149026878674825],\"yaxis\":\"y30\",\"type\":\"scatter\"},{\"hovertemplate\":\"method=IT-STGNN\\u003cbr\\u003emodel=GCLSTM\\u003cbr\\u003edataset=chickenpox\\u003cbr\\u003emrate=%{x}\\u003cbr\\u003emse=%{y}\\u003cextra\\u003e\\u003c\\u002fextra\\u003e\",\"legendgroup\":\"IT-STGNN\",\"line\":{\"color\":\"#636efa\",\"dash\":\"dashdot\"},\"marker\":{\"symbol\":\"circle\"},\"mode\":\"lines+markers\",\"name\":\"IT-STGNN\",\"orientation\":\"v\",\"showlegend\":false,\"x\":[0.0,0.3,0.5,0.6,0.8],\"xaxis\":\"x21\",\"y\":[0.877674525976181,0.8501742561658223,0.8993159830570221,1.0025737524032592,1.3705498377482097],\"yaxis\":\"y21\",\"type\":\"scatter\"},{\"hovertemplate\":\"method=IT-STGNN\\u003cbr\\u003emodel=GCLSTM\\u003cbr\\u003edataset=monte\\u003cbr\\u003emrate=%{x}\\u003cbr\\u003emse=%{y}\\u003cextra\\u003e\\u003c\\u002fextra\\u003e\",\"legendgroup\":\"IT-STGNN\",\"line\":{\"color\":\"#636efa\",\"dash\":\"dashdot\"},\"marker\":{\"symbol\":\"circle\"},\"mode\":\"lines+markers\",\"name\":\"IT-STGNN\",\"orientation\":\"v\",\"showlegend\":false,\"x\":[0.0,0.3,0.5,0.7,0.8],\"xaxis\":\"x22\",\"y\":[0.9690772255261739,0.9678724467754364,0.9571961462497711,1.0021958708763123,1.0315322279930115],\"yaxis\":\"y22\",\"type\":\"scatter\"},{\"hovertemplate\":\"method=IT-STGNN\\u003cbr\\u003emodel=GCLSTM\\u003cbr\\u003edataset=pedalme\\u003cbr\\u003emrate=%{x}\\u003cbr\\u003emse=%{y}\\u003cextra\\u003e\\u003c\\u002fextra\\u003e\",\"legendgroup\":\"IT-STGNN\",\"line\":{\"color\":\"#636efa\",\"dash\":\"dashdot\"},\"marker\":{\"symbol\":\"circle\"},\"mode\":\"lines+markers\",\"name\":\"IT-STGNN\",\"orientation\":\"v\",\"showlegend\":false,\"x\":[0.0,0.3,0.5,0.6,0.8],\"xaxis\":\"x23\",\"y\":[1.1700525979201,1.2106436093648274,1.2210132797559103,1.2591463605562845,1.3518047014872232],\"yaxis\":\"y23\",\"type\":\"scatter\"},{\"hovertemplate\":\"method=IT-STGNN\\u003cbr\\u003emodel=GCLSTM\\u003cbr\\u003edataset=wikimath\\u003cbr\\u003emrate=%{x}\\u003cbr\\u003emse=%{y}\\u003cextra\\u003e\\u003c\\u002fextra\\u003e\",\"legendgroup\":\"IT-STGNN\",\"line\":{\"color\":\"#636efa\",\"dash\":\"dashdot\"},\"marker\":{\"symbol\":\"circle\"},\"mode\":\"lines+markers\",\"name\":\"IT-STGNN\",\"orientation\":\"v\",\"showlegend\":false,\"x\":[0.0,0.3,0.5,0.6,0.8],\"xaxis\":\"x24\",\"y\":[0.6428504089514414,0.6282905658086141,0.6255914509296417,0.6502514521280924,0.8149297118186951],\"yaxis\":\"y24\",\"type\":\"scatter\"},{\"hovertemplate\":\"method=IT-STGNN\\u003cbr\\u003emodel=GCLSTM\\u003cbr\\u003edataset=windmillsmall\\u003cbr\\u003emrate=%{x}\\u003cbr\\u003emse=%{y}\\u003cextra\\u003e\\u003c\\u002fextra\\u003e\",\"legendgroup\":\"IT-STGNN\",\"line\":{\"color\":\"#636efa\",\"dash\":\"dashdot\"},\"marker\":{\"symbol\":\"circle\"},\"mode\":\"lines+markers\",\"name\":\"IT-STGNN\",\"orientation\":\"v\",\"showlegend\":false,\"x\":[0.0,0.7],\"xaxis\":\"x25\",\"y\":[0.9921382089455922,1.1164294712005123],\"yaxis\":\"y25\",\"type\":\"scatter\"},{\"hovertemplate\":\"method=IT-STGNN\\u003cbr\\u003emodel=GConvGRU\\u003cbr\\u003edataset=chickenpox\\u003cbr\\u003emrate=%{x}\\u003cbr\\u003emse=%{y}\\u003cextra\\u003e\\u003c\\u002fextra\\u003e\",\"legendgroup\":\"IT-STGNN\",\"line\":{\"color\":\"#636efa\",\"dash\":\"dashdot\"},\"marker\":{\"symbol\":\"circle\"},\"mode\":\"lines+markers\",\"name\":\"IT-STGNN\",\"orientation\":\"v\",\"showlegend\":false,\"x\":[0.0,0.3,0.5,0.6,0.8],\"xaxis\":\"x16\",\"y\":[0.7519446770350139,0.8508427083492279,0.9575517396132152,1.1203747113545737,1.585524276892344],\"yaxis\":\"y16\",\"type\":\"scatter\"},{\"hovertemplate\":\"method=IT-STGNN\\u003cbr\\u003emodel=GConvGRU\\u003cbr\\u003edataset=monte\\u003cbr\\u003emrate=%{x}\\u003cbr\\u003emse=%{y}\\u003cextra\\u003e\\u003c\\u002fextra\\u003e\",\"legendgroup\":\"IT-STGNN\",\"line\":{\"color\":\"#636efa\",\"dash\":\"dashdot\"},\"marker\":{\"symbol\":\"circle\"},\"mode\":\"lines+markers\",\"name\":\"IT-STGNN\",\"orientation\":\"v\",\"showlegend\":false,\"x\":[0.0,0.3,0.5,0.7,0.8],\"xaxis\":\"x17\",\"y\":[0.930523885289828,0.9361848731835684,0.9420447409152984,1.0152205049991607,1.0955596665541332],\"yaxis\":\"y17\",\"type\":\"scatter\"},{\"hovertemplate\":\"method=IT-STGNN\\u003cbr\\u003emodel=GConvGRU\\u003cbr\\u003edataset=pedalme\\u003cbr\\u003emrate=%{x}\\u003cbr\\u003emse=%{y}\\u003cextra\\u003e\\u003c\\u002fextra\\u003e\",\"legendgroup\":\"IT-STGNN\",\"line\":{\"color\":\"#636efa\",\"dash\":\"dashdot\"},\"marker\":{\"symbol\":\"circle\"},\"mode\":\"lines+markers\",\"name\":\"IT-STGNN\",\"orientation\":\"v\",\"showlegend\":false,\"x\":[0.0,0.3,0.5,0.6,0.8],\"xaxis\":\"x18\",\"y\":[1.2334487199783326,1.3847919205824535,1.5072240670522055,1.6249991416931153,1.607869521776835],\"yaxis\":\"y18\",\"type\":\"scatter\"},{\"hovertemplate\":\"method=IT-STGNN\\u003cbr\\u003emodel=GConvGRU\\u003cbr\\u003edataset=wikimath\\u003cbr\\u003emrate=%{x}\\u003cbr\\u003emse=%{y}\\u003cextra\\u003e\\u003c\\u002fextra\\u003e\",\"legendgroup\":\"IT-STGNN\",\"line\":{\"color\":\"#636efa\",\"dash\":\"dashdot\"},\"marker\":{\"symbol\":\"circle\"},\"mode\":\"lines+markers\",\"name\":\"IT-STGNN\",\"orientation\":\"v\",\"showlegend\":false,\"x\":[0.0,0.3,0.5,0.6,0.8],\"xaxis\":\"x19\",\"y\":[0.5286022325356802,0.5180512388547261,0.5239666879177094,0.5388371666272481,0.6867994070053101],\"yaxis\":\"y19\",\"type\":\"scatter\"},{\"hovertemplate\":\"method=IT-STGNN\\u003cbr\\u003emodel=GConvGRU\\u003cbr\\u003edataset=windmillsmall\\u003cbr\\u003emrate=%{x}\\u003cbr\\u003emse=%{y}\\u003cextra\\u003e\\u003c\\u002fextra\\u003e\",\"legendgroup\":\"IT-STGNN\",\"line\":{\"color\":\"#636efa\",\"dash\":\"dashdot\"},\"marker\":{\"symbol\":\"circle\"},\"mode\":\"lines+markers\",\"name\":\"IT-STGNN\",\"orientation\":\"v\",\"showlegend\":false,\"x\":[0.0,0.7],\"xaxis\":\"x20\",\"y\":[1.0036083248353773,1.1938863454326507],\"yaxis\":\"y20\",\"type\":\"scatter\"},{\"hovertemplate\":\"method=IT-STGNN\\u003cbr\\u003emodel=GConvLSTM\\u003cbr\\u003edataset=chickenpox\\u003cbr\\u003emrate=%{x}\\u003cbr\\u003emse=%{y}\\u003cextra\\u003e\\u003c\\u002fextra\\u003e\",\"legendgroup\":\"IT-STGNN\",\"line\":{\"color\":\"#636efa\",\"dash\":\"dashdot\"},\"marker\":{\"symbol\":\"circle\"},\"mode\":\"lines+markers\",\"name\":\"IT-STGNN\",\"orientation\":\"v\",\"showlegend\":false,\"x\":[0.0,0.3,0.5,0.6,0.8],\"xaxis\":\"x11\",\"y\":[0.9809238533178966,0.8715872526168823,0.9009263972441356,1.0039266228675843,1.4328649520874024],\"yaxis\":\"y11\",\"type\":\"scatter\"},{\"hovertemplate\":\"method=IT-STGNN\\u003cbr\\u003emodel=GConvLSTM\\u003cbr\\u003edataset=monte\\u003cbr\\u003emrate=%{x}\\u003cbr\\u003emse=%{y}\\u003cextra\\u003e\\u003c\\u002fextra\\u003e\",\"legendgroup\":\"IT-STGNN\",\"line\":{\"color\":\"#636efa\",\"dash\":\"dashdot\"},\"marker\":{\"symbol\":\"circle\"},\"mode\":\"lines+markers\",\"name\":\"IT-STGNN\",\"orientation\":\"v\",\"showlegend\":false,\"x\":[0.0,0.3,0.5,0.7,0.8],\"xaxis\":\"x12\",\"y\":[0.9592961370944977,0.9512110630671183,0.946907784541448,0.9967374463876089,1.1563993533452352],\"yaxis\":\"y12\",\"type\":\"scatter\"},{\"hovertemplate\":\"method=IT-STGNN\\u003cbr\\u003emodel=GConvLSTM\\u003cbr\\u003edataset=pedalme\\u003cbr\\u003emrate=%{x}\\u003cbr\\u003emse=%{y}\\u003cextra\\u003e\\u003c\\u002fextra\\u003e\",\"legendgroup\":\"IT-STGNN\",\"line\":{\"color\":\"#636efa\",\"dash\":\"dashdot\"},\"marker\":{\"symbol\":\"circle\"},\"mode\":\"lines+markers\",\"name\":\"IT-STGNN\",\"orientation\":\"v\",\"showlegend\":false,\"x\":[0.0,0.3,0.5,0.6,0.8],\"xaxis\":\"x13\",\"y\":[1.2129065116246542,1.2236289739608766,1.2351340810457865,1.2476208249727885,1.2865618507067362],\"yaxis\":\"y13\",\"type\":\"scatter\"},{\"hovertemplate\":\"method=IT-STGNN\\u003cbr\\u003emodel=GConvLSTM\\u003cbr\\u003edataset=wikimath\\u003cbr\\u003emrate=%{x}\\u003cbr\\u003emse=%{y}\\u003cextra\\u003e\\u003c\\u002fextra\\u003e\",\"legendgroup\":\"IT-STGNN\",\"line\":{\"color\":\"#636efa\",\"dash\":\"dashdot\"},\"marker\":{\"symbol\":\"circle\"},\"mode\":\"lines+markers\",\"name\":\"IT-STGNN\",\"orientation\":\"v\",\"showlegend\":false,\"x\":[0.0,0.3,0.5,0.6,0.8],\"xaxis\":\"x14\",\"y\":[0.6263718565305074,0.6308103601137797,0.6686412215232849,0.7313987930615743,0.9203040659427643],\"yaxis\":\"y14\",\"type\":\"scatter\"},{\"hovertemplate\":\"method=IT-STGNN\\u003cbr\\u003emodel=GConvLSTM\\u003cbr\\u003edataset=windmillsmall\\u003cbr\\u003emrate=%{x}\\u003cbr\\u003emse=%{y}\\u003cextra\\u003e\\u003c\\u002fextra\\u003e\",\"legendgroup\":\"IT-STGNN\",\"line\":{\"color\":\"#636efa\",\"dash\":\"dashdot\"},\"marker\":{\"symbol\":\"circle\"},\"mode\":\"lines+markers\",\"name\":\"IT-STGNN\",\"orientation\":\"v\",\"showlegend\":false,\"x\":[0.0,0.7],\"xaxis\":\"x15\",\"y\":[1.0143079911508868,1.1418147087097168],\"yaxis\":\"y15\",\"type\":\"scatter\"},{\"hovertemplate\":\"method=IT-STGNN\\u003cbr\\u003emodel=LRGCN\\u003cbr\\u003edataset=chickenpox\\u003cbr\\u003emrate=%{x}\\u003cbr\\u003emse=%{y}\\u003cextra\\u003e\\u003c\\u002fextra\\u003e\",\"legendgroup\":\"IT-STGNN\",\"line\":{\"color\":\"#636efa\",\"dash\":\"dashdot\"},\"marker\":{\"symbol\":\"circle\"},\"mode\":\"lines+markers\",\"name\":\"IT-STGNN\",\"orientation\":\"v\",\"showlegend\":false,\"x\":[0.0,0.3,0.5,0.6,0.8],\"xaxis\":\"x6\",\"y\":[0.8650834282239278,0.8700646877288818,0.9307576994101207,1.017380851507187,1.3335242430369059],\"yaxis\":\"y6\",\"type\":\"scatter\"},{\"hovertemplate\":\"method=IT-STGNN\\u003cbr\\u003emodel=LRGCN\\u003cbr\\u003edataset=monte\\u003cbr\\u003emrate=%{x}\\u003cbr\\u003emse=%{y}\\u003cextra\\u003e\\u003c\\u002fextra\\u003e\",\"legendgroup\":\"IT-STGNN\",\"line\":{\"color\":\"#636efa\",\"dash\":\"dashdot\"},\"marker\":{\"symbol\":\"circle\"},\"mode\":\"lines+markers\",\"name\":\"IT-STGNN\",\"orientation\":\"v\",\"showlegend\":false,\"x\":[0.0,0.3,0.5,0.7,0.8],\"xaxis\":\"x7\",\"y\":[0.9765360315640768,0.9737622857093811,0.9842411478360494,0.9808458685874939,0.9820055365562439],\"yaxis\":\"y7\",\"type\":\"scatter\"},{\"hovertemplate\":\"method=IT-STGNN\\u003cbr\\u003emodel=LRGCN\\u003cbr\\u003edataset=pedalme\\u003cbr\\u003emrate=%{x}\\u003cbr\\u003emse=%{y}\\u003cextra\\u003e\\u003c\\u002fextra\\u003e\",\"legendgroup\":\"IT-STGNN\",\"line\":{\"color\":\"#636efa\",\"dash\":\"dashdot\"},\"marker\":{\"symbol\":\"circle\"},\"mode\":\"lines+markers\",\"name\":\"IT-STGNN\",\"orientation\":\"v\",\"showlegend\":false,\"x\":[0.0,0.3,0.5,0.6,0.8],\"xaxis\":\"x8\",\"y\":[1.1926894664764405,1.2204942584037781,1.2401428818702698,1.2862426002820333,1.4362062215805054],\"yaxis\":\"y8\",\"type\":\"scatter\"},{\"hovertemplate\":\"method=IT-STGNN\\u003cbr\\u003emodel=LRGCN\\u003cbr\\u003edataset=wikimath\\u003cbr\\u003emrate=%{x}\\u003cbr\\u003emse=%{y}\\u003cextra\\u003e\\u003c\\u002fextra\\u003e\",\"legendgroup\":\"IT-STGNN\",\"line\":{\"color\":\"#636efa\",\"dash\":\"dashdot\"},\"marker\":{\"symbol\":\"circle\"},\"mode\":\"lines+markers\",\"name\":\"IT-STGNN\",\"orientation\":\"v\",\"showlegend\":false,\"x\":[0.0,0.3,0.5,0.6,0.8],\"xaxis\":\"x9\",\"y\":[0.6102288663387299,0.6194596389929453,0.6211064040660859,0.6475779275099437,0.7690745731194814],\"yaxis\":\"y9\",\"type\":\"scatter\"},{\"hovertemplate\":\"method=IT-STGNN\\u003cbr\\u003emodel=LRGCN\\u003cbr\\u003edataset=windmillsmall\\u003cbr\\u003emrate=%{x}\\u003cbr\\u003emse=%{y}\\u003cextra\\u003e\\u003c\\u002fextra\\u003e\",\"legendgroup\":\"IT-STGNN\",\"line\":{\"color\":\"#636efa\",\"dash\":\"dashdot\"},\"marker\":{\"symbol\":\"circle\"},\"mode\":\"lines+markers\",\"name\":\"IT-STGNN\",\"orientation\":\"v\",\"showlegend\":false,\"x\":[0.0,0.7],\"xaxis\":\"x10\",\"y\":[0.9868966420491536,1.1100961804389953],\"yaxis\":\"y10\",\"type\":\"scatter\"},{\"hovertemplate\":\"method=IT-STGNN\\u003cbr\\u003emodel=TGCN\\u003cbr\\u003edataset=chickenpox\\u003cbr\\u003emrate=%{x}\\u003cbr\\u003emse=%{y}\\u003cextra\\u003e\\u003c\\u002fextra\\u003e\",\"legendgroup\":\"IT-STGNN\",\"line\":{\"color\":\"#636efa\",\"dash\":\"dashdot\"},\"marker\":{\"symbol\":\"circle\"},\"mode\":\"lines+markers\",\"name\":\"IT-STGNN\",\"orientation\":\"v\",\"showlegend\":false,\"x\":[0.0,0.3,0.5,0.6,0.8],\"xaxis\":\"x\",\"y\":[1.0929674585660298,1.0423652052879333,1.031901470820109,1.0539491613705954,1.1833927472432455],\"yaxis\":\"y\",\"type\":\"scatter\"},{\"hovertemplate\":\"method=IT-STGNN\\u003cbr\\u003emodel=TGCN\\u003cbr\\u003edataset=monte\\u003cbr\\u003emrate=%{x}\\u003cbr\\u003emse=%{y}\\u003cextra\\u003e\\u003c\\u002fextra\\u003e\",\"legendgroup\":\"IT-STGNN\",\"line\":{\"color\":\"#636efa\",\"dash\":\"dashdot\"},\"marker\":{\"symbol\":\"circle\"},\"mode\":\"lines+markers\",\"name\":\"IT-STGNN\",\"orientation\":\"v\",\"showlegend\":false,\"x\":[0.0,0.3,0.5,0.7,0.8],\"xaxis\":\"x2\",\"y\":[0.9838025073210398,0.9874406675497691,0.9900509893894196,1.0295270085334778,1.072794528802236],\"yaxis\":\"y2\",\"type\":\"scatter\"},{\"hovertemplate\":\"method=IT-STGNN\\u003cbr\\u003emodel=TGCN\\u003cbr\\u003edataset=pedalme\\u003cbr\\u003emrate=%{x}\\u003cbr\\u003emse=%{y}\\u003cextra\\u003e\\u003c\\u002fextra\\u003e\",\"legendgroup\":\"IT-STGNN\",\"line\":{\"color\":\"#636efa\",\"dash\":\"dashdot\"},\"marker\":{\"symbol\":\"circle\"},\"mode\":\"lines+markers\",\"name\":\"IT-STGNN\",\"orientation\":\"v\",\"showlegend\":false,\"x\":[0.0,0.3,0.5,0.6,0.8],\"xaxis\":\"x3\",\"y\":[1.3408915936946868,1.2484689990679423,1.2585145950317382,1.260074253877004,1.257752207914988],\"yaxis\":\"y3\",\"type\":\"scatter\"},{\"hovertemplate\":\"method=IT-STGNN\\u003cbr\\u003emodel=TGCN\\u003cbr\\u003edataset=wikimath\\u003cbr\\u003emrate=%{x}\\u003cbr\\u003emse=%{y}\\u003cextra\\u003e\\u003c\\u002fextra\\u003e\",\"legendgroup\":\"IT-STGNN\",\"line\":{\"color\":\"#636efa\",\"dash\":\"dashdot\"},\"marker\":{\"symbol\":\"circle\"},\"mode\":\"lines+markers\",\"name\":\"IT-STGNN\",\"orientation\":\"v\",\"showlegend\":false,\"x\":[0.0,0.3,0.5,0.6,0.8],\"xaxis\":\"x4\",\"y\":[0.7295065224170685,0.7392048398653667,0.7566385646661122,0.7416430433591207,0.7708451449871063],\"yaxis\":\"y4\",\"type\":\"scatter\"},{\"hovertemplate\":\"method=IT-STGNN\\u003cbr\\u003emodel=TGCN\\u003cbr\\u003edataset=windmillsmall\\u003cbr\\u003emrate=%{x}\\u003cbr\\u003emse=%{y}\\u003cextra\\u003e\\u003c\\u002fextra\\u003e\",\"legendgroup\":\"IT-STGNN\",\"line\":{\"color\":\"#636efa\",\"dash\":\"dashdot\"},\"marker\":{\"symbol\":\"circle\"},\"mode\":\"lines+markers\",\"name\":\"IT-STGNN\",\"orientation\":\"v\",\"showlegend\":false,\"x\":[0.0,0.7],\"xaxis\":\"x5\",\"y\":[0.9917504866917928,1.0714038173357645],\"yaxis\":\"y5\",\"type\":\"scatter\"},{\"hovertemplate\":\"method=STGNN\\u003cbr\\u003emodel=DCRNN\\u003cbr\\u003edataset=chickenpox\\u003cbr\\u003emrate=%{x}\\u003cbr\\u003emse=%{y}\\u003cextra\\u003e\\u003c\\u002fextra\\u003e\",\"legendgroup\":\"STGNN\",\"line\":{\"color\":\"#EF553B\",\"dash\":\"dashdot\"},\"marker\":{\"symbol\":\"circle\"},\"mode\":\"lines+markers\",\"name\":\"STGNN\",\"orientation\":\"v\",\"showlegend\":true,\"x\":[0.0,0.3,0.5,0.6,0.8],\"xaxis\":\"x41\",\"y\":[0.7273993372917176,1.0321223318576813,1.4730505307515462,1.8480618437131247,2.2874269167582195],\"yaxis\":\"y41\",\"type\":\"scatter\"},{\"hovertemplate\":\"method=STGNN\\u003cbr\\u003emodel=DCRNN\\u003cbr\\u003edataset=monte\\u003cbr\\u003emrate=%{x}\\u003cbr\\u003emse=%{y}\\u003cextra\\u003e\\u003c\\u002fextra\\u003e\",\"legendgroup\":\"STGNN\",\"line\":{\"color\":\"#EF553B\",\"dash\":\"dashdot\"},\"marker\":{\"symbol\":\"circle\"},\"mode\":\"lines+markers\",\"name\":\"STGNN\",\"orientation\":\"v\",\"showlegend\":false,\"x\":[0.0,0.3,0.5,0.7,0.8],\"xaxis\":\"x42\",\"y\":[0.9356155276298523,1.007505710919698,1.1192256689071656,1.2140121857325237,1.2250772264268663],\"yaxis\":\"y42\",\"type\":\"scatter\"},{\"hovertemplate\":\"method=STGNN\\u003cbr\\u003emodel=DCRNN\\u003cbr\\u003edataset=pedalme\\u003cbr\\u003emrate=%{x}\\u003cbr\\u003emse=%{y}\\u003cextra\\u003e\\u003c\\u002fextra\\u003e\",\"legendgroup\":\"STGNN\",\"line\":{\"color\":\"#EF553B\",\"dash\":\"dashdot\"},\"marker\":{\"symbol\":\"circle\"},\"mode\":\"lines+markers\",\"name\":\"STGNN\",\"orientation\":\"v\",\"showlegend\":false,\"x\":[0.0,0.3,0.5,0.6,0.8],\"xaxis\":\"x43\",\"y\":[1.1311116794745126,1.277958885828654,1.4467737197875976,1.5089642922083537,1.6157149871190388],\"yaxis\":\"y43\",\"type\":\"scatter\"},{\"hovertemplate\":\"method=STGNN\\u003cbr\\u003emodel=DCRNN\\u003cbr\\u003edataset=wikimath\\u003cbr\\u003emrate=%{x}\\u003cbr\\u003emse=%{y}\\u003cextra\\u003e\\u003c\\u002fextra\\u003e\",\"legendgroup\":\"STGNN\",\"line\":{\"color\":\"#EF553B\",\"dash\":\"dashdot\"},\"marker\":{\"symbol\":\"circle\"},\"mode\":\"lines+markers\",\"name\":\"STGNN\",\"orientation\":\"v\",\"showlegend\":false,\"x\":[0.0,0.3,0.5,0.6,0.8],\"xaxis\":\"x44\",\"y\":[0.579703829685847,0.6030041297276815,0.6518642942110697,0.6880961994330088,0.8464834769566854],\"yaxis\":\"y44\",\"type\":\"scatter\"},{\"hovertemplate\":\"method=STGNN\\u003cbr\\u003emodel=DCRNN\\u003cbr\\u003edataset=windmillsmall\\u003cbr\\u003emrate=%{x}\\u003cbr\\u003emse=%{y}\\u003cextra\\u003e\\u003c\\u002fextra\\u003e\",\"legendgroup\":\"STGNN\",\"line\":{\"color\":\"#EF553B\",\"dash\":\"dashdot\"},\"marker\":{\"symbol\":\"circle\"},\"mode\":\"lines+markers\",\"name\":\"STGNN\",\"orientation\":\"v\",\"showlegend\":false,\"x\":[0.0,0.7],\"xaxis\":\"x45\",\"y\":[0.98705299894015,1.3477184931437174],\"yaxis\":\"y45\",\"type\":\"scatter\"},{\"hovertemplate\":\"method=STGNN\\u003cbr\\u003emodel=DyGrEncoder\\u003cbr\\u003edataset=chickenpox\\u003cbr\\u003emrate=%{x}\\u003cbr\\u003emse=%{y}\\u003cextra\\u003e\\u003c\\u002fextra\\u003e\",\"legendgroup\":\"STGNN\",\"line\":{\"color\":\"#EF553B\",\"dash\":\"dashdot\"},\"marker\":{\"symbol\":\"circle\"},\"mode\":\"lines+markers\",\"name\":\"STGNN\",\"orientation\":\"v\",\"showlegend\":false,\"x\":[0.0,0.3,0.5,0.6,0.8],\"xaxis\":\"x36\",\"y\":[0.9017379403114318,1.0801025032997131,1.5404859145482381,1.8070445855458577,2.126992173989614],\"yaxis\":\"y36\",\"type\":\"scatter\"},{\"hovertemplate\":\"method=STGNN\\u003cbr\\u003emodel=DyGrEncoder\\u003cbr\\u003edataset=monte\\u003cbr\\u003emrate=%{x}\\u003cbr\\u003emse=%{y}\\u003cextra\\u003e\\u003c\\u002fextra\\u003e\",\"legendgroup\":\"STGNN\",\"line\":{\"color\":\"#EF553B\",\"dash\":\"dashdot\"},\"marker\":{\"symbol\":\"circle\"},\"mode\":\"lines+markers\",\"name\":\"STGNN\",\"orientation\":\"v\",\"showlegend\":false,\"x\":[0.0,0.3,0.5,0.7,0.8],\"xaxis\":\"x37\",\"y\":[0.9827527443567912,1.1732897241910298,1.2858712315559386,1.46742049853007,1.3578972260157267],\"yaxis\":\"y37\",\"type\":\"scatter\"},{\"hovertemplate\":\"method=STGNN\\u003cbr\\u003emodel=DyGrEncoder\\u003cbr\\u003edataset=pedalme\\u003cbr\\u003emrate=%{x}\\u003cbr\\u003emse=%{y}\\u003cextra\\u003e\\u003c\\u002fextra\\u003e\",\"legendgroup\":\"STGNN\",\"line\":{\"color\":\"#EF553B\",\"dash\":\"dashdot\"},\"marker\":{\"symbol\":\"circle\"},\"mode\":\"lines+markers\",\"name\":\"STGNN\",\"orientation\":\"v\",\"showlegend\":false,\"x\":[0.0,0.3,0.5,0.6,0.8],\"xaxis\":\"x38\",\"y\":[1.1823768317699432,1.289089326063792,1.4271970629692077,1.5134739398956298,1.6135557055473329],\"yaxis\":\"y38\",\"type\":\"scatter\"},{\"hovertemplate\":\"method=STGNN\\u003cbr\\u003emodel=DyGrEncoder\\u003cbr\\u003edataset=wikimath\\u003cbr\\u003emrate=%{x}\\u003cbr\\u003emse=%{y}\\u003cextra\\u003e\\u003c\\u002fextra\\u003e\",\"legendgroup\":\"STGNN\",\"line\":{\"color\":\"#EF553B\",\"dash\":\"dashdot\"},\"marker\":{\"symbol\":\"circle\"},\"mode\":\"lines+markers\",\"name\":\"STGNN\",\"orientation\":\"v\",\"showlegend\":false,\"x\":[0.0,0.3,0.5,0.6,0.8],\"xaxis\":\"x39\",\"y\":[0.5600802143414815,0.5617958088715871,0.6135105192661285,0.6438442011674245,0.770462958017985],\"yaxis\":\"y39\",\"type\":\"scatter\"},{\"hovertemplate\":\"method=STGNN\\u003cbr\\u003emodel=DyGrEncoder\\u003cbr\\u003edataset=windmillsmall\\u003cbr\\u003emrate=%{x}\\u003cbr\\u003emse=%{y}\\u003cextra\\u003e\\u003c\\u002fextra\\u003e\",\"legendgroup\":\"STGNN\",\"line\":{\"color\":\"#EF553B\",\"dash\":\"dashdot\"},\"marker\":{\"symbol\":\"circle\"},\"mode\":\"lines+markers\",\"name\":\"STGNN\",\"orientation\":\"v\",\"showlegend\":false,\"x\":[0.0,0.7],\"xaxis\":\"x40\",\"y\":[0.9866737067699433,1.7088625272115072],\"yaxis\":\"y40\",\"type\":\"scatter\"},{\"hovertemplate\":\"method=STGNN\\u003cbr\\u003emodel=EvolveGCNH\\u003cbr\\u003edataset=chickenpox\\u003cbr\\u003emrate=%{x}\\u003cbr\\u003emse=%{y}\\u003cextra\\u003e\\u003c\\u002fextra\\u003e\",\"legendgroup\":\"STGNN\",\"line\":{\"color\":\"#EF553B\",\"dash\":\"dashdot\"},\"marker\":{\"symbol\":\"circle\"},\"mode\":\"lines+markers\",\"name\":\"STGNN\",\"orientation\":\"v\",\"showlegend\":false,\"x\":[0.0,0.3,0.5,0.6,0.8],\"xaxis\":\"x31\",\"y\":[1.0039118786652883,1.057721447944641,1.1216460744539896,1.1620551586151122,1.2029269218444825],\"yaxis\":\"y31\",\"type\":\"scatter\"},{\"hovertemplate\":\"method=STGNN\\u003cbr\\u003emodel=EvolveGCNH\\u003cbr\\u003edataset=monte\\u003cbr\\u003emrate=%{x}\\u003cbr\\u003emse=%{y}\\u003cextra\\u003e\\u003c\\u002fextra\\u003e\",\"legendgroup\":\"STGNN\",\"line\":{\"color\":\"#EF553B\",\"dash\":\"dashdot\"},\"marker\":{\"symbol\":\"circle\"},\"mode\":\"lines+markers\",\"name\":\"STGNN\",\"orientation\":\"v\",\"showlegend\":false,\"x\":[0.0,0.3,0.5,0.7,0.8],\"xaxis\":\"x32\",\"y\":[1.005818854769071,1.5634609619776407,1.7305912057558694,2.118390409151713,2.1583567361036935],\"yaxis\":\"y32\",\"type\":\"scatter\"},{\"hovertemplate\":\"method=STGNN\\u003cbr\\u003emodel=EvolveGCNH\\u003cbr\\u003edataset=pedalme\\u003cbr\\u003emrate=%{x}\\u003cbr\\u003emse=%{y}\\u003cextra\\u003e\\u003c\\u002fextra\\u003e\",\"legendgroup\":\"STGNN\",\"line\":{\"color\":\"#EF553B\",\"dash\":\"dashdot\"},\"marker\":{\"symbol\":\"circle\"},\"mode\":\"lines+markers\",\"name\":\"STGNN\",\"orientation\":\"v\",\"showlegend\":false,\"x\":[0.0,0.3,0.5,0.6,0.8],\"xaxis\":\"x33\",\"y\":[1.2035951415697734,1.2440934300422668,1.2852562506993612,1.2835334221522012,1.292329696814219],\"yaxis\":\"y33\",\"type\":\"scatter\"},{\"hovertemplate\":\"method=STGNN\\u003cbr\\u003emodel=EvolveGCNH\\u003cbr\\u003edataset=wikimath\\u003cbr\\u003emrate=%{x}\\u003cbr\\u003emse=%{y}\\u003cextra\\u003e\\u003c\\u002fextra\\u003e\",\"legendgroup\":\"STGNN\",\"line\":{\"color\":\"#EF553B\",\"dash\":\"dashdot\"},\"marker\":{\"symbol\":\"circle\"},\"mode\":\"lines+markers\",\"name\":\"STGNN\",\"orientation\":\"v\",\"showlegend\":false,\"x\":[0.0,0.3,0.5,0.6,0.8],\"xaxis\":\"x34\",\"y\":[0.770507158835729,0.7869792938232422,0.8044674317042033,0.8427968084812164,0.914908234278361],\"yaxis\":\"y34\",\"type\":\"scatter\"},{\"hovertemplate\":\"method=STGNN\\u003cbr\\u003emodel=EvolveGCNH\\u003cbr\\u003edataset=windmillsmall\\u003cbr\\u003emrate=%{x}\\u003cbr\\u003emse=%{y}\\u003cextra\\u003e\\u003c\\u002fextra\\u003e\",\"legendgroup\":\"STGNN\",\"line\":{\"color\":\"#EF553B\",\"dash\":\"dashdot\"},\"marker\":{\"symbol\":\"circle\"},\"mode\":\"lines+markers\",\"name\":\"STGNN\",\"orientation\":\"v\",\"showlegend\":false,\"x\":[0.0,0.7],\"xaxis\":\"x35\",\"y\":[0.9856338123480479,1.3301299333572387],\"yaxis\":\"y35\",\"type\":\"scatter\"},{\"hovertemplate\":\"method=STGNN\\u003cbr\\u003emodel=EvolveGCNO\\u003cbr\\u003edataset=chickenpox\\u003cbr\\u003emrate=%{x}\\u003cbr\\u003emse=%{y}\\u003cextra\\u003e\\u003c\\u002fextra\\u003e\",\"legendgroup\":\"STGNN\",\"line\":{\"color\":\"#EF553B\",\"dash\":\"dashdot\"},\"marker\":{\"symbol\":\"circle\"},\"mode\":\"lines+markers\",\"name\":\"STGNN\",\"orientation\":\"v\",\"showlegend\":false,\"x\":[0.0,0.3,0.5,0.6,0.8],\"xaxis\":\"x26\",\"y\":[0.9880264123280843,1.053731127580007,1.1448416352272033,1.2049764434496562,1.2336700876553854],\"yaxis\":\"y26\",\"type\":\"scatter\"},{\"hovertemplate\":\"method=STGNN\\u003cbr\\u003emodel=EvolveGCNO\\u003cbr\\u003edataset=monte\\u003cbr\\u003emrate=%{x}\\u003cbr\\u003emse=%{y}\\u003cextra\\u003e\\u003c\\u002fextra\\u003e\",\"legendgroup\":\"STGNN\",\"line\":{\"color\":\"#EF553B\",\"dash\":\"dashdot\"},\"marker\":{\"symbol\":\"circle\"},\"mode\":\"lines+markers\",\"name\":\"STGNN\",\"orientation\":\"v\",\"showlegend\":false,\"x\":[0.0,0.3,0.5,0.7,0.8],\"xaxis\":\"x27\",\"y\":[0.9970530728499095,1.63446706533432,1.9281354228655496,2.4474778691927592,2.622997566064199],\"yaxis\":\"y27\",\"type\":\"scatter\"},{\"hovertemplate\":\"method=STGNN\\u003cbr\\u003emodel=EvolveGCNO\\u003cbr\\u003edataset=pedalme\\u003cbr\\u003emrate=%{x}\\u003cbr\\u003emse=%{y}\\u003cextra\\u003e\\u003c\\u002fextra\\u003e\",\"legendgroup\":\"STGNN\",\"line\":{\"color\":\"#EF553B\",\"dash\":\"dashdot\"},\"marker\":{\"symbol\":\"circle\"},\"mode\":\"lines+markers\",\"name\":\"STGNN\",\"orientation\":\"v\",\"showlegend\":false,\"x\":[0.0,0.3,0.5,0.6,0.8],\"xaxis\":\"x28\",\"y\":[1.2342682222525279,1.2646779497464498,1.2738133351008096,1.292480997244517,1.3336350997289022],\"yaxis\":\"y28\",\"type\":\"scatter\"},{\"hovertemplate\":\"method=STGNN\\u003cbr\\u003emodel=EvolveGCNO\\u003cbr\\u003edataset=wikimath\\u003cbr\\u003emrate=%{x}\\u003cbr\\u003emse=%{y}\\u003cextra\\u003e\\u003c\\u002fextra\\u003e\",\"legendgroup\":\"STGNN\",\"line\":{\"color\":\"#EF553B\",\"dash\":\"dashdot\"},\"marker\":{\"symbol\":\"circle\"},\"mode\":\"lines+markers\",\"name\":\"STGNN\",\"orientation\":\"v\",\"showlegend\":false,\"x\":[0.0,0.3,0.5,0.6,0.8],\"xaxis\":\"x29\",\"y\":[0.7337246815363566,0.7430313646793365,0.7589549700419108,0.7754075646400451,0.86331374446551],\"yaxis\":\"y29\",\"type\":\"scatter\"},{\"hovertemplate\":\"method=STGNN\\u003cbr\\u003emodel=EvolveGCNO\\u003cbr\\u003edataset=windmillsmall\\u003cbr\\u003emrate=%{x}\\u003cbr\\u003emse=%{y}\\u003cextra\\u003e\\u003c\\u002fextra\\u003e\",\"legendgroup\":\"STGNN\",\"line\":{\"color\":\"#EF553B\",\"dash\":\"dashdot\"},\"marker\":{\"symbol\":\"circle\"},\"mode\":\"lines+markers\",\"name\":\"STGNN\",\"orientation\":\"v\",\"showlegend\":false,\"x\":[0.0,0.7],\"xaxis\":\"x30\",\"y\":[0.9828523218631744,1.494529922803243],\"yaxis\":\"y30\",\"type\":\"scatter\"},{\"hovertemplate\":\"method=STGNN\\u003cbr\\u003emodel=GCLSTM\\u003cbr\\u003edataset=chickenpox\\u003cbr\\u003emrate=%{x}\\u003cbr\\u003emse=%{y}\\u003cextra\\u003e\\u003c\\u002fextra\\u003e\",\"legendgroup\":\"STGNN\",\"line\":{\"color\":\"#EF553B\",\"dash\":\"dashdot\"},\"marker\":{\"symbol\":\"circle\"},\"mode\":\"lines+markers\",\"name\":\"STGNN\",\"orientation\":\"v\",\"showlegend\":false,\"x\":[0.0,0.3,0.5,0.6,0.8],\"xaxis\":\"x21\",\"y\":[0.8917715013027191,1.0497510651747386,1.5143744508425394,1.808076790968577,2.1722838799158732],\"yaxis\":\"y21\",\"type\":\"scatter\"},{\"hovertemplate\":\"method=STGNN\\u003cbr\\u003emodel=GCLSTM\\u003cbr\\u003edataset=monte\\u003cbr\\u003emrate=%{x}\\u003cbr\\u003emse=%{y}\\u003cextra\\u003e\\u003c\\u002fextra\\u003e\",\"legendgroup\":\"STGNN\",\"line\":{\"color\":\"#EF553B\",\"dash\":\"dashdot\"},\"marker\":{\"symbol\":\"circle\"},\"mode\":\"lines+markers\",\"name\":\"STGNN\",\"orientation\":\"v\",\"showlegend\":false,\"x\":[0.0,0.3,0.5,0.7,0.8],\"xaxis\":\"x22\",\"y\":[0.9700358351071675,1.0032080670197805,1.0735238075256348,1.1084674934546153,1.1401932901806302],\"yaxis\":\"y22\",\"type\":\"scatter\"},{\"hovertemplate\":\"method=STGNN\\u003cbr\\u003emodel=GCLSTM\\u003cbr\\u003edataset=pedalme\\u003cbr\\u003emrate=%{x}\\u003cbr\\u003emse=%{y}\\u003cextra\\u003e\\u003c\\u002fextra\\u003e\",\"legendgroup\":\"STGNN\",\"line\":{\"color\":\"#EF553B\",\"dash\":\"dashdot\"},\"marker\":{\"symbol\":\"circle\"},\"mode\":\"lines+markers\",\"name\":\"STGNN\",\"orientation\":\"v\",\"showlegend\":false,\"x\":[0.0,0.3,0.5,0.6,0.8],\"xaxis\":\"x23\",\"y\":[1.1911604285240174,1.2563624501228332,1.33319034576416,1.3652743140856425,1.3963794827461242],\"yaxis\":\"y23\",\"type\":\"scatter\"},{\"hovertemplate\":\"method=STGNN\\u003cbr\\u003emodel=GCLSTM\\u003cbr\\u003edataset=wikimath\\u003cbr\\u003emrate=%{x}\\u003cbr\\u003emse=%{y}\\u003cextra\\u003e\\u003c\\u002fextra\\u003e\",\"legendgroup\":\"STGNN\",\"line\":{\"color\":\"#EF553B\",\"dash\":\"dashdot\"},\"marker\":{\"symbol\":\"circle\"},\"mode\":\"lines+markers\",\"name\":\"STGNN\",\"orientation\":\"v\",\"showlegend\":false,\"x\":[0.0,0.3,0.5,0.6,0.8],\"xaxis\":\"x24\",\"y\":[0.644963405529658,0.6736441890398661,0.824881660938263,0.9423624296983083,1.406770400206248],\"yaxis\":\"y24\",\"type\":\"scatter\"},{\"hovertemplate\":\"method=STGNN\\u003cbr\\u003emodel=GCLSTM\\u003cbr\\u003edataset=windmillsmall\\u003cbr\\u003emrate=%{x}\\u003cbr\\u003emse=%{y}\\u003cextra\\u003e\\u003c\\u002fextra\\u003e\",\"legendgroup\":\"STGNN\",\"line\":{\"color\":\"#EF553B\",\"dash\":\"dashdot\"},\"marker\":{\"symbol\":\"circle\"},\"mode\":\"lines+markers\",\"name\":\"STGNN\",\"orientation\":\"v\",\"showlegend\":false,\"x\":[0.0,0.7],\"xaxis\":\"x25\",\"y\":[0.9923375864823659,1.5732998040414625],\"yaxis\":\"y25\",\"type\":\"scatter\"},{\"hovertemplate\":\"method=STGNN\\u003cbr\\u003emodel=GConvGRU\\u003cbr\\u003edataset=chickenpox\\u003cbr\\u003emrate=%{x}\\u003cbr\\u003emse=%{y}\\u003cextra\\u003e\\u003c\\u002fextra\\u003e\",\"legendgroup\":\"STGNN\",\"line\":{\"color\":\"#EF553B\",\"dash\":\"dashdot\"},\"marker\":{\"symbol\":\"circle\"},\"mode\":\"lines+markers\",\"name\":\"STGNN\",\"orientation\":\"v\",\"showlegend\":false,\"x\":[0.0,0.3,0.5,0.6,0.8],\"xaxis\":\"x16\",\"y\":[0.752304365237554,1.0873496949672699,1.5300888339678447,1.7527565677960715,2.528949332237244],\"yaxis\":\"y16\",\"type\":\"scatter\"},{\"hovertemplate\":\"method=STGNN\\u003cbr\\u003emodel=GConvGRU\\u003cbr\\u003edataset=monte\\u003cbr\\u003emrate=%{x}\\u003cbr\\u003emse=%{y}\\u003cextra\\u003e\\u003c\\u002fextra\\u003e\",\"legendgroup\":\"STGNN\",\"line\":{\"color\":\"#EF553B\",\"dash\":\"dashdot\"},\"marker\":{\"symbol\":\"circle\"},\"mode\":\"lines+markers\",\"name\":\"STGNN\",\"orientation\":\"v\",\"showlegend\":false,\"x\":[0.0,0.3,0.5,0.7,0.8],\"xaxis\":\"x17\",\"y\":[0.9306245803833008,0.9913904249668122,1.1492207447687786,1.393107537428538,1.5159995198249816],\"yaxis\":\"y17\",\"type\":\"scatter\"},{\"hovertemplate\":\"method=STGNN\\u003cbr\\u003emodel=GConvGRU\\u003cbr\\u003edataset=pedalme\\u003cbr\\u003emrate=%{x}\\u003cbr\\u003emse=%{y}\\u003cextra\\u003e\\u003c\\u002fextra\\u003e\",\"legendgroup\":\"STGNN\",\"line\":{\"color\":\"#EF553B\",\"dash\":\"dashdot\"},\"marker\":{\"symbol\":\"circle\"},\"mode\":\"lines+markers\",\"name\":\"STGNN\",\"orientation\":\"v\",\"showlegend\":false,\"x\":[0.0,0.3,0.5,0.6,0.8],\"xaxis\":\"x18\",\"y\":[1.2326060970624289,1.5271926323572795,1.6732519626617433,1.8514511068662007,1.8711834271748862],\"yaxis\":\"y18\",\"type\":\"scatter\"},{\"hovertemplate\":\"method=STGNN\\u003cbr\\u003emodel=GConvGRU\\u003cbr\\u003edataset=wikimath\\u003cbr\\u003emrate=%{x}\\u003cbr\\u003emse=%{y}\\u003cextra\\u003e\\u003c\\u002fextra\\u003e\",\"legendgroup\":\"STGNN\",\"line\":{\"color\":\"#EF553B\",\"dash\":\"dashdot\"},\"marker\":{\"symbol\":\"circle\"},\"mode\":\"lines+markers\",\"name\":\"STGNN\",\"orientation\":\"v\",\"showlegend\":false,\"x\":[0.0,0.3,0.5,0.6,0.8],\"xaxis\":\"x19\",\"y\":[0.527652645111084,0.5703602870305379,0.6584665417671204,0.7313244203726451,0.9323520263036092],\"yaxis\":\"y19\",\"type\":\"scatter\"},{\"hovertemplate\":\"method=STGNN\\u003cbr\\u003emodel=GConvGRU\\u003cbr\\u003edataset=windmillsmall\\u003cbr\\u003emrate=%{x}\\u003cbr\\u003emse=%{y}\\u003cextra\\u003e\\u003c\\u002fextra\\u003e\",\"legendgroup\":\"STGNN\",\"line\":{\"color\":\"#EF553B\",\"dash\":\"dashdot\"},\"marker\":{\"symbol\":\"circle\"},\"mode\":\"lines+markers\",\"name\":\"STGNN\",\"orientation\":\"v\",\"showlegend\":false,\"x\":[0.0,0.7],\"xaxis\":\"x20\",\"y\":[1.0029826087336386,1.6618889608690817],\"yaxis\":\"y20\",\"type\":\"scatter\"},{\"hovertemplate\":\"method=STGNN\\u003cbr\\u003emodel=GConvLSTM\\u003cbr\\u003edataset=chickenpox\\u003cbr\\u003emrate=%{x}\\u003cbr\\u003emse=%{y}\\u003cextra\\u003e\\u003c\\u002fextra\\u003e\",\"legendgroup\":\"STGNN\",\"line\":{\"color\":\"#EF553B\",\"dash\":\"dashdot\"},\"marker\":{\"symbol\":\"circle\"},\"mode\":\"lines+markers\",\"name\":\"STGNN\",\"orientation\":\"v\",\"showlegend\":false,\"x\":[0.0,0.3,0.5,0.6,0.8],\"xaxis\":\"x11\",\"y\":[0.9368454615275065,1.113888943195343,1.5183566768964132,1.786720633506775,2.521938411394755],\"yaxis\":\"y11\",\"type\":\"scatter\"},{\"hovertemplate\":\"method=STGNN\\u003cbr\\u003emodel=GConvLSTM\\u003cbr\\u003edataset=monte\\u003cbr\\u003emrate=%{x}\\u003cbr\\u003emse=%{y}\\u003cextra\\u003e\\u003c\\u002fextra\\u003e\",\"legendgroup\":\"STGNN\",\"line\":{\"color\":\"#EF553B\",\"dash\":\"dashdot\"},\"marker\":{\"symbol\":\"circle\"},\"mode\":\"lines+markers\",\"name\":\"STGNN\",\"orientation\":\"v\",\"showlegend\":false,\"x\":[0.0,0.3,0.5,0.7,0.8],\"xaxis\":\"x12\",\"y\":[0.9604162633419037,0.9812286913394928,1.0547321081161498,1.120662506421407,1.1336923937002819],\"yaxis\":\"y12\",\"type\":\"scatter\"},{\"hovertemplate\":\"method=STGNN\\u003cbr\\u003emodel=GConvLSTM\\u003cbr\\u003edataset=pedalme\\u003cbr\\u003emrate=%{x}\\u003cbr\\u003emse=%{y}\\u003cextra\\u003e\\u003c\\u002fextra\\u003e\",\"legendgroup\":\"STGNN\",\"line\":{\"color\":\"#EF553B\",\"dash\":\"dashdot\"},\"marker\":{\"symbol\":\"circle\"},\"mode\":\"lines+markers\",\"name\":\"STGNN\",\"orientation\":\"v\",\"showlegend\":false,\"x\":[0.0,0.3,0.5,0.6,0.8],\"xaxis\":\"x13\",\"y\":[1.215217145284017,1.265794285138448,1.2832311471303304,1.2739146629969278,1.3637308041254679],\"yaxis\":\"y13\",\"type\":\"scatter\"},{\"hovertemplate\":\"method=STGNN\\u003cbr\\u003emodel=GConvLSTM\\u003cbr\\u003edataset=wikimath\\u003cbr\\u003emrate=%{x}\\u003cbr\\u003emse=%{y}\\u003cextra\\u003e\\u003c\\u002fextra\\u003e\",\"legendgroup\":\"STGNN\",\"line\":{\"color\":\"#EF553B\",\"dash\":\"dashdot\"},\"marker\":{\"symbol\":\"circle\"},\"mode\":\"lines+markers\",\"name\":\"STGNN\",\"orientation\":\"v\",\"showlegend\":false,\"x\":[0.0,0.3,0.5,0.6,0.8],\"xaxis\":\"x14\",\"y\":[0.6397915740807851,0.7642852425575256,0.9651655813058218,1.1036300559838612,1.4230417132377624],\"yaxis\":\"y14\",\"type\":\"scatter\"},{\"hovertemplate\":\"method=STGNN\\u003cbr\\u003emodel=GConvLSTM\\u003cbr\\u003edataset=windmillsmall\\u003cbr\\u003emrate=%{x}\\u003cbr\\u003emse=%{y}\\u003cextra\\u003e\\u003c\\u002fextra\\u003e\",\"legendgroup\":\"STGNN\",\"line\":{\"color\":\"#EF553B\",\"dash\":\"dashdot\"},\"marker\":{\"symbol\":\"circle\"},\"mode\":\"lines+markers\",\"name\":\"STGNN\",\"orientation\":\"v\",\"showlegend\":false,\"x\":[0.0,0.7],\"xaxis\":\"x15\",\"y\":[1.0233653860707437,1.5990776399086262],\"yaxis\":\"y15\",\"type\":\"scatter\"},{\"hovertemplate\":\"method=STGNN\\u003cbr\\u003emodel=LRGCN\\u003cbr\\u003edataset=chickenpox\\u003cbr\\u003emrate=%{x}\\u003cbr\\u003emse=%{y}\\u003cextra\\u003e\\u003c\\u002fextra\\u003e\",\"legendgroup\":\"STGNN\",\"line\":{\"color\":\"#EF553B\",\"dash\":\"dashdot\"},\"marker\":{\"symbol\":\"circle\"},\"mode\":\"lines+markers\",\"name\":\"STGNN\",\"orientation\":\"v\",\"showlegend\":false,\"x\":[0.0,0.3,0.5,0.6,0.8],\"xaxis\":\"x6\",\"y\":[0.8718462765216828,1.085606614748637,1.458146858215332,1.6153934677441915,1.6320517897605895],\"yaxis\":\"y6\",\"type\":\"scatter\"},{\"hovertemplate\":\"method=STGNN\\u003cbr\\u003emodel=LRGCN\\u003cbr\\u003edataset=monte\\u003cbr\\u003emrate=%{x}\\u003cbr\\u003emse=%{y}\\u003cextra\\u003e\\u003c\\u002fextra\\u003e\",\"legendgroup\":\"STGNN\",\"line\":{\"color\":\"#EF553B\",\"dash\":\"dashdot\"},\"marker\":{\"symbol\":\"circle\"},\"mode\":\"lines+markers\",\"name\":\"STGNN\",\"orientation\":\"v\",\"showlegend\":false,\"x\":[0.0,0.3,0.5,0.7,0.8],\"xaxis\":\"x7\",\"y\":[0.9831988374392192,0.9821819285551707,0.9777047276496887,0.9887572149435679,0.989219464858373],\"yaxis\":\"y7\",\"type\":\"scatter\"},{\"hovertemplate\":\"method=STGNN\\u003cbr\\u003emodel=LRGCN\\u003cbr\\u003edataset=pedalme\\u003cbr\\u003emrate=%{x}\\u003cbr\\u003emse=%{y}\\u003cextra\\u003e\\u003c\\u002fextra\\u003e\",\"legendgroup\":\"STGNN\",\"line\":{\"color\":\"#EF553B\",\"dash\":\"dashdot\"},\"marker\":{\"symbol\":\"circle\"},\"mode\":\"lines+markers\",\"name\":\"STGNN\",\"orientation\":\"v\",\"showlegend\":false,\"x\":[0.0,0.3,0.5,0.6,0.8],\"xaxis\":\"x8\",\"y\":[1.1884834090868632,1.287462544441223,1.3794140140215556,1.462139332294464,1.5292036334673564],\"yaxis\":\"y8\",\"type\":\"scatter\"},{\"hovertemplate\":\"method=STGNN\\u003cbr\\u003emodel=LRGCN\\u003cbr\\u003edataset=wikimath\\u003cbr\\u003emrate=%{x}\\u003cbr\\u003emse=%{y}\\u003cextra\\u003e\\u003c\\u002fextra\\u003e\",\"legendgroup\":\"STGNN\",\"line\":{\"color\":\"#EF553B\",\"dash\":\"dashdot\"},\"marker\":{\"symbol\":\"circle\"},\"mode\":\"lines+markers\",\"name\":\"STGNN\",\"orientation\":\"v\",\"showlegend\":false,\"x\":[0.0,0.3,0.5,0.6,0.8],\"xaxis\":\"x9\",\"y\":[0.6080588142077128,0.6893625636895497,0.8375950992107392,0.9172505060831706,1.1053302109241485],\"yaxis\":\"y9\",\"type\":\"scatter\"},{\"hovertemplate\":\"method=STGNN\\u003cbr\\u003emodel=LRGCN\\u003cbr\\u003edataset=windmillsmall\\u003cbr\\u003emrate=%{x}\\u003cbr\\u003emse=%{y}\\u003cextra\\u003e\\u003c\\u002fextra\\u003e\",\"legendgroup\":\"STGNN\",\"line\":{\"color\":\"#EF553B\",\"dash\":\"dashdot\"},\"marker\":{\"symbol\":\"circle\"},\"mode\":\"lines+markers\",\"name\":\"STGNN\",\"orientation\":\"v\",\"showlegend\":false,\"x\":[0.0,0.7],\"xaxis\":\"x10\",\"y\":[0.9879741052786509,1.4917972604433696],\"yaxis\":\"y10\",\"type\":\"scatter\"},{\"hovertemplate\":\"method=STGNN\\u003cbr\\u003emodel=TGCN\\u003cbr\\u003edataset=chickenpox\\u003cbr\\u003emrate=%{x}\\u003cbr\\u003emse=%{y}\\u003cextra\\u003e\\u003c\\u002fextra\\u003e\",\"legendgroup\":\"STGNN\",\"line\":{\"color\":\"#EF553B\",\"dash\":\"dashdot\"},\"marker\":{\"symbol\":\"circle\"},\"mode\":\"lines+markers\",\"name\":\"STGNN\",\"orientation\":\"v\",\"showlegend\":false,\"x\":[0.0,0.3,0.5,0.6,0.8],\"xaxis\":\"x\",\"y\":[1.0880127906799317,1.0536463975906372,1.1673845052719116,1.2415316065152486,1.465696108341217],\"yaxis\":\"y\",\"type\":\"scatter\"},{\"hovertemplate\":\"method=STGNN\\u003cbr\\u003emodel=TGCN\\u003cbr\\u003edataset=monte\\u003cbr\\u003emrate=%{x}\\u003cbr\\u003emse=%{y}\\u003cextra\\u003e\\u003c\\u002fextra\\u003e\",\"legendgroup\":\"STGNN\",\"line\":{\"color\":\"#EF553B\",\"dash\":\"dashdot\"},\"marker\":{\"symbol\":\"circle\"},\"mode\":\"lines+markers\",\"name\":\"STGNN\",\"orientation\":\"v\",\"showlegend\":false,\"x\":[0.0,0.3,0.5,0.7,0.8],\"xaxis\":\"x2\",\"y\":[0.9824497163295746,1.0345946947733562,1.0998533566792805,1.1828110456466674,1.2179521719614665],\"yaxis\":\"y2\",\"type\":\"scatter\"},{\"hovertemplate\":\"method=STGNN\\u003cbr\\u003emodel=TGCN\\u003cbr\\u003edataset=pedalme\\u003cbr\\u003emrate=%{x}\\u003cbr\\u003emse=%{y}\\u003cextra\\u003e\\u003c\\u002fextra\\u003e\",\"legendgroup\":\"STGNN\",\"line\":{\"color\":\"#EF553B\",\"dash\":\"dashdot\"},\"marker\":{\"symbol\":\"circle\"},\"mode\":\"lines+markers\",\"name\":\"STGNN\",\"orientation\":\"v\",\"showlegend\":false,\"x\":[0.0,0.3,0.5,0.6,0.8],\"xaxis\":\"x3\",\"y\":[1.2740009208520253,1.291389779249827,1.2870418469111125,1.3007892648379007,1.277076776822408],\"yaxis\":\"y3\",\"type\":\"scatter\"},{\"hovertemplate\":\"method=STGNN\\u003cbr\\u003emodel=TGCN\\u003cbr\\u003edataset=wikimath\\u003cbr\\u003emrate=%{x}\\u003cbr\\u003emse=%{y}\\u003cextra\\u003e\\u003c\\u002fextra\\u003e\",\"legendgroup\":\"STGNN\",\"line\":{\"color\":\"#EF553B\",\"dash\":\"dashdot\"},\"marker\":{\"symbol\":\"circle\"},\"mode\":\"lines+markers\",\"name\":\"STGNN\",\"orientation\":\"v\",\"showlegend\":false,\"x\":[0.0,0.3,0.5,0.6,0.8],\"xaxis\":\"x4\",\"y\":[0.7324025352795919,0.7344819446404774,0.7573648432890574,0.7742546598116556,0.8266303598880768],\"yaxis\":\"y4\",\"type\":\"scatter\"},{\"hovertemplate\":\"method=STGNN\\u003cbr\\u003emodel=TGCN\\u003cbr\\u003edataset=windmillsmall\\u003cbr\\u003emrate=%{x}\\u003cbr\\u003emse=%{y}\\u003cextra\\u003e\\u003c\\u002fextra\\u003e\",\"legendgroup\":\"STGNN\",\"line\":{\"color\":\"#EF553B\",\"dash\":\"dashdot\"},\"marker\":{\"symbol\":\"circle\"},\"mode\":\"lines+markers\",\"name\":\"STGNN\",\"orientation\":\"v\",\"showlegend\":false,\"x\":[0.0,0.7],\"xaxis\":\"x5\",\"y\":[0.9899344603220622,1.3049984494845073],\"yaxis\":\"y5\",\"type\":\"scatter\"}],                        {\"template\":{\"data\":{\"histogram2dcontour\":[{\"type\":\"histogram2dcontour\",\"colorbar\":{\"outlinewidth\":0,\"ticks\":\"\"},\"colorscale\":[[0.0,\"#0d0887\"],[0.1111111111111111,\"#46039f\"],[0.2222222222222222,\"#7201a8\"],[0.3333333333333333,\"#9c179e\"],[0.4444444444444444,\"#bd3786\"],[0.5555555555555556,\"#d8576b\"],[0.6666666666666666,\"#ed7953\"],[0.7777777777777778,\"#fb9f3a\"],[0.8888888888888888,\"#fdca26\"],[1.0,\"#f0f921\"]]}],\"choropleth\":[{\"type\":\"choropleth\",\"colorbar\":{\"outlinewidth\":0,\"ticks\":\"\"}}],\"histogram2d\":[{\"type\":\"histogram2d\",\"colorbar\":{\"outlinewidth\":0,\"ticks\":\"\"},\"colorscale\":[[0.0,\"#0d0887\"],[0.1111111111111111,\"#46039f\"],[0.2222222222222222,\"#7201a8\"],[0.3333333333333333,\"#9c179e\"],[0.4444444444444444,\"#bd3786\"],[0.5555555555555556,\"#d8576b\"],[0.6666666666666666,\"#ed7953\"],[0.7777777777777778,\"#fb9f3a\"],[0.8888888888888888,\"#fdca26\"],[1.0,\"#f0f921\"]]}],\"heatmap\":[{\"type\":\"heatmap\",\"colorbar\":{\"outlinewidth\":0,\"ticks\":\"\"},\"colorscale\":[[0.0,\"#0d0887\"],[0.1111111111111111,\"#46039f\"],[0.2222222222222222,\"#7201a8\"],[0.3333333333333333,\"#9c179e\"],[0.4444444444444444,\"#bd3786\"],[0.5555555555555556,\"#d8576b\"],[0.6666666666666666,\"#ed7953\"],[0.7777777777777778,\"#fb9f3a\"],[0.8888888888888888,\"#fdca26\"],[1.0,\"#f0f921\"]]}],\"heatmapgl\":[{\"type\":\"heatmapgl\",\"colorbar\":{\"outlinewidth\":0,\"ticks\":\"\"},\"colorscale\":[[0.0,\"#0d0887\"],[0.1111111111111111,\"#46039f\"],[0.2222222222222222,\"#7201a8\"],[0.3333333333333333,\"#9c179e\"],[0.4444444444444444,\"#bd3786\"],[0.5555555555555556,\"#d8576b\"],[0.6666666666666666,\"#ed7953\"],[0.7777777777777778,\"#fb9f3a\"],[0.8888888888888888,\"#fdca26\"],[1.0,\"#f0f921\"]]}],\"contourcarpet\":[{\"type\":\"contourcarpet\",\"colorbar\":{\"outlinewidth\":0,\"ticks\":\"\"}}],\"contour\":[{\"type\":\"contour\",\"colorbar\":{\"outlinewidth\":0,\"ticks\":\"\"},\"colorscale\":[[0.0,\"#0d0887\"],[0.1111111111111111,\"#46039f\"],[0.2222222222222222,\"#7201a8\"],[0.3333333333333333,\"#9c179e\"],[0.4444444444444444,\"#bd3786\"],[0.5555555555555556,\"#d8576b\"],[0.6666666666666666,\"#ed7953\"],[0.7777777777777778,\"#fb9f3a\"],[0.8888888888888888,\"#fdca26\"],[1.0,\"#f0f921\"]]}],\"surface\":[{\"type\":\"surface\",\"colorbar\":{\"outlinewidth\":0,\"ticks\":\"\"},\"colorscale\":[[0.0,\"#0d0887\"],[0.1111111111111111,\"#46039f\"],[0.2222222222222222,\"#7201a8\"],[0.3333333333333333,\"#9c179e\"],[0.4444444444444444,\"#bd3786\"],[0.5555555555555556,\"#d8576b\"],[0.6666666666666666,\"#ed7953\"],[0.7777777777777778,\"#fb9f3a\"],[0.8888888888888888,\"#fdca26\"],[1.0,\"#f0f921\"]]}],\"mesh3d\":[{\"type\":\"mesh3d\",\"colorbar\":{\"outlinewidth\":0,\"ticks\":\"\"}}],\"scatter\":[{\"fillpattern\":{\"fillmode\":\"overlay\",\"size\":10,\"solidity\":0.2},\"type\":\"scatter\"}],\"parcoords\":[{\"type\":\"parcoords\",\"line\":{\"colorbar\":{\"outlinewidth\":0,\"ticks\":\"\"}}}],\"scatterpolargl\":[{\"type\":\"scatterpolargl\",\"marker\":{\"colorbar\":{\"outlinewidth\":0,\"ticks\":\"\"}}}],\"bar\":[{\"error_x\":{\"color\":\"#2a3f5f\"},\"error_y\":{\"color\":\"#2a3f5f\"},\"marker\":{\"line\":{\"color\":\"white\",\"width\":0.5},\"pattern\":{\"fillmode\":\"overlay\",\"size\":10,\"solidity\":0.2}},\"type\":\"bar\"}],\"scattergeo\":[{\"type\":\"scattergeo\",\"marker\":{\"colorbar\":{\"outlinewidth\":0,\"ticks\":\"\"}}}],\"scatterpolar\":[{\"type\":\"scatterpolar\",\"marker\":{\"colorbar\":{\"outlinewidth\":0,\"ticks\":\"\"}}}],\"histogram\":[{\"marker\":{\"pattern\":{\"fillmode\":\"overlay\",\"size\":10,\"solidity\":0.2}},\"type\":\"histogram\"}],\"scattergl\":[{\"type\":\"scattergl\",\"marker\":{\"colorbar\":{\"outlinewidth\":0,\"ticks\":\"\"}}}],\"scatter3d\":[{\"type\":\"scatter3d\",\"line\":{\"colorbar\":{\"outlinewidth\":0,\"ticks\":\"\"}},\"marker\":{\"colorbar\":{\"outlinewidth\":0,\"ticks\":\"\"}}}],\"scattermapbox\":[{\"type\":\"scattermapbox\",\"marker\":{\"colorbar\":{\"outlinewidth\":0,\"ticks\":\"\"}}}],\"scatterternary\":[{\"type\":\"scatterternary\",\"marker\":{\"colorbar\":{\"outlinewidth\":0,\"ticks\":\"\"}}}],\"scattercarpet\":[{\"type\":\"scattercarpet\",\"marker\":{\"colorbar\":{\"outlinewidth\":0,\"ticks\":\"\"}}}],\"carpet\":[{\"aaxis\":{\"endlinecolor\":\"#2a3f5f\",\"gridcolor\":\"#C8D4E3\",\"linecolor\":\"#C8D4E3\",\"minorgridcolor\":\"#C8D4E3\",\"startlinecolor\":\"#2a3f5f\"},\"baxis\":{\"endlinecolor\":\"#2a3f5f\",\"gridcolor\":\"#C8D4E3\",\"linecolor\":\"#C8D4E3\",\"minorgridcolor\":\"#C8D4E3\",\"startlinecolor\":\"#2a3f5f\"},\"type\":\"carpet\"}],\"table\":[{\"cells\":{\"fill\":{\"color\":\"#EBF0F8\"},\"line\":{\"color\":\"white\"}},\"header\":{\"fill\":{\"color\":\"#C8D4E3\"},\"line\":{\"color\":\"white\"}},\"type\":\"table\"}],\"barpolar\":[{\"marker\":{\"line\":{\"color\":\"white\",\"width\":0.5},\"pattern\":{\"fillmode\":\"overlay\",\"size\":10,\"solidity\":0.2}},\"type\":\"barpolar\"}],\"pie\":[{\"automargin\":true,\"type\":\"pie\"}]},\"layout\":{\"autotypenumbers\":\"strict\",\"colorway\":[\"#636efa\",\"#EF553B\",\"#00cc96\",\"#ab63fa\",\"#FFA15A\",\"#19d3f3\",\"#FF6692\",\"#B6E880\",\"#FF97FF\",\"#FECB52\"],\"font\":{\"color\":\"#2a3f5f\"},\"hovermode\":\"closest\",\"hoverlabel\":{\"align\":\"left\"},\"paper_bgcolor\":\"white\",\"plot_bgcolor\":\"white\",\"polar\":{\"bgcolor\":\"white\",\"angularaxis\":{\"gridcolor\":\"#EBF0F8\",\"linecolor\":\"#EBF0F8\",\"ticks\":\"\"},\"radialaxis\":{\"gridcolor\":\"#EBF0F8\",\"linecolor\":\"#EBF0F8\",\"ticks\":\"\"}},\"ternary\":{\"bgcolor\":\"white\",\"aaxis\":{\"gridcolor\":\"#DFE8F3\",\"linecolor\":\"#A2B1C6\",\"ticks\":\"\"},\"baxis\":{\"gridcolor\":\"#DFE8F3\",\"linecolor\":\"#A2B1C6\",\"ticks\":\"\"},\"caxis\":{\"gridcolor\":\"#DFE8F3\",\"linecolor\":\"#A2B1C6\",\"ticks\":\"\"}},\"coloraxis\":{\"colorbar\":{\"outlinewidth\":0,\"ticks\":\"\"}},\"colorscale\":{\"sequential\":[[0.0,\"#0d0887\"],[0.1111111111111111,\"#46039f\"],[0.2222222222222222,\"#7201a8\"],[0.3333333333333333,\"#9c179e\"],[0.4444444444444444,\"#bd3786\"],[0.5555555555555556,\"#d8576b\"],[0.6666666666666666,\"#ed7953\"],[0.7777777777777778,\"#fb9f3a\"],[0.8888888888888888,\"#fdca26\"],[1.0,\"#f0f921\"]],\"sequentialminus\":[[0.0,\"#0d0887\"],[0.1111111111111111,\"#46039f\"],[0.2222222222222222,\"#7201a8\"],[0.3333333333333333,\"#9c179e\"],[0.4444444444444444,\"#bd3786\"],[0.5555555555555556,\"#d8576b\"],[0.6666666666666666,\"#ed7953\"],[0.7777777777777778,\"#fb9f3a\"],[0.8888888888888888,\"#fdca26\"],[1.0,\"#f0f921\"]],\"diverging\":[[0,\"#8e0152\"],[0.1,\"#c51b7d\"],[0.2,\"#de77ae\"],[0.3,\"#f1b6da\"],[0.4,\"#fde0ef\"],[0.5,\"#f7f7f7\"],[0.6,\"#e6f5d0\"],[0.7,\"#b8e186\"],[0.8,\"#7fbc41\"],[0.9,\"#4d9221\"],[1,\"#276419\"]]},\"xaxis\":{\"gridcolor\":\"#EBF0F8\",\"linecolor\":\"#EBF0F8\",\"ticks\":\"\",\"title\":{\"standoff\":15},\"zerolinecolor\":\"#EBF0F8\",\"automargin\":true,\"zerolinewidth\":2},\"yaxis\":{\"gridcolor\":\"#EBF0F8\",\"linecolor\":\"#EBF0F8\",\"ticks\":\"\",\"title\":{\"standoff\":15},\"zerolinecolor\":\"#EBF0F8\",\"automargin\":true,\"zerolinewidth\":2},\"scene\":{\"xaxis\":{\"backgroundcolor\":\"white\",\"gridcolor\":\"#DFE8F3\",\"linecolor\":\"#EBF0F8\",\"showbackground\":true,\"ticks\":\"\",\"zerolinecolor\":\"#EBF0F8\",\"gridwidth\":2},\"yaxis\":{\"backgroundcolor\":\"white\",\"gridcolor\":\"#DFE8F3\",\"linecolor\":\"#EBF0F8\",\"showbackground\":true,\"ticks\":\"\",\"zerolinecolor\":\"#EBF0F8\",\"gridwidth\":2},\"zaxis\":{\"backgroundcolor\":\"white\",\"gridcolor\":\"#DFE8F3\",\"linecolor\":\"#EBF0F8\",\"showbackground\":true,\"ticks\":\"\",\"zerolinecolor\":\"#EBF0F8\",\"gridwidth\":2}},\"shapedefaults\":{\"line\":{\"color\":\"#2a3f5f\"}},\"annotationdefaults\":{\"arrowcolor\":\"#2a3f5f\",\"arrowhead\":0,\"arrowwidth\":1},\"geo\":{\"bgcolor\":\"white\",\"landcolor\":\"white\",\"subunitcolor\":\"#C8D4E3\",\"showland\":true,\"showlakes\":true,\"lakecolor\":\"white\"},\"title\":{\"x\":0.05},\"mapbox\":{\"style\":\"light\"}}},\"xaxis\":{\"anchor\":\"y\",\"domain\":[0.0,0.18000000000000002],\"title\":{},\"showticklabels\":true},\"yaxis\":{\"anchor\":\"x\",\"domain\":[0.0,0.08444444444444445],\"title\":{},\"showticklabels\":true},\"xaxis2\":{\"anchor\":\"y2\",\"domain\":[0.2,0.38],\"title\":{},\"showticklabels\":true},\"yaxis2\":{\"anchor\":\"x2\",\"domain\":[0.0,0.08444444444444445],\"showticklabels\":true},\"xaxis3\":{\"anchor\":\"y3\",\"domain\":[0.4,0.5800000000000001],\"title\":{},\"showticklabels\":true},\"yaxis3\":{\"anchor\":\"x3\",\"domain\":[0.0,0.08444444444444445],\"showticklabels\":true},\"xaxis4\":{\"anchor\":\"y4\",\"domain\":[0.6000000000000001,0.7800000000000001],\"title\":{},\"showticklabels\":true},\"yaxis4\":{\"anchor\":\"x4\",\"domain\":[0.0,0.08444444444444445],\"showticklabels\":true},\"xaxis5\":{\"anchor\":\"y5\",\"domain\":[0.8,0.9800000000000001],\"title\":{},\"showticklabels\":true},\"yaxis5\":{\"anchor\":\"x5\",\"domain\":[0.0,0.08444444444444445],\"showticklabels\":true},\"xaxis6\":{\"anchor\":\"y6\",\"domain\":[0.0,0.18000000000000002],\"showticklabels\":true},\"yaxis6\":{\"anchor\":\"x6\",\"domain\":[0.11444444444444445,0.1988888888888889],\"title\":{},\"showticklabels\":true},\"xaxis7\":{\"anchor\":\"y7\",\"domain\":[0.2,0.38],\"showticklabels\":true},\"yaxis7\":{\"anchor\":\"x7\",\"domain\":[0.11444444444444445,0.1988888888888889],\"showticklabels\":true},\"xaxis8\":{\"anchor\":\"y8\",\"domain\":[0.4,0.5800000000000001],\"showticklabels\":true},\"yaxis8\":{\"anchor\":\"x8\",\"domain\":[0.11444444444444445,0.1988888888888889],\"showticklabels\":true},\"xaxis9\":{\"anchor\":\"y9\",\"domain\":[0.6000000000000001,0.7800000000000001],\"showticklabels\":true},\"yaxis9\":{\"anchor\":\"x9\",\"domain\":[0.11444444444444445,0.1988888888888889],\"showticklabels\":true},\"xaxis10\":{\"anchor\":\"y10\",\"domain\":[0.8,0.9800000000000001],\"showticklabels\":true},\"yaxis10\":{\"anchor\":\"x10\",\"domain\":[0.11444444444444445,0.1988888888888889],\"showticklabels\":true},\"xaxis11\":{\"anchor\":\"y11\",\"domain\":[0.0,0.18000000000000002],\"showticklabels\":true},\"yaxis11\":{\"anchor\":\"x11\",\"domain\":[0.2288888888888889,0.31333333333333335],\"title\":{},\"showticklabels\":true},\"xaxis12\":{\"anchor\":\"y12\",\"domain\":[0.2,0.38],\"showticklabels\":true},\"yaxis12\":{\"anchor\":\"x12\",\"domain\":[0.2288888888888889,0.31333333333333335],\"showticklabels\":true},\"xaxis13\":{\"anchor\":\"y13\",\"domain\":[0.4,0.5800000000000001],\"showticklabels\":true},\"yaxis13\":{\"anchor\":\"x13\",\"domain\":[0.2288888888888889,0.31333333333333335],\"showticklabels\":true},\"xaxis14\":{\"anchor\":\"y14\",\"domain\":[0.6000000000000001,0.7800000000000001],\"showticklabels\":true},\"yaxis14\":{\"anchor\":\"x14\",\"domain\":[0.2288888888888889,0.31333333333333335],\"showticklabels\":true},\"xaxis15\":{\"anchor\":\"y15\",\"domain\":[0.8,0.9800000000000001],\"showticklabels\":true},\"yaxis15\":{\"anchor\":\"x15\",\"domain\":[0.2288888888888889,0.31333333333333335],\"showticklabels\":true},\"xaxis16\":{\"anchor\":\"y16\",\"domain\":[0.0,0.18000000000000002],\"showticklabels\":true},\"yaxis16\":{\"anchor\":\"x16\",\"domain\":[0.3433333333333334,0.4277777777777778],\"title\":{},\"showticklabels\":true},\"xaxis17\":{\"anchor\":\"y17\",\"domain\":[0.2,0.38],\"showticklabels\":true},\"yaxis17\":{\"anchor\":\"x17\",\"domain\":[0.3433333333333334,0.4277777777777778],\"showticklabels\":true},\"xaxis18\":{\"anchor\":\"y18\",\"domain\":[0.4,0.5800000000000001],\"showticklabels\":true},\"yaxis18\":{\"anchor\":\"x18\",\"domain\":[0.3433333333333334,0.4277777777777778],\"showticklabels\":true},\"xaxis19\":{\"anchor\":\"y19\",\"domain\":[0.6000000000000001,0.7800000000000001],\"showticklabels\":true},\"yaxis19\":{\"anchor\":\"x19\",\"domain\":[0.3433333333333334,0.4277777777777778],\"showticklabels\":true},\"xaxis20\":{\"anchor\":\"y20\",\"domain\":[0.8,0.9800000000000001],\"showticklabels\":true},\"yaxis20\":{\"anchor\":\"x20\",\"domain\":[0.3433333333333334,0.4277777777777778],\"showticklabels\":true},\"xaxis21\":{\"anchor\":\"y21\",\"domain\":[0.0,0.18000000000000002],\"showticklabels\":true},\"yaxis21\":{\"anchor\":\"x21\",\"domain\":[0.4577777777777778,0.5422222222222223],\"title\":{},\"showticklabels\":true},\"xaxis22\":{\"anchor\":\"y22\",\"domain\":[0.2,0.38],\"showticklabels\":true},\"yaxis22\":{\"anchor\":\"x22\",\"domain\":[0.4577777777777778,0.5422222222222223],\"showticklabels\":true},\"xaxis23\":{\"anchor\":\"y23\",\"domain\":[0.4,0.5800000000000001],\"showticklabels\":true},\"yaxis23\":{\"anchor\":\"x23\",\"domain\":[0.4577777777777778,0.5422222222222223],\"showticklabels\":true},\"xaxis24\":{\"anchor\":\"y24\",\"domain\":[0.6000000000000001,0.7800000000000001],\"showticklabels\":true},\"yaxis24\":{\"anchor\":\"x24\",\"domain\":[0.4577777777777778,0.5422222222222223],\"showticklabels\":true},\"xaxis25\":{\"anchor\":\"y25\",\"domain\":[0.8,0.9800000000000001],\"showticklabels\":true},\"yaxis25\":{\"anchor\":\"x25\",\"domain\":[0.4577777777777778,0.5422222222222223],\"showticklabels\":true},\"xaxis26\":{\"anchor\":\"y26\",\"domain\":[0.0,0.18000000000000002],\"showticklabels\":true},\"yaxis26\":{\"anchor\":\"x26\",\"domain\":[0.5722222222222222,0.6566666666666666],\"title\":{},\"showticklabels\":true},\"xaxis27\":{\"anchor\":\"y27\",\"domain\":[0.2,0.38],\"showticklabels\":true},\"yaxis27\":{\"anchor\":\"x27\",\"domain\":[0.5722222222222222,0.6566666666666666],\"showticklabels\":true},\"xaxis28\":{\"anchor\":\"y28\",\"domain\":[0.4,0.5800000000000001],\"showticklabels\":true},\"yaxis28\":{\"anchor\":\"x28\",\"domain\":[0.5722222222222222,0.6566666666666666],\"showticklabels\":true},\"xaxis29\":{\"anchor\":\"y29\",\"domain\":[0.6000000000000001,0.7800000000000001],\"showticklabels\":true},\"yaxis29\":{\"anchor\":\"x29\",\"domain\":[0.5722222222222222,0.6566666666666666],\"showticklabels\":true},\"xaxis30\":{\"anchor\":\"y30\",\"domain\":[0.8,0.9800000000000001],\"showticklabels\":true},\"yaxis30\":{\"anchor\":\"x30\",\"domain\":[0.5722222222222222,0.6566666666666666],\"showticklabels\":true},\"xaxis31\":{\"anchor\":\"y31\",\"domain\":[0.0,0.18000000000000002],\"showticklabels\":true},\"yaxis31\":{\"anchor\":\"x31\",\"domain\":[0.6866666666666668,0.7711111111111112],\"title\":{},\"showticklabels\":true},\"xaxis32\":{\"anchor\":\"y32\",\"domain\":[0.2,0.38],\"showticklabels\":true},\"yaxis32\":{\"anchor\":\"x32\",\"domain\":[0.6866666666666668,0.7711111111111112],\"showticklabels\":true},\"xaxis33\":{\"anchor\":\"y33\",\"domain\":[0.4,0.5800000000000001],\"showticklabels\":true},\"yaxis33\":{\"anchor\":\"x33\",\"domain\":[0.6866666666666668,0.7711111111111112],\"showticklabels\":true},\"xaxis34\":{\"anchor\":\"y34\",\"domain\":[0.6000000000000001,0.7800000000000001],\"showticklabels\":true},\"yaxis34\":{\"anchor\":\"x34\",\"domain\":[0.6866666666666668,0.7711111111111112],\"showticklabels\":true},\"xaxis35\":{\"anchor\":\"y35\",\"domain\":[0.8,0.9800000000000001],\"showticklabels\":true},\"yaxis35\":{\"anchor\":\"x35\",\"domain\":[0.6866666666666668,0.7711111111111112],\"showticklabels\":true},\"xaxis36\":{\"anchor\":\"y36\",\"domain\":[0.0,0.18000000000000002],\"showticklabels\":true},\"yaxis36\":{\"anchor\":\"x36\",\"domain\":[0.8011111111111111,0.8855555555555555],\"title\":{},\"showticklabels\":true},\"xaxis37\":{\"anchor\":\"y37\",\"domain\":[0.2,0.38],\"showticklabels\":true},\"yaxis37\":{\"anchor\":\"x37\",\"domain\":[0.8011111111111111,0.8855555555555555],\"showticklabels\":true},\"xaxis38\":{\"anchor\":\"y38\",\"domain\":[0.4,0.5800000000000001],\"showticklabels\":true},\"yaxis38\":{\"anchor\":\"x38\",\"domain\":[0.8011111111111111,0.8855555555555555],\"showticklabels\":true},\"xaxis39\":{\"anchor\":\"y39\",\"domain\":[0.6000000000000001,0.7800000000000001],\"showticklabels\":true},\"yaxis39\":{\"anchor\":\"x39\",\"domain\":[0.8011111111111111,0.8855555555555555],\"showticklabels\":true},\"xaxis40\":{\"anchor\":\"y40\",\"domain\":[0.8,0.9800000000000001],\"showticklabels\":true},\"yaxis40\":{\"anchor\":\"x40\",\"domain\":[0.8011111111111111,0.8855555555555555],\"showticklabels\":true},\"xaxis41\":{\"anchor\":\"y41\",\"domain\":[0.0,0.18000000000000002],\"showticklabels\":true},\"yaxis41\":{\"anchor\":\"x41\",\"domain\":[0.9155555555555556,1.0],\"title\":{},\"showticklabels\":true},\"xaxis42\":{\"anchor\":\"y42\",\"domain\":[0.2,0.38],\"showticklabels\":true},\"yaxis42\":{\"anchor\":\"x42\",\"domain\":[0.9155555555555556,1.0],\"showticklabels\":true},\"xaxis43\":{\"anchor\":\"y43\",\"domain\":[0.4,0.5800000000000001],\"showticklabels\":true},\"yaxis43\":{\"anchor\":\"x43\",\"domain\":[0.9155555555555556,1.0],\"showticklabels\":true},\"xaxis44\":{\"anchor\":\"y44\",\"domain\":[0.6000000000000001,0.7800000000000001],\"showticklabels\":true},\"yaxis44\":{\"anchor\":\"x44\",\"domain\":[0.9155555555555556,1.0],\"showticklabels\":true},\"xaxis45\":{\"anchor\":\"y45\",\"domain\":[0.8,0.9800000000000001],\"showticklabels\":true},\"yaxis45\":{\"anchor\":\"x45\",\"domain\":[0.9155555555555556,1.0],\"showticklabels\":true},\"annotations\":[{\"font\":{},\"showarrow\":false,\"text\":\"chickenpox\",\"x\":0.09000000000000001,\"xanchor\":\"center\",\"xref\":\"paper\",\"y\":1.0,\"yanchor\":\"bottom\",\"yref\":\"paper\"},{\"font\":{},\"showarrow\":false,\"text\":\"monte\",\"x\":0.29000000000000004,\"xanchor\":\"center\",\"xref\":\"paper\",\"y\":1.0,\"yanchor\":\"bottom\",\"yref\":\"paper\"},{\"font\":{},\"showarrow\":false,\"text\":\"pedalme\",\"x\":0.49000000000000005,\"xanchor\":\"center\",\"xref\":\"paper\",\"y\":1.0,\"yanchor\":\"bottom\",\"yref\":\"paper\"},{\"font\":{},\"showarrow\":false,\"text\":\"wikimath\",\"x\":0.6900000000000002,\"xanchor\":\"center\",\"xref\":\"paper\",\"y\":1.0,\"yanchor\":\"bottom\",\"yref\":\"paper\"},{\"font\":{},\"showarrow\":false,\"text\":\"windmillsmall\",\"x\":0.8900000000000001,\"xanchor\":\"center\",\"xref\":\"paper\",\"y\":1.0,\"yanchor\":\"bottom\",\"yref\":\"paper\"},{\"font\":{},\"showarrow\":false,\"text\":\"TGCN\",\"textangle\":90,\"x\":0.9800000000000001,\"xanchor\":\"left\",\"xref\":\"paper\",\"y\":0.042222222222222223,\"yanchor\":\"middle\",\"yref\":\"paper\"},{\"font\":{},\"showarrow\":false,\"text\":\"LRGCN\",\"textangle\":90,\"x\":0.9800000000000001,\"xanchor\":\"left\",\"xref\":\"paper\",\"y\":0.15666666666666668,\"yanchor\":\"middle\",\"yref\":\"paper\"},{\"font\":{},\"showarrow\":false,\"text\":\"GConvLSTM\",\"textangle\":90,\"x\":0.9800000000000001,\"xanchor\":\"left\",\"xref\":\"paper\",\"y\":0.27111111111111114,\"yanchor\":\"middle\",\"yref\":\"paper\"},{\"font\":{},\"showarrow\":false,\"text\":\"GConvGRU\",\"textangle\":90,\"x\":0.9800000000000001,\"xanchor\":\"left\",\"xref\":\"paper\",\"y\":0.3855555555555556,\"yanchor\":\"middle\",\"yref\":\"paper\"},{\"font\":{},\"showarrow\":false,\"text\":\"GCLSTM\",\"textangle\":90,\"x\":0.9800000000000001,\"xanchor\":\"left\",\"xref\":\"paper\",\"y\":0.5,\"yanchor\":\"middle\",\"yref\":\"paper\"},{\"font\":{},\"showarrow\":false,\"text\":\"EvolveGCNO\",\"textangle\":90,\"x\":0.9800000000000001,\"xanchor\":\"left\",\"xref\":\"paper\",\"y\":0.6144444444444443,\"yanchor\":\"middle\",\"yref\":\"paper\"},{\"font\":{},\"showarrow\":false,\"text\":\"EvolveGCNH\",\"textangle\":90,\"x\":0.9800000000000001,\"xanchor\":\"left\",\"xref\":\"paper\",\"y\":0.7288888888888889,\"yanchor\":\"middle\",\"yref\":\"paper\"},{\"font\":{},\"showarrow\":false,\"text\":\"DyGrEncoder\",\"textangle\":90,\"x\":0.9800000000000001,\"xanchor\":\"left\",\"xref\":\"paper\",\"y\":0.8433333333333333,\"yanchor\":\"middle\",\"yref\":\"paper\"},{\"font\":{},\"showarrow\":false,\"text\":\"DCRNN\",\"textangle\":90,\"x\":0.9800000000000001,\"xanchor\":\"left\",\"xref\":\"paper\",\"y\":0.9577777777777778,\"yanchor\":\"middle\",\"yref\":\"paper\"}],\"legend\":{\"title\":{\"text\":\"method\"},\"tracegroupgap\":0},\"margin\":{\"t\":60},\"height\":1000,\"width\":850},                        {\"responsive\": true}                    ).then(function(){\n",
       "                            \n",
       "var gd = document.getElementById('ec87b8fc-a13a-4608-9ffa-a36cf3199dbc');\n",
       "var x = new MutationObserver(function (mutations, observer) {{\n",
       "        var display = window.getComputedStyle(gd).display;\n",
       "        if (!display || display === 'none') {{\n",
       "            console.log([gd, 'removed!']);\n",
       "            Plotly.purge(gd);\n",
       "            observer.disconnect();\n",
       "        }}\n",
       "}});\n",
       "\n",
       "// Listen for the removal of the full notebook cells\n",
       "var notebookContainer = gd.closest('#notebook-container');\n",
       "if (notebookContainer) {{\n",
       "    x.observe(notebookContainer, {childList: true});\n",
       "}}\n",
       "\n",
       "// Listen for the clearing of the current output cell\n",
       "var outputEl = gd.closest('.output');\n",
       "if (outputEl) {{\n",
       "    x.observe(outputEl, {childList: true});\n",
       "}}\n",
       "\n",
       "                        })                };                });            </script>        </div>"
      ]
     },
     "metadata": {},
     "output_type": "display_data"
    }
   ],
   "source": [
    "tidydata = df.query(\"mtype!='block'\").query(\"dataset != 'fivenodes'\")\\\n",
    ".groupby([\"method\",\"dataset\",\"mrate\",\"model\"]).agg({'mse':'mean'}).reset_index()\n",
    "#---#\n",
    "fig = px.line(\n",
    "    tidydata,\n",
    "    x='mrate',\n",
    "    y='mse',\n",
    "    color='method',\n",
    "    facet_row='model',\n",
    "    facet_col='dataset',\n",
    "    width=850,\n",
    "    height=1000,\n",
    "    \n",
    ")\n",
    "for scatter in fig.data:\n",
    "    scatter['mode'] = 'lines+markers'\n",
    "    scatter['line']['dash'] = 'dashdot'\n",
    "for annotation in fig.layout['annotations']:\n",
    "    annotation['text'] = annotation['text'].replace('dataset=','')\n",
    "    annotation['text'] = annotation['text'].replace('model=','')\n",
    "for k in [k for k in fig.layout if 'xaxis' in k]:\n",
    "    fig.layout[k]['title']['text'] = None \n",
    "for k in [k for k in fig.layout if 'yaxis' in k]:\n",
    "    fig.layout[k]['title']['text'] = None \n",
    "fig.update_yaxes(showticklabels=True,matches=None)\n",
    "fig.update_xaxes(showticklabels=True,matches=None)"
   ]
  },
  {
   "cell_type": "markdown",
   "id": "559ec12e-293f-466d-bc5b-790b70bc0943",
   "metadata": {},
   "source": [
    "# 시각화3 "
   ]
  },
  {
   "cell_type": "code",
   "execution_count": 11,
   "id": "8795adcc-9bbf-48db-8feb-248bf258151d",
   "metadata": {},
   "outputs": [],
   "source": [
    "def func(x):\n",
    "    if 'IT' in x:\n",
    "        return 'IT-STGNN'\n",
    "    elif 'GNAR' in x:\n",
    "        return 'GNAR'\n",
    "    else: \n",
    "        return 'STGNN'"
   ]
  },
  {
   "cell_type": "code",
   "execution_count": 12,
   "id": "b663c99a-a5ab-496a-84cf-d5fc59180192",
   "metadata": {},
   "outputs": [
    {
     "data": {
      "text/html": [
       "<div>                            <div id=\"2f9980b7-38a9-4b12-92a6-f091678c4451\" class=\"plotly-graph-div\" style=\"height:800px; width:100%;\"></div>            <script type=\"text/javascript\">                require([\"plotly\"], function(Plotly) {                    window.PLOTLYENV=window.PLOTLYENV || {};                                    if (document.getElementById(\"2f9980b7-38a9-4b12-92a6-f091678c4451\")) {                    Plotly.newPlot(                        \"2f9980b7-38a9-4b12-92a6-f091678c4451\",                        [{\"alignmentgroup\":\"True\",\"hovertemplate\":\"method=IT-STGNN\\u003cbr\\u003edataset=chickenpox\\u003cbr\\u003eindex=%{x}\\u003cbr\\u003emse=%{y}\\u003cbr\\u003emodel=%{text}\\u003cextra\\u003e\\u003c\\u002fextra\\u003e\",\"legendgroup\":\"IT-STGNN\",\"marker\":{\"color\":\"#636efa\",\"pattern\":{\"shape\":\"\"}},\"name\":\"IT-STGNN\",\"offsetgroup\":\"IT-STGNN\",\"orientation\":\"v\",\"showlegend\":true,\"text\":[\"IT-DCRNN\",\"IT-GCLSTM\",\"IT-LRGCN\",\"IT-DyGrEncoder\",\"IT-GConvLSTM\",\"IT-EvolveGCNO\",\"IT-EvolveGCNH\",\"IT-GConvGRU\",\"IT-TGCN\"],\"textposition\":\"auto\",\"x\":[0,1,2,3,4,5,6,7,8],\"xaxis\":\"x5\",\"y\":[0.9665222064654031,1.0000576710700988,1.0033621819814047,1.0209299961725873,1.0380458156267802,1.0427478524049123,1.0456404129664105,1.053247622648875,1.0809152086575826],\"yaxis\":\"y5\",\"type\":\"bar\"},{\"alignmentgroup\":\"True\",\"hovertemplate\":\"method=IT-STGNN\\u003cbr\\u003edataset=fivenodes\\u003cbr\\u003eindex=%{x}\\u003cbr\\u003emse=%{y}\\u003cbr\\u003emodel=%{text}\\u003cextra\\u003e\\u003c\\u002fextra\\u003e\",\"legendgroup\":\"IT-STGNN\",\"marker\":{\"color\":\"#636efa\",\"pattern\":{\"shape\":\"\"}},\"name\":\"IT-STGNN\",\"offsetgroup\":\"IT-STGNN\",\"orientation\":\"v\",\"showlegend\":false,\"text\":[\"IT-TGCN\",\"IT-GConvGRU\",\"IT-EvolveGCNO\",\"IT-EvolveGCNH\",\"IT-DyGrEncoder\",\"IT-GConvLSTM\",\"IT-GCLSTM\",\"IT-LRGCN\",\"IT-DCRNN\"],\"textposition\":\"auto\",\"x\":[0,2,3,5,7,8,9,10,12],\"xaxis\":\"x6\",\"y\":[1.107903301384714,1.1609696323672931,1.1786587642298805,1.1893848644362555,1.2037999570369722,1.2073992669582367,1.2201290862427818,1.2253748936785591,1.2379136976268557],\"yaxis\":\"y6\",\"type\":\"bar\"},{\"alignmentgroup\":\"True\",\"hovertemplate\":\"method=IT-STGNN\\u003cbr\\u003edataset=monte\\u003cbr\\u003eindex=%{x}\\u003cbr\\u003emse=%{y}\\u003cbr\\u003emodel=%{text}\\u003cextra\\u003e\\u003c\\u002fextra\\u003e\",\"legendgroup\":\"IT-STGNN\",\"marker\":{\"color\":\"#636efa\",\"pattern\":{\"shape\":\"\"}},\"name\":\"IT-STGNN\",\"offsetgroup\":\"IT-STGNN\",\"orientation\":\"v\",\"showlegend\":false,\"text\":[\"IT-LRGCN\",\"IT-GConvGRU\",\"IT-GCLSTM\",\"IT-DCRNN\",\"IT-GConvLSTM\",\"IT-TGCN\",\"IT-DyGrEncoder\",\"IT-EvolveGCNH\",\"IT-EvolveGCNO\"],\"textposition\":\"auto\",\"x\":[0,1,3,4,5,6,11,14,15],\"xaxis\":\"x3\",\"y\":[0.9794781740506491,0.9839067341883977,0.985574783484141,0.9926472487714555,1.0021103568871816,1.0127231403191885,1.1055630540847778,1.54858762939771,1.6818271414438883],\"yaxis\":\"y3\",\"type\":\"bar\"},{\"alignmentgroup\":\"True\",\"hovertemplate\":\"method=IT-STGNN\\u003cbr\\u003edataset=pedalme\\u003cbr\\u003eindex=%{x}\\u003cbr\\u003emse=%{y}\\u003cbr\\u003emodel=%{text}\\u003cextra\\u003e\\u003c\\u002fextra\\u003e\",\"legendgroup\":\"IT-STGNN\",\"marker\":{\"color\":\"#636efa\",\"pattern\":{\"shape\":\"\"}},\"name\":\"IT-STGNN\",\"offsetgroup\":\"IT-STGNN\",\"orientation\":\"v\",\"showlegend\":false,\"text\":[\"IT-GConvLSTM\",\"IT-GCLSTM\",\"IT-EvolveGCNH\",\"IT-EvolveGCNO\",\"IT-TGCN\",\"IT-DCRNN\",\"IT-LRGCN\",\"IT-DyGrEncoder\",\"IT-GConvGRU\"],\"textposition\":\"auto\",\"x\":[0,1,2,3,5,6,7,9,16],\"xaxis\":\"x4\",\"y\":[1.2411704484621684,1.2425321098168691,1.2526725415388742,1.2592232565085093,1.2731403299172719,1.274517693122228,1.2751550857226053,1.2799609390894573,1.4716666742165885],\"yaxis\":\"y4\",\"type\":\"bar\"},{\"alignmentgroup\":\"True\",\"hovertemplate\":\"method=IT-STGNN\\u003cbr\\u003edataset=wikimath\\u003cbr\\u003eindex=%{x}\\u003cbr\\u003emse=%{y}\\u003cbr\\u003emodel=%{text}\\u003cextra\\u003e\\u003c\\u002fextra\\u003e\",\"legendgroup\":\"IT-STGNN\",\"marker\":{\"color\":\"#636efa\",\"pattern\":{\"shape\":\"\"}},\"name\":\"IT-STGNN\",\"offsetgroup\":\"IT-STGNN\",\"orientation\":\"v\",\"showlegend\":false,\"text\":[\"IT-GConvGRU\",\"IT-DyGrEncoder\",\"IT-DCRNN\",\"IT-LRGCN\",\"IT-GCLSTM\",\"IT-GConvLSTM\",\"IT-TGCN\",\"IT-EvolveGCNO\",\"IT-EvolveGCNH\"],\"textposition\":\"auto\",\"x\":[0,1,2,4,5,8,9,10,13],\"xaxis\":\"x\",\"y\":[0.5592513465881348,0.5754639506340027,0.6047789931297303,0.6534894820054372,0.672382717927297,0.715505259434382,0.747567623058955,0.748222773472468,0.8045500751336416],\"yaxis\":\"y\",\"type\":\"bar\"},{\"alignmentgroup\":\"True\",\"hovertemplate\":\"method=IT-STGNN\\u003cbr\\u003edataset=windmillsmall\\u003cbr\\u003eindex=%{x}\\u003cbr\\u003emse=%{y}\\u003cbr\\u003emodel=%{text}\\u003cextra\\u003e\\u003c\\u002fextra\\u003e\",\"legendgroup\":\"IT-STGNN\",\"marker\":{\"color\":\"#636efa\",\"pattern\":{\"shape\":\"\"}},\"name\":\"IT-STGNN\",\"offsetgroup\":\"IT-STGNN\",\"orientation\":\"v\",\"showlegend\":false,\"text\":[\"IT-TGCN\",\"IT-LRGCN\",\"IT-DCRNN\",\"IT-GCLSTM\",\"IT-EvolveGCNH\",\"IT-DyGrEncoder\",\"IT-EvolveGCNO\",\"IT-GConvLSTM\",\"IT-GConvGRU\"],\"textposition\":\"auto\",\"x\":[0,1,2,3,4,5,6,7,8],\"xaxis\":\"x2\",\"y\":[1.0315771520137786,1.0484964112440744,1.0522838940223058,1.0542838400730523,1.0574424028396607,1.057743576169014,1.0663512448469796,1.0780613499303018,1.098747335134014],\"yaxis\":\"y2\",\"type\":\"bar\"},{\"alignmentgroup\":\"True\",\"hovertemplate\":\"method=STGNN\\u003cbr\\u003edataset=chickenpox\\u003cbr\\u003eindex=%{x}\\u003cbr\\u003emse=%{y}\\u003cbr\\u003emodel=%{text}\\u003cextra\\u003e\\u003c\\u002fextra\\u003e\",\"legendgroup\":\"STGNN\",\"marker\":{\"color\":\"#EF553B\",\"pattern\":{\"shape\":\"\"}},\"name\":\"STGNN\",\"offsetgroup\":\"STGNN\",\"orientation\":\"v\",\"showlegend\":true,\"text\":[\"EvolveGCNH\",\"EvolveGCNO\",\"TGCN\",\"LRGCN\",\"DCRNN\",\"GCLSTM\",\"DyGrEncoder\",\"GConvGRU\",\"GConvLSTM\"],\"textposition\":\"auto\",\"x\":[9,10,11,12,13,14,15,16,17],\"xaxis\":\"x5\",\"y\":[1.1096522963047026,1.1250491412480672,1.2032542816797893,1.3326090013980865,1.4736121920744578,1.4872515376408895,1.4912726235389708,1.5302897588411968,1.5755500253041586],\"yaxis\":\"y5\",\"type\":\"bar\"},{\"alignmentgroup\":\"True\",\"hovertemplate\":\"method=STGNN\\u003cbr\\u003edataset=fivenodes\\u003cbr\\u003eindex=%{x}\\u003cbr\\u003emse=%{y}\\u003cbr\\u003emodel=%{text}\\u003cextra\\u003e\\u003c\\u002fextra\\u003e\",\"legendgroup\":\"STGNN\",\"marker\":{\"color\":\"#EF553B\",\"pattern\":{\"shape\":\"\"}},\"name\":\"STGNN\",\"offsetgroup\":\"STGNN\",\"orientation\":\"v\",\"showlegend\":false,\"text\":[\"TGCN\",\"EvolveGCNO\",\"EvolveGCNH\",\"LRGCN\",\"GCLSTM\",\"DCRNN\",\"GConvLSTM\",\"DyGrEncoder\",\"GConvGRU\"],\"textposition\":\"auto\",\"x\":[1,4,6,11,13,14,15,16,17],\"xaxis\":\"x6\",\"y\":[1.13861223326789,1.1878457956843906,1.1953243093358146,1.236135701669587,1.2383856968747244,1.2523276759518518,1.329567931095759,1.3733674082491134,1.4632288497355248],\"yaxis\":\"y6\",\"type\":\"bar\"},{\"alignmentgroup\":\"True\",\"hovertemplate\":\"method=STGNN\\u003cbr\\u003edataset=monte\\u003cbr\\u003eindex=%{x}\\u003cbr\\u003emse=%{y}\\u003cbr\\u003emodel=%{text}\\u003cextra\\u003e\\u003c\\u002fextra\\u003e\",\"legendgroup\":\"STGNN\",\"marker\":{\"color\":\"#EF553B\",\"pattern\":{\"shape\":\"\"}},\"name\":\"STGNN\",\"offsetgroup\":\"STGNN\",\"orientation\":\"v\",\"showlegend\":false,\"text\":[\"LRGCN\",\"GConvLSTM\",\"GCLSTM\",\"DCRNN\",\"TGCN\",\"GConvGRU\",\"DyGrEncoder\",\"EvolveGCNH\",\"EvolveGCNO\"],\"textposition\":\"auto\",\"x\":[2,7,8,9,10,12,13,16,17],\"xaxis\":\"x3\",\"y\":[0.9842124346892038,1.050146392583847,1.0590856986575656,1.1002872639232213,1.1035321970780692,1.1960685614744822,1.2534462849299113,1.7153236335515978,1.9260261992613472],\"yaxis\":\"y3\",\"type\":\"bar\"},{\"alignmentgroup\":\"True\",\"hovertemplate\":\"method=STGNN\\u003cbr\\u003edataset=pedalme\\u003cbr\\u003eindex=%{x}\\u003cbr\\u003emse=%{y}\\u003cbr\\u003emodel=%{text}\\u003cextra\\u003e\\u003c\\u002fextra\\u003e\",\"legendgroup\":\"STGNN\",\"marker\":{\"color\":\"#EF553B\",\"pattern\":{\"shape\":\"\"}},\"name\":\"STGNN\",\"offsetgroup\":\"STGNN\",\"orientation\":\"v\",\"showlegend\":false,\"text\":[\"EvolveGCNH\",\"EvolveGCNO\",\"GConvLSTM\",\"TGCN\",\"GCLSTM\",\"LRGCN\",\"DCRNN\",\"DyGrEncoder\",\"GConvGRU\"],\"textposition\":\"auto\",\"x\":[4,8,10,11,12,13,14,15,17],\"xaxis\":\"x4\",\"y\":[1.2617615882555644,1.2797751208146413,1.2803776089350383,1.2860597177346547,1.3084734042485553,1.3693405866622925,1.3961047128836312,1.405138573249181,1.631137045224508],\"yaxis\":\"y4\",\"type\":\"bar\"},{\"alignmentgroup\":\"True\",\"hovertemplate\":\"method=STGNN\\u003cbr\\u003edataset=wikimath\\u003cbr\\u003eindex=%{x}\\u003cbr\\u003emse=%{y}\\u003cbr\\u003emodel=%{text}\\u003cextra\\u003e\\u003c\\u002fextra\\u003e\",\"legendgroup\":\"STGNN\",\"marker\":{\"color\":\"#EF553B\",\"pattern\":{\"shape\":\"\"}},\"name\":\"STGNN\",\"offsetgroup\":\"STGNN\",\"orientation\":\"v\",\"showlegend\":false,\"text\":[\"DyGrEncoder\",\"DCRNN\",\"GConvGRU\",\"TGCN\",\"EvolveGCNO\",\"EvolveGCNH\",\"LRGCN\",\"GCLSTM\",\"GConvLSTM\"],\"textposition\":\"auto\",\"x\":[3,6,7,11,12,14,15,16,17],\"xaxis\":\"x\",\"y\":[0.6299387403329213,0.6738303860028585,0.6840311841169993,0.7650268685817718,0.7748864650726318,0.8239317854245505,0.831519438823064,0.8985244170824686,0.9791828334331513],\"yaxis\":\"y\",\"type\":\"bar\"},{\"alignmentgroup\":\"True\",\"hovertemplate\":\"method=STGNN\\u003cbr\\u003edataset=windmillsmall\\u003cbr\\u003eindex=%{x}\\u003cbr\\u003emse=%{y}\\u003cbr\\u003emodel=%{text}\\u003cextra\\u003e\\u003c\\u002fextra\\u003e\",\"legendgroup\":\"STGNN\",\"marker\":{\"color\":\"#EF553B\",\"pattern\":{\"shape\":\"\"}},\"name\":\"STGNN\",\"offsetgroup\":\"STGNN\",\"orientation\":\"v\",\"showlegend\":false,\"text\":[\"TGCN\",\"EvolveGCNH\",\"DCRNN\",\"EvolveGCNO\",\"LRGCN\",\"GCLSTM\",\"GConvLSTM\",\"GConvGRU\",\"DyGrEncoder\"],\"textposition\":\"auto\",\"x\":[9,10,11,12,13,14,15,16,17],\"xaxis\":\"x2\",\"y\":[1.1474664549032847,1.1578818728526432,1.1673857460419337,1.2386911223332087,1.2398856828610103,1.2828186952619143,1.311221512989685,1.3324357848013602,1.3477681169907252],\"yaxis\":\"y2\",\"type\":\"bar\"}],                        {\"template\":{\"data\":{\"histogram2dcontour\":[{\"type\":\"histogram2dcontour\",\"colorbar\":{\"outlinewidth\":0,\"ticks\":\"\"},\"colorscale\":[[0.0,\"#0d0887\"],[0.1111111111111111,\"#46039f\"],[0.2222222222222222,\"#7201a8\"],[0.3333333333333333,\"#9c179e\"],[0.4444444444444444,\"#bd3786\"],[0.5555555555555556,\"#d8576b\"],[0.6666666666666666,\"#ed7953\"],[0.7777777777777778,\"#fb9f3a\"],[0.8888888888888888,\"#fdca26\"],[1.0,\"#f0f921\"]]}],\"choropleth\":[{\"type\":\"choropleth\",\"colorbar\":{\"outlinewidth\":0,\"ticks\":\"\"}}],\"histogram2d\":[{\"type\":\"histogram2d\",\"colorbar\":{\"outlinewidth\":0,\"ticks\":\"\"},\"colorscale\":[[0.0,\"#0d0887\"],[0.1111111111111111,\"#46039f\"],[0.2222222222222222,\"#7201a8\"],[0.3333333333333333,\"#9c179e\"],[0.4444444444444444,\"#bd3786\"],[0.5555555555555556,\"#d8576b\"],[0.6666666666666666,\"#ed7953\"],[0.7777777777777778,\"#fb9f3a\"],[0.8888888888888888,\"#fdca26\"],[1.0,\"#f0f921\"]]}],\"heatmap\":[{\"type\":\"heatmap\",\"colorbar\":{\"outlinewidth\":0,\"ticks\":\"\"},\"colorscale\":[[0.0,\"#0d0887\"],[0.1111111111111111,\"#46039f\"],[0.2222222222222222,\"#7201a8\"],[0.3333333333333333,\"#9c179e\"],[0.4444444444444444,\"#bd3786\"],[0.5555555555555556,\"#d8576b\"],[0.6666666666666666,\"#ed7953\"],[0.7777777777777778,\"#fb9f3a\"],[0.8888888888888888,\"#fdca26\"],[1.0,\"#f0f921\"]]}],\"heatmapgl\":[{\"type\":\"heatmapgl\",\"colorbar\":{\"outlinewidth\":0,\"ticks\":\"\"},\"colorscale\":[[0.0,\"#0d0887\"],[0.1111111111111111,\"#46039f\"],[0.2222222222222222,\"#7201a8\"],[0.3333333333333333,\"#9c179e\"],[0.4444444444444444,\"#bd3786\"],[0.5555555555555556,\"#d8576b\"],[0.6666666666666666,\"#ed7953\"],[0.7777777777777778,\"#fb9f3a\"],[0.8888888888888888,\"#fdca26\"],[1.0,\"#f0f921\"]]}],\"contourcarpet\":[{\"type\":\"contourcarpet\",\"colorbar\":{\"outlinewidth\":0,\"ticks\":\"\"}}],\"contour\":[{\"type\":\"contour\",\"colorbar\":{\"outlinewidth\":0,\"ticks\":\"\"},\"colorscale\":[[0.0,\"#0d0887\"],[0.1111111111111111,\"#46039f\"],[0.2222222222222222,\"#7201a8\"],[0.3333333333333333,\"#9c179e\"],[0.4444444444444444,\"#bd3786\"],[0.5555555555555556,\"#d8576b\"],[0.6666666666666666,\"#ed7953\"],[0.7777777777777778,\"#fb9f3a\"],[0.8888888888888888,\"#fdca26\"],[1.0,\"#f0f921\"]]}],\"surface\":[{\"type\":\"surface\",\"colorbar\":{\"outlinewidth\":0,\"ticks\":\"\"},\"colorscale\":[[0.0,\"#0d0887\"],[0.1111111111111111,\"#46039f\"],[0.2222222222222222,\"#7201a8\"],[0.3333333333333333,\"#9c179e\"],[0.4444444444444444,\"#bd3786\"],[0.5555555555555556,\"#d8576b\"],[0.6666666666666666,\"#ed7953\"],[0.7777777777777778,\"#fb9f3a\"],[0.8888888888888888,\"#fdca26\"],[1.0,\"#f0f921\"]]}],\"mesh3d\":[{\"type\":\"mesh3d\",\"colorbar\":{\"outlinewidth\":0,\"ticks\":\"\"}}],\"scatter\":[{\"fillpattern\":{\"fillmode\":\"overlay\",\"size\":10,\"solidity\":0.2},\"type\":\"scatter\"}],\"parcoords\":[{\"type\":\"parcoords\",\"line\":{\"colorbar\":{\"outlinewidth\":0,\"ticks\":\"\"}}}],\"scatterpolargl\":[{\"type\":\"scatterpolargl\",\"marker\":{\"colorbar\":{\"outlinewidth\":0,\"ticks\":\"\"}}}],\"bar\":[{\"error_x\":{\"color\":\"#2a3f5f\"},\"error_y\":{\"color\":\"#2a3f5f\"},\"marker\":{\"line\":{\"color\":\"white\",\"width\":0.5},\"pattern\":{\"fillmode\":\"overlay\",\"size\":10,\"solidity\":0.2}},\"type\":\"bar\"}],\"scattergeo\":[{\"type\":\"scattergeo\",\"marker\":{\"colorbar\":{\"outlinewidth\":0,\"ticks\":\"\"}}}],\"scatterpolar\":[{\"type\":\"scatterpolar\",\"marker\":{\"colorbar\":{\"outlinewidth\":0,\"ticks\":\"\"}}}],\"histogram\":[{\"marker\":{\"pattern\":{\"fillmode\":\"overlay\",\"size\":10,\"solidity\":0.2}},\"type\":\"histogram\"}],\"scattergl\":[{\"type\":\"scattergl\",\"marker\":{\"colorbar\":{\"outlinewidth\":0,\"ticks\":\"\"}}}],\"scatter3d\":[{\"type\":\"scatter3d\",\"line\":{\"colorbar\":{\"outlinewidth\":0,\"ticks\":\"\"}},\"marker\":{\"colorbar\":{\"outlinewidth\":0,\"ticks\":\"\"}}}],\"scattermapbox\":[{\"type\":\"scattermapbox\",\"marker\":{\"colorbar\":{\"outlinewidth\":0,\"ticks\":\"\"}}}],\"scatterternary\":[{\"type\":\"scatterternary\",\"marker\":{\"colorbar\":{\"outlinewidth\":0,\"ticks\":\"\"}}}],\"scattercarpet\":[{\"type\":\"scattercarpet\",\"marker\":{\"colorbar\":{\"outlinewidth\":0,\"ticks\":\"\"}}}],\"carpet\":[{\"aaxis\":{\"endlinecolor\":\"#2a3f5f\",\"gridcolor\":\"#C8D4E3\",\"linecolor\":\"#C8D4E3\",\"minorgridcolor\":\"#C8D4E3\",\"startlinecolor\":\"#2a3f5f\"},\"baxis\":{\"endlinecolor\":\"#2a3f5f\",\"gridcolor\":\"#C8D4E3\",\"linecolor\":\"#C8D4E3\",\"minorgridcolor\":\"#C8D4E3\",\"startlinecolor\":\"#2a3f5f\"},\"type\":\"carpet\"}],\"table\":[{\"cells\":{\"fill\":{\"color\":\"#EBF0F8\"},\"line\":{\"color\":\"white\"}},\"header\":{\"fill\":{\"color\":\"#C8D4E3\"},\"line\":{\"color\":\"white\"}},\"type\":\"table\"}],\"barpolar\":[{\"marker\":{\"line\":{\"color\":\"white\",\"width\":0.5},\"pattern\":{\"fillmode\":\"overlay\",\"size\":10,\"solidity\":0.2}},\"type\":\"barpolar\"}],\"pie\":[{\"automargin\":true,\"type\":\"pie\"}]},\"layout\":{\"autotypenumbers\":\"strict\",\"colorway\":[\"#636efa\",\"#EF553B\",\"#00cc96\",\"#ab63fa\",\"#FFA15A\",\"#19d3f3\",\"#FF6692\",\"#B6E880\",\"#FF97FF\",\"#FECB52\"],\"font\":{\"color\":\"#2a3f5f\"},\"hovermode\":\"closest\",\"hoverlabel\":{\"align\":\"left\"},\"paper_bgcolor\":\"white\",\"plot_bgcolor\":\"white\",\"polar\":{\"bgcolor\":\"white\",\"angularaxis\":{\"gridcolor\":\"#EBF0F8\",\"linecolor\":\"#EBF0F8\",\"ticks\":\"\"},\"radialaxis\":{\"gridcolor\":\"#EBF0F8\",\"linecolor\":\"#EBF0F8\",\"ticks\":\"\"}},\"ternary\":{\"bgcolor\":\"white\",\"aaxis\":{\"gridcolor\":\"#DFE8F3\",\"linecolor\":\"#A2B1C6\",\"ticks\":\"\"},\"baxis\":{\"gridcolor\":\"#DFE8F3\",\"linecolor\":\"#A2B1C6\",\"ticks\":\"\"},\"caxis\":{\"gridcolor\":\"#DFE8F3\",\"linecolor\":\"#A2B1C6\",\"ticks\":\"\"}},\"coloraxis\":{\"colorbar\":{\"outlinewidth\":0,\"ticks\":\"\"}},\"colorscale\":{\"sequential\":[[0.0,\"#0d0887\"],[0.1111111111111111,\"#46039f\"],[0.2222222222222222,\"#7201a8\"],[0.3333333333333333,\"#9c179e\"],[0.4444444444444444,\"#bd3786\"],[0.5555555555555556,\"#d8576b\"],[0.6666666666666666,\"#ed7953\"],[0.7777777777777778,\"#fb9f3a\"],[0.8888888888888888,\"#fdca26\"],[1.0,\"#f0f921\"]],\"sequentialminus\":[[0.0,\"#0d0887\"],[0.1111111111111111,\"#46039f\"],[0.2222222222222222,\"#7201a8\"],[0.3333333333333333,\"#9c179e\"],[0.4444444444444444,\"#bd3786\"],[0.5555555555555556,\"#d8576b\"],[0.6666666666666666,\"#ed7953\"],[0.7777777777777778,\"#fb9f3a\"],[0.8888888888888888,\"#fdca26\"],[1.0,\"#f0f921\"]],\"diverging\":[[0,\"#8e0152\"],[0.1,\"#c51b7d\"],[0.2,\"#de77ae\"],[0.3,\"#f1b6da\"],[0.4,\"#fde0ef\"],[0.5,\"#f7f7f7\"],[0.6,\"#e6f5d0\"],[0.7,\"#b8e186\"],[0.8,\"#7fbc41\"],[0.9,\"#4d9221\"],[1,\"#276419\"]]},\"xaxis\":{\"gridcolor\":\"#EBF0F8\",\"linecolor\":\"#EBF0F8\",\"ticks\":\"\",\"title\":{\"standoff\":15},\"zerolinecolor\":\"#EBF0F8\",\"automargin\":true,\"zerolinewidth\":2},\"yaxis\":{\"gridcolor\":\"#EBF0F8\",\"linecolor\":\"#EBF0F8\",\"ticks\":\"\",\"title\":{\"standoff\":15},\"zerolinecolor\":\"#EBF0F8\",\"automargin\":true,\"zerolinewidth\":2},\"scene\":{\"xaxis\":{\"backgroundcolor\":\"white\",\"gridcolor\":\"#DFE8F3\",\"linecolor\":\"#EBF0F8\",\"showbackground\":true,\"ticks\":\"\",\"zerolinecolor\":\"#EBF0F8\",\"gridwidth\":2},\"yaxis\":{\"backgroundcolor\":\"white\",\"gridcolor\":\"#DFE8F3\",\"linecolor\":\"#EBF0F8\",\"showbackground\":true,\"ticks\":\"\",\"zerolinecolor\":\"#EBF0F8\",\"gridwidth\":2},\"zaxis\":{\"backgroundcolor\":\"white\",\"gridcolor\":\"#DFE8F3\",\"linecolor\":\"#EBF0F8\",\"showbackground\":true,\"ticks\":\"\",\"zerolinecolor\":\"#EBF0F8\",\"gridwidth\":2}},\"shapedefaults\":{\"line\":{\"color\":\"#2a3f5f\"}},\"annotationdefaults\":{\"arrowcolor\":\"#2a3f5f\",\"arrowhead\":0,\"arrowwidth\":1},\"geo\":{\"bgcolor\":\"white\",\"landcolor\":\"white\",\"subunitcolor\":\"#C8D4E3\",\"showland\":true,\"showlakes\":true,\"lakecolor\":\"white\"},\"title\":{\"x\":0.05},\"mapbox\":{\"style\":\"light\"},\"margin\":{\"b\":0,\"l\":0,\"r\":0,\"t\":30}}},\"xaxis\":{\"anchor\":\"y\",\"domain\":[0.0,0.49],\"title\":{\"text\":\"index\"}},\"yaxis\":{\"anchor\":\"x\",\"domain\":[0.0,0.2866666666666666],\"title\":{\"text\":\"mse\"}},\"xaxis2\":{\"anchor\":\"y2\",\"domain\":[0.51,1.0],\"matches\":\"x\",\"title\":{\"text\":\"index\"}},\"yaxis2\":{\"anchor\":\"x2\",\"domain\":[0.0,0.2866666666666666],\"matches\":\"y\",\"showticklabels\":false},\"xaxis3\":{\"anchor\":\"y3\",\"domain\":[0.0,0.49],\"matches\":\"x\",\"showticklabels\":false},\"yaxis3\":{\"anchor\":\"x3\",\"domain\":[0.35666666666666663,0.6433333333333333],\"matches\":\"y\",\"title\":{\"text\":\"mse\"}},\"xaxis4\":{\"anchor\":\"y4\",\"domain\":[0.51,1.0],\"matches\":\"x\",\"showticklabels\":false},\"yaxis4\":{\"anchor\":\"x4\",\"domain\":[0.35666666666666663,0.6433333333333333],\"matches\":\"y\",\"showticklabels\":false},\"xaxis5\":{\"anchor\":\"y5\",\"domain\":[0.0,0.49],\"matches\":\"x\",\"showticklabels\":false},\"yaxis5\":{\"anchor\":\"x5\",\"domain\":[0.7133333333333333,0.9999999999999999],\"matches\":\"y\",\"title\":{\"text\":\"mse\"}},\"xaxis6\":{\"anchor\":\"y6\",\"domain\":[0.51,1.0],\"matches\":\"x\",\"showticklabels\":false},\"yaxis6\":{\"anchor\":\"x6\",\"domain\":[0.7133333333333333,0.9999999999999999],\"matches\":\"y\",\"showticklabels\":false},\"annotations\":[{\"font\":{},\"showarrow\":false,\"text\":\"dataset=wikimath\",\"x\":0.245,\"xanchor\":\"center\",\"xref\":\"paper\",\"y\":0.2866666666666666,\"yanchor\":\"bottom\",\"yref\":\"paper\"},{\"font\":{},\"showarrow\":false,\"text\":\"dataset=windmillsmall\",\"x\":0.755,\"xanchor\":\"center\",\"xref\":\"paper\",\"y\":0.2866666666666666,\"yanchor\":\"bottom\",\"yref\":\"paper\"},{\"font\":{},\"showarrow\":false,\"text\":\"dataset=monte\",\"x\":0.245,\"xanchor\":\"center\",\"xref\":\"paper\",\"y\":0.6433333333333333,\"yanchor\":\"bottom\",\"yref\":\"paper\"},{\"font\":{},\"showarrow\":false,\"text\":\"dataset=pedalme\",\"x\":0.755,\"xanchor\":\"center\",\"xref\":\"paper\",\"y\":0.6433333333333333,\"yanchor\":\"bottom\",\"yref\":\"paper\"},{\"font\":{},\"showarrow\":false,\"text\":\"dataset=chickenpox\",\"x\":0.245,\"xanchor\":\"center\",\"xref\":\"paper\",\"y\":0.9999999999999999,\"yanchor\":\"bottom\",\"yref\":\"paper\"},{\"font\":{},\"showarrow\":false,\"text\":\"dataset=fivenodes\",\"x\":0.755,\"xanchor\":\"center\",\"xref\":\"paper\",\"y\":0.9999999999999999,\"yanchor\":\"bottom\",\"yref\":\"paper\"}],\"legend\":{\"title\":{\"text\":\"method\"},\"tracegroupgap\":0},\"barmode\":\"relative\",\"height\":800},                        {\"responsive\": true}                    ).then(function(){\n",
       "                            \n",
       "var gd = document.getElementById('2f9980b7-38a9-4b12-92a6-f091678c4451');\n",
       "var x = new MutationObserver(function (mutations, observer) {{\n",
       "        var display = window.getComputedStyle(gd).display;\n",
       "        if (!display || display === 'none') {{\n",
       "            console.log([gd, 'removed!']);\n",
       "            Plotly.purge(gd);\n",
       "            observer.disconnect();\n",
       "        }}\n",
       "}});\n",
       "\n",
       "// Listen for the removal of the full notebook cells\n",
       "var notebookContainer = gd.closest('#notebook-container');\n",
       "if (notebookContainer) {{\n",
       "    x.observe(notebookContainer, {childList: true});\n",
       "}}\n",
       "\n",
       "// Listen for the clearing of the current output cell\n",
       "var outputEl = gd.closest('.output');\n",
       "if (outputEl) {{\n",
       "    x.observe(outputEl, {childList: true});\n",
       "}}\n",
       "\n",
       "                        })                };                });            </script>        </div>"
      ]
     },
     "metadata": {},
     "output_type": "display_data"
    }
   ],
   "source": [
    "tidydata = df2.query('mtype != \"block\"').groupby([\"method\",\"dataset\",\"mrate\",\"model\"]).agg({'mse':'mean'}).reset_index()\\\n",
    ".pivot_table(index=['model'],columns=['dataset'],values='mse').stack().reset_index().rename({0:'mse'},axis=1).assign(\n",
    "    method = lambda df: df['model'].apply(func)\n",
    ")\n",
    "tidydata = pd.concat([df.sort_values('mse').reset_index(drop=True).reset_index() for _,df in tidydata.groupby(\"dataset\")])\n",
    "#---#\n",
    "fig = px.bar(\n",
    "    tidydata,\n",
    "    x='index',\n",
    "    y='mse',\n",
    "    color='method',\n",
    "    facet_col='dataset',\n",
    "    facet_col_wrap=2,\n",
    "    text='model',\n",
    "    height=800\n",
    ")\n",
    "fig"
   ]
  },
  {
   "cell_type": "markdown",
   "id": "4df490bc-4ba6-4770-b614-3539d1694975",
   "metadata": {},
   "source": [
    "# 시각화4"
   ]
  },
  {
   "cell_type": "code",
   "execution_count": 13,
   "id": "bc53c699-673f-45ab-9195-5a8525ef60cd",
   "metadata": {},
   "outputs": [
    {
     "data": {
      "text/html": [
       "<div>\n",
       "<style scoped>\n",
       "    .dataframe tbody tr th:only-of-type {\n",
       "        vertical-align: middle;\n",
       "    }\n",
       "\n",
       "    .dataframe tbody tr th {\n",
       "        vertical-align: top;\n",
       "    }\n",
       "\n",
       "    .dataframe thead th {\n",
       "        text-align: right;\n",
       "    }\n",
       "</style>\n",
       "<table border=\"1\" class=\"dataframe\">\n",
       "  <thead>\n",
       "    <tr style=\"text-align: right;\">\n",
       "      <th></th>\n",
       "      <th>method</th>\n",
       "      <th>dataset</th>\n",
       "      <th>node</th>\n",
       "      <th>time</th>\n",
       "      <th>mse</th>\n",
       "      <th>ratio</th>\n",
       "    </tr>\n",
       "  </thead>\n",
       "  <tbody>\n",
       "    <tr>\n",
       "      <th>0</th>\n",
       "      <td>IT-STGNN</td>\n",
       "      <td>chickenpox</td>\n",
       "      <td>20</td>\n",
       "      <td>522</td>\n",
       "      <td>1.027941</td>\n",
       "      <td>1.362420e+04</td>\n",
       "    </tr>\n",
       "    <tr>\n",
       "      <th>1</th>\n",
       "      <td>IT-STGNN</td>\n",
       "      <td>fivenodes</td>\n",
       "      <td>5</td>\n",
       "      <td>200</td>\n",
       "      <td>1.181604</td>\n",
       "      <td>8.000000e+03</td>\n",
       "    </tr>\n",
       "    <tr>\n",
       "      <th>2</th>\n",
       "      <td>IT-STGNN</td>\n",
       "      <td>monte</td>\n",
       "      <td>675</td>\n",
       "      <td>744</td>\n",
       "      <td>1.166283</td>\n",
       "      <td>8.200533e+02</td>\n",
       "    </tr>\n",
       "    <tr>\n",
       "      <th>3</th>\n",
       "      <td>IT-STGNN</td>\n",
       "      <td>pedalme</td>\n",
       "      <td>15</td>\n",
       "      <td>36</td>\n",
       "      <td>1.273419</td>\n",
       "      <td>8.640000e+01</td>\n",
       "    </tr>\n",
       "    <tr>\n",
       "      <th>4</th>\n",
       "      <td>IT-STGNN</td>\n",
       "      <td>wikimath</td>\n",
       "      <td>1068</td>\n",
       "      <td>731</td>\n",
       "      <td>0.681163</td>\n",
       "      <td>5.003380e+02</td>\n",
       "    </tr>\n",
       "    <tr>\n",
       "      <th>5</th>\n",
       "      <td>IT-STGNN</td>\n",
       "      <td>windmillsmall</td>\n",
       "      <td>11</td>\n",
       "      <td>17472</td>\n",
       "      <td>1.083182</td>\n",
       "      <td>2.775189e+07</td>\n",
       "    </tr>\n",
       "    <tr>\n",
       "      <th>6</th>\n",
       "      <td>STGNN</td>\n",
       "      <td>chickenpox</td>\n",
       "      <td>20</td>\n",
       "      <td>522</td>\n",
       "      <td>1.369838</td>\n",
       "      <td>1.362420e+04</td>\n",
       "    </tr>\n",
       "    <tr>\n",
       "      <th>7</th>\n",
       "      <td>STGNN</td>\n",
       "      <td>fivenodes</td>\n",
       "      <td>5</td>\n",
       "      <td>200</td>\n",
       "      <td>1.246767</td>\n",
       "      <td>8.000000e+03</td>\n",
       "    </tr>\n",
       "    <tr>\n",
       "      <th>8</th>\n",
       "      <td>STGNN</td>\n",
       "      <td>monte</td>\n",
       "      <td>675</td>\n",
       "      <td>744</td>\n",
       "      <td>1.312177</td>\n",
       "      <td>8.200533e+02</td>\n",
       "    </tr>\n",
       "    <tr>\n",
       "      <th>9</th>\n",
       "      <td>STGNN</td>\n",
       "      <td>pedalme</td>\n",
       "      <td>15</td>\n",
       "      <td>36</td>\n",
       "      <td>1.332290</td>\n",
       "      <td>8.640000e+01</td>\n",
       "    </tr>\n",
       "    <tr>\n",
       "      <th>10</th>\n",
       "      <td>STGNN</td>\n",
       "      <td>wikimath</td>\n",
       "      <td>1068</td>\n",
       "      <td>731</td>\n",
       "      <td>0.803018</td>\n",
       "      <td>5.003380e+02</td>\n",
       "    </tr>\n",
       "    <tr>\n",
       "      <th>11</th>\n",
       "      <td>STGNN</td>\n",
       "      <td>windmillsmall</td>\n",
       "      <td>11</td>\n",
       "      <td>17472</td>\n",
       "      <td>1.331942</td>\n",
       "      <td>2.775189e+07</td>\n",
       "    </tr>\n",
       "  </tbody>\n",
       "</table>\n",
       "</div>"
      ],
      "text/plain": [
       "      method        dataset  node   time       mse         ratio\n",
       "0   IT-STGNN     chickenpox    20    522  1.027941  1.362420e+04\n",
       "1   IT-STGNN      fivenodes     5    200  1.181604  8.000000e+03\n",
       "2   IT-STGNN          monte   675    744  1.166283  8.200533e+02\n",
       "3   IT-STGNN        pedalme    15     36  1.273419  8.640000e+01\n",
       "4   IT-STGNN       wikimath  1068    731  0.681163  5.003380e+02\n",
       "5   IT-STGNN  windmillsmall    11  17472  1.083182  2.775189e+07\n",
       "6      STGNN     chickenpox    20    522  1.369838  1.362420e+04\n",
       "7      STGNN      fivenodes     5    200  1.246767  8.000000e+03\n",
       "8      STGNN          monte   675    744  1.312177  8.200533e+02\n",
       "9      STGNN        pedalme    15     36  1.332290  8.640000e+01\n",
       "10     STGNN       wikimath  1068    731  0.803018  5.003380e+02\n",
       "11     STGNN  windmillsmall    11  17472  1.331942  2.775189e+07"
      ]
     },
     "execution_count": 13,
     "metadata": {},
     "output_type": "execute_result"
    }
   ],
   "source": [
    "df.query('mtype != \"block\"')\\\n",
    ".groupby([\"method\",\"dataset\",\"node\",\"time\"]).agg({'mse':'mean'}).reset_index()\\\n",
    ".assign(ratio = lambda df: df['time']**2/df['node'])"
   ]
  }
 ],
 "metadata": {
  "kernelspec": {
   "display_name": "Python 3 (ipykernel)",
   "language": "python",
   "name": "python3"
  },
  "language_info": {
   "codemirror_mode": {
    "name": "ipython",
    "version": 3
   },
   "file_extension": ".py",
   "mimetype": "text/x-python",
   "name": "python",
   "nbconvert_exporter": "python",
   "pygments_lexer": "ipython3",
   "version": "3.12.1"
  }
 },
 "nbformat": 4,
 "nbformat_minor": 5
}
