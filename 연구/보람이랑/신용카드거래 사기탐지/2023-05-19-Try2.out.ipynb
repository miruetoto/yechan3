{
  "cells": [
    {
      "cell_type": "markdown",
      "metadata": {},
      "source": [
        "# (연구&보람) 신용카드거래 사기탐지 – Try2\n",
        "\n",
        "신록예찬  \n",
        "2023-05-19\n",
        "\n",
        "# imports"
      ],
      "id": "f694eed0-4697-44ad-9ce8-a0d577d3d6c9"
    },
    {
      "cell_type": "code",
      "execution_count": 3,
      "metadata": {},
      "outputs": [
        {
          "output_type": "stream",
          "name": "stderr",
          "text": [
            "/home/cgb2/anaconda3/envs/py38/lib/python3.8/site-packages/tqdm/auto.py:21: TqdmWarning: IProgress not found. Please update jupyter and ipywidgets. See https://ipywidgets.readthedocs.io/en/stable/user_install.html\n",
            "  from .autonotebook import tqdm as notebook_tqdm"
          ]
        }
      ],
      "source": [
        "import numpy as np\n",
        "import pandas as pd\n",
        "import matplotlib.pyplot as plt \n",
        "import networkx as nx\n",
        "import sklearn\n",
        "\n",
        "# sklearn\n",
        "from sklearn import model_selection # split함수이용\n",
        "from sklearn import ensemble # RF,GBM\n",
        "from sklearn import metrics \n",
        "\n",
        "# embedding \n",
        "from node2vec import Node2Vec\n",
        "from node2vec.edges import HadamardEmbedder, AverageEmbedder, WeightedL1Embedder, WeightedL2Embedder"
      ],
      "id": "945de3cd-e8d8-430a-8c95-d4072eb68299"
    },
    {
      "cell_type": "code",
      "execution_count": 4,
      "metadata": {},
      "outputs": [],
      "source": [
        "def build_graph_bipartite(df_input, graph_type=nx.Graph()):\n",
        "    df=df_input.copy()\n",
        "    mapping={x:node_id for node_id, x in enumerate(set(df[\"cc_num\"].values.tolist()+\\\n",
        "                                                      df[\"merchant\"].values.tolist()))}\n",
        "    \n",
        "    df[\"from\"]=df[\"cc_num\"].apply(lambda x:mapping[x])  #엣지의 출발점\n",
        "    df[\"to\"]=df[\"merchant\"].apply(lambda x:mapping[x])  #엣지의 도착점\n",
        "    \n",
        "    df = df[['from', 'to', \"amt\", \"is_fraud\"]].groupby(['from','to']).agg({\"is_fraud\":\"sum\",\"amt\":\"sum\"}).reset_index()\n",
        "    df[\"is_fraud\"]=df[\"is_fraud\"].apply(lambda x:1 if x>0 else 0)\n",
        "    \n",
        "    G=nx.from_edgelist(df[[\"from\",\"to\"]].values, create_using=graph_type)\n",
        "    \n",
        "    nx.set_edge_attributes(G,{(int(x[\"from\"]),int(x[\"to\"])):x[\"is_fraud\"] for idx, x in df[[\"from\",\"to\",\"is_fraud\"]].iterrows()}, \"label\")  #엣지 속성 설정,각 속성의 사기 여부부     \n",
        "    nx.set_edge_attributes(G,{(int(x[\"from\"]),int(x[\"to\"])):x[\"amt\"] for idx,x in df[[\"from\",\"to\",\"amt\"]].iterrows()}, \"weight\") # 엣지 속성 설정, 각 엣지의 거래 금액\n",
        "\n",
        "    return G\n",
        "\n",
        "\n",
        "def build_graph_tripartite(df_input, graph_type=nx.Graph()):\n",
        "    df=df_input.copy()\n",
        "    mapping={x:node_id for node_id, x in enumerate(set(df.index.values.tolist() + \n",
        "                                                       df[\"cc_num\"].values.tolist() +\n",
        "                                                       df[\"merchant\"].values.tolist()))}\n",
        "    df[\"in_node\"]= df[\"cc_num\"].apply(lambda x: mapping[x])\n",
        "    df[\"out_node\"]=df[\"merchant\"].apply(lambda x:mapping[x])\n",
        "    \n",
        "        \n",
        "    G=nx.from_edgelist([(x[\"in_node\"], mapping[idx]) for idx, x in df.iterrows()] +\\\n",
        "                        [(x[\"out_node\"], mapping[idx]) for idx, x in df.iterrows()], create_using=graph_type)\n",
        "    \n",
        "    nx.set_edge_attributes(G,{(x[\"in_node\"], mapping[idx]):x[\"is_fraud\"] for idx, x in df.iterrows()}, \"label\")     \n",
        "    nx.set_edge_attributes(G,{(x[\"out_node\"], mapping[idx]):x[\"is_fraud\"] for idx, x in df.iterrows()}, \"label\")   \n",
        "    nx.set_edge_attributes(G,{(x[\"in_node\"], mapping[idx]):x[\"amt\"] for idx, x in df.iterrows()}, \"weight\")  \n",
        "    nx.set_edge_attributes(G,{(x[\"out_node\"], mapping[idx]):x[\"amt\"] for idx, x in df.iterrows()}, \"weight\")\n",
        "\n",
        "    return G\n",
        "    \n",
        "    \n",
        "def down_sample_textbook(df):\n",
        "    df_majority = df[df.is_fraud==0].copy()\n",
        "    df_minority = df[df.is_fraud==1].copy()\n",
        "    df_maj_dowsampled = sklearn.utils.resample(df_majority, n_samples=len(df_minority), replace=False, random_state=42)\n",
        "    df_downsampled = pd.concat([df_minority, df_maj_dowsampled])\n",
        "    return df_downsampled\n",
        "\n",
        "def embedding(Graph):\n",
        "    # Graph -> X (feature)\n",
        "    _edgs = list(Graph.edges)\n",
        "    subGraph = Graph.edge_subgraph([_edgs[x] for x in range(len(Graph.edges))]).copy()\n",
        "    subGraph.add_nodes_from(list(set(Graph.nodes) - set(subGraph.nodes)))    \n",
        "    embedded = AverageEmbedder(Node2Vec(subGraph, weight_key='weight').fit(window=10).wv)\n",
        "    X = [embedded[str(_edgs[x][0]), str(_edgs[x][1])] for x in range(len(Graph.edges))]\n",
        "    # Graph -> y (label)\n",
        "    y = np.array(list(nx.get_edge_attributes(Graph, \"label\").values()))\n",
        "    return X,y \n",
        "\n",
        "def anal(df):\n",
        "    Graph = build_graph_bipartite(df)\n",
        "    X,XX,y,yy = embedding(Graph)\n",
        "    lrnr = RandomForestClassifier(n_estimators=100, random_state=42) \n",
        "    lrnr.fit(X,y)\n",
        "    yyhat = lrnr.predict(XX)\n",
        "    df = pd.DataFrame({\n",
        "        'acc':[sklearn.metrics.accuracy_score(yy,yyhat)], \n",
        "        'pre':[sklearn.metrics.precision_score(yy,yyhat)], \n",
        "        'rec':[sklearn.metrics.recall_score(yy,yyhat)],\n",
        "        'f1':[sklearn.metrics.f1_score(yy,yyhat)]}\n",
        "    )    \n",
        "    return df\n",
        "\n",
        "def our_sampling1(df):\n",
        "    cus_list = set(df.query('is_fraud==1').cc_num.tolist())\n",
        "    return df.query(\"cc_num in @ cus_list\")"
      ],
      "id": "df91f02f-596f-4a5e-938a-561dc1cc6405"
    },
    {
      "cell_type": "code",
      "execution_count": 5,
      "metadata": {},
      "outputs": [],
      "source": [
        "def amtano1(df_train):\n",
        "    df = df_train.copy()\n",
        "    df = df.assign(amtano=0)\n",
        "    normalize = lambda arr: (arr-np.median(arr))/np.std(arr) if np.std(arr)!=0 else arr*0 \n",
        "    for cc_num, sub_df in df.groupby('cc_num'):\n",
        "        df.loc[df.cc_num == cc_num,['amtano']] = normalize(sub_df.amt).cumsum()\n",
        "    return df  "
      ],
      "id": "de31a311-1e1d-4c4f-9533-f544089fbc66"
    },
    {
      "cell_type": "markdown",
      "metadata": {},
      "source": [
        "# Overview\n",
        "\n",
        "## 데이터 종류\n",
        "\n",
        "-   fraudTrain.csv: (1048575, 23), 기본데이터\n",
        "-   df02: (214520, 23), is_fraud==0 에서는 20퍼의 샘플만, is_fraud==1\n",
        "    에서는 모든 샘플을 뽑아서 정리한 새로운 자료\n",
        "-   df50 = (12012, 23), df20에서 is_fraud==0 와 is_fraud==1 의 비율을\n",
        "    맞추어서 샘플을 뽑은 것\n",
        "\n",
        "| 데이터        | shape         | 사기거래빈도 | 설명                                                                                       |\n",
        "|------------------|------------------|------------------|------------------|\n",
        "| fraudTrain    | (1048575, 22) | 0.00573      | 원래자료                                                                                   |\n",
        "| df02          | (214520, 22)  | 0.028        | is_fraud==0 에서는 20퍼의 샘플만, is_fraud==1 에서는 모든 샘플을 뽑아서 정리한 새로운 자료 |\n",
        "| df50          | (12012, 22)   | 0.5          | df02에서 사기비율을 50퍼로 맞추어 샘플링한 자료                                            |\n",
        "| df50_tr       | (9009, 22)    | 0.49828      | df50에서 랜덤으로 train/test를 분리하여 얻은 train dataset                                 |\n",
        "| df50_test     | (3003, 22)    | 0.50516      | df50에서 랜덤으로 train/test를 분리하여 얻은 test dataset                                  |\n",
        "| df02_tr       | (211517, 22)  | 0.02122      | df02에서 df50_test에 해당하는 인덱스를 제외                                                |\n",
        "| fraudTrain_tr | (1045572, 22) | 0.00429      | fraudTrain에서 df50_test에 해당하는 인덱스를 제외                                          |\n",
        "\n",
        "`-` fraudTrain"
      ],
      "id": "399e6a41-4b46-41a1-8796-7807adc6d876"
    },
    {
      "cell_type": "code",
      "execution_count": 13,
      "metadata": {},
      "outputs": [],
      "source": [
        "fraudTrain = pd.read_csv(\"fraudTrain.csv\").iloc[:,1:]"
      ],
      "id": "628fd9bc-7865-4181-8485-28fbadafa474"
    },
    {
      "cell_type": "code",
      "execution_count": 14,
      "metadata": {},
      "outputs": [
        {
          "output_type": "display_data",
          "metadata": {},
          "data": {
            "text/plain": [
              "0.00573"
            ]
          }
        }
      ],
      "source": [
        "fraudTrain.is_fraud.mean().round(5)"
      ],
      "id": "ced1bd8a-4535-4ac3-a1c3-bed4db262ded"
    },
    {
      "cell_type": "markdown",
      "metadata": {},
      "source": [
        "`-` df20"
      ],
      "id": "897e7ccf-d1a6-489d-b352-05a586b69ead"
    },
    {
      "cell_type": "code",
      "execution_count": 15,
      "metadata": {},
      "outputs": [
        {
          "output_type": "display_data",
          "metadata": {},
          "data": {
            "text/plain": [
              "(214520, 22)"
            ]
          }
        }
      ],
      "source": [
        "_df1 = fraudTrain[fraudTrain[\"is_fraud\"] == 0].sample(frac=0.20, random_state=42)\n",
        "_df2 = fraudTrain[fraudTrain[\"is_fraud\"] == 1]\n",
        "df02 = pd.concat([_df1,_df2])\n",
        "df02.shape"
      ],
      "id": "7da36222-6d9d-4c60-b3ad-2291c93323d3"
    },
    {
      "cell_type": "code",
      "execution_count": 16,
      "metadata": {},
      "outputs": [
        {
          "output_type": "display_data",
          "metadata": {},
          "data": {
            "text/plain": [
              "0.028"
            ]
          }
        }
      ],
      "source": [
        "df02.is_fraud.mean().round(5)"
      ],
      "id": "4cb4df2f-1cfb-449b-9c4b-14e8f5c4a0b4"
    },
    {
      "cell_type": "markdown",
      "metadata": {},
      "source": [
        "`-` df50"
      ],
      "id": "0975cce2-1f8a-492d-aa71-11f587865415"
    },
    {
      "cell_type": "code",
      "execution_count": 17,
      "metadata": {},
      "outputs": [
        {
          "output_type": "display_data",
          "metadata": {},
          "data": {
            "text/plain": [
              "(12012, 22)"
            ]
          }
        }
      ],
      "source": [
        "df50 = down_sample_textbook(df02)\n",
        "df50.shape"
      ],
      "id": "ef4fc73f-1c0f-407c-a844-9bba63efbaea"
    },
    {
      "cell_type": "code",
      "execution_count": 18,
      "metadata": {},
      "outputs": [
        {
          "output_type": "display_data",
          "metadata": {},
          "data": {
            "text/html": [
              "\n",
              "<p>12012 rows × 22 columns</p>\n",
              "</div>"
            ]
          }
        }
      ],
      "source": [
        "df50"
      ],
      "id": "70f9f90d-9009-4b20-9753-aae078b56d84"
    },
    {
      "cell_type": "code",
      "execution_count": 19,
      "metadata": {},
      "outputs": [
        {
          "output_type": "display_data",
          "metadata": {},
          "data": {
            "text/plain": [
              "0.5"
            ]
          }
        }
      ],
      "source": [
        "df50.is_fraud.mean().round(5)"
      ],
      "id": "050a3bea-663e-40c4-9935-216eaee4240b"
    },
    {
      "cell_type": "markdown",
      "metadata": {},
      "source": [
        "`-` df50_tr, df50_test"
      ],
      "id": "de093878-13fc-4603-b6ac-75a0429e36a9"
    },
    {
      "cell_type": "code",
      "execution_count": 20,
      "metadata": {},
      "outputs": [],
      "source": [
        "df50_tr,df50_test = sklearn.model_selection.train_test_split(df50, random_state=42)"
      ],
      "id": "8bbec0ba-9592-48ee-b7d1-961fdbf1b346"
    },
    {
      "cell_type": "code",
      "execution_count": 21,
      "metadata": {},
      "outputs": [
        {
          "output_type": "display_data",
          "metadata": {},
          "data": {
            "text/plain": [
              "(0.49828, 0.50516)"
            ]
          }
        }
      ],
      "source": [
        "df50_tr.is_fraud.mean().round(5), df50_test.is_fraud.mean().round(5)"
      ],
      "id": "44dd51d5-86ef-4a27-92e9-41a30e37bc74"
    },
    {
      "cell_type": "markdown",
      "metadata": {},
      "source": [
        "`-` df02_tr, fraudTrain_tr"
      ],
      "id": "65b618e2-49ad-46a6-a5fc-3b3d5d19dbde"
    },
    {
      "cell_type": "code",
      "execution_count": 22,
      "metadata": {},
      "outputs": [],
      "source": [
        "df02_tr = df02.loc[[i not in df50_test.index for i in df02.index],:].copy()\n",
        "fraudTrain_tr = fraudTrain.loc[[i not in df50_test.index for i in fraudTrain.index],:].copy()"
      ],
      "id": "a983034d-0fb0-438b-ba9f-c2e9cdb0fda2"
    },
    {
      "cell_type": "code",
      "execution_count": 23,
      "metadata": {},
      "outputs": [
        {
          "output_type": "display_data",
          "metadata": {},
          "data": {
            "text/plain": [
              "((211517, 22), (1045572, 22))"
            ]
          }
        }
      ],
      "source": [
        "df02_tr.shape, fraudTrain_tr.shape"
      ],
      "id": "7a5407c6-573f-486b-b9fa-0f8f1dba12e0"
    },
    {
      "cell_type": "code",
      "execution_count": 24,
      "metadata": {},
      "outputs": [
        {
          "output_type": "display_data",
          "metadata": {},
          "data": {
            "text/plain": [
              "(0.02122, 0.00429)"
            ]
          }
        }
      ],
      "source": [
        "df02_tr.is_fraud.mean().round(5), fraudTrain_tr.is_fraud.mean().round(5)"
      ],
      "id": "f71af68a-c14f-42a7-b646-3a9c3d41625f"
    },
    {
      "cell_type": "markdown",
      "metadata": {},
      "source": [
        "# 분석방법정리\n",
        "\n",
        "|           | Train         | Test     | 모형             | 설명변수   | 참고       |\n",
        "|-----------|---------------|----------|------------------|------------|------------|\n",
        "| 분석1     | df50train     | df50test | 로지스틱         | amt        | 쓰레기     |\n",
        "| 분석2     | df50train     | df50test | 그레디언트부스팅 | amt        | base       |\n",
        "| **분석3** | df50train     | df50test | 그레디언트부스팅 | amt,amtano | 가장좋음   |\n",
        "| 분석4     | df02train     | df50test | 그레디언트부스팅 | amt,amtano | 가능성있음 |\n",
        "| 분석5     | fraudTrain_tr | df50test | 그레디언트부스팅 | amt,amtano | 가능성있음 |"
      ],
      "id": "78f3212a-b896-4977-bde1-0e320a390ba2"
    },
    {
      "cell_type": "code",
      "execution_count": 57,
      "metadata": {},
      "outputs": [
        {
          "output_type": "display_data",
          "metadata": {},
          "data": {
            "text/html": [
              "\n",
              "</div>"
            ]
          }
        }
      ],
      "source": [
        "lst = [_results1,_results2,_results3,_results4,_results5]\n",
        "pd.concat(lst)"
      ],
      "id": "3e4ab00a-10f2-49b4-ade9-cda9cc436e4c"
    },
    {
      "cell_type": "markdown",
      "metadata": {},
      "source": [
        "# 분석1\n",
        "\n",
        "`-` step1: data"
      ],
      "id": "65bcec39-add2-403e-9223-bcfc14b969ad"
    },
    {
      "cell_type": "code",
      "execution_count": 58,
      "metadata": {},
      "outputs": [],
      "source": [
        "X = np.array(df50_tr.loc[:,['amt']])\n",
        "XX = np.array(df50_test.loc[:,['amt']])\n",
        "y = np.array(df50_tr.is_fraud)\n",
        "yy = np.array(df50_test.is_fraud)"
      ],
      "id": "dfc762bb-5ca5-4fe8-80e8-4a33a3daf5f2"
    },
    {
      "cell_type": "markdown",
      "metadata": {},
      "source": [
        "`-` step2: lrnr 생성"
      ],
      "id": "931dc809-629f-49fb-a6d1-5a6580bf4787"
    },
    {
      "cell_type": "code",
      "execution_count": 59,
      "metadata": {},
      "outputs": [],
      "source": [
        "lrnr = sklearn.linear_model.LogisticRegression()"
      ],
      "id": "8626f500-cf91-412a-b119-592b3901a98f"
    },
    {
      "cell_type": "markdown",
      "metadata": {},
      "source": [
        "`-` step3: fit"
      ],
      "id": "619fd1b3-7026-40f2-a10e-3969f8464028"
    },
    {
      "cell_type": "code",
      "execution_count": 60,
      "metadata": {},
      "outputs": [
        {
          "output_type": "display_data",
          "metadata": {},
          "data": {
            "text/html": [
              "<style>#sk-container-id-6 {color: black;background-color: white;}#sk-container-id-6 pre{padding: 0;}#sk-container-id-6 div.sk-toggleable {background-color: white;}#sk-container-id-6 label.sk-toggleable__label {cursor: pointer;display: block;width: 100%;margin-bottom: 0;padding: 0.3em;box-sizing: border-box;text-align: center;}#sk-container-id-6 label.sk-toggleable__label-arrow:before {content: \"▸\";float: left;margin-right: 0.25em;color: #696969;}#sk-container-id-6 label.sk-toggleable__label-arrow:hover:before {color: black;}#sk-container-id-6 div.sk-estimator:hover label.sk-toggleable__label-arrow:before {color: black;}#sk-container-id-6 div.sk-toggleable__content {max-height: 0;max-width: 0;overflow: hidden;text-align: left;background-color: #f0f8ff;}#sk-container-id-6 div.sk-toggleable__content pre {margin: 0.2em;color: black;border-radius: 0.25em;background-color: #f0f8ff;}#sk-container-id-6 input.sk-toggleable__control:checked~div.sk-toggleable__content {max-height: 200px;max-width: 100%;overflow: auto;}#sk-container-id-6 input.sk-toggleable__control:checked~label.sk-toggleable__label-arrow:before {content: \"▾\";}#sk-container-id-6 div.sk-estimator input.sk-toggleable__control:checked~label.sk-toggleable__label {background-color: #d4ebff;}#sk-container-id-6 div.sk-label input.sk-toggleable__control:checked~label.sk-toggleable__label {background-color: #d4ebff;}#sk-container-id-6 input.sk-hidden--visually {border: 0;clip: rect(1px 1px 1px 1px);clip: rect(1px, 1px, 1px, 1px);height: 1px;margin: -1px;overflow: hidden;padding: 0;position: absolute;width: 1px;}#sk-container-id-6 div.sk-estimator {font-family: monospace;background-color: #f0f8ff;border: 1px dotted black;border-radius: 0.25em;box-sizing: border-box;margin-bottom: 0.5em;}#sk-container-id-6 div.sk-estimator:hover {background-color: #d4ebff;}#sk-container-id-6 div.sk-parallel-item::after {content: \"\";width: 100%;border-bottom: 1px solid gray;flex-grow: 1;}#sk-container-id-6 div.sk-label:hover label.sk-toggleable__label {background-color: #d4ebff;}#sk-container-id-6 div.sk-serial::before {content: \"\";position: absolute;border-left: 1px solid gray;box-sizing: border-box;top: 0;bottom: 0;left: 50%;z-index: 0;}#sk-container-id-6 div.sk-serial {display: flex;flex-direction: column;align-items: center;background-color: white;padding-right: 0.2em;padding-left: 0.2em;position: relative;}#sk-container-id-6 div.sk-item {position: relative;z-index: 1;}#sk-container-id-6 div.sk-parallel {display: flex;align-items: stretch;justify-content: center;background-color: white;position: relative;}#sk-container-id-6 div.sk-item::before, #sk-container-id-6 div.sk-parallel-item::before {content: \"\";position: absolute;border-left: 1px solid gray;box-sizing: border-box;top: 0;bottom: 0;left: 50%;z-index: -1;}#sk-container-id-6 div.sk-parallel-item {display: flex;flex-direction: column;z-index: 1;position: relative;background-color: white;}#sk-container-id-6 div.sk-parallel-item:first-child::after {align-self: flex-end;width: 50%;}#sk-container-id-6 div.sk-parallel-item:last-child::after {align-self: flex-start;width: 50%;}#sk-container-id-6 div.sk-parallel-item:only-child::after {width: 0;}#sk-container-id-6 div.sk-dashed-wrapped {border: 1px dashed gray;margin: 0 0.4em 0.5em 0.4em;box-sizing: border-box;padding-bottom: 0.4em;background-color: white;}#sk-container-id-6 div.sk-label label {font-family: monospace;font-weight: bold;display: inline-block;line-height: 1.2em;}#sk-container-id-6 div.sk-label-container {text-align: center;}#sk-container-id-6 div.sk-container {/* jupyter's `normalize.less` sets `[hidden] { display: none; }` but bootstrap.min.css set `[hidden] { display: none !important; }` so we also need the `!important` here to be able to override the default hidden behavior on the sphinx rendered scikit-learn.org. See: https://github.com/scikit-learn/scikit-learn/issues/21755 */display: inline-block !important;position: relative;}#sk-container-id-6 div.sk-text-repr-fallback {display: none;}</style><div id=\"sk-container-id-6\" class=\"sk-top-container\"><div class=\"sk-text-repr-fallback\"><pre>LogisticRegression()</pre><b>In a Jupyter environment, please rerun this cell to show the HTML representation or trust the notebook. <br />On GitHub, the HTML representation is unable to render, please try loading this page with nbviewer.org.</b></div><div class=\"sk-container\" hidden><div class=\"sk-item\"><div class=\"sk-estimator sk-toggleable\"><input class=\"sk-toggleable__control sk-hidden--visually\" id=\"sk-estimator-id-6\" type=\"checkbox\" checked><label for=\"sk-estimator-id-6\" class=\"sk-toggleable__label sk-toggleable__label-arrow\">LogisticRegression</label><div class=\"sk-toggleable__content\"><pre>LogisticRegression()</pre></div></div></div></div></div>"
            ]
          }
        }
      ],
      "source": [
        "lrnr.fit(X,y)"
      ],
      "id": "d5c0a6fc-3f64-4b5d-a39f-0d6891de2844"
    },
    {
      "cell_type": "markdown",
      "metadata": {},
      "source": [
        "`-` step4: evaluate"
      ],
      "id": "40148d51-1d3f-4d11-9deb-c5dd3a5a2dbc"
    },
    {
      "cell_type": "code",
      "execution_count": 61,
      "metadata": {},
      "outputs": [],
      "source": [
        "#thresh = y.mean()\n",
        "#yyhat = (lrnr.predict_proba(XX)> thresh)[:,-1]\n",
        "yyhat = lrnr.predict(XX) "
      ],
      "id": "0abc9445-d678-4221-960f-8ca39c82c711"
    },
    {
      "cell_type": "code",
      "execution_count": 31,
      "metadata": {},
      "outputs": [],
      "source": [
        "metrics = [sklearn.metrics.accuracy_score,\n",
        "           sklearn.metrics.precision_score,\n",
        "           sklearn.metrics.recall_score,\n",
        "           sklearn.metrics.f1_score]"
      ],
      "id": "ac5be885-1c0f-49a0-813e-8dd7a8825af4"
    },
    {
      "cell_type": "code",
      "execution_count": 32,
      "metadata": {},
      "outputs": [
        {
          "output_type": "display_data",
          "metadata": {},
          "data": {
            "text/html": [
              "\n",
              "</div>"
            ]
          }
        }
      ],
      "source": [
        "_results1= pd.DataFrame({m.__name__:[m(yy,yyhat).round(6)] for m in metrics},index=['분석1'])\n",
        "_results1"
      ],
      "id": "50765bb6-64a4-421a-adff-4949c9d8cdf6"
    },
    {
      "cell_type": "markdown",
      "metadata": {},
      "source": [
        "# 분석2\n",
        "\n",
        "`-` step1: data"
      ],
      "id": "a51ce64f-4621-4782-8855-b952412c399b"
    },
    {
      "cell_type": "code",
      "execution_count": 33,
      "metadata": {},
      "outputs": [],
      "source": [
        "X = np.array(df50_tr.loc[:,['amt']])\n",
        "XX = np.array(df50_test.loc[:,['amt']])\n",
        "y = np.array(df50_tr.is_fraud)\n",
        "yy = np.array(df50_test.is_fraud)"
      ],
      "id": "44ffdfd4-14e4-4c56-aa84-b81d2e564cbd"
    },
    {
      "cell_type": "markdown",
      "metadata": {},
      "source": [
        "`-` step2: lrnr 생성"
      ],
      "id": "c622862b-6f2a-42aa-8912-b241df34f88a"
    },
    {
      "cell_type": "code",
      "execution_count": 34,
      "metadata": {},
      "outputs": [],
      "source": [
        "lrnr = ensemble.GradientBoostingClassifier()"
      ],
      "id": "1bf06976-4b2c-4e02-a8a8-0bb378dfd4c5"
    },
    {
      "cell_type": "markdown",
      "metadata": {},
      "source": [
        "`-` step3: fit"
      ],
      "id": "89c5c9f8-8137-4069-bfb4-5e3f2b0823a5"
    },
    {
      "cell_type": "code",
      "execution_count": 35,
      "metadata": {},
      "outputs": [
        {
          "output_type": "display_data",
          "metadata": {},
          "data": {
            "text/html": [
              "<style>#sk-container-id-2 {color: black;background-color: white;}#sk-container-id-2 pre{padding: 0;}#sk-container-id-2 div.sk-toggleable {background-color: white;}#sk-container-id-2 label.sk-toggleable__label {cursor: pointer;display: block;width: 100%;margin-bottom: 0;padding: 0.3em;box-sizing: border-box;text-align: center;}#sk-container-id-2 label.sk-toggleable__label-arrow:before {content: \"▸\";float: left;margin-right: 0.25em;color: #696969;}#sk-container-id-2 label.sk-toggleable__label-arrow:hover:before {color: black;}#sk-container-id-2 div.sk-estimator:hover label.sk-toggleable__label-arrow:before {color: black;}#sk-container-id-2 div.sk-toggleable__content {max-height: 0;max-width: 0;overflow: hidden;text-align: left;background-color: #f0f8ff;}#sk-container-id-2 div.sk-toggleable__content pre {margin: 0.2em;color: black;border-radius: 0.25em;background-color: #f0f8ff;}#sk-container-id-2 input.sk-toggleable__control:checked~div.sk-toggleable__content {max-height: 200px;max-width: 100%;overflow: auto;}#sk-container-id-2 input.sk-toggleable__control:checked~label.sk-toggleable__label-arrow:before {content: \"▾\";}#sk-container-id-2 div.sk-estimator input.sk-toggleable__control:checked~label.sk-toggleable__label {background-color: #d4ebff;}#sk-container-id-2 div.sk-label input.sk-toggleable__control:checked~label.sk-toggleable__label {background-color: #d4ebff;}#sk-container-id-2 input.sk-hidden--visually {border: 0;clip: rect(1px 1px 1px 1px);clip: rect(1px, 1px, 1px, 1px);height: 1px;margin: -1px;overflow: hidden;padding: 0;position: absolute;width: 1px;}#sk-container-id-2 div.sk-estimator {font-family: monospace;background-color: #f0f8ff;border: 1px dotted black;border-radius: 0.25em;box-sizing: border-box;margin-bottom: 0.5em;}#sk-container-id-2 div.sk-estimator:hover {background-color: #d4ebff;}#sk-container-id-2 div.sk-parallel-item::after {content: \"\";width: 100%;border-bottom: 1px solid gray;flex-grow: 1;}#sk-container-id-2 div.sk-label:hover label.sk-toggleable__label {background-color: #d4ebff;}#sk-container-id-2 div.sk-serial::before {content: \"\";position: absolute;border-left: 1px solid gray;box-sizing: border-box;top: 0;bottom: 0;left: 50%;z-index: 0;}#sk-container-id-2 div.sk-serial {display: flex;flex-direction: column;align-items: center;background-color: white;padding-right: 0.2em;padding-left: 0.2em;position: relative;}#sk-container-id-2 div.sk-item {position: relative;z-index: 1;}#sk-container-id-2 div.sk-parallel {display: flex;align-items: stretch;justify-content: center;background-color: white;position: relative;}#sk-container-id-2 div.sk-item::before, #sk-container-id-2 div.sk-parallel-item::before {content: \"\";position: absolute;border-left: 1px solid gray;box-sizing: border-box;top: 0;bottom: 0;left: 50%;z-index: -1;}#sk-container-id-2 div.sk-parallel-item {display: flex;flex-direction: column;z-index: 1;position: relative;background-color: white;}#sk-container-id-2 div.sk-parallel-item:first-child::after {align-self: flex-end;width: 50%;}#sk-container-id-2 div.sk-parallel-item:last-child::after {align-self: flex-start;width: 50%;}#sk-container-id-2 div.sk-parallel-item:only-child::after {width: 0;}#sk-container-id-2 div.sk-dashed-wrapped {border: 1px dashed gray;margin: 0 0.4em 0.5em 0.4em;box-sizing: border-box;padding-bottom: 0.4em;background-color: white;}#sk-container-id-2 div.sk-label label {font-family: monospace;font-weight: bold;display: inline-block;line-height: 1.2em;}#sk-container-id-2 div.sk-label-container {text-align: center;}#sk-container-id-2 div.sk-container {/* jupyter's `normalize.less` sets `[hidden] { display: none; }` but bootstrap.min.css set `[hidden] { display: none !important; }` so we also need the `!important` here to be able to override the default hidden behavior on the sphinx rendered scikit-learn.org. See: https://github.com/scikit-learn/scikit-learn/issues/21755 */display: inline-block !important;position: relative;}#sk-container-id-2 div.sk-text-repr-fallback {display: none;}</style><div id=\"sk-container-id-2\" class=\"sk-top-container\"><div class=\"sk-text-repr-fallback\"><pre>GradientBoostingClassifier()</pre><b>In a Jupyter environment, please rerun this cell to show the HTML representation or trust the notebook. <br />On GitHub, the HTML representation is unable to render, please try loading this page with nbviewer.org.</b></div><div class=\"sk-container\" hidden><div class=\"sk-item\"><div class=\"sk-estimator sk-toggleable\"><input class=\"sk-toggleable__control sk-hidden--visually\" id=\"sk-estimator-id-2\" type=\"checkbox\" checked><label for=\"sk-estimator-id-2\" class=\"sk-toggleable__label sk-toggleable__label-arrow\">GradientBoostingClassifier</label><div class=\"sk-toggleable__content\"><pre>GradientBoostingClassifier()</pre></div></div></div></div></div>"
            ]
          }
        }
      ],
      "source": [
        "lrnr.fit(X,y)"
      ],
      "id": "ba2e09df-4454-48ae-82c2-54f0b4b34913"
    },
    {
      "cell_type": "markdown",
      "metadata": {},
      "source": [
        "`-` step4: evaluate"
      ],
      "id": "c754eb27-6c81-4457-a1bd-07d0079596af"
    },
    {
      "cell_type": "code",
      "execution_count": 36,
      "metadata": {},
      "outputs": [],
      "source": [
        "# thresh = y.mean()\n",
        "# yyhat = (lrnr.predict_proba(XX)> thresh)[:,-1]\n",
        "yyhat = lrnr.predict(XX) "
      ],
      "id": "dfcd128f-8287-4f47-be3c-94b783079a4d"
    },
    {
      "cell_type": "code",
      "execution_count": 37,
      "metadata": {},
      "outputs": [],
      "source": [
        "metrics = [sklearn.metrics.accuracy_score,\n",
        "           sklearn.metrics.precision_score,\n",
        "           sklearn.metrics.recall_score,\n",
        "           sklearn.metrics.f1_score]"
      ],
      "id": "5eae4282-3b49-4c0c-9e73-8fb1670025db"
    },
    {
      "cell_type": "code",
      "execution_count": 38,
      "metadata": {},
      "outputs": [
        {
          "output_type": "display_data",
          "metadata": {},
          "data": {
            "text/html": [
              "\n",
              "</div>"
            ]
          }
        }
      ],
      "source": [
        "_results2= pd.DataFrame({m.__name__:[m(yy,yyhat).round(6)] for m in metrics},index=['분석2'])\n",
        "_results2"
      ],
      "id": "21c7c5d2-e633-4330-9550-e8aa641fc272"
    },
    {
      "cell_type": "markdown",
      "metadata": {},
      "source": [
        "# 분석3\n",
        "\n",
        "`-` step1: data"
      ],
      "id": "04da0c34-b478-4244-b03f-baa640396309"
    },
    {
      "cell_type": "code",
      "execution_count": 39,
      "metadata": {},
      "outputs": [],
      "source": [
        "X = np.array(amtano1(df50_tr).loc[:,['amt','amtano']])\n",
        "XX = np.array(amtano1(df50_test).loc[:,['amt','amtano']])\n",
        "y = np.array(df50_tr.is_fraud)\n",
        "yy = np.array(df50_test.is_fraud)"
      ],
      "id": "d51341c7-b68d-4e8e-a9d5-6962f4427967"
    },
    {
      "cell_type": "markdown",
      "metadata": {},
      "source": [
        "`-` step2: lrnr 생성"
      ],
      "id": "8ae7b66d-3e9d-446b-9724-1fd3d2d1ebad"
    },
    {
      "cell_type": "code",
      "execution_count": 40,
      "metadata": {},
      "outputs": [],
      "source": [
        "lrnr = ensemble.GradientBoostingClassifier()"
      ],
      "id": "0677ae59-4107-47be-9261-1f4ba1edb2f4"
    },
    {
      "cell_type": "markdown",
      "metadata": {},
      "source": [
        "`-` step3: fit"
      ],
      "id": "c292b0fe-2c4c-4784-8278-0a971a59be0f"
    },
    {
      "cell_type": "code",
      "execution_count": 41,
      "metadata": {},
      "outputs": [
        {
          "output_type": "display_data",
          "metadata": {},
          "data": {
            "text/html": [
              "<style>#sk-container-id-3 {color: black;background-color: white;}#sk-container-id-3 pre{padding: 0;}#sk-container-id-3 div.sk-toggleable {background-color: white;}#sk-container-id-3 label.sk-toggleable__label {cursor: pointer;display: block;width: 100%;margin-bottom: 0;padding: 0.3em;box-sizing: border-box;text-align: center;}#sk-container-id-3 label.sk-toggleable__label-arrow:before {content: \"▸\";float: left;margin-right: 0.25em;color: #696969;}#sk-container-id-3 label.sk-toggleable__label-arrow:hover:before {color: black;}#sk-container-id-3 div.sk-estimator:hover label.sk-toggleable__label-arrow:before {color: black;}#sk-container-id-3 div.sk-toggleable__content {max-height: 0;max-width: 0;overflow: hidden;text-align: left;background-color: #f0f8ff;}#sk-container-id-3 div.sk-toggleable__content pre {margin: 0.2em;color: black;border-radius: 0.25em;background-color: #f0f8ff;}#sk-container-id-3 input.sk-toggleable__control:checked~div.sk-toggleable__content {max-height: 200px;max-width: 100%;overflow: auto;}#sk-container-id-3 input.sk-toggleable__control:checked~label.sk-toggleable__label-arrow:before {content: \"▾\";}#sk-container-id-3 div.sk-estimator input.sk-toggleable__control:checked~label.sk-toggleable__label {background-color: #d4ebff;}#sk-container-id-3 div.sk-label input.sk-toggleable__control:checked~label.sk-toggleable__label {background-color: #d4ebff;}#sk-container-id-3 input.sk-hidden--visually {border: 0;clip: rect(1px 1px 1px 1px);clip: rect(1px, 1px, 1px, 1px);height: 1px;margin: -1px;overflow: hidden;padding: 0;position: absolute;width: 1px;}#sk-container-id-3 div.sk-estimator {font-family: monospace;background-color: #f0f8ff;border: 1px dotted black;border-radius: 0.25em;box-sizing: border-box;margin-bottom: 0.5em;}#sk-container-id-3 div.sk-estimator:hover {background-color: #d4ebff;}#sk-container-id-3 div.sk-parallel-item::after {content: \"\";width: 100%;border-bottom: 1px solid gray;flex-grow: 1;}#sk-container-id-3 div.sk-label:hover label.sk-toggleable__label {background-color: #d4ebff;}#sk-container-id-3 div.sk-serial::before {content: \"\";position: absolute;border-left: 1px solid gray;box-sizing: border-box;top: 0;bottom: 0;left: 50%;z-index: 0;}#sk-container-id-3 div.sk-serial {display: flex;flex-direction: column;align-items: center;background-color: white;padding-right: 0.2em;padding-left: 0.2em;position: relative;}#sk-container-id-3 div.sk-item {position: relative;z-index: 1;}#sk-container-id-3 div.sk-parallel {display: flex;align-items: stretch;justify-content: center;background-color: white;position: relative;}#sk-container-id-3 div.sk-item::before, #sk-container-id-3 div.sk-parallel-item::before {content: \"\";position: absolute;border-left: 1px solid gray;box-sizing: border-box;top: 0;bottom: 0;left: 50%;z-index: -1;}#sk-container-id-3 div.sk-parallel-item {display: flex;flex-direction: column;z-index: 1;position: relative;background-color: white;}#sk-container-id-3 div.sk-parallel-item:first-child::after {align-self: flex-end;width: 50%;}#sk-container-id-3 div.sk-parallel-item:last-child::after {align-self: flex-start;width: 50%;}#sk-container-id-3 div.sk-parallel-item:only-child::after {width: 0;}#sk-container-id-3 div.sk-dashed-wrapped {border: 1px dashed gray;margin: 0 0.4em 0.5em 0.4em;box-sizing: border-box;padding-bottom: 0.4em;background-color: white;}#sk-container-id-3 div.sk-label label {font-family: monospace;font-weight: bold;display: inline-block;line-height: 1.2em;}#sk-container-id-3 div.sk-label-container {text-align: center;}#sk-container-id-3 div.sk-container {/* jupyter's `normalize.less` sets `[hidden] { display: none; }` but bootstrap.min.css set `[hidden] { display: none !important; }` so we also need the `!important` here to be able to override the default hidden behavior on the sphinx rendered scikit-learn.org. See: https://github.com/scikit-learn/scikit-learn/issues/21755 */display: inline-block !important;position: relative;}#sk-container-id-3 div.sk-text-repr-fallback {display: none;}</style><div id=\"sk-container-id-3\" class=\"sk-top-container\"><div class=\"sk-text-repr-fallback\"><pre>GradientBoostingClassifier()</pre><b>In a Jupyter environment, please rerun this cell to show the HTML representation or trust the notebook. <br />On GitHub, the HTML representation is unable to render, please try loading this page with nbviewer.org.</b></div><div class=\"sk-container\" hidden><div class=\"sk-item\"><div class=\"sk-estimator sk-toggleable\"><input class=\"sk-toggleable__control sk-hidden--visually\" id=\"sk-estimator-id-3\" type=\"checkbox\" checked><label for=\"sk-estimator-id-3\" class=\"sk-toggleable__label sk-toggleable__label-arrow\">GradientBoostingClassifier</label><div class=\"sk-toggleable__content\"><pre>GradientBoostingClassifier()</pre></div></div></div></div></div>"
            ]
          }
        }
      ],
      "source": [
        "lrnr.fit(X,y)"
      ],
      "id": "8a735642-1e5c-4918-b71c-f2548e9abecb"
    },
    {
      "cell_type": "markdown",
      "metadata": {},
      "source": [
        "`-` step4: evaluate"
      ],
      "id": "3efd7dab-2cb7-401c-8ccc-7cdb6932bc60"
    },
    {
      "cell_type": "code",
      "execution_count": 42,
      "metadata": {},
      "outputs": [],
      "source": [
        "# thresh = y.mean()\n",
        "# yyhat = (lrnr.predict_proba(XX)> thresh)[:,-1]\n",
        "yyhat = lrnr.predict(XX) "
      ],
      "id": "a3bb8701-ba5b-44ae-968a-a0775294aaae"
    },
    {
      "cell_type": "code",
      "execution_count": 43,
      "metadata": {},
      "outputs": [],
      "source": [
        "metrics = [sklearn.metrics.accuracy_score,\n",
        "           sklearn.metrics.precision_score,\n",
        "           sklearn.metrics.recall_score,\n",
        "           sklearn.metrics.f1_score]"
      ],
      "id": "feafec21-28c1-4843-a023-b85eef8dc6a9"
    },
    {
      "cell_type": "code",
      "execution_count": 44,
      "metadata": {},
      "outputs": [
        {
          "output_type": "display_data",
          "metadata": {},
          "data": {
            "text/html": [
              "\n",
              "</div>"
            ]
          }
        }
      ],
      "source": [
        "_results3= pd.DataFrame({m.__name__:[m(yy,yyhat).round(6)] for m in metrics},index=['분석3'])\n",
        "_results3"
      ],
      "id": "a4aa733e-730e-40bf-9e09-c4a5266b9ee9"
    },
    {
      "cell_type": "markdown",
      "metadata": {},
      "source": [
        "# 분석4\n",
        "\n",
        "`-` step1: data"
      ],
      "id": "deb269ec-6d87-4f14-9bda-edcbc38bc086"
    },
    {
      "cell_type": "code",
      "execution_count": 45,
      "metadata": {},
      "outputs": [],
      "source": [
        "X = np.array(amtano1(df02_tr).loc[:,['amt','amtano']])\n",
        "XX = np.array(amtano1(df50_test).loc[:,['amt','amtano']])\n",
        "y = np.array(df02_tr.is_fraud)\n",
        "yy = np.array(df50_test.is_fraud)"
      ],
      "id": "86e00c2b-2696-4b39-8ccc-8a5b04f8f6b7"
    },
    {
      "cell_type": "markdown",
      "metadata": {},
      "source": [
        "`-` step2: lrnr 생성"
      ],
      "id": "b0ebdd59-2dd9-4361-b700-6172c6437426"
    },
    {
      "cell_type": "code",
      "execution_count": 46,
      "metadata": {},
      "outputs": [],
      "source": [
        "lrnr = ensemble.GradientBoostingClassifier()"
      ],
      "id": "ac61c3cc-8412-4d4a-884b-5b9a881ef39b"
    },
    {
      "cell_type": "markdown",
      "metadata": {},
      "source": [
        "`-` step3: fit"
      ],
      "id": "1b551caa-a54a-4ccf-8605-f2bf9a6e8268"
    },
    {
      "cell_type": "code",
      "execution_count": 47,
      "metadata": {},
      "outputs": [
        {
          "output_type": "display_data",
          "metadata": {},
          "data": {
            "text/html": [
              "<style>#sk-container-id-4 {color: black;background-color: white;}#sk-container-id-4 pre{padding: 0;}#sk-container-id-4 div.sk-toggleable {background-color: white;}#sk-container-id-4 label.sk-toggleable__label {cursor: pointer;display: block;width: 100%;margin-bottom: 0;padding: 0.3em;box-sizing: border-box;text-align: center;}#sk-container-id-4 label.sk-toggleable__label-arrow:before {content: \"▸\";float: left;margin-right: 0.25em;color: #696969;}#sk-container-id-4 label.sk-toggleable__label-arrow:hover:before {color: black;}#sk-container-id-4 div.sk-estimator:hover label.sk-toggleable__label-arrow:before {color: black;}#sk-container-id-4 div.sk-toggleable__content {max-height: 0;max-width: 0;overflow: hidden;text-align: left;background-color: #f0f8ff;}#sk-container-id-4 div.sk-toggleable__content pre {margin: 0.2em;color: black;border-radius: 0.25em;background-color: #f0f8ff;}#sk-container-id-4 input.sk-toggleable__control:checked~div.sk-toggleable__content {max-height: 200px;max-width: 100%;overflow: auto;}#sk-container-id-4 input.sk-toggleable__control:checked~label.sk-toggleable__label-arrow:before {content: \"▾\";}#sk-container-id-4 div.sk-estimator input.sk-toggleable__control:checked~label.sk-toggleable__label {background-color: #d4ebff;}#sk-container-id-4 div.sk-label input.sk-toggleable__control:checked~label.sk-toggleable__label {background-color: #d4ebff;}#sk-container-id-4 input.sk-hidden--visually {border: 0;clip: rect(1px 1px 1px 1px);clip: rect(1px, 1px, 1px, 1px);height: 1px;margin: -1px;overflow: hidden;padding: 0;position: absolute;width: 1px;}#sk-container-id-4 div.sk-estimator {font-family: monospace;background-color: #f0f8ff;border: 1px dotted black;border-radius: 0.25em;box-sizing: border-box;margin-bottom: 0.5em;}#sk-container-id-4 div.sk-estimator:hover {background-color: #d4ebff;}#sk-container-id-4 div.sk-parallel-item::after {content: \"\";width: 100%;border-bottom: 1px solid gray;flex-grow: 1;}#sk-container-id-4 div.sk-label:hover label.sk-toggleable__label {background-color: #d4ebff;}#sk-container-id-4 div.sk-serial::before {content: \"\";position: absolute;border-left: 1px solid gray;box-sizing: border-box;top: 0;bottom: 0;left: 50%;z-index: 0;}#sk-container-id-4 div.sk-serial {display: flex;flex-direction: column;align-items: center;background-color: white;padding-right: 0.2em;padding-left: 0.2em;position: relative;}#sk-container-id-4 div.sk-item {position: relative;z-index: 1;}#sk-container-id-4 div.sk-parallel {display: flex;align-items: stretch;justify-content: center;background-color: white;position: relative;}#sk-container-id-4 div.sk-item::before, #sk-container-id-4 div.sk-parallel-item::before {content: \"\";position: absolute;border-left: 1px solid gray;box-sizing: border-box;top: 0;bottom: 0;left: 50%;z-index: -1;}#sk-container-id-4 div.sk-parallel-item {display: flex;flex-direction: column;z-index: 1;position: relative;background-color: white;}#sk-container-id-4 div.sk-parallel-item:first-child::after {align-self: flex-end;width: 50%;}#sk-container-id-4 div.sk-parallel-item:last-child::after {align-self: flex-start;width: 50%;}#sk-container-id-4 div.sk-parallel-item:only-child::after {width: 0;}#sk-container-id-4 div.sk-dashed-wrapped {border: 1px dashed gray;margin: 0 0.4em 0.5em 0.4em;box-sizing: border-box;padding-bottom: 0.4em;background-color: white;}#sk-container-id-4 div.sk-label label {font-family: monospace;font-weight: bold;display: inline-block;line-height: 1.2em;}#sk-container-id-4 div.sk-label-container {text-align: center;}#sk-container-id-4 div.sk-container {/* jupyter's `normalize.less` sets `[hidden] { display: none; }` but bootstrap.min.css set `[hidden] { display: none !important; }` so we also need the `!important` here to be able to override the default hidden behavior on the sphinx rendered scikit-learn.org. See: https://github.com/scikit-learn/scikit-learn/issues/21755 */display: inline-block !important;position: relative;}#sk-container-id-4 div.sk-text-repr-fallback {display: none;}</style><div id=\"sk-container-id-4\" class=\"sk-top-container\"><div class=\"sk-text-repr-fallback\"><pre>GradientBoostingClassifier()</pre><b>In a Jupyter environment, please rerun this cell to show the HTML representation or trust the notebook. <br />On GitHub, the HTML representation is unable to render, please try loading this page with nbviewer.org.</b></div><div class=\"sk-container\" hidden><div class=\"sk-item\"><div class=\"sk-estimator sk-toggleable\"><input class=\"sk-toggleable__control sk-hidden--visually\" id=\"sk-estimator-id-4\" type=\"checkbox\" checked><label for=\"sk-estimator-id-4\" class=\"sk-toggleable__label sk-toggleable__label-arrow\">GradientBoostingClassifier</label><div class=\"sk-toggleable__content\"><pre>GradientBoostingClassifier()</pre></div></div></div></div></div>"
            ]
          }
        }
      ],
      "source": [
        "lrnr.fit(X,y)"
      ],
      "id": "f32594cf-171d-4d5d-86c0-0aa3d67377f6"
    },
    {
      "cell_type": "markdown",
      "metadata": {},
      "source": [
        "`-` step4: evaluate"
      ],
      "id": "293f9b04-22eb-4081-9759-03b77db6cf66"
    },
    {
      "cell_type": "code",
      "execution_count": 48,
      "metadata": {},
      "outputs": [],
      "source": [
        "thresh = y.mean()\n",
        "yyhat = (lrnr.predict_proba(XX)> thresh)[:,-1]\n",
        "#yyhat = lrnr.predict(XX) "
      ],
      "id": "ee3f9ec4-ba24-4621-892e-b16d79e55dc7"
    },
    {
      "cell_type": "code",
      "execution_count": 49,
      "metadata": {},
      "outputs": [],
      "source": [
        "metrics = [sklearn.metrics.accuracy_score,\n",
        "           sklearn.metrics.precision_score,\n",
        "           sklearn.metrics.recall_score,\n",
        "           sklearn.metrics.f1_score]"
      ],
      "id": "6307ec63-7e30-4a83-9b36-e6e1d5c92f0e"
    },
    {
      "cell_type": "code",
      "execution_count": 50,
      "metadata": {},
      "outputs": [
        {
          "output_type": "display_data",
          "metadata": {},
          "data": {
            "text/html": [
              "\n",
              "</div>"
            ]
          }
        }
      ],
      "source": [
        "_results4= pd.DataFrame({m.__name__:[m(yy,yyhat).round(6)] for m in metrics},index=['분석4'])\n",
        "_results4"
      ],
      "id": "f848ddf8-093b-4107-a0df-10d5f1a968b4"
    },
    {
      "cell_type": "markdown",
      "metadata": {},
      "source": [
        "# 분석5\n",
        "\n",
        "`-` step1: data"
      ],
      "id": "35ef0238-ad2f-4703-9f9c-80d66cf5a8ed"
    },
    {
      "cell_type": "code",
      "execution_count": 51,
      "metadata": {},
      "outputs": [],
      "source": [
        "X = np.array(amtano1(fraudTrain_tr).loc[:,['amt','amtano']])\n",
        "XX = np.array(amtano1(df50_test).loc[:,['amt','amtano']])\n",
        "y = np.array(fraudTrain_tr.is_fraud)\n",
        "yy = np.array(df50_test.is_fraud)"
      ],
      "id": "480bdf63-674b-4680-a76c-61cdfd98ec3a"
    },
    {
      "cell_type": "markdown",
      "metadata": {},
      "source": [
        "`-` step2: lrnr 생성"
      ],
      "id": "9b4bbf0a-acdd-46f4-9ca1-4f128338e38b"
    },
    {
      "cell_type": "code",
      "execution_count": 52,
      "metadata": {},
      "outputs": [],
      "source": [
        "lrnr = ensemble.GradientBoostingClassifier()"
      ],
      "id": "f14eb823-9d90-492d-9834-f82dac2a0953"
    },
    {
      "cell_type": "markdown",
      "metadata": {},
      "source": [
        "`-` step3: fit"
      ],
      "id": "e5b96388-e788-4a36-a2c4-faa21e430c75"
    },
    {
      "cell_type": "code",
      "execution_count": 53,
      "metadata": {},
      "outputs": [
        {
          "output_type": "display_data",
          "metadata": {},
          "data": {
            "text/html": [
              "<style>#sk-container-id-5 {color: black;background-color: white;}#sk-container-id-5 pre{padding: 0;}#sk-container-id-5 div.sk-toggleable {background-color: white;}#sk-container-id-5 label.sk-toggleable__label {cursor: pointer;display: block;width: 100%;margin-bottom: 0;padding: 0.3em;box-sizing: border-box;text-align: center;}#sk-container-id-5 label.sk-toggleable__label-arrow:before {content: \"▸\";float: left;margin-right: 0.25em;color: #696969;}#sk-container-id-5 label.sk-toggleable__label-arrow:hover:before {color: black;}#sk-container-id-5 div.sk-estimator:hover label.sk-toggleable__label-arrow:before {color: black;}#sk-container-id-5 div.sk-toggleable__content {max-height: 0;max-width: 0;overflow: hidden;text-align: left;background-color: #f0f8ff;}#sk-container-id-5 div.sk-toggleable__content pre {margin: 0.2em;color: black;border-radius: 0.25em;background-color: #f0f8ff;}#sk-container-id-5 input.sk-toggleable__control:checked~div.sk-toggleable__content {max-height: 200px;max-width: 100%;overflow: auto;}#sk-container-id-5 input.sk-toggleable__control:checked~label.sk-toggleable__label-arrow:before {content: \"▾\";}#sk-container-id-5 div.sk-estimator input.sk-toggleable__control:checked~label.sk-toggleable__label {background-color: #d4ebff;}#sk-container-id-5 div.sk-label input.sk-toggleable__control:checked~label.sk-toggleable__label {background-color: #d4ebff;}#sk-container-id-5 input.sk-hidden--visually {border: 0;clip: rect(1px 1px 1px 1px);clip: rect(1px, 1px, 1px, 1px);height: 1px;margin: -1px;overflow: hidden;padding: 0;position: absolute;width: 1px;}#sk-container-id-5 div.sk-estimator {font-family: monospace;background-color: #f0f8ff;border: 1px dotted black;border-radius: 0.25em;box-sizing: border-box;margin-bottom: 0.5em;}#sk-container-id-5 div.sk-estimator:hover {background-color: #d4ebff;}#sk-container-id-5 div.sk-parallel-item::after {content: \"\";width: 100%;border-bottom: 1px solid gray;flex-grow: 1;}#sk-container-id-5 div.sk-label:hover label.sk-toggleable__label {background-color: #d4ebff;}#sk-container-id-5 div.sk-serial::before {content: \"\";position: absolute;border-left: 1px solid gray;box-sizing: border-box;top: 0;bottom: 0;left: 50%;z-index: 0;}#sk-container-id-5 div.sk-serial {display: flex;flex-direction: column;align-items: center;background-color: white;padding-right: 0.2em;padding-left: 0.2em;position: relative;}#sk-container-id-5 div.sk-item {position: relative;z-index: 1;}#sk-container-id-5 div.sk-parallel {display: flex;align-items: stretch;justify-content: center;background-color: white;position: relative;}#sk-container-id-5 div.sk-item::before, #sk-container-id-5 div.sk-parallel-item::before {content: \"\";position: absolute;border-left: 1px solid gray;box-sizing: border-box;top: 0;bottom: 0;left: 50%;z-index: -1;}#sk-container-id-5 div.sk-parallel-item {display: flex;flex-direction: column;z-index: 1;position: relative;background-color: white;}#sk-container-id-5 div.sk-parallel-item:first-child::after {align-self: flex-end;width: 50%;}#sk-container-id-5 div.sk-parallel-item:last-child::after {align-self: flex-start;width: 50%;}#sk-container-id-5 div.sk-parallel-item:only-child::after {width: 0;}#sk-container-id-5 div.sk-dashed-wrapped {border: 1px dashed gray;margin: 0 0.4em 0.5em 0.4em;box-sizing: border-box;padding-bottom: 0.4em;background-color: white;}#sk-container-id-5 div.sk-label label {font-family: monospace;font-weight: bold;display: inline-block;line-height: 1.2em;}#sk-container-id-5 div.sk-label-container {text-align: center;}#sk-container-id-5 div.sk-container {/* jupyter's `normalize.less` sets `[hidden] { display: none; }` but bootstrap.min.css set `[hidden] { display: none !important; }` so we also need the `!important` here to be able to override the default hidden behavior on the sphinx rendered scikit-learn.org. See: https://github.com/scikit-learn/scikit-learn/issues/21755 */display: inline-block !important;position: relative;}#sk-container-id-5 div.sk-text-repr-fallback {display: none;}</style><div id=\"sk-container-id-5\" class=\"sk-top-container\"><div class=\"sk-text-repr-fallback\"><pre>GradientBoostingClassifier()</pre><b>In a Jupyter environment, please rerun this cell to show the HTML representation or trust the notebook. <br />On GitHub, the HTML representation is unable to render, please try loading this page with nbviewer.org.</b></div><div class=\"sk-container\" hidden><div class=\"sk-item\"><div class=\"sk-estimator sk-toggleable\"><input class=\"sk-toggleable__control sk-hidden--visually\" id=\"sk-estimator-id-5\" type=\"checkbox\" checked><label for=\"sk-estimator-id-5\" class=\"sk-toggleable__label sk-toggleable__label-arrow\">GradientBoostingClassifier</label><div class=\"sk-toggleable__content\"><pre>GradientBoostingClassifier()</pre></div></div></div></div></div>"
            ]
          }
        }
      ],
      "source": [
        "lrnr.fit(X,y)"
      ],
      "id": "776416cc-e7f5-4105-b476-01d70a7807b9"
    },
    {
      "cell_type": "markdown",
      "metadata": {},
      "source": [
        "`-` step4: evaluate"
      ],
      "id": "c055ba8a-7185-4d9d-b6dd-fb0ac756bbc8"
    },
    {
      "cell_type": "code",
      "execution_count": 54,
      "metadata": {},
      "outputs": [],
      "source": [
        "thresh = y.mean()\n",
        "yyhat = (lrnr.predict_proba(XX)> thresh)[:,-1]\n",
        "#yyhat = lrnr.predict(XX) "
      ],
      "id": "51a09023-fc15-408d-a3f2-5db719292ba2"
    },
    {
      "cell_type": "code",
      "execution_count": 55,
      "metadata": {},
      "outputs": [],
      "source": [
        "metrics = [sklearn.metrics.accuracy_score,\n",
        "           sklearn.metrics.precision_score,\n",
        "           sklearn.metrics.recall_score,\n",
        "           sklearn.metrics.f1_score]"
      ],
      "id": "7ace94a9-74d0-498d-98ec-6c14f1daaac1"
    },
    {
      "cell_type": "code",
      "execution_count": 56,
      "metadata": {},
      "outputs": [
        {
          "output_type": "display_data",
          "metadata": {},
          "data": {
            "text/html": [
              "\n",
              "</div>"
            ]
          }
        }
      ],
      "source": [
        "_results5= pd.DataFrame({m.__name__:[m(yy,yyhat).round(6)] for m in metrics},index=['분석5'])\n",
        "_results5"
      ],
      "id": "9d41113b-5147-4ee2-8171-8d247642a4e2"
    }
  ],
  "nbformat": 4,
  "nbformat_minor": 5,
  "metadata": {
    "kernelspec": {
      "name": "python3",
      "display_name": "Python 3 (ipykernel)",
      "language": "python"
    },
    "language_info": {
      "name": "python",
      "codemirror_mode": {
        "name": "ipython",
        "version": "3"
      },
      "file_extension": ".py",
      "mimetype": "text/x-python",
      "nbconvert_exporter": "python",
      "pygments_lexer": "ipython3",
      "version": "3.10.13"
    }
  }
}