{
  "cells": [
    {
      "cell_type": "markdown",
      "metadata": {},
      "source": [
        "# (자료) 신용카드 사기거래\n",
        "\n",
        "신록예찬  \n",
        "2024-01-18\n",
        "\n",
        "# 1. Links\n",
        "\n",
        "1.  https://www.kaggle.com/datasets/mlg-ulb/creditcardfraud //\n",
        "2.  https://www.kaggle.com/datasets/whenamancodes/fraud-detection // y가\n",
        "    없는듯\n",
        "3.  https://www.kaggle.com/datasets/dhanushnarayananr/credit-card-fraud\n",
        "4.  https://www.kaggle.com/datasets/ealaxi/paysim1\n",
        "5.  https://www.kaggle.com/datasets/mishra5001/credit-card\n",
        "6.  https://www.kaggle.com/datasets/joebeachcapital/credit-card-fraud //\n",
        "    복잡함..\n",
        "7.  https://www.kaggle.com/datasets/nelgiriyewithana/credit-card-fraud-detection-dataset-2023\n",
        "8.  https://www.kaggle.com/datasets/jainilcoder/online-payment-fraud-detection\n",
        "9.  https://www.kaggle.com/datasets/rupakroy/online-payments-fraud-detection-dataset\n",
        "    // 시간이없당\n",
        "10. https://www.kaggle.com/datasets/kartik2112/fraud-detection\n",
        "11. https://www.kaggle.com/datasets/vardhansiramdasu/fraudulent-transactions-prediction\n",
        "\n",
        "# 2. Imports"
      ],
      "id": "2b238b58-d7fa-4f16-b0fa-bd2464bc5916"
    },
    {
      "cell_type": "code",
      "execution_count": 6,
      "metadata": {},
      "outputs": [],
      "source": [
        "import pandas as pd"
      ],
      "id": "fde5dc95-c406-49c0-8dfc-8ce00acd543a"
    },
    {
      "cell_type": "markdown",
      "metadata": {},
      "source": [
        "# 3. Data"
      ],
      "id": "ff28ae0b-3e90-4574-bda1-d14470a3a636"
    },
    {
      "cell_type": "code",
      "execution_count": 31,
      "metadata": {},
      "outputs": [],
      "source": [
        "df = pd.read_csv(\"fraud1.csv\")"
      ],
      "id": "ff1038fe-0dee-40ef-81e4-694da047dd34"
    }
  ],
  "nbformat": 4,
  "nbformat_minor": 5,
  "metadata": {
    "kernelspec": {
      "name": "python3",
      "display_name": "Python 3 (ipykernel)",
      "language": "python"
    },
    "language_info": {
      "name": "python",
      "codemirror_mode": {
        "name": "ipython",
        "version": "3"
      },
      "file_extension": ".py",
      "mimetype": "text/x-python",
      "nbconvert_exporter": "python",
      "pygments_lexer": "ipython3",
      "version": "3.11.7"
    }
  }
}