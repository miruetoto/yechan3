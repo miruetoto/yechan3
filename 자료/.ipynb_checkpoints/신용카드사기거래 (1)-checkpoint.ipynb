{
 "cells": [
  {
   "cell_type": "raw",
   "id": "02473b46-79f2-488a-920f-ce84dfc0e9cc",
   "metadata": {},
   "source": [
    "---\n",
    "title: \"(자료) 신용카드 사기거래\"\n",
    "author: \"신록예찬\"\n",
    "date: \"01/18/2024\"\n",
    "---"
   ]
  },
  {
   "cell_type": "markdown",
   "id": "1faea6cf-472b-44ff-a6bd-cb183b56306c",
   "metadata": {},
   "source": [
    "# 1. Links"
   ]
  },
  {
   "cell_type": "markdown",
   "id": "940d06db-77d3-4c9e-9fc4-c9032d486411",
   "metadata": {},
   "source": [
    "1. https://www.kaggle.com/datasets/mlg-ulb/creditcardfraud // \n",
    "2. https://www.kaggle.com/datasets/whenamancodes/fraud-detection  // y가 없는듯 \n",
    "3. https://www.kaggle.com/datasets/dhanushnarayananr/credit-card-fraud\n",
    "4. https://www.kaggle.com/datasets/ealaxi/paysim1 \n",
    "5. https://www.kaggle.com/datasets/mishra5001/credit-card\n",
    "6. https://www.kaggle.com/datasets/joebeachcapital/credit-card-fraud // 복잡함..\n",
    "7. https://www.kaggle.com/datasets/nelgiriyewithana/credit-card-fraud-detection-dataset-2023 \n",
    "8. https://www.kaggle.com/datasets/jainilcoder/online-payment-fraud-detection\n",
    "9. https://www.kaggle.com/datasets/rupakroy/online-payments-fraud-detection-dataset // 시간이없당\n",
    "10. https://www.kaggle.com/datasets/dermisfit/fraud-transactions-dataset \n",
    "11. https://www.kaggle.com/datasets/kartik2112/fraud-detection \n",
    "12. https://www.kaggle.com/datasets/vardhansiramdasu/fraudulent-transactions-prediction"
   ]
  },
  {
   "cell_type": "markdown",
   "id": "96a7f0e6-e42a-4458-b6d4-4464d2de9140",
   "metadata": {},
   "source": [
    "# 2. Imports "
   ]
  },
  {
   "cell_type": "code",
   "execution_count": 6,
   "id": "fde5dc95-c406-49c0-8dfc-8ce00acd543a",
   "metadata": {},
   "outputs": [],
   "source": [
    "import pandas as pd"
   ]
  },
  {
   "cell_type": "markdown",
   "id": "424e92e2-8978-4567-9d11-60b8252206fa",
   "metadata": {},
   "source": [
    "# 3. Data"
   ]
  },
  {
   "cell_type": "code",
   "execution_count": 31,
   "id": "ff1038fe-0dee-40ef-81e4-694da047dd34",
   "metadata": {},
   "outputs": [],
   "source": [
    "df = pd.read_csv(\"fraud1.csv\")"
   ]
  }
 ],
 "metadata": {
  "kernelspec": {
   "display_name": "Python 3 (ipykernel)",
   "language": "python",
   "name": "python3"
  },
  "language_info": {
   "codemirror_mode": {
    "name": "ipython",
    "version": 3
   },
   "file_extension": ".py",
   "mimetype": "text/x-python",
   "name": "python",
   "nbconvert_exporter": "python",
   "pygments_lexer": "ipython3",
   "version": "3.12.1"
  }
 },
 "nbformat": 4,
 "nbformat_minor": 5
}
