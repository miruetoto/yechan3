{
 "cells": [
  {
   "cell_type": "raw",
   "id": "95c67a17-f06d-4186-9ce2-c7b1465aaff4",
   "metadata": {},
   "source": [
    "---\n",
    "title: \"[CGSP] Periodogram\"\n",
    "author: \"신록예찬\"\n",
    "date: \"12/27/2022\"\n",
    "bibliography: cgsp.bib\n",
    "---"
   ]
  },
  {
   "cell_type": "markdown",
   "id": "5da78685-74fe-4ac0-8092-412ce1da1fe0",
   "metadata": {},
   "source": [
    "# Power Spectral density"
   ]
  },
  {
   "cell_type": "markdown",
   "id": "bb13d509-62b8-4540-bbfd-97e0b8cd887e",
   "metadata": {},
   "source": [
    "\n",
    "> @djuric2018cooperative 의 Chap 12.2.1. "
   ]
  },
  {
   "cell_type": "markdown",
   "id": "d29eb02f-cacf-4f12-8803-39356794ff45",
   "metadata": {},
   "source": [
    "**Definition.** The PSD of a random process ${\\bf x}$ that is stationary with respect to GSO ${\\bf S}={\\bf V}{\\bf \\Lambda}{\\bf V}^H$ is the nonnegative $N \\times 1$ vector ${\\bf p}$ \n",
    "\n",
    "$${\\bf p}:=\\text{diag}\\big({\\bf V}^H {\\bf C}_{\\bf x}{\\bf V} \\big).$$"
   ]
  },
  {
   "cell_type": "markdown",
   "id": "682d12a9-bc42-46b7-96f5-e53ab7bd54f4",
   "metadata": {},
   "source": [
    "---"
   ]
  },
  {
   "cell_type": "markdown",
   "id": "03c1bc44-09fc-49c6-a9ec-6892a83f9817",
   "metadata": {},
   "source": [
    "*note:* Note that ${\\bf C}_{\\bf x}$ can be expressed as \n",
    "\n",
    "$${\\bf C}_{\\bf x} =\\mathbb{E}\\big[{\\bf x}{\\bf x}^H\\big] =  \\mathbb{E}\\big[({\\bf H}{\\bf n})({\\bf H}{\\bf n})^H \\big]={\\bf H}\\mathbb{E}\\big[{\\bf n}{\\bf n}^H \\big]{\\bf H}^H={\\bf H}{\\bf H}^H.$$"
   ]
  },
  {
   "cell_type": "markdown",
   "id": "7970fb5a-f162-4821-9daa-c4b0de0a25fa",
   "metadata": {},
   "source": [
    "where ${\\bf n}$ is zero-mean white noise and ${\\bf H}=\\sum_{l=0}^{N-1}h_l{\\bf S}^l$ is linear shift-invariant graph filter. "
   ]
  },
  {
   "cell_type": "markdown",
   "id": "5420226b-dc8a-4721-9a70-54568c326c19",
   "metadata": {},
   "source": [
    "---"
   ]
  },
  {
   "cell_type": "markdown",
   "id": "da381368-3a12-41da-b6c4-644f4725776d",
   "metadata": {},
   "source": [
    "Thanks to stationary properties, we can write \n",
    "\n",
    "$$\\mathbb{E}\\big[ {\\bf S}{\\bf H}={\\bf H}{\\bf S}\\big] = $$"
   ]
  }
 ],
 "metadata": {
  "kernelspec": {
   "display_name": "Julia 1.7.2",
   "language": "julia",
   "name": "julia-1.7"
  },
  "language_info": {
   "file_extension": ".jl",
   "mimetype": "application/julia",
   "name": "julia",
   "version": "1.7.2"
  }
 },
 "nbformat": 4,
 "nbformat_minor": 5
}
