{
 "cells": [
  {
   "cell_type": "raw",
   "id": "ba19e028-0e4b-4dc3-80be-d432c95023ae",
   "metadata": {},
   "source": [
    "---\n",
    "title: \"[CGSP] Chap 8.3: Shift Invariant\"\n",
    "author: \"신록예찬\"\n",
    "date: \"12/25/2022\"\n",
    "bibliography: cgsp.bib\n",
    "---"
   ]
  },
  {
   "cell_type": "markdown",
   "id": "150f5666-96a7-43a9-9afe-1e152fffaa5e",
   "metadata": {},
   "source": [
    "A generic filter ${\\boldsymbol h}$ is given by its $z$-transform \n",
    "\n",
    "$$h(z)=h_0z^0+h_1z^{-1}+\\cdots +h_{N-1}z^{-(N-1)}.$$\n",
    "\n",
    "In vector notation, and with respect to the standard basis ${\\bf I}$, the filter is represented by the matrix ${\\bf H}$, a polynomial in the cyclic shift\n",
    "\n",
    "$${\\bf H}=h({\\bf A})=h_0{\\bf A}^0+h_1{\\bf A}^1+\\cdots+h_{N-1}{\\bf A}^{N-1}.$$"
   ]
  },
  {
   "cell_type": "markdown",
   "id": "6b3b14a4-ba55-4936-b79a-8e288d71c778",
   "metadata": {},
   "source": [
    "Thus we can interprete the matrix ${\\bf A}{\\bf s}$ as \"$\\downarrow$ shifting operator\"."
   ]
  },
  {
   "cell_type": "markdown",
   "id": "b987db6e-2c3f-4623-8171-fe4bd3c45894",
   "metadata": {},
   "source": [
    "Filters are *shift invariant* iff \n",
    "\n",
    "$$z\\cdot h(z) = h(z)\\cdot z$$ \n",
    "\n",
    "or \n",
    "\n",
    "$${\\bf A}h({\\bf A})=h({\\bf A}){\\bf A}.$$"
   ]
  },
  {
   "cell_type": "markdown",
   "id": "6e1d518c-5688-4779-b981-b4ae4d4dfa5f",
   "metadata": {},
   "source": [
    "(ex1) Define ${\\boldsymbol h}$ as "
   ]
  },
  {
   "cell_type": "code",
   "execution_count": 22,
   "id": "692aa3b9-a211-48ef-b5c1-2c70f0fc3861",
   "metadata": {},
   "outputs": [
    {
     "data": {
      "text/plain": [
       "3-element Vector{Float64}:\n",
       " 0.3333333333333333\n",
       " 0.3333333333333333\n",
       " 0.3333333333333333"
      ]
     },
     "execution_count": 22,
     "metadata": {},
     "output_type": "execute_result"
    }
   ],
   "source": [
    "h = [1/3,1/3,1/3]"
   ]
  },
  {
   "cell_type": "markdown",
   "id": "e32fef8a-2932-4601-8661-d8ba4ac984eb",
   "metadata": {},
   "source": [
    "Furthermore define ${\\bf H}=h({\\bf A})=h_0{\\bf A}^0+h_1{\\bf A}^1+h_2{\\bf A}^2$"
   ]
  },
  {
   "cell_type": "code",
   "execution_count": 23,
   "id": "8296ff1b-914c-48b7-9ac4-a6107b2d94d1",
   "metadata": {},
   "outputs": [
    {
     "data": {
      "text/plain": [
       "5×5 Matrix{Float64}:\n",
       " 0.333333  0.0       0.0       0.333333  0.333333\n",
       " 0.333333  0.333333  0.0       0.0       0.333333\n",
       " 0.333333  0.333333  0.333333  0.0       0.0\n",
       " 0.0       0.333333  0.333333  0.333333  0.0\n",
       " 0.0       0.0       0.333333  0.333333  0.333333"
      ]
     },
     "execution_count": 23,
     "metadata": {},
     "output_type": "execute_result"
    }
   ],
   "source": [
    "H = (1/3)*A^0 + (1/3)*A^1 + (1/3)*A^2 "
   ]
  },
  {
   "cell_type": "markdown",
   "id": "5d2edd30-1ca8-4ec3-b912-195494662d62",
   "metadata": {},
   "source": [
    "Observe following:"
   ]
  },
  {
   "cell_type": "code",
   "execution_count": 24,
   "id": "0fe176b0-a638-4e67-9634-1a24a4a1d92b",
   "metadata": {},
   "outputs": [
    {
     "data": {
      "text/plain": [
       "true"
      ]
     },
     "execution_count": 24,
     "metadata": {},
     "output_type": "execute_result"
    }
   ],
   "source": [
    "A*H == H*A "
   ]
  },
  {
   "cell_type": "markdown",
   "id": "b79a9fec-1f2c-4944-893b-0c3f04e8fa3b",
   "metadata": {},
   "source": [
    "Thus, filter ${\\boldsymbol h}$ is shift invariant filter and matrix ${\\bf H}$ is shift invariant operator. "
   ]
  },
  {
   "cell_type": "markdown",
   "id": "db9cdc8b-ca59-45de-86d2-dbd2adfcd917",
   "metadata": {},
   "source": [
    "*note:* ${\\boldsymbol h}$ is moving average filter. "
   ]
  },
  {
   "cell_type": "markdown",
   "id": "da0a2534-cf9c-4501-b620-81bc3d1358dd",
   "metadata": {},
   "source": [
    "*note:* for any ${\\bf x}$, ${\\bf H}{\\bf x}$ is definded by \n",
    "\n",
    "$$\\left[\\frac{x_4+x_5+x_1}{3},\\frac{x_5+x_1+x_2}{3},\\dots,\\frac{x_3+x_4+x_5}{3}\\right].$$"
   ]
  },
  {
   "cell_type": "code",
   "execution_count": 31,
   "id": "1f6244a0-a4a3-4acd-946d-e9158b3576c7",
   "metadata": {},
   "outputs": [
    {
     "data": {
      "text/plain": [
       "5-element Vector{Float64}:\n",
       " 1.3333333333333333\n",
       " 1.3333333333333333\n",
       " 2.0\n",
       " 2.333333333333333\n",
       " 1.9999999999999998"
      ]
     },
     "execution_count": 31,
     "metadata": {},
     "output_type": "execute_result"
    }
   ],
   "source": [
    "x = [1,2,3,2,1]\n",
    "H*x"
   ]
  },
  {
   "cell_type": "markdown",
   "id": "05373eb0-cd47-460c-8b1b-ea29066725d9",
   "metadata": {},
   "source": [
    "*note:* in some sense, the matrix ${\\bf H}{\\bf x}$ can be thought as generalized version of ${\\boldsymbol h}\\star {\\bf x}$ where $\\star$ is convolution."
   ]
  },
  {
   "cell_type": "code",
   "execution_count": 39,
   "id": "4b604e22-3cc5-4461-895b-0abb27b8ee3c",
   "metadata": {},
   "outputs": [
    {
     "data": {
      "text/plain": [
       "7-element Vector{Float64}:\n",
       " 0.33333333333333326\n",
       " 1.0\n",
       " 2.0\n",
       " 2.3333333333333335\n",
       " 2.0\n",
       " 1.0\n",
       " 0.3333333333333334"
      ]
     },
     "execution_count": 39,
     "metadata": {},
     "output_type": "execute_result"
    }
   ],
   "source": [
    "conv(h,x)"
   ]
  },
  {
   "cell_type": "markdown",
   "id": "a5630b02-3681-4923-8ca1-342ea21024db",
   "metadata": {},
   "source": [
    "---"
   ]
  },
  {
   "cell_type": "markdown",
   "id": "9e0561b5-1bb8-46f9-b5ea-2902cc4e7276",
   "metadata": {},
   "source": [
    "Finally, we observe that, from the Cayley-Hamilton Theorem, ${\\bf A}$ satisfies its characteristic polynomial $\\Delta({\\bf A})$, where $\\Delta(\\lambda)$ is the determinant of $\\lambda{\\bf I}-{\\bf A}$. The characteristic polynomial $\\Delta({\\bf A})$ has degree $N$, so, in DSP, as described so far, linear filters are (matrix) polynomial with degree at most $N-1$."
   ]
  }
 ],
 "metadata": {
  "kernelspec": {
   "display_name": "Python 3 (ipykernel)",
   "language": "python",
   "name": "python3"
  },
  "language_info": {
   "codemirror_mode": {
    "name": "ipython",
    "version": 3
   },
   "file_extension": ".py",
   "mimetype": "text/x-python",
   "name": "python",
   "nbconvert_exporter": "python",
   "pygments_lexer": "ipython3",
   "version": "3.7.13"
  }
 },
 "nbformat": 4,
 "nbformat_minor": 5
}
