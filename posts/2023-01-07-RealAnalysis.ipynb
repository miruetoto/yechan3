{
 "cells": [
  {
   "cell_type": "raw",
   "id": "4f9a151d-ba0a-4265-bb69-a7393ce6c1f9",
   "metadata": {},
   "source": [
    "---\n",
    "title: \"해석학\"\n",
    "author: \"신록예찬\"\n",
    "date: \"01/07/2022\"\n",
    "---"
   ]
  },
  {
   "cell_type": "markdown",
   "id": "3e5d4c00-c22f-4e00-a209-f55ecbb2a709",
   "metadata": {},
   "source": [
    "# 아르키메데스 성질 "
   ]
  },
  {
   "cell_type": "markdown",
   "id": "7ff2bd90-7b33-40ea-8f8e-709df9fc08ae",
   "metadata": {},
   "source": [
    "이걸 증명하려면 자연수를 정의하는 페아노공리를 알아야함. "
   ]
  },
  {
   "cell_type": "markdown",
   "id": "b23c40a4-0ffa-4b38-a344-9cab02eb27da",
   "metadata": {},
   "source": [
    "그리고 그 공리로부터 유도되는 여러가지 자연수 성질중 하나인 자연수 집합은 위로 유계가 아니라는 사실을 알아야함. "
   ]
  },
  {
   "cell_type": "markdown",
   "id": "85bad3e5-1524-4033-9ba3-6ce9c51014e7",
   "metadata": {},
   "source": [
    "아르키메데스성질: For all $x \\in \\mathbb{R}$ there exists $N \\in \\mathbb{N}$ such that $x<N$."
   ]
  },
  {
   "cell_type": "markdown",
   "id": "99e961ed-3566-4ad3-b769-c493a2646865",
   "metadata": {},
   "source": [
    "- 아무 실수나 잡으면 그 숫자보다 큰 자연수가 존재한다는 의미 \n",
    "- 아르키메데스 성질은 완비성공리로부터 증명가능함. "
   ]
  },
  {
   "cell_type": "markdown",
   "id": "c96962c2-d61e-4632-ad25-a62db7c82916",
   "metadata": {},
   "source": [
    "아르키메데스 성질을 이용하면 임의의 $\\epsilon$보다 작은 $\\frac{1}{N}$을 항상 잡을수 있다. 즉 모든 $\\epsilon>0$ 에 대하여 $0\\leq \\frac{1}{N} < \\epsilon$ 을 만족하는 $N$이 항상 존재함을 알 수 있다. "
   ]
  },
  {
   "cell_type": "markdown",
   "id": "64eac9ec-39c3-484e-a4fe-bb05c80c3470",
   "metadata": {},
   "source": [
    "(예제) 아래를 증명하라. \n",
    "\n",
    "$$\\lim_{n\\to \\infty}\\frac{4n}{2n+1}=2$$"
   ]
  },
  {
   "cell_type": "markdown",
   "id": "17a07c9c-6c9f-4ca8-96b6-c99311bd601e",
   "metadata": {},
   "source": [
    "(풀이) 모든 $\\epsilon>0$에 대하여 아래가 항상 성립함을 보이면 된다. \n",
    "\n",
    "$$\\exists N \\in \\mathbb{N} \\quad \\text{such that} \\quad n \\geq N \\Rightarrow 0\\leq \\left |\\frac{4n}{2n+1}-2 \\right|<\\epsilon$$ "
   ]
  },
  {
   "cell_type": "markdown",
   "id": "668c0e67-4aed-46e5-96ca-99bde3d75efe",
   "metadata": {},
   "source": [
    "그런데 $|\\frac{4n}{2n+1}-2|\\leq \\frac{1}{n}$ 이므로 우리는 모든 $\\epsilon >0$에 대하여 아래가 성립함을 보이면 된다. "
   ]
  },
  {
   "cell_type": "markdown",
   "id": "5cde6fe9-bd15-43ca-aa45-dcc1807d39ed",
   "metadata": {},
   "source": [
    "$$\\exists N \\in \\mathbb{N} \\quad \\text{such that} \\quad n \\geq N \\Rightarrow 0\\leq \\frac{1}{n} <\\epsilon$$ "
   ]
  },
  {
   "cell_type": "markdown",
   "id": "e22768c6-f66a-4324-9a3b-34f1387e9c58",
   "metadata": {},
   "source": [
    "그런데 $n\\geq N$이라는 조건하에서는 $\\frac{1}{n} \\leq  \\frac{1}{N}$ 이므로 우리는 다시 모든 $\\epsilon>0$에 대하여 아래가 성립함을 보이면 된다. "
   ]
  },
  {
   "cell_type": "markdown",
   "id": "b3f751bf-372c-4605-b1f5-494b04f4581c",
   "metadata": {},
   "source": [
    "$$\\exists N \\in \\mathbb{N} \\quad \\text{such that} \\quad 0 \\leq \\frac{1}{N} <\\epsilon$$ "
   ]
  },
  {
   "cell_type": "markdown",
   "id": "52b4df09-0503-4a3c-9b90-f34c5b7f3316",
   "metadata": {},
   "source": [
    "이러한 $N$은 아르키메데스의 성질에 의하여 항상 존재한다. "
   ]
  },
  {
   "cell_type": "markdown",
   "id": "6bbfb5bb-31ec-45fd-b0a2-8e2c432781fa",
   "metadata": {},
   "source": [
    "# 조밀성 "
   ]
  },
  {
   "cell_type": "markdown",
   "id": "2179b413-bed4-4387-90ac-328b40492aef",
   "metadata": {},
   "source": [
    "(정리) 유리수의 조밀성: \n",
    "\n",
    "$$\\forall a,b \\in \\mathbb{R},~ a<b \\Rightarrow \\exists r \\in \\mathbb{Q} \\quad s.t. \\quad a<r<b$$"
   ]
  },
  {
   "cell_type": "markdown",
   "id": "3c2a7f93-7dcc-45d3-b4ae-7d24c03136df",
   "metadata": {},
   "source": [
    "(정리) 무리수의 조밀성: \n",
    "\n",
    "$$\\forall a,b \\in \\mathbb{R},~ a<b \\Rightarrow \\exists s \\in \\mathbb{R}-\\mathbb{Q} \\quad s.t. \\quad a<s<b$$"
   ]
  },
  {
   "cell_type": "markdown",
   "id": "5c1f530e-c842-4c7f-b31e-8d065b740b2b",
   "metadata": {},
   "source": [
    "# 실수"
   ]
  },
  {
   "cell_type": "markdown",
   "id": "ae9c5148-2b87-4648-98ad-13c2dc28f226",
   "metadata": {},
   "source": [
    "## 체 공리 "
   ]
  },
  {
   "cell_type": "markdown",
   "id": "c6365b86-6547-4871-aecf-8cb42a6da578",
   "metadata": {},
   "source": [
    "`-` 실수는 더하기와 곱셈이라는 연산이 합리적으로 정리되는 집합이라는 의미"
   ]
  },
  {
   "cell_type": "markdown",
   "id": "8b11f991-d5dd-4a13-a422-74152a5a0585",
   "metadata": {},
   "source": [
    "## 순서 공리 "
   ]
  },
  {
   "cell_type": "markdown",
   "id": "16d36451-4252-421c-9621-7a8275cfcc74",
   "metadata": {},
   "source": [
    "`-` 순서공리에 의하여 부등식이 정의됨"
   ]
  },
  {
   "cell_type": "markdown",
   "id": "d3335851-17c2-4379-ab8c-afbf650380a8",
   "metadata": {},
   "source": [
    "`-` 3분성질 "
   ]
  },
  {
   "cell_type": "markdown",
   "id": "95369921-6fdf-4214-886e-e9466a99c434",
   "metadata": {},
   "source": [
    "# 완비성공리 "
   ]
  },
  {
   "cell_type": "markdown",
   "id": "3c5d7785-24a5-423b-9400-4117ec786833",
   "metadata": {},
   "source": [
    "유리수와 무리수는 모두 조밀하지만 빈틈이 있는데, 실수는 그런 빈틈도 없다. 그걸 완비라고 한다. "
   ]
  },
  {
   "cell_type": "markdown",
   "id": "a9ebe177-1a7a-4809-814e-be381bbb2c94",
   "metadata": {},
   "source": [
    "이걸 수학적으로 표현하는 방법? 위로 유계인 $\\mathbb{R}$의 공집합이 아닌 부분집합은 반드시 sup을 가진다. "
   ]
  },
  {
   "cell_type": "markdown",
   "id": "2f0a9d52-afb4-4ffc-a517-a027a4e03cd0",
   "metadata": {},
   "source": [
    "완비성공리 - 단조수렴정리 - 축소구간정리 - 볼차노바이어슈트라스 - 하이네보렐정리 "
   ]
  },
  {
   "cell_type": "markdown",
   "id": "165486a0-fa79-4862-a83e-3685ae63e14e",
   "metadata": {},
   "source": [
    "유리수집합은 완비성공리를 만족하지 않음 "
   ]
  },
  {
   "cell_type": "code",
   "execution_count": null,
   "id": "a4367ea6-1c68-457b-9ccc-e1b09d553624",
   "metadata": {},
   "outputs": [],
   "source": []
  },
  {
   "cell_type": "code",
   "execution_count": null,
   "id": "318f5596-b565-4c9b-bd3c-5d8db2ca350f",
   "metadata": {},
   "outputs": [],
   "source": []
  },
  {
   "cell_type": "code",
   "execution_count": null,
   "id": "ff9efcb5-f36c-4b1e-babe-17a55a352f0e",
   "metadata": {},
   "outputs": [],
   "source": []
  },
  {
   "cell_type": "markdown",
   "id": "a637de6b-5d71-43cd-a5f5-8d9734d66459",
   "metadata": {},
   "source": [
    "실수는 순서,완비,체 "
   ]
  },
  {
   "cell_type": "markdown",
   "id": "6e977686-29ce-49b8-a63c-f94fdebde0f3",
   "metadata": {},
   "source": [
    "완비성공리: 위로 유계인 집합은 반드시 sup이 존재하고, 아래로 유계인 집합은 반드시 inf가 존재한다. $\\to$ 내가 원하는 그 값이 존재한다는 것이 완비성 공리임. 실수라는 직선에는 내가 원하는 그 실수가 반드시 존재한다는 것이 완비성 공리이다. 이게 직관적으로 이해되지 않으면 데데킨트 컷, 축소공리를 살펴볼 것 "
   ]
  },
  {
   "cell_type": "markdown",
   "id": "18bc9b2f-dc05-4ab0-996a-9c94f6bad4e9",
   "metadata": {},
   "source": [
    "완비성공리를 가정하면 $\\epsilon$을 가지고 놀 수 있음. "
   ]
  },
  {
   "cell_type": "markdown",
   "id": "518339fa-5b99-4eff-aab9-b0b3235761ec",
   "metadata": {},
   "source": [
    "예를들면 $\\forall \\epsilon>0,~ 0\\leq a < \\epsilon  \\Leftrightarrow  a=0$"
   ]
  },
  {
   "cell_type": "markdown",
   "id": "4eda204f-de7c-40dc-9f61-3798c90f98f3",
   "metadata": {},
   "source": [
    "이 정리는 무한소의 개념이 실수체계에서 존재불가능함을 보여준다. 무한소는 예전에 미분을 설명하기 위한 도구였고 현재는 무한소의 개념은 극한으로 대체되었다. (즉 미적분은 극한으로 정의한다) 다만 초실수체에서 무한소로써 미적분을 설명할 수 있는데 이를 비표준해석학 혹은 무한소해석학이라고 한다. "
   ]
  },
  {
   "cell_type": "markdown",
   "id": "47086df3-48c0-4a1b-bd1c-20d238b8bc08",
   "metadata": {},
   "source": [
    "초실수체는 무리수의 조밀성, 실수의 조밀성을 만족하지 않음. 즉 실수체는 완비순서체이며 초실수체는 순서체이다. "
   ]
  },
  {
   "cell_type": "markdown",
   "id": "2071ee23-c0ad-483e-b622-16d8150f061b",
   "metadata": {},
   "source": [
    "조밀성과 완비성은 좀 다름 이것은 조밀성의 예제임. (이상엽)"
   ]
  },
  {
   "cell_type": "markdown",
   "id": "9493f30a-f1fd-4be8-bba0-87fcec1d0597",
   "metadata": {},
   "source": [
    "# 부분수열 "
   ]
  },
  {
   "cell_type": "markdown",
   "id": "66bd8cba-193b-4c11-b066-42c82c768716",
   "metadata": {},
   "source": [
    "유계인 수열 "
   ]
  },
  {
   "cell_type": "markdown",
   "id": "3489f96d-2775-4639-8f6f-aeba6c033aea",
   "metadata": {},
   "source": [
    "`(1)` 수렴하는 수열은 모두 유계수열이다. "
   ]
  },
  {
   "cell_type": "markdown",
   "id": "19298e37-02a9-4b45-82f7-c6e6177fe49e",
   "metadata": {},
   "source": [
    "`(2)` 단조증가하고 유계인 수열은 수렴한다. "
   ]
  },
  {
   "cell_type": "markdown",
   "id": "a0f0b932-156e-4557-87a4-9dccc2b21970",
   "metadata": {},
   "source": [
    "# 볼차노-바이어슈트라스 정리 "
   ]
  },
  {
   "cell_type": "markdown",
   "id": "78f03e00-0a8f-48aa-a527-981155c138ea",
   "metadata": {},
   "source": [
    "유계인 실수열이 있으면 반드시 수렴하는 부분수열이 존재한다. "
   ]
  },
  {
   "cell_type": "markdown",
   "id": "e4679e98-3c32-47b9-832c-01a5b92f6456",
   "metadata": {},
   "source": [
    "문제를 해결해야할때 수렴하는 수열이 필요한 경우가 있어. 그런데 그 수열이 존재하는 것을 보이는 것이 막막한데 이때 볼차노-바이어슈트라스 정리를 이용하면 좋다. "
   ]
  },
  {
   "cell_type": "markdown",
   "id": "d9514f4e-579d-4295-9ca8-f84a8cc14954",
   "metadata": {},
   "source": [
    "볼차노-바이어슈트라스 정리는 완비성 공리와 동치이다. "
   ]
  },
  {
   "cell_type": "markdown",
   "id": "fcae4b9a-184b-4f60-ba5d-686786a15f33",
   "metadata": {},
   "source": [
    "# 코시수열 "
   ]
  },
  {
   "cell_type": "markdown",
   "id": "826bdc94-2071-431c-bee7-5205789f6b47",
   "metadata": {},
   "source": [
    "수렴하는 수열은 코시수열이다. 그리고 코시수열이면 수렴하는 수열이다. "
   ]
  },
  {
   "cell_type": "markdown",
   "id": "19cc14c8-7887-420e-80c6-69507b6bce52",
   "metadata": {},
   "source": [
    "# 집적점"
   ]
  },
  {
   "cell_type": "markdown",
   "id": "780b294a-71e9-4b46-97df-ac6950cdff12",
   "metadata": {},
   "source": [
    "집적점 근처에는 아무리 작은 $\\epsilon$ 반경을 잡아도, 그 안에는 반드시 원소가 하나 있음 "
   ]
  },
  {
   "cell_type": "markdown",
   "id": "e31ff4af-c4e5-466e-b63d-1c8b9816975e",
   "metadata": {},
   "source": [
    "집적접은 반드시 해당집합에 존재하지 않아도 무관함. 예를들어 $3$은 구간 $[1,3)$의 집적점이지만 구간 $[1,3)$에 존재하지 않음. "
   ]
  },
  {
   "cell_type": "markdown",
   "id": "94182f2c-26f7-4599-9a0c-d73bfd6cf24d",
   "metadata": {},
   "source": [
    "\n",
    "집합 $\\{\\frac{1}{n}: n \\in \\mathbb{R}\\}$은 0을 집적점으로 가진다. "
   ]
  },
  {
   "cell_type": "markdown",
   "id": "f136fd66-ca72-48c7-922a-c7ac2d10f3a2",
   "metadata": {},
   "source": [
    "# 함수의 극한"
   ]
  },
  {
   "cell_type": "markdown",
   "id": "eace83e5-cfcc-4581-84d4-5591e901fc07",
   "metadata": {},
   "source": [
    "$\\lim_{x \\to a}f(x) = L$의 의미를 정의하고자 한다. 우선 $f: D \\to \\mathbb{R}, a\\in D, L\\in \\mathbb{R}$ 이라고 하자. 즉 함수 $f$는 $D$에서 정의되고 $a$는 $D$의 원소이며 $L$은 임의의 실수^[$D$의 원소일 필요 X]를 가정한다. "
   ]
  },
  {
   "cell_type": "markdown",
   "id": "57f5ec81-5bcf-427a-afec-5e717373f6fe",
   "metadata": {},
   "source": [
    "$$\\forall \\epsilon >0 ~ \\exists \\delta>0 \\quad s.t. \\quad \\forall x \\in D, ~ 0 < |x-a| < \\delta \\Rightarrow |f(x)-L|<\\epsilon$$"
   ]
  },
  {
   "cell_type": "markdown",
   "id": "73c16208-de3f-4f12-94fb-f43b888caaf9",
   "metadata": {},
   "source": [
    "이 성립하면 $f$는 $x=a$에서 극한(값) $L$로 수렴한다고 하고 $\\lim_{x \\to a}f(x)=L$로 표기한다. "
   ]
  },
  {
   "cell_type": "markdown",
   "id": "4e914f23-9836-4241-8a21-5645aa993117",
   "metadata": {},
   "source": [
    "쉽게 생각하면 $y$축의 모든 open-set에 대하여^[for all openset in $\\mathbb{R}$] mapping $f$의 inverse-image^[당연히 이 inverse image는 $x$축에 있겠지] 가 $D$의 open-subset 이라면 $f$가 연속이다. "
   ]
  },
  {
   "cell_type": "code",
   "execution_count": null,
   "id": "837f6acf-f5fb-410e-b85a-00eb00a02ba6",
   "metadata": {},
   "outputs": [],
   "source": []
  },
  {
   "cell_type": "markdown",
   "id": "dcb1a674-c969-43a4-ab71-7fcfe99d3295",
   "metadata": {},
   "source": [
    "$$\\forall \\epsilon>0, \\exists N \\in \\mathbb{R} \\quad s.t. \\quad x \\geq N \\Rightarrow |f(x)-L|<\\epsilon$$ "
   ]
  },
  {
   "cell_type": "markdown",
   "id": "b599bfe8-2e4a-4394-933c-93f3ceac27e5",
   "metadata": {},
   "source": [
    "정리: (극한의 유일성) $\\lim_{x\\to a} f(x)$의 극한값이 존재하면 그 극한 값은 유일하다. "
   ]
  },
  {
   "cell_type": "code",
   "execution_count": null,
   "id": "b547e016-88dc-41bb-909f-922f056f61d0",
   "metadata": {},
   "outputs": [],
   "source": []
  },
  {
   "cell_type": "markdown",
   "id": "1c94fb82",
   "metadata": {},
   "source": [
    "# 함수의 연속"
   ]
  },
  {
   "cell_type": "markdown",
   "id": "429386f9-aaf0-4967-a4b8-e38e8fd0af22",
   "metadata": {},
   "source": [
    "함수 $f$가 $X$의 모든점에서 연속이며 $f$는 $X$에서 연속이라 한다. "
   ]
  },
  {
   "cell_type": "markdown",
   "id": "e16f6c1d-ba19-43a5-859b-0180445303c4",
   "metadata": {},
   "source": [
    "함수 $f$가 정의역의 모든점에서 연속이면 $f$를 연속함수라 한다. "
   ]
  },
  {
   "cell_type": "markdown",
   "id": "f913354c",
   "metadata": {},
   "source": [
    "## 디리클레함수"
   ]
  },
  {
   "cell_type": "markdown",
   "id": "8a0803b9",
   "metadata": {},
   "source": [
    "모든 점에서 불연속인 함수임 "
   ]
  },
  {
   "cell_type": "markdown",
   "id": "6fbf8106",
   "metadata": {},
   "source": [
    "## Thomae 함수 "
   ]
  },
  {
   "cell_type": "markdown",
   "id": "baf88764",
   "metadata": {},
   "source": [
    "유리수에서는 불연속, 무리수에서는 연속 "
   ]
  },
  {
   "cell_type": "markdown",
   "id": "23cc5345",
   "metadata": {},
   "source": [
    "## 합성함수의 연속 "
   ]
  },
  {
   "cell_type": "markdown",
   "id": "e32efb6b",
   "metadata": {},
   "source": [
    "함수 $f(x)$와 $g(x)$가 모두 $x=c$에서 연속이면 함수 $(f\\circ g)(x)$ 혹은 $(g \\circ f)(x)$도 $x=c$에서 연속이다. "
   ]
  },
  {
   "cell_type": "markdown",
   "id": "434b4740",
   "metadata": {},
   "source": [
    "## 중간값정리 $\\Leftrightarrow$ 완비성공리"
   ]
  },
  {
   "cell_type": "markdown",
   "id": "0ec182b2",
   "metadata": {},
   "source": [
    "# 균등연속 "
   ]
  },
  {
   "cell_type": "markdown",
   "id": "fb7e8720",
   "metadata": {},
   "source": [
    "(예제1) $f(x)=x$는 균등연속인 함수이다. "
   ]
  },
  {
   "cell_type": "markdown",
   "id": "1fce994a",
   "metadata": {},
   "source": [
    "(예제2) $f(x)=\\frac{1}{x}$는 균등연속이 아닌 함수이다. "
   ]
  },
  {
   "cell_type": "markdown",
   "id": "c1b2ef61",
   "metadata": {},
   "source": [
    "## 균등연속임을 판단하는 방법"
   ]
  },
  {
   "cell_type": "markdown",
   "id": "d0b50a9f",
   "metadata": {},
   "source": [
    "1. 립쉬츠조건: 어떠한 함수 $f$가 $|f(x)-f(u)|\\leq K|x-u|$를 만족하면 이러한 함수는 균등연속이다. $\\delta=\\frac{\\epsilon}{K}$ 로만 선택하면 되므로 \n"
   ]
  },
  {
   "cell_type": "markdown",
   "id": "c6b54c96",
   "metadata": {},
   "source": [
    "2. $f(x)$가 연속이라고하자. $f(x)$의 정의역이 유계폐구간이면 함수 $f$는 균등연속이라 주장할 수 있다. 만약에 $f(x)$의 정의역이 개구간이면 구간의 양 끝점에서의 극한이 존재할때 $f$를 균등연속이라고 주장할 수 있다. "
   ]
  },
  {
   "cell_type": "markdown",
   "id": "a8e6825d",
   "metadata": {},
   "source": [
    "3. $f(x)$가 개구간에서 정의된 경우"
   ]
  },
  {
   "cell_type": "markdown",
   "id": "b4ca7805",
   "metadata": {},
   "source": [
    "## 균등연속이 아님을 판단하는 방법 "
   ]
  },
  {
   "cell_type": "markdown",
   "id": "7ad9c225",
   "metadata": {},
   "source": [
    "1. 어떠한 $\\epsilon_0>0$가 존재하여, 내가 $\\delta$를 어떻게 잡든 $|x-u|<\\delta$ and $|f(x)-f(u)|\\geq\\epsilon_0$ 를 만족하는 $x$와 $u$가 존재하면 균등연속이 아니다. "
   ]
  },
  {
   "cell_type": "markdown",
   "id": "20cf31d6",
   "metadata": {},
   "source": [
    "2. $\\lim_{n\\to\\infty}(x_n-u_n)=0$ 이지만 $|f(x_n)-f(u_n)| \\geq \\epsilon_0$ 임을 확인하면 균등연속이 아니다. 즉 $x$축에서는 수렴하는 두개의 수열이 함수를 태우면 수렴하지 않는 경우 "
   ]
  },
  {
   "cell_type": "markdown",
   "id": "e79e5021",
   "metadata": {},
   "source": [
    "## 균등연속의 특징 "
   ]
  },
  {
   "cell_type": "markdown",
   "id": "67a17970",
   "metadata": {},
   "source": [
    "코시수열을 보존한다. 즉 $x_n$이 코시수열이고 함수 $f$가 균등연속이면 $f(x_n)$역시 코시수열이다. "
   ]
  },
  {
   "cell_type": "markdown",
   "id": "1b17f9d8",
   "metadata": {},
   "source": [
    "연속확장정리: 개구간에서의 균등연속을 사용하고 싶음. $f(x)$가 개구간 $(a,b)$에서 연속이고 양 끝점, 즉 $a$, $b$에서의 극한이 존재하면 $f(x)$는 균등연속이다. "
   ]
  },
  {
   "cell_type": "markdown",
   "id": "c6e8dffb",
   "metadata": {},
   "source": [
    "**균등연속의 아이디어**: x축에서 수렴하던 어떤애가 y축에서도 수렴했으면 좋겠음. (이게 원래 안되는 건데요, 균등연속일때는 가능합니다)"
   ]
  },
  {
   "cell_type": "markdown",
   "id": "8a9ac4e8-a4b4-4924-8380-be8de057e28f",
   "metadata": {
    "vscode": {
     "languageId": "python"
    }
   },
   "source": [
    "# Caratheodory lemma"
   ]
  },
  {
   "cell_type": "markdown",
   "id": "c1f423d4-ea51-4d46-8452-bf083ccf0f16",
   "metadata": {},
   "source": [
    "## 모티브 "
   ]
  },
  {
   "cell_type": "markdown",
   "id": "af2fd177-5698-4c8d-b847-d0d42d535fdf",
   "metadata": {},
   "source": [
    "아래와 같은 합성함수의 미분을 생각하여 보자.^[사실 우리는 이미 답이 $f'\\big(g(c)\\big)\\cdot g'(c)$ 임을 알고 있다.]"
   ]
  },
  {
   "cell_type": "markdown",
   "id": "83d036d1-3f6e-4d2d-a267-c44119ac2354",
   "metadata": {},
   "source": [
    "$$(f\\circ g)'(c) = \\lim_{x\\to c}\\frac{f(g(x))-f(g(c))}{x-c}$$"
   ]
  },
  {
   "cell_type": "markdown",
   "id": "c4df5e9a-4813-49c6-9e9d-ced499018caa",
   "metadata": {},
   "source": [
    "(풀이1)"
   ]
  },
  {
   "cell_type": "markdown",
   "id": "56b24c10-30b5-4998-b549-fb342b299d00",
   "metadata": {},
   "source": [
    "고등학교 수준에서는 이것을 아래와 같이 쓸 수 있다. "
   ]
  },
  {
   "cell_type": "markdown",
   "id": "2e2d7620-e0ec-4de6-b6c2-5df4f22ce9bf",
   "metadata": {},
   "source": [
    "$$\\lim_{x\\to c}\\frac{f(g(x))-f(g(c))}{x-c}=\\lim_{x\\to c}\\left(\\frac{f(g(x))-f(g(c))}{g(x)-g(c)}\\frac{g(x)-g(c)}{x-c}\\right)=f'\\big(g(c)\\big)\\cdot g'(c)$$"
   ]
  },
  {
   "cell_type": "markdown",
   "id": "16799019-16ba-43a3-880f-bd5ec2f5ec5b",
   "metadata": {},
   "source": [
    "(아쉬움)"
   ]
  },
  {
   "cell_type": "markdown",
   "id": "19c18510-fd1e-4a83-8100-7f990a69c802",
   "metadata": {},
   "source": [
    "이 증명의 단점은 $g(x)-g(c)\\neq 0$이라는 조건이 필요하다는 것이다. 이 조건을 제외할 수는 없을까? 그리스 수학자인 카라테오도리(Caratheodory)는 아래와 같은 명제를 발견하였다. \n",
    "\n",
    "(명제) $f(x)$ 가 $x=c$ 에서 미분가능하다 $\\Longleftrightarrow$ 적당한 연속함수 $\\varphi(x)$ 가 존재하여 (i) $\\varphi(x)$ 는 $x=c$ 에서 미분가능하고 (ii) $f(x)-f(c)=\\varphi(c)(x-c)$ 이다. "
   ]
  },
  {
   "cell_type": "markdown",
   "id": "66c9e011-bf13-41e9-9dd0-23ad9e09ccd8",
   "metadata": {},
   "source": [
    "이것을 이용하면 합성함수의 미분을 다시 풀어보자. "
   ]
  },
  {
   "cell_type": "markdown",
   "id": "83eabf41-ebf6-40e2-b719-6c54fa0b8f22",
   "metadata": {},
   "source": [
    "(풀이2)"
   ]
  },
  {
   "cell_type": "markdown",
   "id": "3bb0ffb5-9b94-4acd-9f24-76f46515c9a5",
   "metadata": {},
   "source": [
    "먼저 $g(x)$ 는 $x=c$ 에서 미분가능하다라는 조건은 아래와 같이 표현할 수 있다. "
   ]
  },
  {
   "cell_type": "markdown",
   "id": "82144c1d-7f58-433f-98a3-7cc1973572d5",
   "metadata": {},
   "source": [
    "- $g(x)$ 가 $x=c$ 에서 미분가능하다 $\\Leftrightarrow$ $g(x)-g(c)=\\varphi(c)(x-c)$"
   ]
  },
  {
   "cell_type": "markdown",
   "id": "34f70b63-ecb1-46c4-8cf4-9c7369cb1edd",
   "metadata": {},
   "source": [
    "또한 $(f\\circ g)(x)=f(g(x))$ 는 $x=g(c)$ 에서 미분가능하다라는 조건은 아래와 같이 표현할 수 있다. "
   ]
  },
  {
   "cell_type": "markdown",
   "id": "f629deac-2b8f-48be-8d05-13077006bd13",
   "metadata": {},
   "source": [
    "- $(f\\circ g)(x)$ 가 $x=g(c)$ 에서 미분가능하다 $\\Leftrightarrow$ $f(g(x))-f(g(c))=\\psi(g(c))(g(x)-g(c))$"
   ]
  },
  {
   "cell_type": "code",
   "execution_count": null,
   "id": "531c0b21-74d6-490a-9f81-621a8a7d5a64",
   "metadata": {},
   "outputs": [],
   "source": [
    "# "
   ]
  }
 ],
 "metadata": {
  "kernelspec": {
   "display_name": "Julia 1.7.2",
   "language": "julia",
   "name": "julia-1.7"
  },
  "language_info": {
   "file_extension": ".jl",
   "mimetype": "application/julia",
   "name": "julia",
   "version": "1.7.2"
  }
 },
 "nbformat": 4,
 "nbformat_minor": 5
}
