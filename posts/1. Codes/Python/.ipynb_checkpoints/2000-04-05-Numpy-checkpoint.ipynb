{
 "cells": [
  {
   "cell_type": "raw",
   "id": "3d421671-96af-4a29-9eff-3347e8040cda",
   "metadata": {
    "tags": []
   },
   "source": [
    "---\n",
    "title: \"Numpy\"\n",
    "author: \"신록예찬\"\n",
    "date: \"04/05/2000\"\n",
    "---"
   ]
  },
  {
   "cell_type": "markdown",
   "id": "07f6df20-f11b-4685-b670-02f1c19d6d72",
   "metadata": {
    "tags": []
   },
   "source": [
    "# import "
   ]
  },
  {
   "cell_type": "code",
   "execution_count": 1,
   "id": "8330e6a7-2da0-486f-907d-1b36e56100d1",
   "metadata": {},
   "outputs": [],
   "source": [
    "import numpy as np"
   ]
  },
  {
   "cell_type": "markdown",
   "id": "1a44fac5-a44d-4ca4-b2fc-c0b3098fa177",
   "metadata": {},
   "source": [
    "# numpy공부 1단계"
   ]
  },
  {
   "cell_type": "markdown",
   "id": "a5141494-f211-40be-819c-554bdbb631c0",
   "metadata": {},
   "source": [
    "## 선언 "
   ]
  },
  {
   "cell_type": "code",
   "execution_count": 2,
   "id": "fb367aa3-3cd8-490e-a4ee-217feafc83bf",
   "metadata": {},
   "outputs": [],
   "source": [
    "a=np.array([1,2,3]) # list를 선언하고 np.array화 \n",
    "l=[1,2,3]"
   ]
  },
  {
   "cell_type": "markdown",
   "id": "ed8fe14e-281e-4366-93a0-4cc3325dba2c",
   "metadata": {},
   "source": [
    "## 기본연산 브로드캐스팅 "
   ]
  },
  {
   "cell_type": "code",
   "execution_count": 3,
   "id": "a1e0d918-9c7b-4aff-b0b9-87e8dcbf4738",
   "metadata": {},
   "outputs": [
    {
     "data": {
      "text/plain": [
       "array([2, 3, 4])"
      ]
     },
     "execution_count": 3,
     "metadata": {},
     "output_type": "execute_result"
    }
   ],
   "source": [
    "a+1"
   ]
  },
  {
   "cell_type": "code",
   "execution_count": 4,
   "id": "bc6626ed-bde9-4f75-b05a-3734f5ad4d0f",
   "metadata": {},
   "outputs": [
    {
     "ename": "TypeError",
     "evalue": "can only concatenate list (not \"int\") to list",
     "output_type": "error",
     "traceback": [
      "\u001b[0;31m---------------------------------------------------------------------------\u001b[0m",
      "\u001b[0;31mTypeError\u001b[0m                                 Traceback (most recent call last)",
      "Input \u001b[0;32mIn [4]\u001b[0m, in \u001b[0;36m<cell line: 1>\u001b[0;34m()\u001b[0m\n\u001b[0;32m----> 1\u001b[0m \u001b[43ml\u001b[49m\u001b[38;5;241;43m+\u001b[39;49m\u001b[38;5;241;43m1\u001b[39;49m\n",
      "\u001b[0;31mTypeError\u001b[0m: can only concatenate list (not \"int\") to list"
     ]
    }
   ],
   "source": [
    "l+1"
   ]
  },
  {
   "cell_type": "code",
   "execution_count": null,
   "id": "62737459-89ef-400f-b1fb-b97a4710127e",
   "metadata": {},
   "outputs": [],
   "source": [
    "a*2"
   ]
  },
  {
   "cell_type": "code",
   "execution_count": null,
   "id": "860d0f80-4703-497f-a688-c7873e2fcdc0",
   "metadata": {},
   "outputs": [],
   "source": [
    "l*2"
   ]
  },
  {
   "cell_type": "code",
   "execution_count": 5,
   "id": "55117e18-67f5-4fb6-83e1-598c2a351908",
   "metadata": {},
   "outputs": [
    {
     "data": {
      "text/plain": [
       "array([0.5, 1. , 1.5])"
      ]
     },
     "execution_count": 5,
     "metadata": {},
     "output_type": "execute_result"
    }
   ],
   "source": [
    "a/2"
   ]
  },
  {
   "cell_type": "code",
   "execution_count": 6,
   "id": "a23d57ae-42cd-4eb3-8e90-ce54a19819e0",
   "metadata": {},
   "outputs": [
    {
     "ename": "TypeError",
     "evalue": "unsupported operand type(s) for /: 'list' and 'int'",
     "output_type": "error",
     "traceback": [
      "\u001b[0;31m---------------------------------------------------------------------------\u001b[0m",
      "\u001b[0;31mTypeError\u001b[0m                                 Traceback (most recent call last)",
      "Input \u001b[0;32mIn [6]\u001b[0m, in \u001b[0;36m<cell line: 1>\u001b[0;34m()\u001b[0m\n\u001b[0;32m----> 1\u001b[0m \u001b[43ml\u001b[49m\u001b[38;5;241;43m/\u001b[39;49m\u001b[38;5;241;43m2\u001b[39;49m\n",
      "\u001b[0;31mTypeError\u001b[0m: unsupported operand type(s) for /: 'list' and 'int'"
     ]
    }
   ],
   "source": [
    "l/2"
   ]
  },
  {
   "cell_type": "code",
   "execution_count": 7,
   "id": "2bba9dd5-3fc6-4475-ac38-10031a90c4c4",
   "metadata": {},
   "outputs": [
    {
     "data": {
      "text/plain": [
       "array([-1,  0,  1])"
      ]
     },
     "execution_count": 7,
     "metadata": {},
     "output_type": "execute_result"
    }
   ],
   "source": [
    "a-2"
   ]
  },
  {
   "cell_type": "code",
   "execution_count": 8,
   "id": "39993570-aa09-4c2b-99f4-b6c2e89c20be",
   "metadata": {},
   "outputs": [
    {
     "ename": "TypeError",
     "evalue": "unsupported operand type(s) for -: 'list' and 'int'",
     "output_type": "error",
     "traceback": [
      "\u001b[0;31m---------------------------------------------------------------------------\u001b[0m",
      "\u001b[0;31mTypeError\u001b[0m                                 Traceback (most recent call last)",
      "Input \u001b[0;32mIn [8]\u001b[0m, in \u001b[0;36m<cell line: 1>\u001b[0;34m()\u001b[0m\n\u001b[0;32m----> 1\u001b[0m \u001b[43ml\u001b[49m\u001b[38;5;241;43m-\u001b[39;49m\u001b[38;5;241;43m2\u001b[39;49m\n",
      "\u001b[0;31mTypeError\u001b[0m: unsupported operand type(s) for -: 'list' and 'int'"
     ]
    }
   ],
   "source": [
    "l-2"
   ]
  },
  {
   "cell_type": "code",
   "execution_count": 9,
   "id": "1335d6cc-432d-47b6-a175-bdf01e5f4d32",
   "metadata": {},
   "outputs": [
    {
     "data": {
      "text/plain": [
       "array([1, 4, 9])"
      ]
     },
     "execution_count": 9,
     "metadata": {},
     "output_type": "execute_result"
    }
   ],
   "source": [
    "a**2"
   ]
  },
  {
   "cell_type": "code",
   "execution_count": 10,
   "id": "f3c276b9-ebd3-460a-9ecd-73a1a0a1b4bb",
   "metadata": {},
   "outputs": [
    {
     "ename": "TypeError",
     "evalue": "unsupported operand type(s) for ** or pow(): 'list' and 'int'",
     "output_type": "error",
     "traceback": [
      "\u001b[0;31m---------------------------------------------------------------------------\u001b[0m",
      "\u001b[0;31mTypeError\u001b[0m                                 Traceback (most recent call last)",
      "Input \u001b[0;32mIn [10]\u001b[0m, in \u001b[0;36m<cell line: 1>\u001b[0;34m()\u001b[0m\n\u001b[0;32m----> 1\u001b[0m \u001b[43ml\u001b[49m\u001b[38;5;241;43m*\u001b[39;49m\u001b[38;5;241;43m*\u001b[39;49m\u001b[38;5;241;43m2\u001b[39;49m\n",
      "\u001b[0;31mTypeError\u001b[0m: unsupported operand type(s) for ** or pow(): 'list' and 'int'"
     ]
    }
   ],
   "source": [
    "l**2"
   ]
  },
  {
   "cell_type": "code",
   "execution_count": 11,
   "id": "793e4555-0392-4cb0-b793-d84b073b0790",
   "metadata": {},
   "outputs": [
    {
     "data": {
      "text/plain": [
       "array([1, 0, 1])"
      ]
     },
     "execution_count": 11,
     "metadata": {},
     "output_type": "execute_result"
    }
   ],
   "source": [
    "a%2 # %2 = 2로 나눈 나머지를 리턴"
   ]
  },
  {
   "cell_type": "code",
   "execution_count": 12,
   "id": "a35df604-d48f-4d9c-853e-b0cc05b23abc",
   "metadata": {},
   "outputs": [
    {
     "ename": "TypeError",
     "evalue": "unsupported operand type(s) for %: 'list' and 'int'",
     "output_type": "error",
     "traceback": [
      "\u001b[0;31m---------------------------------------------------------------------------\u001b[0m",
      "\u001b[0;31mTypeError\u001b[0m                                 Traceback (most recent call last)",
      "Input \u001b[0;32mIn [12]\u001b[0m, in \u001b[0;36m<cell line: 1>\u001b[0;34m()\u001b[0m\n\u001b[0;32m----> 1\u001b[0m \u001b[43ml\u001b[49m\u001b[38;5;241;43m%\u001b[39;49m\u001b[38;5;241;43m2\u001b[39;49m\n",
      "\u001b[0;31mTypeError\u001b[0m: unsupported operand type(s) for %: 'list' and 'int'"
     ]
    }
   ],
   "source": [
    "l%2"
   ]
  },
  {
   "cell_type": "markdown",
   "id": "cef68e4e-8da9-444a-97de-a3d7ba345869",
   "metadata": {},
   "source": [
    "## 기타수학연산지원 "
   ]
  },
  {
   "cell_type": "code",
   "execution_count": 13,
   "id": "49c409c8-3710-4e82-b520-8401421ec9ba",
   "metadata": {},
   "outputs": [
    {
     "data": {
      "text/plain": [
       "(array([1.        , 1.41421356, 1.73205081]),\n",
       " array([1.        , 1.41421356, 1.73205081]))"
      ]
     },
     "execution_count": 13,
     "metadata": {},
     "output_type": "execute_result"
    }
   ],
   "source": [
    "np.sqrt(a), np.sqrt(l)"
   ]
  },
  {
   "cell_type": "code",
   "execution_count": 14,
   "id": "5d81d63a-0e96-4f47-9f6f-e5e6c309b588",
   "metadata": {},
   "outputs": [
    {
     "data": {
      "text/plain": [
       "(array([0.        , 0.69314718, 1.09861229]),\n",
       " array([0.        , 0.69314718, 1.09861229]))"
      ]
     },
     "execution_count": 14,
     "metadata": {},
     "output_type": "execute_result"
    }
   ],
   "source": [
    "np.log(a), np.log(l)"
   ]
  },
  {
   "cell_type": "code",
   "execution_count": 15,
   "id": "10b0903d-33ff-4f99-bde6-091c8ae45341",
   "metadata": {},
   "outputs": [
    {
     "data": {
      "text/plain": [
       "(array([ 2.71828183,  7.3890561 , 20.08553692]),\n",
       " array([ 2.71828183,  7.3890561 , 20.08553692]))"
      ]
     },
     "execution_count": 15,
     "metadata": {},
     "output_type": "execute_result"
    }
   ],
   "source": [
    "np.exp(a), np.exp(l)"
   ]
  },
  {
   "cell_type": "code",
   "execution_count": 16,
   "id": "a53d06a0-4e72-4b78-a35a-b86c82d16d48",
   "metadata": {},
   "outputs": [
    {
     "data": {
      "text/plain": [
       "(array([0.84147098, 0.90929743, 0.14112001]),\n",
       " array([0.84147098, 0.90929743, 0.14112001]))"
      ]
     },
     "execution_count": 16,
     "metadata": {},
     "output_type": "execute_result"
    }
   ],
   "source": [
    "np.sin(a), np.sin(l)"
   ]
  },
  {
   "cell_type": "markdown",
   "id": "f9882ac2-d901-4990-b0cf-49b38f131336",
   "metadata": {},
   "source": [
    "# numpy공부 2단계 "
   ]
  },
  {
   "cell_type": "markdown",
   "id": "3149e57b-5bcb-4db9-a738-213a6eba639a",
   "metadata": {
    "tags": []
   },
   "source": [
    "## 인덱싱 1차원 "
   ]
  },
  {
   "cell_type": "markdown",
   "id": "651516e3-4a38-4bf5-843c-c00d05d3f54c",
   "metadata": {},
   "source": [
    "`-` 선언 "
   ]
  },
  {
   "cell_type": "code",
   "execution_count": 17,
   "id": "26da9a38-23b3-4638-b888-4fc47fe5725c",
   "metadata": {},
   "outputs": [],
   "source": [
    "l=[11,22,33,44,55,66]\n",
    "a=np.array(l)"
   ]
  },
  {
   "cell_type": "markdown",
   "id": "40a90634-203a-4382-a849-53e621b0669d",
   "metadata": {},
   "source": [
    "`-` 인덱스로 접근 "
   ]
  },
  {
   "cell_type": "code",
   "execution_count": 18,
   "id": "49a646f8-1947-4b46-996e-f716348bd65a",
   "metadata": {},
   "outputs": [
    {
     "data": {
      "text/plain": [
       "(11, 22, 33, 44, 55, 66)"
      ]
     },
     "execution_count": 18,
     "metadata": {},
     "output_type": "execute_result"
    }
   ],
   "source": [
    "l[0],l[1],l[2],l[3],l[4],l[5]"
   ]
  },
  {
   "cell_type": "code",
   "execution_count": 19,
   "id": "d180fd5d-1e09-4e55-8950-7da086fc4039",
   "metadata": {},
   "outputs": [
    {
     "data": {
      "text/plain": [
       "(11, 22, 33, 44, 55, 66)"
      ]
     },
     "execution_count": 19,
     "metadata": {},
     "output_type": "execute_result"
    }
   ],
   "source": [
    "a[0],a[1],a[2],a[3],a[4],a[5]"
   ]
  },
  {
   "cell_type": "markdown",
   "id": "2869b21a-34c9-4602-8f50-ee14d072ac69",
   "metadata": {},
   "source": [
    "`-` `:`이용 (슬라이싱) "
   ]
  },
  {
   "cell_type": "code",
   "execution_count": 20,
   "id": "e22e873d-00ba-427a-84f2-826bb2afc07f",
   "metadata": {},
   "outputs": [
    {
     "data": {
      "text/plain": [
       "[33, 44]"
      ]
     },
     "execution_count": 20,
     "metadata": {},
     "output_type": "execute_result"
    }
   ],
   "source": [
    "l[2:4] ## index=2에서 출발해서 index=4에서 멈춘다. (4는 포함하지 않음) "
   ]
  },
  {
   "cell_type": "code",
   "execution_count": 21,
   "id": "5c51a6cd-49cb-4f85-993e-4de8bfe2d557",
   "metadata": {},
   "outputs": [
    {
     "data": {
      "text/plain": [
       "array([33, 44])"
      ]
     },
     "execution_count": 21,
     "metadata": {},
     "output_type": "execute_result"
    }
   ],
   "source": [
    "a[2:4]"
   ]
  },
  {
   "cell_type": "markdown",
   "id": "cc8d69b7-4ca8-462c-9a7d-745d716ba5aa",
   "metadata": {},
   "source": [
    "`-` 정수배열에 의한 인덱싱 "
   ]
  },
  {
   "cell_type": "code",
   "execution_count": 22,
   "id": "c030038b-196c-4d68-a698-a4048b137336",
   "metadata": {},
   "outputs": [
    {
     "data": {
      "text/plain": [
       "array([11, 22, 33, 44, 55, 66])"
      ]
     },
     "execution_count": 22,
     "metadata": {},
     "output_type": "execute_result"
    }
   ],
   "source": [
    "a"
   ]
  },
  {
   "cell_type": "code",
   "execution_count": 23,
   "id": "916fe07a-a1bc-457f-aba8-7294e18e924c",
   "metadata": {},
   "outputs": [
    {
     "data": {
      "text/plain": [
       "array([11, 33, 55])"
      ]
     },
     "execution_count": 23,
     "metadata": {},
     "output_type": "execute_result"
    }
   ],
   "source": [
    "a[[0,2,4]]"
   ]
  },
  {
   "cell_type": "markdown",
   "id": "56781941-4c09-42d2-b0d4-e911a231911c",
   "metadata": {},
   "source": [
    "`-` 부울값에 의한 인덱싱 "
   ]
  },
  {
   "cell_type": "code",
   "execution_count": 24,
   "id": "827c922b-f74c-4c08-b4ee-d5629bb871a4",
   "metadata": {},
   "outputs": [
    {
     "data": {
      "text/plain": [
       "array([11, 22, 33, 44, 55, 66])"
      ]
     },
     "execution_count": 24,
     "metadata": {},
     "output_type": "execute_result"
    }
   ],
   "source": [
    "a"
   ]
  },
  {
   "cell_type": "code",
   "execution_count": 25,
   "id": "fb792c73-f124-4cec-bbed-8280a5dd45ce",
   "metadata": {},
   "outputs": [
    {
     "data": {
      "text/plain": [
       "array([11, 33, 55])"
      ]
     },
     "execution_count": 25,
     "metadata": {},
     "output_type": "execute_result"
    }
   ],
   "source": [
    "a[[True,False,True,False,True,False]]"
   ]
  },
  {
   "cell_type": "markdown",
   "id": "09da34dc-e231-4ab7-867e-ff3661763307",
   "metadata": {},
   "source": [
    "응용하면? "
   ]
  },
  {
   "cell_type": "code",
   "execution_count": 26,
   "id": "73630fd2-631e-439c-b754-af28768485fb",
   "metadata": {},
   "outputs": [
    {
     "data": {
      "text/plain": [
       "array([ True,  True, False, False, False, False])"
      ]
     },
     "execution_count": 26,
     "metadata": {},
     "output_type": "execute_result"
    }
   ],
   "source": [
    "a < 33"
   ]
  },
  {
   "cell_type": "code",
   "execution_count": 27,
   "id": "3523b977-dcde-4b58-ad69-423dbb20021a",
   "metadata": {},
   "outputs": [
    {
     "data": {
      "text/plain": [
       "array([11, 22])"
      ]
     },
     "execution_count": 27,
     "metadata": {},
     "output_type": "execute_result"
    }
   ],
   "source": [
    "a[a<33]"
   ]
  },
  {
   "cell_type": "markdown",
   "id": "54d5c43b-227d-4ab6-8164-781fdf131071",
   "metadata": {},
   "source": [
    "리스트는 불가능 "
   ]
  },
  {
   "cell_type": "code",
   "execution_count": 28,
   "id": "371f13e2-df60-4187-9003-679991a33787",
   "metadata": {},
   "outputs": [
    {
     "data": {
      "text/plain": [
       "[11, 22, 33, 44, 55, 66]"
      ]
     },
     "execution_count": 28,
     "metadata": {},
     "output_type": "execute_result"
    }
   ],
   "source": [
    "l"
   ]
  },
  {
   "cell_type": "code",
   "execution_count": 29,
   "id": "5c0696c2-4ca5-4489-a9d0-6fbdc19d8e1b",
   "metadata": {},
   "outputs": [
    {
     "ename": "TypeError",
     "evalue": "'<' not supported between instances of 'list' and 'int'",
     "output_type": "error",
     "traceback": [
      "\u001b[0;31m---------------------------------------------------------------------------\u001b[0m",
      "\u001b[0;31mTypeError\u001b[0m                                 Traceback (most recent call last)",
      "Input \u001b[0;32mIn [29]\u001b[0m, in \u001b[0;36m<cell line: 1>\u001b[0;34m()\u001b[0m\n\u001b[0;32m----> 1\u001b[0m \u001b[43ml\u001b[49m\u001b[38;5;241;43m<\u001b[39;49m\u001b[38;5;241;43m33\u001b[39;49m\n",
      "\u001b[0;31mTypeError\u001b[0m: '<' not supported between instances of 'list' and 'int'"
     ]
    }
   ],
   "source": [
    "l<33 ## 여기서부터 에러남 "
   ]
  },
  {
   "cell_type": "markdown",
   "id": "5d88c72a-a85e-48c6-b4c0-7442719951d3",
   "metadata": {
    "tags": []
   },
   "source": [
    "## 인덱싱 2차원 "
   ]
  },
  {
   "cell_type": "markdown",
   "id": "fb6df337-f5c1-45be-aee1-3bcabf60203b",
   "metadata": {},
   "source": [
    "`-` 중첩리스트와 2차원 np.array 선언 "
   ]
  },
  {
   "cell_type": "code",
   "execution_count": 30,
   "id": "33a0e86c-c838-436b-8518-0fdfe1c9a576",
   "metadata": {},
   "outputs": [],
   "source": [
    "A = [[1,2,3,4],[-1,-2,-3,-4],[5,6,7,8],[-5,-6,-7,-8]]\n",
    "A2 = np.array(A)"
   ]
  },
  {
   "cell_type": "code",
   "execution_count": 31,
   "id": "15901023-6c16-4848-adfe-54bf25c549c4",
   "metadata": {},
   "outputs": [
    {
     "data": {
      "text/plain": [
       "[[1, 2, 3, 4], [-1, -2, -3, -4], [5, 6, 7, 8], [-5, -6, -7, -8]]"
      ]
     },
     "execution_count": 31,
     "metadata": {},
     "output_type": "execute_result"
    }
   ],
   "source": [
    "A"
   ]
  },
  {
   "cell_type": "code",
   "execution_count": 32,
   "id": "2457c483-fd21-4021-9415-711398a9017f",
   "metadata": {},
   "outputs": [
    {
     "data": {
      "text/plain": [
       "array([[ 1,  2,  3,  4],\n",
       "       [-1, -2, -3, -4],\n",
       "       [ 5,  6,  7,  8],\n",
       "       [-5, -6, -7, -8]])"
      ]
     },
     "execution_count": 32,
     "metadata": {},
     "output_type": "execute_result"
    }
   ],
   "source": [
    "A2"
   ]
  },
  {
   "cell_type": "markdown",
   "id": "79496e29-f5e4-4882-afa4-e7f00ac78315",
   "metadata": {},
   "source": [
    "`-` A에서 원소인덱싱 "
   ]
  },
  {
   "cell_type": "code",
   "execution_count": 33,
   "id": "e0ba38b2-4b84-497f-837a-38eb245f9f99",
   "metadata": {},
   "outputs": [
    {
     "data": {
      "text/plain": [
       "1"
      ]
     },
     "execution_count": 33,
     "metadata": {},
     "output_type": "execute_result"
    }
   ],
   "source": [
    "A[0][0] # (1,1)의 원소 "
   ]
  },
  {
   "cell_type": "code",
   "execution_count": 34,
   "id": "743d30a0-83f6-4378-aa3c-e5fc9739113f",
   "metadata": {},
   "outputs": [
    {
     "data": {
      "text/plain": [
       "-3"
      ]
     },
     "execution_count": 34,
     "metadata": {},
     "output_type": "execute_result"
    }
   ],
   "source": [
    "A[1][2] # (2,3)의 원소 "
   ]
  },
  {
   "cell_type": "code",
   "execution_count": 35,
   "id": "038cb057-8555-4a62-ac9e-06f3f8c36c22",
   "metadata": {},
   "outputs": [
    {
     "data": {
      "text/plain": [
       "-5"
      ]
     },
     "execution_count": 35,
     "metadata": {},
     "output_type": "execute_result"
    }
   ],
   "source": [
    "A[-1][0] # (4,1)의 원소 "
   ]
  },
  {
   "cell_type": "markdown",
   "id": "8fcdfa0c-21c1-406b-a1e3-011a0976cfa6",
   "metadata": {},
   "source": [
    "`-` A2에서 원소인덱싱 "
   ]
  },
  {
   "cell_type": "code",
   "execution_count": 36,
   "id": "6b64edf6-039b-41be-8297-007c27450649",
   "metadata": {},
   "outputs": [
    {
     "data": {
      "text/plain": [
       "1"
      ]
     },
     "execution_count": 36,
     "metadata": {},
     "output_type": "execute_result"
    }
   ],
   "source": [
    "A2[0][0] # (1,1)의 원소 "
   ]
  },
  {
   "cell_type": "code",
   "execution_count": 37,
   "id": "80d0e4ea-e1dc-465d-942d-1d1aaa842ed3",
   "metadata": {},
   "outputs": [
    {
     "data": {
      "text/plain": [
       "-3"
      ]
     },
     "execution_count": 37,
     "metadata": {},
     "output_type": "execute_result"
    }
   ],
   "source": [
    "A2[1][2] # (2,3)의 원소 "
   ]
  },
  {
   "cell_type": "code",
   "execution_count": 38,
   "id": "9e64d039-d18a-4f8a-bb91-ae428614c928",
   "metadata": {},
   "outputs": [
    {
     "data": {
      "text/plain": [
       "-5"
      ]
     },
     "execution_count": 38,
     "metadata": {},
     "output_type": "execute_result"
    }
   ],
   "source": [
    "A2[-1][0] # (4,1)의 원소 "
   ]
  },
  {
   "cell_type": "markdown",
   "id": "3436d936-c747-46a3-a2e5-050b793ef2c0",
   "metadata": {},
   "source": [
    "`-` 이렇게 해도된다? (넘파이에서 제시하는 신기술, R에서는 기본탑재기능, 이중 list는 불가능) "
   ]
  },
  {
   "cell_type": "code",
   "execution_count": 39,
   "id": "9a7f07e7-9bde-44a0-a1a0-650c4edbfc90",
   "metadata": {},
   "outputs": [
    {
     "data": {
      "text/plain": [
       "1"
      ]
     },
     "execution_count": 39,
     "metadata": {},
     "output_type": "execute_result"
    }
   ],
   "source": [
    "A2[0,0] # (1,1)의 원소 "
   ]
  },
  {
   "cell_type": "code",
   "execution_count": 40,
   "id": "b2fcf640-2141-4613-8f14-92301b7c943d",
   "metadata": {},
   "outputs": [
    {
     "data": {
      "text/plain": [
       "-3"
      ]
     },
     "execution_count": 40,
     "metadata": {},
     "output_type": "execute_result"
    }
   ],
   "source": [
    "A2[1,2] # (2,3)의 원소 "
   ]
  },
  {
   "cell_type": "code",
   "execution_count": 41,
   "id": "40bdc4a2-f2b3-4b10-80ee-9ce824b6ef08",
   "metadata": {},
   "outputs": [
    {
     "data": {
      "text/plain": [
       "-5"
      ]
     },
     "execution_count": 41,
     "metadata": {},
     "output_type": "execute_result"
    }
   ],
   "source": [
    "A2[-1,0] # (4,1)의 원소"
   ]
  },
  {
   "cell_type": "markdown",
   "id": "ecf13747-2cd6-4f7d-877d-d62df900afca",
   "metadata": {},
   "source": [
    "`-` 슬라이싱!"
   ]
  },
  {
   "cell_type": "code",
   "execution_count": 42,
   "id": "e6366829-3018-4765-8fc2-6fc883d6d594",
   "metadata": {},
   "outputs": [
    {
     "data": {
      "text/plain": [
       "array([[ 1,  2,  3,  4],\n",
       "       [-1, -2, -3, -4],\n",
       "       [ 5,  6,  7,  8],\n",
       "       [-5, -6, -7, -8]])"
      ]
     },
     "execution_count": 42,
     "metadata": {},
     "output_type": "execute_result"
    }
   ],
   "source": [
    "A2"
   ]
  },
  {
   "cell_type": "code",
   "execution_count": 43,
   "id": "d1c8907b-9264-494b-841c-60cf001b9f2b",
   "metadata": {},
   "outputs": [
    {
     "data": {
      "text/plain": [
       "array([1, 2, 3, 4])"
      ]
     },
     "execution_count": 43,
     "metadata": {},
     "output_type": "execute_result"
    }
   ],
   "source": [
    "A2[0,:] ## 1행"
   ]
  },
  {
   "cell_type": "code",
   "execution_count": 44,
   "id": "8195200a-703b-47b9-a315-aac347ff3df3",
   "metadata": {},
   "outputs": [
    {
     "data": {
      "text/plain": [
       "array([1, 2, 3, 4])"
      ]
     },
     "execution_count": 44,
     "metadata": {},
     "output_type": "execute_result"
    }
   ],
   "source": [
    "A2[0] ## 1행"
   ]
  },
  {
   "cell_type": "code",
   "execution_count": 45,
   "id": "9b93df1d-535c-4032-be3c-34e496eb3697",
   "metadata": {},
   "outputs": [
    {
     "data": {
      "text/plain": [
       "array([[1, 2, 3, 4],\n",
       "       [5, 6, 7, 8]])"
      ]
     },
     "execution_count": 45,
     "metadata": {},
     "output_type": "execute_result"
    }
   ],
   "source": [
    "A2[[0,2],:] # 1,3행 "
   ]
  },
  {
   "cell_type": "code",
   "execution_count": 46,
   "id": "dba6d427-0081-4935-bc4b-ed88a027e098",
   "metadata": {},
   "outputs": [
    {
     "data": {
      "text/plain": [
       "array([[1, 2, 3, 4],\n",
       "       [5, 6, 7, 8]])"
      ]
     },
     "execution_count": 46,
     "metadata": {},
     "output_type": "execute_result"
    }
   ],
   "source": [
    "A2[[0,2]] # 1,3 행 "
   ]
  },
  {
   "cell_type": "code",
   "execution_count": 47,
   "id": "54051010-867d-4a35-a222-6dbda726c5cd",
   "metadata": {},
   "outputs": [
    {
     "data": {
      "text/plain": [
       "array([ 1, -1,  5, -5])"
      ]
     },
     "execution_count": 47,
     "metadata": {},
     "output_type": "execute_result"
    }
   ],
   "source": [
    "A2[:,0] # 1열 "
   ]
  },
  {
   "cell_type": "code",
   "execution_count": 48,
   "id": "ff21a703-284b-4cb2-97f6-881f9f29f473",
   "metadata": {},
   "outputs": [
    {
     "data": {
      "text/plain": [
       "array([[ 1,  3],\n",
       "       [-1, -3],\n",
       "       [ 5,  7],\n",
       "       [-5, -7]])"
      ]
     },
     "execution_count": 48,
     "metadata": {},
     "output_type": "execute_result"
    }
   ],
   "source": [
    "A2[:,[0,2]] # 1,3열 "
   ]
  },
  {
   "cell_type": "markdown",
   "id": "f84a318e-1981-41bc-b970-d0c037d8d3aa",
   "metadata": {},
   "source": [
    "## 1차원 배열의 선언 "
   ]
  },
  {
   "cell_type": "markdown",
   "id": "b1bc2c3a-1b1e-487a-8235-c84205a68609",
   "metadata": {},
   "source": [
    "`-` 리스트나 튜플을 선언하고 형변환 "
   ]
  },
  {
   "cell_type": "code",
   "execution_count": 49,
   "id": "7dbd129d-d797-478e-9f63-7417b6167b3a",
   "metadata": {},
   "outputs": [
    {
     "data": {
      "text/plain": [
       "array([1, 2, 3])"
      ]
     },
     "execution_count": 49,
     "metadata": {},
     "output_type": "execute_result"
    }
   ],
   "source": [
    "np.array((1,2,3))"
   ]
  },
  {
   "cell_type": "code",
   "execution_count": 50,
   "id": "f2882e69-1a29-48f8-a618-f38bdb45d7ec",
   "metadata": {},
   "outputs": [
    {
     "data": {
      "text/plain": [
       "array([1, 2, 3])"
      ]
     },
     "execution_count": 50,
     "metadata": {},
     "output_type": "execute_result"
    }
   ],
   "source": [
    "np.array([1,2,3])"
   ]
  },
  {
   "cell_type": "markdown",
   "id": "fd9f5e11-91bd-4ce2-bcba-33eca599b461",
   "metadata": {},
   "source": [
    "`-` range()를 이용하여 만들고 형변환 "
   ]
  },
  {
   "cell_type": "code",
   "execution_count": 51,
   "id": "3fd682b6-5f4f-4348-b693-1f911677103c",
   "metadata": {},
   "outputs": [
    {
     "data": {
      "text/plain": [
       "array([ 0,  1,  2,  3,  4,  5,  6,  7,  8,  9, 10, 11])"
      ]
     },
     "execution_count": 51,
     "metadata": {},
     "output_type": "execute_result"
    }
   ],
   "source": [
    "np.array(range(12))"
   ]
  },
  {
   "cell_type": "markdown",
   "id": "e19a32d5-96dc-4679-8b4a-c9d556639b89",
   "metadata": {},
   "source": [
    "`-` np.zeros, np.ones "
   ]
  },
  {
   "cell_type": "code",
   "execution_count": 52,
   "id": "720b8cf3-4d63-4164-812a-9a36a2f7f947",
   "metadata": {},
   "outputs": [
    {
     "data": {
      "text/plain": [
       "array([0., 0., 0.])"
      ]
     },
     "execution_count": 52,
     "metadata": {},
     "output_type": "execute_result"
    }
   ],
   "source": [
    "np.zeros(3)"
   ]
  },
  {
   "cell_type": "code",
   "execution_count": 53,
   "id": "9ff322a4-d073-4f07-a58b-e3c098cb57ed",
   "metadata": {},
   "outputs": [
    {
     "data": {
      "text/plain": [
       "array([1., 1., 1.])"
      ]
     },
     "execution_count": 53,
     "metadata": {},
     "output_type": "execute_result"
    }
   ],
   "source": [
    "np.ones(3)"
   ]
  },
  {
   "cell_type": "markdown",
   "id": "d69107b4-4340-4293-a67b-72670630ff01",
   "metadata": {},
   "source": [
    "`-` np.linspace "
   ]
  },
  {
   "cell_type": "code",
   "execution_count": 54,
   "id": "08cabb86-2a23-4774-acc0-2ab7e3a10ac2",
   "metadata": {},
   "outputs": [
    {
     "data": {
      "text/plain": [
       "array([0.        , 0.09090909, 0.18181818, 0.27272727, 0.36363636,\n",
       "       0.45454545, 0.54545455, 0.63636364, 0.72727273, 0.81818182,\n",
       "       0.90909091, 1.        ])"
      ]
     },
     "execution_count": 54,
     "metadata": {},
     "output_type": "execute_result"
    }
   ],
   "source": [
    "np.linspace(0,1,12)"
   ]
  },
  {
   "cell_type": "markdown",
   "id": "6f1d150f-c3fc-48e0-b7a6-70b0250e47d4",
   "metadata": {},
   "source": [
    "`-` np.arange"
   ]
  },
  {
   "cell_type": "code",
   "execution_count": 55,
   "id": "a8326eca-35ce-46e5-8dd3-4906814e852a",
   "metadata": {},
   "outputs": [
    {
     "data": {
      "text/plain": [
       "array([0, 1, 2, 3, 4])"
      ]
     },
     "execution_count": 55,
     "metadata": {},
     "output_type": "execute_result"
    }
   ],
   "source": [
    "np.arange(5)"
   ]
  },
  {
   "cell_type": "markdown",
   "id": "d6030c29-cc5c-4d99-a15c-59d4a011d402",
   "metadata": {},
   "source": [
    "## reshape "
   ]
  },
  {
   "cell_type": "markdown",
   "id": "0603599d-d5fc-4715-9339-99e938b2fa2c",
   "metadata": {},
   "source": [
    "`-` reshape: ndarray의 특수한 기능 "
   ]
  },
  {
   "cell_type": "code",
   "execution_count": 56,
   "id": "5e96cb80-563b-4640-b486-130f9fa6f94e",
   "metadata": {},
   "outputs": [],
   "source": [
    "l=[11,22,33,44,55,66]\n",
    "a=np.array(l)"
   ]
  },
  {
   "cell_type": "code",
   "execution_count": 57,
   "id": "bebd5bd3-3b96-45d3-939f-21799ed0760b",
   "metadata": {},
   "outputs": [
    {
     "data": {
      "text/plain": [
       "array([11, 22, 33, 44, 55, 66])"
      ]
     },
     "execution_count": 57,
     "metadata": {},
     "output_type": "execute_result"
    }
   ],
   "source": [
    "a ## 길이가 6인 벡터"
   ]
  },
  {
   "cell_type": "code",
   "execution_count": 58,
   "id": "65116539-0f85-4809-abee-78ac00f84e31",
   "metadata": {},
   "outputs": [
    {
     "data": {
      "text/plain": [
       "array([[11, 22, 33],\n",
       "       [44, 55, 66]])"
      ]
     },
     "execution_count": 58,
     "metadata": {},
     "output_type": "execute_result"
    }
   ],
   "source": [
    "a.reshape(2,3)"
   ]
  },
  {
   "cell_type": "code",
   "execution_count": 59,
   "id": "1b43328c-e708-472d-9bde-ab3605d32aa2",
   "metadata": {},
   "outputs": [
    {
     "data": {
      "text/plain": [
       "array([11, 22, 33, 44, 55, 66])"
      ]
     },
     "execution_count": 59,
     "metadata": {},
     "output_type": "execute_result"
    }
   ],
   "source": [
    "a ## reshape은 a자체를 변화시키진 않음"
   ]
  },
  {
   "cell_type": "code",
   "execution_count": 60,
   "id": "b33f8348-a9b8-467e-bedf-804262fd3e70",
   "metadata": {},
   "outputs": [
    {
     "data": {
      "text/plain": [
       "array([[11, 22],\n",
       "       [33, 44],\n",
       "       [55, 66]])"
      ]
     },
     "execution_count": 60,
     "metadata": {},
     "output_type": "execute_result"
    }
   ],
   "source": [
    "b = a.reshape(3,2)\n",
    "b"
   ]
  },
  {
   "cell_type": "markdown",
   "id": "1de2bda0-700f-4d88-b48b-6159b9d26f10",
   "metadata": {},
   "source": [
    "`-` 다시 b를 a처럼 바꾸고싶다면? "
   ]
  },
  {
   "cell_type": "code",
   "execution_count": 61,
   "id": "3663736b-c8a3-4a6e-b095-30a36e4fe1ba",
   "metadata": {},
   "outputs": [
    {
     "data": {
      "text/plain": [
       "array([[11, 22],\n",
       "       [33, 44],\n",
       "       [55, 66]])"
      ]
     },
     "execution_count": 61,
     "metadata": {},
     "output_type": "execute_result"
    }
   ],
   "source": [
    "b"
   ]
  },
  {
   "cell_type": "code",
   "execution_count": 62,
   "id": "d85a386f-0e5d-42cd-b091-73fc6e14dfe0",
   "metadata": {},
   "outputs": [
    {
     "data": {
      "text/plain": [
       "array([11, 22, 33, 44, 55, 66])"
      ]
     },
     "execution_count": 62,
     "metadata": {},
     "output_type": "execute_result"
    }
   ],
   "source": [
    "b.reshape(6)"
   ]
  },
  {
   "cell_type": "markdown",
   "id": "deb04157-0011-4b93-b42a-face7e6a0c98",
   "metadata": {},
   "source": [
    "`-` reshape with -1"
   ]
  },
  {
   "cell_type": "code",
   "execution_count": 63,
   "id": "2d4d84e4-caf8-45e3-8179-904f28014a8e",
   "metadata": {},
   "outputs": [
    {
     "data": {
      "text/plain": [
       "array([ 0,  1,  2,  3,  4,  5,  6,  7,  8,  9, 10, 11, 12, 13, 14, 15, 16,\n",
       "       17, 18, 19, 20, 21, 22, 23])"
      ]
     },
     "execution_count": 63,
     "metadata": {},
     "output_type": "execute_result"
    }
   ],
   "source": [
    "a=np.array(range(24))\n",
    "a"
   ]
  },
  {
   "cell_type": "code",
   "execution_count": 64,
   "id": "a811ab7f-0085-4e40-84f1-4bf3d807c638",
   "metadata": {},
   "outputs": [
    {
     "data": {
      "text/plain": [
       "array([[ 0,  1,  2,  3,  4,  5,  6,  7,  8,  9, 10, 11],\n",
       "       [12, 13, 14, 15, 16, 17, 18, 19, 20, 21, 22, 23]])"
      ]
     },
     "execution_count": 64,
     "metadata": {},
     "output_type": "execute_result"
    }
   ],
   "source": [
    "a.reshape(2,-1)"
   ]
  },
  {
   "cell_type": "code",
   "execution_count": 65,
   "id": "471c18bd-a413-4f5f-9d7a-81401802553e",
   "metadata": {},
   "outputs": [
    {
     "data": {
      "text/plain": [
       "array([[ 0,  1,  2,  3,  4,  5,  6,  7],\n",
       "       [ 8,  9, 10, 11, 12, 13, 14, 15],\n",
       "       [16, 17, 18, 19, 20, 21, 22, 23]])"
      ]
     },
     "execution_count": 65,
     "metadata": {},
     "output_type": "execute_result"
    }
   ],
   "source": [
    "a.reshape(3,-1)"
   ]
  },
  {
   "cell_type": "code",
   "execution_count": 66,
   "id": "d31c60af-8b4a-421e-86b7-8cc979aa15eb",
   "metadata": {},
   "outputs": [
    {
     "data": {
      "text/plain": [
       "array([[ 0,  1,  2,  3,  4,  5],\n",
       "       [ 6,  7,  8,  9, 10, 11],\n",
       "       [12, 13, 14, 15, 16, 17],\n",
       "       [18, 19, 20, 21, 22, 23]])"
      ]
     },
     "execution_count": 66,
     "metadata": {},
     "output_type": "execute_result"
    }
   ],
   "source": [
    "a.reshape(4,-1)"
   ]
  },
  {
   "cell_type": "code",
   "execution_count": 67,
   "id": "ca668b2b-f9ea-4847-b8da-58890ff7b4ec",
   "metadata": {},
   "outputs": [
    {
     "data": {
      "text/plain": [
       "array([[ 0,  1,  2,  3],\n",
       "       [ 4,  5,  6,  7],\n",
       "       [ 8,  9, 10, 11],\n",
       "       [12, 13, 14, 15],\n",
       "       [16, 17, 18, 19],\n",
       "       [20, 21, 22, 23]])"
      ]
     },
     "execution_count": 67,
     "metadata": {},
     "output_type": "execute_result"
    }
   ],
   "source": [
    "a.reshape(6,-1)"
   ]
  },
  {
   "cell_type": "code",
   "execution_count": 68,
   "id": "c56fe7b3-0f99-4a06-8891-f11fa3c78283",
   "metadata": {},
   "outputs": [
    {
     "data": {
      "text/plain": [
       "array([[ 0,  1,  2],\n",
       "       [ 3,  4,  5],\n",
       "       [ 6,  7,  8],\n",
       "       [ 9, 10, 11],\n",
       "       [12, 13, 14],\n",
       "       [15, 16, 17],\n",
       "       [18, 19, 20],\n",
       "       [21, 22, 23]])"
      ]
     },
     "execution_count": 68,
     "metadata": {},
     "output_type": "execute_result"
    }
   ],
   "source": [
    "a.reshape(8,-1)"
   ]
  },
  {
   "cell_type": "code",
   "execution_count": 69,
   "id": "23e15c1a-26e8-4775-9f48-36e9e107ffdd",
   "metadata": {},
   "outputs": [
    {
     "data": {
      "text/plain": [
       "array([[ 0,  1],\n",
       "       [ 2,  3],\n",
       "       [ 4,  5],\n",
       "       [ 6,  7],\n",
       "       [ 8,  9],\n",
       "       [10, 11],\n",
       "       [12, 13],\n",
       "       [14, 15],\n",
       "       [16, 17],\n",
       "       [18, 19],\n",
       "       [20, 21],\n",
       "       [22, 23]])"
      ]
     },
     "execution_count": 69,
     "metadata": {},
     "output_type": "execute_result"
    }
   ],
   "source": [
    "a.reshape(12,-1)"
   ]
  },
  {
   "cell_type": "code",
   "execution_count": 70,
   "id": "6f28abf9-b92b-4b7e-b9cf-11aa518268c4",
   "metadata": {},
   "outputs": [
    {
     "data": {
      "text/plain": [
       "array([[ 0,  1],\n",
       "       [ 2,  3],\n",
       "       [ 4,  5],\n",
       "       [ 6,  7],\n",
       "       [ 8,  9],\n",
       "       [10, 11],\n",
       "       [12, 13],\n",
       "       [14, 15],\n",
       "       [16, 17],\n",
       "       [18, 19],\n",
       "       [20, 21],\n",
       "       [22, 23]])"
      ]
     },
     "execution_count": 70,
     "metadata": {},
     "output_type": "execute_result"
    }
   ],
   "source": [
    "a=a.reshape(12,-1)\n",
    "a"
   ]
  },
  {
   "cell_type": "code",
   "execution_count": 71,
   "id": "58491a02-b5f2-41ff-934b-9ea0ac9b73c8",
   "metadata": {},
   "outputs": [
    {
     "data": {
      "text/plain": [
       "array([ 0,  1,  2,  3,  4,  5,  6,  7,  8,  9, 10, 11, 12, 13, 14, 15, 16,\n",
       "       17, 18, 19, 20, 21, 22, 23])"
      ]
     },
     "execution_count": 71,
     "metadata": {},
     "output_type": "execute_result"
    }
   ],
   "source": [
    "a.reshape(-1)"
   ]
  },
  {
   "cell_type": "markdown",
   "id": "dd46f7c3-ecf2-40c4-b045-a7e152984f4d",
   "metadata": {},
   "source": [
    "## 2차원 배열의 선언 "
   ]
  },
  {
   "cell_type": "code",
   "execution_count": 72,
   "id": "16d69aae-ae31-47f2-b73f-d9e76a96e889",
   "metadata": {},
   "outputs": [
    {
     "data": {
      "text/plain": [
       "array([[0., 0., 0.],\n",
       "       [0., 0., 0.],\n",
       "       [0., 0., 0.]])"
      ]
     },
     "execution_count": 72,
     "metadata": {},
     "output_type": "execute_result"
    }
   ],
   "source": [
    "np.zeros((3,3)) # np.zeros([3,3])"
   ]
  },
  {
   "cell_type": "code",
   "execution_count": 73,
   "id": "59cc268f-f36b-4a16-a6bd-abd909fd8a5f",
   "metadata": {},
   "outputs": [
    {
     "data": {
      "text/plain": [
       "array([[1., 1., 1.],\n",
       "       [1., 1., 1.],\n",
       "       [1., 1., 1.]])"
      ]
     },
     "execution_count": 73,
     "metadata": {},
     "output_type": "execute_result"
    }
   ],
   "source": [
    "np.ones((3,3))"
   ]
  },
  {
   "cell_type": "code",
   "execution_count": 74,
   "id": "b4a4b4e9-585f-460f-aa11-15d4b9499c38",
   "metadata": {},
   "outputs": [
    {
     "data": {
      "text/plain": [
       "array([[1., 0., 0.],\n",
       "       [0., 1., 0.],\n",
       "       [0., 0., 1.]])"
      ]
     },
     "execution_count": 74,
     "metadata": {},
     "output_type": "execute_result"
    }
   ],
   "source": [
    "np.eye(3)"
   ]
  },
  {
   "cell_type": "code",
   "execution_count": 75,
   "id": "ebf930ee-8b85-49a5-8bfe-4b9ecef5b147",
   "metadata": {},
   "outputs": [
    {
     "data": {
      "text/plain": [
       "array([[1, 0, 0],\n",
       "       [0, 2, 0],\n",
       "       [0, 0, 3]])"
      ]
     },
     "execution_count": 75,
     "metadata": {},
     "output_type": "execute_result"
    }
   ],
   "source": [
    "np.diag([1,2,3]) # np.diag((1,2,3))"
   ]
  },
  {
   "cell_type": "markdown",
   "id": "5d00b85a-7d5f-4ac2-9181-141ed4980500",
   "metadata": {},
   "source": [
    "## 랜덤으로 생성 "
   ]
  },
  {
   "cell_type": "code",
   "execution_count": 76,
   "id": "717d284b-4ff2-4cad-aa49-771846d8f5e0",
   "metadata": {},
   "outputs": [
    {
     "data": {
      "text/plain": [
       "array([ 1.08324716,  0.62817097,  0.12847717, -0.04525161,  0.96142135,\n",
       "       -1.21223986, -0.17343561,  0.5136161 , -1.26171776,  0.80209933])"
      ]
     },
     "execution_count": 76,
     "metadata": {},
     "output_type": "execute_result"
    }
   ],
   "source": [
    "np.random.randn(10) # 표준정규분포에서 10개 뽑음"
   ]
  },
  {
   "cell_type": "code",
   "execution_count": 77,
   "id": "a77b2392-0039-400f-a115-30c9aeca23aa",
   "metadata": {},
   "outputs": [
    {
     "data": {
      "text/plain": [
       "array([2.51475291e-05, 4.73976026e-01, 7.39149130e-01, 7.14419133e-01,\n",
       "       6.97771860e-01, 3.97994936e-01, 6.77282056e-01, 7.05790725e-01,\n",
       "       2.88589932e-01, 7.57068891e-01])"
      ]
     },
     "execution_count": 77,
     "metadata": {},
     "output_type": "execute_result"
    }
   ],
   "source": [
    "np.random.rand(10) # 0~1사이에서 10개 뽑음 "
   ]
  },
  {
   "cell_type": "code",
   "execution_count": 78,
   "id": "dfe7ace6-e831-4d76-8f06-8714888b5b5c",
   "metadata": {},
   "outputs": [
    {
     "data": {
      "text/plain": [
       "array([[ 0.32819241,  0.93190348],\n",
       "       [-0.06517115, -0.83736631]])"
      ]
     },
     "execution_count": 78,
     "metadata": {},
     "output_type": "execute_result"
    }
   ],
   "source": [
    "np.random.randn(4).reshape(2,2)"
   ]
  },
  {
   "cell_type": "code",
   "execution_count": 79,
   "id": "05d706f0-d8df-4d17-838e-80ccee29c5e5",
   "metadata": {},
   "outputs": [
    {
     "data": {
      "text/plain": [
       "array([[-1.23749937, -0.58528095],\n",
       "       [ 1.14685968, -1.30696566],\n",
       "       [ 1.38417905, -0.94795928]])"
      ]
     },
     "execution_count": 79,
     "metadata": {},
     "output_type": "execute_result"
    }
   ],
   "source": [
    "np.random.randn(6).reshape(3,2)"
   ]
  },
  {
   "cell_type": "markdown",
   "id": "7ee9fad5-cc6b-43df-8b59-e463f734efe2",
   "metadata": {},
   "source": [
    "## 행렬 "
   ]
  },
  {
   "cell_type": "code",
   "execution_count": 80,
   "id": "19edfc85-db7a-4942-8d0a-e1cd46ebeb90",
   "metadata": {},
   "outputs": [
    {
     "data": {
      "text/plain": [
       "array([[0, 1],\n",
       "       [2, 3]])"
      ]
     },
     "execution_count": 80,
     "metadata": {},
     "output_type": "execute_result"
    }
   ],
   "source": [
    "A= np.array(range(4)).reshape(2,2)\n",
    "A"
   ]
  },
  {
   "cell_type": "code",
   "execution_count": 81,
   "id": "af6f3b90-6280-45f1-b955-b29e4a503c37",
   "metadata": {},
   "outputs": [
    {
     "data": {
      "text/plain": [
       "array([[0, 2],\n",
       "       [1, 3]])"
      ]
     },
     "execution_count": 81,
     "metadata": {},
     "output_type": "execute_result"
    }
   ],
   "source": [
    "A.T # 전치행렬 "
   ]
  },
  {
   "cell_type": "code",
   "execution_count": 82,
   "id": "c77439aa-2b22-49ee-9378-c4f2cdfa62b8",
   "metadata": {},
   "outputs": [
    {
     "data": {
      "text/plain": [
       "array([[-1.5,  0.5],\n",
       "       [ 1. ,  0. ]])"
      ]
     },
     "execution_count": 82,
     "metadata": {},
     "output_type": "execute_result"
    }
   ],
   "source": [
    "np.linalg.inv(A) # 역행렬 "
   ]
  },
  {
   "cell_type": "code",
   "execution_count": 83,
   "id": "211a4327-599b-4aa9-9181-761280dec3c4",
   "metadata": {},
   "outputs": [
    {
     "data": {
      "text/plain": [
       "array([[1., 0.],\n",
       "       [0., 1.]])"
      ]
     },
     "execution_count": 83,
     "metadata": {},
     "output_type": "execute_result"
    }
   ],
   "source": [
    "A@np.linalg.inv(A) # 행렬곱 "
   ]
  },
  {
   "cell_type": "markdown",
   "id": "92b607a7-9800-4bca-aaa4-1c4e5a4b4e34",
   "metadata": {},
   "source": [
    "# numpy공부 3단계: 차원의 개념"
   ]
  },
  {
   "cell_type": "markdown",
   "id": "16fe8311-77a7-48ad-bfb2-489b8cee6b4b",
   "metadata": {},
   "source": [
    "## 2차원 배열과 연립1차방정식"
   ]
  },
  {
   "cell_type": "markdown",
   "id": "bcc68bb3-99da-4cac-b135-57d5cd8848f1",
   "metadata": {},
   "source": [
    "`-` 아래의 연립방정식 고려 "
   ]
  },
  {
   "cell_type": "markdown",
   "id": "182f31ae-bb81-446b-b698-c7f7c8f7a4e6",
   "metadata": {},
   "source": [
    "$\\begin{cases}\n",
    "y + z + w= 3 \\\\\n",
    "x + z + w= 3 \\\\\n",
    "x + y + w= 3 \\\\ \n",
    "x + y + z= 3 \\\\ \n",
    "\\end{cases}$ "
   ]
  },
  {
   "cell_type": "markdown",
   "id": "b58444cc-9241-42a2-9aec-22ac090e4c19",
   "metadata": {},
   "source": [
    "`-` 행렬표현은? "
   ]
  },
  {
   "cell_type": "markdown",
   "id": "2536165c-f2c7-410d-993f-599ef5ac88af",
   "metadata": {},
   "source": [
    "$\\begin{bmatrix}\n",
    "0 & 1 & 1 & 1 \\\\ \n",
    "1 & 0 & 1 & 1 \\\\\n",
    "1 & 1 & 0 & 1 \\\\ \n",
    "1 & 1 & 1 & 0 \\\\ \n",
    "\\end{bmatrix} \\begin{bmatrix} x \\\\ y \\\\ z \\\\ w \\end{bmatrix} = \\begin{bmatrix} 3 \\\\ 3 \\\\ 3 \\\\ 3  \\end{bmatrix}$"
   ]
  },
  {
   "cell_type": "markdown",
   "id": "aa3777b1-e699-4f5f-883e-52e0a7571619",
   "metadata": {},
   "source": [
    "`-` 풀이"
   ]
  },
  {
   "cell_type": "code",
   "execution_count": 84,
   "id": "3e5dc233-a54c-46e6-a054-fcbe8e083511",
   "metadata": {},
   "outputs": [
    {
     "data": {
      "text/plain": [
       "array([[0, 1, 1, 1],\n",
       "       [1, 0, 1, 1],\n",
       "       [1, 1, 0, 1],\n",
       "       [1, 1, 1, 0]])"
      ]
     },
     "execution_count": 84,
     "metadata": {},
     "output_type": "execute_result"
    }
   ],
   "source": [
    "A = np.array([[0,1,1,1],[1,0,1,1],[1,1,0,1],[1,1,1,0]])\n",
    "A"
   ]
  },
  {
   "cell_type": "code",
   "execution_count": 85,
   "id": "52be5a7e-351a-4b8e-8e95-741c56c2f95e",
   "metadata": {},
   "outputs": [
    {
     "data": {
      "text/plain": [
       "array([[3],\n",
       "       [3],\n",
       "       [3],\n",
       "       [3]])"
      ]
     },
     "execution_count": 85,
     "metadata": {},
     "output_type": "execute_result"
    }
   ],
   "source": [
    "b=np.array([3,3,3,3]).reshape(4,1)\n",
    "b"
   ]
  },
  {
   "cell_type": "code",
   "execution_count": 86,
   "id": "91441e20-d045-4332-98e0-0254f41d8cc0",
   "metadata": {},
   "outputs": [
    {
     "data": {
      "text/plain": [
       "array([[1.],\n",
       "       [1.],\n",
       "       [1.],\n",
       "       [1.]])"
      ]
     },
     "execution_count": 86,
     "metadata": {},
     "output_type": "execute_result"
    }
   ],
   "source": [
    "np.linalg.inv(A) @ b"
   ]
  },
  {
   "cell_type": "markdown",
   "id": "f7634742-3d3e-4724-9dc0-c9cfe7b174ca",
   "metadata": {},
   "source": [
    "`-` 다른풀이 "
   ]
  },
  {
   "cell_type": "markdown",
   "id": "757daefc-06fd-425a-a3e0-f2a312dc352f",
   "metadata": {},
   "source": [
    "b를 아래와 같이 만들어도 된다. "
   ]
  },
  {
   "cell_type": "code",
   "execution_count": 87,
   "id": "7587577a-44d3-4da9-8670-b3300224a034",
   "metadata": {},
   "outputs": [
    {
     "data": {
      "text/plain": [
       "array([3, 3, 3, 3])"
      ]
     },
     "execution_count": 87,
     "metadata": {},
     "output_type": "execute_result"
    }
   ],
   "source": [
    "b=np.array([3,3,3,3])\n",
    "b"
   ]
  },
  {
   "cell_type": "code",
   "execution_count": 88,
   "id": "32db53b1-0c7e-4f10-b162-60618d6323b8",
   "metadata": {},
   "outputs": [
    {
     "data": {
      "text/plain": [
       "array([1., 1., 1., 1.])"
      ]
     },
     "execution_count": 88,
     "metadata": {},
     "output_type": "execute_result"
    }
   ],
   "source": [
    "np.linalg.inv(A) @ b"
   ]
  },
  {
   "cell_type": "markdown",
   "id": "8313b419-56a2-41db-8ed3-07c8bfaddd53",
   "metadata": {},
   "source": [
    "## `@`의 유연성"
   ]
  },
  {
   "cell_type": "markdown",
   "id": "a88dcb9c-5ed4-4dcc-9151-860e74a9c9bd",
   "metadata": {},
   "source": [
    "`-` 엄밀하게는 아래의 행렬곱이 가능하다. \n",
    "- (2,2) @ (2,1) => (2,1) \n",
    "- (1,2) @ (2,2) => (1,2) "
   ]
  },
  {
   "cell_type": "code",
   "execution_count": 89,
   "id": "50a94321-483d-4c2c-bc19-8e177a934606",
   "metadata": {},
   "outputs": [
    {
     "data": {
      "text/plain": [
       "array([[ 5],\n",
       "       [11]])"
      ]
     },
     "execution_count": 89,
     "metadata": {},
     "output_type": "execute_result"
    }
   ],
   "source": [
    "A = np.array([1,2,3,4]).reshape(2,2) \n",
    "b = np.array([1,2]).reshape(2,1) \n",
    "A@b"
   ]
  },
  {
   "cell_type": "code",
   "execution_count": 90,
   "id": "6d0d8206-9bc6-40d1-af17-ad68cf4ac43a",
   "metadata": {},
   "outputs": [
    {
     "data": {
      "text/plain": [
       "((2, 2), (2, 1), (2, 1))"
      ]
     },
     "execution_count": 90,
     "metadata": {},
     "output_type": "execute_result"
    }
   ],
   "source": [
    "A.shape, b.shape, (A@b).shape"
   ]
  },
  {
   "cell_type": "code",
   "execution_count": 91,
   "id": "d644b622-ac42-4788-93bc-91f7b923cc7a",
   "metadata": {},
   "outputs": [
    {
     "data": {
      "text/plain": [
       "array([[ 7, 10]])"
      ]
     },
     "execution_count": 91,
     "metadata": {},
     "output_type": "execute_result"
    }
   ],
   "source": [
    "A = np.array([1,2,3,4]).reshape(2,2) \n",
    "b = np.array([1,2]).reshape(1,2) \n",
    "b@A"
   ]
  },
  {
   "cell_type": "code",
   "execution_count": 92,
   "id": "884d7f10-9bf9-4b0c-80a4-a326829e5d89",
   "metadata": {},
   "outputs": [
    {
     "data": {
      "text/plain": [
       "((2, 2), (1, 2), (1, 2))"
      ]
     },
     "execution_count": 92,
     "metadata": {},
     "output_type": "execute_result"
    }
   ],
   "source": [
    "A.shape, b.shape, (b@A).shape"
   ]
  },
  {
   "cell_type": "markdown",
   "id": "adf3f6fc-2ae1-4f9f-9d7b-5c45cd11f1b8",
   "metadata": {},
   "source": [
    "`-` 당연히 아래는 성립안한다. "
   ]
  },
  {
   "cell_type": "code",
   "execution_count": 93,
   "id": "00cb998d-0553-4329-b97b-6c34ecee7b93",
   "metadata": {},
   "outputs": [
    {
     "ename": "ValueError",
     "evalue": "matmul: Input operand 1 has a mismatch in its core dimension 0, with gufunc signature (n?,k),(k,m?)->(n?,m?) (size 2 is different from 1)",
     "output_type": "error",
     "traceback": [
      "\u001b[0;31m---------------------------------------------------------------------------\u001b[0m",
      "\u001b[0;31mValueError\u001b[0m                                Traceback (most recent call last)",
      "Input \u001b[0;32mIn [93]\u001b[0m, in \u001b[0;36m<cell line: 3>\u001b[0;34m()\u001b[0m\n\u001b[1;32m      1\u001b[0m A \u001b[38;5;241m=\u001b[39m np\u001b[38;5;241m.\u001b[39marray([\u001b[38;5;241m1\u001b[39m,\u001b[38;5;241m2\u001b[39m,\u001b[38;5;241m3\u001b[39m,\u001b[38;5;241m4\u001b[39m])\u001b[38;5;241m.\u001b[39mreshape(\u001b[38;5;241m2\u001b[39m,\u001b[38;5;241m2\u001b[39m) \n\u001b[1;32m      2\u001b[0m b \u001b[38;5;241m=\u001b[39m np\u001b[38;5;241m.\u001b[39marray([\u001b[38;5;241m1\u001b[39m,\u001b[38;5;241m2\u001b[39m])\u001b[38;5;241m.\u001b[39mreshape(\u001b[38;5;241m2\u001b[39m,\u001b[38;5;241m1\u001b[39m) \n\u001b[0;32m----> 3\u001b[0m \u001b[43mb\u001b[49m\u001b[38;5;129;43m@A\u001b[39;49m\n",
      "\u001b[0;31mValueError\u001b[0m: matmul: Input operand 1 has a mismatch in its core dimension 0, with gufunc signature (n?,k),(k,m?)->(n?,m?) (size 2 is different from 1)"
     ]
    }
   ],
   "source": [
    "A = np.array([1,2,3,4]).reshape(2,2) \n",
    "b = np.array([1,2]).reshape(2,1) \n",
    "b@A"
   ]
  },
  {
   "cell_type": "code",
   "execution_count": 94,
   "id": "6795ce7a-d202-47ba-933e-13f3b2acfbcb",
   "metadata": {},
   "outputs": [
    {
     "ename": "ValueError",
     "evalue": "matmul: Input operand 1 has a mismatch in its core dimension 0, with gufunc signature (n?,k),(k,m?)->(n?,m?) (size 1 is different from 2)",
     "output_type": "error",
     "traceback": [
      "\u001b[0;31m---------------------------------------------------------------------------\u001b[0m",
      "\u001b[0;31mValueError\u001b[0m                                Traceback (most recent call last)",
      "Input \u001b[0;32mIn [94]\u001b[0m, in \u001b[0;36m<cell line: 3>\u001b[0;34m()\u001b[0m\n\u001b[1;32m      1\u001b[0m A \u001b[38;5;241m=\u001b[39m np\u001b[38;5;241m.\u001b[39marray([\u001b[38;5;241m1\u001b[39m,\u001b[38;5;241m2\u001b[39m,\u001b[38;5;241m3\u001b[39m,\u001b[38;5;241m4\u001b[39m])\u001b[38;5;241m.\u001b[39mreshape(\u001b[38;5;241m2\u001b[39m,\u001b[38;5;241m2\u001b[39m) \n\u001b[1;32m      2\u001b[0m b \u001b[38;5;241m=\u001b[39m np\u001b[38;5;241m.\u001b[39marray([\u001b[38;5;241m1\u001b[39m,\u001b[38;5;241m2\u001b[39m])\u001b[38;5;241m.\u001b[39mreshape(\u001b[38;5;241m1\u001b[39m,\u001b[38;5;241m2\u001b[39m) \n\u001b[0;32m----> 3\u001b[0m \u001b[43mA\u001b[49m\u001b[38;5;129;43m@b\u001b[39;49m\n",
      "\u001b[0;31mValueError\u001b[0m: matmul: Input operand 1 has a mismatch in its core dimension 0, with gufunc signature (n?,k),(k,m?)->(n?,m?) (size 1 is different from 2)"
     ]
    }
   ],
   "source": [
    "A = np.array([1,2,3,4]).reshape(2,2) \n",
    "b = np.array([1,2]).reshape(1,2) \n",
    "A@b"
   ]
  },
  {
   "cell_type": "markdown",
   "id": "952ca31f-fa6c-43c5-a383-61d998988cc9",
   "metadata": {},
   "source": [
    "`-` 아래는 어떨까? 계산가능할까? $\\to$ 모두 계산가능!\n",
    "- (2,) @ (2,2) => (2,)\n",
    "- (2,2) @ (2,) => (2,)"
   ]
  },
  {
   "cell_type": "code",
   "execution_count": 95,
   "id": "8a8497e0-398b-415b-9260-752fad2f1f58",
   "metadata": {},
   "outputs": [
    {
     "data": {
      "text/plain": [
       "array([ 5, 11])"
      ]
     },
     "execution_count": 95,
     "metadata": {},
     "output_type": "execute_result"
    }
   ],
   "source": [
    "A = np.array([1,2,3,4]).reshape(2,2) \n",
    "b = np.array([1,2])\n",
    "A@b"
   ]
  },
  {
   "cell_type": "code",
   "execution_count": 96,
   "id": "13f6c8bf-353e-4106-9cfc-34b3cce1dc0e",
   "metadata": {},
   "outputs": [
    {
     "data": {
      "text/plain": [
       "((2, 2), (2,), (2,))"
      ]
     },
     "execution_count": 96,
     "metadata": {},
     "output_type": "execute_result"
    }
   ],
   "source": [
    "A.shape, b.shape, (A@b).shape"
   ]
  },
  {
   "cell_type": "markdown",
   "id": "9f699740-a8ed-4289-a20e-a4e39dceeaeb",
   "metadata": {},
   "source": [
    "- b를 마치 (2,1)처럼 본다. "
   ]
  },
  {
   "cell_type": "code",
   "execution_count": 97,
   "id": "183d021e-c1af-4d30-9b23-f38ff5e3eb02",
   "metadata": {},
   "outputs": [
    {
     "data": {
      "text/plain": [
       "array([ 7, 10])"
      ]
     },
     "execution_count": 97,
     "metadata": {},
     "output_type": "execute_result"
    }
   ],
   "source": [
    "A = np.array([1,2,3,4]).reshape(2,2) \n",
    "b = np.array([1,2])\n",
    "b@A"
   ]
  },
  {
   "cell_type": "code",
   "execution_count": 98,
   "id": "74fa3029-b938-4527-8e7d-002d7aac1170",
   "metadata": {},
   "outputs": [
    {
     "data": {
      "text/plain": [
       "((2,), (2, 2), (2,))"
      ]
     },
     "execution_count": 98,
     "metadata": {},
     "output_type": "execute_result"
    }
   ],
   "source": [
    "b.shape, A.shape, (b@A).shape"
   ]
  },
  {
   "cell_type": "markdown",
   "id": "eb46d3bf-bcc8-4c2f-8a59-75d6df25e613",
   "metadata": {},
   "source": [
    "- b를 마치 (1,2)처럼 보는 느낌"
   ]
  },
  {
   "cell_type": "markdown",
   "id": "7d207967-02dd-4718-b176-f5dab7e236eb",
   "metadata": {},
   "source": [
    "`-` 아래는 어떠할까? "
   ]
  },
  {
   "cell_type": "code",
   "execution_count": 99,
   "id": "f71085e8-3b4c-483f-8e6b-932030ffe2b8",
   "metadata": {},
   "outputs": [
    {
     "data": {
      "text/plain": [
       "30"
      ]
     },
     "execution_count": 99,
     "metadata": {},
     "output_type": "execute_result"
    }
   ],
   "source": [
    "b1=np.array([1,2,3,4])\n",
    "b2=np.array([1,2,3,4])\n",
    "b1@b2"
   ]
  },
  {
   "cell_type": "code",
   "execution_count": 100,
   "id": "b2c0aeef-68a5-4790-ab08-319b59f55a58",
   "metadata": {},
   "outputs": [
    {
     "data": {
      "text/plain": [
       "((4,), (4,), ())"
      ]
     },
     "execution_count": 100,
     "metadata": {},
     "output_type": "execute_result"
    }
   ],
   "source": [
    "b1.shape,b2.shape,(b1@b2).shape"
   ]
  },
  {
   "cell_type": "markdown",
   "id": "dbc5f974-ae66-4d15-8a4f-dd413ce4cd4f",
   "metadata": {},
   "source": [
    "- (1,4) @ (4,1) 로 생각함 "
   ]
  },
  {
   "cell_type": "code",
   "execution_count": 101,
   "id": "e59ee718-72c6-4a36-8d0f-245f123d5d9e",
   "metadata": {},
   "outputs": [
    {
     "data": {
      "text/plain": [
       "30"
      ]
     },
     "execution_count": 101,
     "metadata": {},
     "output_type": "execute_result"
    }
   ],
   "source": [
    "b1=np.array([1,2,3,4])\n",
    "b2=np.array([1,2,3,4])\n",
    "b2@b1"
   ]
  },
  {
   "cell_type": "code",
   "execution_count": 102,
   "id": "5f9e3a5e-8b17-49a6-a8a3-77c82a0cfafc",
   "metadata": {},
   "outputs": [
    {
     "data": {
      "text/plain": [
       "((4,), (4,), ())"
      ]
     },
     "execution_count": 102,
     "metadata": {},
     "output_type": "execute_result"
    }
   ],
   "source": [
    "b2.shape,b1.shape,(b2@b1).shape"
   ]
  },
  {
   "cell_type": "markdown",
   "id": "cda40ee3-7c40-4a8f-a316-a02774d9eeed",
   "metadata": {},
   "source": [
    "- (1,4) @ (4,1) 로 생각함 "
   ]
  },
  {
   "cell_type": "markdown",
   "id": "1702031d-37b8-46fd-9ccf-e0a96db758d3",
   "metadata": {},
   "source": [
    "`-` 즉 마치 아래와 같이 해석한다. "
   ]
  },
  {
   "cell_type": "code",
   "execution_count": 103,
   "id": "97db3bde-eaaf-451d-b1a9-060b23f6e116",
   "metadata": {},
   "outputs": [
    {
     "data": {
      "text/plain": [
       "array([[30]])"
      ]
     },
     "execution_count": 103,
     "metadata": {},
     "output_type": "execute_result"
    }
   ],
   "source": [
    "b1=np.array([1,2,3,4]).reshape(1,4)\n",
    "b2=np.array([1,2,3,4]).reshape(4,1)\n",
    "b1@b2"
   ]
  },
  {
   "cell_type": "code",
   "execution_count": 104,
   "id": "0fda568e-05d8-4f1d-81e6-0493aaa504a2",
   "metadata": {},
   "outputs": [
    {
     "data": {
      "text/plain": [
       "((1, 4), (4, 1), (1, 1))"
      ]
     },
     "execution_count": 104,
     "metadata": {},
     "output_type": "execute_result"
    }
   ],
   "source": [
    "b1.shape,b2.shape,(b1@b2).shape"
   ]
  },
  {
   "cell_type": "markdown",
   "id": "d8f5c88f-b05e-41d8-8047-074024c39543",
   "metadata": {},
   "source": [
    "`-` 때로는 (4,1)@(1,4)와 같은 계산결과를 얻고 싶을 수 있는데 이때는 차원을 명시해야함 "
   ]
  },
  {
   "cell_type": "code",
   "execution_count": 105,
   "id": "f146a35a-3a09-4db5-9f3b-a9c1d3a96fb9",
   "metadata": {},
   "outputs": [
    {
     "data": {
      "text/plain": [
       "array([[ 1,  2,  3,  4],\n",
       "       [ 2,  4,  6,  8],\n",
       "       [ 3,  6,  9, 12],\n",
       "       [ 4,  8, 12, 16]])"
      ]
     },
     "execution_count": 105,
     "metadata": {},
     "output_type": "execute_result"
    }
   ],
   "source": [
    "b1=np.array([1,2,3,4]).reshape(4,1)\n",
    "b2=np.array([1,2,3,4]).reshape(1,4)\n",
    "b1@b2"
   ]
  },
  {
   "cell_type": "code",
   "execution_count": 106,
   "id": "b2589e71-3282-4599-bfe4-47d94c9bfcff",
   "metadata": {},
   "outputs": [
    {
     "data": {
      "text/plain": [
       "((4, 1), (1, 4), (4, 4))"
      ]
     },
     "execution_count": 106,
     "metadata": {},
     "output_type": "execute_result"
    }
   ],
   "source": [
    "b1.shape, b2.shape, (b1@b2).shape"
   ]
  },
  {
   "cell_type": "markdown",
   "id": "bc22bb49-8c9b-4b24-913d-5644d9adfdd7",
   "metadata": {},
   "source": [
    "`-` 아래도 가능 "
   ]
  },
  {
   "cell_type": "code",
   "execution_count": 107,
   "id": "055f9309-c71e-42c4-9a92-d214d2c9da21",
   "metadata": {},
   "outputs": [],
   "source": [
    "b1=np.array([1,2,3,4])\n",
    "b2=np.array([1,2,3,4])"
   ]
  },
  {
   "cell_type": "markdown",
   "id": "34289080-1faf-4973-a05c-1a8eb8965b0b",
   "metadata": {},
   "source": [
    "## 차원 "
   ]
  },
  {
   "cell_type": "markdown",
   "id": "189ce831-ccc1-4a90-a6dd-e467833df9c5",
   "metadata": {},
   "source": [
    "`-` 아래는 모두 미묘하게 다르다. "
   ]
  },
  {
   "cell_type": "code",
   "execution_count": 108,
   "id": "7c15b276-3320-4ec8-98f2-714c46ae9e1a",
   "metadata": {},
   "outputs": [
    {
     "data": {
      "text/plain": [
       "(array(1), ())"
      ]
     },
     "execution_count": 108,
     "metadata": {},
     "output_type": "execute_result"
    }
   ],
   "source": [
    "a= np.array(1) # 스칼라, 0d array\n",
    "a, a.shape"
   ]
  },
  {
   "cell_type": "code",
   "execution_count": 109,
   "id": "7ff259cf-a33b-4369-bd5f-f580fad6c093",
   "metadata": {},
   "outputs": [
    {
     "data": {
      "text/plain": [
       "(array([1]), (1,))"
      ]
     },
     "execution_count": 109,
     "metadata": {},
     "output_type": "execute_result"
    }
   ],
   "source": [
    "a= np.array([1]) #벡터, 1d array\n",
    "a, a.shape"
   ]
  },
  {
   "cell_type": "code",
   "execution_count": 110,
   "id": "f49eb854-dba8-4df5-85ec-b5cd8911f0f7",
   "metadata": {},
   "outputs": [
    {
     "data": {
      "text/plain": [
       "(array([[1]]), (1, 1))"
      ]
     },
     "execution_count": 110,
     "metadata": {},
     "output_type": "execute_result"
    }
   ],
   "source": [
    "a= np.array([[1]]) #메트릭스, 2d array\n",
    "a, a.shape"
   ]
  },
  {
   "cell_type": "code",
   "execution_count": 111,
   "id": "a4568c79-3cb0-4cf1-b0d4-b6ecdea4858e",
   "metadata": {},
   "outputs": [
    {
     "data": {
      "text/plain": [
       "(array([[[1]]]), (1, 1, 1))"
      ]
     },
     "execution_count": 111,
     "metadata": {},
     "output_type": "execute_result"
    }
   ],
   "source": [
    "a= np.array([[[1]]]) #텐서, 3d array\n",
    "a, a.shape"
   ]
  },
  {
   "cell_type": "markdown",
   "id": "9c3e4acb-5866-4516-aa03-9df3c7ba68ff",
   "metadata": {},
   "source": [
    "# numpy공부 4단계: 축의 개념 "
   ]
  },
  {
   "cell_type": "markdown",
   "id": "b7d1daab-7ac3-4686-a3aa-095898ddd308",
   "metadata": {},
   "source": [
    "## np.concatenate"
   ]
  },
  {
   "cell_type": "markdown",
   "id": "07a90033-00ff-41e5-a77f-385c64d9feaf",
   "metadata": {},
   "source": [
    "`-` 기본예제 "
   ]
  },
  {
   "cell_type": "code",
   "execution_count": 112,
   "id": "4401417e-9466-4f4a-97f3-65fbd3c0c0f1",
   "metadata": {},
   "outputs": [],
   "source": [
    "a=np.array([1,2])\n",
    "b=-a "
   ]
  },
  {
   "cell_type": "code",
   "execution_count": 113,
   "id": "88c7120e-001e-4d5f-9e50-fbc7d8518dc3",
   "metadata": {},
   "outputs": [
    {
     "data": {
      "text/plain": [
       "array([ 1,  2, -1, -2])"
      ]
     },
     "execution_count": 113,
     "metadata": {},
     "output_type": "execute_result"
    }
   ],
   "source": [
    "np.concatenate([a,b])"
   ]
  },
  {
   "cell_type": "markdown",
   "id": "c37669ad-b9e6-4963-99aa-a4d0f0f4abae",
   "metadata": {},
   "source": [
    "`-` 응용 "
   ]
  },
  {
   "cell_type": "code",
   "execution_count": 114,
   "id": "c59376c5-1386-4820-ae9e-21726107a757",
   "metadata": {},
   "outputs": [],
   "source": [
    "a=np.array([1,2])\n",
    "b=-a\n",
    "c=2*a"
   ]
  },
  {
   "cell_type": "code",
   "execution_count": 115,
   "id": "54969003-46bd-49ec-86f0-e2c177f8c255",
   "metadata": {},
   "outputs": [
    {
     "data": {
      "text/plain": [
       "array([ 1,  2, -1, -2,  2,  4])"
      ]
     },
     "execution_count": 115,
     "metadata": {},
     "output_type": "execute_result"
    }
   ],
   "source": [
    "np.concatenate([a,b,c])"
   ]
  },
  {
   "cell_type": "markdown",
   "id": "eecdfde6-2869-4bca-bca4-547f3b0e0217",
   "metadata": {},
   "source": [
    "- 여기까진 딱히 칸캐터네이트의 메리트가 없어보이죠? \n",
    "- 리스트였다면 a+b+c 하면 되는 기능이니까? "
   ]
  },
  {
   "cell_type": "markdown",
   "id": "41053b74-12ff-4c83-b1ab-59d79b78803e",
   "metadata": {},
   "source": [
    "`-` 2array 에 적용해보자 "
   ]
  },
  {
   "cell_type": "code",
   "execution_count": 116,
   "id": "9e9fd1ff-1724-4d4d-9eaa-173db8260d6f",
   "metadata": {},
   "outputs": [],
   "source": [
    "a=np.array(range(4)).reshape(2,2) \n",
    "b=-a"
   ]
  },
  {
   "cell_type": "code",
   "execution_count": 117,
   "id": "5ebf0bde-a8e3-4297-ab37-414b922cbfec",
   "metadata": {},
   "outputs": [
    {
     "data": {
      "text/plain": [
       "array([[ 0,  1],\n",
       "       [ 2,  3],\n",
       "       [ 0, -1],\n",
       "       [-2, -3]])"
      ]
     },
     "execution_count": 117,
     "metadata": {},
     "output_type": "execute_result"
    }
   ],
   "source": [
    "np.concatenate([a,b])"
   ]
  },
  {
   "cell_type": "markdown",
   "id": "a5d8b2b3-f94b-4de9-a0ee-77f87f32f3da",
   "metadata": {},
   "source": [
    "`-` 옆으로 붙일려면? "
   ]
  },
  {
   "cell_type": "code",
   "execution_count": 118,
   "id": "29d9a3f3-ae14-4838-9426-0884c75f616d",
   "metadata": {},
   "outputs": [
    {
     "data": {
      "text/plain": [
       "array([[ 0,  1,  0, -1],\n",
       "       [ 2,  3, -2, -3]])"
      ]
     },
     "execution_count": 118,
     "metadata": {},
     "output_type": "execute_result"
    }
   ],
   "source": [
    "np.concatenate([a,b],axis=1)"
   ]
  },
  {
   "cell_type": "markdown",
   "id": "6c350d59-f8a1-4ca6-996d-473b636e816a",
   "metadata": {},
   "source": [
    "`-` axis=1이 뭐지? axis=0,2 등을 치면 어떻게 될까? "
   ]
  },
  {
   "cell_type": "code",
   "execution_count": 119,
   "id": "f7cea585-4ae2-45c9-87b7-fb80e04d1f5e",
   "metadata": {},
   "outputs": [
    {
     "data": {
      "text/plain": [
       "array([[ 0,  1],\n",
       "       [ 2,  3],\n",
       "       [ 0, -1],\n",
       "       [-2, -3]])"
      ]
     },
     "execution_count": 119,
     "metadata": {},
     "output_type": "execute_result"
    }
   ],
   "source": [
    "np.concatenate([a,b],axis=0)"
   ]
  },
  {
   "cell_type": "markdown",
   "id": "531901d8-fa3f-4edf-bd04-f109ed66059b",
   "metadata": {},
   "source": [
    "- 이건 그냥 np.concatenate([a,b])와 같다. \n",
    "- np.concatenate([a,b])는 np.concatenate([a,b],axis=0) 의 생략버전이군? "
   ]
  },
  {
   "cell_type": "code",
   "execution_count": 120,
   "id": "6d2b2063-189b-4abb-a2df-b29a21553748",
   "metadata": {},
   "outputs": [
    {
     "ename": "AxisError",
     "evalue": "axis 2 is out of bounds for array of dimension 2",
     "output_type": "error",
     "traceback": [
      "\u001b[0;31m---------------------------------------------------------------------------\u001b[0m",
      "\u001b[0;31mAxisError\u001b[0m                                 Traceback (most recent call last)",
      "Input \u001b[0;32mIn [120]\u001b[0m, in \u001b[0;36m<cell line: 1>\u001b[0;34m()\u001b[0m\n\u001b[0;32m----> 1\u001b[0m \u001b[43mnp\u001b[49m\u001b[38;5;241;43m.\u001b[39;49m\u001b[43mconcatenate\u001b[49m\u001b[43m(\u001b[49m\u001b[43m[\u001b[49m\u001b[43ma\u001b[49m\u001b[43m,\u001b[49m\u001b[43mb\u001b[49m\u001b[43m]\u001b[49m\u001b[43m,\u001b[49m\u001b[43maxis\u001b[49m\u001b[38;5;241;43m=\u001b[39;49m\u001b[38;5;241;43m2\u001b[39;49m\u001b[43m)\u001b[49m\n",
      "File \u001b[0;32m<__array_function__ internals>:180\u001b[0m, in \u001b[0;36mconcatenate\u001b[0;34m(*args, **kwargs)\u001b[0m\n",
      "\u001b[0;31mAxisError\u001b[0m: axis 2 is out of bounds for array of dimension 2"
     ]
    }
   ],
   "source": [
    "np.concatenate([a,b],axis=2)"
   ]
  },
  {
   "cell_type": "markdown",
   "id": "af73bd00-6f80-4120-9ead-20aba9d08811",
   "metadata": {},
   "source": [
    "- 이런건 없다. "
   ]
  },
  {
   "cell_type": "markdown",
   "id": "8e761bbf-1c53-4ca2-9d2e-b51d477fa853",
   "metadata": {},
   "source": [
    "`-` axis의 의미가 뭔지 좀 궁금함. 좀더 예제를 살펴보자. "
   ]
  },
  {
   "cell_type": "code",
   "execution_count": 121,
   "id": "6fbe855b-ef22-4afe-b5bc-9ded18e8c2bc",
   "metadata": {},
   "outputs": [
    {
     "data": {
      "text/plain": [
       "array([[[ 0,  1,  2,  3],\n",
       "        [ 4,  5,  6,  7],\n",
       "        [ 8,  9, 10, 11]],\n",
       "\n",
       "       [[12, 13, 14, 15],\n",
       "        [16, 17, 18, 19],\n",
       "        [20, 21, 22, 23]]])"
      ]
     },
     "execution_count": 121,
     "metadata": {},
     "output_type": "execute_result"
    }
   ],
   "source": [
    "a=np.array(range(2*3*4)).reshape(2,3,4)\n",
    "a"
   ]
  },
  {
   "cell_type": "code",
   "execution_count": 122,
   "id": "7adaee98-3aca-4463-a383-db26f0e3fb17",
   "metadata": {},
   "outputs": [
    {
     "data": {
      "text/plain": [
       "array([[[  0,  -1,  -2,  -3],\n",
       "        [ -4,  -5,  -6,  -7],\n",
       "        [ -8,  -9, -10, -11]],\n",
       "\n",
       "       [[-12, -13, -14, -15],\n",
       "        [-16, -17, -18, -19],\n",
       "        [-20, -21, -22, -23]]])"
      ]
     },
     "execution_count": 122,
     "metadata": {},
     "output_type": "execute_result"
    }
   ],
   "source": [
    "b=-a\n",
    "b"
   ]
  },
  {
   "cell_type": "code",
   "execution_count": 123,
   "id": "ab898737-a915-41f6-978b-d72afd4e9bd9",
   "metadata": {},
   "outputs": [
    {
     "data": {
      "text/plain": [
       "array([[[  0,   1,   2,   3],\n",
       "        [  4,   5,   6,   7],\n",
       "        [  8,   9,  10,  11]],\n",
       "\n",
       "       [[ 12,  13,  14,  15],\n",
       "        [ 16,  17,  18,  19],\n",
       "        [ 20,  21,  22,  23]],\n",
       "\n",
       "       [[  0,  -1,  -2,  -3],\n",
       "        [ -4,  -5,  -6,  -7],\n",
       "        [ -8,  -9, -10, -11]],\n",
       "\n",
       "       [[-12, -13, -14, -15],\n",
       "        [-16, -17, -18, -19],\n",
       "        [-20, -21, -22, -23]]])"
      ]
     },
     "execution_count": 123,
     "metadata": {},
     "output_type": "execute_result"
    }
   ],
   "source": [
    "np.concatenate([a,b],axis=0)"
   ]
  },
  {
   "cell_type": "code",
   "execution_count": 124,
   "id": "cf0c5f9a-25f6-44fe-8f27-e82116dbb918",
   "metadata": {},
   "outputs": [
    {
     "data": {
      "text/plain": [
       "array([[[  0,   1,   2,   3],\n",
       "        [  4,   5,   6,   7],\n",
       "        [  8,   9,  10,  11],\n",
       "        [  0,  -1,  -2,  -3],\n",
       "        [ -4,  -5,  -6,  -7],\n",
       "        [ -8,  -9, -10, -11]],\n",
       "\n",
       "       [[ 12,  13,  14,  15],\n",
       "        [ 16,  17,  18,  19],\n",
       "        [ 20,  21,  22,  23],\n",
       "        [-12, -13, -14, -15],\n",
       "        [-16, -17, -18, -19],\n",
       "        [-20, -21, -22, -23]]])"
      ]
     },
     "execution_count": 124,
     "metadata": {},
     "output_type": "execute_result"
    }
   ],
   "source": [
    "np.concatenate([a,b],axis=1)"
   ]
  },
  {
   "cell_type": "code",
   "execution_count": 125,
   "id": "2e9b2591-cc09-4846-af54-81321027676c",
   "metadata": {},
   "outputs": [
    {
     "data": {
      "text/plain": [
       "array([[[  0,   1,   2,   3,   0,  -1,  -2,  -3],\n",
       "        [  4,   5,   6,   7,  -4,  -5,  -6,  -7],\n",
       "        [  8,   9,  10,  11,  -8,  -9, -10, -11]],\n",
       "\n",
       "       [[ 12,  13,  14,  15, -12, -13, -14, -15],\n",
       "        [ 16,  17,  18,  19, -16, -17, -18, -19],\n",
       "        [ 20,  21,  22,  23, -20, -21, -22, -23]]])"
      ]
     },
     "execution_count": 125,
     "metadata": {},
     "output_type": "execute_result"
    }
   ],
   "source": [
    "np.concatenate([a,b],axis=2)"
   ]
  },
  {
   "cell_type": "markdown",
   "id": "cb2e6151-db2b-450d-8870-0ea3d28100ce",
   "metadata": {},
   "source": [
    "- 이번에는 2까지 된다? "
   ]
  },
  {
   "cell_type": "code",
   "execution_count": 126,
   "id": "584df44b-9ab8-404f-a39b-4c793ea3506b",
   "metadata": {},
   "outputs": [
    {
     "ename": "AxisError",
     "evalue": "axis 3 is out of bounds for array of dimension 3",
     "output_type": "error",
     "traceback": [
      "\u001b[0;31m---------------------------------------------------------------------------\u001b[0m",
      "\u001b[0;31mAxisError\u001b[0m                                 Traceback (most recent call last)",
      "Input \u001b[0;32mIn [126]\u001b[0m, in \u001b[0;36m<cell line: 1>\u001b[0;34m()\u001b[0m\n\u001b[0;32m----> 1\u001b[0m \u001b[43mnp\u001b[49m\u001b[38;5;241;43m.\u001b[39;49m\u001b[43mconcatenate\u001b[49m\u001b[43m(\u001b[49m\u001b[43m[\u001b[49m\u001b[43ma\u001b[49m\u001b[43m,\u001b[49m\u001b[43mb\u001b[49m\u001b[43m]\u001b[49m\u001b[43m,\u001b[49m\u001b[43maxis\u001b[49m\u001b[38;5;241;43m=\u001b[39;49m\u001b[38;5;241;43m3\u001b[39;49m\u001b[43m)\u001b[49m\n",
      "File \u001b[0;32m<__array_function__ internals>:180\u001b[0m, in \u001b[0;36mconcatenate\u001b[0;34m(*args, **kwargs)\u001b[0m\n",
      "\u001b[0;31mAxisError\u001b[0m: axis 3 is out of bounds for array of dimension 3"
     ]
    }
   ],
   "source": [
    "np.concatenate([a,b],axis=3)"
   ]
  },
  {
   "cell_type": "markdown",
   "id": "4c714e6e-d6b4-4192-b6af-d9d3949d9798",
   "metadata": {},
   "source": [
    "- 3까지는 안된다? "
   ]
  },
  {
   "cell_type": "markdown",
   "id": "0a34e254-c1a6-4f81-9e37-c6a9bab4a166",
   "metadata": {},
   "source": [
    "`-` 뭔가 나름의 방식으로 합쳐지는데 원리가 뭘까? "
   ]
  },
  {
   "cell_type": "markdown",
   "id": "90df968b-3031-489c-8a4b-6bb168cd2e6c",
   "metadata": {},
   "source": [
    "(분석1) np.concatenate([a,b],axis=0)"
   ]
  },
  {
   "cell_type": "code",
   "execution_count": 127,
   "id": "5c0facf1-f689-46eb-919c-dd5497e8dfe8",
   "metadata": {},
   "outputs": [],
   "source": [
    "a=np.array(range(2*3*4)).reshape(2,3,4)\n",
    "b=-a"
   ]
  },
  {
   "cell_type": "code",
   "execution_count": 128,
   "id": "a8c6bf9d-c5e3-426e-a233-8fb41153d3e0",
   "metadata": {},
   "outputs": [
    {
     "data": {
      "text/plain": [
       "((2, 3, 4), (2, 3, 4), (4, 3, 4))"
      ]
     },
     "execution_count": 128,
     "metadata": {},
     "output_type": "execute_result"
    }
   ],
   "source": [
    "a.shape,b.shape, np.concatenate([a,b],axis=0).shape"
   ]
  },
  {
   "cell_type": "markdown",
   "id": "0d0f5d09-b51c-4696-98bd-39e0546ec3cb",
   "metadata": {},
   "source": [
    "- 첫번째차원이 바뀌었다 => 첫번째 축이 바뀌었다 => axis=0 (파이썬은 0부터 시작하니까!)"
   ]
  },
  {
   "cell_type": "markdown",
   "id": "d9848fac-fe1f-4f91-8eae-b9b0053485fc",
   "metadata": {},
   "source": [
    "(분석2) np.concatenate([a,b],axis=1)"
   ]
  },
  {
   "cell_type": "code",
   "execution_count": 129,
   "id": "aaa2912c-dbdd-49ab-b764-e3ef27080587",
   "metadata": {},
   "outputs": [],
   "source": [
    "a=np.array(range(2*3*4)).reshape(2,3,4)\n",
    "b=-a"
   ]
  },
  {
   "cell_type": "code",
   "execution_count": 130,
   "id": "6566b288-11c1-4961-8711-3b25897203ce",
   "metadata": {},
   "outputs": [
    {
     "data": {
      "text/plain": [
       "((2, 3, 4), (2, 3, 4), (2, 6, 4))"
      ]
     },
     "execution_count": 130,
     "metadata": {},
     "output_type": "execute_result"
    }
   ],
   "source": [
    "a.shape,b.shape, np.concatenate([a,b],axis=1).shape"
   ]
  },
  {
   "cell_type": "markdown",
   "id": "ced3e077-deb1-456f-9b82-1a15afedd35a",
   "metadata": {},
   "source": [
    "- 두번째차원이 바뀌었다 => 두번째 축이 바뀌었다 => axis=1 "
   ]
  },
  {
   "cell_type": "markdown",
   "id": "44dc7e58-c86e-4e44-b46c-0c77dcb70155",
   "metadata": {},
   "source": [
    "(분석3) np.concatenate([a,b],axis=2)"
   ]
  },
  {
   "cell_type": "code",
   "execution_count": 131,
   "id": "32f57d02-4c89-4eab-8a52-eaa3ab6054b1",
   "metadata": {},
   "outputs": [],
   "source": [
    "a=np.array(range(2*3*4)).reshape(2,3,4)\n",
    "b=-a"
   ]
  },
  {
   "cell_type": "code",
   "execution_count": 132,
   "id": "b423f79a-d480-4a83-bb03-5eb566b7b3ef",
   "metadata": {},
   "outputs": [
    {
     "data": {
      "text/plain": [
       "((2, 3, 4), (2, 3, 4), (2, 3, 8))"
      ]
     },
     "execution_count": 132,
     "metadata": {},
     "output_type": "execute_result"
    }
   ],
   "source": [
    "a.shape,b.shape, np.concatenate([a,b],axis=2).shape"
   ]
  },
  {
   "cell_type": "markdown",
   "id": "902f11c7-cc79-443d-94f7-dca22599eb81",
   "metadata": {},
   "source": [
    "- 세번째차원이 바뀌었다 => 세번째 축이 바뀌었다 => axis=2"
   ]
  },
  {
   "cell_type": "markdown",
   "id": "26fd8624-ea4b-4068-a2cb-5b19e8a3750c",
   "metadata": {},
   "source": [
    "(분석4) np.concatenate([a,b],axis=3) "
   ]
  },
  {
   "cell_type": "code",
   "execution_count": 133,
   "id": "d4cd52b3-d9ed-4b40-a7dd-01d2f419aebf",
   "metadata": {},
   "outputs": [],
   "source": [
    "a=np.array(range(2*3*4)).reshape(2,3,4)\n",
    "b=-a"
   ]
  },
  {
   "cell_type": "code",
   "execution_count": 134,
   "id": "1ea7a0ac-27d4-44c8-99ef-772a7d43818c",
   "metadata": {},
   "outputs": [
    {
     "ename": "AxisError",
     "evalue": "axis 3 is out of bounds for array of dimension 3",
     "output_type": "error",
     "traceback": [
      "\u001b[0;31m---------------------------------------------------------------------------\u001b[0m",
      "\u001b[0;31mAxisError\u001b[0m                                 Traceback (most recent call last)",
      "Input \u001b[0;32mIn [134]\u001b[0m, in \u001b[0;36m<cell line: 1>\u001b[0;34m()\u001b[0m\n\u001b[0;32m----> 1\u001b[0m a\u001b[38;5;241m.\u001b[39mshape,b\u001b[38;5;241m.\u001b[39mshape, \u001b[43mnp\u001b[49m\u001b[38;5;241;43m.\u001b[39;49m\u001b[43mconcatenate\u001b[49m\u001b[43m(\u001b[49m\u001b[43m[\u001b[49m\u001b[43ma\u001b[49m\u001b[43m,\u001b[49m\u001b[43mb\u001b[49m\u001b[43m]\u001b[49m\u001b[43m,\u001b[49m\u001b[43maxis\u001b[49m\u001b[38;5;241;43m=\u001b[39;49m\u001b[38;5;241;43m3\u001b[39;49m\u001b[43m)\u001b[49m\u001b[38;5;241m.\u001b[39mshape\n",
      "File \u001b[0;32m<__array_function__ internals>:180\u001b[0m, in \u001b[0;36mconcatenate\u001b[0;34m(*args, **kwargs)\u001b[0m\n",
      "\u001b[0;31mAxisError\u001b[0m: axis 3 is out of bounds for array of dimension 3"
     ]
    }
   ],
   "source": [
    "a.shape,b.shape, np.concatenate([a,b],axis=3).shape"
   ]
  },
  {
   "cell_type": "markdown",
   "id": "b01bbff4-4743-4b46-8f20-ce3253b14fcf",
   "metadata": {},
   "source": [
    "- 네번째 차원은 없다 => 네번째 축도 없다 => axis=3으로 하면 에러가 난다. "
   ]
  },
  {
   "cell_type": "markdown",
   "id": "45e3811d-44db-473b-ae1d-9446c481c966",
   "metadata": {},
   "source": [
    "(보너스) np.concatenate([a,b],axis=-1)"
   ]
  },
  {
   "cell_type": "code",
   "execution_count": 135,
   "id": "9807a278-ee61-4e44-b09e-9eca1359fdad",
   "metadata": {},
   "outputs": [],
   "source": [
    "a=np.array(range(2*3*4)).reshape(2,3,4)\n",
    "b=-a"
   ]
  },
  {
   "cell_type": "code",
   "execution_count": 136,
   "id": "948b67c6-ce31-4d94-9188-b9320b939b7e",
   "metadata": {},
   "outputs": [
    {
     "data": {
      "text/plain": [
       "array([[[  0,   1,   2,   3,   0,  -1,  -2,  -3],\n",
       "        [  4,   5,   6,   7,  -4,  -5,  -6,  -7],\n",
       "        [  8,   9,  10,  11,  -8,  -9, -10, -11]],\n",
       "\n",
       "       [[ 12,  13,  14,  15, -12, -13, -14, -15],\n",
       "        [ 16,  17,  18,  19, -16, -17, -18, -19],\n",
       "        [ 20,  21,  22,  23, -20, -21, -22, -23]]])"
      ]
     },
     "execution_count": 136,
     "metadata": {},
     "output_type": "execute_result"
    }
   ],
   "source": [
    "np.concatenate([a,b],axis=-1)"
   ]
  },
  {
   "cell_type": "code",
   "execution_count": 137,
   "id": "23e1d914-0792-40d2-be09-c5442e3601b5",
   "metadata": {},
   "outputs": [
    {
     "data": {
      "text/plain": [
       "((2, 3, 4), (2, 3, 4), (2, 3, 8))"
      ]
     },
     "execution_count": 137,
     "metadata": {},
     "output_type": "execute_result"
    }
   ],
   "source": [
    "a.shape,b.shape,np.concatenate([a,b],axis=-1).shape"
   ]
  },
  {
   "cell_type": "markdown",
   "id": "0e8cb463-ff8c-433b-b827-69937f6c1857",
   "metadata": {},
   "source": [
    "- 마지막 차원이 바뀌었다 => 마지막 축이 바뀌었다 => axis= -1 "
   ]
  },
  {
   "cell_type": "markdown",
   "id": "41942644-fe1f-41ec-833c-baef8acc6ca5",
   "metadata": {},
   "source": [
    "(보너스2) np.concatenate([a,b],axis=-2)"
   ]
  },
  {
   "cell_type": "code",
   "execution_count": 138,
   "id": "627d30bf-9ce0-49ac-9ce4-c7a6ce9ad5f2",
   "metadata": {},
   "outputs": [],
   "source": [
    "a=np.array(range(2*3*4)).reshape(2,3,4)\n",
    "b=-a"
   ]
  },
  {
   "cell_type": "code",
   "execution_count": 139,
   "id": "b07eecec-e50e-4541-b58e-71b810b649b1",
   "metadata": {},
   "outputs": [
    {
     "data": {
      "text/plain": [
       "array([[[  0,   1,   2,   3],\n",
       "        [  4,   5,   6,   7],\n",
       "        [  8,   9,  10,  11],\n",
       "        [  0,  -1,  -2,  -3],\n",
       "        [ -4,  -5,  -6,  -7],\n",
       "        [ -8,  -9, -10, -11]],\n",
       "\n",
       "       [[ 12,  13,  14,  15],\n",
       "        [ 16,  17,  18,  19],\n",
       "        [ 20,  21,  22,  23],\n",
       "        [-12, -13, -14, -15],\n",
       "        [-16, -17, -18, -19],\n",
       "        [-20, -21, -22, -23]]])"
      ]
     },
     "execution_count": 139,
     "metadata": {},
     "output_type": "execute_result"
    }
   ],
   "source": [
    "np.concatenate([a,b],axis=-2)"
   ]
  },
  {
   "cell_type": "code",
   "execution_count": 140,
   "id": "802b7e97-7d08-464a-9f2a-0b0633c678e2",
   "metadata": {},
   "outputs": [
    {
     "data": {
      "text/plain": [
       "((2, 3, 4), (2, 3, 4), (2, 6, 4))"
      ]
     },
     "execution_count": 140,
     "metadata": {},
     "output_type": "execute_result"
    }
   ],
   "source": [
    "a.shape,b.shape,np.concatenate([a,b],axis=-2).shape"
   ]
  },
  {
   "cell_type": "markdown",
   "id": "91801af5-750d-4df8-918b-447775400d7c",
   "metadata": {},
   "source": [
    "- 마지막에서 두번째 차원이 바뀌었다 => 마지막에서 두번째 축이 바뀌었다 => axis=-2 "
   ]
  },
  {
   "cell_type": "markdown",
   "id": "298ddee6-adf6-4b3a-8729-b74935790c5c",
   "metadata": {},
   "source": [
    "`-` 0차원은 축이 없으므로 concatenate를 쓸 수 없다. "
   ]
  },
  {
   "cell_type": "code",
   "execution_count": 141,
   "id": "3a03683f-4298-40fc-9736-3127c6ac80fe",
   "metadata": {},
   "outputs": [],
   "source": [
    "a=np.array(1)\n",
    "b=np.array(-1) "
   ]
  },
  {
   "cell_type": "code",
   "execution_count": 142,
   "id": "653b2e8d-0094-4202-b726-3d81800e4091",
   "metadata": {},
   "outputs": [
    {
     "data": {
      "text/plain": [
       "((), ())"
      ]
     },
     "execution_count": 142,
     "metadata": {},
     "output_type": "execute_result"
    }
   ],
   "source": [
    "a.shape,b.shape"
   ]
  },
  {
   "cell_type": "code",
   "execution_count": 143,
   "id": "1cc13ba6-f179-4a5e-bb59-368188cf3832",
   "metadata": {},
   "outputs": [
    {
     "ename": "ValueError",
     "evalue": "zero-dimensional arrays cannot be concatenated",
     "output_type": "error",
     "traceback": [
      "\u001b[0;31m---------------------------------------------------------------------------\u001b[0m",
      "\u001b[0;31mValueError\u001b[0m                                Traceback (most recent call last)",
      "Input \u001b[0;32mIn [143]\u001b[0m, in \u001b[0;36m<cell line: 1>\u001b[0;34m()\u001b[0m\n\u001b[0;32m----> 1\u001b[0m \u001b[43mnp\u001b[49m\u001b[38;5;241;43m.\u001b[39;49m\u001b[43mconcatenate\u001b[49m\u001b[43m(\u001b[49m\u001b[43m[\u001b[49m\u001b[43ma\u001b[49m\u001b[43m,\u001b[49m\u001b[43mb\u001b[49m\u001b[43m]\u001b[49m\u001b[43m)\u001b[49m\n",
      "File \u001b[0;32m<__array_function__ internals>:180\u001b[0m, in \u001b[0;36mconcatenate\u001b[0;34m(*args, **kwargs)\u001b[0m\n",
      "\u001b[0;31mValueError\u001b[0m: zero-dimensional arrays cannot be concatenated"
     ]
    }
   ],
   "source": [
    "np.concatenate([a,b])"
   ]
  },
  {
   "cell_type": "markdown",
   "id": "3d3c5643-4bd8-47c2-aab0-f33f58b3e2bb",
   "metadata": {},
   "source": [
    "`-` 꼭 a,b가 같은 차원일 필요는 없다. "
   ]
  },
  {
   "cell_type": "code",
   "execution_count": 144,
   "id": "046a87c7-4b0a-4e0c-9e43-f41680005035",
   "metadata": {},
   "outputs": [],
   "source": [
    "a=np.array(range(4)).reshape(2,2)\n",
    "b=np.array(range(2)).reshape(2,1) "
   ]
  },
  {
   "cell_type": "code",
   "execution_count": 145,
   "id": "b1fc3805-8853-4a41-be1b-764c1893d10e",
   "metadata": {},
   "outputs": [
    {
     "data": {
      "text/plain": [
       "array([[0, 1, 0],\n",
       "       [2, 3, 1]])"
      ]
     },
     "execution_count": 145,
     "metadata": {},
     "output_type": "execute_result"
    }
   ],
   "source": [
    "np.concatenate([a,b],axis=1)"
   ]
  },
  {
   "cell_type": "code",
   "execution_count": 146,
   "id": "af98212f-5994-4336-b9a8-583c9a78c00d",
   "metadata": {},
   "outputs": [
    {
     "data": {
      "text/plain": [
       "((2, 2), (2, 1), (2, 3))"
      ]
     },
     "execution_count": 146,
     "metadata": {},
     "output_type": "execute_result"
    }
   ],
   "source": [
    "a.shape,b.shape,np.concatenate([a,b],axis=1).shape"
   ]
  },
  {
   "cell_type": "markdown",
   "id": "2f4fb69b-24d1-4700-aa16-85b66361fe48",
   "metadata": {},
   "source": [
    "## np.stack"
   ]
  },
  {
   "cell_type": "markdown",
   "id": "b6199ede-f8cb-4bd6-b379-cc98718f9354",
   "metadata": {},
   "source": [
    "`-` 혹시 아래가 가능할까? \n",
    "- (3,) 결합 (3,) => (3,2) "
   ]
  },
  {
   "cell_type": "code",
   "execution_count": 147,
   "id": "dc81c968-5af3-463a-923a-426faf0c655d",
   "metadata": {},
   "outputs": [],
   "source": [
    "a=np.array([1,2,3])\n",
    "b=-a"
   ]
  },
  {
   "cell_type": "code",
   "execution_count": 148,
   "id": "15e9ff64-eae1-435d-ae9e-126b59fc7258",
   "metadata": {},
   "outputs": [
    {
     "data": {
      "text/plain": [
       "(array([1, 2, 3]), array([-1, -2, -3]))"
      ]
     },
     "execution_count": 148,
     "metadata": {},
     "output_type": "execute_result"
    }
   ],
   "source": [
    "a,b"
   ]
  },
  {
   "cell_type": "code",
   "execution_count": 149,
   "id": "9115cc41-fe0f-4ac9-a247-74f8a12b31ec",
   "metadata": {},
   "outputs": [
    {
     "ename": "AxisError",
     "evalue": "axis 1 is out of bounds for array of dimension 1",
     "output_type": "error",
     "traceback": [
      "\u001b[0;31m---------------------------------------------------------------------------\u001b[0m",
      "\u001b[0;31mAxisError\u001b[0m                                 Traceback (most recent call last)",
      "Input \u001b[0;32mIn [149]\u001b[0m, in \u001b[0;36m<cell line: 1>\u001b[0;34m()\u001b[0m\n\u001b[0;32m----> 1\u001b[0m \u001b[43mnp\u001b[49m\u001b[38;5;241;43m.\u001b[39;49m\u001b[43mconcatenate\u001b[49m\u001b[43m(\u001b[49m\u001b[43m[\u001b[49m\u001b[43ma\u001b[49m\u001b[43m,\u001b[49m\u001b[43mb\u001b[49m\u001b[43m]\u001b[49m\u001b[43m,\u001b[49m\u001b[43maxis\u001b[49m\u001b[38;5;241;43m=\u001b[39;49m\u001b[38;5;241;43m1\u001b[39;49m\u001b[43m)\u001b[49m\n",
      "File \u001b[0;32m<__array_function__ internals>:180\u001b[0m, in \u001b[0;36mconcatenate\u001b[0;34m(*args, **kwargs)\u001b[0m\n",
      "\u001b[0;31mAxisError\u001b[0m: axis 1 is out of bounds for array of dimension 1"
     ]
    }
   ],
   "source": [
    "np.concatenate([a,b],axis=1)"
   ]
  },
  {
   "cell_type": "markdown",
   "id": "c32edee3-ac2f-4c5b-834f-15e7dfbe7871",
   "metadata": {},
   "source": [
    "- 불가능"
   ]
  },
  {
   "cell_type": "markdown",
   "id": "abc620d1-e1fe-4a82-aebe-079cb72dac23",
   "metadata": {},
   "source": [
    "`-` 아래와 같이 하면 가능하다. "
   ]
  },
  {
   "cell_type": "code",
   "execution_count": 150,
   "id": "7d2ccd5c-447d-48cf-a668-231dc83816ea",
   "metadata": {},
   "outputs": [],
   "source": [
    "a=np.array([1,2,3])\n",
    "b=-a"
   ]
  },
  {
   "cell_type": "code",
   "execution_count": 151,
   "id": "93b74ae4-f49f-45b5-af4c-18b2f6808996",
   "metadata": {},
   "outputs": [
    {
     "data": {
      "text/plain": [
       "array([[ 1, -1],\n",
       "       [ 2, -2],\n",
       "       [ 3, -3]])"
      ]
     },
     "execution_count": 151,
     "metadata": {},
     "output_type": "execute_result"
    }
   ],
   "source": [
    "np.concatenate([a.reshape(3,1), b.reshape(3,1)],axis=1)"
   ]
  },
  {
   "cell_type": "markdown",
   "id": "393ccec2-462e-42f1-84f8-0901a9692591",
   "metadata": {},
   "source": [
    "- 분석: (3) (3) => (3,1) (3,1) => (3,1) concat (3,1) "
   ]
  },
  {
   "cell_type": "markdown",
   "id": "2021279d-2407-4877-bb6d-f41ae24a250c",
   "metadata": {},
   "source": [
    "`-` 이걸 줄여서 아래와 같이 할 수 있다. "
   ]
  },
  {
   "cell_type": "code",
   "execution_count": 152,
   "id": "9fb23aa9-4646-4cf6-97ff-f34e61279204",
   "metadata": {},
   "outputs": [
    {
     "data": {
      "text/plain": [
       "array([[ 1, -1],\n",
       "       [ 2, -2],\n",
       "       [ 3, -3]])"
      ]
     },
     "execution_count": 152,
     "metadata": {},
     "output_type": "execute_result"
    }
   ],
   "source": [
    "np.stack([a, b],axis=1)"
   ]
  },
  {
   "cell_type": "markdown",
   "id": "a14ec1cc-efcb-4a7d-8d3d-0d77a40cba85",
   "metadata": {},
   "source": [
    "`-` 아래도 가능 "
   ]
  },
  {
   "cell_type": "code",
   "execution_count": 153,
   "id": "8260a47b-1e82-4af7-9fcb-63422f8c12a6",
   "metadata": {},
   "outputs": [
    {
     "data": {
      "text/plain": [
       "array([[ 1,  2,  3],\n",
       "       [-1, -2, -3]])"
      ]
     },
     "execution_count": 153,
     "metadata": {},
     "output_type": "execute_result"
    }
   ],
   "source": [
    "np.stack([a,b],axis=0)"
   ]
  },
  {
   "cell_type": "markdown",
   "id": "1ae4d378-2e57-4c56-9771-ca9d4b2dec1a",
   "metadata": {},
   "source": [
    "`-` 분석해보고 외우자 "
   ]
  },
  {
   "cell_type": "markdown",
   "id": "b13314ea-26e0-46b2-9d57-3b5255d3943a",
   "metadata": {},
   "source": [
    "(분석1)"
   ]
  },
  {
   "cell_type": "code",
   "execution_count": 154,
   "id": "a850759b-836e-4432-be20-39ee58b81193",
   "metadata": {},
   "outputs": [],
   "source": [
    "a=np.array([1,2,3])\n",
    "b=-a"
   ]
  },
  {
   "cell_type": "code",
   "execution_count": 155,
   "id": "4c06093b-dbba-489c-afa3-59123bc82bd9",
   "metadata": {},
   "outputs": [
    {
     "data": {
      "text/plain": [
       "((3,), (3,), (2, 3))"
      ]
     },
     "execution_count": 155,
     "metadata": {},
     "output_type": "execute_result"
    }
   ],
   "source": [
    "a.shape,b.shape,np.stack([a,b],axis=0).shape"
   ]
  },
  {
   "cell_type": "markdown",
   "id": "cf280f45-ea29-47b3-aed9-9410174e5286",
   "metadata": {},
   "source": [
    "- (3) (3) => 첫위치에 축을 추가 (axis=0) => (1,3) (1,3) => (2,3) "
   ]
  },
  {
   "cell_type": "markdown",
   "id": "b662f74d-9a2b-4e7c-8434-deed090531f3",
   "metadata": {},
   "source": [
    "(분석2) "
   ]
  },
  {
   "cell_type": "code",
   "execution_count": 156,
   "id": "635c2d3e-bf62-4ad1-a0b5-a6340ccbd3a1",
   "metadata": {},
   "outputs": [],
   "source": [
    "a=np.array([1,2,3])\n",
    "b=-a"
   ]
  },
  {
   "cell_type": "code",
   "execution_count": 157,
   "id": "03e75606-5650-464a-a3a6-893b27a28f0c",
   "metadata": {},
   "outputs": [
    {
     "data": {
      "text/plain": [
       "((3,), (3,), (3, 2))"
      ]
     },
     "execution_count": 157,
     "metadata": {},
     "output_type": "execute_result"
    }
   ],
   "source": [
    "a.shape,b.shape,np.stack([a,b],axis=1).shape"
   ]
  },
  {
   "cell_type": "markdown",
   "id": "d701fac7-2720-49c9-b0f7-ef8d4b6c3078",
   "metadata": {},
   "source": [
    "- (3) (3) => 두번째 위치에 축을 추가 (axis=1) => (3,1) (3,1) => (3,2) "
   ]
  },
  {
   "cell_type": "markdown",
   "id": "4fddf92f-0855-4883-b53d-4618b4e0a07a",
   "metadata": {},
   "source": [
    "`-` 고차원예제 "
   ]
  },
  {
   "cell_type": "code",
   "execution_count": 158,
   "id": "27bb124a-7017-4fd5-b991-9a7e120e9194",
   "metadata": {},
   "outputs": [],
   "source": [
    "a=np.arange(3*4*5).reshape(3,4,5)\n",
    "b=-a"
   ]
  },
  {
   "cell_type": "code",
   "execution_count": 159,
   "id": "f0abe1f5-6aae-4813-93b3-a24abf40f3e2",
   "metadata": {},
   "outputs": [
    {
     "data": {
      "text/plain": [
       "((3, 4, 5), (3, 4, 5))"
      ]
     },
     "execution_count": 159,
     "metadata": {},
     "output_type": "execute_result"
    }
   ],
   "source": [
    "a.shape,b.shape"
   ]
  },
  {
   "cell_type": "code",
   "execution_count": 160,
   "id": "5e1160b8-d1d1-4378-85fb-a0f4edc4a121",
   "metadata": {},
   "outputs": [
    {
     "data": {
      "text/plain": [
       "(2, 3, 4, 5)"
      ]
     },
     "execution_count": 160,
     "metadata": {},
     "output_type": "execute_result"
    }
   ],
   "source": [
    "np.stack([a,b],axis=0).shape # (3,4,5) => (1,3,4,5) // 첫위치에 축이 추가"
   ]
  },
  {
   "cell_type": "code",
   "execution_count": 161,
   "id": "bd714109-de8f-44ae-9c18-8ddea8f78bb0",
   "metadata": {},
   "outputs": [
    {
     "data": {
      "text/plain": [
       "(3, 2, 4, 5)"
      ]
     },
     "execution_count": 161,
     "metadata": {},
     "output_type": "execute_result"
    }
   ],
   "source": [
    "np.stack([a,b],axis=1).shape # (3,4,5) => (3,1,4,5) // 두번쨰 위치에 축이 추가"
   ]
  },
  {
   "cell_type": "code",
   "execution_count": 162,
   "id": "d894cb61-54e6-465c-9ee7-d312dc107b47",
   "metadata": {},
   "outputs": [
    {
     "data": {
      "text/plain": [
       "(3, 4, 2, 5)"
      ]
     },
     "execution_count": 162,
     "metadata": {},
     "output_type": "execute_result"
    }
   ],
   "source": [
    "np.stack([a,b],axis=2).shape # (3,4,5) => (3,4,1,5) // axis=2 "
   ]
  },
  {
   "cell_type": "code",
   "execution_count": 163,
   "id": "3df361cf-effa-41d8-a18e-cf194d6026bc",
   "metadata": {},
   "outputs": [
    {
     "data": {
      "text/plain": [
       "(3, 4, 5, 2)"
      ]
     },
     "execution_count": 163,
     "metadata": {},
     "output_type": "execute_result"
    }
   ],
   "source": [
    "np.stack([a,b],axis=3).shape # (3,4,5) => (3,4,5,1) // axis=3"
   ]
  },
  {
   "cell_type": "code",
   "execution_count": 164,
   "id": "d8f01c6e-43f8-4f3b-b1cf-a92034aeedb6",
   "metadata": {},
   "outputs": [
    {
     "data": {
      "text/plain": [
       "(3, 4, 5, 2)"
      ]
     },
     "execution_count": 164,
     "metadata": {},
     "output_type": "execute_result"
    }
   ],
   "source": [
    "np.stack([a,b],axis=-1).shape # (3,4,5) => (3,4,5,1) // axis=-1 <=> axis=3 "
   ]
  },
  {
   "cell_type": "markdown",
   "id": "84afd85e-0707-41ee-937a-cf0af55e5a61",
   "metadata": {},
   "source": [
    "***np.concatenate 는 축의 총 갯수를 유지하면서 결합, np.stack은 축의 갯수를 하나 증가시키며 결합*** "
   ]
  },
  {
   "cell_type": "markdown",
   "id": "0bfcb7ea-19c7-47a1-9fc8-ccfd0dce7d77",
   "metadata": {},
   "source": [
    "## sum "
   ]
  },
  {
   "cell_type": "markdown",
   "id": "bc496488-8d75-422b-b8f1-41434d246a7e",
   "metadata": {},
   "source": [
    "`-` 1차원 "
   ]
  },
  {
   "cell_type": "code",
   "execution_count": 165,
   "id": "3457fc27-3894-489e-b9d1-37143ad1a2de",
   "metadata": {},
   "outputs": [
    {
     "data": {
      "text/plain": [
       "array([1, 2, 3])"
      ]
     },
     "execution_count": 165,
     "metadata": {},
     "output_type": "execute_result"
    }
   ],
   "source": [
    "a=np.array([1,2,3])\n",
    "a"
   ]
  },
  {
   "cell_type": "code",
   "execution_count": 166,
   "id": "2052811f-4a63-4342-be66-03006b1a3458",
   "metadata": {},
   "outputs": [
    {
     "data": {
      "text/plain": [
       "6"
      ]
     },
     "execution_count": 166,
     "metadata": {},
     "output_type": "execute_result"
    }
   ],
   "source": [
    "a.sum()"
   ]
  },
  {
   "cell_type": "code",
   "execution_count": 167,
   "id": "e8b73728-8a34-4534-a55d-5142dd5aa59d",
   "metadata": {},
   "outputs": [
    {
     "data": {
      "text/plain": [
       "6"
      ]
     },
     "execution_count": 167,
     "metadata": {},
     "output_type": "execute_result"
    }
   ],
   "source": [
    "a.sum(axis=0)"
   ]
  },
  {
   "cell_type": "markdown",
   "id": "0631c4a0-6ef4-4fc8-a862-38eb59ea3d13",
   "metadata": {},
   "source": [
    "`-` 2차원 "
   ]
  },
  {
   "cell_type": "code",
   "execution_count": 168,
   "id": "ef564eec-6c03-4dc0-abf3-392150cf3269",
   "metadata": {},
   "outputs": [
    {
     "data": {
      "text/plain": [
       "array([[0, 1, 2],\n",
       "       [3, 4, 5]])"
      ]
     },
     "execution_count": 168,
     "metadata": {},
     "output_type": "execute_result"
    }
   ],
   "source": [
    "a=np.array(range(6)).reshape(2,3)\n",
    "a"
   ]
  },
  {
   "cell_type": "code",
   "execution_count": 169,
   "id": "a3833c10-09c2-4faa-bf6f-f1e4c2af54e6",
   "metadata": {},
   "outputs": [
    {
     "data": {
      "text/plain": [
       "array([3, 5, 7])"
      ]
     },
     "execution_count": 169,
     "metadata": {},
     "output_type": "execute_result"
    }
   ],
   "source": [
    "a.sum(axis=0)"
   ]
  },
  {
   "cell_type": "code",
   "execution_count": 170,
   "id": "c54b0c72-1162-40ea-b230-d5fc19c875f6",
   "metadata": {},
   "outputs": [
    {
     "data": {
      "text/plain": [
       "array([ 3, 12])"
      ]
     },
     "execution_count": 170,
     "metadata": {},
     "output_type": "execute_result"
    }
   ],
   "source": [
    "a.sum(axis=1)"
   ]
  },
  {
   "cell_type": "markdown",
   "id": "cfe5dc92-9202-44ea-a6fb-511ac6020c1a",
   "metadata": {},
   "source": [
    "`-` 2차원 결과 분석 "
   ]
  },
  {
   "cell_type": "code",
   "execution_count": 171,
   "id": "a490af0e-b2cc-450a-8892-df2a1ba32975",
   "metadata": {},
   "outputs": [
    {
     "data": {
      "text/plain": [
       "((2, 3), (3,))"
      ]
     },
     "execution_count": 171,
     "metadata": {},
     "output_type": "execute_result"
    }
   ],
   "source": [
    "a.shape, a.sum(axis=0).shape "
   ]
  },
  {
   "cell_type": "markdown",
   "id": "e7eff6b0-646c-4ef3-b422-83cba4323fd3",
   "metadata": {},
   "source": [
    "- 첫번째 축이 삭제됨 "
   ]
  },
  {
   "cell_type": "code",
   "execution_count": 172,
   "id": "a44e2bf9-bfd4-4acd-9db3-122501fc0e7a",
   "metadata": {},
   "outputs": [
    {
     "data": {
      "text/plain": [
       "((2, 3), (2,))"
      ]
     },
     "execution_count": 172,
     "metadata": {},
     "output_type": "execute_result"
    }
   ],
   "source": [
    "a.shape, a.sum(axis=1).shape "
   ]
  },
  {
   "cell_type": "markdown",
   "id": "07b3bb7d-327a-4943-9351-2f186f812277",
   "metadata": {},
   "source": [
    "- 두번째 축이 삭제됨 "
   ]
  },
  {
   "cell_type": "markdown",
   "id": "e8afc3f2-1a1f-4190-abbf-a84708d4224d",
   "metadata": {},
   "source": [
    "`-` 연습"
   ]
  },
  {
   "cell_type": "code",
   "execution_count": 173,
   "id": "ce6c372c-e46e-4844-afc4-24b1e7fb0ad9",
   "metadata": {},
   "outputs": [
    {
     "data": {
      "text/plain": [
       "array([[0, 1],\n",
       "       [2, 3],\n",
       "       [4, 5],\n",
       "       [6, 7],\n",
       "       [8, 9]])"
      ]
     },
     "execution_count": 173,
     "metadata": {},
     "output_type": "execute_result"
    }
   ],
   "source": [
    "a=np.array(range(10)).reshape(5,2)\n",
    "a"
   ]
  },
  {
   "cell_type": "markdown",
   "id": "4432624f-507a-4c08-a77c-6696bb5689b3",
   "metadata": {},
   "source": [
    "(문제1) 1열의 합, 2열의 합을 계산하고 싶다면? "
   ]
  },
  {
   "cell_type": "markdown",
   "id": "772c1555-88c1-49dc-a78d-e7bfc021498c",
   "metadata": {},
   "source": [
    "(풀이) 차원이 (5,2) => (2,) 로 나와야 한다 (그럼 첫번째 축이 삭제되어야하네?)"
   ]
  },
  {
   "cell_type": "code",
   "execution_count": 174,
   "id": "c074a13b-3450-4896-a500-6c867754cc23",
   "metadata": {},
   "outputs": [
    {
     "data": {
      "text/plain": [
       "array([20, 25])"
      ]
     },
     "execution_count": 174,
     "metadata": {},
     "output_type": "execute_result"
    }
   ],
   "source": [
    "a.sum(axis=0)"
   ]
  },
  {
   "cell_type": "markdown",
   "id": "1a511b76-d6bd-4796-b35a-58df8043ee51",
   "metadata": {},
   "source": [
    "(문제2) 1행의 합, 2행의 합, ..., 5행의 합을 계산하고 싶다면? "
   ]
  },
  {
   "cell_type": "markdown",
   "id": "35603d1a-5ef8-4b83-b379-f056101923e8",
   "metadata": {},
   "source": [
    "(풀이) 차원이 (5,2) => (5,)로 나와야 한다 (그럼 두번째 축이 삭제되어야하네?)"
   ]
  },
  {
   "cell_type": "code",
   "execution_count": 175,
   "id": "90febc57-89e0-4651-a30f-df98e0bc9bb0",
   "metadata": {},
   "outputs": [
    {
     "data": {
      "text/plain": [
       "array([ 1,  5,  9, 13, 17])"
      ]
     },
     "execution_count": 175,
     "metadata": {},
     "output_type": "execute_result"
    }
   ],
   "source": [
    "a.sum(axis=1)"
   ]
  },
  {
   "cell_type": "markdown",
   "id": "0009f1c7-2aa6-42f8-be4c-6ebccc23643a",
   "metadata": {},
   "source": [
    "(문제3) a의 모든원소의 합을 계산하고 싶다면? "
   ]
  },
  {
   "cell_type": "markdown",
   "id": "9c642ef4-311e-469d-a85c-1f9a55f5f137",
   "metadata": {},
   "source": [
    "(풀이) 차원이 (5,2) => () 로 나와야 한다 (첫번째축, 두번째축 모두 삭제되어야 하네?)"
   ]
  },
  {
   "cell_type": "code",
   "execution_count": 176,
   "id": "bdb4f334-1041-4ff5-82d9-ba300481c700",
   "metadata": {},
   "outputs": [
    {
     "data": {
      "text/plain": [
       "45"
      ]
     },
     "execution_count": 176,
     "metadata": {},
     "output_type": "execute_result"
    }
   ],
   "source": [
    "a.sum(axis=(0,1))"
   ]
  },
  {
   "cell_type": "code",
   "execution_count": 177,
   "id": "94415ff0-3498-49f2-b31b-04fbd4a7a070",
   "metadata": {},
   "outputs": [
    {
     "data": {
      "text/plain": [
       "45"
      ]
     },
     "execution_count": 177,
     "metadata": {},
     "output_type": "execute_result"
    }
   ],
   "source": [
    "a.sum() # 즉 a.sum(axis=(0,1))이 디폴트값임 "
   ]
  },
  {
   "cell_type": "markdown",
   "id": "5d175908-1ae0-4aa8-8abd-5386162d3a33",
   "metadata": {},
   "source": [
    "## mean, max, min, prod"
   ]
  },
  {
   "cell_type": "markdown",
   "id": "aa7d3cca-fd72-4695-8487-af3cf2da3825",
   "metadata": {},
   "source": [
    "`-` 모두 sum과 유사한논리 "
   ]
  },
  {
   "cell_type": "code",
   "execution_count": 178,
   "id": "204c7278-c5ce-4692-b004-83fcf5094dfd",
   "metadata": {},
   "outputs": [
    {
     "data": {
      "text/plain": [
       "array([[0, 1],\n",
       "       [2, 3],\n",
       "       [4, 5],\n",
       "       [6, 7],\n",
       "       [8, 9]])"
      ]
     },
     "execution_count": 178,
     "metadata": {},
     "output_type": "execute_result"
    }
   ],
   "source": [
    "a=np.array(range(10)).reshape(5,2)\n",
    "a"
   ]
  },
  {
   "cell_type": "code",
   "execution_count": 179,
   "id": "33623f86-0d1d-412c-bec4-0be7dcc005f9",
   "metadata": {},
   "outputs": [
    {
     "data": {
      "text/plain": [
       "(array([4., 5.]),\n",
       " array([2.82842712, 2.82842712]),\n",
       " array([8, 9]),\n",
       " array([0, 1]),\n",
       " array([  0, 945]))"
      ]
     },
     "execution_count": 179,
     "metadata": {},
     "output_type": "execute_result"
    }
   ],
   "source": [
    "a.mean(axis=0), a.std(axis=0), a.max(axis=0), a.min(axis=0), a.prod(axis=0)"
   ]
  },
  {
   "cell_type": "code",
   "execution_count": 180,
   "id": "bb7f890f-f7fc-4e46-9fe1-3e39369d109f",
   "metadata": {},
   "outputs": [
    {
     "data": {
      "text/plain": [
       "(array([0.5, 2.5, 4.5, 6.5, 8.5]),\n",
       " array([0.5, 0.5, 0.5, 0.5, 0.5]),\n",
       " array([1, 3, 5, 7, 9]),\n",
       " array([0, 2, 4, 6, 8]),\n",
       " array([ 0,  6, 20, 42, 72]))"
      ]
     },
     "execution_count": 180,
     "metadata": {},
     "output_type": "execute_result"
    }
   ],
   "source": [
    "a.mean(axis=1), a.std(axis=1), a.max(axis=1), a.min(axis=1), a.prod(axis=1)"
   ]
  },
  {
   "cell_type": "markdown",
   "id": "d4e46910-c5d5-4661-8a30-d4596f63f5e3",
   "metadata": {},
   "source": [
    "`-` 참고로 std는 분모를 n으로 나눈다. "
   ]
  },
  {
   "cell_type": "code",
   "execution_count": 181,
   "id": "645848d0-3ad5-404b-95d7-46813e08d48c",
   "metadata": {},
   "outputs": [
    {
     "data": {
      "text/plain": [
       "1.118033988749895"
      ]
     },
     "execution_count": 181,
     "metadata": {},
     "output_type": "execute_result"
    }
   ],
   "source": [
    "a=np.array([1,2,3,4])\n",
    "a.std()"
   ]
  },
  {
   "cell_type": "code",
   "execution_count": 182,
   "id": "2ba29634-7367-4b88-939b-5e0352084571",
   "metadata": {},
   "outputs": [
    {
     "data": {
      "text/plain": [
       "1.118033988749895"
      ]
     },
     "execution_count": 182,
     "metadata": {},
     "output_type": "execute_result"
    }
   ],
   "source": [
    "np.sqrt(sum((a-a.mean())**2)/4)"
   ]
  },
  {
   "cell_type": "markdown",
   "id": "a4b18694-1931-48b5-954d-b64fd1aaa177",
   "metadata": {},
   "source": [
    "`-` 분모를 n-1로 나눌려면? "
   ]
  },
  {
   "cell_type": "code",
   "execution_count": 183,
   "id": "593055ca-04a7-41a5-a8e5-3126bd0f3179",
   "metadata": {},
   "outputs": [
    {
     "data": {
      "text/plain": [
       "1.2909944487358056"
      ]
     },
     "execution_count": 183,
     "metadata": {},
     "output_type": "execute_result"
    }
   ],
   "source": [
    "a=np.array([1,2,3,4])\n",
    "a.std(ddof=1)"
   ]
  },
  {
   "cell_type": "code",
   "execution_count": 184,
   "id": "092a3d31-7981-4b79-89c9-ae5d2b129154",
   "metadata": {},
   "outputs": [
    {
     "data": {
      "text/plain": [
       "1.2909944487358056"
      ]
     },
     "execution_count": 184,
     "metadata": {},
     "output_type": "execute_result"
    }
   ],
   "source": [
    "np.sqrt(sum((a-a.mean())**2)/3)"
   ]
  },
  {
   "cell_type": "markdown",
   "id": "816ab454-74c3-47d0-9a28-5ca2f16f8773",
   "metadata": {},
   "source": [
    "## argmax, argmin"
   ]
  },
  {
   "cell_type": "markdown",
   "id": "3d7dba25-aaba-47fb-9229-10577c7e2f2d",
   "metadata": {},
   "source": [
    "`-` 1차원 "
   ]
  },
  {
   "cell_type": "code",
   "execution_count": 185,
   "id": "581944a2-d141-4d7b-9425-76f4c17349a3",
   "metadata": {},
   "outputs": [
    {
     "data": {
      "text/plain": [
       "array([ 1, -2,  3, 10,  4])"
      ]
     },
     "execution_count": 185,
     "metadata": {},
     "output_type": "execute_result"
    }
   ],
   "source": [
    "a=np.array([1,-2,3,10,4])\n",
    "a"
   ]
  },
  {
   "cell_type": "code",
   "execution_count": 186,
   "id": "dbb752aa-d669-4977-a698-d723eb734e40",
   "metadata": {},
   "outputs": [
    {
     "data": {
      "text/plain": [
       "3"
      ]
     },
     "execution_count": 186,
     "metadata": {},
     "output_type": "execute_result"
    }
   ],
   "source": [
    "a.argmax()"
   ]
  },
  {
   "cell_type": "code",
   "execution_count": 187,
   "id": "c914dea6-2a06-4ca0-bea9-f9c4c050b3b6",
   "metadata": {},
   "outputs": [
    {
     "data": {
      "text/plain": [
       "3"
      ]
     },
     "execution_count": 187,
     "metadata": {},
     "output_type": "execute_result"
    }
   ],
   "source": [
    "a.argmax(axis=0)"
   ]
  },
  {
   "cell_type": "code",
   "execution_count": 188,
   "id": "07d981e5-1183-4f5d-bc64-217e02ea2d85",
   "metadata": {},
   "outputs": [
    {
     "data": {
      "text/plain": [
       "1"
      ]
     },
     "execution_count": 188,
     "metadata": {},
     "output_type": "execute_result"
    }
   ],
   "source": [
    "a.argmin()"
   ]
  },
  {
   "cell_type": "code",
   "execution_count": 189,
   "id": "7b686f1a-0d4d-46b8-b21d-747865b358d9",
   "metadata": {},
   "outputs": [
    {
     "data": {
      "text/plain": [
       "1"
      ]
     },
     "execution_count": 189,
     "metadata": {},
     "output_type": "execute_result"
    }
   ],
   "source": [
    "a.argmin(axis=0)"
   ]
  },
  {
   "cell_type": "markdown",
   "id": "b0280332-d08b-4f1c-8f41-0f0d38593df5",
   "metadata": {},
   "source": [
    "`-` 2차원 "
   ]
  },
  {
   "cell_type": "code",
   "execution_count": 190,
   "id": "cd6f8263-de93-404c-9409-be756221e24d",
   "metadata": {},
   "outputs": [
    {
     "data": {
      "text/plain": [
       "array([[ 1.62434536, -0.61175641, -0.52817175, -1.07296862,  0.86540763],\n",
       "       [-2.3015387 ,  1.74481176, -0.7612069 ,  0.3190391 , -0.24937038],\n",
       "       [ 1.46210794, -2.06014071, -0.3224172 , -0.38405435,  1.13376944],\n",
       "       [-1.09989127, -0.17242821, -0.87785842,  0.04221375,  0.58281521]])"
      ]
     },
     "execution_count": 190,
     "metadata": {},
     "output_type": "execute_result"
    }
   ],
   "source": [
    "np.random.seed(1)\n",
    "a=np.random.randn(4*5).reshape(4,5)\n",
    "a"
   ]
  },
  {
   "cell_type": "code",
   "execution_count": 191,
   "id": "96319623-bdef-4538-b353-67b6c5237b10",
   "metadata": {},
   "outputs": [
    {
     "data": {
      "text/plain": [
       "array([1, 2, 3, 0, 1])"
      ]
     },
     "execution_count": 191,
     "metadata": {},
     "output_type": "execute_result"
    }
   ],
   "source": [
    "a.argmin(axis=0)"
   ]
  },
  {
   "cell_type": "code",
   "execution_count": 192,
   "id": "25c6f85b-19b3-46f2-8bd1-b251d631fa1d",
   "metadata": {},
   "outputs": [
    {
     "data": {
      "text/plain": [
       "array([0, 1, 0, 4])"
      ]
     },
     "execution_count": 192,
     "metadata": {},
     "output_type": "execute_result"
    }
   ],
   "source": [
    "a.argmax(axis=1)"
   ]
  },
  {
   "cell_type": "markdown",
   "id": "e77407e7-a692-47ba-b62a-f2de49a307ee",
   "metadata": {},
   "source": [
    "## cumprod, cumsum"
   ]
  },
  {
   "cell_type": "markdown",
   "id": "c6029e37-c08d-42dd-b6ce-0df10d005479",
   "metadata": {},
   "source": [
    "`-` 1차원 "
   ]
  },
  {
   "cell_type": "code",
   "execution_count": 193,
   "id": "9c82e37a-defa-4055-a55e-172c415fc100",
   "metadata": {},
   "outputs": [],
   "source": [
    "a=np.array([1,2,3,4])"
   ]
  },
  {
   "cell_type": "code",
   "execution_count": 194,
   "id": "c69c8d4e-b417-44c3-b626-46675d32c901",
   "metadata": {},
   "outputs": [
    {
     "data": {
      "text/plain": [
       "(array([ 1,  3,  6, 10]), array([ 1,  2,  6, 24]))"
      ]
     },
     "execution_count": 194,
     "metadata": {},
     "output_type": "execute_result"
    }
   ],
   "source": [
    "a.cumsum(), a.cumprod()"
   ]
  },
  {
   "cell_type": "code",
   "execution_count": 195,
   "id": "fa84e83f-bcf9-4298-848d-93c260bef261",
   "metadata": {},
   "outputs": [
    {
     "data": {
      "text/plain": [
       "(array([ 1,  3,  6, 10]), array([ 1,  2,  6, 24]))"
      ]
     },
     "execution_count": 195,
     "metadata": {},
     "output_type": "execute_result"
    }
   ],
   "source": [
    "a.cumsum(axis=0), a.cumprod(axis=0)"
   ]
  },
  {
   "cell_type": "markdown",
   "id": "fa954dcd-e367-4cc9-b934-7c7d952955bb",
   "metadata": {},
   "source": [
    "`-` 2차원 "
   ]
  },
  {
   "cell_type": "code",
   "execution_count": 196,
   "id": "6839fa59-cd3d-46e0-afc5-eb0ab15e989a",
   "metadata": {},
   "outputs": [
    {
     "data": {
      "text/plain": [
       "array([[ 0,  1,  2,  3],\n",
       "       [ 4,  5,  6,  7],\n",
       "       [ 8,  9, 10, 11]])"
      ]
     },
     "execution_count": 196,
     "metadata": {},
     "output_type": "execute_result"
    }
   ],
   "source": [
    "a=np.array(range(3*4)).reshape(3,4)\n",
    "a"
   ]
  },
  {
   "cell_type": "code",
   "execution_count": 197,
   "id": "c1bc5dfc-dd29-4fc1-b170-5efed69e1f48",
   "metadata": {},
   "outputs": [
    {
     "data": {
      "text/plain": [
       "(array([[ 0,  1,  2,  3],\n",
       "        [ 4,  6,  8, 10],\n",
       "        [12, 15, 18, 21]]),\n",
       " array([[  0,   1,   2,   3],\n",
       "        [  0,   5,  12,  21],\n",
       "        [  0,  45, 120, 231]]))"
      ]
     },
     "execution_count": 197,
     "metadata": {},
     "output_type": "execute_result"
    }
   ],
   "source": [
    "a.cumsum(axis=0), a.cumprod(axis=0)"
   ]
  },
  {
   "cell_type": "code",
   "execution_count": 198,
   "id": "ed5480e4-0fcd-4293-a363-a9a8d89949b3",
   "metadata": {},
   "outputs": [
    {
     "data": {
      "text/plain": [
       "(array([[ 0,  1,  3,  6],\n",
       "        [ 4,  9, 15, 22],\n",
       "        [ 8, 17, 27, 38]]),\n",
       " array([[   0,    0,    0,    0],\n",
       "        [   4,   20,  120,  840],\n",
       "        [   8,   72,  720, 7920]]))"
      ]
     },
     "execution_count": 198,
     "metadata": {},
     "output_type": "execute_result"
    }
   ],
   "source": [
    "a.cumsum(axis=1), a.cumprod(axis=1)"
   ]
  },
  {
   "cell_type": "markdown",
   "id": "23ae0998-0865-462c-bfeb-7c45076508cb",
   "metadata": {},
   "source": [
    "## diff "
   ]
  },
  {
   "cell_type": "markdown",
   "id": "f4a799b5-47d9-4b38-be47-7ccc81c46128",
   "metadata": {},
   "source": [
    "`-` 1차차분 "
   ]
  },
  {
   "cell_type": "code",
   "execution_count": 199,
   "id": "ec125d87-4181-45ea-a66c-56a3c1be4423",
   "metadata": {},
   "outputs": [
    {
     "data": {
      "text/plain": [
       "array([1, 2, 4, 6, 7])"
      ]
     },
     "execution_count": 199,
     "metadata": {},
     "output_type": "execute_result"
    }
   ],
   "source": [
    "a=np.array([1,2,4,6,7])\n",
    "a"
   ]
  },
  {
   "cell_type": "code",
   "execution_count": 200,
   "id": "6d3c201c-d349-4295-8f62-75fea672d7a4",
   "metadata": {},
   "outputs": [
    {
     "data": {
      "text/plain": [
       "array([1, 2, 2, 1])"
      ]
     },
     "execution_count": 200,
     "metadata": {},
     "output_type": "execute_result"
    }
   ],
   "source": [
    "np.diff(a)"
   ]
  },
  {
   "cell_type": "markdown",
   "id": "0f12e394-9ddb-403f-a3ce-19d42840d643",
   "metadata": {},
   "source": [
    "`-` 2차차분 "
   ]
  },
  {
   "cell_type": "code",
   "execution_count": 201,
   "id": "b7b4f135-525a-4469-a946-2fb0132bd8da",
   "metadata": {},
   "outputs": [
    {
     "data": {
      "text/plain": [
       "array([ 1,  0, -1])"
      ]
     },
     "execution_count": 201,
     "metadata": {},
     "output_type": "execute_result"
    }
   ],
   "source": [
    "np.diff(np.diff(a))"
   ]
  },
  {
   "cell_type": "code",
   "execution_count": 202,
   "id": "fd304b71-ec97-4985-a733-877d60a20e1f",
   "metadata": {},
   "outputs": [
    {
     "data": {
      "text/plain": [
       "array([ 1,  0, -1])"
      ]
     },
     "execution_count": 202,
     "metadata": {},
     "output_type": "execute_result"
    }
   ],
   "source": [
    "np.diff(a,n=2)"
   ]
  },
  {
   "cell_type": "markdown",
   "id": "a37ba496-6a5b-4df2-b822-e9933fb25a47",
   "metadata": {},
   "source": [
    "`-` prepend, append"
   ]
  },
  {
   "cell_type": "code",
   "execution_count": 203,
   "id": "2e2622a2-7938-4162-a79d-4806a512a805",
   "metadata": {},
   "outputs": [
    {
     "data": {
      "text/plain": [
       "array([1, 2, 4, 6, 7])"
      ]
     },
     "execution_count": 203,
     "metadata": {},
     "output_type": "execute_result"
    }
   ],
   "source": [
    "a"
   ]
  },
  {
   "cell_type": "code",
   "execution_count": 204,
   "id": "08b1636b-3103-4b53-a5cd-af9e74cbb026",
   "metadata": {},
   "outputs": [
    {
     "data": {
      "text/plain": [
       "array([-99,   1,   2,   2,   1])"
      ]
     },
     "execution_count": 204,
     "metadata": {},
     "output_type": "execute_result"
    }
   ],
   "source": [
    "np.diff(a,prepend=100) # [100, a] 와 같은 리스트를 차분 "
   ]
  },
  {
   "cell_type": "code",
   "execution_count": 205,
   "id": "5a878ba0-6ed7-40fd-87c8-47297989d3ea",
   "metadata": {},
   "outputs": [
    {
     "data": {
      "text/plain": [
       "array([ 1,  2,  2,  1, 93])"
      ]
     },
     "execution_count": 205,
     "metadata": {},
     "output_type": "execute_result"
    }
   ],
   "source": [
    "np.diff(a,append=100) # [a, 100] 와 같은 리스트를 차분 "
   ]
  },
  {
   "cell_type": "code",
   "execution_count": 206,
   "id": "87d7d8a0-56b8-4690-8b46-6efbc35e6284",
   "metadata": {},
   "outputs": [
    {
     "data": {
      "text/plain": [
       "array([0, 1, 2, 2, 1])"
      ]
     },
     "execution_count": 206,
     "metadata": {},
     "output_type": "execute_result"
    }
   ],
   "source": [
    "np.diff(a,prepend=a[0]) # [a[0], a] 와 같은 리스트를 차분 "
   ]
  },
  {
   "cell_type": "code",
   "execution_count": 207,
   "id": "153d372a-3b7a-40b4-a1ed-8620ba11248e",
   "metadata": {},
   "outputs": [
    {
     "data": {
      "text/plain": [
       "array([1, 2, 2, 1, 0])"
      ]
     },
     "execution_count": 207,
     "metadata": {},
     "output_type": "execute_result"
    }
   ],
   "source": [
    "np.diff(a,append=a[-1]) # [a, a[-1]] 와 같은 리스트를 차분"
   ]
  },
  {
   "cell_type": "markdown",
   "id": "cf42d55f-0d49-4b15-a1bf-3a29ce07df77",
   "metadata": {},
   "source": [
    "`-` 2차원 array의 차분 "
   ]
  },
  {
   "cell_type": "code",
   "execution_count": 208,
   "id": "aa11d882-39fa-49f5-94e2-50214aad339a",
   "metadata": {},
   "outputs": [
    {
     "data": {
      "text/plain": [
       "array([[ 0,  1,  2,  3,  4,  5],\n",
       "       [ 6,  7,  8,  9, 10, 11],\n",
       "       [12, 13, 14, 15, 16, 17],\n",
       "       [18, 19, 20, 21, 22, 23]])"
      ]
     },
     "execution_count": 208,
     "metadata": {},
     "output_type": "execute_result"
    }
   ],
   "source": [
    "a=np.arange(24).reshape(4,6)\n",
    "a"
   ]
  },
  {
   "cell_type": "code",
   "execution_count": 209,
   "id": "98468388-af32-4a5b-b394-e8a36e06ce0e",
   "metadata": {},
   "outputs": [
    {
     "data": {
      "text/plain": [
       "array([[6, 6, 6, 6, 6, 6],\n",
       "       [6, 6, 6, 6, 6, 6],\n",
       "       [6, 6, 6, 6, 6, 6]])"
      ]
     },
     "execution_count": 209,
     "metadata": {},
     "output_type": "execute_result"
    }
   ],
   "source": [
    "np.diff(a,axis=0)"
   ]
  },
  {
   "cell_type": "code",
   "execution_count": 210,
   "id": "d89e2dc2-bc73-41f5-8977-900178f418e7",
   "metadata": {},
   "outputs": [
    {
     "data": {
      "text/plain": [
       "array([[1, 1, 1, 1, 1],\n",
       "       [1, 1, 1, 1, 1],\n",
       "       [1, 1, 1, 1, 1],\n",
       "       [1, 1, 1, 1, 1]])"
      ]
     },
     "execution_count": 210,
     "metadata": {},
     "output_type": "execute_result"
    }
   ],
   "source": [
    "np.diff(a,axis=1)"
   ]
  },
  {
   "cell_type": "markdown",
   "id": "90a8de9a-f9d4-4dc5-959c-4b6f7e0b9f6a",
   "metadata": {},
   "source": [
    "## split(ver1)"
   ]
  },
  {
   "cell_type": "markdown",
   "id": "09370beb-21b9-463e-9145-cd75dccdf704",
   "metadata": {},
   "source": [
    "`-` 1차원"
   ]
  },
  {
   "cell_type": "code",
   "execution_count": 211,
   "id": "ee2f69f2-afad-41a3-bf76-0f2e09d44a7d",
   "metadata": {},
   "outputs": [
    {
     "data": {
      "text/plain": [
       "array([1, 2, 3, 4, 5, 6])"
      ]
     },
     "execution_count": 211,
     "metadata": {},
     "output_type": "execute_result"
    }
   ],
   "source": [
    "a=np.array([1,2,3,4,5,6])\n",
    "a"
   ]
  },
  {
   "cell_type": "code",
   "execution_count": 212,
   "id": "c2bf9146-74c8-4439-b5b8-dde059b0604b",
   "metadata": {},
   "outputs": [
    {
     "data": {
      "text/plain": [
       "[array([1, 2, 3]), array([4, 5, 6])]"
      ]
     },
     "execution_count": 212,
     "metadata": {},
     "output_type": "execute_result"
    }
   ],
   "source": [
    "np.split(a,2)"
   ]
  },
  {
   "cell_type": "code",
   "execution_count": 213,
   "id": "c07bfc04-6aa6-41e3-8971-3484723114e2",
   "metadata": {},
   "outputs": [
    {
     "data": {
      "text/plain": [
       "[array([1, 2]), array([3, 4]), array([5, 6])]"
      ]
     },
     "execution_count": 213,
     "metadata": {},
     "output_type": "execute_result"
    }
   ],
   "source": [
    "np.split(a,3)"
   ]
  },
  {
   "cell_type": "code",
   "execution_count": 214,
   "id": "81adc10b-dab7-4f84-b590-43175c76e09c",
   "metadata": {},
   "outputs": [
    {
     "data": {
      "text/plain": [
       "[array([1]), array([2]), array([3]), array([4]), array([5]), array([6])]"
      ]
     },
     "execution_count": 214,
     "metadata": {},
     "output_type": "execute_result"
    }
   ],
   "source": [
    "np.split(a,6)"
   ]
  },
  {
   "cell_type": "markdown",
   "id": "0cb13ac6-3be7-4586-8bc4-af2f50a7b613",
   "metadata": {},
   "source": [
    "`-` 2차원"
   ]
  },
  {
   "cell_type": "code",
   "execution_count": 215,
   "id": "45aeb24b-373c-46f3-8e7e-032eaf7e48d2",
   "metadata": {},
   "outputs": [
    {
     "data": {
      "text/plain": [
       "array([[1, 2, 3, 4, 5, 6],\n",
       "       [1, 2, 3, 4, 5, 6]])"
      ]
     },
     "execution_count": 215,
     "metadata": {},
     "output_type": "execute_result"
    }
   ],
   "source": [
    "b=np.stack([a,a])\n",
    "b"
   ]
  },
  {
   "cell_type": "code",
   "execution_count": 216,
   "id": "a245a883-b20c-4cff-aacf-f9fb2302d0e4",
   "metadata": {},
   "outputs": [
    {
     "data": {
      "text/plain": [
       "(2, 6)"
      ]
     },
     "execution_count": 216,
     "metadata": {},
     "output_type": "execute_result"
    }
   ],
   "source": [
    "b.shape"
   ]
  },
  {
   "cell_type": "code",
   "execution_count": 217,
   "id": "b4808e20-7e29-4441-9665-290a1d0db00e",
   "metadata": {},
   "outputs": [
    {
     "data": {
      "text/plain": [
       "[array([[1, 2, 3, 4, 5, 6]]), array([[1, 2, 3, 4, 5, 6]])]"
      ]
     },
     "execution_count": 217,
     "metadata": {},
     "output_type": "execute_result"
    }
   ],
   "source": [
    "np.split(b,2,axis=0)"
   ]
  },
  {
   "cell_type": "code",
   "execution_count": 218,
   "id": "3dc2f525-d624-476c-863a-42f6ddccebf1",
   "metadata": {},
   "outputs": [
    {
     "data": {
      "text/plain": [
       "[array([[1, 2, 3],\n",
       "        [1, 2, 3]]),\n",
       " array([[4, 5, 6],\n",
       "        [4, 5, 6]])]"
      ]
     },
     "execution_count": 218,
     "metadata": {},
     "output_type": "execute_result"
    }
   ],
   "source": [
    "np.split(b,2,axis=1)"
   ]
  },
  {
   "cell_type": "code",
   "execution_count": 219,
   "id": "21f67396-4e18-4b97-9f08-748b79955fb2",
   "metadata": {},
   "outputs": [
    {
     "data": {
      "text/plain": [
       "[array([[1, 2],\n",
       "        [1, 2]]),\n",
       " array([[3, 4],\n",
       "        [3, 4]]),\n",
       " array([[5, 6],\n",
       "        [5, 6]])]"
      ]
     },
     "execution_count": 219,
     "metadata": {},
     "output_type": "execute_result"
    }
   ],
   "source": [
    "np.split(b,3,axis=1)"
   ]
  },
  {
   "cell_type": "markdown",
   "id": "e795d92d-675c-4364-8902-18a6b9e745c4",
   "metadata": {},
   "source": [
    "## split(ver2)"
   ]
  },
  {
   "cell_type": "markdown",
   "id": "d219706f-ba1a-4de3-9b13-8a27afd472d2",
   "metadata": {},
   "source": [
    "`-` 1차원: 리스트입력 "
   ]
  },
  {
   "cell_type": "code",
   "execution_count": 220,
   "id": "fb010af4-61bc-4222-94c1-4d28a240ce4d",
   "metadata": {},
   "outputs": [
    {
     "data": {
      "text/plain": [
       "array([0.81768226, 0.04953212, 0.83868626, 0.61977707, 0.12254052,\n",
       "       0.11712779, 0.8795562 , 0.97941543, 0.90986893, 0.96667407,\n",
       "       0.59164493, 0.84014933])"
      ]
     },
     "execution_count": 220,
     "metadata": {},
     "output_type": "execute_result"
    }
   ],
   "source": [
    "np.random.seed(43052)\n",
    "a=np.random.rand(12)\n",
    "a"
   ]
  },
  {
   "cell_type": "code",
   "execution_count": 221,
   "id": "d9d13f0d-49a7-4180-bfa3-664f64bf08a6",
   "metadata": {},
   "outputs": [
    {
     "data": {
      "text/plain": [
       "[array([0.81768226, 0.04953212]),\n",
       " array([0.83868626, 0.61977707, 0.12254052]),\n",
       " array([0.11712779, 0.8795562 , 0.97941543, 0.90986893, 0.96667407,\n",
       "        0.59164493, 0.84014933])]"
      ]
     },
     "execution_count": 221,
     "metadata": {},
     "output_type": "execute_result"
    }
   ],
   "source": [
    "np.split(a,(2,5)) # 처음2, 그다음3(=합쳐서5), 나머지 "
   ]
  },
  {
   "cell_type": "code",
   "execution_count": 222,
   "id": "bb6c8b1c-323e-464b-a38a-dc0ad2a4b27f",
   "metadata": {},
   "outputs": [
    {
     "data": {
      "text/plain": [
       "[array([0.81768226]),\n",
       " array([0.04953212, 0.83868626]),\n",
       " array([0.61977707, 0.12254052]),\n",
       " array([0.11712779, 0.8795562 , 0.97941543, 0.90986893, 0.96667407,\n",
       "        0.59164493, 0.84014933])]"
      ]
     },
     "execution_count": 222,
     "metadata": {},
     "output_type": "execute_result"
    }
   ],
   "source": [
    "np.split(a,(1,3,5)) # :1, 1:3, 3:5, 5: "
   ]
  },
  {
   "cell_type": "markdown",
   "id": "443b506e-62d4-42c1-b98a-3f85e19657b3",
   "metadata": {},
   "source": [
    "`-` 2차원: 리스트입력 "
   ]
  },
  {
   "cell_type": "code",
   "execution_count": 223,
   "id": "12d9e7f7-06a7-489c-9710-118deefb0091",
   "metadata": {},
   "outputs": [
    {
     "data": {
      "text/plain": [
       "array([[ 0,  1,  2,  3,  4],\n",
       "       [ 5,  6,  7,  8,  9],\n",
       "       [10, 11, 12, 13, 14],\n",
       "       [15, 16, 17, 18, 19],\n",
       "       [20, 21, 22, 23, 24],\n",
       "       [25, 26, 27, 28, 29]])"
      ]
     },
     "execution_count": 223,
     "metadata": {},
     "output_type": "execute_result"
    }
   ],
   "source": [
    "a= np.arange(30).reshape(6,5)\n",
    "a"
   ]
  },
  {
   "cell_type": "code",
   "execution_count": 224,
   "id": "1f2ba168-9d33-42a0-824b-105d2c4efe4a",
   "metadata": {},
   "outputs": [
    {
     "data": {
      "text/plain": [
       "[array([[ 0,  1,  2,  3,  4],\n",
       "        [ 5,  6,  7,  8,  9],\n",
       "        [10, 11, 12, 13, 14]]),\n",
       " array([[15, 16, 17, 18, 19]]),\n",
       " array([[20, 21, 22, 23, 24],\n",
       "        [25, 26, 27, 28, 29]])]"
      ]
     },
     "execution_count": 224,
     "metadata": {},
     "output_type": "execute_result"
    }
   ],
   "source": [
    "np.split(a,[3,4],axis=0) # :3, 3:4, 4: "
   ]
  },
  {
   "cell_type": "code",
   "execution_count": 225,
   "id": "1bc6a420-8152-4648-b71b-e01d9cd0a273",
   "metadata": {},
   "outputs": [
    {
     "data": {
      "text/plain": [
       "[array([[ 0],\n",
       "        [ 5],\n",
       "        [10],\n",
       "        [15],\n",
       "        [20],\n",
       "        [25]]),\n",
       " array([[ 1,  2],\n",
       "        [ 6,  7],\n",
       "        [11, 12],\n",
       "        [16, 17],\n",
       "        [21, 22],\n",
       "        [26, 27]]),\n",
       " array([[ 3],\n",
       "        [ 8],\n",
       "        [13],\n",
       "        [18],\n",
       "        [23],\n",
       "        [28]]),\n",
       " array([[ 4],\n",
       "        [ 9],\n",
       "        [14],\n",
       "        [19],\n",
       "        [24],\n",
       "        [29]])]"
      ]
     },
     "execution_count": 225,
     "metadata": {},
     "output_type": "execute_result"
    }
   ],
   "source": [
    "np.split(a,[1,3,4],axis=1) # :1, 1:3, 3:4, 4: "
   ]
  },
  {
   "cell_type": "markdown",
   "id": "6fde9479-d019-4ab8-93cd-0b82d7823664",
   "metadata": {},
   "source": [
    "## np.apply_along_axis"
   ]
  },
  {
   "cell_type": "code",
   "execution_count": 226,
   "id": "32ee758f-4d2d-4271-b613-ee232dc0c3e4",
   "metadata": {},
   "outputs": [
    {
     "data": {
      "text/plain": [
       "array([[ 0,  1,  2,  3],\n",
       "       [ 4,  5,  6,  7],\n",
       "       [ 8,  9, 10, 11]])"
      ]
     },
     "execution_count": 226,
     "metadata": {},
     "output_type": "execute_result"
    }
   ],
   "source": [
    "a=np.array(range(12)).reshape(3,4)\n",
    "a"
   ]
  },
  {
   "cell_type": "code",
   "execution_count": 227,
   "id": "8a9fb7d9-b72a-4ab0-95b9-b0392dde0ed6",
   "metadata": {},
   "outputs": [],
   "source": [
    "def mysum(arr): \n",
    "    return sum(arr)+1 "
   ]
  },
  {
   "cell_type": "code",
   "execution_count": 228,
   "id": "ad424ad5-3c07-41ec-bdcf-519601cdeab5",
   "metadata": {},
   "outputs": [
    {
     "data": {
      "text/plain": [
       "array([13, 16, 19, 22])"
      ]
     },
     "execution_count": 228,
     "metadata": {},
     "output_type": "execute_result"
    }
   ],
   "source": [
    "np.apply_along_axis(mysum,0,a) # np.apply_along_axis(mysum,axis=0,a) 은 에러발생 순서외어야함 "
   ]
  },
  {
   "cell_type": "code",
   "execution_count": 229,
   "id": "945c334c-8e16-4276-a238-f4f3b317b800",
   "metadata": {},
   "outputs": [
    {
     "data": {
      "text/plain": [
       "array([ 7, 23, 39])"
      ]
     },
     "execution_count": 229,
     "metadata": {},
     "output_type": "execute_result"
    }
   ],
   "source": [
    "np.apply_along_axis(mysum,1,a)"
   ]
  },
  {
   "cell_type": "markdown",
   "id": "8a6ad2e0-5e0c-4e4b-882a-692e3e1e23ba",
   "metadata": {},
   "source": [
    "## np.apply_over_axes"
   ]
  },
  {
   "cell_type": "markdown",
   "id": "2a6e55d8-25d0-4a23-aa46-d7b1dd238cd5",
   "metadata": {},
   "source": [
    "`-` 뭔가 쓰기 어렵다.. "
   ]
  },
  {
   "cell_type": "code",
   "execution_count": 230,
   "id": "bb8a86f6-4b6f-4da8-8ed9-e59bcd66babf",
   "metadata": {},
   "outputs": [
    {
     "data": {
      "text/plain": [
       "array([[ 0,  1,  2,  3],\n",
       "       [ 4,  5,  6,  7],\n",
       "       [ 8,  9, 10, 11]])"
      ]
     },
     "execution_count": 230,
     "metadata": {},
     "output_type": "execute_result"
    }
   ],
   "source": [
    "a=np.array(range(12)).reshape(3,4)\n",
    "a"
   ]
  },
  {
   "cell_type": "code",
   "execution_count": 231,
   "id": "fcbc6da8-083e-4bb4-ad5b-d9b13892c5bd",
   "metadata": {},
   "outputs": [],
   "source": [
    "def mysum(arr): \n",
    "    return np.sum(arr)+1 "
   ]
  },
  {
   "cell_type": "code",
   "execution_count": 232,
   "id": "0587dba1-d318-43f6-a5e1-b70cc7957f54",
   "metadata": {},
   "outputs": [
    {
     "ename": "TypeError",
     "evalue": "mysum() takes 1 positional argument but 2 were given",
     "output_type": "error",
     "traceback": [
      "\u001b[0;31m---------------------------------------------------------------------------\u001b[0m",
      "\u001b[0;31mTypeError\u001b[0m                                 Traceback (most recent call last)",
      "Input \u001b[0;32mIn [232]\u001b[0m, in \u001b[0;36m<cell line: 1>\u001b[0;34m()\u001b[0m\n\u001b[0;32m----> 1\u001b[0m \u001b[43mnp\u001b[49m\u001b[38;5;241;43m.\u001b[39;49m\u001b[43mapply_over_axes\u001b[49m\u001b[43m(\u001b[49m\u001b[43mmysum\u001b[49m\u001b[43m,\u001b[49m\u001b[43ma\u001b[49m\u001b[43m,\u001b[49m\u001b[43m[\u001b[49m\u001b[38;5;241;43m0\u001b[39;49m\u001b[43m,\u001b[49m\u001b[38;5;241;43m1\u001b[39;49m\u001b[43m]\u001b[49m\u001b[43m)\u001b[49m\n",
      "File \u001b[0;32m<__array_function__ internals>:180\u001b[0m, in \u001b[0;36mapply_over_axes\u001b[0;34m(*args, **kwargs)\u001b[0m\n",
      "File \u001b[0;32m~/anaconda3/envs/py310/lib/python3.10/site-packages/numpy/lib/shape_base.py:495\u001b[0m, in \u001b[0;36mapply_over_axes\u001b[0;34m(func, a, axes)\u001b[0m\n\u001b[1;32m    493\u001b[0m     axis \u001b[38;5;241m=\u001b[39m N \u001b[38;5;241m+\u001b[39m axis\n\u001b[1;32m    494\u001b[0m args \u001b[38;5;241m=\u001b[39m (val, axis)\n\u001b[0;32m--> 495\u001b[0m res \u001b[38;5;241m=\u001b[39m \u001b[43mfunc\u001b[49m\u001b[43m(\u001b[49m\u001b[38;5;241;43m*\u001b[39;49m\u001b[43margs\u001b[49m\u001b[43m)\u001b[49m\n\u001b[1;32m    496\u001b[0m \u001b[38;5;28;01mif\u001b[39;00m res\u001b[38;5;241m.\u001b[39mndim \u001b[38;5;241m==\u001b[39m val\u001b[38;5;241m.\u001b[39mndim:\n\u001b[1;32m    497\u001b[0m     val \u001b[38;5;241m=\u001b[39m res\n",
      "\u001b[0;31mTypeError\u001b[0m: mysum() takes 1 positional argument but 2 were given"
     ]
    }
   ],
   "source": [
    "np.apply_over_axes(mysum,a,[0,1])"
   ]
  },
  {
   "cell_type": "code",
   "execution_count": 233,
   "id": "4898169a-62c1-458a-a27d-490d76be703c",
   "metadata": {},
   "outputs": [
    {
     "data": {
      "text/plain": [
       "\u001b[0;31mSignature:\u001b[0m \u001b[0mnp\u001b[0m\u001b[0;34m.\u001b[0m\u001b[0mapply_over_axes\u001b[0m\u001b[0;34m(\u001b[0m\u001b[0mfunc\u001b[0m\u001b[0;34m,\u001b[0m \u001b[0ma\u001b[0m\u001b[0;34m,\u001b[0m \u001b[0maxes\u001b[0m\u001b[0;34m)\u001b[0m\u001b[0;34m\u001b[0m\u001b[0;34m\u001b[0m\u001b[0m\n",
       "\u001b[0;31mDocstring:\u001b[0m\n",
       "Apply a function repeatedly over multiple axes.\n",
       "\n",
       "`func` is called as `res = func(a, axis)`, where `axis` is the first\n",
       "element of `axes`.  The result `res` of the function call must have\n",
       "either the same dimensions as `a` or one less dimension.  If `res`\n",
       "has one less dimension than `a`, a dimension is inserted before\n",
       "`axis`.  The call to `func` is then repeated for each axis in `axes`,\n",
       "with `res` as the first argument.\n",
       "\n",
       "Parameters\n",
       "----------\n",
       "func : function\n",
       "    This function must take two arguments, `func(a, axis)`.\n",
       "a : array_like\n",
       "    Input array.\n",
       "axes : array_like\n",
       "    Axes over which `func` is applied; the elements must be integers.\n",
       "\n",
       "Returns\n",
       "-------\n",
       "apply_over_axis : ndarray\n",
       "    The output array.  The number of dimensions is the same as `a`,\n",
       "    but the shape can be different.  This depends on whether `func`\n",
       "    changes the shape of its output with respect to its input.\n",
       "\n",
       "See Also\n",
       "--------\n",
       "apply_along_axis :\n",
       "    Apply a function to 1-D slices of an array along the given axis.\n",
       "\n",
       "Notes\n",
       "-----\n",
       "This function is equivalent to tuple axis arguments to reorderable ufuncs\n",
       "with keepdims=True. Tuple axis arguments to ufuncs have been available since\n",
       "version 1.7.0.\n",
       "\n",
       "Examples\n",
       "--------\n",
       ">>> a = np.arange(24).reshape(2,3,4)\n",
       ">>> a\n",
       "array([[[ 0,  1,  2,  3],\n",
       "        [ 4,  5,  6,  7],\n",
       "        [ 8,  9, 10, 11]],\n",
       "       [[12, 13, 14, 15],\n",
       "        [16, 17, 18, 19],\n",
       "        [20, 21, 22, 23]]])\n",
       "\n",
       "Sum over axes 0 and 2. The result has same number of dimensions\n",
       "as the original array:\n",
       "\n",
       ">>> np.apply_over_axes(np.sum, a, [0,2])\n",
       "array([[[ 60],\n",
       "        [ 92],\n",
       "        [124]]])\n",
       "\n",
       "Tuple axis arguments to ufuncs are equivalent:\n",
       "\n",
       ">>> np.sum(a, axis=(0,2), keepdims=True)\n",
       "array([[[ 60],\n",
       "        [ 92],\n",
       "        [124]]])\n",
       "\u001b[0;31mFile:\u001b[0m      ~/anaconda3/envs/py310/lib/python3.10/site-packages/numpy/lib/shape_base.py\n",
       "\u001b[0;31mType:\u001b[0m      function\n"
      ]
     },
     "metadata": {},
     "output_type": "display_data"
    }
   ],
   "source": [
    "np.apply_over_axes?"
   ]
  },
  {
   "cell_type": "markdown",
   "id": "edf323ef-b9e6-4f8b-ac7c-5a9353a35b3e",
   "metadata": {},
   "source": [
    "# numpy공부 5단계: 기타유용한 기본기능들 "
   ]
  },
  {
   "cell_type": "markdown",
   "id": "7fde54f7-dcaf-4663-b003-3ac44e1a6e79",
   "metadata": {},
   "source": [
    "## np.where, np.argwhere"
   ]
  },
  {
   "cell_type": "markdown",
   "id": "120595e0-6345-4260-907a-a67cfdae090b",
   "metadata": {},
   "source": [
    "`-` 1차원 "
   ]
  },
  {
   "cell_type": "code",
   "execution_count": 234,
   "id": "40275b9c-34b1-41fc-b930-eda85725ec5b",
   "metadata": {},
   "outputs": [
    {
     "data": {
      "text/plain": [
       "array([0, 0, 0, 1, 0])"
      ]
     },
     "execution_count": 234,
     "metadata": {},
     "output_type": "execute_result"
    }
   ],
   "source": [
    "a=np.array([0,0,0,1,0])\n",
    "a"
   ]
  },
  {
   "cell_type": "code",
   "execution_count": 235,
   "id": "87eb3910-b5ba-4bfa-8917-658b2715c257",
   "metadata": {},
   "outputs": [
    {
     "data": {
      "text/plain": [
       "(array([3]),)"
      ]
     },
     "execution_count": 235,
     "metadata": {},
     "output_type": "execute_result"
    }
   ],
   "source": [
    "np.where(a==1) # 조건을 만족하는 인덱스가 (3,) 이라는 의미"
   ]
  },
  {
   "cell_type": "code",
   "execution_count": 236,
   "id": "5784425c-fa80-4108-9509-123fe4c340e1",
   "metadata": {},
   "outputs": [
    {
     "data": {
      "text/plain": [
       "array([[3]])"
      ]
     },
     "execution_count": 236,
     "metadata": {},
     "output_type": "execute_result"
    }
   ],
   "source": [
    "np.argwhere(a==1) "
   ]
  },
  {
   "cell_type": "markdown",
   "id": "303f120d-cf7e-436b-bf29-ffc214c30665",
   "metadata": {},
   "source": [
    "`-` 2차원 "
   ]
  },
  {
   "cell_type": "code",
   "execution_count": 237,
   "id": "eb68bd38-c405-43ad-b45a-b15f7f1dbe5e",
   "metadata": {},
   "outputs": [
    {
     "data": {
      "text/plain": [
       "array([[ 0.38342049,  1.0841745 ,  1.14277825,  0.30789368],\n",
       "       [ 0.23778744,  0.35595116, -1.66307542, -1.38277318],\n",
       "       [-1.92684484, -1.4862163 ,  0.00692519, -0.03488725]])"
      ]
     },
     "execution_count": 237,
     "metadata": {},
     "output_type": "execute_result"
    }
   ],
   "source": [
    "np.random.seed(43052)\n",
    "a=np.random.randn(12).reshape(3,4)\n",
    "a"
   ]
  },
  {
   "cell_type": "code",
   "execution_count": 238,
   "id": "02812e3d-94e3-4563-a447-d79f26690041",
   "metadata": {},
   "outputs": [
    {
     "data": {
      "text/plain": [
       "(array([1, 1, 2, 2, 2]), array([2, 3, 0, 1, 3]))"
      ]
     },
     "execution_count": 238,
     "metadata": {},
     "output_type": "execute_result"
    }
   ],
   "source": [
    "np.where(a<0) # 조건을 만족하는 인덱스가 (1,2), (1,3), (2,0), (2,1), (2,3) 이라는 의미 "
   ]
  },
  {
   "cell_type": "code",
   "execution_count": 239,
   "id": "e4a135a2-b77e-429b-b719-ab7c134a6f26",
   "metadata": {},
   "outputs": [
    {
     "data": {
      "text/plain": [
       "array([[1, 2],\n",
       "       [1, 3],\n",
       "       [2, 0],\n",
       "       [2, 1],\n",
       "       [2, 3]])"
      ]
     },
     "execution_count": 239,
     "metadata": {},
     "output_type": "execute_result"
    }
   ],
   "source": [
    "np.argwhere(a<=0) # 조건을 만족하는 인덱스가 (1,2), (1,3), (2,0), (2,1), (2,3) 이라는 의미 "
   ]
  },
  {
   "cell_type": "code",
   "execution_count": 240,
   "id": "f44b10ab-a78f-450f-9757-30baba67e1a2",
   "metadata": {},
   "outputs": [
    {
     "data": {
      "text/plain": [
       "array([-1.66307542, -1.38277318, -1.92684484, -1.4862163 , -0.03488725])"
      ]
     },
     "execution_count": 240,
     "metadata": {},
     "output_type": "execute_result"
    }
   ],
   "source": [
    "a[np.where(a<=0)] # 조건을 만족하는 원소를 모두 출력 => 1차원 array로 나온다. "
   ]
  },
  {
   "cell_type": "code",
   "execution_count": 241,
   "id": "b6cd8c91-674e-47b0-9f7c-1dd4293e6886",
   "metadata": {},
   "outputs": [
    {
     "ename": "IndexError",
     "evalue": "index 3 is out of bounds for axis 0 with size 3",
     "output_type": "error",
     "traceback": [
      "\u001b[0;31m---------------------------------------------------------------------------\u001b[0m",
      "\u001b[0;31mIndexError\u001b[0m                                Traceback (most recent call last)",
      "Input \u001b[0;32mIn [241]\u001b[0m, in \u001b[0;36m<cell line: 1>\u001b[0;34m()\u001b[0m\n\u001b[0;32m----> 1\u001b[0m \u001b[43ma\u001b[49m\u001b[43m[\u001b[49m\u001b[43mnp\u001b[49m\u001b[38;5;241;43m.\u001b[39;49m\u001b[43margwhere\u001b[49m\u001b[43m(\u001b[49m\u001b[43ma\u001b[49m\u001b[38;5;241;43m<\u001b[39;49m\u001b[38;5;241;43m=\u001b[39;49m\u001b[38;5;241;43m0\u001b[39;49m\u001b[43m)\u001b[49m\u001b[43m]\u001b[49m\n",
      "\u001b[0;31mIndexError\u001b[0m: index 3 is out of bounds for axis 0 with size 3"
     ]
    }
   ],
   "source": [
    "a[np.argwhere(a<=0)] # 출력불가 "
   ]
  },
  {
   "cell_type": "code",
   "execution_count": 242,
   "id": "48f0904f-1398-4d35-aa11-84ca760016ba",
   "metadata": {},
   "outputs": [
    {
     "data": {
      "text/plain": [
       "array([[ 0.23778744,  0.35595116, -1.66307542, -1.38277318],\n",
       "       [-1.92684484, -1.4862163 ,  0.00692519, -0.03488725]])"
      ]
     },
     "execution_count": 242,
     "metadata": {},
     "output_type": "execute_result"
    }
   ],
   "source": [
    "a[np.argwhere(a<=0)[0]] # 출력불가 "
   ]
  },
  {
   "cell_type": "code",
   "execution_count": 243,
   "id": "e1bfe90f-feeb-4492-a369-d05b6c8a5c19",
   "metadata": {},
   "outputs": [
    {
     "data": {
      "text/plain": [
       "-1.6630754187023522"
      ]
     },
     "execution_count": 243,
     "metadata": {},
     "output_type": "execute_result"
    }
   ],
   "source": [
    "a[np.argwhere(a<=0)[0][0],np.argwhere(a<=0)[0][1]] # 어거지로 출력가능하긴함 "
   ]
  },
  {
   "cell_type": "markdown",
   "id": "e343c43a-18a1-451d-b6c7-ef7f289c8e25",
   "metadata": {},
   "source": [
    "`-` np.where의 특수기능 "
   ]
  },
  {
   "cell_type": "code",
   "execution_count": 244,
   "id": "7c5026f5-eb11-40d2-9cae-70d0de89efad",
   "metadata": {},
   "outputs": [
    {
     "data": {
      "text/plain": [
       "array([[ 0.38342049,  1.0841745 ,  1.14277825,  0.30789368],\n",
       "       [ 0.23778744,  0.35595116, -1.66307542, -1.38277318],\n",
       "       [-1.92684484, -1.4862163 ,  0.00692519, -0.03488725]])"
      ]
     },
     "execution_count": 244,
     "metadata": {},
     "output_type": "execute_result"
    }
   ],
   "source": [
    "np.random.seed(43052)\n",
    "a=np.random.randn(12).reshape(3,4)\n",
    "a"
   ]
  },
  {
   "cell_type": "code",
   "execution_count": 245,
   "id": "fcc70e57-48cc-416c-b23c-67c5a8297458",
   "metadata": {},
   "outputs": [
    {
     "data": {
      "text/plain": [
       "array([[0.38342049, 1.0841745 , 1.14277825, 0.30789368],\n",
       "       [0.23778744, 0.35595116, 0.        , 0.        ],\n",
       "       [0.        , 0.        , 0.00692519, 0.        ]])"
      ]
     },
     "execution_count": 245,
     "metadata": {},
     "output_type": "execute_result"
    }
   ],
   "source": [
    "np.where(a<0,0,a) # a<0을 체크 => 조건에 맞으면 0 => 조건에 안맞으면 a "
   ]
  },
  {
   "cell_type": "code",
   "execution_count": 246,
   "id": "bfe27739-b226-457a-a9dc-5ebc683b2836",
   "metadata": {},
   "outputs": [
    {
     "data": {
      "text/plain": [
       "array([[1, 1, 1, 1],\n",
       "       [1, 1, 0, 0],\n",
       "       [0, 0, 1, 0]])"
      ]
     },
     "execution_count": 246,
     "metadata": {},
     "output_type": "execute_result"
    }
   ],
   "source": [
    "np.where(a<0,0,1) # a<0을 체크 => 조건에 맞으면 0 => 조건에 안맞으면 1"
   ]
  },
  {
   "cell_type": "markdown",
   "id": "174f3725-c9ce-4ad0-8e32-f3197d8e4f77",
   "metadata": {},
   "source": [
    "`-` 요약 \n",
    "- np.where: 인덱스의 좌표읽는게 가독성이 썩 좋지는 않음, 그런데 조건에 맞는 원소를 출력하거나 처리하는 (특수기능) 목적으로는 좋은 함수\n",
    "- np.argwhere: 인덱스의 좌표읽는 가독성은 좋은편임. 그런데 조건에 맞는 원소를 출력하거나 처리하는 기능은 떨어짐 "
   ]
  },
  {
   "cell_type": "markdown",
   "id": "d520a95e-c1e9-422e-8138-82a048842215",
   "metadata": {},
   "source": [
    "## 인덱싱 고급"
   ]
  },
  {
   "cell_type": "code",
   "execution_count": 247,
   "id": "8739f00f-87b3-42d4-90c0-1ba5b829bc84",
   "metadata": {},
   "outputs": [
    {
     "data": {
      "text/plain": [
       "array([[ 0,  1,  2,  3],\n",
       "       [ 4,  5,  6,  7],\n",
       "       [ 8,  9, 10, 11]])"
      ]
     },
     "execution_count": 247,
     "metadata": {},
     "output_type": "execute_result"
    }
   ],
   "source": [
    "a=np.arange(12).reshape(3,4)\n",
    "a"
   ]
  },
  {
   "cell_type": "markdown",
   "id": "a477a744-6a15-424c-bfa8-074bc7b3f84a",
   "metadata": {},
   "source": [
    "`-` 원래배열과 인덱싱결과를 보고 축의개수를 비교해보자. "
   ]
  },
  {
   "cell_type": "code",
   "execution_count": 248,
   "id": "48b12ff9-95db-482c-9967-b7dbfd7f92b8",
   "metadata": {},
   "outputs": [
    {
     "data": {
      "text/plain": [
       "array([0, 1, 2, 3])"
      ]
     },
     "execution_count": 248,
     "metadata": {},
     "output_type": "execute_result"
    }
   ],
   "source": [
    "a[0,:] # 인덱싱의 결과 축의 개수가 바뀐다! 2d array -> 1d array "
   ]
  },
  {
   "cell_type": "code",
   "execution_count": 249,
   "id": "bf304224-dac0-41a6-9a7b-0e2a49d49613",
   "metadata": {},
   "outputs": [
    {
     "data": {
      "text/plain": [
       "array([[0, 1, 2, 3],\n",
       "       [4, 5, 6, 7]])"
      ]
     },
     "execution_count": 249,
     "metadata": {},
     "output_type": "execute_result"
    }
   ],
   "source": [
    "a[[0,1],:] # 이것은 축의 개수가 유지된다. 2d array -> 2d array "
   ]
  },
  {
   "cell_type": "markdown",
   "id": "17502d7a-2184-4a77-964b-f1efdd867e37",
   "metadata": {},
   "source": [
    "`-` 하나의 행, 혹은 열을 뽑을때 축의 개수를 유지하려면 아래와 같이 하면 된다. "
   ]
  },
  {
   "cell_type": "code",
   "execution_count": 250,
   "id": "86192b34-3c58-40c9-a4c4-ae26c54ebb2d",
   "metadata": {},
   "outputs": [
    {
     "data": {
      "text/plain": [
       "array([[0, 1, 2, 3]])"
      ]
     },
     "execution_count": 250,
     "metadata": {},
     "output_type": "execute_result"
    }
   ],
   "source": [
    "a[[0],:]"
   ]
  },
  {
   "cell_type": "code",
   "execution_count": 251,
   "id": "329bc84f-6854-4283-80ea-57b53f183e67",
   "metadata": {},
   "outputs": [
    {
     "data": {
      "text/plain": [
       "array([[0],\n",
       "       [4],\n",
       "       [8]])"
      ]
     },
     "execution_count": 251,
     "metadata": {},
     "output_type": "execute_result"
    }
   ],
   "source": [
    "a[:,[0]]"
   ]
  },
  {
   "cell_type": "markdown",
   "id": "847f4c36-b0c9-4ee3-b05f-1fb6626ff059",
   "metadata": {},
   "source": [
    "`-` 이것은 아래와 미묘하게 다르다는 점을 다시한번 기억하자. "
   ]
  },
  {
   "cell_type": "code",
   "execution_count": 252,
   "id": "074a3980-e311-43f1-b409-238f58de8210",
   "metadata": {},
   "outputs": [
    {
     "data": {
      "text/plain": [
       "array([0, 1, 2, 3])"
      ]
     },
     "execution_count": 252,
     "metadata": {},
     "output_type": "execute_result"
    }
   ],
   "source": [
    "a[0,:]"
   ]
  },
  {
   "cell_type": "code",
   "execution_count": 253,
   "id": "c6805eda-e0cd-464f-acd8-52051af6db2b",
   "metadata": {},
   "outputs": [
    {
     "data": {
      "text/plain": [
       "array([0, 4, 8])"
      ]
     },
     "execution_count": 253,
     "metadata": {},
     "output_type": "execute_result"
    }
   ],
   "source": [
    "a[:,0]"
   ]
  },
  {
   "cell_type": "markdown",
   "id": "92c37d3b-34e3-4095-b6f2-921bdb8cded3",
   "metadata": {},
   "source": [
    "## np.ix_"
   ]
  },
  {
   "cell_type": "markdown",
   "id": "aaf5aa21-8da7-475d-a254-2cca76e74553",
   "metadata": {},
   "source": [
    "`-` 아래의 인덱싱을 비교하자. "
   ]
  },
  {
   "cell_type": "code",
   "execution_count": 254,
   "id": "22abad25-79a2-41aa-864e-b5b3cc26ca51",
   "metadata": {},
   "outputs": [
    {
     "data": {
      "text/plain": [
       "array([[ 0,  1,  2,  3],\n",
       "       [ 4,  5,  6,  7],\n",
       "       [ 8,  9, 10, 11]])"
      ]
     },
     "execution_count": 254,
     "metadata": {},
     "output_type": "execute_result"
    }
   ],
   "source": [
    "a=np.arange(12).reshape(3,4)\n",
    "a"
   ]
  },
  {
   "cell_type": "code",
   "execution_count": 255,
   "id": "1c4ceff4-3638-4e1f-ab78-d21f4ad7a51a",
   "metadata": {},
   "outputs": [
    {
     "data": {
      "text/plain": [
       "array([[0, 1],\n",
       "       [4, 5]])"
      ]
     },
     "execution_count": 255,
     "metadata": {},
     "output_type": "execute_result"
    }
   ],
   "source": [
    "a[0:2,0:2]"
   ]
  },
  {
   "cell_type": "code",
   "execution_count": 256,
   "id": "f04b8e28-e935-41b4-81ac-97d06b268d67",
   "metadata": {},
   "outputs": [
    {
     "data": {
      "text/plain": [
       "array([[0, 1],\n",
       "       [4, 5]])"
      ]
     },
     "execution_count": 256,
     "metadata": {},
     "output_type": "execute_result"
    }
   ],
   "source": [
    "a[[0,1],0:2]"
   ]
  },
  {
   "cell_type": "code",
   "execution_count": 257,
   "id": "74274e4b-2ffd-444c-984e-81800b5fcb5d",
   "metadata": {},
   "outputs": [
    {
     "data": {
      "text/plain": [
       "array([[0, 1],\n",
       "       [4, 5]])"
      ]
     },
     "execution_count": 257,
     "metadata": {},
     "output_type": "execute_result"
    }
   ],
   "source": [
    "a[0:2,[0,1]]"
   ]
  },
  {
   "cell_type": "markdown",
   "id": "b3a410bc-0bfa-4a31-8253-84681b569216",
   "metadata": {},
   "source": [
    "`-` 언뜻생각하면 위의 결과와 아래의 결과가 동일하게 나올것 같다. "
   ]
  },
  {
   "cell_type": "code",
   "execution_count": 258,
   "id": "bc5c2596-5f7a-4959-844a-0d56541a0388",
   "metadata": {},
   "outputs": [
    {
     "data": {
      "text/plain": [
       "array([0, 5])"
      ]
     },
     "execution_count": 258,
     "metadata": {},
     "output_type": "execute_result"
    }
   ],
   "source": [
    "a[[0,1],[0,1]]"
   ]
  },
  {
   "cell_type": "markdown",
   "id": "31f1585a-879f-41d0-816d-09fbe8fefec2",
   "metadata": {},
   "source": [
    "- 실제로는 [a[0,0], a[1,1]] 이 array로 나옴 "
   ]
  },
  {
   "cell_type": "markdown",
   "id": "c9832cce-7fcb-4565-a606-385ce005b945",
   "metadata": {},
   "source": [
    "`-` 사실 np.where에서 이미 관찰하였다. "
   ]
  },
  {
   "cell_type": "code",
   "execution_count": 259,
   "id": "28fb0bed-06ed-4086-a2c7-eaea2aeb4651",
   "metadata": {},
   "outputs": [
    {
     "data": {
      "text/plain": [
       "(array([0, 1, 2]), array([0, 1, 2]))"
      ]
     },
     "execution_count": 259,
     "metadata": {},
     "output_type": "execute_result"
    }
   ],
   "source": [
    "np.where(a % 5==0)"
   ]
  },
  {
   "cell_type": "code",
   "execution_count": 260,
   "id": "1578dd11-8b64-4f36-b3c1-7c3182535971",
   "metadata": {},
   "outputs": [
    {
     "data": {
      "text/plain": [
       "array([ 0,  5, 10])"
      ]
     },
     "execution_count": 260,
     "metadata": {},
     "output_type": "execute_result"
    }
   ],
   "source": [
    "a[np.where(a % 5==0)]"
   ]
  },
  {
   "cell_type": "markdown",
   "id": "c1ffb95a-b1b6-4d0e-9aba-7cc3bed5b6cb",
   "metadata": {},
   "source": [
    "- a[0:3,0:3] 이 출력되는것이 아니라 a[0,0], a[1,1], a[2,2] 가 출력된다. "
   ]
  },
  {
   "cell_type": "markdown",
   "id": "6fb89722-8175-40b4-9d3b-f3b304e36ef9",
   "metadata": {},
   "source": [
    "`-` a[[0,1],[0,1]]이 a[0:2,0:2]를 의미하게 하려면 아래와 같이 하면 된다. "
   ]
  },
  {
   "cell_type": "code",
   "execution_count": 261,
   "id": "301d570d-54c1-4247-9b78-ee1801a87073",
   "metadata": {},
   "outputs": [
    {
     "data": {
      "text/plain": [
       "array([[0, 1],\n",
       "       [4, 5]])"
      ]
     },
     "execution_count": 261,
     "metadata": {},
     "output_type": "execute_result"
    }
   ],
   "source": [
    "a[np.ix_([0,1],[0,1])] # 유용해보이지만 생각보다 잘 쓰진 않더라.. "
   ]
  },
  {
   "cell_type": "markdown",
   "id": "841cb047-990a-45cf-a5e2-1c1c2c21975c",
   "metadata": {},
   "source": [
    "# numpy공부 6단계: 랜덤모듈 "
   ]
  },
  {
   "cell_type": "markdown",
   "id": "7afb07be-712d-410e-9840-e300cac564ba",
   "metadata": {},
   "source": [
    "## np.random.rand()"
   ]
  },
  {
   "cell_type": "markdown",
   "id": "eefd01ad-99ac-4702-a62d-6a998c16a78c",
   "metadata": {},
   "source": [
    "`-` 0~1사이의 난수 10개 생성 "
   ]
  },
  {
   "cell_type": "code",
   "execution_count": 262,
   "id": "e8137dd7-537d-490c-83ae-0d4ded305a3e",
   "metadata": {},
   "outputs": [
    {
     "data": {
      "text/plain": [
       "array([0.8852783 , 0.31328711, 0.6141936 , 0.36838019, 0.08044368,\n",
       "       0.47142422, 0.43324944, 0.22441988, 0.01174913, 0.91587271])"
      ]
     },
     "execution_count": 262,
     "metadata": {},
     "output_type": "execute_result"
    }
   ],
   "source": [
    "np.random.rand(10)"
   ]
  },
  {
   "cell_type": "markdown",
   "id": "ffef187f-d8cb-44b8-8fe9-53e9b6377110",
   "metadata": {},
   "source": [
    "`-` 0~2사이의 난수 10개 생성 "
   ]
  },
  {
   "cell_type": "code",
   "execution_count": 263,
   "id": "964473a2-414a-4e89-8be3-5b45a27fe8ab",
   "metadata": {},
   "outputs": [
    {
     "data": {
      "text/plain": [
       "array([1.76650136, 0.65414205, 0.91517695, 1.10990737, 1.11690026,\n",
       "       1.50037557, 0.59895898, 1.71776826, 1.20931097, 0.01302267])"
      ]
     },
     "execution_count": 263,
     "metadata": {},
     "output_type": "execute_result"
    }
   ],
   "source": [
    "np.random.rand(10)*2 "
   ]
  },
  {
   "cell_type": "markdown",
   "id": "747e2e2c-de02-4c39-a357-9430f743fbe0",
   "metadata": {},
   "source": [
    "`-` 1~2사이의 난수 10개 생성 "
   ]
  },
  {
   "cell_type": "code",
   "execution_count": 264,
   "id": "c2c690a3-444b-4080-8c07-a98f01388306",
   "metadata": {},
   "outputs": [
    {
     "data": {
      "text/plain": [
       "array([1.80605888, 1.06988897, 1.76763953, 1.72438164, 1.06247252,\n",
       "       1.97571034, 1.76681327, 1.12138996, 1.14946193, 1.08540348])"
      ]
     },
     "execution_count": 264,
     "metadata": {},
     "output_type": "execute_result"
    }
   ],
   "source": [
    "np.random.rand(10)+1"
   ]
  },
  {
   "cell_type": "markdown",
   "id": "07b9cdb3-9cb7-4594-b70e-74d1a60b50ee",
   "metadata": {},
   "source": [
    "`-` 1~3사이의 난수 10개 생성 "
   ]
  },
  {
   "cell_type": "code",
   "execution_count": 265,
   "id": "1a8faea2-898a-400f-8962-9be1975dd4d5",
   "metadata": {},
   "outputs": [
    {
     "data": {
      "text/plain": [
       "array([1.83316001, 2.82392447, 2.12983406, 2.70590512, 1.91501147,\n",
       "       1.52545303, 2.94666317, 2.67759399, 1.61667643, 2.80011097])"
      ]
     },
     "execution_count": 265,
     "metadata": {},
     "output_type": "execute_result"
    }
   ],
   "source": [
    "np.random.rand(10)*2+1"
   ]
  },
  {
   "cell_type": "markdown",
   "id": "0e1818cf-76ce-49b6-b186-e22eab6a9288",
   "metadata": {},
   "source": [
    "- (0,1) -> (0,2) -> (1,3) 사이의 난수생성 "
   ]
  },
  {
   "cell_type": "markdown",
   "id": "21fad10b-5a35-4fcf-a8fa-77344b1f78b2",
   "metadata": {},
   "source": [
    "## np.random.randn()"
   ]
  },
  {
   "cell_type": "markdown",
   "id": "fa65c94f-b1b6-4f52-9a92-e471ca6c7695",
   "metadata": {},
   "source": [
    "`-` N(0,1)에서 10개 추출 "
   ]
  },
  {
   "cell_type": "code",
   "execution_count": 266,
   "id": "f9b09805-c4e3-4fa6-93bc-5f199e6f6001",
   "metadata": {},
   "outputs": [
    {
     "data": {
      "text/plain": [
       "array([-0.25065063, -1.15695441, -1.29293855, -0.63070219, -0.69898838,\n",
       "        1.26693336,  0.84153043, -1.46458729, -0.16847185,  1.29054265])"
      ]
     },
     "execution_count": 266,
     "metadata": {},
     "output_type": "execute_result"
    }
   ],
   "source": [
    "np.random.randn(10)  "
   ]
  },
  {
   "cell_type": "markdown",
   "id": "9928d427-b697-4e71-a242-4aa0a7f9139f",
   "metadata": {},
   "source": [
    "`-` N(1,1)에서 10개 추출 "
   ]
  },
  {
   "cell_type": "code",
   "execution_count": 267,
   "id": "972977ff-a259-4cdd-8127-a7c14210fca0",
   "metadata": {},
   "outputs": [
    {
     "data": {
      "text/plain": [
       "array([ 1.36478515,  0.90052556,  0.17122775,  0.34652966,  1.07046089,\n",
       "       -1.46535548,  2.3927757 ,  0.94466987,  0.15876552,  0.62279321])"
      ]
     },
     "execution_count": 267,
     "metadata": {},
     "output_type": "execute_result"
    }
   ],
   "source": [
    "np.random.randn(10)+1 # N(1,1)에서 추출 "
   ]
  },
  {
   "cell_type": "markdown",
   "id": "9ede0d19-0d21-44ff-859c-e18e441e3355",
   "metadata": {},
   "source": [
    "`-` N(0,4)에서 10개 추출 "
   ]
  },
  {
   "cell_type": "code",
   "execution_count": 268,
   "id": "ac33e0fc-7c22-4ec1-a529-d5599044f81c",
   "metadata": {},
   "outputs": [
    {
     "data": {
      "text/plain": [
       "array([ 2.66361951,  0.34052965, -1.0283997 , -2.54081612,  3.4852053 ,\n",
       "       -0.7170628 , -0.36915341,  1.24489513,  0.90095895, -0.79682218])"
      ]
     },
     "execution_count": 268,
     "metadata": {},
     "output_type": "execute_result"
    }
   ],
   "source": [
    "np.random.randn(10)*2 # N(0,4)에서 추출 "
   ]
  },
  {
   "cell_type": "markdown",
   "id": "169ef2bc-8d10-4e1f-9041-98d817c7f886",
   "metadata": {},
   "source": [
    "`-` N(3,4)에서 10개 추출 "
   ]
  },
  {
   "cell_type": "code",
   "execution_count": 269,
   "id": "126eb65c-cf30-4c25-8b46-58ce3080e214",
   "metadata": {},
   "outputs": [
    {
     "data": {
      "text/plain": [
       "array([ 0.86608514,  2.63310847,  0.15161244,  1.62661581,  4.47154709,\n",
       "        7.37582762,  0.70315947,  2.44134572,  1.99277107, -0.32804188])"
      ]
     },
     "execution_count": 269,
     "metadata": {},
     "output_type": "execute_result"
    }
   ],
   "source": [
    "np.random.randn(10)*2+3 # N(3,4)에서 추출 "
   ]
  },
  {
   "cell_type": "markdown",
   "id": "9dcf1da2-5e48-45b3-a661-8eeb0d093351",
   "metadata": {},
   "source": [
    "## np.random.randint()"
   ]
  },
  {
   "cell_type": "markdown",
   "id": "60a5db6d-f5e7-415c-9e66-7b8b81d8c5d0",
   "metadata": {},
   "source": [
    "`-` [0,10)의 범위에서 하나의 정수생성 "
   ]
  },
  {
   "cell_type": "code",
   "execution_count": 270,
   "id": "15951b6a-66b3-4fdc-b04c-04b46b39cd8d",
   "metadata": {},
   "outputs": [
    {
     "data": {
      "text/plain": [
       "8"
      ]
     },
     "execution_count": 270,
     "metadata": {},
     "output_type": "execute_result"
    }
   ],
   "source": [
    "np.random.randint(10) # [0,10) 의 범위에서 하나의 정수 생성 "
   ]
  },
  {
   "cell_type": "markdown",
   "id": "7674c0d0-481d-47cf-86df-1628770e8964",
   "metadata": {},
   "source": [
    "`-` [0,10)의 범위에서 20개의 난수 생성 "
   ]
  },
  {
   "cell_type": "code",
   "execution_count": 271,
   "id": "bf34b764-dcdb-4d71-897f-f20690cc9d15",
   "metadata": {},
   "outputs": [
    {
     "data": {
      "text/plain": [
       "array([5, 8, 7, 1, 4, 8, 1, 0, 4, 7, 1, 5, 3, 4, 2, 5, 8, 9, 8, 9])"
      ]
     },
     "execution_count": 271,
     "metadata": {},
     "output_type": "execute_result"
    }
   ],
   "source": [
    "np.random.randint(10, size=(20,)) "
   ]
  },
  {
   "cell_type": "markdown",
   "id": "0fa2f0e2-39b1-403d-a0cb-d948764d6945",
   "metadata": {},
   "source": [
    "`-` [0,10)의 범위에서 (2,2) shape의 정수생성 "
   ]
  },
  {
   "cell_type": "code",
   "execution_count": 272,
   "id": "863921f9-0892-46e9-a815-07ef4e473e77",
   "metadata": {},
   "outputs": [
    {
     "data": {
      "text/plain": [
       "array([[1, 9],\n",
       "       [3, 3]])"
      ]
     },
     "execution_count": 272,
     "metadata": {},
     "output_type": "execute_result"
    }
   ],
   "source": [
    "np.random.randint(10, size=(2,2)) "
   ]
  },
  {
   "cell_type": "markdown",
   "id": "72d145ed-f283-4b96-81d9-159030c6c6ea",
   "metadata": {},
   "source": [
    "`-` 위와 같은코드. 즉 [0,10)의 범위에서 (2,2) shape의 정수생성 "
   ]
  },
  {
   "cell_type": "code",
   "execution_count": 273,
   "id": "a245a7be-de5d-4d45-9399-5c9cb434dc27",
   "metadata": {},
   "outputs": [
    {
     "data": {
      "text/plain": [
       "array([[8, 4],\n",
       "       [0, 4]])"
      ]
     },
     "execution_count": 273,
     "metadata": {},
     "output_type": "execute_result"
    }
   ],
   "source": [
    "np.random.randint(low=10,size=(2,2)) # 왜 low지?"
   ]
  },
  {
   "cell_type": "markdown",
   "id": "49b15e7b-25a1-4277-8f34-af0dca587811",
   "metadata": {},
   "source": [
    "`-` [10,20)의 범위에서 (2,2) shape의 정수생성 "
   ]
  },
  {
   "cell_type": "code",
   "execution_count": 274,
   "id": "737c136d-2935-49f5-aead-fb8f26cdf1d0",
   "metadata": {},
   "outputs": [
    {
     "data": {
      "text/plain": [
       "array([[14, 11, 11, 13, 18],\n",
       "       [14, 12, 14, 14, 13],\n",
       "       [19, 10, 11, 13, 11],\n",
       "       [13, 17, 16, 10, 14],\n",
       "       [11, 12, 17, 13, 19]])"
      ]
     },
     "execution_count": 274,
     "metadata": {},
     "output_type": "execute_result"
    }
   ],
   "source": [
    "np.random.randint(low=10,high=20,size=(5,5)) "
   ]
  },
  {
   "cell_type": "markdown",
   "id": "24ca349d-a857-4c77-8c88-b145534d6f5f",
   "metadata": {},
   "source": [
    "`-` 의문: `np.random.randint(low=10,size=(2,2))`는 `np.random.randint(high=10,size=(2,2))`이어야 맞는거 아닌가?"
   ]
  },
  {
   "cell_type": "markdown",
   "id": "95930da7-5f13-49ae-a462-c5f6e0e0a39f",
   "metadata": {},
   "source": [
    "***저도 그런것 같아요, 그런데 구현을 이상하게 한듯합니다***"
   ]
  },
  {
   "cell_type": "code",
   "execution_count": 275,
   "id": "f221f555-73a5-461a-9803-880d34f9ce1f",
   "metadata": {},
   "outputs": [
    {
     "data": {
      "text/plain": [
       "\u001b[0;31mDocstring:\u001b[0m\n",
       "randint(low, high=None, size=None, dtype=int)\n",
       "\n",
       "Return random integers from `low` (inclusive) to `high` (exclusive).\n",
       "\n",
       "Return random integers from the \"discrete uniform\" distribution of\n",
       "the specified dtype in the \"half-open\" interval [`low`, `high`). If\n",
       "`high` is None (the default), then results are from [0, `low`).\n",
       "\n",
       ".. note::\n",
       "    New code should use the ``integers`` method of a ``default_rng()``\n",
       "    instance instead; please see the :ref:`random-quick-start`.\n",
       "\n",
       "Parameters\n",
       "----------\n",
       "low : int or array-like of ints\n",
       "    Lowest (signed) integers to be drawn from the distribution (unless\n",
       "    ``high=None``, in which case this parameter is one above the\n",
       "    *highest* such integer).\n",
       "high : int or array-like of ints, optional\n",
       "    If provided, one above the largest (signed) integer to be drawn\n",
       "    from the distribution (see above for behavior if ``high=None``).\n",
       "    If array-like, must contain integer values\n",
       "size : int or tuple of ints, optional\n",
       "    Output shape.  If the given shape is, e.g., ``(m, n, k)``, then\n",
       "    ``m * n * k`` samples are drawn.  Default is None, in which case a\n",
       "    single value is returned.\n",
       "dtype : dtype, optional\n",
       "    Desired dtype of the result. Byteorder must be native.\n",
       "    The default value is int.\n",
       "\n",
       "    .. versionadded:: 1.11.0\n",
       "\n",
       "Returns\n",
       "-------\n",
       "out : int or ndarray of ints\n",
       "    `size`-shaped array of random integers from the appropriate\n",
       "    distribution, or a single such random int if `size` not provided.\n",
       "\n",
       "See Also\n",
       "--------\n",
       "random_integers : similar to `randint`, only for the closed\n",
       "    interval [`low`, `high`], and 1 is the lowest value if `high` is\n",
       "    omitted.\n",
       "Generator.integers: which should be used for new code.\n",
       "\n",
       "Examples\n",
       "--------\n",
       ">>> np.random.randint(2, size=10)\n",
       "array([1, 0, 0, 0, 1, 1, 0, 0, 1, 0]) # random\n",
       ">>> np.random.randint(1, size=10)\n",
       "array([0, 0, 0, 0, 0, 0, 0, 0, 0, 0])\n",
       "\n",
       "Generate a 2 x 4 array of ints between 0 and 4, inclusive:\n",
       "\n",
       ">>> np.random.randint(5, size=(2, 4))\n",
       "array([[4, 0, 2, 1], # random\n",
       "       [3, 2, 2, 0]])\n",
       "\n",
       "Generate a 1 x 3 array with 3 different upper bounds\n",
       "\n",
       ">>> np.random.randint(1, [3, 5, 10])\n",
       "array([2, 2, 9]) # random\n",
       "\n",
       "Generate a 1 by 3 array with 3 different lower bounds\n",
       "\n",
       ">>> np.random.randint([1, 5, 7], 10)\n",
       "array([9, 8, 7]) # random\n",
       "\n",
       "Generate a 2 by 4 array using broadcasting with dtype of uint8\n",
       "\n",
       ">>> np.random.randint([1, 3, 5, 7], [[10], [20]], dtype=np.uint8)\n",
       "array([[ 8,  6,  9,  7], # random\n",
       "       [ 1, 16,  9, 12]], dtype=uint8)\n",
       "\u001b[0;31mType:\u001b[0m      builtin_function_or_method\n"
      ]
     },
     "metadata": {},
     "output_type": "display_data"
    }
   ],
   "source": [
    "np.random.randint?"
   ]
  },
  {
   "cell_type": "markdown",
   "id": "51f267f5-9abd-4456-8ef9-2fda11fa9f72",
   "metadata": {},
   "source": [
    "> note: Return random integers from the \"discrete uniform\" distribution of\n",
    "the specified dtype in the \"half-open\" interval [`low`, `high`). If\n",
    "`high` is None (the default), then results are from [0, `low`)."
   ]
  },
  {
   "cell_type": "markdown",
   "id": "15152599-a07c-497b-98eb-27c59a378a53",
   "metadata": {},
   "source": [
    "## np.random.choice() "
   ]
  },
  {
   "cell_type": "markdown",
   "id": "f2cd3804-9256-4236-b9a1-d2559d770b6f",
   "metadata": {},
   "source": [
    "`-` ver1"
   ]
  },
  {
   "cell_type": "code",
   "execution_count": 276,
   "id": "9d8431ac-a3de-4c0f-bc94-67119f109a83",
   "metadata": {},
   "outputs": [
    {
     "data": {
      "text/plain": [
       "array([0, 0, 4, 2, 0, 0, 4, 0, 1, 4, 4, 2, 0, 1, 0, 1, 2, 2, 2, 2])"
      ]
     },
     "execution_count": 276,
     "metadata": {},
     "output_type": "execute_result"
    }
   ],
   "source": [
    "np.random.choice(5,20) # [0,5)에서 20개 뽑음, 중복허용 "
   ]
  },
  {
   "cell_type": "markdown",
   "id": "1ad4b4dc-3686-4b86-b316-27e04d385def",
   "metadata": {},
   "source": [
    "- np.random.randint(5,size=(20,)) 와 동일 "
   ]
  },
  {
   "cell_type": "code",
   "execution_count": 277,
   "id": "d6d97ad6-17a7-4dde-afe2-e171256417e9",
   "metadata": {},
   "outputs": [
    {
     "data": {
      "text/plain": [
       "array([4, 1, 2, 0, 3])"
      ]
     },
     "execution_count": 277,
     "metadata": {},
     "output_type": "execute_result"
    }
   ],
   "source": [
    "np.random.choice(5,5,replace=False) # [0,5)에서 5개 뽑음, 중복허용X => 제비뽑기 "
   ]
  },
  {
   "cell_type": "markdown",
   "id": "9f6af94d-4c98-49f6-ab59-9c30ace28f1b",
   "metadata": {},
   "source": [
    "`-` ver2"
   ]
  },
  {
   "cell_type": "code",
   "execution_count": 278,
   "id": "436fb137-c76b-45c2-a123-c535b4672349",
   "metadata": {},
   "outputs": [
    {
     "data": {
      "text/plain": [
       "array([3, 3, 0, 3, 1, 1, 2, 0, 0, 1, 0, 0, 3, 2, 2, 0, 1, 2, 1, 2])"
      ]
     },
     "execution_count": 278,
     "metadata": {},
     "output_type": "execute_result"
    }
   ],
   "source": [
    "np.random.choice([0,1,2,3],20) # [0,1,2,3]에서 20개 뽑음, 중복허용 "
   ]
  },
  {
   "cell_type": "code",
   "execution_count": 279,
   "id": "0f065719-f927-4c92-944d-5a063fa5cffa",
   "metadata": {},
   "outputs": [
    {
     "data": {
      "text/plain": [
       "array(['banana', 'orange', 'apple', 'banana', 'apple', 'orange', 'banana',\n",
       "       'apple', 'banana', 'apple', 'orange', 'banana', 'banana', 'orange',\n",
       "       'apple', 'apple', 'banana', 'banana', 'orange', 'banana'],\n",
       "      dtype='<U6')"
      ]
     },
     "execution_count": 279,
     "metadata": {},
     "output_type": "execute_result"
    }
   ],
   "source": [
    "np.random.choice([\"apple\",\"banana\",\"orange\"],20) # [\"apple\",\"banana\",\"orange\"]에서 20개 뽑음, 중복허용 "
   ]
  },
  {
   "cell_type": "markdown",
   "id": "2f4d4c0c-94bd-404c-a851-282d23265bfe",
   "metadata": {},
   "source": [
    "## 통계분포 "
   ]
  },
  {
   "cell_type": "code",
   "execution_count": 280,
   "id": "b08a0110-5a77-417a-9b33-b3ac4687aec3",
   "metadata": {},
   "outputs": [
    {
     "data": {
      "text/plain": [
       "array([4, 1, 1, 1, 0])"
      ]
     },
     "execution_count": 280,
     "metadata": {},
     "output_type": "execute_result"
    }
   ],
   "source": [
    "np.random.binomial(n=10,p=0.2,size=(5,)) # X1,...,X5 ~ B(10,0.2) "
   ]
  },
  {
   "cell_type": "code",
   "execution_count": 281,
   "id": "682dae5d-4c90-486c-a5f9-5f26e49f2603",
   "metadata": {},
   "outputs": [
    {
     "data": {
      "text/plain": [
       "array([ 3.08322663,  1.7758872 ,  0.39141069,  2.36938406, -1.78970012])"
      ]
     },
     "execution_count": 281,
     "metadata": {},
     "output_type": "execute_result"
    }
   ],
   "source": [
    "np.random.normal(loc=0,scale=2,size=(5,)) # X1,...,X5 ~ N(0,4) "
   ]
  },
  {
   "cell_type": "code",
   "execution_count": 282,
   "id": "63ed2aa0-bffd-461a-9b01-5822e465e451",
   "metadata": {},
   "outputs": [
    {
     "data": {
      "text/plain": [
       "array([2.25126784, 2.78749105, 3.86552351, 3.12696917, 3.65084364])"
      ]
     },
     "execution_count": 282,
     "metadata": {},
     "output_type": "execute_result"
    }
   ],
   "source": [
    "np.random.uniform(low=2,high=4,size=(5,)) # X1,...,X5 ~ U(2,4)"
   ]
  },
  {
   "cell_type": "code",
   "execution_count": 283,
   "id": "b2cf241e-659c-471f-bed9-e061864dc4d1",
   "metadata": {},
   "outputs": [
    {
     "data": {
      "text/plain": [
       "array([6, 5, 4, 3, 3])"
      ]
     },
     "execution_count": 283,
     "metadata": {},
     "output_type": "execute_result"
    }
   ],
   "source": [
    "np.random.poisson(lam=5,size=(5,)) # X1,...,X5 ~ Poi(5) "
   ]
  },
  {
   "cell_type": "code",
   "execution_count": 284,
   "id": "3f174525-bc28-4bd0-a91f-656b88365b50",
   "metadata": {},
   "outputs": [
    {
     "data": {
      "text/plain": [
       "array([3.93952652, 4.07955895, 1.7005346 , 0.40383429, 1.05525183])"
      ]
     },
     "execution_count": 284,
     "metadata": {},
     "output_type": "execute_result"
    }
   ],
   "source": [
    "np.random.exponential(scale=2, size=(5,)) # X1,...,X5 ~ 평균이 2인 지수분포 "
   ]
  },
  {
   "cell_type": "markdown",
   "id": "c0504b4c-cbf7-44e9-9724-cad0bd5c82dd",
   "metadata": {},
   "source": [
    "# numpy공부 7단계"
   ]
  },
  {
   "cell_type": "markdown",
   "id": "7f8d4b7b-11c5-4960-8baf-bce0b183680b",
   "metadata": {},
   "source": [
    "## note 1: 메소드 도움말 확인하기 "
   ]
  },
  {
   "cell_type": "markdown",
   "id": "81b2c594-9f35-45ad-a2a2-653e93eb193c",
   "metadata": {},
   "source": [
    "`-` 파이썬에서 함수적용하는 2가지 방식 \n",
    "- sum(a)\n",
    "- a.sum() "
   ]
  },
  {
   "cell_type": "code",
   "execution_count": 285,
   "id": "78c0dfa7-f76c-4b07-b288-3513b27ad46d",
   "metadata": {},
   "outputs": [
    {
     "data": {
      "text/plain": [
       "array([1, 2, 3, 4, 5])"
      ]
     },
     "execution_count": 285,
     "metadata": {},
     "output_type": "execute_result"
    }
   ],
   "source": [
    "a = np.array([1,2,3,4,5])\n",
    "a"
   ]
  },
  {
   "cell_type": "code",
   "execution_count": 286,
   "id": "520466d7-ea4f-4251-969f-16caad27673a",
   "metadata": {},
   "outputs": [
    {
     "data": {
      "text/plain": [
       "15"
      ]
     },
     "execution_count": 286,
     "metadata": {},
     "output_type": "execute_result"
    }
   ],
   "source": [
    "a.sum()"
   ]
  },
  {
   "cell_type": "code",
   "execution_count": 287,
   "id": "132e8f44-6234-4d3f-a08d-11bcdcbbab81",
   "metadata": {},
   "outputs": [
    {
     "data": {
      "text/plain": [
       "15"
      ]
     },
     "execution_count": 287,
     "metadata": {},
     "output_type": "execute_result"
    }
   ],
   "source": [
    "np.sum(a)"
   ]
  },
  {
   "cell_type": "markdown",
   "id": "ee6dd7df-9d34-48f3-ae9c-7aa0d05f52c2",
   "metadata": {},
   "source": [
    "`-` a.sum()과 같이 함수를 쓰는 방식을 메소드라고 한다. np.sum()은 그냥 np폴더에 어딘가에 정의된 sum()함수 "
   ]
  },
  {
   "cell_type": "markdown",
   "id": "a8771ae5-6d01-41ce-86b9-d8d6c6a6dd67",
   "metadata": {},
   "source": [
    "`-` 넘파이: 대부분은 np.sum()등과 같은 함수를 만들고 a.sum()이라는 메소드가 np.sum(a)과 동일한 역할을 하도록 추가 설계하는 식임. $\\to$ 도움말은 np.sum()에 자세히 나와있음 "
   ]
  },
  {
   "cell_type": "code",
   "execution_count": 288,
   "id": "160fad86-a87b-43ce-b95c-b1a1e03955bd",
   "metadata": {},
   "outputs": [
    {
     "data": {
      "text/plain": [
       "\u001b[0;31mDocstring:\u001b[0m\n",
       "a.sum(axis=None, dtype=None, out=None, keepdims=False, initial=0, where=True)\n",
       "\n",
       "Return the sum of the array elements over the given axis.\n",
       "\n",
       "Refer to `numpy.sum` for full documentation.\n",
       "\n",
       "See Also\n",
       "--------\n",
       "numpy.sum : equivalent function\n",
       "\u001b[0;31mType:\u001b[0m      builtin_function_or_method\n"
      ]
     },
     "metadata": {},
     "output_type": "display_data"
    }
   ],
   "source": [
    "a.sum?"
   ]
  },
  {
   "cell_type": "code",
   "execution_count": 289,
   "id": "796314b2-ae1a-40fe-b8e8-60fa3e03ac95",
   "metadata": {},
   "outputs": [
    {
     "data": {
      "text/plain": [
       "\u001b[0;31mSignature:\u001b[0m\n",
       "\u001b[0mnp\u001b[0m\u001b[0;34m.\u001b[0m\u001b[0msum\u001b[0m\u001b[0;34m(\u001b[0m\u001b[0;34m\u001b[0m\n",
       "\u001b[0;34m\u001b[0m    \u001b[0ma\u001b[0m\u001b[0;34m,\u001b[0m\u001b[0;34m\u001b[0m\n",
       "\u001b[0;34m\u001b[0m    \u001b[0maxis\u001b[0m\u001b[0;34m=\u001b[0m\u001b[0;32mNone\u001b[0m\u001b[0;34m,\u001b[0m\u001b[0;34m\u001b[0m\n",
       "\u001b[0;34m\u001b[0m    \u001b[0mdtype\u001b[0m\u001b[0;34m=\u001b[0m\u001b[0;32mNone\u001b[0m\u001b[0;34m,\u001b[0m\u001b[0;34m\u001b[0m\n",
       "\u001b[0;34m\u001b[0m    \u001b[0mout\u001b[0m\u001b[0;34m=\u001b[0m\u001b[0;32mNone\u001b[0m\u001b[0;34m,\u001b[0m\u001b[0;34m\u001b[0m\n",
       "\u001b[0;34m\u001b[0m    \u001b[0mkeepdims\u001b[0m\u001b[0;34m=\u001b[0m\u001b[0;34m<\u001b[0m\u001b[0mno\u001b[0m \u001b[0mvalue\u001b[0m\u001b[0;34m>\u001b[0m\u001b[0;34m,\u001b[0m\u001b[0;34m\u001b[0m\n",
       "\u001b[0;34m\u001b[0m    \u001b[0minitial\u001b[0m\u001b[0;34m=\u001b[0m\u001b[0;34m<\u001b[0m\u001b[0mno\u001b[0m \u001b[0mvalue\u001b[0m\u001b[0;34m>\u001b[0m\u001b[0;34m,\u001b[0m\u001b[0;34m\u001b[0m\n",
       "\u001b[0;34m\u001b[0m    \u001b[0mwhere\u001b[0m\u001b[0;34m=\u001b[0m\u001b[0;34m<\u001b[0m\u001b[0mno\u001b[0m \u001b[0mvalue\u001b[0m\u001b[0;34m>\u001b[0m\u001b[0;34m,\u001b[0m\u001b[0;34m\u001b[0m\n",
       "\u001b[0;34m\u001b[0m\u001b[0;34m)\u001b[0m\u001b[0;34m\u001b[0m\u001b[0;34m\u001b[0m\u001b[0m\n",
       "\u001b[0;31mDocstring:\u001b[0m\n",
       "Sum of array elements over a given axis.\n",
       "\n",
       "Parameters\n",
       "----------\n",
       "a : array_like\n",
       "    Elements to sum.\n",
       "axis : None or int or tuple of ints, optional\n",
       "    Axis or axes along which a sum is performed.  The default,\n",
       "    axis=None, will sum all of the elements of the input array.  If\n",
       "    axis is negative it counts from the last to the first axis.\n",
       "\n",
       "    .. versionadded:: 1.7.0\n",
       "\n",
       "    If axis is a tuple of ints, a sum is performed on all of the axes\n",
       "    specified in the tuple instead of a single axis or all the axes as\n",
       "    before.\n",
       "dtype : dtype, optional\n",
       "    The type of the returned array and of the accumulator in which the\n",
       "    elements are summed.  The dtype of `a` is used by default unless `a`\n",
       "    has an integer dtype of less precision than the default platform\n",
       "    integer.  In that case, if `a` is signed then the platform integer\n",
       "    is used while if `a` is unsigned then an unsigned integer of the\n",
       "    same precision as the platform integer is used.\n",
       "out : ndarray, optional\n",
       "    Alternative output array in which to place the result. It must have\n",
       "    the same shape as the expected output, but the type of the output\n",
       "    values will be cast if necessary.\n",
       "keepdims : bool, optional\n",
       "    If this is set to True, the axes which are reduced are left\n",
       "    in the result as dimensions with size one. With this option,\n",
       "    the result will broadcast correctly against the input array.\n",
       "\n",
       "    If the default value is passed, then `keepdims` will not be\n",
       "    passed through to the `sum` method of sub-classes of\n",
       "    `ndarray`, however any non-default value will be.  If the\n",
       "    sub-class' method does not implement `keepdims` any\n",
       "    exceptions will be raised.\n",
       "initial : scalar, optional\n",
       "    Starting value for the sum. See `~numpy.ufunc.reduce` for details.\n",
       "\n",
       "    .. versionadded:: 1.15.0\n",
       "\n",
       "where : array_like of bool, optional\n",
       "    Elements to include in the sum. See `~numpy.ufunc.reduce` for details.\n",
       "\n",
       "    .. versionadded:: 1.17.0\n",
       "\n",
       "Returns\n",
       "-------\n",
       "sum_along_axis : ndarray\n",
       "    An array with the same shape as `a`, with the specified\n",
       "    axis removed.   If `a` is a 0-d array, or if `axis` is None, a scalar\n",
       "    is returned.  If an output array is specified, a reference to\n",
       "    `out` is returned.\n",
       "\n",
       "See Also\n",
       "--------\n",
       "ndarray.sum : Equivalent method.\n",
       "\n",
       "add.reduce : Equivalent functionality of `add`.\n",
       "\n",
       "cumsum : Cumulative sum of array elements.\n",
       "\n",
       "trapz : Integration of array values using the composite trapezoidal rule.\n",
       "\n",
       "mean, average\n",
       "\n",
       "Notes\n",
       "-----\n",
       "Arithmetic is modular when using integer types, and no error is\n",
       "raised on overflow.\n",
       "\n",
       "The sum of an empty array is the neutral element 0:\n",
       "\n",
       ">>> np.sum([])\n",
       "0.0\n",
       "\n",
       "For floating point numbers the numerical precision of sum (and\n",
       "``np.add.reduce``) is in general limited by directly adding each number\n",
       "individually to the result causing rounding errors in every step.\n",
       "However, often numpy will use a  numerically better approach (partial\n",
       "pairwise summation) leading to improved precision in many use-cases.\n",
       "This improved precision is always provided when no ``axis`` is given.\n",
       "When ``axis`` is given, it will depend on which axis is summed.\n",
       "Technically, to provide the best speed possible, the improved precision\n",
       "is only used when the summation is along the fast axis in memory.\n",
       "Note that the exact precision may vary depending on other parameters.\n",
       "In contrast to NumPy, Python's ``math.fsum`` function uses a slower but\n",
       "more precise approach to summation.\n",
       "Especially when summing a large number of lower precision floating point\n",
       "numbers, such as ``float32``, numerical errors can become significant.\n",
       "In such cases it can be advisable to use `dtype=\"float64\"` to use a higher\n",
       "precision for the output.\n",
       "\n",
       "Examples\n",
       "--------\n",
       ">>> np.sum([0.5, 1.5])\n",
       "2.0\n",
       ">>> np.sum([0.5, 0.7, 0.2, 1.5], dtype=np.int32)\n",
       "1\n",
       ">>> np.sum([[0, 1], [0, 5]])\n",
       "6\n",
       ">>> np.sum([[0, 1], [0, 5]], axis=0)\n",
       "array([0, 6])\n",
       ">>> np.sum([[0, 1], [0, 5]], axis=1)\n",
       "array([1, 5])\n",
       ">>> np.sum([[0, 1], [np.nan, 5]], where=[False, True], axis=1)\n",
       "array([1., 5.])\n",
       "\n",
       "If the accumulator is too small, overflow occurs:\n",
       "\n",
       ">>> np.ones(128, dtype=np.int8).sum(dtype=np.int8)\n",
       "-128\n",
       "\n",
       "You can also start the sum with a value other than zero:\n",
       "\n",
       ">>> np.sum([10], initial=5)\n",
       "15\n",
       "\u001b[0;31mFile:\u001b[0m      ~/anaconda3/envs/py310/lib/python3.10/site-packages/numpy/core/fromnumeric.py\n",
       "\u001b[0;31mType:\u001b[0m      function\n"
      ]
     },
     "metadata": {},
     "output_type": "display_data"
    }
   ],
   "source": [
    "np.sum?"
   ]
  },
  {
   "cell_type": "markdown",
   "id": "17d3e335-f44e-4b10-a42d-0683e1b2ef89",
   "metadata": {},
   "source": [
    "## note 2: hstack, vstack"
   ]
  },
  {
   "cell_type": "markdown",
   "id": "99135f50-20c9-4867-8751-90b8c660203b",
   "metadata": {},
   "source": [
    "`-` hstack, vstack 를 쓰는 사람도 있다. "
   ]
  },
  {
   "cell_type": "code",
   "execution_count": 290,
   "id": "ed2a31a2-2c7f-447f-b5b4-5314baa3d85f",
   "metadata": {},
   "outputs": [],
   "source": [
    "a=np.arange(6) \n",
    "b=-a"
   ]
  },
  {
   "cell_type": "code",
   "execution_count": 291,
   "id": "c55d5305-023e-4910-b725-39ab46601839",
   "metadata": {},
   "outputs": [
    {
     "data": {
      "text/plain": [
       "array([[ 0,  1,  2,  3,  4,  5],\n",
       "       [ 0, -1, -2, -3, -4, -5]])"
      ]
     },
     "execution_count": 291,
     "metadata": {},
     "output_type": "execute_result"
    }
   ],
   "source": [
    "np.vstack([a,b])"
   ]
  },
  {
   "cell_type": "code",
   "execution_count": 292,
   "id": "8991067d-b0b9-462b-9747-58e06de9bb40",
   "metadata": {},
   "outputs": [
    {
     "data": {
      "text/plain": [
       "array([[ 0,  1,  2,  3,  4,  5],\n",
       "       [ 0, -1, -2, -3, -4, -5]])"
      ]
     },
     "execution_count": 292,
     "metadata": {},
     "output_type": "execute_result"
    }
   ],
   "source": [
    "np.stack([a,b],axis=0)"
   ]
  },
  {
   "cell_type": "code",
   "execution_count": 293,
   "id": "39a2f918-2a4b-4c6e-990d-f12b8c6296de",
   "metadata": {},
   "outputs": [
    {
     "data": {
      "text/plain": [
       "array([ 0,  1,  2,  3,  4,  5,  0, -1, -2, -3, -4, -5])"
      ]
     },
     "execution_count": 293,
     "metadata": {},
     "output_type": "execute_result"
    }
   ],
   "source": [
    "np.hstack([a,b])"
   ]
  },
  {
   "cell_type": "code",
   "execution_count": 294,
   "id": "c3c78cf3-525c-479d-9d51-34a6cb33a5cc",
   "metadata": {},
   "outputs": [
    {
     "data": {
      "text/plain": [
       "array([ 0,  1,  2,  3,  4,  5,  0, -1, -2, -3, -4, -5])"
      ]
     },
     "execution_count": 294,
     "metadata": {},
     "output_type": "execute_result"
    }
   ],
   "source": [
    "np.concatenate([a,b],axis=0)"
   ]
  },
  {
   "cell_type": "markdown",
   "id": "30ee9637-33d3-43c3-9861-18f63fc50cc6",
   "metadata": {},
   "source": [
    "## note 3: append "
   ]
  },
  {
   "cell_type": "markdown",
   "id": "e6e324de-8903-44dc-8b19-d1acddbb783e",
   "metadata": {},
   "source": [
    "`-` 기능1: reshape(-1) + concat "
   ]
  },
  {
   "cell_type": "code",
   "execution_count": 295,
   "id": "29ddc345-7967-4dec-a88d-bc3ec2242ec4",
   "metadata": {},
   "outputs": [],
   "source": [
    "a=np.arange(30).reshape(5,6)\n",
    "b= -np.arange(8).reshape(2,2,2)"
   ]
  },
  {
   "cell_type": "code",
   "execution_count": 296,
   "id": "730f5cc7-f815-4008-9622-59c90bd5eb4e",
   "metadata": {},
   "outputs": [
    {
     "data": {
      "text/plain": [
       "((5, 6), (2, 2, 2))"
      ]
     },
     "execution_count": 296,
     "metadata": {},
     "output_type": "execute_result"
    }
   ],
   "source": [
    "a.shape, b.shape"
   ]
  },
  {
   "cell_type": "code",
   "execution_count": 297,
   "id": "9dd08bdf-0366-4286-9b8e-188871210c31",
   "metadata": {},
   "outputs": [
    {
     "data": {
      "text/plain": [
       "array([ 0,  1,  2,  3,  4,  5,  6,  7,  8,  9, 10, 11, 12, 13, 14, 15, 16,\n",
       "       17, 18, 19, 20, 21, 22, 23, 24, 25, 26, 27, 28, 29,  0, -1, -2, -3,\n",
       "       -4, -5, -6, -7])"
      ]
     },
     "execution_count": 297,
     "metadata": {},
     "output_type": "execute_result"
    }
   ],
   "source": [
    "np.append(a,b)"
   ]
  },
  {
   "cell_type": "code",
   "execution_count": 298,
   "id": "439e68d5-d9a3-4ce0-abc5-5cf1dab87e27",
   "metadata": {},
   "outputs": [
    {
     "data": {
      "text/plain": [
       "array([ 0,  1,  2,  3,  4,  5,  6,  7,  8,  9, 10, 11, 12, 13, 14, 15, 16,\n",
       "       17, 18, 19, 20, 21, 22, 23, 24, 25, 26, 27, 28, 29,  0, -1, -2, -3,\n",
       "       -4, -5, -6, -7])"
      ]
     },
     "execution_count": 298,
     "metadata": {},
     "output_type": "execute_result"
    }
   ],
   "source": [
    "np.concatenate([a.reshape(-1),b.reshape(-1)])"
   ]
  },
  {
   "cell_type": "markdown",
   "id": "6e6dab44-9c0a-40e3-994a-0365d5214324",
   "metadata": {},
   "source": [
    "`-` 기능2: concat"
   ]
  },
  {
   "cell_type": "code",
   "execution_count": 299,
   "id": "a2caf9c3-45b3-4e8c-937c-52d8effc183c",
   "metadata": {},
   "outputs": [],
   "source": [
    "a=np.arange(2*3*4).reshape(2,3,4)\n",
    "b=-a"
   ]
  },
  {
   "cell_type": "code",
   "execution_count": 300,
   "id": "07df91af-ab14-4af2-be0a-6fe2ef55284a",
   "metadata": {},
   "outputs": [
    {
     "data": {
      "text/plain": [
       "((2, 3, 4), (2, 3, 4), (4, 3, 4))"
      ]
     },
     "execution_count": 300,
     "metadata": {},
     "output_type": "execute_result"
    }
   ],
   "source": [
    "a.shape,b.shape, np.append(a,b,axis=0).shape"
   ]
  },
  {
   "cell_type": "code",
   "execution_count": 301,
   "id": "f82bb188-4f63-4a41-99ef-075c9ba08162",
   "metadata": {},
   "outputs": [
    {
     "data": {
      "text/plain": [
       "((2, 3, 4), (2, 3, 4), (2, 6, 4))"
      ]
     },
     "execution_count": 301,
     "metadata": {},
     "output_type": "execute_result"
    }
   ],
   "source": [
    "a.shape,b.shape, np.append(a,b,axis=1).shape"
   ]
  },
  {
   "cell_type": "code",
   "execution_count": 302,
   "id": "bb0a3433-952c-4d90-adfc-575087e3927e",
   "metadata": {},
   "outputs": [
    {
     "data": {
      "text/plain": [
       "((2, 3, 4), (2, 3, 4), (2, 3, 8))"
      ]
     },
     "execution_count": 302,
     "metadata": {},
     "output_type": "execute_result"
    }
   ],
   "source": [
    "a.shape,b.shape, np.append(a,b,axis=2).shape"
   ]
  },
  {
   "cell_type": "markdown",
   "id": "061d73d6-b5b4-4825-959a-e0d153d475b8",
   "metadata": {},
   "source": [
    "`-` concat과의 차이? "
   ]
  },
  {
   "cell_type": "code",
   "execution_count": 303,
   "id": "e248ef3c-2927-475a-88bb-0df15579bee9",
   "metadata": {},
   "outputs": [],
   "source": [
    "a=np.arange(2*3*4).reshape(2,3,4)\n",
    "b=-a\n",
    "c=2*a"
   ]
  },
  {
   "cell_type": "code",
   "execution_count": 304,
   "id": "ecbe63a9-23ab-49e5-8526-18d3e6ad4915",
   "metadata": {},
   "outputs": [
    {
     "ename": "TypeError",
     "evalue": "_append_dispatcher() got multiple values for argument 'axis'",
     "output_type": "error",
     "traceback": [
      "\u001b[0;31m---------------------------------------------------------------------------\u001b[0m",
      "\u001b[0;31mTypeError\u001b[0m                                 Traceback (most recent call last)",
      "Input \u001b[0;32mIn [304]\u001b[0m, in \u001b[0;36m<cell line: 1>\u001b[0;34m()\u001b[0m\n\u001b[0;32m----> 1\u001b[0m \u001b[43mnp\u001b[49m\u001b[38;5;241;43m.\u001b[39;49m\u001b[43mappend\u001b[49m\u001b[43m(\u001b[49m\u001b[43ma\u001b[49m\u001b[43m,\u001b[49m\u001b[43mb\u001b[49m\u001b[43m,\u001b[49m\u001b[43mc\u001b[49m\u001b[43m,\u001b[49m\u001b[43maxis\u001b[49m\u001b[38;5;241;43m=\u001b[39;49m\u001b[38;5;241;43m0\u001b[39;49m\u001b[43m)\u001b[49m\n",
      "File \u001b[0;32m<__array_function__ internals>:179\u001b[0m, in \u001b[0;36mappend\u001b[0;34m(*args, **kwargs)\u001b[0m\n",
      "\u001b[0;31mTypeError\u001b[0m: _append_dispatcher() got multiple values for argument 'axis'"
     ]
    }
   ],
   "source": [
    "np.append(a,b,c,axis=0)"
   ]
  },
  {
   "cell_type": "code",
   "execution_count": 305,
   "id": "4504888b-9891-40f9-a65d-f484a4a77f89",
   "metadata": {},
   "outputs": [
    {
     "data": {
      "text/plain": [
       "array([[[  0,   1,   2,   3],\n",
       "        [  4,   5,   6,   7],\n",
       "        [  8,   9,  10,  11]],\n",
       "\n",
       "       [[ 12,  13,  14,  15],\n",
       "        [ 16,  17,  18,  19],\n",
       "        [ 20,  21,  22,  23]],\n",
       "\n",
       "       [[  0,  -1,  -2,  -3],\n",
       "        [ -4,  -5,  -6,  -7],\n",
       "        [ -8,  -9, -10, -11]],\n",
       "\n",
       "       [[-12, -13, -14, -15],\n",
       "        [-16, -17, -18, -19],\n",
       "        [-20, -21, -22, -23]],\n",
       "\n",
       "       [[  0,   2,   4,   6],\n",
       "        [  8,  10,  12,  14],\n",
       "        [ 16,  18,  20,  22]],\n",
       "\n",
       "       [[ 24,  26,  28,  30],\n",
       "        [ 32,  34,  36,  38],\n",
       "        [ 40,  42,  44,  46]]])"
      ]
     },
     "execution_count": 305,
     "metadata": {},
     "output_type": "execute_result"
    }
   ],
   "source": [
    "np.concatenate([a,b,c],axis=0)"
   ]
  },
  {
   "cell_type": "markdown",
   "id": "7a7391f2-63db-48ec-b816-4772301f1e14",
   "metadata": {},
   "source": [
    "## note 4: ravel, flatten "
   ]
  },
  {
   "cell_type": "code",
   "execution_count": 306,
   "id": "d915214c-2bef-43e5-92b3-ccff75ce16f1",
   "metadata": {},
   "outputs": [
    {
     "data": {
      "text/plain": [
       "array([[[ 0,  1,  2,  3],\n",
       "        [ 4,  5,  6,  7],\n",
       "        [ 8,  9, 10, 11]],\n",
       "\n",
       "       [[12, 13, 14, 15],\n",
       "        [16, 17, 18, 19],\n",
       "        [20, 21, 22, 23]]])"
      ]
     },
     "execution_count": 306,
     "metadata": {},
     "output_type": "execute_result"
    }
   ],
   "source": [
    "a=np.arange(2*3*4).reshape(2,3,4)\n",
    "a"
   ]
  },
  {
   "cell_type": "code",
   "execution_count": 307,
   "id": "0ee6752f-ce70-4781-b9bf-12b1a202f2c4",
   "metadata": {},
   "outputs": [
    {
     "data": {
      "text/plain": [
       "array([ 0,  1,  2,  3,  4,  5,  6,  7,  8,  9, 10, 11, 12, 13, 14, 15, 16,\n",
       "       17, 18, 19, 20, 21, 22, 23])"
      ]
     },
     "execution_count": 307,
     "metadata": {},
     "output_type": "execute_result"
    }
   ],
   "source": [
    "a.reshape(-1)"
   ]
  },
  {
   "cell_type": "code",
   "execution_count": 308,
   "id": "27ebe28a-6031-44ef-a7ad-fd85cd515c0c",
   "metadata": {},
   "outputs": [
    {
     "data": {
      "text/plain": [
       "array([ 0,  1,  2,  3,  4,  5,  6,  7,  8,  9, 10, 11, 12, 13, 14, 15, 16,\n",
       "       17, 18, 19, 20, 21, 22, 23])"
      ]
     },
     "execution_count": 308,
     "metadata": {},
     "output_type": "execute_result"
    }
   ],
   "source": [
    "a.ravel()"
   ]
  },
  {
   "cell_type": "code",
   "execution_count": 309,
   "id": "8d951a9c-ca7a-4f99-97b6-aa99946e6420",
   "metadata": {},
   "outputs": [
    {
     "data": {
      "text/plain": [
       "array([ 0,  1,  2,  3,  4,  5,  6,  7,  8,  9, 10, 11, 12, 13, 14, 15, 16,\n",
       "       17, 18, 19, 20, 21, 22, 23])"
      ]
     },
     "execution_count": 309,
     "metadata": {},
     "output_type": "execute_result"
    }
   ],
   "source": [
    "a.flatten()"
   ]
  },
  {
   "cell_type": "markdown",
   "id": "fb858934-9a35-40b8-9a0b-2bd6bacfad25",
   "metadata": {},
   "source": [
    "## note 5: 기타 통계함수들 "
   ]
  },
  {
   "cell_type": "markdown",
   "id": "6f07bcb5-ef24-4caf-85fa-0c6ca1bcf460",
   "metadata": {},
   "source": [
    "`-` 평균, 중앙값, 표준편차, 분산, "
   ]
  },
  {
   "cell_type": "code",
   "execution_count": 310,
   "id": "24e803d9-2a56-4437-b38a-fe7d2857aae7",
   "metadata": {},
   "outputs": [
    {
     "data": {
      "text/plain": [
       "array([ 1.10482395, -0.86877641, -2.87354381, -1.07857919,  0.03703613,\n",
       "       -1.14739291,  1.87565381,  2.15846406,  0.49726646, -0.00810987,\n",
       "        2.53348503,  0.23407604, -0.70033057,  0.82176462, -1.52795024,\n",
       "        1.53364238,  2.06437879,  0.80876024, -0.26983189, -1.53527448,\n",
       "       -1.28588465, -0.49564791, -2.91531584, -0.18212024,  0.64680382,\n",
       "       -1.5480415 ,  1.31911602, -1.58918923, -5.21076055,  0.56745112,\n",
       "       -3.6658885 ,  0.5856616 ,  0.5748427 ,  0.56718898, -1.4937509 ,\n",
       "       -1.83666952,  0.80465047,  0.97184222,  0.24572426, -1.40343521,\n",
       "        1.48031211, -1.79697954,  2.0767591 , -0.88344071,  0.63964122,\n",
       "        1.41092588, -0.05452613, -0.29799167,  0.46962945, -2.8253509 ,\n",
       "       -1.41275472,  1.27618038, -1.41329545,  0.42832797,  3.36681894,\n",
       "       -1.84457945,  1.22956994,  0.81007832,  0.06983388,  0.80544143,\n",
       "       -0.13307524,  2.030119  , -4.06015169,  0.2349643 , -0.48281504,\n",
       "       -0.35643278, -1.18831743, -2.3565089 ,  0.66814577,  0.21763942,\n",
       "       -2.07618811,  1.80628638,  0.78098654,  1.58641403, -1.71025858,\n",
       "       -0.29232917,  0.21923226, -1.62321184, -0.44817688,  0.63777853,\n",
       "       -1.6351924 ,  2.60108463,  1.15300474, -0.50451115, -2.1568106 ,\n",
       "       -1.13993511, -3.32948725, -0.5059582 ,  0.66831111, -1.51265995,\n",
       "       -0.7356817 , -0.5188582 ,  0.73946266, -0.55988812,  0.19881875,\n",
       "       -1.8650296 , -0.62325849,  1.65669507, -0.45051465, -0.02321452])"
      ]
     },
     "execution_count": 310,
     "metadata": {},
     "output_type": "execute_result"
    }
   ],
   "source": [
    "a=np.random.normal(loc=0,scale=2,size=(100,))\n",
    "a"
   ]
  },
  {
   "cell_type": "code",
   "execution_count": 311,
   "id": "1a3915bd-19e7-4ea5-930b-958f3ab88c11",
   "metadata": {},
   "outputs": [
    {
     "data": {
      "text/plain": [
       "-0.23238783083421655"
      ]
     },
     "execution_count": 311,
     "metadata": {},
     "output_type": "execute_result"
    }
   ],
   "source": [
    "np.mean(a)"
   ]
  },
  {
   "cell_type": "code",
   "execution_count": 312,
   "id": "f37ca804-a48f-44c7-bfea-e84f805f18ae",
   "metadata": {},
   "outputs": [
    {
     "data": {
      "text/plain": [
       "-0.09380068380510138"
      ]
     },
     "execution_count": 312,
     "metadata": {},
     "output_type": "execute_result"
    }
   ],
   "source": [
    "np.median(a)"
   ]
  },
  {
   "cell_type": "code",
   "execution_count": 313,
   "id": "9e43c8b9-94ec-4383-9d27-f6cf6de67b5e",
   "metadata": {},
   "outputs": [
    {
     "data": {
      "text/plain": [
       "1.5287396635800397"
      ]
     },
     "execution_count": 313,
     "metadata": {},
     "output_type": "execute_result"
    }
   ],
   "source": [
    "np.std(a)"
   ]
  },
  {
   "cell_type": "code",
   "execution_count": 314,
   "id": "744cf673-41d4-4ab6-bc01-dcf0e59ed434",
   "metadata": {},
   "outputs": [
    {
     "data": {
      "text/plain": [
       "2.337044959002813"
      ]
     },
     "execution_count": 314,
     "metadata": {},
     "output_type": "execute_result"
    }
   ],
   "source": [
    "np.var(a)"
   ]
  },
  {
   "cell_type": "markdown",
   "id": "90d112aa-9b61-4e1a-a43c-de64f07e4359",
   "metadata": {},
   "source": [
    "`-` corr matrix, cov matrix "
   ]
  },
  {
   "cell_type": "code",
   "execution_count": 315,
   "id": "4fef18bb-f3ab-4db7-83cc-f8262b7f9561",
   "metadata": {},
   "outputs": [],
   "source": [
    "np.random.seed(43052)\n",
    "x=np.random.randn(10000)\n",
    "y=np.random.randn(10000)*2\n",
    "z=np.random.randn(10000)*0.5"
   ]
  },
  {
   "cell_type": "code",
   "execution_count": 316,
   "id": "4ecfbea1-78ef-4fa9-8d85-48f309be59b7",
   "metadata": {},
   "outputs": [
    {
     "data": {
      "text/plain": [
       "array([[ 1.  , -0.01,  0.01],\n",
       "       [-0.01,  1.  ,  0.  ],\n",
       "       [ 0.01,  0.  ,  1.  ]])"
      ]
     },
     "execution_count": 316,
     "metadata": {},
     "output_type": "execute_result"
    }
   ],
   "source": [
    "np.corrcoef([x,y,z]).round(2)"
   ]
  },
  {
   "cell_type": "code",
   "execution_count": 317,
   "id": "d85f9f87-8f75-4912-afe5-6e200f30bc44",
   "metadata": {},
   "outputs": [
    {
     "data": {
      "text/plain": [
       "array([[ 0.99, -0.02,  0.  ],\n",
       "       [-0.02,  4.06,  0.  ],\n",
       "       [ 0.  ,  0.  ,  0.25]])"
      ]
     },
     "execution_count": 317,
     "metadata": {},
     "output_type": "execute_result"
    }
   ],
   "source": [
    "np.cov([x,y,z]).round(2)"
   ]
  },
  {
   "cell_type": "markdown",
   "id": "f311cbcb-4530-421e-9898-a8141caf52b5",
   "metadata": {},
   "source": [
    "## note 6: dtype"
   ]
  },
  {
   "cell_type": "markdown",
   "id": "643aca5f-a9c7-4712-889d-4900d2d08eae",
   "metadata": {},
   "source": [
    "`-` np.array는 항상 dtype이 있다. "
   ]
  },
  {
   "cell_type": "code",
   "execution_count": 45,
   "id": "ffacae30-8923-4c1a-8dc2-51078b187085",
   "metadata": {},
   "outputs": [
    {
     "data": {
      "text/plain": [
       "array([1, 2, 3])"
      ]
     },
     "execution_count": 45,
     "metadata": {},
     "output_type": "execute_result"
    }
   ],
   "source": [
    "a= np.array([1,2,3])\n",
    "a"
   ]
  },
  {
   "cell_type": "code",
   "execution_count": 46,
   "id": "6e8f0df3-4069-4484-8fb6-8a8d6d19d5a7",
   "metadata": {},
   "outputs": [
    {
     "data": {
      "text/plain": [
       "dtype('int64')"
      ]
     },
     "execution_count": 46,
     "metadata": {},
     "output_type": "execute_result"
    }
   ],
   "source": [
    "a.dtype"
   ]
  },
  {
   "cell_type": "code",
   "execution_count": 47,
   "id": "4170cff4-7363-4361-a665-6793ed29e461",
   "metadata": {},
   "outputs": [
    {
     "data": {
      "text/plain": [
       "array([1., 2., 3.])"
      ]
     },
     "execution_count": 47,
     "metadata": {},
     "output_type": "execute_result"
    }
   ],
   "source": [
    "a= np.array([1.0,2.0,3.0])\n",
    "a"
   ]
  },
  {
   "cell_type": "code",
   "execution_count": 49,
   "id": "5f21c6f3-834c-47ab-a454-e463d332972c",
   "metadata": {},
   "outputs": [
    {
     "data": {
      "text/plain": [
       "dtype('float64')"
      ]
     },
     "execution_count": 49,
     "metadata": {},
     "output_type": "execute_result"
    }
   ],
   "source": [
    "a.dtype"
   ]
  },
  {
   "cell_type": "markdown",
   "id": "11548a8f-274d-49db-88b3-b45c111a51d0",
   "metadata": {},
   "source": [
    "`-` 같은 int라도 int16, int32, int64로 나누어진다."
   ]
  },
  {
   "cell_type": "code",
   "execution_count": 77,
   "id": "50e38040-30e2-4709-ae0a-037a7bf77e3a",
   "metadata": {},
   "outputs": [
    {
     "data": {
      "text/plain": [
       "array([1, 2, 3], dtype=int32)"
      ]
     },
     "execution_count": 77,
     "metadata": {},
     "output_type": "execute_result"
    }
   ],
   "source": [
    "a = np.array([1,2,3],dtype=np.int32) # 자료형을 특정하여 선언\n",
    "a"
   ]
  },
  {
   "cell_type": "code",
   "execution_count": 78,
   "id": "6fda8f90-6ea9-4b71-9f22-ec32023a5dad",
   "metadata": {},
   "outputs": [
    {
     "data": {
      "text/plain": [
       "dtype('int32')"
      ]
     },
     "execution_count": 78,
     "metadata": {},
     "output_type": "execute_result"
    }
   ],
   "source": [
    "a.dtype"
   ]
  },
  {
   "cell_type": "markdown",
   "id": "2c231e35-b70b-4a8b-ae79-3051cd99e28a",
   "metadata": {},
   "source": [
    "`-` float도 float16, float32, float64가 있다. "
   ]
  },
  {
   "cell_type": "code",
   "execution_count": 91,
   "id": "cd8b185d-7d94-4c5a-b205-b967dd8b80b1",
   "metadata": {},
   "outputs": [],
   "source": [
    "a = np.array([1,2,3],dtype=np.float32)"
   ]
  },
  {
   "cell_type": "code",
   "execution_count": 93,
   "id": "c7df3701-6030-4683-b18d-4d8e59e650d8",
   "metadata": {},
   "outputs": [
    {
     "data": {
      "text/plain": [
       "array([1., 2., 3.], dtype=float32)"
      ]
     },
     "execution_count": 93,
     "metadata": {},
     "output_type": "execute_result"
    }
   ],
   "source": [
    "a"
   ]
  },
  {
   "cell_type": "markdown",
   "id": "cfc192e1-9f02-457e-a2af-1595d794fbb1",
   "metadata": {},
   "source": [
    "`-` 데이터타입은 아래와 같은 방법으로 변환시킬 수 있다. "
   ]
  },
  {
   "cell_type": "code",
   "execution_count": 73,
   "id": "e543e6e0-1b59-4e98-afb1-e424775091d2",
   "metadata": {},
   "outputs": [
    {
     "data": {
      "text/plain": [
       "array([1, 2, 3], dtype=int32)"
      ]
     },
     "execution_count": 73,
     "metadata": {},
     "output_type": "execute_result"
    }
   ],
   "source": [
    "a = np.array([1,2,3],dtype=np.int32)\n",
    "a"
   ]
  },
  {
   "cell_type": "code",
   "execution_count": 74,
   "id": "02d2a7c6-ef59-4f3d-a495-7835bb58fdc5",
   "metadata": {},
   "outputs": [],
   "source": [
    "a=a.astype(dtype=np.int64)"
   ]
  },
  {
   "cell_type": "code",
   "execution_count": 75,
   "id": "4254c5c8-04df-422b-b2da-2f62af4baefc",
   "metadata": {},
   "outputs": [
    {
     "data": {
      "text/plain": [
       "dtype('int64')"
      ]
     },
     "execution_count": 75,
     "metadata": {},
     "output_type": "execute_result"
    }
   ],
   "source": [
    "a.dtype"
   ]
  },
  {
   "cell_type": "markdown",
   "id": "e1998327-312b-4543-ac6a-0cf566a8a447",
   "metadata": {},
   "source": [
    "`-` 문자열의 경우 "
   ]
  },
  {
   "cell_type": "code",
   "execution_count": 95,
   "id": "c8a409f8-6e2a-4c95-a6ea-4821c0767659",
   "metadata": {},
   "outputs": [
    {
     "data": {
      "text/plain": [
       "dtype('<U1')"
      ]
     },
     "execution_count": 95,
     "metadata": {},
     "output_type": "execute_result"
    }
   ],
   "source": [
    "a = np.array(['a','b','c'])\n",
    "a.dtype"
   ]
  },
  {
   "cell_type": "code",
   "execution_count": 99,
   "id": "ecf847ad-401e-4d74-a50a-51089b310cf5",
   "metadata": {},
   "outputs": [
    {
     "data": {
      "text/plain": [
       "dtype('<U2')"
      ]
     },
     "execution_count": 99,
     "metadata": {},
     "output_type": "execute_result"
    }
   ],
   "source": [
    "a = np.array(['ab','b','c'])\n",
    "a.dtype"
   ]
  },
  {
   "cell_type": "code",
   "execution_count": 101,
   "id": "b1c537fa-baba-477b-b1df-38ca90dcb893",
   "metadata": {},
   "outputs": [
    {
     "data": {
      "text/plain": [
       "dtype('<U3')"
      ]
     },
     "execution_count": 101,
     "metadata": {},
     "output_type": "execute_result"
    }
   ],
   "source": [
    "a = np.array(['abc','b','c'])\n",
    "a.dtype"
   ]
  },
  {
   "cell_type": "markdown",
   "id": "68b9db79-c336-4028-a064-85fe588a5805",
   "metadata": {},
   "source": [
    "`-` 문자열 + 숫자혼합 => 문자열로 통일"
   ]
  },
  {
   "cell_type": "code",
   "execution_count": 120,
   "id": "dab6967f-4480-4179-bfb7-e9bf2c646eb7",
   "metadata": {},
   "outputs": [
    {
     "data": {
      "text/plain": [
       "array(['a', '1'], dtype='<U21')"
      ]
     },
     "execution_count": 120,
     "metadata": {},
     "output_type": "execute_result"
    }
   ],
   "source": [
    "a = np.array(['a',1])\n",
    "a"
   ]
  },
  {
   "cell_type": "code",
   "execution_count": 106,
   "id": "32fa02b9-b6e5-4327-937d-deefd57392a1",
   "metadata": {},
   "outputs": [
    {
     "data": {
      "text/plain": [
       "array(['a', '1.0'], dtype='<U32')"
      ]
     },
     "execution_count": 106,
     "metadata": {},
     "output_type": "execute_result"
    }
   ],
   "source": [
    "a = np.array(['a',1.0])\n",
    "a"
   ]
  },
  {
   "cell_type": "markdown",
   "id": "6115ad6f-2bf4-4c17-8cb0-5afc104a8d64",
   "metadata": {},
   "source": [
    "`-` 숫자를 문자열로 전환: 필요가 있을까.. "
   ]
  },
  {
   "cell_type": "code",
   "execution_count": 113,
   "id": "3e364818-fe6d-4414-b383-d2bd1ecc0855",
   "metadata": {},
   "outputs": [
    {
     "data": {
      "text/plain": [
       "array([1, 2, 3])"
      ]
     },
     "execution_count": 113,
     "metadata": {},
     "output_type": "execute_result"
    }
   ],
   "source": [
    "a=np.array([1,2,3])\n",
    "a"
   ]
  },
  {
   "cell_type": "code",
   "execution_count": 114,
   "id": "fcf0fffb-1f81-456c-95f5-3550831f74e2",
   "metadata": {},
   "outputs": [
    {
     "data": {
      "text/plain": [
       "array(['1', '2', '3'], dtype='<U21')"
      ]
     },
     "execution_count": 114,
     "metadata": {},
     "output_type": "execute_result"
    }
   ],
   "source": [
    "a.astype(np.str_)"
   ]
  },
  {
   "cell_type": "markdown",
   "id": "b3ddfcf2-5438-420d-be20-a6263e12d295",
   "metadata": {},
   "source": [
    "## note 7: 브로드캐스팅과 시간측정"
   ]
  },
  {
   "cell_type": "code",
   "execution_count": 1,
   "id": "60bf5dd8-91ab-4ff7-b709-04fd600cb21f",
   "metadata": {},
   "outputs": [],
   "source": [
    "import time "
   ]
  },
  {
   "cell_type": "code",
   "execution_count": 122,
   "id": "5dee225c-7882-45d2-942f-1595e281a2ec",
   "metadata": {},
   "outputs": [],
   "source": [
    "t1=time.time()"
   ]
  },
  {
   "cell_type": "code",
   "execution_count": 123,
   "id": "1acafa4b-aae5-4e7a-9410-623d0ac48a00",
   "metadata": {},
   "outputs": [
    {
     "data": {
      "text/plain": [
       "0.17961955070495605"
      ]
     },
     "execution_count": 123,
     "metadata": {},
     "output_type": "execute_result"
    }
   ],
   "source": [
    "t2=time.time()\n",
    "t2-t1"
   ]
  },
  {
   "cell_type": "code",
   "execution_count": 124,
   "id": "3739dcf4-f2af-4f46-8106-6b188979a4c4",
   "metadata": {},
   "outputs": [],
   "source": [
    "x=np.arange(10**4)\n",
    "y=np.arange(10**4)"
   ]
  },
  {
   "cell_type": "code",
   "execution_count": 125,
   "id": "76c6db79-0923-46b9-8c3b-389c7bf429ca",
   "metadata": {},
   "outputs": [],
   "source": [
    "arr1=x.reshape(10**4,1)\n",
    "arr2=y.reshape(1,10**4)"
   ]
  },
  {
   "cell_type": "code",
   "execution_count": 126,
   "id": "4a4ef1f2-bf49-4b61-b875-7515efd29bab",
   "metadata": {},
   "outputs": [],
   "source": [
    "dist = (arr1-arr2)**2"
   ]
  },
  {
   "cell_type": "code",
   "execution_count": 127,
   "id": "63558deb-4063-4eec-9dda-4d2a60555ae5",
   "metadata": {},
   "outputs": [],
   "source": [
    "dist = np.zeros([10**4,10**4])"
   ]
  },
  {
   "cell_type": "code",
   "execution_count": 128,
   "id": "a43ed27b-1644-4eb6-aea5-d9b0fc7c74a7",
   "metadata": {},
   "outputs": [],
   "source": [
    "for i in range(10**4):\n",
    "    for j in range(10**4):\n",
    "        dist[i,j] = (i-j)**2"
   ]
  }
 ],
 "metadata": {
  "kernelspec": {
   "display_name": "Python 3 (ipykernel)",
   "language": "python",
   "name": "python3"
  },
  "language_info": {
   "codemirror_mode": {
    "name": "ipython",
    "version": 3
   },
   "file_extension": ".py",
   "mimetype": "text/x-python",
   "name": "python",
   "nbconvert_exporter": "python",
   "pygments_lexer": "ipython3",
   "version": "3.7.13"
  }
 },
 "nbformat": 4,
 "nbformat_minor": 5
}
