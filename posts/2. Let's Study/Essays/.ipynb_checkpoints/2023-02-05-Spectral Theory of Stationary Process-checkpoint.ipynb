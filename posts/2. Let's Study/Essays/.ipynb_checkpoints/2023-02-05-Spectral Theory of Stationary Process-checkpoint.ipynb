{
 "cells": [
  {
   "cell_type": "raw",
   "id": "93a5fb20-456a-4f98-b8a8-a6ef97ed2b37",
   "metadata": {},
   "source": [
    "---\n",
    "title: \"Spectral Theory of Stationary Process\"\n",
    "author: \"신록예찬\"\n",
    "date: \"01/20/2023\"\n",
    "---"
   ]
  },
  {
   "cell_type": "code",
   "execution_count": null,
   "id": "92162f69-fd5f-4066-bdd3-c50f829ad3a5",
   "metadata": {},
   "outputs": [],
   "source": []
  }
 ],
 "metadata": {
  "kernelspec": {
   "display_name": "Julia 1.8.5",
   "language": "julia",
   "name": "julia-1.8"
  },
  "language_info": {
   "name": ""
  }
 },
 "nbformat": 4,
 "nbformat_minor": 5
}
