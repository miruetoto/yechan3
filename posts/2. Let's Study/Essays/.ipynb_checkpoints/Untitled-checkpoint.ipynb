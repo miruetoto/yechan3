{
 "cells": [
  {
   "cell_type": "raw",
   "id": "3a888aed-7300-4091-81f7-325d47ef3b92",
   "metadata": {},
   "source": [
    "---\n",
    "title: \"추정\"\n",
    "author: \"신록예찬\"\n",
    "date: \"01/20/2023\"\n",
    "---"
   ]
  },
  {
   "cell_type": "code",
   "execution_count": 4,
   "id": "0eb1edc7-2fde-472a-bb3f-2aa5d1d4643f",
   "metadata": {},
   "outputs": [],
   "source": [
    "using Distributions, Plots"
   ]
  },
  {
   "cell_type": "markdown",
   "id": "c1c96578",
   "metadata": {},
   "source": [
    "# 추정"
   ]
  },
  {
   "cell_type": "markdown",
   "id": "5080804d",
   "metadata": {},
   "source": [
    "데이터로부터 모수 혹은 모수의 함수를 추측하는 일을 추정이라고 한다. "
   ]
  },
  {
   "cell_type": "markdown",
   "id": "9ba07649",
   "metadata": {},
   "source": [
    "(예시) 예시를들어보자"
   ]
  },
  {
   "cell_type": "markdown",
   "id": "382157c9-7a41-4e40-8b4f-24349c3d74cb",
   "metadata": {},
   "source": [
    "아래와 같은 베르누이 분포에서 데이터 ${\\bf x}=(x_1,\\dots,x_{10})$을 얻었다고 하자. "
   ]
  },
  {
   "cell_type": "code",
   "execution_count": 8,
   "id": "39aaf9ef",
   "metadata": {},
   "outputs": [
    {
     "data": {
      "text/plain": [
       "10-element Vector{Bool}:\n",
       " 0\n",
       " 0\n",
       " 1\n",
       " 0\n",
       " 1\n",
       " 0\n",
       " 1\n",
       " 0\n",
       " 0\n",
       " 0"
      ]
     },
     "execution_count": 8,
     "metadata": {},
     "output_type": "execute_result"
    }
   ],
   "source": [
    "x = rand(Bernoulli(0.37),10)\n",
    "x"
   ]
  },
  {
   "cell_type": "markdown",
   "id": "4e34e70c-3470-44d1-adb7-d7a9fe188610",
   "metadata": {},
   "source": [
    "이러한 데이터로부터 평균 $p$와 분산 $p(1-p)$를 추측할 수 있는데 이를 추정이라고 한다. 여기에서 평균은 모수 $p$이고 분산은 모수 $p$의 함수이다. 그런데"
   ]
  },
  {
   "cell_type": "code",
   "execution_count": null,
   "id": "448cdf08-e105-4568-9dc4-34e82f88c077",
   "metadata": {},
   "outputs": [],
   "source": []
  }
 ],
 "metadata": {
  "kernelspec": {
   "display_name": "Julia 1.7.2",
   "language": "julia",
   "name": "julia-1.7"
  },
  "language_info": {
   "file_extension": ".jl",
   "mimetype": "application/julia",
   "name": "julia",
   "version": "1.7.2"
  }
 },
 "nbformat": 4,
 "nbformat_minor": 5
}
