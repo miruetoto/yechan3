{
 "cells": [
  {
   "cell_type": "raw",
   "id": "d6167dee-bcbd-43ce-a2df-7a1bef10c191",
   "metadata": {},
   "source": [
    "---\n",
    "title: \"Chap 12.2 ~ 3: Power Spectral Density and its Estimators\"\n",
    "author: \"신록예찬\"\n",
    "date: \"12/27/2022\"\n",
    "bibliography: cgsp.bib\n",
    "---"
   ]
  },
  {
   "cell_type": "code",
   "execution_count": null,
   "id": "b7d334b8-c657-463c-b991-bb7b49fcabd0",
   "metadata": {},
   "outputs": [],
   "source": []
  }
 ],
 "metadata": {
  "kernelspec": {
   "display_name": "Julia 1.7.2",
   "language": "julia",
   "name": "julia-1.7"
  },
  "language_info": {
   "file_extension": ".jl",
   "mimetype": "application/julia",
   "name": "julia",
   "version": "1.7.2"
  }
 },
 "nbformat": 4,
 "nbformat_minor": 5
}
