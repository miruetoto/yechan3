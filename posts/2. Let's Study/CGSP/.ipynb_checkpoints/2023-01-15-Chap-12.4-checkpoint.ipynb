{
 "cells": [
  {
   "cell_type": "raw",
   "id": "d6167dee-bcbd-43ce-a2df-7a1bef10c191",
   "metadata": {},
   "source": [
    "---\n",
    "title: \"Chap 12.4: Node Subsampling for PSD Estimation\"\n",
    "author: \"신록예찬\"\n",
    "date: \"01/15/2023\"\n",
    "bibliography: cgsp.bib\n",
    "---"
   ]
  },
  {
   "cell_type": "code",
   "execution_count": 7,
   "id": "e8effb53-70b6-4f84-be55-96a8fc30e965",
   "metadata": {},
   "outputs": [],
   "source": [
    "using LinearAlgebra, Plots, FFTW"
   ]
  },
  {
   "cell_type": "markdown",
   "id": "8e8dbe84-8b24-44d2-b236-885d9d64ad83",
   "metadata": {},
   "source": [
    "# 12.4.1 The Sampling Problem "
   ]
  },
  {
   "cell_type": "markdown",
   "id": "f63a9bda-67c3-44dc-8e2a-56f716364db2",
   "metadata": {},
   "source": [
    "아래와 같이 길이가 $N=10$ 인 신호 ${\\bf x}$를 고려하자. "
   ]
  },
  {
   "cell_type": "code",
   "execution_count": 9,
   "id": "a2df1de5-174b-4bfc-a8db-fab95afdb703",
   "metadata": {},
   "outputs": [
    {
     "data": {
      "text/plain": [
       "10-element Vector{Float64}:\n",
       " 0.2546667568295533\n",
       " 0.8841642668129002\n",
       " 0.6113149468746606\n",
       " 0.274335038922665\n",
       " 0.42732106135068126\n",
       " 0.4111145680101931\n",
       " 0.2853766526165148\n",
       " 0.9483725154335224\n",
       " 0.928470614337398\n",
       " 0.898551065203015"
      ]
     },
     "execution_count": 9,
     "metadata": {},
     "output_type": "execute_result"
    }
   ],
   "source": [
    "x = rand(10)"
   ]
  },
  {
   "cell_type": "code",
   "execution_count": null,
   "id": "e9f49eca-d015-4945-90d5-c9b9d55909ae",
   "metadata": {},
   "outputs": [],
   "source": []
  }
 ],
 "metadata": {
  "kernelspec": {
   "display_name": "Julia 1.7.2",
   "language": "julia",
   "name": "julia-1.7"
  },
  "language_info": {
   "file_extension": ".jl",
   "mimetype": "application/julia",
   "name": "julia",
   "version": "1.7.2"
  }
 },
 "nbformat": 4,
 "nbformat_minor": 5
}
