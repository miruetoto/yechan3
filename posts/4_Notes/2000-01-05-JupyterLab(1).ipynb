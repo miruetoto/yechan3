{
 "cells": [
  {
   "cell_type": "raw",
   "id": "40ca612e-0f2c-439e-a96a-75113c102cd4",
   "metadata": {},
   "source": [
    "---\n",
    "title: \"**[Note]** 주피터랩(터미널)\"\n",
    "author: \"신록예찬\"\n",
    "date: \"01/05/2000\"\n",
    "---"
   ]
  },
  {
   "cell_type": "markdown",
   "id": "8d4b24d3-5f88-4730-b846-e623ab68a745",
   "metadata": {},
   "source": [
    "# `&` 옵션으로 주피터 실행"
   ]
  },
  {
   "cell_type": "markdown",
   "id": "4b0de1f4-622f-4c26-b0f9-c0c442e9ba4a",
   "metadata": {},
   "source": [
    "`-` 서버에 접속한다. \n",
    "\n",
    "```default\n",
    "ssh lgcgb@10.178.144.65\n",
    "```\n",
    "\n",
    "아래와 같이 끝에 `&`을 붙이면 된다. \n",
    "\n",
    "```default\n",
    "conda activate py20190129\n",
    "jupyter lab &\n",
    "```\n",
    "\n",
    "**실행하고 난뒤에는 엔터를 쳐서 빠져나온다.** 이렇게 하면 서버자체에 모니터를 연결하고 커널창을 띄운것과 같은 효과를 준다. 즉 서버에 접속한 컴퓨터를 끄는것과 상관없이 서버에서는 항상 주피터가 열려 있게 된다. "
   ]
  },
  {
   "cell_type": "markdown",
   "id": "9786f8ce-22f0-41d9-b38d-503c4be80a14",
   "metadata": {},
   "source": [
    "# `&` 옵션으로 실행한 주피터프로세스 죽이기 "
   ]
  },
  {
   "cell_type": "markdown",
   "id": "58a87f1e-52db-4949-8a5e-8eec575e415e",
   "metadata": {},
   "source": [
    "`-` 서버에 접속한다. \n",
    "\n",
    "```default\n",
    "ssh lgcgb@10.178.144.65\n",
    "```\n",
    "\n",
    "실행된 프로세스를 찾기위해 아래를 실행한다. \n",
    "\n",
    "```default\n",
    "ps aux | grep jupyter-lab\n",
    "```\n",
    "\n",
    "결과는 아래와 같이 나온다. \n",
    "\n",
    "```default\n",
    "lgcgb    26888  0.2  0.1 326760 86724 ?        Sl   10:14   0:12 /home/lgcgb/anaconda3/envs/py20190129/bin/python3.7 /home/lgcgb/anaconda3/envs/py20190129/bin/jupyter-lab\n",
    "lgcgb    27146  0.0  0.0  15720  1008 pts/3    S+   11:56   0:00 grep --color=auto jupyter-lab\n",
    "``` \n",
    "\n",
    "26888에 해당하는 것이 주피터를 띄운 커널이다. 이 번호를 기억했다가 프로세스를 아래와 같은 명령으로 죽인다. \n",
    "\n",
    "```default\n",
    "kill 26888\n",
    "```"
   ]
  },
  {
   "cell_type": "markdown",
   "id": "ea0bb901-0a6d-466e-9454-a481486a4eef",
   "metadata": {},
   "source": [
    "# 패스워드 없이 주피터 실행 "
   ]
  },
  {
   "cell_type": "markdown",
   "id": "83d56147-46f7-4c55-813f-31801ea77ebb",
   "metadata": {},
   "source": [
    "`-` 아래와 같이 하면 외부에서 접속할때 패스워드를 입력하지 않음. \n",
    "\n",
    "```default\n",
    "jupyter lab --LabApp.token='' --LabApp.password=''\n",
    "jupyter notebook --NotebookApp.token='' --NotebookApp.password='' \n",
    "```"
   ]
  }
 ],
 "metadata": {
  "kernelspec": {
   "display_name": "Python 3",
   "language": "python",
   "name": "python3"
  },
  "language_info": {
   "codemirror_mode": {
    "name": "ipython",
    "version": 3
   },
   "file_extension": ".py",
   "mimetype": "text/x-python",
   "name": "python",
   "nbconvert_exporter": "python",
   "pygments_lexer": "ipython3",
   "version": "3.8.16"
  },
  "widgets": {
   "application/vnd.jupyter.widget-state+json": {
    "state": {},
    "version_major": 2,
    "version_minor": 0
   }
  }
 },
 "nbformat": 4,
 "nbformat_minor": 5
}
