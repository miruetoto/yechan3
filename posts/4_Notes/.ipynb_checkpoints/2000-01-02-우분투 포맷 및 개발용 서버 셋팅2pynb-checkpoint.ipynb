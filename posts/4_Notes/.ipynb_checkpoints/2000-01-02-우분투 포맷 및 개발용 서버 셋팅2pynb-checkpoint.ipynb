{
 "cells": [
  {
   "cell_type": "raw",
   "id": "117f9303-7cfc-4bc6-840c-b97e2d49781c",
   "metadata": {},
   "source": [
    "---\n",
    "title: \"**[Note]** 우분투 포맷 및 개발용 서버 셋팅2\"\n",
    "author: \"신록예찬\"\n",
    "date: \"01/02/2000\"\n",
    "---"
   ]
  },
  {
   "cell_type": "markdown",
   "id": "d1fcc705-7ed9-4ea0-8a07-fcfe55dd33fc",
   "metadata": {},
   "source": [
    "# About this doc"
   ]
  },
  {
   "cell_type": "markdown",
   "id": "0928ddc4-d9e1-40df-8718-884e50b940ee",
   "metadata": {},
   "source": [
    "`-` 우분투에서 여러가지 개발환경을 설정하는 방법을 포스팅 (시대가 너무 바뀌어서 새로정리)"
   ]
  },
  {
   "cell_type": "markdown",
   "id": "4c43dfc1",
   "metadata": {},
   "source": [
    "# 우분투설치 "
   ]
  },
  {
   "cell_type": "markdown",
   "id": "5e90c17a",
   "metadata": {},
   "source": [
    "`-` 22.04부터는 파티션 나누지 않고 그냥 설치해도 잘 되는것 같다. "
   ]
  },
  {
   "cell_type": "markdown",
   "id": "84515ddf-4e3c-4077-8a07-9fecb61e80ba",
   "metadata": {},
   "source": [
    "# 네트워크 설정"
   ]
  },
  {
   "cell_type": "markdown",
   "id": "d2aef512-a0c7-4d2b-bd5a-43e9aed2c798",
   "metadata": {},
   "source": [
    "`-` `?`표시있는 아이콘 $\\to$ Wired Connected $\\to$ Wired Settings $\\to$ Connection의 설정 $\\to$ IPv4 $\\to$ Manual $\\to$ Address, Netmask, Gateway, DNS 설정 $\\to$ 네트워크 토글 \n"
   ]
  },
  {
   "cell_type": "markdown",
   "id": "331c55d2-05e5-4ea9-8ef3-25d78a52fc33",
   "metadata": {},
   "source": [
    "# 그래픽카드 드라이버설치"
   ]
  },
  {
   "cell_type": "markdown",
   "id": "92d4f568-a147-4e10-82b0-ec62a6c0dc24",
   "metadata": {},
   "source": [
    "`-` 전체적인 내용은 [여기](https://gist.github.com/bendangnuksung/981408031699e0ddc50a6f6fdcf185c2)를 참고하자. \n",
    "\n",
    "`-` 준비작업 \n",
    "\n",
    "```default\n",
    "sudo apt update \n",
    "sudo apt install gcc\n",
    "sudo apt install build-essential\n",
    "```\n",
    "\n",
    "`-` 우선 `gedit`를 열고 아래를 복사해서 붙여넣는다. \n",
    "\n",
    "```default\n",
    "blacklist nouveau\n",
    "options nouveau modeset=0\n",
    "```\n",
    "\n",
    "파일이름을 `blacklist-nouveau.conf`로 `home`에 저장\n",
    "\n",
    "`-` 루트권한획득 \n",
    "\n",
    "```default\n",
    "sudo -i\n",
    "```\n",
    "아이디와 비밀번호를 입력하고 루트권한을 얻는다. \n",
    "\n",
    "`-` 아래를 입력한다. \n",
    "\n",
    "```default\n",
    "sudo cp /home/cgb2/blacklist-nouveau.conf /etc/modprobe.d\n",
    "sudo update-initramfs -u\n",
    "sudo reboot \n",
    "```\n",
    "\n",
    "`-` 그래픽카드 다운로드: 드라이버 설치파일을 다운받는다. [앤비디아공식홈페이지](https://www.geforce.com/drivers)에서 다운받자. OS를 리눅스 64-bit으로 선택하고 검색을 누르면 다운받아진다. \n",
    "\n",
    "`-` 그래픽키다 설치: 다운받은뒤에는 파일이 있는 폴더로 이동하여 \n",
    "\n",
    "```default\n",
    "chmod +x NVIDIA-Linux-x86_64-410.78.run\n",
    "```\n",
    "\n",
    "를 실행하자. 보통 `NVI`까지치고 적당히 `탭`을 누르면 알아서 뒷부분이 완성된다. 이 과정은 추후에 \n",
    "드라이버를 실행할수 있도록 권한을 풀어두는 것이다. 그리고 아래를 실행한다.\n",
    "\n",
    "```default\n",
    "sudo ./NVIDIA-Linux-x86_64-410.78.run\n",
    "```\n",
    "\n",
    "그 다음 드라이버가 잘 설치되었는지 확인한다. \n",
    "\n",
    "```default\n",
    "nvidia-smi\n",
    "```"
   ]
  },
  {
   "cell_type": "markdown",
   "id": "197a644b-317e-4a1d-b908-71c66fd74632",
   "metadata": {},
   "source": [
    "# ssh연결 "
   ]
  },
  {
   "cell_type": "markdown",
   "id": "f11fabd3-0e6b-43a9-8419-99ae9384b62d",
   "metadata": {},
   "source": [
    "`-` 처음에 ssh를 연결하기위해서는 연결**당하는** 컴퓨터에 가서 아래를 실행해야 한다. \n",
    "```\n",
    "sudo apt install openssh-server\n",
    "```"
   ]
  },
  {
   "cell_type": "markdown",
   "id": "b0784c1c-49c7-473a-ae34-cb4dccb9af75",
   "metadata": {},
   "source": [
    "***22번포트 우회하기***"
   ]
  },
  {
   "cell_type": "markdown",
   "id": "e73e11b1-4657-4572-a42d-b4147cbb9515",
   "metadata": {},
   "source": [
    "`-` step1: `/etc/ssh/sshd_config` 파일을 연다. \n",
    "\n",
    "```default\n",
    "sudo vi /etc/ssh/sshd_config \n",
    "```"
   ]
  },
  {
   "cell_type": "markdown",
   "id": "21d7f60a-37da-4fc6-bfc4-c9b1c0a7b58e",
   "metadata": {},
   "source": [
    "`-` step2: Port 22 라고 된 부분의 주석을 풀고 원하는 포트번호 설정 \n",
    "\n",
    "```default\n",
    "...\n",
    "\n",
    "#Port 22\n",
    "#AddressFamily any\n",
    "#ListenAddress 0.0.0.0\n",
    "#ListenAddress ::\n",
    "\n",
    "...\n",
    "```\n",
    "\n",
    "\n"
   ]
  },
  {
   "cell_type": "markdown",
   "id": "7fa0f940-68f3-44d6-b43b-2d479e4290d4",
   "metadata": {},
   "source": [
    "`-` step3: 수정내용을 적용 \n",
    "\n",
    "```default\n",
    "sudo systemctl restart ssh.service\n",
    "```"
   ]
  },
  {
   "cell_type": "markdown",
   "id": "313b5b8d-6170-4da6-b5c4-7e0050446eb4",
   "metadata": {},
   "source": [
    "`-` step4: 수정한 포트로 ssh접속 "
   ]
  },
  {
   "cell_type": "markdown",
   "id": "7712099e",
   "metadata": {},
   "source": [
    "# 아나콘다"
   ]
  },
  {
   "cell_type": "markdown",
   "id": "683219ef",
   "metadata": {},
   "source": [
    "`-` (아나콘다 설치) 아나콘다를 다운받은 폴더로 가서 아래와 같이 실행한다. \n",
    "\n",
    "```default\n",
    "bash Anaconda3-2019.03-Linux-x86_64.sh\n",
    "```\n",
    "\n",
    "대충 `bash Ana` 정도까지만 치고 `tab`을 누르면 알아서 완성된다. \n"
   ]
  },
  {
   "cell_type": "markdown",
   "id": "9bf2d280-f938-4e62-9c74-6cbb8c7b64e2",
   "metadata": {},
   "source": [
    "# 개발환경"
   ]
  },
  {
   "cell_type": "markdown",
   "id": "96c2b16f",
   "metadata": {},
   "source": [
    "## `1`. R+Python 사용가능한 개발환경 "
   ]
  },
  {
   "cell_type": "markdown",
   "id": "a04dff17",
   "metadata": {},
   "source": [
    "\n",
    "`-` 아래를 실행\n",
    "\n",
    "```default\n",
    "(base) conda create -n rpy \n",
    "(base) conda activate rpy\n",
    "(rpy) conda install -c conda-forge r-essentials\n",
    "(rpy) conda install -c conda-forge plotly\n",
    "(rpy) pip install ryp2 \n",
    "```"
   ]
  },
  {
   "cell_type": "markdown",
   "id": "51213d63",
   "metadata": {},
   "source": [
    "`-` 여기에서 `conda install -c conda-forge r-essentials`로 인하여 R, Python, Jupyter 가 모두 최신버전으로 설치된다. "
   ]
  },
  {
   "cell_type": "markdown",
   "id": "e938ba05",
   "metadata": {},
   "source": [
    "`-` 또한 R에는 이미 `tidyverse`, `IRkernel` 등의 패키지가 기본으로 깔려있다. "
   ]
  },
  {
   "cell_type": "markdown",
   "id": "4e978679-f99b-42f2-a390-7ab9c0ee932f",
   "metadata": {},
   "source": [
    "## `2`. PyTorch를 사용이 가능한 개발환경"
   ]
  },
  {
   "attachments": {},
   "cell_type": "markdown",
   "id": "131975a9-cccd-4323-ab79-d197dcc4c1e7",
   "metadata": {},
   "source": [
    "\n",
    "`-` 아래를 실행\n",
    "\n",
    "```default\n",
    "(base) conda create -n torch\n",
    "(base) conda activate torch\n",
    "(torch) conda install pytorch torchvision torchaudio pytorch-cuda=11.8 -c pytorch -c nvidia\n",
    "(torch) conda install -c conda-forge notebook \n",
    "(torch) conda install -c conda-forge plotly \n",
    "(torch) conda install pyg -c pyg \n",
    "(torch) pip install torch-geometric-temporal\n",
    "(torch) conda install -c pytorch -c conda-forge ctgan\n",
    "(torch) pip install gymnasium \n",
    "(torch) pip install gymnasium[box2d]\n",
    "```\n",
    "\n",
    "**refs**\n",
    "- PyTorch: <https://pytorch.org/get-started/locally/>\n",
    "- PyG: <https://pytorch-geometric.readthedocs.io/en/latest/install/installation.html>\n",
    "- PyTorch Geometric Temporal^[이 패키지는 꼭 PyG 이후에 설치할것]: <https://pytorch-geometric-temporal.readthedocs.io/en/latest/notes/installation.html>\n",
    "- CTGAN: <https://github.com/sdv-dev/CTGAN>\n",
    "- Gymnasium: <https://gymnasium.farama.org/index.html>^[설치방법은 따로 없음..]"
   ]
  },
  {
   "cell_type": "markdown",
   "id": "163247c4",
   "metadata": {},
   "source": [
    "# 주피터 원격제어 설정"
   ]
  },
  {
   "attachments": {},
   "cell_type": "markdown",
   "id": "30bb13a9-aadd-419f-8317-6bae629d0dbf",
   "metadata": {},
   "source": [
    "`-` 설정파일 생성 \n",
    "\n",
    "```default\n",
    "(rpy) jupyter notebook --generate-config\n",
    "```"
   ]
  },
  {
   "cell_type": "markdown",
   "id": "10203985",
   "metadata": {},
   "source": [
    "`-` 패스워드 설정 \n",
    "\n",
    "```default\n",
    "(rpy) jupyter notebook password\n",
    "## 패스워드 치고\n",
    "## 확인해야함\n",
    "```"
   ]
  },
  {
   "cell_type": "markdown",
   "id": "cc956397",
   "metadata": {},
   "source": [
    "`-` 설정파일을 열고\n",
    "\n",
    "```default\n",
    "nano /home/cgb2/.jupyter/jupyter_notebook_config.py\n",
    "```\n",
    "\n",
    "아래의 내용을 수정한다.\n",
    "\n",
    "```default\n",
    "c.ServerApp.ip = '192.168.0.4'\n",
    "c.ServerApp.port = 1306\n",
    "c.ServerApp.open_browser=False \n",
    "c.ExtensionApp.open_browser=False\n",
    "c.ServerApp.allow_origin = '*'\n",
    "c.ServerApp.allow_remote_access = True\n",
    "```"
   ]
  },
  {
   "cell_type": "markdown",
   "id": "ad7d48a1-0144-4860-8aed-baa767aabfac",
   "metadata": {},
   "source": [
    "# 설치하면 좋은것들 "
   ]
  },
  {
   "cell_type": "markdown",
   "id": "d1029b8c-8379-432e-b312-8004b5683aee",
   "metadata": {},
   "source": [
    "`-` 데이터과학을 위한 패키지들\n",
    "\n",
    "```default\n",
    "pip install plotnine\n",
    "pip install seaborn\n",
    "pip install opencv-python\n",
    "pip install folium\n",
    "pip install pandas_datareader\n",
    "```"
   ]
  },
  {
   "cell_type": "markdown",
   "id": "58983c16-6f21-40ee-8b79-c3ded63cf665",
   "metadata": {},
   "source": [
    "`-` 아래를 설치하면 좋음 \n",
    "\n",
    "```default\n",
    "sudo apt install mc \n",
    "```"
   ]
  },
  {
   "cell_type": "markdown",
   "id": "69a45346",
   "metadata": {},
   "source": [
    "# Appendix"
   ]
  },
  {
   "cell_type": "markdown",
   "id": "3443b8e0-72a4-41f1-93e8-4f82dd650e62",
   "metadata": {},
   "source": [
    "## R 삭제하는 방법 "
   ]
  },
  {
   "cell_type": "markdown",
   "id": "95cc1899-02cc-4997-ab64-0eadb24c117e",
   "metadata": {},
   "source": [
    "`-` R 삭제 \n",
    "\n",
    "```default\n",
    "conda remove r-base -y \n",
    "sudo apt-get remove r-base-core \n",
    "sudo apt purge r-base* r-recommended r-cran-*\n",
    "sudo apt autoremove\n",
    "```"
   ]
  },
  {
   "cell_type": "markdown",
   "id": "0fab9a4d",
   "metadata": {},
   "source": [
    "## 우분투를 주컴퓨터로 사용할 경우 한글설정"
   ]
  },
  {
   "cell_type": "markdown",
   "id": "509c8e91",
   "metadata": {},
   "source": [
    "`-` 아래와 같이 커맨드에 친다. \n",
    "\n",
    "```default\n",
    "ibus-setup\n",
    "```\n",
    "\n",
    "이걸 치면 `IBus Preferences` 라는 창이 나오는데 여기에서 (1) `Input Method` 탭 클릭 (2) `Add` 버튼 클릭 (3) `Korean` 선택 (4) `Hangul` 선택을 한다. \n",
    "\n",
    "`-` 위의 단계에서 `Korean`이 안보이면 `Language Support`로 가서 한국어팩을 설치하고 리부팅 하면 된다. (보통 실행하자마자 알아서 설치되더라.. 설치가 안되면 `Install / Remove Languages...` 이라는 탭을 클릭해서 설치하자) 리부팅을 꼭 해야한다는 것에 주의하자. \n",
    "\n",
    "`-` 이제 `Region & Language`로 가서 설정하면 된다. "
   ]
  },
  {
   "cell_type": "markdown",
   "id": "683fa773",
   "metadata": {},
   "source": [
    "## sublime text and TeX"
   ]
  },
  {
   "cell_type": "markdown",
   "id": "c3b8bd48",
   "metadata": {},
   "source": [
    "`-` 'Ubuntu Software'에 가서 'sublime Text'를 치면 다운받을 수 있다. 다운받은뒤에 'file' -> 'open folder'를 활용하여 깃허브의 로칼저장소를 열어두면 편리하다. \n",
    "\n",
    "`-` 아래를 실행하여 TeX을 깐다. \n",
    "```default\n",
    "sudo apt install texlive-full\n",
    "```\n",
    "\n",
    "`-` 이제 sublime과 latex을 연결하여보자. [여기](https://latextools.readthedocs.io/en/latest/install/#requirements-and-setup)를 참고하자. (1) sublime을 키고 '컨트롤+쉬프트+p'를 눌러 'Install Package Control' 선택 (2) 다시 '컨트롤+쉬프트+p' 를 눌러 'Package Control: Install Package'를 실행 (3) 그러면 바로 검색창이 나오는데 거기서 'LaTeXTools'를 입력해서 실행 (4) 다시 '컨트롤+쉬프트+p'를 누르고 'LaTeXTools: Check system' 선택. 모두 'available'이 나오면 잘 설치된 것이다. \n",
    "\n",
    "`-` `*.tex`파일을 열고 '컨트롤+b'를 누르자. 처음이면 어떤 메뉴들이 보일텐데 그냥 'Latex'을 선택하자. 그러면 코딩결과가 pdf로 나온다. \n",
    "\n",
    "`-` (수식미리보기) 'Perferences' > 'Packages Setting' > 'LaTeXTools' > 'Settings-User'를 선택한다. '93번째라인'에 'preview_math_mode'를 \"all\"로 바꾼다. 그러면 수식들이 미리 출력된다. 그외에도 자유롭게 셋팅을 조정할 수 있다. 원래셋팅은  'Perferences' > 'Packages Setting' > 'LaTeXTools' > 'Settings-Defaults' 에 있다. "
   ]
  },
  {
   "cell_type": "markdown",
   "id": "99dc4e66-7ee5-4fc1-9d21-b1079186d9e5",
   "metadata": {},
   "source": [
    "## 터미널 예쁘게 만들기 "
   ]
  },
  {
   "cell_type": "markdown",
   "id": "296f46ba-f08a-43cd-abd8-d6439eeb3f0a",
   "metadata": {},
   "source": [
    "`-` zsh 설치 + oh my zsh 설치 \n",
    "```default\n",
    "sudo install zsh \n",
    "sh -c \"$(curl -fsSL https://raw.githubusercontent.com/robbyrussell/oh-my-zsh/master/tools/install.sh)\"\n",
    "```\n",
    "\n",
    "`-` 테마변경 \n",
    "\n",
    "(1) .zshrc 파일 열기 \n",
    "\n",
    "```default\n",
    "nano ~/.zshrc \n",
    "```\n",
    "\n",
    "(2) 아래의 내용 수정 \n",
    "\n",
    "```default\n",
    "...\n",
    "ZSH_THEME=\"agnoster\"\n",
    "...\n",
    "```\n",
    "\n",
    "`-` 색상변경\n",
    "\n",
    "(1) 아래의 파일 열기 \n",
    "\n",
    "```default\n",
    "cd ~/.oh-my-zsh/themes/\n",
    "nano agnoster.zsh-theme  \n",
    "```\n",
    "\n",
    "(2) 내용수정 \n",
    "\n",
    "```default\n",
    "...\n",
    "prompt_dir() {\n",
    "  prompt_segment 39d $CURRENT_FG '%~'\n",
    "}\n",
    "...\n",
    "```"
   ]
  }
 ],
 "metadata": {
  "kernelspec": {
   "display_name": "Python 3 (ipykernel)",
   "language": "python",
   "name": "python3"
  },
  "language_info": {
   "codemirror_mode": {
    "name": "ipython",
    "version": 3
   },
   "file_extension": ".py",
   "mimetype": "text/x-python",
   "name": "python",
   "nbconvert_exporter": "python",
   "pygments_lexer": "ipython3",
   "version": "3.11.4"
  },
  "widgets": {
   "application/vnd.jupyter.widget-state+json": {
    "state": {},
    "version_major": 2,
    "version_minor": 0
   }
  }
 },
 "nbformat": 4,
 "nbformat_minor": 5
}
