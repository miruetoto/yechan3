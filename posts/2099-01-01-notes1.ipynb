{
 "cells": [
  {
   "cell_type": "raw",
   "id": "d5d6e3e2-f746-460f-97ee-e03221cb6241",
   "metadata": {},
   "source": [
    "---\n",
    "title: \"연습장1\"\n",
    "author: \"최규빈\"\n",
    "date: \"01/01/2099\"\n",
    "---"
   ]
  }
 ],
 "metadata": {
  "kernelspec": {
   "display_name": "Python 3",
   "language": "python",
   "name": "python3"
  },
  "language_info": {
   "codemirror_mode": {
    "name": "ipython",
    "version": 3
   },
   "file_extension": ".py",
   "mimetype": "text/x-python",
   "name": "python",
   "nbconvert_exporter": "python",
   "pygments_lexer": "ipython3",
   "version": "3.8.16"
  }
 },
 "nbformat": 4,
 "nbformat_minor": 5
}
