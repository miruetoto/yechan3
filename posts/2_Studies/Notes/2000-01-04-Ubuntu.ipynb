{
 "cells": [
  {
   "cell_type": "raw",
   "id": "2d65d52e-0661-4268-be4c-0162cb7de7e1",
   "metadata": {},
   "source": [
    "---\n",
    "title: \"우분투\"\n",
    "author: \"신록예찬\"\n",
    "date: \"01/04/2000\"\n",
    "---"
   ]
  },
  {
   "cell_type": "markdown",
   "id": "56d64377",
   "metadata": {},
   "source": [
    "# 날짜, 달력 "
   ]
  },
  {
   "cell_type": "markdown",
   "id": "d81e66ba",
   "metadata": {},
   "source": [
    "```default\n",
    "date \n",
    "cal \n",
    "```"
   ]
  },
  {
   "cell_type": "markdown",
   "id": "468f6249",
   "metadata": {},
   "source": [
    "# 파일시스템 "
   ]
  },
  {
   "cell_type": "markdown",
   "id": "cb68aba5",
   "metadata": {},
   "source": [
    "`-` 작업경로, 디렉토리 이동, 파일확인 \n",
    "\n",
    "```default\n",
    "pwd \n",
    "cd cgb2 \n",
    "cd ~cgb2 ## 어디서든 실행가능\n",
    "cd ## cgb2로 로그인 되어있을 경우 cd ~cgb2와 동일 \n",
    "cd ~cgb2/Dropbox\n",
    "ls \n",
    "ls -a \n",
    "ls -l # 자세히\n",
    "ls -lt # 자세히+파일수정시간에 따른 정렬\n",
    "ls -lt --reverse # 자세히+파일수정시간의 역순으로 정렬 \n",
    "```"
   ]
  },
  {
   "cell_type": "markdown",
   "id": "c65b623d",
   "metadata": {},
   "source": [
    "`-` 엄밀하게는 `cd cgb2` 는 `cd ./cgb2`로 써야한다. 하지만 `./`는 생략가능하므로 그냥 `cd cgb2`라고 쓰는것 "
   ]
  },
  {
   "cell_type": "markdown",
   "id": "7f2af424-3f90-4205-a4eb-fd2b09230a52",
   "metadata": {},
   "source": [
    "`-` 뭐하는 파일인지 알고싶다면? \n",
    "\n",
    "```default\n",
    "file picture.jpg\n",
    "```"
   ]
  },
  {
   "cell_type": "markdown",
   "id": "9cbfc036-24a5-4610-bd40-eb4c45845456",
   "metadata": {},
   "source": [
    "`-` 카피, 이동, 새폴더, 삭제, 바로가기 \n",
    "\n",
    "```default\n",
    "cp file1 file2 # file1을 복사하여 file2를 새로 만듬. file2가 이미 있다면 file1의 내용을 덮어씀 \n",
    "cp file1 file2 -i # 위와 동일한데 덮어쓰기 여부에 대한 확인메시지 생성\n",
    "cp file1 file2 --interactive # 위와 동일\n",
    "cp -r dir1 dir2 # dir1의 모든파일을 복사하여 dir2로 이동한뒤 붙어넣음. dir2가 없다면 새로 만듬. 기존의 dir2에 있던 파일이 삭제되는건 아님 \n",
    "cp --recursive dir1 dir2 # 위와 동일 \n",
    "mv # 카피사용방법과 동일 \n",
    "mkdir temp\n",
    "mkdir temp1, temp2, temp3 \n",
    "rm file1 # file1삭제 \n",
    "rm -r file1 dir1 # file1삭제 dir1폴더삭제 \n",
    "rm -rf file1 dir1 # 위와 동일한데 file1이나 dir1이 존재하지 않더라고 rm이 실행\n",
    "ln ## 바로 가기 만드는건데 쓸줄모름 배우기 싫어\n",
    "```"
   ]
  },
  {
   "cell_type": "markdown",
   "id": "dd7157f2-a281-4808-970b-f1bc69bb42c6",
   "metadata": {},
   "source": [
    "`-` -v(verbose)를 쓰면 친절한 느낌이 든다. \n",
    "\n",
    "```default\n",
    "(base) cgb2@cgb2-desktop:~/Dropbox$ cp *.txt temppp -v\n",
    "'colab.txt' -> 'temppp/colab.txt'\n",
    "```"
   ]
  },
  {
   "cell_type": "markdown",
   "id": "64b455c3-2816-466f-979b-a24cab481b99",
   "metadata": {},
   "source": [
    "# echo"
   ]
  },
  {
   "cell_type": "markdown",
   "id": "43f6b1b2-b021-41d3-b90c-cec356375938",
   "metadata": {},
   "source": [
    "`-` echo 기본기능\n",
    "\n",
    "```default\n",
    "cgb2@cgb2-desktop:~/Dropbox/temppp$ echo test\n",
    "test\n",
    "```"
   ]
  },
  {
   "cell_type": "markdown",
   "id": "1e15655c-5e41-421f-b541-6a418bdb9d35",
   "metadata": {},
   "source": [
    "`-` echo + `*` : `*`가 현재 디렉토리에 있는 모든 파일이름으로 확장된이후에 echo가 동작함. \n",
    "\n",
    "```default\n",
    "(base) cgb2@cgb2-desktop:~/Dropbox/temppp$ ls\n",
    "colab.txt  sample.txt\n",
    "(base) cgb2@cgb2-desktop:~/Dropbox/temppp$ echo *\n",
    "colab.txt sample.txt\n",
    "```"
   ]
  },
  {
   "cell_type": "markdown",
   "id": "ca8de25a-f2b3-4beb-853d-c05fbe213b75",
   "metadata": {},
   "source": [
    "`-` 응용 \n",
    "\n",
    "```default\n",
    "(base) cgb2@cgb2-desktop:~$ echo D*\n",
    "Desktop Documents Downloads Dropbox\n",
    "```"
   ]
  },
  {
   "cell_type": "markdown",
   "id": "0176f977-f6f3-419d-9dda-79494daa176e",
   "metadata": {},
   "source": [
    "`-` 응용2\n",
    "\n",
    "```default\n",
    "(base) cgb2@cgb2-desktop:~$ echo /usr/*\n",
    "/usr/bin /usr/games /usr/include /usr/lib /usr/lib32 /usr/lib64 /usr/libexec /usr/libx32 /usr/local /usr/sbin /usr/share /usr/src\n",
    "```"
   ]
  },
  {
   "cell_type": "markdown",
   "id": "12a16df2-ad63-4d3d-b271-7c6fab9f0630",
   "metadata": {},
   "source": [
    "`-` 응용3\n",
    "\n",
    "```default\n",
    "(base) cgb2@cgb2-desktop:~$ echo ~\n",
    "/home/cgb2\n",
    "```"
   ]
  },
  {
   "cell_type": "markdown",
   "id": "8222dd2e-7992-49fe-8afa-06d20f07610e",
   "metadata": {},
   "source": [
    "`-` 응용4\n",
    "\n",
    "```default\n",
    "(base) cgb2@cgb2-desktop:~/Dropbox$ echo $((2+2))\n",
    "4\n",
    "```"
   ]
  },
  {
   "cell_type": "markdown",
   "id": "81b73e07",
   "metadata": {},
   "source": [
    "# 기본디렉토리 설명 "
   ]
  },
  {
   "cell_type": "markdown",
   "id": "e2803293",
   "metadata": {},
   "source": [
    "`/bin` 시스템 부팅과 실행에 필요한 바이너리(프로그램)들을 포함"
   ]
  },
  {
   "cell_type": "markdown",
   "id": "401a3f7c",
   "metadata": {},
   "source": [
    "`/etc` 시스템 전반의 환경설정. 이 디렉터리의 모든 파일은 텍스트형식임. "
   ]
  },
  {
   "cell_type": "markdown",
   "id": "3237b4ad",
   "metadata": {},
   "source": [
    "- `/etc/password` 사용자 계정정보 "
   ]
  },
  {
   "cell_type": "markdown",
   "id": "b1cc4408",
   "metadata": {},
   "source": [
    "`/lib` 시스템 프로그램에서 사용하는 공유 라이브러리가 저장. 윈도우즈의 DLL과 비슷한 것. "
   ]
  },
  {
   "cell_type": "markdown",
   "id": "5d6daa0e",
   "metadata": {},
   "source": [
    "`/usr` 사용자가 사용하는 모든 프로그램과 지원파일들 (Program files + 프로그램들의 설정값) "
   ]
  },
  {
   "cell_type": "markdown",
   "id": "72341303",
   "metadata": {},
   "source": [
    "- `/usr/bin` 리눅스 배포판이 설치한 실행 프로그램들이 있다. (여기에 R이 깔린다!!)\n",
    "    - hp-align, hp-check, hp-config_usb-printer ... \n",
    "    - X11 \n",
    "    - vi \n",
    "    - gcc\n",
    "    - su, sudo \n",
    "    - sar\n",
    "    - ssh, ssh-agent, ssh-keygen, .... \n",
    "    - nvidia-smi \n",
    "\n",
    "- `/usr/lib` 여기에는 `/usr/bin`에 있는 프로그램들을 위한 공유라이브러리가 저장된다. (여기에 R folder가 있다)\n",
    "    - 여기에 R폴더가 있다. 그런데 R패키지가 여기에 깔리진 않음 \n",
    "\n",
    "- `/usr/local/bin`  소스코드로 컴파일된 파일, 보통 비어있음 \n",
    "\n",
    "- `/usr/local/lib/R/site-library` R패키지가 설치되어있음, 예를들면 tidyverse"
   ]
  },
  {
   "cell_type": "markdown",
   "id": "9644a253-1340-4a8c-ad4a-d61a3efe111d",
   "metadata": {
    "tags": []
   },
   "source": [
    "# vim"
   ]
  },
  {
   "cell_type": "markdown",
   "id": "d0c5a442-5cad-48a7-a620-8d999e25f38b",
   "metadata": {},
   "source": [
    "`-` 파일여는법/만드는법 (sudo는 읽기전용 파일을 만들수있음) \n",
    "\n",
    "```default\n",
    "sudo vim /etc/apt/sources.list\n",
    "```"
   ]
  },
  {
   "cell_type": "markdown",
   "id": "ded97a7a-f49c-467c-9191-41843625bdcb",
   "metadata": {},
   "source": [
    "`-` 에디터에서 사용법\n",
    "\n",
    "```default\n",
    "i \n",
    "ESC \n",
    ":w \n",
    ":q\n",
    ":wq\n",
    "/keyword  \n",
    "dd # 현재행삭제 \n",
    "```"
   ]
  },
  {
   "cell_type": "markdown",
   "id": "301ef509-b0e0-4db6-ad34-b592a332771c",
   "metadata": {},
   "source": [
    "# wget "
   ]
  },
  {
   "cell_type": "markdown",
   "id": "6acb4881-b528-4120-a9eb-df36807ce2f9",
   "metadata": {},
   "source": [
    "```default\n",
    "wget https://download2.rstudio.org/server/bionic/amd64/rstudio-server-1.2.5033-amd64.deb\n",
    "```"
   ]
  },
  {
   "cell_type": "markdown",
   "id": "b39bb2aa-9ec6-4420-b881-adb3bdcb8735",
   "metadata": {},
   "source": [
    "# gdebi"
   ]
  },
  {
   "cell_type": "markdown",
   "id": "45375713-4489-45b2-8857-a5c39773c708",
   "metadata": {},
   "source": [
    "```default\n",
    "sudo gdebi rstudio-server-1.2.5033-amd64.deb\n",
    "```"
   ]
  },
  {
   "cell_type": "markdown",
   "id": "54c5a636-8b05-4672-9394-125da7624ce5",
   "metadata": {},
   "source": [
    "# apt "
   ]
  },
  {
   "cell_type": "markdown",
   "id": "adf77dab-9c52-473f-923f-1229efa8c6ed",
   "metadata": {},
   "source": [
    "```default\n",
    "sudo apt-get remove r-base-core\n",
    "sudo apt purge r-base* r-recommended r-cran-*\n",
    "sudo apt autoremove\n",
    "sudo apt list \n",
    "sudo apt update\n",
    "sudo apt install openssh-server \n",
    "sudo apt-get install gdebi-core\n",
    "```"
   ]
  },
  {
   "cell_type": "markdown",
   "id": "0986de36-7693-4962-9375-f3979f8521e4",
   "metadata": {},
   "source": [
    "`-` sudo apt-get과 sudo apt 차이? 별 차이 없는듯\n",
    "- https://askubuntu.com/questions/445384/what-is-the-difference-between-apt-and-apt-get\n",
    "\n",
    "> They are very similar command line tools available in Trusty (14.04) and later. apt-get and apt-cache's most commonly used commands are available in apt. apt-get may be considered as lower-level and \"back-end\", and support other APT-based tools. apt is designed for end-users (human) and its output may be changed between versions. "
   ]
  },
  {
   "cell_type": "markdown",
   "id": "8e4ff1ad-0dc1-4378-a378-8d798865bbfc",
   "metadata": {},
   "source": [
    "# conda \n"
   ]
  },
  {
   "cell_type": "markdown",
   "id": "eb99e9e5-64e7-481f-99f7-93eb7b0bc59b",
   "metadata": {},
   "source": [
    "```default\n",
    "conda \n",
    "conda env -h \n",
    "conda install -h \n",
    "conda remove -h  \n",
    "conda update -h \n",
    "conda env list\n",
    "conda create -n py38r40 python=3.8\n",
    "conda env remove -n py38r40 \n",
    "conda install -c conda-forge jupyterlab \n",
    "conda remove jupyterlab \n",
    "conda remove r-base -y \n",
    "conda remove -n py38r40 jupyterlab \n",
    "conda update scipy\n",
    "conda update -n py38r40 scipy\n",
    "conda list \n",
    "```\n"
   ]
  },
  {
   "cell_type": "markdown",
   "id": "b3f53879-0cce-4c64-b4a3-2d17d9f5fac3",
   "metadata": {},
   "source": [
    "# pip"
   ]
  },
  {
   "cell_type": "markdown",
   "id": "5708b49c-4a52-4565-8e6b-10749fcafb90",
   "metadata": {},
   "source": [
    "```default\n",
    "pip\n",
    "pip list\n",
    "pip list > list.txt\n",
    "pip freeze # 좀 더 자세히 나온다 \n",
    "pip freeze > list.txt \n",
    "pip show matplotlib # 설치된패키지 정보가 나옴. 좋음.\n",
    "pip install rpy2\n",
    "pip install -r list.txt \n",
    "pip install dash==1.13.3\n",
    "pip install jupyterlab \"ipywidgets>=7.5\"\n",
    "pip install -U numpy\n",
    "pip install --upgrade pip\n",
    "pip install --upgrade tensorflow\n",
    "pip uninstall matplotlib\n",
    "```"
   ]
  },
  {
   "cell_type": "markdown",
   "id": "2a42c480-4184-49fc-bfe8-378b066e0b6d",
   "metadata": {},
   "source": [
    "# 리소스 모니터링 "
   ]
  },
  {
   "cell_type": "markdown",
   "id": "76a66ad2-d6a8-459c-ba9d-ea3396982d86",
   "metadata": {},
   "source": [
    "```default\n",
    "df # disk \n",
    "free # memory \n",
    "nvidia-smi \n",
    "watch -n 5 nvidia-smi -a --display=utilization\n",
    "top\n",
    "sar -1 r \n"
   ]
  },
  {
   "cell_type": "markdown",
   "id": "0e367c0c-00c5-4c93-9f01-01acb1473829",
   "metadata": {},
   "source": [
    "# 나노에디터"
   ]
  },
  {
   "cell_type": "markdown",
   "id": "f21d51db-91c3-4989-b8f9-a9333875d409",
   "metadata": {},
   "source": [
    "`-` 파일열기\n",
    "\n",
    "```default\n",
    "sudo nano /etc/apt/sources.list\n",
    "```\n",
    "\n",
    "`-` 읽기전용 파일만들기: 파일을 만드는것도 파일 여는방법과 동일함. 즉 아래와 같이 하면 `exam.txt`가 현재 폴더에 있다면 `열고`아니면 `(읽기전용으로) 만든다.`\n",
    "\n",
    "```default\n",
    "sudo nano /home/cgb/Desktop/exam.txt\n",
    "```\n",
    "\n",
    "`-` 읽기전용이 아닌 일반파일 만들기 \n",
    "\n",
    "```default\n",
    "nano /home/cgb/Desktop/exam.txt\n",
    "```\n",
    "\n",
    "`-` 나노에디터종료: `컨트롤+X`\n",
    "\n",
    "`-` 파일저장: `컨트롤+O`\n",
    "\n",
    "`-` 찾기: `컨트롤+W`\n",
    "\n",
    "`-` 되돌리기: `알트+U` "
   ]
  },
  {
   "cell_type": "markdown",
   "id": "256b6980-440b-4a7d-8346-23654dea44e1",
   "metadata": {},
   "source": [
    "# ssh "
   ]
  },
  {
   "cell_type": "markdown",
   "id": "f8fdd383-23c6-42e2-a144-be110c1417b6",
   "metadata": {},
   "source": [
    "`-` 처음에 ssh를 연결하기위해서는 연결**당하는** 컴퓨터에 가서 아래를 실행해야 한다. \n",
    "\n",
    "```default\n",
    "sudo apt install openssh-server\n",
    "```"
   ]
  },
  {
   "cell_type": "markdown",
   "id": "7a0cb63e-667b-4b3b-8634-b638bef2f5ba",
   "metadata": {},
   "source": [
    "#### 22번포트 우회하기"
   ]
  },
  {
   "cell_type": "markdown",
   "id": "7aeb3083-55f1-45b4-983a-97d30d6dd1ca",
   "metadata": {},
   "source": [
    "`-` step1: `/etc/ssh/sshd_config` 파일을 연다. \n",
    "\n",
    "```default\n",
    "sudo vi /etc/ssh/sshd_config \n",
    "```"
   ]
  },
  {
   "cell_type": "markdown",
   "id": "259c87b3-aed3-4799-8808-1d5d1e85c943",
   "metadata": {},
   "source": [
    "`-` step2: Port 22 라고 된 부분의 주석을 풀고 원하는 포트번호 설정 \n",
    "\n",
    "```default\n",
    "...\n",
    "\n",
    "#Port 22\n",
    "#AddressFamily any\n",
    "#ListenAddress 0.0.0.0\n",
    "#ListenAddress ::\n",
    "\n",
    "...\n",
    "```"
   ]
  },
  {
   "cell_type": "markdown",
   "id": "f58fd858-d592-463d-bccf-d7897fe798f2",
   "metadata": {},
   "source": [
    "`-` step3: 수정내용을 적용 \n",
    "\n",
    "```default\n",
    "sudo systemctl restart ssh.service\n",
    "```"
   ]
  },
  {
   "cell_type": "markdown",
   "id": "88c447ba-abfb-4f26-8dfc-81f618dd3b99",
   "metadata": {},
   "source": [
    "`-` step4: 수정한 포트로 ssh접속 "
   ]
  },
  {
   "cell_type": "markdown",
   "id": "e8d107b0-b67f-4146-8126-69fc7d552bb0",
   "metadata": {},
   "source": [
    "# sublime"
   ]
  },
  {
   "cell_type": "markdown",
   "id": "f26d0c6d-7aba-4b26-8424-e03e5f9fd0ea",
   "metadata": {},
   "source": [
    "`-` 찾아바꾸기: 컨트롤+h\n",
    "\n",
    "`-` 화면분할: 옵션+커맨드+2,3,4 ..."
   ]
  },
  {
   "cell_type": "markdown",
   "id": "1dfb1b7b-8fc0-491d-8e34-cb108e562e95",
   "metadata": {},
   "source": [
    "# 파일생성, 파일삭제 "
   ]
  },
  {
   "cell_type": "markdown",
   "id": "1523260c-35d2-47f0-b994-e0f110652bc2",
   "metadata": {},
   "source": [
    "```default\n",
    "cat > sample.txt \n",
    "rm -r folderName \n",
    "rm -rf .local/share/Trash/files/* # 휴지통삭제 \n",
    "```"
   ]
  },
  {
   "cell_type": "markdown",
   "id": "be3f9c04-77dc-4ed7-b068-d31358304569",
   "metadata": {},
   "source": [
    "# deb "
   ]
  },
  {
   "cell_type": "markdown",
   "id": "bc3ae014-4968-4073-9e30-1c87db26a93a",
   "metadata": {},
   "source": [
    "```default\n",
    "dpkg -i quarto-1.2.335-linux-amd64.deb # 설치\n",
    "dpkg -r quarto # 삭제 \n",
    "```"
   ]
  }
 ],
 "metadata": {
  "kernelspec": {
   "display_name": "Python 3",
   "language": "python",
   "name": "python3"
  },
  "language_info": {
   "codemirror_mode": {
    "name": "ipython",
    "version": 3
   },
   "file_extension": ".py",
   "mimetype": "text/x-python",
   "name": "python",
   "nbconvert_exporter": "python",
   "pygments_lexer": "ipython3",
   "version": "3.7.15"
  },
  "widgets": {
   "application/vnd.jupyter.widget-state+json": {
    "state": {},
    "version_major": 2,
    "version_minor": 0
   }
  }
 },
 "nbformat": 4,
 "nbformat_minor": 5
}
