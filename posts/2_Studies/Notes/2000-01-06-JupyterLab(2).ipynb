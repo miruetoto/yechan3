{
 "cells": [
  {
   "cell_type": "raw",
   "id": "9022e902-0bc8-4b6a-ab52-c9623ff27a4a",
   "metadata": {},
   "source": [
    "---\n",
    "title: \"주피터랩: 설정 및 몇가지 팁\"\n",
    "author: \"신록예찬\"\n",
    "date: \"01/06/2000\"\n",
    "---"
   ]
  },
  {
   "cell_type": "markdown",
   "id": "5970ecbe-4d03-48da-a4c0-b801ecb86bbc",
   "metadata": {},
   "source": [
    "# 주피터에 R커널을 연결할 경우 그림크기 조정 "
   ]
  },
  {
   "cell_type": "markdown",
   "id": "9ad78b3b-a533-41ee-8b22-c66081adec06",
   "metadata": {},
   "source": [
    "```default\n",
    "options(repr.plot.width=10, repr.plot.height=3,repr.plot.res=300)\n",
    "```"
   ]
  },
  {
   "cell_type": "markdown",
   "id": "aa667e0d-1a93-4e1f-8fe1-555761fa6f68",
   "metadata": {},
   "source": [
    "# 깃허브에서 `*.py`파일 불러오기"
   ]
  },
  {
   "cell_type": "markdown",
   "id": "d39b0551-e286-4630-806f-465cba0a0fd2",
   "metadata": {},
   "source": [
    "```python\n",
    "import requests\n",
    "exec(requests.get('http://miruetoto.github.io/my_code/datahandling.py').text)\n",
    "```"
   ]
  },
  {
   "cell_type": "markdown",
   "id": "ecfd4f4a-04ad-42a1-b600-e9a1f9aea797",
   "metadata": {},
   "source": [
    "# rpy2 magic "
   ]
  },
  {
   "cell_type": "markdown",
   "id": "dd331897-0900-423f-abfb-90ef7a2dffc7",
   "metadata": {},
   "source": [
    "```python\n",
    "import rpy2\n",
    "%load_ext rpy2.ipython\n",
    "```"
   ]
  },
  {
   "cell_type": "markdown",
   "id": "8163cf60-cc24-41b6-9c8b-0fd3dc1dc9d4",
   "metadata": {},
   "source": [
    "# 깃허브에서 `*.R`파일 불러오기 "
   ]
  },
  {
   "cell_type": "markdown",
   "id": "9fb3b1e6-2bb6-4a50-bc1e-f57afc0f8505",
   "metadata": {},
   "source": [
    "```python\n",
    "import rpy2\n",
    "%load_ext rpy2.ipython\n",
    "%R library(devtools)\n",
    "%R source_url(\"http://miruetoto.github.io/my_code/datahandling.r\")\n",
    "```"
   ]
  },
  {
   "cell_type": "markdown",
   "id": "a6c060bd-563f-4255-a885-cad692a341fe",
   "metadata": {},
   "source": [
    "# matplotlib 그림크기조정"
   ]
  },
  {
   "cell_type": "markdown",
   "id": "c3d1ca0a-46aa-4073-882e-58377f182a2c",
   "metadata": {},
   "source": [
    "```python\n",
    "import matplotlib as mpl \n",
    "import matplotlib.pyplot as plt \n",
    "Ipython_default=plt.rcParams.copy() # save initial value \n",
    "from matplotlib import cycler\n",
    "plt.rc('figure',dpi=150) # default value 4 figure.dpi is 72.0 \n",
    "# plt.rcParams.update(Ipython_default) # load initial value \n",
    "```"
   ]
  },
  {
   "cell_type": "markdown",
   "id": "5e1f2fe5-d78a-4baa-bc40-1432520b12d9",
   "metadata": {},
   "source": [
    "# GPU 사용여부 체크"
   ]
  },
  {
   "cell_type": "markdown",
   "id": "ad2dc095-1af4-46e4-ab5c-11e46e51962a",
   "metadata": {},
   "source": [
    "```python\n",
    "from keras import backend as K\n",
    "print('GPU check 4 Keras: '+ str(K.tensorflow_backend._get_available_gpus()))\n",
    "import torch\n",
    "print('GPU check 4 Pytorch: '+ str(torch.cuda.get_device_name(0)))\n",
    "```"
   ]
  },
  {
   "cell_type": "markdown",
   "id": "98776678-f0d8-4623-a1a6-41a5a4ecfeb6",
   "metadata": {},
   "source": [
    "# 깃랩관련 (회사아니면 필요없음)"
   ]
  },
  {
   "cell_type": "markdown",
   "id": "f1bedd6e-bb2e-476b-b570-2c7752b40fbe",
   "metadata": {},
   "source": [
    "`-` ***load `*.py` from gitlab*** \n",
    "```python\n",
    "import gitlab\n",
    "gl = gitlab.Gitlab('http://10.178.145.54:9000', private_token='RkZz465zdyyEChamLKy8')\n",
    "gl.auth()\n",
    "project = gl.projects.get(2)\n",
    "\n",
    "# (1) load RF.py, RF_withGIT.py, RF_withR.py\n",
    "RF_py = project.files.get(file_path='modeling/RF.py', ref='fridge').decode()\n",
    "RF_GIT_py = project.files.get(file_path='utils/RF_withGIT.py', ref='fridge').decode()\n",
    "RF_R_py = project.files.get(file_path='utils/RF_withR.py', ref='fridge').decode()\n",
    "exec(str(RF_py, 'utf-8'))\n",
    "exec(str(RF_GIT_py, 'utf-8'))\n",
    "exec(str(RF_R_py, 'utf-8'))\n",
    "```\n",
    "\n",
    "`-` ***load `*.R` in gitlab***\n",
    "```python\n",
    "import gitlab\n",
    "gl = gitlab.Gitlab('http://10.178.145.54:9000', private_token='RkZz465zdyyEChamLKy8')\n",
    "gl.auth()\n",
    "project = gl.projects.get(2)\n",
    "RF_R_rcode = project.files.get(file_path='utils/RF_Rfunctions.r', ref='fridge').decode()\n",
    "# tricks for source('Rfunctions.r')\n",
    "file1 = open(\"RF_Rfunctions.r\",\"w\") \n",
    "file1.write(str(RF_R_rcode, 'utf-8'))\n",
    "file1.close() \n",
    "ro.r(\"source('RF_Rfunctions.r')\")\n",
    "import os\n",
    "os.remove('RF_Rfunctions.r')\n",
    "```"
   ]
  }
 ],
 "metadata": {
  "kernelspec": {
   "display_name": "Python 3 (ipykernel)",
   "language": "python",
   "name": "python3"
  },
  "language_info": {
   "codemirror_mode": {
    "name": "ipython",
    "version": 3
   },
   "file_extension": ".py",
   "mimetype": "text/x-python",
   "name": "python",
   "nbconvert_exporter": "python",
   "pygments_lexer": "ipython3",
   "version": "3.7.13"
  }
 },
 "nbformat": 4,
 "nbformat_minor": 5
}
