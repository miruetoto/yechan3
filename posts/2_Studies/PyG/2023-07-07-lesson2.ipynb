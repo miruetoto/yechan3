{
 "cells": [
  {
   "cell_type": "raw",
   "id": "922f078c-71b4-4f3a-b939-99a7701e63c6",
   "metadata": {},
   "source": [
    "---\n",
    "title: \"**[PyG]** lesson2: \"\n",
    "author: \"신록예찬\"\n",
    "date: \"07/07/2023\"\n",
    "---"
   ]
  },
  {
   "cell_type": "code",
   "execution_count": null,
   "id": "5f217afc-0e0a-46e1-9805-0240b00f9ac0",
   "metadata": {},
   "outputs": [],
   "source": []
  }
 ],
 "metadata": {
  "kernelspec": {
   "display_name": "Python 3",
   "language": "python",
   "name": "python3"
  },
  "language_info": {
   "codemirror_mode": {
    "name": "ipython",
    "version": 3
   },
   "file_extension": ".py",
   "mimetype": "text/x-python",
   "name": "python",
   "nbconvert_exporter": "python",
   "pygments_lexer": "ipython3",
   "version": "3.8.16"
  }
 },
 "nbformat": 4,
 "nbformat_minor": 5
}
