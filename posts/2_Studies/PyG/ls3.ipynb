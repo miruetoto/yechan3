{
 "cells": [
  {
   "cell_type": "raw",
   "id": "7ee38a0b-c5ef-42ee-b199-52f67c50a3b3",
   "metadata": {},
   "source": [
    "---\n",
    "title: \"**[PyG]** lesson3: 미니배치\"\n",
    "author: \"신록예찬\"\n",
    "date: \"07/12/2023\"\n",
    "---"
   ]
  },
  {
   "cell_type": "code",
   "execution_count": 10,
   "id": "1b62d08e-6907-4ff1-a228-00d41acc84f7",
   "metadata": {},
   "outputs": [],
   "source": [
    "import torch_geometric"
   ]
  },
  {
   "cell_type": "code",
   "execution_count": 15,
   "id": "5eb81744-e2ea-4e19-a78a-99dcd7c9b75e",
   "metadata": {},
   "outputs": [],
   "source": [
    "dataset = torch_geometric.datasets.TUDataset(\n",
    "    root='/tmp/ENZYMES', \n",
    "    name='ENZYMES'\n",
    ")"
   ]
  },
  {
   "cell_type": "markdown",
   "id": "687b926e-7baf-49fa-9961-318f6da7a3ad",
   "metadata": {},
   "source": [
    "> (ChatGPT) ENZYMES는 그래프 분류를 위한 벤치마크 데이터셋 중 하나입니다. 이 데이터셋은 600개의 그래프로 구성되어 있으며, 6개의 클래스로 분류됩니다. 각 그래프는 효소(enzyme) 분자의 구조를 나타내며, 그래프의 노드는 원자(atom)를 나타내고, 엣지(edge)는 원자 간의 연결을 나타냅니다. ENZYMES 데이터셋은 화학 및 생물 정보학 분야에서 그래프 분류 알고리즘의 성능을 평가하기 위해 사용될 수 있습니다. 그래프 분류 알고리즘은 주어진 그래프를 특정 클래스 레이블로 분류하는 작업을 수행하는데 사용됩니다. 예를 들어, ENZYMES 데이터셋의 그래프는 특정 효소 종류를 나타내며, 그래프 분류 알고리즘은 주어진 효소 그래프가 어떤 종류의 효소인지 예측할 수 있습니다. PyG를 사용하여 ENZYMES 데이터셋을 초기화하면 해당 데이터셋을 다운로드하고 필요한 전처리를 자동으로 수행할 수 있습니다. 그래프 데이터를 다루는 머신 러닝 모델을 구축하고 훈련시키기 위해 ENZYMES 데이터셋을 사용할 수 있습니다."
   ]
  },
  {
   "cell_type": "code",
   "execution_count": 16,
   "id": "a5eba901-77c8-4f10-9cdb-87f802469034",
   "metadata": {},
   "outputs": [
    {
     "data": {
      "text/plain": [
       "600"
      ]
     },
     "execution_count": 16,
     "metadata": {},
     "output_type": "execute_result"
    }
   ],
   "source": [
    "len(dataset) # 이 데이터셋에는 600개의 그래프가 있음"
   ]
  },
  {
   "cell_type": "code",
   "execution_count": 17,
   "id": "de1b3ff8-fa36-447b-b5d1-dc7841599574",
   "metadata": {},
   "outputs": [
    {
     "data": {
      "text/plain": [
       "6"
      ]
     },
     "execution_count": 17,
     "metadata": {},
     "output_type": "execute_result"
    }
   ],
   "source": [
    "dataset.num_classes # 6개의 클래스"
   ]
  },
  {
   "cell_type": "code",
   "execution_count": 18,
   "id": "19513ebe-0b66-4b72-8ce4-4fd5ce4dfd6e",
   "metadata": {},
   "outputs": [
    {
     "data": {
      "text/plain": [
       "3"
      ]
     },
     "execution_count": 18,
     "metadata": {},
     "output_type": "execute_result"
    }
   ],
   "source": [
    "dataset.num_node_features # 각 노드에는 3개의 피처가 있음"
   ]
  },
  {
   "cell_type": "markdown",
   "id": "22b84967-dd19-495f-9e62-3006644a1b22",
   "metadata": {},
   "source": [
    "`-` 600개의 그래프중 첫번째 그래프에 접근 "
   ]
  },
  {
   "cell_type": "code",
   "execution_count": 19,
   "id": "1eb891e1-c30b-4d9c-96c0-76ae4f6ba65b",
   "metadata": {},
   "outputs": [
    {
     "data": {
      "text/plain": [
       "Data(edge_index=[2, 168], x=[37, 3], y=[1])"
      ]
     },
     "execution_count": 19,
     "metadata": {},
     "output_type": "execute_result"
    }
   ],
   "source": [
    "dataset[0]"
   ]
  },
  {
   "cell_type": "markdown",
   "id": "b8e7ec7b-4bfd-4c42-a632-37bf749fa54a",
   "metadata": {},
   "source": [
    "- `x=[37, 3]`: $|{\\cal V}|=37$, $f \\in \\mathbb{R}^3$\n",
    "- `edge_index=[2, 168]`: $|{\\cal E}|=168$"
   ]
  },
  {
   "cell_type": "markdown",
   "id": "7059cecb-6202-4c9d-b28c-bff4bfcc7eda",
   "metadata": {},
   "source": [
    "`-` 600개중에서 두번째 그래프에 접근"
   ]
  },
  {
   "cell_type": "code",
   "execution_count": 20,
   "id": "1729539f-29c1-402b-a19c-759d98a5cf10",
   "metadata": {},
   "outputs": [
    {
     "data": {
      "text/plain": [
       "Data(edge_index=[2, 102], x=[23, 3], y=[1])"
      ]
     },
     "execution_count": 20,
     "metadata": {},
     "output_type": "execute_result"
    }
   ],
   "source": [
    "dataset[1]"
   ]
  },
  {
   "cell_type": "markdown",
   "id": "a63ba609-2da8-40b5-899f-25c0ad5a528d",
   "metadata": {},
   "source": [
    "- `x=[23, 3]`: $|{\\cal V}|=23$, $f \\in \\mathbb{R}^3$\n",
    "- `edge_index=[2, 102]`: $|{\\cal E}|=102$"
   ]
  },
  {
   "cell_type": "markdown",
   "id": "e3b3cc0c-41e3-47ad-90ac-1b02df1bc302",
   "metadata": {},
   "source": [
    "`-` dataset $\\to$ loader "
   ]
  },
  {
   "cell_type": "code",
   "execution_count": 21,
   "id": "3127d8a9-2950-40c1-a37e-302ae1d5f1df",
   "metadata": {},
   "outputs": [],
   "source": [
    "loader = torch_geometric.loader.DataLoader(dataset, batch_size=32, shuffle=True)"
   ]
  },
  {
   "cell_type": "code",
   "execution_count": 22,
   "id": "dc5d0882-578a-4621-99b1-717e8b76299f",
   "metadata": {},
   "outputs": [
    {
     "name": "stdout",
     "output_type": "stream",
     "text": [
      "0 DataBatch(edge_index=[2, 3596], x=[907, 3], y=[32], batch=[907], ptr=[33])\n",
      "1 DataBatch(edge_index=[2, 4512], x=[1209, 3], y=[32], batch=[1209], ptr=[33])\n",
      "2 DataBatch(edge_index=[2, 4034], x=[1094, 3], y=[32], batch=[1094], ptr=[33])\n",
      "3 DataBatch(edge_index=[2, 4028], x=[1027, 3], y=[32], batch=[1027], ptr=[33])\n",
      "4 DataBatch(edge_index=[2, 3640], x=[923, 3], y=[32], batch=[923], ptr=[33])\n",
      "5 DataBatch(edge_index=[2, 4320], x=[1186, 3], y=[32], batch=[1186], ptr=[33])\n",
      "6 DataBatch(edge_index=[2, 3960], x=[1120, 3], y=[32], batch=[1120], ptr=[33])\n",
      "7 DataBatch(edge_index=[2, 3984], x=[1048, 3], y=[32], batch=[1048], ptr=[33])\n",
      "8 DataBatch(edge_index=[2, 4642], x=[1268, 3], y=[32], batch=[1268], ptr=[33])\n",
      "9 DataBatch(edge_index=[2, 3780], x=[984, 3], y=[32], batch=[984], ptr=[33])\n",
      "10 DataBatch(edge_index=[2, 3916], x=[986, 3], y=[32], batch=[986], ptr=[33])\n",
      "11 DataBatch(edge_index=[2, 4128], x=[1083, 3], y=[32], batch=[1083], ptr=[33])\n",
      "12 DataBatch(edge_index=[2, 3342], x=[840, 3], y=[32], batch=[840], ptr=[33])\n",
      "13 DataBatch(edge_index=[2, 3836], x=[1000, 3], y=[32], batch=[1000], ptr=[33])\n",
      "14 DataBatch(edge_index=[2, 3986], x=[1018, 3], y=[32], batch=[1018], ptr=[33])\n",
      "15 DataBatch(edge_index=[2, 3688], x=[973, 3], y=[32], batch=[973], ptr=[33])\n",
      "16 DataBatch(edge_index=[2, 3564], x=[931, 3], y=[32], batch=[931], ptr=[33])\n",
      "17 DataBatch(edge_index=[2, 4468], x=[1172, 3], y=[32], batch=[1172], ptr=[33])\n",
      "18 DataBatch(edge_index=[2, 3140], x=[811, 3], y=[24], batch=[811], ptr=[25])\n"
     ]
    }
   ],
   "source": [
    "for i,batch in enumerate(loader):\n",
    "    print(i,batch)"
   ]
  },
  {
   "cell_type": "code",
   "execution_count": 44,
   "id": "dba08181-9fec-4fda-9351-ae5a0d90c08d",
   "metadata": {},
   "outputs": [
    {
     "data": {
      "text/plain": [
       "18.75"
      ]
     },
     "execution_count": 44,
     "metadata": {},
     "output_type": "execute_result"
    }
   ],
   "source": [
    "600/32 # 600개 그래프를 32개씩 쪼개서 배치를 만듬"
   ]
  },
  {
   "cell_type": "markdown",
   "id": "039ad357-200c-4fc6-9892-d7f46d7dfc06",
   "metadata": {},
   "source": [
    "`-` batch에 대하여 알아보자. "
   ]
  },
  {
   "cell_type": "code",
   "execution_count": 52,
   "id": "5ca4d42f-c2de-4d91-855a-25e7e585cff5",
   "metadata": {},
   "outputs": [
    {
     "data": {
      "text/plain": [
       "torch_geometric.data.batch.DataBatch"
      ]
     },
     "execution_count": 52,
     "metadata": {},
     "output_type": "execute_result"
    }
   ],
   "source": [
    "type(batch)"
   ]
  },
  {
   "cell_type": "code",
   "execution_count": 66,
   "id": "23f4eb0f-29b6-4461-8ce4-eacce8ddeddd",
   "metadata": {},
   "outputs": [
    {
     "data": {
      "text/plain": [
       "torch.Size([37, 21])"
      ]
     },
     "execution_count": 66,
     "metadata": {},
     "output_type": "execute_result"
    }
   ],
   "source": [
    "dataset[0].x.shape"
   ]
  }
 ],
 "metadata": {
  "kernelspec": {
   "display_name": "Python 3",
   "language": "python",
   "name": "python3"
  },
  "language_info": {
   "codemirror_mode": {
    "name": "ipython",
    "version": 3
   },
   "file_extension": ".py",
   "mimetype": "text/x-python",
   "name": "python",
   "nbconvert_exporter": "python",
   "pygments_lexer": "ipython3",
   "version": "3.8.16"
  }
 },
 "nbformat": 4,
 "nbformat_minor": 5
}
