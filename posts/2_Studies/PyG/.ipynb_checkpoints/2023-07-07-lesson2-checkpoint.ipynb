{
 "cells": [
  {
   "cell_type": "raw",
   "id": "922f078c-71b4-4f3a-b939-99a7701e63c6",
   "metadata": {},
   "source": [
    "---\n",
    "title: \"**[PyG]** lesson2: \"\n",
    "author: \"신록예찬\"\n",
    "date: \"07/07/2023\"\n",
    "notebook-view:\n",
    "  - notebook: penguins.ipynb\n",
    "    title: \"Plots and Computations\"\n",
    "    url: https://colab.research.google.com/drive/12GsIPQ644SI4vkEEHiZn-Qqfbr-bD1__\n",
    "---"
   ]
  },
  {
   "cell_type": "code",
   "execution_count": 29,
   "id": "9ca26af1-4295-47db-a7b4-6a84fb4486a4",
   "metadata": {},
   "outputs": [],
   "source": [
    "import torch_geometric"
   ]
  },
  {
   "cell_type": "code",
   "execution_count": 67,
   "id": "e56d3896-2dfc-4227-ad9d-51e4fc400a0f",
   "metadata": {},
   "outputs": [],
   "source": [
    "dataset = torch_geometric.datasets.TUDataset(\n",
    "    root='/tmp/ENZYMES', \n",
    "    name='ENZYMES', \n",
    "    use_node_attr=True\n",
    ")"
   ]
  },
  {
   "cell_type": "markdown",
   "id": "78720563-7fc5-44c2-b927-87b7a1f7bc99",
   "metadata": {},
   "source": [
    "> (ChatGPT) ENZYMES는 그래프 분류를 위한 벤치마크 데이터셋 중 하나입니다. 이 데이터셋은 600개의 그래프로 구성되어 있으며, 6개의 클래스로 분류됩니다. 각 그래프는 효소(enzyme) 분자의 구조를 나타내며, 그래프의 노드는 원자(atom)를 나타내고, 엣지(edge)는 원자 간의 연결을 나타냅니다. ENZYMES 데이터셋은 화학 및 생물 정보학 분야에서 그래프 분류 알고리즘의 성능을 평가하기 위해 사용될 수 있습니다. 그래프 분류 알고리즘은 주어진 그래프를 특정 클래스 레이블로 분류하는 작업을 수행하는데 사용됩니다. 예를 들어, ENZYMES 데이터셋의 그래프는 특정 효소 종류를 나타내며, 그래프 분류 알고리즘은 주어진 효소 그래프가 어떤 종류의 효소인지 예측할 수 있습니다. PyG를 사용하여 ENZYMES 데이터셋을 초기화하면 해당 데이터셋을 다운로드하고 필요한 전처리를 자동으로 수행할 수 있습니다. 그래프 데이터를 다루는 머신 러닝 모델을 구축하고 훈련시키기 위해 ENZYMES 데이터셋을 사용할 수 있습니다."
   ]
  },
  {
   "cell_type": "code",
   "execution_count": 31,
   "id": "fff84373-d2fa-4b40-b5bb-88c010d05ad0",
   "metadata": {},
   "outputs": [
    {
     "data": {
      "text/plain": [
       "600"
      ]
     },
     "execution_count": 31,
     "metadata": {},
     "output_type": "execute_result"
    }
   ],
   "source": [
    "len(dataset) # 이 데이터셋에는 600개의 그래프가 있음"
   ]
  },
  {
   "cell_type": "code",
   "execution_count": 32,
   "id": "58852bfb-c646-4e40-9d5e-21454cc17525",
   "metadata": {},
   "outputs": [
    {
     "data": {
      "text/plain": [
       "6"
      ]
     },
     "execution_count": 32,
     "metadata": {},
     "output_type": "execute_result"
    }
   ],
   "source": [
    "dataset.num_classes # 6개의 클래스"
   ]
  },
  {
   "cell_type": "code",
   "execution_count": 33,
   "id": "7f446ae3-92bc-4e22-92e8-2f0b40007aa6",
   "metadata": {},
   "outputs": [
    {
     "data": {
      "text/plain": [
       "21"
      ]
     },
     "execution_count": 33,
     "metadata": {},
     "output_type": "execute_result"
    }
   ],
   "source": [
    "dataset.num_node_features # 각 노드에는 3개의 피처가 있음"
   ]
  },
  {
   "cell_type": "markdown",
   "id": "3a6216b0-5fb7-4241-a611-e18c454b8f2a",
   "metadata": {},
   "source": [
    "`-` 600개의 그래프중 첫번째 그래프에 접근 "
   ]
  },
  {
   "cell_type": "code",
   "execution_count": 34,
   "id": "d904c281-c8f4-455b-8ca5-1e2507427bbe",
   "metadata": {},
   "outputs": [
    {
     "data": {
      "text/plain": [
       "Data(edge_index=[2, 168], x=[37, 21], y=[1])"
      ]
     },
     "execution_count": 34,
     "metadata": {},
     "output_type": "execute_result"
    }
   ],
   "source": [
    "dataset[0]"
   ]
  },
  {
   "cell_type": "markdown",
   "id": "56bdaea1-4b34-48bb-a17e-93e2644ffe21",
   "metadata": {},
   "source": [
    "- `x=[37, 3]`: $|{\\cal V}|=37$, $f \\in \\mathbb{R}^3$\n",
    "- `edge_index=[2, 168]`: $|{\\cal E}|=168$"
   ]
  },
  {
   "cell_type": "markdown",
   "id": "6d7480be-24d1-4436-99f0-4d5d4f55dae5",
   "metadata": {},
   "source": [
    "`-` dataset $\\to$ loader "
   ]
  },
  {
   "cell_type": "code",
   "execution_count": 35,
   "id": "8871901a-811b-4952-8bac-74f4bc584c12",
   "metadata": {},
   "outputs": [],
   "source": [
    "loader = torch_geometric.loader.DataLoader(dataset, batch_size=32, shuffle=True)"
   ]
  },
  {
   "cell_type": "code",
   "execution_count": 36,
   "id": "55914153-3e32-4317-bf97-dde6e3163d3b",
   "metadata": {},
   "outputs": [
    {
     "name": "stdout",
     "output_type": "stream",
     "text": [
      "0 DataBatch(edge_index=[2, 3638], x=[963, 21], y=[32], batch=[963], ptr=[33])\n",
      "1 DataBatch(edge_index=[2, 4268], x=[1073, 21], y=[32], batch=[1073], ptr=[33])\n",
      "2 DataBatch(edge_index=[2, 3848], x=[997, 21], y=[32], batch=[997], ptr=[33])\n",
      "3 DataBatch(edge_index=[2, 4378], x=[1096, 21], y=[32], batch=[1096], ptr=[33])\n",
      "4 DataBatch(edge_index=[2, 3998], x=[1045, 21], y=[32], batch=[1045], ptr=[33])\n",
      "5 DataBatch(edge_index=[2, 4006], x=[1043, 21], y=[32], batch=[1043], ptr=[33])\n",
      "6 DataBatch(edge_index=[2, 4412], x=[1154, 21], y=[32], batch=[1154], ptr=[33])\n",
      "7 DataBatch(edge_index=[2, 3998], x=[1043, 21], y=[32], batch=[1043], ptr=[33])\n",
      "8 DataBatch(edge_index=[2, 4388], x=[1205, 21], y=[32], batch=[1205], ptr=[33])\n",
      "9 DataBatch(edge_index=[2, 3606], x=[1054, 21], y=[32], batch=[1054], ptr=[33])\n",
      "10 DataBatch(edge_index=[2, 3848], x=[997, 21], y=[32], batch=[997], ptr=[33])\n",
      "11 DataBatch(edge_index=[2, 3736], x=[991, 21], y=[32], batch=[991], ptr=[33])\n",
      "12 DataBatch(edge_index=[2, 3908], x=[1017, 21], y=[32], batch=[1017], ptr=[33])\n",
      "13 DataBatch(edge_index=[2, 3902], x=[1040, 21], y=[32], batch=[1040], ptr=[33])\n",
      "14 DataBatch(edge_index=[2, 3956], x=[1026, 21], y=[32], batch=[1026], ptr=[33])\n",
      "15 DataBatch(edge_index=[2, 3872], x=[1010, 21], y=[32], batch=[1010], ptr=[33])\n",
      "16 DataBatch(edge_index=[2, 3892], x=[992, 21], y=[32], batch=[992], ptr=[33])\n",
      "17 DataBatch(edge_index=[2, 4048], x=[1064, 21], y=[32], batch=[1064], ptr=[33])\n",
      "18 DataBatch(edge_index=[2, 2862], x=[770, 21], y=[24], batch=[770], ptr=[25])\n"
     ]
    }
   ],
   "source": [
    "for i,batch in enumerate(loader):\n",
    "    print(i,batch)"
   ]
  },
  {
   "cell_type": "code",
   "execution_count": 44,
   "id": "8bc1af3c-d269-4715-bb59-f5bc91604201",
   "metadata": {},
   "outputs": [
    {
     "data": {
      "text/plain": [
       "18.75"
      ]
     },
     "execution_count": 44,
     "metadata": {},
     "output_type": "execute_result"
    }
   ],
   "source": [
    "600/32 # 600개 그래프를 32개씩 쪼개서 배치를 만듬"
   ]
  },
  {
   "cell_type": "markdown",
   "id": "72b17bb5-8fe3-44ef-8f8a-3c9a0db86e63",
   "metadata": {},
   "source": [
    "`-` batch에 대하여 알아보자. "
   ]
  },
  {
   "cell_type": "code",
   "execution_count": 52,
   "id": "41aae3a8-13bb-42d3-8759-db4747f7b0b7",
   "metadata": {},
   "outputs": [
    {
     "data": {
      "text/plain": [
       "torch_geometric.data.batch.DataBatch"
      ]
     },
     "execution_count": 52,
     "metadata": {},
     "output_type": "execute_result"
    }
   ],
   "source": [
    "type(batch)"
   ]
  },
  {
   "cell_type": "code",
   "execution_count": 66,
   "id": "802832ad-fed9-4258-9f78-0b8ee3b2335b",
   "metadata": {},
   "outputs": [
    {
     "data": {
      "text/plain": [
       "torch.Size([37, 21])"
      ]
     },
     "execution_count": 66,
     "metadata": {},
     "output_type": "execute_result"
    }
   ],
   "source": [
    "dataset[0].x.shape"
   ]
  },
  {
   "cell_type": "code",
   "execution_count": null,
   "id": "b15ac73e-d179-4c6d-b164-a9128d16c58e",
   "metadata": {},
   "outputs": [],
   "source": []
  }
 ],
 "metadata": {
  "kernelspec": {
   "display_name": "Python 3 (ipykernel)",
   "language": "python",
   "name": "python3"
  },
  "language_info": {
   "codemirror_mode": {
    "name": "ipython",
    "version": 3
   },
   "file_extension": ".py",
   "mimetype": "text/x-python",
   "name": "python",
   "nbconvert_exporter": "python",
   "pygments_lexer": "ipython3",
   "version": "3.10.11"
  }
 },
 "nbformat": 4,
 "nbformat_minor": 5
}
