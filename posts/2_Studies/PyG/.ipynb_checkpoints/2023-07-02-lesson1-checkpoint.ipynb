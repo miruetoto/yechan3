{
 "cells": [
  {
   "cell_type": "raw",
   "id": "31641072-d219-4e98-940b-2090351bc632",
   "metadata": {},
   "source": [
    "---\n",
    "title: \"**[PyG]** lesson1: 자료형, 데이터셋\"\n",
    "author: \"신록예찬\"\n",
    "date: \"07/02/2023\"\n",
    "---"
   ]
  },
  {
   "cell_type": "code",
   "execution_count": 6,
   "id": "2a8986a8-899c-438c-b865-18ea6152f2e4",
   "metadata": {},
   "outputs": [],
   "source": [
    "import torch\n",
    "import torch_geometric"
   ]
  },
  {
   "cell_type": "markdown",
   "id": "dec8ace8-d50f-421f-aab8-711a48531ce5",
   "metadata": {},
   "source": [
    "# PyG 의 Data 자료형 "
   ]
  },
  {
   "cell_type": "markdown",
   "id": "1fbb76f7-573e-4b57-b6f2-04cf86febdca",
   "metadata": {},
   "source": [
    "> ref: <https://pytorch-geometric.readthedocs.io/en/latest/notes/introduction.html#data-handling-of-graphs>"
   ]
  },
  {
   "cell_type": "markdown",
   "id": "80279973-d921-4b89-8785-c90768fbc577",
   "metadata": {},
   "source": [
    "`-` 자료는 [PyG의 Data 오브젝트](https://pytorch-geometric.readthedocs.io/en/latest/notes/introduction.html#data-handling-of-graphs)를 기반으로 한다. \n",
    "\n"
   ]
  },
  {
   "cell_type": "markdown",
   "id": "1a7bf125-c28b-409d-a694-03be11629a4d",
   "metadata": {},
   "source": [
    "##### **예제1**: 아래와 같은 그래프자료를 고려하자."
   ]
  },
  {
   "cell_type": "markdown",
   "id": "629c678b-1418-4230-9cdc-2565bf8600d4",
   "metadata": {},
   "source": [
    "![](https://pytorch-geometric.readthedocs.io/en/latest/_images/graph.svg)"
   ]
  },
  {
   "cell_type": "markdown",
   "id": "ced1fef0-911c-402b-86b6-58e4b77a0c89",
   "metadata": {},
   "source": [
    "`-` 이러한 자료형은 아래와 같은 형식으로 저장한다. "
   ]
  },
  {
   "cell_type": "code",
   "execution_count": 81,
   "id": "27ade98b-01dd-4808-ae61-c51afcf06863",
   "metadata": {},
   "outputs": [],
   "source": [
    "edge_index = torch.tensor([[0, 1, 1, 2],\n",
    "                           [1, 0, 2, 1]], dtype=torch.long)\n",
    "x = torch.tensor([[-1], [0], [1]], dtype=torch.float)\n",
    "data = torch_geometric.data.Data(x=x, edge_index=edge_index) # torch_geometric.data.Data는 그래프자료형을 만드는 클래스"
   ]
  },
  {
   "cell_type": "markdown",
   "id": "a7ae3718-10c7-4a58-bf76-959bc0fa9dbf",
   "metadata": {},
   "source": [
    "`-` data 의 자료형 "
   ]
  },
  {
   "cell_type": "code",
   "execution_count": 45,
   "id": "a671b4e0-8f7c-4106-afa9-a0e4784ab3ea",
   "metadata": {},
   "outputs": [
    {
     "data": {
      "text/plain": [
       "torch_geometric.data.data.Data"
      ]
     },
     "execution_count": 45,
     "metadata": {},
     "output_type": "execute_result"
    }
   ],
   "source": [
    "type(data)"
   ]
  },
  {
   "cell_type": "markdown",
   "id": "72b397dd-64a2-4438-a757-ef3ba183d966",
   "metadata": {},
   "source": [
    "`-` data의 `__str__`"
   ]
  },
  {
   "cell_type": "code",
   "execution_count": 83,
   "id": "3751985b-9c7a-482b-8760-5e58559b6c84",
   "metadata": {},
   "outputs": [
    {
     "data": {
      "text/plain": [
       "Data(x=[3, 1], edge_index=[2, 4])"
      ]
     },
     "execution_count": 83,
     "metadata": {},
     "output_type": "execute_result"
    }
   ],
   "source": [
    "data"
   ]
  },
  {
   "cell_type": "markdown",
   "id": "beb893dd-ab20-4a4d-a99b-1994ffc1d558",
   "metadata": {},
   "source": [
    "- `x=[3, 1]`: 이 자료는 3개의 노드가 있으며, 각 노드에는 1개의 feature가 있음\n",
    "- `edge_index=[2, 4]`: ${\\cal E}$는 총 4개의 원소가 있음. "
   ]
  },
  {
   "cell_type": "markdown",
   "id": "a929243c-b2f1-4e26-8a58-98a4b55da438",
   "metadata": {},
   "source": [
    "`-` 각 노드의 feature를 확인하는 방법 (즉 $f:{\\cal V} \\to \\mathbb{R}^k$를 확인하는 방법)"
   ]
  },
  {
   "cell_type": "code",
   "execution_count": 46,
   "id": "b4955ade-1059-43a8-9841-a0f2a46b0d93",
   "metadata": {},
   "outputs": [
    {
     "data": {
      "text/plain": [
       "tensor([[-1.],\n",
       "        [ 0.],\n",
       "        [ 1.]])"
      ]
     },
     "execution_count": 46,
     "metadata": {},
     "output_type": "execute_result"
    }
   ],
   "source": [
    "data.x"
   ]
  },
  {
   "cell_type": "markdown",
   "id": "3808085f-1449-4da9-93bc-3759d57fb0a5",
   "metadata": {},
   "source": [
    "`-` ${\\cal E}$를 확인하는 방법"
   ]
  },
  {
   "cell_type": "code",
   "execution_count": 47,
   "id": "c8964557-b9ca-4002-8221-f6ae80fdb05c",
   "metadata": {},
   "outputs": [
    {
     "data": {
      "text/plain": [
       "tensor([[0, 1, 1, 2],\n",
       "        [1, 0, 2, 1]])"
      ]
     },
     "execution_count": 47,
     "metadata": {},
     "output_type": "execute_result"
    }
   ],
   "source": [
    "data.edge_index"
   ]
  },
  {
   "cell_type": "markdown",
   "id": "a29461c4-12b6-4b95-b90f-c56b5f1084a6",
   "metadata": {},
   "source": [
    "`-`"
   ]
  },
  {
   "cell_type": "code",
   "execution_count": 86,
   "id": "8a195534-117d-4714-a2db-1151cfa190b4",
   "metadata": {},
   "outputs": [
    {
     "data": {
      "text/plain": [
       "2"
      ]
     },
     "execution_count": 86,
     "metadata": {},
     "output_type": "execute_result"
    }
   ],
   "source": [
    "len(data)"
   ]
  },
  {
   "cell_type": "markdown",
   "id": "b7676ed0-7b17-45ad-8427-8af6b1d36e14",
   "metadata": {},
   "source": [
    "##### **예제2**: 잘못된 사용 "
   ]
  },
  {
   "cell_type": "markdown",
   "id": "e01a6107-8fb4-4990-ba0f-34cddb966815",
   "metadata": {},
   "source": [
    "`-` `edge_index`는 예제1과 같이 $[2,|{\\cal E}|]$ 의 shape으로 넣어야 한다. 그렇지 않으면 에러가 난다."
   ]
  },
  {
   "cell_type": "code",
   "execution_count": 41,
   "id": "0278aff0-9ff6-4243-92ab-a86be0d189c6",
   "metadata": {},
   "outputs": [],
   "source": [
    "edge_index = torch.tensor([[0, 1],\n",
    "                           [1, 0],\n",
    "                           [1, 2],\n",
    "                           [2, 1]], dtype=torch.long)\n",
    "x = torch.tensor([[-1], [0], [1]], dtype=torch.float)\n",
    "\n",
    "data = torch_geometric.data.Data(x=x, edge_index=edge_index)"
   ]
  },
  {
   "cell_type": "code",
   "execution_count": 42,
   "id": "e211094b-148a-4f1f-bc96-ea870cc3ad84",
   "metadata": {},
   "outputs": [
    {
     "ename": "ValueError",
     "evalue": "'edge_index' needs to be of shape [2, num_edges] in 'Data' (found torch.Size([4, 2]))",
     "output_type": "error",
     "traceback": [
      "\u001b[0;31m---------------------------------------------------------------------------\u001b[0m",
      "\u001b[0;31mValueError\u001b[0m                                Traceback (most recent call last)",
      "Cell \u001b[0;32mIn[42], line 2\u001b[0m\n\u001b[1;32m      1\u001b[0m \u001b[38;5;66;03m#data.validate(raise_on_error=True)\u001b[39;00m\n\u001b[0;32m----> 2\u001b[0m \u001b[43mdata\u001b[49m\u001b[38;5;241;43m.\u001b[39;49m\u001b[43mvalidate\u001b[49m\u001b[43m(\u001b[49m\u001b[43m)\u001b[49m\n",
      "File \u001b[0;32m~/anaconda3/envs/pyg/lib/python3.10/site-packages/torch_geometric/data/data.py:550\u001b[0m, in \u001b[0;36mData.validate\u001b[0;34m(self, raise_on_error)\u001b[0m\n\u001b[1;32m    548\u001b[0m     \u001b[38;5;28;01mif\u001b[39;00m \u001b[38;5;28mself\u001b[39m\u001b[38;5;241m.\u001b[39medge_index\u001b[38;5;241m.\u001b[39mdim() \u001b[38;5;241m!=\u001b[39m \u001b[38;5;241m2\u001b[39m \u001b[38;5;129;01mor\u001b[39;00m \u001b[38;5;28mself\u001b[39m\u001b[38;5;241m.\u001b[39medge_index\u001b[38;5;241m.\u001b[39msize(\u001b[38;5;241m0\u001b[39m) \u001b[38;5;241m!=\u001b[39m \u001b[38;5;241m2\u001b[39m:\n\u001b[1;32m    549\u001b[0m         status \u001b[38;5;241m=\u001b[39m \u001b[38;5;28;01mFalse\u001b[39;00m\n\u001b[0;32m--> 550\u001b[0m         \u001b[43mwarn_or_raise\u001b[49m\u001b[43m(\u001b[49m\n\u001b[1;32m    551\u001b[0m \u001b[43m            \u001b[49m\u001b[38;5;124;43mf\u001b[39;49m\u001b[38;5;124;43m\"\u001b[39;49m\u001b[38;5;124;43m'\u001b[39;49m\u001b[38;5;124;43medge_index\u001b[39;49m\u001b[38;5;124;43m'\u001b[39;49m\u001b[38;5;124;43m needs to be of shape [2, num_edges] in \u001b[39;49m\u001b[38;5;124;43m\"\u001b[39;49m\n\u001b[1;32m    552\u001b[0m \u001b[43m            \u001b[49m\u001b[38;5;124;43mf\u001b[39;49m\u001b[38;5;124;43m\"\u001b[39;49m\u001b[38;5;124;43m'\u001b[39;49m\u001b[38;5;132;43;01m{\u001b[39;49;00m\u001b[43mcls_name\u001b[49m\u001b[38;5;132;43;01m}\u001b[39;49;00m\u001b[38;5;124;43m'\u001b[39;49m\u001b[38;5;124;43m (found \u001b[39;49m\u001b[38;5;132;43;01m{\u001b[39;49;00m\u001b[38;5;28;43mself\u001b[39;49m\u001b[38;5;241;43m.\u001b[39;49m\u001b[43medge_index\u001b[49m\u001b[38;5;241;43m.\u001b[39;49m\u001b[43msize\u001b[49m\u001b[43m(\u001b[49m\u001b[43m)\u001b[49m\u001b[38;5;132;43;01m}\u001b[39;49;00m\u001b[38;5;124;43m)\u001b[39;49m\u001b[38;5;124;43m\"\u001b[39;49m\u001b[43m,\u001b[49m\n\u001b[1;32m    553\u001b[0m \u001b[43m            \u001b[49m\u001b[43mraise_on_error\u001b[49m\u001b[43m)\u001b[49m\n\u001b[1;32m    555\u001b[0m \u001b[38;5;28;01mif\u001b[39;00m \u001b[38;5;124m'\u001b[39m\u001b[38;5;124medge_index\u001b[39m\u001b[38;5;124m'\u001b[39m \u001b[38;5;129;01min\u001b[39;00m \u001b[38;5;28mself\u001b[39m \u001b[38;5;129;01mand\u001b[39;00m \u001b[38;5;28mself\u001b[39m\u001b[38;5;241m.\u001b[39medge_index\u001b[38;5;241m.\u001b[39mnumel() \u001b[38;5;241m>\u001b[39m \u001b[38;5;241m0\u001b[39m:\n\u001b[1;32m    556\u001b[0m     \u001b[38;5;28;01mif\u001b[39;00m \u001b[38;5;28mself\u001b[39m\u001b[38;5;241m.\u001b[39medge_index\u001b[38;5;241m.\u001b[39mmin() \u001b[38;5;241m<\u001b[39m \u001b[38;5;241m0\u001b[39m:\n",
      "File \u001b[0;32m~/anaconda3/envs/pyg/lib/python3.10/site-packages/torch_geometric/data/data.py:990\u001b[0m, in \u001b[0;36mwarn_or_raise\u001b[0;34m(msg, raise_on_error)\u001b[0m\n\u001b[1;32m    988\u001b[0m \u001b[38;5;28;01mdef\u001b[39;00m \u001b[38;5;21mwarn_or_raise\u001b[39m(msg: \u001b[38;5;28mstr\u001b[39m, raise_on_error: \u001b[38;5;28mbool\u001b[39m \u001b[38;5;241m=\u001b[39m \u001b[38;5;28;01mTrue\u001b[39;00m):\n\u001b[1;32m    989\u001b[0m     \u001b[38;5;28;01mif\u001b[39;00m raise_on_error:\n\u001b[0;32m--> 990\u001b[0m         \u001b[38;5;28;01mraise\u001b[39;00m \u001b[38;5;167;01mValueError\u001b[39;00m(msg)\n\u001b[1;32m    991\u001b[0m     \u001b[38;5;28;01melse\u001b[39;00m:\n\u001b[1;32m    992\u001b[0m         warnings\u001b[38;5;241m.\u001b[39mwarn(msg)\n",
      "\u001b[0;31mValueError\u001b[0m: 'edge_index' needs to be of shape [2, num_edges] in 'Data' (found torch.Size([4, 2]))"
     ]
    }
   ],
   "source": [
    "#data.validate(raise_on_error=True)\n",
    "data.validate()"
   ]
  },
  {
   "cell_type": "markdown",
   "id": "e77cf0f4-2a97-48fe-af6b-82dbe28d6762",
   "metadata": {},
   "source": [
    "##### **예제3**: 예제2의 수정"
   ]
  },
  {
   "cell_type": "markdown",
   "id": "27510801-8957-4b72-b9a9-2bbdfd798d92",
   "metadata": {},
   "source": [
    "`-` `edge_index`의 shape이 $[|{\\cal E}|,2]$ 꼴로 저장되어 있었을 경우 트랜스포즈이후 countiguous()함수를 사용하면 된다.^[그런데 그냥 transpose만 해도되는것 같음]"
   ]
  },
  {
   "cell_type": "code",
   "execution_count": 50,
   "id": "0d524691-1adf-498e-b01b-d954ee1dece3",
   "metadata": {},
   "outputs": [],
   "source": [
    "edge_index = torch.tensor([[0, 1],\n",
    "                           [1, 0],\n",
    "                           [1, 2],\n",
    "                           [2, 1]], dtype=torch.long)\n",
    "x = torch.tensor([[-1], [0], [1]], dtype=torch.float)\n",
    "\n",
    "data = torch_geometric.data.Data(\n",
    "    x=x, \n",
    "    edge_index=edge_index.t().contiguous()\n",
    ")"
   ]
  },
  {
   "cell_type": "code",
   "execution_count": 51,
   "id": "13b76fed-bdb4-435a-a287-664b9d8078fc",
   "metadata": {},
   "outputs": [
    {
     "data": {
      "text/plain": [
       "True"
      ]
     },
     "execution_count": 51,
     "metadata": {},
     "output_type": "execute_result"
    }
   ],
   "source": [
    "#data.validate(raise_on_error=True)\n",
    "data.validate()"
   ]
  },
  {
   "cell_type": "markdown",
   "id": "524c0430-98c4-4a49-8a50-16a202b4b755",
   "metadata": {},
   "source": [
    "# 벤치마크 데이터셋"
   ]
  },
  {
   "cell_type": "markdown",
   "id": "443b1b4a-b9ef-4232-b588-8d3fbae6d0c3",
   "metadata": {},
   "source": [
    "`-` 데이터셋은 아래의 모듈안에 정리되어 있음 "
   ]
  },
  {
   "cell_type": "code",
   "execution_count": 55,
   "id": "c723c175-93b2-49a3-996f-ec7b31db11a7",
   "metadata": {},
   "outputs": [
    {
     "data": {
      "text/plain": [
       "['AMiner', 'AQSOL', 'Actor', 'AirfRANS', 'Airports']"
      ]
     },
     "execution_count": 55,
     "metadata": {},
     "output_type": "execute_result"
    }
   ],
   "source": [
    "dir(torch_geometric.datasets)[:5]"
   ]
  },
  {
   "cell_type": "markdown",
   "id": "cf221087-649c-4ed0-8481-9bedbae2759d",
   "metadata": {},
   "source": [
    "##### **데이터셋1**: TUDataset"
   ]
  },
  {
   "cell_type": "markdown",
   "id": "5f8e1805-1baf-41dd-ae19-f65e519bdb97",
   "metadata": {},
   "source": [
    "`-` 다운로드 "
   ]
  },
  {
   "cell_type": "code",
   "execution_count": 57,
   "id": "8e3bce3b-0fd9-4e14-8824-2005855f91f1",
   "metadata": {},
   "outputs": [
    {
     "name": "stderr",
     "output_type": "stream",
     "text": [
      "Downloading https://www.chrsmrrs.com/graphkerneldatasets/ENZYMES.zip\n",
      "Extracting /tmp/ENZYMES/ENZYMES/ENZYMES.zip\n",
      "Processing...\n",
      "Done!\n"
     ]
    }
   ],
   "source": [
    "dataset = torch_geometric.datasets.TUDataset(root='/tmp/ENZYMES', name='ENZYMES')"
   ]
  },
  {
   "cell_type": "code",
   "execution_count": 73,
   "id": "926f18a8-1d68-464d-b7f3-8dc674f8a9c0",
   "metadata": {},
   "outputs": [
    {
     "name": "stdout",
     "output_type": "stream",
     "text": [
      "ENZYMES\n",
      "quarto-sessiond5b3ef79\n",
      "snap-private-tmp\n",
      "systemd-private-4f024f2d80b94518847be2e97856b876-ModemManager.service-1Qybgi\n",
      "systemd-private-4f024f2d80b94518847be2e97856b876-colord.service-mq8m9i\n",
      "systemd-private-4f024f2d80b94518847be2e97856b876-switcheroo-control.service-Rmqqbh\n",
      "systemd-private-4f024f2d80b94518847be2e97856b876-systemd-logind.service-yAqcVf\n",
      "systemd-private-4f024f2d80b94518847be2e97856b876-systemd-resolved.service-Zl6rij\n",
      "systemd-private-4f024f2d80b94518847be2e97856b876-systemd-timesyncd.service-VuyXbh\n",
      "systemd-private-4f024f2d80b94518847be2e97856b876-upower.service-LtEUgj\n",
      "tracker-extract-files.1000\n",
      "tracker-extract-files.125\n"
     ]
    }
   ],
   "source": [
    "!ls /tmp"
   ]
  },
  {
   "cell_type": "markdown",
   "id": "8874d869-b4d0-4141-819c-d6b9567615f8",
   "metadata": {},
   "source": [
    "- `/tmp` 에 다운로드되어있음 "
   ]
  },
  {
   "cell_type": "markdown",
   "id": "5eb86302-4600-4ca9-864b-d49ee9201fd5",
   "metadata": {},
   "source": [
    "`-` 기본정보:  ENZYMES dataset"
   ]
  },
  {
   "cell_type": "markdown",
   "id": "b73525a7-98f5-4d6a-931d-4028d6d6b3df",
   "metadata": {},
   "source": [
    "> (ChatGPT) ENZYMES는 그래프 분류를 위한 벤치마크 데이터셋 중 하나입니다. 이 데이터셋은 600개의 그래프로 구성되어 있으며, 6개의 클래스로 분류됩니다. 각 그래프는 효소(enzyme) 분자의 구조를 나타내며, 그래프의 노드는 원자(atom)를 나타내고, 엣지(edge)는 원자 간의 연결을 나타냅니다. ENZYMES 데이터셋은 화학 및 생물 정보학 분야에서 그래프 분류 알고리즘의 성능을 평가하기 위해 사용될 수 있습니다. 그래프 분류 알고리즘은 주어진 그래프를 특정 클래스 레이블로 분류하는 작업을 수행하는데 사용됩니다. 예를 들어, ENZYMES 데이터셋의 그래프는 특정 효소 종류를 나타내며, 그래프 분류 알고리즘은 주어진 효소 그래프가 어떤 종류의 효소인지 예측할 수 있습니다. PyG를 사용하여 ENZYMES 데이터셋을 초기화하면 해당 데이터셋을 다운로드하고 필요한 전처리를 자동으로 수행할 수 있습니다. 그래프 데이터를 다루는 머신 러닝 모델을 구축하고 훈련시키기 위해 ENZYMES 데이터셋을 사용할 수 있습니다."
   ]
  },
  {
   "cell_type": "code",
   "execution_count": 104,
   "id": "d759f993-027b-4bf3-888b-c49f5bfbb679",
   "metadata": {},
   "outputs": [
    {
     "data": {
      "text/plain": [
       "ENZYMES(600)"
      ]
     },
     "execution_count": 104,
     "metadata": {},
     "output_type": "execute_result"
    }
   ],
   "source": [
    "dataset # 데이터셋 이름"
   ]
  },
  {
   "cell_type": "code",
   "execution_count": 105,
   "id": "ac487661-258a-44dc-af6c-c0db90ca6c38",
   "metadata": {},
   "outputs": [
    {
     "data": {
      "text/plain": [
       "600"
      ]
     },
     "execution_count": 105,
     "metadata": {},
     "output_type": "execute_result"
    }
   ],
   "source": [
    "len(dataset) # 이 데이터셋에는 600개의 그래프가 있음"
   ]
  },
  {
   "cell_type": "code",
   "execution_count": 106,
   "id": "77dd6aae-f03a-4945-ae29-3271f957359e",
   "metadata": {},
   "outputs": [
    {
     "data": {
      "text/plain": [
       "6"
      ]
     },
     "execution_count": 106,
     "metadata": {},
     "output_type": "execute_result"
    }
   ],
   "source": [
    "dataset.num_classes # 6개의 클래스"
   ]
  },
  {
   "cell_type": "code",
   "execution_count": 107,
   "id": "521668ac-f7d9-4a5e-9a68-61643d0a753b",
   "metadata": {},
   "outputs": [
    {
     "data": {
      "text/plain": [
       "3"
      ]
     },
     "execution_count": 107,
     "metadata": {},
     "output_type": "execute_result"
    }
   ],
   "source": [
    "dataset.num_node_features # 각 노드에는 3개의 피처가 있음"
   ]
  },
  {
   "cell_type": "markdown",
   "id": "8db59fd5-b691-4ff7-bd7c-b4d0ec73fcaf",
   "metadata": {},
   "source": [
    "`-` 600개의 그래프중 첫번째 그래프에 접근 "
   ]
  },
  {
   "cell_type": "code",
   "execution_count": 111,
   "id": "79e418a1-f0fe-47d9-9f97-612302ece08e",
   "metadata": {},
   "outputs": [
    {
     "data": {
      "text/plain": [
       "Data(edge_index=[2, 168], x=[37, 3], y=[1])"
      ]
     },
     "execution_count": 111,
     "metadata": {},
     "output_type": "execute_result"
    }
   ],
   "source": [
    "dataset[0]"
   ]
  },
  {
   "cell_type": "markdown",
   "id": "85492b93-6582-4af8-b7af-8d606f3dc454",
   "metadata": {},
   "source": [
    "- `x=[37, 3]`: $|{\\cal V}|=37$, $f \\in \\mathbb{R}^3$\n",
    "- `edge_index=[2, 168]`: $|{\\cal E}|=168$"
   ]
  },
  {
   "cell_type": "markdown",
   "id": "5ee579c6-97d4-492e-b1f9-66d843f89588",
   "metadata": {},
   "source": [
    "`-` 600개의 그래프중 540를 train으로, 60개를 test로 "
   ]
  },
  {
   "cell_type": "code",
   "execution_count": 113,
   "id": "ecb777e1-058c-4d21-9823-74fc61aedef6",
   "metadata": {},
   "outputs": [],
   "source": [
    "train_dataset = dataset[:540]\n",
    "test_dataset = dataset[540:] "
   ]
  },
  {
   "cell_type": "markdown",
   "id": "c58608c4-5cb1-4a83-93b7-05dd317aad27",
   "metadata": {},
   "source": [
    "##### **데이터셋2**: Cora"
   ]
  },
  {
   "cell_type": "markdown",
   "id": "9f8c176f-46b1-47fd-8e12-8473d29f41b1",
   "metadata": {},
   "source": [
    "> ChatGPT: Cora는 그래프 분류를 위한 벤치마크 데이터셋 중 하나로, PyG에서도 사용할 수 있습니다. 이 데이터셋은 기계 학습 및 정보 검색 분야에서 널리 사용되는 학술 논문들의 인용 네트워크를 나타냅니다. Cora 데이터셋은 컴퓨터 과학 분야의 논문을 대상으로 합니다. 각 논문은 그래프의 노드로 표현되며, 노드는 논문을 나타냅니다. 노드 간의 엣지는 논문들 사이의 인용 관계를 나타냅니다. 따라서 Cora 데이터셋은 논문의 텍스트 기반 정보와 인용 관계에 대한 그래프 구조를 제공합니다. Cora 데이터셋은 7개의 클래스로 분류되며, 각 논문은 특성 벡터(feature vector)로 표현됩니다. 이 특성 벡터에는 논문의 단어 등 다양한 정보가 포함될 수 있습니다. PyG를 사용하여 Cora 데이터셋을 초기화하면 해당 데이터셋을 다운로드하고 전처리를 자동으로 수행할 수 있습니다. 이를 통해 머신 러닝 모델을 훈련시켜 Cora 데이터셋의 논문을 분류하거나 다양한 작업을 수행할 수 있습니다."
   ]
  },
  {
   "cell_type": "markdown",
   "id": "70038c7a-daf2-44dc-b1d5-614bbe972b6e",
   "metadata": {},
   "source": [
    "`-` 다운로드"
   ]
  },
  {
   "cell_type": "code",
   "execution_count": 114,
   "id": "bea3fff7-c391-41be-9a68-d83ec850d482",
   "metadata": {},
   "outputs": [
    {
     "name": "stderr",
     "output_type": "stream",
     "text": [
      "Downloading https://github.com/kimiyoung/planetoid/raw/master/data/ind.cora.x\n",
      "Downloading https://github.com/kimiyoung/planetoid/raw/master/data/ind.cora.tx\n",
      "Downloading https://github.com/kimiyoung/planetoid/raw/master/data/ind.cora.allx\n",
      "Downloading https://github.com/kimiyoung/planetoid/raw/master/data/ind.cora.y\n",
      "Downloading https://github.com/kimiyoung/planetoid/raw/master/data/ind.cora.ty\n",
      "Downloading https://github.com/kimiyoung/planetoid/raw/master/data/ind.cora.ally\n",
      "Downloading https://github.com/kimiyoung/planetoid/raw/master/data/ind.cora.graph\n",
      "Downloading https://github.com/kimiyoung/planetoid/raw/master/data/ind.cora.test.index\n",
      "Processing...\n",
      "Done!\n"
     ]
    }
   ],
   "source": [
    "dataset = torch_geometric.datasets.Planetoid(root='/tmp/Cora', name='Cora')"
   ]
  },
  {
   "cell_type": "markdown",
   "id": "407999ea-f068-465e-9641-48e1998eda0a",
   "metadata": {},
   "source": [
    "`-` 기본정보"
   ]
  },
  {
   "cell_type": "code",
   "execution_count": 116,
   "id": "6436961b-4acf-4209-bc12-3e2cf79c3839",
   "metadata": {},
   "outputs": [
    {
     "data": {
      "text/plain": [
       "1"
      ]
     },
     "execution_count": 116,
     "metadata": {},
     "output_type": "execute_result"
    }
   ],
   "source": [
    "len(dataset) # 하나의 그래프가 있음"
   ]
  },
  {
   "cell_type": "code",
   "execution_count": 118,
   "id": "0a967e22-e557-450a-911f-e6f47a5ca5d9",
   "metadata": {},
   "outputs": [
    {
     "data": {
      "text/plain": [
       "7"
      ]
     },
     "execution_count": 118,
     "metadata": {},
     "output_type": "execute_result"
    }
   ],
   "source": [
    "dataset.num_classes # 7개의 클래스가 있음"
   ]
  },
  {
   "cell_type": "code",
   "execution_count": 123,
   "id": "7c7840e2-7081-4334-b3b9-06f1ba607c4a",
   "metadata": {},
   "outputs": [
    {
     "data": {
      "text/plain": [
       "1433"
      ]
     },
     "execution_count": 123,
     "metadata": {},
     "output_type": "execute_result"
    }
   ],
   "source": [
    "dataset.num_node_features # 각 노드는 1433개의 특징이 있음. (논문에 포함된 단어등 다양한 특성이 담겨있을 수 있음) "
   ]
  },
  {
   "cell_type": "markdown",
   "id": "349e355a-430b-4711-bbba-8237dcf612b3",
   "metadata": {},
   "source": [
    "`-` 그래프에 접근"
   ]
  },
  {
   "cell_type": "code",
   "execution_count": 134,
   "id": "2e73ca58-0c3c-4bc7-8bc4-74d8f5978b6a",
   "metadata": {},
   "outputs": [
    {
     "data": {
      "text/plain": [
       "Data(x=[2708, 1433], edge_index=[2, 10556], y=[2708], train_mask=[2708], val_mask=[2708], test_mask=[2708])"
      ]
     },
     "execution_count": 134,
     "metadata": {},
     "output_type": "execute_result"
    }
   ],
   "source": [
    "dataset[0] # 기본정보"
   ]
  },
  {
   "cell_type": "markdown",
   "id": "dabd1dd1-77ec-4603-8ff3-c808ddb2aa90",
   "metadata": {},
   "source": [
    "- `x=[2708, 1433]`: 2708개의 논문이 있고, 각 논문은 1433개의 특징벡터들로 이루어져 있음. \n",
    "- `edge_index=[2, 10556]`: 논문간의 인용은 약 10556. \n",
    "- `y=[2708]`: "
   ]
  },
  {
   "cell_type": "code",
   "execution_count": 131,
   "id": "67314c78-7c0d-4772-8101-69df7ced179e",
   "metadata": {},
   "outputs": [
    {
     "data": {
      "text/plain": [
       "torch.Size([2708, 1433])"
      ]
     },
     "execution_count": 131,
     "metadata": {},
     "output_type": "execute_result"
    }
   ],
   "source": [
    "dataset[0].x.shape # 2708개의 논문이 있고 1433개의 특징벡터를 가짐"
   ]
  },
  {
   "cell_type": "code",
   "execution_count": 129,
   "id": "8e314f95-8826-4d99-98c3-3e2dd8004114",
   "metadata": {},
   "outputs": [
    {
     "data": {
      "text/plain": [
       "tensor([0, 1, 2, 3, 4, 5, 6])"
      ]
     },
     "execution_count": 129,
     "metadata": {},
     "output_type": "execute_result"
    }
   ],
   "source": [
    "dataset[0].y.unique() # 논문이 7개의 카테고리로 분류되는듯"
   ]
  },
  {
   "cell_type": "code",
   "execution_count": 138,
   "id": "dbf82b7f-c8f1-42ac-bb62-05037b926b2e",
   "metadata": {},
   "outputs": [
    {
     "data": {
      "text/plain": [
       "tensor([ True,  True,  True,  ..., False, False, False])"
      ]
     },
     "execution_count": 138,
     "metadata": {},
     "output_type": "execute_result"
    }
   ],
   "source": [
    "dataset[0].train_mask \n",
    "# dataset[0].train_mask 는 True, False로 이루어져 있는 길이가 2708(=노드수=논문수)인 벡터\n",
    "# 여기에서 True인 노드만 훈련함"
   ]
  },
  {
   "cell_type": "code",
   "execution_count": 141,
   "id": "0fc01350-2f6d-485e-8d3e-04dc99d3fe61",
   "metadata": {},
   "outputs": [
    {
     "data": {
      "text/plain": [
       "tensor(140)"
      ]
     },
     "execution_count": 141,
     "metadata": {},
     "output_type": "execute_result"
    }
   ],
   "source": [
    "dataset[0].train_mask.sum() # 140개의 노드만 훈련함? "
   ]
  },
  {
   "cell_type": "code",
   "execution_count": 143,
   "id": "6b3d9178-4e85-492d-992e-b5a7c192af91",
   "metadata": {},
   "outputs": [
    {
     "data": {
      "text/plain": [
       "tensor(500)"
      ]
     },
     "execution_count": 143,
     "metadata": {},
     "output_type": "execute_result"
    }
   ],
   "source": [
    "dataset[0].val_mask.sum() # val은 500개의 노드?"
   ]
  },
  {
   "cell_type": "code",
   "execution_count": 144,
   "id": "e3a326fd-21df-4a59-9cfc-29ab6bd46bf7",
   "metadata": {},
   "outputs": [
    {
     "data": {
      "text/plain": [
       "tensor(1000)"
      ]
     },
     "execution_count": 144,
     "metadata": {},
     "output_type": "execute_result"
    }
   ],
   "source": [
    "dataset[0].test_mask.sum() # test set은 1000?"
   ]
  }
 ],
 "metadata": {
  "kernelspec": {
   "display_name": "Python 3 (ipykernel)",
   "language": "python",
   "name": "python3"
  },
  "language_info": {
   "codemirror_mode": {
    "name": "ipython",
    "version": 3
   },
   "file_extension": ".py",
   "mimetype": "text/x-python",
   "name": "python",
   "nbconvert_exporter": "python",
   "pygments_lexer": "ipython3",
   "version": "3.10.11"
  }
 },
 "nbformat": 4,
 "nbformat_minor": 5
}
