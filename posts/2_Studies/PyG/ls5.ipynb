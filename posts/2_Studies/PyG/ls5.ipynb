{
 "cells": [
  {
   "cell_type": "raw",
   "id": "1dd5fa03-0c76-473b-ad34-3fd752d964b7",
   "metadata": {},
   "source": [
    "---\n",
    "title: \"**[PyG]** lesson5: Learning Methods on Graphs\"\n",
    "author: \"신록예찬\"\n",
    "date: \"07/14/2023\"\n",
    "---"
   ]
  },
  {
   "cell_type": "markdown",
   "id": "38017583-4ddf-42ed-9841-1c3a5006e683",
   "metadata": {},
   "source": [
    "# Download notebook"
   ]
  },
  {
   "cell_type": "markdown",
   "id": "3e10a7c3-a2d6-459b-80b9-347b317371b0",
   "metadata": {},
   "source": [
    "```default\n",
    "!wget https://raw.githubusercontent.com/miruetoto/yechan3/main/posts/2_Studies/PyG/ls5.ipynb\n",
    "```"
   ]
  },
  {
   "cell_type": "markdown",
   "id": "337c5905-1120-4b60-8eb3-ae30a224aa75",
   "metadata": {},
   "source": [
    "# Ref"
   ]
  },
  {
   "cell_type": "markdown",
   "id": "ae2f2629-e599-4f14-a937-c4ded21c748a",
   "metadata": {},
   "source": [
    "- <https://pytorch-geometric.readthedocs.io/en/latest/get_started/introduction.html> "
   ]
  },
  {
   "cell_type": "markdown",
   "id": "903f7d4b-2b24-4689-94cb-1d8901562426",
   "metadata": {},
   "source": [
    "# data "
   ]
  },
  {
   "cell_type": "code",
   "execution_count": 1,
   "id": "c538d739-b326-42b2-a1ca-a5977aaf9b1b",
   "metadata": {},
   "outputs": [],
   "source": [
    "from torch_geometric.datasets import Planetoid\n",
    "\n",
    "dataset = Planetoid(root='/tmp/Cora', name='Cora')"
   ]
  },
  {
   "cell_type": "code",
   "execution_count": 9,
   "id": "fdd1a130-8a31-4582-b754-8388cf37e6ea",
   "metadata": {},
   "outputs": [
    {
     "data": {
      "text/plain": [
       "Data(x=[2708, 1433], edge_index=[2, 10556], y=[2708], train_mask=[2708], val_mask=[2708], test_mask=[2708])"
      ]
     },
     "execution_count": 9,
     "metadata": {},
     "output_type": "execute_result"
    }
   ],
   "source": [
    "dataset[0]"
   ]
  },
  {
   "cell_type": "code",
   "execution_count": 2,
   "id": "d7d54279-e297-4cde-b6d9-04ecbe79bde1",
   "metadata": {},
   "outputs": [],
   "source": [
    "import torch\n",
    "import torch.nn.functional as F\n",
    "from torch_geometric.nn import GCNConv\n",
    "\n",
    "class GCN(torch.nn.Module):\n",
    "    def __init__(self):\n",
    "        super().__init__()\n",
    "        self.conv1 = GCNConv(dataset.num_node_features, 16)\n",
    "        self.conv2 = GCNConv(16, dataset.num_classes)\n",
    "\n",
    "    def forward(self, data):\n",
    "        x, edge_index = data.x, data.edge_index\n",
    "\n",
    "        x = self.conv1(x, edge_index)\n",
    "        x = F.relu(x)\n",
    "        x = F.dropout(x, training=self.training)\n",
    "        x = self.conv2(x, edge_index)\n",
    "\n",
    "        return F.log_softmax(x, dim=1)"
   ]
  },
  {
   "cell_type": "code",
   "execution_count": 24,
   "id": "57327f9e-3e0c-4f97-9dfc-28d82a3634eb",
   "metadata": {},
   "outputs": [],
   "source": [
    "device = torch.device('cuda' if torch.cuda.is_available() else 'cpu')\n",
    "model = GCN().to(device)\n",
    "data = dataset[0].to(device)\n",
    "optimizer = torch.optim.Adam(model.parameters(), lr=0.01, weight_decay=5e-4)\n",
    "\n",
    "model.train()\n",
    "for epoch in range(200):\n",
    "    optimizer.zero_grad()\n",
    "    out = model(data)\n",
    "    loss = F.nll_loss(out[data.train_mask], data.y[data.train_mask]) # train에 대한 loss만 따로 처리해야함\n",
    "    loss.backward()\n",
    "    optimizer.step()"
   ]
  },
  {
   "cell_type": "code",
   "execution_count": 25,
   "id": "8fe2788d-4302-4a88-a5ff-8180a1982000",
   "metadata": {},
   "outputs": [
    {
     "data": {
      "text/plain": [
       "torch.Size([2708, 7])"
      ]
     },
     "execution_count": 25,
     "metadata": {},
     "output_type": "execute_result"
    }
   ],
   "source": [
    "out.shape # 카테고리가 7개"
   ]
  },
  {
   "cell_type": "code",
   "execution_count": 26,
   "id": "02606716-33f5-4f33-854b-49db2d0f67bb",
   "metadata": {},
   "outputs": [
    {
     "data": {
      "text/plain": [
       "tensor([0, 1, 2, 3, 4, 5, 6], device='cuda:0')"
      ]
     },
     "execution_count": 26,
     "metadata": {},
     "output_type": "execute_result"
    }
   ],
   "source": [
    "data.y.unique() # 카테고리가 7개"
   ]
  },
  {
   "cell_type": "code",
   "execution_count": 28,
   "id": "0995a97c-5967-4903-8100-4e4096b0ddfa",
   "metadata": {},
   "outputs": [
    {
     "name": "stdout",
     "output_type": "stream",
     "text": [
      "Accuracy: 0.8050\n"
     ]
    }
   ],
   "source": [
    "model.eval()\n",
    "pred = model(data).argmax(dim=1)\n",
    "correct = (pred[data.test_mask] == data.y[data.test_mask]).sum() # 애큐러시는 test\n",
    "acc = int(correct) / int(data.test_mask.sum())\n",
    "print(f'Accuracy: {acc:.4f}')"
   ]
  },
  {
   "cell_type": "markdown",
   "id": "f2524d40-269c-43e7-b375-4a84a320f08f",
   "metadata": {},
   "source": [
    "# FRAUD data에 활용?"
   ]
  },
  {
   "cell_type": "markdown",
   "id": "827ad91f-576b-4786-9729-bd2ed37c02c1",
   "metadata": {},
   "source": [
    "1. 고객정보별로 그래프생성\n",
    "2. 커다란 하나의 그래프 생성 "
   ]
  }
 ],
 "metadata": {
  "kernelspec": {
   "display_name": "Python 3 (ipykernel)",
   "language": "python",
   "name": "python3"
  },
  "language_info": {
   "codemirror_mode": {
    "name": "ipython",
    "version": 3
   },
   "file_extension": ".py",
   "mimetype": "text/x-python",
   "name": "python",
   "nbconvert_exporter": "python",
   "pygments_lexer": "ipython3",
   "version": "3.10.11"
  }
 },
 "nbformat": 4,
 "nbformat_minor": 5
}
