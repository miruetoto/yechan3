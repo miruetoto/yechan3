{
 "cells": [
  {
   "cell_type": "raw",
   "id": "37a7a92e-ceb2-476e-a1e9-d08c1fb7dd85",
   "metadata": {},
   "source": [
    "---\n",
    "title: \"01wk-003: 캐글제출\"\n",
    "author: \"최규빈\"\n",
    "date: \"09/05/2023\"\n",
    "bibliography: mpref.bib\n",
    "---"
   ]
  },
  {
   "cell_type": "markdown",
   "id": "15514f74-65d0-4c3b-9b24-792f06e816cf",
   "metadata": {},
   "source": [
    "# 1. 제출방법"
   ]
  },
  {
   "cell_type": "markdown",
   "id": "73f3bffc-3eed-4e8b-a3f3-ef9dc80cf0ff",
   "metadata": {},
   "source": [
    "# 2. 결과확인 "
   ]
  }
 ],
 "metadata": {
  "kernelspec": {
   "display_name": "Python 3 (ipykernel)",
   "language": "python",
   "name": "python3"
  },
  "language_info": {
   "codemirror_mode": {
    "name": "ipython",
    "version": 3
   },
   "file_extension": ".py",
   "mimetype": "text/x-python",
   "name": "python",
   "nbconvert_exporter": "python",
   "pygments_lexer": "ipython3",
   "version": "3.11.4"
  }
 },
 "nbformat": 4,
 "nbformat_minor": 5
}
