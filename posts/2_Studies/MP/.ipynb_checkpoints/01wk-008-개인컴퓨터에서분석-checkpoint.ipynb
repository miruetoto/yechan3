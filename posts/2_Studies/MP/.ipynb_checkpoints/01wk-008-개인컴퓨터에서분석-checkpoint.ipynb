{
 "cells": [
  {
   "cell_type": "raw",
   "id": "117f8494-ba06-4add-8062-f73c03b937b9",
   "metadata": {},
   "source": [
    "---\n",
    "title: \"01wk-008: 개인컴퓨터에서 분석\"\n",
    "author: \"최규빈\"\n",
    "date: \"09/05/2023\"\n",
    "bibliography: mpref.bib\n",
    "---"
   ]
  },
  {
   "cell_type": "code",
   "execution_count": null,
   "id": "db18f8c3-f88f-43c6-8066-997f369c5308",
   "metadata": {},
   "outputs": [],
   "source": []
  }
 ],
 "metadata": {
  "kernelspec": {
   "display_name": "Python 3 (ipykernel)",
   "language": "python",
   "name": "python3"
  },
  "language_info": {
   "codemirror_mode": {
    "name": "ipython",
    "version": 3
   },
   "file_extension": ".py",
   "mimetype": "text/x-python",
   "name": "python",
   "nbconvert_exporter": "python",
   "pygments_lexer": "ipython3",
   "version": "3.10.12"
  }
 },
 "nbformat": 4,
 "nbformat_minor": 5
}
