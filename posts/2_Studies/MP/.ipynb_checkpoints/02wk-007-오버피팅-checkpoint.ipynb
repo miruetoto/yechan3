{
 "cells": [
  {
   "cell_type": "raw",
   "id": "4565c272-188b-495f-82a7-d67085cc8889",
   "metadata": {},
   "source": [
    "---\n",
    "title: \"02wk-007: 오버피팅\"\n",
    "author: \"최규빈\"\n",
    "date: \"09/12/2023\"\n",
    "bibliography: mpref.bib\n",
    "---"
   ]
  },
  {
   "cell_type": "markdown",
   "id": "5b2037e7-c5bc-460b-bf60-a085413dd357",
   "metadata": {},
   "source": [
    "# 1. 개념 "
   ]
  },
  {
   "cell_type": "code",
   "execution_count": null,
   "id": "f8a24370-8509-4656-9f17-a560bcd69300",
   "metadata": {},
   "outputs": [],
   "source": []
  }
 ],
 "metadata": {
  "kernelspec": {
   "display_name": "Python 3 (ipykernel)",
   "language": "python",
   "name": "python3"
  },
  "language_info": {
   "codemirror_mode": {
    "name": "ipython",
    "version": 3
   },
   "file_extension": ".py",
   "mimetype": "text/x-python",
   "name": "python",
   "nbconvert_exporter": "python",
   "pygments_lexer": "ipython3",
   "version": "3.11.4"
  }
 },
 "nbformat": 4,
 "nbformat_minor": 5
}
