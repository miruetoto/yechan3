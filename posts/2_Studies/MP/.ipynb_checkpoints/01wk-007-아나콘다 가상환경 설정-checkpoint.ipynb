{
 "cells": [
  {
   "cell_type": "raw",
   "id": "3d4971c0-9da9-4732-b2dc-5b9507669b57",
   "metadata": {},
   "source": [
    "---\n",
    "title: \"01wk-007: 아나콘다 가상환경 설정\"\n",
    "author: \"최규빈\"\n",
    "date: \"09/05/2023\"\n",
    "bibliography: mpref.bib\n",
    "---"
   ]
  },
  {
   "cell_type": "markdown",
   "id": "24b44ba0-ec01-4a0d-89a1-f4d2dacd4112",
   "metadata": {},
   "source": [
    "<a href=\"https://colab.research.google.com/github/guebin/DV2023/blob/main/posts/01wk-1.ipynb\"><img src=\"https://colab.research.google.com/assets/colab-badge.svg\" style=\"text-align: left\"></a>"
   ]
  },
  {
   "cell_type": "markdown",
   "id": "980ac7dc-97e7-47c0-8e79-bbdedcaa236a",
   "metadata": {},
   "source": [
    "# 강의영상 "
   ]
  },
  {
   "cell_type": "markdown",
   "id": "a9d3c0dc-a3d0-45f8-8279-6c5821341167",
   "metadata": {},
   "source": [
    "# 가상환경 설정 "
   ]
  },
  {
   "cell_type": "markdown",
   "id": "8ab62e9c-a15b-415a-a77c-7ab937a4d957",
   "metadata": {},
   "source": [
    "```bash\n",
    "conda create -n mp python=3.10\n",
    "conda activate mp\n",
    "pip install autogluon && pip install autogluon.tabular[tabpfn,vowpalwabbit,imodels,skex,skl2onnx]\n",
    "pip install pycaret[full]\n",
    "conda install -c huggingface transformers\n",
    "pip install kaggle \n",
    "conda install -c conda-forge notebook\n",
    "```"
   ]
  }
 ],
 "metadata": {
  "kernelspec": {
   "display_name": "Python 3 (ipykernel)",
   "language": "python",
   "name": "python3"
  },
  "language_info": {
   "codemirror_mode": {
    "name": "ipython",
    "version": 3
   },
   "file_extension": ".py",
   "mimetype": "text/x-python",
   "name": "python",
   "nbconvert_exporter": "python",
   "pygments_lexer": "ipython3",
   "version": "3.10.12"
  }
 },
 "nbformat": 4,
 "nbformat_minor": 5
}
