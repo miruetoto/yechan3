{
 "cells": [
  {
   "cell_type": "raw",
   "id": "c99794cc-461a-45cd-a975-bacb7163c1df",
   "metadata": {},
   "source": [
    "---\n",
    "title: \"02wk-008: 타이타닉, Autogluon (best_quality)\"\n",
    "author: \"최규빈\"\n",
    "date: \"09/12/2023\"\n",
    "bibliography: ref.bib\n",
    "---"
   ]
  },
  {
   "cell_type": "markdown",
   "id": "e0e99d21-2790-4344-92f7-5b7bee5782c1",
   "metadata": {},
   "source": [
    "# 1. 강의영상 "
   ]
  },
  {
   "cell_type": "markdown",
   "id": "5cca2a21-b121-4124-a014-074be0eb4deb",
   "metadata": {},
   "source": [
    "{{<video https://youtu.be/playlist?list=PLQqh36zP38-x6USW3HM9Lm-B19o9qrm19&si=EFy8hdlgDJ-LUFHi >}}"
   ]
  },
  {
   "cell_type": "markdown",
   "id": "209df841-dee6-418d-9b18-5ed4f18c1285",
   "metadata": {},
   "source": [
    "# 2. Import"
   ]
  },
  {
   "cell_type": "markdown",
   "id": "f846159b-003d-418c-8ca8-c1fbfe9a7742",
   "metadata": {},
   "source": [
    "``` python\n",
    "# This Python 3 environment comes with many helpful analytics libraries installed\n",
    "# It is defined by the kaggle/python Docker image: https://github.com/kaggle/docker-python\n",
    "# For example, here's several helpful packages to load\n",
    "\n",
    "import numpy as np # linear algebra\n",
    "import pandas as pd # data processing, CSV file I/O (e.g. pd.read_csv)\n",
    "\n",
    "# Input data files are available in the read-only \"../input/\" directory\n",
    "# For example, running this (by clicking run or pressing Shift+Enter) will list all files under the input directory\n",
    "\n",
    "import os\n",
    "for dirname, _, filenames in os.walk('/kaggle/input'):\n",
    "    for filename in filenames:\n",
    "        print(os.path.join(dirname, filename))\n",
    "\n",
    "# You can write up to 20GB to the current directory (/kaggle/working/) that gets preserved as output when you create a version using \"Save & Run All\" \n",
    "# You can also write temporary files to /kaggle/temp/, but they won't be saved outside of the current session\n",
    "```\n",
    "\n",
    "    /kaggle/input/titanic/train.csv\n",
    "    /kaggle/input/titanic/test.csv\n",
    "    /kaggle/input/titanic/gender_submission.csv"
   ]
  },
  {
   "cell_type": "code",
   "execution_count": 11,
   "id": "5ee63a9f-4df2-46eb-b255-633ad13ef668",
   "metadata": {},
   "outputs": [],
   "source": [
    "#pip install autogluon"
   ]
  },
  {
   "cell_type": "code",
   "execution_count": 12,
   "id": "4fb9404e-25d7-4a80-8709-69221a7fbc3a",
   "metadata": {},
   "outputs": [],
   "source": [
    "from autogluon.tabular import TabularDataset, TabularPredictor"
   ]
  },
  {
   "cell_type": "markdown",
   "id": "21860fd4-cf50-479c-8f34-90306e37f3da",
   "metadata": {},
   "source": [
    "# 3. 분석의 절차"
   ]
  },
  {
   "cell_type": "markdown",
   "id": "731bf7aa-4051-47dc-a97e-7de20468a0d0",
   "metadata": {},
   "source": [
    "## A. 데이터"
   ]
  },
  {
   "cell_type": "markdown",
   "id": "76191fd3-1974-4424-8a3b-c66d80146260",
   "metadata": {},
   "source": [
    "`-` 비유: 문제를 받아오는 과정으로 비유할 수 있다. "
   ]
  },
  {
   "cell_type": "code",
   "execution_count": 13,
   "id": "5ac6c193-2953-419d-ac23-d3d9ea3f40c8",
   "metadata": {},
   "outputs": [
    {
     "name": "stderr",
     "output_type": "stream",
     "text": [
      "Loaded data from: ./titanic/train.csv | Columns = 12 / 12 | Rows = 891 -> 891\n",
      "Loaded data from: ./titanic/test.csv | Columns = 11 / 11 | Rows = 418 -> 418\n"
     ]
    }
   ],
   "source": [
    "tr = TabularDataset(\"/kaggle/input/titanic/train.csv\")\n",
    "tst = TabularDataset(\"/kaggle/input/titanic/test.csv\")"
   ]
  },
  {
   "cell_type": "markdown",
   "id": "c199b03d-d5db-4828-9789-e34f678d9e7b",
   "metadata": {},
   "source": [
    "## B. Predictor 생성 "
   ]
  },
  {
   "cell_type": "markdown",
   "id": "44716691-6b21-4134-ac95-052a92fe0e25",
   "metadata": {},
   "source": [
    "`-` 비유: 문제를 풀 학생을 생성하는 과정으로 비유할 수 있다. "
   ]
  },
  {
   "cell_type": "code",
   "execution_count": 20,
   "id": "d14af837-2d5e-4dd3-9348-ade59683b80d",
   "metadata": {},
   "outputs": [
    {
     "name": "stderr",
     "output_type": "stream",
     "text": [
      "No path specified. Models will be saved in: \"AutogluonModels/ag-20230912_120554/\"\n"
     ]
    }
   ],
   "source": [
    "predictr = TabularPredictor(\"Survived\")"
   ]
  },
  {
   "cell_type": "markdown",
   "id": "4201d8a9-ffaa-4641-a39c-410f7219aff7",
   "metadata": {},
   "source": [
    "## C. 적합(fit) "
   ]
  },
  {
   "cell_type": "markdown",
   "id": "9ef96a3c-618f-4f7a-8373-573204e065da",
   "metadata": {},
   "source": [
    "`-` 비유: 학생이 공부를 하는 과정으로 비유할 수 있다. "
   ]
  },
  {
   "cell_type": "markdown",
   "id": "c1149efd-3bff-4040-8d47-8f6090adf177",
   "metadata": {},
   "source": [
    "`-` 학습"
   ]
  },
  {
   "cell_type": "code",
   "execution_count": 21,
   "id": "d487d466-82e6-4b71-b6c5-037ae26df37e",
   "metadata": {},
   "outputs": [
    {
     "name": "stderr",
     "output_type": "stream",
     "text": [
      "Presets specified: ['best_quality']\n",
      "Stack configuration (auto_stack=True): num_stack_levels=0, num_bag_folds=8, num_bag_sets=1\n",
      "Beginning AutoGluon training ...\n",
      "AutoGluon will save models to \"AutogluonModels/ag-20230912_120554/\"\n",
      "AutoGluon Version:  0.8.2\n",
      "Python Version:     3.10.12\n",
      "Operating System:   Linux\n",
      "Platform Machine:   x86_64\n",
      "Platform Version:   #26~22.04.1-Ubuntu SMP PREEMPT_DYNAMIC Thu Jul 13 16:27:29 UTC 2\n",
      "Disk Space Avail:   293.94 GB / 490.57 GB (59.9%)\n",
      "Train Data Rows:    891\n",
      "Train Data Columns: 11\n",
      "Label Column: Survived\n",
      "Preprocessing data ...\n",
      "AutoGluon infers your prediction problem is: 'binary' (because only two unique label-values observed).\n",
      "\t2 unique label values:  [0, 1]\n",
      "\tIf 'binary' is not the correct problem_type, please manually specify the problem_type parameter during predictor init (You may specify problem_type as one of: ['binary', 'multiclass', 'regression'])\n",
      "Selected class <--> label mapping:  class 1 = 1, class 0 = 0\n",
      "Using Feature Generators to preprocess the data ...\n",
      "Fitting AutoMLPipelineFeatureGenerator...\n",
      "\tAvailable Memory:                    125495.28 MB\n",
      "\tTrain Data (Original)  Memory Usage: 0.31 MB (0.0% of available memory)\n",
      "\tInferring data type of each feature based on column values. Set feature_metadata_in to manually specify special dtypes of the features.\n",
      "/home/cgb2/anaconda3/envs/mp/lib/python3.10/site-packages/autogluon/common/features/infer_types.py:118: UserWarning: Could not infer format, so each element will be parsed individually, falling back to `dateutil`. To ensure parsing is consistent and as-expected, please specify a format.\n",
      "  result = pd.to_datetime(X, errors=\"coerce\")\n",
      "/home/cgb2/anaconda3/envs/mp/lib/python3.10/site-packages/autogluon/common/features/infer_types.py:118: UserWarning: Could not infer format, so each element will be parsed individually, falling back to `dateutil`. To ensure parsing is consistent and as-expected, please specify a format.\n",
      "  result = pd.to_datetime(X, errors=\"coerce\")\n",
      "/home/cgb2/anaconda3/envs/mp/lib/python3.10/site-packages/autogluon/common/features/infer_types.py:118: UserWarning: Could not infer format, so each element will be parsed individually, falling back to `dateutil`. To ensure parsing is consistent and as-expected, please specify a format.\n",
      "  result = pd.to_datetime(X, errors=\"coerce\")\n",
      "/home/cgb2/anaconda3/envs/mp/lib/python3.10/site-packages/autogluon/common/features/infer_types.py:118: UserWarning: Could not infer format, so each element will be parsed individually, falling back to `dateutil`. To ensure parsing is consistent and as-expected, please specify a format.\n",
      "  result = pd.to_datetime(X, errors=\"coerce\")\n",
      "/home/cgb2/anaconda3/envs/mp/lib/python3.10/site-packages/autogluon/common/features/infer_types.py:118: UserWarning: Could not infer format, so each element will be parsed individually, falling back to `dateutil`. To ensure parsing is consistent and as-expected, please specify a format.\n",
      "  result = pd.to_datetime(X, errors=\"coerce\")\n",
      "\tStage 1 Generators:\n",
      "\t\tFitting AsTypeFeatureGenerator...\n",
      "\t\t\tNote: Converting 1 features to boolean dtype as they only contain 2 unique values.\n",
      "\tStage 2 Generators:\n",
      "\t\tFitting FillNaFeatureGenerator...\n",
      "\tStage 3 Generators:\n",
      "\t\tFitting IdentityFeatureGenerator...\n",
      "\t\tFitting CategoryFeatureGenerator...\n",
      "\t\t\tFitting CategoryMemoryMinimizeFeatureGenerator...\n",
      "\t\tFitting TextSpecialFeatureGenerator...\n",
      "\t\t\tFitting BinnedFeatureGenerator...\n",
      "\t\t\tFitting DropDuplicatesFeatureGenerator...\n",
      "\t\tFitting TextNgramFeatureGenerator...\n",
      "\t\t\tFitting CountVectorizer for text features: ['Name']\n",
      "\t\t\tCountVectorizer fit with vocabulary size = 8\n",
      "\tStage 4 Generators:\n",
      "\t\tFitting DropUniqueFeatureGenerator...\n",
      "\tStage 5 Generators:\n",
      "\t\tFitting DropDuplicatesFeatureGenerator...\n",
      "\tTypes of features in original data (raw dtype, special dtypes):\n",
      "\t\t('float', [])        : 2 | ['Age', 'Fare']\n",
      "\t\t('int', [])          : 4 | ['PassengerId', 'Pclass', 'SibSp', 'Parch']\n",
      "\t\t('object', [])       : 4 | ['Sex', 'Ticket', 'Cabin', 'Embarked']\n",
      "\t\t('object', ['text']) : 1 | ['Name']\n",
      "\tTypes of features in processed data (raw dtype, special dtypes):\n",
      "\t\t('category', [])                    : 3 | ['Ticket', 'Cabin', 'Embarked']\n",
      "\t\t('float', [])                       : 2 | ['Age', 'Fare']\n",
      "\t\t('int', [])                         : 4 | ['PassengerId', 'Pclass', 'SibSp', 'Parch']\n",
      "\t\t('int', ['binned', 'text_special']) : 9 | ['Name.char_count', 'Name.word_count', 'Name.capital_ratio', 'Name.lower_ratio', 'Name.special_ratio', ...]\n",
      "\t\t('int', ['bool'])                   : 1 | ['Sex']\n",
      "\t\t('int', ['text_ngram'])             : 9 | ['__nlp__.henry', '__nlp__.john', '__nlp__.master', '__nlp__.miss', '__nlp__.mr', ...]\n",
      "\t0.1s = Fit runtime\n",
      "\t11 features in original data used to generate 28 features in processed data.\n",
      "\tTrain Data (Processed) Memory Usage: 0.07 MB (0.0% of available memory)\n",
      "Data preprocessing and feature engineering runtime = 0.16s ...\n",
      "AutoGluon will gauge predictive performance using evaluation metric: 'accuracy'\n",
      "\tTo change this, specify the eval_metric parameter of Predictor()\n",
      "User-specified model hyperparameters to be fit:\n",
      "{\n",
      "\t'NN_TORCH': {},\n",
      "\t'GBM': [{'extra_trees': True, 'ag_args': {'name_suffix': 'XT'}}, {}, 'GBMLarge'],\n",
      "\t'CAT': {},\n",
      "\t'XGB': {},\n",
      "\t'FASTAI': {},\n",
      "\t'RF': [{'criterion': 'gini', 'ag_args': {'name_suffix': 'Gini', 'problem_types': ['binary', 'multiclass']}}, {'criterion': 'entropy', 'ag_args': {'name_suffix': 'Entr', 'problem_types': ['binary', 'multiclass']}}, {'criterion': 'squared_error', 'ag_args': {'name_suffix': 'MSE', 'problem_types': ['regression', 'quantile']}}],\n",
      "\t'XT': [{'criterion': 'gini', 'ag_args': {'name_suffix': 'Gini', 'problem_types': ['binary', 'multiclass']}}, {'criterion': 'entropy', 'ag_args': {'name_suffix': 'Entr', 'problem_types': ['binary', 'multiclass']}}, {'criterion': 'squared_error', 'ag_args': {'name_suffix': 'MSE', 'problem_types': ['regression', 'quantile']}}],\n",
      "\t'KNN': [{'weights': 'uniform', 'ag_args': {'name_suffix': 'Unif'}}, {'weights': 'distance', 'ag_args': {'name_suffix': 'Dist'}}],\n",
      "}\n",
      "Fitting 13 L1 models ...\n",
      "Fitting model: KNeighborsUnif_BAG_L1 ...\n",
      "\t0.6319\t = Validation score   (accuracy)\n",
      "\t0.0s\t = Training   runtime\n",
      "\t0.0s\t = Validation runtime\n",
      "Fitting model: KNeighborsDist_BAG_L1 ...\n",
      "\t0.6364\t = Validation score   (accuracy)\n",
      "\t0.0s\t = Training   runtime\n",
      "\t0.0s\t = Validation runtime\n",
      "Fitting model: LightGBMXT_BAG_L1 ...\n",
      "\tFitting 8 child models (S1F1 - S1F8) | Fitting with ParallelLocalFoldFittingStrategy\n",
      "\t0.835\t = Validation score   (accuracy)\n",
      "\t0.46s\t = Training   runtime\n",
      "\t0.03s\t = Validation runtime\n",
      "Fitting model: LightGBM_BAG_L1 ...\n",
      "\tFitting 8 child models (S1F1 - S1F8) | Fitting with ParallelLocalFoldFittingStrategy\n",
      "\t0.8406\t = Validation score   (accuracy)\n",
      "\t0.65s\t = Training   runtime\n",
      "\t0.03s\t = Validation runtime\n",
      "Fitting model: RandomForestGini_BAG_L1 ...\n",
      "\t0.8373\t = Validation score   (accuracy)\n",
      "\t0.34s\t = Training   runtime\n",
      "\t0.09s\t = Validation runtime\n",
      "Fitting model: RandomForestEntr_BAG_L1 ...\n",
      "\t0.8361\t = Validation score   (accuracy)\n",
      "\t0.34s\t = Training   runtime\n",
      "\t0.08s\t = Validation runtime\n",
      "Fitting model: CatBoost_BAG_L1 ...\n",
      "\tFitting 8 child models (S1F1 - S1F8) | Fitting with ParallelLocalFoldFittingStrategy\n",
      "\t0.8608\t = Validation score   (accuracy)\n",
      "\t1.85s\t = Training   runtime\n",
      "\t0.03s\t = Validation runtime\n",
      "Fitting model: ExtraTreesGini_BAG_L1 ...\n",
      "\t0.8294\t = Validation score   (accuracy)\n",
      "\t0.58s\t = Training   runtime\n",
      "\t0.1s\t = Validation runtime\n",
      "Fitting model: ExtraTreesEntr_BAG_L1 ...\n",
      "\t0.8328\t = Validation score   (accuracy)\n",
      "\t0.3s\t = Training   runtime\n",
      "\t0.07s\t = Validation runtime\n",
      "Fitting model: NeuralNetFastAI_BAG_L1 ...\n",
      "\tFitting 8 child models (S1F1 - S1F8) | Fitting with ParallelLocalFoldFittingStrategy\n",
      "\t0.8507\t = Validation score   (accuracy)\n",
      "\t2.85s\t = Training   runtime\n",
      "\t0.09s\t = Validation runtime\n",
      "Fitting model: XGBoost_BAG_L1 ...\n",
      "\tFitting 8 child models (S1F1 - S1F8) | Fitting with ParallelLocalFoldFittingStrategy\n",
      "\t0.8406\t = Validation score   (accuracy)\n",
      "\t1.09s\t = Training   runtime\n",
      "\t0.05s\t = Validation runtime\n",
      "Fitting model: NeuralNetTorch_BAG_L1 ...\n",
      "\tFitting 8 child models (S1F1 - S1F8) | Fitting with ParallelLocalFoldFittingStrategy\n",
      "\t0.8406\t = Validation score   (accuracy)\n",
      "\t4.25s\t = Training   runtime\n",
      "\t0.1s\t = Validation runtime\n",
      "Fitting model: LightGBMLarge_BAG_L1 ...\n",
      "\tFitting 8 child models (S1F1 - S1F8) | Fitting with ParallelLocalFoldFittingStrategy\n",
      "\t0.8406\t = Validation score   (accuracy)\n",
      "\t1.36s\t = Training   runtime\n",
      "\t0.03s\t = Validation runtime\n",
      "Fitting model: WeightedEnsemble_L2 ...\n",
      "\t0.8608\t = Validation score   (accuracy)\n",
      "\t0.4s\t = Training   runtime\n",
      "\t0.0s\t = Validation runtime\n",
      "AutoGluon training complete, total runtime = 23.18s ... Best model: \"WeightedEnsemble_L2\"\n",
      "TabularPredictor saved. To load, use: predictor = TabularPredictor.load(\"AutogluonModels/ag-20230912_120554/\")\n"
     ]
    },
    {
     "data": {
      "text/plain": [
       "<autogluon.tabular.predictor.predictor.TabularPredictor at 0x7f46e583f8e0>"
      ]
     },
     "execution_count": 21,
     "metadata": {},
     "output_type": "execute_result"
    }
   ],
   "source": [
    "predictr.fit(tr,presets='best_quality') # 학생(predictr)에게 문제(tr)를 줘서 학습을 시킴(predictr.fit())"
   ]
  },
  {
   "cell_type": "markdown",
   "id": "67214625-1968-4062-8712-d4b890114476",
   "metadata": {},
   "source": [
    "`-` 리더보드확인 (모의고사채점)"
   ]
  },
  {
   "cell_type": "code",
   "execution_count": 22,
   "id": "174c297f-09ab-4fab-8b6a-c1b5f5cc5244",
   "metadata": {},
   "outputs": [
    {
     "name": "stdout",
     "output_type": "stream",
     "text": [
      "                      model  score_val  pred_time_val  fit_time  pred_time_val_marginal  fit_time_marginal  stack_level  can_infer  fit_order\n",
      "0           CatBoost_BAG_L1   0.860831       0.026401  1.851676                0.026401           1.851676            1       True          7\n",
      "1       WeightedEnsemble_L2   0.860831       0.027539  2.251745                0.001138           0.400069            2       True         14\n",
      "2    NeuralNetFastAI_BAG_L1   0.850730       0.093112  2.852662                0.093112           2.852662            1       True         10\n",
      "3      LightGBMLarge_BAG_L1   0.840629       0.029128  1.360948                0.029128           1.360948            1       True         13\n",
      "4           LightGBM_BAG_L1   0.840629       0.031956  0.654864                0.031956           0.654864            1       True          4\n",
      "5            XGBoost_BAG_L1   0.840629       0.048379  1.094147                0.048379           1.094147            1       True         11\n",
      "6     NeuralNetTorch_BAG_L1   0.840629       0.102560  4.247738                0.102560           4.247738            1       True         12\n",
      "7   RandomForestGini_BAG_L1   0.837262       0.088506  0.341183                0.088506           0.341183            1       True          5\n",
      "8   RandomForestEntr_BAG_L1   0.836139       0.081470  0.341543                0.081470           0.341543            1       True          6\n",
      "9         LightGBMXT_BAG_L1   0.835017       0.027167  0.462362                0.027167           0.462362            1       True          3\n",
      "10    ExtraTreesEntr_BAG_L1   0.832772       0.073440  0.297061                0.073440           0.297061            1       True          9\n",
      "11    ExtraTreesGini_BAG_L1   0.829405       0.097789  0.580898                0.097789           0.580898            1       True          8\n",
      "12    KNeighborsDist_BAG_L1   0.636364       0.001740  0.003219                0.001740           0.003219            1       True          2\n",
      "13    KNeighborsUnif_BAG_L1   0.631874       0.001945  0.003195                0.001945           0.003195            1       True          1\n"
     ]
    },
    {
     "data": {
      "text/html": [
       "<div>\n",
       "<style scoped>\n",
       "    .dataframe tbody tr th:only-of-type {\n",
       "        vertical-align: middle;\n",
       "    }\n",
       "\n",
       "    .dataframe tbody tr th {\n",
       "        vertical-align: top;\n",
       "    }\n",
       "\n",
       "    .dataframe thead th {\n",
       "        text-align: right;\n",
       "    }\n",
       "</style>\n",
       "<table border=\"1\" class=\"dataframe\">\n",
       "  <thead>\n",
       "    <tr style=\"text-align: right;\">\n",
       "      <th></th>\n",
       "      <th>model</th>\n",
       "      <th>score_val</th>\n",
       "      <th>pred_time_val</th>\n",
       "      <th>fit_time</th>\n",
       "      <th>pred_time_val_marginal</th>\n",
       "      <th>fit_time_marginal</th>\n",
       "      <th>stack_level</th>\n",
       "      <th>can_infer</th>\n",
       "      <th>fit_order</th>\n",
       "    </tr>\n",
       "  </thead>\n",
       "  <tbody>\n",
       "    <tr>\n",
       "      <th>0</th>\n",
       "      <td>CatBoost_BAG_L1</td>\n",
       "      <td>0.860831</td>\n",
       "      <td>0.026401</td>\n",
       "      <td>1.851676</td>\n",
       "      <td>0.026401</td>\n",
       "      <td>1.851676</td>\n",
       "      <td>1</td>\n",
       "      <td>True</td>\n",
       "      <td>7</td>\n",
       "    </tr>\n",
       "    <tr>\n",
       "      <th>1</th>\n",
       "      <td>WeightedEnsemble_L2</td>\n",
       "      <td>0.860831</td>\n",
       "      <td>0.027539</td>\n",
       "      <td>2.251745</td>\n",
       "      <td>0.001138</td>\n",
       "      <td>0.400069</td>\n",
       "      <td>2</td>\n",
       "      <td>True</td>\n",
       "      <td>14</td>\n",
       "    </tr>\n",
       "    <tr>\n",
       "      <th>2</th>\n",
       "      <td>NeuralNetFastAI_BAG_L1</td>\n",
       "      <td>0.850730</td>\n",
       "      <td>0.093112</td>\n",
       "      <td>2.852662</td>\n",
       "      <td>0.093112</td>\n",
       "      <td>2.852662</td>\n",
       "      <td>1</td>\n",
       "      <td>True</td>\n",
       "      <td>10</td>\n",
       "    </tr>\n",
       "    <tr>\n",
       "      <th>3</th>\n",
       "      <td>LightGBMLarge_BAG_L1</td>\n",
       "      <td>0.840629</td>\n",
       "      <td>0.029128</td>\n",
       "      <td>1.360948</td>\n",
       "      <td>0.029128</td>\n",
       "      <td>1.360948</td>\n",
       "      <td>1</td>\n",
       "      <td>True</td>\n",
       "      <td>13</td>\n",
       "    </tr>\n",
       "    <tr>\n",
       "      <th>4</th>\n",
       "      <td>LightGBM_BAG_L1</td>\n",
       "      <td>0.840629</td>\n",
       "      <td>0.031956</td>\n",
       "      <td>0.654864</td>\n",
       "      <td>0.031956</td>\n",
       "      <td>0.654864</td>\n",
       "      <td>1</td>\n",
       "      <td>True</td>\n",
       "      <td>4</td>\n",
       "    </tr>\n",
       "    <tr>\n",
       "      <th>5</th>\n",
       "      <td>XGBoost_BAG_L1</td>\n",
       "      <td>0.840629</td>\n",
       "      <td>0.048379</td>\n",
       "      <td>1.094147</td>\n",
       "      <td>0.048379</td>\n",
       "      <td>1.094147</td>\n",
       "      <td>1</td>\n",
       "      <td>True</td>\n",
       "      <td>11</td>\n",
       "    </tr>\n",
       "    <tr>\n",
       "      <th>6</th>\n",
       "      <td>NeuralNetTorch_BAG_L1</td>\n",
       "      <td>0.840629</td>\n",
       "      <td>0.102560</td>\n",
       "      <td>4.247738</td>\n",
       "      <td>0.102560</td>\n",
       "      <td>4.247738</td>\n",
       "      <td>1</td>\n",
       "      <td>True</td>\n",
       "      <td>12</td>\n",
       "    </tr>\n",
       "    <tr>\n",
       "      <th>7</th>\n",
       "      <td>RandomForestGini_BAG_L1</td>\n",
       "      <td>0.837262</td>\n",
       "      <td>0.088506</td>\n",
       "      <td>0.341183</td>\n",
       "      <td>0.088506</td>\n",
       "      <td>0.341183</td>\n",
       "      <td>1</td>\n",
       "      <td>True</td>\n",
       "      <td>5</td>\n",
       "    </tr>\n",
       "    <tr>\n",
       "      <th>8</th>\n",
       "      <td>RandomForestEntr_BAG_L1</td>\n",
       "      <td>0.836139</td>\n",
       "      <td>0.081470</td>\n",
       "      <td>0.341543</td>\n",
       "      <td>0.081470</td>\n",
       "      <td>0.341543</td>\n",
       "      <td>1</td>\n",
       "      <td>True</td>\n",
       "      <td>6</td>\n",
       "    </tr>\n",
       "    <tr>\n",
       "      <th>9</th>\n",
       "      <td>LightGBMXT_BAG_L1</td>\n",
       "      <td>0.835017</td>\n",
       "      <td>0.027167</td>\n",
       "      <td>0.462362</td>\n",
       "      <td>0.027167</td>\n",
       "      <td>0.462362</td>\n",
       "      <td>1</td>\n",
       "      <td>True</td>\n",
       "      <td>3</td>\n",
       "    </tr>\n",
       "    <tr>\n",
       "      <th>10</th>\n",
       "      <td>ExtraTreesEntr_BAG_L1</td>\n",
       "      <td>0.832772</td>\n",
       "      <td>0.073440</td>\n",
       "      <td>0.297061</td>\n",
       "      <td>0.073440</td>\n",
       "      <td>0.297061</td>\n",
       "      <td>1</td>\n",
       "      <td>True</td>\n",
       "      <td>9</td>\n",
       "    </tr>\n",
       "    <tr>\n",
       "      <th>11</th>\n",
       "      <td>ExtraTreesGini_BAG_L1</td>\n",
       "      <td>0.829405</td>\n",
       "      <td>0.097789</td>\n",
       "      <td>0.580898</td>\n",
       "      <td>0.097789</td>\n",
       "      <td>0.580898</td>\n",
       "      <td>1</td>\n",
       "      <td>True</td>\n",
       "      <td>8</td>\n",
       "    </tr>\n",
       "    <tr>\n",
       "      <th>12</th>\n",
       "      <td>KNeighborsDist_BAG_L1</td>\n",
       "      <td>0.636364</td>\n",
       "      <td>0.001740</td>\n",
       "      <td>0.003219</td>\n",
       "      <td>0.001740</td>\n",
       "      <td>0.003219</td>\n",
       "      <td>1</td>\n",
       "      <td>True</td>\n",
       "      <td>2</td>\n",
       "    </tr>\n",
       "    <tr>\n",
       "      <th>13</th>\n",
       "      <td>KNeighborsUnif_BAG_L1</td>\n",
       "      <td>0.631874</td>\n",
       "      <td>0.001945</td>\n",
       "      <td>0.003195</td>\n",
       "      <td>0.001945</td>\n",
       "      <td>0.003195</td>\n",
       "      <td>1</td>\n",
       "      <td>True</td>\n",
       "      <td>1</td>\n",
       "    </tr>\n",
       "  </tbody>\n",
       "</table>\n",
       "</div>"
      ],
      "text/plain": [
       "                      model  score_val  pred_time_val  fit_time  \\\n",
       "0           CatBoost_BAG_L1   0.860831       0.026401  1.851676   \n",
       "1       WeightedEnsemble_L2   0.860831       0.027539  2.251745   \n",
       "2    NeuralNetFastAI_BAG_L1   0.850730       0.093112  2.852662   \n",
       "3      LightGBMLarge_BAG_L1   0.840629       0.029128  1.360948   \n",
       "4           LightGBM_BAG_L1   0.840629       0.031956  0.654864   \n",
       "5            XGBoost_BAG_L1   0.840629       0.048379  1.094147   \n",
       "6     NeuralNetTorch_BAG_L1   0.840629       0.102560  4.247738   \n",
       "7   RandomForestGini_BAG_L1   0.837262       0.088506  0.341183   \n",
       "8   RandomForestEntr_BAG_L1   0.836139       0.081470  0.341543   \n",
       "9         LightGBMXT_BAG_L1   0.835017       0.027167  0.462362   \n",
       "10    ExtraTreesEntr_BAG_L1   0.832772       0.073440  0.297061   \n",
       "11    ExtraTreesGini_BAG_L1   0.829405       0.097789  0.580898   \n",
       "12    KNeighborsDist_BAG_L1   0.636364       0.001740  0.003219   \n",
       "13    KNeighborsUnif_BAG_L1   0.631874       0.001945  0.003195   \n",
       "\n",
       "    pred_time_val_marginal  fit_time_marginal  stack_level  can_infer  \\\n",
       "0                 0.026401           1.851676            1       True   \n",
       "1                 0.001138           0.400069            2       True   \n",
       "2                 0.093112           2.852662            1       True   \n",
       "3                 0.029128           1.360948            1       True   \n",
       "4                 0.031956           0.654864            1       True   \n",
       "5                 0.048379           1.094147            1       True   \n",
       "6                 0.102560           4.247738            1       True   \n",
       "7                 0.088506           0.341183            1       True   \n",
       "8                 0.081470           0.341543            1       True   \n",
       "9                 0.027167           0.462362            1       True   \n",
       "10                0.073440           0.297061            1       True   \n",
       "11                0.097789           0.580898            1       True   \n",
       "12                0.001740           0.003219            1       True   \n",
       "13                0.001945           0.003195            1       True   \n",
       "\n",
       "    fit_order  \n",
       "0           7  \n",
       "1          14  \n",
       "2          10  \n",
       "3          13  \n",
       "4           4  \n",
       "5          11  \n",
       "6          12  \n",
       "7           5  \n",
       "8           6  \n",
       "9           3  \n",
       "10          9  \n",
       "11          8  \n",
       "12          2  \n",
       "13          1  "
      ]
     },
     "execution_count": 22,
     "metadata": {},
     "output_type": "execute_result"
    }
   ],
   "source": [
    "predictr.leaderboard()"
   ]
  },
  {
   "cell_type": "markdown",
   "id": "de654914-4b0d-49ec-9ba1-569b8e917e20",
   "metadata": {},
   "source": [
    "## D. 예측 (predict)"
   ]
  },
  {
   "cell_type": "markdown",
   "id": "05f618a5-9d33-4ad0-802a-3cb1112e3e19",
   "metadata": {},
   "source": [
    "`-` 비유: 학습이후에 문제를 푸는 과정으로 비유할 수 있다."
   ]
  },
  {
   "cell_type": "markdown",
   "id": "0f1c30de-468b-461b-a377-6fa78815134d",
   "metadata": {},
   "source": [
    "`-` training set 을 풀어봄 (predict) $\\to$ 점수 확인 "
   ]
  },
  {
   "cell_type": "code",
   "execution_count": 24,
   "id": "63dde064-62d6-4b36-bade-c3826d031584",
   "metadata": {},
   "outputs": [
    {
     "data": {
      "text/plain": [
       "0.898989898989899"
      ]
     },
     "execution_count": 24,
     "metadata": {},
     "output_type": "execute_result"
    }
   ],
   "source": [
    "(tr.Survived == predictr.predict(tr)).mean()"
   ]
  },
  {
   "cell_type": "markdown",
   "id": "c85b091d-dbe6-44ac-9c7d-4954d9e99a44",
   "metadata": {},
   "source": [
    "`-` test set 을 풀어봄 (predict) $\\to$ 점수 확인 하러 캐글에 결과제출 "
   ]
  },
  {
   "cell_type": "code",
   "execution_count": 12,
   "id": "767c5239-4ba5-4a43-873b-dd1575ef8954",
   "metadata": {},
   "outputs": [],
   "source": [
    "tst.assign(Survived = predictr.predict(tst)).loc[:,['PassengerId','Survived']]\\\n",
    ".to_csv(\"autogluon(best_quality)_submission.csv\",index=False)"
   ]
  },
  {
   "cell_type": "markdown",
   "id": "4ff7fab7-c380-4e13-9238-1d9267942503",
   "metadata": {},
   "source": [
    "# 3. 숙제"
   ]
  },
  {
   "cell_type": "markdown",
   "id": "5b498190-fb33-4b73-a64d-861a94f7e8bd",
   "metadata": {},
   "source": [
    "`-` 캐글에 제출한 결과를 캡쳐하여 LMS에 제출"
   ]
  }
 ],
 "metadata": {
  "kernelspec": {
   "display_name": "Python 3 (ipykernel)",
   "language": "python",
   "name": "python3"
  },
  "language_info": {
   "codemirror_mode": {
    "name": "ipython",
    "version": 3
   },
   "file_extension": ".py",
   "mimetype": "text/x-python",
   "name": "python",
   "nbconvert_exporter": "python",
   "pygments_lexer": "ipython3",
   "version": "3.10.12"
  }
 },
 "nbformat": 4,
 "nbformat_minor": 5
}
