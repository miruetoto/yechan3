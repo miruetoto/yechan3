{
 "cells": [
  {
   "cell_type": "raw",
   "id": "c99794cc-461a-45cd-a975-bacb7163c1df",
   "metadata": {},
   "source": [
    "---\n",
    "title: \"02wk-008: Autogluon, Fit\"\n",
    "author: \"최규빈\"\n",
    "date: \"09/12/2023\"\n",
    "bibliography: mpref.bib\n",
    "---"
   ]
  },
  {
   "cell_type": "markdown",
   "id": "86cfa147-93e5-4e6a-ae40-f5a09f3103b4",
   "metadata": {},
   "source": [
    "# 1. Autogluon "
   ]
  },
  {
   "cell_type": "code",
   "execution_count": null,
   "id": "b6f0e066-38d3-49c0-a0e9-6ca8ae9ae3bc",
   "metadata": {},
   "outputs": [],
   "source": []
  }
 ],
 "metadata": {
  "kernelspec": {
   "display_name": "Python 3 (ipykernel)",
   "language": "python",
   "name": "python3"
  },
  "language_info": {
   "codemirror_mode": {
    "name": "ipython",
    "version": 3
   },
   "file_extension": ".py",
   "mimetype": "text/x-python",
   "name": "python",
   "nbconvert_exporter": "python",
   "pygments_lexer": "ipython3",
   "version": "3.11.4"
  }
 },
 "nbformat": 4,
 "nbformat_minor": 5
}
