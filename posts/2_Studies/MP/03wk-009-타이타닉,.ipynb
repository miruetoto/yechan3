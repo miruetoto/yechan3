{
 "cells": [
  {
   "cell_type": "raw",
   "id": "bf9d15c2-b720-4f7e-a78c-1e039cc19bf8",
   "metadata": {},
   "source": [
    "---\n",
    "title: \"02wk-009: 타이타닉, \"\n",
    "author: \"최규빈\"\n",
    "date: \"09/12/2023\"\n",
    "bibliography: ref.bib\n",
    "---"
   ]
  },
  {
   "cell_type": "code",
   "execution_count": null,
   "id": "9b2c0333-d6f0-4b07-9964-bb170983e41c",
   "metadata": {},
   "outputs": [],
   "source": []
  }
 ],
 "metadata": {
  "kernelspec": {
   "display_name": "Python 3 (ipykernel)",
   "language": "python",
   "name": "python3"
  },
  "language_info": {
   "codemirror_mode": {
    "name": "ipython",
    "version": 3
   },
   "file_extension": ".py",
   "mimetype": "text/x-python",
   "name": "python",
   "nbconvert_exporter": "python",
   "pygments_lexer": "ipython3",
   "version": "3.10.12"
  }
 },
 "nbformat": 4,
 "nbformat_minor": 5
}
