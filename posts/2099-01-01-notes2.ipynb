{
 "cells": [
  {
   "cell_type": "raw",
   "id": "9c7a4f4d-1009-41be-b1a9-57e5d3ebf038",
   "metadata": {},
   "source": [
    "---\n",
    "title: \"연습장2\"\n",
    "author: \"신록예찬\"\n",
    "date: \"01/01/2099\"\n",
    "---"
   ]
  },
  {
   "cell_type": "markdown",
   "id": "9be87740-d906-4f11-a7ac-ce41156c8549",
   "metadata": {},
   "source": [
    "# imports "
   ]
  },
  {
   "cell_type": "code",
   "execution_count": 40,
   "id": "7105ed99-acc2-4a66-9601-e6e2461451a3",
   "metadata": {},
   "outputs": [],
   "source": [
    "import numpy as np\n",
    "import matplotlib.pyplot as plt\n",
    "import scipy"
   ]
  },
  {
   "cell_type": "markdown",
   "id": "1e4d7002-3852-4ef7-88bb-1cdeddcf3d2a",
   "metadata": {},
   "source": [
    "# 약간의 이론 "
   ]
  },
  {
   "cell_type": "markdown",
   "id": "8ab25adc-47a9-482a-b755-ee583d9e9006",
   "metadata": {},
   "source": [
    "`-` **이론**: $\\{X_t\\}$가 IRR-HMC^[irreducible 한 homogeneous markov chain] 라고 하자. \n",
    "\n",
    "1. 만약에 $\\{X_t\\}$가 정상분포를 가진다면 그 정상분포는 유일한 정상분포이다. \n",
    "2. 1이 성립한다면 $\\{X_t\\}$는 positive recurrent HMC가 된다.^[IRR-HMC 에서는 PR 조건과 $\\exists! {\\boldsymbol \\pi}$ 조건이 동치이므로.]\n",
    "3. $\\{X_t\\}$는 IRR-PR-HMC 이므로 주기를 논의할 수 있다.^[주기를 논의할 수 있는 이유는 모든 상태가 recurrent 하므로.] 만약에 $\\{X_t\\}$가 aperiodic 이면^[즉 모든 상태에 대한 주기가 1이라면.] $\\{X_t\\}$는 에르고딕 마코프체인이 된다. \n",
    "4. 따라서 이 경우는 $\\bar{\\boldsymbol \\pi} \\to {\\boldsymbol \\pi} = {\\bf p}_{\\star}$ 가 성립한다. (***nice case***)"
   ]
  },
  {
   "cell_type": "markdown",
   "id": "25a06410-13d7-4cc2-8471-623218f23333",
   "metadata": {},
   "source": [
    "`-` 무기: $\\{X_t\\}$가 IRR-HMC라고 할때 (1) 어떠한 방식으로든 정상분포가 존재함을 보이고 (유일함을 보이지 않더라도 유일해짐) (2) AP 임을 보이면 ***nice case***가 된다. "
   ]
  },
  {
   "cell_type": "markdown",
   "id": "86ae4067-eaae-4c8c-9097-66b6b3658414",
   "metadata": {},
   "source": [
    "> 사실상 periodicity는 $\\frac{1}{2}({\\bf P} + {\\bf I})$ 와 같은 방식으로 쉽게 kill 할 수 있으므로 \"$\\exists {\\boldsymbol \\pi}$\"를 보이면 ***nice case*** 를 만들수 있다고 봐야함. "
   ]
  },
  {
   "cell_type": "markdown",
   "id": "1a8b6061-29e0-4626-bd14-9d8e8a2c49f3",
   "metadata": {},
   "source": [
    "`-` **Thm**: $\\{X_t\\}$가 IRR-HMC라고 하고 ${\\bf P}$ 가 $\\{X_t\\}$의 transition matrix (혹은 그 비슷한 것) 이라고 하자. 분포의 정의를 만족하는 어떠한 벡터 ${\\boldsymbol \\mu}$가 아래의 조건을 만족한다면 \n",
    "\n",
    "$$\\forall i,j \\in E:~\\mu_ip_{ij} = \\mu_jp_{ji} \\quad \\quad \\cdots (\\star)$$\n",
    "\n"
   ]
  },
  {
   "cell_type": "markdown",
   "id": "2c2ead29-8d6d-4f04-97f5-7962b53209d7",
   "metadata": {},
   "source": [
    "벡터 ${\\boldsymbol \\mu}$는 정상분포이다. 즉 아래가 성립한다. "
   ]
  },
  {
   "cell_type": "markdown",
   "id": "b9c5dec9-6745-4f0e-8586-b0e79204fd4d",
   "metadata": {},
   "source": [
    "$${\\boldsymbol \\mu}^\\top {\\bf P} = {\\boldsymbol \\mu}^\\top$$"
   ]
  },
  {
   "cell_type": "markdown",
   "id": "70b99995-3dfa-4a95-b984-33bd68bf86bc",
   "metadata": {},
   "source": [
    "단 여기에서 편의상 아래와 같이 생각하자.\n",
    "\n",
    "- ${\\boldsymbol \\mu}^\\top = [\\mu_0,\\mu_1,\\dots]$\n",
    "\n",
    "- ${\\bf P} = \\begin{bmatrix} p_{00} & p_{01} & \\dots \\\\ p_{10} & p_{11} & \\dots \\\\ \\dots & \\dots & \\dots \\end{bmatrix}$ "
   ]
  },
  {
   "cell_type": "markdown",
   "id": "4e1a097b-9e38-4163-bf34-47dae0dbe271",
   "metadata": {},
   "source": [
    "# Toy Example"
   ]
  },
  {
   "cell_type": "markdown",
   "id": "715249d8-31a7-4971-bc7e-240c8786853a",
   "metadata": {},
   "source": [
    "`-` 예시1: 아래와 같은 transition matrix 를 고려하자. (08wk-1에서 소개된 예제임)"
   ]
  },
  {
   "cell_type": "code",
   "execution_count": 2,
   "id": "61070254-c97a-4681-8269-3cd82668f103",
   "metadata": {},
   "outputs": [
    {
     "data": {
      "text/plain": [
       "array([[0.4, 0.6],\n",
       "       [0.9, 0.1]])"
      ]
     },
     "execution_count": 2,
     "metadata": {},
     "output_type": "execute_result"
    }
   ],
   "source": [
    "P = np.array([[0.4,0.6],\n",
    "              [0.9,0.1]])\n",
    "P"
   ]
  },
  {
   "cell_type": "markdown",
   "id": "d9ab9ddb-0587-4a2a-b9ae-cb528d2c4d7d",
   "metadata": {},
   "source": [
    "아래와 같은 벡터를 고려하자. "
   ]
  },
  {
   "cell_type": "code",
   "execution_count": 3,
   "id": "4610475c-50fd-46fa-bf2e-62d3335f770f",
   "metadata": {},
   "outputs": [
    {
     "data": {
      "text/plain": [
       "array([[0.6],\n",
       "       [0.4]])"
      ]
     },
     "execution_count": 3,
     "metadata": {},
     "output_type": "execute_result"
    }
   ],
   "source": [
    "π = np.array([[0.6],[0.4]])\n",
    "π"
   ]
  },
  {
   "cell_type": "markdown",
   "id": "7aca1150-552f-4dd5-b7d9-120089c8e86b",
   "metadata": {},
   "source": [
    "아래를 체크해보자."
   ]
  },
  {
   "cell_type": "code",
   "execution_count": 4,
   "id": "6753fd3f-39bf-4690-a8c1-57942df699a1",
   "metadata": {},
   "outputs": [
    {
     "data": {
      "text/plain": [
       "(array([0.24]), array([0.24]))"
      ]
     },
     "execution_count": 4,
     "metadata": {},
     "output_type": "execute_result"
    }
   ],
   "source": [
    "π[0]*P[0,0],π[0]*P[0,0]"
   ]
  },
  {
   "cell_type": "code",
   "execution_count": 5,
   "id": "1c88903d-568d-4296-b93b-0c1acd1b3560",
   "metadata": {},
   "outputs": [
    {
     "data": {
      "text/plain": [
       "(array([0.36]), array([0.36]))"
      ]
     },
     "execution_count": 5,
     "metadata": {},
     "output_type": "execute_result"
    }
   ],
   "source": [
    "π[0]*P[0,1],π[1]*P[1,0]"
   ]
  },
  {
   "cell_type": "code",
   "execution_count": 6,
   "id": "5c79a278-4829-4aa1-a695-129d8357f7ea",
   "metadata": {},
   "outputs": [
    {
     "data": {
      "text/plain": [
       "(array([0.36]), array([0.36]))"
      ]
     },
     "execution_count": 6,
     "metadata": {},
     "output_type": "execute_result"
    }
   ],
   "source": [
    "π[1]*P[1,0],π[0]*P[0,1]"
   ]
  },
  {
   "cell_type": "code",
   "execution_count": 7,
   "id": "554683f7-fdd8-40cb-9d16-d666956d6c0c",
   "metadata": {},
   "outputs": [
    {
     "data": {
      "text/plain": [
       "(array([0.04]), array([0.04]))"
      ]
     },
     "execution_count": 7,
     "metadata": {},
     "output_type": "execute_result"
    }
   ],
   "source": [
    "π[1]*P[1,1],π[1]*P[1,1]"
   ]
  },
  {
   "cell_type": "markdown",
   "id": "34ffcf13-bc08-4ec5-b7fe-50172852b2f3",
   "metadata": {},
   "source": [
    "이론에 의하여 아래의 벡터는 정상분포임을 알 수 있다. (또한 이 예제의 경우 IRR-HMC 이므로 이 정상분포는 유일하다. 그리고 PR이다. 또 따져보니까 이 마코프체인은 AP이므로 결국에는 에르고딕 마코프체인이 된다.)"
   ]
  },
  {
   "cell_type": "markdown",
   "id": "b5fb096b-c402-4855-9016-85c2b5601e2d",
   "metadata": {},
   "source": [
    "`-` 샘플링: 아래와 같은 분포 ${\\boldsymbol \\pi}^\\top$를 따르는 확률변수 $X$를 생성하고 싶다고 하자. \n",
    "\n",
    "|$X$|$0$|$1$|\n",
    "|:-:|:-:|:-:|\n",
    "|$\\mathbb{P}(X=k)$|$0.6$|$0.4$|"
   ]
  },
  {
   "cell_type": "markdown",
   "id": "f8d8ebcd-3504-4b1f-be45-f94976fa8604",
   "metadata": {},
   "source": [
    "그렇다면 아래와 같은 ${\\bf P}$ 에서 계속 샘플링을 하면 된다. "
   ]
  },
  {
   "cell_type": "code",
   "execution_count": 8,
   "id": "680f6095-a943-448d-937b-6f89586f9b03",
   "metadata": {},
   "outputs": [
    {
     "data": {
      "text/plain": [
       "array([[0.4, 0.6],\n",
       "       [0.9, 0.1]])"
      ]
     },
     "execution_count": 8,
     "metadata": {},
     "output_type": "execute_result"
    }
   ],
   "source": [
    "P"
   ]
  },
  {
   "cell_type": "code",
   "execution_count": 9,
   "id": "0be61c46-fa15-4b7e-a6d1-339220e9dfc7",
   "metadata": {},
   "outputs": [],
   "source": [
    "def rain(before):\n",
    "    if before == 0: \n",
    "        after = np.random.rand() < 0.6\n",
    "    else: \n",
    "        after = np.random.rand() < 0.1 \n",
    "    return after*1"
   ]
  },
  {
   "cell_type": "code",
   "execution_count": 10,
   "id": "5046753d-703a-4527-9f7b-6c04e16fb04d",
   "metadata": {},
   "outputs": [],
   "source": [
    "def doctor_strange(x0):\n",
    "    lst = [x0]\n",
    "    for t in range(10000): \n",
    "        lst.append(rain(lst[t]))\n",
    "    return lst "
   ]
  },
  {
   "cell_type": "code",
   "execution_count": 11,
   "id": "de1a82d2-afef-4401-a2f7-aa7f758a882f",
   "metadata": {},
   "outputs": [],
   "source": [
    "xx = doctor_strange(0)"
   ]
  },
  {
   "cell_type": "code",
   "execution_count": 12,
   "id": "65834947-68a3-40e8-b490-530ddeef6956",
   "metadata": {},
   "outputs": [
    {
     "data": {
      "image/png": "[encoded data removed]",
      "text/plain": [
       "<Figure size 432x288 with 1 Axes>"
      ]
     },
     "metadata": {
      "needs_background": "light"
     },
     "output_type": "display_data"
    }
   ],
   "source": [
    "plt.hist(xx,bins=100);"
   ]
  },
  {
   "cell_type": "markdown",
   "id": "cc65e335-cc26-43c5-81d3-60c2de0d16da",
   "metadata": {},
   "source": [
    "`-` 샘플링이 성공하는 이유? (당연한 것 같은데 그래도 써보면)"
   ]
  },
  {
   "cell_type": "markdown",
   "id": "16e1d119-b49f-4d4b-b69c-7edef10e34fb",
   "metadata": {},
   "source": [
    "아래와 같은 조건부확률에 따라 $X$에서 $X'$을 반복적으로 만들면 \n",
    "\n",
    "- $p_{00}=\\mathbb{P}(X'=0|X=0)=0.4$\n",
    "- $p_{01}=\\mathbb{P}(X'=1|X=0)=0.6$\n",
    "- $p_{10}=\\mathbb{P}(X'=0|X=1)=0.9$\n",
    "- $p_{11}=\\mathbb{P}(X'=1|X=1)=0.1$"
   ]
  },
  {
   "cell_type": "markdown",
   "id": "8361f485-78f4-44ad-8a3f-5cbf13f41fd0",
   "metadata": {},
   "source": [
    "결국 $X_{\\infty}$는 분포 ${\\boldsymbol \\pi}^\\top = [0.6,0.4]$ 를 pmf로 가진다.^[정상분포의 존재성은 IRR-PR에 의하여, ${\\bf X}_{\\infty}$의 분포가 셔플되지 않는다는 점은 AP에 의하여 보장받는다] 이러한 분포의 히스토그램은 원래 \n",
    "\n",
    "$$X_{\\infty}(\\omega_1),X_{\\infty}(\\omega_2),X_{\\infty}(\\omega_3),\\dots$$\n",
    "\n",
    "와 같은 샘플을 모아서 그려야 하지만 \n",
    "\n",
    "$$X_{T_0}(\\omega_1),X_{T_0+1}(\\omega_1),X_{T_0+2}(\\omega_1),\\dots$$\n",
    "\n",
    "와 같은 샘플을 모아서 그릴 수도 있다.^[$X_{T_0}(\\omega_1),X_{T_0+1}(\\omega_1),X_{T_0+2}(\\omega_1),\\dots$는 동일한 분포를 가집니다!] 여기에서 $T_0$는 적당히 큰 숫자이다. "
   ]
  },
  {
   "cell_type": "markdown",
   "id": "a6b5983b-ecbb-4886-8680-8d63d9abd5a5",
   "metadata": {},
   "source": [
    "`-` 주의: 물론 이 예제는 샘플링이 어렵지 않아서요, 아래와 같이 뽑아도 됩니다. "
   ]
  },
  {
   "cell_type": "code",
   "execution_count": 13,
   "id": "aa6bdeb7-5a37-4b3c-a25a-56306b567557",
   "metadata": {},
   "outputs": [
    {
     "data": {
      "text/plain": [
       "array([1, 0, 0, ..., 1, 0, 1])"
      ]
     },
     "execution_count": 13,
     "metadata": {},
     "output_type": "execute_result"
    }
   ],
   "source": [
    "(np.random.rand(10000)<0.4)*1"
   ]
  },
  {
   "cell_type": "markdown",
   "id": "49d65101-b490-4975-8ae9-3a0de9a16478",
   "metadata": {},
   "source": [
    "# MCMC "
   ]
  },
  {
   "cell_type": "markdown",
   "id": "8be66d94-f4a1-43c2-ab39-2fda9459daa8",
   "metadata": {},
   "source": [
    "## 샘플 추천 없이"
   ]
  },
  {
   "cell_type": "markdown",
   "id": "4b1fcca7-ecdf-41d4-acbf-120aaea9641d",
   "metadata": {},
   "source": [
    "`-` 모티브: 위의 예제에서 전이행렬이 꼭 아래와 같을 필요는 없는거 아니야? "
   ]
  },
  {
   "cell_type": "code",
   "execution_count": 14,
   "id": "753e9c1f-2797-42e8-b299-46d3f272759d",
   "metadata": {},
   "outputs": [
    {
     "data": {
      "text/plain": [
       "array([[0.4, 0.6],\n",
       "       [0.9, 0.1]])"
      ]
     },
     "execution_count": 14,
     "metadata": {},
     "output_type": "execute_result"
    }
   ],
   "source": [
    "P"
   ]
  },
  {
   "cell_type": "markdown",
   "id": "5f708460-faf8-4b9c-852f-a908d1a87764",
   "metadata": {},
   "source": [
    "`-` 샘플링: 아래와 같은 분포 ${\\boldsymbol \\pi}^\\top$를 따르는 확률변수 $X$를 생성하고 싶다고 하자. \n",
    "\n",
    "|$X$|$0$|$1$|\n",
    "|:-:|:-:|:-:|\n",
    "|$\\mathbb{P}(X=k)$|$0.6$|$0.4$|"
   ]
  },
  {
   "cell_type": "markdown",
   "id": "9bab6e2c-5033-4f9c-a0d3-73c8cdf07a37",
   "metadata": {},
   "source": [
    "이러한 정상분포를 가지는 에르고딕 마코프체인의 전이행렬 ${\\bf P}$를 역으로 설계해보자. "
   ]
  },
  {
   "cell_type": "code",
   "execution_count": 15,
   "id": "05c0497c-c382-42db-87ba-c692c3d173bc",
   "metadata": {},
   "outputs": [
    {
     "data": {
      "text/plain": [
       "array([[0.4, 0.6],\n",
       "       [0.4, 0.6]])"
      ]
     },
     "execution_count": 15,
     "metadata": {},
     "output_type": "execute_result"
    }
   ],
   "source": [
    "P = np.array([[0.4,0.6],\n",
    "              [0.4,0.6]])\n",
    "P"
   ]
  },
  {
   "cell_type": "markdown",
   "id": "897e6e8e-0e69-4933-b3eb-04f41acc1e91",
   "metadata": {},
   "source": [
    "`-` DBC 체크: 아래의 detailed balance condition을 만족하기만 하면 ${\\boldsymbol \\pi}$는 ${\\bf P}$에 의하여 유도되는 마코프체인의 정상분포라 주장할 수 있다. "
   ]
  },
  {
   "cell_type": "markdown",
   "id": "dbf449c6-cd8f-41b5-adc2-700ecfe378cb",
   "metadata": {},
   "source": [
    "$$\\forall i,j \\in E:~\\pi_i p_{ij} = \\pi_j p_{ji}$$"
   ]
  },
  {
   "cell_type": "markdown",
   "id": "61f57261-6962-43c6-bd00-008265325f71",
   "metadata": {},
   "source": [
    "이 예제의 경우 "
   ]
  },
  {
   "cell_type": "markdown",
   "id": "56687b60-b942-40cc-92ba-38033b245491",
   "metadata": {},
   "source": [
    "$$\\forall i,j \\in E:~\\pi_i \\pi_{j} = \\pi_j \\pi_{i}$$"
   ]
  },
  {
   "cell_type": "markdown",
   "id": "6b2b15d7-449d-4cef-962e-2c0fc3cd43a1",
   "metadata": {},
   "source": [
    "가 되므로 그냥 성립한다. "
   ]
  },
  {
   "cell_type": "markdown",
   "id": "f3683f1c-d7a5-4aed-88b5-0ca3e71cbc28",
   "metadata": {},
   "source": [
    "`-` 이 마코프체인은 FINITE-IRR 이므로 PR 이며 AP를 만족하므로 에르고딕 마코프체인이 된다. "
   ]
  },
  {
   "cell_type": "code",
   "execution_count": 16,
   "id": "49095324-4a3f-44fb-9432-61ce79da0929",
   "metadata": {},
   "outputs": [],
   "source": [
    "def doctor_strange(x0):\n",
    "    xx = [x0]\n",
    "    for i in range(10000): \n",
    "        _u = np.random.rand() \n",
    "        if _u < 0.4:\n",
    "            xx.append(1)\n",
    "        else:\n",
    "            xx.append(0)\n",
    "    return xx"
   ]
  },
  {
   "cell_type": "code",
   "execution_count": 17,
   "id": "7ee80e86-6aec-4c14-aa18-04bc3294f100",
   "metadata": {},
   "outputs": [],
   "source": [
    "xx = doctor_strange(0)"
   ]
  },
  {
   "cell_type": "code",
   "execution_count": 18,
   "id": "5d42cfec-fa0a-422c-af6f-f0b744bb5b96",
   "metadata": {},
   "outputs": [
    {
     "data": {
      "image/png": "[encoded data removed]",
      "text/plain": [
       "<Figure size 432x288 with 1 Axes>"
      ]
     },
     "metadata": {
      "needs_background": "light"
     },
     "output_type": "display_data"
    }
   ],
   "source": [
    "plt.hist(xx,bins=100);"
   ]
  },
  {
   "cell_type": "markdown",
   "id": "6dd96016-a155-4ec1-b49c-6c5e2e813392",
   "metadata": {},
   "source": [
    "`-` 이러한 방식은 유한차원으로 확장가능하다. (그런데 귀찮다)"
   ]
  },
  {
   "cell_type": "markdown",
   "id": "c74ff8eb-961f-446b-9e0d-9b206fab9f50",
   "metadata": {},
   "source": [
    "|$X$|$0$|$1$|$2$|\n",
    "|:-:|:-:|:-:|:-:|\n",
    "|$\\mathbb{P}(X=k)$|$0.6$|$0.2$|$0.2$"
   ]
  },
  {
   "cell_type": "code",
   "execution_count": 19,
   "id": "9ac7d82b-47ac-453e-8df9-cc49c5daed36",
   "metadata": {},
   "outputs": [],
   "source": [
    "def doctor_strange(x0):\n",
    "    xx = [x0]\n",
    "    for t in range(10000): \n",
    "        _u = np.random.rand() \n",
    "        if _u < 0.6:\n",
    "            xx.append(0)\n",
    "        elif _u < 0.8:\n",
    "            xx.append(1)\n",
    "        else:\n",
    "            xx.append(2)\n",
    "    return xx"
   ]
  },
  {
   "cell_type": "code",
   "execution_count": 20,
   "id": "ca03ddac-56ec-4e08-adbd-19dc5ee81aa3",
   "metadata": {},
   "outputs": [],
   "source": [
    "xx = doctor_strange(0)"
   ]
  },
  {
   "cell_type": "code",
   "execution_count": 21,
   "id": "f64978c8-afef-4458-98cc-f4f971d16f4b",
   "metadata": {},
   "outputs": [
    {
     "data": {
      "image/png": "[encoded data removed]",
      "text/plain": [
       "<Figure size 432x288 with 1 Axes>"
      ]
     },
     "metadata": {
      "needs_background": "light"
     },
     "output_type": "display_data"
    }
   ],
   "source": [
    "plt.hist(xx,bins=100);"
   ]
  },
  {
   "cell_type": "markdown",
   "id": "7ee17656-200f-45dd-82b0-396cddf7da61",
   "metadata": {},
   "source": [
    "## 샘플 추천 "
   ]
  },
  {
   "cell_type": "markdown",
   "id": "4102877a-b67f-4eb5-83c1-9d8ca40e81a7",
   "metadata": {},
   "source": [
    "`-` 아래의 분포를 고려하자. "
   ]
  },
  {
   "cell_type": "code",
   "execution_count": 22,
   "id": "60191b2b-3aaa-424d-a26d-2f03260ad15f",
   "metadata": {},
   "outputs": [
    {
     "data": {
      "text/plain": [
       "array([0.12977311, 0.00786117, 0.13310662, 0.09836388, 0.01944822,\n",
       "       0.01858917, 0.13959302, 0.15544153, 0.14440391, 0.15341937])"
      ]
     },
     "execution_count": 22,
     "metadata": {},
     "output_type": "execute_result"
    }
   ],
   "source": [
    "np.random.seed(43052)\n",
    "u=np.random.rand(10)\n",
    "π = u/u.sum()\n",
    "π"
   ]
  },
  {
   "cell_type": "code",
   "execution_count": 23,
   "id": "8c2ed58d-21b5-4838-8626-0245076dd33d",
   "metadata": {},
   "outputs": [
    {
     "data": {
      "text/plain": [
       "<StemContainer object of 3 artists>"
      ]
     },
     "execution_count": 23,
     "metadata": {},
     "output_type": "execute_result"
    },
    {
     "data": {
      "image/png": "[encoded data removed]",
      "text/plain": [
       "<Figure size 432x288 with 1 Axes>"
      ]
     },
     "metadata": {
      "needs_background": "light"
     },
     "output_type": "display_data"
    }
   ],
   "source": [
    "plt.stem(π)"
   ]
  },
  {
   "cell_type": "markdown",
   "id": "6dd3b89d-7f0a-4342-9086-4162f75457ca",
   "metadata": {},
   "source": [
    "`-` 이러한 분포에서 샘플을 뽑는 상황을 고려하자. \n",
    "\n",
    "- 위의 코드로는 못하겠다.\n",
    "- 다른 방법은 없을까? "
   ]
  },
  {
   "cell_type": "markdown",
   "id": "774ad764-3db9-4b8c-9d29-1397df13f3e2",
   "metadata": {},
   "source": [
    "> 그냥 저번시간 처럼하자. $x$에서 $x'$으로 가는 확률을 다 정의하지 말고, $x'$을 적당히 추천받고 옮겨탈지 아닐지 결정하자. "
   ]
  },
  {
   "cell_type": "markdown",
   "id": "7fe5c072-0093-4c44-a6e1-ce55156d171e",
   "metadata": {},
   "source": [
    "`-` 저번시간 테크닉: $X(\\omega_1)=x$가 주어졌을때 $X'(\\omega_1)=x'$을 뽑는 방법!\n",
    "    \n",
    "1. $x$가 주어졌다고 가정하자. \n",
    "2. $x'$의 후보로 $Y(\\omega^\\ast)=y$ 를 뽑는다. $Y \\sim {\\boldsymbol p}_Y:=[\\frac{1}{10},\\dots,\\frac{1}{10}]$\n",
    "3. $x'$으로 $x$가 적절한지 $y$가 적절한지 따져보고 이동한다. 즉 아래의 확률로 $y$를 선택한다. \n",
    "\n",
    "$$\\frac{\\pi_{y}}{\\pi_{x}+\\pi_{y}}$$"
   ]
  },
  {
   "cell_type": "markdown",
   "id": "fbdcf0d8-87da-4d46-992b-823035531aea",
   "metadata": {},
   "source": [
    "`-` 의문: 저렇게 막 만들어도 에르고딕한지 어떻게 알지? \n",
    "\n",
    "- 당연히 몰라요. \n",
    "- 조사를 좀 해봐야 합니다. "
   ]
  },
  {
   "cell_type": "markdown",
   "id": "b488bbb9-e1d7-4975-b710-e013ca95934d",
   "metadata": {},
   "source": [
    "`-` DBC condition 체크"
   ]
  },
  {
   "cell_type": "markdown",
   "id": "daeb6cc0-fc85-4f19-bb6c-83e78e01b8d8",
   "metadata": {},
   "source": [
    "$$\\forall i,j \\in E:~\\pi_i p_{ij} = \\pi_j p_{ji}$$"
   ]
  },
  {
   "cell_type": "markdown",
   "id": "457c3338-7d7f-40ae-bd57-6e019a4ce48f",
   "metadata": {},
   "source": [
    "노테이션을 살짝 변경하면 아래와 같다. "
   ]
  },
  {
   "cell_type": "markdown",
   "id": "e2950620-884e-438f-a30a-6338a07fc580",
   "metadata": {},
   "source": [
    "$$\\forall x,x' \\in E:~\\pi_x p_{xx'} = \\pi_{x'} p_{x'x}$$"
   ]
  },
  {
   "cell_type": "markdown",
   "id": "42574a9d-449f-436b-a973-ba93e12bfe76",
   "metadata": {},
   "source": [
    "여기에서 $p_{xx'}$와 $p_{x'x}$를 각각 구하면 아래와 같다. "
   ]
  },
  {
   "cell_type": "markdown",
   "id": "726ec7c9-7561-4e0c-a171-f90aa8eed106",
   "metadata": {},
   "source": [
    "$$p_{xx'} = \\frac{\\pi_{x'}}{\\pi_x + \\pi_{x'}} \\frac{1}{10}$$\n",
    "\n",
    "$$p_{x'x} = \\frac{\\pi_{x}}{\\pi_x + \\pi_{x'}} \\frac{1}{10}$$"
   ]
  },
  {
   "cell_type": "markdown",
   "id": "041167d1-c6e9-492d-a252-722c4d5e3539",
   "metadata": {},
   "source": [
    "따라서 DBC가 만족된다. "
   ]
  },
  {
   "cell_type": "markdown",
   "id": "6042b8b8-f4f4-4e16-93bc-dd02d23bfcf4",
   "metadata": {},
   "source": [
    "`-` 이론전개: DBC가 만족되었으므로 ${\\boldsymbol \\pi}$는 정상분포가 된다. 이 마코프체인은 IRR 이므로 정상분포는 유일해진다. 또한 IRR and FINITE 이므로 PR이 된다. 또한 자기자신으로 돌아올 확률이 있으므로 AP가 된다.^[이 확률이 없다면 적당히 만들면 됩니다] 따라서 이 마코프체인은 에르고딕이다. "
   ]
  },
  {
   "cell_type": "code",
   "execution_count": 33,
   "id": "66f7e9d0-2890-4917-bb4f-f3776b2778c6",
   "metadata": {},
   "outputs": [],
   "source": [
    "def doctor_strange(x0):\n",
    "    xx = [x0]\n",
    "    for t in range(10000): \n",
    "        y = np.random.choice(range(10))\n",
    "        acceptance_prob = π[y] / (π[xx[t]] + π[y]) # acceptance_prob 가 클수록 y를 선택\n",
    "        _u = np.random.rand() \n",
    "        if _u < acceptance_prob:\n",
    "            xx.append(y)\n",
    "        else:\n",
    "            xx.append(xx[t])\n",
    "    return xx"
   ]
  },
  {
   "cell_type": "code",
   "execution_count": 34,
   "id": "f92aecfb-462c-4ca4-b02b-07d3265902f3",
   "metadata": {},
   "outputs": [],
   "source": [
    "xx = doctor_strange(0)"
   ]
  },
  {
   "cell_type": "code",
   "execution_count": 35,
   "id": "ab767197-818d-44eb-a26e-ba373f390fba",
   "metadata": {},
   "outputs": [
    {
     "data": {
      "image/png": "[encoded data removed]",
      "text/plain": [
       "<Figure size 432x288 with 1 Axes>"
      ]
     },
     "metadata": {
      "needs_background": "light"
     },
     "output_type": "display_data"
    }
   ],
   "source": [
    "plt.stem(π*10000,'--o')\n",
    "plt.hist(xx,bins=100,color='C1',alpha=0.5);"
   ]
  },
  {
   "cell_type": "markdown",
   "id": "c824f599-8270-44fa-95ed-44cb9992fad8",
   "metadata": {},
   "source": [
    "## 샘플추천 \\& 연속형"
   ]
  },
  {
   "cell_type": "markdown",
   "id": "ac3b4456-709f-427c-a249-93fff2b5f7a7",
   "metadata": {},
   "source": [
    "`-` 아래와 같은 pdf $f_X(x)$를 가지는 확률변수를 만들고 싶다면? "
   ]
  },
  {
   "cell_type": "code",
   "execution_count": 41,
   "id": "ce567a34-2968-4042-84d6-8394af4c7afe",
   "metadata": {},
   "outputs": [],
   "source": [
    "g = scipy.special.gamma"
   ]
  },
  {
   "cell_type": "code",
   "execution_count": 42,
   "id": "9fc1053b-774c-439e-8466-3d17de86edfe",
   "metadata": {},
   "outputs": [],
   "source": [
    "def f(x): \n",
    "    return g(2+6)/(g(2)*g(6)) * x**(2-1) * (1-x)**(6-1)"
   ]
  },
  {
   "cell_type": "code",
   "execution_count": 43,
   "id": "648b5cba-85d2-4fc7-9219-3b65cabcf6a7",
   "metadata": {},
   "outputs": [
    {
     "data": {
      "text/plain": [
       "[<matplotlib.lines.Line2D at 0x7f8e9112e520>]"
      ]
     },
     "execution_count": 43,
     "metadata": {},
     "output_type": "execute_result"
    },
    {
     "data": {
      "image/png": "[encoded data removed]",
      "text/plain": [
       "<Figure size 432x288 with 1 Axes>"
      ]
     },
     "metadata": {
      "needs_background": "light"
     },
     "output_type": "display_data"
    }
   ],
   "source": [
    "plt.plot(np.linspace(0,1,100),f(np.linspace(0,1,100)))"
   ]
  },
  {
   "cell_type": "markdown",
   "id": "beb0b347-ef81-4188-a69f-88f5c8018c7e",
   "metadata": {},
   "source": [
    "`-` 어? 잠깐만..\n",
    "\n",
    "- 이전예제: $E=\\{0,1,2,\\dots,9\\}$\n",
    "- 지금예제: $E=[0,1]$\n",
    "\n",
    "상태 $E$가 countable이 아니잖아? (그래도 일단 진행해보자)"
   ]
  },
  {
   "cell_type": "markdown",
   "id": "ed52a0e2-60c2-44b9-a222-f825ac5f4dbe",
   "metadata": {},
   "source": [
    "`-` 테크닉: $X(\\omega_1)=x$가 주어졌을때 $X'(\\omega_1)=x'$을 뽑는 방법!\n",
    "    \n",
    "1. $x$가 주어졌다고 가정하자. \n",
    "2. $x'$의 후보로 $Y(\\omega^\\ast)=y$ 를 뽑는다. $Y \\sim {\\cal U}$\n",
    "3. $x'$으로 $x$가 적절한지 $y$가 적절한지 따져보고 이동한다. 즉 아래의 확률로 $y$를 선택한다. \n",
    "\n",
    "$$\\frac{f_X(y)}{f_X(x)+f_X(y)}$$"
   ]
  },
  {
   "cell_type": "markdown",
   "id": "e11e7e4d-afac-48db-8a6d-ca1a4fd749e6",
   "metadata": {},
   "source": [
    "`-` DBC condition 체크"
   ]
  },
  {
   "cell_type": "markdown",
   "id": "c9fecdd0-1d68-4976-be17-1963e63df8bf",
   "metadata": {},
   "source": [
    "***이전예제***"
   ]
  },
  {
   "cell_type": "markdown",
   "id": "d15b5821-5b70-4656-9140-45e4781cb348",
   "metadata": {},
   "source": [
    "$$\\forall x,x' \\in E:~\\pi_x p_{xx'} = \\pi_{x'} p_{x'x}$$"
   ]
  },
  {
   "cell_type": "markdown",
   "id": "f79fa9ce-f158-4147-987f-46402dab2266",
   "metadata": {},
   "source": [
    "***지금예제***: 이런식으로 바뀌어야할거 한데?"
   ]
  },
  {
   "cell_type": "markdown",
   "id": "983ff63a-21ab-4b09-a1e8-2a0c73cc8aaa",
   "metadata": {},
   "source": [
    "$$\\forall x,x' \\in E:~f_X(x) p_{xx'} = f_X(x') p_{x'x}$$"
   ]
  },
  {
   "cell_type": "markdown",
   "id": "0acf2318-2936-4411-bff3-0f8561f1a795",
   "metadata": {},
   "source": [
    "그리고 여기에서 $p_{xx'}$와 $p_{x'x}$는 각각 아래와 같이 따져야할 듯한데"
   ]
  },
  {
   "cell_type": "markdown",
   "id": "bafa0eb7-899a-476d-8683-6e255694cb9d",
   "metadata": {},
   "source": [
    "$$p_{xx'} = \\frac{f_X(x')}{f_X(x) + f_X(x')} f_Y(x')$$\n",
    "\n",
    "$$p_{x'x} = \\frac{f_X(x)}{f_X(x) + f_X(x')} f_Y(x)$$"
   ]
  },
  {
   "cell_type": "markdown",
   "id": "d2d84376-f448-405b-9805-6d7532e7d9ab",
   "metadata": {},
   "source": [
    "우선 $f_Y(x')=f_Y(x)=1$ 이므로 지금까지의 논의가 맞다면 DBC는 만족되는듯 하다."
   ]
  },
  {
   "cell_type": "markdown",
   "id": "df8ee733-b9e9-45cf-8551-f1ba52d80cfc",
   "metadata": {},
   "source": [
    "`-` 의문1: 좀 이상한데? $f_X(x)$는 $\\pi_x$와 다르게 확률이 아니잖아??"
   ]
  },
  {
   "cell_type": "markdown",
   "id": "4888854e-3c4d-495d-8ca6-20f67a8c21e6",
   "metadata": {},
   "source": [
    "`-` 의문2: 애초에 $\\{X_t\\}$는 countable한 state space를 가져야하지 않았어? "
   ]
  },
  {
   "cell_type": "markdown",
   "id": "0badf081-1bd9-4092-9d53-597d6d8bea92",
   "metadata": {},
   "source": [
    "# Polish space "
   ]
  },
  {
   "cell_type": "markdown",
   "id": "bd9293f8-fe13-45db-b068-b6976f2fc92e",
   "metadata": {},
   "source": [
    "`-` MCMC의 샘플링이 성공하는 이유를 다시 생각해보자. "
   ]
  },
  {
   "cell_type": "markdown",
   "id": "f274c8c7-1471-42b3-af56-fec0012e90fe",
   "metadata": {},
   "source": [
    "아래와 같은 조건부확률에 따라 $X$에서 $X'$을 반복적으로 만들면...\n",
    "\n",
    "- $p_{00}=\\mathbb{P}(X'=0|X=0)=0.4$\n",
    "- $p_{01}=\\mathbb{P}(X'=1|X=0)=0.6$\n",
    "- $p_{10}=\\mathbb{P}(X'=0|X=1)=0.9$\n",
    "- $p_{11}=\\mathbb{P}(X'=1|X=1)=0.1$"
   ]
  },
  {
   "cell_type": "markdown",
   "id": "1d4ee400-708f-410e-8e0c-86f7039a221f",
   "metadata": {},
   "source": [
    "`-` 그런데 조건부 \"확률\"은 잘 정의할 수 있나?\n",
    "\n",
    "- 할 수 있음. \n",
    "- 상태공간이 $E$가 countable 일 경우에는 좀 쉬운편입니다. 그리고 조건부확률들을 모아서 매트릭스 (혹은 그 비슷한것) ${\\bf P}$를 만들수 있음. \n",
    "- 상태공간이 $E$가 uncoutable 일 경우에는 좀 까다로운데 polish space라는 곳에서는 잘 정의됨. 그리고 조건부확률들을 모아서 매트릭스 (혹은 그 비슷한것) ${\\bf P}$를 만들 수는 없지만 대신에 transition kernel 이라는 것은 정의할 수 있습니다. "
   ]
  },
  {
   "cell_type": "markdown",
   "id": "d4290a25-65f0-4820-aec4-fc1ff2f8884f",
   "metadata": {},
   "source": [
    "`-` 좀 더 이론적인건 엄밀하게 따져야하지만 (대학원외의 과정, 개인적으로 공부하고 싶으면 공부하는 영역임) 하여튼 연속형일 경우에도 가능합니다. "
   ]
  },
  {
   "cell_type": "markdown",
   "id": "75b33288-abbc-447f-8777-e4af33acec6d",
   "metadata": {},
   "source": [
    "> 아무튼 연속형일 경우도 이산형처럼 가능하다. "
   ]
  },
  {
   "cell_type": "markdown",
   "id": "a1341db9-2ba6-4766-9de0-ad2990370574",
   "metadata": {},
   "source": [
    "`-` 앞으로는 연속형일지라도 이산형처럼 생각해서 논리전개하세요. "
   ]
  },
  {
   "cell_type": "markdown",
   "id": "0139dffb-c143-42a7-b6c7-7b2a7bc7087c",
   "metadata": {},
   "source": [
    "# 메트로폴리스-헤이스팅스 "
   ]
  },
  {
   "cell_type": "markdown",
   "id": "15668bf3-ee7f-4d0b-9dfb-e6e05da95e66",
   "metadata": {},
   "source": [
    "## 천재의 알고리즘 "
   ]
  },
  {
   "cell_type": "markdown",
   "id": "b35bf075-7340-431b-a56a-2e3a14462173",
   "metadata": {},
   "source": [
    "`-` 이전 테크닉: $X(\\omega_1)=x$가 주어졌을때 $X'(\\omega_1)=x'$을 뽑는 방법!\n",
    "    \n",
    "1. $x$가 주어졌다고 가정하자. \n",
    "2. $x'$의 후보로 $Y(\\omega^\\ast)=y$ 를 뽑는다. $Y \\sim {\\boldsymbol p}_Y:=[\\frac{1}{10},\\dots,\\frac{1}{10}]$\n",
    "3. $x'$으로 $x$가 적절한지 $y$가 적절한지 따져보고 이동한다. 즉 아래의 확률로 $y$를 선택한다. \n",
    "\n",
    "$${\\tt acceptance~prob} = \\frac{\\pi_{y}}{\\pi_{x}+\\pi_{y}}$$"
   ]
  },
  {
   "cell_type": "markdown",
   "id": "54e9a5ab-679c-4d71-a6bc-fff89e3f981d",
   "metadata": {},
   "source": [
    "`-` 새로운 테크닉: 누구나 생각할 수 있는 acceptance prob 대신에 특이한 acceptance prob를 생각 \n",
    "\n",
    "1. $x$가 주어졌다고 가정하자. \n",
    "2. $x'$의 후보로 $Y(\\omega^\\ast)=y$ 를 뽑는다. $Y \\sim {\\boldsymbol p}_Y:=[\\frac{1}{10},\\dots,\\frac{1}{10}]$\n",
    "3. $x'$으로 $x$가 적절한지 $y$가 적절한지 따져보고 이동한다. 즉 아래의 확률로 $y$를 선택한다. \n",
    "\n",
    "$${\\tt acceptance~prob} = \\min\\left(1,\\frac{\\pi_{y}}{\\pi_{x}}\\right)$$"
   ]
  },
  {
   "cell_type": "markdown",
   "id": "4805dc82-8ae2-4fdb-ad47-68f24ed02c2d",
   "metadata": {},
   "source": [
    "`-` DBC를 만족하는지 체크"
   ]
  },
  {
   "cell_type": "markdown",
   "id": "76bf93e6-da93-431c-8b01-a04e170309d3",
   "metadata": {},
   "source": [
    "$$\\forall x,x' \\in E:~\\pi_x p_{xx'} = \\pi_{x'} p_{x'x}$$"
   ]
  },
  {
   "cell_type": "markdown",
   "id": "9d62dc1f-9aa6-4d06-8ca1-69f6b9889c64",
   "metadata": {},
   "source": [
    "여기에서 $p_{xx'}$와 $p_{x'x}$를 각각 구하면 아래와 같다. "
   ]
  },
  {
   "cell_type": "markdown",
   "id": "c5f7b58f-2dc3-4c84-8dc2-a3be273fdd76",
   "metadata": {},
   "source": [
    "$$p_{xx'} = \\min\\left(1,\\frac{\\pi_{x'}}{\\pi_{x}}\\right) \\frac{1}{10}$$\n",
    "\n",
    "$$p_{x'x} = \\min\\left(1,\\frac{\\pi_{x}}{\\pi_{x'}}\\right) \\frac{1}{10}$$"
   ]
  },
  {
   "cell_type": "markdown",
   "id": "e43a0ad9-6e9d-4346-9752-bb5250934890",
   "metadata": {},
   "source": [
    "경우를 (1) $\\pi_{x'} > \\pi_x$ (2) $\\pi_{x'} < \\pi_x$ 와 같이 나누어 풀어보면 DBC를 만족함을 쉽게 체크할 수 있다. 이후의 논리전개는 동일 "
   ]
  }
 ],
 "metadata": {
  "kernelspec": {
   "display_name": "Python 3",
   "language": "python",
   "name": "python3"
  },
  "language_info": {
   "codemirror_mode": {
    "name": "ipython",
    "version": 3
   },
   "file_extension": ".py",
   "mimetype": "text/x-python",
   "name": "python",
   "nbconvert_exporter": "python",
   "pygments_lexer": "ipython3",
   "version": "3.8.16"
  }
 },
 "nbformat": 4,
 "nbformat_minor": 5
}
