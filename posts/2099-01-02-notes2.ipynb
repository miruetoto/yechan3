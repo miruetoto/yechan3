{
 "cells": [
  {
   "cell_type": "raw",
   "id": "9c7a4f4d-1009-41be-b1a9-57e5d3ebf038",
   "metadata": {},
   "source": [
    "---\n",
    "title: \"연습장2\"\n",
    "author: \"신록예찬\"\n",
    "date: \"01/01/2099\"\n",
    "---"
   ]
  },
  {
   "cell_type": "markdown",
   "id": "9be87740-d906-4f11-a7ac-ce41156c8549",
   "metadata": {
    "tags": []
   },
   "source": [
    "# imports "
   ]
  },
  {
   "cell_type": "markdown",
   "id": "c16ea1c8-488e-4770-9fb1-de504c370c6a",
   "metadata": {},
   "source": [
    "`-` 충분통계량을 따지는 방법\n",
    "\n",
    "1. 정의에 넣고 따짐\n",
    "2. pdf를 보고 따짐 "
   ]
  },
  {
   "cell_type": "markdown",
   "id": "d437616d-4955-4e91-9710-231e45f2284c",
   "metadata": {},
   "source": [
    "`-` 충분통계량의 1:1 함수는 충분통계량이다. "
   ]
  },
  {
   "cell_type": "markdown",
   "id": "7018de48-4519-47b6-9dc5-e1b716eed129",
   "metadata": {},
   "source": [
    "`-` MLE가 유일하게 존재하면 MLE는 충분통계량의 함수이다. "
   ]
  },
  {
   "cell_type": "markdown",
   "id": "4d5a8fb0-97c5-476e-89a5-e5835fadbc7d",
   "metadata": {},
   "source": [
    "`-` 라오-블랙웰정리 [@ 4.5.] 충분통계량 $Y$를 이용하면 $\\hat{\\theta}$를 개선할 수 있다. 구체적으로는 $\\mathbb{E}(\\hat{\\theta}|Y)$를 이용하면 된다. 만약에 충분통계량 $Y$가 완비충분통계량이라면 $\\mathbb{E}(\\hat{\\theta}|Y)$는 UMVUE 가 된다. (레만쉐페의 정리 @ 4.6)"
   ]
  },
  {
   "cell_type": "markdown",
   "id": "b83a710c-251d-40ea-9f2d-bf81538da176",
   "metadata": {},
   "source": [
    "`-` 레마: $Y$가 CSS이고 $\\hat{\\theta}$이 $Y$를 이용한 unbiased estimator라면 ${\\theta}$이 UMVUE 이다. p221"
   ]
  },
  {
   "cell_type": "markdown",
   "id": "47dc4128-00dc-4c22-95a2-556d9f8e99c0",
   "metadata": {},
   "source": [
    "`-` Exp에서는 CSS를 쉽게 구할 수 있다. "
   ]
  },
  {
   "cell_type": "markdown",
   "id": "909b1414-e8ca-49e1-b08c-bbbbe3bb1874",
   "metadata": {},
   "source": [
    "`-` 유일한 MLE가 존재하고 그것이 충분통계량이라면, 그것은 MSS이다. "
   ]
  },
  {
   "cell_type": "markdown",
   "id": "773b227a-f378-4cad-9ec2-7504e2a34539",
   "metadata": {},
   "source": [
    "`-` 따라서 지수족에서는 MSS = CSS 이다. "
   ]
  },
  {
   "cell_type": "code",
   "execution_count": 3,
   "id": "18c5cb66-db65-4a56-a0ca-6f18ae852332",
   "metadata": {},
   "outputs": [
    {
     "data": {
      "text/plain": [
       "16.666666666666668"
      ]
     },
     "execution_count": 3,
     "metadata": {},
     "output_type": "execute_result"
    }
   ],
   "source": [
    "50/3"
   ]
  },
  {
   "cell_type": "markdown",
   "id": "34a51c88-e822-4311-91b5-c60e59a5f8b1",
   "metadata": {},
   "source": [
    "# 예제1"
   ]
  },
  {
   "cell_type": "markdown",
   "id": "5bb24dd2-62c0-4df0-8e53-8fd15c0e3e86",
   "metadata": {},
   "source": [
    "## 문제소개"
   ]
  },
  {
   "cell_type": "code",
   "execution_count": 111,
   "id": "19396052-11a3-4faa-96f2-c6fd142d2e0f",
   "metadata": {},
   "outputs": [
    {
     "data": {
      "text/plain": [
       "{'doc1': ['손흥민', '골'], 'doc2': ['골', '확률'], 'doc3': ['확률', '데이터과학']}"
      ]
     },
     "execution_count": 111,
     "metadata": {},
     "output_type": "execute_result"
    }
   ],
   "source": [
    "D = {'doc1':['손흥민','골'],'doc2':['골','확률'],'doc3':['확률','데이터과학']}\n",
    "D"
   ]
  },
  {
   "cell_type": "markdown",
   "id": "480f8713-e592-46a6-85d8-ba85861a9819",
   "metadata": {},
   "source": [
    "- 여기에서 $D$는 문서들의 집합, 즉 코퍼스를 의미한다. "
   ]
  },
  {
   "cell_type": "markdown",
   "id": "469f9144-c9b2-443e-81df-65deafd122f3",
   "metadata": {},
   "source": [
    "`-` 토픽\n",
    "\n",
    "- 토픽1 = 축구 : '골', '손흥민' 와 같은 단어가 쓰임. \n",
    "- 토픽2 = 통계 : '데이터과학', '확률' 와 같은 단어가 쓰임. "
   ]
  },
  {
   "cell_type": "markdown",
   "id": "accee3c9-33d9-4472-8a1f-5c0df67dc67b",
   "metadata": {},
   "source": [
    "`-` 문서\n",
    "    \n",
    "- 문서1은 축구를 주제로 쓰여진 글인듯 하다.\n",
    "- 문서3은 데이터과학을 주제로 쓰여진 글인듯 하다. \n",
    "- 문서2는 축구와 데이터과학이 혼합된 주제인듯 하다. "
   ]
  },
  {
   "cell_type": "markdown",
   "id": "99304cf9-721f-4363-9219-f4ce8f2654ab",
   "metadata": {},
   "source": [
    "`-` 원하는 것 (1): 문서별로 토픽이 얼마나 들어있는지 알고싶다. "
   ]
  },
  {
   "cell_type": "code",
   "execution_count": 108,
   "id": "42ab1c42-9ab5-45ec-931c-f3398f627fac",
   "metadata": {},
   "outputs": [
    {
     "data": {
      "text/plain": [
       "{'doc1': [1, 1], 'doc2': [1, 2], 'doc3': [2, 2]}"
      ]
     },
     "execution_count": 108,
     "metadata": {},
     "output_type": "execute_result"
    }
   ],
   "source": [
    "θ = {'doc1':[1,1],'doc2':[1,2],'doc3':[2,2]}\n",
    "θ"
   ]
  },
  {
   "cell_type": "markdown",
   "id": "96f9c686-332d-4f5c-8881-d0ec5a5c07b2",
   "metadata": {},
   "source": [
    "`-` $D$를 입력으로 넣으면 $\\theta$ 가 나오면 좋겠음 "
   ]
  },
  {
   "cell_type": "markdown",
   "id": "c0b6eb74-6ca9-4974-9f11-cd46c2737af4",
   "metadata": {},
   "source": [
    "`-` 비판\n",
    "\n",
    "- 그런데 생각해보니까 \"손흥민\"이라는 단어는 완전 축구단어\n",
    "- \"골\"이라는 단어는 가끔 데이터과학과 섞일 수 있는 단어 \n",
    "- \"손흥민\"이라는 단어는 축구토픽에서 나올 확률이 90퍼 이상, \"골\"은 축구토픽에서 나올 확률이 80퍼정도일수도 있잖음? "
   ]
  },
  {
   "cell_type": "markdown",
   "id": "dc497094-f42a-467f-a3a8-47786c86709d",
   "metadata": {},
   "source": [
    "`-` 특정한 하나의 ${\\boldsymbol \\theta}$ 값이 아니라 ${\\boldsymbol \\theta}$의 분포 ${\\boldsymbol \\pi}_{\\theta}$ 즉 \n",
    "\n",
    "- ${\\boldsymbol \\theta} \\sim {\\boldsymbol \\pi}_{\\theta}$\n",
    "\n",
    "와 같은 구조로 ${\\boldsymbol \\theta}$를 뽑아낼 수 있는 분포를 알아내는게 더 좋지 않을까? "
   ]
  },
  {
   "cell_type": "markdown",
   "id": "7a215973-4eb6-4364-b532-fef0a3625348",
   "metadata": {},
   "source": [
    "`-` 낙관론자: MCMC로 ${\\boldsymbol \\theta}$를 막 뽑아서 그것들을 가지고 추론하면 어떨까? "
   ]
  },
  {
   "cell_type": "markdown",
   "id": "700bfa08-8562-4823-9ec4-01506dcad1ee",
   "metadata": {},
   "source": [
    "`-` 비관론자: 아니 ${\\boldsymbol \\pi}_{\\boldsymbol \\theta}$를 모르잖아? 그런데 어떻게 뽑아?"
   ]
  },
  {
   "cell_type": "markdown",
   "id": "e82a3bf0-d182-4147-933e-6a8805a1cd50",
   "metadata": {},
   "source": [
    "## 가능한 해결책"
   ]
  },
  {
   "cell_type": "markdown",
   "id": "42f4c49f-4021-4001-903a-fbb90f9aef82",
   "metadata": {},
   "source": [
    "`-` 이론적인 근거는 없는데요 (있지만 현재는 논의하지 않겠음) 되게 그럴듯한 해결책이 있습니다. "
   ]
  },
  {
   "cell_type": "markdown",
   "id": "c482d8d2-6583-4e0d-9c01-6d1bd7dffa90",
   "metadata": {},
   "source": [
    "`-` 문제의 단순화:\n",
    "    \n",
    "- 결국 길이가 6인 랜덤벡터 ${\\boldsymbol \\theta}=(\\theta[0],\\dots,\\theta[5])$ 를 뽑는 일이다. "
   ]
  },
  {
   "cell_type": "markdown",
   "id": "d636a428-b9d8-4ad1-a6d5-e55b0fe02749",
   "metadata": {},
   "source": [
    "### ***단계1: 아무값이나 넣어서 ${\\boldsymbol \\theta}_0$를 초기화한다.***"
   ]
  },
  {
   "cell_type": "markdown",
   "id": "7da30415-33ca-4d3e-9a40-2acb8cb10789",
   "metadata": {},
   "source": [
    "`-` 아무값이나 셋팅 "
   ]
  },
  {
   "cell_type": "code",
   "execution_count": 128,
   "id": "5a1dbe7d-2350-47fe-a4b6-b3093e850fca",
   "metadata": {},
   "outputs": [
    {
     "data": {
      "text/plain": [
       "{'doc1': [2, 1], 'doc2': [1, 2], 'doc3': [2, 1]}"
      ]
     },
     "execution_count": 128,
     "metadata": {},
     "output_type": "execute_result"
    }
   ],
   "source": [
    "θ = {'doc1':[2,1],'doc2':[1,2],'doc3':[2,1]}\n",
    "θ"
   ]
  },
  {
   "cell_type": "markdown",
   "id": "f70dd2f5-4a36-437d-bce7-e28cfbcefb87",
   "metadata": {},
   "source": [
    "- ${\\boldsymbol \\theta}_0 = [2,1,1,2,2,1]$ 이라고 생각하자. "
   ]
  },
  {
   "cell_type": "markdown",
   "id": "99ef5d78-1008-4737-8fad-aee7353f69d3",
   "metadata": {},
   "source": [
    "`-` 임의의 초기값이 셋팅된 상황은 아래와 같다. "
   ]
  },
  {
   "cell_type": "code",
   "execution_count": 129,
   "id": "865e1cc9-ba11-416d-b1b6-e39f8ed8a93a",
   "metadata": {},
   "outputs": [
    {
     "data": {
      "text/plain": [
       "{'doc1': ['손흥민', '골'], 'doc2': ['골', '확률'], 'doc3': ['확률', '데이터과학']}"
      ]
     },
     "execution_count": 129,
     "metadata": {},
     "output_type": "execute_result"
    }
   ],
   "source": [
    "D"
   ]
  },
  {
   "cell_type": "markdown",
   "id": "88393612-2ad0-4709-b434-13daedccb5ae",
   "metadata": {},
   "source": [
    "***1.문서당 토픽비율조사***\n",
    "\n",
    "- doc1:[손흥민,골]=[2,1] \n",
    "- doc2:[골,확률]=[1,2]\n",
    "- doc3:[확률,데이터과학]=[2,1]"
   ]
  },
  {
   "cell_type": "markdown",
   "id": "57b57253-967a-4744-8e6b-e0a33a5e3f2a",
   "metadata": {},
   "source": [
    "***2.토픽별로 자주등장하는 단어조사***\n",
    "\n",
    "- 토픽1: 골,골,데이터과학 --> 축구?? (데이터과학이 살짝 애매하긴 하네?)\n",
    "- 토픽2: 손흥민,확률,확률 --> 통계?? (손흥민이 살짝 애매하긴 하네?)"
   ]
  },
  {
   "cell_type": "markdown",
   "id": "3118c519-8167-4cdf-80f0-4b2509703ff7",
   "metadata": {},
   "source": [
    "### ***단계2: ${\\boldsymbol \\theta}_0[0], {\\boldsymbol \\theta}_0[1] \\cdots, {\\boldsymbol \\theta}_0[5]$ 을 순서대로 샘플링***"
   ]
  },
  {
   "cell_type": "markdown",
   "id": "e91d4f4d-78d4-45e6-923f-d61c83416c7c",
   "metadata": {},
   "source": [
    "***예비개념: MCMC에서 베타분포를 뽑았던 그때로 돌아가보자*** \n",
    "\n",
    "1. 임의의 초기값 $x$ 생성 \n",
    "2. 새로운 값으로 $y$를 고려 (추천받을 수도 있고 그냥 고려할수도 있음)\n",
    "3. $x$가 그럴듯한지, $y$가 그럴듯한지 판단하고 $x'$의 값은 어떠한확률로 $x,y$ 중에서 선택"
   ]
  },
  {
   "cell_type": "markdown",
   "id": "b0063ab4-2bed-4df9-9bbe-132278bcb9ff",
   "metadata": {},
   "source": [
    "#### stage0: ***${\\boldsymbol \\theta}_0[0]$의 고민: 나는 토픽1인가 토픽2인가?***"
   ]
  },
  {
   "cell_type": "code",
   "execution_count": 133,
   "id": "66f0454e-1882-49d5-a03a-c3bfd04f2293",
   "metadata": {},
   "outputs": [
    {
     "data": {
      "text/plain": [
       "{'doc1': [2, 1], 'doc2': [1, 2], 'doc3': [2, 1]}"
      ]
     },
     "execution_count": 133,
     "metadata": {},
     "output_type": "execute_result"
    }
   ],
   "source": [
    "θ"
   ]
  },
  {
   "cell_type": "code",
   "execution_count": 134,
   "id": "870b4570-08cd-4b91-a1a3-269144b642b9",
   "metadata": {},
   "outputs": [
    {
     "data": {
      "text/plain": [
       "{'doc1': ['손흥민', '골'], 'doc2': ['골', '확률'], 'doc3': ['확률', '데이터과학']}"
      ]
     },
     "execution_count": 134,
     "metadata": {},
     "output_type": "execute_result"
    }
   ],
   "source": [
    "D"
   ]
  },
  {
   "cell_type": "code",
   "execution_count": 135,
   "id": "a3ddb359-dc6a-427d-a555-cab94d7ef97e",
   "metadata": {},
   "outputs": [
    {
     "data": {
      "text/plain": [
       "(2, '손흥민')"
      ]
     },
     "execution_count": 135,
     "metadata": {},
     "output_type": "execute_result"
    }
   ],
   "source": [
    "θ['doc1'][0], D['doc1'][0]"
   ]
  },
  {
   "cell_type": "markdown",
   "id": "c49941d2-53f2-4407-9c1e-4614eaa5e5b6",
   "metadata": {},
   "source": [
    "`-` 지금 우리의 관심은 `doc1-손흥민`에 해당하는 토픽으로 `토픽=1`이라 생각하는 것이 그럴듯한지, `토픽=2`라고 생각하는게 그럴듯한지 다시 따져보고 싶다. "
   ]
  },
  {
   "cell_type": "markdown",
   "id": "51a75da8-15d5-4806-85f9-64edb4ad57c1",
   "metadata": {},
   "source": [
    "`-` 가정: `doc1-손흥민`에 대응하는 토픽분류를 제외하고 나머지는 모두 올바르게 토픽이 분류되었다고 가정하자. "
   ]
  },
  {
   "cell_type": "markdown",
   "id": "be838d45-7cc0-4dec-9128-1ba5ed9c456b",
   "metadata": {},
   "source": [
    "`문서눈치`: 나($=\\theta_0$)는 `doc1`에 있음. `doc1`에는 다른단어들도 있음. 그렇다면 `doc1`에 있는 다른 단어들의 토픽들은 어떤지 살펴보자."
   ]
  },
  {
   "cell_type": "code",
   "execution_count": 119,
   "id": "44c5d48f-0998-4a47-934e-a5b6ba561997",
   "metadata": {},
   "outputs": [
    {
     "data": {
      "text/plain": [
       "[2, 1]"
      ]
     },
     "execution_count": 119,
     "metadata": {},
     "output_type": "execute_result"
    }
   ],
   "source": [
    "θ['doc1']"
   ]
  },
  {
   "cell_type": "markdown",
   "id": "565a9c94-ae91-4feb-acf3-9967c25af99c",
   "metadata": {},
   "source": [
    "- `doc1`에는 현재 관심이 있는 `doc1-손흥민`을 제외하고 다른단어는 하나뿐인데 그 단어는 토픽1로 분류됨 $\\to$ 나도 토픽1인가? "
   ]
  },
  {
   "cell_type": "markdown",
   "id": "dc1dfe67-cb30-4c53-bbe9-301b49ee525f",
   "metadata": {},
   "source": [
    "`단어눈치`: 나($=\\theta_0$)는 `골`이라는 단어임. 토픽1에 있는 다른단어를 찾아볼까? "
   ]
  },
  {
   "cell_type": "markdown",
   "id": "b33d899a-3476-4cba-b330-9c3e2d61fabc",
   "metadata": {},
   "source": [
    "- 토픽1:[골,골,데이터과학] $\\to$ 토픽1로 분류된 단어중에 `손흥민`은 하나도 없음 $\\to$ 나는 토픽1이 아닌가? "
   ]
  },
  {
   "cell_type": "markdown",
   "id": "38aa540b-dc8b-4d12-af65-5df5d27f4be3",
   "metadata": {},
   "source": [
    "`-` `doc1-손흥민`이 토픽1에서 뽑혓다고 보는게 타당한지 토픽2에서 뽑혔다고 보는게 타당하지 따져보자.\n",
    "\n",
    "- 토픽1의 타당성: (`doc1`에 토픽1이 포함되어 있는 비율) $\\times$ (토픽1에서 `손흥민`이라는 단어를 뽑을 확률) = 1 $\\times$ 0\n",
    "- 토픽2의 타당성: (`doc1`에 토픽2가 포함되어 있는 비율) $\\times$ (토픽2에서 `손흥민`이라는 단어를 뽑을 확률) = 0 $\\times$ 0"
   ]
  },
  {
   "cell_type": "markdown",
   "id": "e4fd2c24-0d92-4ddd-8a77-7ce756035b8d",
   "metadata": {},
   "source": [
    "> 둘 다 $0$ 이라서 비긴거야?? 그런데 토픽1이 그나마 타당한거아냐? "
   ]
  },
  {
   "cell_type": "markdown",
   "id": "1859f473-1d1f-4810-821b-5578c8bd0a96",
   "metadata": {},
   "source": [
    "`-` 수정된 타당성 \n",
    "\n",
    "- 토픽1의 타당성: (문서1에 토픽1이 포함되어 있는 비율) $\\times$ (토픽1에서 손흥민이라는 단어를 뽑을 확률) = 1 $\\times$ 0.001\n",
    "- 토픽2의 타당성: (문서1에 토픽2이 포함되어 있는 비율) $\\times$ (토픽2에서 손흥민이라는 단어를 뽑을 확률) = 0.001 $\\times$ 0.001"
   ]
  },
  {
   "cell_type": "markdown",
   "id": "93506a5a-815f-4fb2-8957-afb4215e76ff",
   "metadata": {},
   "source": [
    "> $\\theta_0$의 생각: 나는 토픽1인듯해"
   ]
  },
  {
   "cell_type": "markdown",
   "id": "64269303-21b8-4306-89b4-cdc4aa256406",
   "metadata": {},
   "source": [
    "`-` 업데이트 "
   ]
  },
  {
   "cell_type": "code",
   "execution_count": 122,
   "id": "366e9371-00f4-405d-a39b-182010abff73",
   "metadata": {},
   "outputs": [
    {
     "data": {
      "text/plain": [
       "2"
      ]
     },
     "execution_count": 122,
     "metadata": {},
     "output_type": "execute_result"
    }
   ],
   "source": [
    "θ['doc1'][0]"
   ]
  },
  {
   "cell_type": "code",
   "execution_count": 123,
   "id": "068ea99a-aa3a-49fb-aae4-72dda2aae9f5",
   "metadata": {},
   "outputs": [],
   "source": [
    "θ['doc1'][0] = 1"
   ]
  },
  {
   "cell_type": "markdown",
   "id": "b17db045-ee14-4d8b-af5c-3bac0d6a9dec",
   "metadata": {},
   "source": [
    "#### stage1: ***${\\boldsymbol \\theta}_0[1]$의 고민: 나는 토픽1인가 토픽2인가?***"
   ]
  },
  {
   "cell_type": "code",
   "execution_count": 124,
   "id": "31ef5984-c287-4e6a-b1c3-5419ac28e13a",
   "metadata": {},
   "outputs": [
    {
     "data": {
      "text/plain": [
       "{'doc1': [1, 1], 'doc2': [1, 2], 'doc3': [2, 1]}"
      ]
     },
     "execution_count": 124,
     "metadata": {},
     "output_type": "execute_result"
    }
   ],
   "source": [
    "θ"
   ]
  },
  {
   "cell_type": "code",
   "execution_count": 125,
   "id": "086dbe98-8aa1-46b1-b6bd-5b9ed8cdd68a",
   "metadata": {},
   "outputs": [
    {
     "data": {
      "text/plain": [
       "{'doc1': ['손흥민', '골'], 'doc2': ['골', '확률'], 'doc3': ['확률', '데이터과학']}"
      ]
     },
     "execution_count": 125,
     "metadata": {},
     "output_type": "execute_result"
    }
   ],
   "source": [
    "D"
   ]
  },
  {
   "cell_type": "markdown",
   "id": "5e3a9f92-f6c7-4e39-abbb-f78bf30e66ab",
   "metadata": {},
   "source": [
    "`-` `doc1-골`의 (수정된) 타당성\n",
    "\n",
    "- 토픽1의 타당성: (`doc1`에 토픽1이 포함되어 있는 비율) $\\times$ (토픽1에서 `골`이라는 단어를 뽑을 확률) = 1 $\\times$ 1/3\n",
    "- 토픽2의 타당성: (`doc1`에 토픽2가 포함되어 있는 비율) $\\times$ (토픽2에서 `골`이라는 단어를 뽑을 확률) = 0.001 $\\times$ 0.001"
   ]
  },
  {
   "cell_type": "markdown",
   "id": "2ecd62e5-2320-4606-8e71-73ed369f0ebc",
   "metadata": {},
   "source": [
    "#### ***...***"
   ]
  },
  {
   "cell_type": "markdown",
   "id": "1a7ad57f-3430-4d9d-b618-f96f8d278173",
   "metadata": {},
   "source": [
    "### ***단계3: 모든 $t \\in \\mathbb{N}_0$ 에 대하여 단계2를 반복***"
   ]
  },
  {
   "cell_type": "code",
   "execution_count": null,
   "id": "fcb66baa-52f6-4d8b-92f6-2084d0233de6",
   "metadata": {},
   "outputs": [],
   "source": []
  }
 ],
 "metadata": {
  "kernelspec": {
   "display_name": "Python 3",
   "language": "python",
   "name": "python3"
  },
  "language_info": {
   "codemirror_mode": {
    "name": "ipython",
    "version": 3
   },
   "file_extension": ".py",
   "mimetype": "text/x-python",
   "name": "python",
   "nbconvert_exporter": "python",
   "pygments_lexer": "ipython3",
   "version": "3.8.16"
  }
 },
 "nbformat": 4,
 "nbformat_minor": 5
}
