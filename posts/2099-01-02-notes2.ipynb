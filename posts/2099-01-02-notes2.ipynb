{
 "cells": [
  {
   "cell_type": "raw",
   "id": "9c7a4f4d-1009-41be-b1a9-57e5d3ebf038",
   "metadata": {},
   "source": [
    "---\n",
    "title: \"연습장2\"\n",
    "author: \"신록예찬\"\n",
    "date: \"01/01/2099\"\n",
    "---"
   ]
  },
  {
   "cell_type": "markdown",
   "id": "9be87740-d906-4f11-a7ac-ce41156c8549",
   "metadata": {
    "tags": []
   },
   "source": [
    "# imports "
   ]
  },
  {
   "cell_type": "markdown",
   "id": "c16ea1c8-488e-4770-9fb1-de504c370c6a",
   "metadata": {},
   "source": [
    "`-` 충분통계량을 따지는 방법\n",
    "\n",
    "1. 정의에 넣고 따짐\n",
    "2. pdf를 보고 따짐 "
   ]
  },
  {
   "cell_type": "markdown",
   "id": "d437616d-4955-4e91-9710-231e45f2284c",
   "metadata": {},
   "source": [
    "`-` 충분통계량의 1:1 함수는 충분통계량이다. "
   ]
  },
  {
   "cell_type": "markdown",
   "id": "7018de48-4519-47b6-9dc5-e1b716eed129",
   "metadata": {},
   "source": [
    "`-` MLE가 유일하게 존재하면 MLE는 충분통계량의 함수이다. "
   ]
  },
  {
   "cell_type": "markdown",
   "id": "4d5a8fb0-97c5-476e-89a5-e5835fadbc7d",
   "metadata": {},
   "source": [
    "`-` 라오-블랙웰정리 [@ 4.5.] 충분통계량 $Y$를 이용하면 $\\hat{\\theta}$를 개선할 수 있다. 구체적으로는 $\\mathbb{E}(\\hat{\\theta}|Y)$를 이용하면 된다. 만약에 충분통계량 $Y$가 완비충분통계량이라면 $\\mathbb{E}(\\hat{\\theta}|Y)$는 UMVUE 가 된다. (레만쉐페의 정리 @ 4.6)"
   ]
  },
  {
   "cell_type": "markdown",
   "id": "b83a710c-251d-40ea-9f2d-bf81538da176",
   "metadata": {},
   "source": [
    "`-` 레마: $Y$가 CSS이고 $\\hat{\\theta}$이 $Y$를 이용한 unbiased estimator라면 ${\\theta}$이 UMVUE 이다. p221"
   ]
  },
  {
   "cell_type": "markdown",
   "id": "47dc4128-00dc-4c22-95a2-556d9f8e99c0",
   "metadata": {},
   "source": [
    "`-` Exp에서는 CSS를 쉽게 구할 수 있다. "
   ]
  },
  {
   "cell_type": "markdown",
   "id": "909b1414-e8ca-49e1-b08c-bbbbe3bb1874",
   "metadata": {},
   "source": [
    "`-` 유일한 MLE가 존재하고 그것이 충분통계량이라면, 그것은 MSS이다. "
   ]
  },
  {
   "cell_type": "markdown",
   "id": "773b227a-f378-4cad-9ec2-7504e2a34539",
   "metadata": {},
   "source": [
    "`-` 따라서 지수족에서는 MSS = CSS 이다. "
   ]
  },
  {
   "cell_type": "code",
   "execution_count": 3,
   "id": "18c5cb66-db65-4a56-a0ca-6f18ae852332",
   "metadata": {},
   "outputs": [
    {
     "data": {
      "text/plain": [
       "16.666666666666668"
      ]
     },
     "execution_count": 3,
     "metadata": {},
     "output_type": "execute_result"
    }
   ],
   "source": [
    "50/3"
   ]
  },
  {
   "cell_type": "code",
   "execution_count": null,
   "id": "0195861f-eb71-4c03-8eb7-a56738c03e93",
   "metadata": {},
   "outputs": [],
   "source": []
  }
 ],
 "metadata": {
  "kernelspec": {
   "display_name": "Python 3",
   "language": "python",
   "name": "python3"
  },
  "language_info": {
   "codemirror_mode": {
    "name": "ipython",
    "version": 3
   },
   "file_extension": ".py",
   "mimetype": "text/x-python",
   "name": "python",
   "nbconvert_exporter": "python",
   "pygments_lexer": "ipython3",
   "version": "3.8.16"
  }
 },
 "nbformat": 4,
 "nbformat_minor": 5
}
