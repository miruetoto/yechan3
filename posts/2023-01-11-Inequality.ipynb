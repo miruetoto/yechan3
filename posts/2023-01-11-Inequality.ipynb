{
 "cells": [
  {
   "cell_type": "raw",
   "id": "a5e5832c-eca3-4225-ad96-0956e85dd13c",
   "metadata": {},
   "source": [
    "---\n",
    "title: \"부등식\"\n",
    "author: \"신록예찬\"\n",
    "date: \"01/11/2022\"\n",
    "---"
   ]
  },
  {
   "cell_type": "markdown",
   "id": "1f15eeba-d47f-4b38-800b-0d52fc7c47b8",
   "metadata": {},
   "source": [
    "# 부등식 "
   ]
  },
  {
   "cell_type": "markdown",
   "id": "3ca5c4a7-e830-41d8-a7e1-9cfd09a61123",
   "metadata": {},
   "source": [
    "- (베르누이 부등식) $\\forall n \\in N, h>-1 \\Rightarrow (1+h)^n \\geq 1+nh$"
   ]
  }
 ],
 "metadata": {
  "kernelspec": {
   "display_name": "Python 3 (ipykernel)",
   "language": "python",
   "name": "python3"
  },
  "language_info": {
   "codemirror_mode": {
    "name": "ipython",
    "version": 3
   },
   "file_extension": ".py",
   "mimetype": "text/x-python",
   "name": "python",
   "nbconvert_exporter": "python",
   "pygments_lexer": "ipython3",
   "version": "3.7.13"
  }
 },
 "nbformat": 4,
 "nbformat_minor": 5
}
