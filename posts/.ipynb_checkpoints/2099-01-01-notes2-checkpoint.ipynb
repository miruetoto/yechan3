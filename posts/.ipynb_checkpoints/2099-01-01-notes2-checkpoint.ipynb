{
 "cells": [
  {
   "cell_type": "raw",
   "id": "9c7a4f4d-1009-41be-b1a9-57e5d3ebf038",
   "metadata": {},
   "source": [
    "---\n",
    "title: \"연습장2\"\n",
    "author: \"신록예찬\"\n",
    "date: \"01/01/2099\"\n",
    "---"
   ]
  },
  {
   "cell_type": "markdown",
   "id": "11139675-29b3-41b0-a586-f1afdfdbfe19",
   "metadata": {},
   "source": [
    "# 숙제"
   ]
  },
  {
   "cell_type": "code",
   "execution_count": 4,
   "id": "0fc7ef5b-f4e1-4e83-a522-6fb0b8de149a",
   "metadata": {},
   "outputs": [],
   "source": [
    "import numpy as np\n",
    "import matplotlib.pyplot as plt\n",
    "import yfinance as yf"
   ]
  },
  {
   "cell_type": "markdown",
   "id": "2b33956f-3674-4675-9998-cd4564a38728",
   "metadata": {},
   "source": [
    "`1`. Stock 이라는 이름의 클래스를 만들고 아래의 기능을 넣어라. "
   ]
  },
  {
   "cell_type": "markdown",
   "id": "1fd2cedd-df48-4daa-8ad3-22f2f4c812d9",
   "metadata": {},
   "source": [
    "**(1) crawling 메소드**: crawling 메소드는 start_date, end_date, code 를 입력으로 받는 함수이며, code 에 대응하는 주식의 주가를 크롤링하는 기능을 가진다. 크롤링된 주식의 가격은 numpy array 형태로 저장되어 있다. "
   ]
  },
  {
   "cell_type": "markdown",
   "id": "832f715d-5b09-4a48-a400-a934a615eea8",
   "metadata": {},
   "source": [
    "**hint**: 아래의 코드를 관찰 "
   ]
  },
  {
   "cell_type": "code",
   "execution_count": 7,
   "id": "f4545d8f-baf8-4706-81d2-1336047de4fe",
   "metadata": {},
   "outputs": [
    {
     "name": "stdout",
     "output_type": "stream",
     "text": [
      "[*********************100%***********************]  1 of 1 completed\n"
     ]
    }
   ],
   "source": [
    "start_date = \"2023-01-01\"\n",
    "end_date = \"2023-05-02\"\n",
    "code = \"005930.KS\"\n",
    "y = yf.download(code, start=start_date, end=end_date)['Adj Close'].to_numpy()"
   ]
  },
  {
   "cell_type": "markdown",
   "id": "b0efddd5-b3b2-4083-9e40-1993ecc93747",
   "metadata": {},
   "source": [
    "**(2) smoothing 메소드**: smoothing는 크롤링된 주가 ${\\boldsymbol y}=(y_1,\\dots,y_n)$를 아래의 수식을 통하여 $n$회 변환하는 기능을 한다. \n",
    "\n",
    "- $\\tilde{y}_1= \\frac{1}{4}(3y_1 + y_2)$\n",
    "- $\\tilde{y}_i= \\frac{1}{4}(y_{i-1}+2y_i+y_{i+1})$, for $i=2,3,\\dots,n-1$ \n",
    "- $\\tilde{y}_n= \\frac{1}{4}(y_{n-1}+3y_{n})$"
   ]
  },
  {
   "cell_type": "markdown",
   "id": "49f33759-113b-4a5c-a1d1-7bf08fabf6f9",
   "metadata": {},
   "source": [
    "따라서 smoothing 메소드는 횟수 $n$을 입력으로 받으며 만약에 스무딩횟수 $n=50$ 라면 위의 변환을 50번 수행한다는 의미이다. "
   ]
  },
  {
   "cell_type": "markdown",
   "id": "b8a04677-b95f-47d6-8480-fc3c5060f960",
   "metadata": {},
   "source": [
    "**hint**: 아래의 코드는 스무딩횟수가 50일 경우 계산결과를 나타낸다.  "
   ]
  },
  {
   "cell_type": "code",
   "execution_count": 8,
   "id": "380dd8cd-1811-40d2-88c5-d2b3583e825b",
   "metadata": {},
   "outputs": [
    {
     "data": {
      "text/plain": [
       "array([57829.5198335 , 57913.45130858, 58074.98767179, 58302.49883106,\n",
       "       58580.85980052, 58893.6342362 , 59225.15916278, 59562.11733312,\n",
       "       59894.34552673, 60214.84152593, 60519.13801971, 60804.35235309,\n",
       "       61068.26212859, 61308.69372022, 61523.36985828, 61710.19151418,\n",
       "       61867.78289263, 61996.05025836, 62096.51500847, 62172.26857912,\n",
       "       62227.52668205, 62266.88741201, 62294.48217892, 62313.22926322,\n",
       "       62324.3595587 , 62327.30400351, 62319.94157793, 62299.13135202,\n",
       "       62261.40667203, 62203.6964973 , 62123.95164058, 62021.58264813,\n",
       "       61897.65327525, 61754.8142197 , 61597.00327565, 61428.97717458,\n",
       "       61255.77153928, 61082.20095767, 60912.50404337, 60750.20562209,\n",
       "       60598.21432284, 60459.11116399, 60335.53051955, 60230.505942  ,\n",
       "       60147.65985811, 60091.15743789, 60065.40911365, 60074.57426582,\n",
       "       60121.97095198, 60209.5197855 , 60337.34065497, 60503.58512128,\n",
       "       60704.53726274, 60934.96461047, 61188.6585627 , 61459.07535255,\n",
       "       61739.97532625, 62025.95922279, 62312.81470816, 62597.61454921,\n",
       "       62878.54876233, 63154.52323711, 63424.60866005, 63687.46393417,\n",
       "       63940.87457   , 64181.52954181, 64405.10955815, 64606.6863928 ,\n",
       "       64781.35656111, 64924.97537827, 65034.83581495, 65110.15528052,\n",
       "       65152.28414726, 65164.61511766, 65152.2332612 , 65121.38844629,\n",
       "       65078.88899085, 65031.50938302, 64985.48231823, 64946.11407554,\n",
       "       64917.53018147, 64902.53224792])"
      ]
     },
     "execution_count": 8,
     "metadata": {},
     "output_type": "execute_result"
    }
   ],
   "source": [
    "T = len(y)\n",
    "M = (np.eye(T) + np.array([abs(i-j)<2 for i in range(T) for j in range(T)]).reshape(T,T))/4\n",
    "M[0,0] = 3/4; M[-1,-1]= 3/4 \n",
    "np.linalg.matrix_power(M,50)@y"
   ]
  },
  {
   "cell_type": "markdown",
   "id": "8953aaa1-113b-4700-bc8f-85c2317d0ef8",
   "metadata": {},
   "source": [
    "**(3) plot 메소드**: plot 메소드는 크롤링된 주가와 스무딩결과를 plot 하는 역할을 한다. "
   ]
  },
  {
   "cell_type": "markdown",
   "id": "fdccb7d7-388e-4cfe-8e70-0badbec87f2b",
   "metadata": {},
   "source": [
    "**hint**: 아래의 코드를 관찰 "
   ]
  },
  {
   "cell_type": "code",
   "execution_count": 9,
   "id": "7a61f543-044b-4743-a405-992585e2bc3f",
   "metadata": {},
   "outputs": [
    {
     "data": {
      "text/plain": [
       "<matplotlib.legend.Legend at 0x7f37b524f8e0>"
      ]
     },
     "execution_count": 9,
     "metadata": {},
     "output_type": "execute_result"
    },
    {
     "data": {
      "image/png": "[encoded data removed]",
      "text/plain": [
       "<Figure size 432x288 with 1 Axes>"
      ]
     },
     "metadata": {
      "needs_background": "light"
     },
     "output_type": "display_data"
    }
   ],
   "source": [
    "plt.plot(y,label=r'$y$')\n",
    "plt.plot(np.linalg.matrix_power(M,50)@y,'--',label=r'$M^{50}@y$')\n",
    "plt.legend()"
   ]
  },
  {
   "cell_type": "markdown",
   "id": "c5b02661-2762-46ec-9a49-9670a9e17fb7",
   "metadata": {},
   "source": [
    "(풀이)"
   ]
  },
  {
   "cell_type": "code",
   "execution_count": 24,
   "id": "e6ba1e1d-827b-4dbb-b629-6f717772425f",
   "metadata": {},
   "outputs": [],
   "source": [
    "class Stock: \n",
    "    def __init__(self):\n",
    "        self.y = None\n",
    "        self.sy = None\n",
    "    def crawling(self,code,start_date,end_date):\n",
    "        self.y = yf.download(code, start=start_date, end=end_date)['Adj Close'].to_numpy()\n",
    "    def smoothing(self,n):\n",
    "        T = len(self.y)\n",
    "        self.n = n\n",
    "        M = (np.eye(T) + np.array([abs(i-j)<2 for i in range(T) for j in range(T)]).reshape(T,T))/4\n",
    "        M[0,0] = 3/4; M[-1,-1]= 3/4 \n",
    "        self.sy = np.linalg.matrix_power(M,50)@self.y\n",
    "    def plot(self):\n",
    "        plt.plot(self.y,label=r'$y$')\n",
    "        plt.plot(self.sy,'--',label=r'$M^{}@y$'.format(self.n))\n",
    "        plt.legend()        "
   ]
  },
  {
   "cell_type": "markdown",
   "id": "8c8f3fed-e6fc-4f15-b8b1-712107f80ef3",
   "metadata": {},
   "source": [
    "`2`. 1에서 만든 Stock 클래스에서 kakao 인스턴스를 생성하라. 생성된 kakao 인스턴스에서 crawling 메소드를 이용하여 아래의 조건에 맞는 주식을 긁어오라. \n",
    "\n",
    "- code: '000660.KS' (하이닉스)\n",
    "- start_date = \"2023-01-01\"\n",
    "- end_date = \"2023-05-26\"\n"
   ]
  },
  {
   "cell_type": "markdown",
   "id": "6ef446d6-90ce-4d05-a8f0-0072082fc114",
   "metadata": {},
   "source": [
    "이후 .smoothing 메소드를 이용하여 $n=50$회 스무딩하고 .plot 메소드를 이용하여 결과를 시각화하라. "
   ]
  },
  {
   "cell_type": "markdown",
   "id": "07cd175e-e98c-4356-a178-b4d652c56869",
   "metadata": {},
   "source": [
    "(사용예시)"
   ]
  },
  {
   "cell_type": "code",
   "execution_count": 36,
   "id": "22ac58f2-5355-44a7-a647-610fbd7df5ee",
   "metadata": {},
   "outputs": [],
   "source": [
    "kakao = Stock()"
   ]
  },
  {
   "cell_type": "code",
   "execution_count": 37,
   "id": "2eb8a809-5d6c-4832-943b-6dd8f8a6c243",
   "metadata": {},
   "outputs": [
    {
     "name": "stdout",
     "output_type": "stream",
     "text": [
      "[*********************100%***********************]  1 of 1 completed\n"
     ]
    }
   ],
   "source": [
    "kakao.crawling(code='035720.KS',start_date='2023-01-01',end_date='2023-05-26')"
   ]
  },
  {
   "cell_type": "code",
   "execution_count": 38,
   "id": "6e97842a-bd81-45b6-a56c-42781f7d06ab",
   "metadata": {},
   "outputs": [],
   "source": [
    "kakao.smoothing(50)"
   ]
  },
  {
   "cell_type": "code",
   "execution_count": 39,
   "id": "71bb52ed-ab83-4dd5-9d72-0527b8dc61a8",
   "metadata": {},
   "outputs": [
    {
     "data": {
      "image/png": "[encoded data removed]",
      "text/plain": [
       "<Figure size 432x288 with 1 Axes>"
      ]
     },
     "metadata": {
      "needs_background": "light"
     },
     "output_type": "display_data"
    }
   ],
   "source": [
    "kakao.plot()"
   ]
  },
  {
   "cell_type": "markdown",
   "id": "f79291a0-bbcf-42a1-9196-4f050d26a288",
   "metadata": {},
   "source": [
    "(풀이) -- 사용예시가 곧 풀이임 "
   ]
  },
  {
   "cell_type": "markdown",
   "id": "3574adc8-254b-40ec-85ea-48c9e5debbc3",
   "metadata": {},
   "source": [
    "`3`. LinearRegression 이라는 이름의 클래스를 만들고 아래의 기능을 넣어라. "
   ]
  },
  {
   "cell_type": "markdown",
   "id": "1717fc7b-55e6-4eee-8ad9-2a90f1224568",
   "metadata": {},
   "source": [
    "**(1)** \"클래스 $\\to$ 인스턴스\" 인 시점에 길이가 $n$인 numpy array ${\\bf x}=(x_1,\\dots,x_n)$, ${\\bf y}=(y_1,\\dots,y_n)$을 입력으로 받아 내부에 저장한다. "
   ]
  },
  {
   "cell_type": "markdown",
   "id": "210afa3a-0431-4dbf-99a3-e54dd9468afe",
   "metadata": {},
   "source": [
    "**(2) learn 메소드**: learn은 내부에 저장된 ${\\bf x}$, ${\\bf y}$를 이용하여 $\\hat{\\bf y}=(\\hat{y}_1,\\dots,\\hat{y}_n)$을 계산하는 역할을 한다. 계산은 아래의 수식을 이용한다. "
   ]
  },
  {
   "cell_type": "markdown",
   "id": "1dcbfe8a-6f15-452d-bdae-322e81e042ab",
   "metadata": {},
   "source": [
    "$$\\hat{\\bf y}= {\\bf X}({\\bf X}^T {\\bf X})^{-1}{\\bf X}^T {\\bf y}, \\quad {\\bf X}=\\begin{bmatrix} 1 & x_1 \\\\ 1 & x_2 \\\\ \\dots \\\\ 1 & x_n \\end{bmatrix}$$ "
   ]
  },
  {
   "cell_type": "markdown",
   "id": "7d7ac76e-0a0f-4086-b361-05a67178fbb3",
   "metadata": {},
   "source": [
    "**hint** 아래의 코드를 관찰하라. "
   ]
  },
  {
   "cell_type": "code",
   "execution_count": 29,
   "id": "e57debf0-6c5a-4ae6-910a-0d42abdb9709",
   "metadata": {},
   "outputs": [],
   "source": [
    "x =  np.array([0.00983, 0.01098, 0.02951, 0.0384 , 0.03973, 0.04178, 0.0533 ,\n",
    "               0.058  , 0.09454, 0.1103 , 0.1328 , 0.1412 , 0.1497 , 0.1664 ,\n",
    "               0.1906 , 0.1923 , 0.198  , 0.2141 , 0.2393 , 0.2433 , 0.3157 ,\n",
    "               0.3228 , 0.3418 , 0.3552 , 0.3918 , 0.3962 , 0.4    , 0.4482 ,\n",
    "               0.496  , 0.507  , 0.53   , 0.5654 , 0.582  , 0.5854 , 0.5854 ,\n",
    "               0.6606 , 0.7007 , 0.723  , 0.7305 , 0.7383 , 0.7656 , 0.7725 ,\n",
    "               0.831  , 0.8896 , 0.9053 , 0.914  , 0.949  , 0.952  , 0.9727 ,\n",
    "               0.982  ])\n",
    "y =  np.array([0.7381, 0.7043, 0.3937, 0.1365, 0.3784, 0.3028, 0.1037, 0.3846,\n",
    "               0.706 , 0.7572, 0.2421, 0.232 , 0.9855, 1.162 , 0.4653, 0.6791,\n",
    "               0.6905, 0.6865, 0.9757, 0.7665, 0.9522, 0.4641, 0.5498, 1.1509,\n",
    "               0.5288, 1.1195, 1.1659, 1.4341, 1.2779, 1.1648, 1.4002, 0.7472,\n",
    "               0.9142, 0.9658, 1.0707, 1.4501, 1.6758, 0.8778, 1.3384, 0.7476,\n",
    "               1.3086, 1.7537, 1.5559, 1.2928, 1.3832, 1.3115, 1.3382, 1.536 ,           \n",
    "               1.9177, 1.2069])"
   ]
  },
  {
   "cell_type": "code",
   "execution_count": 31,
   "id": "6910c65a-28cb-4030-96a2-cd74754ecfc7",
   "metadata": {},
   "outputs": [],
   "source": [
    "n = len(x)\n",
    "X = np.stack([np.ones(n),x],axis=1)\n",
    "yhat = X@np.linalg.inv(X.T@X)@X.T@y "
   ]
  },
  {
   "cell_type": "markdown",
   "id": "8bdc643f-364f-44b5-9396-2002f7dde703",
   "metadata": {},
   "source": [
    "**(3) plot 메소드**: plot은 $(x_i,y_i)$와 $(x_i,\\hat{y}_i)$를 시각화하는 역할을 한다. "
   ]
  },
  {
   "cell_type": "markdown",
   "id": "abd8e6e5-7ebd-4b86-837a-b9fb992f4350",
   "metadata": {},
   "source": [
    "**hint** 아래의 코드를 관찰하라. "
   ]
  },
  {
   "cell_type": "code",
   "execution_count": 35,
   "id": "f0be4928-febf-4977-a817-6ad4aad5fc2f",
   "metadata": {},
   "outputs": [
    {
     "data": {
      "text/plain": [
       "<matplotlib.legend.Legend at 0x7f37ac1a8f10>"
      ]
     },
     "execution_count": 35,
     "metadata": {},
     "output_type": "execute_result"
    },
    {
     "data": {
      "image/png": "[encoded data removed]",
      "text/plain": [
       "<Figure size 432x288 with 1 Axes>"
      ]
     },
     "metadata": {
      "needs_background": "light"
     },
     "output_type": "display_data"
    }
   ],
   "source": [
    "plt.plot(x,y,'o',label=r'$(x_i,y_i)$')\n",
    "plt.plot(x,yhat,'--',label=r'$(x_i,\\hat{y}_i)$')\n",
    "plt.legend()"
   ]
  },
  {
   "cell_type": "markdown",
   "id": "4508ddcf-a5f2-41bc-a6ba-0d731931271d",
   "metadata": {},
   "source": [
    "`4`. LinearRegression 을 이용하여 아래의 자료에 대한 분석을 진행하라. 즉 `.learn()` 을 이용하여 $\\hat{y}_i$ 를 계산하고 `.plot()`을 이용하여 결과를 시각화하라. "
   ]
  },
  {
   "cell_type": "code",
   "execution_count": 74,
   "id": "6ca55f74-9659-417b-b2e4-f3552c7051eb",
   "metadata": {},
   "outputs": [],
   "source": [
    "x = np.array(\n",
    "    [0.007, 0.008, 0.008, 0.011, 0.037, 0.047, 0.059, 0.07 , 0.072,\n",
    "     0.075, 0.078, 0.08 , 0.082, 0.11 , 0.114, 0.117, 0.133, 0.15 ,\n",
    "     0.161, 0.163, 0.172, 0.208, 0.209, 0.221, 0.229, 0.231, 0.234,\n",
    "     0.235, 0.249, 0.251, 0.256, 0.269, 0.269, 0.273, 0.275, 0.298,\n",
    "     0.305, 0.309, 0.34 , 0.362, 0.371, 0.374, 0.382, 0.387, 0.388,\n",
    "     0.394, 0.395, 0.397, 0.401, 0.404, 0.419, 0.433, 0.436, 0.466,\n",
    "     0.481, 0.492, 0.495, 0.508, 0.511, 0.512, 0.554, 0.57 , 0.574,\n",
    "     0.575, 0.584, 0.6  , 0.601, 0.615, 0.618, 0.623, 0.629, 0.633,\n",
    "     0.646, 0.65 , 0.654, 0.662, 0.673, 0.686, 0.702, 0.744, 0.754,\n",
    "     0.766, 0.772, 0.781, 0.798, 0.8  , 0.807, 0.836, 0.837, 0.871,\n",
    "     0.873, 0.877, 0.879, 0.889, 0.891, 0.902, 0.904, 0.923, 0.952,\n",
    "     0.981]\n",
    ")"
   ]
  },
  {
   "cell_type": "code",
   "execution_count": 75,
   "id": "2012a4da-bf70-459f-a211-98b049a27a83",
   "metadata": {},
   "outputs": [],
   "source": [
    "y = np.array(\n",
    "    [4.004, 4.189, 5.483, 4.902, 5.174, 4.468, 4.95 , 4.463, 5.476,\n",
    "     4.446, 4.764, 5.244, 4.357, 4.796, 5.464, 4.196, 5.244, 4.868,\n",
    "     5.358, 4.493, 4.831, 4.716, 4.929, 4.588, 4.718, 4.389, 4.985,\n",
    "     4.266, 4.291, 3.697, 4.248, 4.88 , 5.126, 4.563, 4.131, 4.728,\n",
    "     4.168, 4.584, 3.953, 4.747, 3.592, 5.023, 4.601, 3.904, 4.092,\n",
    "     4.37 , 3.922, 4.145, 4.576, 4.25 , 4.051, 3.616, 4.634, 3.496,\n",
    "     4.631, 4.025, 4.197, 4.226, 4.808, 3.676, 3.834, 3.197, 4.36 ,\n",
    "     3.547, 3.956, 3.522, 4.26 , 3.443, 3.97 , 4.068, 4.186, 3.262,\n",
    "     3.452, 3.946, 3.875, 3.444, 3.501, 3.959, 3.843, 2.679, 3.266,\n",
    "     3.506, 2.916, 3.714, 4.007, 2.795, 3.329, 2.756, 3.72 , 2.381,\n",
    "     2.798, 3.035, 3.492, 3.22 , 3.073, 3.85 , 3.233, 3.396, 3.264,\n",
    "     2.986]\n",
    ")"
   ]
  }
 ],
 "metadata": {
  "kernelspec": {
   "display_name": "Python 3",
   "language": "python",
   "name": "python3"
  },
  "language_info": {
   "codemirror_mode": {
    "name": "ipython",
    "version": 3
   },
   "file_extension": ".py",
   "mimetype": "text/x-python",
   "name": "python",
   "nbconvert_exporter": "python",
   "pygments_lexer": "ipython3",
   "version": "3.8.16"
  }
 },
 "nbformat": 4,
 "nbformat_minor": 5
}
