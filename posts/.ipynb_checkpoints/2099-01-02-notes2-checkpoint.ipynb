{
 "cells": [
  {
   "cell_type": "raw",
   "id": "9c7a4f4d-1009-41be-b1a9-57e5d3ebf038",
   "metadata": {},
   "source": [
    "---\n",
    "title: \"연습장2\"\n",
    "author: \"신록예찬\"\n",
    "date: \"01/01/2099\"\n",
    "---"
   ]
  },
  {
   "cell_type": "code",
   "execution_count": 9,
   "id": "ccaf1352-3d6b-4d2f-99b2-4f6308e0ccb9",
   "metadata": {},
   "outputs": [],
   "source": [
    "import numpy as np"
   ]
  },
  {
   "cell_type": "markdown",
   "id": "3f2cccb6-d967-4849-97c1-8c27a247a813",
   "metadata": {},
   "source": [
    "`(3)` 앞면과 뒷면이 나올 확률이 각각 1/2인 동전을 생각하자. 하니와 규빈은 이 동전을 연속으로 던져서 아래와 같은 룰을 정하여 내기를 하였다. \n",
    "\n",
    "- 동전을 연속으로 반복하여 던진다. 최근 2회의 결과가 (앞면,앞면) 이 나오면 하니의 승리\n",
    "- 동전을 연속으로 반복하여 던진다. 최근 2회의 결과가 (뒷면,뒷면) 이 나오면 규빈의 승리 "
   ]
  },
  {
   "cell_type": "markdown",
   "id": "a325493e-0329-440d-be95-30a297ff1d01",
   "metadata": {},
   "source": [
    "예를들어 동전을 반복하여 던져 아래와 같이 나온다면 하니의 승리이다. \n",
    "\n",
    "- (앞면, 뒷면, 앞면, 뒷면, 앞면, 앞면) \n",
    "- (앞면, 뒷면, 앞면, 앞면) \n",
    "\n",
    "동전을 반복하여 던져 아래와 같이 나온다면 규빈의 승리이다. \n",
    "\n",
    "- (앞면, 뒷면, 앞면, 뒷면, 뒷면) \n",
    "- (뒷면, 앞면, 뒷면, 뒷면)  "
   ]
  },
  {
   "cell_type": "markdown",
   "id": "1dde0693-a430-4624-a7f7-31d80202b091",
   "metadata": {},
   "source": [
    "이 내기는 하니가 유리한가? 규빈이 유리한가? 시뮬레이션을 통해 검증하라. "
   ]
  },
  {
   "cell_type": "code",
   "execution_count": 57,
   "id": "f21dad6f-6659-43d0-8707-bc8ee57137df",
   "metadata": {},
   "outputs": [],
   "source": [
    "class TossCoin: \n",
    "    def __init__(self):\n",
    "        self.toss_results = [[]]\n",
    "        self.winner_history = []\n",
    "        self.hanis_winning_criteria  = [True,True]\n",
    "        self.guebin_winning_criteria = [False,False]\n",
    "    def __iter__(self):\n",
    "        return self \n",
    "    def toss(self):\n",
    "        rslt =  np.random.rand() < 0.5\n",
    "        self.toss_results[-1].append(rslt)   \n",
    "    def __next__(self):\n",
    "        self.toss()\n",
    "        if self.toss_results[-1][-2:] == self.hanis_winning_criteria:\n",
    "            self.winner_history.append('하니')\n",
    "            self.toss_results[-1].append([])\n",
    "            raise StopIteration\n",
    "        elif self.toss_results[-1][-2:] == self.guebin_winning_criteria: \n",
    "            self.winner_history.append('규빈')\n",
    "            self.toss_results[-1].append([])\n",
    "            raise StopIteration\n",
    "    def summary(self):\n",
    "        return {'하니':self.winner_history.count('하니'), \n",
    "                '규빈':self.winner_history.count('규빈')}"
   ]
  },
  {
   "cell_type": "code",
   "execution_count": 58,
   "id": "e8d54647-1fae-4b4c-b2cb-2a09867f10a1",
   "metadata": {},
   "outputs": [],
   "source": [
    "coin_iterator = TossCoin()"
   ]
  },
  {
   "cell_type": "code",
   "execution_count": 59,
   "id": "a7ca10e5-90d4-427a-a23a-d457e2c3bee8",
   "metadata": {},
   "outputs": [],
   "source": [
    "for i in range(1000):\n",
    "    for _ in coin_iterator:\n",
    "        pass"
   ]
  },
  {
   "cell_type": "code",
   "execution_count": 60,
   "id": "80fb611d-3561-4fff-b15b-a4ec141ac6c8",
   "metadata": {},
   "outputs": [
    {
     "data": {
      "text/plain": [
       "{'하니': 525, '규빈': 475}"
      ]
     },
     "execution_count": 60,
     "metadata": {},
     "output_type": "execute_result"
    }
   ],
   "source": [
    "coin_iterator.summary()"
   ]
  },
  {
   "cell_type": "markdown",
   "id": "19eb4cda-3281-46cd-b045-c9f7f26ec995",
   "metadata": {},
   "source": [
    "`(4)` 앞면과 뒷면이 나올 확률이 각각 1/2인 동전을 생각하자. 하니와 규빈은 이 동전을 연속으로 던져서 아래와 같은 룰을 정하여 내기를 하였다. \n",
    "\n",
    "- 동전을 연속으로 반복하여 던진다. 최근 2회의 결과가 (뒷면,앞면) 이 나오면 하니의 승리\n",
    "- 동전을 연속으로 반복하여 던진다. 최근 2회의 결과가 (뒷면,뒷면) 이 나오면 규빈의 승리 "
   ]
  },
  {
   "cell_type": "markdown",
   "id": "8c5e1bb3-b278-4bc6-8e74-82e74b02af17",
   "metadata": {},
   "source": [
    "이 내기는 하니가 유리한가? 규빈이 유리한가? 시뮬레이션을 통해 검증하라. "
   ]
  },
  {
   "cell_type": "code",
   "execution_count": 61,
   "id": "1e2f41d6-c4ce-4e39-b27d-2281f4ef1320",
   "metadata": {},
   "outputs": [],
   "source": [
    "coin_iterator = TossCoin()"
   ]
  },
  {
   "cell_type": "code",
   "execution_count": 62,
   "id": "9c327fca-0ff8-4b09-a5bb-6dcea7135390",
   "metadata": {},
   "outputs": [],
   "source": [
    "coin_iterator.hanis_winning_criteria = [False,True]"
   ]
  },
  {
   "cell_type": "code",
   "execution_count": 63,
   "id": "961c290c-5067-4287-84dc-2e295611d23d",
   "metadata": {},
   "outputs": [],
   "source": [
    "for i in range(1000):\n",
    "    for _ in coin_iterator:\n",
    "        pass"
   ]
  },
  {
   "cell_type": "code",
   "execution_count": 64,
   "id": "dbd0d7b6-58f1-4441-a565-64099a9e9398",
   "metadata": {},
   "outputs": [
    {
     "data": {
      "text/plain": [
       "{'하니': 484, '규빈': 516}"
      ]
     },
     "execution_count": 64,
     "metadata": {},
     "output_type": "execute_result"
    }
   ],
   "source": [
    "coin_iterator.summary()"
   ]
  },
  {
   "cell_type": "markdown",
   "id": "f4ee8695-edc1-439c-b1ea-a74798f9f055",
   "metadata": {},
   "source": [
    "`(5)` 앞면과 뒷면이 나올 확률이 각각 1/2인 동전을 생각하자. 하니와 규빈은 이 동전을 연속으로 던져서 아래와 같은 룰을 정하여 내기를 하였다. \n",
    "\n",
    "- 동전을 연속으로 반복하여 던진다. 최근 2회의 결과가 (앞면,뒷면) 이 나오면 하니의 승리\n",
    "- 동전을 연속으로 반복하여 던진다. 최근 2회의 결과가 (뒷면,뒷면) 이 나오면 규빈의 승리 "
   ]
  },
  {
   "cell_type": "markdown",
   "id": "967779de-4087-4df9-b7e6-2ac548835d9d",
   "metadata": {},
   "source": [
    "이 내기는 하니가 유리한가? 규빈이 유리한가? 시뮬레이션을 통해 검증하라. "
   ]
  },
  {
   "cell_type": "code",
   "execution_count": 65,
   "id": "1ea40aa1-44ed-478d-8e57-665c2bc129f0",
   "metadata": {},
   "outputs": [],
   "source": [
    "coin_iterator = TossCoin()"
   ]
  },
  {
   "cell_type": "code",
   "execution_count": 66,
   "id": "8c0140cb-1095-4258-9173-50046dc5db4f",
   "metadata": {},
   "outputs": [],
   "source": [
    "coin_iterator.hanis_winning_criteria = [True,False]"
   ]
  },
  {
   "cell_type": "code",
   "execution_count": 67,
   "id": "550fba86-0297-4840-b590-fd5cc662b75d",
   "metadata": {},
   "outputs": [],
   "source": [
    "for i in range(1000):\n",
    "    for _ in coin_iterator:\n",
    "        pass"
   ]
  },
  {
   "cell_type": "code",
   "execution_count": 68,
   "id": "0149c026-7c19-4b71-922f-c030615f4d01",
   "metadata": {},
   "outputs": [
    {
     "data": {
      "text/plain": [
       "{'하니': 761, '규빈': 239}"
      ]
     },
     "execution_count": 68,
     "metadata": {},
     "output_type": "execute_result"
    }
   ],
   "source": [
    "coin_iterator.summary()"
   ]
  },
  {
   "cell_type": "code",
   "execution_count": 52,
   "id": "4cf996d5-7c9e-4c63-904f-d20db5a6dc07",
   "metadata": {},
   "outputs": [
    {
     "data": {
      "text/plain": [
       "<__main__.TossCoin at 0x7f2a3cfb2610>"
      ]
     },
     "execution_count": 52,
     "metadata": {},
     "output_type": "execute_result"
    }
   ],
   "source": [
    "coin_iterator"
   ]
  }
 ],
 "metadata": {
  "kernelspec": {
   "display_name": "Python 3",
   "language": "python",
   "name": "python3"
  },
  "language_info": {
   "codemirror_mode": {
    "name": "ipython",
    "version": 3
   },
   "file_extension": ".py",
   "mimetype": "text/x-python",
   "name": "python",
   "nbconvert_exporter": "python",
   "pygments_lexer": "ipython3",
   "version": "3.8.16"
  }
 },
 "nbformat": 4,
 "nbformat_minor": 5
}
