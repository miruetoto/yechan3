{
 "cells": [
  {
   "cell_type": "raw",
   "id": "d5d6e3e2-f746-460f-97ee-e03221cb6241",
   "metadata": {},
   "source": [
    "---\n",
    "title: \"연습장1\"\n",
    "author: \"최규빈\"\n",
    "date: \"01/01/2099\"\n",
    "---"
   ]
  },
  {
   "cell_type": "markdown",
   "id": "0f0b72a4-1527-493b-b7e4-dfa8be499a7a",
   "metadata": {},
   "source": [
    "# 깁스샘플링 "
   ]
  },
  {
   "cell_type": "markdown",
   "id": "088862c6-b701-4240-9b84-47e63fb454e6",
   "metadata": {},
   "source": [
    "`-` two-stage 깁스샘플러는 joint distribution에서 아래와 같은 과정을 거쳐 마코프체인을 만든다. 두 확률변수 $X$,$Y$에 대한 결합확률밀도함수, 조건부확률밀도함수를 각각 $f(x,y)$, $f_{Y|X}$, $f_{X|Y}$와 같이 선언하자. \n",
    "\n",
    "Take $X_0=x_0$\n",
    "\n",
    "For $t=1,2,3,\\dots$ generate \n",
    "1. $Y_t \\sim f_{Y|X}(\\cdot | x_{t-1})$\n",
    "2. $X_t \\sim f_{X|Y}(\\cdot | y_t)$\n"
   ]
  },
  {
   "cell_type": "markdown",
   "id": "16a8696c-39c9-4c2c-96b2-b9adc71b204a",
   "metadata": {},
   "source": [
    "`-` 깁스샘플링: conditional의 정보를 알고 있음 $\\Rightarrow$ marginal 과 joint를 샘플링 "
   ]
  },
  {
   "cell_type": "markdown",
   "id": "e01c5545-0c62-4698-a56e-634186004356",
   "metadata": {},
   "source": [
    "`-` 깁스샘플링으로 2변량 정규분포를 뽑는 방법 "
   ]
  },
  {
   "cell_type": "markdown",
   "id": "36fdb56f-1116-436a-bc71-c190ab26421c",
   "metadata": {},
   "source": [
    "`-` 깁스샘플링을 이용하면 포스테리어를 샘플링 할 수 있다. \n",
    "\n",
    "- $\\theta \\sim {\\cal B}eta(a,b)$ \n",
    "- $X|\\theta \\sim {\\cal B}in(n,\\theta)$"
   ]
  },
  {
   "cell_type": "markdown",
   "id": "f679b1a5-e54f-425c-874f-5b63b66018a8",
   "metadata": {},
   "source": [
    "조인트는 아래와 같다. \n",
    "\n",
    "- $f(x,\\theta) = \\begin{pmatrix} n \\\\ x \\end{pmatrix}\\frac{\\Gamma(a+b)}{\\Gamma(a)+\\Gamma(b)}\\theta^{x+a-1}(1-\\theta)^{n-x+b-1}$"
   ]
  },
  {
   "cell_type": "markdown",
   "id": "4acfe74e-c733-414d-b60e-1a4dba0d955b",
   "metadata": {},
   "source": [
    "이것을 이용하면 아래를 샘플링 할 수 있다. \n",
    "\n",
    "- $\\theta |x \\sim {\\cal B}eta(x+a,n-x+b)$ <- 이 분포를 명시적으로 몰라도 가능함 "
   ]
  },
  {
   "cell_type": "code",
   "execution_count": null,
   "id": "7c4375ae-ee92-4951-a336-96dcf9192575",
   "metadata": {},
   "outputs": [],
   "source": []
  },
  {
   "cell_type": "markdown",
   "id": "398965e4-a345-4117-99cb-181fe3c93f24",
   "metadata": {},
   "source": [
    "`-` 토필모델 "
   ]
  },
  {
   "cell_type": "code",
   "execution_count": null,
   "id": "c9ef2e92-51a1-400b-a6f9-6c70d97943c3",
   "metadata": {},
   "outputs": [],
   "source": []
  },
  {
   "cell_type": "code",
   "execution_count": null,
   "id": "992aa13b-c60d-4aee-8784-27dc22d37df9",
   "metadata": {},
   "outputs": [],
   "source": []
  },
  {
   "cell_type": "markdown",
   "id": "af352a67-5170-4ff2-8289-74f40b3cf8dc",
   "metadata": {},
   "source": [
    "### 예제1 "
   ]
  },
  {
   "cell_type": "markdown",
   "id": "b0f8b149-d977-4f74-8d94-e82ca448267b",
   "metadata": {},
   "source": [
    "`-` 주사위 2개를 던져서 확률변수 $X$와 $Y$를 아래와 같이 정의하자. \n",
    "\n",
    "- $X$: 첫번째 주사위를 던졌을때 나오는 숫자. ($X=1,2,3,4,5,6$)\n",
    "- $Y$: 두 주사위의 합 ($Y=2,3,\\dots,12$)"
   ]
  },
  {
   "cell_type": "markdown",
   "id": "180f7fb8-b8b0-4673-a595-4deea33284f5",
   "metadata": {},
   "source": [
    "`–` $X,Y$의 확률질량 함수를 구하면 아래와 같다. "
   ]
  },
  {
   "cell_type": "markdown",
   "id": "77743f00-5b3d-4127-bfcc-f1124824af09",
   "metadata": {},
   "source": [
    "|$x$|1|2|3|4|5|6| \n",
    "|:-:|:-:|:-:|:-:|:-:|:-:|:-:|\n",
    "|$p(x)$|1/6|1/6|1/6|1/6|1/6|1/6|"
   ]
  },
  {
   "cell_type": "markdown",
   "id": "581fbc46-cca5-4ff4-9ffd-6d0b6781a878",
   "metadata": {},
   "source": [
    "|$y$|2|3|4|5|6|7|8|9|10|11|12| \n",
    "|:-:|:-:|:-:|:-:|:-:|:-:|:-:|:-:|:-:|:-:|:-:|:-:|\n",
    "|$p(x)$|1/36|2/36|3/36|4/36|5/36|6/36|5/36|4/36|3/36|2/36|1/36| "
   ]
  },
  {
   "cell_type": "markdown",
   "id": "967cde3a-db60-4e29-a335-d11765678a2b",
   "metadata": {},
   "source": [
    "`–` 확률변수 $X$와 $Y$를 만드는법 "
   ]
  },
  {
   "cell_type": "code",
   "execution_count": 13,
   "id": "7111c928-4e34-427f-912d-96c29c51cacb",
   "metadata": {},
   "outputs": [
    {
     "name": "stdout",
     "output_type": "stream",
     "text": [
      "[1] 3 6 2 6 3 3\n"
     ]
    }
   ],
   "source": [
    "X=sample(1:6,size=5000,replace=T)\n",
    "print(head(X))"
   ]
  },
  {
   "cell_type": "code",
   "execution_count": 14,
   "id": "cb6a48b2-d8bf-4c3f-908f-0540a9001759",
   "metadata": {},
   "outputs": [
    {
     "name": "stdout",
     "output_type": "stream",
     "text": [
      "[1]  6 11  4  8  8  6\n"
     ]
    }
   ],
   "source": [
    "Y=X+sample(1:6,size=5000,replace=T)\n",
    "print(head(Y))"
   ]
  },
  {
   "cell_type": "code",
   "execution_count": 15,
   "id": "414d78a3-3df4-48e7-8228-e6cfac8a4656",
   "metadata": {},
   "outputs": [
    {
     "data": {
      "image/png": "[encoded data removed]",
      "text/plain": [
       "Plot with title “Histogram of X”"
      ]
     },
     "metadata": {
      "image/png": {
       "height": 420,
       "width": 420
      }
     },
     "output_type": "display_data"
    }
   ],
   "source": [
    "hist(X,1:7,right=F)"
   ]
  },
  {
   "cell_type": "code",
   "execution_count": 16,
   "id": "f5fb6e66-08fa-4d01-b8c1-433e554c3edf",
   "metadata": {},
   "outputs": [
    {
     "data": {
      "image/png": "[encoded data removed]",
      "text/plain": [
       "Plot with title “Histogram of Y”"
      ]
     },
     "metadata": {
      "image/png": {
       "height": 420,
       "width": 420
      }
     },
     "output_type": "display_data"
    }
   ],
   "source": [
    "hist(Y,2:13,right=F)"
   ]
  },
  {
   "cell_type": "markdown",
   "id": "1cc09afd-9653-40c9-a5d9-449739fbdc61",
   "metadata": {},
   "source": [
    "`–` $Y=y$를 알고 있을떄 $X$를 쉽게 얻을 수 있을까? "
   ]
  },
  {
   "cell_type": "markdown",
   "id": "dc7136e6-1984-4431-83d7-d0b8585f701f",
   "metadata": {},
   "source": [
    "- $P(X|Y=y)=?$"
   ]
  },
  {
   "cell_type": "markdown",
   "id": "139c19bf-7841-404e-9daa-4f1d0ef7d910",
   "metadata": {},
   "source": [
    "|y|x|\n",
    "|:-:|:-:|\n",
    "|2|1|\n",
    "|3|1,2|\n",
    "|4|1,2,3|\n",
    "|5|1,2,3,4|\n",
    "|6|1,2,3,4,5|\n",
    "|7|1,2,3,4,5,6|\n",
    "|8|2,3,4,5,6| \n",
    "|9|3,4,5,6| \n",
    "|10|4,5,6| \n",
    "|11|5,6| \n",
    "|12|6| "
   ]
  },
  {
   "cell_type": "markdown",
   "id": "061518dc-bcd0-4975-a85d-c8d57af8165e",
   "metadata": {},
   "source": [
    "`–` 수식으로 요약하면 "
   ]
  },
  {
   "cell_type": "markdown",
   "id": "5f10c44b-dcfd-47ed-8d90-c49e6b6046b9",
   "metadata": {},
   "source": [
    "- $y\\leq 7$: $x$는 $1\\sim (y-1)$사이의 숫자를 랜덤으로 뽑는다. \n",
    "- $y>7$: $x$는 $(y-6)\\sim 6$사이의 숫자를 랜덤으로 뽑는다. "
   ]
  },
  {
   "cell_type": "code",
   "execution_count": 85,
   "id": "be5864ac-40c1-4f32-98ed-d68dfcf6bc66",
   "metadata": {},
   "outputs": [],
   "source": [
    "fx_giveny<-function(y){\n",
    "    if(y==12){\n",
    "        x<-6\n",
    "    } else if(y>7){\n",
    "        x<-sample((y-6):6,size=1)\n",
    "    }else{\n",
    "        x<-sample(1:(y-1),size=1)\n",
    "    }\n",
    "    x\n",
    "}"
   ]
  },
  {
   "cell_type": "markdown",
   "id": "c25f6276-15e0-40e5-bea5-c2fbca8607bb",
   "metadata": {},
   "source": [
    "`-` 그렇다면 아래와 같이 샘플링 할 수도 있지 않을까? "
   ]
  },
  {
   "cell_type": "markdown",
   "id": "d9e58ad1-1bc8-4fe4-b0c5-caf09abe4aed",
   "metadata": {},
   "source": [
    "($random \\sim$ 주사위) "
   ]
  },
  {
   "cell_type": "markdown",
   "id": "6f2afcb9-c638-484e-b19f-d3d1f7d08872",
   "metadata": {},
   "source": [
    "- $x_1$을 뽑는다. $x_1=random$"
   ]
  },
  {
   "cell_type": "markdown",
   "id": "6be1584d-ad46-422f-be27-3ae1da9a89b5",
   "metadata": {},
   "source": [
    "- $y_1$은 $x_1$을 이용하여 추출한다. 즉 $y_1=x_1+random$"
   ]
  },
  {
   "cell_type": "markdown",
   "id": "b57b0b4c-69a2-4a33-bc04-8436ab9f596c",
   "metadata": {},
   "source": [
    "- $x_2$는 $y_1$을 이용하여 추출한다 즉 $x_2 \\sim f(x_2|y_1)$"
   ]
  },
  {
   "cell_type": "markdown",
   "id": "1b800eb7-5d62-4cbe-b3a5-d0a4c16bbfbb",
   "metadata": {},
   "source": [
    "- $y_2$는 다시 $x_2$를 이용하여 추출한다. 즉 $y_2=x_2+random$"
   ]
  },
  {
   "cell_type": "markdown",
   "id": "6b9f0ac1-d65d-4037-8cb6-a5d2aeffcb79",
   "metadata": {},
   "source": [
    "..."
   ]
  },
  {
   "cell_type": "code",
   "execution_count": 86,
   "id": "e365c50d-903b-4ecf-ade6-5cf25b4194d8",
   "metadata": {},
   "outputs": [],
   "source": [
    "set.seed(3)\n",
    "x<-c()\n",
    "y<-c()\n",
    "x[1]<-sample(1:6,size=1)\n",
    "y[1]<-x[1]+sample(1:6,size=1)"
   ]
  },
  {
   "cell_type": "code",
   "execution_count": 87,
   "id": "a7b2bfd6-9d85-4828-8247-0c6910f8dd4d",
   "metadata": {},
   "outputs": [
    {
     "data": {
      "text/html": [
       "5"
      ],
      "text/latex": [
       "5"
      ],
      "text/markdown": [
       "5"
      ],
      "text/plain": [
       "[1] 5"
      ]
     },
     "metadata": {},
     "output_type": "display_data"
    }
   ],
   "source": [
    "x[1]"
   ]
  },
  {
   "cell_type": "code",
   "execution_count": 88,
   "id": "66ca30e0-471c-402c-bc00-2966a4d48017",
   "metadata": {},
   "outputs": [
    {
     "data": {
      "text/html": [
       "7"
      ],
      "text/latex": [
       "7"
      ],
      "text/markdown": [
       "7"
      ],
      "text/plain": [
       "[1] 7"
      ]
     },
     "metadata": {},
     "output_type": "display_data"
    }
   ],
   "source": [
    "y[1]"
   ]
  },
  {
   "cell_type": "code",
   "execution_count": 89,
   "id": "cedd51d4-2fa5-46ea-a6b2-67d79f82732d",
   "metadata": {},
   "outputs": [],
   "source": [
    "x[2]<-fx_giveny(y[1])\n",
    "y[2]<-x[2]+sample(1:6,size=1)"
   ]
  },
  {
   "cell_type": "code",
   "execution_count": 90,
   "id": "870b44a8-012a-490d-b682-6ed49f8009af",
   "metadata": {},
   "outputs": [
    {
     "name": "stdout",
     "output_type": "stream",
     "text": [
      "[1] 5 4\n"
     ]
    }
   ],
   "source": [
    "print(x)"
   ]
  },
  {
   "cell_type": "code",
   "execution_count": 91,
   "id": "032fac23-ed59-48c8-9311-698e8424e11a",
   "metadata": {},
   "outputs": [
    {
     "name": "stdout",
     "output_type": "stream",
     "text": [
      "[1] 7 8\n"
     ]
    }
   ],
   "source": [
    "print(y)"
   ]
  },
  {
   "cell_type": "code",
   "execution_count": 92,
   "id": "74e5fe9d-11c3-4e00-b094-56fc6c8b2b79",
   "metadata": {},
   "outputs": [],
   "source": [
    "x[3]<-fx_giveny(y[2])\n",
    "y[3]<-x[3]+sample(1:6,size=1)"
   ]
  },
  {
   "cell_type": "code",
   "execution_count": 93,
   "id": "34796131-557f-4281-8abb-f0dcf9cd2b59",
   "metadata": {},
   "outputs": [
    {
     "name": "stdout",
     "output_type": "stream",
     "text": [
      "[1] 5 4 3\n"
     ]
    }
   ],
   "source": [
    "print(x)"
   ]
  },
  {
   "cell_type": "code",
   "execution_count": 94,
   "id": "4c4c32d8-cf24-4e1b-8b5c-2c8963349fbc",
   "metadata": {},
   "outputs": [
    {
     "name": "stdout",
     "output_type": "stream",
     "text": [
      "[1] 7 8 6\n"
     ]
    }
   ],
   "source": [
    "print(y)"
   ]
  },
  {
   "cell_type": "code",
   "execution_count": 95,
   "id": "65d5690a-d858-47e3-8eb4-d491789412ca",
   "metadata": {},
   "outputs": [],
   "source": [
    "x[4]<-fx_giveny(y[3])\n",
    "y[4]<-x[4]+sample(1:6,size=1)"
   ]
  },
  {
   "cell_type": "code",
   "execution_count": 96,
   "id": "b438feb3-adce-4e12-be9b-0197f442a3b0",
   "metadata": {},
   "outputs": [
    {
     "name": "stdout",
     "output_type": "stream",
     "text": [
      "[1] 5 4 3 4\n"
     ]
    }
   ],
   "source": [
    "print(x)"
   ]
  },
  {
   "cell_type": "code",
   "execution_count": 97,
   "id": "e003dcf5-92f1-4c6b-99c6-06afaa946b09",
   "metadata": {},
   "outputs": [
    {
     "name": "stdout",
     "output_type": "stream",
     "text": [
      "[1] 7 8 6 6\n"
     ]
    }
   ],
   "source": [
    "print(y)"
   ]
  },
  {
   "cell_type": "code",
   "execution_count": 101,
   "id": "273b3612-511d-416f-a4c8-40c6534dfd72",
   "metadata": {},
   "outputs": [],
   "source": [
    "set.seed(3)\n",
    "x<-c()\n",
    "y<-c()\n",
    "x[1]<-sample(1:6,size=1)\n",
    "for(i in 1:5000){\n",
    "    y[i]<-x[i]+sample(1:6,size=1)\n",
    "    x[i+1]<-fx_giveny(y[i])\n",
    "}"
   ]
  },
  {
   "cell_type": "code",
   "execution_count": 102,
   "id": "c55d9fd1-aba0-49cf-8153-f273587bb02e",
   "metadata": {},
   "outputs": [
    {
     "data": {
      "image/png": "[encoded data removed]",
      "text/plain": [
       "Plot with title “Histogram of y”"
      ]
     },
     "metadata": {
      "image/png": {
       "height": 420,
       "width": 420
      }
     },
     "output_type": "display_data"
    }
   ],
   "source": [
    "hist(y,2:13,right=F)"
   ]
  },
  {
   "cell_type": "code",
   "execution_count": 103,
   "id": "568a3166-5050-4cd2-a6a5-4a9545f611ad",
   "metadata": {},
   "outputs": [
    {
     "data": {
      "image/png": "[encoded data removed]",
      "text/plain": [
       "Plot with title “Histogram of x”"
      ]
     },
     "metadata": {
      "image/png": {
       "height": 420,
       "width": 420
      }
     },
     "output_type": "display_data"
    }
   ],
   "source": [
    "hist(x,1:7,right=F)"
   ]
  },
  {
   "cell_type": "markdown",
   "id": "6d583c45-e8b4-4232-b288-d4460f30d88f",
   "metadata": {},
   "source": [
    "### 깁스샘플링이 가능한 이유 "
   ]
  },
  {
   "cell_type": "markdown",
   "id": "ae5cc8f2-ab6b-4f24-8a6d-585f58350c40",
   "metadata": {},
   "source": [
    "`-` $X$ 만 따져보자."
   ]
  },
  {
   "cell_type": "markdown",
   "id": "c7cef7ea-996c-4e15-93b4-4245e926cb20",
   "metadata": {},
   "source": [
    "detailed balance condition은 아래와 같다. \n",
    "\n",
    "$$transition(x_t \\to x_{t+1})f(x_t)=trainsition(x_{t+1} \\to x_t)f(x_{t+1})$$ \n",
    "\n",
    "임을 보이면 된다. "
   ]
  },
  {
   "cell_type": "markdown",
   "id": "021d3011-fb50-4498-940b-672e676f6d91",
   "metadata": {},
   "source": [
    "`-` 우리의 예제의 경우는 아래를 보이면 된다. "
   ]
  },
  {
   "cell_type": "markdown",
   "id": "c5dcb84c-8e68-4723-b7bf-887ca7e7c8fb",
   "metadata": {},
   "source": [
    "- $transition(1\\to 1 )\\pi(1)= transition (1\\to 1 )\\pi(1)$\n",
    "- $transition(1\\to 2 )\\pi(1)= transition (2\\to 1 )\\pi(2)$\n",
    "- ... \n",
    "- $transition(1\\to 6 )\\pi(1)= transition (6\\to 1 )\\pi(6)$\n",
    "- ... \n",
    "- $transition(6\\to 6 )\\pi(6)= transition (6\\to 6 )\\pi(6)$"
   ]
  },
  {
   "cell_type": "markdown",
   "id": "277897cd-05f9-42bc-9bfa-7bea57b5c5f4",
   "metadata": {},
   "source": [
    "노가다를 활용하면 성립함을 알 수 있다. "
   ]
  },
  {
   "cell_type": "markdown",
   "id": "a187d4e1-5555-4bdf-bc40-defd0234931f",
   "metadata": {},
   "source": [
    "`-` $\\{Y_t\\}$역시 노다가를 활용하여 staionary process임을 확인 할 수 있다. "
   ]
  },
  {
   "cell_type": "markdown",
   "id": "bceff64e-01c1-416e-893c-191d28583c2a",
   "metadata": {},
   "source": [
    "`-` conditional을 이미 알고 있다고 가정하였고, marginal을 시뮬레이션 할 수 있으므로 joint를 시뮬레이션으로 뽑을 수 있다. "
   ]
  },
  {
   "cell_type": "markdown",
   "id": "78bb0f18-d4fe-4588-838b-1731edadf747",
   "metadata": {},
   "source": [
    "### 깁스샘플링 (알고리즘 )"
   ]
  },
  {
   "cell_type": "markdown",
   "id": "06e56d38-2f48-496f-a98a-58cb6514e9a6",
   "metadata": {},
   "source": [
    "#### 2차원 "
   ]
  },
  {
   "cell_type": "markdown",
   "id": "23fd2c87-28ff-47dc-8b76-82ebfa6a0081",
   "metadata": {},
   "source": [
    "`-` $X_0=x_0$를 선택 "
   ]
  },
  {
   "cell_type": "markdown",
   "id": "af8d936f-d753-4c07-830a-4ecbd45d0650",
   "metadata": {},
   "source": [
    "`-` $t=1,2,\\dots$ 에 대하여 아래를 반복하면서 샘플링한다. \n",
    " - $Y_t \\sim f_{Y|X}(\\cdot|x_{t-1})$\n",
    " - $X_t \\sim f_{X|Y}(\\cdot|y_t)$"
   ]
  },
  {
   "cell_type": "markdown",
   "id": "0f307396-0f30-4ec5-87a0-fbe50b27e596",
   "metadata": {},
   "source": [
    "#### 다차원 "
   ]
  },
  {
   "cell_type": "markdown",
   "id": "3bfc0c34-7da7-497b-ac8c-8b1da4eb0a02",
   "metadata": {},
   "source": [
    "`-` ${\\bf x}^{(t)}=(x_1^{(t)},\\dots, x_p^{(t)})$가 주어졌을때 아래를 반복\n",
    " - $X_1^{(t+1)} \\sim f_1(x_1| x_{2}^{(t)},\\dots,x_p^{(t)})$\n",
    " - $X_2^{(t+1)} \\sim f_2(x_2| x_{1}^{(t+1)}, x_{3}^{(t)}, \\dots, x_p^{(t)})$\n",
    " - $\\dots$ \n",
    " - $X_p^{(t+1)} \\sim f_p(x_p| x_{1}^{(t+1)},\\dots x_{p-1}^{(t+1)})$"
   ]
  },
  {
   "cell_type": "markdown",
   "id": "b57eedcf-9163-4a5b-abc4-302d61fecfdf",
   "metadata": {},
   "source": [
    "느낌: 나 빼고 다른 $p-1$의 값이 다 뽑혔으면 그걸 바탕으로 나도 1차원 랜덤변수를 만들 수 있음. "
   ]
  },
  {
   "cell_type": "markdown",
   "id": "cf801905-bd1b-43a8-a1e8-95c2421c110d",
   "metadata": {},
   "source": [
    "`-` 첫 시작은 누가? "
   ]
  },
  {
   "cell_type": "markdown",
   "id": "878fdac3-8b06-4a83-b7ae-f0a5472174d3",
   "metadata": {},
   "source": [
    "# 토픽모델 "
   ]
  },
  {
   "cell_type": "markdown",
   "id": "5d8dd3b5-ff68-4539-9ece-7334b0019593",
   "metadata": {},
   "source": [
    "### 예제 "
   ]
  },
  {
   "cell_type": "code",
   "execution_count": 19,
   "id": "5b47fa24-800b-46e4-8781-8a223ef4f0d0",
   "metadata": {},
   "outputs": [],
   "source": [
    "library(tidyverse)"
   ]
  },
  {
   "cell_type": "code",
   "execution_count": 14,
   "id": "b65e95a4-7ddd-4671-a8ab-780cb80e05a0",
   "metadata": {},
   "outputs": [],
   "source": [
    "documents = rbind(c('손흥민','골'),\n",
    "                  c('골','확률'),\n",
    "                  c('확률','데이터과학'))"
   ]
  },
  {
   "cell_type": "code",
   "execution_count": 15,
   "id": "987acea7-78d6-4373-ab67-561575d93a22",
   "metadata": {},
   "outputs": [
    {
     "data": {
      "text/html": [
       "<table class=\"dataframe\">\n",
       "<caption>A matrix: 3 × 2 of type chr</caption>\n",
       "<thead>\n",
       "\t<tr><th></th><th scope=col>word1</th><th scope=col>word2</th></tr>\n",
       "</thead>\n",
       "<tbody>\n",
       "\t<tr><th scope=row>doc1</th><td>손흥민</td><td>골        </td></tr>\n",
       "\t<tr><th scope=row>doc2</th><td>골    </td><td>확률      </td></tr>\n",
       "\t<tr><th scope=row>doc3</th><td>확률  </td><td>데이터과학</td></tr>\n",
       "</tbody>\n",
       "</table>\n"
      ],
      "text/latex": [
       "A matrix: 3 × 2 of type chr\n",
       "\\begin{tabular}{r|ll}\n",
       "  & word1 & word2\\\\\n",
       "\\hline\n",
       "\tdoc1 & 손흥민 & 골        \\\\\n",
       "\tdoc2 & 골     & 확률      \\\\\n",
       "\tdoc3 & 확률   & 데이터과학\\\\\n",
       "\\end{tabular}\n"
      ],
      "text/markdown": [
       "\n",
       "A matrix: 3 × 2 of type chr\n",
       "\n",
       "| <!--/--> | word1 | word2 |\n",
       "|---|---|---|\n",
       "| doc1 | 손흥민 | 골         |\n",
       "| doc2 | 골     | 확률       |\n",
       "| doc3 | 확률   | 데이터과학 |\n",
       "\n"
      ],
      "text/plain": [
       "     word1  word2     \n",
       "doc1 손흥민 골        \n",
       "doc2 골     확률      \n",
       "doc3 확률   데이터과학"
      ]
     },
     "metadata": {},
     "output_type": "display_data"
    }
   ],
   "source": [
    "rownames(documents)<-c('doc1','doc2','doc3')\n",
    "colnames(documents)<-c('word1','word2')\n",
    "documents"
   ]
  },
  {
   "cell_type": "code",
   "execution_count": 16,
   "id": "a868a438-8485-4780-9c36-075435f72a82",
   "metadata": {},
   "outputs": [],
   "source": [
    "document_topics=rbind(c(2,1),c(1,2),c(2,1)) ## 내마음대로 초기화 \n",
    "rownames(document_topics)<-c('doc1','doc2','doc3')\n",
    "colnames(document_topics)<-c('word1','word2')"
   ]
  },
  {
   "cell_type": "code",
   "execution_count": 17,
   "id": "79921506-c6b2-4a7c-bb79-c56077356765",
   "metadata": {},
   "outputs": [
    {
     "data": {
      "text/html": [
       "<table class=\"dataframe\">\n",
       "<caption>A matrix: 3 × 2 of type dbl</caption>\n",
       "<thead>\n",
       "\t<tr><th></th><th scope=col>word1</th><th scope=col>word2</th></tr>\n",
       "</thead>\n",
       "<tbody>\n",
       "\t<tr><th scope=row>doc1</th><td>2</td><td>1</td></tr>\n",
       "\t<tr><th scope=row>doc2</th><td>1</td><td>2</td></tr>\n",
       "\t<tr><th scope=row>doc3</th><td>2</td><td>1</td></tr>\n",
       "</tbody>\n",
       "</table>\n"
      ],
      "text/latex": [
       "A matrix: 3 × 2 of type dbl\n",
       "\\begin{tabular}{r|ll}\n",
       "  & word1 & word2\\\\\n",
       "\\hline\n",
       "\tdoc1 & 2 & 1\\\\\n",
       "\tdoc2 & 1 & 2\\\\\n",
       "\tdoc3 & 2 & 1\\\\\n",
       "\\end{tabular}\n"
      ],
      "text/markdown": [
       "\n",
       "A matrix: 3 × 2 of type dbl\n",
       "\n",
       "| <!--/--> | word1 | word2 |\n",
       "|---|---|---|\n",
       "| doc1 | 2 | 1 |\n",
       "| doc2 | 1 | 2 |\n",
       "| doc3 | 2 | 1 |\n",
       "\n"
      ],
      "text/plain": [
       "     word1 word2\n",
       "doc1 2     1    \n",
       "doc2 1     2    \n",
       "doc3 2     1    "
      ]
     },
     "metadata": {},
     "output_type": "display_data"
    }
   ],
   "source": [
    "document_topics"
   ]
  },
  {
   "cell_type": "markdown",
   "id": "744b8e3f-2c03-4d9f-8564-8bfa4b6dcda9",
   "metadata": {},
   "source": [
    "문서당 토픽비율 \n",
    "- 문서1:[손흥민,골]=[2,1] \n",
    "- 문서2:[골,확률]=[1,2]\n",
    "- 문서3:[확률,데이터과학]=[2,1]"
   ]
  },
  {
   "cell_type": "markdown",
   "id": "185c9e89-26b5-48a1-b13f-3f2fb3ad2402",
   "metadata": {},
   "source": [
    "토픽별로 자주등장하는 단어 \n",
    "- 토픽1: 골,골,데이터과학 --> 축구?\n",
    "- 토픽2: 손흥민,확률,확률 --> 통계? "
   ]
  },
  {
   "cell_type": "markdown",
   "id": "abc392c0-c710-4d64-9cbb-3bcca61fe01d",
   "metadata": {},
   "source": [
    "목표: document_topics의 값을 그럴듯한 값으로 채우고 싶다. 예를들면 아래처럼 "
   ]
  },
  {
   "cell_type": "markdown",
   "id": "7b7b5e0c-5d60-4bcc-ac04-4ab8c82d10d2",
   "metadata": {},
   "source": [
    "```r\n",
    "document_topics=rbind(c(1,1),c(1,2),c(2,2))\n",
    "document_topics=rbind(c(2,2),c(2,1),c(1,1))\n",
    "```"
   ]
  },
  {
   "cell_type": "markdown",
   "id": "5c33cf4f-4da8-48ff-82b7-0727030cb0ff",
   "metadata": {},
   "source": [
    "그러니까 $3\\times 2$ 차원의 랜덤변수를 뽑는 문제이다. "
   ]
  },
  {
   "cell_type": "markdown",
   "id": "1be91928-fcdb-4d46-a03f-418fbd296176",
   "metadata": {},
   "source": [
    "---"
   ]
  },
  {
   "cell_type": "markdown",
   "id": "19e013ea-1779-43e8-a2fb-a3e0c88748aa",
   "metadata": {},
   "source": [
    "문서1: [`손흥민`, 골]"
   ]
  },
  {
   "cell_type": "markdown",
   "id": "4fbc5ec1-18ef-4a37-a1ac-c591c3eecada",
   "metadata": {},
   "source": [
    "`-` 임의의 초기값을 넣어서 현재상황은 아래와 같다. "
   ]
  },
  {
   "cell_type": "markdown",
   "id": "27305a77-417d-44c4-85e9-f5cf6c77ed74",
   "metadata": {},
   "source": [
    "문서당 토픽비율 \n",
    "\n",
    "- 문서1:[손흥민,골]=[2,1] \n",
    "- 문서2:[골,확률]=[1,2]\n",
    "- 문서3:[확률,데이터과학]=[2,1]"
   ]
  },
  {
   "cell_type": "markdown",
   "id": "b9ac8ded-9e2e-4106-919d-c4604b0db6db",
   "metadata": {},
   "source": [
    "토픽별로 자주등장하는 단어 \n",
    "\n",
    "- 토픽1: 골,골,데이터과학 --> 축구?\n",
    "- 토픽2: 손흥민,확률,확률 --> 통계? "
   ]
  },
  {
   "cell_type": "markdown",
   "id": "48ae2f69-ac67-4dda-b9cb-24d4b4d300fb",
   "metadata": {},
   "source": [
    "`-` 지금 우리의 관심은 문서1 손흥민 해당하는 토픽으로 `토픽=1`이라 생각하는 것이 그럴듯한지, `토픽=2`라고 생각하는게 그럴듯한지 다시 따져보고 싶다. "
   ]
  },
  {
   "cell_type": "markdown",
   "id": "53b4f27b-ea8b-48ff-af87-2fd14283ff7e",
   "metadata": {},
   "source": [
    "`-` 깁스샘플링: 현재 관심이 있는 문서1의 첫단어 손흥민에 대한 토픽분류를 제외하고 나머지는 모두 올바른 값이라고 가정하자. "
   ]
  },
  {
   "cell_type": "markdown",
   "id": "b90adbc6-5504-4c94-ba00-ff48e0d0c194",
   "metadata": {},
   "source": [
    "문서당 토픽비율 \n",
    "\n",
    "- 문서1:[손흥민,골]=[2,1] ==> [?,1] \n",
    "- 문서2:[골,확률]=[1,2] ==> [1,2] \n",
    "- 문서3:[확률,데이터과학]=[2,1] ==> [2,1] "
   ]
  },
  {
   "cell_type": "markdown",
   "id": "362c0488-8206-430f-b4ec-293b70076aed",
   "metadata": {},
   "source": [
    "토픽별로 자주등장하는 단어 \n",
    "\n",
    "- 토픽1: 골,골,데이터과학 ==> 골,골,데이터과학\n",
    "- 토픽2: 손흥민,확률,확률 ==> ?, 확률, 확률 "
   ]
  },
  {
   "cell_type": "markdown",
   "id": "460c27bc-bb20-42dd-a34f-052e1d7e5272",
   "metadata": {},
   "source": [
    "`-` 손흥민이라는 단어가 뽑힐 경우는 아래의 두 경우중 하나이다. \n",
    "\n",
    "- 토픽1에서 뽑혔을 경우\n",
    "- 토픽2에서 뽑혔을 경우 "
   ]
  },
  {
   "cell_type": "markdown",
   "id": "087ae331-0e00-4c03-a344-f3a94c8a3f3b",
   "metadata": {},
   "source": [
    "`-` 토픽1에서 뽑혔을 경우는 아래와 같이 계산 할 수 있다. \n",
    "\n",
    "- (문서1에 토픽1이 포함되어 있는 비율) $\\times$ (토픽1에서 손흥민이라는 단어를 뽑을 확률) = 1 $\\times$ 0.001\n",
    "- p(토픽1|문서1) $\\times$ p(손흥민|토픽1) = 1 $\\times$ 0.001"
   ]
  },
  {
   "cell_type": "markdown",
   "id": "3aaf4c6d-65ec-45e0-b44f-be472aa616e6",
   "metadata": {},
   "source": [
    "`-` 토픽2에서 뽑혔을 경우는 아래와 같이 계산 할 수 있다. \n",
    "\n",
    "- (문서1에 토픽2이 포함되어 있는 비율) $\\times$ (토픽2에서 손흥민이라는 단어를 뽑을 확률) = 0.001 $\\times$ 0.001\n",
    "- p(토픽2|문서1) $\\times$ p(손흥민|토픽2) = 0.001 $\\times$ 0.001"
   ]
  },
  {
   "cell_type": "markdown",
   "id": "a078a92c-2eaf-4011-91cd-5f2861b8f28e",
   "metadata": {},
   "source": [
    "`-` 손흥민은 토픽1에서 뽑혔다고 보는게 타당함. (왜? 현재단어 손흥민 문서1에 있고, 문서1은 토픽1이 대부분이니까!)"
   ]
  },
  {
   "cell_type": "markdown",
   "id": "2ed20bd2-a29e-4ab8-8d71-6788d47eabe9",
   "metadata": {},
   "source": [
    "`-` 아래와 같이 업데이트 한다. "
   ]
  },
  {
   "cell_type": "markdown",
   "id": "23715079-7a38-461b-b6d8-22d921f019d2",
   "metadata": {},
   "source": [
    "문서당 토픽비율 \n",
    "\n",
    "- 문서1:[손흥민,골]=[1,1] \n",
    "- 문서2:[골,확률]=[1,2]\n",
    "- 문서3:[확률,데이터과학]=[2,1]"
   ]
  },
  {
   "cell_type": "markdown",
   "id": "a4f3ef49-0200-4fc2-a405-6e3ce8654ca3",
   "metadata": {},
   "source": [
    "토픽별로 자주등장하는 단어 \n",
    "\n",
    "- 토픽1: 손흥민,골,골,데이터과학\n",
    "- 토픽2: 확률,확률 "
   ]
  },
  {
   "cell_type": "markdown",
   "id": "ee123ce2-04b2-4803-856b-af222ce2ffcb",
   "metadata": {},
   "source": [
    "문서2: [손흥민, `골`]"
   ]
  },
  {
   "cell_type": "markdown",
   "id": "57953baa-adaa-4d73-adea-5cfb80ef11d3",
   "metadata": {},
   "source": [
    "`-` 업데이트 전 "
   ]
  },
  {
   "cell_type": "markdown",
   "id": "c3d884e4-e7f3-4f35-873e-71de54602dc7",
   "metadata": {},
   "source": [
    "문서당 토픽비율 \n",
    "\n",
    "- 문서1:[손흥민,골]=[1,1] ==> [1,?] \n",
    "- 문서2:[골,확률]=[1,2] ==> [1,2] \n",
    "- 문서3:[확률,데이터과학]=[2,1] ==> [2,1] "
   ]
  },
  {
   "cell_type": "markdown",
   "id": "88f939c6-ba9d-4ce9-aa5c-4229ea48f0fc",
   "metadata": {},
   "source": [
    "토픽별로 자주등장하는 단어 \n",
    "\n",
    "- 토픽1: 손흥민,?,골,데이터과학\n",
    "- 토픽2: 확률,확률 "
   ]
  },
  {
   "cell_type": "markdown",
   "id": "27833d6f-8cd4-4571-a605-ebfb93d600c6",
   "metadata": {},
   "source": [
    "`-` 샘플링 "
   ]
  },
  {
   "cell_type": "markdown",
   "id": "c0d9469c-576c-439a-a805-2c3d00190784",
   "metadata": {},
   "source": [
    "- p(토픽1|문서1) $\\times$ p(골|토픽1) = 1 $\\times$ 1/3  \n",
    "- p(토픽2|문서1) $\\times$ p(골|토픽2) = 0.001 $\\times$ 0.001 "
   ]
  },
  {
   "cell_type": "markdown",
   "id": "ba2c2321-847f-400b-b352-f6e04bb7787c",
   "metadata": {},
   "source": [
    "결정: 토픽1을 선택 (왜? 현재단어는 문서1에 있는데, 문서1에는 토픽1이 대부분이다, 그리고 현재 단어는 골인데, 골이라는 단어는 토픽1에서 잘나온다.)"
   ]
  },
  {
   "cell_type": "markdown",
   "id": "1faf00fd-da71-4547-a9c4-0effd888b4d1",
   "metadata": {},
   "source": [
    "`-` 업데이트 후 (그대로 유지) "
   ]
  },
  {
   "cell_type": "markdown",
   "id": "725e74a8-c22d-47e3-bb3b-f4ed7895158f",
   "metadata": {},
   "source": [
    "문서당 토픽비율 \n",
    "\n",
    "- 문서1:[손흥민,골]=[1,1]  \n",
    "- 문서2:[골,확률]=[1,2] \n",
    "- 문서3:[확률,데이터과학]=[2,1]"
   ]
  },
  {
   "cell_type": "markdown",
   "id": "062e24cf-7b02-480f-bd36-f62559521017",
   "metadata": {},
   "source": [
    "토픽별로 자주등장하는 단어 \n",
    "\n",
    "- 토픽1: 손흥민,골,골,데이터과학\n",
    "- 토픽2: 확률,확률 "
   ]
  },
  {
   "cell_type": "markdown",
   "id": "27b3a498-ae9d-42a7-8082-958a4bf487b6",
   "metadata": {},
   "source": [
    "---"
   ]
  },
  {
   "cell_type": "markdown",
   "id": "10033fdd-bf99-4ee6-a946-4dd743d0c0ac",
   "metadata": {},
   "source": [
    "`-` 이런식으로 반복하면 결국 각 단어는 자신의 정체성(토픽1인지 토픽2인지)를 아래와 같은 2가지 기준으로 판단한다. \n",
    "\n",
    "- 나(=단어)는 $d$-th document에 속해있다. $\\to$ 그런데 이 document의 단어를 쭉 살펴보니 토픽 $k$가 많다. $\\to$ 나도 토픽 $k$인가?  \n",
    "- 나(=단어)와 똑같은 이름을 가진 단어들이 토픽 $k'$에 많다. $\\to$ 나도 토픽 $k'$에서 왔을까? "
   ]
  },
  {
   "cell_type": "markdown",
   "id": "867db009-87f8-45d5-af7d-7aa03cc8743b",
   "metadata": {},
   "source": [
    "`-` 재미있는 점은 각 단어의 선택이 다른 단어에도 영향을 준다는 것이다. (다들 나 빼고는 맞다고 가정하고 있으니까 )"
   ]
  },
  {
   "cell_type": "markdown",
   "id": "d374365f-a450-42e2-8b30-b74a0cb32af1",
   "metadata": {},
   "source": [
    "---"
   ]
  },
  {
   "cell_type": "markdown",
   "id": "a89512da-0455-46b4-afd3-afcaeafb5cbc",
   "metadata": {},
   "source": [
    "`-` 구현해보자. "
   ]
  },
  {
   "cell_type": "code",
   "execution_count": 125,
   "id": "95d878a6-2d87-4c0e-9cfd-e9d21a27df64",
   "metadata": {},
   "outputs": [
    {
     "data": {
      "text/html": [
       "<table class=\"dataframe\">\n",
       "<caption>A tibble: 45 × 3</caption>\n",
       "<thead>\n",
       "\t<tr><th scope=col>word</th><th scope=col>doc</th><th scope=col>topic</th></tr>\n",
       "\t<tr><th scope=col>&lt;chr&gt;</th><th scope=col>&lt;dbl&gt;</th><th scope=col>&lt;dbl&gt;</th></tr>\n",
       "</thead>\n",
       "<tbody>\n",
       "\t<tr><td>손흥민    </td><td>1</td><td>2</td></tr>\n",
       "\t<tr><td>골        </td><td>1</td><td>1</td></tr>\n",
       "\t<tr><td>골        </td><td>1</td><td>1</td></tr>\n",
       "\t<tr><td>박지성    </td><td>1</td><td>2</td></tr>\n",
       "\t<tr><td>패스      </td><td>1</td><td>2</td></tr>\n",
       "\t<tr><td>골        </td><td>2</td><td>1</td></tr>\n",
       "\t<tr><td>확률      </td><td>2</td><td>2</td></tr>\n",
       "\t<tr><td>패스      </td><td>2</td><td>1</td></tr>\n",
       "\t<tr><td>손흥민    </td><td>2</td><td>2</td></tr>\n",
       "\t<tr><td>골        </td><td>2</td><td>2</td></tr>\n",
       "\t<tr><td>골        </td><td>3</td><td>1</td></tr>\n",
       "\t<tr><td>골        </td><td>3</td><td>2</td></tr>\n",
       "\t<tr><td>확률      </td><td>3</td><td>1</td></tr>\n",
       "\t<tr><td>패스      </td><td>3</td><td>2</td></tr>\n",
       "\t<tr><td>골        </td><td>3</td><td>2</td></tr>\n",
       "\t<tr><td>골        </td><td>4</td><td>1</td></tr>\n",
       "\t<tr><td>박지성    </td><td>4</td><td>2</td></tr>\n",
       "\t<tr><td>통계      </td><td>4</td><td>1</td></tr>\n",
       "\t<tr><td>확률      </td><td>4</td><td>2</td></tr>\n",
       "\t<tr><td>골        </td><td>4</td><td>2</td></tr>\n",
       "\t<tr><td>확률      </td><td>5</td><td>1</td></tr>\n",
       "\t<tr><td>통계      </td><td>5</td><td>2</td></tr>\n",
       "\t<tr><td>박지성    </td><td>5</td><td>1</td></tr>\n",
       "\t<tr><td>통계      </td><td>5</td><td>2</td></tr>\n",
       "\t<tr><td>골        </td><td>5</td><td>2</td></tr>\n",
       "\t<tr><td>확률      </td><td>6</td><td>1</td></tr>\n",
       "\t<tr><td>확률      </td><td>6</td><td>2</td></tr>\n",
       "\t<tr><td>골        </td><td>6</td><td>2</td></tr>\n",
       "\t<tr><td>통계      </td><td>6</td><td>2</td></tr>\n",
       "\t<tr><td>AI        </td><td>6</td><td>2</td></tr>\n",
       "\t<tr><td>확률      </td><td>7</td><td>1</td></tr>\n",
       "\t<tr><td>확률      </td><td>7</td><td>2</td></tr>\n",
       "\t<tr><td>통계      </td><td>7</td><td>1</td></tr>\n",
       "\t<tr><td>통계      </td><td>7</td><td>1</td></tr>\n",
       "\t<tr><td>AI        </td><td>7</td><td>2</td></tr>\n",
       "\t<tr><td>확률      </td><td>8</td><td>1</td></tr>\n",
       "\t<tr><td>빅데이터  </td><td>8</td><td>2</td></tr>\n",
       "\t<tr><td>데이터과학</td><td>8</td><td>1</td></tr>\n",
       "\t<tr><td>빅데이터  </td><td>8</td><td>1</td></tr>\n",
       "\t<tr><td>AI        </td><td>8</td><td>2</td></tr>\n",
       "\t<tr><td>확률      </td><td>9</td><td>2</td></tr>\n",
       "\t<tr><td>데이터과학</td><td>9</td><td>1</td></tr>\n",
       "\t<tr><td>AI        </td><td>9</td><td>1</td></tr>\n",
       "\t<tr><td>데이터과학</td><td>9</td><td>2</td></tr>\n",
       "\t<tr><td>데이터과학</td><td>9</td><td>2</td></tr>\n",
       "</tbody>\n",
       "</table>\n"
      ],
      "text/latex": [
       "A tibble: 45 × 3\n",
       "\\begin{tabular}{lll}\n",
       " word & doc & topic\\\\\n",
       " <chr> & <dbl> & <dbl>\\\\\n",
       "\\hline\n",
       "\t 손흥민     & 1 & 2\\\\\n",
       "\t 골         & 1 & 1\\\\\n",
       "\t 골         & 1 & 1\\\\\n",
       "\t 박지성     & 1 & 2\\\\\n",
       "\t 패스       & 1 & 2\\\\\n",
       "\t 골         & 2 & 1\\\\\n",
       "\t 확률       & 2 & 2\\\\\n",
       "\t 패스       & 2 & 1\\\\\n",
       "\t 손흥민     & 2 & 2\\\\\n",
       "\t 골         & 2 & 2\\\\\n",
       "\t 골         & 3 & 1\\\\\n",
       "\t 골         & 3 & 2\\\\\n",
       "\t 확률       & 3 & 1\\\\\n",
       "\t 패스       & 3 & 2\\\\\n",
       "\t 골         & 3 & 2\\\\\n",
       "\t 골         & 4 & 1\\\\\n",
       "\t 박지성     & 4 & 2\\\\\n",
       "\t 통계       & 4 & 1\\\\\n",
       "\t 확률       & 4 & 2\\\\\n",
       "\t 골         & 4 & 2\\\\\n",
       "\t 확률       & 5 & 1\\\\\n",
       "\t 통계       & 5 & 2\\\\\n",
       "\t 박지성     & 5 & 1\\\\\n",
       "\t 통계       & 5 & 2\\\\\n",
       "\t 골         & 5 & 2\\\\\n",
       "\t 확률       & 6 & 1\\\\\n",
       "\t 확률       & 6 & 2\\\\\n",
       "\t 골         & 6 & 2\\\\\n",
       "\t 통계       & 6 & 2\\\\\n",
       "\t AI         & 6 & 2\\\\\n",
       "\t 확률       & 7 & 1\\\\\n",
       "\t 확률       & 7 & 2\\\\\n",
       "\t 통계       & 7 & 1\\\\\n",
       "\t 통계       & 7 & 1\\\\\n",
       "\t AI         & 7 & 2\\\\\n",
       "\t 확률       & 8 & 1\\\\\n",
       "\t 빅데이터   & 8 & 2\\\\\n",
       "\t 데이터과학 & 8 & 1\\\\\n",
       "\t 빅데이터   & 8 & 1\\\\\n",
       "\t AI         & 8 & 2\\\\\n",
       "\t 확률       & 9 & 2\\\\\n",
       "\t 데이터과학 & 9 & 1\\\\\n",
       "\t AI         & 9 & 1\\\\\n",
       "\t 데이터과학 & 9 & 2\\\\\n",
       "\t 데이터과학 & 9 & 2\\\\\n",
       "\\end{tabular}\n"
      ],
      "text/markdown": [
       "\n",
       "A tibble: 45 × 3\n",
       "\n",
       "| word &lt;chr&gt; | doc &lt;dbl&gt; | topic &lt;dbl&gt; |\n",
       "|---|---|---|\n",
       "| 손흥민     | 1 | 2 |\n",
       "| 골         | 1 | 1 |\n",
       "| 골         | 1 | 1 |\n",
       "| 박지성     | 1 | 2 |\n",
       "| 패스       | 1 | 2 |\n",
       "| 골         | 2 | 1 |\n",
       "| 확률       | 2 | 2 |\n",
       "| 패스       | 2 | 1 |\n",
       "| 손흥민     | 2 | 2 |\n",
       "| 골         | 2 | 2 |\n",
       "| 골         | 3 | 1 |\n",
       "| 골         | 3 | 2 |\n",
       "| 확률       | 3 | 1 |\n",
       "| 패스       | 3 | 2 |\n",
       "| 골         | 3 | 2 |\n",
       "| 골         | 4 | 1 |\n",
       "| 박지성     | 4 | 2 |\n",
       "| 통계       | 4 | 1 |\n",
       "| 확률       | 4 | 2 |\n",
       "| 골         | 4 | 2 |\n",
       "| 확률       | 5 | 1 |\n",
       "| 통계       | 5 | 2 |\n",
       "| 박지성     | 5 | 1 |\n",
       "| 통계       | 5 | 2 |\n",
       "| 골         | 5 | 2 |\n",
       "| 확률       | 6 | 1 |\n",
       "| 확률       | 6 | 2 |\n",
       "| 골         | 6 | 2 |\n",
       "| 통계       | 6 | 2 |\n",
       "| AI         | 6 | 2 |\n",
       "| 확률       | 7 | 1 |\n",
       "| 확률       | 7 | 2 |\n",
       "| 통계       | 7 | 1 |\n",
       "| 통계       | 7 | 1 |\n",
       "| AI         | 7 | 2 |\n",
       "| 확률       | 8 | 1 |\n",
       "| 빅데이터   | 8 | 2 |\n",
       "| 데이터과학 | 8 | 1 |\n",
       "| 빅데이터   | 8 | 1 |\n",
       "| AI         | 8 | 2 |\n",
       "| 확률       | 9 | 2 |\n",
       "| 데이터과학 | 9 | 1 |\n",
       "| AI         | 9 | 1 |\n",
       "| 데이터과학 | 9 | 2 |\n",
       "| 데이터과학 | 9 | 2 |\n",
       "\n"
      ],
      "text/plain": [
       "   word       doc topic\n",
       "1  손흥민     1   2    \n",
       "2  골         1   1    \n",
       "3  골         1   1    \n",
       "4  박지성     1   2    \n",
       "5  패스       1   2    \n",
       "6  골         2   1    \n",
       "7  확률       2   2    \n",
       "8  패스       2   1    \n",
       "9  손흥민     2   2    \n",
       "10 골         2   2    \n",
       "11 골         3   1    \n",
       "12 골         3   2    \n",
       "13 확률       3   1    \n",
       "14 패스       3   2    \n",
       "15 골         3   2    \n",
       "16 골         4   1    \n",
       "17 박지성     4   2    \n",
       "18 통계       4   1    \n",
       "19 확률       4   2    \n",
       "20 골         4   2    \n",
       "21 확률       5   1    \n",
       "22 통계       5   2    \n",
       "23 박지성     5   1    \n",
       "24 통계       5   2    \n",
       "25 골         5   2    \n",
       "26 확률       6   1    \n",
       "27 확률       6   2    \n",
       "28 골         6   2    \n",
       "29 통계       6   2    \n",
       "30 AI         6   2    \n",
       "31 확률       7   1    \n",
       "32 확률       7   2    \n",
       "33 통계       7   1    \n",
       "34 통계       7   1    \n",
       "35 AI         7   2    \n",
       "36 확률       8   1    \n",
       "37 빅데이터   8   2    \n",
       "38 데이터과학 8   1    \n",
       "39 빅데이터   8   1    \n",
       "40 AI         8   2    \n",
       "41 확률       9   2    \n",
       "42 데이터과학 9   1    \n",
       "43 AI         9   1    \n",
       "44 데이터과학 9   2    \n",
       "45 데이터과학 9   2    "
      ]
     },
     "metadata": {},
     "output_type": "display_data"
    }
   ],
   "source": [
    "doclen <- 5 \n",
    "word<-c('손흥민','골','골','박지성','패스',\n",
    "        '골','확률','패스','손흥민','골',\n",
    "        '골','골','확률','패스','골',\n",
    "        '골','박지성','통계','확률','골',\n",
    "        '확률','통계','박지성','통계','골',\n",
    "        '확률','확률','골','통계','AI',\n",
    "        '확률','확률','통계','통계','AI',\n",
    "        '확률','빅데이터','데이터과학','빅데이터','AI',\n",
    "        '확률','데이터과학','AI','데이터과학','데이터과학')\n",
    "doc<-c(rep(1,doclen),rep(2,doclen),rep(3,doclen),\n",
    "      rep(4,doclen),rep(5,doclen),rep(6,doclen),\n",
    "      rep(7,doclen),rep(8,doclen),rep(9,doclen))\n",
    "\n",
    "topic<-c(2,1,1,2,2,\n",
    "         1,2,1,2,2,\n",
    "         1,2,1,2,2,\n",
    "         1,2,1,2,2,\n",
    "         1,2,1,2,2,\n",
    "         1,2,2,2,2,\n",
    "         1,2,1,1,2,\n",
    "         1,2,1,1,2,\n",
    "         2,1,1,2,2)\n",
    "data<-tibble(word=word,doc=doc,topic=topic)\n",
    "data"
   ]
  },
  {
   "cell_type": "code",
   "execution_count": 126,
   "id": "b847e71a-3187-4e0c-9bd5-cfb66dde952a",
   "metadata": {},
   "outputs": [],
   "source": [
    "topic_doc<-function(data,k,d,alpha=0.1){ #k: 토픽의 인덱스, d:doc의 인덱스\n",
    "    count_ = dim(filter(data,doc==d,topic==k))[1] + alpha \n",
    "    total_ = dim(filter(data,doc==d))[1] + alpha * K # K는 전체 토픽의 수 \n",
    "    count_ / total_ \n",
    "} "
   ]
  },
  {
   "cell_type": "code",
   "execution_count": 127,
   "id": "dce17cbb-7188-4fe8-92d2-db97406e8b7f",
   "metadata": {},
   "outputs": [],
   "source": [
    "word_topic<-function(data,w,k,alpha=0.1){ #k: 토픽의 인덱스, w: word의 인덱스 \n",
    "    word_ = filter(data,doc==d)$word[w]\n",
    "    count_ = dim(filter(data, topic==k,word==word_))[1] + alpha\n",
    "    total_ = dim(filter(data, topic==k))[1] + alpha * W  # W=length(unique(data$word))\n",
    "    count_ / total_ \n",
    "}"
   ]
  },
  {
   "cell_type": "code",
   "execution_count": 128,
   "id": "ca5c2c6f-667f-4ecb-a12a-6b31a2a043b6",
   "metadata": {},
   "outputs": [],
   "source": [
    "topicprob<-function(data,d,w){\n",
    "    rtn<-c()\n",
    "    for(k in 1:K){\n",
    "        rtn[k]=topic_doc(data,k,d)* word_topic(data,w,k)\n",
    "    } \n",
    "    rtn/sum(rtn)\n",
    "}"
   ]
  },
  {
   "cell_type": "code",
   "execution_count": 132,
   "id": "8e3438a0-a7a6-4a2c-b4cf-a24f8fda865a",
   "metadata": {},
   "outputs": [
    {
     "data": {
      "text/html": [
       "<table class=\"dataframe\">\n",
       "<caption>A tibble: 45 × 3</caption>\n",
       "<thead>\n",
       "\t<tr><th scope=col>word</th><th scope=col>doc</th><th scope=col>topic</th></tr>\n",
       "\t<tr><th scope=col>&lt;chr&gt;</th><th scope=col>&lt;dbl&gt;</th><th scope=col>&lt;dbl&gt;</th></tr>\n",
       "</thead>\n",
       "<tbody>\n",
       "\t<tr><td>손흥민    </td><td>1</td><td>1</td></tr>\n",
       "\t<tr><td>골        </td><td>1</td><td>1</td></tr>\n",
       "\t<tr><td>골        </td><td>1</td><td>1</td></tr>\n",
       "\t<tr><td>박지성    </td><td>1</td><td>1</td></tr>\n",
       "\t<tr><td>패스      </td><td>1</td><td>1</td></tr>\n",
       "\t<tr><td>골        </td><td>2</td><td>2</td></tr>\n",
       "\t<tr><td>확률      </td><td>2</td><td>1</td></tr>\n",
       "\t<tr><td>패스      </td><td>2</td><td>1</td></tr>\n",
       "\t<tr><td>손흥민    </td><td>2</td><td>1</td></tr>\n",
       "\t<tr><td>골        </td><td>2</td><td>1</td></tr>\n",
       "\t<tr><td>골        </td><td>3</td><td>1</td></tr>\n",
       "\t<tr><td>골        </td><td>3</td><td>1</td></tr>\n",
       "\t<tr><td>확률      </td><td>3</td><td>1</td></tr>\n",
       "\t<tr><td>패스      </td><td>3</td><td>1</td></tr>\n",
       "\t<tr><td>골        </td><td>3</td><td>1</td></tr>\n",
       "\t<tr><td>골        </td><td>4</td><td>1</td></tr>\n",
       "\t<tr><td>박지성    </td><td>4</td><td>1</td></tr>\n",
       "\t<tr><td>통계      </td><td>4</td><td>1</td></tr>\n",
       "\t<tr><td>확률      </td><td>4</td><td>1</td></tr>\n",
       "\t<tr><td>골        </td><td>4</td><td>1</td></tr>\n",
       "\t<tr><td>확률      </td><td>5</td><td>2</td></tr>\n",
       "\t<tr><td>통계      </td><td>5</td><td>2</td></tr>\n",
       "\t<tr><td>박지성    </td><td>5</td><td>2</td></tr>\n",
       "\t<tr><td>통계      </td><td>5</td><td>2</td></tr>\n",
       "\t<tr><td>골        </td><td>5</td><td>2</td></tr>\n",
       "\t<tr><td>확률      </td><td>6</td><td>2</td></tr>\n",
       "\t<tr><td>확률      </td><td>6</td><td>2</td></tr>\n",
       "\t<tr><td>골        </td><td>6</td><td>2</td></tr>\n",
       "\t<tr><td>통계      </td><td>6</td><td>2</td></tr>\n",
       "\t<tr><td>AI        </td><td>6</td><td>2</td></tr>\n",
       "\t<tr><td>확률      </td><td>7</td><td>2</td></tr>\n",
       "\t<tr><td>확률      </td><td>7</td><td>2</td></tr>\n",
       "\t<tr><td>통계      </td><td>7</td><td>2</td></tr>\n",
       "\t<tr><td>통계      </td><td>7</td><td>2</td></tr>\n",
       "\t<tr><td>AI        </td><td>7</td><td>2</td></tr>\n",
       "\t<tr><td>확률      </td><td>8</td><td>2</td></tr>\n",
       "\t<tr><td>빅데이터  </td><td>8</td><td>2</td></tr>\n",
       "\t<tr><td>데이터과학</td><td>8</td><td>2</td></tr>\n",
       "\t<tr><td>빅데이터  </td><td>8</td><td>2</td></tr>\n",
       "\t<tr><td>AI        </td><td>8</td><td>2</td></tr>\n",
       "\t<tr><td>확률      </td><td>9</td><td>2</td></tr>\n",
       "\t<tr><td>데이터과학</td><td>9</td><td>2</td></tr>\n",
       "\t<tr><td>AI        </td><td>9</td><td>2</td></tr>\n",
       "\t<tr><td>데이터과학</td><td>9</td><td>2</td></tr>\n",
       "\t<tr><td>데이터과학</td><td>9</td><td>2</td></tr>\n",
       "</tbody>\n",
       "</table>\n"
      ],
      "text/latex": [
       "A tibble: 45 × 3\n",
       "\\begin{tabular}{lll}\n",
       " word & doc & topic\\\\\n",
       " <chr> & <dbl> & <dbl>\\\\\n",
       "\\hline\n",
       "\t 손흥민     & 1 & 1\\\\\n",
       "\t 골         & 1 & 1\\\\\n",
       "\t 골         & 1 & 1\\\\\n",
       "\t 박지성     & 1 & 1\\\\\n",
       "\t 패스       & 1 & 1\\\\\n",
       "\t 골         & 2 & 2\\\\\n",
       "\t 확률       & 2 & 1\\\\\n",
       "\t 패스       & 2 & 1\\\\\n",
       "\t 손흥민     & 2 & 1\\\\\n",
       "\t 골         & 2 & 1\\\\\n",
       "\t 골         & 3 & 1\\\\\n",
       "\t 골         & 3 & 1\\\\\n",
       "\t 확률       & 3 & 1\\\\\n",
       "\t 패스       & 3 & 1\\\\\n",
       "\t 골         & 3 & 1\\\\\n",
       "\t 골         & 4 & 1\\\\\n",
       "\t 박지성     & 4 & 1\\\\\n",
       "\t 통계       & 4 & 1\\\\\n",
       "\t 확률       & 4 & 1\\\\\n",
       "\t 골         & 4 & 1\\\\\n",
       "\t 확률       & 5 & 2\\\\\n",
       "\t 통계       & 5 & 2\\\\\n",
       "\t 박지성     & 5 & 2\\\\\n",
       "\t 통계       & 5 & 2\\\\\n",
       "\t 골         & 5 & 2\\\\\n",
       "\t 확률       & 6 & 2\\\\\n",
       "\t 확률       & 6 & 2\\\\\n",
       "\t 골         & 6 & 2\\\\\n",
       "\t 통계       & 6 & 2\\\\\n",
       "\t AI         & 6 & 2\\\\\n",
       "\t 확률       & 7 & 2\\\\\n",
       "\t 확률       & 7 & 2\\\\\n",
       "\t 통계       & 7 & 2\\\\\n",
       "\t 통계       & 7 & 2\\\\\n",
       "\t AI         & 7 & 2\\\\\n",
       "\t 확률       & 8 & 2\\\\\n",
       "\t 빅데이터   & 8 & 2\\\\\n",
       "\t 데이터과학 & 8 & 2\\\\\n",
       "\t 빅데이터   & 8 & 2\\\\\n",
       "\t AI         & 8 & 2\\\\\n",
       "\t 확률       & 9 & 2\\\\\n",
       "\t 데이터과학 & 9 & 2\\\\\n",
       "\t AI         & 9 & 2\\\\\n",
       "\t 데이터과학 & 9 & 2\\\\\n",
       "\t 데이터과학 & 9 & 2\\\\\n",
       "\\end{tabular}\n"
      ],
      "text/markdown": [
       "\n",
       "A tibble: 45 × 3\n",
       "\n",
       "| word &lt;chr&gt; | doc &lt;dbl&gt; | topic &lt;dbl&gt; |\n",
       "|---|---|---|\n",
       "| 손흥민     | 1 | 1 |\n",
       "| 골         | 1 | 1 |\n",
       "| 골         | 1 | 1 |\n",
       "| 박지성     | 1 | 1 |\n",
       "| 패스       | 1 | 1 |\n",
       "| 골         | 2 | 2 |\n",
       "| 확률       | 2 | 1 |\n",
       "| 패스       | 2 | 1 |\n",
       "| 손흥민     | 2 | 1 |\n",
       "| 골         | 2 | 1 |\n",
       "| 골         | 3 | 1 |\n",
       "| 골         | 3 | 1 |\n",
       "| 확률       | 3 | 1 |\n",
       "| 패스       | 3 | 1 |\n",
       "| 골         | 3 | 1 |\n",
       "| 골         | 4 | 1 |\n",
       "| 박지성     | 4 | 1 |\n",
       "| 통계       | 4 | 1 |\n",
       "| 확률       | 4 | 1 |\n",
       "| 골         | 4 | 1 |\n",
       "| 확률       | 5 | 2 |\n",
       "| 통계       | 5 | 2 |\n",
       "| 박지성     | 5 | 2 |\n",
       "| 통계       | 5 | 2 |\n",
       "| 골         | 5 | 2 |\n",
       "| 확률       | 6 | 2 |\n",
       "| 확률       | 6 | 2 |\n",
       "| 골         | 6 | 2 |\n",
       "| 통계       | 6 | 2 |\n",
       "| AI         | 6 | 2 |\n",
       "| 확률       | 7 | 2 |\n",
       "| 확률       | 7 | 2 |\n",
       "| 통계       | 7 | 2 |\n",
       "| 통계       | 7 | 2 |\n",
       "| AI         | 7 | 2 |\n",
       "| 확률       | 8 | 2 |\n",
       "| 빅데이터   | 8 | 2 |\n",
       "| 데이터과학 | 8 | 2 |\n",
       "| 빅데이터   | 8 | 2 |\n",
       "| AI         | 8 | 2 |\n",
       "| 확률       | 9 | 2 |\n",
       "| 데이터과학 | 9 | 2 |\n",
       "| AI         | 9 | 2 |\n",
       "| 데이터과학 | 9 | 2 |\n",
       "| 데이터과학 | 9 | 2 |\n",
       "\n"
      ],
      "text/plain": [
       "   word       doc topic\n",
       "1  손흥민     1   1    \n",
       "2  골         1   1    \n",
       "3  골         1   1    \n",
       "4  박지성     1   1    \n",
       "5  패스       1   1    \n",
       "6  골         2   2    \n",
       "7  확률       2   1    \n",
       "8  패스       2   1    \n",
       "9  손흥민     2   1    \n",
       "10 골         2   1    \n",
       "11 골         3   1    \n",
       "12 골         3   1    \n",
       "13 확률       3   1    \n",
       "14 패스       3   1    \n",
       "15 골         3   1    \n",
       "16 골         4   1    \n",
       "17 박지성     4   1    \n",
       "18 통계       4   1    \n",
       "19 확률       4   1    \n",
       "20 골         4   1    \n",
       "21 확률       5   2    \n",
       "22 통계       5   2    \n",
       "23 박지성     5   2    \n",
       "24 통계       5   2    \n",
       "25 골         5   2    \n",
       "26 확률       6   2    \n",
       "27 확률       6   2    \n",
       "28 골         6   2    \n",
       "29 통계       6   2    \n",
       "30 AI         6   2    \n",
       "31 확률       7   2    \n",
       "32 확률       7   2    \n",
       "33 통계       7   2    \n",
       "34 통계       7   2    \n",
       "35 AI         7   2    \n",
       "36 확률       8   2    \n",
       "37 빅데이터   8   2    \n",
       "38 데이터과학 8   2    \n",
       "39 빅데이터   8   2    \n",
       "40 AI         8   2    \n",
       "41 확률       9   2    \n",
       "42 데이터과학 9   2    \n",
       "43 AI         9   2    \n",
       "44 데이터과학 9   2    \n",
       "45 데이터과학 9   2    "
      ]
     },
     "metadata": {},
     "output_type": "display_data"
    }
   ],
   "source": [
    "D<-max(data$doc) # 다큐먼트의 수 \n",
    "K<-2 # 토픽의수 \n",
    "W<-length(unique(data$word))\n",
    "for(t in 1:2){\n",
    "    for(d in 1:D){\n",
    "    for(w in 1:doclen){\n",
    "    i=(d-1)*doclen+w \n",
    "    data[i,]$topic<-(topicprob(data[-i,],d,w)[2] > runif(1)) + 1\n",
    "    }\n",
    "}\n",
    "}\n",
    "data"
   ]
  },
  {
   "cell_type": "markdown",
   "id": "b91dff5e-6521-4a52-83a7-337bd6eff41c",
   "metadata": {},
   "source": [
    "--- "
   ]
  },
  {
   "cell_type": "code",
   "execution_count": null,
   "id": "ebd14573-403f-4a7b-b0ba-8b18c28d57d5",
   "metadata": {},
   "outputs": [],
   "source": []
  }
 ],
 "metadata": {
  "kernelspec": {
   "display_name": "Python 3",
   "language": "python",
   "name": "python3"
  },
  "language_info": {
   "codemirror_mode": {
    "name": "ipython",
    "version": 3
   },
   "file_extension": ".py",
   "mimetype": "text/x-python",
   "name": "python",
   "nbconvert_exporter": "python",
   "pygments_lexer": "ipython3",
   "version": "3.8.16"
  }
 },
 "nbformat": 4,
 "nbformat_minor": 5
}
