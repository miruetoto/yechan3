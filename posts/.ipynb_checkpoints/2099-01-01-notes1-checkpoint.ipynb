{
 "cells": [
  {
   "cell_type": "raw",
   "id": "d5d6e3e2-f746-460f-97ee-e03221cb6241",
   "metadata": {},
   "source": [
    "---\n",
    "title: \"연습장1\"\n",
    "author: \"최규빈\"\n",
    "date: \"01/01/2099\"\n",
    "---"
   ]
  },
  {
   "cell_type": "code",
   "execution_count": 1085,
   "id": "4a2858d3-26f4-4b94-8ee3-e21e6cea05dd",
   "metadata": {},
   "outputs": [],
   "source": [
    "import numpy as np\n",
    "import matplotlib.pyplot as plt"
   ]
  },
  {
   "cell_type": "markdown",
   "id": "0e5d2d2e-3e8e-401a-be9e-1702bd09ac6f",
   "metadata": {},
   "source": [
    "# `1`. 묵찌빠 (150점)"
   ]
  },
  {
   "cell_type": "markdown",
   "id": "9d47f398-305d-4345-995b-d19c281b323d",
   "metadata": {},
   "source": [
    "ref: <https://namu.wiki/w/묵찌빠>"
   ]
  },
  {
   "cell_type": "markdown",
   "id": "31e99fe1-7afc-454b-a049-5fac782d36b7",
   "metadata": {},
   "source": [
    "묵찌빠는 가위바위보의 변형 놀이이다.\n",
    "\n",
    "보통 가위바위보의 게임과 연이어 진행되는데, 가위바위보 승부 이후 이긴 사람이 공격권을 가지고, 묵(바위)/찌(가위)/빠(보자기) 가운데 하나를 외치는 동시에 말한 것과 일치하도록 손 모양을 바꾼다. 공격권을 가진 사람의 손 모양이 상대(수비권을 가진 사람)의 손 모양과 일치하면 공격권을 가진 사람의 승리. 두 사람이 동시에 모양을 바꿔야 하기에 구호를 맞추어 하기도 한다. 구호로 쓰이는 것은 \"하나, 둘\", \"(자신의 손에 따라, 혹은 공격자 손에 따라) '묵, 묵', '찌, 찌', '빠, 빠' \", \"(두번째 것의 변형으로) '묵에, 묵에, '찌에, 찌에', '빠에, 빠에' \" 등이 있다. 구호를 외친 후 세번째 박자에 맞추어 바꾼다. 게임의 긴장감을 살리기 위해 불시에 공격이 들어가는 식으로, 아무런 구호도 없이 묵찌빠 중 공격자가 바꿀 손모양을 바로 외치는 경우도 있다.\n",
    "\n",
    "승부가 갈리지 않았을 경우에는 다시 가위바위보를 하는 것이 아니라, 현 상태에서 가위바위보 규칙 상 이긴 사람이 공격권을 가져가게 된다.\n"
   ]
  },
  {
   "cell_type": "markdown",
   "id": "9705df81-3447-4948-9139-095a2f00bfcc",
   "metadata": {},
   "source": [
    "`(1)` 아래는 RPS_BASE 클래스의 구현예시이다. "
   ]
  },
  {
   "cell_type": "code",
   "execution_count": 657,
   "id": "46058960-6122-4524-91ac-cabb82f5787d",
   "metadata": {},
   "outputs": [],
   "source": [
    "class RPS_BASE:\n",
    "    def __init__(self,candidate):\n",
    "        self.candidate = candidate\n",
    "        self.actions = list() \n",
    "    def __setitem__(self,index,val):\n",
    "        self.actions[index] = val\n",
    "    def __getitem__(self,item):\n",
    "        return self.actions[item]        \n",
    "    def __len__(self):\n",
    "        return len(self.actions)\n",
    "    def __eq__(self,other):\n",
    "        return self[-1] == other[-1]\n",
    "    def __gt__(self,other):\n",
    "        return [self[-1],other[-1]] in [['묵','찌'],['찌','빠'],['빠','묵']]\n",
    "    def __ge__(self,other):\n",
    "        return (self == other) or (self > other)\n",
    "    def __lt__(self,other):\n",
    "        return not (self >= other)\n",
    "    def __le__(self,other):\n",
    "        return (self == other) or (self < other)    \n",
    "    def _repr_html_(self):\n",
    "        html_str = \"\"\"\n",
    "        낼 수 있는 패: {} <br/>\n",
    "        기록: {}\n",
    "        \"\"\"        \n",
    "        return html_str.format(self.candidate,self.actions)       \n",
    "    def pick(self):\n",
    "        self.actions.append(np.random.choice(self.candidate))        "
   ]
  },
  {
   "cell_type": "markdown",
   "id": "fadb3cf1-79d3-4d5a-9b9a-128668304b7b",
   "metadata": {},
   "source": [
    "이 클래스에서 아래와 같은 2명의 플레이어 인스턴스를 생성하라. \n",
    "\n",
    "- `a`: ['묵','찌'] 중에 하나를 랜덤으로 선택 \n",
    "- `b`: ['찌','빠'] 중에 하나를 랜덤으로 선택 "
   ]
  },
  {
   "cell_type": "markdown",
   "id": "a4b2456d-6403-4afc-909e-b8e146ca778a",
   "metadata": {},
   "source": [
    "두 인스턴스를 100회 랜덤대결하고 결과를 기록하라. 어떠한 플레이어가 더 유리한가? "
   ]
  },
  {
   "cell_type": "markdown",
   "id": "86808270-f622-40db-a7f1-08505c923908",
   "metadata": {},
   "source": [
    "> 답안은 100회중 a몇회 승리, b몇회 승리와 같은 숫자형식으로만 나오면 인정한다. (코드를 정리하거나 별도의 클래스를 만드는 것을 요구하지 않음) "
   ]
  },
  {
   "cell_type": "markdown",
   "id": "6025a613-b2bc-4531-b614-6727b973a862",
   "metadata": {},
   "source": [
    "`(2)` RPS_BASE에서 아래와 같은 두명의 플레이어 인스턴스를 생성하라. \n",
    "\n",
    "- `a`: ['묵','찌','빠'] 중 하나를 랜덤으로 선택 \n",
    "- `b`: ['찌','빠'] 중 하나를 랜덤으로 선택 "
   ]
  },
  {
   "cell_type": "markdown",
   "id": "1075060c-df7c-48de-ab71-ad7b317d013f",
   "metadata": {},
   "source": [
    "아래와 같은 a,b의 attribute을 변경하라. "
   ]
  },
  {
   "cell_type": "code",
   "execution_count": 672,
   "id": "ad37c0a8-32b3-4efb-ad9a-1e47dbf6d9a9",
   "metadata": {},
   "outputs": [],
   "source": [
    "a.modes = [None]\n",
    "a.actions = [None] \n",
    "b.modes = [None]\n",
    "b.actions = [None]"
   ]
  },
  {
   "cell_type": "markdown",
   "id": "c4ce0aa6-5290-4118-a671-67546849ffc6",
   "metadata": {},
   "source": [
    "플레이어 a,b를 이용하여 반복적으로 가위바위보 대결을 수행하고 아래와 같이 대결결과에 따라 공격권을 결정하는 함수 `mul`을 만들어라. \n",
    "\n",
    "**경우1: 플레이어 a가 승리할 경우**\n",
    "\n",
    "- a가 공격모드, b가 수비모드가 된다. \n",
    "- `a.modes`에는 'Attack' 이 `b.modes`에는 `Defence`가 추가된다. \n",
    "- `a.actions`와 `b.actions`는 각각의 플레이어가 선택한 패(묵,찌,빠)가 기록된다. \n",
    "\n",
    "\n",
    "**경우2: 플레이어 b가 승리할 경우**\n",
    "\n",
    "- b가 공격모드, a가 수비모드가 된다. \n",
    "- `b.modes`에는 'Attack' 이 `a.modes`에는 `Defence`가 추가된다. \n",
    "- `a.actions`와 `b.actions`는 각각의 플레이어가 선택한 패(묵,찌,빠)가 기록된다. \n",
    "\n",
    "**경우3: 비길경우**\n",
    "\n",
    "- 공격권의 변화는 없다. \n",
    "- `a.modes`,`b.modes`는 각각 이전의 값이 추가된다. \n",
    "- `a.actions`와 `b.actions`는 각각의 플레이어가 선택한 패(묵,찌,빠)가 기록된다. "
   ]
  },
  {
   "cell_type": "markdown",
   "id": "b156dd49-b056-4268-8ecc-fa6628fbad60",
   "metadata": {},
   "source": [
    "아래는 함수 mul을 사용한 예시이다. "
   ]
  },
  {
   "cell_type": "markdown",
   "id": "279f915b-61ce-4d72-976f-80b4101a23ea",
   "metadata": {},
   "source": [
    "**시점1: 둘다 찌를 내어 공격권을 아무도 획득하지못함**"
   ]
  },
  {
   "cell_type": "code",
   "execution_count": 693,
   "id": "5237d002-a46a-4277-9fef-c00550450820",
   "metadata": {},
   "outputs": [],
   "source": [
    "mul(a,b)"
   ]
  },
  {
   "cell_type": "code",
   "execution_count": 702,
   "id": "cd922339-2e88-47c2-9118-b18926f46c6e",
   "metadata": {},
   "outputs": [
    {
     "data": {
      "text/html": [
       "\n",
       "        낼 수 있는 패: ['묵', '찌', '빠'] <br/>\n",
       "        기록: [None, '찌']\n",
       "        "
      ],
      "text/plain": [
       "<__main__.RPS_BASE at 0x7f238c0e1850>"
      ]
     },
     "execution_count": 702,
     "metadata": {},
     "output_type": "execute_result"
    }
   ],
   "source": [
    "a"
   ]
  },
  {
   "cell_type": "code",
   "execution_count": 703,
   "id": "53235c0c-a01b-4843-b2cd-821f34b9fe43",
   "metadata": {},
   "outputs": [
    {
     "data": {
      "text/html": [
       "\n",
       "        낼 수 있는 패: ['찌', '빠'] <br/>\n",
       "        기록: [None, '찌']\n",
       "        "
      ],
      "text/plain": [
       "<__main__.RPS_BASE at 0x7f238c4e54c0>"
      ]
     },
     "execution_count": 703,
     "metadata": {},
     "output_type": "execute_result"
    }
   ],
   "source": [
    "b"
   ]
  },
  {
   "cell_type": "code",
   "execution_count": 704,
   "id": "36cd2a9d-b6fb-4ba7-8b4d-7adf20317583",
   "metadata": {},
   "outputs": [
    {
     "data": {
      "text/plain": [
       "[None, None]"
      ]
     },
     "execution_count": 704,
     "metadata": {},
     "output_type": "execute_result"
    }
   ],
   "source": [
    "a.modes"
   ]
  },
  {
   "cell_type": "code",
   "execution_count": 705,
   "id": "08606343-9557-4025-9a5f-7944cc530593",
   "metadata": {},
   "outputs": [
    {
     "data": {
      "text/plain": [
       "[None, None]"
      ]
     },
     "execution_count": 705,
     "metadata": {},
     "output_type": "execute_result"
    }
   ],
   "source": [
    "b.modes"
   ]
  },
  {
   "cell_type": "markdown",
   "id": "71bd8146-ef85-4b54-b84d-75c87d7abe92",
   "metadata": {},
   "source": [
    "**시점2:** 이번에도 둘다 찌를 내어 아무도 공격권을 획득하지 못함 "
   ]
  },
  {
   "cell_type": "code",
   "execution_count": 706,
   "id": "b494bfaf-81f0-4b7e-84e9-de7246331626",
   "metadata": {},
   "outputs": [],
   "source": [
    "mul(a,b)"
   ]
  },
  {
   "cell_type": "code",
   "execution_count": 707,
   "id": "0de3901a-af9c-4403-ae35-47c643049adc",
   "metadata": {},
   "outputs": [
    {
     "data": {
      "text/html": [
       "\n",
       "        낼 수 있는 패: ['묵', '찌', '빠'] <br/>\n",
       "        기록: [None, '찌', '찌']\n",
       "        "
      ],
      "text/plain": [
       "<__main__.RPS_BASE at 0x7f238c0e1850>"
      ]
     },
     "execution_count": 707,
     "metadata": {},
     "output_type": "execute_result"
    }
   ],
   "source": [
    "a"
   ]
  },
  {
   "cell_type": "code",
   "execution_count": 708,
   "id": "cc33afaf-a538-466f-81c8-d8a111f5aa2d",
   "metadata": {},
   "outputs": [
    {
     "data": {
      "text/html": [
       "\n",
       "        낼 수 있는 패: ['찌', '빠'] <br/>\n",
       "        기록: [None, '찌', '찌']\n",
       "        "
      ],
      "text/plain": [
       "<__main__.RPS_BASE at 0x7f238c4e54c0>"
      ]
     },
     "execution_count": 708,
     "metadata": {},
     "output_type": "execute_result"
    }
   ],
   "source": [
    "b"
   ]
  },
  {
   "cell_type": "code",
   "execution_count": 709,
   "id": "92958b4f-e69d-44cd-94bc-e2572793d9ca",
   "metadata": {},
   "outputs": [
    {
     "data": {
      "text/plain": [
       "[None, None, None]"
      ]
     },
     "execution_count": 709,
     "metadata": {},
     "output_type": "execute_result"
    }
   ],
   "source": [
    "a.modes"
   ]
  },
  {
   "cell_type": "code",
   "execution_count": 710,
   "id": "d0542a76-c66b-42a3-a7aa-2e4b3a8f2c4b",
   "metadata": {},
   "outputs": [
    {
     "data": {
      "text/plain": [
       "[None, None, None]"
      ]
     },
     "execution_count": 710,
     "metadata": {},
     "output_type": "execute_result"
    }
   ],
   "source": [
    "b.modes"
   ]
  },
  {
   "cell_type": "markdown",
   "id": "3283e56a-588a-43eb-a73d-4d8e12218cce",
   "metadata": {},
   "source": [
    "**시점3:** 이번에는 a가 공격권을 획득 (묵>찌)"
   ]
  },
  {
   "cell_type": "code",
   "execution_count": 711,
   "id": "0f516375-f15a-43ec-a276-07b2d76bd201",
   "metadata": {},
   "outputs": [],
   "source": [
    "mul(a,b)"
   ]
  },
  {
   "cell_type": "code",
   "execution_count": 712,
   "id": "f4b63f6f-016b-43ee-a1db-c6b069a1b7a5",
   "metadata": {},
   "outputs": [
    {
     "data": {
      "text/html": [
       "\n",
       "        낼 수 있는 패: ['묵', '찌', '빠'] <br/>\n",
       "        기록: [None, '찌', '찌', '묵']\n",
       "        "
      ],
      "text/plain": [
       "<__main__.RPS_BASE at 0x7f238c0e1850>"
      ]
     },
     "execution_count": 712,
     "metadata": {},
     "output_type": "execute_result"
    }
   ],
   "source": [
    "a"
   ]
  },
  {
   "cell_type": "code",
   "execution_count": 713,
   "id": "d9b9bd35-41f0-4653-97a0-8458aa78d2e6",
   "metadata": {},
   "outputs": [
    {
     "data": {
      "text/html": [
       "\n",
       "        낼 수 있는 패: ['찌', '빠'] <br/>\n",
       "        기록: [None, '찌', '찌', '찌']\n",
       "        "
      ],
      "text/plain": [
       "<__main__.RPS_BASE at 0x7f238c4e54c0>"
      ]
     },
     "execution_count": 713,
     "metadata": {},
     "output_type": "execute_result"
    }
   ],
   "source": [
    "b"
   ]
  },
  {
   "cell_type": "code",
   "execution_count": 714,
   "id": "5d233181-db79-46b7-a1ce-5e73873cd0aa",
   "metadata": {},
   "outputs": [
    {
     "data": {
      "text/plain": [
       "[None, None, None, 'Attack']"
      ]
     },
     "execution_count": 714,
     "metadata": {},
     "output_type": "execute_result"
    }
   ],
   "source": [
    "a.modes"
   ]
  },
  {
   "cell_type": "code",
   "execution_count": 715,
   "id": "7d9a6294-dd73-4847-a9ec-bb66b8098208",
   "metadata": {},
   "outputs": [
    {
     "data": {
      "text/plain": [
       "[None, None, None, 'Defence']"
      ]
     },
     "execution_count": 715,
     "metadata": {},
     "output_type": "execute_result"
    }
   ],
   "source": [
    "b.modes"
   ]
  },
  {
   "cell_type": "markdown",
   "id": "12adfc14-40c7-4b97-a4e5-ceca406f2d9e",
   "metadata": {},
   "source": [
    "**시점4:** 이번에는 b가 공격권을 획득 (찌>빠)"
   ]
  },
  {
   "cell_type": "code",
   "execution_count": 716,
   "id": "53c180f8-6f60-4791-b71e-5185daa7de35",
   "metadata": {},
   "outputs": [],
   "source": [
    "mul(a,b)"
   ]
  },
  {
   "cell_type": "code",
   "execution_count": 717,
   "id": "1a9e3ab4-a8bb-4b43-b739-2179b7cf27e4",
   "metadata": {},
   "outputs": [
    {
     "data": {
      "text/html": [
       "\n",
       "        낼 수 있는 패: ['묵', '찌', '빠'] <br/>\n",
       "        기록: [None, '찌', '찌', '묵', '빠']\n",
       "        "
      ],
      "text/plain": [
       "<__main__.RPS_BASE at 0x7f238c0e1850>"
      ]
     },
     "execution_count": 717,
     "metadata": {},
     "output_type": "execute_result"
    }
   ],
   "source": [
    "a"
   ]
  },
  {
   "cell_type": "code",
   "execution_count": 718,
   "id": "8a85ec83-8a1f-4df6-ab73-2f22e28a2221",
   "metadata": {},
   "outputs": [
    {
     "data": {
      "text/html": [
       "\n",
       "        낼 수 있는 패: ['찌', '빠'] <br/>\n",
       "        기록: [None, '찌', '찌', '찌', '찌']\n",
       "        "
      ],
      "text/plain": [
       "<__main__.RPS_BASE at 0x7f238c4e54c0>"
      ]
     },
     "execution_count": 718,
     "metadata": {},
     "output_type": "execute_result"
    }
   ],
   "source": [
    "b"
   ]
  },
  {
   "cell_type": "code",
   "execution_count": 719,
   "id": "3fe40a80-9240-4f05-8870-0762527a8a4a",
   "metadata": {},
   "outputs": [
    {
     "data": {
      "text/plain": [
       "[None, None, None, 'Attack', 'Defence']"
      ]
     },
     "execution_count": 719,
     "metadata": {},
     "output_type": "execute_result"
    }
   ],
   "source": [
    "a.modes"
   ]
  },
  {
   "cell_type": "code",
   "execution_count": 720,
   "id": "0fc54f99-3616-435e-9e78-252d1b36c513",
   "metadata": {},
   "outputs": [
    {
     "data": {
      "text/plain": [
       "[None, None, None, 'Defence', 'Attack']"
      ]
     },
     "execution_count": 720,
     "metadata": {},
     "output_type": "execute_result"
    }
   ],
   "source": [
    "b.modes"
   ]
  },
  {
   "cell_type": "markdown",
   "id": "aa3c2cfb-b17a-4d6a-85ca-b8aed0ef610d",
   "metadata": {},
   "source": [
    "`(3)` RPS_BASE를 상속받아 MookjjibbaPlayer라는 새로운 클래스를 정의하라. MookjjibbaPlayer 클래스에서 아래의 메소드를 새롭게 정의 혹은 재정의하여 \n",
    "\n",
    "1. `__init__`\n",
    "2. `_repr_html_`\n",
    "3. `__mul__`\n",
    "4. `reset`\n",
    "\n",
    "인스턴스가 아래와 같은 동작을 하도록 설계하라. \n"
   ]
  },
  {
   "cell_type": "markdown",
   "id": "bcc050b6-71c3-4f5d-a7d5-641b3addafd9",
   "metadata": {},
   "source": [
    "**시점0: 생성예시 (`__init__`)**"
   ]
  },
  {
   "cell_type": "code",
   "execution_count": 765,
   "id": "5019a9b2-2a84-49e9-8f6d-94e045162d35",
   "metadata": {},
   "outputs": [],
   "source": [
    "a=MookjjibbaPlayer(['묵','찌','빠'])\n",
    "b=MookjjibbaPlayer(['묵','찌','빠'])"
   ]
  },
  {
   "cell_type": "code",
   "execution_count": 766,
   "id": "f69cef6a-23fd-41c6-8281-0e07a440bb3f",
   "metadata": {},
   "outputs": [
    {
     "data": {
      "text/plain": [
       "[None]"
      ]
     },
     "execution_count": 766,
     "metadata": {},
     "output_type": "execute_result"
    }
   ],
   "source": [
    "a.actions"
   ]
  },
  {
   "cell_type": "code",
   "execution_count": 767,
   "id": "d0c3236b-386d-4606-b9c0-88cc32da7232",
   "metadata": {},
   "outputs": [
    {
     "data": {
      "text/plain": [
       "[None]"
      ]
     },
     "execution_count": 767,
     "metadata": {},
     "output_type": "execute_result"
    }
   ],
   "source": [
    "a.modes"
   ]
  },
  {
   "cell_type": "code",
   "execution_count": 768,
   "id": "fe2cb9e2-612e-483f-a039-754067b4fdba",
   "metadata": {},
   "outputs": [
    {
     "data": {
      "text/plain": [
       "[None]"
      ]
     },
     "execution_count": 768,
     "metadata": {},
     "output_type": "execute_result"
    }
   ],
   "source": [
    "b.actions"
   ]
  },
  {
   "cell_type": "code",
   "execution_count": 769,
   "id": "5930b0b5-3cb9-4077-a071-40a64fdbdf53",
   "metadata": {},
   "outputs": [
    {
     "data": {
      "text/plain": [
       "[None]"
      ]
     },
     "execution_count": 769,
     "metadata": {},
     "output_type": "execute_result"
    }
   ],
   "source": [
    "b.modes"
   ]
  },
  {
   "cell_type": "markdown",
   "id": "d94942aa-d6d1-430a-9ce4-7d35b819e19d",
   "metadata": {},
   "source": [
    "**시점0: 출력예시(`_repr_html_`)** "
   ]
  },
  {
   "cell_type": "code",
   "execution_count": 770,
   "id": "b80d959e-90de-45b7-a55c-c8a606272644",
   "metadata": {},
   "outputs": [
    {
     "data": {
      "text/html": [
       "\n",
       "        낼 수 있는 패: ['묵', '찌', '빠'] <br/>\n",
       "        기록: [None] <br/>\n",
       "        모드: [None] <br/>\n",
       "        "
      ],
      "text/plain": [
       "<__main__.MookjjibbaPlayer at 0x7f238c0d8910>"
      ]
     },
     "execution_count": 770,
     "metadata": {},
     "output_type": "execute_result"
    }
   ],
   "source": [
    "a"
   ]
  },
  {
   "cell_type": "code",
   "execution_count": 771,
   "id": "af049d0c-4dcf-4460-be9c-f2503d9f6c01",
   "metadata": {},
   "outputs": [
    {
     "data": {
      "text/html": [
       "\n",
       "        낼 수 있는 패: ['묵', '찌', '빠'] <br/>\n",
       "        기록: [None] <br/>\n",
       "        모드: [None] <br/>\n",
       "        "
      ],
      "text/plain": [
       "<__main__.MookjjibbaPlayer at 0x7f238c1bf5b0>"
      ]
     },
     "execution_count": 771,
     "metadata": {},
     "output_type": "execute_result"
    }
   ],
   "source": [
    "b"
   ]
  },
  {
   "cell_type": "markdown",
   "id": "7f6c0e86-1898-412e-9a1f-6db103308c44",
   "metadata": {},
   "source": [
    "**시점1: 대결 및 결과출력 (`__mul__`, `_repr_html_`)**"
   ]
  },
  {
   "cell_type": "code",
   "execution_count": 772,
   "id": "52d4e175-0e01-4f18-be08-c6c2ba3acdbf",
   "metadata": {},
   "outputs": [],
   "source": [
    "a*b"
   ]
  },
  {
   "cell_type": "code",
   "execution_count": 773,
   "id": "75b989dd-4828-48e8-8cc0-e92f57a838fb",
   "metadata": {},
   "outputs": [
    {
     "data": {
      "text/html": [
       "\n",
       "        낼 수 있는 패: ['묵', '찌', '빠'] <br/>\n",
       "        기록: [None, '묵'] <br/>\n",
       "        모드: [None, None] <br/>\n",
       "        "
      ],
      "text/plain": [
       "<__main__.MookjjibbaPlayer at 0x7f238c0d8910>"
      ]
     },
     "execution_count": 773,
     "metadata": {},
     "output_type": "execute_result"
    }
   ],
   "source": [
    "a"
   ]
  },
  {
   "cell_type": "code",
   "execution_count": 774,
   "id": "5f9db7bd-e7d6-4d31-9cc0-f3972df226b8",
   "metadata": {},
   "outputs": [
    {
     "data": {
      "text/html": [
       "\n",
       "        낼 수 있는 패: ['묵', '찌', '빠'] <br/>\n",
       "        기록: [None, '묵'] <br/>\n",
       "        모드: [None, None] <br/>\n",
       "        "
      ],
      "text/plain": [
       "<__main__.MookjjibbaPlayer at 0x7f238c1bf5b0>"
      ]
     },
     "execution_count": 774,
     "metadata": {},
     "output_type": "execute_result"
    }
   ],
   "source": [
    "b"
   ]
  },
  {
   "cell_type": "markdown",
   "id": "62153be2-efe6-42b5-8db7-bd98752046db",
   "metadata": {},
   "source": [
    "**시점2: 대결 및 결과출력 (`__mul__`, `_repr_html_`)**"
   ]
  },
  {
   "cell_type": "code",
   "execution_count": 775,
   "id": "7e180b12-b541-4be2-8d33-0910733b0d9b",
   "metadata": {},
   "outputs": [],
   "source": [
    "a*b"
   ]
  },
  {
   "cell_type": "code",
   "execution_count": 776,
   "id": "e79a0bb8-3c5b-49f3-b3b7-f1625b327798",
   "metadata": {},
   "outputs": [
    {
     "data": {
      "text/html": [
       "\n",
       "        낼 수 있는 패: ['묵', '찌', '빠'] <br/>\n",
       "        기록: [None, '묵', '묵'] <br/>\n",
       "        모드: [None, None, 'Defence'] <br/>\n",
       "        "
      ],
      "text/plain": [
       "<__main__.MookjjibbaPlayer at 0x7f238c0d8910>"
      ]
     },
     "execution_count": 776,
     "metadata": {},
     "output_type": "execute_result"
    }
   ],
   "source": [
    "a"
   ]
  },
  {
   "cell_type": "code",
   "execution_count": 777,
   "id": "05ac8ea1-3e00-4ed6-8533-588a56bd8a26",
   "metadata": {},
   "outputs": [
    {
     "data": {
      "text/html": [
       "\n",
       "        낼 수 있는 패: ['묵', '찌', '빠'] <br/>\n",
       "        기록: [None, '묵', '빠'] <br/>\n",
       "        모드: [None, None, 'Attack'] <br/>\n",
       "        "
      ],
      "text/plain": [
       "<__main__.MookjjibbaPlayer at 0x7f238c1bf5b0>"
      ]
     },
     "execution_count": 777,
     "metadata": {},
     "output_type": "execute_result"
    }
   ],
   "source": [
    "b"
   ]
  },
  {
   "cell_type": "markdown",
   "id": "64368378-519c-4f1f-9354-712c5c4f3b1e",
   "metadata": {},
   "source": [
    "**시점3: 대결결과의 초기화 (`reset`)**"
   ]
  },
  {
   "cell_type": "code",
   "execution_count": 778,
   "id": "813eb333-c32a-44b8-937d-b4ca360b7eb6",
   "metadata": {},
   "outputs": [
    {
     "data": {
      "text/html": [
       "\n",
       "        낼 수 있는 패: ['묵', '찌', '빠'] <br/>\n",
       "        기록: [None, '묵', '묵'] <br/>\n",
       "        모드: [None, None, 'Defence'] <br/>\n",
       "        "
      ],
      "text/plain": [
       "<__main__.MookjjibbaPlayer at 0x7f238c0d8910>"
      ]
     },
     "execution_count": 778,
     "metadata": {},
     "output_type": "execute_result"
    }
   ],
   "source": [
    "a"
   ]
  },
  {
   "cell_type": "code",
   "execution_count": 779,
   "id": "d6ca05e8-c1fa-4c79-ba72-deb1b8239f8f",
   "metadata": {},
   "outputs": [],
   "source": [
    "a.reset()"
   ]
  },
  {
   "cell_type": "code",
   "execution_count": 780,
   "id": "1c711436-f81e-4f71-90e6-a886d4032cab",
   "metadata": {},
   "outputs": [
    {
     "data": {
      "text/html": [
       "\n",
       "        낼 수 있는 패: ['묵', '찌', '빠'] <br/>\n",
       "        기록: [None] <br/>\n",
       "        모드: [None] <br/>\n",
       "        "
      ],
      "text/plain": [
       "<__main__.MookjjibbaPlayer at 0x7f238c0d8910>"
      ]
     },
     "execution_count": 780,
     "metadata": {},
     "output_type": "execute_result"
    }
   ],
   "source": [
    "a"
   ]
  },
  {
   "cell_type": "markdown",
   "id": "013ed545-4928-4f1d-b680-a0fd1078f4ac",
   "metadata": {},
   "source": [
    "---"
   ]
  },
  {
   "cell_type": "markdown",
   "id": "1dab1084-3205-4de9-94c5-f29c8e13da6b",
   "metadata": {},
   "source": [
    "`(4)` `(3)` 에서 생성된 MookjjibbaPlayer의 두 개의 인스턴스 a,b를 입력으로 받고 최초공격권을 결정하는 함수 `jumpball`을 설계하라. "
   ]
  },
  {
   "cell_type": "markdown",
   "id": "c5196ba7-4b0c-44d4-a744-daebe2038e26",
   "metadata": {},
   "source": [
    "아래는 jumpball함수의 사용예시이다."
   ]
  },
  {
   "cell_type": "code",
   "execution_count": null,
   "id": "d4573c84-9356-4cb3-ac65-a96746f1e6e2",
   "metadata": {},
   "outputs": [
    {
     "data": {
      "text/html": [
       "\n",
       "        낼 수 있는 패: ['묵', '찌', '빠'] <br/>\n",
       "        기록: [None] <br/>\n",
       "        모드: [None] <br/>\n",
       "        "
      ],
      "text/plain": [
       "<__main__.MookjjibbaPlayer at 0x7f238c0d8910>"
      ]
     },
     "execution_count": 874,
     "metadata": {},
     "output_type": "execute_result"
    }
   ],
   "source": [
    "a"
   ]
  },
  {
   "cell_type": "code",
   "execution_count": 875,
   "id": "9ad7ecc0-ca4a-470a-86f1-18e442a8f57d",
   "metadata": {},
   "outputs": [
    {
     "data": {
      "text/html": [
       "\n",
       "        낼 수 있는 패: ['묵', '찌', '빠'] <br/>\n",
       "        기록: [None] <br/>\n",
       "        모드: [None] <br/>\n",
       "        "
      ],
      "text/plain": [
       "<__main__.MookjjibbaPlayer at 0x7f238c1bf5b0>"
      ]
     },
     "execution_count": 875,
     "metadata": {},
     "output_type": "execute_result"
    }
   ],
   "source": [
    "b"
   ]
  },
  {
   "cell_type": "code",
   "execution_count": 876,
   "id": "53fdca00-b89d-41c5-b6a0-292f580afb0e",
   "metadata": {},
   "outputs": [],
   "source": [
    "jumpball(a,b)"
   ]
  },
  {
   "cell_type": "code",
   "execution_count": 877,
   "id": "2b46f9de-d707-4cca-abe6-aa67c72478df",
   "metadata": {},
   "outputs": [
    {
     "data": {
      "text/html": [
       "\n",
       "        낼 수 있는 패: ['묵', '찌', '빠'] <br/>\n",
       "        기록: [None, '찌', '찌', '찌'] <br/>\n",
       "        모드: [None, None, None, 'Defence'] <br/>\n",
       "        "
      ],
      "text/plain": [
       "<__main__.MookjjibbaPlayer at 0x7f238c0d8910>"
      ]
     },
     "execution_count": 877,
     "metadata": {},
     "output_type": "execute_result"
    }
   ],
   "source": [
    "a"
   ]
  },
  {
   "cell_type": "code",
   "execution_count": 878,
   "id": "d61b3b8f-2adb-4701-94a3-ff0e3d747a06",
   "metadata": {},
   "outputs": [
    {
     "data": {
      "text/html": [
       "\n",
       "        낼 수 있는 패: ['묵', '찌', '빠'] <br/>\n",
       "        기록: [None, '찌', '찌', '묵'] <br/>\n",
       "        모드: [None, None, None, 'Attack'] <br/>\n",
       "        "
      ],
      "text/plain": [
       "<__main__.MookjjibbaPlayer at 0x7f238c1bf5b0>"
      ]
     },
     "execution_count": 878,
     "metadata": {},
     "output_type": "execute_result"
    }
   ],
   "source": [
    "b"
   ]
  },
  {
   "cell_type": "markdown",
   "id": "42b2f6b3-4948-4182-a430-822fc79a5be0",
   "metadata": {},
   "source": [
    "**hint: 아래의 코드를 관찰** "
   ]
  },
  {
   "cell_type": "code",
   "execution_count": 1078,
   "id": "b9685054-5cfd-41de-83d3-ba384377b976",
   "metadata": {},
   "outputs": [],
   "source": [
    "a = [] \n",
    "b = [] \n",
    "a.append(np.random.choice([0,1,2]))\n",
    "b.append(np.random.choice([0,1,2]))\n",
    "while a==b: \n",
    "    a.append(np.random.choice([0,1,2]))\n",
    "    b.append(np.random.choice([0,1,2]))"
   ]
  },
  {
   "cell_type": "code",
   "execution_count": 1079,
   "id": "7546ecf0-5ad9-4f21-ba37-b3be049bd7b6",
   "metadata": {},
   "outputs": [
    {
     "data": {
      "text/plain": [
       "[0, 0, 0, 1]"
      ]
     },
     "execution_count": 1079,
     "metadata": {},
     "output_type": "execute_result"
    }
   ],
   "source": [
    "a"
   ]
  },
  {
   "cell_type": "code",
   "execution_count": 1080,
   "id": "92a979cc-496d-4991-84e8-c3e06762549b",
   "metadata": {},
   "outputs": [
    {
     "data": {
      "text/plain": [
       "[0, 0, 0, 0]"
      ]
     },
     "execution_count": 1080,
     "metadata": {},
     "output_type": "execute_result"
    }
   ],
   "source": [
    "b"
   ]
  },
  {
   "cell_type": "markdown",
   "id": "e46c444f-dad7-4ce0-b5ac-bd14739bb946",
   "metadata": {},
   "source": [
    "`(5)` 지금까지 코드를 바탕으로 \n",
    "\n",
    "- a: ['묵','찌'] 중 하나를 랜덤으로 고르는 플레이어\n",
    "- b: ['찌','빠'] 중 하나를 랜덤으로 고르는 플레이어\n",
    "\n",
    "를 설정하여 100회 가상대결을 진행하라. 100회 가상대결결과를 제시하라."
   ]
  },
  {
   "cell_type": "markdown",
   "id": "e1d2849f-507a-45fe-8a70-f80163a83ea1",
   "metadata": {},
   "source": [
    "(참고) -- 아래는 제가 구현한 예시입니다. 참고용일 뿐이며 이와 같은 방식으로 구현할 필요는 없습니다. "
   ]
  },
  {
   "cell_type": "markdown",
   "id": "db07f956-0904-473e-8e54-76afebe66def",
   "metadata": {},
   "source": [
    "**1. a,b 두명의 플레이어 생성**"
   ]
  },
  {
   "cell_type": "code",
   "execution_count": 1051,
   "id": "39cf44ec-9c22-4c39-9c23-70728cedc56b",
   "metadata": {},
   "outputs": [],
   "source": [
    "a=MookjjibbaPlayer(['묵','찌'])\n",
    "b=MookjjibbaPlayer(['찌','빠'])"
   ]
  },
  {
   "cell_type": "code",
   "execution_count": 1052,
   "id": "0c2390fd-8865-4e7c-a690-f556f3533d57",
   "metadata": {},
   "outputs": [
    {
     "data": {
      "text/html": [
       "\n",
       "        낼 수 있는 패: ['묵', '찌'] <br/>\n",
       "        기록: [None] <br/>\n",
       "        모드: [None] <br/>\n",
       "        "
      ],
      "text/plain": [
       "<__main__.MookjjibbaPlayer at 0x7f238c9252b0>"
      ]
     },
     "execution_count": 1052,
     "metadata": {},
     "output_type": "execute_result"
    }
   ],
   "source": [
    "a"
   ]
  },
  {
   "cell_type": "code",
   "execution_count": 1053,
   "id": "c5736878-5f9e-4300-a22d-cecf4de74054",
   "metadata": {},
   "outputs": [
    {
     "data": {
      "text/html": [
       "\n",
       "        낼 수 있는 패: ['찌', '빠'] <br/>\n",
       "        기록: [None] <br/>\n",
       "        모드: [None] <br/>\n",
       "        "
      ],
      "text/plain": [
       "<__main__.MookjjibbaPlayer at 0x7f238c9253a0>"
      ]
     },
     "execution_count": 1053,
     "metadata": {},
     "output_type": "execute_result"
    }
   ],
   "source": [
    "b"
   ]
  },
  {
   "cell_type": "markdown",
   "id": "3bec50bd-a53d-4ff1-a026-e2bed19994dd",
   "metadata": {},
   "source": [
    "**2. a,b 두명의 플레이어를 입력으로 하여 게임1을 생성후 1회 게임진행**"
   ]
  },
  {
   "cell_type": "code",
   "execution_count": 1054,
   "id": "c165e1b3-07f2-4f0c-accf-804c81c4db4f",
   "metadata": {},
   "outputs": [],
   "source": [
    "game = PlayMookjjibba(a,b)"
   ]
  },
  {
   "cell_type": "code",
   "execution_count": 1055,
   "id": "fcd16e69-2b5c-4840-ac3a-bc37b654eabc",
   "metadata": {},
   "outputs": [],
   "source": [
    "game.play()"
   ]
  },
  {
   "cell_type": "code",
   "execution_count": 1056,
   "id": "eb78d9a9-2512-4a5c-a98f-d64623dd79aa",
   "metadata": {},
   "outputs": [
    {
     "data": {
      "text/html": [
       "\n",
       "        낼 수 있는 패: ['묵', '찌'] <br/>\n",
       "        기록: [None, '찌', '묵', '묵', '찌'] <br/>\n",
       "        모드: [None, 'Attack', 'Defence', 'Defence', 'Defence'] <br/>\n",
       "        "
      ],
      "text/plain": [
       "<__main__.MookjjibbaPlayer at 0x7f238c9252b0>"
      ]
     },
     "execution_count": 1056,
     "metadata": {},
     "output_type": "execute_result"
    }
   ],
   "source": [
    "a"
   ]
  },
  {
   "cell_type": "code",
   "execution_count": 1057,
   "id": "88d30c13-4ca9-4e27-a1e8-c0b896325b51",
   "metadata": {},
   "outputs": [
    {
     "data": {
      "text/html": [
       "\n",
       "        낼 수 있는 패: ['찌', '빠'] <br/>\n",
       "        기록: [None, '빠', '빠', '빠', '찌'] <br/>\n",
       "        모드: [None, 'Defence', 'Attack', 'Attack', 'Attack'] <br/>\n",
       "        "
      ],
      "text/plain": [
       "<__main__.MookjjibbaPlayer at 0x7f238c9253a0>"
      ]
     },
     "execution_count": 1057,
     "metadata": {},
     "output_type": "execute_result"
    }
   ],
   "source": [
    "b"
   ]
  },
  {
   "cell_type": "markdown",
   "id": "614474ce-c819-44d7-bd38-048e8520c595",
   "metadata": {},
   "source": [
    "- 해설: a가 찌, b가 빠를 내어 최초 공격권을 a가 획득하였지만 이후 공격권을 상실한 상실함. 이후 4번째 가위바위보에서 b가 a가 동시에 찌를 내며 b의 승리로 마무리됨 "
   ]
  },
  {
   "cell_type": "markdown",
   "id": "5d43614d-31ac-483c-a664-4c72cfa52835",
   "metadata": {},
   "source": [
    "**3. game.records 에 b의 승리가 기록되어 있음** "
   ]
  },
  {
   "cell_type": "code",
   "execution_count": 1058,
   "id": "59f65c62-60f7-4a6c-9a42-595e1f40693c",
   "metadata": {},
   "outputs": [
    {
     "data": {
      "text/plain": [
       "['b']"
      ]
     },
     "execution_count": 1058,
     "metadata": {},
     "output_type": "execute_result"
    }
   ],
   "source": [
    "game.records "
   ]
  },
  {
   "cell_type": "markdown",
   "id": "fd58a5e5-bee2-4039-a955-76c1f9f95180",
   "metadata": {},
   "source": [
    "**4. 1회 대결기록을 삭제하고 또 다른 게임을 진행: 이번에는 a의 승리**"
   ]
  },
  {
   "cell_type": "code",
   "execution_count": 1059,
   "id": "4b3c0ee6-0d0f-4c49-ac82-85c93735ebc3",
   "metadata": {},
   "outputs": [],
   "source": [
    "game.reset_player_history()"
   ]
  },
  {
   "cell_type": "code",
   "execution_count": 1060,
   "id": "71e6affa-45c7-47df-8211-4f5d1195f5e5",
   "metadata": {},
   "outputs": [
    {
     "data": {
      "text/html": [
       "\n",
       "        낼 수 있는 패: ['묵', '찌'] <br/>\n",
       "        기록: [None] <br/>\n",
       "        모드: [None] <br/>\n",
       "        "
      ],
      "text/plain": [
       "<__main__.MookjjibbaPlayer at 0x7f238c9252b0>"
      ]
     },
     "execution_count": 1060,
     "metadata": {},
     "output_type": "execute_result"
    }
   ],
   "source": [
    "a"
   ]
  },
  {
   "cell_type": "code",
   "execution_count": 1061,
   "id": "236163d0-5c6b-40f8-9386-74121cc481c3",
   "metadata": {},
   "outputs": [
    {
     "data": {
      "text/html": [
       "\n",
       "        낼 수 있는 패: ['찌', '빠'] <br/>\n",
       "        기록: [None] <br/>\n",
       "        모드: [None] <br/>\n",
       "        "
      ],
      "text/plain": [
       "<__main__.MookjjibbaPlayer at 0x7f238c9253a0>"
      ]
     },
     "execution_count": 1061,
     "metadata": {},
     "output_type": "execute_result"
    }
   ],
   "source": [
    "b"
   ]
  },
  {
   "cell_type": "code",
   "execution_count": 1062,
   "id": "e633a448-059f-457b-abdc-ad9f35cda5d8",
   "metadata": {},
   "outputs": [],
   "source": [
    "game.play()"
   ]
  },
  {
   "cell_type": "code",
   "execution_count": 1063,
   "id": "acefa0a1-a04e-473c-bb1d-2027d3b0b21e",
   "metadata": {},
   "outputs": [
    {
     "data": {
      "text/html": [
       "\n",
       "        낼 수 있는 패: ['묵', '찌'] <br/>\n",
       "        기록: [None, '찌', '찌', '찌'] <br/>\n",
       "        모드: [None, None, 'Attack', 'Attack'] <br/>\n",
       "        "
      ],
      "text/plain": [
       "<__main__.MookjjibbaPlayer at 0x7f238c9252b0>"
      ]
     },
     "execution_count": 1063,
     "metadata": {},
     "output_type": "execute_result"
    }
   ],
   "source": [
    "a"
   ]
  },
  {
   "cell_type": "code",
   "execution_count": 1064,
   "id": "6d2bcf19-c186-4bce-8fc9-b51bb37a3e69",
   "metadata": {},
   "outputs": [
    {
     "data": {
      "text/html": [
       "\n",
       "        낼 수 있는 패: ['찌', '빠'] <br/>\n",
       "        기록: [None, '찌', '빠', '찌'] <br/>\n",
       "        모드: [None, None, 'Defence', 'Defence'] <br/>\n",
       "        "
      ],
      "text/plain": [
       "<__main__.MookjjibbaPlayer at 0x7f238c9253a0>"
      ]
     },
     "execution_count": 1064,
     "metadata": {},
     "output_type": "execute_result"
    }
   ],
   "source": [
    "b"
   ]
  },
  {
   "cell_type": "markdown",
   "id": "7e2f9cba-60a7-498a-a75f-83b869fdfb0f",
   "metadata": {},
   "source": [
    "**5. 이번에는 b의 승리가 기록됨**"
   ]
  },
  {
   "cell_type": "code",
   "execution_count": 1065,
   "id": "9eb0a934-b11d-4387-a6b0-4d5a0c2b6c43",
   "metadata": {},
   "outputs": [
    {
     "data": {
      "text/plain": [
       "['b', 'a']"
      ]
     },
     "execution_count": 1065,
     "metadata": {},
     "output_type": "execute_result"
    }
   ],
   "source": [
    "game.records"
   ]
  },
  {
   "cell_type": "markdown",
   "id": "c103db04-94a7-4486-9444-5e54bed36e2b",
   "metadata": {},
   "source": [
    "# `2`. 기타문제 (50점)"
   ]
  },
  {
   "cell_type": "markdown",
   "id": "2ec58b17-cc41-4543-9a1a-36c175207b57",
   "metadata": {},
   "source": [
    "`(1)` LinearRegression 이라는 이름의 클래스를 만들고 아래의 기능을 넣어라. \n",
    "\n",
    "**`__init__`**: \"클래스 $\\to$ 인스턴스\" 인 시점에 길이가 $n$인 numpy array ${\\bf x}=(x_1,\\dots,x_n)$, ${\\bf y}=(y_1,\\dots,y_n)$을 입력으로 받아 내부에 저장한다. \n",
    "\n",
    "**`fit`**: fit은 내부에 저장된 ${\\bf x}$, ${\\bf y}$를 이용하여 $\\hat{\\bf y}=(\\hat{y}_1,\\dots,\\hat{y}_n)$을 계산하는 역할을 한다. 계산은 아래의 수식을 이용한다. \n",
    "$$\\hat{\\bf y}= {\\bf X}({\\bf X}^T {\\bf X})^{-1}{\\bf X}^T {\\bf y}, \\quad {\\bf X}=\\begin{bmatrix} 1 & x_1 \\\\ 1 & x_2 \\\\ \\dots \\\\ 1 & x_n \\end{bmatrix}$$ \n",
    "\n",
    "**`plot`**: plot은 $(x_i,y_i)$와 $(x_i,\\hat{y}_i)$를 시각화하는 역할을 한다. "
   ]
  },
  {
   "cell_type": "markdown",
   "id": "73b23880-2560-410f-9046-7650dfb3bfc4",
   "metadata": {},
   "source": [
    "아래의 자료를 LinearRegression의 입력으로 받고 시각화하는 분석을 수행하라. "
   ]
  },
  {
   "cell_type": "code",
   "execution_count": 1098,
   "id": "7a2d5179-0aa6-4b23-ac89-0e131b74f2da",
   "metadata": {},
   "outputs": [
    {
     "data": {
      "text/plain": [
       "[<matplotlib.lines.Line2D at 0x7f236dd349d0>]"
      ]
     },
     "execution_count": 1098,
     "metadata": {},
     "output_type": "execute_result"
    },
    {
     "data": {
      "image/png": "[encoded data removed]",
      "text/plain": [
       "<Figure size 432x288 with 1 Axes>"
      ]
     },
     "metadata": {
      "needs_background": "light"
     },
     "output_type": "display_data"
    }
   ],
   "source": [
    "x = np.linspace(0,1,100)\n",
    "y = 2*x + np.random.normal(size=100)\n",
    "plt.plot(x,y,'o')"
   ]
  },
  {
   "cell_type": "markdown",
   "id": "f904f77b-6504-45e9-95ce-a6d212993ce5",
   "metadata": {},
   "source": [
    "`(2)` 앞면과 뒷면이 나올 확률이 각각 1/2인 동전을 생각하자. 하니와 규빈은 이 동전을 연속으로 던져서 아래와 같은 룰을 정하여 내기를 하였다. \n",
    "\n",
    "- 동전을 연속으로 반복하여 던진다. 최근 2회의 결과가 (뒷면,앞면) 이 나오면 하니의 승리\n",
    "- 동전을 연속으로 반복하여 던진다. 최근 2회의 결과가 (뒷면,뒷면) 이 나오면 규빈의 승리 "
   ]
  },
  {
   "cell_type": "markdown",
   "id": "6c0168d5-a18c-4cd0-bc08-c901483ed355",
   "metadata": {},
   "source": [
    "이 내기는 하니가 유리한가? 규빈이 유리한가? 시뮬레이션을 통해 검증하라. "
   ]
  },
  {
   "cell_type": "markdown",
   "id": "b3a0a90a-ea48-4b77-ac84-c01a8ca79452",
   "metadata": {},
   "source": [
    "::: {.callout-note}\n",
    "\n",
    "**hint**: 똑같이 유리하다\n",
    "\n",
    ":::"
   ]
  },
  {
   "cell_type": "markdown",
   "id": "85e20782-708d-41ec-8dc5-1402660a60a2",
   "metadata": {},
   "source": [
    "`(3)` 앞면과 뒷면이 나올 확률이 각각 1/2인 동전을 생각하자. 하니와 규빈은 이 동전을 연속으로 던져서 아래와 같은 룰을 정하여 내기를 하였다. \n",
    "\n",
    "- 동전을 연속으로 반복하여 던진다. 최근 2회의 결과가 (앞면,뒷면) 이 나오면 하니의 승리\n",
    "- 동전을 연속으로 반복하여 던진다. 최근 2회의 결과가 (뒷면,뒷면) 이 나오면 규빈의 승리 "
   ]
  },
  {
   "cell_type": "markdown",
   "id": "354f3853-89b3-4f77-ab22-2856a1f60672",
   "metadata": {},
   "source": [
    "이 내기는 하니가 유리한가? 규빈이 유리한가? 시뮬레이션을 통해 검증하라. "
   ]
  },
  {
   "cell_type": "markdown",
   "id": "1905af1f-d802-445e-9ac3-d288210f7410",
   "metadata": {},
   "source": [
    "::: {.callout-note}\n",
    "\n",
    "**hint**: 이 내기는 하니가 유리합니다. 저는 1000회 시뮬레이션 결과  \n",
    "```\n",
    "{'하니': 761, '규빈': 239} ## 하니가 761번 승리\n",
    "```\n",
    "와 같이 결과가 나왔습니다. \n",
    "\n",
    ":::"
   ]
  },
  {
   "cell_type": "markdown",
   "id": "a3404f1c-7e96-4f86-83c1-2f80a350623c",
   "metadata": {},
   "source": [
    "`(4)` Time을 상속받아 Init 클래스를 만들고 `__repr__`을 조작하여 아래와 같이 인스턴스 생성시점을 출력하는 기능을 구현하라. "
   ]
  },
  {
   "cell_type": "code",
   "execution_count": 599,
   "id": "e6458667-552b-4d93-9796-48ea663acd04",
   "metadata": {},
   "outputs": [],
   "source": [
    "class Time:\n",
    "    def time(self):\n",
    "        return datetime.datetime.now().strftime('%y-%m-%d %X')"
   ]
  },
  {
   "cell_type": "code",
   "execution_count": 641,
   "id": "8c8aeebd-bd05-453f-b790-0723cd510dfe",
   "metadata": {},
   "outputs": [],
   "source": [
    "a = Init()"
   ]
  },
  {
   "cell_type": "code",
   "execution_count": 642,
   "id": "1558b756-7525-42d7-9628-1c0ea54081a1",
   "metadata": {},
   "outputs": [
    {
     "data": {
      "text/plain": [
       "인스턴스생성시점: 23-06-16 10:27:19"
      ]
     },
     "execution_count": 642,
     "metadata": {},
     "output_type": "execute_result"
    }
   ],
   "source": [
    "a"
   ]
  },
  {
   "cell_type": "code",
   "execution_count": 643,
   "id": "f0fde367-e3ca-4f11-9675-ad80d5181eca",
   "metadata": {},
   "outputs": [],
   "source": [
    "b = Init()"
   ]
  },
  {
   "cell_type": "code",
   "execution_count": 644,
   "id": "23a0155c-79a4-4110-a304-15781a8f5e25",
   "metadata": {},
   "outputs": [
    {
     "data": {
      "text/plain": [
       "(인스턴스생성시점: 23-06-16 10:27:19, 인스턴스생성시점: 23-06-16 10:27:28)"
      ]
     },
     "execution_count": 644,
     "metadata": {},
     "output_type": "execute_result"
    }
   ],
   "source": [
    "a,b"
   ]
  },
  {
   "cell_type": "markdown",
   "id": "a1c09649-ba70-4adf-a003-56965858cb4a",
   "metadata": {},
   "source": [
    "`(5)` tuple 클래스와 아래의 Check를 상속받아 아래와 같은 역할을 하는 새로운 Tuple 클래스를 만들라. "
   ]
  },
  {
   "cell_type": "code",
   "execution_count": null,
   "id": "3ef928ee-f773-4da2-9c18-5ec28e5c5a8e",
   "metadata": {},
   "outputs": [],
   "source": [
    "class Check:\n",
    "    def ckeck(self):\n",
    "        return [l for l in dir(self) if l[0]!='_']"
   ]
  },
  {
   "cell_type": "code",
   "execution_count": 677,
   "id": "9f3e561a-1481-46e8-85a1-314127b1ac82",
   "metadata": {},
   "outputs": [
    {
     "data": {
      "text/plain": [
       "('a', 's', 'd', 'f', 'a', 's', 's', 'd', 'f', 's', 'a', 's', 'd', 'f')\n",
       "\n",
       "methods=['ckeck', 'count', 'freq', 'index']"
      ]
     },
     "execution_count": 677,
     "metadata": {},
     "output_type": "execute_result"
    }
   ],
   "source": [
    "tpl = Tuple('asdfassdfsasdf')\n",
    "tpl # 값과 함께 사용가능한 메소드가 함께 출력 "
   ]
  },
  {
   "cell_type": "code",
   "execution_count": 676,
   "id": "24a6b7a4-5ef5-41c2-97b0-8738b66a3863",
   "metadata": {},
   "outputs": [
    {
     "data": {
      "text/plain": [
       "{'d': 3, 'a': 3, 's': 5, 'f': 3}"
      ]
     },
     "execution_count": 676,
     "metadata": {},
     "output_type": "execute_result"
    }
   ],
   "source": [
    "tpl.freq()"
   ]
  },
  {
   "cell_type": "markdown",
   "id": "83ce3a29-ea8b-4a19-a11b-3cfb95f1e610",
   "metadata": {},
   "source": [
    "`(6)` 아래와 같은 클래스를 고려하자. "
   ]
  },
  {
   "cell_type": "code",
   "execution_count": 1103,
   "id": "e022392e-f704-4a9f-8f9d-8dcc9e6bd580",
   "metadata": {},
   "outputs": [],
   "source": [
    "class Init(object):\n",
    "    def __init__(self,value):\n",
    "        self.value = value\n",
    "        \n",
    "class Times2(Init):\n",
    "    def __init__(self,value):\n",
    "        super().__init__(value)\n",
    "        self.value = self.value * 2\n",
    "        \n",
    "class Plus5(Init):\n",
    "    def __init__(self,value):\n",
    "        super().__init__(value)\n",
    "        self.value = self.value + 5"
   ]
  },
  {
   "cell_type": "markdown",
   "id": "8b0cc9af-1eec-4732-a63c-4e61028729e7",
   "metadata": {},
   "source": [
    "`Plus5`와 `Times2`를 상속하여 적당한 클래스 `Times2Plus5`를 정의하고 생성과 동시에 $x \\to (x\\times 2)+5$ 를 수행도록 하라. "
   ]
  },
  {
   "cell_type": "code",
   "execution_count": 1104,
   "id": "f6933de2-30cb-486a-a2e3-044710086940",
   "metadata": {},
   "outputs": [],
   "source": [
    "class Times2Plus5(Plus5,Times2):\n",
    "    def __init__(self,value):\n",
    "        super().__init__(value)"
   ]
  },
  {
   "cell_type": "markdown",
   "id": "e1345256-6313-4544-be1a-eabe2eb7731e",
   "metadata": {},
   "source": [
    "**사용예시**"
   ]
  },
  {
   "cell_type": "code",
   "execution_count": 1105,
   "id": "6bb921e9-a0d2-4161-bc72-6ecfacc65280",
   "metadata": {},
   "outputs": [
    {
     "data": {
      "text/plain": [
       "5"
      ]
     },
     "execution_count": 1105,
     "metadata": {},
     "output_type": "execute_result"
    }
   ],
   "source": [
    "a=Times2Plus5(0)\n",
    "a.value"
   ]
  },
  {
   "cell_type": "code",
   "execution_count": 1106,
   "id": "b2703d5c-fe5b-4fdf-9cd3-c6af67a787ad",
   "metadata": {},
   "outputs": [
    {
     "data": {
      "text/plain": [
       "7"
      ]
     },
     "execution_count": 1106,
     "metadata": {},
     "output_type": "execute_result"
    }
   ],
   "source": [
    "a=Times2Plus5(1)\n",
    "a.value"
   ]
  },
  {
   "cell_type": "code",
   "execution_count": 1107,
   "id": "0063d1dc-8528-4abc-9274-9d3e324d8fd2",
   "metadata": {},
   "outputs": [
    {
     "data": {
      "text/plain": [
       "15"
      ]
     },
     "execution_count": 1107,
     "metadata": {},
     "output_type": "execute_result"
    }
   ],
   "source": [
    "a=Times2Plus5(5)\n",
    "a.value"
   ]
  },
  {
   "cell_type": "markdown",
   "id": "c1ff6bce-01fc-4ee8-9c34-0b9a8a110bd8",
   "metadata": {},
   "source": [
    "`(7)` 아래의 함수가 있다고 하자. "
   ]
  },
  {
   "cell_type": "code",
   "execution_count": 1108,
   "id": "bca7763b-a96c-4802-865e-132409ecee1a",
   "metadata": {},
   "outputs": [],
   "source": [
    "def f(x): \n",
    "    return np.sin(x)"
   ]
  },
  {
   "cell_type": "markdown",
   "id": "58e4e0e9-0548-444d-93dc-7176859cb087",
   "metadata": {},
   "source": [
    "적당한 함수 `derivate`를 정의하여 함수를 입력으로 받으면 그 도함수를 출력으로 리턴하도록 하라. 아래의 코드를 이용하여 검증하라. "
   ]
  },
  {
   "cell_type": "code",
   "execution_count": null,
   "id": "19890b44-6880-408d-b5f3-931cb2894119",
   "metadata": {},
   "outputs": [
    {
     "data": {
      "text/plain": [
       "<matplotlib.legend.Legend at 0x7f236da92ee0>"
      ]
     },
     "execution_count": 1112,
     "metadata": {},
     "output_type": "execute_result"
    },
    {
     "data": {
      "image/png": "[encoded data removed]",
      "text/plain": [
       "<Figure size 432x288 with 1 Axes>"
      ]
     },
     "metadata": {
      "needs_background": "light"
     },
     "output_type": "display_data"
    }
   ],
   "source": [
    "x = np.linspace(-6,6,100)\n",
    "plt.plot(x,f(x),label=r'$f(x)=\\sin(x)$')\n",
    "plt.plot(x,(derivate(f))(x),label=r'$f\\'(x)=\\cos(x)$')\n",
    "plt.legend()"
   ]
  },
  {
   "cell_type": "markdown",
   "id": "5dfc4dd1-2d38-4f5b-8032-450070afdc81",
   "metadata": {},
   "source": [
    "`(8)`. Student 클래스를 생성지침 및 사용예시를 참고하여 설계하라. \n",
    "\n",
    "**`생성지침`**\n",
    "\n",
    "**attributes**\n",
    "\n",
    "- `name`: 이름을 저장하는 변수\n",
    "- `age`: 나이를 저장하는 변수\n",
    "- `semester`: 학기를 저장하는 변수\n",
    "\n",
    "**methods**\n",
    "\n",
    "- `__init__`: name, age, semester 세 가지 매개변수를 입력받아 인스턴스의 attribute로 저장\n",
    "- `__str__`: 인스턴스의 정보(이름,나이,학기)를 문자열 형태로 반환"
   ]
  },
  {
   "cell_type": "markdown",
   "id": "d3b46421-8976-431d-96d8-e46e2263adb2",
   "metadata": {},
   "source": [
    "**`사용예시`**"
   ]
  },
  {
   "cell_type": "code",
   "execution_count": 224,
   "id": "8fd902f8-5c0c-4544-9926-0761febef253",
   "metadata": {},
   "outputs": [
    {
     "name": "stdout",
     "output_type": "stream",
     "text": [
      "이름: 김보람\n",
      "나이: 20\n",
      "학기: 1\n"
     ]
    }
   ],
   "source": [
    "# 사용 예시\n",
    "boram = Student(name='김보람', age=20, semester=1)\n",
    "print(boram)"
   ]
  },
  {
   "cell_type": "markdown",
   "id": "67c28e9c-09de-4074-a5df-04cdb76c4cb4",
   "metadata": {},
   "source": [
    "`(9)` 8의 클래스를 상속받아 Student2 만들라. `__add__` 재정의하여 Student2의 인스턴스가 아래와 같이 동작하도록 하라. "
   ]
  },
  {
   "cell_type": "code",
   "execution_count": 1122,
   "id": "4ea204ec-c583-4933-a484-e7d4574aeaa4",
   "metadata": {},
   "outputs": [
    {
     "name": "stdout",
     "output_type": "stream",
     "text": [
      "입학을 축하합니다. 당신의 나이는 20.0이고 현재 학기는 0학기 입니다.\n"
     ]
    }
   ],
   "source": [
    "boram = Student2()"
   ]
  },
  {
   "cell_type": "code",
   "execution_count": 1123,
   "id": "31c8f3b2-aa29-4a6e-bce3-65a77325b96f",
   "metadata": {},
   "outputs": [
    {
     "data": {
      "text/html": [
       "\n",
       "        나이: 22.0 <br/>\n",
       "        학기: 2 <br/>\n",
       "        "
      ],
      "text/plain": [
       "<__main__.Student2 at 0x7f236daf0cd0>"
      ]
     },
     "execution_count": 1123,
     "metadata": {},
     "output_type": "execute_result"
    }
   ],
   "source": [
    "boram + '등록'+ '휴학' + '등록' + '휴학'\n",
    "boram"
   ]
  },
  {
   "cell_type": "markdown",
   "id": "44dc08d5-7f29-401f-968d-1e751d84b4ba",
   "metadata": {},
   "source": [
    "`(10)` 적당한 클래스를 선언하여 $f(x)=x+{\\tt const}$를 수행하는 함수를 생성하도록 하라."
   ]
  },
  {
   "cell_type": "markdown",
   "id": "9f702ad9-d91d-4e1b-9ac2-a7f7f8887c6a",
   "metadata": {},
   "source": [
    "**사용예시1**"
   ]
  },
  {
   "cell_type": "code",
   "execution_count": 1125,
   "id": "f061723c-ee5d-4a68-b96e-48ef92a0f56e",
   "metadata": {},
   "outputs": [],
   "source": [
    "f = AddConstant(5) # f(x) = x+5 "
   ]
  },
  {
   "cell_type": "code",
   "execution_count": 1126,
   "id": "e55a434e-ea14-4706-8e57-b855759a9f12",
   "metadata": {},
   "outputs": [
    {
     "data": {
      "text/plain": [
       "15"
      ]
     },
     "execution_count": 1126,
     "metadata": {},
     "output_type": "execute_result"
    }
   ],
   "source": [
    "f(10)"
   ]
  },
  {
   "cell_type": "markdown",
   "id": "e03efc9e-6ec1-4a7b-8396-dcf7d007ae34",
   "metadata": {},
   "source": [
    "**사용예시2**"
   ]
  },
  {
   "cell_type": "code",
   "execution_count": 1127,
   "id": "1b83c2f0-66e7-4773-b6e2-ac89107f70ce",
   "metadata": {},
   "outputs": [],
   "source": [
    "f = AddConstant(-3) # f(x) = x-3"
   ]
  },
  {
   "cell_type": "code",
   "execution_count": 1128,
   "id": "dcc4fe05-7526-4b22-9076-d0c2af06cdf0",
   "metadata": {},
   "outputs": [
    {
     "data": {
      "text/plain": [
       "7"
      ]
     },
     "execution_count": 1128,
     "metadata": {},
     "output_type": "execute_result"
    }
   ],
   "source": [
    "f(10)"
   ]
  },
  {
   "cell_type": "code",
   "execution_count": null,
   "id": "076257fe-15f7-422b-839a-87113d7c4d30",
   "metadata": {},
   "outputs": [],
   "source": []
  },
  {
   "cell_type": "code",
   "execution_count": 885,
   "id": "491eb982-cb99-409f-82b6-da45d46a7d0c",
   "metadata": {},
   "outputs": [],
   "source": [
    "class PlayMookjjibba:\n",
    "    def __init__(self,a,b):\n",
    "        self.a = a\n",
    "        self.b = b\n",
    "        self.records = list()\n",
    "    def reset_player_history(self):\n",
    "        self.a.reset()\n",
    "        self.b.reset()\n",
    "    def record(self):\n",
    "        if self.a.modes[-1] == 'Attack':\n",
    "            self.records.append('a')\n",
    "        else:\n",
    "            self.records.append('b')\n",
    "    def jumpball(self):\n",
    "        self.a * self.b \n",
    "        while self.a == self.b:\n",
    "            self.a * self.b \n",
    "    def play(self):\n",
    "        self.jumpball()\n",
    "        while self.a != self.b:\n",
    "            self.a * self.b \n",
    "        self.record()"
   ]
  },
  {
   "cell_type": "code",
   "execution_count": 886,
   "id": "adb8a1f4-acc4-48ff-8f14-0d16f430bcdb",
   "metadata": {},
   "outputs": [],
   "source": [
    "class MookjjibbaPlayer(RPS_BASE):\n",
    "    def __init__(self,candidate):\n",
    "        super().__init__(candidate)\n",
    "        self.modes = [None]\n",
    "        self.actions = [None]\n",
    "    def __mul__(self,other):\n",
    "        self.pick()\n",
    "        other.pick()\n",
    "        if self > other:\n",
    "            self.modes.append('Attack')\n",
    "            other.modes.append('Defence')\n",
    "        elif self < other:\n",
    "            self.modes.append('Defence')\n",
    "            other.modes.append('Attack')\n",
    "        else: \n",
    "            self.modes.append(self.modes[-1]) \n",
    "            other.modes.append(other.modes[-1])\n",
    "    def _repr_html_(self):\n",
    "        html_str = \"\"\"\n",
    "        낼 수 있는 패: {} <br/>\n",
    "        기록: {} <br/>\n",
    "        모드: {} <br/>\n",
    "        \"\"\"        \n",
    "        return html_str.format(self.candidate,self.actions,self.modes)\n",
    "    def reset(self):\n",
    "        self.__init__(self.candidate)"
   ]
  },
  {
   "cell_type": "code",
   "execution_count": 887,
   "id": "789ae793-c38d-41cf-b276-179c81d4e994",
   "metadata": {},
   "outputs": [],
   "source": [
    "a=MookjjibbaPlayer(['묵','찌','빠'])\n",
    "b=MookjjibbaPlayer(['묵','찌','빠'])"
   ]
  },
  {
   "cell_type": "code",
   "execution_count": 888,
   "id": "591fbf2e-f43a-42dc-b744-f7f47c48136c",
   "metadata": {},
   "outputs": [],
   "source": [
    "a*b"
   ]
  },
  {
   "cell_type": "code",
   "execution_count": 889,
   "id": "bf6f83ac-cc3b-44e9-957f-f2cd132d888a",
   "metadata": {},
   "outputs": [
    {
     "data": {
      "text/html": [
       "\n",
       "        낼 수 있는 패: ['묵', '찌', '빠'] <br/>\n",
       "        기록: [None, '묵'] <br/>\n",
       "        모드: [None, 'Defence'] <br/>\n",
       "        "
      ],
      "text/plain": [
       "<__main__.MookjjibbaPlayer at 0x7f238c07e130>"
      ]
     },
     "execution_count": 889,
     "metadata": {},
     "output_type": "execute_result"
    }
   ],
   "source": [
    "a"
   ]
  },
  {
   "cell_type": "code",
   "execution_count": 890,
   "id": "7b01d094-d364-459f-b706-94a639c5a24d",
   "metadata": {},
   "outputs": [
    {
     "data": {
      "text/html": [
       "\n",
       "        낼 수 있는 패: ['묵', '찌', '빠'] <br/>\n",
       "        기록: [None, '빠'] <br/>\n",
       "        모드: [None, 'Attack'] <br/>\n",
       "        "
      ],
      "text/plain": [
       "<__main__.MookjjibbaPlayer at 0x7f238c07e730>"
      ]
     },
     "execution_count": 890,
     "metadata": {},
     "output_type": "execute_result"
    }
   ],
   "source": [
    "b"
   ]
  },
  {
   "cell_type": "code",
   "execution_count": 628,
   "id": "5cfb4bf6-beed-4440-b921-53237801f0c3",
   "metadata": {},
   "outputs": [
    {
     "data": {
      "text/plain": [
       "(0, 1, 0)"
      ]
     },
     "execution_count": 628,
     "metadata": {},
     "output_type": "execute_result"
    }
   ],
   "source": [
    "good = [action for mode,action in zip(a.modes[1:],a.actions[1:]) if mode=='Attack']\n",
    "good.count(\"찌\"),good.count(\"묵\"),good.count(\"빠\")"
   ]
  },
  {
   "cell_type": "code",
   "execution_count": 629,
   "id": "737f8b41-9af2-47b7-8b1b-1b7faee3b530",
   "metadata": {},
   "outputs": [],
   "source": [
    "class PlayMookjjibba:\n",
    "    def __init__(self,a,b):\n",
    "        self.a = a\n",
    "        self.b = b\n",
    "        self.records = list()\n",
    "    def reset_player_history(self):\n",
    "        self.a.reset()\n",
    "        self.b.reset()\n",
    "    def record(self):\n",
    "        if self.a.modes[-1] == 'Attack':\n",
    "            self.records.append('a')\n",
    "        else:\n",
    "            self.records.append('b')\n",
    "    def jumpball(self):\n",
    "        self.a * self.b \n",
    "        while self.a == self.b:\n",
    "            self.a * self.b \n",
    "    def play(self):\n",
    "        self.jumpball()\n",
    "        while self.a != self.b:\n",
    "            self.a * self.b \n",
    "        self.record()"
   ]
  },
  {
   "cell_type": "code",
   "execution_count": 898,
   "id": "e11e7df2-5cca-43e5-80f4-bc1bb7a29bf6",
   "metadata": {},
   "outputs": [],
   "source": [
    "a=MookjjibbaPlayer(['묵','찌'])\n",
    "b=MookjjibbaPlayer(['찌','빠'])"
   ]
  },
  {
   "cell_type": "code",
   "execution_count": 899,
   "id": "48dfbc23-c283-4d78-8c7a-9ba6db150447",
   "metadata": {},
   "outputs": [],
   "source": [
    "game1 = PlayMookjjibba(a,b)"
   ]
  },
  {
   "cell_type": "code",
   "execution_count": 900,
   "id": "30d1bd08-5bfb-413e-9e3e-f63919a2cc48",
   "metadata": {},
   "outputs": [],
   "source": [
    "game1.play()"
   ]
  },
  {
   "cell_type": "code",
   "execution_count": 901,
   "id": "d1c19bac-3ea6-486b-8185-1a0f11bf784f",
   "metadata": {},
   "outputs": [
    {
     "data": {
      "text/html": [
       "\n",
       "        낼 수 있는 패: ['묵', '찌'] <br/>\n",
       "        기록: [None, '묵', '묵', '묵', '찌'] <br/>\n",
       "        모드: [None, 'Attack', 'Defence', 'Defence', 'Defence'] <br/>\n",
       "        "
      ],
      "text/plain": [
       "<__main__.MookjjibbaPlayer at 0x7f238c07ee20>"
      ]
     },
     "execution_count": 901,
     "metadata": {},
     "output_type": "execute_result"
    }
   ],
   "source": [
    "a"
   ]
  },
  {
   "cell_type": "code",
   "execution_count": 902,
   "id": "cad3d795-4be5-47f1-bccb-c40ca5cb024b",
   "metadata": {},
   "outputs": [
    {
     "data": {
      "text/html": [
       "\n",
       "        낼 수 있는 패: ['찌', '빠'] <br/>\n",
       "        기록: [None, '찌', '빠', '빠', '찌'] <br/>\n",
       "        모드: [None, 'Defence', 'Attack', 'Attack', 'Attack'] <br/>\n",
       "        "
      ],
      "text/plain": [
       "<__main__.MookjjibbaPlayer at 0x7f238c7f81c0>"
      ]
     },
     "execution_count": 902,
     "metadata": {},
     "output_type": "execute_result"
    }
   ],
   "source": [
    "b"
   ]
  },
  {
   "cell_type": "code",
   "execution_count": 903,
   "id": "784ec271-8ce6-41d6-a99c-78f5a588eb5c",
   "metadata": {},
   "outputs": [],
   "source": [
    "for _ in range(1000):\n",
    "    game1.play()"
   ]
  },
  {
   "cell_type": "code",
   "execution_count": 904,
   "id": "3ebf68a4-e750-4ed9-ab35-1d64a3b3a461",
   "metadata": {},
   "outputs": [
    {
     "data": {
      "text/plain": [
       "{'a': 680, 'b': 321}"
      ]
     },
     "execution_count": 904,
     "metadata": {},
     "output_type": "execute_result"
    }
   ],
   "source": [
    "{'a':game1.records.count('a'),'b':game1.records.count('b')}"
   ]
  },
  {
   "cell_type": "code",
   "execution_count": null,
   "id": "327ea97c-d548-4d33-bde7-394b5921df3d",
   "metadata": {},
   "outputs": [],
   "source": []
  },
  {
   "cell_type": "code",
   "execution_count": null,
   "id": "839cc8d8-d1c1-4a22-82d4-07fdb1e3565b",
   "metadata": {},
   "outputs": [],
   "source": []
  },
  {
   "cell_type": "code",
   "execution_count": 644,
   "id": "138c75ee-0308-4679-85a9-af37d51e4755",
   "metadata": {},
   "outputs": [],
   "source": [
    "a=MookjjibbaPlayer(['묵','찌','빠'])\n",
    "b=MookjjibbaPlayer(['찌','빠'])"
   ]
  },
  {
   "cell_type": "code",
   "execution_count": 645,
   "id": "1a4ecedb-1e13-4087-b7e8-291906fec065",
   "metadata": {},
   "outputs": [],
   "source": [
    "game2 = PlayMookjjibba(a,b)"
   ]
  },
  {
   "cell_type": "code",
   "execution_count": 646,
   "id": "50000e9d-aa1b-4920-b351-1ff730e98a9b",
   "metadata": {},
   "outputs": [],
   "source": [
    "game2.play()"
   ]
  },
  {
   "cell_type": "code",
   "execution_count": 647,
   "id": "5779dcb1-f142-4cdf-842f-b36663113385",
   "metadata": {},
   "outputs": [
    {
     "data": {
      "text/html": [
       "\n",
       "        낼 수 있는 패: ['묵', '찌', '빠'] <br/>\n",
       "        기록: [None, '묵', '찌', '묵', '빠'] <br/>\n",
       "        모드: [None, 'Attack', 'Attack', 'Defence', 'Defence'] <br/>\n",
       "        "
      ],
      "text/plain": [
       "<__main__.MookjjibbaPlayer at 0x7f238c0736d0>"
      ]
     },
     "execution_count": 647,
     "metadata": {},
     "output_type": "execute_result"
    }
   ],
   "source": [
    "a"
   ]
  },
  {
   "cell_type": "code",
   "execution_count": 648,
   "id": "b815df09-cdf0-462b-86bb-059dbf98494b",
   "metadata": {},
   "outputs": [
    {
     "data": {
      "text/html": [
       "\n",
       "        낼 수 있는 패: ['찌', '빠'] <br/>\n",
       "        기록: [None, '찌', '빠', '빠', '빠'] <br/>\n",
       "        모드: [None, 'Defence', 'Defence', 'Attack', 'Attack'] <br/>\n",
       "        "
      ],
      "text/plain": [
       "<__main__.MookjjibbaPlayer at 0x7f238c073bb0>"
      ]
     },
     "execution_count": 648,
     "metadata": {},
     "output_type": "execute_result"
    }
   ],
   "source": [
    "b"
   ]
  },
  {
   "cell_type": "code",
   "execution_count": 651,
   "id": "a373de54-340b-4550-bb44-8ec586bb5b3d",
   "metadata": {},
   "outputs": [],
   "source": [
    "for _ in range(1000):\n",
    "    game2.play()"
   ]
  },
  {
   "cell_type": "code",
   "execution_count": 652,
   "id": "2810cd62-fc51-4215-b4ed-89ef0fa0e291",
   "metadata": {},
   "outputs": [
    {
     "data": {
      "text/plain": [
       "{'a': 50519, 'b': 50482}"
      ]
     },
     "execution_count": 652,
     "metadata": {},
     "output_type": "execute_result"
    }
   ],
   "source": [
    "{'a':game2.records.count('a'),'b':game2.records.count('b')}"
   ]
  },
  {
   "cell_type": "code",
   "execution_count": null,
   "id": "aa90a05f-d08e-4aa5-9163-fd4690031f38",
   "metadata": {},
   "outputs": [],
   "source": []
  },
  {
   "cell_type": "code",
   "execution_count": null,
   "id": "78828a11-0a57-4d45-be8a-cd3375b6e119",
   "metadata": {},
   "outputs": [],
   "source": []
  },
  {
   "cell_type": "code",
   "execution_count": null,
   "id": "4e226fbc-0444-47e7-8b75-86378271d52d",
   "metadata": {},
   "outputs": [],
   "source": []
  },
  {
   "cell_type": "code",
   "execution_count": null,
   "id": "b949ce1c-25ce-4567-b934-63e3160659f9",
   "metadata": {},
   "outputs": [],
   "source": []
  },
  {
   "cell_type": "code",
   "execution_count": null,
   "id": "c5ceab23-f6ec-4606-acb7-0452cf84908f",
   "metadata": {},
   "outputs": [],
   "source": []
  },
  {
   "cell_type": "code",
   "execution_count": 331,
   "id": "2de15941-3bf4-4856-8495-cab8117c8dc9",
   "metadata": {},
   "outputs": [],
   "source": [
    "class TossCoin:\n",
    "    def __init__(self):\n",
    "        self.history = []\n",
    "        self.coin_history = [[]]\n",
    "    def toss(self):\n",
    "        self.coin_history[-1].append(np.random.rand() < 0.5)\n",
    "    def __iter__(self):\n",
    "        return self \n",
    "    def __next__(self):\n",
    "        self.toss() \n",
    "        if self.coin_history[-1][-2:] == [True,True]:\n",
    "            self.history.append('a')\n",
    "            self.coin_history.append([])\n",
    "            raise StopIteration\n",
    "        if self.coin_history[-1][-2:] == [False,True]:\n",
    "            self.history.append('b')\n",
    "            self.coin_history.append([])\n",
    "            raise StopIteration"
   ]
  },
  {
   "cell_type": "code",
   "execution_count": null,
   "id": "dd6b4eda-6297-47de-a962-c06b22a2a34a",
   "metadata": {},
   "outputs": [],
   "source": []
  },
  {
   "cell_type": "code",
   "execution_count": null,
   "id": "075b1807-21e1-463c-af46-9d43c2437792",
   "metadata": {},
   "outputs": [],
   "source": []
  },
  {
   "cell_type": "code",
   "execution_count": null,
   "id": "f53aef9b-69be-40ce-a814-cd1d3b58d891",
   "metadata": {},
   "outputs": [],
   "source": []
  },
  {
   "cell_type": "code",
   "execution_count": null,
   "id": "a3a31b02-a5b9-4d5e-8ba3-13c5b6e8fc80",
   "metadata": {},
   "outputs": [],
   "source": [
    "T, T,F\n",
    "F, T/F -> \n",
    "F, T -> "
   ]
  },
  {
   "cell_type": "code",
   "execution_count": 326,
   "id": "8e40feed-ab01-4f5e-9e8a-fb8d2702c0aa",
   "metadata": {},
   "outputs": [],
   "source": [
    "a=[True,False]"
   ]
  },
  {
   "cell_type": "code",
   "execution_count": 327,
   "id": "dc9c260a-7c1d-422d-93d6-f79884cee441",
   "metadata": {},
   "outputs": [
    {
     "data": {
      "text/plain": [
       "False"
      ]
     },
     "execution_count": 327,
     "metadata": {},
     "output_type": "execute_result"
    }
   ],
   "source": [
    "a[-2:] == [True,True]"
   ]
  },
  {
   "cell_type": "code",
   "execution_count": 328,
   "id": "3c40c480-93de-4a00-82ed-673d2c1c73be",
   "metadata": {},
   "outputs": [],
   "source": [
    "coin = TossCoin()"
   ]
  },
  {
   "cell_type": "code",
   "execution_count": 329,
   "id": "d1ccdc61-a3eb-442e-ade8-666dfe4e367b",
   "metadata": {},
   "outputs": [],
   "source": [
    "for i in range(10000):\n",
    "    for _ in coin:\n",
    "        pass"
   ]
  },
  {
   "cell_type": "code",
   "execution_count": 330,
   "id": "e182a92e-7a1b-4d0a-a3ce-75053de46ec7",
   "metadata": {},
   "outputs": [
    {
     "data": {
      "text/plain": [
       "(2422, 7578)"
      ]
     },
     "execution_count": 330,
     "metadata": {},
     "output_type": "execute_result"
    }
   ],
   "source": [
    "coin.history.count('a'),coin.history.count('b')"
   ]
  },
  {
   "cell_type": "code",
   "execution_count": 323,
   "id": "84139f5c-4bfd-436c-9d73-66fe89e6ab3f",
   "metadata": {},
   "outputs": [
    {
     "data": {
      "text/plain": [
       "['b', 'b', 'b', 'b', 'b', 'b', 'b']"
      ]
     },
     "execution_count": 323,
     "metadata": {},
     "output_type": "execute_result"
    }
   ],
   "source": [
    "coin.history[:7]"
   ]
  },
  {
   "cell_type": "code",
   "execution_count": null,
   "id": "bca73a09-08ad-4aa3-bbc7-a7755949df06",
   "metadata": {},
   "outputs": [],
   "source": []
  }
 ],
 "metadata": {
  "kernelspec": {
   "display_name": "Python 3",
   "language": "python",
   "name": "python3"
  },
  "language_info": {
   "codemirror_mode": {
    "name": "ipython",
    "version": 3
   },
   "file_extension": ".py",
   "mimetype": "text/x-python",
   "name": "python",
   "nbconvert_exporter": "python",
   "pygments_lexer": "ipython3",
   "version": "3.8.16"
  }
 },
 "nbformat": 4,
 "nbformat_minor": 5
}
