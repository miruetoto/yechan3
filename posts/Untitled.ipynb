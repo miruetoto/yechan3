{
 "cells": [
  {
   "cell_type": "markdown",
   "id": "55448122-ab0f-4cc1-8f6e-f4c37d9d0ad5",
   "metadata": {},
   "source": [
    "**정의** 유계(bounded) \n",
    "\n",
    "공집합이 아닌 실수의 부분집합 $S$에 대하여 위로 유계(bounded above) 이면서 동시에 아래로 유계(bounded below)일 때 $S$를 유계라 한다. "
   ]
  },
  {
   "cell_type": "code",
   "execution_count": null,
   "id": "7ff8e363-d1ba-427d-b6ef-fa2188a7539b",
   "metadata": {},
   "outputs": [],
   "source": []
  }
 ],
 "metadata": {
  "kernelspec": {
   "display_name": "Julia 1.7.2",
   "language": "julia",
   "name": "julia-1.7"
  },
  "language_info": {
   "file_extension": ".jl",
   "mimetype": "application/julia",
   "name": "julia",
   "version": "1.7.2"
  }
 },
 "nbformat": 4,
 "nbformat_minor": 5
}
