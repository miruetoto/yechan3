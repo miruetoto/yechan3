{
 "cells": [
  {
   "cell_type": "code",
   "execution_count": 4,
   "id": "16b66e66-d722-4265-a9df-8364108301e8",
   "metadata": {},
   "outputs": [
    {
     "name": "stdout",
     "output_type": "stream",
     "text": [
      "ls: cannot access '/.fastai/data/oxford-iiit-pet/images/': No such file or directory\n"
     ]
    }
   ],
   "source": [
    "!ls /.fastai/data/oxford-iiit-pet/images/"
   ]
  },
  {
   "cell_type": "code",
   "execution_count": 17,
   "id": "db095baa-a526-454a-8b43-c62f688d6ddd",
   "metadata": {},
   "outputs": [
    {
     "name": "stdout",
     "output_type": "stream",
     "text": [
      "cat: tst.txt: No such file or directory\n",
      "ls: write error: Broken pipe\n"
     ]
    }
   ],
   "source": [
    "!ls ~/.fastai/data/oxford-iiit-pet/images | cat tst.txt"
   ]
  },
  {
   "cell_type": "code",
   "execution_count": null,
   "id": "18ff2322-d9d7-414a-8e9e-2105aaaef053",
   "metadata": {},
   "outputs": [],
   "source": []
  }
 ],
 "metadata": {
  "kernelspec": {
   "display_name": "Python 3",
   "language": "python",
   "name": "python3"
  },
  "language_info": {
   "codemirror_mode": {
    "name": "ipython",
    "version": 3
   },
   "file_extension": ".py",
   "mimetype": "text/x-python",
   "name": "python",
   "nbconvert_exporter": "python",
   "pygments_lexer": "ipython3",
   "version": "3.8.16"
  }
 },
 "nbformat": 4,
 "nbformat_minor": 5
}
