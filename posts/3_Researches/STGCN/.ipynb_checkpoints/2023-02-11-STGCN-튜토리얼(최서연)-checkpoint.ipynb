{
 "cells": [
  {
   "cell_type": "raw",
   "id": "08fccc82-37e1-4b41-9324-ce2abb326d1c",
   "metadata": {},
   "source": [
    "---\n",
    "title: \"튜토리얼: 공식홈페이지 데이터셋 정리\"\n",
    "author: \"신록예찬, 최서연\"\n",
    "date: \"12/30/2022\"\n",
    "---"
   ]
  },
  {
   "cell_type": "markdown",
   "id": "93366a3e-cf63-43c6-9993-ba406cce36b6",
   "metadata": {},
   "source": [
    "# About this doc "
   ]
  },
  {
   "cell_type": "markdown",
   "id": "9d509179-d90a-4be6-8690-c3f9e0a75512",
   "metadata": {},
   "source": [
    "`-` 이 문서는 공식홈페이지의 예제와 최서연학생의 블로그 내용을 재구성하여 만듬 "
   ]
  },
  {
   "cell_type": "markdown",
   "id": "1ec89025-bbe1-47f3-9ffd-c335adb072d9",
   "metadata": {},
   "source": [
    "`-` 이 문서의 목표는 아래와 같다. \n",
    "\n",
    "- STGCN을 사용할 수 있는 데이터의 형태를 탐구한다.\n",
    "- STGCN을 실습할 코드를 확보한다. "
   ]
  },
  {
   "cell_type": "markdown",
   "id": "2d71a209-701d-4a66-9d31-98f8b526c20a",
   "metadata": {
    "tags": []
   },
   "source": [
    "# ref "
   ]
  },
  {
   "cell_type": "markdown",
   "id": "2932a235-347c-4c69-859c-1e793a872368",
   "metadata": {},
   "source": [
    "- [PyG 공식홈페이지](https://pytorch-geometric.readthedocs.io/en/latest/index.html#) // `torch_geometric`\n",
    "- [PyTorch Geometric Temporal 공식홈페이지](https://pytorch-geometric-temporal.readthedocs.io/en/latest/index.html) // `torch_geometric_temporal`\n",
    "- [최서연 블로그](https://github.com/seoyeonc/blog/blob/main/posts/GCN/2022-12-21-st-gcn%20Dataset.ipynb)"
   ]
  },
  {
   "cell_type": "markdown",
   "id": "0806e5e7-2610-4881-9016-f267b33ed928",
   "metadata": {},
   "source": [
    "참고: `torch` 를 기반으로 `PyG`^[일반적인 기하학적 딥러닝을 위한 파이토치 패키지]이 만들어 졌고 `PyG`를 기반으로 `PyTorch Geometric Temporal`^[STGCN을 위한 패키지]가 만들어짐. "
   ]
  },
  {
   "cell_type": "markdown",
   "id": "ef4e0446-902f-4017-b34b-5e56d5f50cbd",
   "metadata": {},
   "source": [
    "# imports "
   ]
  },
  {
   "cell_type": "markdown",
   "id": "5b891655-b2a5-41a3-8183-8e712d64780d",
   "metadata": {},
   "source": [
    "`-` 필요한 패키지 임포트"
   ]
  },
  {
   "cell_type": "code",
   "execution_count": 122,
   "id": "0821adb3-bb59-4ede-9762-a9f80d811de2",
   "metadata": {},
   "outputs": [],
   "source": [
    "# 일반적인 모듈 \n",
    "import numpy as np\n",
    "import matplotlib.pyplot as plt \n",
    "import networkx as nx \n",
    "from tqdm import tqdm \n",
    "\n",
    "# 파이토치 관련 \n",
    "import torch\n",
    "import torch.nn.functional as F\n",
    "\n",
    "# PyG 관련 \n",
    "from torch_geometric.data import Data\n",
    "\n",
    "# STGCN 관련 \n",
    "import torch_geometric_temporal\n",
    "from torch_geometric_temporal.nn.recurrent import GConvGRU\n",
    "from torch_geometric_temporal.signal import temporal_signal_split "
   ]
  },
  {
   "cell_type": "markdown",
   "id": "bdf6df40-23c4-4bc9-9d05-90a8d3c767eb",
   "metadata": {},
   "source": [
    "- `tdqm`: for문의 진행상태를 확인하기 위한 패키지\n",
    "- `networkx`: 그래프 시그널 시각화를 위한 모듈 \n",
    "- `torch`: 파이토치 (STGCN은 파이토치 기반으로 만들어짐) 모듈\n",
    "- `torch.nn.functional`: relu 등의 활성화함수를 불러오기 위한 모듈\n",
    "- `Data`: 그래프자료를 만들기 위한 클래스\n",
    "- `GConvGRU`: STGCN layer를 만드는 클래스\n",
    "- `temporal_signal_split`: STGCN dataset 을 train/test 형태로 분리하는 기능이 있는 \"함수\" "
   ]
  },
  {
   "cell_type": "markdown",
   "id": "3321ec17-d6ea-4a02-af98-7845bffae094",
   "metadata": {},
   "source": [
    "`-` STGCN의 학습을 위한 클래스선언 "
   ]
  },
  {
   "cell_type": "code",
   "execution_count": 123,
   "id": "c78d147a-cf39-471a-bed9-40522919c7ee",
   "metadata": {},
   "outputs": [],
   "source": [
    "class RecurrentGCN(torch.nn.Module):\n",
    "    def __init__(self, node_features, filters):\n",
    "        super(RecurrentGCN, self).__init__()\n",
    "        self.recurrent = GConvGRU(node_features, filters, 2)\n",
    "        self.linear = torch.nn.Linear(filters, 1)\n",
    "\n",
    "    def forward(self, x, edge_index, edge_weight):\n",
    "        h = self.recurrent(x, edge_index, edge_weight)\n",
    "        h = F.relu(h)\n",
    "        h = self.linear(h)\n",
    "        return h"
   ]
  },
  {
   "cell_type": "markdown",
   "id": "4329960a-a3d0-4c89-af37-73d12b60b95e",
   "metadata": {},
   "source": [
    "# notaions ofr STGCN"
   ]
  },
  {
   "cell_type": "markdown",
   "id": "d7d4aff3-19db-47e4-a047-be1a6bf548a5",
   "metadata": {},
   "source": [
    "`-` 시계열: each $t$ 에 대한 observation이 하나의 값 (혹은 벡터) \n",
    "\n",
    "- 자료: $X(t)$ for $t=1,2,\\dots,T$"
   ]
  },
  {
   "cell_type": "markdown",
   "id": "eba0d47d-ae75-4a8e-9010-e442a6664a1d",
   "metadata": {},
   "source": [
    "`-` STGCN setting에서는 each $t$ 에 대한 observation이 graph\n",
    "\n",
    "- 자료: $X(v,t)$ for $t=1,2,\\dots,T$ and $v \\in V$\n",
    "- 주의: 이 포스트에서는 $X(v,t)$ 를 $f(v,t)$ 로 표현할 때가 있음 \n"
   ]
  },
  {
   "cell_type": "markdown",
   "id": "a436c2be-1936-4295-8040-1291d544285b",
   "metadata": {},
   "source": [
    "# dataset, dataloaders"
   ]
  },
  {
   "cell_type": "markdown",
   "id": "40015847-f110-404c-91b4-1176c16265b6",
   "metadata": {},
   "source": [
    "## PyG 의 Data 자료형 "
   ]
  },
  {
   "cell_type": "markdown",
   "id": "f745b957-226e-4343-bee3-9b77230e625f",
   "metadata": {},
   "source": [
    "> ref: <https://pytorch-geometric.readthedocs.io/en/latest/notes/introduction.html#data-handling-of-graphs>"
   ]
  },
  {
   "cell_type": "markdown",
   "id": "5503e0d1-14ad-44c4-a3e9-39edb3651e01",
   "metadata": {},
   "source": [
    "`-` 자료는 [PyG의 Data 오브젝트](https://pytorch-geometric.readthedocs.io/en/latest/notes/introduction.html#data-handling-of-graphs)를 기반으로 한다. \n",
    "\n"
   ]
  },
  {
   "cell_type": "markdown",
   "id": "fa75b37f-fca4-487e-aa52-ac89f67bad3a",
   "metadata": {},
   "source": [
    "(예제) 아래와 같은 그래프자료를 고려하자. "
   ]
  },
  {
   "cell_type": "markdown",
   "id": "4ba132bd-e25a-4649-9bd9-f189612be1e5",
   "metadata": {},
   "source": [
    "![](https://pytorch-geometric.readthedocs.io/en/latest/_images/graph.svg)"
   ]
  },
  {
   "cell_type": "markdown",
   "id": "b84f41bd-6dc5-4170-a8fd-a5ae92cd9311",
   "metadata": {},
   "source": [
    "이러한 자료형은 아래와 같은 형식으로 저장한다. "
   ]
  },
  {
   "cell_type": "code",
   "execution_count": 121,
   "id": "07892a21-d38c-4d34-8ac3-a5a8ad822bbf",
   "metadata": {},
   "outputs": [],
   "source": [
    "edge_index = torch.tensor([[0, 1, 1, 2],\n",
    "                           [1, 0, 2, 1]], dtype=torch.long)\n",
    "x = torch.tensor([[-1], [0], [1]], dtype=torch.float)\n",
    "data = Data(x=x, edge_index=edge_index) # Data는 그래프자료형을 만드는 클래스"
   ]
  },
  {
   "cell_type": "code",
   "execution_count": 264,
   "id": "e4f6e453-4ea8-47b4-b5ff-ba6373e65081",
   "metadata": {},
   "outputs": [
    {
     "data": {
      "text/plain": [
       "torch_geometric.data.data.Data"
      ]
     },
     "execution_count": 264,
     "metadata": {},
     "output_type": "execute_result"
    }
   ],
   "source": [
    "type(data)"
   ]
  },
  {
   "cell_type": "code",
   "execution_count": 104,
   "id": "195d045b-2cb1-42ef-935c-430e4e3c5bd2",
   "metadata": {},
   "outputs": [
    {
     "data": {
      "text/plain": [
       "tensor([[-1.],\n",
       "        [ 0.],\n",
       "        [ 1.]])"
      ]
     },
     "execution_count": 104,
     "metadata": {},
     "output_type": "execute_result"
    }
   ],
   "source": [
    "data.x"
   ]
  },
  {
   "cell_type": "code",
   "execution_count": 106,
   "id": "fd6f79d9-7c21-490a-83c7-7ec8ccbe5d56",
   "metadata": {},
   "outputs": [
    {
     "data": {
      "text/plain": [
       "tensor([[0, 1, 1, 2],\n",
       "        [1, 0, 2, 1]])"
      ]
     },
     "execution_count": 106,
     "metadata": {},
     "output_type": "execute_result"
    }
   ],
   "source": [
    "data.edge_index"
   ]
  },
  {
   "cell_type": "markdown",
   "id": "3cae1de7-ae73-4101-a620-43de30b5eb7f",
   "metadata": {},
   "source": [
    "## PyTorch Geometric Temporal 의 자료형 "
   ]
  },
  {
   "cell_type": "markdown",
   "id": "3f93e7ed-34dc-4f92-8175-1cf2469ffba7",
   "metadata": {},
   "source": [
    "> ref: [PyTorch Geometric Temporal Signal](https://pytorch-geometric-temporal.readthedocs.io/en/latest/modules/signal.html#torch_geometric_temporal.signal.static_graph_temporal_signal.StaticGraphTemporalSignal)"
   ]
  },
  {
   "cell_type": "markdown",
   "id": "ae2d3e46-ffda-4b77-a15d-aa464f5967a3",
   "metadata": {},
   "source": [
    "아래의 클래스들중 하나를 이용하여 만든다. "
   ]
  },
  {
   "cell_type": "markdown",
   "id": "00194dc0-06f4-4a5d-b740-3367abfd0116",
   "metadata": {},
   "source": [
    "```Python\n",
    "## Temporal Signal Iterators\n",
    "torch_geometric_temporal.signal.StaticGraphTemporalSignal\n",
    "torch_geometric_temporal.signal.DynamicGraphTemporalSignal\n",
    "torch_geometric_temporal.signal.DynamicGraphStaticSignal\n",
    "## Heterogeneous Temporal Signal Iterators\n",
    "torch_geometric_temporal.signal.StaticHeteroGraphTemporalSignal\n",
    "torch_geometric_temporal.signal.DynamicHeteroGraphTemporalSignal\n",
    "torch_geometric_temporal.signal.DynamicHeteroGraphStaticSignal\n",
    "```"
   ]
  },
  {
   "cell_type": "markdown",
   "id": "809b8648-fe5c-479c-9d02-bfa0fc946dfb",
   "metadata": {},
   "source": [
    "이중 \"Heterogeneous Temporal Signal\" 은 우리가 관심이 있는 신호가 아니므로 사실상 아래의 3개만 고려하면 된다. "
   ]
  },
  {
   "cell_type": "markdown",
   "id": "6fc97313-6625-4842-990a-1e7372fea0a7",
   "metadata": {},
   "source": [
    "- `torch_geometric_temporal.signal.StaticGraphTemporalSignal`\n",
    "- `torch_geometric_temporal.signal.DynamicGraphTemporalSignal`\n",
    "- `torch_geometric_temporal.signal.DynamicGraphStaticSignal`"
   ]
  },
  {
   "cell_type": "markdown",
   "id": "9313c211-ae4f-4772-98f5-191a0d4b3a5c",
   "metadata": {},
   "source": [
    "여기에서 `StaticGraphTemporalSignal` 는 시간에 따라서 그래프 구조가 일정한 경우, 즉 ${\\cal G}_t=\\{{\\cal V},{\\cal E}\\}$와 같은 구조를 의미한다. "
   ]
  },
  {
   "cell_type": "markdown",
   "id": "365e0360-d35a-45e3-94bd-1032549b40c5",
   "metadata": {},
   "source": [
    "**(예제1)** StaticGraphTemporalSignal 를 이용하여 데이터 셋 만들기 "
   ]
  },
  {
   "cell_type": "markdown",
   "id": "ce320b2f-da64-4a79-8a1f-e797078255ff",
   "metadata": {},
   "source": [
    "`-` json data $\\to$ dict "
   ]
  },
  {
   "cell_type": "code",
   "execution_count": 155,
   "id": "64c84235-bd42-4ee6-9357-7426dc8b6568",
   "metadata": {},
   "outputs": [],
   "source": [
    "import json\n",
    "import urllib"
   ]
  },
  {
   "cell_type": "code",
   "execution_count": 160,
   "id": "1c1dbc53-8598-4828-9ac8-bebb8e13a467",
   "metadata": {},
   "outputs": [],
   "source": [
    "url = \"https://raw.githubusercontent.com/benedekrozemberczki/pytorch_geometric_temporal/master/dataset/chickenpox.json\"\n",
    "data_dict = json.loads(urllib.request.urlopen(url).read())\n",
    "# data_dict 출력이 김"
   ]
  },
  {
   "cell_type": "code",
   "execution_count": 162,
   "id": "e280f9e4-ac80-44e0-a79f-6844cf63a45d",
   "metadata": {},
   "outputs": [
    {
     "data": {
      "text/plain": [
       "dict_keys(['edges', 'node_ids', 'FX'])"
      ]
     },
     "execution_count": 162,
     "metadata": {},
     "output_type": "execute_result"
    }
   ],
   "source": [
    "data_dict.keys()"
   ]
  },
  {
   "cell_type": "markdown",
   "id": "4d39a8cc-4b38-42b2-9f89-465a5413e644",
   "metadata": {},
   "source": [
    "`-` 살펴보기 "
   ]
  },
  {
   "cell_type": "code",
   "execution_count": 165,
   "id": "bcb34cbe-aff9-4d04-bd8a-ec44a2d5d032",
   "metadata": {},
   "outputs": [
    {
     "data": {
      "text/plain": [
       "array([[ 0,  0,  0,  0,  0,  0,  0,  1,  1,  1,  1,  2,  2,  2,  2,  3,\n",
       "         3,  3,  3,  3,  3,  4,  4,  5,  5,  5,  5,  6,  6,  6,  6,  6,\n",
       "         6,  6,  7,  7,  7,  7,  8,  8,  8,  8,  8,  9,  9,  9,  9,  9,\n",
       "        10, 10, 10, 10, 10, 10, 10, 10, 11, 11, 11, 11, 11, 12, 12, 12,\n",
       "        12, 13, 13, 13, 13, 13, 13, 13, 13, 14, 14, 14, 14, 14, 14, 15,\n",
       "        15, 15, 16, 16, 16, 16, 16, 17, 17, 17, 17, 18, 18, 18, 18, 18,\n",
       "        18, 18, 19, 19, 19, 19],\n",
       "       [10,  6, 13,  1,  0,  5, 16,  0, 16,  1, 14, 10,  8,  2,  5,  8,\n",
       "        15, 12,  9, 10,  3,  4, 13,  0, 10,  2,  5,  0, 16,  6, 14, 13,\n",
       "        11, 18,  7, 17, 11, 18,  3,  2, 15,  8, 10,  9, 13,  3, 12, 10,\n",
       "         5,  9,  8,  3, 10,  2, 13,  0,  6, 11,  7, 13, 18,  3,  9, 13,\n",
       "        12, 13,  9,  6,  4, 12,  0, 11, 10, 18, 19,  1, 14,  6, 16,  3,\n",
       "        15,  8, 16, 14,  1,  0,  6,  7, 19, 17, 18, 14, 18, 17,  7,  6,\n",
       "        19, 11, 18, 14, 19, 17]])"
      ]
     },
     "execution_count": 165,
     "metadata": {},
     "output_type": "execute_result"
    }
   ],
   "source": [
    "np.array(data_dict['edges']).T"
   ]
  },
  {
   "cell_type": "markdown",
   "id": "3f4bb975-6253-49a5-807f-de038cff2d26",
   "metadata": {},
   "source": [
    "- ${\\cal E} = \\{(0,10),(0,6), \\dots, (19,17)\\}$\n",
    "- 혹은  ${\\cal E} = \\{(\\tt{BACS},\\tt{JASZ}), ({\\tt BACS},{\\tt FEJER}), \\dots, (\\tt{ZALA},\\tt{VAS})\\}$"
   ]
  },
  {
   "cell_type": "code",
   "execution_count": 200,
   "id": "65f4752f-7a08-4589-bf24-29c08e03ef71",
   "metadata": {},
   "outputs": [
    {
     "data": {
      "text/plain": [
       "{'BACS': 0,\n",
       " 'BARANYA': 1,\n",
       " 'BEKES': 2,\n",
       " 'BORSOD': 3,\n",
       " 'BUDAPEST': 4,\n",
       " 'CSONGRAD': 5,\n",
       " 'FEJER': 6,\n",
       " 'GYOR': 7,\n",
       " 'HAJDU': 8,\n",
       " 'HEVES': 9,\n",
       " 'JASZ': 10,\n",
       " 'KOMAROM': 11,\n",
       " 'NOGRAD': 12,\n",
       " 'PEST': 13,\n",
       " 'SOMOGY': 14,\n",
       " 'SZABOLCS': 15,\n",
       " 'TOLNA': 16,\n",
       " 'VAS': 17,\n",
       " 'VESZPREM': 18,\n",
       " 'ZALA': 19}"
      ]
     },
     "execution_count": 200,
     "metadata": {},
     "output_type": "execute_result"
    }
   ],
   "source": [
    "data_dict['node_ids']"
   ]
  },
  {
   "cell_type": "markdown",
   "id": "995b78c2-7edf-480e-abf2-38f40074eca8",
   "metadata": {},
   "source": [
    "- ${\\cal V}=\\{\\tt{BACS},\\tt{BARANYA} \\dots, \\tt{ZALA}\\}$"
   ]
  },
  {
   "cell_type": "code",
   "execution_count": 172,
   "id": "d76a650a-79d2-4eba-9ded-ee1daf1745bc",
   "metadata": {},
   "outputs": [
    {
     "data": {
      "text/plain": [
       "(array([[-1.08135724e-03, -7.11136085e-01, -3.22808515e+00, ...,\n",
       "          1.09445310e+00, -7.08747750e-01, -1.82280792e+00],\n",
       "        [ 2.85705967e-02, -5.98430173e-01, -2.29097341e-01, ...,\n",
       "         -1.59220988e+00, -2.24597623e-01,  7.86330575e-01],\n",
       "        [ 3.54742090e-01,  1.90511208e-01,  1.61028185e+00, ...,\n",
       "          1.38183225e-01, -7.08747750e-01, -5.61724314e-01],\n",
       "        ...,\n",
       "        [-4.75512620e-01, -1.19952837e+00, -3.89043358e-01, ...,\n",
       "         -1.00023329e+00, -1.71429032e+00,  4.70746677e-02],\n",
       "        [-2.08645035e-01,  6.03766218e-01,  1.08216835e-02, ...,\n",
       "          4.71099041e-02,  2.45684924e+00, -3.44296107e-01],\n",
       "        [ 1.21464875e+00,  7.16472130e-01,  1.29038982e+00, ...,\n",
       "          4.56939849e-01,  7.43702632e-01,  1.00375878e+00]]),\n",
       " (521, 20))"
      ]
     },
     "execution_count": 172,
     "metadata": {},
     "output_type": "execute_result"
    }
   ],
   "source": [
    "np.array(data_dict['FX']), np.array(data_dict['FX']).shape"
   ]
  },
  {
   "cell_type": "markdown",
   "id": "c00d4173-b283-4d7e-bc1c-93379a8ad3e2",
   "metadata": {},
   "source": [
    "- ${\\bf f}=\\begin{bmatrix}\n",
    "{\\bf f}_1\\\\\n",
    "{\\bf f}_2\\\\\n",
    "\\dots \\\\\n",
    "{\\bf f}_{521}\n",
    "\\end{bmatrix}=\\begin{bmatrix}\n",
    "f(t=1,v=\\tt{BACS}) & \\dots & f(t=1,v=\\tt{ZALA}) \\\\\n",
    "f(t=2,v=\\tt{BACS}) & \\dots & f(t=2,v=\\tt{ZALA}) \\\\\n",
    "\\dots & \\dots & \\dots \\\\\n",
    "f(t=521,v=\\tt{BACS}) & \\dots & f(t=521,v=\\tt{ZALA}) \n",
    "\\end{bmatrix}$ "
   ]
  },
  {
   "cell_type": "markdown",
   "id": "858f9bd2-b07f-4e3c-bfdc-8bda6b37c3c9",
   "metadata": {},
   "source": [
    "즉 data_dict는 아래와 같이 구성되어 있음 "
   ]
  },
  {
   "cell_type": "markdown",
   "id": "33ecbffb-9cb6-45d5-838c-39e27dc29384",
   "metadata": {},
   "source": [
    "|수학 기호|코드에 저장된 변수| 자료형 | 차원 | 설명 | \n",
    "|:-:|:-:|:-:|:-:|:-:|\n",
    "|${\\cal V}$|`data_dict['node_ids']`|dict|20| 20개의 노드에 대한 설명이 있음|\n",
    "|${\\cal E}$|`data_dict['edges']`|list (double list)|(102,2) | 노드들에 대한 102개의 연결을 정의함 |\n",
    "|${\\bf f}$|`data_dict['node_ids']`|dict|(521,20)| $f(t,v)$ for $v \\in {\\cal V}$ and $t = 1,\\dots, T$ | "
   ]
  },
  {
   "cell_type": "markdown",
   "id": "c9aeab54-7f58-471f-b6ca-63d3d34f4852",
   "metadata": {},
   "source": [
    "`-` 주어진 자료를 정리하여 그래프신호 $\\big(\\{{\\cal V},{\\cal E},{\\bf W}\\},{\\bf f}\\big)$를 만들면 아래와 같다. "
   ]
  },
  {
   "cell_type": "code",
   "execution_count": 218,
   "id": "2e218031-7a8a-400b-9743-85f44500480d",
   "metadata": {},
   "outputs": [],
   "source": [
    "edges = np.array(data_dict[\"edges\"]).T\n",
    "edge_weight = np.ones(edges.shape[1])\n",
    "f = np.array(data_dict[\"FX\"])"
   ]
  },
  {
   "cell_type": "markdown",
   "id": "bc664d01-8d2b-4ec1-8cad-9790bb39c886",
   "metadata": {},
   "source": [
    "- 여기에서 `edges`는 ${\\cal E}$에 대한 정보를 \n",
    "- `edges_weight`는 ${\\bf W}$에 대한 정보를\n",
    "- `f`는 ${\\bf f}$에 대한 정보를 저장한다. "
   ]
  },
  {
   "cell_type": "markdown",
   "id": "fefe2635-fd50-4f8c-8b65-1796a3208cb1",
   "metadata": {},
   "source": [
    "> Note: 이때 ${\\bf W}={\\bf E}$ 로 정의한다. (하지만 꼭 이래야 하는건 아니야)"
   ]
  },
  {
   "cell_type": "markdown",
   "id": "db4818a0-3c6b-475e-a930-e8f8f1ce7196",
   "metadata": {},
   "source": [
    "`-` `data_dict` $\\to$ `dl`"
   ]
  },
  {
   "cell_type": "code",
   "execution_count": 219,
   "id": "44ab12fb-3f87-4b9f-92f6-271e3bb7129a",
   "metadata": {},
   "outputs": [],
   "source": [
    "lags = 4\n",
    "features = [f[i : i + lags, :].T for i in range(f.shape[0] - lags)]\n",
    "targets = [f[i + lags, :].T for i in range(f.shape[0] - lags)]"
   ]
  },
  {
   "cell_type": "code",
   "execution_count": 220,
   "id": "f3c6b17e-5f74-404e-94c0-541aa25dd816",
   "metadata": {},
   "outputs": [
    {
     "data": {
      "text/plain": [
       "((517, 20, 4), (517, 20))"
      ]
     },
     "execution_count": 220,
     "metadata": {},
     "output_type": "execute_result"
    }
   ],
   "source": [
    "np.array(features).shape, np.array(targets).shape"
   ]
  },
  {
   "cell_type": "markdown",
   "id": "874c37b0-b08e-43b8-8e16-6ff2c7b2d2ae",
   "metadata": {},
   "source": [
    "|설명변수|반응변수|\n",
    "|:-:|:-:|\n",
    "|${\\bf X} = {\\tt features} = \\begin{bmatrix} \n",
    "{\\bf f}_1 & {\\bf f}_2 & {\\bf f}_3 & {\\bf f}_4 \\\\ {\\bf f}_2 & {\\bf f}_3 & {\\bf f}_4 & {\\bf f}_5 \\\\ \\dots & \\dots & \\dots & \\dots \\\\ {\\bf f}_{517} & {\\bf f}_{518} & {\\bf f}_{519} & {\\bf f}_{520} \\end{bmatrix}$|${\\bf y}= {\\tt targets} = \\begin{bmatrix} {\\bf f}_5 \\\\ {\\bf f}_6 \\\\ \\dots \\\\ {\\bf f}_{521} \\end{bmatrix}$|"
   ]
  },
  {
   "cell_type": "markdown",
   "id": "7864c855-0e1d-4e54-8e63-1e4c4a700351",
   "metadata": {},
   "source": [
    "- AR 느낌으로 표현하면 AR(4) 임 "
   ]
  },
  {
   "cell_type": "code",
   "execution_count": 222,
   "id": "e9523d9a-61c9-4e96-99c5-58b6551cde4a",
   "metadata": {},
   "outputs": [],
   "source": [
    "dataset = torch_geometric_temporal.signal.StaticGraphTemporalSignal(\n",
    "    edge_index= edges,\n",
    "    edge_weight = edge_weights,\n",
    "    features = features,\n",
    "    targets = targets\n",
    ")"
   ]
  },
  {
   "cell_type": "code",
   "execution_count": 223,
   "id": "b172f075-0e18-4189-87d2-9eeda9679d1c",
   "metadata": {},
   "outputs": [
    {
     "data": {
      "text/plain": [
       "<torch_geometric_temporal.signal.static_graph_temporal_signal.StaticGraphTemporalSignal at 0x7fb446925650>"
      ]
     },
     "execution_count": 223,
     "metadata": {},
     "output_type": "execute_result"
    }
   ],
   "source": [
    "dataset"
   ]
  },
  {
   "cell_type": "markdown",
   "id": "c0aeee1f-836e-4c10-89e2-f533d203fc1d",
   "metadata": {},
   "source": [
    "`-` 그런데 이 과정을 아래와 같이 할 수도 있음 "
   ]
  },
  {
   "cell_type": "markdown",
   "id": "5bc45d04-ef15-468b-8e6f-c3af0545c3eb",
   "metadata": {},
   "source": [
    "```Python\n",
    "# PyTorch Geometric Temporal 공식홈페이지에 소개된 코드\n",
    "loader = torch_geometric_temporal.dataset.ChickenpoxDatasetLoader()\n",
    "dataset=loader.get_dataset(lags=4)\n",
    "```"
   ]
  },
  {
   "cell_type": "markdown",
   "id": "8e5432f3-6ec6-4dfe-9f16-4168b9b5327a",
   "metadata": {},
   "source": [
    "`-` dataset은 `dataset[0]`, $\\dots$ , `dataset[516]`과 같은 방식으로 각 시점별 자료에 접근가능 "
   ]
  },
  {
   "cell_type": "code",
   "execution_count": 242,
   "id": "5da3308f-cc2f-47d1-8343-f128d0bd2e5a",
   "metadata": {},
   "outputs": [
    {
     "data": {
      "text/plain": [
       "Data(x=[20, 4], edge_index=[2, 102], edge_attr=[102], y=[20])"
      ]
     },
     "execution_count": 242,
     "metadata": {},
     "output_type": "execute_result"
    }
   ],
   "source": [
    "dataset[0]"
   ]
  },
  {
   "cell_type": "markdown",
   "id": "b821535f-4784-4e99-8dd3-3e932a23d475",
   "metadata": {},
   "source": [
    "각 시점에 대한 자료형은 아까 살펴보았던 PyG의 Data 자료형과 같음 "
   ]
  },
  {
   "cell_type": "code",
   "execution_count": 262,
   "id": "c15d8623-116a-44fe-b41c-6af385f381de",
   "metadata": {},
   "outputs": [
    {
     "data": {
      "text/plain": [
       "torch_geometric.data.data.Data"
      ]
     },
     "execution_count": 262,
     "metadata": {},
     "output_type": "execute_result"
    }
   ],
   "source": [
    "type(dataset[0])"
   ]
  },
  {
   "cell_type": "code",
   "execution_count": 257,
   "id": "e1c9eade-6f10-4b84-b558-6a874d803910",
   "metadata": {},
   "outputs": [
    {
     "data": {
      "text/plain": [
       "tensor([[-1.0814e-03,  2.8571e-02,  3.5474e-01,  2.9544e-01],\n",
       "        [-7.1114e-01, -5.9843e-01,  1.9051e-01,  1.0922e+00],\n",
       "        [-3.2281e+00, -2.2910e-01,  1.6103e+00, -1.5487e+00],\n",
       "        [ 6.4750e-01, -2.2117e+00, -9.6858e-01,  1.1862e+00],\n",
       "        [-1.7302e-01, -9.4717e-01,  1.0347e+00, -6.3751e-01],\n",
       "        [ 3.6345e-01, -7.5468e-01,  2.9768e-01, -1.6273e-01],\n",
       "        [-3.4174e+00,  1.7031e+00, -1.6434e+00,  1.7434e+00],\n",
       "        [-1.9641e+00,  5.5208e-01,  1.1811e+00,  6.7002e-01],\n",
       "        [-2.2133e+00,  3.0492e+00, -2.3839e+00,  1.8545e+00],\n",
       "        [-3.3141e-01,  9.5218e-01, -3.7281e-01, -8.2971e-02],\n",
       "        [-1.8380e+00, -5.8728e-01, -3.5514e-02, -7.2298e-02],\n",
       "        [-3.4669e-01, -1.9827e-01,  3.9540e-01, -2.4774e-01],\n",
       "        [ 1.4219e+00, -1.3266e+00,  5.2338e-01, -1.6374e-01],\n",
       "        [-7.7044e-01,  3.2872e-01, -1.0400e+00,  3.4945e-01],\n",
       "        [-7.8061e-01, -6.5022e-01,  1.4361e+00, -1.2864e-01],\n",
       "        [-1.0993e+00,  1.2732e-01,  5.3621e-01,  1.9023e-01],\n",
       "        [ 2.4583e+00, -1.7811e+00,  5.0732e-02, -9.4371e-01],\n",
       "        [ 1.0945e+00, -1.5922e+00,  1.3818e-01,  1.1855e+00],\n",
       "        [-7.0875e-01, -2.2460e-01, -7.0875e-01,  1.5630e+00],\n",
       "        [-1.8228e+00,  7.8633e-01, -5.6172e-01,  1.2647e+00]])"
      ]
     },
     "execution_count": 257,
     "metadata": {},
     "output_type": "execute_result"
    }
   ],
   "source": [
    "dataset[0].x "
   ]
  },
  {
   "cell_type": "markdown",
   "id": "0d6f10f2-b89a-4310-88bb-b9ee197220aa",
   "metadata": {},
   "source": [
    "- 이 값들은 `features[0]`의 값들과 같음. 즉 $[{\\bf f}_1~ {\\bf f}_2~ {\\bf f}_3~ {\\bf f}_4]$를 의미함 "
   ]
  },
  {
   "cell_type": "code",
   "execution_count": 259,
   "id": "dd0f311f-2be4-4963-baae-a90eeb33f0f6",
   "metadata": {},
   "outputs": [
    {
     "data": {
      "text/plain": [
       "tensor([ 0.7106, -0.0725,  2.6099,  1.7870,  0.8024, -0.2614, -0.8370,  1.9674,\n",
       "        -0.4212,  0.1655,  1.2519,  2.3743,  0.7877,  0.4531, -0.1721, -0.0614,\n",
       "         1.0452,  0.3203, -1.3791,  0.0036])"
      ]
     },
     "execution_count": 259,
     "metadata": {},
     "output_type": "execute_result"
    }
   ],
   "source": [
    "dataset[0].y"
   ]
  },
  {
   "cell_type": "markdown",
   "id": "3ae14123-f15a-4be8-bc73-b8d152ba20b0",
   "metadata": {},
   "source": [
    "- 이 값들은 `targets[0]`의 값들과 같음. 즉 ${\\bf f}_5$를 의미함 "
   ]
  },
  {
   "cell_type": "markdown",
   "id": "d1135085-d39d-46f4-949a-073cd74d4b70",
   "metadata": {},
   "source": [
    "# 데이터셋 소개 + 학습"
   ]
  },
  {
   "cell_type": "markdown",
   "id": "eb110730-0f5f-4f05-8a2c-73f592076285",
   "metadata": {},
   "source": [
    "## ChickenpoxDatasetLoader"
   ]
  },
  {
   "cell_type": "markdown",
   "id": "79b5ec21-0947-4de1-bafd-884c84fc0f03",
   "metadata": {},
   "source": [
    "A dataset of county level chicken pox cases in Hungary between 2004 and 2014. We made it public during the development of PyTorch Geometric Temporal. The underlying graph is static - vertices are counties and edges are neighbourhoods. Vertex features are lagged weekly counts of the chickenpox cases (we included 4 lags). The target is the weekly number of cases for the upcoming week (signed integers). Our dataset consist of more than 500 snapshots (weeks)."
   ]
  },
  {
   "cell_type": "markdown",
   "id": "dfb791fa-603f-4179-beb0-2e73cdcb5d18",
   "metadata": {},
   "source": [
    "### summary of data\n",
    "\n",
    "- $T$ = 519\n",
    "- $N$ = 20 # number of nodes \n",
    "- $|{\\cal E}|$ = 102 # edges \n",
    "- $f(t,v)$의 차원? (1,)\n",
    "- 시간에 따라서 Number of nodes가 변하는지? False\n",
    "- 시간에 따라서 Number of nodes가 변하는지? False\n",
    "- ${\\bf X}$: (20,4) \n",
    "- ${\\bf y}$: (20,) \n",
    "- 예제코드적용가능여부: Yes"
   ]
  },
  {
   "cell_type": "markdown",
   "id": "8a5878ea-07d2-4e54-9e87-ebb71efe1d2f",
   "metadata": {},
   "source": [
    "`-` Nodes : `20`\n",
    "\n",
    "- vertices are counties\n",
    "\n",
    "`-`Edges : `102`\n",
    "\n",
    "- edges are neighbourhoods\n",
    "\n",
    "`-` Time : `519`\n",
    "\n",
    "- between 2004 and 2014\n",
    "- per weeks"
   ]
  },
  {
   "cell_type": "code",
   "execution_count": 270,
   "id": "ce4c1c1d-cc47-4a9f-bbc5-efdc3a145aa8",
   "metadata": {},
   "outputs": [],
   "source": [
    "loader = torch_geometric_temporal.dataset.ChickenpoxDatasetLoader()\n",
    "dataset = loader.get_dataset(lags=4)\n",
    "train_dataset, test_dataset = temporal_signal_split(dataset, train_ratio=0.8)"
   ]
  },
  {
   "cell_type": "markdown",
   "id": "197a5244-c624-40d4-9d2c-daaf1735eb91",
   "metadata": {},
   "source": [
    "#### learn"
   ]
  },
  {
   "cell_type": "code",
   "execution_count": null,
   "id": "ff395a3b-bcbe-4f9c-9e1a-a05b7c04d0b3",
   "metadata": {},
   "outputs": [
    {
     "name": "stderr",
     "output_type": "stream",
     "text": [
      " 72%|███████▏  | 36/50 [00:40<00:15,  1.14s/it]"
     ]
    }
   ],
   "source": [
    "model = RecurrentGCN(node_features=4, filters=32)\n",
    "optimizer = torch.optim.Adam(model.parameters(), lr=0.01)\n",
    "model.train()\n",
    "\n",
    "for epoch in tqdm(range(50)):\n",
    "    for t, snapshot in enumerate(train_dataset):\n",
    "        yt_hat = model(snapshot.x, snapshot.edge_index, snapshot.edge_attr)\n",
    "        cost = torch.mean((yt_hat-snapshot.y)**2)\n",
    "        cost.backward()\n",
    "        optimizer.step()\n",
    "        optimizer.zero_grad()"
   ]
  },
  {
   "cell_type": "markdown",
   "id": "9741e402-001f-40c9-93d2-024534691e11",
   "metadata": {},
   "source": [
    "### visualization"
   ]
  },
  {
   "cell_type": "code",
   "execution_count": 344,
   "id": "9a1a44c3-0fea-49eb-ae04-3471b9af8ade",
   "metadata": {},
   "outputs": [
    {
     "data": {
      "text/plain": [
       "RecurrentGCN(\n",
       "  (recurrent): GConvGRU(\n",
       "    (conv_x_z): ChebConv(4, 32, K=2, normalization=sym)\n",
       "    (conv_h_z): ChebConv(32, 32, K=2, normalization=sym)\n",
       "    (conv_x_r): ChebConv(4, 32, K=2, normalization=sym)\n",
       "    (conv_h_r): ChebConv(32, 32, K=2, normalization=sym)\n",
       "    (conv_x_h): ChebConv(4, 32, K=2, normalization=sym)\n",
       "    (conv_h_h): ChebConv(32, 32, K=2, normalization=sym)\n",
       "  )\n",
       "  (linear): Linear(in_features=32, out_features=1, bias=True)\n",
       ")"
      ]
     },
     "execution_count": 344,
     "metadata": {},
     "output_type": "execute_result"
    }
   ],
   "source": [
    "model.eval()"
   ]
  },
  {
   "cell_type": "code",
   "execution_count": null,
   "id": "ffa2ecde-b979-40c9-aa72-dd87349e77ef",
   "metadata": {},
   "outputs": [],
   "source": [
    "yhat_train = torch.stack([model(snapshot.x,snapshot.edge_index, snapshot.edge_attr) for snapshot in train_dataset]).detach().numpy()\n",
    "yhat_test = torch.stack([model(snapshot.x,snapshot.edge_index, snapshot.edge_attr) for snapshot in test_dataset]).detach().numpy()"
   ]
  },
  {
   "cell_type": "code",
   "execution_count": null,
   "id": "ed6c8d0b-38e2-4a59-93fa-e014da9ac9ce",
   "metadata": {},
   "outputs": [],
   "source": [
    "V = list(data_dict['node_ids'].keys())"
   ]
  },
  {
   "cell_type": "code",
   "execution_count": null,
   "id": "0214334a-2d66-4698-ba15-7830048214f6",
   "metadata": {},
   "outputs": [],
   "source": [
    "fig,ax = plt.subplots(20,1,figsize=(10,50))\n",
    "for k in range(20):\n",
    "    ax[k].plot(f[:,k],'--',alpha=0.5,label='observed')\n",
    "    ax[k].set_title('node: {}'.format(V[k]))\n",
    "    ax[k].plot(yhat_train[:,k],label='predicted (tr)')\n",
    "    ax[k].plot(range(yhat_train.shape[0],yhat_train.shape[0]+yhat_test.shape[0]),yhat_test[:,k],label='predicted (test)')\n",
    "    ax[k].legend()\n",
    "fig.tight_layout()\n"
   ]
  },
  {
   "cell_type": "markdown",
   "id": "01e4031f-8b26-49be-9bb4-8ba187cef4eb",
   "metadata": {},
   "source": [
    "적합결과: 그냥 그렇네? (몰라 공식홈페이지 예제임)"
   ]
  }
 ],
 "metadata": {
  "kernelspec": {
   "display_name": "Python 3",
   "language": "python",
   "name": "python3"
  },
  "language_info": {
   "codemirror_mode": {
    "name": "ipython",
    "version": 3
   },
   "file_extension": ".py",
   "mimetype": "text/x-python",
   "name": "python",
   "nbconvert_exporter": "python",
   "pygments_lexer": "ipython3",
   "version": "3.7.15"
  }
 },
 "nbformat": 4,
 "nbformat_minor": 5
}
