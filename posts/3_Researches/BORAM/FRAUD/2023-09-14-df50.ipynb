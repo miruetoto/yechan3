{
 "cells": [
  {
   "cell_type": "code",
   "execution_count": 1,
   "id": "8e17464c-9154-438c-8978-5815e0e4aa70",
   "metadata": {},
   "outputs": [
    {
     "name": "stdout",
     "output_type": "stream",
     "text": [
      "shell-init: error retrieving current directory: getcwd: cannot access parent directories: No such file or directory\n",
      "# conda environments:\n",
      "#\n",
      "base                     /home/cgb2/anaconda3\n",
      "EBT                      /home/cgb2/anaconda3/envs/EBT\n",
      "llama2                   /home/cgb2/anaconda3/envs/llama2\n",
      "mp                       /home/cgb2/anaconda3/envs/mp\n",
      "r                        /home/cgb2/anaconda3/envs/r\n",
      "torch                 *  /home/cgb2/anaconda3/envs/torch\n",
      "\n"
     ]
    }
   ],
   "source": [
    "!conda env list "
   ]
  },
  {
   "cell_type": "code",
   "execution_count": null,
   "id": "b2f947ed-53b1-472a-87af-9d90a963406b",
   "metadata": {},
   "outputs": [],
   "source": []
  }
 ],
 "metadata": {
  "kernelspec": {
   "display_name": "Python 3 (ipykernel)",
   "language": "python",
   "name": "python3"
  },
  "language_info": {
   "codemirror_mode": {
    "name": "ipython",
    "version": 3
   },
   "file_extension": ".py",
   "mimetype": "text/x-python",
   "name": "python",
   "nbconvert_exporter": "python",
   "pygments_lexer": "ipython3",
   "version": "3.11.4"
  }
 },
 "nbformat": 4,
 "nbformat_minor": 5
}
