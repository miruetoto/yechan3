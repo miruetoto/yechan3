{
 "cells": [
  {
   "cell_type": "raw",
   "id": "a13d0c2e-36b7-4c97-99ed-76c104383a50",
   "metadata": {},
   "source": [
    "---\n",
    "title: \"**[PINKOCTO]** 면담\"\n",
    "author: \"신록예찬\"\n",
    "date: \"01/01/2023\"\n",
    "format:\n",
    "  html: \n",
    "    code-tools:\n",
    "      source: https://github.com/miruetoto/yechan3/blob/main/posts/3_Researches/PINKOCTO/2023-01-01-notes.ipynb\n",
    "---"
   ]
  },
  {
   "cell_type": "markdown",
   "id": "d8db2dec-2470-44a3-a363-af98e31af295",
   "metadata": {},
   "source": [
    "**23-07-17**"
   ]
  },
  {
   "cell_type": "markdown",
   "id": "3010779c-3163-4964-a94f-131927218fa5",
   "metadata": {},
   "source": [
    "```default\n",
    "quarto preview --host 210.117.173.182 --no-browser\n",
    "```"
   ]
  },
  {
   "cell_type": "code",
   "execution_count": 9,
   "id": "57f3ea1d-d720-4cc0-a4cf-d62363b677e4",
   "metadata": {},
   "outputs": [
    {
     "name": "stdout",
     "output_type": "stream",
     "text": [
      "[main f7f488f] .\n",
      " 2 files changed, 132 insertions(+)\n",
      " create mode 100644 posts/3_Researches/PINKOCTO/.ipynb_checkpoints/2023-01-01-notes-checkpoint.ipynb\n",
      " create mode 100644 posts/3_Researches/PINKOCTO/2023-01-01-notes.ipynb\n",
      "Enumerating objects: 12, done.\n",
      "Counting objects: 100% (12/12), done.\n",
      "Delta compression using up to 16 threads\n",
      "Compressing objects: 100% (7/7), done.\n",
      "Writing objects: 100% (7/7), 1.27 KiB | 1.27 MiB/s, done.\n",
      "Total 7 (delta 4), reused 0 (delta 0)\n",
      "remote: Resolving deltas: 100% (4/4), completed with 4 local objects.\u001b[K\n",
      "To https://github.com/miruetoto/yechan3.git\n",
      "   085eb37..f7f488f  main -> main\n",
      "From https://github.com/miruetoto/yechan3\n",
      " * branch            gh-pages   -> FETCH_HEAD\n",
      "\u001b[1m\u001b[34mRendering for publish:\n",
      "\u001b[39m\u001b[22m\n",
      "[ 1/55] 2_pl.qmd\u001b[39m\u001b[22m\n",
      "[ 2/55] 2_pyg.qmd\u001b[39m\u001b[22m\n",
      "[ 3/55] 3_boram.qmd\u001b[39m\u001b[22m\n",
      "[ 4/55] posts/2_Studies/PyG/ls1.ipynb\u001b[39m\u001b[22m\n",
      "[ 5/55] posts/2_Studies/PyG/ls4.ipynb\u001b[39m\u001b[22m\n",
      "[ 6/55] posts/2_Studies/PyG/ls5.ipynb\u001b[39m\u001b[22m\n",
      "[ 7/55] posts/2_Studies/PyG/ls3.ipynb\u001b[39m\u001b[22m\n",
      "[ 8/55] posts/2_Studies/PyG/ls2.ipynb\u001b[39m\u001b[22m\n",
      "[ 9/55] posts/2_Studies/Reviews/2022-12-23-Ebayesthresh.ipynb\u001b[39m\u001b[22m\n",
      "[10/55] posts/2_Studies/CGSP/2022-12-24-Chap-8.3.ipynb\u001b[39m\u001b[22m\n",
      "[11/55] posts/2_Studies/CGSP/2022-12-27-Chap-12.2.1~12.3.1.ipynb\u001b[39m\u001b[22m\n",
      "[12/55] posts/2_Studies/CGSP/2023-01-15-Chap-12.4.ipynb\u001b[39m\u001b[22m\n",
      "[13/55] posts/2_Studies/CGSP/2022-12-26-Chap-12.2.ipynb\u001b[39m\u001b[22m\n",
      "[14/55] posts/2_Studies/PyTorchLightning/2022-11-29-Lesson1.ipynb\u001b[39m\u001b[22m\n",
      "[15/55] posts/4_Notes/2000-01-01-우분투 포맷 및 개발용 서버 셋팅.ipynb\u001b[39m\u001b[22m\n",
      "[16/55] posts/4_Notes/2000-01-06-주피터랩- 설정 및 몇가지 팁.ipynb\u001b[39m\u001b[22m\n",
      "[17/55] posts/4_Notes/2000-01-07-줄리아 설치 및 실행.ipynb\u001b[39m\u001b[22m\n",
      "[18/55] posts/4_Notes/2000-01-08-깃(Git).ipynb\u001b[39m\u001b[22m\n",
      "[19/55] posts/4_Notes/2000-01-04-우분투 익히기.ipynb\u001b[39m\u001b[22m\n",
      "[20/55] posts/3_Researches/PINKOCTO/2023-06-23-퓨리에변환4jy.ipynb\u001b[39m\u001b[22m\n",
      "[21/55] posts/3_Researches/PINKOCTO/2023-06-28-퓨리에변환(detailed).ipynb\u001b[39m\u001b[22m\n",
      "[22/55] posts/3_Researches/PINKOCTO/2023-01-01-notes.ipynb\u001b[39m\u001b[22m\n",
      "\u001b[91mERROR: YAMLError: can not read a block mapping entry; a multiline key may not be an implicit key at line 10, column 1:\n",
      "    \n",
      "    ^\n",
      "\n",
      "Stack trace:\n",
      "    \n",
      "    ^\n",
      "    at generateError (file:///opt/quarto/bin/quarto.js:10449:12)\n",
      "    at throwError (file:///opt/quarto/bin/quarto.js:10452:11)\n",
      "    at readBlockMapping (file:///opt/quarto/bin/quarto.js:11076:24)\n",
      "    at composeNode (file:///opt/quarto/bin/quarto.js:11268:84)\n",
      "    at readDocument (file:///opt/quarto/bin/quarto.js:11382:5)\n",
      "    at loadDocuments (file:///opt/quarto/bin/quarto.js:11417:9)\n",
      "    at load (file:///opt/quarto/bin/quarto.js:11422:23)\n",
      "    at parse3 (file:///opt/quarto/bin/quarto.js:11432:12)\n",
      "    at parseWithNiceErrors (file:///opt/quarto/bin/quarto.js:19630:16)\n",
      "    at readYamlFromMarkdown (file:///opt/quarto/bin/quarto.js:19561:17)\u001b[39m\n"
     ]
    }
   ],
   "source": [
    "!git add .\n",
    "!git commit -m .\n",
    "!git push \n",
    "!quarto publish --no-browser --no-prompt"
   ]
  }
 ],
 "metadata": {
  "kernelspec": {
   "display_name": "Python 3",
   "language": "python",
   "name": "python3"
  },
  "language_info": {
   "codemirror_mode": {
    "name": "ipython",
    "version": 3
   },
   "file_extension": ".py",
   "mimetype": "text/x-python",
   "name": "python",
   "nbconvert_exporter": "python",
   "pygments_lexer": "ipython3",
   "version": "3.8.16"
  }
 },
 "nbformat": 4,
 "nbformat_minor": 5
}
