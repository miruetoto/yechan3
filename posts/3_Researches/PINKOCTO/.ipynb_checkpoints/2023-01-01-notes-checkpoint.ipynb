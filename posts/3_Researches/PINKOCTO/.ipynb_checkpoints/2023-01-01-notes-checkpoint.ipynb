{
 "cells": [
  {
   "cell_type": "raw",
   "id": "a13d0c2e-36b7-4c97-99ed-76c104383a50",
   "metadata": {},
   "source": [
    "---\n",
    "title: \"**[PINKOCTO]** 면담\"\n",
    "author: \"신록예찬\"\n",
    "date: \"01/01/2023\"\n",
    "format:\n",
    "  html: \n",
    "    code-tools:\n",
    "      source: https://github.com/miruetoto/yechan3/blob/main/posts/3_Researches/PINKOCTO/2023-01-01-notes.ipynb\n",
    "---"
   ]
  },
  {
   "cell_type": "markdown",
   "id": "d8db2dec-2470-44a3-a363-af98e31af295",
   "metadata": {},
   "source": [
    "**23-07-17**"
   ]
  },
  {
   "cell_type": "markdown",
   "id": "12c8a0d1-89cf-4635-8419-afda85b7cd7f",
   "metadata": {},
   "source": [
    "`-` 실험해볼것 (모형, 필터/lag, 에폭 변화하여서) 50번정도.. \n",
    "\n",
    "- 에폭이 적을수록 우리가 잘맞았음.\n",
    "- 필터나 lag도 단순할수록 괜찮았음 \n",
    "- lag은 24를 넘길 필요는 없음. \n",
    "- 필터는 64이상은 필요없는듯 "
   ]
  },
  {
   "cell_type": "markdown",
   "id": "4bcbb4e3-96b0-4ac2-b080-0ceb0d0482e2",
   "metadata": {},
   "source": [
    "`-` quarto 팁 "
   ]
  },
  {
   "cell_type": "markdown",
   "id": "3010779c-3163-4964-a94f-131927218fa5",
   "metadata": {},
   "source": [
    "```default\n",
    "quarto preview --host 210.117.173.182 --no-browser\n",
    "```"
   ]
  },
  {
   "cell_type": "code",
   "execution_count": 10,
   "id": "57f3ea1d-d720-4cc0-a4cf-d62363b677e4",
   "metadata": {},
   "outputs": [
    {
     "name": "stdout",
     "output_type": "stream",
     "text": [
      "[main 0401b9e] .\n",
      " 2 files changed, 150 insertions(+), 12 deletions(-)\n",
      "Enumerating objects: 13, done.\n",
      "Counting objects: 100% (13/13), done.\n",
      "Delta compression using up to 16 threads\n",
      "Compressing objects: 100% (7/7), done.\n",
      "Writing objects: 100% (7/7), 2.36 KiB | 2.36 MiB/s, done.\n",
      "Total 7 (delta 4), reused 0 (delta 0)\n",
      "remote: Resolving deltas: 100% (4/4), completed with 4 local objects.\u001b[K\n",
      "To https://github.com/miruetoto/yechan3.git\n",
      "   f7f488f..0401b9e  main -> main\n",
      "From https://github.com/miruetoto/yechan3\n",
      " * branch            gh-pages   -> FETCH_HEAD\n",
      "\u001b[1m\u001b[34mRendering for publish:\n",
      "\u001b[39m\u001b[22m\n",
      "[ 1/55] 2_pl.qmd\u001b[39m\u001b[22m\n",
      "[ 2/55] 2_pyg.qmd\u001b[39m\u001b[22m\n",
      "[ 3/55] 3_boram.qmd\u001b[39m\u001b[22m\n",
      "[ 4/55] posts/2_Studies/PyG/ls1.ipynb\u001b[39m\u001b[22m\n",
      "[ 5/55] posts/2_Studies/PyG/ls4.ipynb\u001b[39m\u001b[22m\n",
      "[ 6/55] posts/2_Studies/PyG/ls5.ipynb\u001b[39m\u001b[22m\n",
      "[ 7/55] posts/2_Studies/PyG/ls3.ipynb\u001b[39m\u001b[22m\n",
      "[ 8/55] posts/2_Studies/PyG/ls2.ipynb\u001b[39m\u001b[22m\n",
      "[ 9/55] posts/2_Studies/Reviews/2022-12-23-Ebayesthresh.ipynb\u001b[39m\u001b[22m\n",
      "[10/55] posts/2_Studies/CGSP/2022-12-24-Chap-8.3.ipynb\u001b[39m\u001b[22m\n",
      "[11/55] posts/2_Studies/CGSP/2022-12-27-Chap-12.2.1~12.3.1.ipynb\u001b[39m\u001b[22m\n",
      "[12/55] posts/2_Studies/CGSP/2023-01-15-Chap-12.4.ipynb\u001b[39m\u001b[22m\n",
      "[13/55] posts/2_Studies/CGSP/2022-12-26-Chap-12.2.ipynb\u001b[39m\u001b[22m\n",
      "[14/55] posts/2_Studies/PyTorchLightning/2022-11-29-Lesson1.ipynb\u001b[39m\u001b[22m\n",
      "[15/55] posts/4_Notes/2000-01-01-우분투 포맷 및 개발용 서버 셋팅.ipynb\u001b[39m\u001b[22m\n",
      "[16/55] posts/4_Notes/2000-01-06-주피터랩- 설정 및 몇가지 팁.ipynb\u001b[39m\u001b[22m\n",
      "[17/55] posts/4_Notes/2000-01-07-줄리아 설치 및 실행.ipynb\u001b[39m\u001b[22m\n",
      "[18/55] posts/4_Notes/2000-01-08-깃(Git).ipynb\u001b[39m\u001b[22m\n",
      "[19/55] posts/4_Notes/2000-01-04-우분투 익히기.ipynb\u001b[39m\u001b[22m\n",
      "[20/55] posts/3_Researches/PINKOCTO/2023-06-23-퓨리에변환4jy.ipynb\u001b[39m\u001b[22m\n",
      "[21/55] posts/3_Researches/PINKOCTO/2023-06-28-퓨리에변환(detailed).ipynb\u001b[39m\u001b[22m\n",
      "[22/55] posts/3_Researches/PINKOCTO/2023-01-01-notes.ipynb\u001b[39m\u001b[22m\n",
      "[23/55] posts/3_Researches/PINKOCTO/2023-05-13-추정 for JY.ipynb\u001b[39m\u001b[22m\n",
      "[WARNING] Citeproc: citation Thm not found\n",
      "[24/55] posts/3_Researches/PINKOCTO/2023-06-28-커널리그레션.ipynb\u001b[39m\u001b[22m\n",
      "[25/55] posts/3_Researches/PINKOCTO/SOLAR/2023-04-03-일사량.ipynb\u001b[39m\u001b[22m\n",
      "[26/55] posts/3_Researches/PINKOCTO/SOLAR/2023-04-04-EPT.ipynb\u001b[39m\u001b[22m\n",
      "[27/55] posts/3_Researches/BORAM/FRAUD/2023-07-01-CTGAN.ipynb\u001b[39m\u001b[22m\n",
      "[28/55] posts/3_Researches/BORAM/FRAUD/2023-07-02-CTGAN-TOY.ipynb\u001b[39m\u001b[22m\n",
      "[29/55] posts/3_Researches/BORAM/FRAUD/2023-05-24-try2변형.ipynb\u001b[39m\u001b[22m\n",
      "[30/55] posts/3_Researches/BORAM/FRAUD/2023-05-12-try1.ipynb\u001b[39m\u001b[22m\n",
      "[31/55] posts/3_Researches/BORAM/FRAUD/2023-05-06-start.ipynb\u001b[39m\u001b[22m\n",
      "[32/55] posts/3_Researches/BORAM/FRAUD/2023-07-03-CTGAN_신용카드.ipynb\u001b[39m\u001b[22m\n",
      "[33/55] posts/3_Researches/BORAM/FRAUD/2023-05-24-try1변형.ipynb\u001b[39m\u001b[22m\n",
      "[34/55] posts/3_Researches/BORAM/FRAUD/2023-05-19-try2.ipynb\u001b[39m\u001b[22m\n",
      "[35/55] posts/3_Researches/YEON/2023-02-14-수통문제-지수분포평균검정.ipynb\u001b[39m\u001b[22m\n",
      "[36/55] posts/3_Researches/YEON/ITSTGCN/2023-03-18-SimulationPlanner-Tutorial.ipynb\u001b[39m\u001b[22m\n",
      "[37/55] posts/3_Researches/YEON/ITSTGCN/2023-03-17-ITSTGCN-Tutorial.ipynb\u001b[39m\u001b[22m\n",
      "[38/55] posts/3_Researches/YEON/ITSTGCN/2022-12-29-STGCN-tutorial.ipynb\u001b[39m\u001b[22m\n",
      "[39/55] posts/3_Researches/YEON/ITSTGCN/2022-12-30-STGCN-Toy Example.ipynb\u001b[39m\u001b[22m\n",
      "[40/55] posts/3_Researches/YEON/ITSTGCN/2023-04-27-toy_example_figure2.ipynb\u001b[39m\u001b[22m\n",
      "[41/55] posts/3_Researches/YEON/ITSTGCN/2023-02-14-Tables.ipynb\u001b[39m\u001b[22m\n",
      "[42/55] posts/3_Researches/YEON/2023-03-01-수통문제-Type1 Err, Type2 Err.ipynb\u001b[39m\u001b[22m\n",
      "[43/55] posts/3_Researches/YECHAN/HST/2023-01-23-CommunityDetection.ipynb\u001b[39m\u001b[22m\n",
      "[44/55] posts/1_Essays/2023-07-04-토폴로지(1).ipynb\u001b[39m\u001b[22m\n",
      "[45/55] posts/1_Essays/2023-07-07-다중척도방법.ipynb\u001b[39m\u001b[22m\n",
      "[46/55] posts/1_Essays/2019-04-26-퓨리에변환.ipynb\u001b[39m\u001b[22m\n",
      "[47/55] posts/1_Essays/2023-01-20-추정.ipynb\u001b[39m\u001b[22m\n",
      "[48/55] 3_yechan.qmd\u001b[39m\u001b[22m\n",
      "[49/55] 3_pinkocto.qmd\u001b[39m\u001b[22m\n",
      "[50/55] 3_yeon.qmd\u001b[39m\u001b[22m\n",
      "[51/55] 2_reviews.qmd\u001b[39m\u001b[22m\n",
      "[52/55] 1_essays.qmd\u001b[39m\u001b[22m\n",
      "[53/55] 4_notes.qmd\u001b[39m\u001b[22m\n",
      "[54/55] 2_cgsp.qmd\u001b[39m\u001b[22m\n",
      "[55/55] index.qmd\u001b[39m\u001b[22m\n",
      "\n",
      "Preparing worktree (resetting branch 'gh-pages'; was at 7e0278e)\n",
      "Branch 'gh-pages' set up to track remote branch 'gh-pages' from 'origin'.\n",
      "HEAD is now at 7e0278e Built site for gh-pages\n",
      "[gh-pages a50e782] Built site for gh-pages\n",
      " 9 files changed, 1126 insertions(+), 342 deletions(-)\n",
      " create mode 100644 posts/3_Researches/PINKOCTO/2023-01-01-notes.html\n",
      "origin\thttps://github.com/miruetoto/yechan3.git (fetch)\n",
      "origin\thttps://github.com/miruetoto/yechan3.git (push)\n",
      "To https://github.com/miruetoto/yechan3.git\n",
      "   7e0278e..a50e782  HEAD -> gh-pages\n",
      "\n",
      "\u001b[33mNOTE: GitHub Pages sites use caching so you might need to click the refresh\n",
      "button within your web browser to see changes after deployment.\n",
      "\u001b[39m\n",
      "[✓] Published to https://miruetoto.github.io/yechan3/\n",
      "\n",
      "\u001b[33mNOTE: GitHub Pages deployments normally take a few minutes (your site updates\n",
      "will be visible once the deploy completes)\n",
      "\u001b[39m\n"
     ]
    }
   ],
   "source": [
    "!git add .\n",
    "!git commit -m .\n",
    "!git push \n",
    "!quarto publish --no-browser --no-prompt"
   ]
  },
  {
   "cell_type": "code",
   "execution_count": null,
   "id": "16435f91-c504-418f-bd2e-36290e4f9a90",
   "metadata": {},
   "outputs": [],
   "source": []
  }
 ],
 "metadata": {
  "kernelspec": {
   "display_name": "Python 3",
   "language": "python",
   "name": "python3"
  },
  "language_info": {
   "codemirror_mode": {
    "name": "ipython",
    "version": 3
   },
   "file_extension": ".py",
   "mimetype": "text/x-python",
   "name": "python",
   "nbconvert_exporter": "python",
   "pygments_lexer": "ipython3",
   "version": "3.8.16"
  }
 },
 "nbformat": 4,
 "nbformat_minor": 5
}
