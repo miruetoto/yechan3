{
 "cells": [
  {
   "cell_type": "raw",
   "id": "a13d0c2e-36b7-4c97-99ed-76c104383a50",
   "metadata": {},
   "source": [
    "---\n",
    "title: \"**[PINKOCTO]** 면담\"\n",
    "author: \"신록예찬\"\n",
    "date: \"01/01/2023\"\n",
    "---"
   ]
  },
  {
   "cell_type": "markdown",
   "id": "d8db2dec-2470-44a3-a363-af98e31af295",
   "metadata": {},
   "source": [
    "**23-07-17**"
   ]
  },
  {
   "cell_type": "markdown",
   "id": "12c8a0d1-89cf-4635-8419-afda85b7cd7f",
   "metadata": {},
   "source": [
    "`-` 실험해볼것 (모형, 필터/lag, 에폭 변화하여서) 50번정도.. \n",
    "\n",
    "- 에폭이 적을수록 우리가 잘맞았음.\n",
    "- 필터나 lag도 단순할수록 괜찮았음 \n",
    "- lag은 24를 넘길 필요는 없음. \n",
    "- 필터는 64이상은 필요없는듯 "
   ]
  },
  {
   "cell_type": "markdown",
   "id": "4bcbb4e3-96b0-4ac2-b080-0ceb0d0482e2",
   "metadata": {},
   "source": [
    "`-` quarto 팁 "
   ]
  },
  {
   "cell_type": "markdown",
   "id": "3010779c-3163-4964-a94f-131927218fa5",
   "metadata": {},
   "source": [
    "```default\n",
    "quarto preview --host 210.117.173.182 --no-browser\n",
    "```"
   ]
  },
  {
   "cell_type": "markdown",
   "id": "93cf3973-5420-4486-ab32-d67a433c72b5",
   "metadata": {},
   "source": [
    "`-` 파라메트릭 vs 넌파 vs 세미"
   ]
  },
  {
   "cell_type": "markdown",
   "id": "1a3d5d22-1496-407d-bc6e-1db7b89a34d7",
   "metadata": {},
   "source": [
    "`-` 비트시그널 "
   ]
  },
  {
   "cell_type": "markdown",
   "id": "365b5d45-2d98-4e6f-bc21-a1a8d28c0861",
   "metadata": {},
   "source": [
    "`-` 발표자료 + 페이퍼작업 "
   ]
  },
  {
   "cell_type": "markdown",
   "id": "299eb53b-25e4-4c86-b956-4310d75f2238",
   "metadata": {},
   "source": [
    "`-` 레퍼런스정리\n",
    "\n",
    "- GNN -> GCN / RGNN -> STGCN, ST-GCN  "
   ]
  }
 ],
 "metadata": {
  "kernelspec": {
   "display_name": "Python 3",
   "language": "python",
   "name": "python3"
  },
  "language_info": {
   "codemirror_mode": {
    "name": "ipython",
    "version": 3
   },
   "file_extension": ".py",
   "mimetype": "text/x-python",
   "name": "python",
   "nbconvert_exporter": "python",
   "pygments_lexer": "ipython3",
   "version": "3.8.16"
  }
 },
 "nbformat": 4,
 "nbformat_minor": 5
}
