{
 "cells": [
  {
   "cell_type": "raw",
   "id": "a1f32611-9cc8-4884-a51d-f466b6e553fe",
   "metadata": {},
   "source": [
    "---\n",
    "title: \"**[PINKOCTO]** 면담\"\n",
    "author: \"신록예찬\"\n",
    "date: \"01/01/2023\"\n",
    "---"
   ]
  },
  {
   "cell_type": "markdown",
   "id": "0f196b94-252a-4246-a5ec-bc66a22a60dc",
   "metadata": {},
   "source": [
    "**23-07-17**\n",
    "\n",
    "`-` 실험해볼것 (모형, 필터/lag, 에폭 변화하여서) 50번정도.. \n",
    "\n",
    "- 에폭이 적을수록 우리가 잘맞았음.\n",
    "- 필터나 lag도 단순할수록 괜찮았음 \n",
    "- lag은 24를 넘길 필요는 없음. \n",
    "- 필터는 64이상은 필요없는듯 \n",
    "\n",
    "`-` quarto 팁 \n",
    "\n",
    "```default\n",
    "quarto preview --host 210.117.173.182 --no-browser\n",
    "```\n",
    "\n",
    "`-` 파라메트릭 vs 넌파 vs 세미\n",
    "\n",
    "`-` 비트시그널 \n",
    "\n",
    "`-` 발표자료 + 페이퍼작업 \n",
    "\n",
    "`-` 레퍼런스정리\n",
    "\n",
    "- GNN -> GCN / RGNN -> STGCN, ST-GCN  "
   ]
  },
  {
   "cell_type": "markdown",
   "id": "7a903c25-bcfc-4871-9245-9525f095edc0",
   "metadata": {},
   "source": [
    "**23-07-20**\n",
    "\n",
    "`-` 라마: <https://www.youtube.com/watch?v=OZbarkziC14>\n",
    "\n",
    "`-` 저널 vs 학회: \n",
    "\n",
    "- 원래개념: SCIE (~10) >>>>>> SCIE (10~50) >> SCIE(50~) >>>>>>  KCI >> 컨퍼런스 \n",
    "- AI분야 한정: SCIE (~10), 일부top컨퍼런스 (NIPS, AAAI, ICML, ICLR)  >>>>>> SCIE (10~50) >> SCIE(50~) >>>>>> KCI >> 컨퍼런스 \n",
    "\n",
    "`-` 오타발견시알려주세요\n",
    "\n",
    "- <https://guebin.github.io/PP2023SUM/>"
   ]
  },
  {
   "cell_type": "markdown",
   "id": "59fc023c-375b-4585-a16f-40f815e4a855",
   "metadata": {},
   "source": [
    "**23-08-14**"
   ]
  },
  {
   "cell_type": "markdown",
   "id": "e20fc8fe-4747-4100-8599-8fee2c57f6a8",
   "metadata": {},
   "source": [
    "논문쓰는 방법 "
   ]
  },
  {
   "cell_type": "markdown",
   "id": "4109bffa-5c6d-4865-9443-ec8936a1d1c9",
   "metadata": {},
   "source": [
    "`1`. introduction = motivating ex (원래 반반) \n",
    "\n",
    "- motivating ex 로 시작할수도 있고 --> 방법론에 강점이 있을때 \n",
    "- solar enery에 대한 개론으로 시작 --> 데이터가 자신있을 경우 \n",
    "- 담백하게 (1) goal (2) method (3) contribution --> 이론적인 측면에 자신이 있을때 \n",
    "**꼭 들어가야 하는 것** \n",
    "- 구성 // Graphical abstract \n",
    "- 기존방법과 차이점 (*)\n",
    "￼\n",
    "\n",
    "`2`. review existing methods (원래 지윤학생, 수틀리면 내가) \n",
    "\n",
    "- RGCN 까지 이어지는 연구흐름을 간략하게 소개 \n",
    "\n",
    "`3`. proposed method (원래 지윤학생이 해야하는데, 안되면 내가) \n",
    "\n",
    "- 우리가 제안하는 방법이 기존과 무엇이 다르냐? \n",
    "- 수식, 알고리즘, 이론적 백그라운드 \n",
    "\n",
    "`4`. simulation study (연구의 꽃) \n",
    "- beat signal \n",
    "- priodic signal  * low-freq amplitude signal  꼴의 신호의 분해 \n",
    "- 시뮬레이션 데이터를 고안 + 결과를 입증 \n",
    "\n",
    "`5`. real-data analysis (지윤학생이 거의다 해야함) \n",
    "- 일사량자료 분석 결과 \n",
    "- 우리가 제인한방법 + 기존의 방법들 -> 퍼포먼스 비교 \n",
    "    - 데이터설명 \n",
    "    - 데이터는 어디에서 얻었는지, 언제부터 언제까지인지, 데이터의 특징 (주기성을 가진다. 0인 값이 많다) \n",
    "    - 그림을 보여줘야함\n",
    "\n",
    "`6`. conclusion & future works & limitations & 어디에 활용 \n",
    "\n",
    "- 결론: 좋은 분석이었다.. \n",
    "- 한계: 어떠한 점에 한계가 있다. -> 향후연구: 향후에는 어떤연구로 발전할 것이다.. (다른변수를 고려해서 할 예정이다) \n",
    "- 활용: 주기성을 가진 어떠한 자료도 우리의 방법을 사용하면 잘 예측할수있어요.. "
   ]
  }
 ],
 "metadata": {
  "kernelspec": {
   "display_name": "Python 3 (ipykernel)",
   "language": "python",
   "name": "python3"
  },
  "language_info": {
   "codemirror_mode": {
    "name": "ipython",
    "version": 3
   },
   "file_extension": ".py",
   "mimetype": "text/x-python",
   "name": "python",
   "nbconvert_exporter": "python",
   "pygments_lexer": "ipython3",
   "version": "3.11.4"
  }
 },
 "nbformat": 4,
 "nbformat_minor": 5
}
