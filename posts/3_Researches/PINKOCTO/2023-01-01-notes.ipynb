{
 "cells": [
  {
   "cell_type": "raw",
   "id": "a13d0c2e-36b7-4c97-99ed-76c104383a50",
   "metadata": {},
   "source": [
    "---\n",
    "title: \"**[PINKOCTO]** 면담\"\n",
    "author: \"신록예찬\"\n",
    "date: \"01/01/2023\"\n",
    "format:\n",
    "  html: \n",
    "    code-tools:\n",
    "      source: https://github.com/miruetoto/yechan3/blob/main/posts/3_Researches/PINKOCTO\n",
    "/2023-01-01-notes.ipynb\n",
    "---"
   ]
  },
  {
   "cell_type": "markdown",
   "id": "d8db2dec-2470-44a3-a363-af98e31af295",
   "metadata": {},
   "source": [
    "**23-07-17**"
   ]
  },
  {
   "cell_type": "markdown",
   "id": "3010779c-3163-4964-a94f-131927218fa5",
   "metadata": {},
   "source": [
    "quarto preview --host 210.117.173.182 --no-browser"
   ]
  },
  {
   "cell_type": "code",
   "execution_count": null,
   "id": "57f3ea1d-d720-4cc0-a4cf-d62363b677e4",
   "metadata": {},
   "outputs": [],
   "source": []
  }
 ],
 "metadata": {
  "kernelspec": {
   "display_name": "Python 3",
   "language": "python",
   "name": "python3"
  },
  "language_info": {
   "codemirror_mode": {
    "name": "ipython",
    "version": 3
   },
   "file_extension": ".py",
   "mimetype": "text/x-python",
   "name": "python",
   "nbconvert_exporter": "python",
   "pygments_lexer": "ipython3",
   "version": "3.8.16"
  }
 },
 "nbformat": 4,
 "nbformat_minor": 5
}
