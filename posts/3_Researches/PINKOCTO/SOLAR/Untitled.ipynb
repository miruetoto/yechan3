{
 "cells": [
  {
   "cell_type": "markdown",
   "id": "9c14dff7-1068-45d9-b0c2-6c45ef4a0338",
   "metadata": {},
   "source": [
    "ㅁㄴㅇㄹㅁㄴㅇㄹ"
   ]
  },
  {
   "cell_type": "code",
   "execution_count": null,
   "id": "e46e5211-9557-46e6-b850-b76c0843bccd",
   "metadata": {},
   "outputs": [],
   "source": []
  },
  {
   "cell_type": "code",
   "execution_count": null,
   "id": "29a5c9e3-d671-4466-ba47-3b8d4726b6e6",
   "metadata": {},
   "outputs": [],
   "source": []
  },
  {
   "cell_type": "code",
   "execution_count": null,
   "id": "62175428-0b7f-4ace-a032-852c9294ea87",
   "metadata": {},
   "outputs": [],
   "source": []
  }
 ],
 "metadata": {
  "kernelspec": {
   "display_name": "Python 3 (ipykernel)",
   "language": "python",
   "name": "python3"
  },
  "language_info": {
   "codemirror_mode": {
    "name": "ipython",
    "version": 3
   },
   "file_extension": ".py",
   "mimetype": "text/x-python",
   "name": "python",
   "nbconvert_exporter": "python",
   "pygments_lexer": "ipython3",
   "version": "3.11.4"
  }
 },
 "nbformat": 4,
 "nbformat_minor": 5
}
