{
 "cells": [
  {
   "cell_type": "raw",
   "id": "e259acd2-0e23-4b0d-8c73-b6bb6d4a3bf6",
   "metadata": {},
   "source": [
    "---\n",
    "title: \"**[EPT-DISSIM]** 진행사항\"\n",
    "author: \"신록예찬\"\n",
    "date: \"08/08/2023\"\n",
    "---"
   ]
  },
  {
   "cell_type": "markdown",
   "id": "ee35ee96-1cf3-4e99-a28c-97385b6ebd8b",
   "metadata": {},
   "source": [
    "# 진행사항 "
   ]
  },
  {
   "cell_type": "code",
   "execution_count": null,
   "id": "5d800e09-10e8-4367-8eb3-4410a8c7c84b",
   "metadata": {},
   "outputs": [],
   "source": []
  }
 ],
 "metadata": {
  "kernelspec": {
   "display_name": "Python 3 (ipykernel)",
   "language": "python",
   "name": "python3"
  },
  "language_info": {
   "codemirror_mode": {
    "name": "ipython",
    "version": 3
   },
   "file_extension": ".py",
   "mimetype": "text/x-python",
   "name": "python",
   "nbconvert_exporter": "python",
   "pygments_lexer": "ipython3",
   "version": "3.11.4"
  }
 },
 "nbformat": 4,
 "nbformat_minor": 5
}
