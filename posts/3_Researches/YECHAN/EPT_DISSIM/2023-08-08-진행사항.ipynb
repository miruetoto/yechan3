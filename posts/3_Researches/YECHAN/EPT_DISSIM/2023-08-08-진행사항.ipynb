{
 "cells": [
  {
   "cell_type": "raw",
   "id": "e259acd2-0e23-4b0d-8c73-b6bb6d4a3bf6",
   "metadata": {},
   "source": [
    "---\n",
    "title: \"**[EPT-DISSIM]** 진행사항\"\n",
    "author: \"신록예찬\"\n",
    "date: \"08/08/2023\"\n",
    "---"
   ]
  },
  {
   "cell_type": "markdown",
   "id": "ee35ee96-1cf3-4e99-a28c-97385b6ebd8b",
   "metadata": {},
   "source": [
    "# 진행사항 "
   ]
  },
  {
   "cell_type": "markdown",
   "id": "5a6e5d82-bb80-4bac-821f-03550b1c6069",
   "metadata": {},
   "source": [
    "[EPT_DISSIM: visualization (23.08.07)](http://210.117.173.182:1234/edit?id=052453a8-34d4-11ee-165e-7ffd8280ca58#)\n",
    "\n",
    "- PRCP_KOR 자료에 대한 시각화 "
   ]
  }
 ],
 "metadata": {
  "kernelspec": {
   "display_name": "Python 3 (ipykernel)",
   "language": "python",
   "name": "python3"
  },
  "language_info": {
   "codemirror_mode": {
    "name": "ipython",
    "version": 3
   },
   "file_extension": ".py",
   "mimetype": "text/x-python",
   "name": "python",
   "nbconvert_exporter": "python",
   "pygments_lexer": "ipython3",
   "version": "3.11.4"
  }
 },
 "nbformat": 4,
 "nbformat_minor": 5
}
