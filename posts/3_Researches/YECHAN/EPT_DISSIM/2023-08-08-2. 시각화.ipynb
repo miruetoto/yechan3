{
 "cells": [
  {
   "cell_type": "raw",
   "id": "f81fc97f-9f09-4a95-836a-2917961e7869",
   "metadata": {},
   "source": [
    "---\n",
    "title: \"**[EPT-DISSIM]** 2. 시각화\"\n",
    "author: \"신록예찬\"\n",
    "date: \"08/08/2023\"\n",
    "---"
   ]
  },
  {
   "cell_type": "code",
   "execution_count": 11,
   "id": "39261e06-d0f1-44e1-a414-2946b381342a",
   "metadata": {},
   "outputs": [],
   "source": [
    "import pandas as pd"
   ]
  },
  {
   "cell_type": "code",
   "execution_count": 16,
   "id": "dea57c0b-481b-4de6-a5bc-365fbbae770b",
   "metadata": {},
   "outputs": [
    {
     "data": {
      "text/html": [
       "<div>\n",
       "<style scoped>\n",
       "    .dataframe tbody tr th:only-of-type {\n",
       "        vertical-align: middle;\n",
       "    }\n",
       "\n",
       "    .dataframe tbody tr th {\n",
       "        vertical-align: top;\n",
       "    }\n",
       "\n",
       "    .dataframe thead th {\n",
       "        text-align: right;\n",
       "    }\n",
       "</style>\n",
       "<table border=\"1\" class=\"dataframe\">\n",
       "  <thead>\n",
       "    <tr style=\"text-align: right;\">\n",
       "      <th></th>\n",
       "      <th>SUBDIVISION</th>\n",
       "      <th>YEAR</th>\n",
       "      <th>MONTH</th>\n",
       "      <th>PRECIPITATION</th>\n",
       "      <th>YM</th>\n",
       "    </tr>\n",
       "  </thead>\n",
       "  <tbody>\n",
       "    <tr>\n",
       "      <th>0</th>\n",
       "      <td>ANDAMAN &amp; NICOBAR ISLANDS</td>\n",
       "      <td>1901</td>\n",
       "      <td>1</td>\n",
       "      <td>49.2</td>\n",
       "      <td>1901-01-01</td>\n",
       "    </tr>\n",
       "    <tr>\n",
       "      <th>1</th>\n",
       "      <td>ANDAMAN &amp; NICOBAR ISLANDS</td>\n",
       "      <td>1901</td>\n",
       "      <td>2</td>\n",
       "      <td>87.1</td>\n",
       "      <td>1901-02-01</td>\n",
       "    </tr>\n",
       "    <tr>\n",
       "      <th>2</th>\n",
       "      <td>ANDAMAN &amp; NICOBAR ISLANDS</td>\n",
       "      <td>1901</td>\n",
       "      <td>3</td>\n",
       "      <td>29.2</td>\n",
       "      <td>1901-03-01</td>\n",
       "    </tr>\n",
       "    <tr>\n",
       "      <th>3</th>\n",
       "      <td>ANDAMAN &amp; NICOBAR ISLANDS</td>\n",
       "      <td>1901</td>\n",
       "      <td>4</td>\n",
       "      <td>2.3</td>\n",
       "      <td>1901-04-01</td>\n",
       "    </tr>\n",
       "    <tr>\n",
       "      <th>4</th>\n",
       "      <td>ANDAMAN &amp; NICOBAR ISLANDS</td>\n",
       "      <td>1901</td>\n",
       "      <td>5</td>\n",
       "      <td>528.8</td>\n",
       "      <td>1901-05-01</td>\n",
       "    </tr>\n",
       "    <tr>\n",
       "      <th>...</th>\n",
       "      <td>...</td>\n",
       "      <td>...</td>\n",
       "      <td>...</td>\n",
       "      <td>...</td>\n",
       "      <td>...</td>\n",
       "    </tr>\n",
       "    <tr>\n",
       "      <th>49317</th>\n",
       "      <td>LAKSHADWEEP</td>\n",
       "      <td>2015</td>\n",
       "      <td>8</td>\n",
       "      <td>146.4</td>\n",
       "      <td>2015-08-01</td>\n",
       "    </tr>\n",
       "    <tr>\n",
       "      <th>49318</th>\n",
       "      <td>LAKSHADWEEP</td>\n",
       "      <td>2015</td>\n",
       "      <td>9</td>\n",
       "      <td>160.4</td>\n",
       "      <td>2015-09-01</td>\n",
       "    </tr>\n",
       "    <tr>\n",
       "      <th>49319</th>\n",
       "      <td>LAKSHADWEEP</td>\n",
       "      <td>2015</td>\n",
       "      <td>10</td>\n",
       "      <td>165.4</td>\n",
       "      <td>2015-10-01</td>\n",
       "    </tr>\n",
       "    <tr>\n",
       "      <th>49320</th>\n",
       "      <td>LAKSHADWEEP</td>\n",
       "      <td>2015</td>\n",
       "      <td>11</td>\n",
       "      <td>231.0</td>\n",
       "      <td>2015-11-01</td>\n",
       "    </tr>\n",
       "    <tr>\n",
       "      <th>49321</th>\n",
       "      <td>LAKSHADWEEP</td>\n",
       "      <td>2015</td>\n",
       "      <td>12</td>\n",
       "      <td>159.0</td>\n",
       "      <td>2015-12-01</td>\n",
       "    </tr>\n",
       "  </tbody>\n",
       "</table>\n",
       "<p>49322 rows × 5 columns</p>\n",
       "</div>"
      ],
      "text/plain": [
       "                     SUBDIVISION  YEAR  MONTH  PRECIPITATION          YM\n",
       "0      ANDAMAN & NICOBAR ISLANDS  1901      1           49.2  1901-01-01\n",
       "1      ANDAMAN & NICOBAR ISLANDS  1901      2           87.1  1901-02-01\n",
       "2      ANDAMAN & NICOBAR ISLANDS  1901      3           29.2  1901-03-01\n",
       "3      ANDAMAN & NICOBAR ISLANDS  1901      4            2.3  1901-04-01\n",
       "4      ANDAMAN & NICOBAR ISLANDS  1901      5          528.8  1901-05-01\n",
       "...                          ...   ...    ...            ...         ...\n",
       "49317                LAKSHADWEEP  2015      8          146.4  2015-08-01\n",
       "49318                LAKSHADWEEP  2015      9          160.4  2015-09-01\n",
       "49319                LAKSHADWEEP  2015     10          165.4  2015-10-01\n",
       "49320                LAKSHADWEEP  2015     11          231.0  2015-11-01\n",
       "49321                LAKSHADWEEP  2015     12          159.0  2015-12-01\n",
       "\n",
       "[49322 rows x 5 columns]"
      ]
     },
     "execution_count": 16,
     "metadata": {},
     "output_type": "execute_result"
    }
   ],
   "source": [
    "df = pd.read_csv('https://media.githubusercontent.com/media/miruetoto/yechan3/main/posts/3_Researches/YECHAN/EPT_DISSIM/india_tidy.csv')\n",
    "df"
   ]
  },
  {
   "cell_type": "markdown",
   "id": "b0ad8f82-63e8-4298-8e0d-579be7117c71",
   "metadata": {},
   "source": [
    "# plot all data "
   ]
  },
  {
   "cell_type": "code",
   "execution_count": 17,
   "id": "c74a8658-9886-484a-83bf-ce2db6946801",
   "metadata": {},
   "outputs": [
    {
     "data": {
      "text/plain": [
       "0        ANDAMAN & NICOBAR ISLANDS\n",
       "1        ANDAMAN & NICOBAR ISLANDS\n",
       "2        ANDAMAN & NICOBAR ISLANDS\n",
       "3        ANDAMAN & NICOBAR ISLANDS\n",
       "4        ANDAMAN & NICOBAR ISLANDS\n",
       "                   ...            \n",
       "49317                  LAKSHADWEEP\n",
       "49318                  LAKSHADWEEP\n",
       "49319                  LAKSHADWEEP\n",
       "49320                  LAKSHADWEEP\n",
       "49321                  LAKSHADWEEP\n",
       "Name: SUBDIVISION, Length: 49322, dtype: object"
      ]
     },
     "execution_count": 17,
     "metadata": {},
     "output_type": "execute_result"
    }
   ],
   "source": [
    "df.SUBDIVISION"
   ]
  },
  {
   "cell_type": "code",
   "execution_count": null,
   "id": "8f9094c7-b92f-4a19-a693-06867ae55716",
   "metadata": {},
   "outputs": [],
   "source": []
  }
 ],
 "metadata": {
  "kernelspec": {
   "display_name": "Python 3 (ipykernel)",
   "language": "python",
   "name": "python3"
  },
  "language_info": {
   "codemirror_mode": {
    "name": "ipython",
    "version": 3
   },
   "file_extension": ".py",
   "mimetype": "text/x-python",
   "name": "python",
   "nbconvert_exporter": "python",
   "pygments_lexer": "ipython3",
   "version": "3.11.4"
  }
 },
 "nbformat": 4,
 "nbformat_minor": 5
}
