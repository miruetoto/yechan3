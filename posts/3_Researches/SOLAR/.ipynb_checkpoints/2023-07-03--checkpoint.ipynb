{
 "cells": [
  {
   "cell_type": "markdown",
   "id": "9fff5e72-a973-4133-8f86-395ba01279bb",
   "metadata": {},
   "source": [
    "weight \n",
    "1. Corr \n",
    "2. EPT \n",
    "3. 사용자가 임의로 \n",
    "4. 단위행렬\n",
    "\n",
    "loss\n",
    "1. (y-yhat)(y-yhat)' <-- STGCN 잘못된 코드 \n",
    "2. (y-yhat)'(y-yhat) <-- STGCN 에서 수정된 loss \n",
    "3. (y-yhat)(y-yhat)' * W <-- 제안하는 방법 \n",
    "\n",
    "weight-loss (부등호의 의미는 더 MSE가 낮게나오는 조합)\n",
    "1-1 < 2-1 ==> 1-3 < 2-3 ===> 4-3 < 1-3 < 3-3 \n",
    "\n",
    "\n",
    "3-2 > 3-3 \n",
    "4-2 < 4-3 \n",
    "\n",
    "1, 인트로\n",
    "2. existing method \n",
    "3. proposed method \n",
    "4. simulation \n",
    "5. real data \n"
   ]
  }
 ],
 "metadata": {
  "kernelspec": {
   "display_name": "Python 3 (ipykernel)",
   "language": "python",
   "name": "python3"
  },
  "language_info": {
   "codemirror_mode": {
    "name": "ipython",
    "version": 3
   },
   "file_extension": ".py",
   "mimetype": "text/x-python",
   "name": "python",
   "nbconvert_exporter": "python",
   "pygments_lexer": "ipython3",
   "version": "3.10.11"
  }
 },
 "nbformat": 4,
 "nbformat_minor": 5
}
