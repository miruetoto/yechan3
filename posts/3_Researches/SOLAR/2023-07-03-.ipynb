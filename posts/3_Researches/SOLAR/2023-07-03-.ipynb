{
 "cells": [
  {
   "cell_type": "raw",
   "id": "8f9d598c-6090-4216-bca4-cfd6eff16dcc",
   "metadata": {},
   "source": [
    "---\n",
    "title: \"**[SOLAR]** 연구전략 \"\n",
    "author: \"신록예찬\"\n",
    "date: \"04/04/2023\"\n",
    "---"
   ]
  },
  {
   "cell_type": "markdown",
   "id": "9fff5e72-a973-4133-8f86-395ba01279bb",
   "metadata": {},
   "source": [
    "weight \n",
    "1. Corr \n",
    "2. EPT \n",
    "3. 사용자가 임의로 \n",
    "4. 단위행렬\n",
    "\n",
    "loss\n",
    "1. (y-yhat)(y-yhat)' <-- STGCN 잘못된 코드 \n",
    "2. (y-yhat)'(y-yhat) <-- STGCN 에서 수정된 loss \n",
    "3. (y-yhat)(y-yhat)' * W <-- 제안하는 방법 "
   ]
  }
 ],
 "metadata": {
  "kernelspec": {
   "display_name": "Python 3",
   "language": "python",
   "name": "python3"
  },
  "language_info": {
   "codemirror_mode": {
    "name": "ipython",
    "version": 3
   },
   "file_extension": ".py",
   "mimetype": "text/x-python",
   "name": "python",
   "nbconvert_exporter": "python",
   "pygments_lexer": "ipython3",
   "version": "3.8.16"
  }
 },
 "nbformat": 4,
 "nbformat_minor": 5
}
