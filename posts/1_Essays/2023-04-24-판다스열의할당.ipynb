{
 "cells": [
  {
   "cell_type": "raw",
   "id": "39e50c2d-58de-4029-b3a1-ed005615a7dc",
   "metadata": {},
   "source": [
    "---\n",
    "title: \"**[Essays]** 판다스 intro\"\n",
    "author: \"신록예찬\"\n",
    "date: \"04/18/2023\"\n",
    "---"
   ]
  },
  {
   "cell_type": "markdown",
   "id": "0c562b8f-7133-4ffc-a4a3-2c75c1b38cd1",
   "metadata": {},
   "source": [
    "# import "
   ]
  },
  {
   "cell_type": "code",
   "execution_count": 7,
   "id": "6935c632-5966-4ca2-aa02-6e56f7ccba3f",
   "metadata": {},
   "outputs": [],
   "source": [
    "import numpy as np\n",
    "import pandas as pd"
   ]
  },
  {
   "cell_type": "markdown",
   "id": "3c52c57f-ced2-4555-b82d-2b05ec534f55",
   "metadata": {},
   "source": [
    "# 부분 데이터 꺼내기: 판다스를 왜 써야할까? "
   ]
  },
  {
   "cell_type": "markdown",
   "id": "9e60cca5",
   "metadata": {},
   "source": [
    "`-` 예시1: 때로는 인덱스로 때로는 key로 데이터를 부르고 싶다. "
   ]
  },
  {
   "cell_type": "code",
   "execution_count": 56,
   "id": "e62cddbb",
   "metadata": {},
   "outputs": [],
   "source": [
    "np.random.seed(43052)\n",
    "att = np.random.choice(np.arange(10,21)*5,20)\n",
    "rep = np.random.choice(np.arange(5,21)*5,20)\n",
    "mid = np.random.choice(np.arange(0,21)*5,20)\n",
    "fin = np.random.choice(np.arange(0,21)*5,20)\n",
    "key = ['2022-12'+str(s) for s in np.random.choice(np.arange(300,501),20,replace=False)]"
   ]
  },
  {
   "cell_type": "code",
   "execution_count": 57,
   "id": "2cdf09cd",
   "metadata": {},
   "outputs": [],
   "source": [
    "arr = np.array([key,att,rep,mid,fin]).T\n",
    "dct = {'att':{key[i]:att[i] for i in range(20)}, \n",
    "       'rep':{key[i]:rep[i] for i in range(20)},\n",
    "       'mid':{key[i]:mid[i] for i in range(20)},\n",
    "       'fin':{key[i]:fin[i] for i in range(20)}}"
   ]
  },
  {
   "cell_type": "markdown",
   "id": "81214107-b120-4dc3-acd8-d36a870eb559",
   "metadata": {},
   "source": [
    "학번 '202212471'에 해당하는 학생의 출석점수를 알고 싶다면? "
   ]
  },
  {
   "cell_type": "markdown",
   "id": "025ff5b9-4e13-47bf-bc57-06d7d1c4a70c",
   "metadata": {},
   "source": [
    "(풀이1)"
   ]
  },
  {
   "cell_type": "code",
   "execution_count": 59,
   "id": "0bc5f7f9-f5cd-4093-bc1a-ed2d53267817",
   "metadata": {},
   "outputs": [
    {
     "data": {
      "text/plain": [
       "60"
      ]
     },
     "execution_count": 59,
     "metadata": {},
     "output_type": "execute_result"
    }
   ],
   "source": [
    "dct['att']['2022-12471']"
   ]
  },
  {
   "cell_type": "markdown",
   "id": "2a9ac347-1fa2-4234-9f62-4a5232177d6d",
   "metadata": {},
   "source": [
    "(풀이2)"
   ]
  },
  {
   "cell_type": "code",
   "execution_count": 60,
   "id": "08a0b059",
   "metadata": {},
   "outputs": [
    {
     "data": {
      "text/plain": [
       "array(['60'], dtype='<U21')"
      ]
     },
     "execution_count": 60,
     "metadata": {},
     "output_type": "execute_result"
    }
   ],
   "source": [
    "arr[arr[:,0] == '2022-12471', 1]"
   ]
  },
  {
   "cell_type": "markdown",
   "id": "9d3851a5-7485-418a-95aa-76323b9b7c4d",
   "metadata": {},
   "source": [
    "**(풀이2)가 (풀이1)에 비하여 불편한 점**\n",
    "\n",
    "- arr 첫칼럼 student id 이고 두번째 칼럼은 att라는 사실을 암기하고 있어야 한다. \n",
    "- student id가 아니고 만약에 학생이름을 써서 데이터를 정리한다면 모든 자료형은 문자형이 되어야 한다. \n",
    "- 작성한 코드의 가독성이 없다. (위치로 접근하기 때문) "
   ]
  },
  {
   "cell_type": "markdown",
   "id": "197caca0-57d5-40e7-9fea-3f281e0b4d01",
   "metadata": {},
   "source": [
    "`-` 요약: hash 스타일로 정보를 추출하는 것이 유용할 때가 있다. 그리고 보통 hash 스타일로 정보를 뽑는 것이 유리하다. (사실 numpy는 정보추출을 위해 개발된 자료형이 아니라 행렬 및 벡터의 수학연산을 지원하기 위해 개발된 자료형이다) "
   ]
  },
  {
   "cell_type": "markdown",
   "id": "fe2cb5ca-d51a-4536-a5f5-10e32c029885",
   "metadata": {},
   "source": [
    "`-` 소망: 정보를 추출할때는 hash 스타일도 유용하다는 것은 이해함 $\\to$ 하지만 나는 가끔 넘파이스타일로 정보를 뽑고 싶은걸? 그리고 딕셔너리 형태가 아니고 엑셀처럼(행렬처럼) 데이터를 보고 싶은걸? $\\to$ pandas의 개발"
   ]
  },
  {
   "cell_type": "markdown",
   "id": "92488442-be2c-4bdd-bede-1d5960b985ee",
   "metadata": {},
   "source": [
    "# pandas 개발동기 "
   ]
  },
  {
   "cell_type": "markdown",
   "id": "8471711b-d444-4c77-adb2-404a4aebf74d",
   "metadata": {},
   "source": [
    "## 엑셀처럼 데이터를 테이블 형태로 정리하고 싶다 "
   ]
  },
  {
   "cell_type": "markdown",
   "id": "8fd22a8d-380b-41b4-9786-a003084f04a1",
   "metadata": {},
   "source": [
    "(방법1) -- 행렬이기는 하지만 방법 2,3,4,5 에 비하여 우리가 원하는 만큼 가독성을 주는 형태는 아님.. "
   ]
  },
  {
   "cell_type": "code",
   "execution_count": 61,
   "id": "a702255b-88f2-40c1-97dc-22b343fe9983",
   "metadata": {},
   "outputs": [
    {
     "data": {
      "text/plain": [
       "array([['2022-12380', '65', '55', '50', '40'],\n",
       "       ['2022-12370', '95', '100', '50', '80'],\n",
       "       ['2022-12363', '65', '90', '60', '30'],\n",
       "       ['2022-12488', '55', '80', '75', '80'],\n",
       "       ['2022-12312', '80', '30', '30', '100'],\n",
       "       ['2022-12377', '75', '40', '100', '15'],\n",
       "       ['2022-12463', '65', '45', '45', '90'],\n",
       "       ['2022-12471', '60', '60', '25', '0'],\n",
       "       ['2022-12400', '95', '65', '20', '10'],\n",
       "       ['2022-12469', '90', '80', '80', '20'],\n",
       "       ['2022-12318', '55', '75', '35', '25'],\n",
       "       ['2022-12432', '95', '95', '45', '0'],\n",
       "       ['2022-12443', '95', '55', '15', '35'],\n",
       "       ['2022-12367', '50', '80', '40', '30'],\n",
       "       ['2022-12458', '50', '55', '15', '85'],\n",
       "       ['2022-12396', '95', '30', '30', '95'],\n",
       "       ['2022-12482', '50', '50', '45', '10'],\n",
       "       ['2022-12452', '65', '55', '15', '45'],\n",
       "       ['2022-12387', '70', '70', '40', '35'],\n",
       "       ['2022-12354', '90', '90', '80', '90']], dtype='<U21')"
      ]
     },
     "execution_count": 61,
     "metadata": {},
     "output_type": "execute_result"
    }
   ],
   "source": [
    "arr"
   ]
  },
  {
   "cell_type": "markdown",
   "id": "76618200-5c17-40ae-99d7-b01b018d5a82",
   "metadata": {},
   "source": [
    "(방법2) "
   ]
  },
  {
   "cell_type": "code",
   "execution_count": 65,
   "id": "a6d6134f-fa39-4844-a557-a21b6734726a",
   "metadata": {},
   "outputs": [
    {
     "data": {
      "text/html": [
       "<div>\n",
       "<style scoped>\n",
       "    .dataframe tbody tr th:only-of-type {\n",
       "        vertical-align: middle;\n",
       "    }\n",
       "\n",
       "    .dataframe tbody tr th {\n",
       "        vertical-align: top;\n",
       "    }\n",
       "\n",
       "    .dataframe thead th {\n",
       "        text-align: right;\n",
       "    }\n",
       "</style>\n",
       "<table border=\"1\" class=\"dataframe\">\n",
       "  <thead>\n",
       "    <tr style=\"text-align: right;\">\n",
       "      <th></th>\n",
       "      <th>att</th>\n",
       "      <th>rep</th>\n",
       "      <th>mid</th>\n",
       "      <th>fin</th>\n",
       "    </tr>\n",
       "  </thead>\n",
       "  <tbody>\n",
       "    <tr>\n",
       "      <th>2022-12380</th>\n",
       "      <td>65</td>\n",
       "      <td>55</td>\n",
       "      <td>50</td>\n",
       "      <td>40</td>\n",
       "    </tr>\n",
       "    <tr>\n",
       "      <th>2022-12370</th>\n",
       "      <td>95</td>\n",
       "      <td>100</td>\n",
       "      <td>50</td>\n",
       "      <td>80</td>\n",
       "    </tr>\n",
       "    <tr>\n",
       "      <th>2022-12363</th>\n",
       "      <td>65</td>\n",
       "      <td>90</td>\n",
       "      <td>60</td>\n",
       "      <td>30</td>\n",
       "    </tr>\n",
       "    <tr>\n",
       "      <th>2022-12488</th>\n",
       "      <td>55</td>\n",
       "      <td>80</td>\n",
       "      <td>75</td>\n",
       "      <td>80</td>\n",
       "    </tr>\n",
       "    <tr>\n",
       "      <th>2022-12312</th>\n",
       "      <td>80</td>\n",
       "      <td>30</td>\n",
       "      <td>30</td>\n",
       "      <td>100</td>\n",
       "    </tr>\n",
       "    <tr>\n",
       "      <th>2022-12377</th>\n",
       "      <td>75</td>\n",
       "      <td>40</td>\n",
       "      <td>100</td>\n",
       "      <td>15</td>\n",
       "    </tr>\n",
       "    <tr>\n",
       "      <th>2022-12463</th>\n",
       "      <td>65</td>\n",
       "      <td>45</td>\n",
       "      <td>45</td>\n",
       "      <td>90</td>\n",
       "    </tr>\n",
       "    <tr>\n",
       "      <th>2022-12471</th>\n",
       "      <td>60</td>\n",
       "      <td>60</td>\n",
       "      <td>25</td>\n",
       "      <td>0</td>\n",
       "    </tr>\n",
       "    <tr>\n",
       "      <th>2022-12400</th>\n",
       "      <td>95</td>\n",
       "      <td>65</td>\n",
       "      <td>20</td>\n",
       "      <td>10</td>\n",
       "    </tr>\n",
       "    <tr>\n",
       "      <th>2022-12469</th>\n",
       "      <td>90</td>\n",
       "      <td>80</td>\n",
       "      <td>80</td>\n",
       "      <td>20</td>\n",
       "    </tr>\n",
       "    <tr>\n",
       "      <th>2022-12318</th>\n",
       "      <td>55</td>\n",
       "      <td>75</td>\n",
       "      <td>35</td>\n",
       "      <td>25</td>\n",
       "    </tr>\n",
       "    <tr>\n",
       "      <th>2022-12432</th>\n",
       "      <td>95</td>\n",
       "      <td>95</td>\n",
       "      <td>45</td>\n",
       "      <td>0</td>\n",
       "    </tr>\n",
       "    <tr>\n",
       "      <th>2022-12443</th>\n",
       "      <td>95</td>\n",
       "      <td>55</td>\n",
       "      <td>15</td>\n",
       "      <td>35</td>\n",
       "    </tr>\n",
       "    <tr>\n",
       "      <th>2022-12367</th>\n",
       "      <td>50</td>\n",
       "      <td>80</td>\n",
       "      <td>40</td>\n",
       "      <td>30</td>\n",
       "    </tr>\n",
       "    <tr>\n",
       "      <th>2022-12458</th>\n",
       "      <td>50</td>\n",
       "      <td>55</td>\n",
       "      <td>15</td>\n",
       "      <td>85</td>\n",
       "    </tr>\n",
       "    <tr>\n",
       "      <th>2022-12396</th>\n",
       "      <td>95</td>\n",
       "      <td>30</td>\n",
       "      <td>30</td>\n",
       "      <td>95</td>\n",
       "    </tr>\n",
       "    <tr>\n",
       "      <th>2022-12482</th>\n",
       "      <td>50</td>\n",
       "      <td>50</td>\n",
       "      <td>45</td>\n",
       "      <td>10</td>\n",
       "    </tr>\n",
       "    <tr>\n",
       "      <th>2022-12452</th>\n",
       "      <td>65</td>\n",
       "      <td>55</td>\n",
       "      <td>15</td>\n",
       "      <td>45</td>\n",
       "    </tr>\n",
       "    <tr>\n",
       "      <th>2022-12387</th>\n",
       "      <td>70</td>\n",
       "      <td>70</td>\n",
       "      <td>40</td>\n",
       "      <td>35</td>\n",
       "    </tr>\n",
       "    <tr>\n",
       "      <th>2022-12354</th>\n",
       "      <td>90</td>\n",
       "      <td>90</td>\n",
       "      <td>80</td>\n",
       "      <td>90</td>\n",
       "    </tr>\n",
       "  </tbody>\n",
       "</table>\n",
       "</div>"
      ],
      "text/plain": [
       "            att  rep  mid  fin\n",
       "2022-12380   65   55   50   40\n",
       "2022-12370   95  100   50   80\n",
       "2022-12363   65   90   60   30\n",
       "2022-12488   55   80   75   80\n",
       "2022-12312   80   30   30  100\n",
       "2022-12377   75   40  100   15\n",
       "2022-12463   65   45   45   90\n",
       "2022-12471   60   60   25    0\n",
       "2022-12400   95   65   20   10\n",
       "2022-12469   90   80   80   20\n",
       "2022-12318   55   75   35   25\n",
       "2022-12432   95   95   45    0\n",
       "2022-12443   95   55   15   35\n",
       "2022-12367   50   80   40   30\n",
       "2022-12458   50   55   15   85\n",
       "2022-12396   95   30   30   95\n",
       "2022-12482   50   50   45   10\n",
       "2022-12452   65   55   15   45\n",
       "2022-12387   70   70   40   35\n",
       "2022-12354   90   90   80   90"
      ]
     },
     "execution_count": 65,
     "metadata": {},
     "output_type": "execute_result"
    }
   ],
   "source": [
    "df = pd.DataFrame(dct)\n",
    "df"
   ]
  },
  {
   "cell_type": "markdown",
   "id": "bb4d73c5-a2d0-41f0-884c-56ad51a3fafd",
   "metadata": {},
   "source": [
    "(방법3)"
   ]
  },
  {
   "cell_type": "code",
   "execution_count": 66,
   "id": "f485d747-20e7-41b7-8365-47ed72f62e56",
   "metadata": {},
   "outputs": [
    {
     "data": {
      "text/html": [
       "<div>\n",
       "<style scoped>\n",
       "    .dataframe tbody tr th:only-of-type {\n",
       "        vertical-align: middle;\n",
       "    }\n",
       "\n",
       "    .dataframe tbody tr th {\n",
       "        vertical-align: top;\n",
       "    }\n",
       "\n",
       "    .dataframe thead th {\n",
       "        text-align: right;\n",
       "    }\n",
       "</style>\n",
       "<table border=\"1\" class=\"dataframe\">\n",
       "  <thead>\n",
       "    <tr style=\"text-align: right;\">\n",
       "      <th></th>\n",
       "      <th>att</th>\n",
       "      <th>rep</th>\n",
       "      <th>mid</th>\n",
       "      <th>fin</th>\n",
       "    </tr>\n",
       "  </thead>\n",
       "  <tbody>\n",
       "    <tr>\n",
       "      <th>2022-12380</th>\n",
       "      <td>65</td>\n",
       "      <td>55</td>\n",
       "      <td>50</td>\n",
       "      <td>40</td>\n",
       "    </tr>\n",
       "    <tr>\n",
       "      <th>2022-12370</th>\n",
       "      <td>95</td>\n",
       "      <td>100</td>\n",
       "      <td>50</td>\n",
       "      <td>80</td>\n",
       "    </tr>\n",
       "    <tr>\n",
       "      <th>2022-12363</th>\n",
       "      <td>65</td>\n",
       "      <td>90</td>\n",
       "      <td>60</td>\n",
       "      <td>30</td>\n",
       "    </tr>\n",
       "    <tr>\n",
       "      <th>2022-12488</th>\n",
       "      <td>55</td>\n",
       "      <td>80</td>\n",
       "      <td>75</td>\n",
       "      <td>80</td>\n",
       "    </tr>\n",
       "    <tr>\n",
       "      <th>2022-12312</th>\n",
       "      <td>80</td>\n",
       "      <td>30</td>\n",
       "      <td>30</td>\n",
       "      <td>100</td>\n",
       "    </tr>\n",
       "    <tr>\n",
       "      <th>2022-12377</th>\n",
       "      <td>75</td>\n",
       "      <td>40</td>\n",
       "      <td>100</td>\n",
       "      <td>15</td>\n",
       "    </tr>\n",
       "    <tr>\n",
       "      <th>2022-12463</th>\n",
       "      <td>65</td>\n",
       "      <td>45</td>\n",
       "      <td>45</td>\n",
       "      <td>90</td>\n",
       "    </tr>\n",
       "    <tr>\n",
       "      <th>2022-12471</th>\n",
       "      <td>60</td>\n",
       "      <td>60</td>\n",
       "      <td>25</td>\n",
       "      <td>0</td>\n",
       "    </tr>\n",
       "    <tr>\n",
       "      <th>2022-12400</th>\n",
       "      <td>95</td>\n",
       "      <td>65</td>\n",
       "      <td>20</td>\n",
       "      <td>10</td>\n",
       "    </tr>\n",
       "    <tr>\n",
       "      <th>2022-12469</th>\n",
       "      <td>90</td>\n",
       "      <td>80</td>\n",
       "      <td>80</td>\n",
       "      <td>20</td>\n",
       "    </tr>\n",
       "    <tr>\n",
       "      <th>2022-12318</th>\n",
       "      <td>55</td>\n",
       "      <td>75</td>\n",
       "      <td>35</td>\n",
       "      <td>25</td>\n",
       "    </tr>\n",
       "    <tr>\n",
       "      <th>2022-12432</th>\n",
       "      <td>95</td>\n",
       "      <td>95</td>\n",
       "      <td>45</td>\n",
       "      <td>0</td>\n",
       "    </tr>\n",
       "    <tr>\n",
       "      <th>2022-12443</th>\n",
       "      <td>95</td>\n",
       "      <td>55</td>\n",
       "      <td>15</td>\n",
       "      <td>35</td>\n",
       "    </tr>\n",
       "    <tr>\n",
       "      <th>2022-12367</th>\n",
       "      <td>50</td>\n",
       "      <td>80</td>\n",
       "      <td>40</td>\n",
       "      <td>30</td>\n",
       "    </tr>\n",
       "    <tr>\n",
       "      <th>2022-12458</th>\n",
       "      <td>50</td>\n",
       "      <td>55</td>\n",
       "      <td>15</td>\n",
       "      <td>85</td>\n",
       "    </tr>\n",
       "    <tr>\n",
       "      <th>2022-12396</th>\n",
       "      <td>95</td>\n",
       "      <td>30</td>\n",
       "      <td>30</td>\n",
       "      <td>95</td>\n",
       "    </tr>\n",
       "    <tr>\n",
       "      <th>2022-12482</th>\n",
       "      <td>50</td>\n",
       "      <td>50</td>\n",
       "      <td>45</td>\n",
       "      <td>10</td>\n",
       "    </tr>\n",
       "    <tr>\n",
       "      <th>2022-12452</th>\n",
       "      <td>65</td>\n",
       "      <td>55</td>\n",
       "      <td>15</td>\n",
       "      <td>45</td>\n",
       "    </tr>\n",
       "    <tr>\n",
       "      <th>2022-12387</th>\n",
       "      <td>70</td>\n",
       "      <td>70</td>\n",
       "      <td>40</td>\n",
       "      <td>35</td>\n",
       "    </tr>\n",
       "    <tr>\n",
       "      <th>2022-12354</th>\n",
       "      <td>90</td>\n",
       "      <td>90</td>\n",
       "      <td>80</td>\n",
       "      <td>90</td>\n",
       "    </tr>\n",
       "  </tbody>\n",
       "</table>\n",
       "</div>"
      ],
      "text/plain": [
       "            att  rep  mid  fin\n",
       "2022-12380   65   55   50   40\n",
       "2022-12370   95  100   50   80\n",
       "2022-12363   65   90   60   30\n",
       "2022-12488   55   80   75   80\n",
       "2022-12312   80   30   30  100\n",
       "2022-12377   75   40  100   15\n",
       "2022-12463   65   45   45   90\n",
       "2022-12471   60   60   25    0\n",
       "2022-12400   95   65   20   10\n",
       "2022-12469   90   80   80   20\n",
       "2022-12318   55   75   35   25\n",
       "2022-12432   95   95   45    0\n",
       "2022-12443   95   55   15   35\n",
       "2022-12367   50   80   40   30\n",
       "2022-12458   50   55   15   85\n",
       "2022-12396   95   30   30   95\n",
       "2022-12482   50   50   45   10\n",
       "2022-12452   65   55   15   45\n",
       "2022-12387   70   70   40   35\n",
       "2022-12354   90   90   80   90"
      ]
     },
     "execution_count": 66,
     "metadata": {},
     "output_type": "execute_result"
    }
   ],
   "source": [
    "df = pd.DataFrame({'att':att, 'rep':rep, 'mid':mid, 'fin':fin},index=key)\n",
    "df"
   ]
  },
  {
   "cell_type": "markdown",
   "id": "3daf8e59-a4ad-4309-901d-802b3c57d437",
   "metadata": {},
   "source": [
    "## 해싱으로 원하는 정보를 뽑으면 좋겠다 (마치 딕셔너리처럼) "
   ]
  },
  {
   "cell_type": "markdown",
   "id": "002050c5-794e-4ec2-aa61-cdbcf3f11680",
   "metadata": {},
   "source": [
    "`-` 예제1: 출석점수를 출력 (딕셔너리가 되면 판다스도 된다)"
   ]
  },
  {
   "cell_type": "code",
   "execution_count": 68,
   "id": "3cfa36ed-95ad-4646-b0fd-2867bb33aa84",
   "metadata": {},
   "outputs": [
    {
     "data": {
      "text/plain": [
       "{'2022-12380': 65,\n",
       " '2022-12370': 95,\n",
       " '2022-12363': 65,\n",
       " '2022-12488': 55,\n",
       " '2022-12312': 80,\n",
       " '2022-12377': 75,\n",
       " '2022-12463': 65,\n",
       " '2022-12471': 60,\n",
       " '2022-12400': 95,\n",
       " '2022-12469': 90,\n",
       " '2022-12318': 55,\n",
       " '2022-12432': 95,\n",
       " '2022-12443': 95,\n",
       " '2022-12367': 50,\n",
       " '2022-12458': 50,\n",
       " '2022-12396': 95,\n",
       " '2022-12482': 50,\n",
       " '2022-12452': 65,\n",
       " '2022-12387': 70,\n",
       " '2022-12354': 90}"
      ]
     },
     "execution_count": 68,
     "metadata": {},
     "output_type": "execute_result"
    }
   ],
   "source": [
    "dct['att']"
   ]
  },
  {
   "cell_type": "code",
   "execution_count": 69,
   "id": "2b0aaa07-6171-41cd-861b-5f8d7759268d",
   "metadata": {},
   "outputs": [
    {
     "data": {
      "text/plain": [
       "2022-12380    65\n",
       "2022-12370    95\n",
       "2022-12363    65\n",
       "2022-12488    55\n",
       "2022-12312    80\n",
       "2022-12377    75\n",
       "2022-12463    65\n",
       "2022-12471    60\n",
       "2022-12400    95\n",
       "2022-12469    90\n",
       "2022-12318    55\n",
       "2022-12432    95\n",
       "2022-12443    95\n",
       "2022-12367    50\n",
       "2022-12458    50\n",
       "2022-12396    95\n",
       "2022-12482    50\n",
       "2022-12452    65\n",
       "2022-12387    70\n",
       "2022-12354    90\n",
       "Name: att, dtype: int64"
      ]
     },
     "execution_count": 69,
     "metadata": {},
     "output_type": "execute_result"
    }
   ],
   "source": [
    "df['att']"
   ]
  },
  {
   "cell_type": "markdown",
   "id": "eddff036-fc4d-4c16-8482-fe61ed1db022",
   "metadata": {},
   "source": [
    "`-` 예제2: 학번 `2022-12380` 의 출석점수 출력 "
   ]
  },
  {
   "cell_type": "code",
   "execution_count": 71,
   "id": "d96d7b01-c92e-489a-9469-957b2f3f97be",
   "metadata": {},
   "outputs": [
    {
     "data": {
      "text/plain": [
       "65"
      ]
     },
     "execution_count": 71,
     "metadata": {},
     "output_type": "execute_result"
    }
   ],
   "source": [
    "dct['att']['2022-12380']"
   ]
  },
  {
   "cell_type": "code",
   "execution_count": 72,
   "id": "9b306875-874d-4ed3-bcd6-8ed107a58901",
   "metadata": {},
   "outputs": [
    {
     "data": {
      "text/plain": [
       "65"
      ]
     },
     "execution_count": 72,
     "metadata": {},
     "output_type": "execute_result"
    }
   ],
   "source": [
    "df['att']['2022-12380']"
   ]
  },
  {
   "cell_type": "markdown",
   "id": "bd8f8949-f586-40fa-87f2-c61a3dd01923",
   "metadata": {},
   "source": [
    "## 인덱싱으로 정보를 뽑는 기능도 지원을 하면 좋겠다 (마치 리스트나 넘파이처럼) "
   ]
  },
  {
   "cell_type": "markdown",
   "id": "b02a28dc-440a-48f5-bb19-c20efea87a43",
   "metadata": {},
   "source": [
    "`-` 예제1: 첫번째 학생의 기말고사 성적을 출력하고 싶다. "
   ]
  },
  {
   "cell_type": "code",
   "execution_count": 73,
   "id": "6d36cfd5-ff88-4dff-a9d3-9e90eeb20754",
   "metadata": {},
   "outputs": [
    {
     "data": {
      "text/plain": [
       "'40'"
      ]
     },
     "execution_count": 73,
     "metadata": {},
     "output_type": "execute_result"
    }
   ],
   "source": [
    "arr[0,-1]"
   ]
  },
  {
   "cell_type": "code",
   "execution_count": 74,
   "id": "8c412f32-574e-48db-abaa-65680df9501b",
   "metadata": {},
   "outputs": [
    {
     "data": {
      "text/plain": [
       "40"
      ]
     },
     "execution_count": 74,
     "metadata": {},
     "output_type": "execute_result"
    }
   ],
   "source": [
    "df.iloc[0,-1]"
   ]
  },
  {
   "cell_type": "markdown",
   "id": "2e0c3295-1e40-431b-8288-c3eab0fb838e",
   "metadata": {},
   "source": [
    "- 벼락치기: df에서 iloc이라는 특수기능을 이용하면 넘파이 인덱싱처럼 원소출력이 가능하다. "
   ]
  },
  {
   "cell_type": "markdown",
   "id": "e5dab258",
   "metadata": {},
   "source": [
    "> df는 딕셔너리(+$\\alpha$) 같은것이지만 df.iloc은 넘파이같은것이라고 생각하면 된다. "
   ]
  },
  {
   "cell_type": "markdown",
   "id": "e033acb6-eebb-4ba1-ab31-617a4771535e",
   "metadata": {},
   "source": [
    "`-` 예제2: 홀수번째 학생의 점수를 뽑고 싶다. "
   ]
  },
  {
   "cell_type": "code",
   "execution_count": 75,
   "id": "959ce6b4-f727-4fba-89c0-3d91a360aa27",
   "metadata": {},
   "outputs": [
    {
     "data": {
      "text/plain": [
       "array([['2022-12380', '65', '55', '50', '40'],\n",
       "       ['2022-12363', '65', '90', '60', '30'],\n",
       "       ['2022-12312', '80', '30', '30', '100'],\n",
       "       ['2022-12463', '65', '45', '45', '90'],\n",
       "       ['2022-12400', '95', '65', '20', '10'],\n",
       "       ['2022-12318', '55', '75', '35', '25'],\n",
       "       ['2022-12443', '95', '55', '15', '35'],\n",
       "       ['2022-12458', '50', '55', '15', '85'],\n",
       "       ['2022-12482', '50', '50', '45', '10'],\n",
       "       ['2022-12387', '70', '70', '40', '35']], dtype='<U21')"
      ]
     },
     "execution_count": 75,
     "metadata": {},
     "output_type": "execute_result"
    }
   ],
   "source": [
    "arr[::2]"
   ]
  },
  {
   "cell_type": "code",
   "execution_count": 76,
   "id": "a52592fd-63f9-4ca6-871a-3083bbaa5d14",
   "metadata": {},
   "outputs": [
    {
     "data": {
      "text/html": [
       "<div>\n",
       "<style scoped>\n",
       "    .dataframe tbody tr th:only-of-type {\n",
       "        vertical-align: middle;\n",
       "    }\n",
       "\n",
       "    .dataframe tbody tr th {\n",
       "        vertical-align: top;\n",
       "    }\n",
       "\n",
       "    .dataframe thead th {\n",
       "        text-align: right;\n",
       "    }\n",
       "</style>\n",
       "<table border=\"1\" class=\"dataframe\">\n",
       "  <thead>\n",
       "    <tr style=\"text-align: right;\">\n",
       "      <th></th>\n",
       "      <th>att</th>\n",
       "      <th>rep</th>\n",
       "      <th>mid</th>\n",
       "      <th>fin</th>\n",
       "    </tr>\n",
       "  </thead>\n",
       "  <tbody>\n",
       "    <tr>\n",
       "      <th>2022-12380</th>\n",
       "      <td>65</td>\n",
       "      <td>55</td>\n",
       "      <td>50</td>\n",
       "      <td>40</td>\n",
       "    </tr>\n",
       "    <tr>\n",
       "      <th>2022-12363</th>\n",
       "      <td>65</td>\n",
       "      <td>90</td>\n",
       "      <td>60</td>\n",
       "      <td>30</td>\n",
       "    </tr>\n",
       "    <tr>\n",
       "      <th>2022-12312</th>\n",
       "      <td>80</td>\n",
       "      <td>30</td>\n",
       "      <td>30</td>\n",
       "      <td>100</td>\n",
       "    </tr>\n",
       "    <tr>\n",
       "      <th>2022-12463</th>\n",
       "      <td>65</td>\n",
       "      <td>45</td>\n",
       "      <td>45</td>\n",
       "      <td>90</td>\n",
       "    </tr>\n",
       "    <tr>\n",
       "      <th>2022-12400</th>\n",
       "      <td>95</td>\n",
       "      <td>65</td>\n",
       "      <td>20</td>\n",
       "      <td>10</td>\n",
       "    </tr>\n",
       "    <tr>\n",
       "      <th>2022-12318</th>\n",
       "      <td>55</td>\n",
       "      <td>75</td>\n",
       "      <td>35</td>\n",
       "      <td>25</td>\n",
       "    </tr>\n",
       "    <tr>\n",
       "      <th>2022-12443</th>\n",
       "      <td>95</td>\n",
       "      <td>55</td>\n",
       "      <td>15</td>\n",
       "      <td>35</td>\n",
       "    </tr>\n",
       "    <tr>\n",
       "      <th>2022-12458</th>\n",
       "      <td>50</td>\n",
       "      <td>55</td>\n",
       "      <td>15</td>\n",
       "      <td>85</td>\n",
       "    </tr>\n",
       "    <tr>\n",
       "      <th>2022-12482</th>\n",
       "      <td>50</td>\n",
       "      <td>50</td>\n",
       "      <td>45</td>\n",
       "      <td>10</td>\n",
       "    </tr>\n",
       "    <tr>\n",
       "      <th>2022-12387</th>\n",
       "      <td>70</td>\n",
       "      <td>70</td>\n",
       "      <td>40</td>\n",
       "      <td>35</td>\n",
       "    </tr>\n",
       "  </tbody>\n",
       "</table>\n",
       "</div>"
      ],
      "text/plain": [
       "            att  rep  mid  fin\n",
       "2022-12380   65   55   50   40\n",
       "2022-12363   65   90   60   30\n",
       "2022-12312   80   30   30  100\n",
       "2022-12463   65   45   45   90\n",
       "2022-12400   95   65   20   10\n",
       "2022-12318   55   75   35   25\n",
       "2022-12443   95   55   15   35\n",
       "2022-12458   50   55   15   85\n",
       "2022-12482   50   50   45   10\n",
       "2022-12387   70   70   40   35"
      ]
     },
     "execution_count": 76,
     "metadata": {},
     "output_type": "execute_result"
    }
   ],
   "source": [
    "df.iloc[::2]"
   ]
  },
  {
   "cell_type": "markdown",
   "id": "ac57d5b5-1396-499c-b621-a85d2881fb3f",
   "metadata": {},
   "source": [
    "`-` 예제3: 맨 끝에서 3명의 점수를 출력하고 싶다. "
   ]
  },
  {
   "cell_type": "code",
   "execution_count": 77,
   "id": "6c6c5e0c-7926-4862-90ce-9d2f39fe7fa8",
   "metadata": {},
   "outputs": [
    {
     "data": {
      "text/plain": [
       "array([['2022-12452', '65', '55', '15', '45'],\n",
       "       ['2022-12387', '70', '70', '40', '35'],\n",
       "       ['2022-12354', '90', '90', '80', '90']], dtype='<U21')"
      ]
     },
     "execution_count": 77,
     "metadata": {},
     "output_type": "execute_result"
    }
   ],
   "source": [
    "arr[-3:]"
   ]
  },
  {
   "cell_type": "code",
   "execution_count": 78,
   "id": "6f55bcf4-e704-4620-8625-092c52c045d4",
   "metadata": {},
   "outputs": [
    {
     "data": {
      "text/html": [
       "<div>\n",
       "<style scoped>\n",
       "    .dataframe tbody tr th:only-of-type {\n",
       "        vertical-align: middle;\n",
       "    }\n",
       "\n",
       "    .dataframe tbody tr th {\n",
       "        vertical-align: top;\n",
       "    }\n",
       "\n",
       "    .dataframe thead th {\n",
       "        text-align: right;\n",
       "    }\n",
       "</style>\n",
       "<table border=\"1\" class=\"dataframe\">\n",
       "  <thead>\n",
       "    <tr style=\"text-align: right;\">\n",
       "      <th></th>\n",
       "      <th>att</th>\n",
       "      <th>rep</th>\n",
       "      <th>mid</th>\n",
       "      <th>fin</th>\n",
       "    </tr>\n",
       "  </thead>\n",
       "  <tbody>\n",
       "    <tr>\n",
       "      <th>2022-12452</th>\n",
       "      <td>65</td>\n",
       "      <td>55</td>\n",
       "      <td>15</td>\n",
       "      <td>45</td>\n",
       "    </tr>\n",
       "    <tr>\n",
       "      <th>2022-12387</th>\n",
       "      <td>70</td>\n",
       "      <td>70</td>\n",
       "      <td>40</td>\n",
       "      <td>35</td>\n",
       "    </tr>\n",
       "    <tr>\n",
       "      <th>2022-12354</th>\n",
       "      <td>90</td>\n",
       "      <td>90</td>\n",
       "      <td>80</td>\n",
       "      <td>90</td>\n",
       "    </tr>\n",
       "  </tbody>\n",
       "</table>\n",
       "</div>"
      ],
      "text/plain": [
       "            att  rep  mid  fin\n",
       "2022-12452   65   55   15   45\n",
       "2022-12387   70   70   40   35\n",
       "2022-12354   90   90   80   90"
      ]
     },
     "execution_count": 78,
     "metadata": {},
     "output_type": "execute_result"
    }
   ],
   "source": [
    "df.iloc[-3:]"
   ]
  },
  {
   "cell_type": "markdown",
   "id": "9b61559f",
   "metadata": {},
   "source": [
    "**참고:** 사용하지 않는 코드"
   ]
  },
  {
   "cell_type": "code",
   "execution_count": 82,
   "id": "bec800f4-89d7-4a45-8f7b-bef79d4757c9",
   "metadata": {},
   "outputs": [
    {
     "data": {
      "text/html": [
       "<div>\n",
       "<style scoped>\n",
       "    .dataframe tbody tr th:only-of-type {\n",
       "        vertical-align: middle;\n",
       "    }\n",
       "\n",
       "    .dataframe tbody tr th {\n",
       "        vertical-align: top;\n",
       "    }\n",
       "\n",
       "    .dataframe thead th {\n",
       "        text-align: right;\n",
       "    }\n",
       "</style>\n",
       "<table border=\"1\" class=\"dataframe\">\n",
       "  <thead>\n",
       "    <tr style=\"text-align: right;\">\n",
       "      <th></th>\n",
       "      <th>att</th>\n",
       "      <th>rep</th>\n",
       "      <th>mid</th>\n",
       "      <th>fin</th>\n",
       "    </tr>\n",
       "  </thead>\n",
       "  <tbody>\n",
       "    <tr>\n",
       "      <th>2022-12452</th>\n",
       "      <td>65</td>\n",
       "      <td>55</td>\n",
       "      <td>15</td>\n",
       "      <td>45</td>\n",
       "    </tr>\n",
       "    <tr>\n",
       "      <th>2022-12387</th>\n",
       "      <td>70</td>\n",
       "      <td>70</td>\n",
       "      <td>40</td>\n",
       "      <td>35</td>\n",
       "    </tr>\n",
       "    <tr>\n",
       "      <th>2022-12354</th>\n",
       "      <td>90</td>\n",
       "      <td>90</td>\n",
       "      <td>80</td>\n",
       "      <td>90</td>\n",
       "    </tr>\n",
       "  </tbody>\n",
       "</table>\n",
       "</div>"
      ],
      "text/plain": [
       "            att  rep  mid  fin\n",
       "2022-12452   65   55   15   45\n",
       "2022-12387   70   70   40   35\n",
       "2022-12354   90   90   80   90"
      ]
     },
     "execution_count": 82,
     "metadata": {},
     "output_type": "execute_result"
    }
   ],
   "source": [
    "df[-3:] # 가능은 하지만 저는 쓰지 않아요 (헷갈려서요)"
   ]
  },
  {
   "cell_type": "code",
   "execution_count": 138,
   "id": "b213c2b8",
   "metadata": {},
   "outputs": [
    {
     "ename": "KeyError",
     "evalue": "-3",
     "output_type": "error",
     "traceback": [
      "\u001b[0;31m---------------------------------------------------------------------------\u001b[0m",
      "\u001b[0;31mKeyError\u001b[0m                                  Traceback (most recent call last)",
      "File \u001b[0;32m~/anaconda3/envs/py38/lib/python3.8/site-packages/pandas/core/indexes/base.py:3802\u001b[0m, in \u001b[0;36mIndex.get_loc\u001b[0;34m(self, key, method, tolerance)\u001b[0m\n\u001b[1;32m   3801\u001b[0m \u001b[38;5;28;01mtry\u001b[39;00m:\n\u001b[0;32m-> 3802\u001b[0m     \u001b[38;5;28;01mreturn\u001b[39;00m \u001b[38;5;28;43mself\u001b[39;49m\u001b[38;5;241;43m.\u001b[39;49m\u001b[43m_engine\u001b[49m\u001b[38;5;241;43m.\u001b[39;49m\u001b[43mget_loc\u001b[49m\u001b[43m(\u001b[49m\u001b[43mcasted_key\u001b[49m\u001b[43m)\u001b[49m\n\u001b[1;32m   3803\u001b[0m \u001b[38;5;28;01mexcept\u001b[39;00m \u001b[38;5;167;01mKeyError\u001b[39;00m \u001b[38;5;28;01mas\u001b[39;00m err:\n",
      "File \u001b[0;32m~/anaconda3/envs/py38/lib/python3.8/site-packages/pandas/_libs/index.pyx:138\u001b[0m, in \u001b[0;36mpandas._libs.index.IndexEngine.get_loc\u001b[0;34m()\u001b[0m\n",
      "File \u001b[0;32m~/anaconda3/envs/py38/lib/python3.8/site-packages/pandas/_libs/index.pyx:165\u001b[0m, in \u001b[0;36mpandas._libs.index.IndexEngine.get_loc\u001b[0;34m()\u001b[0m\n",
      "File \u001b[0;32mpandas/_libs/hashtable_class_helper.pxi:5745\u001b[0m, in \u001b[0;36mpandas._libs.hashtable.PyObjectHashTable.get_item\u001b[0;34m()\u001b[0m\n",
      "File \u001b[0;32mpandas/_libs/hashtable_class_helper.pxi:5753\u001b[0m, in \u001b[0;36mpandas._libs.hashtable.PyObjectHashTable.get_item\u001b[0;34m()\u001b[0m\n",
      "\u001b[0;31mKeyError\u001b[0m: -3",
      "\nThe above exception was the direct cause of the following exception:\n",
      "\u001b[0;31mKeyError\u001b[0m                                  Traceback (most recent call last)",
      "Cell \u001b[0;32mIn[138], line 1\u001b[0m\n\u001b[0;32m----> 1\u001b[0m \u001b[43mdf\u001b[49m\u001b[43m[\u001b[49m\u001b[38;5;241;43m-\u001b[39;49m\u001b[38;5;241;43m3\u001b[39;49m\u001b[43m]\u001b[49m \u001b[38;5;66;03m# 이런다니까?\u001b[39;00m\n",
      "File \u001b[0;32m~/anaconda3/envs/py38/lib/python3.8/site-packages/pandas/core/frame.py:3807\u001b[0m, in \u001b[0;36mDataFrame.__getitem__\u001b[0;34m(self, key)\u001b[0m\n\u001b[1;32m   3805\u001b[0m \u001b[38;5;28;01mif\u001b[39;00m \u001b[38;5;28mself\u001b[39m\u001b[38;5;241m.\u001b[39mcolumns\u001b[38;5;241m.\u001b[39mnlevels \u001b[38;5;241m>\u001b[39m \u001b[38;5;241m1\u001b[39m:\n\u001b[1;32m   3806\u001b[0m     \u001b[38;5;28;01mreturn\u001b[39;00m \u001b[38;5;28mself\u001b[39m\u001b[38;5;241m.\u001b[39m_getitem_multilevel(key)\n\u001b[0;32m-> 3807\u001b[0m indexer \u001b[38;5;241m=\u001b[39m \u001b[38;5;28;43mself\u001b[39;49m\u001b[38;5;241;43m.\u001b[39;49m\u001b[43mcolumns\u001b[49m\u001b[38;5;241;43m.\u001b[39;49m\u001b[43mget_loc\u001b[49m\u001b[43m(\u001b[49m\u001b[43mkey\u001b[49m\u001b[43m)\u001b[49m\n\u001b[1;32m   3808\u001b[0m \u001b[38;5;28;01mif\u001b[39;00m is_integer(indexer):\n\u001b[1;32m   3809\u001b[0m     indexer \u001b[38;5;241m=\u001b[39m [indexer]\n",
      "File \u001b[0;32m~/anaconda3/envs/py38/lib/python3.8/site-packages/pandas/core/indexes/base.py:3804\u001b[0m, in \u001b[0;36mIndex.get_loc\u001b[0;34m(self, key, method, tolerance)\u001b[0m\n\u001b[1;32m   3802\u001b[0m     \u001b[38;5;28;01mreturn\u001b[39;00m \u001b[38;5;28mself\u001b[39m\u001b[38;5;241m.\u001b[39m_engine\u001b[38;5;241m.\u001b[39mget_loc(casted_key)\n\u001b[1;32m   3803\u001b[0m \u001b[38;5;28;01mexcept\u001b[39;00m \u001b[38;5;167;01mKeyError\u001b[39;00m \u001b[38;5;28;01mas\u001b[39;00m err:\n\u001b[0;32m-> 3804\u001b[0m     \u001b[38;5;28;01mraise\u001b[39;00m \u001b[38;5;167;01mKeyError\u001b[39;00m(key) \u001b[38;5;28;01mfrom\u001b[39;00m \u001b[38;5;21;01merr\u001b[39;00m\n\u001b[1;32m   3805\u001b[0m \u001b[38;5;28;01mexcept\u001b[39;00m \u001b[38;5;167;01mTypeError\u001b[39;00m:\n\u001b[1;32m   3806\u001b[0m     \u001b[38;5;66;03m# If we have a listlike key, _check_indexing_error will raise\u001b[39;00m\n\u001b[1;32m   3807\u001b[0m     \u001b[38;5;66;03m#  InvalidIndexError. Otherwise we fall through and re-raise\u001b[39;00m\n\u001b[1;32m   3808\u001b[0m     \u001b[38;5;66;03m#  the TypeError.\u001b[39;00m\n\u001b[1;32m   3809\u001b[0m     \u001b[38;5;28mself\u001b[39m\u001b[38;5;241m.\u001b[39m_check_indexing_error(key)\n",
      "\u001b[0;31mKeyError\u001b[0m: -3"
     ]
    }
   ],
   "source": [
    "df[-3] # 이런다니까?"
   ]
  },
  {
   "cell_type": "markdown",
   "id": "aa120758-c4d7-4fce-8f1b-85c91a9ab9d1",
   "metadata": {},
   "source": [
    "`-` 예제4: 맨 끝에서 3명의 점수중 마지막 2개의 칼럼만 출력하고 싶다. "
   ]
  },
  {
   "cell_type": "code",
   "execution_count": 83,
   "id": "4ed428d6-66e1-4273-9611-06f407106533",
   "metadata": {},
   "outputs": [
    {
     "data": {
      "text/plain": [
       "array([['15', '45'],\n",
       "       ['40', '35'],\n",
       "       ['80', '90']], dtype='<U21')"
      ]
     },
     "execution_count": 83,
     "metadata": {},
     "output_type": "execute_result"
    }
   ],
   "source": [
    "arr[-3:,-2:]"
   ]
  },
  {
   "cell_type": "code",
   "execution_count": 84,
   "id": "56dd697c-6108-4fe5-88b7-1a197d773ef8",
   "metadata": {},
   "outputs": [
    {
     "data": {
      "text/html": [
       "<div>\n",
       "<style scoped>\n",
       "    .dataframe tbody tr th:only-of-type {\n",
       "        vertical-align: middle;\n",
       "    }\n",
       "\n",
       "    .dataframe tbody tr th {\n",
       "        vertical-align: top;\n",
       "    }\n",
       "\n",
       "    .dataframe thead th {\n",
       "        text-align: right;\n",
       "    }\n",
       "</style>\n",
       "<table border=\"1\" class=\"dataframe\">\n",
       "  <thead>\n",
       "    <tr style=\"text-align: right;\">\n",
       "      <th></th>\n",
       "      <th>mid</th>\n",
       "      <th>fin</th>\n",
       "    </tr>\n",
       "  </thead>\n",
       "  <tbody>\n",
       "    <tr>\n",
       "      <th>2022-12452</th>\n",
       "      <td>15</td>\n",
       "      <td>45</td>\n",
       "    </tr>\n",
       "    <tr>\n",
       "      <th>2022-12387</th>\n",
       "      <td>40</td>\n",
       "      <td>35</td>\n",
       "    </tr>\n",
       "    <tr>\n",
       "      <th>2022-12354</th>\n",
       "      <td>80</td>\n",
       "      <td>90</td>\n",
       "    </tr>\n",
       "  </tbody>\n",
       "</table>\n",
       "</div>"
      ],
      "text/plain": [
       "            mid  fin\n",
       "2022-12452   15   45\n",
       "2022-12387   40   35\n",
       "2022-12354   80   90"
      ]
     },
     "execution_count": 84,
     "metadata": {},
     "output_type": "execute_result"
    }
   ],
   "source": [
    "df.iloc[-3:,-2:]"
   ]
  },
  {
   "cell_type": "markdown",
   "id": "0f2999d5-fab5-4cdd-913d-abce234e2671",
   "metadata": {},
   "source": [
    "## 궁극: 해싱과 인덱싱을 모두 지원하는 아주 우수한 자료형을 만들고 싶음 "
   ]
  },
  {
   "cell_type": "markdown",
   "id": "7426b1ad-d372-4ed5-a962-fe92685fbd0c",
   "metadata": {},
   "source": [
    "`-` 예제1: 중간고사 점수가 20점 이상이면서 동시에 출석점수가 60점미만인 학생들의 기말고사 점수를 출력 "
   ]
  },
  {
   "cell_type": "markdown",
   "id": "798a7309-5ff8-4d56-af63-ec1d6dab5c09",
   "metadata": {},
   "source": [
    "(방법1) 데이터베이스 스타일"
   ]
  },
  {
   "cell_type": "code",
   "execution_count": 85,
   "id": "4a702e1c-0e31-45a6-949d-bbcda2194773",
   "metadata": {},
   "outputs": [
    {
     "data": {
      "text/html": [
       "<div>\n",
       "<style scoped>\n",
       "    .dataframe tbody tr th:only-of-type {\n",
       "        vertical-align: middle;\n",
       "    }\n",
       "\n",
       "    .dataframe tbody tr th {\n",
       "        vertical-align: top;\n",
       "    }\n",
       "\n",
       "    .dataframe thead th {\n",
       "        text-align: right;\n",
       "    }\n",
       "</style>\n",
       "<table border=\"1\" class=\"dataframe\">\n",
       "  <thead>\n",
       "    <tr style=\"text-align: right;\">\n",
       "      <th></th>\n",
       "      <th>att</th>\n",
       "      <th>rep</th>\n",
       "      <th>mid</th>\n",
       "      <th>fin</th>\n",
       "    </tr>\n",
       "  </thead>\n",
       "  <tbody>\n",
       "    <tr>\n",
       "      <th>2022-12488</th>\n",
       "      <td>55</td>\n",
       "      <td>80</td>\n",
       "      <td>75</td>\n",
       "      <td>80</td>\n",
       "    </tr>\n",
       "    <tr>\n",
       "      <th>2022-12318</th>\n",
       "      <td>55</td>\n",
       "      <td>75</td>\n",
       "      <td>35</td>\n",
       "      <td>25</td>\n",
       "    </tr>\n",
       "    <tr>\n",
       "      <th>2022-12367</th>\n",
       "      <td>50</td>\n",
       "      <td>80</td>\n",
       "      <td>40</td>\n",
       "      <td>30</td>\n",
       "    </tr>\n",
       "    <tr>\n",
       "      <th>2022-12482</th>\n",
       "      <td>50</td>\n",
       "      <td>50</td>\n",
       "      <td>45</td>\n",
       "      <td>10</td>\n",
       "    </tr>\n",
       "  </tbody>\n",
       "</table>\n",
       "</div>"
      ],
      "text/plain": [
       "            att  rep  mid  fin\n",
       "2022-12488   55   80   75   80\n",
       "2022-12318   55   75   35   25\n",
       "2022-12367   50   80   40   30\n",
       "2022-12482   50   50   45   10"
      ]
     },
     "execution_count": 85,
     "metadata": {},
     "output_type": "execute_result"
    }
   ],
   "source": [
    "df.query(\"mid >= 20 and att <60\")"
   ]
  },
  {
   "cell_type": "code",
   "execution_count": 86,
   "id": "2e7673c2-b528-46e7-8ea3-79c644dd386b",
   "metadata": {},
   "outputs": [
    {
     "data": {
      "text/plain": [
       "2022-12488    80\n",
       "2022-12318    25\n",
       "2022-12367    30\n",
       "2022-12482    10\n",
       "Name: fin, dtype: int64"
      ]
     },
     "execution_count": 86,
     "metadata": {},
     "output_type": "execute_result"
    }
   ],
   "source": [
    "df.query(\"mid >= 20 and att <60\")['fin']"
   ]
  },
  {
   "cell_type": "markdown",
   "id": "a21e3e09-8dde-4471-bf9e-a655cbbfe141",
   "metadata": {},
   "source": [
    "(방법2) 넘파이 스타일이라면? "
   ]
  },
  {
   "cell_type": "code",
   "execution_count": 87,
   "id": "4b06845f-eead-447a-90b5-16cc8ad63ad1",
   "metadata": {},
   "outputs": [
    {
     "data": {
      "text/plain": [
       "array([['2022-12380', '65', '55', '50', '40'],\n",
       "       ['2022-12370', '95', '100', '50', '80'],\n",
       "       ['2022-12363', '65', '90', '60', '30'],\n",
       "       ['2022-12488', '55', '80', '75', '80'],\n",
       "       ['2022-12312', '80', '30', '30', '100'],\n",
       "       ['2022-12377', '75', '40', '100', '15'],\n",
       "       ['2022-12463', '65', '45', '45', '90'],\n",
       "       ['2022-12471', '60', '60', '25', '0'],\n",
       "       ['2022-12400', '95', '65', '20', '10'],\n",
       "       ['2022-12469', '90', '80', '80', '20'],\n",
       "       ['2022-12318', '55', '75', '35', '25'],\n",
       "       ['2022-12432', '95', '95', '45', '0'],\n",
       "       ['2022-12443', '95', '55', '15', '35'],\n",
       "       ['2022-12367', '50', '80', '40', '30'],\n",
       "       ['2022-12458', '50', '55', '15', '85'],\n",
       "       ['2022-12396', '95', '30', '30', '95'],\n",
       "       ['2022-12482', '50', '50', '45', '10'],\n",
       "       ['2022-12452', '65', '55', '15', '45'],\n",
       "       ['2022-12387', '70', '70', '40', '35'],\n",
       "       ['2022-12354', '90', '90', '80', '90']], dtype='<U21')"
      ]
     },
     "execution_count": 87,
     "metadata": {},
     "output_type": "execute_result"
    }
   ],
   "source": [
    "arr"
   ]
  },
  {
   "cell_type": "code",
   "execution_count": 93,
   "id": "8c6a823d-f7d2-4b6f-88ff-5cc18a9a61a5",
   "metadata": {},
   "outputs": [
    {
     "data": {
      "text/plain": [
       "array([ True,  True,  True,  True,  True,  True,  True,  True,  True,\n",
       "        True,  True,  True, False,  True, False,  True,  True, False,\n",
       "        True,  True])"
      ]
     },
     "execution_count": 93,
     "metadata": {},
     "output_type": "execute_result"
    }
   ],
   "source": [
    "arr[:,3].astype(np.int64) >= 20  ## 중간고사가 20점이상"
   ]
  },
  {
   "cell_type": "code",
   "execution_count": 94,
   "id": "9140ba50-d894-4291-903f-609cc204cd0c",
   "metadata": {},
   "outputs": [
    {
     "data": {
      "text/plain": [
       "array([False, False, False,  True, False, False, False, False, False,\n",
       "       False,  True, False, False,  True,  True, False,  True, False,\n",
       "       False, False])"
      ]
     },
     "execution_count": 94,
     "metadata": {},
     "output_type": "execute_result"
    }
   ],
   "source": [
    "arr[:,1].astype(np.int64)  < 60  ## 출석이 60미만"
   ]
  },
  {
   "cell_type": "code",
   "execution_count": 101,
   "id": "44d34baf-99c7-478d-8b32-5003a27dd66a",
   "metadata": {},
   "outputs": [
    {
     "data": {
      "text/plain": [
       "array([False, False, False,  True, False, False, False, False, False,\n",
       "       False,  True, False, False,  True, False, False,  True, False,\n",
       "       False, False])"
      ]
     },
     "execution_count": 101,
     "metadata": {},
     "output_type": "execute_result"
    }
   ],
   "source": [
    "(arr[:,3].astype(np.int64) >= 20) & (arr[:,1].astype(np.int64)  < 60)"
   ]
  },
  {
   "cell_type": "markdown",
   "id": "bb838267-f5ff-403f-a0af-0cd675b3bd38",
   "metadata": {},
   "source": [
    "> 조심: `&` 를 기준으로 양옆에 `() & ()` 와 같은 형식으로 소괄호를 명시해줘야함. 그렇지 않으면 에러발생 "
   ]
  },
  {
   "cell_type": "code",
   "execution_count": 103,
   "id": "6e4a86be-8cee-46ae-a441-ffea988b1a4d",
   "metadata": {},
   "outputs": [
    {
     "data": {
      "text/plain": [
       "array([['2022-12488', '55', '80', '75', '80'],\n",
       "       ['2022-12318', '55', '75', '35', '25'],\n",
       "       ['2022-12367', '50', '80', '40', '30'],\n",
       "       ['2022-12482', '50', '50', '45', '10']], dtype='<U21')"
      ]
     },
     "execution_count": 103,
     "metadata": {},
     "output_type": "execute_result"
    }
   ],
   "source": [
    "arr[(arr[:,3].astype(np.int64) >= 20) & (arr[:,1].astype(np.int64)  < 60)] # 이게 무슨코드야"
   ]
  },
  {
   "cell_type": "markdown",
   "id": "be83dcd4-76a2-479b-8aa5-552c60bcca3c",
   "metadata": {},
   "source": [
    "- 구현난이도 어려움, 가독성 꽝"
   ]
  },
  {
   "cell_type": "markdown",
   "id": "fbe81b08-807f-47e3-979d-7e33d66e08ee",
   "metadata": {},
   "source": [
    "`-` 예제2: '중간고사점수<기말고사점수'인 학생들의 출석점수 평균을 구하자. "
   ]
  },
  {
   "cell_type": "code",
   "execution_count": 104,
   "id": "99b357b8-743e-4c53-b948-944d617fde02",
   "metadata": {},
   "outputs": [
    {
     "data": {
      "text/plain": [
       "76.66666666666667"
      ]
     },
     "execution_count": 104,
     "metadata": {},
     "output_type": "execute_result"
    }
   ],
   "source": [
    "df.query('mid<fin')['att'].mean()"
   ]
  },
  {
   "cell_type": "markdown",
   "id": "28aaec3e-3ce4-40d0-9e95-683b4a853dc9",
   "metadata": {},
   "source": [
    "# pandas 공부 1단계 "
   ]
  },
  {
   "cell_type": "markdown",
   "id": "1292ada4-cd6c-4dc6-881f-0952acc40a5f",
   "metadata": {},
   "source": [
    "## 데이터프레임 선언 "
   ]
  },
  {
   "cell_type": "markdown",
   "id": "c3cd2c2a-e4f4-44be-a66c-e60c15eb68a2",
   "metadata": {},
   "source": [
    "`-` 방법1: dictionary에서 만든다. "
   ]
  },
  {
   "cell_type": "code",
   "execution_count": 105,
   "id": "631dc2e9-4ed4-45ec-ace3-f018875a1736",
   "metadata": {},
   "outputs": [
    {
     "data": {
      "text/html": [
       "<div>\n",
       "<style scoped>\n",
       "    .dataframe tbody tr th:only-of-type {\n",
       "        vertical-align: middle;\n",
       "    }\n",
       "\n",
       "    .dataframe tbody tr th {\n",
       "        vertical-align: top;\n",
       "    }\n",
       "\n",
       "    .dataframe thead th {\n",
       "        text-align: right;\n",
       "    }\n",
       "</style>\n",
       "<table border=\"1\" class=\"dataframe\">\n",
       "  <thead>\n",
       "    <tr style=\"text-align: right;\">\n",
       "      <th></th>\n",
       "      <th>att</th>\n",
       "      <th>mid</th>\n",
       "    </tr>\n",
       "  </thead>\n",
       "  <tbody>\n",
       "    <tr>\n",
       "      <th>0</th>\n",
       "      <td>30</td>\n",
       "      <td>50</td>\n",
       "    </tr>\n",
       "    <tr>\n",
       "      <th>1</th>\n",
       "      <td>40</td>\n",
       "      <td>60</td>\n",
       "    </tr>\n",
       "    <tr>\n",
       "      <th>2</th>\n",
       "      <td>50</td>\n",
       "      <td>70</td>\n",
       "    </tr>\n",
       "  </tbody>\n",
       "</table>\n",
       "</div>"
      ],
      "text/plain": [
       "   att  mid\n",
       "0   30   50\n",
       "1   40   60\n",
       "2   50   70"
      ]
     },
     "execution_count": 105,
     "metadata": {},
     "output_type": "execute_result"
    }
   ],
   "source": [
    "pd.DataFrame({'att':[30,40,50],'mid':[50,60,70]})"
   ]
  },
  {
   "cell_type": "code",
   "execution_count": 106,
   "id": "b1e4bae1-48e8-4a0a-a391-e51c5795e9be",
   "metadata": {},
   "outputs": [
    {
     "data": {
      "text/html": [
       "<div>\n",
       "<style scoped>\n",
       "    .dataframe tbody tr th:only-of-type {\n",
       "        vertical-align: middle;\n",
       "    }\n",
       "\n",
       "    .dataframe tbody tr th {\n",
       "        vertical-align: top;\n",
       "    }\n",
       "\n",
       "    .dataframe thead th {\n",
       "        text-align: right;\n",
       "    }\n",
       "</style>\n",
       "<table border=\"1\" class=\"dataframe\">\n",
       "  <thead>\n",
       "    <tr style=\"text-align: right;\">\n",
       "      <th></th>\n",
       "      <th>att</th>\n",
       "      <th>mid</th>\n",
       "    </tr>\n",
       "  </thead>\n",
       "  <tbody>\n",
       "    <tr>\n",
       "      <th>0</th>\n",
       "      <td>30</td>\n",
       "      <td>50</td>\n",
       "    </tr>\n",
       "    <tr>\n",
       "      <th>1</th>\n",
       "      <td>40</td>\n",
       "      <td>60</td>\n",
       "    </tr>\n",
       "    <tr>\n",
       "      <th>2</th>\n",
       "      <td>50</td>\n",
       "      <td>70</td>\n",
       "    </tr>\n",
       "  </tbody>\n",
       "</table>\n",
       "</div>"
      ],
      "text/plain": [
       "   att  mid\n",
       "0   30   50\n",
       "1   40   60\n",
       "2   50   70"
      ]
     },
     "execution_count": 106,
     "metadata": {},
     "output_type": "execute_result"
    }
   ],
   "source": [
    "pd.DataFrame({'att':(30,40,50),'mid':(50,60,70)})"
   ]
  },
  {
   "cell_type": "code",
   "execution_count": 107,
   "id": "d6ec3294-66ee-407f-afbd-e10f0cc58f02",
   "metadata": {},
   "outputs": [
    {
     "data": {
      "text/html": [
       "<div>\n",
       "<style scoped>\n",
       "    .dataframe tbody tr th:only-of-type {\n",
       "        vertical-align: middle;\n",
       "    }\n",
       "\n",
       "    .dataframe tbody tr th {\n",
       "        vertical-align: top;\n",
       "    }\n",
       "\n",
       "    .dataframe thead th {\n",
       "        text-align: right;\n",
       "    }\n",
       "</style>\n",
       "<table border=\"1\" class=\"dataframe\">\n",
       "  <thead>\n",
       "    <tr style=\"text-align: right;\">\n",
       "      <th></th>\n",
       "      <th>att</th>\n",
       "      <th>mid</th>\n",
       "    </tr>\n",
       "  </thead>\n",
       "  <tbody>\n",
       "    <tr>\n",
       "      <th>0</th>\n",
       "      <td>30</td>\n",
       "      <td>50</td>\n",
       "    </tr>\n",
       "    <tr>\n",
       "      <th>1</th>\n",
       "      <td>40</td>\n",
       "      <td>60</td>\n",
       "    </tr>\n",
       "    <tr>\n",
       "      <th>2</th>\n",
       "      <td>50</td>\n",
       "      <td>70</td>\n",
       "    </tr>\n",
       "  </tbody>\n",
       "</table>\n",
       "</div>"
      ],
      "text/plain": [
       "   att  mid\n",
       "0   30   50\n",
       "1   40   60\n",
       "2   50   70"
      ]
     },
     "execution_count": 107,
     "metadata": {},
     "output_type": "execute_result"
    }
   ],
   "source": [
    "pd.DataFrame({'att':np.array([30,40,50]),'mid':np.array([50,60,70])})"
   ]
  },
  {
   "cell_type": "markdown",
   "id": "75938e7e-5652-4a63-bbf0-2a13613ed327",
   "metadata": {},
   "source": [
    "`-` 방법: 2차원 ndarray에서 만든다. "
   ]
  },
  {
   "cell_type": "code",
   "execution_count": 108,
   "id": "51111768-0886-4bfe-92cf-bce0ee4fcb0e",
   "metadata": {},
   "outputs": [
    {
     "data": {
      "text/plain": [
       "array([[0, 1, 2],\n",
       "       [3, 4, 5]])"
      ]
     },
     "execution_count": 108,
     "metadata": {},
     "output_type": "execute_result"
    }
   ],
   "source": [
    "np.arange(2*3).reshape(2,3)"
   ]
  },
  {
   "cell_type": "code",
   "execution_count": 109,
   "id": "aade6cf0-df4a-420f-a739-b6a4d7ffe42a",
   "metadata": {},
   "outputs": [
    {
     "data": {
      "text/html": [
       "<div>\n",
       "<style scoped>\n",
       "    .dataframe tbody tr th:only-of-type {\n",
       "        vertical-align: middle;\n",
       "    }\n",
       "\n",
       "    .dataframe tbody tr th {\n",
       "        vertical-align: top;\n",
       "    }\n",
       "\n",
       "    .dataframe thead th {\n",
       "        text-align: right;\n",
       "    }\n",
       "</style>\n",
       "<table border=\"1\" class=\"dataframe\">\n",
       "  <thead>\n",
       "    <tr style=\"text-align: right;\">\n",
       "      <th></th>\n",
       "      <th>0</th>\n",
       "      <th>1</th>\n",
       "      <th>2</th>\n",
       "    </tr>\n",
       "  </thead>\n",
       "  <tbody>\n",
       "    <tr>\n",
       "      <th>0</th>\n",
       "      <td>0</td>\n",
       "      <td>1</td>\n",
       "      <td>2</td>\n",
       "    </tr>\n",
       "    <tr>\n",
       "      <th>1</th>\n",
       "      <td>3</td>\n",
       "      <td>4</td>\n",
       "      <td>5</td>\n",
       "    </tr>\n",
       "  </tbody>\n",
       "</table>\n",
       "</div>"
      ],
      "text/plain": [
       "   0  1  2\n",
       "0  0  1  2\n",
       "1  3  4  5"
      ]
     },
     "execution_count": 109,
     "metadata": {},
     "output_type": "execute_result"
    }
   ],
   "source": [
    "pd.DataFrame(np.arange(2*3).reshape(2,3))"
   ]
  },
  {
   "cell_type": "markdown",
   "id": "3f65325d-5c47-4263-abe7-3711f88f1b35",
   "metadata": {},
   "source": [
    "## 열의 이름 부여 "
   ]
  },
  {
   "cell_type": "markdown",
   "id": "036d1744-edaa-4d7a-a6d1-58b3e6162afb",
   "metadata": {},
   "source": [
    "`-` 방법1: 딕셔너리를 통하여 만들면 딕셔너리의 key가 자동으로 열의 이름이 된다. "
   ]
  },
  {
   "cell_type": "code",
   "execution_count": 110,
   "id": "8bc4675c-69f6-40c1-a4ef-71fd40feac77",
   "metadata": {},
   "outputs": [
    {
     "data": {
      "text/html": [
       "<div>\n",
       "<style scoped>\n",
       "    .dataframe tbody tr th:only-of-type {\n",
       "        vertical-align: middle;\n",
       "    }\n",
       "\n",
       "    .dataframe tbody tr th {\n",
       "        vertical-align: top;\n",
       "    }\n",
       "\n",
       "    .dataframe thead th {\n",
       "        text-align: right;\n",
       "    }\n",
       "</style>\n",
       "<table border=\"1\" class=\"dataframe\">\n",
       "  <thead>\n",
       "    <tr style=\"text-align: right;\">\n",
       "      <th></th>\n",
       "      <th>att</th>\n",
       "      <th>mid</th>\n",
       "    </tr>\n",
       "  </thead>\n",
       "  <tbody>\n",
       "    <tr>\n",
       "      <th>0</th>\n",
       "      <td>30</td>\n",
       "      <td>50</td>\n",
       "    </tr>\n",
       "    <tr>\n",
       "      <th>1</th>\n",
       "      <td>40</td>\n",
       "      <td>60</td>\n",
       "    </tr>\n",
       "    <tr>\n",
       "      <th>2</th>\n",
       "      <td>50</td>\n",
       "      <td>70</td>\n",
       "    </tr>\n",
       "  </tbody>\n",
       "</table>\n",
       "</div>"
      ],
      "text/plain": [
       "   att  mid\n",
       "0   30   50\n",
       "1   40   60\n",
       "2   50   70"
      ]
     },
     "execution_count": 110,
     "metadata": {},
     "output_type": "execute_result"
    }
   ],
   "source": [
    "pd.DataFrame({'att':np.array([30,40,50]),'mid':np.array([50,60,70])})"
   ]
  },
  {
   "cell_type": "markdown",
   "id": "71da7065-9c1b-40ad-aadf-67c98cdaa6de",
   "metadata": {},
   "source": [
    "`-` 방법2: pd.DataFrame()의 옵션에 columns를 이용"
   ]
  },
  {
   "cell_type": "code",
   "execution_count": 111,
   "id": "be88c979-0bc3-48e9-9e7c-9cac8edbea3a",
   "metadata": {},
   "outputs": [
    {
     "data": {
      "text/html": [
       "<div>\n",
       "<style scoped>\n",
       "    .dataframe tbody tr th:only-of-type {\n",
       "        vertical-align: middle;\n",
       "    }\n",
       "\n",
       "    .dataframe tbody tr th {\n",
       "        vertical-align: top;\n",
       "    }\n",
       "\n",
       "    .dataframe thead th {\n",
       "        text-align: right;\n",
       "    }\n",
       "</style>\n",
       "<table border=\"1\" class=\"dataframe\">\n",
       "  <thead>\n",
       "    <tr style=\"text-align: right;\">\n",
       "      <th></th>\n",
       "      <th>X1</th>\n",
       "      <th>X2</th>\n",
       "      <th>X3</th>\n",
       "    </tr>\n",
       "  </thead>\n",
       "  <tbody>\n",
       "    <tr>\n",
       "      <th>0</th>\n",
       "      <td>0</td>\n",
       "      <td>1</td>\n",
       "      <td>2</td>\n",
       "    </tr>\n",
       "    <tr>\n",
       "      <th>1</th>\n",
       "      <td>3</td>\n",
       "      <td>4</td>\n",
       "      <td>5</td>\n",
       "    </tr>\n",
       "  </tbody>\n",
       "</table>\n",
       "</div>"
      ],
      "text/plain": [
       "   X1  X2  X3\n",
       "0   0   1   2\n",
       "1   3   4   5"
      ]
     },
     "execution_count": 111,
     "metadata": {},
     "output_type": "execute_result"
    }
   ],
   "source": [
    "pd.DataFrame(np.arange(2*3).reshape(2,3),columns=['X1','X2','X3'])"
   ]
  },
  {
   "cell_type": "markdown",
   "id": "66001f6c-a2db-4fe3-a0a7-6f8205f79063",
   "metadata": {},
   "source": [
    "`-` 방법3: df.columns에 원하는 열이름을 덮어씀 (1)"
   ]
  },
  {
   "cell_type": "code",
   "execution_count": 112,
   "id": "904114fa-49bf-4640-870f-464023563a6f",
   "metadata": {},
   "outputs": [
    {
     "data": {
      "text/html": [
       "<div>\n",
       "<style scoped>\n",
       "    .dataframe tbody tr th:only-of-type {\n",
       "        vertical-align: middle;\n",
       "    }\n",
       "\n",
       "    .dataframe tbody tr th {\n",
       "        vertical-align: top;\n",
       "    }\n",
       "\n",
       "    .dataframe thead th {\n",
       "        text-align: right;\n",
       "    }\n",
       "</style>\n",
       "<table border=\"1\" class=\"dataframe\">\n",
       "  <thead>\n",
       "    <tr style=\"text-align: right;\">\n",
       "      <th></th>\n",
       "      <th>0</th>\n",
       "      <th>1</th>\n",
       "      <th>2</th>\n",
       "    </tr>\n",
       "  </thead>\n",
       "  <tbody>\n",
       "    <tr>\n",
       "      <th>0</th>\n",
       "      <td>0</td>\n",
       "      <td>1</td>\n",
       "      <td>2</td>\n",
       "    </tr>\n",
       "    <tr>\n",
       "      <th>1</th>\n",
       "      <td>3</td>\n",
       "      <td>4</td>\n",
       "      <td>5</td>\n",
       "    </tr>\n",
       "  </tbody>\n",
       "</table>\n",
       "</div>"
      ],
      "text/plain": [
       "   0  1  2\n",
       "0  0  1  2\n",
       "1  3  4  5"
      ]
     },
     "execution_count": 112,
     "metadata": {},
     "output_type": "execute_result"
    }
   ],
   "source": [
    "df=pd.DataFrame(np.arange(2*3).reshape(2,3))\n",
    "df"
   ]
  },
  {
   "cell_type": "code",
   "execution_count": 113,
   "id": "50e2f09d-1b5d-4059-9bb0-14322ceef140",
   "metadata": {},
   "outputs": [],
   "source": [
    "df.columns = ['X1','X2','X3']"
   ]
  },
  {
   "cell_type": "code",
   "execution_count": 114,
   "id": "64ba4620-07ae-4f19-945a-006683aa4221",
   "metadata": {},
   "outputs": [
    {
     "data": {
      "text/html": [
       "<div>\n",
       "<style scoped>\n",
       "    .dataframe tbody tr th:only-of-type {\n",
       "        vertical-align: middle;\n",
       "    }\n",
       "\n",
       "    .dataframe tbody tr th {\n",
       "        vertical-align: top;\n",
       "    }\n",
       "\n",
       "    .dataframe thead th {\n",
       "        text-align: right;\n",
       "    }\n",
       "</style>\n",
       "<table border=\"1\" class=\"dataframe\">\n",
       "  <thead>\n",
       "    <tr style=\"text-align: right;\">\n",
       "      <th></th>\n",
       "      <th>X1</th>\n",
       "      <th>X2</th>\n",
       "      <th>X3</th>\n",
       "    </tr>\n",
       "  </thead>\n",
       "  <tbody>\n",
       "    <tr>\n",
       "      <th>0</th>\n",
       "      <td>0</td>\n",
       "      <td>1</td>\n",
       "      <td>2</td>\n",
       "    </tr>\n",
       "    <tr>\n",
       "      <th>1</th>\n",
       "      <td>3</td>\n",
       "      <td>4</td>\n",
       "      <td>5</td>\n",
       "    </tr>\n",
       "  </tbody>\n",
       "</table>\n",
       "</div>"
      ],
      "text/plain": [
       "   X1  X2  X3\n",
       "0   0   1   2\n",
       "1   3   4   5"
      ]
     },
     "execution_count": 114,
     "metadata": {},
     "output_type": "execute_result"
    }
   ],
   "source": [
    "df"
   ]
  },
  {
   "cell_type": "code",
   "execution_count": 115,
   "id": "e7f4077e-d9ba-4dd4-b809-636cfb7c4ab5",
   "metadata": {},
   "outputs": [
    {
     "data": {
      "text/plain": [
       "Index(['X1', 'X2', 'X3'], dtype='object')"
      ]
     },
     "execution_count": 115,
     "metadata": {},
     "output_type": "execute_result"
    }
   ],
   "source": [
    "df.columns"
   ]
  },
  {
   "cell_type": "markdown",
   "id": "f7a44c78-ada6-4e7a-b843-4c5d53d3771f",
   "metadata": {},
   "source": [
    "`-` 방법4: df.columns에 원하는 열이름을 덮어씀 (2)"
   ]
  },
  {
   "cell_type": "code",
   "execution_count": 116,
   "id": "5f6db32a-d02f-45dc-a08e-25efb647dc24",
   "metadata": {},
   "outputs": [
    {
     "data": {
      "text/html": [
       "<div>\n",
       "<style scoped>\n",
       "    .dataframe tbody tr th:only-of-type {\n",
       "        vertical-align: middle;\n",
       "    }\n",
       "\n",
       "    .dataframe tbody tr th {\n",
       "        vertical-align: top;\n",
       "    }\n",
       "\n",
       "    .dataframe thead th {\n",
       "        text-align: right;\n",
       "    }\n",
       "</style>\n",
       "<table border=\"1\" class=\"dataframe\">\n",
       "  <thead>\n",
       "    <tr style=\"text-align: right;\">\n",
       "      <th></th>\n",
       "      <th>0</th>\n",
       "      <th>1</th>\n",
       "      <th>2</th>\n",
       "    </tr>\n",
       "  </thead>\n",
       "  <tbody>\n",
       "    <tr>\n",
       "      <th>0</th>\n",
       "      <td>0</td>\n",
       "      <td>1</td>\n",
       "      <td>2</td>\n",
       "    </tr>\n",
       "    <tr>\n",
       "      <th>1</th>\n",
       "      <td>3</td>\n",
       "      <td>4</td>\n",
       "      <td>5</td>\n",
       "    </tr>\n",
       "  </tbody>\n",
       "</table>\n",
       "</div>"
      ],
      "text/plain": [
       "   0  1  2\n",
       "0  0  1  2\n",
       "1  3  4  5"
      ]
     },
     "execution_count": 116,
     "metadata": {},
     "output_type": "execute_result"
    }
   ],
   "source": [
    "df=pd.DataFrame(np.arange(2*3).reshape(2,3))\n",
    "df"
   ]
  },
  {
   "cell_type": "code",
   "execution_count": 117,
   "id": "16a8a496-c972-435f-9934-ac27c550b92f",
   "metadata": {},
   "outputs": [],
   "source": [
    "df.columns = pd.Index(['X1','X2','X3'])"
   ]
  },
  {
   "cell_type": "code",
   "execution_count": 118,
   "id": "2ca36f99-9fda-4fbe-b8cc-002f9c87a06d",
   "metadata": {},
   "outputs": [
    {
     "data": {
      "text/html": [
       "<div>\n",
       "<style scoped>\n",
       "    .dataframe tbody tr th:only-of-type {\n",
       "        vertical-align: middle;\n",
       "    }\n",
       "\n",
       "    .dataframe tbody tr th {\n",
       "        vertical-align: top;\n",
       "    }\n",
       "\n",
       "    .dataframe thead th {\n",
       "        text-align: right;\n",
       "    }\n",
       "</style>\n",
       "<table border=\"1\" class=\"dataframe\">\n",
       "  <thead>\n",
       "    <tr style=\"text-align: right;\">\n",
       "      <th></th>\n",
       "      <th>X1</th>\n",
       "      <th>X2</th>\n",
       "      <th>X3</th>\n",
       "    </tr>\n",
       "  </thead>\n",
       "  <tbody>\n",
       "    <tr>\n",
       "      <th>0</th>\n",
       "      <td>0</td>\n",
       "      <td>1</td>\n",
       "      <td>2</td>\n",
       "    </tr>\n",
       "    <tr>\n",
       "      <th>1</th>\n",
       "      <td>3</td>\n",
       "      <td>4</td>\n",
       "      <td>5</td>\n",
       "    </tr>\n",
       "  </tbody>\n",
       "</table>\n",
       "</div>"
      ],
      "text/plain": [
       "   X1  X2  X3\n",
       "0   0   1   2\n",
       "1   3   4   5"
      ]
     },
     "execution_count": 118,
     "metadata": {},
     "output_type": "execute_result"
    }
   ],
   "source": [
    "df"
   ]
  },
  {
   "cell_type": "markdown",
   "id": "10a32778-eaae-4196-9868-98de806ca5eb",
   "metadata": {},
   "source": [
    "방법4가 방법3의 방식보다 컴퓨터가 이해하기 좋다. (= 불필요한 에러 혹은 경고메시지를 방지할 수 있다) "
   ]
  },
  {
   "cell_type": "markdown",
   "id": "94154c4c-faf4-4e39-8fd0-38af9f5929a7",
   "metadata": {},
   "source": [
    "## 행의 이름 부여 "
   ]
  },
  {
   "cell_type": "markdown",
   "id": "6206738e-3363-49ce-ac83-0db484ae2fd7",
   "metadata": {},
   "source": [
    "`-` 방법1: 중첩 dict이면 nested dic의 key가 알아서 행의 이름으로 된다. "
   ]
  },
  {
   "cell_type": "code",
   "execution_count": 119,
   "id": "cd3d349d-3960-4df0-961e-eb2e66a6ae26",
   "metadata": {},
   "outputs": [
    {
     "data": {
      "text/html": [
       "<div>\n",
       "<style scoped>\n",
       "    .dataframe tbody tr th:only-of-type {\n",
       "        vertical-align: middle;\n",
       "    }\n",
       "\n",
       "    .dataframe tbody tr th {\n",
       "        vertical-align: top;\n",
       "    }\n",
       "\n",
       "    .dataframe thead th {\n",
       "        text-align: right;\n",
       "    }\n",
       "</style>\n",
       "<table border=\"1\" class=\"dataframe\">\n",
       "  <thead>\n",
       "    <tr style=\"text-align: right;\">\n",
       "      <th></th>\n",
       "      <th>att</th>\n",
       "      <th>mid</th>\n",
       "    </tr>\n",
       "  </thead>\n",
       "  <tbody>\n",
       "    <tr>\n",
       "      <th>guebin</th>\n",
       "      <td>30</td>\n",
       "      <td>5</td>\n",
       "    </tr>\n",
       "    <tr>\n",
       "      <th>iu</th>\n",
       "      <td>40</td>\n",
       "      <td>45</td>\n",
       "    </tr>\n",
       "    <tr>\n",
       "      <th>hynn</th>\n",
       "      <td>50</td>\n",
       "      <td>90</td>\n",
       "    </tr>\n",
       "  </tbody>\n",
       "</table>\n",
       "</div>"
      ],
      "text/plain": [
       "        att  mid\n",
       "guebin   30    5\n",
       "iu       40   45\n",
       "hynn     50   90"
      ]
     },
     "execution_count": 119,
     "metadata": {},
     "output_type": "execute_result"
    }
   ],
   "source": [
    "pd.DataFrame({'att':{'guebin':30, 'iu':40, 'hynn':50} , 'mid':{'guebin':5, 'iu':45, 'hynn':90}})"
   ]
  },
  {
   "cell_type": "markdown",
   "id": "8f86cddc-c216-47f3-9f25-e08ff7f97a1c",
   "metadata": {},
   "source": [
    "`-` 방법2: pd.DataFrame()의 index 옵션 이용 "
   ]
  },
  {
   "cell_type": "code",
   "execution_count": 120,
   "id": "449a844a-2e40-47d7-8de3-1dcead7cf7dd",
   "metadata": {},
   "outputs": [
    {
     "data": {
      "text/html": [
       "<div>\n",
       "<style scoped>\n",
       "    .dataframe tbody tr th:only-of-type {\n",
       "        vertical-align: middle;\n",
       "    }\n",
       "\n",
       "    .dataframe tbody tr th {\n",
       "        vertical-align: top;\n",
       "    }\n",
       "\n",
       "    .dataframe thead th {\n",
       "        text-align: right;\n",
       "    }\n",
       "</style>\n",
       "<table border=\"1\" class=\"dataframe\">\n",
       "  <thead>\n",
       "    <tr style=\"text-align: right;\">\n",
       "      <th></th>\n",
       "      <th>att</th>\n",
       "      <th>mid</th>\n",
       "    </tr>\n",
       "  </thead>\n",
       "  <tbody>\n",
       "    <tr>\n",
       "      <th>guebin</th>\n",
       "      <td>30</td>\n",
       "      <td>5</td>\n",
       "    </tr>\n",
       "    <tr>\n",
       "      <th>iu</th>\n",
       "      <td>40</td>\n",
       "      <td>45</td>\n",
       "    </tr>\n",
       "    <tr>\n",
       "      <th>hynn</th>\n",
       "      <td>50</td>\n",
       "      <td>90</td>\n",
       "    </tr>\n",
       "  </tbody>\n",
       "</table>\n",
       "</div>"
      ],
      "text/plain": [
       "        att  mid\n",
       "guebin   30    5\n",
       "iu       40   45\n",
       "hynn     50   90"
      ]
     },
     "execution_count": 120,
     "metadata": {},
     "output_type": "execute_result"
    }
   ],
   "source": [
    "pd.DataFrame({'att':[30,40,50] , 'mid':[5,45,90]}, index=['guebin','iu','hynn'])"
   ]
  },
  {
   "cell_type": "markdown",
   "id": "6b5ca2e2-bcca-448f-83f3-0247006bbc3c",
   "metadata": {},
   "source": [
    "`-` 방법3: df.index에 덮어씌움 "
   ]
  },
  {
   "cell_type": "code",
   "execution_count": 121,
   "id": "b8b6d510-4117-410c-9941-e590efdac910",
   "metadata": {},
   "outputs": [
    {
     "data": {
      "text/html": [
       "<div>\n",
       "<style scoped>\n",
       "    .dataframe tbody tr th:only-of-type {\n",
       "        vertical-align: middle;\n",
       "    }\n",
       "\n",
       "    .dataframe tbody tr th {\n",
       "        vertical-align: top;\n",
       "    }\n",
       "\n",
       "    .dataframe thead th {\n",
       "        text-align: right;\n",
       "    }\n",
       "</style>\n",
       "<table border=\"1\" class=\"dataframe\">\n",
       "  <thead>\n",
       "    <tr style=\"text-align: right;\">\n",
       "      <th></th>\n",
       "      <th>att</th>\n",
       "      <th>mid</th>\n",
       "    </tr>\n",
       "  </thead>\n",
       "  <tbody>\n",
       "    <tr>\n",
       "      <th>0</th>\n",
       "      <td>30</td>\n",
       "      <td>5</td>\n",
       "    </tr>\n",
       "    <tr>\n",
       "      <th>1</th>\n",
       "      <td>40</td>\n",
       "      <td>45</td>\n",
       "    </tr>\n",
       "    <tr>\n",
       "      <th>2</th>\n",
       "      <td>50</td>\n",
       "      <td>90</td>\n",
       "    </tr>\n",
       "  </tbody>\n",
       "</table>\n",
       "</div>"
      ],
      "text/plain": [
       "   att  mid\n",
       "0   30    5\n",
       "1   40   45\n",
       "2   50   90"
      ]
     },
     "execution_count": 121,
     "metadata": {},
     "output_type": "execute_result"
    }
   ],
   "source": [
    "df=pd.DataFrame({'att':[30,40,50] , 'mid':[5,45,90]})\n",
    "df"
   ]
  },
  {
   "cell_type": "code",
   "execution_count": 124,
   "id": "affd2565-f5cf-47e8-a8fb-b0086d0a220e",
   "metadata": {},
   "outputs": [
    {
     "data": {
      "text/html": [
       "<div>\n",
       "<style scoped>\n",
       "    .dataframe tbody tr th:only-of-type {\n",
       "        vertical-align: middle;\n",
       "    }\n",
       "\n",
       "    .dataframe tbody tr th {\n",
       "        vertical-align: top;\n",
       "    }\n",
       "\n",
       "    .dataframe thead th {\n",
       "        text-align: right;\n",
       "    }\n",
       "</style>\n",
       "<table border=\"1\" class=\"dataframe\">\n",
       "  <thead>\n",
       "    <tr style=\"text-align: right;\">\n",
       "      <th></th>\n",
       "      <th>att</th>\n",
       "      <th>mid</th>\n",
       "    </tr>\n",
       "  </thead>\n",
       "  <tbody>\n",
       "    <tr>\n",
       "      <th>guebin</th>\n",
       "      <td>30</td>\n",
       "      <td>5</td>\n",
       "    </tr>\n",
       "    <tr>\n",
       "      <th>iu</th>\n",
       "      <td>40</td>\n",
       "      <td>45</td>\n",
       "    </tr>\n",
       "    <tr>\n",
       "      <th>hynn</th>\n",
       "      <td>50</td>\n",
       "      <td>90</td>\n",
       "    </tr>\n",
       "  </tbody>\n",
       "</table>\n",
       "</div>"
      ],
      "text/plain": [
       "        att  mid\n",
       "guebin   30    5\n",
       "iu       40   45\n",
       "hynn     50   90"
      ]
     },
     "execution_count": 124,
     "metadata": {},
     "output_type": "execute_result"
    }
   ],
   "source": [
    "df.index = pd.Index(['guebin','iu','hynn'])\n",
    "#df.index = ['guebin','iu','hynn'] <- 이것도 실행가능하기는함 \n",
    "df"
   ]
  },
  {
   "cell_type": "markdown",
   "id": "22138056-5d90-4b76-82ec-6474d88549df",
   "metadata": {},
   "source": [
    "`-` 방법4: df.set_index() 를 이용하여 덮어씌운다 "
   ]
  },
  {
   "cell_type": "code",
   "execution_count": 122,
   "id": "72a0df22-763e-42c4-8b98-511b5d6095c2",
   "metadata": {},
   "outputs": [
    {
     "data": {
      "text/html": [
       "<div>\n",
       "<style scoped>\n",
       "    .dataframe tbody tr th:only-of-type {\n",
       "        vertical-align: middle;\n",
       "    }\n",
       "\n",
       "    .dataframe tbody tr th {\n",
       "        vertical-align: top;\n",
       "    }\n",
       "\n",
       "    .dataframe thead th {\n",
       "        text-align: right;\n",
       "    }\n",
       "</style>\n",
       "<table border=\"1\" class=\"dataframe\">\n",
       "  <thead>\n",
       "    <tr style=\"text-align: right;\">\n",
       "      <th></th>\n",
       "      <th>att</th>\n",
       "      <th>mid</th>\n",
       "    </tr>\n",
       "  </thead>\n",
       "  <tbody>\n",
       "    <tr>\n",
       "      <th>0</th>\n",
       "      <td>30</td>\n",
       "      <td>5</td>\n",
       "    </tr>\n",
       "    <tr>\n",
       "      <th>1</th>\n",
       "      <td>40</td>\n",
       "      <td>45</td>\n",
       "    </tr>\n",
       "    <tr>\n",
       "      <th>2</th>\n",
       "      <td>50</td>\n",
       "      <td>90</td>\n",
       "    </tr>\n",
       "  </tbody>\n",
       "</table>\n",
       "</div>"
      ],
      "text/plain": [
       "   att  mid\n",
       "0   30    5\n",
       "1   40   45\n",
       "2   50   90"
      ]
     },
     "execution_count": 122,
     "metadata": {},
     "output_type": "execute_result"
    }
   ],
   "source": [
    "df=pd.DataFrame({'att':[30,40,50] , 'mid':[5,45,90]})\n",
    "df"
   ]
  },
  {
   "cell_type": "code",
   "execution_count": 125,
   "id": "deda5f10-6a08-4c5e-bbaf-09bd812280b6",
   "metadata": {},
   "outputs": [
    {
     "data": {
      "text/html": [
       "<div>\n",
       "<style scoped>\n",
       "    .dataframe tbody tr th:only-of-type {\n",
       "        vertical-align: middle;\n",
       "    }\n",
       "\n",
       "    .dataframe tbody tr th {\n",
       "        vertical-align: top;\n",
       "    }\n",
       "\n",
       "    .dataframe thead th {\n",
       "        text-align: right;\n",
       "    }\n",
       "</style>\n",
       "<table border=\"1\" class=\"dataframe\">\n",
       "  <thead>\n",
       "    <tr style=\"text-align: right;\">\n",
       "      <th></th>\n",
       "      <th>att</th>\n",
       "      <th>mid</th>\n",
       "    </tr>\n",
       "  </thead>\n",
       "  <tbody>\n",
       "    <tr>\n",
       "      <th>guebin</th>\n",
       "      <td>30</td>\n",
       "      <td>5</td>\n",
       "    </tr>\n",
       "    <tr>\n",
       "      <th>iu</th>\n",
       "      <td>40</td>\n",
       "      <td>45</td>\n",
       "    </tr>\n",
       "    <tr>\n",
       "      <th>hynn</th>\n",
       "      <td>50</td>\n",
       "      <td>90</td>\n",
       "    </tr>\n",
       "  </tbody>\n",
       "</table>\n",
       "</div>"
      ],
      "text/plain": [
       "        att  mid\n",
       "guebin   30    5\n",
       "iu       40   45\n",
       "hynn     50   90"
      ]
     },
     "execution_count": 125,
     "metadata": {},
     "output_type": "execute_result"
    }
   ],
   "source": [
    "df.set_index(pd.Index(['guebin','iu','hynn']))"
   ]
  },
  {
   "cell_type": "code",
   "execution_count": 126,
   "id": "ba9f3dfd-3884-4a06-9ec0-0152ba368287",
   "metadata": {},
   "outputs": [
    {
     "ename": "KeyError",
     "evalue": "\"None of ['guebin', 'iu', 'hynn'] are in the columns\"",
     "output_type": "error",
     "traceback": [
      "\u001b[0;31m---------------------------------------------------------------------------\u001b[0m",
      "\u001b[0;31mKeyError\u001b[0m                                  Traceback (most recent call last)",
      "Cell \u001b[0;32mIn[126], line 1\u001b[0m\n\u001b[0;32m----> 1\u001b[0m \u001b[43mdf\u001b[49m\u001b[38;5;241;43m.\u001b[39;49m\u001b[43mset_index\u001b[49m\u001b[43m(\u001b[49m\u001b[43m[\u001b[49m\u001b[38;5;124;43m'\u001b[39;49m\u001b[38;5;124;43mguebin\u001b[39;49m\u001b[38;5;124;43m'\u001b[39;49m\u001b[43m,\u001b[49m\u001b[38;5;124;43m'\u001b[39;49m\u001b[38;5;124;43miu\u001b[39;49m\u001b[38;5;124;43m'\u001b[39;49m\u001b[43m,\u001b[49m\u001b[38;5;124;43m'\u001b[39;49m\u001b[38;5;124;43mhynn\u001b[39;49m\u001b[38;5;124;43m'\u001b[39;49m\u001b[43m]\u001b[49m\u001b[43m)\u001b[49m\n",
      "File \u001b[0;32m~/anaconda3/envs/py38/lib/python3.8/site-packages/pandas/util/_decorators.py:331\u001b[0m, in \u001b[0;36mdeprecate_nonkeyword_arguments.<locals>.decorate.<locals>.wrapper\u001b[0;34m(*args, **kwargs)\u001b[0m\n\u001b[1;32m    325\u001b[0m \u001b[38;5;28;01mif\u001b[39;00m \u001b[38;5;28mlen\u001b[39m(args) \u001b[38;5;241m>\u001b[39m num_allow_args:\n\u001b[1;32m    326\u001b[0m     warnings\u001b[38;5;241m.\u001b[39mwarn(\n\u001b[1;32m    327\u001b[0m         msg\u001b[38;5;241m.\u001b[39mformat(arguments\u001b[38;5;241m=\u001b[39m_format_argument_list(allow_args)),\n\u001b[1;32m    328\u001b[0m         \u001b[38;5;167;01mFutureWarning\u001b[39;00m,\n\u001b[1;32m    329\u001b[0m         stacklevel\u001b[38;5;241m=\u001b[39mfind_stack_level(),\n\u001b[1;32m    330\u001b[0m     )\n\u001b[0;32m--> 331\u001b[0m \u001b[38;5;28;01mreturn\u001b[39;00m \u001b[43mfunc\u001b[49m\u001b[43m(\u001b[49m\u001b[38;5;241;43m*\u001b[39;49m\u001b[43margs\u001b[49m\u001b[43m,\u001b[49m\u001b[43m \u001b[49m\u001b[38;5;241;43m*\u001b[39;49m\u001b[38;5;241;43m*\u001b[39;49m\u001b[43mkwargs\u001b[49m\u001b[43m)\u001b[49m\n",
      "File \u001b[0;32m~/anaconda3/envs/py38/lib/python3.8/site-packages/pandas/core/frame.py:6012\u001b[0m, in \u001b[0;36mDataFrame.set_index\u001b[0;34m(self, keys, drop, append, inplace, verify_integrity)\u001b[0m\n\u001b[1;32m   6009\u001b[0m                 missing\u001b[38;5;241m.\u001b[39mappend(col)\n\u001b[1;32m   6011\u001b[0m \u001b[38;5;28;01mif\u001b[39;00m missing:\n\u001b[0;32m-> 6012\u001b[0m     \u001b[38;5;28;01mraise\u001b[39;00m \u001b[38;5;167;01mKeyError\u001b[39;00m(\u001b[38;5;124mf\u001b[39m\u001b[38;5;124m\"\u001b[39m\u001b[38;5;124mNone of \u001b[39m\u001b[38;5;132;01m{\u001b[39;00mmissing\u001b[38;5;132;01m}\u001b[39;00m\u001b[38;5;124m are in the columns\u001b[39m\u001b[38;5;124m\"\u001b[39m)\n\u001b[1;32m   6014\u001b[0m \u001b[38;5;28;01mif\u001b[39;00m inplace:\n\u001b[1;32m   6015\u001b[0m     frame \u001b[38;5;241m=\u001b[39m \u001b[38;5;28mself\u001b[39m\n",
      "\u001b[0;31mKeyError\u001b[0m: \"None of ['guebin', 'iu', 'hynn'] are in the columns\""
     ]
    }
   ],
   "source": [
    "df.set_index(['guebin','iu','hynn'])"
   ]
  },
  {
   "cell_type": "code",
   "execution_count": 127,
   "id": "9d914044-8799-49b5-9bb4-a39ab04945ef",
   "metadata": {},
   "outputs": [
    {
     "data": {
      "text/html": [
       "<div>\n",
       "<style scoped>\n",
       "    .dataframe tbody tr th:only-of-type {\n",
       "        vertical-align: middle;\n",
       "    }\n",
       "\n",
       "    .dataframe tbody tr th {\n",
       "        vertical-align: top;\n",
       "    }\n",
       "\n",
       "    .dataframe thead th {\n",
       "        text-align: right;\n",
       "    }\n",
       "</style>\n",
       "<table border=\"1\" class=\"dataframe\">\n",
       "  <thead>\n",
       "    <tr style=\"text-align: right;\">\n",
       "      <th></th>\n",
       "      <th>att</th>\n",
       "      <th>mid</th>\n",
       "    </tr>\n",
       "  </thead>\n",
       "  <tbody>\n",
       "    <tr>\n",
       "      <th>guebin</th>\n",
       "      <td>30</td>\n",
       "      <td>5</td>\n",
       "    </tr>\n",
       "    <tr>\n",
       "      <th>iu</th>\n",
       "      <td>40</td>\n",
       "      <td>45</td>\n",
       "    </tr>\n",
       "    <tr>\n",
       "      <th>hynn</th>\n",
       "      <td>50</td>\n",
       "      <td>90</td>\n",
       "    </tr>\n",
       "  </tbody>\n",
       "</table>\n",
       "</div>"
      ],
      "text/plain": [
       "        att  mid\n",
       "guebin   30    5\n",
       "iu       40   45\n",
       "hynn     50   90"
      ]
     },
     "execution_count": 127,
     "metadata": {},
     "output_type": "execute_result"
    }
   ],
   "source": [
    "df.set_index([['guebin','iu','hynn']]) # 꺽쇠를 한번 더 넣어주면 에러를 피할수 있다. "
   ]
  },
  {
   "cell_type": "markdown",
   "id": "166a7ada-b5c7-4495-b998-b322e8aad62d",
   "metadata": {},
   "source": [
    "## 자료형, len, shape, for문의 반복변수"
   ]
  },
  {
   "cell_type": "code",
   "execution_count": 128,
   "id": "e2ee51c9-df79-41d7-9632-75c27e774356",
   "metadata": {},
   "outputs": [
    {
     "data": {
      "text/html": [
       "<div>\n",
       "<style scoped>\n",
       "    .dataframe tbody tr th:only-of-type {\n",
       "        vertical-align: middle;\n",
       "    }\n",
       "\n",
       "    .dataframe tbody tr th {\n",
       "        vertical-align: top;\n",
       "    }\n",
       "\n",
       "    .dataframe thead th {\n",
       "        text-align: right;\n",
       "    }\n",
       "</style>\n",
       "<table border=\"1\" class=\"dataframe\">\n",
       "  <thead>\n",
       "    <tr style=\"text-align: right;\">\n",
       "      <th></th>\n",
       "      <th>att</th>\n",
       "      <th>mid</th>\n",
       "    </tr>\n",
       "  </thead>\n",
       "  <tbody>\n",
       "    <tr>\n",
       "      <th>0</th>\n",
       "      <td>30</td>\n",
       "      <td>5</td>\n",
       "    </tr>\n",
       "    <tr>\n",
       "      <th>1</th>\n",
       "      <td>40</td>\n",
       "      <td>45</td>\n",
       "    </tr>\n",
       "    <tr>\n",
       "      <th>2</th>\n",
       "      <td>50</td>\n",
       "      <td>90</td>\n",
       "    </tr>\n",
       "  </tbody>\n",
       "</table>\n",
       "</div>"
      ],
      "text/plain": [
       "   att  mid\n",
       "0   30    5\n",
       "1   40   45\n",
       "2   50   90"
      ]
     },
     "execution_count": 128,
     "metadata": {},
     "output_type": "execute_result"
    }
   ],
   "source": [
    "df = pd.DataFrame({'att':[30,40,50],'mid':[5,45,90]})\n",
    "df"
   ]
  },
  {
   "cell_type": "markdown",
   "id": "4599320c-659c-470d-afca-7c3e563990bf",
   "metadata": {},
   "source": [
    "`-` type"
   ]
  },
  {
   "cell_type": "code",
   "execution_count": 129,
   "id": "1276d893-fb94-4e43-9636-0abb3f78f78c",
   "metadata": {},
   "outputs": [
    {
     "data": {
      "text/plain": [
       "pandas.core.frame.DataFrame"
      ]
     },
     "execution_count": 129,
     "metadata": {},
     "output_type": "execute_result"
    }
   ],
   "source": [
    "type(df)"
   ]
  },
  {
   "cell_type": "markdown",
   "id": "838dafa9-7207-4577-9172-4586533de10a",
   "metadata": {},
   "source": [
    "`-` len"
   ]
  },
  {
   "cell_type": "code",
   "execution_count": 136,
   "id": "2cfc6107-4314-43f0-bd60-b49f9f92aa7d",
   "metadata": {},
   "outputs": [
    {
     "data": {
      "text/plain": [
       "3"
      ]
     },
     "execution_count": 136,
     "metadata": {},
     "output_type": "execute_result"
    }
   ],
   "source": [
    "len(df) # row의 갯수 "
   ]
  },
  {
   "cell_type": "markdown",
   "id": "34691ee1-1caf-45f9-b5af-ca8852dd598f",
   "metadata": {},
   "source": [
    "`-` shape"
   ]
  },
  {
   "cell_type": "code",
   "execution_count": 133,
   "id": "46471608-49a3-488f-830a-fd21f220a91a",
   "metadata": {},
   "outputs": [
    {
     "data": {
      "text/plain": [
       "(3, 2)"
      ]
     },
     "execution_count": 133,
     "metadata": {},
     "output_type": "execute_result"
    }
   ],
   "source": [
    "df.shape "
   ]
  },
  {
   "cell_type": "markdown",
   "id": "b6e4c184-b3de-46e2-a266-1f95bfdd261d",
   "metadata": {},
   "source": [
    "`-` for문의 반복변수 "
   ]
  },
  {
   "cell_type": "code",
   "execution_count": 139,
   "id": "71c980eb-ca00-483e-9e2a-098b235ecdce",
   "metadata": {},
   "outputs": [
    {
     "name": "stdout",
     "output_type": "stream",
     "text": [
      "att\n",
      "mid\n"
     ]
    }
   ],
   "source": [
    "for k in df:\n",
    "    print(k) # 딕셔너리같죠"
   ]
  },
  {
   "cell_type": "code",
   "execution_count": 140,
   "id": "62ebf4f1-e0d3-4716-9083-5930643347c7",
   "metadata": {},
   "outputs": [
    {
     "name": "stdout",
     "output_type": "stream",
     "text": [
      "att\n",
      "mid\n"
     ]
    }
   ],
   "source": [
    "for k in {'att':[30,40,50],'mid':[5,45,90]}: \n",
    "    print(k)"
   ]
  },
  {
   "cell_type": "markdown",
   "id": "24a92bd6",
   "metadata": {},
   "source": [
    "**참고:** df는 진짜 딕셔너리 느낌 강해요 "
   ]
  },
  {
   "cell_type": "code",
   "execution_count": 149,
   "id": "736b551c",
   "metadata": {},
   "outputs": [
    {
     "data": {
      "text/plain": [
       "Index(['att', 'mid'], dtype='object')"
      ]
     },
     "execution_count": 149,
     "metadata": {},
     "output_type": "execute_result"
    }
   ],
   "source": [
    "df.keys()"
   ]
  },
  {
   "cell_type": "code",
   "execution_count": 151,
   "id": "37259806",
   "metadata": {},
   "outputs": [
    {
     "name": "stdout",
     "output_type": "stream",
     "text": [
      "att\n",
      "mid\n"
     ]
    }
   ],
   "source": [
    "for k,v in df.items():\n",
    "    print(k)"
   ]
  },
  {
   "cell_type": "markdown",
   "id": "c1648b82-e880-4ae9-afa0-d026e2a7074c",
   "metadata": {},
   "source": [
    "## pd.Series"
   ]
  },
  {
   "cell_type": "markdown",
   "id": "f89e1368-a99e-468a-bd04-b5219c431f6c",
   "metadata": {},
   "source": [
    "`-` 2차원 ndarray가 pd.DataFrame에 대응한다면 1차원 ndarray는 pd.Series에 대응한다. "
   ]
  },
  {
   "cell_type": "code",
   "execution_count": 156,
   "id": "378667b9-9654-4103-ae7a-44f745618e39",
   "metadata": {},
   "outputs": [
    {
     "data": {
      "text/plain": [
       "0    0.117038\n",
       "1   -0.350165\n",
       "2    0.410882\n",
       "3   -0.763975\n",
       "4    0.766821\n",
       "5    1.032189\n",
       "6    0.404380\n",
       "7   -0.134916\n",
       "8   -0.767637\n",
       "9   -0.642942\n",
       "dtype: float64"
      ]
     },
     "execution_count": 156,
     "metadata": {},
     "output_type": "execute_result"
    }
   ],
   "source": [
    "a=pd.Series(np.random.randn(10))\n",
    "a"
   ]
  },
  {
   "cell_type": "code",
   "execution_count": 157,
   "id": "e3fc07ae-177c-4759-bb7d-2a353ffb3915",
   "metadata": {},
   "outputs": [
    {
     "data": {
      "text/plain": [
       "pandas.core.series.Series"
      ]
     },
     "execution_count": 157,
     "metadata": {},
     "output_type": "execute_result"
    }
   ],
   "source": [
    "type(a)"
   ]
  },
  {
   "cell_type": "code",
   "execution_count": 158,
   "id": "0f395f39-d669-4cdb-be0c-99579009ca54",
   "metadata": {},
   "outputs": [
    {
     "data": {
      "text/plain": [
       "10"
      ]
     },
     "execution_count": 158,
     "metadata": {},
     "output_type": "execute_result"
    }
   ],
   "source": [
    "len(a)"
   ]
  },
  {
   "cell_type": "code",
   "execution_count": 159,
   "id": "52a726cc-bcc1-4b86-9049-7c43b245430f",
   "metadata": {},
   "outputs": [
    {
     "data": {
      "text/plain": [
       "(10,)"
      ]
     },
     "execution_count": 159,
     "metadata": {},
     "output_type": "execute_result"
    }
   ],
   "source": [
    "a.shape"
   ]
  },
  {
   "cell_type": "code",
   "execution_count": 160,
   "id": "791c4268-7add-4bc5-8669-2aceb30b149f",
   "metadata": {},
   "outputs": [
    {
     "name": "stdout",
     "output_type": "stream",
     "text": [
      "0.11703802078481768\n",
      "-0.35016528730819835\n",
      "0.41088231071285214\n",
      "-0.7639751186048923\n",
      "0.7668211908508363\n",
      "1.0321893952706378\n",
      "0.4043801221270989\n",
      "-0.13491594673576462\n",
      "-0.7676372382412047\n",
      "-0.6429423233189866\n"
     ]
    }
   ],
   "source": [
    "for value in a: \n",
    "    print(value)"
   ]
  },
  {
   "cell_type": "markdown",
   "id": "452c2331-ae68-44bd-8a07-0ae92eb09e90",
   "metadata": {},
   "source": [
    "# pandas 공부 2단계 "
   ]
  },
  {
   "cell_type": "markdown",
   "id": "0a4da8aa-1a99-490f-8ebc-e2afec55163a",
   "metadata": {},
   "source": [
    "`-` 데이터 "
   ]
  },
  {
   "cell_type": "code",
   "execution_count": 163,
   "id": "403486c5",
   "metadata": {},
   "outputs": [],
   "source": [
    "np.random.seed(43052)\n",
    "att = np.random.choice(np.arange(10,21)*5,20)\n",
    "rep = np.random.choice(np.arange(5,21)*5,20)\n",
    "mid = np.random.choice(np.arange(0,21)*5,20)\n",
    "fin = np.random.choice(np.arange(0,21)*5,20)\n",
    "key = ['2022-12'+str(s) for s in np.random.choice(np.arange(300,501),20,replace=False)]"
   ]
  },
  {
   "cell_type": "code",
   "execution_count": 168,
   "id": "3f5ca2fe",
   "metadata": {},
   "outputs": [
    {
     "data": {
      "text/html": [
       "<div>\n",
       "<style scoped>\n",
       "    .dataframe tbody tr th:only-of-type {\n",
       "        vertical-align: middle;\n",
       "    }\n",
       "\n",
       "    .dataframe tbody tr th {\n",
       "        vertical-align: top;\n",
       "    }\n",
       "\n",
       "    .dataframe thead th {\n",
       "        text-align: right;\n",
       "    }\n",
       "</style>\n",
       "<table border=\"1\" class=\"dataframe\">\n",
       "  <thead>\n",
       "    <tr style=\"text-align: right;\">\n",
       "      <th></th>\n",
       "      <th>att</th>\n",
       "      <th>rep</th>\n",
       "      <th>mid</th>\n",
       "      <th>fin</th>\n",
       "    </tr>\n",
       "  </thead>\n",
       "  <tbody>\n",
       "    <tr>\n",
       "      <th>2022-12380</th>\n",
       "      <td>65</td>\n",
       "      <td>55</td>\n",
       "      <td>50</td>\n",
       "      <td>40</td>\n",
       "    </tr>\n",
       "    <tr>\n",
       "      <th>2022-12370</th>\n",
       "      <td>95</td>\n",
       "      <td>100</td>\n",
       "      <td>50</td>\n",
       "      <td>80</td>\n",
       "    </tr>\n",
       "    <tr>\n",
       "      <th>2022-12363</th>\n",
       "      <td>65</td>\n",
       "      <td>90</td>\n",
       "      <td>60</td>\n",
       "      <td>30</td>\n",
       "    </tr>\n",
       "    <tr>\n",
       "      <th>2022-12488</th>\n",
       "      <td>55</td>\n",
       "      <td>80</td>\n",
       "      <td>75</td>\n",
       "      <td>80</td>\n",
       "    </tr>\n",
       "    <tr>\n",
       "      <th>2022-12312</th>\n",
       "      <td>80</td>\n",
       "      <td>30</td>\n",
       "      <td>30</td>\n",
       "      <td>100</td>\n",
       "    </tr>\n",
       "    <tr>\n",
       "      <th>2022-12377</th>\n",
       "      <td>75</td>\n",
       "      <td>40</td>\n",
       "      <td>100</td>\n",
       "      <td>15</td>\n",
       "    </tr>\n",
       "    <tr>\n",
       "      <th>2022-12463</th>\n",
       "      <td>65</td>\n",
       "      <td>45</td>\n",
       "      <td>45</td>\n",
       "      <td>90</td>\n",
       "    </tr>\n",
       "    <tr>\n",
       "      <th>2022-12471</th>\n",
       "      <td>60</td>\n",
       "      <td>60</td>\n",
       "      <td>25</td>\n",
       "      <td>0</td>\n",
       "    </tr>\n",
       "    <tr>\n",
       "      <th>2022-12400</th>\n",
       "      <td>95</td>\n",
       "      <td>65</td>\n",
       "      <td>20</td>\n",
       "      <td>10</td>\n",
       "    </tr>\n",
       "    <tr>\n",
       "      <th>2022-12469</th>\n",
       "      <td>90</td>\n",
       "      <td>80</td>\n",
       "      <td>80</td>\n",
       "      <td>20</td>\n",
       "    </tr>\n",
       "    <tr>\n",
       "      <th>2022-12318</th>\n",
       "      <td>55</td>\n",
       "      <td>75</td>\n",
       "      <td>35</td>\n",
       "      <td>25</td>\n",
       "    </tr>\n",
       "    <tr>\n",
       "      <th>2022-12432</th>\n",
       "      <td>95</td>\n",
       "      <td>95</td>\n",
       "      <td>45</td>\n",
       "      <td>0</td>\n",
       "    </tr>\n",
       "    <tr>\n",
       "      <th>2022-12443</th>\n",
       "      <td>95</td>\n",
       "      <td>55</td>\n",
       "      <td>15</td>\n",
       "      <td>35</td>\n",
       "    </tr>\n",
       "    <tr>\n",
       "      <th>2022-12367</th>\n",
       "      <td>50</td>\n",
       "      <td>80</td>\n",
       "      <td>40</td>\n",
       "      <td>30</td>\n",
       "    </tr>\n",
       "    <tr>\n",
       "      <th>2022-12458</th>\n",
       "      <td>50</td>\n",
       "      <td>55</td>\n",
       "      <td>15</td>\n",
       "      <td>85</td>\n",
       "    </tr>\n",
       "    <tr>\n",
       "      <th>2022-12396</th>\n",
       "      <td>95</td>\n",
       "      <td>30</td>\n",
       "      <td>30</td>\n",
       "      <td>95</td>\n",
       "    </tr>\n",
       "    <tr>\n",
       "      <th>2022-12482</th>\n",
       "      <td>50</td>\n",
       "      <td>50</td>\n",
       "      <td>45</td>\n",
       "      <td>10</td>\n",
       "    </tr>\n",
       "    <tr>\n",
       "      <th>2022-12452</th>\n",
       "      <td>65</td>\n",
       "      <td>55</td>\n",
       "      <td>15</td>\n",
       "      <td>45</td>\n",
       "    </tr>\n",
       "    <tr>\n",
       "      <th>2022-12387</th>\n",
       "      <td>70</td>\n",
       "      <td>70</td>\n",
       "      <td>40</td>\n",
       "      <td>35</td>\n",
       "    </tr>\n",
       "    <tr>\n",
       "      <th>2022-12354</th>\n",
       "      <td>90</td>\n",
       "      <td>90</td>\n",
       "      <td>80</td>\n",
       "      <td>90</td>\n",
       "    </tr>\n",
       "  </tbody>\n",
       "</table>\n",
       "</div>"
      ],
      "text/plain": [
       "            att  rep  mid  fin\n",
       "2022-12380   65   55   50   40\n",
       "2022-12370   95  100   50   80\n",
       "2022-12363   65   90   60   30\n",
       "2022-12488   55   80   75   80\n",
       "2022-12312   80   30   30  100\n",
       "2022-12377   75   40  100   15\n",
       "2022-12463   65   45   45   90\n",
       "2022-12471   60   60   25    0\n",
       "2022-12400   95   65   20   10\n",
       "2022-12469   90   80   80   20\n",
       "2022-12318   55   75   35   25\n",
       "2022-12432   95   95   45    0\n",
       "2022-12443   95   55   15   35\n",
       "2022-12367   50   80   40   30\n",
       "2022-12458   50   55   15   85\n",
       "2022-12396   95   30   30   95\n",
       "2022-12482   50   50   45   10\n",
       "2022-12452   65   55   15   45\n",
       "2022-12387   70   70   40   35\n",
       "2022-12354   90   90   80   90"
      ]
     },
     "execution_count": 168,
     "metadata": {},
     "output_type": "execute_result"
    }
   ],
   "source": [
    "df = pd.DataFrame({'att':att,'rep':rep,'mid':mid,'fin':fin},index=key)\n",
    "df"
   ]
  },
  {
   "cell_type": "markdown",
   "id": "ca8c3837-6acc-406f-9578-7cb34bd22e7a",
   "metadata": {},
   "source": [
    "## 첫번째 칼럼을 선택"
   ]
  },
  {
   "cell_type": "markdown",
   "id": "6168b808-463b-41d1-8d98-24d1a9875c2a",
   "metadata": {},
   "source": [
    "`-` 방법1"
   ]
  },
  {
   "cell_type": "code",
   "execution_count": 169,
   "id": "fca48c1e-0863-46dc-add5-f7a1d8921d22",
   "metadata": {},
   "outputs": [
    {
     "data": {
      "text/plain": [
       "2022-12380    65\n",
       "2022-12370    95\n",
       "2022-12363    65\n",
       "2022-12488    55\n",
       "2022-12312    80\n",
       "2022-12377    75\n",
       "2022-12463    65\n",
       "2022-12471    60\n",
       "2022-12400    95\n",
       "2022-12469    90\n",
       "2022-12318    55\n",
       "2022-12432    95\n",
       "2022-12443    95\n",
       "2022-12367    50\n",
       "2022-12458    50\n",
       "2022-12396    95\n",
       "2022-12482    50\n",
       "2022-12452    65\n",
       "2022-12387    70\n",
       "2022-12354    90\n",
       "Name: att, dtype: int64"
      ]
     },
     "execution_count": 169,
     "metadata": {},
     "output_type": "execute_result"
    }
   ],
   "source": [
    "df.att"
   ]
  },
  {
   "cell_type": "markdown",
   "id": "4106fa64-411f-49fd-a446-eebea984d68c",
   "metadata": {},
   "source": [
    "`-` 방법2: dict스타일"
   ]
  },
  {
   "cell_type": "code",
   "execution_count": 291,
   "id": "b001fdf8-b6eb-45c3-b22a-f09b2add9d17",
   "metadata": {},
   "outputs": [
    {
     "data": {
      "text/plain": [
       "202212380    65\n",
       "202212370    95\n",
       "202212363    65\n",
       "202212488    55\n",
       "202212312    80\n",
       "202212377    75\n",
       "202212463    65\n",
       "202212471    60\n",
       "202212400    95\n",
       "202212469    90\n",
       "202212318    55\n",
       "202212432    95\n",
       "202212443    95\n",
       "202212367    50\n",
       "202212458    50\n",
       "202212396    95\n",
       "202212482    50\n",
       "202212452    65\n",
       "202212387    70\n",
       "202212354    90\n",
       "Name: att, dtype: int64"
      ]
     },
     "execution_count": 291,
     "metadata": {},
     "output_type": "execute_result"
    }
   ],
   "source": [
    "df['att']"
   ]
  },
  {
   "cell_type": "markdown",
   "id": "b294d2e8-7c8a-48d5-a984-fe2aeb1df41e",
   "metadata": {},
   "source": [
    "`-` 방법3: dict스타일"
   ]
  },
  {
   "cell_type": "code",
   "execution_count": 170,
   "id": "606ca7c4-375d-4f29-9312-66d501732808",
   "metadata": {},
   "outputs": [
    {
     "data": {
      "text/html": [
       "<div>\n",
       "<style scoped>\n",
       "    .dataframe tbody tr th:only-of-type {\n",
       "        vertical-align: middle;\n",
       "    }\n",
       "\n",
       "    .dataframe tbody tr th {\n",
       "        vertical-align: top;\n",
       "    }\n",
       "\n",
       "    .dataframe thead th {\n",
       "        text-align: right;\n",
       "    }\n",
       "</style>\n",
       "<table border=\"1\" class=\"dataframe\">\n",
       "  <thead>\n",
       "    <tr style=\"text-align: right;\">\n",
       "      <th></th>\n",
       "      <th>att</th>\n",
       "    </tr>\n",
       "  </thead>\n",
       "  <tbody>\n",
       "    <tr>\n",
       "      <th>2022-12380</th>\n",
       "      <td>65</td>\n",
       "    </tr>\n",
       "    <tr>\n",
       "      <th>2022-12370</th>\n",
       "      <td>95</td>\n",
       "    </tr>\n",
       "    <tr>\n",
       "      <th>2022-12363</th>\n",
       "      <td>65</td>\n",
       "    </tr>\n",
       "    <tr>\n",
       "      <th>2022-12488</th>\n",
       "      <td>55</td>\n",
       "    </tr>\n",
       "    <tr>\n",
       "      <th>2022-12312</th>\n",
       "      <td>80</td>\n",
       "    </tr>\n",
       "    <tr>\n",
       "      <th>2022-12377</th>\n",
       "      <td>75</td>\n",
       "    </tr>\n",
       "    <tr>\n",
       "      <th>2022-12463</th>\n",
       "      <td>65</td>\n",
       "    </tr>\n",
       "    <tr>\n",
       "      <th>2022-12471</th>\n",
       "      <td>60</td>\n",
       "    </tr>\n",
       "    <tr>\n",
       "      <th>2022-12400</th>\n",
       "      <td>95</td>\n",
       "    </tr>\n",
       "    <tr>\n",
       "      <th>2022-12469</th>\n",
       "      <td>90</td>\n",
       "    </tr>\n",
       "    <tr>\n",
       "      <th>2022-12318</th>\n",
       "      <td>55</td>\n",
       "    </tr>\n",
       "    <tr>\n",
       "      <th>2022-12432</th>\n",
       "      <td>95</td>\n",
       "    </tr>\n",
       "    <tr>\n",
       "      <th>2022-12443</th>\n",
       "      <td>95</td>\n",
       "    </tr>\n",
       "    <tr>\n",
       "      <th>2022-12367</th>\n",
       "      <td>50</td>\n",
       "    </tr>\n",
       "    <tr>\n",
       "      <th>2022-12458</th>\n",
       "      <td>50</td>\n",
       "    </tr>\n",
       "    <tr>\n",
       "      <th>2022-12396</th>\n",
       "      <td>95</td>\n",
       "    </tr>\n",
       "    <tr>\n",
       "      <th>2022-12482</th>\n",
       "      <td>50</td>\n",
       "    </tr>\n",
       "    <tr>\n",
       "      <th>2022-12452</th>\n",
       "      <td>65</td>\n",
       "    </tr>\n",
       "    <tr>\n",
       "      <th>2022-12387</th>\n",
       "      <td>70</td>\n",
       "    </tr>\n",
       "    <tr>\n",
       "      <th>2022-12354</th>\n",
       "      <td>90</td>\n",
       "    </tr>\n",
       "  </tbody>\n",
       "</table>\n",
       "</div>"
      ],
      "text/plain": [
       "            att\n",
       "2022-12380   65\n",
       "2022-12370   95\n",
       "2022-12363   65\n",
       "2022-12488   55\n",
       "2022-12312   80\n",
       "2022-12377   75\n",
       "2022-12463   65\n",
       "2022-12471   60\n",
       "2022-12400   95\n",
       "2022-12469   90\n",
       "2022-12318   55\n",
       "2022-12432   95\n",
       "2022-12443   95\n",
       "2022-12367   50\n",
       "2022-12458   50\n",
       "2022-12396   95\n",
       "2022-12482   50\n",
       "2022-12452   65\n",
       "2022-12387   70\n",
       "2022-12354   90"
      ]
     },
     "execution_count": 170,
     "metadata": {},
     "output_type": "execute_result"
    }
   ],
   "source": [
    "df[['att']]"
   ]
  },
  {
   "cell_type": "markdown",
   "id": "0d63ec3d-99c0-4176-9b09-ed6c38acac11",
   "metadata": {},
   "source": [
    "- df.att 나 df['att']는 series를 리턴하고 df[['att']]는 dataframe을 리턴한다. "
   ]
  },
  {
   "cell_type": "markdown",
   "id": "901c4484-9722-4259-b6a3-4011382dcaac",
   "metadata": {},
   "source": [
    "`-` 방법4: ndarray스타일 "
   ]
  },
  {
   "cell_type": "code",
   "execution_count": 171,
   "id": "dbb3c195-3ebd-491b-8cf8-beb855ef2641",
   "metadata": {},
   "outputs": [
    {
     "data": {
      "text/plain": [
       "2022-12380    65\n",
       "2022-12370    95\n",
       "2022-12363    65\n",
       "2022-12488    55\n",
       "2022-12312    80\n",
       "2022-12377    75\n",
       "2022-12463    65\n",
       "2022-12471    60\n",
       "2022-12400    95\n",
       "2022-12469    90\n",
       "2022-12318    55\n",
       "2022-12432    95\n",
       "2022-12443    95\n",
       "2022-12367    50\n",
       "2022-12458    50\n",
       "2022-12396    95\n",
       "2022-12482    50\n",
       "2022-12452    65\n",
       "2022-12387    70\n",
       "2022-12354    90\n",
       "Name: att, dtype: int64"
      ]
     },
     "execution_count": 171,
     "metadata": {},
     "output_type": "execute_result"
    }
   ],
   "source": [
    "df.iloc[:,0] "
   ]
  },
  {
   "cell_type": "markdown",
   "id": "dd4514ca-5642-4fcd-80e0-68ee52a3f852",
   "metadata": {},
   "source": [
    "`-` 방법5: ndarray스타일 "
   ]
  },
  {
   "cell_type": "code",
   "execution_count": 172,
   "id": "fb89d35d-5cff-4e55-b0eb-d72af4ffba3e",
   "metadata": {},
   "outputs": [
    {
     "data": {
      "text/html": [
       "<div>\n",
       "<style scoped>\n",
       "    .dataframe tbody tr th:only-of-type {\n",
       "        vertical-align: middle;\n",
       "    }\n",
       "\n",
       "    .dataframe tbody tr th {\n",
       "        vertical-align: top;\n",
       "    }\n",
       "\n",
       "    .dataframe thead th {\n",
       "        text-align: right;\n",
       "    }\n",
       "</style>\n",
       "<table border=\"1\" class=\"dataframe\">\n",
       "  <thead>\n",
       "    <tr style=\"text-align: right;\">\n",
       "      <th></th>\n",
       "      <th>att</th>\n",
       "    </tr>\n",
       "  </thead>\n",
       "  <tbody>\n",
       "    <tr>\n",
       "      <th>2022-12380</th>\n",
       "      <td>65</td>\n",
       "    </tr>\n",
       "    <tr>\n",
       "      <th>2022-12370</th>\n",
       "      <td>95</td>\n",
       "    </tr>\n",
       "    <tr>\n",
       "      <th>2022-12363</th>\n",
       "      <td>65</td>\n",
       "    </tr>\n",
       "    <tr>\n",
       "      <th>2022-12488</th>\n",
       "      <td>55</td>\n",
       "    </tr>\n",
       "    <tr>\n",
       "      <th>2022-12312</th>\n",
       "      <td>80</td>\n",
       "    </tr>\n",
       "    <tr>\n",
       "      <th>2022-12377</th>\n",
       "      <td>75</td>\n",
       "    </tr>\n",
       "    <tr>\n",
       "      <th>2022-12463</th>\n",
       "      <td>65</td>\n",
       "    </tr>\n",
       "    <tr>\n",
       "      <th>2022-12471</th>\n",
       "      <td>60</td>\n",
       "    </tr>\n",
       "    <tr>\n",
       "      <th>2022-12400</th>\n",
       "      <td>95</td>\n",
       "    </tr>\n",
       "    <tr>\n",
       "      <th>2022-12469</th>\n",
       "      <td>90</td>\n",
       "    </tr>\n",
       "    <tr>\n",
       "      <th>2022-12318</th>\n",
       "      <td>55</td>\n",
       "    </tr>\n",
       "    <tr>\n",
       "      <th>2022-12432</th>\n",
       "      <td>95</td>\n",
       "    </tr>\n",
       "    <tr>\n",
       "      <th>2022-12443</th>\n",
       "      <td>95</td>\n",
       "    </tr>\n",
       "    <tr>\n",
       "      <th>2022-12367</th>\n",
       "      <td>50</td>\n",
       "    </tr>\n",
       "    <tr>\n",
       "      <th>2022-12458</th>\n",
       "      <td>50</td>\n",
       "    </tr>\n",
       "    <tr>\n",
       "      <th>2022-12396</th>\n",
       "      <td>95</td>\n",
       "    </tr>\n",
       "    <tr>\n",
       "      <th>2022-12482</th>\n",
       "      <td>50</td>\n",
       "    </tr>\n",
       "    <tr>\n",
       "      <th>2022-12452</th>\n",
       "      <td>65</td>\n",
       "    </tr>\n",
       "    <tr>\n",
       "      <th>2022-12387</th>\n",
       "      <td>70</td>\n",
       "    </tr>\n",
       "    <tr>\n",
       "      <th>2022-12354</th>\n",
       "      <td>90</td>\n",
       "    </tr>\n",
       "  </tbody>\n",
       "</table>\n",
       "</div>"
      ],
      "text/plain": [
       "            att\n",
       "2022-12380   65\n",
       "2022-12370   95\n",
       "2022-12363   65\n",
       "2022-12488   55\n",
       "2022-12312   80\n",
       "2022-12377   75\n",
       "2022-12463   65\n",
       "2022-12471   60\n",
       "2022-12400   95\n",
       "2022-12469   90\n",
       "2022-12318   55\n",
       "2022-12432   95\n",
       "2022-12443   95\n",
       "2022-12367   50\n",
       "2022-12458   50\n",
       "2022-12396   95\n",
       "2022-12482   50\n",
       "2022-12452   65\n",
       "2022-12387   70\n",
       "2022-12354   90"
      ]
     },
     "execution_count": 172,
     "metadata": {},
     "output_type": "execute_result"
    }
   ],
   "source": [
    "df.iloc[:,[0]]"
   ]
  },
  {
   "cell_type": "markdown",
   "id": "dbb0908c-7b9d-4729-a881-038eddc284f2",
   "metadata": {},
   "source": [
    "- df.iloc[:,0]은 series를 리턴하고 df.iloc[:,[0]]은 dataframe을 리턴한다. "
   ]
  },
  {
   "cell_type": "markdown",
   "id": "50c39a77-4d4d-4300-873e-355bb63deaa3",
   "metadata": {},
   "source": [
    "`-` 방법6: ndarray 스타일과 dict 스타일의 혼합 "
   ]
  },
  {
   "cell_type": "code",
   "execution_count": 173,
   "id": "444cb027-4561-4655-a2c8-028611c949cd",
   "metadata": {},
   "outputs": [
    {
     "data": {
      "text/plain": [
       "2022-12380    65\n",
       "2022-12370    95\n",
       "2022-12363    65\n",
       "2022-12488    55\n",
       "2022-12312    80\n",
       "2022-12377    75\n",
       "2022-12463    65\n",
       "2022-12471    60\n",
       "2022-12400    95\n",
       "2022-12469    90\n",
       "2022-12318    55\n",
       "2022-12432    95\n",
       "2022-12443    95\n",
       "2022-12367    50\n",
       "2022-12458    50\n",
       "2022-12396    95\n",
       "2022-12482    50\n",
       "2022-12452    65\n",
       "2022-12387    70\n",
       "2022-12354    90\n",
       "Name: att, dtype: int64"
      ]
     },
     "execution_count": 173,
     "metadata": {},
     "output_type": "execute_result"
    }
   ],
   "source": [
    "df.loc[:,'att'] "
   ]
  },
  {
   "cell_type": "markdown",
   "id": "5d2d56bb-2233-4569-a573-5273b1d00b58",
   "metadata": {},
   "source": [
    "`-` 방법7: ndarray 스타일과 dict 스타일의 혼합 "
   ]
  },
  {
   "cell_type": "code",
   "execution_count": 174,
   "id": "2aa3146e-8d60-4894-8108-2ba704d87849",
   "metadata": {},
   "outputs": [
    {
     "data": {
      "text/html": [
       "<div>\n",
       "<style scoped>\n",
       "    .dataframe tbody tr th:only-of-type {\n",
       "        vertical-align: middle;\n",
       "    }\n",
       "\n",
       "    .dataframe tbody tr th {\n",
       "        vertical-align: top;\n",
       "    }\n",
       "\n",
       "    .dataframe thead th {\n",
       "        text-align: right;\n",
       "    }\n",
       "</style>\n",
       "<table border=\"1\" class=\"dataframe\">\n",
       "  <thead>\n",
       "    <tr style=\"text-align: right;\">\n",
       "      <th></th>\n",
       "      <th>att</th>\n",
       "    </tr>\n",
       "  </thead>\n",
       "  <tbody>\n",
       "    <tr>\n",
       "      <th>2022-12380</th>\n",
       "      <td>65</td>\n",
       "    </tr>\n",
       "    <tr>\n",
       "      <th>2022-12370</th>\n",
       "      <td>95</td>\n",
       "    </tr>\n",
       "    <tr>\n",
       "      <th>2022-12363</th>\n",
       "      <td>65</td>\n",
       "    </tr>\n",
       "    <tr>\n",
       "      <th>2022-12488</th>\n",
       "      <td>55</td>\n",
       "    </tr>\n",
       "    <tr>\n",
       "      <th>2022-12312</th>\n",
       "      <td>80</td>\n",
       "    </tr>\n",
       "    <tr>\n",
       "      <th>2022-12377</th>\n",
       "      <td>75</td>\n",
       "    </tr>\n",
       "    <tr>\n",
       "      <th>2022-12463</th>\n",
       "      <td>65</td>\n",
       "    </tr>\n",
       "    <tr>\n",
       "      <th>2022-12471</th>\n",
       "      <td>60</td>\n",
       "    </tr>\n",
       "    <tr>\n",
       "      <th>2022-12400</th>\n",
       "      <td>95</td>\n",
       "    </tr>\n",
       "    <tr>\n",
       "      <th>2022-12469</th>\n",
       "      <td>90</td>\n",
       "    </tr>\n",
       "    <tr>\n",
       "      <th>2022-12318</th>\n",
       "      <td>55</td>\n",
       "    </tr>\n",
       "    <tr>\n",
       "      <th>2022-12432</th>\n",
       "      <td>95</td>\n",
       "    </tr>\n",
       "    <tr>\n",
       "      <th>2022-12443</th>\n",
       "      <td>95</td>\n",
       "    </tr>\n",
       "    <tr>\n",
       "      <th>2022-12367</th>\n",
       "      <td>50</td>\n",
       "    </tr>\n",
       "    <tr>\n",
       "      <th>2022-12458</th>\n",
       "      <td>50</td>\n",
       "    </tr>\n",
       "    <tr>\n",
       "      <th>2022-12396</th>\n",
       "      <td>95</td>\n",
       "    </tr>\n",
       "    <tr>\n",
       "      <th>2022-12482</th>\n",
       "      <td>50</td>\n",
       "    </tr>\n",
       "    <tr>\n",
       "      <th>2022-12452</th>\n",
       "      <td>65</td>\n",
       "    </tr>\n",
       "    <tr>\n",
       "      <th>2022-12387</th>\n",
       "      <td>70</td>\n",
       "    </tr>\n",
       "    <tr>\n",
       "      <th>2022-12354</th>\n",
       "      <td>90</td>\n",
       "    </tr>\n",
       "  </tbody>\n",
       "</table>\n",
       "</div>"
      ],
      "text/plain": [
       "            att\n",
       "2022-12380   65\n",
       "2022-12370   95\n",
       "2022-12363   65\n",
       "2022-12488   55\n",
       "2022-12312   80\n",
       "2022-12377   75\n",
       "2022-12463   65\n",
       "2022-12471   60\n",
       "2022-12400   95\n",
       "2022-12469   90\n",
       "2022-12318   55\n",
       "2022-12432   95\n",
       "2022-12443   95\n",
       "2022-12367   50\n",
       "2022-12458   50\n",
       "2022-12396   95\n",
       "2022-12482   50\n",
       "2022-12452   65\n",
       "2022-12387   70\n",
       "2022-12354   90"
      ]
     },
     "execution_count": 174,
     "metadata": {},
     "output_type": "execute_result"
    }
   ],
   "source": [
    "df.loc[:,['att']] "
   ]
  },
  {
   "cell_type": "markdown",
   "id": "2152b898-706b-4a91-8fa8-8cd75b90a6b5",
   "metadata": {},
   "source": [
    "- df.loc[:,'att']은 series를 리턴하고 df.loc[:,['att']]은 dataframe을 리턴한다. "
   ]
  },
  {
   "cell_type": "markdown",
   "id": "49bb4898-9097-4a7f-8c50-4683e3964f51",
   "metadata": {},
   "source": [
    "`-` 방법7: nparray 스타일 + bool 인덱싱"
   ]
  },
  {
   "cell_type": "code",
   "execution_count": 178,
   "id": "b569fda0-3510-44d6-99f1-025389e55eaa",
   "metadata": {},
   "outputs": [
    {
     "data": {
      "text/html": [
       "<div>\n",
       "<style scoped>\n",
       "    .dataframe tbody tr th:only-of-type {\n",
       "        vertical-align: middle;\n",
       "    }\n",
       "\n",
       "    .dataframe tbody tr th {\n",
       "        vertical-align: top;\n",
       "    }\n",
       "\n",
       "    .dataframe thead th {\n",
       "        text-align: right;\n",
       "    }\n",
       "</style>\n",
       "<table border=\"1\" class=\"dataframe\">\n",
       "  <thead>\n",
       "    <tr style=\"text-align: right;\">\n",
       "      <th></th>\n",
       "      <th>att</th>\n",
       "    </tr>\n",
       "  </thead>\n",
       "  <tbody>\n",
       "    <tr>\n",
       "      <th>2022-12380</th>\n",
       "      <td>65</td>\n",
       "    </tr>\n",
       "    <tr>\n",
       "      <th>2022-12370</th>\n",
       "      <td>95</td>\n",
       "    </tr>\n",
       "    <tr>\n",
       "      <th>2022-12363</th>\n",
       "      <td>65</td>\n",
       "    </tr>\n",
       "    <tr>\n",
       "      <th>2022-12488</th>\n",
       "      <td>55</td>\n",
       "    </tr>\n",
       "    <tr>\n",
       "      <th>2022-12312</th>\n",
       "      <td>80</td>\n",
       "    </tr>\n",
       "    <tr>\n",
       "      <th>2022-12377</th>\n",
       "      <td>75</td>\n",
       "    </tr>\n",
       "    <tr>\n",
       "      <th>2022-12463</th>\n",
       "      <td>65</td>\n",
       "    </tr>\n",
       "    <tr>\n",
       "      <th>2022-12471</th>\n",
       "      <td>60</td>\n",
       "    </tr>\n",
       "    <tr>\n",
       "      <th>2022-12400</th>\n",
       "      <td>95</td>\n",
       "    </tr>\n",
       "    <tr>\n",
       "      <th>2022-12469</th>\n",
       "      <td>90</td>\n",
       "    </tr>\n",
       "    <tr>\n",
       "      <th>2022-12318</th>\n",
       "      <td>55</td>\n",
       "    </tr>\n",
       "    <tr>\n",
       "      <th>2022-12432</th>\n",
       "      <td>95</td>\n",
       "    </tr>\n",
       "    <tr>\n",
       "      <th>2022-12443</th>\n",
       "      <td>95</td>\n",
       "    </tr>\n",
       "    <tr>\n",
       "      <th>2022-12367</th>\n",
       "      <td>50</td>\n",
       "    </tr>\n",
       "    <tr>\n",
       "      <th>2022-12458</th>\n",
       "      <td>50</td>\n",
       "    </tr>\n",
       "    <tr>\n",
       "      <th>2022-12396</th>\n",
       "      <td>95</td>\n",
       "    </tr>\n",
       "    <tr>\n",
       "      <th>2022-12482</th>\n",
       "      <td>50</td>\n",
       "    </tr>\n",
       "    <tr>\n",
       "      <th>2022-12452</th>\n",
       "      <td>65</td>\n",
       "    </tr>\n",
       "    <tr>\n",
       "      <th>2022-12387</th>\n",
       "      <td>70</td>\n",
       "    </tr>\n",
       "    <tr>\n",
       "      <th>2022-12354</th>\n",
       "      <td>90</td>\n",
       "    </tr>\n",
       "  </tbody>\n",
       "</table>\n",
       "</div>"
      ],
      "text/plain": [
       "            att\n",
       "2022-12380   65\n",
       "2022-12370   95\n",
       "2022-12363   65\n",
       "2022-12488   55\n",
       "2022-12312   80\n",
       "2022-12377   75\n",
       "2022-12463   65\n",
       "2022-12471   60\n",
       "2022-12400   95\n",
       "2022-12469   90\n",
       "2022-12318   55\n",
       "2022-12432   95\n",
       "2022-12443   95\n",
       "2022-12367   50\n",
       "2022-12458   50\n",
       "2022-12396   95\n",
       "2022-12482   50\n",
       "2022-12452   65\n",
       "2022-12387   70\n",
       "2022-12354   90"
      ]
     },
     "execution_count": 178,
     "metadata": {},
     "output_type": "execute_result"
    }
   ],
   "source": [
    "df.iloc[:,[True,False,False,False]]"
   ]
  },
  {
   "cell_type": "markdown",
   "id": "702747a5-8edf-49e7-92ba-e81159f352d4",
   "metadata": {},
   "source": [
    "`-` 방법8: ndarray와 dict의 홉합형 + bool 인덱싱"
   ]
  },
  {
   "cell_type": "code",
   "execution_count": 179,
   "id": "a5ddb913-2fac-46ed-84da-b0b83bac923d",
   "metadata": {},
   "outputs": [
    {
     "data": {
      "text/html": [
       "<div>\n",
       "<style scoped>\n",
       "    .dataframe tbody tr th:only-of-type {\n",
       "        vertical-align: middle;\n",
       "    }\n",
       "\n",
       "    .dataframe tbody tr th {\n",
       "        vertical-align: top;\n",
       "    }\n",
       "\n",
       "    .dataframe thead th {\n",
       "        text-align: right;\n",
       "    }\n",
       "</style>\n",
       "<table border=\"1\" class=\"dataframe\">\n",
       "  <thead>\n",
       "    <tr style=\"text-align: right;\">\n",
       "      <th></th>\n",
       "      <th>att</th>\n",
       "    </tr>\n",
       "  </thead>\n",
       "  <tbody>\n",
       "    <tr>\n",
       "      <th>2022-12380</th>\n",
       "      <td>65</td>\n",
       "    </tr>\n",
       "    <tr>\n",
       "      <th>2022-12370</th>\n",
       "      <td>95</td>\n",
       "    </tr>\n",
       "    <tr>\n",
       "      <th>2022-12363</th>\n",
       "      <td>65</td>\n",
       "    </tr>\n",
       "    <tr>\n",
       "      <th>2022-12488</th>\n",
       "      <td>55</td>\n",
       "    </tr>\n",
       "    <tr>\n",
       "      <th>2022-12312</th>\n",
       "      <td>80</td>\n",
       "    </tr>\n",
       "    <tr>\n",
       "      <th>2022-12377</th>\n",
       "      <td>75</td>\n",
       "    </tr>\n",
       "    <tr>\n",
       "      <th>2022-12463</th>\n",
       "      <td>65</td>\n",
       "    </tr>\n",
       "    <tr>\n",
       "      <th>2022-12471</th>\n",
       "      <td>60</td>\n",
       "    </tr>\n",
       "    <tr>\n",
       "      <th>2022-12400</th>\n",
       "      <td>95</td>\n",
       "    </tr>\n",
       "    <tr>\n",
       "      <th>2022-12469</th>\n",
       "      <td>90</td>\n",
       "    </tr>\n",
       "    <tr>\n",
       "      <th>2022-12318</th>\n",
       "      <td>55</td>\n",
       "    </tr>\n",
       "    <tr>\n",
       "      <th>2022-12432</th>\n",
       "      <td>95</td>\n",
       "    </tr>\n",
       "    <tr>\n",
       "      <th>2022-12443</th>\n",
       "      <td>95</td>\n",
       "    </tr>\n",
       "    <tr>\n",
       "      <th>2022-12367</th>\n",
       "      <td>50</td>\n",
       "    </tr>\n",
       "    <tr>\n",
       "      <th>2022-12458</th>\n",
       "      <td>50</td>\n",
       "    </tr>\n",
       "    <tr>\n",
       "      <th>2022-12396</th>\n",
       "      <td>95</td>\n",
       "    </tr>\n",
       "    <tr>\n",
       "      <th>2022-12482</th>\n",
       "      <td>50</td>\n",
       "    </tr>\n",
       "    <tr>\n",
       "      <th>2022-12452</th>\n",
       "      <td>65</td>\n",
       "    </tr>\n",
       "    <tr>\n",
       "      <th>2022-12387</th>\n",
       "      <td>70</td>\n",
       "    </tr>\n",
       "    <tr>\n",
       "      <th>2022-12354</th>\n",
       "      <td>90</td>\n",
       "    </tr>\n",
       "  </tbody>\n",
       "</table>\n",
       "</div>"
      ],
      "text/plain": [
       "            att\n",
       "2022-12380   65\n",
       "2022-12370   95\n",
       "2022-12363   65\n",
       "2022-12488   55\n",
       "2022-12312   80\n",
       "2022-12377   75\n",
       "2022-12463   65\n",
       "2022-12471   60\n",
       "2022-12400   95\n",
       "2022-12469   90\n",
       "2022-12318   55\n",
       "2022-12432   95\n",
       "2022-12443   95\n",
       "2022-12367   50\n",
       "2022-12458   50\n",
       "2022-12396   95\n",
       "2022-12482   50\n",
       "2022-12452   65\n",
       "2022-12387   70\n",
       "2022-12354   90"
      ]
     },
     "execution_count": 179,
     "metadata": {},
     "output_type": "execute_result"
    }
   ],
   "source": [
    "df.loc[:,[True,False,False,False]]"
   ]
  },
  {
   "cell_type": "markdown",
   "id": "cf7ea3f1-ab1d-4317-bd1b-97eaf8e71e60",
   "metadata": {},
   "source": [
    "## 여러개의 칼럼을 선택"
   ]
  },
  {
   "cell_type": "markdown",
   "id": "4428366e-238a-4f1c-8e5a-283521933fd7",
   "metadata": {},
   "source": [
    "`-` 방법1: dict 스타일"
   ]
  },
  {
   "cell_type": "code",
   "execution_count": 180,
   "id": "88e54956-c29b-40e3-ab21-49f24863586d",
   "metadata": {},
   "outputs": [
    {
     "data": {
      "text/html": [
       "<div>\n",
       "<style scoped>\n",
       "    .dataframe tbody tr th:only-of-type {\n",
       "        vertical-align: middle;\n",
       "    }\n",
       "\n",
       "    .dataframe tbody tr th {\n",
       "        vertical-align: top;\n",
       "    }\n",
       "\n",
       "    .dataframe thead th {\n",
       "        text-align: right;\n",
       "    }\n",
       "</style>\n",
       "<table border=\"1\" class=\"dataframe\">\n",
       "  <thead>\n",
       "    <tr style=\"text-align: right;\">\n",
       "      <th></th>\n",
       "      <th>att</th>\n",
       "      <th>fin</th>\n",
       "    </tr>\n",
       "  </thead>\n",
       "  <tbody>\n",
       "    <tr>\n",
       "      <th>2022-12380</th>\n",
       "      <td>65</td>\n",
       "      <td>40</td>\n",
       "    </tr>\n",
       "    <tr>\n",
       "      <th>2022-12370</th>\n",
       "      <td>95</td>\n",
       "      <td>80</td>\n",
       "    </tr>\n",
       "    <tr>\n",
       "      <th>2022-12363</th>\n",
       "      <td>65</td>\n",
       "      <td>30</td>\n",
       "    </tr>\n",
       "    <tr>\n",
       "      <th>2022-12488</th>\n",
       "      <td>55</td>\n",
       "      <td>80</td>\n",
       "    </tr>\n",
       "    <tr>\n",
       "      <th>2022-12312</th>\n",
       "      <td>80</td>\n",
       "      <td>100</td>\n",
       "    </tr>\n",
       "    <tr>\n",
       "      <th>2022-12377</th>\n",
       "      <td>75</td>\n",
       "      <td>15</td>\n",
       "    </tr>\n",
       "    <tr>\n",
       "      <th>2022-12463</th>\n",
       "      <td>65</td>\n",
       "      <td>90</td>\n",
       "    </tr>\n",
       "    <tr>\n",
       "      <th>2022-12471</th>\n",
       "      <td>60</td>\n",
       "      <td>0</td>\n",
       "    </tr>\n",
       "    <tr>\n",
       "      <th>2022-12400</th>\n",
       "      <td>95</td>\n",
       "      <td>10</td>\n",
       "    </tr>\n",
       "    <tr>\n",
       "      <th>2022-12469</th>\n",
       "      <td>90</td>\n",
       "      <td>20</td>\n",
       "    </tr>\n",
       "    <tr>\n",
       "      <th>2022-12318</th>\n",
       "      <td>55</td>\n",
       "      <td>25</td>\n",
       "    </tr>\n",
       "    <tr>\n",
       "      <th>2022-12432</th>\n",
       "      <td>95</td>\n",
       "      <td>0</td>\n",
       "    </tr>\n",
       "    <tr>\n",
       "      <th>2022-12443</th>\n",
       "      <td>95</td>\n",
       "      <td>35</td>\n",
       "    </tr>\n",
       "    <tr>\n",
       "      <th>2022-12367</th>\n",
       "      <td>50</td>\n",
       "      <td>30</td>\n",
       "    </tr>\n",
       "    <tr>\n",
       "      <th>2022-12458</th>\n",
       "      <td>50</td>\n",
       "      <td>85</td>\n",
       "    </tr>\n",
       "    <tr>\n",
       "      <th>2022-12396</th>\n",
       "      <td>95</td>\n",
       "      <td>95</td>\n",
       "    </tr>\n",
       "    <tr>\n",
       "      <th>2022-12482</th>\n",
       "      <td>50</td>\n",
       "      <td>10</td>\n",
       "    </tr>\n",
       "    <tr>\n",
       "      <th>2022-12452</th>\n",
       "      <td>65</td>\n",
       "      <td>45</td>\n",
       "    </tr>\n",
       "    <tr>\n",
       "      <th>2022-12387</th>\n",
       "      <td>70</td>\n",
       "      <td>35</td>\n",
       "    </tr>\n",
       "    <tr>\n",
       "      <th>2022-12354</th>\n",
       "      <td>90</td>\n",
       "      <td>90</td>\n",
       "    </tr>\n",
       "  </tbody>\n",
       "</table>\n",
       "</div>"
      ],
      "text/plain": [
       "            att  fin\n",
       "2022-12380   65   40\n",
       "2022-12370   95   80\n",
       "2022-12363   65   30\n",
       "2022-12488   55   80\n",
       "2022-12312   80  100\n",
       "2022-12377   75   15\n",
       "2022-12463   65   90\n",
       "2022-12471   60    0\n",
       "2022-12400   95   10\n",
       "2022-12469   90   20\n",
       "2022-12318   55   25\n",
       "2022-12432   95    0\n",
       "2022-12443   95   35\n",
       "2022-12367   50   30\n",
       "2022-12458   50   85\n",
       "2022-12396   95   95\n",
       "2022-12482   50   10\n",
       "2022-12452   65   45\n",
       "2022-12387   70   35\n",
       "2022-12354   90   90"
      ]
     },
     "execution_count": 180,
     "metadata": {},
     "output_type": "execute_result"
    }
   ],
   "source": [
    "df[['att','fin']]"
   ]
  },
  {
   "cell_type": "markdown",
   "id": "9ab7455e-3b2a-42ea-b59b-b34b3522a15d",
   "metadata": {},
   "source": [
    "`-` 방법2: ndarray 스타일 (정수리스트로 인덱싱, 슬라이싱, 스트라이딩) "
   ]
  },
  {
   "cell_type": "code",
   "execution_count": 181,
   "id": "dade1105-0536-4231-8c94-7f9b8bf7c1c7",
   "metadata": {},
   "outputs": [
    {
     "data": {
      "text/html": [
       "<div>\n",
       "<style scoped>\n",
       "    .dataframe tbody tr th:only-of-type {\n",
       "        vertical-align: middle;\n",
       "    }\n",
       "\n",
       "    .dataframe tbody tr th {\n",
       "        vertical-align: top;\n",
       "    }\n",
       "\n",
       "    .dataframe thead th {\n",
       "        text-align: right;\n",
       "    }\n",
       "</style>\n",
       "<table border=\"1\" class=\"dataframe\">\n",
       "  <thead>\n",
       "    <tr style=\"text-align: right;\">\n",
       "      <th></th>\n",
       "      <th>att</th>\n",
       "      <th>rep</th>\n",
       "    </tr>\n",
       "  </thead>\n",
       "  <tbody>\n",
       "    <tr>\n",
       "      <th>2022-12380</th>\n",
       "      <td>65</td>\n",
       "      <td>55</td>\n",
       "    </tr>\n",
       "    <tr>\n",
       "      <th>2022-12370</th>\n",
       "      <td>95</td>\n",
       "      <td>100</td>\n",
       "    </tr>\n",
       "    <tr>\n",
       "      <th>2022-12363</th>\n",
       "      <td>65</td>\n",
       "      <td>90</td>\n",
       "    </tr>\n",
       "    <tr>\n",
       "      <th>2022-12488</th>\n",
       "      <td>55</td>\n",
       "      <td>80</td>\n",
       "    </tr>\n",
       "    <tr>\n",
       "      <th>2022-12312</th>\n",
       "      <td>80</td>\n",
       "      <td>30</td>\n",
       "    </tr>\n",
       "    <tr>\n",
       "      <th>2022-12377</th>\n",
       "      <td>75</td>\n",
       "      <td>40</td>\n",
       "    </tr>\n",
       "    <tr>\n",
       "      <th>2022-12463</th>\n",
       "      <td>65</td>\n",
       "      <td>45</td>\n",
       "    </tr>\n",
       "    <tr>\n",
       "      <th>2022-12471</th>\n",
       "      <td>60</td>\n",
       "      <td>60</td>\n",
       "    </tr>\n",
       "    <tr>\n",
       "      <th>2022-12400</th>\n",
       "      <td>95</td>\n",
       "      <td>65</td>\n",
       "    </tr>\n",
       "    <tr>\n",
       "      <th>2022-12469</th>\n",
       "      <td>90</td>\n",
       "      <td>80</td>\n",
       "    </tr>\n",
       "    <tr>\n",
       "      <th>2022-12318</th>\n",
       "      <td>55</td>\n",
       "      <td>75</td>\n",
       "    </tr>\n",
       "    <tr>\n",
       "      <th>2022-12432</th>\n",
       "      <td>95</td>\n",
       "      <td>95</td>\n",
       "    </tr>\n",
       "    <tr>\n",
       "      <th>2022-12443</th>\n",
       "      <td>95</td>\n",
       "      <td>55</td>\n",
       "    </tr>\n",
       "    <tr>\n",
       "      <th>2022-12367</th>\n",
       "      <td>50</td>\n",
       "      <td>80</td>\n",
       "    </tr>\n",
       "    <tr>\n",
       "      <th>2022-12458</th>\n",
       "      <td>50</td>\n",
       "      <td>55</td>\n",
       "    </tr>\n",
       "    <tr>\n",
       "      <th>2022-12396</th>\n",
       "      <td>95</td>\n",
       "      <td>30</td>\n",
       "    </tr>\n",
       "    <tr>\n",
       "      <th>2022-12482</th>\n",
       "      <td>50</td>\n",
       "      <td>50</td>\n",
       "    </tr>\n",
       "    <tr>\n",
       "      <th>2022-12452</th>\n",
       "      <td>65</td>\n",
       "      <td>55</td>\n",
       "    </tr>\n",
       "    <tr>\n",
       "      <th>2022-12387</th>\n",
       "      <td>70</td>\n",
       "      <td>70</td>\n",
       "    </tr>\n",
       "    <tr>\n",
       "      <th>2022-12354</th>\n",
       "      <td>90</td>\n",
       "      <td>90</td>\n",
       "    </tr>\n",
       "  </tbody>\n",
       "</table>\n",
       "</div>"
      ],
      "text/plain": [
       "            att  rep\n",
       "2022-12380   65   55\n",
       "2022-12370   95  100\n",
       "2022-12363   65   90\n",
       "2022-12488   55   80\n",
       "2022-12312   80   30\n",
       "2022-12377   75   40\n",
       "2022-12463   65   45\n",
       "2022-12471   60   60\n",
       "2022-12400   95   65\n",
       "2022-12469   90   80\n",
       "2022-12318   55   75\n",
       "2022-12432   95   95\n",
       "2022-12443   95   55\n",
       "2022-12367   50   80\n",
       "2022-12458   50   55\n",
       "2022-12396   95   30\n",
       "2022-12482   50   50\n",
       "2022-12452   65   55\n",
       "2022-12387   70   70\n",
       "2022-12354   90   90"
      ]
     },
     "execution_count": 181,
     "metadata": {},
     "output_type": "execute_result"
    }
   ],
   "source": [
    "df.iloc[:,[0,1]] # 정수의 리스트를 전달하여 컬럼추출"
   ]
  },
  {
   "cell_type": "code",
   "execution_count": 182,
   "id": "4096ba71-d779-4e2f-9187-5cd315a988b0",
   "metadata": {},
   "outputs": [
    {
     "data": {
      "text/html": [
       "<div>\n",
       "<style scoped>\n",
       "    .dataframe tbody tr th:only-of-type {\n",
       "        vertical-align: middle;\n",
       "    }\n",
       "\n",
       "    .dataframe tbody tr th {\n",
       "        vertical-align: top;\n",
       "    }\n",
       "\n",
       "    .dataframe thead th {\n",
       "        text-align: right;\n",
       "    }\n",
       "</style>\n",
       "<table border=\"1\" class=\"dataframe\">\n",
       "  <thead>\n",
       "    <tr style=\"text-align: right;\">\n",
       "      <th></th>\n",
       "      <th>att</th>\n",
       "      <th>rep</th>\n",
       "    </tr>\n",
       "  </thead>\n",
       "  <tbody>\n",
       "    <tr>\n",
       "      <th>2022-12380</th>\n",
       "      <td>65</td>\n",
       "      <td>55</td>\n",
       "    </tr>\n",
       "    <tr>\n",
       "      <th>2022-12370</th>\n",
       "      <td>95</td>\n",
       "      <td>100</td>\n",
       "    </tr>\n",
       "    <tr>\n",
       "      <th>2022-12363</th>\n",
       "      <td>65</td>\n",
       "      <td>90</td>\n",
       "    </tr>\n",
       "    <tr>\n",
       "      <th>2022-12488</th>\n",
       "      <td>55</td>\n",
       "      <td>80</td>\n",
       "    </tr>\n",
       "    <tr>\n",
       "      <th>2022-12312</th>\n",
       "      <td>80</td>\n",
       "      <td>30</td>\n",
       "    </tr>\n",
       "    <tr>\n",
       "      <th>2022-12377</th>\n",
       "      <td>75</td>\n",
       "      <td>40</td>\n",
       "    </tr>\n",
       "    <tr>\n",
       "      <th>2022-12463</th>\n",
       "      <td>65</td>\n",
       "      <td>45</td>\n",
       "    </tr>\n",
       "    <tr>\n",
       "      <th>2022-12471</th>\n",
       "      <td>60</td>\n",
       "      <td>60</td>\n",
       "    </tr>\n",
       "    <tr>\n",
       "      <th>2022-12400</th>\n",
       "      <td>95</td>\n",
       "      <td>65</td>\n",
       "    </tr>\n",
       "    <tr>\n",
       "      <th>2022-12469</th>\n",
       "      <td>90</td>\n",
       "      <td>80</td>\n",
       "    </tr>\n",
       "    <tr>\n",
       "      <th>2022-12318</th>\n",
       "      <td>55</td>\n",
       "      <td>75</td>\n",
       "    </tr>\n",
       "    <tr>\n",
       "      <th>2022-12432</th>\n",
       "      <td>95</td>\n",
       "      <td>95</td>\n",
       "    </tr>\n",
       "    <tr>\n",
       "      <th>2022-12443</th>\n",
       "      <td>95</td>\n",
       "      <td>55</td>\n",
       "    </tr>\n",
       "    <tr>\n",
       "      <th>2022-12367</th>\n",
       "      <td>50</td>\n",
       "      <td>80</td>\n",
       "    </tr>\n",
       "    <tr>\n",
       "      <th>2022-12458</th>\n",
       "      <td>50</td>\n",
       "      <td>55</td>\n",
       "    </tr>\n",
       "    <tr>\n",
       "      <th>2022-12396</th>\n",
       "      <td>95</td>\n",
       "      <td>30</td>\n",
       "    </tr>\n",
       "    <tr>\n",
       "      <th>2022-12482</th>\n",
       "      <td>50</td>\n",
       "      <td>50</td>\n",
       "    </tr>\n",
       "    <tr>\n",
       "      <th>2022-12452</th>\n",
       "      <td>65</td>\n",
       "      <td>55</td>\n",
       "    </tr>\n",
       "    <tr>\n",
       "      <th>2022-12387</th>\n",
       "      <td>70</td>\n",
       "      <td>70</td>\n",
       "    </tr>\n",
       "    <tr>\n",
       "      <th>2022-12354</th>\n",
       "      <td>90</td>\n",
       "      <td>90</td>\n",
       "    </tr>\n",
       "  </tbody>\n",
       "</table>\n",
       "</div>"
      ],
      "text/plain": [
       "            att  rep\n",
       "2022-12380   65   55\n",
       "2022-12370   95  100\n",
       "2022-12363   65   90\n",
       "2022-12488   55   80\n",
       "2022-12312   80   30\n",
       "2022-12377   75   40\n",
       "2022-12463   65   45\n",
       "2022-12471   60   60\n",
       "2022-12400   95   65\n",
       "2022-12469   90   80\n",
       "2022-12318   55   75\n",
       "2022-12432   95   95\n",
       "2022-12443   95   55\n",
       "2022-12367   50   80\n",
       "2022-12458   50   55\n",
       "2022-12396   95   30\n",
       "2022-12482   50   50\n",
       "2022-12452   65   55\n",
       "2022-12387   70   70\n",
       "2022-12354   90   90"
      ]
     },
     "execution_count": 182,
     "metadata": {},
     "output_type": "execute_result"
    }
   ],
   "source": [
    "df.iloc[:,range(2)] "
   ]
  },
  {
   "cell_type": "code",
   "execution_count": 321,
   "id": "6aaeb044-cf4c-4554-bf38-b1d6508b7d6a",
   "metadata": {},
   "outputs": [
    {
     "data": {
      "text/html": [
       "<div>\n",
       "<style scoped>\n",
       "    .dataframe tbody tr th:only-of-type {\n",
       "        vertical-align: middle;\n",
       "    }\n",
       "\n",
       "    .dataframe tbody tr th {\n",
       "        vertical-align: top;\n",
       "    }\n",
       "\n",
       "    .dataframe thead th {\n",
       "        text-align: right;\n",
       "    }\n",
       "</style>\n",
       "<table border=\"1\" class=\"dataframe\">\n",
       "  <thead>\n",
       "    <tr style=\"text-align: right;\">\n",
       "      <th></th>\n",
       "      <th>att</th>\n",
       "      <th>rep</th>\n",
       "    </tr>\n",
       "  </thead>\n",
       "  <tbody>\n",
       "    <tr>\n",
       "      <th>202212380</th>\n",
       "      <td>65</td>\n",
       "      <td>55</td>\n",
       "    </tr>\n",
       "    <tr>\n",
       "      <th>202212370</th>\n",
       "      <td>95</td>\n",
       "      <td>100</td>\n",
       "    </tr>\n",
       "    <tr>\n",
       "      <th>202212363</th>\n",
       "      <td>65</td>\n",
       "      <td>90</td>\n",
       "    </tr>\n",
       "    <tr>\n",
       "      <th>202212488</th>\n",
       "      <td>55</td>\n",
       "      <td>80</td>\n",
       "    </tr>\n",
       "    <tr>\n",
       "      <th>202212312</th>\n",
       "      <td>80</td>\n",
       "      <td>30</td>\n",
       "    </tr>\n",
       "    <tr>\n",
       "      <th>202212377</th>\n",
       "      <td>75</td>\n",
       "      <td>40</td>\n",
       "    </tr>\n",
       "    <tr>\n",
       "      <th>202212463</th>\n",
       "      <td>65</td>\n",
       "      <td>45</td>\n",
       "    </tr>\n",
       "    <tr>\n",
       "      <th>202212471</th>\n",
       "      <td>60</td>\n",
       "      <td>60</td>\n",
       "    </tr>\n",
       "    <tr>\n",
       "      <th>202212400</th>\n",
       "      <td>95</td>\n",
       "      <td>65</td>\n",
       "    </tr>\n",
       "    <tr>\n",
       "      <th>202212469</th>\n",
       "      <td>90</td>\n",
       "      <td>80</td>\n",
       "    </tr>\n",
       "    <tr>\n",
       "      <th>202212318</th>\n",
       "      <td>55</td>\n",
       "      <td>75</td>\n",
       "    </tr>\n",
       "    <tr>\n",
       "      <th>202212432</th>\n",
       "      <td>95</td>\n",
       "      <td>95</td>\n",
       "    </tr>\n",
       "    <tr>\n",
       "      <th>202212443</th>\n",
       "      <td>95</td>\n",
       "      <td>55</td>\n",
       "    </tr>\n",
       "    <tr>\n",
       "      <th>202212367</th>\n",
       "      <td>50</td>\n",
       "      <td>80</td>\n",
       "    </tr>\n",
       "    <tr>\n",
       "      <th>202212458</th>\n",
       "      <td>50</td>\n",
       "      <td>55</td>\n",
       "    </tr>\n",
       "    <tr>\n",
       "      <th>202212396</th>\n",
       "      <td>95</td>\n",
       "      <td>30</td>\n",
       "    </tr>\n",
       "    <tr>\n",
       "      <th>202212482</th>\n",
       "      <td>50</td>\n",
       "      <td>50</td>\n",
       "    </tr>\n",
       "    <tr>\n",
       "      <th>202212452</th>\n",
       "      <td>65</td>\n",
       "      <td>55</td>\n",
       "    </tr>\n",
       "    <tr>\n",
       "      <th>202212387</th>\n",
       "      <td>70</td>\n",
       "      <td>70</td>\n",
       "    </tr>\n",
       "    <tr>\n",
       "      <th>202212354</th>\n",
       "      <td>90</td>\n",
       "      <td>90</td>\n",
       "    </tr>\n",
       "  </tbody>\n",
       "</table>\n",
       "</div>"
      ],
      "text/plain": [
       "           att  rep\n",
       "202212380   65   55\n",
       "202212370   95  100\n",
       "202212363   65   90\n",
       "202212488   55   80\n",
       "202212312   80   30\n",
       "202212377   75   40\n",
       "202212463   65   45\n",
       "202212471   60   60\n",
       "202212400   95   65\n",
       "202212469   90   80\n",
       "202212318   55   75\n",
       "202212432   95   95\n",
       "202212443   95   55\n",
       "202212367   50   80\n",
       "202212458   50   55\n",
       "202212396   95   30\n",
       "202212482   50   50\n",
       "202212452   65   55\n",
       "202212387   70   70\n",
       "202212354   90   90"
      ]
     },
     "execution_count": 321,
     "metadata": {},
     "output_type": "execute_result"
    }
   ],
   "source": [
    "df.iloc[:,:2]  # 슬라이싱 , 0,1,2에서 마지막 2는 제외되고 0,1에 해당하는 것만 추출"
   ]
  },
  {
   "cell_type": "code",
   "execution_count": 183,
   "id": "1e263956-de83-4e60-83ce-a715a9372176",
   "metadata": {},
   "outputs": [
    {
     "data": {
      "text/html": [
       "<div>\n",
       "<style scoped>\n",
       "    .dataframe tbody tr th:only-of-type {\n",
       "        vertical-align: middle;\n",
       "    }\n",
       "\n",
       "    .dataframe tbody tr th {\n",
       "        vertical-align: top;\n",
       "    }\n",
       "\n",
       "    .dataframe thead th {\n",
       "        text-align: right;\n",
       "    }\n",
       "</style>\n",
       "<table border=\"1\" class=\"dataframe\">\n",
       "  <thead>\n",
       "    <tr style=\"text-align: right;\">\n",
       "      <th></th>\n",
       "      <th>att</th>\n",
       "      <th>mid</th>\n",
       "    </tr>\n",
       "  </thead>\n",
       "  <tbody>\n",
       "    <tr>\n",
       "      <th>2022-12380</th>\n",
       "      <td>65</td>\n",
       "      <td>50</td>\n",
       "    </tr>\n",
       "    <tr>\n",
       "      <th>2022-12370</th>\n",
       "      <td>95</td>\n",
       "      <td>50</td>\n",
       "    </tr>\n",
       "    <tr>\n",
       "      <th>2022-12363</th>\n",
       "      <td>65</td>\n",
       "      <td>60</td>\n",
       "    </tr>\n",
       "    <tr>\n",
       "      <th>2022-12488</th>\n",
       "      <td>55</td>\n",
       "      <td>75</td>\n",
       "    </tr>\n",
       "    <tr>\n",
       "      <th>2022-12312</th>\n",
       "      <td>80</td>\n",
       "      <td>30</td>\n",
       "    </tr>\n",
       "    <tr>\n",
       "      <th>2022-12377</th>\n",
       "      <td>75</td>\n",
       "      <td>100</td>\n",
       "    </tr>\n",
       "    <tr>\n",
       "      <th>2022-12463</th>\n",
       "      <td>65</td>\n",
       "      <td>45</td>\n",
       "    </tr>\n",
       "    <tr>\n",
       "      <th>2022-12471</th>\n",
       "      <td>60</td>\n",
       "      <td>25</td>\n",
       "    </tr>\n",
       "    <tr>\n",
       "      <th>2022-12400</th>\n",
       "      <td>95</td>\n",
       "      <td>20</td>\n",
       "    </tr>\n",
       "    <tr>\n",
       "      <th>2022-12469</th>\n",
       "      <td>90</td>\n",
       "      <td>80</td>\n",
       "    </tr>\n",
       "    <tr>\n",
       "      <th>2022-12318</th>\n",
       "      <td>55</td>\n",
       "      <td>35</td>\n",
       "    </tr>\n",
       "    <tr>\n",
       "      <th>2022-12432</th>\n",
       "      <td>95</td>\n",
       "      <td>45</td>\n",
       "    </tr>\n",
       "    <tr>\n",
       "      <th>2022-12443</th>\n",
       "      <td>95</td>\n",
       "      <td>15</td>\n",
       "    </tr>\n",
       "    <tr>\n",
       "      <th>2022-12367</th>\n",
       "      <td>50</td>\n",
       "      <td>40</td>\n",
       "    </tr>\n",
       "    <tr>\n",
       "      <th>2022-12458</th>\n",
       "      <td>50</td>\n",
       "      <td>15</td>\n",
       "    </tr>\n",
       "    <tr>\n",
       "      <th>2022-12396</th>\n",
       "      <td>95</td>\n",
       "      <td>30</td>\n",
       "    </tr>\n",
       "    <tr>\n",
       "      <th>2022-12482</th>\n",
       "      <td>50</td>\n",
       "      <td>45</td>\n",
       "    </tr>\n",
       "    <tr>\n",
       "      <th>2022-12452</th>\n",
       "      <td>65</td>\n",
       "      <td>15</td>\n",
       "    </tr>\n",
       "    <tr>\n",
       "      <th>2022-12387</th>\n",
       "      <td>70</td>\n",
       "      <td>40</td>\n",
       "    </tr>\n",
       "    <tr>\n",
       "      <th>2022-12354</th>\n",
       "      <td>90</td>\n",
       "      <td>80</td>\n",
       "    </tr>\n",
       "  </tbody>\n",
       "</table>\n",
       "</div>"
      ],
      "text/plain": [
       "            att  mid\n",
       "2022-12380   65   50\n",
       "2022-12370   95   50\n",
       "2022-12363   65   60\n",
       "2022-12488   55   75\n",
       "2022-12312   80   30\n",
       "2022-12377   75  100\n",
       "2022-12463   65   45\n",
       "2022-12471   60   25\n",
       "2022-12400   95   20\n",
       "2022-12469   90   80\n",
       "2022-12318   55   35\n",
       "2022-12432   95   45\n",
       "2022-12443   95   15\n",
       "2022-12367   50   40\n",
       "2022-12458   50   15\n",
       "2022-12396   95   30\n",
       "2022-12482   50   45\n",
       "2022-12452   65   15\n",
       "2022-12387   70   40\n",
       "2022-12354   90   80"
      ]
     },
     "execution_count": 183,
     "metadata": {},
     "output_type": "execute_result"
    }
   ],
   "source": [
    "df.iloc[:,::2]  # 스트라이딩"
   ]
  },
  {
   "cell_type": "markdown",
   "id": "28220ecc-1949-4514-bd7d-d8dcfcfa3220",
   "metadata": {},
   "source": [
    "`-` 방법3: ndarray 와 dict의 혼합형"
   ]
  },
  {
   "cell_type": "code",
   "execution_count": 188,
   "id": "15522064-4277-46c0-9ef7-8877503d9c5d",
   "metadata": {},
   "outputs": [
    {
     "data": {
      "text/html": [
       "<div>\n",
       "<style scoped>\n",
       "    .dataframe tbody tr th:only-of-type {\n",
       "        vertical-align: middle;\n",
       "    }\n",
       "\n",
       "    .dataframe tbody tr th {\n",
       "        vertical-align: top;\n",
       "    }\n",
       "\n",
       "    .dataframe thead th {\n",
       "        text-align: right;\n",
       "    }\n",
       "</style>\n",
       "<table border=\"1\" class=\"dataframe\">\n",
       "  <thead>\n",
       "    <tr style=\"text-align: right;\">\n",
       "      <th></th>\n",
       "      <th>att</th>\n",
       "      <th>mid</th>\n",
       "    </tr>\n",
       "  </thead>\n",
       "  <tbody>\n",
       "    <tr>\n",
       "      <th>2022-12380</th>\n",
       "      <td>65</td>\n",
       "      <td>50</td>\n",
       "    </tr>\n",
       "    <tr>\n",
       "      <th>2022-12370</th>\n",
       "      <td>95</td>\n",
       "      <td>50</td>\n",
       "    </tr>\n",
       "    <tr>\n",
       "      <th>2022-12363</th>\n",
       "      <td>65</td>\n",
       "      <td>60</td>\n",
       "    </tr>\n",
       "    <tr>\n",
       "      <th>2022-12488</th>\n",
       "      <td>55</td>\n",
       "      <td>75</td>\n",
       "    </tr>\n",
       "    <tr>\n",
       "      <th>2022-12312</th>\n",
       "      <td>80</td>\n",
       "      <td>30</td>\n",
       "    </tr>\n",
       "    <tr>\n",
       "      <th>2022-12377</th>\n",
       "      <td>75</td>\n",
       "      <td>100</td>\n",
       "    </tr>\n",
       "    <tr>\n",
       "      <th>2022-12463</th>\n",
       "      <td>65</td>\n",
       "      <td>45</td>\n",
       "    </tr>\n",
       "    <tr>\n",
       "      <th>2022-12471</th>\n",
       "      <td>60</td>\n",
       "      <td>25</td>\n",
       "    </tr>\n",
       "    <tr>\n",
       "      <th>2022-12400</th>\n",
       "      <td>95</td>\n",
       "      <td>20</td>\n",
       "    </tr>\n",
       "    <tr>\n",
       "      <th>2022-12469</th>\n",
       "      <td>90</td>\n",
       "      <td>80</td>\n",
       "    </tr>\n",
       "    <tr>\n",
       "      <th>2022-12318</th>\n",
       "      <td>55</td>\n",
       "      <td>35</td>\n",
       "    </tr>\n",
       "    <tr>\n",
       "      <th>2022-12432</th>\n",
       "      <td>95</td>\n",
       "      <td>45</td>\n",
       "    </tr>\n",
       "    <tr>\n",
       "      <th>2022-12443</th>\n",
       "      <td>95</td>\n",
       "      <td>15</td>\n",
       "    </tr>\n",
       "    <tr>\n",
       "      <th>2022-12367</th>\n",
       "      <td>50</td>\n",
       "      <td>40</td>\n",
       "    </tr>\n",
       "    <tr>\n",
       "      <th>2022-12458</th>\n",
       "      <td>50</td>\n",
       "      <td>15</td>\n",
       "    </tr>\n",
       "    <tr>\n",
       "      <th>2022-12396</th>\n",
       "      <td>95</td>\n",
       "      <td>30</td>\n",
       "    </tr>\n",
       "    <tr>\n",
       "      <th>2022-12482</th>\n",
       "      <td>50</td>\n",
       "      <td>45</td>\n",
       "    </tr>\n",
       "    <tr>\n",
       "      <th>2022-12452</th>\n",
       "      <td>65</td>\n",
       "      <td>15</td>\n",
       "    </tr>\n",
       "    <tr>\n",
       "      <th>2022-12387</th>\n",
       "      <td>70</td>\n",
       "      <td>40</td>\n",
       "    </tr>\n",
       "    <tr>\n",
       "      <th>2022-12354</th>\n",
       "      <td>90</td>\n",
       "      <td>80</td>\n",
       "    </tr>\n",
       "  </tbody>\n",
       "</table>\n",
       "</div>"
      ],
      "text/plain": [
       "            att  mid\n",
       "2022-12380   65   50\n",
       "2022-12370   95   50\n",
       "2022-12363   65   60\n",
       "2022-12488   55   75\n",
       "2022-12312   80   30\n",
       "2022-12377   75  100\n",
       "2022-12463   65   45\n",
       "2022-12471   60   25\n",
       "2022-12400   95   20\n",
       "2022-12469   90   80\n",
       "2022-12318   55   35\n",
       "2022-12432   95   45\n",
       "2022-12443   95   15\n",
       "2022-12367   50   40\n",
       "2022-12458   50   15\n",
       "2022-12396   95   30\n",
       "2022-12482   50   45\n",
       "2022-12452   65   15\n",
       "2022-12387   70   40\n",
       "2022-12354   90   80"
      ]
     },
     "execution_count": 188,
     "metadata": {},
     "output_type": "execute_result"
    }
   ],
   "source": [
    "df.loc[:,['att','mid']] "
   ]
  },
  {
   "cell_type": "code",
   "execution_count": 189,
   "id": "906707cf-1751-4494-bfad-35d1eb03344b",
   "metadata": {},
   "outputs": [
    {
     "data": {
      "text/html": [
       "<div>\n",
       "<style scoped>\n",
       "    .dataframe tbody tr th:only-of-type {\n",
       "        vertical-align: middle;\n",
       "    }\n",
       "\n",
       "    .dataframe tbody tr th {\n",
       "        vertical-align: top;\n",
       "    }\n",
       "\n",
       "    .dataframe thead th {\n",
       "        text-align: right;\n",
       "    }\n",
       "</style>\n",
       "<table border=\"1\" class=\"dataframe\">\n",
       "  <thead>\n",
       "    <tr style=\"text-align: right;\">\n",
       "      <th></th>\n",
       "      <th>att</th>\n",
       "      <th>rep</th>\n",
       "      <th>mid</th>\n",
       "    </tr>\n",
       "  </thead>\n",
       "  <tbody>\n",
       "    <tr>\n",
       "      <th>2022-12380</th>\n",
       "      <td>65</td>\n",
       "      <td>55</td>\n",
       "      <td>50</td>\n",
       "    </tr>\n",
       "    <tr>\n",
       "      <th>2022-12370</th>\n",
       "      <td>95</td>\n",
       "      <td>100</td>\n",
       "      <td>50</td>\n",
       "    </tr>\n",
       "    <tr>\n",
       "      <th>2022-12363</th>\n",
       "      <td>65</td>\n",
       "      <td>90</td>\n",
       "      <td>60</td>\n",
       "    </tr>\n",
       "    <tr>\n",
       "      <th>2022-12488</th>\n",
       "      <td>55</td>\n",
       "      <td>80</td>\n",
       "      <td>75</td>\n",
       "    </tr>\n",
       "    <tr>\n",
       "      <th>2022-12312</th>\n",
       "      <td>80</td>\n",
       "      <td>30</td>\n",
       "      <td>30</td>\n",
       "    </tr>\n",
       "    <tr>\n",
       "      <th>2022-12377</th>\n",
       "      <td>75</td>\n",
       "      <td>40</td>\n",
       "      <td>100</td>\n",
       "    </tr>\n",
       "    <tr>\n",
       "      <th>2022-12463</th>\n",
       "      <td>65</td>\n",
       "      <td>45</td>\n",
       "      <td>45</td>\n",
       "    </tr>\n",
       "    <tr>\n",
       "      <th>2022-12471</th>\n",
       "      <td>60</td>\n",
       "      <td>60</td>\n",
       "      <td>25</td>\n",
       "    </tr>\n",
       "    <tr>\n",
       "      <th>2022-12400</th>\n",
       "      <td>95</td>\n",
       "      <td>65</td>\n",
       "      <td>20</td>\n",
       "    </tr>\n",
       "    <tr>\n",
       "      <th>2022-12469</th>\n",
       "      <td>90</td>\n",
       "      <td>80</td>\n",
       "      <td>80</td>\n",
       "    </tr>\n",
       "    <tr>\n",
       "      <th>2022-12318</th>\n",
       "      <td>55</td>\n",
       "      <td>75</td>\n",
       "      <td>35</td>\n",
       "    </tr>\n",
       "    <tr>\n",
       "      <th>2022-12432</th>\n",
       "      <td>95</td>\n",
       "      <td>95</td>\n",
       "      <td>45</td>\n",
       "    </tr>\n",
       "    <tr>\n",
       "      <th>2022-12443</th>\n",
       "      <td>95</td>\n",
       "      <td>55</td>\n",
       "      <td>15</td>\n",
       "    </tr>\n",
       "    <tr>\n",
       "      <th>2022-12367</th>\n",
       "      <td>50</td>\n",
       "      <td>80</td>\n",
       "      <td>40</td>\n",
       "    </tr>\n",
       "    <tr>\n",
       "      <th>2022-12458</th>\n",
       "      <td>50</td>\n",
       "      <td>55</td>\n",
       "      <td>15</td>\n",
       "    </tr>\n",
       "    <tr>\n",
       "      <th>2022-12396</th>\n",
       "      <td>95</td>\n",
       "      <td>30</td>\n",
       "      <td>30</td>\n",
       "    </tr>\n",
       "    <tr>\n",
       "      <th>2022-12482</th>\n",
       "      <td>50</td>\n",
       "      <td>50</td>\n",
       "      <td>45</td>\n",
       "    </tr>\n",
       "    <tr>\n",
       "      <th>2022-12452</th>\n",
       "      <td>65</td>\n",
       "      <td>55</td>\n",
       "      <td>15</td>\n",
       "    </tr>\n",
       "    <tr>\n",
       "      <th>2022-12387</th>\n",
       "      <td>70</td>\n",
       "      <td>70</td>\n",
       "      <td>40</td>\n",
       "    </tr>\n",
       "    <tr>\n",
       "      <th>2022-12354</th>\n",
       "      <td>90</td>\n",
       "      <td>90</td>\n",
       "      <td>80</td>\n",
       "    </tr>\n",
       "  </tbody>\n",
       "</table>\n",
       "</div>"
      ],
      "text/plain": [
       "            att  rep  mid\n",
       "2022-12380   65   55   50\n",
       "2022-12370   95  100   50\n",
       "2022-12363   65   90   60\n",
       "2022-12488   55   80   75\n",
       "2022-12312   80   30   30\n",
       "2022-12377   75   40  100\n",
       "2022-12463   65   45   45\n",
       "2022-12471   60   60   25\n",
       "2022-12400   95   65   20\n",
       "2022-12469   90   80   80\n",
       "2022-12318   55   75   35\n",
       "2022-12432   95   95   45\n",
       "2022-12443   95   55   15\n",
       "2022-12367   50   80   40\n",
       "2022-12458   50   55   15\n",
       "2022-12396   95   30   30\n",
       "2022-12482   50   50   45\n",
       "2022-12452   65   55   15\n",
       "2022-12387   70   70   40\n",
       "2022-12354   90   90   80"
      ]
     },
     "execution_count": 189,
     "metadata": {},
     "output_type": "execute_result"
    }
   ],
   "source": [
    "df.loc[:,'att':'mid']  # 마지막의 mid도 포함된다. "
   ]
  },
  {
   "cell_type": "code",
   "execution_count": 190,
   "id": "c9efd14d-0936-442b-ab5f-24601a98eaf3",
   "metadata": {},
   "outputs": [
    {
     "data": {
      "text/html": [
       "<div>\n",
       "<style scoped>\n",
       "    .dataframe tbody tr th:only-of-type {\n",
       "        vertical-align: middle;\n",
       "    }\n",
       "\n",
       "    .dataframe tbody tr th {\n",
       "        vertical-align: top;\n",
       "    }\n",
       "\n",
       "    .dataframe thead th {\n",
       "        text-align: right;\n",
       "    }\n",
       "</style>\n",
       "<table border=\"1\" class=\"dataframe\">\n",
       "  <thead>\n",
       "    <tr style=\"text-align: right;\">\n",
       "      <th></th>\n",
       "      <th>rep</th>\n",
       "      <th>mid</th>\n",
       "      <th>fin</th>\n",
       "    </tr>\n",
       "  </thead>\n",
       "  <tbody>\n",
       "    <tr>\n",
       "      <th>2022-12380</th>\n",
       "      <td>55</td>\n",
       "      <td>50</td>\n",
       "      <td>40</td>\n",
       "    </tr>\n",
       "    <tr>\n",
       "      <th>2022-12370</th>\n",
       "      <td>100</td>\n",
       "      <td>50</td>\n",
       "      <td>80</td>\n",
       "    </tr>\n",
       "    <tr>\n",
       "      <th>2022-12363</th>\n",
       "      <td>90</td>\n",
       "      <td>60</td>\n",
       "      <td>30</td>\n",
       "    </tr>\n",
       "    <tr>\n",
       "      <th>2022-12488</th>\n",
       "      <td>80</td>\n",
       "      <td>75</td>\n",
       "      <td>80</td>\n",
       "    </tr>\n",
       "    <tr>\n",
       "      <th>2022-12312</th>\n",
       "      <td>30</td>\n",
       "      <td>30</td>\n",
       "      <td>100</td>\n",
       "    </tr>\n",
       "    <tr>\n",
       "      <th>2022-12377</th>\n",
       "      <td>40</td>\n",
       "      <td>100</td>\n",
       "      <td>15</td>\n",
       "    </tr>\n",
       "    <tr>\n",
       "      <th>2022-12463</th>\n",
       "      <td>45</td>\n",
       "      <td>45</td>\n",
       "      <td>90</td>\n",
       "    </tr>\n",
       "    <tr>\n",
       "      <th>2022-12471</th>\n",
       "      <td>60</td>\n",
       "      <td>25</td>\n",
       "      <td>0</td>\n",
       "    </tr>\n",
       "    <tr>\n",
       "      <th>2022-12400</th>\n",
       "      <td>65</td>\n",
       "      <td>20</td>\n",
       "      <td>10</td>\n",
       "    </tr>\n",
       "    <tr>\n",
       "      <th>2022-12469</th>\n",
       "      <td>80</td>\n",
       "      <td>80</td>\n",
       "      <td>20</td>\n",
       "    </tr>\n",
       "    <tr>\n",
       "      <th>2022-12318</th>\n",
       "      <td>75</td>\n",
       "      <td>35</td>\n",
       "      <td>25</td>\n",
       "    </tr>\n",
       "    <tr>\n",
       "      <th>2022-12432</th>\n",
       "      <td>95</td>\n",
       "      <td>45</td>\n",
       "      <td>0</td>\n",
       "    </tr>\n",
       "    <tr>\n",
       "      <th>2022-12443</th>\n",
       "      <td>55</td>\n",
       "      <td>15</td>\n",
       "      <td>35</td>\n",
       "    </tr>\n",
       "    <tr>\n",
       "      <th>2022-12367</th>\n",
       "      <td>80</td>\n",
       "      <td>40</td>\n",
       "      <td>30</td>\n",
       "    </tr>\n",
       "    <tr>\n",
       "      <th>2022-12458</th>\n",
       "      <td>55</td>\n",
       "      <td>15</td>\n",
       "      <td>85</td>\n",
       "    </tr>\n",
       "    <tr>\n",
       "      <th>2022-12396</th>\n",
       "      <td>30</td>\n",
       "      <td>30</td>\n",
       "      <td>95</td>\n",
       "    </tr>\n",
       "    <tr>\n",
       "      <th>2022-12482</th>\n",
       "      <td>50</td>\n",
       "      <td>45</td>\n",
       "      <td>10</td>\n",
       "    </tr>\n",
       "    <tr>\n",
       "      <th>2022-12452</th>\n",
       "      <td>55</td>\n",
       "      <td>15</td>\n",
       "      <td>45</td>\n",
       "    </tr>\n",
       "    <tr>\n",
       "      <th>2022-12387</th>\n",
       "      <td>70</td>\n",
       "      <td>40</td>\n",
       "      <td>35</td>\n",
       "    </tr>\n",
       "    <tr>\n",
       "      <th>2022-12354</th>\n",
       "      <td>90</td>\n",
       "      <td>80</td>\n",
       "      <td>90</td>\n",
       "    </tr>\n",
       "  </tbody>\n",
       "</table>\n",
       "</div>"
      ],
      "text/plain": [
       "            rep  mid  fin\n",
       "2022-12380   55   50   40\n",
       "2022-12370  100   50   80\n",
       "2022-12363   90   60   30\n",
       "2022-12488   80   75   80\n",
       "2022-12312   30   30  100\n",
       "2022-12377   40  100   15\n",
       "2022-12463   45   45   90\n",
       "2022-12471   60   25    0\n",
       "2022-12400   65   20   10\n",
       "2022-12469   80   80   20\n",
       "2022-12318   75   35   25\n",
       "2022-12432   95   45    0\n",
       "2022-12443   55   15   35\n",
       "2022-12367   80   40   30\n",
       "2022-12458   55   15   85\n",
       "2022-12396   30   30   95\n",
       "2022-12482   50   45   10\n",
       "2022-12452   55   15   45\n",
       "2022-12387   70   40   35\n",
       "2022-12354   90   80   90"
      ]
     },
     "execution_count": 190,
     "metadata": {},
     "output_type": "execute_result"
    }
   ],
   "source": [
    "df.loc[:,'rep':] "
   ]
  },
  {
   "cell_type": "markdown",
   "id": "e08e1e15-0f49-4dd6-8b81-6d8f98d71e5b",
   "metadata": {},
   "source": [
    "`-` 방법4: bool을 이용한 인덱싱 "
   ]
  },
  {
   "cell_type": "code",
   "execution_count": 191,
   "id": "cbbd83fb-2cd9-4881-8fe4-57bffd3a118f",
   "metadata": {},
   "outputs": [
    {
     "data": {
      "text/html": [
       "<div>\n",
       "<style scoped>\n",
       "    .dataframe tbody tr th:only-of-type {\n",
       "        vertical-align: middle;\n",
       "    }\n",
       "\n",
       "    .dataframe tbody tr th {\n",
       "        vertical-align: top;\n",
       "    }\n",
       "\n",
       "    .dataframe thead th {\n",
       "        text-align: right;\n",
       "    }\n",
       "</style>\n",
       "<table border=\"1\" class=\"dataframe\">\n",
       "  <thead>\n",
       "    <tr style=\"text-align: right;\">\n",
       "      <th></th>\n",
       "      <th>att</th>\n",
       "      <th>mid</th>\n",
       "    </tr>\n",
       "  </thead>\n",
       "  <tbody>\n",
       "    <tr>\n",
       "      <th>2022-12380</th>\n",
       "      <td>65</td>\n",
       "      <td>50</td>\n",
       "    </tr>\n",
       "    <tr>\n",
       "      <th>2022-12370</th>\n",
       "      <td>95</td>\n",
       "      <td>50</td>\n",
       "    </tr>\n",
       "    <tr>\n",
       "      <th>2022-12363</th>\n",
       "      <td>65</td>\n",
       "      <td>60</td>\n",
       "    </tr>\n",
       "    <tr>\n",
       "      <th>2022-12488</th>\n",
       "      <td>55</td>\n",
       "      <td>75</td>\n",
       "    </tr>\n",
       "    <tr>\n",
       "      <th>2022-12312</th>\n",
       "      <td>80</td>\n",
       "      <td>30</td>\n",
       "    </tr>\n",
       "    <tr>\n",
       "      <th>2022-12377</th>\n",
       "      <td>75</td>\n",
       "      <td>100</td>\n",
       "    </tr>\n",
       "    <tr>\n",
       "      <th>2022-12463</th>\n",
       "      <td>65</td>\n",
       "      <td>45</td>\n",
       "    </tr>\n",
       "    <tr>\n",
       "      <th>2022-12471</th>\n",
       "      <td>60</td>\n",
       "      <td>25</td>\n",
       "    </tr>\n",
       "    <tr>\n",
       "      <th>2022-12400</th>\n",
       "      <td>95</td>\n",
       "      <td>20</td>\n",
       "    </tr>\n",
       "    <tr>\n",
       "      <th>2022-12469</th>\n",
       "      <td>90</td>\n",
       "      <td>80</td>\n",
       "    </tr>\n",
       "    <tr>\n",
       "      <th>2022-12318</th>\n",
       "      <td>55</td>\n",
       "      <td>35</td>\n",
       "    </tr>\n",
       "    <tr>\n",
       "      <th>2022-12432</th>\n",
       "      <td>95</td>\n",
       "      <td>45</td>\n",
       "    </tr>\n",
       "    <tr>\n",
       "      <th>2022-12443</th>\n",
       "      <td>95</td>\n",
       "      <td>15</td>\n",
       "    </tr>\n",
       "    <tr>\n",
       "      <th>2022-12367</th>\n",
       "      <td>50</td>\n",
       "      <td>40</td>\n",
       "    </tr>\n",
       "    <tr>\n",
       "      <th>2022-12458</th>\n",
       "      <td>50</td>\n",
       "      <td>15</td>\n",
       "    </tr>\n",
       "    <tr>\n",
       "      <th>2022-12396</th>\n",
       "      <td>95</td>\n",
       "      <td>30</td>\n",
       "    </tr>\n",
       "    <tr>\n",
       "      <th>2022-12482</th>\n",
       "      <td>50</td>\n",
       "      <td>45</td>\n",
       "    </tr>\n",
       "    <tr>\n",
       "      <th>2022-12452</th>\n",
       "      <td>65</td>\n",
       "      <td>15</td>\n",
       "    </tr>\n",
       "    <tr>\n",
       "      <th>2022-12387</th>\n",
       "      <td>70</td>\n",
       "      <td>40</td>\n",
       "    </tr>\n",
       "    <tr>\n",
       "      <th>2022-12354</th>\n",
       "      <td>90</td>\n",
       "      <td>80</td>\n",
       "    </tr>\n",
       "  </tbody>\n",
       "</table>\n",
       "</div>"
      ],
      "text/plain": [
       "            att  mid\n",
       "2022-12380   65   50\n",
       "2022-12370   95   50\n",
       "2022-12363   65   60\n",
       "2022-12488   55   75\n",
       "2022-12312   80   30\n",
       "2022-12377   75  100\n",
       "2022-12463   65   45\n",
       "2022-12471   60   25\n",
       "2022-12400   95   20\n",
       "2022-12469   90   80\n",
       "2022-12318   55   35\n",
       "2022-12432   95   45\n",
       "2022-12443   95   15\n",
       "2022-12367   50   40\n",
       "2022-12458   50   15\n",
       "2022-12396   95   30\n",
       "2022-12482   50   45\n",
       "2022-12452   65   15\n",
       "2022-12387   70   40\n",
       "2022-12354   90   80"
      ]
     },
     "execution_count": 191,
     "metadata": {},
     "output_type": "execute_result"
    }
   ],
   "source": [
    "df.iloc[:,[True,False,True,False]]"
   ]
  },
  {
   "cell_type": "code",
   "execution_count": 192,
   "id": "6972c38e-bcdd-484b-b8fe-1271afcf5a0a",
   "metadata": {},
   "outputs": [
    {
     "data": {
      "text/html": [
       "<div>\n",
       "<style scoped>\n",
       "    .dataframe tbody tr th:only-of-type {\n",
       "        vertical-align: middle;\n",
       "    }\n",
       "\n",
       "    .dataframe tbody tr th {\n",
       "        vertical-align: top;\n",
       "    }\n",
       "\n",
       "    .dataframe thead th {\n",
       "        text-align: right;\n",
       "    }\n",
       "</style>\n",
       "<table border=\"1\" class=\"dataframe\">\n",
       "  <thead>\n",
       "    <tr style=\"text-align: right;\">\n",
       "      <th></th>\n",
       "      <th>att</th>\n",
       "      <th>mid</th>\n",
       "    </tr>\n",
       "  </thead>\n",
       "  <tbody>\n",
       "    <tr>\n",
       "      <th>2022-12380</th>\n",
       "      <td>65</td>\n",
       "      <td>50</td>\n",
       "    </tr>\n",
       "    <tr>\n",
       "      <th>2022-12370</th>\n",
       "      <td>95</td>\n",
       "      <td>50</td>\n",
       "    </tr>\n",
       "    <tr>\n",
       "      <th>2022-12363</th>\n",
       "      <td>65</td>\n",
       "      <td>60</td>\n",
       "    </tr>\n",
       "    <tr>\n",
       "      <th>2022-12488</th>\n",
       "      <td>55</td>\n",
       "      <td>75</td>\n",
       "    </tr>\n",
       "    <tr>\n",
       "      <th>2022-12312</th>\n",
       "      <td>80</td>\n",
       "      <td>30</td>\n",
       "    </tr>\n",
       "    <tr>\n",
       "      <th>2022-12377</th>\n",
       "      <td>75</td>\n",
       "      <td>100</td>\n",
       "    </tr>\n",
       "    <tr>\n",
       "      <th>2022-12463</th>\n",
       "      <td>65</td>\n",
       "      <td>45</td>\n",
       "    </tr>\n",
       "    <tr>\n",
       "      <th>2022-12471</th>\n",
       "      <td>60</td>\n",
       "      <td>25</td>\n",
       "    </tr>\n",
       "    <tr>\n",
       "      <th>2022-12400</th>\n",
       "      <td>95</td>\n",
       "      <td>20</td>\n",
       "    </tr>\n",
       "    <tr>\n",
       "      <th>2022-12469</th>\n",
       "      <td>90</td>\n",
       "      <td>80</td>\n",
       "    </tr>\n",
       "    <tr>\n",
       "      <th>2022-12318</th>\n",
       "      <td>55</td>\n",
       "      <td>35</td>\n",
       "    </tr>\n",
       "    <tr>\n",
       "      <th>2022-12432</th>\n",
       "      <td>95</td>\n",
       "      <td>45</td>\n",
       "    </tr>\n",
       "    <tr>\n",
       "      <th>2022-12443</th>\n",
       "      <td>95</td>\n",
       "      <td>15</td>\n",
       "    </tr>\n",
       "    <tr>\n",
       "      <th>2022-12367</th>\n",
       "      <td>50</td>\n",
       "      <td>40</td>\n",
       "    </tr>\n",
       "    <tr>\n",
       "      <th>2022-12458</th>\n",
       "      <td>50</td>\n",
       "      <td>15</td>\n",
       "    </tr>\n",
       "    <tr>\n",
       "      <th>2022-12396</th>\n",
       "      <td>95</td>\n",
       "      <td>30</td>\n",
       "    </tr>\n",
       "    <tr>\n",
       "      <th>2022-12482</th>\n",
       "      <td>50</td>\n",
       "      <td>45</td>\n",
       "    </tr>\n",
       "    <tr>\n",
       "      <th>2022-12452</th>\n",
       "      <td>65</td>\n",
       "      <td>15</td>\n",
       "    </tr>\n",
       "    <tr>\n",
       "      <th>2022-12387</th>\n",
       "      <td>70</td>\n",
       "      <td>40</td>\n",
       "    </tr>\n",
       "    <tr>\n",
       "      <th>2022-12354</th>\n",
       "      <td>90</td>\n",
       "      <td>80</td>\n",
       "    </tr>\n",
       "  </tbody>\n",
       "</table>\n",
       "</div>"
      ],
      "text/plain": [
       "            att  mid\n",
       "2022-12380   65   50\n",
       "2022-12370   95   50\n",
       "2022-12363   65   60\n",
       "2022-12488   55   75\n",
       "2022-12312   80   30\n",
       "2022-12377   75  100\n",
       "2022-12463   65   45\n",
       "2022-12471   60   25\n",
       "2022-12400   95   20\n",
       "2022-12469   90   80\n",
       "2022-12318   55   35\n",
       "2022-12432   95   45\n",
       "2022-12443   95   15\n",
       "2022-12367   50   40\n",
       "2022-12458   50   15\n",
       "2022-12396   95   30\n",
       "2022-12482   50   45\n",
       "2022-12452   65   15\n",
       "2022-12387   70   40\n",
       "2022-12354   90   80"
      ]
     },
     "execution_count": 192,
     "metadata": {},
     "output_type": "execute_result"
    }
   ],
   "source": [
    "df.loc[:,[True,False,True,False]]"
   ]
  },
  {
   "cell_type": "markdown",
   "id": "9cab660a-175f-4a49-b858-3f111bb464ff",
   "metadata": {},
   "source": [
    "## 첫번째 행을 선택 "
   ]
  },
  {
   "cell_type": "markdown",
   "id": "1e8dc7e4-8d90-41ba-9c35-1abdd12176b0",
   "metadata": {},
   "source": [
    "`-` 방법1"
   ]
  },
  {
   "cell_type": "code",
   "execution_count": 193,
   "id": "7a6089dc-129e-4b6e-86b6-4e924f25758b",
   "metadata": {},
   "outputs": [
    {
     "data": {
      "text/plain": [
       "att    65\n",
       "rep    55\n",
       "mid    50\n",
       "fin    40\n",
       "Name: 2022-12380, dtype: int64"
      ]
     },
     "execution_count": 193,
     "metadata": {},
     "output_type": "execute_result"
    }
   ],
   "source": [
    "df.iloc[0]"
   ]
  },
  {
   "cell_type": "markdown",
   "id": "37041737-a5e2-41e0-bf18-618f8e3784d5",
   "metadata": {},
   "source": [
    "`-` 방법2"
   ]
  },
  {
   "cell_type": "code",
   "execution_count": 194,
   "id": "1e91165c-afac-477d-9bdb-1b7f8d26966c",
   "metadata": {},
   "outputs": [
    {
     "data": {
      "text/html": [
       "<div>\n",
       "<style scoped>\n",
       "    .dataframe tbody tr th:only-of-type {\n",
       "        vertical-align: middle;\n",
       "    }\n",
       "\n",
       "    .dataframe tbody tr th {\n",
       "        vertical-align: top;\n",
       "    }\n",
       "\n",
       "    .dataframe thead th {\n",
       "        text-align: right;\n",
       "    }\n",
       "</style>\n",
       "<table border=\"1\" class=\"dataframe\">\n",
       "  <thead>\n",
       "    <tr style=\"text-align: right;\">\n",
       "      <th></th>\n",
       "      <th>att</th>\n",
       "      <th>rep</th>\n",
       "      <th>mid</th>\n",
       "      <th>fin</th>\n",
       "    </tr>\n",
       "  </thead>\n",
       "  <tbody>\n",
       "    <tr>\n",
       "      <th>2022-12380</th>\n",
       "      <td>65</td>\n",
       "      <td>55</td>\n",
       "      <td>50</td>\n",
       "      <td>40</td>\n",
       "    </tr>\n",
       "  </tbody>\n",
       "</table>\n",
       "</div>"
      ],
      "text/plain": [
       "            att  rep  mid  fin\n",
       "2022-12380   65   55   50   40"
      ]
     },
     "execution_count": 194,
     "metadata": {},
     "output_type": "execute_result"
    }
   ],
   "source": [
    "df.iloc[[0]]"
   ]
  },
  {
   "cell_type": "markdown",
   "id": "7776efba-ac76-472a-808f-6e3d091725cf",
   "metadata": {},
   "source": [
    "`-` 방법3"
   ]
  },
  {
   "cell_type": "code",
   "execution_count": 195,
   "id": "ff17b2d0-2260-4dbf-9cf5-ba9bc13f5adc",
   "metadata": {},
   "outputs": [
    {
     "data": {
      "text/plain": [
       "att    65\n",
       "rep    55\n",
       "mid    50\n",
       "fin    40\n",
       "Name: 2022-12380, dtype: int64"
      ]
     },
     "execution_count": 195,
     "metadata": {},
     "output_type": "execute_result"
    }
   ],
   "source": [
    "df.iloc[0,:]"
   ]
  },
  {
   "cell_type": "markdown",
   "id": "b5574cae-cd35-40b6-8c47-e8a4fa91a06f",
   "metadata": {},
   "source": [
    "`-` 방법4"
   ]
  },
  {
   "cell_type": "code",
   "execution_count": 196,
   "id": "c8cfa9bc-483b-43e7-b87c-e529153dabe0",
   "metadata": {},
   "outputs": [
    {
     "data": {
      "text/html": [
       "<div>\n",
       "<style scoped>\n",
       "    .dataframe tbody tr th:only-of-type {\n",
       "        vertical-align: middle;\n",
       "    }\n",
       "\n",
       "    .dataframe tbody tr th {\n",
       "        vertical-align: top;\n",
       "    }\n",
       "\n",
       "    .dataframe thead th {\n",
       "        text-align: right;\n",
       "    }\n",
       "</style>\n",
       "<table border=\"1\" class=\"dataframe\">\n",
       "  <thead>\n",
       "    <tr style=\"text-align: right;\">\n",
       "      <th></th>\n",
       "      <th>att</th>\n",
       "      <th>rep</th>\n",
       "      <th>mid</th>\n",
       "      <th>fin</th>\n",
       "    </tr>\n",
       "  </thead>\n",
       "  <tbody>\n",
       "    <tr>\n",
       "      <th>2022-12380</th>\n",
       "      <td>65</td>\n",
       "      <td>55</td>\n",
       "      <td>50</td>\n",
       "      <td>40</td>\n",
       "    </tr>\n",
       "  </tbody>\n",
       "</table>\n",
       "</div>"
      ],
      "text/plain": [
       "            att  rep  mid  fin\n",
       "2022-12380   65   55   50   40"
      ]
     },
     "execution_count": 196,
     "metadata": {},
     "output_type": "execute_result"
    }
   ],
   "source": [
    "df.iloc[[0],:]"
   ]
  },
  {
   "cell_type": "markdown",
   "id": "b4768dfa-ff2a-4993-abcf-466549697850",
   "metadata": {},
   "source": [
    "`-` 방법5"
   ]
  },
  {
   "cell_type": "code",
   "execution_count": 199,
   "id": "b55fbd29-7350-47dd-bf1c-cce4fc142ebe",
   "metadata": {},
   "outputs": [
    {
     "data": {
      "text/plain": [
       "att    65\n",
       "rep    55\n",
       "mid    50\n",
       "fin    40\n",
       "Name: 2022-12380, dtype: int64"
      ]
     },
     "execution_count": 199,
     "metadata": {},
     "output_type": "execute_result"
    }
   ],
   "source": [
    "df.loc['2022-12380']"
   ]
  },
  {
   "cell_type": "markdown",
   "id": "b56032f0-6648-4a16-b689-b901e13dd153",
   "metadata": {},
   "source": [
    "`-` 방법6"
   ]
  },
  {
   "cell_type": "code",
   "execution_count": 200,
   "id": "1677ed18-2911-4f8c-835a-cfb60cd9b90e",
   "metadata": {},
   "outputs": [
    {
     "data": {
      "text/html": [
       "<div>\n",
       "<style scoped>\n",
       "    .dataframe tbody tr th:only-of-type {\n",
       "        vertical-align: middle;\n",
       "    }\n",
       "\n",
       "    .dataframe tbody tr th {\n",
       "        vertical-align: top;\n",
       "    }\n",
       "\n",
       "    .dataframe thead th {\n",
       "        text-align: right;\n",
       "    }\n",
       "</style>\n",
       "<table border=\"1\" class=\"dataframe\">\n",
       "  <thead>\n",
       "    <tr style=\"text-align: right;\">\n",
       "      <th></th>\n",
       "      <th>att</th>\n",
       "      <th>rep</th>\n",
       "      <th>mid</th>\n",
       "      <th>fin</th>\n",
       "    </tr>\n",
       "  </thead>\n",
       "  <tbody>\n",
       "    <tr>\n",
       "      <th>2022-12380</th>\n",
       "      <td>65</td>\n",
       "      <td>55</td>\n",
       "      <td>50</td>\n",
       "      <td>40</td>\n",
       "    </tr>\n",
       "  </tbody>\n",
       "</table>\n",
       "</div>"
      ],
      "text/plain": [
       "            att  rep  mid  fin\n",
       "2022-12380   65   55   50   40"
      ]
     },
     "execution_count": 200,
     "metadata": {},
     "output_type": "execute_result"
    }
   ],
   "source": [
    "df.loc[['2022-12380']]"
   ]
  },
  {
   "cell_type": "markdown",
   "id": "0f56ea03-eae6-47be-b6f9-faffea21378a",
   "metadata": {},
   "source": [
    "`-` 방법7"
   ]
  },
  {
   "cell_type": "code",
   "execution_count": 201,
   "id": "a81cd798-b8cc-462b-95eb-dedf51301f56",
   "metadata": {},
   "outputs": [
    {
     "data": {
      "text/plain": [
       "att    65\n",
       "rep    55\n",
       "mid    50\n",
       "fin    40\n",
       "Name: 2022-12380, dtype: int64"
      ]
     },
     "execution_count": 201,
     "metadata": {},
     "output_type": "execute_result"
    }
   ],
   "source": [
    "df.loc['2022-12380',:]"
   ]
  },
  {
   "cell_type": "markdown",
   "id": "0304e721-94af-4bec-b01c-f9bab1a79d8c",
   "metadata": {},
   "source": [
    "`-` 방법8"
   ]
  },
  {
   "cell_type": "code",
   "execution_count": 202,
   "id": "5e5f2ad8-aca2-4580-9887-85a2faeb7a96",
   "metadata": {},
   "outputs": [
    {
     "data": {
      "text/html": [
       "<div>\n",
       "<style scoped>\n",
       "    .dataframe tbody tr th:only-of-type {\n",
       "        vertical-align: middle;\n",
       "    }\n",
       "\n",
       "    .dataframe tbody tr th {\n",
       "        vertical-align: top;\n",
       "    }\n",
       "\n",
       "    .dataframe thead th {\n",
       "        text-align: right;\n",
       "    }\n",
       "</style>\n",
       "<table border=\"1\" class=\"dataframe\">\n",
       "  <thead>\n",
       "    <tr style=\"text-align: right;\">\n",
       "      <th></th>\n",
       "      <th>att</th>\n",
       "      <th>rep</th>\n",
       "      <th>mid</th>\n",
       "      <th>fin</th>\n",
       "    </tr>\n",
       "  </thead>\n",
       "  <tbody>\n",
       "    <tr>\n",
       "      <th>2022-12380</th>\n",
       "      <td>65</td>\n",
       "      <td>55</td>\n",
       "      <td>50</td>\n",
       "      <td>40</td>\n",
       "    </tr>\n",
       "  </tbody>\n",
       "</table>\n",
       "</div>"
      ],
      "text/plain": [
       "            att  rep  mid  fin\n",
       "2022-12380   65   55   50   40"
      ]
     },
     "execution_count": 202,
     "metadata": {},
     "output_type": "execute_result"
    }
   ],
   "source": [
    "df.loc[['2022-12380'],:]"
   ]
  },
  {
   "cell_type": "markdown",
   "id": "1e74c49d-f91e-4e9c-b198-058f06036cf6",
   "metadata": {},
   "source": [
    "`-` 방법9"
   ]
  },
  {
   "cell_type": "code",
   "execution_count": 203,
   "id": "8925c41c-c24a-41e9-8fb6-e5c7de515176",
   "metadata": {},
   "outputs": [
    {
     "data": {
      "text/plain": [
       "20"
      ]
     },
     "execution_count": 203,
     "metadata": {},
     "output_type": "execute_result"
    }
   ],
   "source": [
    "len(df)"
   ]
  },
  {
   "cell_type": "code",
   "execution_count": 204,
   "id": "e86b4a08-9ddb-4750-890d-71b646ba7fce",
   "metadata": {},
   "outputs": [],
   "source": [
    "_lst = [True]+[False]*19"
   ]
  },
  {
   "cell_type": "code",
   "execution_count": 205,
   "id": "ecc1d3df-283b-4b7c-be9b-fa744f92761a",
   "metadata": {},
   "outputs": [
    {
     "data": {
      "text/html": [
       "<div>\n",
       "<style scoped>\n",
       "    .dataframe tbody tr th:only-of-type {\n",
       "        vertical-align: middle;\n",
       "    }\n",
       "\n",
       "    .dataframe tbody tr th {\n",
       "        vertical-align: top;\n",
       "    }\n",
       "\n",
       "    .dataframe thead th {\n",
       "        text-align: right;\n",
       "    }\n",
       "</style>\n",
       "<table border=\"1\" class=\"dataframe\">\n",
       "  <thead>\n",
       "    <tr style=\"text-align: right;\">\n",
       "      <th></th>\n",
       "      <th>att</th>\n",
       "      <th>rep</th>\n",
       "      <th>mid</th>\n",
       "      <th>fin</th>\n",
       "    </tr>\n",
       "  </thead>\n",
       "  <tbody>\n",
       "    <tr>\n",
       "      <th>2022-12380</th>\n",
       "      <td>65</td>\n",
       "      <td>55</td>\n",
       "      <td>50</td>\n",
       "      <td>40</td>\n",
       "    </tr>\n",
       "  </tbody>\n",
       "</table>\n",
       "</div>"
      ],
      "text/plain": [
       "            att  rep  mid  fin\n",
       "2022-12380   65   55   50   40"
      ]
     },
     "execution_count": 205,
     "metadata": {},
     "output_type": "execute_result"
    }
   ],
   "source": [
    "df.iloc[_lst] "
   ]
  },
  {
   "cell_type": "code",
   "execution_count": 206,
   "id": "d1418d12-8385-434b-b0e4-ec6f406c9f5d",
   "metadata": {},
   "outputs": [
    {
     "data": {
      "text/html": [
       "<div>\n",
       "<style scoped>\n",
       "    .dataframe tbody tr th:only-of-type {\n",
       "        vertical-align: middle;\n",
       "    }\n",
       "\n",
       "    .dataframe tbody tr th {\n",
       "        vertical-align: top;\n",
       "    }\n",
       "\n",
       "    .dataframe thead th {\n",
       "        text-align: right;\n",
       "    }\n",
       "</style>\n",
       "<table border=\"1\" class=\"dataframe\">\n",
       "  <thead>\n",
       "    <tr style=\"text-align: right;\">\n",
       "      <th></th>\n",
       "      <th>att</th>\n",
       "      <th>rep</th>\n",
       "      <th>mid</th>\n",
       "      <th>fin</th>\n",
       "    </tr>\n",
       "  </thead>\n",
       "  <tbody>\n",
       "    <tr>\n",
       "      <th>2022-12380</th>\n",
       "      <td>65</td>\n",
       "      <td>55</td>\n",
       "      <td>50</td>\n",
       "      <td>40</td>\n",
       "    </tr>\n",
       "  </tbody>\n",
       "</table>\n",
       "</div>"
      ],
      "text/plain": [
       "            att  rep  mid  fin\n",
       "2022-12380   65   55   50   40"
      ]
     },
     "execution_count": 206,
     "metadata": {},
     "output_type": "execute_result"
    }
   ],
   "source": [
    "df.iloc[_lst,:] "
   ]
  },
  {
   "cell_type": "code",
   "execution_count": 207,
   "id": "f43e9473-a270-4e49-9ac0-bf97a870802e",
   "metadata": {},
   "outputs": [
    {
     "data": {
      "text/html": [
       "<div>\n",
       "<style scoped>\n",
       "    .dataframe tbody tr th:only-of-type {\n",
       "        vertical-align: middle;\n",
       "    }\n",
       "\n",
       "    .dataframe tbody tr th {\n",
       "        vertical-align: top;\n",
       "    }\n",
       "\n",
       "    .dataframe thead th {\n",
       "        text-align: right;\n",
       "    }\n",
       "</style>\n",
       "<table border=\"1\" class=\"dataframe\">\n",
       "  <thead>\n",
       "    <tr style=\"text-align: right;\">\n",
       "      <th></th>\n",
       "      <th>att</th>\n",
       "      <th>rep</th>\n",
       "      <th>mid</th>\n",
       "      <th>fin</th>\n",
       "    </tr>\n",
       "  </thead>\n",
       "  <tbody>\n",
       "    <tr>\n",
       "      <th>2022-12380</th>\n",
       "      <td>65</td>\n",
       "      <td>55</td>\n",
       "      <td>50</td>\n",
       "      <td>40</td>\n",
       "    </tr>\n",
       "  </tbody>\n",
       "</table>\n",
       "</div>"
      ],
      "text/plain": [
       "            att  rep  mid  fin\n",
       "2022-12380   65   55   50   40"
      ]
     },
     "execution_count": 207,
     "metadata": {},
     "output_type": "execute_result"
    }
   ],
   "source": [
    "df.loc[_lst] "
   ]
  },
  {
   "cell_type": "code",
   "execution_count": 208,
   "id": "4f35147c-b902-4206-8a87-342ee5296616",
   "metadata": {},
   "outputs": [
    {
     "data": {
      "text/html": [
       "<div>\n",
       "<style scoped>\n",
       "    .dataframe tbody tr th:only-of-type {\n",
       "        vertical-align: middle;\n",
       "    }\n",
       "\n",
       "    .dataframe tbody tr th {\n",
       "        vertical-align: top;\n",
       "    }\n",
       "\n",
       "    .dataframe thead th {\n",
       "        text-align: right;\n",
       "    }\n",
       "</style>\n",
       "<table border=\"1\" class=\"dataframe\">\n",
       "  <thead>\n",
       "    <tr style=\"text-align: right;\">\n",
       "      <th></th>\n",
       "      <th>att</th>\n",
       "      <th>rep</th>\n",
       "      <th>mid</th>\n",
       "      <th>fin</th>\n",
       "    </tr>\n",
       "  </thead>\n",
       "  <tbody>\n",
       "    <tr>\n",
       "      <th>2022-12380</th>\n",
       "      <td>65</td>\n",
       "      <td>55</td>\n",
       "      <td>50</td>\n",
       "      <td>40</td>\n",
       "    </tr>\n",
       "  </tbody>\n",
       "</table>\n",
       "</div>"
      ],
      "text/plain": [
       "            att  rep  mid  fin\n",
       "2022-12380   65   55   50   40"
      ]
     },
     "execution_count": 208,
     "metadata": {},
     "output_type": "execute_result"
    }
   ],
   "source": [
    "df.loc[_lst,:] "
   ]
  },
  {
   "cell_type": "markdown",
   "id": "ee175526-d515-49d8-a1e2-3b3f49c9a452",
   "metadata": {},
   "source": [
    "## 여러개의 행을 선택 "
   ]
  },
  {
   "cell_type": "markdown",
   "id": "abce390b-bb43-457a-87db-ef7dacd9ae08",
   "metadata": {},
   "source": [
    "`-` 방법1"
   ]
  },
  {
   "cell_type": "code",
   "execution_count": 209,
   "id": "6e4e2701-f032-49f3-a812-c631e9c65337",
   "metadata": {},
   "outputs": [
    {
     "data": {
      "text/html": [
       "<div>\n",
       "<style scoped>\n",
       "    .dataframe tbody tr th:only-of-type {\n",
       "        vertical-align: middle;\n",
       "    }\n",
       "\n",
       "    .dataframe tbody tr th {\n",
       "        vertical-align: top;\n",
       "    }\n",
       "\n",
       "    .dataframe thead th {\n",
       "        text-align: right;\n",
       "    }\n",
       "</style>\n",
       "<table border=\"1\" class=\"dataframe\">\n",
       "  <thead>\n",
       "    <tr style=\"text-align: right;\">\n",
       "      <th></th>\n",
       "      <th>att</th>\n",
       "      <th>rep</th>\n",
       "      <th>mid</th>\n",
       "      <th>fin</th>\n",
       "    </tr>\n",
       "  </thead>\n",
       "  <tbody>\n",
       "    <tr>\n",
       "      <th>2022-12380</th>\n",
       "      <td>65</td>\n",
       "      <td>55</td>\n",
       "      <td>50</td>\n",
       "      <td>40</td>\n",
       "    </tr>\n",
       "    <tr>\n",
       "      <th>2022-12363</th>\n",
       "      <td>65</td>\n",
       "      <td>90</td>\n",
       "      <td>60</td>\n",
       "      <td>30</td>\n",
       "    </tr>\n",
       "  </tbody>\n",
       "</table>\n",
       "</div>"
      ],
      "text/plain": [
       "            att  rep  mid  fin\n",
       "2022-12380   65   55   50   40\n",
       "2022-12363   65   90   60   30"
      ]
     },
     "execution_count": 209,
     "metadata": {},
     "output_type": "execute_result"
    }
   ],
   "source": [
    "df.iloc[[0,2]] "
   ]
  },
  {
   "cell_type": "code",
   "execution_count": 210,
   "id": "472253ce-ef76-4c70-85e3-329924afcd7a",
   "metadata": {},
   "outputs": [
    {
     "data": {
      "text/html": [
       "<div>\n",
       "<style scoped>\n",
       "    .dataframe tbody tr th:only-of-type {\n",
       "        vertical-align: middle;\n",
       "    }\n",
       "\n",
       "    .dataframe tbody tr th {\n",
       "        vertical-align: top;\n",
       "    }\n",
       "\n",
       "    .dataframe thead th {\n",
       "        text-align: right;\n",
       "    }\n",
       "</style>\n",
       "<table border=\"1\" class=\"dataframe\">\n",
       "  <thead>\n",
       "    <tr style=\"text-align: right;\">\n",
       "      <th></th>\n",
       "      <th>att</th>\n",
       "      <th>rep</th>\n",
       "      <th>mid</th>\n",
       "      <th>fin</th>\n",
       "    </tr>\n",
       "  </thead>\n",
       "  <tbody>\n",
       "    <tr>\n",
       "      <th>2022-12380</th>\n",
       "      <td>65</td>\n",
       "      <td>55</td>\n",
       "      <td>50</td>\n",
       "      <td>40</td>\n",
       "    </tr>\n",
       "    <tr>\n",
       "      <th>2022-12363</th>\n",
       "      <td>65</td>\n",
       "      <td>90</td>\n",
       "      <td>60</td>\n",
       "      <td>30</td>\n",
       "    </tr>\n",
       "  </tbody>\n",
       "</table>\n",
       "</div>"
      ],
      "text/plain": [
       "            att  rep  mid  fin\n",
       "2022-12380   65   55   50   40\n",
       "2022-12363   65   90   60   30"
      ]
     },
     "execution_count": 210,
     "metadata": {},
     "output_type": "execute_result"
    }
   ],
   "source": [
    "df.iloc[[0,2],:] "
   ]
  },
  {
   "cell_type": "markdown",
   "id": "7c783afc-da85-4dc7-bb42-349e448906c8",
   "metadata": {},
   "source": [
    "`-` 방법2"
   ]
  },
  {
   "cell_type": "code",
   "execution_count": 213,
   "id": "e59c3e6a-46f4-4ee4-a691-f4b05f160fe6",
   "metadata": {},
   "outputs": [
    {
     "data": {
      "text/html": [
       "<div>\n",
       "<style scoped>\n",
       "    .dataframe tbody tr th:only-of-type {\n",
       "        vertical-align: middle;\n",
       "    }\n",
       "\n",
       "    .dataframe tbody tr th {\n",
       "        vertical-align: top;\n",
       "    }\n",
       "\n",
       "    .dataframe thead th {\n",
       "        text-align: right;\n",
       "    }\n",
       "</style>\n",
       "<table border=\"1\" class=\"dataframe\">\n",
       "  <thead>\n",
       "    <tr style=\"text-align: right;\">\n",
       "      <th></th>\n",
       "      <th>att</th>\n",
       "      <th>rep</th>\n",
       "      <th>mid</th>\n",
       "      <th>fin</th>\n",
       "    </tr>\n",
       "  </thead>\n",
       "  <tbody>\n",
       "    <tr>\n",
       "      <th>2022-12380</th>\n",
       "      <td>65</td>\n",
       "      <td>55</td>\n",
       "      <td>50</td>\n",
       "      <td>40</td>\n",
       "    </tr>\n",
       "    <tr>\n",
       "      <th>2022-12363</th>\n",
       "      <td>65</td>\n",
       "      <td>90</td>\n",
       "      <td>60</td>\n",
       "      <td>30</td>\n",
       "    </tr>\n",
       "  </tbody>\n",
       "</table>\n",
       "</div>"
      ],
      "text/plain": [
       "            att  rep  mid  fin\n",
       "2022-12380   65   55   50   40\n",
       "2022-12363   65   90   60   30"
      ]
     },
     "execution_count": 213,
     "metadata": {},
     "output_type": "execute_result"
    }
   ],
   "source": [
    "df.loc[['2022-12380','2022-12363']] "
   ]
  },
  {
   "cell_type": "code",
   "execution_count": 214,
   "id": "1d022722-6938-4984-8f3b-9638acaa3339",
   "metadata": {},
   "outputs": [
    {
     "data": {
      "text/html": [
       "<div>\n",
       "<style scoped>\n",
       "    .dataframe tbody tr th:only-of-type {\n",
       "        vertical-align: middle;\n",
       "    }\n",
       "\n",
       "    .dataframe tbody tr th {\n",
       "        vertical-align: top;\n",
       "    }\n",
       "\n",
       "    .dataframe thead th {\n",
       "        text-align: right;\n",
       "    }\n",
       "</style>\n",
       "<table border=\"1\" class=\"dataframe\">\n",
       "  <thead>\n",
       "    <tr style=\"text-align: right;\">\n",
       "      <th></th>\n",
       "      <th>att</th>\n",
       "      <th>rep</th>\n",
       "      <th>mid</th>\n",
       "      <th>fin</th>\n",
       "    </tr>\n",
       "  </thead>\n",
       "  <tbody>\n",
       "    <tr>\n",
       "      <th>2022-12380</th>\n",
       "      <td>65</td>\n",
       "      <td>55</td>\n",
       "      <td>50</td>\n",
       "      <td>40</td>\n",
       "    </tr>\n",
       "    <tr>\n",
       "      <th>2022-12363</th>\n",
       "      <td>65</td>\n",
       "      <td>90</td>\n",
       "      <td>60</td>\n",
       "      <td>30</td>\n",
       "    </tr>\n",
       "  </tbody>\n",
       "</table>\n",
       "</div>"
      ],
      "text/plain": [
       "            att  rep  mid  fin\n",
       "2022-12380   65   55   50   40\n",
       "2022-12363   65   90   60   30"
      ]
     },
     "execution_count": 214,
     "metadata": {},
     "output_type": "execute_result"
    }
   ],
   "source": [
    "df.loc[['2022-12380','2022-12363'],:] "
   ]
  },
  {
   "cell_type": "markdown",
   "id": "2d715d8d-fd7d-4753-a0b4-b20f2886fed9",
   "metadata": {},
   "source": [
    "`-` 그 밖의 방법들 "
   ]
  },
  {
   "cell_type": "code",
   "execution_count": 215,
   "id": "9e917e59-4547-44ee-a052-ddf299e2e81a",
   "metadata": {},
   "outputs": [
    {
     "data": {
      "text/html": [
       "<div>\n",
       "<style scoped>\n",
       "    .dataframe tbody tr th:only-of-type {\n",
       "        vertical-align: middle;\n",
       "    }\n",
       "\n",
       "    .dataframe tbody tr th {\n",
       "        vertical-align: top;\n",
       "    }\n",
       "\n",
       "    .dataframe thead th {\n",
       "        text-align: right;\n",
       "    }\n",
       "</style>\n",
       "<table border=\"1\" class=\"dataframe\">\n",
       "  <thead>\n",
       "    <tr style=\"text-align: right;\">\n",
       "      <th></th>\n",
       "      <th>att</th>\n",
       "      <th>rep</th>\n",
       "      <th>mid</th>\n",
       "      <th>fin</th>\n",
       "    </tr>\n",
       "  </thead>\n",
       "  <tbody>\n",
       "    <tr>\n",
       "      <th>2022-12380</th>\n",
       "      <td>65</td>\n",
       "      <td>55</td>\n",
       "      <td>50</td>\n",
       "      <td>40</td>\n",
       "    </tr>\n",
       "    <tr>\n",
       "      <th>2022-12488</th>\n",
       "      <td>55</td>\n",
       "      <td>80</td>\n",
       "      <td>75</td>\n",
       "      <td>80</td>\n",
       "    </tr>\n",
       "    <tr>\n",
       "      <th>2022-12463</th>\n",
       "      <td>65</td>\n",
       "      <td>45</td>\n",
       "      <td>45</td>\n",
       "      <td>90</td>\n",
       "    </tr>\n",
       "    <tr>\n",
       "      <th>2022-12469</th>\n",
       "      <td>90</td>\n",
       "      <td>80</td>\n",
       "      <td>80</td>\n",
       "      <td>20</td>\n",
       "    </tr>\n",
       "    <tr>\n",
       "      <th>2022-12443</th>\n",
       "      <td>95</td>\n",
       "      <td>55</td>\n",
       "      <td>15</td>\n",
       "      <td>35</td>\n",
       "    </tr>\n",
       "    <tr>\n",
       "      <th>2022-12396</th>\n",
       "      <td>95</td>\n",
       "      <td>30</td>\n",
       "      <td>30</td>\n",
       "      <td>95</td>\n",
       "    </tr>\n",
       "    <tr>\n",
       "      <th>2022-12387</th>\n",
       "      <td>70</td>\n",
       "      <td>70</td>\n",
       "      <td>40</td>\n",
       "      <td>35</td>\n",
       "    </tr>\n",
       "  </tbody>\n",
       "</table>\n",
       "</div>"
      ],
      "text/plain": [
       "            att  rep  mid  fin\n",
       "2022-12380   65   55   50   40\n",
       "2022-12488   55   80   75   80\n",
       "2022-12463   65   45   45   90\n",
       "2022-12469   90   80   80   20\n",
       "2022-12443   95   55   15   35\n",
       "2022-12396   95   30   30   95\n",
       "2022-12387   70   70   40   35"
      ]
     },
     "execution_count": 215,
     "metadata": {},
     "output_type": "execute_result"
    }
   ],
   "source": [
    "df.iloc[::3] # 스트라이딩"
   ]
  },
  {
   "cell_type": "code",
   "execution_count": 216,
   "id": "a8dd348f-4f4f-4206-842d-d20720b5e5ad",
   "metadata": {},
   "outputs": [
    {
     "data": {
      "text/html": [
       "<div>\n",
       "<style scoped>\n",
       "    .dataframe tbody tr th:only-of-type {\n",
       "        vertical-align: middle;\n",
       "    }\n",
       "\n",
       "    .dataframe tbody tr th {\n",
       "        vertical-align: top;\n",
       "    }\n",
       "\n",
       "    .dataframe thead th {\n",
       "        text-align: right;\n",
       "    }\n",
       "</style>\n",
       "<table border=\"1\" class=\"dataframe\">\n",
       "  <thead>\n",
       "    <tr style=\"text-align: right;\">\n",
       "      <th></th>\n",
       "      <th>att</th>\n",
       "      <th>rep</th>\n",
       "      <th>mid</th>\n",
       "      <th>fin</th>\n",
       "    </tr>\n",
       "  </thead>\n",
       "  <tbody>\n",
       "    <tr>\n",
       "      <th>2022-12380</th>\n",
       "      <td>65</td>\n",
       "      <td>55</td>\n",
       "      <td>50</td>\n",
       "      <td>40</td>\n",
       "    </tr>\n",
       "    <tr>\n",
       "      <th>2022-12370</th>\n",
       "      <td>95</td>\n",
       "      <td>100</td>\n",
       "      <td>50</td>\n",
       "      <td>80</td>\n",
       "    </tr>\n",
       "    <tr>\n",
       "      <th>2022-12363</th>\n",
       "      <td>65</td>\n",
       "      <td>90</td>\n",
       "      <td>60</td>\n",
       "      <td>30</td>\n",
       "    </tr>\n",
       "    <tr>\n",
       "      <th>2022-12488</th>\n",
       "      <td>55</td>\n",
       "      <td>80</td>\n",
       "      <td>75</td>\n",
       "      <td>80</td>\n",
       "    </tr>\n",
       "    <tr>\n",
       "      <th>2022-12312</th>\n",
       "      <td>80</td>\n",
       "      <td>30</td>\n",
       "      <td>30</td>\n",
       "      <td>100</td>\n",
       "    </tr>\n",
       "  </tbody>\n",
       "</table>\n",
       "</div>"
      ],
      "text/plain": [
       "            att  rep  mid  fin\n",
       "2022-12380   65   55   50   40\n",
       "2022-12370   95  100   50   80\n",
       "2022-12363   65   90   60   30\n",
       "2022-12488   55   80   75   80\n",
       "2022-12312   80   30   30  100"
      ]
     },
     "execution_count": 216,
     "metadata": {},
     "output_type": "execute_result"
    }
   ],
   "source": [
    "df.iloc[:5]"
   ]
  },
  {
   "cell_type": "code",
   "execution_count": 218,
   "id": "ce2a1bdc-55c4-44fb-8f61-4d93b5f5c853",
   "metadata": {},
   "outputs": [
    {
     "data": {
      "text/html": [
       "<div>\n",
       "<style scoped>\n",
       "    .dataframe tbody tr th:only-of-type {\n",
       "        vertical-align: middle;\n",
       "    }\n",
       "\n",
       "    .dataframe tbody tr th {\n",
       "        vertical-align: top;\n",
       "    }\n",
       "\n",
       "    .dataframe thead th {\n",
       "        text-align: right;\n",
       "    }\n",
       "</style>\n",
       "<table border=\"1\" class=\"dataframe\">\n",
       "  <thead>\n",
       "    <tr style=\"text-align: right;\">\n",
       "      <th></th>\n",
       "      <th>att</th>\n",
       "      <th>rep</th>\n",
       "      <th>mid</th>\n",
       "      <th>fin</th>\n",
       "    </tr>\n",
       "  </thead>\n",
       "  <tbody>\n",
       "    <tr>\n",
       "      <th>2022-12380</th>\n",
       "      <td>65</td>\n",
       "      <td>55</td>\n",
       "      <td>50</td>\n",
       "      <td>40</td>\n",
       "    </tr>\n",
       "    <tr>\n",
       "      <th>2022-12370</th>\n",
       "      <td>95</td>\n",
       "      <td>100</td>\n",
       "      <td>50</td>\n",
       "      <td>80</td>\n",
       "    </tr>\n",
       "    <tr>\n",
       "      <th>2022-12363</th>\n",
       "      <td>65</td>\n",
       "      <td>90</td>\n",
       "      <td>60</td>\n",
       "      <td>30</td>\n",
       "    </tr>\n",
       "    <tr>\n",
       "      <th>2022-12488</th>\n",
       "      <td>55</td>\n",
       "      <td>80</td>\n",
       "      <td>75</td>\n",
       "      <td>80</td>\n",
       "    </tr>\n",
       "    <tr>\n",
       "      <th>2022-12312</th>\n",
       "      <td>80</td>\n",
       "      <td>30</td>\n",
       "      <td>30</td>\n",
       "      <td>100</td>\n",
       "    </tr>\n",
       "  </tbody>\n",
       "</table>\n",
       "</div>"
      ],
      "text/plain": [
       "            att  rep  mid  fin\n",
       "2022-12380   65   55   50   40\n",
       "2022-12370   95  100   50   80\n",
       "2022-12363   65   90   60   30\n",
       "2022-12488   55   80   75   80\n",
       "2022-12312   80   30   30  100"
      ]
     },
     "execution_count": 218,
     "metadata": {},
     "output_type": "execute_result"
    }
   ],
   "source": [
    "df.loc[:'2022-12312']"
   ]
  },
  {
   "cell_type": "code",
   "execution_count": 219,
   "id": "c88d2ead-6a76-41aa-a751-b0c09582301a",
   "metadata": {},
   "outputs": [
    {
     "data": {
      "text/html": [
       "<div>\n",
       "<style scoped>\n",
       "    .dataframe tbody tr th:only-of-type {\n",
       "        vertical-align: middle;\n",
       "    }\n",
       "\n",
       "    .dataframe tbody tr th {\n",
       "        vertical-align: top;\n",
       "    }\n",
       "\n",
       "    .dataframe thead th {\n",
       "        text-align: right;\n",
       "    }\n",
       "</style>\n",
       "<table border=\"1\" class=\"dataframe\">\n",
       "  <thead>\n",
       "    <tr style=\"text-align: right;\">\n",
       "      <th></th>\n",
       "      <th>rep</th>\n",
       "      <th>mid</th>\n",
       "      <th>fin</th>\n",
       "    </tr>\n",
       "  </thead>\n",
       "  <tbody>\n",
       "    <tr>\n",
       "      <th>2022-12380</th>\n",
       "      <td>55</td>\n",
       "      <td>50</td>\n",
       "      <td>40</td>\n",
       "    </tr>\n",
       "    <tr>\n",
       "      <th>2022-12363</th>\n",
       "      <td>90</td>\n",
       "      <td>60</td>\n",
       "      <td>30</td>\n",
       "    </tr>\n",
       "    <tr>\n",
       "      <th>2022-12488</th>\n",
       "      <td>80</td>\n",
       "      <td>75</td>\n",
       "      <td>80</td>\n",
       "    </tr>\n",
       "    <tr>\n",
       "      <th>2022-12377</th>\n",
       "      <td>40</td>\n",
       "      <td>100</td>\n",
       "      <td>15</td>\n",
       "    </tr>\n",
       "    <tr>\n",
       "      <th>2022-12463</th>\n",
       "      <td>45</td>\n",
       "      <td>45</td>\n",
       "      <td>90</td>\n",
       "    </tr>\n",
       "    <tr>\n",
       "      <th>2022-12471</th>\n",
       "      <td>60</td>\n",
       "      <td>25</td>\n",
       "      <td>0</td>\n",
       "    </tr>\n",
       "    <tr>\n",
       "      <th>2022-12318</th>\n",
       "      <td>75</td>\n",
       "      <td>35</td>\n",
       "      <td>25</td>\n",
       "    </tr>\n",
       "    <tr>\n",
       "      <th>2022-12367</th>\n",
       "      <td>80</td>\n",
       "      <td>40</td>\n",
       "      <td>30</td>\n",
       "    </tr>\n",
       "    <tr>\n",
       "      <th>2022-12458</th>\n",
       "      <td>55</td>\n",
       "      <td>15</td>\n",
       "      <td>85</td>\n",
       "    </tr>\n",
       "    <tr>\n",
       "      <th>2022-12482</th>\n",
       "      <td>50</td>\n",
       "      <td>45</td>\n",
       "      <td>10</td>\n",
       "    </tr>\n",
       "    <tr>\n",
       "      <th>2022-12452</th>\n",
       "      <td>55</td>\n",
       "      <td>15</td>\n",
       "      <td>45</td>\n",
       "    </tr>\n",
       "    <tr>\n",
       "      <th>2022-12387</th>\n",
       "      <td>70</td>\n",
       "      <td>40</td>\n",
       "      <td>35</td>\n",
       "    </tr>\n",
       "  </tbody>\n",
       "</table>\n",
       "</div>"
      ],
      "text/plain": [
       "            rep  mid  fin\n",
       "2022-12380   55   50   40\n",
       "2022-12363   90   60   30\n",
       "2022-12488   80   75   80\n",
       "2022-12377   40  100   15\n",
       "2022-12463   45   45   90\n",
       "2022-12471   60   25    0\n",
       "2022-12318   75   35   25\n",
       "2022-12367   80   40   30\n",
       "2022-12458   55   15   85\n",
       "2022-12482   50   45   10\n",
       "2022-12452   55   15   45\n",
       "2022-12387   70   40   35"
      ]
     },
     "execution_count": 219,
     "metadata": {},
     "output_type": "execute_result"
    }
   ],
   "source": [
    "df.loc[list(df.att<80),'rep':]"
   ]
  },
  {
   "cell_type": "code",
   "execution_count": 220,
   "id": "0891b92a-fb3f-4248-8362-0ce31262605d",
   "metadata": {},
   "outputs": [
    {
     "data": {
      "text/html": [
       "<div>\n",
       "<style scoped>\n",
       "    .dataframe tbody tr th:only-of-type {\n",
       "        vertical-align: middle;\n",
       "    }\n",
       "\n",
       "    .dataframe tbody tr th {\n",
       "        vertical-align: top;\n",
       "    }\n",
       "\n",
       "    .dataframe thead th {\n",
       "        text-align: right;\n",
       "    }\n",
       "</style>\n",
       "<table border=\"1\" class=\"dataframe\">\n",
       "  <thead>\n",
       "    <tr style=\"text-align: right;\">\n",
       "      <th></th>\n",
       "      <th>rep</th>\n",
       "      <th>mid</th>\n",
       "      <th>fin</th>\n",
       "    </tr>\n",
       "  </thead>\n",
       "  <tbody>\n",
       "    <tr>\n",
       "      <th>2022-12380</th>\n",
       "      <td>55</td>\n",
       "      <td>50</td>\n",
       "      <td>40</td>\n",
       "    </tr>\n",
       "    <tr>\n",
       "      <th>2022-12363</th>\n",
       "      <td>90</td>\n",
       "      <td>60</td>\n",
       "      <td>30</td>\n",
       "    </tr>\n",
       "    <tr>\n",
       "      <th>2022-12488</th>\n",
       "      <td>80</td>\n",
       "      <td>75</td>\n",
       "      <td>80</td>\n",
       "    </tr>\n",
       "    <tr>\n",
       "      <th>2022-12377</th>\n",
       "      <td>40</td>\n",
       "      <td>100</td>\n",
       "      <td>15</td>\n",
       "    </tr>\n",
       "    <tr>\n",
       "      <th>2022-12463</th>\n",
       "      <td>45</td>\n",
       "      <td>45</td>\n",
       "      <td>90</td>\n",
       "    </tr>\n",
       "    <tr>\n",
       "      <th>2022-12471</th>\n",
       "      <td>60</td>\n",
       "      <td>25</td>\n",
       "      <td>0</td>\n",
       "    </tr>\n",
       "    <tr>\n",
       "      <th>2022-12318</th>\n",
       "      <td>75</td>\n",
       "      <td>35</td>\n",
       "      <td>25</td>\n",
       "    </tr>\n",
       "    <tr>\n",
       "      <th>2022-12367</th>\n",
       "      <td>80</td>\n",
       "      <td>40</td>\n",
       "      <td>30</td>\n",
       "    </tr>\n",
       "    <tr>\n",
       "      <th>2022-12458</th>\n",
       "      <td>55</td>\n",
       "      <td>15</td>\n",
       "      <td>85</td>\n",
       "    </tr>\n",
       "    <tr>\n",
       "      <th>2022-12482</th>\n",
       "      <td>50</td>\n",
       "      <td>45</td>\n",
       "      <td>10</td>\n",
       "    </tr>\n",
       "    <tr>\n",
       "      <th>2022-12452</th>\n",
       "      <td>55</td>\n",
       "      <td>15</td>\n",
       "      <td>45</td>\n",
       "    </tr>\n",
       "    <tr>\n",
       "      <th>2022-12387</th>\n",
       "      <td>70</td>\n",
       "      <td>40</td>\n",
       "      <td>35</td>\n",
       "    </tr>\n",
       "  </tbody>\n",
       "</table>\n",
       "</div>"
      ],
      "text/plain": [
       "            rep  mid  fin\n",
       "2022-12380   55   50   40\n",
       "2022-12363   90   60   30\n",
       "2022-12488   80   75   80\n",
       "2022-12377   40  100   15\n",
       "2022-12463   45   45   90\n",
       "2022-12471   60   25    0\n",
       "2022-12318   75   35   25\n",
       "2022-12367   80   40   30\n",
       "2022-12458   55   15   85\n",
       "2022-12482   50   45   10\n",
       "2022-12452   55   15   45\n",
       "2022-12387   70   40   35"
      ]
     },
     "execution_count": 220,
     "metadata": {},
     "output_type": "execute_result"
    }
   ],
   "source": [
    "df.loc[df.att<80,'rep':]"
   ]
  },
  {
   "cell_type": "code",
   "execution_count": 221,
   "id": "8ff5b1ac-b6ad-4b2e-979a-3b9f9397319a",
   "metadata": {},
   "outputs": [
    {
     "data": {
      "text/html": [
       "<div>\n",
       "<style scoped>\n",
       "    .dataframe tbody tr th:only-of-type {\n",
       "        vertical-align: middle;\n",
       "    }\n",
       "\n",
       "    .dataframe tbody tr th {\n",
       "        vertical-align: top;\n",
       "    }\n",
       "\n",
       "    .dataframe thead th {\n",
       "        text-align: right;\n",
       "    }\n",
       "</style>\n",
       "<table border=\"1\" class=\"dataframe\">\n",
       "  <thead>\n",
       "    <tr style=\"text-align: right;\">\n",
       "      <th></th>\n",
       "      <th>rep</th>\n",
       "      <th>mid</th>\n",
       "      <th>fin</th>\n",
       "    </tr>\n",
       "  </thead>\n",
       "  <tbody>\n",
       "    <tr>\n",
       "      <th>2022-12380</th>\n",
       "      <td>55</td>\n",
       "      <td>50</td>\n",
       "      <td>40</td>\n",
       "    </tr>\n",
       "    <tr>\n",
       "      <th>2022-12363</th>\n",
       "      <td>90</td>\n",
       "      <td>60</td>\n",
       "      <td>30</td>\n",
       "    </tr>\n",
       "    <tr>\n",
       "      <th>2022-12488</th>\n",
       "      <td>80</td>\n",
       "      <td>75</td>\n",
       "      <td>80</td>\n",
       "    </tr>\n",
       "    <tr>\n",
       "      <th>2022-12377</th>\n",
       "      <td>40</td>\n",
       "      <td>100</td>\n",
       "      <td>15</td>\n",
       "    </tr>\n",
       "    <tr>\n",
       "      <th>2022-12463</th>\n",
       "      <td>45</td>\n",
       "      <td>45</td>\n",
       "      <td>90</td>\n",
       "    </tr>\n",
       "    <tr>\n",
       "      <th>2022-12471</th>\n",
       "      <td>60</td>\n",
       "      <td>25</td>\n",
       "      <td>0</td>\n",
       "    </tr>\n",
       "    <tr>\n",
       "      <th>2022-12318</th>\n",
       "      <td>75</td>\n",
       "      <td>35</td>\n",
       "      <td>25</td>\n",
       "    </tr>\n",
       "    <tr>\n",
       "      <th>2022-12367</th>\n",
       "      <td>80</td>\n",
       "      <td>40</td>\n",
       "      <td>30</td>\n",
       "    </tr>\n",
       "    <tr>\n",
       "      <th>2022-12458</th>\n",
       "      <td>55</td>\n",
       "      <td>15</td>\n",
       "      <td>85</td>\n",
       "    </tr>\n",
       "    <tr>\n",
       "      <th>2022-12482</th>\n",
       "      <td>50</td>\n",
       "      <td>45</td>\n",
       "      <td>10</td>\n",
       "    </tr>\n",
       "    <tr>\n",
       "      <th>2022-12452</th>\n",
       "      <td>55</td>\n",
       "      <td>15</td>\n",
       "      <td>45</td>\n",
       "    </tr>\n",
       "    <tr>\n",
       "      <th>2022-12387</th>\n",
       "      <td>70</td>\n",
       "      <td>40</td>\n",
       "      <td>35</td>\n",
       "    </tr>\n",
       "  </tbody>\n",
       "</table>\n",
       "</div>"
      ],
      "text/plain": [
       "            rep  mid  fin\n",
       "2022-12380   55   50   40\n",
       "2022-12363   90   60   30\n",
       "2022-12488   80   75   80\n",
       "2022-12377   40  100   15\n",
       "2022-12463   45   45   90\n",
       "2022-12471   60   25    0\n",
       "2022-12318   75   35   25\n",
       "2022-12367   80   40   30\n",
       "2022-12458   55   15   85\n",
       "2022-12482   50   45   10\n",
       "2022-12452   55   15   45\n",
       "2022-12387   70   40   35"
      ]
     },
     "execution_count": 221,
     "metadata": {},
     "output_type": "execute_result"
    }
   ],
   "source": [
    "df.iloc[list(df.att<80),1:]"
   ]
  },
  {
   "cell_type": "markdown",
   "id": "5b638878-be46-42d7-8f76-35e47d9e0b82",
   "metadata": {},
   "source": [
    "`-` 아래는 에러가 난다 주의!"
   ]
  },
  {
   "cell_type": "code",
   "execution_count": 223,
   "id": "e18ff73f-9e8f-42d7-a840-4e1d3c2ca80d",
   "metadata": {},
   "outputs": [
    {
     "ename": "ValueError",
     "evalue": "Location based indexing can only have [integer, integer slice (START point is INCLUDED, END point is EXCLUDED), listlike of integers, boolean array] types",
     "output_type": "error",
     "traceback": [
      "\u001b[0;31m---------------------------------------------------------------------------\u001b[0m",
      "\u001b[0;31mValueError\u001b[0m                                Traceback (most recent call last)",
      "File \u001b[0;32m~/anaconda3/envs/py38/lib/python3.8/site-packages/pandas/core/indexing.py:873\u001b[0m, in \u001b[0;36m_LocationIndexer._validate_tuple_indexer\u001b[0;34m(self, key)\u001b[0m\n\u001b[1;32m    872\u001b[0m \u001b[38;5;28;01mtry\u001b[39;00m:\n\u001b[0;32m--> 873\u001b[0m     \u001b[38;5;28;43mself\u001b[39;49m\u001b[38;5;241;43m.\u001b[39;49m\u001b[43m_validate_key\u001b[49m\u001b[43m(\u001b[49m\u001b[43mk\u001b[49m\u001b[43m,\u001b[49m\u001b[43m \u001b[49m\u001b[43mi\u001b[49m\u001b[43m)\u001b[49m\n\u001b[1;32m    874\u001b[0m \u001b[38;5;28;01mexcept\u001b[39;00m \u001b[38;5;167;01mValueError\u001b[39;00m \u001b[38;5;28;01mas\u001b[39;00m err:\n",
      "File \u001b[0;32m~/anaconda3/envs/py38/lib/python3.8/site-packages/pandas/core/indexing.py:1457\u001b[0m, in \u001b[0;36m_iLocIndexer._validate_key\u001b[0;34m(self, key, axis)\u001b[0m\n\u001b[1;32m   1452\u001b[0m         \u001b[38;5;28;01mraise\u001b[39;00m \u001b[38;5;167;01mNotImplementedError\u001b[39;00m(\n\u001b[1;32m   1453\u001b[0m             \u001b[38;5;124m\"\u001b[39m\u001b[38;5;124miLocation based boolean \u001b[39m\u001b[38;5;124m\"\u001b[39m\n\u001b[1;32m   1454\u001b[0m             \u001b[38;5;124m\"\u001b[39m\u001b[38;5;124mindexing on an integer type \u001b[39m\u001b[38;5;124m\"\u001b[39m\n\u001b[1;32m   1455\u001b[0m             \u001b[38;5;124m\"\u001b[39m\u001b[38;5;124mis not available\u001b[39m\u001b[38;5;124m\"\u001b[39m\n\u001b[1;32m   1456\u001b[0m         )\n\u001b[0;32m-> 1457\u001b[0m     \u001b[38;5;28;01mraise\u001b[39;00m \u001b[38;5;167;01mValueError\u001b[39;00m(\n\u001b[1;32m   1458\u001b[0m         \u001b[38;5;124m\"\u001b[39m\u001b[38;5;124miLocation based boolean indexing cannot use \u001b[39m\u001b[38;5;124m\"\u001b[39m\n\u001b[1;32m   1459\u001b[0m         \u001b[38;5;124m\"\u001b[39m\u001b[38;5;124man indexable as a mask\u001b[39m\u001b[38;5;124m\"\u001b[39m\n\u001b[1;32m   1460\u001b[0m     )\n\u001b[1;32m   1461\u001b[0m \u001b[38;5;28;01mreturn\u001b[39;00m\n",
      "\u001b[0;31mValueError\u001b[0m: iLocation based boolean indexing cannot use an indexable as a mask",
      "\nThe above exception was the direct cause of the following exception:\n",
      "\u001b[0;31mValueError\u001b[0m                                Traceback (most recent call last)",
      "Cell \u001b[0;32mIn[223], line 1\u001b[0m\n\u001b[0;32m----> 1\u001b[0m \u001b[43mdf\u001b[49m\u001b[38;5;241;43m.\u001b[39;49m\u001b[43miloc\u001b[49m\u001b[43m[\u001b[49m\u001b[43mdf\u001b[49m\u001b[38;5;241;43m.\u001b[39;49m\u001b[43matt\u001b[49m\u001b[38;5;241;43m<\u001b[39;49m\u001b[38;5;241;43m80\u001b[39;49m\u001b[43m,\u001b[49m\u001b[38;5;241;43m1\u001b[39;49m\u001b[43m:\u001b[49m\u001b[43m]\u001b[49m\n",
      "File \u001b[0;32m~/anaconda3/envs/py38/lib/python3.8/site-packages/pandas/core/indexing.py:1067\u001b[0m, in \u001b[0;36m_LocationIndexer.__getitem__\u001b[0;34m(self, key)\u001b[0m\n\u001b[1;32m   1065\u001b[0m     \u001b[38;5;28;01mif\u001b[39;00m \u001b[38;5;28mself\u001b[39m\u001b[38;5;241m.\u001b[39m_is_scalar_access(key):\n\u001b[1;32m   1066\u001b[0m         \u001b[38;5;28;01mreturn\u001b[39;00m \u001b[38;5;28mself\u001b[39m\u001b[38;5;241m.\u001b[39mobj\u001b[38;5;241m.\u001b[39m_get_value(\u001b[38;5;241m*\u001b[39mkey, takeable\u001b[38;5;241m=\u001b[39m\u001b[38;5;28mself\u001b[39m\u001b[38;5;241m.\u001b[39m_takeable)\n\u001b[0;32m-> 1067\u001b[0m     \u001b[38;5;28;01mreturn\u001b[39;00m \u001b[38;5;28;43mself\u001b[39;49m\u001b[38;5;241;43m.\u001b[39;49m\u001b[43m_getitem_tuple\u001b[49m\u001b[43m(\u001b[49m\u001b[43mkey\u001b[49m\u001b[43m)\u001b[49m\n\u001b[1;32m   1068\u001b[0m \u001b[38;5;28;01melse\u001b[39;00m:\n\u001b[1;32m   1069\u001b[0m     \u001b[38;5;66;03m# we by definition only have the 0th axis\u001b[39;00m\n\u001b[1;32m   1070\u001b[0m     axis \u001b[38;5;241m=\u001b[39m \u001b[38;5;28mself\u001b[39m\u001b[38;5;241m.\u001b[39maxis \u001b[38;5;129;01mor\u001b[39;00m \u001b[38;5;241m0\u001b[39m\n",
      "File \u001b[0;32m~/anaconda3/envs/py38/lib/python3.8/site-packages/pandas/core/indexing.py:1563\u001b[0m, in \u001b[0;36m_iLocIndexer._getitem_tuple\u001b[0;34m(self, tup)\u001b[0m\n\u001b[1;32m   1561\u001b[0m \u001b[38;5;28;01mdef\u001b[39;00m \u001b[38;5;21m_getitem_tuple\u001b[39m(\u001b[38;5;28mself\u001b[39m, tup: \u001b[38;5;28mtuple\u001b[39m):\n\u001b[0;32m-> 1563\u001b[0m     tup \u001b[38;5;241m=\u001b[39m \u001b[38;5;28;43mself\u001b[39;49m\u001b[38;5;241;43m.\u001b[39;49m\u001b[43m_validate_tuple_indexer\u001b[49m\u001b[43m(\u001b[49m\u001b[43mtup\u001b[49m\u001b[43m)\u001b[49m\n\u001b[1;32m   1564\u001b[0m     \u001b[38;5;28;01mwith\u001b[39;00m suppress(IndexingError):\n\u001b[1;32m   1565\u001b[0m         \u001b[38;5;28;01mreturn\u001b[39;00m \u001b[38;5;28mself\u001b[39m\u001b[38;5;241m.\u001b[39m_getitem_lowerdim(tup)\n",
      "File \u001b[0;32m~/anaconda3/envs/py38/lib/python3.8/site-packages/pandas/core/indexing.py:875\u001b[0m, in \u001b[0;36m_LocationIndexer._validate_tuple_indexer\u001b[0;34m(self, key)\u001b[0m\n\u001b[1;32m    873\u001b[0m         \u001b[38;5;28mself\u001b[39m\u001b[38;5;241m.\u001b[39m_validate_key(k, i)\n\u001b[1;32m    874\u001b[0m     \u001b[38;5;28;01mexcept\u001b[39;00m \u001b[38;5;167;01mValueError\u001b[39;00m \u001b[38;5;28;01mas\u001b[39;00m err:\n\u001b[0;32m--> 875\u001b[0m         \u001b[38;5;28;01mraise\u001b[39;00m \u001b[38;5;167;01mValueError\u001b[39;00m(\n\u001b[1;32m    876\u001b[0m             \u001b[38;5;124m\"\u001b[39m\u001b[38;5;124mLocation based indexing can only have \u001b[39m\u001b[38;5;124m\"\u001b[39m\n\u001b[1;32m    877\u001b[0m             \u001b[38;5;124mf\u001b[39m\u001b[38;5;124m\"\u001b[39m\u001b[38;5;124m[\u001b[39m\u001b[38;5;132;01m{\u001b[39;00m\u001b[38;5;28mself\u001b[39m\u001b[38;5;241m.\u001b[39m_valid_types\u001b[38;5;132;01m}\u001b[39;00m\u001b[38;5;124m] types\u001b[39m\u001b[38;5;124m\"\u001b[39m\n\u001b[1;32m    878\u001b[0m         ) \u001b[38;5;28;01mfrom\u001b[39;00m \u001b[38;5;21;01merr\u001b[39;00m\n\u001b[1;32m    879\u001b[0m \u001b[38;5;28;01mreturn\u001b[39;00m key\n",
      "\u001b[0;31mValueError\u001b[0m: Location based indexing can only have [integer, integer slice (START point is INCLUDED, END point is EXCLUDED), listlike of integers, boolean array] types"
     ]
    }
   ],
   "source": [
    "df.iloc[df.att<80,1:]"
   ]
  },
  {
   "cell_type": "markdown",
   "id": "4c1ccb1d-3286-4b3f-8fef-022d92f6adbd",
   "metadata": {},
   "source": [
    "## query ($\\star$)"
   ]
  },
  {
   "cell_type": "markdown",
   "id": "f6300ead-45a1-41e6-b497-d9263d320c86",
   "metadata": {},
   "source": [
    "`-` 예제1"
   ]
  },
  {
   "cell_type": "code",
   "execution_count": 224,
   "id": "90ef2a2c-8db8-4ef8-b96a-87c3a095fe33",
   "metadata": {},
   "outputs": [
    {
     "data": {
      "text/html": [
       "<div>\n",
       "<style scoped>\n",
       "    .dataframe tbody tr th:only-of-type {\n",
       "        vertical-align: middle;\n",
       "    }\n",
       "\n",
       "    .dataframe tbody tr th {\n",
       "        vertical-align: top;\n",
       "    }\n",
       "\n",
       "    .dataframe thead th {\n",
       "        text-align: right;\n",
       "    }\n",
       "</style>\n",
       "<table border=\"1\" class=\"dataframe\">\n",
       "  <thead>\n",
       "    <tr style=\"text-align: right;\">\n",
       "      <th></th>\n",
       "      <th>att</th>\n",
       "      <th>rep</th>\n",
       "      <th>mid</th>\n",
       "      <th>fin</th>\n",
       "    </tr>\n",
       "  </thead>\n",
       "  <tbody>\n",
       "    <tr>\n",
       "      <th>2022-12469</th>\n",
       "      <td>90</td>\n",
       "      <td>80</td>\n",
       "      <td>80</td>\n",
       "      <td>20</td>\n",
       "    </tr>\n",
       "    <tr>\n",
       "      <th>2022-12354</th>\n",
       "      <td>90</td>\n",
       "      <td>90</td>\n",
       "      <td>80</td>\n",
       "      <td>90</td>\n",
       "    </tr>\n",
       "  </tbody>\n",
       "</table>\n",
       "</div>"
      ],
      "text/plain": [
       "            att  rep  mid  fin\n",
       "2022-12469   90   80   80   20\n",
       "2022-12354   90   90   80   90"
      ]
     },
     "execution_count": 224,
     "metadata": {},
     "output_type": "execute_result"
    }
   ],
   "source": [
    "df.query('att==90 and mid>30')"
   ]
  },
  {
   "cell_type": "markdown",
   "id": "e877e58b-13cd-447d-b1f2-682f7dfc2fed",
   "metadata": {},
   "source": [
    "`-` 예제2"
   ]
  },
  {
   "cell_type": "code",
   "execution_count": 225,
   "id": "cfb507b0-9a65-49e7-941b-a455d8bde8d4",
   "metadata": {},
   "outputs": [
    {
     "data": {
      "text/html": [
       "<div>\n",
       "<style scoped>\n",
       "    .dataframe tbody tr th:only-of-type {\n",
       "        vertical-align: middle;\n",
       "    }\n",
       "\n",
       "    .dataframe tbody tr th {\n",
       "        vertical-align: top;\n",
       "    }\n",
       "\n",
       "    .dataframe thead th {\n",
       "        text-align: right;\n",
       "    }\n",
       "</style>\n",
       "<table border=\"1\" class=\"dataframe\">\n",
       "  <thead>\n",
       "    <tr style=\"text-align: right;\">\n",
       "      <th></th>\n",
       "      <th>att</th>\n",
       "      <th>rep</th>\n",
       "      <th>mid</th>\n",
       "      <th>fin</th>\n",
       "    </tr>\n",
       "  </thead>\n",
       "  <tbody>\n",
       "    <tr>\n",
       "      <th>2022-12370</th>\n",
       "      <td>95</td>\n",
       "      <td>100</td>\n",
       "      <td>50</td>\n",
       "      <td>80</td>\n",
       "    </tr>\n",
       "    <tr>\n",
       "      <th>2022-12488</th>\n",
       "      <td>55</td>\n",
       "      <td>80</td>\n",
       "      <td>75</td>\n",
       "      <td>80</td>\n",
       "    </tr>\n",
       "    <tr>\n",
       "      <th>2022-12458</th>\n",
       "      <td>50</td>\n",
       "      <td>55</td>\n",
       "      <td>15</td>\n",
       "      <td>85</td>\n",
       "    </tr>\n",
       "  </tbody>\n",
       "</table>\n",
       "</div>"
      ],
      "text/plain": [
       "            att  rep  mid  fin\n",
       "2022-12370   95  100   50   80\n",
       "2022-12488   55   80   75   80\n",
       "2022-12458   50   55   15   85"
      ]
     },
     "execution_count": 225,
     "metadata": {},
     "output_type": "execute_result"
    }
   ],
   "source": [
    "df.query('att<rep and mid<fin')"
   ]
  },
  {
   "cell_type": "markdown",
   "id": "1434ed94-82d3-41ca-8039-9ece656b9cb6",
   "metadata": {},
   "source": [
    "`-` 예제3"
   ]
  },
  {
   "cell_type": "code",
   "execution_count": 226,
   "id": "9677378b-45ea-44e1-999d-17a656f8d2c5",
   "metadata": {},
   "outputs": [
    {
     "data": {
      "text/html": [
       "<div>\n",
       "<style scoped>\n",
       "    .dataframe tbody tr th:only-of-type {\n",
       "        vertical-align: middle;\n",
       "    }\n",
       "\n",
       "    .dataframe tbody tr th {\n",
       "        vertical-align: top;\n",
       "    }\n",
       "\n",
       "    .dataframe thead th {\n",
       "        text-align: right;\n",
       "    }\n",
       "</style>\n",
       "<table border=\"1\" class=\"dataframe\">\n",
       "  <thead>\n",
       "    <tr style=\"text-align: right;\">\n",
       "      <th></th>\n",
       "      <th>att</th>\n",
       "      <th>rep</th>\n",
       "      <th>mid</th>\n",
       "      <th>fin</th>\n",
       "    </tr>\n",
       "  </thead>\n",
       "  <tbody>\n",
       "    <tr>\n",
       "      <th>2022-12318</th>\n",
       "      <td>55</td>\n",
       "      <td>75</td>\n",
       "      <td>35</td>\n",
       "      <td>25</td>\n",
       "    </tr>\n",
       "    <tr>\n",
       "      <th>2022-12458</th>\n",
       "      <td>50</td>\n",
       "      <td>55</td>\n",
       "      <td>15</td>\n",
       "      <td>85</td>\n",
       "    </tr>\n",
       "  </tbody>\n",
       "</table>\n",
       "</div>"
      ],
      "text/plain": [
       "            att  rep  mid  fin\n",
       "2022-12318   55   75   35   25\n",
       "2022-12458   50   55   15   85"
      ]
     },
     "execution_count": 226,
     "metadata": {},
     "output_type": "execute_result"
    }
   ],
   "source": [
    "df.query('att < rep < 80')"
   ]
  },
  {
   "cell_type": "markdown",
   "id": "c473d7a1-8ed0-4a03-850f-8e49541e3b89",
   "metadata": {},
   "source": [
    "`-` 예제4"
   ]
  },
  {
   "cell_type": "code",
   "execution_count": 227,
   "id": "b256ce41-8d81-4d13-a856-8e8c29c097f5",
   "metadata": {},
   "outputs": [
    {
     "data": {
      "text/html": [
       "<div>\n",
       "<style scoped>\n",
       "    .dataframe tbody tr th:only-of-type {\n",
       "        vertical-align: middle;\n",
       "    }\n",
       "\n",
       "    .dataframe tbody tr th {\n",
       "        vertical-align: top;\n",
       "    }\n",
       "\n",
       "    .dataframe thead th {\n",
       "        text-align: right;\n",
       "    }\n",
       "</style>\n",
       "<table border=\"1\" class=\"dataframe\">\n",
       "  <thead>\n",
       "    <tr style=\"text-align: right;\">\n",
       "      <th></th>\n",
       "      <th>att</th>\n",
       "      <th>rep</th>\n",
       "      <th>mid</th>\n",
       "      <th>fin</th>\n",
       "    </tr>\n",
       "  </thead>\n",
       "  <tbody>\n",
       "    <tr>\n",
       "      <th>2022-12488</th>\n",
       "      <td>55</td>\n",
       "      <td>80</td>\n",
       "      <td>75</td>\n",
       "      <td>80</td>\n",
       "    </tr>\n",
       "    <tr>\n",
       "      <th>2022-12312</th>\n",
       "      <td>80</td>\n",
       "      <td>30</td>\n",
       "      <td>30</td>\n",
       "      <td>100</td>\n",
       "    </tr>\n",
       "    <tr>\n",
       "      <th>2022-12463</th>\n",
       "      <td>65</td>\n",
       "      <td>45</td>\n",
       "      <td>45</td>\n",
       "      <td>90</td>\n",
       "    </tr>\n",
       "    <tr>\n",
       "      <th>2022-12452</th>\n",
       "      <td>65</td>\n",
       "      <td>55</td>\n",
       "      <td>15</td>\n",
       "      <td>45</td>\n",
       "    </tr>\n",
       "    <tr>\n",
       "      <th>2022-12354</th>\n",
       "      <td>90</td>\n",
       "      <td>90</td>\n",
       "      <td>80</td>\n",
       "      <td>90</td>\n",
       "    </tr>\n",
       "  </tbody>\n",
       "</table>\n",
       "</div>"
      ],
      "text/plain": [
       "            att  rep  mid  fin\n",
       "2022-12488   55   80   75   80\n",
       "2022-12312   80   30   30  100\n",
       "2022-12463   65   45   45   90\n",
       "2022-12452   65   55   15   45\n",
       "2022-12354   90   90   80   90"
      ]
     },
     "execution_count": 227,
     "metadata": {},
     "output_type": "execute_result"
    }
   ],
   "source": [
    "df.query('50 < att <= 90 and mid < fin')"
   ]
  },
  {
   "cell_type": "markdown",
   "id": "7f970ef9-9ec0-474e-9c57-62131e054264",
   "metadata": {},
   "source": [
    "`-` 예제5"
   ]
  },
  {
   "cell_type": "code",
   "execution_count": 228,
   "id": "8da39065-bf2f-4f92-8bd1-e9eda55a3164",
   "metadata": {},
   "outputs": [
    {
     "data": {
      "text/html": [
       "<div>\n",
       "<style scoped>\n",
       "    .dataframe tbody tr th:only-of-type {\n",
       "        vertical-align: middle;\n",
       "    }\n",
       "\n",
       "    .dataframe tbody tr th {\n",
       "        vertical-align: top;\n",
       "    }\n",
       "\n",
       "    .dataframe thead th {\n",
       "        text-align: right;\n",
       "    }\n",
       "</style>\n",
       "<table border=\"1\" class=\"dataframe\">\n",
       "  <thead>\n",
       "    <tr style=\"text-align: right;\">\n",
       "      <th></th>\n",
       "      <th>att</th>\n",
       "      <th>rep</th>\n",
       "      <th>mid</th>\n",
       "      <th>fin</th>\n",
       "    </tr>\n",
       "  </thead>\n",
       "  <tbody>\n",
       "    <tr>\n",
       "      <th>2022-12370</th>\n",
       "      <td>95</td>\n",
       "      <td>100</td>\n",
       "      <td>50</td>\n",
       "      <td>80</td>\n",
       "    </tr>\n",
       "    <tr>\n",
       "      <th>2022-12488</th>\n",
       "      <td>55</td>\n",
       "      <td>80</td>\n",
       "      <td>75</td>\n",
       "      <td>80</td>\n",
       "    </tr>\n",
       "    <tr>\n",
       "      <th>2022-12312</th>\n",
       "      <td>80</td>\n",
       "      <td>30</td>\n",
       "      <td>30</td>\n",
       "      <td>100</td>\n",
       "    </tr>\n",
       "    <tr>\n",
       "      <th>2022-12463</th>\n",
       "      <td>65</td>\n",
       "      <td>45</td>\n",
       "      <td>45</td>\n",
       "      <td>90</td>\n",
       "    </tr>\n",
       "    <tr>\n",
       "      <th>2022-12396</th>\n",
       "      <td>95</td>\n",
       "      <td>30</td>\n",
       "      <td>30</td>\n",
       "      <td>95</td>\n",
       "    </tr>\n",
       "    <tr>\n",
       "      <th>2022-12354</th>\n",
       "      <td>90</td>\n",
       "      <td>90</td>\n",
       "      <td>80</td>\n",
       "      <td>90</td>\n",
       "    </tr>\n",
       "  </tbody>\n",
       "</table>\n",
       "</div>"
      ],
      "text/plain": [
       "            att  rep  mid  fin\n",
       "2022-12370   95  100   50   80\n",
       "2022-12488   55   80   75   80\n",
       "2022-12312   80   30   30  100\n",
       "2022-12463   65   45   45   90\n",
       "2022-12396   95   30   30   95\n",
       "2022-12354   90   90   80   90"
      ]
     },
     "execution_count": 228,
     "metadata": {},
     "output_type": "execute_result"
    }
   ],
   "source": [
    "df.query(' (mid+fin)/2 >=60')"
   ]
  },
  {
   "cell_type": "markdown",
   "id": "448f39d2-480c-4462-8821-e5e4ad73c528",
   "metadata": {},
   "source": [
    "`-` 예제6"
   ]
  },
  {
   "cell_type": "code",
   "execution_count": 229,
   "id": "86e04729-4c5e-47f6-b43a-f04993c96759",
   "metadata": {},
   "outputs": [
    {
     "data": {
      "text/plain": [
       "73.0"
      ]
     },
     "execution_count": 229,
     "metadata": {},
     "output_type": "execute_result"
    }
   ],
   "source": [
    "_mean  = df.att.mean()\n",
    "_mean "
   ]
  },
  {
   "cell_type": "code",
   "execution_count": 230,
   "id": "fad81aed-37ff-4974-bce6-c12f5d957cf9",
   "metadata": {},
   "outputs": [
    {
     "data": {
      "text/html": [
       "<div>\n",
       "<style scoped>\n",
       "    .dataframe tbody tr th:only-of-type {\n",
       "        vertical-align: middle;\n",
       "    }\n",
       "\n",
       "    .dataframe tbody tr th {\n",
       "        vertical-align: top;\n",
       "    }\n",
       "\n",
       "    .dataframe thead th {\n",
       "        text-align: right;\n",
       "    }\n",
       "</style>\n",
       "<table border=\"1\" class=\"dataframe\">\n",
       "  <thead>\n",
       "    <tr style=\"text-align: right;\">\n",
       "      <th></th>\n",
       "      <th>att</th>\n",
       "      <th>rep</th>\n",
       "      <th>mid</th>\n",
       "      <th>fin</th>\n",
       "    </tr>\n",
       "  </thead>\n",
       "  <tbody>\n",
       "    <tr>\n",
       "      <th>2022-12370</th>\n",
       "      <td>95</td>\n",
       "      <td>100</td>\n",
       "      <td>50</td>\n",
       "      <td>80</td>\n",
       "    </tr>\n",
       "    <tr>\n",
       "      <th>2022-12312</th>\n",
       "      <td>80</td>\n",
       "      <td>30</td>\n",
       "      <td>30</td>\n",
       "      <td>100</td>\n",
       "    </tr>\n",
       "    <tr>\n",
       "      <th>2022-12377</th>\n",
       "      <td>75</td>\n",
       "      <td>40</td>\n",
       "      <td>100</td>\n",
       "      <td>15</td>\n",
       "    </tr>\n",
       "    <tr>\n",
       "      <th>2022-12400</th>\n",
       "      <td>95</td>\n",
       "      <td>65</td>\n",
       "      <td>20</td>\n",
       "      <td>10</td>\n",
       "    </tr>\n",
       "    <tr>\n",
       "      <th>2022-12469</th>\n",
       "      <td>90</td>\n",
       "      <td>80</td>\n",
       "      <td>80</td>\n",
       "      <td>20</td>\n",
       "    </tr>\n",
       "    <tr>\n",
       "      <th>2022-12432</th>\n",
       "      <td>95</td>\n",
       "      <td>95</td>\n",
       "      <td>45</td>\n",
       "      <td>0</td>\n",
       "    </tr>\n",
       "    <tr>\n",
       "      <th>2022-12443</th>\n",
       "      <td>95</td>\n",
       "      <td>55</td>\n",
       "      <td>15</td>\n",
       "      <td>35</td>\n",
       "    </tr>\n",
       "    <tr>\n",
       "      <th>2022-12396</th>\n",
       "      <td>95</td>\n",
       "      <td>30</td>\n",
       "      <td>30</td>\n",
       "      <td>95</td>\n",
       "    </tr>\n",
       "    <tr>\n",
       "      <th>2022-12354</th>\n",
       "      <td>90</td>\n",
       "      <td>90</td>\n",
       "      <td>80</td>\n",
       "      <td>90</td>\n",
       "    </tr>\n",
       "  </tbody>\n",
       "</table>\n",
       "</div>"
      ],
      "text/plain": [
       "            att  rep  mid  fin\n",
       "2022-12370   95  100   50   80\n",
       "2022-12312   80   30   30  100\n",
       "2022-12377   75   40  100   15\n",
       "2022-12400   95   65   20   10\n",
       "2022-12469   90   80   80   20\n",
       "2022-12432   95   95   45    0\n",
       "2022-12443   95   55   15   35\n",
       "2022-12396   95   30   30   95\n",
       "2022-12354   90   90   80   90"
      ]
     },
     "execution_count": 230,
     "metadata": {},
     "output_type": "execute_result"
    }
   ],
   "source": [
    "df.query('att >= 73')"
   ]
  },
  {
   "cell_type": "code",
   "execution_count": 231,
   "id": "4e137d1a-f0cd-4574-ba91-12924a9a77e2",
   "metadata": {},
   "outputs": [
    {
     "data": {
      "text/html": [
       "<div>\n",
       "<style scoped>\n",
       "    .dataframe tbody tr th:only-of-type {\n",
       "        vertical-align: middle;\n",
       "    }\n",
       "\n",
       "    .dataframe tbody tr th {\n",
       "        vertical-align: top;\n",
       "    }\n",
       "\n",
       "    .dataframe thead th {\n",
       "        text-align: right;\n",
       "    }\n",
       "</style>\n",
       "<table border=\"1\" class=\"dataframe\">\n",
       "  <thead>\n",
       "    <tr style=\"text-align: right;\">\n",
       "      <th></th>\n",
       "      <th>att</th>\n",
       "      <th>rep</th>\n",
       "      <th>mid</th>\n",
       "      <th>fin</th>\n",
       "    </tr>\n",
       "  </thead>\n",
       "  <tbody>\n",
       "    <tr>\n",
       "      <th>2022-12370</th>\n",
       "      <td>95</td>\n",
       "      <td>100</td>\n",
       "      <td>50</td>\n",
       "      <td>80</td>\n",
       "    </tr>\n",
       "    <tr>\n",
       "      <th>2022-12312</th>\n",
       "      <td>80</td>\n",
       "      <td>30</td>\n",
       "      <td>30</td>\n",
       "      <td>100</td>\n",
       "    </tr>\n",
       "    <tr>\n",
       "      <th>2022-12377</th>\n",
       "      <td>75</td>\n",
       "      <td>40</td>\n",
       "      <td>100</td>\n",
       "      <td>15</td>\n",
       "    </tr>\n",
       "    <tr>\n",
       "      <th>2022-12400</th>\n",
       "      <td>95</td>\n",
       "      <td>65</td>\n",
       "      <td>20</td>\n",
       "      <td>10</td>\n",
       "    </tr>\n",
       "    <tr>\n",
       "      <th>2022-12469</th>\n",
       "      <td>90</td>\n",
       "      <td>80</td>\n",
       "      <td>80</td>\n",
       "      <td>20</td>\n",
       "    </tr>\n",
       "    <tr>\n",
       "      <th>2022-12432</th>\n",
       "      <td>95</td>\n",
       "      <td>95</td>\n",
       "      <td>45</td>\n",
       "      <td>0</td>\n",
       "    </tr>\n",
       "    <tr>\n",
       "      <th>2022-12443</th>\n",
       "      <td>95</td>\n",
       "      <td>55</td>\n",
       "      <td>15</td>\n",
       "      <td>35</td>\n",
       "    </tr>\n",
       "    <tr>\n",
       "      <th>2022-12396</th>\n",
       "      <td>95</td>\n",
       "      <td>30</td>\n",
       "      <td>30</td>\n",
       "      <td>95</td>\n",
       "    </tr>\n",
       "    <tr>\n",
       "      <th>2022-12354</th>\n",
       "      <td>90</td>\n",
       "      <td>90</td>\n",
       "      <td>80</td>\n",
       "      <td>90</td>\n",
       "    </tr>\n",
       "  </tbody>\n",
       "</table>\n",
       "</div>"
      ],
      "text/plain": [
       "            att  rep  mid  fin\n",
       "2022-12370   95  100   50   80\n",
       "2022-12312   80   30   30  100\n",
       "2022-12377   75   40  100   15\n",
       "2022-12400   95   65   20   10\n",
       "2022-12469   90   80   80   20\n",
       "2022-12432   95   95   45    0\n",
       "2022-12443   95   55   15   35\n",
       "2022-12396   95   30   30   95\n",
       "2022-12354   90   90   80   90"
      ]
     },
     "execution_count": 231,
     "metadata": {},
     "output_type": "execute_result"
    }
   ],
   "source": [
    "df.query('att >= @_mean')\n",
    "# df.query('att>= _mean')은 실행 안된다."
   ]
  },
  {
   "cell_type": "markdown",
   "id": "3f0923f6-1d4c-422b-a8a2-f6da0ebb034b",
   "metadata": {},
   "source": [
    "`-` 예제7"
   ]
  },
  {
   "cell_type": "code",
   "execution_count": 232,
   "id": "855b8e35-1a00-4cfb-a208-ab7869f45760",
   "metadata": {},
   "outputs": [
    {
     "data": {
      "text/html": [
       "<div>\n",
       "<style scoped>\n",
       "    .dataframe tbody tr th:only-of-type {\n",
       "        vertical-align: middle;\n",
       "    }\n",
       "\n",
       "    .dataframe tbody tr th {\n",
       "        vertical-align: top;\n",
       "    }\n",
       "\n",
       "    .dataframe thead th {\n",
       "        text-align: right;\n",
       "    }\n",
       "</style>\n",
       "<table border=\"1\" class=\"dataframe\">\n",
       "  <thead>\n",
       "    <tr style=\"text-align: right;\">\n",
       "      <th></th>\n",
       "      <th>att</th>\n",
       "      <th>rep</th>\n",
       "      <th>mid</th>\n",
       "      <th>fin</th>\n",
       "    </tr>\n",
       "  </thead>\n",
       "  <tbody>\n",
       "    <tr>\n",
       "      <th>2022-12380</th>\n",
       "      <td>65</td>\n",
       "      <td>55</td>\n",
       "      <td>50</td>\n",
       "      <td>40</td>\n",
       "    </tr>\n",
       "    <tr>\n",
       "      <th>2022-12370</th>\n",
       "      <td>95</td>\n",
       "      <td>100</td>\n",
       "      <td>50</td>\n",
       "      <td>80</td>\n",
       "    </tr>\n",
       "    <tr>\n",
       "      <th>2022-12363</th>\n",
       "      <td>65</td>\n",
       "      <td>90</td>\n",
       "      <td>60</td>\n",
       "      <td>30</td>\n",
       "    </tr>\n",
       "    <tr>\n",
       "      <th>2022-12488</th>\n",
       "      <td>55</td>\n",
       "      <td>80</td>\n",
       "      <td>75</td>\n",
       "      <td>80</td>\n",
       "    </tr>\n",
       "    <tr>\n",
       "      <th>2022-12312</th>\n",
       "      <td>80</td>\n",
       "      <td>30</td>\n",
       "      <td>30</td>\n",
       "      <td>100</td>\n",
       "    </tr>\n",
       "    <tr>\n",
       "      <th>2022-12377</th>\n",
       "      <td>75</td>\n",
       "      <td>40</td>\n",
       "      <td>100</td>\n",
       "      <td>15</td>\n",
       "    </tr>\n",
       "    <tr>\n",
       "      <th>2022-12463</th>\n",
       "      <td>65</td>\n",
       "      <td>45</td>\n",
       "      <td>45</td>\n",
       "      <td>90</td>\n",
       "    </tr>\n",
       "    <tr>\n",
       "      <th>2022-12471</th>\n",
       "      <td>60</td>\n",
       "      <td>60</td>\n",
       "      <td>25</td>\n",
       "      <td>0</td>\n",
       "    </tr>\n",
       "    <tr>\n",
       "      <th>2022-12400</th>\n",
       "      <td>95</td>\n",
       "      <td>65</td>\n",
       "      <td>20</td>\n",
       "      <td>10</td>\n",
       "    </tr>\n",
       "    <tr>\n",
       "      <th>2022-12469</th>\n",
       "      <td>90</td>\n",
       "      <td>80</td>\n",
       "      <td>80</td>\n",
       "      <td>20</td>\n",
       "    </tr>\n",
       "    <tr>\n",
       "      <th>2022-12318</th>\n",
       "      <td>55</td>\n",
       "      <td>75</td>\n",
       "      <td>35</td>\n",
       "      <td>25</td>\n",
       "    </tr>\n",
       "    <tr>\n",
       "      <th>2022-12432</th>\n",
       "      <td>95</td>\n",
       "      <td>95</td>\n",
       "      <td>45</td>\n",
       "      <td>0</td>\n",
       "    </tr>\n",
       "    <tr>\n",
       "      <th>2022-12443</th>\n",
       "      <td>95</td>\n",
       "      <td>55</td>\n",
       "      <td>15</td>\n",
       "      <td>35</td>\n",
       "    </tr>\n",
       "    <tr>\n",
       "      <th>2022-12367</th>\n",
       "      <td>50</td>\n",
       "      <td>80</td>\n",
       "      <td>40</td>\n",
       "      <td>30</td>\n",
       "    </tr>\n",
       "    <tr>\n",
       "      <th>2022-12458</th>\n",
       "      <td>50</td>\n",
       "      <td>55</td>\n",
       "      <td>15</td>\n",
       "      <td>85</td>\n",
       "    </tr>\n",
       "    <tr>\n",
       "      <th>2022-12396</th>\n",
       "      <td>95</td>\n",
       "      <td>30</td>\n",
       "      <td>30</td>\n",
       "      <td>95</td>\n",
       "    </tr>\n",
       "    <tr>\n",
       "      <th>2022-12482</th>\n",
       "      <td>50</td>\n",
       "      <td>50</td>\n",
       "      <td>45</td>\n",
       "      <td>10</td>\n",
       "    </tr>\n",
       "    <tr>\n",
       "      <th>2022-12452</th>\n",
       "      <td>65</td>\n",
       "      <td>55</td>\n",
       "      <td>15</td>\n",
       "      <td>45</td>\n",
       "    </tr>\n",
       "    <tr>\n",
       "      <th>2022-12387</th>\n",
       "      <td>70</td>\n",
       "      <td>70</td>\n",
       "      <td>40</td>\n",
       "      <td>35</td>\n",
       "    </tr>\n",
       "    <tr>\n",
       "      <th>2022-12354</th>\n",
       "      <td>90</td>\n",
       "      <td>90</td>\n",
       "      <td>80</td>\n",
       "      <td>90</td>\n",
       "    </tr>\n",
       "  </tbody>\n",
       "</table>\n",
       "</div>"
      ],
      "text/plain": [
       "            att  rep  mid  fin\n",
       "2022-12380   65   55   50   40\n",
       "2022-12370   95  100   50   80\n",
       "2022-12363   65   90   60   30\n",
       "2022-12488   55   80   75   80\n",
       "2022-12312   80   30   30  100\n",
       "2022-12377   75   40  100   15\n",
       "2022-12463   65   45   45   90\n",
       "2022-12471   60   60   25    0\n",
       "2022-12400   95   65   20   10\n",
       "2022-12469   90   80   80   20\n",
       "2022-12318   55   75   35   25\n",
       "2022-12432   95   95   45    0\n",
       "2022-12443   95   55   15   35\n",
       "2022-12367   50   80   40   30\n",
       "2022-12458   50   55   15   85\n",
       "2022-12396   95   30   30   95\n",
       "2022-12482   50   50   45   10\n",
       "2022-12452   65   55   15   45\n",
       "2022-12387   70   70   40   35\n",
       "2022-12354   90   90   80   90"
      ]
     },
     "execution_count": 232,
     "metadata": {},
     "output_type": "execute_result"
    }
   ],
   "source": [
    "df"
   ]
  },
  {
   "cell_type": "code",
   "execution_count": 233,
   "id": "cebed225-cf6a-4fcc-b0a4-0e4b9b5f657b",
   "metadata": {},
   "outputs": [
    {
     "data": {
      "text/html": [
       "<div>\n",
       "<style scoped>\n",
       "    .dataframe tbody tr th:only-of-type {\n",
       "        vertical-align: middle;\n",
       "    }\n",
       "\n",
       "    .dataframe tbody tr th {\n",
       "        vertical-align: top;\n",
       "    }\n",
       "\n",
       "    .dataframe thead th {\n",
       "        text-align: right;\n",
       "    }\n",
       "</style>\n",
       "<table border=\"1\" class=\"dataframe\">\n",
       "  <thead>\n",
       "    <tr style=\"text-align: right;\">\n",
       "      <th></th>\n",
       "      <th>att</th>\n",
       "      <th>rep</th>\n",
       "      <th>mid</th>\n",
       "      <th>fin</th>\n",
       "    </tr>\n",
       "  </thead>\n",
       "  <tbody>\n",
       "    <tr>\n",
       "      <th>2022-12380</th>\n",
       "      <td>65</td>\n",
       "      <td>55</td>\n",
       "      <td>50</td>\n",
       "      <td>40</td>\n",
       "    </tr>\n",
       "    <tr>\n",
       "      <th>2022-12370</th>\n",
       "      <td>95</td>\n",
       "      <td>100</td>\n",
       "      <td>50</td>\n",
       "      <td>80</td>\n",
       "    </tr>\n",
       "    <tr>\n",
       "      <th>2022-12363</th>\n",
       "      <td>65</td>\n",
       "      <td>90</td>\n",
       "      <td>60</td>\n",
       "      <td>30</td>\n",
       "    </tr>\n",
       "    <tr>\n",
       "      <th>2022-12488</th>\n",
       "      <td>55</td>\n",
       "      <td>80</td>\n",
       "      <td>75</td>\n",
       "      <td>80</td>\n",
       "    </tr>\n",
       "    <tr>\n",
       "      <th>2022-12312</th>\n",
       "      <td>80</td>\n",
       "      <td>30</td>\n",
       "      <td>30</td>\n",
       "      <td>100</td>\n",
       "    </tr>\n",
       "    <tr>\n",
       "      <th>2022-12377</th>\n",
       "      <td>75</td>\n",
       "      <td>40</td>\n",
       "      <td>100</td>\n",
       "      <td>15</td>\n",
       "    </tr>\n",
       "    <tr>\n",
       "      <th>2022-12463</th>\n",
       "      <td>65</td>\n",
       "      <td>45</td>\n",
       "      <td>45</td>\n",
       "      <td>90</td>\n",
       "    </tr>\n",
       "    <tr>\n",
       "      <th>2022-12471</th>\n",
       "      <td>60</td>\n",
       "      <td>60</td>\n",
       "      <td>25</td>\n",
       "      <td>0</td>\n",
       "    </tr>\n",
       "    <tr>\n",
       "      <th>2022-12400</th>\n",
       "      <td>95</td>\n",
       "      <td>65</td>\n",
       "      <td>20</td>\n",
       "      <td>10</td>\n",
       "    </tr>\n",
       "    <tr>\n",
       "      <th>2022-12469</th>\n",
       "      <td>90</td>\n",
       "      <td>80</td>\n",
       "      <td>80</td>\n",
       "      <td>20</td>\n",
       "    </tr>\n",
       "    <tr>\n",
       "      <th>2022-12318</th>\n",
       "      <td>55</td>\n",
       "      <td>75</td>\n",
       "      <td>35</td>\n",
       "      <td>25</td>\n",
       "    </tr>\n",
       "    <tr>\n",
       "      <th>2022-12432</th>\n",
       "      <td>95</td>\n",
       "      <td>95</td>\n",
       "      <td>45</td>\n",
       "      <td>0</td>\n",
       "    </tr>\n",
       "    <tr>\n",
       "      <th>2022-12443</th>\n",
       "      <td>95</td>\n",
       "      <td>55</td>\n",
       "      <td>15</td>\n",
       "      <td>35</td>\n",
       "    </tr>\n",
       "    <tr>\n",
       "      <th>2022-12367</th>\n",
       "      <td>50</td>\n",
       "      <td>80</td>\n",
       "      <td>40</td>\n",
       "      <td>30</td>\n",
       "    </tr>\n",
       "    <tr>\n",
       "      <th>2022-12458</th>\n",
       "      <td>50</td>\n",
       "      <td>55</td>\n",
       "      <td>15</td>\n",
       "      <td>85</td>\n",
       "    </tr>\n",
       "    <tr>\n",
       "      <th>2022-12396</th>\n",
       "      <td>95</td>\n",
       "      <td>30</td>\n",
       "      <td>30</td>\n",
       "      <td>95</td>\n",
       "    </tr>\n",
       "    <tr>\n",
       "      <th>2022-12482</th>\n",
       "      <td>50</td>\n",
       "      <td>50</td>\n",
       "      <td>45</td>\n",
       "      <td>10</td>\n",
       "    </tr>\n",
       "    <tr>\n",
       "      <th>2022-12452</th>\n",
       "      <td>65</td>\n",
       "      <td>55</td>\n",
       "      <td>15</td>\n",
       "      <td>45</td>\n",
       "    </tr>\n",
       "    <tr>\n",
       "      <th>2022-12387</th>\n",
       "      <td>70</td>\n",
       "      <td>70</td>\n",
       "      <td>40</td>\n",
       "      <td>35</td>\n",
       "    </tr>\n",
       "    <tr>\n",
       "      <th>2022-12354</th>\n",
       "      <td>90</td>\n",
       "      <td>90</td>\n",
       "      <td>80</td>\n",
       "      <td>90</td>\n",
       "    </tr>\n",
       "  </tbody>\n",
       "</table>\n",
       "</div>"
      ],
      "text/plain": [
       "            att  rep  mid  fin\n",
       "2022-12380   65   55   50   40\n",
       "2022-12370   95  100   50   80\n",
       "2022-12363   65   90   60   30\n",
       "2022-12488   55   80   75   80\n",
       "2022-12312   80   30   30  100\n",
       "2022-12377   75   40  100   15\n",
       "2022-12463   65   45   45   90\n",
       "2022-12471   60   60   25    0\n",
       "2022-12400   95   65   20   10\n",
       "2022-12469   90   80   80   20\n",
       "2022-12318   55   75   35   25\n",
       "2022-12432   95   95   45    0\n",
       "2022-12443   95   55   15   35\n",
       "2022-12367   50   80   40   30\n",
       "2022-12458   50   55   15   85\n",
       "2022-12396   95   30   30   95\n",
       "2022-12482   50   50   45   10\n",
       "2022-12452   65   55   15   45\n",
       "2022-12387   70   70   40   35\n",
       "2022-12354   90   90   80   90"
      ]
     },
     "execution_count": 233,
     "metadata": {},
     "output_type": "execute_result"
    }
   ],
   "source": [
    "df.query(\"index <= '202212354' or index=='202212387'\")"
   ]
  },
  {
   "cell_type": "markdown",
   "id": "c17eedf4-77fa-41c1-8337-7f52eed28411",
   "metadata": {},
   "source": [
    "사실 이 기능은 시계열자료에서 꽃핀다. "
   ]
  },
  {
   "cell_type": "markdown",
   "id": "d209a5d2-35fb-4884-b11b-750a77637705",
   "metadata": {},
   "source": [
    "`-` 예제8"
   ]
  },
  {
   "cell_type": "code",
   "execution_count": 234,
   "id": "b25e93b6-a496-4a92-bb3f-90f54bb27bf7",
   "metadata": {},
   "outputs": [
    {
     "data": {
      "text/plain": [
       "DatetimeIndex(['2021-12-26', '2021-12-27', '2021-12-28', '2021-12-29',\n",
       "               '2021-12-30', '2021-12-31', '2022-01-01', '2022-01-02',\n",
       "               '2022-01-03', '2022-01-04'],\n",
       "              dtype='datetime64[ns]', freq='D')"
      ]
     },
     "execution_count": 234,
     "metadata": {},
     "output_type": "execute_result"
    }
   ],
   "source": [
    "pd.date_range('20211226',periods=10)"
   ]
  },
  {
   "cell_type": "code",
   "execution_count": 238,
   "id": "1c73d983-8564-4b2b-9223-66e930d4bd6b",
   "metadata": {},
   "outputs": [
    {
     "data": {
      "text/html": [
       "<div>\n",
       "<style scoped>\n",
       "    .dataframe tbody tr th:only-of-type {\n",
       "        vertical-align: middle;\n",
       "    }\n",
       "\n",
       "    .dataframe tbody tr th {\n",
       "        vertical-align: top;\n",
       "    }\n",
       "\n",
       "    .dataframe thead th {\n",
       "        text-align: right;\n",
       "    }\n",
       "</style>\n",
       "<table border=\"1\" class=\"dataframe\">\n",
       "  <thead>\n",
       "    <tr style=\"text-align: right;\">\n",
       "      <th></th>\n",
       "      <th>A</th>\n",
       "      <th>B</th>\n",
       "      <th>C</th>\n",
       "      <th>D</th>\n",
       "    </tr>\n",
       "  </thead>\n",
       "  <tbody>\n",
       "    <tr>\n",
       "      <th>2021-12-26</th>\n",
       "      <td>0.117038</td>\n",
       "      <td>-0.350165</td>\n",
       "      <td>0.410882</td>\n",
       "      <td>-0.763975</td>\n",
       "    </tr>\n",
       "    <tr>\n",
       "      <th>2021-12-27</th>\n",
       "      <td>0.766821</td>\n",
       "      <td>1.032189</td>\n",
       "      <td>0.404380</td>\n",
       "      <td>-0.134916</td>\n",
       "    </tr>\n",
       "    <tr>\n",
       "      <th>2021-12-28</th>\n",
       "      <td>-0.767637</td>\n",
       "      <td>-0.642942</td>\n",
       "      <td>-0.247824</td>\n",
       "      <td>-1.457658</td>\n",
       "    </tr>\n",
       "    <tr>\n",
       "      <th>2021-12-29</th>\n",
       "      <td>-0.091060</td>\n",
       "      <td>0.323402</td>\n",
       "      <td>-0.774021</td>\n",
       "      <td>0.659558</td>\n",
       "    </tr>\n",
       "    <tr>\n",
       "      <th>2021-12-30</th>\n",
       "      <td>-0.794595</td>\n",
       "      <td>-2.605380</td>\n",
       "      <td>0.283726</td>\n",
       "      <td>-1.832944</td>\n",
       "    </tr>\n",
       "    <tr>\n",
       "      <th>2021-12-31</th>\n",
       "      <td>0.292831</td>\n",
       "      <td>0.287421</td>\n",
       "      <td>0.283594</td>\n",
       "      <td>-0.746875</td>\n",
       "    </tr>\n",
       "    <tr>\n",
       "      <th>2022-01-01</th>\n",
       "      <td>-0.918335</td>\n",
       "      <td>0.402325</td>\n",
       "      <td>0.485921</td>\n",
       "      <td>0.122862</td>\n",
       "    </tr>\n",
       "    <tr>\n",
       "      <th>2022-01-02</th>\n",
       "      <td>-0.701718</td>\n",
       "      <td>0.740156</td>\n",
       "      <td>-0.898490</td>\n",
       "      <td>1.038380</td>\n",
       "    </tr>\n",
       "    <tr>\n",
       "      <th>2022-01-03</th>\n",
       "      <td>-0.441720</td>\n",
       "      <td>0.319821</td>\n",
       "      <td>0.705463</td>\n",
       "      <td>-0.027263</td>\n",
       "    </tr>\n",
       "    <tr>\n",
       "      <th>2022-01-04</th>\n",
       "      <td>-0.148996</td>\n",
       "      <td>0.234815</td>\n",
       "      <td>-1.412675</td>\n",
       "      <td>-0.706377</td>\n",
       "    </tr>\n",
       "  </tbody>\n",
       "</table>\n",
       "</div>"
      ],
      "text/plain": [
       "                   A         B         C         D\n",
       "2021-12-26  0.117038 -0.350165  0.410882 -0.763975\n",
       "2021-12-27  0.766821  1.032189  0.404380 -0.134916\n",
       "2021-12-28 -0.767637 -0.642942 -0.247824 -1.457658\n",
       "2021-12-29 -0.091060  0.323402 -0.774021  0.659558\n",
       "2021-12-30 -0.794595 -2.605380  0.283726 -1.832944\n",
       "2021-12-31  0.292831  0.287421  0.283594 -0.746875\n",
       "2022-01-01 -0.918335  0.402325  0.485921  0.122862\n",
       "2022-01-02 -0.701718  0.740156 -0.898490  1.038380\n",
       "2022-01-03 -0.441720  0.319821  0.705463 -0.027263\n",
       "2022-01-04 -0.148996  0.234815 -1.412675 -0.706377"
      ]
     },
     "execution_count": 238,
     "metadata": {},
     "output_type": "execute_result"
    }
   ],
   "source": [
    "_df=pd.DataFrame(np.random.normal(size=(10,4)),columns=list('ABCD'),index=pd.date_range('20211226',periods=10))\n",
    "_df"
   ]
  },
  {
   "cell_type": "code",
   "execution_count": 239,
   "id": "8ca3dc60-347e-4656-88bf-4de8c50531d9",
   "metadata": {},
   "outputs": [
    {
     "data": {
      "text/html": [
       "<div>\n",
       "<style scoped>\n",
       "    .dataframe tbody tr th:only-of-type {\n",
       "        vertical-align: middle;\n",
       "    }\n",
       "\n",
       "    .dataframe tbody tr th {\n",
       "        vertical-align: top;\n",
       "    }\n",
       "\n",
       "    .dataframe thead th {\n",
       "        text-align: right;\n",
       "    }\n",
       "</style>\n",
       "<table border=\"1\" class=\"dataframe\">\n",
       "  <thead>\n",
       "    <tr style=\"text-align: right;\">\n",
       "      <th></th>\n",
       "      <th>A</th>\n",
       "      <th>B</th>\n",
       "      <th>C</th>\n",
       "      <th>D</th>\n",
       "    </tr>\n",
       "  </thead>\n",
       "  <tbody>\n",
       "    <tr>\n",
       "      <th>2021-12-29</th>\n",
       "      <td>-0.091060</td>\n",
       "      <td>0.323402</td>\n",
       "      <td>-0.774021</td>\n",
       "      <td>0.659558</td>\n",
       "    </tr>\n",
       "    <tr>\n",
       "      <th>2021-12-30</th>\n",
       "      <td>-0.794595</td>\n",
       "      <td>-2.605380</td>\n",
       "      <td>0.283726</td>\n",
       "      <td>-1.832944</td>\n",
       "    </tr>\n",
       "    <tr>\n",
       "      <th>2021-12-31</th>\n",
       "      <td>0.292831</td>\n",
       "      <td>0.287421</td>\n",
       "      <td>0.283594</td>\n",
       "      <td>-0.746875</td>\n",
       "    </tr>\n",
       "    <tr>\n",
       "      <th>2022-01-01</th>\n",
       "      <td>-0.918335</td>\n",
       "      <td>0.402325</td>\n",
       "      <td>0.485921</td>\n",
       "      <td>0.122862</td>\n",
       "    </tr>\n",
       "    <tr>\n",
       "      <th>2022-01-02</th>\n",
       "      <td>-0.701718</td>\n",
       "      <td>0.740156</td>\n",
       "      <td>-0.898490</td>\n",
       "      <td>1.038380</td>\n",
       "    </tr>\n",
       "    <tr>\n",
       "      <th>2022-01-03</th>\n",
       "      <td>-0.441720</td>\n",
       "      <td>0.319821</td>\n",
       "      <td>0.705463</td>\n",
       "      <td>-0.027263</td>\n",
       "    </tr>\n",
       "  </tbody>\n",
       "</table>\n",
       "</div>"
      ],
      "text/plain": [
       "                   A         B         C         D\n",
       "2021-12-29 -0.091060  0.323402 -0.774021  0.659558\n",
       "2021-12-30 -0.794595 -2.605380  0.283726 -1.832944\n",
       "2021-12-31  0.292831  0.287421  0.283594 -0.746875\n",
       "2022-01-01 -0.918335  0.402325  0.485921  0.122862\n",
       "2022-01-02 -0.701718  0.740156 -0.898490  1.038380\n",
       "2022-01-03 -0.441720  0.319821  0.705463 -0.027263"
      ]
     },
     "execution_count": 239,
     "metadata": {},
     "output_type": "execute_result"
    }
   ],
   "source": [
    "_df.query(\" '2021-12-29' <=  index <= '2022-01-03' \")"
   ]
  },
  {
   "cell_type": "code",
   "execution_count": 240,
   "id": "4ea0cad9-a2a8-4bf2-af25-cd9436ba0e9d",
   "metadata": {},
   "outputs": [
    {
     "data": {
      "text/html": [
       "<div>\n",
       "<style scoped>\n",
       "    .dataframe tbody tr th:only-of-type {\n",
       "        vertical-align: middle;\n",
       "    }\n",
       "\n",
       "    .dataframe tbody tr th {\n",
       "        vertical-align: top;\n",
       "    }\n",
       "\n",
       "    .dataframe thead th {\n",
       "        text-align: right;\n",
       "    }\n",
       "</style>\n",
       "<table border=\"1\" class=\"dataframe\">\n",
       "  <thead>\n",
       "    <tr style=\"text-align: right;\">\n",
       "      <th></th>\n",
       "      <th>A</th>\n",
       "      <th>B</th>\n",
       "      <th>C</th>\n",
       "      <th>D</th>\n",
       "    </tr>\n",
       "  </thead>\n",
       "  <tbody>\n",
       "    <tr>\n",
       "      <th>2021-12-30</th>\n",
       "      <td>-0.794595</td>\n",
       "      <td>-2.605380</td>\n",
       "      <td>0.283726</td>\n",
       "      <td>-1.832944</td>\n",
       "    </tr>\n",
       "    <tr>\n",
       "      <th>2022-01-01</th>\n",
       "      <td>-0.918335</td>\n",
       "      <td>0.402325</td>\n",
       "      <td>0.485921</td>\n",
       "      <td>0.122862</td>\n",
       "    </tr>\n",
       "    <tr>\n",
       "      <th>2022-01-03</th>\n",
       "      <td>-0.441720</td>\n",
       "      <td>0.319821</td>\n",
       "      <td>0.705463</td>\n",
       "      <td>-0.027263</td>\n",
       "    </tr>\n",
       "  </tbody>\n",
       "</table>\n",
       "</div>"
      ],
      "text/plain": [
       "                   A         B         C         D\n",
       "2021-12-30 -0.794595 -2.605380  0.283726 -1.832944\n",
       "2022-01-01 -0.918335  0.402325  0.485921  0.122862\n",
       "2022-01-03 -0.441720  0.319821  0.705463 -0.027263"
      ]
     },
     "execution_count": 240,
     "metadata": {},
     "output_type": "execute_result"
    }
   ],
   "source": [
    "_df.query(\" '2021-12-29' <=  index <= '2022-01-03' and A+B<C  \")"
   ]
  },
  {
   "cell_type": "markdown",
   "id": "d0d746ec-37ac-4dfe-b94d-17ba7a3cfdcd",
   "metadata": {},
   "source": [
    "`-` query가 만능은 아니다. "
   ]
  },
  {
   "cell_type": "code",
   "execution_count": 243,
   "id": "5e12845e-c147-497e-9ddf-61a169b247ad",
   "metadata": {},
   "outputs": [],
   "source": [
    "df.columns = pd.Index(['att score', 'rep score', 'mid score', 'fin score'])"
   ]
  },
  {
   "cell_type": "code",
   "execution_count": 245,
   "id": "0421c31c-8b17-41df-adb2-19b35f737109",
   "metadata": {},
   "outputs": [
    {
     "ename": "SyntaxError",
     "evalue": "invalid syntax (<unknown>, line 1)",
     "output_type": "error",
     "traceback": [
      "Traceback \u001b[0;36m(most recent call last)\u001b[0m:\n",
      "\u001b[0m  File \u001b[1;32m~/anaconda3/envs/py38/lib/python3.8/site-packages/IPython/core/interactiveshell.py:3442\u001b[0m in \u001b[1;35mrun_code\u001b[0m\n    exec(code_obj, self.user_global_ns, self.user_ns)\u001b[0m\n",
      "\u001b[0m  Cell \u001b[1;32mIn[245], line 1\u001b[0m\n    df.query(\" att score < 90 \")\u001b[0m\n",
      "\u001b[0m  File \u001b[1;32m~/anaconda3/envs/py38/lib/python3.8/site-packages/pandas/util/_decorators.py:331\u001b[0m in \u001b[1;35mwrapper\u001b[0m\n    return func(*args, **kwargs)\u001b[0m\n",
      "\u001b[0m  File \u001b[1;32m~/anaconda3/envs/py38/lib/python3.8/site-packages/pandas/core/frame.py:4474\u001b[0m in \u001b[1;35mquery\u001b[0m\n    res = self.eval(expr, **kwargs)\u001b[0m\n",
      "\u001b[0m  File \u001b[1;32m~/anaconda3/envs/py38/lib/python3.8/site-packages/pandas/util/_decorators.py:331\u001b[0m in \u001b[1;35mwrapper\u001b[0m\n    return func(*args, **kwargs)\u001b[0m\n",
      "\u001b[0m  File \u001b[1;32m~/anaconda3/envs/py38/lib/python3.8/site-packages/pandas/core/frame.py:4612\u001b[0m in \u001b[1;35meval\u001b[0m\n    return _eval(expr, inplace=inplace, **kwargs)\u001b[0m\n",
      "\u001b[0m  File \u001b[1;32m~/anaconda3/envs/py38/lib/python3.8/site-packages/pandas/core/computation/eval.py:353\u001b[0m in \u001b[1;35meval\u001b[0m\n    parsed_expr = Expr(expr, engine=engine, parser=parser, env=env)\u001b[0m\n",
      "\u001b[0m  File \u001b[1;32m~/anaconda3/envs/py38/lib/python3.8/site-packages/pandas/core/computation/expr.py:813\u001b[0m in \u001b[1;35m__init__\u001b[0m\n    self.terms = self.parse()\u001b[0m\n",
      "\u001b[0m  File \u001b[1;32m~/anaconda3/envs/py38/lib/python3.8/site-packages/pandas/core/computation/expr.py:832\u001b[0m in \u001b[1;35mparse\u001b[0m\n    return self._visitor.visit(self.expr)\u001b[0m\n",
      "\u001b[0m  File \u001b[1;32m~/anaconda3/envs/py38/lib/python3.8/site-packages/pandas/core/computation/expr.py:411\u001b[0m in \u001b[1;35mvisit\u001b[0m\n    raise e\u001b[0m\n",
      "\u001b[0m  File \u001b[1;32m~/anaconda3/envs/py38/lib/python3.8/site-packages/pandas/core/computation/expr.py:407\u001b[0m in \u001b[1;35mvisit\u001b[0m\n    node = ast.fix_missing_locations(ast.parse(clean))\u001b[0m\n",
      "\u001b[0;36m  File \u001b[0;32m~/anaconda3/envs/py38/lib/python3.8/ast.py:47\u001b[0;36m in \u001b[0;35mparse\u001b[0;36m\n\u001b[0;31m    return compile(source, filename, mode, flags,\u001b[0;36m\n",
      "\u001b[0;36m  File \u001b[0;32m<unknown>:1\u001b[0;36m\u001b[0m\n\u001b[0;31m    att score <90\u001b[0m\n\u001b[0m        ^\u001b[0m\n\u001b[0;31mSyntaxError\u001b[0m\u001b[0;31m:\u001b[0m invalid syntax\n"
     ]
    }
   ],
   "source": [
    "df.query(\" att score < 90 \")\n",
    "# df.loc[df['att score'] < 90,:] <-- 이렇게 구현하면 된다! (아니면 변수이름을 바꿔주는 코드를 짜든가)"
   ]
  },
  {
   "cell_type": "markdown",
   "id": "6f08509d-a9d4-43a7-8564-7a91ace12f80",
   "metadata": {},
   "source": [
    "# pandas 공부 3단계 "
   ]
  },
  {
   "cell_type": "markdown",
   "id": "579d17b3-de56-41ea-8a17-224fc55a0852",
   "metadata": {},
   "source": [
    "`-` df자료형의 메소드를 알아보자. "
   ]
  },
  {
   "cell_type": "markdown",
   "id": "1c4df62d-5c4e-420c-af66-d983569fd399",
   "metadata": {},
   "source": [
    "## 전치  "
   ]
  },
  {
   "cell_type": "code",
   "execution_count": 248,
   "id": "e9ad183b-c0ab-4e8b-83e3-bd4ff30276fc",
   "metadata": {},
   "outputs": [
    {
     "data": {
      "text/html": [
       "<div>\n",
       "<style scoped>\n",
       "    .dataframe tbody tr th:only-of-type {\n",
       "        vertical-align: middle;\n",
       "    }\n",
       "\n",
       "    .dataframe tbody tr th {\n",
       "        vertical-align: top;\n",
       "    }\n",
       "\n",
       "    .dataframe thead th {\n",
       "        text-align: right;\n",
       "    }\n",
       "</style>\n",
       "<table border=\"1\" class=\"dataframe\">\n",
       "  <thead>\n",
       "    <tr style=\"text-align: right;\">\n",
       "      <th></th>\n",
       "      <th>0</th>\n",
       "      <th>1</th>\n",
       "      <th>2</th>\n",
       "    </tr>\n",
       "  </thead>\n",
       "  <tbody>\n",
       "    <tr>\n",
       "      <th>0</th>\n",
       "      <td>0</td>\n",
       "      <td>1</td>\n",
       "      <td>2</td>\n",
       "    </tr>\n",
       "    <tr>\n",
       "      <th>1</th>\n",
       "      <td>3</td>\n",
       "      <td>4</td>\n",
       "      <td>5</td>\n",
       "    </tr>\n",
       "  </tbody>\n",
       "</table>\n",
       "</div>"
      ],
      "text/plain": [
       "   0  1  2\n",
       "0  0  1  2\n",
       "1  3  4  5"
      ]
     },
     "execution_count": 248,
     "metadata": {},
     "output_type": "execute_result"
    }
   ],
   "source": [
    "arr = np.arange(2*3).reshape(2,3)\n",
    "df = pd.DataFrame(ndarray)\n",
    "df"
   ]
  },
  {
   "cell_type": "code",
   "execution_count": 249,
   "id": "db69c334-51a8-4ee0-8a48-967dd87fa50b",
   "metadata": {},
   "outputs": [
    {
     "data": {
      "text/plain": [
       "array([[0, 3],\n",
       "       [1, 4],\n",
       "       [2, 5]])"
      ]
     },
     "execution_count": 249,
     "metadata": {},
     "output_type": "execute_result"
    }
   ],
   "source": [
    "arr.T"
   ]
  },
  {
   "cell_type": "code",
   "execution_count": 250,
   "id": "913edeec-7c60-470d-87d5-adf3633c7d0e",
   "metadata": {},
   "outputs": [
    {
     "data": {
      "text/html": [
       "<div>\n",
       "<style scoped>\n",
       "    .dataframe tbody tr th:only-of-type {\n",
       "        vertical-align: middle;\n",
       "    }\n",
       "\n",
       "    .dataframe tbody tr th {\n",
       "        vertical-align: top;\n",
       "    }\n",
       "\n",
       "    .dataframe thead th {\n",
       "        text-align: right;\n",
       "    }\n",
       "</style>\n",
       "<table border=\"1\" class=\"dataframe\">\n",
       "  <thead>\n",
       "    <tr style=\"text-align: right;\">\n",
       "      <th></th>\n",
       "      <th>0</th>\n",
       "      <th>1</th>\n",
       "    </tr>\n",
       "  </thead>\n",
       "  <tbody>\n",
       "    <tr>\n",
       "      <th>0</th>\n",
       "      <td>0</td>\n",
       "      <td>3</td>\n",
       "    </tr>\n",
       "    <tr>\n",
       "      <th>1</th>\n",
       "      <td>1</td>\n",
       "      <td>4</td>\n",
       "    </tr>\n",
       "    <tr>\n",
       "      <th>2</th>\n",
       "      <td>2</td>\n",
       "      <td>5</td>\n",
       "    </tr>\n",
       "  </tbody>\n",
       "</table>\n",
       "</div>"
      ],
      "text/plain": [
       "   0  1\n",
       "0  0  3\n",
       "1  1  4\n",
       "2  2  5"
      ]
     },
     "execution_count": 250,
     "metadata": {},
     "output_type": "execute_result"
    }
   ],
   "source": [
    "df.T"
   ]
  },
  {
   "cell_type": "markdown",
   "id": "108e6288-df85-4da3-81c8-a98bb5c52aa1",
   "metadata": {},
   "source": [
    "## 합"
   ]
  },
  {
   "cell_type": "code",
   "execution_count": 251,
   "id": "7e7b3a5f-72f9-4644-9fc1-98361bfc40d2",
   "metadata": {},
   "outputs": [
    {
     "data": {
      "text/plain": [
       "array([3, 5, 7])"
      ]
     },
     "execution_count": 251,
     "metadata": {},
     "output_type": "execute_result"
    }
   ],
   "source": [
    "arr.sum(axis=0)"
   ]
  },
  {
   "cell_type": "code",
   "execution_count": 252,
   "id": "cf6fd994-e2e4-467a-aa9f-a88c97117755",
   "metadata": {},
   "outputs": [
    {
     "data": {
      "text/plain": [
       "0    3\n",
       "1    5\n",
       "2    7\n",
       "dtype: int64"
      ]
     },
     "execution_count": 252,
     "metadata": {},
     "output_type": "execute_result"
    }
   ],
   "source": [
    "df.sum(axis=0)"
   ]
  },
  {
   "cell_type": "code",
   "execution_count": 254,
   "id": "7520fe98-0c49-4f75-a04d-90a0b2d60e4b",
   "metadata": {},
   "outputs": [
    {
     "data": {
      "text/plain": [
       "array([ 3, 12])"
      ]
     },
     "execution_count": 254,
     "metadata": {},
     "output_type": "execute_result"
    }
   ],
   "source": [
    "arr.sum(axis=1)"
   ]
  },
  {
   "cell_type": "code",
   "execution_count": 255,
   "id": "eeb2b8b6-7d6a-4a7b-b062-1285a52d2319",
   "metadata": {},
   "outputs": [
    {
     "data": {
      "text/plain": [
       "0     3\n",
       "1    12\n",
       "dtype: int64"
      ]
     },
     "execution_count": 255,
     "metadata": {},
     "output_type": "execute_result"
    }
   ],
   "source": [
    "df.sum(axis=1)"
   ]
  },
  {
   "cell_type": "markdown",
   "id": "ca772701-a1b4-455e-a440-4599a1426d54",
   "metadata": {},
   "source": [
    "## cumsum "
   ]
  },
  {
   "cell_type": "code",
   "execution_count": 256,
   "id": "5e4f7e58-69e2-4e98-9ecc-3fbe989e5b7f",
   "metadata": {},
   "outputs": [
    {
     "data": {
      "text/html": [
       "<div>\n",
       "<style scoped>\n",
       "    .dataframe tbody tr th:only-of-type {\n",
       "        vertical-align: middle;\n",
       "    }\n",
       "\n",
       "    .dataframe tbody tr th {\n",
       "        vertical-align: top;\n",
       "    }\n",
       "\n",
       "    .dataframe thead th {\n",
       "        text-align: right;\n",
       "    }\n",
       "</style>\n",
       "<table border=\"1\" class=\"dataframe\">\n",
       "  <thead>\n",
       "    <tr style=\"text-align: right;\">\n",
       "      <th></th>\n",
       "      <th>0</th>\n",
       "      <th>1</th>\n",
       "      <th>2</th>\n",
       "    </tr>\n",
       "  </thead>\n",
       "  <tbody>\n",
       "    <tr>\n",
       "      <th>0</th>\n",
       "      <td>0</td>\n",
       "      <td>1</td>\n",
       "      <td>2</td>\n",
       "    </tr>\n",
       "    <tr>\n",
       "      <th>1</th>\n",
       "      <td>3</td>\n",
       "      <td>4</td>\n",
       "      <td>5</td>\n",
       "    </tr>\n",
       "  </tbody>\n",
       "</table>\n",
       "</div>"
      ],
      "text/plain": [
       "   0  1  2\n",
       "0  0  1  2\n",
       "1  3  4  5"
      ]
     },
     "execution_count": 256,
     "metadata": {},
     "output_type": "execute_result"
    }
   ],
   "source": [
    "df"
   ]
  },
  {
   "cell_type": "code",
   "execution_count": 257,
   "id": "c769151f-9141-4785-982c-3de9913a754c",
   "metadata": {},
   "outputs": [
    {
     "data": {
      "text/plain": [
       "array([[0, 1, 2],\n",
       "       [3, 5, 7]])"
      ]
     },
     "execution_count": 257,
     "metadata": {},
     "output_type": "execute_result"
    }
   ],
   "source": [
    "arr.cumsum(axis=0)"
   ]
  },
  {
   "cell_type": "code",
   "execution_count": 258,
   "id": "57ade3c1-78cb-496b-af4c-50c789f211ab",
   "metadata": {},
   "outputs": [
    {
     "data": {
      "text/html": [
       "<div>\n",
       "<style scoped>\n",
       "    .dataframe tbody tr th:only-of-type {\n",
       "        vertical-align: middle;\n",
       "    }\n",
       "\n",
       "    .dataframe tbody tr th {\n",
       "        vertical-align: top;\n",
       "    }\n",
       "\n",
       "    .dataframe thead th {\n",
       "        text-align: right;\n",
       "    }\n",
       "</style>\n",
       "<table border=\"1\" class=\"dataframe\">\n",
       "  <thead>\n",
       "    <tr style=\"text-align: right;\">\n",
       "      <th></th>\n",
       "      <th>0</th>\n",
       "      <th>1</th>\n",
       "      <th>2</th>\n",
       "    </tr>\n",
       "  </thead>\n",
       "  <tbody>\n",
       "    <tr>\n",
       "      <th>0</th>\n",
       "      <td>0</td>\n",
       "      <td>1</td>\n",
       "      <td>2</td>\n",
       "    </tr>\n",
       "    <tr>\n",
       "      <th>1</th>\n",
       "      <td>3</td>\n",
       "      <td>5</td>\n",
       "      <td>7</td>\n",
       "    </tr>\n",
       "  </tbody>\n",
       "</table>\n",
       "</div>"
      ],
      "text/plain": [
       "   0  1  2\n",
       "0  0  1  2\n",
       "1  3  5  7"
      ]
     },
     "execution_count": 258,
     "metadata": {},
     "output_type": "execute_result"
    }
   ],
   "source": [
    "df.cumsum(axis=0)"
   ]
  },
  {
   "cell_type": "code",
   "execution_count": 259,
   "id": "37a7dcdb-b811-459a-8dbc-ab9365b532b4",
   "metadata": {},
   "outputs": [
    {
     "data": {
      "text/plain": [
       "array([[ 0,  1,  3],\n",
       "       [ 3,  7, 12]])"
      ]
     },
     "execution_count": 259,
     "metadata": {},
     "output_type": "execute_result"
    }
   ],
   "source": [
    "arr.cumsum(axis=1)"
   ]
  },
  {
   "cell_type": "code",
   "execution_count": 260,
   "id": "8ce974db-a2d0-40ec-a79f-7bf26007d817",
   "metadata": {},
   "outputs": [
    {
     "data": {
      "text/html": [
       "<div>\n",
       "<style scoped>\n",
       "    .dataframe tbody tr th:only-of-type {\n",
       "        vertical-align: middle;\n",
       "    }\n",
       "\n",
       "    .dataframe tbody tr th {\n",
       "        vertical-align: top;\n",
       "    }\n",
       "\n",
       "    .dataframe thead th {\n",
       "        text-align: right;\n",
       "    }\n",
       "</style>\n",
       "<table border=\"1\" class=\"dataframe\">\n",
       "  <thead>\n",
       "    <tr style=\"text-align: right;\">\n",
       "      <th></th>\n",
       "      <th>0</th>\n",
       "      <th>1</th>\n",
       "      <th>2</th>\n",
       "    </tr>\n",
       "  </thead>\n",
       "  <tbody>\n",
       "    <tr>\n",
       "      <th>0</th>\n",
       "      <td>0</td>\n",
       "      <td>1</td>\n",
       "      <td>3</td>\n",
       "    </tr>\n",
       "    <tr>\n",
       "      <th>1</th>\n",
       "      <td>3</td>\n",
       "      <td>7</td>\n",
       "      <td>12</td>\n",
       "    </tr>\n",
       "  </tbody>\n",
       "</table>\n",
       "</div>"
      ],
      "text/plain": [
       "   0  1   2\n",
       "0  0  1   3\n",
       "1  3  7  12"
      ]
     },
     "execution_count": 260,
     "metadata": {},
     "output_type": "execute_result"
    }
   ],
   "source": [
    "df.cumsum(axis=1)"
   ]
  },
  {
   "cell_type": "markdown",
   "id": "7d321fa0-0e6b-411c-9533-ed045d975ad6",
   "metadata": {},
   "source": [
    "## 형태변환 "
   ]
  },
  {
   "cell_type": "code",
   "execution_count": 261,
   "id": "3d695e08-716a-4340-92d1-14790071e26b",
   "metadata": {},
   "outputs": [
    {
     "data": {
      "text/plain": [
       "[[0, 1, 2], [3, 4, 5]]"
      ]
     },
     "execution_count": 261,
     "metadata": {},
     "output_type": "execute_result"
    }
   ],
   "source": [
    "arr.tolist()"
   ]
  },
  {
   "cell_type": "code",
   "execution_count": 262,
   "id": "17e2ec26-bd3e-4312-85fc-99236ebf65e8",
   "metadata": {},
   "outputs": [
    {
     "data": {
      "text/plain": [
       "{0: {0: 0, 1: 3}, 1: {0: 1, 1: 4}, 2: {0: 2, 1: 5}}"
      ]
     },
     "execution_count": 262,
     "metadata": {},
     "output_type": "execute_result"
    }
   ],
   "source": [
    "df.to_dict()"
   ]
  },
  {
   "cell_type": "code",
   "execution_count": 263,
   "id": "f2353bc5-8187-4ea9-8fcd-c4772e1e8af7",
   "metadata": {},
   "outputs": [
    {
     "data": {
      "text/plain": [
       "array([[0, 1, 2],\n",
       "       [3, 4, 5]])"
      ]
     },
     "execution_count": 263,
     "metadata": {},
     "output_type": "execute_result"
    }
   ],
   "source": [
    "df.to_numpy()"
   ]
  },
  {
   "cell_type": "code",
   "execution_count": 264,
   "id": "bc405865-7a7c-4dce-9055-b09e29dcc9ca",
   "metadata": {},
   "outputs": [
    {
     "data": {
      "text/plain": [
       "[[0, 1, 2], [3, 4, 5]]"
      ]
     },
     "execution_count": 264,
     "metadata": {},
     "output_type": "execute_result"
    }
   ],
   "source": [
    "df.to_numpy().tolist()"
   ]
  },
  {
   "cell_type": "markdown",
   "id": "776e8bd3-2aa4-4ca6-8947-eecc462376eb",
   "metadata": {},
   "source": [
    "## 기타메소드.. 생략... "
   ]
  },
  {
   "cell_type": "markdown",
   "id": "e0e651f3-8696-46dc-9158-9e0fedd0c888",
   "metadata": {},
   "source": [
    "# pandas 공부 4단계~ "
   ]
  },
  {
   "cell_type": "markdown",
   "id": "a584d0fe-b6da-4303-85f9-5c4d752871e4",
   "metadata": {},
   "source": [
    "생략 "
   ]
  }
 ],
 "metadata": {
  "kernelspec": {
   "display_name": "Python 3",
   "language": "python",
   "name": "python3"
  },
  "language_info": {
   "codemirror_mode": {
    "name": "ipython",
    "version": 3
   },
   "file_extension": ".py",
   "mimetype": "text/x-python",
   "name": "python",
   "nbconvert_exporter": "python",
   "pygments_lexer": "ipython3",
   "version": "3.8.16"
  }
 },
 "nbformat": 4,
 "nbformat_minor": 5
}
