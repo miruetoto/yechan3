{
 "cells": [
  {
   "cell_type": "raw",
   "id": "aa772f58-f154-478c-b54f-7d8792fd9be8",
   "metadata": {},
   "source": [
    "---\n",
    "title: \"01wk-002: 타이타닉 데이터의 이해\"\n",
    "author: \"최규빈\"\n",
    "date: \"09/04/2023\"\n",
    "bibliography: mpref.bib\n",
    "---"
   ]
  },
  {
   "cell_type": "code",
   "execution_count": null,
   "id": "506cbb8b-7767-4213-91b4-6eaa058c9612",
   "metadata": {},
   "outputs": [],
   "source": []
  }
 ],
 "metadata": {
  "kernelspec": {
   "display_name": "Python 3 (ipykernel)",
   "language": "python",
   "name": "python3"
  },
  "language_info": {
   "codemirror_mode": {
    "name": "ipython",
    "version": 3
   },
   "file_extension": ".py",
   "mimetype": "text/x-python",
   "name": "python",
   "nbconvert_exporter": "python",
   "pygments_lexer": "ipython3",
   "version": "3.11.4"
  }
 },
 "nbformat": 4,
 "nbformat_minor": 5
}
