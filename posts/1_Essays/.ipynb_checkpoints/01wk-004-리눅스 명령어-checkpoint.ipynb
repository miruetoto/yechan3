{
 "cells": [
  {
   "cell_type": "raw",
   "id": "ec4f2b5d-5a17-4eb1-a169-6772a6069895",
   "metadata": {},
   "source": [
    "---\n",
    "title: \"01wk-03: 리눅스명령어\"\n",
    "author: \"최규빈\"\n",
    "date: \"09/04/2023\"\n",
    "bibliography: mpref.bib\n",
    "---"
   ]
  },
  {
   "cell_type": "markdown",
   "id": "51feccca-6199-43b7-9dc1-37b72eaec4dd",
   "metadata": {},
   "source": [
    "# ls"
   ]
  },
  {
   "cell_type": "markdown",
   "id": "ae959337-7121-4cf1-8a32-6484b0538bc2",
   "metadata": {},
   "source": [
    "# mkdir"
   ]
  },
  {
   "cell_type": "markdown",
   "id": "2fd11c5f-767b-4217-9bca-c72a368d1643",
   "metadata": {},
   "source": [
    "# rm "
   ]
  },
  {
   "cell_type": "markdown",
   "id": "4d4e7845-5821-4b17-93d1-8e96ffadcfd3",
   "metadata": {},
   "source": [
    "# rm -rf "
   ]
  },
  {
   "cell_type": "markdown",
   "id": "54c80fd8-7abb-45a6-95c7-0f46c9312460",
   "metadata": {},
   "source": [
    "# wget "
   ]
  },
  {
   "cell_type": "markdown",
   "id": "db67edff-16d9-44f7-bf15-8ad0b8517215",
   "metadata": {},
   "source": [
    "# unzip"
   ]
  },
  {
   "cell_type": "markdown",
   "id": "1e0fc712-00e8-45ae-859b-bb4f7099c2cb",
   "metadata": {},
   "source": [
    "# cat "
   ]
  },
  {
   "cell_type": "code",
   "execution_count": null,
   "id": "7264ccbc-0db2-463e-962a-72aa8a5ed5e5",
   "metadata": {},
   "outputs": [],
   "source": []
  }
 ],
 "metadata": {
  "kernelspec": {
   "display_name": "Python 3 (ipykernel)",
   "language": "python",
   "name": "python3"
  },
  "language_info": {
   "codemirror_mode": {
    "name": "ipython",
    "version": 3
   },
   "file_extension": ".py",
   "mimetype": "text/x-python",
   "name": "python",
   "nbconvert_exporter": "python",
   "pygments_lexer": "ipython3",
   "version": "3.11.4"
  }
 },
 "nbformat": 4,
 "nbformat_minor": 5
}
