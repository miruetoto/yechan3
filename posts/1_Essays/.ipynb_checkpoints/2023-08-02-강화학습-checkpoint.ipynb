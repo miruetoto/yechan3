{
 "cells": [
  {
   "cell_type": "raw",
   "id": "09b845cf-5bce-4ea5-9c92-890ac41ed9b2",
   "metadata": {
    "tags": []
   },
   "source": [
    "---\n",
    "title: \"**[Essays]** 강화학습\"\n",
    "author: \"신록예찬\"\n",
    "date: \"08/02/2023\"\n",
    "---"
   ]
  },
  {
   "cell_type": "markdown",
   "id": "9f811c2f-fda8-472e-818b-16be2dc72e69",
   "metadata": {},
   "source": [
    "## imports"
   ]
  },
  {
   "cell_type": "code",
   "execution_count": 26,
   "id": "df6688cb-b243-4e39-80c3-3886d1481186",
   "metadata": {},
   "outputs": [],
   "source": [
    "import gymnasium as gym\n",
    "import numpy as np\n",
    "import matplotlib.pyplot as plt\n",
    "from matplotlib.animation import FuncAnimation\n",
    "import torch "
   ]
  },
  {
   "cell_type": "markdown",
   "id": "e4f59b1b-5bef-461b-a47b-0d0a36627085",
   "metadata": {},
   "source": [
    "## Game1"
   ]
  },
  {
   "cell_type": "markdown",
   "id": "363a599e-56d5-4f52-a952-5d1839b01fe7",
   "metadata": {},
   "source": [
    "`-` 문제설명: 두개의 버튼이 있다. 버튼1을 누르면 1의 보상을, 버튼2를 누르면 100의 보상을 준다고 가정 "
   ]
  },
  {
   "cell_type": "code",
   "execution_count": 27,
   "id": "d771a51a-0733-42df-bf20-b06444164b35",
   "metadata": {},
   "outputs": [
    {
     "data": {
      "text/plain": [
       "'button1'"
      ]
     },
     "execution_count": 27,
     "metadata": {},
     "output_type": "execute_result"
    }
   ],
   "source": [
    "action = np.random.choice(['button1','button2'])\n",
    "action"
   ]
  },
  {
   "cell_type": "code",
   "execution_count": 28,
   "id": "97ab8e9f-5d74-4600-bbc9-64ed47fec6d9",
   "metadata": {},
   "outputs": [],
   "source": [
    "if action == 'button1': \n",
    "    reward = 1 \n",
    "else:\n",
    "    reward = 100"
   ]
  },
  {
   "cell_type": "code",
   "execution_count": 4,
   "id": "afb693ba-a1f0-4886-88f2-093c8c632cbb",
   "metadata": {},
   "outputs": [
    {
     "name": "stdout",
     "output_type": "stream",
     "text": [
      "button2 100\n",
      "button1 1\n",
      "button1 1\n",
      "button2 100\n",
      "button1 1\n",
      "button1 1\n",
      "button1 1\n",
      "button1 1\n",
      "button1 1\n",
      "button2 100\n"
     ]
    }
   ],
   "source": [
    "for _ in range(10):\n",
    "    action = np.random.choice(['button1','button2'])\n",
    "    if action == 'button1': \n",
    "        reward = 1 \n",
    "    else:\n",
    "        reward = 100\n",
    "    print(action,reward)"
   ]
  },
  {
   "cell_type": "markdown",
   "id": "c0c3b95f-1ce7-4e51-af68-4b9e48e9cb61",
   "metadata": {},
   "source": [
    "`-` 게임을 푸는 방법? 버튼2를 누른다. "
   ]
  },
  {
   "cell_type": "markdown",
   "id": "89fe09f5-0e0a-45a7-98b3-83b5862d7fea",
   "metadata": {},
   "source": [
    "`-` 용어 정리\n",
    "- Agent = 버튼을 누르는 사람\n",
    "- Action = 에이전트가 할 수 있는 행동 (현재는 2개의 action이 가능) \n",
    "- Env = Agent의 action을 보고 reward를 주는 존재 \n",
    "- 게임의 종료 = 버튼을 누르면 게임이 종료\n",
    "- 게임을 푸는 방법 = reward를 최대화하는 action을 선택"
   ]
  },
  {
   "cell_type": "markdown",
   "id": "d43cc037-cb08-4627-839e-d4196e3644e5",
   "metadata": {},
   "source": [
    "## Game2"
   ]
  },
  {
   "cell_type": "markdown",
   "id": "51c83f66-8420-4f19-af24-35b64848d103",
   "metadata": {},
   "source": [
    "`-` 문제설명: 에이전트는 현재 2의 위치에 있다. 에이전트는 (1) 정지 (2) 왼쪽으로 이동 (3) 오른쪽으로 이동 하는 3개의 행동을 할 수 있다. 에이전트가 4의 위치에 도달하면 100의 보상을 얻고 게임이 종료된다. 에이전트가 0의 위치에 도달하면 보상없이 게임이 종료된다. "
   ]
  },
  {
   "cell_type": "markdown",
   "id": "995bbbb3-580b-4174-9ad2-492db8a07b5b",
   "metadata": {},
   "source": [
    "`-` 에이전트와 환경의 상호작용 구현1"
   ]
  },
  {
   "cell_type": "code",
   "execution_count": 5,
   "id": "d753194b-c29d-408d-bbb4-6e82d6455be7",
   "metadata": {},
   "outputs": [],
   "source": [
    "state = 2"
   ]
  },
  {
   "cell_type": "code",
   "execution_count": 6,
   "id": "49be0f5a-2337-454b-ae5b-973628356a35",
   "metadata": {},
   "outputs": [],
   "source": [
    "action = np.random.choice([0,1,2])"
   ]
  },
  {
   "cell_type": "code",
   "execution_count": 7,
   "id": "13527401-e8e7-4ded-be35-f6b25c83bc41",
   "metadata": {},
   "outputs": [
    {
     "name": "stdout",
     "output_type": "stream",
     "text": [
      "2 0\n"
     ]
    }
   ],
   "source": [
    "print(state,action)"
   ]
  },
  {
   "cell_type": "code",
   "execution_count": 8,
   "id": "1e6c4ab7-15e9-491e-8b44-392491213600",
   "metadata": {},
   "outputs": [
    {
     "name": "stdout",
     "output_type": "stream",
     "text": [
      "2\n",
      "2의 위치에 도달, 보상 200점 획득\n"
     ]
    }
   ],
   "source": [
    "for _ in range(9999): \n",
    "    if state == 2:\n",
    "        print(state)\n",
    "        reward = 200         \n",
    "        print(\"2의 위치에 도달, 보상 {}점 획득\".format(reward))\n",
    "        break \n",
    "    elif state == -2:\n",
    "        print(state)\n",
    "        reward = 0 \n",
    "        print(\"-2의 위치에 도달, 보상 {}점 획득\".format(reward))\n",
    "        break\n",
    "    else:\n",
    "        print(state,action)        \n",
    "        state = state + action \n",
    "        action = np.random.choice(['<-','.','->'])\n",
    "        "
   ]
  },
  {
   "cell_type": "markdown",
   "id": "8994f222-6e08-40c1-bf6b-f2ba55efa168",
   "metadata": {},
   "source": [
    "`-` 에이전트와 환경의 상호작용 구현2"
   ]
  },
  {
   "cell_type": "code",
   "execution_count": 9,
   "id": "982dc58a-b969-4086-8f3a-994467a0899e",
   "metadata": {},
   "outputs": [
    {
     "data": {
      "text/plain": [
       "Discrete(3)"
      ]
     },
     "execution_count": 9,
     "metadata": {},
     "output_type": "execute_result"
    }
   ],
   "source": [
    "gym.spaces.Discrete(3)"
   ]
  },
  {
   "cell_type": "code",
   "execution_count": 10,
   "id": "0577c8dd-546c-47e2-b6e8-86c4e3522e17",
   "metadata": {},
   "outputs": [
    {
     "data": {
      "text/plain": [
       "\u001b[0;31mInit signature:\u001b[0m\n",
       "\u001b[0mgym\u001b[0m\u001b[0;34m.\u001b[0m\u001b[0mspaces\u001b[0m\u001b[0;34m.\u001b[0m\u001b[0mDiscrete\u001b[0m\u001b[0;34m(\u001b[0m\u001b[0;34m\u001b[0m\n",
       "\u001b[0;34m\u001b[0m    \u001b[0mn\u001b[0m\u001b[0;34m:\u001b[0m \u001b[0;34m'int | np.integer[Any]'\u001b[0m\u001b[0;34m,\u001b[0m\u001b[0;34m\u001b[0m\n",
       "\u001b[0;34m\u001b[0m    \u001b[0mseed\u001b[0m\u001b[0;34m:\u001b[0m \u001b[0;34m'int | np.random.Generator | None'\u001b[0m \u001b[0;34m=\u001b[0m \u001b[0;32mNone\u001b[0m\u001b[0;34m,\u001b[0m\u001b[0;34m\u001b[0m\n",
       "\u001b[0;34m\u001b[0m    \u001b[0mstart\u001b[0m\u001b[0;34m:\u001b[0m \u001b[0;34m'int | np.integer[Any]'\u001b[0m \u001b[0;34m=\u001b[0m \u001b[0;36m0\u001b[0m\u001b[0;34m,\u001b[0m\u001b[0;34m\u001b[0m\n",
       "\u001b[0;34m\u001b[0m\u001b[0;34m)\u001b[0m\u001b[0;34m\u001b[0m\u001b[0;34m\u001b[0m\u001b[0m\n",
       "\u001b[0;31mDocstring:\u001b[0m     \n",
       "A space consisting of finitely many elements.\n",
       "\n",
       "This class represents a finite subset of integers, more specifically a set of the form :math:`\\{ a, a+1, \\dots, a+n-1 \\}`.\n",
       "\n",
       "Example:\n",
       "    >>> from gymnasium.spaces import Discrete\n",
       "    >>> observation_space = Discrete(2, seed=42) # {0, 1}\n",
       "    >>> observation_space.sample()\n",
       "    0\n",
       "    >>> observation_space = Discrete(3, start=-1, seed=42)  # {-1, 0, 1}\n",
       "    >>> observation_space.sample()\n",
       "    -1\n",
       "\u001b[0;31mInit docstring:\u001b[0m\n",
       "Constructor of :class:`Discrete` space.\n",
       "\n",
       "This will construct the space :math:`\\{\\text{start}, ..., \\text{start} + n - 1\\}`.\n",
       "\n",
       "Args:\n",
       "    n (int): The number of elements of this space.\n",
       "    seed: Optionally, you can use this argument to seed the RNG that is used to sample from the ``Dict`` space.\n",
       "    start (int): The smallest element of this space.\n",
       "\u001b[0;31mFile:\u001b[0m           ~/anaconda3/envs/torch/lib/python3.11/site-packages/gymnasium/spaces/discrete.py\n",
       "\u001b[0;31mType:\u001b[0m           type\n",
       "\u001b[0;31mSubclasses:\u001b[0m     "
      ]
     },
     "metadata": {},
     "output_type": "display_data"
    }
   ],
   "source": [
    "gym.spaces.Discrete?"
   ]
  },
  {
   "cell_type": "code",
   "execution_count": 11,
   "id": "943478ae-efb4-461e-9ec8-47b48c1050bf",
   "metadata": {},
   "outputs": [],
   "source": [
    "class Game2(gym.Env):\n",
    "    def __init__(self):\n",
    "        self.action_space = gym.spaces.Discrete(3,start=-1) # Acition = {-1,0,1}  \n",
    "        self.observation_space = gym.spaces.Discrete(5,start=-2) # State = {-2,-1,0,1,2} \n",
    "        self.state = 0 \n",
    "        self.t = 0\n",
    "    def step(self,action):\n",
    "        self.state = self.state + action\n",
    "        self.t = self.t + 1 \n",
    "        if self.state == 2:\n",
    "            reward = 100\n",
    "        else:\n",
    "            reward = -1\n",
    "        info = {}\n",
    "        if self.state == -2 or self.state==2: \n",
    "            done = True\n",
    "        else: \n",
    "            done = False\n",
    "        return self.state, reward, done, info\n",
    "    def render(self):\n",
    "        print('state: {}'.format(self.state))\n",
    "    def reset(self):\n",
    "        self.state = 0 \n",
    "        return self.state"
   ]
  },
  {
   "cell_type": "code",
   "execution_count": 12,
   "id": "fa6c4fa4-f2bc-416d-9b2d-e635cfcff6ab",
   "metadata": {},
   "outputs": [],
   "source": [
    "env=Game2()"
   ]
  },
  {
   "cell_type": "markdown",
   "id": "a495623a-50fe-4b20-935a-a883ae87a02e",
   "metadata": {},
   "source": [
    "## Game3 "
   ]
  },
  {
   "cell_type": "code",
   "execution_count": null,
   "id": "a94554fe-b0f9-4bc0-b7a5-dba900312a36",
   "metadata": {},
   "outputs": [],
   "source": []
  },
  {
   "cell_type": "markdown",
   "id": "e438abfa-ad32-45f5-b5e2-2fa92f15d656",
   "metadata": {
    "tags": []
   },
   "source": [
    "## Game4: LunarLander"
   ]
  },
  {
   "cell_type": "markdown",
   "id": "d733049b-960e-4710-a34e-94f524349295",
   "metadata": {},
   "source": [
    "### 환경만들기 "
   ]
  },
  {
   "cell_type": "markdown",
   "id": "7603fb2a-3df7-478c-8d56-414b35d0f30c",
   "metadata": {},
   "source": [
    "`-` 환경을 만드는 방법은 아래와 같다. "
   ]
  },
  {
   "cell_type": "code",
   "execution_count": 13,
   "id": "3e085d50-9d39-4e75-9151-843deb6ee4e6",
   "metadata": {},
   "outputs": [],
   "source": [
    "env = gym.make('LunarLander-v2',render_mode='rgb_array')"
   ]
  },
  {
   "cell_type": "markdown",
   "id": "ee224f31-82c1-494d-b139-1c95a0bc2633",
   "metadata": {},
   "source": [
    "`-` 환경에 대한 기본 정보를 조사하여 보자. "
   ]
  },
  {
   "cell_type": "code",
   "execution_count": 14,
   "id": "49e5d1b8-e68d-41da-9c08-26530b8fdacd",
   "metadata": {},
   "outputs": [
    {
     "data": {
      "text/plain": [
       "Box([-1.5       -1.5       -5.        -5.        -3.1415927 -5.\n",
       " -0.        -0.       ], [1.5       1.5       5.        5.        3.1415927 5.        1.\n",
       " 1.       ], (8,), float32)"
      ]
     },
     "execution_count": 14,
     "metadata": {},
     "output_type": "execute_result"
    }
   ],
   "source": [
    "env.observation_space"
   ]
  },
  {
   "cell_type": "code",
   "execution_count": 15,
   "id": "cfde2681-4846-4aa0-87ce-66333cd7485a",
   "metadata": {},
   "outputs": [
    {
     "data": {
      "text/plain": [
       "Discrete(4)"
      ]
     },
     "execution_count": 15,
     "metadata": {},
     "output_type": "execute_result"
    }
   ],
   "source": [
    "env.action_space"
   ]
  },
  {
   "cell_type": "markdown",
   "id": "d892a6bf-a463-4c6e-9824-214e6f47be77",
   "metadata": {},
   "source": [
    "### 환경관찰 "
   ]
  },
  {
   "cell_type": "markdown",
   "id": "3c163f7c-a2d5-4e8c-a39d-391deb80830d",
   "metadata": {},
   "source": [
    "`-` 환경관찰 "
   ]
  },
  {
   "cell_type": "code",
   "execution_count": 16,
   "id": "35312d3e-1276-4895-b94a-224a0053089b",
   "metadata": {},
   "outputs": [
    {
     "data": {
      "text/plain": [
       "(array([ 0.00517321,  1.3996556 ,  0.5239665 , -0.5006593 , -0.00598759,\n",
       "        -0.11868618,  0.        ,  0.        ], dtype=float32),\n",
       " {})"
      ]
     },
     "execution_count": 16,
     "metadata": {},
     "output_type": "execute_result"
    }
   ],
   "source": [
    "env.reset()"
   ]
  },
  {
   "cell_type": "code",
   "execution_count": 17,
   "id": "9fa82115-7a62-4916-b62c-76548737af76",
   "metadata": {},
   "outputs": [
    {
     "data": {
      "text/plain": [
       "(array([ 0.01034651,  1.3878149 ,  0.52325904, -0.5262889 , -0.01185256,\n",
       "        -0.11730985,  0.        ,  0.        ], dtype=float32),\n",
       " -1.1491504152058667,\n",
       " False,\n",
       " False,\n",
       " {})"
      ]
     },
     "execution_count": 17,
     "metadata": {},
     "output_type": "execute_result"
    }
   ],
   "source": [
    "env.step(0) # state, reward, done, _ "
   ]
  },
  {
   "cell_type": "markdown",
   "id": "2b60a437-f0ae-467e-8b5a-765de47d5d22",
   "metadata": {},
   "source": [
    "`-` action"
   ]
  },
  {
   "cell_type": "code",
   "execution_count": 18,
   "id": "37dafca5-cbbc-4b88-96a7-a180f77d9023",
   "metadata": {},
   "outputs": [
    {
     "data": {
      "text/plain": [
       "0"
      ]
     },
     "execution_count": 18,
     "metadata": {},
     "output_type": "execute_result"
    }
   ],
   "source": [
    "env.action_space.sample()"
   ]
  },
  {
   "cell_type": "markdown",
   "id": "aa418a18-2081-43fc-97e2-d908b59bb80b",
   "metadata": {},
   "source": [
    "- int형으로 전달 "
   ]
  },
  {
   "cell_type": "markdown",
   "id": "a2fb595a-7d9a-4f04-a0c8-47f4db7aae71",
   "metadata": {},
   "source": [
    "`-` action -> nextstate, reward, done"
   ]
  },
  {
   "cell_type": "code",
   "execution_count": 19,
   "id": "23f3049d-0c1d-438f-8fcc-3854ee723c10",
   "metadata": {},
   "outputs": [
    {
     "data": {
      "text/plain": [
       "(array([ 0.01545191,  1.375376  ,  0.51473296, -0.5528772 , -0.01599996,\n",
       "        -0.08295576,  0.        ,  0.        ], dtype=float32),\n",
       " -0.530722855526476,\n",
       " False,\n",
       " False,\n",
       " {})"
      ]
     },
     "execution_count": 19,
     "metadata": {},
     "output_type": "execute_result"
    }
   ],
   "source": [
    "env.step(env.action_space.sample())"
   ]
  },
  {
   "cell_type": "code",
   "execution_count": 20,
   "id": "3cb75d3b-016b-42ce-8497-93120341a230",
   "metadata": {},
   "outputs": [],
   "source": [
    "frames = []\n",
    "env.reset()\n",
    "for _ in range(300):\n",
    "    frames.append(env.render())\n",
    "    env.step(env.action_space.sample())\n",
    "env.close()"
   ]
  },
  {
   "cell_type": "code",
   "execution_count": 21,
   "id": "9ceab5f9-1e5a-457b-8464-20c9db84d769",
   "metadata": {},
   "outputs": [
    {
     "data": {
      "image/png": "[encoded data removed]",
      "text/plain": [
       "<Figure size 640x480 with 1 Axes>"
      ]
     },
     "metadata": {},
     "output_type": "display_data"
    }
   ],
   "source": [
    "fig, ax = plt.subplots()\n",
    "ani = FuncAnimation(fig,lambda i: ax.imshow(frames[::100][i]),frames=len(frames[::100]))"
   ]
  },
  {
   "cell_type": "code",
   "execution_count": 23,
   "id": "6fad79d6-2d16-49d1-b425-d2f7ad74896d",
   "metadata": {},
   "outputs": [
    {
     "data": {
      "text/plain": [
       "<matplotlib.animation.FuncAnimation at 0x7f32e4732050>"
      ]
     },
     "execution_count": 23,
     "metadata": {},
     "output_type": "execute_result"
    }
   ],
   "source": [
    "ani"
   ]
  },
  {
   "cell_type": "markdown",
   "id": "72cba676-f377-4406-a8ff-9636a932ea9d",
   "metadata": {},
   "source": [
    "### Replay Buffer"
   ]
  },
  {
   "cell_type": "markdown",
   "id": "231ee868-9b9b-4c6d-9086-b69d615526da",
   "metadata": {},
   "source": [
    "`-` 랜덤액션을 연속적으로 생성하고 그 결과를 기록해보자. "
   ]
  },
  {
   "cell_type": "code",
   "execution_count": 24,
   "id": "ae71b487-9754-4f06-ba45-2acb2bdefda4",
   "metadata": {},
   "outputs": [],
   "source": [
    "states = []\n",
    "actions = []\n",
    "rewards = []\n",
    "next_states = []\n",
    "dones = []"
   ]
  },
  {
   "cell_type": "code",
   "execution_count": 25,
   "id": "6b950bc8-0ae9-461e-ba22-0e9e6139c4db",
   "metadata": {},
   "outputs": [
    {
     "ename": "ValueError",
     "evalue": "too many values to unpack (expected 4)",
     "output_type": "error",
     "traceback": [
      "\u001b[0;31m---------------------------------------------------------------------------\u001b[0m",
      "\u001b[0;31mValueError\u001b[0m                                Traceback (most recent call last)",
      "Cell \u001b[0;32mIn[25], line 4\u001b[0m\n\u001b[1;32m      2\u001b[0m \u001b[38;5;28;01mfor\u001b[39;00m t \u001b[38;5;129;01min\u001b[39;00m \u001b[38;5;28mrange\u001b[39m(\u001b[38;5;241m1500\u001b[39m):\n\u001b[1;32m      3\u001b[0m     _action \u001b[38;5;241m=\u001b[39m env\u001b[38;5;241m.\u001b[39maction_space\u001b[38;5;241m.\u001b[39msample() \n\u001b[0;32m----> 4\u001b[0m     _state2, _reward, _done, _ \u001b[38;5;241m=\u001b[39m env\u001b[38;5;241m.\u001b[39mstep(_action) \n\u001b[1;32m      5\u001b[0m     \u001b[38;5;66;03m## save code \u001b[39;00m\n\u001b[1;32m      6\u001b[0m     states\u001b[38;5;241m.\u001b[39mappend(_state1\u001b[38;5;241m.\u001b[39mtolist()) \n",
      "\u001b[0;31mValueError\u001b[0m: too many values to unpack (expected 4)"
     ]
    }
   ],
   "source": [
    "_state1 = env.reset()\n",
    "for t in range(1500):\n",
    "    _action = env.action_space.sample() \n",
    "    _state2, _reward, _done, _ = env.step(_action) \n",
    "    ## save code \n",
    "    states.append(_state1.tolist()) \n",
    "    actions.append(_action)\n",
    "    rewards.append(_reward)\n",
    "    next_states.append(_state2.tolist())\n",
    "    dones.append(_done)\n",
    "    ## save code end \n",
    "    _state1 = _state2 \n",
    "    if _done:\n",
    "        break"
   ]
  },
  {
   "cell_type": "markdown",
   "id": "68420ba4-13cf-4d28-b3ea-64fe03c66d81",
   "metadata": {},
   "source": [
    "`-` 모인 히스토리를 확인해보자. "
   ]
  },
  {
   "cell_type": "code",
   "execution_count": 13,
   "id": "58524369-1817-4ee5-84ae-b05dfb323b81",
   "metadata": {},
   "outputs": [
    {
     "data": {
      "text/plain": [
       "(116, 116, 116, 116, 116)"
      ]
     },
     "execution_count": 13,
     "metadata": {},
     "output_type": "execute_result"
    }
   ],
   "source": [
    "len(states), len(actions), len(next_states), len(rewards), len(dones)"
   ]
  },
  {
   "cell_type": "markdown",
   "id": "a81e3b4f-c5a0-45df-b547-020958dcc342",
   "metadata": {},
   "source": [
    "### Qnetwork 설계"
   ]
  },
  {
   "cell_type": "markdown",
   "id": "97ab0e14-7b6b-4ca1-b6ea-caeba1cf9578",
   "metadata": {},
   "source": [
    "`-` 네트워크의 목적: 내가 여기서 뭘 해야하는지 알려줘! = 내가 이 상태에서, 어떠한 액션을 해야하는지 알려줘 $\\to$ 8개의 상태를 입력으로 받으면 4개의 액션에 대한 좋은 정도를 숫자로 표현하는 어떠한 함수를 만들자. "
   ]
  },
  {
   "cell_type": "markdown",
   "id": "43e77ef3-03c3-4173-a8b0-c567ce44ddf3",
   "metadata": {},
   "source": [
    "`-` net 설계 "
   ]
  },
  {
   "cell_type": "code",
   "execution_count": 14,
   "id": "54860fb4-9cbd-4aab-9ce7-d716d07e0e7d",
   "metadata": {},
   "outputs": [
    {
     "data": {
      "text/plain": [
       "Sequential(\n",
       "  (0): Linear(in_features=8, out_features=128, bias=True)\n",
       "  (1): ReLU()\n",
       "  (2): Linear(in_features=128, out_features=64, bias=True)\n",
       "  (3): ReLU()\n",
       "  (4): Linear(in_features=64, out_features=32, bias=True)\n",
       "  (5): ReLU()\n",
       "  (6): Linear(in_features=32, out_features=4, bias=True)\n",
       ")"
      ]
     },
     "execution_count": 14,
     "metadata": {},
     "output_type": "execute_result"
    }
   ],
   "source": [
    "net = torch.nn.Sequential(\n",
    "    torch.nn.Linear(in_features=8, out_features=128),\n",
    "    torch.nn.ReLU(),\n",
    "    torch.nn.Linear(in_features=128, out_features=64),\n",
    "    torch.nn.ReLU(),\n",
    "    torch.nn.Linear(in_features=64, out_features=32),\n",
    "    torch.nn.ReLU(),\n",
    "    torch.nn.Linear(in_features=32, out_features=4)\n",
    ")\n",
    "net"
   ]
  },
  {
   "cell_type": "code",
   "execution_count": 15,
   "id": "ab62e365-d629-42c6-91e0-f492ff3a99d0",
   "metadata": {},
   "outputs": [
    {
     "data": {
      "text/plain": [
       "tensor([[ 0.1159, -0.1567, -0.1098, -0.1431],\n",
       "        [ 0.1156, -0.1568, -0.1101, -0.1433],\n",
       "        [ 0.1161, -0.1562, -0.1095, -0.1434],\n",
       "        [ 0.1152, -0.1559, -0.1102, -0.1450],\n",
       "        [ 0.1151, -0.1553, -0.1102, -0.1457],\n",
       "        [ 0.1141, -0.1548, -0.1108, -0.1468],\n",
       "        [ 0.1134, -0.1542, -0.1112, -0.1476],\n",
       "        [ 0.1133, -0.1537, -0.1111, -0.1480],\n",
       "        [ 0.1141, -0.1530, -0.1105, -0.1479],\n",
       "        [ 0.1140, -0.1525, -0.1104, -0.1483],\n",
       "        [ 0.1137, -0.1526, -0.1107, -0.1482],\n",
       "        [ 0.1143, -0.1520, -0.1102, -0.1482],\n",
       "        [ 0.1134, -0.1515, -0.1108, -0.1492],\n",
       "        [ 0.1134, -0.1510, -0.1108, -0.1497],\n",
       "        [ 0.1125, -0.1506, -0.1113, -0.1507],\n",
       "        [ 0.1118, -0.1501, -0.1118, -0.1515],\n",
       "        [ 0.1117, -0.1502, -0.1115, -0.1516],\n",
       "        [ 0.1117, -0.1495, -0.1114, -0.1520],\n",
       "        [ 0.1114, -0.1487, -0.1117, -0.1528],\n",
       "        [ 0.1115, -0.1480, -0.1116, -0.1531],\n",
       "        [ 0.1121, -0.1476, -0.1110, -0.1530],\n",
       "        [ 0.1117, -0.1468, -0.1115, -0.1537],\n",
       "        [ 0.1114, -0.1477, -0.1112, -0.1532],\n",
       "        [ 0.1111, -0.1469, -0.1117, -0.1539],\n",
       "        [ 0.1117, -0.1464, -0.1110, -0.1538],\n",
       "        [ 0.1117, -0.1459, -0.1110, -0.1540],\n",
       "        [ 0.1116, -0.1465, -0.1105, -0.1538],\n",
       "        [ 0.1115, -0.1466, -0.1104, -0.1537],\n",
       "        [ 0.1112, -0.1457, -0.1108, -0.1543],\n",
       "        [ 0.1112, -0.1451, -0.1105, -0.1545],\n",
       "        [ 0.1111, -0.1440, -0.1104, -0.1550],\n",
       "        [ 0.1112, -0.1432, -0.1100, -0.1551],\n",
       "        [ 0.1113, -0.1423, -0.1095, -0.1551],\n",
       "        [ 0.1115, -0.1409, -0.1091, -0.1559],\n",
       "        [ 0.1117, -0.1394, -0.1087, -0.1567],\n",
       "        [ 0.1117, -0.1384, -0.1079, -0.1566],\n",
       "        [ 0.1114, -0.1390, -0.1078, -0.1561],\n",
       "        [ 0.1115, -0.1376, -0.1070, -0.1567],\n",
       "        [ 0.1115, -0.1365, -0.1061, -0.1566],\n",
       "        [ 0.1116, -0.1357, -0.1052, -0.1561],\n",
       "        [ 0.1115, -0.1359, -0.1050, -0.1558],\n",
       "        [ 0.1115, -0.1348, -0.1042, -0.1559],\n",
       "        [ 0.1122, -0.1331, -0.1035, -0.1566],\n",
       "        [ 0.1117, -0.1328, -0.1027, -0.1562],\n",
       "        [ 0.1107, -0.1323, -0.1018, -0.1553],\n",
       "        [ 0.1106, -0.1332, -0.1018, -0.1549],\n",
       "        [ 0.1100, -0.1325, -0.1007, -0.1544],\n",
       "        [ 0.1106, -0.1310, -0.1002, -0.1549],\n",
       "        [ 0.1102, -0.1301, -0.0991, -0.1546],\n",
       "        [ 0.1102, -0.1299, -0.0987, -0.1545],\n",
       "        [ 0.1103, -0.1292, -0.0975, -0.1542],\n",
       "        [ 0.1110, -0.1281, -0.0974, -0.1550],\n",
       "        [ 0.1105, -0.1286, -0.0960, -0.1549],\n",
       "        [ 0.1112, -0.1276, -0.0959, -0.1558],\n",
       "        [ 0.1114, -0.1269, -0.0947, -0.1556],\n",
       "        [ 0.1118, -0.1261, -0.0940, -0.1560],\n",
       "        [ 0.1122, -0.1252, -0.0933, -0.1563],\n",
       "        [ 0.1126, -0.1244, -0.0926, -0.1567],\n",
       "        [ 0.1125, -0.1243, -0.0910, -0.1571],\n",
       "        [ 0.1122, -0.1251, -0.0904, -0.1571],\n",
       "        [ 0.1120, -0.1254, -0.0892, -0.1573],\n",
       "        [ 0.1122, -0.1246, -0.0881, -0.1573],\n",
       "        [ 0.1125, -0.1245, -0.0870, -0.1577],\n",
       "        [ 0.1130, -0.1237, -0.0871, -0.1588],\n",
       "        [ 0.1131, -0.1239, -0.0869, -0.1590],\n",
       "        [ 0.1133, -0.1236, -0.0863, -0.1599],\n",
       "        [ 0.1135, -0.1232, -0.0857, -0.1608],\n",
       "        [ 0.1138, -0.1229, -0.0850, -0.1618],\n",
       "        [ 0.1140, -0.1226, -0.0841, -0.1626],\n",
       "        [ 0.1139, -0.1232, -0.0834, -0.1631],\n",
       "        [ 0.1138, -0.1234, -0.0817, -0.1634],\n",
       "        [ 0.1146, -0.1225, -0.0817, -0.1645],\n",
       "        [ 0.1156, -0.1217, -0.0819, -0.1655],\n",
       "        [ 0.1155, -0.1217, -0.0798, -0.1668],\n",
       "        [ 0.1159, -0.1213, -0.0792, -0.1675],\n",
       "        [ 0.1165, -0.1209, -0.0798, -0.1681],\n",
       "        [ 0.1163, -0.1210, -0.0783, -0.1690],\n",
       "        [ 0.1166, -0.1208, -0.0777, -0.1695],\n",
       "        [ 0.1163, -0.1207, -0.0760, -0.1699],\n",
       "        [ 0.1162, -0.1206, -0.0745, -0.1704],\n",
       "        [ 0.1164, -0.1207, -0.0741, -0.1708],\n",
       "        [ 0.1164, -0.1204, -0.0727, -0.1713],\n",
       "        [ 0.1160, -0.1211, -0.0719, -0.1717],\n",
       "        [ 0.1158, -0.1211, -0.0706, -0.1720],\n",
       "        [ 0.1160, -0.1213, -0.0700, -0.1723],\n",
       "        [ 0.1166, -0.1211, -0.0706, -0.1727],\n",
       "        [ 0.1172, -0.1210, -0.0711, -0.1730],\n",
       "        [ 0.1171, -0.1216, -0.0696, -0.1732],\n",
       "        [ 0.1173, -0.1218, -0.0691, -0.1734],\n",
       "        [ 0.1175, -0.1220, -0.0686, -0.1734],\n",
       "        [ 0.1177, -0.1222, -0.0682, -0.1734],\n",
       "        [ 0.1176, -0.1224, -0.0669, -0.1731],\n",
       "        [ 0.1182, -0.1225, -0.0676, -0.1733],\n",
       "        [ 0.1187, -0.1225, -0.0679, -0.1734],\n",
       "        [ 0.1189, -0.1227, -0.0675, -0.1733],\n",
       "        [ 0.1193, -0.1227, -0.0672, -0.1733],\n",
       "        [ 0.1195, -0.1228, -0.0669, -0.1733],\n",
       "        [ 0.1195, -0.1230, -0.0666, -0.1733],\n",
       "        [ 0.1200, -0.1229, -0.0674, -0.1734],\n",
       "        [ 0.1197, -0.1228, -0.0667, -0.1739],\n",
       "        [ 0.1194, -0.1232, -0.0659, -0.1737],\n",
       "        [ 0.1190, -0.1236, -0.0649, -0.1739],\n",
       "        [ 0.1199, -0.1232, -0.0661, -0.1741],\n",
       "        [ 0.1205, -0.1230, -0.0663, -0.1743],\n",
       "        [ 0.1223, -0.1225, -0.0675, -0.1742],\n",
       "        [ 0.1227, -0.1224, -0.0676, -0.1740],\n",
       "        [ 0.1234, -0.1222, -0.0670, -0.1749],\n",
       "        [ 0.1242, -0.1221, -0.0671, -0.1747],\n",
       "        [ 0.1250, -0.1220, -0.0672, -0.1744],\n",
       "        [ 0.1250, -0.1225, -0.0665, -0.1742],\n",
       "        [ 0.1266, -0.1217, -0.0677, -0.1740],\n",
       "        [ 0.1282, -0.1211, -0.0676, -0.1748],\n",
       "        [ 0.1297, -0.1203, -0.0687, -0.1744],\n",
       "        [ 0.1407, -0.1144, -0.0539, -0.1827],\n",
       "        [ 0.1454, -0.1127, -0.0571, -0.1802],\n",
       "        [ 0.2541, -0.0678, -0.1365, -0.2192]], grad_fn=<AddmmBackward0>)"
      ]
     },
     "execution_count": 15,
     "metadata": {},
     "output_type": "execute_result"
    }
   ],
   "source": [
    "net(torch.tensor(states))"
   ]
  },
  {
   "cell_type": "markdown",
   "id": "ab35b300-bc5a-43fb-8eeb-7e07dd08b37d",
   "metadata": {},
   "source": [
    "### Policy 설계"
   ]
  },
  {
   "cell_type": "markdown",
   "id": "e9c015ad-930c-42bb-9f07-5d9a81e561c8",
   "metadata": {},
   "source": [
    "`-` 네트워크의 의미"
   ]
  },
  {
   "cell_type": "code",
   "execution_count": 16,
   "id": "78306592-ca58-4621-8e21-1acd4941278a",
   "metadata": {},
   "outputs": [
    {
     "data": {
      "text/plain": [
       "([-0.0028694153297692537,\n",
       "  1.4209814071655273,\n",
       "  -0.2906474471092224,\n",
       "  0.44716283679008484,\n",
       "  0.0033316602930426598,\n",
       "  0.06583605706691742,\n",
       "  0.0,\n",
       "  0.0],\n",
       " [-0.005824565887451172,\n",
       "  1.4311281442642212,\n",
       "  -0.29839688539505005,\n",
       "  0.4509572386741638,\n",
       "  0.006180517841130495,\n",
       "  0.05698297545313835,\n",
       "  0.0,\n",
       "  0.0])"
      ]
     },
     "execution_count": 16,
     "metadata": {},
     "output_type": "execute_result"
    }
   ],
   "source": [
    "states[0],states[1]"
   ]
  },
  {
   "cell_type": "code",
   "execution_count": 17,
   "id": "4ba397f6-33b6-429c-b718-321f69c1f765",
   "metadata": {},
   "outputs": [
    {
     "data": {
      "text/plain": [
       "tensor([[ 0.1159, -0.1567, -0.1098, -0.1431],\n",
       "        [ 0.1156, -0.1568, -0.1101, -0.1433]], grad_fn=<AddmmBackward0>)"
      ]
     },
     "execution_count": 17,
     "metadata": {},
     "output_type": "execute_result"
    }
   ],
   "source": [
    "net(torch.tensor(states[0:2]))"
   ]
  },
  {
   "cell_type": "markdown",
   "id": "8fd633a7-9707-4175-965a-e65650d94958",
   "metadata": {},
   "source": [
    "- 상태0에서는 액션0이, 상태1에서도 액션0이 가장 좋다는 의미 (왜? q-value가 젤 높으니까..)"
   ]
  },
  {
   "cell_type": "markdown",
   "id": "420d50d4-9c70-4abd-9ace-403ca0c5ce5c",
   "metadata": {},
   "source": [
    "`-` 따라서 Agent는 아래와 같이 행동해야 한다. (네트워크가 잘 학습되었다는 전제가 필요함) \n",
    "- state[0] -> action = 0 \n",
    "- state[1] -> action = 0 "
   ]
  },
  {
   "cell_type": "code",
   "execution_count": 18,
   "id": "5b630b0e-bf3b-48a3-bce5-7fd135237ef5",
   "metadata": {},
   "outputs": [
    {
     "data": {
      "text/plain": [
       "torch.return_types.max(\n",
       "values=tensor([0.1159, 0.1156], grad_fn=<MaxBackward0>),\n",
       "indices=tensor([0, 0]))"
      ]
     },
     "execution_count": 18,
     "metadata": {},
     "output_type": "execute_result"
    }
   ],
   "source": [
    "net(torch.tensor(states[0:2])).max(axis=1)"
   ]
  },
  {
   "cell_type": "code",
   "execution_count": 19,
   "id": "4cbfbbec-8253-46de-8a60-de5ae1bb8e19",
   "metadata": {},
   "outputs": [
    {
     "data": {
      "text/plain": [
       "tensor([0, 0])"
      ]
     },
     "execution_count": 19,
     "metadata": {},
     "output_type": "execute_result"
    }
   ],
   "source": [
    "net(torch.tensor(states[0:2])).max(axis=1)[1]"
   ]
  },
  {
   "cell_type": "markdown",
   "id": "de119acb-a57d-427c-bce9-43f85b80b9b7",
   "metadata": {},
   "source": [
    "`-` 네트워크가 있으므로 이제 어떠한 state에 대해서도 뭘 해야할지 (=어떤 액션을 해야할지) 알 수 있다. "
   ]
  },
  {
   "cell_type": "code",
   "execution_count": 20,
   "id": "5f604754-d57a-41b4-a1cb-387cd21a4311",
   "metadata": {},
   "outputs": [
    {
     "data": {
      "text/plain": [
       "array([-0.04434567, -0.00875275,  0.42108542,  0.08506536, -1.7435462 ,\n",
       "       -0.67104954,  1.        ,  0.        ], dtype=float32)"
      ]
     },
     "execution_count": 20,
     "metadata": {},
     "output_type": "execute_result"
    }
   ],
   "source": [
    "_state1 # 어떤 state에 대해서도.. "
   ]
  },
  {
   "cell_type": "code",
   "execution_count": 21,
   "id": "078f79b8-a357-4bea-be91-e7213beede86",
   "metadata": {},
   "outputs": [
    {
     "data": {
      "text/plain": [
       "tensor([ 0.1422, -0.1106, -0.0881, -0.1557], grad_fn=<AddBackward0>)"
      ]
     },
     "execution_count": 21,
     "metadata": {},
     "output_type": "execute_result"
    }
   ],
   "source": [
    "net(torch.tensor(_state1)) # q-value를 계산할 수 있고 "
   ]
  },
  {
   "cell_type": "code",
   "execution_count": 22,
   "id": "7beb3de0-1ead-4e15-b15d-4ca6be971d75",
   "metadata": {},
   "outputs": [
    {
     "data": {
      "text/plain": [
       "0"
      ]
     },
     "execution_count": 22,
     "metadata": {},
     "output_type": "execute_result"
    }
   ],
   "source": [
    "int(torch.argmax(net(torch.tensor(_state1)))) # 그래서 다음에 우리가 어떤행동을 해야할 지 알 수 있음"
   ]
  },
  {
   "cell_type": "markdown",
   "id": "5c2b955b-e3e9-477a-9134-1ef987bf4e2f",
   "metadata": {},
   "source": [
    "### 학습"
   ]
  },
  {
   "cell_type": "markdown",
   "id": "c6a10912-d2ce-4fca-a177-76c23a1ab623",
   "metadata": {},
   "source": [
    "`-` 네트워크를 학습시키자. "
   ]
  },
  {
   "cell_type": "code",
   "execution_count": 23,
   "id": "2c71eee5-de1f-41c9-ab1b-23a8ba923a18",
   "metadata": {},
   "outputs": [
    {
     "data": {
      "text/plain": [
       "Sequential(\n",
       "  (0): Linear(in_features=8, out_features=128, bias=True)\n",
       "  (1): ReLU()\n",
       "  (2): Linear(in_features=128, out_features=64, bias=True)\n",
       "  (3): ReLU()\n",
       "  (4): Linear(in_features=64, out_features=32, bias=True)\n",
       "  (5): ReLU()\n",
       "  (6): Linear(in_features=32, out_features=4, bias=True)\n",
       ")"
      ]
     },
     "execution_count": 23,
     "metadata": {},
     "output_type": "execute_result"
    }
   ],
   "source": [
    "net.to(\"cuda:0\")"
   ]
  },
  {
   "cell_type": "code",
   "execution_count": 24,
   "id": "9e0e9cba-2f10-4f55-bc0a-d20a6177725c",
   "metadata": {},
   "outputs": [],
   "source": [
    "scores=[]\n",
    "playtimes=[] \n",
    "eps = 1\n",
    "opt = torch.optim.Adam(net.parameters(),lr=0.0001)"
   ]
  },
  {
   "cell_type": "code",
   "execution_count": null,
   "id": "54ac5087-13fb-443b-8fe5-68e7a7fc774c",
   "metadata": {
    "tags": []
   },
   "outputs": [
    {
     "name": "stdout",
     "output_type": "stream",
     "text": [
      "Episode 94\tScore: -117.16\tPlaytime: 999.00"
     ]
    }
   ],
   "source": [
    "for epsd in range(1,2001): # 게임 2000판 시켜줌.. \n",
    "    state1 = env.reset() # 환경리셋 + 초기화된 환경을 state라는 변수에 저장 \n",
    "    score = 0 \n",
    "    for t in range(1000): # 게임1판당 max 1000프레임만 할 수 있음\n",
    "        # (step1) Agent: action \n",
    "        if np.random.rand() < eps: \n",
    "            action = env.action_space.sample() # 랜덤액션을 뽑음 \n",
    "        else:\n",
    "            action = int(torch.argmax(net(torch.tensor(state1).to(\"cuda:0\")))) # 네트워크가 알려주는 action을 뽑음 \n",
    "        \n",
    "        # (step2) Agent -> Env // Env -> Agent \n",
    "        state2, reward, done, _ = env.step(action) # 액션을 환경에 전달 -> (next_state, reward, done) 을 받음 \n",
    "        \n",
    "        # (step3) Agnet: save data and learn \n",
    "        ## save data \n",
    "        states.append(state1.tolist())\n",
    "        actions.append(action)\n",
    "        rewards.append(reward)\n",
    "        next_states.append(state2.tolist())\n",
    "        dones.append(done)\n",
    "    \n",
    "        ## 최근 5000개의 자료만 준비함. \n",
    "        if len(states)>5000:\n",
    "            _states = torch.tensor(states[-5000:])\n",
    "            _actions = torch.tensor(actions[-5000:]).reshape(-1,1)\n",
    "            _next_states = torch.tensor(next_states[-5000:])\n",
    "            _rewards = torch.tensor(rewards[-5000:]).reshape(-1,1)\n",
    "            _dones = torch.tensor(dones[-5000:]).to(torch.float).reshape(-1,1) \n",
    "        else:\n",
    "            _states = torch.tensor(states)\n",
    "            _actions = torch.tensor(actions).reshape(-1,1)\n",
    "            _next_states = torch.tensor(next_states)\n",
    "            _rewards = torch.tensor(rewards).reshape(-1,1)\n",
    "            _dones = torch.tensor(dones).to(torch.float).reshape(-1,1)\n",
    "\n",
    "        ## 최근 5000개의 자료에서 128개를 임의로 추출함. \n",
    "        _n = len(_states)\n",
    "        _index = np.random.choice(_n,128) # 128 is batch_size \n",
    "        _states = _states[_index]\n",
    "        _actions = _actions[_index]\n",
    "        _next_states = _next_states[_index]\n",
    "        _rewards = _rewards[_index]\n",
    "        _dones = _dones[_index]\n",
    "        \n",
    "        ## GPU로 이동 \n",
    "        _states = _states.to(\"cuda:0\")\n",
    "        _actions = _actions.to(\"cuda:0\")\n",
    "        _next_states = _next_states.to(\"cuda:0\")\n",
    "        _rewards = _rewards.to(\"cuda:0\")\n",
    "        _dones = _dones.to(\"cuda:0\")\n",
    "        \n",
    "        ## leanrn with pytorch \n",
    "        yhat = net(_states).gather(1,_actions) ## (s,a) -> q(s,a) // 내가 현재상태 state에서, 현재 action을 하여 얻을 것이라 예상하는 보상 (net가 알려주는) \n",
    "        y = _rewards + 0.99 * net(_next_states).detach().max(1)[0].reshape(-1,1)*(1-_dones) ## 그런데 실제로는 이게 맞다고 봐야지~ \n",
    "        loss = torch.mean((y-yhat)**2)\n",
    "        loss.backward()\n",
    "        \n",
    "        opt.step()\n",
    "        opt.zero_grad()\n",
    "\n",
    "        # (step4) Agent: prepare next steps \n",
    "        state1 = state2  \n",
    "        eps = max(0.05, 0.99*eps) \n",
    "        score += reward\n",
    "        \n",
    "        # terminate \n",
    "        if done:\n",
    "            scores.append(score)\n",
    "            playtimes.append(t)\n",
    "            break\n",
    "            \n",
    "    print('\\rEpisode {}\\tScore: {:.2f}\\tPlaytime: {:.2f}'.format(epsd, scores[-1],playtimes[-1]), end=\"\")\n",
    "    if epsd % 100 == 0:\n",
    "        print('\\rEpisode {}\\tScore: {:.2f}\\tPlaytime: {:.2f}'.format(epsd, np.mean(scores[-100:]),np.mean(playtimes[-100])))"
   ]
  }
 ],
 "metadata": {
  "kernelspec": {
   "display_name": "Python 3 (ipykernel)",
   "language": "python",
   "name": "python3"
  },
  "language_info": {
   "codemirror_mode": {
    "name": "ipython",
    "version": 3
   },
   "file_extension": ".py",
   "mimetype": "text/x-python",
   "name": "python",
   "nbconvert_exporter": "python",
   "pygments_lexer": "ipython3",
   "version": "3.11.4"
  }
 },
 "nbformat": 4,
 "nbformat_minor": 5
}
