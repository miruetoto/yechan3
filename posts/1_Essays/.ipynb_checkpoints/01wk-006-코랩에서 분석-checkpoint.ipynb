{
 "cells": [
  {
   "cell_type": "raw",
   "id": "f4d6794b-f357-483e-a32a-7c0b9dca09f8",
   "metadata": {},
   "source": [
    "---\n",
    "title: \"01wk-02: 캐글데이터 다운로드\"\n",
    "author: \"최규빈\"\n",
    "date: \"09/04/2023\"\n",
    "bibliography: mpref.bib\n",
    "---"
   ]
  },
  {
   "cell_type": "markdown",
   "id": "73f4921d-e8e3-4596-8c40-3009ec18253f",
   "metadata": {},
   "source": [
    "# 방법1: 직접 다운로드"
   ]
  },
  {
   "cell_type": "code",
   "execution_count": null,
   "id": "24b8cb2f-f14f-480b-affe-8fb61f8dfaca",
   "metadata": {},
   "outputs": [],
   "source": []
  },
  {
   "cell_type": "markdown",
   "id": "41915867-8a2a-4d60-a50b-10bc09e407bf",
   "metadata": {},
   "source": [
    "# 방법2: kaggle token 을 이용하는 방법 "
   ]
  },
  {
   "cell_type": "markdown",
   "id": "4484d6c4-5703-4385-9088-708fce3a63ff",
   "metadata": {},
   "source": [
    "## Step1"
   ]
  },
  {
   "cell_type": "markdown",
   "id": "b69d0595-aa7f-4fad-9f05-462d874b86bf",
   "metadata": {},
   "source": [
    "`-` 계정페이지 <https://www.kaggle.com/settings/account> $\\to$ API $\\to$ Create New Token"
   ]
  },
  {
   "cell_type": "markdown",
   "id": "7192128a-2f46-4c7f-a834-de177b95e543",
   "metadata": {},
   "source": [
    "## Step2 "
   ]
  },
  {
   "cell_type": "markdown",
   "id": "028814fc-0587-4f74-9aaf-5718890c2c66",
   "metadata": {},
   "source": [
    "`-` 다운로드한 `kaggle.json` 파일을 업로드 "
   ]
  },
  {
   "cell_type": "markdown",
   "id": "1c0ce376-bd59-4797-9ff0-3063810a6977",
   "metadata": {},
   "source": [
    "## Step3 "
   ]
  },
  {
   "cell_type": "markdown",
   "id": "233d9fd7-a778-46f0-9cbb-bb86dbf89e2c",
   "metadata": {},
   "source": [
    "`-` 코랩에서 아래를 실행 "
   ]
  },
  {
   "cell_type": "code",
   "execution_count": 14,
   "id": "066087f4-ebdc-43ac-b14c-07a075eee981",
   "metadata": {},
   "outputs": [],
   "source": [
    "import os\n",
    "os.environ['KAGGLE_CONFIG_DIR'] = \".\""
   ]
  },
  {
   "cell_type": "code",
   "execution_count": 15,
   "id": "7ce8fd45-8aee-43eb-b6be-5142f00bd831",
   "metadata": {},
   "outputs": [
    {
     "name": "stdout",
     "output_type": "stream",
     "text": [
      "Warning: Your Kaggle API key is readable by other users on this system! To fix this, you can run 'chmod 600 ./kaggle.json'\n",
      "Downloading titanic.zip to /home/cgb2/Dropbox/03_yechan3/posts/1_Essays\n",
      "  0%|                                               | 0.00/34.1k [00:00<?, ?B/s]\n",
      "100%|██████████████████████████████████████| 34.1k/34.1k [00:00<00:00, 5.65MB/s]\n"
     ]
    }
   ],
   "source": [
    "!kaggle competitions download -c titanic"
   ]
  },
  {
   "cell_type": "code",
   "execution_count": 18,
   "id": "62e7516a-d1bd-43c0-bf2f-d1509a22ec58",
   "metadata": {},
   "outputs": [
    {
     "name": "stdout",
     "output_type": "stream",
     "text": [
      "Archive:  titanic.zip\n",
      "  inflating: ./data/gender_submission.csv  \n",
      "  inflating: ./data/test.csv         \n",
      "  inflating: ./data/train.csv        \n"
     ]
    }
   ],
   "source": [
    "!unzip titanic.zip -d ./data"
   ]
  },
  {
   "cell_type": "code",
   "execution_count": 17,
   "id": "9e00a6b6-a70d-426b-b1d8-a3c2ca0a2efe",
   "metadata": {},
   "outputs": [
    {
     "name": "stdout",
     "output_type": "stream",
     "text": [
      "rm: cannot remove 'bike-sharing-demand.zip': No such file or directory\n"
     ]
    }
   ],
   "source": [
    "!rm bike-sharing-demand.zip\n",
    "!rm -rf data"
   ]
  },
  {
   "cell_type": "code",
   "execution_count": 9,
   "id": "33e6625d-a563-410e-bf42-264c6f0d4686",
   "metadata": {},
   "outputs": [
    {
     "name": "stdout",
     "output_type": "stream",
     "text": [
      "sampleSubmission.csv  test.csv\ttrain.csv\n"
     ]
    }
   ],
   "source": [
    "!ls ./data "
   ]
  },
  {
   "cell_type": "markdown",
   "id": "2deeb08b-f2a9-4055-8e97-8f9099dd1cfb",
   "metadata": {},
   "source": [
    "# 방법1: 직접 다운로드"
   ]
  },
  {
   "cell_type": "code",
   "execution_count": null,
   "id": "ed0159ce-1cf0-436a-b099-d9c141ef9970",
   "metadata": {},
   "outputs": [],
   "source": []
  },
  {
   "cell_type": "markdown",
   "id": "e7b4dc0e-3a11-4390-ac2f-2b7a0201a3dd",
   "metadata": {},
   "source": [
    "# 방법2: kaggle token 을 이용하는 방법 "
   ]
  },
  {
   "cell_type": "markdown",
   "id": "6effd658-55de-4228-8242-47c342577f76",
   "metadata": {},
   "source": [
    "## Step1"
   ]
  },
  {
   "cell_type": "markdown",
   "id": "41d7e290-fb2c-4bba-8c51-c1c80fe9dfb6",
   "metadata": {},
   "source": [
    "`-` 계정페이지 <https://www.kaggle.com/settings/account> $\\to$ API $\\to$ Create New Token"
   ]
  },
  {
   "cell_type": "markdown",
   "id": "dbff1e4e-21f8-496e-8b15-a1ae1998cc04",
   "metadata": {},
   "source": [
    "## Step2 "
   ]
  },
  {
   "cell_type": "markdown",
   "id": "cdc70ba2-ad22-4e24-ade8-5b447216bd02",
   "metadata": {},
   "source": [
    "`-` 다운로드한 `kaggle.json` 파일을 업로드 "
   ]
  },
  {
   "cell_type": "markdown",
   "id": "5a893034-0c6c-4a73-bd4f-b211348df4f9",
   "metadata": {},
   "source": [
    "## Step3 "
   ]
  },
  {
   "cell_type": "markdown",
   "id": "99cd76e1-6efe-4853-97e3-76809ad1b993",
   "metadata": {},
   "source": [
    "`-` 코랩에서 아래를 실행 "
   ]
  },
  {
   "cell_type": "code",
   "execution_count": 14,
   "id": "faf16987-5773-4066-8144-6abb46ed2a93",
   "metadata": {},
   "outputs": [],
   "source": [
    "import os\n",
    "os.environ['KAGGLE_CONFIG_DIR'] = \".\""
   ]
  },
  {
   "cell_type": "code",
   "execution_count": 15,
   "id": "89a660ef-147c-4de8-9c97-fea6798c2ea2",
   "metadata": {},
   "outputs": [
    {
     "name": "stdout",
     "output_type": "stream",
     "text": [
      "Warning: Your Kaggle API key is readable by other users on this system! To fix this, you can run 'chmod 600 ./kaggle.json'\n",
      "Downloading titanic.zip to /home/cgb2/Dropbox/03_yechan3/posts/1_Essays\n",
      "  0%|                                               | 0.00/34.1k [00:00<?, ?B/s]\n",
      "100%|██████████████████████████████████████| 34.1k/34.1k [00:00<00:00, 5.65MB/s]\n"
     ]
    }
   ],
   "source": [
    "!kaggle competitions download -c titanic"
   ]
  },
  {
   "cell_type": "code",
   "execution_count": 18,
   "id": "253b2728-34c2-4745-94ba-12e86e0b6595",
   "metadata": {},
   "outputs": [
    {
     "name": "stdout",
     "output_type": "stream",
     "text": [
      "Archive:  titanic.zip\n",
      "  inflating: ./data/gender_submission.csv  \n",
      "  inflating: ./data/test.csv         \n",
      "  inflating: ./data/train.csv        \n"
     ]
    }
   ],
   "source": [
    "!unzip titanic.zip -d ./data"
   ]
  },
  {
   "cell_type": "code",
   "execution_count": 17,
   "id": "03fcb034-d7cf-4144-af41-b4c1e926429f",
   "metadata": {},
   "outputs": [
    {
     "name": "stdout",
     "output_type": "stream",
     "text": [
      "rm: cannot remove 'bike-sharing-demand.zip': No such file or directory\n"
     ]
    }
   ],
   "source": [
    "!rm bike-sharing-demand.zip\n",
    "!rm -rf data"
   ]
  },
  {
   "cell_type": "code",
   "execution_count": 9,
   "id": "f76e1eb6-aff6-4bf7-a693-fb73ff563aa2",
   "metadata": {},
   "outputs": [
    {
     "name": "stdout",
     "output_type": "stream",
     "text": [
      "sampleSubmission.csv  test.csv\ttrain.csv\n"
     ]
    }
   ],
   "source": [
    "!ls ./data "
   ]
  }
 ],
 "metadata": {
  "kernelspec": {
   "display_name": "Python 3 (ipykernel)",
   "language": "python",
   "name": "python3"
  },
  "language_info": {
   "codemirror_mode": {
    "name": "ipython",
    "version": 3
   },
   "file_extension": ".py",
   "mimetype": "text/x-python",
   "name": "python",
   "nbconvert_exporter": "python",
   "pygments_lexer": "ipython3",
   "version": "3.11.4"
  }
 },
 "nbformat": 4,
 "nbformat_minor": 5
}
