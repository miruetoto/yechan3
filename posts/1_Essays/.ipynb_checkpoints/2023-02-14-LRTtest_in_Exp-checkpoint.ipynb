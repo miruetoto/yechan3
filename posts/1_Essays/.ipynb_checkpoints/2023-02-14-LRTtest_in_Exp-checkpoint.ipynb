{
 "cells": [
  {
   "cell_type": "raw",
   "id": "da45d05b-c050-4e84-a980-f831241a021b",
   "metadata": {},
   "source": [
    "---\n",
    "title: \"검정: 지수분포의 평균검정\"\n",
    "author: \"신록예찬\"\n",
    "date: \"01/12/2023\"\n",
    "---"
   ]
  },
  {
   "cell_type": "code",
   "execution_count": 1,
   "id": "1e578631-fab3-4137-b4b0-9e17e9f75d9a",
   "metadata": {},
   "outputs": [],
   "source": [
    "using Distributions"
   ]
  },
  {
   "cell_type": "markdown",
   "id": "5ad5eb66-8a56-4ada-9caf-07ff6602a508",
   "metadata": {},
   "source": [
    "다음의 분포를 따르는 \n",
    "\n",
    "- $f(x; \\theta) = \\theta \\exp (-x\\theta )I(x>0)$\n",
    "\n",
    "모집단으로부터 랜덤표본 $X_1,\\dots,X_n$을 이용하여 $\\theta$에 대한 신뢰구간을 구하고, 다음 가설 \n",
    "\n",
    "- $H_0: \\theta = \\theta_0$ vs $H_1:\\theta \\neq \\theta_0$\n",
    "\n",
    "을 검정하고자 한다. 다음에 답하라. "
   ]
  },
  {
   "cell_type": "markdown",
   "id": "3c2a80dd-f8f3-401a-8a97-94b7dff898e8",
   "metadata": {},
   "source": [
    "**(a)** $\\theta$에 대한 적절한 추축변량을 구하고, 해당 추축변량의 분포를 명시하라. "
   ]
  },
  {
   "cell_type": "markdown",
   "id": "57a8ef41-86b7-4e03-95c3-601be1a2eae8",
   "metadata": {},
   "source": [
    "(풀이)"
   ]
  },
  {
   "cell_type": "markdown",
   "id": "1769af5b-13ba-468c-b03f-68cd9b867433",
   "metadata": {},
   "source": [
    "추축변량은 $2n\\bar{X}\\theta$ 이며 분포는 자유도가 $2n$인 카이제곱분포를 따름. 왜냐하면 "
   ]
  },
  {
   "cell_type": "markdown",
   "id": "99dfbcfd-3306-4c61-b9a8-5762523eb3b3",
   "metadata": {},
   "source": [
    "- $X_1 \\sim \\text{Exp}$ with mean $1/\\theta$\n",
    "- $2X_1\\theta \\sim \\text{Exp}$ with mean $2$\n",
    "- $2n\\bar{X}\\theta \\sim \\chi^2(2n)$ (왜? 평균이2인 지수분포를 $n$번 더하면 자유도가 $2n$인 카이제곱분포가 되므로. [참고](https://guebin.github.io/SC2022/0419.html))"
   ]
  },
  {
   "cell_type": "markdown",
   "id": "aa2e93c5-1422-4d5b-b659-f181f4c4c432",
   "metadata": {},
   "source": [
    "이기 떄문에."
   ]
  },
  {
   "cell_type": "markdown",
   "id": "7e5bf8cd-cf19-48e9-a502-d0136ce3f8da",
   "metadata": {},
   "source": [
    "**(b)** $\\theta$에 대한 95% 신뢰구간을 구하라. "
   ]
  },
  {
   "cell_type": "markdown",
   "id": "e5c8ee82-dbc9-40fa-84a7-8af97b5401f5",
   "metadata": {},
   "source": [
    "(풀이)"
   ]
  },
  {
   "cell_type": "markdown",
   "id": "45338beb-560a-4616-b6e5-996c0ab40a9d",
   "metadata": {},
   "source": [
    "$P\\left(\\chi^2_{0.025}(2n) \\leq 2n\\bar{X}\\theta \\leq \\chi^2_{0.975}(2n) \\right) =0.95$ "
   ]
  },
  {
   "cell_type": "markdown",
   "id": "8c60f520-ea8b-4146-a299-f9b4248a8feb",
   "metadata": {},
   "source": [
    "Thus the CI of $\\theta$: $\\left(\\frac{\\chi^2_{0.025}(2n)}{2n\\bar{X}},\\frac{\\chi^2_{0.975}(2n)}{2n\\bar{X}} \\right)$"
   ]
  },
  {
   "cell_type": "markdown",
   "id": "c5c7cf78-4d23-45ba-b708-ab45846aaa0b",
   "metadata": {},
   "source": [
    "**(c)** $P(X>1)$에 대한 95% 신뢰구간 "
   ]
  },
  {
   "cell_type": "markdown",
   "id": "edf6357b-651b-45c1-9cb7-7e43d1b19587",
   "metadata": {},
   "source": [
    "(풀이)"
   ]
  },
  {
   "cell_type": "markdown",
   "id": "5c7acfe7-1d33-44b8-9580-c95125cc05e5",
   "metadata": {},
   "source": [
    "$P(X>1) = \\int_{1}^{\\infty}\\theta \\exp(-x\\theta)dx =\\left[e^{-x\\theta} \\right]_1^{\\infty}=e^{-\\theta}$"
   ]
  },
  {
   "cell_type": "markdown",
   "id": "b4aa543b-459e-4338-9df1-9327b31f66c6",
   "metadata": {},
   "source": [
    "\n",
    "Thus the CI of $P(X>1)$: $\\left(\\exp\\big(-\\frac{\\chi^2_{0.975}(2n)}{2n\\bar{X}}\\big),\\exp\\big(-\\frac{\\chi^2_{0.025}(2n)}{2n\\bar{X}}\\big) \\right)$"
   ]
  },
  {
   "cell_type": "markdown",
   "id": "def014df-0d49-4524-a36f-fa805d289ea3",
   "metadata": {},
   "source": [
    "**(d)** "
   ]
  },
  {
   "cell_type": "markdown",
   "id": "cdb0c916-612f-4042-94ea-dd11c084b21f",
   "metadata": {},
   "source": [
    "$\\Omega = \\{\\theta: \\theta>0\\}$, $\\Omega_0 =\\{2\\}$"
   ]
  },
  {
   "cell_type": "markdown",
   "id": "227e1f6a-d012-434b-8a2f-72646d87acc3",
   "metadata": {},
   "source": [
    "**(e)** $\\theta$의 가능도 함수를 기술하시오 "
   ]
  },
  {
   "cell_type": "markdown",
   "id": "55fd7462-f1a6-4b5a-8bc1-f8aa4cf35484",
   "metadata": {},
   "source": [
    "(풀이)"
   ]
  },
  {
   "cell_type": "markdown",
   "id": "d0588b22-d976-4727-a221-6ff7377dab54",
   "metadata": {},
   "source": [
    "$L(\\theta)=\\theta^n\\exp(-\\theta n\\bar{x})$"
   ]
  },
  {
   "cell_type": "markdown",
   "id": "956ff41b-b854-474c-80ab-fa15e54e1ae3",
   "metadata": {},
   "source": [
    "**(f)** $\\theta$의 $\\Omega$에서의 최대가능도 추정량과 $\\Omega_0$에서의 최대가능도 추정량을 구하시오 "
   ]
  },
  {
   "cell_type": "markdown",
   "id": "19c22182-9556-4e17-a984-4df64fb6ca73",
   "metadata": {},
   "source": [
    "(풀이)"
   ]
  },
  {
   "cell_type": "markdown",
   "id": "b595b998-52fc-474d-a9ad-10ed6dd1fea6",
   "metadata": {},
   "source": [
    "$\\hat{\\theta}^{\\Omega}=1/\\bar{x}$, $\\hat{\\theta}^{\\Omega_0}=\\theta_0$"
   ]
  },
  {
   "cell_type": "markdown",
   "id": "aedacfe4-aa21-4ac4-a489-c36759282414",
   "metadata": {},
   "source": [
    "**(g)** 일반화 가능도 비^[이게 뭐지..?] $\\Lambda$를 구하시오. "
   ]
  },
  {
   "cell_type": "markdown",
   "id": "c93dac1f-ad12-404d-a5be-e1eb230bbfe3",
   "metadata": {},
   "source": [
    "(풀이)"
   ]
  },
  {
   "cell_type": "markdown",
   "id": "74d70fda-a124-4610-8724-5ecf9eaacff4",
   "metadata": {},
   "source": [
    "$\\frac{L\\big(\\hat{\\theta}^{\\Omega}\\big)}{L\\big(\\hat{\\theta}^{\\Omega_0}\\big)}=\\frac{1/\\bar{x}^n\\exp(-n)}{\\theta_0^n\\exp(-\\theta_0n\\bar{x})}$"
   ]
  },
  {
   "cell_type": "markdown",
   "id": "45ca0f7d-43d3-4994-9385-d4df21ee194b",
   "metadata": {},
   "source": [
    "**(h)** 유의수준 $\\alpha$의 가능도비 검정법의 기각역을 $\\chi^2$의 분위수를 사용하여 표현하시오."
   ]
  },
  {
   "cell_type": "markdown",
   "id": "e684be87-1e56-49d8-849f-a5642385d729",
   "metadata": {},
   "source": [
    "(풀이)"
   ]
  },
  {
   "cell_type": "markdown",
   "id": "ca1c2096-d213-4629-8f0b-df12936f2495",
   "metadata": {},
   "source": [
    "기각역의 형태는 아래와 같이 주어진다. "
   ]
  }
 ],
 "metadata": {
  "kernelspec": {
   "display_name": "Julia 1.8.5",
   "language": "julia",
   "name": "julia-1.8"
  },
  "language_info": {
   "file_extension": ".jl",
   "mimetype": "application/julia",
   "name": "julia",
   "version": "1.8.5"
  }
 },
 "nbformat": 4,
 "nbformat_minor": 5
}
