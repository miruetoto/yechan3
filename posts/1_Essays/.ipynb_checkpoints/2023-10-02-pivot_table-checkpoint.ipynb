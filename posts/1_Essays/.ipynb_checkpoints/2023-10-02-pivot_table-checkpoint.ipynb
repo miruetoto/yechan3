{
 "cells": [
  {
   "cell_type": "markdown",
   "id": "7dd9137e-1f63-4176-9113-78f9c79d5199",
   "metadata": {},
   "source": [
    "# **[Essays]** ggraph\n",
    "\n",
    "신록예찬  \n",
    "2023-09-24\n",
    "\n",
    "# Imports"
   ]
  },
  {
   "cell_type": "code",
   "execution_count": null,
   "id": "ff6c2ba8-51de-4038-8db2-52c3157484e2",
   "metadata": {},
   "outputs": [],
   "source": []
  }
 ],
 "metadata": {
  "kernelspec": {
   "display_name": "Python 3 (ipykernel)",
   "language": "python",
   "name": "python3"
  },
  "language_info": {
   "codemirror_mode": {
    "name": "ipython",
    "version": 3
   },
   "file_extension": ".py",
   "mimetype": "text/x-python",
   "name": "python",
   "nbconvert_exporter": "python",
   "pygments_lexer": "ipython3",
   "version": "3.10.13"
  }
 },
 "nbformat": 4,
 "nbformat_minor": 5
}
