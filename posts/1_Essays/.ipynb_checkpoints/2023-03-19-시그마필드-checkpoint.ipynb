{
 "cells": [
  {
   "cell_type": "raw",
   "id": "700eed9c-8649-4f78-bb4e-54acc2c928f3",
   "metadata": {},
   "source": [
    "---\n",
    "title: \"***시그마필드***\"\n",
    "author: \"신록예찬\"\n",
    "date: \"03/19/2023\"\n",
    "---"
   ]
  },
  {
   "cell_type": "markdown",
   "id": "1fab9700-f77a-4f0e-b8cd-793f32a07db3",
   "metadata": {},
   "source": [
    "# 확률 "
   ]
  },
  {
   "cell_type": "markdown",
   "id": "037acb0a-3e12-40b7-ba8e-3c9fd1d76e6b",
   "metadata": {},
   "source": [
    "`-` (지난시간요약) 바늘이 하나 있는 시계: $\\Omega$의 모든 부분집합에 대하여 확률을 (모순없이) 정의할 수 없음. \n",
    "\n",
    "- 몇 가지의 까다로운 질문들은 르벡측도라는 것으로 해결가능했음. $\\Leftrightarrow$ $\\Omega$의 대부분의 부분집합은 르벡측도로 \"길이\"라는 개념을 합리적으로 정의가능함. \n",
    "- 그런데 르벡측도로도 해결 불가능한 집합이 존재함. $\\Leftrightarrow$ $\\Omega$의 부분집합중 르벡측도로 \"길이\"라는 개념을 합리적으로 정의할 수 없음. "
   ]
  },
  {
   "cell_type": "markdown",
   "id": "74327625-46b5-4e2c-bcea-5a33319e95c9",
   "metadata": {},
   "source": [
    "`-` (이번시간에 할 것) $\\Omega$의 부분집합 중 잴 수 있는 집합에 한정하여 확률을 정의하자. \n",
    "\n",
    "- $\\Omega$의 모든 부분집합을 고려하는 것이 아니라, $\\Omega$의 부분집합 중 확률을^[혹은 길이나 크기따위를] 잘 정의할 수 있을 것 같은 새로운 집합들의 묶음 ${\\cal F}$를 고려하자. \n",
    "- 그리고 그 묶음 ${\\cal F}$가 합리적인지 따져보자. "
   ]
  },
  {
   "cell_type": "markdown",
   "id": "08de7279-f020-4761-a11f-1f7800eaa8de",
   "metadata": {},
   "source": [
    "**(예제1)**"
   ]
  },
  {
   "cell_type": "markdown",
   "id": "a9565c1e-5124-4522-86bf-dbceeff981a9",
   "metadata": {},
   "source": [
    "$\\Omega=\\{H,T\\}$라고 하자. 아래집합들은 모두 확률을 정의할 수 있는 집합들이다. \n",
    "\n",
    "$$\\emptyset, \\{H\\}, \\{T\\}, \\Omega$$ \n",
    "\n",
    "따라서 ${\\cal F}$을 아래와 같이 정의한다면 묶음 ${\\cal F}$가 합리적일 것이다. \n",
    "\n",
    "$${\\cal F}=\\big\\{\\emptyset, \\{H\\}, \\{T\\}, \\Omega\\big\\}$$ "
   ]
  },
  {
   "cell_type": "markdown",
   "id": "b716293e-5ef4-4606-9b09-e1cc8df81611",
   "metadata": {},
   "source": [
    "> 이때 ${\\cal F}$는 집합들의 집합인데, 이러한 집합을 collection 이라고 한다. "
   ]
  },
  {
   "cell_type": "markdown",
   "id": "c4709ffb-a4c0-4887-8064-8029e7a7808e",
   "metadata": {},
   "source": [
    "**(예제2)** "
   ]
  },
  {
   "cell_type": "markdown",
   "id": "41e1b06e-50e3-4ff8-b499-d6f8ba3a619f",
   "metadata": {},
   "source": [
    "$\\Omega=\\{H,T\\}$라고 하자. ${\\cal F}$을 아래와 같이 정의한다면 묶음 ${\\cal F}$는 합리적이지 않다. \n",
    "\n",
    "$${\\cal F}=\\big\\{\\emptyset, \\{H\\}, \\Omega\\big\\}$$ "
   ]
  },
  {
   "cell_type": "markdown",
   "id": "713574b1-f6c2-4369-ab09-d6854d2ac4dc",
   "metadata": {},
   "source": [
    "(해설1)"
   ]
  },
  {
   "cell_type": "markdown",
   "id": "8cbba6af-6a6c-4bc1-aacb-b0f51b2b0eae",
   "metadata": {},
   "source": [
    "이러한 묶음이 의미하는건 \"앞면이 나올 확률은 모순없이 정의할 수 있지만, 뒷면이 나오는 확률은 모순없이 정의하는게 불가능해~\" 라는 뜻이다. 그런데 뒷면이 나올 확률은 \"1-앞면이 나올 확률\" 로 모순없이 정의할 수 있으므로 \"앞면이 나올 확률이 모순없이 정의되면서\" 동시에 \"뒷면이 나올 확률이 모순없이 정의되지 않는\" 상황은 없다. "
   ]
  },
  {
   "cell_type": "markdown",
   "id": "cbf3c705-cedf-4f97-95a6-aae738a037e5",
   "metadata": {},
   "source": [
    "(해설2)"
   ]
  },
  {
   "cell_type": "markdown",
   "id": "411bf55e-c9f9-49e7-ac7f-a22213edbf29",
   "metadata": {},
   "source": [
    "$\\Omega$의 어떠한 부분집합 $A$에 확률이 모순없이 정의된다면 그 집합의 여집합인 $A^c$에 대하여서도 확률이 모순없이 정의되어야 한다. \n",
    "\n",
    "$\\Leftrightarrow$ $\\forall A \\subset {\\Omega}: ~ A \\in {\\cal F} \\Rightarrow A^c \\in {\\cal F}$"
   ]
  },
  {
   "cell_type": "markdown",
   "id": "2f82aab5-3e60-4fe1-917a-4dcb5b8c1997",
   "metadata": {},
   "source": [
    "**(예제3)** "
   ]
  },
  {
   "cell_type": "markdown",
   "id": "58017d88-3751-4354-9246-db5e0e49077b",
   "metadata": {},
   "source": [
    "$\\Omega=\\{H,T\\}$라고 하자. ${\\cal F}$을 아래와 같이 정의한다면 묶음 ${\\cal F}$는 합리적이지 않다. \n",
    "\n",
    "$${\\cal F}=\\big\\{ \\{H\\}, \\{T\\}, \\Omega\\big\\}$$ "
   ]
  },
  {
   "cell_type": "markdown",
   "id": "9d06aa5c-620c-4494-be3a-53054c480d84",
   "metadata": {},
   "source": [
    "(해설)"
   ]
  },
  {
   "cell_type": "markdown",
   "id": "4a47d4f5-d2a5-47a8-a5a3-1c62ee33c223",
   "metadata": {},
   "source": [
    "전체집합의 확률은 $P(\\Omega)=1$로 정의할 수 있다. 그런데 전체집합의 여집합인 공집합의 확률을 정의할 수 없는건 말이 안되므로 공집합은 $\\cal F$에 포함되어야 한다. "
   ]
  },
  {
   "cell_type": "markdown",
   "id": "e2c2c4a8-f985-4a9b-aa6b-eacf2a1125f9",
   "metadata": {},
   "source": [
    "**(예제4)** "
   ]
  },
  {
   "cell_type": "markdown",
   "id": "6bb4f957-cf00-4218-8d7e-302e80d522fa",
   "metadata": {},
   "source": [
    "$\\Omega=\\{1,2,3,4,5,6\\}$이라고 하자. ${\\cal F}$을 아래와 같이 정의한다고 하자. 이러한 묶음은 ${\\cal F}$은 합리적이다. \n",
    "\n",
    "$${\\cal F}=\\text{all subset of $\\Omega$}= 2^\\Omega = \\big\\{ \\emptyset, \\{1\\}, \\{2\\}, \\dots, \\{6\\}, \\dots, \\{1,2,3,4,5\\} \\dots \\Omega\\big\\}$$ "
   ]
  },
  {
   "cell_type": "markdown",
   "id": "4ff57e78-1b27-4acc-9190-87b7e9bf2429",
   "metadata": {},
   "source": [
    "(해설)"
   ]
  },
  {
   "cell_type": "markdown",
   "id": "21524e7c-08bb-4d08-b719-d2d2670f3f09",
   "metadata": {},
   "source": [
    "$\\Omega$의 모든 부분집합에 대하여 확률을 모순없이 정의할 수 있다. 예를들면 \n",
    "\n",
    "- $P(\\Omega)=1$, $P(\\emptyset)=0$ \n",
    "- $P(\\{1\\})=\\frac{1}{6}$\n",
    "- $P(\\{1,2,4\\})=\\frac{3}{6}$\n",
    "- $P(\\{2,3,4,5,6\\})=\\frac{5}{6}$\n",
    "- $\\dots$\n",
    "\n",
    "이런식으로 정의할 수 있다. "
   ]
  },
  {
   "cell_type": "markdown",
   "id": "4e787d94-9fc6-41ff-94c1-4d00a10fb649",
   "metadata": {},
   "source": [
    "**(예제5)** "
   ]
  },
  {
   "cell_type": "markdown",
   "id": "a37ca021-5772-42d4-8541-3b23a49cc412",
   "metadata": {},
   "source": [
    "$\\Omega=\\{1,2,3,4,5,6\\}$이라고 하자. ${\\cal F}$을 아래와 같이 정의한다고 하자. 이러한 묶음 ${\\cal F}$는 합리적이다. \n",
    "\n",
    "$${\\cal F}=\\big\\{\\emptyset, \\{6\\}, \\{1,2,3,4,5\\},\\Omega \\big\\}$$ "
   ]
  },
  {
   "cell_type": "markdown",
   "id": "0c73f8af-a674-492b-9857-a95b50e1543f",
   "metadata": {},
   "source": [
    "(해설) "
   ]
  },
  {
   "cell_type": "markdown",
   "id": "1db2caf4-b6b2-4c59-b359-e20e3c21ec74",
   "metadata": {},
   "source": [
    "어떠한 특수한 상황을 가정하자. 주사위를 던져야하는데 6이 나오면 살수 있고 6이 나오지 않으면 죽는다고 하자. 따라서 던지는 사람 입장에서는 주사위를 던져서 6이 나오는지 안나오는지만 관심있을 것이다. 이 사람의 머리속에서 순간적으로 떠오르는 확률들은 아래와 같다.^[공평한 주사위라고 하자..]\n",
    "\n",
    "- 살수있다 => 1/6 \n",
    "- 죽는다 => 5/6 \n",
    "- 살거나 죽는다 => 1 \n",
    "- 살지도 죽지도 않는다  => 0 \n",
    "\n",
    "이러한 확률은 합리적이다. 즉 아래의 집합들만 확률을 정의한다고 해도, 확률을 잘 정의할 수 있을 것 같다. \n",
    "\n",
    "$$\\emptyset, \\{6\\}, \\{1,2,3,4,5\\}, \\Omega$$"
   ]
  },
  {
   "cell_type": "markdown",
   "id": "696a6aa7-dd9b-487d-88c8-77cf8f5e55e9",
   "metadata": {},
   "source": [
    "**(예제6)** "
   ]
  },
  {
   "cell_type": "markdown",
   "id": "6e2c848a-b574-40df-a169-df84c66ddf82",
   "metadata": {},
   "source": [
    "$\\Omega=\\{1,2,3,4,5,6\\}$이라고 하자. ${\\cal F}$을 아래와 같이 정의한다고 하자. 이러한 묶음 ${\\cal F}$는 합리적이다. \n",
    "\n",
    "$${\\cal F}=\\big\\{\\emptyset, \\{1,3,5\\}, \\{2,4,6\\},\\Omega \\big\\}$$ "
   ]
  },
  {
   "cell_type": "markdown",
   "id": "ee37925a-6fa7-4249-acdc-fd7a66a4b8de",
   "metadata": {},
   "source": [
    "(해설) "
   ]
  },
  {
   "cell_type": "markdown",
   "id": "6cfbafe7-c29b-4c51-85ff-f75b273197b0",
   "metadata": {},
   "source": [
    "전체사건을 \"주사위를 던져서 짝이 나오는 사건\", \"주사위를 던져서 홀이 나오는 사건\" 정도만 구분하겠다는 의미"
   ]
  },
  {
   "cell_type": "markdown",
   "id": "20ead21e-170e-4374-805b-6c4e0b06a3e9",
   "metadata": {},
   "source": [
    "**(예제7)** "
   ]
  },
  {
   "cell_type": "markdown",
   "id": "6986d69a-6d1f-41cf-9e13-d0631aeaba80",
   "metadata": {},
   "source": [
    "$\\Omega=\\{1,2,3,4,5,6\\}$이라고 하자. ${\\cal F}$을 아래와 같이 정의한다고 하자. 이러한 묶음 ${\\cal F}$는 합리적이지 않다. \n",
    "\n",
    "$${\\cal F}=\\big\\{\\emptyset, \\{1,3,5\\}, \\Omega \\big\\}$$ "
   ]
  },
  {
   "cell_type": "markdown",
   "id": "15b8f94d-7e6f-4364-a22b-bfb9e5a5b4a5",
   "metadata": {},
   "source": [
    "(해설) "
   ]
  },
  {
   "cell_type": "markdown",
   "id": "2e23ef34-cf57-4919-a6c2-2e133ed1fa27",
   "metadata": {},
   "source": [
    "\"주사위를 던져서 홀수가 나올 사건\"에 대한 확률을 정의할 수 있는데, 짝수가 나올 사건에 대한 확률을 정의할 수 없다는건 말이 안되는 소리임. "
   ]
  },
  {
   "cell_type": "markdown",
   "id": "fe69cd8b-34fe-45c0-ae0b-7d0b6738b987",
   "metadata": {},
   "source": [
    "**(예제8)** "
   ]
  },
  {
   "cell_type": "markdown",
   "id": "c9a081f2-af0e-427a-b56f-2a817c5921b0",
   "metadata": {},
   "source": [
    "$\\Omega=\\{1,2,3,4,5,6\\}$이라고 하자. ${\\cal F}$을 아래와 같이 정의한다고 하자. 이러한 묶음 ${\\cal F}$는 합리적이다. \n",
    "\n",
    "$${\\cal F}=\\{\\emptyset, \\Omega \\}$$ "
   ]
  },
  {
   "cell_type": "markdown",
   "id": "d25a436a-0760-4f96-9c87-0e0e6ed3b565",
   "metadata": {},
   "source": [
    "(해설) "
   ]
  },
  {
   "cell_type": "markdown",
   "id": "ec325edf-47e5-413d-a14b-5d6b64dff80d",
   "metadata": {},
   "source": [
    "아예 이렇게 잡으면 모순이 일어나진 않음. (쓸모가 없겠지)"
   ]
  },
  {
   "cell_type": "markdown",
   "id": "25a2b481-49dc-4d66-b3db-fc8a781fc72c",
   "metadata": {},
   "source": [
    "**(예제9)** "
   ]
  },
  {
   "cell_type": "markdown",
   "id": "5a6814ee-969e-4169-a9fb-e59e39b35468",
   "metadata": {},
   "source": [
    "$\\Omega=\\{1,2,3,4,5,6\\}$이라고 하자. ${\\cal F}$을 아래와 같이 정의한다고 하자. 이러한 묶음 ${\\cal F}$는 합리적이지 않다. \n",
    "\n",
    "$${\\cal F}=\\{\\emptyset, \\{1\\}, \\{2\\}, \\{2,3,4,5,6\\}, \\{1,3,4,5,6\\}, \\Omega \\}$$ "
   ]
  },
  {
   "cell_type": "markdown",
   "id": "b4fa7e27-8d85-44c0-9a6c-ef64f2044c33",
   "metadata": {},
   "source": [
    "(해설1) "
   ]
  },
  {
   "cell_type": "markdown",
   "id": "ef8c3510-46ea-46c1-a0d6-03beed054ac6",
   "metadata": {},
   "source": [
    "1이 나올 확률과 2가 나올 확률을 각각 정의할 수 있는데, 1또는 2가 나올 확률을 정의할때 모순이 발생한다는 것은 합리적이지 못하다. 왜냐하면 $\\{1\\} \\cap \\{2\\} = \\emptyset$ 이므로 \n",
    "\n",
    "$$P(\\{1\\} \\cup \\{2\\})=P(\\{1\\}) + P(\\{2\\})$$\n",
    "\n",
    "와 같이 정의가능하기 때문"
   ]
  },
  {
   "cell_type": "markdown",
   "id": "01be030b-a7f4-438c-a7a8-e3df381e2fec",
   "metadata": {},
   "source": [
    "(해설2) \n",
    "\n",
    "$\\Omega$의 어떠한 두 부분집합 $A$, $B$가 서로소라고 상상하자. 집합 $A$, $B$에 대한 확률이 각각 무모순으로 정의된다면, 집합 $A\\cup B$에 대한 확률도 무모순으로 정의되어야 한다. "
   ]
  },
  {
   "cell_type": "markdown",
   "id": "f7e4fe93-a1b6-4eaf-b09f-88e0e9a597fa",
   "metadata": {},
   "source": [
    "$\\Leftrightarrow$ $\\forall A,B \\subset \\Omega$ such that $A \\cap B =\\emptyset$: $A,B \\in {\\cal F} \\Rightarrow A \\cup B \\in {\\cal F}$ "
   ]
  },
  {
   "cell_type": "code",
   "execution_count": null,
   "id": "9108d274-534b-4db7-a0f6-e223f2e5d47e",
   "metadata": {},
   "outputs": [],
   "source": []
  }
 ],
 "metadata": {
  "kernelspec": {
   "display_name": "Python 3",
   "language": "python",
   "name": "python3"
  },
  "language_info": {
   "codemirror_mode": {
    "name": "ipython",
    "version": 3
   },
   "file_extension": ".py",
   "mimetype": "text/x-python",
   "name": "python",
   "nbconvert_exporter": "python",
   "pygments_lexer": "ipython3",
   "version": "3.8.16"
  }
 },
 "nbformat": 4,
 "nbformat_minor": 5
}
