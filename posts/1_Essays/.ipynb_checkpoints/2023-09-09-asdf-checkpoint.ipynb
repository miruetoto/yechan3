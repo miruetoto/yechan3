{
 "cells": [
  {
   "cell_type": "code",
   "execution_count": 1,
   "id": "4370e4e4-17b6-4e66-8d06-4b878990c115",
   "metadata": {},
   "outputs": [],
   "source": [
    "import pandas as pd"
   ]
  },
  {
   "cell_type": "code",
   "execution_count": null,
   "id": "d27d58d6-e5e8-4c5f-a0d8-216b527c5935",
   "metadata": {},
   "outputs": [],
   "source": [
    "df = pd.read_csv('./ecg/mitbih_train.csv', header=None)\n",
    "df"
   ]
  },
  {
   "cell_type": "code",
   "execution_count": null,
   "id": "993d98ea-a1d4-4ece-b1f3-c309a1629a37",
   "metadata": {},
   "outputs": [],
   "source": []
  }
 ],
 "metadata": {
  "kernelspec": {
   "display_name": "Python 3 (ipykernel)",
   "language": "python",
   "name": "python3"
  },
  "language_info": {
   "codemirror_mode": {
    "name": "ipython",
    "version": 3
   },
   "file_extension": ".py",
   "mimetype": "text/x-python",
   "name": "python",
   "nbconvert_exporter": "python",
   "pygments_lexer": "ipython3",
   "version": "3.11.4"
  }
 },
 "nbformat": 4,
 "nbformat_minor": 5
}
