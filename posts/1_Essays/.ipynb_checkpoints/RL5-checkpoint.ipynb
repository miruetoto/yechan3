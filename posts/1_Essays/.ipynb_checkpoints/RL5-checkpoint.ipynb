{
 "cells": [
  {
   "cell_type": "raw",
   "id": "810cdbf2-2618-4386-a6a9-0e87ab8670ac",
   "metadata": {},
   "source": [
    "---\n",
    "title: \"**[Essays]** 강화학습 v5\"\n",
    "author: \"신록예찬\"\n",
    "date: \"08/12/2023\"\n",
    "---"
   ]
  },
  {
   "cell_type": "markdown",
   "id": "6a6b9712-ddc7-4113-a953-ba9469d52545",
   "metadata": {},
   "source": [
    "# imports "
   ]
  },
  {
   "cell_type": "code",
   "execution_count": 1,
   "id": "c1236c41-f8e1-4f62-bb06-9d1a67c88159",
   "metadata": {},
   "outputs": [],
   "source": [
    "import gymnasium as gym\n",
    "import numpy as np\n",
    "import matplotlib.pyplot as plt\n",
    "from matplotlib.animation import FuncAnimation\n",
    "import torch \n",
    "import collections\n",
    "import IPython\n",
    "import random"
   ]
  },
  {
   "cell_type": "markdown",
   "id": "9b8645b2-7a40-4e7e-b3e2-fa43eef0311f",
   "metadata": {},
   "source": [
    "# 기존알고리즘"
   ]
  },
  {
   "cell_type": "code",
   "execution_count": 2,
   "id": "07e06db1-b173-4c7d-ae9d-71a41b867b69",
   "metadata": {},
   "outputs": [],
   "source": [
    "BUFFER_SIZE = 500*20   # replay buffer size\n",
    "BATCH_SIZE = 128     # minibatch size\n",
    "GAMMA = 0.99          # discount factor"
   ]
  },
  {
   "cell_type": "code",
   "execution_count": 3,
   "id": "c49a25ee-704b-4740-bebd-7094be91b017",
   "metadata": {},
   "outputs": [],
   "source": [
    "class Agent():\n",
    "    \"\"\"Interacts with and learns from the environment.\"\"\"\n",
    "\n",
    "    def __init__(self,env):\n",
    "        \"\"\"Initialize an Agent object.\n",
    "        \n",
    "        Params\n",
    "        ======\n",
    "            state_size (int): dimension of each state\n",
    "            action_size (int): dimension of each action\n",
    "            seed (int): random seed\n",
    "        \"\"\"\n",
    "        self.state_size = 8\n",
    "        self.action_size = 4\n",
    "        self.seed = 0 \n",
    "        self.eps = 0\n",
    "\n",
    "        # Q-Network\n",
    "        self.net = torch.nn.Sequential(\n",
    "            torch.nn.Linear(8,128), # 8은 state_size\n",
    "            torch.nn.ReLU(),\n",
    "            torch.nn.Linear(128,64),\n",
    "            torch.nn.ReLU(),\n",
    "            torch.nn.Linear(64,32),\n",
    "            torch.nn.ReLU(),\n",
    "            torch.nn.Linear(32,4)) # 4는 action_size \n",
    "        self.optimizer = torch.optim.Adam(self.net.parameters(), lr=0.0001)\n",
    "\n",
    "        # ReplayBuffer\n",
    "        self.memory = collections.deque(maxlen=BUFFER_SIZE)\n",
    "        self.batch_size = BATCH_SIZE\n",
    "    def add(self):\n",
    "        \"\"\"Add a new experience to memory.\"\"\"\n",
    "        Experience = collections.namedtuple(\"Experience\", field_names=[\"state\", \"action\", \"reward\", \"next_state\", \"done\"])\n",
    "        experience = Experience(self.current_state, self.action, self.reward, self.next_state, self.terminated)\n",
    "        self.memory.append(experience)\n",
    "    \n",
    "    def sample(self):\n",
    "        \"\"\"Randomly sample a batch of experiences from memory.\"\"\"\n",
    "        experiences = random.sample(self.memory, k=self.batch_size)\n",
    "        \n",
    "        # Convert to torch tensors\n",
    "        self.S = torch.from_numpy(np.vstack([e.state for e in experiences if e is not None])).float()\n",
    "        self.A = torch.from_numpy(np.vstack([e.action for e in experiences if e is not None])).long()\n",
    "        self.R = torch.from_numpy(np.vstack([e.reward for e in experiences if e is not None])).float()\n",
    "        self.Sprime = torch.from_numpy(np.vstack([e.next_state for e in experiences if e is not None])).float()\n",
    "        # Convert done from boolean to int\n",
    "        self.T = torch.from_numpy(np.vstack([e.done for e in experiences if e is not None]).astype(np.uint8)).float()\n",
    "        \n",
    "    def step(self):\n",
    "        self.current_state = self.next_state \n",
    "        self.score += self.reward        \n",
    "    def act(self):\n",
    "        \"\"\"Returns actions for given state as per current policy.\n",
    "        \n",
    "        Params\n",
    "        ======\n",
    "            state (array_like): current state\n",
    "            eps (float): epsilon, for epsilon-greedy action selection\n",
    "        \"\"\"\n",
    "        state = torch.from_numpy(self.current_state).float().unsqueeze(0)\n",
    "        action_values = self.net(state)            \n",
    "\n",
    "        if np.random.rand() > self.eps:\n",
    "            self.action = np.argmax(action_values.data.numpy())\n",
    "        else:\n",
    "            self.action = random.choice(np.arange(self.action_size))\n",
    "\n",
    "    def __mul__(self,env): \n",
    "        self.next_state, self.reward, self.terminated, _, _ = env.step(self.action)\n",
    "        self.add()\n",
    "\n",
    "    def learn(self):\n",
    "        \"\"\"Update value parameters using given batch of experience tuples.\n",
    "\n",
    "        Params\n",
    "        ======\n",
    "            experiences (Tuple[torch.Variable]): tuple of (s, a, r, s', done) tuples \n",
    "            gamma (float): discount factor\n",
    "        \"\"\"\n",
    "        # Obtain random minibatch of tuples from D\n",
    "        self.sample()\n",
    "\n",
    "        ## Compute and minimize the loss\n",
    "        q_targets_next = self.net(self.Sprime).detach().max(1)[0].unsqueeze(1)\n",
    "        q_targets = self.R + GAMMA * q_targets_next * (1 - self.T)\n",
    "\n",
    "        ### Calculate expected value from local network\n",
    "        q_expected = self.net(self.S).gather(1, self.A)\n",
    "        \n",
    "        loss = torch.nn.functional.mse_loss(q_expected, q_targets)\n",
    "        \n",
    "        self.optimizer.zero_grad()\n",
    "        loss.backward()\n",
    "        self.optimizer.step()\n",
    "\n",
    "    def reset(self,env): \n",
    "        self.current_state, _ = env.reset()\n",
    "        self.score = 0 "
   ]
  },
  {
   "cell_type": "code",
   "execution_count": 4,
   "id": "c830a694-474a-4a1c-ae53-b7641a1d8199",
   "metadata": {},
   "outputs": [],
   "source": [
    "env = gym.make('LunarLander-v2',render_mode='rgb_array')"
   ]
  },
  {
   "cell_type": "code",
   "execution_count": 5,
   "id": "aa5593c2-9b04-4395-80ba-01f7a2b06c7b",
   "metadata": {},
   "outputs": [],
   "source": [
    "agent = Agent(env)"
   ]
  },
  {
   "cell_type": "code",
   "execution_count": null,
   "id": "257c0219-24e5-4248-b556-ec337c3e2bba",
   "metadata": {},
   "outputs": [
    {
     "name": "stdout",
     "output_type": "stream",
     "text": [
      "Episode 20\tAverage Score: -185.41\tPlaytime: 94.90"
     ]
    }
   ],
   "source": [
    "n_episodes = 2000\n",
    "max_t = 500\n",
    "eps_start = 1.0 \n",
    "eps_end = 0.01\n",
    "eps_decay = 0.995\n",
    "\n",
    "playtimes=[] \n",
    "scores = []                        # list containing scores from each episode\n",
    "scores_window = collections.deque(maxlen=100)  # last 100 scores\n",
    "agent.eps = eps_start                    # initialize epsilon\n",
    "for i_episode in range(1, n_episodes+1):\n",
    "    agent.reset(env) \n",
    "    for t in range(max_t):\n",
    "        ## STEP1: \n",
    "        agent.act()\n",
    "        \n",
    "        ## STEP2: \n",
    "        agent * env \n",
    "        \n",
    "        ## STEP3: \n",
    "        if len(agent.memory) > BATCH_SIZE:\n",
    "            agent.learn()\n",
    "        \n",
    "        agent.step()\n",
    "        \n",
    "        ## STEP4: \n",
    "        if agent.terminated:\n",
    "            playtimes.append(t)\n",
    "            break \n",
    "    scores_window.append(agent.score)       # save most recent score\n",
    "    scores.append(agent.score)              # save most recent score\n",
    "    agent.eps = max(eps_end, eps_decay*agent.eps) # decrease epsilon\n",
    "    print('\\rEpisode {}\\tAverage Score: {:.2f}\\tPlaytime: {:.2f}'.format(i_episode, np.mean(scores_window), np.mean(playtimes)), end=\"\")\n",
    "    if i_episode % 100 == 0:\n",
    "        print('\\rEpisode {}\\tAverage Score: {:.2f}\\tPlaytime: {:.2f}'.format(i_episode, np.mean(scores_window), np.mean(playtimes)))\n",
    "        torch.save(agent.net.state_dict(), 'checkpoint.pth')\n",
    "    if np.mean(scores_window)>=200.0:\n",
    "        print('\\nEnvironment solved in {:d} episodes!\\tAverage Score: {:.2f}'.format(i_episode, np.mean(scores_window)))\n",
    "        torch.save(agent.net.state_dict(), 'checkpoint.pth')\n",
    "        break"
   ]
  },
  {
   "cell_type": "code",
   "execution_count": null,
   "id": "947da12d-25bb-4344-93ba-74ae6128b40c",
   "metadata": {},
   "outputs": [],
   "source": [
    "plt.plot(scores)\n",
    "plt.ylabel('Score')\n",
    "plt.xlabel('Episode #')"
   ]
  },
  {
   "cell_type": "code",
   "execution_count": null,
   "id": "9167a4fc-eacc-4d38-a02a-2eb4c16d1b54",
   "metadata": {},
   "outputs": [],
   "source": [
    "env = gym.make('LunarLander-v2',render_mode='rgb_array')\n",
    "frames = []\n",
    "agent = Agent(env)\n",
    "agent.net.load_state_dict(torch.load('checkpoint.pth'))\n",
    "agent.reset(env)\n",
    "agent.terminated = False\n",
    "\n",
    "while not agent.terminated:\n",
    "    frames.append(env.render())\n",
    "    agent.act()\n",
    "    agent * env \n",
    "    agent.step()\n",
    "\n",
    "env.close()"
   ]
  },
  {
   "cell_type": "code",
   "execution_count": null,
   "id": "b3da118e-a108-43ea-9b04-a2ecdb2f46ed",
   "metadata": {},
   "outputs": [],
   "source": [
    "fig, ax = plt.subplots()\n",
    "ani = FuncAnimation(fig,lambda i: ax.imshow(frames[::10][i]),frames=len(frames[::10]))"
   ]
  },
  {
   "cell_type": "markdown",
   "id": "6b6f680e-39b0-4a76-8d3e-4c98b861ce53",
   "metadata": {},
   "source": [
    "`-` 방법1"
   ]
  },
  {
   "cell_type": "code",
   "execution_count": null,
   "id": "8c6cea37-ee98-4f62-81d2-fd3269c9633e",
   "metadata": {},
   "outputs": [],
   "source": [
    "# ani.save('LunarLander-v2.mp4', writer='ffmpeg', fps=15, extra_args=['-vcodec', 'mpeg4'])"
   ]
  },
  {
   "cell_type": "markdown",
   "id": "1e8bbe53-2eb9-40e0-884f-77c292541130",
   "metadata": {},
   "source": [
    "`-` 방법2"
   ]
  },
  {
   "cell_type": "code",
   "execution_count": null,
   "id": "718bb991-4268-43ae-bc96-724027a32fe9",
   "metadata": {},
   "outputs": [],
   "source": [
    "IPython.display.HTML(ani.to_jshtml())"
   ]
  }
 ],
 "metadata": {
  "kernelspec": {
   "display_name": "Python 3 (ipykernel)",
   "language": "python",
   "name": "python3"
  },
  "language_info": {
   "codemirror_mode": {
    "name": "ipython",
    "version": 3
   },
   "file_extension": ".py",
   "mimetype": "text/x-python",
   "name": "python",
   "nbconvert_exporter": "python",
   "pygments_lexer": "ipython3",
   "version": "3.11.4"
  }
 },
 "nbformat": 4,
 "nbformat_minor": 5
}
