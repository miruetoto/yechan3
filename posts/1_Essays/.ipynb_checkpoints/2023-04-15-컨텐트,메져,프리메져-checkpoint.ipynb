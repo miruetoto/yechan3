{
 "cells": [
  {
   "cell_type": "raw",
   "id": "306e59f8-5220-43cb-a160-26e2fbfa0ac0",
   "metadata": {},
   "source": [
    "---\n",
    "title: \"**[Essays]** 컨텐트, 메져, 프리메져\n",
    "author: \"신록예찬\"\n",
    "date: \"03/20/2023\"\n",
    "---"
   ]
  },
  {
   "cell_type": "markdown",
   "id": "ff98b9cc-b4cb-4f77-a093-6a61ed017988",
   "metadata": {},
   "source": [
    "|분류|${\\cal A}$|$m(\\emptyset)=0$|add|$\\sigma$-add|$\\forall i: m(A_i)<\\infty$|$m(\\Omega)<\\infty$|$m(\\Omega)=1$| $.$|monotone |subadd|$\\sigma$-subadd|conti-below|$\\emptyset$-conti|conti-above|\n",
    "|:-:|:-:|:-:|:-:|:-:|:-:|:-:|:-:|:-:|:-:|:-:|:-:|:-:|:-:|:-:|\n",
    "|content|semiring|$O$|$O$|$X$|$X$|$X$|$X$|$.$|$X$|$X$|$X$|$X$|$X$|$X$|\n",
    "|premsr|semiring|$O$|$O$|$O$|$X$|$X$|$X$|$.$|$X$|$X$|$X$|$X$|$X$|$X$|\n",
    "|msr|$\\sigma$-filed|$O$|$O$|$O$|$X$|$X$|$X$|$.$|$O$|$O$|$O$|$O$|$X$|$X$|\n",
    "|$\\sigma$-finite-msr|$\\sigma$-filed|$O$|$O$|$O$|$O$|$X$|$X$|$.$|$O$|$O$|$O$|$O$|$X$|$X$|\n",
    "|finite-msr|$\\sigma$-filed|$O$|$O$|$O$|$O$|$O$|$X$|$.$|$O$|$O$|$O$|$O$|$O$|$O$|\n",
    "|prob-msr|$\\sigma$-filed|$O$|$O$|$O$|$O$|$O$|$O$|$.$|$O$|$O$|$O$|$O$|$O$|$O$|\n",
    "|$.$|$.$|$.$|$.$|$.$|$.$|$.$|$.$|$.$|$.$|$.$|$.$|$.$|$.$|$.$|\n",
    "|check-function|semiring|$O$|$O$|$?$|$O$|$?$|$?$|$.$|$?$|$O$|$?$|$?$|$?$|$?$|\n",
    "|check-function|semiring|$O$|$O$|$?$|$O$|$?$|$?$|$.$|$?$|$O$|$?$|$?$|$?$|$?$|\n",
    "|$.$|$.$|$.$|$.$|$.$|$.$|$.$|$.$|$.$|$.$|$.$|$.$|$.$|$.$|$.$|\n",
    "|content on ring (= premsr on ring) |ring|$O$|$O$|$O$|$X$|$X$|$X$|$.$|$O$|$O$|$O$|$O$|$X$|$X$|\n",
    "|finite content on ring (= finite premsr on ring) |ring|$O$|$O$|$O$|$O$|$O$|$X$|$.$|$O$|$O$|$O$|$O$|$O$|$O$|"
   ]
  },
  {
   "cell_type": "code",
   "execution_count": null,
   "id": "1bc56dc0-be6d-4c7a-882b-1ff03bff3892",
   "metadata": {},
   "outputs": [],
   "source": []
  }
 ],
 "metadata": {
  "kernelspec": {
   "display_name": "Python 3",
   "language": "python",
   "name": "python3"
  },
  "language_info": {
   "codemirror_mode": {
    "name": "ipython",
    "version": 3
   },
   "file_extension": ".py",
   "mimetype": "text/x-python",
   "name": "python",
   "nbconvert_exporter": "python",
   "pygments_lexer": "ipython3",
   "version": "3.8.16"
  }
 },
 "nbformat": 4,
 "nbformat_minor": 5
}
