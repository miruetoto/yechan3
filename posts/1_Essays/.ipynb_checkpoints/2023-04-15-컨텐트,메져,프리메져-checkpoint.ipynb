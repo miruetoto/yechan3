{
 "cells": [
  {
   "cell_type": "raw",
   "id": "d9a1dbcc-6f89-4f71-8877-444d47deed1c",
   "metadata": {},
   "source": [
    "---\n",
    "title: \"**[Essays]** 컨텐트, 메져, 프리메져\n",
    "author: \"신록예찬\"\n",
    "date: \"04/15/2023\"\n",
    "---"
   ]
  },
  {
   "cell_type": "markdown",
   "id": "80e13a75-b237-4ded-88ee-7b1ac59bff75",
   "metadata": {},
   "source": [
    "`-` 유한컨텐트, 시그마유한 컨텐트 "
   ]
  },
  {
   "cell_type": "markdown",
   "id": "67ef7dc2-bf1e-4b23-a926-f505992c5fe8",
   "metadata": {},
   "source": [
    "|분류|${\\cal A}$|$m(\\emptyset)=0$|add|$\\sigma$-add|$A_i\\uparrow \\Omega$, $m(A_i)<\\infty$|$m(\\Omega)<\\infty$|$m(\\Omega)=1$| $.$|monotone |subadd|$\\sigma$-subadd|conti-below|conti-above|superadd|\n",
    "|:-:|:-:|:-:|:-:|:-:|:-:|:-:|:-:|:-:|:-:|:-:|:-:|:-:|:-:|:-:|\n",
    "|content|semiring|$O$|$O$|$X$|$X$|$X$|$X$|$.$|$O$|$O$|$X$|$X$|$X$|\n",
    "|premsr|semiring|$O$|$O$|$O$|$X$|$X$|$X$|$.$|$O$|$O$|$O$|$X$|$X$|\n",
    "|msr|$\\sigma$-filed|$O$|$O$|$O$|$X$|$X$|$X$|$.$|$O$|$O$|$O$|$O$|$\\Delta$|\n",
    "|$\\sigma$-finite-msr|$\\sigma$-filed|$O$|$O$|$O$|$O$|$X$|$X$|$.$|$O$|$O$|$O$|$O$|$\\Delta$|\n",
    "|finite-msr|$\\sigma$-filed|$O$|$O$|$O$|$O$|$O$|$X$|$.$|$O$|$O$|$O$|$O$|$O$|\n",
    "|prob-msr|$\\sigma$-filed|$O$|$O$|$O$|$O$|$O$|$O$|$.$|$O$|$O$|$O$|$O$|$O$|\n",
    "|$.$|$.$|$.$|$.$|$.$|$.$|$.$|$.$|$.$|$.$|$.$|$.$|$.$|$.$|\n",
    "|check-function|semiring|$O$|$O$|$?$|$O$|$?$|$?$|$.$|$?$|$?$|$O$|$?$|$?$|\n",
    "|check-function|semiring|$O$|$O$|$O?$|$O$|$X$|$X$|$.$|$O$|$O$|$O$|$?$|$\\Delta$|"
   ]
  },
  {
   "cell_type": "markdown",
   "id": "359e4586-3ec5-4179-bdb2-9eadf6682048",
   "metadata": {},
   "source": [
    "`-` msr "
   ]
  },
  {
   "cell_type": "markdown",
   "id": "0192454e-b58d-4c2a-99f7-420f63578f8b",
   "metadata": {},
   "source": [
    "|분류|$m(\\emptyset)=0$|$\\sigma$-add|$A_i\\uparrow \\Omega$, $m(A_i)<\\infty$|$m(\\Omega)<\\infty$|$m(\\Omega)=1$| $.$|monotone |$\\sigma$-subadd|conti-below|conti-above|\n",
    "|:-:|:-:|:-:|:-:|:-:|:-:|:-:|:-:|:-:|:-:|:-:|\n",
    "|msr|$O$|$O$|$X$|$X$|$X$|$.$|$O$|$O$|$O$|$\\Delta$|\n",
    "|$\\sigma$-finite-msr|$O$|$O$|$O$|$X$|$X$|$.$|$O$|$O$|$O$|$\\Delta$|\n",
    "|finite-msr|$O$|$O$|$O$|$O$|$X$|$.$|$O$|$O$|$O$|$O$|\n",
    "|prob-msr|$O$|$O$|$O$|$O$|$O$|$.$|$O$|$O$|$O$|$O$|"
   ]
  },
  {
   "cell_type": "markdown",
   "id": "6b2b4522-e14f-41b6-9dbb-4ec53aa8e57d",
   "metadata": {},
   "source": [
    "`-` 용어들  \n",
    "\n",
    "- $\\sigma$-additive: $m(\\uplus_{i=1}^{\\infty} B_i) = \\sum_{i=1}^{\\infty} m(B_i)$ \n",
    "- monotone: $A\\subset B \\Rightarrow m(A) \\subset m(B)$ \n",
    "- $\\sigma$-subadditive: $m(\\cup_{i=1}^{\\infty} A_i) \\leq \\sum_{i=1}^{\\infty} m(A_i)$ \n",
    "- continuous from below: $A_i \\uparrow A$ $\\Rightarrow$ $m(\\lim_{n\\to\\infty}A_i)=\\lim_{n\\to\\infty}m(A_i)$\n",
    "- continuous from above: (1) $A_i \\downarrow A$ and (2) $m(A_1)<\\infty$ $\\Rightarrow$ $m(\\lim_{n\\to\\infty}A_i)=\\lim_{n\\to\\infty}m(A_i)$"
   ]
  },
  {
   "cell_type": "markdown",
   "id": "f3245786-721f-476a-ae34-d1a8e134fcd8",
   "metadata": {},
   "source": [
    "\n",
    "`-` continuous from above 가 성립하지 않는 경우: $m$이 $(\\mathbb{N}, 2^{\\mathbb{N}})$에서의 counting msr라고 하자. $A_n= \\mathbb{N} - \\{1,2,\\dots,n\\}$ 이면, $A_n \\downarrow \\emptyset$ 이고 $\\lim_{n\\to \\infty} m(A_n) = "
   ]
  },
  {
   "cell_type": "code",
   "execution_count": null,
   "id": "b2681e95-6423-450a-bdc2-32c6969cceb1",
   "metadata": {},
   "outputs": [],
   "source": []
  }
 ],
 "metadata": {
  "kernelspec": {
   "display_name": "Python 3",
   "language": "python",
   "name": "python3"
  },
  "language_info": {
   "codemirror_mode": {
    "name": "ipython",
    "version": 3
   },
   "file_extension": ".py",
   "mimetype": "text/x-python",
   "name": "python",
   "nbconvert_exporter": "python",
   "pygments_lexer": "ipython3",
   "version": "3.8.16"
  }
 },
 "nbformat": 4,
 "nbformat_minor": 5
}
