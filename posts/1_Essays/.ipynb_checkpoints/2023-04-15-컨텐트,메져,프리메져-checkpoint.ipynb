{
 "cells": [
  {
   "cell_type": "raw",
   "id": "d9a1dbcc-6f89-4f71-8877-444d47deed1c",
   "metadata": {},
   "source": [
    "---\n",
    "title: \"**[Essays]** 컨텐트, 메져, 프리메져\n",
    "author: \"신록예찬\"\n",
    "date: \"04/15/2023\"\n",
    "---"
   ]
  },
  {
   "cell_type": "markdown",
   "id": "80e13a75-b237-4ded-88ee-7b1ac59bff75",
   "metadata": {},
   "source": [
    "`-` 유한컨텐트, 시그마유한 컨텐트 "
   ]
  },
  {
   "cell_type": "markdown",
   "id": "67ef7dc2-bf1e-4b23-a926-f505992c5fe8",
   "metadata": {},
   "source": [
    "|분류|${\\cal A}$|$m(\\emptyset)=0$|add|$\\sigma$-add|$\\forall i: m(A_i)<\\infty$|$m(\\Omega)<\\infty$|$m(\\Omega)=1$| $.$|monotone |subadd|$\\sigma$-subadd|conti-below|$\\emptyset$-conti|conti-above|\n",
    "|:-:|:-:|:-:|:-:|:-:|:-:|:-:|:-:|:-:|:-:|:-:|:-:|:-:|:-:|:-:|\n",
    "|content|semiring|$O$|$O$|$X$|$X$|$X$|$X$|$.$|$O$|$O$|$X$|$X$|$X$|$X$|\n",
    "|premsr|semiring|$O$|$O$|$O$|$X$|$X$|$X$|$.$|$O$|$O$|$O$|$X$|$X$|$X$|\n",
    "|msr|$\\sigma$-filed|$O$|$O$|$O$|$X$|$X$|$X$|$.$|$O$|$O$|$O$|$O$|$\\Delta$|$\\Delta$|\n",
    "|$\\sigma$-finite-msr|$\\sigma$-filed|$O$|$O$|$O$|$O$|$X$|$X$|$.$|$O$|$O$|$O$|$O$|$\\Delta$|$\\Delta$|\n",
    "|finite-msr|$\\sigma$-filed|$O$|$O$|$O$|$O$|$O$|$X$|$.$|$O$|$O$|$O$|$O$|$O$|$O$|\n",
    "|prob-msr|$\\sigma$-filed|$O$|$O$|$O$|$O$|$O$|$O$|$.$|$O$|$O$|$O$|$O$|$O$|$O$|\n",
    "|$.$|$.$|$.$|$.$|$.$|$.$|$.$|$.$|$.$|$.$|$.$|$.$|$.$|$.$|$.$|\n",
    "|check-function|semiring|$O$|$O$|$?$|$O$|$?$|$?$|$.$|$?$|$?$|$O$|$?$|$?$|$?$|\n",
    "|check-function|semiring|$O$|$O$|$O$|$O$|$X$|$X$|$.$|$O$|$O$|$O$|$O$|$\\Delta$|$\\Delta$|"
   ]
  },
  {
   "cell_type": "code",
   "execution_count": null,
   "id": "39247dd2-ed11-4f55-8445-d9df54af16df",
   "metadata": {},
   "outputs": [],
   "source": []
  },
  {
   "cell_type": "code",
   "execution_count": null,
   "id": "451eb58e-b863-41c2-8587-9f73aa524b76",
   "metadata": {},
   "outputs": [],
   "source": []
  },
  {
   "cell_type": "code",
   "execution_count": null,
   "id": "cca46f38-af11-4a05-a1c6-729b3fd5b5c3",
   "metadata": {},
   "outputs": [],
   "source": []
  }
 ],
 "metadata": {
  "kernelspec": {
   "display_name": "Python 3",
   "language": "python",
   "name": "python3"
  },
  "language_info": {
   "codemirror_mode": {
    "name": "ipython",
    "version": 3
   },
   "file_extension": ".py",
   "mimetype": "text/x-python",
   "name": "python",
   "nbconvert_exporter": "python",
   "pygments_lexer": "ipython3",
   "version": "3.8.16"
  }
 },
 "nbformat": 4,
 "nbformat_minor": 5
}
