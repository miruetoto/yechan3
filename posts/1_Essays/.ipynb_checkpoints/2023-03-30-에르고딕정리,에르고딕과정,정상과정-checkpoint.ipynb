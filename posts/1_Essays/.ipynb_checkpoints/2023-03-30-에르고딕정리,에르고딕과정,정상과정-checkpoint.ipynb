{
 "cells": [
  {
   "cell_type": "raw",
   "id": "0c9af2fd-81fa-4121-9231-7b130c6dc15e",
   "metadata": {},
   "source": [
    "---\n",
    "title: \"***에르고딕정리, 에르고딕과정, 정상과정***\"\n",
    "author: \"신록예찬\"\n",
    "date: \"03/30/2023\"\n",
    "---"
   ]
  },
  {
   "cell_type": "markdown",
   "id": "9a612402-b6a6-4338-92cd-2ce2c820bc8e",
   "metadata": {},
   "source": [
    "`-` 에르고딕 정리: 시간평균이 수렴할 조건을 알려주는 정리 \n",
    "\n",
    "1. iid면 시간평균이 수렴함. (큰 수의 법칙과 같으니까)\n",
    "2. 정상확률과정이고 $\\text{acf}(h) \\to 0 $ as $h\\to \\infty$ 이면 시간평균이 수렴함.\n",
    "3. 정상확률과정이 아니더라도 시간평균이 수렴하는 경우가 있긴함. "
   ]
  },
  {
   "cell_type": "markdown",
   "id": "f94b53c1-54c4-4d0a-b8f2-4cb27cfc8726",
   "metadata": {},
   "source": [
    "`-` 에르고딕 정리를 만족하는 과정: 시간평균이 `무언가`에 수렴하는 과정 "
   ]
  },
  {
   "cell_type": "markdown",
   "id": "db36308d-3542-4587-9a1b-c81a1d11ae9c",
   "metadata": {},
   "source": [
    "`-` 예제1: 파란동전과 빨간동전이 있다고 하자. 파란동전은 앞면이 나올 확률이 $0.8$ 이고 빨간동전은 앞면이 나올확률이 $0.5$ 라고 하자. 파란동전과 빨간동전을 아무거나 골라서^[1/2의 확률로 골라서] 끝없이^[셀 수 있는 무한번] 던진다고 하자. "
   ]
  },
  {
   "cell_type": "markdown",
   "id": "06779391-aa9e-4a3c-b7a5-dd209e49602b",
   "metadata": {},
   "source": [
    "1. 시점 $t$에서의 앙상블평균: $\\frac{0.8+0.5}{2}$\n",
    "2. 시간평균: $0.5$로 수렴 or $0.8$로 수렴"
   ]
  },
  {
   "cell_type": "markdown",
   "id": "2b4ac92f-a9cd-41ae-9fc0-1c2d476478bc",
   "metadata": {},
   "source": [
    "이 예제는 아래와 같은 확률과정이다."
   ]
  },
  {
   "cell_type": "markdown",
   "id": "d5c01671-10fb-4ed2-8c69-5fea31926bd7",
   "metadata": {},
   "source": [
    "1. 에르고딕 정리를 만족시키는 확률과정임. // 시간평균이 수렴하니까\n",
    "2. 정상확률과정임. // (1) $t$에 대하여 독립이라서 cov matrix가 대각행렬이고 (2) 각 시점에 대하여 평균과 분산이 항상 동일하니까 \n",
    "3. 에르고딕 과정은 아님. (=ergodicity를 만족하는 과정은 아님) // 시간평균과 앙상블평균이 같지 않음 "
   ]
  },
  {
   "cell_type": "markdown",
   "id": "450cd61d-3703-4273-8d98-69807d5c3828",
   "metadata": {},
   "source": [
    "> 정상확률 과정이지만 에르고딕 과정이 아닐 수 있다."
   ]
  },
  {
   "cell_type": "markdown",
   "id": "b3f2f2f2-79ca-4807-87d9-22a5360b86d3",
   "metadata": {},
   "source": [
    "`-` 예제2: "
   ]
  },
  {
   "cell_type": "markdown",
   "id": "4c52c05c-f180-4265-a8f4-1b002fca9f35",
   "metadata": {},
   "source": [
    "아래와 같은 확률공간 $(\\Omega,{\\cal F},P)$ 를 고려하자. \n",
    "\n",
    "- $\\Omega = \\{\\omega_1,\\omega_2\\} = \\{HTHTHT\\cdots,THTHTH\\cdots \\}$\n",
    "- ${\\cal F}=2^{\\Omega}$\n",
    "- $P(\\emptyset)=0, P(\\omega_1)=p, P(\\omega_2)=1-p, P(\\Omega)=1$"
   ]
  },
  {
   "cell_type": "markdown",
   "id": "dc773b9f-4f94-4679-9267-adbb0f0d8d39",
   "metadata": {},
   "source": [
    "아래와 같은 무한차원 확률벡터를 고려하자.\n",
    "\n",
    "- ${\\boldsymbol X}(\\omega_1) = [1,0,1,0,1,0, \\cdots]^\\top$\n",
    "- ${\\boldsymbol X}(\\omega_2) = [0,1,0,1,0,1, \\cdots]^\\top$"
   ]
  },
  {
   "cell_type": "markdown",
   "id": "0363b83b-ada6-48d7-a091-e83fca338ec0",
   "metadata": {},
   "source": [
    "1. 앙상블평균: $E(X_1)=E(X_3)=\\dots = p$ and $E(X_2)=E(X_4)=\\dots=1-p$\n",
    "2. 시간평균: $1/2$로 수렴"
   ]
  },
  {
   "cell_type": "markdown",
   "id": "107071b2-b63c-4134-97d3-14a85ef10e2f",
   "metadata": {},
   "source": [
    "이 예제는 아래와 같은 확률과정이다. "
   ]
  },
  {
   "cell_type": "markdown",
   "id": "fd6400be-0f2e-4d3e-8047-4f2f7e2115d4",
   "metadata": {},
   "source": [
    "1. 정상확률과정이 아님. // $E(X_1)\\neq E(X_2)$\n",
    "2. 정상분포를 가짐. // $\\pi=[1/2, 1/2]^\\top$\n",
    "3. $X_1$의 분포를 정상분포로 준다면 정상확률과정임. \n",
    "4. 에르고딕정리를 만족함 // 시간평균이 수렴\n",
    "5. 에르고딕과정은 아님 // 앙상블평균과 시간평균은 다름\n",
    "6. $X_1$의 분포를 정상분포로 준다면 에르고딕 과정임 "
   ]
  },
  {
   "cell_type": "code",
   "execution_count": null,
   "id": "31820f37-a6aa-476c-ad17-c9daec527cfd",
   "metadata": {},
   "outputs": [],
   "source": []
  },
  {
   "cell_type": "code",
   "execution_count": null,
   "id": "90b01b51-576f-4c09-8125-da95a7962acd",
   "metadata": {},
   "outputs": [],
   "source": []
  },
  {
   "cell_type": "code",
   "execution_count": null,
   "id": "94f77b32-aff8-4b76-8808-d46d0286ccca",
   "metadata": {},
   "outputs": [],
   "source": []
  },
  {
   "cell_type": "code",
   "execution_count": null,
   "id": "a1fa8e86-7b97-4f7f-99f4-ae4c5afc6ef9",
   "metadata": {},
   "outputs": [],
   "source": []
  },
  {
   "cell_type": "markdown",
   "id": "c8900032-a00a-4c9d-92d8-06778929a2fc",
   "metadata": {},
   "source": [
    "> 정상확률과정이 아니지만 에르고딕과정일 수 있을까? 없음.."
   ]
  },
  {
   "cell_type": "markdown",
   "id": "7c1f6fbd-5cef-41b3-8e1d-f10727ef2ff7",
   "metadata": {},
   "source": [
    "---"
   ]
  },
  {
   "cell_type": "markdown",
   "id": "fb760dda-a698-4330-a452-8ee2a2099d50",
   "metadata": {},
   "source": [
    "아래와 같은 무한차원 확률벡터를 고려하자. \n",
    "\n",
    "- ${\\boldsymbol X}(\\omega_1) = [1,1,0,1,1,0, \\cdots]^\\top$\n",
    "- ${\\boldsymbol X}(\\omega_2) = [0,1,1,0,1,1, \\cdots]^\\top$"
   ]
  },
  {
   "cell_type": "markdown",
   "id": "d880d510-4e24-4879-b4e4-eb34a964cfdd",
   "metadata": {},
   "source": [
    "1. 앙상블평균: $E(X_1)=E(X_4)=\\dots = p$ and $E(X_2)=E(X_5)=\\dots=1$ and $E(X_3)=E(X_6)=\\dots=1-p$\n",
    "2. 시간평균: $2/3$로 수렴"
   ]
  }
 ],
 "metadata": {
  "kernelspec": {
   "display_name": "Julia 1.8.5",
   "language": "julia",
   "name": "julia-1.8"
  },
  "language_info": {
   "file_extension": ".jl",
   "mimetype": "application/julia",
   "name": "julia",
   "version": "1.8.5"
  }
 },
 "nbformat": 4,
 "nbformat_minor": 5
}
