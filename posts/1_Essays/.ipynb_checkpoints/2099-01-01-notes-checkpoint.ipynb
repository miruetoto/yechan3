{
 "cells": [
  {
   "cell_type": "raw",
   "id": "d5d6e3e2-f746-460f-97ee-e03221cb6241",
   "metadata": {},
   "source": [
    "---\n",
    "title: \"연습장\"\n",
    "author: \"최규빈\"\n",
    "date: \"01/01/2099\"\n",
    "---"
   ]
  },
  {
   "cell_type": "markdown",
   "id": "ec30c757-94b7-4f6c-8b1a-4246b0e5b212",
   "metadata": {},
   "source": [
    "# imports "
   ]
  },
  {
   "cell_type": "code",
   "execution_count": 1,
   "id": "cabf5ff1-37bd-4947-b334-aab3c135aa8f",
   "metadata": {},
   "outputs": [],
   "source": [
    "import numpy as np "
   ]
  },
  {
   "cell_type": "markdown",
   "id": "dfdc8e9b-a7f1-46eb-8c11-d1effbb9d0b3",
   "metadata": {},
   "source": [
    "# aperiodic "
   ]
  },
  {
   "cell_type": "markdown",
   "id": "7e1730f2-ab41-4065-8b80-507d3487ebf0",
   "metadata": {},
   "source": [
    "## Motivating Examples (cont)"
   ]
  },
  {
   "cell_type": "markdown",
   "id": "7d5e9102-d8da-41f9-9d75-7c336012a52e",
   "metadata": {
    "tags": []
   },
   "source": [
    "### 예제3"
   ]
  },
  {
   "cell_type": "markdown",
   "id": "a9c2984b-63fa-48d5-a438-8c1458cffe9d",
   "metadata": {},
   "source": [
    "`-` 아래의 전이확률을 고려하자. "
   ]
  },
  {
   "cell_type": "code",
   "execution_count": 2,
   "id": "80be2346-b843-4c4b-8cb1-db9d9125e079",
   "metadata": {},
   "outputs": [
    {
     "data": {
      "text/plain": [
       "array([[0. , 1. , 0. , 0. ],\n",
       "       [0.5, 0. , 0.5, 0. ],\n",
       "       [0. , 0. , 0. , 1. ],\n",
       "       [0. , 1. , 0. , 0. ]])"
      ]
     },
     "execution_count": 2,
     "metadata": {},
     "output_type": "execute_result"
    }
   ],
   "source": [
    "P =np.array([0.0, 1.0, 0.0, 0.0, \n",
    "             1/2, 0.0, 1/2, 0.0,\n",
    "             0.0, 0.0, 0.0, 1.0,\n",
    "             0.0, 1.0, 0.0, 0.0]).reshape(4,4)\n",
    "P"
   ]
  },
  {
   "cell_type": "markdown",
   "id": "ebd338e1-7654-47b2-ae1c-0e7ab89a17c3",
   "metadata": {},
   "source": [
    "`-` 다이어그램 "
   ]
  },
  {
   "cell_type": "markdown",
   "id": "600065d1-8379-4cad-b869-74468f4ab6ea",
   "metadata": {},
   "source": [
    "```{mermaid}\n",
    "flowchart LR\n",
    "  0 -->|1| 1\n",
    "  1 -->|1/2| 0\n",
    "  1 -->|1/2| 2\n",
    "  2 -->|1| 3\n",
    "  3 -->|1| 1\n",
    "```"
   ]
  },
  {
   "cell_type": "markdown",
   "id": "71c490b7-64d0-405e-9064-56c1b211ab26",
   "metadata": {},
   "source": [
    "`-` 특징1,2: "
   ]
  },
  {
   "cell_type": "markdown",
   "id": "2887a96f-4376-4966-b04f-81f7ce42d0de",
   "metadata": {},
   "source": [
    "`-` 특징3: 정상분포를 가짐"
   ]
  },
  {
   "cell_type": "markdown",
   "id": "1895e04e-4e22-40f6-b2bb-fd52a190fd44",
   "metadata": {},
   "source": [
    "`-` 특징4: 초기분포가 정상분포라면 정상확률과정"
   ]
  },
  {
   "cell_type": "markdown",
   "id": "b4e056a2-a918-495b-b57b-8f86920a8a0a",
   "metadata": {},
   "source": [
    "`-` 특징5: irr"
   ]
  },
  {
   "cell_type": "markdown",
   "id": "26b7e8b4-2c68-4fea-9e8d-0250946f74e3",
   "metadata": {},
   "source": [
    "`-` 특징6: 주기가 없음 "
   ]
  },
  {
   "cell_type": "markdown",
   "id": "204c68e7-b758-40da-b538-fafb14bedec4",
   "metadata": {},
   "source": [
    "```{mermaid}\n",
    "flowchart LR\n",
    "  0 -->|1| 1\n",
    "  1 -->|1/2| 0\n",
    "  1 -->|1/2| 2\n",
    "  2 -->|1| 3\n",
    "  3 -->|1| 1\n",
    "```"
   ]
  },
  {
   "cell_type": "markdown",
   "id": "bd9a6aef-e237-4bef-8f50-55a1e36ad018",
   "metadata": {},
   "source": [
    "**1에서 시작한다면?**"
   ]
  },
  {
   "cell_type": "markdown",
   "id": "7b60fb33-c7d4-4b53-a531-cf1422f562e6",
   "metadata": {},
   "source": [
    "- $1 \\to 0 \\to 1$, 2번만에 리턴\n",
    "- $1 \\to 2 \\to 3 \\to 1$, 3번만에 리턴 "
   ]
  },
  {
   "cell_type": "markdown",
   "id": "744b8ec0-38d7-4083-b0ee-71a965cc45b5",
   "metadata": {},
   "source": [
    "이 경우 2와 3의 최대공약수는 1이므로 주기는 1이다. 그리고 finite state space를 가지는 HMC는 모든 state가 항상 같은 주기를 가지므로 이 마코프체인의 모든 주기는 1이다. "
   ]
  },
  {
   "cell_type": "markdown",
   "id": "0ba8fc6a-cb77-4077-a87e-144e33881c34",
   "metadata": {},
   "source": [
    "> 주기가 1인 경우는 aperiodic 하다고 표현한다. (언제 올지 몰라)"
   ]
  },
  {
   "cell_type": "markdown",
   "id": "ed97c211-53db-4076-a719-6d0d3345acaf",
   "metadata": {},
   "source": [
    "> 꿀팁: 자기자신으로 되돌아올 확률이 있다면 항상 aperiodic 하다."
   ]
  },
  {
   "cell_type": "markdown",
   "id": "9b5248db-5d5d-4c7d-ba1a-5dfbf938a9f5",
   "metadata": {},
   "source": [
    "## 정의 및 이론 "
   ]
  },
  {
   "cell_type": "markdown",
   "id": "2dfa4d7e-81c8-4e94-9100-24b36b06a25d",
   "metadata": {},
   "source": [
    "`-` 정의: "
   ]
  },
  {
   "cell_type": "markdown",
   "id": "205b0c11-9894-4d9c-a14d-9c444410a075",
   "metadata": {},
   "source": [
    "`-` 느낌: 상태 $i$에서 $i$로 되돌아오는 횟수들의 최대공약수 "
   ]
  },
  {
   "cell_type": "markdown",
   "id": "e7953aec-c6b2-44e8-9476-d98152e0589f",
   "metadata": {},
   "source": [
    "`-` **이론**: $\\{X_t\\}$가 finte state HMC 이면, 모든 상태가 항상 같은 주기를 가진다. "
   ]
  },
  {
   "cell_type": "markdown",
   "id": "df61804d-2b4f-43b8-a8ac-908032ff55ec",
   "metadata": {},
   "source": [
    "# 에르고딕 마코프체인"
   ]
  },
  {
   "cell_type": "markdown",
   "id": "35462d44-88a1-4e3c-8a3a-b0d9954e9b71",
   "metadata": {},
   "source": [
    "## 정의 및 이론"
   ]
  },
  {
   "cell_type": "markdown",
   "id": "7c4edf1d-954b-4983-8142-bfec6612f692",
   "metadata": {},
   "source": [
    "`-` **Thm**: HMC $\\{X_t\\}$가 (1) finite state space를 가지고 (2) irreduciable 하고 (3) aperiodic 이라면, ${\\bf P}$가 수렴하고 수렴한 matrix의 모든 row는 같다. 따라서 임의의 초기분포 ${\\boldsymbol \\mu}$ 에 대하여 \n",
    "\n",
    "$$\\lim_{t\\to \\infty}{\\boldsymbol \\mu}^\\top{\\bf P}^t = {\\boldsymbol \\pi}^\\top $$\n",
    "\n",
    "이 성립한다. 여기에서 ${\\boldsymbol \\pi}$는 $\\{X_t\\}$의 정상분포이다. "
   ]
  },
  {
   "cell_type": "markdown",
   "id": "c1a74a85-ebfd-4323-bd99-45f9787d5c2c",
   "metadata": {},
   "source": [
    "`-` 정의: 아래의 식을 만족하는 HMC $\\{X_t\\}$을 에르고딕하다고 말한다. \n",
    "\n",
    "$$\\lim_{t\\to \\infty}{\\boldsymbol \\mu}^\\top{\\bf P}^t = {\\boldsymbol \\pi}^\\top $$"
   ]
  },
  {
   "cell_type": "markdown",
   "id": "9152688c-ed1e-4602-90ab-62a5015fd094",
   "metadata": {},
   "source": [
    "# 구글의 페이지랭크 "
   ]
  },
  {
   "cell_type": "markdown",
   "id": "6ba49b42-1b1c-494e-9324-6df8b5208289",
   "metadata": {},
   "source": [
    "## intro"
   ]
  },
  {
   "cell_type": "markdown",
   "id": "e352fe87-7355-48b4-8e14-932db044eb10",
   "metadata": {},
   "source": [
    "`-` Google\n",
    "\n",
    "- Google은 사용자의 검색어와 일치하는 검색 결과를 제공\n",
    "- Google은 웹사이트들 사이에서 \"더 나은\" 또는 \"더 중요한\" 웹사이트가 검색 결과 상위에 나타나도록 순위를 유지\n",
    "- 이 순위는 전체 문제를 한 번에 해결하는 것이 아니라 먼저 전체적으로 수립되고(검색어와는 독립적으로), 그 후에 검색어와 일치하는 웹사이트들만 해당 순위에 따라 정렬된다고 함 "
   ]
  },
  {
   "cell_type": "markdown",
   "id": "8d2317f9-db76-4dde-af3e-82fbcbf4707f",
   "metadata": {},
   "source": [
    "`-` 이 강의에서는 순위 매기기에 초점을 맞추어 생각해보자. (이는 마코프체인과 관련이 있음) \n",
    "\n",
    "-ref: "
   ]
  },
  {
   "cell_type": "markdown",
   "id": "47fbe2fc-1ecb-47f6-94b2-db3d22a30b33",
   "metadata": {},
   "source": [
    "`-` 페이지랭크 \n",
    "\n",
    "- 페이지랭크(PageRank)는 구글 검색에서 웹 페이지의 순위를 결정하는 알고리즘으로 이는 \"웹 페이지\"와 구글 공동 창업자인 라리 페이지(Larry Page)의 이름을 따서 지어졌음\n",
    "- 페이지랭크는 웹사이트 페이지의 중요성을 측정하는 방법이며 기본적으로 더 중요한 웹사이일수록 다른 웹사이트에서 더 많은 링크를 받을 가능성이 높다는 점에 착안함 \n",
    "- 페이지랭크는 페이지랭크는 구글이 검색 결과를 정렬하는 데 사용하는 유일한 알고리즘이 아니지만, 구글에서 사용한 최초의 알고리즘이며, 가장 잘 알려진 알고리즘임 "
   ]
  },
  {
   "cell_type": "markdown",
   "id": "982cab48-a293-4369-b213-8285a0e99d41",
   "metadata": {},
   "source": [
    "## toy example "
   ]
  },
  {
   "cell_type": "markdown",
   "id": "99e059b9-3e1f-4048-8897-6f5725343973",
   "metadata": {},
   "source": [
    "`-` 아래는 7개의 website에 대한 web graph이다.  \n",
    "\n",
    "```{mermaid}\n",
    "flowchart LR\n",
    "  0 -->|1/2| 1\n",
    "  1 -->|1/2| 0\n",
    "  0 -->|1/2| 2\n",
    "  1 -->|1/2| 2\n",
    "  2 -->|1| 3 \n",
    "  4 -->|1| 3\n",
    "  3 -->|1| 5 \n",
    "  6 -->|1| 5\n",
    "```"
   ]
  },
  {
   "cell_type": "markdown",
   "id": "4ef8ebbf-fc37-43be-8e3c-9369855f4884",
   "metadata": {},
   "source": [
    "`-` 여기에서 가장 중요한 웹사이트는 무엇일까? \n",
    "\n",
    "- 구글의 아이디어는 기본적으로 **더 많은 화살표를 받는 쪽이 더 중요한 웹사이트이다** 라는 것이었다. \n",
    "- 이 논리대로라면 노드 2,3,5가 똑같이 중요해보인다. \n",
    "- 좀 더 생각해보니까 노드2보다 노드3과 노드5가 더 중요해보인다. 왜냐하면 노드2는 확률 1/2 짜리 화살표 2개이지만 노드3과 노드5는 확률 1짜리 화살표가 2개임 \n",
    "- 그렇지만 또 노드3보다는 노드5가 더 중요해보인다. 왜냐하면 노드3을 방문한 사람은 결국은 노드5로 갈테니까 노드3보다 노드5가 더 중요한 사이트라고 볼 수 있다. \n",
    "- 그럼 노드3의 중요도가 1일때 노드5의 중요도는 얼마정도 될까? "
   ]
  },
  {
   "cell_type": "markdown",
   "id": "a4a2c8e3-1913-4d54-b8ad-446f0d53acba",
   "metadata": {},
   "source": [
    "`-` 구글의 아이디어: **random surfer**\n",
    "\n",
    "- 무작위로 웹사이트를 방문하는 가상의 유저를 만들자. \n",
    "- 그리고 이 유저가 많이 방문하게 되는 웹사이트를 기록하자.  "
   ]
  },
  {
   "cell_type": "markdown",
   "id": "4de4292f-7cb9-4279-a80a-31724c227f7a",
   "metadata": {},
   "source": [
    "`-` 구글의 아이디어는 결국 위의 다이어그램을 토대로 transition matrix ${\\bf P}$를 만들고 임의의 초기상태 ${\\boldsymbol \\mu}$에 대하여 \n",
    "\n",
    "$$\\lim_{t\\to\\infty}{\\boldsymbol \\mu}^\\top{\\bf P}^{t}$$\n",
    "\n",
    "를 계산하겠다는 의미이다. "
   ]
  },
  {
   "cell_type": "markdown",
   "id": "d2402478-640a-4ce1-a415-1afa873036e0",
   "metadata": {},
   "source": [
    "`-` 문제점1: 이 상황은 transition matrix를 만들 수 없는걸? "
   ]
  },
  {
   "cell_type": "code",
   "execution_count": 232,
   "id": "610cd25b-49d4-4086-a301-0764650c1e2e",
   "metadata": {},
   "outputs": [
    {
     "data": {
      "text/plain": [
       "array([[0. , 0.5, 0.5, 0. , 0. , 0. , 0. ],\n",
       "       [0.5, 0. , 0.5, 0. , 0. , 0. , 0. ],\n",
       "       [0. , 0. , 0. , 1. , 0. , 0. , 0. ],\n",
       "       [0. , 0. , 0. , 0. , 0. , 1. , 0. ],\n",
       "       [0. , 0. , 0. , 1. , 0. , 0. , 0. ],\n",
       "       [0. , 0. , 0. , 0. , 0. , 0. , 0. ],\n",
       "       [0. , 0. , 0. , 0. , 0. , 1. , 0. ]])"
      ]
     },
     "execution_count": 232,
     "metadata": {},
     "output_type": "execute_result"
    }
   ],
   "source": [
    "P = np.array([0.0, 1/2, 1/2, 0.0, 0.0, 0.0, 0.0,\n",
    "              1/2, 0.0, 1/2, 0.0, 0.0, 0.0, 0.0,\n",
    "              0.0, 0.0, 0.0, 1.0, 0.0, 0.0, 0.0,\n",
    "              0.0, 0.0, 0.0, 0.0, 0.0, 1.0, 0.0,\n",
    "              0.0, 0.0, 0.0, 1.0, 0.0, 0.0, 0.0,\n",
    "              0.0, 0.0, 0.0, 0.0, 0.0, 0.0, 0.0, ### 이 부분은 다 0이다. \n",
    "              0.0, 0.0, 0.0, 0.0, 0.0, 1.0, 0.0]).reshape(7,7)\n",
    "P"
   ]
  },
  {
   "cell_type": "markdown",
   "id": "cecac959-7374-4437-aab5-8e42f2a10dcf",
   "metadata": {},
   "source": [
    "`-` 문제점1의 해결: 이러한 경우 상태5에서 다른상태로 갈 확률은 랜덤으로 다시 뿌린다. "
   ]
  },
  {
   "cell_type": "code",
   "execution_count": 236,
   "id": "b6b4e5ad-b022-4151-95fa-3cec427d0338",
   "metadata": {},
   "outputs": [
    {
     "data": {
      "text/plain": [
       "array([[0.        , 0.5       , 0.5       , 0.        , 0.        ,\n",
       "        0.        , 0.        ],\n",
       "       [0.5       , 0.        , 0.5       , 0.        , 0.        ,\n",
       "        0.        , 0.        ],\n",
       "       [0.        , 0.        , 0.        , 1.        , 0.        ,\n",
       "        0.        , 0.        ],\n",
       "       [0.        , 0.        , 0.        , 0.        , 0.        ,\n",
       "        1.        , 0.        ],\n",
       "       [0.        , 0.        , 0.        , 1.        , 0.        ,\n",
       "        0.        , 0.        ],\n",
       "       [0.14285714, 0.14285714, 0.14285714, 0.14285714, 0.14285714,\n",
       "        0.14285714, 0.14285714],\n",
       "       [0.        , 0.        , 0.        , 0.        , 0.        ,\n",
       "        1.        , 0.        ]])"
      ]
     },
     "execution_count": 236,
     "metadata": {},
     "output_type": "execute_result"
    }
   ],
   "source": [
    "P = np.array([0.0, 1/2, 1/2, 0.0, 0.0, 0.0, 0.0,\n",
    "              1/2, 0.0, 1/2, 0.0, 0.0, 0.0, 0.0,\n",
    "              0.0, 0.0, 0.0, 1.0, 0.0, 0.0, 0.0,\n",
    "              0.0, 0.0, 0.0, 0.0, 0.0, 1.0, 0.0,\n",
    "              0.0, 0.0, 0.0, 1.0, 0.0, 0.0, 0.0,\n",
    "              1/7, 1/7, 1/7, 1/7, 1/7, 1/7, 1/7, ### 이렇게 고쳐버리자~\n",
    "              0.0, 0.0, 0.0, 0.0, 0.0, 1.0, 0.0]).reshape(7,7)\n",
    "P"
   ]
  },
  {
   "cell_type": "markdown",
   "id": "a4b28c3e-4f7f-4ebd-a275-e0cf57b0d94b",
   "metadata": {},
   "source": [
    "`-` 문제점2: $\\lim_{t\\to\\infty}{\\boldsymbol \\mu}^\\top{\\bf P}^{t}$이게 수렴한다는 보장이 어디있지? "
   ]
  },
  {
   "cell_type": "markdown",
   "id": "60b76116-1b7f-4339-9aab-f26d8cd77f5a",
   "metadata": {},
   "source": [
    "## 수렴의 트릭 "
   ]
  },
  {
   "cell_type": "markdown",
   "id": "2b25299b-7673-48e0-9be5-849ad583dfa8",
   "metadata": {},
   "source": [
    "`-` 생각: HMC $\\{X_t\\}$가 에르고딕이려면 (1) finite state space를 가지고 (2) 이리듀시블하고 (3) 에이피리오딕 해야한다. "
   ]
  },
  {
   "cell_type": "markdown",
   "id": "ac3c8cf9-27a3-4aa8-b403-f48a1808fa1e",
   "metadata": {},
   "source": [
    "`-` 그런데 (N,N) 차원을 가지는 임의의 transition matrix ${\\bf P}$를 아래와 같이 $\\tilde{\\bf P}$로 변형한다면 이 transition matrix는 aperiodic하고 irreducible하게 된다. \n",
    "\n",
    "$$\\tilde{\\bf P} = 0.99 \\cdot {\\bf P} + 0.01 \\cdot \\frac{1}{N}{\\bf J}$$\n",
    "\n",
    "여기에서 ${\\bf J}$는 ${\\bf P}$와 차원이 같고 모든 원소가 1인 매트릭스이다. 즉 \n",
    "\n",
    "$${\\bf J} = \\begin{bmatrix} 1 & 1 & \\dots & 1 \\\\ 1 & 1 & \\dots & 1 \\\\ \\dots & \\dots & \\dots & \\dots \\\\ 1 & 1 & \\dots & 1 \\end{bmatrix}$$\n",
    "\n",
    "이다. "
   ]
  },
  {
   "cell_type": "markdown",
   "id": "f4f2e8c0-54bb-41fd-9359-8940f2aa7a58",
   "metadata": {},
   "source": [
    "`-` 위의 수식에서 $\\tilde{\\bf P}$는 ${\\bf P}$와 매우 비슷하지만 에르고딕한 마코프체인이다. "
   ]
  },
  {
   "cell_type": "markdown",
   "id": "b7e7563d-ea2d-4805-acb5-4dff7df42028",
   "metadata": {},
   "source": [
    "`-` 이러한 $\\tilde{\\bf P}$를 구글매트릭스라고 부르자. 위의 식을 좀 더 간결하게 쓰면 \n",
    "\n",
    "$${\\bf GoogleMatrix}:= \\alpha\\cdot {\\bf P} + (1-\\alpha)\\cdot\\frac{1}{N}{\\bf J}$$"
   ]
  },
  {
   "cell_type": "markdown",
   "id": "e5eef4be-5543-45e7-a546-ab7a09f82d43",
   "metadata": {},
   "source": [
    "와 같이 된다. 여기에서 $\\alpha \\in (0,1)$ 이다. "
   ]
  },
  {
   "cell_type": "markdown",
   "id": "51bfc4b4-d815-419e-8502-17b17c4ae44d",
   "metadata": {},
   "source": [
    "`-` 여기에서 $\\alpha$는 수렴의 속도를 결정한다. \n",
    "\n",
    "- ${\\bf P}$가 원래 수렴안하는 조건이었다면 $\\alpha \\approx 1$ 일수록 구글매트릭스는 매우 느리게 수렴할 것이다. \n",
    "- $\\alpha=0$ 이라면 구글매트릭스는 이미 수렴되어 있다. "
   ]
  },
  {
   "cell_type": "markdown",
   "id": "d00feee6-88ba-4877-9820-cbae0e7833e3",
   "metadata": {},
   "source": [
    "## 구현 "
   ]
  },
  {
   "cell_type": "code",
   "execution_count": 237,
   "id": "4e1e7185-b8a9-46e9-ac06-9500f4fca9ad",
   "metadata": {},
   "outputs": [],
   "source": [
    "alpha = 0.85"
   ]
  },
  {
   "cell_type": "code",
   "execution_count": 239,
   "id": "aa375ae1-b96b-400b-97d2-b92ef494bd25",
   "metadata": {},
   "outputs": [
    {
     "data": {
      "text/plain": [
       "array([[0.        , 0.5       , 0.5       , 0.        , 0.        ,\n",
       "        0.        , 0.        ],\n",
       "       [0.5       , 0.        , 0.5       , 0.        , 0.        ,\n",
       "        0.        , 0.        ],\n",
       "       [0.        , 0.        , 0.        , 1.        , 0.        ,\n",
       "        0.        , 0.        ],\n",
       "       [0.        , 0.        , 0.        , 0.        , 0.        ,\n",
       "        1.        , 0.        ],\n",
       "       [0.        , 0.        , 0.        , 1.        , 0.        ,\n",
       "        0.        , 0.        ],\n",
       "       [0.14285714, 0.14285714, 0.14285714, 0.14285714, 0.14285714,\n",
       "        0.14285714, 0.14285714],\n",
       "       [0.        , 0.        , 0.        , 0.        , 0.        ,\n",
       "        1.        , 0.        ]])"
      ]
     },
     "execution_count": 239,
     "metadata": {},
     "output_type": "execute_result"
    }
   ],
   "source": [
    "P = np.array([0.0, 1/2, 1/2, 0.0, 0.0, 0.0, 0.0,\n",
    "              1/2, 0.0, 1/2, 0.0, 0.0, 0.0, 0.0,\n",
    "              0.0, 0.0, 0.0, 1.0, 0.0, 0.0, 0.0,\n",
    "              0.0, 0.0, 0.0, 0.0, 0.0, 1.0, 0.0,\n",
    "              0.0, 0.0, 0.0, 1.0, 0.0, 0.0, 0.0,\n",
    "              1/7, 1/7, 1/7, 1/7, 1/7, 1/7, 1/7,\n",
    "              0.0, 0.0, 0.0, 0.0, 0.0, 1.0, 0.0]).reshape(7,7)\n",
    "P"
   ]
  },
  {
   "cell_type": "code",
   "execution_count": 240,
   "id": "6e4ac249-90ba-4601-a8ab-9cff9a1c1b50",
   "metadata": {},
   "outputs": [],
   "source": [
    "GoogleMatrix = alpha*P + (1-alpha)/7"
   ]
  },
  {
   "cell_type": "code",
   "execution_count": 243,
   "id": "218509c5-336d-4543-8276-25439cab9379",
   "metadata": {},
   "outputs": [
    {
     "data": {
      "text/plain": [
       "matrix([[0.10154862, 0.10154862, 0.14470678, 0.2310231 , 0.05839045,\n",
       "         0.30439198, 0.05839045],\n",
       "        [0.10154862, 0.10154862, 0.14470678, 0.2310231 , 0.05839045,\n",
       "         0.30439198, 0.05839045],\n",
       "        [0.10154862, 0.10154862, 0.14470678, 0.2310231 , 0.05839045,\n",
       "         0.30439198, 0.05839045],\n",
       "        [0.10154862, 0.10154862, 0.14470678, 0.2310231 , 0.05839045,\n",
       "         0.30439198, 0.05839045],\n",
       "        [0.10154862, 0.10154862, 0.14470678, 0.2310231 , 0.05839045,\n",
       "         0.30439198, 0.05839045],\n",
       "        [0.10154862, 0.10154862, 0.14470678, 0.2310231 , 0.05839045,\n",
       "         0.30439198, 0.05839045],\n",
       "        [0.10154862, 0.10154862, 0.14470678, 0.2310231 , 0.05839045,\n",
       "         0.30439198, 0.05839045]])"
      ]
     },
     "execution_count": 243,
     "metadata": {},
     "output_type": "execute_result"
    }
   ],
   "source": [
    "GoogleMatrix_star = np.matrix(GoogleMatrix)**200\n",
    "GoogleMatrix_star"
   ]
  },
  {
   "cell_type": "code",
   "execution_count": 244,
   "id": "92dcae33-2a08-401f-abb2-1e91ff24e3ce",
   "metadata": {},
   "outputs": [
    {
     "data": {
      "text/plain": [
       "matrix([[0.10154862, 0.10154862, 0.14470678, 0.2310231 , 0.05839045,\n",
       "         0.30439198, 0.05839045]])"
      ]
     },
     "execution_count": 244,
     "metadata": {},
     "output_type": "execute_result"
    }
   ],
   "source": [
    "GoogleMatrix_star[0]"
   ]
  },
  {
   "cell_type": "markdown",
   "id": "cb92f10c-c5b3-44df-b16c-2f0df70fb9d2",
   "metadata": {},
   "source": [
    "따라서 중요도는 다음과 같다. "
   ]
  },
  {
   "cell_type": "code",
   "execution_count": 256,
   "id": "21357255-368f-4d4b-8bc7-2b20e274a8d3",
   "metadata": {},
   "outputs": [
    {
     "data": {
      "text/html": [
       "<div>\n",
       "<style scoped>\n",
       "    .dataframe tbody tr th:only-of-type {\n",
       "        vertical-align: middle;\n",
       "    }\n",
       "\n",
       "    .dataframe tbody tr th {\n",
       "        vertical-align: top;\n",
       "    }\n",
       "\n",
       "    .dataframe thead th {\n",
       "        text-align: right;\n",
       "    }\n",
       "</style>\n",
       "<table border=\"1\" class=\"dataframe\">\n",
       "  <thead>\n",
       "    <tr style=\"text-align: right;\">\n",
       "      <th></th>\n",
       "      <th>website</th>\n",
       "      <th>pagerank</th>\n",
       "    </tr>\n",
       "  </thead>\n",
       "  <tbody>\n",
       "    <tr>\n",
       "      <th>0</th>\n",
       "      <td>state0</td>\n",
       "      <td>0.101549</td>\n",
       "    </tr>\n",
       "    <tr>\n",
       "      <th>1</th>\n",
       "      <td>state1</td>\n",
       "      <td>0.101549</td>\n",
       "    </tr>\n",
       "    <tr>\n",
       "      <th>2</th>\n",
       "      <td>state2</td>\n",
       "      <td>0.144707</td>\n",
       "    </tr>\n",
       "    <tr>\n",
       "      <th>3</th>\n",
       "      <td>state3</td>\n",
       "      <td>0.231023</td>\n",
       "    </tr>\n",
       "    <tr>\n",
       "      <th>4</th>\n",
       "      <td>state4</td>\n",
       "      <td>0.058390</td>\n",
       "    </tr>\n",
       "    <tr>\n",
       "      <th>5</th>\n",
       "      <td>state5</td>\n",
       "      <td>0.304392</td>\n",
       "    </tr>\n",
       "    <tr>\n",
       "      <th>6</th>\n",
       "      <td>state6</td>\n",
       "      <td>0.058390</td>\n",
       "    </tr>\n",
       "  </tbody>\n",
       "</table>\n",
       "</div>"
      ],
      "text/plain": [
       "  website  pagerank\n",
       "0  state0  0.101549\n",
       "1  state1  0.101549\n",
       "2  state2  0.144707\n",
       "3  state3  0.231023\n",
       "4  state4  0.058390\n",
       "5  state5  0.304392\n",
       "6  state6  0.058390"
      ]
     },
     "execution_count": 256,
     "metadata": {},
     "output_type": "execute_result"
    }
   ],
   "source": [
    "import pandas as pd \n",
    "pd.DataFrame({'website':['state'+i for i in '0123456'], \n",
    "              'pagerank':np.array(GoogleMatrix_star[0]).reshape(-1).tolist()})"
   ]
  },
  {
   "cell_type": "markdown",
   "id": "40708b9e-738a-426c-8524-6ec221b08ffb",
   "metadata": {},
   "source": [
    "## 다른풀이 "
   ]
  },
  {
   "cell_type": "code",
   "execution_count": null,
   "id": "7d78175d-fdcf-4d74-abe8-5ae7e719acc2",
   "metadata": {},
   "outputs": [
    {
     "data": {
      "text/plain": [
       "(array([ 1.00000000e+00+0.00000000e+00j, -4.25000000e-01+0.00000000e+00j,\n",
       "        -1.51785714e-01+2.83152578e-01j, -1.51785714e-01-2.83152578e-01j,\n",
       "         4.10435341e-16+3.49001468e-09j,  4.10435341e-16-3.49001468e-09j,\n",
       "        -1.23689693e-16+0.00000000e+00j]),\n",
       " array([[ 2.30311410e-01+0.00000000e+00j, -7.07106781e-01+0.00000000e+00j,\n",
       "          1.23889626e-01+6.08192370e-02j,  1.23889626e-01-6.08192370e-02j,\n",
       "          6.70517695e-16+4.10589962e-09j,  6.70517695e-16-4.10589962e-09j,\n",
       "          6.21930304e-17+0.00000000e+00j],\n",
       "        [ 2.30311410e-01+0.00000000e+00j,  7.07106781e-01+0.00000000e+00j,\n",
       "          1.23889626e-01+6.08192370e-02j,  1.23889626e-01-6.08192370e-02j,\n",
       "         -3.47860214e-17+4.10589962e-09j, -3.47860214e-17-4.10589962e-09j,\n",
       "         -7.06738982e-16+0.00000000e+00j],\n",
       "        [ 3.28193759e-01+0.00000000e+00j, -4.33882382e-16+0.00000000e+00j,\n",
       "          1.17369119e-01-1.21638474e-01j,  1.17369119e-01+1.21638474e-01j,\n",
       "          5.00000000e-01+6.56567165e-09j,  5.00000000e-01-6.56567165e-09j,\n",
       "          5.35672960e-01+0.00000000e+00j],\n",
       "        [ 5.23958457e-01+0.00000000e+00j,  5.62582544e-16+0.00000000e+00j,\n",
       "          1.04328106e-01-4.86553896e-01j,  1.04328106e-01+4.86553896e-01j,\n",
       "          5.00000000e-01+2.05294981e-09j,  5.00000000e-01-2.05294981e-09j,\n",
       "          4.61578249e-01+0.00000000e+00j],\n",
       "        [ 1.32429060e-01+0.00000000e+00j,  2.54069191e-16+0.00000000e+00j,\n",
       "          1.30410133e-01+2.43276948e-01j,  1.30410133e-01-2.43276948e-01j,\n",
       "         -5.00000000e-01-2.45977203e-09j, -5.00000000e-01+2.45977203e-09j,\n",
       "         -5.35672960e-01+0.00000000e+00j],\n",
       "        [ 6.90358450e-01+0.00000000e+00j, -1.80400746e-15+0.00000000e+00j,\n",
       "         -7.30296743e-01+0.00000000e+00j, -7.30296743e-01-0.00000000e+00j,\n",
       "         -9.15125231e-16-1.43706487e-08j, -9.15125231e-16+1.43706487e-08j,\n",
       "          1.22268303e-15+0.00000000e+00j],\n",
       "        [ 1.32429060e-01+0.00000000e+00j,  2.82041609e-16+0.00000000e+00j,\n",
       "          1.30410133e-01+2.43276948e-01j,  1.30410133e-01-2.43276948e-01j,\n",
       "         -5.00000000e-01+0.00000000e+00j, -5.00000000e-01-0.00000000e+00j,\n",
       "         -4.61578249e-01+0.00000000e+00j]]))"
      ]
     },
     "execution_count": 265,
     "metadata": {},
     "output_type": "execute_result"
    }
   ],
   "source": [
    "np.linalg.eig(GoogleMatrix.T)"
   ]
  },
  {
   "cell_type": "code",
   "execution_count": null,
   "id": "fc6a0baa-9395-403d-a42e-36b2994b7f6d",
   "metadata": {},
   "outputs": [],
   "source": [
    "_, eig_vectors = np.linalg.eig(GoogleMatrix.T)"
   ]
  },
  {
   "cell_type": "code",
   "execution_count": null,
   "id": "7be25ec7-66ea-42e1-b3b5-ac009e9424de",
   "metadata": {},
   "outputs": [
    {
     "data": {
      "text/plain": [
       "array([0.10154862, 0.10154862, 0.14470678, 0.2310231 , 0.05839045,\n",
       "       0.30439198, 0.05839045])"
      ]
     },
     "execution_count": 267,
     "metadata": {},
     "output_type": "execute_result"
    }
   ],
   "source": [
    "abs(eig_vectors[:,0])/abs(eig_vectors[:,0]).sum()"
   ]
  },
  {
   "cell_type": "markdown",
   "id": "39afacaf-c99c-4c98-a5b1-e68f5e0731a1",
   "metadata": {},
   "source": [
    "## 페이지랭크의 약점 "
   ]
  },
  {
   "cell_type": "markdown",
   "id": "39e662d9-f94e-4a6d-9b5c-f03374850de4",
   "metadata": {},
   "source": [
    "`-` 아래와 같은 상황을 고려하자. "
   ]
  },
  {
   "cell_type": "markdown",
   "id": "af2465fb-4b4f-47bb-8345-28f64ac3a342",
   "metadata": {},
   "source": [
    "```{mermaid}\n",
    "flowchart LR\n",
    "  0 -->|1/2| 1\n",
    "  1 -->|1/2| 0\n",
    "  0 -->|1/2| 2\n",
    "  1 -->|1/2| 2\n",
    "  2 -->|1| 3 \n",
    "  4 -->|1| 3\n",
    "```"
   ]
  },
  {
   "cell_type": "code",
   "execution_count": 275,
   "id": "ca11bb5f-ae02-450e-8f40-abef990f46f6",
   "metadata": {},
   "outputs": [
    {
     "data": {
      "text/plain": [
       "array([[0. , 0.5, 0.5, 0. , 0. ],\n",
       "       [0.5, 0. , 0.5, 0. , 0. ],\n",
       "       [0. , 0. , 0. , 1. , 0. ],\n",
       "       [0.2, 0.2, 0.2, 0.2, 0.2],\n",
       "       [0. , 0. , 0. , 1. , 0. ]])"
      ]
     },
     "execution_count": 275,
     "metadata": {},
     "output_type": "execute_result"
    }
   ],
   "source": [
    "P = np.array([0.0, 1/2, 1/2, 0.0, 0.0,\n",
    "              1/2, 0.0, 1/2, 0.0, 0.0,\n",
    "              0.0, 0.0, 0.0, 1.0, 0.0,\n",
    "              1/5, 1/5, 1/5, 1/5, 1/5,\n",
    "              0.0, 0.0, 0.0, 1.0, 0.0]).reshape(5,5)\n",
    "P"
   ]
  },
  {
   "cell_type": "code",
   "execution_count": null,
   "id": "553849aa-db58-40f9-ac3a-68ba6070282b",
   "metadata": {},
   "outputs": [
    {
     "data": {
      "text/plain": [
       "array([[0.03 , 0.455, 0.455, 0.03 , 0.03 ],\n",
       "       [0.455, 0.03 , 0.455, 0.03 , 0.03 ],\n",
       "       [0.03 , 0.03 , 0.03 , 0.88 , 0.03 ],\n",
       "       [0.2  , 0.2  , 0.2  , 0.2  , 0.2  ],\n",
       "       [0.03 , 0.03 , 0.03 , 0.88 , 0.03 ]])"
      ]
     },
     "execution_count": 278,
     "metadata": {},
     "output_type": "execute_result"
    }
   ],
   "source": [
    "GoogleMatrix = P*0.85 + 0.15/5\n",
    "GoogleMatrix"
   ]
  },
  {
   "cell_type": "code",
   "execution_count": null,
   "id": "aaeefe19-a39e-4c2a-9d3f-06fe9879e6ba",
   "metadata": {},
   "outputs": [
    {
     "data": {
      "text/plain": [
       "matrix([[0.15936255, 0.15936255, 0.22709163, 0.3625498 , 0.09163347],\n",
       "        [0.15936255, 0.15936255, 0.22709163, 0.3625498 , 0.09163347],\n",
       "        [0.15936255, 0.15936255, 0.22709163, 0.3625498 , 0.09163347],\n",
       "        [0.15936255, 0.15936255, 0.22709163, 0.3625498 , 0.09163347],\n",
       "        [0.15936255, 0.15936255, 0.22709163, 0.3625498 , 0.09163347]])"
      ]
     },
     "execution_count": 279,
     "metadata": {},
     "output_type": "execute_result"
    }
   ],
   "source": [
    "np.matrix(GoogleMatrix)**100"
   ]
  },
  {
   "cell_type": "markdown",
   "id": "aae6a3da-dae8-49ad-b8af-f1fcf0901549",
   "metadata": {},
   "source": [
    "`-` 우리는 여기에서 1번네트워크의 page rank를 올리고 싶다고 가정하자. (현재는 5개중 0.15936255) "
   ]
  },
  {
   "cell_type": "markdown",
   "id": "80ff1195-0a8b-4d2d-b9af-658c4755ce17",
   "metadata": {},
   "source": [
    "```{mermaid}\n",
    "flowchart LR\n",
    "  0 -->|1/2| 1\n",
    "  1 -->|1/2| 0\n",
    "  0 -->|1/2| 2\n",
    "  1 -->|1/2| 2\n",
    "  2 -->|1| 3 \n",
    "  4 -->|1| 3\n",
    "```"
   ]
  },
  {
   "cell_type": "markdown",
   "id": "81aa9b06-2ec3-4e4d-a17b-bd98f70001de",
   "metadata": {},
   "source": [
    "**Step1:** 먼저 1번에서 다른쪽으로 가는 모든 링크를 끊는다. (다른 웹사이트의 page rank를 올려줄 이유가 없음) "
   ]
  },
  {
   "cell_type": "markdown",
   "id": "f583a0a5-8620-4e40-868e-91f060da7769",
   "metadata": {},
   "source": [
    "```{mermaid}\n",
    "flowchart LR\n",
    "  0 -->|1/2| 1\n",
    "  0 -->|1/2| 2\n",
    "  2 -->|1| 3 \n",
    "  4 -->|1| 3\n",
    "```"
   ]
  },
  {
   "cell_type": "code",
   "execution_count": 306,
   "id": "23bbadb8-9f60-45ab-a071-7fcf0eec42aa",
   "metadata": {},
   "outputs": [
    {
     "data": {
      "text/plain": [
       "array([[0.12640228, 0.18012324, 0.18012324, 0.38694897, 0.12640228],\n",
       "       [0.12640228, 0.18012324, 0.18012324, 0.38694897, 0.12640228],\n",
       "       [0.12640228, 0.18012324, 0.18012324, 0.38694897, 0.12640228],\n",
       "       [0.12640228, 0.18012324, 0.18012324, 0.38694897, 0.12640228],\n",
       "       [0.12640228, 0.18012324, 0.18012324, 0.38694897, 0.12640228]])"
      ]
     },
     "execution_count": 306,
     "metadata": {},
     "output_type": "execute_result"
    }
   ],
   "source": [
    "P = np.array([0.0, 1/2, 1/2, 0.0, 0.0,\n",
    "              1/5, 1/5, 1/5, 1/5, 1/5,\n",
    "              0.0, 0.0, 0.0, 1.0, 0.0,\n",
    "              1/5, 1/5, 1/5, 1/5, 1/5,\n",
    "              0.0, 0.0, 0.0, 1.0, 0.0]).reshape(5,5)\n",
    "GoogleMatrix = P*0.85 + 0.15/5\n",
    "np.linalg.matrix_power(GoogleMatrix,100)"
   ]
  },
  {
   "cell_type": "markdown",
   "id": "15a9fb91-f9b0-49dc-9bf9-c286b274aa8c",
   "metadata": {},
   "source": [
    "0.15936255에서 0.18012324로 올랐음 "
   ]
  },
  {
   "cell_type": "markdown",
   "id": "ccb5ccb5-4560-409c-84b4-8e89fb0cc7a9",
   "metadata": {},
   "source": [
    "**Step2:** 3개의 더미사이트 5,6,7을 만들어서 1번네트워크와 서로 연결시킨다. "
   ]
  },
  {
   "cell_type": "markdown",
   "id": "479cce8d-ab1a-44d0-a6f4-b08158055c32",
   "metadata": {},
   "source": [
    "```{mermaid}\n",
    "flowchart LR\n",
    "  0 -->|1/2| 1\n",
    "  0 -->|1/2| 2\n",
    "  2 -->|1| 3 \n",
    "  4 -->|1| 3\n",
    "  1 -->|1/3| 5\n",
    "  5 -->|1| 1\n",
    "  1 -->|1/3| 6\n",
    "  6 -->|1| 1\n",
    "  1 -->|1/3| 7 \n",
    "  7 -->|1| 1 \n",
    "```"
   ]
  },
  {
   "cell_type": "code",
   "execution_count": 311,
   "id": "91628aa9-112e-474e-bc0f-f3af026dda84",
   "metadata": {},
   "outputs": [
    {
     "data": {
      "text/plain": [
       "array([0.02778839, 0.39804992, 0.03959846, 0.08506721, 0.02778839,\n",
       "       0.14056921, 0.14056921, 0.14056921])"
      ]
     },
     "execution_count": 311,
     "metadata": {},
     "output_type": "execute_result"
    }
   ],
   "source": [
    "P = np.array([0.0, 1/2, 1/2, 0.0, 0.0, 0.0, 0.0, 0.0,\n",
    "              0.0, 0.0, 0.0, 0.0, 0.0, 1/3, 1/3, 1/3,\n",
    "              0.0, 0.0, 0.0, 1.0, 0.0, 0.0, 0.0, 0.0,\n",
    "              1/8, 1/8, 1/8, 1/8, 1/8, 1/8, 1/8, 1/8,\n",
    "              0.0, 0.0, 0.0, 1.0, 0.0, 0.0, 0.0, 0.0,\n",
    "              0.0, 1.0, 0.0, 0.0, 0.0, 0.0, 0.0, 0.0,\n",
    "              0.0, 1.0, 0.0, 0.0, 0.0, 0.0, 0.0, 0.0,\n",
    "              0.0, 1.0, 0.0, 0.0, 0.0, 0.0, 0.0, 0.0]).reshape(8,8)\n",
    "GoogleMatrix = P*0.85 + 0.15/8\n",
    "np.linalg.matrix_power(GoogleMatrix,100)[0].round(8)"
   ]
  },
  {
   "cell_type": "markdown",
   "id": "e310a9ba-e63f-47f8-8602-21eca8a7fd92",
   "metadata": {},
   "source": [
    "5개중 0.17647059 에서 7개중 0.39804992 로 올랐음 (압도적1위임)"
   ]
  },
  {
   "cell_type": "markdown",
   "id": "17cea1dd-8a74-4617-acb0-cda8b588b3e9",
   "metadata": {},
   "source": [
    "`-` 약점을 극복한 구글의 아이디어: 저도 몰라용.. "
   ]
  }
 ],
 "metadata": {
  "kernelspec": {
   "display_name": "Python 3",
   "language": "python",
   "name": "python3"
  },
  "language_info": {
   "codemirror_mode": {
    "name": "ipython",
    "version": 3
   },
   "file_extension": ".py",
   "mimetype": "text/x-python",
   "name": "python",
   "nbconvert_exporter": "python",
   "pygments_lexer": "ipython3",
   "version": "3.8.16"
  }
 },
 "nbformat": 4,
 "nbformat_minor": 5
}
