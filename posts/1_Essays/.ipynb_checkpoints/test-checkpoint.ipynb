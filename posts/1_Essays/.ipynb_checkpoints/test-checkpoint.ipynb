{
 "cells": [
  {
   "cell_type": "raw",
   "id": "814ea4bd-3d70-4598-a3f0-817a2aff304e",
   "metadata": {},
   "source": [
    "---\n",
    "title: \"**tests**\"\n",
    "author: \"신록예찬\"\n",
    "date: \"04/26/2019\"\n",
    "notebook-view:\n",
    "  - notebook: test.ipynb\n",
    "---"
   ]
  }
 ],
 "metadata": {
  "kernelspec": {
   "display_name": "Python 3 (ipykernel)",
   "language": "python",
   "name": "python3"
  },
  "language_info": {
   "codemirror_mode": {
    "name": "ipython",
    "version": 3
   },
   "file_extension": ".py",
   "mimetype": "text/x-python",
   "name": "python",
   "nbconvert_exporter": "python",
   "pygments_lexer": "ipython3",
   "version": "3.10.11"
  }
 },
 "nbformat": 4,
 "nbformat_minor": 5
}
