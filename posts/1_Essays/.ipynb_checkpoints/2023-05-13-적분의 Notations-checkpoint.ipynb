{
 "cells": [
  {
   "cell_type": "raw",
   "id": "2860e2e0-615c-4658-9bd4-9d3e93779273",
   "metadata": {},
   "source": [
    "---\n",
    "title: \"**[Essays]** 적분의 Notations\"\n",
    "author: \"신록예찬\"\n",
    "date: \"04/18/2023\"\n",
    "---"
   ]
  },
  {
   "cell_type": "markdown",
   "id": "ce8d77cd-e4a9-49bd-8d32-fde36219b875",
   "metadata": {},
   "source": [
    "# 참고문헌 "
   ]
  },
  {
   "cell_type": "markdown",
   "id": "56445733-fc9d-4a70-9fcf-969bd37484bc",
   "metadata": {},
   "source": [
    "ref: <https://ncatlab.org/nlab/show/measure+space>"
   ]
  },
  {
   "cell_type": "markdown",
   "id": "c57670c6-1a3b-43f0-ab15-a1498a8584f7",
   "metadata": {},
   "source": [
    "# 적분 "
   ]
  },
  {
   "cell_type": "markdown",
   "id": "f82dbda6-55f6-4efb-8e78-559aafec9ba4",
   "metadata": {},
   "source": [
    "`-` 적분에 대한 원래의 기호는 아래와 같다. \n",
    "\n",
    "$$\\int_a^b f(x)dx$$ "
   ]
  },
  {
   "cell_type": "markdown",
   "id": "48fdc911-285c-47eb-926f-a5a4ec209af4",
   "metadata": {},
   "source": [
    "`-` 현대의 측도론 "
   ]
  },
  {
   "cell_type": "markdown",
   "id": "228d9df7-eb2a-4b00-8801-d77d3570983b",
   "metadata": {},
   "source": [
    "$$\\int_{x \\in [a,b]} f(x)m(dx)$$ "
   ]
  },
  {
   "cell_type": "markdown",
   "id": "be26f36b-472d-4e59-99a5-fc070dc4bcee",
   "metadata": {},
   "source": [
    "여기에서 $m$은 르벡메져이다. 더미변수 $x$를 제외한다면 아래와 같이 표현가능하다. \n",
    "\n",
    "$$\\int_{[a,b]} f m$$"
   ]
  },
  {
   "cell_type": "markdown",
   "id": "ccd07d66-5345-4cc2-9735-8fce4f89e8a7",
   "metadata": {},
   "source": [
    "그런데 보통 아래와 같이 표현하기도 한다. \n",
    "\n",
    "$$\\int_{[a,b]} f dm$$"
   ]
  },
  {
   "cell_type": "markdown",
   "id": "592d99e1-4e99-45db-9ce1-7403bfc47acc",
   "metadata": {},
   "source": [
    "\n",
    "여기에서 $d$는 with respect to 로 읽으면된다. 그런데 그 뜻은 다르다. "
   ]
  },
  {
   "cell_type": "markdown",
   "id": "7dd401f9-4ab4-4fa4-ada9-0a557b9dd663",
   "metadata": {},
   "source": [
    "$$\\int_{x\\in [a,b]} f(x) dm(x)$$"
   ]
  },
  {
   "cell_type": "markdown",
   "id": "d3aeb906-ae65-418d-9784-2694eb5eb2e8",
   "metadata": {},
   "source": [
    "여기에서 $dm$을 그자체의 메져로 해석할 수도 있음. $dm(A)=m(A)$ 를 만족. "
   ]
  },
  {
   "cell_type": "code",
   "execution_count": null,
   "id": "8a457d19-8d8a-4268-a854-317379ce0798",
   "metadata": {},
   "outputs": [],
   "source": []
  }
 ],
 "metadata": {
  "kernelspec": {
   "display_name": "Python 3",
   "language": "python",
   "name": "python3"
  },
  "language_info": {
   "codemirror_mode": {
    "name": "ipython",
    "version": 3
   },
   "file_extension": ".py",
   "mimetype": "text/x-python",
   "name": "python",
   "nbconvert_exporter": "python",
   "pygments_lexer": "ipython3",
   "version": "3.8.16"
  }
 },
 "nbformat": 4,
 "nbformat_minor": 5
}
