{
 "cells": [
  {
   "cell_type": "code",
   "execution_count": 2,
   "id": "cd687d57-bd95-46c9-86b5-a42f47ef286c",
   "metadata": {},
   "outputs": [],
   "source": [
    "import pandas as pd"
   ]
  },
  {
   "cell_type": "code",
   "execution_count": 3,
   "id": "64693b76-9480-417c-a297-5fcbe0612c65",
   "metadata": {},
   "outputs": [],
   "source": [
    "df = pd.DataFrame({'A':[1,2,3],'B':[2,3,4]})"
   ]
  },
  {
   "cell_type": "code",
   "execution_count": 4,
   "id": "40f984d2-a964-46fa-9bcb-7c86e735b000",
   "metadata": {},
   "outputs": [],
   "source": [
    "fig = df.plot.line(backend='plotly')"
   ]
  },
  {
   "cell_type": "code",
   "execution_count": 7,
   "id": "9b971dac-5a17-4a28-a931-282788082360",
   "metadata": {},
   "outputs": [],
   "source": [
    "fig.write_image(\"fig1.eps\")"
   ]
  },
  {
   "cell_type": "code",
   "execution_count": 8,
   "id": "5bf8a37b-2a2c-4e6e-937e-b30fab8bb88c",
   "metadata": {},
   "outputs": [],
   "source": [
    "fig.write_image(\"fig1.pdf\")"
   ]
  }
 ],
 "metadata": {
  "kernelspec": {
   "display_name": "Python 3 (ipykernel)",
   "language": "python",
   "name": "python3"
  },
  "language_info": {
   "codemirror_mode": {
    "name": "ipython",
    "version": 3
   },
   "file_extension": ".py",
   "mimetype": "text/x-python",
   "name": "python",
   "nbconvert_exporter": "python",
   "pygments_lexer": "ipython3",
   "version": "3.11.4"
  }
 },
 "nbformat": 4,
 "nbformat_minor": 5
}
