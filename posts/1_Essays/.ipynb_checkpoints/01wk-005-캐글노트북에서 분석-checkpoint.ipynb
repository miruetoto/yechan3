{
 "cells": [
  {
   "cell_type": "raw",
   "id": "c99794cc-461a-45cd-a975-bacb7163c1df",
   "metadata": {},
   "source": [
    "---\n",
    "title: \"01wk-02: 캐글노트북이용\"\n",
    "author: \"최규빈\"\n",
    "date: \"09/04/2023\"\n",
    "bibliography: mpref.bib\n",
    "---"
   ]
  },
  {
   "cell_type": "code",
   "execution_count": null,
   "id": "7d4f7056-77a5-4bf9-bce2-2adbaad5717e",
   "metadata": {},
   "outputs": [],
   "source": []
  }
 ],
 "metadata": {
  "kernelspec": {
   "display_name": "Python 3 (ipykernel)",
   "language": "python",
   "name": "python3"
  },
  "language_info": {
   "codemirror_mode": {
    "name": "ipython",
    "version": 3
   },
   "file_extension": ".py",
   "mimetype": "text/x-python",
   "name": "python",
   "nbconvert_exporter": "python",
   "pygments_lexer": "ipython3",
   "version": "3.11.4"
  }
 },
 "nbformat": 4,
 "nbformat_minor": 5
}
