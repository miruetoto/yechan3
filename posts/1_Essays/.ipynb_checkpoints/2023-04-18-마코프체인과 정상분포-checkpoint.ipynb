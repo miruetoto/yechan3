{
 "cells": [
  {
   "cell_type": "raw",
   "id": "cefe950b-5104-4e7b-9eb5-6b0f4006896f",
   "metadata": {},
   "source": [
    "---\n",
    "title: \"**[Essays]** 에르고딕\"\n",
    "author: \"신록예찬\"\n",
    "date: \"04/18/2023\"\n",
    "---"
   ]
  },
  {
   "cell_type": "markdown",
   "id": "883c04d1-860a-4ebe-bade-8b996b224d5a",
   "metadata": {},
   "source": [
    "# 정리들 "
   ]
  },
  {
   "cell_type": "markdown",
   "id": "01302156-99e0-4763-bd4b-cc83f3d45a92",
   "metadata": {},
   "source": [
    "비주기, 기약 -> 극한분포가짐 -> (1) 모든상태가 일시적 or 귀무재귀 (2) 모든상태가 양재귀 "
   ]
  },
  {
   "cell_type": "markdown",
   "id": "5fb81cd3-0e87-40a3-a49f-ed3a9ecef503",
   "metadata": {},
   "source": [
    "모든상태가 일시적 or 귀무재귀 -> 정상분포 존재 X "
   ]
  },
  {
   "cell_type": "markdown",
   "id": "561edc9a-2859-4317-857d-e0c6a24c706a",
   "metadata": {},
   "source": [
    "비주기, 기약 -> 극한분포 가짐 -> 만약에 양재귀라면? -> 정상분포 존재 -> 이런걸 에르고딕 -> 극한분포 + 정상분포 존재 "
   ]
  },
  {
   "cell_type": "markdown",
   "id": "5d77dbb7-5b48-4351-a2ab-5ba645a44a89",
   "metadata": {},
   "source": [
    "유한상태공간, 비주기, 기약 -> 양재귀 -> 에르고딕"
   ]
  },
  {
   "cell_type": "markdown",
   "id": "fe283e13-cd84-425f-850e-4a88ac2466c0",
   "metadata": {},
   "source": [
    "비주기, 기약, 정상분포 존재 -> 모든상태는 에르고딕 -> 정상분포=극한분포, 정상분포 $\\pi_i=\\frac{1}{u_i}$, $u_i$는 상태 $i$로 최초로 돌아오는 평균시간, $u_i<\\infty$이면 양재귀 "
   ]
  },
  {
   "cell_type": "markdown",
   "id": "0098f950-b401-4d30-8e3c-4911af11926e",
   "metadata": {},
   "source": [
    "양재귀상태, 비주기상태 -> 에르고딕상태 "
   ]
  },
  {
   "cell_type": "markdown",
   "id": "87c31aa2-bfca-498e-b69d-d4ec38e87565",
   "metadata": {},
   "source": [
    "귀무재기상태(null recurrent state) = 평균으로 돌아오는 시간 (mean recurrence time) 이 무한대 "
   ]
  },
  {
   "cell_type": "code",
   "execution_count": 7,
   "id": "af649e65-d225-4d6a-9771-a0742b00165c",
   "metadata": {},
   "outputs": [],
   "source": [
    "import numpy as np"
   ]
  },
  {
   "cell_type": "code",
   "execution_count": 10,
   "id": "1dfcbb09-f925-4e61-ad3e-c74195d94f26",
   "metadata": {},
   "outputs": [],
   "source": [
    "P = np.matrix([[0.5,0.5,0,0],[0.3,0.3,0.4,0],[0,0.5,0.5,0],[0,0,0.5,0.5]])"
   ]
  },
  {
   "cell_type": "code",
   "execution_count": 15,
   "id": "3537baa3-adab-44fc-aac0-fdb830723a57",
   "metadata": {},
   "outputs": [
    {
     "data": {
      "text/plain": [
       "array([[0.25 , 0.417, 0.333, 0.   ],\n",
       "       [0.25 , 0.417, 0.333, 0.   ],\n",
       "       [0.25 , 0.417, 0.333, 0.   ],\n",
       "       [0.25 , 0.417, 0.333, 0.   ]])"
      ]
     },
     "execution_count": 15,
     "metadata": {},
     "output_type": "execute_result"
    }
   ],
   "source": [
    "(P**100).round(3)"
   ]
  },
  {
   "cell_type": "markdown",
   "id": "68ab21a1-670c-45bb-ac0e-382fb45224cc",
   "metadata": {},
   "source": [
    "`-` 이론: 마코프체인이 정상분포를 가진다면, "
   ]
  },
  {
   "cell_type": "markdown",
   "id": "af674bb4-47b4-44f9-b11d-35c49349c724",
   "metadata": {},
   "source": [
    "`-` 정상확률과정이면 에르고딕 정리를 만족한다. 즉 시간평균은 확률변수로 수렴하거나 어떠한 상수로 수렴한다. "
   ]
  },
  {
   "cell_type": "markdown",
   "id": "a442e3ba-4f27-4971-bf90-05418e710f00",
   "metadata": {},
   "source": [
    "`-` 이외숙p69: 비주기, 양재귀, 기약 = 에르고딕 $\\Rightarrow$ \n",
    "\n",
    "- 극한분포 존재 \n",
    "- 정상분포 존재 "
   ]
  },
  {
   "cell_type": "markdown",
   "id": "87458ea4-8a42-4a22-935a-e285c05ee523",
   "metadata": {},
   "source": [
    "`-` 이외숙p69: 유한상태공간, 비주기, 기약 $\\Rightarrow$ "
   ]
  },
  {
   "cell_type": "markdown",
   "id": "19d94de5-a992-49e4-8202-118ee20c34e7",
   "metadata": {},
   "source": [
    "`-` 정상 확률과정이고 에르고딕 확률과정이면 시간평균 = 앙상블평균 이다. "
   ]
  },
  {
   "cell_type": "markdown",
   "id": "3445f333-e810-44c5-ab72-8bc7e7e1b91d",
   "metadata": {},
   "source": [
    "`-` 초기분포가 정상분포이면 모든 $n$에 대한 $X_n$의 분포도 정상분포이다. "
   ]
  },
  {
   "cell_type": "markdown",
   "id": "eb145644-1c91-4e80-b56b-8f5f1f31c7ea",
   "metadata": {},
   "source": [
    "`-` 초기분포가 정상분포인 마코프과정 $\\{X_n\\}$은 정상확률과정이다. "
   ]
  },
  {
   "cell_type": "markdown",
   "id": "6be01774-1399-41a0-8a81-541cd0d64ccf",
   "metadata": {},
   "source": [
    "`-` $\\{X_t\\}$가 homogeneous 하고 ergodic 하다면 $\\Rightarrow$ strong ergodic "
   ]
  },
  {
   "cell_type": "markdown",
   "id": "c12d3845-6430-4bc0-8105-27b8848accbb",
   "metadata": {},
   "source": [
    "`-` 강에르고드성: 정상분포가 존재함. 초기분포와 상관없이 $\\mu_m^\\top {\\bf P}(m,k)$는 수렴함 // 호모지니우스 필요 X "
   ]
  },
  {
   "cell_type": "markdown",
   "id": "1806dd8b-2ad8-4653-b8d6-9d4a62482cbe",
   "metadata": {},
   "source": [
    "`-` 약에르고드성: 정상분포 존재하지 않음. 극한분포만 존재함. "
   ]
  },
  {
   "cell_type": "markdown",
   "id": "67aa6634-6f03-4509-8002-a1c3a02e2427",
   "metadata": {},
   "source": [
    "`-` (1) $\\{X_t\\}$ is HMC (2) ${\\bf P}$ is irreducible $\\Rightarrow$ (all states positive recurrent $\\Leftrightarrow$ $\\{X_t\\}$ has a stationary distribution)"
   ]
  },
  {
   "cell_type": "markdown",
   "id": "150a840a-02ad-452f-815c-8be185f7a6c9",
   "metadata": {},
   "source": [
    "`-` (1) $\\{X_t\\}$ is HMC (2) $\\{X_t\\}$ has finite state $\\Rightarrow$ (${\\bf P}$ is irreducible $\\Leftrightarrow$ all states are positive recurrent) $\\Rightarrow$ (${\\bf P}$ is irreducible $\\Leftrightarrow$ all states are positive recurrent $\\Leftrightarrow$ $\\{X_t\\}$ has stationary distribution) "
   ]
  },
  {
   "cell_type": "markdown",
   "id": "569b1867-86af-482a-8fa1-57796ead97b2",
   "metadata": {},
   "source": [
    "`-` 에르고딕: irreducible, positive recurrent, aperiodic HMC "
   ]
  },
  {
   "cell_type": "markdown",
   "id": "8152f490-9890-47df-bb7c-8aeb6c6a09b6",
   "metadata": {},
   "source": [
    "`-` 예시1: "
   ]
  },
  {
   "cell_type": "markdown",
   "id": "3cbd20ae-8e80-42b3-9f9f-6666cafcca59",
   "metadata": {},
   "source": [
    "아래와 같은 두 개의 동전이 있다. \n",
    "\n",
    "- 동전1: 앞면이 나올 확률이 0.7 \n",
    "- 동전2: 앞면이 나올 확률이 0.2\n",
    "\n",
    "두개의 동전 중 하나를 0.5의 확률로 골라서 그 동전을 끝없이 던진다고 하자. 아래의 사실을 관찰하자. \n",
    "\n",
    "1. 시간평균: 0.7 혹은 0.2 // 확률변수로 수렴 \n",
    "2. 앙상블평균: 0.45 "
   ]
  },
  {
   "cell_type": "markdown",
   "id": "d1ad54d4-b300-4c5e-aa3d-b566e9bb1182",
   "metadata": {},
   "source": [
    "정리하면 \n",
    "\n",
    "1. 정상확률과정 O\n",
    "2. 시간평균수렴 O \n",
    "3. 에르고딕 확률과정 X "
   ]
  },
  {
   "cell_type": "markdown",
   "id": "5e9a4ef3-891a-4f97-b565-80480b43ff57",
   "metadata": {},
   "source": [
    "전이확률: 정의불가능. (마코프과정이 아님)\n",
    "\n",
    "- ${\\bf P}= \\begin{bmatrix} 0.3 & 0.7 \\\\ 0.3 & 0.7 \\end{bmatrix}$ or ${\\bf P}= \\begin{bmatrix} 0.8 & 0.2 \\\\ 0.8 & 0.2 \\end{bmatrix}$"
   ]
  },
  {
   "cell_type": "markdown",
   "id": "71f10737-d7b1-48b1-890c-b29025f0e06c",
   "metadata": {},
   "source": [
    "time-homogeneous transition prob: X "
   ]
  },
  {
   "cell_type": "markdown",
   "id": "5c430c90-2937-41b2-ae6b-08a1b67a4501",
   "metadata": {},
   "source": [
    "정상과정, 정상분포 "
   ]
  },
  {
   "cell_type": "markdown",
   "id": "07247655-1045-4a4c-b5f1-a73462853735",
   "metadata": {},
   "source": [
    "`-` 예시2: "
   ]
  },
  {
   "cell_type": "markdown",
   "id": "b6ee56c7-7430-4eda-bf33-390ca4a47daf",
   "metadata": {},
   "source": [
    "0.3의 확률로 아래를 관찰\n",
    "\n",
    "- ${\\boldsymbol X}(\\omega_1)= [0,1,0,1,\\dots]$ \n",
    "- ${\\boldsymbol X}(\\omega_2)= [1,0,1,0,\\dots]$ \n"
   ]
  },
  {
   "cell_type": "markdown",
   "id": "a6a7c062-3e2d-4566-a353-e56dd1818689",
   "metadata": {},
   "source": [
    "시간평균, 앙상블평균 \n",
    "\n",
    "1. 시간평균: 0.5 \n",
    "2. 앙상블평균: $t=1,3,5,\\dots$ 일 경우는 $E(X_t)=0.7$, $t=2,4,6,\\dots$ 일 경우는 $E(X_t)=0.3$"
   ]
  },
  {
   "cell_type": "markdown",
   "id": "a9bf3175-6ae6-47ef-892a-03b2422e2492",
   "metadata": {},
   "source": [
    "전이확률: 정의가능 \n",
    "\n",
    "- ${\\bf P}= \\begin{bmatrix} 0 & 1 \\\\ 1 & 0 \\end{bmatrix}$"
   ]
  },
  {
   "cell_type": "markdown",
   "id": "484d31ca-a687-499d-9c3d-a39356d643e7",
   "metadata": {},
   "source": [
    "전이확률의 극한: 존재하지 않음 "
   ]
  },
  {
   "cell_type": "markdown",
   "id": "4ed0539a-d478-4576-bb1f-b9965583b42b",
   "metadata": {},
   "source": [
    "정리하면 \n",
    "\n",
    "1. 정상확률과정 X \n",
    "2. 시간평균수렴 O \n",
    "3. 에르고딕 확률과정 O // 약 에르고드성질을 가지고 있음 "
   ]
  }
 ],
 "metadata": {
  "kernelspec": {
   "display_name": "Python 3",
   "language": "python",
   "name": "python3"
  },
  "language_info": {
   "codemirror_mode": {
    "name": "ipython",
    "version": 3
   },
   "file_extension": ".py",
   "mimetype": "text/x-python",
   "name": "python",
   "nbconvert_exporter": "python",
   "pygments_lexer": "ipython3",
   "version": "3.8.16"
  }
 },
 "nbformat": 4,
 "nbformat_minor": 5
}
