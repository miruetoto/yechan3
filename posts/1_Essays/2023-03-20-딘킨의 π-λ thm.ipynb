{
 "cells": [
  {
   "cell_type": "raw",
   "id": "eb8cf5a2-52ef-4c90-87bd-994c30627704",
   "metadata": {},
   "source": [
    "---\n",
    "title: \"***딘킨의 π-λ thm***\"\n",
    "author: \"신록예찬\"\n",
    "date: \"03/20/2023\"\n",
    "---"
   ]
  },
  {
   "cell_type": "markdown",
   "id": "1cba6c02-b5b4-4446-a05d-1378b32892ff",
   "metadata": {},
   "source": [
    "`-` import "
   ]
  },
  {
   "cell_type": "code",
   "execution_count": 1,
   "id": "001fa2a1-9ade-48c3-bd4f-0fb17e8be628",
   "metadata": {},
   "outputs": [],
   "source": [
    "import pandas as pd"
   ]
  },
  {
   "cell_type": "markdown",
   "id": "e4bccbc3-dae1-45bd-bf37-89887d36e74e",
   "metadata": {},
   "source": [
    "`-` 부분집합을 구하는 함수 "
   ]
  },
  {
   "cell_type": "code",
   "execution_count": 2,
   "id": "cf7b9303-054e-4c7a-939f-2d307aba0af6",
   "metadata": {},
   "outputs": [],
   "source": [
    "def powerset(Ω):\n",
    "    if not Ω:\n",
    "        return [[]]\n",
    "    result = []\n",
    "    for x in powerset(Ω[1:]):\n",
    "        result += [x, [Ω[0]] + x]\n",
    "    return result"
   ]
  },
  {
   "cell_type": "code",
   "execution_count": 3,
   "id": "5f7a8f5a-0875-496a-8c56-d9a4be2842a5",
   "metadata": {},
   "outputs": [
    {
     "data": {
      "text/plain": [
       "[[], ['H'], ['T'], ['H', 'T']]"
      ]
     },
     "execution_count": 3,
     "metadata": {},
     "output_type": "execute_result"
    }
   ],
   "source": [
    "Ω = ['H','T']\n",
    "F = powerset(['H','T'])\n",
    "F"
   ]
  },
  {
   "cell_type": "markdown",
   "id": "9cd2787f-2f40-4181-bc2d-48d7b508ddc5",
   "metadata": {},
   "source": [
    "`-` $\\pi$-system임을 test하는 함수 "
   ]
  },
  {
   "cell_type": "code",
   "execution_count": 4,
   "id": "f4738acb-0dcb-41f2-a4e7-b9419cb0c225",
   "metadata": {},
   "outputs": [],
   "source": [
    "def is_closed_under_intersection(Ω,F):\n",
    "    for A in F: \n",
    "        for B in F:\n",
    "            if list(set(A)&set(B)) not in F: \n",
    "                return False\n",
    "    return True "
   ]
  },
  {
   "cell_type": "code",
   "execution_count": 12,
   "id": "330c2dd7-98aa-4074-84b9-855bd386ad29",
   "metadata": {},
   "outputs": [],
   "source": [
    "is_pisystem = is_closed_under_intersection"
   ]
  },
  {
   "cell_type": "code",
   "execution_count": 13,
   "id": "77bebb7e-9538-41d3-9cbc-80bde10abebc",
   "metadata": {},
   "outputs": [
    {
     "data": {
      "text/plain": [
       "False"
      ]
     },
     "execution_count": 13,
     "metadata": {},
     "output_type": "execute_result"
    }
   ],
   "source": [
    "Ω = ['H','T']\n",
    "F = [['H'], ['T']]\n",
    "is_closed_under_intersection(Ω,F)"
   ]
  },
  {
   "cell_type": "markdown",
   "id": "30f68317-52f0-45a3-90ca-448507b114b7",
   "metadata": {},
   "source": [
    "`-` $\\pi$-system이 아닐경우 반례를 찾는 함수 "
   ]
  },
  {
   "cell_type": "code",
   "execution_count": 14,
   "id": "ea8d889d-08ea-4bbd-962b-ce9e025b2c83",
   "metadata": {},
   "outputs": [],
   "source": [
    "# def find(collection):\n",
    "#     for A in collection: \n",
    "#         for B in collection:\n",
    "#             if list(set(A)&set(B)) not in collection: \n",
    "#                 return {'collection':collection,'A':A,'B':B}"
   ]
  },
  {
   "cell_type": "code",
   "execution_count": 15,
   "id": "7f88f0e2-8bf4-401a-9b15-9a80a67d4a57",
   "metadata": {},
   "outputs": [],
   "source": [
    "# find([['H'], ['T']])"
   ]
  },
  {
   "cell_type": "markdown",
   "id": "971bb100-ff34-47ec-a54a-de6f57886ec4",
   "metadata": {},
   "source": [
    "`-` $\\Omega=\\{1,2,3\\}$일 경우 $2^\\Omega$를 구해보자. "
   ]
  },
  {
   "cell_type": "code",
   "execution_count": 31,
   "id": "370d42ee-bdf8-4856-a3d7-bde40299f007",
   "metadata": {},
   "outputs": [],
   "source": [
    "Ω = [1,2,3]\n",
    "F = powerset([1,2,3])\n",
    "collection_list = powerset(F)[1:]"
   ]
  },
  {
   "cell_type": "code",
   "execution_count": 33,
   "id": "f6214d86-3eac-4a37-b9f7-041da9294c3d",
   "metadata": {},
   "outputs": [
    {
     "data": {
      "text/html": [
       "<div>\n",
       "<style scoped>\n",
       "    .dataframe tbody tr th:only-of-type {\n",
       "        vertical-align: middle;\n",
       "    }\n",
       "\n",
       "    .dataframe tbody tr th {\n",
       "        vertical-align: top;\n",
       "    }\n",
       "\n",
       "    .dataframe thead th {\n",
       "        text-align: right;\n",
       "    }\n",
       "</style>\n",
       "<table border=\"1\" class=\"dataframe\">\n",
       "  <thead>\n",
       "    <tr style=\"text-align: right;\">\n",
       "      <th></th>\n",
       "      <th>collection</th>\n",
       "      <th>is π-system?</th>\n",
       "    </tr>\n",
       "  </thead>\n",
       "  <tbody>\n",
       "    <tr>\n",
       "      <th>0</th>\n",
       "      <td>[[]]</td>\n",
       "      <td>True</td>\n",
       "    </tr>\n",
       "    <tr>\n",
       "      <th>1</th>\n",
       "      <td>[[1]]</td>\n",
       "      <td>True</td>\n",
       "    </tr>\n",
       "    <tr>\n",
       "      <th>2</th>\n",
       "      <td>[[], [1]]</td>\n",
       "      <td>True</td>\n",
       "    </tr>\n",
       "    <tr>\n",
       "      <th>3</th>\n",
       "      <td>[[2]]</td>\n",
       "      <td>True</td>\n",
       "    </tr>\n",
       "    <tr>\n",
       "      <th>4</th>\n",
       "      <td>[[], [2]]</td>\n",
       "      <td>True</td>\n",
       "    </tr>\n",
       "    <tr>\n",
       "      <th>...</th>\n",
       "      <td>...</td>\n",
       "      <td>...</td>\n",
       "    </tr>\n",
       "    <tr>\n",
       "      <th>250</th>\n",
       "      <td>[[], [1], [1, 2], [3], [1, 3], [2, 3], [1, 2, 3]]</td>\n",
       "      <td>False</td>\n",
       "    </tr>\n",
       "    <tr>\n",
       "      <th>251</th>\n",
       "      <td>[[2], [1, 2], [3], [1, 3], [2, 3], [1, 2, 3]]</td>\n",
       "      <td>False</td>\n",
       "    </tr>\n",
       "    <tr>\n",
       "      <th>252</th>\n",
       "      <td>[[], [2], [1, 2], [3], [1, 3], [2, 3], [1, 2, 3]]</td>\n",
       "      <td>False</td>\n",
       "    </tr>\n",
       "    <tr>\n",
       "      <th>253</th>\n",
       "      <td>[[1], [2], [1, 2], [3], [1, 3], [2, 3], [1, 2,...</td>\n",
       "      <td>False</td>\n",
       "    </tr>\n",
       "    <tr>\n",
       "      <th>254</th>\n",
       "      <td>[[], [1], [2], [1, 2], [3], [1, 3], [2, 3], [1...</td>\n",
       "      <td>True</td>\n",
       "    </tr>\n",
       "  </tbody>\n",
       "</table>\n",
       "<p>255 rows × 2 columns</p>\n",
       "</div>"
      ],
      "text/plain": [
       "                                            collection  is π-system?\n",
       "0                                                 [[]]          True\n",
       "1                                                [[1]]          True\n",
       "2                                            [[], [1]]          True\n",
       "3                                                [[2]]          True\n",
       "4                                            [[], [2]]          True\n",
       "..                                                 ...           ...\n",
       "250  [[], [1], [1, 2], [3], [1, 3], [2, 3], [1, 2, 3]]         False\n",
       "251      [[2], [1, 2], [3], [1, 3], [2, 3], [1, 2, 3]]         False\n",
       "252  [[], [2], [1, 2], [3], [1, 3], [2, 3], [1, 2, 3]]         False\n",
       "253  [[1], [2], [1, 2], [3], [1, 3], [2, 3], [1, 2,...         False\n",
       "254  [[], [1], [2], [1, 2], [3], [1, 3], [2, 3], [1...          True\n",
       "\n",
       "[255 rows x 2 columns]"
      ]
     },
     "execution_count": 33,
     "metadata": {},
     "output_type": "execute_result"
    }
   ],
   "source": [
    "df = pd.DataFrame([(collection,is_pisystem(Ω,collection)) for collection in collection_list])\n",
    "df.columns = ['collection','is π-system?']\n",
    "df"
   ]
  },
  {
   "cell_type": "markdown",
   "id": "eb70716f-cb83-40b6-b96c-06649023f7d2",
   "metadata": {},
   "source": [
    "`-` $\\lambda$-system 을 판단하는 함수 "
   ]
  },
  {
   "cell_type": "code",
   "execution_count": 34,
   "id": "719ded26-8a9b-47f0-80f5-f121a258ad85",
   "metadata": {},
   "outputs": [],
   "source": [
    "Ω = [1,2,3]\n",
    "F = powerset(Ω)"
   ]
  },
  {
   "cell_type": "code",
   "execution_count": 103,
   "id": "e51da1b9-7982-4ba4-8dcb-45217ae5e0bf",
   "metadata": {},
   "outputs": [],
   "source": [
    "def is_closed_under_complement(Ω,F,verbose=False):\n",
    "    for A in F:\n",
    "        if list((set(Ω)-set(A))) not in F:\n",
    "            if verbose: print({'F':F,'A':A})\n",
    "            return False \n",
    "    return True"
   ]
  },
  {
   "cell_type": "code",
   "execution_count": 104,
   "id": "452f1ef1-7f9a-42a3-899f-84df0db05b40",
   "metadata": {},
   "outputs": [
    {
     "data": {
      "text/plain": [
       "[1, 2, 3]"
      ]
     },
     "execution_count": 104,
     "metadata": {},
     "output_type": "execute_result"
    }
   ],
   "source": [
    "list(set(Ω) - set(['HH', 'HT']))"
   ]
  },
  {
   "cell_type": "code",
   "execution_count": 106,
   "id": "0a25401c-9aab-4e37-a1de-9f83adbdfa51",
   "metadata": {},
   "outputs": [
    {
     "data": {
      "text/plain": [
       "True"
      ]
     },
     "execution_count": 106,
     "metadata": {},
     "output_type": "execute_result"
    }
   ],
   "source": [
    "is_closed_under_complement(Ω,[[1,2],[3]])"
   ]
  },
  {
   "cell_type": "code",
   "execution_count": 76,
   "id": "f6bb8e5f-8551-42d6-aa69-fa99edda9bc4",
   "metadata": {},
   "outputs": [],
   "source": [
    "def is_closed_under_disjoint_union(Ω,F):\n",
    "    for A in F: \n",
    "        for B in F:\n",
    "            if set(A) & set(B) == set():\n",
    "                if list(set(A).union(set(B))) not in F:\n",
    "                    return False\n",
    "    return True"
   ]
  },
  {
   "cell_type": "code",
   "execution_count": 77,
   "id": "9d252d08-9205-42a0-bf1f-685067210557",
   "metadata": {},
   "outputs": [
    {
     "data": {
      "text/plain": [
       "False"
      ]
     },
     "execution_count": 97,
     "metadata": {},
     "output_type": "execute_result"
    }
   ],
   "source": [
    "is_closed_under_disjoint_union(Ω,F)"
   ]
  },
  {
   "cell_type": "code",
   "execution_count": 78,
   "id": "55e11822-ec81-4d03-9167-dfc2c1484bda",
   "metadata": {},
   "outputs": [
    {
     "data": {
      "text/plain": [
       "['HH', 'HT', 'TH', 'TT']"
      ]
     },
     "execution_count": 98,
     "metadata": {},
     "output_type": "execute_result"
    }
   ],
   "source": [
    "Ω"
   ]
  },
  {
   "cell_type": "code",
   "execution_count": 79,
   "id": "048ef1dc-bb37-4efa-9a37-8f1dfb20f57e",
   "metadata": {},
   "outputs": [
    {
     "data": {
      "text/plain": [
       "[['HH', 'HT'],\n",
       " ['HH', 'TH'],\n",
       " ['HT', 'TT'],\n",
       " ['TH', 'TT'],\n",
       " ['HT', 'TH'],\n",
       " ['HT', 'TT'],\n",
       " ['HH', 'HT', 'TH', 'TT'],\n",
       " []]"
      ]
     },
     "execution_count": 99,
     "metadata": {},
     "output_type": "execute_result"
    }
   ],
   "source": [
    "F"
   ]
  },
  {
   "cell_type": "code",
   "execution_count": 80,
   "id": "4187fd79-6783-49b3-97d5-dcb9359934bd",
   "metadata": {},
   "outputs": [],
   "source": [
    "def is_lambdasystem(Ω,F):\n",
    "    test1 = Ω in F\n",
    "    test2 = is_closed_under_complement(Ω,F) \n",
    "    test3 = is_closed_under_disjoint_union(Ω,F)\n",
    "    if test1 and test2 and test3:\n",
    "        return True \n",
    "    else:\n",
    "        return False"
   ]
  },
  {
   "cell_type": "code",
   "execution_count": 81,
   "id": "1cf1ed15-3ec2-4e54-818e-29b502ce19c2",
   "metadata": {},
   "outputs": [
    {
     "ename": "TypeError",
     "evalue": "unhashable type: 'list'",
     "output_type": "error",
     "traceback": [
      "\u001b[0;31m---------------------------------------------------------------------------\u001b[0m",
      "\u001b[0;31mTypeError\u001b[0m                                 Traceback (most recent call last)",
      "Cell \u001b[0;32mIn[101], line 1\u001b[0m\n\u001b[0;32m----> 1\u001b[0m \u001b[43mis_lambdasystem\u001b[49m\u001b[43m(\u001b[49m\u001b[43mΩ\u001b[49m\u001b[43m,\u001b[49m\u001b[43mF\u001b[49m\u001b[43m)\u001b[49m\n",
      "Cell \u001b[0;32mIn[100], line 3\u001b[0m, in \u001b[0;36mis_lambdasystem\u001b[0;34m(Ω, F)\u001b[0m\n\u001b[1;32m      1\u001b[0m \u001b[38;5;28;01mdef\u001b[39;00m \u001b[38;5;21mis_lambdasystem\u001b[39m(Ω,F):\n\u001b[1;32m      2\u001b[0m     test1 \u001b[38;5;241m=\u001b[39m Ω \u001b[38;5;129;01min\u001b[39;00m F\n\u001b[0;32m----> 3\u001b[0m     test2 \u001b[38;5;241m=\u001b[39m \u001b[43mis_closed_under_complement\u001b[49m\u001b[43m(\u001b[49m\u001b[43mΩ\u001b[49m\u001b[43m,\u001b[49m\u001b[43mF\u001b[49m\u001b[43m)\u001b[49m \n\u001b[1;32m      4\u001b[0m     test3 \u001b[38;5;241m=\u001b[39m is_closed_under_disjoint_union(Ω,F)\n\u001b[1;32m      5\u001b[0m     \u001b[38;5;28;01mif\u001b[39;00m test1 \u001b[38;5;129;01mand\u001b[39;00m test2 \u001b[38;5;129;01mand\u001b[39;00m test3:\n",
      "Cell \u001b[0;32mIn[94], line 3\u001b[0m, in \u001b[0;36mis_closed_under_complement\u001b[0;34m(Ω, F, verbose)\u001b[0m\n\u001b[1;32m      1\u001b[0m \u001b[38;5;28;01mdef\u001b[39;00m \u001b[38;5;21mis_closed_under_complement\u001b[39m(Ω,F,verbose\u001b[38;5;241m=\u001b[39m\u001b[38;5;28;01mFalse\u001b[39;00m):\n\u001b[1;32m      2\u001b[0m     \u001b[38;5;28;01mfor\u001b[39;00m A \u001b[38;5;129;01min\u001b[39;00m F:\n\u001b[0;32m----> 3\u001b[0m         \u001b[38;5;28;01mif\u001b[39;00m \u001b[38;5;28mlist\u001b[39m(\u001b[38;5;28mset\u001b[39m(Ω)\u001b[38;5;241m-\u001b[39m\u001b[38;5;28mset\u001b[39m(A)) \u001b[38;5;129;01mnot\u001b[39;00m \u001b[38;5;129;01min\u001b[39;00m \u001b[38;5;28;43mset\u001b[39;49m\u001b[43m(\u001b[49m\u001b[43mF\u001b[49m\u001b[43m)\u001b[49m:\n\u001b[1;32m      4\u001b[0m             \u001b[38;5;28;01mif\u001b[39;00m verbose: \u001b[38;5;28mprint\u001b[39m({\u001b[38;5;124m'\u001b[39m\u001b[38;5;124mF\u001b[39m\u001b[38;5;124m'\u001b[39m:F,\u001b[38;5;124m'\u001b[39m\u001b[38;5;124mA\u001b[39m\u001b[38;5;124m'\u001b[39m:A})\n\u001b[1;32m      5\u001b[0m             \u001b[38;5;28;01mreturn\u001b[39;00m \u001b[38;5;28;01mFalse\u001b[39;00m \n",
      "\u001b[0;31mTypeError\u001b[0m: unhashable type: 'list'"
     ]
    }
   ],
   "source": [
    "is_lambdasystem(Ω,F)"
   ]
  },
  {
   "cell_type": "code",
   "execution_count": 82,
   "id": "a656b9a7-7e1c-4a36-9b3a-24fd20302db8",
   "metadata": {},
   "outputs": [
    {
     "data": {
      "text/html": [
       "<div>\n",
       "<style scoped>\n",
       "    .dataframe tbody tr th:only-of-type {\n",
       "        vertical-align: middle;\n",
       "    }\n",
       "\n",
       "    .dataframe tbody tr th {\n",
       "        vertical-align: top;\n",
       "    }\n",
       "\n",
       "    .dataframe thead th {\n",
       "        text-align: right;\n",
       "    }\n",
       "</style>\n",
       "<table border=\"1\" class=\"dataframe\">\n",
       "  <thead>\n",
       "    <tr style=\"text-align: right;\">\n",
       "      <th></th>\n",
       "      <th>collection</th>\n",
       "      <th>pi_sys</th>\n",
       "      <th>lambda_sys</th>\n",
       "    </tr>\n",
       "  </thead>\n",
       "  <tbody>\n",
       "    <tr>\n",
       "      <th>0</th>\n",
       "      <td>[[]]</td>\n",
       "      <td>True</td>\n",
       "      <td>False</td>\n",
       "    </tr>\n",
       "    <tr>\n",
       "      <th>1</th>\n",
       "      <td>[[1]]</td>\n",
       "      <td>True</td>\n",
       "      <td>False</td>\n",
       "    </tr>\n",
       "    <tr>\n",
       "      <th>2</th>\n",
       "      <td>[[], [1]]</td>\n",
       "      <td>True</td>\n",
       "      <td>False</td>\n",
       "    </tr>\n",
       "    <tr>\n",
       "      <th>3</th>\n",
       "      <td>[[2]]</td>\n",
       "      <td>True</td>\n",
       "      <td>False</td>\n",
       "    </tr>\n",
       "    <tr>\n",
       "      <th>4</th>\n",
       "      <td>[[], [2]]</td>\n",
       "      <td>True</td>\n",
       "      <td>False</td>\n",
       "    </tr>\n",
       "    <tr>\n",
       "      <th>...</th>\n",
       "      <td>...</td>\n",
       "      <td>...</td>\n",
       "      <td>...</td>\n",
       "    </tr>\n",
       "    <tr>\n",
       "      <th>250</th>\n",
       "      <td>[[], [1], [1, 2], [3], [1, 3], [2, 3], [1, 2, 3]]</td>\n",
       "      <td>False</td>\n",
       "      <td>False</td>\n",
       "    </tr>\n",
       "    <tr>\n",
       "      <th>251</th>\n",
       "      <td>[[2], [1, 2], [3], [1, 3], [2, 3], [1, 2, 3]]</td>\n",
       "      <td>False</td>\n",
       "      <td>False</td>\n",
       "    </tr>\n",
       "    <tr>\n",
       "      <th>252</th>\n",
       "      <td>[[], [2], [1, 2], [3], [1, 3], [2, 3], [1, 2, 3]]</td>\n",
       "      <td>False</td>\n",
       "      <td>False</td>\n",
       "    </tr>\n",
       "    <tr>\n",
       "      <th>253</th>\n",
       "      <td>[[1], [2], [1, 2], [3], [1, 3], [2, 3], [1, 2,...</td>\n",
       "      <td>False</td>\n",
       "      <td>False</td>\n",
       "    </tr>\n",
       "    <tr>\n",
       "      <th>254</th>\n",
       "      <td>[[], [1], [2], [1, 2], [3], [1, 3], [2, 3], [1...</td>\n",
       "      <td>True</td>\n",
       "      <td>False</td>\n",
       "    </tr>\n",
       "  </tbody>\n",
       "</table>\n",
       "<p>255 rows × 3 columns</p>\n",
       "</div>"
      ],
      "text/plain": [
       "                                            collection  pi_sys  lambda_sys\n",
       "0                                                 [[]]    True       False\n",
       "1                                                [[1]]    True       False\n",
       "2                                            [[], [1]]    True       False\n",
       "3                                                [[2]]    True       False\n",
       "4                                            [[], [2]]    True       False\n",
       "..                                                 ...     ...         ...\n",
       "250  [[], [1], [1, 2], [3], [1, 3], [2, 3], [1, 2, 3]]   False       False\n",
       "251      [[2], [1, 2], [3], [1, 3], [2, 3], [1, 2, 3]]   False       False\n",
       "252  [[], [2], [1, 2], [3], [1, 3], [2, 3], [1, 2, 3]]   False       False\n",
       "253  [[1], [2], [1, 2], [3], [1, 3], [2, 3], [1, 2,...   False       False\n",
       "254  [[], [1], [2], [1, 2], [3], [1, 3], [2, 3], [1...    True       False\n",
       "\n",
       "[255 rows x 3 columns]"
      ]
     },
     "execution_count": 82,
     "metadata": {},
     "output_type": "execute_result"
    }
   ],
   "source": [
    "df = pd.DataFrame([(collection,is_pisystem(Ω,collection), is_lambdasystem(Ω,collection)) for collection in collection_list])\n",
    "df.columns = ['collection','pi_sys','lambda_sys']\n",
    "df"
   ]
  },
  {
   "cell_type": "code",
   "execution_count": 83,
   "id": "e5f01df9-ff22-4aeb-9b33-d8b4cd9c2a9b",
   "metadata": {},
   "outputs": [
    {
     "data": {
      "text/html": [
       "<div>\n",
       "<style scoped>\n",
       "    .dataframe tbody tr th:only-of-type {\n",
       "        vertical-align: middle;\n",
       "    }\n",
       "\n",
       "    .dataframe tbody tr th {\n",
       "        vertical-align: top;\n",
       "    }\n",
       "\n",
       "    .dataframe thead th {\n",
       "        text-align: right;\n",
       "    }\n",
       "</style>\n",
       "<table border=\"1\" class=\"dataframe\">\n",
       "  <thead>\n",
       "    <tr style=\"text-align: right;\">\n",
       "      <th></th>\n",
       "      <th>collection</th>\n",
       "      <th>pi_sys</th>\n",
       "      <th>lambda_sys</th>\n",
       "    </tr>\n",
       "  </thead>\n",
       "  <tbody>\n",
       "  </tbody>\n",
       "</table>\n",
       "</div>"
      ],
      "text/plain": [
       "Empty DataFrame\n",
       "Columns: [collection, pi_sys, lambda_sys]\n",
       "Index: []"
      ]
     },
     "execution_count": 83,
     "metadata": {},
     "output_type": "execute_result"
    }
   ],
   "source": [
    "df.query(\"lambda_sys == True\")"
   ]
  },
  {
   "cell_type": "code",
   "execution_count": 107,
   "id": "6103b160-a42b-4e24-8a9b-3d160fa6b9ee",
   "metadata": {},
   "outputs": [],
   "source": [
    "Ω = [1,2,3,4]\n",
    "F = [[1,2],[1,3],[1,4],[2,3],[2,4],[3,4],[],[1,2,3,4]]"
   ]
  },
  {
   "cell_type": "code",
   "execution_count": 108,
   "id": "a4dd5782-1974-47dd-89fd-e6f2e6a3583c",
   "metadata": {},
   "outputs": [
    {
     "data": {
      "text/plain": [
       "True"
      ]
     },
     "execution_count": 108,
     "metadata": {},
     "output_type": "execute_result"
    }
   ],
   "source": [
    "is_lambdasystem(Ω,F)"
   ]
  },
  {
   "cell_type": "code",
   "execution_count": 111,
   "id": "329ddd19-1ab6-4d81-b40a-56e10c6591bf",
   "metadata": {},
   "outputs": [
    {
     "data": {
      "text/plain": [
       "False"
      ]
     },
     "execution_count": 111,
     "metadata": {},
     "output_type": "execute_result"
    }
   ],
   "source": [
    "is_pisystem(Ω,F)"
   ]
  }
 ],
 "metadata": {
  "kernelspec": {
   "display_name": "Python 3",
   "language": "python",
   "name": "python3"
  },
  "language_info": {
   "codemirror_mode": {
    "name": "ipython",
    "version": 3
   },
   "file_extension": ".py",
   "mimetype": "text/x-python",
   "name": "python",
   "nbconvert_exporter": "python",
   "pygments_lexer": "ipython3",
   "version": "3.8.16"
  }
 },
 "nbformat": 4,
 "nbformat_minor": 5
}
