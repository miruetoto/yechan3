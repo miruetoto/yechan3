{
 "cells": [
  {
   "cell_type": "raw",
   "id": "ab79f5b4-6bd4-4336-8eab-db2245069f10",
   "metadata": {},
   "source": [
    "---\n",
    "title: \"칸토어 집합, 칸토어 함수, 르벡분해\"\n",
    "author: \"신록예찬\"\n",
    "date: \"02/09/2023\"\n",
    "bibliography: ref.bib\n",
    "---"
   ]
  },
  {
   "cell_type": "markdown",
   "id": "b0f7986e-f940-4588-8769-b789bd6d1d37",
   "metadata": {},
   "source": [
    "# [Cantor set](https://en.wikipedia.org/wiki/Cantor_set)"
   ]
  },
  {
   "cell_type": "markdown",
   "id": "d5af312e-7896-42ea-9b11-dc95bfbe3d6e",
   "metadata": {},
   "source": [
    "아래와 같은 과정으로 얻어지는 집합열 $C_0,C_1,\\dots$ 을 고려하자. "
   ]
  },
  {
   "cell_type": "markdown",
   "id": "47e31abc-502e-4563-984f-2fc24b68e479",
   "metadata": {},
   "source": [
    "- $C_0 := [0,1]$\n",
    "- $C_n:=\\frac{C_{n-1}}{3} \\cup (\\frac{2}{3} + \\frac{C_{n-1}}{3})$"
   ]
  },
  {
   "cell_type": "markdown",
   "id": "5d5907f6-e9d9-4027-bee8-f3f4bdc5d340",
   "metadata": {},
   "source": [
    "![](https://upload.wikimedia.org/wikipedia/commons/thumb/5/56/Cantor_set_in_seven_iterations.svg/2560px-Cantor_set_in_seven_iterations.svg.png)"
   ]
  },
  {
   "cell_type": "markdown",
   "id": "c4021a9a-128d-4f55-bd1a-73f67128b6cc",
   "metadata": {},
   "source": [
    "이러한 과정은 각 직선의 open middle third를 반복적으로 제거하여 얻어진다. 칸토어 집합 ${\\cal C}$는 위와 같은 집합열의 극한으로 정의한다. 즉 "
   ]
  },
  {
   "cell_type": "markdown",
   "id": "52fd2d9a-5671-4e51-9d94-1b4e9a82bf32",
   "metadata": {},
   "source": [
    "$${\\cal C} = \\lim_{n\\to \\infty} C_n$$"
   ]
  },
  {
   "cell_type": "markdown",
   "id": "2fdafcf6-3940-47c2-85af-c1627bb5a85f",
   "metadata": {},
   "source": [
    "칸토어 집합은 아래와 같은 성질이 있다. "
   ]
  },
  {
   "cell_type": "markdown",
   "id": "a9a03ec7-66ca-488f-a75c-be1e9be05666",
   "metadata": {},
   "source": [
    "1. [0,1] 사이의 모든 실수를 3진법을 표현한다고 생각하자. $C_1$은 $0.1xxxx\\dots_{(3)}$와 같은 숫자가 빠지고, $C_2$에서는 $0.01xxx\\dots_{(3)}$ 혹은 $0.21xxx\\dots_{(3)}$ 에 대응하는 숫자가 빠지는 과정이 반복적으로 일어난다고 볼 수 있다. \n",
    "2. 1의 결과를 잘 생각하면 칸토어 집합에 포함되는 수는 삼진법 소수로 표기했을 때 모든 자리수가 0 또는 2가 된다는 점을 쉽게 눈치챌 수 있다. \n",
    "3. 칸토어 집합의 수는 [0,1] 사이의 모든 실수와 일대응대응(전단사)시킬 수 있다.^[구간 $[0,1]$사이의 수를 모두 2진수로 바꾼 집합을 $A$라고 하고 3진법으로 표현된 칸토어 수에서 $2$를 $1$로 바꾼수의 집합을 $B$라고 하면 $A$와 $B$사이에는 적당한 전단사 함수를 잡을 수 있다.]\n",
    "4. 3에 의하여 칸토어 집합은 비가산집합이며, 크기는 $2^{\\aleph_0}$ 이다. \n",
    "5. 칸토어 집합을 만드는 과정에서 빠지는 구간의 길이는 $1/3, 2/9, 4/27 \\dots$ 이고 이 길이를 모두 합치면 1이다. \n",
    "6. 따라서 칸토어 집합은 르벡측도가 0이다. \n",
    "7. 4와6에 의하여 칸토어 집합은 르벡측도가 0인 비가산집합이 된다. \n",
    "8. 칸토어집합은 조밀한 곳이 없는 집합이다. \n",
    "9. 그 밖에 성질도 있는 듯 하나 이해할 수 없음"
   ]
  },
  {
   "cell_type": "markdown",
   "id": "321374ad-1845-4cf9-a72e-5df6c6b0ca9c",
   "metadata": {},
   "source": [
    "# [Cantor function](https://en.wikipedia.org/wiki/Cantor_function)"
   ]
  },
  {
   "cell_type": "markdown",
   "id": "ce4f02f4-0d11-43ff-bfd2-9bed92803d0b",
   "metadata": {},
   "source": [
    "`-` 칸토어 함수는 아래와 같은 과정으로 얻어진다. "
   ]
  },
  {
   "cell_type": "markdown",
   "id": "fbf38163-b26d-4b1a-94b3-1c44a4850dc4",
   "metadata": {},
   "source": [
    "![](https://upload.wikimedia.org/wikipedia/commons/7/7f/Cantor_function.gif)"
   ]
  },
  {
   "cell_type": "markdown",
   "id": "93801725-0f30-4a55-8d6e-b0da1d13ff27",
   "metadata": {},
   "source": [
    "이를 좀 더 수학적으로 설명하면 아래와 같다. \n",
    "\n",
    "1. [0,1] 사이의 임이의 점 $x$를 삼진법으로 나타낸다. \n",
    "2. $x$에 1이 있을 경우, 첫번째 1 이후의 모든 자리수를 0으로 바꾼다. \n",
    "3. 모든 2를 1로 바꾼다. \n",
    "4. 결과를 이진법으로 해석하고 이를 다시 십진법의 수로 바꾸면 $c(x)$가 된다. "
   ]
  },
  {
   "cell_type": "markdown",
   "id": "5db023e9-c793-457e-b6f0-7dde2e3d2786",
   "metadata": {},
   "source": [
    "`-` 칸토어 함수의 특징 \n",
    "\n",
    "1. 이 함수는 칸토어 집합의 외부에서 상수함수이다.즉 칸토어 집합의 외부에서는 기울기가 0이다. \n",
    "2. 이 함수는 어디서나 기울기가 0이다. 즉 함수가 증가할 확률이 0%이다. \n",
    "3. 이 함수는 어디서나 연속이다. (왜?)\n",
    "4. $x$가 0에서 1로 감에 따라서 $c(x)$도 0에서 1로 가며, 그 사이의 모든 값들을 지난다. (연속이니까) \n",
    "5. 칸토어 함수는 균등 연속이지만 절대 연속은 아닌 함수이다. \n",
    "6. 칸토어 집합에서는 미분계수가 존재하지 않는다. ??\n",
    "7. 그렇지만 칸토어 집합에서 jump가 있는 것은 아니다. 즉 칸토어 함수는 비약 불연속점이 없다. \n",
    "8. 칸토어 함수는 특이함수의 일반적인 예시이다. "
   ]
  },
  {
   "cell_type": "markdown",
   "id": "bcfdd5f1-a901-4311-8576-3fd2128243b6",
   "metadata": {},
   "source": [
    "# $\\sigma$-finite signed measure"
   ]
  },
  {
   "cell_type": "markdown",
   "id": "0509aabd-20e5-4d00-9080-e3b6116246f2",
   "metadata": {},
   "source": [
    "## [finite measure, $\\sigma$-finite measure](https://en.wikipedia.org/wiki/Σ-finite_measure)"
   ]
  },
  {
   "cell_type": "markdown",
   "id": "7fc273fe-9792-475a-bf9b-75bc2f7b9bd7",
   "metadata": {},
   "source": [
    "`-` 느낌: 메져 $m$이 measurable space $(X,{\\cal A})$에서 finite measure라는 뜻은 모든 $A \\in {\\cal A}$에 대하여 $m(A)<\\infty$가 성립하는 measure이다.^[따라서 그냥 $m(X)<\\infty$ 이면 이 조건이 만족한다.] "
   ]
  },
  {
   "cell_type": "markdown",
   "id": "936091de-67bb-4c75-9ba7-b473ad03b62e",
   "metadata": {},
   "source": [
    "**(예제)** 르벡메져는 $(\\mathbb{R},{\\cal R})$에서 finite measure가 아니다. 왜냐하면 $m(\\mathbb{R})=\\infty$ 이기 때문!"
   ]
  },
  {
   "cell_type": "markdown",
   "id": "b5e94d85-3449-4539-8ce3-45e29c6c7a32",
   "metadata": {},
   "source": [
    "당연히 finite measure는 일반적인 measure 보다 이론적 성질을 전개하기 용이하다. 하지만 때로는 이 조건이 너무 만족하기 어려워 이것보다 약한 조건^[만족하기 쉬운 조건]을 고려하고 싶을 경우가 있는데, 그것이 바로 $\\sigma$-finite measure의 개념이다. "
   ]
  },
  {
   "cell_type": "markdown",
   "id": "e2b222f1-79f0-4761-81a4-16fbf5fe4daa",
   "metadata": {},
   "source": [
    "`-` 느낌: $m(X) =\\infty$ 이라고 해도, $X$를 길이가 유한인^[메져 $m$으로 쟀을때 길이가 유한인] 집합들의 countable-many-union으로 \"덮을\" 수 있다면 $(X,{\\cal A},m)$ 을 $\\sigma$-finite measure space 라고 한다. "
   ]
  },
  {
   "cell_type": "markdown",
   "id": "5171a970-d18d-4f00-8e12-e54ca41b2afc",
   "metadata": {},
   "source": [
    "**(예제)** 예를들면 실수 집합 $\\mathbb{R}$은 \n",
    "\n",
    "$$\\mathbb{R} = \\bigcup_{k \\in \\mathbb{Z}}[k, k+1)$$\n",
    "\n",
    "와 같이 집합 $[k,k+1) ~ k \\in \\mathbb{Z}$로 \"덮을\" 수 있고 $m([k,k+1))=1$ 이므로 $(\\mathbb{R},{\\cal R})$에서의 르벡메져 $m$은 $\\sigma$-finite measure가 된다. "
   ]
  },
  {
   "cell_type": "markdown",
   "id": "0f980a8e-2f62-4bfb-a185-63fe580d9b1d",
   "metadata": {},
   "source": [
    "> 요약하면 가측공간 $(X,{\\cal A})$에서 르벡메져는 finite한 측도는 아니지만 $\\sigma$-finite한 측도이다. "
   ]
  },
  {
   "cell_type": "markdown",
   "id": "c5e8a567-7209-4a8c-9a65-516824e336cd",
   "metadata": {},
   "source": [
    "## [Signed measure](https://en.wikipedia.org/wiki/Signed_measure)"
   ]
  },
  {
   "cell_type": "markdown",
   "id": "cac14b25-c429-4b6e-af3f-8b90475d5402",
   "metadata": {},
   "source": [
    "`-` 느낌: measure는 어떠한 집합들의 집합을 정의역으로 양의 실수를 치역으로 가지는 set function이다. 즉 measure는 항상 그 값이 양수가 나와야 한다. 그런데 때로는 음의 값을 가지는 set function을 생각하고 싶을 때도 있다. 이러한 동기로 signed measure를 고안하였다. "
   ]
  },
  {
   "cell_type": "markdown",
   "id": "3339165b-b129-485c-bac9-e4c5cf0a36d5",
   "metadata": {},
   "source": [
    "`-` 조심: 책마다 signed measure 에 대한 정의가 다르다. 교재에 따라서 $-\\infty$의 값을 허용하는 교재도 있고 아닌 교재도 있는데 구분을 위해서 \n",
    "\n",
    "- \"finite signed measures\" \n",
    "- \"extended signed measures\"\n",
    "\n",
    "와 같이 명시하여 서술하는 것이 좋다. "
   ]
  },
  {
   "cell_type": "markdown",
   "id": "98547955-b272-4f8f-addc-1b1c254ab75d",
   "metadata": {},
   "source": [
    "# [Lebesgue's decomposition theorem](https://en.wikipedia.org/wiki/Lebesgue%27s_decomposition_theorem)"
   ]
  },
  {
   "cell_type": "markdown",
   "id": "d683a539-aecb-40cc-9f48-d1e3b6188e27",
   "metadata": {},
   "source": [
    "In mathematics, more precisely in measure theory, Lebesgue's decomposition theorem states that for every two $\\sigma$-finite signed measures $\\mu$ and $\\nu$ on a measurable space $(\\Omega,\\Sigma)$ there exist two σ-finite signed measures $\\nu_{0}$ and $\\nu_1$ such that:\n",
    "\n",
    "- $\\nu =\\nu _{0}+\\nu _{1}$,\n",
    "- $\\nu _{0}\\ll \\mu$  (that is $\\nu_{0}$ is absolutely continuous with respect to $\\mu$) \n",
    "- $\\nu_{1} \\perp \\mu$  (that is, $\\nu_1$ and $\\mu$ are singular).\n",
    "\n",
    "These two measures are uniquely determined by $\\mu$ and $\\nu$. "
   ]
  },
  {
   "cell_type": "markdown",
   "id": "7b3fe539-c2ab-469a-9d34-79c158c6f645",
   "metadata": {},
   "source": [
    "## Refinement"
   ]
  },
  {
   "cell_type": "markdown",
   "id": "1bb76946-2dad-4df4-848f-08cf28494956",
   "metadata": {},
   "source": [
    "Lebesgue's decomposition theorem can be refined in a number of ways.\n",
    "\n",
    "First, the decomposition of the singular part of a regular Borel measure on the real line can be refined:\n",
    "\n",
    "$${\\bf \\nu}={\\bf \\nu}_{\\text{cont}}+{\\bf \\nu}_{\\text{sing}}+{\\bf \\nu}_{\\text{pp}}$$\n",
    "\n",
    "where\n",
    "\n",
    "- ${\\bf \\nu}_{\\text{cont}}$ is the absolutely continuous part\n",
    "- ${\\bf \\nu}_{\\text{sing}}$ is the singular continuous part\n",
    "- ${\\bf \\nu}_{\\text{pp}}$ is the pure point part (a discrete measure) \n",
    "\n",
    "Second, absolutely continuous measures are classified by the Radon–Nikodym theorem, and discrete measures are easily understood. Hence (singular continuous measures aside), Lebesgue decomposition gives a very explicit description of measures. The Cantor measure (the probability measure on the real line whose cumulative distribution function is the Cantor function) is an example of a singular continuous measure."
   ]
  }
 ],
 "metadata": {
  "kernelspec": {
   "display_name": "Python 3",
   "language": "python",
   "name": "python3"
  },
  "language_info": {
   "codemirror_mode": {
    "name": "ipython",
    "version": 3
   },
   "file_extension": ".py",
   "mimetype": "text/x-python",
   "name": "python",
   "nbconvert_exporter": "python",
   "pygments_lexer": "ipython3",
   "version": "3.8.16"
  }
 },
 "nbformat": 4,
 "nbformat_minor": 5
}
