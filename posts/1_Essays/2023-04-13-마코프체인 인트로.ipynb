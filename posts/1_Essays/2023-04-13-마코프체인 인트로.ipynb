{
 "cells": [
  {
   "cell_type": "raw",
   "id": "2c8aca0d-eadd-4236-bba7-0ed06179f761",
   "metadata": {},
   "source": [
    "---\n",
    "title: \"**[Essays]** 마코프체인 인트로\"\n",
    "author: \"신록예찬\"\n",
    "date: \"04/13/2023\"\n",
    "---"
   ]
  },
  {
   "cell_type": "code",
   "execution_count": 32,
   "id": "3c16e889-f398-493b-9bcf-8800b3f7d8a9",
   "metadata": {},
   "outputs": [],
   "source": [
    "import numpy as np"
   ]
  },
  {
   "cell_type": "markdown",
   "id": "ade15e91-b1dd-4b95-8003-608f3995a6bf",
   "metadata": {},
   "source": [
    "# 확률과정 "
   ]
  },
  {
   "cell_type": "markdown",
   "id": "c8cdf064-b4e0-4f0f-9b82-fa1662c32592",
   "metadata": {},
   "source": [
    "`-` 동전을 무한히 던지는 시행을 생각하자. 동전을 10번 던져서 결과를 관찰했다고 하자. 동전을 30번째 던져서 앞면이 나올지 뒷면이 나올지 알고 싶다면?"
   ]
  },
  {
   "cell_type": "markdown",
   "id": "bcda75eb-068f-4cbe-9d7b-790c5437cf33",
   "metadata": {},
   "source": [
    "`-` 현재 삼성전자 주가는 66000이다. 20일뒤의 삼성전자 주가가 얼마일지 알고 싶다면? "
   ]
  },
  {
   "cell_type": "markdown",
   "id": "fcf0e42c-e466-4bad-a08f-bde93a4131a9",
   "metadata": {},
   "source": [
    "`-` 원래 미래를 예측하기 위해서 해야하는 과정 "
   ]
  },
  {
   "cell_type": "markdown",
   "id": "d12e4a5b-5b44-476d-964e-3301dedb0a81",
   "metadata": {},
   "source": [
    "![그림1: 1400만개의 미래를 탐색중인 Doctor Strange](https://i.redd.it/dkfg72px80y21.jpg)"
   ]
  },
  {
   "cell_type": "markdown",
   "id": "3e32eeca-5cba-479c-9766-1a95268c885b",
   "metadata": {},
   "source": [
    "`-` 하지만 현실적으로는 이게 너무 힘들지 않을까? "
   ]
  },
  {
   "cell_type": "markdown",
   "id": "8080dc9d-8256-4d4b-98f2-1dac44c2711f",
   "metadata": {},
   "source": [
    "# 날씨예측"
   ]
  },
  {
   "cell_type": "markdown",
   "id": "162a1e63-ea59-4804-952e-43051657fcfd",
   "metadata": {},
   "source": [
    "`-` 아래와 같이 세상의 법칙이 있다고 하자. \n",
    "\n",
    "- 어제 맑음 $\\to$ 오늘도 맑음: 40% // 오늘은 비: 60% \n",
    "- 어제 비 $\\to$ 오늘은 맑음: 70% // 오늘도 비 30%"
   ]
  },
  {
   "cell_type": "markdown",
   "id": "26b25962-07ce-465b-92ce-81b37064a7bd",
   "metadata": {},
   "source": [
    "`-` 모든 $t$에 대하여 확률변수 $X_t$를 아래와 같이 정의하자. \n",
    "\n",
    "- $X_t=\\begin{cases} 0 & \\text{맑음} \\\\ 1 & \\text{비} \\end{cases}$ \n"
   ]
  },
  {
   "cell_type": "markdown",
   "id": "616cf2fa-054c-4139-abed-b0748bbb622a",
   "metadata": {},
   "source": [
    "`-` 오늘 (2023년4월13일) 비가 왔다고 치자. 10000일 뒤에도 비가 올 확률은 얼마일까? "
   ]
  },
  {
   "cell_type": "markdown",
   "id": "cf9511c7-8061-4e76-ac31-54b7675dbaa0",
   "metadata": {},
   "source": [
    "# 풀이1"
   ]
  },
  {
   "cell_type": "markdown",
   "id": "1226ef54-b2f9-4284-8126-6a9deb86c347",
   "metadata": {},
   "source": [
    "`-` $X_t=0$ 이면? (어제 비가 안왔으면?)"
   ]
  },
  {
   "cell_type": "code",
   "execution_count": 216,
   "id": "db56e8cd-09d5-44e8-96a3-4b6179074dc3",
   "metadata": {},
   "outputs": [
    {
     "data": {
      "text/plain": [
       "True"
      ]
     },
     "execution_count": 216,
     "metadata": {},
     "output_type": "execute_result"
    }
   ],
   "source": [
    "np.random.rand() < 0.6"
   ]
  },
  {
   "cell_type": "markdown",
   "id": "b9160256-bf11-4128-ab1a-f2bbc538e2ec",
   "metadata": {},
   "source": [
    "`-` $X_t=1$ 이면? (어제 비가 왔으면?)"
   ]
  },
  {
   "cell_type": "code",
   "execution_count": 217,
   "id": "882980b4-6c2c-422f-bde3-c93e8fb93a1d",
   "metadata": {},
   "outputs": [
    {
     "data": {
      "text/plain": [
       "False"
      ]
     },
     "execution_count": 217,
     "metadata": {},
     "output_type": "execute_result"
    }
   ],
   "source": [
    "np.random.rand() < 0.3"
   ]
  },
  {
   "cell_type": "markdown",
   "id": "7fa7845f-a302-47ba-a33a-fcd7d832be7d",
   "metadata": {},
   "source": [
    "`-` 두 코드를 합치면?"
   ]
  },
  {
   "cell_type": "code",
   "execution_count": 230,
   "id": "8944659f-b7a4-4367-b4be-ad3677644012",
   "metadata": {},
   "outputs": [],
   "source": [
    "def rain(before):\n",
    "    if before == True: # 비가왔으면 \n",
    "        after = (np.random.rand() < 0.3)\n",
    "    else: # 비가 안왔으면 \n",
    "        after = (np.random.rand() < 0.6) \n",
    "    return after "
   ]
  },
  {
   "cell_type": "markdown",
   "id": "70243f9d-6a71-4f74-a31f-de56f534f219",
   "metadata": {},
   "source": [
    "`-` 테스트 "
   ]
  },
  {
   "cell_type": "code",
   "execution_count": 231,
   "id": "a52efcec-1aab-48b0-b815-f53229a18c26",
   "metadata": {},
   "outputs": [
    {
     "data": {
      "text/plain": [
       "620"
      ]
     },
     "execution_count": 231,
     "metadata": {},
     "output_type": "execute_result"
    }
   ],
   "source": [
    "sum([rain(0) for i in range(1000)])"
   ]
  },
  {
   "cell_type": "code",
   "execution_count": 232,
   "id": "1a0ce922-d3db-4135-b18f-4a818ad1a078",
   "metadata": {},
   "outputs": [
    {
     "data": {
      "text/plain": [
       "294"
      ]
     },
     "execution_count": 232,
     "metadata": {},
     "output_type": "execute_result"
    }
   ],
   "source": [
    "sum([rain(1) for i in range(1000)])"
   ]
  },
  {
   "cell_type": "markdown",
   "id": "0d8781c1-cf26-4b59-a7b6-0db59c878214",
   "metadata": {},
   "source": [
    "`-` 하나의 $\\omega$에 대응하는 확률과정 "
   ]
  },
  {
   "cell_type": "code",
   "execution_count": 233,
   "id": "56e4312c-dd9e-4252-83c5-3ccd5736df86",
   "metadata": {},
   "outputs": [],
   "source": [
    "def doctor_strange(today):\n",
    "    lst = [today] \n",
    "    for i in range(9999): \n",
    "        lst.append(rain(lst[i]))\n",
    "    return lst "
   ]
  },
  {
   "cell_type": "markdown",
   "id": "5191f87e-7939-41b5-8464-1db11857850b",
   "metadata": {},
   "source": [
    "`-` 4305개의 $\\omega$에 대응하는 확률과정 "
   ]
  },
  {
   "cell_type": "code",
   "execution_count": 239,
   "id": "58705d66-4572-4ebd-9be7-abe16cba0a96",
   "metadata": {},
   "outputs": [],
   "source": [
    "today = True # 오늘은 비가 왔음 \n",
    "arr = np.stack([doctor_strange(today) for i in range(4305)])"
   ]
  },
  {
   "cell_type": "code",
   "execution_count": 240,
   "id": "ab48f0e2-e9c0-483f-874e-33f727dfc8cf",
   "metadata": {},
   "outputs": [
    {
     "data": {
      "text/plain": [
       "(4305, 10000)"
      ]
     },
     "execution_count": 240,
     "metadata": {},
     "output_type": "execute_result"
    }
   ],
   "source": [
    "arr.shape"
   ]
  },
  {
   "cell_type": "code",
   "execution_count": 241,
   "id": "f5b09b10-fd52-4555-a9c8-f1965723bc9b",
   "metadata": {},
   "outputs": [
    {
     "data": {
      "text/plain": [
       "0.4429732868757259"
      ]
     },
     "execution_count": 241,
     "metadata": {},
     "output_type": "execute_result"
    }
   ],
   "source": [
    "arr[:,-1].mean()"
   ]
  },
  {
   "cell_type": "code",
   "execution_count": 242,
   "id": "ac957b74-586c-43df-9913-dd1af806a4dc",
   "metadata": {},
   "outputs": [
    {
     "data": {
      "text/plain": [
       "array([[ True, False,  True, ..., False, False,  True],\n",
       "       [ True, False,  True, ...,  True, False,  True],\n",
       "       [ True, False,  True, ..., False, False, False],\n",
       "       ...,\n",
       "       [ True, False, False, ..., False, False, False],\n",
       "       [ True,  True, False, ...,  True, False,  True],\n",
       "       [ True,  True, False, ..., False,  True, False]])"
      ]
     },
     "execution_count": 242,
     "metadata": {},
     "output_type": "execute_result"
    }
   ],
   "source": [
    "arr"
   ]
  },
  {
   "cell_type": "markdown",
   "id": "0540975e-c9c2-4e0c-9dd7-1e4ce6c5e83b",
   "metadata": {},
   "source": [
    "# 풀이2 "
   ]
  },
  {
   "cell_type": "markdown",
   "id": "2e4bd3d8-dc51-4896-abbe-3d9259139d3c",
   "metadata": {},
   "source": [
    "`-` 세상의 법칙 \n",
    "\n",
    "- $X_{t-1}=0 \\Rightarrow X_{t}\\overset{d}{=} Ber(0.6)$\n",
    "- $X_{t-1}=1 \\Rightarrow X_{t}\\overset{d}{=} Ber(0.3)$"
   ]
  },
  {
   "cell_type": "markdown",
   "id": "2b3bac16-5d56-4ba5-ba5b-e65403946308",
   "metadata": {},
   "source": [
    "`-` 정리하면 "
   ]
  },
  {
   "cell_type": "markdown",
   "id": "462ee860-a341-45ad-adec-c9687f860afb",
   "metadata": {},
   "source": [
    "- $P(X_t=0) = P(X_{t-1}=0) \\times 0.4  + P(X_{t-1}=1) \\times 0.7$  \n",
    "- $P(X_t=1) = P(X_{t-1}=0) \\times 0.6  + P(X_{t-1}=1) \\times 0.3$  "
   ]
  },
  {
   "cell_type": "markdown",
   "id": "b27b52b1-e30f-4ec6-97a6-cb78f0f26eed",
   "metadata": {},
   "source": [
    "`-` 매트릭스형태로 바꾸면 "
   ]
  },
  {
   "cell_type": "markdown",
   "id": "e6151f40-9222-489a-98bd-479ce78ed4a1",
   "metadata": {},
   "source": [
    "- $\\begin{bmatrix} \n",
    "P(X_t=0)\\\\ \n",
    "P(X_t=1)\n",
    "\\end{bmatrix}= \\begin{bmatrix} 0.4 & 0.7 \\\\ 0.6 & 0.3  \\end{bmatrix} \\begin{bmatrix} \n",
    "P(X_{t-1}=0)\\\\ \n",
    "P(X_{t-1}=1)\n",
    "\\end{bmatrix}$\n",
    "\n",
    "- ${\\boldsymbol \\mu}_t = {\\bf P} {\\boldsymbol \\mu}_{t-1}$"
   ]
  },
  {
   "cell_type": "markdown",
   "id": "971229f7-c3d9-4b61-a673-ab70a090953b",
   "metadata": {},
   "source": [
    "`-` 이렇게 놓고 보니까 아래를 관찰할 수 있다. \n",
    "\n",
    "- ${\\boldsymbol \\mu}_2 = {\\bf P}{\\boldsymbol \\mu}_1$\n",
    "- ${\\boldsymbol \\mu}_3 = {\\bf P}{\\boldsymbol \\mu}_2 = {\\bf P}^2{\\boldsymbol \\mu}_1$\n",
    "- $\\dots$\n",
    "- ${\\boldsymbol \\mu}_n = {\\bf P}^{n-1}{\\boldsymbol \\mu}_1$"
   ]
  },
  {
   "cell_type": "markdown",
   "id": "0a6bf0bc-ef59-4659-a54a-3d59d9695992",
   "metadata": {},
   "source": [
    "`-` ${\\bf P}^{999}$만 계산하면 끝나겠군? "
   ]
  },
  {
   "cell_type": "code",
   "execution_count": 179,
   "id": "fd90c348-9fee-4af9-88b0-dd6d0c1b8b3e",
   "metadata": {},
   "outputs": [
    {
     "data": {
      "text/plain": [
       "array([[0.4, 0.7],\n",
       "       [0.6, 0.3]])"
      ]
     },
     "execution_count": 179,
     "metadata": {},
     "output_type": "execute_result"
    }
   ],
   "source": [
    "P = np.array([[0.4,0.7],[0.6,0.3]])\n",
    "P"
   ]
  },
  {
   "cell_type": "code",
   "execution_count": 180,
   "id": "10258406-2d24-476c-8e19-7fe94bedc969",
   "metadata": {},
   "outputs": [
    {
     "data": {
      "text/plain": [
       "array([[0.58, 0.49],\n",
       "       [0.42, 0.51]])"
      ]
     },
     "execution_count": 180,
     "metadata": {},
     "output_type": "execute_result"
    }
   ],
   "source": [
    "P@P # P의 제곱"
   ]
  },
  {
   "cell_type": "code",
   "execution_count": 181,
   "id": "fa6f31a3-cf12-482d-bb00-223c23c12af1",
   "metadata": {},
   "outputs": [
    {
     "data": {
      "text/plain": [
       "array([[0.5422, 0.5341],\n",
       "       [0.4578, 0.4659]])"
      ]
     },
     "execution_count": 181,
     "metadata": {},
     "output_type": "execute_result"
    }
   ],
   "source": [
    "P@P@P@P # P의 4제곱"
   ]
  },
  {
   "cell_type": "code",
   "execution_count": 182,
   "id": "857151e9-7101-4931-a3ca-172872000e61",
   "metadata": {},
   "outputs": [
    {
     "data": {
      "text/plain": [
       "array([[0.53849182, 0.53842621],\n",
       "       [0.46150818, 0.46157379]])"
      ]
     },
     "execution_count": 182,
     "metadata": {},
     "output_type": "execute_result"
    }
   ],
   "source": [
    "P@P@P@P@P@P@P@P # P의 8제곱"
   ]
  },
  {
   "cell_type": "code",
   "execution_count": 183,
   "id": "5a32ed76-9358-424c-b07e-8e2d32cbc814",
   "metadata": {},
   "outputs": [
    {
     "data": {
      "text/plain": [
       "array([[0.53846154, 0.53846154],\n",
       "       [0.46153846, 0.46153846]])"
      ]
     },
     "execution_count": 183,
     "metadata": {},
     "output_type": "execute_result"
    }
   ],
   "source": [
    "P@P@P@P@P@P@P@P@P@P@P@P@P@P@P@P # P의 16제곱"
   ]
  },
  {
   "cell_type": "markdown",
   "id": "7bb0fe1a-865e-4eae-b26b-5154f62c2ca2",
   "metadata": {},
   "source": [
    "근데 ${\\bf P}$가 수렴하는거 같은데? "
   ]
  },
  {
   "cell_type": "code",
   "execution_count": 184,
   "id": "a1970143-159e-480d-93ec-656463516806",
   "metadata": {},
   "outputs": [
    {
     "data": {
      "text/plain": [
       "array([[0.53846154, 0.53846154],\n",
       "       [0.46153846, 0.46153846]])"
      ]
     },
     "execution_count": 184,
     "metadata": {},
     "output_type": "execute_result"
    }
   ],
   "source": [
    "P@P@P@P@P@P@P@P@P@P@P@P@P@P@P@P@P@P@P@P@P@P@P@P@P@P@P@P@P@P@P@P # P의 32제곱"
   ]
  },
  {
   "cell_type": "markdown",
   "id": "11d636d0-2a41-46e8-b92c-6ba1e940513b",
   "metadata": {},
   "source": [
    "대충 ${\\bf P}^{9999} \\approx {\\bf P}^{32}$ 로 두어도 무방할 듯 "
   ]
  },
  {
   "cell_type": "code",
   "execution_count": 185,
   "id": "20bdb43e-29dc-412c-979f-1685fdb43982",
   "metadata": {},
   "outputs": [],
   "source": [
    "Plim = P@P@P@P@P@P@P@P@P@P@P@P@P@P@P@P@P@P@P@P@P@P@P@P@P@P@P@P@P@P@P@P"
   ]
  },
  {
   "cell_type": "code",
   "execution_count": 186,
   "id": "91008f2b-6852-4662-8487-a0df8c61f661",
   "metadata": {},
   "outputs": [
    {
     "data": {
      "text/plain": [
       "array([[0],\n",
       "       [1]])"
      ]
     },
     "execution_count": 186,
     "metadata": {},
     "output_type": "execute_result"
    }
   ],
   "source": [
    "μ1 = np.array([[0],[1]])\n",
    "μ1"
   ]
  },
  {
   "cell_type": "code",
   "execution_count": 187,
   "id": "9cc1871b-48f6-4939-b689-9425f297cda4",
   "metadata": {},
   "outputs": [
    {
     "data": {
      "text/plain": [
       "array([[0.53846154],\n",
       "       [0.46153846]])"
      ]
     },
     "execution_count": 187,
     "metadata": {},
     "output_type": "execute_result"
    }
   ],
   "source": [
    "Plim @ μ1"
   ]
  },
  {
   "cell_type": "markdown",
   "id": "16fd7480-80b5-4037-ac7d-e7e82bb7153c",
   "metadata": {},
   "source": [
    "# 풀이3"
   ]
  },
  {
   "cell_type": "markdown",
   "id": "36c6cb68-09d4-40a7-a029-d25f32853471",
   "metadata": {},
   "source": [
    "`-` 세상의 법칙 \n",
    "\n",
    "- $X_{t-1}=0 \\Rightarrow X_{t}\\overset{d}{=} Ber(0.6)$\n",
    "- $X_{t-1}=1 \\Rightarrow X_{t}\\overset{d}{=} Ber(0.3)$"
   ]
  },
  {
   "cell_type": "markdown",
   "id": "e8a78bb6-0f46-4795-8f99-2d740a23265c",
   "metadata": {},
   "source": [
    "`-` 추측: 10000일 뒤에 비가 올 확률이 $p$라면 9999일 뒤에 비가 올 확률도 $p$일 것 같다. "
   ]
  },
  {
   "cell_type": "markdown",
   "id": "c94efbdf-759c-4405-8c4d-3cc511eac38a",
   "metadata": {},
   "source": [
    "***이걸 가정하고 계산해보면***\n",
    "\n",
    "`1` 9999일 뒤에 비가 안 올 확률 = $1-p$ \n",
    "\n",
    "- 9999일 뒤에 비가 오고 10000일 뒤에 비가 올 확률 = $0.6 (1-p)$ \n",
    "- 9999일 뒤에 비가 오고 10000일 뒤에 비가 안올 올 확률 = $0.4 (1-p)$ \n",
    "\n",
    "`2` 9999일 뒤에 비가 올 확률 = $p$ \n",
    "\n",
    "- 9999일 뒤에 비가 오고 10000일 뒤에 비가 올 확률 = $0.3 p$ \n",
    "- 9999일 뒤에 비가 오고 10000일 뒤에 비가 안올 올 확률 = $0.7 p$ \n",
    "\n"
   ]
  },
  {
   "cell_type": "markdown",
   "id": "19c864c4-7ca5-4d52-8362-cc9344d0c029",
   "metadata": {},
   "source": [
    "따라서 $0.6(1-p) + 0.3p = p$ 이므로, \n",
    "\n",
    "- $0.6-0.3p = p$ \n",
    "- $p=6/13$ "
   ]
  },
  {
   "cell_type": "code",
   "execution_count": 227,
   "id": "447c95aa-9d85-4032-bcbd-38e06cb20a9a",
   "metadata": {},
   "outputs": [
    {
     "data": {
      "text/plain": [
       "0.46153846153846156"
      ]
     },
     "execution_count": 227,
     "metadata": {},
     "output_type": "execute_result"
    }
   ],
   "source": [
    "6/13"
   ]
  },
  {
   "cell_type": "markdown",
   "id": "db89f64f-5589-4480-8853-8800d99f3646",
   "metadata": {},
   "source": [
    "# 풀이4 "
   ]
  },
  {
   "cell_type": "code",
   "execution_count": 238,
   "id": "50e464c4-88a1-4277-a5d6-c1aec9390297",
   "metadata": {},
   "outputs": [
    {
     "data": {
      "text/plain": [
       "0.4629"
      ]
     },
     "execution_count": 238,
     "metadata": {},
     "output_type": "execute_result"
    }
   ],
   "source": [
    "np.mean(doctor_strange(True))"
   ]
  }
 ],
 "metadata": {
  "kernelspec": {
   "display_name": "Python 3 (ipykernel)",
   "language": "python",
   "name": "python3"
  },
  "language_info": {
   "codemirror_mode": {
    "name": "ipython",
    "version": 3
   },
   "file_extension": ".py",
   "mimetype": "text/x-python",
   "name": "python",
   "nbconvert_exporter": "python",
   "pygments_lexer": "ipython3",
   "version": "3.10.11"
  }
 },
 "nbformat": 4,
 "nbformat_minor": 5
}
