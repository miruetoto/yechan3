{
 "cells": [
  {
   "cell_type": "raw",
   "id": "93a5fb20-456a-4f98-b8a8-a6ef97ed2b37",
   "metadata": {},
   "source": [
    "---\n",
    "title: \"시계열의 주파수영역 분석\"\n",
    "author: \"신록예찬\"\n",
    "date: \"01/20/2023\"\n",
    "bibliography: ref.bib\n",
    "---"
   ]
  },
  {
   "cell_type": "markdown",
   "id": "20548e2e-b188-4263-ac86-b05a36df6cf4",
   "metadata": {},
   "source": [
    "> 이 포스트는  @wei2006time 의 CHAPTER 12 Spectral Theory of Stationary Processes 를 요약한 것이다 "
   ]
  },
  {
   "cell_type": "markdown",
   "id": "480b099b-c6a0-43cf-8936-a98d14894fea",
   "metadata": {},
   "source": [
    "$Z_t$를 real-valued stationary process 라고 하자. 그리고 $\\gamma_k$를 $Z_t$의 autocovariance sequence 라고 하자. 만약에 $\\gamma_k$ 가 absolutely summable 하다면^[$\\sum_{k=-\\infty}^{\\infty}|\\gamma_k| <\\infty$ 이라는 의미] 아래와 같은 표현이 존재한다. "
   ]
  },
  {
   "cell_type": "markdown",
   "id": "cfc0dee5-e41f-4d44-8265-55463e5a6750",
   "metadata": {},
   "source": [
    "$$\n",
    "f(\\omega)=\\frac{1}{2\\pi}\\sum_{k=-\\infty}^{\\infty}\\gamma_k e^{-i\\omega k}=\\frac{1}{2\\pi}\\gamma_0 + \\frac{1}{\\pi}\\sum_{k=1}^{\\infty}\\gamma_k\\cos(\\omega k)\n",
    "$$"
   ]
  },
  {
   "cell_type": "markdown",
   "id": "c0069c36-1c55-4ba7-b16d-2b3274d64fda",
   "metadata": {},
   "source": [
    "첫 등호에서 두번째 등호로 넘어갈때 아래의 성질들이 이용되었다. \n",
    "\n",
    "- $e^{i\\theta} = \\cos \\theta + i \\sin\\theta$\n",
    "- $\\gamma_k = \\gamma_{-k}$\n",
    "- $\\sin \\omega(-k) = - \\sin \\omega k$\n",
    "- $\\cos \\omega(-k) = \\cos \\omega k$"
   ]
  },
  {
   "cell_type": "markdown",
   "id": "7b72acbf-b1b0-4b8b-9557-a35de356186f",
   "metadata": {},
   "source": [
    "여기에서 $f(\\omega)$는 $\\gamma_k$를 퓨리에변환한 결과이다. $f(\\omega)$를 역 퓨리에변환하면 다시 $\\gamma_k$를 얻을 수 있는데 이를 수식으로 표현하면 아래와 같다. "
   ]
  },
  {
   "cell_type": "markdown",
   "id": "ffa7156b-da03-47b2-b1a3-e6fecab0e7ae",
   "metadata": {},
   "source": [
    "$$\\gamma_k = \\int_{-\\pi}^{\\pi}f(\\omega) e^{i\\omega k}d\\omega$$"
   ]
  },
  {
   "cell_type": "markdown",
   "id": "0a446a88-7304-4e10-8a02-e2fdfbf7238d",
   "metadata": {},
   "source": [
    "만약에 $\\gamma_k$가 absolutely summable 하지 않으면 $f(\\omega)$의 존재성을 장담할 수 없다. 따라서 위와 같은 표현은 불가능하다. 대신 아래와 같이 Fourier-Stieltjes integral 의 형으로는 표현가능하다. "
   ]
  },
  {
   "cell_type": "markdown",
   "id": "18c54181-a563-4d1d-9653-dec15b888c21",
   "metadata": {},
   "source": [
    "$$\\gamma_k = \\int_{-\\pi}^{\\pi}e^{i\\omega k}dF(\\omega)$$"
   ]
  },
  {
   "cell_type": "markdown",
   "id": "fb89df98-933e-4fcd-90b0-d022adca2bfe",
   "metadata": {},
   "source": [
    "여기에서 $F(\\omega)$는 spectral distribution function 이라고 한다. $F(\\omega)$는 nondecreasing function 이다. $F(\\omega)$는 아래와 같은 3가지 컴포넌트의 합으로 표현할 수 있다. "
   ]
  },
  {
   "cell_type": "markdown",
   "id": "f1b8fde5-d973-4d99-865d-66a71dba524d",
   "metadata": {},
   "source": [
    "1. 유한개의 jump만을 가지는 step function \n",
    "2. absolutely continuous function \n",
    "3. sigular function "
   ]
  },
  {
   "cell_type": "markdown",
   "id": "4897744a-430e-4e8c-9b32-64dbc0f0400b",
   "metadata": {},
   "source": [
    "여기에서 3은 대부분의 응용분야에서 중요하지 않으므로 결국 $F(\\omega)$는 아래와 같이 표현할 수 있다. "
   ]
  },
  {
   "cell_type": "markdown",
   "id": "b5710a94-01ea-4977-89c6-2f9b343f26ab",
   "metadata": {},
   "source": [
    "$$F(\\omega) \\approx F_s(\\omega) + F_c(\\omega)$$ "
   ]
  },
  {
   "cell_type": "markdown",
   "id": "a32c9ce5-2885-4e3c-a67f-421b7a3177fc",
   "metadata": {},
   "source": [
    "여기에서 $F_s(\\omega)$는 유한개의 jump를 가지는 step function 이고 $F_c(\\omega)$는 absolutely continuous 한 함수이다. "
   ]
  },
  {
   "cell_type": "markdown",
   "id": "2f995038-eb22-47b6-ad07-50175c43c2e1",
   "metadata": {},
   "source": [
    "만약에 시계열이 absolutely summable 하다면 $F(\\omega) = F_c(\\omega)$ 이며 이경우에는 $dF(\\omega) = f(\\omega)d\\omega$ 로 표현할 수 있다. "
   ]
  },
  {
   "cell_type": "markdown",
   "id": "0aa466f0-cd1b-4e35-b360-b8c1a4f0b243",
   "metadata": {},
   "source": [
    "여기에서 step spectral distribution function에 대하여 설명하기 위하여 아래와 같은 모형^[general linear cyclical model 이라고 하는듯]를 고려하자. "
   ]
  },
  {
   "cell_type": "markdown",
   "id": "15ee6da8-22b5-431a-a797-6ff7ded6060c",
   "metadata": {},
   "source": [
    "$$Z_t = \\sum_{i=1}^{M}A_i \\sin(\\omega_i t + \\Theta_i)$$"
   ]
  },
  {
   "cell_type": "markdown",
   "id": "f0786f32-0390-4c05-91e9-652eccdd3a8c",
   "metadata": {},
   "source": [
    "여기에서 $A_i$는 constant 이며 $\\Theta_i \\sim U(-\\pi,\\pi)$ 이다. "
   ]
  },
  {
   "cell_type": "markdown",
   "id": "3c409653-ab92-4641-9b14-dc4378f3e23e",
   "metadata": {},
   "source": [
    "여기에서 $Z_t$는 stationary process 이다. "
   ]
  },
  {
   "cell_type": "markdown",
   "id": "c7560f90-ee45-4d9f-9191-f797861c7656",
   "metadata": {},
   "source": [
    "일반적으로 stationary process는 아래와 같이 표현할 수 있다. "
   ]
  },
  {
   "cell_type": "markdown",
   "id": "9cb0cc4b-2fe9-4f65-a0df-17ac2051a7b4",
   "metadata": {},
   "source": [
    "\n",
    "$$Z_t = A \\sin\\left(\\frac{2\\pi t}{12}+\\lambda \\right)+\\left[\\frac{\\theta(B)}{\\phi(B)}\\right]a_t$$"
   ]
  },
  {
   "cell_type": "markdown",
   "id": "c843a6c6-763b-4e38-83cf-1acd11ff39eb",
   "metadata": {},
   "source": [
    "여기에서 $A$는 상수이며 $\\lambda$는 uniform $[-\\pi,\\pi]$을 따르는 랜덤변수이다. "
   ]
  },
  {
   "cell_type": "markdown",
   "id": "1d66ae0c-1bdc-4d78-be8f-542f2e40a743",
   "metadata": {},
   "source": [
    "Wold (1938)는 임의의 covariance stationary process 는 아래와 같이 표현 할 수 있다는 것을 알아냈다. "
   ]
  },
  {
   "cell_type": "markdown",
   "id": "d7bdd815-8118-4699-bc60-7293f108257e",
   "metadata": {},
   "source": [
    "$$Z_t = Z_t^{(d)} + Z_t^{(n)}$$"
   ]
  },
  {
   "cell_type": "markdown",
   "id": "6ca88929-83c9-4eb5-81f1-d83a01ebb02a",
   "metadata": {},
   "source": [
    "여기에서 $Z_t^{(d)}$는 purely deterministic component 이고 $Z_t^{(n)}$는 purely nondeterministic component 이다. "
   ]
  },
  {
   "cell_type": "markdown",
   "id": "57f614dc-b5cb-4899-b440-9fceee8f0f67",
   "metadata": {},
   "source": [
    "이 분해는 아래의 수식에서 다룬 바 있던 spectral distribution function 의 decomposition 과 유사하다. "
   ]
  },
  {
   "cell_type": "markdown",
   "id": "647ca862-f8f2-4088-ba52-88692d76d3b2",
   "metadata": {},
   "source": [
    "$$F(\\omega) \\approx F_s(\\omega) + F_c(\\omega)$$ "
   ]
  },
  {
   "cell_type": "markdown",
   "id": "f16f835d-74c4-4842-b263-f1044029bfcf",
   "metadata": {},
   "source": [
    "왜냐하면 $Z_t^{(d)}$는 step spectral distribution 을 가지고 $Z_t^{(n)}$은 absolutely continuous spectral distribution 을 가진다. 따라서 $Z_t^{(d)}$를 "
   ]
  }
 ],
 "metadata": {
  "kernelspec": {
   "display_name": "Python 3",
   "language": "python",
   "name": "python3"
  },
  "language_info": {
   "codemirror_mode": {
    "name": "ipython",
    "version": 3
   },
   "file_extension": ".py",
   "mimetype": "text/x-python",
   "name": "python",
   "nbconvert_exporter": "python",
   "pygments_lexer": "ipython3",
   "version": "3.7.15"
  }
 },
 "nbformat": 4,
 "nbformat_minor": 5
}
