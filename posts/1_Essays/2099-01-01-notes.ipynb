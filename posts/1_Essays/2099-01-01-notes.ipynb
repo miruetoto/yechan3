{
 "cells": [
  {
   "cell_type": "raw",
   "id": "d5d6e3e2-f746-460f-97ee-e03221cb6241",
   "metadata": {},
   "source": [
    "---\n",
    "title: \"8wk-2: 마코프체인 (5)\"\n",
    "author: \"최규빈\"\n",
    "date: \"04/25/2023\"\n",
    "---"
   ]
  },
  {
   "cell_type": "code",
   "execution_count": 1,
   "id": "99c3b01b-c793-47a9-b93c-b27835d2904f",
   "metadata": {},
   "outputs": [],
   "source": [
    "import numpy as np"
   ]
  },
  {
   "cell_type": "markdown",
   "id": "59ab3586-a229-4fd4-9bcd-14b9d3dce658",
   "metadata": {},
   "source": [
    "`-` 지난시간 복습\n",
    "\n",
    "||특징1(수렴)|특징2(동일row)|특징3(정상분포)|특징4(정상과정)|\n",
    "|:-:|:-:|:-:|:-:|:-:|\n",
    "|예시1(나이스)|O|O|존재O, 유일O|O|\n",
    "|예시2(나이스)|O|O|존재O, 유일O|O|\n",
    "|예시3(흡수)|O|O|존재O, 유일O|O|\n",
    "|예시4(단위행렬)|O|X|존재O, 유일X|O|\n",
    "|예시5(주기)|X|X|존재O, 유일O|O|"
   ]
  },
  {
   "cell_type": "markdown",
   "id": "7b709d8b-2254-4577-a435-f9d4da6ce266",
   "metadata": {},
   "source": [
    "`-` 목표: 예시4와 예시5를 좀 더 공부해보자. "
   ]
  },
  {
   "cell_type": "markdown",
   "id": "a1ae5460-4d93-468f-af9a-aca6606f9e91",
   "metadata": {},
   "source": [
    "# irreducible "
   ]
  },
  {
   "cell_type": "markdown",
   "id": "18d8d305-cb88-4c91-b241-efe7fd4ac9f6",
   "metadata": {},
   "source": [
    "## Motivation Examples "
   ]
  },
  {
   "cell_type": "markdown",
   "id": "fba43bc1-db4d-4d65-aa66-39d472a28ecd",
   "metadata": {},
   "source": [
    "### 예제1"
   ]
  },
  {
   "cell_type": "markdown",
   "id": "f11df996-a873-41b2-b9a9-ac8f31d69131",
   "metadata": {},
   "source": [
    "`-` 아래의 전이확률을 고려하자. "
   ]
  },
  {
   "cell_type": "code",
   "execution_count": 2,
   "id": "cfe3a592-873e-4055-a636-52cb861bc5a1",
   "metadata": {},
   "outputs": [
    {
     "data": {
      "text/plain": [
       "array([[0.5, 0.5, 0. , 0. ],\n",
       "       [0.5, 0.5, 0. , 0. ],\n",
       "       [0. , 0. , 0.5, 0.5],\n",
       "       [0. , 0. , 0.5, 0.5]])"
      ]
     },
     "execution_count": 2,
     "metadata": {},
     "output_type": "execute_result"
    }
   ],
   "source": [
    "P =np.array([0.5, 0.5, 0.0, 0.0, \n",
    "             0.5, 0.5, 0.0, 0.0,\n",
    "             0.0, 0.0, 0.5, 0.5,\n",
    "             0.0, 0.0, 0.5, 0.5]).reshape(4,4)\n",
    "P"
   ]
  },
  {
   "cell_type": "markdown",
   "id": "239e655b-fc9e-4782-8e93-cfaaf6612763",
   "metadata": {},
   "source": [
    "`-` 특징1: ${\\bf P}$는 수렴함 "
   ]
  },
  {
   "cell_type": "code",
   "execution_count": 3,
   "id": "c8e25eb7-d6b7-49ae-b656-7a1cf34b5db6",
   "metadata": {},
   "outputs": [
    {
     "data": {
      "text/plain": [
       "array([[0.5, 0.5, 0. , 0. ],\n",
       "       [0.5, 0.5, 0. , 0. ],\n",
       "       [0. , 0. , 0.5, 0.5],\n",
       "       [0. , 0. , 0.5, 0.5]])"
      ]
     },
     "execution_count": 3,
     "metadata": {},
     "output_type": "execute_result"
    }
   ],
   "source": [
    "P@P"
   ]
  },
  {
   "cell_type": "markdown",
   "id": "6babb21b-ea02-4c7e-9632-adbe478726c3",
   "metadata": {},
   "source": [
    "`-` 특징2: 모든 row가 같은건 아님 "
   ]
  },
  {
   "cell_type": "markdown",
   "id": "1af728f2-764c-4bab-8a00-70eecfb0d9d7",
   "metadata": {},
   "source": [
    "`-` 특징3: 정상분포는 유일하게 존재하지 않음 "
   ]
  },
  {
   "cell_type": "code",
   "execution_count": 4,
   "id": "8ff5ea5a-05f4-4061-a459-7f60ee217ce5",
   "metadata": {},
   "outputs": [
    {
     "data": {
      "text/plain": [
       "(array([[0.1, 0.1, 0.8, 0.8]]), array([[0.1, 0.1, 0.8, 0.8]]))"
      ]
     },
     "execution_count": 4,
     "metadata": {},
     "output_type": "execute_result"
    }
   ],
   "source": [
    "π = np.array([0.1,0.1, 0.8,0.8]).reshape(4,1)\n",
    "π.T@P, π.T"
   ]
  },
  {
   "cell_type": "code",
   "execution_count": 5,
   "id": "c8ba898e-0f0a-4c58-85fc-30bbe9072e0b",
   "metadata": {},
   "outputs": [
    {
     "data": {
      "text/plain": [
       "(array([[0.2, 0.2, 0.7, 0.7]]), array([[0.2, 0.2, 0.7, 0.7]]))"
      ]
     },
     "execution_count": 5,
     "metadata": {},
     "output_type": "execute_result"
    }
   ],
   "source": [
    "π = np.array([0.2,0.2, 0.7,0.7]).reshape(4,1)\n",
    "π.T@P, π.T"
   ]
  },
  {
   "cell_type": "markdown",
   "id": "e45e58d2-a31c-4ad0-b19e-e83ef071abfb",
   "metadata": {},
   "source": [
    "`-` 특징4: 임의의 초기분포에 대하여, $\\{X_t\\}$의 뒷부분은 동일한 분포를 가짐. "
   ]
  },
  {
   "cell_type": "markdown",
   "id": "ae536731-fe29-4d3f-b071-cc20b8818f71",
   "metadata": {},
   "source": [
    "`-` 특징5: 상태공간 $E$ 에 equivalence class 가 2개 있는 느낌 "
   ]
  },
  {
   "cell_type": "markdown",
   "id": "49f3dfa9-d619-4c97-bda9-c64da533bccc",
   "metadata": {},
   "source": [
    "### 예제2\n",
    "\n",
    "`-` 아래의 전이확률을 고려하자. "
   ]
  },
  {
   "cell_type": "code",
   "execution_count": 6,
   "id": "26edac0c-6f31-4684-b1a5-9e3fcf6e0716",
   "metadata": {},
   "outputs": [
    {
     "data": {
      "text/plain": [
       "array([[0.25, 0.25, 0.  , 0.5 ],\n",
       "       [0.25, 0.25, 0.  , 0.5 ],\n",
       "       [0.  , 0.  , 1.  , 0.  ],\n",
       "       [0.5 , 0.25, 0.  , 0.25]])"
      ]
     },
     "execution_count": 6,
     "metadata": {},
     "output_type": "execute_result"
    }
   ],
   "source": [
    "P =np.array([1/4, 1/4, 0.0, 1/2, \n",
    "             1/4, 1/4, 0.0, 1/2,\n",
    "             0.0, 0.0, 1.0, 0.0,\n",
    "             1/2, 1/4, 0.0, 1/4]).reshape(4,4)\n",
    "P"
   ]
  },
  {
   "cell_type": "markdown",
   "id": "2b6e96b1-c6b5-492a-b65b-6f96feb4d8d8",
   "metadata": {},
   "source": [
    "`-` 특징1: ${\\bf P}$는 수렴함"
   ]
  },
  {
   "cell_type": "code",
   "execution_count": 7,
   "id": "03aa49cb-1764-4cad-abce-350f921b6e9e",
   "metadata": {},
   "outputs": [
    {
     "data": {
      "text/plain": [
       "matrix([[0.35, 0.25, 0.  , 0.4 ],\n",
       "        [0.35, 0.25, 0.  , 0.4 ],\n",
       "        [0.  , 0.  , 1.  , 0.  ],\n",
       "        [0.35, 0.25, 0.  , 0.4 ]])"
      ]
     },
     "execution_count": 7,
     "metadata": {},
     "output_type": "execute_result"
    }
   ],
   "source": [
    "np.matrix(P)**100"
   ]
  },
  {
   "cell_type": "markdown",
   "id": "0168d4b7-387c-40ce-8ab5-c62677e31dca",
   "metadata": {},
   "source": [
    "`-` 특징2: 모든 row가 같지는 않음 "
   ]
  },
  {
   "cell_type": "markdown",
   "id": "031bab06-8fca-4d32-acee-5cc0c7363e68",
   "metadata": {},
   "source": [
    "`-` 특징3: 유일한 정상분포를 가지는건 아님"
   ]
  },
  {
   "cell_type": "code",
   "execution_count": 8,
   "id": "ff4e51c9-5a53-4a21-84e3-95a8259c08fc",
   "metadata": {},
   "outputs": [],
   "source": [
    "c1= 0.3\n",
    "c2= 0.7\n",
    "π = np.array([0.35*c1, 0.25*c1, 1*c2, 0.4*c1]).reshape(4,1)"
   ]
  },
  {
   "cell_type": "code",
   "execution_count": 9,
   "id": "b8487695-5eee-409e-959c-4912f06ab819",
   "metadata": {},
   "outputs": [
    {
     "data": {
      "text/plain": [
       "(array([[0.105, 0.075, 0.7  , 0.12 ]]), array([[0.105, 0.075, 0.7  , 0.12 ]]))"
      ]
     },
     "execution_count": 9,
     "metadata": {},
     "output_type": "execute_result"
    }
   ],
   "source": [
    "π.T@P, π.T"
   ]
  },
  {
   "cell_type": "code",
   "execution_count": 10,
   "id": "c4c648ad-1de5-4cb8-a670-66e00ceabd3d",
   "metadata": {},
   "outputs": [],
   "source": [
    "c1= 0.2\n",
    "c2= 0.8\n",
    "π = np.array([0.35*c1, 0.25*c1, 1*c2, 0.4*c1]).reshape(4,1)"
   ]
  },
  {
   "cell_type": "code",
   "execution_count": 11,
   "id": "7437ca1a-5ba9-4e81-98d8-7b8f102d044e",
   "metadata": {},
   "outputs": [
    {
     "data": {
      "text/plain": [
       "(array([[0.07, 0.05, 0.8 , 0.08]]), array([[0.07, 0.05, 0.8 , 0.08]]))"
      ]
     },
     "execution_count": 11,
     "metadata": {},
     "output_type": "execute_result"
    }
   ],
   "source": [
    "π.T@P, π.T"
   ]
  },
  {
   "cell_type": "markdown",
   "id": "d217abf2-610e-4750-adc0-756f86b5fb93",
   "metadata": {},
   "source": [
    "`-` 특징4: 임의의 초기분포에 대하여, $\\{X_t\\}$의 뒷부분은 동일한 분포를 가짐. "
   ]
  },
  {
   "cell_type": "markdown",
   "id": "a18c1dbc-b4d8-43cf-9122-ca1848ee7193",
   "metadata": {},
   "source": [
    "`-` 특징5: 상태공간 $E$에 equivalence class 가 2개 있는 느낌 "
   ]
  },
  {
   "cell_type": "markdown",
   "id": "4e3aa6f5-7df1-4bff-95cf-d3005fa72b7d",
   "metadata": {},
   "source": [
    "## 정의 및 이론"
   ]
  },
  {
   "cell_type": "markdown",
   "id": "88234d0b-108d-413a-9d4e-1c05c2cd0147",
   "metadata": {},
   "source": [
    "`-` **용어**\n",
    "\n",
    "- irreducible (기약) // reducible (비기약) \n",
    "- (strongly) connected "
   ]
  },
  {
   "cell_type": "markdown",
   "id": "074b6643-22e2-4faa-9d43-9669d49b4c6f",
   "metadata": {},
   "source": [
    "`-` **정의**"
   ]
  },
  {
   "cell_type": "markdown",
   "id": "527130db-6335-4ca3-9022-1993555de5db",
   "metadata": {},
   "source": [
    "`-` **느낌**\n",
    "\n",
    "- 연결되어있는 느낌. 즉 모든 $x,y \\in E$에 대하여 $x\\to \\cdots \\to y$ 인 path 나 $y \\to \\cdots \\to x$ 인 path 가 존재함 \n",
    "- 겉도는 그룹이 없음 (상태공간 $E$에 단 하나의 equivalence class가 존재함) "
   ]
  },
  {
   "cell_type": "markdown",
   "id": "bfe81dce-702e-465c-80e9-3bae584ead50",
   "metadata": {},
   "source": [
    "`-` **Thm**: HMC $\\{X_t\\}$ 가 (1) finite state space 를 가지고 (2) irreducible 이라면 $\\{X_t\\}$의 유일한 정상분포 ${\\boldsymbol \\pi}$가 존재하며 모든 state에 대한 확률은 양수이다. "
   ]
  },
  {
   "cell_type": "markdown",
   "id": "666bdffe-fe6e-4c2a-b616-71178575e0d3",
   "metadata": {},
   "source": [
    "# aperiodic "
   ]
  },
  {
   "cell_type": "markdown",
   "id": "7323122b-a0f3-478d-829a-3d07429dcf35",
   "metadata": {},
   "source": [
    "## Motivation Examples "
   ]
  },
  {
   "cell_type": "markdown",
   "id": "2210869e-9326-418d-9730-37e66e1a5bfe",
   "metadata": {},
   "source": [
    "### 예제3"
   ]
  },
  {
   "cell_type": "markdown",
   "id": "778776b3-9b08-4489-a84c-5c7e41026e36",
   "metadata": {},
   "source": [
    "`-` 아래와 같은 전이확률을 고려하자. "
   ]
  },
  {
   "cell_type": "code",
   "execution_count": 12,
   "id": "c52c609d-f14e-419c-9d6f-d788e105f610",
   "metadata": {},
   "outputs": [
    {
     "data": {
      "text/plain": [
       "array([[0., 1., 0.],\n",
       "       [0., 0., 1.],\n",
       "       [1., 0., 0.]])"
      ]
     },
     "execution_count": 12,
     "metadata": {},
     "output_type": "execute_result"
    }
   ],
   "source": [
    "P = np.array([0.0, 1.0, 0.0,\n",
    "              0.0, 0.0, 1.0,\n",
    "              1.0, 0.0, 0.0]).reshape(3,3)\n",
    "P"
   ]
  },
  {
   "cell_type": "markdown",
   "id": "bed224eb-a160-4ade-b72d-ae108fb93fdd",
   "metadata": {},
   "source": [
    "`-` 다이어그램 \n",
    "\n",
    "```{mermaid}\n",
    "flowchart LR\n",
    "  0 -->|1| 1\n",
    "  1 -->|1| 2\n",
    "  2 -->|1| 0\n",
    "```"
   ]
  },
  {
   "cell_type": "markdown",
   "id": "e556f705-73b0-4112-8099-550c6dd31a52",
   "metadata": {},
   "source": [
    "`-` 특징1: ${\\bf P}$는 수렴안함"
   ]
  },
  {
   "cell_type": "code",
   "execution_count": 13,
   "id": "5fbbfb34-99c2-425e-84b2-20c7607da196",
   "metadata": {},
   "outputs": [
    {
     "data": {
      "text/plain": [
       "array([[1., 0., 0.],\n",
       "       [0., 1., 0.],\n",
       "       [0., 0., 1.]])"
      ]
     },
     "execution_count": 13,
     "metadata": {},
     "output_type": "execute_result"
    }
   ],
   "source": [
    "P@P@P"
   ]
  },
  {
   "cell_type": "markdown",
   "id": "e4af4907-46e7-42f9-9e09-7a74aa0734db",
   "metadata": {},
   "source": [
    "`-` 특징2: "
   ]
  },
  {
   "cell_type": "markdown",
   "id": "7db4be6e-ee51-4fa1-914a-60d668891bc3",
   "metadata": {},
   "source": [
    "`-` 특징3: 정상분포는 유일하게 존재함."
   ]
  },
  {
   "cell_type": "code",
   "execution_count": 14,
   "id": "736bcd69-6e23-487f-800d-6028bf9acc2b",
   "metadata": {},
   "outputs": [
    {
     "data": {
      "text/plain": [
       "array([[0.33333333],\n",
       "       [0.33333333],\n",
       "       [0.33333333]])"
      ]
     },
     "execution_count": 14,
     "metadata": {},
     "output_type": "execute_result"
    }
   ],
   "source": [
    "π = np.array([1/3,1/3,1/3]).reshape(3,1)\n",
    "π"
   ]
  },
  {
   "cell_type": "code",
   "execution_count": 15,
   "id": "3fd6636b-be05-4477-9160-31e05b3cffa2",
   "metadata": {},
   "outputs": [
    {
     "data": {
      "text/plain": [
       "array([[ True,  True,  True]])"
      ]
     },
     "execution_count": 15,
     "metadata": {},
     "output_type": "execute_result"
    }
   ],
   "source": [
    "π.T @ P == π.T"
   ]
  },
  {
   "cell_type": "markdown",
   "id": "7bcdeb01-79e4-4a53-9d22-6fe0fb9878b0",
   "metadata": {},
   "source": [
    "`-` 특징4: 임의의 초기분포에 대하여, $\\{X_t\\}$의 뒷부분은 동일한 분포를 가짐. "
   ]
  },
  {
   "cell_type": "markdown",
   "id": "4cf40f9c-8b1e-4f06-9aae-bac25e154129",
   "metadata": {},
   "source": [
    "`-` 특징5: 상태공간 $E$에 equivalence class 가 1개"
   ]
  },
  {
   "attachments": {},
   "cell_type": "markdown",
   "id": "9d10a571-5bba-432c-b4a5-014dbd8c4e31",
   "metadata": {},
   "source": [
    "`-` 특징6: 주기성을 가짐 (주기는 3)\n",
    "\n",
    "- 관찰: 어떠한 상태 $x \\in E$ 에 있더라도 반드시 3번 안에는 원래 상태로 되돌아옴."
   ]
  },
  {
   "cell_type": "markdown",
   "id": "a28b594e-bcab-45a1-b04b-4230bd7e60da",
   "metadata": {},
   "source": [
    "### 예제4 "
   ]
  },
  {
   "cell_type": "markdown",
   "id": "8905caa5-d319-458b-87c9-2f8065c9dc78",
   "metadata": {},
   "source": [
    "`-` 아래와 같은 전이확률을 고려하자. "
   ]
  },
  {
   "cell_type": "code",
   "execution_count": 33,
   "id": "b0b19534-ff48-4b28-bbca-5e71cb8533b6",
   "metadata": {},
   "outputs": [
    {
     "data": {
      "text/plain": [
       "array([[0.        , 1.        , 0.        , 0.        ],\n",
       "       [0.        , 0.        , 0.        , 1.        ],\n",
       "       [0.        , 1.        , 0.        , 0.        ],\n",
       "       [0.33333333, 0.        , 0.66666667, 0.        ]])"
      ]
     },
     "execution_count": 33,
     "metadata": {},
     "output_type": "execute_result"
    }
   ],
   "source": [
    "P = np.array([0.0, 1.0, 0.0, 0.0,\n",
    "              0.0, 0.0, 0.0, 1.0,\n",
    "              0.0, 1.0, 0.0, 0.0,\n",
    "              1/3, 0.0, 2/3, 0.0]).reshape(4,4)\n",
    "P"
   ]
  },
  {
   "cell_type": "markdown",
   "id": "09141ecc-05fe-469f-b78f-193f573042a4",
   "metadata": {},
   "source": [
    "`-` 다이어그램 \n",
    "\n",
    "```{mermaid}\n",
    "flowchart LR\n",
    "  0 -->|1| 1\n",
    "  1 -->|1| 3\n",
    "  2 -->|1| 1\n",
    "  3 -->|1/3| 0 \n",
    "  3 -->|2/3| 2\n",
    "```"
   ]
  },
  {
   "cell_type": "markdown",
   "id": "20ab7908-0e73-4c04-b6f7-d84a7f9fe172",
   "metadata": {},
   "source": [
    "`-` 특징1: ${\\bf P}$는 수렴안함 "
   ]
  },
  {
   "cell_type": "code",
   "execution_count": 17,
   "id": "f03599f2-4440-426f-adf4-83750cb0451a",
   "metadata": {},
   "outputs": [
    {
     "data": {
      "text/plain": [
       "array([[0.        , 1.        , 0.        , 0.        ],\n",
       "       [0.        , 0.        , 0.        , 1.        ],\n",
       "       [0.        , 1.        , 0.        , 0.        ],\n",
       "       [0.33333333, 0.        , 0.66666667, 0.        ]])"
      ]
     },
     "execution_count": 17,
     "metadata": {},
     "output_type": "execute_result"
    }
   ],
   "source": [
    "P@P@P@P"
   ]
  },
  {
   "cell_type": "markdown",
   "id": "f690c5ce-aa35-4234-9497-4c77c468dea1",
   "metadata": {},
   "source": [
    "`-` 특징2: Pass"
   ]
  },
  {
   "cell_type": "markdown",
   "id": "cb9ae76e-46b3-42ea-8365-c4c53fd086dc",
   "metadata": {},
   "source": [
    "`-` 특징3: 정상분포는 유일하게 존재함. "
   ]
  },
  {
   "cell_type": "code",
   "execution_count": 18,
   "id": "ecf8af64-6f84-492c-885e-aca04ece1009",
   "metadata": {},
   "outputs": [],
   "source": [
    "π = np.array([1/9, 3/9, 2/9, 3/9]).reshape(4,1) "
   ]
  },
  {
   "cell_type": "code",
   "execution_count": 21,
   "id": "54400394-00ba-4c88-9740-ef6e934c82eb",
   "metadata": {},
   "outputs": [
    {
     "data": {
      "text/plain": [
       "(array([[0.11111111, 0.33333333, 0.22222222, 0.33333333]]),\n",
       " array([[0.11111111, 0.33333333, 0.22222222, 0.33333333]]))"
      ]
     },
     "execution_count": 21,
     "metadata": {},
     "output_type": "execute_result"
    }
   ],
   "source": [
    "π.T@P , π.T"
   ]
  },
  {
   "cell_type": "markdown",
   "id": "2cb0a01c-e5d5-47e3-846a-34b17ea779c5",
   "metadata": {},
   "source": [
    "`-` 특징4: 임의의 초기분포에 대하여, $\\{X_t\\}$의 뒷부분은 동일한 분포를 가짐. "
   ]
  },
  {
   "cell_type": "markdown",
   "id": "d4b8cf36-b326-4536-a913-7dc386b5039e",
   "metadata": {},
   "source": [
    "`-` 특징5: irr"
   ]
  },
  {
   "cell_type": "markdown",
   "id": "758ad3b4-c1e9-4495-8de5-28cbb999796c",
   "metadata": {},
   "source": [
    "`-` 특징6: 주기성을 가짐 (주기는3) "
   ]
  },
  {
   "cell_type": "markdown",
   "id": "9eca90d0-8845-4f02-925c-656301b36f3d",
   "metadata": {},
   "source": [
    "```{mermaid}\n",
    "flowchart LR\n",
    "  0 -->|1| 1\n",
    "  1 -->|1| 3\n",
    "  2 -->|1| 1\n",
    "  3 -->|1/3| 0 \n",
    "  3 -->|2/3| 2\n",
    "```"
   ]
  },
  {
   "cell_type": "markdown",
   "id": "5bbc0019-f5a2-4ce0-b6db-67bb179f6b00",
   "metadata": {},
   "source": [
    "**0에서 시작한다면?**\n",
    "\n",
    "- $0 \\to 1 \\to 3 \\to 0$\n",
    "- $0 \\to 1 \\to 3 \\to 2 \\to 1 \\to 3 \\to 0$\n",
    "- $0 \\to 1 \\to 3 \\to 2 \\to 1 \\to 3 \\to 2 \\to \\cdots$"
   ]
  },
  {
   "cell_type": "markdown",
   "id": "149b9b50-8ed2-4b0d-9a80-08d6dbb064b3",
   "metadata": {},
   "source": [
    "> 3번만에 되돌아오거나, 6번만에 되돌아오거나, 9번만에 되돌아오거나 ... $\\Rightarrow$ 주기는 3 (3,6,9의 최대공약수는 3)"
   ]
  },
  {
   "cell_type": "markdown",
   "id": "c1a3e923-3c6c-428d-8547-8570ee55f4c5",
   "metadata": {},
   "source": [
    "**1에서 시작한다면?**\n",
    "\n",
    "- $1 \\to 3 \\to 0 \\to 1$\n",
    "- $1 \\to 3 \\to 2 \\to 1 \\to 3 \\to 0 \\to 1$\n",
    "- $\\dots$ "
   ]
  },
  {
   "cell_type": "markdown",
   "id": "69fd433d-fbc9-4fbf-84bd-081b79027c7d",
   "metadata": {},
   "source": [
    "**2에서 시작한다면?**\n"
   ]
  },
  {
   "cell_type": "markdown",
   "id": "a22edc64-5cec-43e9-9431-363d50a04af2",
   "metadata": {},
   "source": [
    "**3에서 시작한다면?**"
   ]
  },
  {
   "cell_type": "markdown",
   "id": "926472ee-ca92-4d2e-9782-fe9607f67210",
   "metadata": {},
   "source": [
    "> 꿀팁: HMC $\\{X_t\\}$가 irreducible 이라면 모든 $x \\in E$ 는 같은 주기를 가진다. "
   ]
  },
  {
   "cell_type": "markdown",
   "id": "5f8c002b-9d05-4deb-af3c-84b4edd6af84",
   "metadata": {},
   "source": [
    "### 예제5"
   ]
  },
  {
   "cell_type": "markdown",
   "id": "d3b10ae4-d396-4b6e-a7d7-98a8e9900ff2",
   "metadata": {},
   "source": [
    "`-` 아래의 전이확률을 고려하자. "
   ]
  },
  {
   "cell_type": "code",
   "execution_count": 31,
   "id": "b93e8fea-c8b7-44ab-8708-a1152cbfe1f7",
   "metadata": {},
   "outputs": [
    {
     "data": {
      "text/plain": [
       "array([[0. , 1. , 0. , 0. ],\n",
       "       [0.5, 0. , 0.5, 0. ],\n",
       "       [0. , 0. , 0. , 1. ],\n",
       "       [0. , 1. , 0. , 0. ]])"
      ]
     },
     "execution_count": 31,
     "metadata": {},
     "output_type": "execute_result"
    }
   ],
   "source": [
    "P =np.array([0.0, 1.0, 0.0, 0.0, \n",
    "             1/2, 0.0, 1/2, 0.0,\n",
    "             0.0, 0.0, 0.0, 1.0,\n",
    "             0.0, 1.0, 0.0, 0.0]).reshape(4,4)\n",
    "P"
   ]
  },
  {
   "cell_type": "markdown",
   "id": "afeba1e9-8be5-4f66-92a5-a9f877e5de8f",
   "metadata": {},
   "source": [
    "`-` 다이어그램 "
   ]
  },
  {
   "cell_type": "markdown",
   "id": "1def2d47-fd67-4cf0-92eb-c461a52a3449",
   "metadata": {},
   "source": [
    "```{mermaid}\n",
    "flowchart LR\n",
    "  0 -->|1| 1\n",
    "  1 -->|1/2| 0\n",
    "  1 -->|1/2| 2\n",
    "  2 -->|1| 3\n",
    "  3 -->|1| 1\n",
    "```"
   ]
  },
  {
   "cell_type": "markdown",
   "id": "dc93d082-ab8f-4db7-93fe-82c32b6beac7",
   "metadata": {},
   "source": [
    "`-` 특징1,2: "
   ]
  },
  {
   "cell_type": "code",
   "execution_count": 32,
   "id": "d05acecd-8d10-4f1d-b6c2-6a81577f5ef7",
   "metadata": {},
   "outputs": [
    {
     "data": {
      "text/plain": [
       "matrix([[0.2, 0.4, 0.2, 0.2],\n",
       "        [0.2, 0.4, 0.2, 0.2],\n",
       "        [0.2, 0.4, 0.2, 0.2],\n",
       "        [0.2, 0.4, 0.2, 0.2]])"
      ]
     },
     "execution_count": 32,
     "metadata": {},
     "output_type": "execute_result"
    }
   ],
   "source": [
    "np.matrix(P)**100"
   ]
  },
  {
   "cell_type": "markdown",
   "id": "226c2205-6b1d-4f4b-bc6f-d6452cdcee79",
   "metadata": {},
   "source": [
    "`-` 특징3: 정상분포를 가짐"
   ]
  },
  {
   "cell_type": "markdown",
   "id": "cb08b511-f5a4-4251-a907-936bc13c9df7",
   "metadata": {},
   "source": [
    "`-` 특징4: 임의의 초기분포에 대하여, $\\{X_t\\}$의 뒷부분은 동일한 분포를 가짐. "
   ]
  },
  {
   "cell_type": "markdown",
   "id": "c428a894-1618-4670-816c-0fdfcf3aa467",
   "metadata": {},
   "source": [
    "`-` 특징5: irr"
   ]
  },
  {
   "cell_type": "markdown",
   "id": "644f3bad-7514-494f-9358-27e7c870c0d2",
   "metadata": {},
   "source": [
    "`-` 특징6: 주기가 없음 "
   ]
  },
  {
   "cell_type": "markdown",
   "id": "be173d51-12f0-49d9-9bfa-7ae4247b2a48",
   "metadata": {},
   "source": [
    "```{mermaid}\n",
    "flowchart LR\n",
    "  0 -->|1| 1\n",
    "  1 -->|1/2| 0\n",
    "  1 -->|1/2| 2\n",
    "  2 -->|1| 3\n",
    "  3 -->|1| 1\n",
    "```"
   ]
  },
  {
   "attachments": {
    "7c354ba6-56a6-4b8e-91f8-940bd357174d.png": {
     "image/png": "[encoded data removed]"
    }
   },
   "cell_type": "markdown",
   "id": "8a2211ca-bb56-4be6-8058-1fd190a8dc74",
   "metadata": {},
   "source": [
    "![image.png](attachment:7c354ba6-56a6-4b8e-91f8-940bd357174d.png)"
   ]
  },
  {
   "cell_type": "markdown",
   "id": "428d1149-bbfb-4a1f-a831-0773c2c8cb33",
   "metadata": {},
   "source": [
    "**1에서 시작한다면?**"
   ]
  },
  {
   "cell_type": "markdown",
   "id": "47992724-d1a3-4301-9541-7439264113bc",
   "metadata": {},
   "source": [
    "- $1 \\to 0 \\to 1$, 2번만에 리턴\n",
    "- $1 \\to 2 \\to 3 \\to 1$, 3번만에 리턴 "
   ]
  },
  {
   "cell_type": "markdown",
   "id": "1ce2f8f0-8d15-4212-9b12-173d193ab12a",
   "metadata": {},
   "source": [
    "이 경우 2와 3의 최대공약수는 1이므로 주기는 1이다. "
   ]
  },
  {
   "cell_type": "markdown",
   "id": "93091f70-994c-433b-8f53-4a7f90674e86",
   "metadata": {},
   "source": [
    "> 주기가 1인 경우는 aperiodic 하다고 표현한다. (언제 올지 몰라)"
   ]
  },
  {
   "cell_type": "markdown",
   "id": "0b5194d9-d2a9-42bb-a822-59ed97578999",
   "metadata": {},
   "source": [
    "> 꿀팁: 자기자신으로 되돌아올 확률이 있다면 항상 aperiodic 하다."
   ]
  },
  {
   "cell_type": "markdown",
   "id": "a9965f20-934d-4704-b7ab-9bb70c18eb9c",
   "metadata": {},
   "source": [
    "## 정의 및 이론 "
   ]
  },
  {
   "cell_type": "markdown",
   "id": "781706dc-b423-4823-b96d-051080734b2e",
   "metadata": {},
   "source": [
    "`-` 정의"
   ]
  },
  {
   "cell_type": "markdown",
   "id": "b2cae539-e6f6-4bb8-b588-79aaf56353be",
   "metadata": {},
   "source": [
    "`-` 느낌 "
   ]
  },
  {
   "cell_type": "markdown",
   "id": "5f66fd29-3046-47c7-9918-8ad1c93e5adb",
   "metadata": {},
   "source": [
    "`-` **이론**: $\\{X_t\\}$가 finte state HMC 이면, 모든 상태가 항상 같은 주기를 가진다. "
   ]
  },
  {
   "cell_type": "markdown",
   "id": "edbee05c-c68d-45dc-a766-69fca9fa065e",
   "metadata": {},
   "source": [
    "# 에르고딕 마코프체인"
   ]
  },
  {
   "cell_type": "markdown",
   "id": "3e377342-c01f-402a-abd1-1c6be560e8c1",
   "metadata": {},
   "source": [
    "## 정의 및 이론"
   ]
  },
  {
   "attachments": {},
   "cell_type": "markdown",
   "id": "6d450970-3a4a-44ac-8788-04fa2f7b3620",
   "metadata": {},
   "source": [
    "`-` **Thm**: HMC $\\{X_t\\}$가 (1) finite state space를 가지고 (2) irreduciable 하고 (3) aperiodic 이라면, ${\\bf P}$가 수렴하고 수렴한 matrix의 모든 row는 같다. 따라서 임의의 초기분포 ${\\boldsymbol \\mu}$ 에 대하여 \n",
    "\n",
    "$$\\lim_{t\\to \\infty}{\\boldsymbol \\mu}^\\top{\\bf P}^t = {\\boldsymbol \\pi}^\\top $$\n",
    "\n",
    "이 성립한다. 여기에서 ${\\boldsymbol \\pi}$는 $\\{X_t\\}$의 정상분포이다. "
   ]
  },
  {
   "cell_type": "markdown",
   "id": "ef8e8294-b51d-4dea-896d-376c8d76fdb2",
   "metadata": {},
   "source": [
    "`-` 정의: 아래의 식을 만족하는 HMC $\\{X_t\\}$을 에르고딕하다고 말한다. \n",
    "\n",
    "$$\\lim_{t\\to \\infty}{\\boldsymbol \\mu}^\\top{\\bf P}^t = {\\boldsymbol \\pi}^\\top $$"
   ]
  }
 ],
 "metadata": {
  "kernelspec": {
   "display_name": "Python 3",
   "language": "python",
   "name": "python3"
  },
  "language_info": {
   "codemirror_mode": {
    "name": "ipython",
    "version": 3
   },
   "file_extension": ".py",
   "mimetype": "text/x-python",
   "name": "python",
   "nbconvert_exporter": "python",
   "pygments_lexer": "ipython3",
   "version": "3.8.16"
  }
 },
 "nbformat": 4,
 "nbformat_minor": 5
}
