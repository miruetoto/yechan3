{
 "cells": [
  {
   "cell_type": "raw",
   "id": "d5d6e3e2-f746-460f-97ee-e03221cb6241",
   "metadata": {},
   "source": [
    "---\n",
    "title: \"연습장\"\n",
    "author: \"최규빈\"\n",
    "date: \"01/01/2099\"\n",
    "---"
   ]
  },
  {
   "cell_type": "markdown",
   "id": "53b83e0b-338d-48e0-a662-f9acf8ea11e4",
   "metadata": {},
   "source": [
    "# imports "
   ]
  },
  {
   "cell_type": "code",
   "execution_count": 7,
   "id": "3fb6ab95-681b-4b54-8cc1-ad83990544cc",
   "metadata": {},
   "outputs": [],
   "source": [
    "import numpy as np\n",
    "import pandas as pd \n",
    "import matplotlib.pyplot as plt \n",
    "import urllib.request"
   ]
  },
  {
   "cell_type": "markdown",
   "id": "3ff4ef0f-db1c-49af-9c9a-16ce7decf025",
   "metadata": {},
   "source": [
    "# 회귀분석 "
   ]
  },
  {
   "cell_type": "markdown",
   "id": "72387581-fee3-4913-bacf-7f499e209800",
   "metadata": {},
   "source": [
    "`1--7`. 아래의 모형을 고려하자. \n",
    "\n",
    "- $y_i = 2+3x_i +\\epsilon_i,\\quad \\epsilon_i \\overset{iid}{\\sim} N(0,1)$"
   ]
  },
  {
   "cell_type": "markdown",
   "id": "13aca207-6f98-4ed0-a875-8e3498d6d6bd",
   "metadata": {},
   "source": [
    "$x_i$는 아래와 같이 주어졌다고 가정하자. "
   ]
  },
  {
   "cell_type": "code",
   "execution_count": 86,
   "id": "bdc9b323-bb81-441d-b9a4-e35b1abf6c6b",
   "metadata": {},
   "outputs": [],
   "source": [
    "x =  np.array([0.00983, 0.01098, 0.02951, 0.0384 , 0.03973, 0.04178, 0.0533 ,\n",
    "               0.058  , 0.09454, 0.1103 , 0.1328 , 0.1412 , 0.1497 , 0.1664 ,\n",
    "               0.1906 , 0.1923 , 0.198  , 0.2141 , 0.2393 , 0.2433 , 0.3157 ,\n",
    "               0.3228 , 0.3418 , 0.3552 , 0.3918 , 0.3962 , 0.4    , 0.4482 ,\n",
    "               0.496  , 0.507  , 0.53   , 0.5654 , 0.582  , 0.5854 , 0.5854 ,\n",
    "               0.6606 , 0.7007 , 0.723  , 0.7305 , 0.7383 , 0.7656 , 0.7725 ,\n",
    "               0.831  , 0.8896 , 0.9053 , 0.914  , 0.949  , 0.952  , 0.9727 ,\n",
    "               0.982  ])"
   ]
  },
  {
   "cell_type": "markdown",
   "id": "1c323481-76eb-4450-a69d-2ed3e36958b4",
   "metadata": {},
   "source": [
    "`1`. 제시된 모형에 맞추어서 $y_i$를 생성하라. $(x_i,y_i)$를 산점도를 이용하여 시각화하라. "
   ]
  },
  {
   "cell_type": "code",
   "execution_count": 309,
   "id": "e6d9ae46-3d8e-4e33-967d-c4a49e67b88c",
   "metadata": {},
   "outputs": [
    {
     "data": {
      "text/plain": [
       "[<matplotlib.lines.Line2D at 0x7fd32e467220>]"
      ]
     },
     "execution_count": 309,
     "metadata": {},
     "output_type": "execute_result"
    },
    {
     "data": {
      "image/png": "[encoded data removed]",
      "text/plain": [
       "<Figure size 432x288 with 1 Axes>"
      ]
     },
     "metadata": {
      "needs_background": "light"
     },
     "output_type": "display_data"
    }
   ],
   "source": [
    "# 시각화예시"
   ]
  },
  {
   "cell_type": "markdown",
   "id": "c834650f-41fc-4aee-8054-f1bf1bcca829",
   "metadata": {},
   "source": [
    "(풀이)"
   ]
  },
  {
   "cell_type": "code",
   "execution_count": 91,
   "id": "be6d9239-58f3-4d88-aaa6-00df605d7c75",
   "metadata": {},
   "outputs": [
    {
     "data": {
      "text/plain": [
       "[<matplotlib.lines.Line2D at 0x7f3d960046d0>]"
      ]
     },
     "execution_count": 91,
     "metadata": {},
     "output_type": "execute_result"
    },
    {
     "data": {
      "image/png": "[encoded data removed]",
      "text/plain": [
       "<Figure size 432x288 with 1 Axes>"
      ]
     },
     "metadata": {
      "needs_background": "light"
     },
     "output_type": "display_data"
    }
   ],
   "source": [
    "np.random.seed(43052)\n",
    "y = 2+3*x +np.random.randn(50)\n",
    "plt.plot(x,y,'o')"
   ]
  },
  {
   "cell_type": "markdown",
   "id": "b278826b-1b47-47b5-a7e4-2ed3b56fb153",
   "metadata": {},
   "source": [
    "`2`. `1`과 같은 자료를 잘 표현할 수 있는 적절한 추세선 $(x_i, \\hat{y}_i)$를 그리기 위하여 아래의 모형을 가정하자. \n",
    "\n",
    "- $\\hat{y}_i = ax_i+b$\n",
    "\n",
    "`(a)` $a=1$, $b=0$ 으로 선택 $\\Rightarrow$ 추세선을 $\\hat{y}_i = x_i$ 로 선택. \n",
    "\n",
    "`(b)` $a=2.5$, $b=2$ 으로 선택 $\\Rightarrow$ 추세선을 $\\hat{y}_i = 2.5 x_i + 2$ 로 선택. \n",
    "\n",
    "`(c)` $a=3$, $b=2$ 로 선택 $\\Rightarrow$ 추세선을 $\\hat{y}_i = 3 x_i + 2$ 로 선택. "
   ]
  },
  {
   "cell_type": "markdown",
   "id": "fde111cd-54dc-47fc-9f96-37260b982937",
   "metadata": {},
   "source": [
    "어떠한 추세선이 가장 옳은 선택일까? 각각의 선택에 대한 $(x_i, \\hat{y}_i)$를 $(x_i,y_i)$와 겹쳐서 그려보고 스스로 생각해보라. "
   ]
  },
  {
   "cell_type": "markdown",
   "id": "5b60626c-ccb6-406d-987a-0d0c465e4cb2",
   "metadata": {},
   "source": [
    "(풀이) "
   ]
  },
  {
   "cell_type": "code",
   "execution_count": 114,
   "id": "a721c382-b5a0-4ef6-833c-e1ce99df21ba",
   "metadata": {},
   "outputs": [
    {
     "data": {
      "text/plain": [
       "<matplotlib.legend.Legend at 0x7f3d95b5ef10>"
      ]
     },
     "execution_count": 114,
     "metadata": {},
     "output_type": "execute_result"
    },
    {
     "data": {
      "image/png": "[encoded data removed]",
      "text/plain": [
       "<Figure size 432x288 with 1 Axes>"
      ]
     },
     "metadata": {
      "needs_background": "light"
     },
     "output_type": "display_data"
    }
   ],
   "source": [
    "plt.plot(x,y,'o')\n",
    "plt.plot(x,x,'--',label='(a)')\n",
    "plt.plot(x,2.5*x+2,'--',label='(b)')\n",
    "plt.plot(x,3*x+2,'--',label='(c)')\n",
    "plt.legend()"
   ]
  },
  {
   "cell_type": "markdown",
   "id": "9ce176bb-bce1-4bc1-914a-6ec70882307f",
   "metadata": {},
   "source": [
    "`3`. 아래를 각각 계산하라. "
   ]
  },
  {
   "cell_type": "markdown",
   "id": "6ef32728-be97-440a-b096-1deffb16d375",
   "metadata": {},
   "source": [
    "`(a)` $\\frac{1}{n}\\sum_{i=1}^{n}(y_i-x_i)^2$\n",
    "\n",
    "`(b)` $\\frac{1}{n}\\sum_{i=1}^{n}(y_i-2-2.5x_i)^2$\n",
    "\n",
    "`(c)` $\\frac{1}{n}\\sum_{i=1}^{n}(y_i-2-3x_i)^2$"
   ]
  },
  {
   "cell_type": "markdown",
   "id": "d9f2c5f7-ae33-4fcc-8d4a-4d4f4c8c0224",
   "metadata": {},
   "source": [
    "가장 작은 값을 가지는 것은 무엇인가? "
   ]
  },
  {
   "cell_type": "code",
   "execution_count": 95,
   "id": "64f94a11-47d4-4d9e-b02f-746761e1c904",
   "metadata": {},
   "outputs": [
    {
     "data": {
      "text/plain": [
       "(9.342403121914232, 1.0685397621742116, 1.012275220881132)"
      ]
     },
     "execution_count": 95,
     "metadata": {},
     "output_type": "execute_result"
    }
   ],
   "source": [
    "np.mean((y-x)**2), np.mean((y-2-2.5*x)**2), np.mean((y-2-3*x)**2)"
   ]
  },
  {
   "cell_type": "markdown",
   "id": "25e6edc8-f94e-4970-a7ca-6a6d25d8a9b5",
   "metadata": {},
   "source": [
    "`4`. 3의 결과를 근거로 (a)-(c)중 가장 적절한 추세선을 판단하고 적절한 순서대로 나열하라. "
   ]
  },
  {
   "cell_type": "markdown",
   "id": "899ad9ea-928d-43bf-8c2b-0275f7d3c467",
   "metadata": {},
   "source": [
    "`(풀이)`"
   ]
  },
  {
   "cell_type": "markdown",
   "id": "18369ba2-e34c-446e-a303-64ce6691a220",
   "metadata": {},
   "source": [
    "3-(a),(b),(c)는 각각 \n",
    "\n",
    "- $\\hat{y}_i=x_i$\n",
    "- $\\hat{y}_i=2+2.5x_i$\n",
    "- $\\hat{y}_i=2+3x_i$ \n",
    "\n",
    "일 경우 \n",
    "\n",
    "$${\\tt mse}({\\boldsymbol y}, \\hat{\\boldsymbol y}) = \\frac{1}{n}\\sum_{i=1}^{n}(y_i -\\hat{y}_i)^2$$\n",
    "\n",
    "를 계산한 것이라 해석할 수 있다. 그런데 ${\\tt mse}({\\boldsymbol y}, \\hat{\\boldsymbol y})$의 값은 \n",
    "\n",
    "- $y_1 \\approx \\hat{y}_1$ \n",
    "- $y_2 \\approx \\hat{y}_2$ \n",
    "- $\\dots$ \n",
    "- $y_n \\approx \\hat{y}_n$ \n",
    "\n",
    "일수록 작은 값을 가진다. 그리고 위의 조건은 더 적절하게 추세선을 그렸을때 만족된다. 요약하면 \n",
    "\n",
    "- 적절한 추세선을 그림 $\\Rightarrow$ $y_i \\approx \\hat{y}_i$ $\\Rightarrow$ ${\\tt mse}({\\boldsymbol y}, \\hat{\\boldsymbol y})$ 값이 작아짐 \n",
    "\n",
    "와 같은 관계가 있음을 파악할 수 있다. 따라서 ${\\tt mse}({\\boldsymbol y}, \\hat{\\boldsymbol y})$의 값이 작을수록 적절한 추세선이라 생각할 수 있다. "
   ]
  },
  {
   "cell_type": "markdown",
   "id": "e863cb75-1334-41aa-b92c-ff9ae2cc6e02",
   "metadata": {},
   "source": [
    "`5`. 아래와 같은 수식을 이용하여 $\\hat{\\beta}_0, \\hat{\\beta}_1$ 을 계산하라. "
   ]
  },
  {
   "cell_type": "markdown",
   "id": "c9837d29-375c-4b1f-a05a-18eac9701f04",
   "metadata": {},
   "source": [
    "$$\\begin{bmatrix} \\hat{\\beta}_0 \\\\ \\hat{\\beta}_1 \\end{bmatrix} = ({\\bf X}^T {\\bf X})^{-1}{\\bf X}^T {\\boldsymbol y}, \\quad {\\bf X}=\\begin{bmatrix} 1 & x_1 \\\\ 1 & x_2 \\\\ \\dots \\\\ 1 & x_n \\end{bmatrix}$$ "
   ]
  },
  {
   "cell_type": "markdown",
   "id": "54cdd4dc-59d5-4e8e-96dc-e91d5ae4cf95",
   "metadata": {},
   "source": [
    "`(풀이)`"
   ]
  },
  {
   "cell_type": "code",
   "execution_count": 105,
   "id": "1fbbbc9f-9d6e-4d25-8112-8b6b7b09f3aa",
   "metadata": {},
   "outputs": [
    {
     "data": {
      "text/plain": [
       "array([1.90902642, 3.08672379])"
      ]
     },
     "execution_count": 105,
     "metadata": {},
     "output_type": "execute_result"
    }
   ],
   "source": [
    "X = np.array([[1]*50,x.tolist()]).T\n",
    "np.linalg.inv(X.T @ X) @ X.T @ y"
   ]
  },
  {
   "cell_type": "markdown",
   "id": "9a905353-f426-4c14-ac18-29943e04b729",
   "metadata": {},
   "source": [
    "`6`. `4`에서 계산된 $\\hat{\\beta}_0, \\hat{\\beta}_1$을 각각 $b=\\hat{\\beta}_0, a=\\hat{\\beta}_1$으로 생각하고 적절한 추세선 $(x_i, y_i)$를 그려라. (단, $y_i=ax_i+b$ 이다) "
   ]
  },
  {
   "cell_type": "code",
   "execution_count": 106,
   "id": "af427317-28b3-4507-9100-4f9b587310fb",
   "metadata": {},
   "outputs": [],
   "source": [
    "b,a = np.linalg.inv(X.T @ X) @ X.T @ y"
   ]
  },
  {
   "cell_type": "code",
   "execution_count": 108,
   "id": "38a111b0-ba13-4d79-8a90-e5c62ec7d158",
   "metadata": {},
   "outputs": [
    {
     "data": {
      "text/plain": [
       "[<matplotlib.lines.Line2D at 0x7f3d95fcbc10>]"
      ]
     },
     "execution_count": 108,
     "metadata": {},
     "output_type": "execute_result"
    },
    {
     "data": {
      "image/png": "[encoded data removed]",
      "text/plain": [
       "<Figure size 432x288 with 1 Axes>"
      ]
     },
     "metadata": {
      "needs_background": "light"
     },
     "output_type": "display_data"
    }
   ],
   "source": [
    "plt.plot(x,y,'o')\n",
    "plt.plot(x,a*x+b,'--')"
   ]
  },
  {
   "cell_type": "markdown",
   "id": "09cfb0cb-49d1-42dd-ab8d-2ab17cba8dd3",
   "metadata": {},
   "source": [
    "`7`. 4의 기준에 따르면, $(a,b)=(3,2)$ 일때 만들어지는 추세선과 $(a,b)=(\\hat{\\beta}_1,\\hat{\\beta}_0)$ 일때 만들어지는 추세선은 어떤 것이 더 적절한가? "
   ]
  },
  {
   "cell_type": "code",
   "execution_count": 110,
   "id": "9b11fc38-17cd-4ee6-af86-05df99889b58",
   "metadata": {},
   "outputs": [
    {
     "data": {
      "text/plain": [
       "(15.586226155059602, 16.585088883526698)"
      ]
     },
     "execution_count": 110,
     "metadata": {},
     "output_type": "execute_result"
    }
   ],
   "source": [
    "np.mean((y-a*x+b)**2),np.mean((y-3*x+2)**2)"
   ]
  },
  {
   "cell_type": "markdown",
   "id": "a776677c-dbc2-4424-a3b5-cabc286e8f62",
   "metadata": {},
   "source": [
    "# MNIST data"
   ]
  },
  {
   "cell_type": "markdown",
   "id": "e9b322ac-be8a-47f1-8b60-3a17f32c0b54",
   "metadata": {},
   "source": [
    "아래는 0~9가지의 숫자이미지가 저장된 이미지데이터를 불러오는 코드이다. "
   ]
  },
  {
   "cell_type": "code",
   "execution_count": 6,
   "id": "641d0435-b025-4fd8-9fd6-fcd6818cbd0b",
   "metadata": {},
   "outputs": [],
   "source": [
    "# URL 설정\n",
    "url = 'https://github.com/guebin/PP2023/raw/main/posts/02_PY4DS/mnist.npz'\n",
    "\n",
    "# URL에서 파일 다운로드\n",
    "urllib.request.urlretrieve(url, './mnist.npz')\n",
    "\n",
    "# 데이터 로드\n",
    "data = np.load('./mnist.npz')\n",
    "xtrain, ytrain, xtest, ytest = data['x_train'], data['y_train'], data['x_test'], data['y_test']"
   ]
  },
  {
   "cell_type": "code",
   "execution_count": 3,
   "id": "0b05d5b4-bd97-4e24-867a-d050eda1320c",
   "metadata": {},
   "outputs": [
    {
     "data": {
      "text/plain": [
       "(10000, 28, 28)"
      ]
     },
     "execution_count": 3,
     "metadata": {},
     "output_type": "execute_result"
    }
   ],
   "source": [
    "xtest.shape"
   ]
  },
  {
   "cell_type": "markdown",
   "id": "be2d592c-e40f-42a5-8ee4-1950ea1f5180",
   "metadata": {},
   "source": [
    "아래는 데이터에 대한 설명이다. \n",
    "\n",
    "- 전체의 이미지의 수는 70000개이며, 60000개의 이미지 ${\\tt xtrain}$에 10000개의 이미지는 ${\\tt xtest}$에 저장되어 있다. \n",
    "- 이미지에 대한 라벨은 각각 ${\\tt ytrain}$과 $\\tt ytest$에 저장되어 있다. 따라서 $\\tt ytrain$에는 60000개의 이미지에 해당하는 라벨이, $\\tt ytest$에는 10000개의 이미지에 해당하는 라벨이 기록되어 있다. \n",
    "- 보통 분석에서는 60000개의 이미지를 가지고 라벨을 맞추는 \"훈련\"을 하고 (${\\tt xtrain}$을 이용하여 ${\\tt ytrain}$을 맞추는 방법을 학습하고), 그러한 훈련이 잘 되었는지 10000개의 이미지를 이용하여 \"테스트\"한다. \n",
    "- 위와 같은 의미로 $({\\tt xtrain}, {\\tt ytrain})$ 을 training data set, $({\\tt xtest},{\\tt ytest})$ 를 test data set 이라고 부른다. (ref: [위키참고](https://en.wikipedia.org/wiki/Training,_validation,_and_test_data_sets))"
   ]
  },
  {
   "cell_type": "markdown",
   "id": "2c852bce-75a4-4f6d-84e7-40e949e65e30",
   "metadata": {},
   "source": [
    "아래는 이미지자료와 시각화에 대한 설명이다. \n",
    "\n",
    "- 각 이미지는 (28,28) 픽셀의 흑백미지이다. 따라서 각 이미지는 (28,28,3) 이 아니라 (28,28) 의 shape을 가진 텐서로 구성되어있다. \n",
    "- 흑백이미지를 시각화 하기 위해서는 `plt.imshow(img, cmap='gray')`를 이용한다. 여기에서 ${\\tt img}$은 임의의 2차원 텐서이며 이 예제의 경우 (28,28)의 shape을 가진다. "
   ]
  },
  {
   "cell_type": "markdown",
   "id": "c57dff64-4c15-4e31-acbb-0f10fad2045d",
   "metadata": {},
   "source": [
    "아래는 ${\\tt xtrain}$의 두번째 이미지, 즉 ${\\tt xtrain[1,:,:]}$를 확인하는 코드의 예시이다. "
   ]
  },
  {
   "cell_type": "code",
   "execution_count": 8,
   "id": "40617535-1af4-4265-ae72-a0f3b8aea4db",
   "metadata": {},
   "outputs": [
    {
     "data": {
      "text/plain": [
       "<matplotlib.image.AxesImage at 0x7f3da8609b50>"
      ]
     },
     "execution_count": 8,
     "metadata": {},
     "output_type": "execute_result"
    },
    {
     "data": {
      "image/png": "[encoded data removed]",
      "text/plain": [
       "<Figure size 432x288 with 1 Axes>"
      ]
     },
     "metadata": {
      "needs_background": "light"
     },
     "output_type": "display_data"
    }
   ],
   "source": [
    "plt.imshow(xtrain[1,:,:],cmap='gray')\n",
    "# plt.imshow(xtrain[1],cmap='gray') ## 같은코드임"
   ]
  },
  {
   "cell_type": "markdown",
   "id": "70a8e630-96c2-4fd4-b964-1c5ae4202fac",
   "metadata": {},
   "source": [
    "이 이미지에 대한 label은 ${\\tt ytrain[1]}$의 값으로 확인가능하다. "
   ]
  },
  {
   "cell_type": "code",
   "execution_count": 9,
   "id": "fe003cb6-6999-4458-aa2b-49b79c540d2e",
   "metadata": {},
   "outputs": [
    {
     "data": {
      "text/plain": [
       "0"
      ]
     },
     "execution_count": 9,
     "metadata": {},
     "output_type": "execute_result"
    }
   ],
   "source": [
    "ytrain[1]"
   ]
  },
  {
   "cell_type": "markdown",
   "id": "28417d6a-9850-409e-a383-93f3f78bd4b1",
   "metadata": {},
   "source": [
    "이미지와 라벨을 한번에 표현하는 코드는 아래와 같이 작성가능하다. "
   ]
  },
  {
   "cell_type": "code",
   "execution_count": 11,
   "id": "e0197631-4058-4e1d-a6ee-6df19d0600ac",
   "metadata": {},
   "outputs": [
    {
     "data": {
      "image/png": "[encoded data removed]",
      "text/plain": [
       "<Figure size 432x288 with 1 Axes>"
      ]
     },
     "metadata": {
      "needs_background": "light"
     },
     "output_type": "display_data"
    }
   ],
   "source": [
    "plt.imshow(xtrain[1],cmap='gray')\n",
    "plt.title('label={}'.format(ytrain[1]));"
   ]
  },
  {
   "cell_type": "markdown",
   "id": "8d07f6f6-8594-4eeb-8054-7fdc704011da",
   "metadata": {},
   "source": [
    "아래는 10개의 이미지를 라벨과 함께 출력하는 코드의 예시이다. "
   ]
  },
  {
   "cell_type": "code",
   "execution_count": 13,
   "id": "b781e57c-f4a7-4f32-9c17-90a16634eb85",
   "metadata": {},
   "outputs": [
    {
     "data": {
      "image/png": "[encoded data removed]",
      "text/plain": [
       "<Figure size 720x360 with 10 Axes>"
      ]
     },
     "metadata": {
      "needs_background": "light"
     },
     "output_type": "display_data"
    }
   ],
   "source": [
    "fig, ax = plt.subplots(2,5,figsize=(10,5))\n",
    "\n",
    "ax[0][0].imshow(xtrain[0],cmap='gray'); ax[0][0].set_title('label={}'.format(ytrain[0]));\n",
    "ax[0][1].imshow(xtrain[1],cmap='gray'); ax[0][1].set_title('label={}'.format(ytrain[1]));\n",
    "ax[0][2].imshow(xtrain[2],cmap='gray'); ax[0][2].set_title('label={}'.format(ytrain[2]));\n",
    "ax[0][3].imshow(xtrain[3],cmap='gray'); ax[0][3].set_title('label={}'.format(ytrain[3]));\n",
    "ax[0][4].imshow(xtrain[4],cmap='gray'); ax[0][4].set_title('label={}'.format(ytrain[4]));\n",
    "\n",
    "ax[1][0].imshow(xtrain[5],cmap='gray'); ax[1][0].set_title('label={}'.format(ytrain[5]));\n",
    "ax[1][1].imshow(xtrain[6],cmap='gray'); ax[1][1].set_title('label={}'.format(ytrain[6]));\n",
    "ax[1][2].imshow(xtrain[7],cmap='gray'); ax[1][2].set_title('label={}'.format(ytrain[7]));\n",
    "ax[1][3].imshow(xtrain[8],cmap='gray'); ax[1][3].set_title('label={}'.format(ytrain[8]));\n",
    "ax[1][4].imshow(xtrain[9],cmap='gray'); ax[1][4].set_title('label={}'.format(ytrain[9]));\n",
    "\n",
    "fig.tight_layout()\n"
   ]
  },
  {
   "cell_type": "markdown",
   "id": "13c17504-a790-4006-963a-8501a2a4b7c1",
   "metadata": {},
   "source": [
    "`(1)` 70000개의 이미지중 0~9에 해당하는 이미지는 각각 몇장씩 들어있는가? "
   ]
  },
  {
   "cell_type": "code",
   "execution_count": 14,
   "id": "155c5d57-4a54-4114-b640-50142d834186",
   "metadata": {},
   "outputs": [
    {
     "data": {
      "text/plain": [
       "array([5, 0, 4, ..., 4, 5, 6], dtype=uint8)"
      ]
     },
     "execution_count": 14,
     "metadata": {},
     "output_type": "execute_result"
    }
   ],
   "source": [
    "y = np.concatenate([ytrain,ytest])\n",
    "y "
   ]
  },
  {
   "cell_type": "code",
   "execution_count": 15,
   "id": "25d5ef43-c150-4c33-b4dc-1559e9aa0b41",
   "metadata": {},
   "outputs": [
    {
     "data": {
      "text/plain": [
       "{0: 6903,\n",
       " 1: 7877,\n",
       " 2: 6990,\n",
       " 3: 7141,\n",
       " 4: 6824,\n",
       " 5: 6313,\n",
       " 6: 6876,\n",
       " 7: 7293,\n",
       " 8: 6825,\n",
       " 9: 6958}"
      ]
     },
     "execution_count": 15,
     "metadata": {},
     "output_type": "execute_result"
    }
   ],
   "source": [
    "{s:list(y).count(s) for s in set(y)}"
   ]
  },
  {
   "cell_type": "markdown",
   "id": "fecc0d32-f77e-4938-8ce8-75a2863ca4dd",
   "metadata": {},
   "source": [
    "`(2)` ${\\tt xtrain}$에서 손글씨 0을 의미하는 이미지만을 모아서 새로운 텐서 ${\\tt xtrain0}$를 만들어라. 이 텐서에서 처음과 마지막 이미지를 출력하라. "
   ]
  },
  {
   "cell_type": "code",
   "execution_count": 16,
   "id": "19ed1ad3-9312-4b14-b5cd-e01615cdd29d",
   "metadata": {},
   "outputs": [],
   "source": [
    "xtrain0 = xtrain[ytrain == 0]"
   ]
  },
  {
   "cell_type": "markdown",
   "id": "bc2112b9-d2b6-40ac-a40e-3e09ab819f8d",
   "metadata": {},
   "source": [
    "**hint:** ${\\tt xtrain0}$ 의 shape은 (5923,28,28)이어야 한다. "
   ]
  },
  {
   "cell_type": "code",
   "execution_count": 17,
   "id": "5598730b-6277-4012-9889-8d01c869534a",
   "metadata": {},
   "outputs": [
    {
     "data": {
      "text/plain": [
       "(5923, 28, 28)"
      ]
     },
     "execution_count": 17,
     "metadata": {},
     "output_type": "execute_result"
    }
   ],
   "source": [
    "xtrain0.shape"
   ]
  },
  {
   "cell_type": "code",
   "execution_count": 18,
   "id": "e70e8bbc-6f5c-42d2-81e7-fb62d79d67f0",
   "metadata": {},
   "outputs": [
    {
     "data": {
      "text/plain": [
       "<matplotlib.image.AxesImage at 0x7f3da6234520>"
      ]
     },
     "execution_count": 18,
     "metadata": {},
     "output_type": "execute_result"
    },
    {
     "data": {
      "image/png": "[encoded data removed]",
      "text/plain": [
       "<Figure size 432x288 with 1 Axes>"
      ]
     },
     "metadata": {
      "needs_background": "light"
     },
     "output_type": "display_data"
    }
   ],
   "source": [
    "plt.imshow(xtrain[ytrain == 0][0],cmap='gray') # 처음 "
   ]
  },
  {
   "cell_type": "code",
   "execution_count": 19,
   "id": "97f65d66-4621-4a43-9bdd-6649911e5191",
   "metadata": {},
   "outputs": [
    {
     "data": {
      "text/plain": [
       "<matplotlib.image.AxesImage at 0x7f3da5b7ae80>"
      ]
     },
     "execution_count": 19,
     "metadata": {},
     "output_type": "execute_result"
    },
    {
     "data": {
      "image/png": "[encoded data removed]",
      "text/plain": [
       "<Figure size 432x288 with 1 Axes>"
      ]
     },
     "metadata": {
      "needs_background": "light"
     },
     "output_type": "display_data"
    }
   ],
   "source": [
    "plt.imshow(xtrain[ytrain == 0][-1],cmap='gray') # 마지막 "
   ]
  },
  {
   "cell_type": "markdown",
   "id": "d07abf05-ca29-4144-aec6-778899c6168f",
   "metadata": {},
   "source": [
    "`(3)` ${\\tt xtrain}$에서 손글씨 0을 의미하는 이미지의 평균을 계산하라. 즉 아래를 계산하라. \n",
    "\n",
    "- ${\\tt xtrain0mean} = \\frac{1}{5923}\\sum_{i=1}^{5923} {\\tt xtrain0[i, :, :]}$\n",
    "\n",
    "계산결과를 출력하라. "
   ]
  },
  {
   "cell_type": "markdown",
   "id": "6d892491-be17-4a42-a2bd-e2f41b5a5990",
   "metadata": {},
   "source": [
    "`(4)` ${\\tt xtrain}$에서 각 라벨에 대한 평균이미지를 계산하고 계산결과를 ${\\tt imgmean}$에 길이가 10인 `list`로 저장하라. 즉 ${\\tt imgmean}$은 아래와 같은 자료구조를 가지고 있어야 한다. \n",
    "\n",
    "- ${\\tt imgmean}=\\big[{\\tt imgmean[0]},\\dots, {\\tt imgmean[9]}\\big]$ \n",
    "- ${\\tt imgmean[0]}, \\dots, {\\tt imgmean[9]}$ 는 각각 (28,28)의 shape을 가진 numpy array \n",
    "- ${\\tt imgmean[0]}, \\dots, {\\tt imgmean[9]}$ 는 각각 숫자 0,1, ..., 9의 평균이미지를 의미"
   ]
  },
  {
   "cell_type": "markdown",
   "id": "6dbd90fd-1ea9-4bd1-aa14-ed4e74a3022b",
   "metadata": {},
   "source": [
    "${\\tt imgmean[0]},\\dots, {\\tt imgmean[9]}$를 시각화 하라. "
   ]
  },
  {
   "cell_type": "markdown",
   "id": "7783cd04-5b11-47e0-80fd-8acdb385ba7e",
   "metadata": {},
   "source": [
    "(풀이) "
   ]
  },
  {
   "cell_type": "code",
   "execution_count": 21,
   "id": "d0ed4305-fd09-4119-9214-1829017cde49",
   "metadata": {},
   "outputs": [],
   "source": [
    "imgmean = [xtrain[ytrain==i].mean(axis=0) for i in range(10)]"
   ]
  },
  {
   "cell_type": "code",
   "execution_count": 22,
   "id": "d112d157-096c-4620-a156-641f4511a718",
   "metadata": {},
   "outputs": [
    {
     "data": {
      "image/png": "[encoded data removed]",
      "text/plain": [
       "<Figure size 720x360 with 10 Axes>"
      ]
     },
     "metadata": {
      "needs_background": "light"
     },
     "output_type": "display_data"
    }
   ],
   "source": [
    "fig, ax = plt.subplots(2,5,figsize=(10,5))\n",
    "\n",
    "ax[0][0].imshow(imgmean[0],cmap='gray')\n",
    "ax[0][1].imshow(imgmean[1],cmap='gray')\n",
    "ax[0][2].imshow(imgmean[2],cmap='gray')\n",
    "ax[0][3].imshow(imgmean[3],cmap='gray')\n",
    "ax[0][4].imshow(imgmean[4],cmap='gray')\n",
    "\n",
    "ax[1][0].imshow(imgmean[5],cmap='gray')\n",
    "ax[1][1].imshow(imgmean[6],cmap='gray')\n",
    "ax[1][2].imshow(imgmean[7],cmap='gray')\n",
    "ax[1][3].imshow(imgmean[8],cmap='gray')\n",
    "ax[1][4].imshow(imgmean[9],cmap='gray')\n",
    "\n",
    "fig.tight_layout()\n"
   ]
  },
  {
   "cell_type": "markdown",
   "id": "f4b5619a-3e5f-494f-b4cd-582bc6497fe1",
   "metadata": {},
   "source": [
    "`(5)` ${\\tt xtrain}$의 두번째 이미지와 ${\\tt imgmean[0]}$의 차이를 제곱한 값의 평균을 구하라. 즉 아래를 계산하라. \n",
    "\n",
    "- $\\frac{1}{28\\times 28} \\sum_{p=0}^{27}\\sum_{q=0}^{27}\\big({\\tt xtrain[1,p,q]}-{\\tt imgmean[0][p,q]}\\big)^2$"
   ]
  },
  {
   "cell_type": "markdown",
   "id": "e4bab60f-0fea-4b09-b74c-1ac7a14db78d",
   "metadata": {},
   "source": [
    "(풀이)"
   ]
  },
  {
   "cell_type": "code",
   "execution_count": 52,
   "id": "50483d61-9ff9-4453-a5fa-3c40b5837fe3",
   "metadata": {},
   "outputs": [
    {
     "data": {
      "text/plain": [
       "2299.9585279846365"
      ]
     },
     "execution_count": 52,
     "metadata": {},
     "output_type": "execute_result"
    }
   ],
   "source": [
    "np.mean((xtrain[1] - imgmean[0])**2)"
   ]
  },
  {
   "cell_type": "markdown",
   "id": "f91f7e8b-7b08-4855-9d03-d7270d6df564",
   "metadata": {},
   "source": [
    "`(6)` 모든 $j=0,1,\\dots,9$ 에 대하여 아래를 계산하라. \n",
    "\n",
    "- $\\frac{1}{28\\times 28} \\sum_{p=0}^{27}\\sum_{q=0}^{27}\\big({\\tt xtrain[1,p,q]}-{\\tt imgmean[j][p,q]}\\big)^2$\n",
    "\n",
    "계산값이 가장 작게 나오는 $j$는 얼마인가? 위의 계산결과를 토대로 ${\\tt xtrain}$의 두번째 이미지는 어떠한 숫자를 의미한다고 \"분류\"하는 것이 타당한가? "
   ]
  },
  {
   "cell_type": "markdown",
   "id": "4d161934-fda1-4842-940f-2b7017b5d085",
   "metadata": {},
   "source": [
    "(풀이)"
   ]
  },
  {
   "cell_type": "code",
   "execution_count": 53,
   "id": "cf8d8a47-2762-4c11-9cea-8fcc950c6d32",
   "metadata": {},
   "outputs": [
    {
     "data": {
      "text/plain": [
       "[2299.9585279846365,\n",
       " 7474.876421640121,\n",
       " 6154.997099653264,\n",
       " 5889.84882305034,\n",
       " 6763.709480023399,\n",
       " 4616.900123430389,\n",
       " 5856.367892213506,\n",
       " 6465.999476962735,\n",
       " 5916.546346421647,\n",
       " 6385.5252510342525]"
      ]
     },
     "execution_count": 53,
     "metadata": {},
     "output_type": "execute_result"
    }
   ],
   "source": [
    "[np.mean((xtrain[1] - imgmean[j])**2) for j in range(10)]"
   ]
  },
  {
   "cell_type": "markdown",
   "id": "c370c4ad-2e55-41ea-bfc6-e247aa09001a",
   "metadata": {},
   "source": [
    "0의 평균이미지와 가장 비슷하므로 이 숫자는 0으로 분류하는 것이 타당하다."
   ]
  },
  {
   "cell_type": "markdown",
   "id": "99407329-80b1-47fe-9f4c-5d3d3fe3b247",
   "metadata": {},
   "source": [
    "`(7)` 아래와 같은 numpy array 를 생성하라. "
   ]
  },
  {
   "cell_type": "markdown",
   "id": "8d9a318f-b925-4c5f-b04b-c9715b4760ba",
   "metadata": {},
   "source": [
    "$${\\tt loss}= \n",
    "\\begin{bmatrix} \n",
    "{\\tt loss[0,0]} & \\dots & {\\tt loss[0,9]} \\\\ \n",
    "{\\tt loss[1,0]} & \\dots & {\\tt loss[1,9]} \\\\ \n",
    "\\dots & \\dots &  \\dots \\\\ \n",
    "{\\tt loss[59999,0]}& \\dots &{\\tt loss[59999,9]} \\\\ \n",
    "\\end{bmatrix}$$"
   ]
  },
  {
   "cell_type": "markdown",
   "id": "2f2f6430-0d34-4c2f-bc5a-cd8e142fb6f1",
   "metadata": {},
   "source": [
    "단, ${\\tt loss[i,j]} = \\frac{1}{28\\times 28} \\sum_{p=0}^{27}\\sum_{q=0}^{27}\\big({\\tt xtrain[i,p,q]}-{\\tt imgmean[j][p,q]}\\big)^2$"
   ]
  },
  {
   "cell_type": "markdown",
   "id": "fd59335d-5f87-419b-9a5f-e62aba1cbbb2",
   "metadata": {},
   "source": [
    "위에서 생성한 ${\\tt loss}$를 이용해 (6)와 같은 방식으로 ${\\tt xtrain}$의 모든 이미지에 대한 분류를 수행하라. "
   ]
  },
  {
   "cell_type": "markdown",
   "id": "13c10610-3d0c-4d01-a2e0-e815a251966e",
   "metadata": {},
   "source": [
    "**hint**: ${\\tt loss}$에서 \"최소값을 가지는 원소의 인덱스를 출력\"하는 함수를 각 행별로 적용하면 된다. "
   ]
  },
  {
   "cell_type": "markdown",
   "id": "2de2c61e-e261-43ad-9ece-bfc3a433bb5b",
   "metadata": {},
   "source": [
    "(풀이) "
   ]
  },
  {
   "cell_type": "code",
   "execution_count": 60,
   "id": "6eaba3db-515f-45a6-a582-0555d97ee479",
   "metadata": {},
   "outputs": [
    {
     "data": {
      "text/plain": [
       "array([[5485.67975482, 5707.43469781, 5212.58320665, ..., 5042.14784944,\n",
       "        4520.18103036, 5175.22874691],\n",
       "       [2299.95852798, 7474.87642164, 6154.99709965, ..., 6465.99947696,\n",
       "        5916.54634642, 6385.52525103],\n",
       "       [7018.40786764, 6343.5256079 , 5739.88155316, ..., 5600.23577882,\n",
       "        6146.0360002 , 5006.43715314],\n",
       "       ...,\n",
       "       [6131.80678276, 5476.76189891, 6378.32878155, ..., 4574.48767081,\n",
       "        4138.47180941, 4096.39084133],\n",
       "       [4476.0677341 , 5158.58155138, 4541.36535259, ..., 4978.2596727 ,\n",
       "        5424.14806569, 4728.64242366],\n",
       "       [5395.66844449, 4734.64601743, 4531.63864404, ..., 4629.62716134,\n",
       "        3804.82664409, 4252.74309784]])"
      ]
     },
     "execution_count": 60,
     "metadata": {},
     "output_type": "execute_result"
    }
   ],
   "source": [
    "loss = np.array([[np.mean((xtrain[i] - imgmean[j])**2) for j in range(10)] for i in range(60000)])\n",
    "loss"
   ]
  },
  {
   "cell_type": "code",
   "execution_count": 62,
   "id": "df533f66-2c05-445c-bb18-bd895add1289",
   "metadata": {},
   "outputs": [
    {
     "data": {
      "text/plain": [
       "array([5, 0, 4, ..., 5, 6, 8])"
      ]
     },
     "execution_count": 62,
     "metadata": {},
     "output_type": "execute_result"
    }
   ],
   "source": [
    "loss.argmin(axis=1)"
   ]
  },
  {
   "cell_type": "markdown",
   "id": "49dac9ac-013b-48ed-b6dc-79198f2dfb36",
   "metadata": {},
   "source": [
    "`(8)` `(7)`에서 수행한 분류결과와 실제 라벨 ${\\tt ytrain}$을 비교하라. 얼마나 많은 결과가 일치하는지 비율을 계산하라. "
   ]
  },
  {
   "cell_type": "code",
   "execution_count": 64,
   "id": "342ff35a-5f29-4f17-89fa-73f5ba4d13c7",
   "metadata": {},
   "outputs": [
    {
     "data": {
      "text/plain": [
       "0.8079833333333334"
      ]
     },
     "execution_count": 64,
     "metadata": {},
     "output_type": "execute_result"
    }
   ],
   "source": [
    "sum(ytrain == loss.argmin(axis=1))/ len(ytrain)"
   ]
  },
  {
   "cell_type": "markdown",
   "id": "a571f7fb-0f07-4c0e-a427-9fa89c1a11db",
   "metadata": {},
   "source": [
    "`(9)` ${\\tt xtrain}$에서 학습한 평균이미지 ${\\tt imgmean}$를 바탕으로 ${\\tt xtest}$의 이미지를 분류하라. 분류결과를 ${\\tt ytest}$와 비교하라. 얼마나 많은 결과가 일치하는지 비율을 계산하라."
   ]
  },
  {
   "cell_type": "code",
   "execution_count": 69,
   "id": "a0655736-70c5-4e18-bc0c-5f42fddc0074",
   "metadata": {},
   "outputs": [
    {
     "data": {
      "text/plain": [
       "array([[6009.81782196, 5135.89922645, 5109.71350951, ..., 1902.54628971,\n",
       "        4907.4499437 , 3415.07286301],\n",
       "       [7094.51697685, 6394.20478436, 5352.65475511, ..., 8246.35821904,\n",
       "        6313.05176652, 7835.08862496],\n",
       "       [6097.37904537, 1028.40570237, 3644.00346821, ..., 3639.97364875,\n",
       "        3787.75242274, 3837.64336126],\n",
       "       ...,\n",
       "       [7295.92751088, 5657.41846088, 5216.96655163, ..., 4021.17141696,\n",
       "        3646.84893511, 3249.1626142 ],\n",
       "       [6403.97242099, 4923.61214206, 5497.81415835, ..., 5281.70831901,\n",
       "        4614.57180997, 5371.42000397],\n",
       "       [5709.94559802, 9538.17304757, 6090.66048956, ..., 9122.99526462,\n",
       "        7593.83221505, 7871.33001414]])"
      ]
     },
     "execution_count": 69,
     "metadata": {},
     "output_type": "execute_result"
    }
   ],
   "source": [
    "loss_test = np.array([[np.mean((xtest[j] - imgmean[i])**2) for i in range(10)] for j in range(10000)])\n",
    "loss_test"
   ]
  },
  {
   "cell_type": "code",
   "execution_count": 72,
   "id": "8dc1cd5b-0a1f-45e2-8b74-513c17027ac5",
   "metadata": {},
   "outputs": [
    {
     "data": {
      "text/plain": [
       "0.8203"
      ]
     },
     "execution_count": 72,
     "metadata": {},
     "output_type": "execute_result"
    }
   ],
   "source": [
    "sum(loss_test.argmin(axis=1) == ytest)/ len(ytest)"
   ]
  },
  {
   "cell_type": "markdown",
   "id": "08b04ce7-2f9f-44e9-a890-2624de68789a",
   "metadata": {},
   "source": [
    "`(10)` `(9)`의 과정에서 잘못분류된 이미지 10개를 선택하여 시각화 하라. \n",
    "\n",
    "- 실제 라벨과 잘못된 라벨을 구분하여 시각화 할 것 "
   ]
  },
  {
   "cell_type": "markdown",
   "id": "22b6e8c8-6514-45cb-b51c-0a502aeee736",
   "metadata": {},
   "source": [
    "(풀이)"
   ]
  },
  {
   "cell_type": "code",
   "execution_count": 119,
   "id": "0065974b-467d-4a5b-9f07-51601002468c",
   "metadata": {},
   "outputs": [],
   "source": [
    "img = xtest[ytest != loss_test.argmin(axis=1)][:10]\n",
    "label = ytest[ytest != loss_test.argmin(axis=1)][:10]\n",
    "est = loss_test.argmin(axis=1)[ytest != loss_test.argmin(axis=1)][:10]"
   ]
  },
  {
   "cell_type": "code",
   "execution_count": 125,
   "id": "75fe8569-715c-4e15-8d06-a685a1bfce60",
   "metadata": {},
   "outputs": [
    {
     "data": {
      "image/png": "[encoded data removed]",
      "text/plain": [
       "<Figure size 720x360 with 10 Axes>"
      ]
     },
     "metadata": {
      "needs_background": "light"
     },
     "output_type": "display_data"
    }
   ],
   "source": [
    "fig, ax = plt.subplots(2,5,figsize=(10,5))\n",
    "\n",
    "ax[0][0].imshow(img[0],cmap='gray'); ax[0][0].set_title('{}/{}'.format(label[0],est[0]));\n",
    "ax[0][1].imshow(img[1],cmap='gray'); ax[0][1].set_title('{}/{}'.format(label[1],est[1]));\n",
    "ax[0][2].imshow(img[2],cmap='gray'); ax[0][2].set_title('{}/{}'.format(label[2],est[2]));\n",
    "ax[0][3].imshow(img[3],cmap='gray'); ax[0][3].set_title('{}/{}'.format(label[3],est[3]));\n",
    "ax[0][4].imshow(img[4],cmap='gray'); ax[0][4].set_title('{}/{}'.format(label[4],est[4]));\n",
    "\n",
    "ax[1][0].imshow(img[5],cmap='gray'); ax[1][0].set_title('{}/{}'.format(label[5],est[5]));\n",
    "ax[1][1].imshow(img[6],cmap='gray'); ax[1][1].set_title('{}/{}'.format(label[6],est[6]));\n",
    "ax[1][2].imshow(img[7],cmap='gray'); ax[1][2].set_title('{}/{}'.format(label[7],est[7]));\n",
    "ax[1][3].imshow(img[8],cmap='gray'); ax[1][3].set_title('{}/{}'.format(label[8],est[8]));\n",
    "ax[1][4].imshow(img[9],cmap='gray'); ax[1][4].set_title('{}/{}'.format(label[9],est[9]));\n",
    "\n",
    "fig.tight_layout()\n"
   ]
  },
  {
   "cell_type": "markdown",
   "id": "93f5911b-27e7-4eca-8a40-19ca7a85fd35",
   "metadata": {},
   "source": [
    "- 악필.. "
   ]
  },
  {
   "cell_type": "markdown",
   "id": "5f0662b5-27b5-49e7-b1b4-db60547385e9",
   "metadata": {},
   "source": [
    "# FIFA23 자료분석 "
   ]
  },
  {
   "cell_type": "markdown",
   "id": "a9082b37-9ec3-4a51-bfd1-f0b5f2ee8606",
   "metadata": {},
   "source": [
    "아래는 FIFA23 자료를 불러오는 코드이다. "
   ]
  },
  {
   "cell_type": "code",
   "execution_count": 39,
   "id": "13522d26-8e52-42b3-abbc-f76d3565e11a",
   "metadata": {},
   "outputs": [
    {
     "data": {
      "text/html": [
       "<div>\n",
       "<style scoped>\n",
       "    .dataframe tbody tr th:only-of-type {\n",
       "        vertical-align: middle;\n",
       "    }\n",
       "\n",
       "    .dataframe tbody tr th {\n",
       "        vertical-align: top;\n",
       "    }\n",
       "\n",
       "    .dataframe thead th {\n",
       "        text-align: right;\n",
       "    }\n",
       "</style>\n",
       "<table border=\"1\" class=\"dataframe\">\n",
       "  <thead>\n",
       "    <tr style=\"text-align: right;\">\n",
       "      <th></th>\n",
       "      <th>ID</th>\n",
       "      <th>Name</th>\n",
       "      <th>Age</th>\n",
       "      <th>Photo</th>\n",
       "      <th>Nationality</th>\n",
       "      <th>Flag</th>\n",
       "      <th>Overall</th>\n",
       "      <th>Potential</th>\n",
       "      <th>Club</th>\n",
       "      <th>Club Logo</th>\n",
       "      <th>...</th>\n",
       "      <th>Work Rate</th>\n",
       "      <th>Body Type</th>\n",
       "      <th>Real Face</th>\n",
       "      <th>Position</th>\n",
       "      <th>Joined</th>\n",
       "      <th>Contract Valid Until</th>\n",
       "      <th>Height</th>\n",
       "      <th>Weight</th>\n",
       "      <th>Release Clause</th>\n",
       "      <th>Kit Number</th>\n",
       "    </tr>\n",
       "  </thead>\n",
       "  <tbody>\n",
       "    <tr>\n",
       "      <th>0</th>\n",
       "      <td>209658</td>\n",
       "      <td>L. Goretzka</td>\n",
       "      <td>27</td>\n",
       "      <td>https://cdn.sofifa.net/players/209/658/23_60.png</td>\n",
       "      <td>Germany</td>\n",
       "      <td>https://cdn.sofifa.net/flags/de.png</td>\n",
       "      <td>87</td>\n",
       "      <td>88</td>\n",
       "      <td>FC Bayern München</td>\n",
       "      <td>https://cdn.sofifa.net/teams/21/30.png</td>\n",
       "      <td>...</td>\n",
       "      <td>High/ Medium</td>\n",
       "      <td>Unique</td>\n",
       "      <td>Yes</td>\n",
       "      <td>&lt;span class=\"pos pos28\"&gt;SUB</td>\n",
       "      <td>Jul 1, 2018</td>\n",
       "      <td>2026</td>\n",
       "      <td>189cm</td>\n",
       "      <td>82kg</td>\n",
       "      <td>€157M</td>\n",
       "      <td>8.0</td>\n",
       "    </tr>\n",
       "    <tr>\n",
       "      <th>1</th>\n",
       "      <td>212198</td>\n",
       "      <td>Bruno Fernandes</td>\n",
       "      <td>27</td>\n",
       "      <td>https://cdn.sofifa.net/players/212/198/23_60.png</td>\n",
       "      <td>Portugal</td>\n",
       "      <td>https://cdn.sofifa.net/flags/pt.png</td>\n",
       "      <td>86</td>\n",
       "      <td>87</td>\n",
       "      <td>Manchester United</td>\n",
       "      <td>https://cdn.sofifa.net/teams/11/30.png</td>\n",
       "      <td>...</td>\n",
       "      <td>High/ High</td>\n",
       "      <td>Unique</td>\n",
       "      <td>Yes</td>\n",
       "      <td>&lt;span class=\"pos pos15\"&gt;LCM</td>\n",
       "      <td>Jan 30, 2020</td>\n",
       "      <td>2026</td>\n",
       "      <td>179cm</td>\n",
       "      <td>69kg</td>\n",
       "      <td>€155M</td>\n",
       "      <td>8.0</td>\n",
       "    </tr>\n",
       "    <tr>\n",
       "      <th>2</th>\n",
       "      <td>224334</td>\n",
       "      <td>M. Acuña</td>\n",
       "      <td>30</td>\n",
       "      <td>https://cdn.sofifa.net/players/224/334/23_60.png</td>\n",
       "      <td>Argentina</td>\n",
       "      <td>https://cdn.sofifa.net/flags/ar.png</td>\n",
       "      <td>85</td>\n",
       "      <td>85</td>\n",
       "      <td>Sevilla FC</td>\n",
       "      <td>https://cdn.sofifa.net/teams/481/30.png</td>\n",
       "      <td>...</td>\n",
       "      <td>High/ High</td>\n",
       "      <td>Stocky (170-185)</td>\n",
       "      <td>No</td>\n",
       "      <td>&lt;span class=\"pos pos7\"&gt;LB</td>\n",
       "      <td>Sep 14, 2020</td>\n",
       "      <td>2024</td>\n",
       "      <td>172cm</td>\n",
       "      <td>69kg</td>\n",
       "      <td>€97.7M</td>\n",
       "      <td>19.0</td>\n",
       "    </tr>\n",
       "    <tr>\n",
       "      <th>3</th>\n",
       "      <td>192985</td>\n",
       "      <td>K. De Bruyne</td>\n",
       "      <td>31</td>\n",
       "      <td>https://cdn.sofifa.net/players/192/985/23_60.png</td>\n",
       "      <td>Belgium</td>\n",
       "      <td>https://cdn.sofifa.net/flags/be.png</td>\n",
       "      <td>91</td>\n",
       "      <td>91</td>\n",
       "      <td>Manchester City</td>\n",
       "      <td>https://cdn.sofifa.net/teams/10/30.png</td>\n",
       "      <td>...</td>\n",
       "      <td>High/ High</td>\n",
       "      <td>Unique</td>\n",
       "      <td>Yes</td>\n",
       "      <td>&lt;span class=\"pos pos13\"&gt;RCM</td>\n",
       "      <td>Aug 30, 2015</td>\n",
       "      <td>2025</td>\n",
       "      <td>181cm</td>\n",
       "      <td>70kg</td>\n",
       "      <td>€198.9M</td>\n",
       "      <td>17.0</td>\n",
       "    </tr>\n",
       "    <tr>\n",
       "      <th>4</th>\n",
       "      <td>224232</td>\n",
       "      <td>N. Barella</td>\n",
       "      <td>25</td>\n",
       "      <td>https://cdn.sofifa.net/players/224/232/23_60.png</td>\n",
       "      <td>Italy</td>\n",
       "      <td>https://cdn.sofifa.net/flags/it.png</td>\n",
       "      <td>86</td>\n",
       "      <td>89</td>\n",
       "      <td>Inter</td>\n",
       "      <td>https://cdn.sofifa.net/teams/44/30.png</td>\n",
       "      <td>...</td>\n",
       "      <td>High/ High</td>\n",
       "      <td>Normal (170-)</td>\n",
       "      <td>Yes</td>\n",
       "      <td>&lt;span class=\"pos pos13\"&gt;RCM</td>\n",
       "      <td>Sep 1, 2020</td>\n",
       "      <td>2026</td>\n",
       "      <td>172cm</td>\n",
       "      <td>68kg</td>\n",
       "      <td>€154.4M</td>\n",
       "      <td>23.0</td>\n",
       "    </tr>\n",
       "  </tbody>\n",
       "</table>\n",
       "<p>5 rows × 27 columns</p>\n",
       "</div>"
      ],
      "text/plain": [
       "       ID             Name  Age   \n",
       "0  209658      L. Goretzka   27  \\\n",
       "1  212198  Bruno Fernandes   27   \n",
       "2  224334         M. Acuña   30   \n",
       "3  192985     K. De Bruyne   31   \n",
       "4  224232       N. Barella   25   \n",
       "\n",
       "                                              Photo Nationality   \n",
       "0  https://cdn.sofifa.net/players/209/658/23_60.png     Germany  \\\n",
       "1  https://cdn.sofifa.net/players/212/198/23_60.png    Portugal   \n",
       "2  https://cdn.sofifa.net/players/224/334/23_60.png   Argentina   \n",
       "3  https://cdn.sofifa.net/players/192/985/23_60.png     Belgium   \n",
       "4  https://cdn.sofifa.net/players/224/232/23_60.png       Italy   \n",
       "\n",
       "                                  Flag  Overall  Potential               Club   \n",
       "0  https://cdn.sofifa.net/flags/de.png       87         88  FC Bayern München  \\\n",
       "1  https://cdn.sofifa.net/flags/pt.png       86         87  Manchester United   \n",
       "2  https://cdn.sofifa.net/flags/ar.png       85         85         Sevilla FC   \n",
       "3  https://cdn.sofifa.net/flags/be.png       91         91    Manchester City   \n",
       "4  https://cdn.sofifa.net/flags/it.png       86         89              Inter   \n",
       "\n",
       "                                 Club Logo  ...     Work Rate   \n",
       "0   https://cdn.sofifa.net/teams/21/30.png  ...  High/ Medium  \\\n",
       "1   https://cdn.sofifa.net/teams/11/30.png  ...    High/ High   \n",
       "2  https://cdn.sofifa.net/teams/481/30.png  ...    High/ High   \n",
       "3   https://cdn.sofifa.net/teams/10/30.png  ...    High/ High   \n",
       "4   https://cdn.sofifa.net/teams/44/30.png  ...    High/ High   \n",
       "\n",
       "          Body Type  Real Face                     Position        Joined   \n",
       "0            Unique        Yes  <span class=\"pos pos28\">SUB   Jul 1, 2018  \\\n",
       "1            Unique        Yes  <span class=\"pos pos15\">LCM  Jan 30, 2020   \n",
       "2  Stocky (170-185)         No    <span class=\"pos pos7\">LB  Sep 14, 2020   \n",
       "3            Unique        Yes  <span class=\"pos pos13\">RCM  Aug 30, 2015   \n",
       "4     Normal (170-)        Yes  <span class=\"pos pos13\">RCM   Sep 1, 2020   \n",
       "\n",
       "   Contract Valid Until  Height Weight Release Clause Kit Number  \n",
       "0                  2026   189cm   82kg          €157M        8.0  \n",
       "1                  2026   179cm   69kg          €155M        8.0  \n",
       "2                  2024   172cm   69kg         €97.7M       19.0  \n",
       "3                  2025   181cm   70kg        €198.9M       17.0  \n",
       "4                  2026   172cm   68kg        €154.4M       23.0  \n",
       "\n",
       "[5 rows x 27 columns]"
      ]
     },
     "execution_count": 39,
     "metadata": {},
     "output_type": "execute_result"
    }
   ],
   "source": [
    "df=pd.read_csv('https://raw.githubusercontent.com/guebin/DV2022/master/posts/FIFA23_official_data.csv').drop(columns=['Loaned From', 'Best Overall Rating']).dropna()\n",
    "df.head()"
   ]
  },
  {
   "cell_type": "markdown",
   "id": "0a5992fb-4ea1-4afd-876a-2c52ee313ee4",
   "metadata": {},
   "source": [
    "`(1)` 칼럼이름을 출력하라. "
   ]
  },
  {
   "cell_type": "markdown",
   "id": "0d4b7733-1ec0-4e3e-a701-fb25403c67d5",
   "metadata": {},
   "source": [
    "`(2)` 선수들의 평균임금(Wage)을 구하라. "
   ]
  },
  {
   "cell_type": "markdown",
   "id": "23ea3e0e-a3ca-4de2-b2f9-0379794810b6",
   "metadata": {},
   "source": [
    "**hint**: ChatGPT를 이용하여 적절하게 자료를 변화하라. "
   ]
  },
  {
   "cell_type": "markdown",
   "id": "4784bd98-652c-4b34-8afb-bb12a5812937",
   "metadata": {},
   "source": [
    "# 삼성전자와 SK하이닉스"
   ]
  },
  {
   "cell_type": "markdown",
   "id": "99217cb7-58e4-4c56-b043-57c65b83dd92",
   "metadata": {},
   "source": [
    "`(1)` 삼성전자와 SK하이닉스의 주가를 load하는 코드를 작성하라. (ChatGPT활용) "
   ]
  },
  {
   "cell_type": "code",
   "execution_count": 35,
   "id": "8f8930a3-422e-4c13-bbe7-1d60b04a4564",
   "metadata": {},
   "outputs": [
    {
     "name": "stdout",
     "output_type": "stream",
     "text": [
      "[*********************100%***********************]  2 of 2 completed\n"
     ]
    },
    {
     "data": {
      "text/html": [
       "<div>\n",
       "<style scoped>\n",
       "    .dataframe tbody tr th:only-of-type {\n",
       "        vertical-align: middle;\n",
       "    }\n",
       "\n",
       "    .dataframe tbody tr th {\n",
       "        vertical-align: top;\n",
       "    }\n",
       "\n",
       "    .dataframe thead th {\n",
       "        text-align: right;\n",
       "    }\n",
       "</style>\n",
       "<table border=\"1\" class=\"dataframe\">\n",
       "  <thead>\n",
       "    <tr style=\"text-align: right;\">\n",
       "      <th></th>\n",
       "      <th>삼성전자</th>\n",
       "      <th>SK하이닉스</th>\n",
       "    </tr>\n",
       "    <tr>\n",
       "      <th>Date</th>\n",
       "      <th></th>\n",
       "      <th></th>\n",
       "    </tr>\n",
       "  </thead>\n",
       "  <tbody>\n",
       "    <tr>\n",
       "      <th>2021-01-04</th>\n",
       "      <td>122414.210938</td>\n",
       "      <td>79093.812500</td>\n",
       "    </tr>\n",
       "    <tr>\n",
       "      <th>2021-01-05</th>\n",
       "      <td>126786.156250</td>\n",
       "      <td>79951.460938</td>\n",
       "    </tr>\n",
       "    <tr>\n",
       "      <th>2021-01-06</th>\n",
       "      <td>127271.921875</td>\n",
       "      <td>78331.445312</td>\n",
       "    </tr>\n",
       "    <tr>\n",
       "      <th>2021-01-07</th>\n",
       "      <td>130672.304688</td>\n",
       "      <td>78998.515625</td>\n",
       "    </tr>\n",
       "    <tr>\n",
       "      <th>2021-01-08</th>\n",
       "      <td>134072.718750</td>\n",
       "      <td>84620.843750</td>\n",
       "    </tr>\n",
       "    <tr>\n",
       "      <th>...</th>\n",
       "      <td>...</td>\n",
       "      <td>...</td>\n",
       "    </tr>\n",
       "    <tr>\n",
       "      <th>2022-04-25</th>\n",
       "      <td>106475.500000</td>\n",
       "      <td>64666.238281</td>\n",
       "    </tr>\n",
       "    <tr>\n",
       "      <th>2022-04-26</th>\n",
       "      <td>109433.148438</td>\n",
       "      <td>64471.171875</td>\n",
       "    </tr>\n",
       "    <tr>\n",
       "      <th>2022-04-27</th>\n",
       "      <td>106968.437500</td>\n",
       "      <td>63398.273438</td>\n",
       "    </tr>\n",
       "    <tr>\n",
       "      <th>2022-04-28</th>\n",
       "      <td>107954.328125</td>\n",
       "      <td>63203.203125</td>\n",
       "    </tr>\n",
       "    <tr>\n",
       "      <th>2022-04-29</th>\n",
       "      <td>110911.976562</td>\n",
       "      <td>65739.132812</td>\n",
       "    </tr>\n",
       "  </tbody>\n",
       "</table>\n",
       "<p>327 rows × 2 columns</p>\n",
       "</div>"
      ],
      "text/plain": [
       "                     삼성전자        SK하이닉스\n",
       "Date                                   \n",
       "2021-01-04  122414.210938  79093.812500\n",
       "2021-01-05  126786.156250  79951.460938\n",
       "2021-01-06  127271.921875  78331.445312\n",
       "2021-01-07  130672.304688  78998.515625\n",
       "2021-01-08  134072.718750  84620.843750\n",
       "...                   ...           ...\n",
       "2022-04-25  106475.500000  64666.238281\n",
       "2022-04-26  109433.148438  64471.171875\n",
       "2022-04-27  106968.437500  63398.273438\n",
       "2022-04-28  107954.328125  63203.203125\n",
       "2022-04-29  110911.976562  65739.132812\n",
       "\n",
       "[327 rows x 2 columns]"
      ]
     },
     "execution_count": 35,
     "metadata": {},
     "output_type": "execute_result"
    }
   ],
   "source": [
    "import yfinance as yf\n",
    "\n",
    "# 삼성전자와 SK하이닉스의 종목 코드\n",
    "tickers = [\"005930.KS\", \"000660.KS\"]\n",
    "\n",
    "# 주가 데이터를 불러올 기간\n",
    "start_date = \"2021-01-01\"\n",
    "end_date = \"2022-05-02\"\n",
    "\n",
    "# yfinance를 이용하여 데이터 다운로드\n",
    "df = yf.download(tickers, start=start_date, end=end_date)['Adj Close']\n",
    "df.columns = pd.Index(['삼성전자','SK하이닉스']) \n",
    "\n",
    "# 데이터 확인\n",
    "df"
   ]
  }
 ],
 "metadata": {
  "kernelspec": {
   "display_name": "Python 3",
   "language": "python",
   "name": "python3"
  },
  "language_info": {
   "codemirror_mode": {
    "name": "ipython",
    "version": 3
   },
   "file_extension": ".py",
   "mimetype": "text/x-python",
   "name": "python",
   "nbconvert_exporter": "python",
   "pygments_lexer": "ipython3",
   "version": "3.8.16"
  }
 },
 "nbformat": 4,
 "nbformat_minor": 5
}
