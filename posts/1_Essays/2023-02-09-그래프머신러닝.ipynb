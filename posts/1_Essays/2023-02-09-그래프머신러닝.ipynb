{
 "cells": [
  {
   "cell_type": "raw",
   "id": "1cd90620-d7ee-45b7-bbbf-1386cf007de8",
   "metadata": {},
   "source": [
    "---\n",
    "title: \"그래프 속성\"\n",
    "author: \"신록예찬\"\n",
    "date: \"02/09/2023\"\n",
    "bibliography: ref.bib\n",
    "---"
   ]
  },
  {
   "cell_type": "code",
   "execution_count": 102,
   "id": "9ee46144-0207-43f8-908a-e5375c5b821d",
   "metadata": {},
   "outputs": [],
   "source": [
    "import networkx as nx\n",
    "import matplotlib.pyplot as plt"
   ]
  },
  {
   "cell_type": "code",
   "execution_count": 105,
   "id": "87668399-5d66-4ca2-b984-beb1f4079a41",
   "metadata": {},
   "outputs": [],
   "source": [
    "def draw_graph(G, pos_nodes, node_names={}, node_size=50, plot_weight=False):\n",
    "    nx.draw(G, pos_nodes, with_labels=False, node_size=node_size, edge_color='gray', arrowsize=30)\n",
    "    \n",
    "    pos_attrs = {}\n",
    "    for node, coords in pos_nodes.items():\n",
    "        pos_attrs[node] = (coords[0], coords[1] + 0.08)\n",
    "        \n",
    "    nx.draw_networkx_labels(G, pos_attrs, font_family='serif', font_size=20)\n",
    "    \n",
    "    \n",
    "    if plot_weight:\n",
    "        pos_attrs = {}\n",
    "        for node, coords in pos_nodes.items():\n",
    "            pos_attrs[node] = (coords[0], coords[1] + 0.08)\n",
    "        \n",
    "        nx.draw_networkx_labels(G, pos_attrs, font_family='serif', font_size=20)\n",
    "        edge_labels=dict([((a,b,),d[\"weight\"]) for a,b,d in G.edges(data=True)])\n",
    "        nx.draw_networkx_edge_labels(G, pos_nodes, edge_labels=edge_labels)\n",
    "    \n",
    "    plt.axis('off')\n",
    "    axis = plt.gca()\n",
    "    axis.set_xlim([1.2*x for x in axis.get_xlim()])\n",
    "    axis.set_ylim([1.2*y for y in axis.get_ylim()])"
   ]
  },
  {
   "cell_type": "markdown",
   "id": "072fe4fd-cd61-47e6-acac-a33488b20b98",
   "metadata": {},
   "source": [
    "# Undirected Graph"
   ]
  },
  {
   "cell_type": "code",
   "execution_count": 112,
   "id": "9f5bd0e1-b76a-4648-b2c0-101de7d0029b",
   "metadata": {},
   "outputs": [
    {
     "data": {
      "image/png": "[encoded data removed]",
      "text/plain": [
       "<Figure size 432x288 with 1 Axes>"
      ]
     },
     "metadata": {},
     "output_type": "display_data"
    }
   ],
   "source": [
    "G = nx.Graph()\n",
    "V = {'Dublin', 'Paris', 'Milan', 'Rome'}\n",
    "E = [('Milan','Dublin'), ('Milan','Paris'), ('Paris','Dublin'), ('Milan','Rome')]\n",
    "G.add_nodes_from(V)\n",
    "G.add_edges_from(E)\n",
    "draw_graph(G, pos_nodes=nx.shell_layout(G), node_size=500)"
   ]
  },
  {
   "cell_type": "code",
   "execution_count": 113,
   "id": "f03ec0bb-2122-4c84-9817-5421f8bba33d",
   "metadata": {},
   "outputs": [
    {
     "name": "stdout",
     "output_type": "stream",
     "text": [
      "V = ['Dublin', 'Paris', 'Milan', 'Rome']\n",
      "E = [('Dublin', 'Milan'), ('Dublin', 'Paris'), ('Paris', 'Milan'), ('Milan', 'Rome')]\n"
     ]
    }
   ],
   "source": [
    "print(f\"V = {G.nodes}\")\n",
    "print(f\"E = {G.edges}\")"
   ]
  },
  {
   "cell_type": "code",
   "execution_count": 114,
   "id": "bb7e86b5-5872-44af-9531-63673dc30297",
   "metadata": {},
   "outputs": [
    {
     "data": {
      "text/plain": [
       "{2: 'Paris', 3: 'Milan', 1: 'Rome'}"
      ]
     },
     "execution_count": 114,
     "metadata": {},
     "output_type": "execute_result"
    }
   ],
   "source": [
    "{G.degree(v): v for v in G.nodes}"
   ]
  },
  {
   "cell_type": "code",
   "execution_count": 115,
   "id": "ccd953b8-cdf1-436f-a811-15ffe0e62d49",
   "metadata": {},
   "outputs": [
    {
     "name": "stdout",
     "output_type": "stream",
     "text": [
      "Graph Order: 4\n",
      "Graph Size: 4\n",
      "Degree for nodes: {'Dublin': 2, 'Paris': 2, 'Milan': 3, 'Rome': 1}\n",
      "Neighbors for nodes: {'Dublin': ['Milan', 'Paris'], 'Paris': ['Milan', 'Dublin'], 'Milan': ['Dublin', 'Paris', 'Rome'], 'Rome': ['Milan']}\n"
     ]
    }
   ],
   "source": [
    "print(f\"Graph Order: {G.number_of_nodes()}\")\n",
    "print(f\"Graph Size: {G.number_of_edges()}\")\n",
    "print(f\"Degree for nodes: { {v: G.degree(v) for v in G.nodes} }\")\n",
    "print(f\"Neighbors for nodes: { {v: list(G.neighbors(v)) for v in G.nodes} }\")"
   ]
  },
  {
   "cell_type": "code",
   "execution_count": 116,
   "id": "42a18d45-a8a8-4ca6-9b22-44bc19d7e043",
   "metadata": {},
   "outputs": [
    {
     "name": "stdout",
     "output_type": "stream",
     "text": [
      "Nodes: ['Dublin', 'Paris', 'Milan', 'Rome']\n",
      "Edges: [('Dublin', 'Milan'), ('Dublin', 'Paris'), ('Paris', 'Milan'), ('Milan', 'Rome')]\n"
     ]
    }
   ],
   "source": [
    "ego_graph_milan = nx.ego_graph(G, \"Milan\")\n",
    "print(f\"Nodes: {ego_graph_milan.nodes}\")\n",
    "print(f\"Edges: {ego_graph_milan.edges}\")"
   ]
  },
  {
   "cell_type": "code",
   "execution_count": 117,
   "id": "b2875f9c-b744-41d2-aab4-576887c42055",
   "metadata": {},
   "outputs": [
    {
     "name": "stdout",
     "output_type": "stream",
     "text": [
      "V = ['Dublin', 'Paris', 'Milan', 'Rome', 'London', 'Madrid']\n",
      "E = [('Dublin', 'Milan'), ('Dublin', 'Paris'), ('Paris', 'Milan'), ('Paris', 'Madrid'), ('Milan', 'Rome'), ('Rome', 'London')]\n"
     ]
    }
   ],
   "source": [
    "new_nodes = {'London', 'Madrid'}\n",
    "new_edges = [('London','Rome'), ('Madrid','Paris')]\n",
    "G.add_nodes_from(new_nodes)\n",
    "G.add_edges_from(new_edges)\n",
    "print(f\"V = {G.nodes}\")\n",
    "print(f\"E = {G.edges}\")"
   ]
  },
  {
   "cell_type": "markdown",
   "id": "f0c9233d-0d8f-46d2-97c2-b9989870e46e",
   "metadata": {},
   "source": [
    "# Directed Graph"
   ]
  },
  {
   "cell_type": "code",
   "execution_count": null,
   "id": "a78d051a-9929-4044-a8aa-020f7b62edb3",
   "metadata": {},
   "outputs": [],
   "source": []
  },
  {
   "cell_type": "code",
   "execution_count": null,
   "id": "0c3f0f52-e8f9-4eb4-87d0-476d68291211",
   "metadata": {},
   "outputs": [],
   "source": []
  },
  {
   "cell_type": "code",
   "execution_count": 109,
   "id": "8456ef16-6f18-4fa0-8184-4af3e445dea5",
   "metadata": {},
   "outputs": [
    {
     "name": "stdout",
     "output_type": "stream",
     "text": [
      "  source  target\n",
      "0  Paris   Milan\n",
      "1  Paris  Dublin\n",
      "2  Milan  Dublin\n",
      "3  Milan    Rome\n",
      "        Dublin  Paris  Milan  Rome\n",
      "Dublin     0.0    0.0    0.0   0.0\n",
      "Paris      1.0    0.0    1.0   0.0\n",
      "Milan      1.0    0.0    0.0   1.0\n",
      "Rome       0.0    0.0    0.0   0.0\n"
     ]
    }
   ],
   "source": [
    "G = nx.DiGraph()\n",
    "V = {'Dublin', 'Paris', 'Milan', 'Rome'}\n",
    "E = [('Milan','Dublin'), ('Paris','Milan'), ('Paris','Dublin'), ('Milan','Rome')]\n",
    "G.add_nodes_from(V)\n",
    "G.add_edges_from(E)\n",
    "print(nx.to_pandas_edgelist(G))\n",
    "print(nx.to_pandas_adjacency(G))"
   ]
  },
  {
   "cell_type": "code",
   "execution_count": 110,
   "id": "dc8a6947-76b7-4163-8356-0677793558af",
   "metadata": {},
   "outputs": [
    {
     "data": {
      "image/png": "[encoded data removed]",
      "text/plain": [
       "<Figure size 432x288 with 1 Axes>"
      ]
     },
     "metadata": {},
     "output_type": "display_data"
    }
   ],
   "source": [
    "draw_graph(G, pos_nodes=nx.shell_layout(G), node_size=500)"
   ]
  },
  {
   "cell_type": "markdown",
   "id": "c520a27d-c9e2-45a7-be42-933a2357c1d9",
   "metadata": {},
   "source": [
    "# Weighted Directed Graph"
   ]
  },
  {
   "cell_type": "code",
   "execution_count": 108,
   "id": "a897d5ba-8297-440a-b097-eeb0ffb5a48b",
   "metadata": {},
   "outputs": [
    {
     "name": "stdout",
     "output_type": "stream",
     "text": [
      "  source  target  weight\n",
      "0  Paris  Dublin      11\n",
      "1  Paris   Milan       8\n",
      "2  Milan    Rome       5\n",
      "3  Milan  Dublin      19\n",
      "        Dublin  Paris  Milan  Rome\n",
      "Dublin     0.0    0.0    0.0   0.0\n",
      "Paris     11.0    0.0    8.0   0.0\n",
      "Milan     19.0    0.0    0.0   5.0\n",
      "Rome       0.0    0.0    0.0   0.0\n"
     ]
    },
    {
     "data": {
      "image/png": "[encoded data removed]",
      "text/plain": [
       "<Figure size 432x288 with 1 Axes>"
      ]
     },
     "metadata": {},
     "output_type": "display_data"
    }
   ],
   "source": [
    "G = nx.MultiDiGraph()\n",
    "V = {'Paris', 'Dublin','Milan', 'Rome'}\n",
    "E = [ ('Paris','Dublin', 11), ('Paris','Milan', 8),\n",
    "     ('Milan','Rome', 5),('Milan','Dublin', 19)]\n",
    "G.add_nodes_from(V)\n",
    "G.add_weighted_edges_from(E)\n",
    "draw_graph(G, pos_nodes=nx.shell_layout(G), node_size=500, plot_weight=True)\n",
    "print(nx.to_pandas_edgelist(G))\n",
    "print(nx.to_pandas_adjacency(G))"
   ]
  },
  {
   "cell_type": "markdown",
   "id": "723a57b5-e616-4dce-8202-55a6afe3e5e8",
   "metadata": {},
   "source": [
    "# 대역적 지표 "
   ]
  },
  {
   "cell_type": "markdown",
   "id": "adcaf83d-3ec0-4cea-b20d-814542aba9a9",
   "metadata": {},
   "source": [
    "`-` 전체 네트워크의 측정값을 표현함"
   ]
  },
  {
   "cell_type": "markdown",
   "id": "aa2ff967-fd4b-429a-a982-db7cd219542f",
   "metadata": {},
   "source": [
    "## 통합측정지표 "
   ]
  },
  {
   "cell_type": "markdown",
   "id": "54b0d916-955a-4c75-8161-b1edeb3f885b",
   "metadata": {},
   "source": [
    "`-` 노드가 서로 상호 연결되는 경향을 측정"
   ]
  },
  {
   "cell_type": "markdown",
   "id": "d79ccc7a-68f2-4bdb-a83a-9713b5dad7b1",
   "metadata": {},
   "source": [
    "### 최단경로, 최단경로길이"
   ]
  },
  {
   "cell_type": "markdown",
   "id": "9ee5fd14-bec7-4d64-a042-85c2bda791aa",
   "metadata": {},
   "source": [
    "`-` setup"
   ]
  },
  {
   "cell_type": "code",
   "execution_count": 58,
   "id": "25b8bada-5822-41fc-b586-b7f99b407dad",
   "metadata": {
    "tags": []
   },
   "outputs": [],
   "source": [
    "G = nx.Graph()\n",
    "V = {1:'Dublin',2:'Paris',3:'Milan',4:'Rome',5:'Naples',6:'Moscow',7:'Seoul'}\n",
    "G.add_nodes_from(V.keys())\n",
    "G.add_edges_from([(1,2),(1,3),(2,3),(3,4),(4,5),(5,6),(6,7),(7,5)])"
   ]
  },
  {
   "cell_type": "code",
   "execution_count": 23,
   "id": "a4ae964a-0d9a-400f-b7ec-d70bd4d241e3",
   "metadata": {},
   "outputs": [
    {
     "data": {
      "text/plain": [
       "NodeView((1, 2, 3, 4, 5, 6, 7))"
      ]
     },
     "execution_count": 23,
     "metadata": {},
     "output_type": "execute_result"
    }
   ],
   "source": [
    "G.nodes"
   ]
  },
  {
   "cell_type": "code",
   "execution_count": 24,
   "id": "905e91a5-903d-48e7-a5d5-ad6ad0dd1983",
   "metadata": {},
   "outputs": [
    {
     "data": {
      "text/plain": [
       "EdgeView([(1, 2), (1, 3), (2, 3), (3, 4), (4, 5), (5, 6), (5, 7), (6, 7)])"
      ]
     },
     "execution_count": 24,
     "metadata": {},
     "output_type": "execute_result"
    }
   ],
   "source": [
    "G.edges"
   ]
  },
  {
   "cell_type": "code",
   "execution_count": 57,
   "id": "6797066b-0ec0-4a46-9071-022ea0baf220",
   "metadata": {},
   "outputs": [
    {
     "name": "stdout",
     "output_type": "stream",
     "text": [
      "{1: 'Dublin', 2: 'Paris', 3: 'Milan', 4: 'Rome', 5: 'Naples', 6: 'Moscow', 7: 'Seoul'}\n"
     ]
    },
    {
     "data": {
      "image/png": "[encoded data removed]",
      "text/plain": [
       "<Figure size 432x288 with 1 Axes>"
      ]
     },
     "metadata": {},
     "output_type": "display_data"
    }
   ],
   "source": [
    "#| label: fig-1\n",
    "#| fig-cap: \"도시간의 연결을 나타내는 무향그래프\"\n",
    "nx.draw_networkx(G)\n",
    "print(V)"
   ]
  },
  {
   "cell_type": "markdown",
   "id": "8cb2e1c0-04c5-40e5-99ca-a5bd3b95cde0",
   "metadata": {},
   "source": [
    "`-` shortest path"
   ]
  },
  {
   "cell_type": "code",
   "execution_count": 50,
   "id": "590f7e6d-efd1-4d8e-8957-67c0c46fe358",
   "metadata": {},
   "outputs": [
    {
     "data": {
      "text/plain": [
       "[1, 3, 4, 5, 7]"
      ]
     },
     "execution_count": 50,
     "metadata": {},
     "output_type": "execute_result"
    }
   ],
   "source": [
    "path = nx.shortest_path(G,source=1,target=7)\n",
    "path"
   ]
  },
  {
   "cell_type": "code",
   "execution_count": 51,
   "id": "98497192-0423-4066-8f0e-2895070ae65e",
   "metadata": {},
   "outputs": [
    {
     "data": {
      "text/plain": [
       "[1, 3, 4]"
      ]
     },
     "execution_count": 51,
     "metadata": {},
     "output_type": "execute_result"
    }
   ],
   "source": [
    "path = nx.shortest_path(G,source=1,target=4)\n",
    "path"
   ]
  },
  {
   "cell_type": "code",
   "execution_count": 52,
   "id": "5b8cd649-da25-4eaa-b69d-825679bd30ce",
   "metadata": {},
   "outputs": [
    {
     "data": {
      "text/plain": [
       "[4, 5, 6]"
      ]
     },
     "execution_count": 52,
     "metadata": {},
     "output_type": "execute_result"
    }
   ],
   "source": [
    "path = nx.shortest_path(G,source=4,target=6)\n",
    "path"
   ]
  },
  {
   "cell_type": "markdown",
   "id": "06fc7939-1420-4711-83b4-8ea473c67d06",
   "metadata": {},
   "source": [
    "`-` shortest path lenghth"
   ]
  },
  {
   "cell_type": "markdown",
   "id": "6ca9fa5c-138f-4ccc-b4b5-0067028d1a1e",
   "metadata": {},
   "source": [
    "최단경로길이는 아래와 같이 구할수 있음"
   ]
  },
  {
   "cell_type": "code",
   "execution_count": 53,
   "id": "8cdf0a6f-f51e-478a-a9e3-e751fa1f9cef",
   "metadata": {},
   "outputs": [
    {
     "data": {
      "text/plain": [
       "5"
      ]
     },
     "execution_count": 53,
     "metadata": {},
     "output_type": "execute_result"
    }
   ],
   "source": [
    "path = nx.shortest_path(G,source=1,target=7)\n",
    "len(path)"
   ]
  },
  {
   "cell_type": "markdown",
   "id": "1d1fe2fd-2839-4124-85ec-255398ef47db",
   "metadata": {},
   "source": [
    "### 특성경로길이 (= 평균최단경로길이)"
   ]
  },
  {
   "cell_type": "markdown",
   "id": "76188fc7-85cc-4441-84fa-beb321eefbab",
   "metadata": {},
   "source": [
    "`-` characteristic path length = average of shortest path lenght"
   ]
  },
  {
   "cell_type": "markdown",
   "id": "0b16b33d-b9a1-486c-bc2f-6c58e452e49c",
   "metadata": {},
   "source": [
    "가능한 모든 노드 쌍 사이의 모든 최단경로 길이의 평균으로 정의한다. "
   ]
  },
  {
   "cell_type": "markdown",
   "id": "1229bd0b-46f0-4355-ab71-d2e6b4c5518c",
   "metadata": {},
   "source": [
    "$$\\text{characteristic path length}=\\frac{1}{|V|(|V|-1)}\\sum_{i \\in V} l_i$$"
   ]
  },
  {
   "cell_type": "markdown",
   "id": "d05ef1ba-10c8-4ff5-a63f-16fba76fe9ad",
   "metadata": {},
   "source": [
    "여기에서 $l_i$는 노드 $i$와 다른 모든 노드사이의 평균경로 길이로 정의한다. 특성경로길이가 더 짧은 네트워크는 정보를 더 빠르게 전송할 수 있다고 해석할 수 있다. "
   ]
  },
  {
   "cell_type": "code",
   "execution_count": 90,
   "id": "7faad167-aa36-40a3-ad8a-b62a607fbe89",
   "metadata": {},
   "outputs": [],
   "source": [
    "G1 = nx.Graph()\n",
    "G2 = nx.Graph()\n",
    "V = {1,2,3,4}\n",
    "E1 = [(1,2),(2,3),(3,4),(4,1)]\n",
    "E2 = [(1,2),(1,3),(1,4),(2,3),(2,4),(3,4)]\n",
    "G1.add_nodes_from(V)\n",
    "G2.add_nodes_from(V)\n",
    "G1.add_edges_from(E1)\n",
    "G2.add_edges_from(E2)"
   ]
  },
  {
   "cell_type": "code",
   "execution_count": 91,
   "id": "c7c45183-7eb8-4b61-99c0-2822717ff9d9",
   "metadata": {},
   "outputs": [
    {
     "data": {
      "image/png": "[encoded data removed]",
      "text/plain": [
       "<Figure size 432x288 with 1 Axes>"
      ]
     },
     "metadata": {},
     "output_type": "display_data"
    }
   ],
   "source": [
    "#| label: fig-2\n",
    "#| fig-cap: \"(G1) 링형태의 그래프\"\n",
    "nx.draw_networkx(G1)"
   ]
  },
  {
   "cell_type": "code",
   "execution_count": 92,
   "id": "062da5c0-8d03-43b3-994b-d1469703a1a4",
   "metadata": {},
   "outputs": [
    {
     "data": {
      "image/png": "[encoded data removed]",
      "text/plain": [
       "<Figure size 432x288 with 1 Axes>"
      ]
     },
     "metadata": {},
     "output_type": "display_data"
    }
   ],
   "source": [
    "#| label: fig-3\n",
    "#| fig-cap: \"(G2) 완전연결된 그래프\"\n",
    "nx.draw_networkx(G2)"
   ]
  },
  {
   "cell_type": "markdown",
   "id": "25a23a2a-1533-4ca7-89b0-4fb657948f10",
   "metadata": {},
   "source": [
    "`-` 두 그래프 ${\\cal G}_1$^[@fig-2]와 ${\\cal G}_2$^[@fig-3]의 특성경로길이를 각각 계산하면 아래와 같다. "
   ]
  },
  {
   "cell_type": "code",
   "execution_count": 93,
   "id": "aa7a3c0f-6cd3-4fd2-87ae-99cd0360ade8",
   "metadata": {},
   "outputs": [
    {
     "data": {
      "text/plain": [
       "1.3333333333333333"
      ]
     },
     "execution_count": 93,
     "metadata": {},
     "output_type": "execute_result"
    }
   ],
   "source": [
    "nx.average_shortest_path_length(G1)"
   ]
  },
  {
   "cell_type": "code",
   "execution_count": 94,
   "id": "c590170d-879e-4bc3-8302-31c2f4c35214",
   "metadata": {},
   "outputs": [
    {
     "data": {
      "text/plain": [
       "1.0"
      ]
     },
     "execution_count": 94,
     "metadata": {},
     "output_type": "execute_result"
    }
   ],
   "source": [
    "nx.average_shortest_path_length(G2)"
   ]
  },
  {
   "cell_type": "markdown",
   "id": "6ed11154-d7e6-47d5-901c-a32b04e0c79c",
   "metadata": {},
   "source": [
    "### 대역효율성 "
   ]
  },
  {
   "cell_type": "markdown",
   "id": "f8bf7f77-52b3-476e-acb9-5c6b40cbab51",
   "metadata": {},
   "source": [
    "모든 노드 쌍에 대한 역최단경로 (inverse shortest path) 길의의 평균을 의미이다. \n",
    "@fig-2, @fig-3 의 그래프에서 이 값을 계산하면 아래와 같다. "
   ]
  },
  {
   "cell_type": "code",
   "execution_count": 100,
   "id": "dfa72418-f77a-4cd6-bcfb-da8dd53cfeef",
   "metadata": {},
   "outputs": [
    {
     "name": "stdout",
     "output_type": "stream",
     "text": [
      "대역효율성: 0.8333333333333334\n"
     ]
    },
    {
     "data": {
      "image/png": "[encoded data removed]",
      "text/plain": [
       "<Figure size 432x288 with 1 Axes>"
      ]
     },
     "metadata": {},
     "output_type": "display_data"
    }
   ],
   "source": [
    "#| label: fig-4\n",
    "#| fig-cap: \"(G1) 링형태의 그래프 + 대역효율성\"\n",
    "nx.draw_networkx(G1)\n",
    "print(\"대역효율성:\", nx.global_efficiency(G1))"
   ]
  },
  {
   "cell_type": "code",
   "execution_count": 98,
   "id": "c61a5b8e-e880-4482-8c9a-f433c8aa2207",
   "metadata": {},
   "outputs": [
    {
     "name": "stdout",
     "output_type": "stream",
     "text": [
      "대역효율성: 1.0\n"
     ]
    },
    {
     "data": {
      "image/png": "[encoded data removed]",
      "text/plain": [
       "<Figure size 432x288 with 1 Axes>"
      ]
     },
     "metadata": {},
     "output_type": "display_data"
    }
   ],
   "source": [
    "#| label: fig-5\n",
    "#| fig-cap: \"(G2) 완저연결된 그래프 + 대역효율성\"\n",
    "nx.draw_networkx(G2)\n",
    "print(\"대역효율성:\",nx.global_efficiency(G2))"
   ]
  },
  {
   "cell_type": "markdown",
   "id": "3986818f-3f43-4d68-9b04-8dbe78072d8c",
   "metadata": {},
   "source": [
    "## 분리측정지표"
   ]
  },
  {
   "cell_type": "markdown",
   "id": "27787429-25af-4158-91e7-a61296b31f9d",
   "metadata": {},
   "source": [
    "`-` 네트워크 내에서 커뮤니티 또는 모듈로 알려진 상호 연결된 노드 그룹의 존재를 정량화"
   ]
  },
  {
   "cell_type": "markdown",
   "id": "dacbadd8-7952-4002-9735-7bc25c2a2f38",
   "metadata": {},
   "source": [
    "## 중심성측정지표"
   ]
  },
  {
   "cell_type": "markdown",
   "id": "7b29678b-e2ea-43a9-8b7d-44a441c407b4",
   "metadata": {},
   "source": [
    "`-` 네트워크 내부의 개별 노드의 중요성을 평가 "
   ]
  },
  {
   "cell_type": "markdown",
   "id": "841151df-04ea-48bb-a7dd-1dffd3bbe544",
   "metadata": {},
   "source": [
    "## 탄력성측정지표"
   ]
  },
  {
   "cell_type": "markdown",
   "id": "14b2b9da-5749-4f39-a3d4-6de2a922402f",
   "metadata": {},
   "source": [
    "`-` 네트워크가 장애 또는 기타 불리한 조건에 직면했을 때 운영 성능을 얼마나 유지하고 조정할 수 있는지 평가"
   ]
  },
  {
   "cell_type": "markdown",
   "id": "5604b3e8-e7a2-43fb-9c47-d92322e2c565",
   "metadata": {},
   "source": [
    "# 국소측정지표  (local metric)"
   ]
  },
  {
   "cell_type": "markdown",
   "id": "2990cedd-5806-4a8e-8403-5274976cb9d7",
   "metadata": {},
   "source": [
    "`-` 개별네트워크 요소 (노드 또는 간선)의 값을 측정한다. "
   ]
  }
 ],
 "metadata": {
  "kernelspec": {
   "display_name": "Python 3",
   "language": "python",
   "name": "python3"
  },
  "language_info": {
   "codemirror_mode": {
    "name": "ipython",
    "version": 3
   },
   "file_extension": ".py",
   "mimetype": "text/x-python",
   "name": "python",
   "nbconvert_exporter": "python",
   "pygments_lexer": "ipython3",
   "version": "3.8.16"
  }
 },
 "nbformat": 4,
 "nbformat_minor": 5
}
