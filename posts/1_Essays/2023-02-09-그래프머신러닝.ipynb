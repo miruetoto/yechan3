{
 "cells": [
  {
   "cell_type": "raw",
   "id": "1cd90620-d7ee-45b7-bbbf-1386cf007de8",
   "metadata": {},
   "source": [
    "---\n",
    "title: \"그래프 머신러닝\"\n",
    "author: \"신록예찬\"\n",
    "date: \"01/20/2023\"\n",
    "bibliography: ref.bib\n",
    "---"
   ]
  },
  {
   "cell_type": "code",
   "execution_count": null,
   "id": "e3380313-d112-4cc0-8bdb-86fbaf69b66a",
   "metadata": {},
   "outputs": [],
   "source": []
  }
 ],
 "metadata": {
  "kernelspec": {
   "display_name": "Python 3",
   "language": "python",
   "name": "python3"
  },
  "language_info": {
   "codemirror_mode": {
    "name": "ipython",
    "version": 3
   },
   "file_extension": ".py",
   "mimetype": "text/x-python",
   "name": "python",
   "nbconvert_exporter": "python",
   "pygments_lexer": "ipython3",
   "version": "3.8.16"
  }
 },
 "nbformat": 4,
 "nbformat_minor": 5
}
