{
 "cells": [
  {
   "cell_type": "raw",
   "id": "aee43839-cc3b-4c3c-8159-f42aa1e6e2bc",
   "metadata": {},
   "source": [
    "---\n",
    "title: \"(메모) 학과서버 사용안내 (short)\"\n",
    "author: \"최규빈\"\n",
    "date: \"07/11/2024\"\n",
    "---"
   ]
  },
  {
   "cell_type": "markdown",
   "id": "9efbd857-f56d-40d5-a506-f6ea291f0116",
   "metadata": {},
   "source": [
    "# 1. 접속하는 방법 "
   ]
  },
  {
   "cell_type": "markdown",
   "id": "daa0c489-2c2d-411f-9225-fcf5f942b8dc",
   "metadata": {},
   "source": [
    "```bash \n",
    "ssh root@210.117.173.186 -p 15820 # 이정민 \n",
    "ssh root@210.117.173.186 -p 15813 # 이상민 \n",
    "ssh root@210.117.173.186 -p 21197 # 강정혁 \n",
    "```"
   ]
  },
  {
   "cell_type": "markdown",
   "id": "c19a1aac-f357-4601-84de-b395e46dcfc2",
   "metadata": {},
   "source": [
    "pw: s15820, s15813, s21197"
   ]
  },
  {
   "cell_type": "markdown",
   "id": "b1c01870-8c88-47a0-a067-b2fd63287d5e",
   "metadata": {},
   "source": [
    "# 2. passwd 변경 "
   ]
  },
  {
   "cell_type": "code",
   "execution_count": null,
   "id": "f9b822c5-83fb-44f2-87b4-984241b27154",
   "metadata": {},
   "outputs": [],
   "source": []
  }
 ],
 "metadata": {
  "kernelspec": {
   "display_name": "Python 3 (ipykernel)",
   "language": "python",
   "name": "python3"
  },
  "language_info": {
   "codemirror_mode": {
    "name": "ipython",
    "version": 3
   },
   "file_extension": ".py",
   "mimetype": "text/x-python",
   "name": "python",
   "nbconvert_exporter": "python",
   "pygments_lexer": "ipython3",
   "version": "3.10.13"
  }
 },
 "nbformat": 4,
 "nbformat_minor": 5
}
