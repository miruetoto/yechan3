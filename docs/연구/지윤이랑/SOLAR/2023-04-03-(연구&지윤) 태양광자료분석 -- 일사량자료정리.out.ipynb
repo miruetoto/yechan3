{
  "cells": [
    {
      "cell_type": "markdown",
      "metadata": {},
      "source": [
        "# (연구&지윤) 태양광자료분석 – 일사량자료정리\n",
        "\n",
        "임지윤, 신록예찬  \n",
        "2023-04-03"
      ],
      "id": "8bf4deed-a6ff-43c7-b17a-a79ab1b327b7"
    },
    {
      "cell_type": "code",
      "execution_count": 2,
      "metadata": {},
      "outputs": [],
      "source": [
        "import pandas as pd\n",
        "import numpy as np\n",
        "import itertools"
      ],
      "id": "5e9092a0-e7b7-4923-909b-6f5915cb2589"
    },
    {
      "cell_type": "code",
      "execution_count": 4,
      "metadata": {},
      "outputs": [],
      "source": [
        "df0 = pd.read_csv('https://raw.githubusercontent.com/pinkocto/noteda/main/posts/data/OBS_ASOS_TIM_data0.csv', encoding='cp949') # 2021-01-01 ~ 2021-12-31\n",
        "df1 = pd.read_csv('https://raw.githubusercontent.com/pinkocto/noteda/main/posts/data/OBS_ASOS_TIM_data1.csv') # 2022-01-01 ~ 2023-12-31\n",
        "df2 = pd.read_csv('https://raw.githubusercontent.com/pinkocto/noteda/main/posts/data/test_raw.csv', encoding='cp949') # 2023-01-01 ~ 2023-01-15"
      ],
      "id": "90acae10-e33f-4c0b-9726-580014f8de9a"
    },
    {
      "cell_type": "markdown",
      "metadata": {},
      "source": [
        "`-` df_raw"
      ],
      "id": "a81c9678-e96e-472c-8090-bfcadc3253e8"
    },
    {
      "cell_type": "code",
      "execution_count": 5,
      "metadata": {},
      "outputs": [
        {
          "output_type": "display_data",
          "metadata": {},
          "data": {
            "text/html": [
              "\n",
              "<p>444720 rows × 4 columns</p>\n",
              "</div>"
            ]
          }
        }
      ],
      "source": [
        "df_raw = pd.concat([df0, df1])\n",
        "df_raw"
      ],
      "id": "58e2cb1f-ffd8-4e7b-967b-de2871c8d457"
    },
    {
      "cell_type": "markdown",
      "metadata": {},
      "source": [
        "`-` 지점칼럼 삭제 // 일시 $\\to$ 날짜,시간 으로 분리"
      ],
      "id": "8268c6aa-a270-4a16-8102-bdeedb014c04"
    },
    {
      "cell_type": "code",
      "execution_count": 6,
      "metadata": {},
      "outputs": [
        {
          "output_type": "display_data",
          "metadata": {},
          "data": {
            "text/html": [
              "\n",
              "<p>444720 rows × 4 columns</p>\n",
              "</div>"
            ]
          }
        }
      ],
      "source": [
        "df_temp = df_raw.assign(날짜= list(map(lambda x: x[:10],df_raw['일시'])))\\\n",
        ".assign(시간= list(map(lambda x: x[11:16],df_raw['일시'])))\\\n",
        ".drop(['일시','지점'],axis=1).rename({'일사(MJ/m2)':'일사'},axis=1).reset_index(drop=True)\n",
        "df_temp"
      ],
      "id": "952490ec-4b38-45e7-a45f-d3b521494861"
    },
    {
      "cell_type": "markdown",
      "metadata": {},
      "source": [
        "`-` 파주,상주,동두천,충주,제천은 삭제"
      ],
      "id": "9be6cb6a-185c-4f2d-a0b3-4715a67116a5"
    },
    {
      "cell_type": "code",
      "execution_count": 7,
      "metadata": {},
      "outputs": [
        {
          "output_type": "display_data",
          "metadata": {},
          "data": {
            "text/html": [
              "\n",
              "<p>420960 rows × 4 columns</p>\n",
              "</div>"
            ]
          }
        }
      ],
      "source": [
        "df_temp = df_temp.query(\"지점명 not in ['파주','상주','동두천','충주','제천']\").reset_index(drop=True)\n",
        "df_temp"
      ],
      "id": "122f5a76-731d-4de7-80a8-5b61c95e870f"
    },
    {
      "cell_type": "markdown",
      "metadata": {},
      "source": [
        "`-` 시간이 비어있지 않도록.."
      ],
      "id": "44702228-cec8-412a-998a-8d7e1ca94f70"
    },
    {
      "cell_type": "code",
      "execution_count": 8,
      "metadata": {},
      "outputs": [],
      "source": [
        "reg = df_temp['지점명'].unique().tolist() \n",
        "day = df_temp['날짜'].unique().tolist() \n",
        "time = list(df_temp['시간'].unique())\n",
        "time = ['0{}:00'.format(i) for i in range(0,8)] + time"
      ],
      "id": "251c7660-9a94-4a58-ba9c-3c933b5d7c83"
    },
    {
      "cell_type": "code",
      "execution_count": 9,
      "metadata": {},
      "outputs": [
        {
          "output_type": "display_data",
          "metadata": {},
          "data": {
            "text/html": [
              "\n",
              "<p>803000 rows × 4 columns</p>\n",
              "</div>"
            ]
          }
        }
      ],
      "source": [
        "df_temp2 = pd.DataFrame(itertools.product(reg,day,time)).rename({0:'지점명',1:'날짜',2:'시간'},axis=1).merge(df_temp,how='left').fillna(0)\n",
        "df_temp2"
      ],
      "id": "105ff468-b6d2-4e5a-9a78-3114d0b53226"
    },
    {
      "cell_type": "code",
      "execution_count": 10,
      "metadata": {},
      "outputs": [
        {
          "output_type": "display_data",
          "metadata": {},
          "data": {
            "text/html": [
              "\n",
              "</div>"
            ]
          }
        }
      ],
      "source": [
        "df_temp2[:20]"
      ],
      "id": "6e8e4f54-5fff-4491-88f3-5317ad713f36"
    },
    {
      "cell_type": "code",
      "execution_count": 11,
      "metadata": {},
      "outputs": [
        {
          "output_type": "display_data",
          "metadata": {},
          "data": {
            "text/html": [
              "\n",
              "</div>"
            ]
          }
        }
      ],
      "source": [
        "df_temp2[-20:]"
      ],
      "id": "fa3efa2e-b69c-45ee-a765-255c6a907e93"
    },
    {
      "cell_type": "code",
      "execution_count": 12,
      "metadata": {},
      "outputs": [
        {
          "output_type": "display_data",
          "metadata": {},
          "data": {
            "text/html": [
              "\n",
              "<p>803000 rows × 4 columns</p>\n",
              "</div>"
            ]
          }
        }
      ],
      "source": [
        "df_temp2"
      ],
      "id": "ade5bd6e-6b74-49ba-a751-2cf64555f579"
    },
    {
      "cell_type": "markdown",
      "metadata": {},
      "source": [
        "`-` 시간,날짜 $\\to$ 일시"
      ],
      "id": "09ec5ba2-b750-4dbd-95d6-6ce892d3ceb1"
    },
    {
      "cell_type": "code",
      "execution_count": 13,
      "metadata": {},
      "outputs": [
        {
          "output_type": "display_data",
          "metadata": {},
          "data": {
            "text/html": [
              "\n",
              "<p>803000 rows × 3 columns</p>\n",
              "</div>"
            ]
          }
        }
      ],
      "source": [
        "df_temp3=df_temp2.assign(일시 = list(map(lambda x,y: x+'-'+y,df_temp2['날짜'],df_temp2['시간'])))\\\n",
        ".drop(['날짜','시간'],axis=1)\n",
        "df_temp3"
      ],
      "id": "16da834a-4ce5-4d28-99e1-1492ec2d12d9"
    },
    {
      "cell_type": "markdown",
      "metadata": {},
      "source": [
        "`-` 저장"
      ],
      "id": "b6493e8a-4cec-4aa3-afc8-bffd616c1fb3"
    },
    {
      "cell_type": "code",
      "execution_count": 14,
      "metadata": {},
      "outputs": [
        {
          "output_type": "display_data",
          "metadata": {},
          "data": {
            "text/html": [
              "\n",
              "<p>803000 rows × 3 columns</p>\n",
              "</div>"
            ]
          }
        }
      ],
      "source": [
        "df_temp3.rename({'지점명':'region','일사':'solar_radiation','일시':'date'},axis=1)"
      ],
      "id": "71d2d6ad-aee4-41e4-9606-fdb6e541b67e"
    },
    {
      "cell_type": "code",
      "execution_count": 15,
      "metadata": {},
      "outputs": [
        {
          "output_type": "stream",
          "name": "stdout",
          "text": [
            "[main 299d058] .\n",
            " 3 files changed, 806273 insertions(+)\n",
            " create mode 100644 \"posts/3_Researches/SOLAR/.ipynb_checkpoints/2023-04-03-\\354\\235\\274\\354\\202\\254\\353\\237\\211-checkpoint.ipynb\"\n",
            " create mode 100644 \"posts/3_Researches/SOLAR/2023-04-03-\\354\\235\\274\\354\\202\\254\\353\\237\\211.ipynb\"\n",
            " create mode 100644 posts/3_Researches/SOLAR/solar_radiation.csv\n",
            "Enumerating objects: 10, done.\n",
            "Counting objects: 100% (10/10), done.\n",
            "Delta compression using up to 16 threads\n",
            "Compressing objects: 100% (7/7), done.\n",
            "Writing objects: 100% (7/7), 8.74 KiB | 8.74 MiB/s, done.\n",
            "Total 7 (delta 2), reused 0 (delta 0)\n",
            "remote: Resolving deltas: 100% (2/2), completed with 2 local objects.\n",
            "To https://github.com/miruetoto/yechan3.git\n",
            "   495d9ce..299d058  main -> main"
          ]
        }
      ],
      "source": [
        "df = df_temp3.rename({'지점명':'region','일사':'solar_radiation','일시':'date'},axis=1)\n",
        "df.to_csv(\"solar_radiation.csv\",index=False)\n",
        "!git add .\n",
        "!git commit -m .\n",
        "!git push "
      ],
      "id": "a30d9ae9-e522-4900-8040-c329a3698aac"
    },
    {
      "cell_type": "markdown",
      "metadata": {},
      "source": [
        "`-` 불러오기"
      ],
      "id": "ba3f9788-47dc-4936-944f-74a52f0bfec3"
    },
    {
      "cell_type": "code",
      "execution_count": 17,
      "metadata": {},
      "outputs": [
        {
          "output_type": "display_data",
          "metadata": {},
          "data": {
            "text/html": [
              "\n",
              "<p>803000 rows × 3 columns</p>\n",
              "</div>"
            ]
          }
        }
      ],
      "source": [
        "df = pd.read_csv(\"https://raw.githubusercontent.com/miruetoto/yechan3/main/posts/3_Researches/SOLAR/solar_radiation.csv\")\n",
        "df"
      ],
      "id": "fdd11828-a9ef-4695-8db3-e167b24ce3f6"
    },
    {
      "cell_type": "markdown",
      "metadata": {},
      "source": [
        "`-` 다운로드\n",
        "\n",
        "``` default\n",
        "!wget https://raw.githubusercontent.com/miruetoto/yechan3/main/posts/3_Researches/SOLAR/solar_radiation.csv\n",
        "```"
      ],
      "id": "d5bd1121-04e9-4c6d-98f6-12b0c9f9b12c"
    }
  ],
  "nbformat": 4,
  "nbformat_minor": 5,
  "metadata": {
    "kernelspec": {
      "name": "python3",
      "display_name": "Python 3 (ipykernel)",
      "language": "python"
    },
    "language_info": {
      "name": "python",
      "codemirror_mode": {
        "name": "ipython",
        "version": "3"
      },
      "file_extension": ".py",
      "mimetype": "text/x-python",
      "nbconvert_exporter": "python",
      "pygments_lexer": "ipython3",
      "version": "3.10.13"
    }
  }
}