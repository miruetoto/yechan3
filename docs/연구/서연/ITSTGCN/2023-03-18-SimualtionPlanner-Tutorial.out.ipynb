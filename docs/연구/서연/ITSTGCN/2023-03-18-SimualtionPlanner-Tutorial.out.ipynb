{
  "cells": [
    {
      "cell_type": "markdown",
      "metadata": {},
      "source": [
        "# (연구&서연) IT-STGCN – SimualtionPlanner-Tutorial\n",
        "\n",
        "SEOYEON CHOI  \n",
        "2023-03-18\n",
        "\n",
        "# imports"
      ],
      "id": "1b0046c7-e7ca-4a21-914e-71ef8c376f91"
    },
    {
      "cell_type": "code",
      "execution_count": 1,
      "metadata": {},
      "outputs": [],
      "source": [
        "import itstgcn\n",
        "import torch\n",
        "import itstgcn.planner "
      ],
      "id": "b0c2e707-a477-4cbd-b8ff-3dd35c65266e"
    },
    {
      "cell_type": "markdown",
      "metadata": {},
      "source": [
        "# read data"
      ],
      "id": "04dba57e-a037-4e57-a6f4-ab27aa082c1e"
    },
    {
      "cell_type": "code",
      "execution_count": 2,
      "metadata": {},
      "outputs": [],
      "source": [
        "_data = itstgcn.load_data('./data/fivenodes.pkl')\n",
        "_edges = torch.tensor(_data['edges']).nonzero().tolist()\n",
        "_FX = _data['f'].tolist()\n",
        "_node_ids = {'node1':0, 'node2':1, 'node3':2, 'node4':3, 'node5':4} \n",
        "data_dict = {'edges':_edges, 'node_ids':_node_ids, 'FX':_FX}\n",
        "loader = itstgcn.DatasetLoader(data_dict)"
      ],
      "id": "32330e84-252e-4009-8076-cd44cd9704cd"
    },
    {
      "cell_type": "markdown",
      "metadata": {},
      "source": [
        "## PLNR_STGCN_RAND"
      ],
      "id": "0c643885-6e79-46e2-b0e6-b53330f090dc"
    },
    {
      "cell_type": "code",
      "execution_count": 24,
      "metadata": {},
      "outputs": [],
      "source": [
        "plans_stgcn_rand = {\n",
        "    'max_iteration': 2, \n",
        "    'method': ['STGCN', 'IT-STGCN'], \n",
        "    'mrate': [0.0, 0.2],\n",
        "    'lags': [2, 4], \n",
        "    'nof_filters': [4, 8], \n",
        "    'inter_method': ['nearest'],\n",
        "    'epoch': [3]\n",
        "}"
      ],
      "id": "85a34aef-fbcf-4099-b30d-7c482eb1c799"
    },
    {
      "cell_type": "code",
      "execution_count": 25,
      "metadata": {},
      "outputs": [],
      "source": [
        "plnr = itstgcn.planner.PLNR_STGCN_RAND(plans_stgcn_rand,loader,dataset_name='five_nodes')"
      ],
      "id": "75b50571-546d-448a-9479-750ba3d127f5"
    },
    {
      "cell_type": "code",
      "execution_count": 26,
      "metadata": {},
      "outputs": [
        {
          "output_type": "stream",
          "name": "stdout",
          "text": [
            "1/2 is done\n",
            "2/2 is done\n",
            "All results are stored in ./simulation_results/2023-03-18_11-56-03.csv"
          ]
        }
      ],
      "source": [
        "plnr.simulate()"
      ],
      "id": "52a4b08f-9894-4e37-b515-27146639c559"
    },
    {
      "cell_type": "markdown",
      "metadata": {},
      "source": [
        "## PLNR_STGCN_MANUAL"
      ],
      "id": "3a20f8c2-72d0-4e60-a772-b7a0dc8e0089"
    },
    {
      "cell_type": "code",
      "execution_count": 27,
      "metadata": {},
      "outputs": [],
      "source": [
        "_data = itstgcn.load_data('./data/fivenodes.pkl')\n",
        "_edges = torch.tensor(_data['edges']).nonzero().tolist()\n",
        "_FX = _data['f'].tolist()\n",
        "_node_ids = {'node1':0, 'node2':1, 'node3':2, 'node4':3, 'node5':4} \n",
        "data_dict = {'edges':_edges, 'node_ids':_node_ids, 'FX':_FX}\n",
        "loader = itstgcn.DatasetLoader(data_dict)"
      ],
      "id": "426dd25a-d198-4b0e-be4b-24c028c11fc1"
    },
    {
      "cell_type": "code",
      "execution_count": 28,
      "metadata": {},
      "outputs": [],
      "source": [
        "mindex= [list(range(10,100)),[],list(range(50,80)),[],[]]\n",
        "plans_stgcn_block = {\n",
        "    'max_iteration': 3, \n",
        "    'method': ['STGCN', 'IT-STGCN'], \n",
        "    'mindex': [mindex],\n",
        "    'lags': [2, 4], \n",
        "    'nof_filters': [8,16], \n",
        "    'inter_method': ['nearest','linear'],\n",
        "    'epoch': [1]\n",
        "}"
      ],
      "id": "9415555a-5de6-43fd-99ee-59f501fe45fa"
    },
    {
      "cell_type": "code",
      "execution_count": 29,
      "metadata": {},
      "outputs": [],
      "source": [
        "plnr = itstgcn.planner.PLNR_STGCN_MANUAL(plans_stgcn_block,loader,dataset_name='five_nodes')"
      ],
      "id": "0e7ea177-9e4e-4f87-8265-db5161d40d70"
    },
    {
      "cell_type": "code",
      "execution_count": 30,
      "metadata": {},
      "outputs": [
        {
          "output_type": "stream",
          "name": "stdout",
          "text": [
            "1/3 is done\n",
            "2/3 is done\n",
            "3/3 is done\n",
            "All results are stored in ./simulation_results/2023-03-18_11-56-55.csv"
          ]
        }
      ],
      "source": [
        "plnr.simulate(mindex=mindex,mtype='block')"
      ],
      "id": "94e645c6-7c31-4aa1-9024-ab90a3a6e886"
    },
    {
      "cell_type": "markdown",
      "metadata": {},
      "source": [
        "## PLNR_GNAR_RAND"
      ],
      "id": "9295bd33-b7b3-4a31-b502-64e94e6796bb"
    },
    {
      "cell_type": "code",
      "execution_count": 31,
      "metadata": {},
      "outputs": [],
      "source": [
        "_data = itstgcn.load_data('./data/fivenodes.pkl')\n",
        "_edges = torch.tensor(_data['edges']).nonzero().tolist()\n",
        "_FX = _data['f'].tolist()\n",
        "_node_ids = {'node1':0, 'node2':1, 'node3':2, 'node4':3, 'node5':4} \n",
        "data_dict = {'edges':_edges, 'node_ids':_node_ids, 'FX':_FX}\n",
        "loader = itstgcn.DatasetLoader(data_dict)"
      ],
      "id": "3926b3bb-6dfb-4cc6-9cba-f8ed8163a49a"
    },
    {
      "cell_type": "code",
      "execution_count": 32,
      "metadata": {},
      "outputs": [],
      "source": [
        "plans_gnar_rand = {\n",
        "    'max_iteration': 3, \n",
        "#    'method': ['GNAR'], \n",
        "    'mrate': [0.0, 0.2, 0.4],\n",
        "    'lags': [2, 4], \n",
        "#    'nof_filters': [8,16], \n",
        "    'inter_method': ['nearest','linear'],\n",
        "#    'epoch': [1]\n",
        "}"
      ],
      "id": "5bb50c50-5323-43a1-9b47-2bbbac309b05"
    },
    {
      "cell_type": "code",
      "execution_count": 33,
      "metadata": {},
      "outputs": [
        {
          "output_type": "stream",
          "name": "stdout",
          "text": [
            "WARNING: diagonal entries present in original matrix, these will be removed\n",
            "WARNING: diagonal entries present in original matrix, these will be removed\n",
            "WARNING: diagonal entries present in original matrix, these will be removed\n",
            "WARNING: diagonal entries present in original matrix, these will be removed\n",
            "WARNING: diagonal entries present in original matrix, these will be removed\n",
            "WARNING: diagonal entries present in original matrix, these will be removed\n",
            "WARNING: diagonal entries present in original matrix, these will be removed\n",
            "WARNING: diagonal entries present in original matrix, these will be removed\n",
            "WARNING: diagonal entries present in original matrix, these will be removed\n",
            "WARNING: diagonal entries present in original matrix, these will be removed\n",
            "WARNING: diagonal entries present in original matrix, these will be removed\n",
            "WARNING: diagonal entries present in original matrix, these will be removed\n",
            "WARNING: diagonal entries present in original matrix, these will be removed\n",
            "WARNING: diagonal entries present in original matrix, these will be removed\n",
            "WARNING: diagonal entries present in original matrix, these will be removed\n",
            "WARNING: diagonal entries present in original matrix, these will be removed\n",
            "WARNING: diagonal entries present in original matrix, these will be removed\n",
            "WARNING: diagonal entries present in original matrix, these will be removed\n",
            "WARNING: diagonal entries present in original matrix, these will be removed\n",
            "WARNING: diagonal entries present in original matrix, these will be removed\n",
            "WARNING: diagonal entries present in original matrix, these will be removed\n",
            "WARNING: diagonal entries present in original matrix, these will be removed\n",
            "WARNING: diagonal entries present in original matrix, these will be removed\n",
            "WARNING: diagonal entries present in original matrix, these will be removed\n",
            "WARNING: diagonal entries present in original matrix, these will be removed\n",
            "WARNING: diagonal entries present in original matrix, these will be removed\n",
            "WARNING: diagonal entries present in original matrix, these will be removed\n",
            "WARNING: diagonal entries present in original matrix, these will be removed\n",
            "WARNING: diagonal entries present in original matrix, these will be removed\n",
            "WARNING: diagonal entries present in original matrix, these will be removed\n",
            "WARNING: diagonal entries present in original matrix, these will be removed\n",
            "WARNING: diagonal entries present in original matrix, these will be removed\n",
            "WARNING: diagonal entries present in original matrix, these will be removed\n",
            "WARNING: diagonal entries present in original matrix, these will be removed\n",
            "WARNING: diagonal entries present in original matrix, these will be removed\n",
            "WARNING: diagonal entries present in original matrix, these will be removed\n",
            "1/3 is done\n",
            "WARNING: diagonal entries present in original matrix, these will be removed\n",
            "WARNING: diagonal entries present in original matrix, these will be removed\n",
            "WARNING: diagonal entries present in original matrix, these will be removed\n",
            "WARNING: diagonal entries present in original matrix, these will be removed\n",
            "WARNING: diagonal entries present in original matrix, these will be removed\n",
            "WARNING: diagonal entries present in original matrix, these will be removed\n",
            "WARNING: diagonal entries present in original matrix, these will be removed\n",
            "WARNING: diagonal entries present in original matrix, these will be removed\n",
            "WARNING: diagonal entries present in original matrix, these will be removed\n",
            "WARNING: diagonal entries present in original matrix, these will be removed\n",
            "WARNING: diagonal entries present in original matrix, these will be removed\n",
            "WARNING: diagonal entries present in original matrix, these will be removed\n",
            "WARNING: diagonal entries present in original matrix, these will be removed\n",
            "WARNING: diagonal entries present in original matrix, these will be removed\n",
            "WARNING: diagonal entries present in original matrix, these will be removed\n",
            "WARNING: diagonal entries present in original matrix, these will be removed\n",
            "WARNING: diagonal entries present in original matrix, these will be removed\n",
            "WARNING: diagonal entries present in original matrix, these will be removed\n",
            "WARNING: diagonal entries present in original matrix, these will be removed\n",
            "WARNING: diagonal entries present in original matrix, these will be removed\n",
            "WARNING: diagonal entries present in original matrix, these will be removed\n",
            "WARNING: diagonal entries present in original matrix, these will be removed\n",
            "WARNING: diagonal entries present in original matrix, these will be removed\n",
            "WARNING: diagonal entries present in original matrix, these will be removed\n",
            "WARNING: diagonal entries present in original matrix, these will be removed\n",
            "WARNING: diagonal entries present in original matrix, these will be removed\n",
            "WARNING: diagonal entries present in original matrix, these will be removed\n",
            "WARNING: diagonal entries present in original matrix, these will be removed\n",
            "WARNING: diagonal entries present in original matrix, these will be removed\n",
            "WARNING: diagonal entries present in original matrix, these will be removed\n",
            "WARNING: diagonal entries present in original matrix, these will be removed\n",
            "WARNING: diagonal entries present in original matrix, these will be removed\n",
            "WARNING: diagonal entries present in original matrix, these will be removed\n",
            "WARNING: diagonal entries present in original matrix, these will be removed\n",
            "WARNING: diagonal entries present in original matrix, these will be removed\n",
            "WARNING: diagonal entries present in original matrix, these will be removed\n",
            "2/3 is done\n",
            "WARNING: diagonal entries present in original matrix, these will be removed\n",
            "WARNING: diagonal entries present in original matrix, these will be removed\n",
            "WARNING: diagonal entries present in original matrix, these will be removed\n",
            "WARNING: diagonal entries present in original matrix, these will be removed\n",
            "WARNING: diagonal entries present in original matrix, these will be removed\n",
            "WARNING: diagonal entries present in original matrix, these will be removed\n",
            "WARNING: diagonal entries present in original matrix, these will be removed\n",
            "WARNING: diagonal entries present in original matrix, these will be removed\n",
            "WARNING: diagonal entries present in original matrix, these will be removed\n",
            "WARNING: diagonal entries present in original matrix, these will be removed\n",
            "WARNING: diagonal entries present in original matrix, these will be removed\n",
            "WARNING: diagonal entries present in original matrix, these will be removed\n",
            "WARNING: diagonal entries present in original matrix, these will be removed\n",
            "WARNING: diagonal entries present in original matrix, these will be removed\n",
            "WARNING: diagonal entries present in original matrix, these will be removed\n",
            "WARNING: diagonal entries present in original matrix, these will be removed\n",
            "WARNING: diagonal entries present in original matrix, these will be removed\n",
            "WARNING: diagonal entries present in original matrix, these will be removed\n",
            "WARNING: diagonal entries present in original matrix, these will be removed\n",
            "WARNING: diagonal entries present in original matrix, these will be removed\n",
            "WARNING: diagonal entries present in original matrix, these will be removed\n",
            "WARNING: diagonal entries present in original matrix, these will be removed\n",
            "WARNING: diagonal entries present in original matrix, these will be removed\n",
            "WARNING: diagonal entries present in original matrix, these will be removed\n",
            "WARNING: diagonal entries present in original matrix, these will be removed\n",
            "WARNING: diagonal entries present in original matrix, these will be removed\n",
            "WARNING: diagonal entries present in original matrix, these will be removed\n",
            "WARNING: diagonal entries present in original matrix, these will be removed\n",
            "WARNING: diagonal entries present in original matrix, these will be removed\n",
            "WARNING: diagonal entries present in original matrix, these will be removed\n",
            "WARNING: diagonal entries present in original matrix, these will be removed\n",
            "WARNING: diagonal entries present in original matrix, these will be removed\n",
            "WARNING: diagonal entries present in original matrix, these will be removed\n",
            "WARNING: diagonal entries present in original matrix, these will be removed\n",
            "WARNING: diagonal entries present in original matrix, these will be removed\n",
            "WARNING: diagonal entries present in original matrix, these will be removed\n",
            "3/3 is done\n",
            "All results are stored in ./simulation_results/2023-03-18_11-56-56.csv"
          ]
        }
      ],
      "source": [
        "plnr = itstgcn.planner.PLNR_GNAR_RAND(plans_gnar_rand,loader,dataset_name='five_nodes')\n",
        "plnr.simulate()"
      ],
      "id": "0a7bb64b-95b6-4550-824b-063540279276"
    },
    {
      "cell_type": "markdown",
      "metadata": {},
      "source": [
        "## PLNR_GNAR_BLOCK"
      ],
      "id": "58260f19-fae7-4f86-a8b8-a922d77d2935"
    },
    {
      "cell_type": "code",
      "execution_count": 34,
      "metadata": {},
      "outputs": [],
      "source": [
        "_data = itstgcn.load_data('./data/fivenodes.pkl')\n",
        "_edges = torch.tensor(_data['edges']).nonzero().tolist()\n",
        "_FX = _data['f'].tolist()\n",
        "_node_ids = {'node1':0, 'node2':1, 'node3':2, 'node4':3, 'node5':4} \n",
        "data_dict = {'edges':_edges, 'node_ids':_node_ids, 'FX':_FX}\n",
        "loader = itstgcn.DatasetLoader(data_dict)"
      ],
      "id": "f3d394fb-2e5f-4b39-9538-822986c1cc36"
    },
    {
      "cell_type": "code",
      "execution_count": 35,
      "metadata": {},
      "outputs": [],
      "source": [
        "mindex = [list(range(10,100)),[],list(range(50,80)),[],[]]\n",
        "plans_gnar_block = {\n",
        "    'max_iteration': 3, \n",
        "    'method': ['GNAR'], \n",
        "    'mindex': [mindex],\n",
        "    'lags': [2, 4], \n",
        "    'inter_method': ['nearest','linear'],\n",
        "}"
      ],
      "id": "f18eaef3-c133-4950-9b89-93bb32b17681"
    },
    {
      "cell_type": "code",
      "execution_count": 36,
      "metadata": {},
      "outputs": [
        {
          "output_type": "stream",
          "name": "stdout",
          "text": [
            "WARNING: diagonal entries present in original matrix, these will be removed\n",
            "WARNING: diagonal entries present in original matrix, these will be removed\n",
            "WARNING: diagonal entries present in original matrix, these will be removed\n",
            "WARNING: diagonal entries present in original matrix, these will be removed\n",
            "WARNING: diagonal entries present in original matrix, these will be removed\n",
            "WARNING: diagonal entries present in original matrix, these will be removed\n",
            "WARNING: diagonal entries present in original matrix, these will be removed\n",
            "WARNING: diagonal entries present in original matrix, these will be removed\n",
            "WARNING: diagonal entries present in original matrix, these will be removed\n",
            "WARNING: diagonal entries present in original matrix, these will be removed\n",
            "WARNING: diagonal entries present in original matrix, these will be removed\n",
            "WARNING: diagonal entries present in original matrix, these will be removed\n",
            "1/3 is done\n",
            "WARNING: diagonal entries present in original matrix, these will be removed\n",
            "WARNING: diagonal entries present in original matrix, these will be removed\n",
            "WARNING: diagonal entries present in original matrix, these will be removed\n",
            "WARNING: diagonal entries present in original matrix, these will be removed\n",
            "WARNING: diagonal entries present in original matrix, these will be removed\n",
            "WARNING: diagonal entries present in original matrix, these will be removed\n",
            "WARNING: diagonal entries present in original matrix, these will be removed\n",
            "WARNING: diagonal entries present in original matrix, these will be removed\n",
            "WARNING: diagonal entries present in original matrix, these will be removed\n",
            "WARNING: diagonal entries present in original matrix, these will be removed\n",
            "WARNING: diagonal entries present in original matrix, these will be removed\n",
            "WARNING: diagonal entries present in original matrix, these will be removed\n",
            "2/3 is done\n",
            "WARNING: diagonal entries present in original matrix, these will be removed\n",
            "WARNING: diagonal entries present in original matrix, these will be removed\n",
            "WARNING: diagonal entries present in original matrix, these will be removed\n",
            "WARNING: diagonal entries present in original matrix, these will be removed\n",
            "WARNING: diagonal entries present in original matrix, these will be removed\n",
            "WARNING: diagonal entries present in original matrix, these will be removed\n",
            "WARNING: diagonal entries present in original matrix, these will be removed\n",
            "WARNING: diagonal entries present in original matrix, these will be removed\n",
            "WARNING: diagonal entries present in original matrix, these will be removed\n",
            "WARNING: diagonal entries present in original matrix, these will be removed\n",
            "WARNING: diagonal entries present in original matrix, these will be removed\n",
            "WARNING: diagonal entries present in original matrix, these will be removed\n",
            "3/3 is done\n",
            "All results are stored in ./simulation_results/2023-03-18_11-56-57.csv"
          ]
        }
      ],
      "source": [
        "plnr = itstgcn.planner.PLNR_GNAR_MANUAL(plans_gnar_block,loader,dataset_name='five_nodes')\n",
        "plnr.simulate(mindex,mtype='block')"
      ],
      "id": "8927c785-de8a-4740-95e6-2f720658f3d5"
    }
  ],
  "nbformat": 4,
  "nbformat_minor": 5,
  "metadata": {
    "kernelspec": {
      "name": "python3",
      "display_name": "Python 3 (ipykernel)",
      "language": "python"
    },
    "language_info": {
      "name": "python",
      "codemirror_mode": {
        "name": "ipython",
        "version": "3"
      },
      "file_extension": ".py",
      "mimetype": "text/x-python",
      "nbconvert_exporter": "python",
      "pygments_lexer": "ipython3",
      "version": "3.10.13"
    }
  }
}