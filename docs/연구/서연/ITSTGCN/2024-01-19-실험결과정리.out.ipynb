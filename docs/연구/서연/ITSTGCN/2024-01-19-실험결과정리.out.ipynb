{
  "cells": [
    {
      "cell_type": "markdown",
      "metadata": {},
      "source": [
        "# (연구&서연) IT-STGCN – 실험결과시각화\n",
        "\n",
        "SEOYEON CHOI  \n",
        "2024-01-08\n",
        "\n",
        "# Import"
      ],
      "id": "c10a7f6b-7309-4fff-929b-53ebfe55d838"
    },
    {
      "cell_type": "code",
      "execution_count": 1,
      "metadata": {},
      "outputs": [],
      "source": [
        "import pandas as pd\n",
        "import numpy as np\n",
        "\n",
        "import plotly.express as px\n",
        "import plotly.graph_objects as go\n",
        "import pickle\n",
        "\n",
        "import plotly.io as pio"
      ],
      "id": "c533477a-7e40-48ec-afd2-8ae980a5b378"
    },
    {
      "cell_type": "code",
      "execution_count": 2,
      "metadata": {},
      "outputs": [],
      "source": [
        "pd.options.plotting.backend = \"plotly\"\n",
        "pio.templates.default = \"plotly_white\""
      ],
      "id": "a74da524-127e-4724-b222-88d65b059aed"
    },
    {
      "cell_type": "markdown",
      "metadata": {},
      "source": [
        "# Conditions\n",
        "\n",
        "| Model         | FiveVTS | Chickenpox | Pedalme | Wikimath | Windmillsmall | MontevideoBus |\n",
        "|----------------|--------|----------|--------|---------|------------|------------|\n",
        "| Max iter.     | 30      | 30         | 30      | 30       | 30            | 30            |\n",
        "| Epochs        | 50      | 50         | 50      | 50       | 50            | 50            |\n",
        "| Lags          | 2       | 4          | 4       | 8        | 8             | 4             |\n",
        "| Interpolation | linear  | linear     | nearest | linear   | linear        | nearest       |\n",
        "| Filters       |         |            |         |          |               |               |\n",
        "| GConvGRU      | 12      | 16         | 12      | 12       | 12            | 12            |\n",
        "| GConvLSTM     | 12      | 32         | 2       | 64       | 16            | 12            |\n",
        "| GCLSTM        | 4       | 16         | 4       | 64       | 16            | 12            |\n",
        "| LRGCN         | 4       | 8          | 8       | 32       | 12            | 2             |\n",
        "| DyGrEncoder   | 12      | 12         | 12      | 12       | 12            | 12            |\n",
        "| EvolveGCNH    | No need | No need    | No need | No need  | No need       | No need       |\n",
        "| EvolveGCNO    | No need | No need    | No need | No need  | No need       | No need       |\n",
        "| TGCN          | 12      | 12         | 12      | 12       | 12            | 8             |\n",
        "| DCRNN         | 2       | 16         | 8       | 12       | 4             | 12            |\n",
        "\n",
        "# Data & 사용자정의함수"
      ],
      "id": "680df3d6-4023-49c1-b3c0-6d4301bc01bc"
    },
    {
      "cell_type": "code",
      "execution_count": 3,
      "metadata": {},
      "outputs": [],
      "source": [
        "df_dataset = pd.DataFrame({\n",
        "    'dataset':['fivenodes','chickenpox','pedalme','wikimath','windmillsmall','monte'],\n",
        "    'node':[5,20,15,1068,11,675],\n",
        "    'time':[200,522,36,731,17472,744]\n",
        "})\n",
        "df = pd.read_csv('./Body_Results.csv').iloc[:,1:]\\\n",
        ".merge(df_dataset)\\\n",
        ".assign(method = lambda df: df['method'].map({'STGCN':'STGNN','IT-STGCN':'IT-STGNN','GNAR':'GNAR'}))"
      ],
      "id": "0029d80d-2795-480c-9753-0075f29de94c"
    },
    {
      "cell_type": "code",
      "execution_count": 4,
      "metadata": {},
      "outputs": [
        {
          "output_type": "display_data",
          "metadata": {},
          "data": {
            "text/html": [
              "\n",
              "</div>"
            ]
          }
        }
      ],
      "source": [
        "df.head()"
      ],
      "id": "05c74686-5fe7-40e9-b22c-6e2cbe2946ac"
    },
    {
      "cell_type": "code",
      "execution_count": 5,
      "metadata": {},
      "outputs": [
        {
          "output_type": "display_data",
          "metadata": {},
          "data": {
            "text/html": [
              "\n",
              "</div>"
            ]
          }
        }
      ],
      "source": [
        "df2 = df.assign(model = lambda df: df.model.apply(lambda x: '' if x == \"GNAR\" else x))\\\n",
        ".eval('model = method+model')\\\n",
        ".assign(model = lambda df: df.model.str.replace(\"STGNN\",\"\"))\n",
        "df2.head()"
      ],
      "id": "217d71bc-a7a2-41cd-b0e3-33bce521b95e"
    },
    {
      "cell_type": "code",
      "execution_count": 6,
      "metadata": {},
      "outputs": [
        {
          "output_type": "display_data",
          "metadata": {},
          "data": {
            "text/plain": [
              "{'GNAR', 'IT-STGNN', 'STGNN'}"
            ]
          }
        }
      ],
      "source": [
        "set(df.method)"
      ],
      "id": "8e5518ba-4a5b-424d-9b6e-7873c3a70ac5"
    },
    {
      "cell_type": "code",
      "execution_count": 7,
      "metadata": {},
      "outputs": [],
      "source": [
        "def show_experiment_spec(df):\n",
        "    df_cols = ['method','mrate','mtype','lags','nof_filters','inter_method','epoch','model']\n",
        "    for dataset in df.dataset.unique():\n",
        "        print(f'dataset: {dataset}')\n",
        "        for col in df_cols: \n",
        "            df_query = df[df['dataset'] == dataset]\n",
        "            print(f'{col}: {df_query[col].unique().tolist()}')\n",
        "        print('---')"
      ],
      "id": "0e608b3c-f4f9-49e8-bcc3-b348c07aff46"
    },
    {
      "cell_type": "markdown",
      "metadata": {},
      "source": [
        "`-` 데이터세트별 실험셋팅"
      ],
      "id": "06edd2a6-dda1-4762-9338-db82a7e796d8"
    },
    {
      "cell_type": "code",
      "execution_count": 8,
      "metadata": {},
      "outputs": [
        {
          "output_type": "stream",
          "name": "stdout",
          "text": [
            "dataset: fivenodes\n",
            "method: ['STGNN', 'IT-STGNN', 'GNAR']\n",
            "mrate: [0.0, 0.7, 0.8, 0.3, 0.5, 0.6, 0.125]\n",
            "mtype: [nan, 'rand', 'block']\n",
            "lags: [2]\n",
            "nof_filters: [12.0, 4.0, 2.0, nan]\n",
            "inter_method: [nan, 'linear']\n",
            "epoch: [50.0, nan]\n",
            "model: ['GConvGRU', 'GConvLSTM', 'GCLSTM', 'DCRNN', 'LRGCN', 'TGCN', 'EvolveGCNO', 'DyGrEncoder', 'EvolveGCNH', 'GNAR']\n",
            "---\n",
            "dataset: chickenpox\n",
            "method: ['STGNN', 'IT-STGNN', 'GNAR']\n",
            "mrate: [0.0, 0.3, 0.8, 0.5, 0.6, 0.2877697841726618]\n",
            "mtype: [nan, 'rand', 'block']\n",
            "lags: [4]\n",
            "nof_filters: [16.0, 32.0, 8.0, 12.0, nan]\n",
            "inter_method: [nan, 'linear']\n",
            "epoch: [50.0, nan]\n",
            "model: ['GConvGRU', 'GConvLSTM', 'GCLSTM', 'DCRNN', 'LRGCN', 'TGCN', 'EvolveGCNO', 'DyGrEncoder', 'EvolveGCNH', 'GNAR']\n",
            "---\n",
            "dataset: pedalme\n",
            "method: ['STGNN', 'IT-STGNN', 'GNAR']\n",
            "mrate: [0.0, 0.3, 0.6, 0.5, 0.8, 0.2857142857142857]\n",
            "mtype: [nan, 'rand', 'block']\n",
            "lags: [4]\n",
            "nof_filters: [12.0, 2.0, 4.0, 8.0, nan]\n",
            "inter_method: [nan, 'nearest', 'linear']\n",
            "epoch: [50.0, nan]\n",
            "model: ['GConvGRU', 'GConvLSTM', 'GCLSTM', 'DCRNN', 'LRGCN', 'TGCN', 'EvolveGCNO', 'DyGrEncoder', 'EvolveGCNH', 'GNAR']\n",
            "---\n",
            "dataset: wikimath\n",
            "method: ['STGNN', 'IT-STGNN', 'GNAR']\n",
            "mrate: [0.3, 0.8, 0.0, 0.0958699236875407, 0.0038347969475016, 0.5, 0.1198374046094259, 0.6]\n",
            "mtype: ['rand', nan, 'block']\n",
            "lags: [8]\n",
            "nof_filters: [12.0, 64.0, 32.0, nan]\n",
            "inter_method: ['linear', nan]\n",
            "epoch: [50.0, nan]\n",
            "model: ['GConvGRU', 'GConvLSTM', 'GCLSTM', 'DCRNN', 'LRGCN', 'TGCN', 'EvolveGCNO', 'DyGrEncoder', 'EvolveGCNH', 'GNAR']\n",
            "---\n",
            "dataset: windmillsmall\n",
            "method: ['STGNN', 'IT-STGNN']\n",
            "mrate: [0.0, 0.7, 0.0812907673198108]\n",
            "mtype: [nan, 'rand', 'block']\n",
            "lags: [8]\n",
            "nof_filters: [12.0, 16.0, 4.0]\n",
            "inter_method: [nan, 'linear']\n",
            "epoch: [50.0]\n",
            "model: ['GConvGRU', 'GConvLSTM', 'GCLSTM', 'DCRNN', 'LRGCN', 'TGCN', 'EvolveGCNO', 'DyGrEncoder', 'EvolveGCNH']\n",
            "---\n",
            "dataset: monte\n",
            "method: ['STGNN', 'IT-STGNN', 'GNAR']\n",
            "mrate: [0.8, 0.0, 0.1491424310216256, 0.3, 0.5, 0.7]\n",
            "mtype: ['rand', nan, 'block']\n",
            "lags: [4]\n",
            "nof_filters: [12.0, 2.0, 8.0, nan]\n",
            "inter_method: ['nearest', nan, 'cubic', 'linear']\n",
            "epoch: [50.0, nan]\n",
            "model: ['GConvGRU', 'GConvLSTM', 'GCLSTM', 'DCRNN', 'LRGCN', 'TGCN', 'EvolveGCNO', 'DyGrEncoder', 'EvolveGCNH', 'GNAR']\n",
            "---"
          ]
        }
      ],
      "source": [
        "show_experiment_spec(df)"
      ],
      "id": "d4494dec-dabe-4a2d-a2f2-bd263f0b785a"
    },
    {
      "cell_type": "markdown",
      "metadata": {},
      "source": [
        "`-` 요약"
      ],
      "id": "10a14b16-0100-4ec9-8acc-5edf4895eb8a"
    },
    {
      "cell_type": "code",
      "execution_count": 9,
      "metadata": {},
      "outputs": [
        {
          "output_type": "display_data",
          "metadata": {},
          "data": {
            "text/html": [
              "\n",
              "</div>"
            ]
          }
        }
      ],
      "source": [
        "df_summary = df2.groupby([\"method\",\"dataset\",\"mrate\",\"model\"]).agg({'mse':'mean'}).reset_index()\\\n",
        ".pivot_table(index=['model'],columns=['dataset'],values='mse')\n",
        "df_summary"
      ],
      "id": "aedbe830-ef9a-41b7-b138-9a96960c4624"
    },
    {
      "cell_type": "markdown",
      "metadata": {},
      "source": [
        "# 시각화1: MissingRate (본문)"
      ],
      "id": "c8682c3b-61cc-495c-8f27-5c021c933b25"
    },
    {
      "cell_type": "code",
      "execution_count": 10,
      "metadata": {},
      "outputs": [
        {
          "output_type": "stream",
          "name": "stderr",
          "text": [
            "/tmp/ipykernel_102565/3661235296.py:4: FutureWarning: The provided callable <function median at 0x7f96b81e2290> is currently using SeriesGroupBy.median. In a future version of pandas, the provided callable will be used directly. To keep current behavior pass the string \"median\" instead.\n",
            "  small = big.groupby([\"dataset\",\"mrate\",\"method\"]).agg({'mse':np.median}).reset_index().rename({'mse':'mse_median'},axis=1)"
          ]
        }
      ],
      "source": [
        "big = df.query(\"mtype=='rand' or mtype.isna()\").query(\"dataset == 'chickenpox'\").query(\"model == 'GConvLSTM'\")\\\n",
        ".sort_values(by='mrate')\\\n",
        ".assign(mrate_jittered = lambda df: np.array(df['mrate'])+np.random.randn(len(df['mrate']))*0.01)\n",
        "small = big.groupby([\"dataset\",\"mrate\",\"method\"]).agg({'mse':np.median}).reset_index().rename({'mse':'mse_median'},axis=1)\n",
        "tidydata = big.merge(small)\n",
        "#---#\n",
        "fig = px.scatter(\n",
        "    tidydata,\n",
        "    y='mse_median',\n",
        "    x='mrate',\n",
        "    opacity=0.3,\n",
        "    color='method',\n",
        "    width=425,\n",
        "    height=425,\n",
        "    hover_data='mrate',\n",
        ")\n",
        "fig.data[0]['mode']='markers+lines'\n",
        "fig.data[0]['marker']['size'] = 6\n",
        "fig.data[0]['line']['width'] = 1.5\n",
        "fig.data[0]['line']['dash'] = 'dashdot'\n",
        "fig.data[1]['mode']='markers+lines'\n",
        "fig.data[1]['marker']['size'] = 6\n",
        "fig.data[1]['line']['width'] =1.5\n",
        "fig.data[1]['line']['dash'] = 'dashdot'\n",
        "box1 = px.box(\n",
        "    tidydata.query(\"method=='STGNN'\"),\n",
        "    y='mse',\n",
        "    x='mrate',\n",
        ")\n",
        "box1.data[0]['opacity']=0.5\n",
        "box1.data[0]['marker']['color']='#636efa'\n",
        "box2 = px.box(\n",
        "    tidydata.query(\"method=='IT-STGNN'\"),\n",
        "    y='mse',\n",
        "    x='mrate',\n",
        ")\n",
        "box2.data[0]['opacity']=0.5\n",
        "box2.data[0]['marker']['color']='#EF553B'\n",
        "fig.add_traces(box1.data)\n",
        "fig.add_traces(box2.data)\n",
        "fig.data[0]['showlegend'] =False\n",
        "fig.data[1]['showlegend'] =False\n",
        "fig.layout['xaxis']['title']['text']='Missign Rate'\n",
        "fig.layout['yaxis']['title']['text']='MSE'\n",
        "fig.layout['legend']['title']['text']=\"\"\n",
        "fig.layout['title']['text']='Chickenpox/GConvLSTM'\n",
        "fig"
      ],
      "id": "dde27dd1-f3a7-4ff5-9830-809c74d0d561"
    },
    {
      "cell_type": "markdown",
      "metadata": {},
      "source": [
        "# 시각화2: MissingRate (부록)"
      ],
      "id": "a1b91041-7458-43bf-9cfc-11fda9358e8a"
    },
    {
      "cell_type": "code",
      "execution_count": 11,
      "metadata": {
        "tags": []
      },
      "outputs": [],
      "source": [
        "tidydata = df.query(\"mtype!='block'\").query(\"method!='GNAR'\").query(\"dataset != 'fivenodes'\")\\\n",
        ".groupby([\"method\",\"dataset\",\"mrate\",\"model\"]).agg({'mse':'mean'}).reset_index()\n",
        "#---#\n",
        "fig = px.line(\n",
        "    tidydata,\n",
        "    x='mrate',\n",
        "    y='mse',\n",
        "    color='method',\n",
        "    facet_row='model',\n",
        "    facet_col='dataset',\n",
        "    width=850,\n",
        "    height=1000,\n",
        "    \n",
        ")\n",
        "for scatter in fig.data:\n",
        "    scatter['mode'] = 'lines+markers'\n",
        "    scatter['line']['dash'] = 'dashdot'\n",
        "for annotation in fig.layout['annotations']:\n",
        "    annotation['text'] = annotation['text'].replace('dataset=','')\n",
        "    annotation['text'] = annotation['text'].replace('model=','')\n",
        "for k in [k for k in fig.layout if 'xaxis' in k]:\n",
        "    fig.layout[k]['title']['text'] = None \n",
        "for k in [k for k in fig.layout if 'yaxis' in k]:\n",
        "    fig.layout[k]['title']['text'] = None \n",
        "fig.update_yaxes(showticklabels=True,matches=None)\n",
        "fig.update_xaxes(showticklabels=True,matches=None)"
      ],
      "id": "18fa97a0-f497-464b-8333-5011055a9849"
    },
    {
      "cell_type": "markdown",
      "metadata": {},
      "source": [
        "# 시각화3"
      ],
      "id": "e7355b8c-4fd6-4286-8e6a-5dfdd0870f02"
    },
    {
      "cell_type": "code",
      "execution_count": 12,
      "metadata": {},
      "outputs": [],
      "source": [
        "def func(x):\n",
        "    if 'IT' in x:\n",
        "        return 'IT-STGNN'\n",
        "    elif 'GNAR' in x:\n",
        "        return 'GNAR'\n",
        "    else: \n",
        "        return 'STGNN'"
      ],
      "id": "8795adcc-9bbf-48db-8feb-248bf258151d"
    },
    {
      "cell_type": "code",
      "execution_count": 13,
      "metadata": {},
      "outputs": [],
      "source": [
        "tidydata = df2.query('mtype != \"block\"').query('method!=\"GNAR\"').groupby([\"method\",\"dataset\",\"mrate\",\"model\"]).agg({'mse':'mean'}).reset_index()\\\n",
        ".pivot_table(index=['model'],columns=['dataset'],values='mse').stack().reset_index().rename({0:'mse'},axis=1).assign(\n",
        "    method = lambda df: df['model'].apply(func)\n",
        ")\n",
        "tidydata = pd.concat([df.sort_values('mse').reset_index(drop=True).reset_index() for _,df in tidydata.groupby(\"dataset\")])\n",
        "#---#\n",
        "fig = px.bar(\n",
        "    tidydata,\n",
        "    x='index',\n",
        "    y='mse',\n",
        "    color='method',\n",
        "    facet_col='dataset',\n",
        "    facet_col_wrap=2,\n",
        "    text='model',\n",
        "    height=800\n",
        ")\n",
        "fig"
      ],
      "id": "b663c99a-a5ab-496a-84cf-d5fc59180192"
    },
    {
      "cell_type": "markdown",
      "metadata": {},
      "source": [
        "# 시각화4"
      ],
      "id": "48b19859-8135-4044-8391-ac81aba87a14"
    },
    {
      "cell_type": "code",
      "execution_count": 14,
      "metadata": {},
      "outputs": [],
      "source": [
        "tidydata = df.query('mtype != \"block\"').query('dataset != \"fivenodes\"')\\\n",
        ".groupby([\"method\",\"dataset\",\"node\",\"time\"]).agg({'mse':'mean'}).reset_index()\\\n",
        ".assign(ratio = lambda df: df['time']/df['node'])\\\n",
        ".pivot_table(index=['dataset','ratio'] ,columns=['method'],values='mse')\\\n",
        ".assign(mse_diff = lambda df: df['STGNN']- df['IT-STGNN']).loc[:,'mse_diff']\\\n",
        ".reset_index()\n",
        "tidydata\n",
        "fig = px.scatter(\n",
        "    tidydata,\n",
        "    x='ratio',\n",
        "    log_x=True,\n",
        "    y='mse_diff',\n",
        "    text='dataset',\n",
        "    width=625,\n",
        "    height=425,\n",
        ")\n",
        "fig.data[0]['textposition'] = ['top right']*3 + ['bottom right'] + ['top left']\n",
        "fig.data[0]['marker']['size'] = 8\n",
        "fig"
      ],
      "id": "bc53c699-673f-45ab-9195-5a8525ef60cd"
    },
    {
      "cell_type": "markdown",
      "metadata": {},
      "source": [
        "# 시각화5"
      ],
      "id": "7e8e13fd-1e7a-4666-b962-0bc43abb42a2"
    },
    {
      "cell_type": "code",
      "execution_count": 15,
      "metadata": {},
      "outputs": [],
      "source": [
        "tidydata = df.assign(mtype = df['mtype'].fillna(\"rand\"))\\\n",
        ".query('method != \"GNAR\"').query('dataset != \"windmillsmall\"').query('dataset != \"wikimath\"')\\\n",
        ".groupby([\"method\",\"dataset\",\"mtype\",\"mrate\"]).agg({'mse':'mean'}).reset_index()\\\n",
        ".sort_values('mrate')\\\n",
        ".assign(mrate = lambda df: df['mrate'].apply(lambda x: f'{x:.3f}'))\n",
        "#---#\n",
        "fig = px.bar(\n",
        "    tidydata,\n",
        "    x='mrate',\n",
        "    y='mse',\n",
        "    color='method',\n",
        "    facet_col='dataset',\n",
        "    facet_col_wrap=2,    \n",
        "    width=850,\n",
        "    height=650,\n",
        "    barmode='group',\n",
        "    hover_data='mtype',\n",
        "    opacity=0.2\n",
        ")\n",
        "fig.update_yaxes(showticklabels=True,matches=None)\n",
        "fig.update_xaxes(showticklabels=True,matches=None)\n",
        "for trace in fig.data:\n",
        "    trace['marker']['opacity']=[0.2, 1, 0.2, 0.2, 0.2, 0.2, 0.2]\n",
        "fig"
      ],
      "id": "6cb00f0e-f317-4804-8b61-3963c764cd52"
    }
  ],
  "nbformat": 4,
  "nbformat_minor": 5,
  "metadata": {
    "kernelspec": {
      "name": "python3",
      "display_name": "Python 3 (ipykernel)",
      "language": "python"
    },
    "language_info": {
      "name": "python",
      "codemirror_mode": {
        "name": "ipython",
        "version": "3"
      },
      "file_extension": ".py",
      "mimetype": "text/x-python",
      "nbconvert_exporter": "python",
      "pygments_lexer": "ipython3",
      "version": "3.10.13"
    }
  }
}