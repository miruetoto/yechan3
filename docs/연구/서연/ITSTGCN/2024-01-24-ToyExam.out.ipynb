{
  "cells": [
    {
      "cell_type": "markdown",
      "metadata": {},
      "source": [
        "# (연구&서연) IT-STGCN – ToyExam\n",
        "\n",
        "SEOYEON CHOI  \n",
        "2024-01-24\n",
        "\n",
        "# Import"
      ],
      "id": "fbe4f696-0efd-4879-a32a-372546a4a67b"
    },
    {
      "cell_type": "code",
      "execution_count": 1,
      "metadata": {},
      "outputs": [],
      "source": [
        "import pandas as pd\n",
        "import numpy as np\n",
        "\n",
        "import plotly.express as px\n",
        "import plotly.graph_objects as go\n",
        "import pickle\n",
        "\n",
        "import plotly.io as pio"
      ],
      "id": "99610a70-3e90-42d3-bbb3-df2e6baea058"
    },
    {
      "cell_type": "code",
      "execution_count": 2,
      "metadata": {},
      "outputs": [],
      "source": [
        "pd.options.plotting.backend = \"plotly\"\n",
        "pio.templates.default = \"plotly_white\""
      ],
      "id": "465e6b02-65d5-4993-ac82-fde6bbbc4380"
    },
    {
      "cell_type": "markdown",
      "metadata": {},
      "source": [
        "# Load Data"
      ],
      "id": "bc622fdf-a257-4d24-ae8b-7042422974f6"
    },
    {
      "cell_type": "code",
      "execution_count": 3,
      "metadata": {},
      "outputs": [],
      "source": [
        "with open(\"60persent_random_epoch100.pkl\",'rb') as f: \n",
        "    fig1,fig2 = pickle.load(f)\n",
        "fig1['frames'] = list(fig1['frames'])[::10]\n",
        "fig2['frames'] = list(fig2['frames'])[::10]\n",
        "fig1.update_layout(template=\"plotly_white\")\n",
        "fig2.update_layout(template=\"plotly_white\")\n",
        "fig1.update_layout(width=650, height=450)\n",
        "fig2.update_layout(width=650, height=450)\n",
        "mindex = np.array(pd.read_csv('epoch100_mindex.csv').iloc[:,-1].tolist())\n",
        "scatter_opacity = np.array([1.0]*10000)\n",
        "scatter_opacity[mindex] = 0.1\n",
        "fig1.data[-1]['marker'] = {'color': 'black', 'opacity': scatter_opacity, 'size': 1}\n",
        "fig2.data[-1]['marker'] = {'color': 'black', 'opacity': scatter_opacity, 'size': 1}"
      ],
      "id": "9829959f-6ed3-4af8-87d7-550cc5099651"
    },
    {
      "cell_type": "code",
      "execution_count": 4,
      "metadata": {},
      "outputs": [],
      "source": [
        "fig2"
      ],
      "id": "6990d312-24f1-4709-b805-ebdf7a5a6e92"
    }
  ],
  "nbformat": 4,
  "nbformat_minor": 5,
  "metadata": {
    "kernelspec": {
      "name": "python3",
      "display_name": "Python 3 (ipykernel)",
      "language": "python"
    },
    "language_info": {
      "name": "python",
      "codemirror_mode": {
        "name": "ipython",
        "version": "3"
      },
      "file_extension": ".py",
      "mimetype": "text/x-python",
      "nbconvert_exporter": "python",
      "pygments_lexer": "ipython3",
      "version": "3.10.13"
    }
  }
}