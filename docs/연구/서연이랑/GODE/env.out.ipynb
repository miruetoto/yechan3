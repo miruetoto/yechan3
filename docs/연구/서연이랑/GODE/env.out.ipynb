{
  "cells": [
    {
      "cell_type": "markdown",
      "metadata": {},
      "source": [
        "# (연구&서연) GODE – 환경설정\n",
        "\n",
        "최규빈  \n",
        "2024-08-12\n",
        "\n",
        "``` bash\n",
        "conda create -n gode python=3.10 \n",
        "conda install -c conda-forge r-essentials\n",
        "conda install r::rpy2\n",
        "conda install conda-forge::scikit-learn\n",
        "conda install conda-forge::pygsp\n",
        "conda install -c conda-forge notebook\n",
        "pip install matplotlib\n",
        "pip install pandas\n",
        "pip install haversine\n",
        "conda install plotly::plotly\n",
        "pip install tqdm \n",
        "```"
      ],
      "id": "f7cabf27-50ac-40cf-9b34-60f34bbbfc62"
    }
  ],
  "nbformat": 4,
  "nbformat_minor": 5,
  "metadata": {
    "kernelspec": {
      "name": "python3",
      "display_name": "Python 3 (ipykernel)",
      "language": "python"
    }
  }
}