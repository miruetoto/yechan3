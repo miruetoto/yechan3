{
  "cells": [
    {
      "cell_type": "markdown",
      "metadata": {},
      "source": [
        "# (연구&재인) MBTI(정리) – TabularPredictor 실험\n",
        "\n",
        "신록예찬  \n",
        "2023-12-21\n",
        "\n",
        "# 1. Imports\n",
        "\n",
        "**라이브러리**"
      ],
      "id": "875fbf51-0b5c-497a-b394-7efed32ea3e4"
    },
    {
      "cell_type": "code",
      "execution_count": 1,
      "metadata": {
        "tags": []
      },
      "outputs": [
        {
          "output_type": "stream",
          "name": "stderr",
          "text": [
            "/root/anaconda3/envs/ag/lib/python3.10/site-packages/tqdm/auto.py:21: TqdmWarning: IProgress not found. Please update jupyter and ipywidgets. See https://ipywidgets.readthedocs.io/en/stable/user_install.html\n",
            "  from .autonotebook import tqdm as notebook_tqdm"
          ]
        }
      ],
      "source": [
        "import pandas as pd\n",
        "import sklearn.model_selection\n",
        "import sklearn.metrics\n",
        "#from autogluon.multimodal import MultiModalPredictor\n",
        "from autogluon.tabular import TabularPredictor\n",
        "import time\n",
        "import pickle\n",
        "import warnings\n",
        "warnings.filterwarnings('ignore')"
      ],
      "id": "09ddadee-374e-4502-82b3-356a5a2ac8ec"
    },
    {
      "cell_type": "markdown",
      "metadata": {},
      "source": [
        "**함수들**"
      ],
      "id": "69312bd1-ee6e-478c-90ad-1837e4fb3703"
    },
    {
      "cell_type": "code",
      "execution_count": 2,
      "metadata": {
        "tags": []
      },
      "outputs": [],
      "source": [
        "def report(predictor,df_test):\n",
        "    model_names = [\n",
        "        'KNeighborsUnif',\n",
        "        'KNeighborsDist',\n",
        "        'NeuralNetFastAI',\n",
        "        'LightGBMXT',\n",
        "        'LightGBM',\n",
        "        'RandomForestGini',\n",
        "        'RandomForestEntr',\n",
        "        'CatBoost',\n",
        "        'ExtraTreesGini',\n",
        "        'ExtraTreesEntr',\n",
        "        'XGBoost',\n",
        "        'NeuralNetTorch',\n",
        "        'LightGBMLarge',\n",
        "        'WeightedEnsemble_L2'\n",
        "    ]\n",
        "    labels = ['ENTP', 'ESFP', 'ISFJ', 'INTJ', 'ISFP', 'ESTP', 'INTP', 'INFJ', 'ESTJ', 'ENFP', 'ISTJ', 'ENTJ', 'INFP', 'ISTP', 'ESFJ', 'ENFJ']\n",
        "    df_report = pd.concat({model_name:pd.DataFrame({label:{'PRE':0.0,'REC':0.0,'F1':0.0,'AUC':0.0} for label in labels}) for model_name in model_names})\n",
        "    yhats_dct = {model_name:predictor.predict_proba(df_test,model=model_name) for model_name in model_names}    \n",
        "    y = df_test['type']\n",
        "    for model_name in model_names:\n",
        "        yhat = yhats_dct[model_name].idxmax(axis=1)    \n",
        "        for label in labels:\n",
        "            if label in set(y):\n",
        "                _y = (y == label)*1\n",
        "                _y_pred = (yhat == label)*1\n",
        "                _y_proba = yhats_dct[model_name][label]\n",
        "                df_report[label][model_name]['PRE'] = sklearn.metrics.precision_score(_y,_y_pred)\n",
        "                df_report[label][model_name]['REC'] = sklearn.metrics.recall_score(_y,_y_pred)\n",
        "                df_report[label][model_name]['F1'] = sklearn.metrics.f1_score(_y,_y_pred)\n",
        "                df_report[label][model_name]['AUC'] = sklearn.metrics.roc_auc_score(_y,_y_proba)\n",
        "            else:\n",
        "                pass \n",
        "    return df_report"
      ],
      "id": "6c9b6743-e07e-4dfa-a89c-f8acab1fd128"
    },
    {
      "cell_type": "code",
      "execution_count": 3,
      "metadata": {
        "tags": []
      },
      "outputs": [],
      "source": [
        "def fit_predict_save(path,experiments_index):\n",
        "    t1 = time.time()\n",
        "    df_train = df_trains_dct[experiments_index]\n",
        "    df_test = df_tests_dct[experiments_index]\n",
        "    predictor = TabularPredictor(label='type', eval_metric='acc', path=f\"AutogluonModels/{experiments_index}\",verbosity=False)\n",
        "    predictor.fit(\n",
        "        df_train,\n",
        "        hyperparameters = {\n",
        "            'NN_TORCH': {},\n",
        "            'GBM': [{'extra_trees': True, 'ag_args': {'name_suffix': 'XT'}}, {}, 'GBMLarge'],\n",
        "            'CAT': {},\n",
        "            'XGB': {},\n",
        "            'FASTAI': {},\n",
        "            'RF': [{'criterion': 'gini', 'ag_args': {'name_suffix': 'Gini', 'problem_types': ['binary', 'multiclass']}}, {'criterion': 'entropy', 'ag_args': {'name_suffix': 'Entr', 'problem_types': ['binary', 'multiclass']}}, {'criterion': 'squared_error', 'ag_args': {'name_suffix': 'MSE', 'problem_types': ['regression', 'quantile']}}],  'XT': [{'criterion': 'gini', 'ag_args': {'name_suffix': 'Gini', 'problem_types': ['binary', 'multiclass']}}, {'criterion': 'entropy', 'ag_args': {'name_suffix': 'Entr', 'problem_types': ['binary', 'multiclass']}}, {'criterion': 'squared_error', 'ag_args': {'name_suffix': 'MSE', 'problem_types': ['regression', 'quantile']}}],\n",
        "            'KNN': [{'weights': 'uniform', 'ag_args': {'name_suffix': 'Unif'}}, {'weights': 'distance', 'ag_args': {'name_suffix': 'Dist'}}],\n",
        "        },\n",
        "    )\n",
        "    df_report = report(predictor,df_test)\n",
        "    df_report.to_csv(f\"{path}{experiments_index}.csv\")\n",
        "    t2 = time.time()\n",
        "    print(f\"{experiments_index} -- 완료 (걸린시간 = {(t2-t1)/60:.4f} 분)\")"
      ],
      "id": "9b86446c-8b5d-486e-a24d-2a7402eb052a"
    },
    {
      "cell_type": "markdown",
      "metadata": {},
      "source": [
        "# 2. Data"
      ],
      "id": "dff6a28b-db7b-433c-a261-034686115815"
    },
    {
      "cell_type": "code",
      "execution_count": 4,
      "metadata": {
        "tags": []
      },
      "outputs": [],
      "source": [
        "with open('실험셋업/df_trains_dct.pickle', 'rb') as f:    \n",
        "    df_trains_dct = pickle.load(f)\n",
        "with open('실험셋업/df_tests_dct.pickle', 'rb') as f:    \n",
        "    df_tests_dct = pickle.load(f)    "
      ],
      "id": "45464863-b5a0-4dcc-a84f-38f903ebd0d6"
    },
    {
      "cell_type": "markdown",
      "metadata": {},
      "source": [
        "# 3. 실험"
      ],
      "id": "28ced8f7-1c9d-4cc5-bd93-c9dc17b41b53"
    },
    {
      "cell_type": "code",
      "execution_count": 5,
      "metadata": {
        "tags": []
      },
      "outputs": [
        {
          "output_type": "display_data",
          "metadata": {},
          "data": {
            "text/plain": [
              "dict_keys(['실험1/시나리오1', '실험1/시나리오2', '실험2/시나리오0a', '실험2/시나리오0b', '실험2/시나리오0c', '실험2/시나리오1a', '실험2/시나리오1b', '실험2/시나리오1c', '실험2/시나리오2a', '실험2/시나리오2b', '실험2/시나리오2c', '실험2/시나리오3a', '실험2/시나리오3b', '실험2/시나리오3c', '실험2/시나리오4a', '실험2/시나리오4b', '실험2/시나리오4c', '실험3/시나리오0a', '실험3/시나리오0b', '실험3/시나리오1a', '실험3/시나리오1b', '실험3/시나리오2a', '실험3/시나리오2b', '실험3/시나리오3a', '실험3/시나리오3b', '실험3/시나리오4a', '실험3/시나리오4b', '실험3/시나리오5a', '실험3/시나리오5b', '실험3/시나리오6a', '실험3/시나리오6b', '실험3/시나리오7a', '실험3/시나리오7b'])"
            ]
          }
        }
      ],
      "source": [
        "df_trains_dct.keys()"
      ],
      "id": "981896b8-307a-4442-9516-50ee3458d576"
    },
    {
      "cell_type": "markdown",
      "metadata": {},
      "source": [
        "## A. 실험1"
      ],
      "id": "f370415c-5469-43e8-9819-db84cea3cf92"
    },
    {
      "cell_type": "code",
      "execution_count": 13,
      "metadata": {
        "tags": []
      },
      "outputs": [],
      "source": [
        "# ![ -d \"실험결과/실험1\" ] || mkdir \"실험결과/실험1\"\n",
        "# fit_predict_save(path='실험결과/',experiments_index='실험1/시나리오1')\n",
        "# fit_predict_save(path='실험결과/',experiments_index='실험1/시나리오2')"
      ],
      "id": "e1f6152b-e12e-490e-bad7-4298a62e8396"
    },
    {
      "cell_type": "markdown",
      "metadata": {},
      "source": [
        "## B. 실험2"
      ],
      "id": "4a383196-abb3-44b7-9e1b-900a47041726"
    },
    {
      "cell_type": "code",
      "execution_count": null,
      "metadata": {
        "tags": []
      },
      "outputs": [
        {
          "output_type": "stream",
          "name": "stdout",
          "text": [
            "실험2/시나리오0a -- 완료 (걸린시간 = 14.1333 분)\n",
            "실험2/시나리오1a -- 완료 (걸린시간 = 16.1246 분)\n",
            "실험2/시나리오1b -- 완료 (걸린시간 = 15.6699 분)\n",
            "실험2/시나리오1c -- 완료 (걸린시간 = 15.3118 분)\n",
            "실험2/시나리오2a -- 완료 (걸린시간 = 15.6923 분)\n",
            "실험2/시나리오2b -- 완료 (걸린시간 = 14.2966 분)\n",
            "실험2/시나리오2c -- 완료 (걸린시간 = 15.3765 분)\n",
            "실험2/시나리오3a -- 완료 (걸린시간 = 17.0679 분)\n",
            "실험2/시나리오3b -- 완료 (걸린시간 = 15.2641 분)\n",
            "실험2/시나리오3c -- 완료 (걸린시간 = 13.3913 분)\n",
            "실험2/시나리오4a -- 완료 (걸린시간 = 15.5517 분)"
          ]
        }
      ],
      "source": [
        "![ -d \"실험셋업/실험2\" ] || mkdir \"실험셋업/실험2\"\n",
        "fit_predict_save('실험결과/','실험2/시나리오0a')\n",
        "fit_predict_save('실험결과/','실험2/시나리오1a')\n",
        "fit_predict_save('실험결과/','실험2/시나리오1b')\n",
        "fit_predict_save('실험결과/','실험2/시나리오1c')\n",
        "fit_predict_save('실험결과/','실험2/시나리오2a')\n",
        "fit_predict_save('실험결과/','실험2/시나리오2b')\n",
        "fit_predict_save('실험결과/','실험2/시나리오2c')\n",
        "fit_predict_save('실험결과/','실험2/시나리오3a')\n",
        "fit_predict_save('실험결과/','실험2/시나리오3b')\n",
        "fit_predict_save('실험결과/','실험2/시나리오3c')\n",
        "fit_predict_save('실험결과/','실험2/시나리오4a')\n",
        "fit_predict_save('실험결과/','실험2/시나리오4b')\n",
        "fit_predict_save('실험결과/','실험2/시나리오4c')"
      ],
      "id": "623c1339-2e5c-4949-9e7d-eeba29ed9c36"
    },
    {
      "cell_type": "markdown",
      "metadata": {},
      "source": [
        "## C. 실험3"
      ],
      "id": "e3ecab6b-2360-4870-bfce-333d17e78d84"
    },
    {
      "cell_type": "code",
      "execution_count": 5,
      "metadata": {
        "tags": []
      },
      "outputs": [
        {
          "output_type": "stream",
          "name": "stdout",
          "text": [
            "실험3/시나리오0a -- 완료 (걸린시간 = 4.0562 분)\n",
            "실험3/시나리오1a -- 완료 (걸린시간 = 4.4870 분)\n",
            "실험3/시나리오1b -- 완료 (걸린시간 = 4.6460 분)\n",
            "실험3/시나리오2a -- 완료 (걸린시간 = 4.2561 분)\n",
            "실험3/시나리오2b -- 완료 (걸린시간 = 3.9312 분)\n",
            "실험3/시나리오3a -- 완료 (걸린시간 = 4.5184 분)\n",
            "실험3/시나리오3b -- 완료 (걸린시간 = 4.0638 분)\n",
            "실험3/시나리오4a -- 완료 (걸린시간 = 4.5813 분)\n",
            "실험3/시나리오4b -- 완료 (걸린시간 = 4.0858 분)\n",
            "실험3/시나리오5a -- 완료 (걸린시간 = 4.4831 분)\n",
            "실험3/시나리오5b -- 완료 (걸린시간 = 4.2321 분)\n",
            "실험3/시나리오6a -- 완료 (걸린시간 = 4.5741 분)\n",
            "실험3/시나리오6b -- 완료 (걸린시간 = 4.3771 분)\n",
            "실험3/시나리오7a -- 완료 (걸린시간 = 4.5339 분)\n",
            "실험3/시나리오7b -- 완료 (걸린시간 = 4.1424 분)"
          ]
        }
      ],
      "source": [
        "![ -d \"실험결과/실험3\" ] || mkdir \"실험결과/실험3\"\n",
        "fit_predict_save('실험결과/','실험3/시나리오0a')\n",
        "fit_predict_save('실험결과/','실험3/시나리오1a')\n",
        "fit_predict_save('실험결과/','실험3/시나리오1b')\n",
        "fit_predict_save('실험결과/','실험3/시나리오2a')\n",
        "fit_predict_save('실험결과/','실험3/시나리오2b')\n",
        "fit_predict_save('실험결과/','실험3/시나리오3a')\n",
        "fit_predict_save('실험결과/','실험3/시나리오3b')\n",
        "fit_predict_save('실험결과/','실험3/시나리오4a')\n",
        "fit_predict_save('실험결과/','실험3/시나리오4b')\n",
        "fit_predict_save('실험결과/','실험3/시나리오5a')\n",
        "fit_predict_save('실험결과/','실험3/시나리오5b')\n",
        "fit_predict_save('실험결과/','실험3/시나리오6a')\n",
        "fit_predict_save('실험결과/','실험3/시나리오6b')\n",
        "fit_predict_save('실험결과/','실험3/시나리오7a')\n",
        "fit_predict_save('실험결과/','실험3/시나리오7b')"
      ],
      "id": "26d57a63-f7ff-4c16-834e-46d838e0adce"
    }
  ],
  "nbformat": 4,
  "nbformat_minor": 5,
  "metadata": {
    "kernelspec": {
      "name": "python3",
      "display_name": "Python 3 (ipykernel)",
      "language": "python"
    },
    "language_info": {
      "name": "python",
      "codemirror_mode": {
        "name": "ipython",
        "version": "3"
      },
      "file_extension": ".py",
      "mimetype": "text/x-python",
      "nbconvert_exporter": "python",
      "pygments_lexer": "ipython3",
      "version": "3.10.13"
    }
  }
}