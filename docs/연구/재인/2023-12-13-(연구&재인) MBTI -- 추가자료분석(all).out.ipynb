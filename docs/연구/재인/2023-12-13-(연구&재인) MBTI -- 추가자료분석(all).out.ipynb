{
  "cells": [
    {
      "cell_type": "markdown",
      "metadata": {},
      "source": [
        "# (연구&재인) MBTI – 추가자료분석 (all)\n",
        "\n",
        "신록예찬  \n",
        "2023-12-13\n",
        "\n",
        "# 1. Imports"
      ],
      "id": "f5bdf6fc-9e30-410f-bf37-bfeee586d0f7"
    },
    {
      "cell_type": "code",
      "execution_count": 1,
      "metadata": {
        "tags": []
      },
      "outputs": [
        {
          "output_type": "stream",
          "name": "stderr",
          "text": [
            "/root/anaconda3/envs/ag/lib/python3.10/site-packages/tqdm/auto.py:21: TqdmWarning: IProgress not found. Please update jupyter and ipywidgets. See https://ipywidgets.readthedocs.io/en/stable/user_install.html\n",
            "  from .autonotebook import tqdm as notebook_tqdm"
          ]
        }
      ],
      "source": [
        "import pandas as pd\n",
        "import sklearn.model_selection\n",
        "import sklearn.metrics\n",
        "from autogluon.multimodal import MultiModalPredictor\n",
        "from autogluon.tabular import TabularPredictor"
      ],
      "id": "639ade2e-45c7-4812-acd5-8e9cf9eea1aa"
    },
    {
      "cell_type": "markdown",
      "metadata": {},
      "source": [
        "# 2. Data"
      ],
      "id": "cd18b7c2-9eed-4b5e-b180-aff85ecc9741"
    },
    {
      "cell_type": "code",
      "execution_count": 5,
      "metadata": {
        "tags": []
      },
      "outputs": [],
      "source": [
        "df = pd.read_csv('mbti_1.csv')\n",
        "df_train, df_test = sklearn.model_selection.train_test_split(df,test_size=0.5,random_state=42)"
      ],
      "id": "c849610d-ad44-4329-bce7-b289eba195b1"
    },
    {
      "cell_type": "code",
      "execution_count": 6,
      "metadata": {
        "tags": []
      },
      "outputs": [],
      "source": [
        "labels = list(set(df_train.type))"
      ],
      "id": "ea0ceee9-5b7c-488b-893e-a501e0648405"
    },
    {
      "cell_type": "code",
      "execution_count": 7,
      "metadata": {
        "tags": []
      },
      "outputs": [],
      "source": [
        "df_additinal = pd.read_csv('MBTI.csv')\n",
        "df_additinal2= df_additinal.copy()[429:]"
      ],
      "id": "50d2a4ad-a29a-4a7b-a0cf-5ac1137c161c"
    },
    {
      "cell_type": "code",
      "execution_count": 112,
      "metadata": {
        "tags": []
      },
      "outputs": [
        {
          "output_type": "display_data",
          "metadata": {},
          "data": {
            "text/plain": [
              "type\n",
              "ESTJ    372\n",
              "ESFJ    194\n",
              "ENFJ    164\n",
              "ESFP     91\n",
              "ESTP     57\n",
              "ISFJ     32\n",
              "ENFP      3\n",
              "Name: count, dtype: int64"
            ]
          }
        }
      ],
      "source": [
        "df_additinal2['type'].value_counts()"
      ],
      "id": "80212529-aef7-4a51-b01a-d2c360bfdc41"
    },
    {
      "cell_type": "code",
      "execution_count": 114,
      "metadata": {
        "tags": []
      },
      "outputs": [],
      "source": [
        "for i,post in enumerate(df_additinal['posts']):\n",
        "    for label in labels:\n",
        "        if label in post: \n",
        "            df_additinal['posts'][i] = post.replace(label,'')"
      ],
      "id": "ca9ff63b-2687-4e1c-a01f-72ce7373d3cb"
    },
    {
      "cell_type": "code",
      "execution_count": 115,
      "metadata": {
        "tags": []
      },
      "outputs": [],
      "source": [
        "df_train2 = pd.concat([df_train,df_additinal],axis=0).reset_index(drop=True)"
      ],
      "id": "9ba56214-d885-43d6-8039-c510e49fb44b"
    },
    {
      "cell_type": "code",
      "execution_count": 116,
      "metadata": {
        "tags": []
      },
      "outputs": [
        {
          "output_type": "display_data",
          "metadata": {},
          "data": {
            "text/html": [
              "\n",
              "<p>5679 rows × 2 columns</p>\n",
              "</div>"
            ]
          }
        }
      ],
      "source": [
        "df_train2"
      ],
      "id": "5865fc9a-12e3-46f2-9e84-c5d2171db2b8"
    },
    {
      "cell_type": "markdown",
      "metadata": {},
      "source": [
        "# 3. Tabular"
      ],
      "id": "929eb931-d7a7-4ec4-9d4f-f4cb1733df5f"
    },
    {
      "cell_type": "code",
      "execution_count": 117,
      "metadata": {
        "tags": []
      },
      "outputs": [
        {
          "output_type": "stream",
          "name": "stderr",
          "text": [
            "No path specified. Models will be saved in: \"AutogluonModels/ag-20231214_011537\"\n",
            "No presets specified! To achieve strong results with AutoGluon, it is recommended to use the available presets.\n",
            "    Recommended Presets (For more details refer to https://auto.gluon.ai/stable/tutorials/tabular/tabular-essentials.html#presets):\n",
            "    presets='best_quality'   : Maximize accuracy. Default time_limit=3600.\n",
            "    presets='high_quality'   : Strong accuracy with fast inference speed. Default time_limit=3600.\n",
            "    presets='good_quality'   : Good accuracy with very fast inference speed. Default time_limit=3600.\n",
            "    presets='medium_quality' : Fast training time, ideal for initial prototyping.\n",
            "Beginning AutoGluon training ...\n",
            "AutoGluon will save models to \"AutogluonModels/ag-20231214_011537\"\n",
            "=================== System Info ===================\n",
            "AutoGluon Version:  1.0.0\n",
            "Python Version:     3.10.13\n",
            "Operating System:   Linux\n",
            "Platform Machine:   x86_64\n",
            "Platform Version:   #140-Ubuntu SMP Thu Aug 4 02:23:37 UTC 2022\n",
            "CPU Count:          128\n",
            "Memory Avail:       374.52 GB / 503.74 GB (74.3%)\n",
            "Disk Space Avail:   976.53 GB / 1757.88 GB (55.6%)\n",
            "===================================================\n",
            "Train Data Rows:    5679\n",
            "Train Data Columns: 1\n",
            "Label Column:       type\n",
            "AutoGluon infers your prediction problem is: 'multiclass' (because dtype of label-column == object).\n",
            "    First 10 (of 22) unique label values:  ['INFP', 'ENTP', 'ENFP', 'INTP', 'INTJ', 'ENFJ', 'INFJ', 'ISFP', 'ISTJ', 'ISTP']\n",
            "    If 'multiclass' is not the correct problem_type, please manually specify the problem_type parameter during predictor init (You may specify problem_type as one of: ['binary', 'multiclass', 'regression'])\n",
            "Problem Type:       multiclass\n",
            "Preprocessing data ...\n",
            "Warning: Some classes in the training set have fewer than 10 examples. AutoGluon will only keep 16 out of 22 classes for training and will not try to predict the rare classes. To keep more classes, increase the number of datapoints from these rare classes in the training data or reduce label_count_threshold.\n",
            "Fraction of data from classes with at least 10 examples that will be kept for training models: 0.9984152139461173\n",
            "Train Data Class Count: 16\n",
            "Using Feature Generators to preprocess the data ...\n",
            "Fitting AutoMLPipelineFeatureGenerator...\n",
            "    Available Memory:                    383556.94 MB\n",
            "    Train Data (Original)  Memory Usage: 45.00 MB (0.0% of available memory)\n",
            "    Inferring data type of each feature based on column values. Set feature_metadata_in to manually specify special dtypes of the features.\n",
            "    Stage 1 Generators:\n",
            "        Fitting AsTypeFeatureGenerator...\n",
            "    Stage 2 Generators:\n",
            "        Fitting FillNaFeatureGenerator...\n",
            "    Stage 3 Generators:\n",
            "        Fitting CategoryFeatureGenerator...\n",
            "            Fitting CategoryMemoryMinimizeFeatureGenerator...\n",
            "        Fitting TextSpecialFeatureGenerator...\n",
            "            Fitting BinnedFeatureGenerator...\n",
            "            Fitting DropDuplicatesFeatureGenerator...\n",
            "        Fitting TextNgramFeatureGenerator...\n",
            "            Fitting CountVectorizer for text features: ['posts']\n",
            "            CountVectorizer fit with vocabulary size = 10000\n",
            "    Stage 4 Generators:\n",
            "        Fitting DropUniqueFeatureGenerator...\n",
            "    Stage 5 Generators:\n",
            "        Fitting DropDuplicatesFeatureGenerator...\n",
            "    Types of features in original data (raw dtype, special dtypes):\n",
            "        ('object', ['text']) : 1 | ['posts']\n",
            "    Types of features in processed data (raw dtype, special dtypes):\n",
            "        ('category', ['text_as_category'])  :    1 | ['posts']\n",
            "        ('int', ['binned', 'text_special']) :   38 | ['posts.char_count', 'posts.word_count', 'posts.capital_ratio', 'posts.lower_ratio', 'posts.digit_ratio', ...]\n",
            "        ('int', ['text_ngram'])             : 9970 | ['__nlp__.00', '__nlp__.000', '__nlp__.10', '__nlp__.10 years', '__nlp__.100', ...]\n",
            "    114.2s = Fit runtime\n",
            "    1 features in original data used to generate 10009 features in processed data.\n",
            "    Train Data (Processed) Memory Usage: 108.04 MB (0.0% of available memory)\n",
            "Data preprocessing and feature engineering runtime = 116.66s ...\n",
            "AutoGluon will gauge predictive performance using evaluation metric: 'accuracy'\n",
            "    To change this, specify the eval_metric parameter of Predictor()\n",
            "Automatically generating train/validation split with holdout_frac=0.1, Train Rows: 5103, Val Rows: 567\n",
            "User-specified model hyperparameters to be fit:\n",
            "{\n",
            "    'NN_TORCH': {},\n",
            "    'GBM': [{'extra_trees': True, 'ag_args': {'name_suffix': 'XT'}}, {}, 'GBMLarge'],\n",
            "    'CAT': {},\n",
            "    'XGB': {},\n",
            "    'FASTAI': {},\n",
            "    'RF': [{'criterion': 'gini', 'ag_args': {'name_suffix': 'Gini', 'problem_types': ['binary', 'multiclass']}}, {'criterion': 'entropy', 'ag_args': {'name_suffix': 'Entr', 'problem_types': ['binary', 'multiclass']}}, {'criterion': 'squared_error', 'ag_args': {'name_suffix': 'MSE', 'problem_types': ['regression', 'quantile']}}],\n",
            "    'XT': [{'criterion': 'gini', 'ag_args': {'name_suffix': 'Gini', 'problem_types': ['binary', 'multiclass']}}, {'criterion': 'entropy', 'ag_args': {'name_suffix': 'Entr', 'problem_types': ['binary', 'multiclass']}}, {'criterion': 'squared_error', 'ag_args': {'name_suffix': 'MSE', 'problem_types': ['regression', 'quantile']}}],\n",
            "    'KNN': [{'weights': 'uniform', 'ag_args': {'name_suffix': 'Unif'}}, {'weights': 'distance', 'ag_args': {'name_suffix': 'Dist'}}],\n",
            "}\n",
            "Fitting 13 L1 models ...\n",
            "Fitting model: KNeighborsUnif ...\n",
            "    0.2945   = Validation score   (accuracy)\n",
            "    6.51s    = Training   runtime\n",
            "    1.36s    = Validation runtime\n",
            "Fitting model: KNeighborsDist ...\n",
            "    0.3298   = Validation score   (accuracy)\n",
            "    6.33s    = Training   runtime\n",
            "    1.4s     = Validation runtime\n",
            "Fitting model: NeuralNetFastAI ...\n",
            "    0.2892   = Validation score   (accuracy)\n",
            "    8.62s    = Training   runtime\n",
            "    0.01s    = Validation runtime\n",
            "Fitting model: LightGBMXT ...\n",
            "    0.7125   = Validation score   (accuracy)\n",
            "    169.24s  = Training   runtime\n",
            "    0.1s     = Validation runtime\n",
            "Fitting model: LightGBM ...\n",
            "    0.7037   = Validation score   (accuracy)\n",
            "    143.3s   = Training   runtime\n",
            "    0.09s    = Validation runtime\n",
            "Fitting model: RandomForestGini ...\n",
            "    0.5873   = Validation score   (accuracy)\n",
            "    12.44s   = Training   runtime\n",
            "    0.45s    = Validation runtime\n",
            "Fitting model: RandomForestEntr ...\n",
            "    0.5714   = Validation score   (accuracy)\n",
            "    18.51s   = Training   runtime\n",
            "    0.13s    = Validation runtime\n",
            "Fitting model: CatBoost ...\n",
            "    Many features detected (10009), dynamically setting 'colsample_bylevel' to 0.09991008092716555 to speed up training (Default = 1).\n",
            "    To disable this functionality, explicitly specify 'colsample_bylevel' in the model hyperparameters.\n",
            "    0.7019   = Validation score   (accuracy)\n",
            "    57.55s   = Training   runtime\n",
            "    1.0s     = Validation runtime\n",
            "Fitting model: ExtraTreesGini ...\n",
            "    0.515    = Validation score   (accuracy)\n",
            "    12.18s   = Training   runtime\n",
            "    0.12s    = Validation runtime\n",
            "Fitting model: ExtraTreesEntr ...\n",
            "    0.4515   = Validation score   (accuracy)\n",
            "    12.01s   = Training   runtime\n",
            "    0.11s    = Validation runtime\n",
            "Fitting model: XGBoost ...\n",
            "    0.7143   = Validation score   (accuracy)\n",
            "    56.77s   = Training   runtime\n",
            "    0.07s    = Validation runtime\n",
            "Fitting model: NeuralNetTorch ...\n",
            "    0.3016   = Validation score   (accuracy)\n",
            "    11.84s   = Training   runtime\n",
            "    0.02s    = Validation runtime\n",
            "Fitting model: LightGBMLarge ...\n",
            "    0.7055   = Validation score   (accuracy)\n",
            "    273.52s  = Training   runtime\n",
            "    0.08s    = Validation runtime\n",
            "Fitting model: WeightedEnsemble_L2 ...\n",
            "    Ensemble Weights: {'CatBoost': 0.571, 'LightGBMXT': 0.143, 'XGBoost': 0.143, 'NeuralNetTorch': 0.143}\n",
            "    0.7337   = Validation score   (accuracy)\n",
            "    0.62s    = Training   runtime\n",
            "    0.0s     = Validation runtime\n",
            "AutoGluon training complete, total runtime = 925.58s ... Best model: \"WeightedEnsemble_L2\"\n",
            "TabularPredictor saved. To load, use: predictor = TabularPredictor.load(\"AutogluonModels/ag-20231214_011537\")"
          ]
        },
        {
          "output_type": "display_data",
          "metadata": {},
          "data": {
            "text/html": [
              "\n",
              "</div>"
            ]
          }
        }
      ],
      "source": [
        "predictor = TabularPredictor(label='type', eval_metric='acc')\n",
        "predictor.fit(df_train2)\n",
        "#predictor = TabularPredictor.load(\"AutogluonModels/ag-20231214_002525\")\n",
        "predictor.leaderboard()"
      ],
      "id": "af0c12df-a563-4c5a-a86a-b8be8270219b"
    },
    {
      "cell_type": "code",
      "execution_count": 118,
      "metadata": {
        "tags": []
      },
      "outputs": [
        {
          "output_type": "display_data",
          "metadata": {},
          "data": {
            "text/plain": [
              "{'accuracy': 0.6680497925311203,\n",
              " 'balanced_accuracy': 0.4269238301463123,\n",
              " 'mcc': 0.6136189980032133}"
            ]
          }
        }
      ],
      "source": [
        "predictor.evaluate(df_test)"
      ],
      "id": "f07e53ed-0f46-4132-8a4a-9d5937fac790"
    },
    {
      "cell_type": "code",
      "execution_count": 119,
      "metadata": {
        "tags": []
      },
      "outputs": [
        {
          "output_type": "display_data",
          "metadata": {},
          "data": {
            "text/plain": [
              "2802    INTP\n",
              "2166    INFJ\n",
              "1919    INTP\n",
              "360     ENFP\n",
              "1115    INTJ\n",
              "        ... \n",
              "1415    ENTP\n",
              "7269    INFP\n",
              "127     INFJ\n",
              "3474    INTP\n",
              "5960    INFJ\n",
              "Name: type, Length: 4338, dtype: object"
            ]
          }
        }
      ],
      "source": [
        "predictor.predict(df_test)"
      ],
      "id": "9a492eb3-17a5-433d-b31f-4f0f0eb6d100"
    },
    {
      "cell_type": "code",
      "execution_count": 120,
      "metadata": {
        "tags": []
      },
      "outputs": [],
      "source": [
        "model_names = predictor.model_names()\n",
        "yhats = {model_name:predictor.predict(df_test,model=model_name) for model_name in model_names}"
      ],
      "id": "5e4707a7-bc43-4db8-8a09-33544fb04fd0"
    },
    {
      "cell_type": "code",
      "execution_count": 121,
      "metadata": {
        "tags": []
      },
      "outputs": [],
      "source": [
        "y = df_test['type']"
      ],
      "id": "c1508870-9bad-44d0-8d89-579c43c54ca4"
    },
    {
      "cell_type": "code",
      "execution_count": 122,
      "metadata": {
        "tags": []
      },
      "outputs": [
        {
          "output_type": "display_data",
          "metadata": {},
          "data": {
            "text/plain": [
              "2802    ENFP\n",
              "2166    INFJ\n",
              "1919    INTJ\n",
              "360     INTJ\n",
              "1115    ENTP\n",
              "        ... \n",
              "1415    INTP\n",
              "7269    INTJ\n",
              "127     INFP\n",
              "3474    ENTP\n",
              "5960    ENFP\n",
              "Name: type, Length: 4338, dtype: object"
            ]
          }
        }
      ],
      "source": [
        "yhats['KNeighborsUnif']"
      ],
      "id": "bdb3ec1e-3035-4512-b838-482befa1bfe2"
    },
    {
      "cell_type": "code",
      "execution_count": 123,
      "metadata": {
        "tags": []
      },
      "outputs": [
        {
          "output_type": "display_data",
          "metadata": {},
          "data": {
            "text/plain": [
              "2802    INTP\n",
              "2166    INTJ\n",
              "1919    INTP\n",
              "360     ENFP\n",
              "1115    ENTJ\n",
              "        ... \n",
              "1415    ENFJ\n",
              "7269    ISFJ\n",
              "127     INFJ\n",
              "3474    INTP\n",
              "5960    INFP\n",
              "Name: type, Length: 4338, dtype: object"
            ]
          }
        }
      ],
      "source": [
        "y"
      ],
      "id": "0940127e-60f7-4ba4-8f39-3e3770404f3e"
    },
    {
      "cell_type": "code",
      "execution_count": 124,
      "metadata": {
        "tags": []
      },
      "outputs": [
        {
          "output_type": "display_data",
          "metadata": {},
          "data": {
            "text/plain": [
              "dict_keys(['KNeighborsUnif', 'KNeighborsDist', 'NeuralNetFastAI', 'LightGBMXT', 'LightGBM', 'RandomForestGini', 'RandomForestEntr', 'CatBoost', 'ExtraTreesGini', 'ExtraTreesEntr', 'XGBoost', 'NeuralNetTorch', 'LightGBMLarge', 'WeightedEnsemble_L2'])"
            ]
          }
        }
      ],
      "source": [
        "yhats.keys()"
      ],
      "id": "e046ad7b-8b4b-4ba6-8a20-24ad8edac1bf"
    },
    {
      "cell_type": "code",
      "execution_count": 125,
      "metadata": {
        "tags": []
      },
      "outputs": [
        {
          "output_type": "stream",
          "name": "stdout",
          "text": [
            "              precision    recall  f1-score   support\n",
            "\n",
            "        ENFJ       0.54      0.29      0.38        92\n",
            "        ENFP       0.64      0.63      0.63       327\n",
            "        ENTJ       0.69      0.35      0.46       115\n",
            "        ENTP       0.65      0.64      0.64       337\n",
            "        ESFJ       0.83      0.25      0.38        20\n",
            "        ESFP       0.25      0.04      0.07        24\n",
            "        ESTJ       0.50      0.12      0.20        24\n",
            "        ESTP       0.61      0.27      0.37        41\n",
            "        INFJ       0.69      0.70      0.70       745\n",
            "        INFP       0.66      0.80      0.72       916\n",
            "        INTJ       0.64      0.67      0.66       523\n",
            "        INTP       0.68      0.74      0.71       675\n",
            "        ISFJ       0.81      0.41      0.54        86\n",
            "        ISFP       0.57      0.50      0.53       130\n",
            "        ISTJ       0.78      0.44      0.56       113\n",
            "        ISTP       0.69      0.64      0.66       170\n",
            "\n",
            "    accuracy                           0.66      4338\n",
            "   macro avg       0.64      0.47      0.51      4338\n",
            "weighted avg       0.66      0.66      0.65      4338\n"
          ]
        }
      ],
      "source": [
        "print(sklearn.metrics.classification_report(y,yhats['LightGBMLarge']))"
      ],
      "id": "e44655db-31d1-4eb4-a4d0-8176f0923129"
    },
    {
      "cell_type": "code",
      "execution_count": null,
      "metadata": {},
      "outputs": [],
      "source": [
        "              precision    recall  f1-score   support\n",
        "\n",
        "        ENFJ       0.68      0.35      0.46        92\n",
        "        ENFP       0.63      0.63      0.63       327\n",
        "        ENTJ       0.65      0.41      0.50       115\n",
        "        ENTP       0.63      0.61      0.62       337\n",
        "        ESFJ       0.67      0.10      0.17        20\n",
        "        ESFP       0.00      0.00      0.00        24\n",
        "        ESTJ       0.50      0.08      0.14        24\n",
        "        ESTP       0.71      0.24      0.36        41\n",
        "        INFJ       0.70      0.71      0.70       745\n",
        "        INFP       0.64      0.81      0.72       916\n",
        "        INTJ       0.65      0.67      0.66       523\n",
        "        INTP       0.68      0.73      0.70       675\n",
        "        ISFJ       0.84      0.44      0.58        86\n",
        "        ISFP       0.59      0.42      0.49       130\n",
        "        ISTJ       0.71      0.43      0.54       113\n",
        "        ISTP       0.69      0.63      0.66       170\n",
        "\n",
        "    accuracy                           0.66      4338\n",
        "   macro avg       0.62      0.45      0.50      4338\n",
        "weighted avg       0.66      0.66      0.65      4338\n"
      ],
      "id": "44d82af7-586d-4cde-a252-96b29944ba5c"
    }
  ],
  "nbformat": 4,
  "nbformat_minor": 5,
  "metadata": {
    "kernelspec": {
      "name": "python3",
      "display_name": "Python 3 (ipykernel)",
      "language": "python"
    },
    "language_info": {
      "name": "python",
      "codemirror_mode": {
        "name": "ipython",
        "version": "3"
      },
      "file_extension": ".py",
      "mimetype": "text/x-python",
      "nbconvert_exporter": "python",
      "pygments_lexer": "ipython3",
      "version": "3.10.13"
    }
  }
}