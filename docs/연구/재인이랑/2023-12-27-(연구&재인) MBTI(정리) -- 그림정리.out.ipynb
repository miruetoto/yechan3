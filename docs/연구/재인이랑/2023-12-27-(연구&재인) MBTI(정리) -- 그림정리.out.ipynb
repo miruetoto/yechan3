{
  "cells": [
    {
      "cell_type": "markdown",
      "metadata": {},
      "source": [
        "# (연구&재인) MBTI(정리) – 논문그림정리\n",
        "\n",
        "신록예찬  \n",
        "2023-12-27"
      ],
      "id": "fd9fc59a-3fbf-4dbe-b9c7-e5e533c1e9d8"
    },
    {
      "cell_type": "code",
      "execution_count": 84,
      "metadata": {
        "tags": []
      },
      "outputs": [],
      "source": [
        "import pandas as pd \n",
        "import plotly.express as px\n",
        "import plotly.io as pio\n",
        "import pickle\n",
        "import itables\n",
        "pio.templates.default = \"plotly_white\"\n",
        "df_kaggle = pd.read_csv(\"mbti_1.csv\")\n",
        "file_names = [\n",
        "    \"원래자료.pkl\",\n",
        "    \"실험1결과요약.pkl\",\n",
        "    \"실험1모델비교AUC.pkl\",\n",
        "    \"실험1모델비교F1.pkl\",\n",
        "    \"실험1모델비교PRE.pkl\",\n",
        "    \"실험1모델비교REC.pkl\",\n",
        "    \"실험셋업시각화_실험1시나리오1.pkl\",\n",
        "    \"실험셋업시각화_실험3시나리오2.pkl\",\n",
        "    \"실험셋업시각화_실험1시나리오2.pkl\",\n",
        "    \"실험셋업시각화_실험3시나리오3.pkl\",\n",
        "    \"실험셋업시각화_실험1실험계획.pkl\",\n",
        "    \"실험셋업시각화_실험3시나리오4.pkl\",\n",
        "    \"실험셋업시각화_실험2시나리오0-3.pkl\",\n",
        "    \"실험셋업시각화_실험3시나리오5.pkl\",\n",
        "    \"실험2결과요약.pkl\",\n",
        "    \"실험셋업시각화_실험3시나리오6.pkl\",\n",
        "#    \"실험셋업시각화_실험3시나리오0.pkl\",\n",
        "    \"실험셋업시각화_실험3시나리오7.pkl\",\n",
        "    \"실험셋업시각화_실험3시나리오1.pkl\",\n",
        "    \"실험3결과요약.pkl\",\n",
        "    \"실험2결과요약.pkl\"\n",
        "]\n",
        "def _load(path):\n",
        "    with open(path,'rb') as f:\n",
        "        rtn = pickle.load(f)\n",
        "    return rtn \n",
        "    \n",
        "figs = {fname.replace('.pkl',''): _load(f'./Figures/{fname}') for fname in file_names}"
      ],
      "id": "c8a5a061-e92e-412b-8c2c-036f9e2b1ba6"
    },
    {
      "cell_type": "code",
      "execution_count": 106,
      "metadata": {
        "tags": []
      },
      "outputs": [],
      "source": [
        "figs['원래자료'].layout['title']['text']=''\n",
        "figs['원래자료'].layout['width']=700\n",
        "figs['원래자료'].layout['height']=350\n",
        "figs['원래자료'].write_image('Figures/원재자료.pdf')"
      ],
      "id": "e5fd05bc-dd54-4c88-a987-64c00d92a2b6"
    },
    {
      "cell_type": "markdown",
      "metadata": {},
      "source": [
        "<https://youtu.be/pllsvfYyWzo?si=xJ5WbiBtG_VwPYvL>"
      ],
      "id": "47cb0c02-d170-4c49-a680-0d0a4c38471d"
    },
    {
      "cell_type": "code",
      "execution_count": 126,
      "metadata": {
        "tags": []
      },
      "outputs": [],
      "source": [
        "figs['실험셋업시각화_실험1시나리오1'].layout['title']['text']=''\n",
        "figs['실험셋업시각화_실험1시나리오1'].layout['width']=700\n",
        "figs['실험셋업시각화_실험1시나리오1'].layout['height']=350\n",
        "figs['실험셋업시각화_실험1시나리오1'].write_image('Figures/실험셋업_실험1_시나리오1.pdf')"
      ],
      "id": "fdc1ff70-4cca-424e-992a-1a37ac639e2d"
    },
    {
      "cell_type": "code",
      "execution_count": 144,
      "metadata": {
        "tags": []
      },
      "outputs": [],
      "source": [
        "figs['실험셋업시각화_실험1시나리오2'].layout['title']['text']=''\n",
        "figs['실험셋업시각화_실험1시나리오2'].layout['width']=700\n",
        "figs['실험셋업시각화_실험1시나리오2'].layout['height']=350\n",
        "figs['실험셋업시각화_실험1시나리오2'].write_image('Figures/실험셋업_실험1_시나리오2.pdf')"
      ],
      "id": "660cd7e8-0df3-4b2b-b1f2-6eaadd453759"
    },
    {
      "cell_type": "code",
      "execution_count": 159,
      "metadata": {
        "tags": []
      },
      "outputs": [],
      "source": [
        "figs['실험1결과요약'].layout['title']['text']=''\n",
        "figs['실험1결과요약'].layout['width']=900\n",
        "figs['실험1결과요약'].layout['height']=300\n",
        "figs['실험1결과요약'].write_image('Figures/실험셋업_실험1_결과요약.pdf')\n",
        "figs['실험1결과요약'].write_image('/home/cgb2/Dropbox/06_papers/2023_GTP_졸업논문ver/EP1_RESULTS.pdf')"
      ],
      "id": "487cdcd6-101d-4568-a85b-50e7d51512e8"
    },
    {
      "cell_type": "code",
      "execution_count": 148,
      "metadata": {
        "tags": []
      },
      "outputs": [],
      "source": [
        "figs['실험1모델비교REC'].layout['title']['text']='' #'(a): Recall of all Models'\n",
        "figs['실험1모델비교REC'].layout['width']=700\n",
        "figs['실험1모델비교REC'].layout['height']=200\n",
        "figs['실험1모델비교REC'].write_image('Figures/실험1모델비교REC.pdf')\n",
        "figs['실험1모델비교REC'].write_image('/home/cgb2/Dropbox/06_papers/2023_GTP_졸업논문ver/EP1_REC.pdf')"
      ],
      "id": "bda7492d-2432-4b97-bfb8-c6735809866e"
    },
    {
      "cell_type": "code",
      "execution_count": 149,
      "metadata": {
        "tags": []
      },
      "outputs": [],
      "source": [
        "figs['실험1모델비교PRE'].layout['title']['text']='' #'(b): Precision of all Models'\n",
        "figs['실험1모델비교PRE'].layout['width']=700\n",
        "figs['실험1모델비교PRE'].layout['height']=200\n",
        "figs['실험1모델비교PRE'].write_image('Figures/실험1모델비교PRE.pdf')\n",
        "figs['실험1모델비교PRE'].write_image('/home/cgb2/Dropbox/06_papers/2023_GTP_졸업논문ver/EP1_PRE.pdf')"
      ],
      "id": "6f37210b-893d-4e09-bdc6-c0bdcdb94ca0"
    },
    {
      "cell_type": "code",
      "execution_count": 150,
      "metadata": {
        "tags": []
      },
      "outputs": [],
      "source": [
        "figs['실험1모델비교F1'].layout['title']['text']='' # '(c): F1 score of all Models'\n",
        "figs['실험1모델비교F1'].layout['width']=700\n",
        "figs['실험1모델비교F1'].layout['height']=200\n",
        "figs['실험1모델비교F1'].write_image('Figures/실험1모델비교F1.pdf')\n",
        "figs['실험1모델비교F1'].write_image('/home/cgb2/Dropbox/06_papers/2023_GTP_졸업논문ver/EP1_F1.pdf')"
      ],
      "id": "56e3d7e7-0ed4-412b-989a-82fa3c6609a2"
    },
    {
      "cell_type": "code",
      "execution_count": 151,
      "metadata": {
        "tags": []
      },
      "outputs": [],
      "source": [
        "figs['실험1모델비교AUC'].layout['title']['text']='' #'(d): AUC of all Models'\n",
        "figs['실험1모델비교AUC'].layout['width']=700\n",
        "figs['실험1모델비교AUC'].layout['height']=200\n",
        "figs['실험1모델비교AUC'].write_image('Figures/실험1모델비교AUC.pdf')\n",
        "figs['실험1모델비교AUC'].write_image('/home/cgb2/Dropbox/06_papers/2023_GTP_졸업논문ver/EP1_AUC.pdf')"
      ],
      "id": "cec8130f-b215-40eb-abc8-0cb3745a9bc1"
    },
    {
      "cell_type": "code",
      "execution_count": 133,
      "metadata": {
        "tags": []
      },
      "outputs": [],
      "source": [
        "figs['실험셋업시각화_실험2시나리오0-3'].layout['title']['text']=''\n",
        "figs['실험셋업시각화_실험2시나리오0-3'].layout['width']=700\n",
        "figs['실험셋업시각화_실험2시나리오0-3'].layout['height']=350\n",
        "figs['실험셋업시각화_실험2시나리오0-3'].write_image('Figures/실험셋업시각화_실험2시나리오03.pdf')"
      ],
      "id": "c886d1c7-c3fc-4f15-918d-be1306bbeb04"
    },
    {
      "cell_type": "code",
      "execution_count": 157,
      "metadata": {
        "tags": []
      },
      "outputs": [],
      "source": [
        "figs['실험2결과요약'].layout['title']['text']=''\n",
        "figs['실험2결과요약'].layout['width']=900\n",
        "figs['실험2결과요약'].layout['height']=350\n",
        "figs['실험2결과요약'].write_image('Figures/실험2결과요약.pdf')\n",
        "figs['실험2결과요약'].write_image('/home/cgb2/Dropbox/06_papers/2023_GTP_졸업논문ver/EP2_RESULTS.pdf')"
      ],
      "id": "493e910e-b82b-4e2f-9bc3-86ce3cf0e312"
    },
    {
      "cell_type": "code",
      "execution_count": 135,
      "metadata": {
        "tags": []
      },
      "outputs": [],
      "source": [
        "# figs['실험셋업시각화_실험3시나리오1'].layout['title']['text']='(a): Configuration of Experiment 3 (+20)'\n",
        "# figs['실험셋업시각화_실험3시나리오1'].layout['width']=1050\n",
        "# figs['실험셋업시각화_실험3시나리오1'].layout['height']=500\n",
        "# figs['실험셋업시각화_실험3시나리오1']"
      ],
      "id": "45afe4b8-2510-46bb-bde3-3bb3cb33e0b3"
    },
    {
      "cell_type": "code",
      "execution_count": 136,
      "metadata": {
        "tags": []
      },
      "outputs": [],
      "source": [
        "# figs['실험셋업시각화_실험3시나리오2'].layout['title']['text']='(b): Configuration of Experiment 3 (+40)'\n",
        "# figs['실험셋업시각화_실험3시나리오2'].layout['width']=1050\n",
        "# figs['실험셋업시각화_실험3시나리오2'].layout['height']=500\n",
        "# figs['실험셋업시각화_실험3시나리오2']"
      ],
      "id": "a6eefb78-06c9-4541-8ef8-9934ed8176ac"
    },
    {
      "cell_type": "code",
      "execution_count": 137,
      "metadata": {
        "tags": []
      },
      "outputs": [],
      "source": [
        "# figs['실험셋업시각화_실험3시나리오3'].layout['title']['text']='(c): Configuration of Experiment 3 (+60)'\n",
        "# figs['실험셋업시각화_실험3시나리오3'].layout['width']=1050\n",
        "# figs['실험셋업시각화_실험3시나리오3'].layout['height']=500\n",
        "# figs['실험셋업시각화_실험3시나리오3']"
      ],
      "id": "56f7c7cd-2804-49b4-8b21-27a57706c03d"
    },
    {
      "cell_type": "code",
      "execution_count": 138,
      "metadata": {
        "tags": []
      },
      "outputs": [],
      "source": [
        "# figs['실험셋업시각화_실험3시나리오4'].layout['title']['text']='(d): Configuration of Experiment 3 (+80)'\n",
        "# figs['실험셋업시각화_실험3시나리오4'].layout['width']=1050\n",
        "# figs['실험셋업시각화_실험3시나리오4'].layout['height']=500\n",
        "# figs['실험셋업시각화_실험3시나리오4']"
      ],
      "id": "40064ea6-e5a5-45d6-9c58-e8de05231e8c"
    },
    {
      "cell_type": "code",
      "execution_count": 139,
      "metadata": {
        "tags": []
      },
      "outputs": [],
      "source": [
        "# figs['실험셋업시각화_실험3시나리오5'].layout['title']['text']='(e): Configuration of Experiment 3 (+100)'\n",
        "# figs['실험셋업시각화_실험3시나리오5'].layout['width']=1050\n",
        "# figs['실험셋업시각화_실험3시나리오5'].layout['height']=500\n",
        "# figs['실험셋업시각화_실험3시나리오5']"
      ],
      "id": "1b05b920-4eef-4fda-ad1c-5568204987a9"
    },
    {
      "cell_type": "code",
      "execution_count": 140,
      "metadata": {
        "tags": []
      },
      "outputs": [],
      "source": [
        "# figs['실험셋업시각화_실험3시나리오6'].layout['title']['text']='(f): Configuration of Experiment 3 (+120)'\n",
        "# figs['실험셋업시각화_실험3시나리오6'].layout['width']=1050\n",
        "# figs['실험셋업시각화_실험3시나리오6'].layout['height']=500\n",
        "# figs['실험셋업시각화_실험3시나리오6']"
      ],
      "id": "86b532c6-b029-4ee8-b8c3-43ecedbb9d24"
    },
    {
      "cell_type": "code",
      "execution_count": 141,
      "metadata": {
        "tags": []
      },
      "outputs": [],
      "source": [
        "# figs['실험셋업시각화_실험3시나리오7'].layout['title']['text']='(g): Configuration of Experiment 3 (+140)'\n",
        "# figs['실험셋업시각화_실험3시나리오7'].layout['width']=1050\n",
        "# figs['실험셋업시각화_실험3시나리오7'].layout['height']=500\n",
        "# figs['실험셋업시각화_실험3시나리오7']"
      ],
      "id": "ce385929-bbeb-4a78-8fcb-beae87e3ccc1"
    },
    {
      "cell_type": "code",
      "execution_count": 160,
      "metadata": {
        "tags": []
      },
      "outputs": [],
      "source": [
        "figs['실험3결과요약'].layout['title']['text']=''\n",
        "figs['실험3결과요약'].layout['width']=900\n",
        "figs['실험3결과요약'].layout['height']=350\n",
        "figs['실험3결과요약'].write_image('Figures/실험3결과요약.pdf')\n",
        "figs['실험3결과요약'].write_image('/home/cgb2/Dropbox/06_papers/2023_GTP_졸업논문ver/EP3_RESULTS.pdf')"
      ],
      "id": "c50518f5-c0ce-479e-a127-5e8d622aa1eb"
    }
  ],
  "nbformat": 4,
  "nbformat_minor": 5,
  "metadata": {
    "kernelspec": {
      "name": "python3",
      "display_name": "Python 3 (ipykernel)",
      "language": "python"
    },
    "language_info": {
      "name": "python",
      "codemirror_mode": {
        "name": "ipython",
        "version": "3"
      },
      "file_extension": ".py",
      "mimetype": "text/x-python",
      "nbconvert_exporter": "python",
      "pygments_lexer": "ipython3",
      "version": "3.10.13"
    },
    "toc-showmarkdowntxt": true
  }
}