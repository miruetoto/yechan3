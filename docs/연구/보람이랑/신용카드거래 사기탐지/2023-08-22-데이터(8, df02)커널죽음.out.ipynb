{
  "cells": [
    {
      "cell_type": "markdown",
      "metadata": {},
      "source": [
        "# (연구&보람) 신용카드거래 사기탐지 – 데이터(8, df02)커널죽음\n",
        "\n",
        "김보람  \n",
        "2023-08-25"
      ],
      "id": "df33ef89-5b7e-4428-9a9b-3f8cd25ffc54"
    },
    {
      "cell_type": "code",
      "execution_count": 12,
      "metadata": {},
      "outputs": [],
      "source": [
        "import numpy as np\n",
        "import pandas as pd\n",
        "from sklearn import model_selection # split함수이용"
      ],
      "id": "e0e9ca09-65f5-441f-adc7-382e93b97960"
    },
    {
      "cell_type": "markdown",
      "metadata": {},
      "source": [
        "`-` fraudTrain"
      ],
      "id": "c6465ae5-aea9-40ff-b8c4-43fd9d7c58b9"
    },
    {
      "cell_type": "code",
      "execution_count": 2,
      "metadata": {},
      "outputs": [],
      "source": [
        "fraudTrain = pd.read_csv(\"fraudTrain.csv\").iloc[:,1:]"
      ],
      "id": "7021dc07-8a06-417b-9fb6-c71b2f05e5eb"
    },
    {
      "cell_type": "code",
      "execution_count": 3,
      "metadata": {},
      "outputs": [
        {
          "output_type": "display_data",
          "metadata": {},
          "data": {
            "text/html": [
              "\n",
              "<p>1048575 rows × 22 columns</p>\n",
              "</div>"
            ]
          }
        }
      ],
      "source": [
        "fraudTrain = fraudTrain.assign(trans_date_trans_time= list(map(lambda x: pd.to_datetime(x), fraudTrain.trans_date_trans_time)))\n",
        "fraudTrain"
      ],
      "id": "eb7a9b2b-f984-4bb0-b14b-e523a00d8d38"
    },
    {
      "cell_type": "markdown",
      "metadata": {},
      "source": [
        "`-` df02"
      ],
      "id": "b90e4dd4-9d75-4399-bea3-e6c545737006"
    },
    {
      "cell_type": "code",
      "execution_count": 19,
      "metadata": {},
      "outputs": [],
      "source": [
        "_df1 = fraudTrain[fraudTrain[\"is_fraud\"] == 0].sample(frac=0.20, random_state=42)\n",
        "_df2 = fraudTrain[fraudTrain[\"is_fraud\"] == 1]\n",
        "df02 = pd.concat([_df1,_df2])\n",
        "df02 = df02.reset_index()"
      ],
      "id": "adec4c87-7a49-41dd-ba04-879643113486"
    },
    {
      "cell_type": "markdown",
      "metadata": {},
      "source": [
        "`-` df_toy"
      ],
      "id": "2df13625-de33-4683-8ceb-4406a6dd2eb3"
    },
    {
      "cell_type": "code",
      "execution_count": 44,
      "metadata": {},
      "outputs": [
        {
          "output_type": "display_data",
          "metadata": {},
          "data": {
            "text/html": [
              "\n",
              "<p>5 rows × 23 columns</p>\n",
              "</div>"
            ]
          }
        }
      ],
      "source": [
        "df_toy=df02[:5].copy()\n",
        "df_toy.cc_num = pd.Series([1,1,1,2,2])\n",
        "df_toy"
      ],
      "id": "32c86926-0749-4955-914b-9b91ce99d0e0"
    },
    {
      "cell_type": "markdown",
      "metadata": {},
      "source": [
        "`-` df_toy 에서 time_difference 구함\n",
        "\n",
        "**고객1**"
      ],
      "id": "d2457be0-34a4-4837-a517-1bf7ea3d08d3"
    },
    {
      "cell_type": "code",
      "execution_count": 41,
      "metadata": {},
      "outputs": [
        {
          "output_type": "display_data",
          "metadata": {},
          "data": {
            "text/plain": [
              "22914900000000000"
            ]
          }
        }
      ],
      "source": [
        "df_toy.iloc[0].trans_date_trans_time.value - df_toy.iloc[1].trans_date_trans_time.value"
      ],
      "id": "d3242e02-faef-4f4d-8c80-f12da58f4076"
    },
    {
      "cell_type": "code",
      "execution_count": 45,
      "metadata": {},
      "outputs": [
        {
          "output_type": "display_data",
          "metadata": {},
          "data": {
            "text/plain": [
              "17453520000000000"
            ]
          }
        }
      ],
      "source": [
        "df_toy.iloc[0].trans_date_trans_time.value - df_toy.iloc[2].trans_date_trans_time.value"
      ],
      "id": "dad1a45c-c5ba-4edb-ac8f-5e0e6e2de449"
    },
    {
      "cell_type": "code",
      "execution_count": 48,
      "metadata": {},
      "outputs": [
        {
          "output_type": "display_data",
          "metadata": {},
          "data": {
            "text/plain": [
              "-5461380000000000"
            ]
          }
        }
      ],
      "source": [
        "df_toy.iloc[1].trans_date_trans_time.value - df_toy.iloc[2].trans_date_trans_time.value"
      ],
      "id": "01f03d72-82a6-4293-99a2-d40899e93652"
    },
    {
      "cell_type": "markdown",
      "metadata": {},
      "source": [
        "**고객2**"
      ],
      "id": "69561c38-6661-4c06-83b4-a16a4fa14796"
    },
    {
      "cell_type": "code",
      "execution_count": 46,
      "metadata": {},
      "outputs": [
        {
          "output_type": "display_data",
          "metadata": {},
          "data": {
            "text/plain": [
              "30729180000000000"
            ]
          }
        }
      ],
      "source": [
        "df_toy.iloc[3].trans_date_trans_time.value - df_toy.iloc[4].trans_date_trans_time.value"
      ],
      "id": "0606044a-880d-41e9-920f-9c5f8e0a99e9"
    },
    {
      "cell_type": "markdown",
      "metadata": {},
      "source": [
        "**고객1,2**"
      ],
      "id": "0069c59c-3570-434f-bd69-5a6eb3a471aa"
    },
    {
      "cell_type": "code",
      "execution_count": 52,
      "metadata": {},
      "outputs": [],
      "source": [
        "def compute_time_difference(group):\n",
        "    n = len(group)\n",
        "    result = []\n",
        "    for i in range(n):\n",
        "        for j in range(n):\n",
        "            time_difference = abs(group.iloc[i].trans_date_trans_time.value - group.iloc[j].trans_date_trans_time.value)\n",
        "            result.append([group.iloc[i].name, group.iloc[j].name, time_difference])\n",
        "    return result"
      ],
      "id": "479dd0e2-6b35-4ac8-904e-ac79ab868c40"
    },
    {
      "cell_type": "code",
      "execution_count": 53,
      "metadata": {},
      "outputs": [
        {
          "output_type": "display_data",
          "metadata": {},
          "data": {
            "text/plain": [
              "array([[                0,                 0,                 0],\n",
              "       [                0,                 1, 22914900000000000],\n",
              "       [                0,                 2, 17453520000000000],\n",
              "       [                1,                 0, 22914900000000000],\n",
              "       [                1,                 1,                 0],\n",
              "       [                1,                 2,  5461380000000000],\n",
              "       [                2,                 0, 17453520000000000],\n",
              "       [                2,                 1,  5461380000000000],\n",
              "       [                2,                 2,                 0],\n",
              "       [                3,                 3,                 0],\n",
              "       [                3,                 4, 30729180000000000],\n",
              "       [                4,                 3, 30729180000000000],\n",
              "       [                4,                 4,                 0]])"
            ]
          }
        }
      ],
      "source": [
        "groups = df_toy.groupby('cc_num')\n",
        "edge_index_list_plus = [compute_time_difference(group) for _, group in groups]\n",
        "edge_index_list_plus_flat = [item for sublist in edge_index_list_plus for item in sublist]\n",
        "edge_index_list_plus_nparr = np.array(edge_index_list_plus_flat)\n",
        "edge_index_list_plus_nparr"
      ],
      "id": "5081b897-f57f-42f3-97d2-4a48183b8e4a"
    },
    {
      "cell_type": "markdown",
      "metadata": {},
      "source": [
        "`-` df02에서 time_difference 구함"
      ],
      "id": "695e031e-357b-422a-b280-624f2453f151"
    },
    {
      "cell_type": "code",
      "execution_count": 46,
      "metadata": {},
      "outputs": [
        {
          "output_type": "display_data",
          "metadata": {},
          "data": {
            "text/plain": [
              "15537.573440551758"
            ]
          }
        }
      ],
      "source": [
        "t1 = time.time()\n",
        "groups = df02.groupby('cc_num')\n",
        "edge_index_list_plus = [compute_time_difference(group) for _, group in groups]\n",
        "edge_index_list_plus_flat = [item for sublist in edge_index_list_plus for item in sublist]\n",
        "edge_index_list_plus_nparr = np.array(edge_index_list_plus_flat)\n",
        "np.save('edge_index_list_plus02.npy', edge_index_list_plus_nparr)\n",
        "t2 = time.time()\n",
        "t2-t1"
      ],
      "id": "4f311ec7-ff33-4d53-a0d2-2085caff2b23"
    },
    {
      "cell_type": "code",
      "execution_count": 48,
      "metadata": {},
      "outputs": [
        {
          "output_type": "display_data",
          "metadata": {},
          "data": {
            "text/plain": [
              "4.3159926223754885"
            ]
          }
        }
      ],
      "source": [
        "(t2-t1)/3600"
      ],
      "id": "120467bc-4a8d-4421-88ce-d4ef96e4717b"
    }
  ],
  "nbformat": 4,
  "nbformat_minor": 5,
  "metadata": {
    "kernelspec": {
      "name": "python3",
      "display_name": "Python 3 (ipykernel)",
      "language": "python"
    },
    "language_info": {
      "name": "python",
      "codemirror_mode": {
        "name": "ipython",
        "version": "3"
      },
      "file_extension": ".py",
      "mimetype": "text/x-python",
      "nbconvert_exporter": "python",
      "pygments_lexer": "ipython3",
      "version": "3.12.1"
    }
  }
}