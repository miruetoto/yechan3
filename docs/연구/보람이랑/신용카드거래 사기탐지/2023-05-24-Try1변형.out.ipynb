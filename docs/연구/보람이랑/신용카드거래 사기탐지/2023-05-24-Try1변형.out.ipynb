{
  "cells": [
    {
      "cell_type": "markdown",
      "metadata": {},
      "source": [
        "# (연구&보람) 신용카드거래 사기탐지 – Try1변형\n",
        "\n",
        "신록예찬  \n",
        "2023-05-12\n",
        "\n",
        "# imports"
      ],
      "id": "8a8d3ac8-539d-4795-aec4-1710129da5c0"
    },
    {
      "cell_type": "code",
      "execution_count": 2,
      "metadata": {},
      "outputs": [
        {
          "output_type": "stream",
          "name": "stderr",
          "text": [
            "/home/cgb2/anaconda3/envs/py38/lib/python3.8/site-packages/tqdm/auto.py:21: TqdmWarning: IProgress not found. Please update jupyter and ipywidgets. See https://ipywidgets.readthedocs.io/en/stable/user_install.html\n",
            "  from .autonotebook import tqdm as notebook_tqdm"
          ]
        }
      ],
      "source": [
        "import numpy as np\n",
        "import pandas as pd\n",
        "import matplotlib.pyplot as plt \n",
        "import networkx as nx\n",
        "import sklearn\n",
        "\n",
        "# sklearn\n",
        "from sklearn import model_selection # split함수이용\n",
        "from sklearn import ensemble # RF \n",
        "from sklearn import metrics \n",
        "\n",
        "# embedding \n",
        "from node2vec import Node2Vec\n",
        "from node2vec.edges import HadamardEmbedder, AverageEmbedder, WeightedL1Embedder, WeightedL2Embedder"
      ],
      "id": "12eb1522-9b25-4579-ab8f-c6938293ab2d"
    },
    {
      "cell_type": "code",
      "execution_count": 3,
      "metadata": {},
      "outputs": [],
      "source": [
        "def build_graph_bipartite(df_input, graph_type=nx.Graph()):\n",
        "    df=df_input.copy()\n",
        "    mapping={x:node_id for node_id, x in enumerate(set(df[\"cc_num\"].values.tolist()+\\\n",
        "                                                      df[\"merchant\"].values.tolist()))}\n",
        "    \n",
        "    df[\"from\"]=df[\"cc_num\"].apply(lambda x:mapping[x])  #엣지의 출발점\n",
        "    df[\"to\"]=df[\"merchant\"].apply(lambda x:mapping[x])  #엣지의 도착점\n",
        "    \n",
        "    df = df[['from', 'to', \"amt\", \"is_fraud\"]].groupby(['from','to']).agg({\"is_fraud\":\"sum\",\"amt\":\"sum\"}).reset_index()\n",
        "    df[\"is_fraud\"]=df[\"is_fraud\"].apply(lambda x:1 if x>0 else 0)\n",
        "    \n",
        "    G=nx.from_edgelist(df[[\"from\",\"to\"]].values, create_using=graph_type)\n",
        "    \n",
        "    nx.set_edge_attributes(G,{(int(x[\"from\"]),int(x[\"to\"])):x[\"is_fraud\"] for idx, x in df[[\"from\",\"to\",\"is_fraud\"]].iterrows()}, \"label\")  #엣지 속성 설정,각 속성의 사기 여부부     \n",
        "    nx.set_edge_attributes(G,{(int(x[\"from\"]),int(x[\"to\"])):x[\"amt\"] for idx,x in df[[\"from\",\"to\",\"amt\"]].iterrows()}, \"weight\") # 엣지 속성 설정, 각 엣지의 거래 금액\n",
        "\n",
        "    return G\n",
        "\n",
        "\n",
        "def build_graph_tripartite(df_input, graph_type=nx.Graph()):\n",
        "    df=df_input.copy()\n",
        "    mapping={x:node_id for node_id, x in enumerate(set(df.index.values.tolist() + \n",
        "                                                       df[\"cc_num\"].values.tolist() +\n",
        "                                                       df[\"merchant\"].values.tolist()))}\n",
        "    df[\"in_node\"]= df[\"cc_num\"].apply(lambda x: mapping[x])\n",
        "    df[\"out_node\"]=df[\"merchant\"].apply(lambda x:mapping[x])\n",
        "    \n",
        "        \n",
        "    G=nx.from_edgelist([(x[\"in_node\"], mapping[idx]) for idx, x in df.iterrows()] +\\\n",
        "                        [(x[\"out_node\"], mapping[idx]) for idx, x in df.iterrows()], create_using=graph_type)\n",
        "    \n",
        "    nx.set_edge_attributes(G,{(x[\"in_node\"], mapping[idx]):x[\"is_fraud\"] for idx, x in df.iterrows()}, \"label\")     \n",
        "    nx.set_edge_attributes(G,{(x[\"out_node\"], mapping[idx]):x[\"is_fraud\"] for idx, x in df.iterrows()}, \"label\")   \n",
        "    nx.set_edge_attributes(G,{(x[\"in_node\"], mapping[idx]):x[\"amt\"] for idx, x in df.iterrows()}, \"weight\")  \n",
        "    nx.set_edge_attributes(G,{(x[\"out_node\"], mapping[idx]):x[\"amt\"] for idx, x in df.iterrows()}, \"weight\")\n",
        "\n",
        "    return G\n",
        "    \n",
        "    \n",
        "def down_sample_textbook(df):\n",
        "    df_majority = df[df.is_fraud==0].copy()\n",
        "    df_minority = df[df.is_fraud==1].copy()\n",
        "    df_maj_dowsampled = sklearn.utils.resample(df_majority, n_samples=len(df_minority), replace=False, random_state=42)\n",
        "    df_downsampled = pd.concat([df_minority, df_maj_dowsampled])\n",
        "    return df_downsampled\n",
        "\n",
        "def embedding(Graph):\n",
        "    # Graph -> X (feature)\n",
        "    _edgs = list(Graph.edges)\n",
        "    subGraph = Graph.edge_subgraph([_edgs[x] for x in range(len(Graph.edges))]).copy()\n",
        "    subGraph.add_nodes_from(list(set(Graph.nodes) - set(subGraph.nodes)))    \n",
        "    embedded = AverageEmbedder(Node2Vec(subGraph, weight_key='weight').fit(window=10).wv)\n",
        "    X = [embedded[str(_edgs[x][0]), str(_edgs[x][1])] for x in range(len(Graph.edges))]\n",
        "    # Graph -> y (label)\n",
        "    y = np.array(list(nx.get_edge_attributes(Graph, \"label\").values()))\n",
        "    return X,y \n",
        "\n",
        "def anal(df):\n",
        "    Graph = build_graph_bipartite(df)\n",
        "    X,XX,y,yy = embedding(Graph)\n",
        "    lrnr = RandomForestClassifier(n_estimators=100, random_state=42) \n",
        "    lrnr.fit(X,y)\n",
        "    yyhat = lrnr.predict(XX)\n",
        "    df = pd.DataFrame({\n",
        "        'acc':[sklearn.metrics.accuracy_score(yy,yyhat)], \n",
        "        'pre':[sklearn.metrics.precision_score(yy,yyhat)], \n",
        "        'rec':[sklearn.metrics.recall_score(yy,yyhat)],\n",
        "        'f1':[sklearn.metrics.f1_score(yy,yyhat)]}\n",
        "    )    \n",
        "    return df\n",
        "\n",
        "def our_sampling1(df):\n",
        "    cus_list = set(df.query('is_fraud==1').cc_num.tolist())\n",
        "    return df.query(\"cc_num in @ cus_list\")"
      ],
      "id": "a212dc30-e7ac-4937-8f65-91a6a1486d51"
    },
    {
      "cell_type": "markdown",
      "metadata": {},
      "source": [
        "# Overview\n",
        "\n",
        "## 데이터 종류\n",
        "\n",
        "-   fraudTrain.csv: (1048575, 23), 기본데이터\n",
        "-   df02: (214520, 23), is_fraud==0 에서는 20퍼의 샘플만, is_fraud==1\n",
        "    에서는 모든 샘플을 뽑아서 정리한 새로운 자료\n",
        "-   df50 = (12012, 23), df20에서 is_fraud==0 와 is_fraud==1 의 비율을\n",
        "    맞추어서 샘플을 뽑은 것\n",
        "\n",
        "| 데이터        | shape         | 사기거래빈도 | 설명                                                                                       |\n",
        "|------------------|------------------|------------------|------------------|\n",
        "| fraudTrain    | (1048575, 22) | 0.00573      | 원래자료                                                                                   |\n",
        "| df02          | (214520, 22)  | 0.028        | is_fraud==0 에서는 20퍼의 샘플만, is_fraud==1 에서는 모든 샘플을 뽑아서 정리한 새로운 자료 |\n",
        "| df50          | (12012, 22)   | 0.5          | df02에서 사기비율을 50퍼로 맞추어 샘플링한 자료                                            |\n",
        "| df50_tr       | (9009, 22)    | 0.49828      | df50에서 랜덤으로 train/test를 분리하여 얻은 train dataset                                 |\n",
        "| df50_test     | (3003, 22)    | 0.50516      | df50에서 랜덤으로 train/test를 분리하여 얻은 test dataset                                  |\n",
        "| df02_tr       | (211517, 22)  | 0.02122      | df02에서 df50_test에 해당하는 인덱스를 제외                                                |\n",
        "| fraudTrain_tr | (1045572, 22) | 0.00429      | fraudTrain에서 df50_test에 해당하는 인덱스를 제외                                          |\n",
        "\n",
        "`-` fraudTrain"
      ],
      "id": "737fc994-3ae7-4ff1-a64f-f131fabe4225"
    },
    {
      "cell_type": "code",
      "execution_count": 4,
      "metadata": {},
      "outputs": [
        {
          "output_type": "display_data",
          "metadata": {},
          "data": {
            "text/plain": [
              "(1048575, 22)"
            ]
          }
        }
      ],
      "source": [
        "fraudTrain = pd.read_csv(\"fraudTrain.csv\").iloc[:,1:]\n",
        "fraudTrain.shape"
      ],
      "id": "41823f84-3759-4738-838e-d55afefcf308"
    },
    {
      "cell_type": "code",
      "execution_count": 5,
      "metadata": {},
      "outputs": [
        {
          "output_type": "display_data",
          "metadata": {},
          "data": {
            "text/plain": [
              "0.00573"
            ]
          }
        }
      ],
      "source": [
        "fraudTrain.is_fraud.mean().round(5)"
      ],
      "id": "202b1f66-b132-48f6-8f19-e22eaa82d31a"
    },
    {
      "cell_type": "markdown",
      "metadata": {},
      "source": [
        "`-` df20"
      ],
      "id": "b4c35c84-2779-499f-b628-a2f672d09ab1"
    },
    {
      "cell_type": "code",
      "execution_count": 6,
      "metadata": {},
      "outputs": [
        {
          "output_type": "display_data",
          "metadata": {},
          "data": {
            "text/plain": [
              "(214520, 22)"
            ]
          }
        }
      ],
      "source": [
        "_df1 = fraudTrain[fraudTrain[\"is_fraud\"] == 0].sample(frac=0.20, random_state=42)\n",
        "_df2 = fraudTrain[fraudTrain[\"is_fraud\"] == 1]\n",
        "df02 = pd.concat([_df1,_df2])\n",
        "df02.shape"
      ],
      "id": "22fe12b2-0792-409d-95e7-1dc4ad3da415"
    },
    {
      "cell_type": "code",
      "execution_count": 7,
      "metadata": {},
      "outputs": [
        {
          "output_type": "display_data",
          "metadata": {},
          "data": {
            "text/plain": [
              "0.028"
            ]
          }
        }
      ],
      "source": [
        "df02.is_fraud.mean().round(5)"
      ],
      "id": "d94ba1d9-fd65-406f-9de5-56f008145f40"
    },
    {
      "cell_type": "markdown",
      "metadata": {},
      "source": [
        "`-` df50"
      ],
      "id": "49b5ce15-bbfa-44a7-926b-21899e478c87"
    },
    {
      "cell_type": "code",
      "execution_count": 8,
      "metadata": {},
      "outputs": [
        {
          "output_type": "display_data",
          "metadata": {},
          "data": {
            "text/plain": [
              "(12012, 22)"
            ]
          }
        }
      ],
      "source": [
        "df50 = down_sample_textbook(df02)\n",
        "df50.shape"
      ],
      "id": "46800aa7-dc3f-4a46-8d5b-e2eb8ba1c8ae"
    },
    {
      "cell_type": "code",
      "execution_count": 9,
      "metadata": {},
      "outputs": [
        {
          "output_type": "display_data",
          "metadata": {},
          "data": {
            "text/html": [
              "\n",
              "<p>12012 rows × 22 columns</p>\n",
              "</div>"
            ]
          }
        }
      ],
      "source": [
        "df50"
      ],
      "id": "905e9e9a-634f-43e7-a4af-318e58ed7c91"
    },
    {
      "cell_type": "code",
      "execution_count": 10,
      "metadata": {},
      "outputs": [
        {
          "output_type": "display_data",
          "metadata": {},
          "data": {
            "text/plain": [
              "0.5"
            ]
          }
        }
      ],
      "source": [
        "df50.is_fraud.mean().round(5)"
      ],
      "id": "5f603bbd-7588-4fe2-adf9-1f7227e5b239"
    },
    {
      "cell_type": "markdown",
      "metadata": {},
      "source": [
        "`-` df50_tr, df50_test"
      ],
      "id": "83dc10d5-ffea-476b-9917-c182f6c63d5b"
    },
    {
      "cell_type": "code",
      "execution_count": 11,
      "metadata": {},
      "outputs": [],
      "source": [
        "df50_tr,df50_test = sklearn.model_selection.train_test_split(df50, random_state=42)"
      ],
      "id": "b6036f95-9a16-4a96-b19f-735f7ab3f7f5"
    },
    {
      "cell_type": "code",
      "execution_count": 12,
      "metadata": {},
      "outputs": [
        {
          "output_type": "display_data",
          "metadata": {},
          "data": {
            "text/plain": [
              "(0.49828, 0.50516)"
            ]
          }
        }
      ],
      "source": [
        "df50_tr.is_fraud.mean().round(5), df50_test.is_fraud.mean().round(5)"
      ],
      "id": "4e040ef3-9b1c-4a10-bb45-1bb662d27bdb"
    },
    {
      "cell_type": "markdown",
      "metadata": {},
      "source": [
        "`-` df02_tr, fraudTrain_tr"
      ],
      "id": "97bce799-892e-490b-bb7c-ea87057b502d"
    },
    {
      "cell_type": "code",
      "execution_count": 13,
      "metadata": {},
      "outputs": [],
      "source": [
        "df02_tr = df02.loc[[i not in df50_test.index for i in df02.index],:].copy()\n",
        "fraudTrain_tr = fraudTrain.loc[[i not in df50_test.index for i in fraudTrain.index],:].copy()"
      ],
      "id": "07f9aa31-fe90-4c8f-9cd4-fdfd4547f11e"
    },
    {
      "cell_type": "code",
      "execution_count": 14,
      "metadata": {},
      "outputs": [
        {
          "output_type": "display_data",
          "metadata": {},
          "data": {
            "text/plain": [
              "((211517, 22), (1045572, 22))"
            ]
          }
        }
      ],
      "source": [
        "df02_tr.shape, fraudTrain_tr.shape"
      ],
      "id": "5296bb34-0e3d-40b2-aee5-fa2bdb70c55d"
    },
    {
      "cell_type": "code",
      "execution_count": 15,
      "metadata": {},
      "outputs": [
        {
          "output_type": "display_data",
          "metadata": {},
          "data": {
            "text/plain": [
              "(0.02122, 0.00429)"
            ]
          }
        }
      ],
      "source": [
        "df02_tr.is_fraud.mean().round(5), fraudTrain_tr.is_fraud.mean().round(5)"
      ],
      "id": "0e595ee4-b8ff-4fd4-8e2d-c1e08a6cc76d"
    },
    {
      "cell_type": "markdown",
      "metadata": {},
      "source": [
        "# 분석방법정리\n",
        "\n",
        "|       | Train     | Test     | 모형     | 설명변수   | 그래프임베딩 |\n",
        "|-------|-----------|----------|----------|------------|--------------|\n",
        "| 분석1 | df50train | df50test | 로지스틱 | amt        | X            |\n",
        "| 분석2 | df02train | df50test | 로지스틱 | amt        | X            |\n",
        "| 분석3 | df50train | df50test | 로지스틱 | amt,amtano | X            |\n",
        "| 분석4 | df02train | df50test | 로지스틱 | amt,amtano | X            |"
      ],
      "id": "7869cc12-cdd5-4ca8-892d-c6d98d2d804b"
    },
    {
      "cell_type": "code",
      "execution_count": 49,
      "metadata": {},
      "outputs": [
        {
          "output_type": "display_data",
          "metadata": {},
          "data": {
            "text/html": [
              "\n",
              "</div>"
            ]
          }
        }
      ],
      "source": [
        "pd.concat([_results1,_results2,_results3,_results4])"
      ],
      "id": "fedd1139-3db6-43f5-8cf6-51080e1e2ccf"
    },
    {
      "cell_type": "markdown",
      "metadata": {},
      "source": [
        "# 분석1\n",
        "\n",
        "`-` step1: data"
      ],
      "id": "40f2e224-7714-453e-a25c-b505c8d6b4d9"
    },
    {
      "cell_type": "code",
      "execution_count": 17,
      "metadata": {},
      "outputs": [],
      "source": [
        "X = np.array(df50_tr.loc[:,['amt']])\n",
        "XX = np.array(df50_test.loc[:,['amt']])\n",
        "y = np.array(df50_tr.is_fraud)\n",
        "yy = np.array(df50_test.is_fraud)"
      ],
      "id": "4d996db8-78c3-4e8f-b293-4b571adb84d7"
    },
    {
      "cell_type": "markdown",
      "metadata": {},
      "source": [
        "`-` step2: lrnr 생성"
      ],
      "id": "862b83da-10ae-41bb-9fae-f2949bd271ce"
    },
    {
      "cell_type": "code",
      "execution_count": 18,
      "metadata": {},
      "outputs": [],
      "source": [
        "lrnr = sklearn.linear_model.LogisticRegression()"
      ],
      "id": "7abc951c-277a-4bfb-aba2-baf89befb330"
    },
    {
      "cell_type": "markdown",
      "metadata": {},
      "source": [
        "`-` step3: fit"
      ],
      "id": "28a766b1-5917-43e9-bc91-33c9c457f260"
    },
    {
      "cell_type": "code",
      "execution_count": 19,
      "metadata": {},
      "outputs": [
        {
          "output_type": "display_data",
          "metadata": {},
          "data": {
            "text/html": [
              "<style>#sk-container-id-1 {color: black;background-color: white;}#sk-container-id-1 pre{padding: 0;}#sk-container-id-1 div.sk-toggleable {background-color: white;}#sk-container-id-1 label.sk-toggleable__label {cursor: pointer;display: block;width: 100%;margin-bottom: 0;padding: 0.3em;box-sizing: border-box;text-align: center;}#sk-container-id-1 label.sk-toggleable__label-arrow:before {content: \"▸\";float: left;margin-right: 0.25em;color: #696969;}#sk-container-id-1 label.sk-toggleable__label-arrow:hover:before {color: black;}#sk-container-id-1 div.sk-estimator:hover label.sk-toggleable__label-arrow:before {color: black;}#sk-container-id-1 div.sk-toggleable__content {max-height: 0;max-width: 0;overflow: hidden;text-align: left;background-color: #f0f8ff;}#sk-container-id-1 div.sk-toggleable__content pre {margin: 0.2em;color: black;border-radius: 0.25em;background-color: #f0f8ff;}#sk-container-id-1 input.sk-toggleable__control:checked~div.sk-toggleable__content {max-height: 200px;max-width: 100%;overflow: auto;}#sk-container-id-1 input.sk-toggleable__control:checked~label.sk-toggleable__label-arrow:before {content: \"▾\";}#sk-container-id-1 div.sk-estimator input.sk-toggleable__control:checked~label.sk-toggleable__label {background-color: #d4ebff;}#sk-container-id-1 div.sk-label input.sk-toggleable__control:checked~label.sk-toggleable__label {background-color: #d4ebff;}#sk-container-id-1 input.sk-hidden--visually {border: 0;clip: rect(1px 1px 1px 1px);clip: rect(1px, 1px, 1px, 1px);height: 1px;margin: -1px;overflow: hidden;padding: 0;position: absolute;width: 1px;}#sk-container-id-1 div.sk-estimator {font-family: monospace;background-color: #f0f8ff;border: 1px dotted black;border-radius: 0.25em;box-sizing: border-box;margin-bottom: 0.5em;}#sk-container-id-1 div.sk-estimator:hover {background-color: #d4ebff;}#sk-container-id-1 div.sk-parallel-item::after {content: \"\";width: 100%;border-bottom: 1px solid gray;flex-grow: 1;}#sk-container-id-1 div.sk-label:hover label.sk-toggleable__label {background-color: #d4ebff;}#sk-container-id-1 div.sk-serial::before {content: \"\";position: absolute;border-left: 1px solid gray;box-sizing: border-box;top: 0;bottom: 0;left: 50%;z-index: 0;}#sk-container-id-1 div.sk-serial {display: flex;flex-direction: column;align-items: center;background-color: white;padding-right: 0.2em;padding-left: 0.2em;position: relative;}#sk-container-id-1 div.sk-item {position: relative;z-index: 1;}#sk-container-id-1 div.sk-parallel {display: flex;align-items: stretch;justify-content: center;background-color: white;position: relative;}#sk-container-id-1 div.sk-item::before, #sk-container-id-1 div.sk-parallel-item::before {content: \"\";position: absolute;border-left: 1px solid gray;box-sizing: border-box;top: 0;bottom: 0;left: 50%;z-index: -1;}#sk-container-id-1 div.sk-parallel-item {display: flex;flex-direction: column;z-index: 1;position: relative;background-color: white;}#sk-container-id-1 div.sk-parallel-item:first-child::after {align-self: flex-end;width: 50%;}#sk-container-id-1 div.sk-parallel-item:last-child::after {align-self: flex-start;width: 50%;}#sk-container-id-1 div.sk-parallel-item:only-child::after {width: 0;}#sk-container-id-1 div.sk-dashed-wrapped {border: 1px dashed gray;margin: 0 0.4em 0.5em 0.4em;box-sizing: border-box;padding-bottom: 0.4em;background-color: white;}#sk-container-id-1 div.sk-label label {font-family: monospace;font-weight: bold;display: inline-block;line-height: 1.2em;}#sk-container-id-1 div.sk-label-container {text-align: center;}#sk-container-id-1 div.sk-container {/* jupyter's `normalize.less` sets `[hidden] { display: none; }` but bootstrap.min.css set `[hidden] { display: none !important; }` so we also need the `!important` here to be able to override the default hidden behavior on the sphinx rendered scikit-learn.org. See: https://github.com/scikit-learn/scikit-learn/issues/21755 */display: inline-block !important;position: relative;}#sk-container-id-1 div.sk-text-repr-fallback {display: none;}</style><div id=\"sk-container-id-1\" class=\"sk-top-container\"><div class=\"sk-text-repr-fallback\"><pre>LogisticRegression()</pre><b>In a Jupyter environment, please rerun this cell to show the HTML representation or trust the notebook. <br />On GitHub, the HTML representation is unable to render, please try loading this page with nbviewer.org.</b></div><div class=\"sk-container\" hidden><div class=\"sk-item\"><div class=\"sk-estimator sk-toggleable\"><input class=\"sk-toggleable__control sk-hidden--visually\" id=\"sk-estimator-id-1\" type=\"checkbox\" checked><label for=\"sk-estimator-id-1\" class=\"sk-toggleable__label sk-toggleable__label-arrow\">LogisticRegression</label><div class=\"sk-toggleable__content\"><pre>LogisticRegression()</pre></div></div></div></div></div>"
            ]
          }
        }
      ],
      "source": [
        "lrnr.fit(X,y)"
      ],
      "id": "a00dd53c-f6c4-4c00-869f-f885dead1ff2"
    },
    {
      "cell_type": "markdown",
      "metadata": {},
      "source": [
        "`-` step4: evaluate"
      ],
      "id": "c1a3cd9e-756d-489d-99a0-6cd673e6692a"
    },
    {
      "cell_type": "code",
      "execution_count": 20,
      "metadata": {},
      "outputs": [],
      "source": [
        "thresh = df50_tr.is_fraud.mean()\n",
        "yyhat = (lrnr.predict_proba(XX)> thresh)[:,-1]\n",
        "# yyhat = lrnr.predict(XX) "
      ],
      "id": "f5b34fea-4229-417e-ba97-76c513c817a2"
    },
    {
      "cell_type": "code",
      "execution_count": 21,
      "metadata": {},
      "outputs": [],
      "source": [
        "metrics = [sklearn.metrics.accuracy_score,\n",
        "           sklearn.metrics.precision_score,\n",
        "           sklearn.metrics.recall_score,\n",
        "           sklearn.metrics.f1_score]"
      ],
      "id": "9467abff-4d0c-4f53-b3fb-c3db5afeb06d"
    },
    {
      "cell_type": "code",
      "execution_count": 22,
      "metadata": {},
      "outputs": [
        {
          "output_type": "display_data",
          "metadata": {},
          "data": {
            "text/html": [
              "\n",
              "</div>"
            ]
          }
        }
      ],
      "source": [
        "_results1= pd.DataFrame({m.__name__:[m(yy,yyhat).round(6)] for m in metrics},index=['분석1'])\n",
        "_results1"
      ],
      "id": "e1d7ee53-3a5d-431a-ae71-fa73450d51ad"
    },
    {
      "cell_type": "markdown",
      "metadata": {},
      "source": [
        "# 분석2\n",
        "\n",
        "`-` step1: data"
      ],
      "id": "2255ddd2-9e40-4443-9d8f-2491759fc423"
    },
    {
      "cell_type": "code",
      "execution_count": 23,
      "metadata": {},
      "outputs": [],
      "source": [
        "X = np.array(fraudTrain_tr.loc[:,['amt']])\n",
        "XX = np.array(df50_test.loc[:,['amt']])\n",
        "y = np.array(fraudTrain_tr.is_fraud)\n",
        "yy = np.array(df50_test.is_fraud)"
      ],
      "id": "b26b0ba7-3ee6-4236-ae99-c815cc16cb08"
    },
    {
      "cell_type": "markdown",
      "metadata": {},
      "source": [
        "`-` step2: lrnr 생성"
      ],
      "id": "161bf1b8-84ba-4f18-a019-b79ad3b3a0cd"
    },
    {
      "cell_type": "code",
      "execution_count": 24,
      "metadata": {},
      "outputs": [],
      "source": [
        "lrnr = sklearn.linear_model.LogisticRegression()"
      ],
      "id": "0c27d49d-7c0d-4546-9e4a-491845280ea8"
    },
    {
      "cell_type": "markdown",
      "metadata": {},
      "source": [
        "`-` step3: fit"
      ],
      "id": "8bf6ee5d-69e1-408c-82fe-97fbee3e2d6d"
    },
    {
      "cell_type": "code",
      "execution_count": 25,
      "metadata": {},
      "outputs": [
        {
          "output_type": "display_data",
          "metadata": {},
          "data": {
            "text/html": [
              "<style>#sk-container-id-2 {color: black;background-color: white;}#sk-container-id-2 pre{padding: 0;}#sk-container-id-2 div.sk-toggleable {background-color: white;}#sk-container-id-2 label.sk-toggleable__label {cursor: pointer;display: block;width: 100%;margin-bottom: 0;padding: 0.3em;box-sizing: border-box;text-align: center;}#sk-container-id-2 label.sk-toggleable__label-arrow:before {content: \"▸\";float: left;margin-right: 0.25em;color: #696969;}#sk-container-id-2 label.sk-toggleable__label-arrow:hover:before {color: black;}#sk-container-id-2 div.sk-estimator:hover label.sk-toggleable__label-arrow:before {color: black;}#sk-container-id-2 div.sk-toggleable__content {max-height: 0;max-width: 0;overflow: hidden;text-align: left;background-color: #f0f8ff;}#sk-container-id-2 div.sk-toggleable__content pre {margin: 0.2em;color: black;border-radius: 0.25em;background-color: #f0f8ff;}#sk-container-id-2 input.sk-toggleable__control:checked~div.sk-toggleable__content {max-height: 200px;max-width: 100%;overflow: auto;}#sk-container-id-2 input.sk-toggleable__control:checked~label.sk-toggleable__label-arrow:before {content: \"▾\";}#sk-container-id-2 div.sk-estimator input.sk-toggleable__control:checked~label.sk-toggleable__label {background-color: #d4ebff;}#sk-container-id-2 div.sk-label input.sk-toggleable__control:checked~label.sk-toggleable__label {background-color: #d4ebff;}#sk-container-id-2 input.sk-hidden--visually {border: 0;clip: rect(1px 1px 1px 1px);clip: rect(1px, 1px, 1px, 1px);height: 1px;margin: -1px;overflow: hidden;padding: 0;position: absolute;width: 1px;}#sk-container-id-2 div.sk-estimator {font-family: monospace;background-color: #f0f8ff;border: 1px dotted black;border-radius: 0.25em;box-sizing: border-box;margin-bottom: 0.5em;}#sk-container-id-2 div.sk-estimator:hover {background-color: #d4ebff;}#sk-container-id-2 div.sk-parallel-item::after {content: \"\";width: 100%;border-bottom: 1px solid gray;flex-grow: 1;}#sk-container-id-2 div.sk-label:hover label.sk-toggleable__label {background-color: #d4ebff;}#sk-container-id-2 div.sk-serial::before {content: \"\";position: absolute;border-left: 1px solid gray;box-sizing: border-box;top: 0;bottom: 0;left: 50%;z-index: 0;}#sk-container-id-2 div.sk-serial {display: flex;flex-direction: column;align-items: center;background-color: white;padding-right: 0.2em;padding-left: 0.2em;position: relative;}#sk-container-id-2 div.sk-item {position: relative;z-index: 1;}#sk-container-id-2 div.sk-parallel {display: flex;align-items: stretch;justify-content: center;background-color: white;position: relative;}#sk-container-id-2 div.sk-item::before, #sk-container-id-2 div.sk-parallel-item::before {content: \"\";position: absolute;border-left: 1px solid gray;box-sizing: border-box;top: 0;bottom: 0;left: 50%;z-index: -1;}#sk-container-id-2 div.sk-parallel-item {display: flex;flex-direction: column;z-index: 1;position: relative;background-color: white;}#sk-container-id-2 div.sk-parallel-item:first-child::after {align-self: flex-end;width: 50%;}#sk-container-id-2 div.sk-parallel-item:last-child::after {align-self: flex-start;width: 50%;}#sk-container-id-2 div.sk-parallel-item:only-child::after {width: 0;}#sk-container-id-2 div.sk-dashed-wrapped {border: 1px dashed gray;margin: 0 0.4em 0.5em 0.4em;box-sizing: border-box;padding-bottom: 0.4em;background-color: white;}#sk-container-id-2 div.sk-label label {font-family: monospace;font-weight: bold;display: inline-block;line-height: 1.2em;}#sk-container-id-2 div.sk-label-container {text-align: center;}#sk-container-id-2 div.sk-container {/* jupyter's `normalize.less` sets `[hidden] { display: none; }` but bootstrap.min.css set `[hidden] { display: none !important; }` so we also need the `!important` here to be able to override the default hidden behavior on the sphinx rendered scikit-learn.org. See: https://github.com/scikit-learn/scikit-learn/issues/21755 */display: inline-block !important;position: relative;}#sk-container-id-2 div.sk-text-repr-fallback {display: none;}</style><div id=\"sk-container-id-2\" class=\"sk-top-container\"><div class=\"sk-text-repr-fallback\"><pre>LogisticRegression()</pre><b>In a Jupyter environment, please rerun this cell to show the HTML representation or trust the notebook. <br />On GitHub, the HTML representation is unable to render, please try loading this page with nbviewer.org.</b></div><div class=\"sk-container\" hidden><div class=\"sk-item\"><div class=\"sk-estimator sk-toggleable\"><input class=\"sk-toggleable__control sk-hidden--visually\" id=\"sk-estimator-id-2\" type=\"checkbox\" checked><label for=\"sk-estimator-id-2\" class=\"sk-toggleable__label sk-toggleable__label-arrow\">LogisticRegression</label><div class=\"sk-toggleable__content\"><pre>LogisticRegression()</pre></div></div></div></div></div>"
            ]
          }
        }
      ],
      "source": [
        "lrnr.fit(X,y)"
      ],
      "id": "14a57847-02b9-4f53-9f39-afa214ee7d93"
    },
    {
      "cell_type": "markdown",
      "metadata": {},
      "source": [
        "`-` step4: evaluate"
      ],
      "id": "714cd795-76a0-4dfe-a85f-c9857b74d5d9"
    },
    {
      "cell_type": "code",
      "execution_count": 26,
      "metadata": {},
      "outputs": [],
      "source": [
        "thresh = fraudTrain_tr.is_fraud.mean()\n",
        "yyhat = (lrnr.predict_proba(XX)> thresh)[:,-1]\n",
        "#yyhat = lrnr.predict(XX) "
      ],
      "id": "8adf0b5a-4abd-4a2b-967d-a8c1a388cea7"
    },
    {
      "cell_type": "code",
      "execution_count": 27,
      "metadata": {},
      "outputs": [],
      "source": [
        "metrics = [sklearn.metrics.accuracy_score,\n",
        "           sklearn.metrics.precision_score,\n",
        "           sklearn.metrics.recall_score,\n",
        "           sklearn.metrics.f1_score]"
      ],
      "id": "ba86f8ea-a92c-4d3a-ab55-ce588643ee1f"
    },
    {
      "cell_type": "code",
      "execution_count": 28,
      "metadata": {},
      "outputs": [
        {
          "output_type": "display_data",
          "metadata": {},
          "data": {
            "text/html": [
              "\n",
              "</div>"
            ]
          }
        }
      ],
      "source": [
        "_results2= pd.DataFrame({m.__name__:[m(yy,yyhat).round(6)] for m in metrics},index=['분석2'])\n",
        "_results2"
      ],
      "id": "de5061eb-eb69-4856-a7c7-055a9e7bba20"
    },
    {
      "cell_type": "markdown",
      "metadata": {},
      "source": [
        "# 분석3\n",
        "\n",
        "`-` 함수"
      ],
      "id": "bcd705cc-8f34-42d0-abb3-e21fce866814"
    },
    {
      "cell_type": "code",
      "execution_count": 29,
      "metadata": {},
      "outputs": [],
      "source": [
        "def amtano1(df_train):\n",
        "    df = df_train.copy()\n",
        "    df = df.assign(amtano=0)\n",
        "    normalize = lambda arr: (arr-np.median(arr))/np.std(arr) if np.std(arr)!=0 else arr*0 \n",
        "    for cc_num, sub_df in df.groupby('cc_num'):\n",
        "        df.loc[df.cc_num == cc_num,['amtano']] = normalize(sub_df.amt)\n",
        "    return df  "
      ],
      "id": "21e450d7-3a4c-403a-bcdd-2a1a2a5deb31"
    },
    {
      "cell_type": "code",
      "execution_count": 30,
      "metadata": {},
      "outputs": [],
      "source": [
        "def amtano2(df_train,df_test):\n",
        "    df = pd.concat([df_train,df_test])\n",
        "    df_amtano = amtano_train(df) \n",
        "    return df_test.assign(amtano = df_amtano.loc[[i in df_test.index for i in df_amtano.index],'amtano'])"
      ],
      "id": "58ed579c-4aeb-457a-be56-bc482c479cca"
    },
    {
      "cell_type": "markdown",
      "metadata": {},
      "source": [
        "`-` step1: data"
      ],
      "id": "35ec5383-d4da-413b-be1c-1f00964a2b2b"
    },
    {
      "cell_type": "code",
      "execution_count": 31,
      "metadata": {},
      "outputs": [],
      "source": [
        "X = np.array(amtano1(df50_tr).loc[:,['amt','amtano']])\n",
        "XX = np.array(amtano1(df50_test).loc[:,['amt','amtano']])\n",
        "y = np.array(df50_tr.is_fraud)\n",
        "yy = np.array(df50_test.is_fraud)"
      ],
      "id": "702db956-b952-4075-8bf7-63a545ce0da3"
    },
    {
      "cell_type": "markdown",
      "metadata": {},
      "source": [
        "`-` step2: lrnr 생성"
      ],
      "id": "31410211-b1b3-405d-bf15-f058d9ddcbef"
    },
    {
      "cell_type": "code",
      "execution_count": 32,
      "metadata": {},
      "outputs": [],
      "source": [
        "lrnr = sklearn.linear_model.LogisticRegression()"
      ],
      "id": "21af7743-14f6-45bb-91ff-8d9c6a311d0d"
    },
    {
      "cell_type": "markdown",
      "metadata": {},
      "source": [
        "`-` step3: fit"
      ],
      "id": "a95eadd6-5dd4-4a78-9aad-8f34d2d8adcb"
    },
    {
      "cell_type": "code",
      "execution_count": 33,
      "metadata": {},
      "outputs": [
        {
          "output_type": "display_data",
          "metadata": {},
          "data": {
            "text/html": [
              "<style>#sk-container-id-3 {color: black;background-color: white;}#sk-container-id-3 pre{padding: 0;}#sk-container-id-3 div.sk-toggleable {background-color: white;}#sk-container-id-3 label.sk-toggleable__label {cursor: pointer;display: block;width: 100%;margin-bottom: 0;padding: 0.3em;box-sizing: border-box;text-align: center;}#sk-container-id-3 label.sk-toggleable__label-arrow:before {content: \"▸\";float: left;margin-right: 0.25em;color: #696969;}#sk-container-id-3 label.sk-toggleable__label-arrow:hover:before {color: black;}#sk-container-id-3 div.sk-estimator:hover label.sk-toggleable__label-arrow:before {color: black;}#sk-container-id-3 div.sk-toggleable__content {max-height: 0;max-width: 0;overflow: hidden;text-align: left;background-color: #f0f8ff;}#sk-container-id-3 div.sk-toggleable__content pre {margin: 0.2em;color: black;border-radius: 0.25em;background-color: #f0f8ff;}#sk-container-id-3 input.sk-toggleable__control:checked~div.sk-toggleable__content {max-height: 200px;max-width: 100%;overflow: auto;}#sk-container-id-3 input.sk-toggleable__control:checked~label.sk-toggleable__label-arrow:before {content: \"▾\";}#sk-container-id-3 div.sk-estimator input.sk-toggleable__control:checked~label.sk-toggleable__label {background-color: #d4ebff;}#sk-container-id-3 div.sk-label input.sk-toggleable__control:checked~label.sk-toggleable__label {background-color: #d4ebff;}#sk-container-id-3 input.sk-hidden--visually {border: 0;clip: rect(1px 1px 1px 1px);clip: rect(1px, 1px, 1px, 1px);height: 1px;margin: -1px;overflow: hidden;padding: 0;position: absolute;width: 1px;}#sk-container-id-3 div.sk-estimator {font-family: monospace;background-color: #f0f8ff;border: 1px dotted black;border-radius: 0.25em;box-sizing: border-box;margin-bottom: 0.5em;}#sk-container-id-3 div.sk-estimator:hover {background-color: #d4ebff;}#sk-container-id-3 div.sk-parallel-item::after {content: \"\";width: 100%;border-bottom: 1px solid gray;flex-grow: 1;}#sk-container-id-3 div.sk-label:hover label.sk-toggleable__label {background-color: #d4ebff;}#sk-container-id-3 div.sk-serial::before {content: \"\";position: absolute;border-left: 1px solid gray;box-sizing: border-box;top: 0;bottom: 0;left: 50%;z-index: 0;}#sk-container-id-3 div.sk-serial {display: flex;flex-direction: column;align-items: center;background-color: white;padding-right: 0.2em;padding-left: 0.2em;position: relative;}#sk-container-id-3 div.sk-item {position: relative;z-index: 1;}#sk-container-id-3 div.sk-parallel {display: flex;align-items: stretch;justify-content: center;background-color: white;position: relative;}#sk-container-id-3 div.sk-item::before, #sk-container-id-3 div.sk-parallel-item::before {content: \"\";position: absolute;border-left: 1px solid gray;box-sizing: border-box;top: 0;bottom: 0;left: 50%;z-index: -1;}#sk-container-id-3 div.sk-parallel-item {display: flex;flex-direction: column;z-index: 1;position: relative;background-color: white;}#sk-container-id-3 div.sk-parallel-item:first-child::after {align-self: flex-end;width: 50%;}#sk-container-id-3 div.sk-parallel-item:last-child::after {align-self: flex-start;width: 50%;}#sk-container-id-3 div.sk-parallel-item:only-child::after {width: 0;}#sk-container-id-3 div.sk-dashed-wrapped {border: 1px dashed gray;margin: 0 0.4em 0.5em 0.4em;box-sizing: border-box;padding-bottom: 0.4em;background-color: white;}#sk-container-id-3 div.sk-label label {font-family: monospace;font-weight: bold;display: inline-block;line-height: 1.2em;}#sk-container-id-3 div.sk-label-container {text-align: center;}#sk-container-id-3 div.sk-container {/* jupyter's `normalize.less` sets `[hidden] { display: none; }` but bootstrap.min.css set `[hidden] { display: none !important; }` so we also need the `!important` here to be able to override the default hidden behavior on the sphinx rendered scikit-learn.org. See: https://github.com/scikit-learn/scikit-learn/issues/21755 */display: inline-block !important;position: relative;}#sk-container-id-3 div.sk-text-repr-fallback {display: none;}</style><div id=\"sk-container-id-3\" class=\"sk-top-container\"><div class=\"sk-text-repr-fallback\"><pre>LogisticRegression()</pre><b>In a Jupyter environment, please rerun this cell to show the HTML representation or trust the notebook. <br />On GitHub, the HTML representation is unable to render, please try loading this page with nbviewer.org.</b></div><div class=\"sk-container\" hidden><div class=\"sk-item\"><div class=\"sk-estimator sk-toggleable\"><input class=\"sk-toggleable__control sk-hidden--visually\" id=\"sk-estimator-id-3\" type=\"checkbox\" checked><label for=\"sk-estimator-id-3\" class=\"sk-toggleable__label sk-toggleable__label-arrow\">LogisticRegression</label><div class=\"sk-toggleable__content\"><pre>LogisticRegression()</pre></div></div></div></div></div>"
            ]
          }
        }
      ],
      "source": [
        "lrnr.fit(X,y)"
      ],
      "id": "1184b7c0-624b-4b5f-9b06-a4beb65f9a6c"
    },
    {
      "cell_type": "markdown",
      "metadata": {},
      "source": [
        "`-` step4: evaluate"
      ],
      "id": "6e80b5cd-2c4e-4977-be16-f56970aa66ae"
    },
    {
      "cell_type": "code",
      "execution_count": 34,
      "metadata": {},
      "outputs": [],
      "source": [
        "thresh = df50_tr.is_fraud.mean()\n",
        "yyhat = (lrnr.predict_proba(XX)> thresh)[:,-1]\n",
        "#yyhat = lrnr.predict(XX) "
      ],
      "id": "0c8b2eef-136c-4f37-80d4-68d290ef9638"
    },
    {
      "cell_type": "code",
      "execution_count": 35,
      "metadata": {},
      "outputs": [],
      "source": [
        "metrics = [sklearn.metrics.accuracy_score,\n",
        "           sklearn.metrics.precision_score,\n",
        "           sklearn.metrics.recall_score,\n",
        "           sklearn.metrics.f1_score]"
      ],
      "id": "6eb1fc45-74de-4fa2-8bd2-f504564d5464"
    },
    {
      "cell_type": "code",
      "execution_count": 36,
      "metadata": {},
      "outputs": [
        {
          "output_type": "display_data",
          "metadata": {},
          "data": {
            "text/html": [
              "\n",
              "</div>"
            ]
          }
        }
      ],
      "source": [
        "_results3= pd.DataFrame({m.__name__:[m(yy,yyhat).round(6)] for m in metrics},index=['분석3'])\n",
        "_results3"
      ],
      "id": "f5a4e53d-d34d-46af-a296-8ae0e7434403"
    },
    {
      "cell_type": "markdown",
      "metadata": {},
      "source": [
        "# 분석4\n",
        "\n",
        "`-` step1: data"
      ],
      "id": "a9ba45e5-e5b4-482c-8d68-70a627ad40d6"
    },
    {
      "cell_type": "code",
      "execution_count": 37,
      "metadata": {},
      "outputs": [],
      "source": [
        "X = np.array(amtano1(fraudTrain_tr).loc[:,['amt','amtano']])\n",
        "XX = np.array(amtano1(df50_test).loc[:,['amt','amtano']])\n",
        "y = np.array(fraudTrain_tr.is_fraud)\n",
        "yy = np.array(df50_test.is_fraud)"
      ],
      "id": "dc565092-b53c-4acf-8c75-8212850f5a51"
    },
    {
      "cell_type": "markdown",
      "metadata": {},
      "source": [
        "`-` step2: lrnr 생성"
      ],
      "id": "7b31799e-1a49-416c-82fb-c517e2d985dc"
    },
    {
      "cell_type": "code",
      "execution_count": 38,
      "metadata": {},
      "outputs": [],
      "source": [
        "lrnr = sklearn.linear_model.LogisticRegression()"
      ],
      "id": "e14954a5-1ca0-4681-820b-87b5678431a4"
    },
    {
      "cell_type": "markdown",
      "metadata": {},
      "source": [
        "`-` step3: fit"
      ],
      "id": "c88c20f3-a61c-4fef-a4fb-da2a635ca336"
    },
    {
      "cell_type": "code",
      "execution_count": 39,
      "metadata": {},
      "outputs": [
        {
          "output_type": "display_data",
          "metadata": {},
          "data": {
            "text/html": [
              "<style>#sk-container-id-4 {color: black;background-color: white;}#sk-container-id-4 pre{padding: 0;}#sk-container-id-4 div.sk-toggleable {background-color: white;}#sk-container-id-4 label.sk-toggleable__label {cursor: pointer;display: block;width: 100%;margin-bottom: 0;padding: 0.3em;box-sizing: border-box;text-align: center;}#sk-container-id-4 label.sk-toggleable__label-arrow:before {content: \"▸\";float: left;margin-right: 0.25em;color: #696969;}#sk-container-id-4 label.sk-toggleable__label-arrow:hover:before {color: black;}#sk-container-id-4 div.sk-estimator:hover label.sk-toggleable__label-arrow:before {color: black;}#sk-container-id-4 div.sk-toggleable__content {max-height: 0;max-width: 0;overflow: hidden;text-align: left;background-color: #f0f8ff;}#sk-container-id-4 div.sk-toggleable__content pre {margin: 0.2em;color: black;border-radius: 0.25em;background-color: #f0f8ff;}#sk-container-id-4 input.sk-toggleable__control:checked~div.sk-toggleable__content {max-height: 200px;max-width: 100%;overflow: auto;}#sk-container-id-4 input.sk-toggleable__control:checked~label.sk-toggleable__label-arrow:before {content: \"▾\";}#sk-container-id-4 div.sk-estimator input.sk-toggleable__control:checked~label.sk-toggleable__label {background-color: #d4ebff;}#sk-container-id-4 div.sk-label input.sk-toggleable__control:checked~label.sk-toggleable__label {background-color: #d4ebff;}#sk-container-id-4 input.sk-hidden--visually {border: 0;clip: rect(1px 1px 1px 1px);clip: rect(1px, 1px, 1px, 1px);height: 1px;margin: -1px;overflow: hidden;padding: 0;position: absolute;width: 1px;}#sk-container-id-4 div.sk-estimator {font-family: monospace;background-color: #f0f8ff;border: 1px dotted black;border-radius: 0.25em;box-sizing: border-box;margin-bottom: 0.5em;}#sk-container-id-4 div.sk-estimator:hover {background-color: #d4ebff;}#sk-container-id-4 div.sk-parallel-item::after {content: \"\";width: 100%;border-bottom: 1px solid gray;flex-grow: 1;}#sk-container-id-4 div.sk-label:hover label.sk-toggleable__label {background-color: #d4ebff;}#sk-container-id-4 div.sk-serial::before {content: \"\";position: absolute;border-left: 1px solid gray;box-sizing: border-box;top: 0;bottom: 0;left: 50%;z-index: 0;}#sk-container-id-4 div.sk-serial {display: flex;flex-direction: column;align-items: center;background-color: white;padding-right: 0.2em;padding-left: 0.2em;position: relative;}#sk-container-id-4 div.sk-item {position: relative;z-index: 1;}#sk-container-id-4 div.sk-parallel {display: flex;align-items: stretch;justify-content: center;background-color: white;position: relative;}#sk-container-id-4 div.sk-item::before, #sk-container-id-4 div.sk-parallel-item::before {content: \"\";position: absolute;border-left: 1px solid gray;box-sizing: border-box;top: 0;bottom: 0;left: 50%;z-index: -1;}#sk-container-id-4 div.sk-parallel-item {display: flex;flex-direction: column;z-index: 1;position: relative;background-color: white;}#sk-container-id-4 div.sk-parallel-item:first-child::after {align-self: flex-end;width: 50%;}#sk-container-id-4 div.sk-parallel-item:last-child::after {align-self: flex-start;width: 50%;}#sk-container-id-4 div.sk-parallel-item:only-child::after {width: 0;}#sk-container-id-4 div.sk-dashed-wrapped {border: 1px dashed gray;margin: 0 0.4em 0.5em 0.4em;box-sizing: border-box;padding-bottom: 0.4em;background-color: white;}#sk-container-id-4 div.sk-label label {font-family: monospace;font-weight: bold;display: inline-block;line-height: 1.2em;}#sk-container-id-4 div.sk-label-container {text-align: center;}#sk-container-id-4 div.sk-container {/* jupyter's `normalize.less` sets `[hidden] { display: none; }` but bootstrap.min.css set `[hidden] { display: none !important; }` so we also need the `!important` here to be able to override the default hidden behavior on the sphinx rendered scikit-learn.org. See: https://github.com/scikit-learn/scikit-learn/issues/21755 */display: inline-block !important;position: relative;}#sk-container-id-4 div.sk-text-repr-fallback {display: none;}</style><div id=\"sk-container-id-4\" class=\"sk-top-container\"><div class=\"sk-text-repr-fallback\"><pre>LogisticRegression()</pre><b>In a Jupyter environment, please rerun this cell to show the HTML representation or trust the notebook. <br />On GitHub, the HTML representation is unable to render, please try loading this page with nbviewer.org.</b></div><div class=\"sk-container\" hidden><div class=\"sk-item\"><div class=\"sk-estimator sk-toggleable\"><input class=\"sk-toggleable__control sk-hidden--visually\" id=\"sk-estimator-id-4\" type=\"checkbox\" checked><label for=\"sk-estimator-id-4\" class=\"sk-toggleable__label sk-toggleable__label-arrow\">LogisticRegression</label><div class=\"sk-toggleable__content\"><pre>LogisticRegression()</pre></div></div></div></div></div>"
            ]
          }
        }
      ],
      "source": [
        "lrnr.fit(X,y)"
      ],
      "id": "d38ae0ee-0bb1-4cf1-8c7b-e37be5072535"
    },
    {
      "cell_type": "markdown",
      "metadata": {},
      "source": [
        "`-` step4: evaluate"
      ],
      "id": "8ccb6da7-b4b6-485e-aba2-bcdcc96d69f1"
    },
    {
      "cell_type": "code",
      "execution_count": 40,
      "metadata": {},
      "outputs": [],
      "source": [
        "thresh = fraudTrain_tr.is_fraud.mean()\n",
        "yyhat = (lrnr.predict_proba(XX)> thresh)[:,-1]\n",
        "# yyhat = lrnr.predict(XX) "
      ],
      "id": "049de020-2584-4dca-b304-5a9d338c4df7"
    },
    {
      "cell_type": "code",
      "execution_count": 41,
      "metadata": {},
      "outputs": [],
      "source": [
        "metrics = [sklearn.metrics.accuracy_score,\n",
        "           sklearn.metrics.precision_score,\n",
        "           sklearn.metrics.recall_score,\n",
        "           sklearn.metrics.f1_score]"
      ],
      "id": "72f6b5a8-1159-4371-a695-719c3f0665af"
    },
    {
      "cell_type": "code",
      "execution_count": 42,
      "metadata": {},
      "outputs": [
        {
          "output_type": "display_data",
          "metadata": {},
          "data": {
            "text/html": [
              "\n",
              "</div>"
            ]
          }
        }
      ],
      "source": [
        "_results4= pd.DataFrame({m.__name__:[m(yy,yyhat).round(6)] for m in metrics},index=['분석4'])\n",
        "_results4"
      ],
      "id": "b5e9e5b7-1dcc-4675-8ff5-0e5ae70d323b"
    },
    {
      "cell_type": "markdown",
      "metadata": {},
      "source": [
        "# 분석5\n",
        "\n",
        "`-` step1: data"
      ],
      "id": "211f0d21-aa26-4ee4-8189-a5f36e872b2e"
    },
    {
      "cell_type": "code",
      "execution_count": 43,
      "metadata": {},
      "outputs": [
        {
          "output_type": "stream",
          "name": "stderr",
          "text": [
            "Computing transition probabilities: 100%|██████████| 1501/1501 [00:00<00:00, 16084.29it/s]\n",
            "Generating walks (CPU: 1): 100%|██████████| 10/10 [00:02<00:00,  3.53it/s]\n",
            "Computing transition probabilities: 100%|██████████| 1501/1501 [00:00<00:00, 16125.78it/s]\n",
            "Generating walks (CPU: 1): 100%|██████████| 10/10 [00:02<00:00,  3.56it/s]"
          ]
        }
      ],
      "source": [
        "Gtr = build_graph_bipartite(df50_tr)\n",
        "Gtest = build_graph_bipartite(df50_test)\n",
        "X,y = embedding(Gtr)\n",
        "XX,yy = embedding(Gtest)"
      ],
      "id": "18061996-71e5-4521-bd71-f021075e510f"
    },
    {
      "cell_type": "markdown",
      "metadata": {},
      "source": [
        "`-` step2: lrnr 생성"
      ],
      "id": "707f73f2-0a71-42e9-a3f5-db2761ee23b3"
    },
    {
      "cell_type": "code",
      "execution_count": 44,
      "metadata": {},
      "outputs": [],
      "source": [
        "lrnr = sklearn.linear_model.LogisticRegression()"
      ],
      "id": "d453e920-015b-4e44-bb92-148e41fbd89e"
    },
    {
      "cell_type": "markdown",
      "metadata": {},
      "source": [
        "`-` step3: fit"
      ],
      "id": "a6a30307-6907-4813-83d6-da4113fdf41a"
    },
    {
      "cell_type": "code",
      "execution_count": 45,
      "metadata": {},
      "outputs": [
        {
          "output_type": "display_data",
          "metadata": {},
          "data": {
            "text/html": [
              "<style>#sk-container-id-5 {color: black;background-color: white;}#sk-container-id-5 pre{padding: 0;}#sk-container-id-5 div.sk-toggleable {background-color: white;}#sk-container-id-5 label.sk-toggleable__label {cursor: pointer;display: block;width: 100%;margin-bottom: 0;padding: 0.3em;box-sizing: border-box;text-align: center;}#sk-container-id-5 label.sk-toggleable__label-arrow:before {content: \"▸\";float: left;margin-right: 0.25em;color: #696969;}#sk-container-id-5 label.sk-toggleable__label-arrow:hover:before {color: black;}#sk-container-id-5 div.sk-estimator:hover label.sk-toggleable__label-arrow:before {color: black;}#sk-container-id-5 div.sk-toggleable__content {max-height: 0;max-width: 0;overflow: hidden;text-align: left;background-color: #f0f8ff;}#sk-container-id-5 div.sk-toggleable__content pre {margin: 0.2em;color: black;border-radius: 0.25em;background-color: #f0f8ff;}#sk-container-id-5 input.sk-toggleable__control:checked~div.sk-toggleable__content {max-height: 200px;max-width: 100%;overflow: auto;}#sk-container-id-5 input.sk-toggleable__control:checked~label.sk-toggleable__label-arrow:before {content: \"▾\";}#sk-container-id-5 div.sk-estimator input.sk-toggleable__control:checked~label.sk-toggleable__label {background-color: #d4ebff;}#sk-container-id-5 div.sk-label input.sk-toggleable__control:checked~label.sk-toggleable__label {background-color: #d4ebff;}#sk-container-id-5 input.sk-hidden--visually {border: 0;clip: rect(1px 1px 1px 1px);clip: rect(1px, 1px, 1px, 1px);height: 1px;margin: -1px;overflow: hidden;padding: 0;position: absolute;width: 1px;}#sk-container-id-5 div.sk-estimator {font-family: monospace;background-color: #f0f8ff;border: 1px dotted black;border-radius: 0.25em;box-sizing: border-box;margin-bottom: 0.5em;}#sk-container-id-5 div.sk-estimator:hover {background-color: #d4ebff;}#sk-container-id-5 div.sk-parallel-item::after {content: \"\";width: 100%;border-bottom: 1px solid gray;flex-grow: 1;}#sk-container-id-5 div.sk-label:hover label.sk-toggleable__label {background-color: #d4ebff;}#sk-container-id-5 div.sk-serial::before {content: \"\";position: absolute;border-left: 1px solid gray;box-sizing: border-box;top: 0;bottom: 0;left: 50%;z-index: 0;}#sk-container-id-5 div.sk-serial {display: flex;flex-direction: column;align-items: center;background-color: white;padding-right: 0.2em;padding-left: 0.2em;position: relative;}#sk-container-id-5 div.sk-item {position: relative;z-index: 1;}#sk-container-id-5 div.sk-parallel {display: flex;align-items: stretch;justify-content: center;background-color: white;position: relative;}#sk-container-id-5 div.sk-item::before, #sk-container-id-5 div.sk-parallel-item::before {content: \"\";position: absolute;border-left: 1px solid gray;box-sizing: border-box;top: 0;bottom: 0;left: 50%;z-index: -1;}#sk-container-id-5 div.sk-parallel-item {display: flex;flex-direction: column;z-index: 1;position: relative;background-color: white;}#sk-container-id-5 div.sk-parallel-item:first-child::after {align-self: flex-end;width: 50%;}#sk-container-id-5 div.sk-parallel-item:last-child::after {align-self: flex-start;width: 50%;}#sk-container-id-5 div.sk-parallel-item:only-child::after {width: 0;}#sk-container-id-5 div.sk-dashed-wrapped {border: 1px dashed gray;margin: 0 0.4em 0.5em 0.4em;box-sizing: border-box;padding-bottom: 0.4em;background-color: white;}#sk-container-id-5 div.sk-label label {font-family: monospace;font-weight: bold;display: inline-block;line-height: 1.2em;}#sk-container-id-5 div.sk-label-container {text-align: center;}#sk-container-id-5 div.sk-container {/* jupyter's `normalize.less` sets `[hidden] { display: none; }` but bootstrap.min.css set `[hidden] { display: none !important; }` so we also need the `!important` here to be able to override the default hidden behavior on the sphinx rendered scikit-learn.org. See: https://github.com/scikit-learn/scikit-learn/issues/21755 */display: inline-block !important;position: relative;}#sk-container-id-5 div.sk-text-repr-fallback {display: none;}</style><div id=\"sk-container-id-5\" class=\"sk-top-container\"><div class=\"sk-text-repr-fallback\"><pre>LogisticRegression()</pre><b>In a Jupyter environment, please rerun this cell to show the HTML representation or trust the notebook. <br />On GitHub, the HTML representation is unable to render, please try loading this page with nbviewer.org.</b></div><div class=\"sk-container\" hidden><div class=\"sk-item\"><div class=\"sk-estimator sk-toggleable\"><input class=\"sk-toggleable__control sk-hidden--visually\" id=\"sk-estimator-id-5\" type=\"checkbox\" checked><label for=\"sk-estimator-id-5\" class=\"sk-toggleable__label sk-toggleable__label-arrow\">LogisticRegression</label><div class=\"sk-toggleable__content\"><pre>LogisticRegression()</pre></div></div></div></div></div>"
            ]
          }
        }
      ],
      "source": [
        "lrnr.fit(X,y)"
      ],
      "id": "5e55b023-e1eb-42bb-8f5b-1112cb16ad55"
    },
    {
      "cell_type": "markdown",
      "metadata": {},
      "source": [
        "`-` step4: evaluate"
      ],
      "id": "7ac8e635-9b2d-4bb1-94a4-074e5a18503c"
    },
    {
      "cell_type": "code",
      "execution_count": 46,
      "metadata": {},
      "outputs": [],
      "source": [
        "#thresh = df50_tr.is_fraud.mean()\n",
        "#yyhat = (lrnr.predict_proba(XX)> thresh)[:,-1]\n",
        "yyhat = lrnr.predict(XX) "
      ],
      "id": "6138e30e-beb0-4bc0-9c0c-2b21c9816887"
    },
    {
      "cell_type": "code",
      "execution_count": 47,
      "metadata": {},
      "outputs": [],
      "source": [
        "metrics = [sklearn.metrics.accuracy_score,\n",
        "           sklearn.metrics.precision_score,\n",
        "           sklearn.metrics.recall_score,\n",
        "           sklearn.metrics.f1_score]"
      ],
      "id": "35b1bdd7-bae2-4213-a0ee-da190986e709"
    },
    {
      "cell_type": "code",
      "execution_count": 48,
      "metadata": {},
      "outputs": [
        {
          "output_type": "display_data",
          "metadata": {},
          "data": {
            "text/html": [
              "\n",
              "</div>"
            ]
          }
        }
      ],
      "source": [
        "_results5= pd.DataFrame({m.__name__:[m(yy,yyhat).round(6)] for m in metrics},index=['분석5'])\n",
        "_results5"
      ],
      "id": "e01eb824-3b71-45dc-8c09-0b7c098195ea"
    },
    {
      "cell_type": "markdown",
      "metadata": {},
      "source": [
        "-   기준이 다름"
      ],
      "id": "cbdfc15f-ea4b-471b-a302-0290e6d6c08f"
    }
  ],
  "nbformat": 4,
  "nbformat_minor": 5,
  "metadata": {
    "kernelspec": {
      "name": "python3",
      "display_name": "Python 3 (ipykernel)",
      "language": "python"
    },
    "language_info": {
      "name": "python",
      "codemirror_mode": {
        "name": "ipython",
        "version": "3"
      },
      "file_extension": ".py",
      "mimetype": "text/x-python",
      "nbconvert_exporter": "python",
      "pygments_lexer": "ipython3",
      "version": "3.10.13"
    }
  }
}