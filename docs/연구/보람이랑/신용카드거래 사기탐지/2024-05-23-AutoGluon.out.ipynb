{
  "cells": [
    {
      "cell_type": "markdown",
      "metadata": {},
      "source": [
        "# (연구&보람) AutoGluon\n",
        "\n",
        "김보람  \n",
        "2024-05-02"
      ],
      "id": "e00cd352-cc14-4905-9e6a-bc617b62ad3f"
    },
    {
      "cell_type": "code",
      "execution_count": 24,
      "metadata": {},
      "outputs": [],
      "source": [
        "import pandas as pd\n",
        "import os "
      ],
      "id": "903cec39-80c2-4b7d-bf79-fb6af3a19d83"
    },
    {
      "cell_type": "code",
      "execution_count": 25,
      "metadata": {},
      "outputs": [],
      "source": [
        "from autogluon.tabular import TabularDataset, TabularPredictor\n",
        "import sklearn"
      ],
      "id": "46ca5e19-e31d-48af-bac4-2bfe038e2eb8"
    },
    {
      "cell_type": "code",
      "execution_count": 40,
      "metadata": {},
      "outputs": [
        {
          "output_type": "display_data",
          "metadata": {},
          "data": {
            "text/plain": [
              "['df_train1_2024-06-06-07-42-19_gamma095.csv',\n",
              " 'df_train2_2024-06-06-07-57-18_gamma095.csv',\n",
              " 'df_train3_2024-06-06-08-01-55_gamma095.csv',\n",
              " 'df_train4_2024-06-06-08-05-32_gamma095.csv',\n",
              " 'df_train5_2024-06-06-08-08-44_gamma095.csv',\n",
              " 'df_train6_2024-06-06-08-11-47_gamma095.csv',\n",
              " 'df_train7_2024-06-06-08-14-46_gamma095.csv',\n",
              " 'df_train8_2024-06-06-08-17-44_gamma095.csv']"
            ]
          }
        }
      ],
      "source": [
        "df_train_fnamelst = [l for l in os.listdir(\"./GCNresults/\") if \"gamma095\" in l and \"train\" in l]\n",
        "df_train_fnamelst.sort()\n",
        "df_train_fnamelst"
      ],
      "id": "51df39f8-4899-47f2-92a0-c80e6d3a1ef4"
    },
    {
      "cell_type": "code",
      "execution_count": 41,
      "metadata": {},
      "outputs": [
        {
          "output_type": "display_data",
          "metadata": {},
          "data": {
            "text/plain": [
              "['df_test_2024-06-06-07-42-19_gamma095.csv',\n",
              " 'df_test_2024-06-06-07-57-18_gamma095.csv',\n",
              " 'df_test_2024-06-06-08-01-55_gamma095.csv',\n",
              " 'df_test_2024-06-06-08-05-32_gamma095.csv',\n",
              " 'df_test_2024-06-06-08-08-44_gamma095.csv',\n",
              " 'df_test_2024-06-06-08-11-47_gamma095.csv',\n",
              " 'df_test_2024-06-06-08-14-46_gamma095.csv',\n",
              " 'df_test_2024-06-06-08-17-44_gamma095.csv']"
            ]
          }
        }
      ],
      "source": [
        "df_test_fnamelst = [l for l in os.listdir(\"./GCNresults/\") if \"gamma095\" in l and \"test\" in l]\n",
        "df_test_fnamelst.sort()\n",
        "df_test_fnamelst"
      ],
      "id": "223dbae8-e9e9-4c11-be81-6458231c9711"
    },
    {
      "cell_type": "code",
      "execution_count": 42,
      "metadata": {},
      "outputs": [],
      "source": [
        "columns = [\n",
        "    'category',\n",
        "    'amt',\n",
        "    'gender',\n",
        "    # 'street',\n",
        "    # 'city',\n",
        "    # 'state',\n",
        "    # 'zip',\n",
        "    # 'lat',\n",
        "    # 'long',\n",
        "    # 'city_pop',\n",
        "    'job',\n",
        "    'unix_time',\n",
        "    'is_fraud',\n",
        "#    'is_fraud_hat_prob',\n",
        "    'h0','h1','h2','h3','h4','h5','h6','h7'\n",
        "]"
      ],
      "id": "52069c9f-e8a5-485e-8e51-da1aed668117"
    },
    {
      "cell_type": "code",
      "execution_count": 48,
      "metadata": {},
      "outputs": [],
      "source": [
        "df_train_list = [pd.read_csv(f\"GCNresults/{fname}\")[Xcolumns] for fname in df_train_fnamelst]\n",
        "df_test_list = [pd.read_csv(f\"GCNresults/{fname}\")[Xcolumns] for fname in df_test_fnamelst]"
      ],
      "id": "371e3d3d-d3f4-465c-b1fa-e302f947f48f"
    },
    {
      "cell_type": "code",
      "execution_count": 49,
      "metadata": {},
      "outputs": [],
      "source": [
        "df_zip = zip(df_train_list,df_test_list)"
      ],
      "id": "47f24581-ea0f-49b2-9b3a-afc1d7b731fb"
    },
    {
      "cell_type": "code",
      "execution_count": 50,
      "metadata": {},
      "outputs": [],
      "source": [
        "df_train, df_test = next(df_zip)"
      ],
      "id": "0a529c2e-bd37-458b-93e2-6659f563cd1e"
    },
    {
      "cell_type": "code",
      "execution_count": 51,
      "metadata": {},
      "outputs": [
        {
          "output_type": "stream",
          "name": "stderr",
          "text": [
            "No path specified. Models will be saved in: \"AutogluonModels/ag-20240608_021237\""
          ]
        }
      ],
      "source": [
        "predictr = TabularPredictor(\n",
        "    label=\"is_fraud\", \n",
        "    verbosity=1,\n",
        "    log_to_file=False,\n",
        ")"
      ],
      "id": "32387863-0d6d-41d5-a140-31d155727934"
    },
    {
      "cell_type": "code",
      "execution_count": 52,
      "metadata": {},
      "outputs": [
        {
          "output_type": "stream",
          "name": "stderr",
          "text": [
            "AutoGluon infers your prediction problem is: 'binary' (because only two unique label-values observed).\n",
            "    If 'binary' is not the correct problem_type, please manually specify the problem_type parameter during predictor init (You may specify problem_type as one of: ['binary', 'multiclass', 'regression'])"
          ]
        },
        {
          "output_type": "display_data",
          "metadata": {},
          "data": {
            "text/plain": [
              "<autogluon.tabular.predictor.predictor.TabularPredictor at 0x7f58001ac7f0>"
            ]
          }
        }
      ],
      "source": [
        "predictr.fit(df_train)"
      ],
      "id": "883bbd90-0b72-47fb-9ad4-b2f898ebf981"
    },
    {
      "cell_type": "code",
      "execution_count": 54,
      "metadata": {},
      "outputs": [
        {
          "output_type": "display_data",
          "metadata": {},
          "data": {
            "image/png": "[encoded data removed]"
          }
        }
      ],
      "source": [
        "yyhat_prob = predictr.predict_proba(df_test).iloc[:,-1]\n",
        "df_test_compact=df_test.assign(yyhat_prob = yyhat_prob).loc[:,['amt','is_fraud','yyhat_prob']]\n",
        "df_test_compact[\n",
        "    (df_test_compact.amt<80) & (df_test_compact.is_fraud==1)\n",
        "].yyhat_prob.hist()"
      ],
      "id": "28725701-b010-406f-85de-4454a06e9864"
    },
    {
      "cell_type": "code",
      "execution_count": 55,
      "metadata": {},
      "outputs": [
        {
          "output_type": "display_data",
          "metadata": {},
          "data": {
            "text/html": [
              "\n",
              "<p>314572 rows × 3 columns</p>\n",
              "</div>"
            ]
          }
        }
      ],
      "source": [
        "df_test_compact"
      ],
      "id": "5b4a448a-a67c-40d8-9df3-cfb4a1be656d"
    },
    {
      "cell_type": "code",
      "execution_count": 12,
      "metadata": {},
      "outputs": [
        {
          "output_type": "display_data",
          "metadata": {},
          "data": {
            "text/plain": [
              "0.631762652705061"
            ]
          }
        }
      ],
      "source": [
        "sklearn.metrics.f1_score(\n",
        "    df_test_compact[df_test_compact.amt<80].is_fraud,\n",
        "    df_test_compact[df_test_compact.amt<80].yyhat_prob>0.5\n",
        ")"
      ],
      "id": "12d54ee1-7c93-4acd-b861-1a7c077d20cc"
    },
    {
      "cell_type": "code",
      "execution_count": 13,
      "metadata": {},
      "outputs": [
        {
          "output_type": "display_data",
          "metadata": {},
          "data": {
            "text/plain": [
              "0.4701298701298701"
            ]
          }
        }
      ],
      "source": [
        "sklearn.metrics.recall_score(\n",
        "    df_test_compact[df_test_compact.amt<80].is_fraud,\n",
        "    df_test_compact[df_test_compact.amt<80].yyhat_prob>0.5\n",
        ")"
      ],
      "id": "4e5131e4-c8f6-40bc-8e80-908c2dde7b9a"
    },
    {
      "cell_type": "code",
      "execution_count": 14,
      "metadata": {},
      "outputs": [
        {
          "output_type": "display_data",
          "metadata": {},
          "data": {
            "text/plain": [
              "0.9627659574468085"
            ]
          }
        }
      ],
      "source": [
        "sklearn.metrics.precision_score(\n",
        "    df_test_compact[df_test_compact.amt<80].is_fraud,\n",
        "    df_test_compact[df_test_compact.amt<80].yyhat_prob>0.5\n",
        ")"
      ],
      "id": "7063dfdb-90f4-48be-8fc8-812aa90163f3"
    }
  ],
  "nbformat": 4,
  "nbformat_minor": 5,
  "metadata": {
    "kernelspec": {
      "name": "python3",
      "display_name": "Python 3 (ipykernel)",
      "language": "python"
    },
    "language_info": {
      "name": "python",
      "codemirror_mode": {
        "name": "ipython",
        "version": "3"
      },
      "file_extension": ".py",
      "mimetype": "text/x-python",
      "nbconvert_exporter": "python",
      "pygments_lexer": "ipython3",
      "version": "3.10.13"
    }
  }
}