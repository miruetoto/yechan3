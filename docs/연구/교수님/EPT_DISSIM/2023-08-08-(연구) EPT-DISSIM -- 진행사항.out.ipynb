{
  "cells": [
    {
      "cell_type": "markdown",
      "metadata": {},
      "source": [
        "# (연구&교수님) EPT-DISSIM – 진행사항\n",
        "\n",
        "신록예찬  \n",
        "2023-08-08\n",
        "\n",
        "# 진행사항\n",
        "\n",
        "EPT_DISSIM: visualization (23.08.07) – 현재 중단\n",
        "\n",
        "-   PRCP_KOR 자료에 대한 시각화\n",
        "\n",
        "`PRCP_KOR2.csv`\n",
        "\n",
        "-   download:\n",
        "    <https://github.com/miruetoto/yechan3/blob/main/posts/3_Researches/YECHAN/EPT_DISSIM/PRCP_KOR2.csv>\n",
        "\n",
        "-   결측치를 0으로 채움"
      ],
      "id": "52f27f87-0c42-41da-a1d0-938e958c242f"
    }
  ],
  "nbformat": 4,
  "nbformat_minor": 5,
  "metadata": {
    "kernelspec": {
      "name": "python3",
      "display_name": "Python 3 (ipykernel)",
      "language": "python"
    },
    "language_info": {
      "name": "python",
      "codemirror_mode": {
        "name": "ipython",
        "version": "3"
      },
      "file_extension": ".py",
      "mimetype": "text/x-python",
      "nbconvert_exporter": "python",
      "pygments_lexer": "ipython3",
      "version": "3.12.1"
    }
  }
}