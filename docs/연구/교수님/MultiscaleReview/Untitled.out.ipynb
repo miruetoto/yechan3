{
  "cells": [
    {
      "cell_type": "markdown",
      "metadata": {},
      "source": [
        "# Intro"
      ],
      "id": "048681c5-4ab2-41bc-a8ff-3bf483a1abb9"
    },
    {
      "cell_type": "code",
      "execution_count": 1,
      "metadata": {},
      "outputs": [
        {
          "output_type": "stream",
          "name": "stderr",
          "text": [
            "Loading required package: usethis\n",
            "\n",
            "Downloading GitHub repo seoyeonc/gglite@HEAD\n",
            "\n",
            "\n",
            "Attaching package: ‘gglite’\n",
            "\n",
            "\n",
            "The following objects are masked from ‘package:stats’:\n",
            "\n",
            "    density, line, smooth, step\n",
            "\n",
            "\n",
            "The following object is masked from ‘package:graphics’:\n",
            "\n",
            "    boxplot\n",
            "\n",
            "\n",
            "The following objects are masked from ‘package:base’:\n",
            "\n",
            "    col, jitter\n",
            "\n",
            "\n",
            "Warning message:\n",
            "“package ‘stringr’ was built under R version 4.3.2”\n",
            "── Attaching core tidyverse packages ──────────────────────── tidyverse 2.0.0 ──\n",
            "✔ dplyr     1.1.4     ✔ readr     2.1.4\n",
            "✔ forcats   1.0.0     ✔ stringr   1.5.1\n",
            "✔ ggplot2   3.4.4     ✔ tibble    3.2.1\n",
            "✔ lubridate 1.9.3     ✔ tidyr     1.3.1\n",
            "✔ purrr     1.0.2     \n",
            "── Conflicts ────────────────────────────────────────── tidyverse_conflicts() ──\n",
            "✖ dplyr::filter() masks stats::filter()\n",
            "✖ dplyr::lag()    masks stats::lag()\n",
            "ℹ Use the conflicted package (<http://conflicted.r-lib.org/>) to force all conflicts to become errors"
          ]
        },
        {
          "output_type": "stream",
          "name": "stdout",
          "text": [
            "── R CMD build ─────────────────────────────────────────────────────────────────\n",
            "* checking for file ‘/tmp/RtmpOAGm9P/remotes4d7e1675b701/seoyeonc-gglite-1b35a36/DESCRIPTION’ ... OK\n",
            "* preparing ‘gglite’:\n",
            "* checking DESCRIPTION meta-information ... OK\n",
            "* checking for LF line-endings in source and make files and shell scripts\n",
            "* checking for empty or unneeded directories\n",
            "Omitted ‘LazyData’ from DESCRIPTION\n",
            "* building ‘gglite_0.1.0.tar.gz’\n"
          ]
        }
      ],
      "source": [
        "library(devtools)\n",
        "install_github(\"seoyeonc/gglite\",force=TRUE)\n",
        "library(gglite)\n",
        "library(tidyverse)\n",
        "library(patchwork)"
      ],
      "id": "443feb3f"
    },
    {
      "cell_type": "markdown",
      "metadata": {},
      "source": [
        "다중척도방법이란 데이터를 여러개의 스케일로 나누어 표현하고, 이러한\n",
        "표현들(representations)을 동시에 학습하는 통계적 방법론이다. 통계학에서\n",
        "가장 익숙한 다중척도 방법론은 아마 주성분분석일것이다. 주성분분석은\n",
        "\n",
        "주성분분석의 예시는 아래와 같다."
      ],
      "id": "384c0b08-b45b-4113-8ba6-98a66d2f9399"
    }
  ],
  "nbformat": 4,
  "nbformat_minor": 5,
  "metadata": {
    "kernelspec": {
      "name": "ir",
      "display_name": "R",
      "language": "R"
    },
    "language_info": {
      "name": "R",
      "codemirror_mode": "r",
      "file_extension": ".r",
      "mimetype": "text/x-r-source",
      "pygments_lexer": "r",
      "version": "4.3.1"
    }
  }
}