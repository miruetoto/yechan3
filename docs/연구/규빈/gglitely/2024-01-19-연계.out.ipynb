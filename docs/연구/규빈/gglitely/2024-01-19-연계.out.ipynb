{
  "cells": [
    {
      "cell_type": "markdown",
      "metadata": {},
      "source": [
        "# (연구) gglitely – 연계\n",
        "\n",
        "신록예찬  \n",
        "2024-01-19\n",
        "\n",
        "# Install"
      ],
      "id": "92a53992-c6fc-4dc9-93e8-ec6b28287324"
    },
    {
      "cell_type": "code",
      "execution_count": 1,
      "metadata": {},
      "outputs": [
        {
          "output_type": "stream",
          "name": "stdout",
          "text": [
            "Found existing installation: gglitely 0.0.1\n",
            "Uninstalling gglitely-0.0.1:\n",
            "  Successfully uninstalled gglitely-0.0.1\n",
            "Collecting git+https://github.com/seoyeonc/gglitely.git\n",
            "  Cloning https://github.com/seoyeonc/gglitely.git to /tmp/pip-req-build-_j7p4ip1\n",
            "  Running command git clone --filter=blob:none --quiet https://github.com/seoyeonc/gglitely.git /tmp/pip-req-build-_j7p4ip1\n",
            "  Resolved https://github.com/seoyeonc/gglitely.git to commit 86f5c00a4a8e40a05e5fdaa927296f50ff290b24\n",
            "  Preparing metadata (setup.py) ... -\b \bdone\n",
            "Requirement already satisfied: pandas in /home/cgb2/anaconda3/envs/pyod/lib/python3.11/site-packages (from gglitely==0.0.1) (2.1.4)\n",
            "Requirement already satisfied: numpy<2,>=1.23.2 in /home/cgb2/anaconda3/envs/pyod/lib/python3.11/site-packages (from pandas->gglitely==0.0.1) (1.26.3)\n",
            "Requirement already satisfied: python-dateutil>=2.8.2 in /home/cgb2/anaconda3/envs/pyod/lib/python3.11/site-packages (from pandas->gglitely==0.0.1) (2.8.2)\n",
            "Requirement already satisfied: pytz>=2020.1 in /home/cgb2/anaconda3/envs/pyod/lib/python3.11/site-packages (from pandas->gglitely==0.0.1) (2023.3.post1)\n",
            "Requirement already satisfied: tzdata>=2022.1 in /home/cgb2/anaconda3/envs/pyod/lib/python3.11/site-packages (from pandas->gglitely==0.0.1) (2023.3)\n",
            "Requirement already satisfied: six>=1.5 in /home/cgb2/anaconda3/envs/pyod/lib/python3.11/site-packages (from python-dateutil>=2.8.2->pandas->gglitely==0.0.1) (1.16.0)\n",
            "Building wheels for collected packages: gglitely\n",
            "  Building wheel for gglitely (setup.py) ... -\b \bdone\n",
            "  Created wheel for gglitely: filename=gglitely-0.0.1-py3-none-any.whl size=2472 sha256=3505d41a136a3f31f5faf56330c551cb2f9453e3e689eb6ccb909a68bb7aa840\n",
            "  Stored in directory: /tmp/pip-ephem-wheel-cache-rqor85h4/wheels/a5/b2/29/5db99646aa2b8d946b957bdf761a177612bf6709303d4ed579\n",
            "Successfully built gglitely\n",
            "Installing collected packages: gglitely\n",
            "Successfully installed gglitely-0.0.1"
          ]
        }
      ],
      "source": [
        "!pip uninstall gglitely -y\n",
        "!pip install git+https://github.com/seoyeonc/gglitely.git"
      ],
      "id": "f17cb39b-f172-46e4-9cbc-547a06a5e953"
    },
    {
      "cell_type": "markdown",
      "metadata": {},
      "source": [
        "# Imports"
      ],
      "id": "ab5ed76e-14f5-4cd6-9794-fda104ab9260"
    },
    {
      "cell_type": "code",
      "execution_count": 2,
      "metadata": {},
      "outputs": [],
      "source": [
        "from gglitely import * "
      ],
      "id": "2ce85a2f-7412-4af4-9dc9-ca8e3818fefa"
    },
    {
      "cell_type": "markdown",
      "metadata": {},
      "source": [
        "# Convert"
      ],
      "id": "65ba68ee-9402-483e-8617-5d99f8572cfd"
    },
    {
      "cell_type": "code",
      "execution_count": 3,
      "metadata": {},
      "outputs": [],
      "source": [
        "plt.plot([1,2,4,3],'o-.',color=\"C0\",label='A')\n",
        "plt.plot([2,1,5,1],'o-.',color=\"C1\",label='B')\n",
        "fig = plt.gcf()\n",
        "fig = litely(fig)\n",
        "fig "
      ],
      "id": "e8f3f54c-f4b0-41bd-914e-82adb786b556"
    }
  ],
  "nbformat": 4,
  "nbformat_minor": 5,
  "metadata": {
    "kernelspec": {
      "name": "python3",
      "display_name": "Python 3 (ipykernel)",
      "language": "python"
    },
    "language_info": {
      "name": "python",
      "codemirror_mode": {
        "name": "ipython",
        "version": "3"
      },
      "file_extension": ".py",
      "mimetype": "text/x-python",
      "nbconvert_exporter": "python",
      "pygments_lexer": "ipython3",
      "version": "3.11.7"
    }
  }
}