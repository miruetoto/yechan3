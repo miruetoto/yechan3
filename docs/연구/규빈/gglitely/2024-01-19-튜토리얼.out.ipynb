{
  "cells": [
    {
      "cell_type": "markdown",
      "metadata": {},
      "source": [
        "# (연구) gglitely – 튜토리얼\n",
        "\n",
        "신록예찬  \n",
        "2024-01-19\n",
        "\n",
        "# Install"
      ],
      "id": "25cf1c0c-4765-4a18-b874-28df16b3fa99"
    },
    {
      "cell_type": "code",
      "execution_count": 1,
      "metadata": {},
      "outputs": [
        {
          "output_type": "stream",
          "name": "stdout",
          "text": [
            "Found existing installation: gglitely 0.0.1\n",
            "Uninstalling gglitely-0.0.1:\n",
            "  Successfully uninstalled gglitely-0.0.1\n",
            "Collecting git+https://github.com/seoyeonc/gglitely.git\n",
            "  Cloning https://github.com/seoyeonc/gglitely.git to /tmp/pip-req-build-b0_csas1\n",
            "  Running command git clone --filter=blob:none --quiet https://github.com/seoyeonc/gglitely.git /tmp/pip-req-build-b0_csas1\n",
            "  Resolved https://github.com/seoyeonc/gglitely.git to commit 86f5c00a4a8e40a05e5fdaa927296f50ff290b24\n",
            "  Preparing metadata (setup.py) ... -\b \bdone\n",
            "Requirement already satisfied: pandas in /home/cgb2/anaconda3/envs/r/lib/python3.10/site-packages (from gglitely==0.0.1) (2.2.0)\n",
            "Requirement already satisfied: numpy<2,>=1.22.4 in /home/cgb2/anaconda3/envs/r/lib/python3.10/site-packages (from pandas->gglitely==0.0.1) (1.26.3)\n",
            "Requirement already satisfied: python-dateutil>=2.8.2 in /home/cgb2/anaconda3/envs/r/lib/python3.10/site-packages (from pandas->gglitely==0.0.1) (2.8.2)\n",
            "Requirement already satisfied: pytz>=2020.1 in /home/cgb2/anaconda3/envs/r/lib/python3.10/site-packages (from pandas->gglitely==0.0.1) (2023.3.post1)\n",
            "Requirement already satisfied: tzdata>=2022.7 in /home/cgb2/anaconda3/envs/r/lib/python3.10/site-packages (from pandas->gglitely==0.0.1) (2023.4)\n",
            "Requirement already satisfied: six>=1.5 in /home/cgb2/anaconda3/envs/r/lib/python3.10/site-packages (from python-dateutil>=2.8.2->pandas->gglitely==0.0.1) (1.16.0)\n",
            "Building wheels for collected packages: gglitely\n",
            "  Building wheel for gglitely (setup.py) ... -\b \bdone\n",
            "  Created wheel for gglitely: filename=gglitely-0.0.1-py3-none-any.whl size=2472 sha256=924baee6dced2d2105ea6d42162c8deddb8a6dac6691d97ca6bd8da6e047b547\n",
            "  Stored in directory: /tmp/pip-ephem-wheel-cache-jikgzhmd/wheels/f0/e1/5a/6fda263e62a9f55a7a6c1fde013cff6808c5bd090fa3ec9d7f\n",
            "Successfully built gglitely\n",
            "Installing collected packages: gglitely\n",
            "Successfully installed gglitely-0.0.1"
          ]
        }
      ],
      "source": [
        "!pip uninstall gglitely -y\n",
        "!pip install git+https://github.com/seoyeonc/gglitely.git"
      ],
      "id": "4e80cf57-939b-48cd-b568-62206747584a"
    },
    {
      "cell_type": "markdown",
      "metadata": {},
      "source": [
        "# Imports"
      ],
      "id": "5d055073-6b8d-4b22-84b0-ec9b3eff2b73"
    },
    {
      "cell_type": "code",
      "execution_count": 2,
      "metadata": {},
      "outputs": [],
      "source": [
        "from gglitely import * "
      ],
      "id": "95d3c415-89d9-433b-b4c9-2914e22ad883"
    },
    {
      "cell_type": "markdown",
      "metadata": {},
      "source": [
        "# Point"
      ],
      "id": "4fdc575a-2c96-44a0-af92-13367d2646ac"
    },
    {
      "cell_type": "code",
      "execution_count": 3,
      "metadata": {
        "editable": true,
        "slideshow": {
          "slide_type": ""
        },
        "tags": []
      },
      "outputs": [],
      "source": [
        "gglitely() + point(y=[2,3,4,3],cex=[10,20,30,44],alpha=0.5,pch=0,line={'width':2,'color':'DarkSlateGray'})"
      ],
      "id": "a52cab28-f097-4671-98bf-9d38595f6c22"
    },
    {
      "cell_type": "markdown",
      "metadata": {},
      "source": [
        "# Line"
      ],
      "id": "4e285904-1206-4c4c-bc58-185fd2b1e311"
    },
    {
      "cell_type": "code",
      "execution_count": 4,
      "metadata": {},
      "outputs": [],
      "source": [
        "gglitely() + line(y=[3,4,2,1],alpha=0.5,lwd=5,lty=2,col=2)"
      ],
      "id": "162d3cc8-bb0b-4cc2-92b5-12b9044bb7e6"
    },
    {
      "cell_type": "markdown",
      "metadata": {},
      "source": [
        "# Col"
      ],
      "id": "4a72133f-6752-4897-9f62-67304eb51cc3"
    },
    {
      "cell_type": "code",
      "execution_count": 5,
      "metadata": {},
      "outputs": [],
      "source": [
        "gglitely() + bar(y=[1,2,3]) + bar(y=[2,3,4])"
      ],
      "id": "5bcd28f2-a7f8-422d-a4f6-7d8a951428f6"
    },
    {
      "cell_type": "markdown",
      "metadata": {},
      "source": [
        "# Boxplot"
      ],
      "id": "e653325a-a655-4b84-9924-4c4e0959664f"
    },
    {
      "cell_type": "code",
      "execution_count": 6,
      "metadata": {},
      "outputs": [],
      "source": [
        "x1 = np.random.randn(100)\n",
        "x2 = np.random.randn(100) + 3 "
      ],
      "id": "8aa029db-05da-4fdf-b6e8-595ff38daf39"
    },
    {
      "cell_type": "code",
      "execution_count": 7,
      "metadata": {},
      "outputs": [],
      "source": [
        "gglitely() + boxplot(y=x1) + boxplot(y=x2)"
      ],
      "id": "44ab4796-52ec-4f7d-85bf-78b56137d434"
    },
    {
      "cell_type": "markdown",
      "metadata": {},
      "source": [
        "# Hist"
      ],
      "id": "21ef9c3f-bfcc-415f-bd0f-5931da2e0126"
    },
    {
      "cell_type": "code",
      "execution_count": 8,
      "metadata": {},
      "outputs": [],
      "source": [
        "x1 = np.random.randn(100)\n",
        "x2 = np.random.randn(100) + 3 "
      ],
      "id": "a3b50c00-c2d8-4dd1-9aef-e620a5d590a9"
    },
    {
      "cell_type": "code",
      "execution_count": 9,
      "metadata": {},
      "outputs": [],
      "source": [
        "fig = gglitely() + histogram(x=x1) + histogram(x=x2)\n",
        "fig"
      ],
      "id": "f584e978-62cd-4e83-a94a-9a3feeb1f479"
    },
    {
      "cell_type": "code",
      "execution_count": 10,
      "metadata": {},
      "outputs": [],
      "source": [
        "fig.layout['barmode'] = 'overlay'"
      ],
      "id": "4bb1e834-cb21-4ef5-82fd-931bd13bdc75"
    },
    {
      "cell_type": "code",
      "execution_count": 11,
      "metadata": {},
      "outputs": [],
      "source": [
        "fig"
      ],
      "id": "b9e98003-1a83-4f01-8679-3e0001e2b507"
    }
  ],
  "nbformat": 4,
  "nbformat_minor": 5,
  "metadata": {
    "kernelspec": {
      "name": "python3",
      "display_name": "Python 3 (ipykernel)",
      "language": "python"
    },
    "language_info": {
      "name": "python",
      "codemirror_mode": {
        "name": "ipython",
        "version": "3"
      },
      "file_extension": ".py",
      "mimetype": "text/x-python",
      "nbconvert_exporter": "python",
      "pygments_lexer": "ipython3",
      "version": "3.10.13"
    }
  }
}