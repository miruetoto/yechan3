{
  "cells": [
    {
      "cell_type": "markdown",
      "metadata": {},
      "source": [
        "# (연구&교수님) HST example 1 (1)\n",
        "\n",
        "신록예찬  \n",
        "2021-08-02\n",
        "\n",
        "### Import"
      ],
      "id": "ceab298f-4382-41ef-8215-2a2428494c3e"
    },
    {
      "cell_type": "code",
      "execution_count": 1,
      "metadata": {},
      "outputs": [],
      "source": [
        "import numpy as np\n",
        "import pandas as pd\n",
        "import matplotlib.pyplot as plt\n",
        "import rpy2 \n",
        "%load_ext rpy2.ipython\n",
        "%run pybase\n",
        "%run heavysnow "
      ],
      "id": "885ee667-1ae9-4863-8645-79c501d1f408"
    },
    {
      "cell_type": "markdown",
      "metadata": {},
      "source": [
        "### Data"
      ],
      "id": "7274c73c-1246-41dc-a828-a3fa19f812d0"
    },
    {
      "cell_type": "code",
      "execution_count": 2,
      "metadata": {},
      "outputs": [],
      "source": [
        "f=np.array([-1,-1,-1,1,-1,-1,-1,1,1,1,-1,1,1,1])*1.0\n",
        "n=len(f)\n",
        "V=list(range(n))\n",
        "W=np.zeros([n,n])\n",
        "for i in range(n):\n",
        "    for j in range(n):\n",
        "        if abs(i-j)==1: W[i,j]=1\n",
        "W[0,0]=0\n",
        "W[n-1,n-1]=0"
      ],
      "id": "09209769-7563-4047-adbc-cf6fa53d18f2"
    },
    {
      "cell_type": "code",
      "execution_count": 3,
      "metadata": {},
      "outputs": [],
      "source": [
        "gs=GraphSignal(V,W,f)"
      ],
      "id": "00bfee61-890c-443f-afd8-f23f16bf9a0a"
    },
    {
      "cell_type": "code",
      "execution_count": 4,
      "metadata": {},
      "outputs": [],
      "source": [
        "gs.initdist=np.array([1/n]*n)"
      ],
      "id": "a6de404e-9568-4aaf-bc30-14922cc21d7f"
    },
    {
      "cell_type": "markdown",
      "metadata": {},
      "source": [
        "### HST"
      ],
      "id": "39c6d317-ce5d-4c9b-bce1-df737a29c309"
    },
    {
      "cell_type": "code",
      "execution_count": 5,
      "metadata": {},
      "outputs": [
        {
          "output_type": "stream",
          "name": "stdout",
          "text": [
            "HST (tau= 80000, b=0.015)\n",
            "80000/80000\n",
            "HST completed and all history is recorded."
          ]
        }
      ],
      "source": [
        "%run heavysnow \n",
        "hst=HeavySnowTransform(gs)\n",
        "hst.snow(tau=80000,b=0.015,maxflow=2)"
      ],
      "id": "325f76ad-2f65-4ce9-9c7a-7915008912e2"
    },
    {
      "cell_type": "code",
      "execution_count": 6,
      "metadata": {},
      "outputs": [
        {
          "output_type": "display_data",
          "metadata": {},
          "data": {
            "image/png": "[encoded data removed]"
          }
        }
      ],
      "source": [
        "plt.imshow(hst.snowdistance)"
      ],
      "id": "674e33f5-eb48-44f5-9098-f61fb04c9804"
    },
    {
      "cell_type": "code",
      "execution_count": 7,
      "metadata": {},
      "outputs": [
        {
          "output_type": "display_data",
          "metadata": {},
          "data": {
            "image/png": "[encoded data removed]"
          }
        }
      ],
      "source": [
        "hst.snowweight=np.exp(-hst.snowdistance/(hst.tau*hst.b**1.5))-np.eye(n,n)\n",
        "plt.imshow(hst.snowweight)"
      ],
      "id": "0122bdec-ff49-429c-a03d-48f52149fdcf"
    },
    {
      "cell_type": "markdown",
      "metadata": {},
      "source": [
        "### 시각화를 위해서 R로 자료를 옮김"
      ],
      "id": "2b77a4d2-3eea-4ac8-b43e-b509f9f9417b"
    },
    {
      "cell_type": "code",
      "execution_count": 8,
      "metadata": {},
      "outputs": [],
      "source": [
        "maxtau=hst.tau\n",
        "W_Graph=hst.graphweight\n",
        "W_Euclid=hst.euclidweight\n",
        "W_HST=hst.snowweight\n",
        "V=np.array(hst.V)\n",
        "f=hst.f\n",
        "n=hst.n\n",
        "%R -i maxtau,W_Graph,W_Euclid,W_HST,V,f,n"
      ],
      "id": "2489f1b9-04dc-4e04-9064-28cc40fec557"
    },
    {
      "cell_type": "markdown",
      "metadata": {},
      "source": [
        "### R을 활용한 시각화 (1): 원래자료"
      ],
      "id": "110a8803-906c-4a35-8999-7686c32ccbc2"
    },
    {
      "cell_type": "code",
      "execution_count": 9,
      "metadata": {},
      "outputs": [
        {
          "output_type": "stream",
          "name": "stderr",
          "text": [
            "R[write to console]: ── Attaching packages ─────────────────────────────────────── tidyverse 1.3.1 ──\n",
            "\n",
            "R[write to console]: ✔ ggplot2 3.3.5     ✔ purrr   0.3.4\n",
            "✔ tibble  3.1.3     ✔ dplyr   1.0.7\n",
            "✔ tidyr   1.1.3     ✔ stringr 1.4.0\n",
            "✔ readr   1.4.0     ✔ forcats 0.5.1\n",
            "\n",
            "R[write to console]: ── Conflicts ────────────────────────────────────────── tidyverse_conflicts() ──\n",
            "✖ dplyr::filter() masks stats::filter()\n",
            "✖ dplyr::lag()    masks stats::lag()\n",
            "\n",
            "R[write to console]: Error in library(gridExtra) : there is no package called ‘gridExtra’\n"
          ]
        },
        {
          "output_type": "stream",
          "name": "stdout",
          "text": [
            "\n",
            "Error in library(gridExtra) : there is no package called ‘gridExtra’"
          ]
        }
      ],
      "source": [
        "%%R -w 2000 -h 800 -r 100\n",
        "library(tidyverse)\n",
        "library(latex2exp)\n",
        "library(gridExtra)\n",
        "source('rbase.R')\n",
        "Vtext=str_c('node ',V+1)\n",
        "fig0<-ggplot(data=tibble(V=V,f=f,Vtext=Vtext),aes(x=V,y=f,label=Vtext))+\n",
        "geom_col(aes(fill=(f>0)),width=0.1)+geom_hline(aes(yintercept=0),col=\"gray60\",lty=2)+\n",
        "geom_text(fontface = 4,size=8)+\n",
        "xlab(\"\")+ylab(\"\")+guides(fill=FALSE)+theme(plot.title=element_text(face=\"bold.italic\"))+theme_bw()+\n",
        "theme(strip.text.x = element_text(size = 20, color = \"black\", face = \"bold.italic\"))+\n",
        "theme(strip.text.y = element_text(size = 15, color = \"black\", face = \"bold.italic\"))+\n",
        "ylim(-1.2,1.2)+\n",
        "theme(plot.title=element_text(face=\"bold.italic\"))\n",
        "#ggsave(plot=p0,\"./fig/2021-0217_fig0.pdf\",width=20,height=6)\n",
        "fig0"
      ],
      "id": "0a5b4084-5323-4fee-bf9b-dea7be367b5a"
    },
    {
      "cell_type": "markdown",
      "metadata": {},
      "source": [
        "### R을 활용한 시각화 (2): Weight matrix 와 Eigen plot\n",
        "\n",
        "`-` `ggplot`에서 `geom_tile`을 사용하기 위해서 매트릭스 형태인\n",
        "`W_Graph`, `W_Euclid`, `W_HST`를 길게 펼친다. 결과를 각각\n",
        "`W_Graph_long`, `W_Euclid_long`, `W_HST_long`에 저장한다."
      ],
      "id": "a0fd7b5d-72e6-433b-9cd9-a65cb2f4b3ab"
    },
    {
      "cell_type": "code",
      "execution_count": null,
      "metadata": {},
      "outputs": [],
      "source": [
        "%%R\n",
        "grid<-expand.grid(x=1:n,y=1:n)\n",
        "W_Graph_long<-as_tibble(cbind(grid,as.vector(W_Graph)));names(W_Graph_long)<-c(\"x\",\"y\",\"W\")\n",
        "W_Euclid_long<-as_tibble(cbind(grid,as.vector(W_Euclid)));names(W_Euclid_long)<-c(\"x\",\"y\",\"W\")\n",
        "W_HST_long<-as_tibble(cbind(grid,as.vector(W_HST)));names(W_HST_long)<-c(\"x\",\"y\",\"W\")"
      ],
      "id": "ded79032-e62d-4133-99fe-bc3a38745fb4"
    },
    {
      "cell_type": "markdown",
      "metadata": {},
      "source": [
        "`-` 그래프퓨리에 변환: $(\\bf{f},\\bf{W})$에 그래프 퓨리에 변환을 수행함."
      ],
      "id": "a0740e23-69a4-4f2c-82a9-a3bc0024d2d3"
    },
    {
      "cell_type": "code",
      "execution_count": null,
      "metadata": {},
      "outputs": [],
      "source": [
        "%%R\n",
        "source('heavysnow.R')\n",
        "gfftrslt_Euclid<-gfft(f,W_Euclid)\n",
        "gfftrslt_Graph<-gfft(f,W_Graph)\n",
        "gfftrslt_HST<-gfft(f,W_HST)"
      ],
      "id": "27b092ce-37d8-430e-8356-713eb82bac40"
    },
    {
      "cell_type": "markdown",
      "metadata": {},
      "source": [
        "`-` 그래프 퓨리에 변환의 결과 고유치, 고유벡터, $\\bf{\\bar{f}}$가 반환됨."
      ],
      "id": "8aa60ebb-655c-431f-9a6e-e14f21718106"
    },
    {
      "cell_type": "code",
      "execution_count": null,
      "metadata": {},
      "outputs": [],
      "source": [
        "%%R\n",
        "head(gfftrslt_HST)"
      ],
      "id": "a3ab81f0-d8b8-4e1e-8dd4-bf42702fa0e2"
    },
    {
      "cell_type": "markdown",
      "metadata": {},
      "source": [
        "`-` 시각화코드"
      ],
      "id": "d7682416-99b9-4925-8911-1c3c7f35c4d1"
    },
    {
      "cell_type": "code",
      "execution_count": null,
      "metadata": {},
      "outputs": [],
      "source": [
        "%%R -w 1000 -h 800 -r 100\n",
        "library(gridExtra)\n",
        "\n",
        "fig1_1<-ggplot()+geom_tile(data=W_Euclid_long,aes(x=x,y=y,fill=W))+theme_bw()+xlab(\"\")+ylab(\"\")+\n",
        "theme(strip.text.x = element_text(size = 20, color = \"black\", face = \"bold.italic\"))+\n",
        "theme(strip.text.y = element_text(size = 20, color = \"black\", face = \"bold.italic\"))+\n",
        "scale_fill_gradient2(low=\"red\",high=\"blue\",mid=\"purple\",midpoint=0.25,breaks=c(0,0.5,0.99))+\n",
        "labs(fill=TeX('$W$'))+\n",
        "theme(legend.position=\"none\")+theme(legend.key=element_blank())+\n",
        "ggtitle(\"(a) Euclid\")+theme(plot.title=element_text(face=\"bold.italic\",size=rel(3)))\n",
        "\n",
        "fig1_2<-ggplot()+geom_tile(data=W_Graph_long,aes(x=x,y=y,fill=W))+theme_bw()+xlab(\"\")+ylab(\"\")+\n",
        "theme(strip.text.x = element_text(size = 20, color = \"black\", face = \"bold.italic\"))+\n",
        "theme(strip.text.y = element_text(size = 20, color = \"black\", face = \"bold.italic\"))+\n",
        "scale_fill_gradient2(low=\"red\",high=\"blue\",mid=\"purple\",midpoint=0.5,breaks=c(0,0.5,0.99))+\n",
        "labs(fill=TeX('$\\\\hat{W}$'))+\n",
        "theme(legend.position=\"none\")+theme(legend.key=element_blank())+\n",
        "ggtitle(\"(b) Graph\")+theme(plot.title=element_text(face=\"bold.italic\",size=rel(3)))\n",
        "\n",
        "fig1_3<-ggplot()+geom_tile(data=W_HST_long,aes(x=x,y=y,fill=W))+theme_bw()+xlab(\"\")+ylab(\"\")+\n",
        "theme(strip.text.x = element_text(size = 20, color = \"black\", face = \"bold.italic\"))+\n",
        "theme(strip.text.y = element_text(size = 20, color = \"black\", face = \"bold.italic\"))+\n",
        "scale_fill_gradient2(low=\"red\",high=\"blue\",mid=\"purple\",midpoint=0.5,breaks=c(0,0.5,0.99))+\n",
        "labs(fill=TeX('$\\\\hat{W}(\\\\tau)$'))+\n",
        "theme(legend.position=\"none\")+theme(legend.key=element_blank())+\n",
        "ggtitle(\"(c) HST\")+theme(plot.title=element_text(face=\"bold.italic\",size=rel(3)))\n",
        "\n",
        "fig1_4<-eigenplot(gfftrslt_Euclid)+ylim(0,2)+theme_light()\n",
        "fig1_5<-eigenplot(gfftrslt_Graph)+ylim(0,2)+theme_light()\n",
        "fig1_6<-eigenplot(gfftrslt_HST)+ylim(0,2)+theme_light()\n",
        "fig1=grid.arrange(fig1_1,fig1_2,fig1_3,fig1_4,fig1_5,fig1_6,ncol=3,nrow=2)\n",
        "fig1\n",
        "#ggsave(plot=grid.arrange(p1_a,p1_b,p1_c,ncol=3),\"2021-07-22_fig1.png\",width=20,height=4)"
      ],
      "id": "2095e215-e5a6-4e8f-a837-baa9f5688096"
    },
    {
      "cell_type": "markdown",
      "metadata": {},
      "source": [
        "### R을 활용한 시각화 (3): Decomposition\n",
        "\n",
        "`-` 디콤포지션을 수행하고 결과를 저장: $(\\bf{f},\\bf{W})$에\n",
        "decomposition을 수행하고 그 결과를 각각 `decomprslt_Euclid`,\n",
        "`decomprslt_Graph`, `decomprslt_HST`에 저장한다."
      ],
      "id": "17e458ce-506a-487a-80df-60d33621537c"
    },
    {
      "cell_type": "code",
      "execution_count": null,
      "metadata": {},
      "outputs": [],
      "source": [
        "%%R \n",
        "decomprslt_Euclid<-decompose(f,W_Euclid,V=1:n) # 0, 35000, 60000, 80000\n",
        "decomprslt_Graph<-decompose(f,W_Graph,V=1:n) # 0, 35000, 60000, 80000\n",
        "decomprslt_HST<-decompose(f,W_HST,V=1:n) # 0, 35000, 60000, 80000"
      ],
      "id": "3594dc0c-1d55-4f86-aa03-55b929792ed4"
    },
    {
      "cell_type": "markdown",
      "metadata": {},
      "source": [
        "`-` 디콤포지션 결과는 아래와 같은 형태임"
      ],
      "id": "a8511909-f9ac-4d90-beed-4e975a3303b0"
    },
    {
      "cell_type": "code",
      "execution_count": null,
      "metadata": {},
      "outputs": [],
      "source": [
        "%%R\n",
        "head(decomprslt_Euclid)"
      ],
      "id": "6848aeb1-5bb6-48c9-95fd-ab1ae6420c70"
    },
    {
      "cell_type": "code",
      "execution_count": null,
      "metadata": {},
      "outputs": [],
      "source": [
        "%%R \n",
        "decomprslt_Euclid$method=\"Euclid\"\n",
        "decomprslt_Graph$method=\"Graph\"\n",
        "decomprslt_HST$method=\"HST\"\n",
        "decomprslt<-rbind(decomprslt_Euclid,decomprslt_Graph,decomprslt_HST)"
      ],
      "id": "9c35291d-764a-4262-9c14-8b6a5feb3bdd"
    },
    {
      "cell_type": "markdown",
      "metadata": {},
      "source": [
        "`-` 디콤포지션결과를 시각화한다. `geom_col`과 `facet_grid`를 이용."
      ],
      "id": "79483805-d115-451f-a7c2-32dc65c30341"
    },
    {
      "cell_type": "code",
      "execution_count": null,
      "metadata": {},
      "outputs": [],
      "source": [
        "%%R -w 2000 -h 500 -r 100\n",
        "fig2<-ggplot(data=decomprslt,aes(x=V,y=fhat))+\n",
        "geom_col(aes(fill=fhat>0),width=0.7)+facet_grid(method~eigenvectorindex)+geom_hline(aes(yintercept=0),col=\"gray60\",lty=2)+\n",
        "xlab(\"\")+ylab(\"\")+guides(fill=FALSE)+theme(plot.title=element_text(face=\"bold.italic\"))+theme_bw()+\n",
        "theme(strip.text.x = element_text(size = 20, color = \"black\", face = \"bold.italic\"))+\n",
        "theme(strip.text.y = element_text(size = 15, color = \"black\", face = \"bold.italic\"))+\n",
        "ylim(-1.5,1.5)+\n",
        "theme(plot.title=element_text(face=\"bold.italic\"))\n",
        "fig2\n",
        "#ggsave(plot=fig2,\"./fig/2021-0514_fig2.pdf\",width=20,height=6)"
      ],
      "id": "dad1ab4b-a5c2-4268-97de-6bbeff4446a0"
    }
  ],
  "nbformat": 4,
  "nbformat_minor": 5,
  "metadata": {
    "kernelspec": {
      "name": "python3",
      "display_name": "Python 3",
      "language": "python"
    },
    "language_info": {
      "name": "python",
      "codemirror_mode": {
        "name": "ipython",
        "version": "3"
      },
      "file_extension": ".py",
      "mimetype": "text/x-python",
      "nbconvert_exporter": "python",
      "pygments_lexer": "ipython3",
      "version": "3.9.7"
    },
    "widgets": {
      "application/vnd.jupyter.widget-state+json": {
        "state": {},
        "version_major": 2,
        "version_minor": 0
      }
    }
  }
}