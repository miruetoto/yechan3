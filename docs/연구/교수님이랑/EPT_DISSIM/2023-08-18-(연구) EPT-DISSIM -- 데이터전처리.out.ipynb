{
  "cells": [
    {
      "cell_type": "markdown",
      "metadata": {},
      "source": [
        "# (연구&교수님) EPT-DISSIM – PRCP_KOR2 데이터정리\n",
        "\n",
        "신록예찬  \n",
        "2023-08-18"
      ],
      "id": "e8a22129-43a6-45a5-8f87-b77594dd7828"
    },
    {
      "cell_type": "code",
      "execution_count": 1,
      "metadata": {},
      "outputs": [],
      "source": [
        "import pandas as pd"
      ],
      "id": "506c3b46-482c-452f-b650-13ba3deb811e"
    },
    {
      "cell_type": "code",
      "execution_count": 2,
      "metadata": {},
      "outputs": [
        {
          "output_type": "display_data",
          "metadata": {},
          "data": {
            "text/html": [
              "\n",
              "<p>127205 rows × 4 columns</p>\n",
              "</div>"
            ]
          }
        }
      ],
      "source": [
        "df = pd.read_csv('PRCP_KOR.csv')\n",
        "df"
      ],
      "id": "49a9087e-706d-4bdb-b484-a74c81907ab0"
    },
    {
      "cell_type": "code",
      "execution_count": 3,
      "metadata": {},
      "outputs": [
        {
          "output_type": "display_data",
          "metadata": {},
          "data": {
            "text/html": [
              "\n",
              "</div>"
            ]
          }
        }
      ],
      "source": [
        "# 'Date' 칼럼의 데이터 타입을 datetime으로 변경\n",
        "df['Date'] = pd.to_datetime(df['Date'])\n",
        "\n",
        "# 다시 각 기상 관측소별로 누락된 날짜를 찾아 0으로 채움\n",
        "filled_dfs = []\n",
        "for (station_id, station_name), group in df.groupby(['Station_ID', 'Station_Name']):\n",
        "    all_dates = pd.date_range(start=group['Date'].min(), end=group['Date'].max())\n",
        "    filled_data = all_dates.to_frame(name='Date').merge(group, on='Date', how='left')\n",
        "    filled_data['Station_ID'].fillna(station_id, inplace=True)\n",
        "    filled_data['Station_Name'].fillna(station_name, inplace=True)\n",
        "    filled_data['Precipitation'].fillna(0, inplace=True)\n",
        "    filled_dfs.append(filled_data)\n",
        "\n",
        "# 모든 기상 관측소의 보정된 데이터를 결합\n",
        "df2 = pd.concat(filled_dfs)\n",
        "\n",
        "df2.head()"
      ],
      "id": "8089f9b1-6816-4247-bb18-7866e69d3362"
    },
    {
      "cell_type": "code",
      "execution_count": 4,
      "metadata": {},
      "outputs": [],
      "source": [
        "df2.to_csv(\"PRCP_KOR2.csv\")"
      ],
      "id": "90f2cb9a-4a3a-4277-9e20-4e3b0ada9345"
    }
  ],
  "nbformat": 4,
  "nbformat_minor": 5,
  "metadata": {
    "kernelspec": {
      "name": "python3",
      "display_name": "Python 3 (ipykernel)",
      "language": "python"
    },
    "language_info": {
      "name": "python",
      "codemirror_mode": {
        "name": "ipython",
        "version": "3"
      },
      "file_extension": ".py",
      "mimetype": "text/x-python",
      "nbconvert_exporter": "python",
      "pygments_lexer": "ipython3",
      "version": "3.12.1"
    }
  }
}