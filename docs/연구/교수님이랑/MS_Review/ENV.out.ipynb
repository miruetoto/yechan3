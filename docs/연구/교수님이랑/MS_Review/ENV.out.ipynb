{
  "cells": [
    {
      "cell_type": "markdown",
      "metadata": {},
      "source": [
        "# (연구&교수님) 다중척도논문 – 환경설정\n",
        "\n",
        "최규빈  \n",
        "2024-06-09\n",
        "\n",
        "``` bash\n",
        "conda install -c conda-forge r-essentials\n",
        "conda install conda-forge::scikit-learn\n",
        "pip install rpy2\n",
        "conda install -c conda-forge pywavelets\n",
        "pip install matplotlib\n",
        "conda install conda-forge::r-devtools\n",
        "install.packages(\"SiZer\")\n",
        "conda install conda-forge::librosa\n",
        "conda install -c conda-forge statsmodels\n",
        "conda install conda-forge::r-magick\n",
        "```"
      ],
      "id": "d5024b54-2526-403e-afca-9f125ba8bc99"
    }
  ],
  "nbformat": 4,
  "nbformat_minor": 5,
  "metadata": {
    "kernelspec": {
      "name": "python3",
      "display_name": "Python 3 (ipykernel)",
      "language": "python"
    }
  }
}