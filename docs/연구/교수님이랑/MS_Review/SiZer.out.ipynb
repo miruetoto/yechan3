{
  "cells": [
    {
      "cell_type": "markdown",
      "metadata": {},
      "source": [
        "# (연구&교수님) 다중척도논문 – SiZer\n",
        "\n",
        "최규빈  \n",
        "2024-07-10"
      ],
      "id": "6b61a626-d0aa-4178-af27-565119531cbc"
    },
    {
      "cell_type": "code",
      "execution_count": 1,
      "metadata": {
        "tags": [],
        "vscode": {
          "languageId": "r"
        }
      },
      "outputs": [],
      "source": [
        "#install.packages(\"SiZer\")"
      ],
      "id": "2a0e6358-95dc-4a1e-9c37-acbd4d7a4c16"
    },
    {
      "cell_type": "code",
      "execution_count": 1,
      "metadata": {
        "tags": [],
        "vscode": {
          "languageId": "r"
        }
      },
      "outputs": [
        {
          "output_type": "stream",
          "name": "stderr",
          "text": [
            "Loading required package: usethis\n",
            "\n",
            "Downloading GitHub repo seoyeonc/gglite@HEAD\n",
            "\n",
            "\n",
            "Attaching package: ‘gglite’\n",
            "\n",
            "\n",
            "The following objects are masked from ‘package:stats’:\n",
            "\n",
            "    density, line, smooth, step\n",
            "\n",
            "\n",
            "The following object is masked from ‘package:graphics’:\n",
            "\n",
            "    boxplot\n",
            "\n",
            "\n",
            "The following objects are masked from ‘package:base’:\n",
            "\n",
            "    col, jitter\n",
            "\n",
            "\n",
            "── Attaching core tidyverse packages ───────────────────────────────────────────────────────────────────────────────────────────────────────────────────────────────────────────────────────────────────────────────────── tidyverse 2.0.0 ──\n",
            "✔ dplyr     1.1.4     ✔ readr     2.1.5\n",
            "✔ forcats   1.0.0     ✔ stringr   1.5.1\n",
            "✔ ggplot2   3.5.1     ✔ tibble    3.2.1\n",
            "✔ lubridate 1.9.3     ✔ tidyr     1.3.1\n",
            "✔ purrr     1.0.2     \n",
            "── Conflicts ─────────────────────────────────────────────────────────────────────────────────────────────────────────────────────────────────────────────────────────────────────────────────────────────────────── tidyverse_conflicts() ──\n",
            "✖ dplyr::filter() masks stats::filter()\n",
            "✖ dplyr::lag()    masks stats::lag()\n",
            "ℹ Use the conflicted package (<http://conflicted.r-lib.org/>) to force all conflicts to become errors"
          ]
        },
        {
          "output_type": "stream",
          "name": "stdout",
          "text": [
            "── R CMD build ──────────────────────────────────────────────────────────────────────────────────────────────────────────────────────────────────────────────────────────────────────────────────────────────────────────────────────────────\n",
            "✔  checking for file ‘/tmp/RtmpHrt0oc/remotes2b9907378360/seoyeonc-gglite-0a5190e/DESCRIPTION’\n",
            "─  preparing ‘gglite’:\n",
            "✔  checking DESCRIPTION meta-information\n",
            "─  checking for LF line-endings in source and make files and shell scripts\n",
            "─  checking for empty or unneeded directories\n",
            "   Omitted ‘LazyData’ from DESCRIPTION\n",
            "─  building ‘gglite_0.1.0.tar.gz’\n",
            "   \n"
          ]
        }
      ],
      "source": [
        "library(devtools)\n",
        "install_github(\"seoyeonc/gglite\",force=TRUE)\n",
        "library(gglite)\n",
        "library(tidyverse)\n",
        "library(patchwork)"
      ],
      "id": "3e9a32e7-6b53-467d-87bc-87b174c6d514"
    },
    {
      "cell_type": "code",
      "execution_count": 2,
      "metadata": {
        "tags": [],
        "vscode": {
          "languageId": "r"
        }
      },
      "outputs": [],
      "source": [
        "figsize()"
      ],
      "id": "93102641-ee7b-4288-8081-8809fc65151d"
    },
    {
      "cell_type": "markdown",
      "metadata": {},
      "source": [
        "# 1. Sizer 기본개념\n",
        "\n",
        "SiZer 분석은 다양한 밴드위스에서 데이터 스무딩을 통해 시간 시계열\n",
        "데이터의 트렌드를 분석하는 방법이다. 여기서 밴드위스는 데이터를 스무딩할\n",
        "때 사용하는 창의 너비를 의미한다. SiZer 분석은 각 밴드위스에서 스무딩된\n",
        "데이터의 1차 도함수를 계산하여, 그 도함수의 값이 양수인지(증가 추세),\n",
        "음수인지(감소 추세), 아니면 0에 가까운지를 확인한다.\n",
        "\n",
        "### 밴드위스에서 변화의 통계적 유의미성\n",
        "\n",
        "-   **통계적 유의미성**: 특정 밴드위스에서 변화가 통계적으로\n",
        "    유의미하다는 것은, 해당 밴드위스에서 관찰된 트렌드(증가 또는 감소)가\n",
        "    데이터의 잡음이나 우연에 의한 것이 아니라 실제로 존재하는 트렌드임을\n",
        "    의미한다.\n",
        "-   **통계적으로 유의미하지 않음**: 특정 밴드위스에서 변화가 통계적으로\n",
        "    유의미하지 않다는 것은, 해당 밴드위스에서 관찰된 변화가 데이터의\n",
        "    잡음이나 우연에 의한 것일 가능성이 높다는 것을 의미한다. 즉, 그\n",
        "    밴드위스에서의 변화가 실제 트렌드가 아닐 수 있다는 것을 뜻한다.\n",
        "\n",
        "SiZer 분석을 통해 다양한 밴드위스에서의 트렌드를 확인함으로써, 데이터의\n",
        "잡음에 의한 변화를 걸러내고 실제로 의미 있는 트렌드를 파악할 수 있다.\n",
        "\n",
        "# 2. 기본 SiZer 분석"
      ],
      "id": "89c358f3-95aa-4277-aba1-757335e50341"
    },
    {
      "cell_type": "code",
      "execution_count": 42,
      "metadata": {
        "vscode": {
          "languageId": "r"
        }
      },
      "outputs": [
        {
          "output_type": "display_data",
          "metadata": {},
          "data": {
            "text/html": [
              "<strong>png:</strong> 2"
            ]
          }
        }
      ],
      "source": [
        "# 필요한 패키지 로드\n",
        "# install.packages(\"SiZer\")\n",
        "library(SiZer)\n",
        "\n",
        "# 시계열 데이터 생성\n",
        "set.seed(0)\n",
        "t <- seq(0, 1, length.out = 200)\n",
        "trend <- 3 * t\n",
        "noise <- rnorm(length(t), 0, 0.3)\n",
        "time_series <- trend + noise\n",
        "\n",
        "# PDF 파일로 저장\n",
        "pdf(\"./Dropbox/03_Yechan3/연구/교수님이랑/MS_Review/SiZer1.pdf\", width = 7, height = 7)\n",
        "\n",
        "# 그래픽 매개변수 설정\n",
        "par(mfrow = c(2, 1), mar = c(2, 2, 2, 1), oma = c(0, 0, 0, 0), family = \"Helvetica\")\n",
        "\n",
        "# 첫 번째 그래프: 시계열 데이터 (점과 선으로 연결)\n",
        "plot(t, time_series, type = 'b', main = 'Time Series with Trend and Noise', xlab = 'Time', ylab = 'Value',\n",
        "     cex.main = 0.8, cex.lab = 0.8, cex.axis = 0.7, pch = 19, col = \"black\")\n",
        "\n",
        "# 다양한 밴드위스 사용\n",
        "sizer_result <- SiZer(x = t, y = time_series, h = seq(0.01, 0.1, by = 0.01))\n",
        "\n",
        "# 두 번째 그래프: SiZer 결과\n",
        "plot(sizer_result, main = 'SiZer Analysis', xlab = 'Time', ylab = 'Bandwidth', \n",
        "     cex.main = 0.8, cex.lab = 0.8, cex.axis = 0.7)\n",
        "\n",
        "# 그래픽 디바이스 닫기\n",
        "dev.off()"
      ],
      "id": "ecfaaf06"
    },
    {
      "cell_type": "markdown",
      "metadata": {},
      "source": [
        "### SiZer 결과 해석\n",
        "\n",
        "SiZer 플롯에서는 각 밴드위스에 대한 추세의 통계적 유의성을 시각적으로\n",
        "확인할 수 있음: - y축의 값이 작은 영역: 작은 밴드위스를 사용한 결과를\n",
        "나타냄 - y축의 값이 큰 영역: 큰 밴드위스를 사용한 결과를 나타냄\n",
        "\n",
        "**플롯 색상 의미:** - 파란색 영역: 해당 밴드위스에서 증가 추세가\n",
        "통계적으로 유의미함을 나타냄 - 빨간색 영역: 해당 밴드위스에서 감소\n",
        "추세가 통계적으로 유의미함을 나타냄 - 보라색 영역: 해당 밴드위스에서\n",
        "변화가 통계적으로 유의미하지 않음을 나타냄\n",
        "\n",
        "### 다양한 밴드위스 사용의 중요성\n",
        "\n",
        "**세부 변화 탐지:** - 작은 밴드위스를 사용하면 데이터의 세부적인 변화를\n",
        "감지할 수 있음 - 데이터의 세밀한 구조를 이해하는 데 유용함\n",
        "\n",
        "**전체 트렌드 이해:** - 큰 밴드위스를 사용하면 데이터의 전반적인\n",
        "트렌드를 이해할 수 있음 - 데이터의 큰 흐름을 파악하는 데 유용함\n",
        "\n",
        "**다중 스케일 분석:** - 여러 밴드위스를 동시에 사용하면 데이터의 여러\n",
        "스케일에서 중요한 변화를 탐지할 수 있음 - 다양한 수준에서 데이터의\n",
        "특성을 이해하는 데 도움이 됨\n",
        "\n",
        "### 종합 정리\n",
        "\n",
        "-   SiZer 분석은 다양한 밴드위스를 사용하여 데이터의 중요한 추세를 여러\n",
        "    스케일에서 분석할 수 있는 강력한 도구임.\n",
        "-   이를 통해 데이터의 전반적인 흐름뿐만 아니라 세부적인 변화까지도\n",
        "    정확히 파악할 수 있음.\n",
        "-   SiZer의 다중 스케일 분석 기능은 데이터 분석에서 매우 유용하며, 특히\n",
        "    복잡한 시계열 데이터에서 중요한 통계적 특징을 식별하는 데 효과적임.\n",
        "\n",
        "# 3. 복잡한 시계열"
      ],
      "id": "aad6db6f-60d8-479b-8720-d532a8fe7e77"
    },
    {
      "cell_type": "code",
      "execution_count": 43,
      "metadata": {
        "vscode": {
          "languageId": "r"
        }
      },
      "outputs": [
        {
          "output_type": "display_data",
          "metadata": {},
          "data": {
            "text/html": [
              "<strong>png:</strong> 2"
            ]
          }
        }
      ],
      "source": [
        "# 필요한 패키지 로드\n",
        "# install.packages(\"SiZer\")\n",
        "library(SiZer)\n",
        "\n",
        "# 복잡한 시계열 데이터 생성\n",
        "set.seed(0)\n",
        "t <- seq(0, 1, length.out = 200)\n",
        "trend <- 3 * t + sin(2 * pi * t * 10)\n",
        "noise <- rnorm(length(t), 0, 0.3)\n",
        "complex_series <- trend + noise\n",
        "\n",
        "# SiZer 분석\n",
        "sizer_result <- SiZer(x = t, y = complex_series, h = seq(0.01, 0.1, by = 0.01))\n",
        "\n",
        "# PDF 파일로 저장\n",
        "pdf(\"./Dropbox/03_Yechan3/연구/교수님이랑/MS_Review/SiZer2.pdf\", width = 7, height = 7)\n",
        "\n",
        "# 그래픽 매개변수 설정\n",
        "par(mfrow = c(2, 1), mar = c(2, 2, 2, 1), oma = c(0, 0, 0, 0), family = \"Helvetica\")\n",
        "\n",
        "# 첫 번째 그래프: 복잡한 시계열 데이터 (점과 선으로 연결)\n",
        "plot(t, complex_series, type = 'b', main = 'Complex Time Series with Trend and Noise', xlab = 'Time', ylab = 'Value',\n",
        "     cex.main = 0.8, cex.lab = 0.8, cex.axis = 0.7, pch = 19, col = \"black\")\n",
        "\n",
        "# 두 번째 그래프: SiZer 결과\n",
        "plot(sizer_result, main = 'SiZer Analysis', xlab = 'Time', ylab = 'Bandwidth', \n",
        "     cex.main = 0.8, cex.lab = 0.8, cex.axis = 0.7)\n",
        "\n",
        "# 그래픽 디바이스 닫기\n",
        "dev.off()"
      ],
      "id": "a69b5842"
    },
    {
      "cell_type": "markdown",
      "metadata": {},
      "source": [
        "# 4. Nile"
      ],
      "id": "3c6693b1-2ec9-45e4-bc09-5bd537f7cca8"
    },
    {
      "cell_type": "code",
      "execution_count": 44,
      "metadata": {
        "vscode": {
          "languageId": "r"
        }
      },
      "outputs": [
        {
          "output_type": "display_data",
          "metadata": {},
          "data": {
            "text/html": [
              "<strong>png:</strong> 2"
            ]
          }
        }
      ],
      "source": [
        "# 필요한 패키지 로드\n",
        "# install.packages(\"SiZer\")\n",
        "library(SiZer)\n",
        "\n",
        "# Nile 데이터셋 사용\n",
        "data(\"Nile\")\n",
        "nile_data <- data.frame(\n",
        "  Year = as.numeric(time(Nile)),\n",
        "  Flow = as.numeric(Nile)\n",
        ")\n",
        "\n",
        "# SiZer 분석\n",
        "sizer_result <- SiZer(x = time(Nile), y = as.numeric(Nile), h = seq(10, 100, by = 10))\n",
        "\n",
        "# PDF 파일로 저장\n",
        "pdf(\"./Dropbox/03_Yechan3/연구/교수님이랑/MS_Review/SiZer3.pdf\", width = 7, height = 7)\n",
        "\n",
        "# 그래픽 매개변수 설정\n",
        "par(mfrow = c(2, 1), mar = c(3, 3, 2, 1), oma = c(0, 0, 0, 0), family = \"Helvetica\")\n",
        "\n",
        "# 첫 번째 그래프: Nile 데이터 (점과 선으로 연결)\n",
        "plot(nile_data$Year, nile_data$Flow, type = 'b', main = 'Flow of the River Nile', xlab = 'Year', ylab = 'Flow',\n",
        "     cex.main = 0.8, cex.lab = 0.8, cex.axis = 0.7, pch = 19, col = \"black\", las = 1)\n",
        "\n",
        "# 두 번째 그래프: SiZer 결과\n",
        "plot(sizer_result, main = 'SiZer Analysis', xlab = 'Year', ylab = 'Bandwidth', \n",
        "     cex.main = 0.8, cex.lab = 0.8, cex.axis = 0.7)\n",
        "\n",
        "# 그래픽 디바이스 닫기\n",
        "dev.off()"
      ],
      "id": "863fbfc0"
    },
    {
      "cell_type": "markdown",
      "metadata": {},
      "source": [
        "이 자료는 R의 `Nile` 데이터셋을 시각화한 것이다. `Nile` 데이터셋은\n",
        "1871년부터 1970년까지의 100년 동안 나일 강의 연간 흐름량을 기록한 시계열\n",
        "데이터다.\n",
        "\n",
        "### 주요 내용\n",
        "\n",
        "-   **플롯 유형**: 이 플롯은 선 그래프와 점 그래프를 결합한 형태로, 나일\n",
        "    강의 연간 흐름량 변화를 시각적으로 나타낸다.\n",
        "-   **x축 (Year)**: 1871년부터 1970년까지의 연도.\n",
        "-   **y축 (Flow)**: 각 연도에 측정된 나일 강의 흐름량.\n",
        "\n",
        "### 해석\n",
        "\n",
        "-   **연도별 흐름량 변동**: 플롯은 100년 동안 나일 강의 흐름량이 어떻게\n",
        "    변했는지를 보여준다. 흐름량은 시간이 지남에 따라 증가하고 감소하는\n",
        "    패턴을 보인다.\n",
        "-   **주요 트렌드**: 플롯을 통해 특정 기간 동안 흐름량이 증가하거나\n",
        "    감소하는 경향을 쉽게 파악할 수 있다.\n",
        "\n",
        "이 플롯을 통해 나일 강의 흐름량 변화와 주요 트렌드를 시각적으로 이해할\n",
        "수 있다.\n",
        "\n",
        "이 그림은 `Nile` 데이터셋을 SiZer(SIgnificant ZERo crossings) 방법으로\n",
        "분석한 결과를 시각화한 것이다. SiZer 플롯은 다양한 밴드위스에서 데이터의\n",
        "추세를 시각적으로 보여주며, 추세의 통계적 유의미성을 평가한다. 각 색상은\n",
        "데이터의 증가, 감소, 혹은 유의미하지 않은 변화를 나타낸다.\n",
        "\n",
        "### 그림 해석\n",
        "\n",
        "-   **y축 (log10(h))**: 밴드위스의 로그 스케일 값을 나타냄. 밴드위스는\n",
        "    데이터를 스무딩할 때 사용하는 창의 너비를 의미하며, y축 값이\n",
        "    작을수록 작은 밴드위스를, y축 값이 클수록 큰 밴드위스를 의미함.\n",
        "-   **x축 (x\\$x.grid)**: 연도. 나일 강의 연간 흐름량이 기록된 시간\n",
        "    범위를 나타냄.\n",
        "\n",
        "### 색상 의미\n",
        "\n",
        "-   **파란색 영역**: 해당 밴드위스에서 증가 추세가 통계적으로 유의미함을\n",
        "    나타냄.\n",
        "-   **빨간색 영역**: 해당 밴드위스에서 감소 추세가 통계적으로 유의미함을\n",
        "    나타냄.\n",
        "-   **보라색 영역**: 해당 밴드위스에서 변화가 통계적으로 유의미하지\n",
        "    않음을 나타냄.\n",
        "\n",
        "### 주요 해석\n",
        "\n",
        "-   **1870년대~1900년대 초반**:\n",
        "    -   대부분의 밴드위스에서 감소 추세(빨간색)가 유의미함.\n",
        "-   **1900년대 초반~1940년대**:\n",
        "    -   주로 보라색 영역으로, 이 시기에는 대부분의 밴드위스에서\n",
        "        통계적으로 유의미한 변화가 없음.\n",
        "-   **1940년대 후반~1960년대**:\n",
        "    -   다양한 밴드위스에서 증가 추세(파란색)가 유의미함.\n",
        "\n",
        "### 결론\n",
        "\n",
        "SiZer 플롯을 통해 나일 강의 연간 흐름량 변화에서 다음과 같은 중요한\n",
        "패턴을 파악할 수 있음:\n",
        "\n",
        "1.  1870년대부터 1900년대 초반까지는 주로 감소 추세가 유의미하게 나타남.\n",
        "2.  1900년대 초반부터 1940년대까지는 통계적으로 유의미한 변화가 거의\n",
        "    없음.\n",
        "3.  1940년대 후반부터 1960년대까지는 증가 추세가 유의미하게 나타남.\n",
        "\n",
        "이러한 분석은 나일 강의 흐름량이 시간에 따라 어떻게 변화했는지, 그리고\n",
        "그 변화가 통계적으로 유의미한지에 대한 통찰을 제공함."
      ],
      "id": "895b0684-194f-44cd-b539-bbf699826216"
    }
  ],
  "nbformat": 4,
  "nbformat_minor": 5,
  "metadata": {
    "kernelspec": {
      "name": "ir",
      "display_name": "R",
      "language": "R"
    },
    "language_info": {
      "name": "R",
      "codemirror_mode": "r",
      "file_extension": ".r",
      "mimetype": "text/x-r-source",
      "pygments_lexer": "r",
      "version": "4.3.3"
    }
  }
}