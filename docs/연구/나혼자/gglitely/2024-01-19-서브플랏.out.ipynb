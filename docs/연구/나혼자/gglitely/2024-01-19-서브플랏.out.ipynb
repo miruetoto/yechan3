{
  "cells": [
    {
      "cell_type": "markdown",
      "metadata": {},
      "source": [
        "# (연구) gglitely – 서브플랏\n",
        "\n",
        "신록예찬  \n",
        "2024-01-19\n",
        "\n",
        "# Install"
      ],
      "id": "9db6116e-6b3b-48be-90f6-7008c87d2ea3"
    },
    {
      "cell_type": "code",
      "execution_count": 1,
      "metadata": {},
      "outputs": [
        {
          "output_type": "stream",
          "name": "stdout",
          "text": [
            "Found existing installation: gglitely 0.0.1\n",
            "Uninstalling gglitely-0.0.1:\n",
            "  Successfully uninstalled gglitely-0.0.1\n",
            "Collecting git+https://github.com/seoyeonc/gglitely.git\n",
            "  Cloning https://github.com/seoyeonc/gglitely.git to /tmp/pip-req-build-9t0e7z9w\n",
            "  Running command git clone --filter=blob:none --quiet https://github.com/seoyeonc/gglitely.git /tmp/pip-req-build-9t0e7z9w\n",
            "  Resolved https://github.com/seoyeonc/gglitely.git to commit 86f5c00a4a8e40a05e5fdaa927296f50ff290b24\n",
            "  Preparing metadata (setup.py) ... -\b \bdone\n",
            "Requirement already satisfied: pandas in /home/cgb2/anaconda3/lib/python3.11/site-packages (from gglitely==0.0.1) (2.0.3)\n",
            "Requirement already satisfied: python-dateutil>=2.8.2 in /home/cgb2/anaconda3/lib/python3.11/site-packages (from pandas->gglitely==0.0.1) (2.8.2)\n",
            "Requirement already satisfied: pytz>=2020.1 in /home/cgb2/anaconda3/lib/python3.11/site-packages (from pandas->gglitely==0.0.1) (2023.3.post1)\n",
            "Requirement already satisfied: tzdata>=2022.1 in /home/cgb2/anaconda3/lib/python3.11/site-packages (from pandas->gglitely==0.0.1) (2023.3)\n",
            "Requirement already satisfied: numpy>=1.21.0 in /home/cgb2/anaconda3/lib/python3.11/site-packages (from pandas->gglitely==0.0.1) (1.24.3)\n",
            "Requirement already satisfied: six>=1.5 in /home/cgb2/anaconda3/lib/python3.11/site-packages (from python-dateutil>=2.8.2->pandas->gglitely==0.0.1) (1.16.0)\n",
            "Building wheels for collected packages: gglitely\n",
            "  Building wheel for gglitely (setup.py) ... -\b \b\\\b \bdone\n",
            "  Created wheel for gglitely: filename=gglitely-0.0.1-py3-none-any.whl size=2473 sha256=0a6075f842842ec871a74e18a523d82c3160de8baa0a0ab9469016da09d2adf1\n",
            "  Stored in directory: /tmp/pip-ephem-wheel-cache-zmt2m3x0/wheels/a5/b2/29/5db99646aa2b8d946b957bdf761a177612bf6709303d4ed579\n",
            "Successfully built gglitely\n",
            "Installing collected packages: gglitely\n",
            "Successfully installed gglitely-0.0.1"
          ]
        }
      ],
      "source": [
        "!pip uninstall gglitely -y\n",
        "!pip install git+https://github.com/seoyeonc/gglitely.git"
      ],
      "id": "0711ab18-0d7b-40c1-8030-61f643845746"
    },
    {
      "cell_type": "markdown",
      "metadata": {},
      "source": [
        "# Imports"
      ],
      "id": "73ae9372-a28b-404b-8a49-284ebc140326"
    },
    {
      "cell_type": "code",
      "execution_count": 2,
      "metadata": {},
      "outputs": [],
      "source": [
        "from gglitely import *"
      ],
      "id": "cdf71d15-d794-47e5-8d40-24abe2bf5ad9"
    },
    {
      "cell_type": "code",
      "execution_count": 3,
      "metadata": {},
      "outputs": [],
      "source": [
        "subplot_count = lambda fig: len({geom[key] for geom in fig.data for key in geom if 'xaxis' in key})\n",
        "def trace_axes_adjustment(fig1, fig2):\n",
        "    x_axes_fig1 = sorted([key for key in fig1.layout if 'xaxis' in key])\n",
        "    y_axes_fig1 = sorted([key for key in fig1.layout if 'yaxis' in key])\n",
        "    x_axes_fig2 = sorted([key for key in fig2.layout if 'xaxis' in key])\n",
        "    y_axes_fig2 = sorted([key for key in fig2.layout if 'yaxis' in key])    \n",
        "    for trace in fig1.data:\n",
        "        if trace['xaxis'] is None:\n",
        "            for i, (x, y) in enumerate(zip(x_axes_fig1, y_axes_fig1), start=1):\n",
        "                trace['xaxis'] = f'x{i}'\n",
        "                trace['yaxis'] = f'y{i}'\n",
        "    for trace in fig2.data:\n",
        "        if trace['xaxis'] is None:\n",
        "            for i, (x, y) in enumerate(zip(x_axes_fig2, y_axes_fig2), start=1):\n",
        "                trace['xaxis'] = f'x{i + subplot_count(fig1)}'\n",
        "                trace['yaxis'] = f'y{i + subplot_count(fig1)}'\n",
        "        else:\n",
        "            if trace['xaxis'] == 'x':\n",
        "                trace['xaxis'] = f'x{1 + subplot_count(fig1)}'\n",
        "            else:\n",
        "                axis_num = int(trace['xaxis'][-1]) + subplot_count(fig1)\n",
        "                trace['xaxis'] = f'x{axis_num}'\n",
        "\n",
        "            if trace['yaxis'] == 'y':\n",
        "                trace['yaxis'] = f'y{1 + subplot_count(fig1)}'\n",
        "            else:\n",
        "                axis_num = int(trace['yaxis'][-1]) + subplot_count(fig1)\n",
        "                trace['yaxis'] = f'y{axis_num}'\n",
        "    return fig1, fig2\n",
        "\n",
        "def clayout_adjustment(fig1, fig2):\n",
        "    # Loop through fig1 and fig2\n",
        "    for f in [fig1, fig2]:\n",
        "        # Extract all xaxes and yaxes\n",
        "        xaxes = [geom[key] for geom in f.data for key in geom if 'xaxis' in key]\n",
        "        yaxes = [geom[key] for geom in f.data for key in geom if 'yaxis' in key]\n",
        "        # Check if all traces in the figure share the same xaxis (i.e., there is only one subplot)\n",
        "        if len(set(xaxes)) == 1:\n",
        "            for i, (x, y) in enumerate(zip(xaxes, yaxes), start=1):\n",
        "                # Update xaxis layout\n",
        "                f.layout[x.replace('x', 'xaxis')] = {'anchor': x.replace('axis', ''), 'domain': [0.0, 1.0]}\n",
        "                # Update yaxis layout\n",
        "                f.layout[y.replace('y', 'yaxis')] = {'anchor': y.replace('axis', ''), 'domain': [0.0, 1.0]}\n",
        "        else:\n",
        "            pass  # Do nothing if xaxes are not the same\n",
        "    return fig1, fig2\n",
        "\n",
        "    \n",
        "def cbind(fig1,fig2,column_widths=None):\n",
        "    # Update data and layout for fig1 and fig2\n",
        "    fig1 = gglitely(data=fig1.data, layout=fig1.layout)\n",
        "    fig2 = gglitely(data=fig2.data, layout=fig2.layout)\n",
        "    \n",
        "    # Calculate the number of subplots\n",
        "    n1 = subplot_count(fig1)\n",
        "    n2 = subplot_count(fig2)\n",
        "    \n",
        "    # Adjust trace axes\n",
        "    fig1, fig2 = trace_axes_adjustment(fig1, fig2)\n",
        "    \n",
        "    # Adjust layout\n",
        "    fig1, fig2 = clayout_adjustment(fig1, fig2)\n",
        "    \n",
        "    # Set column widths if not provided\n",
        "    if column_widths is None:\n",
        "        column_widths = [1] * n1 + [1] * n2\n",
        "    \n",
        "    # Create subplots\n",
        "    fig = make_subplots(rows=1, cols=n1 + n2, column_widths=column_widths)\n",
        "    fig = gglitely(layout=fig.layout)\n",
        "    \n",
        "    # Add traces from fig1 and fig2\n",
        "    fig.add_traces(fig1.data)\n",
        "    fig.add_traces(fig2.data)\n",
        "    \n",
        "    # Increment ncols\n",
        "    fig._ncols += 1\n",
        "    return fig"
      ],
      "id": "b1c02072-957a-4426-90fe-87a44295cb69"
    },
    {
      "cell_type": "markdown",
      "metadata": {},
      "source": [
        "# 서브플랏"
      ],
      "id": "d32af62a-0d1b-4409-a5bd-ca396b27c542"
    },
    {
      "cell_type": "code",
      "execution_count": 4,
      "metadata": {},
      "outputs": [],
      "source": [
        "fig1 = gglitely() + bar(y=[1,2,3],col='red') + bar(y=[2,3,1],col='blue')\n",
        "fig2 = gglitely() + bar(y=[2,3,1],alpha=0.7,col='blue')"
      ],
      "id": "d6777a09-3e0e-47dd-80f2-156f7ab06fce"
    },
    {
      "cell_type": "code",
      "execution_count": 5,
      "metadata": {},
      "outputs": [],
      "source": [
        "cbind(cbind(cbind(fig1,fig2),fig1),fig2)"
      ],
      "id": "d463d336-684a-43f7-b875-c5d27dbbe3d6"
    }
  ],
  "nbformat": 4,
  "nbformat_minor": 5,
  "metadata": {
    "kernelspec": {
      "name": "python3",
      "display_name": "Python 3 (ipykernel)",
      "language": "python"
    },
    "language_info": {
      "name": "python",
      "codemirror_mode": {
        "name": "ipython",
        "version": "3"
      },
      "file_extension": ".py",
      "mimetype": "text/x-python",
      "nbconvert_exporter": "python",
      "pygments_lexer": "ipython3",
      "version": "3.12.4"
    }
  }
}