{
  "cells": [
    {
      "cell_type": "markdown",
      "metadata": {},
      "source": [
        "# (연구) R package 만들기\n",
        "\n",
        "신록예찬  \n",
        "2024-01-16\n",
        "\n",
        "`-` `devtools` 설치\n",
        "\n",
        "``` bash\n",
        "conda install conda-forge::r-devtools\n",
        "```"
      ],
      "id": "f45b386e-f05f-4f8e-9273-3ae45cc70a19"
    }
  ],
  "nbformat": 4,
  "nbformat_minor": 5,
  "metadata": {
    "kernelspec": {
      "name": "python3",
      "display_name": "Python 3 (ipykernel)",
      "language": "python"
    },
    "language_info": {
      "name": "python",
      "codemirror_mode": {
        "name": "ipython",
        "version": "3"
      },
      "file_extension": ".py",
      "mimetype": "text/x-python",
      "nbconvert_exporter": "python",
      "pygments_lexer": "ipython3",
      "version": "3.10.13"
    }
  }
}