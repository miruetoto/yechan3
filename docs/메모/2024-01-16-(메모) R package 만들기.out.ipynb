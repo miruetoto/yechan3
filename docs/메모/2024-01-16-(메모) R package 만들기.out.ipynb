{
  "cells": [
    {
      "cell_type": "markdown",
      "metadata": {},
      "source": [
        "# (메모) R package 만들기\n",
        "\n",
        "신록예찬  \n",
        "2024-01-16\n",
        "\n",
        "`-` `devtools` 설치\n",
        "\n",
        "``` bash\n",
        "conda install conda-forge::r-devtools\n",
        "```"
      ],
      "id": "2f3de2ac-3ad6-4476-85b6-19eec01d9902"
    }
  ],
  "nbformat": 4,
  "nbformat_minor": 5,
  "metadata": {
    "kernelspec": {
      "name": "python3",
      "display_name": "Python 3 (ipykernel)",
      "language": "python"
    },
    "language_info": {
      "name": "python",
      "codemirror_mode": {
        "name": "ipython",
        "version": "3"
      },
      "file_extension": ".py",
      "mimetype": "text/x-python",
      "nbconvert_exporter": "python",
      "pygments_lexer": "ipython3",
      "version": "3.12.2"
    }
  }
}