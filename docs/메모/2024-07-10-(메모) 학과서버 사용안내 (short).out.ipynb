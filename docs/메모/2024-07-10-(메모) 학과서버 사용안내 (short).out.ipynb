{
  "cells": [
    {
      "cell_type": "markdown",
      "metadata": {},
      "source": [
        "# (메모) 학과서버 사용안내 (short)\n",
        "\n",
        "최규빈  \n",
        "2024-07-11\n",
        "\n",
        "# 1. 접속하는 방법\n",
        "\n",
        "``` bash\n",
        "ssh root@210.117.173.186 -p 15820 # 이정민 \n",
        "ssh root@210.117.173.186 -p 15813 # 이상민 \n",
        "ssh root@210.117.173.186 -p 21197 # 강정혁 \n",
        "```\n",
        "\n",
        "pw: s15820, s15813, s21197\n",
        "\n",
        "# 2. passwd 변경"
      ],
      "id": "7a6f9340-8f3e-445f-af43-f0f3882f9329"
    }
  ],
  "nbformat": 4,
  "nbformat_minor": 5,
  "metadata": {
    "kernelspec": {
      "name": "python3",
      "display_name": "Python 3 (ipykernel)",
      "language": "python"
    },
    "language_info": {
      "name": "python",
      "codemirror_mode": {
        "name": "ipython",
        "version": "3"
      },
      "file_extension": ".py",
      "mimetype": "text/x-python",
      "nbconvert_exporter": "python",
      "pygments_lexer": "ipython3",
      "version": "3.10.13"
    }
  }
}