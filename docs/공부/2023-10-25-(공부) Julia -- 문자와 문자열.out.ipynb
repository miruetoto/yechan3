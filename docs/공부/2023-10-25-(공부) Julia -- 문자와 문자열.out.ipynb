{
  "cells": [
    {
      "cell_type": "markdown",
      "metadata": {},
      "source": [
        "# (공부) Julia – 문자와 문자열\n",
        "\n",
        "신록예찬  \n",
        "2023-10-25\n",
        "\n",
        "# 1. 문자와 문자열의 차이\n",
        "\n",
        "## A. 문자 (0차원 자료형)\n",
        "\n",
        "`-` 선언 및 자료형"
      ],
      "id": "f0a4355d-74d8-447f-b8e2-6d5372fd05b5"
    },
    {
      "cell_type": "code",
      "execution_count": 45,
      "metadata": {
        "tags": []
      },
      "outputs": [
        {
          "output_type": "display_data",
          "metadata": {},
          "data": {
            "text/plain": [
              "'B': ASCII/Unicode U+0042 (category Lu: Letter, uppercase)"
            ]
          }
        }
      ],
      "source": [
        "'B' # 선언 "
      ],
      "id": "cfe7aa9a-bc69-4536-aed0-13d1fb416438"
    },
    {
      "cell_type": "code",
      "execution_count": 46,
      "metadata": {
        "tags": []
      },
      "outputs": [
        {
          "output_type": "display_data",
          "metadata": {},
          "data": {
            "text/plain": [
              "Char"
            ]
          }
        }
      ],
      "source": [
        "typeof('b') # 자료형"
      ],
      "id": "a38e94d6-e581-4183-954b-a5da12ad20c5"
    },
    {
      "cell_type": "markdown",
      "metadata": {},
      "source": [
        "## B. 문자열 (1차원 자료형)\n",
        "\n",
        "`-` 선언 및 자료형"
      ],
      "id": "7fdf8c9b-4a2d-476e-9cb4-248c4de22de6"
    },
    {
      "cell_type": "code",
      "execution_count": 43,
      "metadata": {
        "tags": []
      },
      "outputs": [
        {
          "output_type": "display_data",
          "metadata": {},
          "data": {
            "text/plain": [
              "\"A\""
            ]
          }
        }
      ],
      "source": [
        "\"A\" # 선언"
      ],
      "id": "68e5b318-5a26-4caf-84c0-1307bfb34f7e"
    },
    {
      "cell_type": "code",
      "execution_count": 44,
      "metadata": {
        "tags": []
      },
      "outputs": [
        {
          "output_type": "display_data",
          "metadata": {},
          "data": {
            "text/plain": [
              "String"
            ]
          }
        }
      ],
      "source": [
        "typeof(\"A\") # 자료형"
      ],
      "id": "441194e8-8bd6-4e15-8a79-02d2b9235001"
    },
    {
      "cell_type": "markdown",
      "metadata": {},
      "source": [
        "## C. 차이점\n",
        "\n",
        "`-` `\"a\"`와 `'a'`의 차이"
      ],
      "id": "3e48704c-c2ac-4da9-a4f6-669070cce5f2"
    },
    {
      "cell_type": "code",
      "execution_count": 13,
      "metadata": {
        "tags": []
      },
      "outputs": [
        {
          "output_type": "display_data",
          "metadata": {},
          "data": {
            "text/plain": [
              "'a': ASCII/Unicode U+0061 (category Ll: Letter, lowercase)"
            ]
          }
        }
      ],
      "source": [
        "'a' # 단일문자"
      ],
      "id": "7cf29492-5a9e-47f2-9656-21421ae8e98b"
    },
    {
      "cell_type": "code",
      "execution_count": 14,
      "metadata": {
        "tags": []
      },
      "outputs": [
        {
          "output_type": "display_data",
          "metadata": {},
          "data": {
            "text/plain": [
              "\"a\""
            ]
          }
        }
      ],
      "source": [
        "\"a\" # 문자열"
      ],
      "id": "c83bf0a3-d4c9-456f-846e-60a434133c32"
    },
    {
      "cell_type": "code",
      "execution_count": 15,
      "metadata": {
        "tags": []
      },
      "outputs": [
        {
          "output_type": "display_data",
          "metadata": {},
          "data": {
            "text/plain": [
              "'a': ASCII/Unicode U+0061 (category Ll: Letter, lowercase)"
            ]
          }
        }
      ],
      "source": [
        "\"a\"[1] # 'a'와 같음"
      ],
      "id": "c2fd5fe6-25b7-4b14-b8bf-b06554a36de6"
    },
    {
      "cell_type": "markdown",
      "metadata": {},
      "source": [
        "# 2. 문자/문자열 관련 기능\n",
        "\n",
        "## A. 문자 관련 기능\n",
        "\n",
        "`-` isuppercase: 대소문자 판단"
      ],
      "id": "909213d6-a01d-42bd-8345-03c69d387cc1"
    },
    {
      "cell_type": "code",
      "execution_count": 7,
      "metadata": {
        "tags": []
      },
      "outputs": [
        {
          "output_type": "display_data",
          "metadata": {},
          "data": {
            "text/plain": [
              "(false, true)"
            ]
          }
        }
      ],
      "source": [
        "isuppercase('a'), islowercase('a')"
      ],
      "id": "7ffa917d-87a9-4bcb-8992-198e71145b0c"
    },
    {
      "cell_type": "code",
      "execution_count": 8,
      "metadata": {
        "tags": []
      },
      "outputs": [
        {
          "output_type": "display_data",
          "metadata": {},
          "data": {
            "text/plain": [
              "(true, false)"
            ]
          }
        }
      ],
      "source": [
        "isuppercase('A'), islowercase('A')"
      ],
      "id": "79498365-ff70-44fe-8132-554e3d215f10"
    },
    {
      "cell_type": "markdown",
      "metadata": {},
      "source": [
        "## B. 문자열 관련 기능\n",
        "\n",
        "`-` 문자열 슬라이싱"
      ],
      "id": "8f3d53e6-82f0-462f-a91c-b2155457a6a8"
    },
    {
      "cell_type": "code",
      "execution_count": 19,
      "metadata": {
        "tags": []
      },
      "outputs": [
        {
          "output_type": "display_data",
          "metadata": {},
          "data": {
            "text/plain": [
              "\"ty\""
            ]
          }
        }
      ],
      "source": [
        "str = \"Jeonbuk National University\"\n",
        "str[end-1:end]"
      ],
      "id": "6b5889cc-6d96-4d5a-b3be-1bba51658fcc"
    },
    {
      "cell_type": "markdown",
      "metadata": {},
      "source": [
        "`-` 문자열의 결합"
      ],
      "id": "275dec36-7dbf-479c-ba97-da9fcc0b02ed"
    },
    {
      "cell_type": "code",
      "execution_count": 41,
      "metadata": {
        "tags": []
      },
      "outputs": [
        {
          "output_type": "display_data",
          "metadata": {},
          "data": {
            "text/plain": [
              "\"ab\""
            ]
          }
        }
      ],
      "source": [
        "\"a\"*\"b\""
      ],
      "id": "bc0a5f21-3ad2-46ed-90f1-f1d8c7647a3e"
    },
    {
      "cell_type": "markdown",
      "metadata": {},
      "source": [
        "`-` 문자열의 반복"
      ],
      "id": "8699f37c-b51b-47f3-ad2c-790ca8f35719"
    },
    {
      "cell_type": "code",
      "execution_count": 47,
      "metadata": {
        "tags": []
      },
      "outputs": [
        {
          "output_type": "display_data",
          "metadata": {},
          "data": {
            "text/plain": [
              "\"aaaaa\""
            ]
          }
        }
      ],
      "source": [
        "\"a\"^5"
      ],
      "id": "eca213cf-26f5-4906-8f1f-3a5240a00bb0"
    },
    {
      "cell_type": "code",
      "execution_count": 24,
      "metadata": {
        "tags": []
      },
      "outputs": [
        {
          "output_type": "display_data",
          "metadata": {},
          "data": {
            "text/plain": [
              "\"aaaaa\""
            ]
          }
        }
      ],
      "source": [
        "repeat(\"a\",5)"
      ],
      "id": "cbf4f37c-0cbd-4d00-b6dd-7b84f14a4bfc"
    },
    {
      "cell_type": "markdown",
      "metadata": {},
      "source": [
        "`-` 문자열 끼워넣기"
      ],
      "id": "1675b300-df23-4761-ae0a-f17bc81eafe9"
    },
    {
      "cell_type": "code",
      "execution_count": 25,
      "metadata": {
        "tags": []
      },
      "outputs": [
        {
          "output_type": "display_data",
          "metadata": {},
          "data": {
            "text/plain": [
              "\"제 이름은 최규빈 입니다\""
            ]
          }
        }
      ],
      "source": [
        "name = \"최규빈\"\n",
        "\"제 이름은 $name 입니다\""
      ],
      "id": "eb6d05c2-041c-4151-b7ee-17c161a72fe9"
    },
    {
      "cell_type": "markdown",
      "metadata": {},
      "source": [
        "`-` 문자열 바꾸기"
      ],
      "id": "3497b4e2-17ff-44d6-b703-1f79699a27ac"
    },
    {
      "cell_type": "code",
      "execution_count": 27,
      "metadata": {
        "tags": []
      },
      "outputs": [
        {
          "output_type": "display_data",
          "metadata": {},
          "data": {
            "text/plain": [
              "\"abcdefu\""
            ]
          }
        }
      ],
      "source": [
        "str = \"abcdefg\"\n",
        "replace(str, \"g\" => \"u\")"
      ],
      "id": "208dba47-b4a2-47ac-adf6-37fc7fa8760d"
    },
    {
      "cell_type": "markdown",
      "metadata": {},
      "source": [
        "`-` 문자열 나누기"
      ],
      "id": "be4ec060-4e37-48b1-9871-de4fcbb1aaf6"
    },
    {
      "cell_type": "code",
      "execution_count": 32,
      "metadata": {
        "tags": []
      },
      "outputs": [
        {
          "output_type": "display_data",
          "metadata": {},
          "data": {
            "text/plain": [
              "2-element Vector{SubString{String}}:\n",
              " \"2023\"\n",
              " \"08\""
            ]
          }
        }
      ],
      "source": [
        "str = \"2023-08\"\n",
        "split(str,\"-\")"
      ],
      "id": "f07c2720-b5c0-4507-9724-28fd76d5a168"
    },
    {
      "cell_type": "markdown",
      "metadata": {},
      "source": [
        "`-` 문자열 합치기"
      ],
      "id": "99d7cf63-079e-4cb4-b2dd-6ac904af4993"
    },
    {
      "cell_type": "code",
      "execution_count": 36,
      "metadata": {
        "tags": []
      },
      "outputs": [
        {
          "output_type": "display_data",
          "metadata": {},
          "data": {
            "text/plain": [
              "\"2023-08\""
            ]
          }
        }
      ],
      "source": [
        "join([\"2023\",\"08\"],\"-\")"
      ],
      "id": "bcfad11d-2735-4ea6-b2f5-254f0ecc03bc"
    },
    {
      "cell_type": "code",
      "execution_count": 37,
      "metadata": {
        "tags": []
      },
      "outputs": [
        {
          "output_type": "display_data",
          "metadata": {},
          "data": {
            "text/plain": [
              "\"202308\""
            ]
          }
        }
      ],
      "source": [
        "join([\"2023\",\"08\"])"
      ],
      "id": "cc246214-e547-4d9c-aea9-2355935cafeb"
    },
    {
      "cell_type": "markdown",
      "metadata": {},
      "source": [
        "`-` lowercase: 대문자를 소문자로 바꾸는 방법"
      ],
      "id": "8d6c6788-507a-4bf9-802b-050c54917f9e"
    },
    {
      "cell_type": "code",
      "execution_count": 21,
      "metadata": {
        "tags": []
      },
      "outputs": [
        {
          "output_type": "display_data",
          "metadata": {},
          "data": {
            "text/plain": [
              "\"hello, julia!\""
            ]
          }
        }
      ],
      "source": [
        "str = \"HELLO, JULIA!\"\n",
        "lowercase(str)"
      ],
      "id": "95aafc0a-beed-44ae-8af6-fb658c32fa47"
    }
  ],
  "nbformat": 4,
  "nbformat_minor": 5,
  "metadata": {
    "kernelspec": {
      "name": "julia-1.9",
      "display_name": "Julia 1.9.2",
      "language": "julia"
    },
    "language_info": {
      "name": "julia",
      "file_extension": ".jl",
      "mimetype": "application/julia",
      "version": "1.9.2"
    }
  }
}