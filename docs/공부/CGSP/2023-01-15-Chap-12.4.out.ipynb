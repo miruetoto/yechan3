{
  "cells": [
    {
      "cell_type": "markdown",
      "metadata": {},
      "source": [
        "# (공부) CGSP – Chap 12.4: Node Subsampling for PSD Estimation\n",
        "\n",
        "신록예찬  \n",
        "2023-01-15"
      ],
      "id": "876cd127-f06b-410c-8bdb-7cc6997677e1"
    },
    {
      "cell_type": "code",
      "execution_count": 78,
      "metadata": {},
      "outputs": [],
      "source": [
        "using LinearAlgebra, Plots, FFTW, Statistics"
      ],
      "id": "e8effb53-70b6-4f84-be55-96a8fc30e965"
    },
    {
      "cell_type": "code",
      "execution_count": 76,
      "metadata": {},
      "outputs": [
        {
          "output_type": "display_data",
          "metadata": {},
          "data": {
            "text/plain": [
              "#49 (generic function with 1 method)"
            ]
          }
        }
      ],
      "source": [
        "columnwise_kron = \n",
        "(C,D) -> hcat([kron(C[:,i],D[:,i]) for i in 1:size(C)[2]]...)"
      ],
      "id": "aae00adb-706b-46b1-bdb8-07705ccfd22b"
    },
    {
      "cell_type": "markdown",
      "metadata": {},
      "source": [
        "# 12.4.1 The Sampling Problem\n",
        "\n",
        "아래와 같이 길이가 $N=10$ 인 신호 ${\\bf x}$를 고려하자."
      ],
      "id": "a56a6856-a8df-4841-9876-ca5d544f5390"
    },
    {
      "cell_type": "code",
      "execution_count": 56,
      "metadata": {},
      "outputs": [
        {
          "output_type": "display_data",
          "metadata": {},
          "data": {
            "text/plain": [
              "10-element Vector{Float64}:\n",
              " 0.03235208758206609\n",
              " 0.5069925854414447\n",
              " 0.5795228508497553\n",
              " 0.682832351742401\n",
              " 0.64422613488741\n",
              " 0.24116013388795854\n",
              " 0.8439116925218157\n",
              " 0.6362602319916778\n",
              " 0.386069828675059\n",
              " 0.5313655894235898"
            ]
          }
        }
      ],
      "source": [
        "x = rand(10)"
      ],
      "id": "a2df1de5-174b-4bfc-a8db-fab95afdb703"
    },
    {
      "cell_type": "markdown",
      "metadata": {},
      "source": [
        "여기에서 1,3,4,5 번째 원소만 추출하여길이가 $K=4$ 인 신호 ${\\bf y}$를\n",
        "만들고 싶다."
      ],
      "id": "773a7dc8-3961-433f-8d6b-e61b5791130c"
    },
    {
      "cell_type": "code",
      "execution_count": 57,
      "metadata": {},
      "outputs": [
        {
          "output_type": "display_data",
          "metadata": {},
          "data": {
            "text/plain": [
              "4-element Vector{Float64}:\n",
              " 0.03235208758206609\n",
              " 0.5795228508497553\n",
              " 0.682832351742401\n",
              " 0.64422613488741"
            ]
          }
        }
      ],
      "source": [
        "y = x[[1,3,4,5]]"
      ],
      "id": "5bf0ac07-06b3-49b8-a7c6-f89e9bae28a3"
    },
    {
      "cell_type": "markdown",
      "metadata": {},
      "source": [
        "이 과정은 아래와 같이 수행할 수도 있다."
      ],
      "id": "9ebfa73e-2662-4480-b219-c962d228d730"
    },
    {
      "cell_type": "code",
      "execution_count": 58,
      "metadata": {},
      "outputs": [
        {
          "output_type": "display_data",
          "metadata": {},
          "data": {
            "text/plain": [
              "4×10 Matrix{Int64}:\n",
              " 1  0  0  0  0  0  0  0  0  0\n",
              " 0  0  1  0  0  0  0  0  0  0\n",
              " 0  0  0  1  0  0  0  0  0  0\n",
              " 0  0  0  0  1  0  0  0  0  0"
            ]
          }
        }
      ],
      "source": [
        "Φ= [1 0 0 0 0 0 0 0 0 0\n",
        "    0 0 1 0 0 0 0 0 0 0\n",
        "    0 0 0 1 0 0 0 0 0 0\n",
        "    0 0 0 0 1 0 0 0 0 0]"
      ],
      "id": "761a6509-0a8b-41f3-a773-cffb681799f8"
    },
    {
      "cell_type": "code",
      "execution_count": 59,
      "metadata": {},
      "outputs": [
        {
          "output_type": "display_data",
          "metadata": {},
          "data": {
            "text/plain": [
              "4-element Vector{Float64}:\n",
              " 0.03235208758206609\n",
              " 0.5795228508497553\n",
              " 0.682832351742401\n",
              " 0.64422613488741"
            ]
          }
        }
      ],
      "source": [
        "Φ*x"
      ],
      "id": "472e43d3-3a54-458f-a2cc-5c73a0ceb973"
    },
    {
      "cell_type": "markdown",
      "metadata": {},
      "source": [
        "즉 적당한 $K\\times N$ selection matrix를 선언하여 subsampling을 수행할\n",
        "수 있다. 이때 매트릭스 ${\\bf \\Phi}$를 subsampling matrix 혹은 sparse\n",
        "sampling matrix 라고 부른다.\n",
        "\n",
        "# 12.4.2 Compressed LS Estimator"
      ],
      "id": "d9657068-81fe-4429-876e-566255d6ea70"
    },
    {
      "cell_type": "code",
      "execution_count": 99,
      "metadata": {},
      "outputs": [
        {
          "output_type": "display_data",
          "metadata": {},
          "data": {
            "text/plain": [
              "10×10 Matrix{ComplexF64}:\n",
              " 1.0+0.0im        1.0+0.0im          …        1.0+0.0im\n",
              " 1.0+0.0im   0.809017+0.587785im         0.809017-0.587785im\n",
              " 1.0+0.0im   0.309017+0.951057im         0.309017-0.951057im\n",
              " 1.0+0.0im  -0.309017+0.951057im        -0.309017-0.951057im\n",
              " 1.0+0.0im  -0.809017+0.587785im        -0.809017-0.587785im\n",
              " 1.0+0.0im       -1.0+1.22465e-16im  …       -1.0+1.10218e-15im\n",
              " 1.0+0.0im  -0.809017-0.587785im        -0.809017+0.587785im\n",
              " 1.0+0.0im  -0.309017-0.951057im        -0.309017+0.951057im\n",
              " 1.0+0.0im   0.309017-0.951057im         0.309017+0.951057im\n",
              " 1.0+0.0im   0.809017-0.587785im         0.809017+0.587785im"
            ]
          }
        }
      ],
      "source": [
        "N = 10\n",
        "V = [i*j for i in 0:(N-1) for j in 0:(N-1)] |> \n",
        "    x -> reshape(x,(N,N)) .|> \n",
        "    x -> exp(im * (2π/N) * x) "
      ],
      "id": "483f97c6-93ea-4250-9801-741d6ae0b511"
    },
    {
      "cell_type": "code",
      "execution_count": 100,
      "metadata": {},
      "outputs": [
        {
          "output_type": "display_data",
          "metadata": {},
          "data": {
            "text/plain": [
              "100×10 Matrix{ComplexF64}:\n",
              " 1.0+0.0im        1.0+0.0im          …        1.0+0.0im\n",
              " 1.0+0.0im   0.809017+0.587785im         0.809017-0.587785im\n",
              " 1.0+0.0im   0.309017+0.951057im         0.309017-0.951057im\n",
              " 1.0+0.0im  -0.309017+0.951057im        -0.309017-0.951057im\n",
              " 1.0+0.0im  -0.809017+0.587785im        -0.809017-0.587785im\n",
              " 1.0+0.0im       -1.0+1.22465e-16im  …       -1.0+1.10218e-15im\n",
              " 1.0+0.0im  -0.809017-0.587785im        -0.809017+0.587785im\n",
              " 1.0+0.0im  -0.309017-0.951057im        -0.309017+0.951057im\n",
              " 1.0+0.0im   0.309017-0.951057im         0.309017+0.951057im\n",
              " 1.0+0.0im   0.809017-0.587785im         0.809017+0.587785im\n",
              " 1.0+0.0im   0.809017-0.587785im     …   0.809017+0.587785im\n",
              " 1.0+0.0im        1.0+0.0im                   1.0+0.0im\n",
              " 1.0+0.0im   0.809017+0.587785im         0.809017-0.587785im\n",
              "    ⋮                                ⋱  \n",
              " 1.0+0.0im        1.0+0.0im                   1.0+0.0im\n",
              " 1.0+0.0im   0.809017+0.587785im         0.809017-0.587785im\n",
              " 1.0+0.0im   0.809017+0.587785im     …   0.809017-0.587785im\n",
              " 1.0+0.0im   0.309017+0.951057im         0.309017-0.951057im\n",
              " 1.0+0.0im  -0.309017+0.951057im        -0.309017-0.951057im\n",
              " 1.0+0.0im  -0.809017+0.587785im        -0.809017-0.587785im\n",
              " 1.0+0.0im       -1.0-1.11022e-16im          -1.0+2.27596e-15im\n",
              " 1.0+0.0im  -0.809017-0.587785im     …  -0.809017+0.587785im\n",
              " 1.0+0.0im  -0.309017-0.951057im        -0.309017+0.951057im\n",
              " 1.0+0.0im   0.309017-0.951057im         0.309017+0.951057im\n",
              " 1.0+0.0im   0.809017-0.587785im         0.809017+0.587785im\n",
              " 1.0+0.0im        1.0+0.0im                   1.0+0.0im"
            ]
          }
        }
      ],
      "source": [
        "G = columnwise_kron(conj(V),V)"
      ],
      "id": "28d53404-47d7-4f2e-aff5-7c5a898a276f"
    },
    {
      "cell_type": "markdown",
      "metadata": {},
      "source": [
        "`-` 방법1"
      ],
      "id": "53c27df4-59ca-4e5f-b8b2-b3c165cf67fb"
    },
    {
      "cell_type": "code",
      "execution_count": 101,
      "metadata": {},
      "outputs": [
        {
          "output_type": "display_data",
          "metadata": {},
          "data": {
            "text/plain": [
              "10-element Vector{ComplexF64}:\n",
              "    0.25854107856772546 + 2.245922875954761e-20im\n",
              "   0.004743491121735806 - 1.3138893409553828e-18im\n",
              "   0.006946482731189413 - 9.791191432641327e-19im\n",
              "   0.001721693617954179 - 1.9827974128203887e-18im\n",
              "   0.011344167525098774 + 2.6827005818057562e-19im\n",
              " 0.00012662617844242917 - 3.748573865136995e-20im\n",
              "   0.011344167525098762 + 2.7448152053954017e-18im\n",
              "  0.0017216936179541913 - 9.35534609073096e-19im\n",
              "   0.006946482731189404 + 1.954408900185458e-18im\n",
              "   0.004743491121735756 - 2.561030398375897e-18im"
            ]
          }
        }
      ],
      "source": [
        "ĉx = vec(x*x')\n",
        "p̂ = inv(G' * G) * G' * ĉx"
      ],
      "id": "02c05239-1edf-423e-831f-87a41749d4f3"
    },
    {
      "cell_type": "markdown",
      "metadata": {},
      "source": [
        "`-` 방법2"
      ],
      "id": "ce985a6b-241d-45b1-95a7-7d52f3ccebdb"
    },
    {
      "cell_type": "code",
      "execution_count": 106,
      "metadata": {},
      "outputs": [
        {
          "output_type": "display_data",
          "metadata": {},
          "data": {
            "text/plain": [
              "10-element Vector{ComplexF64}:\n",
              "   3.759462826821233 + 0.0im\n",
              "   2.765185174577697 - 2.0816681711721685e-17im\n",
              "   1.077337414764992 + 2.7755575615628914e-17im\n",
              " 0.11594812606807317 + 2.0816681711721685e-17im\n",
              " 0.08838298603932843 + 3.903127820947816e-17im\n",
              " 0.32863702713833354 + 4.622231866529366e-33im\n",
              " 0.08838298603932859 + 9.540979117872439e-18im\n",
              "  0.1159481260680729 - 2.0816681711721685e-17im\n",
              "  1.0773374147649915 + 0.0im\n",
              "  2.7651851745776965 - 2.0816681711721685e-17im"
            ]
          }
        }
      ],
      "source": [
        "ĉy = vec(y*y')\n",
        "p̂ = (kron(Φ,Φ)*G)' * ĉy"
      ],
      "id": "bcf1d853-ec46-4bd6-b22f-47a7e7e64005"
    }
  ],
  "nbformat": 4,
  "nbformat_minor": 5,
  "metadata": {
    "kernelspec": {
      "name": "python3",
      "display_name": "Python 3 (ipykernel)",
      "language": "python"
    },
    "language_info": {
      "name": "python",
      "codemirror_mode": {
        "name": "ipython",
        "version": "3"
      },
      "file_extension": ".py",
      "mimetype": "text/x-python",
      "nbconvert_exporter": "python",
      "pygments_lexer": "ipython3",
      "version": "3.10.13"
    }
  }
}