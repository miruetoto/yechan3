{
  "cells": [
    {
      "cell_type": "markdown",
      "metadata": {},
      "source": [
        "# (공부) PyG – lesson3: 미니배치\n",
        "\n",
        "신록예찬  \n",
        "2023-07-12\n",
        "\n",
        "# Download notebook\n",
        "\n",
        "``` default\n",
        "!wget https://raw.githubusercontent.com/miruetoto/yechan3/main/posts/2_Studies/PyG/ls3.ipynb\n",
        "```\n",
        "\n",
        "# 미니배치"
      ],
      "id": "82155497-aef0-452e-96a1-07ab12f7197c"
    },
    {
      "cell_type": "code",
      "execution_count": 4,
      "metadata": {},
      "outputs": [],
      "source": [
        "import torch_geometric"
      ],
      "id": "1b62d08e-6907-4ff1-a228-00d41acc84f7"
    },
    {
      "cell_type": "code",
      "execution_count": 5,
      "metadata": {},
      "outputs": [],
      "source": [
        "dataset = torch_geometric.datasets.TUDataset(\n",
        "    root='/tmp/ENZYMES', \n",
        "    name='ENZYMES'\n",
        ")"
      ],
      "id": "5eb81744-e2ea-4e19-a78a-99dcd7c9b75e"
    },
    {
      "cell_type": "markdown",
      "metadata": {},
      "source": [
        "> (ChatGPT) ENZYMES는 그래프 분류를 위한 벤치마크 데이터셋 중\n",
        "> 하나입니다. 이 데이터셋은 600개의 그래프로 구성되어 있으며, 6개의\n",
        "> 클래스로 분류됩니다. 각 그래프는 효소(enzyme) 분자의 구조를 나타내며,\n",
        "> 그래프의 노드는 원자(atom)를 나타내고, 엣지(edge)는 원자 간의 연결을\n",
        "> 나타냅니다. ENZYMES 데이터셋은 화학 및 생물 정보학 분야에서 그래프\n",
        "> 분류 알고리즘의 성능을 평가하기 위해 사용될 수 있습니다. 그래프 분류\n",
        "> 알고리즘은 주어진 그래프를 특정 클래스 레이블로 분류하는 작업을\n",
        "> 수행하는데 사용됩니다. 예를 들어, ENZYMES 데이터셋의 그래프는 특정\n",
        "> 효소 종류를 나타내며, 그래프 분류 알고리즘은 주어진 효소 그래프가 어떤\n",
        "> 종류의 효소인지 예측할 수 있습니다. PyG를 사용하여 ENZYMES 데이터셋을\n",
        "> 초기화하면 해당 데이터셋을 다운로드하고 필요한 전처리를 자동으로\n",
        "> 수행할 수 있습니다. 그래프 데이터를 다루는 머신 러닝 모델을 구축하고\n",
        "> 훈련시키기 위해 ENZYMES 데이터셋을 사용할 수 있습니다."
      ],
      "id": "aa15ef95-dfa9-49c3-9cc6-f0d5835af51a"
    },
    {
      "cell_type": "code",
      "execution_count": 6,
      "metadata": {},
      "outputs": [
        {
          "output_type": "display_data",
          "metadata": {},
          "data": {
            "text/plain": [
              "600"
            ]
          }
        }
      ],
      "source": [
        "len(dataset) # 이 데이터셋에는 600개의 그래프가 있음"
      ],
      "id": "a5eba901-77c8-4f10-9cdb-87f802469034"
    },
    {
      "cell_type": "code",
      "execution_count": 7,
      "metadata": {},
      "outputs": [
        {
          "output_type": "display_data",
          "metadata": {},
          "data": {
            "text/plain": [
              "6"
            ]
          }
        }
      ],
      "source": [
        "dataset.num_classes # 6개의 클래스"
      ],
      "id": "de1b3ff8-fa36-447b-b5d1-dc7841599574"
    },
    {
      "cell_type": "code",
      "execution_count": 8,
      "metadata": {},
      "outputs": [
        {
          "output_type": "display_data",
          "metadata": {},
          "data": {
            "text/plain": [
              "3"
            ]
          }
        }
      ],
      "source": [
        "dataset.num_node_features # 각 노드에는 3개의 피처가 있음"
      ],
      "id": "19513ebe-0b66-4b72-8ce4-4fd5ce4dfd6e"
    },
    {
      "cell_type": "markdown",
      "metadata": {},
      "source": [
        "`-` 600개의 그래프중 첫번째 그래프에 접근"
      ],
      "id": "fef0ae98-b88e-4951-9b11-bb37bbb8d5e0"
    },
    {
      "cell_type": "code",
      "execution_count": 9,
      "metadata": {},
      "outputs": [
        {
          "output_type": "display_data",
          "metadata": {},
          "data": {
            "text/plain": [
              "Data(edge_index=[2, 168], x=[37, 3], y=[1])"
            ]
          }
        }
      ],
      "source": [
        "dataset[0]"
      ],
      "id": "1eb891e1-c30b-4d9c-96c0-76ae4f6ba65b"
    },
    {
      "cell_type": "markdown",
      "metadata": {},
      "source": [
        "-   `x=[37, 3]`: $|{\\cal V}|=37$, $f \\in \\mathbb{R}^3$\n",
        "-   `edge_index=[2, 168]`: $|{\\cal E}|=168$\n",
        "\n",
        "`-` 600개중에서 두번째 그래프에 접근"
      ],
      "id": "07076478-8699-4026-9ad0-b9eaa6031b2a"
    },
    {
      "cell_type": "code",
      "execution_count": 10,
      "metadata": {},
      "outputs": [
        {
          "output_type": "display_data",
          "metadata": {},
          "data": {
            "text/plain": [
              "Data(edge_index=[2, 102], x=[23, 3], y=[1])"
            ]
          }
        }
      ],
      "source": [
        "dataset[1]"
      ],
      "id": "1729539f-29c1-402b-a19c-759d98a5cf10"
    },
    {
      "cell_type": "markdown",
      "metadata": {},
      "source": [
        "-   `x=[23, 3]`: $|{\\cal V}|=23$, $f \\in \\mathbb{R}^3$\n",
        "-   `edge_index=[2, 102]`: $|{\\cal E}|=102$\n",
        "\n",
        "`-` dataset $\\to$ loader"
      ],
      "id": "04248513-768c-4d2c-8dfc-44e5a41b0a0c"
    },
    {
      "cell_type": "code",
      "execution_count": 37,
      "metadata": {},
      "outputs": [],
      "source": [
        "loader = torch_geometric.loader.DataLoader(dataset, batch_size=2, shuffle=False)"
      ],
      "id": "3127d8a9-2950-40c1-a37e-302ae1d5f1df"
    },
    {
      "cell_type": "code",
      "execution_count": 38,
      "metadata": {},
      "outputs": [
        {
          "output_type": "stream",
          "name": "stdout",
          "text": [
            "0 DataBatch(edge_index=[2, 270], x=[60, 3], y=[2], batch=[60], ptr=[3])\n",
            "1 DataBatch(edge_index=[2, 182], x=[49, 3], y=[2], batch=[49], ptr=[3])\n",
            "2 DataBatch(edge_index=[2, 182], x=[47, 3], y=[2], batch=[47], ptr=[3])\n",
            "3 DataBatch(edge_index=[2, 384], x=[114, 3], y=[2], batch=[114], ptr=[3])\n",
            "4 DataBatch(edge_index=[2, 184], x=[55, 3], y=[2], batch=[55], ptr=[3])"
          ]
        }
      ],
      "source": [
        "for i,batch in enumerate(loader):\n",
        "    if i<5:\n",
        "        print(i,batch)"
      ],
      "id": "dc5d0882-578a-4621-99b1-717e8b76299f"
    },
    {
      "cell_type": "markdown",
      "metadata": {},
      "source": [
        "-   600개 그래프를 2개씩 묶어서 배치를 만듬"
      ],
      "id": "df7186b8-40d1-4b2b-8315-d91f45c669d8"
    },
    {
      "cell_type": "code",
      "execution_count": 39,
      "metadata": {},
      "outputs": [
        {
          "output_type": "display_data",
          "metadata": {},
          "data": {
            "text/plain": [
              "(Data(edge_index=[2, 168], x=[37, 3], y=[1]),\n",
              " Data(edge_index=[2, 102], x=[23, 3], y=[1]))"
            ]
          }
        }
      ],
      "source": [
        "dataset[0], dataset[1]"
      ],
      "id": "8565a251-53bc-4bf8-9590-b4ac5a58a089"
    },
    {
      "cell_type": "markdown",
      "metadata": {},
      "source": [
        "-   이게 합쳐져서\n",
        "    `0 DataBatch(edge_index=[2, 270], x=[60, 3], y=[2], batch=[60], ptr=[3])`"
      ],
      "id": "16149410-b045-4333-ba84-179772aa202f"
    },
    {
      "cell_type": "code",
      "execution_count": 41,
      "metadata": {},
      "outputs": [
        {
          "output_type": "display_data",
          "metadata": {},
          "data": {
            "text/plain": [
              "(Data(edge_index=[2, 92], x=[25, 3], y=[1]),\n",
              " Data(edge_index=[2, 90], x=[24, 3], y=[1]))"
            ]
          }
        }
      ],
      "source": [
        "dataset[2], dataset[3]"
      ],
      "id": "3a537ea3-c6c2-4f50-9c9d-e9000252ac39"
    },
    {
      "cell_type": "markdown",
      "metadata": {},
      "source": [
        "-   이게 합쳐져서\n",
        "    `1 DataBatch(edge_index=[2, 182], x=[49, 3], y=[2], batch=[49], ptr=[3])`"
      ],
      "id": "533f8459-9d6e-4b02-a67b-e8d147bd632d"
    }
  ],
  "nbformat": 4,
  "nbformat_minor": 5,
  "metadata": {
    "kernelspec": {
      "name": "python3",
      "display_name": "Python 3 (ipykernel)",
      "language": "python"
    },
    "language_info": {
      "name": "python",
      "codemirror_mode": {
        "name": "ipython",
        "version": "3"
      },
      "file_extension": ".py",
      "mimetype": "text/x-python",
      "nbconvert_exporter": "python",
      "pygments_lexer": "ipython3",
      "version": "3.10.13"
    }
  }
}