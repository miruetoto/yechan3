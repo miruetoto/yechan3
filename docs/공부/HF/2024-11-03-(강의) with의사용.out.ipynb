{
  "cells": [
    {
      "cell_type": "markdown",
      "metadata": {},
      "source": [
        "# (강의) `with`의 사용\n",
        "\n",
        "최규빈  \n",
        "2024-11-03\n",
        "\n",
        "<a href=\"https://colab.research.google.com/github/guebin/MP2024/blob/main/posts/08wk-3.ipynb\"><img src=\"https://colab.research.google.com/assets/colab-badge.svg\" style=\"text-align: left\"></a>\n",
        "\n",
        "# 1. 강의영상"
      ],
      "id": "cd745c11-5c28-4218-ab60-dbeeca68cc02"
    },
    {
      "cell_type": "code",
      "execution_count": null,
      "metadata": {},
      "outputs": [],
      "source": [
        "#{{<video https://youtu.be/playlist?list=PLQqh36zP38-zBs464epBRfxPpNBAKqBMS&si=It99ZTYMQHJkCk6z >}}"
      ],
      "id": "cell-3"
    },
    {
      "cell_type": "markdown",
      "metadata": {},
      "source": [
        "# 2. Imports"
      ],
      "id": "081ab0bd-9aff-48c7-b7a7-a229fe9fc20e"
    },
    {
      "cell_type": "code",
      "execution_count": 293,
      "metadata": {},
      "outputs": [],
      "source": [
        "import numpy as np\n",
        "import pandas as pd\n",
        "import matplotlib.pyplot as plt\n",
        "import time\n",
        "#---#\n",
        "import torch\n",
        "import transformers\n",
        "import tarfile"
      ],
      "id": "cell-5"
    },
    {
      "cell_type": "markdown",
      "metadata": {},
      "source": [
        "# 3. `with`\n",
        "\n",
        "## A. 기본사용\n",
        "\n",
        "`-` 아래와 같이 with를 사용한다. 여기에서 `컨텍스트_관리_객체`란\n",
        "`__enter__` 와 `__exit__`을 포함하는 어떠한 오브젝트이다.\n",
        "\n",
        "``` python\n",
        "with 컨텍스트_관리_객체:\n",
        "    블라블라~\n",
        "    야디야디~\n",
        "```\n",
        "\n",
        "`# 예제1` – 기본예제\n",
        "\n",
        "`-` context manager"
      ],
      "id": "2fae8027-a9d6-4a96-b586-7be5af75b596"
    },
    {
      "cell_type": "code",
      "execution_count": 127,
      "metadata": {},
      "outputs": [],
      "source": [
        "class Dummy: \n",
        "    def __enter__(self):\n",
        "        print(\"enter\")\n",
        "    def __exit__(self,*args): # *args는 에러처리 관련된 기본변수들\n",
        "        print(\"exit\")"
      ],
      "id": "cell-12"
    },
    {
      "cell_type": "markdown",
      "metadata": {},
      "source": [
        "`-` 아래의 2개는 같은코드임.."
      ],
      "id": "5f7d9510-e86e-40cb-9f89-c95b949fd4cc"
    },
    {
      "cell_type": "code",
      "execution_count": 128,
      "metadata": {},
      "outputs": [
        {
          "output_type": "stream",
          "name": "stdout",
          "text": [
            "enter\n",
            "context\n",
            "exit"
          ]
        }
      ],
      "source": [
        "d = Dummy()\n",
        "d.__enter__()\n",
        "print('context')\n",
        "d.__exit__()"
      ],
      "id": "cell-14"
    },
    {
      "cell_type": "code",
      "execution_count": 129,
      "metadata": {},
      "outputs": [
        {
          "output_type": "stream",
          "name": "stdout",
          "text": [
            "enter\n",
            "context\n",
            "exit"
          ]
        }
      ],
      "source": [
        "d = Dummy()\n",
        "with d:\n",
        "    print(\"context\")\n"
      ],
      "id": "cell-15"
    },
    {
      "cell_type": "markdown",
      "metadata": {},
      "source": [
        "`#`\n",
        "\n",
        "`-` with 뒤에 올수 있는 오브젝트는 `__enter__` 와 `__exit__` 을\n",
        "포함해야한다."
      ],
      "id": "dde2a4a4-7e62-4c2a-9a03-0fa890b348dd"
    },
    {
      "cell_type": "code",
      "execution_count": 130,
      "metadata": {},
      "outputs": [],
      "source": [
        "lst = [1,2,3]\n",
        "with lst:\n",
        "    pass"
      ],
      "id": "cell-18"
    },
    {
      "cell_type": "code",
      "execution_count": 131,
      "metadata": {},
      "outputs": [],
      "source": [
        "class Dummy: \n",
        "    def __enter__(self):\n",
        "        pass\n",
        "    def __exit__(self,*args): # *args는 에러처리 관련된 기본변수들\n",
        "        pass\n",
        "with Dummy():\n",
        "    pass"
      ],
      "id": "cell-19"
    },
    {
      "cell_type": "markdown",
      "metadata": {},
      "source": [
        "`# 예제2` – 타이머"
      ],
      "id": "3a3e711a-b3e4-4bd3-8586-853a80547a24"
    },
    {
      "cell_type": "code",
      "execution_count": 138,
      "metadata": {},
      "outputs": [],
      "source": [
        "class Timer:\n",
        "    def __enter__(self):\n",
        "        self.start = time.time()\n",
        "    def __exit__(self,*args):\n",
        "        self.end = time.time()\n",
        "        print(f'{self.end- self.start:.4f} 초 걸림')"
      ],
      "id": "cell-21"
    },
    {
      "cell_type": "code",
      "execution_count": 140,
      "metadata": {},
      "outputs": [
        {
          "output_type": "stream",
          "name": "stdout",
          "text": [
            "1.5234 초 걸림"
          ]
        }
      ],
      "source": [
        "with Timer():\n",
        "    np.random.randn(10000,10000) + 30\n"
      ],
      "id": "cell-22"
    },
    {
      "cell_type": "markdown",
      "metadata": {},
      "source": [
        "`#`\n",
        "\n",
        "`# 예제3`"
      ],
      "id": "6b4f90fc-e6f0-4bcf-8191-a890a12b15b3"
    },
    {
      "cell_type": "code",
      "execution_count": 173,
      "metadata": {},
      "outputs": [],
      "source": [
        "class 미분꼬리표추적금지:\n",
        "    def __enter__(self):\n",
        "        torch.set_grad_enabled(False)\n",
        "    def __exit__(self,*args):\n",
        "        torch.set_grad_enabled(True)"
      ],
      "id": "cell-25"
    },
    {
      "cell_type": "code",
      "execution_count": 174,
      "metadata": {},
      "outputs": [
        {
          "output_type": "display_data",
          "metadata": {},
          "data": {
            "text/plain": [
              "(tensor([1., 2., 3.], requires_grad=True),\n",
              " tensor([10., 20., 30.], grad_fn=<MulBackward0>))"
            ]
          }
        }
      ],
      "source": [
        "a = torch.tensor([1.0,2,3],requires_grad=True)\n",
        "b = a*10\n",
        "a,b"
      ],
      "id": "cell-26"
    },
    {
      "cell_type": "code",
      "execution_count": 175,
      "metadata": {},
      "outputs": [
        {
          "output_type": "display_data",
          "metadata": {},
          "data": {
            "text/plain": [
              "(tensor([1., 2., 3.], requires_grad=True), tensor([10., 20., 30.]))"
            ]
          }
        }
      ],
      "source": [
        "with 미분꼬리표추적금지():\n",
        "    a = torch.tensor([1.0,2,3],requires_grad=True)\n",
        "    b = a*10\n",
        "a,b"
      ],
      "id": "cell-27"
    },
    {
      "cell_type": "code",
      "execution_count": 176,
      "metadata": {},
      "outputs": [
        {
          "output_type": "display_data",
          "metadata": {},
          "data": {
            "text/plain": [
              "(tensor([1., 2., 3.], requires_grad=True),\n",
              " tensor([10., 20., 30.], grad_fn=<MulBackward0>))"
            ]
          }
        }
      ],
      "source": [
        "a = torch.tensor([1.0,2,3],requires_grad=True)\n",
        "b = a*10\n",
        "a,b"
      ],
      "id": "cell-28"
    },
    {
      "cell_type": "markdown",
      "metadata": {},
      "source": [
        "`#`\n",
        "\n",
        "`# 예제4`\n",
        "\n",
        "아래의 코드를 모델을 활용하여 로짓을 계산하라."
      ],
      "id": "9aa176ac-90fe-4237-93d8-194e6d67f884"
    },
    {
      "cell_type": "code",
      "execution_count": 190,
      "metadata": {},
      "outputs": [
        {
          "output_type": "stream",
          "name": "stderr",
          "text": [
            "Some weights of DistilBertForSequenceClassification were not initialized from the model checkpoint at distilbert/distilbert-base-uncased and are newly initialized: ['classifier.bias', 'classifier.weight', 'pre_classifier.bias', 'pre_classifier.weight']\n",
            "You should probably TRAIN this model on a down-stream task to be able to use it for predictions and inference."
          ]
        }
      ],
      "source": [
        "model = transformers.AutoModelForSequenceClassification.from_pretrained(\n",
        "    \"distilbert/distilbert-base-uncased\", num_labels=2\n",
        ")\n",
        "model_input = {\n",
        "    'input_ids': torch.tensor([[101, 2023, 3185, 2003, 6659, 2021, 2009, 2038, 2070, 2204, 3896, 1012, 102]]),\n",
        "    'attention_mask': torch.tensor([[1, 1, 1, 1, 1, 1, 1, 1, 1, 1, 1, 1, 1]]),\n",
        "    'labels': torch.tensor([0])\n",
        "}"
      ],
      "id": "cell-32"
    },
    {
      "cell_type": "markdown",
      "metadata": {},
      "source": [
        "`(풀이)`"
      ],
      "id": "3c577478-988f-4f6e-9d80-068ef4d6eeb3"
    },
    {
      "cell_type": "code",
      "execution_count": 191,
      "metadata": {},
      "outputs": [
        {
          "output_type": "display_data",
          "metadata": {},
          "data": {
            "text/plain": [
              "SequenceClassifierOutput(loss=tensor(0.6349, grad_fn=<NllLossBackward0>), logits=tensor([[ 0.0272, -0.0929]], grad_fn=<AddmmBackward0>), hidden_states=None, attentions=None)"
            ]
          }
        }
      ],
      "source": [
        "model(**model_input)"
      ],
      "id": "cell-34"
    },
    {
      "cell_type": "code",
      "execution_count": 193,
      "metadata": {},
      "outputs": [
        {
          "output_type": "display_data",
          "metadata": {},
          "data": {
            "text/plain": [
              "tensor([[ 0.0272, -0.0929]], grad_fn=<AddmmBackward0>)"
            ]
          }
        }
      ],
      "source": [
        "logits = model(**model_input).logits\n",
        "logits"
      ],
      "id": "cell-35"
    },
    {
      "cell_type": "markdown",
      "metadata": {},
      "source": [
        "`(풀이2)`\n",
        "\n",
        "그런데 이런코드도 많이 보셨을거에요.."
      ],
      "id": "b3172995-d929-4342-b1ab-c36d682db350"
    },
    {
      "cell_type": "code",
      "execution_count": 194,
      "metadata": {},
      "outputs": [
        {
          "output_type": "display_data",
          "metadata": {},
          "data": {
            "text/plain": [
              "tensor([[ 0.0272, -0.0929]])"
            ]
          }
        }
      ],
      "source": [
        "with torch.no_grad():\n",
        "    logits = model(**model_input).logits\n",
        "logits"
      ],
      "id": "cell-38"
    },
    {
      "cell_type": "markdown",
      "metadata": {},
      "source": [
        "ref:\n",
        "<https://huggingface.co/docs/transformers/tasks/sequence_classification>\n",
        "\n",
        "`-` 코드를 좀 뜯어봅시다.."
      ],
      "id": "76907a96-3838-47f0-a4f6-8d5c80ca4f47"
    },
    {
      "cell_type": "code",
      "execution_count": 195,
      "metadata": {},
      "outputs": [],
      "source": [
        "context_manager = torch.no_grad()"
      ],
      "id": "cell-41"
    },
    {
      "cell_type": "code",
      "execution_count": 198,
      "metadata": {},
      "outputs": [
        {
          "output_type": "stream",
          "name": "stdout",
          "text": [
            "Signature: context_manager.__enter__() -> None\n",
            "Docstring: <no docstring>\n",
            "Source:   \n",
            "    def __enter__(self) -> None:\n",
            "        self.prev = torch.is_grad_enabled()\n",
            "        torch.set_grad_enabled(False)\n",
            "File:      ~/anaconda3/envs/hf/lib/python3.12/site-packages/torch/autograd/grad_mode.py\n",
            "Type:      method"
          ]
        }
      ],
      "source": [
        "context_manager.__enter__??"
      ],
      "id": "cell-42"
    },
    {
      "cell_type": "code",
      "execution_count": 199,
      "metadata": {},
      "outputs": [
        {
          "output_type": "stream",
          "name": "stdout",
          "text": [
            "Signature: context_manager.__exit__(exc_type: Any, exc_value: Any, traceback: Any) -> None\n",
            "Docstring: <no docstring>\n",
            "Source:   \n",
            "    def __exit__(self, exc_type: Any, exc_value: Any, traceback: Any) -> None:\n",
            "        torch.set_grad_enabled(self.prev)\n",
            "File:      ~/anaconda3/envs/hf/lib/python3.12/site-packages/torch/autograd/grad_mode.py\n",
            "Type:      method"
          ]
        }
      ],
      "source": [
        "context_manager.__exit__??"
      ],
      "id": "cell-43"
    },
    {
      "cell_type": "markdown",
      "metadata": {},
      "source": [
        "`#`\n",
        "\n",
        "## B. 약간고급사용\n",
        "\n",
        "`# 예비학습`\n",
        "\n",
        "`-` 기본플랏"
      ],
      "id": "fcaf83e9-8564-4d1e-b163-ba1d9e8a6cee"
    },
    {
      "cell_type": "code",
      "execution_count": 222,
      "metadata": {},
      "outputs": [
        {
          "output_type": "display_data",
          "metadata": {},
          "data": {
            "image/png": "[encoded data removed]"
          }
        }
      ],
      "source": [
        "plt.plot([1,2,3,4],'--o')"
      ],
      "id": "cell-48"
    },
    {
      "cell_type": "markdown",
      "metadata": {},
      "source": [
        "`-` 크기를 (10,3)으로 조정"
      ],
      "id": "12c86b6e-a543-45eb-858b-589e667f76aa"
    },
    {
      "cell_type": "code",
      "execution_count": 225,
      "metadata": {},
      "outputs": [
        {
          "output_type": "display_data",
          "metadata": {},
          "data": {
            "image/png": "[encoded data removed]"
          }
        }
      ],
      "source": [
        "plt.rcParams['figure.figsize'] = (10, 3)\n",
        "plt.plot([1,2,3,4],'--o',)"
      ],
      "id": "cell-50"
    },
    {
      "cell_type": "markdown",
      "metadata": {},
      "source": [
        "`-` 한번 뒤틀린 설정이 그대로 있음"
      ],
      "id": "f5d6fa2d-6336-49d0-a34c-3d2ef48fbc9d"
    },
    {
      "cell_type": "code",
      "execution_count": 228,
      "metadata": {},
      "outputs": [
        {
          "output_type": "display_data",
          "metadata": {},
          "data": {
            "image/png": "[encoded data removed]"
          }
        }
      ],
      "source": [
        "plt.plot([4,3,2,1],'--o') # 다른그림도 이렇게 보임"
      ],
      "id": "cell-52"
    },
    {
      "cell_type": "markdown",
      "metadata": {},
      "source": [
        "`-` 설정을 원래대로"
      ],
      "id": "76836eb7-d5d3-4c39-a2ff-dd93ce3d4ca0"
    },
    {
      "cell_type": "code",
      "execution_count": 229,
      "metadata": {},
      "outputs": [],
      "source": [
        "plt.rcdefaults()"
      ],
      "id": "cell-54"
    },
    {
      "cell_type": "code",
      "execution_count": 230,
      "metadata": {},
      "outputs": [
        {
          "output_type": "display_data",
          "metadata": {},
          "data": {
            "image/png": "[encoded data removed]"
          }
        }
      ],
      "source": [
        "plt.plot([4,3,2,1],'--o') # 다른그림도 이렇게 보임"
      ],
      "id": "cell-55"
    },
    {
      "cell_type": "markdown",
      "metadata": {},
      "source": [
        "`#`\n",
        "\n",
        "`# 예제4` – 크기조정"
      ],
      "id": "7aa62e5d-b8bd-47db-aeb4-6ea1c3a061cc"
    },
    {
      "cell_type": "code",
      "execution_count": 246,
      "metadata": {},
      "outputs": [],
      "source": [
        "class FigureSizeContext:\n",
        "    def __enter__(self):\n",
        "        def resize(w,h):\n",
        "            plt.rcParams['figure.figsize'] = (w,h)\n",
        "        return resize\n",
        "    def __exit__(self,*args):\n",
        "        plt.rcdefaults()"
      ],
      "id": "cell-58"
    },
    {
      "cell_type": "markdown",
      "metadata": {},
      "source": [
        "`-` 사용예시1"
      ],
      "id": "56191f3c-230d-413e-9d90-444a97b02aa8"
    },
    {
      "cell_type": "code",
      "execution_count": 254,
      "metadata": {},
      "outputs": [
        {
          "output_type": "display_data",
          "metadata": {},
          "data": {
            "image/png": "[encoded data removed]"
          }
        }
      ],
      "source": [
        "context_manager = FigureSizeContext()\n",
        "resize = context_manager.__enter__()\n",
        "resize(3,3)\n",
        "plt.plot([1,2,3],'--o')\n",
        "context_manager.__exit__()"
      ],
      "id": "cell-60"
    },
    {
      "cell_type": "code",
      "execution_count": 255,
      "metadata": {},
      "outputs": [
        {
          "output_type": "display_data",
          "metadata": {},
          "data": {
            "image/png": "[encoded data removed]"
          }
        }
      ],
      "source": [
        "plt.plot([1,2,2],'--o')"
      ],
      "id": "cell-61"
    },
    {
      "cell_type": "markdown",
      "metadata": {},
      "source": [
        "`-` 사용예시2"
      ],
      "id": "0e7c8373-5ecd-4374-a981-b9eecd06429b"
    },
    {
      "cell_type": "code",
      "execution_count": 261,
      "metadata": {},
      "outputs": [
        {
          "output_type": "display_data",
          "metadata": {},
          "data": {
            "image/png": "[encoded data removed]"
          }
        }
      ],
      "source": [
        "context_manager = FigureSizeContext()\n",
        "with context_manager as resize:\n",
        "    resize(3,3)\n",
        "    plt.plot([1,2,3],'--o')"
      ],
      "id": "cell-63"
    },
    {
      "cell_type": "code",
      "execution_count": 262,
      "metadata": {},
      "outputs": [
        {
          "output_type": "display_data",
          "metadata": {},
          "data": {
            "image/png": "[encoded data removed]"
          }
        }
      ],
      "source": [
        "plt.plot([1,2,2],'--o')"
      ],
      "id": "cell-64"
    },
    {
      "cell_type": "markdown",
      "metadata": {},
      "source": [
        "`-` 정리하면 아래는 같은코드이다."
      ],
      "id": "979edee4-bf88-4b20-b3af-bc0bfe5e6264"
    },
    {
      "cell_type": "code",
      "execution_count": 268,
      "metadata": {},
      "outputs": [
        {
          "output_type": "display_data",
          "metadata": {},
          "data": {
            "image/png": "[encoded data removed]"
          }
        }
      ],
      "source": [
        "### 코드1\n",
        "context_manager = FigureSizeContext()\n",
        "resize = context_manager.__enter__()\n",
        "resize(3,3)\n",
        "plt.plot([1,3,2],'--o')\n",
        "context_manager.__exit__()"
      ],
      "id": "cell-66"
    },
    {
      "cell_type": "code",
      "execution_count": 269,
      "metadata": {},
      "outputs": [
        {
          "output_type": "display_data",
          "metadata": {},
          "data": {
            "image/png": "[encoded data removed]"
          }
        }
      ],
      "source": [
        "## 코드2\n",
        "context_manager = FigureSizeContext()\n",
        "with context_manager as resize:\n",
        "    resize(3,3)\n",
        "    plt.plot([1,3,2],'--o')"
      ],
      "id": "cell-67"
    },
    {
      "cell_type": "code",
      "execution_count": 271,
      "metadata": {},
      "outputs": [
        {
          "output_type": "display_data",
          "metadata": {},
          "data": {
            "image/png": "[encoded data removed]"
          }
        }
      ],
      "source": [
        "## 코드3\n",
        "with FigureSizeContext() as resize:\n",
        "    resize(3,3)\n",
        "    plt.plot([1,3,2],'--o')    "
      ],
      "id": "cell-68"
    },
    {
      "cell_type": "markdown",
      "metadata": {},
      "source": [
        "`#`\n",
        "\n",
        "`# 예제5` – 샌드위치만들기"
      ],
      "id": "a7116f0e-2076-43c8-ae31-925c36e2b29a"
    },
    {
      "cell_type": "code",
      "execution_count": 285,
      "metadata": {},
      "outputs": [],
      "source": [
        "class 샌드위치생성기:\n",
        "    def __init__(self, 빵=\"기본빵\"):\n",
        "        self.빵 = 빵\n",
        "        self.재료들 = []\n",
        "    def __enter__(self):\n",
        "        print(f'---{self.빵}---')    \n",
        "        return self # 보통이런패턴..\n",
        "    def __exit__(self, *args):\n",
        "        print(f'---{self.빵}---')\n",
        "    def 재료추가하기(self,재료):\n",
        "        print(재료)\n",
        "        self.재료들.append(재료)"
      ],
      "id": "cell-71"
    },
    {
      "cell_type": "markdown",
      "metadata": {},
      "source": [
        "`-` 사용예시1"
      ],
      "id": "96a2f4c3-68ab-43ad-be42-1570c7886631"
    },
    {
      "cell_type": "code",
      "execution_count": 277,
      "metadata": {},
      "outputs": [
        {
          "output_type": "stream",
          "name": "stdout",
          "text": [
            "---기본빵---\n",
            "---기본빵---"
          ]
        }
      ],
      "source": [
        "with 샌드위치생성기() as 샌드위치1:\n",
        "    pass"
      ],
      "id": "cell-73"
    },
    {
      "cell_type": "code",
      "execution_count": 282,
      "metadata": {},
      "outputs": [
        {
          "output_type": "display_data",
          "metadata": {},
          "data": {
            "text/plain": [
              "('기본빵', [])"
            ]
          }
        }
      ],
      "source": [
        "샌드위치1.빵, 샌드위치1.재료들"
      ],
      "id": "cell-74"
    },
    {
      "cell_type": "markdown",
      "metadata": {},
      "source": [
        "`-` 사용예시2"
      ],
      "id": "67450a5c-abc7-41e8-b29d-79a9c975a7d6"
    },
    {
      "cell_type": "code",
      "execution_count": 286,
      "metadata": {},
      "outputs": [
        {
          "output_type": "stream",
          "name": "stdout",
          "text": [
            "---허니오토---\n",
            "양상추\n",
            "토마토\n",
            "햄\n",
            "---허니오토---"
          ]
        }
      ],
      "source": [
        "with 샌드위치생성기(빵='허니오토') as 샌드위치2:\n",
        "    샌드위치2.재료추가하기('양상추')\n",
        "    샌드위치2.재료추가하기('토마토')\n",
        "    샌드위치2.재료추가하기('햄')"
      ],
      "id": "cell-76"
    },
    {
      "cell_type": "code",
      "execution_count": 288,
      "metadata": {},
      "outputs": [
        {
          "output_type": "display_data",
          "metadata": {},
          "data": {
            "text/plain": [
              "('허니오토', ['양상추', '토마토', '햄'])"
            ]
          }
        }
      ],
      "source": [
        "샌드위치2.빵, 샌드위치2.재료들"
      ],
      "id": "cell-77"
    },
    {
      "cell_type": "markdown",
      "metadata": {},
      "source": [
        "`-` 정리하면 `__enter__()` 의 리턴값이 `self`일 경우에 한정하여 아래의\n",
        "문법이 같은효과.. (그런데 보통 이런 경우가 많음 )"
      ],
      "id": "edb91b3b-0f2d-4e38-adf0-ba1c7400b736"
    },
    {
      "cell_type": "code",
      "execution_count": 290,
      "metadata": {},
      "outputs": [
        {
          "output_type": "stream",
          "name": "stdout",
          "text": [
            "---허니오토---\n",
            "양상추\n",
            "토마토\n",
            "햄\n",
            "---허니오토---"
          ]
        }
      ],
      "source": [
        "with 샌드위치생성기(빵='허니오토') as 샌드위치2:\n",
        "    샌드위치2.재료추가하기('양상추')\n",
        "    샌드위치2.재료추가하기('토마토')\n",
        "    샌드위치2.재료추가하기('햄')"
      ],
      "id": "cell-79"
    },
    {
      "cell_type": "code",
      "execution_count": 349,
      "metadata": {},
      "outputs": [
        {
          "output_type": "stream",
          "name": "stdout",
          "text": [
            "---허니오토---\n",
            "양상추\n",
            "토마토\n",
            "햄\n",
            "---허니오토---"
          ]
        }
      ],
      "source": [
        "샌드위치2 = 샌드위치생성기(빵='허니오토')\n",
        "샌드위치2 = 샌드위치2.__enter__()\n",
        "샌드위치2.재료추가하기('양상추')\n",
        "샌드위치2.재료추가하기('토마토')\n",
        "샌드위치2.재료추가하기('햄')\n",
        "샌드위치2.__exit__()"
      ],
      "id": "cell-80"
    },
    {
      "cell_type": "code",
      "execution_count": 350,
      "metadata": {},
      "outputs": [
        {
          "output_type": "stream",
          "name": "stdout",
          "text": [
            "---허니오토---\n",
            "양상추\n",
            "토마토\n",
            "햄\n",
            "---허니오토---"
          ]
        }
      ],
      "source": [
        "샌드위치2 = 샌드위치생성기(빵='허니오토').__enter__()\n",
        "샌드위치2.재료추가하기('양상추')\n",
        "샌드위치2.재료추가하기('토마토')\n",
        "샌드위치2.재료추가하기('햄')\n",
        "샌드위치2.__exit__()"
      ],
      "id": "cell-81"
    },
    {
      "cell_type": "code",
      "execution_count": 351,
      "metadata": {},
      "outputs": [
        {
          "output_type": "stream",
          "name": "stdout",
          "text": [
            "---허니오토---\n",
            "양상추\n",
            "토마토\n",
            "햄\n",
            "---허니오토---"
          ]
        }
      ],
      "source": [
        "샌드위치2 = 샌드위치생성기(빵='허니오토')\n",
        "샌드위치2.__enter__()\n",
        "샌드위치2.재료추가하기('양상추')\n",
        "샌드위치2.재료추가하기('토마토')\n",
        "샌드위치2.재료추가하기('햄')\n",
        "샌드위치2.__exit__()"
      ],
      "id": "cell-82"
    },
    {
      "cell_type": "markdown",
      "metadata": {},
      "source": [
        "`#`\n",
        "\n",
        "`# 예제6`\n",
        "\n",
        "`-` `example.txt` 를 만들고 “asdf” 라는 글자를 넣는 파이썬코드"
      ],
      "id": "1a93131b-45bb-411b-9c5e-fb69f8af9ee1"
    },
    {
      "cell_type": "code",
      "execution_count": 342,
      "metadata": {},
      "outputs": [],
      "source": [
        "with open(\"example.txt\",\"w\") as file:\n",
        "    file.write(\"asdf\")"
      ],
      "id": "cell-86"
    },
    {
      "cell_type": "code",
      "execution_count": 343,
      "metadata": {},
      "outputs": [
        {
          "output_type": "stream",
          "name": "stdout",
          "text": [
            "asdf"
          ]
        }
      ],
      "source": [
        "!cat example.txt # example.txt 를 출력하는 리눅스 명령어.."
      ],
      "id": "cell-87"
    },
    {
      "cell_type": "markdown",
      "metadata": {},
      "source": [
        "`-` 분석하기.."
      ],
      "id": "e0468b74-0105-4ff3-989c-6dc8874f36f7"
    },
    {
      "cell_type": "code",
      "execution_count": 344,
      "metadata": {},
      "outputs": [
        {
          "output_type": "display_data",
          "metadata": {},
          "data": {
            "text/plain": [
              "(_io.TextIOWrapper, _io.TextIOWrapper)"
            ]
          }
        }
      ],
      "source": [
        "context_manager = open(\"example.txt\",\"w\")\n",
        "type(context_manager), type(file)"
      ],
      "id": "cell-89"
    },
    {
      "cell_type": "markdown",
      "metadata": {},
      "source": [
        "`-` 분석하기2: `__enter__` 가 `self`를 리턴하는지 보자"
      ],
      "id": "3c189510-90a2-427d-a383-6e351facbd66"
    },
    {
      "cell_type": "code",
      "execution_count": 346,
      "metadata": {},
      "outputs": [
        {
          "output_type": "stream",
          "name": "stdout",
          "text": [
            "Docstring: <no docstring>\n",
            "Type:      builtin_function_or_method"
          ]
        }
      ],
      "source": [
        "context_manager.__enter__??\n",
        "# 코드를 볼수없음 -- 아쉽당.."
      ],
      "id": "cell-91"
    },
    {
      "cell_type": "markdown",
      "metadata": {},
      "source": [
        "`#`\n",
        "\n",
        "`# 예제7`\n",
        "\n",
        "`-` `example.txt` 파일을 `example.tar.gz`로 압축하는 코드"
      ],
      "id": "446d6708-839d-4a38-9fe8-1771d96c1e26"
    },
    {
      "cell_type": "code",
      "execution_count": 347,
      "metadata": {},
      "outputs": [],
      "source": [
        "with tarfile.open(\"example.tar.gz\", \"w:gz\") as tar:\n",
        "    tar.add(\"example.txt\", arcname=\"example.txt\")"
      ],
      "id": "cell-95"
    },
    {
      "cell_type": "markdown",
      "metadata": {},
      "source": [
        "`-` 분석하기"
      ],
      "id": "8305df43-173d-429b-b4b3-0db4d6dda0fb"
    },
    {
      "cell_type": "code",
      "execution_count": 331,
      "metadata": {},
      "outputs": [
        {
          "output_type": "display_data",
          "metadata": {},
          "data": {
            "text/plain": [
              "(tarfile.TarFile, tarfile.TarFile)"
            ]
          }
        }
      ],
      "source": [
        "context_manager = tarfile.open(\"example.tar.gz\", \"w:gz\")\n",
        "type(context_manager), type(tar)"
      ],
      "id": "cell-97"
    },
    {
      "cell_type": "markdown",
      "metadata": {},
      "source": [
        "`-` 분석하기2: `__enter__` 가 `self`를 리턴하는지 보자"
      ],
      "id": "076abd8a-004b-4582-bb6b-c3cee6f3d9e6"
    },
    {
      "cell_type": "code",
      "execution_count": 333,
      "metadata": {},
      "outputs": [
        {
          "output_type": "stream",
          "name": "stdout",
          "text": [
            "Signature: context_manager.__enter__()\n",
            "Docstring: <no docstring>\n",
            "Source:   \n",
            "    def __enter__(self):\n",
            "        self._check()\n",
            "        return self\n",
            "File:      ~/anaconda3/envs/hf/lib/python3.12/tarfile.py\n",
            "Type:      method"
          ]
        }
      ],
      "source": [
        "context_manager.__enter__??\n",
        "# 역시 셀프를 리턴하는 구조.."
      ],
      "id": "cell-99"
    },
    {
      "cell_type": "markdown",
      "metadata": {},
      "source": [
        "`#`"
      ],
      "id": "94df7d6b-1859-482e-9ff7-23bdc4ad31d4"
    }
  ],
  "nbformat": 4,
  "nbformat_minor": 5,
  "metadata": {
    "kernelspec": {
      "name": "python3",
      "display_name": "hf",
      "language": "python"
    },
    "language_info": {
      "name": "python",
      "codemirror_mode": {
        "name": "ipython",
        "version": "3"
      },
      "file_extension": ".py",
      "mimetype": "text/x-python",
      "nbconvert_exporter": "python",
      "pygments_lexer": "ipython3",
      "version": "3.12.2"
    }
  }
}