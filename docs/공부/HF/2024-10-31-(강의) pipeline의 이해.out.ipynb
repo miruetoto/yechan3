{
  "cells": [
    {
      "cell_type": "markdown",
      "metadata": {},
      "source": [
        "# (강의) pipeline의 이해\n",
        "\n",
        "신록예찬  \n",
        "2024-10-31"
      ],
      "id": "8ac3752b-e849-4dc9-ac8c-e5ba69cbb5b9"
    }
  ],
  "nbformat": 4,
  "nbformat_minor": 5,
  "metadata": {
    "kernelspec": {
      "name": "python3",
      "display_name": "Python 3",
      "language": "python"
    },
    "language_info": {
      "name": "python"
    }
  }
}