{
  "cells": [
    {
      "cell_type": "markdown",
      "metadata": {},
      "source": [
        "# (강의) pipeline의 이해\n",
        "\n",
        "신록예찬  \n",
        "2024-10-31"
      ],
      "id": "e3ff389c-3808-4b6c-b58f-ad94e774522d"
    }
  ],
  "nbformat": 4,
  "nbformat_minor": 5,
  "metadata": {
    "kernelspec": {
      "name": "python3",
      "display_name": "Python 3",
      "language": "python"
    },
    "language_info": {
      "name": "python"
    }
  }
}