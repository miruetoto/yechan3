{
  "cells": [
    {
      "cell_type": "markdown",
      "metadata": {},
      "source": [
        "# (강의) numpy와 torch의 차이\n",
        "\n",
        "최규빈  \n",
        "2024-11-02\n",
        "\n",
        "# 1. 강의영상"
      ],
      "id": "d73222c1-86a6-4377-aecd-fac3a5c534fa"
    },
    {
      "cell_type": "code",
      "execution_count": 1,
      "metadata": {},
      "outputs": [],
      "source": [
        "#{{<video https://youtu.be/playlist?list=PLQqh36zP38-zBs464epBRfxPpNBAKqBMS&si=It99ZTYMQHJkCk6z >}}"
      ],
      "id": "cell-2"
    },
    {
      "cell_type": "markdown",
      "metadata": {},
      "source": [
        "# 2. Imports"
      ],
      "id": "655b6d4b-b792-4bb6-a5d2-26402e7e4e87"
    },
    {
      "cell_type": "code",
      "execution_count": 2,
      "metadata": {},
      "outputs": [],
      "source": [
        "#!pip install git+https://github.com/guebin/mp2024pkg.git"
      ],
      "id": "cell-4"
    },
    {
      "cell_type": "code",
      "execution_count": 1,
      "metadata": {},
      "outputs": [
        {
          "output_type": "stream",
          "name": "stderr",
          "text": [
            "/home/cgb3/anaconda3/envs/hf/lib/python3.12/site-packages/tqdm/auto.py:21: TqdmWarning: IProgress not found. Please update jupyter and ipywidgets. See https://ipywidgets.readthedocs.io/en/stable/user_install.html\n",
            "  from .autonotebook import tqdm as notebook_tqdm"
          ]
        }
      ],
      "source": [
        "import numpy as np\n",
        "import torch\n",
        "import mp2024pkg\n",
        "import transformers\n",
        "import datasets\n",
        "import matplotlib.pyplot as plt"
      ],
      "id": "cell-5"
    },
    {
      "cell_type": "markdown",
      "metadata": {},
      "source": [
        "# 3. `numpy`와 `torch`의 비교\n",
        "\n",
        "`-` 파이썬입문수준의 질문: numpy랑 list의 차이가 뭔가..?\n",
        "\n",
        "`-` 기계학습활용수준의 질문: numpy랑 torch의 차이가 뭔가..?\n",
        "\n",
        "## A. 공통점\n",
        "\n",
        "`-` 기본마인드: numpy에서 가능한건 torch에서도 가능하다고 생각하면 된다.\n",
        "\n",
        "`-` 벡터선언 후 브로드캐스팅"
      ],
      "id": "489cba3e-fb4f-49f1-ba92-b602502787df"
    },
    {
      "cell_type": "code",
      "execution_count": 2,
      "metadata": {},
      "outputs": [
        {
          "output_type": "display_data",
          "metadata": {},
          "data": {
            "text/plain": [
              "tensor([2, 3, 4])"
            ]
          }
        }
      ],
      "source": [
        "tsr = torch.tensor([1,2,3])\n",
        "tsr + 1"
      ],
      "id": "cell-12"
    },
    {
      "cell_type": "code",
      "execution_count": 3,
      "metadata": {},
      "outputs": [
        {
          "output_type": "display_data",
          "metadata": {},
          "data": {
            "text/plain": [
              "array([2, 3, 4])"
            ]
          }
        }
      ],
      "source": [
        "arr = np.array([1,2,3])\n",
        "arr + 1 "
      ],
      "id": "cell-13"
    },
    {
      "cell_type": "markdown",
      "metadata": {},
      "source": [
        "`-` 형태변환"
      ],
      "id": "037f0524-75cd-4dbb-b3d1-36fe1cf404c8"
    },
    {
      "cell_type": "code",
      "execution_count": 4,
      "metadata": {},
      "outputs": [
        {
          "output_type": "stream",
          "name": "stdout",
          "text": [
            "텐서값 = tensor([1, 2, 3])\n",
            "shape = torch.Size([3])"
          ]
        }
      ],
      "source": [
        "tsr = torch.tensor([1,2,3])\n",
        "print(\n",
        "    f\"텐서값 = {tsr}\\n\"\n",
        "    f\"shape = {tsr.shape}\"\n",
        ")"
      ],
      "id": "cell-15"
    },
    {
      "cell_type": "code",
      "execution_count": 5,
      "metadata": {},
      "outputs": [
        {
          "output_type": "stream",
          "name": "stdout",
          "text": [
            "텐서값 = tensor([[1],\n",
            "        [2],\n",
            "        [3]])\n",
            "shape = torch.Size([3, 1])"
          ]
        }
      ],
      "source": [
        "tsr2 = tsr.reshape(3,1)\n",
        "print(\n",
        "    f\"텐서값 = {tsr2}\\n\"\n",
        "    f\"shape = {tsr2.shape}\"\n",
        ")"
      ],
      "id": "cell-16"
    },
    {
      "cell_type": "code",
      "execution_count": 6,
      "metadata": {},
      "outputs": [
        {
          "output_type": "stream",
          "name": "stdout",
          "text": [
            "텐서값 = tensor([[1, 2, 3]])\n",
            "shape = torch.Size([1, 3])"
          ]
        }
      ],
      "source": [
        "tsr3 = tsr.reshape(1,3)\n",
        "print(\n",
        "    f\"텐서값 = {tsr3}\\n\"\n",
        "    f\"shape = {tsr3.shape}\"\n",
        ")"
      ],
      "id": "cell-17"
    },
    {
      "cell_type": "markdown",
      "metadata": {},
      "source": [
        "`-` 기타함수들도 비슷하게 운용됨"
      ],
      "id": "5e60a9a8-4bea-45b9-8dfc-d2c82717c2b8"
    },
    {
      "cell_type": "code",
      "execution_count": 7,
      "metadata": {},
      "outputs": [],
      "source": [
        "tsr1 = torch.tensor([1,2,3])\n",
        "tsr2 = torch.tensor([4,5,6])"
      ],
      "id": "cell-19"
    },
    {
      "cell_type": "code",
      "execution_count": 8,
      "metadata": {},
      "outputs": [
        {
          "output_type": "display_data",
          "metadata": {},
          "data": {
            "text/plain": [
              "tensor([[1, 4],\n",
              "        [2, 5],\n",
              "        [3, 6]])"
            ]
          }
        }
      ],
      "source": [
        "torch.stack([tsr1,tsr2],axis=1)"
      ],
      "id": "cell-20"
    },
    {
      "cell_type": "code",
      "execution_count": 9,
      "metadata": {},
      "outputs": [
        {
          "output_type": "display_data",
          "metadata": {},
          "data": {
            "text/plain": [
              "tensor([[1, 2, 3],\n",
              "        [4, 5, 6]])"
            ]
          }
        }
      ],
      "source": [
        "torch.stack([tsr1,tsr2],axis=0)"
      ],
      "id": "cell-21"
    },
    {
      "cell_type": "markdown",
      "metadata": {},
      "source": [
        "## B. 차이점1 – 기본자료형\n",
        "\n",
        "`-` `1/3`와 같은 숫자를 저장할때 넘파이의 경우 기본 data type은\n",
        "float64임."
      ],
      "id": "ade22ce9-c570-47c2-b968-ef711288d71a"
    },
    {
      "cell_type": "code",
      "execution_count": 10,
      "metadata": {},
      "outputs": [
        {
          "output_type": "display_data",
          "metadata": {},
          "data": {
            "text/plain": [
              "(array(0.33333333), dtype('float64'))"
            ]
          }
        }
      ],
      "source": [
        "a = np.array(1/3)\n",
        "a, a.dtype"
      ],
      "id": "cell-24"
    },
    {
      "cell_type": "code",
      "execution_count": 11,
      "metadata": {},
      "outputs": [
        {
          "output_type": "stream",
          "name": "stdout",
          "text": [
            "값: 0.3333333333333333\n",
            "dtype: float64"
          ]
        }
      ],
      "source": [
        "print(\n",
        "    f\"값: {a}\\n\"\n",
        "    f\"dtype: {a.dtype}\"\n",
        ")"
      ],
      "id": "cell-25"
    },
    {
      "cell_type": "markdown",
      "metadata": {},
      "source": [
        "`-` 그런데 텐서는 기본 data type이 float32임. (그래서 정확하게 저장되지\n",
        "않음)"
      ],
      "id": "d54b2bbb-fb8d-47a1-a185-9bf6144bfef9"
    },
    {
      "cell_type": "code",
      "execution_count": 12,
      "metadata": {},
      "outputs": [
        {
          "output_type": "display_data",
          "metadata": {},
          "data": {
            "text/plain": [
              "(tensor(0.3333), torch.float32)"
            ]
          }
        }
      ],
      "source": [
        "a = torch.tensor(1/3)\n",
        "a, a.dtype"
      ],
      "id": "cell-27"
    },
    {
      "cell_type": "code",
      "execution_count": 13,
      "metadata": {},
      "outputs": [
        {
          "output_type": "stream",
          "name": "stdout",
          "text": [
            "값: 0.3333333432674408\n",
            "dtype: torch.float32"
          ]
        }
      ],
      "source": [
        "print(\n",
        "    f\"값: {a}\\n\"\n",
        "    f\"dtype: {a.dtype}\"\n",
        ")"
      ],
      "id": "cell-28"
    },
    {
      "cell_type": "markdown",
      "metadata": {},
      "source": [
        "`-` 억지로 저장할 수는 있음 (그런데 이럴 경우 `dtype` 꼬리표가 붙음)"
      ],
      "id": "4b7776d2-a3ec-4711-bf1b-1214256adeb4"
    },
    {
      "cell_type": "code",
      "execution_count": 14,
      "metadata": {},
      "outputs": [
        {
          "output_type": "display_data",
          "metadata": {},
          "data": {
            "text/plain": [
              "tensor(0.3333, dtype=torch.float64)"
            ]
          }
        }
      ],
      "source": [
        "a = torch.tensor(1/3,dtype=torch.float64) # 텐서인데 억지로 float64형태로 저장\n",
        "a"
      ],
      "id": "cell-30"
    },
    {
      "cell_type": "code",
      "execution_count": 15,
      "metadata": {},
      "outputs": [
        {
          "output_type": "display_data",
          "metadata": {},
          "data": {
            "text/plain": [
              "array(0.33333334, dtype=float32)"
            ]
          }
        }
      ],
      "source": [
        "a = np.array(1/3,dtype=np.float32) # numpy인데 억지로 float32형태로 저장\n",
        "a"
      ],
      "id": "cell-31"
    },
    {
      "cell_type": "markdown",
      "metadata": {},
      "source": [
        "`-` 자료형 변환시 이러한 기분나쁜 꼬리표가 붙을 수 있음\n",
        "\n",
        "`# 예시1`"
      ],
      "id": "c748d7b2-93e9-4108-986a-6ae06beb059b"
    },
    {
      "cell_type": "code",
      "execution_count": 16,
      "metadata": {},
      "outputs": [
        {
          "output_type": "display_data",
          "metadata": {},
          "data": {
            "text/plain": [
              "array(0.33333333)"
            ]
          }
        }
      ],
      "source": [
        "a = np.array(1/3)\n",
        "a"
      ],
      "id": "cell-34"
    },
    {
      "cell_type": "code",
      "execution_count": 17,
      "metadata": {},
      "outputs": [
        {
          "output_type": "display_data",
          "metadata": {},
          "data": {
            "text/plain": [
              "tensor(0.3333, dtype=torch.float64)"
            ]
          }
        }
      ],
      "source": [
        "torch.tensor(a)"
      ],
      "id": "cell-35"
    },
    {
      "cell_type": "markdown",
      "metadata": {},
      "source": [
        "`#`\n",
        "\n",
        "`# 예시2`"
      ],
      "id": "8672bc53-3186-4ef8-adc9-0956aa1d69fb"
    },
    {
      "cell_type": "code",
      "execution_count": 18,
      "metadata": {},
      "outputs": [
        {
          "output_type": "display_data",
          "metadata": {},
          "data": {
            "text/plain": [
              "tensor(0.3333)"
            ]
          }
        }
      ],
      "source": [
        "a = torch.tensor(1/3)\n",
        "a"
      ],
      "id": "cell-38"
    },
    {
      "cell_type": "code",
      "execution_count": 19,
      "metadata": {},
      "outputs": [
        {
          "output_type": "display_data",
          "metadata": {},
          "data": {
            "text/plain": [
              "array(0.33333334, dtype=float32)"
            ]
          }
        }
      ],
      "source": [
        "np.array(a)"
      ],
      "id": "cell-39"
    },
    {
      "cell_type": "markdown",
      "metadata": {},
      "source": [
        "`#`\n",
        "\n",
        "`-` torch의 경우 float64로 저장되면 모델이 안돌아갈 수 있으니 (메모리를\n",
        "많이 차지해서) 반드시 dtype을 float32로 바꾸는 습관을 가지면 좋음"
      ],
      "id": "394f256c-5cae-46a6-92cb-50bd6ed4a0c0"
    },
    {
      "cell_type": "code",
      "execution_count": 20,
      "metadata": {},
      "outputs": [
        {
          "output_type": "display_data",
          "metadata": {},
          "data": {
            "text/plain": [
              "tensor(0.3333, dtype=torch.float64)"
            ]
          }
        }
      ],
      "source": [
        "a = np.array(1/3)\n",
        "tsr = torch.tensor(a)\n",
        "tsr"
      ],
      "id": "cell-42"
    },
    {
      "cell_type": "code",
      "execution_count": 21,
      "metadata": {},
      "outputs": [
        {
          "output_type": "display_data",
          "metadata": {},
          "data": {
            "text/plain": [
              "tensor(0.3333)"
            ]
          }
        }
      ],
      "source": [
        "tsr.float() # 바꾸는 방법1"
      ],
      "id": "cell-43"
    },
    {
      "cell_type": "code",
      "execution_count": 22,
      "metadata": {},
      "outputs": [
        {
          "output_type": "display_data",
          "metadata": {},
          "data": {
            "text/plain": [
              "tensor(0.3333)"
            ]
          }
        }
      ],
      "source": [
        "tsr.to(torch.float32) # 바꾸는 방법2"
      ],
      "id": "cell-44"
    },
    {
      "cell_type": "markdown",
      "metadata": {},
      "source": [
        "`-` numpy는 할줄알죠?"
      ],
      "id": "8df8ad21-352d-4b16-b43e-42b8a0437050"
    },
    {
      "cell_type": "code",
      "execution_count": 23,
      "metadata": {},
      "outputs": [
        {
          "output_type": "display_data",
          "metadata": {},
          "data": {
            "text/plain": [
              "array(0.33333334, dtype=float32)"
            ]
          }
        }
      ],
      "source": [
        "arr = np.array(1/3,dtype=np.float32)\n",
        "arr"
      ],
      "id": "cell-46"
    },
    {
      "cell_type": "code",
      "execution_count": 24,
      "metadata": {},
      "outputs": [
        {
          "output_type": "display_data",
          "metadata": {},
          "data": {
            "text/plain": [
              "array(0.33333334)"
            ]
          }
        }
      ],
      "source": [
        "arr.astype(np.float64)"
      ],
      "id": "cell-47"
    },
    {
      "cell_type": "markdown",
      "metadata": {},
      "source": [
        "`-` torch에서 data type을 바꿔주는 메소드는 상당히 유용합니다.\n",
        "(중요하거든요)"
      ],
      "id": "74834d34-f4aa-4c4c-acc9-bc1b6f5a5328"
    },
    {
      "cell_type": "code",
      "execution_count": 25,
      "metadata": {},
      "outputs": [
        {
          "output_type": "display_data",
          "metadata": {},
          "data": {
            "text/plain": [
              "(tensor([1, 0, 1]), tensor([1., 0., 1.]))"
            ]
          }
        }
      ],
      "source": [
        "a = torch.tensor([1,0,1])\n",
        "a, a.float()"
      ],
      "id": "cell-49"
    },
    {
      "cell_type": "code",
      "execution_count": 26,
      "metadata": {},
      "outputs": [
        {
          "output_type": "display_data",
          "metadata": {},
          "data": {
            "text/plain": [
              "(tensor([1, 0, 1]), tensor([ True, False,  True]))"
            ]
          }
        }
      ],
      "source": [
        "a = torch.tensor([1,0,1])\n",
        "a, a.bool()"
      ],
      "id": "cell-50"
    },
    {
      "cell_type": "code",
      "execution_count": 27,
      "metadata": {},
      "outputs": [
        {
          "output_type": "display_data",
          "metadata": {},
          "data": {
            "text/plain": [
              "(tensor([1., 0., 1.]), tensor([1, 0, 1]))"
            ]
          }
        }
      ],
      "source": [
        "a = torch.tensor([1.0, 0, 1])\n",
        "a, a.long()"
      ],
      "id": "cell-51"
    },
    {
      "cell_type": "markdown",
      "metadata": {},
      "source": [
        "`-` torch에서 data type 이 중요한이유?\n",
        "\n",
        "-   의미상 맞는 코드인데, `dtype`이 안맞으면 실행이 안될 수 있다.\n",
        "\n",
        "## C. 차이점2 – 메소드차이\n",
        "\n",
        "`-` `torch` 와 `numpy`의 메소드(=자료에 내장된 특수함수)들이 완전히\n",
        "같지는 않음."
      ],
      "id": "437954ec-7774-43f9-8377-eebd7e3a9379"
    },
    {
      "cell_type": "code",
      "execution_count": 28,
      "metadata": {},
      "outputs": [
        {
          "output_type": "display_data",
          "metadata": {},
          "data": {
            "text/plain": [
              "tensor([1, 2, 3])"
            ]
          }
        }
      ],
      "source": [
        "tsr = torch.tensor([1,2,3])\n",
        "tsr"
      ],
      "id": "cell-55"
    },
    {
      "cell_type": "code",
      "execution_count": 29,
      "metadata": {},
      "outputs": [
        {
          "output_type": "display_data",
          "metadata": {},
          "data": {
            "text/plain": [
              "array([1, 2, 3])"
            ]
          }
        }
      ],
      "source": [
        "tsr.numpy() # np.array로 바꿔주는 메소드"
      ],
      "id": "cell-56"
    },
    {
      "cell_type": "code",
      "execution_count": 30,
      "metadata": {},
      "outputs": [
        {
          "output_type": "display_data",
          "metadata": {},
          "data": {
            "text/plain": [
              "tensor([1., 2., 3.])"
            ]
          }
        }
      ],
      "source": [
        "tsr.float() # 자료형을 바꿔주는 메소드"
      ],
      "id": "cell-57"
    },
    {
      "cell_type": "markdown",
      "metadata": {},
      "source": [
        "`-` 차원변환 관련 메소드\n",
        "\n",
        "## D. 차이점3 – 미분연산지원 ($\\star$)\n",
        "\n",
        "`# 예제1` – 파이썬을 기본문법을 이용한 미분"
      ],
      "id": "b6c76e00-75e9-4646-bdbc-be8dd7b6558f"
    },
    {
      "cell_type": "code",
      "execution_count": 31,
      "metadata": {},
      "outputs": [],
      "source": [
        "def f(x):\n",
        "    return x**2 "
      ],
      "id": "cell-61"
    },
    {
      "cell_type": "code",
      "execution_count": 32,
      "metadata": {},
      "outputs": [
        {
          "output_type": "display_data",
          "metadata": {},
          "data": {
            "text/plain": [
              "4.000999999999699"
            ]
          }
        }
      ],
      "source": [
        "h=0.001\n",
        "a=2\n",
        "(f(a+h)-f(a))/h"
      ],
      "id": "cell-62"
    },
    {
      "cell_type": "markdown",
      "metadata": {},
      "source": [
        "`#`\n",
        "\n",
        "`# 예제2` – `torch`를 이용한 미분"
      ],
      "id": "1474097d-5370-4981-9b46-4b29dd3b445a"
    },
    {
      "cell_type": "code",
      "execution_count": 33,
      "metadata": {},
      "outputs": [
        {
          "output_type": "display_data",
          "metadata": {},
          "data": {
            "text/plain": [
              "tensor(4.)"
            ]
          }
        }
      ],
      "source": [
        "def f(x):\n",
        "    return x**2 \n",
        "a = torch.tensor(2.0, requires_grad=True)\n",
        "b = f(a)\n",
        "b.backward()\n",
        "a.grad"
      ],
      "id": "cell-65"
    },
    {
      "cell_type": "markdown",
      "metadata": {},
      "source": [
        "`#`\n",
        "\n",
        "`# 예제3`"
      ],
      "id": "2beaa50b-afba-4bac-889a-8db7e6c097ad"
    },
    {
      "cell_type": "code",
      "execution_count": 34,
      "metadata": {},
      "outputs": [
        {
          "output_type": "display_data",
          "metadata": {},
          "data": {
            "text/plain": [
              "tensor(3., requires_grad=True)"
            ]
          }
        }
      ],
      "source": [
        "a = torch.tensor(3.0, requires_grad=True)\n",
        "a # 토치텐서.. 그런데 이제 미분꼬리표를 곁들인.. "
      ],
      "id": "cell-68"
    },
    {
      "cell_type": "code",
      "execution_count": 35,
      "metadata": {},
      "outputs": [
        {
          "output_type": "stream",
          "name": "stdout",
          "text": [
            "None"
          ]
        }
      ],
      "source": [
        "print(a.grad) # a에서의 미분값"
      ],
      "id": "cell-69"
    },
    {
      "cell_type": "code",
      "execution_count": 36,
      "metadata": {},
      "outputs": [
        {
          "output_type": "display_data",
          "metadata": {},
          "data": {
            "text/plain": [
              "tensor(9., grad_fn=<PowBackward0>)"
            ]
          }
        }
      ],
      "source": [
        "b = f(a) # 여기에서도 뭔가 붙어있음.. \n",
        "b"
      ],
      "id": "cell-70"
    },
    {
      "cell_type": "code",
      "execution_count": 37,
      "metadata": {},
      "outputs": [],
      "source": [
        "c = 2*b"
      ],
      "id": "cell-71"
    },
    {
      "cell_type": "code",
      "execution_count": 38,
      "metadata": {},
      "outputs": [],
      "source": [
        "c.backward() # c=2b=2f(a) 를 미분하세요.. 뭐로?? 미분꼬리표의 근원인 a로! "
      ],
      "id": "cell-72"
    },
    {
      "cell_type": "code",
      "execution_count": 39,
      "metadata": {},
      "outputs": [
        {
          "output_type": "display_data",
          "metadata": {},
          "data": {
            "text/plain": [
              "tensor(12.)"
            ]
          }
        }
      ],
      "source": [
        "a.grad # 2'f(a) "
      ],
      "id": "cell-73"
    },
    {
      "cell_type": "markdown",
      "metadata": {},
      "source": [
        "`#`\n",
        "\n",
        "`# 예제4`"
      ],
      "id": "5a9ecb1f-e422-4ca6-9585-86da80b57005"
    },
    {
      "cell_type": "code",
      "execution_count": 40,
      "metadata": {},
      "outputs": [
        {
          "output_type": "display_data",
          "metadata": {},
          "data": {
            "text/plain": [
              "tensor(3., requires_grad=True)"
            ]
          }
        }
      ],
      "source": [
        "a = torch.tensor(3.0, requires_grad=True)\n",
        "a # 토치텐서.. 그런데 이제 미분꼬리표를 곁들인.. "
      ],
      "id": "cell-76"
    },
    {
      "cell_type": "code",
      "execution_count": 41,
      "metadata": {},
      "outputs": [
        {
          "output_type": "stream",
          "name": "stdout",
          "text": [
            "None"
          ]
        }
      ],
      "source": [
        "print(a.grad) # a에서의 미분값"
      ],
      "id": "cell-77"
    },
    {
      "cell_type": "code",
      "execution_count": 42,
      "metadata": {},
      "outputs": [
        {
          "output_type": "display_data",
          "metadata": {},
          "data": {
            "text/plain": [
              "tensor(9., grad_fn=<PowBackward0>)"
            ]
          }
        }
      ],
      "source": [
        "b = f(a) # 여기에서도 뭔가 붙어있음.. \n",
        "b"
      ],
      "id": "cell-78"
    },
    {
      "cell_type": "code",
      "execution_count": 43,
      "metadata": {},
      "outputs": [],
      "source": [
        "c = 2*b"
      ],
      "id": "cell-79"
    },
    {
      "cell_type": "code",
      "execution_count": 44,
      "metadata": {},
      "outputs": [],
      "source": [
        "b.backward() # b=f(a) 를 미분하세요.. 뭐로?? 미분꼬리표의 근원인 a로! "
      ],
      "id": "cell-80"
    },
    {
      "cell_type": "code",
      "execution_count": 45,
      "metadata": {},
      "outputs": [
        {
          "output_type": "display_data",
          "metadata": {},
          "data": {
            "text/plain": [
              "tensor(6.)"
            ]
          }
        }
      ],
      "source": [
        "a.grad # f'(a) "
      ],
      "id": "cell-81"
    },
    {
      "cell_type": "markdown",
      "metadata": {},
      "source": [
        "`#`\n",
        "\n",
        "`# 예제5`"
      ],
      "id": "5d968a84-99eb-4af9-b93c-9e6e4cd44036"
    },
    {
      "cell_type": "code",
      "execution_count": 55,
      "metadata": {},
      "outputs": [
        {
          "output_type": "display_data",
          "metadata": {},
          "data": {
            "text/plain": [
              "tensor(3., requires_grad=True)"
            ]
          }
        }
      ],
      "source": [
        "a = torch.tensor(3.0, requires_grad=True)\n",
        "a # 토치텐서.. 미분꼬리표가 있음"
      ],
      "id": "cell-84"
    },
    {
      "cell_type": "code",
      "execution_count": 56,
      "metadata": {},
      "outputs": [
        {
          "output_type": "display_data",
          "metadata": {},
          "data": {
            "text/plain": [
              "tensor(9., grad_fn=<PowBackward0>)"
            ]
          }
        }
      ],
      "source": [
        "b = f(a) \n",
        "b # 추적됨.."
      ],
      "id": "cell-85"
    },
    {
      "cell_type": "code",
      "execution_count": 57,
      "metadata": {},
      "outputs": [
        {
          "output_type": "display_data",
          "metadata": {},
          "data": {
            "text/plain": [
              "tensor(18., grad_fn=<MulBackward0>)"
            ]
          }
        }
      ],
      "source": [
        "c = 2*b \n",
        "c # 여기까지 추적됨.."
      ],
      "id": "cell-86"
    },
    {
      "cell_type": "code",
      "execution_count": 58,
      "metadata": {},
      "outputs": [
        {
          "output_type": "display_data",
          "metadata": {},
          "data": {
            "text/plain": [
              "tensor(18.)"
            ]
          }
        }
      ],
      "source": [
        "c = c.detach()\n",
        "c # 꼬리표제거! "
      ],
      "id": "cell-87"
    },
    {
      "cell_type": "code",
      "execution_count": 59,
      "metadata": {},
      "outputs": [],
      "source": [
        "c.backward() # c=2b=2f(a) 를 미분하세요.. 뭐로?? .. 모르는데??"
      ],
      "id": "cell-88"
    },
    {
      "cell_type": "code",
      "execution_count": 60,
      "metadata": {},
      "outputs": [],
      "source": [
        "b.backward() # 이건가능함.."
      ],
      "id": "cell-89"
    },
    {
      "cell_type": "code",
      "execution_count": 61,
      "metadata": {},
      "outputs": [
        {
          "output_type": "display_data",
          "metadata": {},
          "data": {
            "text/plain": [
              "tensor(6.)"
            ]
          }
        }
      ],
      "source": [
        "a.grad # f'(a) 를 a로 미분한 값이 여기에 있음"
      ],
      "id": "cell-90"
    },
    {
      "cell_type": "markdown",
      "metadata": {},
      "source": [
        "`#`\n",
        "\n",
        "## E. 차이점4 – `cuda` 차이 ($\\star$)\n",
        "\n",
        "`-` `torch`는 `cuda`을 지원해서 좋다.. (그런데 쓰는 입장에선 불편하다)"
      ],
      "id": "b73c1d17-92fc-4e0f-b8b2-18cfda27b9d3"
    },
    {
      "cell_type": "code",
      "execution_count": 62,
      "metadata": {},
      "outputs": [
        {
          "output_type": "display_data",
          "metadata": {},
          "data": {
            "text/plain": [
              "(tensor([1., 2., 3.]), tensor([2., 3., 4.]))"
            ]
          }
        }
      ],
      "source": [
        "a = torch.tensor([1.0, 2.0, 3.0])\n",
        "b = torch.tensor([2.0, 3.0, 4.0])\n",
        "a,b"
      ],
      "id": "cell-94"
    },
    {
      "cell_type": "code",
      "execution_count": 63,
      "metadata": {},
      "outputs": [
        {
          "output_type": "display_data",
          "metadata": {},
          "data": {
            "text/plain": [
              "(tensor([1., 2., 3.], device='cuda:0'), tensor([2., 3., 4.], device='cuda:0'))"
            ]
          }
        }
      ],
      "source": [
        "a_cuda = a.to(\"cuda\")\n",
        "b_cuda = b.to(\"cuda\") # 각각의 값을 쿠다로 전달\n",
        "a_cuda,b_cuda"
      ],
      "id": "cell-95"
    },
    {
      "cell_type": "code",
      "execution_count": 64,
      "metadata": {},
      "outputs": [
        {
          "output_type": "display_data",
          "metadata": {},
          "data": {
            "text/plain": [
              "(tensor([1., 2., 3.]),\n",
              " tensor([2., 3., 4.]),\n",
              " tensor([1., 2., 3.], device='cuda:0'),\n",
              " tensor([2., 3., 4.], device='cuda:0'))"
            ]
          }
        }
      ],
      "source": [
        "a,b,a_cuda,b_cuda"
      ],
      "id": "cell-96"
    },
    {
      "cell_type": "code",
      "execution_count": 65,
      "metadata": {},
      "outputs": [
        {
          "output_type": "display_data",
          "metadata": {},
          "data": {
            "text/plain": [
              "(tensor([1., 2., 3.]), tensor([2., 3., 4.]))"
            ]
          }
        }
      ],
      "source": [
        "a_cuda.to(\"cpu\"), b_cuda.to(\"cpu\") # 쿠다의 값은 to(\"cpu\") 로 다시 쿠다에서 내릴 수 있음 "
      ],
      "id": "cell-97"
    },
    {
      "cell_type": "markdown",
      "metadata": {},
      "source": [
        "`-` 구분을 위해서 아래와 같이 정의하자."
      ],
      "id": "5f679733-7ea5-4750-ad01-3f946af432e0"
    },
    {
      "cell_type": "code",
      "execution_count": 66,
      "metadata": {},
      "outputs": [],
      "source": [
        "a_cpu = torch.tensor([1.0, 2.0, 3.0])\n",
        "b_cpu = torch.tensor([2.0, 3.0, 4.0])\n",
        "a_cuda = torch.tensor([1.0, 2.0, 3.0]).to(\"cuda\")\n",
        "b_cuda = torch.tensor([2.0, 3.0, 4.0]).to(\"cuda\")\n"
      ],
      "id": "cell-99"
    },
    {
      "cell_type": "code",
      "execution_count": 67,
      "metadata": {},
      "outputs": [
        {
          "output_type": "display_data",
          "metadata": {},
          "data": {
            "text/plain": [
              "(tensor([1., 2., 3.]),\n",
              " tensor([2., 3., 4.]),\n",
              " tensor([1., 2., 3.], device='cuda:0'),\n",
              " tensor([2., 3., 4.], device='cuda:0'))"
            ]
          }
        }
      ],
      "source": [
        "a_cpu,b_cpu,a_cuda,b_cuda"
      ],
      "id": "cell-100"
    },
    {
      "cell_type": "markdown",
      "metadata": {},
      "source": [
        "`-` cuda는 cuda끼리, cpu는 cpu끼리 연산가능"
      ],
      "id": "35fd81c5-564c-49ff-88b6-acbc9929f2a8"
    },
    {
      "cell_type": "code",
      "execution_count": 68,
      "metadata": {},
      "outputs": [
        {
          "output_type": "display_data",
          "metadata": {},
          "data": {
            "text/plain": [
              "tensor([3., 5., 7.])"
            ]
          }
        }
      ],
      "source": [
        "a_cpu + b_cpu"
      ],
      "id": "cell-102"
    },
    {
      "cell_type": "markdown",
      "metadata": {},
      "source": [
        "-   cpu끼리 연산하면 결과도 cpu에…"
      ],
      "id": "b1748ee4-b729-4d33-940c-55859eb8a448"
    },
    {
      "cell_type": "code",
      "execution_count": 69,
      "metadata": {},
      "outputs": [],
      "source": [
        "a_cpu + b_cuda"
      ],
      "id": "cell-104"
    },
    {
      "cell_type": "code",
      "execution_count": 70,
      "metadata": {},
      "outputs": [],
      "source": [
        "a_cuda + b_cpu"
      ],
      "id": "cell-105"
    },
    {
      "cell_type": "code",
      "execution_count": 71,
      "metadata": {},
      "outputs": [
        {
          "output_type": "display_data",
          "metadata": {},
          "data": {
            "text/plain": [
              "tensor([3., 5., 7.], device='cuda:0')"
            ]
          }
        }
      ],
      "source": [
        "a_cuda + b_cuda"
      ],
      "id": "cell-106"
    },
    {
      "cell_type": "markdown",
      "metadata": {},
      "source": [
        "-   cuda끼리 연산하면 결과도 cuda에..\n",
        "\n",
        "# 3. 자료형,차원\n",
        "\n",
        "`# 예제1` – 자료형이 안맞으면 **맞는 코드 같은데** 에러가 나는 경우가\n",
        "많다."
      ],
      "id": "b0033a9b-036b-4caa-98ad-154f59b6e4f3"
    },
    {
      "cell_type": "code",
      "execution_count": 72,
      "metadata": {},
      "outputs": [
        {
          "output_type": "display_data",
          "metadata": {},
          "data": {
            "text/plain": [
              "tensor(4.)"
            ]
          }
        }
      ],
      "source": [
        "# 올바른코드\n",
        "def f(x):\n",
        "    return x**2 \n",
        "a = torch.tensor(2.0, requires_grad=True)\n",
        "b = f(a)\n",
        "b.backward()\n",
        "a.grad\n"
      ],
      "id": "cell-110"
    },
    {
      "cell_type": "code",
      "execution_count": 73,
      "metadata": {},
      "outputs": [],
      "source": [
        "# 틀린코드\n",
        "def f(x):\n",
        "    return x**2 \n",
        "a = torch.tensor(2, requires_grad=True)\n",
        "b = f(a)\n",
        "b.backward()\n",
        "a.grad"
      ],
      "id": "cell-111"
    },
    {
      "cell_type": "code",
      "execution_count": 74,
      "metadata": {},
      "outputs": [],
      "source": [
        "a = torch.tensor(2, requires_grad=True) # 이게 실행안되어서.."
      ],
      "id": "cell-112"
    },
    {
      "cell_type": "code",
      "execution_count": 75,
      "metadata": {},
      "outputs": [],
      "source": [
        "a = torch.tensor(2.0, requires_grad=True) # 이렇게 해야함.. -- 미분꼬리표를 사용하려면 float 이어야함"
      ],
      "id": "cell-113"
    },
    {
      "cell_type": "markdown",
      "metadata": {},
      "source": [
        "> 코드잘짜는 사람은 이런 형식을 잘 맞춥니다.. 물론 제 생각일 뿐이에요..\n",
        "\n",
        "`#`\n",
        "\n",
        "`# 예제2` – IMDB자료에서의 모델을 다시 살펴보자.."
      ],
      "id": "e813ba5a-9382-43ab-8b41-76cf67fedcdf"
    },
    {
      "cell_type": "code",
      "execution_count": 76,
      "metadata": {},
      "outputs": [
        {
          "output_type": "stream",
          "name": "stderr",
          "text": [
            "Some weights of DistilBertForSequenceClassification were not initialized from the model checkpoint at distilbert/distilbert-base-uncased and are newly initialized: ['classifier.bias', 'classifier.weight', 'pre_classifier.bias', 'pre_classifier.weight']\n",
            "You should probably TRAIN this model on a down-stream task to be able to use it for predictions and inference."
          ]
        }
      ],
      "source": [
        "imdb = datasets.load_dataset(\"imdb\")\n",
        "model_path = \"distilbert/distilbert-base-uncased\"\n",
        "tokenizer = transformers.AutoTokenizer.from_pretrained(model_path)\n",
        "model = transformers.AutoModelForSequenceClassification.from_pretrained(\n",
        "    \"distilbert/distilbert-base-uncased\", num_labels=2\n",
        ")"
      ],
      "id": "cell-117"
    },
    {
      "cell_type": "code",
      "execution_count": 77,
      "metadata": {},
      "outputs": [
        {
          "output_type": "display_data",
          "metadata": {},
          "data": {
            "text/plain": [
              "{'text': 'This movie is terrible but it has some good effects.', 'label': 0}"
            ]
          }
        }
      ],
      "source": [
        "#np.array([len(l) for l in imdb['train']['text']]).argmin()\n",
        "sigle_observation = imdb['train'][10925]\n",
        "sigle_observation"
      ],
      "id": "cell-118"
    },
    {
      "cell_type": "markdown",
      "metadata": {},
      "source": [
        "`-` 전처리"
      ],
      "id": "5b9a87a7-ce5c-41ec-8e88-9a8e1cc15a87"
    },
    {
      "cell_type": "code",
      "execution_count": 78,
      "metadata": {},
      "outputs": [
        {
          "output_type": "stream",
          "name": "stdout",
          "text": [
            "Dictionary Overview:\n",
            "Total keys: 2\n",
            "Keys: ['input_ids', 'attention_mask']\n",
            "\n",
            "1. Key: 'input_ids'\n",
            "   - Type: list\n",
            "   - Length: 13\n",
            "   - Values: [101, 2023, 3185, 2003, 6659, 2021, 2009, 2038, 2070, 2204, 3896, 1012, 102]\n",
            "\n",
            "2. Key: 'attention_mask'\n",
            "   - Type: list\n",
            "   - Length: 13\n",
            "   - Values: [1, 1, 1, 1, 1, 1, 1, 1, 1, 1, 1, 1, 1]\n"
          ]
        }
      ],
      "source": [
        "mp2024pkg.show_dict(\n",
        "    tokenizer(sigle_observation['text'])\n",
        ")"
      ],
      "id": "cell-120"
    },
    {
      "cell_type": "markdown",
      "metadata": {},
      "source": [
        "`-` 모델인풋1 – 차원이 맞지 않음.. (모델은 배치형태 입력을 기대해요)"
      ],
      "id": "f0019d71-c26b-4d29-b120-bda481cc65df"
    },
    {
      "cell_type": "code",
      "execution_count": 79,
      "metadata": {},
      "outputs": [],
      "source": [
        "model_input = {\n",
        "    'input_ids': torch.tensor([101, 2023, 3185, 2003, 6659, 2021, 2009, 2038, 2070, 2204, 3896, 1012, 102]), \n",
        "    'attention_mask': torch.tensor([1, 1, 1, 1, 1, 1, 1, 1, 1, 1, 1, 1, 1]),\n",
        "    'labels': torch.tensor(0) \n",
        "}\n",
        "model(**model_input)"
      ],
      "id": "cell-122"
    },
    {
      "cell_type": "markdown",
      "metadata": {},
      "source": [
        "`-` 모델인풋2 – 이걸 기대함"
      ],
      "id": "f1790b77-7748-4541-8e99-f5fe73d8031b"
    },
    {
      "cell_type": "code",
      "execution_count": 80,
      "metadata": {},
      "outputs": [
        {
          "output_type": "display_data",
          "metadata": {},
          "data": {
            "text/plain": [
              "SequenceClassifierOutput(loss=tensor(0.6666, grad_fn=<NllLossBackward0>), logits=tensor([[-0.0287, -0.0824]], grad_fn=<AddmmBackward0>), hidden_states=None, attentions=None)"
            ]
          }
        }
      ],
      "source": [
        "model_input = {\n",
        "    'input_ids': torch.tensor([[101, 2023, 3185, 2003, 6659, 2021, 2009, 2038, 2070, 2204, 3896, 1012, 102]]),\n",
        "    #'input_ids': torch.stack([torch.tensor([101, 2023, 3185, 2003, 6659, 2021, 2009, 2038, 2070, 2204, 3896, 1012, 102])]),\n",
        "    'attention_mask': torch.tensor([[1, 1, 1, 1, 1, 1, 1, 1, 1, 1, 1, 1, 1]]),\n",
        "    #'attention_mask': torch.stack([torch.tensor([1, 1, 1, 1, 1, 1, 1, 1, 1, 1, 1, 1, 1])]),\n",
        "    'labels': torch.tensor([0]) \n",
        "}\n",
        "model(**model_input)"
      ],
      "id": "cell-124"
    },
    {
      "cell_type": "markdown",
      "metadata": {},
      "source": [
        "`-` 모델인풋3 – 틀린듯한데 그냥 해주는듯"
      ],
      "id": "158504ff-f058-4f75-bbe8-3dba376c0795"
    },
    {
      "cell_type": "code",
      "execution_count": 81,
      "metadata": {},
      "outputs": [
        {
          "output_type": "display_data",
          "metadata": {},
          "data": {
            "text/plain": [
              "SequenceClassifierOutput(loss=tensor(0.6666, grad_fn=<NllLossBackward0>), logits=tensor([[-0.0287, -0.0824]], grad_fn=<AddmmBackward0>), hidden_states=None, attentions=None)"
            ]
          }
        }
      ],
      "source": [
        "model_input = {\n",
        "    'input_ids': torch.tensor([[101, 2023, 3185, 2003, 6659, 2021, 2009, 2038, 2070, 2204, 3896, 1012, 102]]),\n",
        "    'attention_mask': torch.tensor([[1, 1, 1, 1, 1, 1, 1, 1, 1, 1, 1, 1, 1]]),\n",
        "    'labels': torch.tensor(0) \n",
        "}\n",
        "model(**model_input)"
      ],
      "id": "cell-126"
    },
    {
      "cell_type": "markdown",
      "metadata": {},
      "source": [
        "`-` 모델인풋4 – 라벨은 int형이어야 한다는 강제가 있었음"
      ],
      "id": "3da9c1eb-62bf-419c-819b-83f5cb369cb6"
    },
    {
      "cell_type": "code",
      "execution_count": 82,
      "metadata": {},
      "outputs": [],
      "source": [
        "model_input = {\n",
        "    'input_ids': torch.tensor([[101, 2023, 3185, 2003, 6659, 2021, 2009, 2038, 2070, 2204, 3896, 1012, 102]]),\n",
        "    'attention_mask': torch.tensor([[1, 1, 1, 1, 1, 1, 1, 1, 1, 1, 1, 1, 1]]),\n",
        "    'labels': torch.tensor([0.0])\n",
        "}\n",
        "model(**model_input)"
      ],
      "id": "cell-128"
    },
    {
      "cell_type": "markdown",
      "metadata": {},
      "source": [
        "`-` 모델인풋5 – `input_ids`도 마찬가지로 제약이 있음"
      ],
      "id": "62361d95-1cb6-40d2-9cd7-0796093c1bad"
    },
    {
      "cell_type": "code",
      "execution_count": 83,
      "metadata": {},
      "outputs": [],
      "source": [
        "model_input = {\n",
        "    'input_ids': torch.tensor([[101.0, 2023, 3185, 2003, 6659, 2021, 2009, 2038, 2070, 2204, 3896, 1012, 102]]),\n",
        "    'attention_mask': torch.tensor([[1, 1, 1, 1, 1, 1, 1, 1, 1, 1, 1, 1, 1]]),\n",
        "    'labels': torch.tensor([0])\n",
        "}\n",
        "model(**model_input)"
      ],
      "id": "cell-130"
    },
    {
      "cell_type": "markdown",
      "metadata": {},
      "source": [
        "-   `attention_mask`는 제약없음. 추측하건데 이건 내부적으로 bool로\n",
        "    바꾸는 로직이 있는듯함\n",
        "\n",
        "`#`\n",
        "\n",
        "# 4. `cuda` 관리\n",
        "\n",
        "`# 예제1`"
      ],
      "id": "688e8959-7236-4a69-9946-27e5621bb4a4"
    },
    {
      "cell_type": "code",
      "execution_count": 84,
      "metadata": {},
      "outputs": [
        {
          "output_type": "stream",
          "name": "stderr",
          "text": [
            "Some weights of DistilBertForSequenceClassification were not initialized from the model checkpoint at distilbert/distilbert-base-uncased and are newly initialized: ['classifier.bias', 'classifier.weight', 'pre_classifier.bias', 'pre_classifier.weight']\n",
            "You should probably TRAIN this model on a down-stream task to be able to use it for predictions and inference."
          ]
        }
      ],
      "source": [
        "imdb = datasets.load_dataset(\"imdb\")\n",
        "model_path = \"distilbert/distilbert-base-uncased\"\n",
        "tokenizer = transformers.AutoTokenizer.from_pretrained(model_path)\n",
        "model = transformers.AutoModelForSequenceClassification.from_pretrained(\n",
        "    \"distilbert/distilbert-base-uncased\", num_labels=2\n",
        ")\n",
        "model_input = {\n",
        "    'input_ids': torch.tensor([[101, 2023, 3185, 2003, 6659, 2021, 2009, 2038, 2070, 2204, 3896, 1012, 102]]),\n",
        "    'attention_mask': torch.tensor([[1, 1, 1, 1, 1, 1, 1, 1, 1, 1, 1, 1, 1]]),\n",
        "    'labels': torch.tensor([0]) \n",
        "}"
      ],
      "id": "cell-135"
    },
    {
      "cell_type": "code",
      "execution_count": 85,
      "metadata": {},
      "outputs": [
        {
          "output_type": "display_data",
          "metadata": {},
          "data": {
            "text/plain": [
              "SequenceClassifierOutput(loss=tensor(0.7304, grad_fn=<NllLossBackward0>), logits=tensor([[-0.0381,  0.0351]], grad_fn=<AddmmBackward0>), hidden_states=None, attentions=None)"
            ]
          }
        }
      ],
      "source": [
        "model(**model_input) # 이게 계산되는 이유는 모델에 포함된 숫자들과 model_input에 포함된 숫자들이 둘다 cpu에 있어서.."
      ],
      "id": "cell-136"
    },
    {
      "cell_type": "code",
      "execution_count": 86,
      "metadata": {},
      "outputs": [
        {
          "output_type": "display_data",
          "metadata": {},
          "data": {
            "text/plain": [
              "Parameter containing:\n",
              "tensor([[-0.0166, -0.0666, -0.0163,  ..., -0.0200, -0.0514, -0.0264],\n",
              "        [-0.0132, -0.0673, -0.0161,  ..., -0.0227, -0.0554, -0.0260],\n",
              "        [-0.0176, -0.0709, -0.0144,  ..., -0.0246, -0.0596, -0.0232],\n",
              "        ...,\n",
              "        [-0.0231, -0.0588, -0.0105,  ..., -0.0195, -0.0262, -0.0212],\n",
              "        [-0.0490, -0.0561, -0.0047,  ..., -0.0107, -0.0180, -0.0219],\n",
              "        [-0.0065, -0.0915, -0.0025,  ..., -0.0151, -0.0504,  0.0460]],\n",
              "       requires_grad=True)"
            ]
          }
        }
      ],
      "source": [
        "next(model.parameters()) # 이 숫자들에 미분꼬리표가 있음.."
      ],
      "id": "cell-137"
    },
    {
      "cell_type": "code",
      "execution_count": 87,
      "metadata": {},
      "outputs": [
        {
          "output_type": "display_data",
          "metadata": {},
          "data": {
            "text/plain": [
              "Parameter containing:\n",
              "tensor([[-0.0166, -0.0666, -0.0163,  ..., -0.0200, -0.0514, -0.0264],\n",
              "        [-0.0132, -0.0673, -0.0161,  ..., -0.0227, -0.0554, -0.0260],\n",
              "        [-0.0176, -0.0709, -0.0144,  ..., -0.0246, -0.0596, -0.0232],\n",
              "        ...,\n",
              "        [-0.0231, -0.0588, -0.0105,  ..., -0.0195, -0.0262, -0.0212],\n",
              "        [-0.0490, -0.0561, -0.0047,  ..., -0.0107, -0.0180, -0.0219],\n",
              "        [-0.0065, -0.0915, -0.0025,  ..., -0.0151, -0.0504,  0.0460]],\n",
              "       device='cuda:0', requires_grad=True)"
            ]
          }
        }
      ],
      "source": [
        "model.to(\"cuda\")\n",
        "next(model.parameters()) # 이 숫자들이 쿠다로 갔음.."
      ],
      "id": "cell-138"
    },
    {
      "cell_type": "markdown",
      "metadata": {},
      "source": [
        "-   주의: `data.to(\"cuda\")`는 `data`자체를 변화시키지 않지만\n",
        "    `model.to(\"cuda\")` 는 `model` 자체를 변화시킴"
      ],
      "id": "b477263c-2bcd-4fbf-ab79-7df5b6b50c37"
    },
    {
      "cell_type": "code",
      "execution_count": 88,
      "metadata": {},
      "outputs": [],
      "source": [
        "model(**model_input) # 이제 계산할 수 없음 "
      ],
      "id": "cell-140"
    },
    {
      "cell_type": "code",
      "execution_count": 89,
      "metadata": {},
      "outputs": [
        {
          "output_type": "display_data",
          "metadata": {},
          "data": {
            "text/plain": [
              "Parameter containing:\n",
              "tensor([[-0.0166, -0.0666, -0.0163,  ..., -0.0200, -0.0514, -0.0264],\n",
              "        [-0.0132, -0.0673, -0.0161,  ..., -0.0227, -0.0554, -0.0260],\n",
              "        [-0.0176, -0.0709, -0.0144,  ..., -0.0246, -0.0596, -0.0232],\n",
              "        ...,\n",
              "        [-0.0231, -0.0588, -0.0105,  ..., -0.0195, -0.0262, -0.0212],\n",
              "        [-0.0490, -0.0561, -0.0047,  ..., -0.0107, -0.0180, -0.0219],\n",
              "        [-0.0065, -0.0915, -0.0025,  ..., -0.0151, -0.0504,  0.0460]],\n",
              "       requires_grad=True)"
            ]
          }
        }
      ],
      "source": [
        "model.to(\"cpu\") # 모델의 파라메터를 다시 cpu로 내려줌\n",
        "next(model.parameters())"
      ],
      "id": "cell-141"
    },
    {
      "cell_type": "code",
      "execution_count": 90,
      "metadata": {},
      "outputs": [
        {
          "output_type": "display_data",
          "metadata": {},
          "data": {
            "text/plain": [
              "SequenceClassifierOutput(loss=tensor(0.7304, grad_fn=<NllLossBackward0>), logits=tensor([[-0.0381,  0.0351]], grad_fn=<AddmmBackward0>), hidden_states=None, attentions=None)"
            ]
          }
        }
      ],
      "source": [
        "model(**model_input) # 이제 다시 계산가능함"
      ],
      "id": "cell-142"
    },
    {
      "cell_type": "markdown",
      "metadata": {},
      "source": [
        "`-` 정리해보자.."
      ],
      "id": "28954e94-3589-431b-ba14-acbf56dd3272"
    },
    {
      "cell_type": "code",
      "execution_count": 91,
      "metadata": {},
      "outputs": [
        {
          "output_type": "stream",
          "name": "stderr",
          "text": [
            "Some weights of DistilBertForSequenceClassification were not initialized from the model checkpoint at distilbert/distilbert-base-uncased and are newly initialized: ['classifier.bias', 'classifier.weight', 'pre_classifier.bias', 'pre_classifier.weight']\n",
            "You should probably TRAIN this model on a down-stream task to be able to use it for predictions and inference."
          ]
        },
        {
          "output_type": "display_data",
          "metadata": {},
          "data": {
            "text/plain": [
              "SequenceClassifierOutput(loss=tensor(0.6807, grad_fn=<NllLossBackward0>), logits=tensor([[0.1461, 0.1211]], grad_fn=<AddmmBackward0>), hidden_states=None, attentions=None)"
            ]
          }
        }
      ],
      "source": [
        "model = transformers.AutoModelForSequenceClassification.from_pretrained(\n",
        "    \"distilbert/distilbert-base-uncased\", num_labels=2\n",
        ")\n",
        "model_input = {\n",
        "    'input_ids': torch.tensor([[101, 2023, 3185, 2003, 6659, 2021, 2009, 2038, 2070, 2204, 3896, 1012, 102]]),\n",
        "    'attention_mask': torch.tensor([[1, 1, 1, 1, 1, 1, 1, 1, 1, 1, 1, 1, 1]]),\n",
        "    'labels': torch.tensor([0])\n",
        "}\n",
        "model(**model_input) # 모델_cpu(데이터_cpu)"
      ],
      "id": "cell-144"
    },
    {
      "cell_type": "code",
      "execution_count": 92,
      "metadata": {},
      "outputs": [
        {
          "output_type": "stream",
          "name": "stderr",
          "text": [
            "Some weights of DistilBertForSequenceClassification were not initialized from the model checkpoint at distilbert/distilbert-base-uncased and are newly initialized: ['classifier.bias', 'classifier.weight', 'pre_classifier.bias', 'pre_classifier.weight']\n",
            "You should probably TRAIN this model on a down-stream task to be able to use it for predictions and inference."
          ]
        },
        {
          "output_type": "display_data",
          "metadata": {},
          "data": {
            "text/plain": [
              "SequenceClassifierOutput(loss=tensor(0.7588, device='cuda:0', grad_fn=<NllLossBackward0>), logits=tensor([[-0.0113,  0.1159]], device='cuda:0', grad_fn=<AddmmBackward0>), hidden_states=None, attentions=None)"
            ]
          }
        }
      ],
      "source": [
        "model = transformers.AutoModelForSequenceClassification.from_pretrained(\n",
        "    \"distilbert/distilbert-base-uncased\", num_labels=2\n",
        ").to(\"cuda\")\n",
        "model_input = {\n",
        "    'input_ids': torch.tensor([[101, 2023, 3185, 2003, 6659, 2021, 2009, 2038, 2070, 2204, 3896, 1012, 102]]).to(\"cuda\"),\n",
        "    'attention_mask': torch.tensor([[1, 1, 1, 1, 1, 1, 1, 1, 1, 1, 1, 1, 1]]).to(\"cuda\"),\n",
        "    'labels': torch.tensor([0]).to(\"cuda\") \n",
        "}\n",
        "model(**model_input) # 모델_cuda(데이터_cuda)"
      ],
      "id": "cell-145"
    },
    {
      "cell_type": "code",
      "execution_count": 93,
      "metadata": {},
      "outputs": [
        {
          "output_type": "stream",
          "name": "stderr",
          "text": [
            "Some weights of DistilBertForSequenceClassification were not initialized from the model checkpoint at distilbert/distilbert-base-uncased and are newly initialized: ['classifier.bias', 'classifier.weight', 'pre_classifier.bias', 'pre_classifier.weight']\n",
            "You should probably TRAIN this model on a down-stream task to be able to use it for predictions and inference."
          ]
        }
      ],
      "source": [
        "model = transformers.AutoModelForSequenceClassification.from_pretrained(\n",
        "    \"distilbert/distilbert-base-uncased\", num_labels=2\n",
        ")\n",
        "model_input = {\n",
        "    'input_ids': torch.tensor([[101, 2023, 3185, 2003, 6659, 2021, 2009, 2038, 2070, 2204, 3896, 1012, 102]]).to(\"cuda\"),\n",
        "    'attention_mask': torch.tensor([[1, 1, 1, 1, 1, 1, 1, 1, 1, 1, 1, 1, 1]]).to(\"cuda\"),\n",
        "    'labels': torch.tensor([0]).to(\"cuda\") \n",
        "}\n",
        "model(**model_input) # 모델_cpu(데이터_cuda)"
      ],
      "id": "cell-146"
    },
    {
      "cell_type": "code",
      "execution_count": 94,
      "metadata": {},
      "outputs": [
        {
          "output_type": "stream",
          "name": "stderr",
          "text": [
            "Some weights of DistilBertForSequenceClassification were not initialized from the model checkpoint at distilbert/distilbert-base-uncased and are newly initialized: ['classifier.bias', 'classifier.weight', 'pre_classifier.bias', 'pre_classifier.weight']\n",
            "You should probably TRAIN this model on a down-stream task to be able to use it for predictions and inference."
          ]
        }
      ],
      "source": [
        "model = transformers.AutoModelForSequenceClassification.from_pretrained(\n",
        "    \"distilbert/distilbert-base-uncased\", num_labels=2\n",
        ").to(\"cuda\")\n",
        "model_input = {\n",
        "    'input_ids': torch.tensor([[101, 2023, 3185, 2003, 6659, 2021, 2009, 2038, 2070, 2204, 3896, 1012, 102]]),\n",
        "    'attention_mask': torch.tensor([[1, 1, 1, 1, 1, 1, 1, 1, 1, 1, 1, 1, 1]]),\n",
        "    'labels': torch.tensor([0])\n",
        "}\n",
        "model(**model_input) # 모델_cuda(데이터_cpu)"
      ],
      "id": "cell-147"
    },
    {
      "cell_type": "markdown",
      "metadata": {},
      "source": [
        "`#`\n",
        "\n",
        "# 5. `grad` 관리\n",
        "\n",
        "`# 예제1` – 미분꼬리표 제거하고 싶음.."
      ],
      "id": "c7afb524-8500-47a6-bf62-e325677826d8"
    },
    {
      "cell_type": "code",
      "execution_count": 95,
      "metadata": {},
      "outputs": [
        {
          "output_type": "display_data",
          "metadata": {},
          "data": {
            "text/plain": [
              "tensor([3., 3., 3., 3., 3., 3., 3., 3., 3., 3.], grad_fn=<MulBackward0>)"
            ]
          }
        }
      ],
      "source": [
        "a = torch.tensor(3.0,requires_grad=True)\n",
        "b = torch.tensor([1.0]*10)\n",
        "a*b"
      ],
      "id": "cell-151"
    },
    {
      "cell_type": "code",
      "execution_count": 96,
      "metadata": {},
      "outputs": [
        {
          "output_type": "display_data",
          "metadata": {},
          "data": {
            "image/png": "[encoded data removed]"
          }
        }
      ],
      "source": [
        "plt.plot(b,'--o')"
      ],
      "id": "cell-152"
    },
    {
      "cell_type": "code",
      "execution_count": 97,
      "metadata": {},
      "outputs": [
        {
          "output_type": "display_data",
          "metadata": {},
          "data": {
            "image/png": "[encoded data removed]"
          }
        }
      ],
      "source": [
        "plt.plot(a*b,'--o') # 에러남"
      ],
      "id": "cell-153"
    },
    {
      "cell_type": "code",
      "execution_count": 98,
      "metadata": {},
      "outputs": [
        {
          "output_type": "display_data",
          "metadata": {},
          "data": {
            "image/png": "[encoded data removed]"
          }
        }
      ],
      "source": [
        "plt.plot(a.detach()*b,'--o') "
      ],
      "id": "cell-154"
    },
    {
      "cell_type": "markdown",
      "metadata": {},
      "source": [
        "`#`\n",
        "\n",
        "`# 예제2` – 미분꼬리표를 제거하는 또다른 기능\n",
        "\n",
        "`-` 예제1을 아래처럼 실수로 풀었다."
      ],
      "id": "ed0bcdf4-adb7-4bf1-b9cf-e81af1021d95"
    },
    {
      "cell_type": "code",
      "execution_count": 99,
      "metadata": {},
      "outputs": [],
      "source": [
        "a = torch.tensor(3.0,requires_grad=True)\n",
        "b = torch.tensor([1.0]*10)"
      ],
      "id": "cell-158"
    },
    {
      "cell_type": "code",
      "execution_count": 100,
      "metadata": {},
      "outputs": [
        {
          "output_type": "display_data",
          "metadata": {},
          "data": {
            "image/png": "[encoded data removed]"
          }
        }
      ],
      "source": [
        "plt.plot(a*b.detach(),'--o')"
      ],
      "id": "cell-159"
    },
    {
      "cell_type": "markdown",
      "metadata": {},
      "source": [
        "`-` 아래와 같이 했어야 했는데, 섬세함이 부족했다.."
      ],
      "id": "f5b6e807-4fe6-45a5-834e-c9d1d5dc01ff"
    },
    {
      "cell_type": "code",
      "execution_count": 114,
      "metadata": {},
      "outputs": [
        {
          "output_type": "display_data",
          "metadata": {},
          "data": {
            "image/png": "[encoded data removed]"
          }
        }
      ],
      "source": [
        "plt.plot((a*b).detach(),'--o')"
      ],
      "id": "cell-161"
    },
    {
      "cell_type": "markdown",
      "metadata": {},
      "source": [
        "-   앞으로 섬세하게 코딩하자??\n",
        "\n",
        "`-` 앞으로 섬세하기 싫다면?? $\\to$ `torch.set_grad_enabled()` 이용"
      ],
      "id": "3f63848b-b10e-4674-a255-21681d109a5b"
    },
    {
      "cell_type": "code",
      "execution_count": 102,
      "metadata": {},
      "outputs": [
        {
          "output_type": "display_data",
          "metadata": {},
          "data": {
            "text/plain": [
              "True"
            ]
          }
        }
      ],
      "source": [
        "torch.is_grad_enabled() # 미분꼬리표 정상적으로 부착되는 계산.."
      ],
      "id": "cell-164"
    },
    {
      "cell_type": "code",
      "execution_count": 103,
      "metadata": {},
      "outputs": [
        {
          "output_type": "display_data",
          "metadata": {},
          "data": {
            "text/plain": [
              "<torch.autograd.grad_mode.set_grad_enabled at 0x7da93d507110>"
            ]
          }
        }
      ],
      "source": [
        "torch.set_grad_enabled(False)"
      ],
      "id": "cell-165"
    },
    {
      "cell_type": "code",
      "execution_count": 105,
      "metadata": {},
      "outputs": [
        {
          "output_type": "display_data",
          "metadata": {},
          "data": {
            "text/plain": [
              "False"
            ]
          }
        }
      ],
      "source": [
        "torch.is_grad_enabled() # 꼬리표 계산안하는 모드.."
      ],
      "id": "cell-166"
    },
    {
      "cell_type": "code",
      "execution_count": 106,
      "metadata": {},
      "outputs": [
        {
          "output_type": "display_data",
          "metadata": {},
          "data": {
            "text/plain": [
              "(tensor(3., requires_grad=True),\n",
              " tensor([1., 1., 1., 1., 1., 1., 1., 1., 1., 1.]))"
            ]
          }
        }
      ],
      "source": [
        "a,b"
      ],
      "id": "cell-167"
    },
    {
      "cell_type": "code",
      "execution_count": 108,
      "metadata": {},
      "outputs": [
        {
          "output_type": "display_data",
          "metadata": {},
          "data": {
            "text/plain": [
              "tensor([3., 3., 3., 3., 3., 3., 3., 3., 3., 3.])"
            ]
          }
        }
      ],
      "source": [
        "a*b # 꼬리표가 계산안됨!!"
      ],
      "id": "cell-168"
    },
    {
      "cell_type": "code",
      "execution_count": 112,
      "metadata": {},
      "outputs": [
        {
          "output_type": "display_data",
          "metadata": {},
          "data": {
            "image/png": "[encoded data removed]"
          }
        }
      ],
      "source": [
        "plt.plot(a*b,'--o')"
      ],
      "id": "cell-169"
    },
    {
      "cell_type": "code",
      "execution_count": 113,
      "metadata": {},
      "outputs": [
        {
          "output_type": "display_data",
          "metadata": {},
          "data": {
            "text/plain": [
              "<torch.autograd.grad_mode.set_grad_enabled at 0x7da953542780>"
            ]
          }
        }
      ],
      "source": [
        "torch.set_grad_enabled(True)"
      ],
      "id": "cell-170"
    },
    {
      "cell_type": "code",
      "execution_count": 116,
      "metadata": {},
      "outputs": [
        {
          "output_type": "display_data",
          "metadata": {},
          "data": {
            "text/plain": [
              "True"
            ]
          }
        }
      ],
      "source": [
        "torch.is_grad_enabled() # 다시 원상복귀"
      ],
      "id": "cell-171"
    },
    {
      "cell_type": "code",
      "execution_count": 118,
      "metadata": {},
      "outputs": [
        {
          "output_type": "display_data",
          "metadata": {},
          "data": {
            "image/png": "[encoded data removed]"
          }
        }
      ],
      "source": [
        "plt.plot(a*b,'--o') # 잘 안된다.."
      ],
      "id": "cell-172"
    },
    {
      "cell_type": "markdown",
      "metadata": {},
      "source": [
        "`#`\n",
        "\n",
        "`# 예제3`"
      ],
      "id": "68b5a593-e102-4510-9bf0-9b3c13904c91"
    },
    {
      "cell_type": "code",
      "execution_count": 119,
      "metadata": {},
      "outputs": [
        {
          "output_type": "stream",
          "name": "stderr",
          "text": [
            "Some weights of DistilBertForSequenceClassification were not initialized from the model checkpoint at distilbert/distilbert-base-uncased and are newly initialized: ['classifier.bias', 'classifier.weight', 'pre_classifier.bias', 'pre_classifier.weight']\n",
            "You should probably TRAIN this model on a down-stream task to be able to use it for predictions and inference."
          ]
        },
        {
          "output_type": "display_data",
          "metadata": {},
          "data": {
            "text/plain": [
              "SequenceClassifierOutput(loss=tensor(0.6561, device='cuda:0', grad_fn=<NllLossBackward0>), logits=tensor([[ 0.0653, -0.0102]], device='cuda:0', grad_fn=<AddmmBackward0>), hidden_states=None, attentions=None)"
            ]
          }
        }
      ],
      "source": [
        "model = transformers.AutoModelForSequenceClassification.from_pretrained(\n",
        "    \"distilbert/distilbert-base-uncased\", num_labels=2\n",
        ").to(\"cuda\")\n",
        "model_input = {\n",
        "    'input_ids': torch.tensor([[101, 2023, 3185, 2003, 6659, 2021, 2009, 2038, 2070, 2204, 3896, 1012, 102]]).to(\"cuda\"),\n",
        "    'attention_mask': torch.tensor([[1, 1, 1, 1, 1, 1, 1, 1, 1, 1, 1, 1, 1]]).to(\"cuda\"),\n",
        "    'labels': torch.tensor([0]).to(\"cuda\") \n",
        "}\n",
        "model(**model_input) # 모델_cuda(데이터_cuda)"
      ],
      "id": "cell-175"
    },
    {
      "cell_type": "code",
      "execution_count": 120,
      "metadata": {},
      "outputs": [
        {
          "output_type": "stream",
          "name": "stdout",
          "text": [
            "Level 1 - Type: list, Length: 104, Content: [Parameter containing:\n",
            "te ... :0', requires_grad=True)]\n",
            "     Level 2 - Type: Parameter, Length: 30522, Content: Parameter containing:\n",
            "ten ... a:0', requires_grad=True)\n",
            "     Level 2 - Type: Parameter, Length: 512, Content: Parameter containing:\n",
            "ten ... a:0', requires_grad=True)\n",
            "     ...\n",
            "     Level 2 - Type: Parameter, Length: 768, Content: Parameter containing:\n",
            "ten ... a:0', requires_grad=True)\n",
            "     Level 2 - Type: Parameter, Length: 768, Content: Parameter containing:\n",
            "ten ...       requires_grad=True)\n",
            "     Level 2 - Type: Parameter, Length: 768, Content: Parameter containing:\n",
            "ten ... a:0', requires_grad=True)\n",
            "     Level 2 - Type: Parameter, Length: 2, Content: Parameter containing:\n",
            "ten ... a:0', requires_grad=True)\n",
            "     Level 2 - Type: Parameter, Length: 2, Content: Parameter containing:\n",
            "ten ... a:0', requires_grad=True)"
          ]
        }
      ],
      "source": [
        "mp2024pkg.show_list(\n",
        "    list(model.parameters())\n",
        " ) # detach()를 쓰려면 104개를 다 제거해야겠는뎅.. "
      ],
      "id": "cell-176"
    },
    {
      "cell_type": "code",
      "execution_count": 126,
      "metadata": {},
      "outputs": [
        {
          "output_type": "display_data",
          "metadata": {},
          "data": {
            "text/plain": [
              "<torch.autograd.grad_mode.set_grad_enabled at 0x7da93e13e960>"
            ]
          }
        }
      ],
      "source": [
        "torch.set_grad_enabled(False)"
      ],
      "id": "cell-177"
    },
    {
      "cell_type": "code",
      "execution_count": 127,
      "metadata": {},
      "outputs": [
        {
          "output_type": "display_data",
          "metadata": {},
          "data": {
            "text/plain": [
              "SequenceClassifierOutput(loss=tensor(0.6561, device='cuda:0'), logits=tensor([[ 0.0653, -0.0102]], device='cuda:0'), hidden_states=None, attentions=None)"
            ]
          }
        }
      ],
      "source": [
        "model(**model_input) # 꼬리표제거.. "
      ],
      "id": "cell-178"
    },
    {
      "cell_type": "code",
      "execution_count": 128,
      "metadata": {},
      "outputs": [
        {
          "output_type": "display_data",
          "metadata": {},
          "data": {
            "text/plain": [
              "<torch.autograd.grad_mode.set_grad_enabled at 0x7da90af56780>"
            ]
          }
        }
      ],
      "source": [
        "torch.set_grad_enabled(True) # 다시 원상복귀.."
      ],
      "id": "cell-179"
    },
    {
      "cell_type": "markdown",
      "metadata": {},
      "source": [
        "`#`"
      ],
      "id": "a05a8d36-da31-4c4f-9738-142333554e7c"
    }
  ],
  "nbformat": 4,
  "nbformat_minor": 5,
  "metadata": {
    "kernelspec": {
      "name": "python3",
      "display_name": "hf",
      "language": "python"
    },
    "language_info": {
      "name": "python",
      "codemirror_mode": {
        "name": "ipython",
        "version": "3"
      },
      "file_extension": ".py",
      "mimetype": "text/x-python",
      "nbconvert_exporter": "python",
      "pygments_lexer": "ipython3",
      "version": "3.12.4"
    }
  }
}