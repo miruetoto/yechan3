{
  "cells": [
    {
      "cell_type": "markdown",
      "metadata": {},
      "source": [
        "# (공부) hf – lesson2:\n",
        "\n",
        "최규빈  \n",
        "2024-07-09"
      ],
      "id": "c8afc132-8c4b-4b38-94fd-e25631848f46"
    },
    {
      "cell_type": "code",
      "execution_count": 22,
      "metadata": {},
      "outputs": [],
      "source": [
        "#!pip install torchtext \n",
        "#!pip install portalocker\n",
        "#!pip install accelerate -U\n",
        "#!pip install torchdata"
      ],
      "id": "76f0942c-63cc-42e0-a458-69e0fe399a83"
    },
    {
      "cell_type": "code",
      "execution_count": 23,
      "metadata": {},
      "outputs": [],
      "source": [
        "import torchtext.datasets"
      ],
      "id": "0756cc3e-c4d2-4b90-9819-9a851692dacd"
    },
    {
      "cell_type": "code",
      "execution_count": 24,
      "metadata": {
        "executionInfo": {
          "elapsed": 1855,
          "status": "ok",
          "timestamp": 1688388822109,
          "user": {
            "displayName": "Jason Book Yim",
            "userId": "02824935638305274154"
          },
          "user_tz": -540
        }
      },
      "outputs": [],
      "source": [
        "train_iter = torchtext.datasets.IMDB(split='train')\n",
        "test_iter = torchtext.datasets.IMDB(split='test')"
      ],
      "id": "f773ce88-0b08-4786-b2e8-f99bc418fbf3"
    },
    {
      "cell_type": "code",
      "execution_count": 25,
      "metadata": {
        "executionInfo": {
          "elapsed": 33665,
          "status": "ok",
          "timestamp": 1688388873914,
          "user": {
            "displayName": "Jason Book Yim",
            "userId": "02824935638305274154"
          },
          "user_tz": -540
        },
        "outputId": "96969743-e5a7-44a2-bfa5-df50bfac8ace"
      },
      "outputs": [
        {
          "output_type": "stream",
          "name": "stdout",
          "text": [
            "(2, \"I LOVED this movie! I am biased seeing as I am a huge Disney fan, but I really enjoyed myself. The action takes off running in the beginning of the film and just keeps going! This is a bit of a departure for Disney, they don't spend quite as much time on character development (my husband pointed this out)and there are no musical numbers. It is strictly action adventure. I thoroughly enjoyed it and recommend it to anyone who loves Disney, be they young or old.\")\n",
            "(1, 'This was an abysmal show. In short it was about this kid called Doug who guilt-tripped a lot. Seriously he could feel guilty over killing a fly then feeling guilty over feeling guilty for killing the fly and so forth. The animation was grating and unpleasant and the jokes cheap. <br /><br />It aired here in Sweden as a part of the \"Disney time\" show and i remember liking it some what but then i turned 13.<br /><br />I never got why some of the characters were green and purple too. What was up with that? <br /><br />Truly a horrible show. Appareantly it spawned a movie which i\\'ve never seen but i don\\'t have any great expectations for that one either.')"
          ]
        }
      ],
      "source": [
        "# 런타임 약 30초 소요\n",
        "# 출력 결과를 고정하기 위해 random.seed 도입\n",
        "import random\n",
        "random.seed(6)\n",
        "\n",
        "# train_iter를 리스트 타입으로 변경\n",
        "train_lists = list(train_iter)\n",
        "test_lists = list(test_iter)\n",
        "\n",
        "# 각기 1000개씩 랜덤 샘플링\n",
        "train_lists_small = random.sample(train_lists, 1000)\n",
        "test_lists_small = random.sample(test_lists, 1000)\n",
        "\n",
        "# 각 변수에 담긴 인덱스 0에 해당하는 원소, 즉 첫번째 원소 출력\n",
        "print(train_lists_small[0])\n",
        "print(test_lists_small[0])\n"
      ],
      "id": "f3e203a3-2a42-48f9-8ae7-630cea1eaf00"
    },
    {
      "cell_type": "code",
      "execution_count": 28,
      "metadata": {
        "executionInfo": {
          "elapsed": 3,
          "status": "ok",
          "timestamp": 1688389030990,
          "user": {
            "displayName": "Jason Book Yim",
            "userId": "02824935638305274154"
          },
          "user_tz": -540
        },
        "outputId": "bfcf7c19-60e0-4822-dc2d-7f43b6b86b7c"
      },
      "outputs": [
        {
          "output_type": "stream",
          "name": "stdout",
          "text": [
            "I LOVED this movie! I am biased seeing as I am a huge Disney fan, but I really enjoyed myself. The action takes off running in the beginning of the film and just keeps going! This is a bit of a departure for Disney, they don't spend quite as much time on character development (my husband pointed this out)and there are no musical numbers. It is strictly action adventure. I thoroughly enjoyed it and recommend it to anyone who loves Disney, be they young or old.\n",
            "1\n",
            "This was an abysmal show. In short it was about this kid called Doug who guilt-tripped a lot. Seriously he could feel guilty over killing a fly then feeling guilty over feeling guilty for killing the fly and so forth. The animation was grating and unpleasant and the jokes cheap. <br /><br />It aired here in Sweden as a part of the \"Disney time\" show and i remember liking it some what but then i turned 13.<br /><br />I never got why some of the characters were green and purple too. What was up with that? <br /><br />Truly a horrible show. Appareantly it spawned a movie which i've never seen but i don't have any great expectations for that one either.\n",
            "0"
          ]
        }
      ],
      "source": [
        "# train_texts와 train_labels라는 컨테이너 생성\n",
        "# 아래 반복분에서 생성된 결과를 담는 그릇으로서 역할 수행\n",
        "train_texts = []\n",
        "train_labels = []\n",
        "\n",
        "# for 반복문\n",
        "# train_lists_small에 담긴 튜플 쌍 원소를 변수명 label과 text를 부여하여 순서대로 추출\n",
        "for label, text in train_lists_small:\n",
        "  # IMDB 데이터의 기존 레이블 2를 1로 변경, 기존 레이블 1을 0으로 변경\n",
        "  train_labels.append(1 if label == 2 else 0)\n",
        "  train_texts.append(text)\n",
        "\n",
        "# text_texts와 test_labels라는 컨테이너 생성\n",
        "test_texts = []\n",
        "test_labels = []\n",
        "\n",
        "# for 반복문\n",
        "for label, text in test_lists_small:\n",
        "  # IMDB 데이터의 기존 레이블 2를 1로 변경, 기존 레이블 1을 0으로 변경\n",
        "  test_labels.append(1 if label == 2 else 0)\n",
        "  test_texts.append(text)\n",
        "\n",
        "# 각 변수에 담긴 인덱스 0에 해당하는 원소, 즉 첫번째 원소 출력\n",
        "print(train_texts[0])\n",
        "print(train_labels[0])\n",
        "print(test_texts[0])\n",
        "print(test_labels[0])\n"
      ],
      "id": "3b3d394e-cc59-4872-ae4f-b7c92ffa08d0"
    },
    {
      "cell_type": "code",
      "execution_count": 32,
      "metadata": {},
      "outputs": [],
      "source": [
        "#!pip install scikit-learn"
      ],
      "id": "0dacf442-bd0b-4f52-8bcc-e534e48f9412"
    },
    {
      "cell_type": "code",
      "execution_count": 33,
      "metadata": {
        "executionInfo": {
          "elapsed": 1314,
          "status": "ok",
          "timestamp": 1688389041084,
          "user": {
            "displayName": "Jason Book Yim",
            "userId": "02824935638305274154"
          },
          "user_tz": -540
        },
        "outputId": "d38b4ec5-5c39-4d1c-bebe-abf88e04bc4e"
      },
      "outputs": [
        {
          "output_type": "stream",
          "name": "stdout",
          "text": [
            "800\n",
            "800\n",
            "200\n",
            "200"
          ]
        }
      ],
      "source": [
        "# train_test_split 결과를 고정하기 위해 random_state 지정\n",
        "from sklearn.model_selection import train_test_split\n",
        "train_texts, val_texts, train_labels, val_labels = train_test_split(train_texts, train_labels, test_size=.2,\n",
        "                                                                    random_state=3)\n",
        "print(len(train_texts))\n",
        "print(len(train_labels))\n",
        "print(len(val_texts))\n",
        "print(len(val_labels))\n"
      ],
      "id": "f7e895b5-1f52-4291-83f4-974457d3058e"
    },
    {
      "cell_type": "code",
      "execution_count": 34,
      "metadata": {},
      "outputs": [
        {
          "output_type": "stream",
          "name": "stderr",
          "text": [
            "/home/cgb3/anaconda3/envs/hf/lib/python3.12/site-packages/huggingface_hub-0.23.4-py3.8.egg/huggingface_hub/file_download.py:1132: FutureWarning: `resume_download` is deprecated and will be removed in version 1.0.0. Downloads always resume when possible. If you want to force a new download, use `force_download=True`."
          ]
        }
      ],
      "source": [
        "tokenizer = transformers.DistilBertTokenizerFast.from_pretrained('distilbert-base-uncased')"
      ],
      "id": "bfd546fc-5ffa-4f00-8554-06157fc7281d"
    },
    {
      "cell_type": "code",
      "execution_count": 35,
      "metadata": {
        "executionInfo": {
          "elapsed": 5430,
          "status": "ok",
          "timestamp": 1688389068783,
          "user": {
            "displayName": "Jason Book Yim",
            "userId": "02824935638305274154"
          },
          "user_tz": -540
        },
        "outputId": "10a940ac-a63d-4def-dd48-19b252a9fb1b"
      },
      "outputs": [
        {
          "output_type": "stream",
          "name": "stdout",
          "text": [
            "[101, 4937, 11350, 2038, 2048]\n",
            "[CLS] cat soup has two"
          ]
        }
      ],
      "source": [
        "# 토크나이징을 통한 인코딩\n",
        "train_encodings = tokenizer(train_texts, truncation=True, padding=True)\n",
        "val_encodings = tokenizer(val_texts, truncation=True, padding=True)\n",
        "test_encodings = tokenizer(test_texts, truncation=True, padding=True)\n",
        "\n",
        "# # 0번째 입력문(텍스트)의 5번째 토큰까지의 input_ids 출력\n",
        "print(train_encodings[\"input_ids\"][0][:5])\n",
        "\n",
        "# 위의 결과를 디코딩하여 출력\n",
        "print(tokenizer.decode(train_encodings[\"input_ids\"][0][:5]))\n"
      ],
      "id": "52bb139a-3b37-4455-8ac3-506ada5ac408"
    },
    {
      "cell_type": "code",
      "execution_count": 56,
      "metadata": {
        "executionInfo": {
          "elapsed": 467,
          "status": "ok",
          "timestamp": 1688389082052,
          "user": {
            "displayName": "Jason Book Yim",
            "userId": "02824935638305274154"
          },
          "user_tz": -540
        }
      },
      "outputs": [],
      "source": [
        "# Dataset 클래스를 상속하는 IMDBDataset 클래스를 정의\n",
        "class IMDbDataset(torch.utils.data.Dataset):\n",
        "\n",
        "    # 생성자 __init__()\n",
        "    # 자신을 가르키는 매개변수 self 포함\n",
        "    # 변수를 저장하기 위해 self.변수명을 사용\n",
        "    def __init__(self, encodings, labels):\n",
        "        self.encodings = encodings\n",
        "        self.labels = labels\n",
        "\n",
        "    # 자신을 가르키는 매개변수 self 포함\n",
        "    def __getitem__(self, idx):\n",
        "        # self.encoding에 담긴 키(key)와 키값(value)을 items()로 추출\n",
        "        # 이 값을 key와 val 변수에 담아 새로운 키(key)와 키값(torch.tensor(val[idx]))를 갖는 딕셔너리 생성\n",
        "        # 딕셔너리는 {\"key1:value1\", \"key2:value2\", ,,,} 형태를 지닌 파이썬 데이터 구조\n",
        "        # val[idx]에 담긴 데이터를 torch.tensor()를 통해 파이토치 텐서로 변환\n",
        "        item = {key: torch.tensor(val[idx]) for key, val in self.encodings.items()}\n",
        "\n",
        "        # self.lables[idx]에 담긴 데이터를 torch.tensor()를 통해 파이토치 텐서 변환\n",
        "        item['labels'] = torch.tensor(self.labels[idx])\n",
        "        return item\n",
        "\n",
        "    # 자신을 가르키는 매개변수 self 포함\n",
        "    def __len__(self):\n",
        "        return len(self.labels)\n",
        "\n",
        "train_dataset = IMDbDataset(train_encodings, train_labels)\n",
        "val_dataset = IMDbDataset(val_encodings, val_labels)\n",
        "test_dataset = IMDbDataset(test_encodings, test_labels)\n"
      ],
      "id": "670beb6c-0855-44db-a9a9-1c7866d5d198"
    },
    {
      "cell_type": "code",
      "execution_count": 57,
      "metadata": {
        "executionInfo": {
          "elapsed": 651,
          "status": "ok",
          "timestamp": 1688389087047,
          "user": {
            "displayName": "Jason Book Yim",
            "userId": "02824935638305274154"
          },
          "user_tz": -540
        },
        "outputId": "93186b60-a6cb-4806-e16f-0f135e2722a2"
      },
      "outputs": [
        {
          "output_type": "stream",
          "name": "stdout",
          "text": [
            "{'input_ids': tensor([  101,  4937, 11350,  2038,  2048,  1000,  7592, 14433,  1000,  1011,\n",
            "         2828, 18401,  2015, 28866,  2075,  2006,  1037, 13576,  4440,  2083,\n",
            "         1996, 25115,  1010,  2073,  2505,  2064,  4148,  1010,  1998,  2515,\n",
            "         1012,  2023,  2568,  1011,  4440,  4691,  4004,  2460,  3594,  2053,\n",
            "        13764,  8649,  1010,  4942, 21532,  2773, 22163,  2612,  1012,  2045,\n",
            "         2003,  2053,  2126,  1997,  7851,  2023, 17183, 14088,  9476,  3272,\n",
            "         2000,  2425,  2017,  2000,  2156,  2009,  2005,  4426,  1012,  1998,\n",
            "         2191,  2469,  2053,  2028,  2104,  2184,  2003,  1999,  1996,  2282,\n",
            "         1012,  4487,  6491,  6633,  5677,  3672,  1998,  2064,  3490, 10264,\n",
            "         2964,  1998, 18186,  1998,  9576,  2854,  1998,  5573,  2331,  1998,\n",
            "         2655,  3560, 27770,  2005,  2500,  2024,  2691,  6991,  1012,  7481,\n",
            "         1012,  3383,  1996,  2087, 13432,  3746,  2003,  2008,  1997,  2019,\n",
            "        10777,  3605,  1997,  2300,  2008,  1996,  8934,  7368,  9880,  2083,\n",
            "         1998,  1999,  1010,  1998,  2036,  4536,  1012,  2021,  2066,  8134,\n",
            "         2673,  2842,  1999,  2023,  2143,  1010,  2008, 10021,  1010, 27263,\n",
            "        17933,  4226, 25347,  2574,  3310,  2000,  1037,  9202,  2203,  1012,\n",
            "          102,     0,     0,     0,     0,     0,     0,     0,     0,     0,\n",
            "            0,     0,     0,     0,     0,     0,     0,     0,     0,     0,\n",
            "            0,     0,     0,     0,     0,     0,     0,     0,     0,     0,\n",
            "            0,     0,     0,     0,     0,     0,     0,     0,     0,     0,\n",
            "            0,     0,     0,     0,     0,     0,     0,     0,     0,     0,\n",
            "            0,     0,     0,     0,     0,     0,     0,     0,     0,     0,\n",
            "            0,     0,     0,     0,     0,     0,     0,     0,     0,     0,\n",
            "            0,     0,     0,     0,     0,     0,     0,     0,     0,     0,\n",
            "            0,     0,     0,     0,     0,     0,     0,     0,     0,     0,\n",
            "            0,     0,     0,     0,     0,     0,     0,     0,     0,     0,\n",
            "            0,     0,     0,     0,     0,     0,     0,     0,     0,     0,\n",
            "            0,     0,     0,     0,     0,     0,     0,     0,     0,     0,\n",
            "            0,     0,     0,     0,     0,     0,     0,     0,     0,     0,\n",
            "            0,     0,     0,     0,     0,     0,     0,     0,     0,     0,\n",
            "            0,     0,     0,     0,     0,     0,     0,     0,     0,     0,\n",
            "            0,     0,     0,     0,     0,     0,     0,     0,     0,     0,\n",
            "            0,     0,     0,     0,     0,     0,     0,     0,     0,     0,\n",
            "            0,     0,     0,     0,     0,     0,     0,     0,     0,     0,\n",
            "            0,     0,     0,     0,     0,     0,     0,     0,     0,     0,\n",
            "            0,     0,     0,     0,     0,     0,     0,     0,     0,     0,\n",
            "            0,     0,     0,     0,     0,     0,     0,     0,     0,     0,\n",
            "            0,     0,     0,     0,     0,     0,     0,     0,     0,     0,\n",
            "            0,     0,     0,     0,     0,     0,     0,     0,     0,     0,\n",
            "            0,     0,     0,     0,     0,     0,     0,     0,     0,     0,\n",
            "            0,     0,     0,     0,     0,     0,     0,     0,     0,     0,\n",
            "            0,     0,     0,     0,     0,     0,     0,     0,     0,     0,\n",
            "            0,     0,     0,     0,     0,     0,     0,     0,     0,     0,\n",
            "            0,     0,     0,     0,     0,     0,     0,     0,     0,     0,\n",
            "            0,     0,     0,     0,     0,     0,     0,     0,     0,     0,\n",
            "            0,     0,     0,     0,     0,     0,     0,     0,     0,     0,\n",
            "            0,     0,     0,     0,     0,     0,     0,     0,     0,     0,\n",
            "            0,     0,     0,     0,     0,     0,     0,     0,     0,     0,\n",
            "            0,     0,     0,     0,     0,     0,     0,     0,     0,     0,\n",
            "            0,     0,     0,     0,     0,     0,     0,     0,     0,     0,\n",
            "            0,     0,     0,     0,     0,     0,     0,     0,     0,     0,\n",
            "            0,     0]), 'attention_mask': tensor([1, 1, 1, 1, 1, 1, 1, 1, 1, 1, 1, 1, 1, 1, 1, 1, 1, 1, 1, 1, 1, 1, 1, 1,\n",
            "        1, 1, 1, 1, 1, 1, 1, 1, 1, 1, 1, 1, 1, 1, 1, 1, 1, 1, 1, 1, 1, 1, 1, 1,\n",
            "        1, 1, 1, 1, 1, 1, 1, 1, 1, 1, 1, 1, 1, 1, 1, 1, 1, 1, 1, 1, 1, 1, 1, 1,\n",
            "        1, 1, 1, 1, 1, 1, 1, 1, 1, 1, 1, 1, 1, 1, 1, 1, 1, 1, 1, 1, 1, 1, 1, 1,\n",
            "        1, 1, 1, 1, 1, 1, 1, 1, 1, 1, 1, 1, 1, 1, 1, 1, 1, 1, 1, 1, 1, 1, 1, 1,\n",
            "        1, 1, 1, 1, 1, 1, 1, 1, 1, 1, 1, 1, 1, 1, 1, 1, 1, 1, 1, 1, 1, 1, 1, 1,\n",
            "        1, 1, 1, 1, 1, 1, 1, 1, 1, 1, 1, 1, 1, 1, 1, 1, 1, 0, 0, 0, 0, 0, 0, 0,\n",
            "        0, 0, 0, 0, 0, 0, 0, 0, 0, 0, 0, 0, 0, 0, 0, 0, 0, 0, 0, 0, 0, 0, 0, 0,\n",
            "        0, 0, 0, 0, 0, 0, 0, 0, 0, 0, 0, 0, 0, 0, 0, 0, 0, 0, 0, 0, 0, 0, 0, 0,\n",
            "        0, 0, 0, 0, 0, 0, 0, 0, 0, 0, 0, 0, 0, 0, 0, 0, 0, 0, 0, 0, 0, 0, 0, 0,\n",
            "        0, 0, 0, 0, 0, 0, 0, 0, 0, 0, 0, 0, 0, 0, 0, 0, 0, 0, 0, 0, 0, 0, 0, 0,\n",
            "        0, 0, 0, 0, 0, 0, 0, 0, 0, 0, 0, 0, 0, 0, 0, 0, 0, 0, 0, 0, 0, 0, 0, 0,\n",
            "        0, 0, 0, 0, 0, 0, 0, 0, 0, 0, 0, 0, 0, 0, 0, 0, 0, 0, 0, 0, 0, 0, 0, 0,\n",
            "        0, 0, 0, 0, 0, 0, 0, 0, 0, 0, 0, 0, 0, 0, 0, 0, 0, 0, 0, 0, 0, 0, 0, 0,\n",
            "        0, 0, 0, 0, 0, 0, 0, 0, 0, 0, 0, 0, 0, 0, 0, 0, 0, 0, 0, 0, 0, 0, 0, 0,\n",
            "        0, 0, 0, 0, 0, 0, 0, 0, 0, 0, 0, 0, 0, 0, 0, 0, 0, 0, 0, 0, 0, 0, 0, 0,\n",
            "        0, 0, 0, 0, 0, 0, 0, 0, 0, 0, 0, 0, 0, 0, 0, 0, 0, 0, 0, 0, 0, 0, 0, 0,\n",
            "        0, 0, 0, 0, 0, 0, 0, 0, 0, 0, 0, 0, 0, 0, 0, 0, 0, 0, 0, 0, 0, 0, 0, 0,\n",
            "        0, 0, 0, 0, 0, 0, 0, 0, 0, 0, 0, 0, 0, 0, 0, 0, 0, 0, 0, 0, 0, 0, 0, 0,\n",
            "        0, 0, 0, 0, 0, 0, 0, 0, 0, 0, 0, 0, 0, 0, 0, 0, 0, 0, 0, 0, 0, 0, 0, 0,\n",
            "        0, 0, 0, 0, 0, 0, 0, 0, 0, 0, 0, 0, 0, 0, 0, 0, 0, 0, 0, 0, 0, 0, 0, 0,\n",
            "        0, 0, 0, 0, 0, 0, 0, 0]), 'labels': tensor(1)}"
          ]
        }
      ],
      "source": [
        "for i in train_dataset:\n",
        "  print(i)\n",
        "  break\n"
      ],
      "id": "51cd249e-92b1-4bcb-8b8b-24955464b9cc"
    },
    {
      "cell_type": "code",
      "execution_count": 58,
      "metadata": {
        "executionInfo": {
          "elapsed": 3598,
          "status": "ok",
          "timestamp": 1688389115429,
          "user": {
            "displayName": "Jason Book Yim",
            "userId": "02824935638305274154"
          },
          "user_tz": -540
        },
        "outputId": "26f5345f-a781-49cd-8214-5128b11a1ca6"
      },
      "outputs": [
        {
          "output_type": "stream",
          "name": "stderr",
          "text": [
            "/home/cgb3/anaconda3/envs/hf/lib/python3.12/site-packages/huggingface_hub-0.23.4-py3.8.egg/huggingface_hub/file_download.py:1132: FutureWarning: `resume_download` is deprecated and will be removed in version 1.0.0. Downloads always resume when possible. If you want to force a new download, use `force_download=True`.\n",
            "Some weights of DistilBertForSequenceClassification were not initialized from the model checkpoint at distilbert-base-uncased and are newly initialized: ['classifier.bias', 'classifier.weight', 'pre_classifier.bias', 'pre_classifier.weight']\n",
            "You should probably TRAIN this model on a down-stream task to be able to use it for predictions and inference."
          ]
        }
      ],
      "source": [
        "# distilbert 모델 불러오기\n",
        "model = transformers.DistilBertForSequenceClassification.from_pretrained(\"distilbert-base-uncased\")\n",
        "model = model.to(\"cuda\")\n"
      ],
      "id": "82d26d08-c484-4929-87d5-e79be371a811"
    },
    {
      "cell_type": "code",
      "execution_count": 59,
      "metadata": {
        "executionInfo": {
          "elapsed": 2,
          "status": "ok",
          "timestamp": 1688389127210,
          "user": {
            "displayName": "Jason Book Yim",
            "userId": "02824935638305274154"
          },
          "user_tz": -540
        }
      },
      "outputs": [],
      "source": [
        "training_args = transformers.TrainingArguments(\n",
        "    output_dir='./results',          # 출력 디렉토리 경로\n",
        "    num_train_epochs=8,              # 학습 에포크 수\n",
        "    per_device_train_batch_size=16,  # 학습시 (디바이스 별) 미니 배치 수\n",
        "    per_device_eval_batch_size=64,   # 평가시 (디바이스 별) 미니 배치 수\n",
        "    warmup_steps=500,                # 학습률 스케줄링용 웜업 스텝 수\n",
        "\n",
        "    weight_decay=0.01,               # 가중치 감쇄 강도\n",
        "    logging_dir='./logs',            # 로그 디렉토리 경로\n",
        "    logging_steps=10,\n",
        ")"
      ],
      "id": "73a1addb-e43d-44d6-a137-7237931d568d"
    },
    {
      "cell_type": "code",
      "execution_count": 60,
      "metadata": {
        "executionInfo": {
          "elapsed": 3381,
          "status": "ok",
          "timestamp": 1688389211877,
          "user": {
            "displayName": "Jason Book Yim",
            "userId": "02824935638305274154"
          },
          "user_tz": -540
        },
        "outputId": "aea6ba59-712b-4d58-e49c-b44984ca27ba"
      },
      "outputs": [
        {
          "output_type": "stream",
          "name": "stdout",
          "text": [
            "['negative', 'negative', 'positive']"
          ]
        }
      ],
      "source": [
        "# 파인튜닝 이전에 세 입력 문장 극성 판별\n",
        "# 이는 한국어판을 취해 추가된 코드임\n",
        "input_tokens = tokenizer([\"I feel fantastic\", \"My life is going something wrong\", \"I have not figured out what the chosen title has to do with the movie.\"], truncation=True, padding=True)\n",
        "\n",
        "# 입력 문장 토크나이징 결과(input_tokens)에 담긴 input_ids를 모델에 투입\n",
        "# 그리고 모델 출력 결과를 GPU로 전송하며 값은 변수 outputs에 저장\n",
        "outputs = model(torch.tensor(input_tokens['input_ids']).to(\"cuda:0\"))\n",
        "\n",
        "# 레이블 딕셔너리 생성\n",
        "label_dict = {1:'positive', 0:'negative'}\n",
        "\n",
        "# outputs 변수에 담긴 logits 값을 행 단위, 즉 입력 문장 단위로 가장 큰 값 위치(인덱스) 추출\n",
        "# 그 결과값(인덱스)을 cpu로 넘기고 넘파이 타입으로 변경 후, 인덱스에 매칭되는 레이블 출력\n",
        "print([label_dict[i] for i in torch.argmax(outputs['logits'], axis=1).cpu().numpy()])"
      ],
      "id": "c39057fc-562f-4dc6-b5d4-6adbfd0f6474"
    },
    {
      "cell_type": "code",
      "execution_count": 61,
      "metadata": {
        "executionInfo": {
          "elapsed": 278004,
          "status": "ok",
          "timestamp": 1688389497261,
          "user": {
            "displayName": "Jason Book Yim",
            "userId": "02824935638305274154"
          },
          "user_tz": -540
        },
        "outputId": "e2fa4273-51d9-40d0-89dd-9a7dfecbe17a"
      },
      "outputs": [
        {
          "output_type": "stream",
          "name": "stderr",
          "text": [
            "/home/cgb3/anaconda3/envs/hf/lib/python3.12/site-packages/accelerate/accelerator.py:447: FutureWarning: Passing the following arguments to `Accelerator` is deprecated and will be removed in version 1.0 of Accelerate: dict_keys(['dispatch_batches', 'split_batches']). Please pass an `accelerate.DataLoaderConfiguration` instead: \n",
            "dataloader_config = DataLoaderConfiguration(dispatch_batches=None, split_batches=False)\n",
            "  warnings.warn("
          ]
        },
        {
          "output_type": "display_data",
          "metadata": {},
          "data": {
            "text/html": [
              "<p>"
            ]
          }
        },
        {
          "output_type": "display_data",
          "metadata": {},
          "data": {
            "text/plain": [
              "TrainOutput(global_step=400, training_loss=0.2804846516996622, metrics={'train_runtime': 67.5767, 'train_samples_per_second': 94.707, 'train_steps_per_second': 5.919, 'total_flos': 847791351398400.0, 'train_loss': 0.2804846516996622, 'epoch': 8.0})"
            ]
          }
        }
      ],
      "source": [
        "# 런타임 약 4 혹은 5분 소요\n",
        "# 딥러닝 모델의 특성상 결과가 매번 약간 다르게 나올 수 있슴\n",
        "trainer = transformers.Trainer(\n",
        "    model=model,                      # 사전학습 모델 인스턴스화\n",
        "    args=training_args,               # TrainingArguments에 정의한 하이퍼 파라미터값 가져오기\n",
        "    train_dataset=train_dataset,      # 학습 데이터세트\n",
        "    eval_dataset=val_dataset          # evaluation 데이터세트\n",
        ")\n",
        "\n",
        "trainer.train()\n"
      ],
      "id": "f779446d-cb4f-46dd-b3c7-4c0ee48fb0d9"
    },
    {
      "cell_type": "code",
      "execution_count": 63,
      "metadata": {
        "executionInfo": {
          "elapsed": 611,
          "status": "ok",
          "timestamp": 1688389522883,
          "user": {
            "displayName": "Jason Book Yim",
            "userId": "02824935638305274154"
          },
          "user_tz": -540
        },
        "outputId": "ed62cdda-6f02-4a97-ad3c-9204245a094f"
      },
      "outputs": [
        {
          "output_type": "stream",
          "name": "stdout",
          "text": [
            "['positive', 'negative', 'negative']"
          ]
        }
      ],
      "source": [
        "# Trainer.train()에 의한 파인튜팅 이후 세 입력 문장 극성 판별\n",
        "input_tokens = tokenizer([\"I feel fantastic\", \"My life is going something wrong\", \"I have not figured out what the chosen title has to do with the movie.\"], truncation=True, padding=True)\n",
        "outputs = model(torch.tensor(input_tokens['input_ids']).to(device))\n",
        "# 영어 원문의 1과 0값과 달리 일반적인 용례에 따라 변경\n",
        "label_dict = {1:'positive', 0:'negative'}\n",
        "print([label_dict[i] for i in torch.argmax(outputs['logits'], axis=1).cpu().numpy()])"
      ],
      "id": "d93d51bb-2154-43fc-8b0f-6c19657959db"
    },
    {
      "cell_type": "code",
      "execution_count": 64,
      "metadata": {
        "executionInfo": {
          "elapsed": 15174,
          "status": "ok",
          "timestamp": 1688389548967,
          "user": {
            "displayName": "Jason Book Yim",
            "userId": "02824935638305274154"
          },
          "user_tz": -540
        },
        "outputId": "af2871ff-2481-45ee-c6ea-a12a04a3a27d"
      },
      "outputs": [
        {
          "output_type": "stream",
          "name": "stdout",
          "text": [
            "0.876"
          ]
        }
      ],
      "source": [
        "# 문제14에서 언급한 Trainer.train( ) 방식의 성과지표로서의 정확도를 여기서 구함\n",
        "# 모델 14의 주 10번 참조\n",
        "# 모델을 eval 모드로 전환\n",
        "model.eval()\n",
        "\n",
        "# 문제 14 코딩의 변수 l과 혼동을 피하기 위해 컨테이너 리스트 l2 생성\n",
        "l2 = []\n",
        "\n",
        "# 반복 루프\n",
        "for test_text in test_texts:\n",
        "\n",
        "  # 토크나이징을 통한 인코딩\n",
        "  input_tokens = tokenizer([test_text], truncation=True, padding=True)\n",
        "\n",
        "  # 모델을 사용한 추론\n",
        "  outputs = model(torch.tensor(input_tokens['input_ids']).to(device))\n",
        "\n",
        "  # outputs에 담긴 logits값을 기준으로 행 단위로, 즉 입력 문장 단위로 가장 큰 logits값의 인덱스를 출력 후\n",
        "  # item( )을 사용하여 결과물 텐서를 CPU로 전송\n",
        "  # 이렇게 처리된 값을 입력문장별로 append( )를 통해 컨테이너 리스트 l에 하나씩 저장\n",
        "  l2.append(torch.argmax(outputs['logits'], axis=1).item())\n",
        "\n",
        "# 변수 correct_cnt 초기값을 0으로 설정\n",
        "correct_cnt = 0\n",
        "\n",
        "# 리스트 l과 test_labels를 zip( )을 통해 쌍(pair)으로 묶은 후 각기 pred와 ans라는 변수로 추출\n",
        "# zip()안의 데이터 쌍이 소진될 때까지 if문을 반복하여 계속 실행\n",
        "for pred, ans in zip(l2, test_labels):\n",
        "  if pred == ans:\n",
        "    correct_cnt += 1\n",
        "\n",
        "# 정확도(accuracy) 계산\n",
        "# 딥러닝 모델의 특성상 실행시마다 성과지표가 약간 다르게 산출될 수 있음\n",
        "# correct_cnt는 pred와 ans가 일치하는 건수의 총합\n",
        "# test_labels는 레이블 개수의 총합, 즉 입력 문장 전체 건수\n",
        "print(correct_cnt/len(test_labels))"
      ],
      "id": "edcbf279-729b-4efa-9594-d483d4fd596a"
    },
    {
      "cell_type": "code",
      "execution_count": 65,
      "metadata": {
        "executionInfo": {
          "elapsed": 631,
          "status": "ok",
          "timestamp": 1688389604568,
          "user": {
            "displayName": "Jason Book Yim",
            "userId": "02824935638305274154"
          },
          "user_tz": -540
        }
      },
      "outputs": [],
      "source": [
        "# test_inference 함수 생성\n",
        "def test_inference(model, tokenizer):\n",
        "  input_tokens = tokenizer([\"I feel fantastic\", \"My life is going something wrong\", \"I have not figured out what the chosen title has to do with the movie.\"], truncation=True, padding=True)\n",
        "  outputs = model(torch.tensor(input_tokens['input_ids']).to(device))\n",
        "  # 영어 원문의 1과 0값 배정고 달리 일반적인 용례에 따라 변경\n",
        "  label_dict = {1:'positive', 0:'negative'}\n",
        "  return [label_dict[i] for i in torch.argmax(outputs['logits'], axis=1).cpu().numpy()]"
      ],
      "id": "5b574a86-e4bd-46e4-9f88-5174ace01925"
    },
    {
      "cell_type": "code",
      "execution_count": 66,
      "metadata": {
        "executionInfo": {
          "elapsed": 216561,
          "status": "ok",
          "timestamp": 1688389889012,
          "user": {
            "displayName": "Jason Book Yim",
            "userId": "02824935638305274154"
          },
          "user_tz": -540
        },
        "outputId": "42fd7631-a0c7-4f20-b891-b210ccc821cc"
      },
      "outputs": [
        {
          "output_type": "stream",
          "name": "stderr",
          "text": [
            "/home/cgb3/anaconda3/envs/hf/lib/python3.12/site-packages/huggingface_hub-0.23.4-py3.8.egg/huggingface_hub/file_download.py:1132: FutureWarning: `resume_download` is deprecated and will be removed in version 1.0.0. Downloads always resume when possible. If you want to force a new download, use `force_download=True`.\n",
            "Some weights of DistilBertForSequenceClassification were not initialized from the model checkpoint at distilbert-base-uncased and are newly initialized: ['classifier.bias', 'classifier.weight', 'pre_classifier.bias', 'pre_classifier.weight']\n",
            "You should probably TRAIN this model on a down-stream task to be able to use it for predictions and inference.\n",
            "/home/cgb3/anaconda3/envs/hf/lib/python3.12/site-packages/transformers/optimization.py:429: FutureWarning: This implementation of AdamW is deprecated and will be removed in a future version. Use the PyTorch implementation torch.optim.AdamW instead, or set `no_deprecation_warning=True` to disable this warning\n",
            "  warnings.warn("
          ]
        },
        {
          "output_type": "stream",
          "name": "stdout",
          "text": [
            "['positive', 'positive', 'positive']\n",
            "epoch:0\n",
            "epoch:1\n",
            "epoch:2\n",
            "epoch:3\n",
            "epoch:4\n",
            "epoch:5\n",
            "epoch:6\n",
            "epoch:7\n",
            "['positive', 'negative', 'positive']"
          ]
        }
      ],
      "source": [
        "# 런타임 5분 30초 소요\n",
        "from torch.utils.data import DataLoader\n",
        "from transformers import DistilBertForSequenceClassification, AdamW\n",
        "from transformers import DistilBertTokenizerFast\n",
        "\n",
        "#１） 사전학습 모델과 토크나이저 불러오기\n",
        "#    그리고 모델 실행결과에 to(devic) 코드 추가(가능한 경우 결과를 GPU에 전달)\n",
        "tokenizer = DistilBertTokenizerFast.from_pretrained('distilbert-base-uncased')\n",
        "model = DistilBertForSequenceClassification.from_pretrained('distilbert-base-uncased')\n",
        "model.to(device)\n",
        "\n",
        "# 파인튜닝 이전 모델을 사용하여 test_inference 함수 실행\n",
        "print(test_inference(model, tokenizer))\n",
        "\n",
        "#２）DataLoader 인스턴스화\n",
        "train_loader = DataLoader(train_dataset, batch_size=16, shuffle=True)\n",
        "\n",
        "#３）최적화 함수 정의\n",
        "optim = AdamW(model.parameters(), lr=5e-5)\n",
        "\n",
        "#４）모델을 학습(train) 모드로 전환\n",
        "#   이는 드롭아웃 및 배치 정규화에 영향을 미침\n",
        "model.train()\n",
        "\n",
        "losses = []\n",
        "\n",
        "#５）에포크 횟수(epochs)만큼 루프 반복\n",
        "for epoch in range(8):\n",
        "    print(f'epoch:{epoch}')\n",
        "    for batch in train_loader:\n",
        "        #６）최적화 함수의 기울기(그래디언트) 초기화\n",
        "        optim.zero_grad()\n",
        "\n",
        "        input_ids = batch['input_ids'].to(device)\n",
        "        attention_mask = batch['attention_mask'].to(device)\n",
        "        labels = batch['labels'].to(device)\n",
        "\n",
        "        #７） 모델을 사용한 추론\n",
        "        outputs = model(input_ids, attention_mask=attention_mask, labels=labels)\n",
        "        #８） 손실 계산\n",
        "        loss = outputs[0]\n",
        "        losses.append(loss)\n",
        "        #９） 오차역전파\n",
        "        loss.backward()\n",
        "        #１０） 가중치(weight) 업데이트\n",
        "        optim.step()\n",
        "\n",
        "# 모델을 eval 모드로 전환\n",
        "model.eval()\n",
        "\n",
        "# eval 모드를 사용하여 test_inference 함수 실행\n",
        "print(test_inference(model, tokenizer))\n"
      ],
      "id": "43fdcc91-6e48-45c7-b22c-dbfe05acafd7"
    },
    {
      "cell_type": "code",
      "execution_count": 69,
      "metadata": {},
      "outputs": [],
      "source": [
        "#!pip install matplotlib "
      ],
      "id": "2a2c7c3c-6679-4725-8abb-a2ece19d148b"
    },
    {
      "cell_type": "code",
      "execution_count": 71,
      "metadata": {},
      "outputs": [],
      "source": [
        "# # 다음은 에러가 발생하는 코드임에 주의\n",
        "# # 이를 수정하기 위해 몇 개의 코드를 아래에 추가함\n",
        "# import matplotlib.pyplot as plt\n",
        "# plt.plot(losses)\n",
        "# plt.show()\n"
      ],
      "id": "62a3d2aa-7dd0-4ed8-a905-76cce2784ea6"
    },
    {
      "cell_type": "code",
      "execution_count": 72,
      "metadata": {
        "executionInfo": {
          "elapsed": 603,
          "status": "ok",
          "timestamp": 1688389897919,
          "user": {
            "displayName": "Jason Book Yim",
            "userId": "02824935638305274154"
          },
          "user_tz": -540
        },
        "outputId": "1023a01e-5303-4e7f-92b9-925913e3ca66"
      },
      "outputs": [
        {
          "output_type": "stream",
          "name": "stdout",
          "text": [
            "[tensor(0.6896, device='cuda:0', grad_fn=<NllLossBackward0>), tensor(0.6743, device='cuda:0', grad_fn=<NllLossBackward0>), tensor(0.7232, device='cuda:0', grad_fn=<NllLossBackward0>), tensor(0.6435, device='cuda:0', grad_fn=<NllLossBackward0>), tensor(0.7984, device='cuda:0', grad_fn=<NllLossBackward0>), tensor(0.6705, device='cuda:0', grad_fn=<NllLossBackward0>), tensor(0.6234, device='cuda:0', grad_fn=<NllLossBackward0>), tensor(0.6944, device='cuda:0', grad_fn=<NllLossBackward0>), tensor(0.7191, device='cuda:0', grad_fn=<NllLossBackward0>), tensor(0.6739, device='cuda:0', grad_fn=<NllLossBackward0>), tensor(0.7049, device='cuda:0', grad_fn=<NllLossBackward0>), tensor(0.6988, device='cuda:0', grad_fn=<NllLossBackward0>), tensor(0.7530, device='cuda:0', grad_fn=<NllLossBackward0>), tensor(0.7171, device='cuda:0', grad_fn=<NllLossBackward0>), tensor(0.7093, device='cuda:0', grad_fn=<NllLossBackward0>), tensor(0.6743, device='cuda:0', grad_fn=<NllLossBackward0>), tensor(0.6722, device='cuda:0', grad_fn=<NllLossBackward0>), tensor(0.6731, device='cuda:0', grad_fn=<NllLossBackward0>), tensor(0.7356, device='cuda:0', grad_fn=<NllLossBackward0>), tensor(0.6585, device='cuda:0', grad_fn=<NllLossBackward0>), tensor(0.6631, device='cuda:0', grad_fn=<NllLossBackward0>), tensor(0.7116, device='cuda:0', grad_fn=<NllLossBackward0>), tensor(0.6489, device='cuda:0', grad_fn=<NllLossBackward0>), tensor(0.6506, device='cuda:0', grad_fn=<NllLossBackward0>), tensor(0.7083, device='cuda:0', grad_fn=<NllLossBackward0>), tensor(0.6266, device='cuda:0', grad_fn=<NllLossBackward0>), tensor(0.6215, device='cuda:0', grad_fn=<NllLossBackward0>), tensor(0.6960, device='cuda:0', grad_fn=<NllLossBackward0>), tensor(0.6292, device='cuda:0', grad_fn=<NllLossBackward0>), tensor(0.6693, device='cuda:0', grad_fn=<NllLossBackward0>), tensor(0.6402, device='cuda:0', grad_fn=<NllLossBackward0>), tensor(0.6602, device='cuda:0', grad_fn=<NllLossBackward0>), tensor(0.5751, device='cuda:0', grad_fn=<NllLossBackward0>), tensor(0.5358, device='cuda:0', grad_fn=<NllLossBackward0>), tensor(0.4233, device='cuda:0', grad_fn=<NllLossBackward0>), tensor(0.6038, device='cuda:0', grad_fn=<NllLossBackward0>), tensor(0.5805, device='cuda:0', grad_fn=<NllLossBackward0>), tensor(0.3850, device='cuda:0', grad_fn=<NllLossBackward0>), tensor(0.8131, device='cuda:0', grad_fn=<NllLossBackward0>), tensor(0.7712, device='cuda:0', grad_fn=<NllLossBackward0>), tensor(0.6551, device='cuda:0', grad_fn=<NllLossBackward0>), tensor(0.4271, device='cuda:0', grad_fn=<NllLossBackward0>), tensor(0.7719, device='cuda:0', grad_fn=<NllLossBackward0>), tensor(0.4006, device='cuda:0', grad_fn=<NllLossBackward0>), tensor(0.6403, device='cuda:0', grad_fn=<NllLossBackward0>), tensor(0.4579, device='cuda:0', grad_fn=<NllLossBackward0>), tensor(0.4386, device='cuda:0', grad_fn=<NllLossBackward0>), tensor(0.4667, device='cuda:0', grad_fn=<NllLossBackward0>), tensor(0.5521, device='cuda:0', grad_fn=<NllLossBackward0>), tensor(0.3832, device='cuda:0', grad_fn=<NllLossBackward0>), tensor(0.4393, device='cuda:0', grad_fn=<NllLossBackward0>), tensor(0.3554, device='cuda:0', grad_fn=<NllLossBackward0>), tensor(0.3718, device='cuda:0', grad_fn=<NllLossBackward0>), tensor(0.4614, device='cuda:0', grad_fn=<NllLossBackward0>), tensor(0.2476, device='cuda:0', grad_fn=<NllLossBackward0>), tensor(0.6242, device='cuda:0', grad_fn=<NllLossBackward0>), tensor(0.1273, device='cuda:0', grad_fn=<NllLossBackward0>), tensor(0.5165, device='cuda:0', grad_fn=<NllLossBackward0>), tensor(0.2004, device='cuda:0', grad_fn=<NllLossBackward0>), tensor(0.4752, device='cuda:0', grad_fn=<NllLossBackward0>), tensor(0.3656, device='cuda:0', grad_fn=<NllLossBackward0>), tensor(0.4640, device='cuda:0', grad_fn=<NllLossBackward0>), tensor(0.4683, device='cuda:0', grad_fn=<NllLossBackward0>), tensor(0.3872, device='cuda:0', grad_fn=<NllLossBackward0>), tensor(0.4142, device='cuda:0', grad_fn=<NllLossBackward0>), tensor(0.2101, device='cuda:0', grad_fn=<NllLossBackward0>), tensor(0.5672, device='cuda:0', grad_fn=<NllLossBackward0>), tensor(0.4148, device='cuda:0', grad_fn=<NllLossBackward0>), tensor(0.1734, device='cuda:0', grad_fn=<NllLossBackward0>), tensor(0.4432, device='cuda:0', grad_fn=<NllLossBackward0>), tensor(0.2488, device='cuda:0', grad_fn=<NllLossBackward0>), tensor(0.3803, device='cuda:0', grad_fn=<NllLossBackward0>), tensor(0.3149, device='cuda:0', grad_fn=<NllLossBackward0>), tensor(0.1794, device='cuda:0', grad_fn=<NllLossBackward0>), tensor(0.2735, device='cuda:0', grad_fn=<NllLossBackward0>), tensor(0.0692, device='cuda:0', grad_fn=<NllLossBackward0>), tensor(0.3279, device='cuda:0', grad_fn=<NllLossBackward0>), tensor(0.1845, device='cuda:0', grad_fn=<NllLossBackward0>), tensor(0.3726, device='cuda:0', grad_fn=<NllLossBackward0>), tensor(0.3069, device='cuda:0', grad_fn=<NllLossBackward0>), tensor(0.1920, device='cuda:0', grad_fn=<NllLossBackward0>), tensor(0.1308, device='cuda:0', grad_fn=<NllLossBackward0>), tensor(0.3700, device='cuda:0', grad_fn=<NllLossBackward0>), tensor(0.2905, device='cuda:0', grad_fn=<NllLossBackward0>), tensor(0.0512, device='cuda:0', grad_fn=<NllLossBackward0>), tensor(0.6158, device='cuda:0', grad_fn=<NllLossBackward0>), tensor(0.6974, device='cuda:0', grad_fn=<NllLossBackward0>), tensor(0.2247, device='cuda:0', grad_fn=<NllLossBackward0>), tensor(0.5211, device='cuda:0', grad_fn=<NllLossBackward0>), tensor(0.2256, device='cuda:0', grad_fn=<NllLossBackward0>), tensor(0.4478, device='cuda:0', grad_fn=<NllLossBackward0>), tensor(0.1355, device='cuda:0', grad_fn=<NllLossBackward0>), tensor(0.3630, device='cuda:0', grad_fn=<NllLossBackward0>), tensor(0.3645, device='cuda:0', grad_fn=<NllLossBackward0>), tensor(0.3055, device='cuda:0', grad_fn=<NllLossBackward0>), tensor(0.4659, device='cuda:0', grad_fn=<NllLossBackward0>), tensor(0.4414, device='cuda:0', grad_fn=<NllLossBackward0>), tensor(0.1772, device='cuda:0', grad_fn=<NllLossBackward0>), tensor(0.3226, device='cuda:0', grad_fn=<NllLossBackward0>), tensor(0.2523, device='cuda:0', grad_fn=<NllLossBackward0>), tensor(0.1157, device='cuda:0', grad_fn=<NllLossBackward0>), tensor(0.1749, device='cuda:0', grad_fn=<NllLossBackward0>), tensor(0.2590, device='cuda:0', grad_fn=<NllLossBackward0>), tensor(0.1810, device='cuda:0', grad_fn=<NllLossBackward0>), tensor(0.2662, device='cuda:0', grad_fn=<NllLossBackward0>), tensor(0.0996, device='cuda:0', grad_fn=<NllLossBackward0>), tensor(0.0781, device='cuda:0', grad_fn=<NllLossBackward0>), tensor(0.0702, device='cuda:0', grad_fn=<NllLossBackward0>), tensor(0.1421, device='cuda:0', grad_fn=<NllLossBackward0>), tensor(0.2621, device='cuda:0', grad_fn=<NllLossBackward0>), tensor(0.0540, device='cuda:0', grad_fn=<NllLossBackward0>), tensor(0.4938, device='cuda:0', grad_fn=<NllLossBackward0>), tensor(0.0223, device='cuda:0', grad_fn=<NllLossBackward0>), tensor(0.4348, device='cuda:0', grad_fn=<NllLossBackward0>), tensor(0.2020, device='cuda:0', grad_fn=<NllLossBackward0>), tensor(0.3059, device='cuda:0', grad_fn=<NllLossBackward0>), tensor(0.3600, device='cuda:0', grad_fn=<NllLossBackward0>), tensor(0.5890, device='cuda:0', grad_fn=<NllLossBackward0>), tensor(0.0956, device='cuda:0', grad_fn=<NllLossBackward0>), tensor(0.1898, device='cuda:0', grad_fn=<NllLossBackward0>), tensor(0.3317, device='cuda:0', grad_fn=<NllLossBackward0>), tensor(0.0464, device='cuda:0', grad_fn=<NllLossBackward0>), tensor(0.0484, device='cuda:0', grad_fn=<NllLossBackward0>), tensor(0.1058, device='cuda:0', grad_fn=<NllLossBackward0>), tensor(0.2110, device='cuda:0', grad_fn=<NllLossBackward0>), tensor(0.1650, device='cuda:0', grad_fn=<NllLossBackward0>), tensor(0.2112, device='cuda:0', grad_fn=<NllLossBackward0>), tensor(0.1265, device='cuda:0', grad_fn=<NllLossBackward0>), tensor(0.0779, device='cuda:0', grad_fn=<NllLossBackward0>), tensor(0.0337, device='cuda:0', grad_fn=<NllLossBackward0>), tensor(0.1637, device='cuda:0', grad_fn=<NllLossBackward0>), tensor(0.0918, device='cuda:0', grad_fn=<NllLossBackward0>), tensor(0.0792, device='cuda:0', grad_fn=<NllLossBackward0>), tensor(0.2498, device='cuda:0', grad_fn=<NllLossBackward0>), tensor(0.0320, device='cuda:0', grad_fn=<NllLossBackward0>), tensor(0.0851, device='cuda:0', grad_fn=<NllLossBackward0>), tensor(0.0525, device='cuda:0', grad_fn=<NllLossBackward0>), tensor(0.1685, device='cuda:0', grad_fn=<NllLossBackward0>), tensor(0.3785, device='cuda:0', grad_fn=<NllLossBackward0>), tensor(0.0310, device='cuda:0', grad_fn=<NllLossBackward0>), tensor(0.3235, device='cuda:0', grad_fn=<NllLossBackward0>), tensor(0.2505, device='cuda:0', grad_fn=<NllLossBackward0>), tensor(0.0266, device='cuda:0', grad_fn=<NllLossBackward0>), tensor(0.0241, device='cuda:0', grad_fn=<NllLossBackward0>), tensor(0.2853, device='cuda:0', grad_fn=<NllLossBackward0>), tensor(0.0272, device='cuda:0', grad_fn=<NllLossBackward0>), tensor(0.0671, device='cuda:0', grad_fn=<NllLossBackward0>), tensor(0.0804, device='cuda:0', grad_fn=<NllLossBackward0>), tensor(0.0193, device='cuda:0', grad_fn=<NllLossBackward0>), tensor(0.0169, device='cuda:0', grad_fn=<NllLossBackward0>), tensor(0.0187, device='cuda:0', grad_fn=<NllLossBackward0>), tensor(0.0189, device='cuda:0', grad_fn=<NllLossBackward0>), tensor(0.0142, device='cuda:0', grad_fn=<NllLossBackward0>), tensor(0.0247, device='cuda:0', grad_fn=<NllLossBackward0>), tensor(0.0182, device='cuda:0', grad_fn=<NllLossBackward0>), tensor(0.0197, device='cuda:0', grad_fn=<NllLossBackward0>), tensor(0.0195, device='cuda:0', grad_fn=<NllLossBackward0>), tensor(0.3021, device='cuda:0', grad_fn=<NllLossBackward0>), tensor(0.0127, device='cuda:0', grad_fn=<NllLossBackward0>), tensor(0.0120, device='cuda:0', grad_fn=<NllLossBackward0>), tensor(0.0138, device='cuda:0', grad_fn=<NllLossBackward0>), tensor(0.0197, device='cuda:0', grad_fn=<NllLossBackward0>), tensor(0.0144, device='cuda:0', grad_fn=<NllLossBackward0>), tensor(0.0118, device='cuda:0', grad_fn=<NllLossBackward0>), tensor(0.0147, device='cuda:0', grad_fn=<NllLossBackward0>), tensor(0.0116, device='cuda:0', grad_fn=<NllLossBackward0>), tensor(0.0330, device='cuda:0', grad_fn=<NllLossBackward0>), tensor(0.0110, device='cuda:0', grad_fn=<NllLossBackward0>), tensor(0.0109, device='cuda:0', grad_fn=<NllLossBackward0>), tensor(0.0551, device='cuda:0', grad_fn=<NllLossBackward0>), tensor(0.0129, device='cuda:0', grad_fn=<NllLossBackward0>), tensor(0.0084, device='cuda:0', grad_fn=<NllLossBackward0>), tensor(0.0087, device='cuda:0', grad_fn=<NllLossBackward0>), tensor(0.0327, device='cuda:0', grad_fn=<NllLossBackward0>), tensor(0.0107, device='cuda:0', grad_fn=<NllLossBackward0>), tensor(0.3017, device='cuda:0', grad_fn=<NllLossBackward0>), tensor(0.0077, device='cuda:0', grad_fn=<NllLossBackward0>), tensor(0.0102, device='cuda:0', grad_fn=<NllLossBackward0>), tensor(0.0153, device='cuda:0', grad_fn=<NllLossBackward0>), tensor(0.0061, device='cuda:0', grad_fn=<NllLossBackward0>), tensor(0.0068, device='cuda:0', grad_fn=<NllLossBackward0>), tensor(0.0602, device='cuda:0', grad_fn=<NllLossBackward0>), tensor(0.0184, device='cuda:0', grad_fn=<NllLossBackward0>), tensor(0.1096, device='cuda:0', grad_fn=<NllLossBackward0>), tensor(0.0077, device='cuda:0', grad_fn=<NllLossBackward0>), tensor(0.0234, device='cuda:0', grad_fn=<NllLossBackward0>), tensor(0.0614, device='cuda:0', grad_fn=<NllLossBackward0>), tensor(0.0088, device='cuda:0', grad_fn=<NllLossBackward0>), tensor(0.0062, device='cuda:0', grad_fn=<NllLossBackward0>), tensor(0.0093, device='cuda:0', grad_fn=<NllLossBackward0>), tensor(0.0046, device='cuda:0', grad_fn=<NllLossBackward0>), tensor(0.0051, device='cuda:0', grad_fn=<NllLossBackward0>), tensor(0.0074, device='cuda:0', grad_fn=<NllLossBackward0>), tensor(0.0071, device='cuda:0', grad_fn=<NllLossBackward0>), tensor(0.0748, device='cuda:0', grad_fn=<NllLossBackward0>), tensor(0.0459, device='cuda:0', grad_fn=<NllLossBackward0>), tensor(0.0118, device='cuda:0', grad_fn=<NllLossBackward0>), tensor(0.0317, device='cuda:0', grad_fn=<NllLossBackward0>), tensor(0.0043, device='cuda:0', grad_fn=<NllLossBackward0>), tensor(0.0039, device='cuda:0', grad_fn=<NllLossBackward0>), tensor(0.0052, device='cuda:0', grad_fn=<NllLossBackward0>), tensor(0.0857, device='cuda:0', grad_fn=<NllLossBackward0>), tensor(0.0062, device='cuda:0', grad_fn=<NllLossBackward0>), tensor(0.0319, device='cuda:0', grad_fn=<NllLossBackward0>), tensor(0.0239, device='cuda:0', grad_fn=<NllLossBackward0>), tensor(0.0214, device='cuda:0', grad_fn=<NllLossBackward0>), tensor(0.0169, device='cuda:0', grad_fn=<NllLossBackward0>), tensor(0.3571, device='cuda:0', grad_fn=<NllLossBackward0>), tensor(0.0122, device='cuda:0', grad_fn=<NllLossBackward0>), tensor(0.0051, device='cuda:0', grad_fn=<NllLossBackward0>), tensor(0.0139, device='cuda:0', grad_fn=<NllLossBackward0>), tensor(0.0052, device='cuda:0', grad_fn=<NllLossBackward0>), tensor(0.0450, device='cuda:0', grad_fn=<NllLossBackward0>), tensor(0.0440, device='cuda:0', grad_fn=<NllLossBackward0>), tensor(0.0040, device='cuda:0', grad_fn=<NllLossBackward0>), tensor(0.0042, device='cuda:0', grad_fn=<NllLossBackward0>), tensor(0.0044, device='cuda:0', grad_fn=<NllLossBackward0>), tensor(0.0070, device='cuda:0', grad_fn=<NllLossBackward0>), tensor(0.0046, device='cuda:0', grad_fn=<NllLossBackward0>), tensor(0.2946, device='cuda:0', grad_fn=<NllLossBackward0>), tensor(0.0084, device='cuda:0', grad_fn=<NllLossBackward0>), tensor(0.0049, device='cuda:0', grad_fn=<NllLossBackward0>), tensor(0.1915, device='cuda:0', grad_fn=<NllLossBackward0>), tensor(0.0044, device='cuda:0', grad_fn=<NllLossBackward0>), tensor(0.0058, device='cuda:0', grad_fn=<NllLossBackward0>), tensor(0.0543, device='cuda:0', grad_fn=<NllLossBackward0>), tensor(0.0081, device='cuda:0', grad_fn=<NllLossBackward0>), tensor(0.2727, device='cuda:0', grad_fn=<NllLossBackward0>), tensor(0.1148, device='cuda:0', grad_fn=<NllLossBackward0>), tensor(0.0230, device='cuda:0', grad_fn=<NllLossBackward0>), tensor(0.0076, device='cuda:0', grad_fn=<NllLossBackward0>), tensor(0.0091, device='cuda:0', grad_fn=<NllLossBackward0>), tensor(0.0163, device='cuda:0', grad_fn=<NllLossBackward0>), tensor(0.0057, device='cuda:0', grad_fn=<NllLossBackward0>), tensor(0.0069, device='cuda:0', grad_fn=<NllLossBackward0>), tensor(0.1706, device='cuda:0', grad_fn=<NllLossBackward0>), tensor(0.0776, device='cuda:0', grad_fn=<NllLossBackward0>), tensor(0.0049, device='cuda:0', grad_fn=<NllLossBackward0>), tensor(0.2013, device='cuda:0', grad_fn=<NllLossBackward0>), tensor(0.0066, device='cuda:0', grad_fn=<NllLossBackward0>), tensor(0.3029, device='cuda:0', grad_fn=<NllLossBackward0>), tensor(0.0188, device='cuda:0', grad_fn=<NllLossBackward0>), tensor(0.0133, device='cuda:0', grad_fn=<NllLossBackward0>), tensor(0.0129, device='cuda:0', grad_fn=<NllLossBackward0>), tensor(0.0048, device='cuda:0', grad_fn=<NllLossBackward0>), tensor(0.3768, device='cuda:0', grad_fn=<NllLossBackward0>), tensor(0.0176, device='cuda:0', grad_fn=<NllLossBackward0>), tensor(0.3615, device='cuda:0', grad_fn=<NllLossBackward0>), tensor(0.0443, device='cuda:0', grad_fn=<NllLossBackward0>), tensor(0.0930, device='cuda:0', grad_fn=<NllLossBackward0>), tensor(0.0140, device='cuda:0', grad_fn=<NllLossBackward0>), tensor(0.0102, device='cuda:0', grad_fn=<NllLossBackward0>), tensor(0.3686, device='cuda:0', grad_fn=<NllLossBackward0>), tensor(0.2168, device='cuda:0', grad_fn=<NllLossBackward0>), tensor(0.1502, device='cuda:0', grad_fn=<NllLossBackward0>), tensor(0.1344, device='cuda:0', grad_fn=<NllLossBackward0>), tensor(0.0095, device='cuda:0', grad_fn=<NllLossBackward0>), tensor(0.0184, device='cuda:0', grad_fn=<NllLossBackward0>), tensor(0.0508, device='cuda:0', grad_fn=<NllLossBackward0>), tensor(0.0684, device='cuda:0', grad_fn=<NllLossBackward0>), tensor(0.0242, device='cuda:0', grad_fn=<NllLossBackward0>), tensor(0.0179, device='cuda:0', grad_fn=<NllLossBackward0>), tensor(0.2457, device='cuda:0', grad_fn=<NllLossBackward0>), tensor(0.0197, device='cuda:0', grad_fn=<NllLossBackward0>), tensor(0.2134, device='cuda:0', grad_fn=<NllLossBackward0>), tensor(0.1785, device='cuda:0', grad_fn=<NllLossBackward0>), tensor(0.1717, device='cuda:0', grad_fn=<NllLossBackward0>), tensor(0.0122, device='cuda:0', grad_fn=<NllLossBackward0>), tensor(0.0061, device='cuda:0', grad_fn=<NllLossBackward0>), tensor(0.0069, device='cuda:0', grad_fn=<NllLossBackward0>), tensor(0.0154, device='cuda:0', grad_fn=<NllLossBackward0>), tensor(0.0177, device='cuda:0', grad_fn=<NllLossBackward0>), tensor(0.2219, device='cuda:0', grad_fn=<NllLossBackward0>), tensor(0.0781, device='cuda:0', grad_fn=<NllLossBackward0>), tensor(0.3202, device='cuda:0', grad_fn=<NllLossBackward0>), tensor(0.0336, device='cuda:0', grad_fn=<NllLossBackward0>), tensor(0.0572, device='cuda:0', grad_fn=<NllLossBackward0>), tensor(0.1933, device='cuda:0', grad_fn=<NllLossBackward0>), tensor(0.0327, device='cuda:0', grad_fn=<NllLossBackward0>), tensor(0.1650, device='cuda:0', grad_fn=<NllLossBackward0>), tensor(0.0187, device='cuda:0', grad_fn=<NllLossBackward0>), tensor(0.0869, device='cuda:0', grad_fn=<NllLossBackward0>), tensor(0.5422, device='cuda:0', grad_fn=<NllLossBackward0>), tensor(0.0425, device='cuda:0', grad_fn=<NllLossBackward0>), tensor(0.1761, device='cuda:0', grad_fn=<NllLossBackward0>), tensor(0.1175, device='cuda:0', grad_fn=<NllLossBackward0>), tensor(0.0292, device='cuda:0', grad_fn=<NllLossBackward0>), tensor(0.0318, device='cuda:0', grad_fn=<NllLossBackward0>), tensor(0.0488, device='cuda:0', grad_fn=<NllLossBackward0>), tensor(0.1653, device='cuda:0', grad_fn=<NllLossBackward0>), tensor(0.4091, device='cuda:0', grad_fn=<NllLossBackward0>), tensor(0.0559, device='cuda:0', grad_fn=<NllLossBackward0>), tensor(0.0492, device='cuda:0', grad_fn=<NllLossBackward0>), tensor(0.3804, device='cuda:0', grad_fn=<NllLossBackward0>), tensor(0.0155, device='cuda:0', grad_fn=<NllLossBackward0>), tensor(0.0196, device='cuda:0', grad_fn=<NllLossBackward0>), tensor(0.0324, device='cuda:0', grad_fn=<NllLossBackward0>), tensor(0.0145, device='cuda:0', grad_fn=<NllLossBackward0>), tensor(0.0170, device='cuda:0', grad_fn=<NllLossBackward0>), tensor(0.0785, device='cuda:0', grad_fn=<NllLossBackward0>), tensor(0.0306, device='cuda:0', grad_fn=<NllLossBackward0>), tensor(0.0064, device='cuda:0', grad_fn=<NllLossBackward0>), tensor(0.0313, device='cuda:0', grad_fn=<NllLossBackward0>), tensor(0.0636, device='cuda:0', grad_fn=<NllLossBackward0>), tensor(0.1193, device='cuda:0', grad_fn=<NllLossBackward0>), tensor(0.0345, device='cuda:0', grad_fn=<NllLossBackward0>), tensor(0.3166, device='cuda:0', grad_fn=<NllLossBackward0>), tensor(0.0057, device='cuda:0', grad_fn=<NllLossBackward0>), tensor(0.0035, device='cuda:0', grad_fn=<NllLossBackward0>), tensor(0.0037, device='cuda:0', grad_fn=<NllLossBackward0>), tensor(0.0040, device='cuda:0', grad_fn=<NllLossBackward0>), tensor(0.0185, device='cuda:0', grad_fn=<NllLossBackward0>), tensor(0.0040, device='cuda:0', grad_fn=<NllLossBackward0>), tensor(0.0362, device='cuda:0', grad_fn=<NllLossBackward0>), tensor(0.0042, device='cuda:0', grad_fn=<NllLossBackward0>), tensor(0.0039, device='cuda:0', grad_fn=<NllLossBackward0>), tensor(0.0050, device='cuda:0', grad_fn=<NllLossBackward0>), tensor(0.0031, device='cuda:0', grad_fn=<NllLossBackward0>), tensor(0.0035, device='cuda:0', grad_fn=<NllLossBackward0>), tensor(0.0040, device='cuda:0', grad_fn=<NllLossBackward0>), tensor(0.0044, device='cuda:0', grad_fn=<NllLossBackward0>), tensor(0.0039, device='cuda:0', grad_fn=<NllLossBackward0>), tensor(0.0027, device='cuda:0', grad_fn=<NllLossBackward0>), tensor(0.0046, device='cuda:0', grad_fn=<NllLossBackward0>), tensor(0.0060, device='cuda:0', grad_fn=<NllLossBackward0>), tensor(0.0107, device='cuda:0', grad_fn=<NllLossBackward0>), tensor(0.0038, device='cuda:0', grad_fn=<NllLossBackward0>), tensor(0.0041, device='cuda:0', grad_fn=<NllLossBackward0>), tensor(0.0048, device='cuda:0', grad_fn=<NllLossBackward0>), tensor(0.0180, device='cuda:0', grad_fn=<NllLossBackward0>), tensor(0.0037, device='cuda:0', grad_fn=<NllLossBackward0>), tensor(0.0032, device='cuda:0', grad_fn=<NllLossBackward0>), tensor(0.0027, device='cuda:0', grad_fn=<NllLossBackward0>), tensor(0.0029, device='cuda:0', grad_fn=<NllLossBackward0>), tensor(0.0026, device='cuda:0', grad_fn=<NllLossBackward0>), tensor(0.0017, device='cuda:0', grad_fn=<NllLossBackward0>), tensor(0.0044, device='cuda:0', grad_fn=<NllLossBackward0>), tensor(0.0634, device='cuda:0', grad_fn=<NllLossBackward0>), tensor(0.0526, device='cuda:0', grad_fn=<NllLossBackward0>), tensor(0.0028, device='cuda:0', grad_fn=<NllLossBackward0>), tensor(0.0019, device='cuda:0', grad_fn=<NllLossBackward0>), tensor(0.0027, device='cuda:0', grad_fn=<NllLossBackward0>), tensor(0.0029, device='cuda:0', grad_fn=<NllLossBackward0>), tensor(0.0051, device='cuda:0', grad_fn=<NllLossBackward0>), tensor(0.0024, device='cuda:0', grad_fn=<NllLossBackward0>), tensor(0.0057, device='cuda:0', grad_fn=<NllLossBackward0>), tensor(0.0021, device='cuda:0', grad_fn=<NllLossBackward0>), tensor(0.0027, device='cuda:0', grad_fn=<NllLossBackward0>), tensor(0.0030, device='cuda:0', grad_fn=<NllLossBackward0>), tensor(0.0026, device='cuda:0', grad_fn=<NllLossBackward0>), tensor(0.0025, device='cuda:0', grad_fn=<NllLossBackward0>), tensor(0.0029, device='cuda:0', grad_fn=<NllLossBackward0>), tensor(0.0017, device='cuda:0', grad_fn=<NllLossBackward0>), tensor(0.0025, device='cuda:0', grad_fn=<NllLossBackward0>), tensor(0.0025, device='cuda:0', grad_fn=<NllLossBackward0>), tensor(0.0326, device='cuda:0', grad_fn=<NllLossBackward0>), tensor(0.0830, device='cuda:0', grad_fn=<NllLossBackward0>), tensor(0.0044, device='cuda:0', grad_fn=<NllLossBackward0>), tensor(0.3151, device='cuda:0', grad_fn=<NllLossBackward0>), tensor(0.0020, device='cuda:0', grad_fn=<NllLossBackward0>), tensor(0.0037, device='cuda:0', grad_fn=<NllLossBackward0>), tensor(0.0025, device='cuda:0', grad_fn=<NllLossBackward0>), tensor(0.0038, device='cuda:0', grad_fn=<NllLossBackward0>), tensor(0.0032, device='cuda:0', grad_fn=<NllLossBackward0>), tensor(0.0064, device='cuda:0', grad_fn=<NllLossBackward0>), tensor(0.0232, device='cuda:0', grad_fn=<NllLossBackward0>), tensor(0.2721, device='cuda:0', grad_fn=<NllLossBackward0>), tensor(0.3031, device='cuda:0', grad_fn=<NllLossBackward0>), tensor(0.0030, device='cuda:0', grad_fn=<NllLossBackward0>), tensor(0.0043, device='cuda:0', grad_fn=<NllLossBackward0>), tensor(0.0057, device='cuda:0', grad_fn=<NllLossBackward0>), tensor(0.0031, device='cuda:0', grad_fn=<NllLossBackward0>), tensor(0.0166, device='cuda:0', grad_fn=<NllLossBackward0>), tensor(0.0026, device='cuda:0', grad_fn=<NllLossBackward0>), tensor(0.0160, device='cuda:0', grad_fn=<NllLossBackward0>), tensor(0.0027, device='cuda:0', grad_fn=<NllLossBackward0>), tensor(0.0026, device='cuda:0', grad_fn=<NllLossBackward0>), tensor(0.1102, device='cuda:0', grad_fn=<NllLossBackward0>), tensor(0.0556, device='cuda:0', grad_fn=<NllLossBackward0>), tensor(0.1896, device='cuda:0', grad_fn=<NllLossBackward0>), tensor(0.0050, device='cuda:0', grad_fn=<NllLossBackward0>), tensor(0.0043, device='cuda:0', grad_fn=<NllLossBackward0>), tensor(0.0040, device='cuda:0', grad_fn=<NllLossBackward0>), tensor(0.0687, device='cuda:0', grad_fn=<NllLossBackward0>), tensor(0.0251, device='cuda:0', grad_fn=<NllLossBackward0>), tensor(0.0102, device='cuda:0', grad_fn=<NllLossBackward0>), tensor(0.0049, device='cuda:0', grad_fn=<NllLossBackward0>), tensor(0.0020, device='cuda:0', grad_fn=<NllLossBackward0>), tensor(0.0082, device='cuda:0', grad_fn=<NllLossBackward0>), tensor(0.0607, device='cuda:0', grad_fn=<NllLossBackward0>), tensor(0.0052, device='cuda:0', grad_fn=<NllLossBackward0>), tensor(0.0579, device='cuda:0', grad_fn=<NllLossBackward0>), tensor(0.0022, device='cuda:0', grad_fn=<NllLossBackward0>), tensor(0.0044, device='cuda:0', grad_fn=<NllLossBackward0>), tensor(0.0063, device='cuda:0', grad_fn=<NllLossBackward0>), tensor(0.1434, device='cuda:0', grad_fn=<NllLossBackward0>), tensor(0.0181, device='cuda:0', grad_fn=<NllLossBackward0>), tensor(0.0042, device='cuda:0', grad_fn=<NllLossBackward0>), tensor(0.0025, device='cuda:0', grad_fn=<NllLossBackward0>), tensor(0.0032, device='cuda:0', grad_fn=<NllLossBackward0>)]"
          ]
        },
        {
          "output_type": "display_data",
          "metadata": {},
          "data": {
            "text/plain": [
              "list"
            ]
          }
        }
      ],
      "source": [
        "print(losses)\n",
        "type(losses)"
      ],
      "id": "0010e9f8-7dc5-4497-af3a-61daf6ee06e6"
    },
    {
      "cell_type": "code",
      "execution_count": 73,
      "metadata": {
        "executionInfo": {
          "elapsed": 1529,
          "status": "ok",
          "timestamp": 1688389902262,
          "user": {
            "displayName": "Jason Book Yim",
            "userId": "02824935638305274154"
          },
          "user_tz": -540
        },
        "outputId": "ace6957d-7fed-4bea-f496-69be0bd833b7"
      },
      "outputs": [
        {
          "output_type": "display_data",
          "metadata": {},
          "data": {
            "text/plain": [
              "[0.6896294951438904,\n",
              " 0.6742584705352783,\n",
              " 0.7231898307800293,\n",
              " 0.6434592604637146,\n",
              " 0.7984352707862854]"
            ]
          }
        }
      ],
      "source": [
        "# 파이토치에서 item( )은 텐서에서 값을 파이썬 숫자로 추출하여 CPU로 전달\n",
        "new_losses = [i.item() for i in losses]\n",
        "\n",
        "# 처음 5개 값 출력\n",
        "new_losses[:5]"
      ],
      "id": "a58d8378-68f0-4d90-a1c5-7ea7a57850a6"
    },
    {
      "cell_type": "code",
      "execution_count": 74,
      "metadata": {
        "executionInfo": {
          "elapsed": 571,
          "status": "ok",
          "timestamp": 1688389906431,
          "user": {
            "displayName": "Jason Book Yim",
            "userId": "02824935638305274154"
          },
          "user_tz": -540
        },
        "outputId": "f1673a13-c41b-44ce-d665-b9c90f9f40bd"
      },
      "outputs": [
        {
          "output_type": "display_data",
          "metadata": {},
          "data": {
            "text/plain": [
              "[0.14343078434467316,\n",
              " 0.01811479963362217,\n",
              " 0.004169727675616741,\n",
              " 0.002496510511264205,\n",
              " 0.0032098903320729733]"
            ]
          }
        }
      ],
      "source": [
        "# 마지막 5개 값 출력\n",
        "new_losses[-5:]"
      ],
      "id": "c6f62ea7-5273-4619-bb1d-673561ba18e5"
    },
    {
      "cell_type": "code",
      "execution_count": 75,
      "metadata": {
        "executionInfo": {
          "elapsed": 851,
          "status": "ok",
          "timestamp": 1688389911224,
          "user": {
            "displayName": "Jason Book Yim",
            "userId": "02824935638305274154"
          },
          "user_tz": -540
        },
        "outputId": "d4c0ac01-9dae-4f64-8a26-cc65b35c2c3e"
      },
      "outputs": [
        {
          "output_type": "display_data",
          "metadata": {},
          "data": {
            "image/png": "[encoded data removed]"
          }
        }
      ],
      "source": [
        "# matplotlib 라이브러리의 pyplot 모듈을 약칭 plt로 import\n",
        "import matplotlib.pyplot as plt\n",
        "plt.plot(new_losses)\n",
        "plt.show();"
      ],
      "id": "869ef3b5-9fd5-4994-9399-bc7dc0e73137"
    },
    {
      "cell_type": "code",
      "execution_count": 76,
      "metadata": {
        "executionInfo": {
          "elapsed": 27143,
          "status": "ok",
          "timestamp": 1688389943284,
          "user": {
            "displayName": "Jason Book Yim",
            "userId": "02824935638305274154"
          },
          "user_tz": -540
        },
        "outputId": "51815371-6a77-476b-d818-b0a66d55c2e2"
      },
      "outputs": [
        {
          "output_type": "stream",
          "name": "stdout",
          "text": [
            "0.864"
          ]
        }
      ],
      "source": [
        "# 모델을 eval 모드로 전환\n",
        "model.eval()\n",
        "\n",
        "# 변수 l이라는 컨테이너 리스트 생성\n",
        "l = []\n",
        "\n",
        "# 반복 루프\n",
        "for test_text in test_texts:\n",
        "\n",
        "  # 토크나이징을 통한 인코딩\n",
        "  input_tokens = tokenizer([test_text], truncation=True, padding=True)\n",
        "\n",
        "  # 모델을 사용한 추론\n",
        "  outputs = model(torch.tensor(input_tokens['input_ids']).to(device))\n",
        "\n",
        "  # outputs에 담긴 logits값을 기준으로 행 단위로, 즉 입력 문장 단위로 가장 큰 logits값의 인덱스를 출력 후\n",
        "  # item( )을 사용하여 결과물 텐서 값을 추출하고 CPU로 전송\n",
        "  # 이렇게 처리된 값을 입력문장별로 append( )를 통해 컨테이너 리스트 l에 하나씩 저장\n",
        "  l.append(torch.argmax(outputs['logits'], axis=1).item())\n",
        "\n",
        "# 변수 correct_cnt 초기값을 0으로 설정\n",
        "correct_cnt = 0\n",
        "\n",
        "# 리스트 l과 test_labels를 zip( )을 통해 쌍(pair)으로 묶은 후 각기 pred와 ans라는 변수로 추출\n",
        "# zip()안의 데이터 쌍이 소진될 때까지 if문을 반복하여 계속 실행\n",
        "for pred, ans in zip(l, test_labels):\n",
        "  if pred == ans:\n",
        "    # if 조건문이 참인 경우 correct_cnt값을 1씩 증가\n",
        "    correct_cnt += 1\n",
        "\n",
        "# 정확도(accuracy) 계산\n",
        "# correct_cnt는 pred와 ans가 일치하는 건수의 총합\n",
        "# len(test_labels)는 레이블 개수의 총합, 즉 입력 문장 전체 건수\n",
        "print(correct_cnt/len(test_labels))\n"
      ],
      "id": "2861e0a9-701b-4e90-9b73-4baeeaace695"
    }
  ],
  "nbformat": 4,
  "nbformat_minor": 5,
  "metadata": {
    "kernelspec": {
      "name": "python3",
      "display_name": "Python 3 (ipykernel)",
      "language": "python"
    },
    "language_info": {
      "name": "python",
      "codemirror_mode": {
        "name": "ipython",
        "version": "3"
      },
      "file_extension": ".py",
      "mimetype": "text/x-python",
      "nbconvert_exporter": "python",
      "pygments_lexer": "ipython3",
      "version": "3.12.4"
    }
  }
}