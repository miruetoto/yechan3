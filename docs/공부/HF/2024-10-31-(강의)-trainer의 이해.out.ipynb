{
  "cells": [
    {
      "cell_type": "markdown",
      "metadata": {},
      "source": [
        "# (강의) trainer의 이해\n",
        "\n",
        "신록예찬  \n",
        "2024-10-31"
      ],
      "id": "8f1cfc92-82e4-46fc-8df1-e77dca5b2f76"
    }
  ],
  "nbformat": 4,
  "nbformat_minor": 5,
  "metadata": {
    "kernelspec": {
      "name": "python3",
      "display_name": "Python 3",
      "language": "python"
    },
    "language_info": {
      "name": "python"
    }
  }
}