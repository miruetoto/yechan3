{
  "cells": [
    {
      "cell_type": "markdown",
      "metadata": {},
      "source": [
        "# Image captioning"
      ],
      "id": "8463c4ee-9459-403a-a7b6-8c3f3261c3c8"
    },
    {
      "cell_type": "code",
      "execution_count": null,
      "metadata": {},
      "outputs": [],
      "source": [
        "# Transformers installation\n",
        "! pip install transformers datasets\n",
        "# To install from source instead of the last release, comment the command above and uncomment the following one.\n",
        "# ! pip install git+https://github.com/huggingface/transformers.git"
      ],
      "id": "cell-0"
    },
    {
      "cell_type": "markdown",
      "metadata": {},
      "source": [
        "# Image captioning\n",
        "\n",
        "Image captioning is the task of predicting a caption for a given image.\n",
        "Common real world applications of it include aiding visually impaired\n",
        "people that can help them navigate through different situations.\n",
        "Therefore, image captioning helps to improve content accessibility for\n",
        "people by describing images to them.\n",
        "\n",
        "This guide will show you how to:\n",
        "\n",
        "-   Fine-tune an image captioning model.\n",
        "-   Use the fine-tuned model for inference.\n",
        "\n",
        "Before you begin, make sure you have all the necessary libraries\n",
        "installed:\n",
        "\n",
        "``` bash\n",
        "pip install transformers datasets evaluate -q\n",
        "pip install jiwer -q\n",
        "```\n",
        "\n",
        "We encourage you to log in to your Hugging Face account so you can\n",
        "upload and share your model with the community. When prompted, enter\n",
        "your token to log in:"
      ],
      "id": "0db9286e-0763-444f-a850-e8a389ea02c8"
    },
    {
      "cell_type": "code",
      "execution_count": 6,
      "metadata": {},
      "outputs": [],
      "source": [
        "from huggingface_hub import notebook_login\n",
        "\n",
        "notebook_login()"
      ],
      "id": "cell-3"
    },
    {
      "cell_type": "markdown",
      "metadata": {},
      "source": [
        "## Load the Pokémon BLIP captions dataset\n",
        "\n",
        "Use the 🤗 Dataset library to load a dataset that consists of\n",
        "{image-caption} pairs. To create your own image captioning dataset in\n",
        "PyTorch, you can follow [this\n",
        "notebook](https://github.com/NielsRogge/Transformers-Tutorials/blob/master/GIT/Fine_tune_GIT_on_an_image_captioning_dataset.ipynb)."
      ],
      "id": "2b90dc46-3e28-415c-a4f3-085b991f3a2e"
    },
    {
      "cell_type": "code",
      "execution_count": 12,
      "metadata": {},
      "outputs": [
        {
          "output_type": "stream",
          "name": "stderr",
          "text": [
            "Downloading readme: 100%|██████████| 14.2k/14.2k [00:00<00:00, 21.4MB/s]\n",
            "Downloading data: 100%|██████████| 187M/187M [00:07<00:00, 24.9MB/s] \n",
            "Downloading data: 100%|██████████| 187M/187M [00:07<00:00, 25.2MB/s] \n",
            "Downloading data: 100%|██████████| 1.77M/1.77M [00:00<00:00, 2.97MB/s]\n",
            "Generating train split: 100%|██████████| 3318333/3318333 [00:01<00:00, 2439176.10 examples/s]\n",
            "Generating validation split: 100%|██████████| 15840/15840 [00:00<00:00, 2203867.03 examples/s]"
          ]
        },
        {
          "output_type": "display_data",
          "metadata": {},
          "data": {
            "text/plain": [
              "Dataset({\n",
              "    features: ['image_url', 'caption'],\n",
              "    num_rows: 3318333\n",
              "})"
            ]
          }
        }
      ],
      "source": [
        "from datasets import load_dataset\n",
        "\n",
        "# Conceptual Captions 데이터셋 불러오기\n",
        "ds = load_dataset(\"conceptual_captions\", split=\"train\")\n",
        "\n",
        "ds"
      ],
      "id": "cell-6"
    },
    {
      "cell_type": "code",
      "execution_count": 14,
      "metadata": {},
      "outputs": [
        {
          "output_type": "display_data",
          "metadata": {},
          "data": {
            "text/plain": [
              "Dataset({\n",
              "    features: ['image_url', 'caption'],\n",
              "    num_rows: 3318333\n",
              "})"
            ]
          }
        }
      ],
      "source": [
        "ds"
      ],
      "id": "cell-7"
    },
    {
      "cell_type": "code",
      "execution_count": 16,
      "metadata": {},
      "outputs": [],
      "source": [
        "ds = ds.train_test_split(test_size=0.1)\n",
        "train_ds = ds[\"train\"]\n",
        "test_ds = ds[\"test\"]"
      ],
      "id": "cell-8"
    },
    {
      "cell_type": "markdown",
      "metadata": {},
      "source": [
        "Let’s visualize a couple of samples from the training set."
      ],
      "id": "f101a0bc-66c4-4eda-8aef-528570535f59"
    },
    {
      "cell_type": "code",
      "execution_count": 22,
      "metadata": {},
      "outputs": [
        {
          "output_type": "display_data",
          "metadata": {},
          "data": {
            "text/plain": [
              "{'image_url': 'http://l7.alamy.com/zooms/a95a95341dcb4ebd810d5a30503bb98a/fisherman-sell-seafood-at-the-fish-market-fg4p25.jpg',\n",
              " 'caption': 'sell seafood at the fish market'}"
            ]
          }
        }
      ],
      "source": [
        "train_ds"
      ],
      "id": "cell-10"
    },
    {
      "cell_type": "code",
      "execution_count": 19,
      "metadata": {},
      "outputs": [],
      "source": [
        "from textwrap import wrap\n",
        "import matplotlib.pyplot as plt\n",
        "import numpy as np\n",
        "\n",
        "\n",
        "def plot_images(images, captions):\n",
        "    plt.figure(figsize=(20, 20))\n",
        "    for i in range(len(images)):\n",
        "        ax = plt.subplot(1, len(images), i + 1)\n",
        "        caption = captions[i]\n",
        "        caption = \"\\n\".join(wrap(caption, 12))\n",
        "        plt.title(caption)\n",
        "        plt.imshow(images[i])\n",
        "        plt.axis(\"off\")\n",
        "\n",
        "\n",
        "sample_images_to_visualize = [np.array(train_ds[i][\"image\"]) for i in range(5)]\n",
        "sample_captions = [train_ds[i][\"text\"] for i in range(5)]\n",
        "plot_images(sample_images_to_visualize, sample_captions)"
      ],
      "id": "cell-11"
    },
    {
      "cell_type": "markdown",
      "metadata": {},
      "source": [
        "    <img src=\"https://huggingface.co/datasets/huggingface/documentation-images/resolve/main/transformers/tasks/sample_training_images_image_cap.png\" alt=\"Sample training images\"/>\n",
        "\n",
        "## Preprocess the dataset\n",
        "\n",
        "Since the dataset has two modalities (image and text), the\n",
        "pre-processing pipeline will preprocess images and the captions.\n",
        "\n",
        "To do so, load the processor class associated with the model you are\n",
        "about to fine-tune."
      ],
      "id": "3646cf15-111c-4529-9fa5-ab57491a5f2a"
    },
    {
      "cell_type": "code",
      "execution_count": null,
      "metadata": {},
      "outputs": [],
      "source": [
        "from transformers import AutoProcessor\n",
        "\n",
        "checkpoint = \"microsoft/git-base\"\n",
        "processor = AutoProcessor.from_pretrained(checkpoint)"
      ],
      "id": "cell-15"
    },
    {
      "cell_type": "markdown",
      "metadata": {},
      "source": [
        "The processor will internally pre-process the image (which includes\n",
        "resizing, and pixel scaling) and tokenize the caption."
      ],
      "id": "aa3391d6-fda3-4db7-a8c1-71b77f67b9e2"
    },
    {
      "cell_type": "code",
      "execution_count": null,
      "metadata": {},
      "outputs": [],
      "source": [
        "def transforms(example_batch):\n",
        "    images = [x for x in example_batch[\"image\"]]\n",
        "    captions = [x for x in example_batch[\"text\"]]\n",
        "    inputs = processor(images=images, text=captions, padding=\"max_length\")\n",
        "    inputs.update({\"labels\": inputs[\"input_ids\"]})\n",
        "    return inputs\n",
        "\n",
        "\n",
        "train_ds.set_transform(transforms)\n",
        "test_ds.set_transform(transforms)"
      ],
      "id": "cell-17"
    },
    {
      "cell_type": "markdown",
      "metadata": {},
      "source": [
        "With the dataset ready, you can now set up the model for fine-tuning.\n",
        "\n",
        "## Load a base model\n",
        "\n",
        "Load the\n",
        "[“microsoft/git-base”](https://huggingface.co/microsoft/git-base) into a\n",
        "[`AutoModelForCausalLM`](https://huggingface.co/docs/transformers/model_doc/auto#transformers.AutoModelForCausalLM)\n",
        "object."
      ],
      "id": "ca365f2f-fee9-421d-b9f5-1d903056d070"
    },
    {
      "cell_type": "code",
      "execution_count": null,
      "metadata": {},
      "outputs": [],
      "source": [
        "from transformers import AutoModelForCausalLM\n",
        "\n",
        "model = AutoModelForCausalLM.from_pretrained(checkpoint)"
      ],
      "id": "cell-21"
    },
    {
      "cell_type": "markdown",
      "metadata": {},
      "source": [
        "## Evaluate\n",
        "\n",
        "Image captioning models are typically evaluated with the [Rouge\n",
        "Score](https://huggingface.co/spaces/evaluate-metric/rouge) or [Word\n",
        "Error Rate](https://huggingface.co/spaces/evaluate-metric/wer). For this\n",
        "guide, you will use the Word Error Rate (WER).\n",
        "\n",
        "We use the 🤗 Evaluate library to do so. For potential limitations and\n",
        "other gotchas of the WER, refer to [this\n",
        "guide](https://huggingface.co/spaces/evaluate-metric/wer)."
      ],
      "id": "0256b1bf-2bde-4097-8d7d-534dd1694c39"
    },
    {
      "cell_type": "code",
      "execution_count": null,
      "metadata": {},
      "outputs": [],
      "source": [
        "from evaluate import load\n",
        "import torch\n",
        "\n",
        "wer = load(\"wer\")\n",
        "\n",
        "\n",
        "def compute_metrics(eval_pred):\n",
        "    logits, labels = eval_pred\n",
        "    predicted = logits.argmax(-1)\n",
        "    decoded_labels = processor.batch_decode(labels, skip_special_tokens=True)\n",
        "    decoded_predictions = processor.batch_decode(predicted, skip_special_tokens=True)\n",
        "    wer_score = wer.compute(predictions=decoded_predictions, references=decoded_labels)\n",
        "    return {\"wer_score\": wer_score}"
      ],
      "id": "cell-24"
    },
    {
      "cell_type": "markdown",
      "metadata": {},
      "source": [
        "## Train!\n",
        "\n",
        "Now, you are ready to start fine-tuning the model. You will use the 🤗\n",
        "[Trainer](https://huggingface.co/docs/transformers/main/en/main_classes/trainer#transformers.Trainer)\n",
        "for this.\n",
        "\n",
        "First, define the training arguments using\n",
        "[TrainingArguments](https://huggingface.co/docs/transformers/main/en/main_classes/trainer#transformers.TrainingArguments)."
      ],
      "id": "c8690825-7e1e-49dc-af68-556fc104a562"
    },
    {
      "cell_type": "code",
      "execution_count": null,
      "metadata": {},
      "outputs": [],
      "source": [
        "from transformers import TrainingArguments, Trainer\n",
        "\n",
        "model_name = checkpoint.split(\"/\")[1]\n",
        "\n",
        "training_args = TrainingArguments(\n",
        "    output_dir=f\"{model_name}-pokemon\",\n",
        "    learning_rate=5e-5,\n",
        "    num_train_epochs=50,\n",
        "    fp16=True,\n",
        "    per_device_train_batch_size=32,\n",
        "    per_device_eval_batch_size=32,\n",
        "    gradient_accumulation_steps=2,\n",
        "    save_total_limit=3,\n",
        "    evaluation_strategy=\"steps\",\n",
        "    eval_steps=50,\n",
        "    save_strategy=\"steps\",\n",
        "    save_steps=50,\n",
        "    logging_steps=50,\n",
        "    remove_unused_columns=False,\n",
        "    push_to_hub=True,\n",
        "    label_names=[\"labels\"],\n",
        "    load_best_model_at_end=True,\n",
        ")"
      ],
      "id": "cell-27"
    },
    {
      "cell_type": "markdown",
      "metadata": {},
      "source": [
        "Then pass them along with the datasets and the model to 🤗 Trainer."
      ],
      "id": "d76ff84a-f0fa-47b3-9266-74da71ad77e3"
    },
    {
      "cell_type": "code",
      "execution_count": null,
      "metadata": {},
      "outputs": [],
      "source": [
        "trainer = Trainer(\n",
        "    model=model,\n",
        "    args=training_args,\n",
        "    train_dataset=train_ds,\n",
        "    eval_dataset=test_ds,\n",
        "    compute_metrics=compute_metrics,\n",
        ")"
      ],
      "id": "cell-29"
    },
    {
      "cell_type": "markdown",
      "metadata": {},
      "source": [
        "To start training, simply call\n",
        "[train()](https://huggingface.co/docs/transformers/main/en/main_classes/trainer#transformers.Trainer.train)\n",
        "on the\n",
        "[Trainer](https://huggingface.co/docs/transformers/main/en/main_classes/trainer#transformers.Trainer)\n",
        "object."
      ],
      "id": "1677952f-968e-43ab-a588-6226fc5c6bcd"
    },
    {
      "cell_type": "code",
      "execution_count": null,
      "metadata": {},
      "outputs": [],
      "source": [
        "trainer.train()"
      ],
      "id": "cell-31"
    },
    {
      "cell_type": "markdown",
      "metadata": {},
      "source": [
        "You should see the training loss drop smoothly as training progresses.\n",
        "\n",
        "Once training is completed, share your model to the Hub with the\n",
        "[push_to_hub()](https://huggingface.co/docs/transformers/main/en/main_classes/trainer#transformers.Trainer.push_to_hub)\n",
        "method so everyone can use your model:"
      ],
      "id": "c3749658-c9bb-4865-b9ad-11969008c82e"
    },
    {
      "cell_type": "code",
      "execution_count": null,
      "metadata": {},
      "outputs": [],
      "source": [
        "trainer.push_to_hub()"
      ],
      "id": "cell-33"
    },
    {
      "cell_type": "markdown",
      "metadata": {},
      "source": [
        "## Inference\n",
        "\n",
        "Take a sample image from `test_ds` to test the model."
      ],
      "id": "42fc1016-e4a1-4201-83bb-0ca21aefe14c"
    },
    {
      "cell_type": "code",
      "execution_count": null,
      "metadata": {},
      "outputs": [],
      "source": [
        "from PIL import Image\n",
        "import requests\n",
        "\n",
        "url = \"https://huggingface.co/datasets/sayakpaul/sample-datasets/resolve/main/pokemon.png\"\n",
        "image = Image.open(requests.get(url, stream=True).raw)\n",
        "image"
      ],
      "id": "cell-36"
    },
    {
      "cell_type": "markdown",
      "metadata": {},
      "source": [
        "    <img src=\"https://huggingface.co/datasets/huggingface/documentation-images/resolve/main/transformers/tasks/test_image_image_cap.png\" alt=\"Test image\"/>\n",
        "\n",
        "Prepare image for the model."
      ],
      "id": "1e8e972d-35a3-4ba3-967e-95731abe401e"
    },
    {
      "cell_type": "code",
      "execution_count": null,
      "metadata": {},
      "outputs": [],
      "source": [
        "device = \"cuda\" if torch.cuda.is_available() else \"cpu\"\n",
        "\n",
        "inputs = processor(images=image, return_tensors=\"pt\").to(device)\n",
        "pixel_values = inputs.pixel_values"
      ],
      "id": "cell-38"
    },
    {
      "cell_type": "markdown",
      "metadata": {},
      "source": [
        "Call `generate` and decode the predictions."
      ],
      "id": "69ad492c-fff3-4b53-ae35-1469540d286e"
    },
    {
      "cell_type": "code",
      "execution_count": null,
      "metadata": {},
      "outputs": [],
      "source": [
        "generated_ids = model.generate(pixel_values=pixel_values, max_length=50)\n",
        "generated_caption = processor.batch_decode(generated_ids, skip_special_tokens=True)[0]\n",
        "print(generated_caption)"
      ],
      "id": "cell-40"
    },
    {
      "cell_type": "markdown",
      "metadata": {},
      "source": [
        "``` bash\n",
        "a drawing of a pink and blue pokemon\n",
        "```\n",
        "\n",
        "Looks like the fine-tuned model generated a pretty good caption!"
      ],
      "id": "91b1cbd5-85b8-4eb2-ac8e-da35771b073c"
    }
  ],
  "nbformat": 4,
  "nbformat_minor": 5,
  "metadata": {
    "colab": {
      "provenance": []
    },
    "kernelspec": {
      "name": "python3",
      "display_name": "hf",
      "language": "python"
    },
    "language_info": {
      "name": "python",
      "codemirror_mode": {
        "name": "ipython",
        "version": "3"
      },
      "file_extension": ".py",
      "mimetype": "text/x-python",
      "nbconvert_exporter": "python",
      "pygments_lexer": "ipython3",
      "version": "3.12.2"
    }
  }
}