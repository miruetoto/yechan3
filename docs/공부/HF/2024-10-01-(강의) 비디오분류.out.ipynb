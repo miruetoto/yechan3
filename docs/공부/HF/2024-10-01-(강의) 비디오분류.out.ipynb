{
  "cells": [
    {
      "cell_type": "markdown",
      "metadata": {},
      "source": [
        "# (강의) 비디오분류\n",
        "\n",
        "신록예찬  \n",
        "2024-10-01\n",
        "\n",
        "# 1. 강의영상\n",
        "\n",
        "# 2. Ref\n",
        "\n",
        "ref:\n",
        "<https://huggingface.co/docs/transformers/tasks/video_classification>"
      ],
      "id": "bc58f508-306c-435a-b4ad-b962ddeabaa0"
    },
    {
      "cell_type": "code",
      "execution_count": 1,
      "metadata": {},
      "outputs": [
        {
          "output_type": "stream",
          "name": "stderr",
          "text": [
            "/home/cgb3/anaconda3/envs/hf/lib/python3.12/site-packages/tqdm/auto.py:21: TqdmWarning: IProgress not found. Please update jupyter and ipywidgets. See https://ipywidgets.readthedocs.io/en/stable/user_install.html\n",
            "  from .autonotebook import tqdm as notebook_tqdm"
          ]
        }
      ],
      "source": [
        "from huggingface_hub import hf_hub_download\n",
        "\n",
        "hf_dataset_identifier = \"sayakpaul/ucf101-subset\"\n",
        "filename = \"UCF101_subset.tar.gz\"\n",
        "file_path = hf_hub_download(repo_id=hf_dataset_identifier, filename=filename, repo_type=\"dataset\")"
      ],
      "id": "cell-4"
    },
    {
      "cell_type": "code",
      "execution_count": 2,
      "metadata": {},
      "outputs": [],
      "source": [
        "import tarfile\n",
        "\n",
        "with tarfile.open(file_path) as t:\n",
        "     t.extractall(\".\")"
      ],
      "id": "cell-5"
    },
    {
      "cell_type": "code",
      "execution_count": 3,
      "metadata": {},
      "outputs": [],
      "source": [
        "import pathlib\n",
        "dataset_root_path = \"UCF101_subset\"\n",
        "dataset_root_path = pathlib.Path(dataset_root_path)"
      ],
      "id": "cell-6"
    },
    {
      "cell_type": "code",
      "execution_count": 4,
      "metadata": {},
      "outputs": [
        {
          "output_type": "stream",
          "name": "stdout",
          "text": [
            "Total videos: 405"
          ]
        }
      ],
      "source": [
        "video_count_train = len(list(dataset_root_path.glob(\"train/*/*.avi\")))\n",
        "video_count_val = len(list(dataset_root_path.glob(\"val/*/*.avi\")))\n",
        "video_count_test = len(list(dataset_root_path.glob(\"test/*/*.avi\")))\n",
        "video_total = video_count_train + video_count_val + video_count_test\n",
        "print(f\"Total videos: {video_total}\")"
      ],
      "id": "cell-7"
    },
    {
      "cell_type": "code",
      "execution_count": 5,
      "metadata": {},
      "outputs": [
        {
          "output_type": "display_data",
          "metadata": {},
          "data": {
            "text/plain": [
              "[PosixPath('UCF101_subset/train/ApplyEyeMakeup/v_ApplyEyeMakeup_g09_c06.avi'),\n",
              " PosixPath('UCF101_subset/train/ApplyEyeMakeup/v_ApplyEyeMakeup_g06_c03.avi'),\n",
              " PosixPath('UCF101_subset/train/ApplyEyeMakeup/v_ApplyEyeMakeup_g25_c01.avi'),\n",
              " PosixPath('UCF101_subset/train/ApplyEyeMakeup/v_ApplyEyeMakeup_g04_c07.avi'),\n",
              " PosixPath('UCF101_subset/train/ApplyEyeMakeup/v_ApplyEyeMakeup_g19_c02.avi')]"
            ]
          }
        }
      ],
      "source": [
        "all_video_file_paths = (\n",
        "    list(dataset_root_path.glob(\"train/*/*.avi\"))\n",
        "    + list(dataset_root_path.glob(\"val/*/*.avi\"))\n",
        "    + list(dataset_root_path.glob(\"test/*/*.avi\"))\n",
        " )\n",
        "all_video_file_paths[:5]"
      ],
      "id": "cell-8"
    },
    {
      "cell_type": "code",
      "execution_count": 6,
      "metadata": {},
      "outputs": [
        {
          "output_type": "stream",
          "name": "stdout",
          "text": [
            "Unique classes: ['ApplyEyeMakeup', 'ApplyLipstick', 'Archery', 'BabyCrawling', 'BalanceBeam', 'BandMarching', 'BaseballPitch', 'Basketball', 'BasketballDunk', 'BenchPress']."
          ]
        }
      ],
      "source": [
        "class_labels = sorted({str(path).split(\"/\")[2] for path in all_video_file_paths})\n",
        "label2id = {label: i for i, label in enumerate(class_labels)}\n",
        "id2label = {i: label for label, i in label2id.items()}\n",
        "\n",
        "print(f\"Unique classes: {list(label2id.keys())}.\")\n"
      ],
      "id": "cell-9"
    },
    {
      "cell_type": "code",
      "execution_count": 7,
      "metadata": {},
      "outputs": [
        {
          "output_type": "stream",
          "name": "stderr",
          "text": [
            "Some weights of VideoMAEForVideoClassification were not initialized from the model checkpoint at MCG-NJU/videomae-base and are newly initialized: ['classifier.bias', 'classifier.weight']\n",
            "You should probably TRAIN this model on a down-stream task to be able to use it for predictions and inference."
          ]
        }
      ],
      "source": [
        "from transformers import VideoMAEImageProcessor, VideoMAEForVideoClassification\n",
        "\n",
        "model_ckpt = \"MCG-NJU/videomae-base\"\n",
        "image_processor = VideoMAEImageProcessor.from_pretrained(model_ckpt)\n",
        "model = VideoMAEForVideoClassification.from_pretrained(\n",
        "    model_ckpt,\n",
        "    label2id=label2id,\n",
        "    id2label=id2label,\n",
        "    ignore_mismatched_sizes=True,  # provide this in case you're planning to fine-tune an already fine-tuned checkpoint\n",
        ")"
      ],
      "id": "cell-10"
    },
    {
      "cell_type": "code",
      "execution_count": 8,
      "metadata": {},
      "outputs": [],
      "source": [
        "import pytorchvideo.data\n",
        "\n",
        "from pytorchvideo.transforms import (\n",
        "    ApplyTransformToKey,\n",
        "    Normalize,\n",
        "    RandomShortSideScale,\n",
        "    RemoveKey,\n",
        "    ShortSideScale,\n",
        "    UniformTemporalSubsample,\n",
        ")\n",
        "\n",
        "from torchvision.transforms import (\n",
        "    Compose,\n",
        "    Lambda,\n",
        "    RandomCrop,\n",
        "    RandomHorizontalFlip,\n",
        "    Resize,\n",
        ")"
      ],
      "id": "cell-11"
    },
    {
      "cell_type": "code",
      "execution_count": 9,
      "metadata": {},
      "outputs": [],
      "source": [
        "mean = image_processor.image_mean\n",
        "std = image_processor.image_std\n",
        "if \"shortest_edge\" in image_processor.size:\n",
        "    height = width = image_processor.size[\"shortest_edge\"]\n",
        "else:\n",
        "    height = image_processor.size[\"height\"]\n",
        "    width = image_processor.size[\"width\"]\n",
        "resize_to = (height, width)\n",
        "\n",
        "num_frames_to_sample = model.config.num_frames\n",
        "sample_rate = 4\n",
        "fps = 30\n",
        "clip_duration = num_frames_to_sample * sample_rate / fps"
      ],
      "id": "cell-12"
    },
    {
      "cell_type": "code",
      "execution_count": 10,
      "metadata": {},
      "outputs": [],
      "source": [
        "import os\n",
        "train_transform = Compose(\n",
        "    [\n",
        "        ApplyTransformToKey(\n",
        "            key=\"video\",\n",
        "            transform=Compose(\n",
        "                [\n",
        "                    UniformTemporalSubsample(num_frames_to_sample),\n",
        "                    Lambda(lambda x: x / 255.0),\n",
        "                    Normalize(mean, std),\n",
        "                    RandomShortSideScale(min_size=256, max_size=320),\n",
        "                    RandomCrop(resize_to),\n",
        "                    RandomHorizontalFlip(p=0.5),\n",
        "                ]\n",
        "            ),\n",
        "        ),\n",
        "    ]\n",
        ")\n",
        "\n",
        "train_dataset = pytorchvideo.data.Ucf101(\n",
        "    data_path=os.path.join(dataset_root_path, \"train\"),\n",
        "    clip_sampler=pytorchvideo.data.make_clip_sampler(\"random\", clip_duration),\n",
        "    decode_audio=False,\n",
        "    transform=train_transform,\n",
        ")"
      ],
      "id": "cell-13"
    },
    {
      "cell_type": "code",
      "execution_count": 11,
      "metadata": {},
      "outputs": [
        {
          "output_type": "display_data",
          "metadata": {},
          "data": {
            "text/plain": [
              "<pytorchvideo.data.labeled_video_dataset.LabeledVideoDataset at 0x71632da07fe0>"
            ]
          }
        }
      ],
      "source": [
        "train_dataset"
      ],
      "id": "cell-14"
    },
    {
      "cell_type": "code",
      "execution_count": 12,
      "metadata": {},
      "outputs": [],
      "source": [
        "val_transform = Compose(\n",
        "    [\n",
        "        ApplyTransformToKey(\n",
        "            key=\"video\",\n",
        "            transform=Compose(\n",
        "                [\n",
        "                    UniformTemporalSubsample(num_frames_to_sample),\n",
        "                    Lambda(lambda x: x / 255.0),\n",
        "                    Normalize(mean, std),\n",
        "                    Resize(resize_to),\n",
        "                ]\n",
        "            ),\n",
        "        ),\n",
        "    ]\n",
        ")\n",
        "\n",
        "val_dataset = pytorchvideo.data.Ucf101(\n",
        "    data_path=os.path.join(dataset_root_path, \"val\"),\n",
        "    clip_sampler=pytorchvideo.data.make_clip_sampler(\"uniform\", clip_duration),\n",
        "    decode_audio=False,\n",
        "    transform=val_transform,\n",
        ")\n",
        "\n",
        "test_dataset = pytorchvideo.data.Ucf101(\n",
        "    data_path=os.path.join(dataset_root_path, \"test\"),\n",
        "    clip_sampler=pytorchvideo.data.make_clip_sampler(\"uniform\", clip_duration),\n",
        "    decode_audio=False,\n",
        "    transform=val_transform,\n",
        ")"
      ],
      "id": "cell-15"
    },
    {
      "cell_type": "code",
      "execution_count": 13,
      "metadata": {},
      "outputs": [
        {
          "output_type": "stream",
          "name": "stdout",
          "text": [
            "300 30 75"
          ]
        }
      ],
      "source": [
        "print(train_dataset.num_videos, val_dataset.num_videos, test_dataset.num_videos)"
      ],
      "id": "cell-16"
    },
    {
      "cell_type": "code",
      "execution_count": 14,
      "metadata": {},
      "outputs": [
        {
          "output_type": "display_data",
          "metadata": {},
          "data": {
            "text/plain": [
              "<IPython.core.display.Image object>"
            ]
          }
        }
      ],
      "source": [
        "import imageio\n",
        "import numpy as np\n",
        "from IPython.display import Image\n",
        "\n",
        "def unnormalize_img(img):\n",
        "    \"\"\"Un-normalizes the image pixels.\"\"\"\n",
        "    img = (img * std) + mean\n",
        "    img = (img * 255).astype(\"uint8\")\n",
        "    return img.clip(0, 255)\n",
        "\n",
        "def create_gif(video_tensor, filename=\"sample.gif\"):\n",
        "    \"\"\"Prepares a GIF from a video tensor.\n",
        "    \n",
        "    The video tensor is expected to have the following shape:\n",
        "    (num_frames, num_channels, height, width).\n",
        "    \"\"\"\n",
        "    frames = []\n",
        "    for video_frame in video_tensor:\n",
        "        frame_unnormalized = unnormalize_img(video_frame.permute(1, 2, 0).numpy())\n",
        "        frames.append(frame_unnormalized)\n",
        "    kargs = {\"duration\": 0.25}\n",
        "    imageio.mimsave(filename, frames, \"GIF\", **kargs)\n",
        "    return filename\n",
        "\n",
        "def display_gif(video_tensor, gif_name=\"sample.gif\"):\n",
        "    \"\"\"Prepares and displays a GIF from a video tensor.\"\"\"\n",
        "    video_tensor = video_tensor.permute(1, 0, 2, 3)\n",
        "    gif_filename = create_gif(video_tensor, gif_name)\n",
        "    return Image(filename=gif_filename)\n",
        "\n",
        "sample_video = next(iter(train_dataset))\n",
        "video_tensor = sample_video[\"video\"]\n",
        "display_gif(video_tensor)"
      ],
      "id": "cell-17"
    },
    {
      "cell_type": "code",
      "execution_count": 16,
      "metadata": {},
      "outputs": [],
      "source": [
        "from transformers import TrainingArguments, Trainer\n",
        "\n",
        "model_name = model_ckpt.split(\"/\")[-1]\n",
        "new_model_name = f\"{model_name}-finetuned-ucf101-subset\"\n",
        "num_epochs = 4\n",
        "batch_size = 16\n",
        "args = TrainingArguments(\n",
        "    new_model_name,\n",
        "    remove_unused_columns=False,\n",
        "    eval_strategy=\"epoch\",\n",
        "    save_strategy=\"epoch\",\n",
        "    learning_rate=5e-5,\n",
        "    per_device_train_batch_size=batch_size,\n",
        "    per_device_eval_batch_size=batch_size,\n",
        "    warmup_ratio=0.1,\n",
        "    logging_steps=10,\n",
        "    load_best_model_at_end=True,\n",
        "    metric_for_best_model=\"accuracy\",\n",
        "    push_to_hub=False,\n",
        "    max_steps=(train_dataset.num_videos // batch_size) * num_epochs,\n",
        ")"
      ],
      "id": "cell-18"
    },
    {
      "cell_type": "code",
      "execution_count": 17,
      "metadata": {},
      "outputs": [],
      "source": [
        "import evaluate\n",
        "\n",
        "metric = evaluate.load(\"accuracy\")\n",
        "\n",
        "\n",
        "def compute_metrics(eval_pred):\n",
        "    predictions = np.argmax(eval_pred.predictions, axis=1)\n",
        "    return metric.compute(predictions=predictions, references=eval_pred.label_ids)"
      ],
      "id": "cell-19"
    },
    {
      "cell_type": "code",
      "execution_count": 18,
      "metadata": {},
      "outputs": [],
      "source": [
        "def collate_fn(examples):\n",
        "    # permute to (num_frames, num_channels, height, width)\n",
        "    pixel_values = torch.stack(\n",
        "        [example[\"video\"].permute(1, 0, 2, 3) for example in examples]\n",
        "    )\n",
        "    labels = torch.tensor([example[\"label\"] for example in examples])\n",
        "    return {\"pixel_values\": pixel_values, \"labels\": labels}"
      ],
      "id": "cell-20"
    },
    {
      "cell_type": "code",
      "execution_count": 19,
      "metadata": {},
      "outputs": [
        {
          "output_type": "stream",
          "name": "stderr",
          "text": [
            "max_steps is given, it will override any value given in num_train_epochs"
          ]
        }
      ],
      "source": [
        "trainer = Trainer(\n",
        "    model,\n",
        "    args,\n",
        "    train_dataset=train_dataset,\n",
        "    eval_dataset=val_dataset,\n",
        "    tokenizer=image_processor,\n",
        "    compute_metrics=compute_metrics,\n",
        "    data_collator=collate_fn,\n",
        ")"
      ],
      "id": "cell-21"
    },
    {
      "cell_type": "code",
      "execution_count": 20,
      "metadata": {},
      "outputs": [
        {
          "output_type": "display_data",
          "metadata": {},
          "data": {
            "text/html": [
              "<p>"
            ]
          }
        }
      ],
      "source": [
        "import torch\n",
        "train_results = trainer.train()"
      ],
      "id": "cell-22"
    },
    {
      "cell_type": "code",
      "execution_count": 37,
      "metadata": {},
      "outputs": [
        {
          "output_type": "display_data",
          "metadata": {},
          "data": {
            "text/plain": [
              "<IPython.core.display.Image object>"
            ]
          }
        }
      ],
      "source": [
        "sample_test_video = next(iter(test_dataset))\n",
        "display_gif(sample_test_video['video'])"
      ],
      "id": "cell-23"
    },
    {
      "cell_type": "code",
      "execution_count": 44,
      "metadata": {},
      "outputs": [
        {
          "output_type": "stream",
          "name": "stderr",
          "text": [
            "Hardware accelerator e.g. GPU is available in the environment, but no `device` argument is passed to the `Pipeline` object. Model will be on CPU."
          ]
        }
      ],
      "source": [
        "from transformers import pipeline\n",
        "video_cls = pipeline(\"video-classification\",model=\"videomae-base-finetuned-ucf101-subset/checkpoint-72/\")"
      ],
      "id": "cell-24"
    },
    {
      "cell_type": "code",
      "execution_count": 45,
      "metadata": {},
      "outputs": [
        {
          "output_type": "display_data",
          "metadata": {},
          "data": {
            "text/plain": [
              "[{'score': 0.7359927892684937, 'label': 'BasketballDunk'},\n",
              " {'score': 0.08402405679225922, 'label': 'BandMarching'},\n",
              " {'score': 0.050819315016269684, 'label': 'BalanceBeam'},\n",
              " {'score': 0.050216369330883026, 'label': 'BaseballPitch'},\n",
              " {'score': 0.02926969900727272, 'label': 'BabyCrawling'}]"
            ]
          }
        }
      ],
      "source": [
        "video_cls(\"https://huggingface.co/datasets/sayakpaul/ucf101-subset/resolve/main/v_BasketballDunk_g14_c06.avi\")"
      ],
      "id": "cell-25"
    },
    {
      "cell_type": "markdown",
      "metadata": {},
      "source": [
        "# 4. 살펴보기\n",
        "\n",
        "# pip install pytorchvideo \\# conda install conda-forge::pytorchvideo\n",
        "\n",
        "# pip install imageio"
      ],
      "id": "9ab0f37a-c848-4e6e-a22c-5f238742844e"
    },
    {
      "cell_type": "code",
      "execution_count": 28,
      "metadata": {},
      "outputs": [
        {
          "output_type": "stream",
          "name": "stderr",
          "text": [
            "/home/cgb3/anaconda3/envs/hf/lib/python3.12/site-packages/tqdm/auto.py:21: TqdmWarning: IProgress not found. Please update jupyter and ipywidgets. See https://ipywidgets.readthedocs.io/en/stable/user_install.html\n",
            "  from .autonotebook import tqdm as notebook_tqdm"
          ]
        }
      ],
      "source": [
        "import huggingface_hub\n",
        "import tarfile \n",
        "import pathlib\n",
        "import transformers\n",
        "import pytorchvideo.data\n",
        "import pytorchvideo.transforms\n",
        "import torchvision.transforms\n",
        "import os \n",
        "import evaluate\n",
        "import torch\n",
        "import numpy as np\n",
        "import imageio\n",
        "import IPython.display\n",
        "import matplotlib.pyplot as plt "
      ],
      "id": "cell-28"
    },
    {
      "cell_type": "code",
      "execution_count": 10,
      "metadata": {},
      "outputs": [],
      "source": [
        "def unnormalize_img(img):\n",
        "    \"\"\"Un-normalizes the image pixels.\"\"\"\n",
        "    img = (img * std) + mean\n",
        "    img = (img * 255).astype(\"uint8\")\n",
        "    return img.clip(0, 255)\n",
        "\n",
        "def create_gif(video_tensor, filename=\"sample.gif\"):\n",
        "    \"\"\"Prepares a GIF from a video tensor.\n",
        "    \n",
        "    The video tensor is expected to have the following shape:\n",
        "    (num_frames, num_channels, height, width).\n",
        "    \"\"\"\n",
        "    frames = []\n",
        "    for video_frame in video_tensor:\n",
        "        frame_unnormalized = unnormalize_img(video_frame.permute(1, 2, 0).numpy())\n",
        "        frames.append(frame_unnormalized)\n",
        "    kargs = {\"duration\": 0.25}\n",
        "    imageio.mimsave(filename, frames, \"GIF\", **kargs)\n",
        "    return filename\n",
        "\n",
        "def display_gif(video_tensor, gif_name=\"sample.gif\"):\n",
        "    \"\"\"Prepares and displays a GIF from a video tensor.\"\"\"\n",
        "    video_tensor = video_tensor.permute(1, 0, 2, 3)\n",
        "    gif_filename = create_gif(video_tensor, gif_name)\n",
        "    return IPython.display.Image(filename=gif_filename)\n",
        "\n",
        "# sample_video = next(iter(train_dataset))\n",
        "# video_tensor = sample_video[\"video\"]\n",
        "# display_gif(video_tensor)"
      ],
      "id": "cell-29"
    },
    {
      "cell_type": "markdown",
      "metadata": {},
      "source": [
        "## A. 다운로드\n",
        "\n",
        "`-` 처음 `/home/cgb3/.cache/`의 상태\n",
        "\n",
        "`-` `huggingface_hub.hf_hub_download` 의 역할: (1)\n",
        "“UCF101_subset.tar.gz” 라는 압축파일을 다운로드 (2) 다운로드한\n",
        "압축파일의 경로를 `str`으로 리턴"
      ],
      "id": "a78b76f8-6c61-4423-96a4-8890e304689f"
    },
    {
      "cell_type": "code",
      "execution_count": 11,
      "metadata": {},
      "outputs": [],
      "source": [
        "file_path = huggingface_hub.hf_hub_download(\n",
        "    repo_id=\"sayakpaul/ucf101-subset\", \n",
        "    filename=\"UCF101_subset.tar.gz\", \n",
        "    repo_type=\"dataset\"\n",
        ")"
      ],
      "id": "cell-33"
    },
    {
      "cell_type": "code",
      "execution_count": 12,
      "metadata": {},
      "outputs": [
        {
          "output_type": "display_data",
          "metadata": {},
          "data": {
            "text/plain": [
              "'/home/cgb3/.cache/huggingface/hub/datasets--sayakpaul--ucf101-subset/snapshots/b9984b8d2a95e4a1879e1b071e9433858d0bc24a/UCF101_subset.tar.gz'"
            ]
          }
        }
      ],
      "source": [
        "file_path"
      ],
      "id": "cell-34"
    },
    {
      "cell_type": "markdown",
      "metadata": {},
      "source": [
        "## B. 압축풀기\n",
        "\n",
        "`-` `tarfile.open` 사용방법1"
      ],
      "id": "6ecf546f-c160-41cd-bffd-3764dd56781f"
    },
    {
      "cell_type": "code",
      "execution_count": 5,
      "metadata": {},
      "outputs": [],
      "source": [
        "t = tarfile.open(file_path)"
      ],
      "id": "cell-37"
    },
    {
      "cell_type": "markdown",
      "metadata": {},
      "source": [
        "`-` `t` 의 주요기능"
      ],
      "id": "529bc479-25e6-44bd-a2a4-eb434d0df2a1"
    },
    {
      "cell_type": "code",
      "execution_count": 6,
      "metadata": {},
      "outputs": [
        {
          "output_type": "display_data",
          "metadata": {},
          "data": {
            "text/plain": [
              "False"
            ]
          }
        }
      ],
      "source": [
        "t.closed"
      ],
      "id": "cell-39"
    },
    {
      "cell_type": "code",
      "execution_count": 7,
      "metadata": {},
      "outputs": [],
      "source": [
        "t._check()"
      ],
      "id": "cell-40"
    },
    {
      "cell_type": "code",
      "execution_count": 8,
      "metadata": {},
      "outputs": [],
      "source": [
        "t.extractall(\"여기에\")"
      ],
      "id": "cell-41"
    },
    {
      "cell_type": "code",
      "execution_count": 9,
      "metadata": {},
      "outputs": [],
      "source": [
        "t.extractall(\"asdf\")"
      ],
      "id": "cell-42"
    },
    {
      "cell_type": "code",
      "execution_count": 10,
      "metadata": {},
      "outputs": [],
      "source": [
        "t.extractall(\".\")"
      ],
      "id": "cell-43"
    },
    {
      "cell_type": "code",
      "execution_count": 11,
      "metadata": {},
      "outputs": [],
      "source": [
        "t.close()"
      ],
      "id": "cell-44"
    },
    {
      "cell_type": "code",
      "execution_count": 12,
      "metadata": {},
      "outputs": [
        {
          "output_type": "display_data",
          "metadata": {},
          "data": {
            "text/plain": [
              "True"
            ]
          }
        }
      ],
      "source": [
        "t.closed"
      ],
      "id": "cell-45"
    },
    {
      "cell_type": "code",
      "execution_count": 13,
      "metadata": {},
      "outputs": [],
      "source": [
        "t.extractall(\"저기에\")"
      ],
      "id": "cell-46"
    },
    {
      "cell_type": "code",
      "execution_count": 14,
      "metadata": {},
      "outputs": [],
      "source": [
        "t._check()"
      ],
      "id": "cell-47"
    },
    {
      "cell_type": "markdown",
      "metadata": {},
      "source": [
        "`-` `tarfile.open` + `with` 문\n",
        "\n",
        "*아래의 코드를 작성하고 싶음*\n",
        "\n",
        "``` python\n",
        "1. `TarFile` 오브젝트 만듦.\n",
        "2. 열린상태인지 체크. (열린상태라면 에러메시지 발생하고 진행중지)\n",
        "3. 압축해제.\n",
        "4. 닫음.\n",
        "```\n",
        "\n",
        "*아래와 같이 쓸 수 있음*"
      ],
      "id": "4f9ea784-3205-49c8-8d6d-235138d7d7f0"
    },
    {
      "cell_type": "code",
      "execution_count": 20,
      "metadata": {},
      "outputs": [],
      "source": [
        "t = tarfile.open(file_path)\n",
        "t._check()\n",
        "t.extractall(\".\")\n",
        "t.close()\n"
      ],
      "id": "cell-52"
    },
    {
      "cell_type": "markdown",
      "metadata": {},
      "source": [
        "*이것을 아래와 같이 줄일 수 있음*"
      ],
      "id": "2de52bdd-f706-4a9c-9fa2-363e4f0f4b0d"
    },
    {
      "cell_type": "code",
      "execution_count": 21,
      "metadata": {},
      "outputs": [],
      "source": [
        "with tarfile.open(file_path) as t:\n",
        "    t.extractall(\".\")"
      ],
      "id": "cell-54"
    },
    {
      "cell_type": "markdown",
      "metadata": {},
      "source": [
        "## C. 영상확인\n",
        "\n",
        "`-` 원래는 아래가 실행되어야함."
      ],
      "id": "ff1ece70-aee8-4df6-b17d-3e738a278a66"
    },
    {
      "cell_type": "code",
      "execution_count": 22,
      "metadata": {},
      "outputs": [
        {
          "output_type": "display_data",
          "metadata": {},
          "data": {
            "text/html": [
              "<video src=\"UCF101_subset/train/ApplyEyeMakeup/v_ApplyEyeMakeup_g02_c03.avi\" controls  >\n",
              "      Your browser does not support the <code>video</code> element.\n",
              "    </video>"
            ]
          }
        }
      ],
      "source": [
        "IPython.display.Video('UCF101_subset/train/ApplyEyeMakeup/v_ApplyEyeMakeup_g02_c03.avi')"
      ],
      "id": "cell-57"
    },
    {
      "cell_type": "markdown",
      "metadata": {},
      "source": [
        "`-` `avi`를 `mp4`로 변환"
      ],
      "id": "03526568-b440-46c2-9459-a47c2e5a57cb"
    },
    {
      "cell_type": "code",
      "execution_count": 232,
      "metadata": {},
      "outputs": [
        {
          "output_type": "stream",
          "name": "stdout",
          "text": [
            "ffmpeg version 6.1.1 Copyright (c) 2000-2023 the FFmpeg developers\n",
            "  built with gcc 12.3.0 (conda-forge gcc 12.3.0-7)\n",
            "  configuration: --prefix=/home/conda/feedstock_root/build_artifacts/ffmpeg_1716145014501/_h_env_placehold_placehold_placehold_placehold_placehold_placehold_placehold_placehold_placehold_placehold_placehold_placehold_placehold_placehold_placehold_placehold_placehold_placehold_plac --cc=/home/conda/feedstock_root/build_artifacts/ffmpeg_1716145014501/_build_env/bin/x86_64-conda-linux-gnu-cc --cxx=/home/conda/feedstock_root/build_artifacts/ffmpeg_1716145014501/_build_env/bin/x86_64-conda-linux-gnu-c++ --nm=/home/conda/feedstock_root/build_artifacts/ffmpeg_1716145014501/_build_env/bin/x86_64-conda-linux-gnu-nm --ar=/home/conda/feedstock_root/build_artifacts/ffmpeg_1716145014501/_build_env/bin/x86_64-conda-linux-gnu-ar --disable-doc --disable-openssl --enable-demuxer=dash --enable-hardcoded-tables --enable-libfreetype --enable-libharfbuzz --enable-libfontconfig --enable-libopenh264 --enable-libdav1d --enable-gnutls --enable-libmp3lame --enable-libvpx --enable-libass --enable-pthreads --enable-vaapi --enable-libopenvino --enable-gpl --enable-libx264 --enable-libx265 --enable-libaom --enable-libsvtav1 --enable-libxml2 --enable-pic --enable-shared --disable-static --enable-version3 --enable-zlib --enable-libopus --pkg-config=/home/conda/feedstock_root/build_artifacts/ffmpeg_1716145014501/_build_env/bin/pkg-config\n",
            "  libavutil      58. 29.100 / 58. 29.100\n",
            "  libavcodec     60. 31.102 / 60. 31.102\n",
            "  libavformat    60. 16.100 / 60. 16.100\n",
            "  libavdevice    60.  3.100 / 60.  3.100\n",
            "  libavfilter     9. 12.100 /  9. 12.100\n",
            "  libswscale      7.  5.100 /  7.  5.100\n",
            "  libswresample   4. 12.100 /  4. 12.100\n",
            "  libpostproc    57.  3.100 / 57.  3.100\n",
            "Input #0, avi, from 'UCF101_subset/train/Basketball/v_Basketball_g01_c01.avi':\n",
            "  Metadata:\n",
            "    software        : Lavf52.31.1\n",
            "  Duration: 00:00:04.70, start: 0.000000, bitrate: 489 kb/s\n",
            "  Stream #0:0: Video: mpeg4 (Simple Profile) (xvid / 0x64697678), yuv420p, 320x240 [SAR 1:1 DAR 4:3], 477 kb/s, 29.97 fps, 29.97 tbr, 29.97 tbn\n",
            "Stream mapping:\n",
            "  Stream #0:0 -> #0:0 (mpeg4 (native) -> h264 (libx264))\n",
            "Press [q] to stop, [?] for help\n",
            "[libx264 @ 0x5ffc22bccac0] using SAR=1/1\n",
            "[libx264 @ 0x5ffc22bccac0] using cpu capabilities: MMX2 SSE2Fast SSSE3 SSE4.2 AVX FMA3 BMI2 AVX2\n",
            "[libx264 @ 0x5ffc22bccac0] profile High, level 1.3, 4:2:0, 8-bit\n",
            "[libx264 @ 0x5ffc22bccac0] 264 - core 164 r3095 baee400 - H.264/MPEG-4 AVC codec - Copyleft 2003-2022 - http://www.videolan.org/x264.html - options: cabac=1 ref=3 deblock=1:0:0 analyse=0x3:0x113 me=hex subme=7 psy=1 psy_rd=1.00:0.00 mixed_ref=1 me_range=16 chroma_me=1 trellis=1 8x8dct=1 cqm=0 deadzone=21,11 fast_pskip=1 chroma_qp_offset=-2 threads=7 lookahead_threads=1 sliced_threads=0 nr=0 decimate=1 interlaced=0 bluray_compat=0 constrained_intra=0 bframes=3 b_pyramid=2 b_adapt=1 b_bias=0 direct=1 weightb=1 open_gop=0 weightp=2 keyint=250 keyint_min=25 scenecut=40 intra_refresh=0 rc_lookahead=40 rc=crf mbtree=1 crf=23.0 qcomp=0.60 qpmin=0 qpmax=69 qpstep=4 ip_ratio=1.40 aq=1:1.00\n",
            "Output #0, mp4, to 'output_video.mp4':\n",
            "  Metadata:\n",
            "    software        : Lavf52.31.1\n",
            "    encoder         : Lavf60.16.100\n",
            "  Stream #0:0: Video: h264 (avc1 / 0x31637661), yuv420p(progressive), 320x240 [SAR 1:1 DAR 4:3], q=2-31, 29.97 fps, 30k tbn\n",
            "    Metadata:\n",
            "      encoder         : Lavc60.31.102 libx264\n",
            "    Side data:\n",
            "      cpb: bitrate max/min/avg: 0/0/0 buffer size: 0 vbv_delay: N/A\n",
            "[out#0/mp4 @ 0x5ffc22bb2d80] video:83kB audio:0kB subtitle:0kB other streams:0kB global headers:0kB muxing overhead: 2.782449%\n",
            "frame=  141 fps=0.0 q=-1.0 Lsize=      85kB time=00:00:04.60 bitrate= 151.8kbits/s speed=58.9x    \n",
            "[libx264 @ 0x5ffc22bccac0] frame I:1     Avg QP:21.24  size:  8871\n",
            "[libx264 @ 0x5ffc22bccac0] frame P:84    Avg QP:22.22  size:   863\n",
            "[libx264 @ 0x5ffc22bccac0] frame B:56    Avg QP:28.51  size:    53\n",
            "[libx264 @ 0x5ffc22bccac0] consecutive B-frames: 30.5% 42.6% 21.3%  5.7%\n",
            "[libx264 @ 0x5ffc22bccac0] mb I  I16..4:  4.7% 93.3%  2.0%\n",
            "[libx264 @ 0x5ffc22bccac0] mb P  I16..4:  0.3%  2.3%  0.1%  P16..4: 23.7%  4.5%  6.0%  0.0%  0.0%    skip:63.0%\n",
            "[libx264 @ 0x5ffc22bccac0] mb B  I16..4:  0.0%  0.1%  0.0%  B16..8: 13.2%  0.2%  0.1%  direct: 0.1%  skip:86.5%  L0:37.5% L1:61.4% BI: 1.1%\n",
            "[libx264 @ 0x5ffc22bccac0] 8x8 transform intra:86.2% inter:75.6%\n",
            "[libx264 @ 0x5ffc22bccac0] coded y,uvDC,uvAC intra: 76.2% 86.3% 36.6% inter: 7.9% 14.0% 3.4%\n",
            "[libx264 @ 0x5ffc22bccac0] i16 v,h,dc,p: 21% 33% 35% 12%\n",
            "[libx264 @ 0x5ffc22bccac0] i8 v,h,dc,ddl,ddr,vr,hd,vl,hu: 17% 38% 36%  2%  1%  1%  1%  1%  3%\n",
            "[libx264 @ 0x5ffc22bccac0] i4 v,h,dc,ddl,ddr,vr,hd,vl,hu: 42% 39% 10%  1%  2%  2%  1%  0%  3%\n",
            "[libx264 @ 0x5ffc22bccac0] i8c dc,h,v,p: 45% 43%  9%  2%\n",
            "[libx264 @ 0x5ffc22bccac0] Weighted P-Frames: Y:0.0% UV:0.0%\n",
            "[libx264 @ 0x5ffc22bccac0] ref P L0: 80.6%  7.8%  8.5%  3.0%\n",
            "[libx264 @ 0x5ffc22bccac0] ref B L0: 82.3% 15.6%  2.1%\n",
            "[libx264 @ 0x5ffc22bccac0] ref B L1: 98.6%  1.4%\n",
            "[libx264 @ 0x5ffc22bccac0] kb/s:143.42"
          ]
        }
      ],
      "source": [
        "#!conda install conda-forge::ffmpeg\n",
        "!ffmpeg -i UCF101_subset/train/Basketball/v_Basketball_g01_c01.avi -vcodec libx264 -acodec aac output_video.mp4 -y"
      ],
      "id": "cell-59"
    },
    {
      "cell_type": "markdown",
      "metadata": {},
      "source": [
        "`-` 영상확인"
      ],
      "id": "a159df2f-0724-4cff-8691-d13c3fc8dbbb"
    },
    {
      "cell_type": "code",
      "execution_count": 30,
      "metadata": {},
      "outputs": [
        {
          "output_type": "display_data",
          "metadata": {},
          "data": {
            "text/html": [
              "<video src=\"output_video.mp4\" controls  >\n",
              "      Your browser does not support the <code>video</code> element.\n",
              "    </video>"
            ]
          }
        }
      ],
      "source": [
        "IPython.display.Video('output_video.mp4')"
      ],
      "id": "cell-61"
    },
    {
      "cell_type": "markdown",
      "metadata": {},
      "source": [
        "## D. 영상 불러오기\n",
        "\n",
        "### `#` 영상 $\\to$ 텐서 // 불러오기\n",
        "\n",
        "`-` 데이터 불러오기"
      ],
      "id": "c4273e87-d181-4f4a-a757-a956fa8961f1"
    },
    {
      "cell_type": "code",
      "execution_count": 56,
      "metadata": {},
      "outputs": [],
      "source": [
        "_train = pytorchvideo.data.labeled_video_dataset(\n",
        "    data_path = 'UCF101_subset/train',\n",
        "    clip_sampler = pytorchvideo.data.make_clip_sampler(\"random\", 15),\n",
        "    decode_audio = False,\n",
        ")"
      ],
      "id": "cell-65"
    },
    {
      "cell_type": "code",
      "execution_count": 57,
      "metadata": {},
      "outputs": [
        {
          "output_type": "display_data",
          "metadata": {},
          "data": {
            "text/plain": [
              "{'__next__'}"
            ]
          }
        }
      ],
      "source": [
        "set(dir(_train)) & {'__next__'}"
      ],
      "id": "cell-66"
    },
    {
      "cell_type": "code",
      "execution_count": 58,
      "metadata": {},
      "outputs": [
        {
          "output_type": "display_data",
          "metadata": {},
          "data": {
            "text/plain": [
              "torch.Size([3, 141, 240, 320])"
            ]
          }
        }
      ],
      "source": [
        "video_tensor = next(_train)['video']\n",
        "video_tensor.shape"
      ],
      "id": "cell-67"
    },
    {
      "cell_type": "markdown",
      "metadata": {},
      "source": [
        "### `#` 텐서 $\\to$ 영상 // 확인용\n",
        "\n",
        "`-` 차원변환"
      ],
      "id": "0961ca82-a965-4c1e-9687-6ea4fee57240"
    },
    {
      "cell_type": "code",
      "execution_count": 59,
      "metadata": {},
      "outputs": [
        {
          "output_type": "display_data",
          "metadata": {},
          "data": {
            "text/plain": [
              "torch.Size([141, 240, 320, 3])"
            ]
          }
        }
      ],
      "source": [
        "video_tensor.permute(1,2,3,0).shape"
      ],
      "id": "cell-70"
    },
    {
      "cell_type": "markdown",
      "metadata": {},
      "source": [
        "`-` 자료형변환전"
      ],
      "id": "f05f6880-2b08-4e7d-a0bb-7827d325efe0"
    },
    {
      "cell_type": "code",
      "execution_count": 60,
      "metadata": {},
      "outputs": [
        {
          "output_type": "stream",
          "name": "stderr",
          "text": [
            "Clipping input data to the valid range for imshow with RGB data ([0..1] for floats or [0..255] for integers). Got range [0.0..255.0]."
          ]
        },
        {
          "output_type": "display_data",
          "metadata": {},
          "data": {
            "image/png": "[encoded data removed]"
          }
        }
      ],
      "source": [
        "plt.imshow(video_tensor.permute(1,2,3,0)[0])"
      ],
      "id": "cell-72"
    },
    {
      "cell_type": "markdown",
      "metadata": {},
      "source": [
        "`-` 자료형 변환 후"
      ],
      "id": "0e2c37fa-2a16-47d9-8600-e2ce939fab5f"
    },
    {
      "cell_type": "code",
      "execution_count": 61,
      "metadata": {},
      "outputs": [
        {
          "output_type": "display_data",
          "metadata": {},
          "data": {
            "image/png": "[encoded data removed]"
          }
        }
      ],
      "source": [
        "img = video_tensor.permute(1,2,3,0)[0].numpy()\n",
        "plt.imshow(img.astype(\"uint8\"))"
      ],
      "id": "cell-74"
    },
    {
      "cell_type": "markdown",
      "metadata": {},
      "source": [
        "`-` gif 만들기"
      ],
      "id": "24ff61b1-c57e-402d-bde6-8855ac54c7da"
    },
    {
      "cell_type": "code",
      "execution_count": 65,
      "metadata": {},
      "outputs": [],
      "source": [
        "frames = [] \n",
        "for video_frame in video_tensor.permute(1,2,3,0):\n",
        "    frames.append(video_frame.numpy().astype(\"uint8\"))"
      ],
      "id": "cell-76"
    },
    {
      "cell_type": "code",
      "execution_count": 73,
      "metadata": {},
      "outputs": [],
      "source": [
        "imageio.mimsave(\"sample.gif\",frames,duration=0.25)"
      ],
      "id": "cell-77"
    },
    {
      "cell_type": "markdown",
      "metadata": {},
      "source": [
        "`-` gif이미지 display 하기"
      ],
      "id": "f3fa7a44-3783-430a-83df-b4b4c906165b"
    },
    {
      "cell_type": "code",
      "execution_count": 69,
      "metadata": {},
      "outputs": [
        {
          "output_type": "display_data",
          "metadata": {},
          "data": {
            "text/plain": [
              "<IPython.core.display.Image object>"
            ]
          }
        }
      ],
      "source": [
        "IPython.display.Image(filename=\"sample.gif\")"
      ],
      "id": "cell-79"
    },
    {
      "cell_type": "markdown",
      "metadata": {},
      "source": [
        "`-` 정리하기"
      ],
      "id": "672d61c2-ffb9-43c6-b5fb-d87d04272aaf"
    },
    {
      "cell_type": "code",
      "execution_count": 95,
      "metadata": {},
      "outputs": [],
      "source": [
        "def _display_gif(video_tensor):\n",
        "    #---#\n",
        "    frames = [] \n",
        "    for video_frame in video_tensor.permute(1,2,3,0):\n",
        "        img = video_frame.numpy().astype(\"uint8\")\n",
        "        frames.append(img)\n",
        "    imageio.mimsave(\"sample.gif\",frames)\n",
        "    return IPython.display.Image(filename=\"sample.gif\")    "
      ],
      "id": "cell-81"
    },
    {
      "cell_type": "code",
      "execution_count": 96,
      "metadata": {},
      "outputs": [
        {
          "output_type": "display_data",
          "metadata": {},
          "data": {
            "text/plain": [
              "<IPython.core.display.Image object>"
            ]
          }
        }
      ],
      "source": [
        "_display_gif(video_tensor)"
      ],
      "id": "cell-82"
    },
    {
      "cell_type": "markdown",
      "metadata": {},
      "source": [
        "## E. 모델생성"
      ],
      "id": "fd064d76-572b-4279-adb5-acca3c3ec6c7"
    },
    {
      "cell_type": "code",
      "execution_count": 97,
      "metadata": {},
      "outputs": [],
      "source": [
        "id2label = {\n",
        "    0: 'ApplyEyeMakeup',\n",
        "    1: 'Archery',\n",
        "    2: 'BalanceBeam',\n",
        "    3: 'BaseballPitch',\n",
        "    4: 'BasketballDunk',\n",
        "    5: 'ApplyLipstick',\n",
        "    6: 'BabyCrawling',\n",
        "    7: 'BandMarching',\n",
        "    8: 'Basketball',\n",
        "    9: 'BenchPress'\n",
        "}"
      ],
      "id": "cell-84"
    },
    {
      "cell_type": "code",
      "execution_count": 98,
      "metadata": {},
      "outputs": [],
      "source": [
        "label2id = {\n",
        "    'ApplyEyeMakeup': 0, \n",
        "    'Archery': 1,\n",
        "    'BalanceBeam': 2,\n",
        "    'BaseballPitch': 3,\n",
        "    'BasketballDunk': 4,\n",
        "    'ApplyLipstick': 5,\n",
        "    'BabyCrawling': 6,\n",
        "    'BandMarching': 7,\n",
        "    'Basketball': 8,\n",
        "    'BenchPress': 9 \n",
        "}"
      ],
      "id": "cell-85"
    },
    {
      "cell_type": "code",
      "execution_count": 99,
      "metadata": {},
      "outputs": [
        {
          "output_type": "stream",
          "name": "stderr",
          "text": [
            "Some weights of VideoMAEForVideoClassification were not initialized from the model checkpoint at MCG-NJU/videomae-base and are newly initialized: ['classifier.bias', 'classifier.weight']\n",
            "You should probably TRAIN this model on a down-stream task to be able to use it for predictions and inference."
          ]
        }
      ],
      "source": [
        "model = transformers.VideoMAEForVideoClassification.from_pretrained(\n",
        "    \"MCG-NJU/videomae-base\",\n",
        "    label2id=label2id,\n",
        "    id2label=id2label,\n",
        "    ignore_mismatched_sizes=True,  # provide this in case you're planning to fine-tune an already fine-tuned checkpoint\n",
        ")"
      ],
      "id": "cell-86"
    },
    {
      "cell_type": "code",
      "execution_count": 100,
      "metadata": {},
      "outputs": [
        {
          "output_type": "display_data",
          "metadata": {},
          "data": {
            "text/plain": [
              "16"
            ]
          }
        }
      ],
      "source": [
        "model.config.num_frames"
      ],
      "id": "cell-87"
    },
    {
      "cell_type": "markdown",
      "metadata": {},
      "source": [
        "## F. 변환 $\\to$ tr/val/test 생성\n",
        "\n",
        "`-` 모델에 최적화된 변환기"
      ],
      "id": "f4526787-30cf-4af5-af9d-4069c2e8e63a"
    },
    {
      "cell_type": "code",
      "execution_count": 101,
      "metadata": {},
      "outputs": [],
      "source": [
        "image_processor = transformers.VideoMAEImageProcessor.from_pretrained(\"MCG-NJU/videomae-base\")"
      ],
      "id": "cell-90"
    },
    {
      "cell_type": "markdown",
      "metadata": {},
      "source": [
        "`-` 저장된 값들"
      ],
      "id": "1ea2ba6a-13d7-45db-b3bc-75b9e6fcf6d7"
    },
    {
      "cell_type": "code",
      "execution_count": 102,
      "metadata": {},
      "outputs": [
        {
          "output_type": "stream",
          "name": "stdout",
          "text": [
            "mean : [0.485, 0.456, 0.406]\n",
            "std: [0.229, 0.224, 0.225]\n",
            "size: {'shortest_edge': 224}\n",
            "resize_to: (224, 224)\n",
            "num_frames_to_sample: 16\n",
            "clip_duration: 2.1333333333333333"
          ]
        }
      ],
      "source": [
        "print(\n",
        "    f\"mean : {image_processor.image_mean}\\n\"\n",
        "    f\"std: {image_processor.image_std}\\n\" \n",
        "    f\"size: {image_processor.size}\\n\"\n",
        "    f\"resize_to: {(224,224)}\\n\"\n",
        "    f\"num_frames_to_sample: {16}\\n\"\n",
        "    f\"clip_duration: {16 * 4 / 30}\"\n",
        ")"
      ],
      "id": "cell-92"
    },
    {
      "cell_type": "markdown",
      "metadata": {},
      "source": [
        "`-` 최적화된 변환을 적용하여 다시 텐서를 부름"
      ],
      "id": "dce54f1b-7a1d-4927-84a5-b0a8e17d6a5a"
    },
    {
      "cell_type": "code",
      "execution_count": 123,
      "metadata": {},
      "outputs": [],
      "source": [
        "train_dataset = pytorchvideo.data.labeled_video_dataset(\n",
        "    data_path = 'UCF101_subset/train',\n",
        "    clip_sampler = pytorchvideo.data.make_clip_sampler(\"random\", 2.1333333333333333),\n",
        "    decode_audio = False,\n",
        "    transform = pytorchvideo.transforms.ApplyTransformToKey(\n",
        "        key = \"video\",\n",
        "        transform = torchvision.transforms.Compose(\n",
        "            [\n",
        "                pytorchvideo.transforms.UniformTemporalSubsample(16),\n",
        "                torchvision.transforms.Lambda(lambda x: x / 255.0),\n",
        "                pytorchvideo.transforms.Normalize([0.485, 0.456, 0.406], [0.229, 0.224, 0.225]),\n",
        "                pytorchvideo.transforms.RandomShortSideScale(min_size=256, max_size=320),\n",
        "                torchvision.transforms.Resize((224, 224)),\n",
        "                torchvision.transforms.RandomHorizontalFlip(p=0.5)\n",
        "            ]\n",
        "        )\n",
        "    )\n",
        ")"
      ],
      "id": "cell-94"
    },
    {
      "cell_type": "markdown",
      "metadata": {},
      "source": [
        "`-` 변화된 텐서에 맞는 `display_gif`를 새로 선언"
      ],
      "id": "cf3d5b28-a6ad-4c72-9d5d-f11a473c4e8e"
    },
    {
      "cell_type": "code",
      "execution_count": 124,
      "metadata": {},
      "outputs": [],
      "source": [
        "def display_gif(video_tensor):\n",
        "    mean = [0.485, 0.456, 0.406]\n",
        "    std = [0.229, 0.224, 0.225]\n",
        "    #---#\n",
        "    frames = [] \n",
        "    for video_frame in video_tensor.permute(1,2,3,0):\n",
        "        img = video_frame.numpy()\n",
        "        img = (img * std) + mean \n",
        "        img = (img * 255).astype(\"uint8\")\n",
        "        img = img.clip(0, 255)\n",
        "        frames.append(img)\n",
        "    imageio.mimsave(\"sample.gif\",frames)\n",
        "    return IPython.display.Image(filename=\"sample.gif\")    "
      ],
      "id": "cell-96"
    },
    {
      "cell_type": "code",
      "execution_count": 125,
      "metadata": {},
      "outputs": [
        {
          "output_type": "display_data",
          "metadata": {},
          "data": {
            "text/plain": [
              "<IPython.core.display.Image object>"
            ]
          }
        }
      ],
      "source": [
        "display_gif(next(train)['video'])"
      ],
      "id": "cell-97"
    },
    {
      "cell_type": "markdown",
      "metadata": {},
      "source": [
        "`-` 각 변환의 의미를 살펴보자.\n",
        "\n",
        "-   `UniformTemporalSubsample(16)`:\n",
        "-   `Lambda(lambda x: x / 255.0)`:\n",
        "-   `Normalize([0.485, 0.456, 0.406], [0.229, 0.224, 0.225])`:\n",
        "-   `RandomShortSideScale(min_size=256, max_size=320)`:\n",
        "-   `RandomHorizontalFlip(p=0.5)`:"
      ],
      "id": "df9d80fd-4b41-4f2e-a46b-99672efa8c44"
    },
    {
      "cell_type": "code",
      "execution_count": 130,
      "metadata": {},
      "outputs": [
        {
          "output_type": "display_data",
          "metadata": {},
          "data": {
            "text/plain": [
              "<IPython.core.display.Image object>"
            ]
          }
        }
      ],
      "source": [
        "train_dataset = pytorchvideo.data.labeled_video_dataset(\n",
        "    data_path = 'UCF101_subset/train',\n",
        "    clip_sampler = pytorchvideo.data.make_clip_sampler(\"random\", 2.1333333333333333),\n",
        "    decode_audio = False,\n",
        "    transform = pytorchvideo.transforms.ApplyTransformToKey(\n",
        "        key = \"video\",\n",
        "        transform = torchvision.transforms.Compose(\n",
        "            [\n",
        "                pytorchvideo.transforms.UniformTemporalSubsample(16),\n",
        "                torchvision.transforms.Lambda(lambda x: x / 255.0),\n",
        "                pytorchvideo.transforms.Normalize([0.485, 0.456, 0.406], [0.229, 0.224, 0.225]),\n",
        "                pytorchvideo.transforms.RandomShortSideScale(min_size=256, max_size=320),\n",
        "                torchvision.transforms.Resize((224, 224)),\n",
        "                torchvision.transforms.RandomHorizontalFlip(p=0.5)\n",
        "            ]\n",
        "        )\n",
        "    )\n",
        ")\n",
        "display_gif(next(train)['video'])"
      ],
      "id": "cell-99"
    },
    {
      "cell_type": "markdown",
      "metadata": {},
      "source": [
        "`-` test, val 도 불러오자."
      ],
      "id": "abf6ce51-d573-44df-b7f3-9ed179ecbd4e"
    },
    {
      "cell_type": "code",
      "execution_count": 131,
      "metadata": {},
      "outputs": [],
      "source": [
        "test_dataset = pytorchvideo.data.labeled_video_dataset(\n",
        "    data_path = 'UCF101_subset/train',\n",
        "    clip_sampler = pytorchvideo.data.make_clip_sampler(\"uniform\", 2.1333333333333333),\n",
        "    decode_audio = False,\n",
        "    transform = pytorchvideo.transforms.ApplyTransformToKey(\n",
        "        key = \"video\",\n",
        "        transform = torchvision.transforms.Compose(\n",
        "            [\n",
        "                pytorchvideo.transforms.UniformTemporalSubsample(16),\n",
        "                torchvision.transforms.Lambda(lambda x: x / 255.0),\n",
        "                pytorchvideo.transforms.Normalize([0.485, 0.456, 0.406], [0.229, 0.224, 0.225]),\n",
        "                #pytorchvideo.transforms.RandomShortSideScale(min_size=256, max_size=320),\n",
        "                torchvision.transforms.Resize((224, 224)),\n",
        "                #torchvision.transforms.RandomHorizontalFlip(p=0.5)\n",
        "            ]\n",
        "        )\n",
        "    )\n",
        ")\n",
        "val_dataset = pytorchvideo.data.labeled_video_dataset(\n",
        "    data_path = 'UCF101_subset/train',\n",
        "    clip_sampler = pytorchvideo.data.make_clip_sampler(\"uniform\", 2.1333333333333333),\n",
        "    decode_audio = False,\n",
        "    transform = pytorchvideo.transforms.ApplyTransformToKey(\n",
        "        key = \"video\",\n",
        "        transform = torchvision.transforms.Compose(\n",
        "            [\n",
        "                pytorchvideo.transforms.UniformTemporalSubsample(16),\n",
        "                torchvision.transforms.Lambda(lambda x: x / 255.0),\n",
        "                pytorchvideo.transforms.Normalize([0.485, 0.456, 0.406], [0.229, 0.224, 0.225]),\n",
        "                #pytorchvideo.transforms.RandomShortSideScale(min_size=256, max_size=320),\n",
        "                torchvision.transforms.Resize((224, 224)),\n",
        "                #torchvision.transforms.RandomHorizontalFlip(p=0.5)\n",
        "            ]\n",
        "        )\n",
        "    )\n",
        ")"
      ],
      "id": "cell-101"
    },
    {
      "cell_type": "markdown",
      "metadata": {},
      "source": [
        "## G. 데이터콜렉터\n",
        "\n",
        "`-` 일단 아래가 실행되지 않음을 관찰하자."
      ],
      "id": "d79cb64c-6751-4574-86ca-552b81cdd737"
    },
    {
      "cell_type": "code",
      "execution_count": 134,
      "metadata": {},
      "outputs": [],
      "source": [
        "model(train_dataset)"
      ],
      "id": "cell-104"
    },
    {
      "cell_type": "markdown",
      "metadata": {},
      "source": [
        "`-` 실행되는 형태1: `model(tsr-nfchw)`"
      ],
      "id": "55a43ec2-ff0b-42c6-96b1-827e740ca7e6"
    },
    {
      "cell_type": "code",
      "execution_count": 168,
      "metadata": {},
      "outputs": [],
      "source": [
        "examples = [next(train_dataset), next(train_dataset)] "
      ],
      "id": "cell-106"
    },
    {
      "cell_type": "code",
      "execution_count": 171,
      "metadata": {},
      "outputs": [
        {
          "output_type": "display_data",
          "metadata": {},
          "data": {
            "text/plain": [
              "(torch.Size([3, 16, 224, 224]), torch.Size([3, 16, 224, 224]))"
            ]
          }
        }
      ],
      "source": [
        "examples[0]['video'].shape, examples[1]['video'].shape"
      ],
      "id": "cell-107"
    },
    {
      "cell_type": "code",
      "execution_count": 172,
      "metadata": {},
      "outputs": [
        {
          "output_type": "display_data",
          "metadata": {},
          "data": {
            "text/plain": [
              "(torch.Size([16, 3, 224, 224]), torch.Size([16, 3, 224, 224]))"
            ]
          }
        }
      ],
      "source": [
        "examples[0]['video'].permute(1,0,2,3).shape, examples[1]['video'].permute(1,0,2,3).shape"
      ],
      "id": "cell-108"
    },
    {
      "cell_type": "code",
      "execution_count": 174,
      "metadata": {},
      "outputs": [
        {
          "output_type": "display_data",
          "metadata": {},
          "data": {
            "text/plain": [
              "torch.Size([2, 16, 3, 224, 224])"
            ]
          }
        }
      ],
      "source": [
        "torch.stack([examples[0]['video'].permute(1,0,2,3), examples[1]['video'].permute(1,0,2,3)]).shape"
      ],
      "id": "cell-109"
    },
    {
      "cell_type": "code",
      "execution_count": 180,
      "metadata": {},
      "outputs": [
        {
          "output_type": "display_data",
          "metadata": {},
          "data": {
            "text/plain": [
              "torch.Size([2, 16, 3, 224, 224])"
            ]
          }
        }
      ],
      "source": [
        "tsr = torch.stack([examples[i]['video'].permute(1,0,2,3) for i in range(2)])\n",
        "tsr.shape"
      ],
      "id": "cell-110"
    },
    {
      "cell_type": "code",
      "execution_count": 181,
      "metadata": {},
      "outputs": [
        {
          "output_type": "display_data",
          "metadata": {},
          "data": {
            "text/plain": [
              "ImageClassifierOutput(loss=None, logits=tensor([[ 0.4671,  0.4103, -0.3659,  0.0303,  0.1490, -0.5198, -0.4376, -0.2202,\n",
              "          0.3834,  0.2408],\n",
              "        [ 0.7669, -0.0123, -0.1794,  0.3096,  0.4815, -0.1627, -0.0231, -0.3684,\n",
              "          0.1878, -0.1508]], grad_fn=<AddmmBackward0>), hidden_states=None, attentions=None)"
            ]
          }
        }
      ],
      "source": [
        "model(tsr)"
      ],
      "id": "cell-111"
    },
    {
      "cell_type": "markdown",
      "metadata": {},
      "source": [
        "`-` 실행되는 형태2:\n",
        "`model(**{\"pixel_values\": tsr-nfchw, \"labels\": tsr-n})`"
      ],
      "id": "14981738-46c0-49f0-a2ce-875835138106"
    },
    {
      "cell_type": "code",
      "execution_count": 184,
      "metadata": {},
      "outputs": [
        {
          "output_type": "display_data",
          "metadata": {},
          "data": {
            "text/plain": [
              "(9, 2)"
            ]
          }
        }
      ],
      "source": [
        "examples[0]['label'], examples[1]['label']"
      ],
      "id": "cell-113"
    },
    {
      "cell_type": "code",
      "execution_count": 186,
      "metadata": {},
      "outputs": [
        {
          "output_type": "display_data",
          "metadata": {},
          "data": {
            "text/plain": [
              "[9, 2]"
            ]
          }
        }
      ],
      "source": [
        "[examples[i]['label'] for i in range(2)]"
      ],
      "id": "cell-114"
    },
    {
      "cell_type": "code",
      "execution_count": 189,
      "metadata": {},
      "outputs": [
        {
          "output_type": "display_data",
          "metadata": {},
          "data": {
            "text/plain": [
              "tensor([9, 2])"
            ]
          }
        }
      ],
      "source": [
        "labels = torch.tensor([examples[i]['label'] for i in range(2)])\n",
        "labels"
      ],
      "id": "cell-115"
    },
    {
      "cell_type": "code",
      "execution_count": 190,
      "metadata": {},
      "outputs": [
        {
          "output_type": "display_data",
          "metadata": {},
          "data": {
            "text/plain": [
              "ImageClassifierOutput(loss=tensor(2.3808, grad_fn=<NllLossBackward0>), logits=tensor([[ 0.4671,  0.4103, -0.3659,  0.0303,  0.1490, -0.5198, -0.4376, -0.2202,\n",
              "          0.3834,  0.2408],\n",
              "        [ 0.7669, -0.0123, -0.1794,  0.3096,  0.4815, -0.1627, -0.0231, -0.3684,\n",
              "          0.1878, -0.1508]], grad_fn=<AddmmBackward0>), hidden_states=None, attentions=None)"
            ]
          }
        }
      ],
      "source": [
        "model(**{'pixel_values':tsr, \"labels\": labels})"
      ],
      "id": "cell-116"
    },
    {
      "cell_type": "markdown",
      "metadata": {},
      "source": [
        "`-` 그렇다면 데이터콜렉터는?"
      ],
      "id": "c1a77cea-df8a-4a29-8b9a-fb629f95cce6"
    },
    {
      "cell_type": "code",
      "execution_count": 191,
      "metadata": {},
      "outputs": [],
      "source": [
        "def collate_fn(examples):\n",
        "    tsr = torch.stack(\n",
        "        [example[\"video\"].permute(1, 0, 2, 3) for example in examples]\n",
        "    )\n",
        "    labels = torch.tensor([examples[i]['label'] for i in range(2)])\n",
        "    return dict(pixel_values=tsr, labels=labels)"
      ],
      "id": "cell-118"
    },
    {
      "cell_type": "code",
      "execution_count": 192,
      "metadata": {},
      "outputs": [
        {
          "output_type": "display_data",
          "metadata": {},
          "data": {
            "text/plain": [
              "ImageClassifierOutput(loss=tensor(2.3808, grad_fn=<NllLossBackward0>), logits=tensor([[ 0.4671,  0.4103, -0.3659,  0.0303,  0.1490, -0.5198, -0.4376, -0.2202,\n",
              "          0.3834,  0.2408],\n",
              "        [ 0.7669, -0.0123, -0.1794,  0.3096,  0.4815, -0.1627, -0.0231, -0.3684,\n",
              "          0.1878, -0.1508]], grad_fn=<AddmmBackward0>), hidden_states=None, attentions=None)"
            ]
          }
        }
      ],
      "source": [
        "model(**collate_fn(examples))"
      ],
      "id": "cell-119"
    },
    {
      "cell_type": "markdown",
      "metadata": {},
      "source": [
        "`-` 좀 더 일반화"
      ],
      "id": "2f1bb4fd-2879-4658-be75-23928806af4a"
    },
    {
      "cell_type": "code",
      "execution_count": 197,
      "metadata": {},
      "outputs": [],
      "source": [
        "def collate_fn(examples):\n",
        "    tsr = torch.stack(\n",
        "        [example[\"video\"].permute(1, 0, 2, 3) for example in examples]\n",
        "    )\n",
        "    labels = torch.tensor([example['label'] for example in examples])\n",
        "    return dict(pixel_values=tsr, labels=labels)\n",
        "model(**collate_fn(examples))    "
      ],
      "id": "cell-121"
    },
    {
      "cell_type": "markdown",
      "metadata": {},
      "source": [
        "# 5. 코드정리"
      ],
      "id": "728a72b7-7a79-4bd9-9046-960c36acb621"
    },
    {
      "cell_type": "code",
      "execution_count": null,
      "metadata": {},
      "outputs": [
        {
          "output_type": "stream",
          "name": "stderr",
          "text": [
            "Some weights of VideoMAEForVideoClassification were not initialized from the model checkpoint at MCG-NJU/videomae-base and are newly initialized: ['classifier.bias', 'classifier.weight']\n",
            "You should probably TRAIN this model on a down-stream task to be able to use it for predictions and inference.\n",
            "max_steps is given, it will override any value given in num_train_epochs"
          ]
        },
        {
          "output_type": "display_data",
          "metadata": {},
          "data": {
            "text/html": [
              "<p>"
            ]
          }
        }
      ],
      "source": [
        "import huggingface_hub\n",
        "import tarfile \n",
        "import pathlib\n",
        "import transformers\n",
        "import pytorchvideo.data\n",
        "import pytorchvideo.transforms\n",
        "import torchvision.transforms\n",
        "# import os \n",
        "import evaluate\n",
        "import torch\n",
        "import numpy as np\n",
        "# import imageio\n",
        "# import IPython.display\n",
        "# import matplotlib.pyplot as plt \n",
        "#---#\n",
        "## Step1 \n",
        "file_path = huggingface_hub.hf_hub_download(\n",
        "    repo_id=\"sayakpaul/ucf101-subset\", \n",
        "    filename=\"UCF101_subset.tar.gz\", \n",
        "    repo_type=\"dataset\"\n",
        ")\n",
        "with tarfile.open(file_path) as t:\n",
        "    t.extractall(\".\")\n",
        "train_dataset = pytorchvideo.data.labeled_video_dataset(\n",
        "    data_path = 'UCF101_subset/train',\n",
        "    clip_sampler = pytorchvideo.data.make_clip_sampler(\"random\", 2.1333333333333333),\n",
        "    decode_audio = False,\n",
        "    transform = pytorchvideo.transforms.ApplyTransformToKey(\n",
        "        key = \"video\",\n",
        "        transform = torchvision.transforms.Compose(\n",
        "            [\n",
        "                pytorchvideo.transforms.UniformTemporalSubsample(16),\n",
        "                torchvision.transforms.Lambda(lambda x: x / 255.0),\n",
        "                pytorchvideo.transforms.Normalize([0.485, 0.456, 0.406], [0.229, 0.224, 0.225]),\n",
        "                pytorchvideo.transforms.RandomShortSideScale(min_size=256, max_size=320),\n",
        "                torchvision.transforms.Resize((224, 224)),\n",
        "                torchvision.transforms.RandomHorizontalFlip(p=0.5)\n",
        "            ]\n",
        "        )\n",
        "    )\n",
        ")\n",
        "test_dataset = pytorchvideo.data.labeled_video_dataset(\n",
        "    data_path = 'UCF101_subset/train',\n",
        "    clip_sampler = pytorchvideo.data.make_clip_sampler(\"uniform\", 2.1333333333333333),\n",
        "    decode_audio = False,\n",
        "    transform = pytorchvideo.transforms.ApplyTransformToKey(\n",
        "        key = \"video\",\n",
        "        transform = torchvision.transforms.Compose(\n",
        "            [\n",
        "                pytorchvideo.transforms.UniformTemporalSubsample(16),\n",
        "                torchvision.transforms.Lambda(lambda x: x / 255.0),\n",
        "                pytorchvideo.transforms.Normalize([0.485, 0.456, 0.406], [0.229, 0.224, 0.225]),\n",
        "                #pytorchvideo.transforms.RandomShortSideScale(min_size=256, max_size=320),\n",
        "                torchvision.transforms.Resize((224, 224)),\n",
        "                #torchvision.transforms.RandomHorizontalFlip(p=0.5)\n",
        "            ]\n",
        "        )\n",
        "    )\n",
        ")\n",
        "val_dataset = pytorchvideo.data.labeled_video_dataset(\n",
        "    data_path = 'UCF101_subset/train',\n",
        "    clip_sampler = pytorchvideo.data.make_clip_sampler(\"uniform\", 2.1333333333333333),\n",
        "    decode_audio = False,\n",
        "    transform = pytorchvideo.transforms.ApplyTransformToKey(\n",
        "        key = \"video\",\n",
        "        transform = torchvision.transforms.Compose(\n",
        "            [\n",
        "                pytorchvideo.transforms.UniformTemporalSubsample(16),\n",
        "                torchvision.transforms.Lambda(lambda x: x / 255.0),\n",
        "                pytorchvideo.transforms.Normalize([0.485, 0.456, 0.406], [0.229, 0.224, 0.225]),\n",
        "                #pytorchvideo.transforms.RandomShortSideScale(min_size=256, max_size=320),\n",
        "                torchvision.transforms.Resize((224, 224)),\n",
        "                #torchvision.transforms.RandomHorizontalFlip(p=0.5)\n",
        "            ]\n",
        "        )\n",
        "    )\n",
        ")\n",
        "## Step2 \n",
        "id2label = {\n",
        "    0: 'ApplyEyeMakeup',\n",
        "    1: 'Archery',\n",
        "    2: 'BalanceBeam',\n",
        "    3: 'BaseballPitch',\n",
        "    4: 'BasketballDunk',\n",
        "    5: 'ApplyLipstick',\n",
        "    6: 'BabyCrawling',\n",
        "    7: 'BandMarching',\n",
        "    8: 'Basketball',\n",
        "    9: 'BenchPress'\n",
        "}\n",
        "label2id = {\n",
        "    'ApplyEyeMakeup': 0, \n",
        "    'Archery': 1,\n",
        "    'BalanceBeam': 2,\n",
        "    'BaseballPitch': 3,\n",
        "    'BasketballDunk': 4,\n",
        "    'ApplyLipstick': 5,\n",
        "    'BabyCrawling': 6,\n",
        "    'BandMarching': 7,\n",
        "    'Basketball': 8,\n",
        "    'BenchPress': 9 \n",
        "}\n",
        "model = transformers.VideoMAEForVideoClassification.from_pretrained(\n",
        "    \"MCG-NJU/videomae-base\",\n",
        "    label2id=label2id,\n",
        "    id2label=id2label,\n",
        "    ignore_mismatched_sizes=True,  # provide this in case you're planning to fine-tune an already fine-tuned checkpoint\n",
        ")\n",
        "# Step3 \n",
        "metric = evaluate.load(\"accuracy\")\n",
        "def compute_metrics(eval_pred):\n",
        "    predictions = np.argmax(eval_pred.predictions, axis=1)\n",
        "    return metric.compute(predictions=predictions, references=eval_pred.label_ids)\n",
        "def collate_fn(examples):\n",
        "    tsr = torch.stack(\n",
        "        [example[\"video\"].permute(1, 0, 2, 3) for example in examples]\n",
        "    )\n",
        "    labels = torch.tensor([example['label'] for example in examples])\n",
        "    return dict(pixel_values=tsr, labels=labels)\n",
        "args = transformers.TrainingArguments(\n",
        "    '영상분류학습된모델',\n",
        "    remove_unused_columns=False,\n",
        "    eval_strategy=\"epoch\",\n",
        "    save_strategy=\"epoch\",\n",
        "    learning_rate=5e-5,\n",
        "    per_device_train_batch_size=16,\n",
        "    per_device_eval_batch_size=16,\n",
        "    warmup_ratio=0.1,\n",
        "    logging_steps=10,\n",
        "    load_best_model_at_end=True,\n",
        "    metric_for_best_model=\"accuracy\",\n",
        "    push_to_hub=False,\n",
        "    max_steps=(train_dataset.num_videos // 16) * 4,\n",
        ")\n",
        "trainer = transformers.Trainer(\n",
        "    model,\n",
        "    args,\n",
        "    train_dataset=train_dataset,\n",
        "    eval_dataset=val_dataset,\n",
        "    #tokenizer=transformers.VideoMAEImageProcessor.from_pretrained(\"MCG-NJU/videomae-base\"),\n",
        "    compute_metrics=compute_metrics,\n",
        "    data_collator=collate_fn,\n",
        ")\n",
        "train_results = trainer.train()"
      ],
      "id": "cell-123"
    }
  ],
  "nbformat": 4,
  "nbformat_minor": 5,
  "metadata": {
    "kernelspec": {
      "name": "python3",
      "display_name": "hf",
      "language": "python"
    },
    "language_info": {
      "name": "python",
      "codemirror_mode": {
        "name": "ipython",
        "version": "3"
      },
      "file_extension": ".py",
      "mimetype": "text/x-python",
      "nbconvert_exporter": "python",
      "pygments_lexer": "ipython3",
      "version": "3.12.2"
    }
  }
}