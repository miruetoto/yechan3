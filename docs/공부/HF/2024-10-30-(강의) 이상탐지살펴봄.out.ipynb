{
  "cells": [
    {
      "cell_type": "markdown",
      "metadata": {},
      "source": [
        "# (강의) 이상탐지살펴봄\n",
        "\n",
        "신록예찬  \n",
        "2024-10-29"
      ],
      "id": "0c702309-969d-45e9-b06f-7765e0b949f2"
    },
    {
      "cell_type": "code",
      "execution_count": 6,
      "metadata": {},
      "outputs": [],
      "source": [
        "# from transformers import AutoImageProcessor, AutoModelForImageClassification\n",
        "# from datasets import load_dataset\n",
        "# import torch\n",
        "\n",
        "# # Load the dataset\n",
        "# dataset = load_dataset('path/to/medical_mnist')\n",
        "\n",
        "# # Initialize the model and processor\n",
        "# processor = AutoImageProcessor.from_pretrained(\"google/vit-base-patch16-224\")\n",
        "# model = AutoModelForImageClassification.from_pretrained(\"google/vit-base-patch16-224\")\n",
        "\n",
        "# # Preprocess and classify images\n",
        "# def preprocess(batch):\n",
        "#     inputs = processor(images=batch[\"image\"], return_tensors=\"pt\")\n",
        "#     with torch.no_grad():\n",
        "#         outputs = model(**inputs)\n",
        "#     return outputs.logits.argmax(dim=-1)\n",
        "\n",
        "# # Apply to dataset\n",
        "# dataset = dataset.map(preprocess, batched=True)"
      ],
      "id": "cell-1"
    },
    {
      "cell_type": "code",
      "execution_count": 7,
      "metadata": {},
      "outputs": [],
      "source": [
        "# from transformers import AutoImageProcessor, AutoModelForImageClassification\n",
        "# from datasets import load_dataset\n",
        "\n",
        "# # Load the chest x-ray dataset\n",
        "# dataset = load_dataset('huggingface/chest_xray')\n",
        "\n",
        "# # Initialize the processor and model\n",
        "# processor = AutoImageProcessor.from_pretrained(\"microsoft/resnet-50\")\n",
        "# model = AutoModelForImageClassification.from_pretrained(\"microsoft/resnet-50\")\n",
        "\n",
        "# # Define the processing function\n",
        "# def preprocess(batch):\n",
        "#     inputs = processor(images=batch[\"image\"], return_tensors=\"pt\")\n",
        "#     outputs = model(**inputs)\n",
        "#     batch[\"pred\"] = outputs.logits.argmax(dim=-1).cpu().numpy()\n",
        "#     return batch\n",
        "\n",
        "# # Process dataset\n",
        "# dataset = dataset.map(preprocess, batched=True)"
      ],
      "id": "cell-2"
    },
    {
      "cell_type": "code",
      "execution_count": 1,
      "metadata": {},
      "outputs": [
        {
          "output_type": "stream",
          "name": "stderr",
          "text": [
            "/home/cgb3/anaconda3/envs/hf/lib/python3.12/site-packages/tqdm/auto.py:21: TqdmWarning: IProgress not found. Please update jupyter and ipywidgets. See https://ipywidgets.readthedocs.io/en/stable/user_install.html\n",
            "  from .autonotebook import tqdm as notebook_tqdm"
          ]
        }
      ],
      "source": [
        "from transformers import AutoTokenizer, AutoModelForSequenceClassification\n",
        "from datasets import load_dataset\n",
        "\n",
        "# Load SMS spam dataset\n",
        "dataset = load_dataset('sms_spam')\n",
        "\n",
        "# # Initialize tokenizer and model\n",
        "# tokenizer = AutoTokenizer.from_pretrained(\"distilbert-base-uncased\")\n",
        "# model = AutoModelForSequenceClassification.from_pretrained(\"distilbert-base-uncased\")\n",
        "\n",
        "# # Tokenize and classify messages\n",
        "# def preprocess(batch):\n",
        "#     inputs = tokenizer(batch[\"message\"], truncation=True, padding=True, return_tensors=\"pt\")\n",
        "#     with torch.no_grad():\n",
        "#         outputs = model(**inputs)\n",
        "#     batch[\"pred\"] = outputs.logits.argmax(dim=-1).cpu().numpy()\n",
        "#     return batch\n",
        "\n",
        "# dataset = dataset.map(preprocess, batched=True)"
      ],
      "id": "cell-3"
    },
    {
      "cell_type": "code",
      "execution_count": 10,
      "metadata": {},
      "outputs": [
        {
          "output_type": "display_data",
          "metadata": {},
          "data": {
            "text/plain": [
              "0.1340150699677072"
            ]
          }
        }
      ],
      "source": [
        "import numpy as np\n",
        "np.array(dataset['train']['label']).mean()"
      ],
      "id": "cell-4"
    },
    {
      "cell_type": "code",
      "execution_count": 4,
      "metadata": {},
      "outputs": [
        {
          "output_type": "stream",
          "name": "stderr",
          "text": [
            "Downloading data: 100%|██████████| 233k/233k [00:00<00:00, 321kB/s]\n",
            "Downloading data: 100%|██████████| 105k/105k [00:00<00:00, 166kB/s]\n",
            "Downloading data: 100%|██████████| 28.6k/28.6k [00:00<00:00, 46.4kB/s]\n",
            "Generating train split: 100%|██████████| 3257/3257 [00:00<00:00, 925908.10 examples/s]\n",
            "Generating test split: 100%|██████████| 1421/1421 [00:00<00:00, 1150155.54 examples/s]\n",
            "Generating validation split: 100%|██████████| 374/374 [00:00<00:00, 522367.53 examples/s]"
          ]
        }
      ],
      "source": [
        "from transformers import AutoTokenizer, AutoModelForSequenceClassification\n",
        "from datasets import load_dataset\n",
        "\n",
        "# Load the disaster tweets dataset\n",
        "dataset = load_dataset('tweet_eval', 'emotion')\n",
        "\n",
        "# Initialize tokenizer and model\n",
        "tokenizer = AutoTokenizer.from_pretrained(\"cardiffnlp/twitter-roberta-base\")\n",
        "model = AutoModelForSequenceClassification.from_pretrained(\"cardiffnlp/twitter-roberta-base\")\n",
        "\n",
        "# Tokenize and classify tweets\n",
        "def preprocess(batch):\n",
        "    inputs = tokenizer(batch[\"text\"], truncation=True, padding=True, return_tensors=\"pt\")\n",
        "    with torch.no_grad():\n",
        "        outputs = model(**inputs)\n",
        "    batch[\"pred\"] = outputs.logits.argmax(dim=-1).cpu().numpy()\n",
        "    return batch\n",
        "\n",
        "dataset = dataset.map(preprocess, batched=True)"
      ],
      "id": "cell-5"
    },
    {
      "cell_type": "markdown",
      "metadata": {},
      "source": [
        "# from transformers import AutoProcessor, AutoModelForVideoClassification\n",
        "\n",
        "# from datasets import load_dataset\n",
        "\n",
        "# \\# Load the anomaly detection dataset\n",
        "\n",
        "# dataset = load_dataset(‘path/to/shanghaitech_anomaly’)\n",
        "\n",
        "# \\# Initialize processor and model\n",
        "\n",
        "# processor = AutoProcessor.from_pretrained(“MCG-NJU/videomae-base”)\n",
        "\n",
        "# model = AutoModelForVideoClassification.from_pretrained(“MCG-NJU/videomae-base”)\n",
        "\n",
        "# \\# Preprocess and classify videos\n",
        "\n",
        "# def preprocess(batch):\n",
        "\n",
        "# inputs = processor(videos=batch\\[“video”\\], return_tensors=“pt”)\n",
        "\n",
        "# with torch.no_grad():\n",
        "\n",
        "# outputs = model(\\*\\*inputs)\n",
        "\n",
        "# batch\\[“pred”\\] = outputs.logits.argmax(dim=-1).cpu().numpy()\n",
        "\n",
        "# return batch\n",
        "\n",
        "# dataset = dataset.map(preprocess, batched=True)"
      ],
      "id": "0e06cf39-a0eb-46b5-9741-b63c93f48055"
    }
  ],
  "nbformat": 4,
  "nbformat_minor": 5,
  "metadata": {
    "kernelspec": {
      "name": "python3",
      "display_name": "hf",
      "language": "python"
    },
    "language_info": {
      "name": "python",
      "codemirror_mode": {
        "name": "ipython",
        "version": "3"
      },
      "file_extension": ".py",
      "mimetype": "text/x-python",
      "nbconvert_exporter": "python",
      "pygments_lexer": "ipython3",
      "version": "3.12.4"
    }
  }
}