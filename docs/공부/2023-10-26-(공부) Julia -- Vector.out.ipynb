{
  "cells": [
    {
      "cell_type": "markdown",
      "metadata": {},
      "source": [
        "# (공부) Julia – Vector\n",
        "\n",
        "신록예찬  \n",
        "2023-10-26\n",
        "\n",
        "# 1. 느낌\n",
        "\n",
        "`-` Python의 리스트와 비슷하기도 하고, numpy array와 비슷하기도 함\n",
        "\n",
        "# 2. 선언과 자료형\n",
        "\n",
        "`-` 예시1"
      ],
      "id": "a5f9ed11-61b7-4fda-b839-d1d29dd6e570"
    },
    {
      "cell_type": "code",
      "execution_count": 1,
      "metadata": {
        "tags": []
      },
      "outputs": [
        {
          "output_type": "display_data",
          "metadata": {},
          "data": {
            "text/plain": [
              "3-element Vector{Int64}:\n",
              " 1\n",
              " 2\n",
              " 3"
            ]
          }
        }
      ],
      "source": [
        "a = [1,2,3]\n",
        "a"
      ],
      "id": "c3af1fcc-920b-45e2-b781-8fb444ae8786"
    },
    {
      "cell_type": "code",
      "execution_count": 2,
      "metadata": {
        "tags": []
      },
      "outputs": [
        {
          "output_type": "display_data",
          "metadata": {},
          "data": {
            "text/html": [
              "<pre>Vector{Int64}<span class=\"ansi-bright-black-fg\"> (alias for </span><span class=\"ansi-bright-black-fg\">Array{Int64, 1}</span><span class=\"ansi-bright-black-fg\">)</span></pre>"
            ]
          }
        }
      ],
      "source": [
        "typeof(a)"
      ],
      "id": "adb223bb-bae1-40b9-b6c6-4d41393bcffa"
    },
    {
      "cell_type": "markdown",
      "metadata": {},
      "source": [
        "`-` 예시2"
      ],
      "id": "e6eed87a-7381-4340-b3fd-a76bc030bb8d"
    },
    {
      "cell_type": "code",
      "execution_count": 3,
      "metadata": {
        "tags": []
      },
      "outputs": [
        {
          "output_type": "display_data",
          "metadata": {},
          "data": {
            "text/plain": [
              "4-element Vector{Any}:\n",
              " 1\n",
              " 2\n",
              "  'a': ASCII/Unicode U+0061 (category Ll: Letter, lowercase)\n",
              "  \"abc\""
            ]
          }
        }
      ],
      "source": [
        "a = [1,2,'a',\"abc\"] \n",
        "a"
      ],
      "id": "9c5b3c6d-c79b-4617-8a38-75da19c0cfd2"
    },
    {
      "cell_type": "code",
      "execution_count": 4,
      "metadata": {
        "tags": []
      },
      "outputs": [
        {
          "output_type": "display_data",
          "metadata": {},
          "data": {
            "text/html": [
              "<pre>Vector{Any}<span class=\"ansi-bright-black-fg\"> (alias for </span><span class=\"ansi-bright-black-fg\">Array{Any, 1}</span><span class=\"ansi-bright-black-fg\">)</span></pre>"
            ]
          }
        }
      ],
      "source": [
        "typeof(a)"
      ],
      "id": "a2cf157f-74c4-43ba-8bd9-2734713e26db"
    },
    {
      "cell_type": "markdown",
      "metadata": {},
      "source": [
        "`-` 예시3 – col-vector처럼 선언가능"
      ],
      "id": "6f86cbab-924c-418f-8f89-6a4e33b55723"
    },
    {
      "cell_type": "code",
      "execution_count": 5,
      "metadata": {
        "tags": []
      },
      "outputs": [
        {
          "output_type": "display_data",
          "metadata": {},
          "data": {
            "text/plain": [
              "3-element Vector{Int64}:\n",
              " 1\n",
              " 2\n",
              " 3"
            ]
          }
        }
      ],
      "source": [
        "a= [ 1\n",
        "     2\n",
        "     3 ] "
      ],
      "id": "0da53ba9-40df-4bba-bc60-65f8019889a4"
    },
    {
      "cell_type": "markdown",
      "metadata": {},
      "source": [
        "`-` 예시4 – 비어있는 벡터 선언"
      ],
      "id": "db03c235-9ae9-4405-af4c-faa7f123a55b"
    },
    {
      "cell_type": "code",
      "execution_count": 6,
      "metadata": {
        "tags": []
      },
      "outputs": [
        {
          "output_type": "display_data",
          "metadata": {},
          "data": {
            "text/plain": [
              "Any[]"
            ]
          }
        }
      ],
      "source": [
        "a = []"
      ],
      "id": "5440b443-ef7b-4eb3-ab36-be9ed10f01c2"
    },
    {
      "cell_type": "markdown",
      "metadata": {},
      "source": [
        "# 3. 특수한 벡터 선언\n",
        "\n",
        "`-` 예시1: ones, zeros"
      ],
      "id": "1c9175f5-09b1-4212-bdb5-9ea726c9b380"
    },
    {
      "cell_type": "code",
      "execution_count": 7,
      "metadata": {
        "tags": []
      },
      "outputs": [
        {
          "output_type": "display_data",
          "metadata": {},
          "data": {
            "text/plain": [
              "3-element Vector{Float64}:\n",
              " 1.0\n",
              " 1.0\n",
              " 1.0"
            ]
          }
        }
      ],
      "source": [
        "ones(3)"
      ],
      "id": "b7885881-621c-41c3-a57a-91ed4fe2ddd5"
    },
    {
      "cell_type": "code",
      "execution_count": 8,
      "metadata": {
        "tags": []
      },
      "outputs": [
        {
          "output_type": "display_data",
          "metadata": {},
          "data": {
            "text/plain": [
              "3-element Vector{Float64}:\n",
              " 0.0\n",
              " 0.0\n",
              " 0.0"
            ]
          }
        }
      ],
      "source": [
        "zeros(3)"
      ],
      "id": "335c4d9e-f3d7-4a94-b131-72b2dbe10f8d"
    },
    {
      "cell_type": "markdown",
      "metadata": {},
      "source": [
        "`-` 예시2: fill"
      ],
      "id": "6215f06d-7ac3-4f18-a94a-eef39751a132"
    },
    {
      "cell_type": "code",
      "execution_count": 9,
      "metadata": {
        "tags": []
      },
      "outputs": [
        {
          "output_type": "display_data",
          "metadata": {},
          "data": {
            "text/plain": [
              "3-element Vector{Float64}:\n",
              " 1.0\n",
              " 1.0\n",
              " 1.0"
            ]
          }
        }
      ],
      "source": [
        "fill(1.0,3)"
      ],
      "id": "2000f868-1590-4ac0-9e43-76bf56c3c855"
    },
    {
      "cell_type": "markdown",
      "metadata": {},
      "source": [
        "`-` 예시3"
      ],
      "id": "83046f2f-eca7-422f-8bbb-2ca2b7887583"
    },
    {
      "cell_type": "code",
      "execution_count": 10,
      "metadata": {
        "tags": []
      },
      "outputs": [
        {
          "output_type": "display_data",
          "metadata": {},
          "data": {
            "text/plain": [
              "3-element Vector{Int64}:\n",
              " 1\n",
              " 2\n",
              " 3"
            ]
          }
        }
      ],
      "source": [
        "Array(1:3)\n",
        "#Array(range(1,3))"
      ],
      "id": "bd7fac55-aa4e-4d4f-aa56-89ad08634245"
    },
    {
      "cell_type": "code",
      "execution_count": 11,
      "metadata": {
        "tags": []
      },
      "outputs": [
        {
          "output_type": "display_data",
          "metadata": {},
          "data": {
            "text/plain": [
              "3-element Vector{Int64}:\n",
              " 1\n",
              " 2\n",
              " 3"
            ]
          }
        }
      ],
      "source": [
        "collect(1:3)\n",
        "#collect(range(1,3))"
      ],
      "id": "d91a2304-c735-4f52-a744-f8e2c1373a4f"
    },
    {
      "cell_type": "markdown",
      "metadata": {},
      "source": [
        "`-` 예시4"
      ],
      "id": "be8c5f46-9c81-440e-a249-1cfc8d0e635c"
    },
    {
      "cell_type": "code",
      "execution_count": 12,
      "metadata": {
        "tags": []
      },
      "outputs": [
        {
          "output_type": "display_data",
          "metadata": {},
          "data": {
            "text/plain": [
              "3-element Vector{Float64}:\n",
              "  1.0\n",
              "  5.5\n",
              " 10.0"
            ]
          }
        }
      ],
      "source": [
        "Array(range(1,10,length=3))"
      ],
      "id": "4e7717cf-e5ec-4dc1-8b4b-c21e176aab45"
    },
    {
      "cell_type": "code",
      "execution_count": 13,
      "metadata": {
        "tags": []
      },
      "outputs": [
        {
          "output_type": "display_data",
          "metadata": {},
          "data": {
            "text/plain": [
              "3-element Vector{Float64}:\n",
              "  1.0\n",
              "  5.5\n",
              " 10.0"
            ]
          }
        }
      ],
      "source": [
        "collect(range(1,10,length=3))"
      ],
      "id": "02fae532-34b0-49de-a235-88a57671034f"
    },
    {
      "cell_type": "markdown",
      "metadata": {},
      "source": [
        "# 4. 연산\n",
        "\n",
        "## A. 더하기\n",
        "\n",
        "`-` 예시1 – 길이가 같은 벡터의 합"
      ],
      "id": "06599f04-8169-4f0f-97a7-de747c066189"
    },
    {
      "cell_type": "code",
      "execution_count": 14,
      "metadata": {
        "tags": []
      },
      "outputs": [
        {
          "output_type": "display_data",
          "metadata": {},
          "data": {
            "text/plain": [
              "2-element Vector{Int64}:\n",
              " 0\n",
              " 0"
            ]
          }
        }
      ],
      "source": [
        "a = [1,2] \n",
        "b = [-1,-2]\n",
        "a + b"
      ],
      "id": "f5c3314b-5a32-4839-8aae-3ddc0d4226c7"
    },
    {
      "cell_type": "code",
      "execution_count": 15,
      "metadata": {
        "tags": []
      },
      "outputs": [
        {
          "output_type": "display_data",
          "metadata": {},
          "data": {
            "text/plain": [
              "2-element Vector{Int64}:\n",
              " 0\n",
              " 0"
            ]
          }
        }
      ],
      "source": [
        "# 사실아래도 가능\n",
        "a .+ b"
      ],
      "id": "b7990ba0-aa1b-478e-bb78-11d0cd949151"
    },
    {
      "cell_type": "markdown",
      "metadata": {},
      "source": [
        "`-` 예시2 – 벡터+스칼라 (실패)"
      ],
      "id": "1804e960-2e95-4407-a26b-dccc6ec95738"
    },
    {
      "cell_type": "code",
      "execution_count": 17,
      "metadata": {
        "tags": []
      },
      "outputs": [],
      "source": [
        "a = [1,2]\n",
        "a + 1 # 브로드캐스팅 실패"
      ],
      "id": "f00583df-8aaa-46cc-bf40-9d6dde5a9af7"
    },
    {
      "cell_type": "markdown",
      "metadata": {},
      "source": [
        "`-` 예시3 – 벡터+스칼라 (성공)"
      ],
      "id": "99338713-1cc0-45f4-aff0-4179c00c8b6e"
    },
    {
      "cell_type": "code",
      "execution_count": 18,
      "metadata": {
        "tags": []
      },
      "outputs": [
        {
          "output_type": "display_data",
          "metadata": {},
          "data": {
            "text/plain": [
              "2-element Vector{Int64}:\n",
              " 2\n",
              " 3"
            ]
          }
        }
      ],
      "source": [
        "a = [1,2]\n",
        "a .+ 1 "
      ],
      "id": "1d0dfe2a-db53-4d31-aeb2-cdb8daf1f2ff"
    },
    {
      "cell_type": "markdown",
      "metadata": {},
      "source": [
        "## B. 곱셉\n",
        "\n",
        "`-` 예시1 – 벡터\\*스칼라 (성공)"
      ],
      "id": "6bb2f644-509d-42ee-b3ea-fd075cb6032c"
    },
    {
      "cell_type": "code",
      "execution_count": 19,
      "metadata": {
        "tags": []
      },
      "outputs": [
        {
          "output_type": "display_data",
          "metadata": {},
          "data": {
            "text/plain": [
              "2-element Vector{Int64}:\n",
              " 2\n",
              " 4"
            ]
          }
        }
      ],
      "source": [
        "a = [1,2]\n",
        "a*2"
      ],
      "id": "c59ff24e-a0dc-4525-898d-798825ee2de6"
    },
    {
      "cell_type": "code",
      "execution_count": 20,
      "metadata": {
        "tags": []
      },
      "outputs": [
        {
          "output_type": "display_data",
          "metadata": {},
          "data": {
            "text/plain": [
              "2-element Vector{Int64}:\n",
              " 2\n",
              " 4"
            ]
          }
        }
      ],
      "source": [
        "# 사실 아래도 가능\n",
        "a .* 2"
      ],
      "id": "19143341-e970-4677-9f8e-f649a0472d0c"
    },
    {
      "cell_type": "code",
      "execution_count": 21,
      "metadata": {
        "tags": []
      },
      "outputs": [
        {
          "output_type": "display_data",
          "metadata": {},
          "data": {
            "text/plain": [
              "2-element Vector{Int64}:\n",
              " 2\n",
              " 4"
            ]
          }
        }
      ],
      "source": [
        "# 사실 아래도 가능\n",
        "2a"
      ],
      "id": "06bf6c4a-662a-458a-84cf-dc8d91aa9bb9"
    },
    {
      "cell_type": "markdown",
      "metadata": {},
      "source": [
        "`-` 예시2 – 하다마르곱"
      ],
      "id": "13387a9e-8134-4dbd-b85d-bc83ef0de6ac"
    },
    {
      "cell_type": "code",
      "execution_count": 22,
      "metadata": {
        "tags": []
      },
      "outputs": [
        {
          "output_type": "display_data",
          "metadata": {},
          "data": {
            "text/plain": [
              "2-element Vector{Int64}:\n",
              " 2\n",
              " 6"
            ]
          }
        }
      ],
      "source": [
        "a = [1,2]\n",
        "b = [2,3] \n",
        "a .* b "
      ],
      "id": "0116fd0a-db06-4c80-9e1c-11fb3688205a"
    },
    {
      "cell_type": "markdown",
      "metadata": {},
      "source": [
        "`-` 예시3 – 예시2를 응용"
      ],
      "id": "37ba11fd-ad76-4522-8fed-58fe10223faa"
    },
    {
      "cell_type": "code",
      "execution_count": 23,
      "metadata": {
        "tags": []
      },
      "outputs": [
        {
          "output_type": "display_data",
          "metadata": {},
          "data": {
            "text/plain": [
              "2-element Vector{Any}:\n",
              " 3\n",
              "  \"ab\""
            ]
          }
        }
      ],
      "source": [
        "a = [1,'a']\n",
        "b = [3,'b']\n",
        "a .* b"
      ],
      "id": "98ce0dd4-f95f-49fe-8f8f-8c5002674777"
    },
    {
      "cell_type": "markdown",
      "metadata": {},
      "source": [
        "## C. 제곱연산\n",
        "\n",
        "`-` 예시1"
      ],
      "id": "27ac1672-0ef5-4946-a93c-0fba1066dae5"
    },
    {
      "cell_type": "code",
      "execution_count": 24,
      "metadata": {
        "tags": []
      },
      "outputs": [
        {
          "output_type": "display_data",
          "metadata": {},
          "data": {
            "text/plain": [
              "2-element Vector{Int64}:\n",
              " 1\n",
              " 4"
            ]
          }
        }
      ],
      "source": [
        "a = [1,2]\n",
        "a .^ 2"
      ],
      "id": "92cb182a-4bc5-4b0f-aacf-68c3b75b7c68"
    },
    {
      "cell_type": "markdown",
      "metadata": {},
      "source": [
        "`-` 예시2"
      ],
      "id": "fe1419b3-a769-48af-9fc5-eeada9229e6a"
    },
    {
      "cell_type": "code",
      "execution_count": 25,
      "metadata": {
        "tags": []
      },
      "outputs": [
        {
          "output_type": "display_data",
          "metadata": {},
          "data": {
            "text/plain": [
              "2-element Vector{String}:\n",
              " \"aa\"\n",
              " \"bbbb\""
            ]
          }
        }
      ],
      "source": [
        "a = [\"a\", \"bb\"] \n",
        "a .^ 2 "
      ],
      "id": "95718a50-b4c9-421c-a49f-76b2eb92520c"
    },
    {
      "cell_type": "markdown",
      "metadata": {},
      "source": [
        "## D. 내적\n",
        "\n",
        "`-` 예시"
      ],
      "id": "9ee1f73c-7e68-4ce7-876c-1c989a7a9589"
    },
    {
      "cell_type": "code",
      "execution_count": 26,
      "metadata": {
        "tags": []
      },
      "outputs": [],
      "source": [
        "using LinearAlgebra"
      ],
      "id": "fa98bbbc-e89c-4b23-b374-6faff67eda5b"
    },
    {
      "cell_type": "code",
      "execution_count": 27,
      "metadata": {
        "tags": []
      },
      "outputs": [
        {
          "output_type": "display_data",
          "metadata": {},
          "data": {
            "text/plain": [
              "14"
            ]
          }
        }
      ],
      "source": [
        "[1,2,3] ⋅ [1,2,3]"
      ],
      "id": "1c2f2d09-b95c-4240-ac94-93ca119a37cb"
    },
    {
      "cell_type": "code",
      "execution_count": 28,
      "metadata": {
        "tags": []
      },
      "outputs": [
        {
          "output_type": "display_data",
          "metadata": {},
          "data": {
            "text/plain": [
              "14"
            ]
          }
        }
      ],
      "source": [
        "dot([1,2,3],[1,2,3])"
      ],
      "id": "2fa934bb-e6aa-4496-bd2d-d6bb89c3595e"
    },
    {
      "cell_type": "code",
      "execution_count": 29,
      "metadata": {
        "tags": []
      },
      "outputs": [
        {
          "output_type": "display_data",
          "metadata": {},
          "data": {
            "text/plain": [
              "14"
            ]
          }
        }
      ],
      "source": [
        "[1,2,3]' * [1,2,3]"
      ],
      "id": "2c7b0746-7f22-4004-b2f9-f3838c9da13e"
    },
    {
      "cell_type": "markdown",
      "metadata": {},
      "source": [
        "# 5. 차원, 길이, 차원변경\n",
        "\n",
        "`-` 예시1"
      ],
      "id": "7e24394e-3d36-46db-94fe-6a9cb5b19c82"
    },
    {
      "cell_type": "code",
      "execution_count": 30,
      "metadata": {
        "tags": []
      },
      "outputs": [
        {
          "output_type": "display_data",
          "metadata": {},
          "data": {
            "text/plain": [
              "1:4"
            ]
          }
        }
      ],
      "source": [
        "a = 1:4\n",
        "a"
      ],
      "id": "b794d602-6a37-4b28-aa27-2c20347acff3"
    },
    {
      "cell_type": "code",
      "execution_count": 31,
      "metadata": {
        "tags": []
      },
      "outputs": [
        {
          "output_type": "display_data",
          "metadata": {},
          "data": {
            "text/plain": [
              "1"
            ]
          }
        }
      ],
      "source": [
        "ndims(a)"
      ],
      "id": "ee9d5270-6d1e-49ce-b782-214c4a7a0fa9"
    },
    {
      "cell_type": "code",
      "execution_count": 32,
      "metadata": {
        "tags": []
      },
      "outputs": [
        {
          "output_type": "display_data",
          "metadata": {},
          "data": {
            "text/plain": [
              "4"
            ]
          }
        }
      ],
      "source": [
        "length(a)"
      ],
      "id": "8bcd622c-b8eb-4b53-8b29-0f7943f736c3"
    },
    {
      "cell_type": "markdown",
      "metadata": {},
      "source": [
        "`-` 예시2"
      ],
      "id": "200e0ea2-f6f8-463d-9738-9843045f3754"
    },
    {
      "cell_type": "code",
      "execution_count": 33,
      "metadata": {
        "tags": []
      },
      "outputs": [
        {
          "output_type": "display_data",
          "metadata": {},
          "data": {
            "text/plain": [
              "1:4"
            ]
          }
        }
      ],
      "source": [
        "a = 1:4"
      ],
      "id": "4b13388e-a7d8-45ca-ba52-7e0a90d43a84"
    },
    {
      "cell_type": "code",
      "execution_count": 34,
      "metadata": {
        "tags": []
      },
      "outputs": [
        {
          "output_type": "display_data",
          "metadata": {},
          "data": {
            "text/plain": [
              "2×2 reshape(::UnitRange{Int64}, 2, 2) with eltype Int64:\n",
              " 1  3\n",
              " 2  4"
            ]
          }
        }
      ],
      "source": [
        "a = reshape(a,(2,2))\n",
        "a"
      ],
      "id": "015495ff-d54f-4fb6-ae3a-79ae29b58e4b"
    },
    {
      "cell_type": "code",
      "execution_count": 35,
      "metadata": {
        "tags": []
      },
      "outputs": [
        {
          "output_type": "display_data",
          "metadata": {},
          "data": {
            "text/plain": [
              "2"
            ]
          }
        }
      ],
      "source": [
        "ndims(a)"
      ],
      "id": "7b6a5f53-42e7-4e8a-9047-0ff7b57fd7de"
    },
    {
      "cell_type": "code",
      "execution_count": 36,
      "metadata": {
        "tags": []
      },
      "outputs": [
        {
          "output_type": "display_data",
          "metadata": {},
          "data": {
            "text/plain": [
              "4"
            ]
          }
        }
      ],
      "source": [
        "length(a)"
      ],
      "id": "504c6057-af02-4cb7-a664-112050cc7505"
    },
    {
      "cell_type": "markdown",
      "metadata": {},
      "source": [
        "# 6. 조건에 맞는 원소 출력\n",
        "\n",
        "`-` 예시1"
      ],
      "id": "544509c6-0671-4c5b-b45b-aa56b4bd6fd5"
    },
    {
      "cell_type": "code",
      "execution_count": 37,
      "metadata": {
        "tags": []
      },
      "outputs": [
        {
          "output_type": "display_data",
          "metadata": {},
          "data": {
            "text/plain": [
              "5-element Vector{Int64}:\n",
              " 10\n",
              " 15\n",
              " 20\n",
              " 25\n",
              " 30"
            ]
          }
        }
      ],
      "source": [
        "a = collect(10:5:30)\n",
        "a"
      ],
      "id": "02dbcdcf-ccf5-4796-99ec-de64a02b2cfa"
    },
    {
      "cell_type": "code",
      "execution_count": 38,
      "metadata": {
        "tags": []
      },
      "outputs": [
        {
          "output_type": "display_data",
          "metadata": {},
          "data": {
            "text/plain": [
              "2-element Vector{Int64}:\n",
              " 10\n",
              " 15"
            ]
          }
        }
      ],
      "source": [
        "a[a .< 20]"
      ],
      "id": "2d20993d-d764-4bd6-815c-93420ff238b9"
    },
    {
      "cell_type": "code",
      "execution_count": 39,
      "metadata": {
        "tags": []
      },
      "outputs": [
        {
          "output_type": "display_data",
          "metadata": {},
          "data": {
            "text/plain": [
              "2-element Vector{Int64}:\n",
              " 10\n",
              " 15"
            ]
          }
        }
      ],
      "source": [
        "@. a[a < 20] # 이게 편할지도"
      ],
      "id": "0fa704df-d2e5-40e4-a68c-cbc2fa80f4d1"
    },
    {
      "cell_type": "markdown",
      "metadata": {},
      "source": [
        "`-` 예시2"
      ],
      "id": "7994b378-a2e4-4223-b052-d1e5d62317c0"
    },
    {
      "cell_type": "code",
      "execution_count": 40,
      "metadata": {
        "tags": []
      },
      "outputs": [
        {
          "output_type": "display_data",
          "metadata": {},
          "data": {
            "text/plain": [
              "2-element Vector{Int64}:\n",
              " 1\n",
              " 2"
            ]
          }
        }
      ],
      "source": [
        "a = [1,2,3,4,5]\n",
        "b = [5,4,3,2,1] \n",
        "@. a[a < b]"
      ],
      "id": "4a25f217-395c-4b1d-bfae-ddded6862e84"
    },
    {
      "cell_type": "markdown",
      "metadata": {},
      "source": [
        "# 7. 원소의 추가\n",
        "\n",
        "## A. `append!`\n",
        "\n",
        "`-` 예시"
      ],
      "id": "fc73ecb9-9dcb-4608-a306-16b378756798"
    },
    {
      "cell_type": "code",
      "execution_count": 41,
      "metadata": {
        "tags": []
      },
      "outputs": [
        {
          "output_type": "display_data",
          "metadata": {},
          "data": {
            "text/plain": [
              "4-element Vector{Int64}:\n",
              " 1\n",
              " 2\n",
              " 3\n",
              " 4"
            ]
          }
        }
      ],
      "source": [
        "a = [1,2,3]\n",
        "b = [4] \n",
        "append!(a,b)"
      ],
      "id": "0c46ad3b-2a05-4d44-9762-56d47a1aacbf"
    },
    {
      "cell_type": "code",
      "execution_count": 42,
      "metadata": {
        "tags": []
      },
      "outputs": [
        {
          "output_type": "display_data",
          "metadata": {},
          "data": {
            "text/plain": [
              "([1, 2, 3, 4], [4])"
            ]
          }
        }
      ],
      "source": [
        "a,b"
      ],
      "id": "34b54c6e-f7fd-461f-87dd-b107e328d3ba"
    },
    {
      "cell_type": "markdown",
      "metadata": {},
      "source": [
        "> `append!`는 numpy에서 concat 느낌\n",
        "\n",
        "## B. `push!`\n",
        "\n",
        "`-` 예시"
      ],
      "id": "f31e3d4c-cdd4-4b63-958c-8d06a3bfa1bd"
    },
    {
      "cell_type": "code",
      "execution_count": 43,
      "metadata": {
        "tags": []
      },
      "outputs": [
        {
          "output_type": "display_data",
          "metadata": {},
          "data": {
            "text/plain": [
              "4-element Vector{Int64}:\n",
              " 1\n",
              " 2\n",
              " 3\n",
              " 4"
            ]
          }
        }
      ],
      "source": [
        "a = [1,2,3]\n",
        "push!(a,4)"
      ],
      "id": "3d819933-f469-4c0c-a496-73a0e0061811"
    },
    {
      "cell_type": "markdown",
      "metadata": {},
      "source": [
        "> `push!`는 list에서 append 느낌\n",
        "\n",
        "# 8. 결합\n",
        "\n",
        "## A. `cat`\n",
        "\n",
        "> np.concat, np.stack 등이 합쳐진 형태\n",
        "\n",
        "`-` 예시1"
      ],
      "id": "da3d5336-8185-48e6-9a9b-c5ab4b7f7d75"
    },
    {
      "cell_type": "code",
      "execution_count": 44,
      "metadata": {
        "tags": []
      },
      "outputs": [
        {
          "output_type": "display_data",
          "metadata": {},
          "data": {
            "text/plain": [
              "1-element Vector{Int64}:\n",
              " 4"
            ]
          }
        }
      ],
      "source": [
        "a = [1,2,3]\n",
        "b = [4] "
      ],
      "id": "efb4c482-360f-4b57-bf10-0d7a2db74264"
    },
    {
      "cell_type": "code",
      "execution_count": 45,
      "metadata": {
        "tags": []
      },
      "outputs": [
        {
          "output_type": "display_data",
          "metadata": {},
          "data": {
            "text/plain": [
              "4-element Vector{Int64}:\n",
              " 1\n",
              " 2\n",
              " 3\n",
              " 4"
            ]
          }
        }
      ],
      "source": [
        "cat(a,b,dims=1) # np.concat 과 비슷"
      ],
      "id": "e730170c-cd3c-451e-a4c5-1bd909449587"
    },
    {
      "cell_type": "markdown",
      "metadata": {},
      "source": [
        "`-` 예시2"
      ],
      "id": "8e22d42b-b132-44db-84da-e7e11c991e35"
    },
    {
      "cell_type": "code",
      "execution_count": 46,
      "metadata": {
        "tags": []
      },
      "outputs": [
        {
          "output_type": "display_data",
          "metadata": {},
          "data": {
            "text/plain": [
              "3-element Vector{Int64}:\n",
              " -1\n",
              " -2\n",
              " -3"
            ]
          }
        }
      ],
      "source": [
        "a = [1,2,3]\n",
        "b = -a"
      ],
      "id": "9da82cb3-3db8-48e2-a2a1-e9333f55164e"
    },
    {
      "cell_type": "code",
      "execution_count": 47,
      "metadata": {
        "tags": []
      },
      "outputs": [
        {
          "output_type": "display_data",
          "metadata": {},
          "data": {
            "text/plain": [
              "3×2 Matrix{Int64}:\n",
              " 1  -1\n",
              " 2  -2\n",
              " 3  -3"
            ]
          }
        }
      ],
      "source": [
        "cat(a,b,dims=2) "
      ],
      "id": "b1eef012-4cd7-42c1-8de0-000d25b0bc1d"
    },
    {
      "cell_type": "code",
      "execution_count": 48,
      "metadata": {
        "tags": []
      },
      "outputs": [
        {
          "output_type": "display_data",
          "metadata": {},
          "data": {
            "text/plain": [
              "6-element Vector{Int64}:\n",
              "  1\n",
              "  2\n",
              "  3\n",
              " -1\n",
              " -2\n",
              " -3"
            ]
          }
        }
      ],
      "source": [
        "cat(a,b,dims=1)"
      ],
      "id": "d9508efb-355d-4ce9-b832-d46ccd817cd6"
    },
    {
      "cell_type": "markdown",
      "metadata": {},
      "source": [
        "`-` 예시3"
      ],
      "id": "8b7ec370-6e3a-42fb-b49a-f88ad864d884"
    },
    {
      "cell_type": "code",
      "execution_count": 49,
      "metadata": {
        "tags": []
      },
      "outputs": [
        {
          "output_type": "display_data",
          "metadata": {},
          "data": {
            "text/plain": [
              "2×3 Matrix{Int64}:\n",
              " -1  -2  -3\n",
              " -3  -4  -5"
            ]
          }
        }
      ],
      "source": [
        "a = [1 2 3\n",
        "     3 4 5]\n",
        "b = -a"
      ],
      "id": "5744451d-4fde-41f0-b9a8-68aa01785a7f"
    },
    {
      "cell_type": "code",
      "execution_count": 50,
      "metadata": {
        "tags": []
      },
      "outputs": [
        {
          "output_type": "display_data",
          "metadata": {},
          "data": {
            "text/plain": [
              "4×3 Matrix{Int64}:\n",
              "  1   2   3\n",
              "  3   4   5\n",
              " -1  -2  -3\n",
              " -3  -4  -5"
            ]
          }
        }
      ],
      "source": [
        "cat(a,b,dims=1)"
      ],
      "id": "3d58e80f-5a62-49bc-b020-d282998978d3"
    },
    {
      "cell_type": "code",
      "execution_count": 51,
      "metadata": {
        "tags": []
      },
      "outputs": [
        {
          "output_type": "display_data",
          "metadata": {},
          "data": {
            "text/plain": [
              "2×6 Matrix{Int64}:\n",
              " 1  2  3  -1  -2  -3\n",
              " 3  4  5  -3  -4  -5"
            ]
          }
        }
      ],
      "source": [
        "cat(a,b,dims=2)"
      ],
      "id": "06a1b669-d894-4019-ba8c-9644470f9fb1"
    },
    {
      "cell_type": "code",
      "execution_count": 52,
      "metadata": {
        "tags": []
      },
      "outputs": [
        {
          "output_type": "display_data",
          "metadata": {},
          "data": {
            "text/plain": [
              "2×3×2 Array{Int64, 3}:\n",
              "[:, :, 1] =\n",
              " 1  2  3\n",
              " 3  4  5\n",
              "\n",
              "[:, :, 2] =\n",
              " -1  -2  -3\n",
              " -3  -4  -5"
            ]
          }
        }
      ],
      "source": [
        "cat(a,b,dims=3)"
      ],
      "id": "9f38b410-b70a-4d39-a2c7-9f11a985ce34"
    },
    {
      "cell_type": "markdown",
      "metadata": {},
      "source": [
        "`-` 예시4 – 아래도 가능"
      ],
      "id": "224a1356-22d6-4037-bece-582812ba8ac0"
    },
    {
      "cell_type": "code",
      "execution_count": 53,
      "metadata": {
        "tags": []
      },
      "outputs": [
        {
          "output_type": "display_data",
          "metadata": {},
          "data": {
            "text/plain": [
              "4-element Vector{Int64}:\n",
              " 1\n",
              " 2\n",
              " 3\n",
              " 2"
            ]
          }
        }
      ],
      "source": [
        "a = [1,2,3]\n",
        "b = 2 \n",
        "cat(a,b,dims=1)"
      ],
      "id": "44a5475f-d678-42d3-b3e3-300558a302e8"
    },
    {
      "cell_type": "markdown",
      "metadata": {},
      "source": [
        "`-` 예시5 – 아래도 가능"
      ],
      "id": "cc4775d1-b070-4419-b9f4-36ae45ec1466"
    },
    {
      "cell_type": "code",
      "execution_count": 54,
      "metadata": {
        "tags": []
      },
      "outputs": [
        {
          "output_type": "display_data",
          "metadata": {},
          "data": {
            "text/plain": [
              "([1 3; 2 4], [3, 4])"
            ]
          }
        }
      ],
      "source": [
        "a = reshape(1:4, (2,2))\n",
        "b = [3,4]\n",
        "a,b"
      ],
      "id": "7f959c6d-4092-41eb-9ddd-ec82be3fe4cc"
    },
    {
      "cell_type": "code",
      "execution_count": 55,
      "metadata": {
        "tags": []
      },
      "outputs": [
        {
          "output_type": "display_data",
          "metadata": {},
          "data": {
            "text/plain": [
              "2×3 Matrix{Int64}:\n",
              " 1  3  3\n",
              " 2  4  4"
            ]
          }
        }
      ],
      "source": [
        "cat(a,b,dims=2)"
      ],
      "id": "5b9fc29d-028c-4f5c-b1c0-c34e24596331"
    },
    {
      "cell_type": "markdown",
      "metadata": {},
      "source": [
        "## B. `[]`를 이용한 결합\n",
        "\n",
        "`-` 예시1"
      ],
      "id": "1cbcf0e3-aead-4b97-ae19-181a240546b7"
    },
    {
      "cell_type": "code",
      "execution_count": 56,
      "metadata": {
        "tags": []
      },
      "outputs": [
        {
          "output_type": "display_data",
          "metadata": {},
          "data": {
            "text/plain": [
              "([1, 2, 3], [-1, -2, -3])"
            ]
          }
        }
      ],
      "source": [
        "a = [1,2,3]\n",
        "b = -a\n",
        "a,b"
      ],
      "id": "a40e983f-b960-486d-a1b0-6911908ac558"
    },
    {
      "cell_type": "code",
      "execution_count": 57,
      "metadata": {
        "tags": []
      },
      "outputs": [
        {
          "output_type": "display_data",
          "metadata": {},
          "data": {
            "text/plain": [
              "3×2 Matrix{Int64}:\n",
              " 1  -1\n",
              " 2  -2\n",
              " 3  -3"
            ]
          }
        }
      ],
      "source": [
        "[a b]"
      ],
      "id": "f0b96f7a-93eb-4f36-8712-f238aebf557e"
    },
    {
      "cell_type": "code",
      "execution_count": 58,
      "metadata": {
        "tags": []
      },
      "outputs": [
        {
          "output_type": "display_data",
          "metadata": {},
          "data": {
            "text/plain": [
              "6-element Vector{Int64}:\n",
              "  1\n",
              "  2\n",
              "  3\n",
              " -1\n",
              " -2\n",
              " -3"
            ]
          }
        }
      ],
      "source": [
        "[a\n",
        " b]"
      ],
      "id": "ea265071-8170-4769-a1fe-1e6f3d420aa4"
    },
    {
      "cell_type": "markdown",
      "metadata": {},
      "source": [
        "`-` 예시2"
      ],
      "id": "e74b5a2a-4830-4206-a666-d7c897ab77bd"
    },
    {
      "cell_type": "code",
      "execution_count": 59,
      "metadata": {
        "tags": []
      },
      "outputs": [
        {
          "output_type": "display_data",
          "metadata": {},
          "data": {
            "text/plain": [
              "4"
            ]
          }
        }
      ],
      "source": [
        "a = [1,2,3] \n",
        "b = 4"
      ],
      "id": "dc385911-ca5f-445d-9ef0-35ea5d370f2b"
    },
    {
      "cell_type": "code",
      "execution_count": 60,
      "metadata": {
        "tags": []
      },
      "outputs": [
        {
          "output_type": "display_data",
          "metadata": {},
          "data": {
            "text/plain": [
              "4-element Vector{Int64}:\n",
              " 1\n",
              " 2\n",
              " 3\n",
              " 4"
            ]
          }
        }
      ],
      "source": [
        "[a \n",
        " b]"
      ],
      "id": "9d8ac161-bed0-4086-976a-9a16cd3e3884"
    },
    {
      "cell_type": "markdown",
      "metadata": {},
      "source": [
        "`-` 예시3"
      ],
      "id": "98f65f7e-c12f-4c42-b1b5-64f969e364a9"
    },
    {
      "cell_type": "code",
      "execution_count": 61,
      "metadata": {
        "tags": []
      },
      "outputs": [
        {
          "output_type": "display_data",
          "metadata": {},
          "data": {
            "text/plain": [
              "2-element Vector{Int64}:\n",
              " 0\n",
              " 0"
            ]
          }
        }
      ],
      "source": [
        "a = [1 2; 3 4]\n",
        "b = [0,0] "
      ],
      "id": "e67b7607-20d8-45ba-b43f-1bff3bed0d6f"
    },
    {
      "cell_type": "code",
      "execution_count": 62,
      "metadata": {
        "tags": []
      },
      "outputs": [
        {
          "output_type": "display_data",
          "metadata": {},
          "data": {
            "text/plain": [
              "2×3 Matrix{Int64}:\n",
              " 1  2  0\n",
              " 3  4  0"
            ]
          }
        }
      ],
      "source": [
        "[a b]"
      ],
      "id": "23631b25-8a31-43ec-8e93-89e9d9d0badf"
    }
  ],
  "nbformat": 4,
  "nbformat_minor": 5,
  "metadata": {
    "kernelspec": {
      "name": "julia-1.9",
      "display_name": "Julia 1.9.2",
      "language": "julia"
    },
    "language_info": {
      "name": "julia",
      "file_extension": ".jl",
      "mimetype": "application/julia",
      "version": "1.9.2"
    }
  }
}