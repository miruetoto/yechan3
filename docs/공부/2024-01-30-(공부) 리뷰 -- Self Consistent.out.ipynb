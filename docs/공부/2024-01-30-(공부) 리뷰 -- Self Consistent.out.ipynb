{
  "cells": [
    {
      "cell_type": "markdown",
      "metadata": {},
      "source": [
        "# (공부) 리뷰 – Self Consistent\n",
        "\n",
        "신록예찬  \n",
        "2024-01-30\n",
        "\n",
        "${\\bf y}$ is self-consistent for ${\\bf X}$"
      ],
      "id": "1d242aef-d603-4b76-b311-32ac9662cd91"
    }
  ],
  "nbformat": 4,
  "nbformat_minor": 5,
  "metadata": {
    "kernelspec": {
      "name": "python3",
      "display_name": "Python 3 (ipykernel)",
      "language": "python"
    },
    "language_info": {
      "name": "python",
      "codemirror_mode": {
        "name": "ipython",
        "version": "3"
      },
      "file_extension": ".py",
      "mimetype": "text/x-python",
      "nbconvert_exporter": "python",
      "pygments_lexer": "ipython3",
      "version": "3.11.7"
    }
  }
}