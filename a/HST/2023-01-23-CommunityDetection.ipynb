{
 "cells": [
  {
   "cell_type": "raw",
   "id": "72290f60-f713-45b6-8faf-efa41338a1e3",
   "metadata": {},
   "source": [
    "---\n",
    "title: \"**[HST]** CommunityDetection\"\n",
    "author: \"신록예찬\"\n",
    "date: \"01/24/2023\"\n",
    "---"
   ]
  },
  {
   "cell_type": "markdown",
   "id": "9271b1db-c9ed-4e16-babe-f9749373d40e",
   "metadata": {},
   "source": [
    "# ref \n",
    "\n",
    "`-` @roddenberry2020exact \n",
    "\n",
    "- <https://arxiv.org/pdf/2001.10944.pdf> \n",
    "- intro에 그래프는 single correct한 structure를 알 수 없다는 이야기가 있는데 이를 이용해야함. "
   ]
  },
  {
   "cell_type": "markdown",
   "id": "f7749cfa-041d-47b2-a84e-1dd2e3a94551",
   "metadata": {},
   "source": [
    "# 방법론 "
   ]
  }
 ],
 "metadata": {
  "kernelspec": {
   "display_name": "Python 3 (ipykernel)",
   "language": "python",
   "name": "python3"
  },
  "language_info": {
   "codemirror_mode": {
    "name": "ipython",
    "version": 3
   },
   "file_extension": ".py",
   "mimetype": "text/x-python",
   "name": "python",
   "nbconvert_exporter": "python",
   "pygments_lexer": "ipython3",
   "version": "3.11.4"
  }
 },
 "nbformat": 4,
 "nbformat_minor": 5
}
