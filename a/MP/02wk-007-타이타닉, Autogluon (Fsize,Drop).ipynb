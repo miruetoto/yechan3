{
 "cells": [
  {
   "cell_type": "raw",
   "id": "c99794cc-461a-45cd-a975-bacb7163c1df",
   "metadata": {},
   "source": [
    "---\n",
    "title: \"02wk-007: 타이타닉, Autogluon (Fsize,Drop)\"\n",
    "author: \"최규빈\"\n",
    "date: \"09/12/2023\"\n",
    "bibliography: ref.bib\n",
    "---"
   ]
  },
  {
   "cell_type": "markdown",
   "id": "b6fa53b5-54bb-4f9d-923d-879acc7f4c59",
   "metadata": {},
   "source": [
    "# 1. 강의영상 "
   ]
  },
  {
   "cell_type": "markdown",
   "id": "68f9f590-fe57-4e6d-aa2c-0cea9b5b700f",
   "metadata": {},
   "source": [
    "{{<video https://youtu.be/playlist?list=PLQqh36zP38-wiSZXhNO5rMncu6h42SNDi&si=fmqkO_EQek1SgbNQ >}}"
   ]
  },
  {
   "cell_type": "markdown",
   "id": "5a5b102c-4768-4f1b-9a95-33f5ee1c2890",
   "metadata": {},
   "source": [
    "# 2. Import"
   ]
  },
  {
   "cell_type": "markdown",
   "id": "87f78331-284f-4f1a-b69d-157306524aa0",
   "metadata": {},
   "source": [
    "``` python\n",
    "# This Python 3 environment comes with many helpful analytics libraries installed\n",
    "# It is defined by the kaggle/python Docker image: https://github.com/kaggle/docker-python\n",
    "# For example, here's several helpful packages to load\n",
    "\n",
    "import numpy as np # linear algebra\n",
    "import pandas as pd # data processing, CSV file I/O (e.g. pd.read_csv)\n",
    "\n",
    "# Input data files are available in the read-only \"../input/\" directory\n",
    "# For example, running this (by clicking run or pressing Shift+Enter) will list all files under the input directory\n",
    "\n",
    "import os\n",
    "for dirname, _, filenames in os.walk('/kaggle/input'):\n",
    "    for filename in filenames:\n",
    "        print(os.path.join(dirname, filename))\n",
    "\n",
    "# You can write up to 20GB to the current directory (/kaggle/working/) that gets preserved as output when you create a version using \"Save & Run All\" \n",
    "# You can also write temporary files to /kaggle/temp/, but they won't be saved outside of the current session\n",
    "```\n",
    "\n",
    "    /kaggle/input/titanic/train.csv\n",
    "    /kaggle/input/titanic/test.csv\n",
    "    /kaggle/input/titanic/gender_submission.csv"
   ]
  },
  {
   "cell_type": "code",
   "execution_count": 11,
   "id": "7df920d4-ec5e-4342-b087-fc3c3666c3a5",
   "metadata": {},
   "outputs": [],
   "source": [
    "#pip install autogluon"
   ]
  },
  {
   "cell_type": "code",
   "execution_count": 12,
   "id": "773d010f-fcd9-496e-8706-b9ca032f33c0",
   "metadata": {},
   "outputs": [],
   "source": [
    "from autogluon.tabular import TabularDataset, TabularPredictor"
   ]
  },
  {
   "cell_type": "markdown",
   "id": "02396e39-2802-4b85-b1c9-74db13653ef1",
   "metadata": {},
   "source": [
    "# 3. 분석의 절차"
   ]
  },
  {
   "cell_type": "markdown",
   "id": "fbc93d4a-0a03-4763-98f2-109ebab2d89d",
   "metadata": {},
   "source": [
    "## A. 데이터"
   ]
  },
  {
   "cell_type": "markdown",
   "id": "aeb0a946-489c-4f00-b1fd-ac6263f437af",
   "metadata": {},
   "source": [
    "`-` 비유: 문제를 받아오는 과정으로 비유할 수 있다. "
   ]
  },
  {
   "cell_type": "code",
   "execution_count": 25,
   "id": "561744ad-05bb-48e1-a58d-82429da18171",
   "metadata": {},
   "outputs": [
    {
     "name": "stderr",
     "output_type": "stream",
     "text": [
      "Loaded data from: ./titanic/train.csv | Columns = 12 / 12 | Rows = 891 -> 891\n",
      "Loaded data from: ./titanic/test.csv | Columns = 11 / 11 | Rows = 418 -> 418\n"
     ]
    }
   ],
   "source": [
    "tr = TabularDataset(\"/kaggle/input/titanic/train.csv\")\n",
    "tst = TabularDataset(\"/kaggle/input/titanic/test.csv\")"
   ]
  },
  {
   "cell_type": "markdown",
   "id": "19b74cc9-b44a-474a-9fe5-7d765eebfc74",
   "metadata": {},
   "source": [
    "`-` 피처엔지니어링"
   ]
  },
  {
   "cell_type": "code",
   "execution_count": 26,
   "id": "13fb6de0-a801-4b0c-a8da-04d4ea5e0537",
   "metadata": {},
   "outputs": [],
   "source": [
    "_tr = tr.eval('Fsize = SibSp + Parch').drop(['SibSp','Parch'],axis=1)\n",
    "_tst = tst.eval('Fsize = SibSp + Parch').drop(['SibSp','Parch'],axis=1)"
   ]
  },
  {
   "cell_type": "markdown",
   "id": "17fff3de-baff-4dbd-ad73-c57eaf31ef11",
   "metadata": {},
   "source": [
    "## B. Predictor 생성 "
   ]
  },
  {
   "cell_type": "markdown",
   "id": "6fd68fb3-6cdc-410d-b3d3-194901d17c0a",
   "metadata": {},
   "source": [
    "`-` 비유: 문제를 풀 학생을 생성하는 과정으로 비유할 수 있다. "
   ]
  },
  {
   "cell_type": "code",
   "execution_count": 29,
   "id": "e8a5f51d-726c-4059-97e2-c9e81b05d08e",
   "metadata": {},
   "outputs": [
    {
     "name": "stderr",
     "output_type": "stream",
     "text": [
      "No path specified. Models will be saved in: \"AutogluonModels/ag-20230912_120900/\"\n"
     ]
    }
   ],
   "source": [
    "predictr = TabularPredictor(\"Survived\")"
   ]
  },
  {
   "cell_type": "markdown",
   "id": "62990c11-af57-4946-b100-e9b12f5dd498",
   "metadata": {},
   "source": [
    "## C. 적합(fit) "
   ]
  },
  {
   "cell_type": "markdown",
   "id": "0e0016d1-7b92-4b2d-aec3-64312e8c3094",
   "metadata": {},
   "source": [
    "`-` 비유: 학생이 공부를 하는 과정으로 비유할 수 있다. "
   ]
  },
  {
   "cell_type": "markdown",
   "id": "b7ef4bc9-68be-4870-bea1-77961125f983",
   "metadata": {},
   "source": [
    "`-` 학습"
   ]
  },
  {
   "cell_type": "code",
   "execution_count": 30,
   "id": "41979ff5-73f7-458a-9fc7-de56d1690a54",
   "metadata": {},
   "outputs": [
    {
     "name": "stderr",
     "output_type": "stream",
     "text": [
      "Beginning AutoGluon training ...\n",
      "AutoGluon will save models to \"AutogluonModels/ag-20230912_120900/\"\n",
      "AutoGluon Version:  0.8.2\n",
      "Python Version:     3.10.12\n",
      "Operating System:   Linux\n",
      "Platform Machine:   x86_64\n",
      "Platform Version:   #26~22.04.1-Ubuntu SMP PREEMPT_DYNAMIC Thu Jul 13 16:27:29 UTC 2\n",
      "Disk Space Avail:   293.85 GB / 490.57 GB (59.9%)\n",
      "Train Data Rows:    891\n",
      "Train Data Columns: 10\n",
      "Label Column: Survived\n",
      "Preprocessing data ...\n",
      "AutoGluon infers your prediction problem is: 'binary' (because only two unique label-values observed).\n",
      "\t2 unique label values:  [0, 1]\n",
      "\tIf 'binary' is not the correct problem_type, please manually specify the problem_type parameter during predictor init (You may specify problem_type as one of: ['binary', 'multiclass', 'regression'])\n",
      "Selected class <--> label mapping:  class 1 = 1, class 0 = 0\n",
      "Using Feature Generators to preprocess the data ...\n",
      "Fitting AutoMLPipelineFeatureGenerator...\n",
      "\tAvailable Memory:                    124991.67 MB\n",
      "\tTrain Data (Original)  Memory Usage: 0.31 MB (0.0% of available memory)\n",
      "\tInferring data type of each feature based on column values. Set feature_metadata_in to manually specify special dtypes of the features.\n",
      "/home/cgb2/anaconda3/envs/mp/lib/python3.10/site-packages/autogluon/common/features/infer_types.py:118: UserWarning: Could not infer format, so each element will be parsed individually, falling back to `dateutil`. To ensure parsing is consistent and as-expected, please specify a format.\n",
      "  result = pd.to_datetime(X, errors=\"coerce\")\n",
      "/home/cgb2/anaconda3/envs/mp/lib/python3.10/site-packages/autogluon/common/features/infer_types.py:118: UserWarning: Could not infer format, so each element will be parsed individually, falling back to `dateutil`. To ensure parsing is consistent and as-expected, please specify a format.\n",
      "  result = pd.to_datetime(X, errors=\"coerce\")\n",
      "/home/cgb2/anaconda3/envs/mp/lib/python3.10/site-packages/autogluon/common/features/infer_types.py:118: UserWarning: Could not infer format, so each element will be parsed individually, falling back to `dateutil`. To ensure parsing is consistent and as-expected, please specify a format.\n",
      "  result = pd.to_datetime(X, errors=\"coerce\")\n",
      "/home/cgb2/anaconda3/envs/mp/lib/python3.10/site-packages/autogluon/common/features/infer_types.py:118: UserWarning: Could not infer format, so each element will be parsed individually, falling back to `dateutil`. To ensure parsing is consistent and as-expected, please specify a format.\n",
      "  result = pd.to_datetime(X, errors=\"coerce\")\n",
      "/home/cgb2/anaconda3/envs/mp/lib/python3.10/site-packages/autogluon/common/features/infer_types.py:118: UserWarning: Could not infer format, so each element will be parsed individually, falling back to `dateutil`. To ensure parsing is consistent and as-expected, please specify a format.\n",
      "  result = pd.to_datetime(X, errors=\"coerce\")\n",
      "\tStage 1 Generators:\n",
      "\t\tFitting AsTypeFeatureGenerator...\n",
      "\t\t\tNote: Converting 1 features to boolean dtype as they only contain 2 unique values.\n",
      "\tStage 2 Generators:\n",
      "\t\tFitting FillNaFeatureGenerator...\n",
      "\tStage 3 Generators:\n",
      "\t\tFitting IdentityFeatureGenerator...\n",
      "\t\tFitting CategoryFeatureGenerator...\n",
      "\t\t\tFitting CategoryMemoryMinimizeFeatureGenerator...\n",
      "\t\tFitting TextSpecialFeatureGenerator...\n",
      "\t\t\tFitting BinnedFeatureGenerator...\n",
      "\t\t\tFitting DropDuplicatesFeatureGenerator...\n",
      "\t\tFitting TextNgramFeatureGenerator...\n",
      "\t\t\tFitting CountVectorizer for text features: ['Name']\n",
      "\t\t\tCountVectorizer fit with vocabulary size = 8\n",
      "\tStage 4 Generators:\n",
      "\t\tFitting DropUniqueFeatureGenerator...\n",
      "\tStage 5 Generators:\n",
      "\t\tFitting DropDuplicatesFeatureGenerator...\n",
      "\tTypes of features in original data (raw dtype, special dtypes):\n",
      "\t\t('float', [])        : 2 | ['Age', 'Fare']\n",
      "\t\t('int', [])          : 3 | ['PassengerId', 'Pclass', 'Fsize']\n",
      "\t\t('object', [])       : 4 | ['Sex', 'Ticket', 'Cabin', 'Embarked']\n",
      "\t\t('object', ['text']) : 1 | ['Name']\n",
      "\tTypes of features in processed data (raw dtype, special dtypes):\n",
      "\t\t('category', [])                    : 3 | ['Ticket', 'Cabin', 'Embarked']\n",
      "\t\t('float', [])                       : 2 | ['Age', 'Fare']\n",
      "\t\t('int', [])                         : 3 | ['PassengerId', 'Pclass', 'Fsize']\n",
      "\t\t('int', ['binned', 'text_special']) : 9 | ['Name.char_count', 'Name.word_count', 'Name.capital_ratio', 'Name.lower_ratio', 'Name.special_ratio', ...]\n",
      "\t\t('int', ['bool'])                   : 1 | ['Sex']\n",
      "\t\t('int', ['text_ngram'])             : 9 | ['__nlp__.henry', '__nlp__.john', '__nlp__.master', '__nlp__.miss', '__nlp__.mr', ...]\n",
      "\t0.2s = Fit runtime\n",
      "\t10 features in original data used to generate 27 features in processed data.\n",
      "\tTrain Data (Processed) Memory Usage: 0.07 MB (0.0% of available memory)\n",
      "Data preprocessing and feature engineering runtime = 0.19s ...\n",
      "AutoGluon will gauge predictive performance using evaluation metric: 'accuracy'\n",
      "\tTo change this, specify the eval_metric parameter of Predictor()\n",
      "Automatically generating train/validation split with holdout_frac=0.2, Train Rows: 712, Val Rows: 179\n",
      "User-specified model hyperparameters to be fit:\n",
      "{\n",
      "\t'NN_TORCH': {},\n",
      "\t'GBM': [{'extra_trees': True, 'ag_args': {'name_suffix': 'XT'}}, {}, 'GBMLarge'],\n",
      "\t'CAT': {},\n",
      "\t'XGB': {},\n",
      "\t'FASTAI': {},\n",
      "\t'RF': [{'criterion': 'gini', 'ag_args': {'name_suffix': 'Gini', 'problem_types': ['binary', 'multiclass']}}, {'criterion': 'entropy', 'ag_args': {'name_suffix': 'Entr', 'problem_types': ['binary', 'multiclass']}}, {'criterion': 'squared_error', 'ag_args': {'name_suffix': 'MSE', 'problem_types': ['regression', 'quantile']}}],\n",
      "\t'XT': [{'criterion': 'gini', 'ag_args': {'name_suffix': 'Gini', 'problem_types': ['binary', 'multiclass']}}, {'criterion': 'entropy', 'ag_args': {'name_suffix': 'Entr', 'problem_types': ['binary', 'multiclass']}}, {'criterion': 'squared_error', 'ag_args': {'name_suffix': 'MSE', 'problem_types': ['regression', 'quantile']}}],\n",
      "\t'KNN': [{'weights': 'uniform', 'ag_args': {'name_suffix': 'Unif'}}, {'weights': 'distance', 'ag_args': {'name_suffix': 'Dist'}}],\n",
      "}\n",
      "Fitting 13 L1 models ...\n",
      "Fitting model: KNeighborsUnif ...\n",
      "\t0.6536\t = Validation score   (accuracy)\n",
      "\t0.01s\t = Training   runtime\n",
      "\t0.0s\t = Validation runtime\n",
      "Fitting model: KNeighborsDist ...\n",
      "\t0.6536\t = Validation score   (accuracy)\n",
      "\t0.01s\t = Training   runtime\n",
      "\t0.0s\t = Validation runtime\n",
      "Fitting model: LightGBMXT ...\n",
      "\t0.8101\t = Validation score   (accuracy)\n",
      "\t0.2s\t = Training   runtime\n",
      "\t0.0s\t = Validation runtime\n",
      "Fitting model: LightGBM ...\n",
      "\t0.8268\t = Validation score   (accuracy)\n",
      "\t0.28s\t = Training   runtime\n",
      "\t0.0s\t = Validation runtime\n",
      "Fitting model: RandomForestGini ...\n",
      "\t0.8156\t = Validation score   (accuracy)\n",
      "\t0.33s\t = Training   runtime\n",
      "\t0.09s\t = Validation runtime\n",
      "Fitting model: RandomForestEntr ...\n",
      "\t0.8212\t = Validation score   (accuracy)\n",
      "\t0.38s\t = Training   runtime\n",
      "\t0.21s\t = Validation runtime\n",
      "Fitting model: CatBoost ...\n",
      "\t0.8268\t = Validation score   (accuracy)\n",
      "\t0.66s\t = Training   runtime\n",
      "\t0.0s\t = Validation runtime\n",
      "Fitting model: ExtraTreesGini ...\n",
      "\t0.8045\t = Validation score   (accuracy)\n",
      "\t0.52s\t = Training   runtime\n",
      "\t0.18s\t = Validation runtime\n",
      "Fitting model: ExtraTreesEntr ...\n",
      "\t0.7989\t = Validation score   (accuracy)\n",
      "\t0.35s\t = Training   runtime\n",
      "\t0.18s\t = Validation runtime\n",
      "Fitting model: NeuralNetFastAI ...\n",
      "\t0.8268\t = Validation score   (accuracy)\n",
      "\t0.46s\t = Training   runtime\n",
      "\t0.01s\t = Validation runtime\n",
      "Fitting model: XGBoost ...\n",
      "\t0.8212\t = Validation score   (accuracy)\n",
      "\t0.15s\t = Training   runtime\n",
      "\t0.0s\t = Validation runtime\n",
      "Fitting model: NeuralNetTorch ...\n",
      "\t0.838\t = Validation score   (accuracy)\n",
      "\t1.55s\t = Training   runtime\n",
      "\t0.01s\t = Validation runtime\n",
      "Fitting model: LightGBMLarge ...\n",
      "\t0.8268\t = Validation score   (accuracy)\n",
      "\t0.44s\t = Training   runtime\n",
      "\t0.0s\t = Validation runtime\n",
      "Fitting model: WeightedEnsemble_L2 ...\n",
      "\t0.8603\t = Validation score   (accuracy)\n",
      "\t0.25s\t = Training   runtime\n",
      "\t0.0s\t = Validation runtime\n",
      "AutoGluon training complete, total runtime = 6.75s ... Best model: \"WeightedEnsemble_L2\"\n",
      "TabularPredictor saved. To load, use: predictor = TabularPredictor.load(\"AutogluonModels/ag-20230912_120900/\")\n"
     ]
    },
    {
     "data": {
      "text/plain": [
       "<autogluon.tabular.predictor.predictor.TabularPredictor at 0x7f463532b730>"
      ]
     },
     "execution_count": 30,
     "metadata": {},
     "output_type": "execute_result"
    }
   ],
   "source": [
    "predictr.fit(_tr) # 학생(predictr)에게 문제(tr)를 줘서 학습을 시킴(predictr.fit())"
   ]
  },
  {
   "cell_type": "markdown",
   "id": "e2b708b1-91de-4ce6-bef1-959205ec5f87",
   "metadata": {},
   "source": [
    "`-` 리더보드확인 (모의고사 채점)"
   ]
  },
  {
   "cell_type": "code",
   "execution_count": 32,
   "id": "bfacfa9a-7bad-47f9-8cde-29bac3c07f79",
   "metadata": {},
   "outputs": [
    {
     "name": "stdout",
     "output_type": "stream",
     "text": [
      "                  model  score_val  pred_time_val  fit_time  pred_time_val_marginal  fit_time_marginal  stack_level  can_infer  fit_order\n",
      "0   WeightedEnsemble_L2   0.860335       0.210158  3.510778                0.000527           0.246271            2       True         14\n",
      "1        NeuralNetTorch   0.837989       0.008443  1.547239                0.008443           1.547239            1       True         12\n",
      "2         LightGBMLarge   0.826816       0.003162  0.443558                0.003162           0.443558            1       True         13\n",
      "3              CatBoost   0.826816       0.003559  0.661513                0.003559           0.661513            1       True          7\n",
      "4              LightGBM   0.826816       0.003659  0.283715                0.003659           0.283715            1       True          4\n",
      "5       NeuralNetFastAI   0.826816       0.007515  0.462052                0.007515           0.462052            1       True         10\n",
      "6               XGBoost   0.821229       0.004702  0.148207                0.004702           0.148207            1       True         11\n",
      "7      RandomForestEntr   0.821229       0.214481  0.381199                0.214481           0.381199            1       True          6\n",
      "8      RandomForestGini   0.815642       0.091963  0.328555                0.091963           0.328555            1       True          5\n",
      "9            LightGBMXT   0.810056       0.003035  0.204797                0.003035           0.204797            1       True          3\n",
      "10       ExtraTreesGini   0.804469       0.184527  0.518099                0.184527           0.518099            1       True          8\n",
      "11       ExtraTreesEntr   0.798883       0.179535  0.353106                0.179535           0.353106            1       True          9\n",
      "12       KNeighborsUnif   0.653631       0.002189  0.009097                0.002189           0.009097            1       True          1\n",
      "13       KNeighborsDist   0.653631       0.002325  0.009845                0.002325           0.009845            1       True          2\n"
     ]
    },
    {
     "data": {
      "text/html": [
       "<div>\n",
       "<style scoped>\n",
       "    .dataframe tbody tr th:only-of-type {\n",
       "        vertical-align: middle;\n",
       "    }\n",
       "\n",
       "    .dataframe tbody tr th {\n",
       "        vertical-align: top;\n",
       "    }\n",
       "\n",
       "    .dataframe thead th {\n",
       "        text-align: right;\n",
       "    }\n",
       "</style>\n",
       "<table border=\"1\" class=\"dataframe\">\n",
       "  <thead>\n",
       "    <tr style=\"text-align: right;\">\n",
       "      <th></th>\n",
       "      <th>model</th>\n",
       "      <th>score_val</th>\n",
       "      <th>pred_time_val</th>\n",
       "      <th>fit_time</th>\n",
       "      <th>pred_time_val_marginal</th>\n",
       "      <th>fit_time_marginal</th>\n",
       "      <th>stack_level</th>\n",
       "      <th>can_infer</th>\n",
       "      <th>fit_order</th>\n",
       "    </tr>\n",
       "  </thead>\n",
       "  <tbody>\n",
       "    <tr>\n",
       "      <th>0</th>\n",
       "      <td>WeightedEnsemble_L2</td>\n",
       "      <td>0.860335</td>\n",
       "      <td>0.210158</td>\n",
       "      <td>3.510778</td>\n",
       "      <td>0.000527</td>\n",
       "      <td>0.246271</td>\n",
       "      <td>2</td>\n",
       "      <td>True</td>\n",
       "      <td>14</td>\n",
       "    </tr>\n",
       "    <tr>\n",
       "      <th>1</th>\n",
       "      <td>NeuralNetTorch</td>\n",
       "      <td>0.837989</td>\n",
       "      <td>0.008443</td>\n",
       "      <td>1.547239</td>\n",
       "      <td>0.008443</td>\n",
       "      <td>1.547239</td>\n",
       "      <td>1</td>\n",
       "      <td>True</td>\n",
       "      <td>12</td>\n",
       "    </tr>\n",
       "    <tr>\n",
       "      <th>2</th>\n",
       "      <td>LightGBMLarge</td>\n",
       "      <td>0.826816</td>\n",
       "      <td>0.003162</td>\n",
       "      <td>0.443558</td>\n",
       "      <td>0.003162</td>\n",
       "      <td>0.443558</td>\n",
       "      <td>1</td>\n",
       "      <td>True</td>\n",
       "      <td>13</td>\n",
       "    </tr>\n",
       "    <tr>\n",
       "      <th>3</th>\n",
       "      <td>CatBoost</td>\n",
       "      <td>0.826816</td>\n",
       "      <td>0.003559</td>\n",
       "      <td>0.661513</td>\n",
       "      <td>0.003559</td>\n",
       "      <td>0.661513</td>\n",
       "      <td>1</td>\n",
       "      <td>True</td>\n",
       "      <td>7</td>\n",
       "    </tr>\n",
       "    <tr>\n",
       "      <th>4</th>\n",
       "      <td>LightGBM</td>\n",
       "      <td>0.826816</td>\n",
       "      <td>0.003659</td>\n",
       "      <td>0.283715</td>\n",
       "      <td>0.003659</td>\n",
       "      <td>0.283715</td>\n",
       "      <td>1</td>\n",
       "      <td>True</td>\n",
       "      <td>4</td>\n",
       "    </tr>\n",
       "    <tr>\n",
       "      <th>5</th>\n",
       "      <td>NeuralNetFastAI</td>\n",
       "      <td>0.826816</td>\n",
       "      <td>0.007515</td>\n",
       "      <td>0.462052</td>\n",
       "      <td>0.007515</td>\n",
       "      <td>0.462052</td>\n",
       "      <td>1</td>\n",
       "      <td>True</td>\n",
       "      <td>10</td>\n",
       "    </tr>\n",
       "    <tr>\n",
       "      <th>6</th>\n",
       "      <td>XGBoost</td>\n",
       "      <td>0.821229</td>\n",
       "      <td>0.004702</td>\n",
       "      <td>0.148207</td>\n",
       "      <td>0.004702</td>\n",
       "      <td>0.148207</td>\n",
       "      <td>1</td>\n",
       "      <td>True</td>\n",
       "      <td>11</td>\n",
       "    </tr>\n",
       "    <tr>\n",
       "      <th>7</th>\n",
       "      <td>RandomForestEntr</td>\n",
       "      <td>0.821229</td>\n",
       "      <td>0.214481</td>\n",
       "      <td>0.381199</td>\n",
       "      <td>0.214481</td>\n",
       "      <td>0.381199</td>\n",
       "      <td>1</td>\n",
       "      <td>True</td>\n",
       "      <td>6</td>\n",
       "    </tr>\n",
       "    <tr>\n",
       "      <th>8</th>\n",
       "      <td>RandomForestGini</td>\n",
       "      <td>0.815642</td>\n",
       "      <td>0.091963</td>\n",
       "      <td>0.328555</td>\n",
       "      <td>0.091963</td>\n",
       "      <td>0.328555</td>\n",
       "      <td>1</td>\n",
       "      <td>True</td>\n",
       "      <td>5</td>\n",
       "    </tr>\n",
       "    <tr>\n",
       "      <th>9</th>\n",
       "      <td>LightGBMXT</td>\n",
       "      <td>0.810056</td>\n",
       "      <td>0.003035</td>\n",
       "      <td>0.204797</td>\n",
       "      <td>0.003035</td>\n",
       "      <td>0.204797</td>\n",
       "      <td>1</td>\n",
       "      <td>True</td>\n",
       "      <td>3</td>\n",
       "    </tr>\n",
       "    <tr>\n",
       "      <th>10</th>\n",
       "      <td>ExtraTreesGini</td>\n",
       "      <td>0.804469</td>\n",
       "      <td>0.184527</td>\n",
       "      <td>0.518099</td>\n",
       "      <td>0.184527</td>\n",
       "      <td>0.518099</td>\n",
       "      <td>1</td>\n",
       "      <td>True</td>\n",
       "      <td>8</td>\n",
       "    </tr>\n",
       "    <tr>\n",
       "      <th>11</th>\n",
       "      <td>ExtraTreesEntr</td>\n",
       "      <td>0.798883</td>\n",
       "      <td>0.179535</td>\n",
       "      <td>0.353106</td>\n",
       "      <td>0.179535</td>\n",
       "      <td>0.353106</td>\n",
       "      <td>1</td>\n",
       "      <td>True</td>\n",
       "      <td>9</td>\n",
       "    </tr>\n",
       "    <tr>\n",
       "      <th>12</th>\n",
       "      <td>KNeighborsUnif</td>\n",
       "      <td>0.653631</td>\n",
       "      <td>0.002189</td>\n",
       "      <td>0.009097</td>\n",
       "      <td>0.002189</td>\n",
       "      <td>0.009097</td>\n",
       "      <td>1</td>\n",
       "      <td>True</td>\n",
       "      <td>1</td>\n",
       "    </tr>\n",
       "    <tr>\n",
       "      <th>13</th>\n",
       "      <td>KNeighborsDist</td>\n",
       "      <td>0.653631</td>\n",
       "      <td>0.002325</td>\n",
       "      <td>0.009845</td>\n",
       "      <td>0.002325</td>\n",
       "      <td>0.009845</td>\n",
       "      <td>1</td>\n",
       "      <td>True</td>\n",
       "      <td>2</td>\n",
       "    </tr>\n",
       "  </tbody>\n",
       "</table>\n",
       "</div>"
      ],
      "text/plain": [
       "                  model  score_val  pred_time_val  fit_time  \\\n",
       "0   WeightedEnsemble_L2   0.860335       0.210158  3.510778   \n",
       "1        NeuralNetTorch   0.837989       0.008443  1.547239   \n",
       "2         LightGBMLarge   0.826816       0.003162  0.443558   \n",
       "3              CatBoost   0.826816       0.003559  0.661513   \n",
       "4              LightGBM   0.826816       0.003659  0.283715   \n",
       "5       NeuralNetFastAI   0.826816       0.007515  0.462052   \n",
       "6               XGBoost   0.821229       0.004702  0.148207   \n",
       "7      RandomForestEntr   0.821229       0.214481  0.381199   \n",
       "8      RandomForestGini   0.815642       0.091963  0.328555   \n",
       "9            LightGBMXT   0.810056       0.003035  0.204797   \n",
       "10       ExtraTreesGini   0.804469       0.184527  0.518099   \n",
       "11       ExtraTreesEntr   0.798883       0.179535  0.353106   \n",
       "12       KNeighborsUnif   0.653631       0.002189  0.009097   \n",
       "13       KNeighborsDist   0.653631       0.002325  0.009845   \n",
       "\n",
       "    pred_time_val_marginal  fit_time_marginal  stack_level  can_infer  \\\n",
       "0                 0.000527           0.246271            2       True   \n",
       "1                 0.008443           1.547239            1       True   \n",
       "2                 0.003162           0.443558            1       True   \n",
       "3                 0.003559           0.661513            1       True   \n",
       "4                 0.003659           0.283715            1       True   \n",
       "5                 0.007515           0.462052            1       True   \n",
       "6                 0.004702           0.148207            1       True   \n",
       "7                 0.214481           0.381199            1       True   \n",
       "8                 0.091963           0.328555            1       True   \n",
       "9                 0.003035           0.204797            1       True   \n",
       "10                0.184527           0.518099            1       True   \n",
       "11                0.179535           0.353106            1       True   \n",
       "12                0.002189           0.009097            1       True   \n",
       "13                0.002325           0.009845            1       True   \n",
       "\n",
       "    fit_order  \n",
       "0          14  \n",
       "1          12  \n",
       "2          13  \n",
       "3           7  \n",
       "4           4  \n",
       "5          10  \n",
       "6          11  \n",
       "7           6  \n",
       "8           5  \n",
       "9           3  \n",
       "10          8  \n",
       "11          9  \n",
       "12          1  \n",
       "13          2  "
      ]
     },
     "execution_count": 32,
     "metadata": {},
     "output_type": "execute_result"
    }
   ],
   "source": [
    "predictr.leaderboard()"
   ]
  },
  {
   "cell_type": "markdown",
   "id": "043c0b25-dedf-4a83-9df0-d2ea308b4e62",
   "metadata": {},
   "source": [
    "`-` validation set의 의미: "
   ]
  },
  {
   "cell_type": "markdown",
   "id": "99aef7ac-087e-4df3-83fa-48abda455e2c",
   "metadata": {},
   "source": [
    "## D. 예측 (predict)"
   ]
  },
  {
   "cell_type": "markdown",
   "id": "fcb9e847-6575-4a10-bcfe-41a3c18f1ac1",
   "metadata": {},
   "source": [
    "`-` 비유: 학습이후에 문제를 푸는 과정으로 비유할 수 있다."
   ]
  },
  {
   "cell_type": "markdown",
   "id": "a5debbd1-750d-4ca0-a1b0-14f08e76dcdf",
   "metadata": {},
   "source": [
    "`-` training set 을 풀어봄 (predict) $\\to$ 점수 확인 "
   ]
  },
  {
   "cell_type": "code",
   "execution_count": 33,
   "id": "36e5d9fc-069b-46c8-8c2f-b75c06e9c19a",
   "metadata": {},
   "outputs": [
    {
     "data": {
      "text/plain": [
       "0.9539842873176206"
      ]
     },
     "execution_count": 33,
     "metadata": {},
     "output_type": "execute_result"
    }
   ],
   "source": [
    "(tr.Survived == predictr.predict(_tr)).mean()"
   ]
  },
  {
   "cell_type": "markdown",
   "id": "08f03956-0b13-4aa3-9bb7-33b448820bed",
   "metadata": {},
   "source": [
    "`-` test set 을 풀어봄 (predict) $\\to$ 점수 확인 하러 캐글에 결과제출 "
   ]
  },
  {
   "cell_type": "code",
   "execution_count": 34,
   "id": "a059e8ec-d555-4e8d-aa09-32fd909d497a",
   "metadata": {},
   "outputs": [],
   "source": [
    "tst.assign(Survived = predictr.predict(_tst)).loc[:,['PassengerId','Survived']]\\\n",
    ".to_csv(\"autogluon(Fsize,Drop)_submission.csv\",index=False)"
   ]
  }
 ],
 "metadata": {
  "kernelspec": {
   "display_name": "Python 3 (ipykernel)",
   "language": "python",
   "name": "python3"
  },
  "language_info": {
   "codemirror_mode": {
    "name": "ipython",
    "version": 3
   },
   "file_extension": ".py",
   "mimetype": "text/x-python",
   "name": "python",
   "nbconvert_exporter": "python",
   "pygments_lexer": "ipython3",
   "version": "3.10.12"
  }
 },
 "nbformat": 4,
 "nbformat_minor": 5
}
