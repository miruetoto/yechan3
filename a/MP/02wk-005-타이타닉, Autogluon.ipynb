{
 "cells": [
  {
   "cell_type": "raw",
   "id": "c99794cc-461a-45cd-a975-bacb7163c1df",
   "metadata": {},
   "source": [
    "---\n",
    "title: \"02wk-005: 타이타닉, Autogluon\"\n",
    "author: \"최규빈\"\n",
    "date: \"09/12/2023\"\n",
    "bibliography: ref.bib\n",
    "---"
   ]
  },
  {
   "cell_type": "markdown",
   "id": "63f718c0-124e-4d8a-9ca9-a1896e354163",
   "metadata": {},
   "source": [
    "# 1. 강의영상 "
   ]
  },
  {
   "cell_type": "markdown",
   "id": "b4831f93-e6d5-4942-9c8d-af2b60bca017",
   "metadata": {},
   "source": [
    "{{<video https://youtu.be/playlist?list=PLQqh36zP38-zZrOGpLc8spPa9L39RiNhR&si=TFl5m9-VohYT_47L >}}"
   ]
  },
  {
   "cell_type": "markdown",
   "id": "55b391ee-b2fe-40d6-b5dc-47317fcb110c",
   "metadata": {},
   "source": [
    "# 2. Import"
   ]
  },
  {
   "cell_type": "markdown",
   "id": "c6dcea46-07ca-48a7-ba2b-69d18114f806",
   "metadata": {},
   "source": [
    "``` python\n",
    "# This Python 3 environment comes with many helpful analytics libraries installed\n",
    "# It is defined by the kaggle/python Docker image: https://github.com/kaggle/docker-python\n",
    "# For example, here's several helpful packages to load\n",
    "\n",
    "import numpy as np # linear algebra\n",
    "import pandas as pd # data processing, CSV file I/O (e.g. pd.read_csv)\n",
    "\n",
    "# Input data files are available in the read-only \"../input/\" directory\n",
    "# For example, running this (by clicking run or pressing Shift+Enter) will list all files under the input directory\n",
    "\n",
    "import os\n",
    "for dirname, _, filenames in os.walk('/kaggle/input'):\n",
    "    for filename in filenames:\n",
    "        print(os.path.join(dirname, filename))\n",
    "\n",
    "# You can write up to 20GB to the current directory (/kaggle/working/) that gets preserved as output when you create a version using \"Save & Run All\" \n",
    "# You can also write temporary files to /kaggle/temp/, but they won't be saved outside of the current session\n",
    "```\n",
    "\n",
    "    /kaggle/input/titanic/train.csv\n",
    "    /kaggle/input/titanic/test.csv\n",
    "    /kaggle/input/titanic/gender_submission.csv"
   ]
  },
  {
   "cell_type": "code",
   "execution_count": 3,
   "id": "438db173-0810-4140-98cd-65314c5695af",
   "metadata": {},
   "outputs": [],
   "source": [
    "#pip install autogluon"
   ]
  },
  {
   "cell_type": "code",
   "execution_count": 1,
   "id": "77a36c4a-ac65-4270-bb1e-bca688db2eb1",
   "metadata": {},
   "outputs": [],
   "source": [
    "from autogluon.tabular import TabularDataset, TabularPredictor"
   ]
  },
  {
   "cell_type": "markdown",
   "id": "5d4335f9-82c0-4b51-aaac-79de81018bcc",
   "metadata": {},
   "source": [
    "# 3. 분석의 절차"
   ]
  },
  {
   "cell_type": "markdown",
   "id": "a397f565-9565-4cff-a426-038d04b8b8ec",
   "metadata": {},
   "source": [
    "## A. 데이터"
   ]
  },
  {
   "cell_type": "markdown",
   "id": "ef30bf7e-8131-4cf9-9f68-7f1d926a2fb1",
   "metadata": {},
   "source": [
    "`-` 비유: 문제를 받아오는 과정으로 비유할 수 있다. "
   ]
  },
  {
   "cell_type": "code",
   "execution_count": null,
   "id": "7c66df28-7fe6-47de-ba1f-4d1c74976f0f",
   "metadata": {},
   "outputs": [],
   "source": [
    "tr = TabularDataset(\"/kaggle/input/titanic/train.csv\")\n",
    "tst = TabularDataset(\"/kaggle/input/titanic/test.csv\")"
   ]
  },
  {
   "cell_type": "markdown",
   "id": "c725230c-a1db-4e26-a880-7b68c0526dcf",
   "metadata": {},
   "source": [
    "## B. Predictor 생성 "
   ]
  },
  {
   "cell_type": "markdown",
   "id": "13f2bd79-42a5-47e0-aeee-2f68dcfb7e79",
   "metadata": {},
   "source": [
    "`-` 비유: 문제를 풀 학생을 생성하는 과정으로 비유할 수 있다. "
   ]
  },
  {
   "cell_type": "code",
   "execution_count": 3,
   "id": "0ba98784-7f27-48dd-9b7f-6c0a738eb56c",
   "metadata": {},
   "outputs": [
    {
     "name": "stderr",
     "output_type": "stream",
     "text": [
      "No path specified. Models will be saved in: \"AutogluonModels/ag-20230910_162629/\"\n"
     ]
    }
   ],
   "source": [
    "predictr = TabularPredictor(\"Survived\")"
   ]
  },
  {
   "cell_type": "markdown",
   "id": "b0c1c79d-244c-45de-b5de-f3ca864ae052",
   "metadata": {},
   "source": [
    "## C. 적합(fit) "
   ]
  },
  {
   "cell_type": "markdown",
   "id": "f771b6a0-391d-449a-8404-4b4149fc394a",
   "metadata": {},
   "source": [
    "`-` 비유: 학생이 공부를 하는 과정으로 비유할 수 있다. "
   ]
  },
  {
   "cell_type": "markdown",
   "id": "821d2cc0-3b7c-470a-8624-43c377728e56",
   "metadata": {},
   "source": [
    "`-` 학습"
   ]
  },
  {
   "cell_type": "code",
   "execution_count": 4,
   "id": "2ff440a6-2707-4849-8c16-efb51eb4f3b4",
   "metadata": {},
   "outputs": [
    {
     "name": "stderr",
     "output_type": "stream",
     "text": [
      "Beginning AutoGluon training ...\n",
      "AutoGluon will save models to \"AutogluonModels/ag-20230910_162629/\"\n",
      "AutoGluon Version:  0.8.2\n",
      "Python Version:     3.10.12\n",
      "Operating System:   Linux\n",
      "Platform Machine:   x86_64\n",
      "Platform Version:   #26~22.04.1-Ubuntu SMP PREEMPT_DYNAMIC Thu Jul 13 16:27:29 UTC 2\n",
      "Disk Space Avail:   306.27 GB / 490.57 GB (62.4%)\n",
      "Train Data Rows:    891\n",
      "Train Data Columns: 11\n",
      "Label Column: Survived\n",
      "Preprocessing data ...\n",
      "AutoGluon infers your prediction problem is: 'binary' (because only two unique label-values observed).\n",
      "\t2 unique label values:  [0, 1]\n",
      "\tIf 'binary' is not the correct problem_type, please manually specify the problem_type parameter during predictor init (You may specify problem_type as one of: ['binary', 'multiclass', 'regression'])\n",
      "Selected class <--> label mapping:  class 1 = 1, class 0 = 0\n",
      "Using Feature Generators to preprocess the data ...\n",
      "Fitting AutoMLPipelineFeatureGenerator...\n",
      "\tAvailable Memory:                    126262.11 MB\n",
      "\tTrain Data (Original)  Memory Usage: 0.31 MB (0.0% of available memory)\n",
      "\tInferring data type of each feature based on column values. Set feature_metadata_in to manually specify special dtypes of the features.\n",
      "/home/cgb2/anaconda3/envs/mp/lib/python3.10/site-packages/autogluon/common/features/infer_types.py:118: UserWarning: Could not infer format, so each element will be parsed individually, falling back to `dateutil`. To ensure parsing is consistent and as-expected, please specify a format.\n",
      "  result = pd.to_datetime(X, errors=\"coerce\")\n",
      "/home/cgb2/anaconda3/envs/mp/lib/python3.10/site-packages/autogluon/common/features/infer_types.py:118: UserWarning: Could not infer format, so each element will be parsed individually, falling back to `dateutil`. To ensure parsing is consistent and as-expected, please specify a format.\n",
      "  result = pd.to_datetime(X, errors=\"coerce\")\n",
      "/home/cgb2/anaconda3/envs/mp/lib/python3.10/site-packages/autogluon/common/features/infer_types.py:118: UserWarning: Could not infer format, so each element will be parsed individually, falling back to `dateutil`. To ensure parsing is consistent and as-expected, please specify a format.\n",
      "  result = pd.to_datetime(X, errors=\"coerce\")\n",
      "/home/cgb2/anaconda3/envs/mp/lib/python3.10/site-packages/autogluon/common/features/infer_types.py:118: UserWarning: Could not infer format, so each element will be parsed individually, falling back to `dateutil`. To ensure parsing is consistent and as-expected, please specify a format.\n",
      "  result = pd.to_datetime(X, errors=\"coerce\")\n",
      "/home/cgb2/anaconda3/envs/mp/lib/python3.10/site-packages/autogluon/common/features/infer_types.py:118: UserWarning: Could not infer format, so each element will be parsed individually, falling back to `dateutil`. To ensure parsing is consistent and as-expected, please specify a format.\n",
      "  result = pd.to_datetime(X, errors=\"coerce\")\n",
      "\tStage 1 Generators:\n",
      "\t\tFitting AsTypeFeatureGenerator...\n",
      "\t\t\tNote: Converting 1 features to boolean dtype as they only contain 2 unique values.\n",
      "\tStage 2 Generators:\n",
      "\t\tFitting FillNaFeatureGenerator...\n",
      "\tStage 3 Generators:\n",
      "\t\tFitting IdentityFeatureGenerator...\n",
      "\t\tFitting CategoryFeatureGenerator...\n",
      "\t\t\tFitting CategoryMemoryMinimizeFeatureGenerator...\n",
      "\t\tFitting TextSpecialFeatureGenerator...\n",
      "\t\t\tFitting BinnedFeatureGenerator...\n",
      "\t\t\tFitting DropDuplicatesFeatureGenerator...\n",
      "\t\tFitting TextNgramFeatureGenerator...\n",
      "\t\t\tFitting CountVectorizer for text features: ['Name']\n",
      "\t\t\tCountVectorizer fit with vocabulary size = 8\n",
      "\tStage 4 Generators:\n",
      "\t\tFitting DropUniqueFeatureGenerator...\n",
      "\tStage 5 Generators:\n",
      "\t\tFitting DropDuplicatesFeatureGenerator...\n",
      "\tTypes of features in original data (raw dtype, special dtypes):\n",
      "\t\t('float', [])        : 2 | ['Age', 'Fare']\n",
      "\t\t('int', [])          : 4 | ['PassengerId', 'Pclass', 'SibSp', 'Parch']\n",
      "\t\t('object', [])       : 4 | ['Sex', 'Ticket', 'Cabin', 'Embarked']\n",
      "\t\t('object', ['text']) : 1 | ['Name']\n",
      "\tTypes of features in processed data (raw dtype, special dtypes):\n",
      "\t\t('category', [])                    : 3 | ['Ticket', 'Cabin', 'Embarked']\n",
      "\t\t('float', [])                       : 2 | ['Age', 'Fare']\n",
      "\t\t('int', [])                         : 4 | ['PassengerId', 'Pclass', 'SibSp', 'Parch']\n",
      "\t\t('int', ['binned', 'text_special']) : 9 | ['Name.char_count', 'Name.word_count', 'Name.capital_ratio', 'Name.lower_ratio', 'Name.special_ratio', ...]\n",
      "\t\t('int', ['bool'])                   : 1 | ['Sex']\n",
      "\t\t('int', ['text_ngram'])             : 9 | ['__nlp__.henry', '__nlp__.john', '__nlp__.master', '__nlp__.miss', '__nlp__.mr', ...]\n",
      "\t0.2s = Fit runtime\n",
      "\t11 features in original data used to generate 28 features in processed data.\n",
      "\tTrain Data (Processed) Memory Usage: 0.07 MB (0.0% of available memory)\n",
      "Data preprocessing and feature engineering runtime = 0.2s ...\n",
      "AutoGluon will gauge predictive performance using evaluation metric: 'accuracy'\n",
      "\tTo change this, specify the eval_metric parameter of Predictor()\n",
      "Automatically generating train/validation split with holdout_frac=0.2, Train Rows: 712, Val Rows: 179\n",
      "User-specified model hyperparameters to be fit:\n",
      "{\n",
      "\t'NN_TORCH': {},\n",
      "\t'GBM': [{'extra_trees': True, 'ag_args': {'name_suffix': 'XT'}}, {}, 'GBMLarge'],\n",
      "\t'CAT': {},\n",
      "\t'XGB': {},\n",
      "\t'FASTAI': {},\n",
      "\t'RF': [{'criterion': 'gini', 'ag_args': {'name_suffix': 'Gini', 'problem_types': ['binary', 'multiclass']}}, {'criterion': 'entropy', 'ag_args': {'name_suffix': 'Entr', 'problem_types': ['binary', 'multiclass']}}, {'criterion': 'squared_error', 'ag_args': {'name_suffix': 'MSE', 'problem_types': ['regression', 'quantile']}}],\n",
      "\t'XT': [{'criterion': 'gini', 'ag_args': {'name_suffix': 'Gini', 'problem_types': ['binary', 'multiclass']}}, {'criterion': 'entropy', 'ag_args': {'name_suffix': 'Entr', 'problem_types': ['binary', 'multiclass']}}, {'criterion': 'squared_error', 'ag_args': {'name_suffix': 'MSE', 'problem_types': ['regression', 'quantile']}}],\n",
      "\t'KNN': [{'weights': 'uniform', 'ag_args': {'name_suffix': 'Unif'}}, {'weights': 'distance', 'ag_args': {'name_suffix': 'Dist'}}],\n",
      "}\n",
      "Fitting 13 L1 models ...\n",
      "Fitting model: KNeighborsUnif ...\n",
      "\t0.6536\t = Validation score   (accuracy)\n",
      "\t0.09s\t = Training   runtime\n",
      "\t0.0s\t = Validation runtime\n",
      "Fitting model: KNeighborsDist ...\n",
      "\t0.6536\t = Validation score   (accuracy)\n",
      "\t0.01s\t = Training   runtime\n",
      "\t0.0s\t = Validation runtime\n",
      "Fitting model: LightGBMXT ...\n",
      "\t0.8156\t = Validation score   (accuracy)\n",
      "\t0.2s\t = Training   runtime\n",
      "\t0.0s\t = Validation runtime\n",
      "Fitting model: LightGBM ...\n",
      "\t0.8212\t = Validation score   (accuracy)\n",
      "\t0.16s\t = Training   runtime\n",
      "\t0.0s\t = Validation runtime\n",
      "Fitting model: RandomForestGini ...\n",
      "\t0.8156\t = Validation score   (accuracy)\n",
      "\t0.34s\t = Training   runtime\n",
      "\t0.16s\t = Validation runtime\n",
      "Fitting model: RandomForestEntr ...\n",
      "\t0.8156\t = Validation score   (accuracy)\n",
      "\t0.53s\t = Training   runtime\n",
      "\t0.09s\t = Validation runtime\n",
      "Fitting model: CatBoost ...\n",
      "\t0.8268\t = Validation score   (accuracy)\n",
      "\t0.53s\t = Training   runtime\n",
      "\t0.0s\t = Validation runtime\n",
      "Fitting model: ExtraTreesGini ...\n",
      "\t0.8156\t = Validation score   (accuracy)\n",
      "\t0.85s\t = Training   runtime\n",
      "\t0.05s\t = Validation runtime\n",
      "Fitting model: ExtraTreesEntr ...\n",
      "\t0.8101\t = Validation score   (accuracy)\n",
      "\t0.4s\t = Training   runtime\n",
      "\t0.06s\t = Validation runtime\n",
      "Fitting model: NeuralNetFastAI ...\n",
      "No improvement since epoch 9: early stopping\n",
      "\t0.8268\t = Validation score   (accuracy)\n",
      "\t1.33s\t = Training   runtime\n",
      "\t0.01s\t = Validation runtime\n",
      "Fitting model: XGBoost ...\n",
      "\t0.8101\t = Validation score   (accuracy)\n",
      "\t0.14s\t = Training   runtime\n",
      "\t0.0s\t = Validation runtime\n",
      "Fitting model: NeuralNetTorch ...\n",
      "\t0.8324\t = Validation score   (accuracy)\n",
      "\t1.49s\t = Training   runtime\n",
      "\t0.01s\t = Validation runtime\n",
      "Fitting model: LightGBMLarge ...\n",
      "\t0.8324\t = Validation score   (accuracy)\n",
      "\t0.42s\t = Training   runtime\n",
      "\t0.0s\t = Validation runtime\n",
      "Fitting model: WeightedEnsemble_L2 ...\n",
      "\t0.8603\t = Validation score   (accuracy)\n",
      "\t0.22s\t = Training   runtime\n",
      "\t0.0s\t = Validation runtime\n",
      "AutoGluon training complete, total runtime = 7.58s ... Best model: \"WeightedEnsemble_L2\"\n",
      "TabularPredictor saved. To load, use: predictor = TabularPredictor.load(\"AutogluonModels/ag-20230910_162629/\")\n"
     ]
    },
    {
     "data": {
      "text/plain": [
       "<autogluon.tabular.predictor.predictor.TabularPredictor at 0x7fa18f4444f0>"
      ]
     },
     "execution_count": 4,
     "metadata": {},
     "output_type": "execute_result"
    }
   ],
   "source": [
    "predictr.fit(tr) \n",
    "# 학생(predictr)에게 문제(tr)를 줘서 학습을 시킴(predictr.fit())"
   ]
  },
  {
   "cell_type": "markdown",
   "id": "d536fa3a-4d0d-48be-afd9-d20d9008902c",
   "metadata": {},
   "source": [
    "`-` 리더보드확인 (모의고사 채점)"
   ]
  },
  {
   "cell_type": "code",
   "execution_count": 5,
   "id": "6e513eca-aed5-420d-afca-aca5ce499dc5",
   "metadata": {},
   "outputs": [
    {
     "name": "stdout",
     "output_type": "stream",
     "text": [
      "                  model  score_val  pred_time_val  fit_time  pred_time_val_marginal  fit_time_marginal  stack_level  can_infer  fit_order\n",
      "0   WeightedEnsemble_L2   0.860335       0.193071  4.142821                0.000378           0.218161            2       True         14\n",
      "1         LightGBMLarge   0.832402       0.003180  0.422871                0.003180           0.422871            1       True         13\n",
      "2        NeuralNetTorch   0.832402       0.009243  1.488933                0.009243           1.488933            1       True         12\n",
      "3              CatBoost   0.826816       0.003432  0.526762                0.003432           0.526762            1       True          7\n",
      "4       NeuralNetFastAI   0.826816       0.007648  1.326021                0.007648           1.326021            1       True         10\n",
      "5              LightGBM   0.821229       0.003042  0.157547                0.003042           0.157547            1       True          4\n",
      "6            LightGBMXT   0.815642       0.003350  0.197612                0.003350           0.197612            1       True          3\n",
      "7        ExtraTreesGini   0.815642       0.050255  0.848478                0.050255           0.848478            1       True          8\n",
      "8      RandomForestEntr   0.815642       0.091255  0.525193                0.091255           0.525193            1       True          6\n",
      "9      RandomForestGini   0.815642       0.162890  0.340251                0.162890           0.340251            1       True          5\n",
      "10              XGBoost   0.810056       0.004424  0.141125                0.004424           0.141125            1       True         11\n",
      "11       ExtraTreesEntr   0.810056       0.060458  0.398653                0.060458           0.398653            1       True          9\n",
      "12       KNeighborsDist   0.653631       0.001958  0.007848                0.001958           0.007848            1       True          2\n",
      "13       KNeighborsUnif   0.653631       0.004457  0.087323                0.004457           0.087323            1       True          1\n"
     ]
    },
    {
     "data": {
      "text/html": [
       "<div>\n",
       "<style scoped>\n",
       "    .dataframe tbody tr th:only-of-type {\n",
       "        vertical-align: middle;\n",
       "    }\n",
       "\n",
       "    .dataframe tbody tr th {\n",
       "        vertical-align: top;\n",
       "    }\n",
       "\n",
       "    .dataframe thead th {\n",
       "        text-align: right;\n",
       "    }\n",
       "</style>\n",
       "<table border=\"1\" class=\"dataframe\">\n",
       "  <thead>\n",
       "    <tr style=\"text-align: right;\">\n",
       "      <th></th>\n",
       "      <th>model</th>\n",
       "      <th>score_val</th>\n",
       "      <th>pred_time_val</th>\n",
       "      <th>fit_time</th>\n",
       "      <th>pred_time_val_marginal</th>\n",
       "      <th>fit_time_marginal</th>\n",
       "      <th>stack_level</th>\n",
       "      <th>can_infer</th>\n",
       "      <th>fit_order</th>\n",
       "    </tr>\n",
       "  </thead>\n",
       "  <tbody>\n",
       "    <tr>\n",
       "      <th>0</th>\n",
       "      <td>WeightedEnsemble_L2</td>\n",
       "      <td>0.860335</td>\n",
       "      <td>0.193071</td>\n",
       "      <td>4.142821</td>\n",
       "      <td>0.000378</td>\n",
       "      <td>0.218161</td>\n",
       "      <td>2</td>\n",
       "      <td>True</td>\n",
       "      <td>14</td>\n",
       "    </tr>\n",
       "    <tr>\n",
       "      <th>1</th>\n",
       "      <td>LightGBMLarge</td>\n",
       "      <td>0.832402</td>\n",
       "      <td>0.003180</td>\n",
       "      <td>0.422871</td>\n",
       "      <td>0.003180</td>\n",
       "      <td>0.422871</td>\n",
       "      <td>1</td>\n",
       "      <td>True</td>\n",
       "      <td>13</td>\n",
       "    </tr>\n",
       "    <tr>\n",
       "      <th>2</th>\n",
       "      <td>NeuralNetTorch</td>\n",
       "      <td>0.832402</td>\n",
       "      <td>0.009243</td>\n",
       "      <td>1.488933</td>\n",
       "      <td>0.009243</td>\n",
       "      <td>1.488933</td>\n",
       "      <td>1</td>\n",
       "      <td>True</td>\n",
       "      <td>12</td>\n",
       "    </tr>\n",
       "    <tr>\n",
       "      <th>3</th>\n",
       "      <td>CatBoost</td>\n",
       "      <td>0.826816</td>\n",
       "      <td>0.003432</td>\n",
       "      <td>0.526762</td>\n",
       "      <td>0.003432</td>\n",
       "      <td>0.526762</td>\n",
       "      <td>1</td>\n",
       "      <td>True</td>\n",
       "      <td>7</td>\n",
       "    </tr>\n",
       "    <tr>\n",
       "      <th>4</th>\n",
       "      <td>NeuralNetFastAI</td>\n",
       "      <td>0.826816</td>\n",
       "      <td>0.007648</td>\n",
       "      <td>1.326021</td>\n",
       "      <td>0.007648</td>\n",
       "      <td>1.326021</td>\n",
       "      <td>1</td>\n",
       "      <td>True</td>\n",
       "      <td>10</td>\n",
       "    </tr>\n",
       "    <tr>\n",
       "      <th>5</th>\n",
       "      <td>LightGBM</td>\n",
       "      <td>0.821229</td>\n",
       "      <td>0.003042</td>\n",
       "      <td>0.157547</td>\n",
       "      <td>0.003042</td>\n",
       "      <td>0.157547</td>\n",
       "      <td>1</td>\n",
       "      <td>True</td>\n",
       "      <td>4</td>\n",
       "    </tr>\n",
       "    <tr>\n",
       "      <th>6</th>\n",
       "      <td>LightGBMXT</td>\n",
       "      <td>0.815642</td>\n",
       "      <td>0.003350</td>\n",
       "      <td>0.197612</td>\n",
       "      <td>0.003350</td>\n",
       "      <td>0.197612</td>\n",
       "      <td>1</td>\n",
       "      <td>True</td>\n",
       "      <td>3</td>\n",
       "    </tr>\n",
       "    <tr>\n",
       "      <th>7</th>\n",
       "      <td>ExtraTreesGini</td>\n",
       "      <td>0.815642</td>\n",
       "      <td>0.050255</td>\n",
       "      <td>0.848478</td>\n",
       "      <td>0.050255</td>\n",
       "      <td>0.848478</td>\n",
       "      <td>1</td>\n",
       "      <td>True</td>\n",
       "      <td>8</td>\n",
       "    </tr>\n",
       "    <tr>\n",
       "      <th>8</th>\n",
       "      <td>RandomForestEntr</td>\n",
       "      <td>0.815642</td>\n",
       "      <td>0.091255</td>\n",
       "      <td>0.525193</td>\n",
       "      <td>0.091255</td>\n",
       "      <td>0.525193</td>\n",
       "      <td>1</td>\n",
       "      <td>True</td>\n",
       "      <td>6</td>\n",
       "    </tr>\n",
       "    <tr>\n",
       "      <th>9</th>\n",
       "      <td>RandomForestGini</td>\n",
       "      <td>0.815642</td>\n",
       "      <td>0.162890</td>\n",
       "      <td>0.340251</td>\n",
       "      <td>0.162890</td>\n",
       "      <td>0.340251</td>\n",
       "      <td>1</td>\n",
       "      <td>True</td>\n",
       "      <td>5</td>\n",
       "    </tr>\n",
       "    <tr>\n",
       "      <th>10</th>\n",
       "      <td>XGBoost</td>\n",
       "      <td>0.810056</td>\n",
       "      <td>0.004424</td>\n",
       "      <td>0.141125</td>\n",
       "      <td>0.004424</td>\n",
       "      <td>0.141125</td>\n",
       "      <td>1</td>\n",
       "      <td>True</td>\n",
       "      <td>11</td>\n",
       "    </tr>\n",
       "    <tr>\n",
       "      <th>11</th>\n",
       "      <td>ExtraTreesEntr</td>\n",
       "      <td>0.810056</td>\n",
       "      <td>0.060458</td>\n",
       "      <td>0.398653</td>\n",
       "      <td>0.060458</td>\n",
       "      <td>0.398653</td>\n",
       "      <td>1</td>\n",
       "      <td>True</td>\n",
       "      <td>9</td>\n",
       "    </tr>\n",
       "    <tr>\n",
       "      <th>12</th>\n",
       "      <td>KNeighborsDist</td>\n",
       "      <td>0.653631</td>\n",
       "      <td>0.001958</td>\n",
       "      <td>0.007848</td>\n",
       "      <td>0.001958</td>\n",
       "      <td>0.007848</td>\n",
       "      <td>1</td>\n",
       "      <td>True</td>\n",
       "      <td>2</td>\n",
       "    </tr>\n",
       "    <tr>\n",
       "      <th>13</th>\n",
       "      <td>KNeighborsUnif</td>\n",
       "      <td>0.653631</td>\n",
       "      <td>0.004457</td>\n",
       "      <td>0.087323</td>\n",
       "      <td>0.004457</td>\n",
       "      <td>0.087323</td>\n",
       "      <td>1</td>\n",
       "      <td>True</td>\n",
       "      <td>1</td>\n",
       "    </tr>\n",
       "  </tbody>\n",
       "</table>\n",
       "</div>"
      ],
      "text/plain": [
       "                  model  score_val  pred_time_val  fit_time  \\\n",
       "0   WeightedEnsemble_L2   0.860335       0.193071  4.142821   \n",
       "1         LightGBMLarge   0.832402       0.003180  0.422871   \n",
       "2        NeuralNetTorch   0.832402       0.009243  1.488933   \n",
       "3              CatBoost   0.826816       0.003432  0.526762   \n",
       "4       NeuralNetFastAI   0.826816       0.007648  1.326021   \n",
       "5              LightGBM   0.821229       0.003042  0.157547   \n",
       "6            LightGBMXT   0.815642       0.003350  0.197612   \n",
       "7        ExtraTreesGini   0.815642       0.050255  0.848478   \n",
       "8      RandomForestEntr   0.815642       0.091255  0.525193   \n",
       "9      RandomForestGini   0.815642       0.162890  0.340251   \n",
       "10              XGBoost   0.810056       0.004424  0.141125   \n",
       "11       ExtraTreesEntr   0.810056       0.060458  0.398653   \n",
       "12       KNeighborsDist   0.653631       0.001958  0.007848   \n",
       "13       KNeighborsUnif   0.653631       0.004457  0.087323   \n",
       "\n",
       "    pred_time_val_marginal  fit_time_marginal  stack_level  can_infer  \\\n",
       "0                 0.000378           0.218161            2       True   \n",
       "1                 0.003180           0.422871            1       True   \n",
       "2                 0.009243           1.488933            1       True   \n",
       "3                 0.003432           0.526762            1       True   \n",
       "4                 0.007648           1.326021            1       True   \n",
       "5                 0.003042           0.157547            1       True   \n",
       "6                 0.003350           0.197612            1       True   \n",
       "7                 0.050255           0.848478            1       True   \n",
       "8                 0.091255           0.525193            1       True   \n",
       "9                 0.162890           0.340251            1       True   \n",
       "10                0.004424           0.141125            1       True   \n",
       "11                0.060458           0.398653            1       True   \n",
       "12                0.001958           0.007848            1       True   \n",
       "13                0.004457           0.087323            1       True   \n",
       "\n",
       "    fit_order  \n",
       "0          14  \n",
       "1          13  \n",
       "2          12  \n",
       "3           7  \n",
       "4          10  \n",
       "5           4  \n",
       "6           3  \n",
       "7           8  \n",
       "8           6  \n",
       "9           5  \n",
       "10         11  \n",
       "11          9  \n",
       "12          2  \n",
       "13          1  "
      ]
     },
     "execution_count": 5,
     "metadata": {},
     "output_type": "execute_result"
    }
   ],
   "source": [
    "predictr.leaderboard()"
   ]
  },
  {
   "cell_type": "markdown",
   "id": "be370584-dc94-4aa8-ae98-0b234c734d5b",
   "metadata": {},
   "source": [
    "## D. 예측 (predict)"
   ]
  },
  {
   "cell_type": "markdown",
   "id": "cf5753dc-702c-4d7a-8dca-1b3bcf3a7ec7",
   "metadata": {},
   "source": [
    "`-` 비유: 학습이후에 문제를 푸는 과정으로 비유할 수 있다."
   ]
  },
  {
   "cell_type": "markdown",
   "id": "6c7d6f75-8947-4a80-9b95-3a2a634aae33",
   "metadata": {},
   "source": [
    "`-` training set 을 풀어봄 (predict) $\\to$ 점수 확인 "
   ]
  },
  {
   "cell_type": "code",
   "execution_count": 6,
   "id": "91daef3c-7a51-48b6-9692-3b68b04df6b9",
   "metadata": {},
   "outputs": [
    {
     "data": {
      "text/plain": [
       "0.9349046015712682"
      ]
     },
     "execution_count": 6,
     "metadata": {},
     "output_type": "execute_result"
    }
   ],
   "source": [
    "(tr.Survived == predictr.predict(tr)).mean()"
   ]
  },
  {
   "cell_type": "code",
   "execution_count": 7,
   "id": "e521d63e-3e90-413b-8b3b-89e27bf38b26",
   "metadata": {},
   "outputs": [
    {
     "data": {
      "text/plain": [
       "0.7867564534231201"
      ]
     },
     "execution_count": 7,
     "metadata": {},
     "output_type": "execute_result"
    }
   ],
   "source": [
    "(tr.Survived == (tr.Sex == \"female\")).mean() # 예전점수와 비교"
   ]
  },
  {
   "cell_type": "markdown",
   "id": "ce55c242-e8a4-41b6-af3c-864acbb9c19c",
   "metadata": {},
   "source": [
    "`-` test set 을 풀어봄 (predict) $\\to$ 점수 확인 하러 캐글에 결과제출 "
   ]
  },
  {
   "cell_type": "code",
   "execution_count": null,
   "id": "fb8b17e6-2738-4e8f-a792-e02cfb025ef2",
   "metadata": {},
   "outputs": [],
   "source": [
    "tst.assign(Survived = predictr.predict(tst)).loc[:,['PassengerId','Survived']]\\\n",
    ".to_csv(\"autogluon_submission.csv\",index=False)"
   ]
  }
 ],
 "metadata": {
  "kernelspec": {
   "display_name": "Python 3 (ipykernel)",
   "language": "python",
   "name": "python3"
  },
  "language_info": {
   "codemirror_mode": {
    "name": "ipython",
    "version": 3
   },
   "file_extension": ".py",
   "mimetype": "text/x-python",
   "name": "python",
   "nbconvert_exporter": "python",
   "pygments_lexer": "ipython3",
   "version": "3.10.12"
  }
 },
 "nbformat": 4,
 "nbformat_minor": 5
}
