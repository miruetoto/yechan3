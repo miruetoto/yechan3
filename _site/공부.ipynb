{
  "cells": [
    {
      "cell_type": "markdown",
      "metadata": {},
      "source": [
        "# 공부"
      ],
      "id": "11145c12-fd34-4d7b-a0db-3dbffeea7d89"
    }
  ],
  "nbformat": 4,
  "nbformat_minor": 5,
  "metadata": {
    "kernelspec": {
      "display_name": "Python 3",
      "language": "python",
      "name": "python3"
    }
  }
}