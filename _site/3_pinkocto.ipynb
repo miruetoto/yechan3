{
  "cells": [
    {
      "cell_type": "markdown",
      "metadata": {},
      "source": [
        "# PINKOCTO\n",
        "\n",
        "-   <https://github.com/pinkocto>\n",
        "-   <https://pinkocto.github.io/noteda/>\n",
        "-   <https://pinkocto.github.io/Quarto-Blog/>"
      ],
      "id": "81e0af60-9c70-4e68-8256-de08f9184980"
    }
  ],
  "nbformat": 4,
  "nbformat_minor": 5,
  "metadata": {
    "kernelspec": {
      "display_name": "Python 3",
      "language": "python",
      "name": "python3"
    }
  }
}