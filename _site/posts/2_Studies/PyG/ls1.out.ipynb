{
  "cells": [
    {
      "cell_type": "markdown",
      "metadata": {},
      "source": [
        "# **\\[PyG\\]** lesson1: 자료형\n",
        "\n",
        "신록예찬  \n",
        "2023-07-02"
      ],
      "id": "e5f162c4-d313-4328-bc53-e19c85d3d954"
    },
    {
      "cell_type": "code",
      "execution_count": 2,
      "metadata": {},
      "outputs": [],
      "source": [
        "import torch\n",
        "import torch_geometric"
      ],
      "id": "2a8986a8-899c-438c-b865-18ea6152f2e4"
    },
    {
      "cell_type": "markdown",
      "metadata": {},
      "source": [
        "# Download notebook\n",
        "\n",
        "``` default\n",
        "!wget https://raw.githubusercontent.com/miruetoto/yechan3/main/posts/2_Studies/PyG/ls1.ipynb\n",
        "```\n",
        "\n",
        "# PyG 의 Data 자료형\n",
        "\n",
        "> ref:\n",
        "> <https://pytorch-geometric.readthedocs.io/en/latest/notes/introduction.html#data-handling-of-graphs>\n",
        "\n",
        "`-` 자료는 [PyG의 Data\n",
        "오브젝트](https://pytorch-geometric.readthedocs.io/en/latest/notes/introduction.html#data-handling-of-graphs)를\n",
        "기반으로 한다.\n",
        "\n",
        "## **예제1**: 아래와 같은 그래프자료를 고려하자.\n",
        "\n",
        "![](https://pytorch-geometric.readthedocs.io/en/latest/_images/graph.svg)\n",
        "\n",
        "`-` 이러한 자료형은 아래와 같은 형식으로 저장한다."
      ],
      "id": "068147d1-3f5c-4d6c-9cb0-7a7d056545ec"
    },
    {
      "cell_type": "code",
      "execution_count": 81,
      "metadata": {},
      "outputs": [],
      "source": [
        "edge_index = torch.tensor([[0, 1, 1, 2],\n",
        "                           [1, 0, 2, 1]], dtype=torch.long)\n",
        "x = torch.tensor([[-1], [0], [1]], dtype=torch.float)\n",
        "data = torch_geometric.data.Data(x=x, edge_index=edge_index) # torch_geometric.data.Data는 그래프자료형을 만드는 클래스"
      ],
      "id": "27ade98b-01dd-4808-ae61-c51afcf06863"
    },
    {
      "cell_type": "markdown",
      "metadata": {},
      "source": [
        "`-` data 의 자료형"
      ],
      "id": "79226097-997e-419d-a169-23b1533afe16"
    },
    {
      "cell_type": "code",
      "execution_count": 45,
      "metadata": {},
      "outputs": [],
      "source": [
        "type(data)"
      ],
      "id": "a671b4e0-8f7c-4106-afa9-a0e4784ab3ea"
    },
    {
      "cell_type": "markdown",
      "metadata": {},
      "source": [
        "`-` data의 `__str__`"
      ],
      "id": "08652d6b-3581-48de-b8ad-7fab3faff4af"
    },
    {
      "cell_type": "code",
      "execution_count": 83,
      "metadata": {},
      "outputs": [],
      "source": [
        "data"
      ],
      "id": "3751985b-9c7a-482b-8760-5e58559b6c84"
    },
    {
      "cell_type": "markdown",
      "metadata": {},
      "source": [
        "-   `x=[3, 1]`: 이 자료는 3개의 노드가 있으며, 각 노드에는 1개의\n",
        "    feature가 있음\n",
        "-   `edge_index=[2, 4]`: ${\\cal E}$는 총 4개의 원소가 있음.\n",
        "\n",
        "`-` 각 노드의 feature를 확인하는 방법 (즉\n",
        "$f:{\\cal V} \\to \\mathbb{R}^k$를 확인하는 방법)"
      ],
      "id": "480b15c9-5f82-41c2-ac2c-f9e4a492f43c"
    },
    {
      "cell_type": "code",
      "execution_count": 46,
      "metadata": {},
      "outputs": [],
      "source": [
        "data.x"
      ],
      "id": "b4955ade-1059-43a8-9841-a0f2a46b0d93"
    },
    {
      "cell_type": "markdown",
      "metadata": {},
      "source": [
        "`-` ${\\cal E}$를 확인하는 방법"
      ],
      "id": "2e691c1c-0e56-4e18-a89a-6114e623a8bd"
    },
    {
      "cell_type": "code",
      "execution_count": 47,
      "metadata": {},
      "outputs": [],
      "source": [
        "data.edge_index"
      ],
      "id": "c8964557-b9ca-4002-8221-f6ae80fdb05c"
    },
    {
      "cell_type": "markdown",
      "metadata": {},
      "source": [
        "`-`"
      ],
      "id": "e7550df3-6b2d-48e6-9c72-61a950c9241f"
    },
    {
      "cell_type": "code",
      "execution_count": 86,
      "metadata": {},
      "outputs": [],
      "source": [
        "len(data)"
      ],
      "id": "8a195534-117d-4714-a2db-1151cfa190b4"
    },
    {
      "cell_type": "markdown",
      "metadata": {},
      "source": [
        "## **예제2**: 잘못된 사용\n",
        "\n",
        "`-` `edge_index`는 예제1과 같이 $[2,|{\\cal E}|]$ 의 shape으로 넣어야\n",
        "한다. 그렇지 않으면 에러가 난다."
      ],
      "id": "d9978090-a5c0-4750-9229-221fc59361ca"
    },
    {
      "cell_type": "code",
      "execution_count": 41,
      "metadata": {},
      "outputs": [],
      "source": [
        "edge_index = torch.tensor([[0, 1],\n",
        "                           [1, 0],\n",
        "                           [1, 2],\n",
        "                           [2, 1]], dtype=torch.long)\n",
        "x = torch.tensor([[-1], [0], [1]], dtype=torch.float)\n",
        "\n",
        "data = torch_geometric.data.Data(x=x, edge_index=edge_index)"
      ],
      "id": "0278aff0-9ff6-4243-92ab-a86be0d189c6"
    },
    {
      "cell_type": "code",
      "execution_count": 42,
      "metadata": {},
      "outputs": [],
      "source": [
        "#data.validate(raise_on_error=True)\n",
        "data.validate()"
      ],
      "id": "e211094b-148a-4f1f-bc96-ea870cc3ad84"
    },
    {
      "cell_type": "markdown",
      "metadata": {},
      "source": [
        "## **예제3**: 예제2의 수정\n",
        "\n",
        "`-` `edge_index`의 shape이 $[|{\\cal E}|,2]$ 꼴로 저장되어 있었을 경우\n",
        "트랜스포즈이후 countiguous()함수를 사용하면 된다.[1]\n",
        "\n",
        "[1] 그런데 그냥 transpose만 해도되는것 같음"
      ],
      "id": "6255d4d4-a557-4b66-9558-760e5c29bd28"
    },
    {
      "cell_type": "code",
      "execution_count": 50,
      "metadata": {},
      "outputs": [],
      "source": [
        "edge_index = torch.tensor([[0, 1],\n",
        "                           [1, 0],\n",
        "                           [1, 2],\n",
        "                           [2, 1]], dtype=torch.long)\n",
        "x = torch.tensor([[-1], [0], [1]], dtype=torch.float)\n",
        "\n",
        "data = torch_geometric.data.Data(\n",
        "    x=x, \n",
        "    edge_index=edge_index.t().contiguous()\n",
        ")"
      ],
      "id": "0d524691-1adf-498e-b01b-d954ee1dece3"
    },
    {
      "cell_type": "code",
      "execution_count": 51,
      "metadata": {},
      "outputs": [],
      "source": [
        "#data.validate(raise_on_error=True)\n",
        "data.validate()"
      ],
      "id": "13b76fed-bdb4-435a-a287-664b9d8078fc"
    }
  ],
  "nbformat": 4,
  "nbformat_minor": 5,
  "metadata": {
    "kernelspec": {
      "name": "python3",
      "display_name": "Python 3 (ipykernel)",
      "language": "python"
    },
    "language_info": {
      "name": "python",
      "codemirror_mode": {
        "name": "ipython",
        "version": "3"
      },
      "file_extension": ".py",
      "mimetype": "text/x-python",
      "nbconvert_exporter": "python",
      "pygments_lexer": "ipython3",
      "version": "3.10.11"
    }
  }
}