{
  "cells": [
    {
      "cell_type": "markdown",
      "metadata": {},
      "source": [
        "# **\\[PyG\\]** lesson1: 자료형\n",
        "\n",
        "신록예찬  \n",
        "2023-07-02"
      ],
      "id": "e298ef7c-8dd4-43f7-b61d-abe833ce2610"
    },
    {
      "cell_type": "code",
      "execution_count": 2,
      "metadata": {},
      "outputs": [],
      "source": [
        "import torch\n",
        "import torch_geometric"
      ],
      "id": "2a8986a8-899c-438c-b865-18ea6152f2e4"
    },
    {
      "cell_type": "markdown",
      "metadata": {},
      "source": [
        "# Download notebook\n",
        "\n",
        "``` default\n",
        "!wget https://raw.githubusercontent.com/miruetoto/yechan3/main/posts/2_Studies/PyG/ls1.ipynb\n",
        "```\n",
        "\n",
        "# PyG 의 Data 자료형\n",
        "\n",
        "> ref:\n",
        "> <https://pytorch-geometric.readthedocs.io/en/latest/notes/introduction.html#data-handling-of-graphs>\n",
        "\n",
        "`-` 자료는 [PyG의 Data\n",
        "오브젝트](https://pytorch-geometric.readthedocs.io/en/latest/notes/introduction.html#data-handling-of-graphs)를\n",
        "기반으로 한다.\n",
        "\n",
        "## **예제1**: 아래와 같은 그래프자료를 고려하자.\n",
        "\n",
        "![](https://pytorch-geometric.readthedocs.io/en/latest/_images/graph.svg)\n",
        "\n",
        "`-` 이러한 자료형은 아래와 같은 형식으로 저장한다."
      ],
      "id": "b96528e0-474d-4431-aca3-7ba6d8b46a30"
    },
    {
      "cell_type": "code",
      "execution_count": 81,
      "metadata": {},
      "outputs": [],
      "source": [
        "edge_index = torch.tensor([[0, 1, 1, 2],\n",
        "                           [1, 0, 2, 1]], dtype=torch.long)\n",
        "x = torch.tensor([[-1], [0], [1]], dtype=torch.float)\n",
        "data = torch_geometric.data.Data(x=x, edge_index=edge_index) # torch_geometric.data.Data는 그래프자료형을 만드는 클래스"
      ],
      "id": "27ade98b-01dd-4808-ae61-c51afcf06863"
    },
    {
      "cell_type": "markdown",
      "metadata": {},
      "source": [
        "`-` data 의 자료형"
      ],
      "id": "c812c8c2-2224-4287-b986-e4f1363f4e73"
    },
    {
      "cell_type": "code",
      "execution_count": 45,
      "metadata": {},
      "outputs": [],
      "source": [
        "type(data)"
      ],
      "id": "a671b4e0-8f7c-4106-afa9-a0e4784ab3ea"
    },
    {
      "cell_type": "markdown",
      "metadata": {},
      "source": [
        "`-` data의 `__str__`"
      ],
      "id": "363b02e7-3752-4a5f-ba0f-f96e4c232df9"
    },
    {
      "cell_type": "code",
      "execution_count": 83,
      "metadata": {},
      "outputs": [],
      "source": [
        "data"
      ],
      "id": "3751985b-9c7a-482b-8760-5e58559b6c84"
    },
    {
      "cell_type": "markdown",
      "metadata": {},
      "source": [
        "-   `x=[3, 1]`: 이 자료는 3개의 노드가 있으며, 각 노드에는 1개의\n",
        "    feature가 있음\n",
        "-   `edge_index=[2, 4]`: ${\\cal E}$는 총 4개의 원소가 있음.\n",
        "\n",
        "`-` 각 노드의 feature를 확인하는 방법 (즉\n",
        "$f:{\\cal V} \\to \\mathbb{R}^k$를 확인하는 방법)"
      ],
      "id": "a4be283f-a9fc-4833-8107-58ac505055da"
    },
    {
      "cell_type": "code",
      "execution_count": 46,
      "metadata": {},
      "outputs": [],
      "source": [
        "data.x"
      ],
      "id": "b4955ade-1059-43a8-9841-a0f2a46b0d93"
    },
    {
      "cell_type": "markdown",
      "metadata": {},
      "source": [
        "`-` ${\\cal E}$를 확인하는 방법"
      ],
      "id": "231f2cd6-d222-4a26-96ae-4e5533bd2d91"
    },
    {
      "cell_type": "code",
      "execution_count": 47,
      "metadata": {},
      "outputs": [],
      "source": [
        "data.edge_index"
      ],
      "id": "c8964557-b9ca-4002-8221-f6ae80fdb05c"
    },
    {
      "cell_type": "markdown",
      "metadata": {},
      "source": [
        "`-`"
      ],
      "id": "c2623ccf-d9b0-4c5b-b536-0935796c8507"
    },
    {
      "cell_type": "code",
      "execution_count": 86,
      "metadata": {},
      "outputs": [],
      "source": [
        "len(data)"
      ],
      "id": "8a195534-117d-4714-a2db-1151cfa190b4"
    },
    {
      "cell_type": "markdown",
      "metadata": {},
      "source": [
        "## **예제2**: 잘못된 사용\n",
        "\n",
        "`-` `edge_index`는 예제1과 같이 $[2,|{\\cal E}|]$ 의 shape으로 넣어야\n",
        "한다. 그렇지 않으면 에러가 난다."
      ],
      "id": "f501afd9-cecb-4198-9526-2f6e5511fa98"
    },
    {
      "cell_type": "code",
      "execution_count": 41,
      "metadata": {},
      "outputs": [],
      "source": [
        "edge_index = torch.tensor([[0, 1],\n",
        "                           [1, 0],\n",
        "                           [1, 2],\n",
        "                           [2, 1]], dtype=torch.long)\n",
        "x = torch.tensor([[-1], [0], [1]], dtype=torch.float)\n",
        "\n",
        "data = torch_geometric.data.Data(x=x, edge_index=edge_index)"
      ],
      "id": "0278aff0-9ff6-4243-92ab-a86be0d189c6"
    },
    {
      "cell_type": "code",
      "execution_count": 42,
      "metadata": {},
      "outputs": [],
      "source": [
        "#data.validate(raise_on_error=True)\n",
        "data.validate()"
      ],
      "id": "e211094b-148a-4f1f-bc96-ea870cc3ad84"
    },
    {
      "cell_type": "markdown",
      "metadata": {},
      "source": [
        "## **예제3**: 예제2의 수정\n",
        "\n",
        "`-` `edge_index`의 shape이 $[|{\\cal E}|,2]$ 꼴로 저장되어 있었을 경우\n",
        "트랜스포즈이후 countiguous()함수를 사용하면 된다.[1]\n",
        "\n",
        "[1] 그런데 그냥 transpose만 해도되는것 같음"
      ],
      "id": "61a436c5-423c-40ba-ac9d-0fe997af04d7"
    },
    {
      "cell_type": "code",
      "execution_count": 50,
      "metadata": {},
      "outputs": [],
      "source": [
        "edge_index = torch.tensor([[0, 1],\n",
        "                           [1, 0],\n",
        "                           [1, 2],\n",
        "                           [2, 1]], dtype=torch.long)\n",
        "x = torch.tensor([[-1], [0], [1]], dtype=torch.float)\n",
        "\n",
        "data = torch_geometric.data.Data(\n",
        "    x=x, \n",
        "    edge_index=edge_index.t().contiguous()\n",
        ")"
      ],
      "id": "0d524691-1adf-498e-b01b-d954ee1dece3"
    },
    {
      "cell_type": "code",
      "execution_count": 51,
      "metadata": {},
      "outputs": [],
      "source": [
        "#data.validate(raise_on_error=True)\n",
        "data.validate()"
      ],
      "id": "13b76fed-bdb4-435a-a287-664b9d8078fc"
    }
  ],
  "nbformat": 4,
  "nbformat_minor": 5,
  "metadata": {
    "kernelspec": {
      "name": "python3",
      "display_name": "Python 3 (ipykernel)",
      "language": "python"
    },
    "language_info": {
      "name": "python",
      "codemirror_mode": {
        "name": "ipython",
        "version": "3"
      },
      "file_extension": ".py",
      "mimetype": "text/x-python",
      "nbconvert_exporter": "python",
      "pygments_lexer": "ipython3",
      "version": "3.10.11"
    }
  }
}