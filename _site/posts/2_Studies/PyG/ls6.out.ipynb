{
  "cells": [
    {
      "cell_type": "markdown",
      "metadata": {},
      "source": [
        "# **\\[PyG\\]** lesson6: GCN\n",
        "\n",
        "신록예찬  \n",
        "2023-07-19\n",
        "\n",
        "# ref\n",
        "\n",
        "Kipf and Welling (2016): <https://arxiv.org/abs/1609.02907>\n",
        "\n",
        "# layer-wise progagation rule\n",
        "\n",
        "Kipf and Welling (2016) use\n",
        "\n",
        "$$H^{(l+1)} = \\sigma\\big(\\tilde{D}^{-1/2}\\tilde{A}\\tilde{D}^{-1/2}H^{(l)}W^{(l)}\\big)$$\n",
        "\n",
        "Kipf, Thomas N, and Max Welling. 2016. “Semi-Supervised Classification\n",
        "with Graph Convolutional Networks.” *arXiv Preprint arXiv:1609.02907*."
      ],
      "id": "8e1e4793-d88e-4a01-816f-59bef242253e"
    }
  ],
  "nbformat": 4,
  "nbformat_minor": 5,
  "metadata": {
    "kernelspec": {
      "name": "python3",
      "display_name": "Python 3",
      "language": "python"
    },
    "language_info": {
      "name": "python",
      "codemirror_mode": {
        "name": "ipython",
        "version": "3"
      },
      "file_extension": ".py",
      "mimetype": "text/x-python",
      "nbconvert_exporter": "python",
      "pygments_lexer": "ipython3",
      "version": "3.8.16"
    }
  }
}