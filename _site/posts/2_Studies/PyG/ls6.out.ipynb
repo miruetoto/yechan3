{
  "cells": [
    {
      "cell_type": "markdown",
      "metadata": {},
      "source": [
        "# **\\[PyG\\]** lesson6: GCN\n",
        "\n",
        "신록예찬  \n",
        "2023-07-19\n",
        "\n",
        "# ref\n",
        "\n",
        "Kipf and Welling (2016): <https://arxiv.org/abs/1609.02907>"
      ],
      "id": "4bf71d5f-0ad2-47dd-b0c7-92769d13cb42"
    },
    {
      "cell_type": "code",
      "execution_count": 2,
      "metadata": {},
      "outputs": [],
      "source": [
        "import torch\n",
        "import torch_geometric"
      ],
      "id": "ddd19a86-eccb-46b9-9421-3a20b08aeda2"
    },
    {
      "cell_type": "markdown",
      "metadata": {},
      "source": [
        "# layer-wise progagation rule\n",
        "\n",
        "Kipf and Welling (2016) use following layer-wise propagation rule:\n",
        "\n",
        "$$H^{(l+1)} = \\sigma\\big(\\tilde{D}^{-1/2}\\tilde{A}\\tilde{D}^{-1/2}H^{(l)}W^{(l)}\\big).$$\n",
        "\n",
        "Check followings:\n",
        "\n",
        "-   In Kipf and Welling (2016) research, they suppose ${\\cal G}$ as\n",
        "    undirected graph.\n",
        "-   $\\tilde{A}=A+I_{N}$.\n",
        "-   $\\tilde{D}_{ii}=\\sum_{j}\\tilde{A}_{ij}$.\n",
        "-   $W^{(l)}$ is a trainable weight matrix in $l$-th layer.\n",
        "-   $H^{(l)}$ is output of $l$-th layer; $H^{(0)}=X$.\n",
        "\n",
        "## 예제\n",
        "\n",
        "`-` data"
      ],
      "id": "7bb3db36-4b43-42a2-b78a-7029f1868a2e"
    },
    {
      "cell_type": "code",
      "execution_count": 3,
      "metadata": {},
      "outputs": [],
      "source": [
        "x = torch.tensor([[20],\n",
        "                  [21],\n",
        "                  [19],\n",
        "                  [1],\n",
        "                  [2],\n",
        "                  [1]], dtype=torch.float)\n",
        "\n",
        "edge_index = torch.tensor([[0, 1, 2, 0, 1, 2, 3, 4, 3, 5, 4, 5],\n",
        "                           [1, 0, 0, 2, 2, 1, 4, 3, 5, 3, 5, 4]], dtype=torch.long)\n",
        "\n",
        "y = torch.tensor([1,1,1,0,0,0], dtype=torch.int64)\n",
        "data = torch_geometric.data.Data(x=x, edge_index=edge_index, y=y) \n",
        "#data.train_mask = torch.tensor([True,False,True,True,False,True])\n",
        "#data.test_mask = torch.tensor([False,True,False,False,True,False])\n",
        "data"
      ],
      "id": "81e0fdfb-89ac-4ca7-bd4b-a73ff85ba2a8"
    },
    {
      "cell_type": "markdown",
      "metadata": {},
      "source": [
        "`-` GCNConv"
      ],
      "id": "2d7bd883-3fa8-4fad-8af1-f0d7f1d3420d"
    },
    {
      "cell_type": "code",
      "execution_count": 4,
      "metadata": {},
      "outputs": [],
      "source": [
        "gconv = torch_geometric.nn.GCNConv(1,4)\n",
        "gconv"
      ],
      "id": "e3937830-f92b-47fd-b931-f34e677101d3"
    },
    {
      "cell_type": "code",
      "execution_count": 5,
      "metadata": {},
      "outputs": [],
      "source": [
        "gconv(data.x, data.edge_index)"
      ],
      "id": "8bd29433-6870-44e8-99e0-a747a9e629e7"
    },
    {
      "cell_type": "code",
      "execution_count": 12,
      "metadata": {},
      "outputs": [],
      "source": [
        "list(gconv.parameters())"
      ],
      "id": "c9737c0d-eb2b-4f99-a2d6-e7f3b09014ed"
    },
    {
      "cell_type": "code",
      "execution_count": 15,
      "metadata": {},
      "outputs": [],
      "source": [
        "_,W = list(gconv.parameters())\n",
        "W"
      ],
      "id": "da08b577-4c13-49c2-9480-698aefb9e359"
    },
    {
      "cell_type": "code",
      "execution_count": 16,
      "metadata": {},
      "outputs": [],
      "source": [
        "A = torch.tensor([[0., 1., 1., 0., 0., 0.],\n",
        "                  [1., 0., 1., 0., 0., 0.],\n",
        "                  [1., 1., 0., 0., 0., 0.],\n",
        "                  [0., 0., 0., 0., 1., 1.],\n",
        "                  [0., 0., 0., 1., 0., 1.],\n",
        "                  [0., 0., 0., 1., 1., 0.]])\n",
        "Atilde = A+torch.eye(6)\n",
        "Atilde"
      ],
      "id": "6c57b57e-ed85-43b3-b7c4-669921962b8c"
    },
    {
      "cell_type": "code",
      "execution_count": 17,
      "metadata": {},
      "outputs": [],
      "source": [
        "Atilde@data.x@W.T/3, gconv(data.x,data.edge_index)"
      ],
      "id": "30299ec8-e0f6-47f8-b68b-ae79b8e3cb60"
    },
    {
      "cell_type": "markdown",
      "metadata": {},
      "source": [
        "`-` 즉 아래의 수식에서\n",
        "\n",
        "$$H^{(l+1)} = \\sigma\\big(\\tilde{D}^{-1/2}\\tilde{A}\\tilde{D}^{-1/2}H^{(l)}W^{(l)}\\big).$$\n",
        "\n",
        "$\\tilde{D}^{-1/2}\\tilde{A}\\tilde{D}^{-1/2}H^{(l)}W^{(l)}$를 계산하는\n",
        "Layer가 `torch_geometric.nn.GCNConv()` 으로 구현되어있음.\n",
        "\n",
        "# Spectral graph convolutions (Section 2.1-2)\n",
        "\n",
        "`-` In this chapter, Kipf and Welling (2016) argues why the calculation\n",
        "\n",
        "$$H^{(l+1)} = \\sigma\\big(\\tilde{D}^{-1/2}\\tilde{A}\\tilde{D}^{-1/2}H^{(l)}W^{(l)}\\big).$$\n",
        "\n",
        "can be considered as graph convolution.\n",
        "\n",
        "`-` The properties of convolution operator $\\star$ in classical spectral\n",
        "analysis are as follows (3):\n",
        "\n",
        "$$g_{\\theta} \\star x = Ug_{\\theta}U^\\top x$$\n",
        "\n",
        "where $g_{\\theta}=\\text{diag}(\\theta)$ and $U$ is eigenvector matrix of\n",
        "$L=I-D^{-1/2}AD^{-1/2}$.\n",
        "\n",
        "`-` Now let’s examine equation (7):\n",
        "\n",
        "$$g_{\\theta}\\star x \\approx \\theta \\big(I+D^{-1/2}AD^{-1/2}\\big)x. \\cdots (7)$$\n",
        "\n",
        "By expressing equation (7) matrix form, we get equation (8):\n",
        "\n",
        "$$Z = \\tilde{D}^{-1/2}\\tilde{A}\\tilde{D}^{-1/2}X \\Theta. \\cdots (8)$$\n",
        "\n",
        "This can be transfromed to\n",
        "\n",
        "$$H^{(l+1)} = \\sigma\\big(Z\\big)= \\sigma\\big(\\tilde{D}^{-1/2}\\tilde{A}\\tilde{D}^{-1/2}H^{(l)}W^{(l)}\\big).$$\n",
        "\n",
        "where we interpret $H^{(l)}$ as $X$ and $W^{(l)}$ as $\\Theta$.\n",
        "\n",
        "Kipf, Thomas N, and Max Welling. 2016. “Semi-Supervised Classification\n",
        "with Graph Convolutional Networks.” *arXiv Preprint arXiv:1609.02907*."
      ],
      "id": "045e334f-b2d7-469f-b373-1560419f831b"
    }
  ],
  "nbformat": 4,
  "nbformat_minor": 5,
  "metadata": {
    "kernelspec": {
      "name": "python3",
      "display_name": "Python 3",
      "language": "python"
    },
    "language_info": {
      "name": "python",
      "codemirror_mode": {
        "name": "ipython",
        "version": "3"
      },
      "file_extension": ".py",
      "mimetype": "text/x-python",
      "nbconvert_exporter": "python",
      "pygments_lexer": "ipython3",
      "version": "3.8.16"
    }
  }
}