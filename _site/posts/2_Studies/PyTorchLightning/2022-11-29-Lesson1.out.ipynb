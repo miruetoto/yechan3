{
  "cells": [
    {
      "cell_type": "markdown",
      "metadata": {},
      "source": [
        "# **\\[PL\\]** Lesson1: 단순선형회귀\n",
        "\n",
        "신록예찬  \n",
        "2022-09-21"
      ],
      "id": "7bef433a-bf10-4e46-905b-af000152fa76"
    },
    {
      "cell_type": "code",
      "execution_count": 89,
      "metadata": {},
      "outputs": [],
      "source": [
        "import torch\n",
        "import pandas as pd\n",
        "import matplotlib.pyplot as plt \n",
        "import pytorch_lightning as pl "
      ],
      "id": "ccaa3288-0cfd-4489-9dd8-355fbb41f508"
    },
    {
      "cell_type": "markdown",
      "metadata": {},
      "source": [
        "# ref\n",
        "\n",
        "ref:\n",
        "<https://guebin.github.io/DL2022/posts/II.%20DNN/2022-09-20-3wk-2.html>\n",
        "\n",
        "# Regression 1: CPU"
      ],
      "id": "0dfd4649-432c-4ef9-a8ef-6f02da5e5614"
    },
    {
      "cell_type": "code",
      "execution_count": 63,
      "metadata": {},
      "outputs": [],
      "source": [
        "df = pd.read_csv(\"https://raw.githubusercontent.com/guebin/DL2022/main/posts/II.%20DNN/2022-09-22-regression.csv\")"
      ],
      "id": "494ed9ca-89f8-490a-8e1c-8eaaf261c58f"
    },
    {
      "cell_type": "code",
      "execution_count": 64,
      "metadata": {
        "tags": []
      },
      "outputs": [],
      "source": [
        "x= torch.tensor(df.x).reshape(-1,1).float()\n",
        "y= torch.tensor(df.y).reshape(-1,1).float()"
      ],
      "id": "216ec4dd-5b24-4d71-a8ad-525c1b319d0a"
    },
    {
      "cell_type": "code",
      "execution_count": 65,
      "metadata": {},
      "outputs": [],
      "source": [
        "ds = torch.utils.data.TensorDataset(x,y)\n",
        "dl = torch.utils.data.DataLoader(ds,batch_size=100)"
      ],
      "id": "09c89dc7-3082-4e3a-9535-b0a1bbebd358"
    },
    {
      "cell_type": "code",
      "execution_count": 66,
      "metadata": {},
      "outputs": [],
      "source": [
        "class NetLO(pl.LightningModule):\n",
        "    def __init__(self):\n",
        "        super().__init__()\n",
        "        self.linr = torch.nn.Linear(1,1)\n",
        "        self.loss_fn = torch.nn.MSELoss()\n",
        "    def forward(self,x):\n",
        "        yhat = self.linr(x)\n",
        "        return yhat\n",
        "    def configure_optimizers(self):\n",
        "        optimizr = torch.optim.SGD(self.parameters(), lr=0.1)\n",
        "        return optimizr \n",
        "    def training_step(self,batch,batch_idx):\n",
        "        x,y = batch\n",
        "        yhat = self(x)\n",
        "        loss = self.loss_fn(yhat,y) \n",
        "        return loss "
      ],
      "id": "69fb05c0-e061-4ec8-ac2e-10759719c890"
    },
    {
      "cell_type": "code",
      "execution_count": 67,
      "metadata": {},
      "outputs": [],
      "source": [
        "net = NetLO()"
      ],
      "id": "1b42b84e-d9aa-4bd6-ba9b-7d10ab13be06"
    },
    {
      "cell_type": "code",
      "execution_count": 68,
      "metadata": {},
      "outputs": [
        {
          "output_type": "stream",
          "name": "stderr",
          "text": [
            "GPU available: True (cuda), used: False\n",
            "TPU available: False, using: 0 TPU cores\n",
            "IPU available: False, using: 0 IPUs\n",
            "HPU available: False, using: 0 HPUs\n",
            "/home/cgb4/anaconda3/envs/py37/lib/python3.7/site-packages/pytorch_lightning/trainer/trainer.py:1767: PossibleUserWarning: GPU available but not used. Set `accelerator` and `devices` using `Trainer(accelerator='gpu', devices=1)`.\n",
            "  category=PossibleUserWarning,"
          ]
        }
      ],
      "source": [
        "trnr = pl.Trainer(max_epochs=1)"
      ],
      "id": "ce9f0e82-5bfb-4d1d-b1c7-333b280567fe"
    },
    {
      "cell_type": "code",
      "execution_count": 69,
      "metadata": {},
      "outputs": [],
      "source": [
        "net.linr.bias.data = torch.tensor([-5.0])\n",
        "net.linr.weight.data = torch.tensor([[10.0]])"
      ],
      "id": "6ebb63bb-b516-4320-93eb-d4de9bc647b5"
    },
    {
      "cell_type": "code",
      "execution_count": 70,
      "metadata": {},
      "outputs": [
        {
          "output_type": "stream",
          "name": "stderr",
          "text": [
            "\n",
            "  | Name    | Type    | Params\n",
            "------------------------------------\n",
            "0 | linr    | Linear  | 2     \n",
            "1 | loss_fn | MSELoss | 0     \n",
            "------------------------------------\n",
            "2         Trainable params\n",
            "0         Non-trainable params\n",
            "2         Total params\n",
            "0.000     Total estimated model params size (MB)\n",
            "`Trainer.fit` stopped: `max_epochs=1` reached."
          ]
        }
      ],
      "source": [
        "trnr.fit(net, train_dataloaders=dl) "
      ],
      "id": "d9b8ac98-0654-4ee1-858b-2aa0d5000997"
    },
    {
      "cell_type": "code",
      "execution_count": 71,
      "metadata": {},
      "outputs": [],
      "source": [
        "net.linr.weight, net.linr.bias"
      ],
      "id": "0b4f3570-bc9e-42a5-a37d-e06d3e83e697"
    },
    {
      "cell_type": "code",
      "execution_count": 72,
      "metadata": {},
      "outputs": [
        {
          "output_type": "display_data",
          "metadata": {},
          "data": {
            "image/png": "[encoded data removed]"
          }
        }
      ],
      "source": [
        "plt.plot(x,y,'o')\n",
        "plt.plot(x,net(x).data,'--')"
      ],
      "id": "d1c8dcfa-1562-43d2-b0da-3b5735f00c70"
    },
    {
      "cell_type": "markdown",
      "metadata": {},
      "source": [
        "# Regression 2: GPU"
      ],
      "id": "15234c4b-ac80-4cf0-80ea-5f7af2be2242"
    },
    {
      "cell_type": "code",
      "execution_count": 73,
      "metadata": {},
      "outputs": [],
      "source": [
        "df = pd.read_csv(\"https://raw.githubusercontent.com/guebin/DL2022/main/posts/II.%20DNN/2022-09-22-regression.csv\")"
      ],
      "id": "d81a589b-a316-4489-af34-e02cac3027f3"
    },
    {
      "cell_type": "code",
      "execution_count": 74,
      "metadata": {
        "tags": []
      },
      "outputs": [],
      "source": [
        "x= torch.tensor(df.x).reshape(-1,1).float()\n",
        "y= torch.tensor(df.y).reshape(-1,1).float()"
      ],
      "id": "bcd22e9a-a1cc-44fa-a12b-3e1caaf7abd2"
    },
    {
      "cell_type": "code",
      "execution_count": 75,
      "metadata": {},
      "outputs": [],
      "source": [
        "ds = torch.utils.data.TensorDataset(x,y)\n",
        "dl = torch.utils.data.DataLoader(ds,batch_size=100)"
      ],
      "id": "9d14a0e3-a31e-4232-8523-07fe11bc61ab"
    },
    {
      "cell_type": "code",
      "execution_count": 76,
      "metadata": {},
      "outputs": [],
      "source": [
        "class NetLO(pl.LightningModule):\n",
        "    def __init__(self):\n",
        "        super().__init__()\n",
        "        self.linr = torch.nn.Linear(1,1)\n",
        "        self.loss_fn = torch.nn.MSELoss()\n",
        "    def forward(self,x):\n",
        "        yhat = self.linr(x)\n",
        "        return yhat\n",
        "    def configure_optimizers(self):\n",
        "        optimizr = torch.optim.SGD(self.parameters(), lr=0.1)\n",
        "        return optimizr \n",
        "    def training_step(self,batch,batch_idx):\n",
        "        x,y = batch\n",
        "        yhat = self(x)\n",
        "        loss = self.loss_fn(yhat,y) \n",
        "        return loss "
      ],
      "id": "863d78d2-0ade-48d3-a40d-e0c881adb834"
    },
    {
      "cell_type": "code",
      "execution_count": 77,
      "metadata": {},
      "outputs": [],
      "source": [
        "net = NetLO()"
      ],
      "id": "517ce15a-aaf2-4630-a9ae-657660573011"
    },
    {
      "cell_type": "code",
      "execution_count": 84,
      "metadata": {},
      "outputs": [
        {
          "output_type": "stream",
          "name": "stderr",
          "text": [
            "GPU available: True (cuda), used: True\n",
            "TPU available: False, using: 0 TPU cores\n",
            "IPU available: False, using: 0 IPUs\n",
            "HPU available: False, using: 0 HPUs"
          ]
        }
      ],
      "source": [
        "trnr = pl.Trainer(max_epochs=1, accelerator='gpu', devices=1)"
      ],
      "id": "c95dd114-0287-41db-a8cc-f6edfa21efe2"
    },
    {
      "cell_type": "code",
      "execution_count": 85,
      "metadata": {},
      "outputs": [],
      "source": [
        "net.linr.bias.data = torch.tensor([-5.0])\n",
        "net.linr.weight.data = torch.tensor([[10.0]])"
      ],
      "id": "08c1ddb9-afab-455b-a451-4d0bc7f6e9a5"
    },
    {
      "cell_type": "code",
      "execution_count": 86,
      "metadata": {},
      "outputs": [
        {
          "output_type": "stream",
          "name": "stderr",
          "text": [
            "LOCAL_RANK: 0 - CUDA_VISIBLE_DEVICES: [0]\n",
            "\n",
            "  | Name    | Type    | Params\n",
            "------------------------------------\n",
            "0 | linr    | Linear  | 2     \n",
            "1 | loss_fn | MSELoss | 0     \n",
            "------------------------------------\n",
            "2         Trainable params\n",
            "0         Non-trainable params\n",
            "2         Total params\n",
            "0.000     Total estimated model params size (MB)\n",
            "`Trainer.fit` stopped: `max_epochs=1` reached."
          ]
        }
      ],
      "source": [
        "trnr.fit(net, train_dataloaders=dl) "
      ],
      "id": "db65d5a6-4fc5-4bf6-a4b4-9844b73153a9"
    },
    {
      "cell_type": "code",
      "execution_count": 87,
      "metadata": {},
      "outputs": [],
      "source": [
        "net.linr.weight, net.linr.bias"
      ],
      "id": "704eaa68-876f-42a0-a11b-64a3818009f2"
    },
    {
      "cell_type": "code",
      "execution_count": 88,
      "metadata": {},
      "outputs": [
        {
          "output_type": "display_data",
          "metadata": {},
          "data": {
            "image/png": "[encoded data removed]"
          }
        }
      ],
      "source": [
        "plt.plot(x,y,'o')\n",
        "plt.plot(x,net(x).data,'--')"
      ],
      "id": "115b53ca-f28d-4792-9867-02b4fad6e021"
    }
  ],
  "nbformat": 4,
  "nbformat_minor": 5,
  "metadata": {
    "kernelspec": {
      "name": "python3",
      "display_name": "Python 3",
      "language": "python"
    },
    "language_info": {
      "name": "python",
      "codemirror_mode": {
        "name": "ipython",
        "version": "3"
      },
      "file_extension": ".py",
      "mimetype": "text/x-python",
      "nbconvert_exporter": "python",
      "pygments_lexer": "ipython3",
      "version": "3.8.16"
    }
  }
}