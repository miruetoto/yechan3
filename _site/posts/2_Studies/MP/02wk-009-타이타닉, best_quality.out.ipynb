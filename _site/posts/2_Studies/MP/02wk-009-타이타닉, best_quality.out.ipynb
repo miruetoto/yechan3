{
  "cells": [
    {
      "cell_type": "markdown",
      "metadata": {},
      "source": [
        "# 02wk-009: 타이타닉, best_quality\n",
        "\n",
        "최규빈  \n",
        "2023-09-12"
      ],
      "id": "5a92c455-a6f1-4f8e-9367-60846c0cfebe"
    },
    {
      "cell_type": "code",
      "execution_count": 1,
      "metadata": {},
      "outputs": [],
      "source": [
        "from autogluon.tabular import TabularDataset, TabularPredictor"
      ],
      "id": "18c454a7-b4f3-451b-82b7-061102f0825e"
    },
    {
      "cell_type": "code",
      "execution_count": 3,
      "metadata": {},
      "outputs": [],
      "source": [
        "tr = TabularDataset(\"./titanic/train.csv\")\n",
        "tst = TabularDataset(\"./titanic/test.csv\")"
      ],
      "id": "b1b7f6fa-0b79-4483-90ab-f1d397931079"
    },
    {
      "cell_type": "code",
      "execution_count": 35,
      "metadata": {},
      "outputs": [
        {
          "output_type": "stream",
          "name": "stderr",
          "text": [
            "No path specified. Models will be saved in: \"AutogluonModels/ag-20230910_033356/\""
          ]
        }
      ],
      "source": [
        "predictr = TabularPredictor(\"Survived\")"
      ],
      "id": "e8a5f51d-726c-4059-97e2-c9e81b05d08e"
    },
    {
      "cell_type": "code",
      "execution_count": 36,
      "metadata": {
        "scrolled": true
      },
      "outputs": [
        {
          "output_type": "stream",
          "name": "stderr",
          "text": [
            "Presets specified: ['best_quality']\n",
            "Stack configuration (auto_stack=True): num_stack_levels=0, num_bag_folds=8, num_bag_sets=1\n",
            "Beginning AutoGluon training ...\n",
            "AutoGluon will save models to \"AutogluonModels/ag-20230910_033356/\"\n",
            "AutoGluon Version:  0.8.2\n",
            "Python Version:     3.10.12\n",
            "Operating System:   Linux\n",
            "Platform Machine:   x86_64\n",
            "Platform Version:   #26~22.04.1-Ubuntu SMP PREEMPT_DYNAMIC Thu Jul 13 16:27:29 UTC 2\n",
            "Disk Space Avail:   306.52 GB / 490.57 GB (62.5%)\n",
            "Train Data Rows:    891\n",
            "Train Data Columns: 11\n",
            "Label Column: Survived\n",
            "Preprocessing data ...\n",
            "AutoGluon infers your prediction problem is: 'binary' (because only two unique label-values observed).\n",
            "    2 unique label values:  [0, 1]\n",
            "    If 'binary' is not the correct problem_type, please manually specify the problem_type parameter during predictor init (You may specify problem_type as one of: ['binary', 'multiclass', 'regression'])\n",
            "Selected class <--> label mapping:  class 1 = 1, class 0 = 0\n",
            "Using Feature Generators to preprocess the data ...\n",
            "Fitting AutoMLPipelineFeatureGenerator...\n",
            "    Available Memory:                    122497.58 MB\n",
            "    Train Data (Original)  Memory Usage: 0.31 MB (0.0% of available memory)\n",
            "    Inferring data type of each feature based on column values. Set feature_metadata_in to manually specify special dtypes of the features.\n",
            "/home/cgb2/anaconda3/envs/mp/lib/python3.10/site-packages/autogluon/common/features/infer_types.py:118: UserWarning: Could not infer format, so each element will be parsed individually, falling back to `dateutil`. To ensure parsing is consistent and as-expected, please specify a format.\n",
            "  result = pd.to_datetime(X, errors=\"coerce\")\n",
            "/home/cgb2/anaconda3/envs/mp/lib/python3.10/site-packages/autogluon/common/features/infer_types.py:118: UserWarning: Could not infer format, so each element will be parsed individually, falling back to `dateutil`. To ensure parsing is consistent and as-expected, please specify a format.\n",
            "  result = pd.to_datetime(X, errors=\"coerce\")\n",
            "/home/cgb2/anaconda3/envs/mp/lib/python3.10/site-packages/autogluon/common/features/infer_types.py:118: UserWarning: Could not infer format, so each element will be parsed individually, falling back to `dateutil`. To ensure parsing is consistent and as-expected, please specify a format.\n",
            "  result = pd.to_datetime(X, errors=\"coerce\")\n",
            "/home/cgb2/anaconda3/envs/mp/lib/python3.10/site-packages/autogluon/common/features/infer_types.py:118: UserWarning: Could not infer format, so each element will be parsed individually, falling back to `dateutil`. To ensure parsing is consistent and as-expected, please specify a format.\n",
            "  result = pd.to_datetime(X, errors=\"coerce\")\n",
            "/home/cgb2/anaconda3/envs/mp/lib/python3.10/site-packages/autogluon/common/features/infer_types.py:118: UserWarning: Could not infer format, so each element will be parsed individually, falling back to `dateutil`. To ensure parsing is consistent and as-expected, please specify a format.\n",
            "  result = pd.to_datetime(X, errors=\"coerce\")\n",
            "    Stage 1 Generators:\n",
            "        Fitting AsTypeFeatureGenerator...\n",
            "            Note: Converting 1 features to boolean dtype as they only contain 2 unique values.\n",
            "    Stage 2 Generators:\n",
            "        Fitting FillNaFeatureGenerator...\n",
            "    Stage 3 Generators:\n",
            "        Fitting IdentityFeatureGenerator...\n",
            "        Fitting CategoryFeatureGenerator...\n",
            "            Fitting CategoryMemoryMinimizeFeatureGenerator...\n",
            "        Fitting TextSpecialFeatureGenerator...\n",
            "            Fitting BinnedFeatureGenerator...\n",
            "            Fitting DropDuplicatesFeatureGenerator...\n",
            "        Fitting TextNgramFeatureGenerator...\n",
            "            Fitting CountVectorizer for text features: ['Name']\n",
            "            CountVectorizer fit with vocabulary size = 8\n",
            "    Stage 4 Generators:\n",
            "        Fitting DropUniqueFeatureGenerator...\n",
            "    Stage 5 Generators:\n",
            "        Fitting DropDuplicatesFeatureGenerator...\n",
            "    Types of features in original data (raw dtype, special dtypes):\n",
            "        ('float', [])        : 2 | ['Age', 'Fare']\n",
            "        ('int', [])          : 4 | ['PassengerId', 'Pclass', 'SibSp', 'Parch']\n",
            "        ('object', [])       : 4 | ['Sex', 'Ticket', 'Cabin', 'Embarked']\n",
            "        ('object', ['text']) : 1 | ['Name']\n",
            "    Types of features in processed data (raw dtype, special dtypes):\n",
            "        ('category', [])                    : 3 | ['Ticket', 'Cabin', 'Embarked']\n",
            "        ('float', [])                       : 2 | ['Age', 'Fare']\n",
            "        ('int', [])                         : 4 | ['PassengerId', 'Pclass', 'SibSp', 'Parch']\n",
            "        ('int', ['binned', 'text_special']) : 9 | ['Name.char_count', 'Name.word_count', 'Name.capital_ratio', 'Name.lower_ratio', 'Name.special_ratio', ...]\n",
            "        ('int', ['bool'])                   : 1 | ['Sex']\n",
            "        ('int', ['text_ngram'])             : 9 | ['__nlp__.henry', '__nlp__.john', '__nlp__.master', '__nlp__.miss', '__nlp__.mr', ...]\n",
            "    0.1s = Fit runtime\n",
            "    11 features in original data used to generate 28 features in processed data.\n",
            "    Train Data (Processed) Memory Usage: 0.07 MB (0.0% of available memory)\n",
            "Data preprocessing and feature engineering runtime = 0.16s ...\n",
            "AutoGluon will gauge predictive performance using evaluation metric: 'accuracy'\n",
            "    To change this, specify the eval_metric parameter of Predictor()\n",
            "User-specified model hyperparameters to be fit:\n",
            "{\n",
            "    'NN_TORCH': {},\n",
            "    'GBM': [{'extra_trees': True, 'ag_args': {'name_suffix': 'XT'}}, {}, 'GBMLarge'],\n",
            "    'CAT': {},\n",
            "    'XGB': {},\n",
            "    'FASTAI': {},\n",
            "    'RF': [{'criterion': 'gini', 'ag_args': {'name_suffix': 'Gini', 'problem_types': ['binary', 'multiclass']}}, {'criterion': 'entropy', 'ag_args': {'name_suffix': 'Entr', 'problem_types': ['binary', 'multiclass']}}, {'criterion': 'squared_error', 'ag_args': {'name_suffix': 'MSE', 'problem_types': ['regression', 'quantile']}}],\n",
            "    'XT': [{'criterion': 'gini', 'ag_args': {'name_suffix': 'Gini', 'problem_types': ['binary', 'multiclass']}}, {'criterion': 'entropy', 'ag_args': {'name_suffix': 'Entr', 'problem_types': ['binary', 'multiclass']}}, {'criterion': 'squared_error', 'ag_args': {'name_suffix': 'MSE', 'problem_types': ['regression', 'quantile']}}],\n",
            "    'KNN': [{'weights': 'uniform', 'ag_args': {'name_suffix': 'Unif'}}, {'weights': 'distance', 'ag_args': {'name_suffix': 'Dist'}}],\n",
            "}\n",
            "Fitting 13 L1 models ...\n",
            "Fitting model: KNeighborsUnif_BAG_L1 ...\n",
            "    0.6319   = Validation score   (accuracy)\n",
            "    0.0s     = Training   runtime\n",
            "    0.0s     = Validation runtime\n",
            "Fitting model: KNeighborsDist_BAG_L1 ...\n",
            "    0.6364   = Validation score   (accuracy)\n",
            "    0.0s     = Training   runtime\n",
            "    0.0s     = Validation runtime\n",
            "Fitting model: LightGBMXT_BAG_L1 ...\n",
            "    Fitting 8 child models (S1F1 - S1F8) | Fitting with ParallelLocalFoldFittingStrategy\n",
            "    0.835    = Validation score   (accuracy)\n",
            "    0.41s    = Training   runtime\n",
            "    0.03s    = Validation runtime\n",
            "Fitting model: LightGBM_BAG_L1 ...\n",
            "    Fitting 8 child models (S1F1 - S1F8) | Fitting with ParallelLocalFoldFittingStrategy\n",
            "    0.8406   = Validation score   (accuracy)\n",
            "    0.52s    = Training   runtime\n",
            "    0.03s    = Validation runtime\n",
            "Fitting model: RandomForestGini_BAG_L1 ...\n",
            "    0.8373   = Validation score   (accuracy)\n",
            "    0.58s    = Training   runtime\n",
            "    0.07s    = Validation runtime\n",
            "Fitting model: RandomForestEntr_BAG_L1 ...\n",
            "    0.8361   = Validation score   (accuracy)\n",
            "    0.36s    = Training   runtime\n",
            "    0.11s    = Validation runtime\n",
            "Fitting model: CatBoost_BAG_L1 ...\n",
            "    Fitting 8 child models (S1F1 - S1F8) | Fitting with ParallelLocalFoldFittingStrategy\n",
            "    0.8608   = Validation score   (accuracy)\n",
            "    1.89s    = Training   runtime\n",
            "    0.03s    = Validation runtime\n",
            "Fitting model: ExtraTreesGini_BAG_L1 ...\n",
            "    0.8294   = Validation score   (accuracy)\n",
            "    0.42s    = Training   runtime\n",
            "    0.07s    = Validation runtime\n",
            "Fitting model: ExtraTreesEntr_BAG_L1 ...\n",
            "    0.8328   = Validation score   (accuracy)\n",
            "    0.32s    = Training   runtime\n",
            "    0.07s    = Validation runtime\n",
            "Fitting model: NeuralNetFastAI_BAG_L1 ...\n",
            "    Fitting 8 child models (S1F1 - S1F8) | Fitting with ParallelLocalFoldFittingStrategy\n",
            "    0.8507   = Validation score   (accuracy)\n",
            "    2.73s    = Training   runtime\n",
            "    0.08s    = Validation runtime\n",
            "Fitting model: XGBoost_BAG_L1 ...\n",
            "    Fitting 8 child models (S1F1 - S1F8) | Fitting with ParallelLocalFoldFittingStrategy\n",
            "    0.8406   = Validation score   (accuracy)\n",
            "    0.94s    = Training   runtime\n",
            "    0.04s    = Validation runtime\n",
            "Fitting model: NeuralNetTorch_BAG_L1 ...\n",
            "    Fitting 8 child models (S1F1 - S1F8) | Fitting with ParallelLocalFoldFittingStrategy\n",
            "    0.8406   = Validation score   (accuracy)\n",
            "    4.36s    = Training   runtime\n",
            "    0.09s    = Validation runtime\n",
            "Fitting model: LightGBMLarge_BAG_L1 ...\n",
            "    Fitting 8 child models (S1F1 - S1F8) | Fitting with ParallelLocalFoldFittingStrategy\n",
            "    0.8406   = Validation score   (accuracy)\n",
            "    1.42s    = Training   runtime\n",
            "    0.03s    = Validation runtime\n",
            "Fitting model: WeightedEnsemble_L2 ...\n",
            "    0.8608   = Validation score   (accuracy)\n",
            "    0.41s    = Training   runtime\n",
            "    0.0s     = Validation runtime\n",
            "AutoGluon training complete, total runtime = 22.95s ... Best model: \"WeightedEnsemble_L2\"\n",
            "TabularPredictor saved. To load, use: predictor = TabularPredictor.load(\"AutogluonModels/ag-20230910_033356/\")"
          ]
        }
      ],
      "source": [
        "predictr.fit(tr,presets='best_quality')"
      ],
      "id": "41979ff5-73f7-458a-9fc7-de56d1690a54"
    },
    {
      "cell_type": "code",
      "execution_count": 41,
      "metadata": {},
      "outputs": [
        {
          "output_type": "stream",
          "name": "stdout",
          "text": [
            "                      model  score_val  pred_time_val  fit_time  pred_time_val_marginal  fit_time_marginal  stack_level  can_infer  fit_order\n",
            "0           CatBoost_BAG_L1   0.860831       0.025074  1.894616                0.025074           1.894616            1       True          7\n",
            "1       WeightedEnsemble_L2   0.860831       0.026225  2.306724                0.001151           0.412107            2       True         14\n",
            "2    NeuralNetFastAI_BAG_L1   0.850730       0.078130  2.732091                0.078130           2.732091            1       True         10\n",
            "3      LightGBMLarge_BAG_L1   0.840629       0.029351  1.422157                0.029351           1.422157            1       True         13\n",
            "4           LightGBM_BAG_L1   0.840629       0.033552  0.523090                0.033552           0.523090            1       True          4\n",
            "5            XGBoost_BAG_L1   0.840629       0.044913  0.940203                0.044913           0.940203            1       True         11\n",
            "6     NeuralNetTorch_BAG_L1   0.840629       0.085953  4.356180                0.085953           4.356180            1       True         12\n",
            "7   RandomForestGini_BAG_L1   0.837262       0.070430  0.580106                0.070430           0.580106            1       True          5\n",
            "8   RandomForestEntr_BAG_L1   0.836139       0.108941  0.360885                0.108941           0.360885            1       True          6\n",
            "9         LightGBMXT_BAG_L1   0.835017       0.028826  0.408408                0.028826           0.408408            1       True          3\n",
            "10    ExtraTreesEntr_BAG_L1   0.832772       0.070786  0.320610                0.070786           0.320610            1       True          9\n",
            "11    ExtraTreesGini_BAG_L1   0.829405       0.070738  0.418201                0.070738           0.418201            1       True          8\n",
            "12    KNeighborsDist_BAG_L1   0.636364       0.001816  0.003192                0.001816           0.003192            1       True          2\n",
            "13    KNeighborsUnif_BAG_L1   0.631874       0.001942  0.003109                0.001942           0.003109            1       True          1"
          ]
        }
      ],
      "source": [
        "predictr.leaderboard()"
      ],
      "id": "bfacfa9a-7bad-47f9-8cde-29bac3c07f79"
    },
    {
      "cell_type": "code",
      "execution_count": 42,
      "metadata": {},
      "outputs": [],
      "source": [
        "(tr.Survived == (tr.Sex == \"female\")).mean()"
      ],
      "id": "f9dbe5ac-da2e-436f-ab5f-7fca1d3547e1"
    },
    {
      "cell_type": "code",
      "execution_count": 43,
      "metadata": {},
      "outputs": [],
      "source": [
        "(tr.Survived == predictr.predict(tr)).mean()"
      ],
      "id": "36e5d9fc-069b-46c8-8c2f-b75c06e9c19a"
    },
    {
      "cell_type": "code",
      "execution_count": 44,
      "metadata": {},
      "outputs": [],
      "source": [
        "#!conda install -c conda-forge pygraphviz -y"
      ],
      "id": "54d7ccd8-cf1a-4edc-8678-d8f6b7a6d5b8"
    },
    {
      "cell_type": "code",
      "execution_count": 45,
      "metadata": {},
      "outputs": [],
      "source": [
        "predictr.plot_ensemble_model()"
      ],
      "id": "59935fbc-1888-4241-a60e-1677acec05c9"
    },
    {
      "cell_type": "code",
      "execution_count": 48,
      "metadata": {},
      "outputs": [],
      "source": [
        "#tst.assign(Survived=predictr.predict(tst)).loc[:,['PassengerId','Survived']].to_csv(\"submission_01_invalidformat.csv\")\n",
        "tst.assign(Survived=predictr.predict(tst)).loc[:,['PassengerId','Survived']].to_csv(\"submission_01.csv\",index=False)"
      ],
      "id": "a059e8ec-d555-4e8d-aa09-32fd909d497a"
    },
    {
      "cell_type": "code",
      "execution_count": 47,
      "metadata": {},
      "outputs": [
        {
          "output_type": "stream",
          "name": "stdout",
          "text": [
            "                      model  score_val  pred_time_val  fit_time  pred_time_val_marginal  fit_time_marginal  stack_level  can_infer  fit_order\n",
            "0           CatBoost_BAG_L1   0.860831       0.025074  1.894616                0.025074           1.894616            1       True          7\n",
            "1       WeightedEnsemble_L2   0.860831       0.026225  2.306724                0.001151           0.412107            2       True         14\n",
            "2    NeuralNetFastAI_BAG_L1   0.850730       0.078130  2.732091                0.078130           2.732091            1       True         10\n",
            "3      LightGBMLarge_BAG_L1   0.840629       0.029351  1.422157                0.029351           1.422157            1       True         13\n",
            "4           LightGBM_BAG_L1   0.840629       0.033552  0.523090                0.033552           0.523090            1       True          4\n",
            "5            XGBoost_BAG_L1   0.840629       0.044913  0.940203                0.044913           0.940203            1       True         11\n",
            "6     NeuralNetTorch_BAG_L1   0.840629       0.085953  4.356180                0.085953           4.356180            1       True         12\n",
            "7   RandomForestGini_BAG_L1   0.837262       0.070430  0.580106                0.070430           0.580106            1       True          5\n",
            "8   RandomForestEntr_BAG_L1   0.836139       0.108941  0.360885                0.108941           0.360885            1       True          6\n",
            "9         LightGBMXT_BAG_L1   0.835017       0.028826  0.408408                0.028826           0.408408            1       True          3\n",
            "10    ExtraTreesEntr_BAG_L1   0.832772       0.070786  0.320610                0.070786           0.320610            1       True          9\n",
            "11    ExtraTreesGini_BAG_L1   0.829405       0.070738  0.418201                0.070738           0.418201            1       True          8\n",
            "12    KNeighborsDist_BAG_L1   0.636364       0.001816  0.003192                0.001816           0.003192            1       True          2\n",
            "13    KNeighborsUnif_BAG_L1   0.631874       0.001942  0.003109                0.001942           0.003109            1       True          1"
          ]
        }
      ],
      "source": [
        "predictr.leaderboard()"
      ],
      "id": "bad126de-9c17-4ee2-afcb-ddbb34a3c45a"
    }
  ],
  "nbformat": 4,
  "nbformat_minor": 5,
  "metadata": {
    "kernelspec": {
      "name": "python3",
      "display_name": "Python 3 (ipykernel)",
      "language": "python"
    },
    "language_info": {
      "name": "python",
      "codemirror_mode": {
        "name": "ipython",
        "version": "3"
      },
      "file_extension": ".py",
      "mimetype": "text/x-python",
      "nbconvert_exporter": "python",
      "pygments_lexer": "ipython3",
      "version": "3.11.4"
    }
  }
}