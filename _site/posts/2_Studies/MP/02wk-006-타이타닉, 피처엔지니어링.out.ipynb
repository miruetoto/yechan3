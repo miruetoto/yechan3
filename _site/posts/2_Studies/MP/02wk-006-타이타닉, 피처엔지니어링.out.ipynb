{
  "cells": [
    {
      "cell_type": "markdown",
      "metadata": {},
      "source": [
        "# 02wk-006: 타이타닉, 피처엔지니어링\n",
        "\n",
        "최규빈  \n",
        "2023-09-12\n",
        "\n",
        "# 1. Import"
      ],
      "id": "838e7e03-04e8-480a-9d0e-36a8190e899f"
    },
    {
      "cell_type": "code",
      "execution_count": 3,
      "metadata": {},
      "outputs": [],
      "source": [
        "from autogluon.tabular import TabularDataset, TabularPredictor"
      ],
      "id": "18c454a7-b4f3-451b-82b7-061102f0825e"
    },
    {
      "cell_type": "markdown",
      "metadata": {},
      "source": [
        "# 2. 분석의 절차\n",
        "\n",
        "## A. 데이터\n",
        "\n",
        "`-` 불러오기"
      ],
      "id": "025bc0f7-b61d-47a0-8ec4-ed6009647c0a"
    },
    {
      "cell_type": "code",
      "execution_count": 4,
      "metadata": {},
      "outputs": [],
      "source": [
        "tr = TabularDataset(\"./titanic/train.csv\")\n",
        "tst = TabularDataset(\"./titanic/test.csv\")"
      ],
      "id": "b1b7f6fa-0b79-4483-90ab-f1d397931079"
    },
    {
      "cell_type": "markdown",
      "metadata": {},
      "source": [
        "`-` 피처엔지니어링"
      ],
      "id": "49135061-efce-4f7e-912a-ca9b05acc8e7"
    },
    {
      "cell_type": "code",
      "execution_count": 21,
      "metadata": {},
      "outputs": [],
      "source": [
        "tr.eval('Fsize = SibSp + Parch')\n",
        "tst.eval('Fsize = SibSp + Parch')"
      ],
      "id": "13fb6de0-a801-4b0c-a8da-04d4ea5e0537"
    },
    {
      "cell_type": "markdown",
      "metadata": {},
      "source": [
        "## B. Predictor 생성"
      ],
      "id": "92758404-7944-4682-97a3-2c530e31f9c8"
    },
    {
      "cell_type": "code",
      "execution_count": 24,
      "metadata": {},
      "outputs": [
        {
          "output_type": "stream",
          "name": "stderr",
          "text": [
            "No path specified. Models will be saved in: \"AutogluonModels/ag-20230910_162557/\""
          ]
        }
      ],
      "source": [
        "predictr = TabularPredictor(\"Survived\")"
      ],
      "id": "e8a5f51d-726c-4059-97e2-c9e81b05d08e"
    },
    {
      "cell_type": "markdown",
      "metadata": {},
      "source": [
        "## C. 적합(fit)\n",
        "\n",
        "`-` 학습"
      ],
      "id": "bfc9949e-4369-4820-8ef5-5aec82f48376"
    },
    {
      "cell_type": "code",
      "execution_count": 25,
      "metadata": {},
      "outputs": [
        {
          "output_type": "stream",
          "name": "stderr",
          "text": [
            "Beginning AutoGluon training ...\n",
            "AutoGluon will save models to \"AutogluonModels/ag-20230910_162557/\"\n",
            "AutoGluon Version:  0.8.2\n",
            "Python Version:     3.10.12\n",
            "Operating System:   Linux\n",
            "Platform Machine:   x86_64\n",
            "Platform Version:   #26~22.04.1-Ubuntu SMP PREEMPT_DYNAMIC Thu Jul 13 16:27:29 UTC 2\n",
            "Disk Space Avail:   306.30 GB / 490.57 GB (62.4%)\n",
            "Train Data Rows:    891\n",
            "Train Data Columns: 12\n",
            "Label Column: Survived\n",
            "Preprocessing data ...\n",
            "AutoGluon infers your prediction problem is: 'binary' (because only two unique label-values observed).\n",
            "    2 unique label values:  [0, 1]\n",
            "    If 'binary' is not the correct problem_type, please manually specify the problem_type parameter during predictor init (You may specify problem_type as one of: ['binary', 'multiclass', 'regression'])\n",
            "Selected class <--> label mapping:  class 1 = 1, class 0 = 0\n",
            "Using Feature Generators to preprocess the data ...\n",
            "Fitting AutoMLPipelineFeatureGenerator...\n",
            "    Available Memory:                    126454.6 MB\n",
            "    Train Data (Original)  Memory Usage: 0.32 MB (0.0% of available memory)\n",
            "    Inferring data type of each feature based on column values. Set feature_metadata_in to manually specify special dtypes of the features.\n",
            "/home/cgb2/anaconda3/envs/mp/lib/python3.10/site-packages/autogluon/common/features/infer_types.py:118: UserWarning: Could not infer format, so each element will be parsed individually, falling back to `dateutil`. To ensure parsing is consistent and as-expected, please specify a format.\n",
            "  result = pd.to_datetime(X, errors=\"coerce\")\n",
            "/home/cgb2/anaconda3/envs/mp/lib/python3.10/site-packages/autogluon/common/features/infer_types.py:118: UserWarning: Could not infer format, so each element will be parsed individually, falling back to `dateutil`. To ensure parsing is consistent and as-expected, please specify a format.\n",
            "  result = pd.to_datetime(X, errors=\"coerce\")\n",
            "/home/cgb2/anaconda3/envs/mp/lib/python3.10/site-packages/autogluon/common/features/infer_types.py:118: UserWarning: Could not infer format, so each element will be parsed individually, falling back to `dateutil`. To ensure parsing is consistent and as-expected, please specify a format.\n",
            "  result = pd.to_datetime(X, errors=\"coerce\")\n",
            "/home/cgb2/anaconda3/envs/mp/lib/python3.10/site-packages/autogluon/common/features/infer_types.py:118: UserWarning: Could not infer format, so each element will be parsed individually, falling back to `dateutil`. To ensure parsing is consistent and as-expected, please specify a format.\n",
            "  result = pd.to_datetime(X, errors=\"coerce\")\n",
            "/home/cgb2/anaconda3/envs/mp/lib/python3.10/site-packages/autogluon/common/features/infer_types.py:118: UserWarning: Could not infer format, so each element will be parsed individually, falling back to `dateutil`. To ensure parsing is consistent and as-expected, please specify a format.\n",
            "  result = pd.to_datetime(X, errors=\"coerce\")\n",
            "    Stage 1 Generators:\n",
            "        Fitting AsTypeFeatureGenerator...\n",
            "            Note: Converting 1 features to boolean dtype as they only contain 2 unique values.\n",
            "    Stage 2 Generators:\n",
            "        Fitting FillNaFeatureGenerator...\n",
            "    Stage 3 Generators:\n",
            "        Fitting IdentityFeatureGenerator...\n",
            "        Fitting CategoryFeatureGenerator...\n",
            "            Fitting CategoryMemoryMinimizeFeatureGenerator...\n",
            "        Fitting TextSpecialFeatureGenerator...\n",
            "            Fitting BinnedFeatureGenerator...\n",
            "            Fitting DropDuplicatesFeatureGenerator...\n",
            "        Fitting TextNgramFeatureGenerator...\n",
            "            Fitting CountVectorizer for text features: ['Name']\n",
            "            CountVectorizer fit with vocabulary size = 8\n",
            "    Stage 4 Generators:\n",
            "        Fitting DropUniqueFeatureGenerator...\n",
            "    Stage 5 Generators:\n",
            "        Fitting DropDuplicatesFeatureGenerator...\n",
            "    Types of features in original data (raw dtype, special dtypes):\n",
            "        ('float', [])        : 2 | ['Age', 'Fare']\n",
            "        ('int', [])          : 5 | ['PassengerId', 'Pclass', 'SibSp', 'Parch', 'Fsize']\n",
            "        ('object', [])       : 4 | ['Sex', 'Ticket', 'Cabin', 'Embarked']\n",
            "        ('object', ['text']) : 1 | ['Name']\n",
            "    Types of features in processed data (raw dtype, special dtypes):\n",
            "        ('category', [])                    : 3 | ['Ticket', 'Cabin', 'Embarked']\n",
            "        ('float', [])                       : 2 | ['Age', 'Fare']\n",
            "        ('int', [])                         : 5 | ['PassengerId', 'Pclass', 'SibSp', 'Parch', 'Fsize']\n",
            "        ('int', ['binned', 'text_special']) : 9 | ['Name.char_count', 'Name.word_count', 'Name.capital_ratio', 'Name.lower_ratio', 'Name.special_ratio', ...]\n",
            "        ('int', ['bool'])                   : 1 | ['Sex']\n",
            "        ('int', ['text_ngram'])             : 9 | ['__nlp__.henry', '__nlp__.john', '__nlp__.master', '__nlp__.miss', '__nlp__.mr', ...]\n",
            "    0.2s = Fit runtime\n",
            "    12 features in original data used to generate 29 features in processed data.\n",
            "    Train Data (Processed) Memory Usage: 0.08 MB (0.0% of available memory)\n",
            "Data preprocessing and feature engineering runtime = 0.17s ...\n",
            "AutoGluon will gauge predictive performance using evaluation metric: 'accuracy'\n",
            "    To change this, specify the eval_metric parameter of Predictor()\n",
            "Automatically generating train/validation split with holdout_frac=0.2, Train Rows: 712, Val Rows: 179\n",
            "User-specified model hyperparameters to be fit:\n",
            "{\n",
            "    'NN_TORCH': {},\n",
            "    'GBM': [{'extra_trees': True, 'ag_args': {'name_suffix': 'XT'}}, {}, 'GBMLarge'],\n",
            "    'CAT': {},\n",
            "    'XGB': {},\n",
            "    'FASTAI': {},\n",
            "    'RF': [{'criterion': 'gini', 'ag_args': {'name_suffix': 'Gini', 'problem_types': ['binary', 'multiclass']}}, {'criterion': 'entropy', 'ag_args': {'name_suffix': 'Entr', 'problem_types': ['binary', 'multiclass']}}, {'criterion': 'squared_error', 'ag_args': {'name_suffix': 'MSE', 'problem_types': ['regression', 'quantile']}}],\n",
            "    'XT': [{'criterion': 'gini', 'ag_args': {'name_suffix': 'Gini', 'problem_types': ['binary', 'multiclass']}}, {'criterion': 'entropy', 'ag_args': {'name_suffix': 'Entr', 'problem_types': ['binary', 'multiclass']}}, {'criterion': 'squared_error', 'ag_args': {'name_suffix': 'MSE', 'problem_types': ['regression', 'quantile']}}],\n",
            "    'KNN': [{'weights': 'uniform', 'ag_args': {'name_suffix': 'Unif'}}, {'weights': 'distance', 'ag_args': {'name_suffix': 'Dist'}}],\n",
            "}\n",
            "Fitting 13 L1 models ...\n",
            "Fitting model: KNeighborsUnif ...\n",
            "    0.648    = Validation score   (accuracy)\n",
            "    0.01s    = Training   runtime\n",
            "    0.0s     = Validation runtime\n",
            "Fitting model: KNeighborsDist ...\n",
            "    0.648    = Validation score   (accuracy)\n",
            "    0.01s    = Training   runtime\n",
            "    0.0s     = Validation runtime\n",
            "Fitting model: LightGBMXT ...\n",
            "    0.8156   = Validation score   (accuracy)\n",
            "    0.29s    = Training   runtime\n",
            "    0.0s     = Validation runtime\n",
            "Fitting model: LightGBM ...\n",
            "    0.8212   = Validation score   (accuracy)\n",
            "    0.28s    = Training   runtime\n",
            "    0.0s     = Validation runtime\n",
            "Fitting model: RandomForestGini ...\n",
            "    0.8156   = Validation score   (accuracy)\n",
            "    0.31s    = Training   runtime\n",
            "    0.12s    = Validation runtime\n",
            "Fitting model: RandomForestEntr ...\n",
            "    0.8212   = Validation score   (accuracy)\n",
            "    0.55s    = Training   runtime\n",
            "    0.11s    = Validation runtime\n",
            "Fitting model: CatBoost ...\n",
            "    0.8268   = Validation score   (accuracy)\n",
            "    0.52s    = Training   runtime\n",
            "    0.0s     = Validation runtime\n",
            "Fitting model: ExtraTreesGini ...\n",
            "    0.8045   = Validation score   (accuracy)\n",
            "    0.48s    = Training   runtime\n",
            "    0.08s    = Validation runtime\n",
            "Fitting model: ExtraTreesEntr ...\n",
            "    0.8101   = Validation score   (accuracy)\n",
            "    0.72s    = Training   runtime\n",
            "    0.18s    = Validation runtime\n",
            "Fitting model: NeuralNetFastAI ...\n",
            "    0.8324   = Validation score   (accuracy)\n",
            "    1.2s     = Training   runtime\n",
            "    0.01s    = Validation runtime\n",
            "Fitting model: XGBoost ...\n",
            "    0.8268   = Validation score   (accuracy)\n",
            "    0.16s    = Training   runtime\n",
            "    0.0s     = Validation runtime\n",
            "Fitting model: NeuralNetTorch ...\n",
            "    0.838    = Validation score   (accuracy)\n",
            "    1.41s    = Training   runtime\n",
            "    0.01s    = Validation runtime\n",
            "Fitting model: LightGBMLarge ...\n",
            "    0.8324   = Validation score   (accuracy)\n",
            "    0.48s    = Training   runtime\n",
            "    0.0s     = Validation runtime\n",
            "Fitting model: WeightedEnsemble_L2 ...\n",
            "    0.8603   = Validation score   (accuracy)\n",
            "    0.22s    = Training   runtime\n",
            "    0.0s     = Validation runtime\n",
            "AutoGluon training complete, total runtime = 7.57s ... Best model: \"WeightedEnsemble_L2\"\n",
            "TabularPredictor saved. To load, use: predictor = TabularPredictor.load(\"AutogluonModels/ag-20230910_162557/\")"
          ]
        }
      ],
      "source": [
        "predictr.fit(tr.eval('Fsize = SibSp + Parch'))"
      ],
      "id": "41979ff5-73f7-458a-9fc7-de56d1690a54"
    },
    {
      "cell_type": "markdown",
      "metadata": {},
      "source": [
        "`-` 리더보드확인 (모의고사 채점)"
      ],
      "id": "92968e88-de00-4e56-a69e-fc5a18c7cedb"
    },
    {
      "cell_type": "code",
      "execution_count": 7,
      "metadata": {},
      "outputs": [
        {
          "output_type": "stream",
          "name": "stdout",
          "text": [
            "                      model  score_val  pred_time_val  fit_time  pred_time_val_marginal  fit_time_marginal  stack_level  can_infer  fit_order\n",
            "0           CatBoost_BAG_L1   0.860831       0.029358  1.749107                0.029358           1.749107            1       True          7\n",
            "1       WeightedEnsemble_L2   0.860831       0.030523  2.127434                0.001165           0.378327            2       True         14\n",
            "2    NeuralNetFastAI_BAG_L1   0.850730       0.080968  2.807139                0.080968           2.807139            1       True         10\n",
            "3      LightGBMLarge_BAG_L1   0.840629       0.029404  1.393675                0.029404           1.393675            1       True         13\n",
            "4           LightGBM_BAG_L1   0.840629       0.029581  0.459240                0.029581           0.459240            1       True          4\n",
            "5            XGBoost_BAG_L1   0.840629       0.060613  1.018996                0.060613           1.018996            1       True         11\n",
            "6     NeuralNetTorch_BAG_L1   0.840629       0.091852  4.290427                0.091852           4.290427            1       True         12\n",
            "7   RandomForestGini_BAG_L1   0.837262       0.074267  0.364517                0.074267           0.364517            1       True          5\n",
            "8   RandomForestEntr_BAG_L1   0.836139       0.081210  0.296924                0.081210           0.296924            1       True          6\n",
            "9         LightGBMXT_BAG_L1   0.835017       0.029181  0.403180                0.029181           0.403180            1       True          3\n",
            "10    ExtraTreesEntr_BAG_L1   0.832772       0.079142  0.342071                0.079142           0.342071            1       True          9\n",
            "11    ExtraTreesGini_BAG_L1   0.829405       0.100002  0.599436                0.100002           0.599436            1       True          8\n",
            "12    KNeighborsDist_BAG_L1   0.636364       0.001733  0.003381                0.001733           0.003381            1       True          2\n",
            "13    KNeighborsUnif_BAG_L1   0.631874       0.004235  0.084162                0.004235           0.084162            1       True          1"
          ]
        }
      ],
      "source": [
        "predictr.leaderboard()"
      ],
      "id": "bfacfa9a-7bad-47f9-8cde-29bac3c07f79"
    },
    {
      "cell_type": "markdown",
      "metadata": {},
      "source": [
        "`-` validation set의 의미:\n",
        "\n",
        "## D. 예측 (predict)\n",
        "\n",
        "`-` 비유: 학습이후에 문제를 푸는 과정으로 비유할 수 있다.\n",
        "\n",
        "`-` training set 을 풀어봄 (predict) $\\to$ 점수 확인"
      ],
      "id": "b9146b6f-20e6-4ae2-adc7-6b6da291ff3f"
    },
    {
      "cell_type": "code",
      "execution_count": 9,
      "metadata": {},
      "outputs": [],
      "source": [
        "(tr.Survived == predictr.predict(tr)).mean()"
      ],
      "id": "36e5d9fc-069b-46c8-8c2f-b75c06e9c19a"
    },
    {
      "cell_type": "code",
      "execution_count": 14,
      "metadata": {},
      "outputs": [],
      "source": [
        "(tr.Survived == (tr.Sex == \"female\")).mean() # 예전점수와 비교"
      ],
      "id": "f9dbe5ac-da2e-436f-ab5f-7fca1d3547e1"
    },
    {
      "cell_type": "markdown",
      "metadata": {},
      "source": [
        "`-` test set 을 풀어봄 (predict) $\\to$ 점수 확인 하러 캐글에 결과제출"
      ],
      "id": "139c3a9d-16aa-4687-8754-71755fb176e9"
    },
    {
      "cell_type": "code",
      "execution_count": 12,
      "metadata": {},
      "outputs": [],
      "source": [
        "#tst.assign(Survived=predictr.predict(tst)).loc[:,['PassengerId','Survived']].to_csv(\"submission_01_invalidformat.csv\")\n",
        "tst.assign(Survived=predictr.predict(tst)).loc[:,['PassengerId','Survived']].to_csv(\"submission_01.csv\",index=False)"
      ],
      "id": "a059e8ec-d555-4e8d-aa09-32fd909d497a"
    }
  ],
  "nbformat": 4,
  "nbformat_minor": 5,
  "metadata": {
    "kernelspec": {
      "name": "python3",
      "display_name": "Python 3 (ipykernel)",
      "language": "python"
    },
    "language_info": {
      "name": "python",
      "codemirror_mode": {
        "name": "ipython",
        "version": "3"
      },
      "file_extension": ".py",
      "mimetype": "text/x-python",
      "nbconvert_exporter": "python",
      "pygments_lexer": "ipython3",
      "version": "3.11.4"
    }
  }
}