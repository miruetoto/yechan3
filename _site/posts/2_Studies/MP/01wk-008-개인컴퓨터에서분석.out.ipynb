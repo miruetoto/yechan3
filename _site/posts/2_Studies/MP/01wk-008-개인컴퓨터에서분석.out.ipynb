{
  "cells": [
    {
      "cell_type": "markdown",
      "metadata": {},
      "source": [
        "# 01wk-008: 개인컴퓨터에서 분석\n",
        "\n",
        "최규빈  \n",
        "2023-09-05"
      ],
      "id": "6ce1ed95-03f6-4325-999e-6557dfe16a68"
    }
  ],
  "nbformat": 4,
  "nbformat_minor": 5,
  "metadata": {
    "kernelspec": {
      "name": "python3",
      "display_name": "Python 3 (ipykernel)",
      "language": "python"
    },
    "language_info": {
      "name": "python",
      "codemirror_mode": {
        "name": "ipython",
        "version": "3"
      },
      "file_extension": ".py",
      "mimetype": "text/x-python",
      "nbconvert_exporter": "python",
      "pygments_lexer": "ipython3",
      "version": "3.10.12"
    }
  }
}