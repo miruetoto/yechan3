{
  "cells": [
    {
      "cell_type": "markdown",
      "metadata": {},
      "source": [
        "# 02wk-003: 타이타닉, 첫 제출\n",
        "\n",
        "최규빈  \n",
        "2023-09-12\n",
        "\n",
        "# 1. 제출방법\n",
        "\n",
        "# 2. 결과확인\n",
        "\n",
        "## A. test – 답을 모름, 제출해야 알 수 있음\n",
        "\n",
        "`-` 제출결과는 리더보드에서 확인할 수 있음.\n",
        "\n",
        "## B. train – 스스로 풀어보고 채점할 수 있음\n",
        "\n",
        "`#` 예비학습 – accuracy의 계산"
      ],
      "id": "3f05c5c9-41e3-4844-80ba-015c75785621"
    },
    {
      "cell_type": "code",
      "execution_count": 1,
      "metadata": {},
      "outputs": [],
      "source": [
        "import pandas as pd "
      ],
      "id": "838b552c-5ec7-4cd3-8702-51b9625ed536"
    },
    {
      "cell_type": "code",
      "execution_count": 19,
      "metadata": {},
      "outputs": [],
      "source": [
        "df = pd.DataFrame({'Surv':[1,0,1,1,0],'Sex':['f','m','f','m','m']})"
      ],
      "id": "4d2cee85-51bc-446a-8a03-644913818b62"
    },
    {
      "cell_type": "markdown",
      "metadata": {},
      "source": [
        "`-` Surv 열의 선택"
      ],
      "id": "d8352129-6a78-43d1-ba85-7d028bc8f74f"
    },
    {
      "cell_type": "code",
      "execution_count": 21,
      "metadata": {},
      "outputs": [],
      "source": [
        "df.Surv"
      ],
      "id": "6536357c-2939-4f15-822a-e3e4bb9f0cda"
    },
    {
      "cell_type": "markdown",
      "metadata": {},
      "source": [
        "`-` Sex 열의 선택"
      ],
      "id": "16cc27c1-64f6-40fc-8bdf-bd257df23a29"
    },
    {
      "cell_type": "code",
      "execution_count": 22,
      "metadata": {},
      "outputs": [],
      "source": [
        "df.Sex"
      ],
      "id": "9f72546b-14c7-4dbf-ac49-642dc103666a"
    },
    {
      "cell_type": "markdown",
      "metadata": {},
      "source": [
        "`-` `Sex == f`이면 생존(1), 그렇지 않으면 사망(0)이라고 예측"
      ],
      "id": "c4216788-970b-4a48-8bc1-870ad1eed70b"
    },
    {
      "cell_type": "code",
      "execution_count": 26,
      "metadata": {},
      "outputs": [],
      "source": [
        "(df.Sex == 'f')*1"
      ],
      "id": "8ca835df-a89e-4372-9b36-0d4ec6a18d04"
    },
    {
      "cell_type": "markdown",
      "metadata": {},
      "source": [
        "`-` 결과를 정리하면 아래와 같음"
      ],
      "id": "77b38a42-4206-4913-848e-246fb08d3ef1"
    },
    {
      "cell_type": "code",
      "execution_count": 27,
      "metadata": {},
      "outputs": [],
      "source": [
        "pd.DataFrame({'real': df.Surv, 'estimate': (df.Sex == 'f')*1})"
      ],
      "id": "6b7f721d-454c-4be7-8a2f-35cafefa72e6"
    },
    {
      "cell_type": "markdown",
      "metadata": {},
      "source": [
        "`-` accuracy를 손으로 계산하면 $\\frac{4}{5}=0.8$.\n",
        "\n",
        "`-` 컴퓨터로 accuracy를 계산한다면"
      ],
      "id": "5969f66a-c5ab-44d5-963d-1b3bf8959a00"
    },
    {
      "cell_type": "code",
      "execution_count": 33,
      "metadata": {},
      "outputs": [],
      "source": [
        "(df.Surv == (df.Sex == 'f')*1).sum()/5 # 방법1"
      ],
      "id": "c54e275e-6260-4e74-9b47-7c1f33ef4b66"
    },
    {
      "cell_type": "code",
      "execution_count": 34,
      "metadata": {},
      "outputs": [],
      "source": [
        "(df.Surv == (df.Sex == 'f')*1).mean() # 방법2"
      ],
      "id": "c888d597-ab06-4056-a5ef-4dbcee789563"
    },
    {
      "cell_type": "markdown",
      "metadata": {},
      "source": [
        "`#`\n",
        "\n",
        "`-` 실제자료의 accuracy를 구해보자."
      ],
      "id": "80209c81-1963-45ac-9fbf-c1afab420ea4"
    },
    {
      "cell_type": "code",
      "execution_count": 35,
      "metadata": {},
      "outputs": [],
      "source": [
        "tr = pd.read_csv('./titanic/train.csv')"
      ],
      "id": "7b6eee3f-d94c-4912-bef1-4ca0db980cf1"
    },
    {
      "cell_type": "code",
      "execution_count": 36,
      "metadata": {},
      "outputs": [],
      "source": [
        "(tr.Survived == (tr.Sex == 'female')).mean()"
      ],
      "id": "712c3e52-fb01-4a19-8a61-a18965e551c7"
    },
    {
      "cell_type": "markdown",
      "metadata": {},
      "source": [
        "# 3. 개념\n",
        "\n",
        "`-` 캐글대회는 시험과 비슷하다.\n",
        "\n",
        "-   캐글대회를 여는 사람은 보통 (1) 모의고사문제+답 (training set) (2)\n",
        "    실제시험문제 (test set)를 준다.[1]\n",
        "-   (1)의 자료에서는 문제(X,독립변수,설명변수)와\n",
        "    답(y,종속변수,반응변수)이 함께 주어진다.\n",
        "-   (2)의 자료에서는 문제(X,독립변수,설명변수)만 주어진다.\n",
        "-   우리는 (1)을 이용하여 문제(X,독립변수,설명변수)와\n",
        "    답(y,종속변수,반응변수)사이의 관계를 찾아내는 훈련을 한다.\n",
        "-   그리고 그 훈련이 잘 되었는지를 평가하기 위해서 (2)를 풀어보고 그\n",
        "    결과를 제출한다.\n",
        "\n",
        "`-` 타이타닉의 training set\n",
        "\n",
        "[1] 물론 모든 대회가 이런건 아님, 시험도 수능같은 시험만 있는게 아닌\n",
        "실기같은것도 있잖아요?"
      ],
      "id": "60236fc7-149c-473f-8024-e9b7cb1606e6"
    },
    {
      "cell_type": "code",
      "execution_count": 39,
      "metadata": {},
      "outputs": [],
      "source": [
        "tr.iloc[0]"
      ],
      "id": "a6dc0209-e416-47c5-a4db-aa9153ab1af8"
    },
    {
      "cell_type": "markdown",
      "metadata": {},
      "source": [
        "-   모의고사문제1: Pclass는 3이에요, 그리고 이름은 ‘Braund, Mr. Owen\n",
        "    Harris’ 입니다. 성별은 ‘male’ 입니다. 그리고 …. 입니다. 이 사람은\n",
        "    죽었을까요? 살았을까요?\n",
        "\n",
        "-   답1: 죽었습니다."
      ],
      "id": "adad6492-2dcd-4b69-bb80-b77f56f99094"
    },
    {
      "cell_type": "code",
      "execution_count": 44,
      "metadata": {},
      "outputs": [],
      "source": [
        "tr.iloc[1]"
      ],
      "id": "83d4b234-bec6-42c4-8c6a-65300ffee511"
    },
    {
      "cell_type": "markdown",
      "metadata": {},
      "source": [
        "-   모의고사문제2: Pclass는 1이에요, 그리고 이름은 ‘Cumings, Mrs. John\n",
        "    Bradley (Florence Briggs Thayer)’ 입니다. 성별은 ‘female’ 입니다.\n",
        "    그리고 …. 입니다. 이 사람은 죽었을까요? 살았을까요?\n",
        "\n",
        "-   답2: 살았습니다.\n",
        "\n",
        "`-` 타이타닉의 test set"
      ],
      "id": "2e26d972-a80f-49ef-a79a-00396466481c"
    },
    {
      "cell_type": "code",
      "execution_count": 47,
      "metadata": {},
      "outputs": [],
      "source": [
        "tst = pd.read_csv('./titanic/test.csv')"
      ],
      "id": "51c4c3d6-b7b3-4fcb-acfb-3795719654a2"
    },
    {
      "cell_type": "code",
      "execution_count": 48,
      "metadata": {},
      "outputs": [],
      "source": [
        "tst.iloc[0]"
      ],
      "id": "c5233522-3740-4dfd-8038-ed1cc151fe3b"
    },
    {
      "cell_type": "markdown",
      "metadata": {},
      "source": [
        "-   실전문제1: Pclass는 3이에요, 그리고 이름은 ‘Kelly, Mr. James’\n",
        "    입니다. 성별은 ‘male’ 입니다. 그리고 …. 입니다. 이 사람은\n",
        "    죽었을까요? 살았을까요?\n",
        "\n",
        "-   답1: (속마음: 훈련집합에서 대부분 남자는 죽고 여자는 살았다고 푸니까\n",
        "    대충 78점 정도는 맞던데? 이 사람도 남자니까 죽었다고 하자) 죽었다고\n",
        "    예측하겠습니다."
      ],
      "id": "af4fc8f3-5f2e-48c9-9fa6-812639c6069b"
    }
  ],
  "nbformat": 4,
  "nbformat_minor": 5,
  "metadata": {
    "kernelspec": {
      "name": "python3",
      "display_name": "Python 3 (ipykernel)",
      "language": "python"
    },
    "language_info": {
      "name": "python",
      "codemirror_mode": {
        "name": "ipython",
        "version": "3"
      },
      "file_extension": ".py",
      "mimetype": "text/x-python",
      "nbconvert_exporter": "python",
      "pygments_lexer": "ipython3",
      "version": "3.11.4"
    }
  }
}