{
  "cells": [
    {
      "cell_type": "markdown",
      "metadata": {},
      "source": [
        "# 01wk-006: 코랩에서 분석\n",
        "\n",
        "최규빈  \n",
        "2023-09-05\n",
        "\n",
        "# 1. 방법1: 직접 다운로드\n",
        "\n",
        "# 2. 방법2: kaggle token 을 이용하는 방법\n",
        "\n",
        "## Step1\n",
        "\n",
        "`-` 계정페이지 <https://www.kaggle.com/settings/account> $\\to$ API $\\to$\n",
        "Create New Token\n",
        "\n",
        "## Step2\n",
        "\n",
        "`-` 다운로드한 `kaggle.json` 파일을 업로드\n",
        "\n",
        "## Step3\n",
        "\n",
        "`-` 코랩에서 아래를 실행"
      ],
      "id": "9b53a628-bcd5-4637-963a-aa3cb71432d1"
    },
    {
      "cell_type": "code",
      "execution_count": 14,
      "metadata": {},
      "outputs": [],
      "source": [
        "import os\n",
        "os.environ['KAGGLE_CONFIG_DIR'] = \".\""
      ],
      "id": "066087f4-ebdc-43ac-b14c-07a075eee981"
    },
    {
      "cell_type": "code",
      "execution_count": 15,
      "metadata": {},
      "outputs": [
        {
          "output_type": "stream",
          "name": "stdout",
          "text": [
            "Warning: Your Kaggle API key is readable by other users on this system! To fix this, you can run 'chmod 600 ./kaggle.json'\n",
            "Downloading titanic.zip to /home/cgb2/Dropbox/03_yechan3/posts/1_Essays\n",
            "  0%|                                               | 0.00/34.1k [00:00<?, ?B/s]\n",
            "100%|██████████████████████████████████████| 34.1k/34.1k [00:00<00:00, 5.65MB/s]"
          ]
        }
      ],
      "source": [
        "!kaggle competitions download -c titanic"
      ],
      "id": "7ce8fd45-8aee-43eb-b6be-5142f00bd831"
    },
    {
      "cell_type": "code",
      "execution_count": 18,
      "metadata": {},
      "outputs": [
        {
          "output_type": "stream",
          "name": "stdout",
          "text": [
            "Archive:  titanic.zip\n",
            "  inflating: ./data/gender_submission.csv  \n",
            "  inflating: ./data/test.csv         \n",
            "  inflating: ./data/train.csv        "
          ]
        }
      ],
      "source": [
        "!unzip titanic.zip -d ./data"
      ],
      "id": "62e7516a-d1bd-43c0-bf2f-d1509a22ec58"
    },
    {
      "cell_type": "code",
      "execution_count": 17,
      "metadata": {},
      "outputs": [
        {
          "output_type": "stream",
          "name": "stdout",
          "text": [
            "rm: cannot remove 'bike-sharing-demand.zip': No such file or directory"
          ]
        }
      ],
      "source": [
        "!rm bike-sharing-demand.zip\n",
        "!rm -rf data"
      ],
      "id": "9e00a6b6-a70d-426b-b1d8-a3c2ca0a2efe"
    },
    {
      "cell_type": "code",
      "execution_count": 9,
      "metadata": {},
      "outputs": [
        {
          "output_type": "stream",
          "name": "stdout",
          "text": [
            "sampleSubmission.csv  test.csv  train.csv"
          ]
        }
      ],
      "source": [
        "!ls ./data "
      ],
      "id": "33e6625d-a563-410e-bf42-264c6f0d4686"
    },
    {
      "cell_type": "markdown",
      "metadata": {},
      "source": [
        "# 방법1: 직접 다운로드\n",
        "\n",
        "# 방법2: kaggle token 을 이용하는 방법\n",
        "\n",
        "## Step1\n",
        "\n",
        "`-` 계정페이지 <https://www.kaggle.com/settings/account> $\\to$ API $\\to$\n",
        "Create New Token\n",
        "\n",
        "## Step2\n",
        "\n",
        "`-` 다운로드한 `kaggle.json` 파일을 업로드\n",
        "\n",
        "## Step3\n",
        "\n",
        "`-` 코랩에서 아래를 실행"
      ],
      "id": "ce5744c7-159f-4bb9-92c9-9716b89a5863"
    },
    {
      "cell_type": "code",
      "execution_count": 14,
      "metadata": {},
      "outputs": [],
      "source": [
        "import os\n",
        "os.environ['KAGGLE_CONFIG_DIR'] = \".\""
      ],
      "id": "faf16987-5773-4066-8144-6abb46ed2a93"
    },
    {
      "cell_type": "code",
      "execution_count": 15,
      "metadata": {},
      "outputs": [
        {
          "output_type": "stream",
          "name": "stdout",
          "text": [
            "Warning: Your Kaggle API key is readable by other users on this system! To fix this, you can run 'chmod 600 ./kaggle.json'\n",
            "Downloading titanic.zip to /home/cgb2/Dropbox/03_yechan3/posts/1_Essays\n",
            "  0%|                                               | 0.00/34.1k [00:00<?, ?B/s]\n",
            "100%|██████████████████████████████████████| 34.1k/34.1k [00:00<00:00, 5.65MB/s]"
          ]
        }
      ],
      "source": [
        "!kaggle competitions download -c titanic"
      ],
      "id": "89a660ef-147c-4de8-9c97-fea6798c2ea2"
    },
    {
      "cell_type": "code",
      "execution_count": 18,
      "metadata": {},
      "outputs": [
        {
          "output_type": "stream",
          "name": "stdout",
          "text": [
            "Archive:  titanic.zip\n",
            "  inflating: ./data/gender_submission.csv  \n",
            "  inflating: ./data/test.csv         \n",
            "  inflating: ./data/train.csv        "
          ]
        }
      ],
      "source": [
        "!unzip titanic.zip -d ./data"
      ],
      "id": "253b2728-34c2-4745-94ba-12e86e0b6595"
    },
    {
      "cell_type": "code",
      "execution_count": 17,
      "metadata": {},
      "outputs": [
        {
          "output_type": "stream",
          "name": "stdout",
          "text": [
            "rm: cannot remove 'bike-sharing-demand.zip': No such file or directory"
          ]
        }
      ],
      "source": [
        "!rm bike-sharing-demand.zip\n",
        "!rm -rf data"
      ],
      "id": "03fcb034-d7cf-4144-af41-b4c1e926429f"
    },
    {
      "cell_type": "code",
      "execution_count": 9,
      "metadata": {},
      "outputs": [
        {
          "output_type": "stream",
          "name": "stdout",
          "text": [
            "sampleSubmission.csv  test.csv  train.csv"
          ]
        }
      ],
      "source": [
        "!ls ./data "
      ],
      "id": "f76e1eb6-aff6-4bf7-a693-fb73ff563aa2"
    }
  ],
  "nbformat": 4,
  "nbformat_minor": 5,
  "metadata": {
    "kernelspec": {
      "name": "python3",
      "display_name": "Python 3 (ipykernel)",
      "language": "python"
    },
    "language_info": {
      "name": "python",
      "codemirror_mode": {
        "name": "ipython",
        "version": "3"
      },
      "file_extension": ".py",
      "mimetype": "text/x-python",
      "nbconvert_exporter": "python",
      "pygments_lexer": "ipython3",
      "version": "3.10.12"
    }
  }
}