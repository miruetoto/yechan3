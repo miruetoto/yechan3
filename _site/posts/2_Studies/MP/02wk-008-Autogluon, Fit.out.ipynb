{
  "cells": [
    {
      "cell_type": "markdown",
      "metadata": {},
      "source": [
        "# 02wk-008: Autogluon, Fit\n",
        "\n",
        "최규빈  \n",
        "2023-09-12\n",
        "\n",
        "# 1. Autogluon"
      ],
      "id": "9aec3949-47fa-4a81-aff3-1d36e267df51"
    }
  ],
  "nbformat": 4,
  "nbformat_minor": 5,
  "metadata": {
    "kernelspec": {
      "name": "python3",
      "display_name": "Python 3 (ipykernel)",
      "language": "python"
    },
    "language_info": {
      "name": "python",
      "codemirror_mode": {
        "name": "ipython",
        "version": "3"
      },
      "file_extension": ".py",
      "mimetype": "text/x-python",
      "nbconvert_exporter": "python",
      "pygments_lexer": "ipython3",
      "version": "3.11.4"
    }
  }
}