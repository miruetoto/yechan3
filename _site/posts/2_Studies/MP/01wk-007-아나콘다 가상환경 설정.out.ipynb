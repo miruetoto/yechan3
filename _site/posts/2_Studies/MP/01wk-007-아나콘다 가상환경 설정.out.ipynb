{
  "cells": [
    {
      "cell_type": "markdown",
      "metadata": {},
      "source": [
        "# 01wk-007: 아나콘다 가상환경 설정\n",
        "\n",
        "최규빈  \n",
        "2023-09-05\n",
        "\n",
        "<a href=\"https://colab.research.google.com/github/guebin/DV2023/blob/main/posts/01wk-1.ipynb\"><img src=\"https://colab.research.google.com/assets/colab-badge.svg\" style=\"text-align: left\"></a>\n",
        "\n",
        "# 강의영상\n",
        "\n",
        "# 가상환경 설정\n",
        "\n",
        "``` bash\n",
        "conda create -n mp python=3.10\n",
        "conda activate mp\n",
        "pip install autogluon && pip install autogluon.tabular[tabpfn,vowpalwabbit,imodels,skex,skl2onnx]\n",
        "pip install pycaret[full]\n",
        "conda install -c huggingface transformers\n",
        "pip install kaggle \n",
        "conda install -c conda-forge notebook\n",
        "```"
      ],
      "id": "b7f2e2f5-697b-4c66-aacb-c8a97df82716"
    }
  ],
  "nbformat": 4,
  "nbformat_minor": 5,
  "metadata": {
    "kernelspec": {
      "name": "python3",
      "display_name": "Python 3 (ipykernel)",
      "language": "python"
    },
    "language_info": {
      "name": "python",
      "codemirror_mode": {
        "name": "ipython",
        "version": "3"
      },
      "file_extension": ".py",
      "mimetype": "text/x-python",
      "nbconvert_exporter": "python",
      "pygments_lexer": "ipython3",
      "version": "3.10.12"
    }
  }
}