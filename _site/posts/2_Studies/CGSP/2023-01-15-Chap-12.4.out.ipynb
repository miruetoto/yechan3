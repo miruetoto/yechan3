{
  "cells": [
    {
      "cell_type": "markdown",
      "metadata": {},
      "source": [
        "# **\\[CGSP\\]** Chap 12.4: Node Subsampling for PSD Estimation\n",
        "\n",
        "신록예찬  \n",
        "2023-01-15"
      ],
      "id": "8b276a13-ca60-4f54-b736-1c249b0902c1"
    },
    {
      "cell_type": "code",
      "execution_count": 78,
      "metadata": {},
      "outputs": [],
      "source": [
        "using LinearAlgebra, Plots, FFTW, Statistics"
      ],
      "id": "e8effb53-70b6-4f84-be55-96a8fc30e965"
    },
    {
      "cell_type": "code",
      "execution_count": 76,
      "metadata": {},
      "outputs": [],
      "source": [
        "columnwise_kron = \n",
        "(C,D) -> hcat([kron(C[:,i],D[:,i]) for i in 1:size(C)[2]]...)"
      ],
      "id": "aae00adb-706b-46b1-bdb8-07705ccfd22b"
    },
    {
      "cell_type": "markdown",
      "metadata": {},
      "source": [
        "# 12.4.1 The Sampling Problem\n",
        "\n",
        "아래와 같이 길이가 $N=10$ 인 신호 ${\\bf x}$를 고려하자."
      ],
      "id": "54817a74-7c47-42b9-ae2a-c148fffd9aac"
    },
    {
      "cell_type": "code",
      "execution_count": 56,
      "metadata": {},
      "outputs": [],
      "source": [
        "x = rand(10)"
      ],
      "id": "a2df1de5-174b-4bfc-a8db-fab95afdb703"
    },
    {
      "cell_type": "markdown",
      "metadata": {},
      "source": [
        "여기에서 1,3,4,5 번째 원소만 추출하여길이가 $K=4$ 인 신호 ${\\bf y}$를\n",
        "만들고 싶다."
      ],
      "id": "96a12477-5243-44df-8589-8ebc4835d0a9"
    },
    {
      "cell_type": "code",
      "execution_count": 57,
      "metadata": {},
      "outputs": [],
      "source": [
        "y = x[[1,3,4,5]]"
      ],
      "id": "5bf0ac07-06b3-49b8-a7c6-f89e9bae28a3"
    },
    {
      "cell_type": "markdown",
      "metadata": {},
      "source": [
        "이 과정은 아래와 같이 수행할 수도 있다."
      ],
      "id": "ef1fd768-2360-4ceb-9658-20aaee33dc1a"
    },
    {
      "cell_type": "code",
      "execution_count": 58,
      "metadata": {},
      "outputs": [],
      "source": [
        "Φ= [1 0 0 0 0 0 0 0 0 0\n",
        "    0 0 1 0 0 0 0 0 0 0\n",
        "    0 0 0 1 0 0 0 0 0 0\n",
        "    0 0 0 0 1 0 0 0 0 0]"
      ],
      "id": "761a6509-0a8b-41f3-a773-cffb681799f8"
    },
    {
      "cell_type": "code",
      "execution_count": 59,
      "metadata": {},
      "outputs": [],
      "source": [
        "Φ*x"
      ],
      "id": "472e43d3-3a54-458f-a2cc-5c73a0ceb973"
    },
    {
      "cell_type": "markdown",
      "metadata": {},
      "source": [
        "즉 적당한 $K\\times N$ selection matrix를 선언하여 subsampling을 수행할\n",
        "수 있다. 이때 매트릭스 ${\\bf \\Phi}$를 subsampling matrix 혹은 sparse\n",
        "sampling matrix 라고 부른다.\n",
        "\n",
        "# 12.4.2 Compressed LS Estimator"
      ],
      "id": "8ff7a7e8-96d4-4b7e-958b-23b1215a34f3"
    },
    {
      "cell_type": "code",
      "execution_count": 99,
      "metadata": {},
      "outputs": [],
      "source": [
        "N = 10\n",
        "V = [i*j for i in 0:(N-1) for j in 0:(N-1)] |> \n",
        "    x -> reshape(x,(N,N)) .|> \n",
        "    x -> exp(im * (2π/N) * x) "
      ],
      "id": "483f97c6-93ea-4250-9801-741d6ae0b511"
    },
    {
      "cell_type": "code",
      "execution_count": 100,
      "metadata": {},
      "outputs": [],
      "source": [
        "G = columnwise_kron(conj(V),V)"
      ],
      "id": "28d53404-47d7-4f2e-aff5-7c5a898a276f"
    },
    {
      "cell_type": "markdown",
      "metadata": {},
      "source": [
        "`-` 방법1"
      ],
      "id": "227b385c-8cb2-47bc-869e-83ad6467678e"
    },
    {
      "cell_type": "code",
      "execution_count": 101,
      "metadata": {},
      "outputs": [],
      "source": [
        "ĉx = vec(x*x')\n",
        "p̂ = inv(G' * G) * G' * ĉx"
      ],
      "id": "02c05239-1edf-423e-831f-87a41749d4f3"
    },
    {
      "cell_type": "markdown",
      "metadata": {},
      "source": [
        "`-` 방법2"
      ],
      "id": "4e8e9f53-ca15-4939-afa4-a561a258a1c3"
    },
    {
      "cell_type": "code",
      "execution_count": 106,
      "metadata": {},
      "outputs": [],
      "source": [
        "ĉy = vec(y*y')\n",
        "p̂ = (kron(Φ,Φ)*G)' * ĉy"
      ],
      "id": "bcf1d853-ec46-4bd6-b22f-47a7e7e64005"
    }
  ],
  "nbformat": 4,
  "nbformat_minor": 5,
  "metadata": {
    "kernelspec": {
      "name": "python3",
      "display_name": "Python 3",
      "language": "python"
    },
    "language_info": {
      "name": "python",
      "codemirror_mode": {
        "name": "ipython",
        "version": "3"
      },
      "file_extension": ".py",
      "mimetype": "text/x-python",
      "nbconvert_exporter": "python",
      "pygments_lexer": "ipython3",
      "version": "3.8.16"
    }
  }
}