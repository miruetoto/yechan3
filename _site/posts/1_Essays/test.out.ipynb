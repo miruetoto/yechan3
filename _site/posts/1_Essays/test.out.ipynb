{
  "cells": [
    {
      "cell_type": "markdown",
      "metadata": {},
      "source": [
        "# **tests**\n",
        "\n",
        "신록예찬  \n",
        "2019-04-26"
      ],
      "id": "429da697-de9f-4e30-9018-b6a056787332"
    },
    {
      "cell_type": "code",
      "execution_count": 1,
      "metadata": {},
      "outputs": [],
      "source": [
        "1+1"
      ],
      "id": "e1d9aff5-b7e8-4cf2-aff3-13fb35312f81"
    }
  ],
  "nbformat": 4,
  "nbformat_minor": 5,
  "metadata": {
    "kernelspec": {
      "name": "python3",
      "display_name": "Python 3",
      "language": "python"
    },
    "language_info": {
      "name": "python",
      "codemirror_mode": {
        "name": "ipython",
        "version": "3"
      },
      "file_extension": ".py",
      "mimetype": "text/x-python",
      "nbconvert_exporter": "python",
      "pygments_lexer": "ipython3",
      "version": "3.8.16"
    }
  }
}