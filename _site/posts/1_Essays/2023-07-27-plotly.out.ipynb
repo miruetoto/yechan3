{
  "cells": [
    {
      "cell_type": "markdown",
      "metadata": {},
      "source": [
        "#"
      ],
      "id": "535e9050-2a56-4ed9-a6b5-f2cf66dfb48a"
    },
    {
      "cell_type": "code",
      "execution_count": 2,
      "metadata": {},
      "outputs": [],
      "source": [
        "import pandas as pd"
      ],
      "id": "cd687d57-bd95-46c9-86b5-a42f47ef286c"
    },
    {
      "cell_type": "code",
      "execution_count": 3,
      "metadata": {},
      "outputs": [],
      "source": [
        "df = pd.DataFrame({'A':[1,2,3],'B':[2,3,4]})"
      ],
      "id": "64693b76-9480-417c-a297-5fcbe0612c65"
    },
    {
      "cell_type": "code",
      "execution_count": 4,
      "metadata": {},
      "outputs": [],
      "source": [
        "fig = df.plot.line(backend='plotly')"
      ],
      "id": "40f984d2-a964-46fa-9bcb-7c86e735b000"
    },
    {
      "cell_type": "code",
      "execution_count": 7,
      "metadata": {},
      "outputs": [],
      "source": [
        "fig.write_image(\"fig1.eps\")"
      ],
      "id": "9b971dac-5a17-4a28-a931-282788082360"
    },
    {
      "cell_type": "code",
      "execution_count": 8,
      "metadata": {},
      "outputs": [],
      "source": [
        "fig.write_image(\"fig1.pdf\")"
      ],
      "id": "5bf8a37b-2a2c-4e6e-937e-b30fab8bb88c"
    }
  ],
  "nbformat": 4,
  "nbformat_minor": 5,
  "metadata": {
    "kernelspec": {
      "name": "python3",
      "display_name": "Python 3 (ipykernel)",
      "language": "python"
    }
  }
}