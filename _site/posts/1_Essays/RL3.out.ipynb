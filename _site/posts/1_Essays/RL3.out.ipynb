{
  "cells": [
    {
      "cell_type": "markdown",
      "metadata": {},
      "source": [
        "# **\\[Essays\\]** 강화학습 v3\n",
        "\n",
        "신록예찬  \n",
        "2023-08-12"
      ],
      "id": "4c3d0d67-0925-4d74-9f99-36e2eebb90b4"
    },
    {
      "cell_type": "code",
      "execution_count": 1,
      "metadata": {},
      "outputs": [],
      "source": [
        "import gymnasium as gym\n",
        "import numpy as np\n",
        "import matplotlib.pyplot as plt\n",
        "from matplotlib.animation import FuncAnimation\n",
        "import torch \n",
        "import collections\n",
        "import IPython\n",
        "import random"
      ],
      "id": "c1236c41-f8e1-4f62-bb06-9d1a67c88159"
    },
    {
      "cell_type": "code",
      "execution_count": 2,
      "metadata": {},
      "outputs": [],
      "source": [
        "class ReplayBuffer:\n",
        "    \"\"\"Fixed-size buffer to store experience tuples.\"\"\"\n",
        "\n",
        "    def __init__(self, action_size, buffer_size, batch_size, seed):\n",
        "        \"\"\"Initialize a ReplayBuffer object.\n",
        "\n",
        "        Params\n",
        "        ======\n",
        "            action_size (int): dimension of each action\n",
        "            buffer_size (int): maximum size of buffer\n",
        "            batch_size (int): size of each training batch\n",
        "            seed (int): random seed\n",
        "        \"\"\"\n",
        "        self.action_size = action_size\n",
        "        self.memory = collections.deque(maxlen=buffer_size)  \n",
        "        self.batch_size = batch_size\n",
        "        self.experience = collections.namedtuple(\"Experience\", field_names=[\"state\", \"action\", \"reward\", \"next_state\", \"done\"])\n",
        "        self.seed = random.seed(seed)\n",
        "    \n",
        "    def add(self, state, action, reward, next_state, done):\n",
        "        \"\"\"Add a new experience to memory.\"\"\"\n",
        "        e = self.experience(state, action, reward, next_state, done)\n",
        "        self.memory.append(e)\n",
        "    \n",
        "    def sample(self):\n",
        "        \"\"\"Randomly sample a batch of experiences from memory.\"\"\"\n",
        "        experiences = random.sample(self.memory, k=self.batch_size)\n",
        "        \n",
        "        # Convert to torch tensors\n",
        "        states = torch.from_numpy(np.vstack([e.state for e in experiences if e is not None])).float().to(device)\n",
        "        actions = torch.from_numpy(np.vstack([e.action for e in experiences if e is not None])).long().to(device)\n",
        "        rewards = torch.from_numpy(np.vstack([e.reward for e in experiences if e is not None])).float().to(device)\n",
        "        next_states = torch.from_numpy(np.vstack([e.next_state for e in experiences if e is not None])).float().to(device)\n",
        "        \n",
        "        # Convert done from boolean to int\n",
        "        dones = torch.from_numpy(np.vstack([e.done for e in experiences if e is not None]).astype(np.uint8)).float().to(device)        \n",
        "        \n",
        "        return (states, actions, rewards, next_states, dones)\n",
        "\n",
        "    def __len__(self):\n",
        "        \"\"\"Return the current size of internal memory.\"\"\"\n",
        "        return len(self.memory)"
      ],
      "id": "76f462fe-d801-4ebc-8009-8f070b1e30a1"
    },
    {
      "cell_type": "code",
      "execution_count": 3,
      "metadata": {},
      "outputs": [],
      "source": [
        "BUFFER_SIZE = 500*20   # replay buffer size\n",
        "BATCH_SIZE = 128     # minibatch size\n",
        "GAMMA = 0.99          # discount factor\n",
        "#LR = 0.0001           # learning rate \n",
        "UPDATE_EVERY = 1"
      ],
      "id": "d491891e-dc6c-4a02-aa64-9a938cbc5b20"
    },
    {
      "cell_type": "code",
      "execution_count": 4,
      "metadata": {},
      "outputs": [],
      "source": [
        "device = torch.device(\"cuda:0\" if torch.cuda.is_available() else \"cpu\")\n",
        "device = \"cpu\""
      ],
      "id": "ce5d13b1-1cb5-4660-b9bf-261f016fc372"
    },
    {
      "cell_type": "code",
      "execution_count": 5,
      "metadata": {},
      "outputs": [],
      "source": [
        "env = gym.make('LunarLander-v2',render_mode='rgb_array')"
      ],
      "id": "6bcc10ee-ab05-4c4b-bd9d-31e41589b0ed"
    },
    {
      "cell_type": "code",
      "execution_count": 6,
      "metadata": {},
      "outputs": [],
      "source": [
        "net = torch.nn.Sequential(\n",
        "    torch.nn.Linear(8,128), # 8은 state_size\n",
        "    torch.nn.ReLU(),\n",
        "    torch.nn.Linear(128,64),\n",
        "    torch.nn.ReLU(),\n",
        "    torch.nn.Linear(64,32),\n",
        "    torch.nn.ReLU(),\n",
        "    torch.nn.Linear(32,4)) # 4는 action_size "
      ],
      "id": "fc5d6c2f-62f6-4c18-9aa9-d74fe6cdec9e"
    },
    {
      "cell_type": "code",
      "execution_count": 7,
      "metadata": {},
      "outputs": [],
      "source": [
        "optimizr = torch.optim.Adam(net.parameters(), lr=0.0001)"
      ],
      "id": "b0e76d24-126d-488e-a707-2d6b362c343f"
    },
    {
      "cell_type": "markdown",
      "metadata": {},
      "source": [
        "# 1 experience\n",
        "\n",
        "`-`"
      ],
      "id": "0f680801-e866-4e5a-9e2f-6c135a15853d"
    },
    {
      "cell_type": "code",
      "execution_count": 8,
      "metadata": {},
      "outputs": [],
      "source": [
        "current_state, _ = env.reset()"
      ],
      "id": "ebbf8a81-d516-4467-8e30-9cae3335363a"
    },
    {
      "cell_type": "code",
      "execution_count": 9,
      "metadata": {},
      "outputs": [],
      "source": [
        "current_state"
      ],
      "id": "dbb956c7-4ab6-4b53-8b36-709ed5a56c3a"
    },
    {
      "cell_type": "code",
      "execution_count": 10,
      "metadata": {},
      "outputs": [],
      "source": [
        "net(torch.tensor(current_state))"
      ],
      "id": "24dc91e3-4e52-4124-98c2-a4993fafc4e9"
    },
    {
      "cell_type": "code",
      "execution_count": 11,
      "metadata": {},
      "outputs": [],
      "source": [
        "_action1 = net(torch.tensor(current_state)).argmax().item()\n",
        "_action1"
      ],
      "id": "423b0a6a-e886-4a0d-b5ef-01750e1243f9"
    },
    {
      "cell_type": "code",
      "execution_count": 12,
      "metadata": {},
      "outputs": [],
      "source": [
        "_action2 = random.choice([0,1,2,3])\n",
        "_action2 "
      ],
      "id": "d70a6432-45b9-494c-96dc-e5234db34979"
    },
    {
      "cell_type": "code",
      "execution_count": 13,
      "metadata": {},
      "outputs": [],
      "source": [
        "act = lambda state, eps: net(torch.tensor(state)).argmax().item() if eps < random.random() else random.choice([0,1,2,3])"
      ],
      "id": "12e7c24a-9c66-4b6b-b24b-d051873ba5a7"
    },
    {
      "cell_type": "code",
      "execution_count": 14,
      "metadata": {},
      "outputs": [],
      "source": [
        "[act(current_state,0.95) for i in range(20)]"
      ],
      "id": "386818ad-6021-4508-84bc-b7818438f08b"
    },
    {
      "cell_type": "code",
      "execution_count": 15,
      "metadata": {},
      "outputs": [],
      "source": [
        "[act(current_state,0.1) for i in range(20)]"
      ],
      "id": "5b9bb022-5337-46ea-8c85-f01d2c307a95"
    },
    {
      "cell_type": "code",
      "execution_count": 16,
      "metadata": {},
      "outputs": [],
      "source": [
        "action = act(current_state,0.05)"
      ],
      "id": "4a054672-aa0f-4ca8-a6c6-fe897918eed1"
    },
    {
      "cell_type": "code",
      "execution_count": 17,
      "metadata": {},
      "outputs": [],
      "source": [
        "next_state, reward, terminated, truncated, info = env.step(action)"
      ],
      "id": "eb0d099b-42d3-4713-8818-8c5ca885a413"
    },
    {
      "cell_type": "code",
      "execution_count": 18,
      "metadata": {},
      "outputs": [],
      "source": [
        "net(torch.tensor(next_state))"
      ],
      "id": "33ba2c3b-113e-48d4-81bc-b1b8aef78e3e"
    },
    {
      "cell_type": "code",
      "execution_count": 19,
      "metadata": {},
      "outputs": [],
      "source": [
        "reward"
      ],
      "id": "830809de-1c5e-4cd7-a9dc-23738dc7c2e1"
    },
    {
      "cell_type": "code",
      "execution_count": 20,
      "metadata": {},
      "outputs": [],
      "source": [
        "qvalue_next_state = net(torch.tensor(next_state)).data.max().item()\n",
        "qvalue_next_state"
      ],
      "id": "998ceb02-ef70-4d41-a449-2022dde984ab"
    },
    {
      "cell_type": "code",
      "execution_count": 21,
      "metadata": {},
      "outputs": [],
      "source": [
        "reward + 0.99 * qvalue_next_state"
      ],
      "id": "7f14fe35-1a91-49a2-8349-cd613d499ace"
    },
    {
      "cell_type": "code",
      "execution_count": 22,
      "metadata": {},
      "outputs": [],
      "source": [
        "qvalue_current_state = net(torch.tensor(current_state)).max()\n",
        "qvalue_current_state"
      ],
      "id": "ed4ff100-e0f4-40e9-8887-6f91effc7443"
    },
    {
      "cell_type": "code",
      "execution_count": 23,
      "metadata": {},
      "outputs": [],
      "source": [
        "loss = torch.mean((qvalue_current_state - (reward + 0.99 * qvalue_next_state))**2)"
      ],
      "id": "bea447fc-770c-42e9-8865-3124cfd6749a"
    },
    {
      "cell_type": "code",
      "execution_count": 24,
      "metadata": {},
      "outputs": [],
      "source": [
        "loss.backward()"
      ],
      "id": "b848a267-d269-4928-9b1a-2a8eb16cfb77"
    },
    {
      "cell_type": "code",
      "execution_count": 25,
      "metadata": {},
      "outputs": [],
      "source": [
        "optimizr.step()"
      ],
      "id": "d78423bd-f57e-487d-a68d-ee1a379d95af"
    },
    {
      "cell_type": "code",
      "execution_count": 26,
      "metadata": {},
      "outputs": [],
      "source": [
        "net(torch.tensor(current_state))"
      ],
      "id": "ceba2626-3e67-4cde-af20-b5917ae17df9"
    },
    {
      "cell_type": "markdown",
      "metadata": {},
      "source": [
        "## 코드정리\n",
        "\n",
        "### env $\\to$ agent: current_state"
      ],
      "id": "c1f382bc-25d3-40fb-baf0-09889ff993d5"
    },
    {
      "cell_type": "code",
      "execution_count": 78,
      "metadata": {},
      "outputs": [],
      "source": [
        "current_state, _ = env.reset()\n",
        "current_state"
      ],
      "id": "b6a5db55-c445-43a9-be72-024ec6a3dbfe"
    },
    {
      "cell_type": "markdown",
      "metadata": {},
      "source": [
        "### agent $\\to$ env: action"
      ],
      "id": "001de252-159c-4fd0-93b4-08caeca27789"
    },
    {
      "cell_type": "code",
      "execution_count": 79,
      "metadata": {},
      "outputs": [],
      "source": [
        "act = lambda state, eps: net(torch.tensor(state)).argmax().item() if eps < random.random() else random.choice([0,1,2,3])"
      ],
      "id": "73b07571-97fb-4911-b4b5-205b78dc75eb"
    },
    {
      "cell_type": "code",
      "execution_count": 80,
      "metadata": {},
      "outputs": [],
      "source": [
        "action = act(current_state,0.05)\n",
        "action"
      ],
      "id": "70030ed7-50d2-4dc7-b152-bd2977b25db7"
    },
    {
      "cell_type": "markdown",
      "metadata": {},
      "source": [
        "### env $\\to$ agent: reward,next_state"
      ],
      "id": "0934c465-cf0d-45fa-980f-b9a6cb56b44b"
    },
    {
      "cell_type": "code",
      "execution_count": 81,
      "metadata": {},
      "outputs": [],
      "source": [
        "next_state, reward, terminated, truncated, info = env.step(action)"
      ],
      "id": "a4c0248d-dce5-4f50-a1c9-73fe03e69b71"
    },
    {
      "cell_type": "code",
      "execution_count": 82,
      "metadata": {},
      "outputs": [],
      "source": [
        "net(torch.tensor(next_state))"
      ],
      "id": "cb3989ad-9bd9-41c3-b38b-5653b946e77d"
    },
    {
      "cell_type": "code",
      "execution_count": 83,
      "metadata": {},
      "outputs": [],
      "source": [
        "reward"
      ],
      "id": "4113ba48-7fa5-4f5a-848e-d78ba50f95bf"
    },
    {
      "cell_type": "markdown",
      "metadata": {},
      "source": [
        "### agent: update ($q$-value generating) network"
      ],
      "id": "2ccc53bf-f4ac-439c-9a71-6ced35966b3e"
    },
    {
      "cell_type": "code",
      "execution_count": 99,
      "metadata": {},
      "outputs": [],
      "source": [
        "qvalue_current_state = net(torch.tensor(current_state)).max()\n",
        "qvalue_next_state = net(torch.tensor(next_state)).max().data\n",
        "reward2 = reward + 0.99 * qvalue_next_state \n",
        "loss = torch.mean((qvalue_current_state - reward2)**2)"
      ],
      "id": "8df6b467-6f4f-49c2-b5e3-fb2bcd96cc4e"
    },
    {
      "cell_type": "code",
      "execution_count": 100,
      "metadata": {},
      "outputs": [],
      "source": [
        "loss.backward()"
      ],
      "id": "ada1c12a-8e26-4b02-8324-58a61426b795"
    },
    {
      "cell_type": "code",
      "execution_count": 101,
      "metadata": {},
      "outputs": [],
      "source": [
        "optimizr.step()"
      ],
      "id": "f8047c98-532f-41bf-8414-e9f27a712dae"
    },
    {
      "cell_type": "markdown",
      "metadata": {},
      "source": [
        "## 코드정리 (리플레이버퍼사용)"
      ],
      "id": "9c4647a6-f18e-4682-b360-0649b17babef"
    },
    {
      "cell_type": "code",
      "execution_count": 143,
      "metadata": {},
      "outputs": [],
      "source": [
        "current_state_history = collections.deque(maxlen=50000)\n",
        "action_history = collections.deque(maxlen=50000)\n",
        "next_state_history = collections.deque(maxlen=50000)\n",
        "terminated_history = collections.deque(maxlen=50000)\n",
        "reward_history = collections.deque(maxlen=50000)"
      ],
      "id": "b4691e27-3f5e-4fba-8b43-3fc7ca17ac20"
    },
    {
      "cell_type": "markdown",
      "metadata": {},
      "source": [
        "### t=1"
      ],
      "id": "1ed0bbca-942b-44e6-a45a-6ac45e1c2c08"
    },
    {
      "cell_type": "code",
      "execution_count": 159,
      "metadata": {},
      "outputs": [],
      "source": [
        "### env -> agent: current_state\n",
        "current_state, _ = env.reset()\n",
        "current_state_history.append(current_state)\n",
        "current_state_history\n",
        "\n",
        "### agent -> env: action\n",
        "act = lambda state, eps: net(torch.tensor(state)).argmax().item() if eps < random.random() else random.choice([0,1,2,3])\n",
        "action = act(current_state,1)\n",
        "action_history.append(action)\n",
        "action_history\n",
        "\n",
        "### env -> agent: reward,next_state\n",
        "next_state, reward, terminated, truncated, info = env.step(action)\n",
        "next_state_history.append(next_state)\n",
        "reward_history.append(reward)\n",
        "terminated_history.append(terminated)"
      ],
      "id": "3e38f455-99d3-40de-aa55-301243f31c8a"
    },
    {
      "cell_type": "markdown",
      "metadata": {},
      "source": [
        "### t=2~500 정도까지 데이터를 쌓자"
      ],
      "id": "fa5a71af-4424-4e08-91ef-a348d12671fe"
    },
    {
      "cell_type": "code",
      "execution_count": 160,
      "metadata": {},
      "outputs": [],
      "source": [
        "for _ in range(499):\n",
        "    current_state = next_state ## 수정\n",
        "    current_state_history.append(current_state)\n",
        "    current_state_history\n",
        "    \n",
        "    ### agent -> env: action\n",
        "    act = lambda state, eps: net(torch.tensor(state)).argmax().item() if eps < random.random() else random.choice([0,1,2,3])\n",
        "    action = act(current_state,1)\n",
        "    action_history.append(action)\n",
        "    action_history\n",
        "    \n",
        "    ### env -> agent: reward,next_state\n",
        "    next_state, reward, terminated, truncated, info = env.step(action)\n",
        "    next_state_history.append(next_state)\n",
        "    reward_history.append(reward)\n",
        "    terminated_history.append(terminated)"
      ],
      "id": "512dbab6-2e25-4ff5-8980-b46537d668c4"
    },
    {
      "cell_type": "markdown",
      "metadata": {},
      "source": [
        "### agent $\\to$ env: action"
      ],
      "id": "d52c9db7-de74-4117-8fc3-01ab8e24fe54"
    },
    {
      "cell_type": "code",
      "execution_count": 145,
      "metadata": {},
      "outputs": [],
      "source": [
        "act = lambda state, eps: net(torch.tensor(state)).argmax().item() if eps < random.random() else random.choice([0,1,2,3])"
      ],
      "id": "2aec9480-6960-4717-985d-32c93ca71be8"
    },
    {
      "cell_type": "code",
      "execution_count": 146,
      "metadata": {},
      "outputs": [],
      "source": [
        "action = act(current_state,0.05)\n",
        "action_history.append(action)\n",
        "action_history"
      ],
      "id": "b360d4ae-c671-487d-a9cc-79a374100561"
    },
    {
      "cell_type": "markdown",
      "metadata": {},
      "source": [
        "### env $\\to$ agent: reward,next_state"
      ],
      "id": "dbac0485-0408-4645-81ef-8113e2cc74f7"
    },
    {
      "cell_type": "code",
      "execution_count": 147,
      "metadata": {},
      "outputs": [],
      "source": [
        "next_state, reward, terminated, truncated, info = env.step(action)\n",
        "next_state_history.append(next_state)\n",
        "reward_history.append(reward)\n",
        "terminated_history.append(terminated)"
      ],
      "id": "800499db-0ad0-436e-8da6-4af1fa0fc5e3"
    },
    {
      "cell_type": "code",
      "execution_count": 148,
      "metadata": {},
      "outputs": [],
      "source": [
        "next_state_history"
      ],
      "id": "4cfd6aa6-d21b-47ea-bfa9-6af5316fe2a1"
    },
    {
      "cell_type": "code",
      "execution_count": 154,
      "metadata": {},
      "outputs": [],
      "source": [
        "net(torch.tensor(current_state_history))"
      ],
      "id": "369b0666-a75a-48eb-8549-bb7c93dd5e47"
    },
    {
      "cell_type": "markdown",
      "metadata": {},
      "source": [
        "### agent: update ($q$-value generating) network"
      ],
      "id": "5c698a0e-077c-42ec-a914-9dcface4d1b6"
    },
    {
      "cell_type": "code",
      "execution_count": 84,
      "metadata": {},
      "outputs": [],
      "source": [
        "qvalue_current_state = net(torch.tensor(current_state)).max()\n",
        "qvalue_next_state = net(torch.tensor(next_state)).max().data\n",
        "loss = torch.mean((qvalue_current_state - (reward + 0.99 * qvalue_next_state))**2)"
      ],
      "id": "38d52bf4-696e-493b-88c4-f61a58d7fd02"
    },
    {
      "cell_type": "code",
      "execution_count": 85,
      "metadata": {},
      "outputs": [],
      "source": [
        "loss.backward()"
      ],
      "id": "1e26cdf1-f586-41b1-ac46-044f59fde7be"
    },
    {
      "cell_type": "code",
      "execution_count": 86,
      "metadata": {},
      "outputs": [],
      "source": [
        "optimizr.step()"
      ],
      "id": "406e2acb-1e2b-42e7-9f56-2ccd30ab1a1d"
    },
    {
      "cell_type": "code",
      "execution_count": null,
      "metadata": {},
      "outputs": [],
      "source": [
        "##"
      ],
      "id": "0022c3b9-c0fc-4758-bb47-7c3005e943c4"
    },
    {
      "cell_type": "code",
      "execution_count": 27,
      "metadata": {},
      "outputs": [],
      "source": [
        "class Agent():\n",
        "    \"\"\"Interacts with and learns from the environment.\"\"\"\n",
        "\n",
        "    def __init__(self, state_size, action_size, seed):\n",
        "        \"\"\"Initialize an Agent object.\n",
        "        \n",
        "        Params\n",
        "        ======\n",
        "            state_size (int): dimension of each state\n",
        "            action_size (int): dimension of each action\n",
        "            seed (int): random seed\n",
        "        \"\"\"\n",
        "        self.state_size = state_size\n",
        "        self.action_size = action_size\n",
        "\n",
        "        # Q-Network\n",
        "        self.network = net.to(device)\n",
        "        self.optimizer = torch.optim.Adam(self.network.parameters(), lr=0.0001)\n",
        "\n",
        "        # Replay memory\n",
        "        self.memory = ReplayBuffer(action_size, BUFFER_SIZE, BATCH_SIZE, seed)\n",
        "        # Initialize time step (for updating every UPDATE_EVERY steps)\n",
        "        self.t_step = 0\n",
        "    \n",
        "    def step(self, state, action, reward, next_state, done):\n",
        "        # Save experience in replay memory\n",
        "        self.memory.add(state, action, reward, next_state, done)\n",
        "        \n",
        "        # Learn every UPDATE_EVERY time steps.\n",
        "        self.t_step = (self.t_step + 1) % UPDATE_EVERY\n",
        "        if self.t_step == 0:\n",
        "            # If enough samples are available in memory, get random subset and learn\n",
        "            if len(self.memory) > BATCH_SIZE:\n",
        "                experiences = self.memory.sample()\n",
        "                self.learn(experiences, GAMMA)\n",
        "\n",
        "    def act(self, state, eps=0.):\n",
        "        \"\"\"Returns actions for given state as per current policy.\n",
        "        \n",
        "        Params\n",
        "        ======\n",
        "            state (array_like): current state\n",
        "            eps (float): epsilon, for epsilon-greedy action selection\n",
        "        \"\"\"\n",
        "        state = torch.from_numpy(state).float().unsqueeze(0).to(device)\n",
        "        \n",
        "        if random.random() > eps:\n",
        "            return np.argmax(self.network(state).cpu().data.numpy())\n",
        "        else:\n",
        "            return random.choice(np.arange(self.action_size))\n",
        "        \n",
        "\n",
        "    def learn(self, experiences, gamma):\n",
        "        \"\"\"Update value parameters using given batch of experience tuples.\n",
        "\n",
        "        Params\n",
        "        ======\n",
        "            experiences (Tuple[torch.Variable]): tuple of (s, a, r, s', done) tuples \n",
        "            gamma (float): discount factor\n",
        "        \"\"\"\n",
        "        # Obtain random minibatch of tuples from D\n",
        "        states, actions, rewards, next_states, dones = experiences\n",
        "\n",
        "        ## Compute and minimize the loss\n",
        "        ### Extract next maximum estimated value from target network\n",
        "        q_targets_next = self.network(next_states).detach().max(1)[0].unsqueeze(1)\n",
        "        q_targets = rewards + gamma * q_targets_next * (1 - dones)\n",
        "\n",
        "        ### Calculate expected value from local network\n",
        "        q_expected = self.network(states).gather(1, actions)\n",
        "        \n",
        "        loss = torch.mean((q_expected-q_targets)**2)\n",
        "        \n",
        "        self.optimizer.zero_grad()\n",
        "        loss.backward()\n",
        "        self.optimizer.step()"
      ],
      "id": "c49a25ee-704b-4740-bebd-7094be91b017"
    },
    {
      "cell_type": "code",
      "execution_count": 28,
      "metadata": {},
      "outputs": [],
      "source": [
        "def dqn(n_episodes=2000, max_t=500, eps_start=1.0, eps_end=0.01, eps_decay=0.995):\n",
        "    \"\"\"Deep Q-Learning.\n",
        "    \n",
        "    Params\n",
        "    ======\n",
        "        n_episodes (int): maximum number of training episodes\n",
        "        max_t (int): maximum number of timesteps per episode\n",
        "        eps_start (float): starting value of epsilon, for epsilon-greedy action selection\n",
        "        eps_end (float): minimum value of epsilon\n",
        "        eps_decay (float): multiplicative factor (per episode) for decreasing epsilon\n",
        "    \"\"\"\n",
        "    playtimes=[] \n",
        "    scores = []                        # list containing scores from each episode\n",
        "    scores_window = collections.deque(maxlen=100)  # last 100 scores\n",
        "    eps = eps_start                    # initialize epsilon\n",
        "    for i_episode in range(1, n_episodes+1):\n",
        "        state, _  = env.reset()\n",
        "        score = 0\n",
        "        for t in range(max_t):\n",
        "            ## STEP1: \n",
        "            action = agent.act(state, eps)\n",
        "            \n",
        "            ## STEP2: \n",
        "            next_state, reward, done, _, _ = env.step(action)\n",
        "            \n",
        "            ## STEP3: \n",
        "            agent.step(state, action, reward, next_state, done)\n",
        "            \n",
        "            ## STEP4: \n",
        "            state = next_state\n",
        "            \n",
        "            ## STEP5: \n",
        "            score += reward\n",
        "            \n",
        "            if done:\n",
        "                playtimes.append(t)\n",
        "                break \n",
        "        scores_window.append(score)       # save most recent score\n",
        "        scores.append(score)              # save most recent score\n",
        "        eps = max(eps_end, eps_decay*eps) # decrease epsilon\n",
        "        print('\\rEpisode {}\\tAverage Score: {:.2f}\\tPlaytime: {:.2f}'.format(i_episode, np.mean(scores_window), np.mean(playtimes)), end=\"\")\n",
        "        if i_episode % 100 == 0:\n",
        "            print('\\rEpisode {}\\tAverage Score: {:.2f}\\tPlaytime: {:.2f}'.format(i_episode, np.mean(scores_window), np.mean(playtimes)))\n",
        "            torch.save(agent.network.state_dict(), 'checkpoint.pth')\n",
        "        if np.mean(scores_window)>=200.0:\n",
        "            print('\\nEnvironment solved in {:d} episodes!\\tAverage Score: {:.2f}'.format(i_episode, np.mean(scores_window)))\n",
        "            torch.save(agent.network.state_dict(), 'checkpoint.pth')\n",
        "            break\n",
        "    return scores"
      ],
      "id": "257c0219-24e5-4248-b556-ec337c3e2bba"
    },
    {
      "cell_type": "code",
      "execution_count": 29,
      "metadata": {},
      "outputs": [],
      "source": [
        "env.reset()"
      ],
      "id": "cab211c7-d6db-44a1-810e-13ac2c737483"
    },
    {
      "cell_type": "code",
      "execution_count": 30,
      "metadata": {},
      "outputs": [
        {
          "output_type": "stream",
          "name": "stdout",
          "text": [
            "Episode 100 Average Score: -159.16  Playtime: 112.78\n",
            "Episode 200 Average Score: -64.65   Playtime: 142.243\n",
            "Episode 300 Average Score: 51.64    Playtime: 150.090\n",
            "Episode 400 Average Score: 114.62   Playtime: 165.36\n",
            "Episode 500 Average Score: 105.38   Playtime: 194.59\n",
            "Episode 598 Average Score: 200.97   Playtime: 232.31\n",
            "Environment solved in 598 episodes! Average Score: 200.97"
          ]
        }
      ],
      "source": [
        "agent = Agent(state_size=8, action_size=4, seed=0)\n",
        "scores = dqn(n_episodes=2000, max_t=500, eps_start=1.00, eps_end=0.05, eps_decay=0.995)"
      ],
      "id": "195deb01-cff2-4bae-a378-6f3bd94b6b0d"
    },
    {
      "cell_type": "code",
      "execution_count": 31,
      "metadata": {},
      "outputs": [
        {
          "output_type": "display_data",
          "metadata": {},
          "data": {
            "image/png": "[encoded data removed]"
          }
        }
      ],
      "source": [
        "fig = plt.figure()\n",
        "ax = fig.add_subplot(111)\n",
        "plt.plot(np.arange(len(scores)), scores)\n",
        "plt.ylabel('Score')\n",
        "plt.xlabel('Episode #')\n",
        "plt.show()"
      ],
      "id": "947da12d-25bb-4344-93ba-74ae6128b40c"
    },
    {
      "cell_type": "code",
      "execution_count": 32,
      "metadata": {},
      "outputs": [],
      "source": [
        "frames = []\n",
        "agent = Agent(state_size=8, action_size=4, seed=0)\n",
        "agent.network.load_state_dict(torch.load('checkpoint.pth'))\n",
        "state,_ = env.reset()\n",
        "done = False\n",
        "while not done:\n",
        "    frames.append(env.render())\n",
        "    action = agent.act(state)\n",
        "    state, reward, done, _,_ = env.step(action)\n",
        "env.close()"
      ],
      "id": "9167a4fc-eacc-4d38-a02a-2eb4c16d1b54"
    },
    {
      "cell_type": "code",
      "execution_count": 33,
      "metadata": {},
      "outputs": [
        {
          "output_type": "display_data",
          "metadata": {},
          "data": {
            "image/png": "[encoded data removed]"
          }
        }
      ],
      "source": [
        "fig, ax = plt.subplots()\n",
        "ani = FuncAnimation(fig,lambda i: ax.imshow(frames[::10][i]),frames=len(frames[::10]))"
      ],
      "id": "b3da118e-a108-43ea-9b04-a2ecdb2f46ed"
    },
    {
      "cell_type": "markdown",
      "metadata": {},
      "source": [
        "`-` 방법1"
      ],
      "id": "ed0c9df9-bc2b-43ff-91e9-782f58fbfc67"
    },
    {
      "cell_type": "code",
      "execution_count": 34,
      "metadata": {},
      "outputs": [],
      "source": [
        "# ani.save('LunarLander-v2.mp4', writer='ffmpeg', fps=15, extra_args=['-vcodec', 'mpeg4'])"
      ],
      "id": "8c6cea37-ee98-4f62-81d2-fd3269c9633e"
    },
    {
      "cell_type": "markdown",
      "metadata": {},
      "source": [
        "`-` 방법2"
      ],
      "id": "eaa4462c-1105-486c-a5a0-debd12b65844"
    },
    {
      "cell_type": "code",
      "execution_count": 35,
      "metadata": {},
      "outputs": [],
      "source": [
        "IPython.display.HTML(ani.to_jshtml())"
      ],
      "id": "718bb991-4268-43ae-bc96-724027a32fe9"
    }
  ],
  "nbformat": 4,
  "nbformat_minor": 5,
  "metadata": {
    "kernelspec": {
      "name": "python3",
      "display_name": "Python 3 (ipykernel)",
      "language": "python"
    },
    "language_info": {
      "name": "python",
      "codemirror_mode": {
        "name": "ipython",
        "version": "3"
      },
      "file_extension": ".py",
      "mimetype": "text/x-python",
      "nbconvert_exporter": "python",
      "pygments_lexer": "ipython3",
      "version": "3.11.4"
    }
  }
}