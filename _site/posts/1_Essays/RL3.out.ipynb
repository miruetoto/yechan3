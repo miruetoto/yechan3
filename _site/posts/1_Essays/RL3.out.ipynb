{
  "cells": [
    {
      "cell_type": "markdown",
      "metadata": {},
      "source": [
        "# **\\[Essays\\]** 강화학습 v3\n",
        "\n",
        "신록예찬  \n",
        "2023-08-12\n",
        "\n",
        "# imports"
      ],
      "id": "9a423171-2e7c-4372-9820-af9d2ff8ebee"
    },
    {
      "cell_type": "code",
      "execution_count": 5,
      "metadata": {},
      "outputs": [],
      "source": [
        "import gymnasium as gym\n",
        "import numpy as np\n",
        "import matplotlib.pyplot as plt\n",
        "from matplotlib.animation import FuncAnimation\n",
        "import torch \n",
        "import collections\n",
        "import IPython\n",
        "import random"
      ],
      "id": "c1236c41-f8e1-4f62-bb06-9d1a67c88159"
    },
    {
      "cell_type": "markdown",
      "metadata": {},
      "source": [
        "# 기존알고리즘"
      ],
      "id": "22637e49-c3f2-43c4-ae07-3d001cea2952"
    },
    {
      "cell_type": "code",
      "execution_count": 6,
      "metadata": {},
      "outputs": [],
      "source": [
        "BUFFER_SIZE = 500*20   # replay buffer size\n",
        "BATCH_SIZE = 128     # minibatch size\n",
        "GAMMA = 0.99          # discount factor"
      ],
      "id": "07e06db1-b173-4c7d-ae9d-71a41b867b69"
    },
    {
      "cell_type": "code",
      "execution_count": 7,
      "metadata": {},
      "outputs": [],
      "source": [
        "class ReplayBuffer:\n",
        "    \"\"\"Fixed-size buffer to store experience tuples.\"\"\"\n",
        "\n",
        "    def __init__(self):\n",
        "        \"\"\"Initialize a ReplayBuffer object.\n",
        "\n",
        "        Params\n",
        "        ======\n",
        "            action_size (int): dimension of each action\n",
        "            buffer_size (int): maximum size of buffer\n",
        "            batch_size (int): size of each training batch\n",
        "            seed (int): random seed\n",
        "        \"\"\"\n",
        "        self.action_size = 4\n",
        "        self.memory = collections.deque(maxlen=BUFFER_SIZE)  \n",
        "        self.batch_size = BATCH_SIZE\n",
        "        self.experience = collections.namedtuple(\"Experience\", field_names=[\"state\", \"action\", \"reward\", \"next_state\", \"done\"])\n",
        "    \n",
        "    def add(self, state, action, reward, next_state, done):\n",
        "        \"\"\"Add a new experience to memory.\"\"\"\n",
        "        e = self.experience(state, action, reward, next_state, done)\n",
        "        self.memory.append(e)\n",
        "    \n",
        "    def sample(self):\n",
        "        \"\"\"Randomly sample a batch of experiences from memory.\"\"\"\n",
        "        experiences = random.sample(self.memory, k=self.batch_size)\n",
        "        \n",
        "        # Convert to torch tensors\n",
        "        states = torch.from_numpy(np.vstack([e.state for e in experiences if e is not None])).float()\n",
        "        actions = torch.from_numpy(np.vstack([e.action for e in experiences if e is not None])).long()\n",
        "        rewards = torch.from_numpy(np.vstack([e.reward for e in experiences if e is not None])).float()\n",
        "        next_states = torch.from_numpy(np.vstack([e.next_state for e in experiences if e is not None])).float()\n",
        "        \n",
        "        # Convert done from boolean to int\n",
        "        dones = torch.from_numpy(np.vstack([e.done for e in experiences if e is not None]).astype(np.uint8)).float()\n",
        "        \n",
        "        return (states, actions, rewards, next_states, dones)\n",
        "\n",
        "    def __len__(self):\n",
        "        \"\"\"Return the current size of internal memory.\"\"\"\n",
        "        return len(self.memory)"
      ],
      "id": "76f462fe-d801-4ebc-8009-8f070b1e30a1"
    },
    {
      "cell_type": "code",
      "execution_count": 8,
      "metadata": {},
      "outputs": [],
      "source": [
        "class Agent():\n",
        "    \"\"\"Interacts with and learns from the environment.\"\"\"\n",
        "\n",
        "    def __init__(self):\n",
        "        \"\"\"Initialize an Agent object.\n",
        "        \n",
        "        Params\n",
        "        ======\n",
        "            state_size (int): dimension of each state\n",
        "            action_size (int): dimension of each action\n",
        "            seed (int): random seed\n",
        "        \"\"\"\n",
        "        self.state_size = 8\n",
        "        self.action_size = 4\n",
        "        self.seed = 0 \n",
        "\n",
        "        # Q-Network\n",
        "        self.net = torch.nn.Sequential(\n",
        "            torch.nn.Linear(8,128), # 8은 state_size\n",
        "            torch.nn.ReLU(),\n",
        "            torch.nn.Linear(128,64),\n",
        "            torch.nn.ReLU(),\n",
        "            torch.nn.Linear(64,32),\n",
        "            torch.nn.ReLU(),\n",
        "            torch.nn.Linear(32,4)) # 4는 action_size \n",
        "        self.optimizer = torch.optim.Adam(self.net.parameters(), lr=0.0001)\n",
        "\n",
        "        # Replay memory\n",
        "        self.memory = ReplayBuffer()\n",
        "        # Initialize time step (for updating every UPDATE_EVERY steps)\n",
        "        self.t_step = 0\n",
        "    \n",
        "    def step(self, state, action, reward, next_state, done):\n",
        "        # Save experience in replay memory\n",
        "        self.memory.add(state, action, reward, next_state, done)\n",
        "        \n",
        "        # If enough samples are available in memory, get random subset and learn\n",
        "        if len(self.memory) > BATCH_SIZE:\n",
        "            experiences = self.memory.sample()\n",
        "            self.learn(experiences, GAMMA)\n",
        "\n",
        "    def act(self, state, eps=0.):\n",
        "        \"\"\"Returns actions for given state as per current policy.\n",
        "        \n",
        "        Params\n",
        "        ======\n",
        "            state (array_like): current state\n",
        "            eps (float): epsilon, for epsilon-greedy action selection\n",
        "        \"\"\"\n",
        "        state = torch.from_numpy(state).float().unsqueeze(0)\n",
        "        action_values = self.net(state)            \n",
        "\n",
        "        if random.random() > eps:\n",
        "            return np.argmax(action_values.data.numpy())\n",
        "        else:\n",
        "            return random.choice(np.arange(self.action_size))\n",
        "        \n",
        "\n",
        "    def learn(self, experiences, gamma):\n",
        "        \"\"\"Update value parameters using given batch of experience tuples.\n",
        "\n",
        "        Params\n",
        "        ======\n",
        "            experiences (Tuple[torch.Variable]): tuple of (s, a, r, s', done) tuples \n",
        "            gamma (float): discount factor\n",
        "        \"\"\"\n",
        "        # Obtain random minibatch of tuples from D\n",
        "        states, actions, rewards, next_states, dones = experiences\n",
        "\n",
        "        ## Compute and minimize the loss\n",
        "        q_targets_next = self.net(next_states).detach().max(1)[0].unsqueeze(1)\n",
        "        q_targets = rewards + gamma * q_targets_next * (1 - dones)\n",
        "\n",
        "        ### Calculate expected value from local network\n",
        "        q_expected = self.net(states).gather(1, actions)\n",
        "        \n",
        "        loss = torch.nn.functional.mse_loss(q_expected, q_targets)\n",
        "        \n",
        "        self.optimizer.zero_grad()\n",
        "        loss.backward()\n",
        "        self.optimizer.step()"
      ],
      "id": "c49a25ee-704b-4740-bebd-7094be91b017"
    },
    {
      "cell_type": "code",
      "execution_count": 9,
      "metadata": {},
      "outputs": [],
      "source": [
        "env = gym.make('LunarLander-v2',render_mode='rgb_array')"
      ],
      "id": "c830a694-474a-4a1c-ae53-b7641a1d8199"
    },
    {
      "cell_type": "code",
      "execution_count": 10,
      "metadata": {},
      "outputs": [],
      "source": [
        "agent = Agent()"
      ],
      "id": "aa5593c2-9b04-4395-80ba-01f7a2b06c7b"
    },
    {
      "cell_type": "code",
      "execution_count": 11,
      "metadata": {},
      "outputs": [
        {
          "output_type": "stream",
          "name": "stdout",
          "text": [
            "Episode 100 Average Score: -145.92  Playtime: 108.96\n",
            "Episode 200 Average Score: -23.36   Playtime: 139.995\n",
            "Episode 300 Average Score: 97.01    Playtime: 155.116\n",
            "Episode 393 Average Score: 200.63   Playtime: 192.80\n",
            "Environment solved in 393 episodes! Average Score: 200.63"
          ]
        }
      ],
      "source": [
        "n_episodes = 2000\n",
        "max_t = 500\n",
        "eps_start = 1.0 \n",
        "eps_end = 0.01 \n",
        "eps_decay = 0.995\n",
        "\n",
        "playtimes=[] \n",
        "scores = []                        # list containing scores from each episode\n",
        "scores_window = collections.deque(maxlen=100)  # last 100 scores\n",
        "eps = eps_start                    # initialize epsilon\n",
        "for i_episode in range(1, n_episodes+1):\n",
        "    state, _  = env.reset()\n",
        "    score = 0\n",
        "    for t in range(max_t):\n",
        "        ## STEP1: \n",
        "        action = agent.act(state, eps)\n",
        "        \n",
        "        ## STEP2: \n",
        "        next_state, reward, done, _, _ = env.step(action)\n",
        "        \n",
        "        ## STEP3: \n",
        "        agent.step(state, action, reward, next_state, done)\n",
        "        \n",
        "        ## STEP4: \n",
        "        state = next_state\n",
        "        \n",
        "        ## STEP5: \n",
        "        score += reward\n",
        "        \n",
        "        if done:\n",
        "            playtimes.append(t)\n",
        "            break \n",
        "    scores_window.append(score)       # save most recent score\n",
        "    scores.append(score)              # save most recent score\n",
        "    eps = max(eps_end, eps_decay*eps) # decrease epsilon\n",
        "    print('\\rEpisode {}\\tAverage Score: {:.2f}\\tPlaytime: {:.2f}'.format(i_episode, np.mean(scores_window), np.mean(playtimes)), end=\"\")\n",
        "    if i_episode % 100 == 0:\n",
        "        print('\\rEpisode {}\\tAverage Score: {:.2f}\\tPlaytime: {:.2f}'.format(i_episode, np.mean(scores_window), np.mean(playtimes)))\n",
        "        torch.save(agent.net.state_dict(), 'checkpoint.pth')\n",
        "    if np.mean(scores_window)>=200.0:\n",
        "        print('\\nEnvironment solved in {:d} episodes!\\tAverage Score: {:.2f}'.format(i_episode, np.mean(scores_window)))\n",
        "        torch.save(agent.net.state_dict(), 'checkpoint.pth')\n",
        "        break"
      ],
      "id": "257c0219-24e5-4248-b556-ec337c3e2bba"
    },
    {
      "cell_type": "code",
      "execution_count": 12,
      "metadata": {},
      "outputs": [
        {
          "output_type": "display_data",
          "metadata": {},
          "data": {
            "image/png": "[encoded data removed]"
          }
        }
      ],
      "source": [
        "plt.plot(scores)\n",
        "plt.ylabel('Score')\n",
        "plt.xlabel('Episode #')"
      ],
      "id": "947da12d-25bb-4344-93ba-74ae6128b40c"
    },
    {
      "cell_type": "code",
      "execution_count": 15,
      "metadata": {},
      "outputs": [],
      "source": [
        "frames = []\n",
        "agent = Agent()\n",
        "agent.net.load_state_dict(torch.load('checkpoint.pth'))\n",
        "state,_ = env.reset()\n",
        "done = False\n",
        "while not done:\n",
        "    frames.append(env.render())\n",
        "    action = agent.act(state)\n",
        "    state, reward, done, _,_ = env.step(action)\n",
        "env.close()"
      ],
      "id": "9167a4fc-eacc-4d38-a02a-2eb4c16d1b54"
    },
    {
      "cell_type": "code",
      "execution_count": 16,
      "metadata": {},
      "outputs": [
        {
          "output_type": "display_data",
          "metadata": {},
          "data": {
            "image/png": "[encoded data removed]"
          }
        }
      ],
      "source": [
        "fig, ax = plt.subplots()\n",
        "ani = FuncAnimation(fig,lambda i: ax.imshow(frames[::10][i]),frames=len(frames[::10]))"
      ],
      "id": "b3da118e-a108-43ea-9b04-a2ecdb2f46ed"
    },
    {
      "cell_type": "markdown",
      "metadata": {},
      "source": [
        "`-` 방법1"
      ],
      "id": "c726df2e-de97-4b7c-805e-27757d8e707c"
    },
    {
      "cell_type": "code",
      "execution_count": 17,
      "metadata": {},
      "outputs": [],
      "source": [
        "# ani.save('LunarLander-v2.mp4', writer='ffmpeg', fps=15, extra_args=['-vcodec', 'mpeg4'])"
      ],
      "id": "8c6cea37-ee98-4f62-81d2-fd3269c9633e"
    },
    {
      "cell_type": "markdown",
      "metadata": {},
      "source": [
        "`-` 방법2"
      ],
      "id": "ac880162-290a-4070-8664-2135e4ab5f10"
    },
    {
      "cell_type": "code",
      "execution_count": 18,
      "metadata": {},
      "outputs": [],
      "source": [
        "IPython.display.HTML(ani.to_jshtml())"
      ],
      "id": "718bb991-4268-43ae-bc96-724027a32fe9"
    },
    {
      "cell_type": "markdown",
      "metadata": {},
      "source": [
        "# 1 experience\n",
        "\n",
        "## test"
      ],
      "id": "4c97fa41-4963-418b-ac82-71cd92c79740"
    },
    {
      "cell_type": "code",
      "execution_count": 2,
      "metadata": {},
      "outputs": [],
      "source": [
        "env = gym.make('LunarLander-v2',render_mode='rgb_array')"
      ],
      "id": "6bcc10ee-ab05-4c4b-bd9d-31e41589b0ed"
    },
    {
      "cell_type": "code",
      "execution_count": 3,
      "metadata": {},
      "outputs": [],
      "source": [
        "net = torch.nn.Sequential(\n",
        "    torch.nn.Linear(8,128), # 8은 state_size\n",
        "    torch.nn.ReLU(),\n",
        "    torch.nn.Linear(128,64),\n",
        "    torch.nn.ReLU(),\n",
        "    torch.nn.Linear(64,32),\n",
        "    torch.nn.ReLU(),\n",
        "    torch.nn.Linear(32,4)) # 4는 action_size "
      ],
      "id": "fc5d6c2f-62f6-4c18-9aa9-d74fe6cdec9e"
    },
    {
      "cell_type": "code",
      "execution_count": 4,
      "metadata": {},
      "outputs": [],
      "source": [
        "optimizr = torch.optim.Adam(net.parameters(), lr=0.0001)"
      ],
      "id": "b0e76d24-126d-488e-a707-2d6b362c343f"
    },
    {
      "cell_type": "code",
      "execution_count": 5,
      "metadata": {},
      "outputs": [],
      "source": [
        "current_state, _ = env.reset()"
      ],
      "id": "ebbf8a81-d516-4467-8e30-9cae3335363a"
    },
    {
      "cell_type": "code",
      "execution_count": 6,
      "metadata": {},
      "outputs": [],
      "source": [
        "current_state"
      ],
      "id": "dbb956c7-4ab6-4b53-8b36-709ed5a56c3a"
    },
    {
      "cell_type": "code",
      "execution_count": 7,
      "metadata": {},
      "outputs": [],
      "source": [
        "net(torch.tensor(current_state))"
      ],
      "id": "24dc91e3-4e52-4124-98c2-a4993fafc4e9"
    },
    {
      "cell_type": "code",
      "execution_count": 8,
      "metadata": {},
      "outputs": [],
      "source": [
        "_action1 = net(torch.tensor(current_state)).argmax().item()\n",
        "_action1"
      ],
      "id": "423b0a6a-e886-4a0d-b5ef-01750e1243f9"
    },
    {
      "cell_type": "code",
      "execution_count": 9,
      "metadata": {},
      "outputs": [],
      "source": [
        "_action2 = random.choice([0,1,2,3])\n",
        "_action2 "
      ],
      "id": "d70a6432-45b9-494c-96dc-e5234db34979"
    },
    {
      "cell_type": "code",
      "execution_count": 10,
      "metadata": {},
      "outputs": [],
      "source": [
        "act = lambda state, eps: net(torch.tensor(state)).argmax().item() if eps < random.random() else random.choice([0,1,2,3])"
      ],
      "id": "12e7c24a-9c66-4b6b-b24b-d051873ba5a7"
    },
    {
      "cell_type": "code",
      "execution_count": 11,
      "metadata": {},
      "outputs": [],
      "source": [
        "[act(current_state,0.95) for i in range(20)]"
      ],
      "id": "386818ad-6021-4508-84bc-b7818438f08b"
    },
    {
      "cell_type": "code",
      "execution_count": 12,
      "metadata": {},
      "outputs": [],
      "source": [
        "[act(current_state,0.1) for i in range(20)]"
      ],
      "id": "5b9bb022-5337-46ea-8c85-f01d2c307a95"
    },
    {
      "cell_type": "code",
      "execution_count": 13,
      "metadata": {},
      "outputs": [],
      "source": [
        "action = act(current_state,0.05)"
      ],
      "id": "4a054672-aa0f-4ca8-a6c6-fe897918eed1"
    },
    {
      "cell_type": "code",
      "execution_count": 14,
      "metadata": {},
      "outputs": [],
      "source": [
        "next_state, reward, terminated, truncated, info = env.step(action)"
      ],
      "id": "eb0d099b-42d3-4713-8818-8c5ca885a413"
    },
    {
      "cell_type": "code",
      "execution_count": 15,
      "metadata": {},
      "outputs": [],
      "source": [
        "net(torch.tensor(next_state))"
      ],
      "id": "33ba2c3b-113e-48d4-81bc-b1b8aef78e3e"
    },
    {
      "cell_type": "code",
      "execution_count": 16,
      "metadata": {},
      "outputs": [],
      "source": [
        "reward"
      ],
      "id": "830809de-1c5e-4cd7-a9dc-23738dc7c2e1"
    },
    {
      "cell_type": "code",
      "execution_count": 17,
      "metadata": {},
      "outputs": [],
      "source": [
        "qvalue_next_state = net(torch.tensor(next_state)).data.max().item()\n",
        "qvalue_next_state"
      ],
      "id": "998ceb02-ef70-4d41-a449-2022dde984ab"
    },
    {
      "cell_type": "code",
      "execution_count": 18,
      "metadata": {},
      "outputs": [],
      "source": [
        "reward + 0.99 * qvalue_next_state"
      ],
      "id": "7f14fe35-1a91-49a2-8349-cd613d499ace"
    },
    {
      "cell_type": "code",
      "execution_count": 19,
      "metadata": {},
      "outputs": [],
      "source": [
        "qvalue_current_state = net(torch.tensor(current_state)).max()\n",
        "qvalue_current_state"
      ],
      "id": "ed4ff100-e0f4-40e9-8887-6f91effc7443"
    },
    {
      "cell_type": "code",
      "execution_count": 20,
      "metadata": {},
      "outputs": [],
      "source": [
        "loss = torch.mean((qvalue_current_state - (reward + 0.99 * qvalue_next_state))**2)"
      ],
      "id": "bea447fc-770c-42e9-8865-3124cfd6749a"
    },
    {
      "cell_type": "code",
      "execution_count": 21,
      "metadata": {},
      "outputs": [],
      "source": [
        "loss.backward()"
      ],
      "id": "b848a267-d269-4928-9b1a-2a8eb16cfb77"
    },
    {
      "cell_type": "code",
      "execution_count": 22,
      "metadata": {},
      "outputs": [],
      "source": [
        "optimizr.step()"
      ],
      "id": "d78423bd-f57e-487d-a68d-ee1a379d95af"
    },
    {
      "cell_type": "code",
      "execution_count": 23,
      "metadata": {},
      "outputs": [],
      "source": [
        "net(torch.tensor(current_state))"
      ],
      "id": "ceba2626-3e67-4cde-af20-b5917ae17df9"
    },
    {
      "cell_type": "markdown",
      "metadata": {},
      "source": [
        "## 코드정리\n",
        "\n",
        "### env $\\to$ agent: current_state"
      ],
      "id": "b447cff5-31b6-465e-b880-43ebc2808a4a"
    },
    {
      "cell_type": "code",
      "execution_count": 24,
      "metadata": {},
      "outputs": [],
      "source": [
        "current_state, _ = env.reset()\n",
        "current_state"
      ],
      "id": "b6a5db55-c445-43a9-be72-024ec6a3dbfe"
    },
    {
      "cell_type": "markdown",
      "metadata": {},
      "source": [
        "### agent $\\to$ env: action"
      ],
      "id": "8a977162-e932-4eaa-8340-0abfed3cdb44"
    },
    {
      "cell_type": "code",
      "execution_count": 25,
      "metadata": {},
      "outputs": [],
      "source": [
        "act = lambda state, eps: net(torch.tensor(state)).argmax().item() if eps < random.random() else random.choice([0,1,2,3])"
      ],
      "id": "73b07571-97fb-4911-b4b5-205b78dc75eb"
    },
    {
      "cell_type": "code",
      "execution_count": 26,
      "metadata": {},
      "outputs": [],
      "source": [
        "action = act(current_state,0.05)\n",
        "action"
      ],
      "id": "70030ed7-50d2-4dc7-b152-bd2977b25db7"
    },
    {
      "cell_type": "markdown",
      "metadata": {},
      "source": [
        "### env $\\to$ agent: reward,next_state"
      ],
      "id": "d46f5bb5-1abb-4b3e-8d06-20e01b21e6a2"
    },
    {
      "cell_type": "code",
      "execution_count": 27,
      "metadata": {},
      "outputs": [],
      "source": [
        "next_state, reward, terminated, truncated, info = env.step(action)"
      ],
      "id": "a4c0248d-dce5-4f50-a1c9-73fe03e69b71"
    },
    {
      "cell_type": "code",
      "execution_count": 28,
      "metadata": {},
      "outputs": [],
      "source": [
        "net(torch.tensor(next_state))"
      ],
      "id": "cb3989ad-9bd9-41c3-b38b-5653b946e77d"
    },
    {
      "cell_type": "code",
      "execution_count": 29,
      "metadata": {},
      "outputs": [],
      "source": [
        "reward"
      ],
      "id": "4113ba48-7fa5-4f5a-848e-d78ba50f95bf"
    },
    {
      "cell_type": "markdown",
      "metadata": {},
      "source": [
        "### agent: update ($q$-value generating) network"
      ],
      "id": "3be6179c-f9fc-4d68-a701-bbbaca775288"
    },
    {
      "cell_type": "code",
      "execution_count": 30,
      "metadata": {},
      "outputs": [],
      "source": [
        "qvalue_current_state = net(torch.tensor(current_state))[action]\n",
        "qvalue_next_state = net(torch.tensor(next_state)).max().data\n",
        "reward2 = reward + 0.99 * qvalue_next_state \n",
        "loss = torch.mean((qvalue_current_state - reward2)**2)"
      ],
      "id": "8df6b467-6f4f-49c2-b5e3-fb2bcd96cc4e"
    },
    {
      "cell_type": "code",
      "execution_count": 31,
      "metadata": {},
      "outputs": [],
      "source": [
        "loss.backward()"
      ],
      "id": "ada1c12a-8e26-4b02-8324-58a61426b795"
    },
    {
      "cell_type": "code",
      "execution_count": 32,
      "metadata": {},
      "outputs": [],
      "source": [
        "optimizr.step()"
      ],
      "id": "f8047c98-532f-41bf-8414-e9f27a712dae"
    },
    {
      "cell_type": "markdown",
      "metadata": {},
      "source": [
        "# 리플레이버퍼사용"
      ],
      "id": "8476fe0d-8bf8-41d7-8bd5-ab5d158f7122"
    },
    {
      "cell_type": "code",
      "execution_count": 33,
      "metadata": {},
      "outputs": [],
      "source": [
        "current_state_history = collections.deque(maxlen=50000)\n",
        "action_history = collections.deque(maxlen=50000)\n",
        "next_state_history = collections.deque(maxlen=50000)\n",
        "terminated_history = collections.deque(maxlen=50000)\n",
        "reward_history = collections.deque(maxlen=50000)\n",
        "qvalue_current_state_history = collections.deque(maxlen=50000)\n",
        "qvalue_next_state_history = collections.deque(maxlen=50000)"
      ],
      "id": "b4691e27-3f5e-4fba-8b43-3fc7ca17ac20"
    },
    {
      "cell_type": "markdown",
      "metadata": {},
      "source": [
        "## episode=1"
      ],
      "id": "292d1130-be30-4a52-be9c-5561de10bff7"
    },
    {
      "cell_type": "code",
      "execution_count": 34,
      "metadata": {},
      "outputs": [],
      "source": [
        "### env -> agent: current_state\n",
        "current_state, _ = env.reset()\n",
        "current_state_history.append(current_state)\n",
        "current_state_history\n",
        "\n",
        "### agent -> env: action\n",
        "act = lambda state, eps: net(torch.tensor(state)).argmax().item() if eps < random.random() else random.choice([0,1,2,3])\n",
        "action = act(current_state,1)\n",
        "action_history.append(action)\n",
        "action_history\n",
        "\n",
        "### env -> agent: reward,next_state\n",
        "next_state, reward, terminated, truncated, info = env.step(action)\n",
        "next_state_history.append(next_state)\n",
        "reward_history.append(reward)\n",
        "terminated_history.append(terminated)\n",
        "\n",
        "### agent: update ($q$-value generating) network\n",
        "qvalue_current_state = net(torch.tensor(current_state))[action]\n",
        "qvalue_current_state_history.append(qvalue_current_state)\n",
        "qvalue_next_state = net(torch.tensor(next_state)).max().data\n",
        "qvalue_next_state_history.append(qvalue_next_state)\n",
        "#reward2 = reward + (0.99 * qvalue_next_state)*(~torch.tensor(terminated))\n",
        "#loss = torch.mean((qvalue_current_state - reward2)**2)"
      ],
      "id": "3e38f455-99d3-40de-aa55-301243f31c8a"
    },
    {
      "cell_type": "markdown",
      "metadata": {},
      "source": [
        "## episode=2~100 정도까지 데이터를 쌓자"
      ],
      "id": "cb1b7e47-cbef-48c1-bdca-575671a09089"
    },
    {
      "cell_type": "code",
      "execution_count": 35,
      "metadata": {},
      "outputs": [],
      "source": [
        "playtimes = [] \n",
        "scores = [] \n",
        "\n",
        "for e in range(100):\n",
        "    current_state, _ = env.reset()\n",
        "    eps = 1 \n",
        "    score = 0 \n",
        "    for t in range(500):        \n",
        "        current_state = next_state ## 수정\n",
        "        current_state_history.append(current_state)\n",
        "        \n",
        "        ### agent -> env: action\n",
        "        act = lambda state, eps: net(torch.tensor(state)).argmax().item() if eps < random.random() else random.choice([0,1,2,3])\n",
        "        action = act(current_state,eps)\n",
        "        action_history.append(action)\n",
        "        \n",
        "        ### env -> agent: reward,next_state\n",
        "        next_state, reward, terminated, truncated, info = env.step(action)\n",
        "        next_state_history.append(next_state)\n",
        "        reward_history.append(reward)\n",
        "        terminated_history.append(terminated)\n",
        "\n",
        "        ### agent: update ($q$-value generating) network\n",
        "        qvalue_current_state = net(torch.tensor(current_state))[action]\n",
        "        qvalue_current_state_history.append(qvalue_current_state)\n",
        "        qvalue_next_state = net(torch.tensor(next_state)).max().data\n",
        "        qvalue_next_state_history.append(qvalue_next_state)        \n",
        "\n",
        "        ### recore score \n",
        "        score = score + reward\n",
        "\n",
        "        ### check terminated         \n",
        "        if terminated:\n",
        "            playtimes.append(t)\n",
        "            scores.append(score) \n",
        "            break"
      ],
      "id": "512dbab6-2e25-4ff5-8980-b46537d668c4"
    },
    {
      "cell_type": "markdown",
      "metadata": {},
      "source": [
        "(loss계산을 위한 테스트코드)"
      ],
      "id": "09797602-d861-4915-859b-693ed5699a63"
    },
    {
      "cell_type": "code",
      "execution_count": 36,
      "metadata": {},
      "outputs": [],
      "source": [
        "idx = np.random.randint(0,len(current_state_history),size=128) \n",
        "current_state_sampled = torch.tensor(np.array(current_state_history)[idx],dtype=torch.float32)\n",
        "actions_sampled = torch.tensor(np.array(action_history)[idx],dtype=torch.int64)\n",
        "reward_sampled = torch.tensor(np.array(reward_history)[idx],dtype=torch.float32)\n",
        "next_state_sampled = torch.tensor(np.array(next_state_history)[idx],dtype=torch.float32)\n",
        "terminated_sampled = torch.tensor(np.array(terminated_history)[idx],dtype=torch.int64)"
      ],
      "id": "2f3ce81f-b748-4013-aa91-b79c2f4678f3"
    },
    {
      "cell_type": "code",
      "execution_count": 37,
      "metadata": {},
      "outputs": [],
      "source": [
        "actions_sampled"
      ],
      "id": "54df37db-daeb-48fb-8d5b-4e9793296e60"
    },
    {
      "cell_type": "code",
      "execution_count": 38,
      "metadata": {},
      "outputs": [],
      "source": [
        "qvalue_current_state = net(current_state_sampled).gather(1,actions_sampled.reshape(-1,1)).reshape(-1)\n",
        "qvalue_next_state = net(next_state_sampled).max(axis=1)[0].detach()\n",
        "loss_fn = torch.nn.MSELoss() \n",
        "loss = loss_fn(qvalue_current_state, reward_sampled + (0.99 * qvalue_next_state)*(1-terminated_sampled))"
      ],
      "id": "5103e93c-03c3-4c0c-9309-0fbdb5f4eb04"
    },
    {
      "cell_type": "code",
      "execution_count": 39,
      "metadata": {},
      "outputs": [],
      "source": [
        "loss"
      ],
      "id": "883ac29e-3ad2-479d-aac5-856733e7feeb"
    },
    {
      "cell_type": "code",
      "execution_count": 40,
      "metadata": {},
      "outputs": [],
      "source": [
        "optimizr.step()"
      ],
      "id": "46ed2175-c2e5-41ca-93eb-060052f5e3f2"
    },
    {
      "cell_type": "markdown",
      "metadata": {},
      "source": [
        "# 최종알고리즘"
      ],
      "id": "ef49080e-d1ce-4cba-9182-b5583071a584"
    },
    {
      "cell_type": "code",
      "execution_count": 41,
      "metadata": {},
      "outputs": [],
      "source": [
        "current_state_history = collections.deque(maxlen=500*20)\n",
        "action_history = collections.deque(maxlen=500*20)\n",
        "next_state_history = collections.deque(maxlen=500*20)\n",
        "terminated_history = collections.deque(maxlen=500*20)\n",
        "reward_history = collections.deque(maxlen=500*20)    \n",
        "def save(): \n",
        "    current_state_history.append(current_state)\n",
        "    action_history.append(action)\n",
        "    next_state_history.append(next_state)\n",
        "    reward_history.append(reward)\n",
        "    terminated_history.append(terminated)    \n",
        "def sample():\n",
        "    idx = np.random.randint(0,len(current_state_history),size=1) \n",
        "    current_state_sampled = torch.tensor(np.array(current_state_history)[idx],dtype=torch.float32)\n",
        "    actions_sampled = torch.tensor(np.array(action_history)[idx],dtype=torch.int64)\n",
        "    reward_sampled = torch.tensor(np.array(reward_history)[idx],dtype=torch.float32)\n",
        "    next_state_sampled = torch.tensor(np.array(next_state_history)[idx],dtype=torch.float32)\n",
        "    terminated_sampled = torch.tensor(np.array(terminated_history)[idx],dtype=torch.int64)\n",
        "    return current_state_sampled, actions_sampled, reward_sampled, next_state_sampled, terminated_sampled"
      ],
      "id": "5640b8d2-ad15-4e28-9652-9686b61e4821"
    },
    {
      "cell_type": "code",
      "execution_count": 42,
      "metadata": {},
      "outputs": [],
      "source": [
        "torch.manual_seed(43052)\n",
        "net = torch.nn.Sequential(\n",
        "    torch.nn.Linear(8,128), # 8은 state_size\n",
        "    torch.nn.ReLU(),\n",
        "    torch.nn.Linear(128,64),\n",
        "    torch.nn.ReLU(),\n",
        "    torch.nn.Linear(64,32),\n",
        "    torch.nn.ReLU(),\n",
        "    torch.nn.Linear(32,4)) # 4는 action_size \n",
        "\n",
        "optimizr = torch.optim.Adam(net.parameters(), lr=0.0001)\n",
        "\n",
        "loss_fn = torch.nn.MSELoss() \n",
        "act = lambda state, eps: net(torch.tensor(state)).argmax().item() if eps < random.random() else random.choice([0,1,2,3])"
      ],
      "id": "4795fee7-35c4-431e-a453-8bc276cea4ad"
    },
    {
      "cell_type": "code",
      "execution_count": 43,
      "metadata": {},
      "outputs": [
        {
          "output_type": "stream",
          "name": "stdout",
          "text": [
            "Episode 0   Average Score: -262.47  Playtime: 68.00 Experience: 69\n",
            "Episode 78  Average Score: -98.32   Playtime: 62.32 Experience: 50021Episode 100    Average Score: -132.78  Playtime: 64.05 Experience: 6574\n",
            "Episode 120 Average Score: -163.03  Playtime: 69.24 Experience: 8386"
          ]
        },
        {
          "output_type": "stream",
          "name": "stderr",
          "text": [
            "/home/cgb2/anaconda3/envs/torch/lib/python3.11/site-packages/torch/nn/modules/loss.py:536: UserWarning: Using a target size (torch.Size([1])) that is different to the input size (torch.Size([1, 1])). This will likely lead to incorrect results due to broadcasting. Please ensure they have the same size.\n",
            "  return F.mse_loss(input, target, reduction=self.reduction)"
          ]
        }
      ],
      "source": [
        "playtimes = [] \n",
        "scores = [] \n",
        "eps = 1 \n",
        "for e in range(2000):\n",
        "    eps = eps*0.995\n",
        "    current_state, _ = env.reset(seed=0)\n",
        "    score = 0\n",
        "    for t in range(500):\n",
        "            \n",
        "        ### agent -> env: action\n",
        "        action = act(current_state,eps)\n",
        "        \n",
        "        ### env -> agent: reward,next_state\n",
        "        next_state, reward, terminated, truncated, info = env.step(action)\n",
        "\n",
        "        ### save\n",
        "        save()\n",
        "        ### agnet: update network\n",
        "        if len(current_state_history) > 5000:         \n",
        "            #### step1: prepare data\n",
        "            current_state_sampled, actions_sampled, reward_sampled, next_state_sampled, terminated_sampled = sample()\n",
        "            #### step2: loss \n",
        "            qvalue_current_state = net(current_state_sampled).gather(1,actions_sampled.reshape(-1,1))\n",
        "            qvalue_next_state = net(next_state_sampled).max(axis=1)[0].detach()           \n",
        "            loss = loss_fn(qvalue_current_state, reward_sampled + 0.99 * qvalue_next_state * (1-terminated_sampled))\n",
        "            #### step3: backward \n",
        "            loss.backward()        \n",
        "            #### step4: update \n",
        "            optimizr.step()        \n",
        "        \n",
        "        ### recore score \n",
        "        score = score + reward\n",
        "        \n",
        "        ### check terminated \n",
        "        if terminated:\n",
        "            playtimes.append(t)\n",
        "            scores.append(score) \n",
        "            break\n",
        "        ### \n",
        "        current_state = next_state\n",
        "        \n",
        "    print('\\rEpisode {}\\tAverage Score: {:.2f}\\tPlaytime: {:.2f}\\tExperience: {}'.format(e, np.mean(scores[-100:]), np.mean(playtimes[-100:]),len(current_state_history)), end=\"\")\n",
        "    if e % 100 == 0:\n",
        "        print('\\rEpisode {}\\tAverage Score: {:.2f}\\tPlaytime: {:.2f}'.format(e, np.mean(scores[-100:]), np.mean(playtimes[-100:])))\n",
        "        #torch.save(agent.network.state_dict(), 'checkpoint.pth')"
      ],
      "id": "db4cfc57-ee5a-40a0-95ff-cb192607cf80"
    }
  ],
  "nbformat": 4,
  "nbformat_minor": 5,
  "metadata": {
    "kernelspec": {
      "name": "python3",
      "display_name": "Python 3 (ipykernel)",
      "language": "python"
    },
    "language_info": {
      "name": "python",
      "codemirror_mode": {
        "name": "ipython",
        "version": "3"
      },
      "file_extension": ".py",
      "mimetype": "text/x-python",
      "nbconvert_exporter": "python",
      "pygments_lexer": "ipython3",
      "version": "3.11.4"
    }
  }
}