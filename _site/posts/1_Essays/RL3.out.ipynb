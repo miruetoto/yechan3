{
  "cells": [
    {
      "cell_type": "markdown",
      "metadata": {},
      "source": [
        "# **\\[Essays\\]** 강화학습 v3\n",
        "\n",
        "신록예찬  \n",
        "2023-08-08"
      ],
      "id": "fb03ea99-0b4c-4a98-b38d-f5ad692a4dc1"
    },
    {
      "cell_type": "code",
      "execution_count": 6,
      "metadata": {},
      "outputs": [],
      "source": [
        "import gymnasium as gym\n",
        "import numpy as np\n",
        "import matplotlib.pyplot as plt\n",
        "from matplotlib.animation import FuncAnimation\n",
        "import torch \n",
        "import collections\n",
        "import IPython\n",
        "import random"
      ],
      "id": "c1236c41-f8e1-4f62-bb06-9d1a67c88159"
    },
    {
      "cell_type": "code",
      "execution_count": 7,
      "metadata": {},
      "outputs": [],
      "source": [
        "env = gym.make('LunarLander-v2',render_mode='rgb_array')"
      ],
      "id": "6bcc10ee-ab05-4c4b-bd9d-31e41589b0ed"
    },
    {
      "cell_type": "code",
      "execution_count": 8,
      "metadata": {},
      "outputs": [],
      "source": [
        "class QNetwork(torch.nn.Module):\n",
        "    \"\"\"Actor (Policy) Model.\"\"\"\n",
        "\n",
        "    def __init__(self, state_size, action_size, seed):\n",
        "        \"\"\"Initialize parameters and build model.\n",
        "        Params\n",
        "        ======\n",
        "            state_size (int): Dimension of each state\n",
        "            action_size (int): Dimension of each action\n",
        "            seed (int): Random seed\n",
        "        \"\"\"\n",
        "        super(QNetwork, self).__init__()\n",
        "        self.seed = torch.manual_seed(seed)\n",
        "        self.layer1 = torch.nn.Linear(state_size, 128)\n",
        "        self.layer2 = torch.nn.Linear(128, 64)\n",
        "        self.layer3 = torch.nn.Linear(64, 32)\n",
        "        self.layer4 = torch.nn.Linear(32, action_size)\n",
        "        \n",
        "    def forward(self, state):\n",
        "        \"\"\"Build a network that maps state -> action values.\"\"\"\n",
        "        x = torch.nn.functional.relu(self.layer1(state))        \n",
        "        x = torch.nn.functional.relu(self.layer2(x))\n",
        "        x = torch.nn.functional.relu(self.layer3(x))\n",
        "        x = self.layer4(x)\n",
        "        return x"
      ],
      "id": "5543a3a5-856f-4498-a75e-93aa6f2fa3d1"
    },
    {
      "cell_type": "code",
      "execution_count": 9,
      "metadata": {},
      "outputs": [],
      "source": [
        "BUFFER_SIZE = 10000   # replay buffer size\n",
        "BATCH_SIZE = 128     # minibatch size\n",
        "GAMMA = 0.99          # discount factor\n",
        "TAU = 0.000           # for soft update of target parameters\n",
        "LR = 0.0001           # learning rate \n",
        "UPDATE_EVERY = 1      # how often to update the network"
      ],
      "id": "d491891e-dc6c-4a02-aa64-9a938cbc5b20"
    },
    {
      "cell_type": "code",
      "execution_count": 10,
      "metadata": {},
      "outputs": [],
      "source": [
        "device = torch.device(\"cuda:0\" if torch.cuda.is_available() else \"cpu\")"
      ],
      "id": "ce5d13b1-1cb5-4660-b9bf-261f016fc372"
    },
    {
      "cell_type": "code",
      "execution_count": 11,
      "metadata": {},
      "outputs": [],
      "source": [
        "class ReplayBuffer:\n",
        "    \"\"\"Fixed-size buffer to store experience tuples.\"\"\"\n",
        "\n",
        "    def __init__(self, action_size, buffer_size, batch_size, seed):\n",
        "        \"\"\"Initialize a ReplayBuffer object.\n",
        "\n",
        "        Params\n",
        "        ======\n",
        "            action_size (int): dimension of each action\n",
        "            buffer_size (int): maximum size of buffer\n",
        "            batch_size (int): size of each training batch\n",
        "            seed (int): random seed\n",
        "        \"\"\"\n",
        "        self.action_size = action_size\n",
        "        self.memory = collections.deque(maxlen=buffer_size)  \n",
        "        self.batch_size = batch_size\n",
        "        self.experience = collections.namedtuple(\"Experience\", field_names=[\"state\", \"action\", \"reward\", \"next_state\", \"done\"])\n",
        "        self.seed = random.seed(seed)\n",
        "    \n",
        "    def add(self, state, action, reward, next_state, done):\n",
        "        \"\"\"Add a new experience to memory.\"\"\"\n",
        "        e = self.experience(state, action, reward, next_state, done)\n",
        "        self.memory.append(e)\n",
        "    \n",
        "    def sample(self):\n",
        "        \"\"\"Randomly sample a batch of experiences from memory.\"\"\"\n",
        "        experiences = random.sample(self.memory, k=self.batch_size)\n",
        "        \n",
        "        # Convert to torch tensors\n",
        "        states = torch.from_numpy(np.vstack([e.state for e in experiences if e is not None])).float().to(device)\n",
        "        actions = torch.from_numpy(np.vstack([e.action for e in experiences if e is not None])).long().to(device)\n",
        "        rewards = torch.from_numpy(np.vstack([e.reward for e in experiences if e is not None])).float().to(device)\n",
        "        next_states = torch.from_numpy(np.vstack([e.next_state for e in experiences if e is not None])).float().to(device)\n",
        "        \n",
        "        # Convert done from boolean to int\n",
        "        dones = torch.from_numpy(np.vstack([e.done for e in experiences if e is not None]).astype(np.uint8)).float().to(device)        \n",
        "        \n",
        "        return (states, actions, rewards, next_states, dones)\n",
        "\n",
        "    def __len__(self):\n",
        "        \"\"\"Return the current size of internal memory.\"\"\"\n",
        "        return len(self.memory)"
      ],
      "id": "76f462fe-d801-4ebc-8009-8f070b1e30a1"
    },
    {
      "cell_type": "code",
      "execution_count": 12,
      "metadata": {},
      "outputs": [],
      "source": [
        "class Agent():\n",
        "    \"\"\"Interacts with and learns from the environment.\"\"\"\n",
        "\n",
        "    def __init__(self, state_size, action_size, seed):\n",
        "        \"\"\"Initialize an Agent object.\n",
        "        \n",
        "        Params\n",
        "        ======\n",
        "            state_size (int): dimension of each state\n",
        "            action_size (int): dimension of each action\n",
        "            seed (int): random seed\n",
        "        \"\"\"\n",
        "        self.state_size = state_size\n",
        "        self.action_size = action_size\n",
        "\n",
        "        # Q-Network\n",
        "        self.network = QNetwork(state_size, action_size, seed).to(device)\n",
        "        self.optimizer = torch.optim.Adam(self.network.parameters(), lr=LR)\n",
        "\n",
        "        # Replay memory\n",
        "        self.memory = ReplayBuffer(action_size, BUFFER_SIZE, BATCH_SIZE, seed)\n",
        "        # Initialize time step (for updating every UPDATE_EVERY steps)\n",
        "        self.t_step = 0\n",
        "    \n",
        "    def step(self, state, action, reward, next_state, done):\n",
        "        # Save experience in replay memory\n",
        "        self.memory.add(state, action, reward, next_state, done)\n",
        "        \n",
        "        # Learn every UPDATE_EVERY time steps.\n",
        "        self.t_step = (self.t_step + 1) % UPDATE_EVERY\n",
        "        if self.t_step == 0:\n",
        "            # If enough samples are available in memory, get random subset and learn\n",
        "            if len(self.memory) > BATCH_SIZE:\n",
        "                experiences = self.memory.sample()\n",
        "                self.learn(experiences, GAMMA)\n",
        "\n",
        "    def act(self, state, eps=0.):\n",
        "        \"\"\"Returns actions for given state as per current policy.\n",
        "        \n",
        "        Params\n",
        "        ======\n",
        "            state (array_like): current state\n",
        "            eps (float): epsilon, for epsilon-greedy action selection\n",
        "        \"\"\"\n",
        "        state = torch.from_numpy(state).float().unsqueeze(0).to(device)\n",
        "        \n",
        "        \n",
        "        self.network.eval()\n",
        "        with torch.no_grad():\n",
        "            action_values = self.network(state)            \n",
        "        self.network.train()\n",
        "\n",
        "        if random.random() > eps:\n",
        "            return np.argmax(action_values.cpu().data.numpy())\n",
        "        else:\n",
        "            return random.choice(np.arange(self.action_size))\n",
        "        \n",
        "\n",
        "    def learn(self, experiences, gamma):\n",
        "        \"\"\"Update value parameters using given batch of experience tuples.\n",
        "\n",
        "        Params\n",
        "        ======\n",
        "            experiences (Tuple[torch.Variable]): tuple of (s, a, r, s', done) tuples \n",
        "            gamma (float): discount factor\n",
        "        \"\"\"\n",
        "        # Obtain random minibatch of tuples from D\n",
        "        states, actions, rewards, next_states, dones = experiences\n",
        "\n",
        "        ## Compute and minimize the loss\n",
        "        ### Extract next maximum estimated value from target network\n",
        "        q_targets_next = self.network(next_states).detach().max(1)[0].unsqueeze(1)\n",
        "        q_targets = rewards + gamma * q_targets_next * (1 - dones)\n",
        "\n",
        "        ### Calculate expected value from local network\n",
        "        q_expected = self.network(states).gather(1, actions)\n",
        "        \n",
        "        loss = torch.nn.functional.mse_loss(q_expected, q_targets)\n",
        "        \n",
        "        self.optimizer.zero_grad()\n",
        "        loss.backward()\n",
        "        self.optimizer.step()"
      ],
      "id": "c49a25ee-704b-4740-bebd-7094be91b017"
    },
    {
      "cell_type": "code",
      "execution_count": 13,
      "metadata": {},
      "outputs": [],
      "source": [
        "def dqn(n_episodes=2000, max_t=500, eps_start=1.0, eps_end=0.01, eps_decay=0.995):\n",
        "    \"\"\"Deep Q-Learning.\n",
        "    \n",
        "    Params\n",
        "    ======\n",
        "        n_episodes (int): maximum number of training episodes\n",
        "        max_t (int): maximum number of timesteps per episode\n",
        "        eps_start (float): starting value of epsilon, for epsilon-greedy action selection\n",
        "        eps_end (float): minimum value of epsilon\n",
        "        eps_decay (float): multiplicative factor (per episode) for decreasing epsilon\n",
        "    \"\"\"\n",
        "    playtimes=[] \n",
        "    scores = []                        # list containing scores from each episode\n",
        "    scores_window = collections.deque(maxlen=100)  # last 100 scores\n",
        "    eps = eps_start                    # initialize epsilon\n",
        "    for i_episode in range(1, n_episodes+1):\n",
        "        state, _  = env.reset()\n",
        "        score = 0\n",
        "        for t in range(max_t):\n",
        "            ## STEP1: \n",
        "            action = agent.act(state, eps)\n",
        "            \n",
        "            ## STEP2: \n",
        "            next_state, reward, done, _, _ = env.step(action)\n",
        "            \n",
        "            ## STEP3: \n",
        "            agent.step(state, action, reward, next_state, done)\n",
        "            \n",
        "            ## STEP4: \n",
        "            state = next_state\n",
        "            \n",
        "            ## STEP5: \n",
        "            score += reward\n",
        "            \n",
        "            if done:\n",
        "                playtimes.append(t)\n",
        "                break \n",
        "        scores_window.append(score)       # save most recent score\n",
        "        scores.append(score)              # save most recent score\n",
        "        eps = max(eps_end, eps_decay*eps) # decrease epsilon\n",
        "        print('\\rEpisode {}\\tAverage Score: {:.2f}\\tPlaytime: {:.2f}'.format(i_episode, np.mean(scores_window), np.mean(playtimes)), end=\"\")\n",
        "        if i_episode % 100 == 0:\n",
        "            print('\\rEpisode {}\\tAverage Score: {:.2f}\\tPlaytime: {:.2f}'.format(i_episode, np.mean(scores_window), np.mean(playtimes)))\n",
        "            torch.save(agent.network.state_dict(), 'checkpoint.pth')\n",
        "        if np.mean(scores_window)>=200.0:\n",
        "            print('\\nEnvironment solved in {:d} episodes!\\tAverage Score: {:.2f}'.format(i_episode, np.mean(scores_window)))\n",
        "            torch.save(agent.network.state_dict(), 'checkpoint.pth')\n",
        "            break\n",
        "    return scores"
      ],
      "id": "257c0219-24e5-4248-b556-ec337c3e2bba"
    },
    {
      "cell_type": "code",
      "execution_count": 14,
      "metadata": {},
      "outputs": [],
      "source": [
        "env.reset()"
      ],
      "id": "cab211c7-d6db-44a1-810e-13ac2c737483"
    },
    {
      "cell_type": "code",
      "execution_count": 15,
      "metadata": {},
      "outputs": [
        {
          "output_type": "stream",
          "name": "stdout",
          "text": [
            "Episode 100 Average Score: -171.37  Playtime: 134.59\n",
            "Episode 200 Average Score: -38.22   Playtime: 149.288\n",
            "Episode 300 Average Score: -12.14   Playtime: 156.74\n",
            "Episode 400 Average Score: -22.26   Playtime: 162.56\n",
            "Episode 500 Average Score: -31.31   Playtime: 164.03\n",
            "Episode 600 Average Score: -1.29    Playtime: 164.244\n",
            "Episode 700 Average Score: -2.05    Playtime: 164.69\n",
            "Episode 800 Average Score: -16.09   Playtime: 167.33\n",
            "Episode 900 Average Score: -38.92   Playtime: 170.86\n",
            "Episode 1000    Average Score: -8.25    Playtime: 171.00\n",
            "Episode 1100    Average Score: 25.20    Playtime: 173.11\n",
            "Episode 1200    Average Score: 17.86    Playtime: 177.03\n",
            "Episode 1300    Average Score: -1.27    Playtime: 177.14\n",
            "Episode 1400    Average Score: 41.18    Playtime: 178.33\n",
            "Episode 1500    Average Score: 44.24    Playtime: 180.46\n",
            "Episode 1600    Average Score: 42.61    Playtime: 183.16\n",
            "Episode 1700    Average Score: 127.34   Playtime: 214.23\n",
            "Episode 1800    Average Score: 188.72   Playtime: 236.57\n",
            "Episode 1818    Average Score: 201.77   Playtime: 239.26\n",
            "Environment solved in 1818 episodes!    Average Score: 201.77"
          ]
        }
      ],
      "source": [
        "agent = Agent(state_size=8, action_size=4, seed=0)\n",
        "scores = dqn(n_episodes=2000, max_t=500, eps_start=0.03, eps_end=0.03, eps_decay=1)"
      ],
      "id": "195deb01-cff2-4bae-a378-6f3bd94b6b0d"
    },
    {
      "cell_type": "code",
      "execution_count": 16,
      "metadata": {},
      "outputs": [
        {
          "output_type": "display_data",
          "metadata": {},
          "data": {
            "image/png": "[encoded data removed]"
          }
        }
      ],
      "source": [
        "fig = plt.figure()\n",
        "ax = fig.add_subplot(111)\n",
        "plt.plot(np.arange(len(scores)), scores)\n",
        "plt.ylabel('Score')\n",
        "plt.xlabel('Episode #')\n",
        "plt.show()"
      ],
      "id": "947da12d-25bb-4344-93ba-74ae6128b40c"
    },
    {
      "cell_type": "code",
      "execution_count": 17,
      "metadata": {},
      "outputs": [],
      "source": [
        "frames = []\n",
        "agent = Agent(state_size=8, action_size=4, seed=0)\n",
        "agent.network.load_state_dict(torch.load('checkpoint.pth'))\n",
        "state,_ = env.reset()\n",
        "done = False\n",
        "while not done:\n",
        "    frames.append(env.render())\n",
        "    action = agent.act(state)\n",
        "    state, reward, done, _,_ = env.step(action)\n",
        "env.close()"
      ],
      "id": "9167a4fc-eacc-4d38-a02a-2eb4c16d1b54"
    },
    {
      "cell_type": "code",
      "execution_count": 18,
      "metadata": {},
      "outputs": [
        {
          "output_type": "display_data",
          "metadata": {},
          "data": {
            "image/png": "[encoded data removed]"
          }
        }
      ],
      "source": [
        "fig, ax = plt.subplots()\n",
        "ani = FuncAnimation(fig,lambda i: ax.imshow(frames[::10][i]),frames=len(frames[::10]))"
      ],
      "id": "b3da118e-a108-43ea-9b04-a2ecdb2f46ed"
    },
    {
      "cell_type": "code",
      "execution_count": 19,
      "metadata": {},
      "outputs": [],
      "source": [
        "IPython.display.HTML(ani.to_jshtml())"
      ],
      "id": "718bb991-4268-43ae-bc96-724027a32fe9"
    }
  ],
  "nbformat": 4,
  "nbformat_minor": 5,
  "metadata": {
    "kernelspec": {
      "name": "python3",
      "display_name": "Python 3 (ipykernel)",
      "language": "python"
    },
    "language_info": {
      "name": "python",
      "codemirror_mode": {
        "name": "ipython",
        "version": "3"
      },
      "file_extension": ".py",
      "mimetype": "text/x-python",
      "nbconvert_exporter": "python",
      "pygments_lexer": "ipython3",
      "version": "3.11.4"
    }
  }
}