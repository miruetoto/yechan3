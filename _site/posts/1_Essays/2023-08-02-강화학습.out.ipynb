{
  "cells": [
    {
      "cell_type": "markdown",
      "metadata": {},
      "source": [
        "# imports"
      ],
      "id": "038077ab-9b6c-4412-b685-3dda32db0d76"
    },
    {
      "cell_type": "code",
      "execution_count": 88,
      "metadata": {},
      "outputs": [],
      "source": [
        "import gymnasium as gym\n",
        "import numpy as np\n",
        "import matplotlib.pyplot as plt\n",
        "from matplotlib.animation import FuncAnimation\n",
        "import torch \n",
        "import collections\n",
        "import IPython"
      ],
      "id": "df6688cb-b243-4e39-80c3-3886d1481186"
    },
    {
      "cell_type": "markdown",
      "metadata": {},
      "source": [
        "## Game1\n",
        "\n",
        "`-` 문제설명: 두개의 버튼이 있다. 버튼1을 누르면 1의 보상을, 버튼2를\n",
        "누르면 100의 보상을 준다고 가정"
      ],
      "id": "579c7d68-0022-44a7-91b9-33f4eec9e529"
    },
    {
      "cell_type": "code",
      "execution_count": 2,
      "metadata": {},
      "outputs": [],
      "source": [
        "action = np.random.choice(['button1','button2'])\n",
        "action"
      ],
      "id": "d771a51a-0733-42df-bf20-b06444164b35"
    },
    {
      "cell_type": "code",
      "execution_count": 3,
      "metadata": {},
      "outputs": [],
      "source": [
        "if action == 'button1': \n",
        "    reward = 1 \n",
        "else:\n",
        "    reward = 100"
      ],
      "id": "97ab8e9f-5d74-4600-bbc9-64ed47fec6d9"
    },
    {
      "cell_type": "code",
      "execution_count": 4,
      "metadata": {},
      "outputs": [
        {
          "output_type": "stream",
          "name": "stdout",
          "text": [
            "button1 1\n",
            "button2 100\n",
            "button2 100\n",
            "button2 100\n",
            "button2 100\n",
            "button1 1\n",
            "button2 100\n",
            "button1 1\n",
            "button1 1\n",
            "button1 1"
          ]
        }
      ],
      "source": [
        "for _ in range(10):\n",
        "    action = np.random.choice(['button1','button2'])\n",
        "    if action == 'button1': \n",
        "        reward = 1 \n",
        "    else:\n",
        "        reward = 100\n",
        "    print(action,reward)"
      ],
      "id": "afb693ba-a1f0-4886-88f2-093c8c632cbb"
    },
    {
      "cell_type": "markdown",
      "metadata": {},
      "source": [
        "`-` 게임을 푸는 방법? 버튼2를 누른다.\n",
        "\n",
        "`-` 용어 정리 - Agent = 버튼을 누르는 사람 - Action = 에이전트가 할 수\n",
        "있는 행동 (현재는 2개의 action이 가능) - Env = Agent의 action을 보고\n",
        "reward를 주는 존재 - 게임의 종료 = 버튼을 누르면 게임이 종료 - 게임을\n",
        "푸는 방법 = reward를 최대화하는 action을 선택\n",
        "\n",
        "## Game2\n",
        "\n",
        "`-` 문제설명: 에이전트는 현재 0의 위치에 있다. 에이전트는 (1) 정지 (2)\n",
        "왼쪽으로 이동 (3) 오른쪽으로 이동 하는 3개의 행동을 할 수 있다.\n",
        "에이전트가 +2의 위치에 도달하면 100의 보상을 얻고 게임이 종료된다.\n",
        "에이전트가 -2의 위치에 도달하면 보상없이 게임이 종료된다.\n",
        "\n",
        "`-` 에이전트와 환경의 상호작용 구현1"
      ],
      "id": "a35a8812-1390-4690-83f5-987bb9016f71"
    },
    {
      "cell_type": "code",
      "execution_count": 5,
      "metadata": {},
      "outputs": [],
      "source": [
        "state = 0"
      ],
      "id": "d753194b-c29d-408d-bbb4-6e82d6455be7"
    },
    {
      "cell_type": "code",
      "execution_count": 6,
      "metadata": {},
      "outputs": [],
      "source": [
        "action = np.random.choice([-1,0,1])"
      ],
      "id": "49be0f5a-2337-454b-ae5b-973628356a35"
    },
    {
      "cell_type": "code",
      "execution_count": 7,
      "metadata": {},
      "outputs": [
        {
          "output_type": "stream",
          "name": "stdout",
          "text": [
            "0 1"
          ]
        }
      ],
      "source": [
        "print(state,action)"
      ],
      "id": "13527401-e8e7-4ded-be35-f6b25c83bc41"
    },
    {
      "cell_type": "code",
      "execution_count": 8,
      "metadata": {},
      "outputs": [
        {
          "output_type": "stream",
          "name": "stdout",
          "text": [
            "0 1\n",
            "1 1\n",
            "2\n",
            "2의 위치에 도달, 보상 200점 획득"
          ]
        }
      ],
      "source": [
        "for _ in range(9): \n",
        "    if state == 2:\n",
        "        print(state)\n",
        "        reward = 200         \n",
        "        print(\"2의 위치에 도달, 보상 {}점 획득\".format(reward))\n",
        "        break \n",
        "    elif state == -2:\n",
        "        print(state)\n",
        "        reward = 0 \n",
        "        print(\"-2의 위치에 도달, 보상 {}점 획득\".format(reward))\n",
        "        break\n",
        "    else:\n",
        "        print(state,action)\n",
        "        state = state + action \n",
        "        action = np.random.choice([-1,0,1])"
      ],
      "id": "1e6c4ab7-15e9-491e-8b44-392491213600"
    },
    {
      "cell_type": "markdown",
      "metadata": {},
      "source": [
        "`-` 에이전트와 환경의 상호작용 구현2"
      ],
      "id": "8925dece-1fdb-49fb-a172-c76621243682"
    },
    {
      "cell_type": "code",
      "execution_count": 9,
      "metadata": {},
      "outputs": [],
      "source": [
        "observation_space = gym.spaces.Discrete(5,start=-2)"
      ],
      "id": "982dc58a-b969-4086-8f3a-994467a0899e"
    },
    {
      "cell_type": "code",
      "execution_count": 10,
      "metadata": {},
      "outputs": [],
      "source": [
        "observation_space.sample()"
      ],
      "id": "33b84075-ad4f-4d8f-8757-9332ffc45b30"
    },
    {
      "cell_type": "code",
      "execution_count": 11,
      "metadata": {},
      "outputs": [],
      "source": [
        "observation_space.shape"
      ],
      "id": "9addcb23-27b9-4fb5-82ac-8386337054cf"
    },
    {
      "cell_type": "code",
      "execution_count": 12,
      "metadata": {},
      "outputs": [],
      "source": [
        "observation_space.contains(-3),observation_space.contains(-2)"
      ],
      "id": "fc7b0d94-3fff-44dc-be2a-6cdded371de0"
    },
    {
      "cell_type": "code",
      "execution_count": 13,
      "metadata": {},
      "outputs": [],
      "source": [
        "action_space = gym.spaces.Discrete(3,start=-1)"
      ],
      "id": "44a3bacd-7fe7-4988-9edc-ac37d5e59dd4"
    },
    {
      "cell_type": "code",
      "execution_count": 14,
      "metadata": {},
      "outputs": [],
      "source": [
        "action_space"
      ],
      "id": "d03dd2d8-470d-4099-aad5-76bb3c4a208b"
    },
    {
      "cell_type": "code",
      "execution_count": 15,
      "metadata": {},
      "outputs": [],
      "source": [
        "class Game2(gym.Env):\n",
        "    def __init__(self):\n",
        "        self.action_space = gym.spaces.Discrete(3,start=-1) # Acition = {-1,0,1}  \n",
        "        self.observation_space = gym.spaces.Discrete(5,start=-2) # State = {-2,-1,0,1,2} \n",
        "        self.state = 0 \n",
        "        self.t = 0\n",
        "    def step(self,action):\n",
        "        self.state = self.state + action\n",
        "        self.t = self.t + 1 \n",
        "        if self.state == 2:\n",
        "            reward = 100\n",
        "        else:\n",
        "            reward = -1\n",
        "        info = {}\n",
        "        if self.state == -2 or self.state==2: \n",
        "            done = True\n",
        "        else: \n",
        "            done = False\n",
        "        return self.state, reward, terminated, truncated, info\n",
        "    def render(self):\n",
        "        print('state: {}'.format(self.state))\n",
        "    def reset(self):\n",
        "        self.state = 0 \n",
        "        return self.state"
      ],
      "id": "943478ae-efb4-461e-9ec8-47b48c1050bf"
    },
    {
      "cell_type": "code",
      "execution_count": 16,
      "metadata": {},
      "outputs": [],
      "source": [
        "env=Game2()"
      ],
      "id": "fa6c4fa4-f2bc-416d-9b2d-e635cfcff6ab"
    },
    {
      "cell_type": "markdown",
      "metadata": {},
      "source": [
        "## Game3"
      ],
      "id": "aa76c48e-bcce-4c46-9188-efe9193b0f4e"
    },
    {
      "cell_type": "code",
      "execution_count": 17,
      "metadata": {},
      "outputs": [],
      "source": [
        "import numpy as np\n",
        "import pygame\n",
        "\n",
        "import gymnasium as gym\n",
        "from gymnasium import spaces\n",
        "\n",
        "\n",
        "class GridWorldEnv(gym.Env):\n",
        "    metadata = {\"render_modes\": [\"human\", \"rgb_array\"], \"render_fps\": 4}\n",
        "\n",
        "    def __init__(self, render_mode=None, size=5):\n",
        "        self.size = size  # The size of the square grid\n",
        "        self.window_size = 512  # The size of the PyGame window\n",
        "\n",
        "        # Observations are dictionaries with the agent's and the target's location.\n",
        "        # Each location is encoded as an element of {0, ..., `size`}^2, i.e. MultiDiscrete([size, size]).\n",
        "        self.observation_space = spaces.Dict(\n",
        "            {\n",
        "                \"agent\": spaces.Box(0, size - 1, shape=(2,), dtype=int),\n",
        "                \"target\": spaces.Box(0, size - 1, shape=(2,), dtype=int),\n",
        "            }\n",
        "        )\n",
        "\n",
        "        # We have 4 actions, corresponding to \"right\", \"up\", \"left\", \"down\"\n",
        "        self.action_space = spaces.Discrete(4)\n",
        "\n",
        "        \"\"\"\n",
        "        The following dictionary maps abstract actions from `self.action_space` to\n",
        "        the direction we will walk in if that action is taken.\n",
        "        I.e. 0 corresponds to \"right\", 1 to \"up\" etc.\n",
        "        \"\"\"\n",
        "        self._action_to_direction = {\n",
        "            0: np.array([1, 0]),\n",
        "            1: np.array([0, 1]),\n",
        "            2: np.array([-1, 0]),\n",
        "            3: np.array([0, -1]),\n",
        "        }\n",
        "\n",
        "        assert render_mode is None or render_mode in self.metadata[\"render_modes\"]\n",
        "        self.render_mode = render_mode\n",
        "\n",
        "        \"\"\"\n",
        "        If human-rendering is used, `self.window` will be a reference\n",
        "        to the window that we draw to. `self.clock` will be a clock that is used\n",
        "        to ensure that the environment is rendered at the correct framerate in\n",
        "        human-mode. They will remain `None` until human-mode is used for the\n",
        "        first time.\n",
        "        \"\"\"\n",
        "        self.window = None\n",
        "        self.clock = None\n",
        "    def _get_obs(self):\n",
        "        return {\"agent\": self._agent_location, \"target\": self._target_location}        \n",
        "    def _get_info(self):\n",
        "        return {\n",
        "            \"distance\": np.linalg.norm(\n",
        "                self._agent_location - self._target_location, ord=1\n",
        "            )\n",
        "        }\n",
        "    def reset(self, seed=None, options=None):\n",
        "        # We need the following line to seed self.np_random\n",
        "        super().reset(seed=seed)\n",
        "    \n",
        "        # Choose the agent's location uniformly at random\n",
        "        self._agent_location = self.np_random.integers(0, self.size, size=2, dtype=int)\n",
        "    \n",
        "        # We will sample the target's location randomly until it does not coincide with the agent's location\n",
        "        self._target_location = self._agent_location\n",
        "        while np.array_equal(self._target_location, self._agent_location):\n",
        "            self._target_location = self.np_random.integers(\n",
        "                0, self.size, size=2, dtype=int\n",
        "            )\n",
        "    \n",
        "        observation = self._get_obs()\n",
        "        info = self._get_info()\n",
        "    \n",
        "        if self.render_mode == \"human\":\n",
        "            self._render_frame()\n",
        "    \n",
        "        return observation, info\n",
        "    def step(self, action):\n",
        "        # Map the action (element of {0,1,2,3}) to the direction we walk in\n",
        "        direction = self._action_to_direction[action]\n",
        "        # We use `np.clip` to make sure we don't leave the grid\n",
        "        self._agent_location = np.clip(\n",
        "            self._agent_location + direction, 0, self.size - 1\n",
        "        )\n",
        "        # An episode is done iff the agent has reached the target\n",
        "        terminated = np.array_equal(self._agent_location, self._target_location)\n",
        "        reward = 1 if terminated else 0  # Binary sparse rewards\n",
        "        observation = self._get_obs()\n",
        "        info = self._get_info()\n",
        "    \n",
        "        if self.render_mode == \"human\":\n",
        "            self._render_frame()\n",
        "    \n",
        "        return observation, reward, terminated, False, info\n",
        "    def render(self):\n",
        "        if self.render_mode == \"rgb_array\":\n",
        "            return self._render_frame()\n",
        "    \n",
        "    def _render_frame(self):\n",
        "        if self.window is None and self.render_mode == \"human\":\n",
        "            pygame.init()\n",
        "            pygame.display.init()\n",
        "            self.window = pygame.display.set_mode(\n",
        "                (self.window_size, self.window_size)\n",
        "            )\n",
        "        if self.clock is None and self.render_mode == \"human\":\n",
        "            self.clock = pygame.time.Clock()\n",
        "    \n",
        "        canvas = pygame.Surface((self.window_size, self.window_size))\n",
        "        canvas.fill((255, 255, 255))\n",
        "        pix_square_size = (\n",
        "            self.window_size / self.size\n",
        "        )  # The size of a single grid square in pixels\n",
        "    \n",
        "        # First we draw the target\n",
        "        pygame.draw.rect(\n",
        "            canvas,\n",
        "            (255, 0, 0),\n",
        "            pygame.Rect(\n",
        "                pix_square_size * self._target_location,\n",
        "                (pix_square_size, pix_square_size),\n",
        "            ),\n",
        "        )\n",
        "        # Now we draw the agent\n",
        "        pygame.draw.circle(\n",
        "            canvas,\n",
        "            (0, 0, 255),\n",
        "            (self._agent_location + 0.5) * pix_square_size,\n",
        "            pix_square_size / 3,\n",
        "        )\n",
        "    \n",
        "        # Finally, add some gridlines\n",
        "        for x in range(self.size + 1):\n",
        "            pygame.draw.line(\n",
        "                canvas,\n",
        "                0,\n",
        "                (0, pix_square_size * x),\n",
        "                (self.window_size, pix_square_size * x),\n",
        "                width=3,\n",
        "            )\n",
        "            pygame.draw.line(\n",
        "                canvas,\n",
        "                0,\n",
        "                (pix_square_size * x, 0),\n",
        "                (pix_square_size * x, self.window_size),\n",
        "                width=3,\n",
        "            )\n",
        "    \n",
        "        if self.render_mode == \"human\":\n",
        "            # The following line copies our drawings from `canvas` to the visible window\n",
        "            self.window.blit(canvas, canvas.get_rect())\n",
        "            pygame.event.pump()\n",
        "            pygame.display.update()\n",
        "    \n",
        "            # We need to ensure that human-rendering occurs at the predefined framerate.\n",
        "            # The following line will automatically add a delay to keep the framerate stable.\n",
        "            self.clock.tick(self.metadata[\"render_fps\"])\n",
        "        else:  # rgb_array\n",
        "            return np.transpose(\n",
        "                np.array(pygame.surfarray.pixels3d(canvas)), axes=(1, 0, 2)\n",
        "            )\n",
        "    def close(self):\n",
        "        if self.window is not None:\n",
        "            pygame.display.quit()\n",
        "            pygame.quit()            "
      ],
      "id": "a94554fe-b0f9-4bc0-b7a5-dba900312a36"
    },
    {
      "cell_type": "code",
      "execution_count": 18,
      "metadata": {},
      "outputs": [],
      "source": [
        "env = GridWorldEnv()"
      ],
      "id": "ab3800a3-6937-497c-9f5a-62cc76d265b6"
    },
    {
      "cell_type": "code",
      "execution_count": 19,
      "metadata": {},
      "outputs": [],
      "source": [
        "env.observation_space"
      ],
      "id": "851fe51b-44aa-41bb-a2d4-94fd2eb67423"
    },
    {
      "cell_type": "code",
      "execution_count": 20,
      "metadata": {},
      "outputs": [],
      "source": [
        "env.action_space"
      ],
      "id": "63c56269-14b1-406d-bf37-27f4773ac2ac"
    },
    {
      "cell_type": "markdown",
      "metadata": {},
      "source": [
        "## Game4: LunarLander\n",
        "\n",
        "### 환경만들기\n",
        "\n",
        "`-` 환경을 만드는 방법은 아래와 같다."
      ],
      "id": "03aabef6-d570-4034-801d-2fee4763f375"
    },
    {
      "cell_type": "code",
      "execution_count": 113,
      "metadata": {},
      "outputs": [],
      "source": [
        "env = gym.make('LunarLander-v2',render_mode='rgb_array')"
      ],
      "id": "3e085d50-9d39-4e75-9151-843deb6ee4e6"
    },
    {
      "cell_type": "markdown",
      "metadata": {},
      "source": [
        "`-` 환경에 대한 기본 정보를 조사하여 보자."
      ],
      "id": "3fe4edd3-5424-4a06-9f4a-fb2e8c9fb1b9"
    },
    {
      "cell_type": "code",
      "execution_count": 114,
      "metadata": {},
      "outputs": [],
      "source": [
        "env.observation_space"
      ],
      "id": "49e5d1b8-e68d-41da-9c08-26530b8fdacd"
    },
    {
      "cell_type": "code",
      "execution_count": 115,
      "metadata": {},
      "outputs": [],
      "source": [
        "env.action_space"
      ],
      "id": "cfde2681-4846-4aa0-87ce-66333cd7485a"
    },
    {
      "cell_type": "markdown",
      "metadata": {},
      "source": [
        "### 환경관찰\n",
        "\n",
        "`-` 환경관찰"
      ],
      "id": "09b707b2-cf17-4e3b-bab0-0b4ee0104449"
    },
    {
      "cell_type": "code",
      "execution_count": 116,
      "metadata": {},
      "outputs": [],
      "source": [
        "env.reset()"
      ],
      "id": "35312d3e-1276-4895-b94a-224a0053089b"
    },
    {
      "cell_type": "code",
      "execution_count": 121,
      "metadata": {},
      "outputs": [],
      "source": [
        "env.step(0) # observation, reward, terminated, truncated, info"
      ],
      "id": "9fa82115-7a62-4916-b62c-76548737af76"
    },
    {
      "cell_type": "markdown",
      "metadata": {},
      "source": [
        "`-` action"
      ],
      "id": "1f917f29-896f-43b3-be29-4ffa17eaadf5"
    },
    {
      "cell_type": "code",
      "execution_count": 122,
      "metadata": {},
      "outputs": [],
      "source": [
        "env.action_space.sample()"
      ],
      "id": "37dafca5-cbbc-4b88-96a7-a180f77d9023"
    },
    {
      "cell_type": "markdown",
      "metadata": {},
      "source": [
        "-   int형으로 전달\n",
        "\n",
        "`-` action -\\> nextstate, reward, done"
      ],
      "id": "ffcd95fa-04dd-479a-8922-092f5d43a25d"
    },
    {
      "cell_type": "code",
      "execution_count": 123,
      "metadata": {},
      "outputs": [],
      "source": [
        "env.step(env.action_space.sample())"
      ],
      "id": "23f3049d-0c1d-438f-8fcc-3854ee723c10"
    },
    {
      "cell_type": "code",
      "execution_count": 124,
      "metadata": {},
      "outputs": [],
      "source": [
        "frames = []\n",
        "env.reset()\n",
        "for _ in range(300):\n",
        "    frames.append(env.render())\n",
        "    env.step(env.action_space.sample())\n",
        "env.close()"
      ],
      "id": "3cb75d3b-016b-42ce-8497-93120341a230"
    },
    {
      "cell_type": "code",
      "execution_count": 125,
      "metadata": {},
      "outputs": [
        {
          "output_type": "display_data",
          "metadata": {},
          "data": {
            "image/png": "[encoded data removed]"
          }
        }
      ],
      "source": [
        "fig, ax = plt.subplots()\n",
        "ani = FuncAnimation(fig,lambda i: ax.imshow(frames[::10][i]),frames=len(frames[::10]))"
      ],
      "id": "9ceab5f9-1e5a-457b-8464-20c9db84d769"
    },
    {
      "cell_type": "code",
      "execution_count": 126,
      "metadata": {},
      "outputs": [],
      "source": [
        "# !conda install -c conda-forge ffmpeg"
      ],
      "id": "bd4071f6-8541-46c2-8120-4e6fe196bf09"
    },
    {
      "cell_type": "code",
      "execution_count": 127,
      "metadata": {},
      "outputs": [],
      "source": [
        "IPython.display.HTML(ani.to_jshtml())"
      ],
      "id": "6fad79d6-2d16-49d1-b425-d2f7ad74896d"
    },
    {
      "cell_type": "markdown",
      "metadata": {},
      "source": [
        "### Replay Buffer\n",
        "\n",
        "`-` 랜덤액션을 연속적으로 생성하고 그 결과를 기록해보자."
      ],
      "id": "d346f551-7087-47ff-9dd3-2f51baeb06ce"
    },
    {
      "cell_type": "code",
      "execution_count": 334,
      "metadata": {},
      "outputs": [],
      "source": [
        "states = []\n",
        "actions = []\n",
        "rewards = []\n",
        "next_states = []\n",
        "terminateds = []"
      ],
      "id": "ae71b487-9754-4f06-ba45-2acb2bdefda4"
    },
    {
      "cell_type": "code",
      "execution_count": 335,
      "metadata": {},
      "outputs": [],
      "source": [
        "_state1, _ = env.reset()\n",
        "for t in range(1500):\n",
        "    _action = env.action_space.sample() \n",
        "    _state2, _reward, _terminated, _truncated, _info = env.step(_action)\n",
        "    ## save code \n",
        "    states.append(_state1) \n",
        "    actions.append(_action)\n",
        "    rewards.append(_reward)\n",
        "    next_states.append(_state2)\n",
        "    terminateds.append(_terminated)\n",
        "    ## save code end \n",
        "    _state1 = _state2 \n",
        "    if _terminated:\n",
        "        break"
      ],
      "id": "6b950bc8-0ae9-461e-ba22-0e9e6139c4db"
    },
    {
      "cell_type": "code",
      "execution_count": 336,
      "metadata": {},
      "outputs": [],
      "source": [
        "env.reset()"
      ],
      "id": "58710491-4c49-4740-9823-818daf83d927"
    },
    {
      "cell_type": "code",
      "execution_count": 337,
      "metadata": {},
      "outputs": [],
      "source": [
        "env.step(_action)"
      ],
      "id": "01bdd075-1288-480b-aa1e-8204da75bf53"
    },
    {
      "cell_type": "markdown",
      "metadata": {},
      "source": [
        "`-` 모인 히스토리를 확인해보자."
      ],
      "id": "24ca7c8b-ed4f-4ac1-9696-2767e3a8b36e"
    },
    {
      "cell_type": "code",
      "execution_count": 338,
      "metadata": {},
      "outputs": [],
      "source": [
        "len(states), len(actions), len(next_states), len(rewards), len(terminateds)"
      ],
      "id": "58524369-1817-4ee5-84ae-b05dfb323b81"
    },
    {
      "cell_type": "markdown",
      "metadata": {},
      "source": [
        "### Qnetwork 설계\n",
        "\n",
        "`-` 네트워크의 목적: 내가 여기서 뭘 해야하는지 알려줘! = 내가 이\n",
        "상태에서, 어떠한 액션을 해야하는지 알려줘 $\\to$ 8개의 상태를 입력으로\n",
        "받으면 4개의 액션에 대한 좋은 정도를 숫자로 표현하는 어떠한 함수를\n",
        "만들자.\n",
        "\n",
        "`-` net 설계"
      ],
      "id": "78af1e1b-74ca-4d91-8f75-2b8dc6ac825c"
    },
    {
      "cell_type": "code",
      "execution_count": 339,
      "metadata": {},
      "outputs": [],
      "source": [
        "net = torch.nn.Sequential(\n",
        "    torch.nn.Linear(in_features=8, out_features=128),\n",
        "    torch.nn.ReLU(),\n",
        "    torch.nn.Linear(in_features=128, out_features=64),\n",
        "    torch.nn.ReLU(),\n",
        "    torch.nn.Linear(in_features=64, out_features=32),\n",
        "    torch.nn.ReLU(),\n",
        "    torch.nn.Linear(in_features=32, out_features=4)\n",
        ")\n",
        "net"
      ],
      "id": "54860fb4-9cbd-4aab-9ce7-d716d07e0e7d"
    },
    {
      "cell_type": "code",
      "execution_count": 340,
      "metadata": {},
      "outputs": [],
      "source": [
        "net(torch.tensor(states))"
      ],
      "id": "ab62e365-d629-42c6-91e0-f492ff3a99d0"
    },
    {
      "cell_type": "markdown",
      "metadata": {},
      "source": [
        "### Policy 설계\n",
        "\n",
        "`-` 네트워크의 의미"
      ],
      "id": "fc207a9e-ea4c-433d-8848-0e87b3698179"
    },
    {
      "cell_type": "code",
      "execution_count": 341,
      "metadata": {},
      "outputs": [],
      "source": [
        "states[0],states[1]"
      ],
      "id": "78306592-ca58-4621-8e21-1acd4941278a"
    },
    {
      "cell_type": "code",
      "execution_count": 342,
      "metadata": {},
      "outputs": [],
      "source": [
        "net(torch.tensor(states[0:2]))"
      ],
      "id": "4ba397f6-33b6-429c-b718-321f69c1f765"
    },
    {
      "cell_type": "markdown",
      "metadata": {},
      "source": [
        "-   상태0에서는 액션0이, 상태1에서도 액션0이 가장 좋다는 의미 (왜?\n",
        "    q-value가 젤 높으니까..)\n",
        "\n",
        "`-` 따라서 Agent는 아래와 같이 행동해야 한다. (네트워크가 잘\n",
        "학습되었다는 전제가 필요함) - state\\[0\\] -\\> action = 0 - state\\[1\\] -\\>\n",
        "action = 0"
      ],
      "id": "f06d5438-f991-4c94-9bd8-9a0541bb9d0d"
    },
    {
      "cell_type": "code",
      "execution_count": 343,
      "metadata": {},
      "outputs": [],
      "source": [
        "net(torch.tensor(states[0:2])).max(axis=1)"
      ],
      "id": "5b630b0e-bf3b-48a3-bce5-7fd135237ef5"
    },
    {
      "cell_type": "code",
      "execution_count": 344,
      "metadata": {},
      "outputs": [],
      "source": [
        "net(torch.tensor(states[0:2])).max(axis=1)[1]"
      ],
      "id": "4cbfbbec-8253-46de-8a60-de5ae1bb8e19"
    },
    {
      "cell_type": "markdown",
      "metadata": {},
      "source": [
        "`-` 네트워크가 있으므로 이제 어떠한 state에 대해서도 뭘 해야할지 (=어떤\n",
        "액션을 해야할지) 알 수 있다."
      ],
      "id": "4591b6e3-5f48-45aa-886d-185a16537a89"
    },
    {
      "cell_type": "code",
      "execution_count": 347,
      "metadata": {},
      "outputs": [],
      "source": [
        "_state1 # 어떤 state에 대해서도.. "
      ],
      "id": "5f604754-d57a-41b4-a1cb-387cd21a4311"
    },
    {
      "cell_type": "code",
      "execution_count": 348,
      "metadata": {},
      "outputs": [],
      "source": [
        "int(torch.argmax(net(torch.tensor(_state1)))) # 그래서 다음에 우리가 어떤행동을 해야할 지 알 수 있음"
      ],
      "id": "7beb3de0-1ead-4e15-b15d-4ca6be971d75"
    },
    {
      "cell_type": "markdown",
      "metadata": {},
      "source": [
        "### 학습\n",
        "\n",
        "`-` 네트워크를 학습시키자."
      ],
      "id": "963badae-d99e-406a-b274-08ad25189108"
    },
    {
      "cell_type": "code",
      "execution_count": 353,
      "metadata": {},
      "outputs": [],
      "source": [
        "net"
      ],
      "id": "2c71eee5-de1f-41c9-ab1b-23a8ba923a18"
    },
    {
      "cell_type": "code",
      "execution_count": 379,
      "metadata": {},
      "outputs": [],
      "source": [
        "scores=[]\n",
        "playtimes=[] \n",
        "eps = 0\n",
        "opt = torch.optim.Adam(net.parameters(),lr=0.01)"
      ],
      "id": "9e0e9cba-2f10-4f55-bc0a-d20a6177725c"
    },
    {
      "cell_type": "code",
      "execution_count": 380,
      "metadata": {},
      "outputs": [
        {
          "output_type": "stream",
          "name": "stdout",
          "text": [
            "Episode 100 Score: -387.24  Playtime: 80.000\n",
            "Episode 200 Score: -290.72  Playtime: 61.000\n",
            "Episode 300 Score: -290.32  Playtime: 82.0000\n",
            "Episode 400 Score: -321.50  Playtime: 158.00\n",
            "Episode 500 Score: -345.35  Playtime: 78.0000\n",
            "Episode 600 Score: -347.79  Playtime: 56.0000\n",
            "Episode 700 Score: -187.64  Playtime: 61.000\n",
            "Episode 800 Score: -206.72  Playtime: 51.000\n",
            "Episode 900 Score: -242.74  Playtime: 82.0000\n",
            "Episode 1000    Score: -270.24  Playtime: 172.00\n",
            "Episode 1100    Score: -239.00  Playtime: 88.0000\n",
            "Episode 1200    Score: -256.10  Playtime: 136.00\n",
            "Episode 1300    Score: -261.52  Playtime: 77.000\n",
            "Episode 1400    Score: -310.77  Playtime: 110.00\n",
            "Episode 1500    Score: -443.30  Playtime: 99.0000\n",
            "Episode 1600    Score: -553.26  Playtime: 68.0000\n",
            "Episode 1700    Score: -571.14  Playtime: 51.000\n",
            "Episode 1800    Score: -592.59  Playtime: 82.0000\n",
            "Episode 1900    Score: -606.76  Playtime: 66.0000\n",
            "Episode 2000    Score: -679.92  Playtime: 83.0000"
          ]
        }
      ],
      "source": [
        "for epsd in range(1,2001): # 게임 2000판 시켜줌.. \n",
        "    state1,_  = env.reset() # 환경리셋 + 초기화된 환경을 state라는 변수에 저장 \n",
        "    score = 0 \n",
        "    for t in range(1000): # 게임1판당 max 1000프레임만 할 수 있음\n",
        "        action = int(torch.argmax(net(torch.tensor(state1)))) # 네트워크가 알려주는 action을 뽑음 \n",
        "        \n",
        "        # (step2) Agent -> Env // Env -> Agent \n",
        "        state2, reward, terminated, truncated, info = env.step(action) # 액션을 환경에 전달 -> (next_state, reward, done) 을 받음 \n",
        "        \n",
        "        # (step3) Agnet: save data and learn \n",
        "        ## save data \n",
        "        states.append(state1)\n",
        "        actions.append(action)\n",
        "        rewards.append(reward)\n",
        "        next_states.append(state2)\n",
        "        terminateds.append(terminated)\n",
        "    \n",
        "        ## 최근 500개의 자료만 준비함. \n",
        "        if len(states)>500:\n",
        "            _states = torch.tensor(states[-500:])\n",
        "            _actions = torch.tensor(actions[-500:]).reshape(-1,1)\n",
        "            _next_states = torch.tensor(next_states[-500:])\n",
        "            _rewards = torch.tensor(rewards[-500:]).reshape(-1,1)\n",
        "            _terminateds = torch.tensor(terminateds[-500:]).to(torch.float).reshape(-1,1) \n",
        "        else:\n",
        "            _states = torch.tensor(states)\n",
        "            _actions = torch.tensor(actions).reshape(-1,1)\n",
        "            _next_states = torch.tensor(next_states)\n",
        "            _rewards = torch.tensor(rewards).reshape(-1,1)\n",
        "            _terminateds = torch.tensor(terminateds).to(torch.float).reshape(-1,1)\n",
        "\n",
        "        ## 최근 50000개의 자료에서 8개를 임의로 추출함. \n",
        "        _n = len(_states)\n",
        "        _index = np.random.choice(_n,64) # 128 is batch_size \n",
        "        _states = _states[_index]\n",
        "        _actions = _actions[_index]\n",
        "        _next_states = _next_states[_index]\n",
        "        _rewards = _rewards[_index]\n",
        "        _terminateds = _terminateds[_index]\n",
        "        \n",
        "        ## leanrn with pytorch \n",
        "        yhat = net(_states).gather(1,_actions).squeeze() ## (s,a) -> q(s,a) // 내가 현재상태 state에서, 현재 action을 하여 얻을 것이라 예상하는 보상 (net가 알려주는) \n",
        "        y = _rewards.squeeze() #+ 0.99 * net(_next_states).detach().max(1)[0] * (1-_terminateds.squeeze()) ## 그런데 실제로는 이게 맞다고 봐야지~ \n",
        "        loss = torch.mean((y-yhat)**2)\n",
        "        loss.backward()\n",
        "        opt.step()\n",
        "        opt.zero_grad()\n",
        "\n",
        "        # (step4) Agent: prepare next steps \n",
        "        state1 = state2  \n",
        "        #eps = max(0.05, 0.99*eps) \n",
        "        score = score + reward\n",
        "        \n",
        "        # terminate \n",
        "        if terminated:\n",
        "            scores.append(score)\n",
        "            playtimes.append(t)\n",
        "            break\n",
        "            \n",
        "    print('\\rEpisode {}\\tScore: {:.2f}\\tPlaytime: {:.2f}'.format(epsd, scores[-1],playtimes[-1]), end=\"\")\n",
        "    if epsd % 100 == 0:\n",
        "        print('\\rEpisode {}\\tScore: {:.2f}\\tPlaytime: {:.2f}'.format(epsd, np.mean(scores[-100:]),np.mean(playtimes[-100])))"
      ],
      "id": "5c18836f-283b-4455-828b-847dec289dfe"
    },
    {
      "cell_type": "code",
      "execution_count": null,
      "metadata": {
        "tags": []
      },
      "outputs": [],
      "source": [
        "# for epsd in range(1,2001): # 게임 2000판 시켜줌.. \n",
        "#     state1,_  = env.reset() # 환경리셋 + 초기화된 환경을 state라는 변수에 저장 \n",
        "#     score = 0 \n",
        "#     for t in range(1000): # 게임1판당 max 1000프레임만 할 수 있음\n",
        "#         # (step1) Agent: action \n",
        "#         if np.random.rand() < eps: \n",
        "#             action = env.action_space.sample() # 랜덤액션을 뽑음 \n",
        "#         else:\n",
        "#             action = int(torch.argmax(net(torch.tensor(state1).to(\"cuda:0\")))) # 네트워크가 알려주는 action을 뽑음 \n",
        "        \n",
        "#         # (step2) Agent -> Env // Env -> Agent \n",
        "#         state2, reward, terminated, truncated, info = env.step(action) # 액션을 환경에 전달 -> (next_state, reward, done) 을 받음 \n",
        "        \n",
        "#         # (step3) Agnet: save data and learn \n",
        "#         ## save data \n",
        "#         states.append(state1)\n",
        "#         actions.append(action)\n",
        "#         rewards.append(reward)\n",
        "#         next_states.append(state2)\n",
        "#         terminateds.append(terminated)\n",
        "    \n",
        "#         ## 최근 50000개의 자료만 준비함. \n",
        "#         if len(states)>50000:\n",
        "#             _states = torch.tensor(states[-50000:])\n",
        "#             _actions = torch.tensor(actions[-50000:]).reshape(-1,1)\n",
        "#             _next_states = torch.tensor(next_states[-50000:])\n",
        "#             _rewards = torch.tensor(rewards[-50000:]).reshape(-1,1)\n",
        "#             _terminateds = torch.tensor(terminateds[-50000:]).to(torch.float).reshape(-1,1) \n",
        "#         else:\n",
        "#             _states = torch.tensor(states)\n",
        "#             _actions = torch.tensor(actions).reshape(-1,1)\n",
        "#             _next_states = torch.tensor(next_states)\n",
        "#             _rewards = torch.tensor(rewards).reshape(-1,1)\n",
        "#             _terminateds = torch.tensor(terminateds).to(torch.float).reshape(-1,1)\n",
        "\n",
        "#         ## 최근 50000개의 자료에서 128개를 임의로 추출함. \n",
        "#         _n = len(_states)\n",
        "#         _index = np.random.choice(_n,128) # 128 is batch_size \n",
        "#         _states = _states[_index]\n",
        "#         _actions = _actions[_index]\n",
        "#         _next_states = _next_states[_index]\n",
        "#         _rewards = _rewards[_index]\n",
        "#         _terminateds = _terminateds[_index]\n",
        "        \n",
        "#         ## GPU로 이동 \n",
        "#         _states = _states.to(\"cuda:0\")\n",
        "#         _actions = _actions.to(\"cuda:0\")\n",
        "#         _next_states = _next_states.to(\"cuda:0\")\n",
        "#         _rewards = _rewards.to(\"cuda:0\")\n",
        "#         _terminateds = _terminateds.to(\"cuda:0\")\n",
        "        \n",
        "#         ## leanrn with pytorch \n",
        "#         yhat = net(_states).gather(1,_actions) ## (s,a) -> q(s,a) // 내가 현재상태 state에서, 현재 action을 하여 얻을 것이라 예상하는 보상 (net가 알려주는) \n",
        "#         y = _rewards + 0.99 * net(_next_states).detach().max(1)[0].reshape(-1,1)*(1-_terminateds) ## 그런데 실제로는 이게 맞다고 봐야지~ \n",
        "#         loss = torch.mean((y-yhat)**2)\n",
        "#         loss.backward()\n",
        "        \n",
        "#         opt.step()\n",
        "#         opt.zero_grad()\n",
        "\n",
        "#         # (step4) Agent: prepare next steps \n",
        "#         state1 = state2  \n",
        "#         eps = max(0.05, 0.99*eps) \n",
        "#         score = score + reward\n",
        "        \n",
        "#         # terminate \n",
        "#         if terminated:\n",
        "#             scores.append(score)\n",
        "#             playtimes.append(t)\n",
        "#             break\n",
        "            \n",
        "#     print('\\rEpisode {}\\tScore: {:.2f}\\tPlaytime: {:.2f}'.format(epsd, scores[-1],playtimes[-1]), end=\"\")\n",
        "#     if epsd % 100 == 0:\n",
        "#         print('\\rEpisode {}\\tScore: {:.2f}\\tPlaytime: {:.2f}'.format(epsd, np.mean(scores[-100:]),np.mean(playtimes[-100])))"
      ],
      "id": "54ac5087-13fb-443b-8fe5-68e7a7fc774c"
    }
  ],
  "nbformat": 4,
  "nbformat_minor": 5,
  "metadata": {
    "kernelspec": {
      "name": "python3",
      "display_name": "Python 3 (ipykernel)",
      "language": "python"
    },
    "language_info": {
      "name": "python",
      "codemirror_mode": {
        "name": "ipython",
        "version": "3"
      },
      "file_extension": ".py",
      "mimetype": "text/x-python",
      "nbconvert_exporter": "python",
      "pygments_lexer": "ipython3",
      "version": "3.11.4"
    }
  }
}