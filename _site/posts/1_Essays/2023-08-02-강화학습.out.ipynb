{
  "cells": [
    {
      "cell_type": "markdown",
      "metadata": {},
      "source": [
        "# **\\[Essays\\]** 강화학습\n",
        "\n",
        "신록예찬  \n",
        "2023-08-02\n",
        "\n",
        "## imports"
      ],
      "id": "f0666cb7-e159-4865-93cf-47d16f0dda14"
    },
    {
      "cell_type": "code",
      "execution_count": 26,
      "metadata": {},
      "outputs": [],
      "source": [
        "import gymnasium as gym\n",
        "import numpy as np\n",
        "import matplotlib.pyplot as plt\n",
        "from matplotlib.animation import FuncAnimation\n",
        "import torch "
      ],
      "id": "df6688cb-b243-4e39-80c3-3886d1481186"
    },
    {
      "cell_type": "markdown",
      "metadata": {},
      "source": [
        "## Game1\n",
        "\n",
        "`-` 문제설명: 두개의 버튼이 있다. 버튼1을 누르면 1의 보상을, 버튼2를\n",
        "누르면 100의 보상을 준다고 가정"
      ],
      "id": "63963514-fce8-4549-a1c9-ce149028ed18"
    },
    {
      "cell_type": "code",
      "execution_count": 27,
      "metadata": {},
      "outputs": [],
      "source": [
        "action = np.random.choice(['button1','button2'])\n",
        "action"
      ],
      "id": "d771a51a-0733-42df-bf20-b06444164b35"
    },
    {
      "cell_type": "code",
      "execution_count": 28,
      "metadata": {},
      "outputs": [],
      "source": [
        "if action == 'button1': \n",
        "    reward = 1 \n",
        "else:\n",
        "    reward = 100"
      ],
      "id": "97ab8e9f-5d74-4600-bbc9-64ed47fec6d9"
    },
    {
      "cell_type": "code",
      "execution_count": 29,
      "metadata": {},
      "outputs": [
        {
          "output_type": "stream",
          "name": "stdout",
          "text": [
            "button2 100\n",
            "button2 100\n",
            "button2 100\n",
            "button2 100\n",
            "button2 100\n",
            "button2 100\n",
            "button2 100\n",
            "button1 1\n",
            "button1 1\n",
            "button2 100"
          ]
        }
      ],
      "source": [
        "for _ in range(10):\n",
        "    action = np.random.choice(['button1','button2'])\n",
        "    if action == 'button1': \n",
        "        reward = 1 \n",
        "    else:\n",
        "        reward = 100\n",
        "    print(action,reward)"
      ],
      "id": "afb693ba-a1f0-4886-88f2-093c8c632cbb"
    },
    {
      "cell_type": "markdown",
      "metadata": {},
      "source": [
        "`-` 게임을 푸는 방법? 버튼2를 누른다.\n",
        "\n",
        "`-` 용어 정리 - Agent = 버튼을 누르는 사람 - Action = 에이전트가 할 수\n",
        "있는 행동 (현재는 2개의 action이 가능) - Env = Agent의 action을 보고\n",
        "reward를 주는 존재 - 게임의 종료 = 버튼을 누르면 게임이 종료 - 게임을\n",
        "푸는 방법 = reward를 최대화하는 action을 선택\n",
        "\n",
        "## Game2\n",
        "\n",
        "`-` 문제설명: 에이전트는 현재 2의 위치에 있다. 에이전트는 (1) 정지 (2)\n",
        "왼쪽으로 이동 (3) 오른쪽으로 이동 하는 3개의 행동을 할 수 있다.\n",
        "에이전트가 4의 위치에 도달하면 100의 보상을 얻고 게임이 종료된다.\n",
        "에이전트가 0의 위치에 도달하면 보상없이 게임이 종료된다.\n",
        "\n",
        "`-` 에이전트와 환경의 상호작용 구현1"
      ],
      "id": "b370f1ac-03de-4f14-94b2-12ee6171617c"
    },
    {
      "cell_type": "code",
      "execution_count": 30,
      "metadata": {},
      "outputs": [],
      "source": [
        "state = 2"
      ],
      "id": "d753194b-c29d-408d-bbb4-6e82d6455be7"
    },
    {
      "cell_type": "code",
      "execution_count": 31,
      "metadata": {},
      "outputs": [],
      "source": [
        "action = np.random.choice([0,1,2])"
      ],
      "id": "49be0f5a-2337-454b-ae5b-973628356a35"
    },
    {
      "cell_type": "code",
      "execution_count": 32,
      "metadata": {},
      "outputs": [
        {
          "output_type": "stream",
          "name": "stdout",
          "text": [
            "2 2"
          ]
        }
      ],
      "source": [
        "print(state,action)"
      ],
      "id": "13527401-e8e7-4ded-be35-f6b25c83bc41"
    },
    {
      "cell_type": "code",
      "execution_count": 33,
      "metadata": {},
      "outputs": [
        {
          "output_type": "stream",
          "name": "stdout",
          "text": [
            "2\n",
            "2의 위치에 도달, 보상 200점 획득"
          ]
        }
      ],
      "source": [
        "for _ in range(9999): \n",
        "    if state == 2:\n",
        "        print(state)\n",
        "        reward = 200         \n",
        "        print(\"2의 위치에 도달, 보상 {}점 획득\".format(reward))\n",
        "        break \n",
        "    elif state == -2:\n",
        "        print(state)\n",
        "        reward = 0 \n",
        "        print(\"-2의 위치에 도달, 보상 {}점 획득\".format(reward))\n",
        "        break\n",
        "    else:\n",
        "        print(state,action)        \n",
        "        state = state + action \n",
        "        action = np.random.choice(['<-','.','->'])\n",
        "        "
      ],
      "id": "1e6c4ab7-15e9-491e-8b44-392491213600"
    },
    {
      "cell_type": "markdown",
      "metadata": {},
      "source": [
        "`-` 에이전트와 환경의 상호작용 구현2"
      ],
      "id": "99eecb64-bcac-49f1-ab4a-ad44b66c51e5"
    },
    {
      "cell_type": "code",
      "execution_count": 9,
      "metadata": {},
      "outputs": [],
      "source": [
        "gym.spaces.Discrete(3)"
      ],
      "id": "982dc58a-b969-4086-8f3a-994467a0899e"
    },
    {
      "cell_type": "code",
      "execution_count": 10,
      "metadata": {},
      "outputs": [],
      "source": [
        "gym.spaces.Discrete?"
      ],
      "id": "0577c8dd-546c-47e2-b6e8-86c4e3522e17"
    },
    {
      "cell_type": "code",
      "execution_count": 11,
      "metadata": {},
      "outputs": [],
      "source": [
        "class Game2(gym.Env):\n",
        "    def __init__(self):\n",
        "        self.action_space = gym.spaces.Discrete(3,start=-1) # Acition = {-1,0,1}  \n",
        "        self.observation_space = gym.spaces.Discrete(5,start=-2) # State = {-2,-1,0,1,2} \n",
        "        self.state = 0 \n",
        "        self.t = 0\n",
        "    def step(self,action):\n",
        "        self.state = self.state + action\n",
        "        self.t = self.t + 1 \n",
        "        if self.state == 2:\n",
        "            reward = 100\n",
        "        else:\n",
        "            reward = -1\n",
        "        info = {}\n",
        "        if self.state == -2 or self.state==2: \n",
        "            done = True\n",
        "        else: \n",
        "            done = False\n",
        "        return self.state, reward, done, info\n",
        "    def render(self):\n",
        "        print('state: {}'.format(self.state))\n",
        "    def reset(self):\n",
        "        self.state = 0 \n",
        "        return self.state"
      ],
      "id": "943478ae-efb4-461e-9ec8-47b48c1050bf"
    },
    {
      "cell_type": "code",
      "execution_count": 12,
      "metadata": {},
      "outputs": [],
      "source": [
        "env=Game2()"
      ],
      "id": "fa6c4fa4-f2bc-416d-9b2d-e635cfcff6ab"
    },
    {
      "cell_type": "markdown",
      "metadata": {},
      "source": [
        "## Game3\n",
        "\n",
        "## Game4: LunarLander\n",
        "\n",
        "### 환경만들기\n",
        "\n",
        "`-` 환경을 만드는 방법은 아래와 같다."
      ],
      "id": "f1f836f9-9997-45da-9c5c-a144c2a41c59"
    },
    {
      "cell_type": "code",
      "execution_count": 13,
      "metadata": {},
      "outputs": [],
      "source": [
        "env = gym.make('LunarLander-v2',render_mode='rgb_array')"
      ],
      "id": "3e085d50-9d39-4e75-9151-843deb6ee4e6"
    },
    {
      "cell_type": "markdown",
      "metadata": {},
      "source": [
        "`-` 환경에 대한 기본 정보를 조사하여 보자."
      ],
      "id": "47f345f3-8049-41aa-83ca-0f7d1d89ca28"
    },
    {
      "cell_type": "code",
      "execution_count": 14,
      "metadata": {},
      "outputs": [],
      "source": [
        "env.observation_space"
      ],
      "id": "49e5d1b8-e68d-41da-9c08-26530b8fdacd"
    },
    {
      "cell_type": "code",
      "execution_count": 15,
      "metadata": {},
      "outputs": [],
      "source": [
        "env.action_space"
      ],
      "id": "cfde2681-4846-4aa0-87ce-66333cd7485a"
    },
    {
      "cell_type": "markdown",
      "metadata": {},
      "source": [
        "### 환경관찰\n",
        "\n",
        "`-` 환경관찰"
      ],
      "id": "5a17fd97-c1ef-4987-bc59-5886fb1fd26c"
    },
    {
      "cell_type": "code",
      "execution_count": 16,
      "metadata": {},
      "outputs": [],
      "source": [
        "env.reset()"
      ],
      "id": "35312d3e-1276-4895-b94a-224a0053089b"
    },
    {
      "cell_type": "code",
      "execution_count": 17,
      "metadata": {},
      "outputs": [],
      "source": [
        "env.step(0) # state, reward, done, _ "
      ],
      "id": "9fa82115-7a62-4916-b62c-76548737af76"
    },
    {
      "cell_type": "markdown",
      "metadata": {},
      "source": [
        "`-` action"
      ],
      "id": "c4a96064-09b9-4bc6-91ea-737846276cb7"
    },
    {
      "cell_type": "code",
      "execution_count": 18,
      "metadata": {},
      "outputs": [],
      "source": [
        "env.action_space.sample()"
      ],
      "id": "37dafca5-cbbc-4b88-96a7-a180f77d9023"
    },
    {
      "cell_type": "markdown",
      "metadata": {},
      "source": [
        "-   int형으로 전달\n",
        "\n",
        "`-` action -\\> nextstate, reward, done"
      ],
      "id": "b7aa674f-f433-4642-b176-2747179f140a"
    },
    {
      "cell_type": "code",
      "execution_count": 19,
      "metadata": {},
      "outputs": [],
      "source": [
        "env.step(env.action_space.sample())"
      ],
      "id": "23f3049d-0c1d-438f-8fcc-3854ee723c10"
    },
    {
      "cell_type": "code",
      "execution_count": 20,
      "metadata": {},
      "outputs": [],
      "source": [
        "frames = []\n",
        "env.reset()\n",
        "for _ in range(300):\n",
        "    frames.append(env.render())\n",
        "    env.step(env.action_space.sample())\n",
        "env.close()"
      ],
      "id": "3cb75d3b-016b-42ce-8497-93120341a230"
    },
    {
      "cell_type": "code",
      "execution_count": 21,
      "metadata": {},
      "outputs": [
        {
          "output_type": "display_data",
          "metadata": {},
          "data": {
            "image/png": "[encoded data removed]"
          }
        }
      ],
      "source": [
        "fig, ax = plt.subplots()\n",
        "ani = FuncAnimation(fig,lambda i: ax.imshow(frames[::100][i]),frames=len(frames[::100]))"
      ],
      "id": "9ceab5f9-1e5a-457b-8464-20c9db84d769"
    },
    {
      "cell_type": "code",
      "execution_count": 23,
      "metadata": {},
      "outputs": [],
      "source": [
        "ani"
      ],
      "id": "6fad79d6-2d16-49d1-b425-d2f7ad74896d"
    },
    {
      "cell_type": "markdown",
      "metadata": {},
      "source": [
        "### Replay Buffer\n",
        "\n",
        "`-` 랜덤액션을 연속적으로 생성하고 그 결과를 기록해보자."
      ],
      "id": "4df6d5ce-82f4-48c6-b57c-583cdcdd2882"
    },
    {
      "cell_type": "code",
      "execution_count": 24,
      "metadata": {},
      "outputs": [],
      "source": [
        "states = []\n",
        "actions = []\n",
        "rewards = []\n",
        "next_states = []\n",
        "dones = []"
      ],
      "id": "ae71b487-9754-4f06-ba45-2acb2bdefda4"
    },
    {
      "cell_type": "code",
      "execution_count": 25,
      "metadata": {},
      "outputs": [],
      "source": [
        "_state1 = env.reset()\n",
        "for t in range(1500):\n",
        "    _action = env.action_space.sample() \n",
        "    _state2, _reward, _done, _ = env.step(_action) \n",
        "    ## save code \n",
        "    states.append(_state1.tolist()) \n",
        "    actions.append(_action)\n",
        "    rewards.append(_reward)\n",
        "    next_states.append(_state2.tolist())\n",
        "    dones.append(_done)\n",
        "    ## save code end \n",
        "    _state1 = _state2 \n",
        "    if _done:\n",
        "        break"
      ],
      "id": "6b950bc8-0ae9-461e-ba22-0e9e6139c4db"
    },
    {
      "cell_type": "markdown",
      "metadata": {},
      "source": [
        "`-` 모인 히스토리를 확인해보자."
      ],
      "id": "c2c97ec3-5167-4245-812e-f618e5f32591"
    },
    {
      "cell_type": "code",
      "execution_count": 13,
      "metadata": {},
      "outputs": [],
      "source": [
        "len(states), len(actions), len(next_states), len(rewards), len(dones)"
      ],
      "id": "58524369-1817-4ee5-84ae-b05dfb323b81"
    },
    {
      "cell_type": "markdown",
      "metadata": {},
      "source": [
        "### Qnetwork 설계\n",
        "\n",
        "`-` 네트워크의 목적: 내가 여기서 뭘 해야하는지 알려줘! = 내가 이\n",
        "상태에서, 어떠한 액션을 해야하는지 알려줘 $\\to$ 8개의 상태를 입력으로\n",
        "받으면 4개의 액션에 대한 좋은 정도를 숫자로 표현하는 어떠한 함수를\n",
        "만들자.\n",
        "\n",
        "`-` net 설계"
      ],
      "id": "5a6a4914-f2d7-48b7-a035-ddc7f90ce3e7"
    },
    {
      "cell_type": "code",
      "execution_count": 14,
      "metadata": {},
      "outputs": [],
      "source": [
        "net = torch.nn.Sequential(\n",
        "    torch.nn.Linear(in_features=8, out_features=128),\n",
        "    torch.nn.ReLU(),\n",
        "    torch.nn.Linear(in_features=128, out_features=64),\n",
        "    torch.nn.ReLU(),\n",
        "    torch.nn.Linear(in_features=64, out_features=32),\n",
        "    torch.nn.ReLU(),\n",
        "    torch.nn.Linear(in_features=32, out_features=4)\n",
        ")\n",
        "net"
      ],
      "id": "54860fb4-9cbd-4aab-9ce7-d716d07e0e7d"
    },
    {
      "cell_type": "code",
      "execution_count": 15,
      "metadata": {},
      "outputs": [],
      "source": [
        "net(torch.tensor(states))"
      ],
      "id": "ab62e365-d629-42c6-91e0-f492ff3a99d0"
    },
    {
      "cell_type": "markdown",
      "metadata": {},
      "source": [
        "### Policy 설계\n",
        "\n",
        "`-` 네트워크의 의미"
      ],
      "id": "6d34eb1d-91e2-4781-b9db-37da2fa4e1fd"
    },
    {
      "cell_type": "code",
      "execution_count": 16,
      "metadata": {},
      "outputs": [],
      "source": [
        "states[0],states[1]"
      ],
      "id": "78306592-ca58-4621-8e21-1acd4941278a"
    },
    {
      "cell_type": "code",
      "execution_count": 17,
      "metadata": {},
      "outputs": [],
      "source": [
        "net(torch.tensor(states[0:2]))"
      ],
      "id": "4ba397f6-33b6-429c-b718-321f69c1f765"
    },
    {
      "cell_type": "markdown",
      "metadata": {},
      "source": [
        "-   상태0에서는 액션0이, 상태1에서도 액션0이 가장 좋다는 의미 (왜?\n",
        "    q-value가 젤 높으니까..)\n",
        "\n",
        "`-` 따라서 Agent는 아래와 같이 행동해야 한다. (네트워크가 잘\n",
        "학습되었다는 전제가 필요함) - state\\[0\\] -\\> action = 0 - state\\[1\\] -\\>\n",
        "action = 0"
      ],
      "id": "e1ddaba1-ef94-4871-ad33-8fa30d8e4df3"
    },
    {
      "cell_type": "code",
      "execution_count": 18,
      "metadata": {},
      "outputs": [],
      "source": [
        "net(torch.tensor(states[0:2])).max(axis=1)"
      ],
      "id": "5b630b0e-bf3b-48a3-bce5-7fd135237ef5"
    },
    {
      "cell_type": "code",
      "execution_count": 19,
      "metadata": {},
      "outputs": [],
      "source": [
        "net(torch.tensor(states[0:2])).max(axis=1)[1]"
      ],
      "id": "4cbfbbec-8253-46de-8a60-de5ae1bb8e19"
    },
    {
      "cell_type": "markdown",
      "metadata": {},
      "source": [
        "`-` 네트워크가 있으므로 이제 어떠한 state에 대해서도 뭘 해야할지 (=어떤\n",
        "액션을 해야할지) 알 수 있다."
      ],
      "id": "5f6ee8c7-aee9-4234-98e1-061913ea7f01"
    },
    {
      "cell_type": "code",
      "execution_count": 20,
      "metadata": {},
      "outputs": [],
      "source": [
        "_state1 # 어떤 state에 대해서도.. "
      ],
      "id": "5f604754-d57a-41b4-a1cb-387cd21a4311"
    },
    {
      "cell_type": "code",
      "execution_count": 21,
      "metadata": {},
      "outputs": [],
      "source": [
        "net(torch.tensor(_state1)) # q-value를 계산할 수 있고 "
      ],
      "id": "078f79b8-a357-4bea-be91-e7213beede86"
    },
    {
      "cell_type": "code",
      "execution_count": 22,
      "metadata": {},
      "outputs": [],
      "source": [
        "int(torch.argmax(net(torch.tensor(_state1)))) # 그래서 다음에 우리가 어떤행동을 해야할 지 알 수 있음"
      ],
      "id": "7beb3de0-1ead-4e15-b15d-4ca6be971d75"
    },
    {
      "cell_type": "markdown",
      "metadata": {},
      "source": [
        "### 학습\n",
        "\n",
        "`-` 네트워크를 학습시키자."
      ],
      "id": "255e777b-319b-4659-af54-5b28a176427e"
    },
    {
      "cell_type": "code",
      "execution_count": 23,
      "metadata": {},
      "outputs": [],
      "source": [
        "net.to(\"cuda:0\")"
      ],
      "id": "2c71eee5-de1f-41c9-ab1b-23a8ba923a18"
    },
    {
      "cell_type": "code",
      "execution_count": 24,
      "metadata": {},
      "outputs": [],
      "source": [
        "scores=[]\n",
        "playtimes=[] \n",
        "eps = 1\n",
        "opt = torch.optim.Adam(net.parameters(),lr=0.0001)"
      ],
      "id": "9e0e9cba-2f10-4f55-bc0a-d20a6177725c"
    },
    {
      "cell_type": "code",
      "execution_count": null,
      "metadata": {
        "tags": []
      },
      "outputs": [
        {
          "output_type": "stream",
          "name": "stdout",
          "text": [
            "Episode 94  Score: -117.16  Playtime: 999.00"
          ]
        }
      ],
      "source": [
        "for epsd in range(1,2001): # 게임 2000판 시켜줌.. \n",
        "    state1 = env.reset() # 환경리셋 + 초기화된 환경을 state라는 변수에 저장 \n",
        "    score = 0 \n",
        "    for t in range(1000): # 게임1판당 max 1000프레임만 할 수 있음\n",
        "        # (step1) Agent: action \n",
        "        if np.random.rand() < eps: \n",
        "            action = env.action_space.sample() # 랜덤액션을 뽑음 \n",
        "        else:\n",
        "            action = int(torch.argmax(net(torch.tensor(state1).to(\"cuda:0\")))) # 네트워크가 알려주는 action을 뽑음 \n",
        "        \n",
        "        # (step2) Agent -> Env // Env -> Agent \n",
        "        state2, reward, done, _ = env.step(action) # 액션을 환경에 전달 -> (next_state, reward, done) 을 받음 \n",
        "        \n",
        "        # (step3) Agnet: save data and learn \n",
        "        ## save data \n",
        "        states.append(state1.tolist())\n",
        "        actions.append(action)\n",
        "        rewards.append(reward)\n",
        "        next_states.append(state2.tolist())\n",
        "        dones.append(done)\n",
        "    \n",
        "        ## 최근 5000개의 자료만 준비함. \n",
        "        if len(states)>5000:\n",
        "            _states = torch.tensor(states[-5000:])\n",
        "            _actions = torch.tensor(actions[-5000:]).reshape(-1,1)\n",
        "            _next_states = torch.tensor(next_states[-5000:])\n",
        "            _rewards = torch.tensor(rewards[-5000:]).reshape(-1,1)\n",
        "            _dones = torch.tensor(dones[-5000:]).to(torch.float).reshape(-1,1) \n",
        "        else:\n",
        "            _states = torch.tensor(states)\n",
        "            _actions = torch.tensor(actions).reshape(-1,1)\n",
        "            _next_states = torch.tensor(next_states)\n",
        "            _rewards = torch.tensor(rewards).reshape(-1,1)\n",
        "            _dones = torch.tensor(dones).to(torch.float).reshape(-1,1)\n",
        "\n",
        "        ## 최근 5000개의 자료에서 128개를 임의로 추출함. \n",
        "        _n = len(_states)\n",
        "        _index = np.random.choice(_n,128) # 128 is batch_size \n",
        "        _states = _states[_index]\n",
        "        _actions = _actions[_index]\n",
        "        _next_states = _next_states[_index]\n",
        "        _rewards = _rewards[_index]\n",
        "        _dones = _dones[_index]\n",
        "        \n",
        "        ## GPU로 이동 \n",
        "        _states = _states.to(\"cuda:0\")\n",
        "        _actions = _actions.to(\"cuda:0\")\n",
        "        _next_states = _next_states.to(\"cuda:0\")\n",
        "        _rewards = _rewards.to(\"cuda:0\")\n",
        "        _dones = _dones.to(\"cuda:0\")\n",
        "        \n",
        "        ## leanrn with pytorch \n",
        "        yhat = net(_states).gather(1,_actions) ## (s,a) -> q(s,a) // 내가 현재상태 state에서, 현재 action을 하여 얻을 것이라 예상하는 보상 (net가 알려주는) \n",
        "        y = _rewards + 0.99 * net(_next_states).detach().max(1)[0].reshape(-1,1)*(1-_dones) ## 그런데 실제로는 이게 맞다고 봐야지~ \n",
        "        loss = torch.mean((y-yhat)**2)\n",
        "        loss.backward()\n",
        "        \n",
        "        opt.step()\n",
        "        opt.zero_grad()\n",
        "\n",
        "        # (step4) Agent: prepare next steps \n",
        "        state1 = state2  \n",
        "        eps = max(0.05, 0.99*eps) \n",
        "        score += reward\n",
        "        \n",
        "        # terminate \n",
        "        if done:\n",
        "            scores.append(score)\n",
        "            playtimes.append(t)\n",
        "            break\n",
        "            \n",
        "    print('\\rEpisode {}\\tScore: {:.2f}\\tPlaytime: {:.2f}'.format(epsd, scores[-1],playtimes[-1]), end=\"\")\n",
        "    if epsd % 100 == 0:\n",
        "        print('\\rEpisode {}\\tScore: {:.2f}\\tPlaytime: {:.2f}'.format(epsd, np.mean(scores[-100:]),np.mean(playtimes[-100])))"
      ],
      "id": "54ac5087-13fb-443b-8fe5-68e7a7fc774c"
    }
  ],
  "nbformat": 4,
  "nbformat_minor": 5,
  "metadata": {
    "kernelspec": {
      "name": "python3",
      "display_name": "Python 3 (ipykernel)",
      "language": "python"
    },
    "language_info": {
      "name": "python",
      "codemirror_mode": {
        "name": "ipython",
        "version": "3"
      },
      "file_extension": ".py",
      "mimetype": "text/x-python",
      "nbconvert_exporter": "python",
      "pygments_lexer": "ipython3",
      "version": "3.11.4"
    }
  }
}