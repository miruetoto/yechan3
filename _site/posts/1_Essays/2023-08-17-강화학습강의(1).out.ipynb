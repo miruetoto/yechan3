{
  "cells": [
    {
      "cell_type": "markdown",
      "metadata": {},
      "source": [
        "# **\\[Essays\\]** 강화학습강의(1)\n",
        "\n",
        "신록예찬  \n",
        "2023-08-02\n",
        "\n",
        "## imports"
      ],
      "id": "ee34fcb6-12d7-4dc1-bcb9-032d2fd1fd8b"
    },
    {
      "cell_type": "code",
      "execution_count": 165,
      "metadata": {},
      "outputs": [],
      "source": [
        "import gymnasium as gym\n",
        "import numpy as np\n",
        "import matplotlib.pyplot as plt\n",
        "from matplotlib.animation import FuncAnimation\n",
        "import torch\n",
        "import collections\n",
        "import IPython"
      ],
      "id": "df6688cb-b243-4e39-80c3-3886d1481186"
    },
    {
      "cell_type": "markdown",
      "metadata": {},
      "source": [
        "# Intro\n",
        "\n",
        "`-` 강화학습(대충설명): 어떠한 “(게임)환경”이 있을때 거기서 “뭘 할지”를\n",
        "학습하는 과업\n",
        "\n",
        "# Game1: 벤딧문제\n",
        "\n",
        "`-` 문제설명: 두개의 버튼이 있다. 버튼0을 누르면 1의 보상을, 버튼1를\n",
        "누르면 100의 보상을 준다고 가정\n",
        "\n",
        "`-` 어떤 행동을 해야할까? –\\> ?? 아는게없음 –\\> 일단 “아무거나” 눌러보자"
      ],
      "id": "5c3f1803-f665-40ea-866c-8264f0dc8873"
    },
    {
      "cell_type": "code",
      "execution_count": 29,
      "metadata": {},
      "outputs": [],
      "source": [
        "action_space = ['button0','button1']\n",
        "action = np.random.choice(action_space)\n",
        "action"
      ],
      "id": "d771a51a-0733-42df-bf20-b06444164b35"
    },
    {
      "cell_type": "markdown",
      "metadata": {},
      "source": [
        "`-` 보상은 아래와 같은 방식으로 받을 것이다."
      ],
      "id": "1e54d0b5-b83d-4490-8f72-3f6d424c762b"
    },
    {
      "cell_type": "code",
      "execution_count": 31,
      "metadata": {},
      "outputs": [],
      "source": [
        "if action == 'button0': \n",
        "    reward = 1 \n",
        "else:\n",
        "    reward = 100"
      ],
      "id": "97ab8e9f-5d74-4600-bbc9-64ed47fec6d9"
    },
    {
      "cell_type": "markdown",
      "metadata": {},
      "source": [
        "`-` 아무거나 10번 버튼을 눌러보면 다음과 같은 결과가 나온다."
      ],
      "id": "816a7f98-a933-4a8d-9e2f-9b35eb63725f"
    },
    {
      "cell_type": "code",
      "execution_count": 18,
      "metadata": {},
      "outputs": [
        {
          "output_type": "stream",
          "name": "stdout",
          "text": [
            "button1 100\n",
            "button0 1\n",
            "button1 100\n",
            "button1 100\n",
            "button0 1\n",
            "button0 1\n",
            "button1 100\n",
            "button1 100\n",
            "button0 1\n",
            "button0 1"
          ]
        }
      ],
      "source": [
        "for _ in range(10):\n",
        "    action = np.random.choice(action_space)\n",
        "    if action == 'button0': \n",
        "        reward = 1 \n",
        "    else:\n",
        "        reward = 100\n",
        "    print(action,reward)"
      ],
      "id": "afb693ba-a1f0-4886-88f2-093c8c632cbb"
    },
    {
      "cell_type": "markdown",
      "metadata": {},
      "source": [
        "`-` 깨달았음: `button0`을 누르면 1점을 받고, `button1`을 누르면 100점을\n",
        "받는 “환경”이구나? $\\to$ `button1`을 누르는 “동작”을 해야하는\n",
        "상황이구나?\n",
        "\n",
        "-   여기에서 $\\to$ 의 과정을 체계화 시킨 학문이 강화학습이다."
      ],
      "id": "06b86b63-b85b-4ad2-ba18-167dd3edfa01"
    },
    {
      "cell_type": "code",
      "execution_count": 60,
      "metadata": {},
      "outputs": [
        {
          "output_type": "stream",
          "name": "stdout",
          "text": [
            "button1 100\n",
            "button1 100\n",
            "button1 100\n",
            "button1 100\n",
            "button1 100\n",
            "button1 100\n",
            "button1 100\n",
            "button1 100\n",
            "button1 100\n",
            "button1 100"
          ]
        }
      ],
      "source": [
        "action_space = ['button0','button1']\n",
        "for _ in range(10):\n",
        "    #action = np.random.choice(action_space) # 무지한자의 행동 (찍어)\n",
        "    action = action_space[1] # 깨달은자의 행동 (button1을 눌러)\n",
        "    if action == 'button0': \n",
        "        reward = 1 \n",
        "    else:\n",
        "        reward = 100\n",
        "    print(action,reward)"
      ],
      "id": "0a189b7f-eaaf-4d7e-b2a9-b9742ab245d4"
    },
    {
      "cell_type": "markdown",
      "metadata": {},
      "source": [
        "`-` 강화학습: 환경의 이해 $\\to$ 뭘 해야 하는지 깨달음\n",
        "\n",
        "**위의 과정이 잘 되었다는 의미로 사용하는 문장들**\n",
        "\n",
        "-   강화학습이 성공적으로 잘 되었다.\n",
        "-   환경이 해결되었다.\n",
        "-   에이전트가 환경의 과제를 완료했다.\n",
        "-   에이전트가 환경에서 성공적으로 학습했다.\n",
        "-   에이전트가 올바른 행동을 학습했다.\n",
        "-   게임 클리어 (비공식)\n",
        "\n",
        "`-` 환경이 해결되었는지 나타내는 지표를 정해야겠다 $\\to$ 주어진 상황을\n",
        "게임처럼 이해하고, 게임의 클리어조건을 설정\n",
        "\n",
        "-   첫 생각: `button1`을 누르면 클리어 아니야?\n",
        "-   두번째 생각: 아니지? 우연히 누를수도 있잖아.\n",
        "-   게임클리어조건: 최근 20번의 보상이 1900 이상이면 게임이 클리어\n",
        "    되었다고 보자![1]\n",
        "\n",
        "`-` 무지한자 – 게임을 클리어 할 수 없다.\n",
        "\n",
        "[1] `button1`을 눌러야하는건 맞지만 20번에 실수한번정도는 눈감아 주자"
      ],
      "id": "97c5864c-53f0-4f3d-b4b9-03133a98d042"
    },
    {
      "cell_type": "code",
      "execution_count": 61,
      "metadata": {},
      "outputs": [
        {
          "output_type": "stream",
          "name": "stdout",
          "text": [
            "n_try = 1    action = button0    reward = 1  cum_score = 1\n",
            "n_try = 2    action = button0    reward = 1  cum_score = 2\n",
            "n_try = 3    action = button0    reward = 1  cum_score = 3\n",
            "n_try = 4    action = button1    reward = 100    cum_score = 103\n",
            "n_try = 5    action = button0    reward = 1  cum_score = 104\n",
            "n_try = 6    action = button0    reward = 1  cum_score = 105\n",
            "n_try = 7    action = button0    reward = 1  cum_score = 106\n",
            "n_try = 8    action = button0    reward = 1  cum_score = 107\n",
            "n_try = 9    action = button0    reward = 1  cum_score = 108\n",
            "n_try = 10   action = button1    reward = 100    cum_score = 208\n",
            "n_try = 11   action = button0    reward = 1  cum_score = 209\n",
            "n_try = 12   action = button0    reward = 1  cum_score = 210\n",
            "n_try = 13   action = button1    reward = 100    cum_score = 310\n",
            "n_try = 14   action = button0    reward = 1  cum_score = 311\n",
            "n_try = 15   action = button0    reward = 1  cum_score = 312\n",
            "n_try = 16   action = button1    reward = 100    cum_score = 412\n",
            "n_try = 17   action = button0    reward = 1  cum_score = 413\n",
            "n_try = 18   action = button1    reward = 100    cum_score = 513\n",
            "n_try = 19   action = button1    reward = 100    cum_score = 613\n",
            "n_try = 20   action = button1    reward = 100    cum_score = 713\n",
            "n_try = 21   action = button0    reward = 1  cum_score = 713\n",
            "n_try = 22   action = button1    reward = 100    cum_score = 812\n",
            "n_try = 23   action = button1    reward = 100    cum_score = 911\n",
            "n_try = 24   action = button1    reward = 100    cum_score = 911\n",
            "n_try = 25   action = button1    reward = 100    cum_score = 1010\n",
            "n_try = 26   action = button1    reward = 100    cum_score = 1109\n",
            "n_try = 27   action = button0    reward = 1  cum_score = 1109\n",
            "n_try = 28   action = button0    reward = 1  cum_score = 1109\n",
            "n_try = 29   action = button1    reward = 100    cum_score = 1208\n",
            "n_try = 30   action = button0    reward = 1  cum_score = 1109\n",
            "n_try = 31   action = button1    reward = 100    cum_score = 1208\n",
            "n_try = 32   action = button0    reward = 1  cum_score = 1208\n",
            "n_try = 33   action = button1    reward = 100    cum_score = 1208\n",
            "n_try = 34   action = button1    reward = 100    cum_score = 1307\n",
            "n_try = 35   action = button1    reward = 100    cum_score = 1406\n",
            "n_try = 36   action = button0    reward = 1  cum_score = 1307\n",
            "n_try = 37   action = button1    reward = 100    cum_score = 1406\n",
            "n_try = 38   action = button1    reward = 100    cum_score = 1406\n",
            "n_try = 39   action = button1    reward = 100    cum_score = 1406\n",
            "n_try = 40   action = button0    reward = 1  cum_score = 1307\n",
            "n_try = 41   action = button1    reward = 100    cum_score = 1406\n",
            "n_try = 42   action = button1    reward = 100    cum_score = 1406\n",
            "n_try = 43   action = button0    reward = 1  cum_score = 1307\n",
            "n_try = 44   action = button0    reward = 1  cum_score = 1208\n",
            "n_try = 45   action = button0    reward = 1  cum_score = 1109\n",
            "n_try = 46   action = button1    reward = 100    cum_score = 1109\n",
            "n_try = 47   action = button1    reward = 100    cum_score = 1208\n",
            "n_try = 48   action = button0    reward = 1  cum_score = 1208\n",
            "n_try = 49   action = button1    reward = 100    cum_score = 1208\n",
            "n_try = 50   action = button0    reward = 1  cum_score = 1208"
          ]
        }
      ],
      "source": [
        "action_space = ['button0','button1']\n",
        "scores = []\n",
        "for i in range(50): # 1000번해도 못깸\n",
        "    action = np.random.choice(action_space) # 무지한자의 행동 (찍어)\n",
        "    #action = action_space[1] # 깨달은자의 행동 (button1을 눌러)\n",
        "    if action == 'button0': \n",
        "        reward = 1 \n",
        "        scores.append(reward)\n",
        "    else:\n",
        "        reward = 100\n",
        "        scores.append(reward)\n",
        "    print(f\"n_try = {i+1}\\t action = {action}\\t reward = {reward}\\t cum_score = {np.sum(scores[-20:])}\")\n",
        "    if np.sum(scores[-20:])>1900:\n",
        "        break\n",
        "    "
      ],
      "id": "cd7ee8d2-4bef-4901-98a3-766efc21c600"
    },
    {
      "cell_type": "markdown",
      "metadata": {},
      "source": [
        "`-` 깨달은자 – 게임 클리어"
      ],
      "id": "013a9c6a-7f11-4d61-b32b-43d029036da3"
    },
    {
      "cell_type": "code",
      "execution_count": 63,
      "metadata": {},
      "outputs": [
        {
          "output_type": "stream",
          "name": "stdout",
          "text": [
            "n_try = 1    action = button1    reward = 100    cum_score = 100\n",
            "n_try = 2    action = button1    reward = 100    cum_score = 200\n",
            "n_try = 3    action = button1    reward = 100    cum_score = 300\n",
            "n_try = 4    action = button1    reward = 100    cum_score = 400\n",
            "n_try = 5    action = button1    reward = 100    cum_score = 500\n",
            "n_try = 6    action = button1    reward = 100    cum_score = 600\n",
            "n_try = 7    action = button1    reward = 100    cum_score = 700\n",
            "n_try = 8    action = button1    reward = 100    cum_score = 800\n",
            "n_try = 9    action = button1    reward = 100    cum_score = 900\n",
            "n_try = 10   action = button1    reward = 100    cum_score = 1000\n",
            "n_try = 11   action = button1    reward = 100    cum_score = 1100\n",
            "n_try = 12   action = button1    reward = 100    cum_score = 1200\n",
            "n_try = 13   action = button1    reward = 100    cum_score = 1300\n",
            "n_try = 14   action = button1    reward = 100    cum_score = 1400\n",
            "n_try = 15   action = button1    reward = 100    cum_score = 1500\n",
            "n_try = 16   action = button1    reward = 100    cum_score = 1600\n",
            "n_try = 17   action = button1    reward = 100    cum_score = 1700\n",
            "n_try = 18   action = button1    reward = 100    cum_score = 1800\n",
            "n_try = 19   action = button1    reward = 100    cum_score = 1900\n",
            "n_try = 20   action = button1    reward = 100    cum_score = 2000"
          ]
        }
      ],
      "source": [
        "action_space = ['button0','button1']\n",
        "scores = []\n",
        "for i in range(50): # 1000번해도 못깸\n",
        "    #action = np.random.choice(action_space) # 무지한자의 행동 (찍어)\n",
        "    action = action_space[1] # 깨달은자의 행동 (button1을 눌러)\n",
        "    if action == 'button0': \n",
        "        reward = 1 \n",
        "        scores.append(reward)\n",
        "    else:\n",
        "        reward = 100\n",
        "        scores.append(reward)\n",
        "    print(f\"n_try = {i+1}\\t action = {action}\\t reward = {reward}\\t cum_score = {np.sum(scores[-20:])}\")\n",
        "    if np.sum(scores[-20:])>1900:\n",
        "        break"
      ],
      "id": "a47f0eea-5688-454a-8c9d-9e4c6d5552fe"
    },
    {
      "cell_type": "markdown",
      "metadata": {},
      "source": [
        "# Game1: 벤딧문제 – 예쁜코드\n",
        "\n",
        "## 수정1: `action_space`의 수정"
      ],
      "id": "5c29459c-f105-4eae-9846-fe2bd24d40e6"
    },
    {
      "cell_type": "code",
      "execution_count": 75,
      "metadata": {},
      "outputs": [],
      "source": [
        "action_space =  gym.spaces.Discrete(2)\n",
        "action_space"
      ],
      "id": "4b1d0578-eb81-4dc3-a1ba-1653e7e73aa3"
    },
    {
      "cell_type": "code",
      "execution_count": 78,
      "metadata": {},
      "outputs": [
        {
          "output_type": "stream",
          "name": "stdout",
          "text": [
            "0\n",
            "1\n",
            "1\n",
            "0\n",
            "1\n",
            "1\n",
            "0\n",
            "0\n",
            "1\n",
            "1"
          ]
        }
      ],
      "source": [
        "for _ in range(10):\n",
        "    print(action_space.sample())"
      ],
      "id": "1c796bc8-d37c-4b05-8ee1-14c5bb6f177d"
    },
    {
      "cell_type": "code",
      "execution_count": 98,
      "metadata": {},
      "outputs": [
        {
          "output_type": "stream",
          "name": "stdout",
          "text": [
            "n_try = 1    action = 0  reward = 1  cum_score = 1\n",
            "n_try = 2    action = 1  reward = 100    cum_score = 101\n",
            "n_try = 3    action = 0  reward = 1  cum_score = 102\n",
            "n_try = 4    action = 0  reward = 1  cum_score = 103\n",
            "n_try = 5    action = 1  reward = 100    cum_score = 203\n",
            "n_try = 6    action = 1  reward = 100    cum_score = 303\n",
            "n_try = 7    action = 1  reward = 100    cum_score = 403\n",
            "n_try = 8    action = 0  reward = 1  cum_score = 404\n",
            "n_try = 9    action = 0  reward = 1  cum_score = 405\n",
            "n_try = 10   action = 0  reward = 1  cum_score = 406\n",
            "n_try = 11   action = 0  reward = 1  cum_score = 407\n",
            "n_try = 12   action = 0  reward = 1  cum_score = 408\n",
            "n_try = 13   action = 0  reward = 1  cum_score = 409\n",
            "n_try = 14   action = 1  reward = 100    cum_score = 509\n",
            "n_try = 15   action = 1  reward = 100    cum_score = 609\n",
            "n_try = 16   action = 0  reward = 1  cum_score = 610\n",
            "n_try = 17   action = 1  reward = 100    cum_score = 710\n",
            "n_try = 18   action = 1  reward = 100    cum_score = 810\n",
            "n_try = 19   action = 0  reward = 1  cum_score = 811\n",
            "n_try = 20   action = 0  reward = 1  cum_score = 812\n",
            "n_try = 21   action = 0  reward = 1  cum_score = 812\n",
            "n_try = 22   action = 0  reward = 1  cum_score = 713\n",
            "n_try = 23   action = 1  reward = 100    cum_score = 812\n",
            "n_try = 24   action = 1  reward = 100    cum_score = 911\n",
            "n_try = 25   action = 0  reward = 1  cum_score = 812\n",
            "n_try = 26   action = 1  reward = 100    cum_score = 812\n",
            "n_try = 27   action = 1  reward = 100    cum_score = 812\n",
            "n_try = 28   action = 0  reward = 1  cum_score = 812\n",
            "n_try = 29   action = 1  reward = 100    cum_score = 911\n",
            "n_try = 30   action = 0  reward = 1  cum_score = 911\n",
            "n_try = 31   action = 1  reward = 100    cum_score = 1010\n",
            "n_try = 32   action = 0  reward = 1  cum_score = 1010\n",
            "n_try = 33   action = 0  reward = 1  cum_score = 1010\n",
            "n_try = 34   action = 0  reward = 1  cum_score = 911\n",
            "n_try = 35   action = 0  reward = 1  cum_score = 812\n",
            "n_try = 36   action = 0  reward = 1  cum_score = 812\n",
            "n_try = 37   action = 0  reward = 1  cum_score = 713\n",
            "n_try = 38   action = 0  reward = 1  cum_score = 614\n",
            "n_try = 39   action = 1  reward = 100    cum_score = 713\n",
            "n_try = 40   action = 1  reward = 100    cum_score = 812\n",
            "n_try = 41   action = 1  reward = 100    cum_score = 911\n",
            "n_try = 42   action = 1  reward = 100    cum_score = 1010\n",
            "n_try = 43   action = 0  reward = 1  cum_score = 911\n",
            "n_try = 44   action = 1  reward = 100    cum_score = 911\n",
            "n_try = 45   action = 0  reward = 1  cum_score = 911\n",
            "n_try = 46   action = 1  reward = 100    cum_score = 911\n",
            "n_try = 47   action = 0  reward = 1  cum_score = 812\n",
            "n_try = 48   action = 1  reward = 100    cum_score = 911\n",
            "n_try = 49   action = 1  reward = 100    cum_score = 911\n",
            "n_try = 50   action = 0  reward = 1  cum_score = 911"
          ]
        }
      ],
      "source": [
        "action_space = gym.spaces.Discrete(2)\n",
        "scores = []\n",
        "for i in range(50): # 1000번해도 못깸\n",
        "    action = action_space.sample() # 무지한자의 행동 (찍어)\n",
        "    #action = 1 # 깨달은자의 행동 (button1을 눌러)\n",
        "    if action == 0: \n",
        "        reward = 1 \n",
        "        scores.append(reward)\n",
        "    else:\n",
        "        reward = 100\n",
        "        scores.append(reward)\n",
        "    print(f\"n_try = {i+1}\\t action = {action}\\t reward = {reward}\\t cum_score = {np.sum(scores[-20:])}\")\n",
        "    if np.sum(scores[-20:])>1900:\n",
        "        break"
      ],
      "id": "4d4e9079-5aff-468a-8037-b1a19e8e1bfa"
    },
    {
      "cell_type": "markdown",
      "metadata": {},
      "source": [
        "## 수정2: Env 클래스"
      ],
      "id": "df4869d3-08a5-4b2a-9c4e-7359540f8897"
    },
    {
      "cell_type": "code",
      "execution_count": 124,
      "metadata": {},
      "outputs": [],
      "source": [
        "class Game1Env:\n",
        "    def step(self,action):\n",
        "        if action == 0: \n",
        "            return 1\n",
        "        else:\n",
        "            return 100"
      ],
      "id": "0f8150e2-9959-4020-9414-e82e6b3795c3"
    },
    {
      "cell_type": "code",
      "execution_count": 120,
      "metadata": {},
      "outputs": [
        {
          "output_type": "stream",
          "name": "stdout",
          "text": [
            "n_try = 1    action = 1  reward = 100    cum_score = 100\n",
            "n_try = 2    action = 1  reward = 100    cum_score = 200\n",
            "n_try = 3    action = 1  reward = 100    cum_score = 300\n",
            "n_try = 4    action = 1  reward = 100    cum_score = 400\n",
            "n_try = 5    action = 1  reward = 100    cum_score = 500\n",
            "n_try = 6    action = 1  reward = 100    cum_score = 600\n",
            "n_try = 7    action = 1  reward = 100    cum_score = 700\n",
            "n_try = 8    action = 1  reward = 100    cum_score = 800\n",
            "n_try = 9    action = 1  reward = 100    cum_score = 900\n",
            "n_try = 10   action = 1  reward = 100    cum_score = 1000\n",
            "n_try = 11   action = 1  reward = 100    cum_score = 1100\n",
            "n_try = 12   action = 1  reward = 100    cum_score = 1200\n",
            "n_try = 13   action = 1  reward = 100    cum_score = 1300\n",
            "n_try = 14   action = 1  reward = 100    cum_score = 1400\n",
            "n_try = 15   action = 1  reward = 100    cum_score = 1500\n",
            "n_try = 16   action = 1  reward = 100    cum_score = 1600\n",
            "n_try = 17   action = 1  reward = 100    cum_score = 1700\n",
            "n_try = 18   action = 1  reward = 100    cum_score = 1800\n",
            "n_try = 19   action = 1  reward = 100    cum_score = 1900\n",
            "n_try = 20   action = 1  reward = 100    cum_score = 2000"
          ]
        }
      ],
      "source": [
        "env = Game1Env()\n",
        "scores = []\n",
        "for i in range(50): # 1000번해도 못깸\n",
        "    #action = action_space.sample() # 무지한자의 행동 (찍어)\n",
        "    action = 1 # 깨달은자의 행동 (button1을 눌러)\n",
        "    reward = env.step(action)\n",
        "    scores.append(reward)\n",
        "    print(f\"n_try = {i+1}\\t action = {action}\\t reward = {reward}\\t cum_score = {np.sum(scores[-20:])}\")\n",
        "    if np.sum(scores[-20:])>1900:\n",
        "        break"
      ],
      "id": "2af252df-c080-412f-b549-084f8721d507"
    },
    {
      "cell_type": "markdown",
      "metadata": {},
      "source": [
        "## 수정3: Agent 클래스\n",
        "\n",
        "`-` Agent 클래스를 만들자 (액션을 하고, 환경에서 받은 reward를\n",
        "간직하도록)"
      ],
      "id": "9f386dca-61c5-4096-9f3f-0b5c53b7d5f9"
    },
    {
      "cell_type": "code",
      "execution_count": 152,
      "metadata": {},
      "outputs": [],
      "source": [
        "class Agent1:\n",
        "    def __init__(self):\n",
        "        self.action_space = gym.spaces.Discrete(2)\n",
        "        self.action = None\n",
        "        self.reward = None\n",
        "        self.actions = []\n",
        "        self.rewards = []\n",
        "    def act(self):\n",
        "        # self.action = self.action_space.sample() # 무지한 자\n",
        "        self.action = 1 # 깨달은 자 \n",
        "    def save_experience(self): \n",
        "        self.actions.append(self.action)\n",
        "        self.rewards.append(self.reward)"
      ],
      "id": "3a8a43e7-3975-487b-a643-8c7266112c9b"
    },
    {
      "cell_type": "markdown",
      "metadata": {},
      "source": [
        "— 대충 아래와 같은 느낌으로 돌아가요 —\n",
        "\n",
        "**시점0**: init"
      ],
      "id": "c6aa4080-fb19-4b85-96c7-04a2ae62c533"
    },
    {
      "cell_type": "code",
      "execution_count": 153,
      "metadata": {},
      "outputs": [],
      "source": [
        "env = Game1Env()\n",
        "agent = Agent1()"
      ],
      "id": "8e3fa8f0-b41f-4d92-9477-1f6725c4e831"
    },
    {
      "cell_type": "code",
      "execution_count": 154,
      "metadata": {},
      "outputs": [],
      "source": [
        "agent.action, agent.reward"
      ],
      "id": "7b528099-158b-4e65-8181-92d1a6372d40"
    },
    {
      "cell_type": "markdown",
      "metadata": {},
      "source": [
        "**시점1**: agent \\>\\> env"
      ],
      "id": "10344a1b-d199-41e9-ac78-d01970a58b20"
    },
    {
      "cell_type": "code",
      "execution_count": 155,
      "metadata": {},
      "outputs": [],
      "source": [
        "agent.act()"
      ],
      "id": "545483f3-e2e3-4fd5-9009-f22df31761aa"
    },
    {
      "cell_type": "code",
      "execution_count": 156,
      "metadata": {},
      "outputs": [],
      "source": [
        "agent.action, agent.reward"
      ],
      "id": "a7b88291-b73b-4deb-9469-0b50e06a0d7f"
    },
    {
      "cell_type": "code",
      "execution_count": 157,
      "metadata": {},
      "outputs": [],
      "source": [
        "env.received_action = agent.action "
      ],
      "id": "c1cc49b4-180f-4ac6-8322-82bc0d36dc04"
    },
    {
      "cell_type": "markdown",
      "metadata": {},
      "source": [
        "**시점2**: agent \\<\\< env"
      ],
      "id": "1d0f0fcc-bb06-4d8a-9dd8-32c85becee42"
    },
    {
      "cell_type": "code",
      "execution_count": 159,
      "metadata": {},
      "outputs": [],
      "source": [
        "agent.reward = env.step(env.received_action) \n",
        "# agent.reward = env.step(agent.action) 도 같은 결과를 주는 코드임!!"
      ],
      "id": "dd742d0b-e19c-4194-b581-5aa0cac4a12a"
    },
    {
      "cell_type": "code",
      "execution_count": 160,
      "metadata": {},
      "outputs": [],
      "source": [
        "agent.action, agent.reward, env.received_action"
      ],
      "id": "d3b53960-00d4-4652-9500-dc3860688ea5"
    },
    {
      "cell_type": "code",
      "execution_count": 161,
      "metadata": {},
      "outputs": [],
      "source": [
        "agent.actions, agent.rewards"
      ],
      "id": "55df6ce8-fc00-42be-a880-ab486a16c469"
    },
    {
      "cell_type": "markdown",
      "metadata": {},
      "source": [
        "**시점3**: agent: `save_experience`"
      ],
      "id": "595094c6-02b0-4e61-a36d-159085904469"
    },
    {
      "cell_type": "code",
      "execution_count": 162,
      "metadata": {},
      "outputs": [],
      "source": [
        "agent.save_experience()"
      ],
      "id": "10070384-7964-4cae-bffb-516ab570b98d"
    },
    {
      "cell_type": "code",
      "execution_count": 163,
      "metadata": {},
      "outputs": [],
      "source": [
        "agent.actions, agent.rewards"
      ],
      "id": "9f1024c0-f468-41cc-8f62-52811b1fc8fe"
    },
    {
      "cell_type": "markdown",
      "metadata": {},
      "source": [
        "— 전체코드 —"
      ],
      "id": "3460d4e4-f7b3-40e7-8aac-ea6744bacd19"
    },
    {
      "cell_type": "code",
      "execution_count": 164,
      "metadata": {},
      "outputs": [
        {
          "output_type": "stream",
          "name": "stdout",
          "text": [
            "n_try = 20   action = 1  reward = 100    cum_score = 100\n",
            "n_try = 20   action = 1  reward = 100    cum_score = 200\n",
            "n_try = 20   action = 1  reward = 100    cum_score = 300\n",
            "n_try = 20   action = 1  reward = 100    cum_score = 400\n",
            "n_try = 20   action = 1  reward = 100    cum_score = 500\n",
            "n_try = 20   action = 1  reward = 100    cum_score = 600\n",
            "n_try = 20   action = 1  reward = 100    cum_score = 700\n",
            "n_try = 20   action = 1  reward = 100    cum_score = 800\n",
            "n_try = 20   action = 1  reward = 100    cum_score = 900\n",
            "n_try = 20   action = 1  reward = 100    cum_score = 1000\n",
            "n_try = 20   action = 1  reward = 100    cum_score = 1100\n",
            "n_try = 20   action = 1  reward = 100    cum_score = 1200\n",
            "n_try = 20   action = 1  reward = 100    cum_score = 1300\n",
            "n_try = 20   action = 1  reward = 100    cum_score = 1400\n",
            "n_try = 20   action = 1  reward = 100    cum_score = 1500\n",
            "n_try = 20   action = 1  reward = 100    cum_score = 1600\n",
            "n_try = 20   action = 1  reward = 100    cum_score = 1700\n",
            "n_try = 20   action = 1  reward = 100    cum_score = 1800\n",
            "n_try = 20   action = 1  reward = 100    cum_score = 1900\n",
            "n_try = 20   action = 1  reward = 100    cum_score = 2000"
          ]
        }
      ],
      "source": [
        "env = Game1Env()\n",
        "agent = Agent1()\n",
        "for _ in range(50):\n",
        "    ## 본질적인 코드\n",
        "    # step1: agent >> env \n",
        "    agent.act()\n",
        "    env.received_action = agent.action \n",
        "    # step2: agnet << env \n",
        "    agent.reward = env.step(env.received_action) \n",
        "    # step3: save \n",
        "    agent.save_experience()\n",
        "    \n",
        "    ## 비본질적 코드 \n",
        "    print(f\"n_try = {i+1}\\t action = {agent.action}\\t reward = {agent.reward}\\t cum_score = {np.sum(agent.rewards[-20:])}\")\n",
        "    if np.sum(agent.rewards[-20:])>1900:\n",
        "        break"
      ],
      "id": "bd8ebd38-0b87-47f5-bf32-141a42388734"
    },
    {
      "cell_type": "markdown",
      "metadata": {},
      "source": [
        "-   위의 코드를 거의 뼈대로 사용합니당!\n",
        "\n",
        "# Game1: 벤딧문제 – 학습과정 포함\n",
        "\n",
        "`-` Game1에 대한 생각:\n",
        "\n",
        "-   사실 강화학습은 “환경을 이해 $\\to$ 뭘 해야 하는지 깨달음” 의\n",
        "    과정에서 화살표를 수식화 하는 과정이다.\n",
        "-   지금까지 살펴보면 Game1은 환경(env)을 이해하는 순간 에이전트가\n",
        "    최적의 행동(action)[1]을 직관적으로 결정하였으므로 학습의 과정이\n",
        "    포함되었다고 볼 수 없다.\n",
        "\n",
        "`-` 지금까지의 코드 복습\n",
        "\n",
        "1.  클래스를 선언하는 부분\n",
        "    -   `Env`클래스의 선언\n",
        "    -   `Agent`클래스의 선언\n",
        "2.  환경과 에이전트를 인스턴스화 (초기화)\n",
        "3.  for loop를 반복하며 게임을 진행\n",
        "    -   메인코드: (1) agent \\>\\> env (2) agent \\<\\< env (3) 데이터저장\n",
        "    -   비본질적코드: 학습과정 display, 학습종료조건\n",
        "\n",
        "`-` 앞으로 구성할 코드의 형태: 에이전트가 데이터를 보고 스스로\n",
        "`button1`을 눌러야 한다는 것을 추론하면 좋겠음\n",
        "\n",
        "1.  클래스를 선언하는 부분\n",
        "    -   `Env`클래스의 선언\n",
        "    -   **`Agent`클래스의 선언**: **학습의 과정 포함 $\\to$ act함수\n",
        "        수정**\n",
        "2.  환경과 에이전트를 인스턴스화 (초기화)\n",
        "3.  for loop를 반복하며 게임을 진행\n",
        "    -   메인코드: (1) agent \\>\\> env (2) agent \\<\\< env (3) 데이터저장\n",
        "        **(4) 학습**\n",
        "    -   비본질적코드: 학습과정 display, 학습종료조건\n",
        "\n",
        "`-` 에이전트가 학습을 어떻게 하는가?[2]\n",
        "\n",
        "-   $\\pi(0) = \\frac{Q_t(1)}{Q_t(1)+Q_t(0)}$\n",
        "-   $\\pi(1) = \\frac{Q_t(0)}{Q_t(1)+Q_t(0)}$\n",
        "\n",
        "여기에서 각각의 기호는 아래를 의미한다.\n",
        "\n",
        "-   $\\pi(0)$: 에이전트가 action = 0 을 할 확률, 즉 에이전트가\n",
        "    `button0`을 누를 확률\n",
        "-   $\\pi(1)$: 에이전트가 action = 1 을 할 확률, 즉 에이전트가\n",
        "    `button1`을 누를 확률\n",
        "-   $Q_t(0)$: ($t$시점까지 파악한) action = 0 을 하였을 경우 에이전트가\n",
        "    환경으로 받은 보상의 평균값\n",
        "-   $Q_t(1)$: ($t$시점까지 파악한) action = 1 을 하였을 경우 에이전트가\n",
        "    환경으로 받은 보상의 평균값\n",
        "\n",
        "`-` 걱정: $t=0$이면 어쩌지? $t=1$이면 어쩌지?.. $\\to$ 잡기술1: 일정\n",
        "시간동안은 랜덤액션을 하면서 데이터를 쌓자.\n",
        "\n",
        "`-` 코드를 구현해보자.\n",
        "\n",
        "[1] `button1`을 누른다\n",
        "\n",
        "[2] 행동을 이런식으로 하도록 “전략(=정책)”을 설정하는 것은 상식적이다.\n",
        "그렇지만 유일한 해결책은 아님!!"
      ],
      "id": "63e11419-53d8-4b82-a51b-c7d585c295dc"
    },
    {
      "cell_type": "code",
      "execution_count": 177,
      "metadata": {},
      "outputs": [],
      "source": [
        "# 게임을 푸는 전략을 바꾸는 것이지 게임자체를 바꿀게 아니니까 수정할게 없죠?\n",
        "class Game1Env:\n",
        "    def step(self,action):\n",
        "        if action == 0: \n",
        "            return 1\n",
        "        else:\n",
        "            return 100"
      ],
      "id": "67665c93-1cd4-4dc5-b577-2de0ebc5cfb3"
    },
    {
      "cell_type": "code",
      "execution_count": 178,
      "metadata": {},
      "outputs": [],
      "source": [
        "# learn 추가\n",
        "class Agent1:\n",
        "    def __init__(self):\n",
        "        self.action_space = gym.spaces.Discrete(2)\n",
        "        self.action = None\n",
        "        self.reward = None\n",
        "        self.actions = []\n",
        "        self.rewards = []\n",
        "        self.n_experiences = 0\n",
        "        self.qnet = {'button0':0, 'button1':0}\n",
        "    def act(self):\n",
        "        if self.n_experiences > 100:\n",
        "            pass\n",
        "        else:\n",
        "            self.action = self.action_space.sample() # 무지한 자\n",
        "        self.action = 1 # 깨달은 자 \n",
        "    def save_experience(self): \n",
        "        self.actions.append(self.action)\n",
        "        self.rewards.append(self.reward)\n",
        "        self.n_experiences = len(self.actions)\n",
        "    def learn(self):\n",
        "        pass"
      ],
      "id": "b87cd3f2-fc9a-4b0a-a0b3-cf350c19de61"
    },
    {
      "cell_type": "markdown",
      "metadata": {},
      "source": [
        "`-` 다른방식도 가능함\n",
        "\n",
        "-   (Sutton and Barto 2018, p27, (2.1))"
      ],
      "id": "c52f55fc-bd77-4dd7-925f-e7aaadfb7348"
    },
    {
      "cell_type": "code",
      "execution_count": 166,
      "metadata": {},
      "outputs": [],
      "source": [
        "class Game1Env:\n",
        "    def step(self,action):\n",
        "        if action == 0: \n",
        "            return 1\n",
        "        else:\n",
        "            return 100"
      ],
      "id": "471a58c0-f35f-4d09-833d-89f48ed37e94"
    },
    {
      "cell_type": "code",
      "execution_count": 167,
      "metadata": {},
      "outputs": [],
      "source": [
        "class Agent1:\n",
        "    def __init__(self):\n",
        "        self.action_space = gym.spaces.Discrete(2)\n",
        "        self.action = None\n",
        "        self.reward = None\n",
        "        self.actions = []\n",
        "        self.rewards = []\n",
        "    def act(self):\n",
        "        # self.action = self.action_space.sample() # 무지한 자\n",
        "        self.action = 1 # 깨달은 자 \n",
        "    def save_experience(self): \n",
        "        self.actions.append(self.action)\n",
        "        self.rewards.append(self.reward)\n",
        "    def "
      ],
      "id": "2f8fb69b-a96d-4196-a2b6-f2f578560fae"
    },
    {
      "cell_type": "markdown",
      "metadata": {},
      "source": [
        "# Game2: 4 $\\times$ 4 그리드\n",
        "\n",
        "## Game1\n",
        "\n",
        "`-` 강화학습의 기본개념"
      ],
      "id": "b0211d1a-c886-4e10-ab83-1790c415a0c9"
    },
    {
      "cell_type": "code",
      "execution_count": null,
      "metadata": {},
      "outputs": [],
      "source": [
        "scores = []\n",
        "for _ in range(1000):\n",
        "    action = np.random.choice(action_space)\n",
        "    #action = action_space[1] # 잘 배웠다면 이렇게 행동해야함 \n",
        "    if action == 'button0': \n",
        "        reward = 1 \n",
        "        scores.append(reward)\n",
        "    else:\n",
        "        reward = 100\n",
        "        scores.append(reward)\n",
        "    print(action,reward,np.sum(scores[-20:]))\n",
        "    if np.sum(scores[-20:])>1900:\n",
        "        break"
      ],
      "id": "b6d3a418-b07d-48d5-b94d-8a2ab941386b"
    },
    {
      "cell_type": "markdown",
      "metadata": {},
      "source": [
        "-   어떤 동작을 하느냐에 따라서 게임을 풀수도 있고 그렇지 못할 수도\n",
        "    있다.\n",
        "\n",
        "`-` 용어 정리 - Agent = 버튼을 누르는 사람 - Action = 에이전트가 할 수\n",
        "있는 행동 (현재는 2개의 action이 가능) - Env = Agent의 action을 보고\n",
        "reward를 주는 존재 - 게임의 종료 = 버튼을 누르면 게임이 종료 - 게임을\n",
        "푸는 방법 = reward를 최대화하는 action을 선택\n",
        "\n",
        "`-` 코드의 수정"
      ],
      "id": "7f221853-d163-4562-8f59-e7fe4a423aeb"
    },
    {
      "cell_type": "code",
      "execution_count": 15,
      "metadata": {},
      "outputs": [],
      "source": [
        "action_space = ["
      ],
      "id": "53bab7a3-17c2-49ba-8322-d85dce045b57"
    },
    {
      "cell_type": "markdown",
      "metadata": {},
      "source": [
        "`-` construct ENV"
      ],
      "id": "3d722953-3a6a-4206-850c-29724bb4d623"
    },
    {
      "cell_type": "code",
      "execution_count": 14,
      "metadata": {},
      "outputs": [],
      "source": [
        "class Game1(gym.Env):\n",
        "    def __init__(self):\n",
        "        self.action_space = gym.spaces.Discrete(2,start=0)\n",
        "        self.observation_space = gym.spaces.Discrete(1,start=0)\n",
        "        self.state = 0 \n",
        "    def step(self,action):\n",
        "        if action == 1:\n",
        "            self.reward = 100 \n",
        "            return self.state, self.reward \n",
        "        else: \n",
        "            self.reward = 0 \n",
        "            return self.state, self.reward\n",
        "    def render(self):\n",
        "        return f'state: {self.state}'\n",
        "    def reset(self):\n",
        "        None, self.state\n",
        "    def close(self):\n",
        "        pass"
      ],
      "id": "7ec1ed5b-5846-4a8d-98ee-cee5c04e2429"
    },
    {
      "cell_type": "code",
      "execution_count": 10,
      "metadata": {},
      "outputs": [],
      "source": [
        "env = Game1()"
      ],
      "id": "f75bda59-e112-4aed-9689-977a50b0a4a8"
    },
    {
      "cell_type": "code",
      "execution_count": 11,
      "metadata": {},
      "outputs": [],
      "source": [
        "env.render()"
      ],
      "id": "72694d4a-ecd4-4082-ba9d-d20908c0dc11"
    },
    {
      "cell_type": "code",
      "execution_count": 12,
      "metadata": {},
      "outputs": [],
      "source": [
        "env.step(1)"
      ],
      "id": "605b2696-fd43-46c3-8c42-fec3f43331fd"
    },
    {
      "cell_type": "code",
      "execution_count": 4,
      "metadata": {},
      "outputs": [],
      "source": [
        "gym.spaces.Discrete?"
      ],
      "id": "0db4f0e2-4cd7-4017-9368-b6efb63c18cf"
    },
    {
      "cell_type": "code",
      "execution_count": null,
      "metadata": {},
      "outputs": [],
      "source": [
        "class Game1(gym.Env):\n",
        "    def __init__(self):\n",
        "        self.action_space = gym.spaces.Discrete(2,start=0)\n",
        "        self.observation_space = gym.spaces.Discrete(1,start=0)\n",
        "        self.state = 0 \n",
        "    def step(self,action):\n",
        "        if action == 1:\n",
        "            self.reward = 100 \n",
        "            return self.state, self.reward \n",
        "        else: \n",
        "            self.reward = 0 \n",
        "            return self.state, self.reward\n",
        "    def render(self):\n",
        "        return f'state: {self.state}'\n",
        "    def reset(self):\n",
        "        None, self.state\n",
        "    def close(self):\n",
        "        pass"
      ],
      "id": "50adec81-ce99-4004-80db-eb2605ca3fe6"
    },
    {
      "cell_type": "markdown",
      "metadata": {},
      "source": [
        "# Game3: 한칸 or 두칸\n",
        "\n",
        "`-` $q$-value\n",
        "\n",
        "# Game4: 소탐대실\n",
        "\n",
        "`-` epsilon decay\n",
        "\n",
        "`-` 문제설명: 에이전트는 현재 0의 위치에 있다. 에이전트는 (1) 정지 (2)\n",
        "왼쪽으로 이동 (3) 오른쪽으로 이동 하는 3개의 행동을 할 수 있다.\n",
        "에이전트가 +2의 위치에 도달하면 100의 보상을 얻고 게임이 종료된다.\n",
        "에이전트가 -2의 위치에 도달하면 보상없이 게임이 종료된다.\n",
        "\n",
        "`-` 에이전트와 환경의 상호작용 구현1"
      ],
      "id": "aa641095-dd62-4869-9297-566f20eb6691"
    },
    {
      "cell_type": "code",
      "execution_count": 54,
      "metadata": {},
      "outputs": [],
      "source": [
        "state = 0"
      ],
      "id": "d753194b-c29d-408d-bbb4-6e82d6455be7"
    },
    {
      "cell_type": "code",
      "execution_count": 55,
      "metadata": {},
      "outputs": [],
      "source": [
        "action = np.random.choice([-1,0,1])"
      ],
      "id": "49be0f5a-2337-454b-ae5b-973628356a35"
    },
    {
      "cell_type": "code",
      "execution_count": 56,
      "metadata": {},
      "outputs": [
        {
          "output_type": "stream",
          "name": "stdout",
          "text": [
            "0 -1"
          ]
        }
      ],
      "source": [
        "print(state,action)"
      ],
      "id": "13527401-e8e7-4ded-be35-f6b25c83bc41"
    },
    {
      "cell_type": "code",
      "execution_count": 57,
      "metadata": {},
      "outputs": [
        {
          "output_type": "stream",
          "name": "stdout",
          "text": [
            "0 -1\n",
            "-1 1\n",
            "0 0\n",
            "0 -1\n",
            "-1 0\n",
            "-1 1\n",
            "0 -1\n",
            "-1 -1\n",
            "-2\n",
            "-2의 위치에 도달, 보상 0점 획득"
          ]
        }
      ],
      "source": [
        "for _ in range(9): \n",
        "    if state == 2:\n",
        "        print(state)\n",
        "        reward = 200         \n",
        "        print(\"2의 위치에 도달, 보상 {}점 획득\".format(reward))\n",
        "        break \n",
        "    elif state == -2:\n",
        "        print(state)\n",
        "        reward = 0 \n",
        "        print(\"-2의 위치에 도달, 보상 {}점 획득\".format(reward))\n",
        "        break\n",
        "    else:\n",
        "        print(state,action)\n",
        "        state = state + action \n",
        "        action = np.random.choice([-1,0,1])"
      ],
      "id": "1e6c4ab7-15e9-491e-8b44-392491213600"
    },
    {
      "cell_type": "markdown",
      "metadata": {},
      "source": [
        "`-` 에이전트와 환경의 상호작용 구현2"
      ],
      "id": "aaa34d34-ba6d-4e09-b3cc-e493557fc65d"
    },
    {
      "cell_type": "code",
      "execution_count": 9,
      "metadata": {},
      "outputs": [],
      "source": [
        "observation_space = gym.spaces.Discrete(5,start=-2)"
      ],
      "id": "982dc58a-b969-4086-8f3a-994467a0899e"
    },
    {
      "cell_type": "code",
      "execution_count": 10,
      "metadata": {},
      "outputs": [],
      "source": [
        "observation_space.sample()"
      ],
      "id": "33b84075-ad4f-4d8f-8757-9332ffc45b30"
    },
    {
      "cell_type": "code",
      "execution_count": 11,
      "metadata": {},
      "outputs": [],
      "source": [
        "observation_space.shape"
      ],
      "id": "9addcb23-27b9-4fb5-82ac-8386337054cf"
    },
    {
      "cell_type": "code",
      "execution_count": 12,
      "metadata": {},
      "outputs": [],
      "source": [
        "observation_space.contains(-3),observation_space.contains(-2)"
      ],
      "id": "fc7b0d94-3fff-44dc-be2a-6cdded371de0"
    },
    {
      "cell_type": "code",
      "execution_count": 13,
      "metadata": {},
      "outputs": [],
      "source": [
        "action_space = gym.spaces.Discrete(3,start=-1)"
      ],
      "id": "44a3bacd-7fe7-4988-9edc-ac37d5e59dd4"
    },
    {
      "cell_type": "code",
      "execution_count": 14,
      "metadata": {},
      "outputs": [],
      "source": [
        "action_space"
      ],
      "id": "d03dd2d8-470d-4099-aad5-76bb3c4a208b"
    },
    {
      "cell_type": "code",
      "execution_count": 15,
      "metadata": {},
      "outputs": [],
      "source": [
        "class Game2(gym.Env):\n",
        "    def __init__(self):\n",
        "        self.action_space = gym.spaces.Discrete(3,start=-1) # Acition = {-1,0,1}  \n",
        "        self.observation_space = gym.spaces.Discrete(5,start=-2) # State = {-2,-1,0,1,2} \n",
        "        self.state = 0 \n",
        "        self.t = 0\n",
        "    def step(self,action):\n",
        "        self.state = self.state + action\n",
        "        self.t = self.t + 1 \n",
        "        if self.state == 2:\n",
        "            reward = 100\n",
        "        else:\n",
        "            reward = -1\n",
        "        info = {}\n",
        "        if self.state == -2 or self.state==2: \n",
        "            done = True\n",
        "        else: \n",
        "            done = False\n",
        "        return self.state, reward, terminated, truncated, info\n",
        "    def render(self):\n",
        "        print('state: {}'.format(self.state))\n",
        "    def reset(self):\n",
        "        self.state = 0 \n",
        "        return self.state"
      ],
      "id": "943478ae-efb4-461e-9ec8-47b48c1050bf"
    },
    {
      "cell_type": "code",
      "execution_count": 16,
      "metadata": {},
      "outputs": [],
      "source": [
        "env=Game2()"
      ],
      "id": "fa6c4fa4-f2bc-416d-9b2d-e635cfcff6ab"
    },
    {
      "cell_type": "markdown",
      "metadata": {},
      "source": [
        "# Game5: 연속형 상태공간"
      ],
      "id": "46761edf-c9b0-4072-829f-62162167c33a"
    },
    {
      "cell_type": "code",
      "execution_count": 68,
      "metadata": {},
      "outputs": [],
      "source": [
        "import numpy as np\n",
        "import pygame\n",
        "\n",
        "import gymnasium as gym\n",
        "from gymnasium import spaces\n",
        "\n",
        "\n",
        "class GridWorldEnv(gym.Env):\n",
        "    metadata = {\"render_modes\": [\"human\", \"rgb_array\"], \"render_fps\": 4}\n",
        "\n",
        "    def __init__(self, render_mode=None, size=5):\n",
        "        self.size = size  # The size of the square grid\n",
        "        self.window_size = 512  # The size of the PyGame window\n",
        "\n",
        "        # Observations are dictionaries with the agent's and the target's location.\n",
        "        # Each location is encoded as an element of {0, ..., `size`}^2, i.e. MultiDiscrete([size, size]).\n",
        "        self.observation_space = spaces.Dict(\n",
        "            {\n",
        "                \"agent\": spaces.Box(0, size - 1, shape=(2,), dtype=int),\n",
        "                \"target\": spaces.Box(0, size - 1, shape=(2,), dtype=int),\n",
        "            }\n",
        "        )\n",
        "\n",
        "        # We have 4 actions, corresponding to \"right\", \"up\", \"left\", \"down\"\n",
        "        self.action_space = spaces.Discrete(4)\n",
        "\n",
        "        \"\"\"\n",
        "        The following dictionary maps abstract actions from `self.action_space` to\n",
        "        the direction we will walk in if that action is taken.\n",
        "        I.e. 0 corresponds to \"right\", 1 to \"up\" etc.\n",
        "        \"\"\"\n",
        "        self._action_to_direction = {\n",
        "            0: np.array([1, 0]),\n",
        "            1: np.array([0, 1]),\n",
        "            2: np.array([-1, 0]),\n",
        "            3: np.array([0, -1]),\n",
        "        }\n",
        "\n",
        "        assert render_mode is None or render_mode in self.metadata[\"render_modes\"]\n",
        "        self.render_mode = render_mode\n",
        "\n",
        "        \"\"\"\n",
        "        If human-rendering is used, `self.window` will be a reference\n",
        "        to the window that we draw to. `self.clock` will be a clock that is used\n",
        "        to ensure that the environment is rendered at the correct framerate in\n",
        "        human-mode. They will remain `None` until human-mode is used for the\n",
        "        first time.\n",
        "        \"\"\"\n",
        "        self.window = None\n",
        "        self.clock = None\n",
        "    def _get_obs(self):\n",
        "        return {\"agent\": self._agent_location, \"target\": self._target_location}        \n",
        "    def _get_info(self):\n",
        "        return {\n",
        "            \"distance\": np.linalg.norm(\n",
        "                self._agent_location - self._target_location, ord=1\n",
        "            )\n",
        "        }\n",
        "    def reset(self, seed=None, options=None):\n",
        "        # We need the following line to seed self.np_random\n",
        "        super().reset(seed=seed)\n",
        "    \n",
        "        # Choose the agent's location uniformly at random\n",
        "        self._agent_location = self.np_random.integers(0, self.size, size=2, dtype=int)\n",
        "    \n",
        "        # We will sample the target's location randomly until it does not coincide with the agent's location\n",
        "        self._target_location = self._agent_location\n",
        "        while np.array_equal(self._target_location, self._agent_location):\n",
        "            self._target_location = self.np_random.integers(\n",
        "                0, self.size, size=2, dtype=int\n",
        "            )\n",
        "    \n",
        "        observation = self._get_obs()\n",
        "        info = self._get_info()\n",
        "    \n",
        "        if self.render_mode == \"human\":\n",
        "            self._render_frame()\n",
        "    \n",
        "        return observation, info\n",
        "    def step(self, action):\n",
        "        # Map the action (element of {0,1,2,3}) to the direction we walk in\n",
        "        direction = self._action_to_direction[action]\n",
        "        # We use `np.clip` to make sure we don't leave the grid\n",
        "        self._agent_location = np.clip(\n",
        "            self._agent_location + direction, 0, self.size - 1\n",
        "        )\n",
        "        # An episode is done iff the agent has reached the target\n",
        "        terminated = np.array_equal(self._agent_location, self._target_location)\n",
        "        reward = 1 if terminated else 0  # Binary sparse rewards\n",
        "        observation = self._get_obs()\n",
        "        info = self._get_info()\n",
        "    \n",
        "        if self.render_mode == \"human\":\n",
        "            self._render_frame()\n",
        "    \n",
        "        return observation, reward, terminated, False, info\n",
        "    def render(self):\n",
        "        if self.render_mode == \"rgb_array\":\n",
        "            return self._render_frame()\n",
        "    \n",
        "    def _render_frame(self):\n",
        "        if self.window is None and self.render_mode == \"human\":\n",
        "            pygame.init()\n",
        "            pygame.display.init()\n",
        "            self.window = pygame.display.set_mode(\n",
        "                (self.window_size, self.window_size)\n",
        "            )\n",
        "        if self.clock is None and self.render_mode == \"human\":\n",
        "            self.clock = pygame.time.Clock()\n",
        "    \n",
        "        canvas = pygame.Surface((self.window_size, self.window_size))\n",
        "        canvas.fill((255, 255, 255))\n",
        "        pix_square_size = (\n",
        "            self.window_size / self.size\n",
        "        )  # The size of a single grid square in pixels\n",
        "    \n",
        "        # First we draw the target\n",
        "        pygame.draw.rect(\n",
        "            canvas,\n",
        "            (255, 0, 0),\n",
        "            pygame.Rect(\n",
        "                pix_square_size * self._target_location,\n",
        "                (pix_square_size, pix_square_size),\n",
        "            ),\n",
        "        )\n",
        "        # Now we draw the agent\n",
        "        pygame.draw.circle(\n",
        "            canvas,\n",
        "            (0, 0, 255),\n",
        "            (self._agent_location + 0.5) * pix_square_size,\n",
        "            pix_square_size / 3,\n",
        "        )\n",
        "    \n",
        "        # Finally, add some gridlines\n",
        "        for x in range(self.size + 1):\n",
        "            pygame.draw.line(\n",
        "                canvas,\n",
        "                0,\n",
        "                (0, pix_square_size * x),\n",
        "                (self.window_size, pix_square_size * x),\n",
        "                width=3,\n",
        "            )\n",
        "            pygame.draw.line(\n",
        "                canvas,\n",
        "                0,\n",
        "                (pix_square_size * x, 0),\n",
        "                (pix_square_size * x, self.window_size),\n",
        "                width=3,\n",
        "            )\n",
        "    \n",
        "        if self.render_mode == \"human\":\n",
        "            # The following line copies our drawings from `canvas` to the visible window\n",
        "            self.window.blit(canvas, canvas.get_rect())\n",
        "            pygame.event.pump()\n",
        "            pygame.display.update()\n",
        "    \n",
        "            # We need to ensure that human-rendering occurs at the predefined framerate.\n",
        "            # The following line will automatically add a delay to keep the framerate stable.\n",
        "            self.clock.tick(self.metadata[\"render_fps\"])\n",
        "        else:  # rgb_array\n",
        "            return np.transpose(\n",
        "                np.array(pygame.surfarray.pixels3d(canvas)), axes=(1, 0, 2)\n",
        "            )\n",
        "    def close(self):\n",
        "        if self.window is not None:\n",
        "            pygame.display.quit()\n",
        "            pygame.quit()            "
      ],
      "id": "a94554fe-b0f9-4bc0-b7a5-dba900312a36"
    },
    {
      "cell_type": "code",
      "execution_count": 59,
      "metadata": {},
      "outputs": [],
      "source": [
        "env = GridWorldEnv()"
      ],
      "id": "ab3800a3-6937-497c-9f5a-62cc76d265b6"
    },
    {
      "cell_type": "code",
      "execution_count": 60,
      "metadata": {},
      "outputs": [],
      "source": [
        "env.observation_space"
      ],
      "id": "851fe51b-44aa-41bb-a2d4-94fd2eb67423"
    },
    {
      "cell_type": "code",
      "execution_count": 61,
      "metadata": {},
      "outputs": [],
      "source": [
        "env.action_space"
      ],
      "id": "63c56269-14b1-406d-bf37-27f4773ac2ac"
    },
    {
      "cell_type": "code",
      "execution_count": 62,
      "metadata": {},
      "outputs": [],
      "source": [
        "env.reset()"
      ],
      "id": "00160498-163e-46bf-a06f-5cd6af4c93b6"
    },
    {
      "cell_type": "markdown",
      "metadata": {},
      "source": [
        "# Game6: LunarLander\n",
        "\n",
        "### 환경만들기\n",
        "\n",
        "`-` 환경을 만드는 방법은 아래와 같다."
      ],
      "id": "beedee05-3956-4182-b780-a962a20c4e44"
    },
    {
      "cell_type": "code",
      "execution_count": 12,
      "metadata": {},
      "outputs": [],
      "source": [
        "env = gym.make('LunarLander-v2',render_mode='rgb_array')"
      ],
      "id": "3e085d50-9d39-4e75-9151-843deb6ee4e6"
    },
    {
      "cell_type": "markdown",
      "metadata": {},
      "source": [
        "`-` 환경에 대한 기본 정보를 조사하여 보자."
      ],
      "id": "46e1ec06-a91f-445f-90e6-379749df0d9f"
    },
    {
      "cell_type": "code",
      "execution_count": 13,
      "metadata": {},
      "outputs": [],
      "source": [
        "env.observation_space"
      ],
      "id": "49e5d1b8-e68d-41da-9c08-26530b8fdacd"
    },
    {
      "cell_type": "code",
      "execution_count": 11,
      "metadata": {},
      "outputs": [],
      "source": [
        "env.action_space"
      ],
      "id": "cfde2681-4846-4aa0-87ce-66333cd7485a"
    },
    {
      "cell_type": "markdown",
      "metadata": {},
      "source": [
        "### 환경관찰\n",
        "\n",
        "`-` 환경관찰"
      ],
      "id": "f1dcba9e-926b-48e3-bf9a-77d97879e201"
    },
    {
      "cell_type": "code",
      "execution_count": 66,
      "metadata": {},
      "outputs": [],
      "source": [
        "env.reset(seed=0)"
      ],
      "id": "35312d3e-1276-4895-b94a-224a0053089b"
    },
    {
      "cell_type": "code",
      "execution_count": 20,
      "metadata": {},
      "outputs": [
        {
          "output_type": "display_data",
          "metadata": {},
          "data": {
            "image/png": "[encoded data removed]"
          }
        }
      ],
      "source": [
        "plt.imshow(env.render())"
      ],
      "id": "eb749f7b-5efe-4646-a8d6-ae8e2e2c2af6"
    },
    {
      "cell_type": "code",
      "execution_count": 52,
      "metadata": {},
      "outputs": [],
      "source": [
        "env.step(2) # observation, reward, terminated, truncated, info"
      ],
      "id": "9fa82115-7a62-4916-b62c-76548737af76"
    },
    {
      "cell_type": "code",
      "execution_count": 53,
      "metadata": {},
      "outputs": [
        {
          "output_type": "display_data",
          "metadata": {},
          "data": {
            "image/png": "[encoded data removed]"
          }
        }
      ],
      "source": [
        "plt.imshow(env.render())"
      ],
      "id": "1bc00880-e619-42f5-9317-7faf4d22c3f7"
    },
    {
      "cell_type": "markdown",
      "metadata": {},
      "source": [
        "`-` action"
      ],
      "id": "da3015e3-5a01-4486-b815-d689ac724753"
    },
    {
      "cell_type": "code",
      "execution_count": 122,
      "metadata": {},
      "outputs": [],
      "source": [
        "env.action_space.sample()"
      ],
      "id": "37dafca5-cbbc-4b88-96a7-a180f77d9023"
    },
    {
      "cell_type": "markdown",
      "metadata": {},
      "source": [
        "-   int형으로 전달\n",
        "\n",
        "`-` action -\\> nextstate, reward, done"
      ],
      "id": "0976a719-5f57-4671-8b30-31155b289b49"
    },
    {
      "cell_type": "code",
      "execution_count": 123,
      "metadata": {},
      "outputs": [],
      "source": [
        "env.step(env.action_space.sample())"
      ],
      "id": "23f3049d-0c1d-438f-8fcc-3854ee723c10"
    },
    {
      "cell_type": "code",
      "execution_count": 124,
      "metadata": {},
      "outputs": [],
      "source": [
        "frames = []\n",
        "env.reset()\n",
        "for _ in range(300):\n",
        "    frames.append(env.render())\n",
        "    env.step(env.action_space.sample())\n",
        "env.close()"
      ],
      "id": "3cb75d3b-016b-42ce-8497-93120341a230"
    },
    {
      "cell_type": "code",
      "execution_count": 125,
      "metadata": {},
      "outputs": [
        {
          "output_type": "display_data",
          "metadata": {},
          "data": {
            "image/png": "[encoded data removed]"
          }
        }
      ],
      "source": [
        "fig, ax = plt.subplots()\n",
        "ani = FuncAnimation(fig,lambda i: ax.imshow(frames[::10][i]),frames=len(frames[::10]))"
      ],
      "id": "9ceab5f9-1e5a-457b-8464-20c9db84d769"
    },
    {
      "cell_type": "code",
      "execution_count": 126,
      "metadata": {},
      "outputs": [],
      "source": [
        "# !conda install -c conda-forge ffmpeg"
      ],
      "id": "bd4071f6-8541-46c2-8120-4e6fe196bf09"
    },
    {
      "cell_type": "code",
      "execution_count": 127,
      "metadata": {},
      "outputs": [],
      "source": [
        "IPython.display.HTML(ani.to_jshtml())"
      ],
      "id": "6fad79d6-2d16-49d1-b425-d2f7ad74896d"
    },
    {
      "cell_type": "markdown",
      "metadata": {},
      "source": [
        "### Replay Buffer\n",
        "\n",
        "`-` 랜덤액션을 연속적으로 생성하고 그 결과를 기록해보자."
      ],
      "id": "a77ae377-f27c-4316-be19-0e872f4638e5"
    },
    {
      "cell_type": "code",
      "execution_count": 334,
      "metadata": {},
      "outputs": [],
      "source": [
        "states = []\n",
        "actions = []\n",
        "rewards = []\n",
        "next_states = []\n",
        "terminateds = []"
      ],
      "id": "ae71b487-9754-4f06-ba45-2acb2bdefda4"
    },
    {
      "cell_type": "code",
      "execution_count": 335,
      "metadata": {},
      "outputs": [],
      "source": [
        "_state1, _ = env.reset()\n",
        "for t in range(1500):\n",
        "    _action = env.action_space.sample() \n",
        "    _state2, _reward, _terminated, _truncated, _info = env.step(_action)\n",
        "    ## save code \n",
        "    states.append(_state1) \n",
        "    actions.append(_action)\n",
        "    rewards.append(_reward)\n",
        "    next_states.append(_state2)\n",
        "    terminateds.append(_terminated)\n",
        "    ## save code end \n",
        "    _state1 = _state2 \n",
        "    if _terminated:\n",
        "        break"
      ],
      "id": "6b950bc8-0ae9-461e-ba22-0e9e6139c4db"
    },
    {
      "cell_type": "code",
      "execution_count": 336,
      "metadata": {},
      "outputs": [],
      "source": [
        "env.reset()"
      ],
      "id": "58710491-4c49-4740-9823-818daf83d927"
    },
    {
      "cell_type": "code",
      "execution_count": 337,
      "metadata": {},
      "outputs": [],
      "source": [
        "env.step(_action)"
      ],
      "id": "01bdd075-1288-480b-aa1e-8204da75bf53"
    },
    {
      "cell_type": "markdown",
      "metadata": {},
      "source": [
        "`-` 모인 히스토리를 확인해보자."
      ],
      "id": "775d9179-402e-4303-b079-921240a10ada"
    },
    {
      "cell_type": "code",
      "execution_count": 338,
      "metadata": {},
      "outputs": [],
      "source": [
        "len(states), len(actions), len(next_states), len(rewards), len(terminateds)"
      ],
      "id": "58524369-1817-4ee5-84ae-b05dfb323b81"
    },
    {
      "cell_type": "markdown",
      "metadata": {},
      "source": [
        "### Qnetwork 설계\n",
        "\n",
        "`-` 네트워크의 목적: 내가 여기서 뭘 해야하는지 알려줘! = 내가 이\n",
        "상태에서, 어떠한 액션을 해야하는지 알려줘 $\\to$ 8개의 상태를 입력으로\n",
        "받으면 4개의 액션에 대한 좋은 정도를 숫자로 표현하는 어떠한 함수를\n",
        "만들자.\n",
        "\n",
        "`-` net 설계"
      ],
      "id": "e8832775-6b81-4718-a741-e6827cda300e"
    },
    {
      "cell_type": "code",
      "execution_count": 339,
      "metadata": {},
      "outputs": [],
      "source": [
        "net = torch.nn.Sequential(\n",
        "    torch.nn.Linear(in_features=8, out_features=128),\n",
        "    torch.nn.ReLU(),\n",
        "    torch.nn.Linear(in_features=128, out_features=64),\n",
        "    torch.nn.ReLU(),\n",
        "    torch.nn.Linear(in_features=64, out_features=32),\n",
        "    torch.nn.ReLU(),\n",
        "    torch.nn.Linear(in_features=32, out_features=4)\n",
        ")\n",
        "net"
      ],
      "id": "54860fb4-9cbd-4aab-9ce7-d716d07e0e7d"
    },
    {
      "cell_type": "code",
      "execution_count": 340,
      "metadata": {},
      "outputs": [],
      "source": [
        "net(torch.tensor(states))"
      ],
      "id": "ab62e365-d629-42c6-91e0-f492ff3a99d0"
    },
    {
      "cell_type": "markdown",
      "metadata": {},
      "source": [
        "### Policy 설계\n",
        "\n",
        "`-` 네트워크의 의미"
      ],
      "id": "8c2f7c24-4a90-4780-ad17-1d8f6efec156"
    },
    {
      "cell_type": "code",
      "execution_count": 341,
      "metadata": {},
      "outputs": [],
      "source": [
        "states[0],states[1]"
      ],
      "id": "78306592-ca58-4621-8e21-1acd4941278a"
    },
    {
      "cell_type": "code",
      "execution_count": 342,
      "metadata": {},
      "outputs": [],
      "source": [
        "net(torch.tensor(states[0:2]))"
      ],
      "id": "4ba397f6-33b6-429c-b718-321f69c1f765"
    },
    {
      "cell_type": "markdown",
      "metadata": {},
      "source": [
        "-   상태0에서는 액션0이, 상태1에서도 액션0이 가장 좋다는 의미 (왜?\n",
        "    q-value가 젤 높으니까..)\n",
        "\n",
        "`-` 따라서 Agent는 아래와 같이 행동해야 한다. (네트워크가 잘\n",
        "학습되었다는 전제가 필요함) - state\\[0\\] -\\> action = 0 - state\\[1\\] -\\>\n",
        "action = 0"
      ],
      "id": "c491fe8d-44ab-48ba-bd54-88f8bd6598bd"
    },
    {
      "cell_type": "code",
      "execution_count": 343,
      "metadata": {},
      "outputs": [],
      "source": [
        "net(torch.tensor(states[0:2])).max(axis=1)"
      ],
      "id": "5b630b0e-bf3b-48a3-bce5-7fd135237ef5"
    },
    {
      "cell_type": "code",
      "execution_count": 344,
      "metadata": {},
      "outputs": [],
      "source": [
        "net(torch.tensor(states[0:2])).max(axis=1)[1]"
      ],
      "id": "4cbfbbec-8253-46de-8a60-de5ae1bb8e19"
    },
    {
      "cell_type": "markdown",
      "metadata": {},
      "source": [
        "`-` 네트워크가 있으므로 이제 어떠한 state에 대해서도 뭘 해야할지 (=어떤\n",
        "액션을 해야할지) 알 수 있다."
      ],
      "id": "60656d7d-ee05-4d55-bc41-f1a6a82b9462"
    },
    {
      "cell_type": "code",
      "execution_count": 347,
      "metadata": {},
      "outputs": [],
      "source": [
        "_state1 # 어떤 state에 대해서도.. "
      ],
      "id": "5f604754-d57a-41b4-a1cb-387cd21a4311"
    },
    {
      "cell_type": "code",
      "execution_count": 348,
      "metadata": {},
      "outputs": [],
      "source": [
        "int(torch.argmax(net(torch.tensor(_state1)))) # 그래서 다음에 우리가 어떤행동을 해야할 지 알 수 있음"
      ],
      "id": "7beb3de0-1ead-4e15-b15d-4ca6be971d75"
    },
    {
      "cell_type": "markdown",
      "metadata": {},
      "source": [
        "### 학습\n",
        "\n",
        "`-` 네트워크를 학습시키자."
      ],
      "id": "708b384a-a3af-4834-8539-5efbbdd53cea"
    },
    {
      "cell_type": "code",
      "execution_count": 353,
      "metadata": {},
      "outputs": [],
      "source": [
        "net"
      ],
      "id": "2c71eee5-de1f-41c9-ab1b-23a8ba923a18"
    },
    {
      "cell_type": "code",
      "execution_count": 379,
      "metadata": {},
      "outputs": [],
      "source": [
        "scores=[]\n",
        "playtimes=[] \n",
        "eps = 0\n",
        "opt = torch.optim.Adam(net.parameters(),lr=0.01)"
      ],
      "id": "9e0e9cba-2f10-4f55-bc0a-d20a6177725c"
    },
    {
      "cell_type": "code",
      "execution_count": 380,
      "metadata": {},
      "outputs": [
        {
          "output_type": "stream",
          "name": "stdout",
          "text": [
            "Episode 100 Score: -387.24  Playtime: 80.000\n",
            "Episode 200 Score: -290.72  Playtime: 61.000\n",
            "Episode 300 Score: -290.32  Playtime: 82.0000\n",
            "Episode 400 Score: -321.50  Playtime: 158.00\n",
            "Episode 500 Score: -345.35  Playtime: 78.0000\n",
            "Episode 600 Score: -347.79  Playtime: 56.0000\n",
            "Episode 700 Score: -187.64  Playtime: 61.000\n",
            "Episode 800 Score: -206.72  Playtime: 51.000\n",
            "Episode 900 Score: -242.74  Playtime: 82.0000\n",
            "Episode 1000    Score: -270.24  Playtime: 172.00\n",
            "Episode 1100    Score: -239.00  Playtime: 88.0000\n",
            "Episode 1200    Score: -256.10  Playtime: 136.00\n",
            "Episode 1300    Score: -261.52  Playtime: 77.000\n",
            "Episode 1400    Score: -310.77  Playtime: 110.00\n",
            "Episode 1500    Score: -443.30  Playtime: 99.0000\n",
            "Episode 1600    Score: -553.26  Playtime: 68.0000\n",
            "Episode 1700    Score: -571.14  Playtime: 51.000\n",
            "Episode 1800    Score: -592.59  Playtime: 82.0000\n",
            "Episode 1900    Score: -606.76  Playtime: 66.0000\n",
            "Episode 2000    Score: -679.92  Playtime: 83.0000"
          ]
        }
      ],
      "source": [
        "for epsd in range(1,2001): # 게임 2000판 시켜줌.. \n",
        "    state1,_  = env.reset() # 환경리셋 + 초기화된 환경을 state라는 변수에 저장 \n",
        "    score = 0 \n",
        "    for t in range(1000): # 게임1판당 max 1000프레임만 할 수 있음\n",
        "        action = int(torch.argmax(net(torch.tensor(state1)))) # 네트워크가 알려주는 action을 뽑음 \n",
        "        \n",
        "        # (step2) Agent -> Env // Env -> Agent \n",
        "        state2, reward, terminated, truncated, info = env.step(action) # 액션을 환경에 전달 -> (next_state, reward, done) 을 받음 \n",
        "        \n",
        "        # (step3) Agnet: save data and learn \n",
        "        ## save data \n",
        "        states.append(state1)\n",
        "        actions.append(action)\n",
        "        rewards.append(reward)\n",
        "        next_states.append(state2)\n",
        "        terminateds.append(terminated)\n",
        "    \n",
        "        ## 최근 500개의 자료만 준비함. \n",
        "        if len(states)>500:\n",
        "            _states = torch.tensor(states[-500:])\n",
        "            _actions = torch.tensor(actions[-500:]).reshape(-1,1)\n",
        "            _next_states = torch.tensor(next_states[-500:])\n",
        "            _rewards = torch.tensor(rewards[-500:]).reshape(-1,1)\n",
        "            _terminateds = torch.tensor(terminateds[-500:]).to(torch.float).reshape(-1,1) \n",
        "        else:\n",
        "            _states = torch.tensor(states)\n",
        "            _actions = torch.tensor(actions).reshape(-1,1)\n",
        "            _next_states = torch.tensor(next_states)\n",
        "            _rewards = torch.tensor(rewards).reshape(-1,1)\n",
        "            _terminateds = torch.tensor(terminateds).to(torch.float).reshape(-1,1)\n",
        "\n",
        "        ## 최근 50000개의 자료에서 8개를 임의로 추출함. \n",
        "        _n = len(_states)\n",
        "        _index = np.random.choice(_n,64) # 128 is batch_size \n",
        "        _states = _states[_index]\n",
        "        _actions = _actions[_index]\n",
        "        _next_states = _next_states[_index]\n",
        "        _rewards = _rewards[_index]\n",
        "        _terminateds = _terminateds[_index]\n",
        "        \n",
        "        ## leanrn with pytorch \n",
        "        yhat = net(_states).gather(1,_actions).squeeze() ## (s,a) -> q(s,a) // 내가 현재상태 state에서, 현재 action을 하여 얻을 것이라 예상하는 보상 (net가 알려주는) \n",
        "        y = _rewards.squeeze() #+ 0.99 * net(_next_states).detach().max(1)[0] * (1-_terminateds.squeeze()) ## 그런데 실제로는 이게 맞다고 봐야지~ \n",
        "        loss = torch.mean((y-yhat)**2)\n",
        "        loss.backward()\n",
        "        opt.step()\n",
        "        opt.zero_grad()\n",
        "\n",
        "        # (step4) Agent: prepare next steps \n",
        "        state1 = state2  \n",
        "        #eps = max(0.05, 0.99*eps) \n",
        "        score = score + reward\n",
        "        \n",
        "        # terminate \n",
        "        if terminated:\n",
        "            scores.append(score)\n",
        "            playtimes.append(t)\n",
        "            break\n",
        "            \n",
        "    print('\\rEpisode {}\\tScore: {:.2f}\\tPlaytime: {:.2f}'.format(epsd, scores[-1],playtimes[-1]), end=\"\")\n",
        "    if epsd % 100 == 0:\n",
        "        print('\\rEpisode {}\\tScore: {:.2f}\\tPlaytime: {:.2f}'.format(epsd, np.mean(scores[-100:]),np.mean(playtimes[-100])))"
      ],
      "id": "5c18836f-283b-4455-828b-847dec289dfe"
    },
    {
      "cell_type": "code",
      "execution_count": null,
      "metadata": {
        "tags": []
      },
      "outputs": [],
      "source": [
        "# for epsd in range(1,2001): # 게임 2000판 시켜줌.. \n",
        "#     state1,_  = env.reset() # 환경리셋 + 초기화된 환경을 state라는 변수에 저장 \n",
        "#     score = 0 \n",
        "#     for t in range(1000): # 게임1판당 max 1000프레임만 할 수 있음\n",
        "#         # (step1) Agent: action \n",
        "#         if np.random.rand() < eps: \n",
        "#             action = env.action_space.sample() # 랜덤액션을 뽑음 \n",
        "#         else:\n",
        "#             action = int(torch.argmax(net(torch.tensor(state1).to(\"cuda:0\")))) # 네트워크가 알려주는 action을 뽑음 \n",
        "        \n",
        "#         # (step2) Agent -> Env // Env -> Agent \n",
        "#         state2, reward, terminated, truncated, info = env.step(action) # 액션을 환경에 전달 -> (next_state, reward, done) 을 받음 \n",
        "        \n",
        "#         # (step3) Agnet: save data and learn \n",
        "#         ## save data \n",
        "#         states.append(state1)\n",
        "#         actions.append(action)\n",
        "#         rewards.append(reward)\n",
        "#         next_states.append(state2)\n",
        "#         terminateds.append(terminated)\n",
        "    \n",
        "#         ## 최근 50000개의 자료만 준비함. \n",
        "#         if len(states)>50000:\n",
        "#             _states = torch.tensor(states[-50000:])\n",
        "#             _actions = torch.tensor(actions[-50000:]).reshape(-1,1)\n",
        "#             _next_states = torch.tensor(next_states[-50000:])\n",
        "#             _rewards = torch.tensor(rewards[-50000:]).reshape(-1,1)\n",
        "#             _terminateds = torch.tensor(terminateds[-50000:]).to(torch.float).reshape(-1,1) \n",
        "#         else:\n",
        "#             _states = torch.tensor(states)\n",
        "#             _actions = torch.tensor(actions).reshape(-1,1)\n",
        "#             _next_states = torch.tensor(next_states)\n",
        "#             _rewards = torch.tensor(rewards).reshape(-1,1)\n",
        "#             _terminateds = torch.tensor(terminateds).to(torch.float).reshape(-1,1)\n",
        "\n",
        "#         ## 최근 50000개의 자료에서 128개를 임의로 추출함. \n",
        "#         _n = len(_states)\n",
        "#         _index = np.random.choice(_n,128) # 128 is batch_size \n",
        "#         _states = _states[_index]\n",
        "#         _actions = _actions[_index]\n",
        "#         _next_states = _next_states[_index]\n",
        "#         _rewards = _rewards[_index]\n",
        "#         _terminateds = _terminateds[_index]\n",
        "        \n",
        "#         ## GPU로 이동 \n",
        "#         _states = _states.to(\"cuda:0\")\n",
        "#         _actions = _actions.to(\"cuda:0\")\n",
        "#         _next_states = _next_states.to(\"cuda:0\")\n",
        "#         _rewards = _rewards.to(\"cuda:0\")\n",
        "#         _terminateds = _terminateds.to(\"cuda:0\")\n",
        "        \n",
        "#         ## leanrn with pytorch \n",
        "#         yhat = net(_states).gather(1,_actions) ## (s,a) -> q(s,a) // 내가 현재상태 state에서, 현재 action을 하여 얻을 것이라 예상하는 보상 (net가 알려주는) \n",
        "#         y = _rewards + 0.99 * net(_next_states).detach().max(1)[0].reshape(-1,1)*(1-_terminateds) ## 그런데 실제로는 이게 맞다고 봐야지~ \n",
        "#         loss = torch.mean((y-yhat)**2)\n",
        "#         loss.backward()\n",
        "        \n",
        "#         opt.step()\n",
        "#         opt.zero_grad()\n",
        "\n",
        "#         # (step4) Agent: prepare next steps \n",
        "#         state1 = state2  \n",
        "#         eps = max(0.05, 0.99*eps) \n",
        "#         score = score + reward\n",
        "        \n",
        "#         # terminate \n",
        "#         if terminated:\n",
        "#             scores.append(score)\n",
        "#             playtimes.append(t)\n",
        "#             break\n",
        "            \n",
        "#     print('\\rEpisode {}\\tScore: {:.2f}\\tPlaytime: {:.2f}'.format(epsd, scores[-1],playtimes[-1]), end=\"\")\n",
        "#     if epsd % 100 == 0:\n",
        "#         print('\\rEpisode {}\\tScore: {:.2f}\\tPlaytime: {:.2f}'.format(epsd, np.mean(scores[-100:]),np.mean(playtimes[-100])))"
      ],
      "id": "54ac5087-13fb-443b-8fe5-68e7a7fc774c"
    },
    {
      "cell_type": "code",
      "execution_count": 3,
      "metadata": {},
      "outputs": [],
      "source": [
        "1+2="
      ],
      "id": "c0cd95c0-baa3-4d05-b954-c96a1c90de46"
    },
    {
      "cell_type": "markdown",
      "metadata": {},
      "source": [
        "Sutton, Richard S, and Andrew G Barto. 2018. *Reinforcement Learning: An\n",
        "Introduction*. MIT press."
      ],
      "id": "1ec252e3-911b-475b-9c82-1469a3234946"
    }
  ],
  "nbformat": 4,
  "nbformat_minor": 5,
  "metadata": {
    "kernelspec": {
      "name": "python3",
      "display_name": "Python 3 (ipykernel)",
      "language": "python"
    },
    "language_info": {
      "name": "python",
      "codemirror_mode": {
        "name": "ipython",
        "version": "3"
      },
      "file_extension": ".py",
      "mimetype": "text/x-python",
      "nbconvert_exporter": "python",
      "pygments_lexer": "ipython3",
      "version": "3.11.4"
    }
  }
}