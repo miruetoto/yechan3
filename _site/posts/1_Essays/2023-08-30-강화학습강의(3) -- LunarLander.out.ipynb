{
  "cells": [
    {
      "cell_type": "markdown",
      "metadata": {},
      "source": [
        "# **\\[Essays\\]** 강화학습(3) – LunarLander\n",
        "\n",
        "신록예찬  \n",
        "2023-08-30\n",
        "\n",
        "## imports"
      ],
      "id": "adde4bab-7538-4adf-82b7-c42faf9d689c"
    },
    {
      "cell_type": "code",
      "execution_count": 1,
      "metadata": {},
      "outputs": [],
      "source": [
        "import gymnasium as gym\n",
        "import numpy as np\n",
        "import matplotlib.pyplot as plt\n",
        "from matplotlib.animation import FuncAnimation\n",
        "import torch\n",
        "import collections\n",
        "import IPython\n",
        "import random"
      ],
      "id": "10f3caa4-bf24-44b0-9d4b-043bced59d3e"
    },
    {
      "cell_type": "markdown",
      "metadata": {},
      "source": [
        "# Game3: LunarLander\n",
        "\n",
        "## 클래스선언"
      ],
      "id": "1fac8ea0-b213-41be-a3b2-2ed441cdcbc5"
    },
    {
      "cell_type": "code",
      "execution_count": 2,
      "metadata": {},
      "outputs": [],
      "source": [
        "class Agent():\n",
        "    def __init__(self,env):\n",
        "        self.buffer_size = 10000 \n",
        "        self.batch_size = 128\n",
        "        self.state_size = env.observation_space.shape[0]\n",
        "        self.action_size = env.action_space.n\n",
        "        self.eps = 0\n",
        "        self.n_experiences = 0\n",
        "        self.n_epoch = 0\n",
        "        self.scores = [] \n",
        "        self.playtimes = []\n",
        "\n",
        "        # Q-Network\n",
        "        self.q_net = torch.nn.Sequential(\n",
        "            torch.nn.Linear(self.state_size,128), \n",
        "            torch.nn.ReLU(),\n",
        "            torch.nn.Linear(128,64),\n",
        "            torch.nn.ReLU(),\n",
        "            torch.nn.Linear(64,32),\n",
        "            torch.nn.ReLU(),\n",
        "            torch.nn.Linear(32,self.action_size)) \n",
        "        self.optimizer = torch.optim.Adam(self.q_net.parameters(), lr=0.0001)\n",
        "\n",
        "        # ReplayBuffer\n",
        "        self.memory = collections.deque(maxlen=self.buffer_size)\n",
        "        self.current_states = collections.deque(maxlen=self.buffer_size)\n",
        "        self.actions = collections.deque(maxlen=self.buffer_size)\n",
        "        self.rewards = collections.deque(maxlen=self.buffer_size)\n",
        "        self.next_states = collections.deque(maxlen=self.buffer_size)\n",
        "        self.terminations = collections.deque(maxlen=self.buffer_size)\n",
        "\n",
        "    # agent >> env \n",
        "    def __rshift__(self,env):\n",
        "        if np.random.rand() > self.eps:\n",
        "            self.action = self.q_net(torch.tensor(self.current_state)).argmax().item()\n",
        "        else:\n",
        "            self.action = random.choice(np.arange(self.action_size))\n",
        "        env.received_action = self.action \n",
        "\n",
        "    # agent << env \n",
        "    def __lshift__(self,env): \n",
        "        self.next_state, self.reward, self.terminated, _, _ = env.step(env.received_action)\n",
        "        \n",
        "    def save_experience(self):\n",
        "        \"\"\"Add a new experience to memory.\"\"\"\n",
        "        self.current_states.append(self.current_state)\n",
        "        self.actions.append(self.action)\n",
        "        self.rewards.append(self.reward)\n",
        "        self.next_states.append(self.next_state)\n",
        "        self.terminations.append(self.terminated) \n",
        "        self.n_experiences = len(self.current_states)\n",
        "    \n",
        "    def get_batch(self):\n",
        "        idx = np.random.randint(0,self.n_experiences,size=self.batch_size) \n",
        "        self.current_states_batch = torch.tensor(np.array(self.current_states)[idx],dtype=torch.float32)\n",
        "        self.actions_batch = torch.tensor(np.array(self.actions)[idx],dtype=torch.int64).reshape(self.batch_size,1) \n",
        "        self.rewards_batch = torch.tensor(np.array(self.rewards)[idx],dtype=torch.float32).reshape(self.batch_size,-1) \n",
        "        self.next_states_batch = torch.tensor(np.array(self.next_states)[idx],dtype=torch.float32)\n",
        "        self.terminations_batch = torch.tensor(np.array(self.terminations)[idx],dtype=torch.int64).reshape(self.batch_size,-1) \n",
        "\n",
        "    def learn(self):\n",
        "        if self.n_experiences < self.batch_size:\n",
        "            pass\n",
        "        else: \n",
        "            self.get_batch()\n",
        "            \n",
        "            q_targets_next = self.q_net(self.next_states_batch).detach().max(1)[0].unsqueeze(1)\n",
        "            q_targets = self.rewards_batch + 0.99 * q_targets_next * (1 - self.terminations_batch)\n",
        "            q_expected = self.q_net(self.current_states_batch).gather(1, self.actions_batch)\n",
        "            \n",
        "            loss = torch.nn.functional.mse_loss(q_expected, q_targets)\n",
        "            loss.backward()\n",
        "            self.optimizer.step()\n",
        "            self.optimizer.zero_grad()\n",
        "    \n",
        "    # agent**env: reset \n",
        "    def __pow__(self,env): \n",
        "        self.current_state, _ = env.reset()\n",
        "        self.terminated = False\n",
        "        self.score = 0 "
      ],
      "id": "79bab54a-dfdf-4ecf-9ba6-b22d93b17c68"
    },
    {
      "cell_type": "markdown",
      "metadata": {},
      "source": [
        "## 초기화"
      ],
      "id": "efc82fee-a73a-4129-8849-87e5e97b9f81"
    },
    {
      "cell_type": "code",
      "execution_count": 3,
      "metadata": {},
      "outputs": [],
      "source": [
        "env = gym.make('LunarLander-v2',render_mode='rgb_array')"
      ],
      "id": "9348e4a4-8ccc-4953-991b-22ae63cae912"
    },
    {
      "cell_type": "code",
      "execution_count": 4,
      "metadata": {},
      "outputs": [],
      "source": [
        "agent = Agent(env)"
      ],
      "id": "b4fc2616-9770-4fab-8265-b03e811b26db"
    },
    {
      "cell_type": "markdown",
      "metadata": {},
      "source": [
        "## run"
      ],
      "id": "453ccc59-9f5d-462c-b6ce-8034b242a7ee"
    },
    {
      "cell_type": "code",
      "execution_count": 5,
      "metadata": {},
      "outputs": [
        {
          "output_type": "stream",
          "name": "stdout",
          "text": [
            "Episode 0   Average Score: -106.49  \n",
            "Episode 100 Average Score: -170.10  \n",
            "Episode 200 Average Score: -75.46       \n",
            "Episode 300 Average Score: 63.43        \n",
            "Episode 400 Average Score: 14.53    \n",
            "Episode 500 Average Score: 52.20    \n",
            "Episode 600 Average Score: 184.55   \n",
            "Episode 623 Average Score: 200.95   \n",
            "Environment solved in 623 episodes! Average Score: 200.95"
          ]
        }
      ],
      "source": [
        "n_episodes = 2000\n",
        "max_t = 500\n",
        "agent.eps = 1.0 \n",
        "for e in range(2000):\n",
        "    ### 1. 본질적인 코드\n",
        "    agent ** env \n",
        "    for t in range(500):\n",
        "        # step1: \n",
        "        agent >> env \n",
        "        # step2: \n",
        "        agent << env \n",
        "        # step3: 데이터저장 및 학습\n",
        "        agent.save_experience()\n",
        "        agent.learn()\n",
        "        # step4: 다음 iteration 준비 + 종료조건체크\n",
        "        agent.current_state = agent.next_state \n",
        "        agent.score += agent.reward\n",
        "        if agent.terminated: break \n",
        "    agent.scores.append(agent.score) \n",
        "    agent.eps = agent.eps * 0.995 \n",
        "    ### 2. 비본질적 코드\n",
        "    print('\\rEpisode {}\\tAverage Score: {:.2f}\\t'.format(e, np.mean(agent.scores[-100:])), end=\"\")\n",
        "    if e % 100 == 0:\n",
        "        print('\\rEpisode {}\\tAverage Score: {:.2f}'.format(e, np.mean(agent.scores[-100:])))\n",
        "        torch.save(agent.q_net.state_dict(), 'checkpoint.pth')\n",
        "    if np.mean(agent.scores[-100:])>=200.0:\n",
        "        print('\\nEnvironment solved in {:d} episodes!\\tAverage Score: {:.2f}'.format(e, np.mean(agent.scores[-100:])))\n",
        "        torch.save(agent.q_net.state_dict(), 'checkpoint.pth')\n",
        "        break"
      ],
      "id": "caca0f82-7942-4046-a655-6e3b2b091320"
    },
    {
      "cell_type": "code",
      "execution_count": 9,
      "metadata": {},
      "outputs": [
        {
          "output_type": "display_data",
          "metadata": {},
          "data": {
            "image/png": "[encoded data removed]"
          }
        }
      ],
      "source": [
        "plt.plot(agent.scores)\n",
        "plt.ylabel('Score')\n",
        "plt.xlabel('Episode #')"
      ],
      "id": "51c27e2c-51ff-46fd-93e7-1ddadc3e9592"
    },
    {
      "cell_type": "code",
      "execution_count": 10,
      "metadata": {},
      "outputs": [],
      "source": [
        "env = gym.make('LunarLander-v2',render_mode='rgb_array')\n",
        "agent = Agent(env)\n",
        "agent ** env\n",
        "agent.q_net.load_state_dict(torch.load('checkpoint.pth'))\n",
        "agent.terminated = False\n",
        "figs = [] \n",
        "\n",
        "while not agent.terminated:\n",
        "    figs.append(env.render())\n",
        "    agent >> env \n",
        "    agent << env \n",
        "    agent.current_state = agent.next_state \n",
        "env.close()"
      ],
      "id": "9ac551c2-fdda-4526-9783-e90f5325bee5"
    },
    {
      "cell_type": "code",
      "execution_count": 11,
      "metadata": {},
      "outputs": [
        {
          "output_type": "display_data",
          "metadata": {},
          "data": {
            "image/png": "[encoded data removed]"
          }
        }
      ],
      "source": [
        "fig, ax = plt.subplots()\n",
        "ani = FuncAnimation(fig,lambda i: ax.imshow(figs[::10][i]),frames=len(figs[::10]))"
      ],
      "id": "d73b7fbe-5414-4f0e-81d2-f4129155b581"
    },
    {
      "cell_type": "markdown",
      "metadata": {},
      "source": [
        "`-` 방법1"
      ],
      "id": "64c3486c-a014-45d0-91c6-a05eb61acd75"
    },
    {
      "cell_type": "code",
      "execution_count": null,
      "metadata": {},
      "outputs": [],
      "source": [
        "#ani.save('LunarLander-v2.mp4', writer='ffmpeg', fps=15, extra_args=['-vcodec', 'mpeg4'])"
      ],
      "id": "32410879-9d4e-4c2b-b398-d8d5440f9797"
    },
    {
      "cell_type": "markdown",
      "metadata": {},
      "source": [
        "`-` 방법2"
      ],
      "id": "132e3af5-8099-4969-91bd-a8a83a047264"
    },
    {
      "cell_type": "code",
      "execution_count": 12,
      "metadata": {},
      "outputs": [],
      "source": [
        "IPython.display.HTML(ani.to_jshtml())"
      ],
      "id": "3aaea29d-329f-4b92-b97f-5777daf74b98"
    }
  ],
  "nbformat": 4,
  "nbformat_minor": 5,
  "metadata": {
    "kernelspec": {
      "name": "python3",
      "display_name": "Python 3 (ipykernel)",
      "language": "python"
    },
    "language_info": {
      "name": "python",
      "codemirror_mode": {
        "name": "ipython",
        "version": "3"
      },
      "file_extension": ".py",
      "mimetype": "text/x-python",
      "nbconvert_exporter": "python",
      "pygments_lexer": "ipython3",
      "version": "3.11.4"
    }
  }
}