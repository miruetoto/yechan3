{
 "cells": [
  {
   "cell_type": "raw",
   "id": "814ea4bd-3d70-4598-a3f0-817a2aff304e",
   "metadata": {},
   "source": [
    "---\n",
    "title: \"**tests**\"\n",
    "author: \"신록예찬\"\n",
    "date: \"04/26/2019\"\n",
    "notebook-view:\n",
    "  - notebook: test.ipynb\n",
    "---"
   ]
  },
  {
   "cell_type": "code",
   "execution_count": null,
   "id": "e1d9aff5-b7e8-4cf2-aff3-13fb35312f81",
   "metadata": {},
   "outputs": [],
   "source": [
    "1+1"
   ]
  },
  {
   "cell_type": "code",
   "execution_count": null,
   "id": "bf2961be-4cc2-453d-b2ce-f5f6c777eddd",
   "metadata": {},
   "outputs": [],
   "source": []
  }
 ],
 "metadata": {
  "kernelspec": {
   "display_name": "Python 3",
   "language": "python",
   "name": "python3"
  },
  "language_info": {
   "codemirror_mode": {
    "name": "ipython",
    "version": 3
   },
   "file_extension": ".py",
   "mimetype": "text/x-python",
   "name": "python",
   "nbconvert_exporter": "python",
   "pygments_lexer": "ipython3",
   "version": "3.8.16"
  }
 },
 "nbformat": 4,
 "nbformat_minor": 5
}
