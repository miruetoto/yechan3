{
  "cells": [
    {
      "cell_type": "markdown",
      "metadata": {},
      "source": [
        "# **\\[Essays\\]** 강화학습(3) – LunarLander\n",
        "\n",
        "신록예찬  \n",
        "2023-08-30\n",
        "\n",
        "# imports"
      ],
      "id": "80655f18-9faa-4b37-ad32-5605d288d8de"
    },
    {
      "cell_type": "code",
      "execution_count": 1,
      "metadata": {},
      "outputs": [],
      "source": [
        "import gymnasium as gym\n",
        "import numpy as np\n",
        "import matplotlib.pyplot as plt\n",
        "from matplotlib.animation import FuncAnimation\n",
        "import torch\n",
        "import collections\n",
        "import IPython\n",
        "import random"
      ],
      "id": "10f3caa4-bf24-44b0-9d4b-043bced59d3e"
    },
    {
      "cell_type": "markdown",
      "metadata": {},
      "source": [
        "# 예비학습\n",
        "\n",
        "`-` collections.deque의 기능"
      ],
      "id": "0dc7f9a1-7fa6-4da8-a114-bc75493cb99c"
    },
    {
      "cell_type": "code",
      "execution_count": 2,
      "metadata": {},
      "outputs": [],
      "source": [
        "a = collections.deque([1,2,3],maxlen=5)\n",
        "a"
      ],
      "id": "2c4f15a9-836b-4852-bca9-9b2a71bca6a7"
    },
    {
      "cell_type": "code",
      "execution_count": 3,
      "metadata": {},
      "outputs": [],
      "source": [
        "a.append(4)"
      ],
      "id": "c1b03d93-6cae-47d3-b728-1f6cf2774a05"
    },
    {
      "cell_type": "code",
      "execution_count": 4,
      "metadata": {},
      "outputs": [],
      "source": [
        "a"
      ],
      "id": "dd91445d-28c5-442e-b4fd-c0c7eadcf2a3"
    },
    {
      "cell_type": "code",
      "execution_count": 5,
      "metadata": {},
      "outputs": [],
      "source": [
        "a.append(5)"
      ],
      "id": "d2917e2c-d1fd-4f63-8baf-20e39a896585"
    },
    {
      "cell_type": "code",
      "execution_count": 6,
      "metadata": {},
      "outputs": [],
      "source": [
        "a"
      ],
      "id": "1b6053cd-648c-429c-8685-903dfda813b3"
    },
    {
      "cell_type": "code",
      "execution_count": 7,
      "metadata": {},
      "outputs": [],
      "source": [
        "a.append(6)"
      ],
      "id": "f99b01db-4a61-4b03-9766-ec6e6486bc2d"
    },
    {
      "cell_type": "code",
      "execution_count": 8,
      "metadata": {},
      "outputs": [],
      "source": [
        "a"
      ],
      "id": "c007ea5a-0f16-469a-bcdd-c6adb53af0eb"
    },
    {
      "cell_type": "markdown",
      "metadata": {},
      "source": [
        "`-` 단점?: numpy array 보다는 list 느낌임 (연산에 특화된건 아님)"
      ],
      "id": "3e284093-1423-40c9-b86d-f89ab4676958"
    },
    {
      "cell_type": "code",
      "execution_count": 9,
      "metadata": {},
      "outputs": [],
      "source": [
        "a+1"
      ],
      "id": "20c194a3-3fce-43cd-850f-b74d62434ad7"
    },
    {
      "cell_type": "markdown",
      "metadata": {},
      "source": [
        "`-` 그렇지만 언제든지 numpy화 가능"
      ],
      "id": "8c60870d-d93d-443e-af27-6a3f4e83c671"
    },
    {
      "cell_type": "code",
      "execution_count": 10,
      "metadata": {},
      "outputs": [],
      "source": [
        "np.array(a)+1"
      ],
      "id": "9e15a0a9-e77f-4d95-9935-c944d9054b13"
    },
    {
      "cell_type": "markdown",
      "metadata": {},
      "source": [
        "`-` collection.deque는 리플레이 버퍼를 구현할때 유리한 자료구조이다.\n",
        "\n",
        "-   (우리가 했던) 기존방식: 모든 데이터를 저장하며 한번의 경험씩 학습함\n",
        "-   리플레이버퍼: 최근의 데이터를 저장하며 여러경험을 샘플링하여 학습함\n",
        "-   리플레이버퍼의 장점: 메모리를 아낄 수 있다, 다양한 종류의 경험을\n",
        "    저장하고 무작위로 재사용하여 안정성이 높다, “저장 -\\> 학습 -\\> 저장”\n",
        "    순으로 반드시 실시간학습을 할 필요가 없어 병렬처리에 용이하다,\n",
        "    강화학습에서의 연속된 경험은 상관관계가 있을 수 있는데 무작위 샘플로\n",
        "    이를 제거할 수 있다 등등~\n",
        "\n",
        "# Game3: LunarLander\n",
        "\n",
        "`-` 환경생성"
      ],
      "id": "047ee9a4-7038-42f9-88ee-8dc4cc723ef3"
    },
    {
      "cell_type": "code",
      "execution_count": 11,
      "metadata": {},
      "outputs": [],
      "source": [
        "env = gym.make('LunarLander-v2',render_mode='rgb_array')"
      ],
      "id": "f143a915-16ab-40ee-a675-320c5dc0d772"
    },
    {
      "cell_type": "markdown",
      "metadata": {},
      "source": [
        "`-` state_space"
      ],
      "id": "f7a4df94-2779-4699-b51f-5c5f70291b2f"
    },
    {
      "cell_type": "code",
      "execution_count": 12,
      "metadata": {},
      "outputs": [],
      "source": [
        "env.observation_space"
      ],
      "id": "27dac771-a6fc-428a-ac56-67ce7256acc2"
    },
    {
      "cell_type": "markdown",
      "metadata": {},
      "source": [
        "`-` action_space"
      ],
      "id": "5caf3d51-eb35-468c-a065-a4f8d1e7f96b"
    },
    {
      "cell_type": "code",
      "execution_count": 13,
      "metadata": {},
      "outputs": [],
      "source": [
        "env.action_space"
      ],
      "id": "cecac244-bca5-4b5b-93bf-b9ed1a62cc15"
    },
    {
      "cell_type": "markdown",
      "metadata": {},
      "source": [
        "`-` env.reset()"
      ],
      "id": "6a557a8c-c202-43fc-a643-c34ab24f752e"
    },
    {
      "cell_type": "code",
      "execution_count": 14,
      "metadata": {},
      "outputs": [],
      "source": [
        "env.reset()"
      ],
      "id": "e76c453b-cbb4-4e7a-8305-d3955a3615cb"
    },
    {
      "cell_type": "markdown",
      "metadata": {},
      "source": [
        "`-` env.render()"
      ],
      "id": "fd1e750d-1165-4c88-bcda-cd6b0608176e"
    },
    {
      "cell_type": "code",
      "execution_count": 15,
      "metadata": {},
      "outputs": [
        {
          "output_type": "display_data",
          "metadata": {},
          "data": {
            "image/png": "[encoded data removed]"
          }
        }
      ],
      "source": [
        "plt.imshow(env.render())"
      ],
      "id": "1a2d392b-1b18-4f56-a111-d6bc71f89df5"
    },
    {
      "cell_type": "markdown",
      "metadata": {},
      "source": [
        "`-` env.step"
      ],
      "id": "f2e630ad-7d3e-494d-8ecc-e887943c9a06"
    },
    {
      "cell_type": "code",
      "execution_count": 16,
      "metadata": {},
      "outputs": [],
      "source": [
        "for _ in range(5):\n",
        "    env.step(0)\n",
        "    env.step(2)\n",
        "    env.step(2)\n",
        "    env.step(1)"
      ],
      "id": "b81d50c1-ede2-4b27-a06d-06b21a7644fb"
    },
    {
      "cell_type": "markdown",
      "metadata": {},
      "source": [
        "-   0: 정지\n",
        "-   1: 왼쪽\n",
        "-   2: 위로\n",
        "-   3: 오른쪽\n",
        "-   <https://gymnasium.farama.org/environments/box2d/lunar_lander/>"
      ],
      "id": "ef951a9f-81d4-4366-9938-73cf02e2b7bb"
    },
    {
      "cell_type": "code",
      "execution_count": 17,
      "metadata": {},
      "outputs": [
        {
          "output_type": "display_data",
          "metadata": {},
          "data": {
            "image/png": "[encoded data removed]"
          }
        }
      ],
      "source": [
        "plt.imshow(env.render())"
      ],
      "id": "0626032a-acf0-4c40-b7c8-386b09aa4901"
    },
    {
      "cell_type": "markdown",
      "metadata": {},
      "source": [
        "# 시각화"
      ],
      "id": "b4ca78fc-7817-4ba9-ba7c-eca66ad85cae"
    },
    {
      "cell_type": "code",
      "execution_count": 18,
      "metadata": {},
      "outputs": [],
      "source": [
        "env.step(0)"
      ],
      "id": "5d6a8799-1e67-4bb6-a382-f08e493c0db1"
    },
    {
      "cell_type": "code",
      "execution_count": 19,
      "metadata": {},
      "outputs": [],
      "source": [
        "current_states = collections.deque(maxlen=50)\n",
        "actions = collections.deque(maxlen=50)\n",
        "next_states = collections.deque(maxlen=50) \n",
        "rewards = collections.deque(maxlen=50) \n",
        "terminations = collections.deque(maxlen=50)\n",
        "ims = []\n",
        "current_state, _ = env.reset()\n",
        "\n",
        "for t in range(500):\n",
        "    action = env.action_space.sample()\n",
        "    next_state, reward, terminated, _, _ = env.step(action)\n",
        "    im = env.render()\n",
        "    \n",
        "    current_states.append(current_state)\n",
        "    actions.append(action)\n",
        "    next_states.append(next_state)\n",
        "    rewards.append(reward) \n",
        "    terminations.append(terminated)\n",
        "    ims.append(im)    \n",
        "\n",
        "    current_state = next_state \n",
        "    if terminated: break"
      ],
      "id": "f6e3823d-dace-464e-ad5f-2c53f64fbb02"
    },
    {
      "cell_type": "code",
      "execution_count": 20,
      "metadata": {},
      "outputs": [],
      "source": [
        "def show(ims,jump=10):\n",
        "    ims = ims[::jump]\n",
        "    fig = plt.Figure()\n",
        "    ax = fig.subplots()\n",
        "    def update(i):\n",
        "       ax.imshow(ims[i])\n",
        "    ani = FuncAnimation(fig,update,frames=len(ims))\n",
        "    display(IPython.display.HTML(ani.to_jshtml()))"
      ],
      "id": "511bc34d-3680-45d0-89a5-d0c310e3fcc1"
    },
    {
      "cell_type": "code",
      "execution_count": 21,
      "metadata": {},
      "outputs": [],
      "source": [
        "show(ims,jump=10)"
      ],
      "id": "9b71ec36-9d72-4fcd-82e3-31cb98223bc2"
    },
    {
      "cell_type": "markdown",
      "metadata": {},
      "source": [
        "# q_net\n",
        "\n",
        "`-` 이전코드에서 아래에 해당하는 부분을 구현해야한다.\n",
        "\n",
        "``` python\n",
        "## 1. q[x,y][a] \n",
        "agent.q = np.zeros([4,4,4])\n",
        "\n",
        "## 2. q_estimated \n",
        "x,y = agent.current_state\n",
        "xx,yy = agent.next_state\n",
        "a = agent.action\n",
        "q_estimated = agent.q[x,y,a]\n",
        "\n",
        "## 3. q_realistic = reward + 0.99*q_future\n",
        "if agent.terminated:\n",
        "    q_realistic = agent.reward\n",
        "else:\n",
        "    q_future = q[xx,yy,:].max()\n",
        "    q_realistic = agent.reward + 0.99*q_future\n",
        "\n",
        "## 4. q_estimated를  q_realistic와 비슷하게 만들어주는 역할 \n",
        "diff = q_realistic - q_estimated\n",
        "agent.q[x,y,a] = q_estimated + 0.1 * diff \n",
        "```\n",
        "\n",
        "`-` $q[x,y][a]$에 대응하는 코드"
      ],
      "id": "90e478b4-e96c-494a-9190-fbef1fcb10a8"
    },
    {
      "cell_type": "code",
      "execution_count": 22,
      "metadata": {},
      "outputs": [],
      "source": [
        "q_net = torch.nn.Sequential(\n",
        "            torch.nn.Linear(8,128), \n",
        "            torch.nn.ReLU(),\n",
        "            torch.nn.Linear(128,64),\n",
        "            torch.nn.ReLU(),\n",
        "            torch.nn.Linear(64,32),\n",
        "            torch.nn.ReLU(),\n",
        "            torch.nn.Linear(32,4)\n",
        ")"
      ],
      "id": "4f9710a2-029e-480b-9676-40f43b62e980"
    },
    {
      "cell_type": "code",
      "execution_count": 23,
      "metadata": {},
      "outputs": [],
      "source": [
        "q_net(torch.tensor(current_state))[0] # 현재상태에서 0번 액션을 했을때의 보상값"
      ],
      "id": "054a934a-04b0-4854-b633-072b43cb7534"
    },
    {
      "cell_type": "code",
      "execution_count": 24,
      "metadata": {},
      "outputs": [],
      "source": [
        "q_net(torch.tensor(current_state))[1] # 현재상태에서 1번 액션을 했을때의 보상값"
      ],
      "id": "dfdcd0a0-7296-40bd-8a38-ca8c40009d7f"
    },
    {
      "cell_type": "markdown",
      "metadata": {},
      "source": [
        "`-` $q[x,y][a]$에 대응하는 코드 (배치버전)"
      ],
      "id": "7b9610ed-a1f4-4cb0-bbb7-9f79d9b1c466"
    },
    {
      "cell_type": "code",
      "execution_count": 25,
      "metadata": {},
      "outputs": [],
      "source": [
        "batch_size = 4\n",
        "idx = np.random.randint(0,50,size=batch_size) \n",
        "idx"
      ],
      "id": "4aa637cc-447c-4ab1-8166-f230560746e0"
    },
    {
      "cell_type": "code",
      "execution_count": 26,
      "metadata": {},
      "outputs": [
        {
          "output_type": "stream",
          "name": "stderr",
          "text": [
            "/tmp/ipykernel_115189/3127407246.py:1: UserWarning: Creating a tensor from a list of numpy.ndarrays is extremely slow. Please consider converting the list to a single numpy.ndarray with numpy.array() before converting to a tensor. (Triggered internally at /opt/conda/conda-bld/pytorch_1682343995622/work/torch/csrc/utils/tensor_new.cpp:245.)\n",
            "  torch.tensor(current_states,dtype=torch.float32)[idx]"
          ]
        }
      ],
      "source": [
        "torch.tensor(current_states,dtype=torch.float32)[idx]"
      ],
      "id": "1bcf89e8-abbb-4312-9b06-3444aba10e11"
    },
    {
      "cell_type": "code",
      "execution_count": 27,
      "metadata": {},
      "outputs": [],
      "source": [
        "torch.tensor(np.array(current_states),dtype=torch.float32)[idx]"
      ],
      "id": "f20daa8d-ddb4-45ea-b5cd-52868f8580ca"
    },
    {
      "cell_type": "code",
      "execution_count": 28,
      "metadata": {},
      "outputs": [],
      "source": [
        "current_states_batch = torch.tensor(np.array(current_states))[idx].float()\n",
        "actions_batch = torch.tensor(np.array(actions))[idx].reshape(batch_size,1)\n",
        "rewards_batch = torch.tensor(np.array(rewards))[idx].reshape(batch_size,-1).float()\n",
        "next_states_batch = torch.tensor(np.array(next_states))[idx].float()\n",
        "terminations_batch = torch.tensor(np.array(terminations))[idx].reshape(batch_size,-1) "
      ],
      "id": "bcf59f47-0c0e-4f68-bacc-70f38163a569"
    },
    {
      "cell_type": "code",
      "execution_count": 29,
      "metadata": {},
      "outputs": [],
      "source": [
        "~terminations_batch"
      ],
      "id": "0c900c18-6d46-44d7-89f1-157f95e2de71"
    },
    {
      "cell_type": "markdown",
      "metadata": {},
      "source": [
        "`-` `q_estimated`의 구현"
      ],
      "id": "1b06e61f-87e9-4ffa-bd5b-51448e87468f"
    },
    {
      "cell_type": "code",
      "execution_count": 31,
      "metadata": {},
      "outputs": [],
      "source": [
        "q_net(current_states_batch).gather(1,actions_batch)"
      ],
      "id": "67c5c502-5d94-4ece-ab39-25962fd9ed7f"
    },
    {
      "cell_type": "code",
      "execution_count": 32,
      "metadata": {},
      "outputs": [],
      "source": [
        "q_net(current_states_batch), actions_batch"
      ],
      "id": "f36f05c0-774e-49ac-9bc6-ff8620efd3f7"
    },
    {
      "cell_type": "markdown",
      "metadata": {},
      "source": [
        "`-` `q_realistic = reward + 0.99 * q_future` 의 구현\n",
        "\n",
        "**q_future**"
      ],
      "id": "138560b0-94e1-446e-9749-6f9a73e178b1"
    },
    {
      "cell_type": "code",
      "execution_count": 33,
      "metadata": {},
      "outputs": [],
      "source": [
        "q_future = q_net(next_states_batch).max(axis=1)[0].reshape(batch_size,1)\n",
        "q_future"
      ],
      "id": "05dc76d9-5e13-47c0-ba85-8e69f4e97b6d"
    },
    {
      "cell_type": "code",
      "execution_count": 34,
      "metadata": {},
      "outputs": [],
      "source": [
        "q_realistic = rewards_batch + q_future * 0.99 * (~terminations_batch)"
      ],
      "id": "67bd2dff-c5ac-4002-b838-439d6051836d"
    },
    {
      "cell_type": "markdown",
      "metadata": {},
      "source": [
        "`-` `q_estimated` $\\approx$ `q_realistic` 가 되도록 만드는 장치\n",
        "\n",
        "``` python\n",
        "## 여기는.. 딥러닝과 파이토치를 좀 알아야.. 모른다면 일단 패스해야해요\n",
        "optimizer = torch.optim.Adam(q_net.parameters(), lr=0.0001)\n",
        "for _ in range(2000):\n",
        "    ~~\n",
        "    ~~\n",
        "    q_estimated = ...\n",
        "    q_observed = ... \n",
        "    loss = torch.nn.functional.mse_loss(q_estimated, q_observed)\n",
        "    loss.backward()\n",
        "    optimizer.step()\n",
        "    optimizer.zero_grad()\n",
        "```\n",
        "\n",
        "# policy"
      ],
      "id": "e86a1175-7460-46a7-abff-46b3cd5d0654"
    },
    {
      "cell_type": "code",
      "execution_count": 35,
      "metadata": {},
      "outputs": [],
      "source": [
        "eps = 0.5 \n",
        "if np.random.rand() > eps:\n",
        "    action = q_net(torch.tensor(current_state)).argmax().item()\n",
        "else:\n",
        "    action = env.action_space.sample()"
      ],
      "id": "ddb46f64-5388-4b12-b234-a692e5b1c4ba"
    },
    {
      "cell_type": "code",
      "execution_count": 36,
      "metadata": {},
      "outputs": [],
      "source": [
        "action"
      ],
      "id": "d78b3c8b-b7ea-4f82-a610-ce54cca4b5e5"
    },
    {
      "cell_type": "markdown",
      "metadata": {},
      "source": [
        "# Agent 클래스 + run"
      ],
      "id": "34c2c215-47ef-48ae-837f-459a94be175d"
    },
    {
      "cell_type": "code",
      "execution_count": 50,
      "metadata": {},
      "outputs": [],
      "source": [
        "class Agent():\n",
        "    def __init__(self,env):\n",
        "        self.eps = 0\n",
        "        self.n_experiences = 0\n",
        "        self.n_episode = 0\n",
        "        self.score = 0\n",
        "        self.scores = [] \n",
        "        self.playtimes = []\n",
        "        self.batch_size = 64\n",
        "        self.buffer_size = 5000 \n",
        "        self.action_space = env.action_space\n",
        "        #self.state_space = env.observation_space\n",
        "\n",
        "        # Q-Network\n",
        "        self.q_net = torch.nn.Sequential(\n",
        "            torch.nn.Linear(8,128), \n",
        "            torch.nn.ReLU(),\n",
        "            torch.nn.Linear(128,64),\n",
        "            torch.nn.ReLU(),\n",
        "            torch.nn.Linear(64,32),\n",
        "            torch.nn.ReLU(),\n",
        "            torch.nn.Linear(32,4)\n",
        "        ) \n",
        "        self.optimizer = torch.optim.Adam(self.q_net.parameters(), lr=0.0001)\n",
        "\n",
        "        # ReplayBuffer\n",
        "        self.memory = collections.deque(maxlen=self.buffer_size)\n",
        "        self.current_states = collections.deque(maxlen=self.buffer_size)\n",
        "        self.actions = collections.deque(maxlen=self.buffer_size)\n",
        "        self.rewards = collections.deque(maxlen=self.buffer_size)\n",
        "        self.next_states = collections.deque(maxlen=self.buffer_size)\n",
        "        self.terminations = collections.deque(maxlen=self.buffer_size)\n",
        "       \n",
        "    def save_experience(self):\n",
        "        \"\"\"Add a new experience to memory.\"\"\"\n",
        "        self.current_states.append(self.current_state)\n",
        "        self.actions.append(self.action)\n",
        "        self.rewards.append(self.reward)\n",
        "        self.next_states.append(self.next_state)\n",
        "        self.terminations.append(self.terminated) \n",
        "        self.n_experiences = self.n_experiences+1\n",
        "        self.score += self.reward\n",
        "    \n",
        "    def act(self):\n",
        "        if np.random.rand() < self.eps:\n",
        "            self.action = self.action_space.sample()\n",
        "        else:\n",
        "            self.action = self.q_net(torch.tensor(self.current_state)).argmax().item()\n",
        "            \n",
        "    def get_batch(self):\n",
        "        idx = np.random.randint(0,self.buffer_size,size=self.batch_size) \n",
        "        self.current_states_batch = torch.tensor(np.array(self.current_states))[idx].float()\n",
        "        self.actions_batch = torch.tensor(np.array(self.actions))[idx].reshape(self.batch_size,1)\n",
        "        self.rewards_batch = torch.tensor(np.array(self.rewards))[idx].reshape(self.batch_size,-1).float()\n",
        "        self.next_states_batch = torch.tensor(np.array(self.next_states))[idx].float()\n",
        "        self.terminations_batch = torch.tensor(np.array(self.terminations))[idx].reshape(self.batch_size,-1) \n",
        "    \n",
        "    def learn(self):\n",
        "        if self.n_experiences < self.buffer_size:\n",
        "            pass\n",
        "        else: \n",
        "            self.get_batch()\n",
        "            q_estimated = self.q_net(self.current_states_batch).gather(1, self.actions_batch)\n",
        "            q_future = self.q_net(self.next_states_batch).detach().max(1)[0].reshape(self.batch_size,1)\n",
        "            q_realistic = self.rewards_batch + 0.99 * q_future * (~self.terminations_batch)\n",
        "\n",
        "            loss = torch.nn.functional.mse_loss(q_estimated, q_realistic)\n",
        "            loss.backward()\n",
        "            self.optimizer.step()\n",
        "            self.optimizer.zero_grad()\n",
        "\n",
        "    # agent >> env \n",
        "    def __rshift__(self,env):\n",
        "        self.act()\n",
        "        env.received_action = self.action \n",
        "\n",
        "    # agent << env \n",
        "    def __lshift__(self,env): \n",
        "        self.next_state, self.reward, self.terminated, _, _ = env.step(env.received_action)\n",
        "        self.save_experience()"
      ],
      "id": "79bab54a-dfdf-4ecf-9ba6-b22d93b17c68"
    },
    {
      "cell_type": "code",
      "execution_count": 53,
      "metadata": {},
      "outputs": [
        {
          "output_type": "stream",
          "name": "stdout",
          "text": [
            "Episode 10  Score: -208.16  Playtime:  92.50    n_eps: 0.9511101304657719   n_experiences: 925  \n",
            "Episode 20  Score: -200.31  Playtime:  87.55    n_eps: 0.9046104802746175   n_experiences: 1751 \n",
            "Episode 30  Score: -210.52  Playtime:  87.23    n_eps: 0.8603841919146962   n_experiences: 2617 \n",
            "Episode 40  Score: -203.43  Playtime:  85.30    n_eps: 0.8183201210226743   n_experiences: 3412 \n",
            "Episode 50  Score: -220.78  Playtime:  85.38    n_eps: 0.778312557068642    n_experiences: 4269 \n",
            "Episode 60  Score: -240.47  Playtime:  84.80    n_eps: 0.7402609576967045   n_experiences: 5088 \n",
            "Episode 70  Score: -254.51  Playtime:  89.11    n_eps: 0.7040696960536299   n_experiences: 6238 \n",
            "Episode 80  Score: -256.14  Playtime:  89.78    n_eps: 0.6696478204705644   n_experiences: 7182 \n",
            "Episode 90  Score: -242.09  Playtime:  91.54    n_eps: 0.6369088258938781   n_experiences: 8239 \n",
            "Episode 100 Score: -233.68  Playtime:  98.33    n_eps: 0.6057704364907278   n_experiences: 9833 \n",
            "Episode 110 Score: -232.60  Playtime:  106.49   n_eps: 0.5761543988830038   n_experiences: 11574    \n",
            "Episode 120 Score: -223.83  Playtime:  111.30   n_eps: 0.547986285490042    n_experiences: 12881    \n",
            "Episode 130 Score: -226.05  Playtime:  117.45   n_eps: 0.5211953074858876   n_experiences: 14362    \n",
            "Episode 140 Score: -225.77  Playtime:  124.67   n_eps: 0.49571413690105054  n_experiences: 15879    \n",
            "Episode 150 Score: -209.30  Playtime:  138.20   n_eps: 0.47147873742168567  n_experiences: 18089    \n",
            "Episode 160 Score: -187.92  Playtime:  148.56   n_eps: 0.4484282034609769   n_experiences: 19944    \n",
            "Episode 170 Score: -172.76  Playtime:  153.81   n_eps: 0.42650460709830135  n_experiences: 21619    \n",
            "Episode 180 Score: -151.20  Playtime:  169.66   n_eps: 0.40565285250151817  n_experiences: 24148    \n",
            "Episode 190 Score: -144.82  Playtime:  195.41   n_eps: 0.3858205374665315   n_experiences: 27780    \n",
            "Episode 200 Score: -135.17  Playtime:  212.84   n_eps: 0.3669578217261671   n_experiences: 31117    \n",
            "Episode 210 Score: -122.01  Playtime:  227.12   n_eps: 0.34901730169741024  n_experiences: 34286    \n",
            "Episode 220 Score: -111.13  Playtime:  246.14   n_eps: 0.33195389135223546  n_experiences: 37495    \n",
            "Episode 230 Score: -92.78   Playtime:  271.35   n_eps: 0.3157247089126454   n_experiences: 41497    \n",
            "Episode 240 Score: -75.25   Playtime:  288.37   n_eps: 0.30028896908517405  n_experiences: 44716    \n",
            "Episode 250 Score: -58.31   Playtime:  301.48   n_eps: 0.285607880564032    n_experiences: 48237    \n",
            "Episode 260 Score: -44.24   Playtime:  324.41   n_eps: 0.27164454854530906  n_experiences: 52385    \n",
            "Episode 270 Score: -19.81   Playtime:  350.78   n_eps: 0.2583638820072446   n_experiences: 56697    \n",
            "Episode 280 Score: -14.92   Playtime:  367.06   n_eps: 0.2457325055235537   n_experiences: 60854    \n",
            "Episode 290 Score: -6.06    Playtime:  364.24   n_eps: 0.23371867538818816  n_experiences: 64204    \n",
            "Episode 300 Score:  3.36    Playtime:  378.31   n_eps: 0.22229219984074702  n_experiences: 68948    \n",
            "Episode 310 Score:  16.90   Playtime:  392.98   n_eps: 0.21142436319205632  n_experiences: 73584    \n",
            "Episode 320 Score:  22.91   Playtime:  403.00   n_eps: 0.2010878536592394   n_experiences: 77795    \n",
            "Episode 330 Score:  36.75   Playtime:  409.19   n_eps: 0.1912566947289212   n_experiences: 82416    \n",
            "Episode 340 Score:  42.97   Playtime:  421.18   n_eps: 0.18190617987607657  n_experiences: 86834    \n",
            "Episode 350 Score:  44.85   Playtime:  429.94   n_eps: 0.1730128104744653   n_experiences: 91231    \n",
            "Episode 360 Score:  50.87   Playtime:  438.46   n_eps: 0.16455423674261854  n_experiences: 96231    \n",
            "Episode 370 Score:  51.46   Playtime:  442.72   n_eps: 0.15650920157696743  n_experiences: 100969   \n",
            "Episode 380 Score:  57.95   Playtime:  451.15   n_eps: 0.14885748713096328  n_experiences: 105969   \n",
            "Episode 390 Score:  62.91   Playtime:  451.14   n_eps: 0.14157986400593744  n_experiences: 109318   \n",
            "Episode 400 Score:  64.37   Playtime:  445.50   n_eps: 0.1346580429260134   n_experiences: 113498   \n",
            "Episode 410 Score:  60.74   Playtime:  446.05   n_eps: 0.12807462877562611  n_experiences: 118189   \n",
            "Episode 420 Score:  56.13   Playtime:  442.11   n_eps: 0.12181307688414106  n_experiences: 122006   \n",
            "Episode 430 Score:  58.69   Playtime:  442.19   n_eps: 0.11585765144771248  n_experiences: 126635   \n",
            "Episode 440 Score:  64.23   Playtime:  445.81   n_eps: 0.11019338598389174  n_experiences: 131415   \n",
            "Episode 450 Score:  70.51   Playtime:  450.04   n_eps: 0.10480604571960442  n_experiences: 136235   \n",
            "Episode 460 Score:  82.23   Playtime:  443.07   n_eps: 0.0996820918179746   n_experiences: 140538   \n",
            "Episode 470 Score:  83.02   Playtime:  438.06   n_eps: 0.09480864735409487  n_experiences: 144775   \n",
            "Episode 480 Score:  88.13   Playtime:  429.96   n_eps: 0.09017346495423652  n_experiences: 148965   \n",
            "Episode 490 Score:  89.39   Playtime:  446.47   n_eps: 0.08576489601717459  n_experiences: 153965   \n",
            "Episode 500 Score:  96.56   Playtime:  454.50   n_eps: 0.08157186144027828  n_experiences: 158948   \n",
            "Episode 510 Score:  116.22  Playtime:  443.45   n_eps: 0.07758382377679894  n_experiences: 162534   \n",
            "Episode 520 Score:  139.02  Playtime:  439.50   n_eps: 0.07379076075438468  n_experiences: 165956   \n",
            "Episode 530 Score:  150.14  Playtime:  424.80   n_eps: 0.07018314008827135  n_experiences: 169115   \n",
            "Episode 540 Score:  164.98  Playtime:  408.12   n_eps: 0.0667518955258533   n_experiences: 172227   \n",
            "Episode 550 Score:  177.29  Playtime:  395.54   n_eps: 0.06348840406243188  n_experiences: 175789   \n",
            "Episode 560 Score:  182.13  Playtime:  385.51   n_eps: 0.06038446427088321  n_experiences: 179089   \n",
            "Episode 570 Score:  201.26  Playtime:  374.80   n_eps: 0.05743227569078546  n_experiences: 182255   "
          ]
        }
      ],
      "source": [
        "env = gym.make('LunarLander-v2',render_mode='rgb_array')\n",
        "agent = Agent(env)\n",
        "agent.eps = 1.0 \n",
        "for _ in range(2000):\n",
        "    ### 1. 본질적인 코드\n",
        "    agent.current_state, _  = env.reset() \n",
        "    agent.terminated = False\n",
        "    agent.score = 0 \n",
        "    for t in range(500):\n",
        "        ## step1 \n",
        "        agent >> env \n",
        "        ## step2 \n",
        "        agent << env \n",
        "        ## step3 \n",
        "        agent.learn()    \n",
        "        ## step4 \n",
        "        agent.current_state = agent.next_state \n",
        "        ## step5 \n",
        "        if agent.terminated: break \n",
        "    agent.scores.append(agent.score) \n",
        "    agent.playtimes.append(t+1)\n",
        "    agent.n_episode = agent.n_episode + 1 \n",
        "    agent.eps = agent.eps*0.995\n",
        "    ## 2. 비본질적 코드\n",
        "    if (agent.n_episode % 10) == 0:\n",
        "        print(\n",
        "            f'Episode {agent.n_episode}\\t'\n",
        "            f'Score: {np.mean(agent.scores[-100:]) : .2f}\\t'\n",
        "            f'Playtime: {np.mean(agent.playtimes[-100:]) : .2f}\\t'\n",
        "            f'n_eps: {agent.eps}\\t'\n",
        "            f'n_experiences: {agent.n_experiences}\\t'\n",
        "        )\n",
        "    if np.mean(agent.scores[-100:])>=200.0:\n",
        "        break"
      ],
      "id": "28170151-ed99-4f5e-832b-e6cadb515ed1"
    },
    {
      "cell_type": "code",
      "execution_count": 54,
      "metadata": {},
      "outputs": [],
      "source": [
        "agent2 = Agent(env)\n",
        "agent2.current_state,_ = env.reset()\n",
        "\n",
        "agent2.q_net = agent.q_net\n",
        "agent2.terminated = False\n",
        "ims = [] \n",
        "ims.append(env.render())\n",
        "for t in range(500):\n",
        "    agent2 >> env \n",
        "    agent2 << env \n",
        "    agent2.current_state = agent2.next_state \n",
        "    ims.append(env.render())\n",
        "    if agent2.terminated: break "
      ],
      "id": "9ac551c2-fdda-4526-9783-e90f5325bee5"
    },
    {
      "cell_type": "code",
      "execution_count": 55,
      "metadata": {},
      "outputs": [],
      "source": [
        "show(ims,jump=10)"
      ],
      "id": "d73b7fbe-5414-4f0e-81d2-f4129155b581"
    }
  ],
  "nbformat": 4,
  "nbformat_minor": 5,
  "metadata": {
    "kernelspec": {
      "name": "python3",
      "display_name": "Python 3 (ipykernel)",
      "language": "python"
    },
    "language_info": {
      "name": "python",
      "codemirror_mode": {
        "name": "ipython",
        "version": "3"
      },
      "file_extension": ".py",
      "mimetype": "text/x-python",
      "nbconvert_exporter": "python",
      "pygments_lexer": "ipython3",
      "version": "3.11.4"
    }
  }
}