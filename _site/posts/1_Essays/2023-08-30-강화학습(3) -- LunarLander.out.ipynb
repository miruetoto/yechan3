{
  "cells": [
    {
      "cell_type": "markdown",
      "metadata": {},
      "source": [
        "# **\\[Essays\\]** 강화학습(3) – LunarLander\n",
        "\n",
        "신록예찬  \n",
        "2023-08-30\n",
        "\n",
        "# imports"
      ],
      "id": "0efb8298-cfc4-4206-b278-1124ec7c7b4a"
    },
    {
      "cell_type": "code",
      "execution_count": 48,
      "metadata": {},
      "outputs": [],
      "source": [
        "import gymnasium as gym\n",
        "import numpy as np\n",
        "import matplotlib.pyplot as plt\n",
        "from matplotlib.animation import FuncAnimation\n",
        "import torch\n",
        "import collections\n",
        "import IPython\n",
        "import random"
      ],
      "id": "10f3caa4-bf24-44b0-9d4b-043bced59d3e"
    },
    {
      "cell_type": "markdown",
      "metadata": {},
      "source": [
        "# 예비학습\n",
        "\n",
        "`-` collections.deque의 기능"
      ],
      "id": "5eb5d790-5c6b-4667-846f-35362c4d7c8d"
    },
    {
      "cell_type": "code",
      "execution_count": 49,
      "metadata": {},
      "outputs": [],
      "source": [
        "a = collections.deque([1,2,3],maxlen=5)\n",
        "a"
      ],
      "id": "2c4f15a9-836b-4852-bca9-9b2a71bca6a7"
    },
    {
      "cell_type": "code",
      "execution_count": 50,
      "metadata": {},
      "outputs": [],
      "source": [
        "a.append(4)"
      ],
      "id": "c1b03d93-6cae-47d3-b728-1f6cf2774a05"
    },
    {
      "cell_type": "code",
      "execution_count": 51,
      "metadata": {},
      "outputs": [],
      "source": [
        "a"
      ],
      "id": "dd91445d-28c5-442e-b4fd-c0c7eadcf2a3"
    },
    {
      "cell_type": "code",
      "execution_count": 52,
      "metadata": {},
      "outputs": [],
      "source": [
        "a.append(5)"
      ],
      "id": "d2917e2c-d1fd-4f63-8baf-20e39a896585"
    },
    {
      "cell_type": "code",
      "execution_count": 53,
      "metadata": {},
      "outputs": [],
      "source": [
        "a"
      ],
      "id": "1b6053cd-648c-429c-8685-903dfda813b3"
    },
    {
      "cell_type": "code",
      "execution_count": 54,
      "metadata": {},
      "outputs": [],
      "source": [
        "a.append(6)"
      ],
      "id": "f99b01db-4a61-4b03-9766-ec6e6486bc2d"
    },
    {
      "cell_type": "code",
      "execution_count": 55,
      "metadata": {},
      "outputs": [],
      "source": [
        "a"
      ],
      "id": "c007ea5a-0f16-469a-bcdd-c6adb53af0eb"
    },
    {
      "cell_type": "markdown",
      "metadata": {},
      "source": [
        "`-` 단점?: numpy array 보다는 list 느낌임 (연산에 특화된건 아님)"
      ],
      "id": "fdf8b63b-4bff-4ee7-9b3d-21084f6f673f"
    },
    {
      "cell_type": "code",
      "execution_count": 56,
      "metadata": {},
      "outputs": [],
      "source": [
        "a+1"
      ],
      "id": "20c194a3-3fce-43cd-850f-b74d62434ad7"
    },
    {
      "cell_type": "markdown",
      "metadata": {},
      "source": [
        "`-` 그렇지만 언제든지 numpy화 가능"
      ],
      "id": "4970c1ea-f38c-434a-902a-61d35cc1b5e4"
    },
    {
      "cell_type": "code",
      "execution_count": 57,
      "metadata": {},
      "outputs": [],
      "source": [
        "np.array(a)+1"
      ],
      "id": "9e15a0a9-e77f-4d95-9935-c944d9054b13"
    },
    {
      "cell_type": "markdown",
      "metadata": {},
      "source": [
        "`-` collection.deque는 리플레이 버퍼를 구현할때 유리한 자료구조이다.\n",
        "\n",
        "-   (우리가 했던) 기존방식: 모든 데이터를 저장하며 한번의 경험씩 학습함\n",
        "-   리플레이버퍼: 최근의 데이터를 저장하며 여러경험을 샘플링하여 학습함\n",
        "-   리플레이버퍼의 장점: 메모리를 아낄 수 있다, 다양한 종류의 경험을\n",
        "    저장하고 무작위로 재사용하여 안정성이 높다, “저장 -\\> 학습 -\\> 저장”\n",
        "    순으로 반드시 실시간학습을 할 필요가 없어 병렬처리에 용이하다,\n",
        "    강화학습에서의 연속된 경험은 상관관계가 있을 수 있는데 무작위 샘플로\n",
        "    이를 제거할 수 있다 등등~\n",
        "\n",
        "# Game3: LunarLander\n",
        "\n",
        "`-` 환경생성"
      ],
      "id": "5bf04724-fafa-42ee-be7e-87353251c7da"
    },
    {
      "cell_type": "code",
      "execution_count": 58,
      "metadata": {},
      "outputs": [],
      "source": [
        "env = gym.make('LunarLander-v2',render_mode='rgb_array')"
      ],
      "id": "f143a915-16ab-40ee-a675-320c5dc0d772"
    },
    {
      "cell_type": "markdown",
      "metadata": {},
      "source": [
        "`-` state_space"
      ],
      "id": "0ffda909-499c-4ca4-9c61-2c52d84071bd"
    },
    {
      "cell_type": "code",
      "execution_count": 59,
      "metadata": {},
      "outputs": [],
      "source": [
        "env.observation_space"
      ],
      "id": "27dac771-a6fc-428a-ac56-67ce7256acc2"
    },
    {
      "cell_type": "markdown",
      "metadata": {},
      "source": [
        "`-` action_space"
      ],
      "id": "3e848d0f-1111-4617-ac8e-7511ac44031c"
    },
    {
      "cell_type": "code",
      "execution_count": 60,
      "metadata": {},
      "outputs": [],
      "source": [
        "env.action_space"
      ],
      "id": "cecac244-bca5-4b5b-93bf-b9ed1a62cc15"
    },
    {
      "cell_type": "markdown",
      "metadata": {},
      "source": [
        "`-` env.reset()"
      ],
      "id": "63032570-007b-424d-b444-53eccc286b4e"
    },
    {
      "cell_type": "code",
      "execution_count": 61,
      "metadata": {},
      "outputs": [],
      "source": [
        "env.reset()"
      ],
      "id": "e76c453b-cbb4-4e7a-8305-d3955a3615cb"
    },
    {
      "cell_type": "markdown",
      "metadata": {},
      "source": [
        "`-` env.render()"
      ],
      "id": "e5ac0af3-3348-4638-807c-e3bf74236a40"
    },
    {
      "cell_type": "code",
      "execution_count": 62,
      "metadata": {},
      "outputs": [
        {
          "output_type": "display_data",
          "metadata": {},
          "data": {
            "image/png": "[encoded data removed]"
          }
        }
      ],
      "source": [
        "plt.imshow(env.render())"
      ],
      "id": "1a2d392b-1b18-4f56-a111-d6bc71f89df5"
    },
    {
      "cell_type": "markdown",
      "metadata": {},
      "source": [
        "`-` env.step"
      ],
      "id": "cd1505ec-c846-4352-aaf0-2152fa0391f4"
    },
    {
      "cell_type": "code",
      "execution_count": 63,
      "metadata": {},
      "outputs": [],
      "source": [
        "for _ in range(5):\n",
        "    env.step(0)\n",
        "    env.step(2)\n",
        "    env.step(2)\n",
        "    env.step(1)"
      ],
      "id": "b81d50c1-ede2-4b27-a06d-06b21a7644fb"
    },
    {
      "cell_type": "markdown",
      "metadata": {},
      "source": [
        "-   0: 정지\n",
        "-   1: 왼쪽\n",
        "-   2: 위로\n",
        "-   3: 오른쪽\n",
        "-   <https://gymnasium.farama.org/environments/box2d/lunar_lander/>"
      ],
      "id": "8416e205-3b37-49af-b5a1-617dde24b8ea"
    },
    {
      "cell_type": "code",
      "execution_count": 64,
      "metadata": {},
      "outputs": [
        {
          "output_type": "display_data",
          "metadata": {},
          "data": {
            "image/png": "[encoded data removed]"
          }
        }
      ],
      "source": [
        "plt.imshow(env.render())"
      ],
      "id": "0626032a-acf0-4c40-b7c8-386b09aa4901"
    },
    {
      "cell_type": "markdown",
      "metadata": {},
      "source": [
        "# 시각화"
      ],
      "id": "27536b9b-d733-4bdf-8ea1-142b49703d27"
    },
    {
      "cell_type": "code",
      "execution_count": 65,
      "metadata": {},
      "outputs": [],
      "source": [
        "env.step(0)"
      ],
      "id": "5d6a8799-1e67-4bb6-a382-f08e493c0db1"
    },
    {
      "cell_type": "code",
      "execution_count": 66,
      "metadata": {},
      "outputs": [],
      "source": [
        "current_states = collections.deque(maxlen=50)\n",
        "actions = collections.deque(maxlen=50)\n",
        "next_states = collections.deque(maxlen=50) \n",
        "rewards = collections.deque(maxlen=50) \n",
        "terminations = collections.deque(maxlen=50)\n",
        "ims = []\n",
        "current_state, _ = env.reset()\n",
        "\n",
        "for t in range(500):\n",
        "    action = env.action_space.sample()\n",
        "    next_state, reward, terminated, _, _ = env.step(action)\n",
        "    im = env.render()\n",
        "    \n",
        "    current_states.append(current_state)\n",
        "    actions.append(action)\n",
        "    next_states.append(next_state)\n",
        "    rewards.append(reward) \n",
        "    terminations.append(terminated)\n",
        "    ims.append(im)    \n",
        "\n",
        "    current_state = next_state \n",
        "    if terminated: break"
      ],
      "id": "f6e3823d-dace-464e-ad5f-2c53f64fbb02"
    },
    {
      "cell_type": "code",
      "execution_count": 67,
      "metadata": {},
      "outputs": [],
      "source": [
        "def show(ims,jump=10):\n",
        "    ims = ims[::jump]\n",
        "    fig = plt.Figure()\n",
        "    ax = fig.subplots()\n",
        "    def update(i):\n",
        "       ax.imshow(ims[i])\n",
        "    ani = FuncAnimation(fig,update,frames=len(ims))\n",
        "    display(IPython.display.HTML(ani.to_jshtml()))"
      ],
      "id": "511bc34d-3680-45d0-89a5-d0c310e3fcc1"
    },
    {
      "cell_type": "code",
      "execution_count": 68,
      "metadata": {},
      "outputs": [],
      "source": [
        "show(ims,jump=10)"
      ],
      "id": "9b71ec36-9d72-4fcd-82e3-31cb98223bc2"
    },
    {
      "cell_type": "markdown",
      "metadata": {},
      "source": [
        "# `q_net`\n",
        "\n",
        "`-` 데이터를 모아보자."
      ],
      "id": "ec7f1fbb-89dc-4ed6-b4e0-a64ebc84425d"
    },
    {
      "cell_type": "code",
      "execution_count": 69,
      "metadata": {},
      "outputs": [],
      "source": [
        "current_states = collections.deque(maxlen=50) \n",
        "actions = collections.deque(maxlen=50) \n",
        "next_states = collections.deque(maxlen=50) \n",
        "rewards = collections.deque(maxlen=50) \n",
        "terminations = collections.deque(maxlen=50) \n",
        "\n",
        "current_state, _ = env.reset()\n",
        "for t in range(500): \n",
        "    action = env.action_space.sample()\n",
        "    next_state, reward, terminated, _, _ = env.step(action)\n",
        "\n",
        "    current_states.append(current_state) \n",
        "    actions.append(action)\n",
        "    next_states.append(next_state)\n",
        "    rewards.append(reward)\n",
        "    terminations.append(terminated) \n",
        "    \n",
        "    current_state = next_state \n",
        "    if terminated: break "
      ],
      "id": "c77fbfc5-756b-45d9-b360-bc0520bd9592"
    },
    {
      "cell_type": "markdown",
      "metadata": {},
      "source": [
        "`-` 이전코드에서 아래에 대응하는 부분을 잘 구현하면 된다.\n",
        "\n",
        "``` python\n",
        "## 1. q[x,y,a] \n",
        "agent.q = np.zeros([4,4,4])  \n",
        "\n",
        "## 2. q_estimate  \n",
        "x,y = agent.current_state\n",
        "xx,yy = agent.next_state\n",
        "a = agent.action \n",
        "q_estimated = agent.q[x,y,a] \n",
        "\n",
        "## 3. q_realistic = reward + 0.99 * q_future\n",
        "if agent.terminated:\n",
        "    q_realistic = agent.reward\n",
        "else:\n",
        "    q_future = q[xx,yy,:].max()\n",
        "    q_realistic = agent.reward + 0.99 * q_future\n",
        "\n",
        "## 4. q_estimate 와 q_realistic 를 비슷하게 만들어주는 역할을 하는 코드 \n",
        "diff = q_realistic - q_estimated \n",
        "agent.q[x,y,a] = q_estimated + 0.05 * diff\n",
        "```\n",
        "\n",
        "`1`. q_net를 설정"
      ],
      "id": "2f0a3150-4db7-48bf-8b87-7d9337e629b4"
    },
    {
      "cell_type": "code",
      "execution_count": 70,
      "metadata": {},
      "outputs": [],
      "source": [
        "q_net = torch.nn.Sequential(\n",
        "    torch.nn.Linear(8,128), # 8개의 상태공간 \n",
        "    torch.nn.ReLU(),\n",
        "    torch.nn.Linear(128,64), \n",
        "    torch.nn.ReLU(),\n",
        "    torch.nn.Linear(64,32), \n",
        "    torch.nn.ReLU(),\n",
        "    torch.nn.Linear(32,4) # 4개의 action값들 \n",
        ")"
      ],
      "id": "8b2093d6-565a-4ad1-9598-389b9c044815"
    },
    {
      "cell_type": "code",
      "execution_count": 71,
      "metadata": {},
      "outputs": [],
      "source": [
        "torch.tensor(current_state)"
      ],
      "id": "ef1bd6a7-5f93-4417-af55-b592c0e6fe6e"
    },
    {
      "cell_type": "code",
      "execution_count": 72,
      "metadata": {},
      "outputs": [],
      "source": [
        "q_net(torch.tensor(current_state))"
      ],
      "id": "bd7b7289-afe4-4dfd-b487-c1c1d33da49d"
    },
    {
      "cell_type": "markdown",
      "metadata": {},
      "source": [
        "`1`. q_net를 설정 (배치버전)\n",
        "\n",
        "– get batch –"
      ],
      "id": "1572a5e0-c84c-4812-a60a-ea1425638bbc"
    },
    {
      "cell_type": "code",
      "execution_count": 73,
      "metadata": {},
      "outputs": [],
      "source": [
        "batch_size = 4\n",
        "idx = np.random.randint(0,50,size=batch_size) \n",
        "idx"
      ],
      "id": "7a3edc63-ab77-41e6-8512-8428302c6d97"
    },
    {
      "cell_type": "code",
      "execution_count": 74,
      "metadata": {},
      "outputs": [],
      "source": [
        "torch.tensor(current_states)[idx]"
      ],
      "id": "41fdbe2c-74dc-49d4-a161-d7067afe84c9"
    },
    {
      "cell_type": "code",
      "execution_count": 75,
      "metadata": {},
      "outputs": [],
      "source": [
        "torch.tensor(np.array(current_states))[idx]"
      ],
      "id": "de7aeea9-c262-44c7-bdb1-cb88bed29f5d"
    },
    {
      "cell_type": "code",
      "execution_count": 76,
      "metadata": {},
      "outputs": [],
      "source": [
        "current_states_batch = torch.tensor(np.array(current_states))[idx].float()\n",
        "actions_batch = torch.tensor(np.array(actions))[idx].reshape(batch_size,1)\n",
        "rewards_batch = torch.tensor(np.array(rewards))[idx].reshape(batch_size,-1).float()\n",
        "next_states_batch = torch.tensor(np.array(next_states))[idx].float()\n",
        "terminations_batch = torch.tensor(np.array(terminations))[idx].reshape(batch_size,-1) "
      ],
      "id": "fa957b27-a4fa-45b4-868b-33768f474fb7"
    },
    {
      "cell_type": "code",
      "execution_count": 77,
      "metadata": {},
      "outputs": [],
      "source": [
        "~terminations_batch"
      ],
      "id": "7a8245d7-9458-42aa-9ea6-21f40a18fa20"
    },
    {
      "cell_type": "markdown",
      "metadata": {},
      "source": [
        "– q_net –"
      ],
      "id": "91972f41-9381-431c-9c0c-80bb1c996986"
    },
    {
      "cell_type": "code",
      "execution_count": 78,
      "metadata": {},
      "outputs": [],
      "source": [
        "q_net(current_states_batch)"
      ],
      "id": "981ad321-2f48-4900-9b65-ff89ef35b52a"
    },
    {
      "cell_type": "markdown",
      "metadata": {},
      "source": [
        "`2`. q_estimated의 구현"
      ],
      "id": "351375f9-8bf3-4d5c-acab-510f95871f16"
    },
    {
      "cell_type": "code",
      "execution_count": 79,
      "metadata": {},
      "outputs": [],
      "source": [
        "q_net(current_states_batch), actions_batch"
      ],
      "id": "f36f05c0-774e-49ac-9bc6-ff8620efd3f7"
    },
    {
      "cell_type": "code",
      "execution_count": 80,
      "metadata": {},
      "outputs": [],
      "source": [
        "q_estimated = q_net(current_states_batch).gather(1,actions_batch)\n",
        "q_estimated"
      ],
      "id": "18c7444a-5251-4838-b4fb-08d6538b3166"
    },
    {
      "cell_type": "markdown",
      "metadata": {},
      "source": [
        "`3`. q_realistic = reward + 0.99 \\* q_future 의 구현\n",
        "\n",
        "**q_future**"
      ],
      "id": "723fd81f-073b-49ea-9323-1a272a013f54"
    },
    {
      "cell_type": "code",
      "execution_count": 81,
      "metadata": {},
      "outputs": [],
      "source": [
        "q_future = q_net(next_states_batch).max(axis=1)[0].reshape(batch_size,1)\n",
        "q_future"
      ],
      "id": "05dc76d9-5e13-47c0-ba85-8e69f4e97b6d"
    },
    {
      "cell_type": "code",
      "execution_count": 82,
      "metadata": {},
      "outputs": [],
      "source": [
        "q_realistic = rewards_batch + q_future * 0.99 * (~terminations_batch)"
      ],
      "id": "67bd2dff-c5ac-4002-b838-439d6051836d"
    },
    {
      "cell_type": "markdown",
      "metadata": {},
      "source": [
        "`4`. `q_estimated` $\\approx$ `q_realistic` 가 되도록 만드는 장치\n",
        "\n",
        "``` python\n",
        "## 여기는.. 딥러닝과 파이토치를 좀 알아야.. 모른다면 일단 패스해야해요\n",
        "optimizer = torch.optim.Adam(q_net.parameters(), lr=0.0001)\n",
        "for _ in range(2000):\n",
        "    ~~\n",
        "    ~~\n",
        "    q_estimated = ...\n",
        "    q_observed = ... \n",
        "    loss = torch.nn.functional.mse_loss(q_estimated, q_observed)\n",
        "    loss.backward()\n",
        "    optimizer.step()\n",
        "    optimizer.zero_grad()\n",
        "```\n",
        "\n",
        "# policy"
      ],
      "id": "383f90ab-9323-4cf4-9c26-3f5c24c8edd3"
    },
    {
      "cell_type": "code",
      "execution_count": 83,
      "metadata": {},
      "outputs": [],
      "source": [
        "eps = 0.5 \n",
        "if np.random.rand() > eps:\n",
        "    action = q_net(torch.tensor(current_state)).argmax().item()\n",
        "else:\n",
        "    action = env.action_space.sample()"
      ],
      "id": "ddb46f64-5388-4b12-b234-a692e5b1c4ba"
    },
    {
      "cell_type": "code",
      "execution_count": 84,
      "metadata": {},
      "outputs": [],
      "source": [
        "action"
      ],
      "id": "d78b3c8b-b7ea-4f82-a610-ce54cca4b5e5"
    },
    {
      "cell_type": "markdown",
      "metadata": {},
      "source": [
        "# Agent 클래스 + run"
      ],
      "id": "f780b58a-601f-4f56-9b20-6d796adf6e67"
    },
    {
      "cell_type": "code",
      "execution_count": 85,
      "metadata": {},
      "outputs": [],
      "source": [
        "class Agent():\n",
        "    def __init__(self,env):\n",
        "        self.eps = 0\n",
        "        self.n_experiences = 0\n",
        "        self.n_episode = 0\n",
        "        self.score = 0\n",
        "        self.scores = [] \n",
        "        self.playtimes = []\n",
        "        self.batch_size = 64\n",
        "        self.buffer_size = 5000 \n",
        "        self.action_space = env.action_space\n",
        "        #self.state_space = env.observation_space\n",
        "\n",
        "        # Q-Network\n",
        "        self.q_net = torch.nn.Sequential(\n",
        "            torch.nn.Linear(8,128), \n",
        "            torch.nn.ReLU(),\n",
        "            torch.nn.Linear(128,64),\n",
        "            torch.nn.ReLU(),\n",
        "            torch.nn.Linear(64,32),\n",
        "            torch.nn.ReLU(),\n",
        "            torch.nn.Linear(32,4)\n",
        "        ) \n",
        "        self.optimizer = torch.optim.Adam(self.q_net.parameters(), lr=0.0001)\n",
        "\n",
        "        # ReplayBuffer\n",
        "        self.memory = collections.deque(maxlen=self.buffer_size)\n",
        "        self.current_states = collections.deque(maxlen=self.buffer_size)\n",
        "        self.actions = collections.deque(maxlen=self.buffer_size)\n",
        "        self.rewards = collections.deque(maxlen=self.buffer_size)\n",
        "        self.next_states = collections.deque(maxlen=self.buffer_size)\n",
        "        self.terminations = collections.deque(maxlen=self.buffer_size)\n",
        "       \n",
        "    def save_experience(self):\n",
        "        \"\"\"Add a new experience to memory.\"\"\"\n",
        "        self.current_states.append(self.current_state)\n",
        "        self.actions.append(self.action)\n",
        "        self.rewards.append(self.reward)\n",
        "        self.next_states.append(self.next_state)\n",
        "        self.terminations.append(self.terminated) \n",
        "        self.n_experiences = self.n_experiences+1\n",
        "        self.score += self.reward\n",
        "    \n",
        "    def act(self):\n",
        "        if np.random.rand() < self.eps:\n",
        "            self.action = self.action_space.sample()\n",
        "        else:\n",
        "            self.action = self.q_net(torch.tensor(self.current_state)).argmax().item()\n",
        "            \n",
        "    def get_batch(self):\n",
        "        idx = np.random.randint(0,self.buffer_size,size=self.batch_size) \n",
        "        self.current_states_batch = torch.tensor(np.array(self.current_states))[idx].float()\n",
        "        self.actions_batch = torch.tensor(np.array(self.actions))[idx].reshape(self.batch_size,1)\n",
        "        self.rewards_batch = torch.tensor(np.array(self.rewards))[idx].reshape(self.batch_size,-1).float()\n",
        "        self.next_states_batch = torch.tensor(np.array(self.next_states))[idx].float()\n",
        "        self.terminations_batch = torch.tensor(np.array(self.terminations))[idx].reshape(self.batch_size,-1) \n",
        "    \n",
        "    def learn(self):\n",
        "        if self.n_experiences < self.buffer_size:\n",
        "            pass\n",
        "        else: \n",
        "            self.get_batch()\n",
        "            q_estimated = self.q_net(self.current_states_batch).gather(1, self.actions_batch)\n",
        "            q_future = self.q_net(self.next_states_batch).detach().max(1)[0].reshape(self.batch_size,1)\n",
        "            q_realistic = self.rewards_batch + 0.99 * q_future * (~self.terminations_batch)\n",
        "\n",
        "            loss = torch.nn.functional.mse_loss(q_estimated, q_realistic)\n",
        "            loss.backward()\n",
        "            self.optimizer.step()\n",
        "            self.optimizer.zero_grad()"
      ],
      "id": "79bab54a-dfdf-4ecf-9ba6-b22d93b17c68"
    },
    {
      "cell_type": "code",
      "execution_count": 87,
      "metadata": {},
      "outputs": [
        {
          "output_type": "stream",
          "name": "stdout",
          "text": [
            "Episode 10  Score: -137.90  Playtime:  97.10    n_eps: 0.9511101304657719   n_experiences: 971  \n",
            "Episode 20  Score: -195.78  Playtime:  96.60    n_eps: 0.9046104802746175   n_experiences: 1932 \n",
            "Episode 30  Score: -196.55  Playtime:  92.40    n_eps: 0.8603841919146962   n_experiences: 2772 \n",
            "Episode 40  Score: -201.82  Playtime:  90.53    n_eps: 0.8183201210226743   n_experiences: 3621 \n",
            "Episode 50  Score: -217.03  Playtime:  90.06    n_eps: 0.778312557068642    n_experiences: 4503 \n",
            "Episode 60  Score: -224.53  Playtime:  90.13    n_eps: 0.7402609576967045   n_experiences: 5408 \n",
            "Episode 70  Score: -216.98  Playtime:  90.06    n_eps: 0.7040696960536299   n_experiences: 6304 \n",
            "Episode 80  Score: -228.78  Playtime:  94.11    n_eps: 0.6696478204705644   n_experiences: 7529 \n",
            "Episode 90  Score: -220.73  Playtime:  97.60    n_eps: 0.6369088258938781   n_experiences: 8784 \n",
            "Episode 100 Score: -217.57  Playtime:  103.18   n_eps: 0.6057704364907278   n_experiences: 10318    \n",
            "Episode 110 Score: -218.36  Playtime:  110.26   n_eps: 0.5761543988830038   n_experiences: 11997    \n",
            "Episode 120 Score: -205.50  Playtime:  118.04   n_eps: 0.547986285490042    n_experiences: 13736    \n",
            "Episode 130 Score: -200.74  Playtime:  126.74   n_eps: 0.5211953074858876   n_experiences: 15446    \n",
            "Episode 140 Score: -191.62  Playtime:  135.60   n_eps: 0.49571413690105054  n_experiences: 17181    \n",
            "Episode 150 Score: -173.48  Playtime:  142.64   n_eps: 0.47147873742168567  n_experiences: 18767    \n",
            "Episode 160 Score: -155.38  Playtime:  151.56   n_eps: 0.4484282034609769   n_experiences: 20564    \n",
            "Episode 170 Score: -146.95  Playtime:  165.12   n_eps: 0.42650460709830135  n_experiences: 22816    \n",
            "Episode 180 Score: -120.43  Playtime:  190.67   n_eps: 0.40565285250151817  n_experiences: 26596    \n",
            "Episode 190 Score: -108.96  Playtime:  211.01   n_eps: 0.3858205374665315   n_experiences: 29885    \n",
            "Episode 200 Score: -94.70   Playtime:  229.29   n_eps: 0.3669578217261671   n_experiences: 33247    \n",
            "Episode 210 Score: -84.55   Playtime:  241.50   n_eps: 0.34901730169741024  n_experiences: 36147    \n",
            "Episode 220 Score: -72.07   Playtime:  260.91   n_eps: 0.33195389135223546  n_experiences: 39827    \n",
            "Episode 230 Score: -53.77   Playtime:  290.32   n_eps: 0.3157247089126454   n_experiences: 44478    \n",
            "Episode 240 Score: -43.37   Playtime:  308.80   n_eps: 0.30028896908517405  n_experiences: 48061    \n",
            "Episode 250 Score: -35.43   Playtime:  333.85   n_eps: 0.285607880564032    n_experiences: 52152    \n",
            "Episode 260 Score: -20.80   Playtime:  363.92   n_eps: 0.27164454854530906  n_experiences: 56956    \n",
            "Episode 270 Score: -4.65    Playtime:  376.17   n_eps: 0.2583638820072446   n_experiences: 60433    \n",
            "Episode 280 Score:  6.64    Playtime:  378.81   n_eps: 0.2457325055235537   n_experiences: 64477    \n",
            "Episode 290 Score:  17.44   Playtime:  387.17   n_eps: 0.23371867538818816  n_experiences: 68602    \n",
            "Episode 300 Score:  26.12   Playtime:  393.60   n_eps: 0.22229219984074702  n_experiences: 72607    \n",
            "Episode 310 Score:  31.50   Playtime:  393.22   n_eps: 0.21142436319205632  n_experiences: 75469    \n",
            "Episode 320 Score:  38.37   Playtime:  395.83   n_eps: 0.2010878536592394   n_experiences: 79410    \n",
            "Episode 330 Score:  43.81   Playtime:  392.23   n_eps: 0.1912566947289212   n_experiences: 83701    \n",
            "Episode 340 Score:  54.40   Playtime:  399.65   n_eps: 0.18190617987607657  n_experiences: 88026    \n",
            "Episode 350 Score:  68.59   Playtime:  408.74   n_eps: 0.1730128104744653   n_experiences: 93026    \n",
            "Episode 360 Score:  56.54   Playtime:  382.49   n_eps: 0.16455423674261854  n_experiences: 95205    \n",
            "Episode 370 Score:  52.59   Playtime:  381.52   n_eps: 0.15650920157696743  n_experiences: 98585    \n",
            "Episode 380 Score:  56.71   Playtime:  385.11   n_eps: 0.14885748713096328  n_experiences: 102988   \n",
            "Episode 390 Score:  55.14   Playtime:  393.86   n_eps: 0.14157986400593744  n_experiences: 107988   \n",
            "Episode 400 Score:  40.80   Playtime:  378.01   n_eps: 0.1346580429260134   n_experiences: 110408   \n",
            "Episode 410 Score:  15.73   Playtime:  373.27   n_eps: 0.12807462877562611  n_experiences: 112796   \n",
            "Episode 420 Score:  9.92    Playtime:  380.20   n_eps: 0.12181307688414106  n_experiences: 117430   \n",
            "Episode 430 Score:  11.66   Playtime:  387.29   n_eps: 0.11585765144771248  n_experiences: 122430   \n",
            "Episode 440 Score:  13.24   Playtime:  391.23   n_eps: 0.11019338598389174  n_experiences: 127149   \n",
            "Episode 450 Score:  16.40   Playtime:  390.34   n_eps: 0.10480604571960442  n_experiences: 132060   \n",
            "Episode 460 Score:  34.93   Playtime:  409.24   n_eps: 0.0996820918179746   n_experiences: 136129   \n",
            "Episode 470 Score:  46.96   Playtime:  423.49   n_eps: 0.09480864735409487  n_experiences: 140934   \n",
            "Episode 480 Score:  56.14   Playtime:  410.33   n_eps: 0.09017346495423652  n_experiences: 144021   \n",
            "Episode 490 Score:  72.96   Playtime:  388.74   n_eps: 0.08576489601717459  n_experiences: 146862   \n",
            "Episode 500 Score:  108.96  Playtime:  403.26   n_eps: 0.08157186144027828  n_experiences: 150734   \n",
            "Episode 510 Score:  144.19  Playtime:  419.33   n_eps: 0.07758382377679894  n_experiences: 154729   \n",
            "Episode 520 Score:  165.65  Playtime:  408.21   n_eps: 0.07379076075438468  n_experiences: 158251   \n",
            "Episode 530 Score:  169.62  Playtime:  391.44   n_eps: 0.07018314008827135  n_experiences: 161574   \n",
            "Episode 540 Score:  181.53  Playtime:  387.68   n_eps: 0.0667518955258533   n_experiences: 165917   \n",
            "Episode 550 Score:  187.00  Playtime:  373.46   n_eps: 0.06348840406243188  n_experiences: 169406   \n",
            "Episode 560 Score:  197.04  Playtime:  369.71   n_eps: 0.06038446427088321  n_experiences: 173100   "
          ]
        }
      ],
      "source": [
        "env = gym.make('LunarLander-v2',render_mode='rgb_array')\n",
        "agent = Agent(env)\n",
        "agent.eps = 1.0 \n",
        "for _ in range(2000):\n",
        "    ### 1. 본질적인 코드\n",
        "    agent.current_state, _  = env.reset() \n",
        "    agent.terminated = False\n",
        "    agent.score = 0 \n",
        "    for t in range(500):\n",
        "        # step1: agent >> env \n",
        "        agent.act() \n",
        "        env.agent_action = agent.action  \n",
        "        # step2: agent << env \n",
        "        agent.next_state, agent.reward, agent.terminated, _,_ = env.step(env.agent_action)\n",
        "        agent.save_experience() \n",
        "        # step3: learn \n",
        "        agent.learn()\n",
        "        # step4: state update \n",
        "        agent.current_state = agent.next_state \n",
        "        # step5: \n",
        "        if agent.terminated: break \n",
        "    agent.scores.append(agent.score) \n",
        "    agent.playtimes.append(t+1)\n",
        "    agent.n_episode = agent.n_episode + 1 \n",
        "    agent.eps = agent.eps*0.995\n",
        "    ## 2. 비본질적 코드\n",
        "    if (agent.n_episode % 10) == 0:\n",
        "        print(\n",
        "            f'Episode {agent.n_episode}\\t'\n",
        "            f'Score: {np.mean(agent.scores[-100:]) : .2f}\\t'\n",
        "            f'Playtime: {np.mean(agent.playtimes[-100:]) : .2f}\\t'\n",
        "            f'n_eps: {agent.eps}\\t'\n",
        "            f'n_experiences: {agent.n_experiences}\\t'\n",
        "        )\n",
        "    if np.mean(agent.scores[-100:])>=200.0:\n",
        "        break"
      ],
      "id": "28170151-ed99-4f5e-832b-e6cadb515ed1"
    },
    {
      "cell_type": "code",
      "execution_count": 89,
      "metadata": {},
      "outputs": [],
      "source": [
        "agent2 = Agent(env)\n",
        "agent2.current_state,_ = env.reset()\n",
        "\n",
        "agent2.q_net = agent.q_net\n",
        "agent2.terminated = False\n",
        "ims = [] \n",
        "ims.append(env.render())\n",
        "for t in range(500):\n",
        "    agent2.act()\n",
        "    agent2.next_state, agent2.reward, agent2.terminated,_ , _ = env.step(agent2.action)\n",
        "    agent2.current_state = agent2.next_state \n",
        "    ims.append(env.render())\n",
        "    if agent2.terminated: break "
      ],
      "id": "9ac551c2-fdda-4526-9783-e90f5325bee5"
    },
    {
      "cell_type": "code",
      "execution_count": 90,
      "metadata": {},
      "outputs": [],
      "source": [
        "show(ims,jump=10)"
      ],
      "id": "d73b7fbe-5414-4f0e-81d2-f4129155b581"
    }
  ],
  "nbformat": 4,
  "nbformat_minor": 5,
  "metadata": {
    "kernelspec": {
      "name": "python3",
      "display_name": "Python 3 (ipykernel)",
      "language": "python"
    },
    "language_info": {
      "name": "python",
      "codemirror_mode": {
        "name": "ipython",
        "version": "3"
      },
      "file_extension": ".py",
      "mimetype": "text/x-python",
      "nbconvert_exporter": "python",
      "pygments_lexer": "ipython3",
      "version": "3.11.5"
    }
  }
}