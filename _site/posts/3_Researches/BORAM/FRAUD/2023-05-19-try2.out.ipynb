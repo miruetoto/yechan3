{
  "cells": [
    {
      "cell_type": "markdown",
      "metadata": {},
      "source": [
        "# **\\[FRAUD\\]** 신용카드 거래 사기탐지 Try2\n",
        "\n",
        "신록예찬  \n",
        "2023-05-19\n",
        "\n",
        "# imports"
      ],
      "id": "05d8ffe3-57e1-4774-8b31-e63981334b4b"
    },
    {
      "cell_type": "code",
      "execution_count": 3,
      "metadata": {},
      "outputs": [
        {
          "output_type": "stream",
          "name": "stderr",
          "text": [
            "/home/cgb2/anaconda3/envs/py38/lib/python3.8/site-packages/tqdm/auto.py:21: TqdmWarning: IProgress not found. Please update jupyter and ipywidgets. See https://ipywidgets.readthedocs.io/en/stable/user_install.html\n",
            "  from .autonotebook import tqdm as notebook_tqdm"
          ]
        }
      ],
      "source": [
        "import numpy as np\n",
        "import pandas as pd\n",
        "import matplotlib.pyplot as plt \n",
        "import networkx as nx\n",
        "import sklearn\n",
        "\n",
        "# sklearn\n",
        "from sklearn import model_selection # split함수이용\n",
        "from sklearn import ensemble # RF,GBM\n",
        "from sklearn import metrics \n",
        "\n",
        "# embedding \n",
        "from node2vec import Node2Vec\n",
        "from node2vec.edges import HadamardEmbedder, AverageEmbedder, WeightedL1Embedder, WeightedL2Embedder"
      ],
      "id": "945de3cd-e8d8-430a-8c95-d4072eb68299"
    },
    {
      "cell_type": "code",
      "execution_count": 4,
      "metadata": {},
      "outputs": [],
      "source": [
        "def build_graph_bipartite(df_input, graph_type=nx.Graph()):\n",
        "    df=df_input.copy()\n",
        "    mapping={x:node_id for node_id, x in enumerate(set(df[\"cc_num\"].values.tolist()+\\\n",
        "                                                      df[\"merchant\"].values.tolist()))}\n",
        "    \n",
        "    df[\"from\"]=df[\"cc_num\"].apply(lambda x:mapping[x])  #엣지의 출발점\n",
        "    df[\"to\"]=df[\"merchant\"].apply(lambda x:mapping[x])  #엣지의 도착점\n",
        "    \n",
        "    df = df[['from', 'to', \"amt\", \"is_fraud\"]].groupby(['from','to']).agg({\"is_fraud\":\"sum\",\"amt\":\"sum\"}).reset_index()\n",
        "    df[\"is_fraud\"]=df[\"is_fraud\"].apply(lambda x:1 if x>0 else 0)\n",
        "    \n",
        "    G=nx.from_edgelist(df[[\"from\",\"to\"]].values, create_using=graph_type)\n",
        "    \n",
        "    nx.set_edge_attributes(G,{(int(x[\"from\"]),int(x[\"to\"])):x[\"is_fraud\"] for idx, x in df[[\"from\",\"to\",\"is_fraud\"]].iterrows()}, \"label\")  #엣지 속성 설정,각 속성의 사기 여부부     \n",
        "    nx.set_edge_attributes(G,{(int(x[\"from\"]),int(x[\"to\"])):x[\"amt\"] for idx,x in df[[\"from\",\"to\",\"amt\"]].iterrows()}, \"weight\") # 엣지 속성 설정, 각 엣지의 거래 금액\n",
        "\n",
        "    return G\n",
        "\n",
        "\n",
        "def build_graph_tripartite(df_input, graph_type=nx.Graph()):\n",
        "    df=df_input.copy()\n",
        "    mapping={x:node_id for node_id, x in enumerate(set(df.index.values.tolist() + \n",
        "                                                       df[\"cc_num\"].values.tolist() +\n",
        "                                                       df[\"merchant\"].values.tolist()))}\n",
        "    df[\"in_node\"]= df[\"cc_num\"].apply(lambda x: mapping[x])\n",
        "    df[\"out_node\"]=df[\"merchant\"].apply(lambda x:mapping[x])\n",
        "    \n",
        "        \n",
        "    G=nx.from_edgelist([(x[\"in_node\"], mapping[idx]) for idx, x in df.iterrows()] +\\\n",
        "                        [(x[\"out_node\"], mapping[idx]) for idx, x in df.iterrows()], create_using=graph_type)\n",
        "    \n",
        "    nx.set_edge_attributes(G,{(x[\"in_node\"], mapping[idx]):x[\"is_fraud\"] for idx, x in df.iterrows()}, \"label\")     \n",
        "    nx.set_edge_attributes(G,{(x[\"out_node\"], mapping[idx]):x[\"is_fraud\"] for idx, x in df.iterrows()}, \"label\")   \n",
        "    nx.set_edge_attributes(G,{(x[\"in_node\"], mapping[idx]):x[\"amt\"] for idx, x in df.iterrows()}, \"weight\")  \n",
        "    nx.set_edge_attributes(G,{(x[\"out_node\"], mapping[idx]):x[\"amt\"] for idx, x in df.iterrows()}, \"weight\")\n",
        "\n",
        "    return G\n",
        "    \n",
        "    \n",
        "def down_sample_textbook(df):\n",
        "    df_majority = df[df.is_fraud==0].copy()\n",
        "    df_minority = df[df.is_fraud==1].copy()\n",
        "    df_maj_dowsampled = sklearn.utils.resample(df_majority, n_samples=len(df_minority), replace=False, random_state=42)\n",
        "    df_downsampled = pd.concat([df_minority, df_maj_dowsampled])\n",
        "    return df_downsampled\n",
        "\n",
        "def embedding(Graph):\n",
        "    # Graph -> X (feature)\n",
        "    _edgs = list(Graph.edges)\n",
        "    subGraph = Graph.edge_subgraph([_edgs[x] for x in range(len(Graph.edges))]).copy()\n",
        "    subGraph.add_nodes_from(list(set(Graph.nodes) - set(subGraph.nodes)))    \n",
        "    embedded = AverageEmbedder(Node2Vec(subGraph, weight_key='weight').fit(window=10).wv)\n",
        "    X = [embedded[str(_edgs[x][0]), str(_edgs[x][1])] for x in range(len(Graph.edges))]\n",
        "    # Graph -> y (label)\n",
        "    y = np.array(list(nx.get_edge_attributes(Graph, \"label\").values()))\n",
        "    return X,y \n",
        "\n",
        "def anal(df):\n",
        "    Graph = build_graph_bipartite(df)\n",
        "    X,XX,y,yy = embedding(Graph)\n",
        "    lrnr = RandomForestClassifier(n_estimators=100, random_state=42) \n",
        "    lrnr.fit(X,y)\n",
        "    yyhat = lrnr.predict(XX)\n",
        "    df = pd.DataFrame({\n",
        "        'acc':[sklearn.metrics.accuracy_score(yy,yyhat)], \n",
        "        'pre':[sklearn.metrics.precision_score(yy,yyhat)], \n",
        "        'rec':[sklearn.metrics.recall_score(yy,yyhat)],\n",
        "        'f1':[sklearn.metrics.f1_score(yy,yyhat)]}\n",
        "    )    \n",
        "    return df\n",
        "\n",
        "def our_sampling1(df):\n",
        "    cus_list = set(df.query('is_fraud==1').cc_num.tolist())\n",
        "    return df.query(\"cc_num in @ cus_list\")"
      ],
      "id": "df91f02f-596f-4a5e-938a-561dc1cc6405"
    },
    {
      "cell_type": "code",
      "execution_count": 5,
      "metadata": {},
      "outputs": [],
      "source": [
        "def amtano1(df_train):\n",
        "    df = df_train.copy()\n",
        "    df = df.assign(amtano=0)\n",
        "    normalize = lambda arr: (arr-np.median(arr))/np.std(arr) if np.std(arr)!=0 else arr*0 \n",
        "    for cc_num, sub_df in df.groupby('cc_num'):\n",
        "        df.loc[df.cc_num == cc_num,['amtano']] = normalize(sub_df.amt).cumsum()\n",
        "    return df  "
      ],
      "id": "de31a311-1e1d-4c4f-9533-f544089fbc66"
    },
    {
      "cell_type": "markdown",
      "metadata": {},
      "source": [
        "# Overview\n",
        "\n",
        "## 데이터 종류\n",
        "\n",
        "-   fraudTrain.csv: (1048575, 23), 기본데이터\n",
        "-   df02: (214520, 23), is_fraud==0 에서는 20퍼의 샘플만, is_fraud==1\n",
        "    에서는 모든 샘플을 뽑아서 정리한 새로운 자료\n",
        "-   df50 = (12012, 23), df20에서 is_fraud==0 와 is_fraud==1 의 비율을\n",
        "    맞추어서 샘플을 뽑은 것\n",
        "\n",
        "| 데이터        | shape         | 사기거래빈도 | 설명                                                                                       |\n",
        "|------------------|------------------|------------------|------------------|\n",
        "| fraudTrain    | (1048575, 22) | 0.00573      | 원래자료                                                                                   |\n",
        "| df02          | (214520, 22)  | 0.028        | is_fraud==0 에서는 20퍼의 샘플만, is_fraud==1 에서는 모든 샘플을 뽑아서 정리한 새로운 자료 |\n",
        "| df50          | (12012, 22)   | 0.5          | df02에서 사기비율을 50퍼로 맞추어 샘플링한 자료                                            |\n",
        "| df50_tr       | (9009, 22)    | 0.49828      | df50에서 랜덤으로 train/test를 분리하여 얻은 train dataset                                 |\n",
        "| df50_test     | (3003, 22)    | 0.50516      | df50에서 랜덤으로 train/test를 분리하여 얻은 test dataset                                  |\n",
        "| df02_tr       | (211517, 22)  | 0.02122      | df02에서 df50_test에 해당하는 인덱스를 제외                                                |\n",
        "| fraudTrain_tr | (1045572, 22) | 0.00429      | fraudTrain에서 df50_test에 해당하는 인덱스를 제외                                          |\n",
        "\n",
        "`-` fraudTrain"
      ],
      "id": "83460039-a7b9-4303-91bb-008559252e1b"
    },
    {
      "cell_type": "code",
      "execution_count": 13,
      "metadata": {},
      "outputs": [],
      "source": [
        "fraudTrain = pd.read_csv(\"fraudTrain.csv\").iloc[:,1:]"
      ],
      "id": "628fd9bc-7865-4181-8485-28fbadafa474"
    },
    {
      "cell_type": "code",
      "execution_count": 14,
      "metadata": {},
      "outputs": [],
      "source": [
        "fraudTrain.is_fraud.mean().round(5)"
      ],
      "id": "ced1bd8a-4535-4ac3-a1c3-bed4db262ded"
    },
    {
      "cell_type": "markdown",
      "metadata": {},
      "source": [
        "`-` df20"
      ],
      "id": "61685dd3-8606-4360-976a-dacf138f4fb1"
    },
    {
      "cell_type": "code",
      "execution_count": 15,
      "metadata": {},
      "outputs": [],
      "source": [
        "_df1 = fraudTrain[fraudTrain[\"is_fraud\"] == 0].sample(frac=0.20, random_state=42)\n",
        "_df2 = fraudTrain[fraudTrain[\"is_fraud\"] == 1]\n",
        "df02 = pd.concat([_df1,_df2])\n",
        "df02.shape"
      ],
      "id": "7da36222-6d9d-4c60-b3ad-2291c93323d3"
    },
    {
      "cell_type": "code",
      "execution_count": 16,
      "metadata": {},
      "outputs": [],
      "source": [
        "df02.is_fraud.mean().round(5)"
      ],
      "id": "4cb4df2f-1cfb-449b-9c4b-14e8f5c4a0b4"
    },
    {
      "cell_type": "markdown",
      "metadata": {},
      "source": [
        "`-` df50"
      ],
      "id": "6f9b9190-a9de-410a-8b50-5fa097c0bdb3"
    },
    {
      "cell_type": "code",
      "execution_count": 17,
      "metadata": {},
      "outputs": [],
      "source": [
        "df50 = down_sample_textbook(df02)\n",
        "df50.shape"
      ],
      "id": "ef4fc73f-1c0f-407c-a844-9bba63efbaea"
    },
    {
      "cell_type": "code",
      "execution_count": 18,
      "metadata": {},
      "outputs": [],
      "source": [
        "df50"
      ],
      "id": "70f9f90d-9009-4b20-9753-aae078b56d84"
    },
    {
      "cell_type": "code",
      "execution_count": 19,
      "metadata": {},
      "outputs": [],
      "source": [
        "df50.is_fraud.mean().round(5)"
      ],
      "id": "050a3bea-663e-40c4-9935-216eaee4240b"
    },
    {
      "cell_type": "markdown",
      "metadata": {},
      "source": [
        "`-` df50_tr, df50_test"
      ],
      "id": "645fdeba-d036-460a-bd8b-cc5268c4534f"
    },
    {
      "cell_type": "code",
      "execution_count": 20,
      "metadata": {},
      "outputs": [],
      "source": [
        "df50_tr,df50_test = sklearn.model_selection.train_test_split(df50, random_state=42)"
      ],
      "id": "8bbec0ba-9592-48ee-b7d1-961fdbf1b346"
    },
    {
      "cell_type": "code",
      "execution_count": 21,
      "metadata": {},
      "outputs": [],
      "source": [
        "df50_tr.is_fraud.mean().round(5), df50_test.is_fraud.mean().round(5)"
      ],
      "id": "44dd51d5-86ef-4a27-92e9-41a30e37bc74"
    },
    {
      "cell_type": "markdown",
      "metadata": {},
      "source": [
        "`-` df02_tr, fraudTrain_tr"
      ],
      "id": "9e48412d-2109-4528-8e55-322242fecaf7"
    },
    {
      "cell_type": "code",
      "execution_count": 22,
      "metadata": {},
      "outputs": [],
      "source": [
        "df02_tr = df02.loc[[i not in df50_test.index for i in df02.index],:].copy()\n",
        "fraudTrain_tr = fraudTrain.loc[[i not in df50_test.index for i in fraudTrain.index],:].copy()"
      ],
      "id": "a983034d-0fb0-438b-ba9f-c2e9cdb0fda2"
    },
    {
      "cell_type": "code",
      "execution_count": 23,
      "metadata": {},
      "outputs": [],
      "source": [
        "df02_tr.shape, fraudTrain_tr.shape"
      ],
      "id": "7a5407c6-573f-486b-b9fa-0f8f1dba12e0"
    },
    {
      "cell_type": "code",
      "execution_count": 24,
      "metadata": {},
      "outputs": [],
      "source": [
        "df02_tr.is_fraud.mean().round(5), fraudTrain_tr.is_fraud.mean().round(5)"
      ],
      "id": "f71af68a-c14f-42a7-b646-3a9c3d41625f"
    },
    {
      "cell_type": "markdown",
      "metadata": {},
      "source": [
        "# 분석방법정리\n",
        "\n",
        "|           | Train         | Test     | 모형             | 설명변수   | 참고       |\n",
        "|-----------|---------------|----------|------------------|------------|------------|\n",
        "| 분석1     | df50train     | df50test | 로지스틱         | amt        | 쓰레기     |\n",
        "| 분석2     | df50train     | df50test | 그레디언트부스팅 | amt        | base       |\n",
        "| **분석3** | df50train     | df50test | 그레디언트부스팅 | amt,amtano | 가장좋음   |\n",
        "| 분석4     | df02train     | df50test | 그레디언트부스팅 | amt,amtano | 가능성있음 |\n",
        "| 분석5     | fraudTrain_tr | df50test | 그레디언트부스팅 | amt,amtano | 가능성있음 |"
      ],
      "id": "c2abaa45-9e39-4cf4-b533-43047e6c6909"
    },
    {
      "cell_type": "code",
      "execution_count": 57,
      "metadata": {},
      "outputs": [],
      "source": [
        "lst = [_results1,_results2,_results3,_results4,_results5]\n",
        "pd.concat(lst)"
      ],
      "id": "3e4ab00a-10f2-49b4-ade9-cda9cc436e4c"
    },
    {
      "cell_type": "markdown",
      "metadata": {},
      "source": [
        "# 분석1\n",
        "\n",
        "`-` step1: data"
      ],
      "id": "0c979331-7189-424f-971e-f0c3a11742f3"
    },
    {
      "cell_type": "code",
      "execution_count": 58,
      "metadata": {},
      "outputs": [],
      "source": [
        "X = np.array(df50_tr.loc[:,['amt']])\n",
        "XX = np.array(df50_test.loc[:,['amt']])\n",
        "y = np.array(df50_tr.is_fraud)\n",
        "yy = np.array(df50_test.is_fraud)"
      ],
      "id": "dfc762bb-5ca5-4fe8-80e8-4a33a3daf5f2"
    },
    {
      "cell_type": "markdown",
      "metadata": {},
      "source": [
        "`-` step2: lrnr 생성"
      ],
      "id": "40e17fef-3507-4965-88e7-eea2672055a8"
    },
    {
      "cell_type": "code",
      "execution_count": 59,
      "metadata": {},
      "outputs": [],
      "source": [
        "lrnr = sklearn.linear_model.LogisticRegression()"
      ],
      "id": "8626f500-cf91-412a-b119-592b3901a98f"
    },
    {
      "cell_type": "markdown",
      "metadata": {},
      "source": [
        "`-` step3: fit"
      ],
      "id": "1a7bd8ef-750e-45fa-b5ec-2c3c7b18d777"
    },
    {
      "cell_type": "code",
      "execution_count": 60,
      "metadata": {},
      "outputs": [],
      "source": [
        "lrnr.fit(X,y)"
      ],
      "id": "d5c0a6fc-3f64-4b5d-a39f-0d6891de2844"
    },
    {
      "cell_type": "markdown",
      "metadata": {},
      "source": [
        "`-` step4: evaluate"
      ],
      "id": "23e4c253-d3be-40b8-9ad7-f5f1fb48f5b3"
    },
    {
      "cell_type": "code",
      "execution_count": 61,
      "metadata": {},
      "outputs": [],
      "source": [
        "#thresh = y.mean()\n",
        "#yyhat = (lrnr.predict_proba(XX)> thresh)[:,-1]\n",
        "yyhat = lrnr.predict(XX) "
      ],
      "id": "0abc9445-d678-4221-960f-8ca39c82c711"
    },
    {
      "cell_type": "code",
      "execution_count": 31,
      "metadata": {},
      "outputs": [],
      "source": [
        "metrics = [sklearn.metrics.accuracy_score,\n",
        "           sklearn.metrics.precision_score,\n",
        "           sklearn.metrics.recall_score,\n",
        "           sklearn.metrics.f1_score]"
      ],
      "id": "ac5be885-1c0f-49a0-813e-8dd7a8825af4"
    },
    {
      "cell_type": "code",
      "execution_count": 32,
      "metadata": {},
      "outputs": [],
      "source": [
        "_results1= pd.DataFrame({m.__name__:[m(yy,yyhat).round(6)] for m in metrics},index=['분석1'])\n",
        "_results1"
      ],
      "id": "50765bb6-64a4-421a-adff-4949c9d8cdf6"
    },
    {
      "cell_type": "markdown",
      "metadata": {},
      "source": [
        "# 분석2\n",
        "\n",
        "`-` step1: data"
      ],
      "id": "d1e9317e-1336-4f6a-84d0-f49d3d759ebd"
    },
    {
      "cell_type": "code",
      "execution_count": 33,
      "metadata": {},
      "outputs": [],
      "source": [
        "X = np.array(df50_tr.loc[:,['amt']])\n",
        "XX = np.array(df50_test.loc[:,['amt']])\n",
        "y = np.array(df50_tr.is_fraud)\n",
        "yy = np.array(df50_test.is_fraud)"
      ],
      "id": "44ffdfd4-14e4-4c56-aa84-b81d2e564cbd"
    },
    {
      "cell_type": "markdown",
      "metadata": {},
      "source": [
        "`-` step2: lrnr 생성"
      ],
      "id": "16b4c13e-4927-4130-9683-e1401408664d"
    },
    {
      "cell_type": "code",
      "execution_count": 34,
      "metadata": {},
      "outputs": [],
      "source": [
        "lrnr = ensemble.GradientBoostingClassifier()"
      ],
      "id": "1bf06976-4b2c-4e02-a8a8-0bb378dfd4c5"
    },
    {
      "cell_type": "markdown",
      "metadata": {},
      "source": [
        "`-` step3: fit"
      ],
      "id": "49de35bd-279a-430d-888a-5979d5a07cbd"
    },
    {
      "cell_type": "code",
      "execution_count": 35,
      "metadata": {},
      "outputs": [],
      "source": [
        "lrnr.fit(X,y)"
      ],
      "id": "ba2e09df-4454-48ae-82c2-54f0b4b34913"
    },
    {
      "cell_type": "markdown",
      "metadata": {},
      "source": [
        "`-` step4: evaluate"
      ],
      "id": "96d4b1b7-3f8b-42f2-ad82-062b38a36c19"
    },
    {
      "cell_type": "code",
      "execution_count": 36,
      "metadata": {},
      "outputs": [],
      "source": [
        "# thresh = y.mean()\n",
        "# yyhat = (lrnr.predict_proba(XX)> thresh)[:,-1]\n",
        "yyhat = lrnr.predict(XX) "
      ],
      "id": "dfcd128f-8287-4f47-be3c-94b783079a4d"
    },
    {
      "cell_type": "code",
      "execution_count": 37,
      "metadata": {},
      "outputs": [],
      "source": [
        "metrics = [sklearn.metrics.accuracy_score,\n",
        "           sklearn.metrics.precision_score,\n",
        "           sklearn.metrics.recall_score,\n",
        "           sklearn.metrics.f1_score]"
      ],
      "id": "5eae4282-3b49-4c0c-9e73-8fb1670025db"
    },
    {
      "cell_type": "code",
      "execution_count": 38,
      "metadata": {},
      "outputs": [],
      "source": [
        "_results2= pd.DataFrame({m.__name__:[m(yy,yyhat).round(6)] for m in metrics},index=['분석2'])\n",
        "_results2"
      ],
      "id": "21c7c5d2-e633-4330-9550-e8aa641fc272"
    },
    {
      "cell_type": "markdown",
      "metadata": {},
      "source": [
        "# 분석3\n",
        "\n",
        "`-` step1: data"
      ],
      "id": "5b6a42c4-9ba2-4b42-9ada-486aedcf553d"
    },
    {
      "cell_type": "code",
      "execution_count": 39,
      "metadata": {},
      "outputs": [],
      "source": [
        "X = np.array(amtano1(df50_tr).loc[:,['amt','amtano']])\n",
        "XX = np.array(amtano1(df50_test).loc[:,['amt','amtano']])\n",
        "y = np.array(df50_tr.is_fraud)\n",
        "yy = np.array(df50_test.is_fraud)"
      ],
      "id": "d51341c7-b68d-4e8e-a9d5-6962f4427967"
    },
    {
      "cell_type": "markdown",
      "metadata": {},
      "source": [
        "`-` step2: lrnr 생성"
      ],
      "id": "b2335214-8c94-4273-b829-5ee873acb399"
    },
    {
      "cell_type": "code",
      "execution_count": 40,
      "metadata": {},
      "outputs": [],
      "source": [
        "lrnr = ensemble.GradientBoostingClassifier()"
      ],
      "id": "0677ae59-4107-47be-9261-1f4ba1edb2f4"
    },
    {
      "cell_type": "markdown",
      "metadata": {},
      "source": [
        "`-` step3: fit"
      ],
      "id": "0243bcad-90ab-4c28-b412-71b58e516d9f"
    },
    {
      "cell_type": "code",
      "execution_count": 41,
      "metadata": {},
      "outputs": [],
      "source": [
        "lrnr.fit(X,y)"
      ],
      "id": "8a735642-1e5c-4918-b71c-f2548e9abecb"
    },
    {
      "cell_type": "markdown",
      "metadata": {},
      "source": [
        "`-` step4: evaluate"
      ],
      "id": "83797d56-a360-4ea8-8cc6-6e6fc26c7dfa"
    },
    {
      "cell_type": "code",
      "execution_count": 42,
      "metadata": {},
      "outputs": [],
      "source": [
        "# thresh = y.mean()\n",
        "# yyhat = (lrnr.predict_proba(XX)> thresh)[:,-1]\n",
        "yyhat = lrnr.predict(XX) "
      ],
      "id": "a3bb8701-ba5b-44ae-968a-a0775294aaae"
    },
    {
      "cell_type": "code",
      "execution_count": 43,
      "metadata": {},
      "outputs": [],
      "source": [
        "metrics = [sklearn.metrics.accuracy_score,\n",
        "           sklearn.metrics.precision_score,\n",
        "           sklearn.metrics.recall_score,\n",
        "           sklearn.metrics.f1_score]"
      ],
      "id": "feafec21-28c1-4843-a023-b85eef8dc6a9"
    },
    {
      "cell_type": "code",
      "execution_count": 44,
      "metadata": {},
      "outputs": [],
      "source": [
        "_results3= pd.DataFrame({m.__name__:[m(yy,yyhat).round(6)] for m in metrics},index=['분석3'])\n",
        "_results3"
      ],
      "id": "a4aa733e-730e-40bf-9e09-c4a5266b9ee9"
    },
    {
      "cell_type": "markdown",
      "metadata": {},
      "source": [
        "# 분석4\n",
        "\n",
        "`-` step1: data"
      ],
      "id": "554da9af-2455-4d3a-8055-36cf73457aa3"
    },
    {
      "cell_type": "code",
      "execution_count": 45,
      "metadata": {},
      "outputs": [],
      "source": [
        "X = np.array(amtano1(df02_tr).loc[:,['amt','amtano']])\n",
        "XX = np.array(amtano1(df50_test).loc[:,['amt','amtano']])\n",
        "y = np.array(df02_tr.is_fraud)\n",
        "yy = np.array(df50_test.is_fraud)"
      ],
      "id": "86e00c2b-2696-4b39-8ccc-8a5b04f8f6b7"
    },
    {
      "cell_type": "markdown",
      "metadata": {},
      "source": [
        "`-` step2: lrnr 생성"
      ],
      "id": "cd3360c5-710b-4c0e-a123-348320261196"
    },
    {
      "cell_type": "code",
      "execution_count": 46,
      "metadata": {},
      "outputs": [],
      "source": [
        "lrnr = ensemble.GradientBoostingClassifier()"
      ],
      "id": "ac61c3cc-8412-4d4a-884b-5b9a881ef39b"
    },
    {
      "cell_type": "markdown",
      "metadata": {},
      "source": [
        "`-` step3: fit"
      ],
      "id": "3a532c90-05ee-4007-95a8-253bc625b604"
    },
    {
      "cell_type": "code",
      "execution_count": 47,
      "metadata": {},
      "outputs": [],
      "source": [
        "lrnr.fit(X,y)"
      ],
      "id": "f32594cf-171d-4d5d-86c0-0aa3d67377f6"
    },
    {
      "cell_type": "markdown",
      "metadata": {},
      "source": [
        "`-` step4: evaluate"
      ],
      "id": "a0f87242-6e1e-4565-ab6f-b3ba17f829b3"
    },
    {
      "cell_type": "code",
      "execution_count": 48,
      "metadata": {},
      "outputs": [],
      "source": [
        "thresh = y.mean()\n",
        "yyhat = (lrnr.predict_proba(XX)> thresh)[:,-1]\n",
        "#yyhat = lrnr.predict(XX) "
      ],
      "id": "ee3f9ec4-ba24-4621-892e-b16d79e55dc7"
    },
    {
      "cell_type": "code",
      "execution_count": 49,
      "metadata": {},
      "outputs": [],
      "source": [
        "metrics = [sklearn.metrics.accuracy_score,\n",
        "           sklearn.metrics.precision_score,\n",
        "           sklearn.metrics.recall_score,\n",
        "           sklearn.metrics.f1_score]"
      ],
      "id": "6307ec63-7e30-4a83-9b36-e6e1d5c92f0e"
    },
    {
      "cell_type": "code",
      "execution_count": 50,
      "metadata": {},
      "outputs": [],
      "source": [
        "_results4= pd.DataFrame({m.__name__:[m(yy,yyhat).round(6)] for m in metrics},index=['분석4'])\n",
        "_results4"
      ],
      "id": "f848ddf8-093b-4107-a0df-10d5f1a968b4"
    },
    {
      "cell_type": "markdown",
      "metadata": {},
      "source": [
        "# 분석5\n",
        "\n",
        "`-` step1: data"
      ],
      "id": "c1439d6c-d2ec-4096-a132-2648afa0cc0e"
    },
    {
      "cell_type": "code",
      "execution_count": 51,
      "metadata": {},
      "outputs": [],
      "source": [
        "X = np.array(amtano1(fraudTrain_tr).loc[:,['amt','amtano']])\n",
        "XX = np.array(amtano1(df50_test).loc[:,['amt','amtano']])\n",
        "y = np.array(fraudTrain_tr.is_fraud)\n",
        "yy = np.array(df50_test.is_fraud)"
      ],
      "id": "480bdf63-674b-4680-a76c-61cdfd98ec3a"
    },
    {
      "cell_type": "markdown",
      "metadata": {},
      "source": [
        "`-` step2: lrnr 생성"
      ],
      "id": "fd819031-dc39-4c32-b609-dd51ac72365b"
    },
    {
      "cell_type": "code",
      "execution_count": 52,
      "metadata": {},
      "outputs": [],
      "source": [
        "lrnr = ensemble.GradientBoostingClassifier()"
      ],
      "id": "f14eb823-9d90-492d-9834-f82dac2a0953"
    },
    {
      "cell_type": "markdown",
      "metadata": {},
      "source": [
        "`-` step3: fit"
      ],
      "id": "e4d6d207-d4d7-44ec-b049-81e637439f24"
    },
    {
      "cell_type": "code",
      "execution_count": 53,
      "metadata": {},
      "outputs": [],
      "source": [
        "lrnr.fit(X,y)"
      ],
      "id": "776416cc-e7f5-4105-b476-01d70a7807b9"
    },
    {
      "cell_type": "markdown",
      "metadata": {},
      "source": [
        "`-` step4: evaluate"
      ],
      "id": "e3d3906a-a9b7-4400-b151-4f22f4285867"
    },
    {
      "cell_type": "code",
      "execution_count": 54,
      "metadata": {},
      "outputs": [],
      "source": [
        "thresh = y.mean()\n",
        "yyhat = (lrnr.predict_proba(XX)> thresh)[:,-1]\n",
        "#yyhat = lrnr.predict(XX) "
      ],
      "id": "51a09023-fc15-408d-a3f2-5db719292ba2"
    },
    {
      "cell_type": "code",
      "execution_count": 55,
      "metadata": {},
      "outputs": [],
      "source": [
        "metrics = [sklearn.metrics.accuracy_score,\n",
        "           sklearn.metrics.precision_score,\n",
        "           sklearn.metrics.recall_score,\n",
        "           sklearn.metrics.f1_score]"
      ],
      "id": "7ace94a9-74d0-498d-98ec-6c14f1daaac1"
    },
    {
      "cell_type": "code",
      "execution_count": 56,
      "metadata": {},
      "outputs": [],
      "source": [
        "_results5= pd.DataFrame({m.__name__:[m(yy,yyhat).round(6)] for m in metrics},index=['분석5'])\n",
        "_results5"
      ],
      "id": "9d41113b-5147-4ee2-8171-8d247642a4e2"
    }
  ],
  "nbformat": 4,
  "nbformat_minor": 5,
  "metadata": {
    "kernelspec": {
      "name": "python3",
      "display_name": "Python 3",
      "language": "python"
    },
    "language_info": {
      "name": "python",
      "codemirror_mode": {
        "name": "ipython",
        "version": "3"
      },
      "file_extension": ".py",
      "mimetype": "text/x-python",
      "nbconvert_exporter": "python",
      "pygments_lexer": "ipython3",
      "version": "3.8.16"
    }
  }
}