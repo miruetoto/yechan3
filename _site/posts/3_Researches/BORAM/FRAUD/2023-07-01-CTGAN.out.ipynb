{
  "cells": [
    {
      "cell_type": "markdown",
      "metadata": {},
      "source": [
        "# **\\[CTGAN\\]** CTGAN\n",
        "\n",
        "신록예찬  \n",
        "2023-07-01"
      ],
      "id": "6748b6af-e3d4-4704-af2b-124c7cc488d4"
    },
    {
      "cell_type": "code",
      "execution_count": 2,
      "metadata": {},
      "outputs": [
        {
          "output_type": "stream",
          "name": "stdout",
          "text": [
            "# conda environments:\n",
            "#\n",
            "base                     /home/cgb2/anaconda3\n",
            "ctgan                 *  /home/cgb2/anaconda3/envs/ctgan\n",
            "py38                     /home/cgb2/anaconda3/envs/py38\n",
            "stgcn                    /home/cgb2/anaconda3/envs/stgcn\n"
          ]
        }
      ],
      "source": [
        "!conda env list"
      ],
      "id": "03a0311e-5c53-467e-afbc-5dcaeb9b3a43"
    },
    {
      "cell_type": "markdown",
      "metadata": {},
      "source": [
        "`-` Ref: <https://github.com/sdv-dev/CTGAN>"
      ],
      "id": "a3cf78bc-8694-4565-a725-84b9415106c9"
    },
    {
      "cell_type": "code",
      "execution_count": 3,
      "metadata": {},
      "outputs": [
        {
          "output_type": "stream",
          "name": "stderr",
          "text": [
            "/home/cgb2/anaconda3/envs/ctgan/lib/python3.10/site-packages/torch/cuda/__init__.py:126: UserWarning: CUDA initialization: The NVIDIA driver on your system is too old (found version 11070). Please update your GPU driver by downloading and installing a new version from the URL: http://www.nvidia.com/Download/index.aspx Alternatively, go to: https://pytorch.org to install a PyTorch version that has been compiled with your version of the CUDA driver. (Triggered internally at /opt/conda/conda-bld/pytorch_1688109080043/work/c10/cuda/CUDAFunctions.cpp:108.)\n",
            "  return torch._C._cuda_getDeviceCount() > 0\n",
            "/home/cgb2/anaconda3/envs/ctgan/lib/python3.10/site-packages/rdt/transformers/base.py:132: FutureWarning: Future versions of RDT will not support the 'model_missing_values' parameter. Please switch to using the 'missing_value_generation' parameter to select your strategy.\n",
            "  warnings.warn(\n",
            "/home/cgb2/anaconda3/envs/ctgan/lib/python3.10/site-packages/rdt/transformers/base.py:132: FutureWarning: Future versions of RDT will not support the 'model_missing_values' parameter. Please switch to using the 'missing_value_generation' parameter to select your strategy.\n",
            "  warnings.warn(\n",
            "/home/cgb2/anaconda3/envs/ctgan/lib/python3.10/site-packages/rdt/transformers/base.py:132: FutureWarning: Future versions of RDT will not support the 'model_missing_values' parameter. Please switch to using the 'missing_value_generation' parameter to select your strategy.\n",
            "  warnings.warn(\n",
            "/home/cgb2/anaconda3/envs/ctgan/lib/python3.10/site-packages/rdt/transformers/base.py:132: FutureWarning: Future versions of RDT will not support the 'model_missing_values' parameter. Please switch to using the 'missing_value_generation' parameter to select your strategy.\n",
            "  warnings.warn(\n",
            "/home/cgb2/anaconda3/envs/ctgan/lib/python3.10/site-packages/rdt/transformers/base.py:132: FutureWarning: Future versions of RDT will not support the 'model_missing_values' parameter. Please switch to using the 'missing_value_generation' parameter to select your strategy.\n",
            "  warnings.warn(\n",
            "/home/cgb2/anaconda3/envs/ctgan/lib/python3.10/site-packages/rdt/transformers/base.py:132: FutureWarning: Future versions of RDT will not support the 'model_missing_values' parameter. Please switch to using the 'missing_value_generation' parameter to select your strategy.\n",
            "  warnings.warn("
          ]
        }
      ],
      "source": [
        "from ctgan import CTGAN\n",
        "from ctgan import load_demo\n",
        "\n",
        "real_data = load_demo()\n",
        "\n",
        "# Names of the columns that are discrete\n",
        "discrete_columns = [\n",
        "    'workclass',\n",
        "    'education',\n",
        "    'marital-status',\n",
        "    'occupation',\n",
        "    'relationship',\n",
        "    'race',\n",
        "    'sex',\n",
        "    'native-country',\n",
        "    'income'\n",
        "]\n",
        "\n",
        "ctgan = CTGAN(epochs=10)\n",
        "ctgan.fit(real_data, discrete_columns)\n",
        "\n",
        "# Create synthetic data\n",
        "synthetic_data = ctgan.sample(1000)"
      ],
      "id": "ba16c64d-6b67-4831-aab3-ca7135307e20"
    },
    {
      "cell_type": "markdown",
      "metadata": {},
      "source": [
        "`-` 실제자료"
      ],
      "id": "cd068420-b6b6-4279-b18e-35a630023134"
    },
    {
      "cell_type": "code",
      "execution_count": 5,
      "metadata": {},
      "outputs": [],
      "source": [
        "real_data"
      ],
      "id": "9b421b89-d026-443c-80c7-1246ea6c365b"
    },
    {
      "cell_type": "markdown",
      "metadata": {},
      "source": [
        "`-` 합성된자료"
      ],
      "id": "67c4e48f-a7be-46f8-8de3-87542d0795bc"
    },
    {
      "cell_type": "code",
      "execution_count": 4,
      "metadata": {},
      "outputs": [],
      "source": [
        "synthetic_data"
      ],
      "id": "8e9a2697-a0b7-4020-81e2-8f3340e58d76"
    }
  ],
  "nbformat": 4,
  "nbformat_minor": 5,
  "metadata": {
    "kernelspec": {
      "name": "python3",
      "display_name": "Python 3",
      "language": "python"
    },
    "language_info": {
      "name": "python",
      "codemirror_mode": {
        "name": "ipython",
        "version": "3"
      },
      "file_extension": ".py",
      "mimetype": "text/x-python",
      "nbconvert_exporter": "python",
      "pygments_lexer": "ipython3",
      "version": "3.8.16"
    }
  }
}