{
  "cells": [
    {
      "cell_type": "markdown",
      "metadata": {},
      "source": [
        "# **\\[FRAUD\\]** 데이터정리 시도(8.25 df02 커널죽음)\n",
        "\n",
        "김보람  \n",
        "2023-08-25"
      ],
      "id": "c466542c-22f5-461c-9873-e5e92dc8cf61"
    },
    {
      "cell_type": "code",
      "execution_count": 12,
      "metadata": {},
      "outputs": [],
      "source": [
        "import numpy as np\n",
        "import pandas as pd\n",
        "from sklearn import model_selection # split함수이용"
      ],
      "id": "e0e9ca09-65f5-441f-adc7-382e93b97960"
    },
    {
      "cell_type": "markdown",
      "metadata": {},
      "source": [
        "`-` fraudTrain"
      ],
      "id": "401d4f72-c05a-4d59-9402-610140adef47"
    },
    {
      "cell_type": "code",
      "execution_count": 2,
      "metadata": {},
      "outputs": [],
      "source": [
        "fraudTrain = pd.read_csv(\"fraudTrain.csv\").iloc[:,1:]"
      ],
      "id": "7021dc07-8a06-417b-9fb6-c71b2f05e5eb"
    },
    {
      "cell_type": "code",
      "execution_count": 3,
      "metadata": {},
      "outputs": [],
      "source": [
        "fraudTrain = fraudTrain.assign(trans_date_trans_time= list(map(lambda x: pd.to_datetime(x), fraudTrain.trans_date_trans_time)))\n",
        "fraudTrain"
      ],
      "id": "eb7a9b2b-f984-4bb0-b14b-e523a00d8d38"
    },
    {
      "cell_type": "markdown",
      "metadata": {},
      "source": [
        "`-` df02"
      ],
      "id": "3e25b233-39a1-4582-bbd3-1336ce2a125c"
    },
    {
      "cell_type": "code",
      "execution_count": 19,
      "metadata": {},
      "outputs": [],
      "source": [
        "_df1 = fraudTrain[fraudTrain[\"is_fraud\"] == 0].sample(frac=0.20, random_state=42)\n",
        "_df2 = fraudTrain[fraudTrain[\"is_fraud\"] == 1]\n",
        "df02 = pd.concat([_df1,_df2])\n",
        "df02 = df02.reset_index()"
      ],
      "id": "adec4c87-7a49-41dd-ba04-879643113486"
    },
    {
      "cell_type": "markdown",
      "metadata": {},
      "source": [
        "`-` df_toy"
      ],
      "id": "27dd1df8-bc36-4951-a0c4-ec2ef74772e3"
    },
    {
      "cell_type": "code",
      "execution_count": 44,
      "metadata": {},
      "outputs": [],
      "source": [
        "df_toy=df02[:5].copy()\n",
        "df_toy.cc_num = pd.Series([1,1,1,2,2])\n",
        "df_toy"
      ],
      "id": "32c86926-0749-4955-914b-9b91ce99d0e0"
    },
    {
      "cell_type": "markdown",
      "metadata": {},
      "source": [
        "`-` df_toy 에서 time_difference 구함\n",
        "\n",
        "**고객1**"
      ],
      "id": "68a301d3-07b3-4766-a11f-bd6d9fecf675"
    },
    {
      "cell_type": "code",
      "execution_count": 41,
      "metadata": {},
      "outputs": [],
      "source": [
        "df_toy.iloc[0].trans_date_trans_time.value - df_toy.iloc[1].trans_date_trans_time.value"
      ],
      "id": "d3242e02-faef-4f4d-8c80-f12da58f4076"
    },
    {
      "cell_type": "code",
      "execution_count": 45,
      "metadata": {},
      "outputs": [],
      "source": [
        "df_toy.iloc[0].trans_date_trans_time.value - df_toy.iloc[2].trans_date_trans_time.value"
      ],
      "id": "dad1a45c-c5ba-4edb-ac8f-5e0e6e2de449"
    },
    {
      "cell_type": "code",
      "execution_count": 48,
      "metadata": {},
      "outputs": [],
      "source": [
        "df_toy.iloc[1].trans_date_trans_time.value - df_toy.iloc[2].trans_date_trans_time.value"
      ],
      "id": "01f03d72-82a6-4293-99a2-d40899e93652"
    },
    {
      "cell_type": "markdown",
      "metadata": {},
      "source": [
        "**고객2**"
      ],
      "id": "bf146610-6049-4ec6-a818-b917b0ee1bca"
    },
    {
      "cell_type": "code",
      "execution_count": 46,
      "metadata": {},
      "outputs": [],
      "source": [
        "df_toy.iloc[3].trans_date_trans_time.value - df_toy.iloc[4].trans_date_trans_time.value"
      ],
      "id": "0606044a-880d-41e9-920f-9c5f8e0a99e9"
    },
    {
      "cell_type": "markdown",
      "metadata": {},
      "source": [
        "**고객1,2**"
      ],
      "id": "50db35e4-ff46-4124-866e-f5abd2b34e84"
    },
    {
      "cell_type": "code",
      "execution_count": 52,
      "metadata": {},
      "outputs": [],
      "source": [
        "def compute_time_difference(group):\n",
        "    n = len(group)\n",
        "    result = []\n",
        "    for i in range(n):\n",
        "        for j in range(n):\n",
        "            time_difference = abs(group.iloc[i].trans_date_trans_time.value - group.iloc[j].trans_date_trans_time.value)\n",
        "            result.append([group.iloc[i].name, group.iloc[j].name, time_difference])\n",
        "    return result"
      ],
      "id": "479dd0e2-6b35-4ac8-904e-ac79ab868c40"
    },
    {
      "cell_type": "code",
      "execution_count": 53,
      "metadata": {},
      "outputs": [],
      "source": [
        "groups = df_toy.groupby('cc_num')\n",
        "edge_index_list_plus = [compute_time_difference(group) for _, group in groups]\n",
        "edge_index_list_plus_flat = [item for sublist in edge_index_list_plus for item in sublist]\n",
        "edge_index_list_plus_nparr = np.array(edge_index_list_plus_flat)\n",
        "edge_index_list_plus_nparr"
      ],
      "id": "5081b897-f57f-42f3-97d2-4a48183b8e4a"
    },
    {
      "cell_type": "markdown",
      "metadata": {},
      "source": [
        "`-` df02에서 time_difference 구함"
      ],
      "id": "56703bff-6b16-437c-b12d-cccd3638b132"
    },
    {
      "cell_type": "code",
      "execution_count": 46,
      "metadata": {},
      "outputs": [],
      "source": [
        "t1 = time.time()\n",
        "groups = df02.groupby('cc_num')\n",
        "edge_index_list_plus = [compute_time_difference(group) for _, group in groups]\n",
        "edge_index_list_plus_flat = [item for sublist in edge_index_list_plus for item in sublist]\n",
        "edge_index_list_plus_nparr = np.array(edge_index_list_plus_flat)\n",
        "np.save('edge_index_list_plus02.npy', edge_index_list_plus_nparr)\n",
        "t2 = time.time()\n",
        "t2-t1"
      ],
      "id": "4f311ec7-ff33-4d53-a0d2-2085caff2b23"
    },
    {
      "cell_type": "code",
      "execution_count": 48,
      "metadata": {},
      "outputs": [],
      "source": [
        "(t2-t1)/3600"
      ],
      "id": "120467bc-4a8d-4421-88ce-d4ef96e4717b"
    }
  ],
  "nbformat": 4,
  "nbformat_minor": 5,
  "metadata": {
    "kernelspec": {
      "name": "python3",
      "display_name": "Python 3 (ipykernel)",
      "language": "python"
    },
    "language_info": {
      "name": "python",
      "codemirror_mode": {
        "name": "ipython",
        "version": "3"
      },
      "file_extension": ".py",
      "mimetype": "text/x-python",
      "nbconvert_exporter": "python",
      "pygments_lexer": "ipython3",
      "version": "3.11.4"
    }
  }
}