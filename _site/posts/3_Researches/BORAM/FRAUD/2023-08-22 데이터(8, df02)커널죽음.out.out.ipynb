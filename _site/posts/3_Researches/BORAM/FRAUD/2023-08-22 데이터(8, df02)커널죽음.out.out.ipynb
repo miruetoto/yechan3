{
  "cells": [
    {
      "cell_type": "markdown",
      "metadata": {},
      "source": [
        "# **\\[FRAUD\\]** 데이터정리 시도(8.25 df02 커널죽음)\n",
        "\n",
        "김보람  \n",
        "2023-08-25"
      ],
      "id": "31f58603-ddfe-424b-ac6f-b1bfbe74215a"
    },
    {
      "cell_type": "code",
      "execution_count": 12,
      "metadata": {},
      "outputs": [],
      "source": [
        "import numpy as np\n",
        "import pandas as pd\n",
        "from sklearn import model_selection # split함수이용"
      ],
      "id": "e0e9ca09-65f5-441f-adc7-382e93b97960"
    },
    {
      "cell_type": "markdown",
      "metadata": {},
      "source": [
        "`-` fraudTrain"
      ],
      "id": "73553834-5b27-49a3-bc2b-7b6ef84a92f1"
    },
    {
      "cell_type": "code",
      "execution_count": 2,
      "metadata": {},
      "outputs": [],
      "source": [
        "fraudTrain = pd.read_csv(\"fraudTrain.csv\").iloc[:,1:]"
      ],
      "id": "7021dc07-8a06-417b-9fb6-c71b2f05e5eb"
    },
    {
      "cell_type": "code",
      "execution_count": 3,
      "metadata": {},
      "outputs": [],
      "source": [
        "fraudTrain = fraudTrain.assign(trans_date_trans_time= list(map(lambda x: pd.to_datetime(x), fraudTrain.trans_date_trans_time)))\n",
        "fraudTrain"
      ],
      "id": "eb7a9b2b-f984-4bb0-b14b-e523a00d8d38"
    },
    {
      "cell_type": "markdown",
      "metadata": {},
      "source": [
        "`-` df02"
      ],
      "id": "9be7cf32-c1ef-4438-9be3-3e578df4929b"
    },
    {
      "cell_type": "code",
      "execution_count": 19,
      "metadata": {},
      "outputs": [],
      "source": [
        "_df1 = fraudTrain[fraudTrain[\"is_fraud\"] == 0].sample(frac=0.20, random_state=42)\n",
        "_df2 = fraudTrain[fraudTrain[\"is_fraud\"] == 1]\n",
        "df02 = pd.concat([_df1,_df2])\n",
        "df02 = df02.reset_index()"
      ],
      "id": "adec4c87-7a49-41dd-ba04-879643113486"
    },
    {
      "cell_type": "markdown",
      "metadata": {},
      "source": [
        "`-` df_toy"
      ],
      "id": "b44d99a3-e29e-43f4-9010-445e0322d459"
    },
    {
      "cell_type": "code",
      "execution_count": 44,
      "metadata": {},
      "outputs": [],
      "source": [
        "df_toy=df02[:5].copy()\n",
        "df_toy.cc_num = pd.Series([1,1,1,2,2])\n",
        "df_toy"
      ],
      "id": "32c86926-0749-4955-914b-9b91ce99d0e0"
    },
    {
      "cell_type": "markdown",
      "metadata": {},
      "source": [
        "`-` df_toy 에서 time_difference 구함\n",
        "\n",
        "**고객1**"
      ],
      "id": "a883ae18-b2cc-4530-bdae-1e0344e749d2"
    },
    {
      "cell_type": "code",
      "execution_count": 41,
      "metadata": {},
      "outputs": [],
      "source": [
        "df_toy.iloc[0].trans_date_trans_time.value - df_toy.iloc[1].trans_date_trans_time.value"
      ],
      "id": "d3242e02-faef-4f4d-8c80-f12da58f4076"
    },
    {
      "cell_type": "code",
      "execution_count": 45,
      "metadata": {},
      "outputs": [],
      "source": [
        "df_toy.iloc[0].trans_date_trans_time.value - df_toy.iloc[2].trans_date_trans_time.value"
      ],
      "id": "dad1a45c-c5ba-4edb-ac8f-5e0e6e2de449"
    },
    {
      "cell_type": "code",
      "execution_count": 48,
      "metadata": {},
      "outputs": [],
      "source": [
        "df_toy.iloc[1].trans_date_trans_time.value - df_toy.iloc[2].trans_date_trans_time.value"
      ],
      "id": "01f03d72-82a6-4293-99a2-d40899e93652"
    },
    {
      "cell_type": "markdown",
      "metadata": {},
      "source": [
        "**고객2**"
      ],
      "id": "582dfd7b-4365-4336-8328-bff0598759b0"
    },
    {
      "cell_type": "code",
      "execution_count": 46,
      "metadata": {},
      "outputs": [],
      "source": [
        "df_toy.iloc[3].trans_date_trans_time.value - df_toy.iloc[4].trans_date_trans_time.value"
      ],
      "id": "0606044a-880d-41e9-920f-9c5f8e0a99e9"
    },
    {
      "cell_type": "markdown",
      "metadata": {},
      "source": [
        "**고객1,2**"
      ],
      "id": "c893dcdb-1060-4017-b55a-06928ad890c7"
    },
    {
      "cell_type": "code",
      "execution_count": 52,
      "metadata": {},
      "outputs": [],
      "source": [
        "def compute_time_difference(group):\n",
        "    n = len(group)\n",
        "    result = []\n",
        "    for i in range(n):\n",
        "        for j in range(n):\n",
        "            time_difference = abs(group.iloc[i].trans_date_trans_time.value - group.iloc[j].trans_date_trans_time.value)\n",
        "            result.append([group.iloc[i].name, group.iloc[j].name, time_difference])\n",
        "    return result"
      ],
      "id": "479dd0e2-6b35-4ac8-904e-ac79ab868c40"
    },
    {
      "cell_type": "code",
      "execution_count": 53,
      "metadata": {},
      "outputs": [],
      "source": [
        "groups = df_toy.groupby('cc_num')\n",
        "edge_index_list_plus = [compute_time_difference(group) for _, group in groups]\n",
        "edge_index_list_plus_flat = [item for sublist in edge_index_list_plus for item in sublist]\n",
        "edge_index_list_plus_nparr = np.array(edge_index_list_plus_flat)\n",
        "edge_index_list_plus_nparr"
      ],
      "id": "5081b897-f57f-42f3-97d2-4a48183b8e4a"
    },
    {
      "cell_type": "markdown",
      "metadata": {},
      "source": [
        "`-` df02에서 time_difference 구함"
      ],
      "id": "5de2f906-4b24-474d-b0ca-db3ff4559e7a"
    },
    {
      "cell_type": "code",
      "execution_count": 46,
      "metadata": {},
      "outputs": [],
      "source": [
        "t1 = time.time()\n",
        "groups = df02.groupby('cc_num')\n",
        "edge_index_list_plus = [compute_time_difference(group) for _, group in groups]\n",
        "edge_index_list_plus_flat = [item for sublist in edge_index_list_plus for item in sublist]\n",
        "edge_index_list_plus_nparr = np.array(edge_index_list_plus_flat)\n",
        "np.save('edge_index_list_plus02.npy', edge_index_list_plus_nparr)\n",
        "t2 = time.time()\n",
        "t2-t1"
      ],
      "id": "4f311ec7-ff33-4d53-a0d2-2085caff2b23"
    },
    {
      "cell_type": "code",
      "execution_count": 48,
      "metadata": {},
      "outputs": [],
      "source": [
        "(t2-t1)/3600"
      ],
      "id": "120467bc-4a8d-4421-88ce-d4ef96e4717b"
    }
  ],
  "nbformat": 4,
  "nbformat_minor": 5,
  "metadata": {
    "kernelspec": {
      "name": "python3",
      "display_name": "Python 3 (ipykernel)",
      "language": "python"
    },
    "language_info": {
      "name": "python",
      "codemirror_mode": {
        "name": "ipython",
        "version": "3"
      },
      "file_extension": ".py",
      "mimetype": "text/x-python",
      "nbconvert_exporter": "python",
      "pygments_lexer": "ipython3",
      "version": "3.11.4"
    }
  }
}