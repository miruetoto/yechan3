{
  "cells": [
    {
      "cell_type": "markdown",
      "metadata": {},
      "source": [
        "#"
      ],
      "id": "317ed9cb-951c-4595-9d8c-3432579c7c53"
    },
    {
      "cell_type": "code",
      "execution_count": 1,
      "metadata": {},
      "outputs": [
        {
          "output_type": "stream",
          "name": "stdout",
          "text": [
            "shell-init: error retrieving current directory: getcwd: cannot access parent directories: No such file or directory\n",
            "# conda environments:\n",
            "#\n",
            "base                     /home/cgb2/anaconda3\n",
            "EBT                      /home/cgb2/anaconda3/envs/EBT\n",
            "llama2                   /home/cgb2/anaconda3/envs/llama2\n",
            "mp                       /home/cgb2/anaconda3/envs/mp\n",
            "r                        /home/cgb2/anaconda3/envs/r\n",
            "torch                 *  /home/cgb2/anaconda3/envs/torch\n"
          ]
        }
      ],
      "source": [
        "!conda env list "
      ],
      "id": "8e17464c-9154-438c-8978-5815e0e4aa70"
    }
  ],
  "nbformat": 4,
  "nbformat_minor": 5,
  "metadata": {
    "kernelspec": {
      "name": "python3",
      "display_name": "Python 3 (ipykernel)",
      "language": "python"
    },
    "language_info": {
      "name": "python",
      "codemirror_mode": {
        "name": "ipython",
        "version": "3"
      },
      "file_extension": ".py",
      "mimetype": "text/x-python",
      "nbconvert_exporter": "python",
      "pygments_lexer": "ipython3",
      "version": "3.11.4"
    }
  }
}