{
  "cells": [
    {
      "cell_type": "markdown",
      "metadata": {},
      "source": [
        "# **\\[FRAUD\\]** 신용카드 거래 사기탐지 CTGAN 이용 (하다가 말았음)\n",
        "\n",
        "신록예찬  \n",
        "2023-07-30\n",
        "\n",
        "# imports"
      ],
      "id": "4b570c22-dad0-454c-baee-b441851b11b2"
    },
    {
      "cell_type": "code",
      "execution_count": 3,
      "metadata": {},
      "outputs": [],
      "source": [
        "import numpy as np\n",
        "import pandas as pd\n",
        "import matplotlib.pyplot as plt "
      ],
      "id": "945de3cd-e8d8-430a-8c95-d4072eb68299"
    },
    {
      "cell_type": "code",
      "execution_count": 4,
      "metadata": {},
      "outputs": [],
      "source": [
        "# from ctgan import CTGAN\n",
        "# from ctgan import load_demo"
      ],
      "id": "d2e6f2c4-7a35-4962-8c8a-d6ad3c83f194"
    },
    {
      "cell_type": "code",
      "execution_count": 5,
      "metadata": {},
      "outputs": [],
      "source": [
        "from sklearn import model_selection # split함수이용\n",
        "from sklearn import ensemble # RF,GBM\n",
        "from sklearn import metrics "
      ],
      "id": "3d02ddce-8c38-43ae-8205-14529be04684"
    },
    {
      "cell_type": "code",
      "execution_count": 6,
      "metadata": {},
      "outputs": [],
      "source": [
        "def down_sample_textbook(df):\n",
        "    df_majority = df[df.is_fraud==0].copy()\n",
        "    df_minority = df[df.is_fraud==1].copy()\n",
        "    df_maj_dowsampled = sklearn.utils.resample(df_majority, n_samples=len(df_minority), replace=False, random_state=42)\n",
        "    df_downsampled = pd.concat([df_minority, df_maj_dowsampled])\n",
        "    return df_downsampled"
      ],
      "id": "df91f02f-596f-4a5e-938a-561dc1cc6405"
    },
    {
      "cell_type": "markdown",
      "metadata": {},
      "source": [
        "# Overview\n",
        "\n",
        "## 데이터 종류\n",
        "\n",
        "-   fraudTrain.csv: (1048575, 23), 기본데이터\n",
        "-   df02: (214520, 23), is_fraud==0 에서는 20퍼의 샘플만, is_fraud==1\n",
        "    에서는 모든 샘플을 뽑아서 정리한 새로운 자료\n",
        "-   df50 = (12012, 23), df20에서 is_fraud==0 와 is_fraud==1 의 비율을\n",
        "    맞추어서 샘플을 뽑은 것\n",
        "\n",
        "| 데이터        | shape         | 사기거래빈도 | 설명                                                                                       |\n",
        "|------------------|------------------|------------------|------------------|\n",
        "| fraudTrain    | (1048575, 22) | 0.00573      | 원래자료                                                                                   |\n",
        "| df02          | (214520, 22)  | 0.028        | is_fraud==0 에서는 20퍼의 샘플만, is_fraud==1 에서는 모든 샘플을 뽑아서 정리한 새로운 자료 |\n",
        "| df50          | (12012, 22)   | 0.5          | df02에서 사기비율을 50퍼로 맞추어 샘플링한 자료                                            |\n",
        "| df50_tr       | (9009, 22)    | 0.49828      | df50에서 랜덤으로 train/test를 분리하여 얻은 train dataset                                 |\n",
        "| df50_test     | (3003, 22)    | 0.50516      | df50에서 랜덤으로 train/test를 분리하여 얻은 test dataset                                  |\n",
        "| df02_tr       | (211517, 22)  | 0.02122      | df02에서 df50_test에 해당하는 인덱스를 제외                                                |\n",
        "| fraudTrain_tr | (1045572, 22) | 0.00429      | fraudTrain에서 df50_test에 해당하는 인덱스를 제외                                          |\n",
        "\n",
        "`-` fraudTrain"
      ],
      "id": "986cb5a4-9555-4110-9049-d82481f3b6ef"
    },
    {
      "cell_type": "code",
      "execution_count": 7,
      "metadata": {},
      "outputs": [],
      "source": [
        "fraudTrain = pd.read_csv(\"fraudTrain.csv\").iloc[:,1:]"
      ],
      "id": "628fd9bc-7865-4181-8485-28fbadafa474"
    },
    {
      "cell_type": "code",
      "execution_count": 8,
      "metadata": {},
      "outputs": [],
      "source": [
        "fraudTrain.columns"
      ],
      "id": "23b80636-6661-4bda-94c7-320fab4c012b"
    },
    {
      "cell_type": "code",
      "execution_count": 9,
      "metadata": {},
      "outputs": [],
      "source": [
        "fraudTrain['is_fraud']"
      ],
      "id": "e595408a-fdf9-42c2-a031-e64df01db270"
    },
    {
      "cell_type": "code",
      "execution_count": 10,
      "metadata": {},
      "outputs": [],
      "source": [
        "fraudTrain.is_fraud.mean().round(5)"
      ],
      "id": "ced1bd8a-4535-4ac3-a1c3-bed4db262ded"
    },
    {
      "cell_type": "markdown",
      "metadata": {},
      "source": [
        "`-` df20"
      ],
      "id": "f1d8aa2f-7e16-4c2e-ba60-15cda2dc0450"
    },
    {
      "cell_type": "code",
      "execution_count": 11,
      "metadata": {},
      "outputs": [],
      "source": [
        "_df1 = fraudTrain[fraudTrain[\"is_fraud\"] == 0].sample(frac=0.20, random_state=42)\n",
        "_df2 = fraudTrain[fraudTrain[\"is_fraud\"] == 1]\n",
        "df02 = pd.concat([_df1,_df2])\n",
        "df02.shape"
      ],
      "id": "7da36222-6d9d-4c60-b3ad-2291c93323d3"
    },
    {
      "cell_type": "code",
      "execution_count": 12,
      "metadata": {},
      "outputs": [],
      "source": [
        "df02.is_fraud.mean().round(5)"
      ],
      "id": "4cb4df2f-1cfb-449b-9c4b-14e8f5c4a0b4"
    },
    {
      "cell_type": "markdown",
      "metadata": {},
      "source": [
        "`-` df50"
      ],
      "id": "e67dd570-1903-4c31-aa0f-041eb85acdb5"
    },
    {
      "cell_type": "code",
      "execution_count": 13,
      "metadata": {},
      "outputs": [],
      "source": [
        "df50 = down_sample_textbook(df02)\n",
        "df50.shape"
      ],
      "id": "ef4fc73f-1c0f-407c-a844-9bba63efbaea"
    },
    {
      "cell_type": "code",
      "execution_count": 14,
      "metadata": {},
      "outputs": [],
      "source": [
        "df50"
      ],
      "id": "70f9f90d-9009-4b20-9753-aae078b56d84"
    },
    {
      "cell_type": "code",
      "execution_count": 17,
      "metadata": {},
      "outputs": [],
      "source": [
        "df50.is_fraud.mean().round(5)"
      ],
      "id": "050a3bea-663e-40c4-9935-216eaee4240b"
    },
    {
      "cell_type": "markdown",
      "metadata": {},
      "source": [
        "`-` df50_tr, df50_test"
      ],
      "id": "2de58d33-0a4a-4159-82f8-03eb39f216e8"
    },
    {
      "cell_type": "code",
      "execution_count": 18,
      "metadata": {},
      "outputs": [],
      "source": [
        "df50_tr,df50_test = sklearn.model_selection.train_test_split(df50, random_state=42)"
      ],
      "id": "8bbec0ba-9592-48ee-b7d1-961fdbf1b346"
    },
    {
      "cell_type": "code",
      "execution_count": 19,
      "metadata": {},
      "outputs": [],
      "source": [
        "df50_tr.is_fraud.mean().round(5), df50_test.is_fraud.mean().round(5)"
      ],
      "id": "44dd51d5-86ef-4a27-92e9-41a30e37bc74"
    },
    {
      "cell_type": "markdown",
      "metadata": {},
      "source": [
        "`-` df02_tr, fraudTrain_tr"
      ],
      "id": "db62b11a-ede8-40e7-a4d5-e6f16fb1d306"
    },
    {
      "cell_type": "code",
      "execution_count": 20,
      "metadata": {},
      "outputs": [],
      "source": [
        "df02_tr = df02.loc[[i not in df50_test.index for i in df02.index],:].copy()\n",
        "fraudTrain_tr = fraudTrain.loc[[i not in df50_test.index for i in fraudTrain.index],:].copy()"
      ],
      "id": "a983034d-0fb0-438b-ba9f-c2e9cdb0fda2"
    },
    {
      "cell_type": "code",
      "execution_count": 21,
      "metadata": {},
      "outputs": [],
      "source": [
        "df02_tr.shape, fraudTrain_tr.shape"
      ],
      "id": "7a5407c6-573f-486b-b9fa-0f8f1dba12e0"
    },
    {
      "cell_type": "code",
      "execution_count": 22,
      "metadata": {},
      "outputs": [],
      "source": [
        "df02_tr.is_fraud.mean().round(5), fraudTrain_tr.is_fraud.mean().round(5)"
      ],
      "id": "f71af68a-c14f-42a7-b646-3a9c3d41625f"
    },
    {
      "cell_type": "markdown",
      "metadata": {},
      "source": [
        "# 분석방법정리\n",
        "\n",
        "|           | Train   | Test      | 모형             | 설명변수 | 참고     |\n",
        "|-----------|---------|-----------|------------------|----------|----------|\n",
        "| 분석1     | df02_tr | df50_test | 그레디언트부스팅 | amt      | base     |\n",
        "| **분석2** | df02_tr | df50_test | 그레디언트부스팅 | amt      | 가장좋음 |\n",
        "\n",
        "# 분석1\n",
        "\n",
        "`-` step1: data"
      ],
      "id": "927e9a82-bbea-4a5c-bc83-8d0d4159e88a"
    },
    {
      "cell_type": "code",
      "execution_count": 26,
      "metadata": {},
      "outputs": [],
      "source": [
        "X = np.array(df02_tr.loc[:,['amt']])\n",
        "XX = np.array(df50_test.loc[:,['amt']])\n",
        "y = np.array(df02_tr.is_fraud)\n",
        "yy = np.array(df50_test.is_fraud)"
      ],
      "id": "43a9689d-e318-4f49-bd4e-75bd979239c8"
    },
    {
      "cell_type": "markdown",
      "metadata": {},
      "source": [
        "`-` step2: lrnr 생성"
      ],
      "id": "ee626c6d-2cf2-46af-ba03-024c7d137491"
    },
    {
      "cell_type": "code",
      "execution_count": 27,
      "metadata": {},
      "outputs": [],
      "source": [
        "lrnr = ensemble.GradientBoostingClassifier()"
      ],
      "id": "ddaa0e87-fab4-437a-b79a-41c8995208ee"
    },
    {
      "cell_type": "markdown",
      "metadata": {},
      "source": [
        "`-` step3: fit"
      ],
      "id": "8ee93e80-9277-4956-8d80-c021e96ce43d"
    },
    {
      "cell_type": "code",
      "execution_count": 28,
      "metadata": {},
      "outputs": [],
      "source": [
        "lrnr.fit(X,y)"
      ],
      "id": "f6d21983-ef21-433b-a858-894778621972"
    },
    {
      "cell_type": "markdown",
      "metadata": {},
      "source": [
        "`-` step4: evaluate"
      ],
      "id": "9b3bb4a6-d05a-4464-a080-5ba3d789087d"
    },
    {
      "cell_type": "code",
      "execution_count": 29,
      "metadata": {},
      "outputs": [],
      "source": [
        "thresh = y.mean()\n",
        "yyhat = (lrnr.predict_proba(XX)> thresh)[:,-1]\n",
        "#yyhat = lrnr.predict(XX) "
      ],
      "id": "ac9eb553-39c7-4abe-84c0-440b133a5bdf"
    },
    {
      "cell_type": "code",
      "execution_count": 30,
      "metadata": {},
      "outputs": [],
      "source": [
        "metrics = [sklearn.metrics.accuracy_score,\n",
        "           sklearn.metrics.precision_score,\n",
        "           sklearn.metrics.recall_score,\n",
        "           sklearn.metrics.f1_score]"
      ],
      "id": "5b3fe72e-f6e2-40ee-861c-084da08054bc"
    },
    {
      "cell_type": "code",
      "execution_count": 31,
      "metadata": {},
      "outputs": [],
      "source": [
        "_results2= pd.DataFrame({m.__name__:[m(yy,yyhat).round(6)] for m in metrics},index=['분석2'])\n",
        "_results2"
      ],
      "id": "dade5116-672b-417e-b50a-91f3f4b0534c"
    },
    {
      "cell_type": "markdown",
      "metadata": {},
      "source": [
        "# 분석2\n",
        "\n",
        "`-` step1: data"
      ],
      "id": "007e35cf-aaa7-4095-9b5e-249d8c946ee6"
    },
    {
      "cell_type": "code",
      "execution_count": null,
      "metadata": {},
      "outputs": [],
      "source": [
        "# Names of the columns that are discrete\n",
        "discrete_columns = ['trans_date_trans_time', 'cc_num', 'merchant', 'category', 'first', 'last', 'gender', 'street', 'city', 'state', 'zip', 'job', 'dob', 'trans_num', 'is_fraud']\n",
        "ctgan = CTGAN(epochs=10)\n",
        "ctgan.fit(df, discrete_columns)\n",
        "\n",
        "# Create synthetic data\n",
        "df2 = ctgan.sample(1000)"
      ],
      "id": "920ef041-fb5b-4c63-99a7-e9e75489f15d"
    },
    {
      "cell_type": "code",
      "execution_count": 37,
      "metadata": {},
      "outputs": [],
      "source": [
        "df02_tr.columns"
      ],
      "id": "4d41ea3d-25b7-4681-a5bf-27c22902d6a0"
    },
    {
      "cell_type": "code",
      "execution_count": null,
      "metadata": {},
      "outputs": [],
      "source": [
        "['trans_date_trans_time', 'cc_num', 'merchant', 'category', 'first', 'last', 'gender', 'street', 'city', 'state', 'zip', 'job', 'dob', 'trans_num', 'is_fraud']"
      ],
      "id": "f44e8ca5-a016-4716-920b-8a2b08670658"
    },
    {
      "cell_type": "code",
      "execution_count": 36,
      "metadata": {},
      "outputs": [],
      "source": [
        "df02_tr"
      ],
      "id": "61987384-d88f-45f5-a81e-2a0292225229"
    },
    {
      "cell_type": "code",
      "execution_count": 26,
      "metadata": {},
      "outputs": [],
      "source": [
        "X = np.array(df02_tr.loc[:,['amt']])\n",
        "XX = np.array(df50_test.loc[:,['amt']])\n",
        "y = np.array(df02_tr.is_fraud)\n",
        "yy = np.array(df50_test.is_fraud)"
      ],
      "id": "1b5f8bd8-992b-4534-bf5a-9e6110ecc076"
    },
    {
      "cell_type": "markdown",
      "metadata": {},
      "source": [
        "`-` step2: lrnr 생성"
      ],
      "id": "24417d9e-eafd-4f84-a5b1-abbb3b1f84b1"
    },
    {
      "cell_type": "code",
      "execution_count": 27,
      "metadata": {},
      "outputs": [],
      "source": [
        "lrnr = ensemble.GradientBoostingClassifier()"
      ],
      "id": "922c85ab-8731-4097-adce-52987681c1bb"
    },
    {
      "cell_type": "markdown",
      "metadata": {},
      "source": [
        "`-` step3: fit"
      ],
      "id": "7d6501a4-0d80-46ca-b620-88e941353be2"
    },
    {
      "cell_type": "code",
      "execution_count": 28,
      "metadata": {},
      "outputs": [],
      "source": [
        "lrnr.fit(X,y)"
      ],
      "id": "9ae6e9d9-0e68-435f-bfa7-b60314b380b0"
    },
    {
      "cell_type": "markdown",
      "metadata": {},
      "source": [
        "`-` step4: evaluate"
      ],
      "id": "08578871-9f7a-4d63-9afe-021d439f35c6"
    },
    {
      "cell_type": "code",
      "execution_count": 29,
      "metadata": {},
      "outputs": [],
      "source": [
        "thresh = y.mean()\n",
        "yyhat = (lrnr.predict_proba(XX)> thresh)[:,-1]\n",
        "#yyhat = lrnr.predict(XX) "
      ],
      "id": "cfe84f15-dbbf-495b-9c71-b9632539a9b2"
    },
    {
      "cell_type": "code",
      "execution_count": 30,
      "metadata": {},
      "outputs": [],
      "source": [
        "metrics = [sklearn.metrics.accuracy_score,\n",
        "           sklearn.metrics.precision_score,\n",
        "           sklearn.metrics.recall_score,\n",
        "           sklearn.metrics.f1_score]"
      ],
      "id": "b218d711-67df-4597-91f3-8ab7e3b61ddd"
    },
    {
      "cell_type": "code",
      "execution_count": 31,
      "metadata": {},
      "outputs": [],
      "source": [
        "_results2= pd.DataFrame({m.__name__:[m(yy,yyhat).round(6)] for m in metrics},index=['분석2'])\n",
        "_results2"
      ],
      "id": "e18c6e5d-c245-41c7-bd25-1e3e73210045"
    }
  ],
  "nbformat": 4,
  "nbformat_minor": 5,
  "metadata": {
    "kernelspec": {
      "name": "python3",
      "display_name": "Python 3",
      "language": "python"
    },
    "language_info": {
      "name": "python",
      "codemirror_mode": {
        "name": "ipython",
        "version": "3"
      },
      "file_extension": ".py",
      "mimetype": "text/x-python",
      "nbconvert_exporter": "python",
      "pygments_lexer": "ipython3",
      "version": "3.8.16"
    }
  }
}