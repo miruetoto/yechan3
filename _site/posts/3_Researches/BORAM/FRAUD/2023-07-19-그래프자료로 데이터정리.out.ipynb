{
  "cells": [
    {
      "cell_type": "markdown",
      "metadata": {},
      "source": [
        "# **\\[FRAUD\\]** 그래프자료로 데이터정리\n",
        "\n",
        "신록예찬  \n",
        "2023-07-19\n",
        "\n",
        "# imports"
      ],
      "id": "98c30b6a-fc87-4b7b-ab64-b5467d9ce9d9"
    },
    {
      "cell_type": "code",
      "execution_count": 50,
      "metadata": {},
      "outputs": [],
      "source": [
        "import numpy as np\n",
        "import pandas as pd\n",
        "import torch \n",
        "import torch_geometric"
      ],
      "id": "a2ee768e-facb-4f0e-9077-6cde75591199"
    },
    {
      "cell_type": "markdown",
      "metadata": {},
      "source": [
        "`-` 모든엣지를 고려"
      ],
      "id": "3572d853-6155-40ba-be1e-800019500793"
    },
    {
      "cell_type": "code",
      "execution_count": 51,
      "metadata": {},
      "outputs": [],
      "source": [
        "N = 10 \n",
        "edge_index = torch.tensor([[i,j] for i in range(N) for j in range(N)]).T\n",
        "# edge_attr = 그래프의 웨이트 "
      ],
      "id": "9f3d1be1-60ee-436d-a948-27a3254da476"
    },
    {
      "cell_type": "code",
      "execution_count": 52,
      "metadata": {},
      "outputs": [],
      "source": [
        "fraudTrain = pd.read_csv(\"fraudTrain.csv\").iloc[:,1:]"
      ],
      "id": "7021dc07-8a06-417b-9fb6-c71b2f05e5eb"
    },
    {
      "cell_type": "code",
      "execution_count": 54,
      "metadata": {},
      "outputs": [],
      "source": [
        "fraudTrain = fraudTrain.assign(trans_date_trans_time= list(map(lambda x: pd.to_datetime(x), fraudTrain.trans_date_trans_time)))\n",
        "fraudTrain"
      ],
      "id": "eb7a9b2b-f984-4bb0-b14b-e523a00d8d38"
    },
    {
      "cell_type": "code",
      "execution_count": 56,
      "metadata": {},
      "outputs": [],
      "source": [
        "diff = fraudTrain.trans_date_trans_time[10]-fraudTrain.trans_date_trans_time[0]"
      ],
      "id": "cbcddfcc-5807-4d2a-aa9a-630dd85838a5"
    },
    {
      "cell_type": "code",
      "execution_count": 60,
      "metadata": {},
      "outputs": [],
      "source": [
        "theta = 86400*1.2\n",
        "np.exp(-diff.total_seconds()/theta)"
      ],
      "id": "9777eb29-ffa1-47ab-b8fe-27ad2170b187"
    },
    {
      "cell_type": "code",
      "execution_count": null,
      "metadata": {},
      "outputs": [],
      "source": [
        "!git add .\n",
        "!git commit -m. \n",
        "!git push \n",
        "!quarto publish --no-browser --no-prompt"
      ],
      "id": "39ae6515-12c5-46a0-b0be-e6599adfa13a"
    }
  ],
  "nbformat": 4,
  "nbformat_minor": 5,
  "metadata": {
    "kernelspec": {
      "name": "python3",
      "display_name": "Python 3",
      "language": "python"
    },
    "language_info": {
      "name": "python",
      "codemirror_mode": {
        "name": "ipython",
        "version": "3"
      },
      "file_extension": ".py",
      "mimetype": "text/x-python",
      "nbconvert_exporter": "python",
      "pygments_lexer": "ipython3",
      "version": "3.8.16"
    }
  }
}