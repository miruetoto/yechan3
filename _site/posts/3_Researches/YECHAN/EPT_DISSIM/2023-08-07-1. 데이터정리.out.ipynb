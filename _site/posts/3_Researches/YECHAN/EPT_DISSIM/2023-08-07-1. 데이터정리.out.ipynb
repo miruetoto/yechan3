{
  "cells": [
    {
      "cell_type": "markdown",
      "metadata": {},
      "source": [
        "# **\\[EPT-DISSIM\\]** 1. 데이터정리\n",
        "\n",
        "신록예찬  \n",
        "2023-08-08"
      ],
      "id": "394950be-8a07-425d-8f2a-54adc319f5a3"
    },
    {
      "cell_type": "code",
      "execution_count": 3,
      "metadata": {},
      "outputs": [],
      "source": [
        "import pandas as pd"
      ],
      "id": "6ca2e10b-c056-40e1-a57e-8e25c9792471"
    },
    {
      "cell_type": "markdown",
      "metadata": {},
      "source": [
        "`1`. load raw-data"
      ],
      "id": "7e612e02-6e6b-4072-8076-3a2a838e24a6"
    },
    {
      "cell_type": "code",
      "execution_count": 76,
      "metadata": {},
      "outputs": [],
      "source": [
        "df = pd.read_csv(\"https://media.githubusercontent.com/media/miruetoto/yechan3/main/posts/3_Researches/YECHAN/EPT_DISSIM/india.csv\")\n",
        "df"
      ],
      "id": "0984089c-1452-49da-b679-218bf33dacce"
    },
    {
      "cell_type": "markdown",
      "metadata": {},
      "source": [
        "`2`. make it as tidydata"
      ],
      "id": "f5c61f3a-3420-4dd2-8e1d-99d21a47d7cb"
    },
    {
      "cell_type": "code",
      "execution_count": 75,
      "metadata": {},
      "outputs": [],
      "source": [
        "df = df.drop(['ANNUAL', 'Jan-Feb', 'Mar-May','Jun-Sep', 'Oct-Dec'],axis=1)\\\n",
        ".set_index(['SUBDIVISION','YEAR'])\\\n",
        ".stack().reset_index().rename({'level_2':'MONTH',0:'PRECIPITATION'},axis=1)\n",
        "df "
      ],
      "id": "e8841cde-46c3-4355-904e-6d8ada543543"
    },
    {
      "cell_type": "markdown",
      "metadata": {},
      "source": [
        "`3`. mutate `MONTH` column"
      ],
      "id": "78ecebb8-7700-4dc7-93a7-8676e37a2465"
    },
    {
      "cell_type": "code",
      "execution_count": 32,
      "metadata": {},
      "outputs": [],
      "source": [
        "mapp = {l:i for i,l in enumerate(df.MONTH.unique().tolist(),start=1)}\n",
        "mapp"
      ],
      "id": "49dfb79c-cc9f-40e4-891d-4319f2847082"
    },
    {
      "cell_type": "code",
      "execution_count": 36,
      "metadata": {},
      "outputs": [],
      "source": [
        "df = df.assign(MONTH = df.MONTH.apply(lambda x: mapp[x]))\n",
        "df"
      ],
      "id": "36eb4d63-0124-472c-a876-ecabbcbf7fec"
    },
    {
      "cell_type": "markdown",
      "metadata": {},
      "source": [
        "`4`. create a new `YM` column from `YEAR` and `MONTH`"
      ],
      "id": "50ce3dea-01d4-4091-a13a-cd8f35fe7ab1"
    },
    {
      "cell_type": "code",
      "execution_count": 65,
      "metadata": {},
      "outputs": [],
      "source": [
        "df = df.assign(YM = pd.Series([str(y)+'-'+str(m) for y,m in zip(df.YEAR,df.MONTH)]).apply(pd.to_datetime))\n",
        "df"
      ],
      "id": "473b5a9a-0d67-42bc-bd95-c938a0e59994"
    },
    {
      "cell_type": "markdown",
      "metadata": {},
      "source": [
        "`5`. save dataframe as `india_tidy.csv`"
      ],
      "id": "6f3bdbba-7e26-42c0-a16b-3e7bc99532d3"
    },
    {
      "cell_type": "code",
      "execution_count": 66,
      "metadata": {},
      "outputs": [],
      "source": [
        "df.to_csv('india_tidy.csv',index=False)"
      ],
      "id": "2333ce89-2f0a-4882-98c0-6be9ffe9a490"
    }
  ],
  "nbformat": 4,
  "nbformat_minor": 5,
  "metadata": {
    "kernelspec": {
      "name": "python3",
      "display_name": "Python 3 (ipykernel)",
      "language": "python"
    },
    "language_info": {
      "name": "python",
      "codemirror_mode": {
        "name": "ipython",
        "version": "3"
      },
      "file_extension": ".py",
      "mimetype": "text/x-python",
      "nbconvert_exporter": "python",
      "pygments_lexer": "ipython3",
      "version": "3.11.4"
    }
  }
}