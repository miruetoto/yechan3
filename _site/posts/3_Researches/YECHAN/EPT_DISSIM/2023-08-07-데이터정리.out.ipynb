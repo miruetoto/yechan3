{
  "cells": [
    {
      "cell_type": "markdown",
      "metadata": {},
      "source": [
        "# **\\[EPT-DISSIM\\]** 1. 데이터정리\n",
        "\n",
        "신록예찬  \n",
        "2023-08-08"
      ],
      "id": "cc8c6d95-70a3-4d4e-876c-724f76156387"
    },
    {
      "cell_type": "code",
      "execution_count": 3,
      "metadata": {},
      "outputs": [],
      "source": [
        "import pandas as pd"
      ],
      "id": "6ca2e10b-c056-40e1-a57e-8e25c9792471"
    },
    {
      "cell_type": "markdown",
      "metadata": {},
      "source": [
        "`1`. load raw-data"
      ],
      "id": "6917be3e-60b2-43ab-b771-4134b0f7d3fb"
    },
    {
      "cell_type": "code",
      "execution_count": 76,
      "metadata": {},
      "outputs": [],
      "source": [
        "df = pd.read_csv(\"https://media.githubusercontent.com/media/miruetoto/yechan3/main/posts/3_Researches/YECHAN/EPT_DISSIM/india.csv\")\n",
        "df"
      ],
      "id": "0984089c-1452-49da-b679-218bf33dacce"
    },
    {
      "cell_type": "markdown",
      "metadata": {},
      "source": [
        "`2`. make it as tidydata"
      ],
      "id": "59e0d990-3f56-4d09-9850-1683f192b0d4"
    },
    {
      "cell_type": "code",
      "execution_count": 75,
      "metadata": {},
      "outputs": [],
      "source": [
        "df = df.drop(['ANNUAL', 'Jan-Feb', 'Mar-May','Jun-Sep', 'Oct-Dec'],axis=1)\\\n",
        ".set_index(['SUBDIVISION','YEAR'])\\\n",
        ".stack().reset_index().rename({'level_2':'MONTH',0:'PRECIPITATION'},axis=1)\n",
        "df "
      ],
      "id": "e8841cde-46c3-4355-904e-6d8ada543543"
    },
    {
      "cell_type": "markdown",
      "metadata": {},
      "source": [
        "`3`. mutate `MONTH` column"
      ],
      "id": "3163efb8-a5d4-4b2a-80f3-5ebc0d1f1c56"
    },
    {
      "cell_type": "code",
      "execution_count": 32,
      "metadata": {},
      "outputs": [],
      "source": [
        "mapp = {l:i for i,l in enumerate(df.MONTH.unique().tolist(),start=1)}\n",
        "mapp"
      ],
      "id": "49dfb79c-cc9f-40e4-891d-4319f2847082"
    },
    {
      "cell_type": "code",
      "execution_count": 36,
      "metadata": {},
      "outputs": [],
      "source": [
        "df = df.assign(MONTH = df.MONTH.apply(lambda x: mapp[x]))\n",
        "df"
      ],
      "id": "36eb4d63-0124-472c-a876-ecabbcbf7fec"
    },
    {
      "cell_type": "markdown",
      "metadata": {},
      "source": [
        "`4`. create a new `YM` column from `YEAR` and `MONTH`"
      ],
      "id": "647be436-afc8-4884-ab92-8c11fe9a575d"
    },
    {
      "cell_type": "code",
      "execution_count": 65,
      "metadata": {},
      "outputs": [],
      "source": [
        "df = df.assign(YM = pd.Series([str(y)+'-'+str(m) for y,m in zip(df.YEAR,df.MONTH)]).apply(pd.to_datetime))\n",
        "df"
      ],
      "id": "473b5a9a-0d67-42bc-bd95-c938a0e59994"
    },
    {
      "cell_type": "markdown",
      "metadata": {},
      "source": [
        "`5`. save dataframe as `india_tidy.csv`"
      ],
      "id": "368c8afe-b782-4bd7-9632-467a860e9fb6"
    },
    {
      "cell_type": "code",
      "execution_count": 66,
      "metadata": {},
      "outputs": [],
      "source": [
        "df.to_csv('india_tidy.csv',index=False)"
      ],
      "id": "2333ce89-2f0a-4882-98c0-6be9ffe9a490"
    }
  ],
  "nbformat": 4,
  "nbformat_minor": 5,
  "metadata": {
    "kernelspec": {
      "name": "python3",
      "display_name": "Python 3 (ipykernel)",
      "language": "python"
    },
    "language_info": {
      "name": "python",
      "codemirror_mode": {
        "name": "ipython",
        "version": "3"
      },
      "file_extension": ".py",
      "mimetype": "text/x-python",
      "nbconvert_exporter": "python",
      "pygments_lexer": "ipython3",
      "version": "3.11.4"
    }
  }
}