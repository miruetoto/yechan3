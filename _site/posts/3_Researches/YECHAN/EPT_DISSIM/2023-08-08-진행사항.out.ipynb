{
  "cells": [
    {
      "cell_type": "markdown",
      "metadata": {},
      "source": [
        "# **\\[EPT-DISSIM\\]** 진행사항\n",
        "\n",
        "신록예찬  \n",
        "2023-08-08\n",
        "\n",
        "# 진행사항\n",
        "\n",
        "[EPT_DISSIM: visualization\n",
        "(23.08.07)](http://210.117.173.182:9242/edit?id=a12e9a50-3cb9-11ee-2e33-bb236a29b196)\n",
        "\n",
        "-   PRCP_KOR 자료에 대한 시각화"
      ],
      "id": "122841ff-f08c-46a5-879c-9d13403a2317"
    }
  ],
  "nbformat": 4,
  "nbformat_minor": 5,
  "metadata": {
    "kernelspec": {
      "name": "python3",
      "display_name": "Python 3 (ipykernel)",
      "language": "python"
    },
    "language_info": {
      "name": "python",
      "codemirror_mode": {
        "name": "ipython",
        "version": "3"
      },
      "file_extension": ".py",
      "mimetype": "text/x-python",
      "nbconvert_exporter": "python",
      "pygments_lexer": "ipython3",
      "version": "3.11.4"
    }
  }
}