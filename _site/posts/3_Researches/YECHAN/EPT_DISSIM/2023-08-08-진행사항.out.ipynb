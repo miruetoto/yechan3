{
  "cells": [
    {
      "cell_type": "markdown",
      "metadata": {},
      "source": [
        "# **\\[EPT-DISSIM\\]** 진행사항\n",
        "\n",
        "신록예찬  \n",
        "2023-08-08\n",
        "\n",
        "# 진행사항\n",
        "\n",
        "[EPT_DISSIM: visualization\n",
        "(23.08.07)](http://210.117.173.182:1234/edit?id=f8ba73c8-39e6-11ee-33b5-f5cea1bacfb8)\n",
        "\n",
        "-   PRCP_KOR 자료에 대한 시각화"
      ],
      "id": "4f00e1ed-13ae-45ea-adb5-abd1d7d033f3"
    }
  ],
  "nbformat": 4,
  "nbformat_minor": 5,
  "metadata": {
    "kernelspec": {
      "name": "python3",
      "display_name": "Python 3 (ipykernel)",
      "language": "python"
    },
    "language_info": {
      "name": "python",
      "codemirror_mode": {
        "name": "ipython",
        "version": "3"
      },
      "file_extension": ".py",
      "mimetype": "text/x-python",
      "nbconvert_exporter": "python",
      "pygments_lexer": "ipython3",
      "version": "3.11.4"
    }
  }
}