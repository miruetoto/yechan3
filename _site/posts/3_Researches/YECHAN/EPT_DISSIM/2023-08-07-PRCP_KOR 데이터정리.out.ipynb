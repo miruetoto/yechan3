{
  "cells": [
    {
      "cell_type": "markdown",
      "metadata": {},
      "source": [
        "# **\\[EPT-DISSIM\\]** PRCP_KOR 데이터정리\n",
        "\n",
        "신록예찬  \n",
        "2023-08-07"
      ],
      "id": "94dd642e-5a81-4f3a-9735-765e81eb36b9"
    },
    {
      "cell_type": "code",
      "execution_count": 2,
      "metadata": {},
      "outputs": [],
      "source": [
        "import pandas as pd"
      ],
      "id": "6ca2e10b-c056-40e1-a57e-8e25c9792471"
    },
    {
      "cell_type": "markdown",
      "metadata": {},
      "source": [
        "`1`. load raw-data"
      ],
      "id": "64ff45a6-969e-4f45-91db-fe4778f1d3fc"
    },
    {
      "cell_type": "code",
      "execution_count": 9,
      "metadata": {},
      "outputs": [],
      "source": [
        "df = pd.read_csv(\"OBS_ASOS_DD_20230807193646.csv\", encoding='EUC-KR')\n",
        "df = df.rename({'지점':'Station_ID','지점명':'Station_Name','일시':'Date','일강수량(mm)':'Precipitation'},axis=1)\n",
        "df"
      ],
      "id": "0984089c-1452-49da-b679-218bf33dacce"
    },
    {
      "cell_type": "markdown",
      "metadata": {},
      "source": [
        "`2`. save dataframe as `PRCP_KOR.csv`"
      ],
      "id": "4449a64f-d1e9-4c29-b026-edf0c7be001b"
    },
    {
      "cell_type": "code",
      "execution_count": 10,
      "metadata": {},
      "outputs": [],
      "source": [
        "df.to_csv('PRCP_KOR.csv',index=False)"
      ],
      "id": "2333ce89-2f0a-4882-98c0-6be9ffe9a490"
    }
  ],
  "nbformat": 4,
  "nbformat_minor": 5,
  "metadata": {
    "kernelspec": {
      "name": "python3",
      "display_name": "Python 3 (ipykernel)",
      "language": "python"
    },
    "language_info": {
      "name": "python",
      "codemirror_mode": {
        "name": "ipython",
        "version": "3"
      },
      "file_extension": ".py",
      "mimetype": "text/x-python",
      "nbconvert_exporter": "python",
      "pygments_lexer": "ipython3",
      "version": "3.11.4"
    }
  }
}