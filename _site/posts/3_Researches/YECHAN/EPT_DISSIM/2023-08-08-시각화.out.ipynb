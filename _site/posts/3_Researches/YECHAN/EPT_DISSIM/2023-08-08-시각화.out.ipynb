{
  "cells": [
    {
      "cell_type": "markdown",
      "metadata": {},
      "source": [
        "# **\\[EPT-DISSIM\\]** 시각화\n",
        "\n",
        "신록예찬  \n",
        "2023-08-08"
      ],
      "id": "34ad841c-43b2-4133-b20a-5a9dbbb984b0"
    },
    {
      "cell_type": "code",
      "execution_count": 11,
      "metadata": {},
      "outputs": [],
      "source": [
        "import pandas as pd"
      ],
      "id": "39261e06-d0f1-44e1-a414-2946b381342a"
    },
    {
      "cell_type": "code",
      "execution_count": 16,
      "metadata": {},
      "outputs": [],
      "source": [
        "df = pd.read_csv('https://media.githubusercontent.com/media/miruetoto/yechan3/main/posts/3_Researches/YECHAN/EPT_DISSIM/india_tidy.csv')\n",
        "df"
      ],
      "id": "dea57c0b-481b-4de6-a5bc-365fbbae770b"
    },
    {
      "cell_type": "markdown",
      "metadata": {},
      "source": [
        "# plot all data"
      ],
      "id": "d2d54a2d-7f43-4800-9740-f3c095888a4d"
    },
    {
      "cell_type": "code",
      "execution_count": 15,
      "metadata": {},
      "outputs": [],
      "source": [
        "df.SUBDIVISION."
      ],
      "id": "c74a8658-9886-484a-83bf-ce2db6946801"
    }
  ],
  "nbformat": 4,
  "nbformat_minor": 5,
  "metadata": {
    "kernelspec": {
      "name": "python3",
      "display_name": "Python 3 (ipykernel)",
      "language": "python"
    },
    "language_info": {
      "name": "python",
      "codemirror_mode": {
        "name": "ipython",
        "version": "3"
      },
      "file_extension": ".py",
      "mimetype": "text/x-python",
      "nbconvert_exporter": "python",
      "pygments_lexer": "ipython3",
      "version": "3.11.4"
    }
  }
}