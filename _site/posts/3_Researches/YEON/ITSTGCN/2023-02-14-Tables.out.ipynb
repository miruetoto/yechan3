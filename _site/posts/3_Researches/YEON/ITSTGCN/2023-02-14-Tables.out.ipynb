{
  "cells": [
    {
      "cell_type": "markdown",
      "metadata": {},
      "source": [
        "# **\\[IT-STGCN\\]** Tables\n",
        "\n",
        "신록예찬  \n",
        "2022-12-29"
      ],
      "id": "56903c99-7dc7-474f-8f8d-6b49135f4356"
    },
    {
      "cell_type": "code",
      "execution_count": 21,
      "metadata": {},
      "outputs": [],
      "source": [
        "import pandas as pd"
      ],
      "id": "ee1321f9-c23c-49bd-bccf-b11726729453"
    },
    {
      "cell_type": "markdown",
      "metadata": {},
      "source": [
        "`-` Dataset 5nodes"
      ],
      "id": "8855538b-60b7-4ca4-abc5-6be35b7163ed"
    },
    {
      "cell_type": "code",
      "execution_count": 22,
      "metadata": {},
      "outputs": [],
      "source": [
        "col = ['Dataset','iteration', 'method', 'missingrate', 'missingtype', 'lag', 'number_of_filters', 'interpolation','MSE_train', 'MSE_test',]"
      ],
      "id": "322221b7-6c21-4520-9083-bc6c5087202e"
    },
    {
      "cell_type": "code",
      "execution_count": 23,
      "metadata": {},
      "outputs": [],
      "source": [
        "df = pd.DataFrame(columns=col)\n",
        "df"
      ],
      "id": "17dd2a14-e5b3-42c5-8dec-07b40506569f"
    },
    {
      "cell_type": "markdown",
      "metadata": {},
      "source": [
        "`-` 실험마다 아래와 같은식으로 추가"
      ],
      "id": "99191561-7549-442e-a48f-44c521ca1ee2"
    },
    {
      "cell_type": "code",
      "execution_count": 24,
      "metadata": {},
      "outputs": [],
      "source": [
        "df_row = pd.DataFrame(columns=col)\n",
        "df_row['Dataset'] = 'fivenodes', # ...\n",
        "df_row['iteration'] = 1, # 1,2,3,...,10 \n",
        "df_row['method'] = 'stgcn', # 'stgcn','estgcn','gnar' \n",
        "df_row['missingrate'] = 0.0, # 0.0, 0.2, 0.4, 0.6, 0.8 \n",
        "df_row['missingtype'] = None,  # None, 'randomly' and 'block' \n",
        "df_row['lag'] = 1, # 1,2,3,4 ... \n",
        "df_row['number_of_filters'] = 16, # 16,24,32, ... \n",
        "df_row['interpolation'] = None, # None, 'mean', 'linear'\n",
        "df_row['MSE_train'] = 0.96 \n",
        "df_row['MSE_test'] = 0.55"
      ],
      "id": "62dd7902-930c-4373-98a3-79bf244ab4a1"
    },
    {
      "cell_type": "code",
      "execution_count": 25,
      "metadata": {},
      "outputs": [],
      "source": [
        "df = pd.concat([df,df_row])\n",
        "df"
      ],
      "id": "051cc491-7529-40d3-8031-b22e6cf5c9ea"
    },
    {
      "cell_type": "code",
      "execution_count": 26,
      "metadata": {},
      "outputs": [],
      "source": [
        "df_row = pd.DataFrame(columns=col)\n",
        "df_row['Dataset'] = 'fivenodes', # ...\n",
        "df_row['iteration'] = 1, # 1,2,3,...,10 \n",
        "df_row['method'] = 'stgcn', # 'stgcn','estgcn','gnar' \n",
        "df_row['missingrate'] = 0.2, # 0.0, 0.2, 0.4, 0.6, 0.8 \n",
        "df_row['missingtype'] = 'randomly',  # None, 'randomly' and 'block' \n",
        "df_row['lag'] = 1, # 1,2,3,4 ... \n",
        "df_row['number_of_filters'] = 16, # 16,24,32, ... \n",
        "df_row['interpolation'] = 'mean', # None, 'mean', 'linear'\n",
        "df_row['MSE_train'] = 1.23\n",
        "df_row['MSE_test'] = 0.88"
      ],
      "id": "acb3f4b0-a6ea-4e0b-b454-62751d3dd199"
    },
    {
      "cell_type": "code",
      "execution_count": 27,
      "metadata": {},
      "outputs": [],
      "source": [
        "df = pd.concat([df,df_row])\n",
        "df"
      ],
      "id": "1ec34fee-edcd-4dcc-a32e-2977dafd1b56"
    }
  ],
  "nbformat": 4,
  "nbformat_minor": 5,
  "metadata": {
    "kernelspec": {
      "name": "python3",
      "display_name": "Python 3",
      "language": "python"
    },
    "language_info": {
      "name": "python",
      "codemirror_mode": {
        "name": "ipython",
        "version": "3"
      },
      "file_extension": ".py",
      "mimetype": "text/x-python",
      "nbconvert_exporter": "python",
      "pygments_lexer": "ipython3",
      "version": "3.8.16"
    }
  }
}