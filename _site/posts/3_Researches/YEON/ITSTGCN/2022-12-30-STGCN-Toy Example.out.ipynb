{
  "cells": [
    {
      "cell_type": "markdown",
      "metadata": {},
      "source": [
        "# **\\[IT-STGCN\\]** STGCN: Toy Example\n",
        "\n",
        "신록예찬  \n",
        "2022-12-30\n",
        "\n",
        "# imports"
      ],
      "id": "56ac3969-da1d-4399-bee3-ff67fec66204"
    },
    {
      "cell_type": "code",
      "execution_count": 6,
      "metadata": {},
      "outputs": [],
      "source": [
        "import networkx as nx\n",
        "import numpy as np\n",
        "import matplotlib.pyplot as plt\n",
        "import pandas as pd\n",
        "import torch"
      ],
      "id": "470c88a3-2a3a-4107-aff3-58c2fd51891b"
    },
    {
      "cell_type": "markdown",
      "metadata": {},
      "source": [
        "# 공식홈페이지 예제\n",
        "\n",
        "## data"
      ],
      "id": "50351446-7bae-4900-a14d-69d4cfca9809"
    },
    {
      "cell_type": "code",
      "execution_count": 7,
      "metadata": {},
      "outputs": [],
      "source": [
        "from torch_geometric_temporal.dataset import WikiMathsDatasetLoader\n",
        "from torch_geometric_temporal.signal import temporal_signal_split\n",
        "\n",
        "loader = WikiMathsDatasetLoader()\n",
        "\n",
        "dataset = loader.get_dataset(lags=14)\n",
        "\n",
        "train_dataset, test_dataset = temporal_signal_split(dataset, train_ratio=0.5)"
      ],
      "id": "af99b00c-915e-4948-ac43-0cb4fc686af3"
    },
    {
      "cell_type": "markdown",
      "metadata": {},
      "source": [
        "## RecurrentGCN"
      ],
      "id": "e60f9832-263b-4219-a9cc-5b08f200b47a"
    },
    {
      "cell_type": "code",
      "execution_count": 8,
      "metadata": {},
      "outputs": [],
      "source": [
        "import torch\n",
        "import torch.nn.functional as F\n",
        "from torch_geometric_temporal.nn.recurrent import GConvGRU\n",
        "\n",
        "class RecurrentGCN(torch.nn.Module):\n",
        "    def __init__(self, node_features, filters):\n",
        "        super(RecurrentGCN, self).__init__()\n",
        "        self.recurrent = GConvGRU(node_features, filters, 2)\n",
        "        self.linear = torch.nn.Linear(filters, 1)\n",
        "\n",
        "    def forward(self, x, edge_index, edge_weight):\n",
        "        h = self.recurrent(x, edge_index, edge_weight)\n",
        "        h = F.relu(h)\n",
        "        h = self.linear(h)\n",
        "        return h"
      ],
      "id": "145dd3ba-a100-4da5-820b-2f31133beb13"
    },
    {
      "cell_type": "markdown",
      "metadata": {},
      "source": [
        "## Learn"
      ],
      "id": "7d0f284e-66a4-40a7-bc04-bd219491cbe9"
    },
    {
      "cell_type": "code",
      "execution_count": 9,
      "metadata": {},
      "outputs": [],
      "source": [
        "# from tqdm import tqdm\n",
        "\n",
        "# model = RecurrentGCN(node_features=14, filters=32)\n",
        "\n",
        "# optimizer = torch.optim.Adam(model.parameters(), lr=0.01)\n",
        "\n",
        "# model.train()\n",
        "\n",
        "# for epoch in tqdm(range(50)):\n",
        "#     for time, snapshot in enumerate(train_dataset):\n",
        "#         y_hat = model(snapshot.x, snapshot.edge_index, snapshot.edge_attr)\n",
        "#         cost = torch.mean((y_hat-snapshot.y)**2)\n",
        "#         cost.backward()\n",
        "#         optimizer.step()\n",
        "#         optimizer.zero_grad()"
      ],
      "id": "1f313c7e-f609-428b-bf58-6fbb78db6f58"
    },
    {
      "cell_type": "code",
      "execution_count": 10,
      "metadata": {},
      "outputs": [],
      "source": [
        "model = RecurrentGCN(node_features=14, filters=32)\n",
        "model.train()"
      ],
      "id": "422ff3cf-8b7f-4a25-aacc-cb2391d9d784"
    },
    {
      "cell_type": "code",
      "execution_count": 13,
      "metadata": {},
      "outputs": [
        {
          "output_type": "stream",
          "name": "stdout",
          "text": [
            "torch.Size([1068, 1068])\n",
            "torch.Size([1068, 1068])\n",
            "torch.Size([1068, 1068])\n",
            "torch.Size([1068, 1068])\n",
            "torch.Size([1068, 1068])\n",
            "torch.Size([1068, 1068])\n",
            "torch.Size([1068, 1068])\n",
            "torch.Size([1068, 1068])\n",
            "torch.Size([1068, 1068])\n",
            "torch.Size([1068, 1068])\n",
            "torch.Size([1068, 1068])\n",
            "torch.Size([1068, 1068])\n",
            "torch.Size([1068, 1068])\n",
            "torch.Size([1068, 1068])\n",
            "torch.Size([1068, 1068])\n",
            "torch.Size([1068, 1068])\n",
            "torch.Size([1068, 1068])\n",
            "torch.Size([1068, 1068])\n",
            "torch.Size([1068, 1068])\n",
            "torch.Size([1068, 1068])\n",
            "torch.Size([1068, 1068])\n",
            "torch.Size([1068, 1068])\n",
            "torch.Size([1068, 1068])\n",
            "torch.Size([1068, 1068])\n",
            "torch.Size([1068, 1068])\n",
            "torch.Size([1068, 1068])\n",
            "torch.Size([1068, 1068])\n",
            "torch.Size([1068, 1068])\n",
            "torch.Size([1068, 1068])\n",
            "torch.Size([1068, 1068])\n",
            "torch.Size([1068, 1068])\n",
            "torch.Size([1068, 1068])\n",
            "torch.Size([1068, 1068])\n",
            "torch.Size([1068, 1068])\n",
            "torch.Size([1068, 1068])\n",
            "torch.Size([1068, 1068])\n",
            "torch.Size([1068, 1068])\n",
            "torch.Size([1068, 1068])\n",
            "torch.Size([1068, 1068])\n",
            "torch.Size([1068, 1068])\n",
            "torch.Size([1068, 1068])\n",
            "torch.Size([1068, 1068])\n",
            "torch.Size([1068, 1068])\n",
            "torch.Size([1068, 1068])\n",
            "torch.Size([1068, 1068])\n",
            "torch.Size([1068, 1068])\n",
            "torch.Size([1068, 1068])\n",
            "torch.Size([1068, 1068])\n",
            "torch.Size([1068, 1068])\n",
            "torch.Size([1068, 1068])\n",
            "torch.Size([1068, 1068])\n",
            "torch.Size([1068, 1068])\n",
            "torch.Size([1068, 1068])\n",
            "torch.Size([1068, 1068])\n",
            "torch.Size([1068, 1068])\n",
            "torch.Size([1068, 1068])\n",
            "torch.Size([1068, 1068])\n",
            "torch.Size([1068, 1068])\n",
            "torch.Size([1068, 1068])\n",
            "torch.Size([1068, 1068])\n",
            "torch.Size([1068, 1068])\n",
            "torch.Size([1068, 1068])\n",
            "torch.Size([1068, 1068])\n",
            "torch.Size([1068, 1068])\n",
            "torch.Size([1068, 1068])\n",
            "torch.Size([1068, 1068])\n",
            "torch.Size([1068, 1068])\n",
            "torch.Size([1068, 1068])\n",
            "torch.Size([1068, 1068])\n",
            "torch.Size([1068, 1068])\n",
            "torch.Size([1068, 1068])\n",
            "torch.Size([1068, 1068])\n",
            "torch.Size([1068, 1068])\n",
            "torch.Size([1068, 1068])\n",
            "torch.Size([1068, 1068])\n",
            "torch.Size([1068, 1068])\n",
            "torch.Size([1068, 1068])\n",
            "torch.Size([1068, 1068])\n",
            "torch.Size([1068, 1068])\n",
            "torch.Size([1068, 1068])\n",
            "torch.Size([1068, 1068])\n",
            "torch.Size([1068, 1068])\n",
            "torch.Size([1068, 1068])\n",
            "torch.Size([1068, 1068])\n",
            "torch.Size([1068, 1068])\n",
            "torch.Size([1068, 1068])\n",
            "torch.Size([1068, 1068])\n",
            "torch.Size([1068, 1068])\n",
            "torch.Size([1068, 1068])\n",
            "torch.Size([1068, 1068])\n",
            "torch.Size([1068, 1068])\n",
            "torch.Size([1068, 1068])\n",
            "torch.Size([1068, 1068])\n",
            "torch.Size([1068, 1068])\n",
            "torch.Size([1068, 1068])\n",
            "torch.Size([1068, 1068])\n",
            "torch.Size([1068, 1068])\n",
            "torch.Size([1068, 1068])\n",
            "torch.Size([1068, 1068])\n",
            "torch.Size([1068, 1068])\n",
            "torch.Size([1068, 1068])\n",
            "torch.Size([1068, 1068])\n",
            "torch.Size([1068, 1068])\n",
            "torch.Size([1068, 1068])\n",
            "torch.Size([1068, 1068])\n",
            "torch.Size([1068, 1068])\n",
            "torch.Size([1068, 1068])\n",
            "torch.Size([1068, 1068])\n",
            "torch.Size([1068, 1068])\n",
            "torch.Size([1068, 1068])\n",
            "torch.Size([1068, 1068])\n",
            "torch.Size([1068, 1068])\n",
            "torch.Size([1068, 1068])\n",
            "torch.Size([1068, 1068])\n",
            "torch.Size([1068, 1068])\n",
            "torch.Size([1068, 1068])\n",
            "torch.Size([1068, 1068])\n",
            "torch.Size([1068, 1068])\n",
            "torch.Size([1068, 1068])\n",
            "torch.Size([1068, 1068])\n",
            "torch.Size([1068, 1068])\n",
            "torch.Size([1068, 1068])\n",
            "torch.Size([1068, 1068])\n",
            "torch.Size([1068, 1068])\n",
            "torch.Size([1068, 1068])\n",
            "torch.Size([1068, 1068])\n",
            "torch.Size([1068, 1068])\n",
            "torch.Size([1068, 1068])\n",
            "torch.Size([1068, 1068])\n",
            "torch.Size([1068, 1068])\n",
            "torch.Size([1068, 1068])\n",
            "torch.Size([1068, 1068])\n",
            "torch.Size([1068, 1068])\n",
            "torch.Size([1068, 1068])\n",
            "torch.Size([1068, 1068])\n",
            "torch.Size([1068, 1068])\n",
            "torch.Size([1068, 1068])\n",
            "torch.Size([1068, 1068])\n",
            "torch.Size([1068, 1068])\n",
            "torch.Size([1068, 1068])\n",
            "torch.Size([1068, 1068])\n",
            "torch.Size([1068, 1068])\n",
            "torch.Size([1068, 1068])\n",
            "torch.Size([1068, 1068])\n",
            "torch.Size([1068, 1068])\n",
            "torch.Size([1068, 1068])\n",
            "torch.Size([1068, 1068])\n",
            "torch.Size([1068, 1068])\n",
            "torch.Size([1068, 1068])\n",
            "torch.Size([1068, 1068])\n",
            "torch.Size([1068, 1068])\n",
            "torch.Size([1068, 1068])\n",
            "torch.Size([1068, 1068])\n",
            "torch.Size([1068, 1068])\n",
            "torch.Size([1068, 1068])\n",
            "torch.Size([1068, 1068])\n",
            "torch.Size([1068, 1068])\n",
            "torch.Size([1068, 1068])\n",
            "torch.Size([1068, 1068])\n",
            "torch.Size([1068, 1068])\n",
            "torch.Size([1068, 1068])\n",
            "torch.Size([1068, 1068])\n",
            "torch.Size([1068, 1068])\n",
            "torch.Size([1068, 1068])\n",
            "torch.Size([1068, 1068])\n",
            "torch.Size([1068, 1068])\n",
            "torch.Size([1068, 1068])\n",
            "torch.Size([1068, 1068])\n",
            "torch.Size([1068, 1068])\n",
            "torch.Size([1068, 1068])\n",
            "torch.Size([1068, 1068])\n",
            "torch.Size([1068, 1068])\n",
            "torch.Size([1068, 1068])\n",
            "torch.Size([1068, 1068])\n",
            "torch.Size([1068, 1068])\n",
            "torch.Size([1068, 1068])\n",
            "torch.Size([1068, 1068])\n",
            "torch.Size([1068, 1068])\n",
            "torch.Size([1068, 1068])\n",
            "torch.Size([1068, 1068])\n",
            "torch.Size([1068, 1068])\n",
            "torch.Size([1068, 1068])\n",
            "torch.Size([1068, 1068])\n",
            "torch.Size([1068, 1068])\n",
            "torch.Size([1068, 1068])\n",
            "torch.Size([1068, 1068])\n",
            "torch.Size([1068, 1068])\n",
            "torch.Size([1068, 1068])\n",
            "torch.Size([1068, 1068])\n",
            "torch.Size([1068, 1068])\n",
            "torch.Size([1068, 1068])\n",
            "torch.Size([1068, 1068])\n",
            "torch.Size([1068, 1068])\n",
            "torch.Size([1068, 1068])\n",
            "torch.Size([1068, 1068])\n",
            "torch.Size([1068, 1068])\n",
            "torch.Size([1068, 1068])\n",
            "torch.Size([1068, 1068])\n",
            "torch.Size([1068, 1068])\n",
            "torch.Size([1068, 1068])\n",
            "torch.Size([1068, 1068])\n",
            "torch.Size([1068, 1068])\n",
            "torch.Size([1068, 1068])\n",
            "torch.Size([1068, 1068])\n",
            "torch.Size([1068, 1068])\n",
            "torch.Size([1068, 1068])\n",
            "torch.Size([1068, 1068])\n",
            "torch.Size([1068, 1068])\n",
            "torch.Size([1068, 1068])\n",
            "torch.Size([1068, 1068])\n",
            "torch.Size([1068, 1068])\n",
            "torch.Size([1068, 1068])\n",
            "torch.Size([1068, 1068])\n",
            "torch.Size([1068, 1068])\n",
            "torch.Size([1068, 1068])\n",
            "torch.Size([1068, 1068])\n",
            "torch.Size([1068, 1068])\n",
            "torch.Size([1068, 1068])\n",
            "torch.Size([1068, 1068])\n",
            "torch.Size([1068, 1068])\n",
            "torch.Size([1068, 1068])\n",
            "torch.Size([1068, 1068])\n",
            "torch.Size([1068, 1068])\n",
            "torch.Size([1068, 1068])\n",
            "torch.Size([1068, 1068])\n",
            "torch.Size([1068, 1068])\n",
            "torch.Size([1068, 1068])\n",
            "torch.Size([1068, 1068])\n",
            "torch.Size([1068, 1068])\n",
            "torch.Size([1068, 1068])\n",
            "torch.Size([1068, 1068])\n",
            "torch.Size([1068, 1068])\n",
            "torch.Size([1068, 1068])\n",
            "torch.Size([1068, 1068])\n",
            "torch.Size([1068, 1068])\n",
            "torch.Size([1068, 1068])\n",
            "torch.Size([1068, 1068])\n",
            "torch.Size([1068, 1068])\n",
            "torch.Size([1068, 1068])\n",
            "torch.Size([1068, 1068])\n",
            "torch.Size([1068, 1068])\n",
            "torch.Size([1068, 1068])\n",
            "torch.Size([1068, 1068])\n",
            "torch.Size([1068, 1068])\n",
            "torch.Size([1068, 1068])\n",
            "torch.Size([1068, 1068])\n",
            "torch.Size([1068, 1068])\n",
            "torch.Size([1068, 1068])\n",
            "torch.Size([1068, 1068])\n",
            "torch.Size([1068, 1068])\n",
            "torch.Size([1068, 1068])\n",
            "torch.Size([1068, 1068])\n",
            "torch.Size([1068, 1068])\n",
            "torch.Size([1068, 1068])\n",
            "torch.Size([1068, 1068])\n",
            "torch.Size([1068, 1068])\n",
            "torch.Size([1068, 1068])\n",
            "torch.Size([1068, 1068])\n",
            "torch.Size([1068, 1068])\n",
            "torch.Size([1068, 1068])\n",
            "torch.Size([1068, 1068])\n",
            "torch.Size([1068, 1068])\n",
            "torch.Size([1068, 1068])\n",
            "torch.Size([1068, 1068])\n",
            "torch.Size([1068, 1068])\n",
            "torch.Size([1068, 1068])\n",
            "torch.Size([1068, 1068])\n",
            "torch.Size([1068, 1068])\n",
            "torch.Size([1068, 1068])\n",
            "torch.Size([1068, 1068])\n",
            "torch.Size([1068, 1068])\n",
            "torch.Size([1068, 1068])\n",
            "torch.Size([1068, 1068])\n",
            "torch.Size([1068, 1068])\n",
            "torch.Size([1068, 1068])\n",
            "torch.Size([1068, 1068])\n",
            "torch.Size([1068, 1068])\n",
            "torch.Size([1068, 1068])\n",
            "torch.Size([1068, 1068])\n",
            "torch.Size([1068, 1068])\n",
            "torch.Size([1068, 1068])\n",
            "torch.Size([1068, 1068])\n",
            "torch.Size([1068, 1068])\n",
            "torch.Size([1068, 1068])\n",
            "torch.Size([1068, 1068])\n",
            "torch.Size([1068, 1068])\n",
            "torch.Size([1068, 1068])\n",
            "torch.Size([1068, 1068])\n",
            "torch.Size([1068, 1068])\n",
            "torch.Size([1068, 1068])\n",
            "torch.Size([1068, 1068])\n",
            "torch.Size([1068, 1068])\n",
            "torch.Size([1068, 1068])\n",
            "torch.Size([1068, 1068])\n",
            "torch.Size([1068, 1068])\n",
            "torch.Size([1068, 1068])\n",
            "torch.Size([1068, 1068])\n",
            "torch.Size([1068, 1068])\n",
            "torch.Size([1068, 1068])\n",
            "torch.Size([1068, 1068])\n",
            "torch.Size([1068, 1068])\n",
            "torch.Size([1068, 1068])\n",
            "torch.Size([1068, 1068])\n",
            "torch.Size([1068, 1068])\n",
            "torch.Size([1068, 1068])\n",
            "torch.Size([1068, 1068])\n",
            "torch.Size([1068, 1068])\n",
            "torch.Size([1068, 1068])\n",
            "torch.Size([1068, 1068])\n",
            "torch.Size([1068, 1068])\n",
            "torch.Size([1068, 1068])\n",
            "torch.Size([1068, 1068])\n",
            "torch.Size([1068, 1068])\n",
            "torch.Size([1068, 1068])\n",
            "torch.Size([1068, 1068])\n",
            "torch.Size([1068, 1068])\n",
            "torch.Size([1068, 1068])\n",
            "torch.Size([1068, 1068])\n",
            "torch.Size([1068, 1068])\n",
            "torch.Size([1068, 1068])\n",
            "torch.Size([1068, 1068])\n",
            "torch.Size([1068, 1068])\n",
            "torch.Size([1068, 1068])\n",
            "torch.Size([1068, 1068])\n",
            "torch.Size([1068, 1068])\n",
            "torch.Size([1068, 1068])\n",
            "torch.Size([1068, 1068])\n",
            "torch.Size([1068, 1068])\n",
            "torch.Size([1068, 1068])\n",
            "torch.Size([1068, 1068])\n",
            "torch.Size([1068, 1068])\n",
            "torch.Size([1068, 1068])\n",
            "torch.Size([1068, 1068])\n",
            "torch.Size([1068, 1068])\n",
            "torch.Size([1068, 1068])\n",
            "torch.Size([1068, 1068])\n",
            "torch.Size([1068, 1068])\n",
            "torch.Size([1068, 1068])\n",
            "torch.Size([1068, 1068])\n",
            "torch.Size([1068, 1068])\n",
            "torch.Size([1068, 1068])\n",
            "torch.Size([1068, 1068])\n",
            "torch.Size([1068, 1068])\n",
            "torch.Size([1068, 1068])\n",
            "torch.Size([1068, 1068])\n",
            "torch.Size([1068, 1068])\n",
            "torch.Size([1068, 1068])\n",
            "torch.Size([1068, 1068])\n",
            "torch.Size([1068, 1068])\n",
            "torch.Size([1068, 1068])\n",
            "torch.Size([1068, 1068])\n",
            "torch.Size([1068, 1068])\n",
            "torch.Size([1068, 1068])\n",
            "torch.Size([1068, 1068])\n",
            "torch.Size([1068, 1068])\n",
            "torch.Size([1068, 1068])\n",
            "torch.Size([1068, 1068])\n",
            "torch.Size([1068, 1068])"
          ]
        }
      ],
      "source": [
        "for s in train_dataset:\n",
        "    print((s.y-model(s.x,s.edge_index,s.edge_attr)).shape)"
      ],
      "id": "c4e4975f-5046-4019-8765-226919d35b24"
    },
    {
      "cell_type": "markdown",
      "metadata": {},
      "source": [
        "## 예제의 차원 조사"
      ],
      "id": "592b8731-48f7-4dd3-9a17-1c752cb78348"
    },
    {
      "cell_type": "code",
      "execution_count": 83,
      "metadata": {},
      "outputs": [],
      "source": [
        "for time, snapshot in enumerate(train_dataset):\n",
        "    _x = snapshot.x \n",
        "    _edge_index = snapshot.edge_index \n",
        "    _edge_attr = snapshot.edge_attr\n",
        "    _y = snapshot.y\n",
        "    break"
      ],
      "id": "5d739a27-bf07-49b2-ad10-df781a217b0e"
    },
    {
      "cell_type": "code",
      "execution_count": 84,
      "metadata": {},
      "outputs": [],
      "source": [
        "_x.shape"
      ],
      "id": "f6df439e-7762-4250-a46b-988ae01a3d5e"
    },
    {
      "cell_type": "markdown",
      "metadata": {},
      "source": [
        "-   1068: number of nodes // 1068개의 노드가 있음\n",
        "-   14: number of features // 하나의 노드에 맵핑된 차원의수"
      ],
      "id": "6d19b2de-e968-446e-93c8-c63635ad5546"
    },
    {
      "cell_type": "code",
      "execution_count": 85,
      "metadata": {},
      "outputs": [],
      "source": [
        "_edge_index.shape"
      ],
      "id": "0eed55e1-6ecc-4d49-9af9-8f0dcc2bc0a6"
    },
    {
      "cell_type": "code",
      "execution_count": 86,
      "metadata": {},
      "outputs": [],
      "source": [
        "_edge_attr.shape"
      ],
      "id": "7cdb57ed-934c-44fc-b580-c74c55d4053d"
    },
    {
      "cell_type": "code",
      "execution_count": 87,
      "metadata": {},
      "outputs": [],
      "source": [
        "_y.shape"
      ],
      "id": "4900fbb4-fe74-4965-bfd2-9eabcff21123"
    },
    {
      "cell_type": "markdown",
      "metadata": {},
      "source": [
        "-   1068: number of nodes"
      ],
      "id": "8c0cfc51-905f-4073-9eae-86368bd448f5"
    },
    {
      "cell_type": "code",
      "execution_count": 88,
      "metadata": {},
      "outputs": [],
      "source": [
        "_x.shape"
      ],
      "id": "cb594261-e7df-4d67-a295-3ba14ecb7832"
    },
    {
      "cell_type": "markdown",
      "metadata": {},
      "source": [
        "# 우리예제"
      ],
      "id": "d54adcea-69f4-4967-b25b-d5199dc49c85"
    },
    {
      "cell_type": "code",
      "execution_count": 211,
      "metadata": {},
      "outputs": [],
      "source": [
        "T = 100 \n",
        "N = 2 # number of nodes \n",
        "E = np.array([[0,1],[1,0]]).T\n",
        "V = np.array([1,2])\n",
        "AMP = np.array([3,2,1,2.2])\n",
        "t = np.arange(0,T)/T*10\n",
        "node_features = 1"
      ],
      "id": "4df88068-9214-4085-976d-597a44f0a718"
    },
    {
      "cell_type": "code",
      "execution_count": 212,
      "metadata": {},
      "outputs": [],
      "source": [
        "#f = np.stack([a*np.sin(2*t**2/1000)+np.random.normal(loc=0,scale=0.2,size=T) for a in AMP],axis=1).reshape(T,N,node_features)\n",
        "#f = torch.tensor(f).float()"
      ],
      "id": "a0e65370-6559-4569-b686-2e86d685c342"
    },
    {
      "cell_type": "code",
      "execution_count": 213,
      "metadata": {},
      "outputs": [],
      "source": [
        "x = 0.8*np.sin(2*t)+0.5*np.sin(5*t)+0.1*np.sin(8*t)\n",
        "y = x.copy()\n",
        "for i in range(2,T):\n",
        "    y[i] = 0.35*x[i-1] - 0.15*x[i-2] + 0.5*np.cos(0.5*t[i]) "
      ],
      "id": "d92d8084-b386-497f-a50a-a4ba6211644e"
    },
    {
      "cell_type": "code",
      "execution_count": 214,
      "metadata": {},
      "outputs": [],
      "source": [
        "f = torch.tensor(np.stack([x,y]).T.reshape(100,2,1)).float()"
      ],
      "id": "50d2f164-27fc-4fde-b45f-3b49cfb8cf58"
    },
    {
      "cell_type": "code",
      "execution_count": 215,
      "metadata": {},
      "outputs": [],
      "source": [
        "X = f[:98,:,:]\n",
        "y = f[2:,:,:]"
      ],
      "id": "fb91bd75-0625-4159-bc43-803e8386697b"
    },
    {
      "cell_type": "code",
      "execution_count": 216,
      "metadata": {},
      "outputs": [
        {
          "output_type": "display_data",
          "metadata": {},
          "data": {
            "image/png": "[encoded data removed]"
          }
        }
      ],
      "source": [
        "plt.plot(y[:,0,0],label=\"v1\")\n",
        "plt.plot(y[:,1,0],label=\"v2\")\n",
        "#plt.plot(y[:,2,0],label=\"v3\")\n",
        "#plt.plot(y[:,3,0],label=\"v4\")\n",
        "plt.legend()"
      ],
      "id": "9887725c-474e-405c-8748-e44358458b81"
    },
    {
      "cell_type": "code",
      "execution_count": 217,
      "metadata": {},
      "outputs": [],
      "source": [
        "edge_index = torch.tensor(E)\n",
        "edge_attr = torch.tensor(np.array([1,1]),dtype=torch.float32)"
      ],
      "id": "b35406e4-c439-4acd-a2af-9209c510977b"
    },
    {
      "cell_type": "code",
      "execution_count": 218,
      "metadata": {},
      "outputs": [],
      "source": [
        "_ee = enumerate(zip(X,y))"
      ],
      "id": "18ff54fb-e105-4c69-9c5e-0780f764e2f5"
    },
    {
      "cell_type": "code",
      "execution_count": 266,
      "metadata": {},
      "outputs": [
        {
          "output_type": "stream",
          "name": "stderr",
          "text": [
            "100%|██████████| 50/50 [00:16<00:00,  2.98it/s]"
          ]
        }
      ],
      "source": [
        "from tqdm import tqdm\n",
        "\n",
        "model = RecurrentGCN(node_features=1, filters=32)\n",
        "\n",
        "optimizer = torch.optim.Adam(model.parameters(), lr=0.01)\n",
        "\n",
        "model.train()\n",
        "\n",
        "for epoch in tqdm(range(50)):\n",
        "    for time, (xt,yt) in enumerate(zip(X,y)):\n",
        "        y_hat = model(xt, edge_index, edge_attr)\n",
        "        cost = torch.mean((y_hat-yt)**2)\n",
        "        cost.backward()\n",
        "        optimizer.step()\n",
        "        optimizer.zero_grad()"
      ],
      "id": "2e74e257-7193-4cf2-bf21-8943b1a0952f"
    },
    {
      "cell_type": "code",
      "execution_count": 243,
      "metadata": {},
      "outputs": [],
      "source": [
        "y_hat,yt"
      ],
      "id": "597e6323-d0eb-43c8-b39e-dea80b1e1a83"
    },
    {
      "cell_type": "code",
      "execution_count": 221,
      "metadata": {},
      "outputs": [],
      "source": [
        "yhat = torch.stack([model(xt, edge_index, edge_attr) for xt in X]).detach().numpy()"
      ],
      "id": "86419f0b-081b-4d34-8a42-fa4d0eae766d"
    },
    {
      "cell_type": "code",
      "execution_count": 222,
      "metadata": {},
      "outputs": [
        {
          "output_type": "display_data",
          "metadata": {},
          "data": {
            "image/png": "[encoded data removed]"
          }
        }
      ],
      "source": [
        "plt.plot(y[:,0,0],label=\"y in V1\")\n",
        "plt.plot(yhat[:,0,0],label=\"yhat in V1\")\n",
        "plt.legend()"
      ],
      "id": "3c54d4b8-890d-4b28-a3c7-4fa631812877"
    },
    {
      "cell_type": "code",
      "execution_count": 223,
      "metadata": {},
      "outputs": [
        {
          "output_type": "display_data",
          "metadata": {},
          "data": {
            "image/png": "[encoded data removed]"
          }
        }
      ],
      "source": [
        "plt.plot(y[:,1,0],label=\"y in V2\")\n",
        "plt.plot(yhat[:,1,0],label=\"yhat in V2\")\n",
        "plt.legend()"
      ],
      "id": "e2c5f27e-924e-4fb1-9cc2-a0a666ddf2a4"
    }
  ],
  "nbformat": 4,
  "nbformat_minor": 5,
  "metadata": {
    "kernelspec": {
      "name": "python3",
      "display_name": "Python 3",
      "language": "python"
    },
    "language_info": {
      "name": "python",
      "codemirror_mode": {
        "name": "ipython",
        "version": "3"
      },
      "file_extension": ".py",
      "mimetype": "text/x-python",
      "nbconvert_exporter": "python",
      "pygments_lexer": "ipython3",
      "version": "3.8.16"
    }
  }
}