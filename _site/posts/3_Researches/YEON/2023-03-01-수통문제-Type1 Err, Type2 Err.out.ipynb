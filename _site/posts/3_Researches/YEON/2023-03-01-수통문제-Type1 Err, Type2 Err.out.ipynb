{
  "cells": [
    {
      "cell_type": "markdown",
      "metadata": {},
      "source": [
        "# **\\[SEOYEONC\\]** type1 err, type2 err\n",
        "\n",
        "신록예찬  \n",
        "2023-03-01"
      ],
      "id": "64ab54a9-960b-4bb5-831b-b4a81b4de60e"
    },
    {
      "cell_type": "code",
      "execution_count": 1,
      "metadata": {},
      "outputs": [],
      "source": [
        "using Distributions, Plots"
      ],
      "id": "f9c44c98-a645-4eb4-a6b9-148e06cc03e4"
    },
    {
      "cell_type": "markdown",
      "metadata": {},
      "source": [
        "**(문제)** $X_1,X_2$가 평균이 $\\theta$인 지수분포에서 추출한\n",
        "랜덤표본이라고 하자. 가설 $H_0: \\theta=2$ vs $H_1:\\theta=1$ 에 대하여,\n",
        "$H_0$에 대한 기각영역을\n",
        "\n",
        "$$\\frac{f(x_1;\\theta=2)f(x_2;\\theta=2)}{f(x_1;\\theta=1)f(x_2;\\theta=1)}<\\frac{1}{2}$$\n",
        "\n",
        "와 같이 설정하자. 이와 같은 검정법에 대한 $\\alpha$와 $\\beta$를 구하라.\n",
        "\n",
        "**(풀이)**\n",
        "\n",
        "문제요약\n",
        "\n",
        "-   $f(x) = \\frac{1}{\\theta} \\exp(-\\frac{x}{\\theta})$ -\\> 평균이\n",
        "    $\\theta$ 인 지수분포\n",
        "\n",
        "-   검정통계량: $T=\\frac{f(x_1;2)f(x_2;2)}{f(x_1;1)f(x_2;1)}$\n",
        "\n",
        "-   $\\alpha = P(\\text{Reject $H_0$|$H_0$ is true}) = P(T<\\frac{1}{2} | \\text{$H_0$ is true})$\n",
        "\n",
        "-   $\\beta = P(\\text{Accept $H_0$|$H_1$ is true}) = P(T>\\frac{1}{2} | \\text{$H_1$ is true})$\n",
        "\n",
        "풀이시작"
      ],
      "id": "831af08d-9108-4327-bd6f-874918fae738"
    },
    {
      "cell_type": "code",
      "execution_count": 2,
      "metadata": {},
      "outputs": [],
      "source": [
        "T= x -> 0.5*exp(-0.5*x[1]) * 0.5*exp(-0.5*x[2])  / (exp(-x[1])*exp(-x[2]))"
      ],
      "id": "cecea0cf-3eea-4bb9-a000-88b4055978a6"
    },
    {
      "cell_type": "markdown",
      "metadata": {},
      "source": [
        "***$\\alpha$를 구해보자. (시뮬)***"
      ],
      "id": "3500f47b-ecaa-481a-8fb2-32cdb397d267"
    },
    {
      "cell_type": "code",
      "execution_count": 3,
      "metadata": {},
      "outputs": [],
      "source": [
        "θ=2 \n",
        "x = rand(Exponential(θ),2)"
      ],
      "id": "5aae6efb-eaa1-48d6-ab93-d87b64715738"
    },
    {
      "cell_type": "code",
      "execution_count": 4,
      "metadata": {},
      "outputs": [],
      "source": [
        "T(x)"
      ],
      "id": "2a0b7463-98fd-45e7-bfcd-6b0febd20c49"
    },
    {
      "cell_type": "code",
      "execution_count": 5,
      "metadata": {},
      "outputs": [],
      "source": [
        "Ts = [rand(Exponential(θ),2) |> T for i in 1:1400000]\n",
        "mean(Ts .< 1/2)"
      ],
      "id": "24e6c2f0-5a33-40d3-bd4d-7f7741a288fd"
    },
    {
      "cell_type": "markdown",
      "metadata": {},
      "source": [
        "***$\\beta$를 구해보자. (시뮬)***"
      ],
      "id": "70aac4bd-710c-438b-a610-9b63a7a952fe"
    },
    {
      "cell_type": "code",
      "execution_count": 6,
      "metadata": {},
      "outputs": [],
      "source": [
        "θ=1\n",
        "x = rand(Exponential(θ),2)"
      ],
      "id": "cb901206-3d06-4ebb-aca3-4323d7fd80a3"
    },
    {
      "cell_type": "code",
      "execution_count": 7,
      "metadata": {},
      "outputs": [],
      "source": [
        "Ts = [rand(Exponential(θ),2) |> T for i in 1:1400000]\n",
        "mean(Ts .> 1/2)"
      ],
      "id": "b2e58bc3-898e-451e-abd5-f16ecd2fe561"
    },
    {
      "cell_type": "markdown",
      "metadata": {},
      "source": [
        "***$\\alpha$를 구해보자. (이론)***\n",
        "\n",
        "$T(X_1,X_2) = \\frac{0.25\\exp(-0.5X_1 -0.5X_2)}{\\exp(-X_1-X_2)}=0.25\\exp(0.5X_1+0.5X_2)$\n",
        "\n",
        "\\$T(X_1,X_2)\\< (0.5X_1+0.5X_2) \\< 2 X_1+X_2\\< 2 \\$\n",
        "\n",
        "그런데 $X_1+X_2 \\sim \\chi^2(4)$ under $H_0$\n",
        "\n",
        "$P(X_1+X_2 < 2\\ln2) = \\int_0^{2\\ln2} \\frac{1}{4\\Gamma(2)}x e^{-x/2}dx=\\int_0^{\\ln2} t e^{-t}dt=\\big[t(-e^{-t})-e^{-t}\\big]_0^{\\ln2}$"
      ],
      "id": "1a6efc6f-dfa1-4a80-b446-eab51f581112"
    },
    {
      "cell_type": "code",
      "execution_count": 8,
      "metadata": {},
      "outputs": [],
      "source": [
        "t = log(2) \n",
        "u = t*(-exp(-t)) - exp(-t)\n",
        "t = 0\n",
        "l = t*(-exp(-t)) - exp(-t)"
      ],
      "id": "50082583-d375-45e7-9265-03861b2497a9"
    },
    {
      "cell_type": "code",
      "execution_count": 9,
      "metadata": {},
      "outputs": [],
      "source": [
        "u-l"
      ],
      "id": "ec29e33f-ae25-498a-9ed6-b44fad256808"
    },
    {
      "cell_type": "markdown",
      "metadata": {},
      "source": [
        "***$\\beta$를 구해보자. (이론)***\n",
        "\n",
        "\\$T(X_1,X_2)\\> (0.5X_1+0.5X_2) \\> 2 (X_1+X_2)\\> 4 \\$\n",
        "\n",
        "그런데 $2(X_1+X_2) \\sim \\chi^2(4)$ under $H_1$\n",
        "\n",
        "$P(2(X_1+X_2) > 4\\ln2) = \\int_{4\\ln2}^{\\infty}\\frac{1}{4\\Gamma(2)}x e^{-x/2}dx=\\int_{2\\ln2}^{\\infty} t e^{-t}dt=\\big[t(-e^{-t})-e^{-t}\\big]_{2\\ln2}^{\\infty}$"
      ],
      "id": "cc9bb41a-3d38-42db-bc56-31058adb5a86"
    },
    {
      "cell_type": "code",
      "execution_count": 10,
      "metadata": {},
      "outputs": [],
      "source": [
        "u = 0\n",
        "t = 2*log(2)\n",
        "l = t*(-exp(-t)) - exp(-t)\n",
        "u-l"
      ],
      "id": "e4dc4347-8921-4659-b1ee-4daa8da7a43b"
    }
  ],
  "nbformat": 4,
  "nbformat_minor": 5,
  "metadata": {
    "kernelspec": {
      "name": "julia-1.8",
      "display_name": "Julia 1.8.5",
      "language": "julia"
    },
    "language_info": {
      "name": "julia",
      "file_extension": ".jl",
      "mimetype": "application/julia",
      "version": "1.8.5"
    }
  }
}