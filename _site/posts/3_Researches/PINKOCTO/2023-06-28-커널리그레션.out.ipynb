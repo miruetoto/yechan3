{
  "cells": [
    {
      "cell_type": "markdown",
      "metadata": {},
      "source": [
        "# **\\[PINKOCTO\\]** 커널리그레션\n",
        "\n",
        "신록예찬  \n",
        "2023-06-23"
      ],
      "id": "02649b63-3be4-4f96-b39d-3eb8cf5602ea"
    },
    {
      "cell_type": "code",
      "execution_count": 187,
      "metadata": {},
      "outputs": [],
      "source": [
        "import numpy as np\n",
        "import matplotlib.pyplot as plt"
      ],
      "id": "0c915b4f-fd18-4457-ba9f-14b44f5efc88"
    },
    {
      "cell_type": "code",
      "execution_count": 199,
      "metadata": {},
      "outputs": [],
      "source": [
        "x = np.linspace(0,1,5)\n",
        "x"
      ],
      "id": "e6df4780-36d6-433e-8a39-bea0b0d92c91"
    },
    {
      "cell_type": "code",
      "execution_count": 200,
      "metadata": {},
      "outputs": [],
      "source": [
        "y = x*2 + np.random.randn(5)*0.3\n",
        "y"
      ],
      "id": "30c1245d-e4de-4922-963f-f92faf07c121"
    },
    {
      "cell_type": "code",
      "execution_count": 201,
      "metadata": {},
      "outputs": [
        {
          "output_type": "display_data",
          "metadata": {},
          "data": {
            "image/png": "[encoded data removed]"
          }
        }
      ],
      "source": [
        "plt.plot(x,y,'o')\n",
        "plt.plot(x,2*x,'--')"
      ],
      "id": "9a5230d2-8305-47ed-af23-96ce98b000f0"
    },
    {
      "cell_type": "markdown",
      "metadata": {},
      "source": [
        "$$y_i= \\sum_{i=1}^{5}\\theta_i\\exp\\left(-\\frac{|x-x_i|^2}{2h^2}\\right)$$"
      ],
      "id": "f9f21166-07ef-42b5-8aed-a2f83675b27e"
    },
    {
      "cell_type": "code",
      "execution_count": 202,
      "metadata": {},
      "outputs": [],
      "source": [
        "h= 0.15\n",
        "x0 = lambda xstar: np.exp(-(xstar-x[0])**2 / 2 / (h**2))\n",
        "x1 = lambda xstar: np.exp(-(xstar-x[1])**2 / 2 / (h**2))\n",
        "x2 = lambda xstar: np.exp(-(xstar-x[2])**2 / 2 / (h**2))\n",
        "x3 = lambda xstar: np.exp(-(xstar-x[3])**2 / 2 / (h**2))\n",
        "x4 = lambda xstar: np.exp(-(xstar-x[4])**2 / 2 / (h**2))"
      ],
      "id": "a1b102dc-a019-4161-83b6-f453dec87d39"
    },
    {
      "cell_type": "code",
      "execution_count": 203,
      "metadata": {},
      "outputs": [],
      "source": [
        "θ0 = 0\n",
        "θ1 = 0.2\n",
        "θ2 = 0.5\n",
        "θ3 = 1.0\n",
        "θ4 = 1.5"
      ],
      "id": "f43a538b-d6b9-44be-84e7-864c1a8bc6b0"
    },
    {
      "cell_type": "code",
      "execution_count": 204,
      "metadata": {},
      "outputs": [],
      "source": [
        "xstar = 0.6 "
      ],
      "id": "9544454a-c669-4f6b-8835-13dc11b33e47"
    },
    {
      "cell_type": "code",
      "execution_count": 205,
      "metadata": {},
      "outputs": [],
      "source": [
        "θ0*x0(0.6)+θ1*x1(0.6)+θ2*x2(0.6)+θ3*x3(0.6)+θ4*x4(0.6)"
      ],
      "id": "986c493c-4cee-4f0b-997e-6d53adab0d0c"
    },
    {
      "cell_type": "code",
      "execution_count": 206,
      "metadata": {},
      "outputs": [],
      "source": [
        "_yhat = lambda xstar : θ0*x0(xstar)+\\\n",
        "θ1*x1(xstar)+\\\n",
        "θ2*x2(xstar)+\\\n",
        "θ3*x3(xstar)+\\\n",
        "θ4*x4(xstar)"
      ],
      "id": "f4c7990b-c68d-4c9d-80f2-07168be0b1f2"
    },
    {
      "cell_type": "code",
      "execution_count": 207,
      "metadata": {},
      "outputs": [],
      "source": [
        "(_yhat(0)-y[0])**2"
      ],
      "id": "aae09232-baeb-450c-9f5e-d3f5e13df1b4"
    },
    {
      "cell_type": "code",
      "execution_count": 208,
      "metadata": {},
      "outputs": [],
      "source": [
        "loss = (_yhat(0)-y[0])**2 + (_yhat(0.25)-y[1])**2+ \\\n",
        "(_yhat(0.5)-y[2])**2+(_yhat(0.75)-y[3])**2+\\\n",
        "(_yhat(1)-y[4])**2\n"
      ],
      "id": "81b3af8e-c738-44d9-925e-924444bf837b"
    },
    {
      "cell_type": "markdown",
      "metadata": {},
      "source": [
        "$loss(\\theta_0,\\theta_1,\\theta_2,\\theta_3,\\theta_4)$ 를 최소화하는\n",
        "${\\boldsymbol \\theta}$를 구한다."
      ],
      "id": "07df7cc9-4310-4d19-a337-35e78d612064"
    },
    {
      "cell_type": "code",
      "execution_count": 209,
      "metadata": {},
      "outputs": [
        {
          "output_type": "display_data",
          "metadata": {},
          "data": {
            "image/png": "[encoded data removed]"
          }
        }
      ],
      "source": [
        "_x = np.linspace(0,1,1000)\n",
        "plt.plot(x,y,'o')\n",
        "plt.plot(x,2*x,'--')\n",
        "plt.plot(_x,_yhat(_x))"
      ],
      "id": "f9515417-f096-4419-98ab-a8c5366384e7"
    }
  ],
  "nbformat": 4,
  "nbformat_minor": 5,
  "metadata": {
    "kernelspec": {
      "name": "python3",
      "display_name": "Python 3",
      "language": "python"
    },
    "language_info": {
      "name": "python",
      "codemirror_mode": {
        "name": "ipython",
        "version": "3"
      },
      "file_extension": ".py",
      "mimetype": "text/x-python",
      "nbconvert_exporter": "python",
      "pygments_lexer": "ipython3",
      "version": "3.8.16"
    }
  }
}