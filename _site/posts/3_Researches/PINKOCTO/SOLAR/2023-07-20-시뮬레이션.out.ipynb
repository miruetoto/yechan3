{
  "cells": [
    {
      "cell_type": "markdown",
      "metadata": {},
      "source": [
        "# **\\[SOLAR\\]** EPT + RGCN (시뮬레이션)\n",
        "\n",
        "신록예찬  \n",
        "2023-07-20"
      ],
      "id": "0b43310b-4062-44c6-8c11-ed894e57f6aa"
    },
    {
      "cell_type": "code",
      "execution_count": 14,
      "metadata": {},
      "outputs": [],
      "source": [
        "%run 0720.py"
      ],
      "id": "1b7ba839-2de0-4ee2-9075-1d4987e53720"
    },
    {
      "cell_type": "code",
      "execution_count": 60,
      "metadata": {},
      "outputs": [],
      "source": [
        "import itertools\n",
        "import time"
      ],
      "id": "3b103378-52a9-4d7b-8cf7-03b5eafeadee"
    },
    {
      "cell_type": "code",
      "execution_count": 18,
      "metadata": {},
      "outputs": [],
      "source": [
        "# read dataframe \n",
        "df = pd.read_csv('data_eng_230710.csv')\n",
        "\n",
        "# make y, y_upper, y_period, time, regions \n",
        "y = df.loc[:,'Bukchoncheon':'Gyeongju-si'].to_numpy()\n",
        "yU = df.loc[:,'Bukchoncheon_Upper':'Gyeongju-si_Upper'].to_numpy()\n",
        "yP = np.divide(y, yU+1e-10)\n",
        "t = df.loc[:,'date']\n",
        "regions = list(df.loc[:,'Bukchoncheon':'Gyeongju-si'].columns)\n",
        "\n",
        "TRAIN_RATIO = 0.8\n",
        "T,N = len(t),len(regions) \n",
        "LEN_TEST = int(np.floor(T*(1-TRAIN_RATIO)))\n",
        "LEN_TR = T - LEN_TEST"
      ],
      "id": "d23251b9-4abe-40d2-9dae-9b167bb5eeb7"
    },
    {
      "cell_type": "code",
      "execution_count": 72,
      "metadata": {},
      "outputs": [],
      "source": [
        "import datetime"
      ],
      "id": "0823686c-d362-469c-a69b-937844395802"
    },
    {
      "cell_type": "code",
      "execution_count": 84,
      "metadata": {},
      "outputs": [
        {
          "output_type": "stream",
          "name": "stdout",
          "text": [
            "2/2"
          ]
        }
      ],
      "source": [
        "method = ['classic','proposed']\n",
        "lags = [1,2]\n",
        "filters = [1,2] \n",
        "epoch = [1,2] \n",
        "\n",
        "model_name = 'RecurrentGCN' ### 모델변경시 수정필요\n",
        "\n",
        "col = ['model', 'method', 'lags', \n",
        "       'nof_filters', 'epoch', 'calculation_time',\n",
        "       'index_time',\n",
        "       'node', 'mse']\n",
        "df = pd.DataFrame(columns=col)\n",
        "\n",
        "\n",
        "for iteration in range(30):\n",
        "    for m,l,f,e in itertools.product(method, lags, filters, epoch):\n",
        "        if m == 'classic':\n",
        "            t1 = time.time()\n",
        "            model = RecurrentGCN(node_features=l, filters=f) ### 모델변경시 수정필요\n",
        "            yhat = rgcn(y, model = model, train_ratio = TRAIN_RATIO, lags=l, epoch=e)\n",
        "            yhat[yhat < 0]= 0   \n",
        "            t2 = time.time()\n",
        "            c = t2-t1\n",
        "            t = str(datetime.datetime.now())\n",
        "            _df2 = pd.concat([pd.Series(regions),pd.Series(((y - yhat)[LEN_TR:, :] ** 2).mean(axis=0))],axis=1)\n",
        "            _df1 = pd.DataFrame([[model_name,m,l,f,e,c,t]]*N)\n",
        "            _df = pd.concat([_df1,_df2],axis=1).set_axis(col,axis=1)\n",
        "            df = pd.concat([df,_df])\n",
        "        else: # proposed \n",
        "            t1 = time.time()\n",
        "            model = RecurrentGCN(node_features=l, filters=f) ### 모델변경시 수정필요\n",
        "            yUhat = rgcn(yU, model = model, train_ratio = 0.8, lags=l, epoch=e)\n",
        "            model = RecurrentGCN(node_features=l, filters=f) ### 모델변경시 수정필요\n",
        "            yPhat = rgcn(yP, model = model, train_ratio = 0.8, lags=l, epoch=e)\n",
        "            yPhat[yPhat < 0] =0 \n",
        "            t2 = time.time()\n",
        "            c = t2-t1\n",
        "            t = str(datetime.datetime.now())\n",
        "            _df2 = pd.concat([pd.Series(regions),pd.Series(((y - yhat)[LEN_TR:, :] ** 2).mean(axis=0))],axis=1)\n",
        "            _df1 = pd.DataFrame([[model_name,m,l,f,e,c,t]]*N)\n",
        "            _df = pd.concat([_df1,_df2],axis=1).set_axis(col,axis=1)\n",
        "            df = pd.concat([df,_df])"
      ],
      "id": "832e90e6-b51f-4ee4-b174-abdb474f00ed"
    },
    {
      "cell_type": "code",
      "execution_count": 94,
      "metadata": {},
      "outputs": [],
      "source": [
        "df.groupby('index_time').agg({'mse':np.mean}).reset_index().rename({'mse':'mse_mean'},axis=1).merge(df)"
      ],
      "id": "80a7de53-901f-4678-ab40-6116d44075b2"
    }
  ],
  "nbformat": 4,
  "nbformat_minor": 5,
  "metadata": {
    "kernelspec": {
      "name": "python3",
      "display_name": "Python 3",
      "language": "python"
    },
    "language_info": {
      "name": "python",
      "codemirror_mode": {
        "name": "ipython",
        "version": "3"
      },
      "file_extension": ".py",
      "mimetype": "text/x-python",
      "nbconvert_exporter": "python",
      "pygments_lexer": "ipython3",
      "version": "3.8.16"
    }
  }
}