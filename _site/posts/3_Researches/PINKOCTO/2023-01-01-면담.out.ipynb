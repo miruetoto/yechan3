{
  "cells": [
    {
      "cell_type": "markdown",
      "metadata": {},
      "source": [
        "# **\\[PINKOCTO\\]** 면담\n",
        "\n",
        "신록예찬  \n",
        "2023-01-01\n",
        "\n",
        "**23-07-17**\n",
        "\n",
        "`-` 실험해볼것 (모형, 필터/lag, 에폭 변화하여서) 50번정도..\n",
        "\n",
        "-   에폭이 적을수록 우리가 잘맞았음.\n",
        "-   필터나 lag도 단순할수록 괜찮았음\n",
        "-   lag은 24를 넘길 필요는 없음.\n",
        "-   필터는 64이상은 필요없는듯\n",
        "\n",
        "`-` quarto 팁\n",
        "\n",
        "``` default\n",
        "quarto preview --host 210.117.173.182 --no-browser\n",
        "```\n",
        "\n",
        "`-` 파라메트릭 vs 넌파 vs 세미\n",
        "\n",
        "`-` 비트시그널\n",
        "\n",
        "`-` 발표자료 + 페이퍼작업\n",
        "\n",
        "`-` 레퍼런스정리\n",
        "\n",
        "-   GNN -\\> GCN / RGNN -\\> STGCN, ST-GCN"
      ],
      "id": "760cc3f5-137b-4827-9943-52e97cd93131"
    }
  ],
  "nbformat": 4,
  "nbformat_minor": 5,
  "metadata": {
    "kernelspec": {
      "name": "python3",
      "display_name": "Python 3",
      "language": "python"
    },
    "language_info": {
      "name": "python",
      "codemirror_mode": {
        "name": "ipython",
        "version": "3"
      },
      "file_extension": ".py",
      "mimetype": "text/x-python",
      "nbconvert_exporter": "python",
      "pygments_lexer": "ipython3",
      "version": "3.8.16"
    }
  }
}