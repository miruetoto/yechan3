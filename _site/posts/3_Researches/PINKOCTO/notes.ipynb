{
  "cells": [
    {
      "cell_type": "markdown",
      "metadata": {},
      "source": [
        "# **\\[PINKOCTO\\]** 면담\n",
        "\n",
        "신록예찬  \n",
        "2023-01-01\n",
        "\n",
        "**23-07-17**\n",
        "\n",
        "`-` 실험해볼것 (모형, 필터/lag, 에폭 변화하여서) 50번정도..\n",
        "\n",
        "-   에폭이 적을수록 우리가 잘맞았음.\n",
        "-   필터나 lag도 단순할수록 괜찮았음\n",
        "-   lag은 24를 넘길 필요는 없음.\n",
        "-   필터는 64이상은 필요없는듯\n",
        "\n",
        "`-` quarto 팁\n",
        "\n",
        "``` default\n",
        "quarto preview --host 210.117.173.182 --no-browser\n",
        "```\n",
        "\n",
        "`-` 파라메트릭 vs 넌파 vs 세미\n",
        "\n",
        "`-` 비트시그널\n",
        "\n",
        "`-` 발표자료 + 페이퍼작업\n",
        "\n",
        "`-` 레퍼런스정리\n",
        "\n",
        "-   GNN -\\> GCN / RGNN -\\> STGCN, ST-GCN\n",
        "\n",
        "**23-07-20**\n",
        "\n",
        "`-` 라마: <https://www.youtube.com/watch?v=OZbarkziC14>\n",
        "\n",
        "`-` 저널 vs 학회:\n",
        "\n",
        "-   원래개념: SCIE (~10) \\>\\>\\>\\>\\>\\> SCIE (10~50) \\>\\> SCIE(50~)\n",
        "    \\>\\>\\>\\>\\>\\> KCI \\>\\> 컨퍼런스\n",
        "-   AI분야 한정: SCIE (~10), 일부top컨퍼런스 (NIPS, AAAI, ICML, ICLR)\n",
        "    \\>\\>\\>\\>\\>\\> SCIE (10~50) \\>\\> SCIE(50~) \\>\\>\\>\\>\\>\\> KCI \\>\\>\n",
        "    컨퍼런스\n",
        "\n",
        "`-` 오타발견시알려주세요\n",
        "\n",
        "-   <https://guebin.github.io/PP2023SUM/>"
      ],
      "id": "bc185588-61b9-4cca-899b-60e37af42147"
    }
  ],
  "nbformat": 4,
  "nbformat_minor": 5,
  "metadata": {
    "kernelspec": {
      "display_name": "Python 3",
      "language": "python",
      "name": "python3"
    }
  }
}