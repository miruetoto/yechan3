{
  "cells": [
    {
      "cell_type": "markdown",
      "metadata": {},
      "source": [
        "# 보람\n",
        "\n",
        "-   <https://github.com/boram-coco>\n",
        "-   <https://boram-coco.github.io/coco/>\n",
        "-   <https://boram-coco.github.io/Scribbling/>"
      ],
      "id": "871bfbaf-308a-4d6f-93b9-b33bb01dcf38"
    }
  ],
  "nbformat": 4,
  "nbformat_minor": 5,
  "metadata": {
    "kernelspec": {
      "display_name": "Python 3",
      "language": "python",
      "name": "python3"
    }
  }
}