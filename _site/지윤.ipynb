{
  "cells": [
    {
      "cell_type": "markdown",
      "metadata": {},
      "source": [
        "# 지윤\n",
        "\n",
        "-   <https://github.com/pinkocto>\n",
        "-   <https://pinkocto.github.io/noteda/>\n",
        "-   <https://pinkocto.github.io/Quarto-Blog/>"
      ],
      "id": "160a774c-e53e-4e91-bfac-08b7419110bc"
    }
  ],
  "nbformat": 4,
  "nbformat_minor": 5,
  "metadata": {
    "kernelspec": {
      "display_name": "Python 3",
      "language": "python",
      "name": "python3"
    }
  }
}