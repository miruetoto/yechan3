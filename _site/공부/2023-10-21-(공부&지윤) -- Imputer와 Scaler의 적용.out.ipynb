{
  "cells": [
    {
      "cell_type": "markdown",
      "metadata": {},
      "source": [
        "# (공부&지윤) – Imputer와 Scaler의 적용\n",
        "\n",
        "신록예찬  \n",
        "2023-10-21"
      ],
      "id": "fe634b36-dbf1-47f4-8264-0dc3d970b147"
    },
    {
      "cell_type": "code",
      "execution_count": 19,
      "metadata": {
        "tags": []
      },
      "outputs": [],
      "source": [
        "import numpy as np \n",
        "import pandas as pd\n",
        "import sklearn.preprocessing\n",
        "import sklearn.impute "
      ],
      "id": "cfc81c59-ccee-425b-8dfb-2f932b39557f"
    },
    {
      "cell_type": "code",
      "execution_count": 18,
      "metadata": {
        "tags": []
      },
      "outputs": [],
      "source": [
        "X = pd.DataFrame({'X':[7.424885,4.201394,np.nan,np.nan,5.190914,np.nan,6.433033]})\n",
        "X"
      ],
      "id": "bad5c6a3-a950-4098-9bb3-4697ab467f8f"
    },
    {
      "cell_type": "code",
      "execution_count": 29,
      "metadata": {
        "tags": []
      },
      "outputs": [],
      "source": [
        "sclr = sklearn.preprocessing.StandardScaler()\n",
        "imputr = sklearn.impute.SimpleImputer()"
      ],
      "id": "676ed747-bfe7-4cae-82a6-e0c1b41f4345"
    },
    {
      "cell_type": "code",
      "execution_count": 30,
      "metadata": {
        "tags": []
      },
      "outputs": [],
      "source": [
        "sclr.fit(X.dropna())"
      ],
      "id": "5b0dfcf4-2577-41d0-a62b-f4e7e282c9a0"
    },
    {
      "cell_type": "code",
      "execution_count": 31,
      "metadata": {
        "tags": []
      },
      "outputs": [
        {
          "output_type": "stream",
          "name": "stderr",
          "text": [
            "/home/cgb2/anaconda3/envs/ag/lib/python3.10/site-packages/sklearn/base.py:465: UserWarning: X does not have valid feature names, but StandardScaler was fitted with feature names\n",
            "  warnings.warn("
          ]
        }
      ],
      "source": [
        "sclr.transform(imputr.fit_transform(X))"
      ],
      "id": "0ca97f74-4b4f-4506-93d6-3de8991b8f16"
    }
  ],
  "nbformat": 4,
  "nbformat_minor": 5,
  "metadata": {
    "kernelspec": {
      "name": "python3",
      "display_name": "Python 3 (ipykernel)",
      "language": "python"
    },
    "language_info": {
      "name": "python",
      "codemirror_mode": {
        "name": "ipython",
        "version": "3"
      },
      "file_extension": ".py",
      "mimetype": "text/x-python",
      "nbconvert_exporter": "python",
      "pygments_lexer": "ipython3",
      "version": "3.10.13"
    }
  }
}