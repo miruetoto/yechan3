{
  "cells": [
    {
      "cell_type": "markdown",
      "metadata": {},
      "source": [
        "# (공부) Julia – 문자와 문자열\n",
        "\n",
        "신록예찬  \n",
        "2023-10-25\n",
        "\n",
        "# 1. 문자와 문자열의 차이\n",
        "\n",
        "## A. 문자 (0차원 자료형)\n",
        "\n",
        "`-` 선언 및 자료형"
      ],
      "id": "047113c4-509c-4f56-94d6-d276b6aa42ea"
    },
    {
      "cell_type": "code",
      "execution_count": 45,
      "metadata": {
        "tags": []
      },
      "outputs": [],
      "source": [
        "'B' # 선언 "
      ],
      "id": "cfe7aa9a-bc69-4536-aed0-13d1fb416438"
    },
    {
      "cell_type": "code",
      "execution_count": 46,
      "metadata": {
        "tags": []
      },
      "outputs": [],
      "source": [
        "typeof('b') # 자료형"
      ],
      "id": "a38e94d6-e581-4183-954b-a5da12ad20c5"
    },
    {
      "cell_type": "markdown",
      "metadata": {},
      "source": [
        "## B. 문자열 (1차원 자료형)\n",
        "\n",
        "`-` 선언 및 자료형"
      ],
      "id": "21ef3f7b-2ef9-4c9a-9787-710e4b8bd367"
    },
    {
      "cell_type": "code",
      "execution_count": 43,
      "metadata": {
        "tags": []
      },
      "outputs": [],
      "source": [
        "\"A\" # 선언"
      ],
      "id": "68e5b318-5a26-4caf-84c0-1307bfb34f7e"
    },
    {
      "cell_type": "code",
      "execution_count": 44,
      "metadata": {
        "tags": []
      },
      "outputs": [],
      "source": [
        "typeof(\"A\") # 자료형"
      ],
      "id": "441194e8-8bd6-4e15-8a79-02d2b9235001"
    },
    {
      "cell_type": "markdown",
      "metadata": {},
      "source": [
        "## C. 차이점\n",
        "\n",
        "`-` `\"a\"`와 `'a'`의 차이"
      ],
      "id": "c5be11df-6c88-487f-bb8a-b4bf4b811d3f"
    },
    {
      "cell_type": "code",
      "execution_count": 13,
      "metadata": {
        "tags": []
      },
      "outputs": [],
      "source": [
        "'a' # 단일문자"
      ],
      "id": "7cf29492-5a9e-47f2-9656-21421ae8e98b"
    },
    {
      "cell_type": "code",
      "execution_count": 14,
      "metadata": {
        "tags": []
      },
      "outputs": [],
      "source": [
        "\"a\" # 문자열"
      ],
      "id": "c83bf0a3-d4c9-456f-846e-60a434133c32"
    },
    {
      "cell_type": "code",
      "execution_count": 15,
      "metadata": {
        "tags": []
      },
      "outputs": [],
      "source": [
        "\"a\"[1] # 'a'와 같음"
      ],
      "id": "c2fd5fe6-25b7-4b14-b8bf-b06554a36de6"
    },
    {
      "cell_type": "markdown",
      "metadata": {},
      "source": [
        "# 2. 문자/문자열 관련 기능\n",
        "\n",
        "## A. 문자 관련 기능\n",
        "\n",
        "`-` isuppercase: 대소문자 판단"
      ],
      "id": "eb22e619-fabd-47eb-990a-bbbb84e57902"
    },
    {
      "cell_type": "code",
      "execution_count": 7,
      "metadata": {
        "tags": []
      },
      "outputs": [],
      "source": [
        "isuppercase('a'), islowercase('a')"
      ],
      "id": "7ffa917d-87a9-4bcb-8992-198e71145b0c"
    },
    {
      "cell_type": "code",
      "execution_count": 8,
      "metadata": {
        "tags": []
      },
      "outputs": [],
      "source": [
        "isuppercase('A'), islowercase('A')"
      ],
      "id": "79498365-ff70-44fe-8132-554e3d215f10"
    },
    {
      "cell_type": "markdown",
      "metadata": {},
      "source": [
        "## B. 문자열 관련 기능\n",
        "\n",
        "`-` 문자열 슬라이싱"
      ],
      "id": "9d323f23-65d8-47b8-85ed-59b7c0560bee"
    },
    {
      "cell_type": "code",
      "execution_count": 19,
      "metadata": {
        "tags": []
      },
      "outputs": [],
      "source": [
        "str = \"Jeonbuk National University\"\n",
        "str[end-1:end]"
      ],
      "id": "6b5889cc-6d96-4d5a-b3be-1bba51658fcc"
    },
    {
      "cell_type": "markdown",
      "metadata": {},
      "source": [
        "`-` 문자열의 결합"
      ],
      "id": "5135897d-7dbc-4dce-805b-245de1191e34"
    },
    {
      "cell_type": "code",
      "execution_count": 41,
      "metadata": {
        "tags": []
      },
      "outputs": [],
      "source": [
        "\"a\"*\"b\""
      ],
      "id": "bc0a5f21-3ad2-46ed-90f1-f1d8c7647a3e"
    },
    {
      "cell_type": "markdown",
      "metadata": {},
      "source": [
        "`-` 문자열의 반복"
      ],
      "id": "189d9504-61e7-4880-9b01-0b7693fcb587"
    },
    {
      "cell_type": "code",
      "execution_count": 47,
      "metadata": {
        "tags": []
      },
      "outputs": [],
      "source": [
        "\"a\"^5"
      ],
      "id": "eca213cf-26f5-4906-8f1f-3a5240a00bb0"
    },
    {
      "cell_type": "code",
      "execution_count": 24,
      "metadata": {
        "tags": []
      },
      "outputs": [],
      "source": [
        "repeat(\"a\",5)"
      ],
      "id": "cbf4f37c-0cbd-4d00-b6dd-7b84f14a4bfc"
    },
    {
      "cell_type": "markdown",
      "metadata": {},
      "source": [
        "`-` 문자열 끼워넣기"
      ],
      "id": "cb245de0-6a65-459c-bb8c-9b62255c4181"
    },
    {
      "cell_type": "code",
      "execution_count": 25,
      "metadata": {
        "tags": []
      },
      "outputs": [],
      "source": [
        "name = \"최규빈\"\n",
        "\"제 이름은 $name 입니다\""
      ],
      "id": "eb6d05c2-041c-4151-b7ee-17c161a72fe9"
    },
    {
      "cell_type": "markdown",
      "metadata": {},
      "source": [
        "`-` 문자열 바꾸기"
      ],
      "id": "21c1d648-9c70-4752-a78b-93ff5127ff90"
    },
    {
      "cell_type": "code",
      "execution_count": 27,
      "metadata": {
        "tags": []
      },
      "outputs": [],
      "source": [
        "str = \"abcdefg\"\n",
        "replace(str, \"g\" => \"u\")"
      ],
      "id": "208dba47-b4a2-47ac-adf6-37fc7fa8760d"
    },
    {
      "cell_type": "markdown",
      "metadata": {},
      "source": [
        "`-` 문자열 나누기"
      ],
      "id": "6dbdbd2f-fbcd-48db-a074-6f435fe21c05"
    },
    {
      "cell_type": "code",
      "execution_count": 32,
      "metadata": {
        "tags": []
      },
      "outputs": [],
      "source": [
        "str = \"2023-08\"\n",
        "split(str,\"-\")"
      ],
      "id": "f07c2720-b5c0-4507-9724-28fd76d5a168"
    },
    {
      "cell_type": "markdown",
      "metadata": {},
      "source": [
        "`-` 문자열 합치기"
      ],
      "id": "aad05f66-aebf-450f-ac56-8b860376ad78"
    },
    {
      "cell_type": "code",
      "execution_count": 36,
      "metadata": {
        "tags": []
      },
      "outputs": [],
      "source": [
        "join([\"2023\",\"08\"],\"-\")"
      ],
      "id": "bcfad11d-2735-4ea6-b2f5-254f0ecc03bc"
    },
    {
      "cell_type": "code",
      "execution_count": 37,
      "metadata": {
        "tags": []
      },
      "outputs": [],
      "source": [
        "join([\"2023\",\"08\"])"
      ],
      "id": "cc246214-e547-4d9c-aea9-2355935cafeb"
    },
    {
      "cell_type": "markdown",
      "metadata": {},
      "source": [
        "`-` lowercase: 대문자를 소문자로 바꾸는 방법"
      ],
      "id": "0a46b6eb-067d-4b32-9751-f60a7a68aee1"
    },
    {
      "cell_type": "code",
      "execution_count": 21,
      "metadata": {
        "tags": []
      },
      "outputs": [],
      "source": [
        "str = \"HELLO, JULIA!\"\n",
        "lowercase(str)"
      ],
      "id": "95aafc0a-beed-44ae-8af6-fb658c32fa47"
    }
  ],
  "nbformat": 4,
  "nbformat_minor": 5,
  "metadata": {
    "kernelspec": {
      "name": "julia-1.9",
      "display_name": "Julia 1.9.2",
      "language": "julia"
    },
    "language_info": {
      "name": "julia",
      "file_extension": ".jl",
      "mimetype": "application/julia",
      "version": "1.9.2"
    }
  }
}