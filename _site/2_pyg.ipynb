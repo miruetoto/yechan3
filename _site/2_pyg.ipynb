{
  "cells": [
    {
      "cell_type": "markdown",
      "metadata": {},
      "source": [
        "# PyG"
      ],
      "id": "245ebc66-e2d3-405d-a04c-fa7ec76b0cc0"
    }
  ],
  "nbformat": 4,
  "nbformat_minor": 5,
  "metadata": {
    "kernelspec": {
      "display_name": "Python 3",
      "language": "python",
      "name": "python3"
    }
  }
}