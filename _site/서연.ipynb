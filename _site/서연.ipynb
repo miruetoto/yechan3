{
  "cells": [
    {
      "cell_type": "markdown",
      "metadata": {},
      "source": [
        "# 서연\n",
        "\n",
        "-   <https://github.com/seoyeonc>\n",
        "-   <https://seoyeonc.github.io/sy_hub/>"
      ],
      "id": "26b73162-264c-41ed-8e77-498ce8ef412f"
    }
  ],
  "nbformat": 4,
  "nbformat_minor": 5,
  "metadata": {
    "kernelspec": {
      "display_name": "Python 3",
      "language": "python",
      "name": "python3"
    }
  }
}