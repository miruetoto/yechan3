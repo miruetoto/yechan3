{
  "cells": [
    {
      "cell_type": "markdown",
      "metadata": {},
      "source": [
        "# **\\[GML\\]** Chap4: 지도 그래프 학습 - 특징 기반 방법\n",
        "\n",
        "신록예찬  \n",
        "2023-02-10\n",
        "\n",
        "# Feature based methods\n",
        "\n",
        "In this notebook we will exploring a very naive (yet powerful) approach\n",
        "for solving graph-based supervised machine learning. The idea rely on\n",
        "the classic machine learning approach of handcrafted feature extraction.\n",
        "\n",
        "In Chapter 1 you learned how local and global graph properties can be\n",
        "extracted from graphs. Those properties represent the graph itself and\n",
        "bring important informations which can be useful for classification.\n",
        "\n",
        "In this demo, we will be using the PROTEINS dataset, already integrated\n",
        "in StellarGraph"
      ],
      "id": "c1851bd4-8788-4b05-9b0f-4b54bbc13a12"
    },
    {
      "cell_type": "code",
      "execution_count": null,
      "metadata": {
        "executionInfo": {
          "elapsed": 12513,
          "status": "ok",
          "timestamp": 1611482476990,
          "user": {
            "displayName": "Aldo Marzullo",
            "photoUrl": "https://lh3.googleusercontent.com/a-/AOh14GjBD_mZewcZ8LCqkD20Nku4DR5OCGFqYkxawoUjgg=s64",
            "userId": "17245895923239449231"
          },
          "user_tz": -60
        },
        "outputId": "5b39bfb4-cc26-4a43-a20b-1cc657584e4b"
      },
      "outputs": [],
      "source": [
        "from stellargraph import datasets\n",
        "from IPython.display import display, HTML\n",
        "\n",
        "dataset = datasets.PROTEINS()\n",
        "display(HTML(dataset.description))\n",
        "graphs, graph_labels = dataset.load()"
      ],
      "id": "cell-4"
    },
    {
      "cell_type": "markdown",
      "metadata": {},
      "source": [
        "To compute the graph metrics, one way is to retrieve the adjacency\n",
        "matrix representation of each graph."
      ],
      "id": "c25ee259-4bd2-47b8-905c-2a64f1fd135f"
    },
    {
      "cell_type": "code",
      "execution_count": null,
      "metadata": {},
      "outputs": [],
      "source": [
        "# convert graphs from StellarGraph format to numpy adj matrices\n",
        "adjs = [graph.to_adjacency_matrix().A for graph in graphs]\n",
        "# convert labes fom Pandas.Series to numpy array\n",
        "labels = graph_labels.to_numpy(dtype=int)"
      ],
      "id": "cell-6"
    },
    {
      "cell_type": "code",
      "execution_count": null,
      "metadata": {},
      "outputs": [],
      "source": [
        "import numpy as np\n",
        "import networkx as nx\n",
        "\n",
        "metrics = []\n",
        "for adj in adjs:\n",
        "  G = nx.from_numpy_matrix(adj)\n",
        "  # basic properties\n",
        "  num_edges = G.number_of_edges()\n",
        "  # clustering measures\n",
        "  cc = nx.average_clustering(G)\n",
        "  # measure of efficiency\n",
        "  eff = nx.global_efficiency(G)\n",
        "\n",
        "  metrics.append([num_edges, cc, eff])\n",
        "\n"
      ],
      "id": "cell-7"
    },
    {
      "cell_type": "markdown",
      "metadata": {},
      "source": [
        "We can now exploit scikit-learn utilities to create a train and test\n",
        "set. In our experiments, we will be using 70% of the dataset as training\n",
        "set and the remaining as testset"
      ],
      "id": "6884898a-19fa-4401-b26a-5625a0a52788"
    },
    {
      "cell_type": "code",
      "execution_count": null,
      "metadata": {},
      "outputs": [],
      "source": [
        "from sklearn.model_selection import train_test_split\n",
        "X_train, X_test, y_train, y_test = train_test_split(metrics, labels, test_size=0.3, random_state=42)"
      ],
      "id": "cell-9"
    },
    {
      "cell_type": "markdown",
      "metadata": {},
      "source": [
        "As commonly done in many Machine Learning workflows, we preprocess\n",
        "features to have zero mean and unit standard deviation"
      ],
      "id": "a123c234-8166-457c-8cb8-fa01cfd219ff"
    },
    {
      "cell_type": "code",
      "execution_count": null,
      "metadata": {},
      "outputs": [],
      "source": [
        "from sklearn.preprocessing import StandardScaler\n",
        "\n",
        "scaler = StandardScaler()\n",
        "scaler.fit(X_train)\n",
        "\n",
        "X_train_scaled = scaler.transform(X_train)\n",
        "X_test_scaled = scaler.transform(X_test)"
      ],
      "id": "cell-11"
    },
    {
      "cell_type": "markdown",
      "metadata": {},
      "source": [
        "It’s now time for training a proper algorithm. We chose a support vector\n",
        "machine for this task"
      ],
      "id": "e070292d-4278-4a46-a707-4ab2f540ea57"
    },
    {
      "cell_type": "code",
      "execution_count": null,
      "metadata": {
        "executionInfo": {
          "elapsed": 613,
          "status": "ok",
          "timestamp": 1610884464690,
          "user": {
            "displayName": "Aldo Marzullo",
            "photoUrl": "https://lh3.googleusercontent.com/a-/AOh14GjBD_mZewcZ8LCqkD20Nku4DR5OCGFqYkxawoUjgg=s64",
            "userId": "17245895923239449231"
          },
          "user_tz": -60
        },
        "outputId": "6297d8fe-3cc9-435b-e8fe-b50425aaee24"
      },
      "outputs": [],
      "source": [
        "from sklearn import svm\n",
        "from sklearn.metrics import accuracy_score, precision_score, recall_score, f1_score\n",
        "\n",
        "clf = svm.SVC()\n",
        "clf.fit(X_train_scaled, y_train)\n",
        "\n",
        "y_pred = clf.predict(X_test_scaled)\n",
        "\n",
        "print('Accuracy', accuracy_score(y_test,y_pred))\n",
        "print('Precision', precision_score(y_test,y_pred))\n",
        "print('Recall', recall_score(y_test,y_pred))\n",
        "print('F1-score', f1_score(y_test,y_pred))"
      ],
      "id": "cell-13"
    }
  ],
  "nbformat": 4,
  "nbformat_minor": 5,
  "metadata": {
    "colab": {
      "name": "Supervised_GraphML.ipynb",
      "authorship_tag": "ABX9TyPz5JRYvXqH50rX95tddtHr",
      "collapsed_sections": [],
      "provenance": []
    },
    "kernelspec": {
      "name": "python3",
      "display_name": "Python 3",
      "language": "python"
    },
    "language_info": {
      "name": "python",
      "codemirror_mode": {
        "name": "ipython",
        "version": "3"
      },
      "file_extension": ".py",
      "mimetype": "text/x-python",
      "nbconvert_exporter": "python",
      "pygments_lexer": "ipython3",
      "version": "3.8.16"
    }
  }
}