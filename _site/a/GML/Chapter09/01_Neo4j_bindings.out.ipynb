{
  "cells": [
    {
      "cell_type": "markdown",
      "metadata": {},
      "source": [
        "# **\\[GML\\]** Chap9: Graph Database Connection\n",
        "\n",
        "신록예찬  \n",
        "2023-02-10\n",
        "\n",
        "# Graph Database Connection\n",
        "\n",
        "In the following, we will show you how to connect and query data on\n",
        "Neo4j, using python.\n",
        "\n",
        "**IMPORTANT NOTE**\n",
        "\n",
        "This notebook requires that you have access to a working version of\n",
        "Neo4j. In order to install Neo4j locally, we advise you to refer to the\n",
        "Neo4j webpage (https://neo4j.com/download/) or to use docker\n",
        "(https://hub.docker.com/\\_/neo4j)."
      ],
      "id": "f4979ded-9db6-40d3-aa70-8f53b861c022"
    },
    {
      "cell_type": "code",
      "execution_count": 1,
      "metadata": {},
      "outputs": [],
      "source": [
        "with open(\"./dataset/movieCreationQuery.txt\", \"rb\") as fid:\n",
        "    lines = fid.readlines()"
      ],
      "id": "cell-3"
    },
    {
      "cell_type": "code",
      "execution_count": 2,
      "metadata": {},
      "outputs": [],
      "source": [
        "query = \" \".join([line.decode(\"utf-8\").replace(\"\\n\", \"\") for line in lines])"
      ],
      "id": "cell-4"
    },
    {
      "cell_type": "code",
      "execution_count": 3,
      "metadata": {},
      "outputs": [],
      "source": [
        "from neo4j import GraphDatabase"
      ],
      "id": "cell-5"
    },
    {
      "cell_type": "code",
      "execution_count": 4,
      "metadata": {},
      "outputs": [],
      "source": [
        "uri = \"neo4j://localhost:7687\"\n",
        "driver = GraphDatabase.driver(uri, auth=(\"neo4j\", \"neo5j\"))"
      ],
      "id": "cell-6"
    },
    {
      "cell_type": "code",
      "execution_count": 5,
      "metadata": {},
      "outputs": [],
      "source": [
        "def run_query(tx, query):\n",
        "    return list(tx.run(query))"
      ],
      "id": "cell-7"
    },
    {
      "cell_type": "code",
      "execution_count": 6,
      "metadata": {},
      "outputs": [],
      "source": [
        "with driver.session() as session:\n",
        "    session.write_transaction(run_query, query)"
      ],
      "id": "cell-8"
    },
    {
      "cell_type": "markdown",
      "metadata": {},
      "source": [
        "Query"
      ],
      "id": "e883a1a6-1365-4297-85f3-aaba74d888d5"
    },
    {
      "cell_type": "code",
      "execution_count": 7,
      "metadata": {},
      "outputs": [],
      "source": [
        "query = \"MATCH (n) RETURN count(*)\""
      ],
      "id": "cell-10"
    },
    {
      "cell_type": "code",
      "execution_count": 8,
      "metadata": {},
      "outputs": [],
      "source": [
        "with driver.session() as session:\n",
        "    result = session.read_transaction(run_query, query)\n",
        "[r for r in result]"
      ],
      "id": "cell-11"
    },
    {
      "cell_type": "markdown",
      "metadata": {},
      "source": [
        "Delete"
      ],
      "id": "12bfe6ea-3dc3-411d-b946-c55c29f1cc58"
    },
    {
      "cell_type": "code",
      "execution_count": 9,
      "metadata": {},
      "outputs": [],
      "source": [
        "with driver.session() as session:\n",
        "    result = session.write_transaction(run_query, \"MATCH (n)-[e]-() DELETE n, e\")"
      ],
      "id": "cell-13"
    }
  ],
  "nbformat": 4,
  "nbformat_minor": 5,
  "metadata": {
    "kernelspec": {
      "name": "python3",
      "display_name": "Python 3",
      "language": "python"
    },
    "language_info": {
      "name": "python",
      "codemirror_mode": {
        "name": "ipython",
        "version": "3"
      },
      "file_extension": ".py",
      "mimetype": "text/x-python",
      "nbconvert_exporter": "python",
      "pygments_lexer": "ipython3",
      "version": "3.8.16"
    }
  }
}