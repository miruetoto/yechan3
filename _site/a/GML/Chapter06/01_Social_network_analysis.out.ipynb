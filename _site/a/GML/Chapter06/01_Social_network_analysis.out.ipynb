{
  "cells": [
    {
      "cell_type": "markdown",
      "metadata": {},
      "source": [
        "# **\\[GML\\]** Chap6: 소셜네트워크 그래프\n",
        "\n",
        "신록예찬  \n",
        "2023-02-10\n",
        "\n",
        "## Machine learning on Social Netowrk Graphs"
      ],
      "id": "9ea4df07-dbae-4460-923c-a8130f83e769"
    },
    {
      "cell_type": "code",
      "execution_count": null,
      "metadata": {
        "executionInfo": {
          "elapsed": 2015,
          "status": "ok",
          "timestamp": 1616871368226,
          "user": {
            "displayName": "Aldo Marzullo",
            "photoUrl": "https://lh3.googleusercontent.com/a-/AOh14GjBD_mZewcZ8LCqkD20Nku4DR5OCGFqYkxawoUjgg=s64",
            "userId": "17245895923239449231"
          },
          "user_tz": -60
        }
      },
      "outputs": [],
      "source": [
        "import os\n",
        "import math\n",
        "import numpy as np\n",
        "import networkx as nx\n",
        "import matplotlib.pyplot as plt\n",
        "%matplotlib inline\n",
        "\n",
        "default_edge_color = 'gray'\n",
        "default_node_color = '#407cc9'\n",
        "enhanced_node_color = '#f5b042'\n",
        "enhanced_edge_color = '#cc2f04'"
      ],
      "id": "cell-2"
    },
    {
      "cell_type": "markdown",
      "metadata": {},
      "source": [
        "In this chapter we will focus on using the techniques outlined in\n",
        "previous chapters to analyze the most-common example of nowadays graphs:\n",
        "Social Networks. In particular we will apply the techniques outlined in\n",
        "previous chapters to investigate the topological properties of the\n",
        "networks, such as 1. identifying relevant communities as well as 2.\n",
        "identifying particularly important nodes in the network.\n",
        "\n",
        "We will then use node embeddings to leverage on the power of topological\n",
        "information for different tasks, such as link prediction (as a potential\n",
        "recommendation engine for new friends)\n",
        "\n",
        "#### Dowload the dataset\n",
        "\n",
        "First, we need to download the dataset. We will be using the [SNAP\n",
        "Facebook social graph](http://snap.stanford.edu). The dataset was\n",
        "created by collection Facebook user information from survey\n",
        "participants. More in detail, 10 ego-networks were created from ten\n",
        "users. Each user was asked to identify all the circles (list of friends)\n",
        "to which their friends belong. Then, all the “ego-network” were combined\n",
        "in a single graph."
      ],
      "id": "786104e3-4234-4352-9d7b-eafce0886830"
    },
    {
      "cell_type": "code",
      "execution_count": null,
      "metadata": {
        "executionInfo": {
          "elapsed": 3063,
          "status": "ok",
          "timestamp": 1616871375254,
          "user": {
            "displayName": "Aldo Marzullo",
            "photoUrl": "https://lh3.googleusercontent.com/a-/AOh14GjBD_mZewcZ8LCqkD20Nku4DR5OCGFqYkxawoUjgg=s64",
            "userId": "17245895923239449231"
          },
          "user_tz": -60
        },
        "outputId": "c422ddf8-3bad-45ae-e437-67d94bc8d480"
      },
      "outputs": [],
      "source": [
        "!wget http://snap.stanford.edu/data/facebook_combined.txt.gz\n",
        "!wget http://snap.stanford.edu/data/facebook.tar.gz\n",
        "!gzip -d facebook_combined.txt.gz\n",
        "!tar -xf facebook.tar.gz"
      ],
      "id": "cell-5"
    },
    {
      "cell_type": "markdown",
      "metadata": {},
      "source": [
        "### Overview of the Dataset\n",
        "\n",
        "The code above downloads two main files: \\* a text file containing the\n",
        "edge list of the graph. The graph is actually created \\* an archive\n",
        "containing a folder (“facebook”) with all the information related to\n",
        "each ego-network"
      ],
      "id": "c3e762e9-5bb7-423b-b729-e6e9563af181"
    },
    {
      "cell_type": "code",
      "execution_count": null,
      "metadata": {
        "executionInfo": {
          "elapsed": 572,
          "status": "ok",
          "timestamp": 1615730514627,
          "user": {
            "displayName": "Aldo Marzullo",
            "photoUrl": "https://lh3.googleusercontent.com/a-/AOh14GjBD_mZewcZ8LCqkD20Nku4DR5OCGFqYkxawoUjgg=s64",
            "userId": "17245895923239449231"
          },
          "user_tz": -60
        },
        "outputId": "bb59b58d-ecf4-45ae-f867-102c84bc09b1"
      },
      "outputs": [],
      "source": [
        "# check the downloaded content\n",
        "!ls"
      ],
      "id": "cell-8"
    },
    {
      "cell_type": "code",
      "execution_count": null,
      "metadata": {
        "executionInfo": {
          "elapsed": 637,
          "status": "ok",
          "timestamp": 1615730516414,
          "user": {
            "displayName": "Aldo Marzullo",
            "photoUrl": "https://lh3.googleusercontent.com/a-/AOh14GjBD_mZewcZ8LCqkD20Nku4DR5OCGFqYkxawoUjgg=s64",
            "userId": "17245895923239449231"
          },
          "user_tz": -60
        },
        "outputId": "02b5d01a-4e08-4d95-f36c-7251248b3294"
      },
      "outputs": [],
      "source": [
        "# take a look at the first lines of the edge list\n",
        "!head facebook_combined.txt"
      ],
      "id": "cell-9"
    },
    {
      "cell_type": "markdown",
      "metadata": {},
      "source": [
        "We can now proceed loading the combined network using networkx. We will\n",
        "also load the nodeId of the 10 “ego-user”"
      ],
      "id": "cfc5734e-e113-4ef1-b2b7-4413019d8a8f"
    },
    {
      "cell_type": "code",
      "execution_count": null,
      "metadata": {
        "executionInfo": {
          "elapsed": 923,
          "status": "ok",
          "timestamp": 1616871380640,
          "user": {
            "displayName": "Aldo Marzullo",
            "photoUrl": "https://lh3.googleusercontent.com/a-/AOh14GjBD_mZewcZ8LCqkD20Nku4DR5OCGFqYkxawoUjgg=s64",
            "userId": "17245895923239449231"
          },
          "user_tz": -60
        }
      },
      "outputs": [],
      "source": [
        "G = nx.read_edgelist(\"facebook_combined.txt\", create_using=nx.Graph(), nodetype=int)"
      ],
      "id": "cell-11"
    },
    {
      "cell_type": "code",
      "execution_count": null,
      "metadata": {
        "executionInfo": {
          "elapsed": 626,
          "status": "ok",
          "timestamp": 1615730522807,
          "user": {
            "displayName": "Aldo Marzullo",
            "photoUrl": "https://lh3.googleusercontent.com/a-/AOh14GjBD_mZewcZ8LCqkD20Nku4DR5OCGFqYkxawoUjgg=s64",
            "userId": "17245895923239449231"
          },
          "user_tz": -60
        },
        "outputId": "44e5daa6-07f3-47ec-8bc7-1d3fba54d0ee"
      },
      "outputs": [],
      "source": [
        "print(nx.info(G))"
      ],
      "id": "cell-12"
    },
    {
      "cell_type": "code",
      "execution_count": null,
      "metadata": {
        "executionInfo": {
          "elapsed": 787,
          "status": "ok",
          "timestamp": 1616871385179,
          "user": {
            "displayName": "Aldo Marzullo",
            "photoUrl": "https://lh3.googleusercontent.com/a-/AOh14GjBD_mZewcZ8LCqkD20Nku4DR5OCGFqYkxawoUjgg=s64",
            "userId": "17245895923239449231"
          },
          "user_tz": -60
        }
      },
      "outputs": [],
      "source": [
        "# Each file in the \"facebook\" directory is named as nodeId.format\n",
        "# where nodeId is the id of an ego-user and format is the format of the file\n",
        "ego_nodes = set([int(name.split('.')[0]) for name in os.listdir(\"facebook/\")])"
      ],
      "id": "cell-13"
    },
    {
      "cell_type": "markdown",
      "metadata": {},
      "source": [
        "Let’s visualize the network for a deeper understanding"
      ],
      "id": "6417fe2a-b942-4a2d-a9ad-ad2fb9316292"
    },
    {
      "cell_type": "code",
      "execution_count": null,
      "metadata": {},
      "outputs": [],
      "source": [
        "#Create network layout for visualizations\n",
        "spring_pos = nx.spring_layout(G)"
      ],
      "id": "cell-15"
    },
    {
      "cell_type": "code",
      "execution_count": null,
      "metadata": {
        "executionInfo": {
          "elapsed": 2028,
          "status": "ok",
          "timestamp": 1615730581807,
          "user": {
            "displayName": "Aldo Marzullo",
            "photoUrl": "https://lh3.googleusercontent.com/a-/AOh14GjBD_mZewcZ8LCqkD20Nku4DR5OCGFqYkxawoUjgg=s64",
            "userId": "17245895923239449231"
          },
          "user_tz": -60
        },
        "outputId": "062d5b31-6091-4df7-b3e5-5914ef14aaa2"
      },
      "outputs": [],
      "source": [
        "plt.axis(\"off\")\n",
        "nx.draw_networkx(G, pos=spring_pos, node_color=default_node_color, edge_color=default_edge_color, with_labels=False, node_size=35)"
      ],
      "id": "cell-16"
    },
    {
      "cell_type": "markdown",
      "metadata": {},
      "source": [
        "### Network Analysis"
      ],
      "id": "f8401036-1bd9-4064-9cd2-40f2be9fdb06"
    },
    {
      "cell_type": "code",
      "execution_count": null,
      "metadata": {},
      "outputs": [],
      "source": [
        "def draw_metric(G, dct, spring_pos):\n",
        "  \"\"\" draw the graph G using the layout spring_pos.\n",
        "      The top 10 nodes w.r.t. values in the dictionary dct\n",
        "      are enhanced in the visualization \"\"\"\n",
        "  top = 10\n",
        "  max_nodes =  sorted(dct.items(), key = lambda v: -v[1])[:top]\n",
        "  \n",
        "  max_keys = [key for key,_ in max_nodes]\n",
        "  max_vals = [val*300 for _, val in max_nodes]\n",
        "\n",
        "  plt.axis(\"off\")\n",
        "  \n",
        "  nx.draw_networkx(G, \n",
        "                   pos=spring_pos, \n",
        "                   cmap='Blues', \n",
        "                   edge_color=default_edge_color,\n",
        "                   node_color=default_node_color, \n",
        "                   node_size=3,\n",
        "                   alpha=0.4, \n",
        "                   with_labels=False)\n",
        "  \n",
        "  nx.draw_networkx_nodes(G, \n",
        "                         pos=spring_pos, \n",
        "                         nodelist=max_keys, \n",
        "                         node_color=enhanced_edge_color,\n",
        "                         node_size=max_vals)"
      ],
      "id": "cell-18"
    },
    {
      "cell_type": "code",
      "execution_count": null,
      "metadata": {
        "executionInfo": {
          "elapsed": 628,
          "status": "ok",
          "timestamp": 1615730796465,
          "user": {
            "displayName": "Aldo Marzullo",
            "photoUrl": "https://lh3.googleusercontent.com/a-/AOh14GjBD_mZewcZ8LCqkD20Nku4DR5OCGFqYkxawoUjgg=s64",
            "userId": "17245895923239449231"
          },
          "user_tz": -60
        },
        "outputId": "c467e5de-3e8d-4f5c-f954-4f6758bf4ac6"
      },
      "outputs": [],
      "source": [
        "# betweenness centrality\n",
        "bC = nx.betweenness_centrality(G)\n",
        "np.mean(list(bC.values()))"
      ],
      "id": "cell-19"
    },
    {
      "cell_type": "code",
      "execution_count": null,
      "metadata": {
        "executionInfo": {
          "elapsed": 2515,
          "status": "ok",
          "timestamp": 1615730862198,
          "user": {
            "displayName": "Aldo Marzullo",
            "photoUrl": "https://lh3.googleusercontent.com/a-/AOh14GjBD_mZewcZ8LCqkD20Nku4DR5OCGFqYkxawoUjgg=s64",
            "userId": "17245895923239449231"
          },
          "user_tz": -60
        },
        "outputId": "412d94cc-8b6a-4e34-f665-78ce11dd3e24"
      },
      "outputs": [],
      "source": [
        "draw_metric(G,bC,spring_pos)"
      ],
      "id": "cell-20"
    },
    {
      "cell_type": "code",
      "execution_count": null,
      "metadata": {
        "executionInfo": {
          "elapsed": 41093,
          "status": "ok",
          "timestamp": 1615730944044,
          "user": {
            "displayName": "Aldo Marzullo",
            "photoUrl": "https://lh3.googleusercontent.com/a-/AOh14GjBD_mZewcZ8LCqkD20Nku4DR5OCGFqYkxawoUjgg=s64",
            "userId": "17245895923239449231"
          },
          "user_tz": -60
        },
        "outputId": "2087e3f7-c47a-42dc-d2a4-f8050dd817fd"
      },
      "outputs": [],
      "source": [
        "# global efficiency\n",
        "gE = nx.global_efficiency(G)\n",
        "print(gE)"
      ],
      "id": "cell-21"
    },
    {
      "cell_type": "code",
      "execution_count": null,
      "metadata": {
        "executionInfo": {
          "elapsed": 3097,
          "status": "ok",
          "timestamp": 1615730995901,
          "user": {
            "displayName": "Aldo Marzullo",
            "photoUrl": "https://lh3.googleusercontent.com/a-/AOh14GjBD_mZewcZ8LCqkD20Nku4DR5OCGFqYkxawoUjgg=s64",
            "userId": "17245895923239449231"
          },
          "user_tz": -60
        },
        "outputId": "854d3db6-d42e-4f5e-ea77-30840164f6af"
      },
      "outputs": [],
      "source": [
        "# average clustering\n",
        "aC = nx.average_clustering(G)\n",
        "print(aC)"
      ],
      "id": "cell-22"
    },
    {
      "cell_type": "code",
      "execution_count": null,
      "metadata": {
        "executionInfo": {
          "elapsed": 635,
          "status": "ok",
          "timestamp": 1615730998455,
          "user": {
            "displayName": "Aldo Marzullo",
            "photoUrl": "https://lh3.googleusercontent.com/a-/AOh14GjBD_mZewcZ8LCqkD20Nku4DR5OCGFqYkxawoUjgg=s64",
            "userId": "17245895923239449231"
          },
          "user_tz": -60
        },
        "outputId": "05b8e669-e338-4943-88ff-5ece3ce55a8c"
      },
      "outputs": [],
      "source": [
        "# degree centrality\n",
        "deg_C = nx.degree_centrality(G)\n",
        "np.mean(list(deg_C.values()))"
      ],
      "id": "cell-23"
    },
    {
      "cell_type": "code",
      "execution_count": null,
      "metadata": {
        "executionInfo": {
          "elapsed": 2072,
          "status": "ok",
          "timestamp": 1615731014642,
          "user": {
            "displayName": "Aldo Marzullo",
            "photoUrl": "https://lh3.googleusercontent.com/a-/AOh14GjBD_mZewcZ8LCqkD20Nku4DR5OCGFqYkxawoUjgg=s64",
            "userId": "17245895923239449231"
          },
          "user_tz": -60
        },
        "outputId": "48bfad8c-3581-48dc-cd22-4c4caa088790"
      },
      "outputs": [],
      "source": [
        "draw_metric(G,deg_C,spring_pos)"
      ],
      "id": "cell-24"
    },
    {
      "cell_type": "code",
      "execution_count": null,
      "metadata": {
        "executionInfo": {
          "elapsed": 41617,
          "status": "ok",
          "timestamp": 1615731059755,
          "user": {
            "displayName": "Aldo Marzullo",
            "photoUrl": "https://lh3.googleusercontent.com/a-/AOh14GjBD_mZewcZ8LCqkD20Nku4DR5OCGFqYkxawoUjgg=s64",
            "userId": "17245895923239449231"
          },
          "user_tz": -60
        },
        "outputId": "e5e9c70a-1327-4590-d4c4-049e0484115f"
      },
      "outputs": [],
      "source": [
        "# closeness centrality\n",
        "clos_C = nx.closeness_centrality(G)\n",
        "np.mean(list(clos_C.values()))"
      ],
      "id": "cell-25"
    },
    {
      "cell_type": "code",
      "execution_count": null,
      "metadata": {
        "executionInfo": {
          "elapsed": 257027,
          "status": "ok",
          "timestamp": 1614955028566,
          "user": {
            "displayName": "Aldo Marzullo",
            "photoUrl": "https://lh3.googleusercontent.com/a-/AOh14GjBD_mZewcZ8LCqkD20Nku4DR5OCGFqYkxawoUjgg=s64",
            "userId": "17245895923239449231"
          },
          "user_tz": -60
        },
        "outputId": "709444e2-13b5-473d-b0f1-f920889be174"
      },
      "outputs": [],
      "source": [
        "draw_metric(G,clos_C,spring_pos)"
      ],
      "id": "cell-26"
    },
    {
      "cell_type": "code",
      "execution_count": null,
      "metadata": {
        "executionInfo": {
          "elapsed": 1498,
          "status": "ok",
          "timestamp": 1615731119603,
          "user": {
            "displayName": "Aldo Marzullo",
            "photoUrl": "https://lh3.googleusercontent.com/a-/AOh14GjBD_mZewcZ8LCqkD20Nku4DR5OCGFqYkxawoUjgg=s64",
            "userId": "17245895923239449231"
          },
          "user_tz": -60
        },
        "outputId": "7a449548-ba12-41be-cd93-6a3c0f1beb88"
      },
      "outputs": [],
      "source": [
        "# assortativity\n",
        "assortativity = nx.degree_pearson_correlation_coefficient(G)\n",
        "assortativity"
      ],
      "id": "cell-27"
    },
    {
      "cell_type": "code",
      "execution_count": null,
      "metadata": {
        "executionInfo": {
          "elapsed": 5142,
          "status": "ok",
          "timestamp": 1615731126175,
          "user": {
            "displayName": "Aldo Marzullo",
            "photoUrl": "https://lh3.googleusercontent.com/a-/AOh14GjBD_mZewcZ8LCqkD20Nku4DR5OCGFqYkxawoUjgg=s64",
            "userId": "17245895923239449231"
          },
          "user_tz": -60
        },
        "outputId": "118e10dc-f058-47c6-aa5a-5db66d6a5cef"
      },
      "outputs": [],
      "source": [
        "t = nx.transitivity(G)\n",
        "t"
      ],
      "id": "cell-28"
    },
    {
      "cell_type": "code",
      "execution_count": null,
      "metadata": {},
      "outputs": [],
      "source": [
        "#import networkx.algorithms.community as nx_comm\n",
        "#nx_comm.modularity(G, nx_comm.label_propagation_communities(G))"
      ],
      "id": "cell-29"
    },
    {
      "cell_type": "markdown",
      "metadata": {},
      "source": [
        "#### Community detection\n",
        "\n",
        "In the following cells we will automatically detect communities using\n",
        "infromation from the network topology"
      ],
      "id": "a03b83ca-2dee-40b0-80e9-dfd54f229a97"
    },
    {
      "cell_type": "code",
      "execution_count": null,
      "metadata": {
        "executionInfo": {
          "elapsed": 4197,
          "status": "ok",
          "timestamp": 1615731133872,
          "user": {
            "displayName": "Aldo Marzullo",
            "photoUrl": "https://lh3.googleusercontent.com/a-/AOh14GjBD_mZewcZ8LCqkD20Nku4DR5OCGFqYkxawoUjgg=s64",
            "userId": "17245895923239449231"
          },
          "user_tz": -60
        },
        "outputId": "39f42abd-9cf5-4755-de44-b9f7b4600d4b"
      },
      "outputs": [],
      "source": [
        "import community\n",
        "\n",
        "parts = community.best_partition(G)\n",
        "values = [parts.get(node) for node in G.nodes()]\n",
        "\n",
        "for node in ego_nodes:\n",
        "  print(node, \"is in community number\", parts.get(node))\n",
        "  \n",
        "n_sizes = [5]*len(G.nodes())\n",
        "for node in ego_nodes:\n",
        "  n_sizes[node] = 250\n",
        "\n",
        "plt.axis(\"off\")\n",
        "nx.draw_networkx(G, pos=spring_pos, cmap=plt.get_cmap(\"Blues\"), edge_color=default_edge_color, node_color=values, node_size=n_sizes, with_labels=False)\n",
        "\n",
        "# enhance color and size of the ego-nodes\n",
        "nodes = nx.draw_networkx_nodes(G,spring_pos,ego_nodes,node_color=[parts.get(node) for node in ego_nodes])\n",
        "nodes.set_edgecolor(enhanced_node_color)"
      ],
      "id": "cell-31"
    },
    {
      "cell_type": "markdown",
      "metadata": {},
      "source": [
        "### Ego-net analysis\n",
        "\n",
        "Since the combined network we are analyzing is actually composed by 10\n",
        "sub-networks (ego-networks), it’s interesting to inspect all those\n",
        "subnetwork. In the following cells we will analyze the subnetwork of the\n",
        "ego-user “0”."
      ],
      "id": "e07c8e38-3a8d-4ffa-98eb-af5cd9a1bd8e"
    },
    {
      "cell_type": "code",
      "execution_count": null,
      "metadata": {
        "executionInfo": {
          "elapsed": 1318,
          "status": "ok",
          "timestamp": 1615731144363,
          "user": {
            "displayName": "Aldo Marzullo",
            "photoUrl": "https://lh3.googleusercontent.com/a-/AOh14GjBD_mZewcZ8LCqkD20Nku4DR5OCGFqYkxawoUjgg=s64",
            "userId": "17245895923239449231"
          },
          "user_tz": -60
        },
        "outputId": "23e0e823-56d7-4044-a490-a98d91978dc7"
      },
      "outputs": [],
      "source": [
        "G0 = nx.read_edgelist(\"facebook/0.edges\", create_using=nx.Graph(), nodetype=int)\n",
        "for node in G0.copy():\n",
        "  G0.add_edge(0,node)\n",
        "\n",
        "plt.axis(\"off\")\n",
        "pos_G0 = nx.spring_layout(G0)\n",
        "nx.draw_networkx(G0, pos=pos_G0, with_labels=False, node_size=35, edge_color=default_edge_color)"
      ],
      "id": "cell-34"
    },
    {
      "cell_type": "markdown",
      "metadata": {},
      "source": [
        "Nodes belonging to each subnetwork are stored in the “facebook” folder\n",
        "under the name nodeId.circles"
      ],
      "id": "0af5ccab-909c-494f-a38d-40b75ce3deae"
    },
    {
      "cell_type": "code",
      "execution_count": null,
      "metadata": {},
      "outputs": [],
      "source": [
        "import pandas as pd\n",
        "circles = {}\n",
        "\n",
        "with open(\"facebook/0.circles\") as f_in:\n",
        "  line = f_in.readline().rstrip().split(\"\\t\")\n",
        "  while line and not '' in line:\n",
        "    circles[line[0]] = [int(v) for v in line[1:]]\n",
        "    line = f_in.readline().rstrip().split(\"\\t\")"
      ],
      "id": "cell-36"
    },
    {
      "cell_type": "code",
      "execution_count": null,
      "metadata": {
        "executionInfo": {
          "elapsed": 1256,
          "status": "ok",
          "timestamp": 1615731151095,
          "user": {
            "displayName": "Aldo Marzullo",
            "photoUrl": "https://lh3.googleusercontent.com/a-/AOh14GjBD_mZewcZ8LCqkD20Nku4DR5OCGFqYkxawoUjgg=s64",
            "userId": "17245895923239449231"
          },
          "user_tz": -60
        },
        "outputId": "2b1455cc-bb4b-4b5f-ecc5-a0411734184e"
      },
      "outputs": [],
      "source": [
        "node_colors = [0] * G0.number_of_nodes()\n",
        "count = 0\n",
        "for key in circles:\n",
        "  circle = circles[key]\n",
        "  for node in circle:\n",
        "    if node < G0.number_of_nodes():\n",
        "      node_colors[node] = count\n",
        "  count += 1\n",
        "\n",
        "nx.draw_networkx(G0, pos=pos_G0, with_labels=False, node_size=35, node_color=node_colors, edge_color=default_edge_color)"
      ],
      "id": "cell-37"
    },
    {
      "cell_type": "code",
      "execution_count": null,
      "metadata": {
        "executionInfo": {
          "elapsed": 1259,
          "status": "ok",
          "timestamp": 1615731154782,
          "user": {
            "displayName": "Aldo Marzullo",
            "photoUrl": "https://lh3.googleusercontent.com/a-/AOh14GjBD_mZewcZ8LCqkD20Nku4DR5OCGFqYkxawoUjgg=s64",
            "userId": "17245895923239449231"
          },
          "user_tz": -60
        },
        "outputId": "bbe6645f-769c-4f94-f734-450871a0c3e4"
      },
      "outputs": [],
      "source": [
        "parts = community.best_partition(G0)\n",
        "values = [parts.get(node) for node in G0.nodes()]\n",
        "\n",
        "plt.axis(\"off\")\n",
        "nx.draw_networkx(G0, pos=pos_G0, cmap=plt.get_cmap(\"Blues\"), edge_color=default_edge_color, node_color=values, node_size=35, with_labels=False)"
      ],
      "id": "cell-38"
    },
    {
      "cell_type": "code",
      "execution_count": null,
      "metadata": {
        "executionInfo": {
          "elapsed": 634,
          "status": "ok",
          "timestamp": 1615731157443,
          "user": {
            "displayName": "Aldo Marzullo",
            "photoUrl": "https://lh3.googleusercontent.com/a-/AOh14GjBD_mZewcZ8LCqkD20Nku4DR5OCGFqYkxawoUjgg=s64",
            "userId": "17245895923239449231"
          },
          "user_tz": -60
        },
        "outputId": "218dbef6-4e29-4f14-b603-6bcdce7c8878"
      },
      "outputs": [],
      "source": [
        "# community found does not reflect the circles\n",
        "set(parts.values())\n",
        "len(circles)"
      ],
      "id": "cell-39"
    },
    {
      "cell_type": "code",
      "execution_count": null,
      "metadata": {},
      "outputs": [],
      "source": [
        "# a node can be present in more than one list??\n",
        "for i in circles:\n",
        "  for j in circles:\n",
        "    if i != j:\n",
        "      for n1 in circles[i]:\n",
        "        for n2 in circles[j]:\n",
        "          if n1 == n2:\n",
        "            print(n1, 'present in ',i,'found in', j)\n",
        "            assert(False)"
      ],
      "id": "cell-40"
    },
    {
      "cell_type": "code",
      "execution_count": null,
      "metadata": {
        "cellView": "form"
      },
      "outputs": [],
      "source": [
        "#@title  \n",
        "nx.average_shortest_path_length(G0)\n",
        "nx.global_efficiency(G0)\n",
        "nx.average_clustering(G0)\n",
        "\n",
        "np.mean(list(nx.betweenness_centrality(G0).values()))\n",
        "np.mean(list(nx.closeness_centrality(G0).values()))\n",
        "np.mean(list(nx.degree_centrality(G0).values()))\n",
        "nx.degree_pearson_correlation_coefficient(G)\n",
        "nx.transitivity(G)\n",
        "\n",
        "import networkx.algorithms.community as nx_comm\n",
        "nx_comm.modularity(G, nx_comm.label_propagation_communities(G))"
      ],
      "id": "cell-41"
    },
    {
      "cell_type": "markdown",
      "metadata": {},
      "source": [
        "### Embeddings for Supervised and Unsupervised Tasks\n",
        "\n",
        "We will now proceed with the actual machine learning task. In\n",
        "particular, we will perform an edge prediction task for the Facebook\n",
        "social graph.\n",
        "\n",
        "#### parse node features\n",
        "\n",
        "As first, let’s load all the features describing each node. This is not\n",
        "a straightforward process and requires a bit of codes, since each\n",
        "subnetwork contains it’s own set of features, whose names and values are\n",
        "stored in different files."
      ],
      "id": "ef330923-36ee-4b14-8b37-4126d35db7d4"
    },
    {
      "cell_type": "code",
      "execution_count": null,
      "metadata": {},
      "outputs": [],
      "source": [
        "# Adapted from https://github.com/jcatw/snap-facebook\n",
        "\n",
        "feat_file_name = \"feature_map.txt\"\n",
        "feature_index = {}  #numeric index to name\n",
        "inverted_feature_index = {} #name to numeric index\n",
        "network = nx.Graph()\n",
        "\n",
        "def parse_featname_line(line):\n",
        "  \"\"\" used to parse each line of the files containing feature names \"\"\"\n",
        "  line = line[(line.find(' '))+1:]  # chop first field\n",
        "  split = line.split(';')\n",
        "  name = ';'.join(split[:-1]) # feature name\n",
        "  index = int(split[-1].split(\" \")[-1]) #feature index\n",
        "  return index, name\n",
        "\n",
        "def load_features():\n",
        "  \"\"\" \n",
        "  parse each ego-network and creates two dictionaries:\n",
        "      - feature_index: maps numeric indices to names\n",
        "      - inverted_feature_index: maps names to numeric indices\n",
        "  \"\"\"\n",
        "  import glob\n",
        "  feat_file_name = 'tmp.txt'\n",
        "  # may need to build the index first\n",
        "  if not os.path.exists(feat_file_name):\n",
        "      feat_index = {}\n",
        "      # build the index from data/*.featnames files\n",
        "      featname_files = glob.iglob(\"facebook/*.featnames\")\n",
        "      for featname_file_name in featname_files:\n",
        "          featname_file = open(featname_file_name, 'r')\n",
        "          for line in featname_file:\n",
        "              # example line:\n",
        "              # 0 birthday;anonymized feature 376\n",
        "              index, name = parse_featname_line(line)\n",
        "              feat_index[index] = name\n",
        "          featname_file.close()\n",
        "      keys = feat_index.keys()\n",
        "      keys = sorted(keys)\n",
        "      out = open(feat_file_name,'w')\n",
        "      for key in keys:\n",
        "          out.write(\"%d %s\\n\" % (key, feat_index[key]))\n",
        "      out.close()\n",
        "\n",
        "  index_file = open(feat_file_name,'r')\n",
        "  for line in index_file:\n",
        "      split = line.strip().split(' ')\n",
        "      key = int(split[0])\n",
        "      val = split[1]\n",
        "      feature_index[key] = val\n",
        "  index_file.close()\n",
        "\n",
        "  for key in feature_index.keys():\n",
        "      val = feature_index[key]\n",
        "      inverted_feature_index[val] = key\n",
        "\n",
        "def parse_nodes(network, ego_nodes):\n",
        "  \"\"\"\n",
        "  for each nodes in the network assign the corresponding features \n",
        "  previously loaded using the load_features function\n",
        "  \"\"\"\n",
        "  # parse each node\n",
        "  for node_id in ego_nodes:\n",
        "      featname_file = open(f'facebook/{node_id}.featnames','r')\n",
        "      feat_file     = open(f'facebook/{node_id}.feat','r')\n",
        "      egofeat_file  = open(f'facebook/{node_id}.egofeat','r')\n",
        "      edge_file     = open(f'facebook/{node_id}.edges','r')\n",
        "\n",
        "      ego_features = [int(x) for x in egofeat_file.readline().split(' ')]\n",
        "\n",
        "      # Add ego node features\n",
        "      network.nodes[node_id]['features'] = np.zeros(len(feature_index))\n",
        "      \n",
        "      # parse ego node\n",
        "      i = 0\n",
        "      for line in featname_file:\n",
        "          key, val = parse_featname_line(line)\n",
        "          # Update feature value if necessary\n",
        "          if ego_features[i] + 1 > network.nodes[node_id]['features'][key]:\n",
        "              network.nodes[node_id]['features'][key] = ego_features[i] + 1\n",
        "          i += 1\n",
        "\n",
        "      # parse neighboring nodes\n",
        "      for line in feat_file:\n",
        "          featname_file.seek(0)\n",
        "          split = [int(x) for x in line.split(' ')]\n",
        "          node_id = split[0]\n",
        "          features = split[1:]\n",
        "\n",
        "          # Add node features\n",
        "          network.nodes[node_id]['features'] = np.zeros(len(feature_index))\n",
        "\n",
        "          i = 0\n",
        "          for line in featname_file:\n",
        "              key, val = parse_featname_line(line)\n",
        "              # Update feature value if necessary\n",
        "              if features[i] + 1 > network.nodes[node_id]['features'][key]:\n",
        "                  network.nodes[node_id]['features'][key] = features[i] + 1\n",
        "              i += 1\n",
        "          \n",
        "      featname_file.close()\n",
        "      feat_file.close()\n",
        "      egofeat_file.close()\n",
        "      edge_file.close()"
      ],
      "id": "cell-45"
    },
    {
      "cell_type": "code",
      "execution_count": null,
      "metadata": {},
      "outputs": [],
      "source": [
        "# parse edge features and add them to the networkx nodes\n",
        "load_features()\n",
        "parse_nodes(G, ego_nodes)"
      ],
      "id": "cell-46"
    },
    {
      "cell_type": "code",
      "execution_count": null,
      "metadata": {
        "executionInfo": {
          "elapsed": 5210,
          "status": "ok",
          "timestamp": 1616266928734,
          "user": {
            "displayName": "Aldo Marzullo",
            "photoUrl": "https://lh3.googleusercontent.com/a-/AOh14GjBD_mZewcZ8LCqkD20Nku4DR5OCGFqYkxawoUjgg=s64",
            "userId": "17245895923239449231"
          },
          "user_tz": -60
        },
        "outputId": "990227b3-7f01-4ef6-d036-9346c7ae5eca"
      },
      "outputs": [],
      "source": [
        "# check features has been correctly assigned\n",
        "G.nodes[0]"
      ],
      "id": "cell-47"
    },
    {
      "cell_type": "markdown",
      "metadata": {},
      "source": [
        "### Link prediction\n",
        "\n",
        "It’s now time for machine learning. As first, we will be using\n",
        "stellargraph utility function to define a train and test set. More in\n",
        "detail, TODO"
      ],
      "id": "34d9d954-b76b-40c0-adfd-3b121e7b478a"
    },
    {
      "cell_type": "code",
      "execution_count": null,
      "metadata": {
        "executionInfo": {
          "elapsed": 14891,
          "status": "ok",
          "timestamp": 1616871410804,
          "user": {
            "displayName": "Aldo Marzullo",
            "photoUrl": "https://lh3.googleusercontent.com/a-/AOh14GjBD_mZewcZ8LCqkD20Nku4DR5OCGFqYkxawoUjgg=s64",
            "userId": "17245895923239449231"
          },
          "user_tz": -60
        },
        "outputId": "580084bf-ff08-406d-b335-7f791b93e9fe"
      },
      "outputs": [],
      "source": [
        "!pip install stellargraph\n",
        "!pip install node2vec==0.3.3\n",
        "!pip install git+https://github.com/palash1992/GEM.git"
      ],
      "id": "cell-49"
    },
    {
      "cell_type": "code",
      "execution_count": null,
      "metadata": {
        "executionInfo": {
          "elapsed": 9188,
          "status": "ok",
          "timestamp": 1616871428202,
          "user": {
            "displayName": "Aldo Marzullo",
            "photoUrl": "https://lh3.googleusercontent.com/a-/AOh14GjBD_mZewcZ8LCqkD20Nku4DR5OCGFqYkxawoUjgg=s64",
            "userId": "17245895923239449231"
          },
          "user_tz": -60
        },
        "outputId": "62d42e17-456d-4155-d91d-2bd39b79cde9"
      },
      "outputs": [],
      "source": [
        "from sklearn.model_selection import train_test_split\n",
        "from stellargraph.data import EdgeSplitter\n",
        "from stellargraph import StellarGraph\n",
        "\n",
        "edgeSplitter = EdgeSplitter(G) \n",
        "graph_test, samples_test, labels_test = edgeSplitter.train_test_split(p=0.1, method=\"global\", seed=24)\n",
        "\n",
        "edgeSplitter = EdgeSplitter(graph_test, G) \n",
        "graph_train, samples_train, labels_train = edgeSplitter.train_test_split(p=0.1, method=\"global\", seed=24)"
      ],
      "id": "cell-50"
    },
    {
      "cell_type": "markdown",
      "metadata": {},
      "source": [
        "We will be comparing three different methods for predicting missing\n",
        "edges: - Method1: node2vec will be used to learn a node embedding. Such\n",
        "embeddings will be used to train a Random Forest classifier in a\n",
        "supervised manner - Method2: graphSAGE (with and without features) will\n",
        "be used for link prediction - Method3: hand-crafted features will be\n",
        "extracted and used to train a Random Forest classifier\n",
        "\n",
        "##### node2vec"
      ],
      "id": "f66cfb0c-39fb-4b92-acbc-60ccd0fc5957"
    },
    {
      "cell_type": "code",
      "execution_count": null,
      "metadata": {
        "executionInfo": {
          "elapsed": 209043,
          "status": "ok",
          "timestamp": 1616871720448,
          "user": {
            "displayName": "Aldo Marzullo",
            "photoUrl": "https://lh3.googleusercontent.com/a-/AOh14GjBD_mZewcZ8LCqkD20Nku4DR5OCGFqYkxawoUjgg=s64",
            "userId": "17245895923239449231"
          },
          "user_tz": -60
        },
        "outputId": "d0eb3606-649c-417c-93a3-1bdf188006c6"
      },
      "outputs": [],
      "source": [
        "from node2vec import Node2Vec\n",
        "from node2vec.edges import HadamardEmbedder \n",
        "from stellargraph.data import EdgeSplitter \n",
        "\n",
        "node2vec = Node2Vec(graph_train) \n",
        "model = node2vec.fit() \n",
        "edges_embs = HadamardEmbedder(keyed_vectors=model.wv) \n",
        "train_embeddings = [edges_embs[str(x[0]),str(x[1])] for x in samples_train]\n",
        "\n",
        "edges_embs = HadamardEmbedder(keyed_vectors=model.wv) \n",
        "test_embeddings = [edges_embs[str(x[0]),str(x[1])] for x in samples_test]"
      ],
      "id": "cell-53"
    },
    {
      "cell_type": "code",
      "execution_count": null,
      "metadata": {
        "executionInfo": {
          "elapsed": 2806,
          "status": "ok",
          "timestamp": 1616871737132,
          "user": {
            "displayName": "Aldo Marzullo",
            "photoUrl": "https://lh3.googleusercontent.com/a-/AOh14GjBD_mZewcZ8LCqkD20Nku4DR5OCGFqYkxawoUjgg=s64",
            "userId": "17245895923239449231"
          },
          "user_tz": -60
        },
        "outputId": "61f7c1e0-ed5d-49bf-e0b3-d0092f66beff"
      },
      "outputs": [],
      "source": [
        "from sklearn.ensemble import RandomForestClassifier \n",
        "from sklearn import metrics \n",
        "\n",
        "rf = RandomForestClassifier(n_estimators=10) \n",
        "rf.fit(train_embeddings, labels_train); \n",
        " \n",
        "y_pred = rf.predict(test_embeddings) \n",
        "print('Precision:', metrics.precision_score(labels_test, y_pred)) \n",
        "print('Recall:', metrics.recall_score(labels_test, y_pred)) \n",
        "print('F1-Score:', metrics.f1_score(labels_test, y_pred)) "
      ],
      "id": "cell-54"
    },
    {
      "cell_type": "markdown",
      "metadata": {},
      "source": [
        "##### graphSAGE"
      ],
      "id": "e9c46f8c-b1e5-43b4-a4e0-7f594c434717"
    },
    {
      "cell_type": "code",
      "execution_count": null,
      "metadata": {},
      "outputs": [],
      "source": [
        "# graphSAGE no feats"
      ],
      "id": "cell-56"
    },
    {
      "cell_type": "code",
      "execution_count": null,
      "metadata": {},
      "outputs": [],
      "source": [
        "eye = np.eye(graph_train.number_of_nodes())\n",
        "fake_features = {n:eye[n] for n in G.nodes()}\n",
        "nx.set_node_attributes(graph_train, fake_features, \"fake\")\n",
        "\n",
        "eye = np.eye(graph_test.number_of_nodes())\n",
        "fake_features = {n:eye[n] for n in G.nodes()}\n",
        "nx.set_node_attributes(graph_test, fake_features, \"fake\")"
      ],
      "id": "cell-57"
    },
    {
      "cell_type": "code",
      "execution_count": null,
      "metadata": {
        "executionInfo": {
          "elapsed": 808,
          "status": "ok",
          "timestamp": 1616266963123,
          "user": {
            "displayName": "Aldo Marzullo",
            "photoUrl": "https://lh3.googleusercontent.com/a-/AOh14GjBD_mZewcZ8LCqkD20Nku4DR5OCGFqYkxawoUjgg=s64",
            "userId": "17245895923239449231"
          },
          "user_tz": -60
        },
        "outputId": "be140ce5-81f3-4ba7-df33-61a1a1b1e15a"
      },
      "outputs": [],
      "source": [
        "graph_train.nodes[0]"
      ],
      "id": "cell-58"
    },
    {
      "cell_type": "code",
      "execution_count": null,
      "metadata": {},
      "outputs": [],
      "source": [
        "from stellargraph.mapper import GraphSAGELinkGenerator\n",
        "\n",
        "batch_size = 64\n",
        "num_samples = [4, 4]\n",
        "\n",
        "sg_graph_train = StellarGraph.from_networkx(graph_train, node_features=\"fake\")\n",
        "sg_graph_test = StellarGraph.from_networkx(graph_test, node_features=\"fake\")\n",
        "\n",
        "train_gen = GraphSAGELinkGenerator(sg_graph_train, batch_size, num_samples)\n",
        "train_flow = train_gen.flow(samples_train, labels_train, shuffle=True, seed=24)\n",
        "\n",
        "test_gen = GraphSAGELinkGenerator(sg_graph_test, batch_size, num_samples)\n",
        "test_flow = test_gen.flow(samples_test, labels_test, seed=24)"
      ],
      "id": "cell-59"
    },
    {
      "cell_type": "code",
      "execution_count": null,
      "metadata": {
        "executionInfo": {
          "elapsed": 1253,
          "status": "ok",
          "timestamp": 1615731818925,
          "user": {
            "displayName": "Aldo Marzullo",
            "photoUrl": "https://lh3.googleusercontent.com/a-/AOh14GjBD_mZewcZ8LCqkD20Nku4DR5OCGFqYkxawoUjgg=s64",
            "userId": "17245895923239449231"
          },
          "user_tz": -60
        },
        "outputId": "f39489eb-87c5-427c-b0a5-3d93aa25d0c4"
      },
      "outputs": [],
      "source": [
        "from stellargraph.layer import GraphSAGE, link_classification\n",
        "from tensorflow import keras\n",
        "\n",
        "layer_sizes = [20, 20]\n",
        "graphsage = GraphSAGE(\n",
        "    layer_sizes=layer_sizes, generator=train_gen, bias=True, dropout=0.3\n",
        ")\n",
        "\n",
        "x_inp, x_out = graphsage.in_out_tensors()\n",
        "\n",
        "prediction = link_classification(\n",
        "    output_dim=1, output_act=\"sigmoid\", edge_embedding_method=\"ip\"\n",
        ")(x_out)\n",
        "\n",
        "model = keras.Model(inputs=x_inp, outputs=prediction)\n",
        "\n",
        "model.compile(\n",
        "    optimizer=keras.optimizers.Adam(lr=1e-3),\n",
        "    loss=keras.losses.mse,\n",
        "    metrics=[\"acc\"],\n",
        ")"
      ],
      "id": "cell-60"
    },
    {
      "cell_type": "code",
      "execution_count": null,
      "metadata": {
        "executionInfo": {
          "elapsed": 294128,
          "status": "ok",
          "timestamp": 1615732114364,
          "user": {
            "displayName": "Aldo Marzullo",
            "photoUrl": "https://lh3.googleusercontent.com/a-/AOh14GjBD_mZewcZ8LCqkD20Nku4DR5OCGFqYkxawoUjgg=s64",
            "userId": "17245895923239449231"
          },
          "user_tz": -60
        },
        "outputId": "cf9996ad-ca77-4dbb-e6cd-1c8fa78d3d26"
      },
      "outputs": [],
      "source": [
        "epochs = 10\n",
        "history = model.fit(train_flow, epochs=epochs, validation_data=test_flow)"
      ],
      "id": "cell-61"
    },
    {
      "cell_type": "code",
      "execution_count": null,
      "metadata": {
        "executionInfo": {
          "elapsed": 15060,
          "status": "ok",
          "timestamp": 1615732132438,
          "user": {
            "displayName": "Aldo Marzullo",
            "photoUrl": "https://lh3.googleusercontent.com/a-/AOh14GjBD_mZewcZ8LCqkD20Nku4DR5OCGFqYkxawoUjgg=s64",
            "userId": "17245895923239449231"
          },
          "user_tz": -60
        },
        "outputId": "1c60f2ab-6ce2-402d-877e-00486598e2e7"
      },
      "outputs": [],
      "source": [
        "from sklearn import metrics \n",
        "y_pred = np.round(model.predict(train_flow)).flatten()\n",
        "print('Precision:', metrics.precision_score(labels_train, y_pred)) \n",
        "print('Recall:', metrics.recall_score(labels_train, y_pred)) \n",
        "print('F1-Score:', metrics.f1_score(labels_train, y_pred)) "
      ],
      "id": "cell-62"
    },
    {
      "cell_type": "code",
      "execution_count": null,
      "metadata": {
        "executionInfo": {
          "elapsed": 14305,
          "status": "ok",
          "timestamp": 1615732149331,
          "user": {
            "displayName": "Aldo Marzullo",
            "photoUrl": "https://lh3.googleusercontent.com/a-/AOh14GjBD_mZewcZ8LCqkD20Nku4DR5OCGFqYkxawoUjgg=s64",
            "userId": "17245895923239449231"
          },
          "user_tz": -60
        },
        "outputId": "8ff471d3-301e-42ae-f4ef-35945e7d12c7"
      },
      "outputs": [],
      "source": [
        "y_pred = np.round(model.predict(test_flow)).flatten()\n",
        "print('Precision:', metrics.precision_score(labels_test, y_pred)) \n",
        "print('Recall:', metrics.recall_score(labels_test, y_pred)) \n",
        "print('F1-Score:', metrics.f1_score(labels_test, y_pred)) "
      ],
      "id": "cell-63"
    },
    {
      "cell_type": "code",
      "execution_count": null,
      "metadata": {},
      "outputs": [],
      "source": [
        "# graphSAGE + feats"
      ],
      "id": "cell-64"
    },
    {
      "cell_type": "code",
      "execution_count": null,
      "metadata": {},
      "outputs": [],
      "source": [
        "sg_graph_train = StellarGraph.from_networkx(graph_train, node_features=\"features\")\n",
        "sg_graph_test = StellarGraph.from_networkx(graph_test, node_features=\"features\")\n",
        "\n",
        "train_gen = GraphSAGELinkGenerator(sg_graph_train, batch_size, num_samples)\n",
        "train_flow = train_gen.flow(samples_train, labels_train, shuffle=True, seed=24)\n",
        "\n",
        "test_gen = GraphSAGELinkGenerator(sg_graph_test, batch_size, num_samples)\n",
        "test_flow = test_gen.flow(samples_test, labels_test, seed=24)"
      ],
      "id": "cell-65"
    },
    {
      "cell_type": "code",
      "execution_count": null,
      "metadata": {
        "executionInfo": {
          "elapsed": 171414,
          "status": "ok",
          "timestamp": 1615732377339,
          "user": {
            "displayName": "Aldo Marzullo",
            "photoUrl": "https://lh3.googleusercontent.com/a-/AOh14GjBD_mZewcZ8LCqkD20Nku4DR5OCGFqYkxawoUjgg=s64",
            "userId": "17245895923239449231"
          },
          "user_tz": -60
        },
        "outputId": "d3a73f88-c4eb-44a2-e303-e7b3530b4d58"
      },
      "outputs": [],
      "source": [
        "layer_sizes = [20, 20]\n",
        "graphsage = GraphSAGE(\n",
        "    layer_sizes=layer_sizes, generator=train_gen, bias=True, dropout=0.3\n",
        ")\n",
        "\n",
        "x_inp, x_out = graphsage.in_out_tensors()\n",
        "\n",
        "prediction = link_classification(\n",
        "    output_dim=1, output_act=\"sigmoid\", edge_embedding_method=\"ip\"\n",
        ")(x_out)\n",
        "\n",
        "model = keras.Model(inputs=x_inp, outputs=prediction)\n",
        "\n",
        "model.compile(\n",
        "    optimizer=keras.optimizers.Adam(lr=1e-3),\n",
        "    loss=keras.losses.mse,\n",
        "    metrics=[\"acc\"],\n",
        ")\n",
        "\n",
        "epochs = 10\n",
        "history = model.fit(train_flow, epochs=epochs, validation_data=test_flow)"
      ],
      "id": "cell-66"
    },
    {
      "cell_type": "code",
      "execution_count": null,
      "metadata": {
        "executionInfo": {
          "elapsed": 9222,
          "status": "ok",
          "timestamp": 1615732391007,
          "user": {
            "displayName": "Aldo Marzullo",
            "photoUrl": "https://lh3.googleusercontent.com/a-/AOh14GjBD_mZewcZ8LCqkD20Nku4DR5OCGFqYkxawoUjgg=s64",
            "userId": "17245895923239449231"
          },
          "user_tz": -60
        },
        "outputId": "76fe25d5-e08e-4d25-aae1-9a30c382455a"
      },
      "outputs": [],
      "source": [
        "from sklearn import metrics \n",
        "y_pred = np.round(model.predict(train_flow)).flatten()\n",
        "print('Precision:', metrics.precision_score(labels_train, y_pred)) \n",
        "print('Recall:', metrics.recall_score(labels_train, y_pred)) \n",
        "print('F1-Score:', metrics.f1_score(labels_train, y_pred)) "
      ],
      "id": "cell-67"
    },
    {
      "cell_type": "code",
      "execution_count": null,
      "metadata": {
        "executionInfo": {
          "elapsed": 8271,
          "status": "ok",
          "timestamp": 1615732401254,
          "user": {
            "displayName": "Aldo Marzullo",
            "photoUrl": "https://lh3.googleusercontent.com/a-/AOh14GjBD_mZewcZ8LCqkD20Nku4DR5OCGFqYkxawoUjgg=s64",
            "userId": "17245895923239449231"
          },
          "user_tz": -60
        },
        "outputId": "0b75eda5-1d3c-4d22-e0f7-e777e1d63c58"
      },
      "outputs": [],
      "source": [
        "y_pred = np.round(model.predict(test_flow)).flatten()\n",
        "print('Precision:', metrics.precision_score(labels_test, y_pred)) \n",
        "print('Recall:', metrics.recall_score(labels_test, y_pred)) \n",
        "print('F1-Score:', metrics.f1_score(labels_test, y_pred)) "
      ],
      "id": "cell-68"
    },
    {
      "cell_type": "markdown",
      "metadata": {},
      "source": [
        "#### Hand crafted features"
      ],
      "id": "65d94dbd-205e-42e7-9c8e-44946d77d02f"
    },
    {
      "cell_type": "code",
      "execution_count": null,
      "metadata": {
        "executionInfo": {
          "elapsed": 10866,
          "status": "ok",
          "timestamp": 1616871782934,
          "user": {
            "displayName": "Aldo Marzullo",
            "photoUrl": "https://lh3.googleusercontent.com/a-/AOh14GjBD_mZewcZ8LCqkD20Nku4DR5OCGFqYkxawoUjgg=s64",
            "userId": "17245895923239449231"
          },
          "user_tz": -60
        }
      },
      "outputs": [],
      "source": [
        "import community\n",
        "\n",
        "def get_shortest_path(G,u,v):\n",
        "  \"\"\" return the shortest path length between u,v \n",
        "      in the graph without the edge (u,v) \"\"\"\n",
        "  removed = False\n",
        "  if G.has_edge(u,v):\n",
        "    removed = True\n",
        "    G.remove_edge(u,v) # temporary remove edge\n",
        "  \n",
        "  try:\n",
        "    sp = len(nx.shortest_path(G, u, v))\n",
        "  except:\n",
        "    sp = 0\n",
        "\n",
        "  if removed:\n",
        "    G.add_edge(u,v) # add back the edge if it was removed\n",
        "\n",
        "  return sp\n",
        "\n",
        "def get_hc_features(G, samples_edges, labels):\n",
        "  # precompute metrics\n",
        "  centralities = nx.degree_centrality(G)\n",
        "  parts = community.best_partition(G)\n",
        "  \n",
        "  feats = []\n",
        "  for (u,v),l in zip(samples_edges, labels):\n",
        "    shortest_path = get_shortest_path(G, u, v)\n",
        "    j_coefficient = next(nx.jaccard_coefficient(G, ebunch=[(u, v)]))[-1]\n",
        "    u_centrality = centralities[u]\n",
        "    v_centrality = centralities[v]\n",
        "    u_community = parts.get(u)\n",
        "    v_community = parts.get(v)\n",
        "    # add the feature vector\n",
        "    feats += [[shortest_path, j_coefficient, u_centrality, v_centrality]]\n",
        "  return feats\n",
        "\n",
        "feat_train = get_hc_features(graph_train, samples_train, labels_train)\n",
        "feat_test = get_hc_features(graph_test, samples_test, labels_test)"
      ],
      "id": "cell-70"
    },
    {
      "cell_type": "code",
      "execution_count": null,
      "metadata": {
        "executionInfo": {
          "elapsed": 831,
          "status": "ok",
          "timestamp": 1616871790199,
          "user": {
            "displayName": "Aldo Marzullo",
            "photoUrl": "https://lh3.googleusercontent.com/a-/AOh14GjBD_mZewcZ8LCqkD20Nku4DR5OCGFqYkxawoUjgg=s64",
            "userId": "17245895923239449231"
          },
          "user_tz": -60
        },
        "outputId": "d0184893-a242-45dd-e9d8-38e6d4b1f3e6"
      },
      "outputs": [],
      "source": [
        "from sklearn.ensemble import RandomForestClassifier \n",
        "from sklearn import metrics \n",
        "\n",
        "rf = RandomForestClassifier(n_estimators=10) \n",
        "rf.fit(feat_train, labels_train); \n",
        " \n",
        "y_pred = rf.predict(feat_test) \n",
        "print('Precision:', metrics.precision_score(labels_test, y_pred)) \n",
        "print('Recall:', metrics.recall_score(labels_test, y_pred)) \n",
        "print('F1-Score:', metrics.f1_score(labels_test, y_pred)) "
      ],
      "id": "cell-71"
    }
  ],
  "nbformat": 4,
  "nbformat_minor": 5,
  "metadata": {
    "accelerator": "GPU",
    "colab": {
      "name": "socialNetwork.ipynb",
      "authorship_tag": "ABX9TyNqI0nb+1UIx1QCpehAMWm6",
      "collapsed_sections": [],
      "provenance": []
    },
    "kernelspec": {
      "name": "python3",
      "display_name": "Python 3",
      "language": "python"
    },
    "language_info": {
      "name": "python",
      "codemirror_mode": {
        "name": "ipython",
        "version": "3"
      },
      "file_extension": ".py",
      "mimetype": "text/x-python",
      "nbconvert_exporter": "python",
      "pygments_lexer": "ipython3",
      "version": "3.8.16"
    }
  }
}