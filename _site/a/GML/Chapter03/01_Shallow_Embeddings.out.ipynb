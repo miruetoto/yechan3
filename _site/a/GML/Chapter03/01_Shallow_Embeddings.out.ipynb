{
  "cells": [
    {
      "cell_type": "markdown",
      "metadata": {},
      "source": [
        "# **\\[GML\\]** Chap3: 비지도 그래프 학습 - Shallow_Embeddings\n",
        "\n",
        "신록예찬  \n",
        "2023-02-10"
      ],
      "id": "1c790a2d-4739-4ce1-a57c-7650c0c2eddb"
    },
    {
      "cell_type": "code",
      "execution_count": null,
      "metadata": {},
      "outputs": [],
      "source": [
        "import matplotlib.pyplot as plt\n",
        "\n",
        "def draw_graph(G, node_names={}, node_size=500):\n",
        "    pos_nodes = nx.spring_layout(G)\n",
        "    nx.draw(G, pos_nodes, with_labels=True, node_size=node_size, edge_color='gray', arrowsize=30)\n",
        "    \n",
        "    pos_attrs = {}\n",
        "    for node, coords in pos_nodes.items():\n",
        "        pos_attrs[node] = (coords[0], coords[1] + 0.08)\n",
        "        \n",
        "    #nx.draw_networkx_labels(G, pos_attrs, font_family='serif', font_size=20)\n",
        "    \n",
        "    plt.axis('off')\n",
        "    axis = plt.gca()\n",
        "    axis.set_xlim([1.2*x for x in axis.get_xlim()])\n",
        "    axis.set_ylim([1.2*y for y in axis.get_ylim()])\n",
        "    plt.show()"
      ],
      "id": "cell-1"
    },
    {
      "cell_type": "markdown",
      "metadata": {},
      "source": [
        "## Graph Factorization"
      ],
      "id": "cc962213-611d-4344-a19b-69460f0b11f7"
    },
    {
      "cell_type": "code",
      "execution_count": null,
      "metadata": {},
      "outputs": [],
      "source": [
        "import networkx as nx\n",
        "\n",
        "G = nx.barbell_graph(m1=3, m2=2)\n",
        "draw_graph(G)\n"
      ],
      "id": "cell-3"
    },
    {
      "cell_type": "code",
      "execution_count": null,
      "metadata": {},
      "outputs": [],
      "source": [
        "from pathlib import Path\n",
        "Path(\"gem/intermediate\").mkdir(parents=True, exist_ok=True)"
      ],
      "id": "cell-4"
    },
    {
      "cell_type": "code",
      "execution_count": null,
      "metadata": {},
      "outputs": [],
      "source": [
        "from gem.embedding.gf import GraphFactorization\n",
        "\n",
        "G = nx.barbell_graph(m1=10, m2=4)\n",
        "draw_graph(G)\n",
        "\n",
        "gf = GraphFactorization(d=2,  data_set=None,max_iter=10000, eta=1*10**-4, regu=1.0)\n",
        "gf.learn_embedding(G)"
      ],
      "id": "cell-5"
    },
    {
      "cell_type": "code",
      "execution_count": null,
      "metadata": {},
      "outputs": [],
      "source": [
        "import matplotlib.pyplot as plt\n",
        "\n",
        "fig, ax = plt.subplots(figsize=(10,10))\n",
        "\n",
        "for x in G.nodes():\n",
        "    \n",
        "    v = gf.get_embedding()[x]\n",
        "    ax.scatter(v[0],v[1], s=1000)\n",
        "    ax.annotate(str(x), (v[0],v[1]), fontsize=12)"
      ],
      "id": "cell-6"
    },
    {
      "cell_type": "markdown",
      "metadata": {},
      "source": [
        "## GraphRep"
      ],
      "id": "2894dae8-de76-4b04-be05-12d00c17453b"
    },
    {
      "cell_type": "code",
      "execution_count": null,
      "metadata": {},
      "outputs": [],
      "source": [
        "import networkx as nx\n",
        "from karateclub.node_embedding.neighbourhood.grarep import GraRep\n",
        "\n",
        "G = nx.barbell_graph(m1=10, m2=4)\n",
        "draw_graph(G)\n",
        "\n",
        "gr = GraRep(dimensions=2,order=3)\n",
        "gr.fit(G)"
      ],
      "id": "cell-8"
    },
    {
      "cell_type": "code",
      "execution_count": null,
      "metadata": {},
      "outputs": [],
      "source": [
        "import matplotlib.pyplot as plt\n",
        "\n",
        "fig, ax = plt.subplots(figsize=(10,10))\n",
        "\n",
        "ida = 4\n",
        "idb = 5\n",
        "for x in G.nodes():\n",
        "    \n",
        "    v = gr.get_embedding()[x]\n",
        "    ax.scatter(v[ida],v[idb], s=1000)\n",
        "    ax.annotate(str(x), (v[ida],v[idb]), fontsize=12)"
      ],
      "id": "cell-9"
    },
    {
      "cell_type": "markdown",
      "metadata": {},
      "source": [
        "## HOPE"
      ],
      "id": "0729dcf4-fc49-41c7-8eb9-8dabfaaec720"
    },
    {
      "cell_type": "code",
      "execution_count": null,
      "metadata": {},
      "outputs": [],
      "source": [
        "import networkx as nx\n",
        "from gem.embedding.hope import HOPE\n",
        "\n",
        "G = nx.barbell_graph(m1=10, m2=4)\n",
        "draw_graph(G)\n",
        "\n",
        "hp = HOPE(d=4, beta=0.01)\n",
        "hp.learn_embedding(G)"
      ],
      "id": "cell-11"
    },
    {
      "cell_type": "code",
      "execution_count": null,
      "metadata": {},
      "outputs": [],
      "source": [
        "import matplotlib.pyplot as plt\n",
        "\n",
        "fig, ax = plt.subplots(figsize=(10,10))\n",
        "\n",
        "for x in G.nodes():\n",
        "    \n",
        "    v = hp.get_embedding()[x,2:]\n",
        "    ax.scatter(v[0],v[1], s=1000)\n",
        "    ax.annotate(str(x), (v[0],v[1]), fontsize=20)"
      ],
      "id": "cell-12"
    },
    {
      "cell_type": "markdown",
      "metadata": {},
      "source": [
        "## DeepWalk"
      ],
      "id": "a316c6f4-438c-44e2-a4b5-fb9c6d0efb72"
    },
    {
      "cell_type": "code",
      "execution_count": null,
      "metadata": {},
      "outputs": [],
      "source": [
        "import networkx as nx\n",
        "from karateclub.node_embedding.neighbourhood.deepwalk import DeepWalk\n",
        "\n",
        "G = nx.barbell_graph(m1=10, m2=4)\n",
        "draw_graph(G)\n",
        "\n",
        "dw = DeepWalk(dimensions=2)\n",
        "dw.fit(G)"
      ],
      "id": "cell-14"
    },
    {
      "cell_type": "code",
      "execution_count": null,
      "metadata": {},
      "outputs": [],
      "source": [
        "import matplotlib.pyplot as plt\n",
        "\n",
        "fig, ax = plt.subplots(figsize=(10,10))\n",
        "\n",
        "for x in G.nodes():\n",
        "    \n",
        "    v = dw.get_embedding()[x]\n",
        "    ax.scatter(v[0],v[1], s=1000)\n",
        "    ax.annotate(str(x), (v[0],v[1]), fontsize=12)"
      ],
      "id": "cell-15"
    },
    {
      "cell_type": "markdown",
      "metadata": {},
      "source": [
        "## Node2Vec"
      ],
      "id": "eda43853-9ed9-4886-bc2d-f0f8dfd0ac78"
    },
    {
      "cell_type": "code",
      "execution_count": null,
      "metadata": {},
      "outputs": [],
      "source": [
        "import networkx as nx\n",
        "from node2vec import Node2Vec\n",
        "\n",
        "G = nx.barbell_graph(m1=10, m2=4)\n",
        "draw_graph(G)\n",
        "\n",
        "node2vec = Node2Vec(G, dimensions=2)\n",
        "model = node2vec.fit(window=10)\n",
        "embeddings = model.wv"
      ],
      "id": "cell-17"
    },
    {
      "cell_type": "code",
      "execution_count": null,
      "metadata": {},
      "outputs": [],
      "source": [
        "import matplotlib.pyplot as plt\n",
        "\n",
        "fig, ax = plt.subplots(figsize=(10,10))\n",
        "\n",
        "for x in G.nodes():\n",
        "    \n",
        "    v = model.wv[str(x)]\n",
        "    ax.scatter(v[0],v[1], s=1000)\n",
        "    ax.annotate(str(x), (v[0],v[1]), fontsize=16)\n",
        "\n",
        "plt.show()"
      ],
      "id": "cell-18"
    },
    {
      "cell_type": "markdown",
      "metadata": {},
      "source": [
        "## Edge2Vec"
      ],
      "id": "548dfe81-9383-42a2-8e1f-1a9188bbcdc5"
    },
    {
      "cell_type": "code",
      "execution_count": null,
      "metadata": {},
      "outputs": [],
      "source": [
        "from node2vec.edges import HadamardEmbedder\n",
        "edges_embs = HadamardEmbedder(keyed_vectors=model.wv)"
      ],
      "id": "cell-20"
    },
    {
      "cell_type": "code",
      "execution_count": null,
      "metadata": {},
      "outputs": [],
      "source": [
        "import matplotlib.pyplot as plt\n",
        "\n",
        "fig, ax = plt.subplots(figsize=(10,10))\n",
        "\n",
        "for x in G.edges():\n",
        "    \n",
        "    v = edges_embs[(str(x[0]), str(x[1]))]\n",
        "    ax.scatter(v[0],v[1], s=1000)\n",
        "    ax.annotate(str(x), (v[0],v[1]), fontsize=16)\n",
        "\n",
        "plt.show()"
      ],
      "id": "cell-21"
    },
    {
      "cell_type": "markdown",
      "metadata": {},
      "source": [
        "## Graph2Vec"
      ],
      "id": "a403d058-a792-4290-b122-16c125349800"
    },
    {
      "cell_type": "code",
      "execution_count": null,
      "metadata": {},
      "outputs": [],
      "source": [
        "import random\n",
        "import matplotlib.pyplot as plt\n",
        "from karateclub import Graph2Vec\n",
        "\n",
        "n_graphs = 20\n",
        "\n",
        "def generate_radom():\n",
        "    n = random.randint(6, 20)\n",
        "    k = random.randint(5, n)\n",
        "    p = random.uniform(0, 1)\n",
        "    return nx.watts_strogatz_graph(n,k,p), [n,k,p]\n",
        "\n",
        "Gs = [generate_radom() for x in range(n_graphs)]\n",
        "\n",
        "model = Graph2Vec(dimensions=2, wl_iterations=10)\n",
        "model.fit([x[0] for x in Gs])\n",
        "embeddings = model.get_embedding()\n",
        "\n",
        "fig, ax = plt.subplots(figsize=(10,10))\n",
        "\n",
        "for i,vec in enumerate(embeddings):\n",
        "    \n",
        "    ax.scatter(vec[0],vec[1], s=1000)\n",
        "    ax.annotate(str(i), (vec[0],vec[1]), fontsize=40)"
      ],
      "id": "cell-23"
    }
  ],
  "nbformat": 4,
  "nbformat_minor": 5,
  "metadata": {
    "kernelspec": {
      "name": "python3",
      "display_name": "Python 3",
      "language": "python"
    },
    "language_info": {
      "name": "python",
      "codemirror_mode": {
        "name": "ipython",
        "version": "3"
      },
      "file_extension": ".py",
      "mimetype": "text/x-python",
      "nbconvert_exporter": "python",
      "pygments_lexer": "ipython3",
      "version": "3.8.16"
    }
  }
}