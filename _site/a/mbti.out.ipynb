{
  "cells": [
    {
      "cell_type": "markdown",
      "metadata": {},
      "source": [
        "#"
      ],
      "id": "29551943-642c-4666-a257-5ac2cc5e0584"
    },
    {
      "cell_type": "code",
      "execution_count": 1,
      "metadata": {},
      "outputs": [],
      "source": [
        "import pandas as pd"
      ],
      "id": "4c2fbb12-f620-4152-8933-6884540297eb"
    },
    {
      "cell_type": "code",
      "execution_count": 3,
      "metadata": {},
      "outputs": [],
      "source": [
        "df=pd.read_csv('mbti_1.csv')\n",
        "df"
      ],
      "id": "ef6a631d-3625-4e6e-9409-48d8ff0e9b2a"
    },
    {
      "cell_type": "code",
      "execution_count": 9,
      "metadata": {},
      "outputs": [],
      "source": [
        "df.type.tolist().count('INFJ')"
      ],
      "id": "f299c4b9-bf77-40e7-9f39-06b8cdab219f"
    },
    {
      "cell_type": "code",
      "execution_count": 13,
      "metadata": {},
      "outputs": [],
      "source": [
        "dct = {tpy:df.type.tolist().count(tpy) for tpy in set(df.type)}\n",
        "dct"
      ],
      "id": "4988d80a-d0d4-4408-8fa8-0d178a33c18d"
    }
  ],
  "nbformat": 4,
  "nbformat_minor": 5,
  "metadata": {
    "kernelspec": {
      "name": "python3",
      "display_name": "Python 3 (ipykernel)",
      "language": "python"
    },
    "language_info": {
      "name": "python",
      "codemirror_mode": {
        "name": "ipython",
        "version": "3"
      },
      "file_extension": ".py",
      "mimetype": "text/x-python",
      "nbconvert_exporter": "python",
      "pygments_lexer": "ipython3",
      "version": "3.11.5"
    }
  }
}