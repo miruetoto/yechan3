{
  "cells": [
    {
      "cell_type": "markdown",
      "metadata": {},
      "source": [
        "# 02wk-003: 타이타닉, 첫 제출\n",
        "\n",
        "최규빈  \n",
        "2023-09-12\n",
        "\n",
        "# 1. 강의영상\n",
        "\n",
        "<https://youtu.be/playlist?list=PLQqh36zP38-zw88937ohvzYyltCjK-_mg&si=gQE8ICf9c9TvFaxy>\n",
        "\n",
        "# 2. 제출방법\n",
        "\n",
        "`-` 제출: Submit Predictions\n",
        "\n",
        "`-` 결과확인: Leaderboard\n",
        "\n",
        "# 3. 결과확인\n",
        "\n",
        "## A. test – 답을 모름, 제출해야 알 수 있음\n",
        "\n",
        "`-` 제출결과는 리더보드에서 확인할 수 있음.\n",
        "\n",
        "## B. train – 스스로 풀어보고 채점할 수 있음\n",
        "\n",
        "`-` 캐글에서 code $\\to$ New Notebook 클릭\n",
        "\n",
        "``` python\n",
        "# This Python 3 environment comes with many helpful analytics libraries installed\n",
        "# It is defined by the kaggle/python Docker image: https://github.com/kaggle/docker-python\n",
        "# For example, here's several helpful packages to load\n",
        "\n",
        "import numpy as np # linear algebra\n",
        "import pandas as pd # data processing, CSV file I/O (e.g. pd.read_csv)\n",
        "\n",
        "# Input data files are available in the read-only \"../input/\" directory\n",
        "# For example, running this (by clicking run or pressing Shift+Enter) will list all files under the input directory\n",
        "\n",
        "import os\n",
        "for dirname, _, filenames in os.walk('/kaggle/input'):\n",
        "    for filename in filenames:\n",
        "        print(os.path.join(dirname, filename))\n",
        "\n",
        "# You can write up to 20GB to the current directory (/kaggle/working/) that gets preserved as output when you create a version using \"Save & Run All\" \n",
        "# You can also write temporary files to /kaggle/temp/, but they won't be saved outside of the current session\n",
        "```\n",
        "\n",
        "    /kaggle/input/titanic/train.csv\n",
        "    /kaggle/input/titanic/test.csv\n",
        "    /kaggle/input/titanic/gender_submission.csv"
      ],
      "id": "7f25a55c-a01b-4521-80da-0cc78b29a996"
    },
    {
      "cell_type": "code",
      "execution_count": null,
      "metadata": {},
      "outputs": [],
      "source": [
        "tr=pd.read_csv(\"/kaggle/input/titanic/train.csv\")\n",
        "tst=pd.read_csv(\"/kaggle/input/titanic/test.csv\")"
      ],
      "id": "d8ce487b-aad1-4ec5-bc90-bc254a0425f4"
    },
    {
      "cell_type": "markdown",
      "metadata": {},
      "source": [
        "`#` 예비학습 – accuracy의 계산"
      ],
      "id": "5afb959b-2ef1-46a9-ab60-2d7828e92b89"
    },
    {
      "cell_type": "code",
      "execution_count": 1,
      "metadata": {},
      "outputs": [],
      "source": [
        "import pandas as pd "
      ],
      "id": "838b552c-5ec7-4cd3-8702-51b9625ed536"
    },
    {
      "cell_type": "code",
      "execution_count": 19,
      "metadata": {},
      "outputs": [],
      "source": [
        "df = pd.DataFrame({'Surv':[1,0,1,1,0],'Sex':['f','m','f','m','m']})"
      ],
      "id": "4d2cee85-51bc-446a-8a03-644913818b62"
    },
    {
      "cell_type": "markdown",
      "metadata": {},
      "source": [
        "`-` Surv 열의 선택"
      ],
      "id": "8a8f45fb-e397-4c8e-bbee-e1df969622d3"
    },
    {
      "cell_type": "code",
      "execution_count": 21,
      "metadata": {},
      "outputs": [],
      "source": [
        "df.Surv"
      ],
      "id": "6536357c-2939-4f15-822a-e3e4bb9f0cda"
    },
    {
      "cell_type": "markdown",
      "metadata": {},
      "source": [
        "`-` Sex 열의 선택"
      ],
      "id": "9d5a24cc-e613-46ad-bfc3-8d38df0b34bc"
    },
    {
      "cell_type": "code",
      "execution_count": 22,
      "metadata": {},
      "outputs": [],
      "source": [
        "df.Sex"
      ],
      "id": "9f72546b-14c7-4dbf-ac49-642dc103666a"
    },
    {
      "cell_type": "markdown",
      "metadata": {},
      "source": [
        "`-` `Sex == f`이면 생존(1), 그렇지 않으면 사망(0)이라고 예측"
      ],
      "id": "7a0f3ef4-c441-4fc2-8af5-2ccaf050877a"
    },
    {
      "cell_type": "code",
      "execution_count": 26,
      "metadata": {},
      "outputs": [],
      "source": [
        "(df.Sex == 'f')*1"
      ],
      "id": "8ca835df-a89e-4372-9b36-0d4ec6a18d04"
    },
    {
      "cell_type": "markdown",
      "metadata": {},
      "source": [
        "`-` 결과를 정리하면 아래와 같음"
      ],
      "id": "78483bfd-e784-40c9-a8f1-08a373ad5ac3"
    },
    {
      "cell_type": "code",
      "execution_count": 27,
      "metadata": {},
      "outputs": [],
      "source": [
        "pd.DataFrame({'real': df.Surv, 'estimate': (df.Sex == 'f')*1})"
      ],
      "id": "6b7f721d-454c-4be7-8a2f-35cafefa72e6"
    },
    {
      "cell_type": "markdown",
      "metadata": {},
      "source": [
        "`-` accuracy를 손으로 계산하면 $\\frac{4}{5}=0.8$.\n",
        "\n",
        "`-` 컴퓨터로 accuracy를 계산한다면"
      ],
      "id": "84876862-9c1e-4a86-a598-c04b52c4db8a"
    },
    {
      "cell_type": "code",
      "execution_count": 33,
      "metadata": {},
      "outputs": [],
      "source": [
        "(df.Surv == (df.Sex == 'f')*1).sum()/5 # 방법1"
      ],
      "id": "c54e275e-6260-4e74-9b47-7c1f33ef4b66"
    },
    {
      "cell_type": "code",
      "execution_count": 34,
      "metadata": {},
      "outputs": [],
      "source": [
        "(df.Surv == (df.Sex == 'f')*1).mean() # 방법2"
      ],
      "id": "c888d597-ab06-4056-a5ef-4dbcee789563"
    },
    {
      "cell_type": "markdown",
      "metadata": {},
      "source": [
        "`#`\n",
        "\n",
        "`-` 실제자료의 accuracy를 구해보자."
      ],
      "id": "802e770e-e8a4-41e9-ad80-6c868680d18e"
    },
    {
      "cell_type": "code",
      "execution_count": 35,
      "metadata": {},
      "outputs": [],
      "source": [
        "tr = pd.read_csv('./titanic/train.csv')"
      ],
      "id": "7b6eee3f-d94c-4912-bef1-4ca0db980cf1"
    },
    {
      "cell_type": "code",
      "execution_count": 36,
      "metadata": {},
      "outputs": [],
      "source": [
        "(tr.Survived == (tr.Sex == 'female')).mean()"
      ],
      "id": "712c3e52-fb01-4a19-8a61-a18965e551c7"
    },
    {
      "cell_type": "markdown",
      "metadata": {},
      "source": [
        "# 4. 개념\n",
        "\n",
        "`-` 캐글대회는 시험과 비슷하다.\n",
        "\n",
        "-   캐글대회를 여는 사람은 보통 (1) 모의고사문제+답 (training set) (2)\n",
        "    실제시험문제 (test set)를 준다.[1]\n",
        "-   (1)의 자료에서는 문제(X,독립변수,설명변수)와\n",
        "    답(y,종속변수,반응변수)이 함께 주어진다.\n",
        "-   (2)의 자료에서는 문제(X,독립변수,설명변수)만 주어진다.\n",
        "-   우리는 (1)을 이용하여 문제(X,독립변수,설명변수)와\n",
        "    답(y,종속변수,반응변수)사이의 관계를 찾아내는 훈련을 한다.\n",
        "-   그리고 그 훈련이 잘 되었는지를 평가하기 위해서 (2)를 풀어보고 그\n",
        "    결과를 제출한다.\n",
        "\n",
        "`-` 타이타닉의 training set\n",
        "\n",
        "[1] 물론 모든 대회가 이런건 아님, 시험도 수능같은 시험만 있는게 아닌\n",
        "실기같은것도 있잖아요?"
      ],
      "id": "f898f16d-562d-49d0-8d80-72e6077ed89f"
    },
    {
      "cell_type": "code",
      "execution_count": 39,
      "metadata": {},
      "outputs": [],
      "source": [
        "tr.iloc[0]"
      ],
      "id": "a6dc0209-e416-47c5-a4db-aa9153ab1af8"
    },
    {
      "cell_type": "markdown",
      "metadata": {},
      "source": [
        "-   모의고사문제1: Pclass는 3이에요, 그리고 이름은 ‘Braund, Mr. Owen\n",
        "    Harris’ 입니다. 성별은 ‘male’ 입니다. 그리고 …. 입니다. 이 사람은\n",
        "    죽었을까요? 살았을까요?\n",
        "\n",
        "-   답1: 죽었습니다."
      ],
      "id": "2a99632d-6311-4406-9e46-1ec5f7af3543"
    },
    {
      "cell_type": "code",
      "execution_count": 44,
      "metadata": {},
      "outputs": [],
      "source": [
        "tr.iloc[1]"
      ],
      "id": "83d4b234-bec6-42c4-8c6a-65300ffee511"
    },
    {
      "cell_type": "markdown",
      "metadata": {},
      "source": [
        "-   모의고사문제2: Pclass는 1이에요, 그리고 이름은 ‘Cumings, Mrs. John\n",
        "    Bradley (Florence Briggs Thayer)’ 입니다. 성별은 ‘female’ 입니다.\n",
        "    그리고 …. 입니다. 이 사람은 죽었을까요? 살았을까요?\n",
        "\n",
        "-   답2: 살았습니다.\n",
        "\n",
        "`-` 타이타닉의 test set"
      ],
      "id": "b7b45cc1-06aa-4be3-98a3-634e90225180"
    },
    {
      "cell_type": "code",
      "execution_count": 47,
      "metadata": {},
      "outputs": [],
      "source": [
        "tst = pd.read_csv('./titanic/test.csv')"
      ],
      "id": "51c4c3d6-b7b3-4fcb-acfb-3795719654a2"
    },
    {
      "cell_type": "code",
      "execution_count": 48,
      "metadata": {},
      "outputs": [],
      "source": [
        "tst.iloc[0]"
      ],
      "id": "c5233522-3740-4dfd-8038-ed1cc151fe3b"
    },
    {
      "cell_type": "markdown",
      "metadata": {},
      "source": [
        "-   실전문제1: Pclass는 3이에요, 그리고 이름은 ‘Kelly, Mr. James’\n",
        "    입니다. 성별은 ‘male’ 입니다. 그리고 …. 입니다. 이 사람은\n",
        "    죽었을까요? 살았을까요?\n",
        "\n",
        "-   답1: (속마음: 훈련집합에서 대부분 남자는 죽고 여자는 살았다고 푸니까\n",
        "    대충 78점 정도는 맞던데? 이 사람도 남자니까 죽었다고 하자) 죽었다고\n",
        "    예측하겠습니다."
      ],
      "id": "ee140f62-a92c-4ee6-b8a5-3ebb076a3382"
    }
  ],
  "nbformat": 4,
  "nbformat_minor": 5,
  "metadata": {
    "kernelspec": {
      "name": "python3",
      "display_name": "Python 3 (ipykernel)",
      "language": "python"
    },
    "language_info": {
      "name": "python",
      "codemirror_mode": {
        "name": "ipython",
        "version": "3"
      },
      "file_extension": ".py",
      "mimetype": "text/x-python",
      "nbconvert_exporter": "python",
      "pygments_lexer": "ipython3",
      "version": "3.10.12"
    }
  }
}