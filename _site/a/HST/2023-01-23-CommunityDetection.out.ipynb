{
  "cells": [
    {
      "cell_type": "markdown",
      "metadata": {},
      "source": [
        "# **\\[HST\\]** CommunityDetection\n",
        "\n",
        "신록예찬  \n",
        "2023-01-24\n",
        "\n",
        "# ref\n",
        "\n",
        "`-` (**roddenberry2020exact?**)\n",
        "\n",
        "-   <https://arxiv.org/pdf/2001.10944.pdf>\n",
        "-   intro에 그래프는 single correct한 structure를 알 수 없다는 이야기가\n",
        "    있는데 이를 이용해야함.\n",
        "\n",
        "# 방법론"
      ],
      "id": "ffb26a28-16a2-436c-839a-2c7a0c7aa22f"
    }
  ],
  "nbformat": 4,
  "nbformat_minor": 5,
  "metadata": {
    "kernelspec": {
      "name": "python3",
      "display_name": "Python 3 (ipykernel)",
      "language": "python"
    },
    "language_info": {
      "name": "python",
      "codemirror_mode": {
        "name": "ipython",
        "version": "3"
      },
      "file_extension": ".py",
      "mimetype": "text/x-python",
      "nbconvert_exporter": "python",
      "pygments_lexer": "ipython3",
      "version": "3.11.4"
    }
  }
}