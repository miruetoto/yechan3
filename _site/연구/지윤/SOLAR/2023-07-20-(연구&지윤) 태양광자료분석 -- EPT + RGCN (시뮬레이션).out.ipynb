{
  "cells": [
    {
      "cell_type": "markdown",
      "metadata": {},
      "source": [
        "# (연구&지윤) 태양광자료분석 – EPT + RGCN (시뮬레이션)\n",
        "\n",
        "신록예찬  \n",
        "2023-07-20"
      ],
      "id": "0e6a7b65-795c-4b54-955f-a83d8a53a235"
    },
    {
      "cell_type": "code",
      "execution_count": 1,
      "metadata": {},
      "outputs": [],
      "source": [
        "%run 0807.py"
      ],
      "id": "1b7ba839-2de0-4ee2-9075-1d4987e53720"
    },
    {
      "cell_type": "code",
      "execution_count": 2,
      "metadata": {},
      "outputs": [],
      "source": [
        "import os"
      ],
      "id": "dced1020-205e-41f5-8a9b-34cfad9db5e2"
    },
    {
      "cell_type": "code",
      "execution_count": 3,
      "metadata": {},
      "outputs": [],
      "source": [
        "s=Simulator()"
      ],
      "id": "8b641306-3482-47f6-ae4e-ea5df34e2540"
    },
    {
      "cell_type": "code",
      "execution_count": 4,
      "metadata": {},
      "outputs": [
        {
          "output_type": "stream",
          "name": "stdout",
          "text": [
            "method:classic lag:1 filters:4 epoch:1 is done\n",
            "method:classic lag:1 filters:6 epoch:1 is done\n",
            "method:proposed lag:1 filters:4 epoch:1 is done\n",
            "method:proposed lag:1 filters:6 epoch:1 is done\n",
            "save results"
          ]
        }
      ],
      "source": [
        "class GConv_GRU(torch.nn.Module):\n",
        "    def __init__(self, node_features, filters):\n",
        "        super(GConv_GRU, self).__init__()\n",
        "        self.recurrent = GConvGRU(node_features, filters, 2)\n",
        "        self.linear = torch.nn.Linear(filters, 1)\n",
        "\n",
        "    def forward(self, x, edge_index, edge_weight):\n",
        "        h = self.recurrent(x, edge_index, edge_weight)\n",
        "        h = F.relu(h)\n",
        "        h = self.linear(h)\n",
        "        return h\n",
        "        \n",
        "s.simulate(\n",
        "    n_iteration = 1,\n",
        "    lags = [1],\n",
        "    filters = [4,6],\n",
        "    epoch = [1],\n",
        "    Model = GConv_GRU\n",
        ")"
      ],
      "id": "cd94f43b-8b16-4d03-90c7-56104cf5ec7e"
    },
    {
      "cell_type": "code",
      "execution_count": 5,
      "metadata": {},
      "outputs": [],
      "source": [
        "fnames = ['./results/'+l for l in os.listdir('./results/') if l[0] != '.']\n",
        "fnames "
      ],
      "id": "d2e03899-dddc-4929-82cf-e12fe58f01f4"
    },
    {
      "cell_type": "code",
      "execution_count": 6,
      "metadata": {},
      "outputs": [],
      "source": [
        "pd.concat([pd.read_csv(fname) for fname in fnames]).reset_index(drop=True)"
      ],
      "id": "d36ba66e-e9e5-432d-9b4e-7fa7d7ea0eaa"
    }
  ],
  "nbformat": 4,
  "nbformat_minor": 5,
  "metadata": {
    "kernelspec": {
      "name": "python3",
      "display_name": "Python 3 (ipykernel)",
      "language": "python"
    },
    "language_info": {
      "name": "python",
      "codemirror_mode": {
        "name": "ipython",
        "version": "3"
      },
      "file_extension": ".py",
      "mimetype": "text/x-python",
      "nbconvert_exporter": "python",
      "pygments_lexer": "ipython3",
      "version": "3.10.13"
    }
  }
}