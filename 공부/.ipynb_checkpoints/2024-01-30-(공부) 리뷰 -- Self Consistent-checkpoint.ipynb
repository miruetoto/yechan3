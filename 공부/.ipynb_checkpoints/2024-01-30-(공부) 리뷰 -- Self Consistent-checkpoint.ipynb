{
 "cells": [
  {
   "cell_type": "raw",
   "id": "5a38faba-4434-41a1-bb17-04827c5e3e7f",
   "metadata": {},
   "source": [
    "---\n",
    "title: \"(공부) 리뷰 -- Self Consistent\"\n",
    "author: \"신록예찬\"\n",
    "date: \"01/30/2024\"\n",
    "---"
   ]
  },
  {
   "cell_type": "markdown",
   "id": "a6d5e0bc",
   "metadata": {},
   "source": [
    "${\\bf y}$ is self-consistent for ${\\bf X}$"
   ]
  },
  {
   "cell_type": "code",
   "execution_count": null,
   "id": "a85e1e2a",
   "metadata": {},
   "outputs": [],
   "source": []
  }
 ],
 "metadata": {
  "kernelspec": {
   "display_name": "Python 3 (ipykernel)",
   "language": "python",
   "name": "python3"
  },
  "language_info": {
   "codemirror_mode": {
    "name": "ipython",
    "version": 3
   },
   "file_extension": ".py",
   "mimetype": "text/x-python",
   "name": "python",
   "nbconvert_exporter": "python",
   "pygments_lexer": "ipython3",
   "version": "3.11.7"
  }
 },
 "nbformat": 4,
 "nbformat_minor": 5
}
