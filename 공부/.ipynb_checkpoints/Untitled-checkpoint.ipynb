{
 "cells": [
  {
   "cell_type": "markdown",
   "id": "a6d5e0bc",
   "metadata": {},
   "source": [
    "${\\bf y}$ is self-consistent for ${\\bf X}$"
   ]
  },
  {
   "cell_type": "code",
   "execution_count": null,
   "id": "a85e1e2a",
   "metadata": {},
   "outputs": [],
   "source": []
  }
 ],
 "metadata": {
  "kernelspec": {
   "display_name": "Python 3 (ipykernel)",
   "language": "python",
   "name": "python3"
  },
  "language_info": {
   "codemirror_mode": {
    "name": "ipython",
    "version": 3
   },
   "file_extension": ".py",
   "mimetype": "text/x-python",
   "name": "python",
   "nbconvert_exporter": "python",
   "pygments_lexer": "ipython3",
   "version": "3.10.13"
  }
 },
 "nbformat": 4,
 "nbformat_minor": 5
}
