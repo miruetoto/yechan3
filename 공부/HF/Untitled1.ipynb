{
 "cells": [
  {
   "cell_type": "markdown",
   "id": "9100829d-a07d-40f0-acfe-5dd6f6c32f4d",
   "metadata": {},
   "source": [
    "| 학년 학기     | 과목명                        | 영어 과목명                        | 전필 여부 | 활용 언어       |\n",
    "|---------------|-------------------------------|------------------------------------|-----------|----------------|\n",
    "| **2학년 1학기** |                               |                                    |           |                |\n",
    "| 2학년 1학기   | **선형대수학**                 | **Linear Algebra**                 | **전필**  | -              |\n",
    "| 2학년 1학기   | **통계학입문**                 | **Introduction to Statistics**     | **전필**  | R              |\n",
    "| 2학년 1학기   | **데이터과학입문**            | **Introduction to Data Science**   | **전필**  | R, Python      |\n",
    "| 2학년 1학기   | R 프로그래밍                   | R Programming                      | 전선      | R              |\n",
    "| 2학년 1학기   | Python 프로그래밍              | Python Programming                 | 전선      | Python         |\n",
    "| **2학년 2학기** |                               |                                    |           |                |\n",
    "| 2학년 2학기   | **확률개념 및 응용**           | **Introduction to Probability**    | **전필**  | -              |\n",
    "| 2학년 2학기   | **회귀분석**                   | **Regression Analysis**            | **전필**  | R              |\n",
    "| 2학년 2학기   | 빅데이터 개론                 | Introduction to Big Data           | 전선      | Python         |\n",
    "| 2학년 2학기   | **데이터관리 및 처리**         | **Data Management and Processing** | **전필**  | R, Python      |\n",
    "| 2학년 2학기   | 데이터시각화                  | Data Visualization                 | 전선      | Python         |\n",
    "| **3학년 1학기** |                               |                                    |           |                |\n",
    "| 3학년 1학기   | **기계학습**                   | **Machine Learning**               | **전필**  | Python         |\n",
    "| 3학년 1학기   | 딥러닝                        | Deep Learning                      | 전선      | Python         |\n",
    "| 3학년 1학기   | 통계적추론                    | Statistical Inference              | 전선      | R              |\n",
    "| 3학년 1학기   | 확률과정론                    | Stochastic Processes               | 전선      | -              |\n",
    "| 3학년 1학기   | 실험계획법                    | Experimental Design                | 전선      | R              |\n",
    "| **3학년 2학기** |                               |                                    |           |                |\n",
    "| 3학년 2학기   | 기계학습 활용                 | Machine Learning in Practice       | 전선      | Python         |\n",
    "| 3학년 2학기   | 인공지능 및 딥러닝 활용        | AI and Deep Learning in Practice   | 전선      | Python         |\n",
    "| 3학년 2학기   | 시계열자료분석               | Time Series Analysis               | 전선      | R              |\n",
    "| 3학년 2학기   | 생명과학자료분석            | Biological Data Analysis           | 전선      | R, SAS         |\n",
    "| 3학년 2학기   | 다변량자료분석               | Multivariate Data Analysis         | 전선      | R, Python      |\n",
    "| 3학년 2학기   | 베이지안통계학                | Bayesian Statistics                | 전선      | R, Python      |\n",
    "| **4학년 1학기** |                               |                                    |           |                |\n",
    "| 4학년 1학기   | 텍스트마이닝                  | Text Mining                        | 전선      | Python         |\n",
    "| 4학년 1학기   | 데이터마이닝                  | Data Mining                        | 전선      | R, Python      |\n",
    "| 4학년 1학기   | 응용통계학                    | Applied Statistics                 | 전선      | R              |\n",
    "| 4학년 1학기   | 사회조사방법론               | Social Survey Methods              | 전선      | R              |\n",
    "| 4학년 1학기   | 통계프로젝트 1 (캡스톤디자인 1) | Statistical Project 1 (Capstone Design 1) | 전선   | R, Python      |\n",
    "| **4학년 2학기** |                               |                                    |           |                |\n",
    "| 4학년 2학기   | 영상처리                      | Advanced Visual Processing         | 전선      | Python         |\n",
    "| 4학년 2학기   | 인과추론                      | Causal Inference                   | 전선      | R, Python      |\n",
    "| 4학년 2학기   | 금융통계                      | Financial Statistics               | 전선      | R              |\n",
    "| 4학년 2학기   | 보험수리학                    | Actuarial Mathematics              | 전선      | R              |\n",
    "| 4학년 2학기   | 통계프로젝트 2 (캡스톤디자인 2) | Statistical Project 2 (Capstone Design 2) | 전선   | R, Python      |"
   ]
  }
 ],
 "metadata": {
  "kernelspec": {
   "display_name": "Python 3 (ipykernel)",
   "language": "python",
   "name": "python3"
  },
  "language_info": {
   "codemirror_mode": {
    "name": "ipython",
    "version": 3
   },
   "file_extension": ".py",
   "mimetype": "text/x-python",
   "name": "python",
   "nbconvert_exporter": "python",
   "pygments_lexer": "ipython3",
   "version": "3.12.2"
  }
 },
 "nbformat": 4,
 "nbformat_minor": 5
}
