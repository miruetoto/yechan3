{
  "cells": [
    {
      "cell_type": "markdown",
      "metadata": {},
      "source": [
        "# (강의) 이미지분류 SIIM-ISIC\n",
        "\n",
        "신록예찬  \n",
        "2024-10-30\n",
        "\n",
        "SIIM-ISIC\n",
        "\n",
        "https://www.kaggle.com/competitions/siim-isic-melanoma-classification/data"
      ],
      "id": "7101c73d-44a7-44a4-89b8-7c65b41d76a7"
    }
  ],
  "nbformat": 4,
  "nbformat_minor": 5,
  "metadata": {
    "kernelspec": {
      "name": "python3",
      "display_name": "Python 3",
      "language": "python"
    },
    "language_info": {
      "name": "python"
    }
  }
}