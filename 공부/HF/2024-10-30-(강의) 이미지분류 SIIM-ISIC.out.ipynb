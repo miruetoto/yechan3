{
  "cells": [
    {
      "cell_type": "markdown",
      "metadata": {},
      "source": [
        "# (강의) 이미지분류 SIIM-ISIC\n",
        "\n",
        "신록예찬  \n",
        "2024-10-30\n",
        "\n",
        "SIIM-ISIC\n",
        "\n",
        "https://www.kaggle.com/competitions/siim-isic-melanoma-classification/data"
      ],
      "id": "f6cca5d2-c36a-46b6-83ec-31141509c409"
    }
  ],
  "nbformat": 4,
  "nbformat_minor": 5,
  "metadata": {
    "kernelspec": {
      "name": "python3",
      "display_name": "Python 3",
      "language": "python"
    },
    "language_info": {
      "name": "python"
    }
  }
}