{
  "cells": [
    {
      "cell_type": "markdown",
      "metadata": {},
      "source": [
        "# Image captioning"
      ],
      "id": "e0852b8f-4f5c-4490-a31e-72fb4717551c"
    },
    {
      "cell_type": "code",
      "execution_count": null,
      "metadata": {},
      "outputs": [],
      "source": [
        "# Transformers installation\n",
        "! pip install transformers datasets\n",
        "# To install from source instead of the last release, comment the command above and uncomment the following one.\n",
        "# ! pip install git+https://github.com/huggingface/transformers.git"
      ],
      "id": "cell-0"
    },
    {
      "cell_type": "markdown",
      "metadata": {},
      "source": [
        "# Image captioning\n",
        "\n",
        "Image captioning is the task of predicting a caption for a given image.\n",
        "Common real world applications of it include aiding visually impaired\n",
        "people that can help them navigate through different situations.\n",
        "Therefore, image captioning helps to improve content accessibility for\n",
        "people by describing images to them.\n",
        "\n",
        "This guide will show you how to:\n",
        "\n",
        "-   Fine-tune an image captioning model.\n",
        "-   Use the fine-tuned model for inference.\n",
        "\n",
        "Before you begin, make sure you have all the necessary libraries\n",
        "installed:\n",
        "\n",
        "``` bash\n",
        "pip install transformers datasets evaluate -q\n",
        "pip install jiwer -q\n",
        "```\n",
        "\n",
        "We encourage you to log in to your Hugging Face account so you can\n",
        "upload and share your model with the community. When prompted, enter\n",
        "your token to log in:"
      ],
      "id": "ebf71db8-d310-404e-ab0d-9e64a52074b3"
    },
    {
      "cell_type": "code",
      "execution_count": 6,
      "metadata": {},
      "outputs": [],
      "source": [
        "from huggingface_hub import notebook_login\n",
        "\n",
        "notebook_login()"
      ],
      "id": "cell-3"
    },
    {
      "cell_type": "markdown",
      "metadata": {},
      "source": [
        "## Load the Pokémon BLIP captions dataset\n",
        "\n",
        "Use the 🤗 Dataset library to load a dataset that consists of\n",
        "{image-caption} pairs. To create your own image captioning dataset in\n",
        "PyTorch, you can follow [this\n",
        "notebook](https://github.com/NielsRogge/Transformers-Tutorials/blob/master/GIT/Fine_tune_GIT_on_an_image_captioning_dataset.ipynb)."
      ],
      "id": "492fb86b-36a6-4a66-8e68-111f91438e49"
    },
    {
      "cell_type": "code",
      "execution_count": 12,
      "metadata": {},
      "outputs": [
        {
          "output_type": "stream",
          "name": "stderr",
          "text": [
            "Downloading readme: 100%|██████████| 14.2k/14.2k [00:00<00:00, 21.4MB/s]\n",
            "Downloading data: 100%|██████████| 187M/187M [00:07<00:00, 24.9MB/s] \n",
            "Downloading data: 100%|██████████| 187M/187M [00:07<00:00, 25.2MB/s] \n",
            "Downloading data: 100%|██████████| 1.77M/1.77M [00:00<00:00, 2.97MB/s]\n",
            "Generating train split: 100%|██████████| 3318333/3318333 [00:01<00:00, 2439176.10 examples/s]\n",
            "Generating validation split: 100%|██████████| 15840/15840 [00:00<00:00, 2203867.03 examples/s]"
          ]
        },
        {
          "output_type": "display_data",
          "metadata": {},
          "data": {
            "text/plain": [
              "Dataset({\n",
              "    features: ['image_url', 'caption'],\n",
              "    num_rows: 3318333\n",
              "})"
            ]
          }
        }
      ],
      "source": [
        "from datasets import load_dataset\n",
        "\n",
        "# Conceptual Captions 데이터셋 불러오기\n",
        "ds = load_dataset(\"conceptual_captions\", split=\"train\")\n",
        "\n",
        "ds"
      ],
      "id": "cell-6"
    },
    {
      "cell_type": "code",
      "execution_count": 14,
      "metadata": {},
      "outputs": [
        {
          "output_type": "display_data",
          "metadata": {},
          "data": {
            "text/plain": [
              "Dataset({\n",
              "    features: ['image_url', 'caption'],\n",
              "    num_rows: 3318333\n",
              "})"
            ]
          }
        }
      ],
      "source": [
        "ds"
      ],
      "id": "cell-7"
    },
    {
      "cell_type": "code",
      "execution_count": 16,
      "metadata": {},
      "outputs": [],
      "source": [
        "ds = ds.train_test_split(test_size=0.1)\n",
        "train_ds = ds[\"train\"]\n",
        "test_ds = ds[\"test\"]"
      ],
      "id": "cell-8"
    },
    {
      "cell_type": "markdown",
      "metadata": {},
      "source": [
        "Let’s visualize a couple of samples from the training set."
      ],
      "id": "b7bbb362-2d59-49cc-b7cb-b170c8927a71"
    },
    {
      "cell_type": "code",
      "execution_count": 22,
      "metadata": {},
      "outputs": [
        {
          "output_type": "display_data",
          "metadata": {},
          "data": {
            "text/plain": [
              "{'image_url': 'http://l7.alamy.com/zooms/a95a95341dcb4ebd810d5a30503bb98a/fisherman-sell-seafood-at-the-fish-market-fg4p25.jpg',\n",
              " 'caption': 'sell seafood at the fish market'}"
            ]
          }
        }
      ],
      "source": [
        "train_ds"
      ],
      "id": "cell-10"
    },
    {
      "cell_type": "code",
      "execution_count": 19,
      "metadata": {},
      "outputs": [],
      "source": [
        "from textwrap import wrap\n",
        "import matplotlib.pyplot as plt\n",
        "import numpy as np\n",
        "\n",
        "\n",
        "def plot_images(images, captions):\n",
        "    plt.figure(figsize=(20, 20))\n",
        "    for i in range(len(images)):\n",
        "        ax = plt.subplot(1, len(images), i + 1)\n",
        "        caption = captions[i]\n",
        "        caption = \"\\n\".join(wrap(caption, 12))\n",
        "        plt.title(caption)\n",
        "        plt.imshow(images[i])\n",
        "        plt.axis(\"off\")\n",
        "\n",
        "\n",
        "sample_images_to_visualize = [np.array(train_ds[i][\"image\"]) for i in range(5)]\n",
        "sample_captions = [train_ds[i][\"text\"] for i in range(5)]\n",
        "plot_images(sample_images_to_visualize, sample_captions)"
      ],
      "id": "cell-11"
    },
    {
      "cell_type": "markdown",
      "metadata": {},
      "source": [
        "    <img src=\"https://huggingface.co/datasets/huggingface/documentation-images/resolve/main/transformers/tasks/sample_training_images_image_cap.png\" alt=\"Sample training images\"/>\n",
        "\n",
        "## Preprocess the dataset\n",
        "\n",
        "Since the dataset has two modalities (image and text), the\n",
        "pre-processing pipeline will preprocess images and the captions.\n",
        "\n",
        "To do so, load the processor class associated with the model you are\n",
        "about to fine-tune."
      ],
      "id": "0a85a696-34fe-44f7-82f2-e682975aa788"
    },
    {
      "cell_type": "code",
      "execution_count": null,
      "metadata": {},
      "outputs": [],
      "source": [
        "from transformers import AutoProcessor\n",
        "\n",
        "checkpoint = \"microsoft/git-base\"\n",
        "processor = AutoProcessor.from_pretrained(checkpoint)"
      ],
      "id": "cell-15"
    },
    {
      "cell_type": "markdown",
      "metadata": {},
      "source": [
        "The processor will internally pre-process the image (which includes\n",
        "resizing, and pixel scaling) and tokenize the caption."
      ],
      "id": "75c88c27-b552-43c1-a7b1-9d2ddab7bf5c"
    },
    {
      "cell_type": "code",
      "execution_count": null,
      "metadata": {},
      "outputs": [],
      "source": [
        "def transforms(example_batch):\n",
        "    images = [x for x in example_batch[\"image\"]]\n",
        "    captions = [x for x in example_batch[\"text\"]]\n",
        "    inputs = processor(images=images, text=captions, padding=\"max_length\")\n",
        "    inputs.update({\"labels\": inputs[\"input_ids\"]})\n",
        "    return inputs\n",
        "\n",
        "\n",
        "train_ds.set_transform(transforms)\n",
        "test_ds.set_transform(transforms)"
      ],
      "id": "cell-17"
    },
    {
      "cell_type": "markdown",
      "metadata": {},
      "source": [
        "With the dataset ready, you can now set up the model for fine-tuning.\n",
        "\n",
        "## Load a base model\n",
        "\n",
        "Load the\n",
        "[“microsoft/git-base”](https://huggingface.co/microsoft/git-base) into a\n",
        "[`AutoModelForCausalLM`](https://huggingface.co/docs/transformers/model_doc/auto#transformers.AutoModelForCausalLM)\n",
        "object."
      ],
      "id": "497dd0e3-86ed-4d57-aa6a-7372c828d4d3"
    },
    {
      "cell_type": "code",
      "execution_count": null,
      "metadata": {},
      "outputs": [],
      "source": [
        "from transformers import AutoModelForCausalLM\n",
        "\n",
        "model = AutoModelForCausalLM.from_pretrained(checkpoint)"
      ],
      "id": "cell-21"
    },
    {
      "cell_type": "markdown",
      "metadata": {},
      "source": [
        "## Evaluate\n",
        "\n",
        "Image captioning models are typically evaluated with the [Rouge\n",
        "Score](https://huggingface.co/spaces/evaluate-metric/rouge) or [Word\n",
        "Error Rate](https://huggingface.co/spaces/evaluate-metric/wer). For this\n",
        "guide, you will use the Word Error Rate (WER).\n",
        "\n",
        "We use the 🤗 Evaluate library to do so. For potential limitations and\n",
        "other gotchas of the WER, refer to [this\n",
        "guide](https://huggingface.co/spaces/evaluate-metric/wer)."
      ],
      "id": "9217b58e-92d3-4fd0-b924-b4388aff32d6"
    },
    {
      "cell_type": "code",
      "execution_count": null,
      "metadata": {},
      "outputs": [],
      "source": [
        "from evaluate import load\n",
        "import torch\n",
        "\n",
        "wer = load(\"wer\")\n",
        "\n",
        "\n",
        "def compute_metrics(eval_pred):\n",
        "    logits, labels = eval_pred\n",
        "    predicted = logits.argmax(-1)\n",
        "    decoded_labels = processor.batch_decode(labels, skip_special_tokens=True)\n",
        "    decoded_predictions = processor.batch_decode(predicted, skip_special_tokens=True)\n",
        "    wer_score = wer.compute(predictions=decoded_predictions, references=decoded_labels)\n",
        "    return {\"wer_score\": wer_score}"
      ],
      "id": "cell-24"
    },
    {
      "cell_type": "markdown",
      "metadata": {},
      "source": [
        "## Train!\n",
        "\n",
        "Now, you are ready to start fine-tuning the model. You will use the 🤗\n",
        "[Trainer](https://huggingface.co/docs/transformers/main/en/main_classes/trainer#transformers.Trainer)\n",
        "for this.\n",
        "\n",
        "First, define the training arguments using\n",
        "[TrainingArguments](https://huggingface.co/docs/transformers/main/en/main_classes/trainer#transformers.TrainingArguments)."
      ],
      "id": "553e189a-50f5-4840-8138-e23957255964"
    },
    {
      "cell_type": "code",
      "execution_count": null,
      "metadata": {},
      "outputs": [],
      "source": [
        "from transformers import TrainingArguments, Trainer\n",
        "\n",
        "model_name = checkpoint.split(\"/\")[1]\n",
        "\n",
        "training_args = TrainingArguments(\n",
        "    output_dir=f\"{model_name}-pokemon\",\n",
        "    learning_rate=5e-5,\n",
        "    num_train_epochs=50,\n",
        "    fp16=True,\n",
        "    per_device_train_batch_size=32,\n",
        "    per_device_eval_batch_size=32,\n",
        "    gradient_accumulation_steps=2,\n",
        "    save_total_limit=3,\n",
        "    evaluation_strategy=\"steps\",\n",
        "    eval_steps=50,\n",
        "    save_strategy=\"steps\",\n",
        "    save_steps=50,\n",
        "    logging_steps=50,\n",
        "    remove_unused_columns=False,\n",
        "    push_to_hub=True,\n",
        "    label_names=[\"labels\"],\n",
        "    load_best_model_at_end=True,\n",
        ")"
      ],
      "id": "cell-27"
    },
    {
      "cell_type": "markdown",
      "metadata": {},
      "source": [
        "Then pass them along with the datasets and the model to 🤗 Trainer."
      ],
      "id": "ad3320fe-513f-432f-846c-aaf30dc4e54e"
    },
    {
      "cell_type": "code",
      "execution_count": null,
      "metadata": {},
      "outputs": [],
      "source": [
        "trainer = Trainer(\n",
        "    model=model,\n",
        "    args=training_args,\n",
        "    train_dataset=train_ds,\n",
        "    eval_dataset=test_ds,\n",
        "    compute_metrics=compute_metrics,\n",
        ")"
      ],
      "id": "cell-29"
    },
    {
      "cell_type": "markdown",
      "metadata": {},
      "source": [
        "To start training, simply call\n",
        "[train()](https://huggingface.co/docs/transformers/main/en/main_classes/trainer#transformers.Trainer.train)\n",
        "on the\n",
        "[Trainer](https://huggingface.co/docs/transformers/main/en/main_classes/trainer#transformers.Trainer)\n",
        "object."
      ],
      "id": "3bf4d156-cca3-41ae-bd6b-c96d25ead8f3"
    },
    {
      "cell_type": "code",
      "execution_count": null,
      "metadata": {},
      "outputs": [],
      "source": [
        "trainer.train()"
      ],
      "id": "cell-31"
    },
    {
      "cell_type": "markdown",
      "metadata": {},
      "source": [
        "You should see the training loss drop smoothly as training progresses.\n",
        "\n",
        "Once training is completed, share your model to the Hub with the\n",
        "[push_to_hub()](https://huggingface.co/docs/transformers/main/en/main_classes/trainer#transformers.Trainer.push_to_hub)\n",
        "method so everyone can use your model:"
      ],
      "id": "62dcec80-d400-4992-95f0-b1c23143765d"
    },
    {
      "cell_type": "code",
      "execution_count": null,
      "metadata": {},
      "outputs": [],
      "source": [
        "trainer.push_to_hub()"
      ],
      "id": "cell-33"
    },
    {
      "cell_type": "markdown",
      "metadata": {},
      "source": [
        "## Inference\n",
        "\n",
        "Take a sample image from `test_ds` to test the model."
      ],
      "id": "017cbc7a-ba3c-4e7d-89c9-6d2a5043d5ed"
    },
    {
      "cell_type": "code",
      "execution_count": null,
      "metadata": {},
      "outputs": [],
      "source": [
        "from PIL import Image\n",
        "import requests\n",
        "\n",
        "url = \"https://huggingface.co/datasets/sayakpaul/sample-datasets/resolve/main/pokemon.png\"\n",
        "image = Image.open(requests.get(url, stream=True).raw)\n",
        "image"
      ],
      "id": "cell-36"
    },
    {
      "cell_type": "markdown",
      "metadata": {},
      "source": [
        "    <img src=\"https://huggingface.co/datasets/huggingface/documentation-images/resolve/main/transformers/tasks/test_image_image_cap.png\" alt=\"Test image\"/>\n",
        "\n",
        "Prepare image for the model."
      ],
      "id": "3b614e34-c1e5-457e-a40d-f63d7a1779b8"
    },
    {
      "cell_type": "code",
      "execution_count": null,
      "metadata": {},
      "outputs": [],
      "source": [
        "device = \"cuda\" if torch.cuda.is_available() else \"cpu\"\n",
        "\n",
        "inputs = processor(images=image, return_tensors=\"pt\").to(device)\n",
        "pixel_values = inputs.pixel_values"
      ],
      "id": "cell-38"
    },
    {
      "cell_type": "markdown",
      "metadata": {},
      "source": [
        "Call `generate` and decode the predictions."
      ],
      "id": "34a5c5ca-e72a-453e-b84e-96cd119425de"
    },
    {
      "cell_type": "code",
      "execution_count": null,
      "metadata": {},
      "outputs": [],
      "source": [
        "generated_ids = model.generate(pixel_values=pixel_values, max_length=50)\n",
        "generated_caption = processor.batch_decode(generated_ids, skip_special_tokens=True)[0]\n",
        "print(generated_caption)"
      ],
      "id": "cell-40"
    },
    {
      "cell_type": "markdown",
      "metadata": {},
      "source": [
        "``` bash\n",
        "a drawing of a pink and blue pokemon\n",
        "```\n",
        "\n",
        "Looks like the fine-tuned model generated a pretty good caption!"
      ],
      "id": "fbc1b771-f4e5-485d-bbf9-d2953604d8b1"
    }
  ],
  "nbformat": 4,
  "nbformat_minor": 5,
  "metadata": {
    "colab": {
      "provenance": []
    },
    "kernelspec": {
      "name": "python3",
      "display_name": "hf",
      "language": "python"
    },
    "language_info": {
      "name": "python",
      "codemirror_mode": {
        "name": "ipython",
        "version": "3"
      },
      "file_extension": ".py",
      "mimetype": "text/x-python",
      "nbconvert_exporter": "python",
      "pygments_lexer": "ipython3",
      "version": "3.12.2"
    }
  }
}