{
  "cells": [
    {
      "cell_type": "markdown",
      "metadata": {},
      "source": [
        "# (강의) torch.tensor 이해\n",
        "\n",
        "신록예찬  \n",
        "2024-10-31"
      ],
      "id": "54ac2254-e00e-413f-a878-8ac1a8e9be72"
    }
  ],
  "nbformat": 4,
  "nbformat_minor": 5,
  "metadata": {
    "kernelspec": {
      "name": "python3",
      "display_name": "Python 3",
      "language": "python"
    },
    "language_info": {
      "name": "python"
    }
  }
}