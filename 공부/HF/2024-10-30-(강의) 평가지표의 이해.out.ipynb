{
  "cells": [
    {
      "cell_type": "markdown",
      "metadata": {},
      "source": [
        "# (강의) 평가지표의 이해\n",
        "\n",
        "신록예찬  \n",
        "2024-10-30"
      ],
      "id": "5f17a188-34f5-4b8b-835b-ce469e7a30ea"
    }
  ],
  "nbformat": 4,
  "nbformat_minor": 5,
  "metadata": {
    "kernelspec": {
      "name": "python3",
      "display_name": "Python 3",
      "language": "python"
    },
    "language_info": {
      "name": "python"
    }
  }
}