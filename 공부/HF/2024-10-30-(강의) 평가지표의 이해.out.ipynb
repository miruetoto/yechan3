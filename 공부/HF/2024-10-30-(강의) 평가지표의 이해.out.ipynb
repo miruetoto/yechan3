{
  "cells": [
    {
      "cell_type": "markdown",
      "metadata": {},
      "source": [
        "# (강의) 평가지표의 이해\n",
        "\n",
        "신록예찬  \n",
        "2024-10-30"
      ],
      "id": "ae5cfcf0-e9eb-4829-ac8e-f9aadc8db2da"
    }
  ],
  "nbformat": 4,
  "nbformat_minor": 5,
  "metadata": {
    "kernelspec": {
      "name": "python3",
      "display_name": "Python 3",
      "language": "python"
    },
    "language_info": {
      "name": "python"
    }
  }
}