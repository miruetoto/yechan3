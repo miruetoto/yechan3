{
 "cells": [
  {
   "cell_type": "raw",
   "id": "9e9ba43b-f787-41dd-bf75-a52b37b89e65",
   "metadata": {},
   "source": [
    "---\n",
    "title: \"(공부) 조건부확률, 조건부기대값\"\n",
    "author: \"신록예찬\"\n",
    "date: \"01/26/2024\"\n",
    "---"
   ]
  },
  {
   "cell_type": "markdown",
   "id": "621c006f-5bd8-4ef0-af02-863a5997f0e0",
   "metadata": {},
   "source": [
    "`# 예제` - 주사위던지기 "
   ]
  },
  {
   "cell_type": "markdown",
   "id": "a5bce986-ebf2-4864-895a-840e52d9456b",
   "metadata": {},
   "source": [
    "`-` 아래와 같은 상황을 가정하자. \n",
    "\n",
    "- $\\Omega = \\{1,2,3,\\dots,6\\}$\n",
    "- ${\\cal F} = 2^\\Omega$\n",
    "- $P: {\\cal F} \\to [0,1]$ such that $P(\\{\\omega\\})=\\frac{1}{6}$. \n",
    "\n",
    "이제 $(\\Omega, {\\cal F})$ 위에서 아래와 같은 확률변수 $X: \\Omega \\to \\mathbb{R}$을 정의하자. \n",
    "\n",
    "- $X(\\{1\\}) =1$\n",
    "- $X(\\{2\\}) =2$\n",
    "- $X(\\{3\\}) =3$\n",
    "- $X(\\{4\\}) =4$\n",
    "- $X(\\{5\\}) =5$\n",
    "- $X(\\{6\\}) =6$"
   ]
  },
  {
   "cell_type": "markdown",
   "id": "9e7c02c1-6c11-4464-8a09-33fdb7431137",
   "metadata": {},
   "source": [
    "여기까지는 익숙한 셋팅이며, 이럴때 \n",
    "\n",
    "- $X$ is r.v. on $(\\Omega, {\\cal F})$\n",
    "- $X \\in {\\cal F}$\n",
    "\n",
    "와 같이 표현한다. "
   ]
  },
  {
   "cell_type": "markdown",
   "id": "b5aa2a6b-cd1b-4f78-aba4-d8b64d8703a0",
   "metadata": {},
   "source": [
    "`-` 이제 여기에서 아래와 같이 $\\Omega$를 disjoin한 $\\{B_i\\}$로 나누자. \n",
    "\n",
    "- $B_1 = \\{1,2\\}$ \n",
    "- $B_2 = \\{3,4,5,6\\}$\n",
    "\n",
    "그리고 $B_1$, $B_2$를 measurable하게 만드는 새로운 시그마필드 ${\\cal F}^*=\\sigma(B_1,B_2)$를 아래와 같이 정의하자. \n",
    "\n",
    "- ${\\cal F}^* = \\{\\emptyset, B_1, B_2, \\Omega\\}$^[당연히 ${\\cal F}^* \\subset {\\cal F}$]"
   ]
  },
  {
   "cell_type": "markdown",
   "id": "ffc22707-6061-4a9c-b73c-29b1bcaaba70",
   "metadata": {
    "tags": []
   },
   "source": [
    "이제 아래와 같은 $Y: \\Omega\\to\\mathbb{R}$를 고려하자. \n",
    "\n",
    "- $Y(\\{1\\}) = 1.5$\n",
    "- $Y(\\{2\\}) = 1.5$\n",
    "- $Y(\\{3\\}) = 4.5$\n",
    "- $Y(\\{4\\}) = 4.5$\n",
    "- $Y(\\{5\\}) = 4.5$\n",
    "- $Y(\\{6\\}) = 4.5$"
   ]
  },
  {
   "cell_type": "markdown",
   "id": "5c5da40c-60b2-4d3e-83b8-56ea5889c38c",
   "metadata": {},
   "source": [
    "여기에서 $Y$는 $(\\Omega, {\\cal F})$ 에서의 확률변수이기도 하지만 $(\\Omega, {\\cal F}^*)$에서의 확률변수이기도 하다. 즉 \n",
    "\n",
    "- $Y$ is r.v. on $(\\Omega, {\\cal F})$\n",
    "- $Y \\in {\\cal F}$\n",
    "- $Y$ is r.v. on $(\\Omega, {\\cal F}^*)$\n",
    "- $Y \\in {\\cal F}^*$\n",
    "\n",
    "이다.^[이렇게 보니까 ${\\cal F}^* \\subset {\\cal F}$ 임을 감안하면 $Y \\in {\\cal F}^* \\Rightarrow  Y \\in {\\cal F}$ 임이 당연하게 느껴진다. $Y \\in {\\cal F}$와 같은 기호표현이 너무 이상하게 느껴졌는데, 여기에서 의문이 조금 풀리는 것 같음.] "
   ]
  },
  {
   "cell_type": "markdown",
   "id": "38d704b2-ac9d-4d61-bf47-42b6b4652e45",
   "metadata": {},
   "source": [
    "또 $Y$는 아래와 같은 특징이 있다. \n",
    "\n",
    "- $\\forall A \\in {\\cal F}:~\\int_A X dP = \\int_A Y dP.$^[좌변은 $\\frac{1+2+3+4+5+6}{6}$ 이고 우변은 $\\frac{1.5+1.5+4.5+4.5+4.5+4.5}{6}$]"
   ]
  },
  {
   "cell_type": "markdown",
   "id": "077f8fd0-d35a-484f-b06f-437f9966ab17",
   "metadata": {},
   "source": [
    "이러한 조건을 만족하는 확률변수 $Y$를 conditional expectation of $X$ given ${\\cal F}^*$이라고 한다.^[조건부기대값이라고 번역하기는 조금 어색해서 원문그대로 외우는게 나은듯] "
   ]
  },
  {
   "cell_type": "markdown",
   "id": "80852345-1afd-485c-9bd8-3f3f098296b8",
   "metadata": {},
   "source": [
    "`#`"
   ]
  },
  {
   "cell_type": "markdown",
   "id": "b6ffc616-570b-43aa-aa6c-fa08510a8890",
   "metadata": {},
   "source": [
    "`# 정의` -- [@klenke2013probability, Def 8.11]"
   ]
  },
  {
   "cell_type": "code",
   "execution_count": null,
   "id": "0da5e7de-e69f-4acc-8d56-17098f46b8bb",
   "metadata": {},
   "outputs": [],
   "source": []
  }
 ],
 "metadata": {
  "kernelspec": {
   "display_name": "Python 3 (ipykernel)",
   "language": "python",
   "name": "python3"
  },
  "language_info": {
   "codemirror_mode": {
    "name": "ipython",
    "version": 3
   },
   "file_extension": ".py",
   "mimetype": "text/x-python",
   "name": "python",
   "nbconvert_exporter": "python",
   "pygments_lexer": "ipython3",
   "version": "3.11.7"
  }
 },
 "nbformat": 4,
 "nbformat_minor": 5
}
