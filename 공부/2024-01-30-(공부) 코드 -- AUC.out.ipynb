{
  "cells": [
    {
      "cell_type": "markdown",
      "metadata": {},
      "source": [
        "# (공부) 코드 – AUC sklearn\n",
        "\n",
        "신록예찬  \n",
        "2024-01-31"
      ],
      "id": "72b1d625-a975-443d-b466-12e13d94cb52"
    },
    {
      "cell_type": "code",
      "execution_count": 1,
      "metadata": {
        "tags": [],
        "vscode": {
          "languageId": "python"
        }
      },
      "outputs": [],
      "source": [
        "import numpy as np\n",
        "from sklearn.metrics import roc_auc_score"
      ],
      "id": "6de3d7eb-0f18-4f77-b793-723db052ce79"
    },
    {
      "cell_type": "code",
      "execution_count": 2,
      "metadata": {
        "tags": [],
        "vscode": {
          "languageId": "python"
        }
      },
      "outputs": [],
      "source": [
        "y = np.array([0,0,0,0,1])\n",
        "yhat = np.array([0,0,0,0,1])/10"
      ],
      "id": "74343feb-87b9-4d98-be0a-f6897cd5d5d3"
    },
    {
      "cell_type": "code",
      "execution_count": 3,
      "metadata": {
        "tags": [],
        "vscode": {
          "languageId": "python"
        }
      },
      "outputs": [
        {
          "output_type": "display_data",
          "metadata": {},
          "data": {
            "text/plain": [
              "(array([0, 0, 0, 0, 1]), array([0. , 0. , 0. , 0. , 0.1]))"
            ]
          }
        }
      ],
      "source": [
        "y,yhat"
      ],
      "id": "70ee86d4-9533-4217-ab5c-6534264704a9"
    },
    {
      "cell_type": "code",
      "execution_count": 4,
      "metadata": {
        "tags": [],
        "vscode": {
          "languageId": "python"
        }
      },
      "outputs": [
        {
          "output_type": "display_data",
          "metadata": {},
          "data": {
            "text/plain": [
              "1.0"
            ]
          }
        }
      ],
      "source": [
        "roc_auc_score(y,yhat)"
      ],
      "id": "5500634a-0342-430b-b5cd-ecf65eb894bb"
    }
  ],
  "nbformat": 4,
  "nbformat_minor": 5,
  "metadata": {
    "kernelspec": {
      "name": "python3",
      "display_name": "Python 3 (ipykernel)",
      "language": "python"
    }
  }
}