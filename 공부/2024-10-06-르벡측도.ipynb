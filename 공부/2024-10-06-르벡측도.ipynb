{
 "cells": [
  {
   "cell_type": "code",
   "execution_count": null,
   "id": "853202e4-a6e5-4e91-a353-2e14c3145b55",
   "metadata": {},
   "outputs": [],
   "source": []
  },
  {
   "cell_type": "markdown",
   "id": "6a84ec06-559a-474c-addc-3606d810d06e",
   "metadata": {},
   "source": [
    "$(100,200] \\subset \\bigcup_{k=1}^{\\infty}(150-k,150+k]$"
   ]
  },
  {
   "cell_type": "markdown",
   "id": "d628585b-2da5-4970-9614-8f58a58a83b9",
   "metadata": {},
   "source": [
    "- $\\lambda((149,151+\\frac{1}{4}) = \\lambda((149,151]) + \\frac{1}{4}$\n",
    "- $\\lambda((148,152+\\frac{1}{8}]) = \\lambda((148,152]) + \\frac{1}{8}$\n",
    "- $\\dots$"
   ]
  },
  {
   "cell_type": "markdown",
   "id": "2d1e42dd-973b-40ef-832f-0fc2264b82aa",
   "metadata": {},
   "source": [
    "$$[100+\\frac{1}{2},200] \\subset (100,200] \\subset \\bigcup_{k=1}^{\\infty}(150-k, 150+k] \\subset \\bigcup_{k=1}^{\\infty}(150-k, 150+k+\\frac{1}{2^{k+1}}]$$"
   ]
  },
  {
   "cell_type": "code",
   "execution_count": null,
   "id": "937f7812-815b-474b-a818-5baf307432f0",
   "metadata": {},
   "outputs": [],
   "source": []
  }
 ],
 "metadata": {
  "kernelspec": {
   "display_name": "Python 3 (ipykernel)",
   "language": "python",
   "name": "python3"
  },
  "language_info": {
   "codemirror_mode": {
    "name": "ipython",
    "version": 3
   },
   "file_extension": ".py",
   "mimetype": "text/x-python",
   "name": "python",
   "nbconvert_exporter": "python",
   "pygments_lexer": "ipython3",
   "version": "3.12.5"
  }
 },
 "nbformat": 4,
 "nbformat_minor": 5
}
