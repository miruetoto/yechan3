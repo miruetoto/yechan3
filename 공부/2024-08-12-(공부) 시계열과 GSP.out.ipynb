{
  "cells": [
    {
      "cell_type": "markdown",
      "metadata": {},
      "source": [
        "# (공부) 시계열과 GSP\n",
        "\n",
        "신록예찬  \n",
        "2024-08-12\n",
        "\n",
        "아래와 같은 시계열을 고려하여 보자.\n",
        "\n",
        "$$x_n = \\sum_{k=0}^{K-1}\\big(A_k \\cos(2\\pi \\omega_k t_n) + B_k\\sin(2\\pi \\omega_k t_n)\\big)$$\n",
        "\n",
        "여기에서 $A_k$ 와 $B_k$는 평균이 $0$ 이고 분산이 $\\sigma_k$ 인 분포에서\n",
        "생성된 확률변수이다.\n",
        "\n",
        "이 $x_n$의 acf는 아래와 같다.\n",
        "\n",
        "-   continuous version:\n",
        "    $\\gamma(h) = \\sum_{k=0}^{K-1}\\sigma^2_k\\cos(2\\pi \\omega_k h)$,\n",
        "    $h \\in \\mathbb{R}$.\n",
        "-   discrete version: \\$*h = *{k=0}"
      ],
      "id": "4263bccf-4cdf-44de-8a95-9d5557e51564"
    }
  ],
  "nbformat": 4,
  "nbformat_minor": 5,
  "metadata": {
    "kernelspec": {
      "name": "python3",
      "display_name": "Python 3",
      "language": "python"
    },
    "language_info": {
      "name": "python",
      "codemirror_mode": {
        "name": "ipython",
        "version": "3"
      },
      "file_extension": ".py",
      "mimetype": "text/x-python",
      "nbconvert_exporter": "python",
      "pygments_lexer": "ipython3",
      "version": "3.9.6"
    }
  }
}