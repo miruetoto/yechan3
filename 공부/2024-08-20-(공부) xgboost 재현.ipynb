{
  "cells": [
    {
      "cell_type": "raw",
      "id": "6ef522f7-591d-41ee-ab65-17b83834e115",
      "metadata": {},
      "source": [
        "---\n",
        "title: \"(공부) xgboost 재현\"\n",
        "author: \"신록예찬\"\n",
        "date: \"08/23/2024\"\n",
        "---"
      ]
    },
    {
      "cell_type": "markdown",
      "id": "878b303a",
      "metadata": {},
      "source": [
        "# Imports"
      ]
    },
    {
      "cell_type": "code",
      "execution_count": 2,
      "id": "91d2d18b-9be4-4a95-8547-9d77975938ea",
      "metadata": {
        "tags": []
      },
      "outputs": [],
      "source": [
        "import xgboost as xgb\n",
        "import numpy as np\n",
        "import pandas as pd\n",
        "import matplotlib.pyplot as plt\n",
        "import sklearn.tree\n",
        "#---#\n",
        "import warnings\n",
        "warnings.filterwarnings('ignore')\n",
        "#---#\n",
        "import matplotlib.animation\n",
        "import IPython"
      ]
    },
    {
      "cell_type": "markdown",
      "id": "d4b1e6ab-f68d-4fdc-bc84-2a236f027ab2",
      "metadata": {},
      "source": [
        "# Data"
      ]
    },
    {
      "cell_type": "code",
      "execution_count": 71,
      "id": "b25a21ed-2f77-49a5-855e-879ffb96a0a8",
      "metadata": {
        "tags": []
      },
      "outputs": [
        {
          "data": {
            "text/html": [
              "<div>\n",
              "<style scoped>\n",
              "    .dataframe tbody tr th:only-of-type {\n",
              "        vertical-align: middle;\n",
              "    }\n",
              "\n",
              "    .dataframe tbody tr th {\n",
              "        vertical-align: top;\n",
              "    }\n",
              "\n",
              "    .dataframe thead th {\n",
              "        text-align: right;\n",
              "    }\n",
              "</style>\n",
              "<table border=\"1\" class=\"dataframe\">\n",
              "  <thead>\n",
              "    <tr style=\"text-align: right;\">\n",
              "      <th></th>\n",
              "      <th>temp</th>\n",
              "      <th>sales</th>\n",
              "    </tr>\n",
              "  </thead>\n",
              "  <tbody>\n",
              "    <tr>\n",
              "      <th>0</th>\n",
              "      <td>-4.1</td>\n",
              "      <td>9.75</td>\n",
              "    </tr>\n",
              "    <tr>\n",
              "      <th>1</th>\n",
              "      <td>-3.7</td>\n",
              "      <td>10.75</td>\n",
              "    </tr>\n",
              "    <tr>\n",
              "      <th>2</th>\n",
              "      <td>-3.0</td>\n",
              "      <td>12.50</td>\n",
              "    </tr>\n",
              "    <tr>\n",
              "      <th>3</th>\n",
              "      <td>-1.3</td>\n",
              "      <td>16.75</td>\n",
              "    </tr>\n",
              "    <tr>\n",
              "      <th>4</th>\n",
              "      <td>-0.5</td>\n",
              "      <td>18.75</td>\n",
              "    </tr>\n",
              "    <tr>\n",
              "      <th>...</th>\n",
              "      <td>...</td>\n",
              "      <td>...</td>\n",
              "    </tr>\n",
              "    <tr>\n",
              "      <th>75</th>\n",
              "      <td>9.7</td>\n",
              "      <td>44.25</td>\n",
              "    </tr>\n",
              "    <tr>\n",
              "      <th>76</th>\n",
              "      <td>10.3</td>\n",
              "      <td>45.75</td>\n",
              "    </tr>\n",
              "    <tr>\n",
              "      <th>77</th>\n",
              "      <td>10.6</td>\n",
              "      <td>46.50</td>\n",
              "    </tr>\n",
              "    <tr>\n",
              "      <th>78</th>\n",
              "      <td>12.1</td>\n",
              "      <td>50.25</td>\n",
              "    </tr>\n",
              "    <tr>\n",
              "      <th>79</th>\n",
              "      <td>12.4</td>\n",
              "      <td>51.00</td>\n",
              "    </tr>\n",
              "  </tbody>\n",
              "</table>\n",
              "<p>80 rows × 2 columns</p>\n",
              "</div>"
            ],
            "text/plain": [
              "    temp  sales\n",
              "0   -4.1   9.75\n",
              "1   -3.7  10.75\n",
              "2   -3.0  12.50\n",
              "3   -1.3  16.75\n",
              "4   -0.5  18.75\n",
              "..   ...    ...\n",
              "75   9.7  44.25\n",
              "76  10.3  45.75\n",
              "77  10.6  46.50\n",
              "78  12.1  50.25\n",
              "79  12.4  51.00\n",
              "\n",
              "[80 rows x 2 columns]"
            ]
          },
          "execution_count": 71,
          "metadata": {},
          "output_type": "execute_result"
        }
      ],
      "source": [
        "np.random.seed(1)\n",
        "temp = pd.read_csv('https://raw.githubusercontent.com/guebin/DV2022/master/posts/temp.csv').iloc[:,3].to_numpy()[:80]\n",
        "temp.sort()\n",
        "eps = np.random.randn(80)*3 # 오차\n",
        "icecream_sales = 20 + temp * 2.5 #+ eps \n",
        "df_train = pd.DataFrame({'temp':temp,'sales':icecream_sales})\n",
        "df_train"
      ]
    },
    {
      "cell_type": "markdown",
      "id": "0cee2df4-c0af-4a08-9774-a4f855ebd4ca",
      "metadata": {},
      "source": [
        "# 적합"
      ]
    },
    {
      "cell_type": "code",
      "execution_count": 72,
      "id": "58d374c4-edb4-4200-acf8-160fd26d0310",
      "metadata": {
        "tags": []
      },
      "outputs": [],
      "source": [
        "# step1 \n",
        "X = df_train[['temp']]\n",
        "X = np.array(X).astype(np.float32)\n",
        "y = df_train['sales']\n",
        "y = np.array(y).astype(np.float32)\n"
      ]
    },
    {
      "cell_type": "markdown",
      "id": "906c35ae",
      "metadata": {},
      "source": [
        "# 수동구현"
      ]
    },
    {
      "cell_type": "code",
      "execution_count": 85,
      "id": "263a7925",
      "metadata": {},
      "outputs": [
        {
          "name": "stdout",
          "output_type": "stream",
          "text": [
            "0.011737638\n"
          ]
        }
      ],
      "source": [
        "N=2\n",
        "## 코드1 \n",
        "predictr = xgb.XGBRegressor(\n",
        "    n_estimators=N,         # 부스팅 라운드 수\n",
        "    learning_rate=0.1,         # 학습률\n",
        "    max_depth=6,               # 최대 깊이\n",
        "    min_child_weight=1,        # 최소 자식 가중치\n",
        "    subsample=1.0              # 데이터 샘플링 비율\n",
        ")\n",
        "predictr.fit(X,y)\n",
        "yhat = predictr.predict(X) \n",
        "\n",
        "## 코드2 \n",
        "yhat2 = np.full(y.shape, np.mean(y), dtype=np.float32)\n",
        "num_boosting_rounds = N\n",
        "dtrain = xgb.DMatrix(X, label=y)\n",
        "params = {\n",
        "    'objective': 'reg:squarederror',\n",
        "    'learning_rate': 0.1,\n",
        "    'max_depth': 6,\n",
        "    'min_child_weight': 1,\n",
        "    'subsample': 1.0,\n",
        "}\n",
        "for i in range(num_boosting_rounds):\n",
        "    residuals = y - yhat2\n",
        "    dtrain.set_label(residuals)\n",
        "    model = xgb.train(params, dtrain, num_boost_round=1)\n",
        "    new_pred = model.predict(dtrain)\n",
        "    yhat2 += new_pred\n",
        "\n",
        "## 코드1,2 비교\n",
        "diff = ((yhat - yhat2) ** 2).sum()\n",
        "print(diff)"
      ]
    },
    {
      "cell_type": "code",
      "execution_count": 86,
      "id": "7db0dc8c",
      "metadata": {},
      "outputs": [
        {
          "data": {
            "text/plain": [
              "array([28.616182, 28.616182, 28.616182, 28.616182, 28.616182, 28.616182,\n",
              "       29.738379, 29.738379, 29.738379, 29.738379, 29.738379, 29.738379,\n",
              "       29.738379, 29.738379, 29.738379, 30.033003, 30.033003, 30.033003,\n",
              "       30.033003, 30.368921, 30.368921, 30.368921, 30.368921, 30.368921,\n",
              "       30.368921, 30.368921, 30.368921, 30.368921, 30.368921, 30.721207,\n",
              "       30.974344, 30.974344, 30.974344, 30.974344, 30.974344, 31.278406,\n",
              "       31.334227, 31.334227, 31.334227, 31.375904, 31.53547 , 31.53547 ,\n",
              "       31.53547 , 31.53547 , 31.53547 , 31.53547 , 31.784866, 32.072872,\n",
              "       32.072872, 32.072872, 32.072872, 32.072872, 32.072872, 32.27553 ,\n",
              "       32.27553 , 32.27553 , 32.27553 , 32.27553 , 32.27553 , 32.27553 ,\n",
              "       32.27553 , 32.27553 , 32.27553 , 32.53609 , 33.17883 , 33.17883 ,\n",
              "       33.17883 , 33.17883 , 33.17883 , 33.658257, 33.658257, 33.658257,\n",
              "       33.658257, 33.658257, 33.658257, 33.658257, 33.658257, 33.658257,\n",
              "       33.658257, 33.658257], dtype=float32)"
            ]
          },
          "execution_count": 86,
          "metadata": {},
          "output_type": "execute_result"
        }
      ],
      "source": [
        "yhat"
      ]
    },
    {
      "cell_type": "code",
      "execution_count": 87,
      "id": "99406e32",
      "metadata": {},
      "outputs": [
        {
          "data": {
            "text/plain": [
              "array([28.60397 , 28.60397 , 28.60397 , 28.60397 , 28.60397 , 28.60397 ,\n",
              "       29.726261, 29.726261, 29.726261, 29.726261, 29.726261, 29.726261,\n",
              "       29.726261, 29.726261, 29.726261, 30.020887, 30.020887, 30.020887,\n",
              "       30.020887, 30.356789, 30.356789, 30.356789, 30.356789, 30.356789,\n",
              "       30.356789, 30.356789, 30.356789, 30.356789, 30.356789, 30.709076,\n",
              "       30.962101, 30.962101, 30.962101, 30.962101, 30.962101, 31.265715,\n",
              "       31.317732, 31.328823, 31.328823, 31.363216, 31.523256, 31.523256,\n",
              "       31.523256, 31.523256, 31.523256, 31.523256, 31.772177, 32.060776,\n",
              "       32.060776, 32.060776, 32.060776, 32.060776, 32.060776, 32.26343 ,\n",
              "       32.26343 , 32.26343 , 32.26343 , 32.26343 , 32.26343 , 32.26343 ,\n",
              "       32.26343 , 32.26343 , 32.26343 , 32.523876, 33.166615, 33.166615,\n",
              "       33.166615, 33.166615, 33.166615, 33.646122, 33.646122, 33.646122,\n",
              "       33.646122, 33.646122, 33.646122, 33.646122, 33.646122, 33.646122,\n",
              "       33.646122, 33.646122], dtype=float32)"
            ]
          },
          "execution_count": 87,
          "metadata": {},
          "output_type": "execute_result"
        }
      ],
      "source": [
        "yhat2"
      ]
    }
  ],
  "metadata": {
    "kernelspec": {
      "display_name": "Python 3 (ipykernel)",
      "language": "python",
      "name": "python3"
    },
    "language_info": {
      "codemirror_mode": {
        "name": "ipython",
        "version": 3
      },
      "file_extension": ".py",
      "mimetype": "text/x-python",
      "name": "python",
      "nbconvert_exporter": "python",
      "pygments_lexer": "ipython3",
      "version": "3.10.13"
    }
  },
  "nbformat": 4,
  "nbformat_minor": 5
}
