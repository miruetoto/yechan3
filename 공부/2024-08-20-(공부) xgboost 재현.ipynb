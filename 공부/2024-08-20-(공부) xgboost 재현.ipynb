{
  "cells": [
    {
      "cell_type": "raw",
      "id": "6ef522f7-591d-41ee-ab65-17b83834e115",
      "metadata": {},
      "source": [
        "---\n",
        "title: \"(공부) xgboost 재현\"\n",
        "author: \"신록예찬\"\n",
        "date: \"08/23/2024\"\n",
        "---"
      ]
    },
    {
      "cell_type": "markdown",
      "id": "878b303a",
      "metadata": {},
      "source": [
        "# Imports"
      ]
    },
    {
      "cell_type": "code",
      "execution_count": 1,
      "id": "91d2d18b-9be4-4a95-8547-9d77975938ea",
      "metadata": {
        "tags": []
      },
      "outputs": [],
      "source": [
        "import xgboost as xgb\n",
        "import numpy as np\n",
        "import pandas as pd\n",
        "import matplotlib.pyplot as plt\n",
        "import sklearn.tree\n",
        "#---#\n",
        "import warnings\n",
        "warnings.filterwarnings('ignore')\n",
        "#---#\n",
        "import matplotlib.animation\n",
        "import IPython"
      ]
    },
    {
      "cell_type": "markdown",
      "id": "d4b1e6ab-f68d-4fdc-bc84-2a236f027ab2",
      "metadata": {},
      "source": [
        "# Data"
      ]
    },
    {
      "cell_type": "code",
      "execution_count": 2,
      "id": "b25a21ed-2f77-49a5-855e-879ffb96a0a8",
      "metadata": {
        "tags": []
      },
      "outputs": [
        {
          "data": {
            "text/html": [
              "<div>\n",
              "<style scoped>\n",
              "    .dataframe tbody tr th:only-of-type {\n",
              "        vertical-align: middle;\n",
              "    }\n",
              "\n",
              "    .dataframe tbody tr th {\n",
              "        vertical-align: top;\n",
              "    }\n",
              "\n",
              "    .dataframe thead th {\n",
              "        text-align: right;\n",
              "    }\n",
              "</style>\n",
              "<table border=\"1\" class=\"dataframe\">\n",
              "  <thead>\n",
              "    <tr style=\"text-align: right;\">\n",
              "      <th></th>\n",
              "      <th>temp</th>\n",
              "      <th>sales</th>\n",
              "    </tr>\n",
              "  </thead>\n",
              "  <tbody>\n",
              "    <tr>\n",
              "      <th>0</th>\n",
              "      <td>-4.1</td>\n",
              "      <td>10.900261</td>\n",
              "    </tr>\n",
              "    <tr>\n",
              "      <th>1</th>\n",
              "      <td>-3.7</td>\n",
              "      <td>14.002524</td>\n",
              "    </tr>\n",
              "    <tr>\n",
              "      <th>2</th>\n",
              "      <td>-3.0</td>\n",
              "      <td>15.928335</td>\n",
              "    </tr>\n",
              "    <tr>\n",
              "      <th>3</th>\n",
              "      <td>-1.3</td>\n",
              "      <td>17.673681</td>\n",
              "    </tr>\n",
              "    <tr>\n",
              "      <th>4</th>\n",
              "      <td>-0.5</td>\n",
              "      <td>19.463362</td>\n",
              "    </tr>\n",
              "    <tr>\n",
              "      <th>...</th>\n",
              "      <td>...</td>\n",
              "      <td>...</td>\n",
              "    </tr>\n",
              "    <tr>\n",
              "      <th>75</th>\n",
              "      <td>9.7</td>\n",
              "      <td>50.813741</td>\n",
              "    </tr>\n",
              "    <tr>\n",
              "      <th>76</th>\n",
              "      <td>10.3</td>\n",
              "      <td>42.304739</td>\n",
              "    </tr>\n",
              "    <tr>\n",
              "      <th>77</th>\n",
              "      <td>10.6</td>\n",
              "      <td>45.662019</td>\n",
              "    </tr>\n",
              "    <tr>\n",
              "      <th>78</th>\n",
              "      <td>12.1</td>\n",
              "      <td>48.739157</td>\n",
              "    </tr>\n",
              "    <tr>\n",
              "      <th>79</th>\n",
              "      <td>12.4</td>\n",
              "      <td>46.007937</td>\n",
              "    </tr>\n",
              "  </tbody>\n",
              "</table>\n",
              "<p>80 rows × 2 columns</p>\n",
              "</div>"
            ],
            "text/plain": [
              "    temp      sales\n",
              "0   -4.1  10.900261\n",
              "1   -3.7  14.002524\n",
              "2   -3.0  15.928335\n",
              "3   -1.3  17.673681\n",
              "4   -0.5  19.463362\n",
              "..   ...        ...\n",
              "75   9.7  50.813741\n",
              "76  10.3  42.304739\n",
              "77  10.6  45.662019\n",
              "78  12.1  48.739157\n",
              "79  12.4  46.007937\n",
              "\n",
              "[80 rows x 2 columns]"
            ]
          },
          "execution_count": 2,
          "metadata": {},
          "output_type": "execute_result"
        }
      ],
      "source": [
        "np.random.seed(43052)\n",
        "temp = pd.read_csv('https://raw.githubusercontent.com/guebin/DV2022/master/posts/temp.csv').iloc[:,3].to_numpy()[:80]\n",
        "temp.sort()\n",
        "eps = np.random.randn(80)*3 # 오차\n",
        "icecream_sales = 20 + temp * 2.5 + eps \n",
        "df_train = pd.DataFrame({'temp':temp,'sales':icecream_sales})\n",
        "df_train"
      ]
    },
    {
      "cell_type": "markdown",
      "id": "0cee2df4-c0af-4a08-9774-a4f855ebd4ca",
      "metadata": {},
      "source": [
        "# 적합"
      ]
    },
    {
      "cell_type": "code",
      "execution_count": 3,
      "id": "58d374c4-edb4-4200-acf8-160fd26d0310",
      "metadata": {
        "tags": []
      },
      "outputs": [],
      "source": [
        "# step1 \n",
        "X = df_train[['temp']]\n",
        "y = df_train['sales']\n",
        "# step2 \n",
        "predictr = xgb.XGBRegressor()\n",
        "# step3 \n",
        "predictr.fit(X,y)\n",
        "# step4 \n",
        "yhat = predictr.predict(X) "
      ]
    },
    {
      "cell_type": "code",
      "execution_count": 4,
      "id": "2829bd4a-8d46-45a0-b569-c61b2f36842d",
      "metadata": {
        "tags": []
      },
      "outputs": [
        {
          "data": {
            "text/plain": [
              "[<matplotlib.lines.Line2D at 0x76ea5e9e99c0>]"
            ]
          },
          "execution_count": 4,
          "metadata": {},
          "output_type": "execute_result"
        },
        {
          "data": {
            "image/png": "[encoded data removed]",
            "text/plain": [
              "<Figure size 640x480 with 1 Axes>"
            ]
          },
          "metadata": {},
          "output_type": "display_data"
        }
      ],
      "source": [
        "plt.plot(X,y,'o')\n",
        "plt.plot(X,yhat,'--')"
      ]
    },
    {
      "cell_type": "markdown",
      "id": "906c35ae",
      "metadata": {},
      "source": [
        "# 수동구현"
      ]
    },
    {
      "cell_type": "code",
      "execution_count": null,
      "id": "263a7925",
      "metadata": {},
      "outputs": [],
      "source": [
        "import numpy as np\n",
        "import xgboost as xgb\n",
        "from sklearn.metrics import mean_squared_error\n",
        "\n",
        "# 데이터를 준비합니다. X_train, y_train, X_test, y_test는 이미 준비된 데이터셋으로 가정합니다.\n",
        "# 예시로 임의의 데이터를 사용할 수 있습니다.\n",
        "X_train, y_train = np.random.rand(100, 5), np.random.rand(100)\n",
        "X_test, y_test = np.random.rand(20, 5), np.random.rand(20)\n",
        "\n",
        "# 초기 예측값을 설정합니다. 보통은 y의 평균값을 사용합니다.\n",
        "y_pred = np.full(y_train.shape, np.mean(y_train))\n",
        "\n",
        "# 부스팅 라운드 수를 정의합니다.\n",
        "num_boosting_rounds = 100\n",
        "\n",
        "# 부스팅 라운드 수만큼 반복합니다.\n",
        "for i in range(num_boosting_rounds):\n",
        "    # 잔차를 계산합니다.\n",
        "    residuals = y_train - y_pred\n",
        "\n",
        "    # 새로운 모델을 잔차를 학습 데이터로 사용하여 학습시킵니다.\n",
        "    model = xgb.XGBRegressor(objective='reg:squarederror', n_estimators=1)\n",
        "    model.fit(X_train, residuals)\n",
        "\n",
        "    # 새로운 예측값을 계산합니다.\n",
        "    new_pred = model.predict(X_train)\n",
        "\n",
        "    # 학습된 예측값을 기존 예측값에 더해줍니다.\n",
        "    y_pred += new_pred\n",
        "\n",
        "    # 테스트 데이터를 사용하여 현재 모델의 성능을 평가합니다.\n",
        "    test_pred = model.predict(X_test)\n",
        "    rmse = mean_squared_error(y_test, test_pred, squared=False)\n",
        "    print(f\"Round {i + 1}, Test RMSE: {rmse:.4f}\")\n",
        "\n",
        "# 최종 모델의 성능을 평가합니다.\n",
        "final_rmse = mean_squared_error(y_test, y_pred, squared=False)\n",
        "print(f\"Final Test RMSE: {final_rmse:.4f}\")"
      ]
    }
  ],
  "metadata": {
    "kernelspec": {
      "display_name": "Python 3 (ipykernel)",
      "language": "python",
      "name": "python3"
    },
    "language_info": {
      "codemirror_mode": {
        "name": "ipython",
        "version": 3
      },
      "file_extension": ".py",
      "mimetype": "text/x-python",
      "name": "python",
      "nbconvert_exporter": "python",
      "pygments_lexer": "ipython3",
      "version": "3.10.13"
    }
  },
  "nbformat": 4,
  "nbformat_minor": 5
}
