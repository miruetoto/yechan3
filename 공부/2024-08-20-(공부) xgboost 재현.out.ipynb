{
  "cells": [
    {
      "cell_type": "markdown",
      "metadata": {},
      "source": [
        "# (공부) xgboost 재현\n",
        "\n",
        "신록예찬  \n",
        "2024-08-23\n",
        "\n",
        "# Imports"
      ],
      "id": "e2cecce3-1f30-40fb-8be6-be3122ed0c9d"
    },
    {
      "cell_type": "code",
      "execution_count": 2,
      "metadata": {
        "tags": []
      },
      "outputs": [],
      "source": [
        "import xgboost as xgb\n",
        "import numpy as np\n",
        "import pandas as pd\n",
        "import matplotlib.pyplot as plt\n",
        "import sklearn.tree\n",
        "#---#\n",
        "import warnings\n",
        "warnings.filterwarnings('ignore')\n",
        "#---#\n",
        "import matplotlib.animation\n",
        "import IPython"
      ],
      "id": "91d2d18b-9be4-4a95-8547-9d77975938ea"
    },
    {
      "cell_type": "markdown",
      "metadata": {},
      "source": [
        "# Data"
      ],
      "id": "3c94206b-b20d-4bee-96ba-70de4ef32535"
    },
    {
      "cell_type": "code",
      "execution_count": 3,
      "metadata": {
        "tags": []
      },
      "outputs": [
        {
          "output_type": "display_data",
          "metadata": {},
          "data": {
            "text/html": [
              "\n",
              "<p>80 rows × 2 columns</p>\n",
              "</div>"
            ]
          }
        }
      ],
      "source": [
        "np.random.seed(1)\n",
        "temp = pd.read_csv('https://raw.githubusercontent.com/guebin/DV2022/master/posts/temp.csv').iloc[:,3].to_numpy()[:80]\n",
        "temp.sort()\n",
        "eps = np.random.randn(80)*3 # 오차\n",
        "icecream_sales = 20 + temp * 2.5 #+ eps \n",
        "df_train = pd.DataFrame({'temp':temp,'sales':icecream_sales})\n",
        "df_train"
      ],
      "id": "b25a21ed-2f77-49a5-855e-879ffb96a0a8"
    },
    {
      "cell_type": "markdown",
      "metadata": {},
      "source": [
        "# 적합\n",
        "\n",
        "## 데이터"
      ],
      "id": "d9a7ca50-3522-4b64-8140-7d7fc9c045d6"
    },
    {
      "cell_type": "code",
      "execution_count": 11,
      "metadata": {
        "tags": []
      },
      "outputs": [],
      "source": [
        "# step1 \n",
        "X = df_train[['temp']]\n",
        "X = np.array(X).astype(np.float32)\n",
        "y = df_train['sales']\n",
        "y = np.array(y).astype(np.float32)\n"
      ],
      "id": "58d374c4-edb4-4200-acf8-160fd26d0310"
    },
    {
      "cell_type": "markdown",
      "metadata": {},
      "source": [
        "## 코드1"
      ],
      "id": "af671e78-f988-482c-998a-627349ddf32b"
    },
    {
      "cell_type": "code",
      "execution_count": 19,
      "metadata": {},
      "outputs": [],
      "source": [
        "## 코드1 \n",
        "predictr = xgb.XGBRegressor(\n",
        "    n_estimators=N,         # 부스팅 라운드 수\n",
        "    learning_rate=0.3,         # 학습률\n",
        "    max_depth=6,               # 최대 깊이\n",
        "    min_child_weight=1,        # 최소 자식 가중치\n",
        "    subsample=1.0,              # 데이터 샘플링 비율\n",
        "    tree_method='exact',\n",
        "    reg_lambda= 0.0\n",
        ")\n",
        "predictr.fit(X,y)\n",
        "yhat = predictr.predict(X) "
      ],
      "id": "263a7925"
    },
    {
      "cell_type": "markdown",
      "metadata": {},
      "source": [
        "## 코드2"
      ],
      "id": "295e9754-cc79-46c6-8a3b-0071dc609d5c"
    },
    {
      "cell_type": "code",
      "execution_count": 25,
      "metadata": {},
      "outputs": [],
      "source": [
        "## 코드2 \n",
        "yhat2 = np.full(y.shape, np.mean(y), dtype=np.float32)\n",
        "num_boosting_rounds = 100\n",
        "for i in range(num_boosting_rounds):\n",
        "    residuals = y - yhat2\n",
        "    ## 코드1 \n",
        "    predictr = xgb.XGBRegressor(\n",
        "        n_estimators=1,         # 부스팅 라운드 수\n",
        "        learning_rate=0.3,         # 학습률\n",
        "        max_depth=6,               # 최대 깊이\n",
        "        min_child_weight=1,        # 최소 자식 가중치\n",
        "        subsample=1.0,              # 데이터 샘플링 비율\n",
        "        tree_method='exact',\n",
        "        reg_lambda= 0.0\n",
        "    )\n",
        "    predictr.fit(X,residuals)\n",
        "    new_pred = predictr.predict(X) \n",
        "    yhat2 += new_pred"
      ],
      "id": "ae2fc9bb"
    },
    {
      "cell_type": "markdown",
      "metadata": {},
      "source": [
        "## 비교"
      ],
      "id": "4a0088f4-b69c-4d90-89c4-78d651bf644c"
    },
    {
      "cell_type": "code",
      "execution_count": 26,
      "metadata": {},
      "outputs": [
        {
          "output_type": "stream",
          "name": "stdout",
          "text": [
            "6.274422e-08"
          ]
        }
      ],
      "source": [
        "## 코드1,2 비교\n",
        "diff = ((yhat - yhat2) ** 2).sum()\n",
        "print(diff)"
      ],
      "id": "ec69ea5a"
    }
  ],
  "nbformat": 4,
  "nbformat_minor": 5,
  "metadata": {
    "kernelspec": {
      "name": "python3",
      "display_name": "Python 3 (ipykernel)",
      "language": "python"
    },
    "language_info": {
      "name": "python",
      "codemirror_mode": {
        "name": "ipython",
        "version": "3"
      },
      "file_extension": ".py",
      "mimetype": "text/x-python",
      "nbconvert_exporter": "python",
      "pygments_lexer": "ipython3",
      "version": "3.10.13"
    }
  }
}