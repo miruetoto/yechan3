{
  "cells": [
    {
      "cell_type": "markdown",
      "metadata": {},
      "source": [
        "# (공부) xgboost 재현\n",
        "\n",
        "신록예찬  \n",
        "2024-08-23\n",
        "\n",
        "# Imports"
      ],
      "id": "35ae1006-d9b2-4025-aca1-f8e47b9482c6"
    },
    {
      "cell_type": "code",
      "execution_count": 2,
      "metadata": {
        "tags": []
      },
      "outputs": [],
      "source": [
        "import xgboost as xgb\n",
        "import numpy as np\n",
        "import pandas as pd\n",
        "import matplotlib.pyplot as plt\n",
        "import sklearn.tree\n",
        "#---#\n",
        "import warnings\n",
        "warnings.filterwarnings('ignore')\n",
        "#---#\n",
        "import matplotlib.animation\n",
        "import IPython"
      ],
      "id": "91d2d18b-9be4-4a95-8547-9d77975938ea"
    },
    {
      "cell_type": "markdown",
      "metadata": {},
      "source": [
        "# Data"
      ],
      "id": "07354204-0baa-4641-b6cf-dd5f2dc0d9e7"
    },
    {
      "cell_type": "code",
      "execution_count": 3,
      "metadata": {
        "tags": []
      },
      "outputs": [
        {
          "output_type": "display_data",
          "metadata": {},
          "data": {
            "text/html": [
              "\n",
              "<p>80 rows × 2 columns</p>\n",
              "</div>"
            ]
          }
        }
      ],
      "source": [
        "np.random.seed(1)\n",
        "temp = pd.read_csv('https://raw.githubusercontent.com/guebin/DV2022/master/posts/temp.csv').iloc[:,3].to_numpy()[:80]\n",
        "temp.sort()\n",
        "eps = np.random.randn(80)*3 # 오차\n",
        "icecream_sales = 20 + temp * 2.5 #+ eps \n",
        "df_train = pd.DataFrame({'temp':temp,'sales':icecream_sales})\n",
        "df_train"
      ],
      "id": "b25a21ed-2f77-49a5-855e-879ffb96a0a8"
    },
    {
      "cell_type": "markdown",
      "metadata": {},
      "source": [
        "# 적합\n",
        "\n",
        "## 데이터"
      ],
      "id": "ca1a2478-5181-4756-ab6c-4ddd46528a6c"
    },
    {
      "cell_type": "code",
      "execution_count": 11,
      "metadata": {
        "tags": []
      },
      "outputs": [],
      "source": [
        "# step1 \n",
        "X = df_train[['temp']]\n",
        "X = np.array(X).astype(np.float32)\n",
        "y = df_train['sales']\n",
        "y = np.array(y).astype(np.float32)\n"
      ],
      "id": "58d374c4-edb4-4200-acf8-160fd26d0310"
    },
    {
      "cell_type": "markdown",
      "metadata": {},
      "source": [
        "## 코드1"
      ],
      "id": "19450c3f-1497-4b22-86cb-da70efad2951"
    },
    {
      "cell_type": "code",
      "execution_count": 19,
      "metadata": {},
      "outputs": [],
      "source": [
        "## 코드1 \n",
        "predictr = xgb.XGBRegressor(\n",
        "    n_estimators=N,         # 부스팅 라운드 수\n",
        "    learning_rate=0.3,         # 학습률\n",
        "    max_depth=6,               # 최대 깊이\n",
        "    min_child_weight=1,        # 최소 자식 가중치\n",
        "    subsample=1.0,              # 데이터 샘플링 비율\n",
        "    tree_method='exact',\n",
        "    reg_lambda= 0.0\n",
        ")\n",
        "predictr.fit(X,y)\n",
        "yhat = predictr.predict(X) "
      ],
      "id": "263a7925"
    },
    {
      "cell_type": "markdown",
      "metadata": {},
      "source": [
        "## 코드2"
      ],
      "id": "0e4ff084-82b4-48f3-8e21-ee203e038cfd"
    },
    {
      "cell_type": "code",
      "execution_count": 25,
      "metadata": {},
      "outputs": [],
      "source": [
        "## 코드2 \n",
        "yhat2 = np.full(y.shape, np.mean(y), dtype=np.float32)\n",
        "num_boosting_rounds = 100\n",
        "for i in range(num_boosting_rounds):\n",
        "    residuals = y - yhat2\n",
        "    ## 코드1 \n",
        "    predictr = xgb.XGBRegressor(\n",
        "        n_estimators=1,         # 부스팅 라운드 수\n",
        "        learning_rate=0.3,         # 학습률\n",
        "        max_depth=6,               # 최대 깊이\n",
        "        min_child_weight=1,        # 최소 자식 가중치\n",
        "        subsample=1.0,              # 데이터 샘플링 비율\n",
        "        tree_method='exact',\n",
        "        reg_lambda= 0.0\n",
        "    )\n",
        "    predictr.fit(X,residuals)\n",
        "    new_pred = predictr.predict(X) \n",
        "    yhat2 += new_pred"
      ],
      "id": "ae2fc9bb"
    },
    {
      "cell_type": "markdown",
      "metadata": {},
      "source": [
        "## 비교"
      ],
      "id": "6aa58140-4092-4741-883f-18e4b8cadaf7"
    },
    {
      "cell_type": "code",
      "execution_count": 26,
      "metadata": {},
      "outputs": [
        {
          "output_type": "stream",
          "name": "stdout",
          "text": [
            "6.274422e-08"
          ]
        }
      ],
      "source": [
        "## 코드1,2 비교\n",
        "diff = ((yhat - yhat2) ** 2).sum()\n",
        "print(diff)"
      ],
      "id": "ec69ea5a"
    }
  ],
  "nbformat": 4,
  "nbformat_minor": 5,
  "metadata": {
    "kernelspec": {
      "name": "python3",
      "display_name": "Python 3 (ipykernel)",
      "language": "python"
    },
    "language_info": {
      "name": "python",
      "codemirror_mode": {
        "name": "ipython",
        "version": "3"
      },
      "file_extension": ".py",
      "mimetype": "text/x-python",
      "nbconvert_exporter": "python",
      "pygments_lexer": "ipython3",
      "version": "3.10.13"
    }
  }
}