{
  "cells": [
    {
      "cell_type": "markdown",
      "metadata": {},
      "source": [
        "# \n",
        "\n",
        "$(100,200] \\subset \\bigcup_{k=1}^{\\infty}(150-k,150+k]$\n",
        "\n",
        "-   $\\lambda((149,151+\\frac{1}{4}) = \\lambda((149,151]) + \\frac{1}{4}$\n",
        "-   $\\lambda((148,152+\\frac{1}{8}]) = \\lambda((148,152]) + \\frac{1}{8}$\n",
        "-   $\\dots$\n",
        "\n",
        "$$[100+\\frac{1}{2},200] \\subset (100,200] \\subset \\bigcup_{k=1}^{\\infty}(150-k, 150+k] \\subset \\bigcup_{k=1}^{\\infty}(150-k, 150+k+\\frac{1}{2^{k+1}}]$$"
      ],
      "id": "37095ae6-160b-4bdc-86be-d9b24c1a1778"
    }
  ],
  "nbformat": 4,
  "nbformat_minor": 5,
  "metadata": {
    "kernelspec": {
      "name": "python3",
      "display_name": "Python 3 (ipykernel)",
      "language": "python"
    },
    "language_info": {
      "name": "python",
      "codemirror_mode": {
        "name": "ipython",
        "version": "3"
      },
      "file_extension": ".py",
      "mimetype": "text/x-python",
      "nbconvert_exporter": "python",
      "pygments_lexer": "ipython3",
      "version": "3.12.5"
    }
  }
}