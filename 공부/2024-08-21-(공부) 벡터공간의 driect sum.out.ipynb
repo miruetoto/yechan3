{
  "cells": [
    {
      "cell_type": "markdown",
      "metadata": {},
      "source": [
        "# (공부) xgboost 재현\n",
        "\n",
        "최규빈  \n",
        "2024-08-21\n",
        "\n",
        "asdf"
      ],
      "id": "b45a6895-c733-4c4e-8a33-b2a6998a67cd"
    }
  ],
  "nbformat": 4,
  "nbformat_minor": 5,
  "metadata": {
    "kernelspec": {
      "name": "python3",
      "display_name": "Python 3",
      "language": "python"
    },
    "language_info": {
      "name": "python"
    }
  }
}